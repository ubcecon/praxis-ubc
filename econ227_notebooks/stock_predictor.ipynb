{
 "cells": [
  {
   "cell_type": "markdown",
   "metadata": {
    "id": "TwlRqOpdZhd-"
   },
   "source": [
    "# Predicting Stock Prices from News Headlines with AI\n",
    "\n",
    "\n",
    "\n",
    "This notebook helps you explore how **language models** can analyze real-world news headlines to predict changes in stock prices.\n",
    "\n",
    "You’ll:\n",
    "- Collect news headlines about real companies (like Starbucks or Apple)\n",
    "- Use a pre-trained AI model to classify the **sentiment** (positive or negative) of these news headlines\n",
    "- Combine that with stock prices\n",
    "- Use a forecasting model to predict future price changes\n",
    "- Visualize your results interactively\n",
    "\n"
   ]
  },
  {
   "cell_type": "code",
   "execution_count": null,
   "metadata": {
    "colab": {
     "base_uri": "https://localhost:8080/"
    },
    "id": "1UpJkgaxbD7r",
    "outputId": "bdfecc62-520b-4996-d07f-beee01e3fd4e"
   },
   "outputs": [],
   "source": [
    "pip install yfinance finvizfinance transformers pandas numpy statsmodels holidays plotly ipywidgets\n"
   ]
  },
  {
   "cell_type": "code",
   "execution_count": null,
   "metadata": {
    "id": "pWp_o0ZhUQlw"
   },
   "outputs": [],
   "source": [
    "import yfinance as yf\n",
    "from finvizfinance.quote import finvizfinance\n",
    "from transformers import pipeline\n",
    "import pandas as pd\n",
    "import numpy as np\n",
    "from statsmodels.tsa.statespace.sarimax import SARIMAX\n",
    "import pandas as pd\n",
    "import holidays\n",
    "import plotly.graph_objects as go\n",
    "import numpy as np\n",
    "import ipywidgets as widgets\n",
    "from IPython.display import display, clear_output\n",
    "\n"
   ]
  },
  {
   "cell_type": "code",
   "execution_count": null,
   "metadata": {},
   "outputs": [],
   "source": [
    "classifier = pipeline(\"sentiment-analysis\", model=\"cardiffnlp/twitter-roberta-base-sentiment-latest\", device=-1)"
   ]
  },
  {
   "cell_type": "markdown",
   "metadata": {
    "id": "Ss-Uk1jSaU9X"
   },
   "source": [
    "This uses the yfinance and finvizfinance packages to retrive real-time news data !"
   ]
  },
  {
   "cell_type": "code",
   "execution_count": null,
   "metadata": {
    "id": "Z5HeMRElUUO5"
   },
   "outputs": [],
   "source": [
    "\n",
    "def get_news_data(ticker):\n",
    "    stock = finvizfinance(ticker)\n",
    "    news_df = stock.ticker_news()\n",
    "    news_df = pd.DataFrame(news_df)\n",
    "\n",
    "    # Drop NaN and clean whitespace\n",
    "    news_df = news_df.dropna(subset=[\"Title\"])\n",
    "    news_df = news_df[news_df[\"Title\"].str.strip() != \"\"]\n",
    "    news_df['Title'] = news_df['Title'].str.lower()\n",
    "    news_df['Date'] = pd.to_datetime(news_df['Date'])\n",
    "    news_df['DateOnly'] = news_df['Date'].dt.date\n",
    "\n",
    "    return news_df.reset_index(drop=True)\n",
    "\n",
    "\n"
   ]
  },
  {
   "cell_type": "markdown",
   "metadata": {
    "id": "HPcyHHLxa61V"
   },
   "source": [
    "## Preview the News Data\n",
    "\n",
    "Let’s look at what the cleaned news data looks like. We’ll start with a company like Starbucks (`SBUX`).\n",
    "\n",
    "Each row is a headline, and we’ve cleaned it to keep only useful info like the title and date.\n"
   ]
  },
  {
   "cell_type": "code",
   "execution_count": null,
   "metadata": {
    "colab": {
     "base_uri": "https://localhost:8080/",
     "height": 206
    },
    "id": "aDRATXztaidr",
    "outputId": "2845c583-f1a8-4982-ce4b-5fa502f40a8f"
   },
   "outputs": [],
   "source": [
    "# Example: Preview the news data for a specific company (e.g., Starbucks)\n",
    "ticker = \"SBUX\"\n",
    "news_df = get_news_data(ticker)\n",
    "\n",
    "# Show the first 5 rows\n",
    "news_df.head()\n"
   ]
  },
  {
   "cell_type": "markdown",
   "metadata": {
    "id": "dcsyavsnbmdt"
   },
   "source": [
    "## Classifying Headline Sentiment with LLM\n",
    "\n",
    "We now apply a pre-trained **large language model** to each headline.\n",
    "\n",
    "It returns:\n",
    "- `POSITIVE` — news that sounds good (e.g., “profits surge”)\n",
    "- `NEGATIVE` — news that sounds bad (e.g., “lawsuit filed”)\n",
    "\n",
    "We skip `NEUTRAL` news to focus on strong market signals.\n",
    "\n",
    "This uses Hugging Face’s `pipeline()` to load a model called **DistilBERT** that’s been trained on movie reviews, but works surprisingly well on financial headlines too!\n"
   ]
  },
  {
   "cell_type": "code",
   "execution_count": null,
   "metadata": {
    "colab": {
     "base_uri": "https://localhost:8080/",
     "height": 321,
     "referenced_widgets": [
      "ae187b8c195b4c05a19f8f2d6fc7e4de",
      "134951f84ba64f99af75c40c68eacdb1",
      "70729c351dee4be1b7802133b67ab3a7",
      "b24f6d8672af440b80c20a222b2cc471",
      "f86eb9c4f8f146748c75ff68b243f70a",
      "6404d32052624ff3968bf7e0f62f6197",
      "79c6ca4394884178aa1c1a8236824a88",
      "933c8f2579a14270838b319693c7b5ef",
      "f647fc4430e748449e3f852ae7ac0101",
      "c0228a69c160473682c7fc2a70641499",
      "7f29b31c55b74173af31fc47d5ca224c",
      "6ce7699be6014cc3a68af0a8a688fb12",
      "78b7d2ee64174de2acc17158bd9cb01f",
      "ac2d63ad369842c29c8cb03137501a98",
      "b1e1a54fd4ba4595b9881bf08167f263",
      "171c476bda9d4339ad849d5c43065937",
      "3ab721856bf74648a4824b6caaab989d",
      "266a88b52dc84f8aa28f912a23df50e2",
      "e89dc0000f6244089e865b6a40d2a692",
      "6e33847553704e43a5a1b0af2e0bfd62",
      "b7f205839bd7409c8440314c849d5991",
      "be4acb937af846ce8c1bc2eca74bd22b",
      "c71d4c4a24df40259accdd76c38ce894",
      "7d2ac80d28a64f5e812f32386178652e",
      "3963d2fbe437413a90201aa7c0e64408",
      "3c313f3952b042bd932cac021ddb9c43",
      "d6b42a5fcb0c408297f5e608f8ffd207",
      "d3eb8874b3ef4bf494271ba8def43045",
      "a0977a355c25431f838421ce6c66be6e",
      "fa29078ee51b4319aa72574286d84436",
      "a3d0a16e680f4abc88d17a496c6d5454",
      "d87ae513b12d469eb522f85b1a903162",
      "65c9573201be4a74bf73b4b613901da4",
      "188aa432fb92416fa16b601c3c57416b",
      "d99e9d7663e14f1fbc0c063a3c842a12",
      "bd9f73d589424eb1b2cfca4a8ac4eeec",
      "09bb541dcc8c4b3ea79a476fe2d117c5",
      "2854e34fb73e42298a420486c10e72d4",
      "b8299f464a0b4b3a8df4ba2b635d3cca",
      "2b6fd14b6f4c420383ce01b64c27a1cd",
      "7a36db7eea20422d84efe570804f48cc",
      "9f5d0bbe03f24a3ba5c026f43701e1fb",
      "78639d4c8681413e9381aba497838923",
      "dc8c1e13f365450fa576033668e10a2a"
     ]
    },
    "id": "C2Pn9EmOUWeM",
    "outputId": "a9055fcb-e983-4ceb-e323-540b33f44c8f"
   },
   "outputs": [],
   "source": [
    "# classifier = pipeline(\"sentiment-analysis\")\n",
    "\n",
    "def classify_sentiment(text):\n",
    "    return classifier(text)[0][\"label\"].upper()\n",
    "\n",
    "def apply_sentiment(news_df):\n",
    "    news_df[\"Sentiment\"] = news_df[\"Title\"].apply(classify_sentiment)\n",
    "    return news_df[news_df[\"Sentiment\"] != \"NEUTRAL\"]\n"
   ]
  },
  {
   "cell_type": "code",
   "execution_count": null,
   "metadata": {
    "id": "RIjsGjPtUYZf"
   },
   "outputs": [],
   "source": [
    "def process_sentiment(news_df):\n",
    "    grouped = news_df.groupby([\"DateOnly\", \"Sentiment\"]).size().unstack(fill_value=0)\n",
    "    grouped = grouped.reindex(columns=[\"POSITIVE\", \"NEGATIVE\"], fill_value=0)\n",
    "\n",
    "    grouped[\"7day_avg_positive\"] = grouped[\"POSITIVE\"].rolling(window=7, min_periods=1).sum()\n",
    "    grouped[\"7day_avg_negative\"] = grouped[\"NEGATIVE\"].rolling(window=7, min_periods=1).sum()\n",
    "    grouped[\"7day_pct_positive\"] = grouped[\"POSITIVE\"] / (grouped[\"POSITIVE\"] + grouped[\"NEGATIVE\"])\n",
    "\n",
    "    return grouped.reset_index()\n"
   ]
  },
  {
   "cell_type": "code",
   "execution_count": null,
   "metadata": {
    "colab": {
     "base_uri": "https://localhost:8080/",
     "height": 206
    },
    "id": "M94zYLQ8cAVH",
    "outputId": "2ddb7a1a-d76b-43fa-d54b-262e2c159160"
   },
   "outputs": [],
   "source": [
    "news_df = get_news_data(\"AAPL\")            # Step 1: Get news data\n",
    "news_df = apply_sentiment(news_df)         # Step 2: Classify sentiment\n",
    "sentiment_df = process_sentiment(news_df)  # Step 3: Process sentiment stats\n",
    "sentiment_df.head(5)\n"
   ]
  },
  {
   "cell_type": "markdown",
   "metadata": {
    "id": "BKS7_BI1cd-P"
   },
   "source": [
    "## Understanding the Sentiment Data Table\n",
    "\n",
    "This table summarizes how **news sentiment** changes over time for a particular stock (e.g., AAPL), using headlines pulled from financial news.\n",
    "\n",
    "| Column                | What it means                                                                 |\n",
    "|-----------------------|------------------------------------------------------------------------------|\n",
    "| `DateOnly`            | The specific date of the news                                                |\n",
    "| `POSITIVE`            | Number of news headlines that had **positive** sentiment on that day        |\n",
    "| `NEGATIVE`            | Number of headlines that had **negative** sentiment that day                |\n",
    "| `7day_avg_positive`   | Rolling 7-day **sum** of positive headlines (used to smooth out day-to-day spikes) |\n",
    "| `7day_avg_negative`   | Rolling 7-day **sum** of negative headlines                                  |\n",
    "| `7day_pct_positive`   | Percentage of headlines that were positive in the last 7 days:<br>  \n",
    "\\[\n",
    "\\frac{\\text{Positive}}{\\text{Positive} + \\text{Negative}}\n",
    "\\]\n",
    "\n",
    "---\n",
    "\n",
    "###  Why is this useful?\n",
    "\n",
    "- If the `7day_pct_positive` is rising, the **overall tone of news** is getting more optimistic.\n",
    "- If it's dropping, it could mean **public or investor concern** is growing.\n",
    "- We can later **plot this** and compare it against stock price to see if sentiment influences market behavior.\n"
   ]
  },
  {
   "cell_type": "code",
   "execution_count": null,
   "metadata": {
    "id": "PCOX6j-yUhVa"
   },
   "outputs": [],
   "source": [
    "# downloads historical stock prices and calculates daily percentage change in closing price\n",
    "\n",
    "def get_stock_data(ticker, start, end):\n",
    "    stock = yf.download(ticker, start=start, end=end)\n",
    "\n",
    "    # Check if columns are MultiIndex (only happens with multiple tickers)\n",
    "    if isinstance(stock.columns, pd.MultiIndex):\n",
    "        stock.columns = ['_'.join(col).strip() for col in stock.columns]\n",
    "\n",
    "        # Adjust close column name accordingly\n",
    "        close_col = f\"Close_{ticker}\"\n",
    "    else:\n",
    "        close_col = \"Close\"\n",
    "\n",
    "    stock[\"Pct_Change\"] = stock[close_col].pct_change() * 100\n",
    "    stock.reset_index(inplace=True)\n",
    "    stock[\"DateOnly\"] = stock[\"Date\"].dt.date\n",
    "    return stock[[\"DateOnly\", \"Pct_Change\"]]\n",
    "\n"
   ]
  },
  {
   "cell_type": "code",
   "execution_count": null,
   "metadata": {
    "colab": {
     "base_uri": "https://localhost:8080/"
    },
    "id": "MZYxZMFsVSve",
    "outputId": "62c0e192-687a-4617-9720-801bfa01f2ec"
   },
   "outputs": [],
   "source": [
    "# print(\"sent_df index:\", sent_df.index)\n",
    "# print(\"stock_df index:\", stock_df.index)\n",
    "\n",
    "# print(\"\\nSENT_DF COLUMNS:\")\n",
    "# print(sent_df.columns)\n",
    "\n",
    "# print(\"\\nSTOCK_DF COLUMNS:\")\n",
    "# print(stock_df.columns)\n",
    "\n",
    "# print(\"\\nSENT_DF HEAD:\")\n",
    "# print(sent_df.head())\n",
    "\n",
    "# print(\"\\nSTOCK_DF HEAD:\")\n",
    "# print(stock_df.head())\n"
   ]
  },
  {
   "cell_type": "code",
   "execution_count": null,
   "metadata": {
    "id": "pHyqrXVnUiiF"
   },
   "outputs": [],
   "source": [
    "# merges sentiment and stock data by date, and lags sentiment by one day to align with price changes.\n",
    "def combine_data(sent_df, stock_df):\n",
    "    sent_df = sent_df.reset_index(drop=True)\n",
    "    stock_df = stock_df.reset_index(drop=True)\n",
    "    return (\n",
    "        pd.merge(sent_df, stock_df, on=\"DateOnly\", how=\"inner\")\n",
    "          .assign(lagged_sentiment=lambda df: df[\"7day_pct_positive\"].shift(1))\n",
    "    )\n",
    "\n"
   ]
  },
  {
   "cell_type": "code",
   "execution_count": null,
   "metadata": {
    "id": "5sMOC4xdd_FS"
   },
   "outputs": [],
   "source": [
    "def compute_corr(df):\n",
    "    \"\"\"\n",
    "    Computes correlation between lagged sentiment and stock % change.\n",
    "    \"\"\"\n",
    "    return df[[\"lagged_sentiment\", \"Pct_Change\"]].corr().iloc[0, 1]\n"
   ]
  },
  {
   "cell_type": "code",
   "execution_count": null,
   "metadata": {
    "colab": {
     "base_uri": "https://localhost:8080/"
    },
    "id": "qK60OboBUq2d",
    "outputId": "e1fee98a-a128-4ffa-9e5b-ca13dd81725d"
   },
   "outputs": [],
   "source": [
    "ticker = \"SBUX\"\n",
    "\n",
    "news = get_news_data(ticker)\n",
    "news = apply_sentiment(news)\n",
    "sent_df = process_sentiment(news)\n",
    "\n",
    "start_date = sent_df[\"DateOnly\"].min()\n",
    "end_date = sent_df[\"DateOnly\"].max()\n",
    "\n",
    "stock_df = get_stock_data(ticker, start_date, end_date)\n",
    "\n",
    "combined_df = combine_data(sent_df, stock_df)\n",
    "\n",
    "corr = compute_corr(combined_df)\n",
    "print(\"Correlation between lagged sentiment and % stock change:\", corr)\n"
   ]
  },
  {
   "cell_type": "code",
   "execution_count": null,
   "metadata": {
    "id": "SN-5eSRjUtf0"
   },
   "outputs": [],
   "source": [
    "def get_future_dates(start_date, num_days):\n",
    "    if not isinstance(start_date, pd.Timestamp):\n",
    "        start_date = pd.to_datetime(start_date)\n",
    "\n",
    "    us_holidays = holidays.US()\n",
    "    future_dates = []\n",
    "    current_date = start_date + pd.Timedelta(days=1)\n",
    "\n",
    "    while len(future_dates) < num_days:\n",
    "        if current_date.weekday() < 5 and current_date.date() not in us_holidays:\n",
    "            future_dates.append(current_date)\n",
    "        current_date += pd.Timedelta(days=1)\n",
    "\n",
    "    return future_dates\n",
    "\n",
    "\n",
    "def fit_and_forecast(combined_df, forecast_steps=3):\n",
    "    combined_df = combined_df.dropna(subset=['Pct_Change', 'lagged_sentiment'])\n",
    "\n",
    "    endog = combined_df['Pct_Change']\n",
    "    exog = combined_df['lagged_sentiment']\n",
    "\n",
    "    model = SARIMAX(endog, exog=exog, order=(1, 1, 1))\n",
    "    fit = model.fit(disp=False)\n",
    "\n",
    "    future_dates = get_future_dates(combined_df.index[-1], forecast_steps)\n",
    "    future_exog = np.tile(combined_df['lagged_sentiment'].iloc[-1], forecast_steps).reshape(-1, 1)\n",
    "\n",
    "    forecast = fit.get_forecast(steps=forecast_steps, exog=future_exog)\n",
    "    return forecast.predicted_mean, forecast.conf_int(), future_dates\n",
    "\n"
   ]
  },
  {
   "cell_type": "code",
   "execution_count": null,
   "metadata": {
    "id": "WrVLkZ9AWBYU"
   },
   "outputs": [],
   "source": [
    "def create_plot(combined_df, forecast_mean, forecast_ci, forecast_index):\n",
    "    combined_df = combined_df.copy()\n",
    "    sentiment_std = (combined_df['lagged_sentiment'] - combined_df['lagged_sentiment'].mean()) / combined_df['lagged_sentiment'].std()\n",
    "\n",
    "    fig = go.Figure()\n",
    "\n",
    "    fig.add_trace(go.Scatter(\n",
    "        x=combined_df.index,\n",
    "        y=sentiment_std,\n",
    "        name='Standardized Sentiment',\n",
    "        line=dict(color='blue')\n",
    "    ))\n",
    "\n",
    "    fig.add_trace(go.Scatter(\n",
    "        x=combined_df.index,\n",
    "        y=combined_df['Pct_Change'],\n",
    "        name='Stock % Change',\n",
    "        yaxis='y2',\n",
    "        line=dict(color='green')\n",
    "    ))\n",
    "\n",
    "    fig.add_trace(go.Scatter(\n",
    "        x=forecast_index,\n",
    "        y=forecast_mean,\n",
    "        name='Forecasted % Change',\n",
    "        line=dict(color='red')\n",
    "    ))\n",
    "\n",
    "    fig.add_trace(go.Scatter(\n",
    "        x=np.concatenate([forecast_index, forecast_index[::-1]]),\n",
    "        y=np.concatenate([forecast_ci.iloc[:, 0], forecast_ci.iloc[:, 1][::-1]]),\n",
    "        fill='toself',\n",
    "        fillcolor='rgba(255,0,0,0.2)',\n",
    "        line=dict(color='rgba(255,255,255,0)'),\n",
    "        hoverinfo=\"skip\",\n",
    "        showlegend=False\n",
    "    ))\n",
    "\n",
    "    # ✅ FIXED titlefont (use inside `title` object)\n",
    "    fig.update_layout(\n",
    "        title='Sentiment vs Stock Change Forecast',\n",
    "        xaxis_title='Date',\n",
    "        yaxis=dict(\n",
    "            title=dict(text='Standardized Sentiment', font=dict(color='blue'))\n",
    "        ),\n",
    "        yaxis2=dict(\n",
    "            title=dict(text='Stock % Change', font=dict(color='green')),\n",
    "            overlaying='y',\n",
    "            side='right'\n",
    "        ),\n",
    "        template='plotly_dark'\n",
    "    )\n",
    "\n",
    "    fig.show()\n"
   ]
  },
  {
   "cell_type": "code",
   "execution_count": null,
   "metadata": {
    "id": "DHfpbAsIWQr_"
   },
   "outputs": [],
   "source": [
    "combined_df['DateOnly'] = pd.to_datetime(combined_df['DateOnly'])  # convert to datetime\n",
    "combined_df.set_index('DateOnly', inplace=True)  # use as index\n",
    "combined_df.sort_index(inplace=True)  # ensure time order\n",
    "\n",
    "\n"
   ]
  },
  {
   "cell_type": "markdown",
   "metadata": {
    "id": "dYVeLmQpegh9"
   },
   "source": [
    "### Plot: Sentiment vs Stock % Change Forecast\n",
    "\n",
    "This chart shows how **news sentiment** about a company relates to its **stock price changes** over time, and how we can use this relationship to make simple predictions.\n",
    "\n",
    "- The **blue line** shows the standardized 7-day average of positive sentiment extracted from financial news headlines. A higher value means news sentiment was more positive.\n",
    "- The **green line** shows the actual daily percentage change in the company’s stock price.\n",
    "- The **red line** shows our simple **forecast** of future stock movement based on past sentiment trends. The shaded red area represents uncertainty around the forecast (a 95% confidence interval).\n",
    "\n",
    "We want to see whether the **emotions in the news** (blue) can help us **predict price changes** (green and red). If they move together, it suggests that public mood might influence investor behavior.\n",
    "\n",
    "> This kind of plot helps us visualize correlations and test basic forecasting using real-world data like stock prices and media sentiment.\n"
   ]
  },
  {
   "cell_type": "code",
   "execution_count": null,
   "metadata": {
    "colab": {
     "base_uri": "https://localhost:8080/",
     "height": 820
    },
    "id": "3P21ZO9mWHp4",
    "outputId": "da277a09-874a-40a6-87d9-56a8b9f2571f"
   },
   "outputs": [],
   "source": [
    "forecast_mean, forecast_ci, forecast_index = fit_and_forecast(combined_df)\n",
    "create_plot(combined_df, forecast_mean, forecast_ci, forecast_index)\n"
   ]
  },
  {
   "cell_type": "markdown",
   "metadata": {
    "id": "4ylbAyOqev_-"
   },
   "source": [
    ">  **Disclaimer**: This is a simplified model. In reality, stock prices are influenced by many factors, such as interest rates, earnings reports, geopolitical events, and investor speculation. This chart only considers **one variable**: news sentiment. It should not be used for actual trading decisions."
   ]
  },
  {
   "cell_type": "markdown",
   "metadata": {},
   "source": []
  }
 ],
 "metadata": {
  "colab": {
   "provenance": []
  },
  "kernelspec": {
   "display_name": "Python 3",
   "name": "python3"
  },
  "language_info": {
   "codemirror_mode": {
    "name": "ipython",
    "version": 3
   },
   "file_extension": ".py",
   "mimetype": "text/x-python",
   "name": "python",
   "nbconvert_exporter": "python",
   "pygments_lexer": "ipython3",
   "version": "3.12.9"
  }
 },
 "nbformat": 4,
 "nbformat_minor": 0
}
