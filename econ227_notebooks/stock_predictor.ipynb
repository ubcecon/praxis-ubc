{
  "cells": [
    {
      "cell_type": "markdown",
      "metadata": {
        "id": "TwlRqOpdZhd-"
      },
      "source": [
        "# Predicting Stock Prices from News Headlines with AI\n",
        "\n",
        "\n",
        "\n",
        "This notebook helps you explore how **language models** can analyze real-world news headlines to predict changes in stock prices.\n",
        "\n",
        "You’ll:\n",
        "- Collect news headlines about real companies (like Starbucks or Apple)\n",
        "- Use a pre-trained AI model to classify the **sentiment** (positive or negative) of these news headlines\n",
        "- Combine that with stock prices\n",
        "- Use a forecasting model to predict future price changes\n",
        "- Visualize your results interactively\n",
        "\n"
      ]
    },
    {
      "cell_type": "code",
      "execution_count": 111,
      "metadata": {
        "colab": {
          "base_uri": "https://localhost:8080/"
        },
        "collapsed": true,
        "id": "1UpJkgaxbD7r",
        "outputId": "bdfecc62-520b-4996-d07f-beee01e3fd4e"
      },
      "outputs": [
        {
          "name": "stdout",
          "output_type": "stream",
          "text": [
            "Requirement already satisfied: yfinance in /opt/anaconda3/envs/new/lib/python3.12/site-packages (0.2.65)\n",
            "Requirement already satisfied: finvizfinance in /opt/anaconda3/envs/new/lib/python3.12/site-packages (1.1.1)\n",
            "Requirement already satisfied: transformers in /opt/anaconda3/envs/new/lib/python3.12/site-packages (4.49.0)\n",
            "Requirement already satisfied: pandas in /opt/anaconda3/envs/new/lib/python3.12/site-packages (2.2.3)\n",
            "Requirement already satisfied: numpy in /opt/anaconda3/envs/new/lib/python3.12/site-packages (2.1.3)\n",
            "Requirement already satisfied: statsmodels in /opt/anaconda3/envs/new/lib/python3.12/site-packages (0.14.5)\n",
            "Requirement already satisfied: holidays in /opt/anaconda3/envs/new/lib/python3.12/site-packages (0.76)\n",
            "Requirement already satisfied: plotly in /opt/anaconda3/envs/new/lib/python3.12/site-packages (6.2.0)\n",
            "Requirement already satisfied: ipywidgets in /opt/anaconda3/envs/new/lib/python3.12/site-packages (8.1.5)\n",
            "Requirement already satisfied: requests>=2.31 in /opt/anaconda3/envs/new/lib/python3.12/site-packages (from yfinance) (2.32.3)\n",
            "Requirement already satisfied: multitasking>=0.0.7 in /opt/anaconda3/envs/new/lib/python3.12/site-packages (from yfinance) (0.0.11)\n",
            "Requirement already satisfied: platformdirs>=2.0.0 in /opt/anaconda3/envs/new/lib/python3.12/site-packages (from yfinance) (3.10.0)\n",
            "Requirement already satisfied: pytz>=2022.5 in /opt/anaconda3/envs/new/lib/python3.12/site-packages (from yfinance) (2024.1)\n",
            "Requirement already satisfied: frozendict>=2.3.4 in /opt/anaconda3/envs/new/lib/python3.12/site-packages (from yfinance) (2.4.6)\n",
            "Requirement already satisfied: peewee>=3.16.2 in /opt/anaconda3/envs/new/lib/python3.12/site-packages (from yfinance) (3.18.2)\n",
            "Requirement already satisfied: beautifulsoup4>=4.11.1 in /opt/anaconda3/envs/new/lib/python3.12/site-packages (from yfinance) (4.12.3)\n",
            "Requirement already satisfied: curl_cffi>=0.7 in /opt/anaconda3/envs/new/lib/python3.12/site-packages (from yfinance) (0.12.0)\n",
            "Requirement already satisfied: protobuf>=3.19.0 in /opt/anaconda3/envs/new/lib/python3.12/site-packages (from yfinance) (4.25.3)\n",
            "Requirement already satisfied: websockets>=13.0 in /opt/anaconda3/envs/new/lib/python3.12/site-packages (from yfinance) (15.0.1)\n",
            "Requirement already satisfied: lxml in /opt/anaconda3/envs/new/lib/python3.12/site-packages (from finvizfinance) (6.0.0)\n",
            "Requirement already satisfied: filelock in /opt/anaconda3/envs/new/lib/python3.12/site-packages (from transformers) (3.13.1)\n",
            "Requirement already satisfied: huggingface-hub<1.0,>=0.26.0 in /opt/anaconda3/envs/new/lib/python3.12/site-packages (from transformers) (0.29.2)\n",
            "Requirement already satisfied: packaging>=20.0 in /opt/anaconda3/envs/new/lib/python3.12/site-packages (from transformers) (24.2)\n",
            "Requirement already satisfied: pyyaml>=5.1 in /opt/anaconda3/envs/new/lib/python3.12/site-packages (from transformers) (6.0.2)\n",
            "Requirement already satisfied: regex!=2019.12.17 in /opt/anaconda3/envs/new/lib/python3.12/site-packages (from transformers) (2024.11.6)\n",
            "Requirement already satisfied: tokenizers<0.22,>=0.21 in /opt/anaconda3/envs/new/lib/python3.12/site-packages (from transformers) (0.21.0)\n",
            "Requirement already satisfied: safetensors>=0.4.1 in /opt/anaconda3/envs/new/lib/python3.12/site-packages (from transformers) (0.5.3)\n",
            "Requirement already satisfied: tqdm>=4.27 in /opt/anaconda3/envs/new/lib/python3.12/site-packages (from transformers) (4.67.1)\n",
            "Requirement already satisfied: python-dateutil>=2.8.2 in /opt/anaconda3/envs/new/lib/python3.12/site-packages (from pandas) (2.9.0.post0)\n",
            "Requirement already satisfied: tzdata>=2022.7 in /opt/anaconda3/envs/new/lib/python3.12/site-packages (from pandas) (2023.3)\n",
            "Requirement already satisfied: scipy!=1.9.2,>=1.8 in /opt/anaconda3/envs/new/lib/python3.12/site-packages (from statsmodels) (1.15.2)\n",
            "Requirement already satisfied: patsy>=0.5.6 in /opt/anaconda3/envs/new/lib/python3.12/site-packages (from statsmodels) (1.0.1)\n",
            "Requirement already satisfied: narwhals>=1.15.1 in /opt/anaconda3/envs/new/lib/python3.12/site-packages (from plotly) (1.47.0)\n",
            "Requirement already satisfied: comm>=0.1.3 in /opt/anaconda3/envs/new/lib/python3.12/site-packages (from ipywidgets) (0.2.1)\n",
            "Requirement already satisfied: ipython>=6.1.0 in /opt/anaconda3/envs/new/lib/python3.12/site-packages (from ipywidgets) (8.30.0)\n",
            "Requirement already satisfied: traitlets>=4.3.1 in /opt/anaconda3/envs/new/lib/python3.12/site-packages (from ipywidgets) (5.14.3)\n",
            "Requirement already satisfied: widgetsnbextension~=4.0.12 in /opt/anaconda3/envs/new/lib/python3.12/site-packages (from ipywidgets) (4.0.13)\n",
            "Requirement already satisfied: jupyterlab-widgets~=3.0.12 in /opt/anaconda3/envs/new/lib/python3.12/site-packages (from ipywidgets) (3.0.13)\n",
            "Requirement already satisfied: soupsieve>1.2 in /opt/anaconda3/envs/new/lib/python3.12/site-packages (from beautifulsoup4>=4.11.1->yfinance) (2.5)\n",
            "Requirement already satisfied: cffi>=1.12.0 in /opt/anaconda3/envs/new/lib/python3.12/site-packages (from curl_cffi>=0.7->yfinance) (1.17.1)\n",
            "Requirement already satisfied: certifi>=2024.2.2 in /opt/anaconda3/envs/new/lib/python3.12/site-packages (from curl_cffi>=0.7->yfinance) (2025.1.31)\n",
            "Requirement already satisfied: fsspec>=2023.5.0 in /opt/anaconda3/envs/new/lib/python3.12/site-packages (from huggingface-hub<1.0,>=0.26.0->transformers) (2024.12.0)\n",
            "Requirement already satisfied: typing-extensions>=3.7.4.3 in /opt/anaconda3/envs/new/lib/python3.12/site-packages (from huggingface-hub<1.0,>=0.26.0->transformers) (4.12.2)\n",
            "Requirement already satisfied: decorator in /opt/anaconda3/envs/new/lib/python3.12/site-packages (from ipython>=6.1.0->ipywidgets) (5.1.1)\n",
            "Requirement already satisfied: jedi>=0.16 in /opt/anaconda3/envs/new/lib/python3.12/site-packages (from ipython>=6.1.0->ipywidgets) (0.19.2)\n",
            "Requirement already satisfied: matplotlib-inline in /opt/anaconda3/envs/new/lib/python3.12/site-packages (from ipython>=6.1.0->ipywidgets) (0.1.6)\n",
            "Requirement already satisfied: prompt-toolkit<3.1.0,>=3.0.41 in /opt/anaconda3/envs/new/lib/python3.12/site-packages (from ipython>=6.1.0->ipywidgets) (3.0.43)\n",
            "Requirement already satisfied: pygments>=2.4.0 in /opt/anaconda3/envs/new/lib/python3.12/site-packages (from ipython>=6.1.0->ipywidgets) (2.15.1)\n",
            "Requirement already satisfied: stack-data in /opt/anaconda3/envs/new/lib/python3.12/site-packages (from ipython>=6.1.0->ipywidgets) (0.2.0)\n",
            "Requirement already satisfied: pexpect>4.3 in /opt/anaconda3/envs/new/lib/python3.12/site-packages (from ipython>=6.1.0->ipywidgets) (4.8.0)\n",
            "Requirement already satisfied: six>=1.5 in /opt/anaconda3/envs/new/lib/python3.12/site-packages (from python-dateutil>=2.8.2->pandas) (1.16.0)\n",
            "Requirement already satisfied: charset-normalizer<4,>=2 in /opt/anaconda3/envs/new/lib/python3.12/site-packages (from requests>=2.31->yfinance) (3.3.2)\n",
            "Requirement already satisfied: idna<4,>=2.5 in /opt/anaconda3/envs/new/lib/python3.12/site-packages (from requests>=2.31->yfinance) (3.7)\n",
            "Requirement already satisfied: urllib3<3,>=1.21.1 in /opt/anaconda3/envs/new/lib/python3.12/site-packages (from requests>=2.31->yfinance) (2.3.0)\n",
            "Requirement already satisfied: pycparser in /opt/anaconda3/envs/new/lib/python3.12/site-packages (from cffi>=1.12.0->curl_cffi>=0.7->yfinance) (2.21)\n",
            "Requirement already satisfied: parso<0.9.0,>=0.8.4 in /opt/anaconda3/envs/new/lib/python3.12/site-packages (from jedi>=0.16->ipython>=6.1.0->ipywidgets) (0.8.4)\n",
            "Requirement already satisfied: ptyprocess>=0.5 in /opt/anaconda3/envs/new/lib/python3.12/site-packages (from pexpect>4.3->ipython>=6.1.0->ipywidgets) (0.7.0)\n",
            "Requirement already satisfied: wcwidth in /opt/anaconda3/envs/new/lib/python3.12/site-packages (from prompt-toolkit<3.1.0,>=3.0.41->ipython>=6.1.0->ipywidgets) (0.2.5)\n",
            "Requirement already satisfied: executing in /opt/anaconda3/envs/new/lib/python3.12/site-packages (from stack-data->ipython>=6.1.0->ipywidgets) (0.8.3)\n",
            "Requirement already satisfied: asttokens in /opt/anaconda3/envs/new/lib/python3.12/site-packages (from stack-data->ipython>=6.1.0->ipywidgets) (2.0.5)\n",
            "Requirement already satisfied: pure-eval in /opt/anaconda3/envs/new/lib/python3.12/site-packages (from stack-data->ipython>=6.1.0->ipywidgets) (0.2.2)\n",
            "Note: you may need to restart the kernel to use updated packages.\n"
          ]
        }
      ],
      "source": [
        "pip install yfinance finvizfinance transformers pandas numpy statsmodels holidays plotly ipywidgets\n"
      ]
    },
    {
      "cell_type": "code",
      "execution_count": 112,
      "metadata": {
        "id": "pWp_o0ZhUQlw"
      },
      "outputs": [],
      "source": [
        "import yfinance as yf\n",
        "from finvizfinance.quote import finvizfinance\n",
        "from transformers import pipeline\n",
        "import pandas as pd\n",
        "import numpy as np\n",
        "from statsmodels.tsa.statespace.sarimax import SARIMAX\n",
        "import pandas as pd\n",
        "import holidays\n",
        "import plotly.graph_objects as go\n",
        "import numpy as np\n",
        "import ipywidgets as widgets\n",
        "from IPython.display import display, clear_output\n",
        "\n"
      ]
    },
    {
      "cell_type": "code",
      "execution_count": 113,
      "metadata": {},
      "outputs": [
        {
          "name": "stderr",
          "output_type": "stream",
          "text": [
            "Some weights of the model checkpoint at cardiffnlp/twitter-roberta-base-sentiment-latest were not used when initializing RobertaForSequenceClassification: ['roberta.pooler.dense.bias', 'roberta.pooler.dense.weight']\n",
            "- This IS expected if you are initializing RobertaForSequenceClassification from the checkpoint of a model trained on another task or with another architecture (e.g. initializing a BertForSequenceClassification model from a BertForPreTraining model).\n",
            "- This IS NOT expected if you are initializing RobertaForSequenceClassification from the checkpoint of a model that you expect to be exactly identical (initializing a BertForSequenceClassification model from a BertForSequenceClassification model).\n",
            "Device set to use cpu\n"
          ]
        }
      ],
      "source": [
        "classifier = pipeline(\"sentiment-analysis\", model=\"cardiffnlp/twitter-roberta-base-sentiment-latest\", device=-1)"
      ]
    },
    {
      "cell_type": "markdown",
      "metadata": {
        "id": "Ss-Uk1jSaU9X"
      },
      "source": [
        "This uses the yfinance and finvizfinance packages to retrive real-time news data !"
      ]
    },
    {
      "cell_type": "code",
      "execution_count": 114,
      "metadata": {
        "id": "Z5HeMRElUUO5"
      },
      "outputs": [],
      "source": [
        "\n",
        "def get_news_data(ticker):\n",
        "    stock = finvizfinance(ticker)\n",
        "    news_df = stock.ticker_news()\n",
        "    news_df = pd.DataFrame(news_df)\n",
        "\n",
        "    # Drop NaN and clean whitespace\n",
        "    news_df = news_df.dropna(subset=[\"Title\"])\n",
        "    news_df = news_df[news_df[\"Title\"].str.strip() != \"\"]\n",
        "    news_df['Title'] = news_df['Title'].str.lower()\n",
        "    news_df['Date'] = pd.to_datetime(news_df['Date'])\n",
        "    news_df['DateOnly'] = news_df['Date'].dt.date\n",
        "\n",
        "    return news_df.reset_index(drop=True)\n",
        "\n",
        "\n"
      ]
    },
    {
      "cell_type": "markdown",
      "metadata": {
        "id": "HPcyHHLxa61V"
      },
      "source": [
        "## Preview the News Data\n",
        "\n",
        "Let’s look at what the cleaned news data looks like. We’ll start with a company like Starbucks (`SBUX`).\n",
        "\n",
        "Each row is a headline, and we’ve cleaned it to keep only useful info like the title and date.\n"
      ]
    },
    {
      "cell_type": "code",
      "execution_count": 115,
      "metadata": {
        "colab": {
          "base_uri": "https://localhost:8080/",
          "height": 206
        },
        "id": "aDRATXztaidr",
        "outputId": "2845c583-f1a8-4982-ce4b-5fa502f40a8f"
      },
      "outputs": [
        {
          "data": {
            "text/html": [
              "<div>\n",
              "<style scoped>\n",
              "    .dataframe tbody tr th:only-of-type {\n",
              "        vertical-align: middle;\n",
              "    }\n",
              "\n",
              "    .dataframe tbody tr th {\n",
              "        vertical-align: top;\n",
              "    }\n",
              "\n",
              "    .dataframe thead th {\n",
              "        text-align: right;\n",
              "    }\n",
              "</style>\n",
              "<table border=\"1\" class=\"dataframe\">\n",
              "  <thead>\n",
              "    <tr style=\"text-align: right;\">\n",
              "      <th></th>\n",
              "      <th>Date</th>\n",
              "      <th>Title</th>\n",
              "      <th>Link</th>\n",
              "      <th>Source</th>\n",
              "      <th>DateOnly</th>\n",
              "    </tr>\n",
              "  </thead>\n",
              "  <tbody>\n",
              "    <tr>\n",
              "      <th>0</th>\n",
              "      <td>2025-07-14 16:46:00</td>\n",
              "      <td>procter &amp; rivian downgraded, starbucks gets a ...</td>\n",
              "      <td>https://finance.yahoo.com/video/procter-rivian...</td>\n",
              "      <td>Yahoo Finance Video</td>\n",
              "      <td>2025-07-14</td>\n",
              "    </tr>\n",
              "    <tr>\n",
              "      <th>1</th>\n",
              "      <td>2025-07-14 15:57:00</td>\n",
              "      <td>starbucks calls corporate employees back to th...</td>\n",
              "      <td>https://chainstoreage.com/starbucks-calls-corp...</td>\n",
              "      <td>Chain Store Age</td>\n",
              "      <td>2025-07-14</td>\n",
              "    </tr>\n",
              "    <tr>\n",
              "      <th>2</th>\n",
              "      <td>2025-07-14 15:50:00</td>\n",
              "      <td>starbucks ceo brian niccol increases in-office...</td>\n",
              "      <td>https://finance.yahoo.com/m/b3d8b572-4df2-392c...</td>\n",
              "      <td>Nation's Restaurant News</td>\n",
              "      <td>2025-07-14</td>\n",
              "    </tr>\n",
              "    <tr>\n",
              "      <th>3</th>\n",
              "      <td>2025-07-14 15:10:00</td>\n",
              "      <td>starbucks to shift to four-day work from offic...</td>\n",
              "      <td>https://finance.yahoo.com/news/starbucks-shift...</td>\n",
              "      <td>Reuters</td>\n",
              "      <td>2025-07-14</td>\n",
              "    </tr>\n",
              "    <tr>\n",
              "      <th>4</th>\n",
              "      <td>2025-07-14 15:08:00</td>\n",
              "      <td>restaurant stocks are in trouble. how they're ...</td>\n",
              "      <td>https://www.barrons.com/articles/restaurant-st...</td>\n",
              "      <td>Barrons.com</td>\n",
              "      <td>2025-07-14</td>\n",
              "    </tr>\n",
              "  </tbody>\n",
              "</table>\n",
              "</div>"
            ],
            "text/plain": [
              "                 Date                                              Title  \\\n",
              "0 2025-07-14 16:46:00  procter & rivian downgraded, starbucks gets a ...   \n",
              "1 2025-07-14 15:57:00  starbucks calls corporate employees back to th...   \n",
              "2 2025-07-14 15:50:00  starbucks ceo brian niccol increases in-office...   \n",
              "3 2025-07-14 15:10:00  starbucks to shift to four-day work from offic...   \n",
              "4 2025-07-14 15:08:00  restaurant stocks are in trouble. how they're ...   \n",
              "\n",
              "                                                Link  \\\n",
              "0  https://finance.yahoo.com/video/procter-rivian...   \n",
              "1  https://chainstoreage.com/starbucks-calls-corp...   \n",
              "2  https://finance.yahoo.com/m/b3d8b572-4df2-392c...   \n",
              "3  https://finance.yahoo.com/news/starbucks-shift...   \n",
              "4  https://www.barrons.com/articles/restaurant-st...   \n",
              "\n",
              "                     Source    DateOnly  \n",
              "0       Yahoo Finance Video  2025-07-14  \n",
              "1           Chain Store Age  2025-07-14  \n",
              "2  Nation's Restaurant News  2025-07-14  \n",
              "3                   Reuters  2025-07-14  \n",
              "4               Barrons.com  2025-07-14  "
            ]
          },
          "execution_count": 115,
          "metadata": {},
          "output_type": "execute_result"
        }
      ],
      "source": [
        "# Example: Preview the news data for a specific company (e.g., Starbucks)\n",
        "ticker = \"SBUX\"\n",
        "news_df = get_news_data(ticker)\n",
        "\n",
        "# Show the first 5 rows\n",
        "news_df.head()\n"
      ]
    },
    {
      "cell_type": "markdown",
      "metadata": {
        "id": "dcsyavsnbmdt"
      },
      "source": [
        "## Classifying Headline Sentiment with LLM\n",
        "\n",
        "We now apply a pre-trained **large language model** to each headline.\n",
        "\n",
        "It returns:\n",
        "- `POSITIVE` — news that sounds good (e.g., “profits surge”)\n",
        "- `NEGATIVE` — news that sounds bad (e.g., “lawsuit filed”)\n",
        "\n",
        "We skip `NEUTRAL` news to focus on strong market signals.\n",
        "\n",
        "This uses Hugging Face’s `pipeline()` to load a model called **DistilBERT** that’s been trained on movie reviews, but works surprisingly well on financial headlines too!\n"
      ]
    },
    {
      "cell_type": "code",
      "execution_count": 116,
      "metadata": {
        "colab": {
          "base_uri": "https://localhost:8080/",
          "height": 321,
          "referenced_widgets": [
            "ae187b8c195b4c05a19f8f2d6fc7e4de",
            "134951f84ba64f99af75c40c68eacdb1",
            "70729c351dee4be1b7802133b67ab3a7",
            "b24f6d8672af440b80c20a222b2cc471",
            "f86eb9c4f8f146748c75ff68b243f70a",
            "6404d32052624ff3968bf7e0f62f6197",
            "79c6ca4394884178aa1c1a8236824a88",
            "933c8f2579a14270838b319693c7b5ef",
            "f647fc4430e748449e3f852ae7ac0101",
            "c0228a69c160473682c7fc2a70641499",
            "7f29b31c55b74173af31fc47d5ca224c",
            "6ce7699be6014cc3a68af0a8a688fb12",
            "78b7d2ee64174de2acc17158bd9cb01f",
            "ac2d63ad369842c29c8cb03137501a98",
            "b1e1a54fd4ba4595b9881bf08167f263",
            "171c476bda9d4339ad849d5c43065937",
            "3ab721856bf74648a4824b6caaab989d",
            "266a88b52dc84f8aa28f912a23df50e2",
            "e89dc0000f6244089e865b6a40d2a692",
            "6e33847553704e43a5a1b0af2e0bfd62",
            "b7f205839bd7409c8440314c849d5991",
            "be4acb937af846ce8c1bc2eca74bd22b",
            "c71d4c4a24df40259accdd76c38ce894",
            "7d2ac80d28a64f5e812f32386178652e",
            "3963d2fbe437413a90201aa7c0e64408",
            "3c313f3952b042bd932cac021ddb9c43",
            "d6b42a5fcb0c408297f5e608f8ffd207",
            "d3eb8874b3ef4bf494271ba8def43045",
            "a0977a355c25431f838421ce6c66be6e",
            "fa29078ee51b4319aa72574286d84436",
            "a3d0a16e680f4abc88d17a496c6d5454",
            "d87ae513b12d469eb522f85b1a903162",
            "65c9573201be4a74bf73b4b613901da4",
            "188aa432fb92416fa16b601c3c57416b",
            "d99e9d7663e14f1fbc0c063a3c842a12",
            "bd9f73d589424eb1b2cfca4a8ac4eeec",
            "09bb541dcc8c4b3ea79a476fe2d117c5",
            "2854e34fb73e42298a420486c10e72d4",
            "b8299f464a0b4b3a8df4ba2b635d3cca",
            "2b6fd14b6f4c420383ce01b64c27a1cd",
            "7a36db7eea20422d84efe570804f48cc",
            "9f5d0bbe03f24a3ba5c026f43701e1fb",
            "78639d4c8681413e9381aba497838923",
            "dc8c1e13f365450fa576033668e10a2a"
          ]
        },
        "id": "C2Pn9EmOUWeM",
        "outputId": "a9055fcb-e983-4ceb-e323-540b33f44c8f"
      },
      "outputs": [],
      "source": [
        "# classifier = pipeline(\"sentiment-analysis\")\n",
        "\n",
        "def classify_sentiment(text):\n",
        "    return classifier(text)[0][\"label\"].upper()\n",
        "\n",
        "def apply_sentiment(news_df):\n",
        "    news_df[\"Sentiment\"] = news_df[\"Title\"].apply(classify_sentiment)\n",
        "    return news_df[news_df[\"Sentiment\"] != \"NEUTRAL\"]\n"
      ]
    },
    {
      "cell_type": "code",
      "execution_count": 117,
      "metadata": {
        "id": "RIjsGjPtUYZf"
      },
      "outputs": [],
      "source": [
        "def process_sentiment(news_df):\n",
        "    grouped = news_df.groupby([\"DateOnly\", \"Sentiment\"]).size().unstack(fill_value=0)\n",
        "    grouped = grouped.reindex(columns=[\"POSITIVE\", \"NEGATIVE\"], fill_value=0)\n",
        "\n",
        "    grouped[\"7day_avg_positive\"] = grouped[\"POSITIVE\"].rolling(window=7, min_periods=1).sum()\n",
        "    grouped[\"7day_avg_negative\"] = grouped[\"NEGATIVE\"].rolling(window=7, min_periods=1).sum()\n",
        "    grouped[\"7day_pct_positive\"] = grouped[\"POSITIVE\"] / (grouped[\"POSITIVE\"] + grouped[\"NEGATIVE\"])\n",
        "\n",
        "    return grouped.reset_index()\n"
      ]
    },
    {
      "cell_type": "code",
      "execution_count": 118,
      "metadata": {
        "colab": {
          "base_uri": "https://localhost:8080/",
          "height": 206
        },
        "id": "M94zYLQ8cAVH",
        "outputId": "2ddb7a1a-d76b-43fa-d54b-262e2c159160"
      },
      "outputs": [
        {
          "data": {
            "text/html": [
              "<div>\n",
              "<style scoped>\n",
              "    .dataframe tbody tr th:only-of-type {\n",
              "        vertical-align: middle;\n",
              "    }\n",
              "\n",
              "    .dataframe tbody tr th {\n",
              "        vertical-align: top;\n",
              "    }\n",
              "\n",
              "    .dataframe thead th {\n",
              "        text-align: right;\n",
              "    }\n",
              "</style>\n",
              "<table border=\"1\" class=\"dataframe\">\n",
              "  <thead>\n",
              "    <tr style=\"text-align: right;\">\n",
              "      <th>Sentiment</th>\n",
              "      <th>DateOnly</th>\n",
              "      <th>POSITIVE</th>\n",
              "      <th>NEGATIVE</th>\n",
              "      <th>7day_avg_positive</th>\n",
              "      <th>7day_avg_negative</th>\n",
              "      <th>7day_pct_positive</th>\n",
              "    </tr>\n",
              "  </thead>\n",
              "  <tbody>\n",
              "    <tr>\n",
              "      <th>0</th>\n",
              "      <td>2025-07-10</td>\n",
              "      <td>5</td>\n",
              "      <td>3</td>\n",
              "      <td>5.0</td>\n",
              "      <td>3.0</td>\n",
              "      <td>0.625000</td>\n",
              "    </tr>\n",
              "    <tr>\n",
              "      <th>1</th>\n",
              "      <td>2025-07-11</td>\n",
              "      <td>10</td>\n",
              "      <td>6</td>\n",
              "      <td>15.0</td>\n",
              "      <td>9.0</td>\n",
              "      <td>0.625000</td>\n",
              "    </tr>\n",
              "    <tr>\n",
              "      <th>2</th>\n",
              "      <td>2025-07-12</td>\n",
              "      <td>2</td>\n",
              "      <td>4</td>\n",
              "      <td>17.0</td>\n",
              "      <td>13.0</td>\n",
              "      <td>0.333333</td>\n",
              "    </tr>\n",
              "    <tr>\n",
              "      <th>3</th>\n",
              "      <td>2025-07-13</td>\n",
              "      <td>2</td>\n",
              "      <td>0</td>\n",
              "      <td>19.0</td>\n",
              "      <td>13.0</td>\n",
              "      <td>1.000000</td>\n",
              "    </tr>\n",
              "    <tr>\n",
              "      <th>4</th>\n",
              "      <td>2025-07-14</td>\n",
              "      <td>3</td>\n",
              "      <td>3</td>\n",
              "      <td>22.0</td>\n",
              "      <td>16.0</td>\n",
              "      <td>0.500000</td>\n",
              "    </tr>\n",
              "  </tbody>\n",
              "</table>\n",
              "</div>"
            ],
            "text/plain": [
              "Sentiment    DateOnly  POSITIVE  NEGATIVE  7day_avg_positive  \\\n",
              "0          2025-07-10         5         3                5.0   \n",
              "1          2025-07-11        10         6               15.0   \n",
              "2          2025-07-12         2         4               17.0   \n",
              "3          2025-07-13         2         0               19.0   \n",
              "4          2025-07-14         3         3               22.0   \n",
              "\n",
              "Sentiment  7day_avg_negative  7day_pct_positive  \n",
              "0                        3.0           0.625000  \n",
              "1                        9.0           0.625000  \n",
              "2                       13.0           0.333333  \n",
              "3                       13.0           1.000000  \n",
              "4                       16.0           0.500000  "
            ]
          },
          "execution_count": 118,
          "metadata": {},
          "output_type": "execute_result"
        }
      ],
      "source": [
        "news_df = get_news_data(\"AAPL\")            # Step 1: Get news data\n",
        "news_df = apply_sentiment(news_df)         # Step 2: Classify sentiment\n",
        "sentiment_df = process_sentiment(news_df)  # Step 3: Process sentiment stats\n",
        "sentiment_df.head(5)\n"
      ]
    },
    {
      "cell_type": "markdown",
      "metadata": {
        "id": "BKS7_BI1cd-P"
      },
      "source": [
        "## Understanding the Sentiment Data Table\n",
        "\n",
        "This table summarizes how **news sentiment** changes over time for a particular stock (e.g., AAPL), using headlines pulled from financial news.\n",
        "\n",
        "| Column                | What it means                                                                 |\n",
        "|-----------------------|------------------------------------------------------------------------------|\n",
        "| `DateOnly`            | The specific date of the news                                                |\n",
        "| `POSITIVE`            | Number of news headlines that had **positive** sentiment on that day        |\n",
        "| `NEGATIVE`            | Number of headlines that had **negative** sentiment that day                |\n",
        "| `7day_avg_positive`   | Rolling 7-day **sum** of positive headlines (used to smooth out day-to-day spikes) |\n",
        "| `7day_avg_negative`   | Rolling 7-day **sum** of negative headlines                                  |\n",
        "| `7day_pct_positive`   | Percentage of headlines that were positive in the last 7 days:<br>  \n",
        "\\[\n",
        "\\frac{\\text{Positive}}{\\text{Positive} + \\text{Negative}}\n",
        "\\]\n",
        "\n",
        "---\n",
        "\n",
        "###  Why is this useful?\n",
        "\n",
        "- If the `7day_pct_positive` is rising, the **overall tone of news** is getting more optimistic.\n",
        "- If it's dropping, it could mean **public or investor concern** is growing.\n",
        "- We can later **plot this** and compare it against stock price to see if sentiment influences market behavior.\n"
      ]
    },
    {
      "cell_type": "code",
      "execution_count": 119,
      "metadata": {
        "id": "PCOX6j-yUhVa"
      },
      "outputs": [],
      "source": [
        "# downloads historical stock prices and calculates daily percentage change in closing price\n",
        "\n",
        "def get_stock_data(ticker, start, end):\n",
        "    stock = yf.download(ticker, start=start, end=end)\n",
        "\n",
        "    # Check if columns are MultiIndex (only happens with multiple tickers)\n",
        "    if isinstance(stock.columns, pd.MultiIndex):\n",
        "        stock.columns = ['_'.join(col).strip() for col in stock.columns]\n",
        "\n",
        "        # Adjust close column name accordingly\n",
        "        close_col = f\"Close_{ticker}\"\n",
        "    else:\n",
        "        close_col = \"Close\"\n",
        "\n",
        "    stock[\"Pct_Change\"] = stock[close_col].pct_change() * 100\n",
        "    stock.reset_index(inplace=True)\n",
        "    stock[\"DateOnly\"] = stock[\"Date\"].dt.date\n",
        "    return stock[[\"DateOnly\", \"Pct_Change\"]]\n",
        "\n"
      ]
    },
    {
      "cell_type": "code",
      "execution_count": 120,
      "metadata": {
        "colab": {
          "base_uri": "https://localhost:8080/"
        },
        "id": "MZYxZMFsVSve",
        "outputId": "62c0e192-687a-4617-9720-801bfa01f2ec"
      },
      "outputs": [],
      "source": [
        "# print(\"sent_df index:\", sent_df.index)\n",
        "# print(\"stock_df index:\", stock_df.index)\n",
        "\n",
        "# print(\"\\nSENT_DF COLUMNS:\")\n",
        "# print(sent_df.columns)\n",
        "\n",
        "# print(\"\\nSTOCK_DF COLUMNS:\")\n",
        "# print(stock_df.columns)\n",
        "\n",
        "# print(\"\\nSENT_DF HEAD:\")\n",
        "# print(sent_df.head())\n",
        "\n",
        "# print(\"\\nSTOCK_DF HEAD:\")\n",
        "# print(stock_df.head())\n"
      ]
    },
    {
      "cell_type": "code",
      "execution_count": 121,
      "metadata": {
        "id": "pHyqrXVnUiiF"
      },
      "outputs": [],
      "source": [
        "# merges sentiment and stock data by date, and lags sentiment by one day to align with price changes.\n",
        "def combine_data(sent_df, stock_df):\n",
        "    sent_df = sent_df.reset_index(drop=True)\n",
        "    stock_df = stock_df.reset_index(drop=True)\n",
        "    return (\n",
        "        pd.merge(sent_df, stock_df, on=\"DateOnly\", how=\"inner\")\n",
        "          .assign(lagged_sentiment=lambda df: df[\"7day_pct_positive\"].shift(1))\n",
        "    )\n",
        "\n"
      ]
    },
    {
      "cell_type": "code",
      "execution_count": 122,
      "metadata": {
        "id": "5sMOC4xdd_FS"
      },
      "outputs": [],
      "source": [
        "def compute_corr(df):\n",
        "    \"\"\"\n",
        "    Computes correlation between lagged sentiment and stock % change.\n",
        "    \"\"\"\n",
        "    return df[[\"lagged_sentiment\", \"Pct_Change\"]].corr().iloc[0, 1]\n"
      ]
    },
    {
      "cell_type": "code",
      "execution_count": 123,
      "metadata": {
        "colab": {
          "base_uri": "https://localhost:8080/"
        },
        "id": "qK60OboBUq2d",
        "outputId": "e1fee98a-a128-4ffa-9e5b-ca13dd81725d"
      },
      "outputs": [
        {
          "name": "stderr",
          "output_type": "stream",
          "text": [
            "/var/folders/pk/gm23sx4x0k33f49dv5hh292m0000gn/T/ipykernel_11848/698940683.py:4: FutureWarning:\n",
            "\n",
            "YF.download() has changed argument auto_adjust default to True\n",
            "\n",
            "[*********************100%***********************]  1 of 1 completed"
          ]
        },
        {
          "name": "stdout",
          "output_type": "stream",
          "text": [
            "Correlation between lagged sentiment and % stock change: 0.41982100189478405\n"
          ]
        },
        {
          "name": "stderr",
          "output_type": "stream",
          "text": [
            "\n"
          ]
        }
      ],
      "source": [
        "ticker = \"SBUX\"\n",
        "\n",
        "news = get_news_data(ticker)\n",
        "news = apply_sentiment(news)\n",
        "sent_df = process_sentiment(news)\n",
        "\n",
        "start_date = sent_df[\"DateOnly\"].min()\n",
        "end_date = sent_df[\"DateOnly\"].max()\n",
        "\n",
        "stock_df = get_stock_data(ticker, start_date, end_date)\n",
        "\n",
        "combined_df = combine_data(sent_df, stock_df)\n",
        "\n",
        "corr = compute_corr(combined_df)\n",
        "print(\"Correlation between lagged sentiment and % stock change:\", corr)\n"
      ]
    },
    {
      "cell_type": "code",
      "execution_count": 124,
      "metadata": {
        "id": "SN-5eSRjUtf0"
      },
      "outputs": [],
      "source": [
        "def get_future_dates(start_date, num_days):\n",
        "    if not isinstance(start_date, pd.Timestamp):\n",
        "        start_date = pd.to_datetime(start_date)\n",
        "\n",
        "    us_holidays = holidays.US()\n",
        "    future_dates = []\n",
        "    current_date = start_date + pd.Timedelta(days=1)\n",
        "\n",
        "    while len(future_dates) < num_days:\n",
        "        if current_date.weekday() < 5 and current_date.date() not in us_holidays:\n",
        "            future_dates.append(current_date)\n",
        "        current_date += pd.Timedelta(days=1)\n",
        "\n",
        "    return future_dates\n",
        "\n",
        "\n",
        "def fit_and_forecast(combined_df, forecast_steps=3):\n",
        "    combined_df = combined_df.dropna(subset=['Pct_Change', 'lagged_sentiment'])\n",
        "\n",
        "    endog = combined_df['Pct_Change']\n",
        "    exog = combined_df['lagged_sentiment']\n",
        "\n",
        "    model = SARIMAX(endog, exog=exog, order=(1, 1, 1))\n",
        "    fit = model.fit(disp=False)\n",
        "\n",
        "    future_dates = get_future_dates(combined_df.index[-1], forecast_steps)\n",
        "    future_exog = np.tile(combined_df['lagged_sentiment'].iloc[-1], forecast_steps).reshape(-1, 1)\n",
        "\n",
        "    forecast = fit.get_forecast(steps=forecast_steps, exog=future_exog)\n",
        "    return forecast.predicted_mean, forecast.conf_int(), future_dates\n",
        "\n"
      ]
    },
    {
      "cell_type": "code",
      "execution_count": 125,
      "metadata": {
        "id": "WrVLkZ9AWBYU"
      },
      "outputs": [],
      "source": [
        "def create_plot(combined_df, forecast_mean, forecast_ci, forecast_index):\n",
        "    combined_df = combined_df.copy()\n",
        "    sentiment_std = (combined_df['lagged_sentiment'] - combined_df['lagged_sentiment'].mean()) / combined_df['lagged_sentiment'].std()\n",
        "\n",
        "    fig = go.Figure()\n",
        "\n",
        "    fig.add_trace(go.Scatter(\n",
        "        x=combined_df.index,\n",
        "        y=sentiment_std,\n",
        "        name='Standardized Sentiment',\n",
        "        line=dict(color='blue')\n",
        "    ))\n",
        "\n",
        "    fig.add_trace(go.Scatter(\n",
        "        x=combined_df.index,\n",
        "        y=combined_df['Pct_Change'],\n",
        "        name='Stock % Change',\n",
        "        yaxis='y2',\n",
        "        line=dict(color='green')\n",
        "    ))\n",
        "\n",
        "    fig.add_trace(go.Scatter(\n",
        "        x=forecast_index,\n",
        "        y=forecast_mean,\n",
        "        name='Forecasted % Change',\n",
        "        line=dict(color='red')\n",
        "    ))\n",
        "\n",
        "    fig.add_trace(go.Scatter(\n",
        "        x=np.concatenate([forecast_index, forecast_index[::-1]]),\n",
        "        y=np.concatenate([forecast_ci.iloc[:, 0], forecast_ci.iloc[:, 1][::-1]]),\n",
        "        fill='toself',\n",
        "        fillcolor='rgba(255,0,0,0.2)',\n",
        "        line=dict(color='rgba(255,255,255,0)'),\n",
        "        hoverinfo=\"skip\",\n",
        "        showlegend=False\n",
        "    ))\n",
        "\n",
        "    # ✅ FIXED titlefont (use inside `title` object)\n",
        "    fig.update_layout(\n",
        "        title='Sentiment vs Stock Change Forecast',\n",
        "        xaxis_title='Date',\n",
        "        yaxis=dict(\n",
        "            title=dict(text='Standardized Sentiment', font=dict(color='blue'))\n",
        "        ),\n",
        "        yaxis2=dict(\n",
        "            title=dict(text='Stock % Change', font=dict(color='green')),\n",
        "            overlaying='y',\n",
        "            side='right'\n",
        "        ),\n",
        "        template='plotly_dark'\n",
        "    )\n",
        "\n",
        "    fig.show()\n"
      ]
    },
    {
      "cell_type": "code",
      "execution_count": 126,
      "metadata": {
        "id": "DHfpbAsIWQr_"
      },
      "outputs": [],
      "source": [
        "combined_df['DateOnly'] = pd.to_datetime(combined_df['DateOnly'])  # convert to datetime\n",
        "combined_df.set_index('DateOnly', inplace=True)  # use as index\n",
        "combined_df.sort_index(inplace=True)  # ensure time order\n",
        "\n",
        "\n"
      ]
    },
    {
      "cell_type": "markdown",
      "metadata": {
        "id": "dYVeLmQpegh9"
      },
      "source": [
        "### Plot: Sentiment vs Stock % Change Forecast\n",
        "\n",
        "This chart shows how **news sentiment** about a company relates to its **stock price changes** over time, and how we can use this relationship to make simple predictions.\n",
        "\n",
        "- The **blue line** shows the standardized 7-day average of positive sentiment extracted from financial news headlines. A higher value means news sentiment was more positive.\n",
        "- The **green line** shows the actual daily percentage change in the company’s stock price.\n",
        "- The **red line** shows our simple **forecast** of future stock movement based on past sentiment trends. The shaded red area represents uncertainty around the forecast (a 95% confidence interval).\n",
        "\n",
        "We want to see whether the **emotions in the news** (blue) can help us **predict price changes** (green and red). If they move together, it suggests that public mood might influence investor behavior.\n",
        "\n",
        "> This kind of plot helps us visualize correlations and test basic forecasting using real-world data like stock prices and media sentiment.\n"
      ]
    },
    {
      "cell_type": "code",
      "execution_count": 127,
      "metadata": {
        "colab": {
          "base_uri": "https://localhost:8080/",
          "height": 820
        },
        "id": "3P21ZO9mWHp4",
        "outputId": "da277a09-874a-40a6-87d9-56a8b9f2571f"
      },
      "outputs": [
        {
          "name": "stderr",
          "output_type": "stream",
          "text": [
            "/opt/anaconda3/envs/new/lib/python3.12/site-packages/statsmodels/tsa/base/tsa_model.py:473: ValueWarning:\n",
            "\n",
            "A date index has been provided, but it has no associated frequency information and so will be ignored when e.g. forecasting.\n",
            "\n",
            "/opt/anaconda3/envs/new/lib/python3.12/site-packages/statsmodels/tsa/base/tsa_model.py:473: ValueWarning:\n",
            "\n",
            "A date index has been provided, but it has no associated frequency information and so will be ignored when e.g. forecasting.\n",
            "\n",
            "/opt/anaconda3/envs/new/lib/python3.12/site-packages/statsmodels/tsa/statespace/sarimax.py:978: UserWarning:\n",
            "\n",
            "Non-invertible starting MA parameters found. Using zeros as starting parameters.\n",
            "\n",
            "/opt/anaconda3/envs/new/lib/python3.12/site-packages/statsmodels/tsa/base/tsa_model.py:837: ValueWarning:\n",
            "\n",
            "No supported index is available. Prediction results will be given with an integer index beginning at `start`.\n",
            "\n",
            "/opt/anaconda3/envs/new/lib/python3.12/site-packages/statsmodels/tsa/base/tsa_model.py:837: FutureWarning:\n",
            "\n",
            "No supported index is available. In the next version, calling this method in a model without a supported index will result in an exception.\n",
            "\n"
          ]
        },
        {
          "data": {
            "application/vnd.plotly.v1+json": {
              "config": {
                "plotlyServerURL": "https://plot.ly"
              },
              "data": [
                {
                  "line": {
                    "color": "blue"
                  },
                  "name": "Standardized Sentiment",
                  "type": "scatter",
                  "x": [
                    "2025-06-26T00:00:00.000000000",
                    "2025-06-27T00:00:00.000000000",
                    "2025-06-30T00:00:00.000000000",
                    "2025-07-03T00:00:00.000000000",
                    "2025-07-07T00:00:00.000000000",
                    "2025-07-08T00:00:00.000000000",
                    "2025-07-09T00:00:00.000000000",
                    "2025-07-10T00:00:00.000000000",
                    "2025-07-11T00:00:00.000000000"
                  ],
                  "y": {
                    "bdata": "AAAAAAAA+H9ZXF6hMQ3hP+ikcTL9cv6/WVxeoTEN4T9ZXF6hMQ3hP1lcXqExDeE/WVxeoTEN4T9ZXF6hMQ3hPyNwqbGXtPS/",
                    "dtype": "f8"
                  }
                },
                {
                  "line": {
                    "color": "green"
                  },
                  "name": "Stock % Change",
                  "type": "scatter",
                  "x": [
                    "2025-06-26T00:00:00.000000000",
                    "2025-06-27T00:00:00.000000000",
                    "2025-06-30T00:00:00.000000000",
                    "2025-07-03T00:00:00.000000000",
                    "2025-07-07T00:00:00.000000000",
                    "2025-07-08T00:00:00.000000000",
                    "2025-07-09T00:00:00.000000000",
                    "2025-07-10T00:00:00.000000000",
                    "2025-07-11T00:00:00.000000000"
                  ],
                  "y": {
                    "bdata": "AAAAAAAA+H+g6i4YzdDSP8yXezcDreC/4GT/3x6r0T9AT75vdRvrvyR4w994NvY/0GKdxLHl1D9ghEKhUOC6vxADJ4IAQMy/",
                    "dtype": "f8"
                  },
                  "yaxis": "y2"
                },
                {
                  "line": {
                    "color": "red"
                  },
                  "name": "Forecasted % Change",
                  "type": "scatter",
                  "x": [
                    "2025-07-14T00:00:00",
                    "2025-07-15T00:00:00",
                    "2025-07-16T00:00:00"
                  ],
                  "y": {
                    "bdata": "nzTBNVGD1r/ZZKsKxYfTvxkzYg1Gl9S/",
                    "dtype": "f8"
                  }
                },
                {
                  "fill": "toself",
                  "fillcolor": "rgba(255,0,0,0.2)",
                  "hoverinfo": "skip",
                  "line": {
                    "color": "rgba(255,255,255,0)"
                  },
                  "showlegend": false,
                  "type": "scatter",
                  "x": [
                    "2025-07-14T00:00:00",
                    "2025-07-15T00:00:00",
                    "2025-07-16T00:00:00",
                    "2025-07-16T00:00:00",
                    "2025-07-15T00:00:00",
                    "2025-07-14T00:00:00"
                  ],
                  "y": {
                    "bdata": "tHIkHZzU97/T1gzCwHf3vwzYJ1lXC/i/AH3tpGh/6z/OSG55vGfrP8iwhwTnJek/",
                    "dtype": "f8"
                  }
                }
              ],
              "layout": {
                "template": {
                  "data": {
                    "bar": [
                      {
                        "error_x": {
                          "color": "#f2f5fa"
                        },
                        "error_y": {
                          "color": "#f2f5fa"
                        },
                        "marker": {
                          "line": {
                            "color": "rgb(17,17,17)",
                            "width": 0.5
                          },
                          "pattern": {
                            "fillmode": "overlay",
                            "size": 10,
                            "solidity": 0.2
                          }
                        },
                        "type": "bar"
                      }
                    ],
                    "barpolar": [
                      {
                        "marker": {
                          "line": {
                            "color": "rgb(17,17,17)",
                            "width": 0.5
                          },
                          "pattern": {
                            "fillmode": "overlay",
                            "size": 10,
                            "solidity": 0.2
                          }
                        },
                        "type": "barpolar"
                      }
                    ],
                    "carpet": [
                      {
                        "aaxis": {
                          "endlinecolor": "#A2B1C6",
                          "gridcolor": "#506784",
                          "linecolor": "#506784",
                          "minorgridcolor": "#506784",
                          "startlinecolor": "#A2B1C6"
                        },
                        "baxis": {
                          "endlinecolor": "#A2B1C6",
                          "gridcolor": "#506784",
                          "linecolor": "#506784",
                          "minorgridcolor": "#506784",
                          "startlinecolor": "#A2B1C6"
                        },
                        "type": "carpet"
                      }
                    ],
                    "choropleth": [
                      {
                        "colorbar": {
                          "outlinewidth": 0,
                          "ticks": ""
                        },
                        "type": "choropleth"
                      }
                    ],
                    "contour": [
                      {
                        "colorbar": {
                          "outlinewidth": 0,
                          "ticks": ""
                        },
                        "colorscale": [
                          [
                            0,
                            "#0d0887"
                          ],
                          [
                            0.1111111111111111,
                            "#46039f"
                          ],
                          [
                            0.2222222222222222,
                            "#7201a8"
                          ],
                          [
                            0.3333333333333333,
                            "#9c179e"
                          ],
                          [
                            0.4444444444444444,
                            "#bd3786"
                          ],
                          [
                            0.5555555555555556,
                            "#d8576b"
                          ],
                          [
                            0.6666666666666666,
                            "#ed7953"
                          ],
                          [
                            0.7777777777777778,
                            "#fb9f3a"
                          ],
                          [
                            0.8888888888888888,
                            "#fdca26"
                          ],
                          [
                            1,
                            "#f0f921"
                          ]
                        ],
                        "type": "contour"
                      }
                    ],
                    "contourcarpet": [
                      {
                        "colorbar": {
                          "outlinewidth": 0,
                          "ticks": ""
                        },
                        "type": "contourcarpet"
                      }
                    ],
                    "heatmap": [
                      {
                        "colorbar": {
                          "outlinewidth": 0,
                          "ticks": ""
                        },
                        "colorscale": [
                          [
                            0,
                            "#0d0887"
                          ],
                          [
                            0.1111111111111111,
                            "#46039f"
                          ],
                          [
                            0.2222222222222222,
                            "#7201a8"
                          ],
                          [
                            0.3333333333333333,
                            "#9c179e"
                          ],
                          [
                            0.4444444444444444,
                            "#bd3786"
                          ],
                          [
                            0.5555555555555556,
                            "#d8576b"
                          ],
                          [
                            0.6666666666666666,
                            "#ed7953"
                          ],
                          [
                            0.7777777777777778,
                            "#fb9f3a"
                          ],
                          [
                            0.8888888888888888,
                            "#fdca26"
                          ],
                          [
                            1,
                            "#f0f921"
                          ]
                        ],
                        "type": "heatmap"
                      }
                    ],
                    "histogram": [
                      {
                        "marker": {
                          "pattern": {
                            "fillmode": "overlay",
                            "size": 10,
                            "solidity": 0.2
                          }
                        },
                        "type": "histogram"
                      }
                    ],
                    "histogram2d": [
                      {
                        "colorbar": {
                          "outlinewidth": 0,
                          "ticks": ""
                        },
                        "colorscale": [
                          [
                            0,
                            "#0d0887"
                          ],
                          [
                            0.1111111111111111,
                            "#46039f"
                          ],
                          [
                            0.2222222222222222,
                            "#7201a8"
                          ],
                          [
                            0.3333333333333333,
                            "#9c179e"
                          ],
                          [
                            0.4444444444444444,
                            "#bd3786"
                          ],
                          [
                            0.5555555555555556,
                            "#d8576b"
                          ],
                          [
                            0.6666666666666666,
                            "#ed7953"
                          ],
                          [
                            0.7777777777777778,
                            "#fb9f3a"
                          ],
                          [
                            0.8888888888888888,
                            "#fdca26"
                          ],
                          [
                            1,
                            "#f0f921"
                          ]
                        ],
                        "type": "histogram2d"
                      }
                    ],
                    "histogram2dcontour": [
                      {
                        "colorbar": {
                          "outlinewidth": 0,
                          "ticks": ""
                        },
                        "colorscale": [
                          [
                            0,
                            "#0d0887"
                          ],
                          [
                            0.1111111111111111,
                            "#46039f"
                          ],
                          [
                            0.2222222222222222,
                            "#7201a8"
                          ],
                          [
                            0.3333333333333333,
                            "#9c179e"
                          ],
                          [
                            0.4444444444444444,
                            "#bd3786"
                          ],
                          [
                            0.5555555555555556,
                            "#d8576b"
                          ],
                          [
                            0.6666666666666666,
                            "#ed7953"
                          ],
                          [
                            0.7777777777777778,
                            "#fb9f3a"
                          ],
                          [
                            0.8888888888888888,
                            "#fdca26"
                          ],
                          [
                            1,
                            "#f0f921"
                          ]
                        ],
                        "type": "histogram2dcontour"
                      }
                    ],
                    "mesh3d": [
                      {
                        "colorbar": {
                          "outlinewidth": 0,
                          "ticks": ""
                        },
                        "type": "mesh3d"
                      }
                    ],
                    "parcoords": [
                      {
                        "line": {
                          "colorbar": {
                            "outlinewidth": 0,
                            "ticks": ""
                          }
                        },
                        "type": "parcoords"
                      }
                    ],
                    "pie": [
                      {
                        "automargin": true,
                        "type": "pie"
                      }
                    ],
                    "scatter": [
                      {
                        "marker": {
                          "line": {
                            "color": "#283442"
                          }
                        },
                        "type": "scatter"
                      }
                    ],
                    "scatter3d": [
                      {
                        "line": {
                          "colorbar": {
                            "outlinewidth": 0,
                            "ticks": ""
                          }
                        },
                        "marker": {
                          "colorbar": {
                            "outlinewidth": 0,
                            "ticks": ""
                          }
                        },
                        "type": "scatter3d"
                      }
                    ],
                    "scattercarpet": [
                      {
                        "marker": {
                          "colorbar": {
                            "outlinewidth": 0,
                            "ticks": ""
                          }
                        },
                        "type": "scattercarpet"
                      }
                    ],
                    "scattergeo": [
                      {
                        "marker": {
                          "colorbar": {
                            "outlinewidth": 0,
                            "ticks": ""
                          }
                        },
                        "type": "scattergeo"
                      }
                    ],
                    "scattergl": [
                      {
                        "marker": {
                          "line": {
                            "color": "#283442"
                          }
                        },
                        "type": "scattergl"
                      }
                    ],
                    "scattermap": [
                      {
                        "marker": {
                          "colorbar": {
                            "outlinewidth": 0,
                            "ticks": ""
                          }
                        },
                        "type": "scattermap"
                      }
                    ],
                    "scattermapbox": [
                      {
                        "marker": {
                          "colorbar": {
                            "outlinewidth": 0,
                            "ticks": ""
                          }
                        },
                        "type": "scattermapbox"
                      }
                    ],
                    "scatterpolar": [
                      {
                        "marker": {
                          "colorbar": {
                            "outlinewidth": 0,
                            "ticks": ""
                          }
                        },
                        "type": "scatterpolar"
                      }
                    ],
                    "scatterpolargl": [
                      {
                        "marker": {
                          "colorbar": {
                            "outlinewidth": 0,
                            "ticks": ""
                          }
                        },
                        "type": "scatterpolargl"
                      }
                    ],
                    "scatterternary": [
                      {
                        "marker": {
                          "colorbar": {
                            "outlinewidth": 0,
                            "ticks": ""
                          }
                        },
                        "type": "scatterternary"
                      }
                    ],
                    "surface": [
                      {
                        "colorbar": {
                          "outlinewidth": 0,
                          "ticks": ""
                        },
                        "colorscale": [
                          [
                            0,
                            "#0d0887"
                          ],
                          [
                            0.1111111111111111,
                            "#46039f"
                          ],
                          [
                            0.2222222222222222,
                            "#7201a8"
                          ],
                          [
                            0.3333333333333333,
                            "#9c179e"
                          ],
                          [
                            0.4444444444444444,
                            "#bd3786"
                          ],
                          [
                            0.5555555555555556,
                            "#d8576b"
                          ],
                          [
                            0.6666666666666666,
                            "#ed7953"
                          ],
                          [
                            0.7777777777777778,
                            "#fb9f3a"
                          ],
                          [
                            0.8888888888888888,
                            "#fdca26"
                          ],
                          [
                            1,
                            "#f0f921"
                          ]
                        ],
                        "type": "surface"
                      }
                    ],
                    "table": [
                      {
                        "cells": {
                          "fill": {
                            "color": "#506784"
                          },
                          "line": {
                            "color": "rgb(17,17,17)"
                          }
                        },
                        "header": {
                          "fill": {
                            "color": "#2a3f5f"
                          },
                          "line": {
                            "color": "rgb(17,17,17)"
                          }
                        },
                        "type": "table"
                      }
                    ]
                  },
                  "layout": {
                    "annotationdefaults": {
                      "arrowcolor": "#f2f5fa",
                      "arrowhead": 0,
                      "arrowwidth": 1
                    },
                    "autotypenumbers": "strict",
                    "coloraxis": {
                      "colorbar": {
                        "outlinewidth": 0,
                        "ticks": ""
                      }
                    },
                    "colorscale": {
                      "diverging": [
                        [
                          0,
                          "#8e0152"
                        ],
                        [
                          0.1,
                          "#c51b7d"
                        ],
                        [
                          0.2,
                          "#de77ae"
                        ],
                        [
                          0.3,
                          "#f1b6da"
                        ],
                        [
                          0.4,
                          "#fde0ef"
                        ],
                        [
                          0.5,
                          "#f7f7f7"
                        ],
                        [
                          0.6,
                          "#e6f5d0"
                        ],
                        [
                          0.7,
                          "#b8e186"
                        ],
                        [
                          0.8,
                          "#7fbc41"
                        ],
                        [
                          0.9,
                          "#4d9221"
                        ],
                        [
                          1,
                          "#276419"
                        ]
                      ],
                      "sequential": [
                        [
                          0,
                          "#0d0887"
                        ],
                        [
                          0.1111111111111111,
                          "#46039f"
                        ],
                        [
                          0.2222222222222222,
                          "#7201a8"
                        ],
                        [
                          0.3333333333333333,
                          "#9c179e"
                        ],
                        [
                          0.4444444444444444,
                          "#bd3786"
                        ],
                        [
                          0.5555555555555556,
                          "#d8576b"
                        ],
                        [
                          0.6666666666666666,
                          "#ed7953"
                        ],
                        [
                          0.7777777777777778,
                          "#fb9f3a"
                        ],
                        [
                          0.8888888888888888,
                          "#fdca26"
                        ],
                        [
                          1,
                          "#f0f921"
                        ]
                      ],
                      "sequentialminus": [
                        [
                          0,
                          "#0d0887"
                        ],
                        [
                          0.1111111111111111,
                          "#46039f"
                        ],
                        [
                          0.2222222222222222,
                          "#7201a8"
                        ],
                        [
                          0.3333333333333333,
                          "#9c179e"
                        ],
                        [
                          0.4444444444444444,
                          "#bd3786"
                        ],
                        [
                          0.5555555555555556,
                          "#d8576b"
                        ],
                        [
                          0.6666666666666666,
                          "#ed7953"
                        ],
                        [
                          0.7777777777777778,
                          "#fb9f3a"
                        ],
                        [
                          0.8888888888888888,
                          "#fdca26"
                        ],
                        [
                          1,
                          "#f0f921"
                        ]
                      ]
                    },
                    "colorway": [
                      "#636efa",
                      "#EF553B",
                      "#00cc96",
                      "#ab63fa",
                      "#FFA15A",
                      "#19d3f3",
                      "#FF6692",
                      "#B6E880",
                      "#FF97FF",
                      "#FECB52"
                    ],
                    "font": {
                      "color": "#f2f5fa"
                    },
                    "geo": {
                      "bgcolor": "rgb(17,17,17)",
                      "lakecolor": "rgb(17,17,17)",
                      "landcolor": "rgb(17,17,17)",
                      "showlakes": true,
                      "showland": true,
                      "subunitcolor": "#506784"
                    },
                    "hoverlabel": {
                      "align": "left"
                    },
                    "hovermode": "closest",
                    "mapbox": {
                      "style": "dark"
                    },
                    "paper_bgcolor": "rgb(17,17,17)",
                    "plot_bgcolor": "rgb(17,17,17)",
                    "polar": {
                      "angularaxis": {
                        "gridcolor": "#506784",
                        "linecolor": "#506784",
                        "ticks": ""
                      },
                      "bgcolor": "rgb(17,17,17)",
                      "radialaxis": {
                        "gridcolor": "#506784",
                        "linecolor": "#506784",
                        "ticks": ""
                      }
                    },
                    "scene": {
                      "xaxis": {
                        "backgroundcolor": "rgb(17,17,17)",
                        "gridcolor": "#506784",
                        "gridwidth": 2,
                        "linecolor": "#506784",
                        "showbackground": true,
                        "ticks": "",
                        "zerolinecolor": "#C8D4E3"
                      },
                      "yaxis": {
                        "backgroundcolor": "rgb(17,17,17)",
                        "gridcolor": "#506784",
                        "gridwidth": 2,
                        "linecolor": "#506784",
                        "showbackground": true,
                        "ticks": "",
                        "zerolinecolor": "#C8D4E3"
                      },
                      "zaxis": {
                        "backgroundcolor": "rgb(17,17,17)",
                        "gridcolor": "#506784",
                        "gridwidth": 2,
                        "linecolor": "#506784",
                        "showbackground": true,
                        "ticks": "",
                        "zerolinecolor": "#C8D4E3"
                      }
                    },
                    "shapedefaults": {
                      "line": {
                        "color": "#f2f5fa"
                      }
                    },
                    "sliderdefaults": {
                      "bgcolor": "#C8D4E3",
                      "bordercolor": "rgb(17,17,17)",
                      "borderwidth": 1,
                      "tickwidth": 0
                    },
                    "ternary": {
                      "aaxis": {
                        "gridcolor": "#506784",
                        "linecolor": "#506784",
                        "ticks": ""
                      },
                      "baxis": {
                        "gridcolor": "#506784",
                        "linecolor": "#506784",
                        "ticks": ""
                      },
                      "bgcolor": "rgb(17,17,17)",
                      "caxis": {
                        "gridcolor": "#506784",
                        "linecolor": "#506784",
                        "ticks": ""
                      }
                    },
                    "title": {
                      "x": 0.05
                    },
                    "updatemenudefaults": {
                      "bgcolor": "#506784",
                      "borderwidth": 0
                    },
                    "xaxis": {
                      "automargin": true,
                      "gridcolor": "#283442",
                      "linecolor": "#506784",
                      "ticks": "",
                      "title": {
                        "standoff": 15
                      },
                      "zerolinecolor": "#283442",
                      "zerolinewidth": 2
                    },
                    "yaxis": {
                      "automargin": true,
                      "gridcolor": "#283442",
                      "linecolor": "#506784",
                      "ticks": "",
                      "title": {
                        "standoff": 15
                      },
                      "zerolinecolor": "#283442",
                      "zerolinewidth": 2
                    }
                  }
                },
                "title": {
                  "text": "Sentiment vs Stock Change Forecast"
                },
                "xaxis": {
                  "title": {
                    "text": "Date"
                  }
                },
                "yaxis": {
                  "title": {
                    "font": {
                      "color": "blue"
                    },
                    "text": "Standardized Sentiment"
                  }
                },
                "yaxis2": {
                  "overlaying": "y",
                  "side": "right",
                  "title": {
                    "font": {
                      "color": "green"
                    },
                    "text": "Stock % Change"
                  }
                }
              }
            }
          },
          "metadata": {},
          "output_type": "display_data"
        }
      ],
      "source": [
        "forecast_mean, forecast_ci, forecast_index = fit_and_forecast(combined_df)\n",
        "create_plot(combined_df, forecast_mean, forecast_ci, forecast_index)\n"
      ]
    },
    {
      "cell_type": "markdown",
      "metadata": {
        "id": "4ylbAyOqev_-"
      },
      "source": [
        ">  **Disclaimer**: This is a simplified model. In reality, stock prices are influenced by many factors, such as interest rates, earnings reports, geopolitical events, and investor speculation. This chart only considers **one variable**: news sentiment. It should not be used for actual trading decisions."
      ]
    },
    {
      "cell_type": "markdown",
      "metadata": {},
      "source": []
    }
  ],
  "metadata": {
    "colab": {
      "provenance": []
    },
    "kernelspec": {
      "display_name": "Python 3",
      "name": "python3"
    },
    "language_info": {
      "codemirror_mode": {
        "name": "ipython",
        "version": 3
      },
      "file_extension": ".py",
      "mimetype": "text/x-python",
      "name": "python",
      "nbconvert_exporter": "python",
      "pygments_lexer": "ipython3",
      "version": "3.12.9"
    },
    "widgets": {
      "application/vnd.jupyter.widget-state+json": {
        "09bb541dcc8c4b3ea79a476fe2d117c5": {
          "model_module": "@jupyter-widgets/controls",
          "model_module_version": "1.5.0",
          "model_name": "HTMLModel",
          "state": {
            "_dom_classes": [],
            "_model_module": "@jupyter-widgets/controls",
            "_model_module_version": "1.5.0",
            "_model_name": "HTMLModel",
            "_view_count": null,
            "_view_module": "@jupyter-widgets/controls",
            "_view_module_version": "1.5.0",
            "_view_name": "HTMLView",
            "description": "",
            "description_tooltip": null,
            "layout": "IPY_MODEL_78639d4c8681413e9381aba497838923",
            "placeholder": "​",
            "style": "IPY_MODEL_dc8c1e13f365450fa576033668e10a2a",
            "value": " 232k/? [00:00&lt;00:00, 2.08MB/s]"
          }
        },
        "134951f84ba64f99af75c40c68eacdb1": {
          "model_module": "@jupyter-widgets/controls",
          "model_module_version": "1.5.0",
          "model_name": "HTMLModel",
          "state": {
            "_dom_classes": [],
            "_model_module": "@jupyter-widgets/controls",
            "_model_module_version": "1.5.0",
            "_model_name": "HTMLModel",
            "_view_count": null,
            "_view_module": "@jupyter-widgets/controls",
            "_view_module_version": "1.5.0",
            "_view_name": "HTMLView",
            "description": "",
            "description_tooltip": null,
            "layout": "IPY_MODEL_6404d32052624ff3968bf7e0f62f6197",
            "placeholder": "​",
            "style": "IPY_MODEL_79c6ca4394884178aa1c1a8236824a88",
            "value": "config.json: 100%"
          }
        },
        "171c476bda9d4339ad849d5c43065937": {
          "model_module": "@jupyter-widgets/base",
          "model_module_version": "1.2.0",
          "model_name": "LayoutModel",
          "state": {
            "_model_module": "@jupyter-widgets/base",
            "_model_module_version": "1.2.0",
            "_model_name": "LayoutModel",
            "_view_count": null,
            "_view_module": "@jupyter-widgets/base",
            "_view_module_version": "1.2.0",
            "_view_name": "LayoutView",
            "align_content": null,
            "align_items": null,
            "align_self": null,
            "border": null,
            "bottom": null,
            "display": null,
            "flex": null,
            "flex_flow": null,
            "grid_area": null,
            "grid_auto_columns": null,
            "grid_auto_flow": null,
            "grid_auto_rows": null,
            "grid_column": null,
            "grid_gap": null,
            "grid_row": null,
            "grid_template_areas": null,
            "grid_template_columns": null,
            "grid_template_rows": null,
            "height": null,
            "justify_content": null,
            "justify_items": null,
            "left": null,
            "margin": null,
            "max_height": null,
            "max_width": null,
            "min_height": null,
            "min_width": null,
            "object_fit": null,
            "object_position": null,
            "order": null,
            "overflow": null,
            "overflow_x": null,
            "overflow_y": null,
            "padding": null,
            "right": null,
            "top": null,
            "visibility": null,
            "width": null
          }
        },
        "188aa432fb92416fa16b601c3c57416b": {
          "model_module": "@jupyter-widgets/controls",
          "model_module_version": "1.5.0",
          "model_name": "HBoxModel",
          "state": {
            "_dom_classes": [],
            "_model_module": "@jupyter-widgets/controls",
            "_model_module_version": "1.5.0",
            "_model_name": "HBoxModel",
            "_view_count": null,
            "_view_module": "@jupyter-widgets/controls",
            "_view_module_version": "1.5.0",
            "_view_name": "HBoxView",
            "box_style": "",
            "children": [
              "IPY_MODEL_d99e9d7663e14f1fbc0c063a3c842a12",
              "IPY_MODEL_bd9f73d589424eb1b2cfca4a8ac4eeec",
              "IPY_MODEL_09bb541dcc8c4b3ea79a476fe2d117c5"
            ],
            "layout": "IPY_MODEL_2854e34fb73e42298a420486c10e72d4"
          }
        },
        "266a88b52dc84f8aa28f912a23df50e2": {
          "model_module": "@jupyter-widgets/controls",
          "model_module_version": "1.5.0",
          "model_name": "DescriptionStyleModel",
          "state": {
            "_model_module": "@jupyter-widgets/controls",
            "_model_module_version": "1.5.0",
            "_model_name": "DescriptionStyleModel",
            "_view_count": null,
            "_view_module": "@jupyter-widgets/base",
            "_view_module_version": "1.2.0",
            "_view_name": "StyleView",
            "description_width": ""
          }
        },
        "2854e34fb73e42298a420486c10e72d4": {
          "model_module": "@jupyter-widgets/base",
          "model_module_version": "1.2.0",
          "model_name": "LayoutModel",
          "state": {
            "_model_module": "@jupyter-widgets/base",
            "_model_module_version": "1.2.0",
            "_model_name": "LayoutModel",
            "_view_count": null,
            "_view_module": "@jupyter-widgets/base",
            "_view_module_version": "1.2.0",
            "_view_name": "LayoutView",
            "align_content": null,
            "align_items": null,
            "align_self": null,
            "border": null,
            "bottom": null,
            "display": null,
            "flex": null,
            "flex_flow": null,
            "grid_area": null,
            "grid_auto_columns": null,
            "grid_auto_flow": null,
            "grid_auto_rows": null,
            "grid_column": null,
            "grid_gap": null,
            "grid_row": null,
            "grid_template_areas": null,
            "grid_template_columns": null,
            "grid_template_rows": null,
            "height": null,
            "justify_content": null,
            "justify_items": null,
            "left": null,
            "margin": null,
            "max_height": null,
            "max_width": null,
            "min_height": null,
            "min_width": null,
            "object_fit": null,
            "object_position": null,
            "order": null,
            "overflow": null,
            "overflow_x": null,
            "overflow_y": null,
            "padding": null,
            "right": null,
            "top": null,
            "visibility": null,
            "width": null
          }
        },
        "2b6fd14b6f4c420383ce01b64c27a1cd": {
          "model_module": "@jupyter-widgets/controls",
          "model_module_version": "1.5.0",
          "model_name": "DescriptionStyleModel",
          "state": {
            "_model_module": "@jupyter-widgets/controls",
            "_model_module_version": "1.5.0",
            "_model_name": "DescriptionStyleModel",
            "_view_count": null,
            "_view_module": "@jupyter-widgets/base",
            "_view_module_version": "1.2.0",
            "_view_name": "StyleView",
            "description_width": ""
          }
        },
        "3963d2fbe437413a90201aa7c0e64408": {
          "model_module": "@jupyter-widgets/controls",
          "model_module_version": "1.5.0",
          "model_name": "FloatProgressModel",
          "state": {
            "_dom_classes": [],
            "_model_module": "@jupyter-widgets/controls",
            "_model_module_version": "1.5.0",
            "_model_name": "FloatProgressModel",
            "_view_count": null,
            "_view_module": "@jupyter-widgets/controls",
            "_view_module_version": "1.5.0",
            "_view_name": "ProgressView",
            "bar_style": "success",
            "description": "",
            "description_tooltip": null,
            "layout": "IPY_MODEL_fa29078ee51b4319aa72574286d84436",
            "max": 48,
            "min": 0,
            "orientation": "horizontal",
            "style": "IPY_MODEL_a3d0a16e680f4abc88d17a496c6d5454",
            "value": 48
          }
        },
        "3ab721856bf74648a4824b6caaab989d": {
          "model_module": "@jupyter-widgets/base",
          "model_module_version": "1.2.0",
          "model_name": "LayoutModel",
          "state": {
            "_model_module": "@jupyter-widgets/base",
            "_model_module_version": "1.2.0",
            "_model_name": "LayoutModel",
            "_view_count": null,
            "_view_module": "@jupyter-widgets/base",
            "_view_module_version": "1.2.0",
            "_view_name": "LayoutView",
            "align_content": null,
            "align_items": null,
            "align_self": null,
            "border": null,
            "bottom": null,
            "display": null,
            "flex": null,
            "flex_flow": null,
            "grid_area": null,
            "grid_auto_columns": null,
            "grid_auto_flow": null,
            "grid_auto_rows": null,
            "grid_column": null,
            "grid_gap": null,
            "grid_row": null,
            "grid_template_areas": null,
            "grid_template_columns": null,
            "grid_template_rows": null,
            "height": null,
            "justify_content": null,
            "justify_items": null,
            "left": null,
            "margin": null,
            "max_height": null,
            "max_width": null,
            "min_height": null,
            "min_width": null,
            "object_fit": null,
            "object_position": null,
            "order": null,
            "overflow": null,
            "overflow_x": null,
            "overflow_y": null,
            "padding": null,
            "right": null,
            "top": null,
            "visibility": null,
            "width": null
          }
        },
        "3c313f3952b042bd932cac021ddb9c43": {
          "model_module": "@jupyter-widgets/controls",
          "model_module_version": "1.5.0",
          "model_name": "HTMLModel",
          "state": {
            "_dom_classes": [],
            "_model_module": "@jupyter-widgets/controls",
            "_model_module_version": "1.5.0",
            "_model_name": "HTMLModel",
            "_view_count": null,
            "_view_module": "@jupyter-widgets/controls",
            "_view_module_version": "1.5.0",
            "_view_name": "HTMLView",
            "description": "",
            "description_tooltip": null,
            "layout": "IPY_MODEL_d87ae513b12d469eb522f85b1a903162",
            "placeholder": "​",
            "style": "IPY_MODEL_65c9573201be4a74bf73b4b613901da4",
            "value": " 48.0/48.0 [00:00&lt;00:00, 992B/s]"
          }
        },
        "6404d32052624ff3968bf7e0f62f6197": {
          "model_module": "@jupyter-widgets/base",
          "model_module_version": "1.2.0",
          "model_name": "LayoutModel",
          "state": {
            "_model_module": "@jupyter-widgets/base",
            "_model_module_version": "1.2.0",
            "_model_name": "LayoutModel",
            "_view_count": null,
            "_view_module": "@jupyter-widgets/base",
            "_view_module_version": "1.2.0",
            "_view_name": "LayoutView",
            "align_content": null,
            "align_items": null,
            "align_self": null,
            "border": null,
            "bottom": null,
            "display": null,
            "flex": null,
            "flex_flow": null,
            "grid_area": null,
            "grid_auto_columns": null,
            "grid_auto_flow": null,
            "grid_auto_rows": null,
            "grid_column": null,
            "grid_gap": null,
            "grid_row": null,
            "grid_template_areas": null,
            "grid_template_columns": null,
            "grid_template_rows": null,
            "height": null,
            "justify_content": null,
            "justify_items": null,
            "left": null,
            "margin": null,
            "max_height": null,
            "max_width": null,
            "min_height": null,
            "min_width": null,
            "object_fit": null,
            "object_position": null,
            "order": null,
            "overflow": null,
            "overflow_x": null,
            "overflow_y": null,
            "padding": null,
            "right": null,
            "top": null,
            "visibility": null,
            "width": null
          }
        },
        "65c9573201be4a74bf73b4b613901da4": {
          "model_module": "@jupyter-widgets/controls",
          "model_module_version": "1.5.0",
          "model_name": "DescriptionStyleModel",
          "state": {
            "_model_module": "@jupyter-widgets/controls",
            "_model_module_version": "1.5.0",
            "_model_name": "DescriptionStyleModel",
            "_view_count": null,
            "_view_module": "@jupyter-widgets/base",
            "_view_module_version": "1.2.0",
            "_view_name": "StyleView",
            "description_width": ""
          }
        },
        "6ce7699be6014cc3a68af0a8a688fb12": {
          "model_module": "@jupyter-widgets/controls",
          "model_module_version": "1.5.0",
          "model_name": "HBoxModel",
          "state": {
            "_dom_classes": [],
            "_model_module": "@jupyter-widgets/controls",
            "_model_module_version": "1.5.0",
            "_model_name": "HBoxModel",
            "_view_count": null,
            "_view_module": "@jupyter-widgets/controls",
            "_view_module_version": "1.5.0",
            "_view_name": "HBoxView",
            "box_style": "",
            "children": [
              "IPY_MODEL_78b7d2ee64174de2acc17158bd9cb01f",
              "IPY_MODEL_ac2d63ad369842c29c8cb03137501a98",
              "IPY_MODEL_b1e1a54fd4ba4595b9881bf08167f263"
            ],
            "layout": "IPY_MODEL_171c476bda9d4339ad849d5c43065937"
          }
        },
        "6e33847553704e43a5a1b0af2e0bfd62": {
          "model_module": "@jupyter-widgets/controls",
          "model_module_version": "1.5.0",
          "model_name": "ProgressStyleModel",
          "state": {
            "_model_module": "@jupyter-widgets/controls",
            "_model_module_version": "1.5.0",
            "_model_name": "ProgressStyleModel",
            "_view_count": null,
            "_view_module": "@jupyter-widgets/base",
            "_view_module_version": "1.2.0",
            "_view_name": "StyleView",
            "bar_color": null,
            "description_width": ""
          }
        },
        "70729c351dee4be1b7802133b67ab3a7": {
          "model_module": "@jupyter-widgets/controls",
          "model_module_version": "1.5.0",
          "model_name": "FloatProgressModel",
          "state": {
            "_dom_classes": [],
            "_model_module": "@jupyter-widgets/controls",
            "_model_module_version": "1.5.0",
            "_model_name": "FloatProgressModel",
            "_view_count": null,
            "_view_module": "@jupyter-widgets/controls",
            "_view_module_version": "1.5.0",
            "_view_name": "ProgressView",
            "bar_style": "success",
            "description": "",
            "description_tooltip": null,
            "layout": "IPY_MODEL_933c8f2579a14270838b319693c7b5ef",
            "max": 629,
            "min": 0,
            "orientation": "horizontal",
            "style": "IPY_MODEL_f647fc4430e748449e3f852ae7ac0101",
            "value": 629
          }
        },
        "78639d4c8681413e9381aba497838923": {
          "model_module": "@jupyter-widgets/base",
          "model_module_version": "1.2.0",
          "model_name": "LayoutModel",
          "state": {
            "_model_module": "@jupyter-widgets/base",
            "_model_module_version": "1.2.0",
            "_model_name": "LayoutModel",
            "_view_count": null,
            "_view_module": "@jupyter-widgets/base",
            "_view_module_version": "1.2.0",
            "_view_name": "LayoutView",
            "align_content": null,
            "align_items": null,
            "align_self": null,
            "border": null,
            "bottom": null,
            "display": null,
            "flex": null,
            "flex_flow": null,
            "grid_area": null,
            "grid_auto_columns": null,
            "grid_auto_flow": null,
            "grid_auto_rows": null,
            "grid_column": null,
            "grid_gap": null,
            "grid_row": null,
            "grid_template_areas": null,
            "grid_template_columns": null,
            "grid_template_rows": null,
            "height": null,
            "justify_content": null,
            "justify_items": null,
            "left": null,
            "margin": null,
            "max_height": null,
            "max_width": null,
            "min_height": null,
            "min_width": null,
            "object_fit": null,
            "object_position": null,
            "order": null,
            "overflow": null,
            "overflow_x": null,
            "overflow_y": null,
            "padding": null,
            "right": null,
            "top": null,
            "visibility": null,
            "width": null
          }
        },
        "78b7d2ee64174de2acc17158bd9cb01f": {
          "model_module": "@jupyter-widgets/controls",
          "model_module_version": "1.5.0",
          "model_name": "HTMLModel",
          "state": {
            "_dom_classes": [],
            "_model_module": "@jupyter-widgets/controls",
            "_model_module_version": "1.5.0",
            "_model_name": "HTMLModel",
            "_view_count": null,
            "_view_module": "@jupyter-widgets/controls",
            "_view_module_version": "1.5.0",
            "_view_name": "HTMLView",
            "description": "",
            "description_tooltip": null,
            "layout": "IPY_MODEL_3ab721856bf74648a4824b6caaab989d",
            "placeholder": "​",
            "style": "IPY_MODEL_266a88b52dc84f8aa28f912a23df50e2",
            "value": "model.safetensors: 100%"
          }
        },
        "79c6ca4394884178aa1c1a8236824a88": {
          "model_module": "@jupyter-widgets/controls",
          "model_module_version": "1.5.0",
          "model_name": "DescriptionStyleModel",
          "state": {
            "_model_module": "@jupyter-widgets/controls",
            "_model_module_version": "1.5.0",
            "_model_name": "DescriptionStyleModel",
            "_view_count": null,
            "_view_module": "@jupyter-widgets/base",
            "_view_module_version": "1.2.0",
            "_view_name": "StyleView",
            "description_width": ""
          }
        },
        "7a36db7eea20422d84efe570804f48cc": {
          "model_module": "@jupyter-widgets/base",
          "model_module_version": "1.2.0",
          "model_name": "LayoutModel",
          "state": {
            "_model_module": "@jupyter-widgets/base",
            "_model_module_version": "1.2.0",
            "_model_name": "LayoutModel",
            "_view_count": null,
            "_view_module": "@jupyter-widgets/base",
            "_view_module_version": "1.2.0",
            "_view_name": "LayoutView",
            "align_content": null,
            "align_items": null,
            "align_self": null,
            "border": null,
            "bottom": null,
            "display": null,
            "flex": null,
            "flex_flow": null,
            "grid_area": null,
            "grid_auto_columns": null,
            "grid_auto_flow": null,
            "grid_auto_rows": null,
            "grid_column": null,
            "grid_gap": null,
            "grid_row": null,
            "grid_template_areas": null,
            "grid_template_columns": null,
            "grid_template_rows": null,
            "height": null,
            "justify_content": null,
            "justify_items": null,
            "left": null,
            "margin": null,
            "max_height": null,
            "max_width": null,
            "min_height": null,
            "min_width": null,
            "object_fit": null,
            "object_position": null,
            "order": null,
            "overflow": null,
            "overflow_x": null,
            "overflow_y": null,
            "padding": null,
            "right": null,
            "top": null,
            "visibility": null,
            "width": "20px"
          }
        },
        "7d2ac80d28a64f5e812f32386178652e": {
          "model_module": "@jupyter-widgets/controls",
          "model_module_version": "1.5.0",
          "model_name": "HTMLModel",
          "state": {
            "_dom_classes": [],
            "_model_module": "@jupyter-widgets/controls",
            "_model_module_version": "1.5.0",
            "_model_name": "HTMLModel",
            "_view_count": null,
            "_view_module": "@jupyter-widgets/controls",
            "_view_module_version": "1.5.0",
            "_view_name": "HTMLView",
            "description": "",
            "description_tooltip": null,
            "layout": "IPY_MODEL_d3eb8874b3ef4bf494271ba8def43045",
            "placeholder": "​",
            "style": "IPY_MODEL_a0977a355c25431f838421ce6c66be6e",
            "value": "tokenizer_config.json: 100%"
          }
        },
        "7f29b31c55b74173af31fc47d5ca224c": {
          "model_module": "@jupyter-widgets/controls",
          "model_module_version": "1.5.0",
          "model_name": "DescriptionStyleModel",
          "state": {
            "_model_module": "@jupyter-widgets/controls",
            "_model_module_version": "1.5.0",
            "_model_name": "DescriptionStyleModel",
            "_view_count": null,
            "_view_module": "@jupyter-widgets/base",
            "_view_module_version": "1.2.0",
            "_view_name": "StyleView",
            "description_width": ""
          }
        },
        "933c8f2579a14270838b319693c7b5ef": {
          "model_module": "@jupyter-widgets/base",
          "model_module_version": "1.2.0",
          "model_name": "LayoutModel",
          "state": {
            "_model_module": "@jupyter-widgets/base",
            "_model_module_version": "1.2.0",
            "_model_name": "LayoutModel",
            "_view_count": null,
            "_view_module": "@jupyter-widgets/base",
            "_view_module_version": "1.2.0",
            "_view_name": "LayoutView",
            "align_content": null,
            "align_items": null,
            "align_self": null,
            "border": null,
            "bottom": null,
            "display": null,
            "flex": null,
            "flex_flow": null,
            "grid_area": null,
            "grid_auto_columns": null,
            "grid_auto_flow": null,
            "grid_auto_rows": null,
            "grid_column": null,
            "grid_gap": null,
            "grid_row": null,
            "grid_template_areas": null,
            "grid_template_columns": null,
            "grid_template_rows": null,
            "height": null,
            "justify_content": null,
            "justify_items": null,
            "left": null,
            "margin": null,
            "max_height": null,
            "max_width": null,
            "min_height": null,
            "min_width": null,
            "object_fit": null,
            "object_position": null,
            "order": null,
            "overflow": null,
            "overflow_x": null,
            "overflow_y": null,
            "padding": null,
            "right": null,
            "top": null,
            "visibility": null,
            "width": null
          }
        },
        "9f5d0bbe03f24a3ba5c026f43701e1fb": {
          "model_module": "@jupyter-widgets/controls",
          "model_module_version": "1.5.0",
          "model_name": "ProgressStyleModel",
          "state": {
            "_model_module": "@jupyter-widgets/controls",
            "_model_module_version": "1.5.0",
            "_model_name": "ProgressStyleModel",
            "_view_count": null,
            "_view_module": "@jupyter-widgets/base",
            "_view_module_version": "1.2.0",
            "_view_name": "StyleView",
            "bar_color": null,
            "description_width": ""
          }
        },
        "a0977a355c25431f838421ce6c66be6e": {
          "model_module": "@jupyter-widgets/controls",
          "model_module_version": "1.5.0",
          "model_name": "DescriptionStyleModel",
          "state": {
            "_model_module": "@jupyter-widgets/controls",
            "_model_module_version": "1.5.0",
            "_model_name": "DescriptionStyleModel",
            "_view_count": null,
            "_view_module": "@jupyter-widgets/base",
            "_view_module_version": "1.2.0",
            "_view_name": "StyleView",
            "description_width": ""
          }
        },
        "a3d0a16e680f4abc88d17a496c6d5454": {
          "model_module": "@jupyter-widgets/controls",
          "model_module_version": "1.5.0",
          "model_name": "ProgressStyleModel",
          "state": {
            "_model_module": "@jupyter-widgets/controls",
            "_model_module_version": "1.5.0",
            "_model_name": "ProgressStyleModel",
            "_view_count": null,
            "_view_module": "@jupyter-widgets/base",
            "_view_module_version": "1.2.0",
            "_view_name": "StyleView",
            "bar_color": null,
            "description_width": ""
          }
        },
        "ac2d63ad369842c29c8cb03137501a98": {
          "model_module": "@jupyter-widgets/controls",
          "model_module_version": "1.5.0",
          "model_name": "FloatProgressModel",
          "state": {
            "_dom_classes": [],
            "_model_module": "@jupyter-widgets/controls",
            "_model_module_version": "1.5.0",
            "_model_name": "FloatProgressModel",
            "_view_count": null,
            "_view_module": "@jupyter-widgets/controls",
            "_view_module_version": "1.5.0",
            "_view_name": "ProgressView",
            "bar_style": "success",
            "description": "",
            "description_tooltip": null,
            "layout": "IPY_MODEL_e89dc0000f6244089e865b6a40d2a692",
            "max": 267832558,
            "min": 0,
            "orientation": "horizontal",
            "style": "IPY_MODEL_6e33847553704e43a5a1b0af2e0bfd62",
            "value": 267832558
          }
        },
        "ae187b8c195b4c05a19f8f2d6fc7e4de": {
          "model_module": "@jupyter-widgets/controls",
          "model_module_version": "1.5.0",
          "model_name": "HBoxModel",
          "state": {
            "_dom_classes": [],
            "_model_module": "@jupyter-widgets/controls",
            "_model_module_version": "1.5.0",
            "_model_name": "HBoxModel",
            "_view_count": null,
            "_view_module": "@jupyter-widgets/controls",
            "_view_module_version": "1.5.0",
            "_view_name": "HBoxView",
            "box_style": "",
            "children": [
              "IPY_MODEL_134951f84ba64f99af75c40c68eacdb1",
              "IPY_MODEL_70729c351dee4be1b7802133b67ab3a7",
              "IPY_MODEL_b24f6d8672af440b80c20a222b2cc471"
            ],
            "layout": "IPY_MODEL_f86eb9c4f8f146748c75ff68b243f70a"
          }
        },
        "b1e1a54fd4ba4595b9881bf08167f263": {
          "model_module": "@jupyter-widgets/controls",
          "model_module_version": "1.5.0",
          "model_name": "HTMLModel",
          "state": {
            "_dom_classes": [],
            "_model_module": "@jupyter-widgets/controls",
            "_model_module_version": "1.5.0",
            "_model_name": "HTMLModel",
            "_view_count": null,
            "_view_module": "@jupyter-widgets/controls",
            "_view_module_version": "1.5.0",
            "_view_name": "HTMLView",
            "description": "",
            "description_tooltip": null,
            "layout": "IPY_MODEL_b7f205839bd7409c8440314c849d5991",
            "placeholder": "​",
            "style": "IPY_MODEL_be4acb937af846ce8c1bc2eca74bd22b",
            "value": " 268M/268M [00:08&lt;00:00, 39.3MB/s]"
          }
        },
        "b24f6d8672af440b80c20a222b2cc471": {
          "model_module": "@jupyter-widgets/controls",
          "model_module_version": "1.5.0",
          "model_name": "HTMLModel",
          "state": {
            "_dom_classes": [],
            "_model_module": "@jupyter-widgets/controls",
            "_model_module_version": "1.5.0",
            "_model_name": "HTMLModel",
            "_view_count": null,
            "_view_module": "@jupyter-widgets/controls",
            "_view_module_version": "1.5.0",
            "_view_name": "HTMLView",
            "description": "",
            "description_tooltip": null,
            "layout": "IPY_MODEL_c0228a69c160473682c7fc2a70641499",
            "placeholder": "​",
            "style": "IPY_MODEL_7f29b31c55b74173af31fc47d5ca224c",
            "value": " 629/629 [00:00&lt;00:00, 28.4kB/s]"
          }
        },
        "b7f205839bd7409c8440314c849d5991": {
          "model_module": "@jupyter-widgets/base",
          "model_module_version": "1.2.0",
          "model_name": "LayoutModel",
          "state": {
            "_model_module": "@jupyter-widgets/base",
            "_model_module_version": "1.2.0",
            "_model_name": "LayoutModel",
            "_view_count": null,
            "_view_module": "@jupyter-widgets/base",
            "_view_module_version": "1.2.0",
            "_view_name": "LayoutView",
            "align_content": null,
            "align_items": null,
            "align_self": null,
            "border": null,
            "bottom": null,
            "display": null,
            "flex": null,
            "flex_flow": null,
            "grid_area": null,
            "grid_auto_columns": null,
            "grid_auto_flow": null,
            "grid_auto_rows": null,
            "grid_column": null,
            "grid_gap": null,
            "grid_row": null,
            "grid_template_areas": null,
            "grid_template_columns": null,
            "grid_template_rows": null,
            "height": null,
            "justify_content": null,
            "justify_items": null,
            "left": null,
            "margin": null,
            "max_height": null,
            "max_width": null,
            "min_height": null,
            "min_width": null,
            "object_fit": null,
            "object_position": null,
            "order": null,
            "overflow": null,
            "overflow_x": null,
            "overflow_y": null,
            "padding": null,
            "right": null,
            "top": null,
            "visibility": null,
            "width": null
          }
        },
        "b8299f464a0b4b3a8df4ba2b635d3cca": {
          "model_module": "@jupyter-widgets/base",
          "model_module_version": "1.2.0",
          "model_name": "LayoutModel",
          "state": {
            "_model_module": "@jupyter-widgets/base",
            "_model_module_version": "1.2.0",
            "_model_name": "LayoutModel",
            "_view_count": null,
            "_view_module": "@jupyter-widgets/base",
            "_view_module_version": "1.2.0",
            "_view_name": "LayoutView",
            "align_content": null,
            "align_items": null,
            "align_self": null,
            "border": null,
            "bottom": null,
            "display": null,
            "flex": null,
            "flex_flow": null,
            "grid_area": null,
            "grid_auto_columns": null,
            "grid_auto_flow": null,
            "grid_auto_rows": null,
            "grid_column": null,
            "grid_gap": null,
            "grid_row": null,
            "grid_template_areas": null,
            "grid_template_columns": null,
            "grid_template_rows": null,
            "height": null,
            "justify_content": null,
            "justify_items": null,
            "left": null,
            "margin": null,
            "max_height": null,
            "max_width": null,
            "min_height": null,
            "min_width": null,
            "object_fit": null,
            "object_position": null,
            "order": null,
            "overflow": null,
            "overflow_x": null,
            "overflow_y": null,
            "padding": null,
            "right": null,
            "top": null,
            "visibility": null,
            "width": null
          }
        },
        "bd9f73d589424eb1b2cfca4a8ac4eeec": {
          "model_module": "@jupyter-widgets/controls",
          "model_module_version": "1.5.0",
          "model_name": "FloatProgressModel",
          "state": {
            "_dom_classes": [],
            "_model_module": "@jupyter-widgets/controls",
            "_model_module_version": "1.5.0",
            "_model_name": "FloatProgressModel",
            "_view_count": null,
            "_view_module": "@jupyter-widgets/controls",
            "_view_module_version": "1.5.0",
            "_view_name": "ProgressView",
            "bar_style": "success",
            "description": "",
            "description_tooltip": null,
            "layout": "IPY_MODEL_7a36db7eea20422d84efe570804f48cc",
            "max": 1,
            "min": 0,
            "orientation": "horizontal",
            "style": "IPY_MODEL_9f5d0bbe03f24a3ba5c026f43701e1fb",
            "value": 1
          }
        },
        "be4acb937af846ce8c1bc2eca74bd22b": {
          "model_module": "@jupyter-widgets/controls",
          "model_module_version": "1.5.0",
          "model_name": "DescriptionStyleModel",
          "state": {
            "_model_module": "@jupyter-widgets/controls",
            "_model_module_version": "1.5.0",
            "_model_name": "DescriptionStyleModel",
            "_view_count": null,
            "_view_module": "@jupyter-widgets/base",
            "_view_module_version": "1.2.0",
            "_view_name": "StyleView",
            "description_width": ""
          }
        },
        "c0228a69c160473682c7fc2a70641499": {
          "model_module": "@jupyter-widgets/base",
          "model_module_version": "1.2.0",
          "model_name": "LayoutModel",
          "state": {
            "_model_module": "@jupyter-widgets/base",
            "_model_module_version": "1.2.0",
            "_model_name": "LayoutModel",
            "_view_count": null,
            "_view_module": "@jupyter-widgets/base",
            "_view_module_version": "1.2.0",
            "_view_name": "LayoutView",
            "align_content": null,
            "align_items": null,
            "align_self": null,
            "border": null,
            "bottom": null,
            "display": null,
            "flex": null,
            "flex_flow": null,
            "grid_area": null,
            "grid_auto_columns": null,
            "grid_auto_flow": null,
            "grid_auto_rows": null,
            "grid_column": null,
            "grid_gap": null,
            "grid_row": null,
            "grid_template_areas": null,
            "grid_template_columns": null,
            "grid_template_rows": null,
            "height": null,
            "justify_content": null,
            "justify_items": null,
            "left": null,
            "margin": null,
            "max_height": null,
            "max_width": null,
            "min_height": null,
            "min_width": null,
            "object_fit": null,
            "object_position": null,
            "order": null,
            "overflow": null,
            "overflow_x": null,
            "overflow_y": null,
            "padding": null,
            "right": null,
            "top": null,
            "visibility": null,
            "width": null
          }
        },
        "c71d4c4a24df40259accdd76c38ce894": {
          "model_module": "@jupyter-widgets/controls",
          "model_module_version": "1.5.0",
          "model_name": "HBoxModel",
          "state": {
            "_dom_classes": [],
            "_model_module": "@jupyter-widgets/controls",
            "_model_module_version": "1.5.0",
            "_model_name": "HBoxModel",
            "_view_count": null,
            "_view_module": "@jupyter-widgets/controls",
            "_view_module_version": "1.5.0",
            "_view_name": "HBoxView",
            "box_style": "",
            "children": [
              "IPY_MODEL_7d2ac80d28a64f5e812f32386178652e",
              "IPY_MODEL_3963d2fbe437413a90201aa7c0e64408",
              "IPY_MODEL_3c313f3952b042bd932cac021ddb9c43"
            ],
            "layout": "IPY_MODEL_d6b42a5fcb0c408297f5e608f8ffd207"
          }
        },
        "d3eb8874b3ef4bf494271ba8def43045": {
          "model_module": "@jupyter-widgets/base",
          "model_module_version": "1.2.0",
          "model_name": "LayoutModel",
          "state": {
            "_model_module": "@jupyter-widgets/base",
            "_model_module_version": "1.2.0",
            "_model_name": "LayoutModel",
            "_view_count": null,
            "_view_module": "@jupyter-widgets/base",
            "_view_module_version": "1.2.0",
            "_view_name": "LayoutView",
            "align_content": null,
            "align_items": null,
            "align_self": null,
            "border": null,
            "bottom": null,
            "display": null,
            "flex": null,
            "flex_flow": null,
            "grid_area": null,
            "grid_auto_columns": null,
            "grid_auto_flow": null,
            "grid_auto_rows": null,
            "grid_column": null,
            "grid_gap": null,
            "grid_row": null,
            "grid_template_areas": null,
            "grid_template_columns": null,
            "grid_template_rows": null,
            "height": null,
            "justify_content": null,
            "justify_items": null,
            "left": null,
            "margin": null,
            "max_height": null,
            "max_width": null,
            "min_height": null,
            "min_width": null,
            "object_fit": null,
            "object_position": null,
            "order": null,
            "overflow": null,
            "overflow_x": null,
            "overflow_y": null,
            "padding": null,
            "right": null,
            "top": null,
            "visibility": null,
            "width": null
          }
        },
        "d6b42a5fcb0c408297f5e608f8ffd207": {
          "model_module": "@jupyter-widgets/base",
          "model_module_version": "1.2.0",
          "model_name": "LayoutModel",
          "state": {
            "_model_module": "@jupyter-widgets/base",
            "_model_module_version": "1.2.0",
            "_model_name": "LayoutModel",
            "_view_count": null,
            "_view_module": "@jupyter-widgets/base",
            "_view_module_version": "1.2.0",
            "_view_name": "LayoutView",
            "align_content": null,
            "align_items": null,
            "align_self": null,
            "border": null,
            "bottom": null,
            "display": null,
            "flex": null,
            "flex_flow": null,
            "grid_area": null,
            "grid_auto_columns": null,
            "grid_auto_flow": null,
            "grid_auto_rows": null,
            "grid_column": null,
            "grid_gap": null,
            "grid_row": null,
            "grid_template_areas": null,
            "grid_template_columns": null,
            "grid_template_rows": null,
            "height": null,
            "justify_content": null,
            "justify_items": null,
            "left": null,
            "margin": null,
            "max_height": null,
            "max_width": null,
            "min_height": null,
            "min_width": null,
            "object_fit": null,
            "object_position": null,
            "order": null,
            "overflow": null,
            "overflow_x": null,
            "overflow_y": null,
            "padding": null,
            "right": null,
            "top": null,
            "visibility": null,
            "width": null
          }
        },
        "d87ae513b12d469eb522f85b1a903162": {
          "model_module": "@jupyter-widgets/base",
          "model_module_version": "1.2.0",
          "model_name": "LayoutModel",
          "state": {
            "_model_module": "@jupyter-widgets/base",
            "_model_module_version": "1.2.0",
            "_model_name": "LayoutModel",
            "_view_count": null,
            "_view_module": "@jupyter-widgets/base",
            "_view_module_version": "1.2.0",
            "_view_name": "LayoutView",
            "align_content": null,
            "align_items": null,
            "align_self": null,
            "border": null,
            "bottom": null,
            "display": null,
            "flex": null,
            "flex_flow": null,
            "grid_area": null,
            "grid_auto_columns": null,
            "grid_auto_flow": null,
            "grid_auto_rows": null,
            "grid_column": null,
            "grid_gap": null,
            "grid_row": null,
            "grid_template_areas": null,
            "grid_template_columns": null,
            "grid_template_rows": null,
            "height": null,
            "justify_content": null,
            "justify_items": null,
            "left": null,
            "margin": null,
            "max_height": null,
            "max_width": null,
            "min_height": null,
            "min_width": null,
            "object_fit": null,
            "object_position": null,
            "order": null,
            "overflow": null,
            "overflow_x": null,
            "overflow_y": null,
            "padding": null,
            "right": null,
            "top": null,
            "visibility": null,
            "width": null
          }
        },
        "d99e9d7663e14f1fbc0c063a3c842a12": {
          "model_module": "@jupyter-widgets/controls",
          "model_module_version": "1.5.0",
          "model_name": "HTMLModel",
          "state": {
            "_dom_classes": [],
            "_model_module": "@jupyter-widgets/controls",
            "_model_module_version": "1.5.0",
            "_model_name": "HTMLModel",
            "_view_count": null,
            "_view_module": "@jupyter-widgets/controls",
            "_view_module_version": "1.5.0",
            "_view_name": "HTMLView",
            "description": "",
            "description_tooltip": null,
            "layout": "IPY_MODEL_b8299f464a0b4b3a8df4ba2b635d3cca",
            "placeholder": "​",
            "style": "IPY_MODEL_2b6fd14b6f4c420383ce01b64c27a1cd",
            "value": "vocab.txt: "
          }
        },
        "dc8c1e13f365450fa576033668e10a2a": {
          "model_module": "@jupyter-widgets/controls",
          "model_module_version": "1.5.0",
          "model_name": "DescriptionStyleModel",
          "state": {
            "_model_module": "@jupyter-widgets/controls",
            "_model_module_version": "1.5.0",
            "_model_name": "DescriptionStyleModel",
            "_view_count": null,
            "_view_module": "@jupyter-widgets/base",
            "_view_module_version": "1.2.0",
            "_view_name": "StyleView",
            "description_width": ""
          }
        },
        "e89dc0000f6244089e865b6a40d2a692": {
          "model_module": "@jupyter-widgets/base",
          "model_module_version": "1.2.0",
          "model_name": "LayoutModel",
          "state": {
            "_model_module": "@jupyter-widgets/base",
            "_model_module_version": "1.2.0",
            "_model_name": "LayoutModel",
            "_view_count": null,
            "_view_module": "@jupyter-widgets/base",
            "_view_module_version": "1.2.0",
            "_view_name": "LayoutView",
            "align_content": null,
            "align_items": null,
            "align_self": null,
            "border": null,
            "bottom": null,
            "display": null,
            "flex": null,
            "flex_flow": null,
            "grid_area": null,
            "grid_auto_columns": null,
            "grid_auto_flow": null,
            "grid_auto_rows": null,
            "grid_column": null,
            "grid_gap": null,
            "grid_row": null,
            "grid_template_areas": null,
            "grid_template_columns": null,
            "grid_template_rows": null,
            "height": null,
            "justify_content": null,
            "justify_items": null,
            "left": null,
            "margin": null,
            "max_height": null,
            "max_width": null,
            "min_height": null,
            "min_width": null,
            "object_fit": null,
            "object_position": null,
            "order": null,
            "overflow": null,
            "overflow_x": null,
            "overflow_y": null,
            "padding": null,
            "right": null,
            "top": null,
            "visibility": null,
            "width": null
          }
        },
        "f647fc4430e748449e3f852ae7ac0101": {
          "model_module": "@jupyter-widgets/controls",
          "model_module_version": "1.5.0",
          "model_name": "ProgressStyleModel",
          "state": {
            "_model_module": "@jupyter-widgets/controls",
            "_model_module_version": "1.5.0",
            "_model_name": "ProgressStyleModel",
            "_view_count": null,
            "_view_module": "@jupyter-widgets/base",
            "_view_module_version": "1.2.0",
            "_view_name": "StyleView",
            "bar_color": null,
            "description_width": ""
          }
        },
        "f86eb9c4f8f146748c75ff68b243f70a": {
          "model_module": "@jupyter-widgets/base",
          "model_module_version": "1.2.0",
          "model_name": "LayoutModel",
          "state": {
            "_model_module": "@jupyter-widgets/base",
            "_model_module_version": "1.2.0",
            "_model_name": "LayoutModel",
            "_view_count": null,
            "_view_module": "@jupyter-widgets/base",
            "_view_module_version": "1.2.0",
            "_view_name": "LayoutView",
            "align_content": null,
            "align_items": null,
            "align_self": null,
            "border": null,
            "bottom": null,
            "display": null,
            "flex": null,
            "flex_flow": null,
            "grid_area": null,
            "grid_auto_columns": null,
            "grid_auto_flow": null,
            "grid_auto_rows": null,
            "grid_column": null,
            "grid_gap": null,
            "grid_row": null,
            "grid_template_areas": null,
            "grid_template_columns": null,
            "grid_template_rows": null,
            "height": null,
            "justify_content": null,
            "justify_items": null,
            "left": null,
            "margin": null,
            "max_height": null,
            "max_width": null,
            "min_height": null,
            "min_width": null,
            "object_fit": null,
            "object_position": null,
            "order": null,
            "overflow": null,
            "overflow_x": null,
            "overflow_y": null,
            "padding": null,
            "right": null,
            "top": null,
            "visibility": null,
            "width": null
          }
        },
        "fa29078ee51b4319aa72574286d84436": {
          "model_module": "@jupyter-widgets/base",
          "model_module_version": "1.2.0",
          "model_name": "LayoutModel",
          "state": {
            "_model_module": "@jupyter-widgets/base",
            "_model_module_version": "1.2.0",
            "_model_name": "LayoutModel",
            "_view_count": null,
            "_view_module": "@jupyter-widgets/base",
            "_view_module_version": "1.2.0",
            "_view_name": "LayoutView",
            "align_content": null,
            "align_items": null,
            "align_self": null,
            "border": null,
            "bottom": null,
            "display": null,
            "flex": null,
            "flex_flow": null,
            "grid_area": null,
            "grid_auto_columns": null,
            "grid_auto_flow": null,
            "grid_auto_rows": null,
            "grid_column": null,
            "grid_gap": null,
            "grid_row": null,
            "grid_template_areas": null,
            "grid_template_columns": null,
            "grid_template_rows": null,
            "height": null,
            "justify_content": null,
            "justify_items": null,
            "left": null,
            "margin": null,
            "max_height": null,
            "max_width": null,
            "min_height": null,
            "min_width": null,
            "object_fit": null,
            "object_position": null,
            "order": null,
            "overflow": null,
            "overflow_x": null,
            "overflow_y": null,
            "padding": null,
            "right": null,
            "top": null,
            "visibility": null,
            "width": null
          }
        }
      }
    }
  },
  "nbformat": 4,
  "nbformat_minor": 0
}
