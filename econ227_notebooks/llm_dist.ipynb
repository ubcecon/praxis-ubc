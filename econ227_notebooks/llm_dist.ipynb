{
  "cells": [
    {
      "cell_type": "code",
      "execution_count": 11,
      "metadata": {},
      "outputs": [],
      "source": [
        "# pip install yfinance finvizfinance transformers pandas numpy statsmodels holidays plotly ipywidgets"
      ]
    },
    {
      "cell_type": "code",
      "execution_count": 7,
      "metadata": {},
      "outputs": [],
      "source": [
        "\n",
        "import yfinance as yf\n",
        "from finvizfinance.quote import finvizfinance\n",
        "from transformers import pipeline\n",
        "import pandas as pd\n",
        "import numpy as np\n",
        "from statsmodels.tsa.statespace.sarimax import SARIMAX\n",
        "import pandas as pd\n",
        "import holidays\n",
        "import plotly.graph_objects as go\n",
        "import numpy as np\n",
        "import ipywidgets as widgets\n",
        "from IPython.display import display, clear_output\n",
        "import seaborn as sns \n",
        "\n"
      ]
    },
    {
      "cell_type": "markdown",
      "metadata": {},
      "source": [
        "\n",
        "\n",
        "## What do Large Language Models do?\n",
        "\n",
        "Large language models like ChatGPT do something that seems very simple: **Next word prediction.**\n",
        "\n",
        "What does that mean? It means that given a sequence of words, the model predicts the next word in the sequence. For example, if the input is \"The cat sat on the\", the model might predict \"mat\" as the next word.\n",
        "\n",
        "\n",
        "```{mermaid}\n",
        "flowchart LR\n",
        "    THE[\"the\"]\n",
        "    CAT[\"cat\"]\n",
        "    SAT[\"sat\"]\n",
        "    ON[\"on\"]\n",
        "    MAT[\"mat\"]\n",
        "    MODEL[\"LLM\"]\n",
        "\n",
        "    THE --> CAT --> SAT --> ON --> MODEL --> MAT\n",
        "\n",
        "    style MAT fill:#FFD700,stroke:#333,stroke-width:2px,font-weight:bold\n",
        "    style MODEL fill:#ADD8E6,stroke:#333,stroke-width:2px\n",
        "```\n",
        "\n",
        "We saw an example of predicting just one word. These models predict only one word at a time, but they can do this for very long sequences of words.\n",
        "\n",
        "For example: \"bob went to the store\" to buy some milk.\n",
        "\n",
        "```{mermaid}\n",
        "flowchart TB\n",
        "\n",
        "  subgraph S1[\"bob went to\"]\n",
        "    direction LR\n",
        "    B1[bob] --> W1[went] --> T1[to] --> M1[LLM] --> P1[buy]\n",
        "    style M1 fill:#ADD8E6,stroke:#333,stroke-width:2px\n",
        "    style P1 fill:#FFD700,stroke:#333,stroke-width:2px,font-weight:bold\n",
        "  end\n",
        "\n",
        "  subgraph S2[\"bob went to buy\"]\n",
        "    direction LR\n",
        "    B2[bob] --> W2[went] --> T2[to] --> B2b[buy] --> M2[LLM] --> P2[some]\n",
        "    style M2 fill:#ADD8E6,stroke:#333,stroke-width:2px\n",
        "    style P2 fill:#FFD700,stroke:#333,stroke-width:2px,font-weight:bold\n",
        "  end\n",
        "\n",
        "  subgraph S3[\"bob went to buy some\"]\n",
        "    direction LR\n",
        "    B3[bob] --> W3[went] --> T3[to] --> B3b[buy] --> S3b[some] --> M3[LLM] --> P3[milk]\n",
        "    style M3 fill:#ADD8E6,stroke:#333,stroke-width:2px\n",
        "    style P3 fill:#FFD700,stroke:#333,stroke-width:2px,font-weight:bold\n",
        "  end\n",
        "\n",
        "  %% Connect subgraphs to stack vertically\n",
        "  S1 --> S2\n",
        "  S2 --> S3\n",
        "\n",
        "  style S1 fill:none,stroke:none\n",
        "  style S2 fill:none,stroke:none\n",
        "  style S3 fill:none,stroke:none\n",
        "```\n",
        "\n",
        "What the model is doing is learning the probability distribution of the next word given the previous words.\n",
        "\n",
        "The probability of predicting the next word $w_{t}$ given the previous words $w_1, w_2, \\ldots, w_{t-1}$ is:\n",
        "\n",
        "$$\n",
        "P(w_t \\mid w_1, w_2, \\ldots, w_{t-1}) = \\frac{P(w_1, w_2, \\ldots, w_{t-1}, w_t)}{P(w_1, w_2, \\ldots, w_{t-1})}\n",
        "$$\n",
        "\n",
        "LLMs approximate this probability:\n",
        "\n",
        "$$\n",
        "P(w_t \\mid w_1, w_2, \\ldots, w_{t-1})\n",
        "$$\n",
        "\n",
        "The model predicts the next word by selecting the word $w_t$ that maximizes this conditional probability:\n",
        "\n",
        "$$\n",
        "\\hat{w}_t = \\arg\\max_{w} P(w \\mid w_1, w_2, \\ldots, w_{t-1})\n",
        "$$\n",
        "\n",
        "These models give a probability distribution over the entire vocabulary (all the words the model was trained on). We can then pick the word with the highest probability as the next word or we can sample from this distribution to get more varied (creative) outputs.\n",
        "\n",
        "Lets look at an example of how this works in practice:"
      ]
    },
    {
      "cell_type": "code",
      "execution_count": 8,
      "metadata": {},
      "outputs": [
        {
          "data": {
            "image/png": "[encoded data removed]",
            "text/plain": [
              "<Figure size 1800x500 with 3 Axes>"
            ]
          },
          "metadata": {},
          "output_type": "display_data"
        }
      ],
      "source": [
        "#| echo: false\n",
        "import warnings\n",
        "warnings.filterwarnings(\"ignore\")\n",
        "import matplotlib.pyplot as plt\n",
        "import seaborn as sns\n",
        "\n",
        "# Example vocabulary\n",
        "vocab = ['buy', 'some', 'milk', 'other1', 'other2', 'other3']\n",
        "\n",
        "# Probabilities at each step (toy example)\n",
        "probs_step1 = [0.8, 0.05, 0.05, 0.03, 0.04, 0.03]  # 'buy' high\n",
        "probs_step2 = [0.05, 0.7, 0.1, 0.05, 0.05, 0.05]   # 'some' high\n",
        "probs_step3 = [0.05, 0.05, 0.75, 0.05, 0.05, 0.05] # 'milk' high\n",
        "\n",
        "prob_distributions = [probs_step1, probs_step2, probs_step3]\n",
        "step_labels = ['Step 1: Predict \"buy\"', 'Step 2: Predict \"some\"', 'Step 3: Predict \"milk\"']\n",
        "\n",
        "fig, axes = plt.subplots(1, 3, figsize=(18, 5), sharey=True)\n",
        "\n",
        "for i, ax in enumerate(axes):\n",
        "    sns.barplot(x=vocab, y=prob_distributions[i], palette='muted', ax=ax)\n",
        "    ax.set_title(step_labels[i])\n",
        "    ax.set_ylim(0, 1)\n",
        "    ax.set_ylabel('Probability' if i == 0 else '')\n",
        "    ax.set_xlabel('Vocabulary')\n",
        "    # Highlight the max prob bar in gold\n",
        "    max_idx = prob_distributions[i].index(max(prob_distributions[i]))\n",
        "    ax.bar(max_idx, prob_distributions[i][max_idx], color='gold')\n",
        "\n",
        "plt.tight_layout()\n",
        "plt.show()"
      ]
    },
    {
      "cell_type": "markdown",
      "metadata": {},
      "source": [
        "To get more creative responses you change the distribution at the output where you pick the next word. Very simply this involves making the distribution sharper or flatter.\n",
        "If you make the distribution sharper, you are more likely to pick the word with the highest probability. If you make it flatter, you are more likely to pick a word that is not the most probable one.\n",
        "\n",
        "This is called **temperature**. A higher temperature makes the distribution flatter, while a lower temperature makes it sharper. You would want to use a temperature of more than 1 $(1.2-1.5)$ for creative responses, and a temperature of less than 1 $(0.1 - 0.5)$ for more focused responses. For a balanced response, you can use a temperature of $0.7-1$.\n",
        "Another set of parameters are called top-p and top-k sampling."
      ]
    },
    {
      "cell_type": "code",
      "execution_count": 9,
      "metadata": {},
      "outputs": [
        {
          "data": {
            "image/png": "[encoded data removed]",
            "text/plain": [
              "<Figure size 2000x500 with 3 Axes>"
            ]
          },
          "metadata": {},
          "output_type": "display_data"
        }
      ],
      "source": [
        "#| echo: false\n",
        "import warnings\n",
        "warnings.filterwarnings(\"ignore\")\n",
        "import numpy as np\n",
        "import matplotlib.pyplot as plt\n",
        "import seaborn as sns\n",
        "\n",
        "np.random.seed(42)\n",
        "vocab_size = 20\n",
        "vocab = [f'token{i}' for i in range(1, vocab_size+1)]\n",
        "base_probs = np.random.rand(vocab_size)\n",
        "base_probs /= base_probs.sum()  # Normalize to sum to 1\n",
        "\n",
        "def apply_temperature(probs, temp):\n",
        "    logits = np.log(probs + 1e-20)\n",
        "    scaled_logits = logits / temp\n",
        "    exp_logits = np.exp(scaled_logits)\n",
        "    return exp_logits / exp_logits.sum()\n",
        "\n",
        "temperatures = [0.5, 1.0, 1.5]\n",
        "distributions = [apply_temperature(base_probs, t) for t in temperatures]\n",
        "\n",
        "fig, axes = plt.subplots(1, 3, figsize=(20, 5), sharey=True)\n",
        "for i, (ax, dist, temp) in enumerate(zip(axes, distributions, temperatures)):\n",
        "    sns.barplot(x=vocab, y=dist, palette='muted', ax=ax)\n",
        "    ax.set_title(f'Temperature = {temp}')\n",
        "    ax.set_ylim(0, 0.25)\n",
        "    ax.set_ylabel('Probability' if i == 0 else '')\n",
        "    ax.set_xlabel('Vocabulary')\n",
        "    ax.tick_params(axis='x', rotation=90) # Rotate x-axis labels\n",
        "    max_idx = dist.argmax()\n",
        "    ax.bar(max_idx, dist[max_idx], color='gold')\n",
        "\n",
        "plt.tight_layout()\n",
        "plt.show()"
      ]
    },
    {
      "cell_type": "markdown",
      "metadata": {},
      "source": [
        "In the example above, we see how the probability distribution changes with different temperatures. A high temperature (1.5) results in a flatter distribution, meaning the model is more likely to sample from less probable tokens, while a low temperature (0.5) results in a sharper distribution, favoring the most probable tokens.\n",
        "\n",
        "Note that while this is with words and language, the same idea applies to any sequential data, like stock prices, weather data, etc. The model learns the probability distribution of the next value given the previous values."
      ]
    },
    {
      "cell_type": "code",
      "execution_count": 10,
      "metadata": {},
      "outputs": [
        {
          "data": {
            "image/png": "[encoded data removed]",
            "text/plain": [
              "<Figure size 600x600 with 1 Axes>"
            ]
          },
          "metadata": {},
          "output_type": "display_data"
        }
      ],
      "source": [
        "#| echo: false\n",
        "\n",
        "import numpy as np\n",
        "import matplotlib.pyplot as plt\n",
        "\n",
        "n = 10\n",
        "m = 9\n",
        "\n",
        "# Generate actual data: random walk + small trend\n",
        "actual_data = np.cumsum(np.random.normal(0, 1, n)) + 50\n",
        "\n",
        "# Predictor approximates entire data closely with small noise everywhere\n",
        "predicted = actual_data + np.random.normal(0, 0.2, n)\n",
        "\n",
        "# Posterior uncertainty: low and roughly constant over entire period\n",
        "posterior_std = np.full(n, 0.3)\n",
        "\n",
        "upper = predicted + posterior_std\n",
        "lower = predicted - posterior_std\n",
        "\n",
        "plt.figure(figsize=(6,6))\n",
        "plt.plot(range(n), actual_data, label=\"Actual Data\", color='blue')\n",
        "plt.plot(range(n), predicted, label=\"Predicted\", color='orange')\n",
        "plt.axvline(x=m-1, color='black', linestyle='--', label=\"Observed / Future Split\")\n",
        "\n",
        "plt.xlabel(\"Time\")\n",
        "plt.ylabel(\"Value\")\n",
        "plt.title(\"Stock price over time.\")\n",
        "plt.legend()\n",
        "plt.show()"
      ]
    },
    {
      "cell_type": "markdown",
      "metadata": {},
      "source": [
        "Typically, you would use more inputs to the model than the price history. This can public sentiment, news, or other features that might affect the price. The model learns the joint distribution of these features and the price, allowing it to make predictions about future prices.\n",
        "\n",
        "# Predicting Stock Prices from News Headlines with AI\n",
        "\n",
        "Just like LLMs predict the next word based on the context of prior words:\n",
        "\n",
        "$$\n",
        "P(w_t \\mid w_1, w_2, \\ldots, w_{t-1})\n",
        "$$\n",
        "\n",
        "We can use similar models to predict the next value in a time series, like **stock prices** or **percentage changes** in returns.\n",
        "\n",
        "But instead of words, our \"tokens\" are **daily stock returns**, and instead of using a pure language context, we enrich our prediction using **public sentiment** extracted from news headlines.\n",
        "\n",
        "Comparing word and stock price prediction \n",
        "\n",
        "| Word Prediction                   | Stock Price Prediction           |\n",
        "|-------------------------------------|--------------------------------------|\n",
        "| Previous words                      | Previous stock returns               |\n",
        "| Next word prediction                | Future return prediction             |\n",
        "| Attention to important words        | Weight on news sentiment  |\n",
        "| Temperature to control randomness   | Confidence intervals in forecasts    |\n",
        "| Word probability distribution       | Forecasted return distribution       |\n",
        "\n",
        "In this case study, we use a language model to analyze real-time news headlines alongside historical stock prices in order to forecast short-term changes in stock value.\n",
        "\n",
        "You’ll:\n",
        "- Collect news headlines about real companies (like Amazon or Starbucks)\n",
        "- Use a pre-trained AI model to classify the **sentiment** (positive or negative) of these news headlines\n",
        "- Combine that with stock prices\n",
        "- Use a forecasting model to predict future price changes\n",
        "- Visualize your results interactively\n",
        "\n",
        "\n",
        "## Preview the News Data\n",
        "\n",
        "Here we use the `finvizfinance` packages to retrive real-time news headlines for companies like Starbucks, etc."
      ]
    },
    {
      "cell_type": "code",
      "execution_count": 35,
      "metadata": {},
      "outputs": [],
      "source": [
        "def get_news_data(ticker):\n",
        "    stock = finvizfinance(ticker)\n",
        "    news_df = stock.ticker_news()\n",
        "    news_df = pd.DataFrame(news_df)\n",
        "\n",
        "    # Drop NaN and clean whitespace\n",
        "    news_df = news_df.dropna(subset=[\"Title\"])\n",
        "    news_df = news_df[news_df[\"Title\"].str.strip() != \"\"]\n",
        "    news_df['Title'] = news_df['Title'].str.lower()\n",
        "    news_df['Date'] = pd.to_datetime(news_df['Date'])\n",
        "    news_df['DateOnly'] = news_df['Date'].dt.date\n",
        "\n",
        "    return news_df.reset_index(drop=True)"
      ]
    },
    {
      "cell_type": "markdown",
      "metadata": {},
      "source": [
        "Let’s look at what the cleaned news data looks like. We’ll start with a company like Starbucks (`SBUX`).\n",
        "\n",
        "Each row is a headline, and we’ve cleaned it to keep only useful info like the title and date."
      ]
    },
    {
      "cell_type": "code",
      "execution_count": 36,
      "metadata": {},
      "outputs": [
        {
          "data": {
            "text/html": [
              "<div>\n",
              "<style scoped>\n",
              "    .dataframe tbody tr th:only-of-type {\n",
              "        vertical-align: middle;\n",
              "    }\n",
              "\n",
              "    .dataframe tbody tr th {\n",
              "        vertical-align: top;\n",
              "    }\n",
              "\n",
              "    .dataframe thead th {\n",
              "        text-align: right;\n",
              "    }\n",
              "</style>\n",
              "<table border=\"1\" class=\"dataframe\">\n",
              "  <thead>\n",
              "    <tr style=\"text-align: right;\">\n",
              "      <th></th>\n",
              "      <th>Date</th>\n",
              "      <th>Title</th>\n",
              "      <th>Link</th>\n",
              "      <th>Source</th>\n",
              "      <th>DateOnly</th>\n",
              "    </tr>\n",
              "  </thead>\n",
              "  <tbody>\n",
              "    <tr>\n",
              "      <th>0</th>\n",
              "      <td>2025-07-15 13:14:00</td>\n",
              "      <td>squawk pod: gamestop's ryan cohen, a stapler, ...</td>\n",
              "      <td>https://www.youtube.com/watch?v=50XBHVJsJ9A</td>\n",
              "      <td>CNBC TV</td>\n",
              "      <td>2025-07-15</td>\n",
              "    </tr>\n",
              "    <tr>\n",
              "      <th>1</th>\n",
              "      <td>2025-07-15 13:04:00</td>\n",
              "      <td>keybanc: sentiment positive for yum and shak, ...</td>\n",
              "      <td>https://finance.yahoo.com/news/keybanc-sentime...</td>\n",
              "      <td>Investing.com</td>\n",
              "      <td>2025-07-15</td>\n",
              "    </tr>\n",
              "    <tr>\n",
              "      <th>2</th>\n",
              "      <td>2025-07-15 11:15:00</td>\n",
              "      <td>new video conferencing platform aonmeetings co...</td>\n",
              "      <td>https://finance.yahoo.com/news/video-conferenc...</td>\n",
              "      <td>PR Newswire</td>\n",
              "      <td>2025-07-15</td>\n",
              "    </tr>\n",
              "    <tr>\n",
              "      <th>3</th>\n",
              "      <td>2025-07-15 10:13:00</td>\n",
              "      <td>jack in the box/biglari, starbucks' secret men...</td>\n",
              "      <td>https://www.nrn.com/quick-service/jack-in-the-...</td>\n",
              "      <td>Nation's Restaurant News</td>\n",
              "      <td>2025-07-15</td>\n",
              "    </tr>\n",
              "    <tr>\n",
              "      <th>4</th>\n",
              "      <td>2025-07-15 10:12:00</td>\n",
              "      <td>starbucks' china challenge and decoding meta's...</td>\n",
              "      <td>/news/104094/starbucks-china-challenge-and-dec...</td>\n",
              "      <td>Motley Fool</td>\n",
              "      <td>2025-07-15</td>\n",
              "    </tr>\n",
              "  </tbody>\n",
              "</table>\n",
              "</div>"
            ],
            "text/plain": [
              "                 Date                                              Title  \\\n",
              "0 2025-07-15 13:14:00  squawk pod: gamestop's ryan cohen, a stapler, ...   \n",
              "1 2025-07-15 13:04:00  keybanc: sentiment positive for yum and shak, ...   \n",
              "2 2025-07-15 11:15:00  new video conferencing platform aonmeetings co...   \n",
              "3 2025-07-15 10:13:00  jack in the box/biglari, starbucks' secret men...   \n",
              "4 2025-07-15 10:12:00  starbucks' china challenge and decoding meta's...   \n",
              "\n",
              "                                                Link  \\\n",
              "0        https://www.youtube.com/watch?v=50XBHVJsJ9A   \n",
              "1  https://finance.yahoo.com/news/keybanc-sentime...   \n",
              "2  https://finance.yahoo.com/news/video-conferenc...   \n",
              "3  https://www.nrn.com/quick-service/jack-in-the-...   \n",
              "4  /news/104094/starbucks-china-challenge-and-dec...   \n",
              "\n",
              "                     Source    DateOnly  \n",
              "0                   CNBC TV  2025-07-15  \n",
              "1             Investing.com  2025-07-15  \n",
              "2               PR Newswire  2025-07-15  \n",
              "3  Nation's Restaurant News  2025-07-15  \n",
              "4               Motley Fool  2025-07-15  "
            ]
          },
          "execution_count": 36,
          "metadata": {},
          "output_type": "execute_result"
        }
      ],
      "source": [
        "# Example: Preview the news data for a specific company (e.g., Starbucks)\n",
        "ticker = \"SBUX\"\n",
        "news_df = get_news_data(ticker)\n",
        "\n",
        "# Show the first 5 rows\n",
        "news_df.head()"
      ]
    },
    {
      "cell_type": "markdown",
      "metadata": {},
      "source": [
        "## Classifying Headline Sentiment with LLM\n",
        "\n",
        "Earlier, we explored how **large language models (LLMs)** predict the *next word* by learning the probability distribution of possible outcomes based on context.\n",
        "\n",
        "Now, we apply a similar idea to **entire sentences** — in this case, financial news headlines. Instead of predicting the next word, the model assigns a probability to each **sentiment category** (e.g. POSITIVE, NEGATIVE, or NEUTRAL).\n",
        "\n",
        "#### How it works:\n",
        "- A pre-trained model reads the headline.\n",
        "- It assigns probabilities to the sentiment labels.\n",
        "- We keep only **positive** or **negative** headlines, since those are more likely to affect stock prices.\n",
        "  \n",
        "This is like asking:\n",
        "> *Given the words in this sentence, what is the most likely emotion behind it?*\n",
        "\n",
        "We use Hugging Face’s `pipeline()` function to load a **DistilBERT** model — a lighter version of the BERT model trained to understand the tone of text. Although it was originally trained on movie reviews, it generalizes well and works surprisingly well on financial headlines too!\n",
        "\n",
        "This builds directly on our earlier discussion of LLMs predicting **probability distributions**, but here, the prediction is over **sentiment classes** rather than words.\n",
        "\n",
        "We now apply a pre-trained **large language model** to each headline.\n",
        "\n",
        "It returns:\n",
        "- `POSITIVE` — news that sounds good (e.g., “profits surge”)\n",
        "- `NEGATIVE` — news that sounds bad (e.g., “lawsuit filed”)\n",
        "\n",
        "> *Can you think of a positive and negative news headline ?*\n",
        "\n",
        "We skip `NEUTRAL` news to focus on strong market signals.\n",
        "\n",
        "In this case, we apply a pre-trained LLM called **Twitter-RoBERTa**, specifically trained on tweets and social media text. It’s well-suited to handling short, informal writing — like news headlines.\n",
        "\n"
      ]
    },
    {
      "cell_type": "code",
      "execution_count": 37,
      "metadata": {},
      "outputs": [
        {
          "name": "stderr",
          "output_type": "stream",
          "text": [
            "Some weights of the model checkpoint at cardiffnlp/twitter-roberta-base-sentiment-latest were not used when initializing RobertaForSequenceClassification: ['roberta.pooler.dense.bias', 'roberta.pooler.dense.weight']\n",
            "- This IS expected if you are initializing RobertaForSequenceClassification from the checkpoint of a model trained on another task or with another architecture (e.g. initializing a BertForSequenceClassification model from a BertForPreTraining model).\n",
            "- This IS NOT expected if you are initializing RobertaForSequenceClassification from the checkpoint of a model that you expect to be exactly identical (initializing a BertForSequenceClassification model from a BertForSequenceClassification model).\n",
            "Device set to use cpu\n"
          ]
        }
      ],
      "source": [
        "classifier = pipeline(\"sentiment-analysis\", model=\"cardiffnlp/twitter-roberta-base-sentiment-latest\", device=-1)\n",
        "\n",
        "# define a function to classify sentiment of each text \n",
        "def classify_sentiment(text):\n",
        "    return classifier(text)[0][\"label\"].upper()\n",
        "\n",
        "# define classify_sentiment to entire dataframe\n",
        "def apply_sentiment(news_df):\n",
        "    news_df[\"Sentiment\"] = news_df[\"Title\"].apply(classify_sentiment)\n",
        "    return news_df[news_df[\"Sentiment\"] != \"NEUTRAL\"] # remove neutral headlines\n",
        "\n",
        "def process_sentiment(news_df):\n",
        "    grouped = news_df.groupby([\"DateOnly\", \"Sentiment\"]).size().unstack(fill_value=0)\n",
        "    grouped = grouped.reindex(columns=[\"POSITIVE\", \"NEGATIVE\"], fill_value=0)\n",
        "    # Calculate a rolling 7-day total of positive headlines\n",
        "    grouped[\"7day_avg_positive\"] = grouped[\"POSITIVE\"].rolling(window=7, min_periods=1).sum()\n",
        "    # Calculate a rolling 7-day total of negative headlines\n",
        "    grouped[\"7day_avg_negative\"] = grouped[\"NEGATIVE\"].rolling(window=7, min_periods=1).sum()\n",
        "    # Calculate the percentage of positive headlines each day (out of total positive + negative)\n",
        "    grouped[\"7day_pct_positive\"] = grouped[\"POSITIVE\"] / (grouped[\"POSITIVE\"] + grouped[\"NEGATIVE\"])\n",
        "\n",
        "    return grouped.reset_index()"
      ]
    },
    {
      "cell_type": "markdown",
      "metadata": {},
      "source": [
        "Let's see what the sentiment has been for Apple's (`AAPL`) news headlines."
      ]
    },
    {
      "cell_type": "markdown",
      "metadata": {},
      "source": [
        "###  What This Table Shows\n",
        "This table is the **output of a function that summarizes news sentiment over time**.\n",
        "\n",
        "Each row corresponds to a specific **date** and gives us a snapshot of how positive or negative the news headlines were for that day and the surrounding week.\n",
        "\n",
        "\n",
        "\n",
        "Markets move not just based on today's headlines, but on **short-term trends** in public sentiment.  \n",
        "This table lets us track how optimism or pessimism is **building up over time**, which we can later use to help predict stock price movements.\n"
      ]
    },
    {
      "cell_type": "code",
      "execution_count": 38,
      "metadata": {},
      "outputs": [
        {
          "data": {
            "text/html": [
              "<div>\n",
              "<style scoped>\n",
              "    .dataframe tbody tr th:only-of-type {\n",
              "        vertical-align: middle;\n",
              "    }\n",
              "\n",
              "    .dataframe tbody tr th {\n",
              "        vertical-align: top;\n",
              "    }\n",
              "\n",
              "    .dataframe thead th {\n",
              "        text-align: right;\n",
              "    }\n",
              "</style>\n",
              "<table border=\"1\" class=\"dataframe\">\n",
              "  <thead>\n",
              "    <tr style=\"text-align: right;\">\n",
              "      <th>Sentiment</th>\n",
              "      <th>DateOnly</th>\n",
              "      <th>POSITIVE</th>\n",
              "      <th>NEGATIVE</th>\n",
              "      <th>7day_avg_positive</th>\n",
              "      <th>7day_avg_negative</th>\n",
              "      <th>7day_pct_positive</th>\n",
              "    </tr>\n",
              "  </thead>\n",
              "  <tbody>\n",
              "    <tr>\n",
              "      <th>0</th>\n",
              "      <td>2025-07-12</td>\n",
              "      <td>1</td>\n",
              "      <td>4</td>\n",
              "      <td>1.0</td>\n",
              "      <td>4.0</td>\n",
              "      <td>0.200000</td>\n",
              "    </tr>\n",
              "    <tr>\n",
              "      <th>1</th>\n",
              "      <td>2025-07-13</td>\n",
              "      <td>2</td>\n",
              "      <td>0</td>\n",
              "      <td>3.0</td>\n",
              "      <td>4.0</td>\n",
              "      <td>1.000000</td>\n",
              "    </tr>\n",
              "    <tr>\n",
              "      <th>2</th>\n",
              "      <td>2025-07-14</td>\n",
              "      <td>6</td>\n",
              "      <td>3</td>\n",
              "      <td>9.0</td>\n",
              "      <td>7.0</td>\n",
              "      <td>0.666667</td>\n",
              "    </tr>\n",
              "    <tr>\n",
              "      <th>3</th>\n",
              "      <td>2025-07-15</td>\n",
              "      <td>11</td>\n",
              "      <td>6</td>\n",
              "      <td>20.0</td>\n",
              "      <td>13.0</td>\n",
              "      <td>0.647059</td>\n",
              "    </tr>\n",
              "  </tbody>\n",
              "</table>\n",
              "</div>"
            ],
            "text/plain": [
              "Sentiment    DateOnly  POSITIVE  NEGATIVE  7day_avg_positive  \\\n",
              "0          2025-07-12         1         4                1.0   \n",
              "1          2025-07-13         2         0                3.0   \n",
              "2          2025-07-14         6         3                9.0   \n",
              "3          2025-07-15        11         6               20.0   \n",
              "\n",
              "Sentiment  7day_avg_negative  7day_pct_positive  \n",
              "0                        4.0           0.200000  \n",
              "1                        4.0           1.000000  \n",
              "2                        7.0           0.666667  \n",
              "3                       13.0           0.647059  "
            ]
          },
          "execution_count": 38,
          "metadata": {},
          "output_type": "execute_result"
        }
      ],
      "source": [
        "news_df = get_news_data(\"AAPL\")            # Step 1: Get news data\n",
        "news_df = apply_sentiment(news_df)         # Step 2: Classify sentiment\n",
        "sentiment_df = process_sentiment(news_df)  # Step 3: Process sentiment stats\n",
        "sentiment_df.head(5)\n"
      ]
    },
    {
      "cell_type": "markdown",
      "metadata": {},
      "source": [
        "###  Why is this useful?\n",
        "\n",
        "- If the `7day_pct_positive` is rising, the **overall tone of news** is getting more optimistic.\n",
        "- If it's dropping, it could mean **public or investor concern** is growing.\n",
        "- We can later **plot this** and compare it against stock price to see if sentiment influences market behavior.\n",
        "\n",
        "## Getting Stock Price Data \n",
        "\n",
        "We're using the `yfinance` package to get **real stock price data** directly from Yahoo Finance. The function below helps us **download historical stock prices** and compute the **daily percentage change** in the stock's closing price.\n",
        "\n",
        "This allows us to analyze how stock prices change over time."
      ]
    },
    {
      "cell_type": "code",
      "execution_count": 39,
      "metadata": {},
      "outputs": [],
      "source": [
        "# downloads historical stock prices and calculates daily percentage change in closing price\n",
        "def get_stock_data(ticker, start, end):\n",
        "    stock = yf.download(ticker, start=start, end=end)\n",
        "\n",
        "    # Check if columns are MultiIndex (only happens with multiple tickers)\n",
        "    if isinstance(stock.columns, pd.MultiIndex):\n",
        "        stock.columns = ['_'.join(col).strip() for col in stock.columns]\n",
        "\n",
        "        # Adjust close column name accordingly\n",
        "        close_col = f\"Close_{ticker}\"\n",
        "    else:\n",
        "        close_col = \"Close\"\n",
        "\n",
        "    stock[\"Pct_Change\"] = stock[close_col].pct_change() * 100\n",
        "    stock.reset_index(inplace=True)\n",
        "    stock[\"DateOnly\"] = stock[\"Date\"].dt.date\n",
        "    return stock[[\"DateOnly\", \"Pct_Change\"]]\n",
        "\n",
        "# merges sentiment and stock data by date, and lags sentiment by one day to align with price changes.\n",
        "def combine_data(sent_df, stock_df):\n",
        "    sent_df = sent_df.reset_index(drop=True)\n",
        "    stock_df = stock_df.reset_index(drop=True)\n",
        "    return (\n",
        "        pd.merge(sent_df, stock_df, on=\"DateOnly\", how=\"inner\")\n",
        "          .assign(lagged_sentiment=lambda df: df[\"7day_pct_positive\"].shift(1))\n",
        "    )\n",
        "\n",
        "def compute_corr(df):\n",
        "    \"\"\"\n",
        "    Computes correlation between lagged sentiment and stock % change.\n",
        "    \"\"\"\n",
        "    return df[[\"lagged_sentiment\", \"Pct_Change\"]].corr().iloc[0, 1]\n"
      ]
    },
    {
      "cell_type": "markdown",
      "metadata": {},
      "source": [
        "### Case Study: Can News Sentiment Predict Stock Price Changes?\n",
        "\n",
        "We’re putting everything together in this experiment to see if there’s a relationship between **public sentiment (from headlines)** and **stock price movement** for a company - in this case, **Starbucks (SBUX)**.\n"
      ]
    },
    {
      "cell_type": "code",
      "execution_count": 40,
      "metadata": {},
      "outputs": [
        {
          "name": "stderr",
          "output_type": "stream",
          "text": [
            "[*********************100%***********************]  1 of 1 completed"
          ]
        },
        {
          "name": "stdout",
          "output_type": "stream",
          "text": [
            "Correlation between lagged sentiment and % stock change: 0.6394937234437931\n"
          ]
        },
        {
          "name": "stderr",
          "output_type": "stream",
          "text": [
            "\n"
          ]
        }
      ],
      "source": [
        "ticker = \"SBUX\"\n",
        "\n",
        "news = get_news_data(ticker)\n",
        "news = apply_sentiment(news)\n",
        "sent_df = process_sentiment(news)\n",
        "\n",
        "start_date = sent_df[\"DateOnly\"].min()\n",
        "end_date = sent_df[\"DateOnly\"].max()\n",
        "\n",
        "stock_df = get_stock_data(ticker, start_date, end_date)\n",
        "\n",
        "combined_df = combine_data(sent_df, stock_df)\n",
        "\n",
        "corr = compute_corr(combined_df)\n",
        "print(\"Correlation between lagged sentiment and % stock change:\", corr)\n"
      ]
    },
    {
      "cell_type": "markdown",
      "metadata": {},
      "source": [
        "### Forecasting Future Stock Changes with Sentiment\n",
        "\n",
        "We’re now trying to **predict future stock price changes** using the **SARIMAX model**, a powerful forecasting tool that allows us to include **external information** in our case, **public sentiment**. \n",
        "\n",
        "Basically this function is asking \"Based on recent sentiment, what does the model think will happen to this stock’s price over the next few days?\"\n"
      ]
    },
    {
      "cell_type": "code",
      "execution_count": 41,
      "metadata": {},
      "outputs": [],
      "source": [
        "# business days we should forecast for \n",
        "def get_future_dates(start_date, num_days):\n",
        "    if not isinstance(start_date, pd.Timestamp):\n",
        "        start_date = pd.to_datetime(start_date)\n",
        "\n",
        "    us_holidays = holidays.US()\n",
        "    future_dates = []\n",
        "    current_date = start_date + pd.Timedelta(days=1)\n",
        "\n",
        "    while len(future_dates) < num_days:\n",
        "        if current_date.weekday() < 5 and current_date.date() not in us_holidays:\n",
        "            future_dates.append(current_date)\n",
        "        current_date += pd.Timedelta(days=1)\n",
        "\n",
        "    return future_dates\n",
        "\n",
        "# prediction model\n",
        "def fit_and_forecast(combined_df, forecast_steps=3):\n",
        "    combined_df = combined_df.dropna(subset=['Pct_Change', 'lagged_sentiment'])\n",
        "\n",
        "    endog = combined_df['Pct_Change']\n",
        "    exog = combined_df['lagged_sentiment']\n",
        "\n",
        "    model = SARIMAX(endog, exog=exog, order=(1, 1, 1))\n",
        "    fit = model.fit(disp=False)\n",
        "\n",
        "    future_dates = get_future_dates(combined_df.index[-1], forecast_steps)\n",
        "    future_exog = np.tile(combined_df['lagged_sentiment'].iloc[-1], forecast_steps).reshape(-1, 1)\n",
        "\n",
        "    forecast = fit.get_forecast(steps=forecast_steps, exog=future_exog)\n",
        "    return forecast.predicted_mean, forecast.conf_int(), future_dates"
      ]
    },
    {
      "cell_type": "markdown",
      "metadata": {},
      "source": [
        "### Plot: Sentiment vs Stock % Change Forecast\n",
        "\n",
        "This chart shows how **news sentiment** about a company relates to its **stock price changes** over time, and how we can use this relationship to make simple predictions.\n",
        "\n",
        "- The **blue line** shows the standardized 7-day average of positive sentiment extracted from financial news headlines. A higher value means news sentiment was more positive.\n",
        "- The **green line** shows the actual daily percentage change in the company’s stock price.\n",
        "- The **red line** shows our simple **forecast** of future stock movement based on past sentiment trends. The shaded red area represents uncertainty around the forecast (a 95% confidence interval).\n",
        "\n",
        "We want to see whether the **emotions in the news** (blue) can help us **predict price changes** (green and red). If they move together, it suggests that public mood might influence investor behavior.\n",
        "\n",
        "> Thisplot helps us visualize correlations and test basic forecasting using real-world data like stock prices and media sentiment.\n"
      ]
    },
    {
      "cell_type": "code",
      "execution_count": 43,
      "metadata": {},
      "outputs": [
        {
          "data": {
            "application/vnd.plotly.v1+json": {
              "config": {
                "plotlyServerURL": "https://plot.ly"
              },
              "data": [
                {
                  "line": {
                    "color": "blue"
                  },
                  "name": "Standardized Sentiment",
                  "type": "scatter",
                  "x": [
                    "2025-06-30T00:00:00.000000000",
                    "2025-07-03T00:00:00.000000000",
                    "2025-07-07T00:00:00.000000000",
                    "2025-07-08T00:00:00.000000000",
                    "2025-07-09T00:00:00.000000000",
                    "2025-07-10T00:00:00.000000000",
                    "2025-07-11T00:00:00.000000000",
                    "2025-07-14T00:00:00.000000000"
                  ],
                  "y": {
                    "bdata": "AAAAAAAA+H8dM5BFp3niPx0zkEWneeI/HTOQRad54j8dM5BFp3niPx0zkEWneeI/HTOQRad58r+rTFjoerb7vw==",
                    "dtype": "f8"
                  }
                },
                {
                  "line": {
                    "color": "green"
                  },
                  "name": "Stock % Change",
                  "type": "scatter",
                  "x": [
                    "2025-06-30T00:00:00.000000000",
                    "2025-07-03T00:00:00.000000000",
                    "2025-07-07T00:00:00.000000000",
                    "2025-07-08T00:00:00.000000000",
                    "2025-07-09T00:00:00.000000000",
                    "2025-07-10T00:00:00.000000000",
                    "2025-07-11T00:00:00.000000000",
                    "2025-07-14T00:00:00.000000000"
                  ],
                  "y": {
                    "bdata": "AAAAAAAA+H/gZP/fHqvRP0BPvm91G+u/JHjD33g29j/QYp3EseXUP2CEQqFQ4Lq/EAMnggBAzL/qrROPwp35vw==",
                    "dtype": "f8"
                  },
                  "yaxis": "y2"
                },
                {
                  "line": {
                    "color": "red"
                  },
                  "name": "Forecasted % Change",
                  "type": "scatter",
                  "x": [
                    "2025-07-15T00:00:00",
                    "2025-07-16T00:00:00",
                    "2025-07-17T00:00:00"
                  ],
                  "y": {
                    "bdata": "3BgG1wWx7b+C2/GAh2rzv0t9KnoKevG/",
                    "dtype": "f8"
                  }
                },
                {
                  "fill": "toself",
                  "fillcolor": "rgba(255,0,0,0.2)",
                  "hoverinfo": "skip",
                  "line": {
                    "color": "rgba(255,255,255,0)"
                  },
                  "showlegend": false,
                  "type": "scatter",
                  "x": [
                    "2025-07-15T00:00:00",
                    "2025-07-16T00:00:00",
                    "2025-07-17T00:00:00",
                    "2025-07-17T00:00:00",
                    "2025-07-16T00:00:00",
                    "2025-07-15T00:00:00"
                  ],
                  "y": {
                    "bdata": "dH6gKsDNAcD0H8ZMVmwEwB5p0zXOwAPAlF5H3R020j8gR0S97BzAPzSQ6/jpqdc/",
                    "dtype": "f8"
                  }
                }
              ],
              "layout": {
                "template": {
                  "data": {
                    "bar": [
                      {
                        "error_x": {
                          "color": "#f2f5fa"
                        },
                        "error_y": {
                          "color": "#f2f5fa"
                        },
                        "marker": {
                          "line": {
                            "color": "rgb(17,17,17)",
                            "width": 0.5
                          },
                          "pattern": {
                            "fillmode": "overlay",
                            "size": 10,
                            "solidity": 0.2
                          }
                        },
                        "type": "bar"
                      }
                    ],
                    "barpolar": [
                      {
                        "marker": {
                          "line": {
                            "color": "rgb(17,17,17)",
                            "width": 0.5
                          },
                          "pattern": {
                            "fillmode": "overlay",
                            "size": 10,
                            "solidity": 0.2
                          }
                        },
                        "type": "barpolar"
                      }
                    ],
                    "carpet": [
                      {
                        "aaxis": {
                          "endlinecolor": "#A2B1C6",
                          "gridcolor": "#506784",
                          "linecolor": "#506784",
                          "minorgridcolor": "#506784",
                          "startlinecolor": "#A2B1C6"
                        },
                        "baxis": {
                          "endlinecolor": "#A2B1C6",
                          "gridcolor": "#506784",
                          "linecolor": "#506784",
                          "minorgridcolor": "#506784",
                          "startlinecolor": "#A2B1C6"
                        },
                        "type": "carpet"
                      }
                    ],
                    "choropleth": [
                      {
                        "colorbar": {
                          "outlinewidth": 0,
                          "ticks": ""
                        },
                        "type": "choropleth"
                      }
                    ],
                    "contour": [
                      {
                        "colorbar": {
                          "outlinewidth": 0,
                          "ticks": ""
                        },
                        "colorscale": [
                          [
                            0,
                            "#0d0887"
                          ],
                          [
                            0.1111111111111111,
                            "#46039f"
                          ],
                          [
                            0.2222222222222222,
                            "#7201a8"
                          ],
                          [
                            0.3333333333333333,
                            "#9c179e"
                          ],
                          [
                            0.4444444444444444,
                            "#bd3786"
                          ],
                          [
                            0.5555555555555556,
                            "#d8576b"
                          ],
                          [
                            0.6666666666666666,
                            "#ed7953"
                          ],
                          [
                            0.7777777777777778,
                            "#fb9f3a"
                          ],
                          [
                            0.8888888888888888,
                            "#fdca26"
                          ],
                          [
                            1,
                            "#f0f921"
                          ]
                        ],
                        "type": "contour"
                      }
                    ],
                    "contourcarpet": [
                      {
                        "colorbar": {
                          "outlinewidth": 0,
                          "ticks": ""
                        },
                        "type": "contourcarpet"
                      }
                    ],
                    "heatmap": [
                      {
                        "colorbar": {
                          "outlinewidth": 0,
                          "ticks": ""
                        },
                        "colorscale": [
                          [
                            0,
                            "#0d0887"
                          ],
                          [
                            0.1111111111111111,
                            "#46039f"
                          ],
                          [
                            0.2222222222222222,
                            "#7201a8"
                          ],
                          [
                            0.3333333333333333,
                            "#9c179e"
                          ],
                          [
                            0.4444444444444444,
                            "#bd3786"
                          ],
                          [
                            0.5555555555555556,
                            "#d8576b"
                          ],
                          [
                            0.6666666666666666,
                            "#ed7953"
                          ],
                          [
                            0.7777777777777778,
                            "#fb9f3a"
                          ],
                          [
                            0.8888888888888888,
                            "#fdca26"
                          ],
                          [
                            1,
                            "#f0f921"
                          ]
                        ],
                        "type": "heatmap"
                      }
                    ],
                    "histogram": [
                      {
                        "marker": {
                          "pattern": {
                            "fillmode": "overlay",
                            "size": 10,
                            "solidity": 0.2
                          }
                        },
                        "type": "histogram"
                      }
                    ],
                    "histogram2d": [
                      {
                        "colorbar": {
                          "outlinewidth": 0,
                          "ticks": ""
                        },
                        "colorscale": [
                          [
                            0,
                            "#0d0887"
                          ],
                          [
                            0.1111111111111111,
                            "#46039f"
                          ],
                          [
                            0.2222222222222222,
                            "#7201a8"
                          ],
                          [
                            0.3333333333333333,
                            "#9c179e"
                          ],
                          [
                            0.4444444444444444,
                            "#bd3786"
                          ],
                          [
                            0.5555555555555556,
                            "#d8576b"
                          ],
                          [
                            0.6666666666666666,
                            "#ed7953"
                          ],
                          [
                            0.7777777777777778,
                            "#fb9f3a"
                          ],
                          [
                            0.8888888888888888,
                            "#fdca26"
                          ],
                          [
                            1,
                            "#f0f921"
                          ]
                        ],
                        "type": "histogram2d"
                      }
                    ],
                    "histogram2dcontour": [
                      {
                        "colorbar": {
                          "outlinewidth": 0,
                          "ticks": ""
                        },
                        "colorscale": [
                          [
                            0,
                            "#0d0887"
                          ],
                          [
                            0.1111111111111111,
                            "#46039f"
                          ],
                          [
                            0.2222222222222222,
                            "#7201a8"
                          ],
                          [
                            0.3333333333333333,
                            "#9c179e"
                          ],
                          [
                            0.4444444444444444,
                            "#bd3786"
                          ],
                          [
                            0.5555555555555556,
                            "#d8576b"
                          ],
                          [
                            0.6666666666666666,
                            "#ed7953"
                          ],
                          [
                            0.7777777777777778,
                            "#fb9f3a"
                          ],
                          [
                            0.8888888888888888,
                            "#fdca26"
                          ],
                          [
                            1,
                            "#f0f921"
                          ]
                        ],
                        "type": "histogram2dcontour"
                      }
                    ],
                    "mesh3d": [
                      {
                        "colorbar": {
                          "outlinewidth": 0,
                          "ticks": ""
                        },
                        "type": "mesh3d"
                      }
                    ],
                    "parcoords": [
                      {
                        "line": {
                          "colorbar": {
                            "outlinewidth": 0,
                            "ticks": ""
                          }
                        },
                        "type": "parcoords"
                      }
                    ],
                    "pie": [
                      {
                        "automargin": true,
                        "type": "pie"
                      }
                    ],
                    "scatter": [
                      {
                        "marker": {
                          "line": {
                            "color": "#283442"
                          }
                        },
                        "type": "scatter"
                      }
                    ],
                    "scatter3d": [
                      {
                        "line": {
                          "colorbar": {
                            "outlinewidth": 0,
                            "ticks": ""
                          }
                        },
                        "marker": {
                          "colorbar": {
                            "outlinewidth": 0,
                            "ticks": ""
                          }
                        },
                        "type": "scatter3d"
                      }
                    ],
                    "scattercarpet": [
                      {
                        "marker": {
                          "colorbar": {
                            "outlinewidth": 0,
                            "ticks": ""
                          }
                        },
                        "type": "scattercarpet"
                      }
                    ],
                    "scattergeo": [
                      {
                        "marker": {
                          "colorbar": {
                            "outlinewidth": 0,
                            "ticks": ""
                          }
                        },
                        "type": "scattergeo"
                      }
                    ],
                    "scattergl": [
                      {
                        "marker": {
                          "line": {
                            "color": "#283442"
                          }
                        },
                        "type": "scattergl"
                      }
                    ],
                    "scattermap": [
                      {
                        "marker": {
                          "colorbar": {
                            "outlinewidth": 0,
                            "ticks": ""
                          }
                        },
                        "type": "scattermap"
                      }
                    ],
                    "scattermapbox": [
                      {
                        "marker": {
                          "colorbar": {
                            "outlinewidth": 0,
                            "ticks": ""
                          }
                        },
                        "type": "scattermapbox"
                      }
                    ],
                    "scatterpolar": [
                      {
                        "marker": {
                          "colorbar": {
                            "outlinewidth": 0,
                            "ticks": ""
                          }
                        },
                        "type": "scatterpolar"
                      }
                    ],
                    "scatterpolargl": [
                      {
                        "marker": {
                          "colorbar": {
                            "outlinewidth": 0,
                            "ticks": ""
                          }
                        },
                        "type": "scatterpolargl"
                      }
                    ],
                    "scatterternary": [
                      {
                        "marker": {
                          "colorbar": {
                            "outlinewidth": 0,
                            "ticks": ""
                          }
                        },
                        "type": "scatterternary"
                      }
                    ],
                    "surface": [
                      {
                        "colorbar": {
                          "outlinewidth": 0,
                          "ticks": ""
                        },
                        "colorscale": [
                          [
                            0,
                            "#0d0887"
                          ],
                          [
                            0.1111111111111111,
                            "#46039f"
                          ],
                          [
                            0.2222222222222222,
                            "#7201a8"
                          ],
                          [
                            0.3333333333333333,
                            "#9c179e"
                          ],
                          [
                            0.4444444444444444,
                            "#bd3786"
                          ],
                          [
                            0.5555555555555556,
                            "#d8576b"
                          ],
                          [
                            0.6666666666666666,
                            "#ed7953"
                          ],
                          [
                            0.7777777777777778,
                            "#fb9f3a"
                          ],
                          [
                            0.8888888888888888,
                            "#fdca26"
                          ],
                          [
                            1,
                            "#f0f921"
                          ]
                        ],
                        "type": "surface"
                      }
                    ],
                    "table": [
                      {
                        "cells": {
                          "fill": {
                            "color": "#506784"
                          },
                          "line": {
                            "color": "rgb(17,17,17)"
                          }
                        },
                        "header": {
                          "fill": {
                            "color": "#2a3f5f"
                          },
                          "line": {
                            "color": "rgb(17,17,17)"
                          }
                        },
                        "type": "table"
                      }
                    ]
                  },
                  "layout": {
                    "annotationdefaults": {
                      "arrowcolor": "#f2f5fa",
                      "arrowhead": 0,
                      "arrowwidth": 1
                    },
                    "autotypenumbers": "strict",
                    "coloraxis": {
                      "colorbar": {
                        "outlinewidth": 0,
                        "ticks": ""
                      }
                    },
                    "colorscale": {
                      "diverging": [
                        [
                          0,
                          "#8e0152"
                        ],
                        [
                          0.1,
                          "#c51b7d"
                        ],
                        [
                          0.2,
                          "#de77ae"
                        ],
                        [
                          0.3,
                          "#f1b6da"
                        ],
                        [
                          0.4,
                          "#fde0ef"
                        ],
                        [
                          0.5,
                          "#f7f7f7"
                        ],
                        [
                          0.6,
                          "#e6f5d0"
                        ],
                        [
                          0.7,
                          "#b8e186"
                        ],
                        [
                          0.8,
                          "#7fbc41"
                        ],
                        [
                          0.9,
                          "#4d9221"
                        ],
                        [
                          1,
                          "#276419"
                        ]
                      ],
                      "sequential": [
                        [
                          0,
                          "#0d0887"
                        ],
                        [
                          0.1111111111111111,
                          "#46039f"
                        ],
                        [
                          0.2222222222222222,
                          "#7201a8"
                        ],
                        [
                          0.3333333333333333,
                          "#9c179e"
                        ],
                        [
                          0.4444444444444444,
                          "#bd3786"
                        ],
                        [
                          0.5555555555555556,
                          "#d8576b"
                        ],
                        [
                          0.6666666666666666,
                          "#ed7953"
                        ],
                        [
                          0.7777777777777778,
                          "#fb9f3a"
                        ],
                        [
                          0.8888888888888888,
                          "#fdca26"
                        ],
                        [
                          1,
                          "#f0f921"
                        ]
                      ],
                      "sequentialminus": [
                        [
                          0,
                          "#0d0887"
                        ],
                        [
                          0.1111111111111111,
                          "#46039f"
                        ],
                        [
                          0.2222222222222222,
                          "#7201a8"
                        ],
                        [
                          0.3333333333333333,
                          "#9c179e"
                        ],
                        [
                          0.4444444444444444,
                          "#bd3786"
                        ],
                        [
                          0.5555555555555556,
                          "#d8576b"
                        ],
                        [
                          0.6666666666666666,
                          "#ed7953"
                        ],
                        [
                          0.7777777777777778,
                          "#fb9f3a"
                        ],
                        [
                          0.8888888888888888,
                          "#fdca26"
                        ],
                        [
                          1,
                          "#f0f921"
                        ]
                      ]
                    },
                    "colorway": [
                      "#636efa",
                      "#EF553B",
                      "#00cc96",
                      "#ab63fa",
                      "#FFA15A",
                      "#19d3f3",
                      "#FF6692",
                      "#B6E880",
                      "#FF97FF",
                      "#FECB52"
                    ],
                    "font": {
                      "color": "#f2f5fa"
                    },
                    "geo": {
                      "bgcolor": "rgb(17,17,17)",
                      "lakecolor": "rgb(17,17,17)",
                      "landcolor": "rgb(17,17,17)",
                      "showlakes": true,
                      "showland": true,
                      "subunitcolor": "#506784"
                    },
                    "hoverlabel": {
                      "align": "left"
                    },
                    "hovermode": "closest",
                    "mapbox": {
                      "style": "dark"
                    },
                    "paper_bgcolor": "rgb(17,17,17)",
                    "plot_bgcolor": "rgb(17,17,17)",
                    "polar": {
                      "angularaxis": {
                        "gridcolor": "#506784",
                        "linecolor": "#506784",
                        "ticks": ""
                      },
                      "bgcolor": "rgb(17,17,17)",
                      "radialaxis": {
                        "gridcolor": "#506784",
                        "linecolor": "#506784",
                        "ticks": ""
                      }
                    },
                    "scene": {
                      "xaxis": {
                        "backgroundcolor": "rgb(17,17,17)",
                        "gridcolor": "#506784",
                        "gridwidth": 2,
                        "linecolor": "#506784",
                        "showbackground": true,
                        "ticks": "",
                        "zerolinecolor": "#C8D4E3"
                      },
                      "yaxis": {
                        "backgroundcolor": "rgb(17,17,17)",
                        "gridcolor": "#506784",
                        "gridwidth": 2,
                        "linecolor": "#506784",
                        "showbackground": true,
                        "ticks": "",
                        "zerolinecolor": "#C8D4E3"
                      },
                      "zaxis": {
                        "backgroundcolor": "rgb(17,17,17)",
                        "gridcolor": "#506784",
                        "gridwidth": 2,
                        "linecolor": "#506784",
                        "showbackground": true,
                        "ticks": "",
                        "zerolinecolor": "#C8D4E3"
                      }
                    },
                    "shapedefaults": {
                      "line": {
                        "color": "#f2f5fa"
                      }
                    },
                    "sliderdefaults": {
                      "bgcolor": "#C8D4E3",
                      "bordercolor": "rgb(17,17,17)",
                      "borderwidth": 1,
                      "tickwidth": 0
                    },
                    "ternary": {
                      "aaxis": {
                        "gridcolor": "#506784",
                        "linecolor": "#506784",
                        "ticks": ""
                      },
                      "baxis": {
                        "gridcolor": "#506784",
                        "linecolor": "#506784",
                        "ticks": ""
                      },
                      "bgcolor": "rgb(17,17,17)",
                      "caxis": {
                        "gridcolor": "#506784",
                        "linecolor": "#506784",
                        "ticks": ""
                      }
                    },
                    "title": {
                      "x": 0.05
                    },
                    "updatemenudefaults": {
                      "bgcolor": "#506784",
                      "borderwidth": 0
                    },
                    "xaxis": {
                      "automargin": true,
                      "gridcolor": "#283442",
                      "linecolor": "#506784",
                      "ticks": "",
                      "title": {
                        "standoff": 15
                      },
                      "zerolinecolor": "#283442",
                      "zerolinewidth": 2
                    },
                    "yaxis": {
                      "automargin": true,
                      "gridcolor": "#283442",
                      "linecolor": "#506784",
                      "ticks": "",
                      "title": {
                        "standoff": 15
                      },
                      "zerolinecolor": "#283442",
                      "zerolinewidth": 2
                    }
                  }
                },
                "title": {
                  "text": "Sentiment vs Stock Change Forecast"
                },
                "xaxis": {
                  "title": {
                    "text": "Date"
                  }
                },
                "yaxis": {
                  "title": {
                    "font": {
                      "color": "blue"
                    },
                    "text": "Standardized Sentiment"
                  }
                },
                "yaxis2": {
                  "overlaying": "y",
                  "side": "right",
                  "title": {
                    "font": {
                      "color": "green"
                    },
                    "text": "Stock % Change"
                  }
                }
              }
            }
          },
          "metadata": {},
          "output_type": "display_data"
        }
      ],
      "source": [
        "def create_plot(combined_df, forecast_mean, forecast_ci, forecast_index):\n",
        "    combined_df = combined_df.copy()\n",
        "    sentiment_std = (combined_df['lagged_sentiment'] - combined_df['lagged_sentiment'].mean()) / combined_df['lagged_sentiment'].std()\n",
        "\n",
        "    fig = go.Figure()\n",
        "\n",
        "    fig.add_trace(go.Scatter(\n",
        "        x=combined_df.index,\n",
        "        y=sentiment_std,\n",
        "        name='Standardized Sentiment',\n",
        "        line=dict(color='blue')\n",
        "    ))\n",
        "\n",
        "    fig.add_trace(go.Scatter(\n",
        "        x=combined_df.index,\n",
        "        y=combined_df['Pct_Change'],\n",
        "        name='Stock % Change',\n",
        "        yaxis='y2',\n",
        "        line=dict(color='green')\n",
        "    ))\n",
        "\n",
        "    fig.add_trace(go.Scatter(\n",
        "        x=forecast_index,\n",
        "        y=forecast_mean,\n",
        "        name='Forecasted % Change',\n",
        "        line=dict(color='red')\n",
        "    ))\n",
        "\n",
        "    fig.add_trace(go.Scatter(\n",
        "        x=np.concatenate([forecast_index, forecast_index[::-1]]),\n",
        "        y=np.concatenate([forecast_ci.iloc[:, 0], forecast_ci.iloc[:, 1][::-1]]),\n",
        "        fill='toself',\n",
        "        fillcolor='rgba(255,0,0,0.2)',\n",
        "        line=dict(color='rgba(255,255,255,0)'),\n",
        "        hoverinfo=\"skip\",\n",
        "        showlegend=False\n",
        "    ))\n",
        "\n",
        "    fig.update_layout(\n",
        "        title='Sentiment vs Stock Change Forecast',\n",
        "        xaxis_title='Date',\n",
        "        yaxis=dict(\n",
        "            title=dict(text='Standardized Sentiment', font=dict(color='blue'))\n",
        "        ),\n",
        "        yaxis2=dict(\n",
        "            title=dict(text='Stock % Change', font=dict(color='green')),\n",
        "            overlaying='y',\n",
        "            side='right'\n",
        "        ),\n",
        "        template='plotly_dark'\n",
        "    )\n",
        "\n",
        "    fig.show()\n",
        "\n",
        "combined_df['DateOnly'] = pd.to_datetime(combined_df['DateOnly'])  # convert to datetime\n",
        "combined_df.set_index('DateOnly', inplace=True)  # use as index\n",
        "combined_df.sort_index(inplace=True)  # ensure time order\n",
        "\n",
        "\n",
        "\n",
        "forecast_mean, forecast_ci, forecast_index = fit_and_forecast(combined_df)\n",
        "create_plot(combined_df, forecast_mean, forecast_ci, forecast_index)"
      ]
    },
    {
      "cell_type": "markdown",
      "metadata": {},
      "source": [
        ">  **Disclaimer**: This is a simplified model. In reality, stock prices are influenced by many factors, such as interest rates, earnings reports, geopolitical events, and investor speculation. This chart only considers **one variable**: news sentiment. It should not be used for actual trading decisions.\n"
      ]
    }
  ],
  "metadata": {
    "kernelspec": {
      "display_name": "Python 3 (ipykernel)",
      "language": "python",
      "name": "python3",
      "path": "/Users/krishaantpathmanathan/PRAXIS2/praxis-ubc/.venv/share/jupyter/kernels/python3"
    },
    "language_info": {
      "codemirror_mode": {
        "name": "ipython",
        "version": 3
      },
      "file_extension": ".py",
      "mimetype": "text/x-python",
      "name": "python",
      "nbconvert_exporter": "python",
      "pygments_lexer": "ipython3",
      "version": "3.12.9"
    }
  },
  "nbformat": 4,
  "nbformat_minor": 4
}
