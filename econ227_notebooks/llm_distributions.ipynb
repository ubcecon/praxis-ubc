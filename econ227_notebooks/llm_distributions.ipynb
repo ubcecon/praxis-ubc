{
 "cells": [
  {
   "cell_type": "markdown",
   "metadata": {},
   "source": [
    "# Understanding Large Language Models : Stocks and Sentiments\n",
    "\n",
    "by Krishaant Pathmanathan, Yash Mali, Nathan Zhanng"
   ]
  },
  {
   "cell_type": "code",
   "execution_count": 21,
   "metadata": {},
   "outputs": [
    {
     "name": "stdout",
     "output_type": "stream",
     "text": [
      "Requirement already satisfied: yfinance in /opt/anaconda3/envs/krishaant_r/lib/python3.13/site-packages (0.2.65)\n",
      "Requirement already satisfied: finvizfinance in /opt/anaconda3/envs/krishaant_r/lib/python3.13/site-packages (1.1.1)\n",
      "Requirement already satisfied: transformers in /opt/anaconda3/envs/krishaant_r/lib/python3.13/site-packages (4.55.0)\n",
      "Requirement already satisfied: pandas in /opt/anaconda3/envs/krishaant_r/lib/python3.13/site-packages (2.3.1)\n",
      "Requirement already satisfied: numpy in /opt/anaconda3/envs/krishaant_r/lib/python3.13/site-packages (2.3.2)\n",
      "Requirement already satisfied: statsmodels in /opt/anaconda3/envs/krishaant_r/lib/python3.13/site-packages (0.14.5)\n",
      "Requirement already satisfied: holidays in /opt/anaconda3/envs/krishaant_r/lib/python3.13/site-packages (0.78)\n",
      "Requirement already satisfied: plotly in /opt/anaconda3/envs/krishaant_r/lib/python3.13/site-packages (6.2.0)\n",
      "Requirement already satisfied: ipywidgets in /opt/anaconda3/envs/krishaant_r/lib/python3.13/site-packages (8.1.7)\n",
      "Requirement already satisfied: seaborn in /opt/anaconda3/envs/krishaant_r/lib/python3.13/site-packages (0.13.2)\n",
      "Collecting torch\n",
      "  Downloading torch-2.7.1-cp313-none-macosx_11_0_arm64.whl.metadata (29 kB)\n",
      "Requirement already satisfied: requests>=2.31 in /opt/anaconda3/envs/krishaant_r/lib/python3.13/site-packages (from yfinance) (2.32.4)\n",
      "Requirement already satisfied: multitasking>=0.0.7 in /opt/anaconda3/envs/krishaant_r/lib/python3.13/site-packages (from yfinance) (0.0.12)\n",
      "Requirement already satisfied: platformdirs>=2.0.0 in /opt/anaconda3/envs/krishaant_r/lib/python3.13/site-packages (from yfinance) (4.3.8)\n",
      "Requirement already satisfied: pytz>=2022.5 in /opt/anaconda3/envs/krishaant_r/lib/python3.13/site-packages (from yfinance) (2025.2)\n",
      "Requirement already satisfied: frozendict>=2.3.4 in /opt/anaconda3/envs/krishaant_r/lib/python3.13/site-packages (from yfinance) (2.4.6)\n",
      "Requirement already satisfied: peewee>=3.16.2 in /opt/anaconda3/envs/krishaant_r/lib/python3.13/site-packages (from yfinance) (3.18.2)\n",
      "Requirement already satisfied: beautifulsoup4>=4.11.1 in /opt/anaconda3/envs/krishaant_r/lib/python3.13/site-packages (from yfinance) (4.13.4)\n",
      "Requirement already satisfied: curl_cffi>=0.7 in /opt/anaconda3/envs/krishaant_r/lib/python3.13/site-packages (from yfinance) (0.12.0)\n",
      "Requirement already satisfied: protobuf>=3.19.0 in /opt/anaconda3/envs/krishaant_r/lib/python3.13/site-packages (from yfinance) (6.31.1)\n",
      "Requirement already satisfied: websockets>=13.0 in /opt/anaconda3/envs/krishaant_r/lib/python3.13/site-packages (from yfinance) (15.0.1)\n",
      "Requirement already satisfied: lxml in /opt/anaconda3/envs/krishaant_r/lib/python3.13/site-packages (from finvizfinance) (6.0.0)\n",
      "Requirement already satisfied: filelock in /opt/anaconda3/envs/krishaant_r/lib/python3.13/site-packages (from transformers) (3.18.0)\n",
      "Requirement already satisfied: huggingface-hub<1.0,>=0.34.0 in /opt/anaconda3/envs/krishaant_r/lib/python3.13/site-packages (from transformers) (0.34.3)\n",
      "Requirement already satisfied: packaging>=20.0 in /opt/anaconda3/envs/krishaant_r/lib/python3.13/site-packages (from transformers) (25.0)\n",
      "Requirement already satisfied: pyyaml>=5.1 in /opt/anaconda3/envs/krishaant_r/lib/python3.13/site-packages (from transformers) (6.0.2)\n",
      "Requirement already satisfied: regex!=2019.12.17 in /opt/anaconda3/envs/krishaant_r/lib/python3.13/site-packages (from transformers) (2025.7.34)\n",
      "Requirement already satisfied: tokenizers<0.22,>=0.21 in /opt/anaconda3/envs/krishaant_r/lib/python3.13/site-packages (from transformers) (0.21.4)\n",
      "Requirement already satisfied: safetensors>=0.4.3 in /opt/anaconda3/envs/krishaant_r/lib/python3.13/site-packages (from transformers) (0.5.3)\n",
      "Requirement already satisfied: tqdm>=4.27 in /opt/anaconda3/envs/krishaant_r/lib/python3.13/site-packages (from transformers) (4.67.1)\n",
      "Requirement already satisfied: fsspec>=2023.5.0 in /opt/anaconda3/envs/krishaant_r/lib/python3.13/site-packages (from huggingface-hub<1.0,>=0.34.0->transformers) (2025.7.0)\n",
      "Requirement already satisfied: typing-extensions>=3.7.4.3 in /opt/anaconda3/envs/krishaant_r/lib/python3.13/site-packages (from huggingface-hub<1.0,>=0.34.0->transformers) (4.14.1)\n",
      "Requirement already satisfied: hf-xet<2.0.0,>=1.1.3 in /opt/anaconda3/envs/krishaant_r/lib/python3.13/site-packages (from huggingface-hub<1.0,>=0.34.0->transformers) (1.1.5)\n",
      "Requirement already satisfied: python-dateutil>=2.8.2 in /opt/anaconda3/envs/krishaant_r/lib/python3.13/site-packages (from pandas) (2.9.0.post0)\n",
      "Requirement already satisfied: tzdata>=2022.7 in /opt/anaconda3/envs/krishaant_r/lib/python3.13/site-packages (from pandas) (2025.2)\n",
      "Requirement already satisfied: scipy!=1.9.2,>=1.8 in /opt/anaconda3/envs/krishaant_r/lib/python3.13/site-packages (from statsmodels) (1.16.1)\n",
      "Requirement already satisfied: patsy>=0.5.6 in /opt/anaconda3/envs/krishaant_r/lib/python3.13/site-packages (from statsmodels) (1.0.1)\n",
      "Requirement already satisfied: narwhals>=1.15.1 in /opt/anaconda3/envs/krishaant_r/lib/python3.13/site-packages (from plotly) (2.0.1)\n",
      "Requirement already satisfied: comm>=0.1.3 in /opt/anaconda3/envs/krishaant_r/lib/python3.13/site-packages (from ipywidgets) (0.2.3)\n",
      "Requirement already satisfied: ipython>=6.1.0 in /opt/anaconda3/envs/krishaant_r/lib/python3.13/site-packages (from ipywidgets) (9.4.0)\n",
      "Requirement already satisfied: traitlets>=4.3.1 in /opt/anaconda3/envs/krishaant_r/lib/python3.13/site-packages (from ipywidgets) (5.14.3)\n",
      "Requirement already satisfied: widgetsnbextension~=4.0.14 in /opt/anaconda3/envs/krishaant_r/lib/python3.13/site-packages (from ipywidgets) (4.0.14)\n",
      "Requirement already satisfied: jupyterlab_widgets~=3.0.15 in /opt/anaconda3/envs/krishaant_r/lib/python3.13/site-packages (from ipywidgets) (3.0.15)\n",
      "Requirement already satisfied: matplotlib!=3.6.1,>=3.4 in /opt/anaconda3/envs/krishaant_r/lib/python3.13/site-packages (from seaborn) (3.10.5)\n",
      "Requirement already satisfied: setuptools in /opt/anaconda3/envs/krishaant_r/lib/python3.13/site-packages (from torch) (80.9.0)\n",
      "Collecting sympy>=1.13.3 (from torch)\n",
      "  Using cached sympy-1.14.0-py3-none-any.whl.metadata (12 kB)\n",
      "Collecting networkx (from torch)\n",
      "  Downloading networkx-3.5-py3-none-any.whl.metadata (6.3 kB)\n",
      "Requirement already satisfied: jinja2 in /opt/anaconda3/envs/krishaant_r/lib/python3.13/site-packages (from torch) (3.1.6)\n",
      "Requirement already satisfied: soupsieve>1.2 in /opt/anaconda3/envs/krishaant_r/lib/python3.13/site-packages (from beautifulsoup4>=4.11.1->yfinance) (2.7)\n",
      "Requirement already satisfied: cffi>=1.12.0 in /opt/anaconda3/envs/krishaant_r/lib/python3.13/site-packages (from curl_cffi>=0.7->yfinance) (1.17.1)\n",
      "Requirement already satisfied: certifi>=2024.2.2 in /opt/anaconda3/envs/krishaant_r/lib/python3.13/site-packages (from curl_cffi>=0.7->yfinance) (2025.7.14)\n",
      "Requirement already satisfied: pycparser in /opt/anaconda3/envs/krishaant_r/lib/python3.13/site-packages (from cffi>=1.12.0->curl_cffi>=0.7->yfinance) (2.22)\n",
      "Requirement already satisfied: decorator in /opt/anaconda3/envs/krishaant_r/lib/python3.13/site-packages (from ipython>=6.1.0->ipywidgets) (5.2.1)\n",
      "Requirement already satisfied: ipython-pygments-lexers in /opt/anaconda3/envs/krishaant_r/lib/python3.13/site-packages (from ipython>=6.1.0->ipywidgets) (1.1.1)\n",
      "Requirement already satisfied: jedi>=0.16 in /opt/anaconda3/envs/krishaant_r/lib/python3.13/site-packages (from ipython>=6.1.0->ipywidgets) (0.19.2)\n",
      "Requirement already satisfied: matplotlib-inline in /opt/anaconda3/envs/krishaant_r/lib/python3.13/site-packages (from ipython>=6.1.0->ipywidgets) (0.1.7)\n",
      "Requirement already satisfied: pexpect>4.3 in /opt/anaconda3/envs/krishaant_r/lib/python3.13/site-packages (from ipython>=6.1.0->ipywidgets) (4.9.0)\n",
      "Requirement already satisfied: prompt_toolkit<3.1.0,>=3.0.41 in /opt/anaconda3/envs/krishaant_r/lib/python3.13/site-packages (from ipython>=6.1.0->ipywidgets) (3.0.51)\n",
      "Requirement already satisfied: pygments>=2.4.0 in /opt/anaconda3/envs/krishaant_r/lib/python3.13/site-packages (from ipython>=6.1.0->ipywidgets) (2.19.2)\n",
      "Requirement already satisfied: stack_data in /opt/anaconda3/envs/krishaant_r/lib/python3.13/site-packages (from ipython>=6.1.0->ipywidgets) (0.6.3)\n",
      "Requirement already satisfied: wcwidth in /opt/anaconda3/envs/krishaant_r/lib/python3.13/site-packages (from prompt_toolkit<3.1.0,>=3.0.41->ipython>=6.1.0->ipywidgets) (0.2.13)\n",
      "Requirement already satisfied: parso<0.9.0,>=0.8.4 in /opt/anaconda3/envs/krishaant_r/lib/python3.13/site-packages (from jedi>=0.16->ipython>=6.1.0->ipywidgets) (0.8.4)\n",
      "Requirement already satisfied: contourpy>=1.0.1 in /opt/anaconda3/envs/krishaant_r/lib/python3.13/site-packages (from matplotlib!=3.6.1,>=3.4->seaborn) (1.3.3)\n",
      "Requirement already satisfied: cycler>=0.10 in /opt/anaconda3/envs/krishaant_r/lib/python3.13/site-packages (from matplotlib!=3.6.1,>=3.4->seaborn) (0.12.1)\n",
      "Requirement already satisfied: fonttools>=4.22.0 in /opt/anaconda3/envs/krishaant_r/lib/python3.13/site-packages (from matplotlib!=3.6.1,>=3.4->seaborn) (4.59.0)\n",
      "Requirement already satisfied: kiwisolver>=1.3.1 in /opt/anaconda3/envs/krishaant_r/lib/python3.13/site-packages (from matplotlib!=3.6.1,>=3.4->seaborn) (1.4.8)\n",
      "Requirement already satisfied: pillow>=8 in /opt/anaconda3/envs/krishaant_r/lib/python3.13/site-packages (from matplotlib!=3.6.1,>=3.4->seaborn) (11.3.0)\n",
      "Requirement already satisfied: pyparsing>=2.3.1 in /opt/anaconda3/envs/krishaant_r/lib/python3.13/site-packages (from matplotlib!=3.6.1,>=3.4->seaborn) (3.2.3)\n",
      "Requirement already satisfied: ptyprocess>=0.5 in /opt/anaconda3/envs/krishaant_r/lib/python3.13/site-packages (from pexpect>4.3->ipython>=6.1.0->ipywidgets) (0.7.0)\n",
      "Requirement already satisfied: six>=1.5 in /opt/anaconda3/envs/krishaant_r/lib/python3.13/site-packages (from python-dateutil>=2.8.2->pandas) (1.17.0)\n",
      "Requirement already satisfied: charset_normalizer<4,>=2 in /opt/anaconda3/envs/krishaant_r/lib/python3.13/site-packages (from requests>=2.31->yfinance) (3.4.2)\n",
      "Requirement already satisfied: idna<4,>=2.5 in /opt/anaconda3/envs/krishaant_r/lib/python3.13/site-packages (from requests>=2.31->yfinance) (3.10)\n",
      "Requirement already satisfied: urllib3<3,>=1.21.1 in /opt/anaconda3/envs/krishaant_r/lib/python3.13/site-packages (from requests>=2.31->yfinance) (2.5.0)\n",
      "Collecting mpmath<1.4,>=1.1.0 (from sympy>=1.13.3->torch)\n",
      "  Using cached mpmath-1.3.0-py3-none-any.whl.metadata (8.6 kB)\n",
      "Requirement already satisfied: MarkupSafe>=2.0 in /opt/anaconda3/envs/krishaant_r/lib/python3.13/site-packages (from jinja2->torch) (3.0.2)\n",
      "Requirement already satisfied: executing>=1.2.0 in /opt/anaconda3/envs/krishaant_r/lib/python3.13/site-packages (from stack_data->ipython>=6.1.0->ipywidgets) (2.2.0)\n",
      "Requirement already satisfied: asttokens>=2.1.0 in /opt/anaconda3/envs/krishaant_r/lib/python3.13/site-packages (from stack_data->ipython>=6.1.0->ipywidgets) (3.0.0)\n",
      "Requirement already satisfied: pure_eval in /opt/anaconda3/envs/krishaant_r/lib/python3.13/site-packages (from stack_data->ipython>=6.1.0->ipywidgets) (0.2.3)\n",
      "Downloading torch-2.7.1-cp313-none-macosx_11_0_arm64.whl (68.6 MB)\n",
      "\u001b[2K   \u001b[90m━━━━━━━━━━━━━━━━━━━━━━━━━━━━━━━━━━━━━━━━\u001b[0m \u001b[32m68.6/68.6 MB\u001b[0m \u001b[31m38.7 MB/s\u001b[0m eta \u001b[36m0:00:00\u001b[0ma \u001b[36m0:00:01\u001b[0m\n",
      "\u001b[?25hUsing cached sympy-1.14.0-py3-none-any.whl (6.3 MB)\n",
      "Using cached mpmath-1.3.0-py3-none-any.whl (536 kB)\n",
      "Downloading networkx-3.5-py3-none-any.whl (2.0 MB)\n",
      "\u001b[2K   \u001b[90m━━━━━━━━━━━━━━━━━━━━━━━━━━━━━━━━━━━━━━━━\u001b[0m \u001b[32m2.0/2.0 MB\u001b[0m \u001b[31m18.6 MB/s\u001b[0m eta \u001b[36m0:00:00\u001b[0m\n",
      "\u001b[?25hInstalling collected packages: mpmath, sympy, networkx, torch\n",
      "\u001b[2K   \u001b[90m━━━━━━━━━━━━━━━━━━━━━━━━━━━━━━━━━━━━━━━━\u001b[0m \u001b[32m4/4\u001b[0m [torch]32m3/4\u001b[0m [torch]kx]\n",
      "\u001b[1A\u001b[2KSuccessfully installed mpmath-1.3.0 networkx-3.5 sympy-1.14.0 torch-2.7.1\n",
      "Note: you may need to restart the kernel to use updated packages.\n"
     ]
    }
   ],
   "source": [
    "pip install yfinance finvizfinance transformers pandas numpy statsmodels holidays plotly ipywidgets seaborn torch"
   ]
  },
  {
   "cell_type": "code",
   "execution_count": 1,
   "metadata": {},
   "outputs": [],
   "source": [
    "# Installing the packages we need to run this notebook \n",
    "import yfinance as yf\n",
    "from finvizfinance.quote import finvizfinance\n",
    "from transformers import pipeline\n",
    "import pandas as pd\n",
    "import numpy as np\n",
    "from statsmodels.tsa.statespace.sarimax import SARIMAX\n",
    "import pandas as pd\n",
    "import holidays\n",
    "import plotly.graph_objects as go\n",
    "import numpy as np\n",
    "import ipywidgets as widgets\n",
    "from IPython.display import display, clear_output\n",
    "import seaborn as sns \n",
    "import warnings\n",
    "import os\n",
    "import glob\n",
    "import matplotlib.pyplot as plt\n",
    "import torch"
   ]
  },
  {
   "cell_type": "markdown",
   "metadata": {},
   "source": [
    "## What do Large Language Models do?\n",
    "\n",
    "Large language models like ChatGPT do something that seems very simple: **Next word prediction.**\n",
    "\n",
    "What does that mean? It means that given a sequence of words, the model predicts the next word in the sequence. For example, if the input is \"The cat sat on the\", the model might predict \"mat\" as the next word.\n",
    "\n",
    "![](images/next_word_prediction.png)\n",
    "\n",
    "We saw an example of predicting just one word. These models predict only one word at a time, but they can do this for very long sequences of words.\n",
    "\n",
    "For example: \"bob went to the store\" to buy some milk.\n",
    "\n",
    "![](images/sequence_words.png)\n",
    "\n",
    "What the model is doing is learning the probability distribution of the next word given the previous words.\n",
    "\n",
    "The probability of predicting the next word $w_{t}$ given the previous words $w_1, w_2, \\ldots, w_{t-1}$ is:\n",
    "\n",
    "$$\n",
    "P(w_t \\mid w_1, w_2, \\ldots, w_{t-1}) = \\frac{P(w_1, w_2, \\ldots, w_{t-1}, w_t)}{P(w_1, w_2, \\ldots, w_{t-1})}\n",
    "$$\n",
    "\n",
    "LLMs approximate this probability:\n",
    "\n",
    "$$\n",
    "P(w_t \\mid w_1, w_2, \\ldots, w_{t-1})\n",
    "$$\n",
    "\n",
    "The model predicts the next word by choosing the word that, based on everything so far, seems the most likely to come next. The word $w_t$ that maximizes this conditional probability:\n",
    "\n",
    "$$\n",
    "\\hat{w}_t = \\arg\\max_{w} P(w \\mid w_1, w_2, \\ldots, w_{t-1})\n",
    "$$\n",
    "\n",
    "These models give a probability distribution over the entire vocabulary (all the words the model was trained on). We can then pick the word with the highest probability as the next word or we can sample from this distribution to get more varied (creative) outputs.\n",
    "\n",
    "Lets look at an example of how this works in practice:\n"
   ]
  },
  {
   "cell_type": "code",
   "execution_count": 30,
   "metadata": {},
   "outputs": [
    {
     "data": {
      "image/png": "[encoded data removed]",
      "text/plain": [
       "<Figure size 1800x500 with 3 Axes>"
      ]
     },
     "metadata": {},
     "output_type": "display_data"
    }
   ],
   "source": [
    "\n",
    "warnings.filterwarnings(\"ignore\")\n",
    "\n",
    "# Example vocabulary\n",
    "vocab = ['buy', 'some', 'milk', 'other1', 'other2', 'other3']\n",
    "\n",
    "# Probabilities at each step (toy example)\n",
    "probs_step1 = [0.8, 0.05, 0.05, 0.03, 0.04, 0.03]  # 'buy' high\n",
    "probs_step2 = [0.05, 0.7, 0.1, 0.05, 0.05, 0.05]   # 'some' high\n",
    "probs_step3 = [0.05, 0.05, 0.75, 0.05, 0.05, 0.05] # 'milk' high\n",
    "\n",
    "prob_distributions = [probs_step1, probs_step2, probs_step3]\n",
    "step_labels = ['Step 1: Predict \"buy\"', 'Step 2: Predict \"some\"', 'Step 3: Predict \"milk\"']\n",
    "\n",
    "fig, axes = plt.subplots(1, 3, figsize=(18, 5), sharey=True)\n",
    "\n",
    "for i, ax in enumerate(axes):\n",
    "    sns.barplot(x=vocab, y=prob_distributions[i], palette='muted', ax=ax)\n",
    "    ax.set_title(step_labels[i])\n",
    "    ax.set_ylim(0, 1)\n",
    "    ax.set_ylabel('Probability' if i == 0 else '')\n",
    "    ax.set_xlabel('Vocabulary')\n",
    "    # Highlight the max prob bar in gold\n",
    "    max_idx = prob_distributions[i].index(max(prob_distributions[i]))\n",
    "    ax.bar(max_idx, prob_distributions[i][max_idx], color='gold')\n",
    "\n",
    "plt.tight_layout()\n",
    "plt.show()"
   ]
  },
  {
   "cell_type": "markdown",
   "metadata": {},
   "source": [
    "To get more creative responses you change the distribution at the output where you pick the next word. Very simply this involves making the distribution sharper or flatter.\n",
    "If you make the distribution sharper, you are more likely to pick the word with the highest probability. If you make it flatter, you are more likely to pick a word that is not the most probable one.\n",
    "\n",
    "This is called **temperature**. A higher temperature makes the distribution flatter, while a lower temperature makes it sharper. You would want to use a temperature of more than 1 $(1.2-1.5)$ for creative responses, and a temperature of less than 1 $(0.1 - 0.5)$ for more focused responses. For a balanced response, you can use a temperature of $0.7-1$.\n",
    "Another set of parameters are called top-p and top-k sampling."
   ]
  },
  {
   "cell_type": "code",
   "execution_count": 31,
   "metadata": {},
   "outputs": [
    {
     "data": {
      "image/png": "[encoded data removed]",
      "text/plain": [
       "<Figure size 2000x500 with 3 Axes>"
      ]
     },
     "metadata": {},
     "output_type": "display_data"
    }
   ],
   "source": [
    "warnings.filterwarnings(\"ignore\")\n",
    "\n",
    "np.random.seed(42)\n",
    "vocab_size = 20\n",
    "vocab = [f'token{i}' for i in range(1, vocab_size+1)]\n",
    "base_probs = np.random.rand(vocab_size)\n",
    "base_probs /= base_probs.sum()  # Normalize to sum to 1\n",
    "\n",
    "def apply_temperature(probs, temp):\n",
    "    logits = np.log(probs + 1e-20)\n",
    "    scaled_logits = logits / temp\n",
    "    exp_logits = np.exp(scaled_logits)\n",
    "    return exp_logits / exp_logits.sum()\n",
    "\n",
    "temperatures = [0.5, 1.0, 1.5]\n",
    "distributions = [apply_temperature(base_probs, t) for t in temperatures]\n",
    "\n",
    "fig, axes = plt.subplots(1, 3, figsize=(20, 5), sharey=True)\n",
    "for i, (ax, dist, temp) in enumerate(zip(axes, distributions, temperatures)):\n",
    "    sns.barplot(x=vocab, y=dist, palette='muted', ax=ax)\n",
    "    ax.set_title(f'Temperature = {temp}')\n",
    "    ax.set_ylim(0, 0.25)\n",
    "    ax.set_ylabel('Probability' if i == 0 else '')\n",
    "    ax.set_xlabel('Vocabulary')\n",
    "    ax.tick_params(axis='x', rotation=90) # Rotate x-axis labels\n",
    "    max_idx = dist.argmax()\n",
    "    ax.bar(max_idx, dist[max_idx], color='gold')\n",
    "\n",
    "plt.tight_layout()\n",
    "plt.show()"
   ]
  },
  {
   "cell_type": "markdown",
   "metadata": {},
   "source": [
    "In the example above, we see how the probability distribution changes with different temperatures. A high temperature (1.5) results in a flatter distribution, meaning the model is more likely to sample from less probable tokens, while a low temperature (0.5) results in a sharper distribution, favoring the most probable tokens.\n",
    "\n",
    "Note that while this is with words and language, the same idea applies to any sequential data, like stock prices, weather data, etc. The model looks at what happened before and tries to guess what comes next.\n",
    "\n",
    "If you are interested in understanding the inner workings of these models, take a look at the interactive visualization at [The Illustrated Transformer](https://poloclub.github.io/transformer-explainer/) . It provides an excellent, hands-on way to explore the core ideas behind modern language models.\n",
    "\n",
    "\n",
    "So, just like it guesses the next word in a sentence, it can guess the next day’s temperature or the next movement in a stock price, based on the pattern it sees in the earlier numbers. "
   ]
  },
  {
   "cell_type": "code",
   "execution_count": 32,
   "metadata": {},
   "outputs": [
    {
     "data": {
      "image/png": "[encoded data removed]",
      "text/plain": [
       "<Figure size 600x600 with 1 Axes>"
      ]
     },
     "metadata": {},
     "output_type": "display_data"
    }
   ],
   "source": [
    "n = 10\n",
    "m = 9\n",
    "\n",
    "# Generate actual data: random walk + small trend\n",
    "actual_data = np.cumsum(np.random.normal(0, 1, n)) + 50\n",
    "\n",
    "# Predictor approximates entire data closely with small noise everywhere\n",
    "predicted = actual_data + np.random.normal(0, 0.2, n)\n",
    "\n",
    "# Posterior uncertainty: low and roughly constant over entire period\n",
    "posterior_std = np.full(n, 0.3)\n",
    "\n",
    "upper = predicted + posterior_std\n",
    "lower = predicted - posterior_std\n",
    "\n",
    "plt.figure(figsize=(6,6))\n",
    "plt.plot(range(n), actual_data, label=\"Actual Data\", color='blue')\n",
    "plt.plot(range(n), predicted, label=\"Predicted\", color='orange')\n",
    "plt.axvline(x=m-1, color='black', linestyle='--', label=\"Observed / Future Split\")\n",
    "\n",
    "plt.xlabel(\"Time\")\n",
    "plt.ylabel(\"Value\")\n",
    "plt.title(\"Stock price over time.\")\n",
    "plt.legend()\n",
    "plt.show()"
   ]
  },
  {
   "cell_type": "markdown",
   "metadata": {},
   "source": [
    "Typically, when building a model to predict stock prices, you would use more information than just the past prices. For example, you might include things like public sentiment (how people feel about the stock), news headlines, or other features that could influence the price.\n",
    "\n",
    "In the examples below, that's exactly what we're going to try! We'll see how adding these extra features can help the model make better predictions about what happens next.\n",
    "\n",
    "# Predicting Stock Prices from News Headlines with AI\n",
    "\n",
    "Just like LLMs predict the next word based on the context of prior words:\n",
    "\n",
    "$$\n",
    "P(w_t \\mid w_1, w_2, \\ldots, w_{t-1})\n",
    "$$\n",
    "\n",
    "We can use similar models to predict the next value in a time series, like **stock prices** or **percentage changes** in returns.\n",
    "\n",
    "But instead of words, our \"tokens\" are **daily stock returns**, and instead of using a pure language context, we enrich our prediction using **public sentiment** extracted from news headlines.\n",
    "\n",
    "Comparing word and stock price prediction \n",
    "\n",
    "| Word Prediction                   | Stock Price Prediction           |\n",
    "|-------------------------------------|--------------------------------------|\n",
    "| Previous words                      | Previous stock returns               |\n",
    "| Next word prediction                | Future return prediction             |\n",
    "| Attention to important words        | Weight on news sentiment  |\n",
    "| Temperature to control randomness   | Confidence intervals in forecasts    |\n",
    "| Word probability distribution       | Forecasted return distribution       |\n",
    "\n",
    "In this case study, we use a language model to analyze real-time news headlines alongside historical stock prices in order to forecast short-term changes in stock value.\n",
    "\n",
    "You’ll:\n",
    "- Collect news headlines about real companies (like Amazon or Starbucks)\n",
    "- Use a pre-trained AI model to classify the **sentiment** (positive or negative) of these news headlines\n",
    "- Combine that with stock prices\n",
    "- Use a forecasting model to predict future price changes\n",
    "- Visualize your results interactively\n",
    "\n",
    "\n",
    "## Preview the News Data\n",
    "\n",
    "Here we use the `finvizfinance` packages to retrive real-time news headlines for companies like Starbucks (SBUX).\n"
   ]
  },
  {
   "cell_type": "code",
   "execution_count": 33,
   "metadata": {},
   "outputs": [],
   "source": [
    "# The code below will give us a snapshot of the 100 most recent news headlines for a particular stock in the last 30 days.  \n",
    "\n",
    "def get_news_data(ticker):\n",
    "    stock = finvizfinance(ticker)\n",
    "    news_df = stock.ticker_news()\n",
    "    news_df = pd.DataFrame(news_df)\n",
    "\n",
    "    # Drop NaN and clean whitespace\n",
    "    news_df = news_df.dropna(subset=[\"Title\"])\n",
    "    news_df = news_df[news_df[\"Title\"].str.strip() != \"\"]\n",
    "    news_df['Title'] = news_df['Title'].str.lower()\n",
    "    news_df['Date'] = pd.to_datetime(news_df['Date'])\n",
    "    news_df['DateOnly'] = news_df['Date'].dt.date\n",
    "    news_df[\"Ticker\"] = ticker.upper()\n",
    "    # Remove the 'Date' column\n",
    "    news_df = news_df.drop(columns=['Date'])\n",
    "\n",
    "    return news_df.reset_index(drop=True)\n",
    "\n",
    "# For the sake of reproducability (so we always get the same results), we will use a a dataset that was scrapped using the same method at an earlier time (July - 2025)\n",
    "\n",
    "# Uncomment the line below get a more recent snapshot of the data ! \n",
    "# SBUX_news_df = get_news_data(\"SBUX\")\n",
    "# SBUX_news_df.to_csv(\"data/SBUX_news.csv\", index=False)\n"
   ]
  },
  {
   "cell_type": "markdown",
   "metadata": {},
   "source": [
    "Let’s look at what the cleaned news data looks like. We’ll start with Starbucks (`SBUX`).\n",
    "\n",
    "Each row is a headline, what website it was from, the date it was published and a ticker indicating what stock it is for. "
   ]
  },
  {
   "cell_type": "code",
   "execution_count": 5,
   "metadata": {},
   "outputs": [
    {
     "data": {
      "text/html": [
       "<div>\n",
       "<style scoped>\n",
       "    .dataframe tbody tr th:only-of-type {\n",
       "        vertical-align: middle;\n",
       "    }\n",
       "\n",
       "    .dataframe tbody tr th {\n",
       "        vertical-align: top;\n",
       "    }\n",
       "\n",
       "    .dataframe thead th {\n",
       "        text-align: right;\n",
       "    }\n",
       "</style>\n",
       "<table border=\"1\" class=\"dataframe\">\n",
       "  <thead>\n",
       "    <tr style=\"text-align: right;\">\n",
       "      <th></th>\n",
       "      <th>Title</th>\n",
       "      <th>Link</th>\n",
       "      <th>Source</th>\n",
       "      <th>DateOnly</th>\n",
       "      <th>Ticker</th>\n",
       "    </tr>\n",
       "  </thead>\n",
       "  <tbody>\n",
       "    <tr>\n",
       "      <th>0</th>\n",
       "      <td>jim cramer on starbucks: \"i think it was a ver...</td>\n",
       "      <td>/news/125467/jim-cramer-on-starbucks-i-think-i...</td>\n",
       "      <td>Insider Monkey</td>\n",
       "      <td>2025-08-02</td>\n",
       "      <td>SBUX</td>\n",
       "    </tr>\n",
       "    <tr>\n",
       "      <th>1</th>\n",
       "      <td>starbucks ceo talks rising coffee prices and t...</td>\n",
       "      <td>https://finance.yahoo.com/video/starbucks-ceo-...</td>\n",
       "      <td>Yahoo Finance Video</td>\n",
       "      <td>2025-08-01</td>\n",
       "      <td>SBUX</td>\n",
       "    </tr>\n",
       "    <tr>\n",
       "      <th>2</th>\n",
       "      <td>the best way to see china? on futuristic, punc...</td>\n",
       "      <td>https://finance.yahoo.com/m/8ada9915-5a7b-3888...</td>\n",
       "      <td>The Wall Street Journal</td>\n",
       "      <td>2025-08-01</td>\n",
       "      <td>SBUX</td>\n",
       "    </tr>\n",
       "    <tr>\n",
       "      <th>3</th>\n",
       "      <td>wall street circles starbucks as china deal he...</td>\n",
       "      <td>https://finance.yahoo.com/news/wall-street-cir...</td>\n",
       "      <td>GuruFocus.com</td>\n",
       "      <td>2025-08-01</td>\n",
       "      <td>SBUX</td>\n",
       "    </tr>\n",
       "    <tr>\n",
       "      <th>4</th>\n",
       "      <td>starbucks, cava, shake shack, bloomin' brands,...</td>\n",
       "      <td>/news/125185/starbucks-cava-shake-shack-bloomi...</td>\n",
       "      <td>StockStory</td>\n",
       "      <td>2025-08-01</td>\n",
       "      <td>SBUX</td>\n",
       "    </tr>\n",
       "  </tbody>\n",
       "</table>\n",
       "</div>"
      ],
      "text/plain": [
       "                                               Title  \\\n",
       "0  jim cramer on starbucks: \"i think it was a ver...   \n",
       "1  starbucks ceo talks rising coffee prices and t...   \n",
       "2  the best way to see china? on futuristic, punc...   \n",
       "3  wall street circles starbucks as china deal he...   \n",
       "4  starbucks, cava, shake shack, bloomin' brands,...   \n",
       "\n",
       "                                                Link                   Source  \\\n",
       "0  /news/125467/jim-cramer-on-starbucks-i-think-i...           Insider Monkey   \n",
       "1  https://finance.yahoo.com/video/starbucks-ceo-...      Yahoo Finance Video   \n",
       "2  https://finance.yahoo.com/m/8ada9915-5a7b-3888...  The Wall Street Journal   \n",
       "3  https://finance.yahoo.com/news/wall-street-cir...            GuruFocus.com   \n",
       "4  /news/125185/starbucks-cava-shake-shack-bloomi...               StockStory   \n",
       "\n",
       "     DateOnly Ticker  \n",
       "0  2025-08-02   SBUX  \n",
       "1  2025-08-01   SBUX  \n",
       "2  2025-08-01   SBUX  \n",
       "3  2025-08-01   SBUX  \n",
       "4  2025-08-01   SBUX  "
      ]
     },
     "execution_count": 5,
     "metadata": {},
     "output_type": "execute_result"
    }
   ],
   "source": [
    "SBUX_news_df = pd.read_csv(\"data/SBUX_news.csv\")\n",
    "SBUX_news_df.head()"
   ]
  },
  {
   "cell_type": "markdown",
   "metadata": {},
   "source": [
    "## Classifying Headline Sentiment with LLM\n",
    "\n",
    "Earlier, we explored how **large language models (LLMs)** predict the *next word* by learning the probability distribution of possible outcomes based on context.\n",
    "\n",
    "Now, we apply a similar idea to **entire sentences** — in this case, financial news headlines. Instead of predicting the next word, the model assigns a probability to each **sentiment category** (e.g. POSITIVE, NEGATIVE, or NEUTRAL).\n",
    "\n",
    "#### How it works:\n",
    "- A pre-trained model reads the headline.\n",
    "- It assigns probabilities to the sentiment labels.\n",
    "- We keep only **positive** or **negative** headlines, since those are more likely to affect stock prices.\n",
    "  \n",
    "This is like asking:\n",
    "> *Given the words in this sentence, what is the most likely emotion behind it?*\n",
    "\n",
    "We use Hugging Face’s `pipeline()` function to load a **DistilBERT** model — a lighter version of the BERT model trained to understand the tone of text. Although it was originally trained on movie reviews, it generalizes well and works surprisingly well on financial headlines too!\n",
    "\n",
    "This builds directly on our earlier discussion of LLMs predicting **probability distributions**, but here, the prediction is over **sentiment classes** rather than words.\n",
    "\n",
    "We now apply a pre-trained **large language model** to each headline.\n",
    "\n",
    "It returns:\n",
    "- `POSITIVE` — news that sounds good (e.g., “profits surge”)\n",
    "- `NEGATIVE` — news that sounds bad (e.g., “lawsuit filed”)\n",
    "\n",
    "> *Can you think of a positive and negative news headline ?*\n",
    "\n",
    "We skip `NEUTRAL` news to focus on strong market signals.\n",
    "\n",
    "In this case, we apply a pre-trained LLM called **Twitter-RoBERTa**, specifically trained on tweets and social media text. It’s well-suited to handling short, informal writing — like news headlines.\n",
    "\n"
   ]
  },
  {
   "cell_type": "code",
   "execution_count": 7,
   "metadata": {},
   "outputs": [
    {
     "name": "stderr",
     "output_type": "stream",
     "text": [
      "Some weights of the model checkpoint at cardiffnlp/twitter-roberta-base-sentiment-latest were not used when initializing RobertaForSequenceClassification: ['roberta.pooler.dense.bias', 'roberta.pooler.dense.weight']\n",
      "- This IS expected if you are initializing RobertaForSequenceClassification from the checkpoint of a model trained on another task or with another architecture (e.g. initializing a BertForSequenceClassification model from a BertForPreTraining model).\n",
      "- This IS NOT expected if you are initializing RobertaForSequenceClassification from the checkpoint of a model that you expect to be exactly identical (initializing a BertForSequenceClassification model from a BertForSequenceClassification model).\n",
      "Device set to use cpu\n"
     ]
    }
   ],
   "source": [
    "\n",
    "# Here we are just specifying the classifier (AI model) that decides on a sentiment \n",
    "\n",
    "classifier = pipeline(\"sentiment-analysis\", model=\"cardiffnlp/twitter-roberta-base-sentiment-latest\", device=-1)\n",
    "\n",
    "# define a function to classify sentiment of each text \n",
    "def classify_sentiment(text):\n",
    "    return classifier(text)[0][\"label\"].upper()\n",
    "\n",
    "# define classify_sentiment to entire dataframe\n",
    "def apply_sentiment(news_df):\n",
    "    news_df[\"Sentiment\"] = news_df[\"Title\"].apply(classify_sentiment)\n",
    "    return news_df # [news_df[\"Sentiment\"] != \"NEUTRAL\"] # remove neutral headlines\n",
    "\n",
    "def process_sentiment(news_df):\n",
    "    grouped = news_df.groupby([\"DateOnly\", \"Sentiment\"]).size().unstack(fill_value=0)\n",
    "    grouped = grouped.reindex(columns=[\"POSITIVE\", \"NEGATIVE\"], fill_value=0)\n",
    "    # Calculate a rolling 7-day total of positive headlines\n",
    "    grouped[\"7day_avg_positive\"] = grouped[\"POSITIVE\"].rolling(window=7, min_periods=1).sum()\n",
    "    # Calculate a rolling 7-day total of negative headlines\n",
    "    grouped[\"7day_avg_negative\"] = grouped[\"NEGATIVE\"].rolling(window=7, min_periods=1).sum()\n",
    "    # Calculate the percentage of positive headlines each day (out of total positive + negative)\n",
    "    grouped[\"7day_pct_positive\"] = grouped[\"POSITIVE\"] / (grouped[\"POSITIVE\"] + grouped[\"NEGATIVE\"])\n",
    "\n",
    "    return grouped.reset_index()"
   ]
  },
  {
   "cell_type": "markdown",
   "metadata": {},
   "source": [
    "Lets use our model to see wether the sentence \"I hate bananas\" is negative or positive \n",
    "\n",
    ">*Try changing the words inside classify sentiment to see wether its is classified positive or negative*"
   ]
  },
  {
   "cell_type": "code",
   "execution_count": 8,
   "metadata": {},
   "outputs": [
    {
     "data": {
      "text/plain": [
       "'NEGATIVE'"
      ]
     },
     "execution_count": 8,
     "metadata": {},
     "output_type": "execute_result"
    }
   ],
   "source": [
    "classify_sentiment(\"I hate bananas\")        # You can change the words inside the function to test anything you want! "
   ]
  },
  {
   "cell_type": "markdown",
   "metadata": {},
   "source": [
    "### 💡 Engage Critically: Sentiment Analysis in Economics\n",
    "\n",
    "> Sentiment analysis is often used to gauge market confidence, consumer optimism, or political risk. It treats online language as a proxy for economic behavior. But we know that economic indicators are deeply shaped by policy, culture, and collective narratives—not just by measurable sentiment.\n",
    ">\n",
    "> Many economic sentiment indices (like consumer confidence or “fear/greed” indexes) assume that expressed sentiment directly translates to real-world spending, investment, or risk-taking. In reality, these links can be **indirect, lagged, or culturally biased**: people may express pessimism online but keep spending, or express optimism while privately bracing for risk. It’s like when you tweet: “I am so broke” but continue to buy Labubus. \n",
    ">\n",
    ">> ❓ **Consider:** Who is represented in your dataset? Do these news headlines really reflect the actual economic actors (investors, business owners, households) ?\n",
    ">\n",
    ">> ❓ **Ask yourself:** Are there structural, cultural, or platform-specific biases shaping whose economic “sentiment” you’re measuring? How might your results look different for another country's stock market ?\n",
    ">\n",
    "> If you’re interested, check out [this short article](https://cepr.org/voxeu/columns/twitter-sentiment-and-stock-market-movements-predictive-power-social-media) from VoxEU on how Twitter sentiment and stock market movements."
   ]
  },
  {
   "cell_type": "markdown",
   "metadata": {},
   "source": [
    "Now let's apply this to our entire `SBUX_news_df` and see how each news headline is classified. "
   ]
  },
  {
   "cell_type": "code",
   "execution_count": 9,
   "metadata": {},
   "outputs": [
    {
     "data": {
      "text/html": [
       "<div>\n",
       "<style scoped>\n",
       "    .dataframe tbody tr th:only-of-type {\n",
       "        vertical-align: middle;\n",
       "    }\n",
       "\n",
       "    .dataframe tbody tr th {\n",
       "        vertical-align: top;\n",
       "    }\n",
       "\n",
       "    .dataframe thead th {\n",
       "        text-align: right;\n",
       "    }\n",
       "</style>\n",
       "<table border=\"1\" class=\"dataframe\">\n",
       "  <thead>\n",
       "    <tr style=\"text-align: right;\">\n",
       "      <th></th>\n",
       "      <th>Title</th>\n",
       "      <th>Link</th>\n",
       "      <th>Source</th>\n",
       "      <th>DateOnly</th>\n",
       "      <th>Ticker</th>\n",
       "      <th>Sentiment</th>\n",
       "    </tr>\n",
       "  </thead>\n",
       "  <tbody>\n",
       "    <tr>\n",
       "      <th>0</th>\n",
       "      <td>jim cramer on starbucks: \"i think it was a ver...</td>\n",
       "      <td>/news/125467/jim-cramer-on-starbucks-i-think-i...</td>\n",
       "      <td>Insider Monkey</td>\n",
       "      <td>2025-08-02</td>\n",
       "      <td>SBUX</td>\n",
       "      <td>POSITIVE</td>\n",
       "    </tr>\n",
       "    <tr>\n",
       "      <th>1</th>\n",
       "      <td>starbucks ceo talks rising coffee prices and t...</td>\n",
       "      <td>https://finance.yahoo.com/video/starbucks-ceo-...</td>\n",
       "      <td>Yahoo Finance Video</td>\n",
       "      <td>2025-08-01</td>\n",
       "      <td>SBUX</td>\n",
       "      <td>NEUTRAL</td>\n",
       "    </tr>\n",
       "    <tr>\n",
       "      <th>2</th>\n",
       "      <td>the best way to see china? on futuristic, punc...</td>\n",
       "      <td>https://finance.yahoo.com/m/8ada9915-5a7b-3888...</td>\n",
       "      <td>The Wall Street Journal</td>\n",
       "      <td>2025-08-01</td>\n",
       "      <td>SBUX</td>\n",
       "      <td>POSITIVE</td>\n",
       "    </tr>\n",
       "    <tr>\n",
       "      <th>3</th>\n",
       "      <td>wall street circles starbucks as china deal he...</td>\n",
       "      <td>https://finance.yahoo.com/news/wall-street-cir...</td>\n",
       "      <td>GuruFocus.com</td>\n",
       "      <td>2025-08-01</td>\n",
       "      <td>SBUX</td>\n",
       "      <td>NEUTRAL</td>\n",
       "    </tr>\n",
       "    <tr>\n",
       "      <th>4</th>\n",
       "      <td>starbucks, cava, shake shack, bloomin' brands,...</td>\n",
       "      <td>/news/125185/starbucks-cava-shake-shack-bloomi...</td>\n",
       "      <td>StockStory</td>\n",
       "      <td>2025-08-01</td>\n",
       "      <td>SBUX</td>\n",
       "      <td>NEGATIVE</td>\n",
       "    </tr>\n",
       "  </tbody>\n",
       "</table>\n",
       "</div>"
      ],
      "text/plain": [
       "                                               Title  \\\n",
       "0  jim cramer on starbucks: \"i think it was a ver...   \n",
       "1  starbucks ceo talks rising coffee prices and t...   \n",
       "2  the best way to see china? on futuristic, punc...   \n",
       "3  wall street circles starbucks as china deal he...   \n",
       "4  starbucks, cava, shake shack, bloomin' brands,...   \n",
       "\n",
       "                                                Link                   Source  \\\n",
       "0  /news/125467/jim-cramer-on-starbucks-i-think-i...           Insider Monkey   \n",
       "1  https://finance.yahoo.com/video/starbucks-ceo-...      Yahoo Finance Video   \n",
       "2  https://finance.yahoo.com/m/8ada9915-5a7b-3888...  The Wall Street Journal   \n",
       "3  https://finance.yahoo.com/news/wall-street-cir...            GuruFocus.com   \n",
       "4  /news/125185/starbucks-cava-shake-shack-bloomi...               StockStory   \n",
       "\n",
       "     DateOnly Ticker Sentiment  \n",
       "0  2025-08-02   SBUX  POSITIVE  \n",
       "1  2025-08-01   SBUX   NEUTRAL  \n",
       "2  2025-08-01   SBUX  POSITIVE  \n",
       "3  2025-08-01   SBUX   NEUTRAL  \n",
       "4  2025-08-01   SBUX  NEGATIVE  "
      ]
     },
     "execution_count": 9,
     "metadata": {},
     "output_type": "execute_result"
    }
   ],
   "source": [
    "news_df = apply_sentiment(SBUX_news_df)       # Classify sentiment of each Starbucks news headline\n",
    "news_df.head()"
   ]
  },
  {
   "cell_type": "markdown",
   "metadata": {},
   "source": [
    "Lets summarize the sentiment results by date. For each day we count the number of positive and negative headlines, then calculate 7-day moving averages and the daily percentage of positive news. This gives us a quick overview of news sentiment trends over time."
   ]
  },
  {
   "cell_type": "code",
   "execution_count": 10,
   "metadata": {},
   "outputs": [
    {
     "data": {
      "text/html": [
       "<div>\n",
       "<style scoped>\n",
       "    .dataframe tbody tr th:only-of-type {\n",
       "        vertical-align: middle;\n",
       "    }\n",
       "\n",
       "    .dataframe tbody tr th {\n",
       "        vertical-align: top;\n",
       "    }\n",
       "\n",
       "    .dataframe thead th {\n",
       "        text-align: right;\n",
       "    }\n",
       "</style>\n",
       "<table border=\"1\" class=\"dataframe\">\n",
       "  <thead>\n",
       "    <tr style=\"text-align: right;\">\n",
       "      <th>Sentiment</th>\n",
       "      <th>DateOnly</th>\n",
       "      <th>POSITIVE</th>\n",
       "      <th>NEGATIVE</th>\n",
       "      <th>7day_avg_positive</th>\n",
       "      <th>7day_avg_negative</th>\n",
       "      <th>7day_pct_positive</th>\n",
       "    </tr>\n",
       "  </thead>\n",
       "  <tbody>\n",
       "    <tr>\n",
       "      <th>0</th>\n",
       "      <td>2025-07-29</td>\n",
       "      <td>7</td>\n",
       "      <td>5</td>\n",
       "      <td>7.0</td>\n",
       "      <td>5.0</td>\n",
       "      <td>0.583333</td>\n",
       "    </tr>\n",
       "    <tr>\n",
       "      <th>1</th>\n",
       "      <td>2025-07-30</td>\n",
       "      <td>8</td>\n",
       "      <td>6</td>\n",
       "      <td>15.0</td>\n",
       "      <td>11.0</td>\n",
       "      <td>0.571429</td>\n",
       "    </tr>\n",
       "    <tr>\n",
       "      <th>2</th>\n",
       "      <td>2025-07-31</td>\n",
       "      <td>3</td>\n",
       "      <td>1</td>\n",
       "      <td>18.0</td>\n",
       "      <td>12.0</td>\n",
       "      <td>0.750000</td>\n",
       "    </tr>\n",
       "    <tr>\n",
       "      <th>3</th>\n",
       "      <td>2025-08-01</td>\n",
       "      <td>2</td>\n",
       "      <td>1</td>\n",
       "      <td>20.0</td>\n",
       "      <td>13.0</td>\n",
       "      <td>0.666667</td>\n",
       "    </tr>\n",
       "    <tr>\n",
       "      <th>4</th>\n",
       "      <td>2025-08-02</td>\n",
       "      <td>1</td>\n",
       "      <td>0</td>\n",
       "      <td>21.0</td>\n",
       "      <td>13.0</td>\n",
       "      <td>1.000000</td>\n",
       "    </tr>\n",
       "  </tbody>\n",
       "</table>\n",
       "</div>"
      ],
      "text/plain": [
       "Sentiment    DateOnly  POSITIVE  NEGATIVE  7day_avg_positive  \\\n",
       "0          2025-07-29         7         5                7.0   \n",
       "1          2025-07-30         8         6               15.0   \n",
       "2          2025-07-31         3         1               18.0   \n",
       "3          2025-08-01         2         1               20.0   \n",
       "4          2025-08-02         1         0               21.0   \n",
       "\n",
       "Sentiment  7day_avg_negative  7day_pct_positive  \n",
       "0                        5.0           0.583333  \n",
       "1                       11.0           0.571429  \n",
       "2                       12.0           0.750000  \n",
       "3                       13.0           0.666667  \n",
       "4                       13.0           1.000000  "
      ]
     },
     "execution_count": 10,
     "metadata": {},
     "output_type": "execute_result"
    }
   ],
   "source": [
    "sentiment_df = process_sentiment(news_df)       # Summarize daily sentiment statistics\n",
    "sentiment_df.head()                             # Display the first 5 rows of the dataframe"
   ]
  },
  {
   "cell_type": "markdown",
   "metadata": {},
   "source": [
    "###  What This Table Shows\n",
    "This table is the **output of a function that summarizes news sentiment over time**.\n",
    "\n",
    "Each row corresponds to a specific **date** and gives us a snapshot of how positive or negative the news headlines were for that day and the surrounding week.\n",
    "\n",
    "\n",
    "\n",
    "Markets move not just based on today's headlines, but on **short-term trends** in public sentiment.  \n",
    "This table lets us track how optimism or pessimism is **building up over time**, which we can later use to help predict stock price movements.\n",
    "\n",
    "###  Why is this useful?\n",
    "- We know that in the last 100 news stories about NVDIA 24 have been positive and 5 have been negative. \n",
    "- If the `7day_pct_positive` is rising, the **overall tone of news** is getting more optimistic.\n",
    "- If it's dropping, it could mean **public or investor concern** is growing.\n",
    "- We can later **plot this** and compare it against stock price to see if sentiment influences market behavior.\n",
    "\n",
    "## Getting Stock Price Data \n",
    "\n",
    "We're using the `yfinance` package to get **real stock price data** directly from Yahoo Finance. The function below helps us **download historical stock prices** and compute the **daily percentage change** in the stock's closing price. To make sure our results are replicaable, this data has been saved as a csv \"data/NVDA_snapshot.csv\"\n",
    "\n",
    "This allows us to analyze how stock prices change over time.\n"
   ]
  },
  {
   "cell_type": "code",
   "execution_count": 11,
   "metadata": {},
   "outputs": [
    {
     "data": {
      "text/html": [
       "<div>\n",
       "<style scoped>\n",
       "    .dataframe tbody tr th:only-of-type {\n",
       "        vertical-align: middle;\n",
       "    }\n",
       "\n",
       "    .dataframe tbody tr th {\n",
       "        vertical-align: top;\n",
       "    }\n",
       "\n",
       "    .dataframe thead th {\n",
       "        text-align: right;\n",
       "    }\n",
       "</style>\n",
       "<table border=\"1\" class=\"dataframe\">\n",
       "  <thead>\n",
       "    <tr style=\"text-align: right;\">\n",
       "      <th></th>\n",
       "      <th>DateOnly</th>\n",
       "      <th>Pct_Change</th>\n",
       "    </tr>\n",
       "  </thead>\n",
       "  <tbody>\n",
       "    <tr>\n",
       "      <th>0</th>\n",
       "      <td>2025-07-28</td>\n",
       "      <td>NaN</td>\n",
       "    </tr>\n",
       "    <tr>\n",
       "      <th>1</th>\n",
       "      <td>2025-07-29</td>\n",
       "      <td>-0.757979</td>\n",
       "    </tr>\n",
       "    <tr>\n",
       "      <th>2</th>\n",
       "      <td>2025-07-30</td>\n",
       "      <td>-0.215143</td>\n",
       "    </tr>\n",
       "    <tr>\n",
       "      <th>3</th>\n",
       "      <td>2025-07-31</td>\n",
       "      <td>-3.880981</td>\n",
       "    </tr>\n",
       "    <tr>\n",
       "      <th>4</th>\n",
       "      <td>2025-08-01</td>\n",
       "      <td>-2.579635</td>\n",
       "    </tr>\n",
       "  </tbody>\n",
       "</table>\n",
       "</div>"
      ],
      "text/plain": [
       "     DateOnly  Pct_Change\n",
       "0  2025-07-28         NaN\n",
       "1  2025-07-29   -0.757979\n",
       "2  2025-07-30   -0.215143\n",
       "3  2025-07-31   -3.880981\n",
       "4  2025-08-01   -2.579635"
      ]
     },
     "execution_count": 11,
     "metadata": {},
     "output_type": "execute_result"
    }
   ],
   "source": [
    "# The code below will give us a snapshot of stock prices for the duration in we have news headlines for.  \n",
    "\n",
    "def get_stock_data(ticker, start, end):\n",
    "    stock = yf.download(ticker, start=start, end=end)\n",
    "\n",
    "    # Flatten columns if multi-indexed (e.g., multiple tickers)\n",
    "    if isinstance(stock.columns, pd.MultiIndex):\n",
    "        stock.columns = ['_'.join(col).strip() for col in stock.columns]  # \"Close_SBUX\", etc.\n",
    "        close_col = f\"Close_{ticker}\"\n",
    "    else:\n",
    "        close_col = \"Close\"\n",
    "\n",
    "    stock[\"Pct_Change\"] = stock[close_col].pct_change() * 100\n",
    "    stock.reset_index(inplace=True)\n",
    "    stock[\"DateOnly\"] = pd.to_datetime(stock[\"Date\"])\n",
    "    return stock[[\"DateOnly\", \"Pct_Change\"]]\n",
    "\n",
    "# merges sentiment and stock data by date, and lags sentiment by one day to align with price changes.\n",
    "def combine_data(sent_df, stock_df):\n",
    "    sent_df = sent_df.reset_index(drop=True)\n",
    "    stock_df = stock_df.reset_index(drop=True)\n",
    "\n",
    "    sent_df[\"DateOnly\"] = pd.to_datetime(sent_df[\"DateOnly\"])\n",
    "    stock_df[\"DateOnly\"] = pd.to_datetime(stock_df[\"DateOnly\"])\n",
    "\n",
    "    return (\n",
    "        pd.merge(sent_df, stock_df, on=\"DateOnly\", how=\"inner\")\n",
    "          .assign(lagged_sentiment=lambda df: df[\"7day_pct_positive\"].shift(1))\n",
    "    )\n",
    "\n",
    "\n",
    "# For the sake of reproducability (so we always get the same results), we will use a a dataset that was scrapped using the same method at an earlier time (July - 2025)\n",
    "\n",
    "# Uncomment the line below get a more recent snapshot of the data ! \n",
    "\n",
    "# SBUX_news_df[\"DateOnly\"] = pd.to_datetime(SBUX_news_df[\"DateOnly\"])\n",
    "# start_date = SBUX_news_df[\"DateOnly\"].min() - pd.Timedelta(days=1) \n",
    "# end_date = SBUX_news_df[\"DateOnly\"].max() + pd.Timedelta(days=1) \n",
    "# stock_df = get_stock_data(\"SBUX\", start_date, end_date)\n",
    "# stock_df.to_csv(\"data/SBUX_price.csv\", index=False)\n",
    "\n",
    "SBUX_price_df = pd.read_csv(\"data/SBUX_price.csv\")\n",
    "SBUX_price_df.head()\n"
   ]
  },
  {
   "cell_type": "markdown",
   "metadata": {},
   "source": [
    "Now we bring together the sentiment summary data and the stock price changes. By merging these two datasets, we can analyze how changes in news sentiment might be related to changes in Starbucks’ stock price. This combined dataset will help us answer the question : “Does positive news sentiment lead to an increase in stock price?” "
   ]
  },
  {
   "cell_type": "code",
   "execution_count": 13,
   "metadata": {},
   "outputs": [
    {
     "data": {
      "text/html": [
       "<div>\n",
       "<style scoped>\n",
       "    .dataframe tbody tr th:only-of-type {\n",
       "        vertical-align: middle;\n",
       "    }\n",
       "\n",
       "    .dataframe tbody tr th {\n",
       "        vertical-align: top;\n",
       "    }\n",
       "\n",
       "    .dataframe thead th {\n",
       "        text-align: right;\n",
       "    }\n",
       "</style>\n",
       "<table border=\"1\" class=\"dataframe\">\n",
       "  <thead>\n",
       "    <tr style=\"text-align: right;\">\n",
       "      <th></th>\n",
       "      <th>DateOnly</th>\n",
       "      <th>POSITIVE</th>\n",
       "      <th>NEGATIVE</th>\n",
       "      <th>7day_avg_positive</th>\n",
       "      <th>7day_avg_negative</th>\n",
       "      <th>7day_pct_positive</th>\n",
       "      <th>Pct_Change</th>\n",
       "      <th>lagged_sentiment</th>\n",
       "    </tr>\n",
       "  </thead>\n",
       "  <tbody>\n",
       "    <tr>\n",
       "      <th>0</th>\n",
       "      <td>2025-07-29</td>\n",
       "      <td>7</td>\n",
       "      <td>5</td>\n",
       "      <td>7.0</td>\n",
       "      <td>5.0</td>\n",
       "      <td>0.583333</td>\n",
       "      <td>-0.757979</td>\n",
       "      <td>NaN</td>\n",
       "    </tr>\n",
       "    <tr>\n",
       "      <th>1</th>\n",
       "      <td>2025-07-30</td>\n",
       "      <td>8</td>\n",
       "      <td>6</td>\n",
       "      <td>15.0</td>\n",
       "      <td>11.0</td>\n",
       "      <td>0.571429</td>\n",
       "      <td>-0.215143</td>\n",
       "      <td>0.583333</td>\n",
       "    </tr>\n",
       "    <tr>\n",
       "      <th>2</th>\n",
       "      <td>2025-07-31</td>\n",
       "      <td>3</td>\n",
       "      <td>1</td>\n",
       "      <td>18.0</td>\n",
       "      <td>12.0</td>\n",
       "      <td>0.750000</td>\n",
       "      <td>-3.880981</td>\n",
       "      <td>0.571429</td>\n",
       "    </tr>\n",
       "    <tr>\n",
       "      <th>3</th>\n",
       "      <td>2025-08-01</td>\n",
       "      <td>2</td>\n",
       "      <td>1</td>\n",
       "      <td>20.0</td>\n",
       "      <td>13.0</td>\n",
       "      <td>0.666667</td>\n",
       "      <td>-2.579635</td>\n",
       "      <td>0.750000</td>\n",
       "    </tr>\n",
       "  </tbody>\n",
       "</table>\n",
       "</div>"
      ],
      "text/plain": [
       "    DateOnly  POSITIVE  NEGATIVE  7day_avg_positive  7day_avg_negative  \\\n",
       "0 2025-07-29         7         5                7.0                5.0   \n",
       "1 2025-07-30         8         6               15.0               11.0   \n",
       "2 2025-07-31         3         1               18.0               12.0   \n",
       "3 2025-08-01         2         1               20.0               13.0   \n",
       "\n",
       "   7day_pct_positive  Pct_Change  lagged_sentiment  \n",
       "0           0.583333   -0.757979               NaN  \n",
       "1           0.571429   -0.215143          0.583333  \n",
       "2           0.750000   -3.880981          0.571429  \n",
       "3           0.666667   -2.579635          0.750000  "
      ]
     },
     "execution_count": 13,
     "metadata": {},
     "output_type": "execute_result"
    }
   ],
   "source": [
    "combined_df = combine_data(sentiment_df, SBUX_price_df)\n",
    "combined_df"
   ]
  },
  {
   "cell_type": "markdown",
   "metadata": {},
   "source": [
    "\n",
    "### Forecasting Future Stock Changes with Sentiment\n",
    "\n",
    "We’re now trying to **predict future stock price changes** using the **SARIMAX model**, a powerful forecasting tool that allows us to include **external information** in our case, **public sentiment**. \n",
    "\n",
    "Basically this function is asking \"Based on recent sentiment, what does the model think will happen to this stock’s price over the next few days?\"\n"
   ]
  },
  {
   "cell_type": "code",
   "execution_count": 14,
   "metadata": {},
   "outputs": [],
   "source": [
    "# business days we should forecast for \n",
    "def get_future_dates(start_date, num_days):\n",
    "    if not isinstance(start_date, pd.Timestamp):\n",
    "        start_date = pd.to_datetime(start_date)\n",
    "\n",
    "    us_holidays = holidays.US()\n",
    "    future_dates = []\n",
    "    current_date = start_date + pd.Timedelta(days=1)\n",
    "\n",
    "    while len(future_dates) < num_days:\n",
    "        if current_date.weekday() < 5 and current_date.date() not in us_holidays:\n",
    "            future_dates.append(current_date)\n",
    "        current_date += pd.Timedelta(days=1)\n",
    "\n",
    "    return future_dates\n",
    "\n",
    "# prediction model\n",
    "def fit_and_forecast(combined_df, forecast_steps=3):\n",
    "    combined_df = combined_df.dropna(subset=['Pct_Change', 'lagged_sentiment'])\n",
    "\n",
    "    endog = combined_df['Pct_Change']\n",
    "    exog = combined_df['lagged_sentiment']\n",
    "\n",
    "    model = SARIMAX(endog, exog=exog, order=(1, 1, 1))\n",
    "    fit = model.fit(disp=False)\n",
    "\n",
    "    future_dates = get_future_dates(combined_df.index[-1], forecast_steps)\n",
    "    future_exog = np.tile(combined_df['lagged_sentiment'].iloc[-1], forecast_steps).reshape(-1, 1)\n",
    "\n",
    "    forecast = fit.get_forecast(steps=forecast_steps, exog=future_exog)\n",
    "    return forecast.predicted_mean, forecast.conf_int(), future_dates\n",
    "\n",
    "def create_plot(combined_df, forecast_mean, forecast_ci, forecast_index):\n",
    "    combined_df = combined_df.copy()\n",
    "    sentiment_std = (combined_df['lagged_sentiment'] - combined_df['lagged_sentiment'].mean()) / combined_df['lagged_sentiment'].std()\n",
    "\n",
    "    fig = go.Figure()\n",
    "\n",
    "    fig.add_trace(go.Scatter(\n",
    "        x=combined_df.index,\n",
    "        y=sentiment_std,\n",
    "        name='Standardized Sentiment',\n",
    "        line=dict(color='blue')\n",
    "    ))\n",
    "\n",
    "    fig.add_trace(go.Scatter(\n",
    "        x=combined_df.index,\n",
    "        y=combined_df['Pct_Change'],\n",
    "        name='Stock % Change',\n",
    "        yaxis='y2',\n",
    "        line=dict(color='green')\n",
    "    ))\n",
    "\n",
    "    fig.add_trace(go.Scatter(\n",
    "        x=forecast_index,\n",
    "        y=forecast_mean,\n",
    "        name='Forecasted % Change',\n",
    "        line=dict(color='red')\n",
    "    ))\n",
    "\n",
    "    fig.add_trace(go.Scatter(\n",
    "        x=np.concatenate([forecast_index, forecast_index[::-1]]),\n",
    "        y=np.concatenate([forecast_ci.iloc[:, 0], forecast_ci.iloc[:, 1][::-1]]),\n",
    "        fill='toself',\n",
    "        fillcolor='rgba(255,0,0,0.2)',\n",
    "        line=dict(color='rgba(255,255,255,0)'),\n",
    "        hoverinfo=\"skip\",\n",
    "        showlegend=False\n",
    "    ))\n",
    "\n",
    "    fig.update_layout(\n",
    "        title='Sentiment vs Stock Change Forecast',\n",
    "        xaxis_title='Date',\n",
    "        yaxis=dict(\n",
    "            title=dict(text='Standardized Sentiment', font=dict(color='blue'))\n",
    "        ),\n",
    "        yaxis2=dict(\n",
    "            title=dict(text='Stock % Change', font=dict(color='green')),\n",
    "            overlaying='y',\n",
    "            side='right'\n",
    "        ),\n",
    "        template='plotly_dark'\n",
    "    )\n",
    "\n",
    "    fig.show()"
   ]
  },
  {
   "cell_type": "markdown",
   "metadata": {},
   "source": [
    "### Plot: Sentiment vs Stock % Change Forecast\n",
    "\n",
    "This chart shows how **news sentiment** about a company relates to its **stock price changes** over time, and how we can use this relationship to make simple predictions.\n",
    "\n",
    "- The **blue line** shows the standardized 7-day average of positive sentiment extracted from financial news headlines. A higher value means news sentiment was more positive.\n",
    "- The **green line** shows the actual daily percentage change in the company’s stock price.\n",
    "- The **red line** shows our simple **forecast** of future stock movement based on past sentiment trends. The shaded red area represents uncertainty around the forecast (a 95% confidence interval).\n",
    "\n",
    "We want to see whether the **emotions in the news** (blue) can help us **predict price changes** (green and red). If they move together, it suggests that public mood might influence investor behavior.\n",
    "\n",
    "> This plot helps us visualize correlations and test basic forecasting using real-world data like stock prices and media sentiment.\n"
   ]
  },
  {
   "cell_type": "code",
   "execution_count": 15,
   "metadata": {},
   "outputs": [
    {
     "name": "stderr",
     "output_type": "stream",
     "text": [
      "/opt/anaconda3/envs/krishaant_r/lib/python3.13/site-packages/statsmodels/tsa/base/tsa_model.py:473: ValueWarning: No frequency information was provided, so inferred frequency D will be used.\n",
      "  self._init_dates(dates, freq)\n",
      "/opt/anaconda3/envs/krishaant_r/lib/python3.13/site-packages/statsmodels/tsa/base/tsa_model.py:473: ValueWarning: No frequency information was provided, so inferred frequency D will be used.\n",
      "  self._init_dates(dates, freq)\n",
      "/opt/anaconda3/envs/krishaant_r/lib/python3.13/site-packages/statsmodels/tsa/statespace/sarimax.py:866: UserWarning: Too few observations to estimate starting parameters for ARMA and trend. All parameters except for variances will be set to zeros.\n",
      "  warn('Too few observations to estimate starting parameters%s.'\n",
      "/opt/anaconda3/envs/krishaant_r/lib/python3.13/site-packages/statsmodels/base/model.py:607: ConvergenceWarning: Maximum Likelihood optimization failed to converge. Check mle_retvals\n",
      "  warnings.warn(\"Maximum Likelihood optimization failed to \"\n"
     ]
    },
    {
     "data": {
      "application/vnd.plotly.v1+json": {
       "config": {
        "plotlyServerURL": "https://plot.ly"
       },
       "data": [
        {
         "line": {
          "color": "blue"
         },
         "name": "Standardized Sentiment",
         "type": "scatter",
         "x": [
          "2025-07-29T00:00:00.000000000",
          "2025-07-30T00:00:00.000000000",
          "2025-07-31T00:00:00.000000000",
          "2025-08-01T00:00:00.000000000"
         ],
         "y": {
          "bdata": "AAAAAAAA+H+EF0sD1ojgv75rXPCkWeS/psHTeT1x8j8=",
          "dtype": "f8"
         }
        },
        {
         "line": {
          "color": "green"
         },
         "name": "Stock % Change",
         "type": "scatter",
         "x": [
          "2025-07-29T00:00:00.000000000",
          "2025-07-30T00:00:00.000000000",
          "2025-07-31T00:00:00.000000000",
          "2025-08-01T00:00:00.000000000"
         ],
         "y": {
          "bdata": "DCjmjV1B6L+eg7RyzonLv7ItXgBADA/AZhis5xejBMA=",
          "dtype": "f8"
         },
         "yaxis": "y2"
        },
        {
         "line": {
          "color": "red"
         },
         "name": "Forecasted % Change",
         "type": "scatter",
         "x": [
          "2025-08-04T00:00:00",
          "2025-08-05T00:00:00",
          "2025-08-06T00:00:00"
         ],
         "y": {
          "bdata": "3F0L0Em9F8CKSKQYc5QiwLSV8IswSinA",
          "dtype": "f8"
         }
        },
        {
         "fill": "toself",
         "fillcolor": "rgba(255,0,0,0.2)",
         "hoverinfo": "skip",
         "line": {
          "color": "rgba(255,255,255,0)"
         },
         "showlegend": false,
         "type": "scatter",
         "x": [
          "2025-08-04T00:00:00",
          "2025-08-05T00:00:00",
          "2025-08-06T00:00:00",
          "2025-08-06T00:00:00",
          "2025-08-05T00:00:00",
          "2025-08-04T00:00:00"
         ],
         "y": {
          "bdata": "QyXrorzWF8ASViPAbrgiwN3ajjZ4iynAi1BS4egIKcACOyVxd3AiwHWWK/3WoxfA",
          "dtype": "f8"
         }
        }
       ],
       "layout": {
        "template": {
         "data": {
          "bar": [
           {
            "error_x": {
             "color": "#f2f5fa"
            },
            "error_y": {
             "color": "#f2f5fa"
            },
            "marker": {
             "line": {
              "color": "rgb(17,17,17)",
              "width": 0.5
             },
             "pattern": {
              "fillmode": "overlay",
              "size": 10,
              "solidity": 0.2
             }
            },
            "type": "bar"
           }
          ],
          "barpolar": [
           {
            "marker": {
             "line": {
              "color": "rgb(17,17,17)",
              "width": 0.5
             },
             "pattern": {
              "fillmode": "overlay",
              "size": 10,
              "solidity": 0.2
             }
            },
            "type": "barpolar"
           }
          ],
          "carpet": [
           {
            "aaxis": {
             "endlinecolor": "#A2B1C6",
             "gridcolor": "#506784",
             "linecolor": "#506784",
             "minorgridcolor": "#506784",
             "startlinecolor": "#A2B1C6"
            },
            "baxis": {
             "endlinecolor": "#A2B1C6",
             "gridcolor": "#506784",
             "linecolor": "#506784",
             "minorgridcolor": "#506784",
             "startlinecolor": "#A2B1C6"
            },
            "type": "carpet"
           }
          ],
          "choropleth": [
           {
            "colorbar": {
             "outlinewidth": 0,
             "ticks": ""
            },
            "type": "choropleth"
           }
          ],
          "contour": [
           {
            "colorbar": {
             "outlinewidth": 0,
             "ticks": ""
            },
            "colorscale": [
             [
              0,
              "#0d0887"
             ],
             [
              0.1111111111111111,
              "#46039f"
             ],
             [
              0.2222222222222222,
              "#7201a8"
             ],
             [
              0.3333333333333333,
              "#9c179e"
             ],
             [
              0.4444444444444444,
              "#bd3786"
             ],
             [
              0.5555555555555556,
              "#d8576b"
             ],
             [
              0.6666666666666666,
              "#ed7953"
             ],
             [
              0.7777777777777778,
              "#fb9f3a"
             ],
             [
              0.8888888888888888,
              "#fdca26"
             ],
             [
              1,
              "#f0f921"
             ]
            ],
            "type": "contour"
           }
          ],
          "contourcarpet": [
           {
            "colorbar": {
             "outlinewidth": 0,
             "ticks": ""
            },
            "type": "contourcarpet"
           }
          ],
          "heatmap": [
           {
            "colorbar": {
             "outlinewidth": 0,
             "ticks": ""
            },
            "colorscale": [
             [
              0,
              "#0d0887"
             ],
             [
              0.1111111111111111,
              "#46039f"
             ],
             [
              0.2222222222222222,
              "#7201a8"
             ],
             [
              0.3333333333333333,
              "#9c179e"
             ],
             [
              0.4444444444444444,
              "#bd3786"
             ],
             [
              0.5555555555555556,
              "#d8576b"
             ],
             [
              0.6666666666666666,
              "#ed7953"
             ],
             [
              0.7777777777777778,
              "#fb9f3a"
             ],
             [
              0.8888888888888888,
              "#fdca26"
             ],
             [
              1,
              "#f0f921"
             ]
            ],
            "type": "heatmap"
           }
          ],
          "histogram": [
           {
            "marker": {
             "pattern": {
              "fillmode": "overlay",
              "size": 10,
              "solidity": 0.2
             }
            },
            "type": "histogram"
           }
          ],
          "histogram2d": [
           {
            "colorbar": {
             "outlinewidth": 0,
             "ticks": ""
            },
            "colorscale": [
             [
              0,
              "#0d0887"
             ],
             [
              0.1111111111111111,
              "#46039f"
             ],
             [
              0.2222222222222222,
              "#7201a8"
             ],
             [
              0.3333333333333333,
              "#9c179e"
             ],
             [
              0.4444444444444444,
              "#bd3786"
             ],
             [
              0.5555555555555556,
              "#d8576b"
             ],
             [
              0.6666666666666666,
              "#ed7953"
             ],
             [
              0.7777777777777778,
              "#fb9f3a"
             ],
             [
              0.8888888888888888,
              "#fdca26"
             ],
             [
              1,
              "#f0f921"
             ]
            ],
            "type": "histogram2d"
           }
          ],
          "histogram2dcontour": [
           {
            "colorbar": {
             "outlinewidth": 0,
             "ticks": ""
            },
            "colorscale": [
             [
              0,
              "#0d0887"
             ],
             [
              0.1111111111111111,
              "#46039f"
             ],
             [
              0.2222222222222222,
              "#7201a8"
             ],
             [
              0.3333333333333333,
              "#9c179e"
             ],
             [
              0.4444444444444444,
              "#bd3786"
             ],
             [
              0.5555555555555556,
              "#d8576b"
             ],
             [
              0.6666666666666666,
              "#ed7953"
             ],
             [
              0.7777777777777778,
              "#fb9f3a"
             ],
             [
              0.8888888888888888,
              "#fdca26"
             ],
             [
              1,
              "#f0f921"
             ]
            ],
            "type": "histogram2dcontour"
           }
          ],
          "mesh3d": [
           {
            "colorbar": {
             "outlinewidth": 0,
             "ticks": ""
            },
            "type": "mesh3d"
           }
          ],
          "parcoords": [
           {
            "line": {
             "colorbar": {
              "outlinewidth": 0,
              "ticks": ""
             }
            },
            "type": "parcoords"
           }
          ],
          "pie": [
           {
            "automargin": true,
            "type": "pie"
           }
          ],
          "scatter": [
           {
            "marker": {
             "line": {
              "color": "#283442"
             }
            },
            "type": "scatter"
           }
          ],
          "scatter3d": [
           {
            "line": {
             "colorbar": {
              "outlinewidth": 0,
              "ticks": ""
             }
            },
            "marker": {
             "colorbar": {
              "outlinewidth": 0,
              "ticks": ""
             }
            },
            "type": "scatter3d"
           }
          ],
          "scattercarpet": [
           {
            "marker": {
             "colorbar": {
              "outlinewidth": 0,
              "ticks": ""
             }
            },
            "type": "scattercarpet"
           }
          ],
          "scattergeo": [
           {
            "marker": {
             "colorbar": {
              "outlinewidth": 0,
              "ticks": ""
             }
            },
            "type": "scattergeo"
           }
          ],
          "scattergl": [
           {
            "marker": {
             "line": {
              "color": "#283442"
             }
            },
            "type": "scattergl"
           }
          ],
          "scattermap": [
           {
            "marker": {
             "colorbar": {
              "outlinewidth": 0,
              "ticks": ""
             }
            },
            "type": "scattermap"
           }
          ],
          "scattermapbox": [
           {
            "marker": {
             "colorbar": {
              "outlinewidth": 0,
              "ticks": ""
             }
            },
            "type": "scattermapbox"
           }
          ],
          "scatterpolar": [
           {
            "marker": {
             "colorbar": {
              "outlinewidth": 0,
              "ticks": ""
             }
            },
            "type": "scatterpolar"
           }
          ],
          "scatterpolargl": [
           {
            "marker": {
             "colorbar": {
              "outlinewidth": 0,
              "ticks": ""
             }
            },
            "type": "scatterpolargl"
           }
          ],
          "scatterternary": [
           {
            "marker": {
             "colorbar": {
              "outlinewidth": 0,
              "ticks": ""
             }
            },
            "type": "scatterternary"
           }
          ],
          "surface": [
           {
            "colorbar": {
             "outlinewidth": 0,
             "ticks": ""
            },
            "colorscale": [
             [
              0,
              "#0d0887"
             ],
             [
              0.1111111111111111,
              "#46039f"
             ],
             [
              0.2222222222222222,
              "#7201a8"
             ],
             [
              0.3333333333333333,
              "#9c179e"
             ],
             [
              0.4444444444444444,
              "#bd3786"
             ],
             [
              0.5555555555555556,
              "#d8576b"
             ],
             [
              0.6666666666666666,
              "#ed7953"
             ],
             [
              0.7777777777777778,
              "#fb9f3a"
             ],
             [
              0.8888888888888888,
              "#fdca26"
             ],
             [
              1,
              "#f0f921"
             ]
            ],
            "type": "surface"
           }
          ],
          "table": [
           {
            "cells": {
             "fill": {
              "color": "#506784"
             },
             "line": {
              "color": "rgb(17,17,17)"
             }
            },
            "header": {
             "fill": {
              "color": "#2a3f5f"
             },
             "line": {
              "color": "rgb(17,17,17)"
             }
            },
            "type": "table"
           }
          ]
         },
         "layout": {
          "annotationdefaults": {
           "arrowcolor": "#f2f5fa",
           "arrowhead": 0,
           "arrowwidth": 1
          },
          "autotypenumbers": "strict",
          "coloraxis": {
           "colorbar": {
            "outlinewidth": 0,
            "ticks": ""
           }
          },
          "colorscale": {
           "diverging": [
            [
             0,
             "#8e0152"
            ],
            [
             0.1,
             "#c51b7d"
            ],
            [
             0.2,
             "#de77ae"
            ],
            [
             0.3,
             "#f1b6da"
            ],
            [
             0.4,
             "#fde0ef"
            ],
            [
             0.5,
             "#f7f7f7"
            ],
            [
             0.6,
             "#e6f5d0"
            ],
            [
             0.7,
             "#b8e186"
            ],
            [
             0.8,
             "#7fbc41"
            ],
            [
             0.9,
             "#4d9221"
            ],
            [
             1,
             "#276419"
            ]
           ],
           "sequential": [
            [
             0,
             "#0d0887"
            ],
            [
             0.1111111111111111,
             "#46039f"
            ],
            [
             0.2222222222222222,
             "#7201a8"
            ],
            [
             0.3333333333333333,
             "#9c179e"
            ],
            [
             0.4444444444444444,
             "#bd3786"
            ],
            [
             0.5555555555555556,
             "#d8576b"
            ],
            [
             0.6666666666666666,
             "#ed7953"
            ],
            [
             0.7777777777777778,
             "#fb9f3a"
            ],
            [
             0.8888888888888888,
             "#fdca26"
            ],
            [
             1,
             "#f0f921"
            ]
           ],
           "sequentialminus": [
            [
             0,
             "#0d0887"
            ],
            [
             0.1111111111111111,
             "#46039f"
            ],
            [
             0.2222222222222222,
             "#7201a8"
            ],
            [
             0.3333333333333333,
             "#9c179e"
            ],
            [
             0.4444444444444444,
             "#bd3786"
            ],
            [
             0.5555555555555556,
             "#d8576b"
            ],
            [
             0.6666666666666666,
             "#ed7953"
            ],
            [
             0.7777777777777778,
             "#fb9f3a"
            ],
            [
             0.8888888888888888,
             "#fdca26"
            ],
            [
             1,
             "#f0f921"
            ]
           ]
          },
          "colorway": [
           "#636efa",
           "#EF553B",
           "#00cc96",
           "#ab63fa",
           "#FFA15A",
           "#19d3f3",
           "#FF6692",
           "#B6E880",
           "#FF97FF",
           "#FECB52"
          ],
          "font": {
           "color": "#f2f5fa"
          },
          "geo": {
           "bgcolor": "rgb(17,17,17)",
           "lakecolor": "rgb(17,17,17)",
           "landcolor": "rgb(17,17,17)",
           "showlakes": true,
           "showland": true,
           "subunitcolor": "#506784"
          },
          "hoverlabel": {
           "align": "left"
          },
          "hovermode": "closest",
          "mapbox": {
           "style": "dark"
          },
          "paper_bgcolor": "rgb(17,17,17)",
          "plot_bgcolor": "rgb(17,17,17)",
          "polar": {
           "angularaxis": {
            "gridcolor": "#506784",
            "linecolor": "#506784",
            "ticks": ""
           },
           "bgcolor": "rgb(17,17,17)",
           "radialaxis": {
            "gridcolor": "#506784",
            "linecolor": "#506784",
            "ticks": ""
           }
          },
          "scene": {
           "xaxis": {
            "backgroundcolor": "rgb(17,17,17)",
            "gridcolor": "#506784",
            "gridwidth": 2,
            "linecolor": "#506784",
            "showbackground": true,
            "ticks": "",
            "zerolinecolor": "#C8D4E3"
           },
           "yaxis": {
            "backgroundcolor": "rgb(17,17,17)",
            "gridcolor": "#506784",
            "gridwidth": 2,
            "linecolor": "#506784",
            "showbackground": true,
            "ticks": "",
            "zerolinecolor": "#C8D4E3"
           },
           "zaxis": {
            "backgroundcolor": "rgb(17,17,17)",
            "gridcolor": "#506784",
            "gridwidth": 2,
            "linecolor": "#506784",
            "showbackground": true,
            "ticks": "",
            "zerolinecolor": "#C8D4E3"
           }
          },
          "shapedefaults": {
           "line": {
            "color": "#f2f5fa"
           }
          },
          "sliderdefaults": {
           "bgcolor": "#C8D4E3",
           "bordercolor": "rgb(17,17,17)",
           "borderwidth": 1,
           "tickwidth": 0
          },
          "ternary": {
           "aaxis": {
            "gridcolor": "#506784",
            "linecolor": "#506784",
            "ticks": ""
           },
           "baxis": {
            "gridcolor": "#506784",
            "linecolor": "#506784",
            "ticks": ""
           },
           "bgcolor": "rgb(17,17,17)",
           "caxis": {
            "gridcolor": "#506784",
            "linecolor": "#506784",
            "ticks": ""
           }
          },
          "title": {
           "x": 0.05
          },
          "updatemenudefaults": {
           "bgcolor": "#506784",
           "borderwidth": 0
          },
          "xaxis": {
           "automargin": true,
           "gridcolor": "#283442",
           "linecolor": "#506784",
           "ticks": "",
           "title": {
            "standoff": 15
           },
           "zerolinecolor": "#283442",
           "zerolinewidth": 2
          },
          "yaxis": {
           "automargin": true,
           "gridcolor": "#283442",
           "linecolor": "#506784",
           "ticks": "",
           "title": {
            "standoff": 15
           },
           "zerolinecolor": "#283442",
           "zerolinewidth": 2
          }
         }
        },
        "title": {
         "text": "Sentiment vs Stock Change Forecast"
        },
        "xaxis": {
         "title": {
          "text": "Date"
         }
        },
        "yaxis": {
         "title": {
          "font": {
           "color": "blue"
          },
          "text": "Standardized Sentiment"
         }
        },
        "yaxis2": {
         "overlaying": "y",
         "side": "right",
         "title": {
          "font": {
           "color": "green"
          },
          "text": "Stock % Change"
         }
        }
       }
      }
     },
     "metadata": {},
     "output_type": "display_data"
    }
   ],
   "source": [
    "combined_df['DateOnly'] = pd.to_datetime(combined_df['DateOnly'])  # convert to datetime\n",
    "combined_df.set_index('DateOnly', inplace=True)  # use as index\n",
    "combined_df.sort_index(inplace=True)  # ensure time order\n",
    "\n",
    "forecast_mean, forecast_ci, forecast_index = fit_and_forecast(combined_df)\n",
    "create_plot(combined_df, forecast_mean, forecast_ci, forecast_index)"
   ]
  },
  {
   "cell_type": "markdown",
   "metadata": {},
   "source": [
    ">  **Disclaimer**: This is a simplified model. In reality, stock prices are influenced by many factors, such as interest rates, earnings reports, geopolitical events, and investor speculation. This chart only considers **one variable**: news sentiment. It should not be used for actual trading decisions.\n",
    "\n",
    "### 💡 Engage Critically: More than just news headlines !\n",
    "\n",
    "> Our stock prediction models uses **price history** and **news sentiment** to predict future stock price. But financial markets are influenced by far more than just news and past prices! \n",
    ">\n",
    "> Real-world stock movements are affected by things like **interest rates**, **inflation**, **company earnings**, **supply chain shocks**, **global events**, and even investor “herding” behavior. Market “sentiment” captured from news can miss the underlying economic drivers or be distorted by hype, bots, or selective reporting. Sometimes, big price changes happen for reasons that never make the headlines!\n",
    ">\n",
    ">> ❓ **Consider:** If you were building your own predictive model, what other data sources might you want to include to get a fuller picture of what moves stock prices?\n",
    ">\n",
    ">> ❓ **Ask yourself:** How would you weigh economic indicators (like unemployment or inflation), company fundamentals (like revenue or debt), or alternative signals (like Google search trends, options market activity, or even weather)?\n",
    ">\n",
    "\n",
    "# How do AIs feel about AI?\n",
    "\n",
    "In this section of the notebook, we explore how our **AI Sentiment Analysis model** feels about **AI-related stocks**. Thats a mouthful ! \n",
    "\n",
    "The goal is to see if public sentiment (as captured by the headlines) is generally optimistic or pessimistic toward leading AI companies — as interpreted by another AI (we are using BERT here !).\n",
    "\n",
    "We'll start by selecting the [top 10 AI stocks in 2025](https://www.forbes.com/advisor/investing/best-ai-stocks/) as suggested by financial news magazine, Forbes\n",
    "- `ACN` (Accenture)\n",
    "- `ADBE` (Adobe)\n",
    "- `AMD` (Advanced Micro Devices)\n",
    "- `APP` (Applovin)\n",
    "- `AVGO` (Broadcom)\n",
    "- `CRM` (Salesforce)\n",
    "- `MRVL` (Marvell Technology)\n",
    "- `MU` (Micron Technology)\n",
    "- `NVDA` (NVIDIA)\n",
    "- `QCOM` (Qualcomm)\n",
    "\n",
    "For each company, we'll:\n",
    "2. Classify the sentiment using our `RoBERTa`-based model\n",
    "1. Pull recent news headlines\n",
    "3. Analyze the **7-day rolling trends** in public sentiment\n",
    "4. Compare results across companies\n",
    "\n",
    "Let’s find out if the machines love themselves ?\n"
   ]
  },
  {
   "cell_type": "code",
   "execution_count": 16,
   "metadata": {},
   "outputs": [],
   "source": [
    "# This code collects recent news headlines for each company in our AI stock list. It uses our  `get_news_data()` which we defined above. \n",
    "\n",
    "ai_tickers = [\"ACN\", \"ADBE\", \"AMD\", \"APP\", \"AVGO\", \"CRM\", \"MRVL\", \"MU\", \"NVDA\", \"QCOM\"] # Top 10 AI stocks \n",
    "\n",
    "all_news = []\n",
    "\n",
    "def fetch_all_news(ticker_list):\n",
    "    all_news = []\n",
    "    for ticker in ticker_list:\n",
    "        try:\n",
    "            news = get_news_data(ticker)\n",
    "            all_news.append(news)\n",
    "        except Exception as e:\n",
    "            print(f\"Failed to get news for {ticker}: {e}\")\n",
    "    if all_news:\n",
    "        return pd.concat(all_news, ignore_index=True)\n",
    "    else:\n",
    "        return pd.DataFrame()\n",
    "\n",
    "# For the sake of reproducability (so we always get the same results), we will use a a dataset that was scrapped using the same method at an earlier time (July - 2025)\n",
    "\n",
    "# Uncomment the line below get a more recent snapshot of the data !\n",
    "\n",
    "# Usage :\n",
    "# AI_combined_news_df = fetch_all_news(ai_tickers)\n",
    "# AI_combined_news_df = pd.concat(all_news, ignore_index=True)\n",
    "# AI_combined_news_df.to_csv(\"data/AI_news_snapshot.csv\", index=False)\n",
    "# AI_sentiment_news_df = apply_sentiment(AI_combined_news_df)         \n",
    "# AI_sentiment_news_df.to_csv(\"data/AI_news_sentiment.csv\", index=False)\n"
   ]
  },
  {
   "cell_type": "code",
   "execution_count": 17,
   "metadata": {},
   "outputs": [
    {
     "data": {
      "text/html": [
       "<div>\n",
       "<style scoped>\n",
       "    .dataframe tbody tr th:only-of-type {\n",
       "        vertical-align: middle;\n",
       "    }\n",
       "\n",
       "    .dataframe tbody tr th {\n",
       "        vertical-align: top;\n",
       "    }\n",
       "\n",
       "    .dataframe thead th {\n",
       "        text-align: right;\n",
       "    }\n",
       "</style>\n",
       "<table border=\"1\" class=\"dataframe\">\n",
       "  <thead>\n",
       "    <tr style=\"text-align: right;\">\n",
       "      <th></th>\n",
       "      <th>Title</th>\n",
       "      <th>Link</th>\n",
       "      <th>Source</th>\n",
       "      <th>DateOnly</th>\n",
       "      <th>Ticker</th>\n",
       "      <th>Sentiment</th>\n",
       "    </tr>\n",
       "  </thead>\n",
       "  <tbody>\n",
       "    <tr>\n",
       "      <th>0</th>\n",
       "      <td>lpl financial welcomes chief people officer em...</td>\n",
       "      <td>https://finance.yahoo.com/news/lpl-financial-w...</td>\n",
       "      <td>GlobeNewswire</td>\n",
       "      <td>2025-08-04</td>\n",
       "      <td>ACN</td>\n",
       "      <td>POSITIVE</td>\n",
       "    </tr>\n",
       "    <tr>\n",
       "      <th>1</th>\n",
       "      <td>from law firm to ai powerhouse: how accentures...</td>\n",
       "      <td>https://finance.yahoo.com/news/law-firm-ai-pow...</td>\n",
       "      <td>Fortune</td>\n",
       "      <td>2025-08-04</td>\n",
       "      <td>ACN</td>\n",
       "      <td>NEUTRAL</td>\n",
       "    </tr>\n",
       "    <tr>\n",
       "      <th>2</th>\n",
       "      <td>accenture (acn) registers a bigger fall than t...</td>\n",
       "      <td>/news/125294/accenture-acn-registers-a-bigger-...</td>\n",
       "      <td>Zacks</td>\n",
       "      <td>2025-08-01</td>\n",
       "      <td>ACN</td>\n",
       "      <td>NEUTRAL</td>\n",
       "    </tr>\n",
       "    <tr>\n",
       "      <th>3</th>\n",
       "      <td>asana to announce second quarter fiscal year 2...</td>\n",
       "      <td>https://finance.yahoo.com/news/asana-announce-...</td>\n",
       "      <td>Business Wire</td>\n",
       "      <td>2025-08-01</td>\n",
       "      <td>ACN</td>\n",
       "      <td>NEUTRAL</td>\n",
       "    </tr>\n",
       "    <tr>\n",
       "      <th>4</th>\n",
       "      <td>accenture plc (acn) boosts ai arsenal with mar...</td>\n",
       "      <td>/news/124833/accenture-plc-acn-boosts-ai-arsen...</td>\n",
       "      <td>Insider Monkey</td>\n",
       "      <td>2025-08-01</td>\n",
       "      <td>ACN</td>\n",
       "      <td>NEUTRAL</td>\n",
       "    </tr>\n",
       "  </tbody>\n",
       "</table>\n",
       "</div>"
      ],
      "text/plain": [
       "                                               Title  \\\n",
       "0  lpl financial welcomes chief people officer em...   \n",
       "1  from law firm to ai powerhouse: how accentures...   \n",
       "2  accenture (acn) registers a bigger fall than t...   \n",
       "3  asana to announce second quarter fiscal year 2...   \n",
       "4  accenture plc (acn) boosts ai arsenal with mar...   \n",
       "\n",
       "                                                Link          Source  \\\n",
       "0  https://finance.yahoo.com/news/lpl-financial-w...   GlobeNewswire   \n",
       "1  https://finance.yahoo.com/news/law-firm-ai-pow...         Fortune   \n",
       "2  /news/125294/accenture-acn-registers-a-bigger-...           Zacks   \n",
       "3  https://finance.yahoo.com/news/asana-announce-...   Business Wire   \n",
       "4  /news/124833/accenture-plc-acn-boosts-ai-arsen...  Insider Monkey   \n",
       "\n",
       "     DateOnly Ticker Sentiment  \n",
       "0  2025-08-04    ACN  POSITIVE  \n",
       "1  2025-08-04    ACN   NEUTRAL  \n",
       "2  2025-08-01    ACN   NEUTRAL  \n",
       "3  2025-08-01    ACN   NEUTRAL  \n",
       "4  2025-08-01    ACN   NEUTRAL  "
      ]
     },
     "execution_count": 17,
     "metadata": {},
     "output_type": "execute_result"
    }
   ],
   "source": [
    "AI_sentiment_news_df = pd.read_csv(\"data/AI_news_sentiment.csv\")\n",
    "AI_sentiment_news_df.head()"
   ]
  },
  {
   "cell_type": "markdown",
   "metadata": {},
   "source": [
    "This`AI_process_sentiment` does for a bunch of companies what we did for SBUX. It automatically collecting all their news headlines and putting them into one place for analysis. "
   ]
  },
  {
   "cell_type": "code",
   "execution_count": 18,
   "metadata": {},
   "outputs": [
    {
     "data": {
      "text/html": [
       "<div>\n",
       "<style scoped>\n",
       "    .dataframe tbody tr th:only-of-type {\n",
       "        vertical-align: middle;\n",
       "    }\n",
       "\n",
       "    .dataframe tbody tr th {\n",
       "        vertical-align: top;\n",
       "    }\n",
       "\n",
       "    .dataframe thead th {\n",
       "        text-align: right;\n",
       "    }\n",
       "</style>\n",
       "<table border=\"1\" class=\"dataframe\">\n",
       "  <thead>\n",
       "    <tr style=\"text-align: right;\">\n",
       "      <th>Sentiment</th>\n",
       "      <th>DateOnly</th>\n",
       "      <th>Ticker</th>\n",
       "      <th>7day_pct_positive</th>\n",
       "    </tr>\n",
       "  </thead>\n",
       "  <tbody>\n",
       "    <tr>\n",
       "      <th>0</th>\n",
       "      <td>2025-06-24</td>\n",
       "      <td>ACN</td>\n",
       "      <td>1.000000</td>\n",
       "    </tr>\n",
       "    <tr>\n",
       "      <th>5</th>\n",
       "      <td>2025-06-27</td>\n",
       "      <td>ACN</td>\n",
       "      <td>1.000000</td>\n",
       "    </tr>\n",
       "    <tr>\n",
       "      <th>9</th>\n",
       "      <td>2025-06-29</td>\n",
       "      <td>ACN</td>\n",
       "      <td>1.000000</td>\n",
       "    </tr>\n",
       "    <tr>\n",
       "      <th>10</th>\n",
       "      <td>2025-06-30</td>\n",
       "      <td>ACN</td>\n",
       "      <td>0.800000</td>\n",
       "    </tr>\n",
       "    <tr>\n",
       "      <th>13</th>\n",
       "      <td>2025-07-01</td>\n",
       "      <td>ACN</td>\n",
       "      <td>0.666667</td>\n",
       "    </tr>\n",
       "  </tbody>\n",
       "</table>\n",
       "</div>"
      ],
      "text/plain": [
       "Sentiment    DateOnly Ticker  7day_pct_positive\n",
       "0          2025-06-24    ACN           1.000000\n",
       "5          2025-06-27    ACN           1.000000\n",
       "9          2025-06-29    ACN           1.000000\n",
       "10         2025-06-30    ACN           0.800000\n",
       "13         2025-07-01    ACN           0.666667"
      ]
     },
     "execution_count": 18,
     "metadata": {},
     "output_type": "execute_result"
    }
   ],
   "source": [
    "def AI_process_sentiment(news_df):\n",
    "    filtered = news_df[news_df[\"Sentiment\"].isin([\"POSITIVE\", \"NEGATIVE\"])].copy()\n",
    "\n",
    "    # Group by DateOnly, Ticker, Sentiment → count headlines\n",
    "    grouped = (\n",
    "        filtered\n",
    "        .groupby([\"DateOnly\", \"Ticker\", \"Sentiment\"])\n",
    "        .size()\n",
    "        .unstack(fill_value=0)\n",
    "        .reset_index()\n",
    "    )\n",
    "\n",
    "    # Ensure both sentiment columns exist\n",
    "    if \"POSITIVE\" not in grouped.columns:\n",
    "        grouped[\"POSITIVE\"] = 0\n",
    "    if \"NEGATIVE\" not in grouped.columns:\n",
    "        grouped[\"NEGATIVE\"] = 0\n",
    "\n",
    "    # Sort for rolling computation\n",
    "    grouped = grouped.sort_values([\"Ticker\", \"DateOnly\"])\n",
    "\n",
    "    # 7-day rolling sums by ticker\n",
    "    grouped[\"7day_avg_positive\"] = (\n",
    "        grouped.groupby(\"Ticker\")[\"POSITIVE\"]\n",
    "        .transform(lambda x: x.rolling(window=7, min_periods=1).sum())\n",
    "    )\n",
    "    grouped[\"7day_avg_negative\"] = (\n",
    "        grouped.groupby(\"Ticker\")[\"NEGATIVE\"]\n",
    "        .transform(lambda x: x.rolling(window=7, min_periods=1).sum())\n",
    "    )\n",
    "\n",
    "    # Compute % positive\n",
    "    grouped[\"7day_pct_positive\"] = grouped[\"7day_avg_positive\"] / (\n",
    "        grouped[\"7day_avg_positive\"] + grouped[\"7day_avg_negative\"]\n",
    "    )\n",
    "\n",
    "    return grouped[[\"DateOnly\", \"Ticker\", \"7day_pct_positive\"]]\n",
    "\n",
    "\n",
    "AI_sentiment_df = AI_process_sentiment(AI_sentiment_news_df)\n",
    "AI_sentiment_df.head()"
   ]
  },
  {
   "cell_type": "markdown",
   "metadata": {},
   "source": [
    "### Like we did with the `SBUX` stock above lets get stock prices for all of our AI stokcs now.  "
   ]
  },
  {
   "cell_type": "code",
   "execution_count": 20,
   "metadata": {},
   "outputs": [
    {
     "data": {
      "text/html": [
       "<div>\n",
       "<style scoped>\n",
       "    .dataframe tbody tr th:only-of-type {\n",
       "        vertical-align: middle;\n",
       "    }\n",
       "\n",
       "    .dataframe tbody tr th {\n",
       "        vertical-align: top;\n",
       "    }\n",
       "\n",
       "    .dataframe thead th {\n",
       "        text-align: right;\n",
       "    }\n",
       "</style>\n",
       "<table border=\"1\" class=\"dataframe\">\n",
       "  <thead>\n",
       "    <tr style=\"text-align: right;\">\n",
       "      <th></th>\n",
       "      <th>DateOnly</th>\n",
       "      <th>Pct_Change</th>\n",
       "      <th>Ticker</th>\n",
       "    </tr>\n",
       "  </thead>\n",
       "  <tbody>\n",
       "    <tr>\n",
       "      <th>0</th>\n",
       "      <td>2025-06-20</td>\n",
       "      <td>NaN</td>\n",
       "      <td>AVGO</td>\n",
       "    </tr>\n",
       "    <tr>\n",
       "      <th>1</th>\n",
       "      <td>2025-06-23</td>\n",
       "      <td>1.512060</td>\n",
       "      <td>AVGO</td>\n",
       "    </tr>\n",
       "    <tr>\n",
       "      <th>2</th>\n",
       "      <td>2025-06-24</td>\n",
       "      <td>3.940570</td>\n",
       "      <td>AVGO</td>\n",
       "    </tr>\n",
       "    <tr>\n",
       "      <th>3</th>\n",
       "      <td>2025-06-25</td>\n",
       "      <td>0.333626</td>\n",
       "      <td>AVGO</td>\n",
       "    </tr>\n",
       "    <tr>\n",
       "      <th>4</th>\n",
       "      <td>2025-06-26</td>\n",
       "      <td>2.085781</td>\n",
       "      <td>AVGO</td>\n",
       "    </tr>\n",
       "  </tbody>\n",
       "</table>\n",
       "</div>"
      ],
      "text/plain": [
       "     DateOnly  Pct_Change Ticker\n",
       "0  2025-06-20         NaN   AVGO\n",
       "1  2025-06-23    1.512060   AVGO\n",
       "2  2025-06-24    3.940570   AVGO\n",
       "3  2025-06-25    0.333626   AVGO\n",
       "4  2025-06-26    2.085781   AVGO"
      ]
     },
     "execution_count": 20,
     "metadata": {},
     "output_type": "execute_result"
    }
   ],
   "source": [
    "# Match date range to your sentiment dataset\n",
    "start_date = pd.to_datetime(AI_sentiment_df[\"DateOnly\"]).min() - pd.Timedelta(days=1)\n",
    "end_date = pd.to_datetime(AI_sentiment_df[\"DateOnly\"]).max()\n",
    "\n",
    "def fetch_and_save_stock_data(ticker_list, start_date, end_date, save_dir=\"data/ai_prices\"):\n",
    "    \"\"\"\n",
    "    Fetches stock price data for each ticker in the list and saves it as a CSV file.\n",
    "    Prints a success or error message for each ticker.\n",
    "    \"\"\"\n",
    "    os.makedirs(save_dir, exist_ok=True)\n",
    "    \n",
    "    for ticker in ticker_list:\n",
    "        try:\n",
    "            stock_df = get_stock_data(ticker, start_date, end_date)\n",
    "            stock_df[\"Ticker\"] = ticker\n",
    "            file_path = f\"{save_dir}/{ticker}_price.csv\"\n",
    "            stock_df.to_csv(file_path, index=False)\n",
    "        except Exception as e:\n",
    "            print(f\"Failed to get stock data for {ticker}: {e}\")\n",
    "\n",
    "\n",
    "# For the sake of reproducability (so we always get the same results), we will use a a dataset that was scrapped using the same method at an earlier time (July - 2025)\n",
    "\n",
    "# Uncomment the line below get a more recent snapshot of the data !\n",
    "\n",
    "# Usage :\n",
    "# fetch_and_save_stock_data(ai_tickers, \"start_date\", \"end_date\")\n",
    "# price_files = glob.glob(\"data/ai_prices/*.csv\")\n",
    "# price_dfs = [pd.read_csv(f) for f in price_files]\n",
    "# AI_combined_price_df = pd.concat(price_dfs, ignore_index=True)\n",
    "# AI_combined_price_df.to_csv(\"data/AI_top10_price_snapshot.csv\", index=False)\n",
    "\n",
    "AI_stock_prices = pd.read_csv(\"data/AI_top10_price_snapshot.csv\")\n",
    "AI_stock_prices.head()"
   ]
  },
  {
   "cell_type": "markdown",
   "metadata": {},
   "source": [
    "As we did before lets merge everything into one dataframe so we can analyse it !"
   ]
  },
  {
   "cell_type": "code",
   "execution_count": 21,
   "metadata": {},
   "outputs": [
    {
     "data": {
      "text/html": [
       "<div>\n",
       "<style scoped>\n",
       "    .dataframe tbody tr th:only-of-type {\n",
       "        vertical-align: middle;\n",
       "    }\n",
       "\n",
       "    .dataframe tbody tr th {\n",
       "        vertical-align: top;\n",
       "    }\n",
       "\n",
       "    .dataframe thead th {\n",
       "        text-align: right;\n",
       "    }\n",
       "</style>\n",
       "<table border=\"1\" class=\"dataframe\">\n",
       "  <thead>\n",
       "    <tr style=\"text-align: right;\">\n",
       "      <th></th>\n",
       "      <th>DateOnly</th>\n",
       "      <th>Pct_Change</th>\n",
       "      <th>Ticker</th>\n",
       "      <th>7day_pct_positive</th>\n",
       "    </tr>\n",
       "  </thead>\n",
       "  <tbody>\n",
       "    <tr>\n",
       "      <th>0</th>\n",
       "      <td>2025-07-24</td>\n",
       "      <td>1.769533</td>\n",
       "      <td>AVGO</td>\n",
       "      <td>1.000000</td>\n",
       "    </tr>\n",
       "    <tr>\n",
       "      <th>1</th>\n",
       "      <td>2025-07-25</td>\n",
       "      <td>0.509162</td>\n",
       "      <td>AVGO</td>\n",
       "      <td>0.750000</td>\n",
       "    </tr>\n",
       "    <tr>\n",
       "      <th>2</th>\n",
       "      <td>2025-07-28</td>\n",
       "      <td>1.419807</td>\n",
       "      <td>AVGO</td>\n",
       "      <td>0.833333</td>\n",
       "    </tr>\n",
       "    <tr>\n",
       "      <th>3</th>\n",
       "      <td>2025-07-29</td>\n",
       "      <td>1.060151</td>\n",
       "      <td>AVGO</td>\n",
       "      <td>0.800000</td>\n",
       "    </tr>\n",
       "    <tr>\n",
       "      <th>4</th>\n",
       "      <td>2025-07-30</td>\n",
       "      <td>1.748363</td>\n",
       "      <td>AVGO</td>\n",
       "      <td>0.842105</td>\n",
       "    </tr>\n",
       "  </tbody>\n",
       "</table>\n",
       "</div>"
      ],
      "text/plain": [
       "    DateOnly  Pct_Change Ticker  7day_pct_positive\n",
       "0 2025-07-24    1.769533   AVGO           1.000000\n",
       "1 2025-07-25    0.509162   AVGO           0.750000\n",
       "2 2025-07-28    1.419807   AVGO           0.833333\n",
       "3 2025-07-29    1.060151   AVGO           0.800000\n",
       "4 2025-07-30    1.748363   AVGO           0.842105"
      ]
     },
     "execution_count": 21,
     "metadata": {},
     "output_type": "execute_result"
    }
   ],
   "source": [
    "# Ensure both DateOnly columns are datetime\n",
    "AI_sentiment_df['DateOnly'] = pd.to_datetime(AI_sentiment_df['DateOnly'])\n",
    "AI_stock_prices['DateOnly'] = pd.to_datetime(AI_stock_prices['DateOnly'])\n",
    "\n",
    "# Merge on DateOnly and Ticker\n",
    "final_df = pd.merge(\n",
    "    AI_stock_prices,\n",
    "    AI_sentiment_df,\n",
    "    on=['DateOnly', 'Ticker'],\n",
    "    how='inner'                  \n",
    ")\n",
    "\n",
    "final_df.head()"
   ]
  },
  {
   "cell_type": "markdown",
   "metadata": {},
   "source": [
    "This function predicts how Starbucks' (SBUX) stock price might change over the next few days by combining past price data and recent news sentiment.  \n",
    "It fits a SARIMAX model, which lets us include both price history and the impact of news sentiment in the prediction.  \n",
    "The function then forecasts SBUX price changes for the coming week, providing both the predicted changes and a confidence interval for each day.  \n",
    "This approach helps us see how positive or negative news might affect SBUX's future stock movements."
   ]
  },
  {
   "cell_type": "code",
   "execution_count": 22,
   "metadata": {},
   "outputs": [],
   "source": [
    "def fit_and_forecast(final_df, forecast_steps=7):\n",
    "    from statsmodels.tsa.statespace.sarimax import SARIMAX\n",
    "    import numpy as np\n",
    "    import pandas as pd\n",
    "\n",
    "    # Drop missing values\n",
    "    final_df = final_df.dropna(subset=['Pct_Change', 'lagged_sentiment'])\n",
    "\n",
    "    # Define endogenous and exogenous variables\n",
    "    endog = final_df['Pct_Change']\n",
    "    exog = final_df['lagged_sentiment']\n",
    "\n",
    "    # Fit SARIMAX\n",
    "    model = SARIMAX(endog, exog=exog, order=(1, 1, 1), enforce_stationarity=False, enforce_invertibility=False)\n",
    "    fit = model.fit(disp=False)\n",
    "\n",
    "    # Future exog (use last known lagged sentiment)\n",
    "    last_sentiment = exog.iloc[-1]\n",
    "    future_exog = np.full(shape=(forecast_steps,), fill_value=last_sentiment)\n",
    "\n",
    "    # Forecast\n",
    "    forecast = fit.get_forecast(steps=forecast_steps, exog=future_exog)\n",
    "    forecast_mean = forecast.predicted_mean\n",
    "    forecast_ci = forecast.conf_int()\n",
    "\n",
    "    # Create future dates\n",
    "    last_date = final_df.index[-1]\n",
    "    forecast_index = pd.date_range(start=last_date + pd.Timedelta(days=1), periods=forecast_steps, freq='B')\n",
    "\n",
    "    return forecast_mean, forecast_ci, forecast_index\n"
   ]
  },
  {
   "cell_type": "code",
   "execution_count": 23,
   "metadata": {},
   "outputs": [
    {
     "name": "stderr",
     "output_type": "stream",
     "text": [
      "/opt/anaconda3/envs/krishaant_r/lib/python3.13/site-packages/statsmodels/tsa/base/tsa_model.py:473: ValueWarning:\n",
      "\n",
      "A date index has been provided, but it has no associated frequency information and so will be ignored when e.g. forecasting.\n",
      "\n",
      "/opt/anaconda3/envs/krishaant_r/lib/python3.13/site-packages/statsmodels/tsa/base/tsa_model.py:473: ValueWarning:\n",
      "\n",
      "A date index has been provided, but it has no associated frequency information and so will be ignored when e.g. forecasting.\n",
      "\n",
      "/opt/anaconda3/envs/krishaant_r/lib/python3.13/site-packages/statsmodels/tsa/base/tsa_model.py:837: ValueWarning:\n",
      "\n",
      "No supported index is available. Prediction results will be given with an integer index beginning at `start`.\n",
      "\n",
      "/opt/anaconda3/envs/krishaant_r/lib/python3.13/site-packages/statsmodels/tsa/base/tsa_model.py:837: FutureWarning:\n",
      "\n",
      "No supported index is available. In the next version, calling this method in a model without a supported index will result in an exception.\n",
      "\n"
     ]
    },
    {
     "data": {
      "application/vnd.plotly.v1+json": {
       "config": {
        "plotlyServerURL": "https://plot.ly"
       },
       "data": [
        {
         "line": {
          "color": "blue"
         },
         "name": "Standardized Sentiment",
         "type": "scatter",
         "x": [
          "2025-06-24T00:00:00.000000000",
          "2025-06-24T00:00:00.000000000",
          "2025-06-26T00:00:00.000000000",
          "2025-06-26T00:00:00.000000000",
          "2025-06-27T00:00:00.000000000",
          "2025-06-27T00:00:00.000000000",
          "2025-06-27T00:00:00.000000000",
          "2025-06-30T00:00:00.000000000",
          "2025-06-30T00:00:00.000000000",
          "2025-06-30T00:00:00.000000000",
          "2025-07-01T00:00:00.000000000",
          "2025-07-02T00:00:00.000000000",
          "2025-07-02T00:00:00.000000000",
          "2025-07-03T00:00:00.000000000",
          "2025-07-03T00:00:00.000000000",
          "2025-07-07T00:00:00.000000000",
          "2025-07-07T00:00:00.000000000",
          "2025-07-08T00:00:00.000000000",
          "2025-07-08T00:00:00.000000000",
          "2025-07-09T00:00:00.000000000",
          "2025-07-09T00:00:00.000000000",
          "2025-07-09T00:00:00.000000000",
          "2025-07-10T00:00:00.000000000",
          "2025-07-10T00:00:00.000000000",
          "2025-07-10T00:00:00.000000000",
          "2025-07-11T00:00:00.000000000",
          "2025-07-11T00:00:00.000000000",
          "2025-07-11T00:00:00.000000000",
          "2025-07-11T00:00:00.000000000",
          "2025-07-14T00:00:00.000000000",
          "2025-07-14T00:00:00.000000000",
          "2025-07-15T00:00:00.000000000",
          "2025-07-15T00:00:00.000000000",
          "2025-07-16T00:00:00.000000000",
          "2025-07-16T00:00:00.000000000",
          "2025-07-16T00:00:00.000000000",
          "2025-07-16T00:00:00.000000000",
          "2025-07-17T00:00:00.000000000",
          "2025-07-17T00:00:00.000000000",
          "2025-07-17T00:00:00.000000000",
          "2025-07-17T00:00:00.000000000",
          "2025-07-17T00:00:00.000000000",
          "2025-07-18T00:00:00.000000000",
          "2025-07-18T00:00:00.000000000",
          "2025-07-18T00:00:00.000000000",
          "2025-07-21T00:00:00.000000000",
          "2025-07-21T00:00:00.000000000",
          "2025-07-21T00:00:00.000000000",
          "2025-07-21T00:00:00.000000000",
          "2025-07-21T00:00:00.000000000",
          "2025-07-22T00:00:00.000000000",
          "2025-07-22T00:00:00.000000000",
          "2025-07-22T00:00:00.000000000",
          "2025-07-22T00:00:00.000000000",
          "2025-07-22T00:00:00.000000000",
          "2025-07-23T00:00:00.000000000",
          "2025-07-23T00:00:00.000000000",
          "2025-07-23T00:00:00.000000000",
          "2025-07-23T00:00:00.000000000",
          "2025-07-24T00:00:00.000000000",
          "2025-07-24T00:00:00.000000000",
          "2025-07-24T00:00:00.000000000",
          "2025-07-24T00:00:00.000000000",
          "2025-07-24T00:00:00.000000000",
          "2025-07-24T00:00:00.000000000",
          "2025-07-25T00:00:00.000000000",
          "2025-07-25T00:00:00.000000000",
          "2025-07-25T00:00:00.000000000",
          "2025-07-25T00:00:00.000000000",
          "2025-07-25T00:00:00.000000000",
          "2025-07-28T00:00:00.000000000",
          "2025-07-28T00:00:00.000000000",
          "2025-07-28T00:00:00.000000000",
          "2025-07-28T00:00:00.000000000",
          "2025-07-29T00:00:00.000000000",
          "2025-07-29T00:00:00.000000000",
          "2025-07-29T00:00:00.000000000",
          "2025-07-29T00:00:00.000000000",
          "2025-07-29T00:00:00.000000000",
          "2025-07-29T00:00:00.000000000",
          "2025-07-30T00:00:00.000000000",
          "2025-07-30T00:00:00.000000000",
          "2025-07-30T00:00:00.000000000",
          "2025-07-30T00:00:00.000000000",
          "2025-07-30T00:00:00.000000000",
          "2025-07-30T00:00:00.000000000",
          "2025-07-30T00:00:00.000000000",
          "2025-07-30T00:00:00.000000000",
          "2025-07-31T00:00:00.000000000",
          "2025-07-31T00:00:00.000000000",
          "2025-07-31T00:00:00.000000000",
          "2025-07-31T00:00:00.000000000",
          "2025-07-31T00:00:00.000000000",
          "2025-07-31T00:00:00.000000000",
          "2025-07-31T00:00:00.000000000",
          "2025-08-01T00:00:00.000000000",
          "2025-08-01T00:00:00.000000000",
          "2025-08-01T00:00:00.000000000",
          "2025-08-01T00:00:00.000000000",
          "2025-08-01T00:00:00.000000000",
          "2025-08-01T00:00:00.000000000",
          "2025-08-01T00:00:00.000000000",
          "2025-08-01T00:00:00.000000000"
         ],
         "y": {
          "bdata": "84Hb19xH8z9q0ABn6P0QwPOB29fcR/M/298TYuJX+L/zgdvX3EfzP/OB29fcR/M/84Hb19xH8z8vKYidmprjv60TvNc4TL0/bxONOZeUe7///sd5qzzvvy8piJ2amuO/VfxrANSW1r/b3xNi4lf4v6R34SgWQMS/rRO81zhMvT+QfNBeJJPbvyKhhkhtT6u/dWcM/+hWyz+DJVS87rWiP1X8awDUlta/U7Zt8IoO0r+DJVS87rWiP9AOMCfl3+q/84Hb19xH8z9Ttm3wig7Sv/OB29fcR/M/LUNXZaAc5T8vKYidmprjv6R34SgWQMS/rRO81zhMvT8vKYidmprjv7UFga9PRNs/LymInZqa479/TSEFJ+LPv5B80F4kk9u/OPpr2JcS8b/d9KFASCzjP6Lz1Xrq4/K/84Hb19xH8z/eDr33ubLmP9AOMCfl3+q/0XKQVmNC3r+UNPfYfiPpP/OB29fcR/M/pHfhKBZAxL9V/GsA1JbWvxmcTgYGf/O/84Hb19xH8z+UNPfYfiPpP6R34SgWQMS/njhnnCQF6D8kbZqDz+j6v/OB29fcR/M/3fShQEgs4z+DJVS87rWiPyKhhkhtT6u/84Hb19xH8z9vE405l5R7v94Ovfe5suY/JG2ag8/o+r/eDr33ubLmP/OB29fcR/M/84Hb19xH8z/d9KFASCzjP/OB29fcR/M/JG2ag8/o+r/d9KFASCzjP60TvNc4TL0/pHfhKBZAxL/zgdvX3EfzP28TjTmXlHu/84Hb19xH8z+R1bG6O3EDwLraLhIf9dI/uAgIgmyN7L/RcpBWY0Lev2F8LPgA3uw/rRO81zhMvT/zgdvX3EfzP1X8awDUlta/rRO81zhMvT/zgdvX3EfzP7raLhIf9dI/atB0S4508b///sd5qzzvv/OB29fcR/M/S+/i5p5g7T86jHWq0gTWP7lpSSLK1va/U7Zt8IoO0r+8KIA3dIjdP9vfE2LiV/i/f00hBSfiz7/2xaLkXHfwPy1DV2WgHOU/84Hb19xH8z8ahY5Fw/izv60+Mewywue/298TYuJX+L8tQ1dloBzlP6zdkUGHNAHAI3c0JYMUlD8=",
          "dtype": "f8"
         }
        },
        {
         "line": {
          "color": "green"
         },
         "name": "Stock % Change",
         "type": "scatter",
         "x": [
          "2025-06-24T00:00:00.000000000",
          "2025-06-24T00:00:00.000000000",
          "2025-06-26T00:00:00.000000000",
          "2025-06-26T00:00:00.000000000",
          "2025-06-27T00:00:00.000000000",
          "2025-06-27T00:00:00.000000000",
          "2025-06-27T00:00:00.000000000",
          "2025-06-30T00:00:00.000000000",
          "2025-06-30T00:00:00.000000000",
          "2025-06-30T00:00:00.000000000",
          "2025-07-01T00:00:00.000000000",
          "2025-07-02T00:00:00.000000000",
          "2025-07-02T00:00:00.000000000",
          "2025-07-03T00:00:00.000000000",
          "2025-07-03T00:00:00.000000000",
          "2025-07-07T00:00:00.000000000",
          "2025-07-07T00:00:00.000000000",
          "2025-07-08T00:00:00.000000000",
          "2025-07-08T00:00:00.000000000",
          "2025-07-09T00:00:00.000000000",
          "2025-07-09T00:00:00.000000000",
          "2025-07-09T00:00:00.000000000",
          "2025-07-10T00:00:00.000000000",
          "2025-07-10T00:00:00.000000000",
          "2025-07-10T00:00:00.000000000",
          "2025-07-11T00:00:00.000000000",
          "2025-07-11T00:00:00.000000000",
          "2025-07-11T00:00:00.000000000",
          "2025-07-11T00:00:00.000000000",
          "2025-07-14T00:00:00.000000000",
          "2025-07-14T00:00:00.000000000",
          "2025-07-15T00:00:00.000000000",
          "2025-07-15T00:00:00.000000000",
          "2025-07-16T00:00:00.000000000",
          "2025-07-16T00:00:00.000000000",
          "2025-07-16T00:00:00.000000000",
          "2025-07-16T00:00:00.000000000",
          "2025-07-17T00:00:00.000000000",
          "2025-07-17T00:00:00.000000000",
          "2025-07-17T00:00:00.000000000",
          "2025-07-17T00:00:00.000000000",
          "2025-07-17T00:00:00.000000000",
          "2025-07-18T00:00:00.000000000",
          "2025-07-18T00:00:00.000000000",
          "2025-07-18T00:00:00.000000000",
          "2025-07-21T00:00:00.000000000",
          "2025-07-21T00:00:00.000000000",
          "2025-07-21T00:00:00.000000000",
          "2025-07-21T00:00:00.000000000",
          "2025-07-21T00:00:00.000000000",
          "2025-07-22T00:00:00.000000000",
          "2025-07-22T00:00:00.000000000",
          "2025-07-22T00:00:00.000000000",
          "2025-07-22T00:00:00.000000000",
          "2025-07-22T00:00:00.000000000",
          "2025-07-23T00:00:00.000000000",
          "2025-07-23T00:00:00.000000000",
          "2025-07-23T00:00:00.000000000",
          "2025-07-23T00:00:00.000000000",
          "2025-07-24T00:00:00.000000000",
          "2025-07-24T00:00:00.000000000",
          "2025-07-24T00:00:00.000000000",
          "2025-07-24T00:00:00.000000000",
          "2025-07-24T00:00:00.000000000",
          "2025-07-24T00:00:00.000000000",
          "2025-07-25T00:00:00.000000000",
          "2025-07-25T00:00:00.000000000",
          "2025-07-25T00:00:00.000000000",
          "2025-07-25T00:00:00.000000000",
          "2025-07-25T00:00:00.000000000",
          "2025-07-28T00:00:00.000000000",
          "2025-07-28T00:00:00.000000000",
          "2025-07-28T00:00:00.000000000",
          "2025-07-28T00:00:00.000000000",
          "2025-07-29T00:00:00.000000000",
          "2025-07-29T00:00:00.000000000",
          "2025-07-29T00:00:00.000000000",
          "2025-07-29T00:00:00.000000000",
          "2025-07-29T00:00:00.000000000",
          "2025-07-29T00:00:00.000000000",
          "2025-07-30T00:00:00.000000000",
          "2025-07-30T00:00:00.000000000",
          "2025-07-30T00:00:00.000000000",
          "2025-07-30T00:00:00.000000000",
          "2025-07-30T00:00:00.000000000",
          "2025-07-30T00:00:00.000000000",
          "2025-07-30T00:00:00.000000000",
          "2025-07-30T00:00:00.000000000",
          "2025-07-31T00:00:00.000000000",
          "2025-07-31T00:00:00.000000000",
          "2025-07-31T00:00:00.000000000",
          "2025-07-31T00:00:00.000000000",
          "2025-07-31T00:00:00.000000000",
          "2025-07-31T00:00:00.000000000",
          "2025-07-31T00:00:00.000000000",
          "2025-08-01T00:00:00.000000000",
          "2025-08-01T00:00:00.000000000",
          "2025-08-01T00:00:00.000000000",
          "2025-08-01T00:00:00.000000000",
          "2025-08-01T00:00:00.000000000",
          "2025-08-01T00:00:00.000000000",
          "2025-08-01T00:00:00.000000000",
          "2025-08-01T00:00:00.000000000"
         ],
         "y": {
          "bdata": "mNRZrbrKEECeFIixCgkZQKAuhY/SbARAXhzIkmNIFUCOEljJqM3Kv/r3lANMHAzAkEv6rJ15D8CMQ6DeFZPyPwCPBMAF6NM/nRulx6eIE0D03GdKlPfzP11IyJJB6ru/v/n2SGA7yr9or4Yi01vqP7SkXiBVCvQ/18ZP3bl47z8SyjADSFATwP/vM0r8jLK/KCgRXKfj4T9q+S6NiEf/v27aLaN7igJAQJ4RgkiT2z8dhPjRQ1EIwKi2Y49ixuY/t7w8wz9b+D9s0hHze3TyP8gVAKzgwem/oIUmMHzhAcB09K0AEesJwDg4B/ag9uM/1qJVUvcDE8A49cbTyeDpvwT2+8I1b+q/8AaNAzcH5z8OH3EDOTwBwPZFJC3IggjAwAhTkUZjwj+ff9dFBMgFwFwS2TTGsvQ/cFoc0Enx5z983BNur1XxP3BSDU0GogJAABlnY4/I7j9QZQ+Lwg3Hv18gWkCXi7e/kLWedkMH3j/o/mW3ojnwvzA7aCSwiOA//htCuc6Do79xHUeZIAoBwK88XEQ9998/CykUKOxUDMDQnOPfuZX2P5AUNmM6jPk/xycPA/ipEcC2bdu27bMLQLze2tdDJry/UNv/VMhy/D8AC46XxAj2Pzj545Pdrfs//sanQyn+xj8Oz5iAJnbKv9TxuCECUPw//BRxnXE4+L9MNAAOp0Pjv2B1ep4P7Nq/APaPYHZb4D/IMtm/t9rgPwgP9doNS+A/sGBmI3qr8j/WWk5OkFMCQBD76Yds7NW/iOHEl4zE+j/Qy9BHh7f2P7iVrGQlbOQ/8j+CqrDu8L9gtFZJb07VPwheLmJh9vA/td9dxOgeBMBAqnEZNnfkP6zI4hdf4O6/JGIDK1eq8j+yTukiY0scQHvJ1LL+z/2/HpQHFz7dA0BvGPThXrvdP3fraKgW6/y/LMAFj0v5+z9Yv3j9he4ewCLw29Olhfy//zylrKeUB8D8qsGUu4UTwLh2QZWKkwPADDuxE3u8+7+9kaIhXiUEwNI2/TYEkRHAvmnYFTiBB8AQDTu07uoEwGhYdsnYOQ/AiK11H+GbB8AlJTR5UKoCwGy05nvGkPu/+slHn6ceBsA=",
          "dtype": "f8"
         },
         "yaxis": "y2"
        },
        {
         "line": {
          "color": "red"
         },
         "name": "Forecasted % Change",
         "type": "scatter",
         "x": [
          "2025-08-04T00:00:00.000000000",
          "2025-08-05T00:00:00.000000000",
          "2025-08-06T00:00:00.000000000",
          "2025-08-07T00:00:00.000000000",
          "2025-08-08T00:00:00.000000000",
          "2025-08-11T00:00:00.000000000",
          "2025-08-12T00:00:00.000000000"
         ],
         "y": {
          "bdata": "DBb2dgNwBsAaJOd8Z20GwFH2Kul8bQbA2LRHOXxtBsBxyus+fG0GwCF6vT58bQbAYPa+PnxtBsA=",
          "dtype": "f8"
         }
        },
        {
         "fill": "toself",
         "fillcolor": "rgba(255,0,0,0.2)",
         "hoverinfo": "skip",
         "line": {
          "color": "rgba(255,255,255,0)"
         },
         "showlegend": false,
         "type": "scatter",
         "x": [
          "2025-08-04T00:00:00.000000000",
          "2025-08-05T00:00:00.000000000",
          "2025-08-06T00:00:00.000000000",
          "2025-08-07T00:00:00.000000000",
          "2025-08-08T00:00:00.000000000",
          "2025-08-11T00:00:00.000000000",
          "2025-08-12T00:00:00.000000000",
          "2025-08-12T00:00:00.000000000",
          "2025-08-11T00:00:00.000000000",
          "2025-08-08T00:00:00.000000000",
          "2025-08-07T00:00:00.000000000",
          "2025-08-06T00:00:00.000000000",
          "2025-08-05T00:00:00.000000000",
          "2025-08-04T00:00:00.000000000"
         ],
         "y": {
          "bdata": "8X3sglTXHMAroKi3pBQdwOSqxZKUZx3ACOMX7U+4HcB0LAEGtwcewIzHiz/UVR7AQFzwV7eiHsDAy2IydmoAQK41OQNgof8/DohVHOto/j/AuEDPTiv9P0rSaqZe6Ps/RPAF6/Sc+j+Un9kvRJ35Pw==",
          "dtype": "f8"
         }
        }
       ],
       "layout": {
        "template": {
         "data": {
          "bar": [
           {
            "error_x": {
             "color": "#f2f5fa"
            },
            "error_y": {
             "color": "#f2f5fa"
            },
            "marker": {
             "line": {
              "color": "rgb(17,17,17)",
              "width": 0.5
             },
             "pattern": {
              "fillmode": "overlay",
              "size": 10,
              "solidity": 0.2
             }
            },
            "type": "bar"
           }
          ],
          "barpolar": [
           {
            "marker": {
             "line": {
              "color": "rgb(17,17,17)",
              "width": 0.5
             },
             "pattern": {
              "fillmode": "overlay",
              "size": 10,
              "solidity": 0.2
             }
            },
            "type": "barpolar"
           }
          ],
          "carpet": [
           {
            "aaxis": {
             "endlinecolor": "#A2B1C6",
             "gridcolor": "#506784",
             "linecolor": "#506784",
             "minorgridcolor": "#506784",
             "startlinecolor": "#A2B1C6"
            },
            "baxis": {
             "endlinecolor": "#A2B1C6",
             "gridcolor": "#506784",
             "linecolor": "#506784",
             "minorgridcolor": "#506784",
             "startlinecolor": "#A2B1C6"
            },
            "type": "carpet"
           }
          ],
          "choropleth": [
           {
            "colorbar": {
             "outlinewidth": 0,
             "ticks": ""
            },
            "type": "choropleth"
           }
          ],
          "contour": [
           {
            "colorbar": {
             "outlinewidth": 0,
             "ticks": ""
            },
            "colorscale": [
             [
              0,
              "#0d0887"
             ],
             [
              0.1111111111111111,
              "#46039f"
             ],
             [
              0.2222222222222222,
              "#7201a8"
             ],
             [
              0.3333333333333333,
              "#9c179e"
             ],
             [
              0.4444444444444444,
              "#bd3786"
             ],
             [
              0.5555555555555556,
              "#d8576b"
             ],
             [
              0.6666666666666666,
              "#ed7953"
             ],
             [
              0.7777777777777778,
              "#fb9f3a"
             ],
             [
              0.8888888888888888,
              "#fdca26"
             ],
             [
              1,
              "#f0f921"
             ]
            ],
            "type": "contour"
           }
          ],
          "contourcarpet": [
           {
            "colorbar": {
             "outlinewidth": 0,
             "ticks": ""
            },
            "type": "contourcarpet"
           }
          ],
          "heatmap": [
           {
            "colorbar": {
             "outlinewidth": 0,
             "ticks": ""
            },
            "colorscale": [
             [
              0,
              "#0d0887"
             ],
             [
              0.1111111111111111,
              "#46039f"
             ],
             [
              0.2222222222222222,
              "#7201a8"
             ],
             [
              0.3333333333333333,
              "#9c179e"
             ],
             [
              0.4444444444444444,
              "#bd3786"
             ],
             [
              0.5555555555555556,
              "#d8576b"
             ],
             [
              0.6666666666666666,
              "#ed7953"
             ],
             [
              0.7777777777777778,
              "#fb9f3a"
             ],
             [
              0.8888888888888888,
              "#fdca26"
             ],
             [
              1,
              "#f0f921"
             ]
            ],
            "type": "heatmap"
           }
          ],
          "histogram": [
           {
            "marker": {
             "pattern": {
              "fillmode": "overlay",
              "size": 10,
              "solidity": 0.2
             }
            },
            "type": "histogram"
           }
          ],
          "histogram2d": [
           {
            "colorbar": {
             "outlinewidth": 0,
             "ticks": ""
            },
            "colorscale": [
             [
              0,
              "#0d0887"
             ],
             [
              0.1111111111111111,
              "#46039f"
             ],
             [
              0.2222222222222222,
              "#7201a8"
             ],
             [
              0.3333333333333333,
              "#9c179e"
             ],
             [
              0.4444444444444444,
              "#bd3786"
             ],
             [
              0.5555555555555556,
              "#d8576b"
             ],
             [
              0.6666666666666666,
              "#ed7953"
             ],
             [
              0.7777777777777778,
              "#fb9f3a"
             ],
             [
              0.8888888888888888,
              "#fdca26"
             ],
             [
              1,
              "#f0f921"
             ]
            ],
            "type": "histogram2d"
           }
          ],
          "histogram2dcontour": [
           {
            "colorbar": {
             "outlinewidth": 0,
             "ticks": ""
            },
            "colorscale": [
             [
              0,
              "#0d0887"
             ],
             [
              0.1111111111111111,
              "#46039f"
             ],
             [
              0.2222222222222222,
              "#7201a8"
             ],
             [
              0.3333333333333333,
              "#9c179e"
             ],
             [
              0.4444444444444444,
              "#bd3786"
             ],
             [
              0.5555555555555556,
              "#d8576b"
             ],
             [
              0.6666666666666666,
              "#ed7953"
             ],
             [
              0.7777777777777778,
              "#fb9f3a"
             ],
             [
              0.8888888888888888,
              "#fdca26"
             ],
             [
              1,
              "#f0f921"
             ]
            ],
            "type": "histogram2dcontour"
           }
          ],
          "mesh3d": [
           {
            "colorbar": {
             "outlinewidth": 0,
             "ticks": ""
            },
            "type": "mesh3d"
           }
          ],
          "parcoords": [
           {
            "line": {
             "colorbar": {
              "outlinewidth": 0,
              "ticks": ""
             }
            },
            "type": "parcoords"
           }
          ],
          "pie": [
           {
            "automargin": true,
            "type": "pie"
           }
          ],
          "scatter": [
           {
            "marker": {
             "line": {
              "color": "#283442"
             }
            },
            "type": "scatter"
           }
          ],
          "scatter3d": [
           {
            "line": {
             "colorbar": {
              "outlinewidth": 0,
              "ticks": ""
             }
            },
            "marker": {
             "colorbar": {
              "outlinewidth": 0,
              "ticks": ""
             }
            },
            "type": "scatter3d"
           }
          ],
          "scattercarpet": [
           {
            "marker": {
             "colorbar": {
              "outlinewidth": 0,
              "ticks": ""
             }
            },
            "type": "scattercarpet"
           }
          ],
          "scattergeo": [
           {
            "marker": {
             "colorbar": {
              "outlinewidth": 0,
              "ticks": ""
             }
            },
            "type": "scattergeo"
           }
          ],
          "scattergl": [
           {
            "marker": {
             "line": {
              "color": "#283442"
             }
            },
            "type": "scattergl"
           }
          ],
          "scattermap": [
           {
            "marker": {
             "colorbar": {
              "outlinewidth": 0,
              "ticks": ""
             }
            },
            "type": "scattermap"
           }
          ],
          "scattermapbox": [
           {
            "marker": {
             "colorbar": {
              "outlinewidth": 0,
              "ticks": ""
             }
            },
            "type": "scattermapbox"
           }
          ],
          "scatterpolar": [
           {
            "marker": {
             "colorbar": {
              "outlinewidth": 0,
              "ticks": ""
             }
            },
            "type": "scatterpolar"
           }
          ],
          "scatterpolargl": [
           {
            "marker": {
             "colorbar": {
              "outlinewidth": 0,
              "ticks": ""
             }
            },
            "type": "scatterpolargl"
           }
          ],
          "scatterternary": [
           {
            "marker": {
             "colorbar": {
              "outlinewidth": 0,
              "ticks": ""
             }
            },
            "type": "scatterternary"
           }
          ],
          "surface": [
           {
            "colorbar": {
             "outlinewidth": 0,
             "ticks": ""
            },
            "colorscale": [
             [
              0,
              "#0d0887"
             ],
             [
              0.1111111111111111,
              "#46039f"
             ],
             [
              0.2222222222222222,
              "#7201a8"
             ],
             [
              0.3333333333333333,
              "#9c179e"
             ],
             [
              0.4444444444444444,
              "#bd3786"
             ],
             [
              0.5555555555555556,
              "#d8576b"
             ],
             [
              0.6666666666666666,
              "#ed7953"
             ],
             [
              0.7777777777777778,
              "#fb9f3a"
             ],
             [
              0.8888888888888888,
              "#fdca26"
             ],
             [
              1,
              "#f0f921"
             ]
            ],
            "type": "surface"
           }
          ],
          "table": [
           {
            "cells": {
             "fill": {
              "color": "#506784"
             },
             "line": {
              "color": "rgb(17,17,17)"
             }
            },
            "header": {
             "fill": {
              "color": "#2a3f5f"
             },
             "line": {
              "color": "rgb(17,17,17)"
             }
            },
            "type": "table"
           }
          ]
         },
         "layout": {
          "annotationdefaults": {
           "arrowcolor": "#f2f5fa",
           "arrowhead": 0,
           "arrowwidth": 1
          },
          "autotypenumbers": "strict",
          "coloraxis": {
           "colorbar": {
            "outlinewidth": 0,
            "ticks": ""
           }
          },
          "colorscale": {
           "diverging": [
            [
             0,
             "#8e0152"
            ],
            [
             0.1,
             "#c51b7d"
            ],
            [
             0.2,
             "#de77ae"
            ],
            [
             0.3,
             "#f1b6da"
            ],
            [
             0.4,
             "#fde0ef"
            ],
            [
             0.5,
             "#f7f7f7"
            ],
            [
             0.6,
             "#e6f5d0"
            ],
            [
             0.7,
             "#b8e186"
            ],
            [
             0.8,
             "#7fbc41"
            ],
            [
             0.9,
             "#4d9221"
            ],
            [
             1,
             "#276419"
            ]
           ],
           "sequential": [
            [
             0,
             "#0d0887"
            ],
            [
             0.1111111111111111,
             "#46039f"
            ],
            [
             0.2222222222222222,
             "#7201a8"
            ],
            [
             0.3333333333333333,
             "#9c179e"
            ],
            [
             0.4444444444444444,
             "#bd3786"
            ],
            [
             0.5555555555555556,
             "#d8576b"
            ],
            [
             0.6666666666666666,
             "#ed7953"
            ],
            [
             0.7777777777777778,
             "#fb9f3a"
            ],
            [
             0.8888888888888888,
             "#fdca26"
            ],
            [
             1,
             "#f0f921"
            ]
           ],
           "sequentialminus": [
            [
             0,
             "#0d0887"
            ],
            [
             0.1111111111111111,
             "#46039f"
            ],
            [
             0.2222222222222222,
             "#7201a8"
            ],
            [
             0.3333333333333333,
             "#9c179e"
            ],
            [
             0.4444444444444444,
             "#bd3786"
            ],
            [
             0.5555555555555556,
             "#d8576b"
            ],
            [
             0.6666666666666666,
             "#ed7953"
            ],
            [
             0.7777777777777778,
             "#fb9f3a"
            ],
            [
             0.8888888888888888,
             "#fdca26"
            ],
            [
             1,
             "#f0f921"
            ]
           ]
          },
          "colorway": [
           "#636efa",
           "#EF553B",
           "#00cc96",
           "#ab63fa",
           "#FFA15A",
           "#19d3f3",
           "#FF6692",
           "#B6E880",
           "#FF97FF",
           "#FECB52"
          ],
          "font": {
           "color": "#f2f5fa"
          },
          "geo": {
           "bgcolor": "rgb(17,17,17)",
           "lakecolor": "rgb(17,17,17)",
           "landcolor": "rgb(17,17,17)",
           "showlakes": true,
           "showland": true,
           "subunitcolor": "#506784"
          },
          "hoverlabel": {
           "align": "left"
          },
          "hovermode": "closest",
          "mapbox": {
           "style": "dark"
          },
          "paper_bgcolor": "rgb(17,17,17)",
          "plot_bgcolor": "rgb(17,17,17)",
          "polar": {
           "angularaxis": {
            "gridcolor": "#506784",
            "linecolor": "#506784",
            "ticks": ""
           },
           "bgcolor": "rgb(17,17,17)",
           "radialaxis": {
            "gridcolor": "#506784",
            "linecolor": "#506784",
            "ticks": ""
           }
          },
          "scene": {
           "xaxis": {
            "backgroundcolor": "rgb(17,17,17)",
            "gridcolor": "#506784",
            "gridwidth": 2,
            "linecolor": "#506784",
            "showbackground": true,
            "ticks": "",
            "zerolinecolor": "#C8D4E3"
           },
           "yaxis": {
            "backgroundcolor": "rgb(17,17,17)",
            "gridcolor": "#506784",
            "gridwidth": 2,
            "linecolor": "#506784",
            "showbackground": true,
            "ticks": "",
            "zerolinecolor": "#C8D4E3"
           },
           "zaxis": {
            "backgroundcolor": "rgb(17,17,17)",
            "gridcolor": "#506784",
            "gridwidth": 2,
            "linecolor": "#506784",
            "showbackground": true,
            "ticks": "",
            "zerolinecolor": "#C8D4E3"
           }
          },
          "shapedefaults": {
           "line": {
            "color": "#f2f5fa"
           }
          },
          "sliderdefaults": {
           "bgcolor": "#C8D4E3",
           "bordercolor": "rgb(17,17,17)",
           "borderwidth": 1,
           "tickwidth": 0
          },
          "ternary": {
           "aaxis": {
            "gridcolor": "#506784",
            "linecolor": "#506784",
            "ticks": ""
           },
           "baxis": {
            "gridcolor": "#506784",
            "linecolor": "#506784",
            "ticks": ""
           },
           "bgcolor": "rgb(17,17,17)",
           "caxis": {
            "gridcolor": "#506784",
            "linecolor": "#506784",
            "ticks": ""
           }
          },
          "title": {
           "x": 0.05
          },
          "updatemenudefaults": {
           "bgcolor": "#506784",
           "borderwidth": 0
          },
          "xaxis": {
           "automargin": true,
           "gridcolor": "#283442",
           "linecolor": "#506784",
           "ticks": "",
           "title": {
            "standoff": 15
           },
           "zerolinecolor": "#283442",
           "zerolinewidth": 2
          },
          "yaxis": {
           "automargin": true,
           "gridcolor": "#283442",
           "linecolor": "#506784",
           "ticks": "",
           "title": {
            "standoff": 15
           },
           "zerolinecolor": "#283442",
           "zerolinewidth": 2
          }
         }
        },
        "title": {
         "text": "Sentiment vs Stock Change Forecast"
        },
        "xaxis": {
         "title": {
          "text": "Date"
         }
        },
        "yaxis": {
         "title": {
          "font": {
           "color": "blue"
          },
          "text": "Standardized Sentiment"
         }
        },
        "yaxis2": {
         "overlaying": "y",
         "side": "right",
         "title": {
          "font": {
           "color": "green"
          },
          "text": "Stock % Change"
         }
        }
       }
      }
     },
     "metadata": {},
     "output_type": "display_data"
    }
   ],
   "source": [
    "final_df = final_df.copy()\n",
    "\n",
    "# Sort and index\n",
    "final_df['DateOnly'] = pd.to_datetime(final_df['DateOnly'])\n",
    "final_df.set_index('DateOnly', inplace=True)\n",
    "final_df.sort_index(inplace=True)\n",
    "\n",
    "# Create lagged and standardized sentiment\n",
    "final_df['sentiment_std'] = (\n",
    "    final_df['7day_pct_positive'] - final_df['7day_pct_positive'].mean()\n",
    ") / final_df['7day_pct_positive'].std()\n",
    "\n",
    "final_df['lagged_sentiment'] = final_df['sentiment_std'].shift(1)\n",
    "final_df.dropna(subset=['lagged_sentiment', 'Pct_Change'], inplace=True)\n",
    "\n",
    "# Now call\n",
    "forecast_mean, forecast_ci, forecast_index = fit_and_forecast(final_df)\n",
    "create_plot(final_df, forecast_mean, forecast_ci, forecast_index)\n"
   ]
  },
  {
   "cell_type": "markdown",
   "metadata": {},
   "source": [
    "### So can we start raking it in ?\n",
    "\n",
    "Short answer, not really.\n",
    "\n",
    "### Enter the the Efficient Market Hypothesis (EMH)\n",
    "\n",
    "The Efficient Market Hypothesis (EMH) is a foundational idea in finance that argues:\n",
    "All available information is already reflected in stock prices. As a result, it’s impossible to consistently “beat the market” by using information that everyone else already knows.\n",
    "\n",
    "Three Forms of EMH:\n",
    "* **Weak form**: Prices reflect all past trading information (price, volume, etc.).\n",
    "* **Semi-strong form**: Prices reflect all publicly available information (including news, financials, economic reports).\n",
    "* **Strong form**: Prices reflect all information, public and private (even insider information).\n",
    "\n",
    "Why does this matter for prediction?\n",
    "If EMH holds, predictive models using only public news or price data shouldn’t consistently outperform the market, because prices have already adjusted to any information you can scrape! So, if you read about some “groundbreaking” information on `r/wallstreetbets`, it’s already priced in.\n",
    "\n",
    "By the time you see it on a public forum, news site, or financial report, the market has almost certainly already absorbed that information. Countless traders and algorithms are constantly scanning for new data, and prices adjust within seconds (sometimes milliseconds) of news becoming public.\n",
    "\n",
    "So, if your trading strategy is just **“I saw it online”**, you’re almost always too late—at least in an efficient market.\n",
    "\n",
    "> 💡 Engage Critically: Efficient Markets vs. Predictive Models\n",
    ">\n",
    "> According to EMH, it’s not possible to consistently “outsmart” the market with sentiment analysis, technical analysis, or even AI—unless you have truly unique information.\n",
    ">\n",
    "> But, many researchers and investors look for market inefficiencies—times when prices don’t adjust instantly, or when information is under- or over-weighted by investors. This is where economics and financial models might have an edge, especially in niche markets, with alternative data, or by exploiting human behavioral biases. ((Unless you have information that isn’t public… )\n",
    ">\n",
    "> >❓ Consider: If markets are efficient, why do so many funds and algorithms still try to predict stock prices? What might they be betting on?\n",
    ">\n",
    "> >❓ Ask yourself: Can there be temporary inefficiencies? What kind of information (and speed) might give you a real predictive advantage?\n",
    "\n",
    "Let me know if you want a citation block or references at the end!"
   ]
  },
  {
   "cell_type": "markdown",
   "metadata": {},
   "source": [
    "### References : \n",
    "- Kirsch, N. (2024, April 29). 10 Best AI Stocks Of August 2024. Forbes Advisor. https://www.forbes.com/advisor/investing/best-ai-stocks/\n",
    "- Chen, J. (2023, October 6). *Efficient Market Hypothesis (EMH): Forms and criticisms*. Investopedia. [https://www.investopedia.com/terms/e/efficientmarkethypothesis.asp](https://www.investopedia.com/terms/e/efficientmarkethypothesis.asp)\n",
    "- Sprenger, T. O., Tumasjan, A., Sandner, P. G., & Welpe, I. M. (2014, February 5). *Twitter sentiment and stock market movements: The predictive power of social media*. VoxEU. [https://cepr.org/voxeu/columns/twitter-sentiment-and-stock-market-movements-predictive-power-social-media](https://cepr.org/voxeu/columns/twitter-sentiment-and-stock-market-movements-predictive-power-social-media)\n"
   ]
  }
 ],
 "metadata": {
  "kernelspec": {
   "display_name": "krishaant_r",
   "language": "python",
   "name": "krishaant_r"
  },
  "language_info": {
   "codemirror_mode": {
    "name": "ipython",
    "version": 3
   },
   "file_extension": ".py",
   "mimetype": "text/x-python",
   "name": "python",
   "nbconvert_exporter": "python",
   "pygments_lexer": "ipython3",
   "version": "3.13.5"
  }
 },
 "nbformat": 4,
 "nbformat_minor": 2
}
