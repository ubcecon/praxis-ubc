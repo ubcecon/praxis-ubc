{
 "cells": [
  {
   "cell_type": "markdown",
   "id": "2e2853c4",
   "metadata": {},
   "source": [
    "## Introduction to Convolutional Neural Networks (CNNs)\n",
    "\n",
    "Author: *prAxIs UBC Team*\n",
    "\n",
    "Date: 2025-06"
   ]
  },
  {
   "cell_type": "markdown",
   "id": "327403f1",
   "metadata": {},
   "source": [
    "### Part I: Introduction to Convolutions (in a Mostly Harmless Way)\n",
    "\n",
    "Mathematically speaking, **Convolution** is an operation that combines two functions to produce a third function, which has a variety of applications in signal processing, image analysis and more. While this may sound complex, we can skip the mathematical parts of it and explain it in a less harmful and vivid way to our dear audiences (which is YOU). \n",
    "\n",
    "Let's begin by imagining a simple scenario: you took a picture with your friends at the beach, and you want to apply a filter to it so that it looks more vibrant and colorful. In the eyes of a computer, this picture is just a grid of numbers, where each number represents the color intensity of a pixel.\n"
   ]
  },
  {
   "cell_type": "code",
   "execution_count": null,
   "id": "932a19ba",
   "metadata": {
    "vscode": {
     "languageId": "plaintext"
    }
   },
   "outputs": [],
   "source": []
  },
  {
   "cell_type": "markdown",
   "id": "97034be4",
   "metadata": {},
   "source": []
  }
 ],
 "metadata": {
  "language_info": {
   "name": "python"
  }
 },
 "nbformat": 4,
 "nbformat_minor": 5
}
