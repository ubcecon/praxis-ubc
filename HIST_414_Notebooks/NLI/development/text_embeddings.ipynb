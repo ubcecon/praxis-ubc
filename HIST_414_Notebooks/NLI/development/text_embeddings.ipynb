{
 "cells": [
  {
   "cell_type": "markdown",
   "id": "e9007b58",
   "metadata": {},
   "source": [
    "## Text Embedding-Driven Analysis of Crease's Stances Towards Chinese Immigrants with Evidence from Legal Cases"
   ]
  },
  {
   "cell_type": "markdown",
   "id": "6d49b268",
   "metadata": {},
   "source": [
    "### Introduction"
   ]
  },
  {
   "cell_type": "code",
   "execution_count": null,
   "id": "caa98067",
   "metadata": {},
   "outputs": [],
   "source": []
  },
  {
   "cell_type": "markdown",
   "id": "5e102c2e",
   "metadata": {},
   "source": [
    "### Data\n",
    "\n",
    "#### Data Preparation\n",
    "\n",
    "To begin our analysis, we collected a dataset of 10 documents related to Chinese immigrants problems in British Columbia, Canada, specifically focusing on the legal cases involving Justice Crease, including *Regina V Wing Chong (1885)*, *Wong Hoy Woon V Duncan (1894)* and his answer to the inquiry at the Royal Commission on Chinese Immigrants in 1885. For comparison, we also included legal cases involving other judges such as Justice Begbie and Justice Fitzpatrick, and other reports made at the Royal Commission on Chinese Immigrants. Among which, we focus on Begbie as a reference level for comparison, as he was known for his more lenient stance towards Chinese. We also included the original text of the *Chinese Regulation Act, 1884* as another reference level for comparison, as it was a significant piece of discriminatory legislation against Chinese immigrants in British Columbia.\n",
    "\n",
    "We prepared our dataset using a technique called **Optical Character Recognition (OCR)** to convert scanned legal documents into machine-readable text. This process involved several steps: \n",
    "\n",
    "1. Finding the scanned documents from sources such as the Law Society of British Columbia Court Report and Canadian Legal Information Institute. \n",
    "2. We used OCR models such as [Nanonets OCR](https://huggingface.co/nanonets/Nanonets-OCR-s) and [Azure AI Vision](https://azure.microsoft.com/en-us/products/ai-services/ai-vision) to extract text from these scanned images, ensuring that the text was as accurate as possible through prompt tuning and script optimization. \n",
    "3. We cleaned the extracted text manually to remove any artifacts or errors introduced during the OCR process. \n",
    "\n",
    "However, due to the nature of OCR, some errors may still persist, which we acknowledge as a limitation of our dataset, and we welcome contributions to improve the dataset."
   ]
  },
  {
   "cell_type": "markdown",
   "id": "c183eb93",
   "metadata": {},
   "source": [
    "#### Dataset Reading\n",
    "\n",
    "After preparing the dataset, we read the documents as below using the `pandas` library in Python. It is in a tabular format with columns for the filename, author, type of the document and text content. To refine our analysis, we also removed direct quotations of the *Chinese Regulation Act, 1884* in other documents to avoid bias. The number of quotes sentences removed is also recorded in the dataset. "
   ]
  },
  {
   "cell_type": "code",
   "execution_count": 1,
   "id": "1dd67d39",
   "metadata": {},
   "outputs": [
    {
     "data": {
      "text/html": [
       "<div>\n",
       "<style scoped>\n",
       "    .dataframe tbody tr th:only-of-type {\n",
       "        vertical-align: middle;\n",
       "    }\n",
       "\n",
       "    .dataframe tbody tr th {\n",
       "        vertical-align: top;\n",
       "    }\n",
       "\n",
       "    .dataframe thead th {\n",
       "        text-align: right;\n",
       "    }\n",
       "</style>\n",
       "<table border=\"1\" class=\"dataframe\">\n",
       "  <thead>\n",
       "    <tr style=\"text-align: right;\">\n",
       "      <th></th>\n",
       "      <th>filename</th>\n",
       "      <th>author</th>\n",
       "      <th>type</th>\n",
       "      <th>text</th>\n",
       "      <th>act_quote_sentences_removed</th>\n",
       "    </tr>\n",
       "  </thead>\n",
       "  <tbody>\n",
       "    <tr>\n",
       "      <th>0</th>\n",
       "      <td>regina_v_wing_chong.txt</td>\n",
       "      <td>Crease</td>\n",
       "      <td>case</td>\n",
       "      <td>CREASE, J. 1885. REGINA v. WING CHONG. \\n\\n14t...</td>\n",
       "      <td>12</td>\n",
       "    </tr>\n",
       "    <tr>\n",
       "      <th>1</th>\n",
       "      <td>wong_hoy_woon_v_duncan.txt</td>\n",
       "      <td>Crease</td>\n",
       "      <td>case</td>\n",
       "      <td>CREASE, J.\\n\\nWONG HOY WOON v. DUNCAN.\\n\\n1894...</td>\n",
       "      <td>0</td>\n",
       "    </tr>\n",
       "    <tr>\n",
       "      <th>2</th>\n",
       "      <td>regina_v_mee_wah.txt</td>\n",
       "      <td>Begbie</td>\n",
       "      <td>case</td>\n",
       "      <td>BRITISH COLUMBIA REPORTS.\\n\\nREGINA v. MEE WAH...</td>\n",
       "      <td>0</td>\n",
       "    </tr>\n",
       "    <tr>\n",
       "      <th>3</th>\n",
       "      <td>regina_v_victoria.txt</td>\n",
       "      <td>Begbie</td>\n",
       "      <td>case</td>\n",
       "      <td>OF BRITISH COLUMBIA.\\n\\nREGINA r, CORPORATION ...</td>\n",
       "      <td>0</td>\n",
       "    </tr>\n",
       "    <tr>\n",
       "      <th>4</th>\n",
       "      <td>quong_wing_v_the_king.txt</td>\n",
       "      <td>Fitzpatrick</td>\n",
       "      <td>case</td>\n",
       "      <td>QUONG WING v. THE KING. CAN.  \\n\\nSupreme Cour...</td>\n",
       "      <td>0</td>\n",
       "    </tr>\n",
       "    <tr>\n",
       "      <th>5</th>\n",
       "      <td>commission_on_chinese_imigration.txt</td>\n",
       "      <td>Powell</td>\n",
       "      <td>report</td>\n",
       "      <td>On the 4th of July, 1884, the following Commis...</td>\n",
       "      <td>0</td>\n",
       "    </tr>\n",
       "    <tr>\n",
       "      <th>6</th>\n",
       "      <td>chapleau_report_resume.txt</td>\n",
       "      <td>Chapleau</td>\n",
       "      <td>report</td>\n",
       "      <td>RESUMÉ.\\n\\n1. That Chinese labor is a most eff...</td>\n",
       "      <td>0</td>\n",
       "    </tr>\n",
       "    <tr>\n",
       "      <th>7</th>\n",
       "      <td>crease_commission.txt</td>\n",
       "      <td>Crease</td>\n",
       "      <td>report</td>\n",
       "      <td>The Hon. Mr. Justice CREASE, Judge of the Supr...</td>\n",
       "      <td>0</td>\n",
       "    </tr>\n",
       "    <tr>\n",
       "      <th>8</th>\n",
       "      <td>begbie_commission.txt</td>\n",
       "      <td>Begbie</td>\n",
       "      <td>report</td>\n",
       "      <td>Sir MATTHEW BEGBIE, Chief Justice of British C...</td>\n",
       "      <td>0</td>\n",
       "    </tr>\n",
       "    <tr>\n",
       "      <th>9</th>\n",
       "      <td>chinese_regulation_act_1884.txt</td>\n",
       "      <td>Others</td>\n",
       "      <td>act</td>\n",
       "      <td>An Act to regulate the Chinese population of B...</td>\n",
       "      <td>0</td>\n",
       "    </tr>\n",
       "  </tbody>\n",
       "</table>\n",
       "</div>"
      ],
      "text/plain": [
       "                               filename       author    type  \\\n",
       "0               regina_v_wing_chong.txt       Crease    case   \n",
       "1            wong_hoy_woon_v_duncan.txt       Crease    case   \n",
       "2                  regina_v_mee_wah.txt       Begbie    case   \n",
       "3                 regina_v_victoria.txt       Begbie    case   \n",
       "4             quong_wing_v_the_king.txt  Fitzpatrick    case   \n",
       "5  commission_on_chinese_imigration.txt       Powell  report   \n",
       "6            chapleau_report_resume.txt     Chapleau  report   \n",
       "7                 crease_commission.txt       Crease  report   \n",
       "8                 begbie_commission.txt       Begbie  report   \n",
       "9       chinese_regulation_act_1884.txt       Others     act   \n",
       "\n",
       "                                                text  \\\n",
       "0  CREASE, J. 1885. REGINA v. WING CHONG. \\n\\n14t...   \n",
       "1  CREASE, J.\\n\\nWONG HOY WOON v. DUNCAN.\\n\\n1894...   \n",
       "2  BRITISH COLUMBIA REPORTS.\\n\\nREGINA v. MEE WAH...   \n",
       "3  OF BRITISH COLUMBIA.\\n\\nREGINA r, CORPORATION ...   \n",
       "4  QUONG WING v. THE KING. CAN.  \\n\\nSupreme Cour...   \n",
       "5  On the 4th of July, 1884, the following Commis...   \n",
       "6  RESUMÉ.\\n\\n1. That Chinese labor is a most eff...   \n",
       "7  The Hon. Mr. Justice CREASE, Judge of the Supr...   \n",
       "8  Sir MATTHEW BEGBIE, Chief Justice of British C...   \n",
       "9  An Act to regulate the Chinese population of B...   \n",
       "\n",
       "   act_quote_sentences_removed  \n",
       "0                           12  \n",
       "1                            0  \n",
       "2                            0  \n",
       "3                            0  \n",
       "4                            0  \n",
       "5                            0  \n",
       "6                            0  \n",
       "7                            0  \n",
       "8                            0  \n",
       "9                            0  "
      ]
     },
     "execution_count": 1,
     "metadata": {},
     "output_type": "execute_result"
    }
   ],
   "source": [
    "import pandas as pd\n",
    "import numpy as np\n",
    "\n",
    "# Load the dataset\n",
    "df = pd.read_csv(\"../data/metadata_cleaned.csv\")\n",
    "\n",
    "df"
   ]
  },
  {
   "cell_type": "markdown",
   "id": "203115bc",
   "metadata": {},
   "source": [
    "Each document's length, measured by the number of characters, is displayed below for reference."
   ]
  },
  {
   "cell_type": "code",
   "execution_count": 54,
   "id": "d9f5fa23",
   "metadata": {},
   "outputs": [
    {
     "name": "stdout",
     "output_type": "stream",
     "text": [
      "                               Document  Length\n",
      "0               regina_v_wing_chong.txt   41172\n",
      "1            wong_hoy_woon_v_duncan.txt   13840\n",
      "2                  regina_v_mee_wah.txt   25026\n",
      "3                 regina_v_victoria.txt    8222\n",
      "4             quong_wing_v_the_king.txt   46810\n",
      "5  commission_on_chinese_imigration.txt    3380\n",
      "6            chapleau_report_resume.txt   10861\n",
      "7                 crease_commission.txt   30712\n",
      "8                 begbie_commission.txt   41180\n",
      "9       chinese_regulation_act_1884.txt   12828\n"
     ]
    }
   ],
   "source": [
    "# Summary the distribution of document lengths\n",
    "# Create a DataFrame to store the document lengths\n",
    "doc_lengths = []\n",
    "\n",
    "for row in df.iterrows():\n",
    "    text_length = len(row[1]['text'])\n",
    "    doc_lengths.append({'Document': row[1]['filename'], 'Length': text_length})\n",
    "\n",
    "# Convert to DataFrame and display\n",
    "doc_lengths_df = pd.DataFrame(doc_lengths)\n",
    "print(doc_lengths_df)\n"
   ]
  },
  {
   "cell_type": "markdown",
   "id": "a3c374a4",
   "metadata": {},
   "source": [
    "### Naive Word Embedding Analysis Using LEGAL-BERT\n",
    "\n",
    "The model we are using for creating the text embeddings is [LEGAL-BERT](https://huggingface.co/nlpaueb/legal-bert-base-uncased), it is a model trained on 12 GB of diverse English legal texts, including case law, legislation, and contracts and designed to capture the legal language and concepts. It is based on the **BERT architecture**, which is a transformer-based model that has been shown to be effective for various natural language processing tasks.\n",
    "\n",
    "The first thing we want to do is to create word embeddings for our full corpus, which is a collection of all the text documents in our dataset. Creating word embeddings on the full corpus allows us to capture the overall semantic meaning of the text as perceived by the model and find the most similar words to a given word in the corpus. This is useful for understanding the general context and meaning of the text, as well as for finding related terms that may not be explicitly mentioned in the text.\n",
    "\n",
    "We begin by removing punctuations from the text, "
   ]
  },
  {
   "cell_type": "code",
   "execution_count": 2,
   "id": "8c964705",
   "metadata": {},
   "outputs": [],
   "source": [
    "# Define a function to clean the text\n",
    "import re\n",
    "\n",
    "def clean_text(text):\n",
    "    \n",
    "    text = text.lower()\n",
    "    text = re.sub(r'[^\\w\\s]', '', text)  # Remove punctuation\n",
    "    \n",
    "    return text.strip()"
   ]
  },
  {
   "cell_type": "code",
   "execution_count": 3,
   "id": "d3f5cda5",
   "metadata": {},
   "outputs": [],
   "source": [
    "from nltk.tokenize import word_tokenize\n",
    "\n",
    "# Create the large corpus by joining all text from all authors\n",
    "all_text = \" \".join(df[\"text\"].tolist())\n",
    "\n",
    "clean_text = clean_text(all_text)"
   ]
  },
  {
   "cell_type": "code",
   "execution_count": 4,
   "id": "5f5e6609",
   "metadata": {},
   "outputs": [
    {
     "data": {
      "text/plain": [
       "BertModel(\n",
       "  (embeddings): BertEmbeddings(\n",
       "    (word_embeddings): Embedding(30522, 768, padding_idx=0)\n",
       "    (position_embeddings): Embedding(512, 768)\n",
       "    (token_type_embeddings): Embedding(2, 768)\n",
       "    (LayerNorm): LayerNorm((768,), eps=1e-12, elementwise_affine=True)\n",
       "    (dropout): Dropout(p=0.1, inplace=False)\n",
       "  )\n",
       "  (encoder): BertEncoder(\n",
       "    (layer): ModuleList(\n",
       "      (0-11): 12 x BertLayer(\n",
       "        (attention): BertAttention(\n",
       "          (self): BertSdpaSelfAttention(\n",
       "            (query): Linear(in_features=768, out_features=768, bias=True)\n",
       "            (key): Linear(in_features=768, out_features=768, bias=True)\n",
       "            (value): Linear(in_features=768, out_features=768, bias=True)\n",
       "            (dropout): Dropout(p=0.1, inplace=False)\n",
       "          )\n",
       "          (output): BertSelfOutput(\n",
       "            (dense): Linear(in_features=768, out_features=768, bias=True)\n",
       "            (LayerNorm): LayerNorm((768,), eps=1e-12, elementwise_affine=True)\n",
       "            (dropout): Dropout(p=0.1, inplace=False)\n",
       "          )\n",
       "        )\n",
       "        (intermediate): BertIntermediate(\n",
       "          (dense): Linear(in_features=768, out_features=3072, bias=True)\n",
       "          (intermediate_act_fn): GELUActivation()\n",
       "        )\n",
       "        (output): BertOutput(\n",
       "          (dense): Linear(in_features=3072, out_features=768, bias=True)\n",
       "          (LayerNorm): LayerNorm((768,), eps=1e-12, elementwise_affine=True)\n",
       "          (dropout): Dropout(p=0.1, inplace=False)\n",
       "        )\n",
       "      )\n",
       "    )\n",
       "  )\n",
       "  (pooler): BertPooler(\n",
       "    (dense): Linear(in_features=768, out_features=768, bias=True)\n",
       "    (activation): Tanh()\n",
       "  )\n",
       ")"
      ]
     },
     "execution_count": 4,
     "metadata": {},
     "output_type": "execute_result"
    }
   ],
   "source": [
    "# Load the tokenizer and model from Hugging Face\n",
    "from transformers import AutoTokenizer, AutoModel\n",
    "import torch\n",
    "\n",
    "# We will use the Legal-BERT model for this task\n",
    "tokenizer = AutoTokenizer.from_pretrained('nlpaueb/legal-bert-base-uncased')\n",
    "model = AutoModel.from_pretrained('nlpaueb/legal-bert-base-uncased')\n",
    "\n",
    "# set the model to evaluation mode\n",
    "model.eval() "
   ]
  },
  {
   "cell_type": "code",
   "execution_count": 5,
   "id": "c52c8c56",
   "metadata": {},
   "outputs": [
    {
     "name": "stdout",
     "output_type": "stream",
     "text": [
      "There are 4889 unique tokens in this corpus.\n"
     ]
    }
   ],
   "source": [
    "# Create the word embeddings\n",
    "# Tokenize the cleaned text into words\n",
    "tokens = word_tokenize(clean_text)\n",
    "\n",
    "# Get unique words to avoid redundant computation\n",
    "unique_tokens = list(set(tokens))\n",
    "\n",
    "# Print the shape of unique tokens\n",
    "print(f'There are {len(unique_tokens)} unique tokens in this corpus.')"
   ]
  },
  {
   "cell_type": "code",
   "execution_count": 6,
   "id": "b761e3e0",
   "metadata": {},
   "outputs": [
    {
     "name": "stderr",
     "output_type": "stream",
     "text": [
      "c:\\Users\\Kaiyan Zhang\\AppData\\Local\\Programs\\Python\\Python312\\Lib\\site-packages\\torch\\nn\\modules\\module.py:1762: FutureWarning: `encoder_attention_mask` is deprecated and will be removed in version 4.55.0 for `BertSdpaSelfAttention.forward`.\n",
      "  return forward_call(*args, **kwargs)\n"
     ]
    }
   ],
   "source": [
    "# Prepare a dictionary to store word embeddings\n",
    "word_embeddings = {}\n",
    "\n",
    "# Batch processing for efficiency\n",
    "batch_size = 32\n",
    "batches = [unique_tokens[i:i + batch_size] for i in range(0, len(unique_tokens), batch_size)]\n",
    "\n",
    "for batch in batches:\n",
    "    # Tokenize the batch\n",
    "    batch_inputs = tokenizer(batch, return_tensors='pt', padding=True, truncation=True, max_length=10)\n",
    "    with torch.no_grad():\n",
    "        batch_outputs = model(**batch_inputs)\n",
    "        # Use the [CLS] token embedding as the word embedding\n",
    "        for i, word in enumerate(batch):\n",
    "            word_embedding = batch_outputs.last_hidden_state[i, 0, :].numpy()\n",
    "            word_embeddings[word] = word_embedding"
   ]
  },
  {
   "cell_type": "code",
   "execution_count": 7,
   "id": "ee5a0200",
   "metadata": {},
   "outputs": [
    {
     "name": "stdout",
     "output_type": "stream",
     "text": [
      "Embedding for 'chinese':\n",
      "[-6.20929956e-01 -1.41669914e-01  6.38973951e-01  5.66694997e-02\n",
      "  2.49504417e-01  3.55757445e-01 -9.64457169e-02  3.54798347e-01\n",
      " -2.72701204e-01 -6.37608767e-01  1.72130004e-01  5.87600231e-01\n",
      "  5.80052547e-02 -1.98573306e-01 -6.22220993e-01  6.23441458e-01\n",
      " -2.84138501e-01 -2.01131850e-01 -1.16010487e-01  3.39486867e-01\n",
      " -1.49681792e-01  4.16030079e-01  4.64206189e-01 -4.62918758e-01\n",
      "  3.87408853e-01  6.31607652e-01  6.86673462e-01  2.19447494e-01\n",
      " -3.76842201e-01  1.29364863e-01 -2.28453383e-01 -2.85087019e-01\n",
      "  3.50299895e-01  4.33139503e-01 -4.69817609e-01  2.95414388e-01\n",
      "  5.21553159e-02 -2.85932124e-02  4.41666007e-01  2.89368480e-01\n",
      "  3.54161978e-01 -7.48490632e-01  7.74222836e-02 -1.15736835e-01\n",
      " -1.74301475e-01  1.22696489e-01 -2.15352607e+00 -3.29317093e-01\n",
      "  1.01303458e-02 -3.54923382e-02 -1.23484582e-01  6.59714282e-01\n",
      " -8.31694156e-03  6.29764497e-01  6.69251561e-01 -4.71155584e-01\n",
      "  7.91467354e-02 -6.24099374e-01 -4.18075711e-01 -6.55549914e-02\n",
      " -2.87118733e-01 -7.29588091e-01 -1.68598548e-01  1.50030822e-01\n",
      "  5.73546231e-01 -3.64863038e-01 -1.75638422e-01 -1.08312464e+00\n",
      " -8.72777045e-01  5.20283341e-01 -4.19047356e-01 -1.03994772e-01\n",
      " -4.50686663e-01  3.96263808e-01  4.59026873e-01  1.49249226e-01\n",
      " -9.73936677e-01  2.40058377e-01  5.98394834e-02  2.12372527e-01\n",
      " -5.36928058e-01 -2.63254791e-01 -1.00200519e-01 -2.81153798e-01\n",
      " -8.00029695e-01 -2.07510263e-01  1.99834585e-01  4.22091097e-01\n",
      " -4.92548853e-01  4.73332137e-01  2.41993725e-01  2.99992532e-01\n",
      " -6.62101805e-02  4.97656286e-01  6.22859597e-01 -1.12074003e-01\n",
      "  2.90469170e-01 -7.17187077e-02  1.00461102e+00 -4.98112887e-01\n",
      " -1.79656237e-01  1.90938503e-01 -2.20559061e-01 -1.83572412e-01\n",
      "  3.41635972e-01  3.36762846e-01  3.71979505e-01  2.52298228e-02\n",
      " -2.27320552e-01 -9.94918868e-02 -3.79481077e-01  1.15087226e-01\n",
      " -5.67131303e-02 -1.43991798e-01  2.93666482e-01 -2.44778529e-01\n",
      " -1.55897692e-01  3.21055874e-02  1.62579507e-01 -2.96471626e-01\n",
      "  3.47169191e-01  2.43933558e-01  3.24788690e-01  5.33173680e-01\n",
      "  7.26383626e-01 -2.29867995e-01 -3.03071707e-01 -2.68376768e-01\n",
      " -6.95385337e-01 -4.25722748e-01  4.37337130e-01  6.58007935e-02\n",
      "  3.43149225e-03  3.50311279e-01 -6.52863622e-01  8.04584146e-01\n",
      " -7.14763224e-01 -3.13350976e-01 -4.31784183e-01 -1.15973637e-01\n",
      "  5.64839691e-02  3.03973496e-01  9.12815481e-02  4.21348840e-01\n",
      "  1.21128201e-01  1.19176537e-01 -1.22158878e-01  8.35701168e-01\n",
      " -4.48836505e-01  2.71129847e-01  3.85445319e-02  9.48291063e-01\n",
      "  2.80741602e-01  5.03640592e-01  2.05556616e-01  2.82688320e-01\n",
      "  3.95921826e-01  2.34585017e-01 -4.72099602e-01  4.53259498e-02\n",
      "  8.21071938e-02  3.81634474e-01  2.54405200e-01  2.08593875e-01\n",
      "  2.25974157e-01 -1.33065522e-01 -4.37187612e-01  2.77443707e-01\n",
      "  3.75223011e-01  8.46717730e-02  6.87633157e-02 -6.03798091e-01\n",
      "  4.42020833e-01  1.27284899e-01 -1.15679063e-01  2.35863045e-01\n",
      " -1.95469931e-01  2.60744274e-01  2.57575095e-01 -9.72114503e-04\n",
      " -7.11989403e-03  2.02457681e-02 -3.01856250e-01 -3.68264824e-01\n",
      " -5.51048756e-01 -3.21638107e-01  6.82744801e-01  3.11158597e-01\n",
      "  6.41475201e-01  4.92584072e-02  3.97575051e-01  1.49251878e-01\n",
      " -6.21115148e-01  1.83911607e-01  9.18093994e-02 -3.95073116e-01\n",
      "  4.48636059e-03 -4.84976768e-01 -5.95896304e-01  4.45791148e-02\n",
      " -1.56988084e-01 -3.84183414e-02  5.43418348e-01 -8.11479092e-01\n",
      " -6.62249386e-01  3.90995383e-01  6.33010343e-02  5.95393836e-01\n",
      "  5.37799112e-02 -1.34044200e-01  7.78971165e-02  5.71762860e-01\n",
      "  7.11518079e-02 -5.18555701e-01 -6.77722543e-02 -1.98609218e-01\n",
      "  3.19237523e-02 -1.81521446e-01  7.71615386e-01  4.34639424e-01\n",
      " -3.50789547e-01 -6.15721047e-01  7.47690797e-01  1.04829222e-01\n",
      " -3.23299944e-01  4.18362141e-01 -4.87017900e-01  3.74183536e-01\n",
      "  1.56449273e-01 -5.77521548e-02  5.83280206e-01 -5.13220251e-01\n",
      " -2.18854100e-03 -2.09312946e-01  3.91384870e-01  3.79638702e-01\n",
      "  9.49216425e-01 -1.29741237e-01  5.69063306e-01 -4.44785506e-01\n",
      " -3.64393830e-01 -2.67691910e-01  1.04195893e-01  5.82311749e-01\n",
      " -1.04580969e-01 -3.69361848e-01 -2.09110811e-01 -4.69661951e-01\n",
      "  3.93494815e-02  1.20271072e-01 -4.09655809e-01  3.17582756e-01\n",
      " -4.20122355e-01 -1.83060527e-01 -1.00395709e-01  2.06323966e-01\n",
      " -1.38006851e-01 -4.76040810e-01  4.09804583e-01  3.76812190e-01\n",
      "  3.12000930e-01 -8.93614113e-01 -4.87620503e-01 -3.83996904e-01\n",
      "  1.66279912e-01 -4.89073694e-01  1.85237497e-01 -2.76643574e-01\n",
      "  2.62034088e-01  1.78466216e-01  3.37472558e-01  2.73906887e-01\n",
      " -2.62220383e-01 -3.90416145e-01 -4.20720190e-01  2.96501964e-02\n",
      " -6.88901782e-01  9.03950632e-02  4.92249221e-01 -1.56695545e-01\n",
      " -2.83631593e-01  3.26625034e-02 -6.74628764e-02  8.64049271e-02\n",
      "  9.33768451e-02  2.47449368e-01  1.16173588e-01 -4.40933466e-01\n",
      " -3.54221940e-01  4.36044246e-01 -4.43125516e-01 -1.34401396e-01\n",
      " -2.39204153e-01 -3.71705174e-01  4.45067547e-02 -1.50166914e-01\n",
      "  2.20735818e-01  8.04604143e-02 -4.51403528e-01 -3.34843814e-01\n",
      " -1.17283873e-01  9.54926550e-01  1.49068922e-01 -1.64130867e-01\n",
      "  2.71167696e-01  5.29190339e-02 -2.54569560e-01  5.92227936e-01\n",
      " -8.31328583e+00 -1.58776045e-01  2.74165452e-01  4.40410018e-01\n",
      "  3.51175398e-01 -1.75801247e-01 -4.99369167e-02 -3.76174986e-01\n",
      "  3.19188148e-01 -7.06144333e-01  8.99769068e-01  2.41788909e-01\n",
      "  4.14058030e-01  2.70290822e-01 -8.15664157e-02 -3.30294192e-01\n",
      " -1.47519931e-01 -6.20588362e-01 -4.30307984e-01 -9.92837697e-02\n",
      "  1.35646656e-01 -3.30278993e-01  8.26435164e-04 -3.72957140e-02\n",
      " -8.20025563e-01 -1.79837734e-01  2.61670411e-01  5.46909034e-01\n",
      "  2.47776508e-01 -9.14679348e-01  4.57372546e-01 -7.14825928e-01\n",
      "  2.61447102e-01  3.62202264e-02 -2.40433916e-01 -1.51181951e-01\n",
      "  5.14292456e-02  2.96004355e-01 -3.33741009e-02  7.91547775e-01\n",
      " -2.90189207e-01 -2.67834395e-01  1.55358255e-01 -3.04543316e-01\n",
      " -6.61973655e-03  5.82447290e-01 -8.84473324e-02 -2.95755386e-01\n",
      " -2.36821383e-01  2.25739777e-01  1.06621131e-01  4.18176949e-02\n",
      "  2.94192970e-01 -4.99745190e-01  6.70128882e-01 -4.35431786e-02\n",
      "  7.06657469e-01  7.02272058e-01 -1.19627364e-01 -7.91100383e-01\n",
      " -6.75487995e-01 -1.07149065e-01 -7.84962595e-01  4.35174704e-01\n",
      " -3.13441977e-02  2.44785011e-01 -8.73120725e-01  3.50022353e-02\n",
      "  2.09037378e-01 -1.19712971e-01 -1.83357909e-01  6.73410237e-01\n",
      "  6.20655060e-01 -4.46414083e-01 -4.69991937e-02 -2.27657735e-01\n",
      " -1.87436327e-01 -5.16896725e-01 -6.93054259e-01 -6.81385517e-01\n",
      " -7.97633290e-01 -5.03173769e-01  3.59278142e-01 -9.57255736e-02\n",
      " -4.03269604e-02 -4.18358952e-01  1.79500312e-01 -2.03033864e-01\n",
      "  4.86599207e-01  4.59470987e-01  8.80892158e-01 -8.17529619e-01\n",
      " -1.26835912e-01 -4.91106033e-01 -2.95128614e-01 -4.75888133e-01\n",
      " -5.21908216e-02  2.00935096e-01  3.80766988e-01  1.80223122e-01\n",
      "  4.48103130e-01 -3.33189778e-02 -4.20342296e-01 -7.12261915e-01\n",
      " -3.03021073e-01  1.31230146e-01 -6.22782826e-01  3.06484938e-01\n",
      " -6.40364215e-02 -3.02132308e-01  8.56923699e-01  1.15723848e-01\n",
      "  3.39410037e-01  5.69929004e-01  1.52576774e-01 -5.94419658e-01\n",
      " -1.86862931e-01 -5.08795083e-01  2.31838319e-02 -3.78885031e-01\n",
      " -1.16499260e-01  5.03729165e-01 -6.11288905e-01  4.04664040e-01\n",
      " -1.57213137e-01  2.46463999e-01 -8.03821445e-01  2.13734694e-02\n",
      "  1.84446663e-01  1.37956098e-01  4.44984883e-01  3.24014008e-01\n",
      "  5.92168689e-01  4.99686182e-01 -2.96122074e-01 -1.36218712e-01\n",
      "  3.44956547e-01  3.80547382e-02  2.13075086e-01 -1.07691221e-01\n",
      " -2.26502255e-01  4.00369644e-01  4.69331175e-01  4.01728719e-01\n",
      "  1.76137567e-01 -5.67294478e-01  9.60933790e-02  6.66244209e-01\n",
      "  5.86347163e-01 -1.36371404e-01  3.98506761e-01 -6.31231308e-01\n",
      "  1.67884022e-01  3.80158991e-01 -1.42207444e-02 -6.25287741e-03\n",
      "  8.95560384e-02 -3.62140477e-01  1.87743872e-01  4.58195776e-01\n",
      " -7.12240458e-01 -1.88387841e-01 -1.19760895e+00 -3.01312715e-01\n",
      "  1.09179556e-01  7.96130240e-01 -5.37170544e-02  1.74531769e-02\n",
      "  3.53715181e-01  1.95554882e-01  7.30575204e-01 -5.38034201e-01\n",
      "  4.53047007e-01  1.16199367e-01  1.04140759e-01  1.75456032e-02\n",
      " -1.89646021e-01 -4.50457111e-02 -2.96386540e-01  8.41702640e-01\n",
      "  1.34698525e-01  2.22343564e-01  3.41144174e-01  3.16154957e-01\n",
      " -1.96809396e-01 -1.29942954e-01  1.70184225e-01 -2.71234393e-01\n",
      "  3.57916534e-01  6.67839423e-02 -4.23583910e-02 -4.82594728e-01\n",
      "  1.66769296e-01  4.94927704e-01  4.79743063e-01  3.16114455e-01\n",
      "  2.30504364e-01  3.55769023e-02 -5.56551456e-01  3.27263087e-01\n",
      "  7.53074363e-02  4.10910100e-02  4.74388115e-02 -7.82817900e-02\n",
      " -3.72774750e-01  1.69891298e-01  7.65117764e-01 -2.97236681e-01\n",
      "  9.89364535e-02 -1.80658445e-01 -3.42060685e-01  2.08858326e-02\n",
      " -4.04214978e-01  2.49380052e-01  3.97761703e-01  6.12111926e-01\n",
      "  2.35218033e-01  5.57211339e-01 -2.22379059e-01  8.74022245e-02\n",
      " -1.54909298e-01  2.01315686e-01  5.51343322e-01  4.11243141e-01\n",
      "  1.35008991e-01 -7.33748376e-01  1.75054118e-01  9.85418335e-02\n",
      " -2.71403968e-01 -4.27066609e-02 -7.39626288e-02 -8.95793512e-02\n",
      " -6.73125267e-01  3.34185362e-03  4.13883299e-01 -8.63712072e-01\n",
      " -7.17986166e-01  4.02059108e-01 -5.30343503e-03 -4.63847704e-02\n",
      " -9.58980799e-01 -5.41762769e-01 -2.94652343e-01 -1.40150785e-01\n",
      " -5.82643487e-02 -3.00248891e-01  4.91785020e-01 -7.32115865e-01\n",
      "  7.90896490e-02  6.98811293e-01 -1.66678444e-01  2.70790845e-01\n",
      " -3.74785125e-01  5.75993583e-02  2.90283650e-01  2.36416310e-01\n",
      " -7.49478340e-01 -5.69795251e-01 -1.31442502e-01  6.77229762e-02\n",
      "  5.24142459e-02 -2.42648467e-01 -3.51804316e-01 -2.79660672e-01\n",
      "  2.92793125e-01  2.59541478e-02  1.31968647e-01 -1.84148461e-01\n",
      " -3.91101480e-01  3.43214124e-02  3.82385030e-02  3.72994915e-02\n",
      " -2.93730259e-01  5.79028249e-01  5.89166403e-01  2.75530010e-01\n",
      "  5.50004840e-03  2.74638981e-01 -1.79950923e-01  2.87223980e-02\n",
      " -1.35058343e-01 -4.60491091e-01 -8.06818187e-01  3.41826946e-01\n",
      " -4.05554414e-01  2.48564854e-01  2.85961777e-01 -8.20883363e-02\n",
      " -1.83619842e-01 -4.03567672e-01  4.51681554e-01  6.78313673e-01\n",
      " -2.61587054e-01 -6.08418941e-01 -7.37745225e-01  5.62529683e-01\n",
      "  2.67416030e-01  3.26011866e-01 -3.88305783e-01  1.19363032e-01\n",
      "  1.32869795e-01 -2.45447546e-01  2.76360720e-01  4.10816789e-01\n",
      " -1.66601807e-01 -4.75261152e-01  4.95802276e-02 -4.01173294e-01\n",
      "  4.47842479e-02  2.52735853e-01  4.99048799e-01 -2.71846294e-01\n",
      " -2.30236679e-01 -4.19545352e-01 -6.44784272e-01 -2.02411860e-02\n",
      "  1.57229856e-01  5.70324719e-01 -4.36489373e-01 -5.75618327e-01\n",
      " -3.09315890e-01  7.87956774e-01  1.20356046e-01  1.53235763e-01\n",
      " -3.91700119e-02 -6.28403127e-01 -5.95002592e-01  2.11278677e-01\n",
      " -1.00958347e-01 -6.25989020e-01 -1.93989336e-01  2.68235356e-01\n",
      "  6.01909697e-01 -1.00548573e-01 -7.74189308e-02 -6.57544732e-02\n",
      "  1.52519777e-01  2.57917996e-02  2.68099010e-02 -1.81484312e-01\n",
      "  9.75855887e-02 -3.44188064e-01 -4.13170643e-02  2.30506361e-01\n",
      "  4.41174924e-01 -4.94555026e-01 -5.63982010e-01 -3.73879462e-01\n",
      " -1.57981247e-01 -1.60825193e-01  6.00513339e-01  1.28841642e-02\n",
      " -1.66598916e-01  2.62471616e-01 -4.88434464e-01  1.59599692e-01\n",
      "  8.19031179e-01  3.17419261e-01  2.73416519e-01 -2.63669342e-01\n",
      "  4.64785457e-01 -6.24555834e-02  4.31151867e-01 -3.60418260e-02\n",
      " -2.06647277e-01  4.98503923e-01 -2.39020959e-01  2.77610064e-01\n",
      " -2.38970906e-01  2.57991642e-01 -4.60961968e-01 -6.56904638e-01\n",
      " -5.68882048e-01  3.67466897e-01  1.33221045e-01  6.14784420e-01\n",
      " -6.97932363e-01  1.25866085e-01 -7.44488120e-01  7.49795198e-01\n",
      "  1.52957171e-01 -6.04382813e-01 -5.13626337e-02 -1.60399359e-02\n",
      " -2.52286434e-01  2.35126168e-01  2.17649221e-01 -1.34040356e-01\n",
      " -3.57570648e-01  2.62209028e-01  8.41782987e-02  3.69732797e-01\n",
      " -1.52155936e-01 -1.49425477e-01  2.26673886e-01 -1.80154204e-01\n",
      "  3.90131682e-01 -1.35756254e-01  3.67597282e-01 -1.23757668e-01\n",
      " -5.05584955e-01 -1.76664218e-01  4.05613303e-01  2.53209800e-01\n",
      " -6.05255246e-01 -4.27263796e-01  1.87023267e-01 -7.18621790e-01\n",
      " -3.03840339e-01 -9.55155343e-02  5.01942158e-01  8.24584484e-01\n",
      "  2.96675533e-01 -5.18148124e-01  3.41293961e-01 -4.17495072e-01\n",
      " -5.55484295e-01  4.51619178e-01  2.32937664e-01  2.70074666e-01\n",
      "  2.09832400e-01 -5.74077368e-01  1.88415691e-01  5.79990566e-01\n",
      " -3.45205307e-01  6.84873685e-02 -1.38211906e-01  4.09526706e-01\n",
      "  6.40893579e-01  5.76397896e-01 -4.55712646e-01 -4.62623239e-01\n",
      " -2.42349565e-01  6.17270052e-01  2.84024298e-01  2.09292769e-03\n",
      " -3.66119117e-01  4.20001596e-01 -3.87326509e-01 -3.73405725e-01\n",
      "  2.78264396e-02  2.48537898e-01 -7.01753974e-01 -1.90863177e-01\n",
      " -4.03226405e-01  4.49352920e-01  1.93640038e-01  1.57222137e-01\n",
      "  5.84116727e-02 -2.18468346e-02 -7.76933804e-02  5.18231802e-02\n",
      "  2.96478182e-01 -5.23954153e-01  1.57790691e-01 -1.08946666e-01\n",
      "  5.36393166e-01 -1.97972674e-02  3.74067098e-01 -3.51414710e-01]\n"
     ]
    }
   ],
   "source": [
    "# Print embedding for the word of interest 'chinese'\n",
    "\n",
    "print(f\"Embedding for 'chinese':\\n{word_embeddings.get('chinese')}\")"
   ]
  },
  {
   "cell_type": "code",
   "execution_count": 8,
   "id": "4a8d4af5",
   "metadata": {},
   "outputs": [
    {
     "name": "stdout",
     "output_type": "stream",
     "text": [
      "Top 10 most similar words to 'chinese':\n",
      "japanese: 0.8790\n",
      "chong: 0.8652\n",
      "alien: 0.8581\n",
      "fourteen: 0.8564\n",
      "jaw: 0.8557\n",
      "king: 0.8519\n",
      "hong: 0.8516\n",
      "contradiction: 0.8485\n",
      "cousin: 0.8480\n",
      "inferior: 0.8472\n"
     ]
    }
   ],
   "source": [
    "# Compute cosine similarity between all words with Chinese in the model\n",
    "from scipy.spatial.distance import cosine\n",
    "\n",
    "similarity_scores = {}\n",
    "\n",
    "for other_word in word_embeddings.keys():\n",
    "    if other_word != \"chinese\":\n",
    "        similarity = 1 - cosine(word_embeddings[\"chinese\"], word_embeddings[other_word])\n",
    "        similarity_scores[other_word] = similarity\n",
    "\n",
    "# Sort by cosine similarity\n",
    "sorted_similarity = sorted(similarity_scores.items(), key=lambda x: x[1], reverse=True)\n",
    "\n",
    "# Print the top 10 most similar words\n",
    "print(\"Top 10 most similar words to 'chinese':\")\n",
    "for word, score in sorted_similarity[:10]:\n",
    "    print(f\"{word}: {score:.4f}\")"
   ]
  },
  {
   "cell_type": "code",
   "execution_count": 9,
   "id": "fc0dc1b7",
   "metadata": {},
   "outputs": [
    {
     "name": "stdout",
     "output_type": "stream",
     "text": [
      "Top 10 most similar words to 'chinaman'\n",
      "provei: 0.9922\n",
      "clamor: 0.9916\n",
      "totally: 0.9916\n",
      "today: 0.9914\n",
      "chinamen: 0.9911\n",
      "interred: 0.9910\n",
      "unequalled: 0.9909\n",
      "surely: 0.9906\n",
      "semitropical: 0.9904\n",
      "quickly: 0.9904\n"
     ]
    }
   ],
   "source": [
    "# Compute cosine similarity between all words with Chinaman in the model\n",
    "\n",
    "similarity_scores = {}\n",
    "\n",
    "for other_word in word_embeddings.keys():\n",
    "    if other_word != \"chinaman\":\n",
    "        similarity = 1 - cosine(word_embeddings[\"chinaman\"], word_embeddings[other_word])\n",
    "        similarity_scores[other_word] = similarity\n",
    "\n",
    "# Sort by cosine similarity\n",
    "sorted_similarity = sorted(similarity_scores.items(), key=lambda x: x[1], reverse=True)\n",
    "\n",
    "# Print the top 10 most similar words\n",
    "print(\"Top 10 most similar words to 'chinaman'\")\n",
    "for word, score in sorted_similarity[:10]:\n",
    "    print(f\"{word}: {score:.4f}\")"
   ]
  },
  {
   "cell_type": "code",
   "execution_count": 10,
   "id": "bda9ab27",
   "metadata": {},
   "outputs": [],
   "source": [
    "# Generate a t-SNE plot for visualization\n",
    "from sklearn.manifold import TSNE\n",
    "tsne = TSNE(n_components=2, random_state=42)\n",
    "\n",
    "embeddings = np.array(list(word_embeddings.values()))\n",
    "tsne_results = tsne.fit_transform(embeddings)"
   ]
  },
  {
   "cell_type": "code",
   "execution_count": 11,
   "id": "0ab76d8e",
   "metadata": {},
   "outputs": [
    {
     "data": {
      "application/vnd.plotly.v1+json": {
       "config": {
        "plotlyServerURL": "https://plot.ly"
       },
       "data": [
        {
         "customdata": [
          [
           "23rd"
          ],
          [
           "ireland"
          ],
          [
           "cayenne"
          ],
          [
           "last"
          ],
          [
           "negotiate"
          ],
          [
           "verdict"
          ],
          [
           "consuls"
          ],
          [
           "interpretation"
          ],
          [
           "slept"
          ],
          [
           "duff"
          ],
          [
           "antipathy"
          ],
          [
           "language"
          ],
          [
           "see"
          ],
          [
           "lee"
          ],
          [
           "accordingly"
          ],
          [
           "books"
          ],
          [
           "apollo"
          ],
          [
           "contributed"
          ],
          [
           "procurable"
          ],
          [
           "manufactories"
          ],
          [
           "professed"
          ],
          [
           "modified"
          ],
          [
           "plainly"
          ],
          [
           "occupa"
          ],
          [
           "miserydomestic"
          ],
          [
           "swarming"
          ],
          [
           "feesdirect"
          ],
          [
           "probandi"
          ],
          [
           "applicable"
          ],
          [
           "remote"
          ],
          [
           "exodus"
          ],
          [
           "seeking"
          ],
          [
           "unfitness"
          ],
          [
           "sought"
          ],
          [
           "irrespective"
          ],
          [
           "nevertheless"
          ],
          [
           "sack"
          ],
          [
           "take"
          ],
          [
           "b"
          ],
          [
           "tolerate"
          ],
          [
           "plea"
          ],
          [
           "quarters"
          ],
          [
           "subsistence"
          ],
          [
           "portuguese"
          ],
          [
           "houses"
          ],
          [
           "instead"
          ],
          [
           "manufactory"
          ],
          [
           "undoubted"
          ],
          [
           "noscitur"
          ],
          [
           "noted"
          ],
          [
           "influx"
          ],
          [
           "jj"
          ],
          [
           "frequents"
          ],
          [
           "invites"
          ],
          [
           "punished"
          ],
          [
           "todd"
          ],
          [
           "pawnbroker"
          ],
          [
           "ready"
          ],
          [
           "wilson"
          ],
          [
           "negotiation"
          ],
          [
           "savings"
          ],
          [
           "field"
          ],
          [
           "especially"
          ],
          [
           "boundary"
          ],
          [
           "creation"
          ],
          [
           "languishing"
          ],
          [
           "witness"
          ],
          [
           "appoint"
          ],
          [
           "streets"
          ],
          [
           "interpret"
          ],
          [
           "like"
          ],
          [
           "licensee"
          ],
          [
           "gray"
          ],
          [
           "1902"
          ],
          [
           "examined"
          ],
          [
           "develop"
          ],
          [
           "use"
          ],
          [
           "coast"
          ],
          [
           "principiinot"
          ],
          [
           "onus"
          ],
          [
           "cent"
          ],
          [
           "feared"
          ],
          [
           "argument"
          ],
          [
           "thence"
          ],
          [
           "whatever"
          ],
          [
           "shillings"
          ],
          [
           "score"
          ],
          [
           "incubation"
          ],
          [
           "press"
          ],
          [
           "witnesess"
          ],
          [
           "q"
          ],
          [
           "ie"
          ],
          [
           "productive"
          ],
          [
           "constitutional"
          ],
          [
           "91st"
          ],
          [
           "citizen"
          ],
          [
           "absence"
          ],
          [
           "dishes"
          ],
          [
           "characteristics"
          ],
          [
           "none"
          ],
          [
           "interested"
          ],
          [
           "v"
          ],
          [
           "veil"
          ],
          [
           "classified"
          ],
          [
           "cases"
          ],
          [
           "yet"
          ],
          [
           "exactly"
          ],
          [
           "offers"
          ],
          [
           "thompson"
          ],
          [
           "assert"
          ],
          [
           "amusement"
          ],
          [
           "title"
          ],
          [
           "household"
          ],
          [
           "presidential"
          ],
          [
           "divorce"
          ],
          [
           "surpass"
          ],
          [
           "correctness"
          ],
          [
           "faithful"
          ],
          [
           "desires"
          ],
          [
           "visitors"
          ],
          [
           "admit"
          ],
          [
           "call"
          ],
          [
           "poorthrough"
          ],
          [
           "splitting"
          ],
          [
           "abridged"
          ],
          [
           "advert"
          ],
          [
           "presents"
          ],
          [
           "arbitrators"
          ],
          [
           "reserves"
          ],
          [
           "reflection"
          ],
          [
           "felt"
          ],
          [
           "topics"
          ],
          [
           "addition"
          ],
          [
           "carefully"
          ],
          [
           "subjected"
          ],
          [
           "driven"
          ],
          [
           "power"
          ],
          [
           "thirdlythe"
          ],
          [
           "bodies"
          ],
          [
           "contact"
          ],
          [
           "exclusively"
          ],
          [
           "herself"
          ],
          [
           "union"
          ],
          [
           "pilfering"
          ],
          [
           "employ"
          ],
          [
           "patent"
          ],
          [
           "skin"
          ],
          [
           "return"
          ],
          [
           "reign"
          ],
          [
           "avoid"
          ],
          [
           "giving"
          ],
          [
           "intelligence"
          ],
          [
           "merely"
          ],
          [
           "accessible"
          ],
          [
           "bothand"
          ],
          [
           "universally"
          ],
          [
           "thereby"
          ],
          [
           "semite"
          ],
          [
           "lawfully"
          ],
          [
           "expands"
          ],
          [
           "trust"
          ],
          [
           "possibility"
          ],
          [
           "lights"
          ],
          [
           "inspire"
          ],
          [
           "school"
          ],
          [
           "stakenets"
          ],
          [
           "impost"
          ],
          [
           "districts"
          ],
          [
           "notice"
          ],
          [
           "bodily"
          ],
          [
           "female"
          ],
          [
           "infamous"
          ],
          [
           "plate"
          ],
          [
           "then"
          ],
          [
           "travellers"
          ],
          [
           "have"
          ],
          [
           "servant"
          ],
          [
           "recoverable"
          ],
          [
           "clearly"
          ],
          [
           "ambassadors"
          ],
          [
           "purposes"
          ],
          [
           "burdens"
          ],
          [
           "provides"
          ],
          [
           "outcry"
          ],
          [
           "naglee"
          ],
          [
           "pacific"
          ],
          [
           "these"
          ],
          [
           "allegiance"
          ],
          [
           "information"
          ],
          [
           "conducted"
          ],
          [
           "attended"
          ],
          [
           "mingled"
          ],
          [
           "noticed"
          ],
          [
           "australia"
          ],
          [
           "scandalized"
          ],
          [
           "manifested"
          ],
          [
           "diminished"
          ],
          [
           "columbia"
          ],
          [
           "complain"
          ],
          [
           "indocaucasian"
          ],
          [
           "points"
          ],
          [
           "settlement"
          ],
          [
           "construed"
          ],
          [
           "washburn"
          ],
          [
           "pt"
          ],
          [
           "418"
          ],
          [
           "raise"
          ],
          [
           "looked"
          ],
          [
           "attracted"
          ],
          [
           "province"
          ],
          [
           "assignment"
          ],
          [
           "depends"
          ],
          [
           "mousseau"
          ],
          [
           "aim"
          ],
          [
           "prepared"
          ],
          [
           "she"
          ],
          [
           "prolific"
          ],
          [
           "therewith"
          ],
          [
           "divided"
          ],
          [
           "forever"
          ],
          [
           "latter"
          ],
          [
           "very"
          ],
          [
           "secrecy"
          ],
          [
           "best"
          ],
          [
           "twentysix"
          ],
          [
           "italicized"
          ],
          [
           "going"
          ],
          [
           "succeed"
          ],
          [
           "1860"
          ],
          [
           "banish"
          ],
          [
           "necessaries"
          ],
          [
           "davie"
          ],
          [
           "worse"
          ],
          [
           "flumes"
          ],
          [
           "appealed"
          ],
          [
           "examine"
          ],
          [
           "suffered"
          ],
          [
           "fisheries"
          ],
          [
           "386"
          ],
          [
           "more"
          ],
          [
           "scarceness"
          ],
          [
           "between"
          ],
          [
           "masters"
          ],
          [
           "shores"
          ],
          [
           "effectuate"
          ],
          [
           "intelligent"
          ],
          [
           "attend"
          ],
          [
           "introduction"
          ],
          [
           "qbd"
          ],
          [
           "cling"
          ],
          [
           "sometimes"
          ],
          [
           "drunk"
          ],
          [
           "ceased"
          ],
          [
           "prostrate"
          ],
          [
           "confidence"
          ],
          [
           "assembly"
          ],
          [
           "what"
          ],
          [
           "subsist"
          ],
          [
           "extremely"
          ],
          [
           "distasteful"
          ],
          [
           "decide"
          ],
          [
           "abuse"
          ],
          [
           "numerous"
          ],
          [
           "pettyfitzmaurice"
          ],
          [
           "clients"
          ],
          [
           "touching"
          ],
          [
           "allows"
          ],
          [
           "names"
          ],
          [
           "kalends"
          ],
          [
           "situated"
          ],
          [
           "pen"
          ],
          [
           "effort"
          ],
          [
           "1700"
          ],
          [
           "174"
          ],
          [
           "expect"
          ],
          [
           "populated"
          ],
          [
           "racial"
          ],
          [
           "readily"
          ],
          [
           "housekeepers"
          ],
          [
           "reaching"
          ],
          [
           "assuming"
          ],
          [
           "founded"
          ],
          [
           "unequalled"
          ],
          [
           "induce"
          ],
          [
           "scrutiny"
          ],
          [
           "vice"
          ],
          [
           "relations"
          ],
          [
           "moreover"
          ],
          [
           "measure"
          ],
          [
           "words"
          ],
          [
           "regulationsvictoria"
          ],
          [
           "dunkerron"
          ],
          [
           "subversive"
          ],
          [
           "committed"
          ],
          [
           "fain"
          ],
          [
           "handloom"
          ],
          [
           "normal"
          ],
          [
           "pursue"
          ],
          [
           "swamp"
          ],
          [
           "whim"
          ],
          [
           "extinguish"
          ],
          [
           "petty"
          ],
          [
           "commission"
          ],
          [
           "replace"
          ],
          [
           "quong"
          ],
          [
           "thisthat"
          ],
          [
           "valid"
          ],
          [
           "constrained"
          ],
          [
           "turbulent"
          ],
          [
           "good"
          ],
          [
           "order"
          ],
          [
           "means"
          ],
          [
           "inquiries"
          ],
          [
           "cattle"
          ],
          [
           "tout"
          ],
          [
           "welcoming"
          ],
          [
           "covered"
          ],
          [
           "form"
          ],
          [
           "sole"
          ],
          [
           "simpliciter"
          ],
          [
           "honorable"
          ],
          [
           "impossibility"
          ],
          [
           "dues"
          ],
          [
           "mixed"
          ],
          [
           "exertion"
          ],
          [
           "chargeable"
          ],
          [
           "status"
          ],
          [
           "cigars"
          ],
          [
           "differences"
          ],
          [
           "occasion"
          ],
          [
           "accepting"
          ],
          [
           "exceed"
          ],
          [
           "settling"
          ],
          [
           "involve"
          ],
          [
           "viscount"
          ],
          [
           "restrict"
          ],
          [
           "securely"
          ],
          [
           "bosses"
          ],
          [
           "legistature"
          ],
          [
           "prove"
          ],
          [
           "restriction"
          ],
          [
           "bestow"
          ],
          [
           "induced"
          ],
          [
           "railway"
          ],
          [
           "adopting"
          ],
          [
           "industrious"
          ],
          [
           "concurrent"
          ],
          [
           "portland"
          ],
          [
           "6th"
          ],
          [
           "statethe"
          ],
          [
           "avocation"
          ],
          [
           "profit"
          ],
          [
           "named"
          ],
          [
           "reported"
          ],
          [
           "die"
          ],
          [
           "demand"
          ],
          [
           "french"
          ],
          [
           "obviously"
          ],
          [
           "purchasing"
          ],
          [
           "concern"
          ],
          [
           "modes"
          ],
          [
           "or"
          ],
          [
           "adolphe"
          ],
          [
           "peace"
          ],
          [
           "occurring"
          ],
          [
           "exaggeration"
          ],
          [
           "secretary"
          ],
          [
           "fancied"
          ],
          [
           "immoral"
          ],
          [
           "shave"
          ],
          [
           "commissioners"
          ],
          [
           "innocuous"
          ],
          [
           "r"
          ],
          [
           "emergency"
          ],
          [
           "solid"
          ],
          [
           "shovels"
          ],
          [
           "answers"
          ],
          [
           "attempting"
          ],
          [
           "pox"
          ],
          [
           "affording"
          ],
          [
           "clanmaurice"
          ],
          [
           "placed"
          ],
          [
           "event"
          ],
          [
           "deliberately"
          ],
          [
           "quesnelle"
          ],
          [
           "ordered"
          ],
          [
           "collectors"
          ],
          [
           "doing"
          ],
          [
           "especial"
          ],
          [
           "prejudices"
          ],
          [
           "lexicon"
          ],
          [
           "driving"
          ],
          [
           "votes"
          ],
          [
           "s"
          ],
          [
           "authority"
          ],
          [
           "early"
          ],
          [
           "whereas"
          ],
          [
           "locality"
          ],
          [
           "disproved"
          ],
          [
           "suppressed"
          ],
          [
           "circumstance"
          ],
          [
           "michael"
          ],
          [
           "uncertain"
          ],
          [
           "economies"
          ],
          [
           "horses"
          ],
          [
           "opening"
          ],
          [
           "work"
          ],
          [
           "remarks"
          ],
          [
           "eight"
          ],
          [
           "institution"
          ],
          [
           "danger"
          ],
          [
           "existing"
          ],
          [
           "quoted"
          ],
          [
           "clauses"
          ],
          [
           "reasonable"
          ],
          [
           "warranted"
          ],
          [
           "comparable"
          ],
          [
           "100"
          ],
          [
           "discussing"
          ],
          [
           "licenses"
          ],
          [
           "hold"
          ],
          [
           "4"
          ],
          [
           "obstacle"
          ],
          [
           "active"
          ],
          [
           "injurious"
          ],
          [
           "sin"
          ],
          [
           "touch"
          ],
          [
           "bono"
          ],
          [
           "91"
          ],
          [
           "secret"
          ],
          [
           "monopolies"
          ],
          [
           "honesty"
          ],
          [
           "expulsion"
          ],
          [
           "meeting"
          ],
          [
           "provisions"
          ],
          [
           "find"
          ],
          [
           "really"
          ],
          [
           "anglochinese"
          ],
          [
           "feet"
          ],
          [
           "5th"
          ],
          [
           "social"
          ],
          [
           "contradicting"
          ],
          [
           "enquirywhich"
          ],
          [
           "brotherhoods"
          ],
          [
           "only"
          ],
          [
           "together"
          ],
          [
           "termed"
          ],
          [
           "instance"
          ],
          [
           "joseph"
          ],
          [
           "where"
          ],
          [
           "permission"
          ],
          [
           "confirm"
          ],
          [
           "removal"
          ],
          [
           "bucks"
          ],
          [
           "disregarding"
          ],
          [
           "households"
          ],
          [
           "provide"
          ],
          [
           "mcnaughton"
          ],
          [
           "clanse"
          ],
          [
           "sold"
          ],
          [
           "wants"
          ],
          [
           "harmless"
          ],
          [
           "stole"
          ],
          [
           "goods"
          ],
          [
           "drew"
          ],
          [
           "exclusion"
          ],
          [
           "apportionment"
          ],
          [
           "chandler"
          ],
          [
           "assigned"
          ],
          [
           "advent"
          ],
          [
           "compulsorily"
          ],
          [
           "utilization"
          ],
          [
           "difficulty"
          ],
          [
           "soon"
          ],
          [
           "quickly"
          ],
          [
           "exhumation"
          ],
          [
           "counsel"
          ],
          [
           "susceptible"
          ],
          [
           "election"
          ],
          [
           "husband"
          ],
          [
           "n"
          ],
          [
           "prescribed"
          ],
          [
           "tyranny"
          ],
          [
           "insolvency"
          ],
          [
           "intolerable"
          ],
          [
           "forbidding"
          ],
          [
           "itself"
          ],
          [
           "granted"
          ],
          [
           "controversy"
          ],
          [
           "pause"
          ],
          [
           "laundry"
          ],
          [
           "asiatic"
          ],
          [
           "lamentably"
          ],
          [
           "existence"
          ],
          [
           "utmost"
          ],
          [
           "distinctly"
          ],
          [
           "toilet"
          ],
          [
           "dwell"
          ],
          [
           "postponed"
          ],
          [
           "prolonged"
          ],
          [
           "belief"
          ],
          [
           "taxed"
          ],
          [
           "proof"
          ],
          [
           "abdicate"
          ],
          [
           "england"
          ],
          [
           "gaining"
          ],
          [
           "precede"
          ],
          [
           "summoning"
          ],
          [
           "special"
          ],
          [
           "214"
          ],
          [
           "instrument"
          ],
          [
           "unintelligible"
          ],
          [
           "hard"
          ],
          [
           "assent"
          ],
          [
           "frenchmen"
          ],
          [
           "consists"
          ],
          [
           "7500"
          ],
          [
           "until"
          ],
          [
           "vattell"
          ],
          [
           "retain"
          ],
          [
           "depend"
          ],
          [
           "foundation"
          ],
          [
           "us"
          ],
          [
           "bcr"
          ],
          [
           "supreme"
          ],
          [
           "reed"
          ],
          [
           "touched"
          ],
          [
           "history"
          ],
          [
           "notion"
          ],
          [
           "raised"
          ],
          [
           "factory"
          ],
          [
           "end"
          ],
          [
           "provinceabrogates"
          ],
          [
           "sessional"
          ],
          [
           "preliminary"
          ],
          [
           "8th"
          ],
          [
           "shop"
          ],
          [
           "bread"
          ],
          [
           "bakers"
          ],
          [
           "73"
          ],
          [
           "competitors"
          ],
          [
           "most"
          ],
          [
           "appalling"
          ],
          [
           "extensive"
          ],
          [
           "keith"
          ],
          [
           "stride"
          ],
          [
           "persecuted"
          ],
          [
           "pages"
          ],
          [
           "relating"
          ],
          [
           "ascertained"
          ],
          [
           "graveyards"
          ],
          [
           "certainty"
          ],
          [
           "face"
          ],
          [
           "handicrafts"
          ],
          [
           "duration"
          ],
          [
           "later"
          ],
          [
           "taxconstruction"
          ],
          [
           "standpoint"
          ],
          [
           "figures"
          ],
          [
           "chicken"
          ],
          [
           "20"
          ],
          [
           "clashes"
          ],
          [
           "ports"
          ],
          [
           "evince"
          ],
          [
           "stamp"
          ],
          [
           "parrotts"
          ],
          [
           "conclusions"
          ],
          [
           "resolution"
          ],
          [
           "enacting"
          ],
          [
           "due"
          ],
          [
           "disease"
          ],
          [
           "licence"
          ],
          [
           "remains"
          ],
          [
           "thought"
          ],
          [
           "amity"
          ],
          [
           "provbegbie"
          ],
          [
           "custom"
          ],
          [
           "extreme"
          ],
          [
           "fixing"
          ],
          [
           "damages"
          ],
          [
           "revision"
          ],
          [
           "efforts"
          ],
          [
           "st"
          ],
          [
           "mines"
          ],
          [
           "incline"
          ],
          [
           "lin"
          ],
          [
           "policy"
          ],
          [
           "lawabidingness"
          ],
          [
           "deal"
          ],
          [
           "renewal"
          ],
          [
           "quarantine"
          ],
          [
           "orations"
          ],
          [
           "continuous"
          ],
          [
           "disastrous"
          ],
          [
           "exceeding"
          ],
          [
           "message"
          ],
          [
           "desecrate"
          ],
          [
           "accepted"
          ],
          [
           "proving"
          ],
          [
           "eats"
          ],
          [
           "bid"
          ],
          [
           "104"
          ],
          [
           "discourage"
          ],
          [
           "created"
          ],
          [
           "insidious"
          ],
          [
           "thereon"
          ],
          [
           "generality"
          ],
          [
           "again"
          ],
          [
           "tionably"
          ],
          [
           "277"
          ],
          [
           "indulge"
          ],
          [
           "versa"
          ],
          [
           "possessesits"
          ],
          [
           "communicating"
          ],
          [
           "1899"
          ],
          [
           "directions"
          ],
          [
           "contracted"
          ],
          [
           "feel"
          ],
          [
           "nativeborn"
          ],
          [
           "honor"
          ],
          [
           "doctor"
          ],
          [
           "graduallyachieved"
          ],
          [
           "yards"
          ],
          [
           "when"
          ],
          [
           "selling"
          ],
          [
           "exists"
          ],
          [
           "resting"
          ],
          [
           "laudable"
          ],
          [
           "foremen"
          ],
          [
           "extending"
          ],
          [
           "glasses"
          ],
          [
           "professedly"
          ],
          [
           "injustice"
          ],
          [
           "yes"
          ],
          [
           "hostility"
          ],
          [
           "annum"
          ],
          [
           "engross"
          ],
          [
           "stands"
          ],
          [
           "purports"
          ],
          [
           "designed"
          ],
          [
           "proximity"
          ],
          [
           "blake"
          ],
          [
           "strait"
          ],
          [
           "eminent"
          ],
          [
           "larger"
          ],
          [
           "guaranteed"
          ],
          [
           "expressions"
          ],
          [
           "written"
          ],
          [
           "24"
          ],
          [
           "community"
          ],
          [
           "positively"
          ],
          [
           "irish"
          ],
          [
           "communicated"
          ],
          [
           "bearing"
          ],
          [
           "quite"
          ],
          [
           "gifts"
          ],
          [
           "prevents"
          ],
          [
           "gardening"
          ],
          [
           "intuitive"
          ],
          [
           "reverses"
          ],
          [
           "refuse"
          ],
          [
           "enacts"
          ],
          [
           "tribunal"
          ],
          [
           "emptied"
          ],
          [
           "imagination"
          ],
          [
           "sine"
          ],
          [
           "senses"
          ],
          [
           "bowen"
          ],
          [
           "surtax"
          ],
          [
           "statutewords"
          ],
          [
           "comment"
          ],
          [
           "competition"
          ],
          [
           "concluded"
          ],
          [
           "earn"
          ],
          [
           "think"
          ],
          [
           "seats"
          ],
          [
           "farmer"
          ],
          [
           "quality"
          ],
          [
           "classweaker"
          ],
          [
           "expenses"
          ],
          [
           "18"
          ],
          [
           "mainland"
          ],
          [
           "exercised"
          ],
          [
           "mock"
          ],
          [
           "halsbury"
          ],
          [
           "proscription"
          ],
          [
           "arising"
          ],
          [
           "thirtyfirst"
          ],
          [
           "assing"
          ],
          [
           "repairs"
          ],
          [
           "diminishing"
          ],
          [
           "assessments"
          ],
          [
           "deserves"
          ],
          [
           "just"
          ],
          [
           "desirous"
          ],
          [
           "legally"
          ],
          [
           "default"
          ],
          [
           "associated"
          ],
          [
           "allowed"
          ],
          [
           "stayed"
          ],
          [
           "stumblingblock"
          ],
          [
           "290"
          ],
          [
           "submission"
          ],
          [
           "recently"
          ],
          [
           "recollection"
          ],
          [
           "auctioneers"
          ],
          [
           "sothrows"
          ],
          [
           "charges"
          ],
          [
           "afford"
          ],
          [
           "delegation"
          ],
          [
           "construct"
          ],
          [
           "ccr"
          ],
          [
           "assimilated"
          ],
          [
           "at"
          ],
          [
           "than"
          ],
          [
           "holborn"
          ],
          [
           "plans"
          ],
          [
           "supplied"
          ],
          [
           "app"
          ],
          [
           "lordships"
          ],
          [
           "masons"
          ],
          [
           "weight"
          ],
          [
           "likings"
          ],
          [
           "assurances"
          ],
          [
           "avocations"
          ],
          [
           "10000"
          ],
          [
           "british"
          ],
          [
           "discriminate"
          ],
          [
           "related"
          ],
          [
           "comfort"
          ],
          [
           "cooking"
          ],
          [
           "exempt"
          ],
          [
           "anyone"
          ],
          [
           "refers"
          ],
          [
           "hospitals"
          ],
          [
           "hotels"
          ],
          [
           "monetary"
          ],
          [
           "lieutenantgovernor"
          ],
          [
           "dismissed"
          ],
          [
           "questioned"
          ],
          [
           "sworn"
          ],
          [
           "western"
          ],
          [
           "operation"
          ],
          [
           "now"
          ],
          [
           "parsons"
          ],
          [
           "failed"
          ],
          [
           "welcomed"
          ],
          [
           "open"
          ],
          [
           "132"
          ],
          [
           "escape"
          ],
          [
           "dominion"
          ],
          [
           "permit"
          ],
          [
           "young"
          ],
          [
           "happens"
          ],
          [
           "piece"
          ],
          [
           "solemn"
          ],
          [
           "complied"
          ],
          [
           "acknowledged"
          ],
          [
           "childrens"
          ],
          [
           "1000"
          ],
          [
           "affiliation"
          ],
          [
           "both"
          ],
          [
           "tennant"
          ],
          [
           "behests"
          ],
          [
           "imposes"
          ],
          [
           "confronted"
          ],
          [
           "bidders"
          ],
          [
           "precise"
          ],
          [
           "amendment"
          ],
          [
           "places"
          ],
          [
           "world"
          ],
          [
           "sterile"
          ],
          [
           "powell"
          ],
          [
           "undertakings"
          ],
          [
           "punctually"
          ],
          [
           "based"
          ],
          [
           "cross"
          ],
          [
           "frequent"
          ],
          [
           "inferior"
          ],
          [
           "occurs"
          ],
          [
           "collateral"
          ],
          [
           "pronunciation"
          ],
          [
           "personally"
          ],
          [
           "fix"
          ],
          [
           "kingdom"
          ],
          [
           "habit"
          ],
          [
           "estimate"
          ],
          [
           "bones"
          ],
          [
           "patriotism"
          ],
          [
           "widely"
          ],
          [
           "lastly"
          ],
          [
           "lawful"
          ],
          [
           "secs"
          ],
          [
           "individually"
          ],
          [
           "arrangement"
          ],
          [
           "imposing"
          ],
          [
           "omitted"
          ],
          [
           "1858"
          ],
          [
           "seq"
          ],
          [
           "little"
          ],
          [
           "saying"
          ],
          [
           "say"
          ],
          [
           "tests"
          ],
          [
           "poor"
          ],
          [
           "appropriate"
          ],
          [
           "amongst"
          ],
          [
           "dislike"
          ],
          [
           "others"
          ],
          [
           "five"
          ],
          [
           "burdened"
          ],
          [
           "low"
          ],
          [
           "grocery"
          ],
          [
           "liberty"
          ],
          [
           "court"
          ],
          [
           "artists"
          ],
          [
           "limitation"
          ],
          [
           "described"
          ],
          [
           "petio"
          ],
          [
           "aspire"
          ],
          [
           "passing"
          ],
          [
           "disfranchisement"
          ],
          [
           "beam"
          ],
          [
           "replied"
          ],
          [
           "arch"
          ],
          [
           "economical"
          ],
          [
           "examines"
          ],
          [
           "sell"
          ],
          [
           "ordinary"
          ],
          [
           "native"
          ],
          [
           "law"
          ],
          [
           "united"
          ],
          [
           "respects"
          ],
          [
           "parliament"
          ],
          [
           "548"
          ],
          [
           "assaults"
          ],
          [
           "drank"
          ],
          [
           "affirmed"
          ],
          [
           "citing"
          ],
          [
           "mention"
          ],
          [
           "definition"
          ],
          [
           "questions"
          ],
          [
           "nationalities"
          ],
          [
           "beginning"
          ],
          [
           "attained"
          ],
          [
           "customs"
          ],
          [
           "acta"
          ],
          [
           "nominally"
          ],
          [
           "forehead"
          ],
          [
           "156"
          ],
          [
           "removing"
          ],
          [
           "provincesay"
          ],
          [
           "views"
          ],
          [
           "missouri"
          ],
          [
           "sure"
          ],
          [
           "unattainable"
          ],
          [
           "owned"
          ],
          [
           "vicious"
          ],
          [
           "108"
          ],
          [
           "dlr"
          ],
          [
           "arrangements"
          ],
          [
           "in"
          ],
          [
           "decision"
          ],
          [
           "contravention"
          ],
          [
           "easily"
          ],
          [
           "fined"
          ],
          [
           "directly"
          ],
          [
           "improved"
          ],
          [
           "1906"
          ],
          [
           "federation"
          ],
          [
           "indian"
          ],
          [
           "cuttings"
          ],
          [
           "monopoly"
          ],
          [
           "bribery"
          ],
          [
           "convictions"
          ],
          [
           "derived"
          ],
          [
           "lj"
          ],
          [
           "europe"
          ],
          [
           "invasion"
          ],
          [
           "boon"
          ],
          [
           "married"
          ],
          [
           "safeguard"
          ],
          [
           "collectively"
          ],
          [
           "eastern"
          ],
          [
           "timbermen"
          ],
          [
           "length"
          ],
          [
           "establish"
          ],
          [
           "application"
          ],
          [
           "spread"
          ],
          [
           "hamper"
          ],
          [
           "terms"
          ],
          [
           "exactness"
          ],
          [
           "gather"
          ],
          [
           "fish"
          ],
          [
           "enrich"
          ],
          [
           "willingly"
          ],
          [
           "cover"
          ],
          [
           "freedom"
          ],
          [
           "begbie"
          ],
          [
           "fixed"
          ],
          [
           "instantly"
          ],
          [
           "singapore"
          ],
          [
           "brussels"
          ],
          [
           "wholesale"
          ],
          [
           "literally"
          ],
          [
           "cropping"
          ],
          [
           "may"
          ],
          [
           "qb"
          ],
          [
           "overworked"
          ],
          [
           "retains"
          ],
          [
           "square"
          ],
          [
           "proportionately"
          ],
          [
           "neither"
          ],
          [
           "essential"
          ],
          [
           "chemist"
          ],
          [
           "kat"
          ],
          [
           "remunerative"
          ],
          [
           "clause"
          ],
          [
           "combined"
          ],
          [
           "past"
          ],
          [
           "colonies"
          ],
          [
           "falling"
          ],
          [
           "learn"
          ],
          [
           "church"
          ],
          [
           "establishments"
          ],
          [
           "claim"
          ],
          [
           "appears"
          ],
          [
           "expensive"
          ],
          [
           "implies"
          ],
          [
           "inapplicable"
          ],
          [
           "evade"
          ],
          [
           "markets"
          ],
          [
           "husbands"
          ],
          [
           "gestures"
          ],
          [
           "promoters"
          ],
          [
           "particularized"
          ],
          [
           "9213"
          ],
          [
           "enough"
          ],
          [
           "adverted"
          ],
          [
           "grattridge"
          ],
          [
           "disturbances"
          ],
          [
           "observed"
          ],
          [
           "foreman"
          ],
          [
           "resolved"
          ],
          [
           "impress"
          ],
          [
           "phrase"
          ],
          [
           "depreciation"
          ],
          [
           "popular"
          ],
          [
           "washhouses"
          ],
          [
           "watercourses"
          ],
          [
           "promoted"
          ],
          [
           "sex"
          ],
          [
           "exposed"
          ],
          [
           "h"
          ],
          [
           "j"
          ],
          [
           "enquire"
          ],
          [
           "prosecutions"
          ],
          [
           "august"
          ],
          [
           "coming"
          ],
          [
           "parties"
          ],
          [
           "taylor"
          ],
          [
           "constitution"
          ],
          [
           "slightest"
          ],
          [
           "bearingswould"
          ],
          [
           "reviewed"
          ],
          [
           "taxability"
          ],
          [
           "steamer"
          ],
          [
           "gases"
          ],
          [
           "32"
          ],
          [
           "bring"
          ],
          [
           "pursuant"
          ],
          [
           "welfare"
          ],
          [
           "centre"
          ],
          [
           "plenty"
          ],
          [
           "incapabilities"
          ],
          [
           "puppies"
          ],
          [
           "search"
          ],
          [
           "oregonwas"
          ],
          [
           "cardinal"
          ],
          [
           "mcnutt"
          ],
          [
           "myself"
          ],
          [
           "gave"
          ],
          [
           "motives"
          ],
          [
           "dissent"
          ],
          [
           "moujik"
          ],
          [
           "guarded"
          ],
          [
           "survey"
          ],
          [
           "californian"
          ],
          [
           "to"
          ],
          [
           "mode"
          ],
          [
           "head"
          ],
          [
           "159"
          ],
          [
           "unduly"
          ],
          [
           "plaintiff"
          ],
          [
           "proceeding"
          ],
          [
           "trade"
          ],
          [
           "fully"
          ],
          [
           "unheard"
          ],
          [
           "canada"
          ],
          [
           "assumption"
          ],
          [
           "experienced"
          ],
          [
           "companionship"
          ],
          [
           "neighbor"
          ],
          [
           "enjoy"
          ],
          [
           "pleaded"
          ],
          [
           "viz"
          ],
          [
           "gradual"
          ],
          [
           "home"
          ],
          [
           "milk"
          ],
          [
           "repulsive"
          ],
          [
           "crop"
          ],
          [
           "considering"
          ],
          [
           "moral"
          ],
          [
           "legislature"
          ],
          [
           "ritchie"
          ],
          [
           "try"
          ],
          [
           "keeper"
          ],
          [
           "rent"
          ],
          [
           "make"
          ],
          [
           "jury"
          ],
          [
           "injured"
          ],
          [
           "reproductive"
          ],
          [
           "owner"
          ],
          [
           "proportionate"
          ],
          [
           "calne"
          ],
          [
           "jurisdiction"
          ],
          [
           "coram"
          ],
          [
           "intermarry"
          ],
          [
           "point"
          ],
          [
           "respectively"
          ],
          [
           "permissible"
          ],
          [
           "destroyed"
          ],
          [
           "doctors"
          ],
          [
           "lungs"
          ],
          [
           "warehouse"
          ],
          [
           "deprecate"
          ],
          [
           "26th"
          ],
          [
           "reg"
          ],
          [
           "thickly"
          ],
          [
           "thirty"
          ],
          [
           "excess"
          ],
          [
           "deeper"
          ],
          [
           "superintendents"
          ],
          [
           "boat"
          ],
          [
           "excuse"
          ],
          [
           "surrendered"
          ],
          [
           "conformity"
          ],
          [
           "receipt"
          ],
          [
           "further"
          ],
          [
           "culprits"
          ],
          [
           "affects"
          ],
          [
           "tramway"
          ],
          [
           "indicate"
          ],
          [
           "existendi"
          ],
          [
           "presumption"
          ],
          [
           "harbour"
          ],
          [
           "practised"
          ],
          [
           "comparing"
          ],
          [
           "alone"
          ],
          [
           "partly"
          ],
          [
           "brunswick"
          ],
          [
           "cheap"
          ],
          [
           "april"
          ],
          [
           "sanctioned"
          ],
          [
           "america"
          ],
          [
           "unfit"
          ],
          [
           "habeas"
          ],
          [
           "issued"
          ],
          [
           "competent"
          ],
          [
           "grape"
          ],
          [
           "potters"
          ],
          [
           "pamphlet"
          ],
          [
           "skip"
          ],
          [
           "longer"
          ],
          [
           "imported"
          ],
          [
           "how"
          ],
          [
           "assessed"
          ],
          [
           "teems"
          ],
          [
           "cummings"
          ],
          [
           "help"
          ],
          [
           "hundred"
          ],
          [
           "predecessors"
          ],
          [
           "ill"
          ],
          [
           "solicitor"
          ],
          [
           "expedient"
          ],
          [
           "drastic"
          ],
          [
           "port"
          ],
          [
           "therein"
          ],
          [
           "deceitall"
          ],
          [
           "prepare"
          ],
          [
           "belongs"
          ],
          [
           "speculations"
          ],
          [
           "indignantly"
          ],
          [
           "ground"
          ],
          [
           "price"
          ],
          [
           "seeming"
          ],
          [
           "intending"
          ],
          [
           "miners"
          ],
          [
           "chattels"
          ],
          [
           "account"
          ],
          [
           "figure"
          ],
          [
           "corrupted"
          ],
          [
           "convenience"
          ],
          [
           "eyes"
          ],
          [
           "leave"
          ],
          [
           "brute"
          ],
          [
           "heathen"
          ],
          [
           "pennsylvania"
          ],
          [
           "dallas"
          ],
          [
           "roumania"
          ],
          [
           "arrival"
          ],
          [
           "confederation"
          ],
          [
           "nonproduction"
          ],
          [
           "5"
          ],
          [
           "101"
          ],
          [
           "gravest"
          ],
          [
           "cunninghams"
          ],
          [
           "sinker"
          ],
          [
           "licensea"
          ],
          [
           "intent"
          ],
          [
           "adopt"
          ],
          [
           "usual"
          ],
          [
           "agents"
          ],
          [
           "also"
          ],
          [
           "consider"
          ],
          [
           "possibleif"
          ],
          [
           "languish"
          ],
          [
           "period"
          ],
          [
           "partial"
          ],
          [
           "right"
          ],
          [
           "embrace"
          ],
          [
           "milieu"
          ],
          [
           "welcome"
          ],
          [
           "enactment"
          ],
          [
           "dear"
          ],
          [
           "handicraft"
          ],
          [
           "cholera"
          ],
          [
           "activity"
          ],
          [
           "rendered"
          ],
          [
           "differ"
          ],
          [
           "things"
          ],
          [
           "must"
          ],
          [
           "fit"
          ],
          [
           "convince"
          ],
          [
           "keenest"
          ],
          [
           "replythe"
          ],
          [
           "begot"
          ],
          [
           "supporters"
          ],
          [
           "controlled"
          ],
          [
           "antecedent"
          ],
          [
           "date"
          ],
          [
           "canadian"
          ],
          [
           "worth"
          ],
          [
           "trunk"
          ],
          [
           "course"
          ],
          [
           "poll"
          ],
          [
           "you"
          ],
          [
           "charity"
          ],
          [
           "landed"
          ],
          [
           "portion"
          ],
          [
           "valuable"
          ],
          [
           "tax"
          ],
          [
           "ratio"
          ],
          [
           "maximum"
          ],
          [
           "liverpool"
          ],
          [
           "sprinkling"
          ],
          [
           "abominably"
          ],
          [
           "worthy"
          ],
          [
           "conjectured"
          ],
          [
           "by"
          ],
          [
           "equality"
          ],
          [
           "shifted"
          ],
          [
           "sobriety"
          ],
          [
           "illnesses"
          ],
          [
           "void"
          ],
          [
           "debauch"
          ],
          [
           "hesitate"
          ],
          [
           "minimum"
          ],
          [
           "everything"
          ],
          [
           "wording"
          ],
          [
           "privations"
          ],
          [
           "interior"
          ],
          [
           "affected"
          ],
          [
           "established"
          ],
          [
           "building"
          ],
          [
           "gambling"
          ],
          [
           "prohibition"
          ],
          [
           "imprisonment"
          ],
          [
           "laws"
          ],
          [
           "behalf"
          ],
          [
           "immorality"
          ],
          [
           "diplomatic"
          ],
          [
           "performed"
          ],
          [
           "treasury"
          ],
          [
           "12"
          ],
          [
           "wealthy"
          ],
          [
           "rate"
          ],
          [
           "threatening"
          ],
          [
           "jacket"
          ],
          [
           "heirs"
          ],
          [
           "assume"
          ],
          [
           "industry"
          ],
          [
           "oil"
          ],
          [
           "augmented"
          ],
          [
           "filth"
          ],
          [
           "casual"
          ],
          [
           "conclusion"
          ],
          [
           "misrepresentation"
          ],
          [
           "desire"
          ],
          [
           "city"
          ],
          [
           "greatly"
          ],
          [
           "separate"
          ],
          [
           "description"
          ],
          [
           "sustained"
          ],
          [
           "annihilated"
          ],
          [
           "strand"
          ],
          [
           "retired"
          ],
          [
           "extended"
          ],
          [
           "chongthe"
          ],
          [
           "conmission"
          ],
          [
           "republic"
          ],
          [
           "plenary"
          ],
          [
           "become"
          ],
          [
           "cut"
          ],
          [
           "author"
          ],
          [
           "northwest"
          ],
          [
           "aggregation"
          ],
          [
           "please"
          ],
          [
           "contagious"
          ],
          [
           "informed"
          ],
          [
           "lead"
          ],
          [
           "defect"
          ],
          [
           "moose"
          ],
          [
           "humiliation"
          ],
          [
           "instruments"
          ],
          [
           "radius"
          ],
          [
           "won"
          ],
          [
           "appointed"
          ],
          [
           "governing"
          ],
          [
           "informs"
          ],
          [
           "manufactures"
          ],
          [
           "becomes"
          ],
          [
           "residents"
          ],
          [
           "regulations"
          ],
          [
           "truth"
          ],
          [
           "en"
          ],
          [
           "confer"
          ],
          [
           "ensuring"
          ],
          [
           "ever"
          ],
          [
           "carries"
          ],
          [
           "advice"
          ],
          [
           "could"
          ],
          [
           "subsequent"
          ],
          [
           "lordship"
          ],
          [
           "influenced"
          ],
          [
           "dicta"
          ],
          [
           "tavern"
          ],
          [
           "respective"
          ],
          [
           "preparing"
          ],
          [
           "unfair"
          ],
          [
           "dens"
          ],
          [
           "determine"
          ],
          [
           "infection"
          ],
          [
           "independence"
          ],
          [
           "phrases"
          ],
          [
           "amounting"
          ],
          [
           "ordinarily"
          ],
          [
           "serious"
          ],
          [
           "size"
          ],
          [
           "owing"
          ],
          [
           "tend"
          ],
          [
           "therefore"
          ],
          [
           "nothing"
          ],
          [
           "kerry"
          ],
          [
           "pellew"
          ],
          [
           "causes"
          ],
          [
           "foreigners"
          ],
          [
           "whereby"
          ],
          [
           "gone"
          ],
          [
           "convey"
          ],
          [
           "check"
          ],
          [
           "requirements"
          ],
          [
           "useless"
          ],
          [
           "accruing"
          ],
          [
           "recognized"
          ],
          [
           "will"
          ],
          [
           "prohibit"
          ],
          [
           "reservation"
          ],
          [
           "corners"
          ],
          [
           "eminently"
          ],
          [
           "hither"
          ],
          [
           "opinions"
          ],
          [
           "pioneer"
          ],
          [
           "create"
          ],
          [
           "infectious"
          ],
          [
           "starts"
          ],
          [
           "30"
          ],
          [
           "enact"
          ],
          [
           "organization"
          ],
          [
           "damage"
          ],
          [
           "500"
          ],
          [
           "stranger"
          ],
          [
           "ties"
          ],
          [
           "attempted"
          ],
          [
           "risk"
          ],
          [
           "lindley"
          ],
          [
           "utilized"
          ],
          [
           "civil"
          ],
          [
           "harshly"
          ],
          [
           "affluents"
          ],
          [
           "relation"
          ],
          [
           "headcentres"
          ],
          [
           "lieu"
          ],
          [
           "diabolism"
          ],
          [
           "undesirable"
          ],
          [
           "single"
          ],
          [
           "sort"
          ],
          [
           "ejusdem"
          ],
          [
           "manufactured"
          ],
          [
           "youths"
          ],
          [
           "christian"
          ],
          [
           "balkedapart"
          ],
          [
           "showed"
          ],
          [
           "preserve"
          ],
          [
           "clothing"
          ],
          [
           "unaided"
          ],
          [
           "george"
          ],
          [
           "authoritative"
          ],
          [
           "tranquil"
          ],
          [
           "accentuate"
          ],
          [
           "benefits"
          ],
          [
           "win"
          ],
          [
           "footing"
          ],
          [
           "palpable"
          ],
          [
           "epithet"
          ],
          [
           "remembrance"
          ],
          [
           "marketably"
          ],
          [
           "lands"
          ],
          [
           "inoculation"
          ],
          [
           "simple"
          ],
          [
           "pulled"
          ],
          [
           "breeds"
          ],
          [
           "years"
          ],
          [
           "sc"
          ],
          [
           "roads"
          ],
          [
           "meet"
          ],
          [
           "ancient"
          ],
          [
           "wherever"
          ],
          [
           "colonization"
          ],
          [
           "incidentally"
          ],
          [
           "table"
          ],
          [
           "imagine"
          ],
          [
           "keepers"
          ],
          [
           "apply"
          ],
          [
           "baleful"
          ],
          [
           "door"
          ],
          [
           "testify"
          ],
          [
           "stat"
          ],
          [
           "strengthened"
          ],
          [
           "6267"
          ],
          [
           "5constitutionalitybna"
          ],
          [
           "record"
          ],
          [
           "merchant"
          ],
          [
           "stovewood"
          ],
          [
           "discharging"
          ],
          [
           "able"
          ],
          [
           "already"
          ],
          [
           "statutes"
          ],
          [
           "dispensing"
          ],
          [
           "pattern"
          ],
          [
           "as"
          ],
          [
           "16"
          ],
          [
           "jointly"
          ],
          [
           "appx"
          ],
          [
           "luxuries"
          ],
          [
           "act"
          ],
          [
           "antecedently"
          ],
          [
           "pecuniary"
          ],
          [
           "namely"
          ],
          [
           "seizure"
          ],
          [
           "1912"
          ],
          [
           "girls"
          ],
          [
           "undiscovered"
          ],
          [
           "temporary"
          ],
          [
           "advantagefor"
          ],
          [
           "watson"
          ],
          [
           "manifest"
          ],
          [
           "it"
          ],
          [
           "subjectmatter"
          ],
          [
           "infringe"
          ],
          [
           "wheelbarrowmen"
          ],
          [
           "intimated"
          ],
          [
           "communication"
          ],
          [
           "27"
          ],
          [
           "refer"
          ],
          [
           "drake"
          ],
          [
           "shown"
          ],
          [
           "handicap"
          ],
          [
           "importer"
          ],
          [
           "4th"
          ],
          [
           "discover"
          ],
          [
           "natives"
          ],
          [
           "commentaries"
          ],
          [
           "co"
          ],
          [
           "causing"
          ],
          [
           "note"
          ],
          [
           "yard"
          ],
          [
           "statutory"
          ],
          [
           "pounds"
          ],
          [
           "lessen"
          ],
          [
           "launch"
          ],
          [
           "accompanying"
          ],
          [
           "undeniable"
          ],
          [
           "equal"
          ],
          [
           "properly"
          ],
          [
           "36"
          ],
          [
           "blight"
          ],
          [
           "amended"
          ],
          [
           "men"
          ],
          [
           "armourial"
          ],
          [
           "grasp"
          ],
          [
           "some"
          ],
          [
           "truly"
          ],
          [
           "violent"
          ],
          [
           "salmon"
          ],
          [
           "taint"
          ],
          [
           "conceal"
          ],
          [
           "nearly"
          ],
          [
           "extravagant"
          ],
          [
           "confide"
          ],
          [
           "legislate"
          ],
          [
           "depositions"
          ],
          [
           "distrust"
          ],
          [
           "far"
          ],
          [
           "dirty"
          ],
          [
           "everpresent"
          ],
          [
           "ours"
          ],
          [
           "22"
          ],
          [
           "whom"
          ],
          [
           "123"
          ],
          [
           "real"
          ],
          [
           "says"
          ],
          [
           "worker"
          ],
          [
           "464"
          ],
          [
           "horn"
          ],
          [
           "conferring"
          ],
          [
           "raising"
          ],
          [
           "free"
          ],
          [
           "rulers"
          ],
          [
           "nobody"
          ],
          [
           "ca"
          ],
          [
           "collected"
          ],
          [
           "tax1st"
          ],
          [
           "ostensible"
          ],
          [
           "least"
          ],
          [
           "above"
          ],
          [
           "accidental"
          ],
          [
           "allied"
          ],
          [
           "list"
          ],
          [
           "practically"
          ],
          [
           "heard"
          ],
          [
           "jurisdictions"
          ],
          [
           "himself"
          ],
          [
           "demur"
          ],
          [
           "statement"
          ],
          [
           "90"
          ],
          [
           "guard"
          ],
          [
           "recruited"
          ],
          [
           "leaving"
          ],
          [
           "concluding"
          ],
          [
           "collieries"
          ],
          [
           "nomine"
          ],
          [
           "teaching"
          ],
          [
           "permitting"
          ],
          [
           "but"
          ],
          [
           "stating"
          ],
          [
           "committee"
          ],
          [
           "climate"
          ],
          [
           "letter"
          ],
          [
           "421"
          ],
          [
           "should"
          ],
          [
           "king"
          ],
          [
           "writ"
          ],
          [
           "primarily"
          ],
          [
           "understand"
          ],
          [
           "rich"
          ],
          [
           "house"
          ],
          [
           "case"
          ],
          [
           "million"
          ],
          [
           "sudden"
          ],
          [
           "subsection"
          ],
          [
           "lixnaw"
          ],
          [
           "apparent"
          ],
          [
           "resemblance"
          ],
          [
           "buy"
          ],
          [
           "employers"
          ],
          [
           "pretence"
          ],
          [
           "share"
          ],
          [
           "them"
          ],
          [
           "calculated"
          ],
          [
           "categorically"
          ],
          [
           "engagements"
          ],
          [
           "towards"
          ],
          [
           "interest"
          ],
          [
           "conversant"
          ],
          [
           "individualright"
          ],
          [
           "kootenay"
          ],
          [
           "higher"
          ],
          [
           "w"
          ],
          [
           "totally"
          ],
          [
           "maintenance"
          ],
          [
           "operative"
          ],
          [
           "delin"
          ],
          [
           "unmolested"
          ],
          [
           "liabilities"
          ],
          [
           "1880"
          ],
          [
           "hinted"
          ],
          [
           "breach"
          ],
          [
           "hop"
          ],
          [
           "unrestricted"
          ],
          [
           "follow"
          ],
          [
           "388"
          ],
          [
           "insufficient"
          ],
          [
           "voter"
          ],
          [
           "argue"
          ],
          [
           "imprisoned"
          ],
          [
           "contemplation"
          ],
          [
           "employed"
          ],
          [
           "mean"
          ],
          [
           "unintelligibility"
          ],
          [
           "adventurous"
          ],
          [
           "circumstances"
          ],
          [
           "seaport"
          ],
          [
           "aimed"
          ],
          [
           "21"
          ],
          [
           "efficacy"
          ],
          [
           "desecration"
          ],
          [
           "distrained"
          ],
          [
           "capital"
          ],
          [
           "1st"
          ],
          [
           "desecrators"
          ],
          [
           "shoulders"
          ],
          [
           "comers"
          ],
          [
           "overlooked"
          ],
          [
           "gambled"
          ],
          [
           "doubt"
          ],
          [
           "filled"
          ],
          [
           "deliver"
          ],
          [
           "justices"
          ],
          [
           "35infected"
          ],
          [
           "aware"
          ],
          [
           "flourishing"
          ],
          [
           "so"
          ],
          [
           "define"
          ],
          [
           "isolated"
          ],
          [
           "existed"
          ],
          [
           "twofold"
          ],
          [
           "constables"
          ],
          [
           "portions"
          ],
          [
           "problem"
          ],
          [
           "hereunto"
          ],
          [
           "priceless"
          ],
          [
           "following"
          ],
          [
           "dead"
          ],
          [
           "suffice"
          ],
          [
           "accuser"
          ],
          [
           "alien"
          ],
          [
           "objections"
          ],
          [
           "cousin"
          ],
          [
           "wide"
          ],
          [
           "hideous"
          ],
          [
           "interpreter"
          ],
          [
           "encourage"
          ],
          [
           "enumerated"
          ],
          [
           "defender"
          ],
          [
           "unfavorably"
          ],
          [
           "grammar"
          ],
          [
           "tai"
          ],
          [
           "chinesealthough"
          ],
          [
           "trouble"
          ],
          [
           "besotted"
          ],
          [
           "creditable"
          ],
          [
           "handicraftsmen"
          ],
          [
           "manifestations"
          ],
          [
           "thirteen"
          ],
          [
           "9125"
          ],
          [
           "subordinates"
          ],
          [
           "existent"
          ],
          [
           "indirectly"
          ],
          [
           "voices"
          ],
          [
           "notably"
          ],
          [
           "shelburne"
          ],
          [
           "jacques"
          ],
          [
           "determinedly"
          ],
          [
           "claiming"
          ],
          [
           "47"
          ],
          [
           "taxable"
          ],
          [
           "detain"
          ],
          [
           "chiefly"
          ],
          [
           "counting"
          ],
          [
           "investigation"
          ],
          [
           "hue"
          ],
          [
           "rid"
          ],
          [
           "lots"
          ],
          [
           "contentions"
          ],
          [
           "livelihood"
          ],
          [
           "reproof"
          ],
          [
           "localityproof"
          ],
          [
           "complaints"
          ],
          [
           "departure"
          ],
          [
           "complete"
          ],
          [
           "grave"
          ],
          [
           "pc"
          ],
          [
           "debt"
          ],
          [
           "machineborers"
          ],
          [
           "formed"
          ],
          [
           "1883"
          ],
          [
           "agois"
          ],
          [
           "race"
          ],
          [
           "correctly"
          ],
          [
           "office"
          ],
          [
           "weak"
          ],
          [
           "prima"
          ],
          [
           "cleanliness"
          ],
          [
           "mr"
          ],
          [
           "advocates"
          ],
          [
           "concealed"
          ],
          [
           "fresh"
          ],
          [
           "conditioned"
          ],
          [
           "within"
          ],
          [
           "19"
          ],
          [
           "bill"
          ],
          [
           "mere"
          ],
          [
           "invidious"
          ],
          [
           "quebec"
          ],
          [
           "overcrowding"
          ],
          [
           "wah"
          ],
          [
           "overwhelming"
          ],
          [
           "lord"
          ],
          [
           "legislatures"
          ],
          [
           "canneries"
          ],
          [
           "append"
          ],
          [
           "pertaining"
          ],
          [
           "assimilate"
          ],
          [
           "too"
          ],
          [
           "21st"
          ],
          [
           "accustomed"
          ],
          [
           "flaunt"
          ],
          [
           "silks"
          ],
          [
           "abominations"
          ],
          [
           "1885"
          ],
          [
           "part"
          ],
          [
           "still"
          ],
          [
           "selected"
          ],
          [
           "sale"
          ],
          [
           "process"
          ],
          [
           "cradle"
          ],
          [
           "sufficiently"
          ],
          [
           "oath"
          ],
          [
           "habits"
          ],
          [
           "observation"
          ],
          [
           "expenditure"
          ],
          [
           "shew"
          ],
          [
           "arbitration"
          ],
          [
           "resisting"
          ],
          [
           "await"
          ],
          [
           "appointment"
          ],
          [
           "taken"
          ],
          [
           "asked"
          ],
          [
           "intervene"
          ],
          [
           "contention"
          ],
          [
           "powerlooms"
          ],
          [
           "progress"
          ],
          [
           "enter"
          ],
          [
           "inside"
          ],
          [
           "laundryman"
          ],
          [
           "distant"
          ],
          [
           "cooley"
          ],
          [
           "parabrokers"
          ],
          [
           "constructions"
          ],
          [
           "solway"
          ],
          [
           "leper"
          ],
          [
           "require"
          ],
          [
           "calculation"
          ],
          [
           "cite"
          ],
          [
           "amounts"
          ],
          [
           "answering"
          ],
          [
           "117"
          ],
          [
           "truck"
          ],
          [
           "fashion"
          ],
          [
           "emperor"
          ],
          [
           "dictionary"
          ],
          [
           "sanctions"
          ],
          [
           "reversion"
          ],
          [
           "acquiescence"
          ],
          [
           "judgment"
          ],
          [
           "professor"
          ],
          [
           "religion"
          ],
          [
           "confirms"
          ],
          [
           "into"
          ],
          [
           "exclude"
          ],
          [
           "renders"
          ],
          [
           "interests"
          ],
          [
           "aside"
          ],
          [
           "worst"
          ],
          [
           "excluded"
          ],
          [
           "however"
          ],
          [
           "materially"
          ],
          [
           "permitted"
          ],
          [
           "discontent"
          ],
          [
           "deprive"
          ],
          [
           "grant"
          ],
          [
           "money"
          ],
          [
           "restricting"
          ],
          [
           "electoral"
          ],
          [
           "enjoyed"
          ],
          [
           "idington"
          ],
          [
           "enormously"
          ],
          [
           "daughters"
          ],
          [
           "pursued"
          ],
          [
           "prostitutes"
          ],
          [
           "sound"
          ],
          [
           "tribunals"
          ],
          [
           "license"
          ],
          [
           "omnipotent"
          ],
          [
           "threefourths"
          ],
          [
           "unwarranted"
          ],
          [
           "wood"
          ],
          [
           "fear"
          ],
          [
           "occasional"
          ],
          [
           "intra"
          ],
          [
           "resumé"
          ],
          [
           "ought"
          ],
          [
           "parliamentary"
          ],
          [
           "payne"
          ],
          [
           "savages"
          ],
          [
           "victoria"
          ],
          [
           "loose"
          ],
          [
           "somewhat"
          ],
          [
           "marquis"
          ],
          [
           "coffee"
          ],
          [
           "disposes"
          ],
          [
           "suddenly"
          ],
          [
           "enquirer"
          ],
          [
           "revenue"
          ],
          [
           "view"
          ],
          [
           "being"
          ],
          [
           "knew"
          ],
          [
           "persons"
          ],
          [
           "passenger"
          ],
          [
           "canadians"
          ],
          [
           "l"
          ],
          [
           "census"
          ],
          [
           "repayment"
          ],
          [
           "seeing"
          ],
          [
           "exist"
          ],
          [
           "designated"
          ],
          [
           "dictum"
          ],
          [
           "provision"
          ],
          [
           "treatment"
          ],
          [
           "assumes"
          ],
          [
           "intervened"
          ],
          [
           "riches"
          ],
          [
           "conciliating"
          ],
          [
           "appreciable"
          ],
          [
           "consume"
          ],
          [
           "privy"
          ],
          [
           "read"
          ],
          [
           "altered"
          ],
          [
           "discussion"
          ],
          [
           "trades"
          ],
          [
           "6000"
          ],
          [
           "wash"
          ],
          [
           "1"
          ],
          [
           "pastry"
          ],
          [
           "adult"
          ],
          [
           "sociis"
          ],
          [
           "overrun"
          ],
          [
           "bona"
          ],
          [
           "domestic"
          ],
          [
           "221"
          ],
          [
           "hon"
          ],
          [
           "fraser"
          ],
          [
           "purchased"
          ],
          [
           "voters"
          ],
          [
           "buying"
          ],
          [
           "shrouded"
          ],
          [
           "flailwielders"
          ],
          [
           "lodgers"
          ],
          [
           "asylum"
          ],
          [
           "washer"
          ],
          [
           "inspect"
          ],
          [
           "sixteen"
          ],
          [
           "describes"
          ],
          [
           "constitute"
          ],
          [
           "colliery"
          ],
          [
           "advanced"
          ],
          [
           "maguire"
          ],
          [
           "spent"
          ],
          [
           "hide"
          ],
          [
           "reached"
          ],
          [
           "various"
          ],
          [
           "tools"
          ],
          [
           "execution"
          ],
          [
           "impute"
          ],
          [
           "consequently"
          ],
          [
           "advantages"
          ],
          [
           "cities"
          ],
          [
           "statesmen"
          ],
          [
           "limits"
          ],
          [
           "superior"
          ],
          [
           "nbleave"
          ],
          [
           "wanted"
          ],
          [
           "bestowed"
          ],
          [
           "breed"
          ],
          [
           "3rd"
          ],
          [
           "facts"
          ],
          [
           "behave"
          ],
          [
           "argued"
          ],
          [
           "line"
          ],
          [
           "permissive"
          ],
          [
           "disallowed"
          ],
          [
           "municipality"
          ],
          [
           "sovereign"
          ],
          [
           "distinguished"
          ],
          [
           "120000"
          ],
          [
           "favourable"
          ],
          [
           "debts"
          ],
          [
           "coincidence"
          ],
          [
           "agricultural"
          ],
          [
           "credit"
          ],
          [
           "outs"
          ],
          [
           "importance"
          ],
          [
           "urged"
          ],
          [
           "peter"
          ],
          [
           "contract"
          ],
          [
           "gauge"
          ],
          [
           "gist"
          ],
          [
           "retarded"
          ],
          [
           "hereinafter"
          ],
          [
           "wisdom"
          ],
          [
           "112"
          ],
          [
           "category"
          ],
          [
           "conscience"
          ],
          [
           "english"
          ],
          [
           "cariboo"
          ],
          [
           "lessens"
          ],
          [
           "occupies"
          ],
          [
           "takes"
          ],
          [
           "drafts"
          ],
          [
           "altogether"
          ],
          [
           "sums"
          ],
          [
           "ab"
          ],
          [
           "beat"
          ],
          [
           "wealth"
          ],
          [
           "proportion"
          ],
          [
           "laborer"
          ],
          [
           "excellent"
          ],
          [
           "irrefragable"
          ],
          [
           "carriages"
          ],
          [
           "italian"
          ],
          [
           "ruined"
          ],
          [
           "tradesmen"
          ],
          [
           "add"
          ],
          [
           "whitesuseless"
          ],
          [
           "wycombe"
          ],
          [
           "preservation"
          ],
          [
           "ceases"
          ],
          [
           "foreigner"
          ],
          [
           "baggage"
          ],
          [
           "attributed"
          ],
          [
           "amusements"
          ],
          [
           "interred"
          ],
          [
           "utter"
          ],
          [
           "convicted"
          ],
          [
           "highest"
          ],
          [
           "thereafter"
          ],
          [
           "1879"
          ],
          [
           "february"
          ],
          [
           "businesses"
          ],
          [
           "quashed"
          ],
          [
           "enacted"
          ],
          [
           "unless"
          ],
          [
           "proper"
          ],
          [
           "lexington"
          ],
          [
           "2"
          ],
          [
           "naturalized"
          ],
          [
           "man"
          ],
          [
           "forgotten"
          ],
          [
           "colombia"
          ],
          [
           "shilling"
          ],
          [
           "gathering"
          ],
          [
           "subsections"
          ],
          [
           "making"
          ],
          [
           "manitoba"
          ],
          [
           "13"
          ],
          [
           "37"
          ],
          [
           "treachery"
          ],
          [
           "contain"
          ],
          [
           "eaten"
          ],
          [
           "arguments"
          ],
          [
           "extensively"
          ],
          [
           "leans"
          ],
          [
           "depended"
          ],
          [
           "sent"
          ],
          [
           "opportune"
          ],
          [
           "collect"
          ],
          [
           "safe"
          ],
          [
           "dissenting"
          ],
          [
           "ruled"
          ],
          [
           "defence"
          ],
          [
           "capitalists"
          ],
          [
           "hereby"
          ],
          [
           "four"
          ],
          [
           "1858been"
          ],
          [
           "scant"
          ],
          [
           "russians"
          ],
          [
           "police"
          ],
          [
           "results"
          ],
          [
           "thinking"
          ],
          [
           "implication"
          ],
          [
           "believed"
          ],
          [
           "efficient"
          ],
          [
           "considered"
          ],
          [
           "92"
          ],
          [
           "are"
          ],
          [
           "reason"
          ],
          [
           "saloons"
          ],
          [
           "violation"
          ],
          [
           "unrivalled"
          ],
          [
           "called"
          ],
          [
           "a"
          ],
          [
           "discharged"
          ],
          [
           "quent"
          ],
          [
           "thereupon"
          ],
          [
           "panic"
          ],
          [
           "subs"
          ],
          [
           "sick"
          ],
          [
           "blaster"
          ],
          [
           "solely"
          ],
          [
           "28"
          ],
          [
           "prohibiting"
          ],
          [
           "presumed"
          ],
          [
           "sedgwick"
          ],
          [
           "similar"
          ],
          [
           "accused"
          ],
          [
           "6"
          ],
          [
           "vessel"
          ],
          [
           "adapts"
          ],
          [
           "defendant"
          ],
          [
           "affixed"
          ],
          [
           "extend"
          ],
          [
           "treasurer"
          ],
          [
           "circumlocution"
          ],
          [
           "drying"
          ],
          [
           "victims"
          ],
          [
           "sec"
          ],
          [
           "me"
          ],
          [
           "foregoing"
          ],
          [
           "fellowcountrymen"
          ],
          [
           "supposing"
          ],
          [
           "0"
          ],
          [
           "shipped"
          ],
          [
           "receipts"
          ],
          [
           "marked"
          ],
          [
           "fifty"
          ],
          [
           "interpreted"
          ],
          [
           "77"
          ],
          [
           "regular"
          ],
          [
           "association"
          ],
          [
           "sleep"
          ],
          [
           "classification"
          ],
          [
           "fiercely"
          ],
          [
           "gaynes"
          ],
          [
           "exported"
          ],
          [
           "edwin"
          ],
          [
           "validity"
          ],
          [
           "confusion"
          ],
          [
           "untrue"
          ],
          [
           "sleeping"
          ],
          [
           "orator"
          ],
          [
           "away"
          ],
          [
           "action"
          ],
          [
           "insurance"
          ],
          [
           "saloon"
          ],
          [
           "excise"
          ],
          [
           "ross"
          ],
          [
           "rights"
          ],
          [
           "identical"
          ],
          [
           "inchoate"
          ],
          [
           "strikes"
          ],
          [
           "communications"
          ],
          [
           "arms"
          ],
          [
           "crowded"
          ],
          [
           "treat"
          ],
          [
           "utterly"
          ],
          [
           "incident"
          ],
          [
           "pleased"
          ],
          [
           "beard"
          ],
          [
           "contracting"
          ],
          [
           "roadmaking"
          ],
          [
           "accusations"
          ],
          [
           "justify"
          ],
          [
           "pans"
          ],
          [
           "arise"
          ],
          [
           "pluck"
          ],
          [
           "qc"
          ],
          [
           "specified"
          ],
          [
           "ounces"
          ],
          [
           "delegare"
          ],
          [
           "arose"
          ],
          [
           "undertake"
          ],
          [
           "old"
          ],
          [
           "writer"
          ],
          [
           "agency"
          ],
          [
           "customer"
          ],
          [
           "illustrates"
          ],
          [
           "companies"
          ],
          [
           "instances"
          ],
          [
           "18th"
          ],
          [
           "poorly"
          ],
          [
           "why"
          ],
          [
           "ye"
          ],
          [
           "legality"
          ],
          [
           "swelled"
          ],
          [
           "chin"
          ],
          [
           "present"
          ],
          [
           "25"
          ],
          [
           "imply"
          ],
          [
           "anglosaxon"
          ],
          [
           "souls"
          ],
          [
           "employer"
          ],
          [
           "opposite"
          ],
          [
           "settle"
          ],
          [
           "voting"
          ],
          [
           "their"
          ],
          [
           "care"
          ],
          [
           "operate"
          ],
          [
           "occasioned"
          ],
          [
           "everyone"
          ],
          [
           "leading"
          ],
          [
           "essex"
          ],
          [
           "dictated"
          ],
          [
           "your"
          ],
          [
           "medium"
          ],
          [
           "after"
          ],
          [
           "provided"
          ],
          [
           "gained"
          ],
          [
           "subjectmatters"
          ],
          [
           "know"
          ],
          [
           "became"
          ],
          [
           "killing"
          ],
          [
           "objection"
          ],
          [
           "19th"
          ],
          [
           "alienage"
          ],
          [
           "9216"
          ],
          [
           "blank"
          ],
          [
           "fuss"
          ],
          [
           "rep"
          ],
          [
           "virtue"
          ],
          [
           "criminal"
          ],
          [
           "pawnbrokers"
          ],
          [
           "expounded"
          ],
          [
           "satisfaction"
          ],
          [
           "fee"
          ],
          [
           "servile"
          ],
          [
           "seemed"
          ],
          [
           "confers"
          ],
          [
           "if"
          ],
          [
           "effectually"
          ],
          [
           "transparent"
          ],
          [
           "opinion"
          ],
          [
           "disabilities"
          ],
          [
           "evidence"
          ],
          [
           "deem"
          ],
          [
           "finds"
          ],
          [
           "negative"
          ],
          [
           "obtaining"
          ],
          [
           "bayonet"
          ],
          [
           "condition"
          ],
          [
           "her"
          ],
          [
           "penalty"
          ],
          [
           "ordering"
          ],
          [
           "prostitution"
          ],
          [
           "neverending"
          ],
          [
           "hair"
          ],
          [
           "involved"
          ],
          [
           "oriental"
          ],
          [
           "comethat"
          ],
          [
           "abused"
          ],
          [
           "hungry"
          ],
          [
           "restrain"
          ],
          [
           "persist"
          ],
          [
           "workman"
          ],
          [
           "naples"
          ],
          [
           "subcontract"
          ],
          [
           "midst"
          ],
          [
           "facilities"
          ],
          [
           "majestys"
          ],
          [
           "yielding"
          ],
          [
           "debauched"
          ],
          [
           "erect"
          ],
          [
           "build"
          ],
          [
           "an"
          ],
          [
           "ménage"
          ],
          [
           "rates"
          ],
          [
           "1893"
          ],
          [
           "fewer"
          ],
          [
           "hew"
          ],
          [
           "better"
          ],
          [
           "unsanitary"
          ],
          [
           "drawn"
          ],
          [
           "oct"
          ],
          [
           "holding"
          ],
          [
           "firmness"
          ],
          [
           "exclusive"
          ],
          [
           "new"
          ],
          [
           "thereunder"
          ],
          [
           "allege"
          ],
          [
           "slavery"
          ],
          [
           "qualifying"
          ],
          [
           "cause"
          ],
          [
           "protection"
          ],
          [
           "disgusting"
          ],
          [
           "idea"
          ],
          [
           "night"
          ],
          [
           "seems"
          ],
          [
           "quantity"
          ],
          [
           "offence"
          ],
          [
           "heads"
          ],
          [
           "insist"
          ],
          [
           "clothes"
          ],
          [
           "russia"
          ],
          [
           "cognizance"
          ],
          [
           "effect"
          ],
          [
           "painter"
          ],
          [
           "stress"
          ],
          [
           "suppress"
          ],
          [
           "window"
          ],
          [
           "answer"
          ],
          [
           "moderate"
          ],
          [
           "underground"
          ],
          [
           "breathe"
          ],
          [
           "possession"
          ],
          [
           "pronounced"
          ],
          [
           "summarily"
          ],
          [
           "seasons"
          ],
          [
           "groceries"
          ],
          [
           "articles"
          ],
          [
           "usually"
          ],
          [
           "nonobservance"
          ],
          [
           "banks"
          ],
          [
           "levied"
          ],
          [
           "without"
          ],
          [
           "nationality"
          ],
          [
           "conscientious"
          ],
          [
           "3"
          ],
          [
           "framing"
          ],
          [
           "collections"
          ],
          [
           "enforcing"
          ],
          [
           "masse"
          ],
          [
           "accumulation"
          ],
          [
           "with"
          ],
          [
           "benefit"
          ],
          [
           "forced"
          ],
          [
           "measures"
          ],
          [
           "collection"
          ],
          [
           "specially"
          ],
          [
           "procure"
          ],
          [
           "entire"
          ],
          [
           "international"
          ],
          [
           "defendants"
          ],
          [
           "consideration"
          ],
          [
           "poles"
          ],
          [
           "family"
          ],
          [
           "of"
          ],
          [
           "miles"
          ],
          [
           "provisionsand"
          ],
          [
           "attorneygeneral"
          ],
          [
           "arriveda"
          ],
          [
           "undertaking"
          ],
          [
           "paying"
          ],
          [
           "delegated"
          ],
          [
           "kicked"
          ],
          [
           "hospital"
          ],
          [
           "subordinate"
          ],
          [
           "annoyance"
          ],
          [
           "answered"
          ],
          [
           "direct"
          ],
          [
           "immigrant"
          ],
          [
           "step"
          ],
          [
           "guiding"
          ],
          [
           "ottawa"
          ],
          [
           "document"
          ],
          [
           "showing"
          ],
          [
           "subseetion"
          ],
          [
           "peerage"
          ],
          [
           "fruitgrowing"
          ],
          [
           "art"
          ],
          [
           "brass"
          ],
          [
           "weekdays"
          ],
          [
           "manner"
          ],
          [
           "premiss"
          ],
          [
           "arbitrary"
          ],
          [
           "bylaws"
          ],
          [
           "decisions"
          ],
          [
           "bounds"
          ],
          [
           "bank"
          ],
          [
           "laborers"
          ],
          [
           "columbiah"
          ],
          [
           "cjthe"
          ],
          [
           "cap"
          ],
          [
           "choose"
          ],
          [
           "concerned"
          ],
          [
           "voilà"
          ],
          [
           "housewhich"
          ],
          [
           "occupy"
          ],
          [
           "compensation"
          ],
          [
           "destroy"
          ],
          [
           "situation"
          ],
          [
           "shewn"
          ],
          [
           "conflict"
          ],
          [
           "other"
          ],
          [
           "constant"
          ],
          [
           "sect"
          ],
          [
           "587"
          ],
          [
           "white"
          ],
          [
           "licenseholders"
          ],
          [
           "corroborate"
          ],
          [
           "housewife"
          ],
          [
           "enquiries"
          ],
          [
           "restricted"
          ],
          [
           "indifferent"
          ],
          [
           "decree"
          ],
          [
           "lets"
          ],
          [
           "enforce"
          ],
          [
           "eg"
          ],
          [
           "caused"
          ],
          [
           "sink"
          ],
          [
           "laying"
          ],
          [
           "factories"
          ],
          [
           "disability"
          ],
          [
           "farmlaborer"
          ],
          [
           "ch"
          ],
          [
           "practicable"
          ],
          [
           "said"
          ],
          [
           "something"
          ],
          [
           "space"
          ],
          [
           "pronouncing"
          ],
          [
           "strongly"
          ],
          [
           "sawing"
          ],
          [
           "guilt"
          ],
          [
           "tire"
          ],
          [
           "briefly"
          ],
          [
           "moment"
          ],
          [
           "ministry"
          ],
          [
           "been"
          ],
          [
           "mark"
          ],
          [
           "connection"
          ],
          [
           "racesthey"
          ],
          [
           "principle"
          ],
          [
           "documents"
          ],
          [
           "mans"
          ],
          [
           "strikingly"
          ],
          [
           "compulsion"
          ],
          [
           "1913"
          ],
          [
           "summons"
          ],
          [
           "periodical"
          ],
          [
           "unavoidable"
          ],
          [
           "indistinct"
          ],
          [
           "warrant"
          ],
          [
           "conventions"
          ],
          [
           "expressed"
          ],
          [
           "violate"
          ],
          [
           "outer"
          ],
          [
           "the"
          ],
          [
           "unto"
          ],
          [
           "broadly"
          ],
          [
           "illconsidered"
          ],
          [
           "classes"
          ],
          [
           "expelled"
          ],
          [
           "furnished"
          ],
          [
           "mutual"
          ],
          [
           "marketgardeners"
          ],
          [
           "hot"
          ],
          [
           "impede"
          ],
          [
           "arrive"
          ],
          [
           "provincea"
          ],
          [
           "consumer"
          ],
          [
           "interpreting"
          ],
          [
           "recoverand"
          ],
          [
           "contend"
          ],
          [
           "fourteen"
          ],
          [
           "308"
          ],
          [
           "ins"
          ],
          [
           "gate"
          ],
          [
           "80"
          ],
          [
           "approved"
          ],
          [
           "defeats"
          ],
          [
           "veto"
          ],
          [
           "likelihood"
          ],
          [
           "want"
          ],
          [
           "increase"
          ],
          [
           "limit"
          ],
          [
           "watch"
          ],
          [
           "intoxication"
          ],
          [
           "cp"
          ],
          [
           "whims"
          ],
          [
           "sorely"
          ],
          [
           "presently"
          ],
          [
           "advises"
          ],
          [
           "respecting"
          ],
          [
           "often"
          ],
          [
           "barely"
          ],
          [
           "concernedsaysfrom"
          ],
          [
           "duncan"
          ],
          [
           "defended"
          ],
          [
           "wish"
          ],
          [
           "knight"
          ],
          [
           "business"
          ],
          [
           "decrees"
          ],
          [
           "matters"
          ],
          [
           "sweep"
          ],
          [
           "gives"
          ],
          [
           "aliens"
          ],
          [
           "clear"
          ],
          [
           "davies"
          ],
          [
           "doubts"
          ],
          [
           "labour"
          ],
          [
           "profound"
          ],
          [
           "capable"
          ],
          [
           "september"
          ],
          [
           "ed"
          ],
          [
           "judicial"
          ],
          [
           "anglin"
          ],
          [
           "duty"
          ],
          [
           "earning"
          ],
          [
           "250"
          ],
          [
           "illegal"
          ],
          [
           "approximate"
          ],
          [
           "fac"
          ],
          [
           "cook"
          ],
          [
           "outbidding"
          ],
          [
           "cry"
          ],
          [
           "aid"
          ],
          [
           "delinquent"
          ],
          [
           "crowbar"
          ],
          [
           "start"
          ],
          [
           "shared"
          ],
          [
           "german"
          ],
          [
           "actual"
          ],
          [
           "advisable"
          ],
          [
           "eat"
          ],
          [
           "either"
          ],
          [
           "particularly"
          ],
          [
           "apart"
          ],
          [
           "certiorari"
          ],
          [
           "adhere"
          ],
          [
           "value"
          ],
          [
           "refractory"
          ],
          [
           "everybody"
          ],
          [
           "delegates"
          ],
          [
           "under"
          ],
          [
           "taught"
          ],
          [
           "consequences"
          ],
          [
           "capacity"
          ],
          [
           "379"
          ],
          [
           "shews"
          ],
          [
           "swell"
          ],
          [
           "level"
          ],
          [
           "administration"
          ],
          [
           "responsible"
          ],
          [
           "absolute"
          ],
          [
           "mask"
          ],
          [
           "unlimited"
          ],
          [
           "instructed"
          ],
          [
           "juxtaposition"
          ],
          [
           "e"
          ],
          [
           "duly"
          ],
          [
           "washhouse"
          ],
          [
           "safety"
          ],
          [
           "poppy"
          ],
          [
           "1907"
          ],
          [
           "broadhead"
          ],
          [
           "lasts"
          ],
          [
           "learned"
          ],
          [
           "unguarded"
          ],
          [
           "requested"
          ],
          [
           "greeting"
          ],
          [
           "carting"
          ],
          [
           "buried"
          ],
          [
           "adulteration"
          ],
          [
           "certainly"
          ],
          [
           "behind"
          ],
          [
           "259"
          ],
          [
           "mandamus"
          ],
          [
           "makes"
          ],
          [
           "ence"
          ],
          [
           "keep"
          ],
          [
           "own"
          ],
          [
           "solicitation"
          ],
          [
           "wharf"
          ],
          [
           "connected"
          ],
          [
           "fail"
          ],
          [
           "tariff"
          ],
          [
           "remembered"
          ],
          [
           "australian"
          ],
          [
           "ask"
          ],
          [
           "ship"
          ],
          [
           "races"
          ],
          [
           "teetotalers"
          ],
          [
           "conscientiously"
          ],
          [
           "meat"
          ],
          [
           "testimony"
          ],
          [
           "notoriously"
          ],
          [
           "session"
          ],
          [
           "gwynne"
          ],
          [
           "cleansing"
          ],
          [
           "similarly"
          ],
          [
           "hand"
          ],
          [
           "safeguards"
          ],
          [
           "heavy"
          ],
          [
           "write"
          ],
          [
           "scope"
          ],
          [
           "conclusively"
          ],
          [
           "goodbye"
          ],
          [
           "1894"
          ],
          [
           "overtake"
          ],
          [
           "below"
          ],
          [
           "pots"
          ],
          [
           "disesteem"
          ],
          [
           "effective"
          ],
          [
           "force"
          ],
          [
           "indirect"
          ],
          [
           "occupation"
          ],
          [
           "arable"
          ],
          [
           "accommodation"
          ],
          [
           "157"
          ],
          [
           "stand"
          ],
          [
           "steal"
          ],
          [
           "ally"
          ],
          [
           "woman"
          ],
          [
           "received"
          ],
          [
           "honest"
          ],
          [
           "red"
          ],
          [
           "fishermen"
          ],
          [
           "conceded"
          ],
          [
           "shanghai"
          ],
          [
           "narcotics"
          ],
          [
           "alleged"
          ],
          [
           "mortar"
          ],
          [
           "abound"
          ],
          [
           "once"
          ],
          [
           "boycotted"
          ],
          [
           "cvicix"
          ],
          [
           "movement"
          ],
          [
           "reginam"
          ],
          [
           "alarm"
          ],
          [
           "leaves"
          ],
          [
           "consequence"
          ],
          [
           "disputes"
          ],
          [
           "macguire"
          ],
          [
           "yell"
          ],
          [
           "farms"
          ],
          [
           "advertisements"
          ],
          [
           "chongs"
          ],
          [
           "hence"
          ],
          [
           "illustration"
          ],
          [
           "exhaustive"
          ],
          [
           "tion"
          ],
          [
           "steady"
          ],
          [
           "employé"
          ],
          [
           "incoming"
          ],
          [
           "food"
          ],
          [
           "innocenta"
          ],
          [
           "seem"
          ],
          [
           "1884"
          ],
          [
           "leaders"
          ],
          [
           "governed"
          ],
          [
           "1878"
          ],
          [
           "several"
          ],
          [
           "element"
          ],
          [
           "virus"
          ],
          [
           "subscriptions"
          ],
          [
           "discrimination"
          ],
          [
           "scrubbed"
          ],
          [
           "hope"
          ],
          [
           "death"
          ],
          [
           "habitually"
          ],
          [
           "officials"
          ],
          [
           "272"
          ],
          [
           "adopted"
          ],
          [
           "oscillates"
          ],
          [
           "restrictive"
          ],
          [
           "former"
          ],
          [
           "starting"
          ],
          [
           "orally"
          ],
          [
           "semipublicity"
          ],
          [
           "persuades"
          ],
          [
           "hertslet"
          ],
          [
           "object"
          ],
          [
           "induces"
          ],
          [
           "candle"
          ],
          [
           "i"
          ],
          [
           "body"
          ],
          [
           "trench"
          ],
          [
           "fine"
          ],
          [
           "sundays"
          ],
          [
           "passages"
          ],
          [
           "brokers"
          ],
          [
           "urge"
          ],
          [
           "disinfected"
          ],
          [
           "families"
          ],
          [
           "rank"
          ],
          [
           "inconceivable"
          ],
          [
           "might"
          ],
          [
           "amount"
          ],
          [
           "sections"
          ],
          [
           "divorces"
          ],
          [
           "since"
          ],
          [
           "directs"
          ],
          [
           "fulfil"
          ],
          [
           "herewith"
          ],
          [
           "jealousy"
          ],
          [
           "corporation"
          ],
          [
           "blushes"
          ],
          [
           "seaboard"
          ],
          [
           "regulation"
          ],
          [
           "49"
          ],
          [
           "indignation"
          ],
          [
           "accumulating"
          ],
          [
           "dwarris"
          ],
          [
           "probable"
          ],
          [
           "384"
          ],
          [
           "qualified"
          ],
          [
           "magistrate"
          ],
          [
           "months"
          ],
          [
           "1500000"
          ],
          [
           "even"
          ],
          [
           "labours"
          ],
          [
           "mine"
          ],
          [
           "reverse"
          ],
          [
           "service"
          ],
          [
           "gain"
          ],
          [
           "punctual"
          ],
          [
           "raises"
          ],
          [
           "encounter"
          ],
          [
           "drug"
          ],
          [
           "cargo"
          ],
          [
           "another"
          ],
          [
           "spoken"
          ],
          [
           "store"
          ],
          [
           "respect"
          ],
          [
           "roundly"
          ],
          [
           "brydens"
          ],
          [
           "educated"
          ],
          [
           "property"
          ],
          [
           "whiskey"
          ],
          [
           "586"
          ],
          [
           "intention"
          ],
          [
           "saskatchewan"
          ],
          [
           "provincial"
          ],
          [
           "intend"
          ],
          [
           "bankruptcy"
          ],
          [
           "residing"
          ],
          [
           "combination"
          ],
          [
           "path"
          ],
          [
           "times"
          ],
          [
           "13000"
          ],
          [
           "model"
          ],
          [
           "lest"
          ],
          [
           "mathematical"
          ],
          [
           "qualification"
          ],
          [
           "affecting"
          ],
          [
           "procuring"
          ],
          [
           "65"
          ],
          [
           "self"
          ],
          [
           "cooped"
          ],
          [
           "reproduced"
          ],
          [
           "unfortunate"
          ],
          [
           "charities"
          ],
          [
           "exceptions"
          ],
          [
           "commercial"
          ],
          [
           "bludgeons"
          ],
          [
           "dispositions"
          ],
          [
           "accounted"
          ],
          [
           "39"
          ],
          [
           "nonassimilable"
          ],
          [
           "speculative"
          ],
          [
           "immediately"
          ],
          [
           "sight"
          ],
          [
           "atmosphere"
          ],
          [
           "inconsiderable"
          ],
          [
           "1903"
          ],
          [
           "scr"
          ],
          [
           "1914"
          ],
          [
           "marriage"
          ],
          [
           "surveys"
          ],
          [
           "code"
          ],
          [
           "beloved"
          ],
          [
           "presumably"
          ],
          [
           "exaggerated"
          ],
          [
           "remaining"
          ],
          [
           "wives"
          ],
          [
           "dissimilar"
          ],
          [
           "selborne"
          ],
          [
           "degree"
          ],
          [
           "abate"
          ],
          [
           "bristles"
          ],
          [
           "difficult"
          ],
          [
           "gradually"
          ],
          [
           "such"
          ],
          [
           "next"
          ],
          [
           "elsewhere"
          ],
          [
           "possesses"
          ],
          [
           "supposed"
          ],
          [
           "barristers"
          ],
          [
           "uniformity"
          ],
          [
           "profess"
          ],
          [
           "given"
          ],
          [
           "thing"
          ],
          [
           "ont"
          ],
          [
           "precedent"
          ],
          [
           "stern"
          ],
          [
           "occurred"
          ],
          [
           "7"
          ],
          [
           "unfavorable"
          ],
          [
           "williams"
          ],
          [
           "prominent"
          ],
          [
           "capitation"
          ],
          [
           "assistance"
          ],
          [
           "precisely"
          ],
          [
           "encroach"
          ],
          [
           "ambiguous"
          ],
          [
           "century"
          ],
          [
           "14th"
          ],
          [
           "judenhetze"
          ],
          [
           "921"
          ],
          [
           "screen"
          ],
          [
           "politics"
          ],
          [
           "principles"
          ],
          [
           "cowardly"
          ],
          [
           "magnitude"
          ],
          [
           "wholly"
          ],
          [
           "handicapped"
          ],
          [
           "statements"
          ],
          [
           "incompatible"
          ],
          [
           "twentyfive"
          ],
          [
           "deter"
          ],
          [
           "affect"
          ],
          [
           "fellow"
          ],
          [
           "drain"
          ],
          [
           "defied"
          ],
          [
           "acquire"
          ],
          [
           "muscle"
          ],
          [
           "insinuating"
          ],
          [
           "papers"
          ],
          [
           "observes"
          ],
          [
           "searching"
          ],
          [
           "perceive"
          ],
          [
           "disregard"
          ],
          [
           "ratified"
          ],
          [
           "prevail"
          ],
          [
           "evidently"
          ],
          [
           "remarkable"
          ],
          [
           "presume"
          ],
          [
           "shows"
          ],
          [
           "illustrations"
          ],
          [
           "recital"
          ],
          [
           "pp"
          ],
          [
           "mises"
          ],
          [
           "entry"
          ],
          [
           "thousands"
          ],
          [
           "exceeded"
          ],
          [
           "criminals"
          ],
          [
           "quick"
          ],
          [
           "inordinately"
          ],
          [
           "dishonest"
          ],
          [
           "regard"
          ],
          [
           "assimilation"
          ],
          [
           "pal"
          ],
          [
           "tolerated"
          ],
          [
           "purport"
          ],
          [
           "broad"
          ],
          [
           "paradise"
          ],
          [
           "unmeaning"
          ],
          [
           "hill"
          ],
          [
           "honkong"
          ],
          [
           "ontario"
          ],
          [
           "depravity"
          ],
          [
           "odger"
          ],
          [
           "statistics"
          ],
          [
           "prices"
          ],
          [
           "unfounded"
          ],
          [
           "resources"
          ],
          [
           "domestics"
          ],
          [
           "intituled"
          ],
          [
           "talks"
          ],
          [
           "hereafter"
          ],
          [
           "reciprocal"
          ],
          [
           "guilty"
          ],
          [
           "water"
          ],
          [
           "dislikings"
          ],
          [
           "sufficient"
          ],
          [
           "natures"
          ],
          [
           "economy"
          ],
          [
           "stop"
          ],
          [
           "hereto"
          ],
          [
           "our"
          ],
          [
           "municipal"
          ],
          [
           "interesting"
          ],
          [
           "recovery"
          ],
          [
           "societies"
          ],
          [
           "county"
          ],
          [
           "prejudice"
          ],
          [
           "certificate"
          ],
          [
           "rules"
          ],
          [
           "grown"
          ],
          [
           "proposing"
          ],
          [
           "dressed"
          ],
          [
           "lunion"
          ],
          [
           "incomprehensible"
          ],
          [
           "affords"
          ],
          [
           "resorts"
          ],
          [
           "this"
          ],
          [
           "635"
          ],
          [
           "assists"
          ],
          [
           "earl"
          ],
          [
           "security"
          ],
          [
           "expense"
          ],
          [
           "adapting"
          ],
          [
           "privileges"
          ],
          [
           "appellants"
          ],
          [
           "non"
          ],
          [
           "affirmation"
          ],
          [
           "forget"
          ],
          [
           "menial"
          ],
          [
           "mining"
          ],
          [
           "17"
          ],
          [
           "15th"
          ],
          [
           "administered"
          ],
          [
           "ince"
          ],
          [
           "bna"
          ],
          [
           "impositions"
          ],
          [
           "liked"
          ],
          [
           "lend"
          ],
          [
           "hands"
          ],
          [
           "incalculably"
          ],
          [
           "strong"
          ],
          [
           "concerning"
          ],
          [
           "rear"
          ],
          [
           "impeached"
          ],
          [
           "progresses"
          ],
          [
           "allow"
          ],
          [
           "whenever"
          ],
          [
           "treaties"
          ],
          [
           "hodge"
          ],
          [
           "chipping"
          ],
          [
           "legislative"
          ],
          [
           "distaste"
          ],
          [
           "232"
          ],
          [
           "clj"
          ],
          [
           "substratum"
          ],
          [
           "poniard"
          ],
          [
           "repression"
          ],
          [
           "bylaw"
          ],
          [
           "attacked"
          ],
          [
           "provinces"
          ],
          [
           "stoeker"
          ],
          [
           "brewers"
          ],
          [
           "plausibly"
          ],
          [
           "luggage"
          ],
          [
           "northumberland"
          ],
          [
           "1875"
          ],
          [
           "exact"
          ],
          [
           "plates"
          ],
          [
           "three"
          ],
          [
           "1886"
          ],
          [
           "nature"
          ],
          [
           "fails"
          ],
          [
           "workmen"
          ],
          [
           "box"
          ],
          [
           "perfect"
          ],
          [
           "question"
          ],
          [
           "butchers"
          ],
          [
           "126128"
          ],
          [
           "undue"
          ],
          [
           "prohibitions"
          ],
          [
           "fills"
          ],
          [
           "hamilton"
          ],
          [
           "despise"
          ],
          [
           "indefatigable"
          ],
          [
           "40"
          ],
          [
           "corporations"
          ],
          [
           "am"
          ],
          [
           "constituents"
          ],
          [
           "traditions"
          ],
          [
           "wong"
          ],
          [
           "beforehand"
          ],
          [
           "defeat"
          ],
          [
           "workers"
          ],
          [
           "governorgeneral"
          ],
          [
           "resource"
          ],
          [
           "passengers"
          ],
          [
           "closed"
          ],
          [
           "limitations"
          ],
          [
           "incessant"
          ],
          [
           "enquiry"
          ],
          [
           "doubted"
          ],
          [
           "volume"
          ],
          [
           "1884rather"
          ],
          [
           "seriously"
          ],
          [
           "348"
          ],
          [
           "restraining"
          ],
          [
           "necessary"
          ],
          [
           "materials"
          ],
          [
           "condemned"
          ],
          [
           "effects"
          ],
          [
           "reads"
          ],
          [
           "courses"
          ],
          [
           "holds"
          ],
          [
           "payable"
          ],
          [
           "took"
          ],
          [
           "bulletin"
          ],
          [
           "provei"
          ],
          [
           "report"
          ],
          [
           "countries"
          ],
          [
           "opium"
          ],
          [
           "assumed"
          ],
          [
           "lepers"
          ],
          [
           "youngs"
          ],
          [
           "agent"
          ],
          [
           "somerset"
          ],
          [
           "unanimously"
          ],
          [
           "whether"
          ],
          [
           "revealed"
          ],
          [
           "goes"
          ],
          [
           "knowing"
          ],
          [
           "von"
          ],
          [
           "possibly"
          ],
          [
           "whose"
          ],
          [
           "ignore"
          ],
          [
           "indecent"
          ],
          [
           "nullity"
          ],
          [
           "needy"
          ],
          [
           "except"
          ],
          [
           "equalled"
          ],
          [
           "he"
          ],
          [
           "axe"
          ],
          [
           "kept"
          ],
          [
           "parents"
          ],
          [
           "apprehend"
          ],
          [
           "intended"
          ],
          [
           "among"
          ],
          [
           "treitschke"
          ],
          [
           "produce"
          ],
          [
           "company"
          ],
          [
           "ways"
          ],
          [
           "withhold"
          ],
          [
           "land"
          ],
          [
           "matthew"
          ],
          [
           "lazy"
          ],
          [
           "exceeds"
          ],
          [
           "125"
          ],
          [
           "wages"
          ],
          [
           "wear"
          ],
          [
           "rarely"
          ],
          [
           "overindulgence"
          ],
          [
           "sense"
          ],
          [
           "converse"
          ],
          [
           "imperfect"
          ],
          [
           "confined"
          ],
          [
           "equally"
          ],
          [
           "expel"
          ],
          [
           "lines"
          ],
          [
           "friends"
          ],
          [
           "tailors"
          ],
          [
           "feels"
          ],
          [
           "tempter"
          ],
          [
           "legislation"
          ],
          [
           "contrary"
          ],
          [
           "made"
          ],
          [
           "entrance"
          ],
          [
           "antichinese"
          ],
          [
           "hannays"
          ],
          [
           "facie"
          ],
          [
           "almost"
          ],
          [
           "command"
          ],
          [
           "disputed"
          ],
          [
           "rush"
          ],
          [
           "were"
          ],
          [
           "certified"
          ],
          [
           "hire"
          ],
          [
           "preparation"
          ],
          [
           "understood"
          ],
          [
           "bars"
          ],
          [
           "housethey"
          ],
          [
           "violence"
          ],
          [
           "silk"
          ],
          [
           "besides"
          ],
          [
           "paris"
          ],
          [
           "republican"
          ],
          [
           "intimating"
          ],
          [
           "colonial"
          ],
          [
           "carrying"
          ],
          [
           "exhibit"
          ],
          [
           "wellbeing"
          ],
          [
           "usurious"
          ],
          [
           "303"
          ],
          [
           "likewise"
          ],
          [
           "extraordinarily"
          ],
          [
           "includes"
          ],
          [
           "mainly"
          ],
          [
           "submits"
          ],
          [
           "insulted"
          ],
          [
           "assailants"
          ],
          [
           "commercetaxation"
          ],
          [
           "cold"
          ],
          [
           "severely"
          ],
          [
           "enforced"
          ],
          [
           "keating"
          ],
          [
           "off"
          ],
          [
           "orders"
          ],
          [
           "benevolent"
          ],
          [
           "speedily"
          ],
          [
           "incapable"
          ],
          [
           "askedcertainly"
          ],
          [
           "messrs"
          ],
          [
           "artisans"
          ],
          [
           "carted"
          ],
          [
           "diseases"
          ],
          [
           "irritation"
          ],
          [
           "pick"
          ],
          [
           "334"
          ],
          [
           "bar"
          ],
          [
           "few"
          ],
          [
           "reference"
          ],
          [
           "europeans"
          ],
          [
           "sued"
          ],
          [
           "defined"
          ],
          [
           "convicting"
          ],
          [
           "halsburys"
          ],
          [
           "vices"
          ],
          [
           "put"
          ],
          [
           "multifarious"
          ],
          [
           "denied"
          ],
          [
           "species"
          ],
          [
           "abstract"
          ],
          [
           "disproportioned"
          ],
          [
           "influences"
          ],
          [
           "epidemic"
          ],
          [
           "infringed"
          ],
          [
           "october"
          ],
          [
           "suffers"
          ],
          [
           "mongolians"
          ],
          [
           "tempted"
          ],
          [
           "fears"
          ],
          [
           "page"
          ],
          [
           "unleavened"
          ],
          [
           "dry"
          ],
          [
           "carry"
          ],
          [
           "supply"
          ],
          [
           "thefts"
          ],
          [
           "consequent"
          ],
          [
           "92alienstrade"
          ],
          [
           "fast"
          ],
          [
           "custody"
          ],
          [
           "two"
          ],
          [
           "whereof"
          ],
          [
           "largely"
          ],
          [
           "arises"
          ],
          [
           "today"
          ],
          [
           "continue"
          ],
          [
           "type"
          ],
          [
           "homma"
          ],
          [
           "quarter"
          ],
          [
           "decided"
          ],
          [
           "obligations"
          ],
          [
           "substantive"
          ],
          [
           "securing"
          ],
          [
           "unpopularity"
          ],
          [
           "requisite"
          ],
          [
           "81st"
          ],
          [
           "appearance"
          ],
          [
           "potest"
          ],
          [
           "clamor"
          ],
          [
           "establishment"
          ],
          [
           "laborious"
          ],
          [
           "prisoners"
          ],
          [
           "accident"
          ],
          [
           "they"
          ],
          [
           "sum"
          ],
          [
           "large"
          ],
          [
           "vote"
          ],
          [
           "filthy"
          ],
          [
           "inconsistent"
          ],
          [
           "preventative"
          ],
          [
           "forest"
          ],
          [
           "remedies"
          ],
          [
           "demanded"
          ],
          [
           "engrossed"
          ],
          [
           "conduct"
          ],
          [
           "round"
          ],
          [
           "immigration"
          ],
          [
           "negation"
          ],
          [
           "separately"
          ],
          [
           "conditions"
          ],
          [
           "belisle"
          ],
          [
           "harassing"
          ],
          [
           "taxing"
          ],
          [
           "towns"
          ],
          [
           "disappear"
          ],
          [
           "incomes"
          ],
          [
           "attacks"
          ],
          [
           "number"
          ],
          [
           "high"
          ],
          [
           "preceding"
          ],
          [
           "acting"
          ],
          [
           "register"
          ],
          [
           "comparison"
          ],
          [
           "enabling"
          ],
          [
           "offences"
          ],
          [
           "observe"
          ],
          [
           "hodmen"
          ],
          [
           "25th"
          ],
          [
           "has"
          ],
          [
           "discriminating"
          ],
          [
           "widespread"
          ],
          [
           "gardeners"
          ],
          [
           "suitor"
          ],
          [
           "layers"
          ],
          [
           "hongkong"
          ],
          [
           "society"
          ],
          [
           "unattended"
          ],
          [
           "probably"
          ],
          [
           "wait"
          ],
          [
           "recent"
          ],
          [
           "extraordinary"
          ],
          [
           "saysit"
          ],
          [
           "beneath"
          ],
          [
           "constituencies"
          ],
          [
           "included"
          ],
          [
           "per"
          ],
          [
           "punishment"
          ],
          [
           "goodsized"
          ],
          [
           "impaired"
          ],
          [
           "product"
          ],
          [
           "mentioned"
          ],
          [
           "break"
          ],
          [
           "municiregina"
          ],
          [
           "lucrative"
          ],
          [
           "metals"
          ],
          [
           "advertised"
          ],
          [
           "requires"
          ],
          [
           "allegation"
          ],
          [
           "consignments"
          ],
          [
           "occupying"
          ],
          [
           "inquiry"
          ],
          [
           "fiscal"
          ],
          [
           "grounds"
          ],
          [
           "infirmity"
          ],
          [
           "burah"
          ],
          [
           "establishes"
          ],
          [
           "protect"
          ],
          [
           "london"
          ],
          [
           "concealment"
          ],
          [
           "intentionally"
          ],
          [
           "imitate"
          ],
          [
           "origin"
          ],
          [
           "settlements"
          ],
          [
           "determination"
          ],
          [
           "contending"
          ],
          [
           "branch"
          ],
          [
           "back"
          ],
          [
           "suggesting"
          ],
          [
           "lower"
          ],
          [
           "during"
          ],
          [
           "drunkenness"
          ],
          [
           "aforesaid"
          ],
          [
           "everywhere"
          ],
          [
           "reluctantly"
          ],
          [
           "magistrates"
          ],
          [
           "supplies"
          ],
          [
           "birth"
          ],
          [
           "contravening"
          ],
          [
           "setting"
          ],
          [
           "twentynine"
          ],
          [
           "vires"
          ],
          [
           "sister"
          ],
          [
           "proved"
          ],
          [
           "ageevery"
          ],
          [
           "colony"
          ],
          [
           "followed"
          ],
          [
           "discretionnot"
          ],
          [
           "maintainable"
          ],
          [
           "acute"
          ],
          [
           "borders"
          ],
          [
           "meddle"
          ],
          [
           "conceive"
          ],
          [
           "579"
          ],
          [
           "load"
          ],
          [
           "quene"
          ],
          [
           "chapter"
          ],
          [
           "kneads"
          ],
          [
           "independent"
          ],
          [
           "uninteresting"
          ],
          [
           "preacher"
          ],
          [
           "woollen"
          ],
          [
           "imposed"
          ],
          [
           "imaginary"
          ],
          [
           "accompanied"
          ],
          [
           "half"
          ],
          [
           "imperial"
          ],
          [
           "sing"
          ],
          [
           "vested"
          ],
          [
           "professions"
          ],
          [
           "private"
          ],
          [
           "while"
          ],
          [
           "brick"
          ],
          [
           "prohibitive"
          ],
          [
           "distinct"
          ],
          [
           "ensure"
          ],
          [
           "financial"
          ],
          [
           "fatal"
          ],
          [
           "comes"
          ],
          [
           "my"
          ],
          [
           "wishes"
          ],
          [
           "same"
          ],
          [
           "persecution"
          ],
          [
           "wageearners"
          ],
          [
           "mongolian"
          ],
          [
           "resolutions"
          ],
          [
           "charge"
          ],
          [
           "nominate"
          ],
          [
           "rival"
          ],
          [
           "cantonments"
          ],
          [
           "qualities"
          ],
          [
           "here"
          ],
          [
           "lr"
          ],
          [
           "supported"
          ],
          [
           "incompetent"
          ],
          [
           "those"
          ],
          [
           "infrequently"
          ],
          [
           "premier"
          ],
          [
           "inadequate"
          ],
          [
           "hispeople"
          ],
          [
           "party"
          ],
          [
           "consistency"
          ],
          [
           "burlingame"
          ],
          [
           "would"
          ],
          [
           "citizenfor"
          ],
          [
           "parts"
          ],
          [
           "cleanly"
          ],
          [
           "hereditary"
          ],
          [
           "consenting"
          ],
          [
           "lose"
          ],
          [
           "graduated"
          ],
          [
           "g"
          ],
          [
           "premises"
          ],
          [
           "probability"
          ],
          [
           "1882"
          ],
          [
           "review"
          ],
          [
           "dow"
          ],
          [
           "dr"
          ],
          [
           "approvingly"
          ],
          [
           "excessive"
          ],
          [
           "validate"
          ],
          [
           "emigrants"
          ],
          [
           "stagger"
          ],
          [
           "dormant"
          ],
          [
           "escaped"
          ],
          [
           "river"
          ],
          [
           "abandoned"
          ],
          [
           "morning"
          ],
          [
           "vaccination"
          ],
          [
           "contempt"
          ],
          [
           "inequality"
          ],
          [
           "lodging"
          ],
          [
           "rivers"
          ],
          [
           "wall"
          ],
          [
           "opened"
          ],
          [
           "severn"
          ],
          [
           "3with"
          ],
          [
           "permanent"
          ],
          [
           "ss"
          ],
          [
           "levy"
          ],
          [
           "states"
          ],
          [
           "individuals"
          ],
          [
           "discretion"
          ],
          [
           "refused"
          ],
          [
           "individual"
          ],
          [
           "dated"
          ],
          [
           "naturalborn"
          ],
          [
           "mandate"
          ],
          [
           "brought"
          ],
          [
           "manufacturers"
          ],
          [
           "prescribe"
          ],
          [
           "analogous"
          ],
          [
           "guilds"
          ],
          [
           "vast"
          ],
          [
           "261"
          ],
          [
           "engaged"
          ],
          [
           "shoe"
          ],
          [
           "deals"
          ],
          [
           "regulating"
          ],
          [
           "average"
          ],
          [
           "philanthropy"
          ],
          [
           "shoes"
          ],
          [
           "busy"
          ],
          [
           "washerman"
          ],
          [
           "six"
          ],
          [
           "scarce"
          ],
          [
           "main"
          ],
          [
           "convention"
          ],
          [
           "added"
          ],
          [
           "36b"
          ],
          [
           "audience"
          ],
          [
           "kindred"
          ],
          [
           "render"
          ],
          [
           "known"
          ],
          [
           "crime"
          ],
          [
           "found"
          ],
          [
           "julius"
          ],
          [
           "extenso"
          ],
          [
           "medical"
          ],
          [
           "restaurants"
          ],
          [
           "position"
          ],
          [
           "authorize"
          ],
          [
           "fortyeighth"
          ],
          [
           "doctrine"
          ],
          [
           "blood"
          ],
          [
           "correct"
          ],
          [
           "passes"
          ],
          [
           "otherscooleys"
          ],
          [
           "conclusive"
          ],
          [
           "civilization"
          ],
          [
           "days"
          ],
          [
           "chaptered"
          ],
          [
           "bend"
          ],
          [
           "cj"
          ],
          [
           "distress"
          ],
          [
           "agreed"
          ],
          [
           "supplying"
          ],
          [
           "capacities"
          ],
          [
           "enjoyment"
          ],
          [
           "stringent"
          ],
          [
           "treats"
          ],
          [
           "morals"
          ],
          [
           "payments"
          ],
          [
           "uproar"
          ],
          [
           "christians"
          ],
          [
           "sheer"
          ],
          [
           "sees"
          ],
          [
           "mercy"
          ],
          [
           "subscription"
          ],
          [
           "side"
          ],
          [
           "bunk"
          ],
          [
           "forefathersthat"
          ],
          [
           "according"
          ],
          [
           "refusal"
          ],
          [
           "material"
          ],
          [
           "cared"
          ],
          [
           "knowingly"
          ],
          [
           "sew"
          ],
          [
           "through"
          ],
          [
           "success"
          ],
          [
           "arbitrarily"
          ],
          [
           "area"
          ],
          [
           "enable"
          ],
          [
           "absolutely"
          ],
          [
           "modify"
          ],
          [
           "forms"
          ],
          [
           "sides"
          ],
          [
           "asserts"
          ],
          [
           "retire"
          ],
          [
           "along"
          ],
          [
           "universal"
          ],
          [
           "majority"
          ],
          [
           "8"
          ],
          [
           "inference"
          ],
          [
           "lodge"
          ],
          [
           "adversaries"
          ],
          [
           "subsequently"
          ],
          [
           "progressed"
          ],
          [
           "consumption"
          ],
          [
           "deference"
          ],
          [
           "came"
          ],
          [
           "assertion"
          ],
          [
           "previous"
          ],
          [
           "partakes"
          ],
          [
           "null"
          ],
          [
           "total"
          ],
          [
           "suited"
          ],
          [
           "certiorarichinese"
          ],
          [
           "10"
          ],
          [
           "relieve"
          ],
          [
           "satins"
          ],
          [
           "get"
          ],
          [
           "falsely"
          ],
          [
           "openly"
          ],
          [
           "control"
          ],
          [
           "dollar"
          ],
          [
           "exemption"
          ],
          [
           "assist"
          ],
          [
           "deciding"
          ],
          [
           "penal"
          ],
          [
           "29"
          ],
          [
           "cas"
          ],
          [
           "seal"
          ],
          [
           "unreasonable"
          ],
          [
           "impartial"
          ],
          [
           "aken"
          ],
          [
           "involves"
          ],
          [
           "unwholesome"
          ],
          [
           "95"
          ],
          [
           "wife"
          ],
          [
           "failing"
          ],
          [
           "protected"
          ],
          [
           "substance"
          ],
          [
           "creek"
          ],
          [
           "waits"
          ],
          [
           "navvy"
          ],
          [
           "no"
          ],
          [
           "questioner"
          ],
          [
           "offender"
          ],
          [
           "wing"
          ],
          [
           "loss"
          ],
          [
           "mechanics"
          ],
          [
           "wherein"
          ],
          [
           "previously"
          ],
          [
           "dominions"
          ],
          [
           "decisive"
          ],
          [
           "shoot"
          ],
          [
           "powder"
          ],
          [
           "born"
          ],
          [
           "fitzmaurice"
          ],
          [
           "tenants"
          ],
          [
           "julyon"
          ],
          [
           "britain"
          ],
          [
           "strange"
          ],
          [
           "local"
          ],
          [
           "9tarationmunicipal"
          ],
          [
           "god"
          ],
          [
           "prosecutors"
          ],
          [
           "110000"
          ],
          [
           "whole"
          ],
          [
           "slaves"
          ],
          [
           "considerable"
          ],
          [
           "keeps"
          ],
          [
           "attributable"
          ],
          [
           "assault"
          ],
          [
           "neighboring"
          ],
          [
           "otherwise"
          ],
          [
           "hoy"
          ],
          [
           "show"
          ],
          [
           "fall"
          ],
          [
           "fifthlywhether"
          ],
          [
           "telephone"
          ],
          [
           "capabilities"
          ],
          [
           "eighty"
          ],
          [
           "liability"
          ],
          [
           "pestilential"
          ],
          [
           "defining"
          ],
          [
           "categories"
          ],
          [
           "surgical"
          ],
          [
           "furnish"
          ],
          [
           "cottage"
          ],
          [
           "applied"
          ],
          [
           "operated"
          ],
          [
           "suffer"
          ],
          [
           "precious"
          ],
          [
           "ago"
          ],
          [
           "gold"
          ],
          [
           "week"
          ],
          [
           "afterwards"
          ],
          [
           "statesmanlike"
          ],
          [
           "withering"
          ],
          [
           "impulse"
          ],
          [
           "prohibited"
          ],
          [
           "enormous"
          ],
          [
           "weapon"
          ],
          [
           "cassiar"
          ],
          [
           "looking"
          ],
          [
           "weavers"
          ],
          [
           "voyage"
          ],
          [
           "fifteen"
          ],
          [
           "for"
          ],
          [
           "allotted"
          ],
          [
           "transacted"
          ],
          [
           "cannery"
          ],
          [
           "chong"
          ],
          [
           "option"
          ],
          [
           "legal"
          ],
          [
           "save"
          ],
          [
           "ceaseless"
          ],
          [
           "drive"
          ],
          [
           "barring"
          ],
          [
           "fruit"
          ],
          [
           "voluntarily"
          ],
          [
           "forbid"
          ],
          [
           "skill"
          ],
          [
           "infraction"
          ],
          [
           "levelled"
          ],
          [
           "settlers"
          ],
          [
           "furious"
          ],
          [
           "toil"
          ],
          [
           "staple"
          ],
          [
           "gas"
          ],
          [
           "yates"
          ],
          [
           "skilled"
          ],
          [
           "disagree"
          ],
          [
           "used"
          ],
          [
           "evil"
          ],
          [
           "mcquillan"
          ],
          [
           "stopped"
          ],
          [
           "inoculated"
          ],
          [
           "calling"
          ],
          [
           "deeming"
          ],
          [
           "prosecuted"
          ],
          [
           "unskilled"
          ],
          [
           "unusual"
          ],
          [
           "highly"
          ],
          [
           "inducements"
          ],
          [
           "queen"
          ],
          [
           "dialects"
          ],
          [
           "outside"
          ],
          [
           "russell"
          ],
          [
           "trader"
          ],
          [
           "fact"
          ],
          [
           "entirely"
          ],
          [
           "35"
          ],
          [
           "schedule"
          ],
          [
           "1911"
          ],
          [
           "settles"
          ],
          [
           "boycott"
          ],
          [
           "nonchristian"
          ],
          [
           "follows"
          ],
          [
           "annul"
          ],
          [
           "curtail"
          ],
          [
           "municipalities"
          ],
          [
           "over"
          ],
          [
           "obvious"
          ],
          [
           "kind"
          ],
          [
           "suspect"
          ],
          [
           "population"
          ],
          [
           "issuing"
          ],
          [
           "reasons"
          ],
          [
           "rsc"
          ],
          [
           "hewer"
          ],
          [
           "overbear"
          ],
          [
           "coupled"
          ],
          [
           "expired"
          ],
          [
           "barbarous"
          ],
          [
           "comforts"
          ],
          [
           "interfere"
          ],
          [
           "calnstone"
          ],
          [
           "depraved"
          ],
          [
           "federal"
          ],
          [
           "9"
          ],
          [
           "rendering"
          ],
          [
           "herein"
          ],
          [
           "2nd"
          ],
          [
           "concerns"
          ],
          [
           "fitting"
          ],
          [
           "servants"
          ],
          [
           "impossible"
          ],
          [
           "admitted"
          ],
          [
           "justly"
          ],
          [
           "got"
          ],
          [
           "appreciate"
          ],
          [
           "health"
          ],
          [
           "much"
          ],
          [
           "ucqb"
          ],
          [
           "progressive"
          ],
          [
           "throughout"
          ],
          [
           "smoked"
          ],
          [
           "conferred"
          ],
          [
           "dependent"
          ],
          [
           "laid"
          ],
          [
           "spirit"
          ],
          [
           "differently"
          ],
          [
           "156157"
          ],
          [
           "malignant"
          ],
          [
           "inquire"
          ],
          [
           "emphasizes"
          ],
          [
           "anl"
          ],
          [
           "boss"
          ],
          [
           "returned"
          ],
          [
           "lawbna"
          ],
          [
           "assurance"
          ],
          [
           "fatherland"
          ],
          [
           "occupations"
          ],
          [
           "derogation"
          ],
          [
           "severe"
          ],
          [
           "air"
          ],
          [
           "about"
          ],
          [
           "constantly"
          ],
          [
           "express"
          ],
          [
           "long"
          ],
          [
           "suppression"
          ],
          [
           "pith"
          ],
          [
           "provoked"
          ],
          [
           "declares"
          ],
          [
           "relative"
          ],
          [
           "system"
          ],
          [
           "140"
          ],
          [
           "posing"
          ],
          [
           "bloated"
          ],
          [
           "propensities"
          ],
          [
           "harass"
          ],
          [
           "injury"
          ],
          [
           "council"
          ],
          [
           "enterprises"
          ],
          [
           "herewould"
          ],
          [
           "mixers"
          ],
          [
           "sift"
          ],
          [
           "occasionally"
          ],
          [
           "resulting"
          ],
          [
           "prepares"
          ],
          [
           "borrow"
          ],
          [
           "down"
          ],
          [
           "claims"
          ],
          [
           "ahead"
          ],
          [
           "sedatives"
          ],
          [
           "close"
          ],
          [
           "dorsetshire"
          ],
          [
           "authorities"
          ],
          [
           "continually"
          ],
          [
           "c"
          ],
          [
           "needs"
          ],
          [
           "tradesunions"
          ],
          [
           "enjoying"
          ],
          [
           "opine"
          ],
          [
           "ridiculous"
          ],
          [
           "inclined"
          ],
          [
           "suggested"
          ],
          [
           "thoroughly"
          ],
          [
           "et"
          ],
          [
           "henry"
          ],
          [
           "increased"
          ],
          [
           "competitor"
          ],
          [
           "acquiring"
          ],
          [
           "wears"
          ],
          [
           "go"
          ],
          [
           "programmes"
          ],
          [
           "contradictory"
          ],
          [
           "parade"
          ],
          [
           "descriptive"
          ],
          [
           "necessity"
          ],
          [
           "versus"
          ],
          [
           "10th"
          ],
          [
           "yellow"
          ],
          [
           "transgression"
          ],
          [
           "timber"
          ],
          [
           "generally"
          ],
          [
           "south"
          ],
          [
           "esteemed"
          ],
          [
           "pays"
          ],
          [
           "dwellings"
          ],
          [
           "sawyer"
          ],
          [
           "choice"
          ],
          [
           "admission"
          ],
          [
           "justice"
          ],
          [
           "quasigovernment"
          ],
          [
           "depth"
          ],
          [
           "expresses"
          ],
          [
           "alter"
          ],
          [
           "600"
          ],
          [
           "because"
          ],
          [
           "northern"
          ],
          [
           "crimes"
          ],
          [
           "doubtful"
          ],
          [
           "chapleau"
          ],
          [
           "recognize"
          ],
          [
           "influence"
          ],
          [
           "gaols"
          ],
          [
           "girl"
          ],
          [
           "ply"
          ],
          [
           "polls"
          ],
          [
           "1867"
          ],
          [
           "lay"
          ],
          [
           "year"
          ],
          [
           "exocheen"
          ],
          [
           "arrived"
          ],
          [
           "deeply"
          ],
          [
           "farmers"
          ],
          [
           "adjudge"
          ],
          [
           "23"
          ],
          [
           "hears"
          ],
          [
           "intercourse"
          ],
          [
           "abide"
          ],
          [
           "interferes"
          ],
          [
           "22000"
          ],
          [
           "works"
          ],
          [
           "political"
          ],
          [
           "unlawful"
          ],
          [
           "prompted"
          ],
          [
           "stay"
          ],
          [
           "discharge"
          ],
          [
           "motive"
          ],
          [
           "1634"
          ],
          [
           "went"
          ],
          [
           "vary"
          ],
          [
           "waste"
          ],
          [
           "exceptional"
          ],
          [
           "useful"
          ],
          [
           "rockers"
          ],
          [
           "prophesy"
          ],
          [
           "strength"
          ],
          [
           "exaggerate"
          ],
          [
           "one"
          ],
          [
           "constituting"
          ],
          [
           "keeping"
          ],
          [
           "shocking"
          ],
          [
           "respectably"
          ],
          [
           "award"
          ],
          [
           "runs"
          ],
          [
           "ones"
          ],
          [
           "powers"
          ],
          [
           "morality"
          ],
          [
           "forth"
          ],
          [
           "twoviz"
          ],
          [
           "judges"
          ],
          [
           "immaterial"
          ],
          [
           "engage"
          ],
          [
           "erroneous"
          ],
          [
           "class"
          ],
          [
           "shut"
          ],
          [
           "cars"
          ],
          [
           "abundant"
          ],
          [
           "bryden"
          ],
          [
           "across"
          ],
          [
           "visit"
          ],
          [
           "infant"
          ],
          [
           "improves"
          ],
          [
           "secondlytrade"
          ],
          [
           "objectionable"
          ],
          [
           "remain"
          ],
          [
           "pretense"
          ],
          [
           "opportunities"
          ],
          [
           "ten"
          ],
          [
           "woon"
          ],
          [
           "had"
          ],
          [
           "recollect"
          ],
          [
           "insisted"
          ],
          [
           "regina"
          ],
          [
           "severns"
          ],
          [
           "remove"
          ],
          [
           "writing"
          ],
          [
           "weights"
          ],
          [
           "swift"
          ],
          [
           "deterrent"
          ],
          [
           "never"
          ],
          [
           "bearings"
          ],
          [
           "managing"
          ],
          [
           "canton"
          ],
          [
           "relief"
          ],
          [
           "paid"
          ],
          [
           "relatively"
          ],
          [
           "combine"
          ],
          [
           "imperatively"
          ],
          [
           "casting"
          ],
          [
           "maintaining"
          ],
          [
           "wail"
          ],
          [
           "contracts"
          ],
          [
           "thousand"
          ],
          [
           "struck"
          ],
          [
           "subsec"
          ],
          [
           "simile"
          ],
          [
           "subjects"
          ],
          [
           "many"
          ],
          [
           "judgments"
          ],
          [
           "mineral"
          ],
          [
           "north"
          ],
          [
           "clans"
          ],
          [
           "jonas"
          ],
          [
           "happen"
          ],
          [
           "come"
          ],
          [
           "collector"
          ],
          [
           "incalculable"
          ],
          [
           "soil"
          ],
          [
           "murders"
          ],
          [
           "industries"
          ],
          [
           "executive"
          ],
          [
           "buildings"
          ],
          [
           "knows"
          ],
          [
           "selection"
          ],
          [
           "children"
          ],
          [
           "lansdowne"
          ],
          [
           "bait"
          ],
          [
           "threats"
          ],
          [
           "enactments"
          ],
          [
           "continental"
          ],
          [
           "parrott"
          ],
          [
           "passed"
          ],
          [
           "features"
          ],
          [
           "japanese"
          ],
          [
           "current"
          ],
          [
           "compradors"
          ],
          [
           "trespass"
          ],
          [
           "colour"
          ],
          [
           "14"
          ],
          [
           "attractive"
          ],
          [
           "disposed"
          ],
          [
           "impenetrable"
          ],
          [
           "dwelling"
          ],
          [
           "purpose"
          ],
          [
           "chartered"
          ],
          [
           "saw"
          ],
          [
           "infringements"
          ],
          [
           "density"
          ],
          [
           "monotony"
          ],
          [
           "framers"
          ],
          [
           "appellant"
          ],
          [
           "meaning"
          ],
          [
           "logically"
          ],
          [
           "against"
          ],
          [
           "inhabited"
          ],
          [
           "boxes"
          ],
          [
           "remark"
          ],
          [
           "150"
          ],
          [
           "actually"
          ],
          [
           "residual"
          ],
          [
           "obtain"
          ],
          [
           "devour"
          ],
          [
           "ample"
          ],
          [
           "affairs"
          ],
          [
           "267"
          ],
          [
           "correlative"
          ],
          [
           "interfered"
          ],
          [
           "investigations"
          ],
          [
           "strike"
          ],
          [
           "common"
          ],
          [
           "withdrawn"
          ],
          [
           "contradiction"
          ],
          [
           "distance"
          ],
          [
           "unpopular"
          ],
          [
           "successors"
          ],
          [
           "eliminate"
          ],
          [
           "denote"
          ],
          [
           "rents"
          ],
          [
           "california"
          ],
          [
           "axiom"
          ],
          [
           "martin"
          ],
          [
           "ii"
          ],
          [
           "disadvantages"
          ],
          [
           "impose"
          ],
          [
           "stipendiary"
          ],
          [
           "extra"
          ],
          [
           "prevented"
          ],
          [
           "30000"
          ],
          [
           "nations"
          ],
          [
           "test"
          ],
          [
           "informant"
          ],
          [
           "guarantee"
          ],
          [
           "consisting"
          ],
          [
           "depart"
          ],
          [
           "falls"
          ],
          [
           "impression"
          ],
          [
           "lrqb"
          ],
          [
           "brothels"
          ],
          [
           "seized"
          ],
          [
           "anxious"
          ],
          [
           "qua"
          ],
          [
           "swear"
          ],
          [
           "p"
          ],
          [
           "grace"
          ],
          [
           "foremost"
          ],
          [
           "delivering"
          ],
          [
           "dissented"
          ],
          [
           "railways"
          ],
          [
           "embraced"
          ],
          [
           "feeling"
          ],
          [
           "200"
          ],
          [
           "statute"
          ],
          [
           "objected"
          ],
          [
           "empress"
          ],
          [
           "contended"
          ],
          [
           "countrymen"
          ],
          [
           "wind"
          ],
          [
           "expression"
          ],
          [
           "ships"
          ],
          [
           "source"
          ],
          [
           "purse"
          ],
          [
           "m"
          ],
          [
           "contribute"
          ],
          [
           "suspected"
          ],
          [
           "purchases"
          ],
          [
           "calendar"
          ],
          [
           "weeks"
          ],
          [
           "herethat"
          ],
          [
           "busied"
          ],
          [
           "fire"
          ],
          [
           "resisted"
          ],
          [
           "set"
          ],
          [
           "important"
          ],
          [
           "attention"
          ],
          [
           "1896"
          ],
          [
           "formidable"
          ],
          [
           "internal"
          ],
          [
           "disorders"
          ],
          [
           "surely"
          ],
          [
           "territorial"
          ],
          [
           "all"
          ],
          [
           "growing"
          ],
          [
           "comparatively"
          ],
          [
           "macnaghten"
          ],
          [
           "requiring"
          ],
          [
           "commence"
          ],
          [
           "continent"
          ],
          [
           "developed"
          ],
          [
           "completion"
          ],
          [
           "plains"
          ],
          [
           "taking"
          ],
          [
           "hoffman"
          ],
          [
           "people"
          ],
          [
           "canoe"
          ],
          [
           "faith"
          ],
          [
           "lowest"
          ],
          [
           "asserted"
          ],
          [
           "reading"
          ],
          [
           "that"
          ],
          [
           "maxwell"
          ],
          [
           "peculiar"
          ],
          [
           "counterbalanced"
          ],
          [
           "naturally"
          ],
          [
           "practical"
          ],
          [
           "kinds"
          ],
          [
           "hitherto"
          ],
          [
           "industrial"
          ],
          [
           "accumulated"
          ],
          [
           "wellknown"
          ],
          [
           "shame"
          ],
          [
           "let"
          ],
          [
           "dagger"
          ],
          [
           "rest"
          ],
          [
           "scale"
          ],
          [
           "impassable"
          ],
          [
           "commercematters"
          ],
          [
           "blacksmiths"
          ],
          [
           "select"
          ],
          [
           "twenty"
          ],
          [
           "becoming"
          ],
          [
           "done"
          ],
          [
           "immigrants"
          ],
          [
           "persuaded"
          ],
          [
           "improvements"
          ],
          [
           "upon"
          ],
          [
           "include"
          ],
          [
           "manservants"
          ],
          [
           "succession"
          ],
          [
           "mistake"
          ],
          [
           "hopgrounds"
          ],
          [
           "equivalent"
          ],
          [
           "pilfered"
          ],
          [
           "indispensable"
          ],
          [
           "precluded"
          ],
          [
           "commonest"
          ],
          [
           "legitimate"
          ],
          [
           "color"
          ],
          [
           "deny"
          ],
          [
           "flag"
          ],
          [
           "explained"
          ],
          [
           "31"
          ],
          [
           "mee"
          ],
          [
           "appeal"
          ],
          [
           "agitation"
          ],
          [
           "unable"
          ],
          [
           "extent"
          ],
          [
           "innocence"
          ],
          [
           "subject"
          ],
          [
           "vain"
          ],
          [
           "retained"
          ],
          [
           "anywhere"
          ],
          [
           "franchise"
          ],
          [
           "resident"
          ],
          [
           "coolies"
          ],
          [
           "slave"
          ],
          [
           "1842"
          ],
          [
           "strongest"
          ],
          [
           "829"
          ],
          [
           "underlying"
          ],
          [
           "each"
          ],
          [
           "stringently"
          ],
          [
           "shovel"
          ],
          [
           "fees"
          ],
          [
           "restrictions"
          ],
          [
           "from"
          ],
          [
           "worked"
          ],
          [
           "time"
          ],
          [
           "empire"
          ],
          [
           "owners"
          ],
          [
           "sentiment"
          ],
          [
           "out"
          ],
          [
           "unsatisfactory"
          ],
          [
           "cooleys"
          ],
          [
           "cherished"
          ],
          [
           "garb"
          ],
          [
           "blind"
          ],
          [
           "did"
          ],
          [
           "equity"
          ],
          [
           "national"
          ],
          [
           "compete"
          ],
          [
           "coalminers"
          ],
          [
           "consistently"
          ],
          [
           "advertise"
          ],
          [
           "possessed"
          ],
          [
           "113"
          ],
          [
           "wilful"
          ],
          [
           "themselves"
          ],
          [
           "january"
          ],
          [
           "believe"
          ],
          [
           "wins"
          ],
          [
           "need"
          ],
          [
           "crease"
          ],
          [
           "discreetly"
          ],
          [
           "deprived"
          ],
          [
           "actively"
          ],
          [
           "humanity"
          ],
          [
           "on"
          ],
          [
           "differential"
          ],
          [
           "disabled"
          ],
          [
           "wilts"
          ],
          [
           "regards"
          ],
          [
           "marry"
          ],
          [
           "venture"
          ],
          [
           "attribute"
          ],
          [
           "great"
          ],
          [
           "dissembled"
          ],
          [
           "fortifying"
          ],
          [
           "428"
          ],
          [
           "comprehensive"
          ],
          [
           "actuated"
          ],
          [
           "loud"
          ],
          [
           "scrupulously"
          ],
          [
           "distinguish"
          ],
          [
           "although"
          ],
          [
           "receive"
          ],
          [
           "holder"
          ],
          [
           "speak"
          ],
          [
           "hardcastle"
          ],
          [
           "ultimately"
          ],
          [
           "crown"
          ],
          [
           "purest"
          ],
          [
           "breadstuffs"
          ],
          [
           "surprise"
          ],
          [
           "living"
          ],
          [
           "rather"
          ],
          [
           "slaughter"
          ],
          [
           "analogus"
          ],
          [
           "restaurant"
          ],
          [
           "proceeded"
          ],
          [
           "notions"
          ],
          [
           "members"
          ],
          [
           "boast"
          ],
          [
           "met"
          ],
          [
           "26"
          ],
          [
           "helmcken"
          ],
          [
           "narrow"
          ],
          [
           "obliged"
          ],
          [
           "docile"
          ],
          [
           "detained"
          ],
          [
           "texture"
          ],
          [
           "matter"
          ],
          [
           "shall"
          ],
          [
           "accept"
          ],
          [
           "478"
          ],
          [
           "cemetery"
          ],
          [
           "pursuance"
          ],
          [
           "character"
          ],
          [
           "wanting"
          ],
          [
           "dealers"
          ],
          [
           "encouraged"
          ],
          [
           "cr"
          ],
          [
           "inculcate"
          ],
          [
           "chop"
          ],
          [
           "fortiori"
          ],
          [
           "scene"
          ],
          [
           "germans"
          ],
          [
           "mischief"
          ],
          [
           "exhaustion"
          ],
          [
           "tried"
          ],
          [
           "cargoes"
          ],
          [
           "direction"
          ],
          [
           "perhaps"
          ],
          [
           "cited"
          ],
          [
           "infer"
          ],
          [
           "inundation"
          ],
          [
           "which"
          ],
          [
           "absurdity"
          ],
          [
           "retail"
          ],
          [
           "unreality"
          ],
          [
           "including"
          ],
          [
           "inert"
          ],
          [
           "experience"
          ],
          [
           "issue"
          ],
          [
           "sons"
          ],
          [
           "stigmatized"
          ],
          [
           "indeed"
          ],
          [
           "lessening"
          ],
          [
           "courts"
          ],
          [
           "tables"
          ],
          [
           "pre"
          ],
          [
           "tolerable"
          ],
          [
           "imposition"
          ],
          [
           "generis"
          ],
          [
           "exceedingly"
          ],
          [
           "mutato"
          ],
          [
           "disgust"
          ],
          [
           "greater"
          ],
          [
           "534"
          ],
          [
           "thereof"
          ],
          [
           "unquesjudgment"
          ],
          [
           "desirable"
          ],
          [
           "oxford"
          ],
          [
           "perfectly"
          ],
          [
           "directed"
          ],
          [
           "onerous"
          ],
          [
           "cubic"
          ],
          [
           "guess"
          ],
          [
           "1885crease"
          ],
          [
           "solicitors"
          ],
          [
           "chosen"
          ],
          [
           "boarding"
          ],
          [
           "grow"
          ],
          [
           "contrasted"
          ],
          [
           "fitness"
          ],
          [
           "willing"
          ],
          [
           "dollars"
          ],
          [
           "contains"
          ],
          [
           "183"
          ],
          [
           "achieved"
          ],
          [
           "wilfully"
          ],
          [
           "simply"
          ],
          [
           "vetoed"
          ],
          [
           "support"
          ],
          [
           "opposed"
          ],
          [
           "disguise"
          ],
          [
           "presence"
          ],
          [
           "detection"
          ],
          [
           "firms"
          ],
          [
           "transactions"
          ],
          [
           "newly"
          ],
          [
           "remained"
          ],
          [
           "compelled"
          ],
          [
           "millions"
          ],
          [
           "pass"
          ],
          [
           "strictly"
          ],
          [
           "central"
          ],
          [
           "hearing"
          ],
          [
           "events"
          ],
          [
           "quash"
          ],
          [
           "reluctance"
          ],
          [
           "closing"
          ],
          [
           "richards"
          ],
          [
           "ignorant"
          ],
          [
           "month"
          ],
          [
           "broke"
          ],
          [
           "entertained"
          ],
          [
           "chance"
          ],
          [
           "regrettable"
          ],
          [
           "nomadic"
          ],
          [
           "inmate"
          ],
          [
           "mass"
          ],
          [
           "thirtyeight"
          ],
          [
           "life"
          ],
          [
           "paramount"
          ],
          [
           "sanction"
          ],
          [
           "unconstitutional"
          ],
          [
           "carriage"
          ],
          [
           "limited"
          ],
          [
           "proposed"
          ],
          [
           "infested"
          ],
          [
           "sulking"
          ],
          [
           "alike"
          ],
          [
           "prized"
          ],
          [
           "pay"
          ],
          [
           "attack"
          ],
          [
           "peculation"
          ],
          [
           "shock"
          ],
          [
           "litigation"
          ],
          [
           "performing"
          ],
          [
           "guarantees"
          ],
          [
           "second"
          ],
          [
           "striking"
          ],
          [
           "referred"
          ],
          [
           "corpus"
          ],
          [
           "jealous"
          ],
          [
           "though"
          ],
          [
           "disciplinary"
          ],
          [
           "else"
          ],
          [
           "submissive"
          ],
          [
           "outdoor"
          ],
          [
           "licensing"
          ],
          [
           "indictment"
          ],
          [
           "bright"
          ],
          [
           "fell"
          ],
          [
           "person"
          ],
          [
           "women"
          ],
          [
           "unquestionably"
          ],
          [
           "singular"
          ],
          [
           "sympathy"
          ],
          [
           "facilitate"
          ],
          [
           "favour"
          ],
          [
           "government"
          ],
          [
           "emergencies"
          ],
          [
           "construction"
          ],
          [
           "pawnbroking"
          ],
          [
           "washup"
          ],
          [
           "passage"
          ],
          [
           "permits"
          ],
          [
           "extort"
          ],
          [
           "unknown"
          ],
          [
           "funds"
          ],
          [
           "501"
          ],
          [
           "5000"
          ],
          [
           "recipients"
          ],
          [
           "practice"
          ],
          [
           "dec"
          ],
          [
           "hail"
          ],
          [
           "arrest"
          ],
          [
           "degrees"
          ],
          [
           "alluded"
          ],
          [
           "purely"
          ],
          [
           "selfsupporting"
          ],
          [
           "904"
          ],
          [
           "understanding"
          ],
          [
           "foreign"
          ],
          [
           "habitual"
          ],
          [
           "published"
          ],
          [
           "teburcio"
          ],
          [
           "425"
          ],
          [
           "travelling"
          ],
          [
           "armed"
          ],
          [
           "151"
          ],
          [
           "breaches"
          ],
          [
           "forfeit"
          ],
          [
           "autonomy"
          ],
          [
           "criterion"
          ],
          [
           "turn"
          ],
          [
           "do"
          ],
          [
           "vinegar"
          ],
          [
           "prejudicially"
          ],
          [
           "columbians"
          ],
          [
           "bad"
          ],
          [
           "distorted"
          ],
          [
           "term"
          ],
          [
           "indefinitely"
          ],
          [
           "congress"
          ],
          [
           "nanaimo"
          ],
          [
           "blindness"
          ],
          [
           "feelings"
          ],
          [
           "thereto"
          ],
          [
           "we"
          ],
          [
           "pronounce"
          ],
          [
           "expecting"
          ],
          [
           "punctuality"
          ],
          [
           "clansthere"
          ],
          [
           "dominionthat"
          ],
          [
           "fair"
          ],
          [
           "alluring"
          ],
          [
           "natural"
          ],
          [
           "interestssocial"
          ],
          [
           "reports"
          ],
          [
           "harjudgment"
          ],
          [
           "station"
          ],
          [
           "having"
          ],
          [
           "roumanian"
          ],
          [
           "408"
          ],
          [
           "unnatural"
          ],
          [
           "lawabiding"
          ],
          [
           "day"
          ],
          [
           "d"
          ],
          [
           "50"
          ],
          [
           "offensive"
          ],
          [
           "bringing"
          ],
          [
           "1843"
          ],
          [
           "send"
          ],
          [
           "distinctionmust"
          ],
          [
           "district"
          ],
          [
           "16th"
          ],
          [
           "dealt"
          ],
          [
           "edmundson"
          ],
          [
           "15000"
          ],
          [
           "executed"
          ],
          [
           "prosecution"
          ],
          [
           "slaughterhouse"
          ],
          [
           "simultaneously"
          ],
          [
           "providing"
          ],
          [
           "fruits"
          ],
          [
           "production"
          ],
          [
           "volunteer"
          ],
          [
           "assisted"
          ],
          [
           "fluids"
          ],
          [
           "coal"
          ],
          [
           "fourth"
          ],
          [
           "payment"
          ],
          [
           "356"
          ],
          [
           "basis"
          ],
          [
           "feb"
          ],
          [
           "dismiss"
          ],
          [
           "injuriously"
          ],
          [
           "appeared"
          ],
          [
           "thus"
          ],
          [
           "definite"
          ],
          [
           "way"
          ],
          [
           "engages"
          ],
          [
           "hardly"
          ],
          [
           "explain"
          ],
          [
           "admits"
          ],
          [
           "speculate"
          ],
          [
           "fongs"
          ],
          [
           "ascertain"
          ],
          [
           "vehmgericht"
          ],
          [
           "strangers"
          ],
          [
           "suppose"
          ],
          [
           "relieved"
          ],
          [
           "coin"
          ],
          [
           "750"
          ],
          [
           "inspecting"
          ],
          [
           "disbelieve"
          ],
          [
           "removed"
          ],
          [
           "managed"
          ],
          [
           "fourthlyas"
          ],
          [
           "exercise"
          ],
          [
           "vancouver"
          ],
          [
           "branches"
          ],
          [
           "capitalist"
          ],
          [
           "insignificant"
          ],
          [
           "characteristic"
          ],
          [
           "watchmakers"
          ],
          [
           "325"
          ],
          [
           "ac"
          ],
          [
           "earnings"
          ],
          [
           "gains"
          ],
          [
           "advantage"
          ],
          [
           "treaty"
          ],
          [
           "labor"
          ],
          [
           "witnesses"
          ],
          [
           "suspended"
          ],
          [
           "left"
          ],
          [
           "uniform"
          ],
          [
           "country"
          ],
          [
           "ofexposed"
          ],
          [
           "evils"
          ],
          [
           "tomey"
          ],
          [
           "look"
          ],
          [
           "hour"
          ],
          [
           "affectation"
          ],
          [
           "miner"
          ],
          [
           "insinuation"
          ],
          [
           "successfully"
          ],
          [
           "justification"
          ],
          [
           "choppers"
          ],
          [
           "socalled"
          ],
          [
           "felicity"
          ],
          [
           "eleven"
          ],
          [
           "lillctt"
          ],
          [
           "wayby"
          ],
          [
           "excluding"
          ],
          [
           "interview"
          ],
          [
           "east"
          ],
          [
           "arts"
          ],
          [
           "necessarily"
          ],
          [
           "article"
          ],
          [
           "objects"
          ],
          [
           "needed"
          ],
          [
           "hatred"
          ],
          [
           "true"
          ],
          [
           "invariably"
          ],
          [
           "germany"
          ],
          [
           "labourers"
          ],
          [
           "grand"
          ],
          [
           "positive"
          ],
          [
           "promise"
          ],
          [
           "determining"
          ],
          [
           "motion"
          ],
          [
           "and"
          ],
          [
           "successful"
          ],
          [
           "tended"
          ],
          [
           "knowledge"
          ],
          [
           "bake"
          ],
          [
           "market"
          ],
          [
           "manifestly"
          ],
          [
           "580"
          ],
          [
           "supporting"
          ],
          [
           "plenitude"
          ],
          [
           "unnecessary"
          ],
          [
           "apparently"
          ],
          [
           "inspection"
          ],
          [
           "forfeited"
          ],
          [
           "room"
          ],
          [
           "conclude"
          ],
          [
           "located"
          ],
          [
           "forty"
          ],
          [
           "obtained"
          ],
          [
           "forward"
          ],
          [
           "naturalization"
          ],
          [
           "unmistakable"
          ],
          [
           "lasted"
          ],
          [
           "taverns"
          ],
          [
           "root"
          ],
          [
           "pointed"
          ],
          [
           "platform"
          ],
          [
           "classed"
          ],
          [
           "congregate"
          ],
          [
           "realized"
          ],
          [
           "regulated"
          ],
          [
           "introduced"
          ],
          [
           "drduncan"
          ],
          [
           "dangerous"
          ],
          [
           "first"
          ],
          [
           "undoubtedly"
          ],
          [
           "male"
          ],
          [
           "interprets"
          ],
          [
           "towithin"
          ],
          [
           "numbers"
          ],
          [
           "9210"
          ],
          [
           "medicinal"
          ],
          [
           "prescribing"
          ],
          [
           "different"
          ],
          [
           "atom"
          ],
          [
           "despatching"
          ],
          [
           "esquire"
          ],
          [
           "opportunity"
          ],
          [
           "rejected"
          ],
          [
           "reasonableness"
          ],
          [
           "354"
          ],
          [
           "contends"
          ],
          [
           "invited"
          ],
          [
           "trusty"
          ],
          [
           "offer"
          ],
          [
           "carpenters"
          ],
          [
           "brings"
          ],
          [
           "pure"
          ],
          [
           "substantial"
          ],
          [
           "fund"
          ],
          [
           "leprosy"
          ],
          [
           "itcooley"
          ],
          [
           "late"
          ],
          [
           "cost"
          ],
          [
           "required"
          ],
          [
           "penniless"
          ],
          [
           "contained"
          ],
          [
           "distinction"
          ],
          [
           "insistedthat"
          ],
          [
           "infected"
          ],
          [
           "crow"
          ],
          [
           "merchants"
          ],
          [
           "wise"
          ],
          [
           "deemed"
          ],
          [
           "discriminations"
          ],
          [
           "howard"
          ],
          [
           "submit"
          ],
          [
           "regarded"
          ],
          [
           "shopkeepers"
          ],
          [
           "wilderness"
          ],
          [
           "employs"
          ],
          [
           "anthill"
          ],
          [
           "sir"
          ],
          [
           "viceadmiral"
          ],
          [
           "disadvantage"
          ],
          [
           "copies"
          ],
          [
           "kanakas"
          ],
          [
           "300"
          ],
          [
           "jaw"
          ],
          [
           "suit"
          ],
          [
           "usefulness"
          ],
          [
           "upheld"
          ],
          [
           "border"
          ],
          [
           "general"
          ],
          [
           "not"
          ],
          [
           "authenticated"
          ],
          [
           "jones"
          ],
          [
           "scarcely"
          ],
          [
           "fairly"
          ],
          [
           "appear"
          ],
          [
           "reasonings"
          ],
          [
           "contented"
          ],
          [
           "prisoner"
          ],
          [
           "exception"
          ],
          [
           "public"
          ],
          [
           "looks"
          ],
          [
           "834"
          ],
          [
           "interference"
          ],
          [
           "stated"
          ],
          [
           "ability"
          ],
          [
           "conveni"
          ],
          [
           "priority"
          ],
          [
           "endure"
          ],
          [
           "suffering"
          ],
          [
           "name"
          ],
          [
           "produced"
          ],
          [
           "sights"
          ],
          [
           "analogy"
          ],
          [
           "difficulties"
          ],
          [
           "proceed"
          ],
          [
           "consent"
          ],
          [
           "recall"
          ],
          [
           "respectable"
          ],
          [
           "establishing"
          ],
          [
           "began"
          ],
          [
           "proposition"
          ],
          [
           "contra"
          ],
          [
           "286"
          ],
          [
           "indians"
          ],
          [
           "40000"
          ],
          [
           "satisfactory"
          ],
          [
           "monthas"
          ],
          [
           "merits"
          ],
          [
           "suggest"
          ],
          [
           "hops"
          ],
          [
           "officer"
          ],
          [
           "misery"
          ],
          [
           "displays"
          ],
          [
           "immediate"
          ],
          [
           "town"
          ],
          [
           "cookwhere"
          ],
          [
           "whartons"
          ],
          [
           "maintained"
          ],
          [
           "engineers"
          ],
          [
           "taste"
          ],
          [
           "memory"
          ],
          [
           "employment"
          ],
          [
           "empowered"
          ],
          [
           "taxes"
          ],
          [
           "its"
          ],
          [
           "commencement"
          ],
          [
           "assemblages"
          ],
          [
           "state"
          ],
          [
           "empty"
          ],
          [
           "offspring"
          ],
          [
           "fide"
          ],
          [
           "wasting"
          ],
          [
           "plague"
          ],
          [
           "territory"
          ],
          [
           "1887"
          ],
          [
           "continuously"
          ],
          [
           "charged"
          ],
          [
           "future"
          ],
          [
           "exercising"
          ],
          [
           "137"
          ],
          [
           "progressing"
          ],
          [
           "sanitary"
          ],
          [
           "effected"
          ],
          [
           "tobacco"
          ],
          [
           "usefully"
          ],
          [
           "diminish"
          ],
          [
           "jews"
          ],
          [
           "instanced"
          ],
          [
           "light"
          ],
          [
           "method"
          ],
          [
           "gazette"
          ],
          [
           "comprehended"
          ],
          [
           "management"
          ],
          [
           "dependencies"
          ],
          [
           "warrants"
          ],
          [
           "grossly"
          ],
          [
           "speaking"
          ],
          [
           "virtual"
          ],
          [
           "upholding"
          ],
          [
           "fitzpatrick"
          ],
          [
           "tiburcio"
          ],
          [
           "minds"
          ],
          [
           "till"
          ],
          [
           "devils"
          ],
          [
           "endemic"
          ],
          [
           "civilized"
          ],
          [
           "stimulated"
          ],
          [
           "representatives"
          ],
          [
           "there"
          ],
          [
           "authorized"
          ],
          [
           "drunken"
          ],
          [
           "heap"
          ],
          [
           "166"
          ],
          [
           "word"
          ],
          [
           "bc"
          ],
          [
           "reside"
          ],
          [
           "offered"
          ],
          [
           "officers"
          ],
          [
           "grocers"
          ],
          [
           "fights"
          ],
          [
           "hated"
          ],
          [
           "does"
          ],
          [
           "veils"
          ],
          [
           "accepts"
          ],
          [
           "give"
          ],
          [
           "seen"
          ],
          [
           "frighten"
          ],
          [
           "be"
          ],
          [
           "applies"
          ],
          [
           "eightyfour"
          ],
          [
           "human"
          ],
          [
           "inherent"
          ],
          [
           "hangs"
          ],
          [
           "letters"
          ],
          [
           "degraded"
          ],
          [
           "submitted"
          ],
          [
           "notwithstanding"
          ],
          [
           "compel"
          ],
          [
           "personal"
          ],
          [
           "implied"
          ],
          [
           "hereand"
          ],
          [
           "resentment"
          ],
          [
           "institutions"
          ],
          [
           "vegetables"
          ],
          [
           "duties"
          ],
          [
           "suspicion"
          ],
          [
           "ownchinatowns"
          ],
          [
           "formerly"
          ],
          [
           "flattering"
          ],
          [
           "steadily"
          ],
          [
           "importable"
          ],
          [
           "bay"
          ],
          [
           "re"
          ],
          [
           "observer"
          ],
          [
           "demands"
          ],
          [
           "celebrated"
          ],
          [
           "vigorous"
          ],
          [
           "nor"
          ],
          [
           "strict"
          ],
          [
           "costs"
          ],
          [
           "freight"
          ],
          [
           "lost"
          ],
          [
           "mind"
          ],
          [
           "drinking"
          ],
          [
           "devised"
          ],
          [
           "italians"
          ],
          [
           "deserve"
          ],
          [
           "yield"
          ],
          [
           "multitude"
          ],
          [
           "before"
          ],
          [
           "etc"
          ],
          [
           "1090"
          ],
          [
           "deady"
          ],
          [
           "san"
          ],
          [
           "invested"
          ],
          [
           "unequal"
          ],
          [
           "donein"
          ],
          [
           "willingness"
          ],
          [
           "irresponsible"
          ],
          [
           "less"
          ],
          [
           "prosperity"
          ],
          [
           "settled"
          ],
          [
           "15"
          ],
          [
           "board"
          ],
          [
           "stolen"
          ],
          [
           "insolvent"
          ],
          [
           "goodhue"
          ],
          [
           "gr"
          ],
          [
           "summary"
          ],
          [
           "aspect"
          ],
          [
           "washed"
          ],
          [
           "judge"
          ],
          [
           "francisco"
          ],
          [
           "paydays"
          ],
          [
           "beyond"
          ],
          [
           "anything"
          ],
          [
           "opponents"
          ],
          [
           "vineyards"
          ],
          [
           "unsuited"
          ],
          [
           "evident"
          ],
          [
           "binding"
          ],
          [
           "any"
          ],
          [
           "leads"
          ],
          [
           "lie"
          ],
          [
           "anybody"
          ],
          [
           "impulsive"
          ],
          [
           "346"
          ],
          [
           "commerce"
          ],
          [
           "coloured"
          ],
          [
           "age"
          ],
          [
           "johnson"
          ],
          [
           "illogical"
          ],
          [
           "deserts"
          ],
          [
           "resist"
          ],
          [
           "play"
          ],
          [
           "awards"
          ],
          [
           "interprovincial"
          ],
          [
           "exhume"
          ],
          [
           "penalties"
          ],
          [
           "cal"
          ],
          [
           "examination"
          ],
          [
           "homestead"
          ],
          [
           "well"
          ],
          [
           "fettered"
          ],
          [
           "inhabitants"
          ],
          [
           "charles"
          ],
          [
           "orientals"
          ],
          [
           "excite"
          ],
          [
           "watsons"
          ],
          [
           "completely"
          ],
          [
           "dealing"
          ],
          [
           "effectual"
          ],
          [
           "washing"
          ],
          [
           "baker"
          ],
          [
           "ordinance"
          ],
          [
           "european"
          ],
          [
           "possible"
          ],
          [
           "majesty"
          ],
          [
           "covers"
          ],
          [
           "wearying"
          ],
          [
           "sweet"
          ],
          [
           "americans"
          ],
          [
           "christianity"
          ],
          [
           "uncomfortable"
          ],
          [
           "impugned"
          ],
          [
           "cui"
          ],
          [
           "supervision"
          ],
          [
           "auctioneer"
          ],
          [
           "laboring"
          ],
          [
           "repudiate"
          ],
          [
           "proceedings"
          ],
          [
           "366"
          ],
          [
           "legislating"
          ],
          [
           "treated"
          ],
          [
           "machinery"
          ],
          [
           "initio"
          ],
          [
           "expected"
          ],
          [
           "every"
          ],
          [
           "sorry"
          ],
          [
           "held"
          ],
          [
           "churches"
          ],
          [
           "meant"
          ],
          [
           "accurate"
          ],
          [
           "bothering"
          ],
          [
           "turned"
          ],
          [
           "acts"
          ],
          [
           "70"
          ],
          [
           "threshingmachines"
          ],
          [
           "putting"
          ],
          [
           "acres"
          ],
          [
           "continued"
          ],
          [
           "steamers"
          ],
          [
           "conveyed"
          ],
          [
           "bear"
          ],
          [
           "litter"
          ],
          [
           "advised"
          ],
          [
           "islands"
          ],
          [
           "freely"
          ],
          [
           "boys"
          ],
          [
           "guardians"
          ],
          [
           "disobeying"
          ],
          [
           "rise"
          ],
          [
           "hours"
          ],
          [
           "uttered"
          ],
          [
           "small"
          ],
          [
           "1874"
          ],
          [
           "example"
          ],
          [
           "john"
          ],
          [
           "expert"
          ],
          [
           "newcomers"
          ],
          [
           "bind"
          ],
          [
           "bp"
          ],
          [
           "greatest"
          ],
          [
           "short"
          ],
          [
           "obiter"
          ],
          [
           "criminality"
          ],
          [
           "kong"
          ],
          [
           "extortionate"
          ],
          [
           "infallibly"
          ],
          [
           "residence"
          ],
          [
           "who"
          ],
          [
           "cluster"
          ],
          [
           "possess"
          ],
          [
           "invariable"
          ],
          [
           "invalid"
          ],
          [
           "ultra"
          ],
          [
           "authorizes"
          ],
          [
           "walls"
          ],
          [
           "instant"
          ],
          [
           "sandwich"
          ],
          [
           "deposited"
          ],
          [
           "82"
          ],
          [
           "development"
          ],
          [
           "desired"
          ],
          [
           "nearest"
          ],
          [
           "picking"
          ],
          [
           "additional"
          ],
          [
           "greek"
          ],
          [
           "run"
          ],
          [
           "dress"
          ],
          [
           "manitobawhere"
          ],
          [
           "licences"
          ],
          [
           "campaign"
          ],
          [
           "touches"
          ],
          [
           "preamble"
          ],
          [
           "bench"
          ],
          [
           "considerations"
          ],
          [
           "nation"
          ],
          [
           "manual"
          ],
          [
           "gilbert"
          ],
          [
           "polled"
          ],
          [
           "up"
          ],
          [
           "result"
          ],
          [
           "regulate"
          ],
          [
           "entitled"
          ],
          [
           "frauds"
          ],
          [
           "elected"
          ],
          [
           "indulged"
          ],
          [
           "black"
          ],
          [
           "invasions"
          ],
          [
           "stood"
          ],
          [
           "baron"
          ],
          [
           "failure"
          ],
          [
           "courthouses"
          ],
          [
           "arrivals"
          ],
          [
           "indicated"
          ],
          [
           "enabled"
          ],
          [
           "occupied"
          ],
          [
           "item"
          ],
          [
           "handiwork"
          ],
          [
           "frugality"
          ],
          [
           "mens"
          ],
          [
           "landing"
          ],
          [
           "plain"
          ],
          [
           "celt"
          ],
          [
           "historical"
          ],
          [
           "tribes"
          ],
          [
           "consumed"
          ],
          [
           "rule"
          ],
          [
           "hesitation"
          ],
          [
           "june"
          ],
          [
           "11"
          ],
          [
           "changed"
          ],
          [
           "secure"
          ],
          [
           "retaining"
          ],
          [
           "difference"
          ],
          [
           "cheaper"
          ],
          [
           "reserved"
          ],
          [
           "arm"
          ],
          [
           "attempt"
          ],
          [
           "affirm"
          ],
          [
           "semitropical"
          ],
          [
           "toll"
          ],
          [
           "adding"
          ],
          [
           "admirable"
          ],
          [
           "liable"
          ],
          [
           "clever"
          ],
          [
           "compared"
          ],
          [
           "liquor"
          ],
          [
           "cunningham"
          ],
          [
           "bound"
          ],
          [
           "apartment"
          ],
          [
           "july"
          ],
          [
           "autonomous"
          ],
          [
           "professors"
          ],
          [
           "remember"
          ],
          [
           "associations"
          ],
          [
           "operates"
          ],
          [
           "beneficial"
          ],
          [
           "thrown"
          ],
          [
           "referring"
          ],
          [
           "american"
          ],
          [
           "cease"
          ],
          [
           "employing"
          ],
          [
           "is"
          ],
          [
           "beds"
          ],
          [
           "enunciated"
          ],
          [
           "prevent"
          ],
          [
           "painful"
          ],
          [
           "citizens"
          ],
          [
           "oppression"
          ],
          [
           "forbidden"
          ],
          [
           "feature"
          ],
          [
           "39c"
          ],
          [
           "slaughtered"
          ],
          [
           "wickedness"
          ],
          [
           "misconception"
          ],
          [
           "kents"
          ],
          [
           "sexes"
          ],
          [
           "deprives"
          ],
          [
           "apron"
          ],
          [
           "selfdestructive"
          ],
          [
           "acted"
          ],
          [
           "observations"
          ],
          [
           "proceeds"
          ],
          [
           "whites"
          ],
          [
           "attached"
          ],
          [
           "rare"
          ],
          [
           "wandsworth"
          ],
          [
           "beauty"
          ],
          [
           "foes"
          ],
          [
           "complaint"
          ],
          [
           "elgins"
          ],
          [
           "place"
          ],
          [
           "dozen"
          ],
          [
           "illegality"
          ],
          [
           "infinitely"
          ],
          [
           "delegatus"
          ],
          [
           "mote"
          ],
          [
           "percentage"
          ],
          [
           "laundries"
          ],
          [
           "vol"
          ],
          [
           "middlemen"
          ],
          [
           "hereof"
          ],
          [
           "certain"
          ],
          [
           "shewing"
          ],
          [
           "can"
          ],
          [
           "superiority"
          ],
          [
           "impenetrably"
          ],
          [
           "attract"
          ],
          [
           "therefrom"
          ],
          [
           "seek"
          ],
          [
           "traders"
          ],
          [
           "accord"
          ],
          [
           "sickness"
          ],
          [
           "leprohon"
          ],
          [
           "sober"
          ],
          [
           "incidental"
          ],
          [
           "was"
          ],
          [
           "closely"
          ],
          [
           "porrer"
          ],
          [
           "dont"
          ],
          [
           "always"
          ],
          [
           "permanently"
          ],
          [
           "carried"
          ],
          [
           "applying"
          ],
          [
           "claimed"
          ],
          [
           "alongside"
          ],
          [
           "domain"
          ],
          [
           "relied"
          ],
          [
           "governments"
          ],
          [
           "upwards"
          ],
          [
           "annual"
          ],
          [
           "chief"
          ],
          [
           "satisfactorily"
          ],
          [
           "section"
          ],
          [
           "similarity"
          ],
          [
           "expressly"
          ],
          [
           "declared"
          ],
          [
           "compulsory"
          ],
          [
           "ignorance"
          ],
          [
           "extends"
          ],
          [
           "elaborate"
          ],
          [
           "heathens"
          ],
          [
           "shops"
          ],
          [
           "lies"
          ],
          [
           "weekly"
          ],
          [
           "sparsely"
          ],
          [
           "tendency"
          ],
          [
           "stupidity"
          ],
          [
           "insists"
          ],
          [
           "live"
          ],
          [
           "employees"
          ],
          [
           "text"
          ],
          [
           "getting"
          ],
          [
           "ourselves"
          ],
          [
           "bundled"
          ],
          [
           "hong"
          ],
          [
           "conviction"
          ],
          [
           "miscegenation"
          ],
          [
           "reversed"
          ],
          [
           "methods"
          ],
          [
           "dispensed"
          ],
          [
           "told"
          ],
          [
           "interfering"
          ],
          [
           "classify"
          ],
          [
           "facility"
          ],
          [
           "him"
          ],
          [
           "determined"
          ],
          [
           "adds"
          ],
          [
           "likely"
          ],
          [
           "picks"
          ],
          [
           "his"
          ],
          [
           "burden"
          ],
          [
           "varied"
          ],
          [
           "clean"
          ],
          [
           "wooed"
          ],
          [
           "green"
          ],
          [
           "gladly"
          ],
          [
           "particular"
          ],
          [
           "twelve"
          ],
          [
           "restless"
          ],
          [
           "appellate"
          ],
          [
           "recovered"
          ],
          [
           "conceived"
          ],
          [
           "full"
          ],
          [
           "annoying"
          ],
          [
           "taxation"
          ],
          [
           "standard"
          ],
          [
           "restraint"
          ],
          [
           "working"
          ],
          [
           "elevated"
          ],
          [
           "allowing"
          ],
          [
           "attainments"
          ]
         ],
         "hovertemplate": "highlight=%{text}<br>x=%{x}<br>y=%{y}<br>word=%{customdata[0]}<extra></extra>",
         "legendgroup": "",
         "marker": {
          "color": "#636efa",
          "symbol": "circle"
         },
         "mode": "markers+text",
         "name": "",
         "showlegend": false,
         "text": [
          "",
          "",
          "",
          "",
          "",
          "",
          "",
          "",
          "",
          "",
          "",
          "",
          "",
          "",
          "",
          "",
          "",
          "",
          "",
          "",
          "",
          "",
          "",
          "",
          "",
          "",
          "",
          "",
          "",
          "",
          "",
          "",
          "",
          "",
          "",
          "",
          "",
          "",
          "",
          "",
          "",
          "",
          "",
          "",
          "",
          "",
          "",
          "",
          "",
          "",
          "",
          "",
          "",
          "",
          "",
          "",
          "",
          "",
          "",
          "",
          "",
          "",
          "",
          "",
          "",
          "",
          "",
          "",
          "",
          "",
          "",
          "",
          "",
          "",
          "",
          "",
          "",
          "",
          "",
          "",
          "",
          "",
          "",
          "",
          "",
          "",
          "",
          "",
          "",
          "",
          "",
          "",
          "",
          "",
          "",
          "",
          "",
          "",
          "",
          "",
          "",
          "",
          "",
          "",
          "",
          "",
          "",
          "",
          "",
          "",
          "",
          "",
          "",
          "",
          "",
          "",
          "",
          "",
          "",
          "",
          "",
          "",
          "",
          "",
          "",
          "",
          "",
          "",
          "",
          "",
          "",
          "",
          "",
          "",
          "",
          "",
          "",
          "",
          "",
          "",
          "",
          "",
          "",
          "",
          "",
          "",
          "",
          "",
          "",
          "",
          "",
          "",
          "",
          "",
          "",
          "",
          "",
          "",
          "",
          "",
          "",
          "",
          "",
          "",
          "",
          "",
          "",
          "",
          "",
          "",
          "",
          "",
          "",
          "",
          "",
          "",
          "",
          "",
          "",
          "",
          "",
          "",
          "",
          "",
          "",
          "",
          "",
          "",
          "",
          "",
          "",
          "",
          "",
          "",
          "",
          "",
          "",
          "",
          "",
          "",
          "",
          "",
          "",
          "",
          "",
          "",
          "",
          "",
          "",
          "",
          "",
          "",
          "",
          "",
          "",
          "",
          "",
          "",
          "",
          "",
          "",
          "",
          "",
          "",
          "",
          "",
          "",
          "",
          "",
          "",
          "",
          "",
          "",
          "",
          "",
          "",
          "",
          "",
          "",
          "",
          "",
          "",
          "",
          "",
          "",
          "",
          "",
          "",
          "",
          "",
          "",
          "",
          "",
          "",
          "",
          "",
          "",
          "",
          "",
          "",
          "",
          "",
          "",
          "",
          "",
          "",
          "",
          "",
          "",
          "",
          "",
          "",
          "",
          "",
          "",
          "",
          "",
          "",
          "",
          "",
          "",
          "",
          "",
          "",
          "",
          "",
          "",
          "",
          "",
          "",
          "",
          "",
          "",
          "",
          "",
          "",
          "",
          "",
          "",
          "",
          "",
          "",
          "",
          "",
          "",
          "",
          "",
          "",
          "",
          "",
          "",
          "",
          "",
          "",
          "",
          "",
          "",
          "",
          "",
          "",
          "",
          "",
          "",
          "",
          "",
          "",
          "",
          "",
          "",
          "",
          "",
          "",
          "",
          "",
          "",
          "",
          "",
          "",
          "",
          "",
          "",
          "",
          "",
          "",
          "",
          "",
          "",
          "",
          "",
          "",
          "",
          "",
          "",
          "",
          "",
          "",
          "",
          "",
          "",
          "",
          "",
          "",
          "",
          "",
          "",
          "",
          "",
          "",
          "",
          "",
          "",
          "",
          "",
          "",
          "",
          "",
          "",
          "",
          "",
          "",
          "",
          "",
          "",
          "",
          "",
          "",
          "",
          "",
          "",
          "",
          "",
          "",
          "",
          "",
          "",
          "",
          "",
          "",
          "",
          "",
          "",
          "",
          "",
          "",
          "",
          "",
          "",
          "",
          "",
          "",
          "",
          "",
          "",
          "",
          "",
          "",
          "",
          "",
          "",
          "",
          "",
          "",
          "",
          "",
          "",
          "",
          "",
          "",
          "",
          "",
          "",
          "",
          "",
          "",
          "",
          "",
          "",
          "",
          "",
          "",
          "",
          "",
          "",
          "",
          "",
          "",
          "",
          "",
          "",
          "",
          "",
          "",
          "",
          "",
          "",
          "",
          "",
          "",
          "",
          "",
          "",
          "",
          "",
          "",
          "",
          "",
          "",
          "",
          "",
          "",
          "",
          "",
          "",
          "",
          "",
          "",
          "",
          "",
          "",
          "",
          "",
          "",
          "",
          "",
          "",
          "",
          "",
          "",
          "",
          "",
          "",
          "",
          "",
          "",
          "",
          "",
          "",
          "",
          "",
          "",
          "",
          "",
          "",
          "",
          "",
          "",
          "",
          "",
          "",
          "",
          "",
          "",
          "",
          "",
          "",
          "",
          "",
          "",
          "",
          "",
          "",
          "",
          "",
          "",
          "",
          "",
          "",
          "",
          "",
          "",
          "",
          "",
          "",
          "",
          "",
          "",
          "",
          "",
          "",
          "",
          "",
          "",
          "",
          "",
          "",
          "",
          "",
          "",
          "",
          "",
          "",
          "",
          "",
          "",
          "",
          "",
          "",
          "",
          "",
          "",
          "",
          "",
          "",
          "",
          "",
          "",
          "",
          "",
          "",
          "",
          "",
          "",
          "",
          "",
          "",
          "",
          "",
          "",
          "",
          "",
          "",
          "",
          "",
          "",
          "",
          "",
          "",
          "",
          "",
          "",
          "",
          "",
          "",
          "",
          "",
          "",
          "",
          "",
          "",
          "",
          "",
          "",
          "",
          "",
          "",
          "",
          "",
          "",
          "",
          "",
          "",
          "",
          "",
          "",
          "",
          "",
          "",
          "",
          "",
          "",
          "",
          "",
          "",
          "",
          "",
          "",
          "",
          "",
          "",
          "",
          "",
          "",
          "",
          "",
          "",
          "",
          "",
          "",
          "",
          "",
          "",
          "",
          "",
          "",
          "",
          "",
          "",
          "",
          "",
          "",
          "",
          "",
          "",
          "",
          "",
          "",
          "",
          "",
          "",
          "",
          "",
          "",
          "",
          "",
          "",
          "",
          "",
          "",
          "",
          "",
          "",
          "",
          "",
          "",
          "",
          "",
          "",
          "",
          "",
          "",
          "",
          "",
          "",
          "",
          "",
          "",
          "",
          "",
          "",
          "",
          "",
          "",
          "",
          "",
          "",
          "",
          "",
          "",
          "",
          "",
          "",
          "",
          "",
          "",
          "",
          "",
          "",
          "",
          "",
          "",
          "",
          "",
          "",
          "",
          "",
          "",
          "",
          "",
          "",
          "",
          "",
          "",
          "",
          "",
          "",
          "",
          "",
          "",
          "",
          "",
          "",
          "",
          "",
          "",
          "",
          "",
          "",
          "",
          "",
          "",
          "",
          "",
          "",
          "",
          "",
          "",
          "",
          "",
          "",
          "",
          "",
          "",
          "",
          "",
          "",
          "",
          "",
          "",
          "",
          "",
          "",
          "",
          "",
          "",
          "",
          "",
          "",
          "",
          "",
          "",
          "",
          "",
          "",
          "",
          "",
          "",
          "",
          "",
          "",
          "",
          "",
          "",
          "",
          "",
          "",
          "",
          "",
          "",
          "",
          "",
          "",
          "",
          "",
          "",
          "",
          "",
          "",
          "",
          "",
          "",
          "",
          "",
          "",
          "",
          "",
          "",
          "",
          "",
          "",
          "",
          "",
          "",
          "",
          "",
          "",
          "",
          "",
          "",
          "",
          "",
          "",
          "",
          "",
          "",
          "",
          "",
          "",
          "",
          "",
          "",
          "",
          "",
          "",
          "",
          "",
          "",
          "",
          "",
          "",
          "",
          "",
          "",
          "",
          "",
          "",
          "",
          "",
          "",
          "",
          "",
          "",
          "",
          "",
          "",
          "",
          "",
          "",
          "",
          "",
          "",
          "",
          "",
          "",
          "",
          "",
          "",
          "",
          "",
          "",
          "",
          "",
          "",
          "",
          "",
          "",
          "",
          "",
          "",
          "",
          "",
          "",
          "",
          "",
          "",
          "",
          "",
          "",
          "",
          "",
          "",
          "",
          "",
          "",
          "",
          "",
          "",
          "",
          "",
          "",
          "",
          "",
          "",
          "",
          "",
          "",
          "",
          "",
          "",
          "",
          "",
          "",
          "",
          "",
          "",
          "",
          "",
          "",
          "",
          "",
          "",
          "",
          "",
          "",
          "",
          "",
          "",
          "",
          "",
          "",
          "",
          "",
          "",
          "",
          "",
          "",
          "",
          "",
          "",
          "",
          "",
          "",
          "",
          "",
          "",
          "",
          "",
          "",
          "",
          "",
          "",
          "",
          "",
          "",
          "",
          "",
          "",
          "",
          "",
          "",
          "",
          "",
          "",
          "",
          "",
          "",
          "",
          "",
          "",
          "",
          "",
          "",
          "",
          "",
          "",
          "",
          "",
          "",
          "",
          "",
          "",
          "",
          "",
          "",
          "",
          "",
          "",
          "",
          "",
          "",
          "",
          "",
          "",
          "",
          "",
          "",
          "",
          "",
          "",
          "",
          "",
          "",
          "",
          "",
          "",
          "",
          "",
          "",
          "",
          "",
          "",
          "",
          "",
          "",
          "",
          "",
          "",
          "",
          "",
          "",
          "",
          "",
          "",
          "",
          "",
          "",
          "",
          "",
          "",
          "",
          "",
          "",
          "",
          "",
          "",
          "",
          "",
          "",
          "",
          "",
          "",
          "",
          "",
          "",
          "",
          "",
          "",
          "",
          "",
          "",
          "",
          "",
          "",
          "",
          "",
          "",
          "",
          "",
          "",
          "",
          "",
          "",
          "",
          "",
          "",
          "",
          "",
          "",
          "",
          "",
          "",
          "",
          "",
          "",
          "",
          "",
          "",
          "",
          "",
          "",
          "",
          "",
          "",
          "",
          "",
          "",
          "",
          "",
          "",
          "",
          "",
          "",
          "",
          "",
          "",
          "",
          "",
          "",
          "",
          "",
          "",
          "",
          "",
          "",
          "",
          "",
          "",
          "",
          "",
          "",
          "",
          "",
          "",
          "",
          "",
          "",
          "",
          "",
          "",
          "",
          "",
          "",
          "",
          "",
          "",
          "",
          "",
          "",
          "",
          "",
          "",
          "",
          "",
          "",
          "",
          "",
          "",
          "",
          "",
          "",
          "",
          "",
          "",
          "",
          "",
          "",
          "",
          "",
          "",
          "",
          "",
          "",
          "",
          "",
          "",
          "",
          "",
          "",
          "",
          "",
          "",
          "",
          "",
          "",
          "",
          "",
          "",
          "",
          "",
          "",
          "",
          "",
          "",
          "",
          "",
          "",
          "",
          "",
          "",
          "",
          "",
          "",
          "",
          "",
          "",
          "",
          "",
          "",
          "",
          "",
          "",
          "",
          "",
          "",
          "",
          "",
          "",
          "",
          "",
          "",
          "",
          "",
          "",
          "",
          "",
          "",
          "",
          "",
          "",
          "",
          "",
          "",
          "",
          "",
          "",
          "",
          "",
          "",
          "",
          "",
          "",
          "",
          "",
          "",
          "",
          "",
          "",
          "",
          "",
          "",
          "",
          "",
          "",
          "",
          "",
          "",
          "",
          "",
          "",
          "",
          "",
          "",
          "",
          "",
          "",
          "",
          "",
          "",
          "",
          "",
          "",
          "",
          "",
          "",
          "",
          "",
          "",
          "",
          "",
          "",
          "",
          "",
          "",
          "",
          "",
          "",
          "",
          "",
          "",
          "",
          "",
          "",
          "",
          "",
          "",
          "",
          "",
          "",
          "",
          "",
          "",
          "",
          "",
          "",
          "",
          "",
          "",
          "",
          "",
          "",
          "",
          "",
          "",
          "",
          "",
          "",
          "",
          "",
          "",
          "",
          "",
          "",
          "",
          "",
          "",
          "",
          "",
          "",
          "",
          "",
          "",
          "",
          "",
          "",
          "",
          "",
          "",
          "",
          "",
          "",
          "",
          "",
          "",
          "",
          "",
          "",
          "",
          "",
          "",
          "",
          "",
          "",
          "",
          "",
          "",
          "",
          "",
          "",
          "",
          "",
          "",
          "",
          "",
          "",
          "",
          "",
          "",
          "",
          "",
          "",
          "",
          "",
          "",
          "",
          "",
          "",
          "",
          "",
          "",
          "",
          "",
          "",
          "",
          "",
          "",
          "",
          "",
          "",
          "",
          "",
          "",
          "",
          "",
          "",
          "",
          "",
          "",
          "",
          "",
          "",
          "",
          "",
          "",
          "",
          "",
          "",
          "",
          "",
          "",
          "",
          "",
          "",
          "",
          "",
          "",
          "",
          "",
          "",
          "",
          "",
          "",
          "",
          "",
          "",
          "",
          "",
          "",
          "",
          "",
          "",
          "",
          "",
          "",
          "",
          "",
          "",
          "",
          "",
          "",
          "",
          "",
          "",
          "",
          "",
          "",
          "",
          "",
          "",
          "",
          "",
          "",
          "",
          "",
          "",
          "",
          "",
          "",
          "",
          "",
          "",
          "",
          "",
          "",
          "",
          "",
          "",
          "",
          "",
          "",
          "",
          "",
          "",
          "",
          "",
          "",
          "",
          "",
          "",
          "",
          "",
          "",
          "",
          "",
          "",
          "",
          "",
          "",
          "",
          "",
          "",
          "",
          "",
          "",
          "",
          "",
          "",
          "",
          "",
          "",
          "",
          "",
          "",
          "",
          "",
          "",
          "",
          "",
          "",
          "",
          "",
          "",
          "",
          "",
          "",
          "",
          "",
          "",
          "",
          "",
          "",
          "",
          "",
          "",
          "",
          "",
          "",
          "",
          "",
          "",
          "",
          "",
          "",
          "",
          "",
          "",
          "",
          "",
          "",
          "",
          "",
          "",
          "",
          "",
          "",
          "",
          "",
          "",
          "",
          "",
          "",
          "",
          "",
          "",
          "",
          "",
          "",
          "",
          "",
          "",
          "",
          "",
          "",
          "",
          "",
          "",
          "",
          "",
          "",
          "",
          "",
          "",
          "",
          "",
          "",
          "",
          "",
          "",
          "",
          "",
          "",
          "",
          "",
          "",
          "",
          "",
          "",
          "",
          "",
          "",
          "",
          "",
          "",
          "",
          "",
          "",
          "",
          "",
          "",
          "",
          "",
          "",
          "",
          "",
          "",
          "",
          "",
          "",
          "",
          "",
          "",
          "",
          "",
          "",
          "",
          "",
          "",
          "",
          "",
          "",
          "",
          "",
          "",
          "",
          "",
          "",
          "",
          "",
          "",
          "",
          "",
          "",
          "",
          "",
          "",
          "",
          "",
          "",
          "",
          "",
          "",
          "",
          "",
          "",
          "",
          "",
          "",
          "",
          "",
          "",
          "",
          "",
          "",
          "",
          "",
          "",
          "",
          "",
          "",
          "",
          "",
          "",
          "",
          "",
          "",
          "",
          "",
          "",
          "",
          "",
          "",
          "",
          "",
          "",
          "",
          "",
          "",
          "",
          "",
          "",
          "",
          "",
          "",
          "",
          "",
          "",
          "",
          "",
          "",
          "",
          "",
          "",
          "",
          "",
          "",
          "",
          "",
          "",
          "",
          "",
          "",
          "",
          "",
          "",
          "",
          "",
          "",
          "",
          "",
          "",
          "",
          "",
          "",
          "",
          "",
          "",
          "",
          "",
          "",
          "",
          "",
          "",
          "",
          "",
          "",
          "",
          "",
          "",
          "",
          "",
          "",
          "",
          "",
          "",
          "",
          "",
          "",
          "",
          "",
          "",
          "",
          "",
          "",
          "",
          "",
          "",
          "",
          "",
          "",
          "",
          "",
          "",
          "",
          "",
          "",
          "",
          "",
          "",
          "",
          "",
          "",
          "",
          "",
          "",
          "",
          "",
          "",
          "",
          "",
          "",
          "",
          "",
          "",
          "",
          "",
          "",
          "",
          "",
          "",
          "",
          "",
          "",
          "",
          "",
          "",
          "",
          "",
          "",
          "",
          "",
          "",
          "",
          "",
          "",
          "",
          "",
          "",
          "",
          "",
          "",
          "",
          "",
          "",
          "",
          "",
          "",
          "",
          "",
          "",
          "",
          "",
          "",
          "",
          "",
          "",
          "",
          "",
          "",
          "",
          "",
          "",
          "",
          "",
          "",
          "",
          "",
          "",
          "",
          "",
          "",
          "",
          "",
          "",
          "",
          "",
          "",
          "",
          "",
          "",
          "",
          "",
          "",
          "",
          "",
          "",
          "",
          "",
          "",
          "",
          "",
          "",
          "",
          "",
          "",
          "",
          "",
          "",
          "",
          "",
          "",
          "",
          "",
          "",
          "",
          "",
          "",
          "",
          "",
          "",
          "",
          "",
          "",
          "",
          "",
          "",
          "",
          "",
          "",
          "",
          "",
          "",
          "",
          "",
          "",
          "",
          "",
          "",
          "",
          "",
          "",
          "",
          "",
          "",
          "",
          "",
          "",
          "",
          "",
          "",
          "",
          "",
          "",
          "",
          "",
          "",
          "",
          "",
          "",
          "",
          "",
          "",
          "",
          "",
          "",
          "",
          "",
          "",
          "",
          "",
          "",
          "",
          "",
          "",
          "",
          "",
          "",
          "",
          "",
          "",
          "",
          "",
          "",
          "",
          "",
          "",
          "",
          "",
          "",
          "",
          "",
          "",
          "",
          "",
          "",
          "",
          "",
          "",
          "",
          "",
          "",
          "",
          "",
          "",
          "",
          "",
          "",
          "",
          "",
          "",
          "",
          "",
          "",
          "",
          "",
          "",
          "",
          "",
          "",
          "",
          "",
          "",
          "",
          "",
          "",
          "",
          "",
          "",
          "",
          "",
          "",
          "",
          "",
          "",
          "",
          "",
          "",
          "",
          "",
          "",
          "",
          "",
          "",
          "",
          "",
          "",
          "",
          "",
          "",
          "",
          "",
          "",
          "",
          "",
          "",
          "",
          "",
          "",
          "",
          "",
          "",
          "",
          "",
          "",
          "",
          "",
          "",
          "",
          "",
          "",
          "",
          "",
          "",
          "",
          "",
          "",
          "",
          "",
          "",
          "",
          "",
          "",
          "",
          "",
          "",
          "",
          "",
          "",
          "",
          "",
          "",
          "",
          "",
          "",
          "",
          "",
          "",
          "",
          "",
          "",
          "",
          "",
          "",
          "",
          "",
          "",
          "",
          "",
          "",
          "",
          "",
          "",
          "",
          "",
          "",
          "",
          "",
          "",
          "",
          "",
          "",
          "",
          "",
          "",
          "",
          "",
          "",
          "",
          "",
          "",
          "",
          "",
          "",
          "",
          "",
          "",
          "",
          "",
          "",
          "",
          "",
          "",
          "",
          "",
          "",
          "",
          "",
          "",
          "",
          "",
          "",
          "",
          "",
          "",
          "",
          "",
          "",
          "",
          "",
          "",
          "",
          "",
          "",
          "",
          "",
          "",
          "",
          "",
          "",
          "",
          "",
          "",
          "",
          "",
          "",
          "",
          "",
          "",
          "",
          "",
          "",
          "",
          "",
          "",
          "",
          "",
          "",
          "",
          "",
          "",
          "",
          "",
          "",
          "",
          "",
          "",
          "",
          "",
          "",
          "",
          "",
          "",
          "",
          "",
          "",
          "",
          "",
          "",
          "",
          "",
          "",
          "",
          "",
          "",
          "",
          "",
          "",
          "",
          "",
          "",
          "",
          "",
          "",
          "",
          "",
          "",
          "",
          "",
          "",
          "",
          "",
          "",
          "",
          "",
          "",
          "",
          "",
          "",
          "",
          "",
          "",
          "",
          "",
          "",
          "",
          "",
          "",
          "",
          "",
          "",
          "",
          "",
          "",
          "",
          "",
          "",
          "",
          "",
          "",
          "",
          "",
          "",
          "",
          "",
          "",
          "",
          "",
          "",
          "",
          "",
          "",
          "",
          "",
          "",
          "",
          "",
          "",
          "",
          "",
          "",
          "",
          "",
          "",
          "",
          "",
          "",
          "",
          "",
          "",
          "",
          "",
          "",
          "",
          "",
          "",
          "",
          "",
          "",
          "",
          "",
          "",
          "",
          "",
          "",
          "",
          "",
          "",
          "",
          "",
          "",
          "",
          "",
          "",
          "",
          "",
          "",
          "",
          "",
          "",
          "",
          "",
          "",
          "",
          "",
          "",
          "",
          "",
          "",
          "",
          "",
          "",
          "",
          "",
          "",
          "",
          "",
          "",
          "",
          "",
          "",
          "",
          "",
          "",
          "",
          "",
          "",
          "",
          "",
          "",
          "",
          "",
          "",
          "",
          "",
          "",
          "",
          "",
          "",
          "",
          "",
          "",
          "",
          "",
          "",
          "",
          "",
          "",
          "",
          "",
          "",
          "",
          "",
          "",
          "",
          "",
          "",
          "",
          "",
          "",
          "",
          "",
          "",
          "",
          "",
          "",
          "",
          "",
          "",
          "",
          "",
          "",
          "",
          "",
          "",
          "",
          "",
          "",
          "",
          "",
          "",
          "",
          "",
          "",
          "",
          "",
          "",
          "",
          "",
          "",
          "",
          "",
          "",
          "",
          "",
          "",
          "",
          "",
          "",
          "",
          "",
          "",
          "",
          "",
          "",
          "",
          "",
          "",
          "",
          "",
          "",
          "",
          "",
          "",
          "",
          "",
          "",
          "",
          "",
          "",
          "",
          "",
          "",
          "",
          "",
          "",
          "",
          "",
          "",
          "",
          "",
          "",
          "",
          "",
          "",
          "",
          "",
          "",
          "",
          "",
          "",
          "",
          "",
          "",
          "",
          "",
          "",
          "",
          "",
          "",
          "",
          "",
          "",
          "",
          "",
          "",
          "",
          "",
          "",
          "",
          "",
          "",
          "",
          "",
          "",
          "",
          "",
          "",
          "",
          "",
          "",
          "",
          "",
          "",
          "",
          "",
          "",
          "",
          "",
          "",
          "",
          "",
          "",
          "",
          "",
          "",
          "",
          "",
          "",
          "",
          "",
          "",
          "",
          "",
          "",
          "",
          "",
          "",
          "",
          "",
          "",
          "",
          "",
          "",
          "",
          "",
          "",
          "",
          "",
          "",
          "",
          "",
          "",
          "",
          "",
          "",
          "",
          "",
          "",
          "",
          "",
          "",
          "",
          "",
          "",
          "",
          "",
          "",
          "",
          "",
          "",
          "",
          "",
          "",
          "",
          "",
          "",
          "",
          "",
          "",
          "",
          "",
          "",
          "",
          "",
          "",
          "",
          "",
          "",
          "",
          "",
          "",
          "",
          "",
          "",
          "",
          "",
          "",
          "",
          "",
          "",
          "",
          "",
          "",
          "",
          "",
          "",
          "",
          "",
          "",
          "",
          "",
          "",
          "",
          "",
          "",
          "",
          "",
          "",
          "",
          "",
          "",
          "",
          "",
          "",
          "",
          "",
          "",
          "",
          "",
          "",
          "",
          "",
          "",
          "",
          "",
          "",
          "",
          "",
          "",
          "",
          "",
          "",
          "",
          "",
          "",
          "",
          "",
          "",
          "",
          "",
          "",
          "",
          "",
          "",
          "",
          "",
          "",
          "",
          "",
          "",
          "",
          "",
          "",
          "",
          "",
          "",
          "",
          "",
          "",
          "",
          "",
          "",
          "",
          "",
          "",
          "",
          "",
          "",
          "",
          "",
          "",
          "",
          "",
          "",
          "",
          "",
          "",
          "",
          "",
          "",
          "",
          "",
          "",
          "",
          "",
          "",
          "",
          "",
          "",
          "",
          "",
          "",
          "",
          "",
          "",
          "",
          "",
          "",
          "",
          "",
          "",
          "",
          "",
          "",
          "",
          "",
          "",
          "",
          "",
          "",
          "",
          "",
          "",
          "",
          "",
          "",
          "",
          "",
          "",
          "",
          "",
          "",
          "",
          "",
          "",
          "",
          "",
          "",
          "",
          "",
          "",
          "",
          "",
          "",
          "",
          "",
          "",
          "",
          "",
          "",
          "",
          "",
          "",
          "",
          "",
          "",
          "",
          "",
          "",
          "",
          "",
          "",
          "",
          "",
          "",
          "",
          "",
          "",
          "",
          "",
          "",
          "",
          "",
          "",
          "",
          "",
          "",
          "",
          "",
          "",
          "",
          "",
          "",
          "",
          "",
          "",
          "",
          "",
          "",
          "",
          "",
          "",
          "",
          "",
          "",
          "",
          "",
          "",
          "",
          "",
          "",
          "",
          "",
          "",
          "",
          "",
          "",
          "",
          "",
          "",
          "",
          "",
          "",
          "",
          "",
          "",
          "",
          "",
          "",
          "",
          "",
          "",
          "",
          "",
          "",
          "",
          "",
          "",
          "",
          "",
          "",
          "",
          "",
          "",
          "",
          "",
          "",
          "",
          "",
          "",
          "",
          "",
          "",
          "",
          "",
          "",
          "",
          "",
          "",
          "",
          "",
          "",
          "",
          "",
          "",
          "",
          "",
          "",
          "",
          "",
          "",
          "",
          "",
          "",
          "",
          "",
          "",
          "",
          "",
          "",
          "",
          "",
          "",
          "",
          "",
          "",
          "",
          "",
          "",
          "",
          "",
          "",
          "",
          "",
          "",
          "",
          "",
          "",
          "",
          "",
          "",
          "",
          "",
          "",
          "",
          "",
          "",
          "",
          "",
          "",
          "",
          "",
          "",
          "",
          "",
          "",
          "",
          "",
          "",
          "",
          "",
          "",
          "",
          "",
          "",
          "",
          "",
          "",
          "",
          "",
          "",
          "",
          "",
          "",
          "",
          "",
          "",
          "",
          "",
          "",
          "",
          "",
          "",
          "",
          "",
          "",
          "",
          "",
          "",
          "",
          "",
          "",
          "",
          "",
          "",
          "",
          "",
          "",
          "",
          "",
          "",
          "",
          "",
          "",
          "",
          "",
          "",
          "",
          "",
          "",
          "",
          "",
          "",
          "",
          "",
          "",
          "",
          "",
          "",
          "",
          "",
          "",
          "",
          "",
          "",
          "",
          "",
          "",
          "",
          "",
          "",
          "",
          "",
          "",
          "",
          "",
          "",
          "",
          "",
          "",
          "",
          "",
          "",
          "",
          "",
          "",
          "",
          "",
          "",
          "",
          "",
          "",
          "",
          "",
          "",
          "",
          "",
          "",
          "",
          "",
          "",
          "",
          "",
          "",
          "",
          "",
          "",
          "",
          "",
          "",
          "",
          "",
          "",
          "",
          "",
          "",
          "",
          "",
          "",
          "",
          "",
          "",
          "",
          "",
          "",
          "",
          "",
          "",
          "",
          "",
          "",
          "",
          "",
          "",
          "",
          "",
          "",
          "",
          "",
          "",
          "",
          "",
          "",
          "",
          "",
          "",
          "",
          "",
          "",
          "",
          "",
          "",
          "",
          "",
          "",
          "",
          "",
          "",
          "",
          "",
          "",
          "",
          "",
          "",
          "",
          "",
          "",
          "",
          "",
          "",
          "",
          "",
          "",
          "",
          "",
          "",
          "",
          "",
          "",
          "",
          "",
          "",
          "",
          "",
          "",
          "",
          "",
          "",
          "",
          "",
          "",
          "",
          "",
          "",
          "",
          "",
          "",
          "",
          "",
          "",
          "",
          "",
          "",
          "",
          "",
          "",
          "",
          "",
          "",
          "",
          "",
          "",
          "",
          "",
          "",
          "",
          "",
          "",
          "",
          "",
          "",
          "",
          "",
          "",
          "",
          "",
          "",
          "",
          "",
          "",
          "",
          "",
          "",
          "",
          "",
          "",
          "",
          "",
          "",
          "",
          "",
          "",
          "",
          "",
          "",
          "",
          "",
          "",
          "",
          "",
          "",
          "",
          "",
          "",
          "",
          "",
          "",
          "",
          "",
          "",
          "",
          "",
          "",
          "",
          "",
          "",
          "",
          "",
          "",
          "",
          "",
          "",
          "",
          "",
          "",
          "",
          "",
          "",
          "",
          "",
          "",
          "",
          "",
          "",
          "",
          "",
          "",
          "",
          "",
          "",
          "",
          "",
          "",
          "",
          "",
          "",
          "",
          "",
          "",
          "",
          "",
          "",
          "",
          "",
          "",
          "",
          "",
          "",
          "",
          "",
          "",
          "",
          "",
          "",
          "",
          "",
          "",
          "",
          "",
          "",
          "",
          "",
          "",
          "",
          "",
          "",
          "",
          "",
          "",
          "",
          "",
          "",
          "",
          "",
          "",
          "",
          "",
          "",
          "",
          "",
          "",
          "",
          "",
          "",
          "",
          "",
          "",
          "",
          "",
          "",
          "",
          "",
          "",
          "",
          "",
          "",
          "",
          "",
          "",
          "",
          "",
          "",
          "",
          "",
          "",
          "",
          "",
          "",
          "",
          "",
          "",
          "",
          "",
          "",
          "",
          "",
          "",
          "",
          "",
          "",
          "",
          "",
          "",
          "",
          "",
          "",
          "",
          "",
          "",
          "",
          "",
          "",
          "",
          "",
          "",
          "",
          "",
          "",
          "",
          "",
          "",
          "",
          "",
          "",
          "",
          "",
          "",
          "",
          "",
          "",
          "",
          "",
          "",
          "",
          "",
          "",
          "",
          "",
          "",
          "",
          "",
          "",
          "",
          "",
          "",
          "",
          "",
          "",
          "",
          "",
          "",
          "",
          "",
          "",
          "",
          "",
          "",
          "",
          "",
          "",
          "",
          "",
          "",
          "",
          "",
          "",
          "",
          "",
          "",
          "",
          "",
          "",
          "",
          "",
          "",
          "",
          "",
          "",
          "",
          "",
          "",
          "",
          "",
          "",
          "",
          "",
          "",
          "",
          "",
          "",
          "",
          "",
          "",
          "",
          "",
          "",
          "",
          "",
          "",
          "",
          "",
          "",
          "",
          "",
          "",
          "",
          "",
          "",
          "",
          "",
          "",
          "",
          "",
          "",
          "",
          "",
          "",
          "",
          "",
          "",
          "",
          "",
          "",
          "",
          "",
          "",
          "",
          "",
          "",
          "",
          "",
          "",
          "",
          "",
          "",
          "",
          "",
          "",
          "",
          "",
          "",
          "",
          "",
          "",
          "",
          "",
          "",
          "",
          "",
          "",
          "",
          "",
          "",
          "",
          "",
          "",
          "",
          "",
          "",
          "",
          "",
          "",
          "",
          "",
          "",
          "",
          "",
          "",
          "",
          "",
          "",
          "",
          "",
          "",
          "",
          "",
          "",
          "",
          "",
          "",
          "",
          "",
          "",
          "",
          "",
          "",
          "",
          "",
          "",
          "",
          "",
          "",
          "",
          "",
          "",
          "",
          "",
          "",
          "",
          "",
          "",
          "",
          "",
          "",
          "",
          "",
          "",
          "",
          "",
          "",
          "",
          "",
          "",
          "",
          "",
          "",
          "",
          "",
          "",
          "",
          "",
          "",
          "",
          "",
          "",
          "",
          "",
          "",
          "",
          "",
          "",
          "",
          "",
          "",
          "",
          "",
          "",
          "",
          "",
          "",
          "",
          "",
          "",
          "",
          "",
          "",
          "",
          "",
          "",
          "",
          "",
          "",
          "",
          "",
          "",
          "",
          "",
          "",
          "",
          "",
          "",
          "",
          "",
          "",
          "",
          "",
          "",
          "",
          "",
          "",
          "",
          "",
          "",
          "",
          "",
          "",
          "",
          "",
          "",
          "",
          "",
          "",
          "",
          "",
          "",
          "",
          "",
          "",
          "",
          "",
          "",
          "",
          "",
          "",
          "",
          "",
          "",
          "",
          "",
          "",
          "",
          "",
          "",
          "",
          "",
          "",
          "",
          "",
          "",
          "",
          "",
          "",
          "",
          "",
          "",
          "",
          "",
          "",
          "",
          "",
          "",
          "",
          "",
          "",
          "",
          "",
          "",
          "",
          "",
          "",
          "",
          "",
          "",
          "",
          "",
          "",
          "",
          "",
          "",
          "",
          "",
          "",
          "",
          "",
          "",
          "",
          "",
          "",
          "",
          "",
          "",
          "",
          "",
          "",
          "",
          "",
          "",
          "",
          "",
          "",
          "",
          "",
          "",
          "",
          "",
          "",
          "",
          "",
          "",
          "",
          "",
          "",
          "",
          "",
          "",
          "",
          "",
          "",
          "",
          "",
          "",
          "",
          "",
          "",
          "",
          "",
          "",
          "",
          "",
          "",
          "",
          "",
          "",
          "",
          "",
          "",
          "",
          "",
          "",
          "",
          "",
          "",
          "",
          "",
          "",
          "",
          "",
          "",
          "",
          "",
          "",
          "",
          "",
          "",
          "",
          "",
          "",
          "",
          "",
          "",
          "",
          "",
          "",
          "",
          "",
          "",
          "",
          "",
          "",
          "",
          "",
          "",
          "",
          "",
          "",
          "",
          "",
          "",
          "",
          "",
          "",
          "",
          "",
          "",
          "",
          "",
          "",
          "",
          "",
          "",
          "",
          "",
          "",
          "",
          "",
          "",
          "",
          "",
          "",
          "",
          "",
          "",
          "",
          "",
          "",
          "",
          "",
          "",
          "",
          "",
          "",
          "",
          "",
          "",
          "",
          "",
          "",
          "",
          "",
          "",
          "",
          "",
          "",
          "",
          "",
          "",
          "",
          "",
          "",
          "",
          "",
          "",
          "",
          "",
          "",
          "",
          "",
          "",
          "",
          "",
          "",
          "",
          "",
          "",
          "",
          "",
          "",
          "",
          "",
          "",
          "",
          "",
          "",
          "",
          "",
          "",
          "",
          "",
          "",
          "",
          "",
          "",
          "",
          "",
          "",
          "",
          "",
          "",
          "",
          "",
          "",
          "",
          "",
          "",
          "",
          "",
          "",
          "",
          "",
          "",
          "",
          "",
          "",
          "",
          "",
          "",
          "",
          "",
          "",
          "",
          "",
          "",
          "",
          "",
          "",
          "",
          "",
          "",
          "",
          "",
          "",
          "",
          "",
          "",
          "",
          "",
          "",
          "",
          "",
          "",
          "",
          "",
          "",
          "",
          "",
          "",
          "",
          "",
          "",
          "",
          "",
          "",
          "",
          "",
          "",
          "",
          "",
          "",
          "",
          "",
          "",
          "",
          "",
          "",
          "",
          "",
          "",
          "",
          "",
          "",
          "",
          "",
          "",
          "",
          "",
          "",
          "",
          "",
          "",
          "",
          "",
          "",
          "",
          "",
          "",
          "",
          "",
          "",
          "",
          "",
          "",
          "",
          "",
          "",
          "",
          "",
          "",
          "",
          "",
          "",
          "",
          "",
          "",
          "",
          "",
          "",
          "",
          "",
          "",
          "",
          "",
          "",
          "",
          "",
          "",
          "",
          "",
          "",
          "",
          "",
          "",
          "",
          "",
          "",
          "",
          "",
          "",
          "",
          "",
          "",
          "",
          "",
          "",
          "",
          "",
          "",
          "",
          "",
          "",
          "",
          "",
          "",
          "",
          "",
          "",
          "",
          "",
          "",
          "",
          "",
          "",
          "",
          "",
          "",
          "",
          "",
          "",
          "",
          "",
          "",
          "",
          "",
          "",
          "",
          "",
          "",
          "",
          "",
          "",
          "",
          "",
          "",
          "",
          "",
          "",
          "",
          "",
          "",
          "",
          "",
          "",
          "",
          "",
          "",
          "",
          "",
          "",
          "",
          "",
          "",
          "",
          "",
          "",
          "",
          "",
          "",
          "",
          "",
          "",
          "",
          "",
          "",
          "",
          "",
          "",
          "",
          "",
          "",
          "",
          "",
          "",
          "",
          "",
          "",
          "",
          "",
          "",
          "",
          "",
          "",
          "",
          "",
          "",
          "",
          "",
          "",
          "",
          "",
          "",
          "",
          "",
          "",
          "",
          "",
          "",
          "",
          "",
          "",
          "",
          "",
          "",
          "",
          "",
          "",
          "",
          "",
          "",
          "",
          "",
          "",
          "",
          "",
          "",
          "",
          "",
          "",
          "",
          "",
          "",
          "",
          "",
          "",
          "",
          "",
          "",
          "",
          "",
          "",
          "",
          "",
          "",
          "",
          "",
          "",
          "",
          "",
          "",
          "",
          "",
          "",
          "",
          "",
          "",
          "",
          "",
          "",
          "",
          "",
          "",
          "",
          "",
          "",
          "",
          "",
          "",
          "",
          "",
          "",
          "",
          "",
          "",
          "",
          "",
          "",
          "",
          "",
          "",
          "",
          "",
          "",
          "",
          "",
          "",
          "",
          "",
          "",
          "",
          "",
          "",
          "",
          "",
          "",
          "",
          "",
          "",
          "",
          "",
          "",
          "",
          "",
          "",
          "",
          "",
          "",
          "",
          "",
          "",
          "",
          "",
          "",
          "",
          "",
          "",
          "",
          "",
          "",
          "",
          "",
          "",
          "",
          "",
          "",
          "",
          "",
          "",
          "",
          "",
          "",
          "",
          "",
          "",
          "",
          "",
          "",
          "",
          "",
          "",
          "",
          "",
          "",
          "",
          "",
          "",
          "",
          "",
          "",
          "",
          "",
          "",
          "",
          "",
          "",
          "",
          "",
          "",
          "",
          "",
          "",
          "",
          "",
          "",
          "",
          "",
          "",
          "",
          "",
          "",
          "",
          "",
          "",
          "",
          "",
          "",
          "",
          "",
          "",
          "",
          "",
          "",
          "",
          "",
          "",
          "",
          "",
          "",
          "",
          "",
          "",
          "",
          "",
          "",
          "",
          "",
          "",
          "",
          "",
          "",
          "",
          "",
          "",
          "",
          "",
          "",
          "",
          "",
          "",
          "",
          "",
          "",
          "",
          "",
          "",
          "",
          "",
          "",
          "",
          "",
          "",
          "",
          "",
          "",
          "",
          "",
          "",
          "",
          "",
          "",
          "",
          "",
          "",
          "",
          "",
          "",
          "",
          "",
          "",
          "",
          "",
          "",
          "",
          "",
          "",
          "",
          "",
          "",
          "",
          "",
          "",
          "",
          "",
          "",
          "",
          "",
          "",
          "",
          "",
          "",
          "",
          "",
          "",
          "",
          "",
          "",
          "",
          "",
          "",
          "",
          "",
          "",
          "",
          "",
          "",
          "",
          "",
          "",
          "",
          "",
          "",
          "",
          "",
          "",
          "",
          "",
          "",
          "",
          "",
          "",
          "",
          "",
          "",
          "",
          "",
          "",
          "",
          "",
          "",
          "",
          "",
          "",
          "",
          "",
          "",
          "",
          "",
          "",
          "",
          "",
          "",
          "",
          "",
          "",
          "",
          "",
          "",
          "",
          "",
          "",
          "",
          "",
          "",
          "",
          "",
          "",
          "",
          "",
          "",
          "",
          "",
          "",
          "",
          "",
          "",
          "",
          "",
          "",
          "",
          "",
          "",
          "",
          "",
          "",
          "",
          "",
          "",
          "",
          "",
          "",
          "",
          "",
          "",
          "",
          "",
          "",
          "",
          "",
          "",
          "",
          "",
          "",
          "",
          "",
          "",
          "",
          "",
          "",
          "",
          "",
          "",
          "",
          "",
          "",
          "",
          "",
          "",
          "",
          "",
          "",
          "",
          "",
          "",
          "",
          "",
          "",
          "",
          "",
          "",
          "",
          "",
          "",
          "",
          "",
          "",
          "",
          "",
          "",
          "",
          "",
          "",
          "",
          "",
          "",
          "",
          "",
          "",
          "",
          "",
          "",
          "",
          "",
          "",
          "",
          "",
          "",
          "",
          "",
          "",
          "",
          "",
          "",
          "",
          "",
          "",
          "",
          "",
          "",
          "",
          "",
          "",
          "",
          "",
          "",
          "",
          "",
          "",
          "",
          "",
          "",
          "",
          "",
          "",
          "",
          "",
          "",
          "",
          "",
          "",
          "",
          "",
          "",
          "",
          "",
          "",
          "",
          "",
          "",
          "",
          "",
          "",
          "",
          "",
          "",
          "",
          "",
          "",
          "",
          "",
          "",
          "",
          "",
          "",
          "",
          "",
          "",
          "",
          "",
          "",
          "",
          "",
          "",
          "",
          "",
          "",
          "",
          "",
          "",
          "",
          "",
          "",
          "",
          "",
          "",
          "",
          "",
          "",
          "",
          "",
          "",
          "",
          "",
          "",
          "",
          "",
          "",
          "",
          "",
          "",
          "",
          "",
          "",
          "",
          "",
          "",
          "",
          "",
          "",
          "",
          "",
          "",
          "",
          "",
          "",
          "",
          "",
          "",
          "",
          "",
          "",
          "",
          "",
          "",
          "",
          "",
          "",
          "",
          "",
          "",
          "",
          "",
          "",
          "",
          "",
          "",
          "",
          "",
          "",
          "",
          "",
          "",
          "",
          "",
          "",
          "",
          "",
          "",
          "",
          "",
          "",
          "",
          "",
          "",
          "",
          "",
          "",
          "",
          "",
          "",
          "",
          "",
          "",
          "",
          "",
          "",
          "",
          "",
          "",
          "",
          "",
          "",
          "",
          "",
          "",
          "",
          "",
          "",
          "",
          "",
          "",
          "",
          "",
          "",
          "",
          "",
          "",
          "",
          "",
          "",
          "",
          "",
          "",
          "",
          "",
          "",
          "",
          "",
          "",
          "",
          "",
          "",
          "",
          "",
          "",
          "",
          "",
          "",
          "",
          "",
          "",
          "",
          "",
          "",
          "",
          "",
          "",
          "",
          "",
          "",
          "",
          "",
          "",
          "",
          "",
          "",
          "",
          "",
          "",
          "",
          "",
          "",
          "",
          "",
          "",
          "",
          "",
          "",
          "",
          "",
          "",
          "",
          "",
          "",
          "",
          "",
          "",
          "",
          "",
          "",
          "",
          "",
          "",
          "",
          "",
          "",
          "",
          "",
          "",
          "",
          "",
          "",
          "",
          "",
          "",
          "",
          "",
          "",
          "",
          "",
          "",
          "",
          "",
          "",
          "",
          "",
          "",
          "",
          "",
          "",
          "",
          "",
          "",
          "",
          "",
          "",
          "",
          "",
          "",
          "",
          "",
          "",
          "",
          "",
          "",
          "",
          "",
          "",
          "",
          "",
          "",
          "",
          "",
          "",
          "",
          "",
          "",
          "",
          "",
          "",
          "",
          "",
          "",
          "",
          "",
          "",
          "",
          "",
          "",
          "",
          "",
          "",
          "",
          "",
          "",
          "",
          "",
          "",
          "",
          "",
          "",
          "",
          "",
          "",
          "",
          "",
          "",
          "",
          "",
          "",
          "",
          "",
          "",
          "",
          "",
          "",
          "",
          "",
          "",
          "",
          "",
          "",
          "",
          "",
          "",
          "",
          "",
          "",
          "",
          "",
          "",
          "",
          "",
          "",
          "",
          "",
          "",
          "",
          "",
          "",
          "",
          "",
          "",
          "",
          "",
          "",
          "",
          "",
          "",
          "",
          "",
          "",
          "",
          "",
          "",
          "",
          "",
          "",
          "",
          "",
          "",
          "",
          "",
          "",
          "",
          "",
          "",
          "",
          "",
          "",
          "",
          "",
          "",
          "",
          "",
          "",
          "",
          "",
          "",
          "",
          "",
          "",
          "",
          "",
          "",
          "",
          "",
          "",
          "",
          "",
          "",
          "",
          "",
          "",
          "",
          "",
          "",
          "",
          "",
          "",
          "",
          "",
          "",
          "",
          "",
          "",
          "",
          "",
          "",
          "",
          "",
          "",
          "",
          "",
          "",
          "",
          "",
          "",
          "",
          "",
          "",
          "",
          "",
          "",
          "",
          "",
          "",
          "",
          "",
          "",
          "",
          "",
          "",
          "",
          "",
          "",
          "",
          "",
          "",
          "",
          "",
          "",
          "",
          "",
          "",
          "",
          "",
          "",
          "",
          "",
          "",
          "",
          "",
          "",
          "",
          "",
          "",
          "",
          "",
          "",
          "",
          "",
          "",
          "",
          "",
          "",
          "",
          "",
          "",
          "",
          "",
          "",
          "",
          "",
          "",
          "",
          "",
          "",
          "",
          "",
          "",
          "",
          "",
          "",
          "",
          "",
          "",
          "",
          "",
          "",
          "",
          ""
         ],
         "type": "scattergl",
         "x": {
          "bdata": "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",
          "dtype": "f4"
         },
         "xaxis": "x",
         "y": {
          "bdata": "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",
          "dtype": "f4"
         },
         "yaxis": "y"
        },
        {
         "customdata": [
          [
           "chinamen"
          ]
         ],
         "hovertemplate": "highlight=%{text}<br>x=%{x}<br>y=%{y}<br>word=%{customdata[0]}<extra></extra>",
         "legendgroup": "chinamen",
         "marker": {
          "color": "#EF553B",
          "symbol": "circle"
         },
         "mode": "markers+text",
         "name": "chinamen",
         "showlegend": true,
         "text": [
          "chinamen"
         ],
         "type": "scattergl",
         "x": {
          "bdata": "A+ZIQg==",
          "dtype": "f4"
         },
         "xaxis": "x",
         "y": {
          "bdata": "UvEUwA==",
          "dtype": "f4"
         },
         "yaxis": "y"
        },
        {
         "customdata": [
          [
           "chinese"
          ]
         ],
         "hovertemplate": "highlight=%{text}<br>x=%{x}<br>y=%{y}<br>word=%{customdata[0]}<extra></extra>",
         "legendgroup": "chinese",
         "marker": {
          "color": "#00cc96",
          "symbol": "circle"
         },
         "mode": "markers+text",
         "name": "chinese",
         "showlegend": true,
         "text": [
          "chinese"
         ],
         "type": "scattergl",
         "x": {
          "bdata": "Mo2JQA==",
          "dtype": "f4"
         },
         "xaxis": "x",
         "y": {
          "bdata": "lP43wg==",
          "dtype": "f4"
         },
         "yaxis": "y"
        },
        {
         "customdata": [
          [
           "chinaman"
          ]
         ],
         "hovertemplate": "highlight=%{text}<br>x=%{x}<br>y=%{y}<br>word=%{customdata[0]}<extra></extra>",
         "legendgroup": "chinaman",
         "marker": {
          "color": "#ab63fa",
          "symbol": "circle"
         },
         "mode": "markers+text",
         "name": "chinaman",
         "showlegend": true,
         "text": [
          "chinaman"
         ],
         "type": "scattergl",
         "x": {
          "bdata": "Zrk7Qg==",
          "dtype": "f4"
         },
         "xaxis": "x",
         "y": {
          "bdata": "e58owQ==",
          "dtype": "f4"
         },
         "yaxis": "y"
        },
        {
         "customdata": [
          [
           "china"
          ]
         ],
         "hovertemplate": "highlight=%{text}<br>x=%{x}<br>y=%{y}<br>word=%{customdata[0]}<extra></extra>",
         "legendgroup": "china",
         "marker": {
          "color": "#FFA15A",
          "symbol": "circle"
         },
         "mode": "markers+text",
         "name": "china",
         "showlegend": true,
         "text": [
          "china"
         ],
         "type": "scattergl",
         "x": {
          "bdata": "JzC2wQ==",
          "dtype": "f4"
         },
         "xaxis": "x",
         "y": {
          "bdata": "ZjYOwg==",
          "dtype": "f4"
         },
         "yaxis": "y"
        }
       ],
       "layout": {
        "height": 600,
        "legend": {
         "title": {
          "text": "highlight"
         },
         "tracegroupgap": 0
        },
        "template": {
         "data": {
          "bar": [
           {
            "error_x": {
             "color": "#2a3f5f"
            },
            "error_y": {
             "color": "#2a3f5f"
            },
            "marker": {
             "line": {
              "color": "#E5ECF6",
              "width": 0.5
             },
             "pattern": {
              "fillmode": "overlay",
              "size": 10,
              "solidity": 0.2
             }
            },
            "type": "bar"
           }
          ],
          "barpolar": [
           {
            "marker": {
             "line": {
              "color": "#E5ECF6",
              "width": 0.5
             },
             "pattern": {
              "fillmode": "overlay",
              "size": 10,
              "solidity": 0.2
             }
            },
            "type": "barpolar"
           }
          ],
          "carpet": [
           {
            "aaxis": {
             "endlinecolor": "#2a3f5f",
             "gridcolor": "white",
             "linecolor": "white",
             "minorgridcolor": "white",
             "startlinecolor": "#2a3f5f"
            },
            "baxis": {
             "endlinecolor": "#2a3f5f",
             "gridcolor": "white",
             "linecolor": "white",
             "minorgridcolor": "white",
             "startlinecolor": "#2a3f5f"
            },
            "type": "carpet"
           }
          ],
          "choropleth": [
           {
            "colorbar": {
             "outlinewidth": 0,
             "ticks": ""
            },
            "type": "choropleth"
           }
          ],
          "contour": [
           {
            "colorbar": {
             "outlinewidth": 0,
             "ticks": ""
            },
            "colorscale": [
             [
              0,
              "#0d0887"
             ],
             [
              0.1111111111111111,
              "#46039f"
             ],
             [
              0.2222222222222222,
              "#7201a8"
             ],
             [
              0.3333333333333333,
              "#9c179e"
             ],
             [
              0.4444444444444444,
              "#bd3786"
             ],
             [
              0.5555555555555556,
              "#d8576b"
             ],
             [
              0.6666666666666666,
              "#ed7953"
             ],
             [
              0.7777777777777778,
              "#fb9f3a"
             ],
             [
              0.8888888888888888,
              "#fdca26"
             ],
             [
              1,
              "#f0f921"
             ]
            ],
            "type": "contour"
           }
          ],
          "contourcarpet": [
           {
            "colorbar": {
             "outlinewidth": 0,
             "ticks": ""
            },
            "type": "contourcarpet"
           }
          ],
          "heatmap": [
           {
            "colorbar": {
             "outlinewidth": 0,
             "ticks": ""
            },
            "colorscale": [
             [
              0,
              "#0d0887"
             ],
             [
              0.1111111111111111,
              "#46039f"
             ],
             [
              0.2222222222222222,
              "#7201a8"
             ],
             [
              0.3333333333333333,
              "#9c179e"
             ],
             [
              0.4444444444444444,
              "#bd3786"
             ],
             [
              0.5555555555555556,
              "#d8576b"
             ],
             [
              0.6666666666666666,
              "#ed7953"
             ],
             [
              0.7777777777777778,
              "#fb9f3a"
             ],
             [
              0.8888888888888888,
              "#fdca26"
             ],
             [
              1,
              "#f0f921"
             ]
            ],
            "type": "heatmap"
           }
          ],
          "histogram": [
           {
            "marker": {
             "pattern": {
              "fillmode": "overlay",
              "size": 10,
              "solidity": 0.2
             }
            },
            "type": "histogram"
           }
          ],
          "histogram2d": [
           {
            "colorbar": {
             "outlinewidth": 0,
             "ticks": ""
            },
            "colorscale": [
             [
              0,
              "#0d0887"
             ],
             [
              0.1111111111111111,
              "#46039f"
             ],
             [
              0.2222222222222222,
              "#7201a8"
             ],
             [
              0.3333333333333333,
              "#9c179e"
             ],
             [
              0.4444444444444444,
              "#bd3786"
             ],
             [
              0.5555555555555556,
              "#d8576b"
             ],
             [
              0.6666666666666666,
              "#ed7953"
             ],
             [
              0.7777777777777778,
              "#fb9f3a"
             ],
             [
              0.8888888888888888,
              "#fdca26"
             ],
             [
              1,
              "#f0f921"
             ]
            ],
            "type": "histogram2d"
           }
          ],
          "histogram2dcontour": [
           {
            "colorbar": {
             "outlinewidth": 0,
             "ticks": ""
            },
            "colorscale": [
             [
              0,
              "#0d0887"
             ],
             [
              0.1111111111111111,
              "#46039f"
             ],
             [
              0.2222222222222222,
              "#7201a8"
             ],
             [
              0.3333333333333333,
              "#9c179e"
             ],
             [
              0.4444444444444444,
              "#bd3786"
             ],
             [
              0.5555555555555556,
              "#d8576b"
             ],
             [
              0.6666666666666666,
              "#ed7953"
             ],
             [
              0.7777777777777778,
              "#fb9f3a"
             ],
             [
              0.8888888888888888,
              "#fdca26"
             ],
             [
              1,
              "#f0f921"
             ]
            ],
            "type": "histogram2dcontour"
           }
          ],
          "mesh3d": [
           {
            "colorbar": {
             "outlinewidth": 0,
             "ticks": ""
            },
            "type": "mesh3d"
           }
          ],
          "parcoords": [
           {
            "line": {
             "colorbar": {
              "outlinewidth": 0,
              "ticks": ""
             }
            },
            "type": "parcoords"
           }
          ],
          "pie": [
           {
            "automargin": true,
            "type": "pie"
           }
          ],
          "scatter": [
           {
            "fillpattern": {
             "fillmode": "overlay",
             "size": 10,
             "solidity": 0.2
            },
            "type": "scatter"
           }
          ],
          "scatter3d": [
           {
            "line": {
             "colorbar": {
              "outlinewidth": 0,
              "ticks": ""
             }
            },
            "marker": {
             "colorbar": {
              "outlinewidth": 0,
              "ticks": ""
             }
            },
            "type": "scatter3d"
           }
          ],
          "scattercarpet": [
           {
            "marker": {
             "colorbar": {
              "outlinewidth": 0,
              "ticks": ""
             }
            },
            "type": "scattercarpet"
           }
          ],
          "scattergeo": [
           {
            "marker": {
             "colorbar": {
              "outlinewidth": 0,
              "ticks": ""
             }
            },
            "type": "scattergeo"
           }
          ],
          "scattergl": [
           {
            "marker": {
             "colorbar": {
              "outlinewidth": 0,
              "ticks": ""
             }
            },
            "type": "scattergl"
           }
          ],
          "scattermap": [
           {
            "marker": {
             "colorbar": {
              "outlinewidth": 0,
              "ticks": ""
             }
            },
            "type": "scattermap"
           }
          ],
          "scattermapbox": [
           {
            "marker": {
             "colorbar": {
              "outlinewidth": 0,
              "ticks": ""
             }
            },
            "type": "scattermapbox"
           }
          ],
          "scatterpolar": [
           {
            "marker": {
             "colorbar": {
              "outlinewidth": 0,
              "ticks": ""
             }
            },
            "type": "scatterpolar"
           }
          ],
          "scatterpolargl": [
           {
            "marker": {
             "colorbar": {
              "outlinewidth": 0,
              "ticks": ""
             }
            },
            "type": "scatterpolargl"
           }
          ],
          "scatterternary": [
           {
            "marker": {
             "colorbar": {
              "outlinewidth": 0,
              "ticks": ""
             }
            },
            "type": "scatterternary"
           }
          ],
          "surface": [
           {
            "colorbar": {
             "outlinewidth": 0,
             "ticks": ""
            },
            "colorscale": [
             [
              0,
              "#0d0887"
             ],
             [
              0.1111111111111111,
              "#46039f"
             ],
             [
              0.2222222222222222,
              "#7201a8"
             ],
             [
              0.3333333333333333,
              "#9c179e"
             ],
             [
              0.4444444444444444,
              "#bd3786"
             ],
             [
              0.5555555555555556,
              "#d8576b"
             ],
             [
              0.6666666666666666,
              "#ed7953"
             ],
             [
              0.7777777777777778,
              "#fb9f3a"
             ],
             [
              0.8888888888888888,
              "#fdca26"
             ],
             [
              1,
              "#f0f921"
             ]
            ],
            "type": "surface"
           }
          ],
          "table": [
           {
            "cells": {
             "fill": {
              "color": "#EBF0F8"
             },
             "line": {
              "color": "white"
             }
            },
            "header": {
             "fill": {
              "color": "#C8D4E3"
             },
             "line": {
              "color": "white"
             }
            },
            "type": "table"
           }
          ]
         },
         "layout": {
          "annotationdefaults": {
           "arrowcolor": "#2a3f5f",
           "arrowhead": 0,
           "arrowwidth": 1
          },
          "autotypenumbers": "strict",
          "coloraxis": {
           "colorbar": {
            "outlinewidth": 0,
            "ticks": ""
           }
          },
          "colorscale": {
           "diverging": [
            [
             0,
             "#8e0152"
            ],
            [
             0.1,
             "#c51b7d"
            ],
            [
             0.2,
             "#de77ae"
            ],
            [
             0.3,
             "#f1b6da"
            ],
            [
             0.4,
             "#fde0ef"
            ],
            [
             0.5,
             "#f7f7f7"
            ],
            [
             0.6,
             "#e6f5d0"
            ],
            [
             0.7,
             "#b8e186"
            ],
            [
             0.8,
             "#7fbc41"
            ],
            [
             0.9,
             "#4d9221"
            ],
            [
             1,
             "#276419"
            ]
           ],
           "sequential": [
            [
             0,
             "#0d0887"
            ],
            [
             0.1111111111111111,
             "#46039f"
            ],
            [
             0.2222222222222222,
             "#7201a8"
            ],
            [
             0.3333333333333333,
             "#9c179e"
            ],
            [
             0.4444444444444444,
             "#bd3786"
            ],
            [
             0.5555555555555556,
             "#d8576b"
            ],
            [
             0.6666666666666666,
             "#ed7953"
            ],
            [
             0.7777777777777778,
             "#fb9f3a"
            ],
            [
             0.8888888888888888,
             "#fdca26"
            ],
            [
             1,
             "#f0f921"
            ]
           ],
           "sequentialminus": [
            [
             0,
             "#0d0887"
            ],
            [
             0.1111111111111111,
             "#46039f"
            ],
            [
             0.2222222222222222,
             "#7201a8"
            ],
            [
             0.3333333333333333,
             "#9c179e"
            ],
            [
             0.4444444444444444,
             "#bd3786"
            ],
            [
             0.5555555555555556,
             "#d8576b"
            ],
            [
             0.6666666666666666,
             "#ed7953"
            ],
            [
             0.7777777777777778,
             "#fb9f3a"
            ],
            [
             0.8888888888888888,
             "#fdca26"
            ],
            [
             1,
             "#f0f921"
            ]
           ]
          },
          "colorway": [
           "#636efa",
           "#EF553B",
           "#00cc96",
           "#ab63fa",
           "#FFA15A",
           "#19d3f3",
           "#FF6692",
           "#B6E880",
           "#FF97FF",
           "#FECB52"
          ],
          "font": {
           "color": "#2a3f5f"
          },
          "geo": {
           "bgcolor": "white",
           "lakecolor": "white",
           "landcolor": "#E5ECF6",
           "showlakes": true,
           "showland": true,
           "subunitcolor": "white"
          },
          "hoverlabel": {
           "align": "left"
          },
          "hovermode": "closest",
          "mapbox": {
           "style": "light"
          },
          "paper_bgcolor": "white",
          "plot_bgcolor": "#E5ECF6",
          "polar": {
           "angularaxis": {
            "gridcolor": "white",
            "linecolor": "white",
            "ticks": ""
           },
           "bgcolor": "#E5ECF6",
           "radialaxis": {
            "gridcolor": "white",
            "linecolor": "white",
            "ticks": ""
           }
          },
          "scene": {
           "xaxis": {
            "backgroundcolor": "#E5ECF6",
            "gridcolor": "white",
            "gridwidth": 2,
            "linecolor": "white",
            "showbackground": true,
            "ticks": "",
            "zerolinecolor": "white"
           },
           "yaxis": {
            "backgroundcolor": "#E5ECF6",
            "gridcolor": "white",
            "gridwidth": 2,
            "linecolor": "white",
            "showbackground": true,
            "ticks": "",
            "zerolinecolor": "white"
           },
           "zaxis": {
            "backgroundcolor": "#E5ECF6",
            "gridcolor": "white",
            "gridwidth": 2,
            "linecolor": "white",
            "showbackground": true,
            "ticks": "",
            "zerolinecolor": "white"
           }
          },
          "shapedefaults": {
           "line": {
            "color": "#2a3f5f"
           }
          },
          "ternary": {
           "aaxis": {
            "gridcolor": "white",
            "linecolor": "white",
            "ticks": ""
           },
           "baxis": {
            "gridcolor": "white",
            "linecolor": "white",
            "ticks": ""
           },
           "bgcolor": "#E5ECF6",
           "caxis": {
            "gridcolor": "white",
            "linecolor": "white",
            "ticks": ""
           }
          },
          "title": {
           "x": 0.05
          },
          "xaxis": {
           "automargin": true,
           "gridcolor": "white",
           "linecolor": "white",
           "ticks": "",
           "title": {
            "standoff": 15
           },
           "zerolinecolor": "white",
           "zerolinewidth": 2
          },
          "yaxis": {
           "automargin": true,
           "gridcolor": "white",
           "linecolor": "white",
           "ticks": "",
           "title": {
            "standoff": 15
           },
           "zerolinecolor": "white",
           "zerolinewidth": 2
          }
         }
        },
        "title": {
         "text": "t-SNE Visualization of legal-BERT Word Embeddings"
        },
        "width": 800,
        "xaxis": {
         "anchor": "y",
         "domain": [
          0,
          1
         ],
         "title": {
          "text": "x"
         }
        },
        "yaxis": {
         "anchor": "x",
         "domain": [
          0,
          1
         ],
         "title": {
          "text": "y"
         }
        }
       }
      }
     },
     "metadata": {},
     "output_type": "display_data"
    }
   ],
   "source": [
    "# Create a DataFrame for visualization\n",
    "import plotly.express as px\n",
    "\n",
    "df_tsne = pd.DataFrame(tsne_results, columns=['x', 'y'])\n",
    "df_tsne['word'] = list(word_embeddings.keys())\n",
    "# Highlight the word 'chinese' in the plot\n",
    "keywords = [\"chinese\", \"china\", \"chinaman\", \"chinamen\"]\n",
    "df_tsne['highlight'] = df_tsne['word'].apply(lambda x: x if x in keywords else '')\n",
    "\n",
    "fig = px.scatter(\n",
    "    df_tsne,\n",
    "    x='x',\n",
    "    y='y',\n",
    "    title='t-SNE Visualization of legal-BERT Word Embeddings',\n",
    "    color='highlight',                        \n",
    "    hover_data=['word'], \n",
    "    text= 'highlight',\n",
    "    height=600,\n",
    "    width=800\n",
    ")\n",
    "\n",
    "fig.show()"
   ]
  },
  {
   "cell_type": "markdown",
   "id": "92c339eb",
   "metadata": {},
   "source": [
    "### Text Embedding and Analysis of Crease and Begbie Corpus"
   ]
  },
  {
   "cell_type": "code",
   "execution_count": 12,
   "id": "619d441b",
   "metadata": {},
   "outputs": [],
   "source": [
    "# Compile the Crease texts into a single text list\n",
    "crease_texts = df[df['author'] == 'Crease']['text'].tolist()\n",
    "\n",
    "# Compile the Begbie texts into a single text list\n",
    "begbie_texts = df[df['author'] == 'Begbie']['text'].tolist()\n",
    "\n",
    "# Combine both lists in a dictionary\n",
    "judge_dict = {\n",
    "    'Crease': crease_texts,\n",
    "    'Begbie': begbie_texts\n",
    "}"
   ]
  },
  {
   "cell_type": "code",
   "execution_count": 13,
   "id": "82fe1fd0",
   "metadata": {},
   "outputs": [],
   "source": [
    "# Define a function to embed text using the model\n",
    "from typing import Union, List\n",
    "\n",
    "def embed_text(\n",
    "    text: str,\n",
    "    focus_token: Union[str, List[str]] = None,\n",
    "    window: int = 10,\n",
    "    pooling: str = \"mean\",  # \"mean\" (default), \"max\", or \"min\"\n",
    "    tokenizer=tokenizer,\n",
    "    model=model)-> np.ndarray:\n",
    "    \"\"\"\n",
    "    text: the raw string\n",
    "    focus_token: either a single word, or a list of words to look for\n",
    "    window: how many tokens on each side to include\n",
    "    tokenizer: HuggingFace tokenizer\n",
    "    model: BERT model\n",
    "    \"\"\"\n",
    "    # Run the model once\n",
    "    inputs = tokenizer(text, return_tensors=\"pt\", truncation=True)\n",
    "    with torch.no_grad():\n",
    "        outputs = model(**inputs)\n",
    "    hidden = outputs.last_hidden_state.squeeze(0) \n",
    "\n",
    "    if focus_token is None:\n",
    "        return hidden[0].cpu().numpy()\n",
    "    \n",
    "    # Normalize to list\n",
    "    keywords = (\n",
    "        [focus_token] if isinstance(focus_token, str)\n",
    "        else focus_token\n",
    "    )\n",
    "\n",
    "    # Pre-tokenize each keyword to its subtoken ids\n",
    "    kw_token_ids = {\n",
    "        kw: tokenizer.convert_tokens_to_ids(tokenizer.tokenize(kw))\n",
    "        for kw in keywords\n",
    "    }\n",
    "\n",
    "    input_ids = inputs[\"input_ids\"].squeeze(0).tolist()\n",
    "    spans = []  # list of (start, end) index pairs\n",
    "\n",
    "    # find every match of every keyword\n",
    "    for kw, sub_ids in kw_token_ids.items():\n",
    "        L = len(sub_ids)\n",
    "        for i in range(len(input_ids) - L + 1):\n",
    "            if input_ids[i:i+L] == sub_ids:\n",
    "                spans.append((i, i+L))\n",
    "\n",
    "    if not spans:\n",
    "        # fallback on CLS vector\n",
    "        return hidden[0].cpu().numpy()\n",
    "\n",
    "    # For each span, grab the window around it\n",
    "    vecs = []\n",
    "    for (start, end) in spans:\n",
    "        lo = max(1, start - window)\n",
    "        hi = min(hidden.size(0), end + window)\n",
    "        # mean‑pool over all tokens in this extended window\n",
    "        span_vec = hidden[lo:hi]\n",
    "        \n",
    "        if pooling == \"mean\":\n",
    "            pooled = span_vec.mean(dim=0)\n",
    "        elif pooling == \"max\":\n",
    "            pooled = span_vec.max(dim=0).values\n",
    "        elif pooling == \"min\":\n",
    "            pooled = span_vec.min(dim=0).values\n",
    "        else:\n",
    "            raise ValueError(f\"Unknown pooling method: {pooling}\")\n",
    "        \n",
    "        vecs.append(pooled.cpu().numpy())\n",
    "\n",
    "    # Average across all spans\n",
    "    return np.mean(np.stack(vecs, axis=0), axis=0)"
   ]
  },
  {
   "cell_type": "code",
   "execution_count": 14,
   "id": "99007dfd",
   "metadata": {},
   "outputs": [],
   "source": [
    "from nltk import sent_tokenize \n",
    "# Create a dictionary to hold the mentionings of \"Chinese\" by author\n",
    "judge_snippets = {}\n",
    "\n",
    "keywords = [\"Chinese\", \"China\", \"Chinaman\", \"Chinamen\", \"immigrant\", \"immigrants\", \"immigration\"]\n",
    "for auth, texts in judge_dict.items():\n",
    "    snippets = []\n",
    "    for txt in texts:\n",
    "        sentence = sent_tokenize(txt)\n",
    "        for sent in sentence:\n",
    "            if any(keyword in sent for keyword in keywords):\n",
    "                snippets.append(sent)\n",
    "    judge_snippets[auth] = snippets"
   ]
  },
  {
   "cell_type": "code",
   "execution_count": 15,
   "id": "af029422",
   "metadata": {},
   "outputs": [
    {
     "name": "stdout",
     "output_type": "stream",
     "text": [
      "Snippet size by author:\n",
      "Crease: 137\n",
      "Begbie: 108\n"
     ]
    }
   ],
   "source": [
    "# Investigate the length of the snippets\n",
    "n_snippet = {auth: len(snippets) for auth, snippets in judge_snippets.items()}\n",
    "\n",
    "print(\"Snippet size by author:\")\n",
    "for auth, num in n_snippet.items():\n",
    "    print(f\"{auth}: {num}\")\n",
    "    "
   ]
  },
  {
   "cell_type": "code",
   "execution_count": 16,
   "id": "60a21e43",
   "metadata": {},
   "outputs": [
    {
     "name": "stderr",
     "output_type": "stream",
     "text": [
      "c:\\Users\\Kaiyan Zhang\\AppData\\Local\\Programs\\Python\\Python312\\Lib\\site-packages\\torch\\nn\\modules\\module.py:1762: FutureWarning:\n",
      "\n",
      "`encoder_attention_mask` is deprecated and will be removed in version 4.55.0 for `BertSdpaSelfAttention.forward`.\n",
      "\n"
     ]
    }
   ],
   "source": [
    "# Define an ethnicity anchor, not including \"chinese\"\n",
    "ethnicities = [\n",
    "    \"Japanese\",   \"Korean\",    \"Vietnamese\",\n",
    "    \"Filipino\",    \"Thai\",       \"Malay\",     \"Indian\",\n",
    "    \"Pakistani\",   \"Bangladeshi\",\"Nepalese\",  \"Tibetan\",\n",
    "    \"Arab\",        \"Persian\",    \"Turkish\",   \"Slavic\",\n",
    "    \"Germanic\",    \"Celtic\",     \"Slavic\",    \"Romani\",\n",
    "    \"Jewish\",      \"Zulu\",       \"Xhosa\",     \"Maori\",\n",
    "    \"Sami\",        \"Berber\",     \"Tamil\",     \"Punjabi\",\n",
    "    \"Bengali\",     \"Kazakh\",     \"Uyghur\"\n",
    "]\n",
    "\n",
    "# Create embeddings\n",
    "eth_vecs = []\n",
    "for e in ethnicities:\n",
    "    eth_vecs.append(embed_text(e)[:256])  # Keep only the first 256 dimensions\n",
    "    \n",
    "eth_anchor = np.mean(eth_vecs, axis=0)"
   ]
  },
  {
   "cell_type": "code",
   "execution_count": 17,
   "id": "ac0a99b4",
   "metadata": {},
   "outputs": [],
   "source": [
    "# Create embeddings\n",
    "embeddings_dict = {'Crease': [], 'Begbie': []}\n",
    "\n",
    "for auth, snippets in judge_snippets.items():\n",
    "    for snip in snippets:\n",
    "        v = embed_text(snip, focus_token=keywords, window=15)\n",
    "        embeddings_dict[auth].append(v[:256])\n"
   ]
  },
  {
   "cell_type": "code",
   "execution_count": 18,
   "id": "e389a993",
   "metadata": {},
   "outputs": [],
   "source": [
    "# Create embeddings that subtract the ethnicity anchor\n",
    "subtracted_embeddings_dict = {'Crease': [], 'Begbie': []}\n",
    "\n",
    "for auth, embeddings in embeddings_dict.items():\n",
    "    for emb in embeddings:\n",
    "        v = emb - eth_anchor\n",
    "        subtracted_embeddings_dict[auth].append(v)"
   ]
  },
  {
   "cell_type": "code",
   "execution_count": 19,
   "id": "765bed0c",
   "metadata": {},
   "outputs": [
    {
     "name": "stdout",
     "output_type": "stream",
     "text": [
      "Cosine similarity between Crease and Begbie: 0.9779\n"
     ]
    }
   ],
   "source": [
    "from sklearn.metrics.pairwise import cosine_similarity\n",
    "\n",
    "# Compute per author mean and cosine similarity\n",
    "mean_crease = np.mean(embeddings_dict[\"Crease\"], axis=0, keepdims=True)  \n",
    "mean_begbie = np.mean(embeddings_dict[\"Begbie\"], axis=0, keepdims=True)\n",
    "\n",
    "# Compute the pairwise cosine similarity\n",
    "sim_crease_begbie = cosine_similarity(mean_crease, mean_begbie)[0, 0] \n",
    "\n",
    "print(f\"Cosine similarity between Crease and Begbie: {sim_crease_begbie:.4f}\")"
   ]
  },
  {
   "cell_type": "code",
   "execution_count": 20,
   "id": "fabad212",
   "metadata": {},
   "outputs": [
    {
     "name": "stdout",
     "output_type": "stream",
     "text": [
      "Cosine similarity between Crease and Begbie with ethical axis removed: 0.9970\n"
     ]
    }
   ],
   "source": [
    "# Compute per author mean and cosine similarity\n",
    "subtracted_mean_crease = np.mean(subtracted_embeddings_dict[\"Crease\"], axis=0, keepdims=True)  \n",
    "subtracted_mean_begbie = np.mean(subtracted_embeddings_dict[\"Begbie\"], axis=0, keepdims=True)\n",
    "\n",
    "# Compute the pairwise cosine similarity\n",
    "sim_crease_begbie_sub = cosine_similarity(subtracted_mean_crease, subtracted_mean_begbie)[0, 0] \n",
    "\n",
    "print(f\"Cosine similarity between Crease and Begbie with ethical axis removed: {sim_crease_begbie_sub:.4f}\")"
   ]
  },
  {
   "cell_type": "code",
   "execution_count": 21,
   "id": "cd307b32",
   "metadata": {},
   "outputs": [
    {
     "name": "stdout",
     "output_type": "stream",
     "text": [
      "Cosine similarity between Crease and Begbie with Begbie removed ethnical axis: 0.4245\n",
      "Cosine similarity between Crease and Begbie with Crease removed ethnical axis: 0.4305\n"
     ]
    }
   ],
   "source": [
    "# We check if the cosine similarity is lower when one subtracted the ethnicity anchor but not the other\n",
    "sim_crease_sub_begbie = cosine_similarity(mean_crease, subtracted_mean_begbie)[0, 0]\n",
    "sim_sub_crease_begbie = cosine_similarity(subtracted_mean_crease, mean_begbie)[0, 0]\n",
    "\n",
    "print(f\"Cosine similarity between Crease and Begbie with Begbie removed ethnical axis: {sim_crease_sub_begbie:.4f}\")\n",
    "print(f\"Cosine similarity between Crease and Begbie with Crease removed ethnical axis: {sim_sub_crease_begbie:.4f}\")"
   ]
  },
  {
   "cell_type": "code",
   "execution_count": 22,
   "id": "7a5ac342",
   "metadata": {},
   "outputs": [
    {
     "name": "stdout",
     "output_type": "stream",
     "text": [
      "Cosine similarity between max Crease and max Begbie: 0.9703\n",
      "Cosine similarity between min Crease and min Begbie: 0.9721\n"
     ]
    }
   ],
   "source": [
    "# We check the cosine similarity of max and min embeddings\n",
    "max_crease = np.max(embeddings_dict[\"Crease\"], axis=0, keepdims=True)\n",
    "min_crease = np.min(embeddings_dict[\"Crease\"], axis=0, keepdims=True)\n",
    "max_begbie = np.max(embeddings_dict[\"Begbie\"], axis=0, keepdims=True)\n",
    "min_begbie = np.min(embeddings_dict[\"Begbie\"], axis=0, keepdims=True)\n",
    "\n",
    "sim_crease_begbie_max = cosine_similarity(max_crease, max_begbie)[0, 0]\n",
    "sim_crease_begbie_min = cosine_similarity(min_crease, min_begbie)[0, 0]\n",
    "\n",
    "print(f\"Cosine similarity between max Crease and max Begbie: {sim_crease_begbie_max:.4f}\")\n",
    "print(f\"Cosine similarity between min Crease and min Begbie: {sim_crease_begbie_min:.4f}\")"
   ]
  },
  {
   "cell_type": "code",
   "execution_count": 23,
   "id": "5fe9fcb4",
   "metadata": {},
   "outputs": [
    {
     "data": {
      "image/png": "[encoded data removed]",
      "text/plain": [
       "<Figure size 800x400 with 1 Axes>"
      ]
     },
     "metadata": {},
     "output_type": "display_data"
    },
    {
     "name": "stdout",
     "output_type": "stream",
     "text": [
      "Bootstrap mean cosine similarity between Crease and Begbie: 0.9723\n",
      "95% Confidence Interval: [0.9645, 0.9788]\n"
     ]
    }
   ],
   "source": [
    "import matplotlib.pyplot as plt\n",
    "# We can bootstrap the similarity score to get a confidence interval\n",
    "crease_embeddings = np.array(embeddings_dict[\"Crease\"])\n",
    "begbie_embeddings = np.array(embeddings_dict[\"Begbie\"])\n",
    "\n",
    "# Convert to arrays\n",
    "crease_embeddings = np.vstack(crease_embeddings)\n",
    "begbie_embeddings = np.vstack(begbie_embeddings)\n",
    "\n",
    "n_boot = 1000 \n",
    "cosine_scores = []\n",
    "\n",
    "for _ in range(n_boot):\n",
    "    # Sample with replacement\n",
    "    crease_sample = crease_embeddings[np.random.choice(len(crease_embeddings), size=len(crease_embeddings), replace=True)]\n",
    "    begbie_sample = begbie_embeddings[np.random.choice(len(begbie_embeddings), size=len(begbie_embeddings), replace=True)]\n",
    "    \n",
    "    # Compute mean embeddings\n",
    "    mean_crease_boot = np.mean(crease_sample, axis=0, keepdims=True)\n",
    "    mean_begbie_boot = np.mean(begbie_sample, axis=0, keepdims=True)\n",
    "    \n",
    "    # Compute cosine similarity\n",
    "    cos_sim = cosine_similarity(mean_crease_boot, mean_begbie_boot)[0][0]\n",
    "    cosine_scores.append(cos_sim)\n",
    "\n",
    "# Convert to numpy array\n",
    "cosine_scores = np.array(cosine_scores)\n",
    "\n",
    "# Compute 95% confidence interval\n",
    "lower = np.percentile(cosine_scores, 2.5)\n",
    "upper = np.percentile(cosine_scores, 97.5)\n",
    "mean_sim = np.mean(cosine_scores)\n",
    "\n",
    "# Plot the bootstrap distribution\n",
    "plt.figure(figsize=(8, 4))\n",
    "plt.hist(cosine_scores, bins=30, color='skyblue', edgecolor='black', alpha=0.7)\n",
    "\n",
    "# Add lines for mean and confidence interval\n",
    "plt.axvline(mean_sim, color='black', linestyle='-', linewidth=2, label=f'Mean: {mean_sim:.4f}')\n",
    "plt.axvline(lower, color='red', linestyle='--', linewidth=2, label=f'2.5%: {lower:.4f}')\n",
    "plt.axvline(upper, color='green', linestyle='--', linewidth=2, label=f'97.5%: {upper:.4f}')\n",
    "\n",
    "plt.title('Bootstrap Distribution of Cosine Similarity Between Crease and Begbie')\n",
    "plt.xlabel('Cosine Similarity')\n",
    "plt.ylabel('Frequency')\n",
    "plt.legend()\n",
    "plt.tight_layout()\n",
    "plt.show()\n",
    "\n",
    "# Print the results\n",
    "print(f\"Bootstrap mean cosine similarity between Crease and Begbie: {mean_sim:.4f}\")\n",
    "print(f\"95% Confidence Interval: [{lower:.4f}, {upper:.4f}]\")"
   ]
  },
  {
   "cell_type": "code",
   "execution_count": 24,
   "id": "a6a51433",
   "metadata": {},
   "outputs": [
    {
     "data": {
      "image/png": "[encoded data removed]",
      "text/plain": [
       "<Figure size 800x400 with 1 Axes>"
      ]
     },
     "metadata": {},
     "output_type": "display_data"
    },
    {
     "name": "stdout",
     "output_type": "stream",
     "text": [
      "Bootstrap mean cosine similarity between Crease and Begbie with ethnical axis removed: 0.9962\n",
      "95% Confidence Interval: [0.9951, 0.9971]\n"
     ]
    }
   ],
   "source": [
    "# Similarly, bootstrap the similarity score to get a confidence interval\n",
    "crease_embeddings = np.array(subtracted_embeddings_dict[\"Crease\"])\n",
    "begbie_embeddings = np.array(subtracted_embeddings_dict[\"Begbie\"])\n",
    "\n",
    "# Convert to arrays\n",
    "crease_embeddings = np.vstack(crease_embeddings)\n",
    "begbie_embeddings = np.vstack(begbie_embeddings)\n",
    "\n",
    "n_boot = 1000 \n",
    "subtracted_cosine_scores = []\n",
    "\n",
    "for _ in range(n_boot):\n",
    "    # Sample with replacement\n",
    "    crease_sample = crease_embeddings[np.random.choice(len(crease_embeddings), size=len(crease_embeddings), replace=True)]\n",
    "    begbie_sample = begbie_embeddings[np.random.choice(len(begbie_embeddings), size=len(begbie_embeddings), replace=True)]\n",
    "    \n",
    "    # Compute mean embeddings\n",
    "    mean_crease_boot = np.mean(crease_sample, axis=0, keepdims=True)\n",
    "    mean_begbie_boot = np.mean(begbie_sample, axis=0, keepdims=True)\n",
    "    \n",
    "    # Compute cosine similarity\n",
    "    cos_sim = cosine_similarity(mean_crease_boot, mean_begbie_boot)[0][0]\n",
    "    subtracted_cosine_scores.append(cos_sim)\n",
    "\n",
    "# Convert to numpy array\n",
    "subtracted_cosine_scores = np.array(subtracted_cosine_scores)\n",
    "\n",
    "# Compute 95% confidence interval\n",
    "lower = np.percentile(subtracted_cosine_scores, 2.5)\n",
    "upper = np.percentile(subtracted_cosine_scores, 97.5)\n",
    "mean_sim = np.mean(subtracted_cosine_scores)\n",
    "\n",
    "# Plot the bootstrap distribution\n",
    "plt.figure(figsize=(8, 4))\n",
    "plt.hist(subtracted_cosine_scores, bins=30, color='skyblue', edgecolor='black', alpha=0.7)\n",
    "\n",
    "# Add lines for mean and confidence interval\n",
    "plt.axvline(mean_sim, color='black', linestyle='-', linewidth=2, label=f'Mean: {mean_sim:.4f}')\n",
    "plt.axvline(lower, color='red', linestyle='--', linewidth=2, label=f'2.5%: {lower:.4f}')\n",
    "plt.axvline(upper, color='green', linestyle='--', linewidth=2, label=f'97.5%: {upper:.4f}')\n",
    "\n",
    "plt.title('Bootstrap Distribution of Cosine Similarity Between Crease and Begbie (with Ethnical Axis Removed)')\n",
    "plt.xlabel('Cosine Similarity')\n",
    "plt.ylabel('Frequency')\n",
    "plt.legend()\n",
    "plt.tight_layout()\n",
    "plt.show()\n",
    "\n",
    "# Print the results\n",
    "print(f\"Bootstrap mean cosine similarity between Crease and Begbie with ethnical axis removed: {mean_sim:.4f}\")\n",
    "print(f\"95% Confidence Interval: [{lower:.4f}, {upper:.4f}]\")"
   ]
  },
  {
   "cell_type": "code",
   "execution_count": 25,
   "id": "a1126d12",
   "metadata": {},
   "outputs": [
    {
     "name": "stdout",
     "output_type": "stream",
     "text": [
      "t-statistic: 201.7689\n",
      "p-value: 0.0000\n",
      "The difference in mean cosine similarity is statistically significant.\n"
     ]
    }
   ],
   "source": [
    "# Testing if the ethnical axis removal has a significant effect on the similarity score\n",
    "# We can use a bootstrapped t-test to compare the means of the two distributions\n",
    "from scipy.stats import ttest_ind\n",
    "\n",
    "# Perform bootstrapped t-test\n",
    "t_stat, p_value = ttest_ind(subtracted_cosine_scores, cosine_scores, equal_var=False)\n",
    "\n",
    "# Print the results\n",
    "print(f\"t-statistic: {t_stat:.4f}\")\n",
    "print(f\"p-value: {p_value:.4f}\")\n",
    "\n",
    "if p_value < 0.05:\n",
    "    print(\"The difference in mean cosine similarity is statistically significant.\")\n",
    "else:\n",
    "    print(\"The difference in mean cosine similarity is not statistically significant.\")"
   ]
  },
  {
   "cell_type": "markdown",
   "id": "1abd9959",
   "metadata": {},
   "source": [
    "With the above test on embeddings with or without the ethnical axis, we confirmed that the difference between cosine similarities of Crease and Begbie are statistically significantly biased by the ethnical factors. However, with the small difference in real cosine similarity, we can conclude that the two characters are still very similar in terms of their text embeddings, thus the bias is not very significant in the real world. "
   ]
  },
  {
   "cell_type": "code",
   "execution_count": 26,
   "id": "92a4a97d",
   "metadata": {},
   "outputs": [],
   "source": [
    "# Create UMAP projection for visualization\n",
    "import umap \n",
    "\n",
    "all_vecs = np.vstack(embeddings_dict[\"Crease\"] + embeddings_dict[\"Begbie\"])\n",
    "labels  = ([\"Crease\"] * len(embeddings_dict[\"Crease\"])) + ([\"Begbie\"] * len(embeddings_dict[\"Begbie\"]))\n",
    "\n",
    "reducer = umap.UMAP(n_neighbors=15, min_dist=0.1)\n",
    "proj = reducer.fit_transform(all_vecs) "
   ]
  },
  {
   "cell_type": "code",
   "execution_count": 27,
   "id": "2fffceb5",
   "metadata": {},
   "outputs": [
    {
     "data": {
      "application/vnd.plotly.v1+json": {
       "config": {
        "plotlyServerURL": "https://plot.ly"
       },
       "data": [
        {
         "customdata": [
          [
           "14th & 15th July, Certiorari—“Chinese Regulation<br>Act, 1884,” s. 5—Constitutionality—B.N.A."
          ],
          [
           "Held, that the “Chinese Regulation Act, 1884,” is<br>ultra vires of the Provincial Legislature, on the<br>following grounds:  1."
          ],
          [
           "It is an infraction of the existing treaties<br>between the Imperial Government and China."
          ],
          [
           "14th & 15th July—On the return of a writ of<br>certiorari directed to Edwin Johnson, Esquire,<br>Police Magistrate for the City of Victoria, to<br>return into this Court a certain conviction made<br>by him under which one Wing Chong was fined $20<br>for not having in his possession a license issued<br>under the “Chinese Regulation Act, 1884.”  The<br>Attorney-General in support of the conviction said<br>there were five points raised on the rule for the<br>certiorari against the validity of the $10<br>tax.—1st."
          ],
          [
           "Its object, though not apparent on the face of the<br>Act, was to prevent Chinese coming into the<br>Province and drive out those who had already come."
          ],
          [
           "He reviewed the legislation against Chinese since<br>confederation, contending it was levelled against<br>a particular race of aliens and, therefore, beyond<br>provincial control, per *Gwynne*, J., in *Citizens<br>Insurance Co. v. Parsons*, 4 S. C. R., at p. 346."
          ],
          [
           "If its object were successful and Chinese driven<br>from the country, the customs dues received from<br>the Chinese would be lost and the benefits of<br>trade relations enjoyed by the merchants would be<br>destroyed."
          ],
          [
           "Counsel cited statistics from the Chinese<br>Commission showing the extreme importance, from a<br>fiscal and commercial point of view, of the large<br>number of Chinese in the Province."
          ],
          [
           "Act had alone the right of performing in Canada<br>the obligations of Canada as part of the British<br>Empire in respect of treaties, and although Canada<br>might pass laws prohibiting immigration, or having<br>that tendency, the Province could not do so, nor<br>could it pass laws in derogation of treaties."
          ],
          [
           "334) had decided a special tax could not be<br>imposed on Chinese, a most celebrated Judge, Mr.<br>Justice Field (since elevated to the Federal<br>bench), dissented, and had pointed out that<br>according to federal decisions the State might<br>impose special taxation on alien residents,<br>provided the impost was not levied against<br>foreigners landing in the country."
          ],
          [
           "The tax was not to exclude the Chinese — another<br>statute with that object had been disallowed."
          ],
          [
           "Opponents to the Act might as well contend the<br>exclusion of the Chinese from the franchise, and<br>barring them from acquiring lands, was illegal."
          ],
          [
           "Section 3—with which we are immediately<br>concerned—says:—\"From and after the passage of<br>this Act there shall be payable and \"paid by every<br>Chinese in British Columbia, above the age of<br>fourteen years, unto and for the use of Her<br>Majesty, her heirs and successors, the sum of ten<br>dollars, and thereafter on the 1st day of June in<br>\"each and every year there shall be likewise<br>payable and paid by such \"Chinese person a further<br>sum of ten dollars.\""
          ],
          [
           "4 provides for the appointment and payment of<br>special collectors, \"to be called Chinese<br>collectors, to collect and receive such \"payments<br>from Chinese; and such collector or collectors,<br>immediately upon such payment, shall issue and<br>deliver to the person paying \"the same a licence<br>in the form contained in the schedule hereto.\""
          ],
          [
           "By Sec.”   Section 9.”  Section 10 gives the<br>collector power to “levy the amount of the license<br>from any Chinese not being in lawful possession of<br>a license, “with costs, by distress of his goods<br>and chattels, or of any goods and “chattels which<br>may be in the possession of the delinquent, or<br>which “may be upon or in any premises (whether the<br>goods of the delin- “quent or not) for the time<br>being in the possession or occupation of “such<br>delinquent Chinese,” and declares that “for the<br>purposes of this “section premises shall be deemed<br>to be in the possession or occupa- “tion of any<br>Chinese when it can be shown to the satisfaction<br>of the “tribunal having cognizance of the matter<br>(a) that such Chinese “habitually frequents such<br>premises with the assent of the owner ; “(b) that<br>he is the owner or one of the owners of the<br>premises, or has “control, either alone or<br>jointly, with another or others, of such pre-<br>“mises or some part thereof; (c) that he has<br>passed the night or slept “upon such premises at<br>any time within a week of the levy, it shall “be<br>sufficient authority for the collector to levy as<br>aforesaid on the “non-production of the license."
          ],
          [
           "By section 12 tax collectors are not to allow<br>Chinese to pass unless a license is produced."
          ],
          [
           "Section 13 imposes a penalty of $50 on any person<br>guilty of employing any Chinese not having a<br>license."
          ],
          [
           "14 Fee for free miner’s certificate to a Chinese<br>to be $15, instead of the white man's $5."
          ],
          [
           "Penalty not exceeding $30 for every Chinaman<br>mining without a license.”   Sections 17 and 18<br>prevent the exhumation of dead bodies without<br>permission, and prohibit the use of opium except<br>for medical purposes."
          ],
          [
           "Section 22 enacts that the tribunal applied to may<br>decide \"on its own view and judgment\" whether any<br>person is a Chinese or 14 years old."
          ],
          [
           "Sections 23, 24 and 25 contain sanitary provisions<br>affecting buildings let to Chinese."
          ],
          [
           "The aliens in this case being Chinese, the first<br>enquiry must be, what is the object of the Act?"
          ],
          [
           "The provisions of the Act I have given somewhat in<br>extenso bear out that view, and the concurrent and<br>previous local legislation bear out the same<br>impression, for on the same day as this Act was<br>passed, another Act was passed, the very object of<br>which was plainly stated to be \"to prevent the<br>immigration\" of Chinese.\""
          ],
          [
           "It interfered with aliens as well as trade and<br>commerce, which cannot subsist among nations<br>without personal intercourse, which such an Act<br>(as far as China was concerned) would have a<br>tendency to prohibit."
          ],
          [
           "Another statute (of 1878), \"An Act to provide for<br>the better collection of taxes from Chinese,\"<br>which contained several of the stringent<br>provisions which I have described in this Act,<br>such as a special tax specially recoverable by<br>summary and unusual remedies from the Chinese<br>alone, in British Columbia, and enforced by fine<br>and imprisonment and other penal clauses, came<br>before this Court, and in a most conscientious and<br>exhaustive judgment of Mr. Justice Gray, of 23rd<br>September, 1878, in the case of Tai Sing v.<br>Maguire, was declared unconstitutional and ultra<br>vires the Local Legislature, as interfering with<br>aliens and trade and commerce—matters reserved<br>exclusively under the 81st section of the B. N. A."
          ],
          [
           "The basis, then, of our enquiry must be: Is this<br>Chinese Regulation Act of 1884—rather the parts of<br>it objected to—within the limit of subjects and<br>area of section 92, or does it exceed those limits<br>in which it is supreme, and interfere with aliens,<br>trade and commerce in such a manner as to encroach<br>on section 91 or any of its sub-sections?"
          ],
          [
           "The power asserted in the Act in question (the<br>California Act) is the right of the State to<br>prescribe the terms upon which the Chinese shall<br>be permitted to reside in it, and be so used as to<br>cut off all intercourse between them and the<br>people of the State, and defeat the commercial<br>policy of the nation."
          ],
          [
           "That the Chinese might be taxed as other<br>residents, but could not be set apart as special<br>objects of the taxation, and be compelled to<br>contribute to the revenue of the State in the<br>character of foreigners."
          ],
          [
           "The reports of the higher California courts are of<br>great authority for us on all Chinese questions,<br>for there have been efforts for years past to<br>restrict Chinese immigration in California, and<br>the matter has been constantly before the superior<br>courts there, and the judges there (if we may take<br>the reports as correct) are more than ordinarily<br>skilled in laying down the law correctly in<br>constitutional points of that nature."
          ],
          [
           "And again, \"A tax imposed by the law on these<br>persons for the mere right to reside here, is an<br>appropriate and effective means to discourage the<br>immigration of the Chinese into the State.\""
          ],
          [
           "In another California case, *In re Tiburcio<br>Parrott*, it is laid down that if the apparent<br>object of a statute is under a pretense of the<br>exercise of constitutional powers to drive Chinese<br>away, the end sought to be obtained being<br>unlawful, the statute is void."
          ],
          [
           "And as to trade and commerce, if the Chinese be<br>driven out an annual loss to the revenue, it<br>appears by the tables in the Chinese Commission<br>Report, of $110,000 will take place; and more than<br>$1,500,000 of property and business be lost to us,<br>besides an injury to trade to an incalculable<br>extent."
          ],
          [
           "The amount of business transacted by Chinamen in<br>British Columbia, as revealed by the tables in<br>that Chinese Report, is something which a casual<br>observer would have no idea of."
          ],
          [
           "The treaties between Great Britain and China,<br>which bind us, have been quoted."
          ],
          [
           "6, ratified 26th June, 1843, p. 221, and Lord<br>Elgin's treaty of October, 1860, authenticated<br>copies of which were produced in Court, secure to<br>Chinese coming into British dominions the same<br>\"full security for persons and property as<br>subjects of Her Majesty.\""
          ],
          [
           "The treaties I have quoted between Great Britain<br>and China, binding on the Dominion and on us in<br>British Columbia, secure to the Chinese, just as<br>the treaties between Great Britain and other<br>foreign countries secure to other foreigners, the<br>same rights in regard to the equality of taxation<br>which I have described as being enjoyed by<br>citizens of this country."
          ],
          [
           "In the case of the Chinese treaties, they were<br>forced at the point of the bayonet on China, to<br>obtain a right for us to enter China, and in<br>return for a similar permission to us, full<br>permission was given for the Chinese to trade and<br>reside in British dominions everywhere."
          ],
          [
           "In the treaties of 1858 and 1860, made at the<br>solicitation of Great Britain, the Emperor of<br>China was induced to give permission to his<br>subjects to go and trade and reside \"in British<br>Colonies,\" and to enter into \"engagements with<br>British subjects for that purpose.\""
          ],
          [
           "The same provisions that apply to Chinese may be<br>made to apply also to Americans, Frenchmen,<br>Germans, or any other foreigners."
          ],
          [
           "The Act is found associated with another Act now<br>disallowed, the express object of which is to<br>prevent the Chinese altogether from coming to this<br>country, and the principle \"noscitur a sociis\" is<br>kept up by the preamble of the present Act, which<br>describes the Chinese in terms which, I venture to<br>think, have never before in any other country<br>found a place in an Act of Parliament."
          ],
          [
           "Every person of Chinese origin, whether<br>naturalized in Hong Kong or America, or any other<br>State with which we are at amity, so long as they<br>are of Chinese origin, 14 years of age—every one<br>without distinction—must take out a license."
          ],
          [
           "However difficult or impossible for any Chinese to<br>find a district collector, if such Chinese is<br>\"found without a license he is liable to a fine of<br>$40.\""
          ],
          [
           "Every employé of Chinese labour, whether English,<br>American, or what not, is made liable to severe<br>and incessant liability of a penal kind, for what?"
          ],
          [
           "No; an act or default of a stranger, a man whose<br>language he knows not, and for every infraction of<br>the Act by the Chinese under his employ."
          ],
          [
           "The palpable object of such a provision, or set of<br>provisions, is to render the employment of Chinese<br>so distasteful and annoying to the employer that<br>he must cease to employ them."
          ],
          [
           "If a man employ a Chinaman who should happen to be<br>delinquent in his tax, and he happens to occupy a<br>cottage or room of his employer, with his master's<br>goods in it, under section 10 they are liable to<br>seizure and sale."
          ],
          [
           "In other words, every Chinese is guilty until<br>proved innocent—a provision which fills one<br>conversant with subjects with alarm; for if such a<br>law can be tolerated as against Chinese, the<br>precedent is set, and in time of any popular<br>outcry can easily be acted on for putting any<br>other foreigners or even special classes among<br>ourselves, as coloured people, or French,<br>Italians, Americans, or Germans, under equally the<br>same law."
          ],
          [
           "The whole Act teems with special provisions which<br>affect not only Chinese, but their employers, with<br>obligations and liabilities as to the conduct of<br>the Chinese in their employ, that no reasonable<br>man would encounter, and run the risk of the penal<br>consequences which the Act hangs over him."
          ],
          [
           "It is enough to add that \"any person,\" no matter<br>whether white or Chinese, imprisoned in respect of<br>any infraction of the provisions of the Act, may<br>be at the will of the executive, subjected even to<br>hard labour."
          ],
          [
           "So far, I have dealt with the Act on its own<br>merits; but if we consider it in juxtaposition to<br>the Dominion Act recently passed restricting the<br>Chinese throughout all Canada, its illegality<br>becomes transparent; for in passing that Act<br>against the Chinese the Dominion has spoken by the<br>highest authority which it possesses—its own<br>Parliament."
          ],
          [
           "It is a great assumption of power on the part of a<br>Province to pass laws, the effect of which must be<br>practically to expel a particular class of aliens<br>from that Province, to say in effect that it will<br>by its legislation impede or prevent that class<br>from being employed in another Province—say the<br>North-west Territory or Manitoba—where railway<br>works may be languishing for want of that very<br>class of labourers, British Columbia being the<br>only sea-board of Canada on the Pacific through<br>which (in face of the restrictive laws of the<br>United States) that class of labourers can enter<br>and pass through; that is, in fact, legislating on<br>all inter-provincial immigration; in other words,<br>such legislation is ultra vires, and so I<br>pronounce it; and adjudge accordingly, and quash<br>the conviction, with costs."
          ],
          [
           "Action of trespass against the Medical Health<br>Officer of the City of Victoria for causing the<br>plaintiff, one of a number of Chinamen, who landed<br>at Victoria in a steamer last from Hong Kong in<br>China, to be removed to the \"Suspect Station\" and<br>there detained and subjected to cleansing process<br>under colour of Sec."
          ],
          [
           "The only evidence of Hong Kong being a place<br>infected, etc., was that of a medical man resident<br>in Victoria, who said \"That in China small pox was<br>endemic, because there inoculation was the<br>universal practice."
          ],
          [
           "That there was danger of infection from white<br>passengers, but not the same danger as from<br>Chinamen.\""
          ],
          [
           "CREASE, J.: This was a test action to try whether<br>Chinamen have the same rights as other foreigners<br>in landing here on their advent from China."
          ],
          [
           "The occasion was the arrival of the Empress of<br>China at the Outer Wharf, which is within the city<br>limits of Victoria, on the 1st day of May, 1894,<br>from China and Hongkong."
          ],
          [
           "The action is one nominally rather than really,<br>for damages against Dr. George Duncan, the Health<br>Officer of the City of Victoria, on account of an<br>alleged excess of duty in despatching en masse,<br>without examination or enquiry, a number of<br>Chinamen out to the suspect station at Ross Bay,<br>there to be disinfected and scrubbed."
          ],
          [
           "The Chinamen had already been examined on board<br>the ship by the Dominion Quarantine Officers and<br>Provincial officers and passed."
          ],
          [
           "Disregarding the white men, who had come at the<br>same time from the same place and in the same ship<br>and presumably subject to some of the same<br>unsanitary influences, though not to the same<br>extent as the Chinese, without any reason for<br>special suspicion, without inspecting or<br>attempting to inspect a single man, (that had<br>already been done individually by the Dominion<br>Quarantine Officers) he orders them into the<br>custody of his constables to be taken out to the<br>suspect station at Ross Bay, there to be washed<br>and disinfected and scrubbed."
          ],
          [
           "The plaintiff and other Chinamen similarly<br>situated obtained a writ of Habeas Corpus, upon<br>which they were discharged from this custody."
          ],
          [
           "Thereupon the present action was brought to test<br>if and how far Chinamen are to be treated, when<br>they land on our shores, differently from other<br>foreigners."
          ],
          [
           "The grounds alleged by the Health Officer for this<br>arbitrary treatment is “that China is an infected<br>locality,” and all persons coming from China and<br>especially in this instance Hongkong, and<br>especially also the natives of China, come from an<br>infected locality, and that he has that authority<br>under the Health By-Law, 1893, which was passed at<br>the time of the small pox panic in Victoria, and,<br>in all he did, was simply doing his duty."
          ],
          [
           "The case was tried before a jury upon the issue<br>whether Hongkong, the last port the steamer left<br>in China, was or not “an infected locality.” To<br>prove that Hongkong was such, Dr. Davie was placed<br>in the witness box as an expert."
          ],
          [
           "He considered “China the home of small pox,” and<br>that it was “an infected place”; that, in China,<br>small pox was “endemic,” i.e., always there;<br>because there “inoculation” was the universal<br>practice and was a constant source of danger; that<br>in England and Europe and America, generally,<br>vaccination, of late years, has been the rule."
          ],
          [
           "He thought that too close a scrutiny could not be<br>made of Chinese passengers."
          ],
          [
           "That small pox must have been in China on the 19th<br>April last, the date when the Empress left<br>Hongkong, as it was always there."
          ],
          [
           "He had no opinion to express as to the British<br>possession of Hongkong; but it was a portion of<br>China, where small pox was always, in a sense,<br>\"endemic.\""
          ],
          [
           "There was danger of infection from white<br>passengers, but not the same danger as from<br>Chinamen."
          ],
          [
           "It was his opinion that every one should be<br>examined who comes from China or from any<br>\"infected port.\""
          ],
          [
           "When asked the question, \"Would you allow Chinamen<br>to land and go into the city?\""
          ],
          [
           "The Chinese are chiefly dressed in woollen<br>materials and these harbour infection for weeks<br>and months."
          ],
          [
           "There were several other diseases to be guarded<br>against from China, e.g., cholera, leprosy, etc."
          ],
          [
           "(Here I observe that from first to last no mention<br>was made of the black plague, which has carried<br>off so many thousands of Chinese in Hongkong; and<br>it appeared that during the passage from China to<br>Victoria, which presumably lasted over the<br>ordinary period of inoculation, no case of small<br>pox appeared on board the Empress, and that she<br>showed a clean bill of health.)"
          ],
          [
           "Now this assumes, as Dr. Davie assumed, that<br>Hongkong, although a British port and subject to<br>quarantine regulations, was (which includes the<br>time of the steamer's departure) and is a cradle<br>of small pox, and that every ship coming thence to<br>Victoria, especially with Chinese on board, should<br>be subject to the most searching examination, and<br>the drastic treatment I have described."
          ],
          [
           "He does not include Japanese in the same category<br>as Chinese."
          ],
          [
           "His duty was, if he considered the Empress of<br>China came from \"an infected locality,\" at once to<br>go on board the suspected vessel and make his<br>examination and inspection on board the vessel (as<br>Section 32 says), \"before any luggage, freight or<br>other thing is landed or allowed to be landed.\""
          ],
          [
           "It goes further and shews that the only person to<br>be \"dealt with in such manner as the Medical<br>Health City Officer shall direct\" is \"any infected<br>or exposed person from on board,\" under none of<br>which categories do the plaintiff or other<br>Chinamen, seized and carted off on this occasion,<br>happen to come."
          ],
          [
           "It is shewn that he did not personally examine a<br>single Chinaman or inquire if he was “an infected<br>or exposed person.” In a matter affecting the<br>public health, it is quite natural, and everyone<br>would expect that officers who are armed with<br>extensive sanitary powers, should confer together<br>and assist one another in carrying out the law,<br>and work well together for the public good and<br>safety."
          ],
          [
           "But it should be understood that these exceptional<br>powers are a great trust placed in the hands of<br>the Health Officer to meet such cases as I have<br>described, and at all times to be administered<br>with firmness, judgment and discretion—not under<br>any fear of infection unwarranted by the facts of<br>the case which may enter into the mind of the<br>Health Officer, or to be carried out by carting<br>off en masse to the suspect station all who hail<br>from China or Hongkong without examination or<br>enquiry."
          ],
          [
           "The classes of persons who come here as emigrants<br>from China are almost entirely the lowest class of<br>laborers or coolies, with a sprinkling of<br>merchants ; no mechanics or artisans, no skilled<br>laborers."
          ],
          [
           "On these the Chinese do not come."
          ],
          [
           "I have never seen in all these years (twenty-five)<br>a drunken Chinaman."
          ],
          [
           "Among themselves (the Chinese) crimes of violence,<br>even occasional murders have occurred, which from<br>the secrecy of their mode of life, or our<br>ignorance of it, have defied the investigations of<br>the police."
          ],
          [
           "But this failure very likely arises from the<br>almost universal ignorance in British Columbia of<br>the Chinese language."
          ],
          [
           "There is not a single Anglo-Chinese dictionary or<br>grammar to be obtained either here or at San<br>Francisco."
          ],
          [
           "It has generally been supposed from the secrecy<br>with which some murders were committed (they are<br>confined to two or three Chinese murders<br>altogether in many years), which have occurred in<br>British Columbia undiscovered, that the victims<br>were executed by the decrees of some secret<br>Chinese tribunal, like the Vehm-Gericht, having<br>its centre in San Francisco, but I have not been<br>able to discover a single fact which tended to<br>corroborate that suspicion."
          ],
          [
           "In all these years that I have been continuously<br>in British Columbia (namely, twenty-five), I do<br>not know of a single case of a Chinaman who has<br>been in the bankruptcy or insolvent court."
          ],
          [
           "This is not because they have not credit, for<br>Chinese merchants, punctual to the day and hour in<br>monetary engagements, can obtain what credit they<br>please, (money is of no nationality), but this<br>fact is accounted for because they are practically<br>scrupulously honest."
          ],
          [
           "In coming to British Columbia, and while here, the<br>Chinese have no idea of interfering with the<br>property of the white population in any way beyond<br>the ordinary competition which they offer in the<br>labor market."
          ],
          [
           "When the Chinese first came to this place they<br>supplied a felt want, one which had become almost<br>intolerable in the way of labor and domestic<br>service."
          ],
          [
           "That proving a complete failure, Kanakas from the<br>Sandwich Islands were tried and also failed ; so,<br>by the mere process of exhaustion no resource was<br>left but Chinese labor, which was accordingly<br>employed, at first, very reluctantly."
          ],
          [
           "Every one had a great and not unnatural objection<br>to try them ; but necessity has no law, it was<br>Chinese labor or none at all."
          ],
          [
           "It is not too much to say that without Chinese<br>servants the privations in family life, extreme<br>and of wearying monotony, would have become<br>intolerable, and a general exodus of families<br>would have been the result."
          ],
          [
           "The high prices the Chinese obtained from the<br>first, as wages, up to the present day, are a very<br>fair test of the necessity for their employment."
          ],
          [
           "It is a singular fact that Chinese servants are<br>the only class of people that are positively paid<br>to learn their duty."
          ],
          [
           "The relief given by Chinese aid to overworked<br>households when sorely needed created a good<br>feeling towards them."
          ],
          [
           "And then began the cry, “No Chinese need apply !\""
          ],
          [
           "White labor in quantity and quality sufficient was<br>unattainable, and nothing is more certain than<br>that in the absence of Chinese labor the enormous<br>railway works, which are now progressing to<br>completion, would have been indefinitely<br>prolonged, if not postponed to the Greek Kalends<br>from sheer want of hands."
          ],
          [
           "The outcry against the Chinese takes its rise in a<br>great measure in the efforts of persons, who, for<br>political motives, are desirous of posing<br>themselves as the friends of the working classes,<br>through their sweet votes to gain political power<br>and influence."
          ],
          [
           "All political parties tend to this, and urge<br>collectively the passing of laws which they do not<br>hesitate, as individuals, to class as<br>unconstitutional, in the hope that by constant<br>clamor and agitation, in one direction, to<br>overbear all the solid considerations on the other<br>side, to break through all treaties which place<br>Chinese on an equal footing with other nations, to<br>impose illegal taxes and discriminating<br>restrictions so that that may be obtained by<br>injustice and persecution which could never be<br>expected from justice and right."
          ],
          [
           "The object of course being to restrict the<br>admission or, if possible, procure the total<br>exclusion of Chinese labor and to win the sweet<br>votes of the working man."
          ],
          [
           "The practical result of which, if successful,<br>would necessarily be to create the worst of all<br>monopolies, next to that of capital : the tyranny<br>of labor under whose withering blight mines,<br>fisheries, manufactures, arts, and improvements of<br>all kinds would speedily languish or die, and the<br>development of the country, to which it is<br>undeniable the labor of the Chinese has so largely<br>contributed, would be indefinitely retarded and<br>cui bono ?"
          ],
          [
           "Coming from a swarming population in China, and,<br>as I have stated, of the lower order of coolies,<br>they have undoubtedly a tendency to congregate ;<br>at all events to submit to being cooped in large<br>numbers within a small area."
          ],
          [
           "For the Chinese do not parade their vices ; their<br>prostitutes do not set up large houses in the most<br>prominent places, with brass plates on the door,<br>or ply their trade with an air of semi-publicity,<br>nor drive about in open carriages, or flaunt<br>themselves on public race courses and assemblages,<br>or advertise for the payment of debts due to them<br>through the medium of the public press."
          ],
          [
           "I do not say that all these evils whether white or<br>Chinese should not be determinedly suppressed, but<br>there is such a manifest spirit of exaggeration in<br>the complaints that are made, for the purpose I<br>have described, as very materially to lessen in<br>impartial eyes the accusations levelled against<br>the Chinese."
          ],
          [
           "If enquiry were made of the railway servants and<br>the engineers on the permanent railway cuttings,<br>what an account they can give of white, as well as<br>Chinese abominations that abound there."
          ],
          [
           "But without the Chinese in any event the province<br>could never have been developed as far as it has<br>at present progressed."
          ],
          [
           "Their presence is not only necessary but in many<br>respects desirable for the simple reason that the<br>work must be done, and can only be done-in a<br>province and by people, still very poor-through<br>the agency of the Chinese or some similar labor."
          ],
          [
           "Improvements now only possible by Chinese labor<br>would come to a sudden end, and the misery-<br>domestic misery to 80 out of every 100 families<br>here-would, to those who have not gone through it<br>for so many years as we have, be inconceivable."
          ],
          [
           "There is an unreality about this outcry against<br>the Chinese that strikes one directly he takes pen<br>in hand to write about the cry."
          ],
          [
           "The strike of the Chinese in Victoria when<br>resisting an intentionally discriminating and<br>illegal tax of $30 a head on all Chinese-although<br>it occurred a few years ago-is too fresh in the<br>recollection to be forgotten."
          ],
          [
           "All for a political cry : \"We are ruined by<br>Chinese cheap labor !\""
          ],
          [
           "The real fact is, and the more completely it is<br>recognized the better, that we cannot do without a<br>certain number of Chinese for manual labor and for<br>domestic servants, and that throughout all British<br>Columbia."
          ],
          [
           "For any great works, too, which have to be carried<br>out, such for instance as railways, Chinese manual<br>labor cannot at present be dispensed with."
          ],
          [
           "Good white labor is so far superior to Chinese,<br>that it will of itself, when it can be contented<br>with reasonable prices as in the East, infallibly<br>work Chinese manual labor out of the field."
          ],
          [
           "But what is as necessary for the white man as the<br>Chinaman is, that he should be sober, honest and<br>steady at his work, and exhibit a fair share of<br>all those qualities which go to constitute good<br>labor."
          ],
          [
           "At present all told, including the Chinese on<br>railway works, and along the whole line, about<br>13,000."
          ],
          [
           "They do not regard British Columbia as their home<br>and when they die send their bones home to he<br>buried in China."
          ],
          [
           "It is very difficult, almost an impossibility, to<br>fix any definite limit or even approximate of the<br>proportion which Chinese immigration should bear<br>to white immigration, if the best interests of the<br>colony and the comfort of the people are to be<br>regarded ; and if only for this reason that no<br>matter how many white people come to British<br>Columbiah, they all come expecting certain rates,<br>rates which British Columbians have not got the<br>money to pay."
          ],
          [
           "If restriction of the Chinese took place, those<br>who are here already would at once raise their<br>price, and thus the very object of the anti-<br>Chinese would be indirectly gained, and we should<br>once more be without domestic help, once more<br>thrown back twenty years upon our own resources."
          ],
          [
           "If one could venture on an estimate it would be at<br>the rate of one Chinaman to each family, counting<br>as in Europe each average family as consisting of<br>four persons."
          ],
          [
           "of the population were Chinese, we might get on<br>fairly well."
          ],
          [
           "I do not think at present any restriction on<br>Chinese immigration is necessary or expedient."
          ],
          [
           "Though possessed of all the qualities I have<br>described, Chinamen do not make good settlers in<br>the sense of raising up citizens of a free."
          ],
          [
           "As to a combined effort of the people and the<br>legislature to encourage white immigration, I do<br>not believe, though most of all to be desired and<br>encouraged, that such a combination, with the<br>unlimited United States alongside, would succeed<br>to any appreciable extent."
          ],
          [
           "The moment an immigrant \" laborer \" touches<br>British Columbia he becomes in his own mind a boss<br>(as it is termed) and will do as little manual<br>labor as he can help."
          ],
          [
           "He can get rich land and a homestead for a mere<br>nothing and become a farmer, and in a short time<br>an employer of labor himself, looking out very<br>likely for \" the first Chinaman that comes along \"<br>whom he may \" boss.'"
          ],
          [
           "The railway and the opening of the railway lands<br>has already had a marked effect upon the<br>immigration of settlers to this province."
          ],
          [
           "But these things prepared, a great increase of<br>immigration can well be provided for in British<br>Columbia."
          ],
          [
           "Instead of being retarded by Chinese immigration,<br>I am fully persuaded that white immigration has<br>been assisted by it."
          ],
          [
           "I know of retired officers and persons of settled<br>incomes who would not have thought of coming here<br>if they had not known that Chinese servants could<br>he had here, though very indifferent compared with<br>those one can obtain in China itself."
          ],
          [
           "I do not think the effect produced by the Chinese<br>on the morals of the whites has been a beneficial<br>one, for the simple fact that they are heathens,<br>and some quantity, I believe, of the whites are<br>Christians."
          ],
          [
           "But where there are white people of allied habits<br>to the immoral among the Chinese they are more<br>likely to be injurious to their fellow whites than<br>any Chinese, not only from intelligent depravity,<br>but because they have from their language greater<br>facility in communicating the moral virus and ill<br>example to both old and young."
          ],
          [
           "The proportion of immoral people among the Chinese<br>here is not more than among white people similarly<br>situated, where there are no immoral persons<br>Chinese."
          ],
          [
           "I have no personal knowledge whatever of the<br>presence of leprosy among the Chinese."
          ],
          [
           "I have not spoken of the legal aspect of the<br>Chinese question, restrict or exclude as that is<br>not before me ; nor have I alluded to the<br>treaties, as these subjects will naturally come in<br>their order before the Commission, and are, after<br>all, matter of diplomatic negotiation."
          ],
          [
           "But I do as a citizen and a very old, early<br>pioneer of British Columbia, deprecate any active<br>step whatever being taken, since my opinion has<br>been asked-certainly for the present either to<br>restrict or exclude Chinese immigration into<br>British Columbia."
          ]
         ],
         "hovertemplate": "Author=Crease<br>UMAP 1=%{x}<br>UMAP 2=%{y}<br>Text=%{customdata[0]}<extra></extra>",
         "legendgroup": "Crease",
         "marker": {
          "color": "#636efa",
          "size": 5,
          "symbol": "circle"
         },
         "mode": "markers",
         "name": "Crease",
         "orientation": "v",
         "showlegend": true,
         "type": "scatter",
         "x": {
          "bdata": "8XLzQJSe7UB+RNtA7Lj6QIeyyUA9pcRAwmSxQDbB4UDe59FAYtj+QHYL50AtVNFAGDD5QBeH90B4rfxAvmjrQNCr+EC/hWVA+t/5QPupmkDeBOVAZhHfQCuqz0CWg8hAiEH0QBp34kAKUctA4mm5QML/2UAdo85AVS3fQDKxlkCqPONAhWTiQO5m70CHVeFAtbHrQK7Z6kC4bdBAwDbYQBmXyEAb3P1AQzrGQA3HvECQp7xAEkezQLbLu0A9V8VAAivUQFFY5kBPZdpAvtP6QHRA70D7399AjEe4QBzW+EAIoP1AUQn3QH059kAhDeNAJCXgQGFD40CxBvFA4qbuQPvZpUBln+JAqKvrQNzy2kAcIfBAZ26BQAxQk0AeEtxASVXpQPx6+EBx2aBAJSj1QCoX/kAm781AKJz/QA1Fu0APInJAH1mxQMefzUAt/NxA0c3PQGrk5UBQ7KxAUzKTQHyvykAPSL9A6nqiQB0pm0D0AK1Aq5iRQGVMlEBGfpRA7oSSQEwBoUAGOLVARWW6QEs7u0Dw0p1ASy3EQJshtEADkbFA4De2QIhi10Cl3JdAjSifQAyvk0DDb6lA5vqXQOiDkUDllZlADoyUQBM1rECG0oJA3ISTQHd8x0AQt6xAhp5tQPKdfUAk1tBAvOjFQM0pqUDWWMdAkaOUQMdZ0UB+/I5A9W6lQOLgo0Bw6r5AfSOqQMIGqkCd8spAoYrTQBNf1EA=",
          "dtype": "f4"
         },
         "xaxis": "x",
         "y": {
          "bdata": "tclBwUl4QcEgUTbBDDw/wdUBP8FZCSnBqTw1wSYiEMF6sEDB+K4ywRmiO8GkyTnBtwpBwcOOP8GKfUHB+BI9waJaOcFcCSHBi2c6wWmsAMF9STTBvL09we4PQcFtHULBnf46wbitQMFd0j3BUfUcwYPAL8FWUjrBiH4/wUoqOsEskhDBGVEzwYboNsHOajLB8jEowY3GMcGnLirBrFU8wQ8xLcGuBjzBUcgzwaZtO8EfJjLB6L1CwXUlN8F8lzbBYbw7wdd3OsE6AkLBfiMcwVkZDcFwrgbBWicawfN4HMGChRjBw78bwWNdGsFkdirB7Cwswf+tIcGdYBTBe8gMwd5fEcHn5xjBtPUQwZ4WBsFWqg7BUHsfwclIKsFmpgXBVzQXwXTLFsEJeQ3BwOcSwZpvGcGq+wDBiCoYwQasHcEJkxXBY/n4wODuG8Ft9BDBLbIRwUw4G8HesPjAuv83warNMsGk1SvBmgQ6wbWqI8H9KCLB8jo3wad8EMHoRQzB/wkewRDvO8Eq4SbBlM08wUBoPMHhjDjBf54fwS5HIsE4ZSjBeDcOwYEpGcFwIzHBKUYrwSHBEsFIpibBOIwewVAGMsEqrj3BGRImwfuFKsG8mDbBIiEGwSERPMEMRzXBCWkiwWQoGcHXjCvBlKohwdQTKsE8+xnBtFoewdehM8FSijLBi/cMwfneGcGI/wLBRCwbwZB4F8EwgwTB3GU0wZtPL8E=",
          "dtype": "f4"
         },
         "yaxis": "y"
        },
        {
         "customdata": [
          [
           "(5) If it appears that a tax is not bona fide<br>within the purpose provided for, but is imposed<br>with the real purpose of discriminating against a<br>class, it is not within the justification of the<br>enabling statute, and, on the facts, the tax in<br>question was intended not for the purpose of<br>raising a revenue, but as a restriction on the<br>Chinese."
          ],
          [
           "Indeed if no restriction whatever be placed on the<br>word \" other\" in that section; if the Provincial<br>Legislature can insist upon imposing licenses upon<br>everything and upon every act of life, and tax<br>each licensee at any moment they please, there<br>would be a very simple way of excluding every<br>Chinaman from the Province, by imposing a<br>universal tax, not limited to any nationality, of<br>one or two thousand dollars per annum for a<br>license to Judgment."
          ],
          [
           "No Chinaman will shave the back of his head; no<br>true moujik will shave his chin."
          ],
          [
           "I rather think that the auctioneers would<br>repudiate this alleged similarity of their<br>occupation to that of a Chinese washerman."
          ],
          [
           "assing Chinamen, supposed to be the only persons<br>carrying on this industry."
          ],
          [
           "If the object of the Provincial Statute be as<br>alleged, viz., Feb. 3.  to subject Chinamen to<br>exceptional disadvantages it is clearly<br>unconstitutional."
          ],
          [
           "G. to the report of the recent Chinese Conmission,<br>p. 379, and by Mr. Justice CREASE in Wing Chong's<br>case, 1 B.C.R."
          ],
          [
           "Justices FIELD, HOFFMAN, SAWYER and DEADY and<br>other Judges whom they cite, all confirm this,<br>that a State, or Provincial law imposing special<br>disabilities or unequal burdens on Chinamen is<br>unconstitutional and void."
          ],
          [
           "Statutes were by their title and preamble<br>expressly aimed at Chinamen by name; that this<br>distinction also renders inapplicable all the<br>United States' cases cited; that this enactment is<br>quite general extending to all laundries without<br>exception and we must not look beyond the words of<br>the enactment to enquire what its object was; that<br>there is in fact one laundry in Victoria not<br>conducted by Chinamen on which the tax will fall<br>with equal force so that it is impossible to say<br>that Chinamen are hereby exclusively selected for<br>taxation; the circumstance that they are chiefly<br>affected being a mere coincidence; that the bylaw<br>only imposes $100.00 per annum, keeping far within<br>the limit of $150.00 permitted by the Statute;<br>that the tax clearly is calculated to procuring<br>additional Municipal revenue and that no other<br>object is hinted at."
          ],
          [
           "I, for my part, cannot arrive at any other<br>conclusion than that it is specially directed<br>against Chinamen because they are Chinamen and for<br>no other Judgment."
          ],
          [
           "The appellants' contention that the clause is<br>merely intended to hamper or expel Chinamen is<br>much strengthened by considering the amount of the<br>tax sanctioned, which is $150.00 per annum,<br>whereas the limit sanctioned by the Legislature in<br>the case of any retail shop, however extensive or<br>lucrative its business, is only $10.00 per annum."
          ],
          [
           "The test is whether on the whole statute the<br>Legislature can fairly be held to have said : \"Let<br>us impose a tax in order to raise a revenue,<br>though perhaps it may fall on Chinamen,\" or \" let<br>us impose this tax in order to fall on Chinamen,<br>though perhaps it will raise no revenue.\""
          ],
          [
           "When we find (1st) no other description of labour<br>taxed at all ; (2nd) this description of labour<br>practically quite abandoned to Chinamen alone ;<br>(3rd) this description of labour taxed at fifteen<br>times the rate permitted to be levied on any<br>retail shop ; (4th) that a preliminary Provincial<br>Act has declared Chinamen incapable of the<br>franchise which they formerly exercised."
          ],
          [
           "I cannot doubt but that the tax is directed<br>against Chinamen, as such."
          ],
          [
           "It is not competent to the Provincial Legislature,<br>or to a municipality, to deprive, generally,<br>particular nationalities or individuals of the<br>capacity to take out municipal trade licenses ; e.<br>g., a Chinaman has a right to apply for a<br>pawnbroker's license."
          ],
          [
           "Application for a mandamus to the Corporation of<br>the City of Victoria to compel the renewal to the<br>prosecutors (Chinamen) of a pawnbroker's license."
          ],
          [
           "It is alleged by the prosecution, and not denied,<br>that the Council have in fact ordered the<br>Collector to issue no pawnbroking license to any<br>Chinaman."
          ],
          [
           "In the French colony of Cayenne, the Town Council<br>recently handicapped the superior capacities of<br>the Chinaman by imposing on merchants of that<br>empire an extra tax of $300 per annum, deeming it<br>also expedient to handicap English and German<br>traders by a surtax of $200 on them."
          ],
          [
           "Chinamen in British Columbia appear to follow any<br>description of industry which may appear useful,<br>i.e., in which they can obtain employment or earn<br>their livelihood."
          ],
          [
           "The menial businesses of washing and of splitting<br>and Chinese washer sawing stovewood are almost<br>entirely engrossed by Chinamen."
          ],
          [
           "Every Chinaman in British Columbia has the air of<br>having worked, and of being ready to work, with<br>his hands, except a few who practice as medical<br>men and the leading commercial men."
          ],
          [
           "Chinamen do not much trouble the hospitals."
          ],
          [
           "I never heard of Chinamen becoming a burden on the<br>private charity of the whites."
          ],
          [
           "I have an indistinct remembrance of having been<br>once asked to contribute to the cost of removing a<br>disabled Chinaman; I am not sure."
          ],
          [
           "Industry, economy, sobriety, and law-abidingness<br>are exactly the four prominent qualities of<br>Chinamen as asserted both by their advocates and<br>their adversaries."
          ],
          [
           "Lazy, drunken, extravagant, and turbulent: this<br>is, by the voices of their friends and foes,<br>exactly what a Chinaman is not."
          ],
          [
           "If Chinamen would only be less industrious and<br>economical, if they would but occasionally get<br>drunk, they would no longer be the formidable<br>competitors with the white man which they prove to<br>be in the labor market; there would be no longer a<br>cry for their suppression."
          ],
          [
           "But these qualities meet with no competition here;<br>and the Chinaman sees no person to take his place<br>were he to abdicate it."
          ],
          [
           "I have heard an individual Chinaman stigmatized as<br>\"lazy ;\" but the fact was he conceived himself<br>insulted, and was sulking."
          ],
          [
           "I cannot recall to memory that I ever saw or heard<br>of a Chinaman being drunk."
          ],
          [
           "There is scarcely an epithet so removed from the<br>notion of a Chinaman as \"turbulent,\" though of<br>course they may be provoked to resist violence."
          ],
          [
           "employment as domestics, their large brotherhoods,<br>necessarily impenetrably secret to the whites, and<br>the unguarded condition of our houses, the<br>pilfering by Chinamen servants is really quite<br>inconsiderable."
          ],
          [
           "I believe that two of the white servants I have<br>had have pilfered more from me  than any twenty<br>Chinamen in Victoria ever stole from their<br>employers..  5."
          ],
          [
           "I do not think that the feeling of the whites<br>against Chinamen has much changed; but I do not<br>recollect anything that can be called \"agitation \"<br>against them until Confederation."
          ],
          [
           "This dislike, which otherwise might lie dormant or<br>inert, is certainly mutual; it is manifested in<br>China, we are- told, more extensively and<br>stringently than here, and without any impulse<br>there from direct competition for bread."
          ],
          [
           "Europeans at Canton or Shanghai are not safe<br>beyond their allotted cantonments, any more than a<br>Chinaman would have been on Williams Creek twenty<br>years ago."
          ],
          [
           "The Chinaman is in every respect the reverse of an<br>European, except that he is a man."
          ],
          [
           "Accordingly, before the close of the First<br>Parliament after Confederation, Chinamen were<br>deprived of the right of franchise, which they had<br>previously enjoyed."
          ],
          [
           "This was on the ostensible ground that all<br>Chinamen were actuated merely by direct money<br>considerations."
          ],
          [
           "The same distinguished writer whom I have already<br>quoted on the Judenhetze, observes, in speaking of<br>the rival programmes in the existing presidential<br>campaign in the United States: \"The Irish vote or<br>the republican working man cannot be wooed<br>successfully without attacks on the bloated<br>capitalist, on English tyranny or treachery, or on<br>the unfortunate immigrants from China.” Mutato<br>nomine."
          ],
          [
           "There are several matters alleged against<br>Chinamen: One is the extraordinarily small space<br>into which a cluster of them will retire for rest."
          ],
          [
           "But I have seen in a good-sized house, where there<br>was plenty of cubic space, and where each person<br>might have had a separate bunk, five or six<br>Chinamen, not lodgers but owners, sleeping in a<br>heap as above described."
          ],
          [
           "It is common to attribute to Chinamen generally,<br>that they are infested with disgusting diseases --<br>e. g., leprosy."
          ],
          [
           "When an orator talks of Chinese lepers, it is<br>exactly the same unmeaning abuse as when a Canton<br>periodical holds out to popular indignation the<br>foreign \"red devils.\""
          ],
          [
           "There is no leprosy or diabolism in the case;<br>though of course a Chinaman, like any other man,<br>may be a leper."
          ],
          [
           "The orator merely wishes to impress his audience<br>with the belief that 'he strongly objects to<br>Chinamen."
          ],
          [
           "A Chinaman was once pointed out to me who was<br>alleged to be a leper."
          ],
          [
           "That was the only case of skin disease I remember<br>to have noticed or heard of among Chinamen."
          ],
          [
           "These certainly were not contracted from Chinamen."
          ],
          [
           "The Chinese, and I believe other Asiatic nations,<br>use opium extensively."
          ],
          [
           "The enormous consumption which this implies does<br>not appear to prevent Chinamen from being the most<br>prolific race, the most indefatigable laborers,<br>and the keenest traders in the world."
          ],
          [
           "If any Chinamen here abuse the drug by over-<br>indulgence, they must hide themselves, or at all<br>events they have entirely escaped my observation."
          ],
          [
           "If their example persuades any white people to<br>similar over-indulgence, of which I am equally<br>ignorant, these must be a very degraded class-<br>weaker and more degraded than the Chinaman whose<br>expulsion is demanded."
          ],
          [
           "Opium, as generally used here, is probably as<br>harmless as tobacco, which is also extensively<br>used in British Columbia by Chinamen."
          ],
          [
           "All the evils arising from opium in British<br>Columbia in a year do not, probably, equal the<br>damage, trouble and expense occasioned to<br>individuals and to the state by whiskey in a<br>single month, or perhaps in some single night, As<br>already observed, I do not remember ever to have<br>seen a drunken Chinaman; and the argument against<br>Chinamen founded on opium appears to be analogous<br>to the comparison of the mote and the beam."
          ],
          [
           "It is alleged that not only the aggregation of<br>Chinamen in their dwellings is a source of danger<br>to the public health, but that their habits are<br>filthy."
          ],
          [
           "There are of course dirty Chinamen."
          ],
          [
           "Any family in British Columbia will, at once,<br>without any enquiry as to his cleanliness, admit<br>the first Chinaman who offers as a cook-where a<br>cook is wanted; and really it may be said that no<br>washing is given out to people of any other<br>nation."
          ],
          [
           "Whether the presence of Chinamen is any longer<br>desirable in British Colombia, is to a certain<br>extent a matter of opinion."
          ],
          [
           "That Chinamen are very large till within a year,<br>mainly, employed in all the laborious parts of our<br>coal mines ; 2nd."
          ],
          [
           "I do not see how people would get on here at all<br>without Chinamen."
          ],
          [
           "If Chinamen were expelled, employers of labor<br>would probably have to leave the province; and<br>when they were gone, where would the employed be?"
          ],
          [
           "There are supposed to be in California more than<br>120,000 Chinamen."
          ],
          [
           "It is probable that in that state, as in British<br>Columbia, a good deal more than half the manual<br>labor is performed by Chinamen."
          ],
          [
           "Within a radius of two miles there are at this<br>time no less than 500 Chinamen engaged in<br>gathering the hop crop."
          ],
          [
           "For a field of twenty-five or thirty acres about<br>100 Chinamen are employed."
          ],
          [
           "The Chinamen work by contract, and they rush from<br>morning till night, seeming never to tire."
          ],
          [
           "As soon as a box is filled a loud yell informs the<br>foreman, who brings a sack, into which the box is<br>emptied, and the Chinamen are given a check."
          ],
          [
           "Two Chinamen can pick from two to three boxes in a<br>day, and as they receive $1.50 per box it will be<br>seen that they are earning white men's wages."
          ],
          [
           "Last year they only received $1.25, but help at<br>this time is scarce and the China bosses had only<br>to demand the raise and get it."
          ],
          [
           "Now the only paying industries here are the<br>canneries and shoe factories, in both of which the<br>labor is almost exclusively Chinese."
          ],
          [
           "Owing to a very great superiority in the mineral,<br>the coal mines have paid largely, notwithstanding<br>the rates of white miners wages, unequalled<br>elsewhere; but the coal mines have hitherto<br>largely employed Chinamen also."
          ],
          [
           "After all that I have said about Chinamen, I can<br>lay no more claim to consistency than anybody else<br>in British Columbia."
          ],
          [
           "I have always asserted their good qualities; but I<br>have never in twenty-six years had a Chinaman in<br>my house, an expensive whim that nobody else has<br>indulged in."
          ],
          [
           "Still, I have had my opportunities of seeing and<br>hearing, for in all that time, I do not think I<br>ever knew a family that did not employ at least<br>one Chinaman."
          ],
          [
           "The combination which it is intended to suggest<br>would be, I suppose, that the legislature should<br>forbid such arrivals of Chinamen, and that the<br>white population should \" boycott \" those<br>remaining here; or else that the legislature<br>should decree their expulsion."
          ],
          [
           "The normal rates of wages are five shillings for<br>Chinamen, and in Victoria eight shillings for<br>white men."
          ],
          [
           "I cannot believe that it has; on the contrary, as<br>the presence of Chinamen has enabled some small<br>capital to be accumulated, they must have<br>augmented the wages fund in the province: i. e.,<br>the loose capital seeking to increase itself by<br>the employment of reproductive labor."
          ],
          [
           "I do not believe that any single European in the<br>province would employ a Chinaman about any<br>undertaking if he could procure an European,<br>irrespective of wages, unless, of course, the<br>European demanded wages which precluded all profit<br>on the undertaking."
          ],
          [
           "Chinamen are employed not so much because their<br>normal money tariff is lower than the whites and<br>yet not much lower; many Chinamen get $30, and<br>some even $35 and $40, per month-as because they<br>are, as a rule, more sober, steady, docile and<br>industrious."
          ],
          [
           "With very few exceptions, indeed, I never met a<br>Chinaman whom I could understand, beyond the<br>commonest wants, or by whom I could feel any<br>certainty that I was understood, even for an<br>ordinary message."
          ],
          [
           "Yet I have often feared that I should be compelled<br>to fall into the universal practice and take<br>Chinese servants into my house-which I have never<br>yet done."
          ],
          [
           "I have never personally observed any effect by the<br>Chinese upon the morals of the white people."
          ],
          [
           "The latter have occasionally been induced by race-<br>prejudice to indulge in acts of violence ; but it<br>would be too much to say from thence that the<br>Chinaman had corrupted his cowardly assailants."
          ],
          [
           "One Chinaman, last year, pleaded guilty to an<br>indictment for indecent assault on two girls of<br>ten or eleven and twelve or thirteen years."
          ],
          [
           "However that is the only case I remember in which<br>it could be alleged that a Chinaman had had any<br>evil effect upon the morals of the whites, a<br>matter upon which they can have but very little<br>influence, either for good or evil."
          ],
          [
           "Whites who have evil communications with Chinese<br>must themselves be lamentably depraved beforehand;<br>and so, I should be disposed to say, immoral<br>Chinese are not only not more injurious, but they<br>are quite innocuous to the morals of the whites,<br>in comparison with white people of similar or<br>allied habits."
          ],
          [
           "I have seen unmistakable prostitutes in the<br>Chinese quarter of Victoria."
          ],
          [
           "Drunken whites, I am sorry to say, are often to be<br>seen in Victoria, by night or by day; but I do not<br>remember ever to have seen a Chinaman under the<br>influence of liquor."
          ],
          [
           "Debauched whites sometimes frequent, I believe,<br>Chinese brothels, as they do Indian brothels."
          ],
          [
           "I don't think serious breaches of the peace are<br>proportionately more frequent in Chinese brothels<br>than in those kept by white women."
          ],
          [
           "Indian brothels breed the most disturbances; and<br>they are close to the Chinese quarter."
          ],
          [
           "I have omitted to state that Chinamen here are<br>generally divided into two tribes, or clans-there<br>may be more, but I have often had my attention<br>drawn to these two-viz ."
          ],
          [
           "When a breach of the peace occurs among Chinamen,<br>the culprits are generally Canton versus Hong<br>Kong; and when these come into court, either in<br>criminal or civil cases, it is common to allow<br>each side to have an interpreter; as well to watch<br>that the evidence is truly interpreted as also to<br>explain it to their respective clients."
          ],
          [
           "Owing partly to this, and partly also to their<br>unintelligibility to whites, and vice versa, it is<br>usual when twenty or thirty hands are engaged, e.<br>g., at a cannery, not to make the contract with<br>each workman separately, but with some one<br>Chinaman who has learned some English, leaving him<br>to sub-contract with the men; and he being the<br>sole medium of communication between them and the<br>owner of the cannery, this arrangement, though<br>unavoidable, necessarily leaves the men a good<br>deal at the mercy of this foreman."
          ],
          [
           "Sometimes this takes place on a much larger scale,<br>and a Chinese merchant here will contract for a<br>whole cargo of Chinamen, fresh from China, whom he<br>engages to provide with employment, and then<br>drafts them out to different employers here, for<br>roads, canneries, etc."
          ],
          [
           "A miner who feels no shame in purchasing the<br>possession of a female for a single night for $20,<br>is scandalized when a Chinaman pays $500 for the<br>possession of a female for six months, or until<br>they disagree."
          ],
          [
           "No disgust is felt by Europeans when parents make<br>it a sine qua non on consenting to their<br>daughters' marriage that the husband shall settle<br>ten or twenty thousand dollars upon her; but it is<br>infamous if a Chinaman purchases the consent of<br>parents or guardians for one thousand dollars."
          ],
          [
           "The woman is a slave sold into prostitution, but<br>the Chinese themselves look upon it in a different<br>light."
          ],
          [
           "There was a case not long ago in court, before<br>myself, on habeas corpus: A Chinese girl was<br>contracted to marry a man who had offered the<br>guardians five hundred dollars."
          ],
          [
           "I apprehend much of what is said about Chinese<br>slavery and prostitution proceeds from imperfect<br>consideration of the difference between Christian<br>and non-Christian marriage; but I only guess this,<br>I know scarcely anything about it."
          ],
          [
           "Another ground on which I have heard it asserted<br>that slavery is general among Chinamen here, is<br>rather, I suspect, a proof of their freedom, or<br>would be so accepted among whites."
          ],
          [
           "I have no doubt but that compulsion is put on all<br>Chinamen, so that it is very difficult for them to<br>obtain work, if they remain outside this<br>organization."
          ],
          [
           "It is yet further urged against the Chinese, as<br>showing their unfitness to dwell in the land, that<br>they show no respect to our laws, nor to our<br>appointed courts, but refer their differences to<br>private tribunals of their own, whose behests are<br>carried out, irrespective of their conformity with<br>our laws and are never disputed in our courts."
          ],
          [
           "The Chinese, like most other nations with any<br>pretence to civilization, have some methods for<br>referring private disputes to arbitrators chosen<br>by the parties themselves."
          ],
          [
           "That the awards of Chinese arbitrators are always<br>accepted without demur (if the fact be as alleged)<br>would surely be a strong evidence of the equity of<br>the award, and the good sense of the parties in<br>difference; for it is utterly untrue that Chinamen<br>ignore our courts, or treat them with any want of<br>respect."
          ],
          [
           "Any questions as to their labor associations,<br>their clans, their marriage laws, their<br>immigration contracts, would, I fear, be in<br>general met with suspicion and answered with<br>reluctance."
          ],
          [
           "the nature and results of trades-unions at home,<br>after every enquiry possible; how much more<br>difficult would it be to arrive at facts here,<br>where they must necessarily be shrouded behind the<br>impenetrable and irresponsible screen of a Chinese<br>interpreter?"
          ]
         ],
         "hovertemplate": "Author=Begbie<br>UMAP 1=%{x}<br>UMAP 2=%{y}<br>Text=%{customdata[0]}<extra></extra>",
         "legendgroup": "Begbie",
         "marker": {
          "color": "#EF553B",
          "size": 5,
          "symbol": "circle"
         },
         "mode": "markers",
         "name": "Begbie",
         "orientation": "v",
         "showlegend": true,
         "type": "scatter",
         "x": {
          "bdata": "0l/SQIsd0UBdV7FAGkqlQA4zi0AzGulAK4sAQWNd6EDEyeVA6QThQCPU50BkC4dAhyL1QErR3kA0pP1A5Dz9QACa+EBQEPpAgxzNQNCCkkAoEtRAOElqQGSsnECr+59AUXG8QArTtEDBgYRAHqq6QFQQnECMtbpAcxq2QPZRnUCdgqFAHz2NQLZKt0BlU6xAxwu/QAvzvkC3/aBA3XvmQIhcokB04Z9AXtfBQKCvpUA298BA5yO1QHpMn0CfZ8RAzRF7QOBH0UAw/6lA3S7jQLtGrUCouuFAXNK6QNQmx0AMCXFAZ02rQByNzECCs4BA1wmFQFTRrkAZ63BAmVaSQEjubkDMsmtACZ+FQC2Il0DmQmxAmLeDQA5tkUC/wotAIleRQO5ksEDXh7BATU++QKWrY0B6fZ9Ao7WKQHCyd0CDS7lAJlaYQFvwwEDw76xAHaqpQFlowEBwGbdAU6LPQO34tkBdc8lAFtSmQPCyzkCL3NNAzqKwQA+VnkAV5JtAByKVQJ6Nl0AGS71ARrqmQMqItEDyosdAMRKJQHIKyEBV3tBAhvjYQNg00ECAT6RA",
          "dtype": "f4"
         },
         "xaxis": "x",
         "y": {
          "bdata": "q/FFwb2jRcGmwA7B40cQwcSfFMGAc0XBu/s1wXffQ8GfBTvBGelGwezJQ8EqhyLB3rAxwbGNR8FQ8inBn8UowX9jKsFAdS/BN18dwT7iK8GiqCnBKIMXwY7KDcFaPwXBuE0kwf2AFcHenyfBcqAwwdIICMHu0vjA53kgwVIhKsFwIgbBdicWwadyLsEGKRXBNFwTwUTsRsHHoBPBD7AewWk+LMECQC7BTkkYwajEH8GwTQ/BBZwiwSPJBsHt0PnAKzYWwUGrDMGTOSPBiDUxwbc4HMGFdA7BTWAHwYKIKcEXiRXBvec+weruH8F7Bi3BaGMYwd8kOMHDfTHBsZMwwRgkMcGaMi7BzF8uwYA8QMF8UibBWJwgwbLvLME/2THBkTQRwToEBcF+nfXAe1Y+wQiBJsEJSjTB1WUiwVg5KcG7SPvA67IYwRaaAsGzVhPBKi8AwSIEBMGGuSHB15kMwaJ5+cA5RAvBKgQRwTAmDcFLLB/BZHcswW7fP8FLE0DBjGD9wHCq+8DJ+xLB2e7+wB31B8GIahbB0IocwWZBQsExpCbBtI44wUZsLsGtLSbB",
          "dtype": "f4"
         },
         "yaxis": "y"
        }
       ],
       "layout": {
        "height": 500,
        "legend": {
         "title": {
          "text": "Author"
         },
         "tracegroupgap": 0
        },
        "margin": {
         "t": 60
        },
        "template": {
         "data": {
          "bar": [
           {
            "error_x": {
             "color": "#2a3f5f"
            },
            "error_y": {
             "color": "#2a3f5f"
            },
            "marker": {
             "line": {
              "color": "#E5ECF6",
              "width": 0.5
             },
             "pattern": {
              "fillmode": "overlay",
              "size": 10,
              "solidity": 0.2
             }
            },
            "type": "bar"
           }
          ],
          "barpolar": [
           {
            "marker": {
             "line": {
              "color": "#E5ECF6",
              "width": 0.5
             },
             "pattern": {
              "fillmode": "overlay",
              "size": 10,
              "solidity": 0.2
             }
            },
            "type": "barpolar"
           }
          ],
          "carpet": [
           {
            "aaxis": {
             "endlinecolor": "#2a3f5f",
             "gridcolor": "white",
             "linecolor": "white",
             "minorgridcolor": "white",
             "startlinecolor": "#2a3f5f"
            },
            "baxis": {
             "endlinecolor": "#2a3f5f",
             "gridcolor": "white",
             "linecolor": "white",
             "minorgridcolor": "white",
             "startlinecolor": "#2a3f5f"
            },
            "type": "carpet"
           }
          ],
          "choropleth": [
           {
            "colorbar": {
             "outlinewidth": 0,
             "ticks": ""
            },
            "type": "choropleth"
           }
          ],
          "contour": [
           {
            "colorbar": {
             "outlinewidth": 0,
             "ticks": ""
            },
            "colorscale": [
             [
              0,
              "#0d0887"
             ],
             [
              0.1111111111111111,
              "#46039f"
             ],
             [
              0.2222222222222222,
              "#7201a8"
             ],
             [
              0.3333333333333333,
              "#9c179e"
             ],
             [
              0.4444444444444444,
              "#bd3786"
             ],
             [
              0.5555555555555556,
              "#d8576b"
             ],
             [
              0.6666666666666666,
              "#ed7953"
             ],
             [
              0.7777777777777778,
              "#fb9f3a"
             ],
             [
              0.8888888888888888,
              "#fdca26"
             ],
             [
              1,
              "#f0f921"
             ]
            ],
            "type": "contour"
           }
          ],
          "contourcarpet": [
           {
            "colorbar": {
             "outlinewidth": 0,
             "ticks": ""
            },
            "type": "contourcarpet"
           }
          ],
          "heatmap": [
           {
            "colorbar": {
             "outlinewidth": 0,
             "ticks": ""
            },
            "colorscale": [
             [
              0,
              "#0d0887"
             ],
             [
              0.1111111111111111,
              "#46039f"
             ],
             [
              0.2222222222222222,
              "#7201a8"
             ],
             [
              0.3333333333333333,
              "#9c179e"
             ],
             [
              0.4444444444444444,
              "#bd3786"
             ],
             [
              0.5555555555555556,
              "#d8576b"
             ],
             [
              0.6666666666666666,
              "#ed7953"
             ],
             [
              0.7777777777777778,
              "#fb9f3a"
             ],
             [
              0.8888888888888888,
              "#fdca26"
             ],
             [
              1,
              "#f0f921"
             ]
            ],
            "type": "heatmap"
           }
          ],
          "histogram": [
           {
            "marker": {
             "pattern": {
              "fillmode": "overlay",
              "size": 10,
              "solidity": 0.2
             }
            },
            "type": "histogram"
           }
          ],
          "histogram2d": [
           {
            "colorbar": {
             "outlinewidth": 0,
             "ticks": ""
            },
            "colorscale": [
             [
              0,
              "#0d0887"
             ],
             [
              0.1111111111111111,
              "#46039f"
             ],
             [
              0.2222222222222222,
              "#7201a8"
             ],
             [
              0.3333333333333333,
              "#9c179e"
             ],
             [
              0.4444444444444444,
              "#bd3786"
             ],
             [
              0.5555555555555556,
              "#d8576b"
             ],
             [
              0.6666666666666666,
              "#ed7953"
             ],
             [
              0.7777777777777778,
              "#fb9f3a"
             ],
             [
              0.8888888888888888,
              "#fdca26"
             ],
             [
              1,
              "#f0f921"
             ]
            ],
            "type": "histogram2d"
           }
          ],
          "histogram2dcontour": [
           {
            "colorbar": {
             "outlinewidth": 0,
             "ticks": ""
            },
            "colorscale": [
             [
              0,
              "#0d0887"
             ],
             [
              0.1111111111111111,
              "#46039f"
             ],
             [
              0.2222222222222222,
              "#7201a8"
             ],
             [
              0.3333333333333333,
              "#9c179e"
             ],
             [
              0.4444444444444444,
              "#bd3786"
             ],
             [
              0.5555555555555556,
              "#d8576b"
             ],
             [
              0.6666666666666666,
              "#ed7953"
             ],
             [
              0.7777777777777778,
              "#fb9f3a"
             ],
             [
              0.8888888888888888,
              "#fdca26"
             ],
             [
              1,
              "#f0f921"
             ]
            ],
            "type": "histogram2dcontour"
           }
          ],
          "mesh3d": [
           {
            "colorbar": {
             "outlinewidth": 0,
             "ticks": ""
            },
            "type": "mesh3d"
           }
          ],
          "parcoords": [
           {
            "line": {
             "colorbar": {
              "outlinewidth": 0,
              "ticks": ""
             }
            },
            "type": "parcoords"
           }
          ],
          "pie": [
           {
            "automargin": true,
            "type": "pie"
           }
          ],
          "scatter": [
           {
            "fillpattern": {
             "fillmode": "overlay",
             "size": 10,
             "solidity": 0.2
            },
            "type": "scatter"
           }
          ],
          "scatter3d": [
           {
            "line": {
             "colorbar": {
              "outlinewidth": 0,
              "ticks": ""
             }
            },
            "marker": {
             "colorbar": {
              "outlinewidth": 0,
              "ticks": ""
             }
            },
            "type": "scatter3d"
           }
          ],
          "scattercarpet": [
           {
            "marker": {
             "colorbar": {
              "outlinewidth": 0,
              "ticks": ""
             }
            },
            "type": "scattercarpet"
           }
          ],
          "scattergeo": [
           {
            "marker": {
             "colorbar": {
              "outlinewidth": 0,
              "ticks": ""
             }
            },
            "type": "scattergeo"
           }
          ],
          "scattergl": [
           {
            "marker": {
             "colorbar": {
              "outlinewidth": 0,
              "ticks": ""
             }
            },
            "type": "scattergl"
           }
          ],
          "scattermap": [
           {
            "marker": {
             "colorbar": {
              "outlinewidth": 0,
              "ticks": ""
             }
            },
            "type": "scattermap"
           }
          ],
          "scattermapbox": [
           {
            "marker": {
             "colorbar": {
              "outlinewidth": 0,
              "ticks": ""
             }
            },
            "type": "scattermapbox"
           }
          ],
          "scatterpolar": [
           {
            "marker": {
             "colorbar": {
              "outlinewidth": 0,
              "ticks": ""
             }
            },
            "type": "scatterpolar"
           }
          ],
          "scatterpolargl": [
           {
            "marker": {
             "colorbar": {
              "outlinewidth": 0,
              "ticks": ""
             }
            },
            "type": "scatterpolargl"
           }
          ],
          "scatterternary": [
           {
            "marker": {
             "colorbar": {
              "outlinewidth": 0,
              "ticks": ""
             }
            },
            "type": "scatterternary"
           }
          ],
          "surface": [
           {
            "colorbar": {
             "outlinewidth": 0,
             "ticks": ""
            },
            "colorscale": [
             [
              0,
              "#0d0887"
             ],
             [
              0.1111111111111111,
              "#46039f"
             ],
             [
              0.2222222222222222,
              "#7201a8"
             ],
             [
              0.3333333333333333,
              "#9c179e"
             ],
             [
              0.4444444444444444,
              "#bd3786"
             ],
             [
              0.5555555555555556,
              "#d8576b"
             ],
             [
              0.6666666666666666,
              "#ed7953"
             ],
             [
              0.7777777777777778,
              "#fb9f3a"
             ],
             [
              0.8888888888888888,
              "#fdca26"
             ],
             [
              1,
              "#f0f921"
             ]
            ],
            "type": "surface"
           }
          ],
          "table": [
           {
            "cells": {
             "fill": {
              "color": "#EBF0F8"
             },
             "line": {
              "color": "white"
             }
            },
            "header": {
             "fill": {
              "color": "#C8D4E3"
             },
             "line": {
              "color": "white"
             }
            },
            "type": "table"
           }
          ]
         },
         "layout": {
          "annotationdefaults": {
           "arrowcolor": "#2a3f5f",
           "arrowhead": 0,
           "arrowwidth": 1
          },
          "autotypenumbers": "strict",
          "coloraxis": {
           "colorbar": {
            "outlinewidth": 0,
            "ticks": ""
           }
          },
          "colorscale": {
           "diverging": [
            [
             0,
             "#8e0152"
            ],
            [
             0.1,
             "#c51b7d"
            ],
            [
             0.2,
             "#de77ae"
            ],
            [
             0.3,
             "#f1b6da"
            ],
            [
             0.4,
             "#fde0ef"
            ],
            [
             0.5,
             "#f7f7f7"
            ],
            [
             0.6,
             "#e6f5d0"
            ],
            [
             0.7,
             "#b8e186"
            ],
            [
             0.8,
             "#7fbc41"
            ],
            [
             0.9,
             "#4d9221"
            ],
            [
             1,
             "#276419"
            ]
           ],
           "sequential": [
            [
             0,
             "#0d0887"
            ],
            [
             0.1111111111111111,
             "#46039f"
            ],
            [
             0.2222222222222222,
             "#7201a8"
            ],
            [
             0.3333333333333333,
             "#9c179e"
            ],
            [
             0.4444444444444444,
             "#bd3786"
            ],
            [
             0.5555555555555556,
             "#d8576b"
            ],
            [
             0.6666666666666666,
             "#ed7953"
            ],
            [
             0.7777777777777778,
             "#fb9f3a"
            ],
            [
             0.8888888888888888,
             "#fdca26"
            ],
            [
             1,
             "#f0f921"
            ]
           ],
           "sequentialminus": [
            [
             0,
             "#0d0887"
            ],
            [
             0.1111111111111111,
             "#46039f"
            ],
            [
             0.2222222222222222,
             "#7201a8"
            ],
            [
             0.3333333333333333,
             "#9c179e"
            ],
            [
             0.4444444444444444,
             "#bd3786"
            ],
            [
             0.5555555555555556,
             "#d8576b"
            ],
            [
             0.6666666666666666,
             "#ed7953"
            ],
            [
             0.7777777777777778,
             "#fb9f3a"
            ],
            [
             0.8888888888888888,
             "#fdca26"
            ],
            [
             1,
             "#f0f921"
            ]
           ]
          },
          "colorway": [
           "#636efa",
           "#EF553B",
           "#00cc96",
           "#ab63fa",
           "#FFA15A",
           "#19d3f3",
           "#FF6692",
           "#B6E880",
           "#FF97FF",
           "#FECB52"
          ],
          "font": {
           "color": "#2a3f5f"
          },
          "geo": {
           "bgcolor": "white",
           "lakecolor": "white",
           "landcolor": "#E5ECF6",
           "showlakes": true,
           "showland": true,
           "subunitcolor": "white"
          },
          "hoverlabel": {
           "align": "left"
          },
          "hovermode": "closest",
          "mapbox": {
           "style": "light"
          },
          "paper_bgcolor": "white",
          "plot_bgcolor": "#E5ECF6",
          "polar": {
           "angularaxis": {
            "gridcolor": "white",
            "linecolor": "white",
            "ticks": ""
           },
           "bgcolor": "#E5ECF6",
           "radialaxis": {
            "gridcolor": "white",
            "linecolor": "white",
            "ticks": ""
           }
          },
          "scene": {
           "xaxis": {
            "backgroundcolor": "#E5ECF6",
            "gridcolor": "white",
            "gridwidth": 2,
            "linecolor": "white",
            "showbackground": true,
            "ticks": "",
            "zerolinecolor": "white"
           },
           "yaxis": {
            "backgroundcolor": "#E5ECF6",
            "gridcolor": "white",
            "gridwidth": 2,
            "linecolor": "white",
            "showbackground": true,
            "ticks": "",
            "zerolinecolor": "white"
           },
           "zaxis": {
            "backgroundcolor": "#E5ECF6",
            "gridcolor": "white",
            "gridwidth": 2,
            "linecolor": "white",
            "showbackground": true,
            "ticks": "",
            "zerolinecolor": "white"
           }
          },
          "shapedefaults": {
           "line": {
            "color": "#2a3f5f"
           }
          },
          "ternary": {
           "aaxis": {
            "gridcolor": "white",
            "linecolor": "white",
            "ticks": ""
           },
           "baxis": {
            "gridcolor": "white",
            "linecolor": "white",
            "ticks": ""
           },
           "bgcolor": "#E5ECF6",
           "caxis": {
            "gridcolor": "white",
            "linecolor": "white",
            "ticks": ""
           }
          },
          "title": {
           "x": 0.05
          },
          "xaxis": {
           "automargin": true,
           "gridcolor": "white",
           "linecolor": "white",
           "ticks": "",
           "title": {
            "standoff": 15
           },
           "zerolinecolor": "white",
           "zerolinewidth": 2
          },
          "yaxis": {
           "automargin": true,
           "gridcolor": "white",
           "linecolor": "white",
           "ticks": "",
           "title": {
            "standoff": 15
           },
           "zerolinecolor": "white",
           "zerolinewidth": 2
          }
         }
        },
        "title": {
         "text": "UMAP Projection of Word Embeddings by Author"
        },
        "width": 800,
        "xaxis": {
         "anchor": "y",
         "domain": [
          0,
          1
         ],
         "title": {
          "text": "UMAP 1"
         }
        },
        "yaxis": {
         "anchor": "x",
         "domain": [
          0,
          1
         ],
         "title": {
          "text": "UMAP 2"
         }
        }
       }
      }
     },
     "metadata": {},
     "output_type": "display_data"
    }
   ],
   "source": [
    "# plot using plotly to further explore\n",
    "import plotly.express as px\n",
    "import textwrap\n",
    "\n",
    "def wrap_text(text, width=60):\n",
    "    return '<br>'.join(textwrap.wrap(text, width=width))\n",
    "\n",
    "umap_df = pd.DataFrame(proj, columns=['UMAP 1', 'UMAP 2'])\n",
    "umap_df['Author'] = labels\n",
    "umap_df['Text'] = [snip for auth in judge_snippets for snip in judge_snippets[auth]]\n",
    "umap_df['Text'] = umap_df['Text'].apply(lambda t: wrap_text(t, width=50))\n",
    "\n",
    "fig = px.scatter(umap_df, x='UMAP 1', y='UMAP 2', \n",
    "                 color='Author', hover_data=['Text'], \n",
    "                 width=800, height=500 )\n",
    "fig.update_traces(marker=dict(size=5))\n",
    "fig.update_layout(title='UMAP Projection of Word Embeddings by Author')\n",
    "fig.show()"
   ]
  },
  {
   "cell_type": "code",
   "execution_count": 28,
   "id": "418e8d2a",
   "metadata": {},
   "outputs": [
    {
     "name": "stdout",
     "output_type": "stream",
     "text": [
      "Top 10 most similar sentences to Crease's mean embedding:\n",
      "\n",
      "Author: Crease\n",
      "Sentence: The Act is found associated with another Act now disallowed, the express object of which is to\n",
      "prevent the Chinese altogether from coming to this country, and the principle \"noscitur a sociis\" is\n",
      "kept up by the preamble of the present Act, which describes the Chinese in terms which, I venture to\n",
      "think, have never before in any other country found a place in an Act of Parliament.\n",
      "Similarity Score: 0.8746\n",
      "\n",
      "Author: Crease\n",
      "Sentence: In the case of the Chinese treaties, they were forced at the point of the bayonet on China, to\n",
      "obtain a right for us to enter China, and in return for a similar permission to us, full permission\n",
      "was given for the Chinese to trade and reside in British dominions everywhere.\n",
      "Similarity Score: 0.8526\n",
      "\n",
      "Author: Crease\n",
      "Sentence: In other words, every Chinese is guilty until proved innocent—a provision which fills one conversant\n",
      "with subjects with alarm; for if such a law can be tolerated as against Chinese, the precedent is\n",
      "set, and in time of any popular outcry can easily be acted on for putting any other foreigners or\n",
      "even special classes among ourselves, as coloured people, or French, Italians, Americans, or\n",
      "Germans, under equally the same law.\n",
      "Similarity Score: 0.8514\n",
      "\n",
      "Author: Crease\n",
      "Sentence: Opponents to the Act might as well contend the exclusion of the Chinese from the franchise, and\n",
      "barring them from acquiring lands, was illegal.\n",
      "Similarity Score: 0.8504\n",
      "\n",
      "Author: Begbie\n",
      "Sentence: I have no doubt but that compulsion is put on all Chinamen, so that it is very difficult for them to\n",
      "obtain work, if they remain outside this organization.\n",
      "Similarity Score: 0.8481\n",
      "\n",
      "Author: Crease\n",
      "Sentence: This is not because they have not credit, for Chinese merchants, punctual to the day and hour in\n",
      "monetary engagements, can obtain what credit they please, (money is of no nationality), but this\n",
      "fact is accounted for because they are practically scrupulously honest.\n",
      "Similarity Score: 0.8473\n",
      "\n",
      "Author: Crease\n",
      "Sentence: Every person of Chinese origin, whether naturalized in Hong Kong or America, or any other State with\n",
      "which we are at amity, so long as they are of Chinese origin, 14 years of age—every one without\n",
      "distinction—must take out a license.\n",
      "Similarity Score: 0.8434\n",
      "\n",
      "Author: Crease\n",
      "Sentence: The grounds alleged by the Health Officer for this arbitrary treatment is “that China is an infected\n",
      "locality,” and all persons coming from China and especially in this instance Hongkong, and\n",
      "especially also the natives of China, come from an infected locality, and that he has that authority\n",
      "under the Health By-Law, 1893, which was passed at the time of the small pox panic in Victoria, and,\n",
      "in all he did, was simply doing his duty.\n",
      "Similarity Score: 0.8424\n",
      "\n",
      "Author: Crease\n",
      "Sentence: Though possessed of all the qualities I have described, Chinamen do not make good settlers in the\n",
      "sense of raising up citizens of a free.\n",
      "Similarity Score: 0.8416\n",
      "\n",
      "Author: Crease\n",
      "Sentence: In coming to British Columbia, and while here, the Chinese have no idea of interfering with the\n",
      "property of the white population in any way beyond the ordinary competition which they offer in the\n",
      "labor market.\n",
      "Similarity Score: 0.8411\n",
      "\n"
     ]
    }
   ],
   "source": [
    "# Print out the 10 most similar embedding sentences to Crease's mean embedding\n",
    "from sklearn.metrics.pairwise import cosine_similarity\n",
    "\n",
    "crease_similarity_df = pd.DataFrame(columns=['Author', 'Text', 'Similarity Score'])\n",
    "\n",
    "# Iterate through the embeddings and their corresponding sentences\n",
    "for auth, snippets in judge_snippets.items():\n",
    "    for snippet, emb in zip(snippets, embeddings_dict[auth]):\n",
    "        similarity = cosine_similarity(emb.reshape(1, -1), mean_crease)[0][0]\n",
    "        crease_similarity_df.loc[len(crease_similarity_df)] = [\n",
    "            auth, snippet, similarity\n",
    "        ]\n",
    "\n",
    "# Sort by similarity score\n",
    "crease_sorted_similarity = crease_similarity_df.sort_values(by='Similarity Score', ascending=False)\n",
    "\n",
    "print(\"Top 10 most similar sentences to Crease's mean embedding:\\n\")\n",
    "\n",
    "for _, row in crease_sorted_similarity.head(10).iterrows():\n",
    "    wrapped_para = textwrap.fill(row['Text'], width=100)\n",
    "    print(f\"Author: {row['Author']}\\nSentence: {wrapped_para}\\nSimilarity Score: {row['Similarity Score']:.4f}\\n\")"
   ]
  },
  {
   "cell_type": "code",
   "execution_count": 29,
   "id": "623b6e3f",
   "metadata": {},
   "outputs": [
    {
     "name": "stdout",
     "output_type": "stream",
     "text": [
      "Top 10 most similar sentences to Begbie's mean embedding:\n",
      "\n",
      "Author: Begbie\n",
      "Sentence: I have no doubt but that compulsion is put on all Chinamen, so that it is very difficult for them to\n",
      "obtain work, if they remain outside this organization.\n",
      "Similarity Score: 0.8696\n",
      "\n",
      "Author: Crease\n",
      "Sentence: Though possessed of all the qualities I have described, Chinamen do not make good settlers in the\n",
      "sense of raising up citizens of a free.\n",
      "Similarity Score: 0.8451\n",
      "\n",
      "Author: Begbie\n",
      "Sentence: I don't think serious breaches of the peace are proportionately more frequent in Chinese brothels\n",
      "than in those kept by white women.\n",
      "Similarity Score: 0.8419\n",
      "\n",
      "Author: Begbie\n",
      "Sentence: I have an indistinct remembrance of having been once asked to contribute to the cost of removing a\n",
      "disabled Chinaman; I am not sure.\n",
      "Similarity Score: 0.8415\n",
      "\n",
      "Author: Crease\n",
      "Sentence: This is not because they have not credit, for Chinese merchants, punctual to the day and hour in\n",
      "monetary engagements, can obtain what credit they please, (money is of no nationality), but this\n",
      "fact is accounted for because they are practically scrupulously honest.\n",
      "Similarity Score: 0.8405\n",
      "\n",
      "Author: Begbie\n",
      "Sentence: Lazy, drunken, extravagant, and turbulent: this is, by the voices of their friends and foes, exactly\n",
      "what a Chinaman is not.\n",
      "Similarity Score: 0.8391\n",
      "\n",
      "Author: Begbie\n",
      "Sentence: I never heard of Chinamen becoming a burden on the private charity of the whites.\n",
      "Similarity Score: 0.8359\n",
      "\n",
      "Author: Crease\n",
      "Sentence: I do not say that all these evils whether white or Chinese should not be determinedly suppressed,\n",
      "but there is such a manifest spirit of exaggeration in the complaints that are made, for the purpose\n",
      "I have described, as very materially to lessen in impartial eyes the accusations levelled against\n",
      "the Chinese.\n",
      "Similarity Score: 0.8345\n",
      "\n",
      "Author: Begbie\n",
      "Sentence: There is no leprosy or diabolism in the case; though of course a Chinaman, like any other man, may\n",
      "be a leper.\n",
      "Similarity Score: 0.8321\n",
      "\n",
      "Author: Begbie\n",
      "Sentence: Another ground on which I have heard it asserted that slavery is general among Chinamen here, is\n",
      "rather, I suspect, a proof of their freedom, or would be so accepted among whites.\n",
      "Similarity Score: 0.8289\n",
      "\n"
     ]
    }
   ],
   "source": [
    "# Print out the 10 most similar embedding sentences to Begbie's mean embedding\n",
    "begbie_similarity_df = pd.DataFrame(columns=['Author', 'Text', 'Similarity Score'])\n",
    "\n",
    "# Iterate through the embeddings and their corresponding sentences\n",
    "for auth, snippets in judge_snippets.items():\n",
    "    for snippet, emb in zip(snippets, embeddings_dict[auth]):\n",
    "        similarity = cosine_similarity(emb.reshape(1, -1), mean_begbie)[0][0]\n",
    "        begbie_similarity_df.loc[len(begbie_similarity_df)] = [\n",
    "            auth, snippet, similarity\n",
    "        ]\n",
    "\n",
    "# Sort by similarity score\n",
    "begbie_sorted_similarity = begbie_similarity_df.sort_values(by='Similarity Score', ascending=False)\n",
    "\n",
    "print(\"Top 10 most similar sentences to Begbie's mean embedding:\\n\")\n",
    "\n",
    "for _, row in begbie_sorted_similarity.head(10).iterrows():\n",
    "    \n",
    "    wrapped_para = textwrap.fill(row['Text'], width=100)\n",
    "    \n",
    "    print(f\"Author: {row['Author']}\\nSentence: {wrapped_para}\\nSimilarity Score: {row['Similarity Score']:.4f}\\n\")"
   ]
  },
  {
   "cell_type": "markdown",
   "id": "0ce8c336",
   "metadata": {},
   "source": [
    "The mixture occurrence of the two judges in the most similar sentences to the mean embeddings of the two also shows that the stance are very similar in terms of their text embeddings. "
   ]
  },
  {
   "cell_type": "markdown",
   "id": "c597ae8e",
   "metadata": {},
   "source": [
    "### The Comparison of Crease's and Begbie's Rulings and the Chinese Regulation Act of 1884"
   ]
  },
  {
   "cell_type": "code",
   "execution_count": 30,
   "id": "aeb356f1",
   "metadata": {},
   "outputs": [],
   "source": [
    "crease_cases = df[(df['author'] == 'Crease') & (df['type'] == 'case')]['text'].tolist()\n",
    "begbie_cases = df[(df['author'] == 'Begbie') & (df['type'] == 'case')]['text'].tolist()\n",
    "act_1884 = df[df['type'] == 'act']['text'].tolist()\n",
    "\n",
    "act_dict = {\n",
    "    'Crease': crease_cases,\n",
    "    'Begbie': begbie_cases,\n",
    "    'Act 1884': act_1884}"
   ]
  },
  {
   "cell_type": "code",
   "execution_count": 31,
   "id": "1cc235f3",
   "metadata": {},
   "outputs": [],
   "source": [
    "act_snippets = {}\n",
    "\n",
    "keywords = [\"Chinese\", \"China\", \"Chinaman\", \"Chinamen\"]\n",
    "for auth, texts in act_dict.items():\n",
    "    snippets = []\n",
    "    for txt in texts:\n",
    "        sentence = sent_tokenize(txt)\n",
    "        for sent in sentence:\n",
    "            if any(keyword in sent for keyword in keywords):\n",
    "                snippets.append(sent)\n",
    "    act_snippets[auth] = snippets"
   ]
  },
  {
   "cell_type": "code",
   "execution_count": 32,
   "id": "c02eb0c1",
   "metadata": {},
   "outputs": [
    {
     "name": "stdout",
     "output_type": "stream",
     "text": [
      "Snippet size by author:\n",
      "Crease: 77\n",
      "Begbie: 18\n",
      "Act 1884: 24\n"
     ]
    }
   ],
   "source": [
    "# Investigate the length of the snippets\n",
    "n_snippet = {auth: len(snippets) for auth, snippets in act_snippets.items()}\n",
    "\n",
    "print(\"Snippet size by author:\")\n",
    "for auth, num in n_snippet.items():\n",
    "    print(f\"{auth}: {num}\")"
   ]
  },
  {
   "cell_type": "code",
   "execution_count": 33,
   "id": "edd5dec0",
   "metadata": {},
   "outputs": [
    {
     "name": "stderr",
     "output_type": "stream",
     "text": [
      "c:\\Users\\Kaiyan Zhang\\AppData\\Local\\Programs\\Python\\Python312\\Lib\\site-packages\\torch\\nn\\modules\\module.py:1762: FutureWarning:\n",
      "\n",
      "`encoder_attention_mask` is deprecated and will be removed in version 4.55.0 for `BertSdpaSelfAttention.forward`.\n",
      "\n"
     ]
    }
   ],
   "source": [
    "# Create embeddings\n",
    "embeddings_dict = {'Crease': [], 'Begbie': [], 'Act 1884': []}\n",
    "\n",
    "for auth, snippets in act_snippets.items():\n",
    "    for snip in snippets:\n",
    "        v = embed_text(snip, focus_token=keywords, window=15)\n",
    "        embeddings_dict[auth].append(v[:256]) # Keep only the first 256 dimensions"
   ]
  },
  {
   "cell_type": "code",
   "execution_count": 34,
   "id": "271f1811",
   "metadata": {},
   "outputs": [],
   "source": [
    "# Create embeddings that subtract the ethnicity anchor\n",
    "subtracted_embeddings_dict = {'Crease': [], 'Begbie': [], 'Act 1884': []}\n",
    "\n",
    "for auth, embeddings in embeddings_dict.items():\n",
    "    for emb in embeddings:\n",
    "        v = emb - eth_anchor\n",
    "        subtracted_embeddings_dict[auth].append(v)"
   ]
  },
  {
   "cell_type": "code",
   "execution_count": 35,
   "id": "77f6c027",
   "metadata": {},
   "outputs": [
    {
     "name": "stdout",
     "output_type": "stream",
     "text": [
      "Cosine similarity between Crease and Begbie: 0.9540\n",
      "Cosine similarity between Crease and Act 1884: 0.9030\n",
      "Cosine similarity between Begbie and Act 1884: 0.8702\n"
     ]
    }
   ],
   "source": [
    "# Compute the pairwise cosine similarity\n",
    "mean_crease = np.mean(embeddings_dict[\"Crease\"], axis=0, keepdims=True)\n",
    "mean_begbie = np.mean(embeddings_dict[\"Begbie\"], axis=0, keepdims=True)\n",
    "mean_act_1884 = np.mean(embeddings_dict[\"Act 1884\"], axis=0, keepdims=True)\n",
    "\n",
    "sim_crease_begbie = cosine_similarity(mean_crease, mean_begbie)[0, 0]\n",
    "sim_crease_act_1884 = cosine_similarity(mean_crease, mean_act_1884)[0, 0]\n",
    "sim_begbie_act_1884 = cosine_similarity(mean_begbie, mean_act_1884)[0, 0]\n",
    "\n",
    "print(f\"Cosine similarity between Crease and Begbie: {sim_crease_begbie:.4f}\")\n",
    "print(f\"Cosine similarity between Crease and Act 1884: {sim_crease_act_1884:.4f}\")\n",
    "print(f\"Cosine similarity between Begbie and Act 1884: {sim_begbie_act_1884:.4f}\")"
   ]
  },
  {
   "cell_type": "code",
   "execution_count": 36,
   "id": "a5641e4c",
   "metadata": {},
   "outputs": [
    {
     "name": "stdout",
     "output_type": "stream",
     "text": [
      "Cosine similarity between max Crease and max Begbie: 0.9493\n",
      "Cosine similarity between min Crease and min Begbie: 0.9357\n",
      "Cosine similarity between max Crease and max Act 1884: 0.9371\n",
      "Cosine similarity between min Crease and min Act 1884: 0.9291\n",
      "Cosine similarity between max Begbie and max Act 1884: 0.9181\n",
      "Cosine similarity between min Begbie and min Act 1884: 0.9136\n"
     ]
    }
   ],
   "source": [
    "# Compute the pairwise cosine similarity by max and min poolings\n",
    "max_crease = np.max(embeddings_dict[\"Crease\"], axis=0, keepdims=True)\n",
    "min_crease = np.min(embeddings_dict[\"Crease\"], axis=0, keepdims=True)\n",
    "max_begbie = np.max(embeddings_dict[\"Begbie\"], axis=0, keepdims=True)\n",
    "min_begbie = np.min(embeddings_dict[\"Begbie\"], axis=0, keepdims=True)\n",
    "max_act_1884 = np.max(embeddings_dict[\"Act 1884\"], axis=0, keepdims=True)\n",
    "min_act_1884 = np.min(embeddings_dict[\"Act 1884\"], axis=0, keepdims=True)\n",
    "\n",
    "# Compute the pairwise cosine similarity\n",
    "sim_crease_begbie_max = cosine_similarity(max_crease, max_begbie)[0, 0]\n",
    "sim_crease_begbie_min = cosine_similarity(min_crease, min_begbie)[0, 0]\n",
    "sim_crease_act_1884_max = cosine_similarity(max_crease, max_act_1884)[0, 0]\n",
    "sim_crease_act_1884_min = cosine_similarity(min_crease, min_act_1884)[0, 0]\n",
    "sim_begbie_act_1884_max = cosine_similarity(max_begbie, max_act_1884)[0, 0]\n",
    "sim_begbie_act_1884_min = cosine_similarity(min_begbie, min_act_1884)[0, 0]\n",
    "\n",
    "# Print the results\n",
    "print(f\"Cosine similarity between max Crease and max Begbie: {sim_crease_begbie_max:.4f}\")\n",
    "print(f\"Cosine similarity between min Crease and min Begbie: {sim_crease_begbie_min:.4f}\")\n",
    "print(f\"Cosine similarity between max Crease and max Act 1884: {sim_crease_act_1884_max:.4f}\")\n",
    "print(f\"Cosine similarity between min Crease and min Act 1884: {sim_crease_act_1884_min:.4f}\")\n",
    "print(f\"Cosine similarity between max Begbie and max Act 1884: {sim_begbie_act_1884_max:.4f}\")\n",
    "print(f\"Cosine similarity between min Begbie and min Act 1884: {sim_begbie_act_1884_min:.4f}\")"
   ]
  },
  {
   "cell_type": "code",
   "execution_count": 37,
   "id": "b28ee59f",
   "metadata": {},
   "outputs": [
    {
     "name": "stdout",
     "output_type": "stream",
     "text": [
      "Cosine similarity between Crease and Begbie with ethnical axis removed: 0.9936\n",
      "Cosine similarity between Crease and Act 1884 with ethnical axis removed: 0.9830\n",
      "Cosine similarity between Begbie and Act 1884 with ethnical axis removed: 0.9777\n"
     ]
    }
   ],
   "source": [
    "# Compute the pairwise cosine similarity with subtracted embeddings\n",
    "subtracted_mean_crease = np.mean(subtracted_embeddings_dict[\"Crease\"], axis=0, keepdims=True)\n",
    "subtracted_mean_begbie = np.mean(subtracted_embeddings_dict[\"Begbie\"], axis=0, keepdims=True)\n",
    "subtracted_mean_act_1884 = np.mean(subtracted_embeddings_dict[\"Act 1884\"], axis=0, keepdims=True)\n",
    "\n",
    "sim_crease_begbie_sub = cosine_similarity(subtracted_mean_crease, subtracted_mean_begbie)[0, 0]\n",
    "sim_crease_act_1884_sub = cosine_similarity(subtracted_mean_crease, subtracted_mean_act_1884)[0, 0]\n",
    "sim_begbie_act_1884_sub = cosine_similarity(subtracted_mean_begbie, subtracted_mean_act_1884)[0, 0]\n",
    "\n",
    "print(f\"Cosine similarity between Crease and Begbie with ethnical axis removed: {sim_crease_begbie_sub:.4f}\")\n",
    "print(f\"Cosine similarity between Crease and Act 1884 with ethnical axis removed: {sim_crease_act_1884_sub:.4f}\")\n",
    "print(f\"Cosine similarity between Begbie and Act 1884 with ethnical axis removed: {sim_begbie_act_1884_sub:.4f}\")"
   ]
  },
  {
   "cell_type": "code",
   "execution_count": 38,
   "id": "b612df9d",
   "metadata": {},
   "outputs": [],
   "source": [
    "# Create UMAP projection for visualization\n",
    "import umap \n",
    "\n",
    "all_vecs = np.vstack(embeddings_dict[\"Crease\"] + embeddings_dict[\"Begbie\"] + embeddings_dict[\"Act 1884\"])\n",
    "labels  = ([\"Crease\"] * len(embeddings_dict[\"Crease\"])) + ([\"Begbie\"] * len(embeddings_dict[\"Begbie\"])) + (['Act 1884'] * len(embeddings_dict[\"Act 1884\"]))\n",
    "\n",
    "reducer = umap.UMAP(n_neighbors=15, min_dist=0.1)\n",
    "proj = reducer.fit_transform(all_vecs) "
   ]
  },
  {
   "cell_type": "code",
   "execution_count": 39,
   "id": "8d191b3f",
   "metadata": {},
   "outputs": [
    {
     "data": {
      "application/vnd.plotly.v1+json": {
       "config": {
        "plotlyServerURL": "https://plot.ly"
       },
       "data": [
        {
         "customdata": [
          [
           "14th & 15th July, Certiorari—“Chinese Regulation Act, 1884,”<br>s. 5—Constitutionality—B.N.A."
          ],
          [
           "Held, that the “Chinese Regulation Act, 1884,” is ultra<br>vires of the Provincial Legislature, on the following<br>grounds:  1."
          ],
          [
           "It is an infraction of the existing treaties between the<br>Imperial Government and China."
          ],
          [
           "14th & 15th July—On the return of a writ of certiorari<br>directed to Edwin Johnson, Esquire, Police Magistrate for<br>the City of Victoria, to return into this Court a certain<br>conviction made by him under which one Wing Chong was fined<br>$20 for not having in his possession a license issued under<br>the “Chinese Regulation Act, 1884.”  The Attorney-General in<br>support of the conviction said there were five points raised<br>on the rule for the certiorari against the validity of the<br>$10 tax.—1st."
          ],
          [
           "Its object, though not apparent on the face of the Act, was<br>to prevent Chinese coming into the Province and drive out<br>those who had already come."
          ],
          [
           "He reviewed the legislation against Chinese since<br>confederation, contending it was levelled against a<br>particular race of aliens and, therefore, beyond provincial<br>control, per *Gwynne*, J., in *Citizens Insurance Co. v.<br>Parsons*, 4 S. C. R., at p. 346."
          ],
          [
           "If its object were successful and Chinese driven from the<br>country, the customs dues received from the Chinese would be<br>lost and the benefits of trade relations enjoyed by the<br>merchants would be destroyed."
          ],
          [
           "Counsel cited statistics from the Chinese Commission showing<br>the extreme importance, from a fiscal and commercial point<br>of view, of the large number of Chinese in the Province."
          ],
          [
           "334) had decided a special tax could not be imposed on<br>Chinese, a most celebrated Judge, Mr. Justice Field (since<br>elevated to the Federal bench), dissented, and had pointed<br>out that according to federal decisions the State might<br>impose special taxation on alien residents, provided the<br>impost was not levied against foreigners landing in the<br>country."
          ],
          [
           "The tax was not to exclude the Chinese — another statute<br>with that object had been disallowed."
          ],
          [
           "Opponents to the Act might as well contend the exclusion of<br>the Chinese from the franchise, and barring them from<br>acquiring lands, was illegal."
          ],
          [
           "Section 3—with which we are immediately<br>concerned—says:—\"From and after the passage of this Act<br>there shall be payable and \"paid by every Chinese in British<br>Columbia, above the age of fourteen years, unto and for the<br>use of Her Majesty, her heirs and successors, the sum of ten<br>dollars, and thereafter on the 1st day of June in \"each and<br>every year there shall be likewise payable and paid by such<br>\"Chinese person a further sum of ten dollars.\""
          ],
          [
           "4 provides for the appointment and payment of special<br>collectors, \"to be called Chinese collectors, to collect and<br>receive such \"payments from Chinese; and such collector or<br>collectors, immediately upon such payment, shall issue and<br>deliver to the person paying \"the same a licence in the form<br>contained in the schedule hereto.\""
          ],
          [
           "By Sec.”   Section 9.”  Section 10 gives the collector power<br>to “levy the amount of the license from any Chinese not<br>being in lawful possession of a license, “with costs, by<br>distress of his goods and chattels, or of any goods and<br>“chattels which may be in the possession of the delinquent,<br>or which “may be upon or in any premises (whether the goods<br>of the delin- “quent or not) for the time being in the<br>possession or occupation of “such delinquent Chinese,” and<br>declares that “for the purposes of this “section premises<br>shall be deemed to be in the possession or occupa- “tion of<br>any Chinese when it can be shown to the satisfaction of the<br>“tribunal having cognizance of the matter (a) that such<br>Chinese “habitually frequents such premises with the assent<br>of the owner ; “(b) that he is the owner or one of the<br>owners of the premises, or has “control, either alone or<br>jointly, with another or others, of such pre- “mises or some<br>part thereof; (c) that he has passed the night or slept<br>“upon such premises at any time within a week of the levy,<br>it shall “be sufficient authority for the collector to levy<br>as aforesaid on the “non-production of the license."
          ],
          [
           "By section 12 tax collectors are not to allow Chinese to<br>pass unless a license is produced."
          ],
          [
           "Section 13 imposes a penalty of $50 on any person guilty of<br>employing any Chinese not having a license."
          ],
          [
           "14 Fee for free miner’s certificate to a Chinese to be $15,<br>instead of the white man's $5."
          ],
          [
           "Penalty not exceeding $30 for every Chinaman mining without<br>a license.”   Sections 17 and 18 prevent the exhumation of<br>dead bodies without permission, and prohibit the use of<br>opium except for medical purposes."
          ],
          [
           "Section 22 enacts that the tribunal applied to may decide<br>\"on its own view and judgment\" whether any person is a<br>Chinese or 14 years old."
          ],
          [
           "Sections 23, 24 and 25 contain sanitary provisions affecting<br>buildings let to Chinese."
          ],
          [
           "The aliens in this case being Chinese, the first enquiry<br>must be, what is the object of the Act?"
          ],
          [
           "The provisions of the Act I have given somewhat in extenso<br>bear out that view, and the concurrent and previous local<br>legislation bear out the same impression, for on the same<br>day as this Act was passed, another Act was passed, the very<br>object of which was plainly stated to be \"to prevent the<br>immigration\" of Chinese.\""
          ],
          [
           "It interfered with aliens as well as trade and commerce,<br>which cannot subsist among nations without personal<br>intercourse, which such an Act (as far as China was<br>concerned) would have a tendency to prohibit."
          ],
          [
           "Another statute (of 1878), \"An Act to provide for the better<br>collection of taxes from Chinese,\" which contained several<br>of the stringent provisions which I have described in this<br>Act, such as a special tax specially recoverable by summary<br>and unusual remedies from the Chinese alone, in British<br>Columbia, and enforced by fine and imprisonment and other<br>penal clauses, came before this Court, and in a most<br>conscientious and exhaustive judgment of Mr. Justice Gray,<br>of 23rd September, 1878, in the case of Tai Sing v. Maguire,<br>was declared unconstitutional and ultra vires the Local<br>Legislature, as interfering with aliens and trade and<br>commerce—matters reserved exclusively under the 81st section<br>of the B. N. A."
          ],
          [
           "The basis, then, of our enquiry must be: Is this Chinese<br>Regulation Act of 1884—rather the parts of it objected<br>to—within the limit of subjects and area of section 92, or<br>does it exceed those limits in which it is supreme, and<br>interfere with aliens, trade and commerce in such a manner<br>as to encroach on section 91 or any of its sub-sections?"
          ],
          [
           "The power asserted in the Act in question (the California<br>Act) is the right of the State to prescribe the terms upon<br>which the Chinese shall be permitted to reside in it, and be<br>so used as to cut off all intercourse between them and the<br>people of the State, and defeat the commercial policy of the<br>nation."
          ],
          [
           "That the Chinese might be taxed as other residents, but<br>could not be set apart as special objects of the taxation,<br>and be compelled to contribute to the revenue of the State<br>in the character of foreigners."
          ],
          [
           "The reports of the higher California courts are of great<br>authority for us on all Chinese questions, for there have<br>been efforts for years past to restrict Chinese immigration<br>in California, and the matter has been constantly before the<br>superior courts there, and the judges there (if we may take<br>the reports as correct) are more than ordinarily skilled in<br>laying down the law correctly in constitutional points of<br>that nature."
          ],
          [
           "And again, \"A tax imposed by the law on these persons for<br>the mere right to reside here, is an appropriate and<br>effective means to discourage the immigration of the Chinese<br>into the State.\""
          ],
          [
           "In another California case, *In re Tiburcio Parrott*, it is<br>laid down that if the apparent object of a statute is under<br>a pretense of the exercise of constitutional powers to drive<br>Chinese away, the end sought to be obtained being unlawful,<br>the statute is void."
          ],
          [
           "And as to trade and commerce, if the Chinese be driven out<br>an annual loss to the revenue, it appears by the tables in<br>the Chinese Commission Report, of $110,000 will take place;<br>and more than $1,500,000 of property and business be lost to<br>us, besides an injury to trade to an incalculable extent."
          ],
          [
           "The amount of business transacted by Chinamen in British<br>Columbia, as revealed by the tables in that Chinese Report,<br>is something which a casual observer would have no idea of."
          ],
          [
           "The treaties between Great Britain and China, which bind us,<br>have been quoted."
          ],
          [
           "6, ratified 26th June, 1843, p. 221, and Lord Elgin's treaty<br>of October, 1860, authenticated copies of which were<br>produced in Court, secure to Chinese coming into British<br>dominions the same \"full security for persons and property<br>as subjects of Her Majesty.\""
          ],
          [
           "The treaties I have quoted between Great Britain and China,<br>binding on the Dominion and on us in British Columbia,<br>secure to the Chinese, just as the treaties between Great<br>Britain and other foreign countries secure to other<br>foreigners, the same rights in regard to the equality of<br>taxation which I have described as being enjoyed by citizens<br>of this country."
          ],
          [
           "In the case of the Chinese treaties, they were forced at the<br>point of the bayonet on China, to obtain a right for us to<br>enter China, and in return for a similar permission to us,<br>full permission was given for the Chinese to trade and<br>reside in British dominions everywhere."
          ],
          [
           "In the treaties of 1858 and 1860, made at the solicitation<br>of Great Britain, the Emperor of China was induced to give<br>permission to his subjects to go and trade and reside \"in<br>British Colonies,\" and to enter into \"engagements with<br>British subjects for that purpose.\""
          ],
          [
           "The same provisions that apply to Chinese may be made to<br>apply also to Americans, Frenchmen, Germans, or any other<br>foreigners."
          ],
          [
           "The Act is found associated with another Act now disallowed,<br>the express object of which is to prevent the Chinese<br>altogether from coming to this country, and the principle<br>\"noscitur a sociis\" is kept up by the preamble of the<br>present Act, which describes the Chinese in terms which, I<br>venture to think, have never before in any other country<br>found a place in an Act of Parliament."
          ],
          [
           "Every person of Chinese origin, whether naturalized in Hong<br>Kong or America, or any other State with which we are at<br>amity, so long as they are of Chinese origin, 14 years of<br>age—every one without distinction—must take out a license."
          ],
          [
           "However difficult or impossible for any Chinese to find a<br>district collector, if such Chinese is \"found without a<br>license he is liable to a fine of $40.\""
          ],
          [
           "Every employé of Chinese labour, whether English, American,<br>or what not, is made liable to severe and incessant<br>liability of a penal kind, for what?"
          ],
          [
           "No; an act or default of a stranger, a man whose language he<br>knows not, and for every infraction of the Act by the<br>Chinese under his employ."
          ],
          [
           "The palpable object of such a provision, or set of<br>provisions, is to render the employment of Chinese so<br>distasteful and annoying to the employer that he must cease<br>to employ them."
          ],
          [
           "If a man employ a Chinaman who should happen to be<br>delinquent in his tax, and he happens to occupy a cottage or<br>room of his employer, with his master's goods in it, under<br>section 10 they are liable to seizure and sale."
          ],
          [
           "In other words, every Chinese is guilty until proved<br>innocent—a provision which fills one conversant with<br>subjects with alarm; for if such a law can be tolerated as<br>against Chinese, the precedent is set, and in time of any<br>popular outcry can easily be acted on for putting any other<br>foreigners or even special classes among ourselves, as<br>coloured people, or French, Italians, Americans, or Germans,<br>under equally the same law."
          ],
          [
           "The whole Act teems with special provisions which affect not<br>only Chinese, but their employers, with obligations and<br>liabilities as to the conduct of the Chinese in their<br>employ, that no reasonable man would encounter, and run the<br>risk of the penal consequences which the Act hangs over him."
          ],
          [
           "It is enough to add that \"any person,\" no matter whether<br>white or Chinese, imprisoned in respect of any infraction of<br>the provisions of the Act, may be at the will of the<br>executive, subjected even to hard labour."
          ],
          [
           "So far, I have dealt with the Act on its own merits; but if<br>we consider it in juxtaposition to the Dominion Act recently<br>passed restricting the Chinese throughout all Canada, its<br>illegality becomes transparent; for in passing that Act<br>against the Chinese the Dominion has spoken by the highest<br>authority which it possesses—its own Parliament."
          ],
          [
           "Action of trespass against the Medical Health Officer of the<br>City of Victoria for causing the plaintiff, one of a number<br>of Chinamen, who landed at Victoria in a steamer last from<br>Hong Kong in China, to be removed to the \"Suspect Station\"<br>and there detained and subjected to cleansing process under<br>colour of Sec."
          ],
          [
           "The only evidence of Hong Kong being a place infected, etc.,<br>was that of a medical man resident in Victoria, who said<br>\"That in China small pox was endemic, because there<br>inoculation was the universal practice."
          ],
          [
           "That there was danger of infection from white passengers,<br>but not the same danger as from Chinamen.\""
          ],
          [
           "CREASE, J.: This was a test action to try whether Chinamen<br>have the same rights as other foreigners in landing here on<br>their advent from China."
          ],
          [
           "The occasion was the arrival of the Empress of China at the<br>Outer Wharf, which is within the city limits of Victoria, on<br>the 1st day of May, 1894, from China and Hongkong."
          ],
          [
           "The action is one nominally rather than really, for damages<br>against Dr. George Duncan, the Health Officer of the City of<br>Victoria, on account of an alleged excess of duty in<br>despatching en masse, without examination or enquiry, a<br>number of Chinamen out to the suspect station at Ross Bay,<br>there to be disinfected and scrubbed."
          ],
          [
           "The Chinamen had already been examined on board the ship by<br>the Dominion Quarantine Officers and Provincial officers and<br>passed."
          ],
          [
           "Disregarding the white men, who had come at the same time<br>from the same place and in the same ship and presumably<br>subject to some of the same unsanitary influences, though<br>not to the same extent as the Chinese, without any reason<br>for special suspicion, without inspecting or attempting to<br>inspect a single man, (that had already been done<br>individually by the Dominion Quarantine Officers) he orders<br>them into the custody of his constables to be taken out to<br>the suspect station at Ross Bay, there to be washed and<br>disinfected and scrubbed."
          ],
          [
           "The plaintiff and other Chinamen similarly situated obtained<br>a writ of Habeas Corpus, upon which they were discharged<br>from this custody."
          ],
          [
           "Thereupon the present action was brought to test if and how<br>far Chinamen are to be treated, when they land on our<br>shores, differently from other foreigners."
          ],
          [
           "The grounds alleged by the Health Officer for this arbitrary<br>treatment is “that China is an infected locality,” and all<br>persons coming from China and especially in this instance<br>Hongkong, and especially also the natives of China, come<br>from an infected locality, and that he has that authority<br>under the Health By-Law, 1893, which was passed at the time<br>of the small pox panic in Victoria, and, in all he did, was<br>simply doing his duty."
          ],
          [
           "The case was tried before a jury upon the issue whether<br>Hongkong, the last port the steamer left in China, was or<br>not “an infected locality.” To prove that Hongkong was such,<br>Dr. Davie was placed in the witness box as an expert."
          ],
          [
           "He considered “China the home of small pox,” and that it was<br>“an infected place”; that, in China, small pox was<br>“endemic,” i.e., always there; because there “inoculation”<br>was the universal practice and was a constant source of<br>danger; that in England and Europe and America, generally,<br>vaccination, of late years, has been the rule."
          ],
          [
           "He thought that too close a scrutiny could not be made of<br>Chinese passengers."
          ],
          [
           "That small pox must have been in China on the 19th April<br>last, the date when the Empress left Hongkong, as it was<br>always there."
          ],
          [
           "He had no opinion to express as to the British possession of<br>Hongkong; but it was a portion of China, where small pox was<br>always, in a sense, \"endemic.\""
          ],
          [
           "There was danger of infection from white passengers, but not<br>the same danger as from Chinamen."
          ],
          [
           "It was his opinion that every one should be examined who<br>comes from China or from any \"infected port.\""
          ],
          [
           "When asked the question, \"Would you allow Chinamen to land<br>and go into the city?\""
          ],
          [
           "The Chinese are chiefly dressed in woollen materials and<br>these harbour infection for weeks and months."
          ],
          [
           "There were several other diseases to be guarded against from<br>China, e.g., cholera, leprosy, etc."
          ],
          [
           "(Here I observe that from first to last no mention was made<br>of the black plague, which has carried off so many thousands<br>of Chinese in Hongkong; and it appeared that during the<br>passage from China to Victoria, which presumably lasted over<br>the ordinary period of inoculation, no case of small pox<br>appeared on board the Empress, and that she showed a clean<br>bill of health.)"
          ],
          [
           "Now this assumes, as Dr. Davie assumed, that Hongkong,<br>although a British port and subject to quarantine<br>regulations, was (which includes the time of the steamer's<br>departure) and is a cradle of small pox, and that every ship<br>coming thence to Victoria, especially with Chinese on board,<br>should be subject to the most searching examination, and the<br>drastic treatment I have described."
          ],
          [
           "He does not include Japanese in the same category as<br>Chinese."
          ],
          [
           "His duty was, if he considered the Empress of China came<br>from \"an infected locality,\" at once to go on board the<br>suspected vessel and make his examination and inspection on<br>board the vessel (as Section 32 says), \"before any luggage,<br>freight or other thing is landed or allowed to be landed.\""
          ],
          [
           "It goes further and shews that the only person to be \"dealt<br>with in such manner as the Medical Health City Officer shall<br>direct\" is \"any infected or exposed person from on board,\"<br>under none of which categories do the plaintiff or other<br>Chinamen, seized and carted off on this occasion, happen to<br>come."
          ],
          [
           "It is shewn that he did not personally examine a single<br>Chinaman or inquire if he was “an infected or exposed<br>person.” In a matter affecting the public health, it is<br>quite natural, and everyone would expect that officers who<br>are armed with extensive sanitary powers, should confer<br>together and assist one another in carrying out the law, and<br>work well together for the public good and safety."
          ],
          [
           "But it should be understood that these exceptional powers<br>are a great trust placed in the hands of the Health Officer<br>to meet such cases as I have described, and at all times to<br>be administered with firmness, judgment and discretion—not<br>under any fear of infection unwarranted by the facts of the<br>case which may enter into the mind of the Health Officer, or<br>to be carried out by carting off en masse to the suspect<br>station all who hail from China or Hongkong without<br>examination or enquiry."
          ]
         ],
         "hovertemplate": "Author=Crease<br>UMAP 1=%{x}<br>UMAP 2=%{y}<br>Text=%{customdata[0]}<extra></extra>",
         "legendgroup": "Crease",
         "marker": {
          "color": "#636efa",
          "size": 5,
          "symbol": "circle"
         },
         "mode": "markers",
         "name": "Crease",
         "orientation": "v",
         "showlegend": true,
         "type": "scatter",
         "x": {
          "bdata": "mzNtwLwPU8Aoz/q/7Hr5v1iRDcCi+FLA1hTcv0joXL9x5m3AKajkv+6bEcBd6Xa/1Jahv+om17/NHo6/f9NGv72/6r6Swam/MZvrvhwR/L8cTTjAFXwjwAkkFcAfYRbAsGlAwAYlAMDMuv6/izoNwLZNHsCcKSzAz87jv+WVPb9AAru/c/nHv8HKpb8nXLK/biuAv/AxkL8iliDAR6tgv4Efdr8n2JW/jt7Cv+Xa0b+SCpS/p5y/v8UK0b+rGJy/zZU7wEhRzr/fGIe+79NGulXzHcDmaKu/VYnnv2C02L/C6bm/jUYUwKRiF8AEHaC/Hg5hvwr4q775EyA+rTGMvwqeKb8fAg69IE+ZvqBmCMDocOm/bTt0PdLchr924Jq/5W8pvq3dO797wfu/eg4fvwKz3L8=",
          "dtype": "f4"
         },
         "xaxis": "x",
         "y": {
          "bdata": "d5zLQDifyUB8OuZARsGfQNQu2kC99d1Au+/9QGqqAEHLu+pAhzC6QGfrzEDyGYBAL5GEQKF8iUBai69AxqukQNnfnkBh2aJAQ9TGQNAY10CRKt5ASg/TQPQr0UBlU65Aa63ZQBcfz0BfY/NApB7wQJ3h4EClcM1A2BIFQX27BEFL4O5AuTXoQIjT6UBiowFBQ5PwQHPr7ECHiuFAyjzYQFGJmEBDrs9AdMvJQLq21EApWZNAo6LWQIpH0kAN1LxAiVbVQDhFD0HW6A1B2oYIQdjKAkH+Zw1BbdYRQflWDUFsQxRB6ab/QE84AUHJCQdBsMwNQTQLEEHXawJB4C0JQSteCkFs3gRBMacJQcwFv0DKqQJBSTYHQSQQDkEEShFBcjT4QAQEEEHNgRNBwmITQcGAFUE=",
          "dtype": "f4"
         },
         "yaxis": "y"
        },
        {
         "customdata": [
          [
           "(5) If it appears that a tax is not bona fide within the<br>purpose provided for, but is imposed with the real purpose<br>of discriminating against a class, it is not within the<br>justification of the enabling statute, and, on the facts,<br>the tax in question was intended not for the purpose of<br>raising a revenue, but as a restriction on the Chinese."
          ],
          [
           "Indeed if no restriction whatever be placed on the word \"<br>other\" in that section; if the Provincial Legislature can<br>insist upon imposing licenses upon everything and upon every<br>act of life, and tax each licensee at any moment they<br>please, there would be a very simple way of excluding every<br>Chinaman from the Province, by imposing a universal tax, not<br>limited to any nationality, of one or two thousand dollars<br>per annum for a license to Judgment."
          ],
          [
           "No Chinaman will shave the back of his head; no true moujik<br>will shave his chin."
          ],
          [
           "I rather think that the auctioneers would repudiate this<br>alleged similarity of their occupation to that of a Chinese<br>washerman."
          ],
          [
           "assing Chinamen, supposed to be the only persons carrying on<br>this industry."
          ],
          [
           "If the object of the Provincial Statute be as alleged, viz.,<br>Feb. 3.  to subject Chinamen to exceptional disadvantages it<br>is clearly unconstitutional."
          ],
          [
           "G. to the report of the recent Chinese Conmission, p. 379,<br>and by Mr. Justice CREASE in Wing Chong's case, 1 B.C.R."
          ],
          [
           "Justices FIELD, HOFFMAN, SAWYER and DEADY and other Judges<br>whom they cite, all confirm this, that a State, or<br>Provincial law imposing special disabilities or unequal<br>burdens on Chinamen is unconstitutional and void."
          ],
          [
           "Statutes were by their title and preamble  expressly aimed<br>at Chinamen by name; that this distinction also renders<br>inapplicable all the United States' cases cited; that this<br>enactment is quite general extending to all laundries<br>without exception and we must not look beyond the words of<br>the enactment to enquire what its object was; that there is<br>in fact one laundry in Victoria not conducted by Chinamen on<br>which the tax will fall with equal force so that it is<br>impossible to say that Chinamen are hereby exclusively<br>selected for taxation; the circumstance that they are<br>chiefly affected being a mere coincidence; that the bylaw<br>only imposes $100.00 per annum, keeping far within the limit<br>of $150.00 permitted by the Statute; that the tax clearly is<br>calculated to procuring additional Municipal revenue and<br>that no other object is hinted at."
          ],
          [
           "I, for my part, cannot arrive at any other conclusion than<br>that it is specially directed against Chinamen because they<br>are Chinamen and for no other Judgment."
          ],
          [
           "The appellants' contention that the clause is merely<br>intended to hamper or expel Chinamen is much strengthened by<br>considering the amount of the tax sanctioned, which is<br>$150.00 per annum, whereas the limit sanctioned by the<br>Legislature in the case of any retail shop, however<br>extensive or lucrative its business, is only $10.00 per<br>annum."
          ],
          [
           "The test is whether on the whole statute the Legislature can<br>fairly be held to have said : \"Let us impose a tax in order<br>to raise a revenue, though perhaps it may fall on Chinamen,\"<br>or \" let us impose this tax in order to fall on Chinamen,<br>though perhaps it will raise no revenue.\""
          ],
          [
           "When we find (1st) no other description of labour taxed at<br>all ; (2nd) this description of labour practically quite<br>abandoned to Chinamen alone ; (3rd) this description of<br>labour taxed at fifteen times the rate permitted to be<br>levied on any retail shop ; (4th) that a preliminary<br>Provincial Act has declared Chinamen incapable of the<br>franchise which they formerly exercised."
          ],
          [
           "I cannot doubt but that the tax is directed against<br>Chinamen, as such."
          ],
          [
           "It is not competent to the Provincial Legislature, or to a<br>municipality, to deprive, generally, particular<br>nationalities or individuals of the capacity to take out<br>municipal trade licenses ; e. g., a Chinaman has a right to<br>apply for a pawnbroker's license."
          ],
          [
           "Application for a mandamus to the Corporation of the City of<br>Victoria to compel the renewal to the prosecutors (Chinamen)<br>of a pawnbroker's license."
          ],
          [
           "It is alleged by the prosecution, and not denied, that the<br>Council have in fact ordered the Collector to issue no<br>pawnbroking license to any Chinaman."
          ],
          [
           "In the French colony of Cayenne, the Town Council recently<br>handicapped the superior capacities of the Chinaman by<br>imposing on merchants of that empire an extra tax of $300<br>per annum, deeming it also expedient to handicap English and<br>German traders by a surtax of $200 on them."
          ]
         ],
         "hovertemplate": "Author=Begbie<br>UMAP 1=%{x}<br>UMAP 2=%{y}<br>Text=%{customdata[0]}<extra></extra>",
         "legendgroup": "Begbie",
         "marker": {
          "color": "#EF553B",
          "size": 5,
          "symbol": "circle"
         },
         "mode": "markers",
         "name": "Begbie",
         "orientation": "v",
         "showlegend": true,
         "type": "scatter",
         "x": {
          "bdata": "bH0WwFZACMDBrRW/toqpvq69wr6jNFXA1n53wPl0VMAjpCjA7q84wA3TWMB8FjLARdNFwKQwQ8Axy1LAZfxHwGjvOsDhOWDA",
          "dtype": "f4"
         },
         "xaxis": "x",
         "y": {
          "bdata": "wfvEQDO8wkDoUq1AuifyQC29+EAGks1AUpDWQI250EAcWfJAVNDwQGz44EBDXc1AmWH3QODk5kAEg/5APicCQbsZAUHTyPNA",
          "dtype": "f4"
         },
         "yaxis": "y"
        },
        {
         "customdata": [
          [
           "An Act to regulate the Chinese population of British<br>Columbia."
          ],
          [
           "WHEREAS the incoming of Chinese to British Columbia largely<br>exceeds that of any other class of immigrant, and the<br>population so introduced are fast becoming superior in<br>number to our own race; are not disposed to be governed by<br>our laws; are dissimilar in habits and occupation from our<br>people; evade the payment of taxes justly due to the<br>Government; are governed by pestilential habits; are useless<br>in instances of emergency; habitually desecrate grave yards<br>by the removal of bodies therefrom; and generally the laws<br>governing the whites are found to be inapplicable to<br>Chinese, and such Chinese are inclined to habits subversive<br>of the comfort and well-being of the community:  And whereas<br>it is expedient to pass special laws for the Government of<br>Chinese:  Therefore, Her Majesty, by and with the advice and<br>consent of the Legislative Assembly of the Province of<br>British Columbia, enacts as follows:—  1."
          ],
          [
           "This Act shall be cited as the \"Chinese Regulation Act,<br>1884.\""
          ],
          [
           "The term \"Chinese\" wherever used in this Act shall mean any<br>native of the Chinese Empire or its dependencies not born of<br>British parents, and shall include any person of the Chinese<br>race."
          ],
          [
           "From and after the passage of this Act there shall be<br>payable and paid by every Chinese in British Columbia, above<br>the age of fourteen years, unto and for the use of Her<br>Majesty, Her heirs and successors, the sum of ten dollars,<br>and thereafter on the 1st day of June in each and every year<br>there shall be likewise payable and paid by such Chinese<br>person a further sum of ten dollars."
          ],
          [
           "The Lieutenant-Governor in Council shall immediately upon<br>the passage of this Act, and from time to time thereafter as<br>occasion may require, appoint in each electoral district,<br>one or more person or persons to be called Chinese<br>Collectors, to collect and receive such payments from<br>Chinese, and such Collector or Collectors immediately upon<br>such payment shall issue and deliver to the person paying<br>the same a licence in the form contained in the Schedule<br>hereto, and the Lieutenant-Governor in Council may require<br>from the Collectors so to be appointed such security as he<br>may see fit and may allow them such percentage upon the<br>amount of collections as may seem reasonable and just, and<br>the Lieutenant-Governor in Council may further allow such<br>additional sum by way of expenses as may be necessary and<br>reasonable for the purpose of carrying out the provisions of<br>this Act."
          ],
          [
           "Any Chinese who shall be found within the Province not<br>having in his possession a licence issued under the<br>provisions of this Act, lawfully issued to him, shall on<br>conviction thereof forfeit and pay a sum not exceeding forty<br>dollars."
          ],
          [
           "Every Collector shall collect the tax from each Chinese, and<br>shall as soon afterwards as may be pay over the amount to<br>the Officer in charge of the Treasury, or to such other<br>person as the Lieutenant-Governor in Council may from time<br>to time direct."
          ],
          [
           "Every employer of Chinese shall furnish to the Collector,<br>when requested by him so to do, from time to time, a list of<br>all Chinese in his employ, or indirectly employed by him;<br>but no such statement shall bind the Collector, nor shall<br>excuse him from making due enquiry to ascertain its<br>correctness."
          ],
          [
           "In case any employer of Chinese fails to deliver to the<br>Collector the list mentioned in the preceding section, when<br>required so to do, or knowingly states anything falsely<br>therein, such employer shall, on complaint of the Collector<br>and upon conviction before a Justice of the Peace having<br>jurisdiction within the district wherein such employer<br>carries on his business, forfeit and pay a fine not<br>exceeding one hundred dollars for every Chinese in his<br>employ, to be recovered by distress of the goods and<br>chattels of such employer failing to pay the same, or in<br>lieu thereof shall be liable to imprisonment for a period<br>not less than one month and not exceeding two calendar<br>months."
          ],
          [
           "The Collector may, by himself or his agent, levy the amount<br>of the licence from any Chinese not being in lawful<br>possession of a licence, with costs, by distress of his<br>goods and chattels, or of any goods and chattels which may<br>be in the possession of the delinquent, or which may be upon<br>or in any premises (whether the goods of the delinquent or<br>not) for the time being in the possession or occupation of<br>such delinquent Chinese, and for the purposes of this<br>section premises shall be deemed to be in the possession or<br>occupation of any Chinese when it can be shewn to the<br>satisfaction of the tribunal having cognizance of the<br>matter—  (a.)"
          ],
          [
           "That such Chinese habitually frequents such premises with<br>the assent of the owner."
          ],
          [
           "Every employer of Chinese shall demand from every such<br>Licence to be demanded by employer and retained during the<br>service."
          ],
          [
           "Chinese in his employ his licence, and shall retain the same<br>in his possession during the time such Chinese is in his<br>employ, and shall return the same to him when he leaves his<br>service; and every employer as aforesaid shall produce to<br>the Collector, whenever required so to do, such licence for<br>his inspection."
          ],
          [
           "The Toll Collector at any and every toll gate which may<br>exist in the Province from time to time, shall, before<br>allowing any Chinese to pass through any toll gate, demand<br>from such Chinese the production of his licence, and, until<br>the same is produced, such Chinese shall not be allowed to<br>proceed through the toll gate."
          ],
          [
           "It shall be unlawful for any person to employ any Chinese<br>who has not in his possession the licence required by this<br>Act, and any person guilty of an infraction of the<br>provisions of this section shall forfeit and pay a fine not<br>exceeding fifty dollars for every Chinese so employed."
          ],
          [
           "The sum payable by a Chinese for a free miner’s certificate<br>shall be fifteen dollars for each year during which the same<br>is to be in force instead of five dollars, as by the present<br>mining laws provided, and no free miner’s certificate shall<br>hereafter be issued to any Chinese except upon payment of<br>the said sum of fifteen dollars."
          ],
          [
           "Any Chinese who shall be found mining for gold and precious<br>metals, or following the ordinary occupation of a free<br>miner, whether on his own account or for others, without<br>having in his possession a free miner’s certificate,<br>lawfully issued to him subsequently to the passage of this<br>Act, and any person who shall employ any Chinese in and<br>about gold mining who has not in his possession such a<br>certificate, shall forfeit and pay a sum not exceeding<br>thirty dollars."
          ],
          [
           "of the Schedule A to the “Licences Ordinance, 1867,” is<br>hereby amended by adding thereto the following words: “but<br>no licence shall be issued to any Chinese.”  17."
          ],
          [
           "Without the permission in writing of the Provincial<br>Secretary or Government Agent of the district or place where<br>the permission is sought it shall be unlawful to remove the<br>remains of any dead Chinese from any cemetery or place where<br>such dead Chinese may have been interred, or to exhume the<br>bodies or remains of any dead Chinese, and any person guilty<br>of an infraction of this section shall forfeit and pay a sum<br>not exceeding one hundred dollars."
          ],
          [
           "No conviction for any offence shall be quashed for want of<br>form, and no conviction shall be removed into any of Her<br>Majesty’s Courts by certiorari or reviewed in any manner,<br>except by appeal in manner hereinafter stated, that is to<br>say: Any Chinese convicted of an offence against the<br>provisions of this Act may appeal to the County Court<br>nearest to the place of conviction, provided he shall,<br>within four days after such conviction, have given notice in<br>writing to the convicting Magistrate of his intention to<br>appeal, and shall have furnished security in the sum of one<br>hundred dollars, conditioned to abide by the decision of the<br>appellate Court, and shall have also deposited with the<br>convicting Magistrate a sum of money sufficient in the<br>opinion of such Magistrate to pay the costs and expenses of<br>a jury to try such appeal, and such appeal shall be heard<br>and tried before the County Court, with or without a jury of<br>five, at the option of the parties, and notwithstanding any<br>defect in the proceedings, the appeal shall be heard and<br>decided on the merits, and if the conviction be affirmed the<br>appellant shall be punished according to the conviction, and<br>shall pay the costs of the appeal, and if the appeal be<br>allowed, it shall be lawful for the Lieutenant-Governor in<br>Council to issue his warrant to the Treasurer for the<br>repayment to the appellant of the money paid by him for jury<br>process."
          ],
          [
           "Any Chinese who shall lend his licence or free miner’s<br>certificate to another Chinese, and any Chinese who shall<br>utter or pass off upon any Collector or other person any<br>licence or free miner’s certificate other than his own, with<br>intent himself to avoid payment of the licence fee payable<br>under this Act, (and the onus of proving that such was not<br>his intent, shall rest upon the person charged), shall<br>forfeit and pay a penalty of not less than twenty dollars<br>nor more than one hundred dollars."
          ],
          [
           "The tribunal having cognizance of any matter under the<br>provisions of this Act may decide, upon its own view and<br>judgment, whether any person is a Chinese, and whether any<br>person found by the Court to be a Chinese be of the age of<br>fourteen years."
          ],
          [
           "This Act may be cited as the \"Chinese Regulation Act, 1884.\""
          ]
         ],
         "hovertemplate": "Author=Act 1884<br>UMAP 1=%{x}<br>UMAP 2=%{y}<br>Text=%{customdata[0]}<extra></extra>",
         "legendgroup": "Act 1884",
         "marker": {
          "color": "#00cc96",
          "size": 5,
          "symbol": "circle"
         },
         "mode": "markers",
         "name": "Act 1884",
         "orientation": "v",
         "showlegend": true,
         "type": "scatter",
         "x": {
          "bdata": "cWMYwLfq5b9/ITfAsUJKvwqlhb/1caS/U6/mvjkzqb+sf5e/smGzv8Q1y78rOau+Ln2DvyhoVb9CfHy/Klg1v1S0Kb+Ww+y+EV2Vv5IXQr/56uy/Coy+vm0BH79E2TnA",
          "dtype": "f4"
         },
         "xaxis": "x",
         "y": {
          "bdata": "LzrYQHP440CNb71A+qrSQJaLhkCFA31AgLx+QA4meEABSWpAz1V9QL80hkDeHOhAUV2hQPWNckC2LGNAh+t+QA3ogUCnLHJAwjqxQIMJXkCoSoxAoQdxQM9kvECUOLxA",
          "dtype": "f4"
         },
         "yaxis": "y"
        }
       ],
       "layout": {
        "height": 500,
        "legend": {
         "title": {
          "text": "Author"
         },
         "tracegroupgap": 0
        },
        "margin": {
         "t": 60
        },
        "template": {
         "data": {
          "bar": [
           {
            "error_x": {
             "color": "#2a3f5f"
            },
            "error_y": {
             "color": "#2a3f5f"
            },
            "marker": {
             "line": {
              "color": "#E5ECF6",
              "width": 0.5
             },
             "pattern": {
              "fillmode": "overlay",
              "size": 10,
              "solidity": 0.2
             }
            },
            "type": "bar"
           }
          ],
          "barpolar": [
           {
            "marker": {
             "line": {
              "color": "#E5ECF6",
              "width": 0.5
             },
             "pattern": {
              "fillmode": "overlay",
              "size": 10,
              "solidity": 0.2
             }
            },
            "type": "barpolar"
           }
          ],
          "carpet": [
           {
            "aaxis": {
             "endlinecolor": "#2a3f5f",
             "gridcolor": "white",
             "linecolor": "white",
             "minorgridcolor": "white",
             "startlinecolor": "#2a3f5f"
            },
            "baxis": {
             "endlinecolor": "#2a3f5f",
             "gridcolor": "white",
             "linecolor": "white",
             "minorgridcolor": "white",
             "startlinecolor": "#2a3f5f"
            },
            "type": "carpet"
           }
          ],
          "choropleth": [
           {
            "colorbar": {
             "outlinewidth": 0,
             "ticks": ""
            },
            "type": "choropleth"
           }
          ],
          "contour": [
           {
            "colorbar": {
             "outlinewidth": 0,
             "ticks": ""
            },
            "colorscale": [
             [
              0,
              "#0d0887"
             ],
             [
              0.1111111111111111,
              "#46039f"
             ],
             [
              0.2222222222222222,
              "#7201a8"
             ],
             [
              0.3333333333333333,
              "#9c179e"
             ],
             [
              0.4444444444444444,
              "#bd3786"
             ],
             [
              0.5555555555555556,
              "#d8576b"
             ],
             [
              0.6666666666666666,
              "#ed7953"
             ],
             [
              0.7777777777777778,
              "#fb9f3a"
             ],
             [
              0.8888888888888888,
              "#fdca26"
             ],
             [
              1,
              "#f0f921"
             ]
            ],
            "type": "contour"
           }
          ],
          "contourcarpet": [
           {
            "colorbar": {
             "outlinewidth": 0,
             "ticks": ""
            },
            "type": "contourcarpet"
           }
          ],
          "heatmap": [
           {
            "colorbar": {
             "outlinewidth": 0,
             "ticks": ""
            },
            "colorscale": [
             [
              0,
              "#0d0887"
             ],
             [
              0.1111111111111111,
              "#46039f"
             ],
             [
              0.2222222222222222,
              "#7201a8"
             ],
             [
              0.3333333333333333,
              "#9c179e"
             ],
             [
              0.4444444444444444,
              "#bd3786"
             ],
             [
              0.5555555555555556,
              "#d8576b"
             ],
             [
              0.6666666666666666,
              "#ed7953"
             ],
             [
              0.7777777777777778,
              "#fb9f3a"
             ],
             [
              0.8888888888888888,
              "#fdca26"
             ],
             [
              1,
              "#f0f921"
             ]
            ],
            "type": "heatmap"
           }
          ],
          "histogram": [
           {
            "marker": {
             "pattern": {
              "fillmode": "overlay",
              "size": 10,
              "solidity": 0.2
             }
            },
            "type": "histogram"
           }
          ],
          "histogram2d": [
           {
            "colorbar": {
             "outlinewidth": 0,
             "ticks": ""
            },
            "colorscale": [
             [
              0,
              "#0d0887"
             ],
             [
              0.1111111111111111,
              "#46039f"
             ],
             [
              0.2222222222222222,
              "#7201a8"
             ],
             [
              0.3333333333333333,
              "#9c179e"
             ],
             [
              0.4444444444444444,
              "#bd3786"
             ],
             [
              0.5555555555555556,
              "#d8576b"
             ],
             [
              0.6666666666666666,
              "#ed7953"
             ],
             [
              0.7777777777777778,
              "#fb9f3a"
             ],
             [
              0.8888888888888888,
              "#fdca26"
             ],
             [
              1,
              "#f0f921"
             ]
            ],
            "type": "histogram2d"
           }
          ],
          "histogram2dcontour": [
           {
            "colorbar": {
             "outlinewidth": 0,
             "ticks": ""
            },
            "colorscale": [
             [
              0,
              "#0d0887"
             ],
             [
              0.1111111111111111,
              "#46039f"
             ],
             [
              0.2222222222222222,
              "#7201a8"
             ],
             [
              0.3333333333333333,
              "#9c179e"
             ],
             [
              0.4444444444444444,
              "#bd3786"
             ],
             [
              0.5555555555555556,
              "#d8576b"
             ],
             [
              0.6666666666666666,
              "#ed7953"
             ],
             [
              0.7777777777777778,
              "#fb9f3a"
             ],
             [
              0.8888888888888888,
              "#fdca26"
             ],
             [
              1,
              "#f0f921"
             ]
            ],
            "type": "histogram2dcontour"
           }
          ],
          "mesh3d": [
           {
            "colorbar": {
             "outlinewidth": 0,
             "ticks": ""
            },
            "type": "mesh3d"
           }
          ],
          "parcoords": [
           {
            "line": {
             "colorbar": {
              "outlinewidth": 0,
              "ticks": ""
             }
            },
            "type": "parcoords"
           }
          ],
          "pie": [
           {
            "automargin": true,
            "type": "pie"
           }
          ],
          "scatter": [
           {
            "fillpattern": {
             "fillmode": "overlay",
             "size": 10,
             "solidity": 0.2
            },
            "type": "scatter"
           }
          ],
          "scatter3d": [
           {
            "line": {
             "colorbar": {
              "outlinewidth": 0,
              "ticks": ""
             }
            },
            "marker": {
             "colorbar": {
              "outlinewidth": 0,
              "ticks": ""
             }
            },
            "type": "scatter3d"
           }
          ],
          "scattercarpet": [
           {
            "marker": {
             "colorbar": {
              "outlinewidth": 0,
              "ticks": ""
             }
            },
            "type": "scattercarpet"
           }
          ],
          "scattergeo": [
           {
            "marker": {
             "colorbar": {
              "outlinewidth": 0,
              "ticks": ""
             }
            },
            "type": "scattergeo"
           }
          ],
          "scattergl": [
           {
            "marker": {
             "colorbar": {
              "outlinewidth": 0,
              "ticks": ""
             }
            },
            "type": "scattergl"
           }
          ],
          "scattermap": [
           {
            "marker": {
             "colorbar": {
              "outlinewidth": 0,
              "ticks": ""
             }
            },
            "type": "scattermap"
           }
          ],
          "scattermapbox": [
           {
            "marker": {
             "colorbar": {
              "outlinewidth": 0,
              "ticks": ""
             }
            },
            "type": "scattermapbox"
           }
          ],
          "scatterpolar": [
           {
            "marker": {
             "colorbar": {
              "outlinewidth": 0,
              "ticks": ""
             }
            },
            "type": "scatterpolar"
           }
          ],
          "scatterpolargl": [
           {
            "marker": {
             "colorbar": {
              "outlinewidth": 0,
              "ticks": ""
             }
            },
            "type": "scatterpolargl"
           }
          ],
          "scatterternary": [
           {
            "marker": {
             "colorbar": {
              "outlinewidth": 0,
              "ticks": ""
             }
            },
            "type": "scatterternary"
           }
          ],
          "surface": [
           {
            "colorbar": {
             "outlinewidth": 0,
             "ticks": ""
            },
            "colorscale": [
             [
              0,
              "#0d0887"
             ],
             [
              0.1111111111111111,
              "#46039f"
             ],
             [
              0.2222222222222222,
              "#7201a8"
             ],
             [
              0.3333333333333333,
              "#9c179e"
             ],
             [
              0.4444444444444444,
              "#bd3786"
             ],
             [
              0.5555555555555556,
              "#d8576b"
             ],
             [
              0.6666666666666666,
              "#ed7953"
             ],
             [
              0.7777777777777778,
              "#fb9f3a"
             ],
             [
              0.8888888888888888,
              "#fdca26"
             ],
             [
              1,
              "#f0f921"
             ]
            ],
            "type": "surface"
           }
          ],
          "table": [
           {
            "cells": {
             "fill": {
              "color": "#EBF0F8"
             },
             "line": {
              "color": "white"
             }
            },
            "header": {
             "fill": {
              "color": "#C8D4E3"
             },
             "line": {
              "color": "white"
             }
            },
            "type": "table"
           }
          ]
         },
         "layout": {
          "annotationdefaults": {
           "arrowcolor": "#2a3f5f",
           "arrowhead": 0,
           "arrowwidth": 1
          },
          "autotypenumbers": "strict",
          "coloraxis": {
           "colorbar": {
            "outlinewidth": 0,
            "ticks": ""
           }
          },
          "colorscale": {
           "diverging": [
            [
             0,
             "#8e0152"
            ],
            [
             0.1,
             "#c51b7d"
            ],
            [
             0.2,
             "#de77ae"
            ],
            [
             0.3,
             "#f1b6da"
            ],
            [
             0.4,
             "#fde0ef"
            ],
            [
             0.5,
             "#f7f7f7"
            ],
            [
             0.6,
             "#e6f5d0"
            ],
            [
             0.7,
             "#b8e186"
            ],
            [
             0.8,
             "#7fbc41"
            ],
            [
             0.9,
             "#4d9221"
            ],
            [
             1,
             "#276419"
            ]
           ],
           "sequential": [
            [
             0,
             "#0d0887"
            ],
            [
             0.1111111111111111,
             "#46039f"
            ],
            [
             0.2222222222222222,
             "#7201a8"
            ],
            [
             0.3333333333333333,
             "#9c179e"
            ],
            [
             0.4444444444444444,
             "#bd3786"
            ],
            [
             0.5555555555555556,
             "#d8576b"
            ],
            [
             0.6666666666666666,
             "#ed7953"
            ],
            [
             0.7777777777777778,
             "#fb9f3a"
            ],
            [
             0.8888888888888888,
             "#fdca26"
            ],
            [
             1,
             "#f0f921"
            ]
           ],
           "sequentialminus": [
            [
             0,
             "#0d0887"
            ],
            [
             0.1111111111111111,
             "#46039f"
            ],
            [
             0.2222222222222222,
             "#7201a8"
            ],
            [
             0.3333333333333333,
             "#9c179e"
            ],
            [
             0.4444444444444444,
             "#bd3786"
            ],
            [
             0.5555555555555556,
             "#d8576b"
            ],
            [
             0.6666666666666666,
             "#ed7953"
            ],
            [
             0.7777777777777778,
             "#fb9f3a"
            ],
            [
             0.8888888888888888,
             "#fdca26"
            ],
            [
             1,
             "#f0f921"
            ]
           ]
          },
          "colorway": [
           "#636efa",
           "#EF553B",
           "#00cc96",
           "#ab63fa",
           "#FFA15A",
           "#19d3f3",
           "#FF6692",
           "#B6E880",
           "#FF97FF",
           "#FECB52"
          ],
          "font": {
           "color": "#2a3f5f"
          },
          "geo": {
           "bgcolor": "white",
           "lakecolor": "white",
           "landcolor": "#E5ECF6",
           "showlakes": true,
           "showland": true,
           "subunitcolor": "white"
          },
          "hoverlabel": {
           "align": "left"
          },
          "hovermode": "closest",
          "mapbox": {
           "style": "light"
          },
          "paper_bgcolor": "white",
          "plot_bgcolor": "#E5ECF6",
          "polar": {
           "angularaxis": {
            "gridcolor": "white",
            "linecolor": "white",
            "ticks": ""
           },
           "bgcolor": "#E5ECF6",
           "radialaxis": {
            "gridcolor": "white",
            "linecolor": "white",
            "ticks": ""
           }
          },
          "scene": {
           "xaxis": {
            "backgroundcolor": "#E5ECF6",
            "gridcolor": "white",
            "gridwidth": 2,
            "linecolor": "white",
            "showbackground": true,
            "ticks": "",
            "zerolinecolor": "white"
           },
           "yaxis": {
            "backgroundcolor": "#E5ECF6",
            "gridcolor": "white",
            "gridwidth": 2,
            "linecolor": "white",
            "showbackground": true,
            "ticks": "",
            "zerolinecolor": "white"
           },
           "zaxis": {
            "backgroundcolor": "#E5ECF6",
            "gridcolor": "white",
            "gridwidth": 2,
            "linecolor": "white",
            "showbackground": true,
            "ticks": "",
            "zerolinecolor": "white"
           }
          },
          "shapedefaults": {
           "line": {
            "color": "#2a3f5f"
           }
          },
          "ternary": {
           "aaxis": {
            "gridcolor": "white",
            "linecolor": "white",
            "ticks": ""
           },
           "baxis": {
            "gridcolor": "white",
            "linecolor": "white",
            "ticks": ""
           },
           "bgcolor": "#E5ECF6",
           "caxis": {
            "gridcolor": "white",
            "linecolor": "white",
            "ticks": ""
           }
          },
          "title": {
           "x": 0.05
          },
          "xaxis": {
           "automargin": true,
           "gridcolor": "white",
           "linecolor": "white",
           "ticks": "",
           "title": {
            "standoff": 15
           },
           "zerolinecolor": "white",
           "zerolinewidth": 2
          },
          "yaxis": {
           "automargin": true,
           "gridcolor": "white",
           "linecolor": "white",
           "ticks": "",
           "title": {
            "standoff": 15
           },
           "zerolinecolor": "white",
           "zerolinewidth": 2
          }
         }
        },
        "title": {
         "text": "UMAP Projection of Word Embeddings by Author"
        },
        "width": 800,
        "xaxis": {
         "anchor": "y",
         "domain": [
          0,
          1
         ],
         "title": {
          "text": "UMAP 1"
         }
        },
        "yaxis": {
         "anchor": "x",
         "domain": [
          0,
          1
         ],
         "title": {
          "text": "UMAP 2"
         }
        }
       }
      }
     },
     "metadata": {},
     "output_type": "display_data"
    }
   ],
   "source": [
    "umap_df = pd.DataFrame(proj, columns=['UMAP 1', 'UMAP 2'])\n",
    "umap_df['Author'] = labels\n",
    "umap_df['Text'] = [snip for auth in act_snippets for snip in act_snippets[auth]]\n",
    "umap_df['Text'] = umap_df['Text'].apply(lambda t: wrap_text(t, width=60))\n",
    "\n",
    "fig = px.scatter(umap_df, x='UMAP 1', y='UMAP 2', \n",
    "                 color='Author', hover_data=['Text'], \n",
    "                 width=800, height=500 )\n",
    "fig.update_traces(marker=dict(size=5))\n",
    "fig.update_layout(title='UMAP Projection of Word Embeddings by Author')\n",
    "fig.show()"
   ]
  },
  {
   "cell_type": "code",
   "execution_count": 40,
   "id": "16964286",
   "metadata": {},
   "outputs": [
    {
     "name": "stdout",
     "output_type": "stream",
     "text": [
      "Top 10 most similar sentences to Crease's mean embedding:\n",
      "\n",
      "Author: Crease\n",
      "Sentence: The Act is found associated with another Act now disallowed, the express object of which is to\n",
      "prevent the Chinese altogether from coming to this country, and the principle \"noscitur a sociis\" is\n",
      "kept up by the preamble of the present Act, which describes the Chinese in terms which, I venture to\n",
      "think, have never before in any other country found a place in an Act of Parliament.\n",
      "Similarity Score: 0.8849\n",
      "\n",
      "Author: Crease\n",
      "Sentence: The grounds alleged by the Health Officer for this arbitrary treatment is “that China is an infected\n",
      "locality,” and all persons coming from China and especially in this instance Hongkong, and\n",
      "especially also the natives of China, come from an infected locality, and that he has that authority\n",
      "under the Health By-Law, 1893, which was passed at the time of the small pox panic in Victoria, and,\n",
      "in all he did, was simply doing his duty.\n",
      "Similarity Score: 0.8538\n",
      "\n",
      "Author: Crease\n",
      "Sentence: In the case of the Chinese treaties, they were forced at the point of the bayonet on China, to\n",
      "obtain a right for us to enter China, and in return for a similar permission to us, full permission\n",
      "was given for the Chinese to trade and reside in British dominions everywhere.\n",
      "Similarity Score: 0.8536\n",
      "\n",
      "Author: Crease\n",
      "Sentence: His duty was, if he considered the Empress of China came from \"an infected locality,\" at once to go\n",
      "on board the suspected vessel and make his examination and inspection on board the vessel (as\n",
      "Section 32 says), \"before any luggage, freight or other thing is landed or allowed to be landed.\"\n",
      "Similarity Score: 0.8519\n",
      "\n",
      "Author: Crease\n",
      "Sentence: Opponents to the Act might as well contend the exclusion of the Chinese from the franchise, and\n",
      "barring them from acquiring lands, was illegal.\n",
      "Similarity Score: 0.8483\n",
      "\n",
      "Author: Crease\n",
      "Sentence: Every person of Chinese origin, whether naturalized in Hong Kong or America, or any other State with\n",
      "which we are at amity, so long as they are of Chinese origin, 14 years of age—every one without\n",
      "distinction—must take out a license.\n",
      "Similarity Score: 0.8457\n",
      "\n",
      "Author: Crease\n",
      "Sentence: Thereupon the present action was brought to test if and how far Chinamen are to be treated, when\n",
      "they land on our shores, differently from other foreigners.\n",
      "Similarity Score: 0.8422\n",
      "\n",
      "Author: Crease\n",
      "Sentence: In the treaties of 1858 and 1860, made at the solicitation of Great Britain, the Emperor of China\n",
      "was induced to give permission to his subjects to go and trade and reside \"in British Colonies,\" and\n",
      "to enter into \"engagements with British subjects for that purpose.\"\n",
      "Similarity Score: 0.8407\n",
      "\n",
      "Author: Crease\n",
      "Sentence: In other words, every Chinese is guilty until proved innocent—a provision which fills one conversant\n",
      "with subjects with alarm; for if such a law can be tolerated as against Chinese, the precedent is\n",
      "set, and in time of any popular outcry can easily be acted on for putting any other foreigners or\n",
      "even special classes among ourselves, as coloured people, or French, Italians, Americans, or\n",
      "Germans, under equally the same law.\n",
      "Similarity Score: 0.8401\n",
      "\n",
      "Author: Crease\n",
      "Sentence: He had no opinion to express as to the British possession of Hongkong; but it was a portion of\n",
      "China, where small pox was always, in a sense, \"endemic.\"\n",
      "Similarity Score: 0.8387\n",
      "\n"
     ]
    }
   ],
   "source": [
    "# Print out the 10 most similar embedding sentences to Crease's mean embedding\n",
    "crease_similarity_df = pd.DataFrame(columns=['Author', 'Text', 'Similarity Score'])\n",
    "\n",
    "# Iterate through the embeddings and their corresponding sentences\n",
    "for auth, snippets in act_snippets.items():\n",
    "    for snippet, emb in zip(snippets, embeddings_dict[auth]):\n",
    "        similarity = cosine_similarity(emb.reshape(1, -1), mean_crease)[0][0]\n",
    "        crease_similarity_df.loc[len(crease_similarity_df)] = [\n",
    "            auth, snippet, similarity\n",
    "        ]\n",
    "        \n",
    "# Sort by similarity score\n",
    "crease_sorted_similarity = crease_similarity_df.sort_values(by='Similarity Score', ascending=False)\n",
    "\n",
    "print(\"Top 10 most similar sentences to Crease's mean embedding:\\n\")\n",
    "for _, row in crease_sorted_similarity.head(10).iterrows():\n",
    "    wrapped_para = textwrap.fill(row['Text'], width=100)\n",
    "    print(f\"Author: {row['Author']}\\nSentence: {wrapped_para}\\nSimilarity Score: {row['Similarity Score']:.4f}\\n\")"
   ]
  },
  {
   "cell_type": "code",
   "execution_count": 41,
   "id": "3c773236",
   "metadata": {},
   "outputs": [
    {
     "name": "stdout",
     "output_type": "stream",
     "text": [
      "Top 10 most similar sentences to the Regulation Act's mean embedding:\n",
      "\n",
      "Author: Act 1884\n",
      "Sentence: In case any employer of Chinese fails to deliver to the Collector the list mentioned in the\n",
      "preceding section, when required so to do, or knowingly states anything falsely therein, such\n",
      "employer shall, on complaint of the Collector and upon conviction before a Justice of the Peace\n",
      "having jurisdiction within the district wherein such employer carries on his business, forfeit and\n",
      "pay a fine not exceeding one hundred dollars for every Chinese in his employ, to be recovered by\n",
      "distress of the goods and chattels of such employer failing to pay the same, or in lieu thereof\n",
      "shall be liable to imprisonment for a period not less than one month and not exceeding two calendar\n",
      "months.\n",
      "Similarity Score: 0.9057\n",
      "\n",
      "Author: Act 1884\n",
      "Sentence: It shall be unlawful for any person to employ any Chinese who has not in his possession the licence\n",
      "required by this Act, and any person guilty of an infraction of the provisions of this section shall\n",
      "forfeit and pay a fine not exceeding fifty dollars for every Chinese so employed.\n",
      "Similarity Score: 0.9038\n",
      "\n",
      "Author: Act 1884\n",
      "Sentence: The Toll Collector at any and every toll gate which may exist in the Province from time to time,\n",
      "shall, before allowing any Chinese to pass through any toll gate, demand from such Chinese the\n",
      "production of his licence, and, until the same is produced, such Chinese shall not be allowed to\n",
      "proceed through the toll gate.\n",
      "Similarity Score: 0.8981\n",
      "\n",
      "Author: Crease\n",
      "Sentence: By Sec.”   Section 9.”  Section 10 gives the collector power to “levy the amount of the license from\n",
      "any Chinese not being in lawful possession of a license, “with costs, by distress of his goods and\n",
      "chattels, or of any goods and “chattels which may be in the possession of the delinquent, or which\n",
      "“may be upon or in any premises (whether the goods of the delin- “quent or not) for the time being\n",
      "in the possession or occupation of “such delinquent Chinese,” and declares that “for the purposes of\n",
      "this “section premises shall be deemed to be in the possession or occupa- “tion of any Chinese when\n",
      "it can be shown to the satisfaction of the “tribunal having cognizance of the matter (a) that such\n",
      "Chinese “habitually frequents such premises with the assent of the owner ; “(b) that he is the owner\n",
      "or one of the owners of the premises, or has “control, either alone or jointly, with another or\n",
      "others, of such pre- “mises or some part thereof; (c) that he has passed the night or slept “upon\n",
      "such premises at any time within a week of the levy, it shall “be sufficient authority for the\n",
      "collector to levy as aforesaid on the “non-production of the license.\n",
      "Similarity Score: 0.8811\n",
      "\n",
      "Author: Crease\n",
      "Sentence: Section 3—with which we are immediately concerned—says:—\"From and after the passage of this Act\n",
      "there shall be payable and \"paid by every Chinese in British Columbia, above the age of fourteen\n",
      "years, unto and for the use of Her Majesty, her heirs and successors, the sum of ten dollars, and\n",
      "thereafter on the 1st day of June in \"each and every year there shall be likewise payable and paid\n",
      "by such \"Chinese person a further sum of ten dollars.\"\n",
      "Similarity Score: 0.8802\n",
      "\n",
      "Author: Act 1884\n",
      "Sentence: Any Chinese who shall be found mining for gold and precious metals, or following the ordinary\n",
      "occupation of a free miner, whether on his own account or for others, without having in his\n",
      "possession a free miner’s certificate, lawfully issued to him subsequently to the passage of this\n",
      "Act, and any person who shall employ any Chinese in and about gold mining who has not in his\n",
      "possession such a certificate, shall forfeit and pay a sum not exceeding thirty dollars.\n",
      "Similarity Score: 0.8748\n",
      "\n",
      "Author: Act 1884\n",
      "Sentence: The sum payable by a Chinese for a free miner’s certificate shall be fifteen dollars for each year\n",
      "during which the same is to be in force instead of five dollars, as by the present mining laws\n",
      "provided, and no free miner’s certificate shall hereafter be issued to any Chinese except upon\n",
      "payment of the said sum of fifteen dollars.\n",
      "Similarity Score: 0.8740\n",
      "\n",
      "Author: Act 1884\n",
      "Sentence: From and after the passage of this Act there shall be payable and paid by every Chinese in British\n",
      "Columbia, above the age of fourteen years, unto and for the use of Her Majesty, Her heirs and\n",
      "successors, the sum of ten dollars, and thereafter on the 1st day of June in each and every year\n",
      "there shall be likewise payable and paid by such Chinese person a further sum of ten dollars.\n",
      "Similarity Score: 0.8739\n",
      "\n",
      "Author: Act 1884\n",
      "Sentence: The Collector may, by himself or his agent, levy the amount of the licence from any Chinese not\n",
      "being in lawful possession of a licence, with costs, by distress of his goods and chattels, or of\n",
      "any goods and chattels which may be in the possession of the delinquent, or which may be upon or in\n",
      "any premises (whether the goods of the delinquent or not) for the time being in the possession or\n",
      "occupation of such delinquent Chinese, and for the purposes of this section premises shall be deemed\n",
      "to be in the possession or occupation of any Chinese when it can be shewn to the satisfaction of the\n",
      "tribunal having cognizance of the matter—  (a.)\n",
      "Similarity Score: 0.8695\n",
      "\n",
      "Author: Act 1884\n",
      "Sentence: Every employer of Chinese shall furnish to the Collector, when requested by him so to do, from time\n",
      "to time, a list of all Chinese in his employ, or indirectly employed by him; but no such statement\n",
      "shall bind the Collector, nor shall excuse him from making due enquiry to ascertain its correctness.\n",
      "Similarity Score: 0.8598\n",
      "\n"
     ]
    }
   ],
   "source": [
    "# Print out the 10 most similar embedding sentences to the Regulation Act's mean embedding\n",
    "\n",
    "regulation_similarity_df = pd.DataFrame(columns=['Author', 'Text', 'Similarity Score'])\n",
    "\n",
    "# Iterate through the embeddings and their corresponding sentences\n",
    "for auth, snippets in act_snippets.items():\n",
    "    for snippet, emb in zip(snippets, embeddings_dict[auth]):\n",
    "        similarity = cosine_similarity(emb.reshape(1, -1), mean_act_1884)[0][0]\n",
    "        regulation_similarity_df.loc[len(regulation_similarity_df)] = [\n",
    "            auth, snippet, similarity\n",
    "        ]\n",
    "        \n",
    "# Sort by similarity score\n",
    "regulation_sorted_similarity = regulation_similarity_df.sort_values(by='Similarity Score', ascending=False)\n",
    "\n",
    "print(\"Top 10 most similar sentences to the Regulation Act's mean embedding:\\n\")\n",
    "for _, row in regulation_sorted_similarity.head(10).iterrows():\n",
    "    wrapped_para = textwrap.fill(row['Text'], width=100)\n",
    "    print(f\"Author: {row['Author']}\\nSentence: {wrapped_para}\\nSimilarity Score: {row['Similarity Score']:.4f}\\n\")"
   ]
  },
  {
   "cell_type": "markdown",
   "id": "34c41802",
   "metadata": {},
   "source": [
    "### Zero-shot Stance Classification with legal-BERT"
   ]
  },
  {
   "cell_type": "code",
   "execution_count": 42,
   "id": "ca333b38",
   "metadata": {},
   "outputs": [],
   "source": [
    "# Create the full snippets dictionary\n",
    "act_1884_full = \" \".join(act_1884)\n",
    "crease_cases_full = \" \".join(crease_cases)\n",
    "begbie_cases_full = \" \".join(begbie_cases)"
   ]
  },
  {
   "cell_type": "code",
   "execution_count": 43,
   "id": "47d5c643",
   "metadata": {},
   "outputs": [],
   "source": [
    "full_cases = {\"act_1884\": act_1884_full, \"crease\": crease_cases_full, \"begbie\": begbie_cases_full}\n",
    "\n",
    "full_snippets = {}\n",
    "for author, text in full_cases.items():\n",
    "    sentence = sent_tokenize(text)\n",
    "    full_snippets[author] = sentence"
   ]
  },
  {
   "cell_type": "code",
   "execution_count": 44,
   "id": "953f22e0",
   "metadata": {},
   "outputs": [
    {
     "data": {
      "text/plain": [
       "(71, 345, 259)"
      ]
     },
     "execution_count": 44,
     "metadata": {},
     "output_type": "execute_result"
    }
   ],
   "source": [
    "len(full_snippets[\"act_1884\"]), len(full_snippets[\"crease\"]), len(full_snippets[\"begbie\"])"
   ]
  },
  {
   "cell_type": "code",
   "execution_count": 45,
   "id": "0cc160c7",
   "metadata": {},
   "outputs": [
    {
     "name": "stdout",
     "output_type": "stream",
     "text": [
      "WARNING:tensorflow:From c:\\Users\\Kaiyan Zhang\\AppData\\Local\\Programs\\Python\\Python312\\Lib\\site-packages\\tf_keras\\src\\losses.py:2976: The name tf.losses.sparse_softmax_cross_entropy is deprecated. Please use tf.compat.v1.losses.sparse_softmax_cross_entropy instead.\n",
      "\n"
     ]
    },
    {
     "name": "stderr",
     "output_type": "stream",
     "text": [
      "Device set to use cpu\n"
     ]
    }
   ],
   "source": [
    "# Create pipeline for zero-shot classification\n",
    "from transformers import pipeline\n",
    "\n",
    "zero_shot = pipeline(\n",
    "    \"zero-shot-classification\",\n",
    "    model=\"facebook/bart-large-mnli\",\n",
    "    tokenizer=\"facebook/bart-large-mnli\",\n",
    "    hypothesis_template=\"This legal text {}.\"\n",
    ")\n",
    "\n",
    "labels = [\n",
    "    \"advocates for equal legal treatment of Chinese immigrants compared to white or European settlers, opposing racial discrimination\",\n",
    "    \"describes the status or treatment of Chinese immigrants without expressing support or opposition to racial inequality\",\n",
    "    \"justifies or reinforces unequal legal treatment of Chinese immigrants relative to white or European settlers, supporting racially discriminatory policies\"\n",
    "]\n",
    "\n",
    "def get_scores(snippet):\n",
    "    out = zero_shot(snippet, candidate_labels=labels)\n",
    "    return dict(zip(out[\"labels\"], out[\"scores\"]))"
   ]
  },
  {
   "cell_type": "code",
   "execution_count": 46,
   "id": "0f3fc9f4",
   "metadata": {},
   "outputs": [
    {
     "name": "stdout",
     "output_type": "stream",
     "text": [
      "Mean scores by author:\n",
      "               Pro   Neutral      Cons\n",
      "Author                                \n",
      "act_1884  0.333847  0.212020  0.454132\n",
      "begbie    0.311255  0.293723  0.395023\n",
      "crease    0.279803  0.275567  0.444630\n"
     ]
    }
   ],
   "source": [
    "# Run zero-shot classification on the snippets from the Chinese Regulation Act 1884\n",
    "act_scores = {}\n",
    "\n",
    "for auth, snippets in full_snippets.items():\n",
    "    scores = []\n",
    "    for snip in snippets:\n",
    "        score = get_scores(snip)\n",
    "        scores.append(score)\n",
    "    act_scores[auth] = scores\n",
    "\n",
    "rows = []\n",
    "\n",
    "for auth, snippets in full_snippets.items():\n",
    "    for snip, score_dict in zip(snippets, act_scores[auth]):\n",
    "        row = {\n",
    "            \"Author\": auth,\n",
    "            \"Text\": snip,\n",
    "            \"Pro\": score_dict[labels[0]],\n",
    "            \"Neutral\": score_dict[labels[1]],\n",
    "            \"Cons\": score_dict[labels[2]]\n",
    "        }\n",
    "        rows.append(row)\n",
    "\n",
    "# Create long-form DataFrame\n",
    "df_scores = pd.DataFrame(rows)\n",
    "\n",
    "# Group by author and calculate mean scores\n",
    "mean_scores = df_scores.groupby(\"Author\")[[\"Pro\", \"Neutral\", \"Cons\"]].mean()\n",
    "\n",
    "print(\"Mean scores by author:\")\n",
    "print(mean_scores)\n"
   ]
  },
  {
   "cell_type": "code",
   "execution_count": 47,
   "id": "1c78adcf",
   "metadata": {},
   "outputs": [
    {
     "data": {
      "application/vnd.plotly.v1+json": {
       "config": {
        "plotlyServerURL": "https://plot.ly"
       },
       "data": [
        {
         "customdata": [
          [
           "An Act to regulate the Chinese population of<br>British Columbia."
          ],
          [
           "[18th February, 1884.]"
          ],
          [
           "WHEREAS the incoming of Chinese to British<br>Columbia largely exceeds that of any other class<br>of immigrant, and the population so introduced are<br>fast becoming superior in number to our own race;<br>are not disposed to be governed by our laws; are<br>dissimilar in habits and occupation from our<br>people; evade the payment of taxes justly due to<br>the Government; are governed by pestilential<br>habits; are useless in instances of emergency;<br>habitually desecrate grave yards by the removal of<br>bodies therefrom; and generally the laws governing<br>the whites are found to be inapplicable to<br>Chinese, and such Chinese are inclined to habits<br>subversive of the comfort and well-being of the<br>community:  And whereas it is expedient to pass<br>special laws for the Government of Chinese:<br>Therefore, Her Majesty, by and with the advice and<br>consent of the Legislative Assembly of the<br>Province of British Columbia, enacts as follows:—<br>1."
          ],
          [
           "This Act shall be cited as the \"Chinese Regulation<br>Act, 1884.\""
          ],
          [
           "2."
          ],
          [
           "The term \"Chinese\" wherever used in this Act shall<br>mean any native of the Chinese Empire or its<br>dependencies not born of British parents, and<br>shall include any person of the Chinese race."
          ],
          [
           "3."
          ],
          [
           "From and after the passage of this Act there shall<br>be payable and paid by every Chinese in British<br>Columbia, above the age of fourteen years, unto<br>and for the use of Her Majesty, Her heirs and<br>successors, the sum of ten dollars, and thereafter<br>on the 1st day of June in each and every year<br>there shall be likewise payable and paid by such<br>Chinese person a further sum of ten dollars."
          ],
          [
           "4."
          ],
          [
           "The Lieutenant-Governor in Council shall<br>immediately upon the passage of this Act, and from<br>time to time thereafter as occasion may require,<br>appoint in each electoral district, one or more<br>person or persons to be called Chinese Collectors,<br>to collect and receive such payments from Chinese,<br>and such Collector or Collectors immediately upon<br>such payment shall issue and deliver to the person<br>paying the same a licence in the form contained in<br>the Schedule hereto, and the Lieutenant-Governor<br>in Council may require from the Collectors so to<br>be appointed such security as he may see fit and<br>may allow them such percentage upon the amount of<br>collections as may seem reasonable and just, and<br>the Lieutenant-Governor in Council may further<br>allow such additional sum by way of expenses as<br>may be necessary and reasonable for the purpose of<br>carrying out the provisions of this Act."
          ],
          [
           "5."
          ],
          [
           "Any Chinese who shall be found within the Province<br>not having in his possession a licence issued<br>under the provisions of this Act, lawfully issued<br>to him, shall on conviction thereof forfeit and<br>pay a sum not exceeding forty dollars."
          ],
          [
           "6."
          ],
          [
           "Any Collector or Government servant wilfully<br>disobeying any of the provisions of this Act shall<br>forfeit and pay a sum not exceeding one hundred<br>dollars."
          ],
          [
           "7."
          ],
          [
           "Every Collector shall collect the tax from each<br>Chinese, and shall as soon afterwards as may be<br>pay over the amount to the Officer in charge of<br>the Treasury, or to such other person as the<br>Lieutenant-Governor in Council may from time to<br>time direct."
          ],
          [
           "8."
          ],
          [
           "Every employer of Chinese shall furnish to the<br>Collector, when requested by him so to do, from<br>time to time, a list of all Chinese in his employ,<br>or indirectly employed by him; but no such<br>statement shall bind the Collector, nor shall<br>excuse him from making due enquiry to ascertain<br>its correctness."
          ],
          [
           "9."
          ],
          [
           "In case any employer of Chinese fails to deliver<br>to the Collector the list mentioned in the<br>preceding section, when required so to do, or<br>knowingly states anything falsely therein, such<br>employer shall, on complaint of the Collector and<br>upon conviction before a Justice of the Peace<br>having jurisdiction within the district wherein<br>such employer carries on his business, forfeit and<br>pay a fine not exceeding one hundred dollars for<br>every Chinese in his employ, to be recovered by<br>distress of the goods and chattels of such<br>employer failing to pay the same, or in lieu<br>thereof shall be liable to imprisonment for a<br>period not less than one month and not exceeding<br>two calendar months."
          ],
          [
           "10."
          ],
          [
           "The Collector may, by himself or his agent, levy<br>the amount of the licence from any Chinese not<br>being in lawful possession of a licence, with<br>costs, by distress of his goods and chattels, or<br>of any goods and chattels which may be in the<br>possession of the delinquent, or which may be upon<br>or in any premises (whether the goods of the<br>delinquent or not) for the time being in the<br>possession or occupation of such delinquent<br>Chinese, and for the purposes of this section<br>premises shall be deemed to be in the possession<br>or occupation of any Chinese when it can be shewn<br>to the satisfaction of the tribunal having<br>cognizance of the matter—  (a.)"
          ],
          [
           "That such Chinese habitually frequents such<br>premises with the assent of the owner."
          ],
          [
           "(b.)"
          ],
          [
           "That he is the owner or one of the owners of the<br>premises, or has control either alone or jointly<br>with another or others of such premises or some<br>part thereof."
          ],
          [
           "(c.) That he has passed the night or slept upon<br>such premises at any time within a week of the<br>levy."
          ],
          [
           "It shall be sufficient authority for the Collector<br>to levy as aforesaid on the non-production of the<br>licence."
          ],
          [
           "Proof of the lawful possession of such receipt<br>shall lie on the person whose goods are<br>distrained."
          ],
          [
           "11."
          ],
          [
           "Every employer of Chinese shall demand from every<br>such Licence to be demanded by employer and<br>retained during the service."
          ],
          [
           "Chinese in his employ his licence, and shall<br>retain the same in his possession during the time<br>such Chinese is in his employ, and shall return<br>the same to him when he leaves his service; and<br>every employer as aforesaid shall produce to the<br>Collector, whenever required so to do, such<br>licence for his inspection."
          ],
          [
           "12."
          ],
          [
           "The Toll Collector at any and every toll gate<br>which may exist in the Province from time to time,<br>shall, before allowing any Chinese to pass through<br>any toll gate, demand from such Chinese the<br>production of his licence, and, until the same is<br>produced, such Chinese shall not be allowed to<br>proceed through the toll gate."
          ],
          [
           "13."
          ],
          [
           "It shall be unlawful for any person to employ any<br>Chinese who has not in his possession the licence<br>required by this Act, and any person guilty of an<br>infraction of the provisions of this section shall<br>forfeit and pay a fine not exceeding fifty dollars<br>for every Chinese so employed."
          ],
          [
           "14."
          ],
          [
           "The sum payable by a Chinese for a free miner’s<br>certificate shall be fifteen dollars for each year<br>during which the same is to be in force instead of<br>five dollars, as by the present mining laws<br>provided, and no free miner’s certificate shall<br>hereafter be issued to any Chinese except upon<br>payment of the said sum of fifteen dollars."
          ],
          [
           "15."
          ],
          [
           "Any Chinese who shall be found mining for gold and<br>precious metals, or following the ordinary<br>occupation of a free miner, whether on his own<br>account or for others, without having in his<br>possession a free miner’s certificate, lawfully<br>issued to him subsequently to the passage of this<br>Act, and any person who shall employ any Chinese<br>in and about gold mining who has not in his<br>possession such a certificate, shall forfeit and<br>pay a sum not exceeding thirty dollars."
          ],
          [
           "16."
          ],
          [
           "Sub-section (i.)"
          ],
          [
           "of the Schedule A to the “Licences Ordinance,<br>1867,” is hereby amended by adding thereto the<br>following words: “but no licence shall be issued<br>to any Chinese.”  17."
          ],
          [
           "Without the permission in writing of the<br>Provincial Secretary or Government Agent of the<br>district or place where the permission is sought<br>it shall be unlawful to remove the remains of any<br>dead Chinese from any cemetery or place where such<br>dead Chinese may have been interred, or to exhume<br>the bodies or remains of any dead Chinese, and any<br>person guilty of an infraction of this section<br>shall forfeit and pay a sum not exceeding one<br>hundred dollars."
          ],
          [
           "18."
          ],
          [
           "The use of opium (except for medicinal or surgical<br>purposes) is hereby prohibited, and any person who<br>shall use or consume, or have in his possession<br>any opium, except for the purposes aforesaid,<br>shall forfeit and pay a penalty not exceeding one<br>hundred dollars, and the onus of proof shall lie<br>upon the party charged of showing that such opium<br>was used, or consumed, or in his possession for<br>medicinal or surgical purposes."
          ],
          [
           "19."
          ],
          [
           "Any pecuniary penalty by this Act imposed may be<br>sued for and recovered in a summary way before any<br>Justice of the Peace having jurisdiction in the<br>locality where the charge is made, and in default<br>of immediate payment of any such penalty the same<br>may be recovered by distress and sale of the goods<br>of the offender, and failing sufficient distress,<br>the offender shall suffer a term of imprisonment<br>not exceeding three calendar months."
          ],
          [
           "20."
          ],
          [
           "No conviction for any offence shall be quashed for<br>want of form, and no conviction shall be removed<br>into any of Her Majesty’s Courts by certiorari or<br>reviewed in any manner, except by appeal in manner<br>hereinafter stated, that is to say: Any Chinese<br>convicted of an offence against the provisions of<br>this Act may appeal to the County Court nearest to<br>the place of conviction, provided he shall, within<br>four days after such conviction, have given notice<br>in writing to the convicting Magistrate of his<br>intention to appeal, and shall have furnished<br>security in the sum of one hundred dollars,<br>conditioned to abide by the decision of the<br>appellate Court, and shall have also deposited<br>with the convicting Magistrate a sum of money<br>sufficient in the opinion of such Magistrate to<br>pay the costs and expenses of a jury to try such<br>appeal, and such appeal shall be heard and tried<br>before the County Court, with or without a jury of<br>five, at the option of the parties, and<br>notwithstanding any defect in the proceedings, the<br>appeal shall be heard and decided on the merits,<br>and if the conviction be affirmed the appellant<br>shall be punished according to the conviction, and<br>shall pay the costs of the appeal, and if the<br>appeal be allowed, it shall be lawful for the<br>Lieutenant-Governor in Council to issue his<br>warrant to the Treasurer for the repayment to the<br>appellant of the money paid by him for jury<br>process."
          ],
          [
           "21."
          ],
          [
           "Any Chinese who shall lend his licence or free<br>miner’s certificate to another Chinese, and any<br>Chinese who shall utter or pass off upon any<br>Collector or other person any licence or free<br>miner’s certificate other than his own, with<br>intent himself to avoid payment of the licence fee<br>payable under this Act, (and the onus of proving<br>that such was not his intent, shall rest upon the<br>person charged), shall forfeit and pay a penalty<br>of not less than twenty dollars nor more than one<br>hundred dollars."
          ],
          [
           "22."
          ],
          [
           "The tribunal having cognizance of any matter under<br>the provisions of this Act may decide, upon its<br>own view and judgment, whether any person is a<br>Chinese, and whether any person found by the Court<br>to be a Chinese be of the age of fourteen years."
          ],
          [
           "23."
          ],
          [
           "It shall not be lawful to let or occupy, or suffer<br>to be occupied as a dwelling, any room unless the<br>following requirements are complied with, that is<br>to say:—  (a.)"
          ],
          [
           "Unless such room contains at all times at least<br>384 cubic feet of space for each person occupying<br>the same:  (b.)"
          ],
          [
           "Unless such room has a window, made to open, at<br>least two feet square."
          ],
          [
           "24."
          ],
          [
           "Any person who lets, occupies, or knowingly<br>suffers to be occupied, any room contrary to the<br>provisions of section 23, shall be liable for<br>every offence to a penalty not exceeding fifty<br>dollars."
          ],
          [
           "25."
          ],
          [
           "Any room in which any person passes the night<br>shall be deemed to be occupied as a dwelling<br>within the meaning of this Act."
          ],
          [
           "26."
          ],
          [
           "The Lieutenant-Governor in Council may, by any<br>general regulation, direct that any persons<br>imprisoned in respect of any infraction against<br>the provisions of this Act shall be worked and<br>employed at such places and on such public works,<br>or local works for the public benefit or<br>convenience, and may make such rules and<br>regulations, and may alter or annul the same, for<br>the safe custody, control, and general management<br>of such prisoners, as the said Lieutenant-Governor<br>may from time to time deem advisable."
          ],
          [
           "27."
          ],
          [
           "The Lieutenant-Governor in Council may also make<br>such rules and regulations, not inconsistent<br>herewith, as may from time to time appear<br>necessary for carrying out the true intent and<br>meaning of this Act."
          ],
          [
           "28."
          ],
          [
           "For the purpose of any proceeding taken under the<br>provisions of this Act, the burden shall lie on<br>the defendant of proving that he is exempt from<br>the operation of any of its provisions, and it<br>shall not be necessary in any information,<br>summons, or conviction, or other document, to<br>state or negative any exception in or exemption<br>under this Act or in contemplation of law."
          ],
          [
           "29."
          ],
          [
           "This Act shall not come into operation until one<br>year from the passage hereof."
          ],
          [
           "30."
          ],
          [
           "This Act may be cited as the \"Chinese Regulation<br>Act, 1884.\""
          ]
         ],
         "hovertemplate": "Author=act_1884<br>Pro=%{x}<br>Cons=%{y}<br>Text=%{customdata[0]}<extra></extra>",
         "legendgroup": "act_1884",
         "marker": {
          "color": "#636efa",
          "size": 5,
          "symbol": "circle"
         },
         "mode": "markers",
         "name": "act_1884",
         "orientation": "v",
         "showlegend": true,
         "type": "scatter",
         "x": {
          "bdata": "AAAAIM2rxD8AAADAzGjYPwAAACD5irQ/AAAAQE/U0j8AAABgd+HWPwAAAOBRwdI/AAAA4Is91z8AAAAguMTUPwAAAKB9M9c/AAAAgCNM1z8AAACgPC/XPwAAAMAGQsk/AAAAQHEe1z8AAADAFY/dPwAAAOAZrNc/AAAAAKn4xD8AAABgjwLXPwAAACCoytU/AAAAQM7n1z8AAADAhy3GPwAAAABKGNk/AAAAIEX2yT8AAACgvlHBPwAAAGBJUNk/AAAAgB/u1z8AAACAH2vVPwAAAMBOx9E/AAAAwAu92D8AAADg5lDYPwAAACD5rNc/AAAAQNIZ2D8AAAAg50/YPwAAAIA0xdE/AAAAIAAt2j8AAADAcLnOPwAAACB+gtk/AAAAIEdH0D8AAABgEpLYPwAAACBxk9M/AAAAwAYh2D8AAAAgZNjXPwAAACAx38E/AAAAwN9F0j8AAAAg+wXZPwAAACDdddA/AAAA4J/V2D8AAAAASgLWPwAAAICz29g/AAAA4Mn02D8AAACAd7DZPwAAAMDB59U/AAAAQINJ2D8AAABAmZ3UPwAAACDk+tg/AAAAgGNi1z8AAADAoPrYPwAAACCEsdI/AAAA4A1B2j8AAABAy1HTPwAAAKAumNk/AAAAoKIQ1z8AAADATf3ZPwAAAMD5/s8/AAAAgOq22D8AAABAY/fcPwAAAOCq8Ng/AAAA4Fld0z8AAAAA257YPwAAAEC38Nk/AAAAQD4o2D8AAADAl7fOPw==",
          "dtype": "f8"
         },
         "xaxis": "x",
         "y": {
          "bdata": "AAAAQEjU5T8AAADglgPYPwAAAMCm1uo/AAAAQHLN4z8AAACAp4nZPwAAACBc+9g/AAAAgKHL2T8AAADAv1jjPwAAAOATNdo/AAAAoCSX4T8AAADgRfHXPwAAAEByheY/AAAAgN5q2D8AAAAAXT3VPwAAAACv2Nc/AAAAYOi85z8AAADgShbYPwAAACBxLNw/AAAAwP/H1j8AAAAAt+3nPwAAAIDV3tY/AAAA4KhR5z8AAACA5FjcPwAAAIDw9Nc/AAAAgLxI1D8AAACAX13VPwAAAOCWZeE/AAAAAOvF2j8AAAAgmOfVPwAAAIBprN8/AAAAYMsU4D8AAADgZinWPwAAACClOeQ/AAAAgG7b1T8AAADAvxrmPwAAAABvUtY/AAAAYFcy5T8AAAAAhjDXPwAAAABKA+M/AAAAAH3E1j8AAACgjCTXPwAAAGCyx+Q/AAAAAItL4j8AAADADHnWPwAAAOAeVt8/AAAAIH4k1j8AAACAvNzaPwAAAGAco9Y/AAAAIHZG3z8AAAAgRevVPwAAAMDM3uA/AAAAQI3E1T8AAABgQ1XhPwAAAMCFCNU/AAAAYAXx2D8AAAAgM7HRPwAAAOBfxts/AAAAANl31D8AAAAgrOzbPwAAAGAFlNU/AAAAQBCB3D8AAADAZu7VPwAAAEBJwuI/AAAAQG4h1z8AAACgEdXTPwAAAEBfu9Y/AAAAYHM83z8AAAAAR6XVPwAAAOApPto/AAAAoH+p1T8AAAAg/aDlPw==",
          "dtype": "f8"
         },
         "yaxis": "y"
        },
        {
         "customdata": [
          [
           "CREASE, J."
          ],
          [
           "1885."
          ],
          [
           "REGINA v. WING CHONG."
          ],
          [
           "14th & 15th July, Certiorari—“Chinese Regulation<br>Act, 1884,” s. 5—Constitutionality—B.N.A."
          ],
          [
           "Act, 1867, ss."
          ],
          [
           "91, 92—“Aliens”—“Trade and Commerce”—Taxation."
          ],
          [
           "On the return to a writ of certiorari."
          ],
          [
           "Held, that the “Chinese Regulation Act, 1884,” is<br>ultra vires of the Provincial Legislature, on the<br>following grounds:  1."
          ],
          [
           "It is an interference with the rights of Aliens."
          ],
          [
           "2."
          ],
          [
           "It is an interference with Trade and Commerce."
          ],
          [
           "3."
          ],
          [
           "It is an infraction of the existing treaties<br>between the Imperial Government and China."
          ],
          [
           "4."
          ],
          [
           "It imposes unequal taxation."
          ],
          [
           "14th & 15th July—On the return of a writ of<br>certiorari directed to Edwin Johnson, Esquire,<br>Police Magistrate for the City of Victoria, to<br>return into this Court a certain conviction made<br>by him under which one Wing Chong was fined $20<br>for not having in his possession a license issued<br>under the “Chinese Regulation Act, 1884.”  The<br>Attorney-General in support of the conviction said<br>there were five points raised on the rule for the<br>certiorari against the validity of the $10<br>tax.—1st."
          ],
          [
           "That it interfered with the Dominion powers under<br>the B. N. A."
          ],
          [
           "Act, aliens, and naturalization; 2nd."
          ],
          [
           "Trade and commerce; 3rd."
          ],
          [
           "Treaty obligations; 4th."
          ],
          [
           "That the tax was unequal, and 5th."
          ],
          [
           "It was indirect taxation."
          ],
          [
           "As to the first point aliens were as much subject<br>to taxation as citizens."
          ],
          [
           "Protection and taxation were reciprocal (Cooley on<br>Taxation, p. 14)."
          ],
          [
           "The law did not deal with the conditions under<br>which aliens might acquire rights or become<br>subjects of Her Majesty."
          ],
          [
           "Secondly—Trade and commerce were not interfered<br>with."
          ],
          [
           "The object of the Act was two-fold, the police and<br>sanitary regulation of a numerous foreign element,<br>and the raising of revenue necessary to meet that<br>regulation (Hodge v. The Queen, L. R. 9, App."
          ],
          [
           "Cas."
          ],
          [
           "117)."
          ],
          [
           "If incidentally trade and commerce were touched,<br>the provincial power of direct taxation was not<br>impaired (Citizens Insurance Co. v. Parsons, L. R.<br>7 App."
          ],
          [
           "Cas."
          ],
          [
           "108)."
          ],
          [
           "The preamble and scope of the Act showed its<br>objects were purely matters of the police and<br>raising of revenue to meet the necessary<br>expenditure, and within “Direct Taxation.”<br>Thirdly—The treaty obligations of England did not<br>affect the question."
          ],
          [
           "The last communication from the Secretary of State<br>for the Colonies to the Governor-General, dated<br>16th May, 1884, stated, in effect, that the<br>Colonies with responsible government could pass<br>restrictive laws irrespective of treaties (B. C.<br>Sessional Papers, 1885, p. 464), and instanced the<br>legislation of the Australian Colonies and of the<br>Dominion."
          ],
          [
           "Fourthly—As to unequal taxation, the power of the<br>Province within its jurisdiction was supreme and<br>as plenary as that of the Imperial Parliament (R.<br>v. Burah, L.R."
          ],
          [
           "3 App."
          ],
          [
           "Cas."
          ],
          [
           "904; R. v. Hodge, L. R. 9, App."
          ],
          [
           "Cas."
          ],
          [
           "117; and Powell v. Apollo Candle Co., L.R."
          ],
          [
           "10 App."
          ],
          [
           "Cas., p. 290; and *In re Goodhue*, 19 Gr."
          ],
          [
           "366); *Cooley* on Taxation, pp."
          ],
          [
           "3, 82, 126-128, and *Cooley's Constitutional<br>Limitations* (5th Ed.)"
          ],
          [
           "626-7; *Sedgwick* on Stat."
          ],
          [
           "(2nd Ed."
          ],
          [
           "), p. 501; *Potter's Dwarris* 418, 421, 425; *Dow<br>v. Black*, L. R. 6 P. C. 272, were cited as<br>showing the power of taxation, unless abridged by<br>the written constitution, might be exercised so as<br>to discriminate."
          ],
          [
           "The Supreme Court of Canada, in the case of *Jonas<br>v. Gilbert*, 5 S. C. R., 356, had practically<br>decided the same point."
          ],
          [
           "Fifthly—Whether called a licence or not, the<br>imposition was a direct poll tax, and as such came<br>within the power of the Province to raise money by<br>direct taxation for Provincial purposes."
          ],
          [
           "*Cooley* on Taxation, 386; *Wharton's Law<br>Lexicon*; *Reed v. Mousseau*, 8 S. C. R., 408."
          ],
          [
           "It was not a license to carry on business, or a<br>method whereby indirectly money was raised from<br>the consumer, as, for instance, customs or stamp<br>laws."
          ],
          [
           "*Richards*, Q. C., for Wing Chong—The object of<br>the Act was not for police purposes or to raise<br>revenue."
          ],
          [
           "Its object, though not apparent on the face of the<br>Act, was to prevent Chinese coming into the<br>Province and drive out those who had already come."
          ],
          [
           "He reviewed the legislation against Chinese since<br>confederation, contending it was levelled against<br>a particular race of aliens and, therefore, beyond<br>provincial control, per *Gwynne*, J., in *Citizens<br>Insurance Co. v. Parsons*, 4 S. C. R., at p. 346."
          ],
          [
           "The law was a direct interference with trade and<br>commerce (*R. v. Severn*, 2 Can."
          ],
          [
           "S. C. R., 70)."
          ],
          [
           "If its object were successful and Chinese driven<br>from the country, the customs dues received from<br>the Chinese would be lost and the benefits of<br>trade relations enjoyed by the merchants would be<br>destroyed."
          ],
          [
           "Counsel cited statistics from the Chinese<br>Commission showing the extreme importance, from a<br>fiscal and commercial point of view, of the large<br>number of Chinese in the Province."
          ],
          [
           "The Dominion under the B. N. A."
          ],
          [
           "Act had alone the right of performing in Canada<br>the obligations of Canada as part of the British<br>Empire in respect of treaties, and although Canada<br>might pass laws prohibiting immigration, or having<br>that tendency, the Province could not do so, nor<br>could it pass laws in derogation of treaties."
          ],
          [
           "He cited the British treaty (25th August, 1842,<br>from *Hertslet*, Vol."
          ],
          [
           "6, and Lord *Elgin's* treaty, 1860), comparing it<br>with the *Burlingame* treaty of the United States,<br>and quoted California decisions (*Lin Sing v.<br>Washburn*, 20 Cal."
          ],
          [
           "334), and the decision of *Gray*, J., in *Tai Sing<br>v. Maguire*, deciding that similar legislation was<br>held void as contravening the treaty and the<br>sovereign power to regulate trade and commerce<br>with foreign countries."
          ],
          [
           "*Drake*, Q. C., on the same side, argued that the<br>imposition of the $10 tax was invalid because of<br>inequality."
          ],
          [
           "Inherent in and incidental to the taxing power was<br>the characteristic of equality."
          ],
          [
           "*Cooley* stated that irrespective of<br>constitutional limitation a particular class of<br>citizens could not be burdened for the advantage<br>of others—*Cooley's Constitutional Limitations*,<br>p. 635."
          ],
          [
           "This was a principle underlying the power to tax<br>and governing that right even though the CREASE,<br>J."
          ],
          [
           "1885."
          ],
          [
           "REGINA v. WING CHONG."
          ],
          [
           "written constitution made no mention of it—Cooley<br>on Taxation, p. 18, and City of Lexington v.<br>McQuillan, 35 Am."
          ],
          [
           "Dec. 159."
          ],
          [
           "The imposition was in derogation of treaty rights<br>with which Canada alone had the power to deal."
          ],
          [
           "The Australian legislation did not help the<br>contention of the Attorney-General."
          ],
          [
           "The Australian Colonies were autonomous, and<br>occupied the same position as that of Canada."
          ],
          [
           "The Provinces were not autonomous."
          ],
          [
           "He did not contend that the whole of the Act was<br>invalid."
          ],
          [
           "Much of it was within the scope of the Province,<br>notably the provisions affecting the size of<br>dwellings, the forbidding the use of opium, and<br>the desecration of grave-yards."
          ],
          [
           "He insisted that imposing excessive taxation on<br>one class of citizens was unconstitutional."
          ],
          [
           "The remarks of Chief Justice Ritchie, in the case<br>of Jonas v. Gilbert before the Supreme Court of<br>Canada, were obiter dicta, as the decision was<br>upon another point, and intimated, but did not<br>decide the right of the Provinces to discriminate,<br>nor in what things and to what extent<br>discrimination in taxation was legitimate."
          ],
          [
           "Lastly, the Act was for indirect taxation, which<br>was a power given only to the Dominion Parliament."
          ],
          [
           "It was a license fee, the power to impose which<br>had, in Severn v. The Queen, been decided against<br>the Provinces on the score of such legislation<br>being against trade and commerce."
          ],
          [
           "The Attorney-General in reply—The ten dollar<br>impost was a tax whether designated by the name of<br>a licence or otherwise."
          ],
          [
           "The distinction between direct and indirect<br>taxation was well drawn in the case of Reed v.<br>Mousseau before the Supreme Court of Canada, in<br>which Mr. Justice Strong mentioned the Privy<br>Council had decided the Provincial legislatures<br>had exclusive power to impose direct taxation, and<br>that it did not follow they might not have power<br>even to impose indirect taxation."
          ],
          [
           "The tax did not sanction the carrying on of any<br>business out of the product of which the consumer<br>would, indirectly, contribute towards payment of<br>the tax."
          ],
          [
           "Then as to inequality, the one dictum of Cooley<br>was but an expression of opinion that political<br>wisdom required uniform taxation; for the same<br>author cited numerous authorities, including that<br>of the Supreme Court of the United States<br>establishing the right to discriminate unless<br>fettered by the express language of the<br>Constitution."
          ],
          [
           "Todd on Parliamentary Government in the Colonies,<br>supported the view that the Provinces within their<br>jurisdiction were as omnipotent as the Imperial<br>Parliament."
          ],
          [
           "The California cases (see The People v. Naglee, 1<br>Cal."
          ],
          [
           "232) decided a differential tax might be imposed<br>on foreign miners; and though a later case (Lin<br>Sing v. Washburn, 20 Cal."
          ],
          [
           "334) had decided a special tax could not be<br>imposed on Chinese, a most celebrated Judge, Mr.<br>Justice Field (since elevated to the Federal<br>bench), dissented, and had pointed out that<br>according to federal decisions the State might<br>impose special taxation on alien residents,<br>provided the impost was not levied against<br>foreigners landing in the country."
          ],
          [
           "The tax was not to exclude the Chinese — another<br>statute with that object had been disallowed."
          ],
          [
           "It was imposed to meet the extraordinary expenses<br>incident to enforcing the police and sanitary<br>regulations prescribed by the Act."
          ],
          [
           "The question of treaties had nothing to do with<br>the subject, for to responsible governments the<br>Imperial Authorities conceded the right to pass<br>laws within their jurisdiction."
          ],
          [
           "So the Canadian Parliament to-day was passing a<br>restriction Act."
          ],
          [
           "Opponents to the Act might as well contend the<br>exclusion of the Chinese from the franchise, and<br>barring them from acquiring lands, was illegal."
          ],
          [
           "As to autonomy, neither the Australian Colonies<br>nor the Dominion were absolutely possessed, but<br>the Province equally with Australia and the<br>Dominion were autonomous within the bounds of<br>their respective jurisdictions."
          ],
          [
           "21st August, 1885—CREASE, J.— In order to deal<br>satisfactorily with the questions raised by this<br>appeal, it is necessary to see what is the scope<br>and purport of the Act.\""
          ],
          [
           "It starts with a recital, in itself a petio<br>principii—not apparently the result of any public<br>enquiry—which charges them with being not law-<br>abiding, dissimilar in habits and occupation to<br>the whites—useless in emergencies, habitual<br>desecrators of grave-yards, unsuited to our laws,<br>and of habits subversive of the community."
          ],
          [
           "From that premises concluding that special laws<br>are required for their government, it proceeds to<br>enact:—   1."
          ],
          [
           "The title."
          ],
          [
           "2.\""
          ],
          [
           "Section 3—with which we are immediately<br>concerned—says:—\"From and after the passage of<br>this Act there shall be payable and \"paid by every<br>Chinese in British Columbia, above the age of<br>fourteen years, unto and for the use of Her<br>Majesty, her heirs and successors, the sum of ten<br>dollars, and thereafter on the 1st day of June in<br>\"each and every year there shall be likewise<br>payable and paid by such \"Chinese person a further<br>sum of ten dollars.\""
          ],
          [
           "Sec."
          ],
          [
           "4 provides for the appointment and payment of<br>special collectors, \"to be called Chinese<br>collectors, to collect and receive such \"payments<br>from Chinese; and such collector or collectors,<br>immediately upon such payment, shall issue and<br>deliver to the person paying \"the same a licence<br>in the form contained in the schedule hereto.\""
          ],
          [
           "By Sec.\""
          ],
          [
           "By Sec.\""
          ],
          [
           "By Sec.\""
          ],
          [
           "By Sec.”   Section 9.”  Section 10 gives the<br>collector power to “levy the amount of the license<br>from any Chinese not being in lawful possession of<br>a license, “with costs, by distress of his goods<br>and chattels, or of any goods and “chattels which<br>may be in the possession of the delinquent, or<br>which “may be upon or in any premises (whether the<br>goods of the delin- “quent or not) for the time<br>being in the possession or occupation of “such<br>delinquent Chinese,” and declares that “for the<br>purposes of this “section premises shall be deemed<br>to be in the possession or occupa- “tion of any<br>Chinese when it can be shown to the satisfaction<br>of the “tribunal having cognizance of the matter<br>(a) that such Chinese “habitually frequents such<br>premises with the assent of the owner ; “(b) that<br>he is the owner or one of the owners of the<br>premises, or has “control, either alone or<br>jointly, with another or others, of such pre-<br>“mises or some part thereof; (c) that he has<br>passed the night or slept “upon such premises at<br>any time within a week of the levy, it shall “be<br>sufficient authority for the collector to levy as<br>aforesaid on the “non-production of the license."
          ],
          [
           "By section 12 tax collectors are not to allow<br>Chinese to pass unless a license is produced."
          ],
          [
           "Section 13 imposes a penalty of $50 on any person<br>guilty of employing any Chinese not having a<br>license."
          ],
          [
           "Sec."
          ],
          [
           "14 Fee for free miner’s certificate to a Chinese<br>to be $15, instead of the white man's $5."
          ],
          [
           "Sec."
          ],
          [
           "15."
          ],
          [
           "Penalty not exceeding $30 for every Chinaman<br>mining without a license.”   Sections 17 and 18<br>prevent the exhumation of dead bodies without<br>permission, and prohibit the use of opium except<br>for medical purposes."
          ],
          [
           "Section 19 provides for the recovery of any<br>pecuniary penalty thereunder in a summary manner<br>before a J. P., and in default of immediate<br>payment sanctions a distress, and failing that,<br>imprisonment for not exceeding three months."
          ],
          [
           "Section 20 (amended by Act of 1885) declares that<br>\"convictions are not to be quashed for want of<br>form.\""
          ],
          [
           "Section 21.\""
          ],
          [
           "Section 22 enacts that the tribunal applied to may<br>decide \"on its own view and judgment\" whether any<br>person is a Chinese or 14 years old."
          ],
          [
           "Sections 23, 24 and 25 contain sanitary provisions<br>affecting buildings let to Chinese."
          ],
          [
           "Section 26 provides a means whereby persons<br>imprisoned for an infraction of the Act may be put<br>to hard labour by an Order in Council, and the<br>same executive authority is empowered to make<br>rules and regulations for carrying out the Act."
          ],
          [
           "Section 27 places in the hand of the local<br>executive the construction from time to time of<br>further rules and regulations to enforce the Act,<br>and a fitting summary to such a premiss in section<br>28 reverses all the old law of England and one of<br>the most cherished and priceless safeguards of the<br>freedom from oppression won for us by our<br>forefathers—that no one shall be deemed guilty<br>until he has been proved so—throws on the<br>defendant, white or yellow, the burden of proving<br>that he is exempt from the operation of its<br>arbitrary provisions—and in a tax Act which is in<br>restraint of personal liberty, and opposed to the<br>common law rights of the citizen—for if applicable<br>to aliens it is a fortiori to the temporary<br>inhabitants of the Province—abrogates the hitherto<br>invariable rule in criminal matters and makes it<br>unnecessary in any information, summons or<br>conviction to “state or negotiate any “exception<br>in or exemption under this Act, or in<br>contemplation of “law.” Taught by experience of<br>former efforts in the same direction, section 29<br>gives one year’s notice of the coming into<br>operation of the Act—a time which has now<br>expired.”   The only schedule is the form of<br>license, which runs as follows:—  The question now<br>raised on the construction of this Act affects not<br>only British Columbia, but, as she occupies the<br>only Pacific seaboard of the Dominion, indirectly<br>more or less the very many other Provinces under<br>the flag of confederation."
          ],
          [
           "Taking for convenience the five points of<br>objection to the conviction in the order in which<br>they are made—  1."
          ],
          [
           "That it interfered with the Dominion powers under<br>the B. N. A."
          ],
          [
           "Act over aliens and naturalization."
          ],
          [
           "2."
          ],
          [
           "Trade and commerce."
          ],
          [
           "3."
          ],
          [
           "Treaty obligations."
          ],
          [
           "4."
          ],
          [
           "That the tax was unequal."
          ],
          [
           "5."
          ],
          [
           "That it was indirect taxation and therefore<br>illegal, and should be quashed."
          ],
          [
           "On the first point, I would observe that it is now<br>well settled law that British Columbia, as a part<br>of the Dominion, possesses all, but possesses<br>only, the powers which are strictly defined by the<br>B. N. A."
          ],
          [
           "Act of 1867, which is, indeed, the constitution of<br>Canada."
          ],
          [
           "Neither she nor any other of the Provinces possess<br>any other powers of legislation than are conferred<br>by that Act."
          ],
          [
           "If British Columbia, or any other Province, in its<br>legislation, goes beyond that Act and in excess of<br>its provisions, that moment, and to the extent of<br>such transgression, it ceases to be law."
          ],
          [
           "Therefore, in dealing with this question, our<br>constitutional Act must be kept in view<br>throughout, as the measure by which we must<br>continually gauge the legality or illegality of<br>the provisions of the local statute under<br>consideration."
          ],
          [
           "The Act of Federation was passed in order to be an<br>irrefragable, permanent standard by which to<br>preserve and regulate all the relative rights of<br>the Provinces, as among themselves and as regards<br>the Dominion."
          ],
          [
           "The exclusive powers of that Act given to the<br>Dominion over particular subjects are contained in<br>the 91st section."
          ],
          [
           "The exclusive powers of the Province are<br>particularized in section 92."
          ],
          [
           "It is natural that in the working out of such a<br>constitution in a new and growing country,<br>questions should be continually cropping up, and<br>call upon the Courts to define gradually and with<br>greater exactness, as time progresses and<br>population expands, the relative powers given by<br>the Act to the Dominion and Provinces<br>respectively."
          ],
          [
           "Sub-section 2 of section 91 gives to the Dominion<br>Parliament exclusively the regulation of “trade<br>and commerce,” and by sub-section 25 that of<br>“naturalization and aliens,” and everything<br>relating to those subjects as affecting the whole<br>Dominion is within the Dominion powers, and no<br>local Legislature can make any statute interfering<br>with either of those subjects."
          ],
          [
           "If it does, so far as such interference extends it<br>is illegal and void, and when brought before the<br>Court it is the duty of that tribunal so to<br>adjudge it."
          ],
          [
           "And the converse of this is true when applied to<br>Dominion legislation as affecting the subjects<br>exclusively given by the constitution to the<br>Province."
          ],
          [
           "Now, applying this test to the statute before us,<br>let us see whether and how far its provisions<br>affect, as is alleged, aliens, or trade, or<br>commerce."
          ],
          [
           "The aliens in this case being Chinese, the first<br>enquiry must be, what is the object of the Act?"
          ],
          [
           "On applying to the preamble, we find that it looks<br>like a bill of indictment as against a race not<br>suited to live among a civilized nation, and<br>certainly does not prepare one for legislation<br>which would encourage or tolerate their settlement<br>in the country."
          ],
          [
           "Indeed, the first lines of the preamble sound an<br>alarm at the multitude of people coming in, who<br>are of the repulsive habits described in the last<br>part of the preamble, and prepares one for<br>measures which should have a tendency to abate<br>that alarm by deterrent influences and enactments<br>which should have the effect of materially<br>lessening the number of such undesirable visitors."
          ],
          [
           "The provisions of the Act I have given somewhat in<br>extenso bear out that view, and the concurrent and<br>previous local legislation bear out the same<br>impression, for on the same day as this Act was<br>passed, another Act was passed, the very object of<br>which was plainly stated to be \"to prevent the<br>immigration\" of Chinese.\""
          ],
          [
           "That Act was disallowed."
          ],
          [
           "It interfered with aliens as well as trade and<br>commerce, which cannot subsist among nations<br>without personal intercourse, which such an Act<br>(as far as China was concerned) would have a<br>tendency to prohibit."
          ],
          [
           "Another statute (of 1878), \"An Act to provide for<br>the better collection of taxes from Chinese,\"<br>which contained several of the stringent<br>provisions which I have described in this Act,<br>such as a special tax specially recoverable by<br>summary and unusual remedies from the Chinese<br>alone, in British Columbia, and enforced by fine<br>and imprisonment and other penal clauses, came<br>before this Court, and in a most conscientious and<br>exhaustive judgment of Mr. Justice Gray, of 23rd<br>September, 1878, in the case of Tai Sing v.<br>Maguire, was declared unconstitutional and ultra<br>vires the Local Legislature, as interfering with<br>aliens and trade and commerce—matters reserved<br>exclusively under the 81st section of the B. N. A."
          ],
          [
           "Act to the Dominion."
          ],
          [
           "That decision was never appealed from, and was at<br>once acted on by the government as conclusive."
          ],
          [
           "The position and legislative powers of British<br>Columbia have been in no respect altered in its<br>relations to the legislative powers of the<br>Dominion on the same subjects since that time,<br>though Russell v. The Queen (7 App."
          ],
          [
           "Cas."
          ],
          [
           "829) and Hodge v. The Queen (9 App."
          ],
          [
           "Cas."
          ],
          [
           "117) have more fully defined the extent of the<br>powers of the Provincial Legislatures than has<br>hitherto been done; and in the latter case<br>especially."
          ],
          [
           "That decision, however, was not before Mr. Gray<br>when he rendered the judgment in Tai Sing v.<br>Maguire."
          ],
          [
           "Until reversed or varied, the decision in the<br>Hodge case is law here, and binding on this Court."
          ],
          [
           "Their lordships say (page 132), with reference to<br>the objection of the appellants there (delegatus<br>non potest delegare):— \"It appears to their<br>lordships, however, that the objection thus raised<br>by the appellants is founded on an entire<br>misconception of the true character and position<br>of the Provincial Legislatures."
          ],
          [
           "They are in no sense delegates of or acting under<br>any mandate from the Imperial Parliament."
          ],
          [
           "When the British North America Act enacted that<br>there should be a Legislature for Ontario\" (for<br>this case we may for \"Ontario\" read \"British<br>Columbia\"), \"and that its Legislative Assembly<br>should have exclusive authority to make laws for<br>the Province and for provincial purposes in<br>relation to the matters enumerated in section 92,<br>it conferred powers not in any sense to be<br>exercised by delegation from or as agents of the<br>Imperial Parliament, but authority as plenary and<br>as ample within the limits prescribed by section<br>92 as the Imperial Parliament in the plenitude of<br>its power possessed and could bestow."
          ],
          [
           "Within these limits of subjects and area the Local<br>Legislature is supreme.\""
          ],
          [
           "[So far this decision confirms the words of Lord<br>Selborne in R. v. Burah; what follows goes beyond<br>it.]"
          ],
          [
           "\"And has the same authority as the Imperial<br>Parliament or the Parliament of the Dominion would<br>have had under like circumstances to confide to a<br>municipal institution or body of its own creation<br>authority to make by-laws or resolutions as to<br>subjects specified in the enactment, and with the<br>object of carrying the enactment into operation<br>and effect.\""
          ],
          [
           "That decision, although in some respects an obiter<br>dictum, as regards this case, makes it clear that<br>within the limits of subjects and the area<br>prescribed by the B. N. A."
          ],
          [
           "Act, by section 92, the Legislature of British<br>Columbia is supreme."
          ],
          [
           "The basis, then, of our enquiry must be: Is this<br>Chinese Regulation Act of 1884—rather the parts of<br>it objected to—within the limit of subjects and<br>area of section 92, or does it exceed those limits<br>in which it is supreme, and interfere with aliens,<br>trade and commerce in such a manner as to encroach<br>on section 91 or any of its sub-sections?"
          ],
          [
           "If so, so far as it does so, it is<br>unconstitutional and ultra vires, and therefore<br>void."
          ],
          [
           "Now it does not follow because a local Act touches<br>on these three subjects it therefore interferes<br>with them so as to render it unconstitutional."
          ],
          [
           "Aliens may be taxed, may be subjected to the same<br>rules and municipal and other by-laws as other<br>inhabitants of British Columbia, and such<br>discrimination in so doing as are allowed in local<br>legislatures between and among different persons<br>and occupations among the whites are quite as<br>applicable to them."
          ],
          [
           "These are the only discriminations which the law<br>allows, and these are the permissible<br>discriminations spoken of by Cooley in the<br>portions cited before the Court."
          ],
          [
           "During the argument the case of *Lin Sing v.<br>Washburn*, 20 California Reports, 534, was quoted<br>as bearing on this case."
          ],
          [
           "There, an Act of the California Legislature passed<br>an Act imposing a capitation tax “on ‘each person,<br>male and female, of the Mongolian race of the age<br>of 18 years and upwards residing in the State,’<br>accompanying a license almost a *fac simile* of<br>our own, and enforced in much the same way as in<br>the case before us, that, after long and elaborate<br>argument in which the Attorney-General appeared<br>for the State, was determined to be<br>unconstitutional, as it was an interference with<br>trade and commerce, which could be regulated alone<br>by the general government."
          ],
          [
           "It was in vain advanced that at least the State<br>had concurrent jurisdiction in matters of taxation<br>relative to its own internal affairs, of which<br>this was one (the same proposition as was advanced<br>by the Attorney-General in this case) in which it<br>had a supreme and autonomous right to legislate."
          ],
          [
           "And the grounds of this decision were that the<br>federal constitution had vested in the general<br>government the power to regulate commerce in all<br>its branches (as with us in the Dominion); and<br>this power extends to every species of commercial<br>intercourse, and may be exercised upon persons as<br>well as property (Mr. Justice Field, whose<br>arguments have been reproduced by the Attorney-<br>General before me in this case, dissenting)."
          ],
          [
           "That commerce cannot be carried on without the<br>agency of persons, and the tax, the effect of<br>which is to diminish personal intercourse, is a<br>tax on commerce."
          ],
          [
           "If the power to impose such a tax is acknowledged,<br>it being a sovereign power, no limitation can be<br>affixed to its exercise, and it may be so used as<br>not only to diminish but destroy commerce."
          ],
          [
           "The power asserted in the Act in question (the<br>California Act) is the right of the State to<br>prescribe the terms upon which the Chinese shall<br>be permitted to reside in it, and be so used as to<br>cut off all intercourse between them and the<br>people of the State, and defeat the commercial<br>policy of the nation."
          ],
          [
           "That the Act could not be maintained as a police<br>regulation; that a branch of the police power had<br>been surrendered to the Federal Government as a<br>part of the power to regulate commerce, and its<br>exercise by a State was incompatible with the<br>authority of the Government."
          ],
          [
           "That the Chinese might be taxed as other<br>residents, but could not be set apart as special<br>objects of the taxation, and be compelled to<br>contribute to the revenue of the State in the<br>character of foreigners."
          ],
          [
           "The reports of the higher California courts are of<br>great authority for us on all Chinese questions,<br>for there have been efforts for years past to<br>restrict Chinese immigration in California, and<br>the matter has been constantly before the superior<br>courts there, and the judges there (if we may take<br>the reports as correct) are more than ordinarily<br>skilled in laying down the law correctly in<br>constitutional points of that nature."
          ],
          [
           "Indeed, there is no other country which has such<br>experience generally in constitutional law as<br>applicable to a federation of states."
          ],
          [
           "Of course, in all the observations I make I<br>recognize the now well-known distinction between<br>the relations of a State of the Union to the<br>Federal Government, and our relation as a Province<br>to the Dominion."
          ],
          [
           "Still both Federal Governments have reserved to<br>themselves the regulation of trade and commerce<br>and naturalization and aliens; so the analogy is<br>so close as to become almost a direct authority."
          ],
          [
           "In the *Lin Sin* judgment, p. 579, the learned<br>judge says of the power of taxing foreigners, as<br>in the present *qua* foreigners: “If the power<br>exist it may be exercised upon all foreigners<br>residing in the State, and may be so exercised as<br>to bar the door of foreign commerce as effectually<br>as the Government could do by issuing its<br>man-“date and closing its ports.\""
          ],
          [
           "And again \"to determine whether there is a<br>conflict or not, i.e., of jurisdictions, the power<br>must be considered with reference to its<br>consequences, for its effect when carried out is<br>the only criterion by which a judgment can be<br>formed.\""
          ],
          [
           "In another place he says:—\"It would be an empty<br>sound to say that the several States cannot pass<br>any law to prevent foreigners from coming here if<br>they may pass laws which will compel such<br>foreigners to depart as soon as they arrive.\""
          ],
          [
           "And again, \"A tax imposed by the law on these<br>persons for the mere right to reside here, is an<br>appropriate and effective means to discourage the<br>immigration of the Chinese into the State.\""
          ],
          [
           "During the argument on the case before me, the<br>Attorney-General claims that this was direct<br>taxation, and a direct tax within the Province, to<br>raise revenue for Provincial purposes, and,<br>therefore *intra vires*; but the question is not<br>one of name but of fact."
          ],
          [
           "Does it interfere with trade or commerce?"
          ],
          [
           "Can it be legally imposed on foreigners as<br>foreigners, for even a legal tax in other respects<br>becomes illegal when it goes beyond its proper<br>limits, and interferes with powers exclusively<br>given to the Dominion for the benefit of all?"
          ],
          [
           "In another California case, *In re Tiburcio<br>Parrott*, it is laid down that if the apparent<br>object of a statute is under a pretense of the<br>exercise of constitutional powers to drive Chinese<br>away, the end sought to be obtained being<br>unlawful, the statute is void."
          ],
          [
           "In *Russell v."
          ],
          [
           "Reg."
          ],
          [
           "* it is decided that the true nature and character<br>of legislation must be determined in order to<br>ascertain its legality."
          ],
          [
           "In *Citizens Insurance Co. v. Parsons*, we have to<br>look at the legislation for the same purpose."
          ],
          [
           "If the legislation here be to drive people from<br>the country, have the local legislature the power?"
          ],
          [
           "Legislation as to aliens is reserved to the<br>Dominion."
          ],
          [
           "And as to trade and commerce, if the Chinese be<br>driven out an annual loss to the revenue, it<br>appears by the tables in the Chinese Commission<br>Report, of $110,000 will take place; and more than<br>$1,500,000 of property and business be lost to us,<br>besides an injury to trade to an incalculable<br>extent."
          ],
          [
           "The amount of business transacted by Chinamen in<br>British Columbia, as revealed by the tables in<br>that Chinese Report, is something which a casual<br>observer would have no idea of."
          ],
          [
           "The treaties between Great Britain and China,<br>which bind us, have been quoted."
          ],
          [
           "The treaty of 25th August, 1842, *Hertslet*, Vol."
          ],
          [
           "6, ratified 26th June, 1843, p. 221, and Lord<br>Elgin's treaty of October, 1860, authenticated<br>copies of which were produced in Court, secure to<br>Chinese coming into British dominions the same<br>\"full security for persons and property as<br>subjects of Her Majesty.\""
          ],
          [
           "*Vattell*, cap."
          ],
          [
           "8, referring to our obligations to foreigners,<br>observes:— \"As soon as the lord of the territory<br>admits strangers into it he engages \"to protect<br>them as his own subjects, and to afford them<br>perfect security as far as depends on him.\""
          ],
          [
           "*Reg."
          ],
          [
           "v. Severn* and *Reg."
          ],
          [
           "v. Russell* are important authorities in guiding<br>our enquiry as to the nature and effect of local<br>legislation in determining whether and how far the<br>Act under review exceeds the limits within which<br>the local legislature is supreme."
          ],
          [
           "And as to the equality of taxation, besides<br>*Cooley*, who has been quoted freely on both<br>sides, in *Kent's Commentaries* (8th Ed."
          ],
          [
           "), 2nd Vol., 388, it is insisted—\"That every<br>person is entitled to be protected in the<br>enjoyment of his property, not only from invasions<br>of it by individuals, but from all unequal and<br>undue assessments on the part of the Government."
          ],
          [
           "It is not sufficient that no tax or imposition can<br>be imposed upon the citizens, but by their<br>representatives in the legislature the citizens<br>are entitled to require that the legislature<br>itself shall cause all public taxation to be fair<br>and equal in proportion to the value of 'property\"<br>(and that is what *Cooley* means by apportionment<br>of taxation), \"so that no class of individuals,<br>and no species of property shall be unduly<br>assessed.\""
          ],
          [
           "The treaties I have quoted between Great Britain<br>and China, binding on the Dominion and on us in<br>British Columbia, secure to the Chinese, just as<br>the treaties between Great Britain and other<br>foreign countries secure to other foreigners, the<br>same rights in regard to the equality of taxation<br>which I have described as being enjoyed by<br>citizens of this country."
          ],
          [
           "These treaties have the force of international<br>law, and are continued most strongly against the<br>party for whose benefit they are introduced."
          ],
          [
           "In the case of the Chinese treaties, they were<br>forced at the point of the bayonet on China, to<br>obtain a right for us to enter China, and in<br>return for a similar permission to us, full<br>permission was given for the Chinese to trade and<br>reside in British dominions everywhere."
          ],
          [
           "In the treaties of 1858 and 1860, made at the<br>solicitation of Great Britain, the Emperor of<br>China was induced to give permission to his<br>subjects to go and trade and reside \"in British<br>Colonies,\" and to enter into \"engagements with<br>British subjects for that purpose.\""
          ],
          [
           "These obligations are binding here and in other<br>parts of the Dominion under section 132 of the<br>British North America Act, and no Province, or the<br>Dominion itself, can lawfully pass laws<br>interfering with that right without a previous<br>revision of the treaties by the high contracting<br>parties to them for that purpose."
          ],
          [
           "Treaties with foreign nations are above all<br>ordinary municipal law, for obvious international<br>reasons, for without such a provision there can be<br>no permanent security, which is the life of all<br>commercial intercourse."
          ],
          [
           "The same provisions that apply to Chinese may be<br>made to apply also to Americans, Frenchmen,<br>Germans, or any other foreigners."
          ],
          [
           "Such treaties are the especial care of the<br>Dominion, and where local legislation clashes with<br>that especial province of the Dominion, the<br>legislation of the Province must give way, as laid<br>down in Leprohon v. the City of Ottawa, 40 Q.B.,<br>Ont., 478; Reg."
          ],
          [
           "v. Chandler, Hannay's New Brunswick Reports, 548;<br>Dow v. Black, L.R."
          ],
          [
           "6 P.C."
          ],
          [
           "272; L'Union St. Jacques v. Belisle, L.R."
          ],
          [
           "6 P.C."
          ],
          [
           "31, and numerous other Canadian authorities,<br>besides the British North America Act itself."
          ],
          [
           "Now applying the principles and tests I have<br>described to the Act before us, what do we find?"
          ],
          [
           "The Act is found associated with another Act now<br>disallowed, the express object of which is to<br>prevent the Chinese altogether from coming to this<br>country, and the principle \"noscitur a sociis\" is<br>kept up by the preamble of the present Act, which<br>describes the Chinese in terms which, I venture to<br>think, have never before in any other country<br>found a place in an Act of Parliament."
          ],
          [
           "In the definition of the persons affected by the<br>Act no distinction is made of ambassadors,<br>merchants, consuls, artists, professors or<br>travellers, or sex, whether under disability or<br>not, or at such a distance from a collector as to<br>make it difficult or impossible to obtain a<br>license."
          ],
          [
           "Every person of Chinese origin, whether<br>naturalized in Hong Kong or America, or any other<br>State with which we are at amity, so long as they<br>are of Chinese origin, 14 years of age—every one<br>without distinction—must take out a license."
          ],
          [
           "For the purpose of argument I have treated the<br>license fee as a tax; but it is in fact a<br>license—a license to remain in British Columbia<br>unmolested for a year."
          ],
          [
           "When the legislature wanted to create a tax, they<br>knew what words to use for the purpose, for in the<br>sister Act passed on the same day, which was<br>disallowed, they called the impost there enacted a<br>\"tax,\" not a license."
          ],
          [
           "However difficult or impossible for any Chinese to<br>find a district collector, if such Chinese is<br>\"found without a license he is liable to a fine of<br>$40.\""
          ],
          [
           "At every turn he is confronted with an exceptional<br>duty, and an exceptional penalty, and the loss of<br>his goods and chattels, and of personal liberty."
          ],
          [
           "It is impossible but that such an imposition so<br>enforced, in addition to all the general taxes to<br>which he is subject, should make this country too<br>hot for him to live in; and just in proportion as<br>he is so persecuted out of the country, in that<br>degree does this enactment interfere with trade<br>and commerce and that control over aliens<br>exclusively given to the Dominion."
          ],
          [
           "And not only is he thus attacked, but unheard of<br>provisions are introduced."
          ],
          [
           "Every employé of Chinese labour, whether English,<br>American, or what not, is made liable to severe<br>and incessant liability of a penal kind, for what?"
          ],
          [
           "Some act, a default of his own?"
          ],
          [
           "No; an act or default of a stranger, a man whose<br>language he knows not, and for every infraction of<br>the Act by the Chinese under his employ."
          ],
          [
           "The palpable object of such a provision, or set of<br>provisions, is to render the employment of Chinese<br>so distasteful and annoying to the employer that<br>he must cease to employ them."
          ],
          [
           "Now, to pass a law providing that employment shall<br>not be given to a special class of men, except it<br>be productive of so much danger, annoyance, and<br>loss to the employer, is just another way of<br>saying that no intercourse shall be had with that<br>class."
          ],
          [
           "With penalties and prosecutions always before you,<br>far in excess of any advantage to be derived from<br>that intercourse or trade, what is that but<br>equivalent to saying that such intercourse or<br>trade or labour must cease altogether."
          ],
          [
           "What is that but interfering with aliens, trade,<br>and commerce?"
          ],
          [
           "If a man employ a Chinaman who should happen to be<br>delinquent in his tax, and he happens to occupy a<br>cottage or room of his employer, with his master's<br>goods in it, under section 10 they are liable to<br>seizure and sale."
          ],
          [
           "In every prosecution under the Act the legal<br>presumption of innocence until conviction is<br>reversed; in every case the onus probandi, though<br>in a Statute highly penal, is shifted from the<br>informant on to the shoulders of the accused, and<br>he a foreigner not knowing one word of the law, or<br>even the language of the accuser."
          ],
          [
           "In other words, every Chinese is guilty until<br>proved innocent—a provision which fills one<br>conversant with subjects with alarm; for if such a<br>law can be tolerated as against Chinese, the<br>precedent is set, and in time of any popular<br>outcry can easily be acted on for putting any<br>other foreigners or even special classes among<br>ourselves, as coloured people, or French,<br>Italians, Americans, or Germans, under equally the<br>same law."
          ],
          [
           "That certainly is interfering with aliens."
          ],
          [
           "The proposition that it is a Provincial tax for<br>revenue purposes, supposing it to be so intended<br>under the provisions of the Act, is so manifestly<br>calculated to defeat that object, by diminishing<br>the numbers of the members of the persons to be<br>affected by it, that it is difficult to regard it<br>in that light, or in any other light than an<br>indirect mode of getting rid of persons whom it<br>affects out of the country."
          ],
          [
           "The whole Act teems with special provisions which<br>affect not only Chinese, but their employers, with<br>obligations and liabilities as to the conduct of<br>the Chinese in their employ, that no reasonable<br>man would encounter, and run the risk of the penal<br>consequences which the Act hangs over him."
          ],
          [
           "For instance, by section 19 any pecuniary penalty<br>imposed may be summarily recovered (and applies to<br>employers), and in default of immediate payment<br>the same may be recovered by distress of the goods<br>and chattels of the offender, and in default of<br>sufficient distress by a liability to imprisonment<br>for three calendar months, and the employers would<br>necessarily be white men."
          ],
          [
           "In fact, the Act so bristles with these arbitrary,<br>exceptional and penal consequences, that it is<br>invidious to single out particular ones for<br>comment."
          ],
          [
           "It is enough to add that \"any person,\" no matter<br>whether white or Chinese, imprisoned in respect of<br>any infraction of the provisions of the Act, may<br>be at the will of the executive, subjected even to<br>hard labour."
          ],
          [
           "The Act is so full of provisions that interfere<br>directly with aliens, with trade, and with<br>commerce, that I have no hesitation in pronouncing<br>all such provisions, and among them those under<br>which the appellant in this case has been<br>convicted, to be ultra vires the local<br>legislature, and consequently illegal and void."
          ],
          [
           "So far, I have dealt with the Act on its own<br>merits; but if we consider it in juxtaposition to<br>the Dominion Act recently passed restricting the<br>Chinese throughout all Canada, its illegality<br>becomes transparent; for in passing that Act<br>against the Chinese the Dominion has spoken by the<br>highest authority which it possesses—its own<br>Parliament."
          ],
          [
           "By the Constitutional Act the subject of aliens,<br>we have seen, is specially reserved to the<br>Dominion, and it is now an axiom, in the<br>interpretation of that Act, that when that<br>authority deals with a subject expressly included<br>in its jurisdiction by the 91st section, it has<br>possession of that subject exclusively, and the<br>Province has to give way."
          ],
          [
           "It is a great assumption of power on the part of a<br>Province to pass laws, the effect of which must be<br>practically to expel a particular class of aliens<br>from that Province, to say in effect that it will<br>by its legislation impede or prevent that class<br>from being employed in another Province—say the<br>North-west Territory or Manitoba—where railway<br>works may be languishing for want of that very<br>class of labourers, British Columbia being the<br>only sea-board of Canada on the Pacific through<br>which (in face of the restrictive laws of the<br>United States) that class of labourers can enter<br>and pass through; that is, in fact, legislating on<br>all inter-provincial immigration; in other words,<br>such legislation is ultra vires, and so I<br>pronounce it; and adjudge accordingly, and quash<br>the conviction, with costs."
          ],
          [
           "CREASE, J.  WONG HOY WOON v. DUNCAN."
          ],
          [
           "1894."
          ],
          [
           "Oct. 22."
          ],
          [
           "Health regulations—Victoria Health By-Law, 1893,<br>Secs."
          ],
          [
           "32, 35—\"Infected locality\"—Proof of—\"Exposed to<br>infection.\""
          ],
          [
           "Action of trespass against the Medical Health<br>Officer of the City of Victoria for causing the<br>plaintiff, one of a number of Chinamen, who landed<br>at Victoria in a steamer last from Hong Kong in<br>China, to be removed to the \"Suspect Station\" and<br>there detained and subjected to cleansing process<br>under colour of Sec."
          ],
          [
           "35 of the Municipal Health By-Law, 1893, giving<br>him, as Medical Health Officer, power \"To stop,<br>detain and examine every person or persons,<br>freight, cargoes, railway and tramway cars coming<br>from a place infected with a malignant or<br>infectious disease,\" in order to prevent the<br>introduction of such into Victoria."
          ],
          [
           "The plaintiff had been passed by the Dominion<br>Government Quarantine Officer as entitled to land<br>at Victoria."
          ],
          [
           "The white passengers from Hong Kong on the same<br>steamer were not interfered with."
          ],
          [
           "The only evidence of Hong Kong being a place<br>infected, etc., was that of a medical man resident<br>in Victoria, who said \"That in China small pox was<br>endemic, because there inoculation was the<br>universal practice."
          ],
          [
           "That there was danger of infection from white<br>passengers, but not the same danger as from<br>Chinamen.\""
          ],
          [
           "There was no direct evidence of the existence of<br>small pox to a dangerous extent in Hong Kong at<br>the time of the departure thence of the steamer,<br>or that it was \"a place infected,\" etc., or that<br>the plaintiff had been \"exposed to infection.\""
          ],
          [
           "Held, That the facts were insufficient to justify<br>the action of the Health Officer under the by-law."
          ],
          [
           "Remarks on the duties of Health Officers."
          ],
          [
           "Statement ACTION, claiming damages, for trespass."
          ],
          [
           "The facts fully appear from the head note and from<br>the judgment."
          ],
          [
           "H. Dallas Helmcken, for the plaintiff."
          ],
          [
           "W. J. Taylor, for the defendant."
          ],
          [
           "Judgment."
          ],
          [
           "CREASE, J.: This was a test action to try whether<br>Chinamen have the same rights as other foreigners<br>in landing here on their advent from China."
          ],
          [
           "The occasion was the arrival of the Empress of<br>China at the Outer Wharf, which is within the city<br>limits of Victoria, on the 1st day of May, 1894,<br>from China and Hongkong."
          ],
          [
           "The action is one nominally rather than really,<br>for damages against Dr. George Duncan, the Health<br>Officer of the City of Victoria, on account of an<br>alleged excess of duty in despatching en masse,<br>without examination or enquiry, a number of<br>Chinamen out to the suspect station at Ross Bay,<br>there to be disinfected and scrubbed."
          ],
          [
           "No white passenger from the same port (Hongkong,<br>the last port touched at) having been treated in a<br>similar manner or apparently even questioned or<br>detained."
          ],
          [
           "The Chinamen had already been examined on board<br>the ship by the Dominion Quarantine Officers and<br>Provincial officers and passed."
          ],
          [
           "Hoy Woon had also paid the $50 required by the<br>Government as his entry fee into British Columbia,<br>and was in possession of the proper receipt."
          ],
          [
           "Dr. Duncan then appears on the scene, and finds<br>these men already passed and landed clear of ship,<br>Dominion Judgment customs and entrance."
          ],
          [
           "Disregarding the white men, who had come at the<br>same time from the same place and in the same ship<br>and presumably subject to some of the same<br>unsanitary influences, though not to the same<br>extent as the Chinese, without any reason for<br>special suspicion, without inspecting or<br>attempting to inspect a single man, (that had<br>already been done individually by the Dominion<br>Quarantine Officers) he orders them into the<br>custody of his constables to be taken out to the<br>suspect station at Ross Bay, there to be washed<br>and disinfected and scrubbed."
          ],
          [
           "They, with their goods and chattels, were bundled<br>into a common truck like so many cattle."
          ],
          [
           "The plaintiff and other Chinamen similarly<br>situated obtained a writ of Habeas Corpus, upon<br>which they were discharged from this custody."
          ],
          [
           "Thereupon the present action was brought to test<br>if and how far Chinamen are to be treated, when<br>they land on our shores, differently from other<br>foreigners."
          ],
          [
           "The grounds alleged by the Health Officer for this<br>arbitrary treatment is “that China is an infected<br>locality,” and all persons coming from China and<br>especially in this instance Hongkong, and<br>especially also the natives of China, come from an<br>infected locality, and that he has that authority<br>under the Health By-Law, 1893, which was passed at<br>the time of the small pox panic in Victoria, and,<br>in all he did, was simply doing his duty."
          ],
          [
           "Section 32 of that by-law (published in the B.C."
          ],
          [
           "Gazette of April 20, 1893) directs a strict<br>examination to be made of any vessel and persons<br>coming from “an infected locality,” before any<br>person, luggage or freight or other thing is<br>allowed to be landed from it."
          ],
          [
           "Section 35 of the Health By-Law of 1893 gives the<br>Medical Health Officer power to stop, detain and<br>examine every person or persons, freight, cargoes,<br>railway and tramway cars coming from a place<br>“infected with a malignant Judgment."
          ],
          [
           "pestilential or infectious disease,” in order to<br>prevent the introduction of the same into<br>Victoria."
          ],
          [
           "The case was tried before a jury upon the issue<br>whether Hongkong, the last port the steamer left<br>in China, was or not “an infected locality.” To<br>prove that Hongkong was such, Dr. Davie was placed<br>in the witness box as an expert."
          ],
          [
           "He considered “China the home of small pox,” and<br>that it was “an infected place”; that, in China,<br>small pox was “endemic,” i.e., always there;<br>because there “inoculation” was the universal<br>practice and was a constant source of danger; that<br>in England and Europe and America, generally,<br>vaccination, of late years, has been the rule."
          ],
          [
           "That was a preventative, and persons from such<br>places were naturally not so much the object of<br>suspicion or inspection to a health officer."
          ],
          [
           "He thought that too close a scrutiny could not be<br>made of Chinese passengers."
          ],
          [
           "That small pox must have been in China on the 19th<br>April last, the date when the Empress left<br>Hongkong, as it was always there."
          ],
          [
           "He had no opinion to express as to the British<br>possession of Hongkong; but it was a portion of<br>China, where small pox was always, in a sense,<br>\"endemic.\""
          ],
          [
           "There was danger of infection from white<br>passengers, but not the same danger as from<br>Chinamen."
          ],
          [
           "It was his opinion that every one should be<br>examined who comes from China or from any<br>\"infected port.\""
          ],
          [
           "They should be examined on the ship."
          ],
          [
           "When asked the question, \"Would you allow Chinamen<br>to land and go into the city?\""
          ],
          [
           "the Doctor replied, \"The whole of the baggage<br>should be disinfected, on the steamer if<br>possible—if not, on the Outer Wharf."
          ],
          [
           "If I could not do anything else I would take them<br>out to the suspect station."
          ],
          [
           "I would, if I could,\" he continued, \"examine every<br>passenger from there at the Outer Wharf."
          ],
          [
           "To do this it requires certain facilities which<br>are wanting at the Outer Wharf.\""
          ],
          [
           "The duty of the Health Officer, as Dr. Davie<br>understood it, was to interview the ship's<br>officers and ascertain the sanitary state of the<br>ship during the voyage; to inspect the whole of<br>the men, inspect every individual, before he left<br>the vessel."
          ],
          [
           "He was of Judgment opinion that the whole of those<br>landed should be disinfected."
          ],
          [
           "The Chinese are chiefly dressed in woollen<br>materials and these harbour infection for weeks<br>and months."
          ],
          [
           "The period of incubation of small pox was from<br>twelve to fifteen days."
          ],
          [
           "Cases of small pox were found in all large seaport<br>towns, as for instance Liverpool; but these were<br>not \"endemic.\""
          ],
          [
           "If the vessel left Honkong, it was quite possible<br>some cases might develop during the passage."
          ],
          [
           "If they were not examined on the steamer there<br>were no facilities for doing so on the wharf."
          ],
          [
           "There were several other diseases to be guarded<br>against from China, e.g., cholera, leprosy, etc."
          ],
          [
           "(Here I observe that from first to last no mention<br>was made of the black plague, which has carried<br>off so many thousands of Chinese in Hongkong; and<br>it appeared that during the passage from China to<br>Victoria, which presumably lasted over the<br>ordinary period of inoculation, no case of small<br>pox appeared on board the Empress, and that she<br>showed a clean bill of health.)"
          ],
          [
           "1894."
          ],
          [
           "Upon the question whether or not Hongkong, at the<br>time the steamer left on April 19, 1894, was or<br>not \"an infected port,\" in the sense of Sec."
          ],
          [
           "35, a place \"infected by a malignant, pestilential<br>or infectious disease,\" and they were so charged."
          ],
          [
           "The jury returned the following verdict:—<br>\"According to the evidence we find that on 1st<br>May, 1894, Hongkong was an infected port."
          ],
          [
           "We speak according to the evidence of Dr. Davie,<br>that the port of Hongkong was and is an infected<br>port.\""
          ],
          [
           "Now this assumes, as Dr. Davie assumed, that<br>Hongkong, although a British port and subject to<br>quarantine regulations, was (which includes the<br>time of the steamer's departure) and is a cradle<br>of small pox, and that every ship coming thence to<br>Victoria, especially with Chinese on board, should<br>be subject to the most searching examination, and<br>the drastic treatment I have described."
          ],
          [
           "He does not include Japanese in the same category<br>as Chinese."
          ],
          [
           "It was apparent throughout the Judgment."
          ],
          [
           "Doctor's evidence that he regarded the whole<br>subject exclusively from a medical point of view,<br>which is by no means identical with the legal<br>construction which must prevail."
          ],
          [
           "The law, while it imposes on the Medical Health<br>Officer the duty and arms him with abundant<br>authority to deal imperatively almost in every<br>case, at the same time insists that he shall<br>discharge that duty with judgment and discretion,<br>and not overrun the mark."
          ],
          [
           "In this case, to say the least, he has not<br>discharged his duty discreetly, but, on the<br>contrary, has exceeded it."
          ],
          [
           "The whole gist of the by-law is to guard the case<br>of persons \"infected or exposed to infection,\"<br>words which have a definite legal meaning, which<br>applies to persons who have been brought into<br>actual contact with or within the baleful<br>influence of an infectious or contagious disease,<br>as travelling in the same carriage or boat with<br>anyone affected by the disease, and not securely<br>isolated from accidental or other contact, or has<br>recently come from a locality where from an<br>accumulation of cases or other reason the disease<br>has got into the air and become epidemic."
          ],
          [
           "This construction applies to Sections 12, 13, 15,<br>16 and 29 of the by-law by the wording of which<br>this meaning is distinctly brought out."
          ],
          [
           "His duty was, if he considered the Empress of<br>China came from \"an infected locality,\" at once to<br>go on board the suspected vessel and make his<br>examination and inspection on board the vessel (as<br>Section 32 says), \"before any luggage, freight or<br>other thing is landed or allowed to be landed.\""
          ],
          [
           "It goes further and shews that the only person to<br>be \"dealt with in such manner as the Medical<br>Health City Officer shall direct\" is \"any infected<br>or exposed person from on board,\" under none of<br>which categories do the plaintiff or other<br>Chinamen, seized and carted off on this occasion,<br>happen to come."
          ],
          [
           "There was not an atom of actual proof before the<br>jury of Judgment."
          ],
          [
           "the actual existence of a single case of small pox<br>in Hong-kong in April or May or since, beyond a<br>medical opinion that there might be."
          ],
          [
           "Now a medical opinion, however valuable as an<br>opinion, is not the legal proof of a fact."
          ],
          [
           "It would be a painful surprise to the people of<br>Hongkong and its business men, living under<br>British rule, to learn that, on the strength only<br>of the opinion of a learned expert, their place is<br>given out to the world as an infected place, which<br>the by-law interprets to mean a place \"infected<br>with a malignant, pestilential or infectious<br>disease,\" without any actual proof of the fact."
          ],
          [
           "In this case the plaintiff had been already duly<br>and personally examined by Dr. McNaughton Jones,<br>the able and experienced Health Officer, on his<br>arrival, and passed."
          ],
          [
           "He had also been examined and passed by the<br>Customs House officers as a man who had paid all<br>his customs dues and had a certificate to shew the<br>fact, which left him free to come and go as he<br>pleased."
          ],
          [
           "It is not shewn that Dr.Duncan went on board, or<br>that he conferred with the Dominion Health<br>Officers as to whether any further examination of<br>the plaintiff was necessary, or, in the public<br>interest, advisable."
          ],
          [
           "It is shewn that he did not personally examine a<br>single Chinaman or inquire if he was “an infected<br>or exposed person.” In a matter affecting the<br>public health, it is quite natural, and everyone<br>would expect that officers who are armed with<br>extensive sanitary powers, should confer together<br>and assist one another in carrying out the law,<br>and work well together for the public good and<br>safety."
          ],
          [
           "Where that is not done the public are quick to<br>note and comment on the fact."
          ],
          [
           "The by-law is very properly arbitrary in its<br>provisions and the powers it confers in cases of<br>emergency, or even actual suspicion, on the Health<br>Officer and his subordinates and these should be<br>supported wherever practicable and the occasion<br>warrants their employment."
          ],
          [
           "But it should be understood that these exceptional<br>powers are a great trust placed in the hands of<br>the Health Officer to meet such cases as I have<br>described, and at all times to be administered<br>with firmness, judgment and discretion—not under<br>any fear of infection unwarranted by the facts of<br>the case which may enter into the mind of the<br>Health Officer, or to be carried out by carting<br>off en masse to the suspect station all who hail<br>from China or Hongkong without examination or<br>enquiry."
          ],
          [
           "The evidence shews there was nothing like<br>emergency in the present case or anything to<br>warrant the treatment they received."
          ],
          [
           "On a review of the facts I am of opinion that the<br>defendant exceeded his authority and caused the<br>plaintiff great unnecessary loss and annoyance."
          ],
          [
           "I therefore give judgment for plaintiff against<br>the defendant, but, as it is a test case, with<br>only $5 damages and costs to be taxed."
          ],
          [
           "Judgment for plaintiff."
          ]
         ],
         "hovertemplate": "Author=crease<br>Pro=%{x}<br>Cons=%{y}<br>Text=%{customdata[0]}<extra></extra>",
         "legendgroup": "crease",
         "marker": {
          "color": "#EF553B",
          "size": 5,
          "symbol": "circle"
         },
         "mode": "markers",
         "name": "crease",
         "orientation": "v",
         "showlegend": true,
         "type": "scatter",
         "x": {
          "bdata": "AAAAQGNN2D8AAAAgL6jaPwAAAOCVGtM/AAAAAEcavj8AAABgwX/bPwAAAEB5pss/AAAAYJLz2j8AAABA4ia4PwAAACCdncY/AAAAYHfh1j8AAABAxq/KPwAAAOCLPdc/AAAAYOMNyT8AAACgfTPXPwAAAIDqMMI/AAAAoEEjxT8AAADAbnHWPwAAAKBvntM/AAAAwLAy2j8AAACA5wrhPwAAAAD7o80/AAAAYN9Dzj8AAAAgu8XePwAAAGAOjdg/AAAAIF5Uxj8AAACAT3jaPwAAAKAv2cs/AAAAYOq42z8AAAAgus3bPwAAAKBkkNM/AAAAYOq42z8AAADATsrcPwAAACCYZck/AAAAQNvsxz8AAADA98jbPwAAAADhMtg/AAAAYOq42z8AAABg5ynUPwAAAGDquNs/AAAAYJRs0j8AAAAgBdbZPwAAAOD5VdI/AAAAYEtGzD8AAAAgZHnSPwAAAID7LtM/AAAAYBzk2j8AAACAs0qlPwAAACCIw90/AAAAoPRJyj8AAACgxYPUPwAAAGBcBc4/AAAAQEpDzT8AAABAc450PwAAAMDEsX8/AAAAQIwBzz8AAABge6nZPwAAAKBtaa8/AAAAoFTn1D8AAACAPATZPwAAACDVtdc/AAAAoC2V0z8AAACAyXnYPwAAAMBVBNI/AAAAwIZw5T8AAAAACQvpPwAAAADlx9Q/AAAAYPG52D8AAAAgL6jaPwAAAOCVGtM/AAAAAMslqj8AAADgmm7YPwAAAKCQYNI/AAAAQGAcwD8AAAAAWjXXPwAAAIDqFN0/AAAAQM2v2T8AAADAdEbIPwAAAEBT7tY/AAAAQJ3RvD8AAAAAi6DJPwAAAAD3R9A/AAAAQDFLzz8AAABgDK7aPwAAAED76NY/AAAAYHWSuj8AAADgEqbOPwAAAIDeQtU/AAAAAIXZjT8AAACg2O3UPwAAAOCWBL8/AAAAIIU00z8AAACgxmfQPwAAAMDJEcA/AAAAQERl0j8AAADgwUfZPwAAAAAb2Ns/AAAAYEaReT8AAADglwLQPwAAAICtftc/AAAAQKZN1z8AAADgBArMPwAAACAHmN4/AAAAAH9iyD8AAABAUXTePwAAAEBRdN4/AAAAQFF03j8AAADgOEbHPwAAAIBtmrY/AAAAAFZgzz8AAAAgB5jePwAAAIDTnKg/AAAAIAeY3j8AAABgEpLYPwAAAGAcscc/AAAAQMPgyT8AAACAxNHIPwAAAABus9k/AAAAQA3puj8AAACghCHPPwAAACARF8U/AAAAIAb5zj8AAABgESnWPwAAAMBucdY/AAAAgB6q1j8AAABgd+HWPwAAAKB2Ed0/AAAA4Is91z8AAADgCPLhPwAAAKB9M9c/AAAAAJsbzD8AAACgPC/XPwAAAOB6Htc/AAAAwH+M2T8AAACAbcjbPwAAACBwYt8/AAAAALwM3z8AAADAe6XZPwAAAMA7Hto/AAAA4HWZ1T8AAAAgx6LYPwAAAKBXodc/AAAAQGW10j8AAACg5qLgPwAAAACWc9c/AAAAYDcUyD8AAACg5p/DPwAAAOBtO4I/AAAAAAZM0z8AAADA9TKAPwAAAIBWudM/AAAAYJlowT8AAACgFIGxPwAAAGBAOts/AAAA4CeE0T8AAADglFLWPwAAAGDquNs/AAAA4Euq0D8AAABg6rjbPwAAAABkENo/AAAAAJTD2D8AAAAg63LXPwAAAMD9FNs/AAAAwPfV2j8AAAAgeoDTPwAAACCzbdE/AAAAgBVN0D8AAABAcbTUPwAAAMBozNo/AAAA4AWP2j8AAACAkrO2PwAAAAAIE8Q/AAAAANMO4T8AAAAAXM7hPwAAAECMGKw/AAAAgOXd1D8AAADgonulPwAAAMB7tNU/AAAAgAv30z8AAACg40nSPwAAAKCvE8Q/AAAAgC5HgD8AAADAJQPVPwAAAGBKVeI/AAAA4IY95T8AAADAze/fPwAAACDFwdM/AAAAIGXn1T8AAABADuLAPwAAAMC9BdI/AAAAoKd1wT8AAACgt+F2PwAAAICvTdo/AAAAwPPR3T8AAACAP2vMPwAAAGBDBMU/AAAAILAc1j8AAADAH17dPwAAAEA8udQ/AAAAoBnD0D8AAACAUimbPwAAAIDmSNk/AAAA4I8Cvj8AAAAAr1vJPwAAAGB9Z9k/AAAAIKfF1z8AAAAgI8rtPwAAACD90Nc/AAAAAEJp0T8AAADg8P7aPwAAAOC2i9c/AAAAgJgw1z8AAAAA6pDVPwAAAMDHkuc/AAAAQKbm3z8AAACgVQLtPwAAAIDM0Ns/AAAAAJpXwD8AAADg8/HIPwAAAMCQTOQ/AAAAoLYz3T8AAAAgC0jiPwAAAIAnoOI/AAAAwBKd0j8AAAAguufXPwAAAICqUdQ/AAAAILrn1z8AAACgWI7RPwAAAAA3wdc/AAAAwKjEhj8AAADA+cHdPwAAAOBqlt8/AAAAoMOH0T8AAABAhdfRPwAAAAAAmao/AAAA4E59sD8AAABAohqyPwAAACAEhME/AAAAYDzilT8AAACg4BXGPwAAAEBMt64/AAAAYC4Dhz8AAACgXpaxPwAAAEAyAro/AAAAwBZ4tD8AAABARIygPwAAAGBvVcQ/AAAAADVFgT8AAAAgaU7PPwAAAODpNsE/AAAAYLqHyj8AAACALYGnPwAAAAD+p7I/AAAAAM2tfT8AAABA7ITTPwAAAMCPmY8/AAAAIP7IyT8AAACAW823PwAAAKBqPs8/AAAAIMGs2j8AAAAAajfYPwAAAGDN0tk/AAAAYP0MtD8AAABAJZGRPwAAAMAuZcc/AAAAwEGozj8AAACg41vMPwAAAKB4o8Q/AAAAQF42uz8AAACAxHG2PwAAAODPXNE/AAAAoHA81j8AAABgPUPRPwAAACBXcdo/AAAAIJgP3D8AAAAgxInYPwAAAOCfC9Q/AAAAQISG4D8AAAAgyQvIPwAAAOBWSa4/AAAAQBX3xD8AAABgw+LCPwAAACDLys0/AAAAoNhUwT8AAADAF6upPwAAAIDVbrM/AAAAIGIj3z8AAACgFbLMPwAAAKCYVIA/AAAAAF8l2D8AAABAXFSwPwAAAEAL1b0/AAAA4O1h0z8AAACgZGXAPwAAACCCS8I/AAAAwAdt0j8AAAAgrhbCPwAAAACZT8A/AAAAIIF8mD8AAAAAmw/EPwAAAEAtP8E/AAAAwICV0z8AAACggQ/GPwAAACD4NLw/AAAAIDB0yz8AAAAg3qe+PwAAAKB3Ttw/AAAAoCbg0j8AAAAgxwDCPwAAACDsCcI/AAAAoPaF0D8AAAAgePPMPwAAAMBXiNA/AAAA4DtjyD8AAADgNq6tPwAAAMD1kbY/AAAAIMGs2j8AAACAPBC9PwAAAIClCts/AAAAYOPYxD8AAACgUhfIPwAAAGAQfZg/AAAAAAtjtz8AAAAAdu3VPwAAAODshdk/AAAAIOno0z8AAABA1RbKPwAAAMD5/dE/AAAAoNF02j8AAABA+mzCPwAAAGAwKYQ/AAAAQBBG0T8AAACguUfQPwAAAEBiWs4/AAAAoNc5hT8AAABAVYnTPwAAAGDgC9E/AAAA4NDGwT8AAABgan7OPwAAAIDFrNc/AAAAYKZ00j8AAAAglVHaPwAAAMD7OME/AAAAYKwE1D8AAABApZLZPwAAACDVUds/",
          "dtype": "f8"
         },
         "xaxis": "x",
         "y": {
          "bdata": "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",
          "dtype": "f8"
         },
         "yaxis": "y"
        },
        {
         "customdata": [
          [
           "BRITISH COLUMBIA REPORTS."
          ],
          [
           "REGINA v. MEE WAH."
          ],
          [
           "BEGBIE, C.J."
          ],
          [
           "Constitutional law-B.N.A."
          ],
          [
           "Act, Sec."
          ],
          [
           "92, s.s. 9-Taration-Municipal license fees-Direct<br>or indirect tax-Construction of statute-Words<br>ejusdem generis."
          ],
          [
           "The Municipal Act, 1885, Sec."
          ],
          [
           "10, extended the powers of municipalities so as to<br>include \" licensing and regulating wash-houses and<br>laundries,\" and Sec."
          ],
          [
           "11 enacts that Municipalities may \" hereafter levy<br>and collect from every person who keeps or carries<br>on a public washhouse or laundry, such sum as<br>shall be fixed on by by-law, not exceeding $75.00<br>for every 6 months.\""
          ],
          [
           "On appeal from a conviction for carrying on a<br>public laundry without a license."
          ],
          [
           "Held, (1) Taxation by means of license fees, and<br>the tax in question, is indirect and not direct<br>taxation."
          ],
          [
           "(2) All indirect taxation, except that authorized<br>by Sec."
          ],
          [
           "92, s.s. 9."
          ],
          [
           "B.N.A."
          ],
          [
           "Act, providing \"in each province the legislature<br>may exclusively make laws in relation to (9) shop,<br>tavern, saloon, auctioneer and other licenses in<br>order to the raising of a revenue for provincial,<br>local or municipal purposes \" is ultra vires of<br>the Provincial Legislature."
          ],
          [
           "(3) The words \"and other licenses\" only included<br>industries ejusdem generis with those specified,<br>and do not include a wash-house."
          ],
          [
           "(4) The most reasonable rule to adopt to ascertain<br>whether a certain matter or thing is within the<br>meaning of a statute as being ejusdem generis with<br>things specified therein \"and others,\" is to look<br>to the object or mischief aimed at by the statute."
          ],
          [
           "All similar things that come within that object,<br>though not in the abstract ejusdem generis are so<br>for the purposes of the statute."
          ],
          [
           "(5) If it appears that a tax is not bona fide<br>within the purpose provided for, but is imposed<br>with the real purpose of discriminating against a<br>class, it is not within the justification of the<br>enabling statute, and, on the facts, the tax in<br>question was intended not for the purpose of<br>raising a revenue, but as a restriction on the<br>Chinese."
          ],
          [
           "APPEAL from a conviction for carrying on a public<br>laundry without a license and payment of the<br>license fee under a by-law of the Corporation of<br>the City of Victoria based on Sec."
          ],
          [
           "11 of Municipal Amendment Act, 1885."
          ],
          [
           "The facts and arguments of counsel fully appear<br>from the judgment."
          ],
          [
           "A. N. Richards, Q.C., for the appeal."
          ],
          [
           "J. S. Yates, contra."
          ],
          [
           "BEGBIE, C.J ."
          ],
          [
           ": This is an appeal from a conviction for carrying<br>on a public laundry without a license and payment<br>of the license fee under a recent by-law."
          ],
          [
           "It was not denied by the appellant that the by-law<br>is authorized by the recent Provincial Act, the<br>only question is whether that Provincial Act, viz<br>."
          ],
          [
           ": clause 11 of the Municipal Amendment Act, 1885,<br>is constitutional within the meaning of the<br>British North America Act."
          ],
          [
           "Section 10 of the Provincial Act extends the<br>powers of the Corporation so as expressly to<br>include \"licensing and regulating wash-houses and<br>laundries,\" and Section 11, referring to the<br>existing expressed powers of Corporations to issue<br>other licenses and collect fees or taxes in<br>respect thereof, expressly adds this, that they<br>may hereafter levy and collect \" from every person<br>who keeps or carries on a public wash-house or<br>laundry such sum as shall be fixed by by-law not<br>exceeding $75.00 for every 6 months.\""
          ],
          [
           "This is the clause impugned."
          ],
          [
           "The clause in the B.N.A."
          ],
          [
           "Act upon which alone this Section of the<br>Provincial Act is based is Section 92. \""
          ],
          [
           "In each province the Legislature may exclusively<br>make laws in relation to * * * (sub-section 9)<br>shop, saloon, tavern, auctioneer and other<br>licenses in order to the raising of a revenue for<br>Provincial, local or Municipal purposes."
          ],
          [
           "Sub-section 16."
          ],
          [
           "\"Generally all matters of a merely local or<br>private nature in the Province \" does not, I<br>think, apply to taxation."
          ],
          [
           "The only other sub-section which confers on the<br>Provincial Legislature any power to tax is sub-<br>section 2 which deals with direct taxation within<br>the Province in order \" to the raising of a<br>revenue for Provincial purposes.\""
          ],
          [
           "But neither can this sub-section have any<br>application here."
          ],
          [
           "1st."
          ],
          [
           "It deals only with direct taxes and this taxation<br>by means of license fee is indirect, not direct<br>taxation."
          ],
          [
           "Severn's case, 2 S.C. Can."
          ],
          [
           "R. pp."
          ],
          [
           "70, 90, 92, 113, 123, 137."
          ],
          [
           "2nd."
          ],
          [
           "It deals only with taxation within, i.e."
          ],
          [
           "generally, throughout the ProvBEGBIE, C.J."
          ],
          [
           "ince, and these laundry license fees are only to<br>be levied  within Municipalities, and may vary in<br>different parts of 1886."
          ],
          [
           "Feb. 3. the Province."
          ],
          [
           "3rd."
          ],
          [
           "It only authorizes taxes for Provincial revenue<br>and these license fees are to fall into the<br>MuniciREGINA 0."
          ],
          [
           "MEE WAH pal revenue."
          ],
          [
           "The consideration of sub-section 2, therefore,<br>merely emphasizes the proposition (according to<br>the Attorney-General of Quebec v. The Queen<br>Assurance Company, 3 L.R."
          ],
          [
           "App."
          ],
          [
           "Cas."
          ],
          [
           "1090) that all indirect taxation for Municipal<br>purposes except what is authorized by sub-section<br>9 is illegal."
          ],
          [
           "The first objection taken by Mr. Richards (viz.)"
          ],
          [
           "that the clause is unconstitutional merely and<br>broadly because it imposes an indirect tax seems<br>to be too general."
          ],
          [
           "Such taxation will be valid enough, if the<br>enactment comes fairly within the meaning of sub-<br>section 9, nor can the next objection be fatal<br>(viz.)"
          ],
          [
           "the objection merely and broadly that it is in<br>restraint of trade."
          ],
          [
           "Whether washing be a trade or a mere industry will<br>presently be considered."
          ],
          [
           "UnquesJudgment."
          ],
          [
           "tionably all taxation on buying and selling, all<br>interference with labour, may and perhaps must to<br>some extent restrain trade, yet some instances of<br>taxation of trades, and some regulations of<br>labour, are undoubtedly within the power of the<br>Provincial Legislature."
          ],
          [
           "Besides, this enactment, and ."
          ],
          [
           "consequent by-law, do not absolutely restrain,<br>i.e."
          ],
          [
           "forbid this industry."
          ],
          [
           "The laundryman may remove beyond the city limits<br>and quite evade the tax."
          ],
          [
           "Setting aside therefore these broad objections to<br>the tax, as too general, the questions are two,<br>(viz.)"
          ],
          [
           "1st."
          ],
          [
           "Does this license come within the words \"shop,<br>saloon, tavern, auctioneer and other license?\""
          ],
          [
           "and,  2nd."
          ],
          [
           "Is the tax imposed in order to raise a Municipal<br>revenue, or is it imposed for any other purpose ?"
          ],
          [
           "e.g."
          ],
          [
           "for restriction or suppression, total or partial."
          ],
          [
           "The answer to the first question depends on the<br>force of the words \"other licenses.\""
          ],
          [
           "Whether that means other licenses on matters of<br>the same kind as the four enumerated, according to<br>the general rule of construction, or whether it<br>means licenses for the doing or permitting any<br>other thing whatever."
          ],
          [
           "It is said by a learned text writer, Sir P.<br>Maxwell on Statutes, p. 303, that the rule<br>restraining the generality of the word \" other \"<br>to matters ejusdem generis only applies where the<br>things actually named are themselves all of the<br>same nature; but that where the things named are<br>of different natures then the phrase \" other<br>things or articles\" will extend to all objects,<br>though quite different from those named."
          ],
          [
           "Citing for this among other cases Regina v. Payne<br>1 C.C.R."
          ],
          [
           "27."
          ],
          [
           "There a statute made it penal to convey to a<br>prisoner, in order to facilitate his escape, \" any<br>mask, disguise, letter or other article or thing;\"<br>and it was held that a crowbar was within the Act."
          ],
          [
           "So in Young v. Grattridge, 4 L.R.Q.B."
          ],
          [
           "166, a Health Act empowered a medical officer to<br>enter and inspect \" any slaughter-house, shop,<br>building, market or other place \" and it was held<br>that a butcher's yard which contained slaughtered<br>cattle was within the Statute, Regina v.<br>Edmundson, 2 E. & E. 77, is to a similar effect."
          ],
          [
           "But these decisions do not for their support<br>apparently require the principle enunciated by<br>Maxwell, nor was any such principle alluded to in<br>any of them."
          ],
          [
           "And though his statement deserves great respect<br>being cited approvingly by a very learned Judge in<br>Severn's case, yet it was not followed by the<br>other four Judges, nor does it appear to be<br>founded on any other judicial dictum."
          ],
          [
           "And indeed it is submitted that such a<br>construction of the doctrine of ejusdem generis is<br>in some sense self-destructive."
          ],
          [
           "If the two or more things actually named are<br>identical as \" air, atmosphere, or other gas;\" \"<br>dagger, poniard or other weapon,\" then the word \"<br>other \" is to be confined to other gases strictly<br>of the same nature, it does not extend the phrase<br>at all and if the two things named are not<br>identical as \" oil, vinegar or other fluids,\" the<br>word \" other \" would extend to all other fluids<br>whatever."
          ],
          [
           "The doctrine of ejusdem generis which has occupied<br>many Courts and many BEGBIE, C.J."
          ],
          [
           "judgments and which therefore does really exist,<br>would run  the risk of being annihilated."
          ],
          [
           "A more reasonable rule 1886."
          ],
          [
           "Feb. 3."
          ],
          [
           "REGINA MEE WAH would seem to be to look at the<br>object or the mischief aimed at by the Statute or<br>other instrument; all matters that come within<br>that are ejusdem generis so far as the Statute is<br>concerned."
          ],
          [
           "Thus in Gayne's case, a crow bar and a letter and<br>a mask are no doubt extremely different in<br>texture, weight and appearance."
          ],
          [
           "No painter or chemist would call them ejusdem<br>generis; but they are all strictly ejusdem generis<br>so far as that they are instruments calculated to<br>facilitate a prisoner's escape."
          ],
          [
           "So in Young's case, a butcher's yard is strictly<br>ejusdem generis with his shop and his slaughter<br>house so far as regards the mischief of preparing<br>unwholesome food."
          ],
          [
           "But a watchmaker's or a tailor's shop would not be<br>ejusdem generis with a butcher's shop, though all<br>are called shops; and meat in a tailor's shop<br>would probably not have been liable to be seized<br>under Statute in that instance."
          ],
          [
           "If there were no matters or occupations having any<br>analogy or attribute (except taxability) common to<br>these four named instances in sub-section 9, the<br>inference would be very strong that \" other<br>licenses \" extended to every possible matter."
          ],
          [
           "But as was pointed out by Mr. Justice WILSON in<br>Regina v. Taylor, 36 U.C.Q.B."
          ],
          [
           "183, cited and approved in Severn v. Reginam,<br>there are many analogous matters."
          ],
          [
           "Restaurants and lodging houses bear no distant<br>resemblance to taverns; coffee shops to saloons<br>(though these again are utterly distinct from a<br>teetotaler's point of view) and there are coupled<br>together in the Insolvency Act, Canada, 1875, Sec."
          ],
          [
           "1, brokers and commission agents to auctioneers,<br>etc."
          ],
          [
           "There are two classes of Statutes in which words<br>are always strictly construed in favour of the<br>party charged, even at the suit of the Crown;<br>Statutes which create offences and Statutes which<br>impose taxation."
          ],
          [
           "The present Municipal Amendment Act, 1885,<br>partakes of both natures, and the ordinary rule<br>must I think be observed, viz., the subjects of<br>the \"other licenses \" mentioned in sub-section 9<br>must have at least somewhat besides taxability<br>(from which quality no Act or thing is exempt) in<br>common with \"shops, taverns, saloons or<br>auctioneers.\""
          ],
          [
           "Again suppose some other licenses, well known<br>elsewhere, taxes as in England on man-servants, on<br>hair powder, on armourial bearings-would these be<br>authorized by subsection 9?"
          ],
          [
           "I think not."
          ],
          [
           "Indeed if no restriction whatever be placed on the<br>word \" other\" in that section; if the Provincial<br>Legislature can insist upon imposing licenses upon<br>everything and upon every act of life, and tax<br>each licensee at any moment they please, there<br>would be a very simple way of excluding every<br>Chinaman from the Province, by imposing a<br>universal tax, not limited to any nationality, of<br>one or two thousand dollars per annum for a<br>license to Judgment."
          ],
          [
           "wear long hair on the back of the head: or to<br>exclude Russians by a license to wear a beard, or<br>Jews by a license to eat unleavened bread."
          ],
          [
           "No Chinaman will shave the back of his head; no<br>true moujik will shave his chin."
          ],
          [
           "There might be a tax on a license to register<br>lands above a certain value; and we might have a<br>graduated property tax."
          ],
          [
           "The opinion, therefore, of the majority of the<br>Judges in Severn's case, seems more probable."
          ],
          [
           "There must I think be some limitation placed on<br>the licensing power by the word \" other.\""
          ],
          [
           "Mr. Yates argued from even that point of view<br>these laundries were taxable, for that the laundry<br>men though they were very certainly not keeping<br>shops, were very analogus to auctioneers."
          ],
          [
           "I rather think that the auctioneers would<br>repudiate this alleged similarity of their<br>occupation to that of a Chinese washerman."
          ],
          [
           "I cannot perceive it."
          ],
          [
           "An auctioneer has very extensive authority and<br>important duties; he prepares advertisements and<br>surveys, disposes property in lots, advises as to<br>prices, and generally is the agent of both parties<br>to the contract of sale."
          ],
          [
           "There is nothing of all BEGBIE."
          ],
          [
           "C.J."
          ],
          [
           "this in a laundry; and I feel strongly inclined to<br>think that  laundries are not taxable under this<br>sub-section at all, bearing no analogy to either<br>\"shops, saloons, taverns or auctioneers.\""
          ],
          [
           "But without deciding on this ground there is a<br>still more serious obstacle against supporting<br>this clause 11 of the Provincial Act of 1885, as<br>being within Section 92, subseetion 9."
          ],
          [
           "The taxation by way of license authorized by that<br>sub-section 9 is to be \"in order to the raising a<br>revenue for Provincial, local or Municipal<br>purposes.\""
          ],
          [
           "Now, licences may have for their object the<br>raising of a revenue, or the regulation of a trade<br>or occupation, or they may be imposed for the<br>purpose of repression or suppression."
          ],
          [
           "And whatever power the Provincial Legislature may<br>possess for regulation or repression; taxation for<br>these two latter purposes is not authorized by the<br>B.N.A."
          ],
          [
           "Act, but only taxation for the purpose of revenue."
          ],
          [
           "And it is roundly alleged by the appellant that<br>this tax is imposed, not with the object of<br>raising a revenue for the City, but with the<br>object of harJudgment."
          ],
          [
           "assing Chinamen, supposed to be the only persons<br>carrying on this industry."
          ],
          [
           "In considering this objection, we must distinguish<br>between the real objects and the actual results of<br>legislation."
          ],
          [
           "It is true the real object is very often, perhaps<br>in most cases, shown by the result."
          ],
          [
           "But an Act which has bona fide only one object,<br>may indirectly work out an entirely collateral<br>result."
          ],
          [
           "An Act intended purely for a revenue, or<br>regulation may greatly harass some particular<br>individuals or classes of individuals; e.g."
          ],
          [
           "the Excise Acts."
          ],
          [
           "But the harassing of brewers is not the object of<br>the Excise Acts."
          ],
          [
           "So on the other hand an Act intended purely for<br>harassing of some one or more individuals may<br>incidentally bring money into the City treasury."
          ],
          [
           "That incidental result will not validate the<br>Statute, if the real object be unlawful."
          ],
          [
           "The objection to apply at all, must depend on the<br>object, declared or dissembled, and not merely on<br>the result or one  of the results of the<br>provisions of the Act."
          ],
          [
           "1886."
          ],
          [
           "If the object of the Provincial Statute be as<br>alleged, viz., Feb. 3.  to subject Chinamen to<br>exceptional disadvantages it is clearly<br>unconstitutional."
          ],
          [
           "That point has been so held in this Court by Mr.<br>Justice GRAY in Tai Lung's case, reported appx."
          ],
          [
           "G. to the report of the recent Chinese Conmission,<br>p. 379, and by Mr. Justice CREASE in Wing Chong's<br>case, 1 B.C.R."
          ],
          [
           "Pt."
          ],
          [
           "II, 150, both these learned Judges fortifying<br>their opinions by numerous decisions and arguments<br>of Judges in the United States' Courts."
          ],
          [
           "Those decisions are not binding on us here; and<br>indeed are partly founded on the Constitution of<br>the United States and its relation to the several<br>States, which in many respects differ from the<br>Constitution and the relation between the Dominion<br>and the Provinces."
          ],
          [
           "But the Judges in those foreign Courts have had a<br>much longer and more varied experience on these<br>topics than ourselves; their institutions are<br>closely analogous in many Judgment."
          ],
          [
           "respects, though, it is true, contrasted in others<br>to our own."
          ],
          [
           "And their opinions and reasonings being also<br>founded on international law, and, I take the<br>liberty of saying, on natural equity and common<br>sense, they are entitled to great weight beyond<br>the limits of their own jurisdiction."
          ],
          [
           "I shall only mention Lee Sing v. Washburn, 20 Cal."
          ],
          [
           "Rep. 354; Baker v. Portland, 5 Law 750; Teburcio<br>Parrott's case, coram SAWYER and HOFFMAN, J.J.,<br>1880, and the Quene ordinance case, coram FIELD<br>and SAWYER, J.J., 1879; the two latter cases<br>published in a separate pamphlet form, in which<br>the opinions of Mr."
          ],
          [
           "Justices FIELD, HOFFMAN, SAWYER and DEADY and<br>other Judges whom they cite, all confirm this,<br>that a State, or Provincial law imposing special<br>disabilities or unequal burdens on Chinamen is<br>unconstitutional and void."
          ],
          [
           "In British Columbia such a law if it impose a tax<br>labours under the additional infirmity that a<br>licence tax for any other purpose with any other<br>object, than merely raising a revenue, is beyond<br>the power of the Provincial Legislature to impose."
          ],
          [
           "Mr. Yates, for the Corporation, urged that this<br>Statute is  very different from the Statutes<br>condemned by Mr. Justice 1886."
          ],
          [
           "Feb. 3."
          ],
          [
           "CREASE in Wing Chong's case and by Mr. GRAY in Tai<br>Lung's case; those."
          ],
          [
           "Statutes were by their title and preamble<br>expressly aimed at Chinamen by name; that this<br>distinction also renders inapplicable all the<br>United States' cases cited; that this enactment is<br>quite general extending to all laundries without<br>exception and we must not look beyond the words of<br>the enactment to enquire what its object was; that<br>there is in fact one laundry in Victoria not<br>conducted by Chinamen on which the tax will fall<br>with equal force so that it is impossible to say<br>that Chinamen are hereby exclusively selected for<br>taxation; the circumstance that they are chiefly<br>affected being a mere coincidence; that the bylaw<br>only imposes $100.00 per annum, keeping far within<br>the limit of $150.00 permitted by the Statute;<br>that the tax clearly is calculated to procuring<br>additional Municipal revenue and that no other<br>object is hinted at."
          ],
          [
           "Now it is true that this Statute does not, like<br>those dealt with by Mr. Justice GRAY and Mr.<br>Justice."
          ],
          [
           "CREASE by its Judgment."
          ],
          [
           "very title bind illegality upon its forehead; nor<br>is there here any preamble like that in Wing<br>Chong's case which Mr. Justice CREASE treats as \"<br>without example,\" but which may well deserve the<br>stern reproof uttered by Mr. Justice FIELD upon a<br>somewhat similar enactment in California. \""
          ],
          [
           "It is not creditable to the humanity and<br>civilization of our people, much less to their<br>Christianity, that an ordinance of this character<br>was possible.\""
          ],
          [
           "Quene ordinance case, p. 9."
          ],
          [
           "The recent statute has nothing of that sort."
          ],
          [
           "But it is very justly insisted upon by every Judge<br>that the object of a statute is after all to be<br>determined by the effect of its operative part."
          ],
          [
           "The title and preamble may be very objectionable,<br>but if the operative sections are within the power<br>of the Legislature they shall stand."
          ],
          [
           "On the other hand, the preamble may breathe the<br>spirit of the purest and most  universal<br>philanthropy, and the most submissive legality ;<br>1886. but that will not save any clauses which are<br>otherwise Feb. 3. unconstitutional."
          ],
          [
           "And in determining the quality of any  clauses,<br>the same Mr. Justice FIELD remarks : \" When we<br>take our seats on the Bench, we are not struck<br>with blindness and forbidden to know as Judges<br>what we see as men ; and when an ordinance, though<br>general in its terms, only operates upon a special<br>race, sect or class, it being universally<br>understood that it is to be enforced only against<br>that race, sect or class, we may justly conclude<br>that it was the intention of the body adopting it<br>that it should only have such operation, and treat<br>it accordingly.\""
          ],
          [
           "Now can anybody in the Province, on or off the<br>Bench, conscientiously say that this ordinance<br>does not come within the principle thus enunciated<br>?"
          ],
          [
           "I, for my part, cannot arrive at any other<br>conclusion than that it is specially directed<br>against Chinamen because they are Chinamen and for<br>no other Judgment."
          ],
          [
           "reason ; to compel them to remove certain<br>industries from the city or themselves from the<br>Province."
          ],
          [
           "But the authorities already cited show that this<br>effect cannot be attained directly, and what<br>cannot be done directly will not be permitted to<br>be done by a side wind."
          ],
          [
           "Tiburcio Parrott's Case, pp."
          ],
          [
           "1634; Cummings v. Missouri, 4 Wall 325. \""
          ],
          [
           "If we hold otherwise,\" said the learned Judge, in<br>that case \"no kind of oppression can be named<br>against which the framers of (the B.N.A."
          ],
          [
           "Act) intended to guard which may not be effected.\""
          ],
          [
           "The appellants' contention that the clause is<br>merely intended to hamper or expel Chinamen is<br>much strengthened by considering the amount of the<br>tax sanctioned, which is $150.00 per annum,<br>whereas the limit sanctioned by the Legislature in<br>the case of any retail shop, however extensive or<br>lucrative its business, is only $10.00 per annum."
          ],
          [
           "In other words, this menial and poorly paid<br>occupation may be taxed fifteen times the annual<br>amount which the statute permits to be imposed on<br>the most extensive grocery or dry goods store."
          ],
          [
           "It is impossible for me to believe that the<br>BEGBIE, C.J, sole object or the main object of<br>such an imposition is to aid the revenue of the<br>Corporation."
          ],
          [
           "The test is whether on the whole statute the<br>Legislature can fairly be held to have said : \"Let<br>us impose a tax in order to raise a revenue,<br>though perhaps it may fall on Chinamen,\" or \" let<br>us impose this tax in order to fall on Chinamen,<br>though perhaps it will raise no revenue.\""
          ],
          [
           "When we find (1st) no other description of labour<br>taxed at all ; (2nd) this description of labour<br>practically quite abandoned to Chinamen alone ;<br>(3rd) this description of labour taxed at fifteen<br>times the rate permitted to be levied on any<br>retail shop ; (4th) that a preliminary Provincial<br>Act has declared Chinamen incapable of the<br>franchise which they formerly exercised."
          ],
          [
           "I cannot doubt but that the tax is directed<br>against Chinamen, as such."
          ],
          [
           "But the enormously disproportioned rate of<br>taxation has another consequence."
          ],
          [
           "It shows that revenue was not the sole object of<br>the tax ; probably not the object at all."
          ],
          [
           "If the promoters of this clause had been really<br>casting about for Judgment."
          ],
          [
           "additional revenue, they must have seen that shops<br>are a great deal more numerous than laundries and<br>generally more remunerative."
          ],
          [
           "It requires very little financial ability to<br>perceive that a a small addition of $5.00 or<br>$10.00 on shops would enrich the city far more<br>than $150.00 per annum on every laundry, even if<br>this last amount could be collected."
          ],
          [
           "But here the magnitude of the tax would entirely<br>defeat the professed object and support the view<br>that the concealed object was the true one."
          ],
          [
           "The occupation of a washerman is very poorly paid<br>; probably at a lower rate than any other trade or<br>occupation, since in former years men of all<br>nationalities busied themselves with this, which<br>they have wholly abandoned, presumably for more<br>lucrative employment ; whereas the number of<br>shops, &c., has very much increased."
          ],
          [
           "It must have been apparent on the commonest<br>reflection that this, the most poorly paid<br>occupation, cannot endure fifteen times the tax<br>imposed on the most lucrative; that such a 1886.<br>tax would probably extinguish every laundry in<br>Victoria ; Feb. 3. and so that no additional<br>revenue would be produced at all."
          ],
          [
           "I cannot imagine that any person reading the<br>clause would be blind to this; and I am compelled<br>to think that restriction and not revenue was the<br>very object of the tax."
          ],
          [
           "But it is clear that the Provincial Legistature<br>has under the B.N.A."
          ],
          [
           "Act no power to impose or authorize a tax for the<br>purpose of driving any industry out of the city or<br>the Province."
          ],
          [
           "Clanse 11 in the Act of 1883 seems, therefore,<br>quite ultra vires and unconstitutional; and the<br>by-law, which I have taken to be admitted as<br>otherwise accurate, stands upon that clause alone<br>and must fall with it."
          ],
          [
           "In fact, if the bylaw only imposes a moderate and<br>reasonable amount, say $5.00 or $10.00 per annum,<br>it would probably be equally a nullity."
          ],
          [
           "Even a reasonable and useful by-law cannot stand<br>Judgment."
          ],
          [
           "if authorized only by an unconstitutional statute."
          ],
          [
           "The general conclusions arrived at are these: (1.)"
          ],
          [
           "It seems probable that laundries are not taxable<br>within Subsection 9 of Section 92 B.N.A."
          ],
          [
           "Act."
          ],
          [
           "(2.)"
          ],
          [
           "Any clause in a Provincial Statute or Municipal<br>By-Law, which, though general in its terms,<br>operates, or is intended to operate only upon one<br>sect, race or class, is liable to be declared<br>unconstitutional and void."
          ],
          [
           "(3.)"
          ],
          [
           "The object of a statute is to be ascertained not<br>only from its title or preamble, but mainly from<br>its enactments."
          ],
          [
           "(4.)"
          ],
          [
           "That a by-law, even if founded upon a valid<br>statute must be reasonable, i.e., not necessarily<br>equal but proportionate, and not such as to defeat<br>the object of the law."
          ],
          [
           "This is all in conformity with the previous<br>decisions of Mr. Justice CREASE in Wing Chong's<br>Case and Mr. Justice GRAY in Tai Lung's Case,<br>which are approved and followed."
          ],
          [
           "In this case I am moreover of opinion (5th) that<br>the Provincial Legislature has no power to impose<br>or authorize any  license tax except for the bona<br>fide object of raising revenue by the produce of<br>the tax ; and that this Clause 11 was not enacted<br>bona fide for that sole purpose or even mainly for<br>1886. that purpose, and is therefore<br>unconstitutional and void."
          ],
          [
           "The conviction will, therefore, be set aside with<br>costs."
          ],
          [
           "Appeal allowed."
          ],
          [
           "OF BRITISH COLUMBIA."
          ],
          [
           "REGINA r, CORPORATION OF VICTORIA,  AT THE<br>PROSECUTION OF MOCK FEE AND ANOTHER."
          ],
          [
           "Trade licenses Porrer of Legislature or<br>Municipality to deny to certain nationalities or<br>individual-Right of Chance to apply for<br>parabroker's license."
          ],
          [
           "It is not competent to the Provincial Legislature,<br>or to a municipality, to deprive, generally,<br>particular nationalities or individuals of the<br>capacity to take out municipal trade licenses ; e.<br>g., a Chinaman has a right to apply for a<br>pawnbroker's license."
          ],
          [
           "Application for a mandamus to the Corporation of<br>the City of Victoria to compel the renewal to the<br>prosecutors (Chinamen) of a pawnbroker's license."
          ],
          [
           "Fell for the application ; Taylor for the<br>Corporation."
          ],
          [
           "SIR M. B. BEGBIE, C. J. :-  This is an application<br>for a mandamus to the Corporation of the City of<br>Victoria, ordering them to issue a renewal of a<br>pawnbroker's license to the prosecutors."
          ],
          [
           "The reason alleged by the Corporation for their<br>refusal is that they have passed a resolution<br>stating that in their opinion the prosecutors are<br>not fit persons to be the recipients of such a<br>license."
          ],
          [
           "It is alleged by the prosecution, and not denied,<br>that the Council have in fact ordered the<br>Collector to issue no pawnbroking license to any<br>Chinaman."
          ],
          [
           "And the proposition was broadly advanced before me<br>that the Provincial Legislature have the right to<br>eliminate nationalities or individuals from the<br>capacity to receive these trade licenses : and<br>that they have, in conformity with Regina v.<br>Hodge, delegated to the Council authority to<br>exercise that right."
          ],
          [
           "The first of these contentions has already been<br>before this Court, and has, I think, been entirely<br>denied by several Judges now on the bench."
          ],
          [
           "In the first place by Mr. Justice Gray, in Tai<br>Sing v. Macguire (1 B.C.R."
          ],
          [
           "pt."
          ],
          [
           "i."
          ],
          [
           "101, 1878): by Mr. Justice Crease in Wing Fong's<br>case (1 B.C.R."
          ],
          [
           "pt."
          ],
          [
           "ii."
          ],
          [
           "150, 1885); and by myself in Mee Wall's case (not<br>reported)."
          ],
          [
           "These decisions have never been appealed, and I do<br>not feel at liberty to disregard them."
          ],
          [
           "I must, therefore, assume that no such authority<br>exists in the Provincial Legislature, and<br>therefore it is impossible that they could have<br>delegated it, or conferred it on the Council."
          ],
          [
           "Evidently, if such a power existed, then, since no<br>man may in any municipality pursue any avocation<br>without such license, the Local Legislature might<br>exclude large classes of men from gaining a<br>livelihood, or indeed existing in the Province-a<br>very wide interference with \"trade and commerce,\"<br>which is totally removed from their control by the<br>B. N. A."
          ],
          [
           "Act."
          ],
          [
           "It may be useful, however, to examine briefly the<br>grounds on which the Council have been advised<br>that they have a discretion in the matter."
          ],
          [
           "This was, in the argument before me, entirely<br>based on the permissive form adopted in the<br>Statute (\"Municipal Act, 1887,\" c. 16, s. 104). \""
          ],
          [
           "The municipality shall have power to issue<br>licenses \" for the trades and professions<br>enumerated, including pawnbrokers (sub-s. 10),<br>\"and to levy and collect by means of such licenses<br>the amounts\" therein specified."
          ],
          [
           "And stress was laid on the word \" license,\" as<br>intimating a permission ; without which antecedent<br>license or permission the proposing trader could<br>not lawfully commence business (ss."
          ],
          [
           "112, 113)."
          ],
          [
           "But these words do not imply any discretion, i.<br>e., authority to grant or refuse."
          ],
          [
           "Prima facie, every person living under the<br>protection of British law has a right at once to<br>exercise his industry and ability in any trade or<br>calling he may select."
          ],
          [
           "The only instances in which some antecedent<br>certificate of fitness or qualification is<br>required are, I think, liquor dealers, medical<br>men, and barristers and solicitors."
          ],
          [
           "These also have to take out annual licenses under<br>the Municipality Act."
          ],
          [
           "But special tribunals are appointed to judge<br>antecedently of their fitness."
          ],
          [
           "And, I think, it is quite unheard of that the<br>Council should arbitrarily assume to refuse a<br>license to any of these classes, or to volunteer<br>any statement of their opinion of the fitness or<br>unfitness of a doctor or solicitor."
          ],
          [
           "If the Council is to have an absolute discretion<br>to refuse a license to any person applying, on the<br>ground of what they choose to allege as unfitness,<br>then half a dozen tradesmen may secure themselves<br>an entire monopoly of their respective trades<br>throughout the municipality, by simply voting that<br>in their opinion each proposing competitor is an<br>unfit person."
          ],
          [
           "But if the least attention be bestowed on the<br>Statute, it will be seen that the Legislature has<br>given no discretion to the Council."
          ],
          [
           "The Statute does not even say they may \"grant \"<br>licenses ; but only that they may issue them."
          ],
          [
           "The industrial classes are told, \" You may not<br>carry on your trade in the municipality without a<br>license; if you ask where to get a license, we<br>have authorized the municipality to issue it on<br>payment to them of the annual amount fixed by by-<br>law.\""
          ],
          [
           "Now, enabling words are always compulsory when<br>they are words to effectuate a legal right (Julius<br>v. Bp."
          ],
          [
           "Oxford, 5 App."
          ],
          [
           "Ca., L. R. 214)."
          ],
          [
           "And it is of course unnecessary to prove-I should,<br>but for this class of cases, have supposed that it<br>was unnecessary even to state-the undoubted right,<br>which is the boast of English law, that every<br>person living under it has a right to his<br>industry, and to the fruits of it."
          ],
          [
           "And when we look to the form of the license in the<br>schedule to the Act we see that it is not issued<br>by the corporation at all (which could only be<br>done under seal), and that it amounts to nothing<br>more than the collector's receipt for the license<br>money, and a certificate that so far as that is<br>concerned (and that is all that concerns the<br>corporation) the holder may exercise the calling<br>therein specified."
          ],
          [
           "It was alleged that the occupation of a pawnbroker<br>affords peculiar facilities for the concealment of<br>stolen goods and the escape of criminals, and that<br>it is particularly essential that care should be<br>exercised  in the selection of persons to carry it<br>on."
          ],
          [
           "It is, however, for the Legislature to speak on<br>such a subject, and it has spoken."
          ],
          [
           "There are special laws relating to pawnbrokers."
          ],
          [
           "The business, it is true, is not, to most persons,<br>attractive."
          ],
          [
           "A pawnbroker deals always with the needy,<br>occasionally with the criminal classes: he must<br>generally be hard, and always usurious."
          ],
          [
           "But he has always been considered a necessary<br>evil."
          ],
          [
           "There has never, so far as I know, been placed any<br>limit on their number, any more than on the number<br>of bakers or butchers."
          ],
          [
           "It has been deemed sufficient to make special laws<br>in respect to them and their books, and the<br>supervision of the police."
          ],
          [
           "But so, also, are there many special laws for the<br>inspection of butchers' shops under the Health<br>Acts, and of grocers, and bakers, and milk<br>dealers, and in fact of all traders, under the<br>Weights and Measures Acts and the Adulteration<br>Acts; and a reference to the London Police Courts<br>will show that many classes of tradesmen far<br>surpass the pawnbrokers in the number and<br>importance of the charges against them before the<br>stipendiary magistrates."
          ],
          [
           "In fact, the pawnbroker assists the detection of<br>criminals perhaps as often as he defeats it, and<br>is a most useful ally of the police."
          ],
          [
           "It is not uninteresting to note the uniformity<br>with which the same events result from the same<br>principles, although in very different parts of<br>the world."
          ],
          [
           "Victoria does not possess a monopoly of race<br>jealousy."
          ],
          [
           "In the French colony of Cayenne, the Town Council<br>recently handicapped the superior capacities of<br>the Chinaman by imposing on merchants of that<br>empire an extra tax of $300 per annum, deeming it<br>also expedient to handicap English and German<br>traders by a surtax of $200 on them."
          ],
          [
           "But on an appeal to the Courts at Paris, all these<br>impositions were declared null on the very same<br>principles as those on which the Courts here<br>insisted when they decided the cases above<br>referred to, viz., as being infringements at once<br>of personal liberty, and of the equality of all<br>men before the law, and also negation of<br>international rights."
          ],
          [
           "The prosecutors are entitled to their writ, and as<br>the law on the subject has been quite clearly laid<br>down ten years ago by Mr. Justice Gray, and again<br>and again by other Judges, the defendants must pay<br>all costs."
          ],
          [
           "Mandamus allowed."
          ]
         ],
         "hovertemplate": "Author=begbie<br>Pro=%{x}<br>Cons=%{y}<br>Text=%{customdata[0]}<extra></extra>",
         "legendgroup": "begbie",
         "marker": {
          "color": "#00cc96",
          "size": 5,
          "symbol": "circle"
         },
         "mode": "markers",
         "name": "begbie",
         "orientation": "v",
         "showlegend": true,
         "type": "scatter",
         "x": {
          "bdata": "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",
          "dtype": "f8"
         },
         "xaxis": "x",
         "y": {
          "bdata": "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",
          "dtype": "f8"
         },
         "yaxis": "y"
        }
       ],
       "layout": {
        "height": 600,
        "legend": {
         "title": {
          "text": "Author"
         },
         "tracegroupgap": 0
        },
        "template": {
         "data": {
          "bar": [
           {
            "error_x": {
             "color": "#2a3f5f"
            },
            "error_y": {
             "color": "#2a3f5f"
            },
            "marker": {
             "line": {
              "color": "#E5ECF6",
              "width": 0.5
             },
             "pattern": {
              "fillmode": "overlay",
              "size": 10,
              "solidity": 0.2
             }
            },
            "type": "bar"
           }
          ],
          "barpolar": [
           {
            "marker": {
             "line": {
              "color": "#E5ECF6",
              "width": 0.5
             },
             "pattern": {
              "fillmode": "overlay",
              "size": 10,
              "solidity": 0.2
             }
            },
            "type": "barpolar"
           }
          ],
          "carpet": [
           {
            "aaxis": {
             "endlinecolor": "#2a3f5f",
             "gridcolor": "white",
             "linecolor": "white",
             "minorgridcolor": "white",
             "startlinecolor": "#2a3f5f"
            },
            "baxis": {
             "endlinecolor": "#2a3f5f",
             "gridcolor": "white",
             "linecolor": "white",
             "minorgridcolor": "white",
             "startlinecolor": "#2a3f5f"
            },
            "type": "carpet"
           }
          ],
          "choropleth": [
           {
            "colorbar": {
             "outlinewidth": 0,
             "ticks": ""
            },
            "type": "choropleth"
           }
          ],
          "contour": [
           {
            "colorbar": {
             "outlinewidth": 0,
             "ticks": ""
            },
            "colorscale": [
             [
              0,
              "#0d0887"
             ],
             [
              0.1111111111111111,
              "#46039f"
             ],
             [
              0.2222222222222222,
              "#7201a8"
             ],
             [
              0.3333333333333333,
              "#9c179e"
             ],
             [
              0.4444444444444444,
              "#bd3786"
             ],
             [
              0.5555555555555556,
              "#d8576b"
             ],
             [
              0.6666666666666666,
              "#ed7953"
             ],
             [
              0.7777777777777778,
              "#fb9f3a"
             ],
             [
              0.8888888888888888,
              "#fdca26"
             ],
             [
              1,
              "#f0f921"
             ]
            ],
            "type": "contour"
           }
          ],
          "contourcarpet": [
           {
            "colorbar": {
             "outlinewidth": 0,
             "ticks": ""
            },
            "type": "contourcarpet"
           }
          ],
          "heatmap": [
           {
            "colorbar": {
             "outlinewidth": 0,
             "ticks": ""
            },
            "colorscale": [
             [
              0,
              "#0d0887"
             ],
             [
              0.1111111111111111,
              "#46039f"
             ],
             [
              0.2222222222222222,
              "#7201a8"
             ],
             [
              0.3333333333333333,
              "#9c179e"
             ],
             [
              0.4444444444444444,
              "#bd3786"
             ],
             [
              0.5555555555555556,
              "#d8576b"
             ],
             [
              0.6666666666666666,
              "#ed7953"
             ],
             [
              0.7777777777777778,
              "#fb9f3a"
             ],
             [
              0.8888888888888888,
              "#fdca26"
             ],
             [
              1,
              "#f0f921"
             ]
            ],
            "type": "heatmap"
           }
          ],
          "histogram": [
           {
            "marker": {
             "pattern": {
              "fillmode": "overlay",
              "size": 10,
              "solidity": 0.2
             }
            },
            "type": "histogram"
           }
          ],
          "histogram2d": [
           {
            "colorbar": {
             "outlinewidth": 0,
             "ticks": ""
            },
            "colorscale": [
             [
              0,
              "#0d0887"
             ],
             [
              0.1111111111111111,
              "#46039f"
             ],
             [
              0.2222222222222222,
              "#7201a8"
             ],
             [
              0.3333333333333333,
              "#9c179e"
             ],
             [
              0.4444444444444444,
              "#bd3786"
             ],
             [
              0.5555555555555556,
              "#d8576b"
             ],
             [
              0.6666666666666666,
              "#ed7953"
             ],
             [
              0.7777777777777778,
              "#fb9f3a"
             ],
             [
              0.8888888888888888,
              "#fdca26"
             ],
             [
              1,
              "#f0f921"
             ]
            ],
            "type": "histogram2d"
           }
          ],
          "histogram2dcontour": [
           {
            "colorbar": {
             "outlinewidth": 0,
             "ticks": ""
            },
            "colorscale": [
             [
              0,
              "#0d0887"
             ],
             [
              0.1111111111111111,
              "#46039f"
             ],
             [
              0.2222222222222222,
              "#7201a8"
             ],
             [
              0.3333333333333333,
              "#9c179e"
             ],
             [
              0.4444444444444444,
              "#bd3786"
             ],
             [
              0.5555555555555556,
              "#d8576b"
             ],
             [
              0.6666666666666666,
              "#ed7953"
             ],
             [
              0.7777777777777778,
              "#fb9f3a"
             ],
             [
              0.8888888888888888,
              "#fdca26"
             ],
             [
              1,
              "#f0f921"
             ]
            ],
            "type": "histogram2dcontour"
           }
          ],
          "mesh3d": [
           {
            "colorbar": {
             "outlinewidth": 0,
             "ticks": ""
            },
            "type": "mesh3d"
           }
          ],
          "parcoords": [
           {
            "line": {
             "colorbar": {
              "outlinewidth": 0,
              "ticks": ""
             }
            },
            "type": "parcoords"
           }
          ],
          "pie": [
           {
            "automargin": true,
            "type": "pie"
           }
          ],
          "scatter": [
           {
            "fillpattern": {
             "fillmode": "overlay",
             "size": 10,
             "solidity": 0.2
            },
            "type": "scatter"
           }
          ],
          "scatter3d": [
           {
            "line": {
             "colorbar": {
              "outlinewidth": 0,
              "ticks": ""
             }
            },
            "marker": {
             "colorbar": {
              "outlinewidth": 0,
              "ticks": ""
             }
            },
            "type": "scatter3d"
           }
          ],
          "scattercarpet": [
           {
            "marker": {
             "colorbar": {
              "outlinewidth": 0,
              "ticks": ""
             }
            },
            "type": "scattercarpet"
           }
          ],
          "scattergeo": [
           {
            "marker": {
             "colorbar": {
              "outlinewidth": 0,
              "ticks": ""
             }
            },
            "type": "scattergeo"
           }
          ],
          "scattergl": [
           {
            "marker": {
             "colorbar": {
              "outlinewidth": 0,
              "ticks": ""
             }
            },
            "type": "scattergl"
           }
          ],
          "scattermap": [
           {
            "marker": {
             "colorbar": {
              "outlinewidth": 0,
              "ticks": ""
             }
            },
            "type": "scattermap"
           }
          ],
          "scattermapbox": [
           {
            "marker": {
             "colorbar": {
              "outlinewidth": 0,
              "ticks": ""
             }
            },
            "type": "scattermapbox"
           }
          ],
          "scatterpolar": [
           {
            "marker": {
             "colorbar": {
              "outlinewidth": 0,
              "ticks": ""
             }
            },
            "type": "scatterpolar"
           }
          ],
          "scatterpolargl": [
           {
            "marker": {
             "colorbar": {
              "outlinewidth": 0,
              "ticks": ""
             }
            },
            "type": "scatterpolargl"
           }
          ],
          "scatterternary": [
           {
            "marker": {
             "colorbar": {
              "outlinewidth": 0,
              "ticks": ""
             }
            },
            "type": "scatterternary"
           }
          ],
          "surface": [
           {
            "colorbar": {
             "outlinewidth": 0,
             "ticks": ""
            },
            "colorscale": [
             [
              0,
              "#0d0887"
             ],
             [
              0.1111111111111111,
              "#46039f"
             ],
             [
              0.2222222222222222,
              "#7201a8"
             ],
             [
              0.3333333333333333,
              "#9c179e"
             ],
             [
              0.4444444444444444,
              "#bd3786"
             ],
             [
              0.5555555555555556,
              "#d8576b"
             ],
             [
              0.6666666666666666,
              "#ed7953"
             ],
             [
              0.7777777777777778,
              "#fb9f3a"
             ],
             [
              0.8888888888888888,
              "#fdca26"
             ],
             [
              1,
              "#f0f921"
             ]
            ],
            "type": "surface"
           }
          ],
          "table": [
           {
            "cells": {
             "fill": {
              "color": "#EBF0F8"
             },
             "line": {
              "color": "white"
             }
            },
            "header": {
             "fill": {
              "color": "#C8D4E3"
             },
             "line": {
              "color": "white"
             }
            },
            "type": "table"
           }
          ]
         },
         "layout": {
          "annotationdefaults": {
           "arrowcolor": "#2a3f5f",
           "arrowhead": 0,
           "arrowwidth": 1
          },
          "autotypenumbers": "strict",
          "coloraxis": {
           "colorbar": {
            "outlinewidth": 0,
            "ticks": ""
           }
          },
          "colorscale": {
           "diverging": [
            [
             0,
             "#8e0152"
            ],
            [
             0.1,
             "#c51b7d"
            ],
            [
             0.2,
             "#de77ae"
            ],
            [
             0.3,
             "#f1b6da"
            ],
            [
             0.4,
             "#fde0ef"
            ],
            [
             0.5,
             "#f7f7f7"
            ],
            [
             0.6,
             "#e6f5d0"
            ],
            [
             0.7,
             "#b8e186"
            ],
            [
             0.8,
             "#7fbc41"
            ],
            [
             0.9,
             "#4d9221"
            ],
            [
             1,
             "#276419"
            ]
           ],
           "sequential": [
            [
             0,
             "#0d0887"
            ],
            [
             0.1111111111111111,
             "#46039f"
            ],
            [
             0.2222222222222222,
             "#7201a8"
            ],
            [
             0.3333333333333333,
             "#9c179e"
            ],
            [
             0.4444444444444444,
             "#bd3786"
            ],
            [
             0.5555555555555556,
             "#d8576b"
            ],
            [
             0.6666666666666666,
             "#ed7953"
            ],
            [
             0.7777777777777778,
             "#fb9f3a"
            ],
            [
             0.8888888888888888,
             "#fdca26"
            ],
            [
             1,
             "#f0f921"
            ]
           ],
           "sequentialminus": [
            [
             0,
             "#0d0887"
            ],
            [
             0.1111111111111111,
             "#46039f"
            ],
            [
             0.2222222222222222,
             "#7201a8"
            ],
            [
             0.3333333333333333,
             "#9c179e"
            ],
            [
             0.4444444444444444,
             "#bd3786"
            ],
            [
             0.5555555555555556,
             "#d8576b"
            ],
            [
             0.6666666666666666,
             "#ed7953"
            ],
            [
             0.7777777777777778,
             "#fb9f3a"
            ],
            [
             0.8888888888888888,
             "#fdca26"
            ],
            [
             1,
             "#f0f921"
            ]
           ]
          },
          "colorway": [
           "#636efa",
           "#EF553B",
           "#00cc96",
           "#ab63fa",
           "#FFA15A",
           "#19d3f3",
           "#FF6692",
           "#B6E880",
           "#FF97FF",
           "#FECB52"
          ],
          "font": {
           "color": "#2a3f5f"
          },
          "geo": {
           "bgcolor": "white",
           "lakecolor": "white",
           "landcolor": "#E5ECF6",
           "showlakes": true,
           "showland": true,
           "subunitcolor": "white"
          },
          "hoverlabel": {
           "align": "left"
          },
          "hovermode": "closest",
          "mapbox": {
           "style": "light"
          },
          "paper_bgcolor": "white",
          "plot_bgcolor": "#E5ECF6",
          "polar": {
           "angularaxis": {
            "gridcolor": "white",
            "linecolor": "white",
            "ticks": ""
           },
           "bgcolor": "#E5ECF6",
           "radialaxis": {
            "gridcolor": "white",
            "linecolor": "white",
            "ticks": ""
           }
          },
          "scene": {
           "xaxis": {
            "backgroundcolor": "#E5ECF6",
            "gridcolor": "white",
            "gridwidth": 2,
            "linecolor": "white",
            "showbackground": true,
            "ticks": "",
            "zerolinecolor": "white"
           },
           "yaxis": {
            "backgroundcolor": "#E5ECF6",
            "gridcolor": "white",
            "gridwidth": 2,
            "linecolor": "white",
            "showbackground": true,
            "ticks": "",
            "zerolinecolor": "white"
           },
           "zaxis": {
            "backgroundcolor": "#E5ECF6",
            "gridcolor": "white",
            "gridwidth": 2,
            "linecolor": "white",
            "showbackground": true,
            "ticks": "",
            "zerolinecolor": "white"
           }
          },
          "shapedefaults": {
           "line": {
            "color": "#2a3f5f"
           }
          },
          "ternary": {
           "aaxis": {
            "gridcolor": "white",
            "linecolor": "white",
            "ticks": ""
           },
           "baxis": {
            "gridcolor": "white",
            "linecolor": "white",
            "ticks": ""
           },
           "bgcolor": "#E5ECF6",
           "caxis": {
            "gridcolor": "white",
            "linecolor": "white",
            "ticks": ""
           }
          },
          "title": {
           "x": 0.05
          },
          "xaxis": {
           "automargin": true,
           "gridcolor": "white",
           "linecolor": "white",
           "ticks": "",
           "title": {
            "standoff": 15
           },
           "zerolinecolor": "white",
           "zerolinewidth": 2
          },
          "yaxis": {
           "automargin": true,
           "gridcolor": "white",
           "linecolor": "white",
           "ticks": "",
           "title": {
            "standoff": 15
           },
           "zerolinecolor": "white",
           "zerolinewidth": 2
          }
         }
        },
        "title": {
         "text": "Pros vs Cons Scores by Author"
        },
        "width": 800,
        "xaxis": {
         "anchor": "y",
         "domain": [
          0,
          1
         ],
         "title": {
          "text": "Pro"
         }
        },
        "yaxis": {
         "anchor": "x",
         "domain": [
          0,
          1
         ],
         "title": {
          "text": "Cons"
         }
        }
       }
      }
     },
     "metadata": {},
     "output_type": "display_data"
    }
   ],
   "source": [
    "df_scores['Text'] = df_scores['Text'].apply(lambda t: wrap_text(t, width = 50))\n",
    "\n",
    "fig = px.scatter(\n",
    "    df_scores,\n",
    "    x=\"Pro\",\n",
    "    y=\"Cons\",\n",
    "    color=\"Author\",\n",
    "    hover_data=[\"Text\"],\n",
    "    title=\"Pros vs Cons Scores by Author\",\n",
    "    width=800,\n",
    "    height=600\n",
    ")\n",
    "\n",
    "fig.update_traces(marker=dict(size=5))\n",
    "fig.show()"
   ]
  },
  {
   "cell_type": "code",
   "execution_count": 48,
   "id": "ce7c22ea",
   "metadata": {},
   "outputs": [
    {
     "data": {
      "application/vnd.plotly.v1+json": {
       "config": {
        "plotlyServerURL": "https://plot.ly"
       },
       "data": [
        {
         "bingroup": "x",
         "hovertemplate": "Author=act_1884<br>Pro Score=%{x}<br>count=%{y}<extra></extra>",
         "legendgroup": "act_1884",
         "marker": {
          "color": "#636efa",
          "opacity": 0.7,
          "pattern": {
           "shape": ""
          }
         },
         "name": "act_1884",
         "nbinsx": 30,
         "orientation": "v",
         "showlegend": true,
         "type": "histogram",
         "x": {
          "bdata": "AAAAIM2rxD8AAADAzGjYPwAAACD5irQ/AAAAQE/U0j8AAABgd+HWPwAAAOBRwdI/AAAA4Is91z8AAAAguMTUPwAAAKB9M9c/AAAAgCNM1z8AAACgPC/XPwAAAMAGQsk/AAAAQHEe1z8AAADAFY/dPwAAAOAZrNc/AAAAAKn4xD8AAABgjwLXPwAAACCoytU/AAAAQM7n1z8AAADAhy3GPwAAAABKGNk/AAAAIEX2yT8AAACgvlHBPwAAAGBJUNk/AAAAgB/u1z8AAACAH2vVPwAAAMBOx9E/AAAAwAu92D8AAADg5lDYPwAAACD5rNc/AAAAQNIZ2D8AAAAg50/YPwAAAIA0xdE/AAAAIAAt2j8AAADAcLnOPwAAACB+gtk/AAAAIEdH0D8AAABgEpLYPwAAACBxk9M/AAAAwAYh2D8AAAAgZNjXPwAAACAx38E/AAAAwN9F0j8AAAAg+wXZPwAAACDdddA/AAAA4J/V2D8AAAAASgLWPwAAAICz29g/AAAA4Mn02D8AAACAd7DZPwAAAMDB59U/AAAAQINJ2D8AAABAmZ3UPwAAACDk+tg/AAAAgGNi1z8AAADAoPrYPwAAACCEsdI/AAAA4A1B2j8AAABAy1HTPwAAAKAumNk/AAAAoKIQ1z8AAADATf3ZPwAAAMD5/s8/AAAAgOq22D8AAABAY/fcPwAAAOCq8Ng/AAAA4Fld0z8AAAAA257YPwAAAEC38Nk/AAAAQD4o2D8AAADAl7fOPw==",
          "dtype": "f8"
         },
         "xaxis": "x",
         "yaxis": "y"
        },
        {
         "bingroup": "x",
         "hovertemplate": "Author=crease<br>Pro Score=%{x}<br>count=%{y}<extra></extra>",
         "legendgroup": "crease",
         "marker": {
          "color": "#EF553B",
          "opacity": 0.7,
          "pattern": {
           "shape": ""
          }
         },
         "name": "crease",
         "nbinsx": 30,
         "orientation": "v",
         "showlegend": true,
         "type": "histogram",
         "x": {
          "bdata": "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",
          "dtype": "f8"
         },
         "xaxis": "x",
         "yaxis": "y"
        },
        {
         "bingroup": "x",
         "hovertemplate": "Author=begbie<br>Pro Score=%{x}<br>count=%{y}<extra></extra>",
         "legendgroup": "begbie",
         "marker": {
          "color": "#00cc96",
          "opacity": 0.7,
          "pattern": {
           "shape": ""
          }
         },
         "name": "begbie",
         "nbinsx": 30,
         "orientation": "v",
         "showlegend": true,
         "type": "histogram",
         "x": {
          "bdata": "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",
          "dtype": "f8"
         },
         "xaxis": "x",
         "yaxis": "y"
        }
       ],
       "layout": {
        "barmode": "relative",
        "height": 500,
        "legend": {
         "title": {
          "text": "Author"
         },
         "tracegroupgap": 0
        },
        "template": {
         "data": {
          "bar": [
           {
            "error_x": {
             "color": "#2a3f5f"
            },
            "error_y": {
             "color": "#2a3f5f"
            },
            "marker": {
             "line": {
              "color": "#E5ECF6",
              "width": 0.5
             },
             "pattern": {
              "fillmode": "overlay",
              "size": 10,
              "solidity": 0.2
             }
            },
            "type": "bar"
           }
          ],
          "barpolar": [
           {
            "marker": {
             "line": {
              "color": "#E5ECF6",
              "width": 0.5
             },
             "pattern": {
              "fillmode": "overlay",
              "size": 10,
              "solidity": 0.2
             }
            },
            "type": "barpolar"
           }
          ],
          "carpet": [
           {
            "aaxis": {
             "endlinecolor": "#2a3f5f",
             "gridcolor": "white",
             "linecolor": "white",
             "minorgridcolor": "white",
             "startlinecolor": "#2a3f5f"
            },
            "baxis": {
             "endlinecolor": "#2a3f5f",
             "gridcolor": "white",
             "linecolor": "white",
             "minorgridcolor": "white",
             "startlinecolor": "#2a3f5f"
            },
            "type": "carpet"
           }
          ],
          "choropleth": [
           {
            "colorbar": {
             "outlinewidth": 0,
             "ticks": ""
            },
            "type": "choropleth"
           }
          ],
          "contour": [
           {
            "colorbar": {
             "outlinewidth": 0,
             "ticks": ""
            },
            "colorscale": [
             [
              0,
              "#0d0887"
             ],
             [
              0.1111111111111111,
              "#46039f"
             ],
             [
              0.2222222222222222,
              "#7201a8"
             ],
             [
              0.3333333333333333,
              "#9c179e"
             ],
             [
              0.4444444444444444,
              "#bd3786"
             ],
             [
              0.5555555555555556,
              "#d8576b"
             ],
             [
              0.6666666666666666,
              "#ed7953"
             ],
             [
              0.7777777777777778,
              "#fb9f3a"
             ],
             [
              0.8888888888888888,
              "#fdca26"
             ],
             [
              1,
              "#f0f921"
             ]
            ],
            "type": "contour"
           }
          ],
          "contourcarpet": [
           {
            "colorbar": {
             "outlinewidth": 0,
             "ticks": ""
            },
            "type": "contourcarpet"
           }
          ],
          "heatmap": [
           {
            "colorbar": {
             "outlinewidth": 0,
             "ticks": ""
            },
            "colorscale": [
             [
              0,
              "#0d0887"
             ],
             [
              0.1111111111111111,
              "#46039f"
             ],
             [
              0.2222222222222222,
              "#7201a8"
             ],
             [
              0.3333333333333333,
              "#9c179e"
             ],
             [
              0.4444444444444444,
              "#bd3786"
             ],
             [
              0.5555555555555556,
              "#d8576b"
             ],
             [
              0.6666666666666666,
              "#ed7953"
             ],
             [
              0.7777777777777778,
              "#fb9f3a"
             ],
             [
              0.8888888888888888,
              "#fdca26"
             ],
             [
              1,
              "#f0f921"
             ]
            ],
            "type": "heatmap"
           }
          ],
          "histogram": [
           {
            "marker": {
             "pattern": {
              "fillmode": "overlay",
              "size": 10,
              "solidity": 0.2
             }
            },
            "type": "histogram"
           }
          ],
          "histogram2d": [
           {
            "colorbar": {
             "outlinewidth": 0,
             "ticks": ""
            },
            "colorscale": [
             [
              0,
              "#0d0887"
             ],
             [
              0.1111111111111111,
              "#46039f"
             ],
             [
              0.2222222222222222,
              "#7201a8"
             ],
             [
              0.3333333333333333,
              "#9c179e"
             ],
             [
              0.4444444444444444,
              "#bd3786"
             ],
             [
              0.5555555555555556,
              "#d8576b"
             ],
             [
              0.6666666666666666,
              "#ed7953"
             ],
             [
              0.7777777777777778,
              "#fb9f3a"
             ],
             [
              0.8888888888888888,
              "#fdca26"
             ],
             [
              1,
              "#f0f921"
             ]
            ],
            "type": "histogram2d"
           }
          ],
          "histogram2dcontour": [
           {
            "colorbar": {
             "outlinewidth": 0,
             "ticks": ""
            },
            "colorscale": [
             [
              0,
              "#0d0887"
             ],
             [
              0.1111111111111111,
              "#46039f"
             ],
             [
              0.2222222222222222,
              "#7201a8"
             ],
             [
              0.3333333333333333,
              "#9c179e"
             ],
             [
              0.4444444444444444,
              "#bd3786"
             ],
             [
              0.5555555555555556,
              "#d8576b"
             ],
             [
              0.6666666666666666,
              "#ed7953"
             ],
             [
              0.7777777777777778,
              "#fb9f3a"
             ],
             [
              0.8888888888888888,
              "#fdca26"
             ],
             [
              1,
              "#f0f921"
             ]
            ],
            "type": "histogram2dcontour"
           }
          ],
          "mesh3d": [
           {
            "colorbar": {
             "outlinewidth": 0,
             "ticks": ""
            },
            "type": "mesh3d"
           }
          ],
          "parcoords": [
           {
            "line": {
             "colorbar": {
              "outlinewidth": 0,
              "ticks": ""
             }
            },
            "type": "parcoords"
           }
          ],
          "pie": [
           {
            "automargin": true,
            "type": "pie"
           }
          ],
          "scatter": [
           {
            "fillpattern": {
             "fillmode": "overlay",
             "size": 10,
             "solidity": 0.2
            },
            "type": "scatter"
           }
          ],
          "scatter3d": [
           {
            "line": {
             "colorbar": {
              "outlinewidth": 0,
              "ticks": ""
             }
            },
            "marker": {
             "colorbar": {
              "outlinewidth": 0,
              "ticks": ""
             }
            },
            "type": "scatter3d"
           }
          ],
          "scattercarpet": [
           {
            "marker": {
             "colorbar": {
              "outlinewidth": 0,
              "ticks": ""
             }
            },
            "type": "scattercarpet"
           }
          ],
          "scattergeo": [
           {
            "marker": {
             "colorbar": {
              "outlinewidth": 0,
              "ticks": ""
             }
            },
            "type": "scattergeo"
           }
          ],
          "scattergl": [
           {
            "marker": {
             "colorbar": {
              "outlinewidth": 0,
              "ticks": ""
             }
            },
            "type": "scattergl"
           }
          ],
          "scattermap": [
           {
            "marker": {
             "colorbar": {
              "outlinewidth": 0,
              "ticks": ""
             }
            },
            "type": "scattermap"
           }
          ],
          "scattermapbox": [
           {
            "marker": {
             "colorbar": {
              "outlinewidth": 0,
              "ticks": ""
             }
            },
            "type": "scattermapbox"
           }
          ],
          "scatterpolar": [
           {
            "marker": {
             "colorbar": {
              "outlinewidth": 0,
              "ticks": ""
             }
            },
            "type": "scatterpolar"
           }
          ],
          "scatterpolargl": [
           {
            "marker": {
             "colorbar": {
              "outlinewidth": 0,
              "ticks": ""
             }
            },
            "type": "scatterpolargl"
           }
          ],
          "scatterternary": [
           {
            "marker": {
             "colorbar": {
              "outlinewidth": 0,
              "ticks": ""
             }
            },
            "type": "scatterternary"
           }
          ],
          "surface": [
           {
            "colorbar": {
             "outlinewidth": 0,
             "ticks": ""
            },
            "colorscale": [
             [
              0,
              "#0d0887"
             ],
             [
              0.1111111111111111,
              "#46039f"
             ],
             [
              0.2222222222222222,
              "#7201a8"
             ],
             [
              0.3333333333333333,
              "#9c179e"
             ],
             [
              0.4444444444444444,
              "#bd3786"
             ],
             [
              0.5555555555555556,
              "#d8576b"
             ],
             [
              0.6666666666666666,
              "#ed7953"
             ],
             [
              0.7777777777777778,
              "#fb9f3a"
             ],
             [
              0.8888888888888888,
              "#fdca26"
             ],
             [
              1,
              "#f0f921"
             ]
            ],
            "type": "surface"
           }
          ],
          "table": [
           {
            "cells": {
             "fill": {
              "color": "#EBF0F8"
             },
             "line": {
              "color": "white"
             }
            },
            "header": {
             "fill": {
              "color": "#C8D4E3"
             },
             "line": {
              "color": "white"
             }
            },
            "type": "table"
           }
          ]
         },
         "layout": {
          "annotationdefaults": {
           "arrowcolor": "#2a3f5f",
           "arrowhead": 0,
           "arrowwidth": 1
          },
          "autotypenumbers": "strict",
          "coloraxis": {
           "colorbar": {
            "outlinewidth": 0,
            "ticks": ""
           }
          },
          "colorscale": {
           "diverging": [
            [
             0,
             "#8e0152"
            ],
            [
             0.1,
             "#c51b7d"
            ],
            [
             0.2,
             "#de77ae"
            ],
            [
             0.3,
             "#f1b6da"
            ],
            [
             0.4,
             "#fde0ef"
            ],
            [
             0.5,
             "#f7f7f7"
            ],
            [
             0.6,
             "#e6f5d0"
            ],
            [
             0.7,
             "#b8e186"
            ],
            [
             0.8,
             "#7fbc41"
            ],
            [
             0.9,
             "#4d9221"
            ],
            [
             1,
             "#276419"
            ]
           ],
           "sequential": [
            [
             0,
             "#0d0887"
            ],
            [
             0.1111111111111111,
             "#46039f"
            ],
            [
             0.2222222222222222,
             "#7201a8"
            ],
            [
             0.3333333333333333,
             "#9c179e"
            ],
            [
             0.4444444444444444,
             "#bd3786"
            ],
            [
             0.5555555555555556,
             "#d8576b"
            ],
            [
             0.6666666666666666,
             "#ed7953"
            ],
            [
             0.7777777777777778,
             "#fb9f3a"
            ],
            [
             0.8888888888888888,
             "#fdca26"
            ],
            [
             1,
             "#f0f921"
            ]
           ],
           "sequentialminus": [
            [
             0,
             "#0d0887"
            ],
            [
             0.1111111111111111,
             "#46039f"
            ],
            [
             0.2222222222222222,
             "#7201a8"
            ],
            [
             0.3333333333333333,
             "#9c179e"
            ],
            [
             0.4444444444444444,
             "#bd3786"
            ],
            [
             0.5555555555555556,
             "#d8576b"
            ],
            [
             0.6666666666666666,
             "#ed7953"
            ],
            [
             0.7777777777777778,
             "#fb9f3a"
            ],
            [
             0.8888888888888888,
             "#fdca26"
            ],
            [
             1,
             "#f0f921"
            ]
           ]
          },
          "colorway": [
           "#636efa",
           "#EF553B",
           "#00cc96",
           "#ab63fa",
           "#FFA15A",
           "#19d3f3",
           "#FF6692",
           "#B6E880",
           "#FF97FF",
           "#FECB52"
          ],
          "font": {
           "color": "#2a3f5f"
          },
          "geo": {
           "bgcolor": "white",
           "lakecolor": "white",
           "landcolor": "#E5ECF6",
           "showlakes": true,
           "showland": true,
           "subunitcolor": "white"
          },
          "hoverlabel": {
           "align": "left"
          },
          "hovermode": "closest",
          "mapbox": {
           "style": "light"
          },
          "paper_bgcolor": "white",
          "plot_bgcolor": "#E5ECF6",
          "polar": {
           "angularaxis": {
            "gridcolor": "white",
            "linecolor": "white",
            "ticks": ""
           },
           "bgcolor": "#E5ECF6",
           "radialaxis": {
            "gridcolor": "white",
            "linecolor": "white",
            "ticks": ""
           }
          },
          "scene": {
           "xaxis": {
            "backgroundcolor": "#E5ECF6",
            "gridcolor": "white",
            "gridwidth": 2,
            "linecolor": "white",
            "showbackground": true,
            "ticks": "",
            "zerolinecolor": "white"
           },
           "yaxis": {
            "backgroundcolor": "#E5ECF6",
            "gridcolor": "white",
            "gridwidth": 2,
            "linecolor": "white",
            "showbackground": true,
            "ticks": "",
            "zerolinecolor": "white"
           },
           "zaxis": {
            "backgroundcolor": "#E5ECF6",
            "gridcolor": "white",
            "gridwidth": 2,
            "linecolor": "white",
            "showbackground": true,
            "ticks": "",
            "zerolinecolor": "white"
           }
          },
          "shapedefaults": {
           "line": {
            "color": "#2a3f5f"
           }
          },
          "ternary": {
           "aaxis": {
            "gridcolor": "white",
            "linecolor": "white",
            "ticks": ""
           },
           "baxis": {
            "gridcolor": "white",
            "linecolor": "white",
            "ticks": ""
           },
           "bgcolor": "#E5ECF6",
           "caxis": {
            "gridcolor": "white",
            "linecolor": "white",
            "ticks": ""
           }
          },
          "title": {
           "x": 0.05
          },
          "xaxis": {
           "automargin": true,
           "gridcolor": "white",
           "linecolor": "white",
           "ticks": "",
           "title": {
            "standoff": 15
           },
           "zerolinecolor": "white",
           "zerolinewidth": 2
          },
          "yaxis": {
           "automargin": true,
           "gridcolor": "white",
           "linecolor": "white",
           "ticks": "",
           "title": {
            "standoff": 15
           },
           "zerolinecolor": "white",
           "zerolinewidth": 2
          }
         }
        },
        "title": {
         "text": "Distribution of Pro Scores by Author"
        },
        "width": 800,
        "xaxis": {
         "anchor": "y",
         "domain": [
          0,
          1
         ],
         "title": {
          "text": "Pro Score"
         }
        },
        "yaxis": {
         "anchor": "x",
         "domain": [
          0,
          1
         ],
         "title": {
          "text": "Frequency"
         }
        }
       }
      }
     },
     "metadata": {},
     "output_type": "display_data"
    },
    {
     "data": {
      "application/vnd.plotly.v1+json": {
       "config": {
        "plotlyServerURL": "https://plot.ly"
       },
       "data": [
        {
         "bingroup": "x",
         "hovertemplate": "Author=act_1884<br>Cons Score=%{x}<br>count=%{y}<extra></extra>",
         "legendgroup": "act_1884",
         "marker": {
          "color": "#636efa",
          "opacity": 0.7,
          "pattern": {
           "shape": ""
          }
         },
         "name": "act_1884",
         "nbinsx": 30,
         "orientation": "v",
         "showlegend": true,
         "type": "histogram",
         "x": {
          "bdata": "AAAAQEjU5T8AAADglgPYPwAAAMCm1uo/AAAAQHLN4z8AAACAp4nZPwAAACBc+9g/AAAAgKHL2T8AAADAv1jjPwAAAOATNdo/AAAAoCSX4T8AAADgRfHXPwAAAEByheY/AAAAgN5q2D8AAAAAXT3VPwAAAACv2Nc/AAAAYOi85z8AAADgShbYPwAAACBxLNw/AAAAwP/H1j8AAAAAt+3nPwAAAIDV3tY/AAAA4KhR5z8AAACA5FjcPwAAAIDw9Nc/AAAAgLxI1D8AAACAX13VPwAAAOCWZeE/AAAAAOvF2j8AAAAgmOfVPwAAAIBprN8/AAAAYMsU4D8AAADgZinWPwAAACClOeQ/AAAAgG7b1T8AAADAvxrmPwAAAABvUtY/AAAAYFcy5T8AAAAAhjDXPwAAAABKA+M/AAAAAH3E1j8AAACgjCTXPwAAAGCyx+Q/AAAAAItL4j8AAADADHnWPwAAAOAeVt8/AAAAIH4k1j8AAACAvNzaPwAAAGAco9Y/AAAAIHZG3z8AAAAgRevVPwAAAMDM3uA/AAAAQI3E1T8AAABgQ1XhPwAAAMCFCNU/AAAAYAXx2D8AAAAgM7HRPwAAAOBfxts/AAAAANl31D8AAAAgrOzbPwAAAGAFlNU/AAAAQBCB3D8AAADAZu7VPwAAAEBJwuI/AAAAQG4h1z8AAACgEdXTPwAAAEBfu9Y/AAAAYHM83z8AAAAAR6XVPwAAAOApPto/AAAAoH+p1T8AAAAg/aDlPw==",
          "dtype": "f8"
         },
         "xaxis": "x",
         "yaxis": "y"
        },
        {
         "bingroup": "x",
         "hovertemplate": "Author=crease<br>Cons Score=%{x}<br>count=%{y}<extra></extra>",
         "legendgroup": "crease",
         "marker": {
          "color": "#EF553B",
          "opacity": 0.7,
          "pattern": {
           "shape": ""
          }
         },
         "name": "crease",
         "nbinsx": 30,
         "orientation": "v",
         "showlegend": true,
         "type": "histogram",
         "x": {
          "bdata": "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",
          "dtype": "f8"
         },
         "xaxis": "x",
         "yaxis": "y"
        },
        {
         "bingroup": "x",
         "hovertemplate": "Author=begbie<br>Cons Score=%{x}<br>count=%{y}<extra></extra>",
         "legendgroup": "begbie",
         "marker": {
          "color": "#00cc96",
          "opacity": 0.7,
          "pattern": {
           "shape": ""
          }
         },
         "name": "begbie",
         "nbinsx": 30,
         "orientation": "v",
         "showlegend": true,
         "type": "histogram",
         "x": {
          "bdata": "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",
          "dtype": "f8"
         },
         "xaxis": "x",
         "yaxis": "y"
        }
       ],
       "layout": {
        "barmode": "relative",
        "height": 500,
        "legend": {
         "title": {
          "text": "Author"
         },
         "tracegroupgap": 0
        },
        "template": {
         "data": {
          "bar": [
           {
            "error_x": {
             "color": "#2a3f5f"
            },
            "error_y": {
             "color": "#2a3f5f"
            },
            "marker": {
             "line": {
              "color": "#E5ECF6",
              "width": 0.5
             },
             "pattern": {
              "fillmode": "overlay",
              "size": 10,
              "solidity": 0.2
             }
            },
            "type": "bar"
           }
          ],
          "barpolar": [
           {
            "marker": {
             "line": {
              "color": "#E5ECF6",
              "width": 0.5
             },
             "pattern": {
              "fillmode": "overlay",
              "size": 10,
              "solidity": 0.2
             }
            },
            "type": "barpolar"
           }
          ],
          "carpet": [
           {
            "aaxis": {
             "endlinecolor": "#2a3f5f",
             "gridcolor": "white",
             "linecolor": "white",
             "minorgridcolor": "white",
             "startlinecolor": "#2a3f5f"
            },
            "baxis": {
             "endlinecolor": "#2a3f5f",
             "gridcolor": "white",
             "linecolor": "white",
             "minorgridcolor": "white",
             "startlinecolor": "#2a3f5f"
            },
            "type": "carpet"
           }
          ],
          "choropleth": [
           {
            "colorbar": {
             "outlinewidth": 0,
             "ticks": ""
            },
            "type": "choropleth"
           }
          ],
          "contour": [
           {
            "colorbar": {
             "outlinewidth": 0,
             "ticks": ""
            },
            "colorscale": [
             [
              0,
              "#0d0887"
             ],
             [
              0.1111111111111111,
              "#46039f"
             ],
             [
              0.2222222222222222,
              "#7201a8"
             ],
             [
              0.3333333333333333,
              "#9c179e"
             ],
             [
              0.4444444444444444,
              "#bd3786"
             ],
             [
              0.5555555555555556,
              "#d8576b"
             ],
             [
              0.6666666666666666,
              "#ed7953"
             ],
             [
              0.7777777777777778,
              "#fb9f3a"
             ],
             [
              0.8888888888888888,
              "#fdca26"
             ],
             [
              1,
              "#f0f921"
             ]
            ],
            "type": "contour"
           }
          ],
          "contourcarpet": [
           {
            "colorbar": {
             "outlinewidth": 0,
             "ticks": ""
            },
            "type": "contourcarpet"
           }
          ],
          "heatmap": [
           {
            "colorbar": {
             "outlinewidth": 0,
             "ticks": ""
            },
            "colorscale": [
             [
              0,
              "#0d0887"
             ],
             [
              0.1111111111111111,
              "#46039f"
             ],
             [
              0.2222222222222222,
              "#7201a8"
             ],
             [
              0.3333333333333333,
              "#9c179e"
             ],
             [
              0.4444444444444444,
              "#bd3786"
             ],
             [
              0.5555555555555556,
              "#d8576b"
             ],
             [
              0.6666666666666666,
              "#ed7953"
             ],
             [
              0.7777777777777778,
              "#fb9f3a"
             ],
             [
              0.8888888888888888,
              "#fdca26"
             ],
             [
              1,
              "#f0f921"
             ]
            ],
            "type": "heatmap"
           }
          ],
          "histogram": [
           {
            "marker": {
             "pattern": {
              "fillmode": "overlay",
              "size": 10,
              "solidity": 0.2
             }
            },
            "type": "histogram"
           }
          ],
          "histogram2d": [
           {
            "colorbar": {
             "outlinewidth": 0,
             "ticks": ""
            },
            "colorscale": [
             [
              0,
              "#0d0887"
             ],
             [
              0.1111111111111111,
              "#46039f"
             ],
             [
              0.2222222222222222,
              "#7201a8"
             ],
             [
              0.3333333333333333,
              "#9c179e"
             ],
             [
              0.4444444444444444,
              "#bd3786"
             ],
             [
              0.5555555555555556,
              "#d8576b"
             ],
             [
              0.6666666666666666,
              "#ed7953"
             ],
             [
              0.7777777777777778,
              "#fb9f3a"
             ],
             [
              0.8888888888888888,
              "#fdca26"
             ],
             [
              1,
              "#f0f921"
             ]
            ],
            "type": "histogram2d"
           }
          ],
          "histogram2dcontour": [
           {
            "colorbar": {
             "outlinewidth": 0,
             "ticks": ""
            },
            "colorscale": [
             [
              0,
              "#0d0887"
             ],
             [
              0.1111111111111111,
              "#46039f"
             ],
             [
              0.2222222222222222,
              "#7201a8"
             ],
             [
              0.3333333333333333,
              "#9c179e"
             ],
             [
              0.4444444444444444,
              "#bd3786"
             ],
             [
              0.5555555555555556,
              "#d8576b"
             ],
             [
              0.6666666666666666,
              "#ed7953"
             ],
             [
              0.7777777777777778,
              "#fb9f3a"
             ],
             [
              0.8888888888888888,
              "#fdca26"
             ],
             [
              1,
              "#f0f921"
             ]
            ],
            "type": "histogram2dcontour"
           }
          ],
          "mesh3d": [
           {
            "colorbar": {
             "outlinewidth": 0,
             "ticks": ""
            },
            "type": "mesh3d"
           }
          ],
          "parcoords": [
           {
            "line": {
             "colorbar": {
              "outlinewidth": 0,
              "ticks": ""
             }
            },
            "type": "parcoords"
           }
          ],
          "pie": [
           {
            "automargin": true,
            "type": "pie"
           }
          ],
          "scatter": [
           {
            "fillpattern": {
             "fillmode": "overlay",
             "size": 10,
             "solidity": 0.2
            },
            "type": "scatter"
           }
          ],
          "scatter3d": [
           {
            "line": {
             "colorbar": {
              "outlinewidth": 0,
              "ticks": ""
             }
            },
            "marker": {
             "colorbar": {
              "outlinewidth": 0,
              "ticks": ""
             }
            },
            "type": "scatter3d"
           }
          ],
          "scattercarpet": [
           {
            "marker": {
             "colorbar": {
              "outlinewidth": 0,
              "ticks": ""
             }
            },
            "type": "scattercarpet"
           }
          ],
          "scattergeo": [
           {
            "marker": {
             "colorbar": {
              "outlinewidth": 0,
              "ticks": ""
             }
            },
            "type": "scattergeo"
           }
          ],
          "scattergl": [
           {
            "marker": {
             "colorbar": {
              "outlinewidth": 0,
              "ticks": ""
             }
            },
            "type": "scattergl"
           }
          ],
          "scattermap": [
           {
            "marker": {
             "colorbar": {
              "outlinewidth": 0,
              "ticks": ""
             }
            },
            "type": "scattermap"
           }
          ],
          "scattermapbox": [
           {
            "marker": {
             "colorbar": {
              "outlinewidth": 0,
              "ticks": ""
             }
            },
            "type": "scattermapbox"
           }
          ],
          "scatterpolar": [
           {
            "marker": {
             "colorbar": {
              "outlinewidth": 0,
              "ticks": ""
             }
            },
            "type": "scatterpolar"
           }
          ],
          "scatterpolargl": [
           {
            "marker": {
             "colorbar": {
              "outlinewidth": 0,
              "ticks": ""
             }
            },
            "type": "scatterpolargl"
           }
          ],
          "scatterternary": [
           {
            "marker": {
             "colorbar": {
              "outlinewidth": 0,
              "ticks": ""
             }
            },
            "type": "scatterternary"
           }
          ],
          "surface": [
           {
            "colorbar": {
             "outlinewidth": 0,
             "ticks": ""
            },
            "colorscale": [
             [
              0,
              "#0d0887"
             ],
             [
              0.1111111111111111,
              "#46039f"
             ],
             [
              0.2222222222222222,
              "#7201a8"
             ],
             [
              0.3333333333333333,
              "#9c179e"
             ],
             [
              0.4444444444444444,
              "#bd3786"
             ],
             [
              0.5555555555555556,
              "#d8576b"
             ],
             [
              0.6666666666666666,
              "#ed7953"
             ],
             [
              0.7777777777777778,
              "#fb9f3a"
             ],
             [
              0.8888888888888888,
              "#fdca26"
             ],
             [
              1,
              "#f0f921"
             ]
            ],
            "type": "surface"
           }
          ],
          "table": [
           {
            "cells": {
             "fill": {
              "color": "#EBF0F8"
             },
             "line": {
              "color": "white"
             }
            },
            "header": {
             "fill": {
              "color": "#C8D4E3"
             },
             "line": {
              "color": "white"
             }
            },
            "type": "table"
           }
          ]
         },
         "layout": {
          "annotationdefaults": {
           "arrowcolor": "#2a3f5f",
           "arrowhead": 0,
           "arrowwidth": 1
          },
          "autotypenumbers": "strict",
          "coloraxis": {
           "colorbar": {
            "outlinewidth": 0,
            "ticks": ""
           }
          },
          "colorscale": {
           "diverging": [
            [
             0,
             "#8e0152"
            ],
            [
             0.1,
             "#c51b7d"
            ],
            [
             0.2,
             "#de77ae"
            ],
            [
             0.3,
             "#f1b6da"
            ],
            [
             0.4,
             "#fde0ef"
            ],
            [
             0.5,
             "#f7f7f7"
            ],
            [
             0.6,
             "#e6f5d0"
            ],
            [
             0.7,
             "#b8e186"
            ],
            [
             0.8,
             "#7fbc41"
            ],
            [
             0.9,
             "#4d9221"
            ],
            [
             1,
             "#276419"
            ]
           ],
           "sequential": [
            [
             0,
             "#0d0887"
            ],
            [
             0.1111111111111111,
             "#46039f"
            ],
            [
             0.2222222222222222,
             "#7201a8"
            ],
            [
             0.3333333333333333,
             "#9c179e"
            ],
            [
             0.4444444444444444,
             "#bd3786"
            ],
            [
             0.5555555555555556,
             "#d8576b"
            ],
            [
             0.6666666666666666,
             "#ed7953"
            ],
            [
             0.7777777777777778,
             "#fb9f3a"
            ],
            [
             0.8888888888888888,
             "#fdca26"
            ],
            [
             1,
             "#f0f921"
            ]
           ],
           "sequentialminus": [
            [
             0,
             "#0d0887"
            ],
            [
             0.1111111111111111,
             "#46039f"
            ],
            [
             0.2222222222222222,
             "#7201a8"
            ],
            [
             0.3333333333333333,
             "#9c179e"
            ],
            [
             0.4444444444444444,
             "#bd3786"
            ],
            [
             0.5555555555555556,
             "#d8576b"
            ],
            [
             0.6666666666666666,
             "#ed7953"
            ],
            [
             0.7777777777777778,
             "#fb9f3a"
            ],
            [
             0.8888888888888888,
             "#fdca26"
            ],
            [
             1,
             "#f0f921"
            ]
           ]
          },
          "colorway": [
           "#636efa",
           "#EF553B",
           "#00cc96",
           "#ab63fa",
           "#FFA15A",
           "#19d3f3",
           "#FF6692",
           "#B6E880",
           "#FF97FF",
           "#FECB52"
          ],
          "font": {
           "color": "#2a3f5f"
          },
          "geo": {
           "bgcolor": "white",
           "lakecolor": "white",
           "landcolor": "#E5ECF6",
           "showlakes": true,
           "showland": true,
           "subunitcolor": "white"
          },
          "hoverlabel": {
           "align": "left"
          },
          "hovermode": "closest",
          "mapbox": {
           "style": "light"
          },
          "paper_bgcolor": "white",
          "plot_bgcolor": "#E5ECF6",
          "polar": {
           "angularaxis": {
            "gridcolor": "white",
            "linecolor": "white",
            "ticks": ""
           },
           "bgcolor": "#E5ECF6",
           "radialaxis": {
            "gridcolor": "white",
            "linecolor": "white",
            "ticks": ""
           }
          },
          "scene": {
           "xaxis": {
            "backgroundcolor": "#E5ECF6",
            "gridcolor": "white",
            "gridwidth": 2,
            "linecolor": "white",
            "showbackground": true,
            "ticks": "",
            "zerolinecolor": "white"
           },
           "yaxis": {
            "backgroundcolor": "#E5ECF6",
            "gridcolor": "white",
            "gridwidth": 2,
            "linecolor": "white",
            "showbackground": true,
            "ticks": "",
            "zerolinecolor": "white"
           },
           "zaxis": {
            "backgroundcolor": "#E5ECF6",
            "gridcolor": "white",
            "gridwidth": 2,
            "linecolor": "white",
            "showbackground": true,
            "ticks": "",
            "zerolinecolor": "white"
           }
          },
          "shapedefaults": {
           "line": {
            "color": "#2a3f5f"
           }
          },
          "ternary": {
           "aaxis": {
            "gridcolor": "white",
            "linecolor": "white",
            "ticks": ""
           },
           "baxis": {
            "gridcolor": "white",
            "linecolor": "white",
            "ticks": ""
           },
           "bgcolor": "#E5ECF6",
           "caxis": {
            "gridcolor": "white",
            "linecolor": "white",
            "ticks": ""
           }
          },
          "title": {
           "x": 0.05
          },
          "xaxis": {
           "automargin": true,
           "gridcolor": "white",
           "linecolor": "white",
           "ticks": "",
           "title": {
            "standoff": 15
           },
           "zerolinecolor": "white",
           "zerolinewidth": 2
          },
          "yaxis": {
           "automargin": true,
           "gridcolor": "white",
           "linecolor": "white",
           "ticks": "",
           "title": {
            "standoff": 15
           },
           "zerolinecolor": "white",
           "zerolinewidth": 2
          }
         }
        },
        "title": {
         "text": "Distribution of Cons Scores by Author"
        },
        "width": 800,
        "xaxis": {
         "anchor": "y",
         "domain": [
          0,
          1
         ],
         "title": {
          "text": "Cons Score"
         }
        },
        "yaxis": {
         "anchor": "x",
         "domain": [
          0,
          1
         ],
         "title": {
          "text": "Frequency"
         }
        }
       }
      }
     },
     "metadata": {},
     "output_type": "display_data"
    }
   ],
   "source": [
    "# Plot histogram for Pro scores\n",
    "fig_pro = px.histogram(\n",
    "    df_scores,\n",
    "    x=\"Pro\",\n",
    "    color=\"Author\",\n",
    "    title=\"Distribution of Pro Scores by Author\",\n",
    "    nbins=30,\n",
    "    opacity=0.7,\n",
    "    labels={\"Pro\": \"Pro Score\"}\n",
    ")\n",
    "fig_pro.update_layout(\n",
    "    xaxis_title=\"Pro Score\",\n",
    "    yaxis_title=\"Frequency\",\n",
    "    width=800,\n",
    "    height=500\n",
    ")\n",
    "fig_pro.show()\n",
    "\n",
    "# Plot histogram for Cons scores\n",
    "fig_cons = px.histogram(\n",
    "    df_scores,\n",
    "    x=\"Cons\",\n",
    "    color=\"Author\",\n",
    "    title=\"Distribution of Cons Scores by Author\",\n",
    "    nbins=30,\n",
    "    opacity=0.7,\n",
    "    labels={\"Cons\": \"Cons Score\"}\n",
    ")\n",
    "fig_cons.update_layout(\n",
    "    xaxis_title=\"Cons Score\",\n",
    "    yaxis_title=\"Frequency\",\n",
    "    width=800,\n",
    "    height=500\n",
    ")\n",
    "fig_cons.show()"
   ]
  },
  {
   "cell_type": "markdown",
   "id": "3a740687",
   "metadata": {},
   "source": [
    "### References\n",
    "\n",
    "1. *Regina v. Wing Chong*, 1 B.C.R. Pt. II 150 (1885). \n",
    "2. *Wong Hoy Woon v. Duncan*, 3 B.C.R. 318 (1894). \n",
    "3. *Regina v. Mee Wah*, 3 B.C.R. 403 (1886).\n",
    "4. *Regina v. Corporation of Victoria*, 1 B.C.R. Pt. II 331 (1888). \n",
    "5. *Quong Wing v. The King*, 49 S.C.R. 440 (1914). \n",
    "6. Law Society of British Columbia. (1896). *The British Columbia Reports: Being reports of cases determined in the Supreme and County Courts and in Admiralty and on appeal in the Full Court and Divisional Court* (Vol. 3). Victoria, BC: The Province Publishing Company.\n",
    "7. Canada. Royal Commission on Chinese Immigration. (1885). *Report of the Royal Commission on Chinese Immigration: report and evidence*. Ottawa: Printed by order of the Commission. \n",
    "8. Thomas, P. (2012, June 12–14). Courts of last resort: The judicialization of Asian Canadian politics 1878 to 1913. Paper presented at the Annual Conference of the Canadian Political Science Association, University of Alberta, Edmonton, Canada. Retrieved from <https://cpsa-acsp.ca/papers-2012/Thomas-Paul.pdf> \n",
    "9. McLaren, J. P. S. (1991). The Early British Columbia Supreme Court and the \"Chinese Question\": Echoes of the rule of law. Manitoba Law Journal, 20(1), 107–147. Retrieved from <https://www.canlii.org/w/canlii/1991CanLIIDocs168.pdf> \n",
    "10. Chalkidis, I., Fergadiotis, M., Malakasiotis, P., Aletras, N., & Androutsopoulos, I. (2020). LEGAL-BERT: The Muppets straight out of Law School (arXiv:2010.02559). arXiv. <https://doi.org/10.48550/arXiv.2010.02559>\n"
   ]
  },
  {
   "cell_type": "markdown",
   "id": "0af58e95",
   "metadata": {},
   "source": []
  }
 ],
 "metadata": {
  "kernelspec": {
   "display_name": "Python 3",
   "language": "python",
   "name": "python3"
  },
  "language_info": {
   "codemirror_mode": {
    "name": "ipython",
    "version": 3
   },
   "file_extension": ".py",
   "mimetype": "text/x-python",
   "name": "python",
   "nbconvert_exporter": "python",
   "pygments_lexer": "ipython3",
   "version": "3.12.5"
  }
 },
 "nbformat": 4,
 "nbformat_minor": 5
}
