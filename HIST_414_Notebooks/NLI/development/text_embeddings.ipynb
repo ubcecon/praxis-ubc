{
 "cells": [
  {
   "cell_type": "markdown",
   "id": "e9007b58",
   "metadata": {},
   "source": [
    "## Text Embedding-Driven Analysis of Crease's Stances Towards Chinese Immigrants with Evidence from Legal Cases"
   ]
  },
  {
   "cell_type": "markdown",
   "id": "8d9f6d3a",
   "metadata": {},
   "source": [
    "### Learning Objectives\n",
    "\n",
    "In this notebook, you will:\n",
    "\n",
    "1. Explore legal texts in a visual and interactive way through text embeddings.\n",
    "2. Learn how computers can process and analyze texts with pre-trained models.\n",
    "3. Understand how to create word embeddings, sentence embeddings, and use them to capture the underlying semantic and contextual meaning of texts.\n",
    "4. Using a comparative approach to analyze the stance of Crease towards Chinese immigrants in British Columbia.\n",
    "5. Critically reflect on the limitations of text embeddings in historical analysis."
   ]
  },
  {
   "cell_type": "markdown",
   "id": "6b74b8a7",
   "metadata": {},
   "source": [
    "### Pre-requisites\n",
    "\n",
    "1. Finished the assigned readings including the Chinese Regulation Act of 1884 and the two legal cases.\n",
    "2. Familiar with the basic concepts of text embeddings and how they are used in natural language processing (NLP). If you are not familiar with these concepts, pleaser read [Introduction to Text Embeddings]().\n",
    "3. Familiar with the basic concepts of cosine similarity and how it is used to measure the similarity between two vectors. If you are not familiar with these concepts, please read [Introduction to Cosine Similarity]().\n",
    "\n",
    "Before you start, make sure you have the required libraries installed, if not, **uncomment the lines below (i.e. remove the #) and run the cell to install them**: "
   ]
  },
  {
   "cell_type": "code",
   "execution_count": 1,
   "id": "11226471",
   "metadata": {},
   "outputs": [],
   "source": [
    "# !pip install matplotlib\n",
    "# !pip install numpy\n",
    "# !pip install pandas\n",
    "# !pup install plotly\n",
    "# !pip install sklearn\n",
    "# !pip install torch\n",
    "# !pip install transformers\n",
    "# !pip install umap-learn"
   ]
  },
  {
   "cell_type": "markdown",
   "id": "6d49b268",
   "metadata": {},
   "source": [
    "### Introduction\n",
    "\n",
    "Among all techniques, **text embeddings** have emerged as a powerful tool for analyzing texts and their underlying meanings. Text embeddings are numerical representations of words, sentences, or documents that capture their semantic and contextual meanings. They allow us to analyze texts in a more efficient and effective way, enabling us to uncover patterns and relationships that may not be immediately apparent.\n",
    "\n",
    "Studying legal texts can be a challenging task for historians, especially when it comes to analyzing the stance of historical figures towards specific groups or certain events only based on legal discourse. Text embeddings can potentially help us to overcome this challenge by providing a way to analyze the texts in a more nuanced and sophisticated manner.\n",
    "\n",
    "In this notebook, we will focus on the ***Regina V Wing Chong (1885)***-- a legal case in British Columbia that pronounced the Chinese Regulation Act of 1884 unconstitutional-- to analyze the stance of Crease towards Chinese immigrants in British Columbia, while introducing the concept and application of text embeddings. We also encourage you to discuss the results you see and critically reflect on the limitations of text embeddings in historical analysis. Hopefully, this will inspire you to think about how machine learning can be used to analyze other historical texts and uncover the underlying meanings and relationships within them."
   ]
  },
  {
   "cell_type": "markdown",
   "id": "5e102c2e",
   "metadata": {},
   "source": [
    "### Data Exploration\n",
    "\n",
    "#### Data Preparation\n",
    "\n",
    "To begin our analysis, we collected a dataset of 10 documents related to Chinese immigrants problems in British Columbia, Canada, specifically focusing on the legal cases involving Justice Crease, including *Regina V Wing Chong (1885)*, *Wong Hoy Woon V Duncan (1894)* and his answer to the inquiry at the Royal Commission on Chinese Immigrants in 1885. For comparison, we also included legal cases involving other judges such as Justice Begbie and Justice Fitzpatrick, and other reports made at the Royal Commission on Chinese Immigrants. Among which, we focus on Begbie as a reference level for comparison, as he was known for his more lenient stance towards Chinese. We also included the original text of the *Chinese Regulation Act, 1884* as another reference level for comparison, as it was a significant piece of discriminatory legislation against Chinese immigrants in British Columbia.\n",
    "\n",
    "We prepared our dataset using a technique called **Optical Character Recognition (OCR)** to convert scanned legal documents into machine-readable text. This process involved several steps: \n",
    "\n",
    "1. Finding the scanned documents from sources such as the Law Society of British Columbia Court Report and Canadian Legal Information Institute. \n",
    "2. We used OCR models such as [Nanonets OCR](https://huggingface.co/nanonets/Nanonets-OCR-s) and [Azure AI Vision](https://azure.microsoft.com/en-us/products/ai-services/ai-vision) to extract text from these scanned images, ensuring that the text was as accurate as possible through prompt tuning and script optimization. \n",
    "3. We cleaned the extracted text manually to remove any artifacts or errors introduced during the OCR process. \n",
    "\n",
    "However, due to the nature of OCR, some errors may still persist, which we acknowledge as a limitation of our dataset, and we welcome contributions to improve the dataset."
   ]
  },
  {
   "cell_type": "markdown",
   "id": "c183eb93",
   "metadata": {},
   "source": [
    "#### Dataset Reading\n",
    "\n",
    "After preparing the dataset, we read the documents as below using the `pandas` library in Python. It is in a tabular format with columns for the filename, author, type of the document and text content. To refine our analysis, we also removed direct quotations of the *Chinese Regulation Act, 1884* in other documents to avoid bias. The number of quotes sentences removed is also recorded in the dataset. "
   ]
  },
  {
   "cell_type": "code",
   "execution_count": 1,
   "id": "1dd67d39",
   "metadata": {},
   "outputs": [
    {
     "data": {
      "text/html": [
       "<div>\n",
       "<style scoped>\n",
       "    .dataframe tbody tr th:only-of-type {\n",
       "        vertical-align: middle;\n",
       "    }\n",
       "\n",
       "    .dataframe tbody tr th {\n",
       "        vertical-align: top;\n",
       "    }\n",
       "\n",
       "    .dataframe thead th {\n",
       "        text-align: right;\n",
       "    }\n",
       "</style>\n",
       "<table border=\"1\" class=\"dataframe\">\n",
       "  <thead>\n",
       "    <tr style=\"text-align: right;\">\n",
       "      <th></th>\n",
       "      <th>filename</th>\n",
       "      <th>author</th>\n",
       "      <th>type</th>\n",
       "      <th>text</th>\n",
       "      <th>act_quote_sentences_removed</th>\n",
       "    </tr>\n",
       "  </thead>\n",
       "  <tbody>\n",
       "    <tr>\n",
       "      <th>0</th>\n",
       "      <td>regina_v_wing_chong.txt</td>\n",
       "      <td>Crease</td>\n",
       "      <td>case</td>\n",
       "      <td>CREASE, J. 1885. REGINA v. WING CHONG. \\n\\n14t...</td>\n",
       "      <td>12</td>\n",
       "    </tr>\n",
       "    <tr>\n",
       "      <th>1</th>\n",
       "      <td>wong_hoy_woon_v_duncan.txt</td>\n",
       "      <td>Crease</td>\n",
       "      <td>case</td>\n",
       "      <td>CREASE, J.\\n\\nWONG HOY WOON v. DUNCAN.\\n\\n1894...</td>\n",
       "      <td>0</td>\n",
       "    </tr>\n",
       "    <tr>\n",
       "      <th>2</th>\n",
       "      <td>regina_v_mee_wah.txt</td>\n",
       "      <td>Begbie</td>\n",
       "      <td>case</td>\n",
       "      <td>BRITISH COLUMBIA REPORTS.\\n\\nREGINA v. MEE WAH...</td>\n",
       "      <td>0</td>\n",
       "    </tr>\n",
       "    <tr>\n",
       "      <th>3</th>\n",
       "      <td>regina_v_victoria.txt</td>\n",
       "      <td>Begbie</td>\n",
       "      <td>case</td>\n",
       "      <td>OF BRITISH COLUMBIA.\\n\\nREGINA r, CORPORATION ...</td>\n",
       "      <td>0</td>\n",
       "    </tr>\n",
       "    <tr>\n",
       "      <th>4</th>\n",
       "      <td>quong_wing_v_the_king.txt</td>\n",
       "      <td>Fitzpatrick</td>\n",
       "      <td>case</td>\n",
       "      <td>QUONG WING v. THE KING. CAN.  \\n\\nSupreme Cour...</td>\n",
       "      <td>0</td>\n",
       "    </tr>\n",
       "    <tr>\n",
       "      <th>5</th>\n",
       "      <td>commission_on_chinese_imigration.txt</td>\n",
       "      <td>Powell</td>\n",
       "      <td>report</td>\n",
       "      <td>On the 4th of July, 1884, the following Commis...</td>\n",
       "      <td>0</td>\n",
       "    </tr>\n",
       "    <tr>\n",
       "      <th>6</th>\n",
       "      <td>chapleau_report_resume.txt</td>\n",
       "      <td>Chapleau</td>\n",
       "      <td>report</td>\n",
       "      <td>RESUMÉ.\\n\\n1. That Chinese labor is a most eff...</td>\n",
       "      <td>0</td>\n",
       "    </tr>\n",
       "    <tr>\n",
       "      <th>7</th>\n",
       "      <td>crease_commission.txt</td>\n",
       "      <td>Crease</td>\n",
       "      <td>report</td>\n",
       "      <td>The Hon. Mr. Justice CREASE, Judge of the Supr...</td>\n",
       "      <td>0</td>\n",
       "    </tr>\n",
       "    <tr>\n",
       "      <th>8</th>\n",
       "      <td>begbie_commission.txt</td>\n",
       "      <td>Begbie</td>\n",
       "      <td>report</td>\n",
       "      <td>Sir MATTHEW BEGBIE, Chief Justice of British C...</td>\n",
       "      <td>0</td>\n",
       "    </tr>\n",
       "    <tr>\n",
       "      <th>9</th>\n",
       "      <td>chinese_regulation_act_1884.txt</td>\n",
       "      <td>Others</td>\n",
       "      <td>act</td>\n",
       "      <td>An Act to regulate the Chinese population of B...</td>\n",
       "      <td>0</td>\n",
       "    </tr>\n",
       "  </tbody>\n",
       "</table>\n",
       "</div>"
      ],
      "text/plain": [
       "                               filename       author    type  \\\n",
       "0               regina_v_wing_chong.txt       Crease    case   \n",
       "1            wong_hoy_woon_v_duncan.txt       Crease    case   \n",
       "2                  regina_v_mee_wah.txt       Begbie    case   \n",
       "3                 regina_v_victoria.txt       Begbie    case   \n",
       "4             quong_wing_v_the_king.txt  Fitzpatrick    case   \n",
       "5  commission_on_chinese_imigration.txt       Powell  report   \n",
       "6            chapleau_report_resume.txt     Chapleau  report   \n",
       "7                 crease_commission.txt       Crease  report   \n",
       "8                 begbie_commission.txt       Begbie  report   \n",
       "9       chinese_regulation_act_1884.txt       Others     act   \n",
       "\n",
       "                                                text  \\\n",
       "0  CREASE, J. 1885. REGINA v. WING CHONG. \\n\\n14t...   \n",
       "1  CREASE, J.\\n\\nWONG HOY WOON v. DUNCAN.\\n\\n1894...   \n",
       "2  BRITISH COLUMBIA REPORTS.\\n\\nREGINA v. MEE WAH...   \n",
       "3  OF BRITISH COLUMBIA.\\n\\nREGINA r, CORPORATION ...   \n",
       "4  QUONG WING v. THE KING. CAN.  \\n\\nSupreme Cour...   \n",
       "5  On the 4th of July, 1884, the following Commis...   \n",
       "6  RESUMÉ.\\n\\n1. That Chinese labor is a most eff...   \n",
       "7  The Hon. Mr. Justice CREASE, Judge of the Supr...   \n",
       "8  Sir MATTHEW BEGBIE, Chief Justice of British C...   \n",
       "9  An Act to regulate the Chinese population of B...   \n",
       "\n",
       "   act_quote_sentences_removed  \n",
       "0                           12  \n",
       "1                            0  \n",
       "2                            0  \n",
       "3                            0  \n",
       "4                            0  \n",
       "5                            0  \n",
       "6                            0  \n",
       "7                            0  \n",
       "8                            0  \n",
       "9                            0  "
      ]
     },
     "execution_count": 1,
     "metadata": {},
     "output_type": "execute_result"
    }
   ],
   "source": [
    "import pandas as pd\n",
    "import numpy as np\n",
    "\n",
    "# Load the dataset\n",
    "df = pd.read_csv(\"../data/metadata_cleaned.csv\")\n",
    "\n",
    "df"
   ]
  },
  {
   "cell_type": "markdown",
   "id": "203115bc",
   "metadata": {},
   "source": [
    "Each document's length, measured by the number of characters, is displayed below for reference."
   ]
  },
  {
   "cell_type": "code",
   "execution_count": 2,
   "id": "d9f5fa23",
   "metadata": {},
   "outputs": [
    {
     "name": "stdout",
     "output_type": "stream",
     "text": [
      "                               Document  Length\n",
      "0               regina_v_wing_chong.txt   41172\n",
      "1            wong_hoy_woon_v_duncan.txt   13840\n",
      "2                  regina_v_mee_wah.txt   25026\n",
      "3                 regina_v_victoria.txt    8222\n",
      "4             quong_wing_v_the_king.txt   46810\n",
      "5  commission_on_chinese_imigration.txt    3380\n",
      "6            chapleau_report_resume.txt   10861\n",
      "7                 crease_commission.txt   30712\n",
      "8                 begbie_commission.txt   41180\n",
      "9       chinese_regulation_act_1884.txt   12828\n"
     ]
    }
   ],
   "source": [
    "# Summary the distribution of document lengths\n",
    "# Create a DataFrame to store the document lengths\n",
    "doc_lengths = []\n",
    "\n",
    "for row in df.iterrows():\n",
    "    text_length = len(row[1]['text'])\n",
    "    doc_lengths.append({'Document': row[1]['filename'], 'Length': text_length})\n",
    "\n",
    "# Convert to DataFrame and display\n",
    "doc_lengths_df = pd.DataFrame(doc_lengths)\n",
    "print(doc_lengths_df)\n"
   ]
  },
  {
   "cell_type": "markdown",
   "id": "a3c374a4",
   "metadata": {},
   "source": [
    "### Word Embedding Analysis Using LEGAL-BERT\n",
    "\n",
    "The model we are using for creating the text embeddings is **[LEGAL-BERT](https://huggingface.co/nlpaueb/legal-bert-base-uncased)**, it is a model trained on 12 GB of diverse English legal texts, including case law, legislation, and contracts and designed to capture the legal language and concepts. It is based on the **BERT architecture**, which is a transformer-based model that has been shown to be effective for various natural language processing tasks.\n",
    "\n",
    "The first thing we want to do is to create word embeddings for our full corpus, which is a collection of all the text documents in our dataset. Creating word embeddings on the full corpus allows us to capture the overall semantic meaning of the text as perceived by the model and find the most similar words to a given word in the corpus. This is useful for understanding the general context and meaning of the text, as well as for finding related terms that may not be explicitly mentioned in the text.\n",
    "\n",
    "We begin by removing punctuations from the text and join the text into a single string. This is done to ensure that the model can process the text correctly and to avoid any issues with punctuation marks that may affect the word embeddings."
   ]
  },
  {
   "cell_type": "code",
   "execution_count": 3,
   "id": "8c964705",
   "metadata": {},
   "outputs": [],
   "source": [
    "# Define a function to clean the text\n",
    "import re\n",
    "\n",
    "def clean_text(text):\n",
    "    \n",
    "    text = text.lower()\n",
    "    text = re.sub(r'[^\\w\\s]', '', text)  # Remove punctuation\n",
    "    \n",
    "    return text.strip()"
   ]
  },
  {
   "cell_type": "markdown",
   "id": "20cbf996",
   "metadata": {},
   "source": [
    "We use the `word_tokenize` module from `nltk` library to tokenize the full text into a list of words. This step is crucial for preparing the text for the model, as it allows us to analyze the individual words and their relationships within the text."
   ]
  },
  {
   "cell_type": "code",
   "execution_count": 4,
   "id": "d3f5cda5",
   "metadata": {},
   "outputs": [],
   "source": [
    "from nltk.tokenize import word_tokenize\n",
    "from nltk.tokenize import sent_tokenize\n",
    "\n",
    "# Create the large corpus by joining all text from all authors\n",
    "all_text = \" \".join(df[\"text\"].tolist())\n",
    "\n",
    "clean_text = clean_text(all_text)\n",
    "\n",
    "# Tokenize the cleaned text into words\n",
    "words = word_tokenize(clean_text)\n",
    "\n",
    "# Tokenize the cleaned text into sentences\n",
    "sentences = sent_tokenize(all_text.lower())"
   ]
  },
  {
   "cell_type": "markdown",
   "id": "144d10b2",
   "metadata": {},
   "source": [
    "Then we load the LEGAL-BERT model and tokenizer from the Hugging Face library. The **tokenizer** is used to convert the text into a format that the model can understand, while the model itself is used to generate the word embeddings. And the model is set to evaluation mode to ensure that it does not perform any training or updates during the embedding generation process."
   ]
  },
  {
   "cell_type": "code",
   "execution_count": 5,
   "id": "5f5e6609",
   "metadata": {},
   "outputs": [],
   "source": [
    "# Load the tokenizer and model from Hugging Face\n",
    "from transformers import AutoTokenizer, AutoModel\n",
    "import torch\n",
    "\n",
    "# We will use the Legal-BERT model for this task\n",
    "tokenizer = AutoTokenizer.from_pretrained('nlpaueb/legal-bert-base-uncased')\n",
    "model = AutoModel.from_pretrained('nlpaueb/legal-bert-base-uncased').eval() # set the model to evaluation mode"
   ]
  },
  {
   "cell_type": "markdown",
   "id": "363c0d7f",
   "metadata": {},
   "source": [
    "The next step allows us to see how many unique words are present in the corpus."
   ]
  },
  {
   "cell_type": "code",
   "execution_count": 6,
   "id": "c52c8c56",
   "metadata": {},
   "outputs": [
    {
     "name": "stdout",
     "output_type": "stream",
     "text": [
      "There are 4889 unique tokens in this corpus.\n"
     ]
    }
   ],
   "source": [
    "# Create the word embeddings\n",
    "# Get unique words to avoid redundant computation\n",
    "unique_words = list(set(words))\n",
    "\n",
    "# Print the shape of unique tokens\n",
    "print(f'There are {len(unique_words)} unique tokens in this corpus.')"
   ]
  },
  {
   "cell_type": "markdown",
   "id": "62c3eb1f",
   "metadata": {},
   "source": [
    "Finally, we generate the word embeddings. The embeddings are generated by passing the **sentence tokenized** (broken into sentence units) text through the model, which produces a tensor of embeddings for each word in the text. And we average the embeddings for each word to create a single embedding vector that represents the word's meaning in the context of the corpus, so that the embeddings for each word will capture the overall semantic meaning of the word as it appears in the text.\n",
    "\n",
    "We also create a **dictionary** to store the unique words and their embeddings. The keys of the dictionary are the words themselves, and the values are the corresponding embeddings generated by the model. This allows us to easily access and analyze the embeddings for any specific word in our corpus."
   ]
  },
  {
   "cell_type": "code",
   "execution_count": 7,
   "id": "b761e3e0",
   "metadata": {},
   "outputs": [
    {
     "name": "stderr",
     "output_type": "stream",
     "text": [
      "c:\\Users\\Kaiyan Zhang\\AppData\\Local\\Programs\\Python\\Python312\\Lib\\site-packages\\torch\\nn\\modules\\module.py:1762: FutureWarning: `encoder_attention_mask` is deprecated and will be removed in version 4.55.0 for `BertSdpaSelfAttention.forward`.\n",
      "  return forward_call(*args, **kwargs)\n"
     ]
    }
   ],
   "source": [
    "from collections import defaultdict\n",
    "# Use a defaultdict to store lists of embeddings for each word\n",
    "by_word = defaultdict(list)\n",
    "\n",
    "for sent in sentences:\n",
    "    tokens = tokenizer.tokenize(sent)\n",
    "    inputs = tokenizer.encode_plus(sent, \n",
    "                                   return_tensors='pt',\n",
    "                                   truncation=True,\n",
    "                                   max_length=512)\n",
    "    \n",
    "    with torch.no_grad():\n",
    "        outputs = model(**inputs).last_hidden_state.squeeze(0)  \n",
    "    # Map WordPiece tokens back to words\n",
    "    wp_to_word = []\n",
    "    curr_word = \"\"\n",
    "    for idx, piece in enumerate(tokens):\n",
    "        if piece.startswith(\"##\"):\n",
    "            curr_word += piece[2:]\n",
    "        else:\n",
    "            if curr_word:\n",
    "                wp_to_word.append(curr_word)\n",
    "            curr_word = piece\n",
    "        # whenever next token isn't a continuation, close the word\n",
    "        next_is_cont = (idx+1 < len(tokens) and tokens[idx+1].startswith(\"##\"))\n",
    "        if not next_is_cont:\n",
    "            wp_to_word.append(curr_word)\n",
    "            curr_word = \"\"\n",
    "            \n",
    "    # align embeddings\n",
    "    emb_idx = 1\n",
    "    word_idx = 0\n",
    "    while emb_idx < outputs.shape[0] and word_idx < len(wp_to_word):\n",
    "        # find how many WordPieces form this word\n",
    "        word = wp_to_word[word_idx]\n",
    "        # sum/avg the pieces for that word\n",
    "        piece_embs = [outputs[emb_idx]]\n",
    "        emb_idx += 1\n",
    "        # if next piece token starts with \"##\", keep adding\n",
    "        while emb_idx < outputs.shape[0] and tokenizer.convert_ids_to_tokens(int(inputs[\"input_ids\"][0, emb_idx])).startswith(\"##\"):\n",
    "            piece_embs.append(outputs[emb_idx])\n",
    "            emb_idx += 1\n",
    "            \n",
    "        word_emb = torch.stack(piece_embs, dim=0).mean(dim=0).cpu().numpy()\n",
    "        by_word[word].append(word_emb)\n",
    "        word_idx += 1\n",
    " \n",
    "# Average the embeddings for each word       \n",
    "word_embeddings = {\n",
    "    w: np.mean(np.stack(embs, axis=0), axis=0)\n",
    "    for w, embs in by_word.items()\n",
    "}"
   ]
  },
  {
   "cell_type": "markdown",
   "id": "d68f057d",
   "metadata": {},
   "source": [
    "The **embedding** of each word is a list of numbers that represents the word in a high-dimensional space, capturing its semantic meaning and relationships with other words. Below is an example of the embedding for the word \"Chinese\", we only display the first 20 dimensions of the embedding for brevity:"
   ]
  },
  {
   "cell_type": "code",
   "execution_count": 8,
   "id": "ee5a0200",
   "metadata": {},
   "outputs": [
    {
     "name": "stdout",
     "output_type": "stream",
     "text": [
      "First 20 dimensions of the embedding for 'chinese':\n",
      "[ 0.13301814  0.31348336  0.13036042  0.06170142  0.34849504  0.11123911\n",
      "  0.12078131  0.23966664 -0.2801064  -0.12666991  0.04423679  0.4812117\n",
      "  0.00927597 -0.07745101 -0.43305182  0.22666645  0.1506961  -0.11196993\n",
      " -0.6293698   0.39736295]\n"
     ]
    }
   ],
   "source": [
    "# Print embedding for the word of interest 'chinese'\n",
    "print(f\"First 20 dimensions of the embedding for 'chinese':\\n{word_embeddings.get('chinese')[:20]}\") # Display first 20 dimensions of the embedding"
   ]
  },
  {
   "cell_type": "markdown",
   "id": "f55130e1",
   "metadata": {},
   "source": [
    "But in fact, LEGAL-BERT generates a 768-dimensional embedding for each word, as we can see below:"
   ]
  },
  {
   "cell_type": "code",
   "execution_count": 9,
   "id": "f497a6f7",
   "metadata": {},
   "outputs": [
    {
     "name": "stdout",
     "output_type": "stream",
     "text": [
      "The dimension of the embedding is 768\n"
     ]
    }
   ],
   "source": [
    "print(f\"The dimension of the embedding is {len(word_embeddings['chinese'])}\")"
   ]
  },
  {
   "cell_type": "markdown",
   "id": "6e52bb18",
   "metadata": {},
   "source": [
    "We want to see what words are most similar to the word \"Chinese\" in our corpus. To do this, we calculate the cosine similarity between the embedding of \"Chinese\" and the embeddings of all other words in the corpus. The cosine similarity is a measure of similarity between two vectors, and it ranges from 0 (completely not similar) to 1 (completely similar). We then sort the words by their cosine similarity to \"Chinese\" and display the top 10 most similar words."
   ]
  },
  {
   "cell_type": "code",
   "execution_count": 10,
   "id": "4a8d4af5",
   "metadata": {},
   "outputs": [
    {
     "name": "stdout",
     "output_type": "stream",
     "text": [
      "Top 10 most similar words to 'chinese':\n",
      "chinaman: 0.8710\n",
      "china: 0.8701\n",
      "chinamen: 0.8674\n",
      "japanese: 0.8392\n",
      "white: 0.8351\n",
      "immigrant: 0.8290\n",
      "whites: 0.8182\n",
      "alien: 0.8181\n",
      "europeans: 0.8104\n",
      "immigrants: 0.8102\n"
     ]
    }
   ],
   "source": [
    "# Compute cosine similarity between all words with Chinese in the model\n",
    "from scipy.spatial.distance import cosine\n",
    "\n",
    "similarity_scores = {}\n",
    "\n",
    "for other_word in word_embeddings.keys():\n",
    "    if other_word != \"chinese\":\n",
    "        similarity = 1 - cosine(word_embeddings[\"chinese\"], word_embeddings[other_word]) # 1 - cosine distance gives cosine similarity\n",
    "        similarity_scores[other_word] = similarity\n",
    "\n",
    "# Sort by cosine similarity\n",
    "sorted_similarity = sorted(similarity_scores.items(), key=lambda x: x[1], reverse=True)\n",
    "\n",
    "# Print the top 10 most similar words\n",
    "print(\"Top 10 most similar words to 'chinese':\")\n",
    "for word, score in sorted_similarity[:10]:\n",
    "    print(f\"{word}: {score:.4f}\")"
   ]
  },
  {
   "cell_type": "markdown",
   "id": "e2728e7d",
   "metadata": {},
   "source": [
    "With the same approach, we can also find the top 10 most similar words to \"Chinaman\", which is also frequently used in the corpus to refer to Chinese immigrants at the time."
   ]
  },
  {
   "cell_type": "code",
   "execution_count": 11,
   "id": "fc0dc1b7",
   "metadata": {},
   "outputs": [
    {
     "name": "stdout",
     "output_type": "stream",
     "text": [
      "Top 10 most similar words to 'chinaman'\n",
      "chinamen: 0.9387\n",
      "leper: 0.8949\n",
      "washerman: 0.8946\n",
      "countrymen: 0.8760\n",
      "man: 0.8736\n",
      "chinese: 0.8710\n",
      "europeans: 0.8658\n",
      "lepers: 0.8535\n",
      "compradors: 0.8413\n",
      "oriental: 0.8402\n"
     ]
    }
   ],
   "source": [
    "# Compute cosine similarity between all words with Chinaman in the model\n",
    "\n",
    "similarity_scores = {}\n",
    "\n",
    "for other_word in word_embeddings.keys():\n",
    "    if other_word != \"chinaman\":\n",
    "        similarity = 1 - cosine(word_embeddings[\"chinaman\"], word_embeddings[other_word])\n",
    "        similarity_scores[other_word] = similarity\n",
    "\n",
    "# Sort by cosine similarity\n",
    "sorted_similarity = sorted(similarity_scores.items(), key=lambda x: x[1], reverse=True)\n",
    "\n",
    "# Print the top 10 most similar words\n",
    "print(\"Top 10 most similar words to 'chinaman'\")\n",
    "for word, score in sorted_similarity[:10]:\n",
    "    print(f\"{word}: {score:.4f}\")"
   ]
  },
  {
   "cell_type": "markdown",
   "id": "0b0f56bf",
   "metadata": {},
   "source": [
    "It is hard to understand how the embeddings are distributed in the high-dimensional space, but we can visualize the embeddings using **dimensionality reduction** techniques such as **t-SNE** (t-distributed Stochastic Neighbor Embedding) or **UMAP** (Uniform Manifold Approximation and Projection). These techniques allow us to reduce the dimensionality of the embeddings while preserving their relationships, making it easier to visualize and interpret the data. \n",
    "\n",
    "Below is an interactive visualization of the embeddings using **t-SNE** with the embeddings of \"Chinese\", \"China\", \"Chinaman\" and \"Chinamen\" labeled in the plot. Play with the plot to see what patterns you can find in the embeddings."
   ]
  },
  {
   "cell_type": "code",
   "execution_count": 12,
   "id": "bda9ab27",
   "metadata": {},
   "outputs": [],
   "source": [
    "# Generate a t-SNE plot for visualization\n",
    "from sklearn.manifold import TSNE\n",
    "tsne = TSNE(n_components=2, random_state=42)\n",
    "\n",
    "embeddings = np.array(list(word_embeddings.values()))\n",
    "tsne_results = tsne.fit_transform(embeddings)"
   ]
  },
  {
   "cell_type": "code",
   "execution_count": 13,
   "id": "0ab76d8e",
   "metadata": {},
   "outputs": [
    {
     "data": {
      "application/vnd.plotly.v1+json": {
       "config": {
        "plotlyServerURL": "https://plot.ly"
       },
       "data": [
        {
         "customdata": [
          [
           "crease"
          ],
          [
           ","
          ],
          [
           "j"
          ],
          [
           "."
          ],
          [
           "1885"
          ],
          [
           "regina"
          ],
          [
           "v"
          ],
          [
           "wing"
          ],
          [
           "chong"
          ],
          [
           "14th"
          ],
          [
           "&"
          ],
          [
           "15th"
          ],
          [
           "july"
          ],
          [
           "certiorari"
          ],
          [
           "[UNK]"
          ],
          [
           "regulation"
          ],
          [
           "act"
          ],
          [
           "1884"
          ],
          [
           "s"
          ],
          [
           "5"
          ],
          [
           "constitutionality"
          ],
          [
           "b"
          ],
          [
           "n"
          ],
          [
           "a"
          ],
          [
           "1867"
          ],
          [
           "ss"
          ],
          [
           "91"
          ],
          [
           "92"
          ],
          [
           "aliens"
          ],
          [
           "trade"
          ],
          [
           "and"
          ],
          [
           "commerce"
          ],
          [
           "taxation"
          ],
          [
           "on"
          ],
          [
           "the"
          ],
          [
           "return"
          ],
          [
           "to"
          ],
          [
           "writ"
          ],
          [
           "of"
          ],
          [
           "held"
          ],
          [
           "that"
          ],
          [
           "is"
          ],
          [
           "ultra"
          ],
          [
           "vires"
          ],
          [
           "provincial"
          ],
          [
           "legislature"
          ],
          [
           "following"
          ],
          [
           "grounds"
          ],
          [
           ":"
          ],
          [
           "1"
          ],
          [
           "it"
          ],
          [
           "an"
          ],
          [
           "interference"
          ],
          [
           "with"
          ],
          [
           "rights"
          ],
          [
           "2"
          ],
          [
           "3"
          ],
          [
           "infraction"
          ],
          [
           "existing"
          ],
          [
           "treaties"
          ],
          [
           "between"
          ],
          [
           "imperial"
          ],
          [
           "government"
          ],
          [
           "4"
          ],
          [
           "imposes"
          ],
          [
           "unequal"
          ],
          [
           "directed"
          ],
          [
           "edwin"
          ],
          [
           "johnson"
          ],
          [
           "esquire"
          ],
          [
           "police"
          ],
          [
           "magistrate"
          ],
          [
           "for"
          ],
          [
           "city"
          ],
          [
           "victoria"
          ],
          [
           "into"
          ],
          [
           "this"
          ],
          [
           "court"
          ],
          [
           "certain"
          ],
          [
           "conviction"
          ],
          [
           "made"
          ],
          [
           "by"
          ],
          [
           "him"
          ],
          [
           "under"
          ],
          [
           "which"
          ],
          [
           "one"
          ],
          [
           "was"
          ],
          [
           "fined"
          ],
          [
           "$"
          ],
          [
           "20"
          ],
          [
           "not"
          ],
          [
           "having"
          ],
          [
           "in"
          ],
          [
           "his"
          ],
          [
           "possession"
          ],
          [
           "license"
          ],
          [
           "issued"
          ],
          [
           "attorney"
          ],
          [
           "-"
          ],
          [
           "general"
          ],
          [
           "support"
          ],
          [
           "said"
          ],
          [
           "there"
          ],
          [
           "were"
          ],
          [
           "five"
          ],
          [
           "points"
          ],
          [
           "raised"
          ],
          [
           "rule"
          ],
          [
           "against"
          ],
          [
           "validity"
          ],
          [
           "10"
          ],
          [
           "tax"
          ],
          [
           "1st"
          ],
          [
           "interfered"
          ],
          [
           "dominion"
          ],
          [
           "powers"
          ],
          [
           "naturalization"
          ],
          [
           ";"
          ],
          [
           "2nd"
          ],
          [
           "3rd"
          ],
          [
           "treaty"
          ],
          [
           "obligations"
          ],
          [
           "4th"
          ],
          [
           "5th"
          ],
          [
           "indirect"
          ],
          [
           "as"
          ],
          [
           "first"
          ],
          [
           "point"
          ],
          [
           "much"
          ],
          [
           "subject"
          ],
          [
           "citizens"
          ],
          [
           "protection"
          ],
          [
           "reciprocal"
          ],
          [
           "("
          ],
          [
           "cooley"
          ],
          [
           "p"
          ],
          [
           "14"
          ],
          [
           ")"
          ],
          [
           "law"
          ],
          [
           "did"
          ],
          [
           "deal"
          ],
          [
           "conditions"
          ],
          [
           "might"
          ],
          [
           "acquire"
          ],
          [
           "or"
          ],
          [
           "become"
          ],
          [
           "subjects"
          ],
          [
           "her"
          ],
          [
           "majesty"
          ],
          [
           "secondly"
          ],
          [
           "object"
          ],
          [
           "two"
          ],
          [
           "fold"
          ],
          [
           "sanitary"
          ],
          [
           "numerous"
          ],
          [
           "foreign"
          ],
          [
           "element"
          ],
          [
           "raising"
          ],
          [
           "revenue"
          ],
          [
           "necessary"
          ],
          [
           "meet"
          ],
          [
           "hodge"
          ],
          [
           "queen"
          ],
          [
           "l"
          ],
          [
           "r"
          ],
          [
           "9"
          ],
          [
           "app"
          ],
          [
           "cas"
          ],
          [
           "117"
          ],
          [
           "if"
          ],
          [
           "incidentally"
          ],
          [
           "touched"
          ],
          [
           "power"
          ],
          [
           "direct"
          ],
          [
           "impaired"
          ],
          [
           "insurance"
          ],
          [
           "co"
          ],
          [
           "parsons"
          ],
          [
           "7"
          ],
          [
           "108"
          ],
          [
           "preamble"
          ],
          [
           "scope"
          ],
          [
           "showed"
          ],
          [
           "its"
          ],
          [
           "objects"
          ],
          [
           "purely"
          ],
          [
           "matters"
          ],
          [
           "expenditure"
          ],
          [
           "within"
          ],
          [
           "thirdly"
          ],
          [
           "england"
          ],
          [
           "affect"
          ],
          [
           "question"
          ],
          [
           "last"
          ],
          [
           "communication"
          ],
          [
           "from"
          ],
          [
           "secretary"
          ],
          [
           "state"
          ],
          [
           "colonies"
          ],
          [
           "governor"
          ],
          [
           "dated"
          ],
          [
           "16th"
          ],
          [
           "may"
          ],
          [
           "stated"
          ],
          [
           "effect"
          ],
          [
           "responsible"
          ],
          [
           "could"
          ],
          [
           "pass"
          ],
          [
           "restrictive"
          ],
          [
           "laws"
          ],
          [
           "irrespective"
          ],
          [
           "c"
          ],
          [
           "sessional"
          ],
          [
           "papers"
          ],
          [
           "464"
          ],
          [
           "instanced"
          ],
          [
           "legislation"
          ],
          [
           "australian"
          ],
          [
           "fourthly"
          ],
          [
           "province"
          ],
          [
           "jurisdiction"
          ],
          [
           "supreme"
          ],
          [
           "plenary"
          ],
          [
           "parliament"
          ],
          [
           "burah"
          ],
          [
           "904"
          ],
          [
           "powell"
          ],
          [
           "apollo"
          ],
          [
           "candle"
          ],
          [
           "290"
          ],
          [
           "*"
          ],
          [
           "re"
          ],
          [
           "goodhue"
          ],
          [
           "19"
          ],
          [
           "gr"
          ],
          [
           "366"
          ],
          [
           "pp"
          ],
          [
           "82"
          ],
          [
           "126"
          ],
          [
           "128"
          ],
          [
           "'"
          ],
          [
           "constitutional"
          ],
          [
           "limitations"
          ],
          [
           "ed"
          ],
          [
           "626"
          ],
          [
           "sedgwick"
          ],
          [
           "stat"
          ],
          [
           "501"
          ],
          [
           "potter"
          ],
          [
           "dwarris"
          ],
          [
           "418"
          ],
          [
           "421"
          ],
          [
           "425"
          ],
          [
           "dow"
          ],
          [
           "black"
          ],
          [
           "6"
          ],
          [
           "272"
          ],
          [
           "cited"
          ],
          [
           "showing"
          ],
          [
           "unless"
          ],
          [
           "abridged"
          ],
          [
           "written"
          ],
          [
           "constitution"
          ],
          [
           "be"
          ],
          [
           "exercised"
          ],
          [
           "so"
          ],
          [
           "discriminate"
          ],
          [
           "canada"
          ],
          [
           "case"
          ],
          [
           "jonas"
          ],
          [
           "gilbert"
          ],
          [
           "356"
          ],
          [
           "had"
          ],
          [
           "practically"
          ],
          [
           "decided"
          ],
          [
           "same"
          ],
          [
           "fifthly"
          ],
          [
           "whether"
          ],
          [
           "called"
          ],
          [
           "licence"
          ],
          [
           "imposition"
          ],
          [
           "poll"
          ],
          [
           "such"
          ],
          [
           "came"
          ],
          [
           "raise"
          ],
          [
           "money"
          ],
          [
           "purposes"
          ],
          [
           "386"
          ],
          [
           "wharton"
          ],
          [
           "lexicon"
          ],
          [
           "reed"
          ],
          [
           "mousseau"
          ],
          [
           "8"
          ],
          [
           "408"
          ],
          [
           "carry"
          ],
          [
           "business"
          ],
          [
           "method"
          ],
          [
           "whereby"
          ],
          [
           "indirectly"
          ],
          [
           "consumer"
          ],
          [
           "instance"
          ],
          [
           "customs"
          ],
          [
           "stamp"
          ],
          [
           "richards"
          ],
          [
           "q"
          ],
          [
           "though"
          ],
          [
           "apparent"
          ],
          [
           "face"
          ],
          [
           "prevent"
          ],
          [
           "coming"
          ],
          [
           "drive"
          ],
          [
           "out"
          ],
          [
           "those"
          ],
          [
           "who"
          ],
          [
           "already"
          ],
          [
           "come"
          ],
          [
           "he"
          ],
          [
           "reviewed"
          ],
          [
           "since"
          ],
          [
           "confederation"
          ],
          [
           "contending"
          ],
          [
           "levelled"
          ],
          [
           "particular"
          ],
          [
           "race"
          ],
          [
           "therefore"
          ],
          [
           "beyond"
          ],
          [
           "control"
          ],
          [
           "per"
          ],
          [
           "gwynne"
          ],
          [
           "at"
          ],
          [
           "346"
          ],
          [
           "severn"
          ],
          [
           "can"
          ],
          [
           "70"
          ],
          [
           "successful"
          ],
          [
           "driven"
          ],
          [
           "country"
          ],
          [
           "dues"
          ],
          [
           "received"
          ],
          [
           "would"
          ],
          [
           "lost"
          ],
          [
           "benefits"
          ],
          [
           "relations"
          ],
          [
           "enjoyed"
          ],
          [
           "merchants"
          ],
          [
           "destroyed"
          ],
          [
           "counsel"
          ],
          [
           "statistics"
          ],
          [
           "commission"
          ],
          [
           "extreme"
          ],
          [
           "importance"
          ],
          [
           "fiscal"
          ],
          [
           "commercial"
          ],
          [
           "view"
          ],
          [
           "large"
          ],
          [
           "number"
          ],
          [
           "alone"
          ],
          [
           "right"
          ],
          [
           "performing"
          ],
          [
           "part"
          ],
          [
           "british"
          ],
          [
           "empire"
          ],
          [
           "respect"
          ],
          [
           "although"
          ],
          [
           "prohibiting"
          ],
          [
           "immigration"
          ],
          [
           "tendency"
          ],
          [
           "do"
          ],
          [
           "nor"
          ],
          [
           "derogation"
          ],
          [
           "25th"
          ],
          [
           "august"
          ],
          [
           "1842"
          ],
          [
           "hertslet"
          ],
          [
           "vol"
          ],
          [
           "lord"
          ],
          [
           "elgin"
          ],
          [
           "1860"
          ],
          [
           "comparing"
          ],
          [
           "burlingame"
          ],
          [
           "united"
          ],
          [
           "states"
          ],
          [
           "quoted"
          ],
          [
           "california"
          ],
          [
           "decisions"
          ],
          [
           "lin"
          ],
          [
           "sing"
          ],
          [
           "washburn"
          ],
          [
           "cal"
          ],
          [
           "334"
          ],
          [
           "decision"
          ],
          [
           "gray"
          ],
          [
           "tai"
          ],
          [
           "maguire"
          ],
          [
           "deciding"
          ],
          [
           "similar"
          ],
          [
           "void"
          ],
          [
           "contravening"
          ],
          [
           "sovereign"
          ],
          [
           "regulate"
          ],
          [
           "countries"
          ],
          [
           "drake"
          ],
          [
           "side"
          ],
          [
           "argued"
          ],
          [
           "invalid"
          ],
          [
           "because"
          ],
          [
           "inequality"
          ],
          [
           "inherent"
          ],
          [
           "incidental"
          ],
          [
           "taxing"
          ],
          [
           "characteristic"
          ],
          [
           "equality"
          ],
          [
           "limitation"
          ],
          [
           "class"
          ],
          [
           "burdened"
          ],
          [
           "advantage"
          ],
          [
           "others"
          ],
          [
           "635"
          ],
          [
           "principle"
          ],
          [
           "underlying"
          ],
          [
           "governing"
          ],
          [
           "even"
          ],
          [
           "no"
          ],
          [
           "mention"
          ],
          [
           "18"
          ],
          [
           "lexington"
          ],
          [
           "mcquillan"
          ],
          [
           "35"
          ],
          [
           "am"
          ],
          [
           "dec"
          ],
          [
           "159"
          ],
          [
           "help"
          ],
          [
           "contention"
          ],
          [
           "autonomous"
          ],
          [
           "occupied"
          ],
          [
           "position"
          ],
          [
           "provinces"
          ],
          [
           "contend"
          ],
          [
           "whole"
          ],
          [
           "notably"
          ],
          [
           "provisions"
          ],
          [
           "affecting"
          ],
          [
           "size"
          ],
          [
           "dwellings"
          ],
          [
           "forbidding"
          ],
          [
           "use"
          ],
          [
           "opium"
          ],
          [
           "desecration"
          ],
          [
           "grave"
          ],
          [
           "yards"
          ],
          [
           "insisted"
          ],
          [
           "imposing"
          ],
          [
           "excessive"
          ],
          [
           "unconstitutional"
          ],
          [
           "remarks"
          ],
          [
           "chief"
          ],
          [
           "justice"
          ],
          [
           "ritchie"
          ],
          [
           "before"
          ],
          [
           "obiter"
          ],
          [
           "dicta"
          ],
          [
           "upon"
          ],
          [
           "another"
          ],
          [
           "intimated"
          ],
          [
           "but"
          ],
          [
           "decide"
          ],
          [
           "what"
          ],
          [
           "things"
          ],
          [
           "extent"
          ],
          [
           "discrimination"
          ],
          [
           "legitimate"
          ],
          [
           "lastly"
          ],
          [
           "given"
          ],
          [
           "only"
          ],
          [
           "fee"
          ],
          [
           "impose"
          ],
          [
           "been"
          ],
          [
           "score"
          ],
          [
           "being"
          ],
          [
           "reply"
          ],
          [
           "ten"
          ],
          [
           "dollar"
          ],
          [
           "impost"
          ],
          [
           "designated"
          ],
          [
           "name"
          ],
          [
           "otherwise"
          ],
          [
           "distinction"
          ],
          [
           "well"
          ],
          [
           "drawn"
          ],
          [
           "mr"
          ],
          [
           "strong"
          ],
          [
           "mentioned"
          ],
          [
           "privy"
          ],
          [
           "council"
          ],
          [
           "legislatures"
          ],
          [
           "exclusive"
          ],
          [
           "follow"
          ],
          [
           "they"
          ],
          [
           "have"
          ],
          [
           "sanction"
          ],
          [
           "carrying"
          ],
          [
           "any"
          ],
          [
           "product"
          ],
          [
           "contribute"
          ],
          [
           "towards"
          ],
          [
           "payment"
          ],
          [
           "then"
          ],
          [
           "dictum"
          ],
          [
           "expression"
          ],
          [
           "opinion"
          ],
          [
           "political"
          ],
          [
           "wisdom"
          ],
          [
           "required"
          ],
          [
           "uniform"
          ],
          [
           "author"
          ],
          [
           "authorities"
          ],
          [
           "including"
          ],
          [
           "establishing"
          ],
          [
           "fettered"
          ],
          [
           "express"
          ],
          [
           "language"
          ],
          [
           "todd"
          ],
          [
           "parliamentary"
          ],
          [
           "supported"
          ],
          [
           "their"
          ],
          [
           "omnipotent"
          ],
          [
           "cases"
          ],
          [
           "see"
          ],
          [
           "people"
          ],
          [
           "naglee"
          ],
          [
           "232"
          ],
          [
           "differential"
          ],
          [
           "imposed"
          ],
          [
           "miners"
          ],
          [
           "later"
          ],
          [
           "special"
          ],
          [
           "most"
          ],
          [
           "celebrated"
          ],
          [
           "judge"
          ],
          [
           "field"
          ],
          [
           "elevated"
          ],
          [
           "federal"
          ],
          [
           "bench"
          ],
          [
           "dissented"
          ],
          [
           "pointed"
          ],
          [
           "according"
          ],
          [
           "alien"
          ],
          [
           "residents"
          ],
          [
           "provided"
          ],
          [
           "levied"
          ],
          [
           "foreigners"
          ],
          [
           "landing"
          ],
          [
           "exclude"
          ],
          [
           "statute"
          ],
          [
           "disallowed"
          ],
          [
           "extraordinary"
          ],
          [
           "expenses"
          ],
          [
           "incident"
          ],
          [
           "enforcing"
          ],
          [
           "regulations"
          ],
          [
           "prescribed"
          ],
          [
           "nothing"
          ],
          [
           "governments"
          ],
          [
           "conceded"
          ],
          [
           "canadian"
          ],
          [
           "day"
          ],
          [
           "passing"
          ],
          [
           "restriction"
          ],
          [
           "opponents"
          ],
          [
           "exclusion"
          ],
          [
           "franchise"
          ],
          [
           "barring"
          ],
          [
           "them"
          ],
          [
           "acquiring"
          ],
          [
           "lands"
          ],
          [
           "illegal"
          ],
          [
           "autonomy"
          ],
          [
           "neither"
          ],
          [
           "absolutely"
          ],
          [
           "possessed"
          ],
          [
           "equally"
          ],
          [
           "australia"
          ],
          [
           "bounds"
          ],
          [
           "respective"
          ],
          [
           "jurisdictions"
          ],
          [
           "21st"
          ],
          [
           "order"
          ],
          [
           "satisfactorily"
          ],
          [
           "questions"
          ],
          [
           "appeal"
          ],
          [
           "purport"
          ],
          [
           "\""
          ],
          [
           "starts"
          ],
          [
           "recital"
          ],
          [
           "itself"
          ],
          [
           "petio"
          ],
          [
           "principii"
          ],
          [
           "apparently"
          ],
          [
           "result"
          ],
          [
           "public"
          ],
          [
           "enquiry"
          ],
          [
           "charges"
          ],
          [
           "abiding"
          ],
          [
           "dissimilar"
          ],
          [
           "habits"
          ],
          [
           "occupation"
          ],
          [
           "whites"
          ],
          [
           "useless"
          ],
          [
           "emergencies"
          ],
          [
           "habitual"
          ],
          [
           "desecrators"
          ],
          [
           "unsuited"
          ],
          [
           "our"
          ],
          [
           "subversive"
          ],
          [
           "community"
          ],
          [
           "premises"
          ],
          [
           "concluding"
          ],
          [
           "are"
          ],
          [
           "proceeds"
          ],
          [
           "enact"
          ],
          [
           "title"
          ],
          [
           "section"
          ],
          [
           "we"
          ],
          [
           "immediately"
          ],
          [
           "concerned"
          ],
          [
           "says"
          ],
          [
           "after"
          ],
          [
           "passage"
          ],
          [
           "shall"
          ],
          [
           "payable"
          ],
          [
           "paid"
          ],
          [
           "every"
          ],
          [
           "columbia"
          ],
          [
           "above"
          ],
          [
           "age"
          ],
          [
           "fourteen"
          ],
          [
           "years"
          ],
          [
           "unto"
          ],
          [
           "heirs"
          ],
          [
           "successors"
          ],
          [
           "sum"
          ],
          [
           "dollars"
          ],
          [
           "thereafter"
          ],
          [
           "june"
          ],
          [
           "each"
          ],
          [
           "year"
          ],
          [
           "likewise"
          ],
          [
           "person"
          ],
          [
           "further"
          ],
          [
           "sec"
          ],
          [
           "provides"
          ],
          [
           "appointment"
          ],
          [
           "collectors"
          ],
          [
           "collect"
          ],
          [
           "receive"
          ],
          [
           "payments"
          ],
          [
           "collector"
          ],
          [
           "issue"
          ],
          [
           "deliver"
          ],
          [
           "paying"
          ],
          [
           "form"
          ],
          [
           "contained"
          ],
          [
           "schedule"
          ],
          [
           "hereto"
          ],
          [
           "gives"
          ],
          [
           "levy"
          ],
          [
           "amount"
          ],
          [
           "lawful"
          ],
          [
           "costs"
          ],
          [
           "distress"
          ],
          [
           "goods"
          ],
          [
           "chattels"
          ],
          [
           "delinquent"
          ],
          [
           "delin"
          ],
          [
           "quent"
          ],
          [
           "time"
          ],
          [
           "declares"
          ],
          [
           "deemed"
          ],
          [
           "occupa"
          ],
          [
           "tion"
          ],
          [
           "when"
          ],
          [
           "shown"
          ],
          [
           "satisfaction"
          ],
          [
           "tribunal"
          ],
          [
           "cognizance"
          ],
          [
           "matter"
          ],
          [
           "habitually"
          ],
          [
           "frequents"
          ],
          [
           "assent"
          ],
          [
           "owner"
          ],
          [
           "owners"
          ],
          [
           "has"
          ],
          [
           "either"
          ],
          [
           "jointly"
          ],
          [
           "pre"
          ],
          [
           "mises"
          ],
          [
           "some"
          ],
          [
           "thereof"
          ],
          [
           "passed"
          ],
          [
           "night"
          ],
          [
           "slept"
          ],
          [
           "week"
          ],
          [
           "sufficient"
          ],
          [
           "authority"
          ],
          [
           "aforesaid"
          ],
          [
           "non"
          ],
          [
           "production"
          ],
          [
           "12"
          ],
          [
           "allow"
          ],
          [
           "produced"
          ],
          [
           "13"
          ],
          [
           "penalty"
          ],
          [
           "50"
          ],
          [
           "guilty"
          ],
          [
           "employing"
          ],
          [
           "free"
          ],
          [
           "miner"
          ],
          [
           "certificate"
          ],
          [
           "15"
          ],
          [
           "instead"
          ],
          [
           "white"
          ],
          [
           "man"
          ],
          [
           "exceeding"
          ],
          [
           "30"
          ],
          [
           "mining"
          ],
          [
           "without"
          ],
          [
           "sections"
          ],
          [
           "17"
          ],
          [
           "exhumation"
          ],
          [
           "dead"
          ],
          [
           "bodies"
          ],
          [
           "permission"
          ],
          [
           "prohibit"
          ],
          [
           "except"
          ],
          [
           "medical"
          ],
          [
           "recovery"
          ],
          [
           "pecuniary"
          ],
          [
           "thereunder"
          ],
          [
           "summary"
          ],
          [
           "manner"
          ],
          [
           "default"
          ],
          [
           "immediate"
          ],
          [
           "sanctions"
          ],
          [
           "failing"
          ],
          [
           "imprisonment"
          ],
          [
           "three"
          ],
          [
           "months"
          ],
          [
           "amended"
          ],
          [
           "convictions"
          ],
          [
           "quashed"
          ],
          [
           "want"
          ],
          [
           "21"
          ],
          [
           "22"
          ],
          [
           "enacts"
          ],
          [
           "applied"
          ],
          [
           "own"
          ],
          [
           "judgment"
          ],
          [
           "old"
          ],
          [
           "23"
          ],
          [
           "24"
          ],
          [
           "25"
          ],
          [
           "contain"
          ],
          [
           "buildings"
          ],
          [
           "let"
          ],
          [
           "26"
          ],
          [
           "means"
          ],
          [
           "persons"
          ],
          [
           "imprisoned"
          ],
          [
           "put"
          ],
          [
           "hard"
          ],
          [
           "labour"
          ],
          [
           "executive"
          ],
          [
           "empowered"
          ],
          [
           "make"
          ],
          [
           "rules"
          ],
          [
           "27"
          ],
          [
           "places"
          ],
          [
           "hand"
          ],
          [
           "local"
          ],
          [
           "construction"
          ],
          [
           "enforce"
          ],
          [
           "fitting"
          ],
          [
           "premiss"
          ],
          [
           "28"
          ],
          [
           "reverses"
          ],
          [
           "all"
          ],
          [
           "cherished"
          ],
          [
           "priceless"
          ],
          [
           "safeguards"
          ],
          [
           "freedom"
          ],
          [
           "oppression"
          ],
          [
           "won"
          ],
          [
           "us"
          ],
          [
           "forefathers"
          ],
          [
           "until"
          ],
          [
           "proved"
          ],
          [
           "throws"
          ],
          [
           "defendant"
          ],
          [
           "yellow"
          ],
          [
           "burden"
          ],
          [
           "proving"
          ],
          [
           "exempt"
          ],
          [
           "operation"
          ],
          [
           "arbitrary"
          ],
          [
           "restraint"
          ],
          [
           "personal"
          ],
          [
           "liberty"
          ],
          [
           "opposed"
          ],
          [
           "common"
          ],
          [
           "citizen"
          ],
          [
           "applicable"
          ],
          [
           "fortiori"
          ],
          [
           "temporary"
          ],
          [
           "inhabitants"
          ],
          [
           "abrogates"
          ],
          [
           "hitherto"
          ],
          [
           "invariable"
          ],
          [
           "criminal"
          ],
          [
           "makes"
          ],
          [
           "unnecessary"
          ],
          [
           "information"
          ],
          [
           "summons"
          ],
          [
           "negotiate"
          ],
          [
           "exception"
          ],
          [
           "exemption"
          ],
          [
           "contemplation"
          ],
          [
           "taught"
          ],
          [
           "experience"
          ],
          [
           "former"
          ],
          [
           "efforts"
          ],
          [
           "direction"
          ],
          [
           "29"
          ],
          [
           "notice"
          ],
          [
           "now"
          ],
          [
           "expired"
          ],
          [
           "runs"
          ],
          [
           "follows"
          ],
          [
           "affects"
          ],
          [
           "she"
          ],
          [
           "occupies"
          ],
          [
           "pacific"
          ],
          [
           "seaboard"
          ],
          [
           "more"
          ],
          [
           "less"
          ],
          [
           "very"
          ],
          [
           "many"
          ],
          [
           "other"
          ],
          [
           "flag"
          ],
          [
           "taking"
          ],
          [
           "convenience"
          ],
          [
           "objection"
          ],
          [
           "over"
          ],
          [
           "should"
          ],
          [
           "i"
          ],
          [
           "observe"
          ],
          [
           "settled"
          ],
          [
           "possesses"
          ],
          [
           "strictly"
          ],
          [
           "defined"
          ],
          [
           "indeed"
          ],
          [
           "possess"
          ],
          [
           "than"
          ],
          [
           "conferred"
          ],
          [
           "goes"
          ],
          [
           "excess"
          ],
          [
           "moment"
          ],
          [
           "transgression"
          ],
          [
           "ceases"
          ],
          [
           "dealing"
          ],
          [
           "must"
          ],
          [
           "kept"
          ],
          [
           "throughout"
          ],
          [
           "measure"
          ],
          [
           "continually"
          ],
          [
           "gauge"
          ],
          [
           "legality"
          ],
          [
           "illegality"
          ],
          [
           "consideration"
          ],
          [
           "federation"
          ],
          [
           "irrefragable"
          ],
          [
           "permanent"
          ],
          [
           "standard"
          ],
          [
           "preserve"
          ],
          [
           "relative"
          ],
          [
           "among"
          ],
          [
           "themselves"
          ],
          [
           "regards"
          ],
          [
           "91st"
          ],
          [
           "particularized"
          ],
          [
           "natural"
          ],
          [
           "working"
          ],
          [
           "new"
          ],
          [
           "growing"
          ],
          [
           "cropping"
          ],
          [
           "up"
          ],
          [
           "call"
          ],
          [
           "courts"
          ],
          [
           "define"
          ],
          [
           "gradually"
          ],
          [
           "greater"
          ],
          [
           "exactness"
          ],
          [
           "progresses"
          ],
          [
           "population"
          ],
          [
           "expands"
          ],
          [
           "respectively"
          ],
          [
           "sub"
          ],
          [
           "exclusively"
          ],
          [
           "everything"
          ],
          [
           "relating"
          ],
          [
           "interfering"
          ],
          [
           "does"
          ],
          [
           "far"
          ],
          [
           "extends"
          ],
          [
           "brought"
          ],
          [
           "duty"
          ],
          [
           "adjudge"
          ],
          [
           "converse"
          ],
          [
           "true"
          ],
          [
           "applying"
          ],
          [
           "test"
          ],
          [
           "how"
          ],
          [
           "alleged"
          ],
          [
           "?"
          ],
          [
           "find"
          ],
          [
           "looks"
          ],
          [
           "like"
          ],
          [
           "bill"
          ],
          [
           "indictment"
          ],
          [
           "suited"
          ],
          [
           "live"
          ],
          [
           "civilized"
          ],
          [
           "nation"
          ],
          [
           "certainly"
          ],
          [
           "prepare"
          ],
          [
           "encourage"
          ],
          [
           "tolerate"
          ],
          [
           "settlement"
          ],
          [
           "lines"
          ],
          [
           "sound"
          ],
          [
           "alarm"
          ],
          [
           "multitude"
          ],
          [
           "repulsive"
          ],
          [
           "described"
          ],
          [
           "prepares"
          ],
          [
           "measures"
          ],
          [
           "abate"
          ],
          [
           "deterrent"
          ],
          [
           "influences"
          ],
          [
           "enactments"
          ],
          [
           "materially"
          ],
          [
           "lessening"
          ],
          [
           "undesirable"
          ],
          [
           "visitors"
          ],
          [
           "somewhat"
          ],
          [
           "extenso"
          ],
          [
           "bear"
          ],
          [
           "concurrent"
          ],
          [
           "previous"
          ],
          [
           "impression"
          ],
          [
           "plainly"
          ],
          [
           "cannot"
          ],
          [
           "subsist"
          ],
          [
           "nations"
          ],
          [
           "intercourse"
          ],
          [
           "1878"
          ],
          [
           "provide"
          ],
          [
           "better"
          ],
          [
           "collection"
          ],
          [
           "taxes"
          ],
          [
           "several"
          ],
          [
           "stringent"
          ],
          [
           "specially"
          ],
          [
           "recoverable"
          ],
          [
           "unusual"
          ],
          [
           "remedies"
          ],
          [
           "enforced"
          ],
          [
           "fine"
          ],
          [
           "penal"
          ],
          [
           "clauses"
          ],
          [
           "conscientious"
          ],
          [
           "exhaustive"
          ],
          [
           "23rd"
          ],
          [
           "september"
          ],
          [
           "declared"
          ],
          [
           "reserved"
          ],
          [
           "81st"
          ],
          [
           "never"
          ],
          [
           "appealed"
          ],
          [
           "once"
          ],
          [
           "acted"
          ],
          [
           "conclusive"
          ],
          [
           "legislative"
          ],
          [
           "altered"
          ],
          [
           "russell"
          ],
          [
           "829"
          ],
          [
           "fully"
          ],
          [
           "done"
          ],
          [
           "latter"
          ],
          [
           "especially"
          ],
          [
           "however"
          ],
          [
           "rendered"
          ],
          [
           "reversed"
          ],
          [
           "varied"
          ],
          [
           "here"
          ],
          [
           "binding"
          ],
          [
           "lordships"
          ],
          [
           "say"
          ],
          [
           "page"
          ],
          [
           "132"
          ],
          [
           "reference"
          ],
          [
           "appellants"
          ],
          [
           "delegatus"
          ],
          [
           "potest"
          ],
          [
           "delegare"
          ],
          [
           "appears"
          ],
          [
           "thus"
          ],
          [
           "founded"
          ],
          [
           "entire"
          ],
          [
           "misconception"
          ],
          [
           "character"
          ],
          [
           "sense"
          ],
          [
           "delegates"
          ],
          [
           "acting"
          ],
          [
           "mandate"
          ],
          [
           "north"
          ],
          [
           "america"
          ],
          [
           "enacted"
          ],
          [
           "ontario"
          ],
          [
           "read"
          ],
          [
           "assembly"
          ],
          [
           "relation"
          ],
          [
           "enumerated"
          ],
          [
           "delegation"
          ],
          [
           "agents"
          ],
          [
           "ample"
          ],
          [
           "limits"
          ],
          [
           "plenitude"
          ],
          [
           "bestow"
          ],
          [
           "these"
          ],
          [
           "area"
          ],
          [
           "["
          ],
          [
           "confirms"
          ],
          [
           "words"
          ],
          [
           "selborne"
          ],
          [
           "]"
          ],
          [
           "circumstances"
          ],
          [
           "confide"
          ],
          [
           "municipal"
          ],
          [
           "institution"
          ],
          [
           "body"
          ],
          [
           "creation"
          ],
          [
           "resolutions"
          ],
          [
           "specified"
          ],
          [
           "enactment"
          ],
          [
           "respects"
          ],
          [
           "clear"
          ],
          [
           "basis"
          ],
          [
           "rather"
          ],
          [
           "parts"
          ],
          [
           "objected"
          ],
          [
           "limit"
          ],
          [
           "exceed"
          ],
          [
           "interfere"
          ],
          [
           "encroach"
          ],
          [
           "touches"
          ],
          [
           "interferes"
          ],
          [
           "render"
          ],
          [
           "taxed"
          ],
          [
           "subjected"
          ],
          [
           "doing"
          ],
          [
           "allowed"
          ],
          [
           "different"
          ],
          [
           "occupations"
          ],
          [
           "quite"
          ],
          [
           "discriminations"
          ],
          [
           "allows"
          ],
          [
           "permissible"
          ],
          [
           "spoken"
          ],
          [
           "portions"
          ],
          [
           "during"
          ],
          [
           "argument"
          ],
          [
           "reports"
          ],
          [
           "534"
          ],
          [
           "bearing"
          ],
          [
           "capitation"
          ],
          [
           "male"
          ],
          [
           "female"
          ],
          [
           "mongolian"
          ],
          [
           "upwards"
          ],
          [
           "residing"
          ],
          [
           "accompanying"
          ],
          [
           "almost"
          ],
          [
           "fac"
          ],
          [
           "simile"
          ],
          [
           "way"
          ],
          [
           "long"
          ],
          [
           "elaborate"
          ],
          [
           "appeared"
          ],
          [
           "determined"
          ],
          [
           "regulated"
          ],
          [
           "vain"
          ],
          [
           "advanced"
          ],
          [
           "least"
          ],
          [
           "internal"
          ],
          [
           "affairs"
          ],
          [
           "proposition"
          ],
          [
           "legislate"
          ],
          [
           "vested"
          ],
          [
           "branches"
          ],
          [
           "species"
          ],
          [
           "property"
          ],
          [
           "whose"
          ],
          [
           "arguments"
          ],
          [
           "reproduced"
          ],
          [
           "me"
          ],
          [
           "dissenting"
          ],
          [
           "carried"
          ],
          [
           "agency"
          ],
          [
           "diminish"
          ],
          [
           "acknowledged"
          ],
          [
           "affixed"
          ],
          [
           "exercise"
          ],
          [
           "used"
          ],
          [
           "destroy"
          ],
          [
           "asserted"
          ],
          [
           "prescribe"
          ],
          [
           "terms"
          ],
          [
           "permitted"
          ],
          [
           "reside"
          ],
          [
           "cut"
          ],
          [
           "off"
          ],
          [
           "defeat"
          ],
          [
           "policy"
          ],
          [
           "maintained"
          ],
          [
           "branch"
          ],
          [
           "surrendered"
          ],
          [
           "incompatible"
          ],
          [
           "set"
          ],
          [
           "apart"
          ],
          [
           "compelled"
          ],
          [
           "higher"
          ],
          [
           "great"
          ],
          [
           "past"
          ],
          [
           "restrict"
          ],
          [
           "constantly"
          ],
          [
           "superior"
          ],
          [
           "judges"
          ],
          [
           "take"
          ],
          [
           "correct"
          ],
          [
           "ordinarily"
          ],
          [
           "skilled"
          ],
          [
           "laying"
          ],
          [
           "down"
          ],
          [
           "correctly"
          ],
          [
           "nature"
          ],
          [
           "generally"
          ],
          [
           "course"
          ],
          [
           "observations"
          ],
          [
           "recognize"
          ],
          [
           "known"
          ],
          [
           "union"
          ],
          [
           "still"
          ],
          [
           "both"
          ],
          [
           "analogy"
          ],
          [
           "close"
          ],
          [
           "sin"
          ],
          [
           "579"
          ],
          [
           "learned"
          ],
          [
           "present"
          ],
          [
           "qua"
          ],
          [
           "exist"
          ],
          [
           "bar"
          ],
          [
           "door"
          ],
          [
           "effectually"
          ],
          [
           "issuing"
          ],
          [
           "date"
          ],
          [
           "closing"
          ],
          [
           "ports"
          ],
          [
           "again"
          ],
          [
           "determine"
          ],
          [
           "conflict"
          ],
          [
           "e"
          ],
          [
           "considered"
          ],
          [
           "consequences"
          ],
          [
           "criterion"
          ],
          [
           "formed"
          ],
          [
           "place"
          ],
          [
           "empty"
          ],
          [
           "will"
          ],
          [
           "compel"
          ],
          [
           "depart"
          ],
          [
           "soon"
          ],
          [
           "arrive"
          ],
          [
           "mere"
          ],
          [
           "appropriate"
          ],
          [
           "effective"
          ],
          [
           "discourage"
          ],
          [
           "claims"
          ],
          [
           "intra"
          ],
          [
           "fact"
          ],
          [
           "legally"
          ],
          [
           "legal"
          ],
          [
           "becomes"
          ],
          [
           "proper"
          ],
          [
           "benefit"
          ],
          [
           "tiburcio"
          ],
          [
           "parrott"
          ],
          [
           "laid"
          ],
          [
           "pretense"
          ],
          [
           "away"
          ],
          [
           "end"
          ],
          [
           "sought"
          ],
          [
           "obtained"
          ],
          [
           "unlawful"
          ],
          [
           "reg"
          ],
          [
           "ascertain"
          ],
          [
           "look"
          ],
          [
           "purpose"
          ],
          [
           "annual"
          ],
          [
           "loss"
          ],
          [
           "tables"
          ],
          [
           "report"
          ],
          [
           "110"
          ],
          [
           "000"
          ],
          [
           "500"
          ],
          [
           "besides"
          ],
          [
           "injury"
          ],
          [
           "incalculable"
          ],
          [
           "transacted"
          ],
          [
           "revealed"
          ],
          [
           "something"
          ],
          [
           "casual"
          ],
          [
           "observer"
          ],
          [
           "idea"
          ],
          [
           "britain"
          ],
          [
           "bind"
          ],
          [
           "ratified"
          ],
          [
           "26th"
          ],
          [
           "1843"
          ],
          [
           "221"
          ],
          [
           "october"
          ],
          [
           "authenticated"
          ],
          [
           "copies"
          ],
          [
           "secure"
          ],
          [
           "dominions"
          ],
          [
           "full"
          ],
          [
           "security"
          ],
          [
           "vattell"
          ],
          [
           "cap"
          ],
          [
           "referring"
          ],
          [
           "observes"
          ],
          [
           "territory"
          ],
          [
           "admits"
          ],
          [
           "strangers"
          ],
          [
           "engages"
          ],
          [
           "protect"
          ],
          [
           "afford"
          ],
          [
           "perfect"
          ],
          [
           "depends"
          ],
          [
           "important"
          ],
          [
           "guiding"
          ],
          [
           "determining"
          ],
          [
           "review"
          ],
          [
           "exceeds"
          ],
          [
           "freely"
          ],
          [
           "sides"
          ],
          [
           "kent"
          ],
          [
           "commentaries"
          ],
          [
           "8th"
          ],
          [
           "388"
          ],
          [
           "entitled"
          ],
          [
           "protected"
          ],
          [
           "enjoyment"
          ],
          [
           "invasions"
          ],
          [
           "individuals"
          ],
          [
           "undue"
          ],
          [
           "assessments"
          ],
          [
           "representatives"
          ],
          [
           "require"
          ],
          [
           "cause"
          ],
          [
           "fair"
          ],
          [
           "equal"
          ],
          [
           "proportion"
          ],
          [
           "value"
          ],
          [
           "apportionment"
          ],
          [
           "unduly"
          ],
          [
           "assessed"
          ],
          [
           "just"
          ],
          [
           "regard"
          ],
          [
           "force"
          ],
          [
           "international"
          ],
          [
           "continued"
          ],
          [
           "strongly"
          ],
          [
           "party"
          ],
          [
           "introduced"
          ],
          [
           "forced"
          ],
          [
           "bayonet"
          ],
          [
           "obtain"
          ],
          [
           "enter"
          ],
          [
           "everywhere"
          ],
          [
           "1858"
          ],
          [
           "solicitation"
          ],
          [
           "emperor"
          ],
          [
           "induced"
          ],
          [
           "give"
          ],
          [
           "go"
          ],
          [
           "engagements"
          ],
          [
           "lawfully"
          ],
          [
           "revision"
          ],
          [
           "high"
          ],
          [
           "contracting"
          ],
          [
           "parties"
          ],
          [
           "ordinary"
          ],
          [
           "obvious"
          ],
          [
           "reasons"
          ],
          [
           "provision"
          ],
          [
           "life"
          ],
          [
           "apply"
          ],
          [
           "also"
          ],
          [
           "americans"
          ],
          [
           "frenchmen"
          ],
          [
           "germans"
          ],
          [
           "especial"
          ],
          [
           "care"
          ],
          [
           "where"
          ],
          [
           "clashes"
          ],
          [
           "leprohon"
          ],
          [
           "ottawa"
          ],
          [
           "40"
          ],
          [
           "ont"
          ],
          [
           "478"
          ],
          [
           "chandler"
          ],
          [
           "hannay"
          ],
          [
           "brunswick"
          ],
          [
           "548"
          ],
          [
           "st"
          ],
          [
           "jacques"
          ],
          [
           "belisle"
          ],
          [
           "31"
          ],
          [
           "principles"
          ],
          [
           "tests"
          ],
          [
           "found"
          ],
          [
           "associated"
          ],
          [
           "altogether"
          ],
          [
           "noscitur"
          ],
          [
           "sociis"
          ],
          [
           "describes"
          ],
          [
           "venture"
          ],
          [
           "think"
          ],
          [
           "definition"
          ],
          [
           "affected"
          ],
          [
           "ambassadors"
          ],
          [
           "consuls"
          ],
          [
           "artists"
          ],
          [
           "professors"
          ],
          [
           "travellers"
          ],
          [
           "sex"
          ],
          [
           "disability"
          ],
          [
           "distance"
          ],
          [
           "difficult"
          ],
          [
           "impossible"
          ],
          [
           "origin"
          ],
          [
           "naturalized"
          ],
          [
           "hong"
          ],
          [
           "kong"
          ],
          [
           "amity"
          ],
          [
           "treated"
          ],
          [
           "remain"
          ],
          [
           "unmolested"
          ],
          [
           "wanted"
          ],
          [
           "create"
          ],
          [
           "knew"
          ],
          [
           "sister"
          ],
          [
           "district"
          ],
          [
           "liable"
          ],
          [
           "turn"
          ],
          [
           "confronted"
          ],
          [
           "exceptional"
          ],
          [
           "addition"
          ],
          [
           "too"
          ],
          [
           "hot"
          ],
          [
           "persecuted"
          ],
          [
           "degree"
          ],
          [
           "attacked"
          ],
          [
           "unheard"
          ],
          [
           "employe"
          ],
          [
           "english"
          ],
          [
           "american"
          ],
          [
           "severe"
          ],
          [
           "incessant"
          ],
          [
           "liability"
          ],
          [
           "kind"
          ],
          [
           "stranger"
          ],
          [
           "knows"
          ],
          [
           "employ"
          ],
          [
           "palpable"
          ],
          [
           "employment"
          ],
          [
           "distasteful"
          ],
          [
           "annoying"
          ],
          [
           "employer"
          ],
          [
           "cease"
          ],
          [
           "providing"
          ],
          [
           "men"
          ],
          [
           "productive"
          ],
          [
           "danger"
          ],
          [
           "annoyance"
          ],
          [
           "saying"
          ],
          [
           "penalties"
          ],
          [
           "prosecutions"
          ],
          [
           "always"
          ],
          [
           "you"
          ],
          [
           "derived"
          ],
          [
           "equivalent"
          ],
          [
           "happen"
          ],
          [
           "happens"
          ],
          [
           "occupy"
          ],
          [
           "cottage"
          ],
          [
           "room"
          ],
          [
           "master"
          ],
          [
           "seizure"
          ],
          [
           "sale"
          ],
          [
           "prosecution"
          ],
          [
           "presumption"
          ],
          [
           "innocence"
          ],
          [
           "onus"
          ],
          [
           "probandi"
          ],
          [
           "highly"
          ],
          [
           "shifted"
          ],
          [
           "informant"
          ],
          [
           "shoulders"
          ],
          [
           "accused"
          ],
          [
           "foreigner"
          ],
          [
           "knowing"
          ],
          [
           "word"
          ],
          [
           "accuser"
          ],
          [
           "innocent"
          ],
          [
           "fills"
          ],
          [
           "conversant"
          ],
          [
           "tolerated"
          ],
          [
           "precedent"
          ],
          [
           "popular"
          ],
          [
           "outcry"
          ],
          [
           "easily"
          ],
          [
           "putting"
          ],
          [
           "classes"
          ],
          [
           "ourselves"
          ],
          [
           "coloured"
          ],
          [
           "french"
          ],
          [
           "italians"
          ],
          [
           "supposing"
          ],
          [
           "intended"
          ],
          [
           "manifestly"
          ],
          [
           "calculated"
          ],
          [
           "diminishing"
          ],
          [
           "numbers"
          ],
          [
           "members"
          ],
          [
           "light"
          ],
          [
           "mode"
          ],
          [
           "getting"
          ],
          [
           "rid"
          ],
          [
           "whom"
          ],
          [
           "teems"
          ],
          [
           "employers"
          ],
          [
           "liabilities"
          ],
          [
           "conduct"
          ],
          [
           "reasonable"
          ],
          [
           "encounter"
          ],
          [
           "run"
          ],
          [
           "risk"
          ],
          [
           "hangs"
          ],
          [
           "summarily"
          ],
          [
           "recovered"
          ],
          [
           "applies"
          ],
          [
           "offender"
          ],
          [
           "calendar"
          ],
          [
           "necessarily"
          ],
          [
           "bristles"
          ],
          [
           "invidious"
          ],
          [
           "single"
          ],
          [
           "ones"
          ],
          [
           "comment"
          ],
          [
           "enough"
          ],
          [
           "add"
          ],
          [
           "directly"
          ],
          [
           "hesitation"
          ],
          [
           "pronouncing"
          ],
          [
           "appellant"
          ],
          [
           "convicted"
          ],
          [
           "consequently"
          ],
          [
           "dealt"
          ],
          [
           "merits"
          ],
          [
           "consider"
          ],
          [
           "juxtaposition"
          ],
          [
           "recently"
          ],
          [
           "restricting"
          ],
          [
           "transparent"
          ],
          [
           "highest"
          ],
          [
           "seen"
          ],
          [
           "axiom"
          ],
          [
           "interpretation"
          ],
          [
           "deals"
          ],
          [
           "expressly"
          ],
          [
           "included"
          ],
          [
           "assumption"
          ],
          [
           "expel"
          ],
          [
           "impede"
          ],
          [
           "employed"
          ],
          [
           "west"
          ],
          [
           "manitoba"
          ],
          [
           "railway"
          ],
          [
           "works"
          ],
          [
           "languishing"
          ],
          [
           "labourers"
          ],
          [
           "sea"
          ],
          [
           "board"
          ],
          [
           "through"
          ],
          [
           "legislating"
          ],
          [
           "inter"
          ],
          [
           "pronounce"
          ],
          [
           "accordingly"
          ],
          [
           "quash"
          ],
          [
           "wong"
          ],
          [
           "hoy"
          ],
          [
           "woon"
          ],
          [
           "duncan"
          ],
          [
           "1894"
          ],
          [
           "oct"
          ],
          [
           "health"
          ],
          [
           "1893"
          ],
          [
           "secs"
          ],
          [
           "32"
          ],
          [
           "infected"
          ],
          [
           "locality"
          ],
          [
           "proof"
          ],
          [
           "exposed"
          ],
          [
           "infection"
          ],
          [
           "action"
          ],
          [
           "trespass"
          ],
          [
           "officer"
          ],
          [
           "causing"
          ],
          [
           "plaintiff"
          ],
          [
           "landed"
          ],
          [
           "steamer"
          ],
          [
           "removed"
          ],
          [
           "suspect"
          ],
          [
           "station"
          ],
          [
           "detained"
          ],
          [
           "cleansing"
          ],
          [
           "process"
          ],
          [
           "colour"
          ],
          [
           "giving"
          ],
          [
           "stop"
          ],
          [
           "detain"
          ],
          [
           "examine"
          ],
          [
           "freight"
          ],
          [
           "cargoes"
          ],
          [
           "tramway"
          ],
          [
           "cars"
          ],
          [
           "malignant"
          ],
          [
           "infectious"
          ],
          [
           "disease"
          ],
          [
           "introduction"
          ],
          [
           "quarantine"
          ],
          [
           "land"
          ],
          [
           "passengers"
          ],
          [
           "evidence"
          ],
          [
           "etc"
          ],
          [
           "resident"
          ],
          [
           "small"
          ],
          [
           "pox"
          ],
          [
           "endemic"
          ],
          [
           "inoculation"
          ],
          [
           "universal"
          ],
          [
           "practice"
          ],
          [
           "existence"
          ],
          [
           "dangerous"
          ],
          [
           "departure"
          ],
          [
           "thence"
          ],
          [
           "facts"
          ],
          [
           "insufficient"
          ],
          [
           "justify"
          ],
          [
           "duties"
          ],
          [
           "officers"
          ],
          [
           "statement"
          ],
          [
           "claiming"
          ],
          [
           "damages"
          ],
          [
           "appear"
          ],
          [
           "head"
          ],
          [
           "note"
          ],
          [
           "h"
          ],
          [
           "dallas"
          ],
          [
           "helmcken"
          ],
          [
           "w"
          ],
          [
           "taylor"
          ],
          [
           "try"
          ],
          [
           "advent"
          ],
          [
           "occasion"
          ],
          [
           "arrival"
          ],
          [
           "empress"
          ],
          [
           "outer"
          ],
          [
           "wharf"
          ],
          [
           "hongkong"
          ],
          [
           "nominally"
          ],
          [
           "really"
          ],
          [
           "dr"
          ],
          [
           "george"
          ],
          [
           "account"
          ],
          [
           "despatching"
          ],
          [
           "en"
          ],
          [
           "masse"
          ],
          [
           "examination"
          ],
          [
           "ross"
          ],
          [
           "bay"
          ],
          [
           "disinfected"
          ],
          [
           "scrubbed"
          ],
          [
           "passenger"
          ],
          [
           "port"
          ],
          [
           "questioned"
          ],
          [
           "examined"
          ],
          [
           "ship"
          ],
          [
           "entry"
          ],
          [
           "receipt"
          ],
          [
           "scene"
          ],
          [
           "finds"
          ],
          [
           "entrance"
          ],
          [
           "disregarding"
          ],
          [
           "presumably"
          ],
          [
           "unsanitary"
          ],
          [
           "reason"
          ],
          [
           "suspicion"
          ],
          [
           "inspecting"
          ],
          [
           "attempting"
          ],
          [
           "inspect"
          ],
          [
           "individually"
          ],
          [
           "orders"
          ],
          [
           "custody"
          ],
          [
           "constables"
          ],
          [
           "taken"
          ],
          [
           "washed"
          ],
          [
           "bundled"
          ],
          [
           "truck"
          ],
          [
           "cattle"
          ],
          [
           "similarly"
          ],
          [
           "situated"
          ],
          [
           "habeas"
          ],
          [
           "corpus"
          ],
          [
           "discharged"
          ],
          [
           "thereupon"
          ],
          [
           "shores"
          ],
          [
           "differently"
          ],
          [
           "treatment"
          ],
          [
           "natives"
          ],
          [
           "panic"
          ],
          [
           "simply"
          ],
          [
           "published"
          ],
          [
           "gazette"
          ],
          [
           "april"
          ],
          [
           "directs"
          ],
          [
           "strict"
          ],
          [
           "vessel"
          ],
          [
           "luggage"
          ],
          [
           "thing"
          ],
          [
           "pestilential"
          ],
          [
           "tried"
          ],
          [
           "jury"
          ],
          [
           "left"
          ],
          [
           "prove"
          ],
          [
           "davie"
          ],
          [
           "placed"
          ],
          [
           "witness"
          ],
          [
           "box"
          ],
          [
           "expert"
          ],
          [
           "home"
          ],
          [
           "constant"
          ],
          [
           "source"
          ],
          [
           "europe"
          ],
          [
           "vaccination"
          ],
          [
           "late"
          ],
          [
           "preventative"
          ],
          [
           "naturally"
          ],
          [
           "inspection"
          ],
          [
           "thought"
          ],
          [
           "scrutiny"
          ],
          [
           "19th"
          ],
          [
           "portion"
          ],
          [
           "comes"
          ],
          [
           "asked"
          ],
          [
           "doctor"
          ],
          [
           "replied"
          ],
          [
           "baggage"
          ],
          [
           "possible"
          ],
          [
           "anything"
          ],
          [
           "else"
          ],
          [
           "requires"
          ],
          [
           "facilities"
          ],
          [
           "wanting"
          ],
          [
           "understood"
          ],
          [
           "interview"
          ],
          [
           "voyage"
          ],
          [
           "individual"
          ],
          [
           "chiefly"
          ],
          [
           "dressed"
          ],
          [
           "woollen"
          ],
          [
           "materials"
          ],
          [
           "harbour"
          ],
          [
           "weeks"
          ],
          [
           "period"
          ],
          [
           "incubation"
          ],
          [
           "twelve"
          ],
          [
           "fifteen"
          ],
          [
           "days"
          ],
          [
           "seaport"
          ],
          [
           "towns"
          ],
          [
           "liverpool"
          ],
          [
           "honkong"
          ],
          [
           "develop"
          ],
          [
           "diseases"
          ],
          [
           "guarded"
          ],
          [
           "g"
          ],
          [
           "cholera"
          ],
          [
           "leprosy"
          ],
          [
           "plague"
          ],
          [
           "thousands"
          ],
          [
           "lasted"
          ],
          [
           "clean"
          ],
          [
           "charged"
          ],
          [
           "returned"
          ],
          [
           "verdict"
          ],
          [
           "speak"
          ],
          [
           "assumes"
          ],
          [
           "assumed"
          ],
          [
           "includes"
          ],
          [
           "cradle"
          ],
          [
           "searching"
          ],
          [
           "drastic"
          ],
          [
           "include"
          ],
          [
           "japanese"
          ],
          [
           "category"
          ],
          [
           "regarded"
          ],
          [
           "identical"
          ],
          [
           "prevail"
          ],
          [
           "while"
          ],
          [
           "arms"
          ],
          [
           "abundant"
          ],
          [
           "imperatively"
          ],
          [
           "insists"
          ],
          [
           "discharge"
          ],
          [
           "discretion"
          ],
          [
           "overrun"
          ],
          [
           "mark"
          ],
          [
           "discreetly"
          ],
          [
           "contrary"
          ],
          [
           "exceeded"
          ],
          [
           "gist"
          ],
          [
           "guard"
          ],
          [
           "definite"
          ],
          [
           "meaning"
          ],
          [
           "actual"
          ],
          [
           "contact"
          ],
          [
           "baleful"
          ],
          [
           "influence"
          ],
          [
           "contagious"
          ],
          [
           "travelling"
          ],
          [
           "carriage"
          ],
          [
           "boat"
          ],
          [
           "anyone"
          ],
          [
           "securely"
          ],
          [
           "isolated"
          ],
          [
           "accidental"
          ],
          [
           "accumulation"
          ],
          [
           "got"
          ],
          [
           "air"
          ],
          [
           "epidemic"
          ],
          [
           "16"
          ],
          [
           "wording"
          ],
          [
           "distinctly"
          ],
          [
           "suspected"
          ],
          [
           "shews"
          ],
          [
           "none"
          ],
          [
           "categories"
          ],
          [
           "seized"
          ],
          [
           "carted"
          ],
          [
           "atom"
          ],
          [
           "valuable"
          ],
          [
           "painful"
          ],
          [
           "surprise"
          ],
          [
           "living"
          ],
          [
           "learn"
          ],
          [
           "strength"
          ],
          [
           "world"
          ],
          [
           "interprets"
          ],
          [
           "mean"
          ],
          [
           "duly"
          ],
          [
           "personally"
          ],
          [
           "mcnaughton"
          ],
          [
           "jones"
          ],
          [
           "able"
          ],
          [
           "experienced"
          ],
          [
           "house"
          ],
          [
           "shew"
          ],
          [
           "pleased"
          ],
          [
           "shewn"
          ],
          [
           "went"
          ],
          [
           "interest"
          ],
          [
           "advisable"
          ],
          [
           "inquire"
          ],
          [
           "everyone"
          ],
          [
           "expect"
          ],
          [
           "armed"
          ],
          [
           "extensive"
          ],
          [
           "confer"
          ],
          [
           "together"
          ],
          [
           "assist"
          ],
          [
           "work"
          ],
          [
           "good"
          ],
          [
           "safety"
          ],
          [
           "quick"
          ],
          [
           "properly"
          ],
          [
           "confers"
          ],
          [
           "emergency"
          ],
          [
           "subordinates"
          ],
          [
           "wherever"
          ],
          [
           "practicable"
          ],
          [
           "warrants"
          ],
          [
           "trust"
          ],
          [
           "hands"
          ],
          [
           "times"
          ],
          [
           "administered"
          ],
          [
           "firmness"
          ],
          [
           "fear"
          ],
          [
           "unwarranted"
          ],
          [
           "mind"
          ],
          [
           "carting"
          ],
          [
           "hail"
          ],
          [
           "warrant"
          ],
          [
           "caused"
          ],
          [
           "mee"
          ],
          [
           "wah"
          ],
          [
           "begbie"
          ],
          [
           "taration"
          ],
          [
           "fees"
          ],
          [
           "ejusdem"
          ],
          [
           "generis"
          ],
          [
           "extended"
          ],
          [
           "municipalities"
          ],
          [
           "licensing"
          ],
          [
           "regulating"
          ],
          [
           "wash"
          ],
          [
           "houses"
          ],
          [
           "laundries"
          ],
          [
           "11"
          ],
          [
           "hereafter"
          ],
          [
           "keeps"
          ],
          [
           "carries"
          ],
          [
           "washhouse"
          ],
          [
           "laundry"
          ],
          [
           "fixed"
          ],
          [
           "75"
          ],
          [
           "00"
          ],
          [
           "authorized"
          ],
          [
           "shop"
          ],
          [
           "tavern"
          ],
          [
           "saloon"
          ],
          [
           "auctioneer"
          ],
          [
           "licenses"
          ],
          [
           "industries"
          ],
          [
           "adopt"
          ],
          [
           "therein"
          ],
          [
           "mischief"
          ],
          [
           "aimed"
          ],
          [
           "abstract"
          ],
          [
           "bona"
          ],
          [
           "fide"
          ],
          [
           "real"
          ],
          [
           "discriminating"
          ],
          [
           "justification"
          ],
          [
           "enabling"
          ],
          [
           "corporation"
          ],
          [
           "based"
          ],
          [
           "amendment"
          ],
          [
           "yates"
          ],
          [
           "contra"
          ],
          [
           "recent"
          ],
          [
           "denied"
          ],
          [
           "viz"
          ],
          [
           "clause"
          ],
          [
           "expressed"
          ],
          [
           "corporations"
          ],
          [
           "adds"
          ],
          [
           "impugned"
          ],
          [
           "merely"
          ],
          [
           "private"
          ],
          [
           "application"
          ],
          [
           "90"
          ],
          [
           "113"
          ],
          [
           "123"
          ],
          [
           "137"
          ],
          [
           "provbegbie"
          ],
          [
           "ince"
          ],
          [
           "vary"
          ],
          [
           "1886"
          ],
          [
           "feb"
          ],
          [
           "authorizes"
          ],
          [
           "fall"
          ],
          [
           "municiregina"
          ],
          [
           "0"
          ],
          [
           "pal"
          ],
          [
           "emphasizes"
          ],
          [
           "quebec"
          ],
          [
           "assurance"
          ],
          [
           "company"
          ],
          [
           "1090"
          ],
          [
           "broadly"
          ],
          [
           "seems"
          ],
          [
           "valid"
          ],
          [
           "fairly"
          ],
          [
           "next"
          ],
          [
           "fatal"
          ],
          [
           "washing"
          ],
          [
           "industry"
          ],
          [
           "presently"
          ],
          [
           "unquesjudgment"
          ],
          [
           "tionably"
          ],
          [
           "buying"
          ],
          [
           "selling"
          ],
          [
           "perhaps"
          ],
          [
           "restrain"
          ],
          [
           "yet"
          ],
          [
           "instances"
          ],
          [
           "trades"
          ],
          [
           "undoubtedly"
          ],
          [
           "consequent"
          ],
          [
           "forbid"
          ],
          [
           "laundryman"
          ],
          [
           "remove"
          ],
          [
           "evade"
          ],
          [
           "setting"
          ],
          [
           "aside"
          ],
          [
           "broad"
          ],
          [
           "objections"
          ],
          [
           "suppression"
          ],
          [
           "total"
          ],
          [
           "partial"
          ],
          [
           "answer"
          ],
          [
           "four"
          ],
          [
           "permitting"
          ],
          [
           "whatever"
          ],
          [
           "text"
          ],
          [
           "writer"
          ],
          [
           "sir"
          ],
          [
           "maxwell"
          ],
          [
           "statutes"
          ],
          [
           "303"
          ],
          [
           "restraining"
          ],
          [
           "generality"
          ],
          [
           "actually"
          ],
          [
           "named"
          ],
          [
           "natures"
          ],
          [
           "phrase"
          ],
          [
           "articles"
          ],
          [
           "extend"
          ],
          [
           "citing"
          ],
          [
           "payne"
          ],
          [
           "convey"
          ],
          [
           "prisoner"
          ],
          [
           "facilitate"
          ],
          [
           "escape"
          ],
          [
           "mask"
          ],
          [
           "disguise"
          ],
          [
           "letter"
          ],
          [
           "article"
          ],
          [
           "crowbar"
          ],
          [
           "young"
          ],
          [
           "grattridge"
          ],
          [
           "166"
          ],
          [
           "slaughter"
          ],
          [
           "building"
          ],
          [
           "market"
          ],
          [
           "butcher"
          ],
          [
           "yard"
          ],
          [
           "slaughtered"
          ],
          [
           "edmundson"
          ],
          [
           "77"
          ],
          [
           "enunciated"
          ],
          [
           "alluded"
          ],
          [
           "deserves"
          ],
          [
           "approvingly"
          ],
          [
           "followed"
          ],
          [
           "judicial"
          ],
          [
           "submitted"
          ],
          [
           "doctrine"
          ],
          [
           "self"
          ],
          [
           "destructive"
          ],
          [
           "atmosphere"
          ],
          [
           "gas"
          ],
          [
           "dagger"
          ],
          [
           "poniard"
          ],
          [
           "weapon"
          ],
          [
           "confined"
          ],
          [
           "gases"
          ],
          [
           "oil"
          ],
          [
           "vinegar"
          ],
          [
           "fluids"
          ],
          [
           "judgments"
          ],
          [
           "annihilated"
          ],
          [
           "seem"
          ],
          [
           "instrument"
          ],
          [
           "gayne"
          ],
          [
           "crow"
          ],
          [
           "doubt"
          ],
          [
           "extremely"
          ],
          [
           "texture"
          ],
          [
           "weight"
          ],
          [
           "appearance"
          ],
          [
           "painter"
          ],
          [
           "chemist"
          ],
          [
           "instruments"
          ],
          [
           "preparing"
          ],
          [
           "unwholesome"
          ],
          [
           "food"
          ],
          [
           "watchmaker"
          ],
          [
           "tailor"
          ],
          [
           "shops"
          ],
          [
           "meat"
          ],
          [
           "probably"
          ],
          [
           "attribute"
          ],
          [
           "taxability"
          ],
          [
           "inference"
          ],
          [
           "wilson"
          ],
          [
           "36"
          ],
          [
           "u"
          ],
          [
           "183"
          ],
          [
           "approved"
          ],
          [
           "reginam"
          ],
          [
           "analogous"
          ],
          [
           "restaurants"
          ],
          [
           "lodging"
          ],
          [
           "distant"
          ],
          [
           "resemblance"
          ],
          [
           "taverns"
          ],
          [
           "coffee"
          ],
          [
           "saloons"
          ],
          [
           "utterly"
          ],
          [
           "distinct"
          ],
          [
           "teetotaler"
          ],
          [
           "coupled"
          ],
          [
           "insolvency"
          ],
          [
           "1875"
          ],
          [
           "brokers"
          ],
          [
           "auctioneers"
          ],
          [
           "construed"
          ],
          [
           "favour"
          ],
          [
           "suit"
          ],
          [
           "crown"
          ],
          [
           "offences"
          ],
          [
           "partakes"
          ],
          [
           "observed"
          ],
          [
           "quality"
          ],
          [
           "suppose"
          ],
          [
           "elsewhere"
          ],
          [
           "servants"
          ],
          [
           "hair"
          ],
          [
           "powder"
          ],
          [
           "armourial"
          ],
          [
           "bearings"
          ],
          [
           "subsection"
          ],
          [
           "insist"
          ],
          [
           "licensee"
          ],
          [
           "please"
          ],
          [
           "simple"
          ],
          [
           "excluding"
          ],
          [
           "limited"
          ],
          [
           "nationality"
          ],
          [
           "thousand"
          ],
          [
           "annum"
          ],
          [
           "wear"
          ],
          [
           "back"
          ],
          [
           "russians"
          ],
          [
           "beard"
          ],
          [
           "jews"
          ],
          [
           "eat"
          ],
          [
           "unleavened"
          ],
          [
           "bread"
          ],
          [
           "shave"
          ],
          [
           "moujik"
          ],
          [
           "chin"
          ],
          [
           "register"
          ],
          [
           "graduated"
          ],
          [
           "majority"
          ],
          [
           "probable"
          ],
          [
           "taxable"
          ],
          [
           "keeping"
          ],
          [
           "analogus"
          ],
          [
           "repudiate"
          ],
          [
           "similarity"
          ],
          [
           "washerman"
          ],
          [
           "perceive"
          ],
          [
           "advertisements"
          ],
          [
           "surveys"
          ],
          [
           "disposes"
          ],
          [
           "lots"
          ],
          [
           "advises"
          ],
          [
           "prices"
          ],
          [
           "agent"
          ],
          [
           "contract"
          ],
          [
           "feel"
          ],
          [
           "inclined"
          ],
          [
           "ground"
          ],
          [
           "serious"
          ],
          [
           "obstacle"
          ],
          [
           "supporting"
          ],
          [
           "subseetion"
          ],
          [
           "licences"
          ],
          [
           "repression"
          ],
          [
           "roundly"
          ],
          [
           "harjudgment"
          ],
          [
           "assing"
          ],
          [
           "supposed"
          ],
          [
           "considering"
          ],
          [
           "distinguish"
          ],
          [
           "results"
          ],
          [
           "often"
          ],
          [
           "entirely"
          ],
          [
           "collateral"
          ],
          [
           "greatly"
          ],
          [
           "harass"
          ],
          [
           "excise"
          ],
          [
           "acts"
          ],
          [
           "harassing"
          ],
          [
           "brewers"
          ],
          [
           "bring"
          ],
          [
           "treasury"
          ],
          [
           "validate"
          ],
          [
           "depend"
          ],
          [
           "dissembled"
          ],
          [
           "disadvantages"
          ],
          [
           "clearly"
          ],
          [
           "lung"
          ],
          [
           "reported"
          ],
          [
           "appx"
          ],
          [
           "conmission"
          ],
          [
           "379"
          ],
          [
           "pt"
          ],
          [
           "ii"
          ],
          [
           "150"
          ],
          [
           "fortifying"
          ],
          [
           "opinions"
          ],
          [
           "partly"
          ],
          [
           "differ"
          ],
          [
           "longer"
          ],
          [
           "topics"
          ],
          [
           "institutions"
          ],
          [
           "closely"
          ],
          [
           "contrasted"
          ],
          [
           "reasonings"
          ],
          [
           "equity"
          ],
          [
           "lee"
          ],
          [
           "rep"
          ],
          [
           "354"
          ],
          [
           "baker"
          ],
          [
           "portland"
          ],
          [
           "750"
          ],
          [
           "teburcio"
          ],
          [
           "coram"
          ],
          [
           "sawyer"
          ],
          [
           "hoffman"
          ],
          [
           "1880"
          ],
          [
           "quene"
          ],
          [
           "ordinance"
          ],
          [
           "1879"
          ],
          [
           "separate"
          ],
          [
           "pamphlet"
          ],
          [
           "justices"
          ],
          [
           "deady"
          ],
          [
           "cite"
          ],
          [
           "confirm"
          ],
          [
           "disabilities"
          ],
          [
           "burdens"
          ],
          [
           "labours"
          ],
          [
           "additional"
          ],
          [
           "infirmity"
          ],
          [
           "urged"
          ],
          [
           "condemned"
          ],
          [
           "renders"
          ],
          [
           "inapplicable"
          ],
          [
           "extending"
          ],
          [
           "enquire"
          ],
          [
           "conducted"
          ],
          [
           "hereby"
          ],
          [
           "selected"
          ],
          [
           "circumstance"
          ],
          [
           "coincidence"
          ],
          [
           "bylaw"
          ],
          [
           "100"
          ],
          [
           "procuring"
          ],
          [
           "hinted"
          ],
          [
           "forehead"
          ],
          [
           "treats"
          ],
          [
           "example"
          ],
          [
           "deserve"
          ],
          [
           "stern"
          ],
          [
           "reproof"
          ],
          [
           "uttered"
          ],
          [
           "creditable"
          ],
          [
           "humanity"
          ],
          [
           "civilization"
          ],
          [
           "christianity"
          ],
          [
           "sort"
          ],
          [
           "justly"
          ],
          [
           "operative"
          ],
          [
           "objectionable"
          ],
          [
           "stand"
          ],
          [
           "breathe"
          ],
          [
           "spirit"
          ],
          [
           "purest"
          ],
          [
           "philanthropy"
          ],
          [
           "submissive"
          ],
          [
           "save"
          ],
          [
           "seats"
          ],
          [
           "struck"
          ],
          [
           "blindness"
          ],
          [
           "forbidden"
          ],
          [
           "know"
          ],
          [
           "operates"
          ],
          [
           "sect"
          ],
          [
           "universally"
          ],
          [
           "conclude"
          ],
          [
           "intention"
          ],
          [
           "adopting"
          ],
          [
           "treat"
          ],
          [
           "anybody"
          ],
          [
           "conscientiously"
          ],
          [
           "my"
          ],
          [
           "conclusion"
          ],
          [
           "show"
          ],
          [
           "attained"
          ],
          [
           "wind"
          ],
          [
           "1634"
          ],
          [
           "cummings"
          ],
          [
           "missouri"
          ],
          [
           "wall"
          ],
          [
           "325"
          ],
          [
           "hold"
          ],
          [
           "framers"
          ],
          [
           "effected"
          ],
          [
           "hamper"
          ],
          [
           "strengthened"
          ],
          [
           "sanctioned"
          ],
          [
           "whereas"
          ],
          [
           "retail"
          ],
          [
           "lucrative"
          ],
          [
           "menial"
          ],
          [
           "poorly"
          ],
          [
           "permits"
          ],
          [
           "grocery"
          ],
          [
           "dry"
          ],
          [
           "store"
          ],
          [
           "believe"
          ],
          [
           "sole"
          ],
          [
           "main"
          ],
          [
           "aid"
          ],
          [
           "description"
          ],
          [
           "abandoned"
          ],
          [
           "rate"
          ],
          [
           "preliminary"
          ],
          [
           "incapable"
          ],
          [
           "formerly"
          ],
          [
           "enormously"
          ],
          [
           "disproportioned"
          ],
          [
           "consequence"
          ],
          [
           "shows"
          ],
          [
           "promoters"
          ],
          [
           "casting"
          ],
          [
           "about"
          ],
          [
           "remunerative"
          ],
          [
           "little"
          ],
          [
           "financial"
          ],
          [
           "ability"
          ],
          [
           "enrich"
          ],
          [
           "collected"
          ],
          [
           "magnitude"
          ],
          [
           "professed"
          ],
          [
           "concealed"
          ],
          [
           "lower"
          ],
          [
           "nationalities"
          ],
          [
           "busied"
          ],
          [
           "wholly"
          ],
          [
           "increased"
          ],
          [
           "commonest"
          ],
          [
           "reflection"
          ],
          [
           "endure"
          ],
          [
           "extinguish"
          ],
          [
           "imagine"
          ],
          [
           "reading"
          ],
          [
           "blind"
          ],
          [
           "legistature"
          ],
          [
           "authorize"
          ],
          [
           "driving"
          ],
          [
           "clanse"
          ],
          [
           "1883"
          ],
          [
           "admitted"
          ],
          [
           "accurate"
          ],
          [
           "stands"
          ],
          [
           "moderate"
          ],
          [
           "nullity"
          ],
          [
           "useful"
          ],
          [
           "conclusions"
          ],
          [
           "arrived"
          ],
          [
           "operate"
          ],
          [
           "ascertained"
          ],
          [
           "mainly"
          ],
          [
           "proportionate"
          ],
          [
           "conformity"
          ],
          [
           "moreover"
          ],
          [
           "produce"
          ],
          [
           "mock"
          ],
          [
           "porrer"
          ],
          [
           "municipality"
          ],
          [
           "deny"
          ],
          [
           "chance"
          ],
          [
           "parabroker"
          ],
          [
           "competent"
          ],
          [
           "deprive"
          ],
          [
           "capacity"
          ],
          [
           "pawnbroker"
          ],
          [
           "mandamus"
          ],
          [
           "renewal"
          ],
          [
           "prosecutors"
          ],
          [
           "fell"
          ],
          [
           "m"
          ],
          [
           "ordering"
          ],
          [
           "refusal"
          ],
          [
           "resolution"
          ],
          [
           "stating"
          ],
          [
           "fit"
          ],
          [
           "recipients"
          ],
          [
           "ordered"
          ],
          [
           "pawnbroking"
          ],
          [
           "eliminate"
          ],
          [
           "delegated"
          ],
          [
           "contentions"
          ],
          [
           "macguire"
          ],
          [
           "101"
          ],
          [
           "fong"
          ],
          [
           "myself"
          ],
          [
           "disregard"
          ],
          [
           "assume"
          ],
          [
           "exists"
          ],
          [
           "evidently"
          ],
          [
           "existed"
          ],
          [
           "pursue"
          ],
          [
           "avocation"
          ],
          [
           "gaining"
          ],
          [
           "livelihood"
          ],
          [
           "wide"
          ],
          [
           "totally"
          ],
          [
           "briefly"
          ],
          [
           "advised"
          ],
          [
           "permissive"
          ],
          [
           "adopted"
          ],
          [
           "1887"
          ],
          [
           "104"
          ],
          [
           "professions"
          ],
          [
           "pawnbrokers"
          ],
          [
           "amounts"
          ],
          [
           "stress"
          ],
          [
           "intimating"
          ],
          [
           "antecedent"
          ],
          [
           "proposing"
          ],
          [
           "trader"
          ],
          [
           "commence"
          ],
          [
           "112"
          ],
          [
           "imply"
          ],
          [
           "grant"
          ],
          [
           "refuse"
          ],
          [
           "prima"
          ],
          [
           "facie"
          ],
          [
           "calling"
          ],
          [
           "select"
          ],
          [
           "fitness"
          ],
          [
           "qualification"
          ],
          [
           "liquor"
          ],
          [
           "dealers"
          ],
          [
           "barristers"
          ],
          [
           "solicitors"
          ],
          [
           "tribunals"
          ],
          [
           "appointed"
          ],
          [
           "antecedently"
          ],
          [
           "arbitrarily"
          ],
          [
           "volunteer"
          ],
          [
           "unfitness"
          ],
          [
           "solicitor"
          ],
          [
           "absolute"
          ],
          [
           "choose"
          ],
          [
           "allege"
          ],
          [
           "half"
          ],
          [
           "dozen"
          ],
          [
           "tradesmen"
          ],
          [
           "monopoly"
          ],
          [
           "voting"
          ],
          [
           "competitor"
          ],
          [
           "unfit"
          ],
          [
           "attention"
          ],
          [
           "bestowed"
          ],
          [
           "industrial"
          ],
          [
           "told"
          ],
          [
           "your"
          ],
          [
           "ask"
          ],
          [
           "get"
          ],
          [
           "compulsory"
          ],
          [
           "effectuate"
          ],
          [
           "julius"
          ],
          [
           "bp"
          ],
          [
           "oxford"
          ],
          [
           "ca"
          ],
          [
           "214"
          ],
          [
           "undoubted"
          ],
          [
           "boast"
          ],
          [
           "fruits"
          ],
          [
           "seal"
          ],
          [
           "concerns"
          ],
          [
           "holder"
          ],
          [
           "affords"
          ],
          [
           "peculiar"
          ],
          [
           "concealment"
          ],
          [
           "stolen"
          ],
          [
           "criminals"
          ],
          [
           "particularly"
          ],
          [
           "essential"
          ],
          [
           "selection"
          ],
          [
           "attractive"
          ],
          [
           "needy"
          ],
          [
           "occasionally"
          ],
          [
           "usurious"
          ],
          [
           "evil"
          ],
          [
           "bakers"
          ],
          [
           "butchers"
          ],
          [
           "books"
          ],
          [
           "supervision"
          ],
          [
           "grocers"
          ],
          [
           "milk"
          ],
          [
           "traders"
          ],
          [
           "weights"
          ],
          [
           "adulteration"
          ],
          [
           "london"
          ],
          [
           "surpass"
          ],
          [
           "stipendiary"
          ],
          [
           "magistrates"
          ],
          [
           "assists"
          ],
          [
           "detection"
          ],
          [
           "defeats"
          ],
          [
           "ally"
          ],
          [
           "uninteresting"
          ],
          [
           "uniformity"
          ],
          [
           "events"
          ],
          [
           "jealousy"
          ],
          [
           "colony"
          ],
          [
           "cayenne"
          ],
          [
           "town"
          ],
          [
           "handicapped"
          ],
          [
           "capacities"
          ],
          [
           "extra"
          ],
          [
           "300"
          ],
          [
           "deeming"
          ],
          [
           "expedient"
          ],
          [
           "handicap"
          ],
          [
           "german"
          ],
          [
           "surtax"
          ],
          [
           "200"
          ],
          [
           "paris"
          ],
          [
           "impositions"
          ],
          [
           "null"
          ],
          [
           "referred"
          ],
          [
           "infringements"
          ],
          [
           "negation"
          ],
          [
           "ago"
          ],
          [
           "defendants"
          ],
          [
           "pay"
          ],
          [
           "quong"
          ],
          [
           "king"
          ],
          [
           "charles"
          ],
          [
           "fitzpatrick"
          ],
          [
           "davies"
          ],
          [
           "idington"
          ],
          [
           "duff"
          ],
          [
           "anglin"
          ],
          [
           "jj"
          ],
          [
           "february"
          ],
          [
           "1914"
          ],
          [
           "chapter"
          ],
          [
           "saskatchewan"
          ],
          [
           "1912"
          ],
          [
           "defence"
          ],
          [
           "contends"
          ],
          [
           "aim"
          ],
          [
           "reads"
          ],
          [
           "woman"
          ],
          [
           "girl"
          ],
          [
           "permit"
          ],
          [
           "lodge"
          ],
          [
           "customer"
          ],
          [
           "apartment"
          ],
          [
           "frequent"
          ],
          [
           "restaurant"
          ],
          [
           "amusement"
          ],
          [
           "owned"
          ],
          [
           "managed"
          ],
          [
           "contravention"
          ],
          [
           "violation"
          ],
          [
           "term"
          ],
          [
           "purports"
          ],
          [
           "resorts"
          ],
          [
           "independent"
          ],
          [
           "morals"
          ],
          [
           "women"
          ],
          [
           "girls"
          ],
          [
           "factory"
          ],
          [
           "fix"
          ],
          [
           "accommodation"
          ],
          [
           "workmen"
          ],
          [
           "conveni"
          ],
          [
           "ence"
          ],
          [
           "sexes"
          ],
          [
           "safeguard"
          ],
          [
           "bodily"
          ],
          [
           "workers"
          ],
          [
           "fail"
          ],
          [
           "understand"
          ],
          [
           "difference"
          ],
          [
           "making"
          ],
          [
           "disciplinary"
          ],
          [
           "disorders"
          ],
          [
           "sundays"
          ],
          [
           "connection"
          ],
          [
           "keepers"
          ],
          [
           "drinking"
          ],
          [
           "hours"
          ],
          [
           "why"
          ],
          [
           "civil"
          ],
          [
           "primarily"
          ],
          [
           "children"
          ],
          [
           "deprived"
          ],
          [
           "employees"
          ],
          [
           "factories"
          ],
          [
           "restrictions"
          ],
          [
           "employee"
          ],
          [
           "moral"
          ],
          [
           "welfare"
          ],
          [
           "canadians"
          ],
          [
           "resulting"
          ],
          [
           "dismiss"
          ],
          [
           "solely"
          ],
          [
           "seriously"
          ],
          [
           "watson"
          ],
          [
           "delivering"
          ],
          [
           "committee"
          ],
          [
           "colliery"
          ],
          [
           "bryden"
          ],
          [
           "1899"
          ],
          [
           "580"
          ],
          [
           "accepted"
          ],
          [
           "defining"
          ],
          [
           "assigned"
          ],
          [
           "item"
          ],
          [
           "difficulty"
          ],
          [
           "upholding"
          ],
          [
           "586"
          ],
          [
           "possibly"
          ],
          [
           "conferring"
          ],
          [
           "enacting"
          ],
          [
           "privileges"
          ],
          [
           "pertaining"
          ],
          [
           "precise"
          ],
          [
           "occurs"
          ],
          [
           "occurring"
          ],
          [
           "refers"
          ],
          [
           "meant"
          ],
          [
           "denote"
          ],
          [
           "adult"
          ],
          [
           "587"
          ],
          [
           "leading"
          ],
          [
           "feature"
          ],
          [
           "consists"
          ],
          [
           "establish"
          ],
          [
           "underground"
          ],
          [
           "coal"
          ],
          [
           "mines"
          ],
          [
           "virtue"
          ],
          [
           "invested"
          ],
          [
           "concern"
          ],
          [
           "pith"
          ],
          [
           "substance"
          ],
          [
           "statutory"
          ],
          [
           "prohibition"
          ],
          [
           "trench"
          ],
          [
           "cunningham"
          ],
          [
           "tomey"
          ],
          [
           "homma"
          ],
          [
           "1913"
          ],
          [
           "151"
          ],
          [
           "modified"
          ],
          [
           "views"
          ],
          [
           "pages"
          ],
          [
           "156"
          ],
          [
           "157"
          ],
          [
           "suggested"
          ],
          [
           "alienage"
          ],
          [
           "involve"
          ],
          [
           "absurdity"
          ],
          [
           "truth"
          ],
          [
           "reserves"
          ],
          [
           "constitute"
          ],
          [
           "allegiance"
          ],
          [
           "involved"
          ],
          [
           "attached"
          ],
          [
           "residence"
          ],
          [
           "explained"
          ],
          [
           "accepting"
          ],
          [
           "touch"
          ],
          [
           "relieved"
          ],
          [
           "harshly"
          ],
          [
           "modify"
          ],
          [
           "infringe"
          ],
          [
           "motives"
          ],
          [
           "controlled"
          ],
          [
           "prompted"
          ],
          [
           "defended"
          ],
          [
           "impeached"
          ],
          [
           "d"
          ],
          [
           "1903"
          ],
          [
           "devised"
          ],
          [
           "prohibited"
          ],
          [
           "earning"
          ],
          [
           "ensuring"
          ],
          [
           "collieries"
          ],
          [
           "guarantee"
          ],
          [
           "ensure"
          ],
          [
           "standpoint"
          ],
          [
           "upheld"
          ],
          [
           "prejudicially"
          ],
          [
           "racial"
          ],
          [
           "arise"
          ],
          [
           "mixed"
          ],
          [
           "blood"
          ],
          [
           "prosecuted"
          ],
          [
           "born"
          ],
          [
           "parents"
          ],
          [
           "offence"
          ],
          [
           "changed"
          ],
          [
           "ceased"
          ],
          [
           "accord"
          ],
          [
           "affiliation"
          ],
          [
           "owing"
          ],
          [
           "rulers"
          ],
          [
           "republic"
          ],
          [
           "status"
          ],
          [
           "ch"
          ],
          [
           "intituled"
          ],
          [
           "oriental"
          ],
          [
           "falls"
          ],
          [
           "plain"
          ],
          [
           "considerations"
          ],
          [
           "advert"
          ],
          [
           "cover"
          ],
          [
           "evident"
          ],
          [
           "curtail"
          ],
          [
           "pursuant"
          ],
          [
           "gravest"
          ],
          [
           "ever"
          ],
          [
           "holding"
          ],
          [
           "granted"
          ],
          [
           "previously"
          ],
          [
           "obtaining"
          ],
          [
           "pursuance"
          ],
          [
           "convention"
          ],
          [
           "rest"
          ],
          [
           "classification"
          ],
          [
           "obviously"
          ],
          [
           "shared"
          ],
          [
           "prized"
          ],
          [
           "gifts"
          ],
          [
           "opportunity"
          ],
          [
           "modes"
          ],
          [
           "thinking"
          ],
          [
           "thereto"
          ],
          [
           "whims"
          ],
          [
           "forfeited"
          ],
          [
           "causes"
          ],
          [
           "system"
          ],
          [
           "slavery"
          ],
          [
           "piece"
          ],
          [
           "begot"
          ],
          [
           "fiercely"
          ],
          [
           "claimed"
          ],
          [
           "laudable"
          ],
          [
           "implied"
          ],
          [
           "adverted"
          ],
          [
           "foregoing"
          ],
          [
           "desire"
          ],
          [
           "veto"
          ],
          [
           "preservation"
          ],
          [
           "arrest"
          ],
          [
           "vetoed"
          ],
          [
           "respecting"
          ],
          [
           "discharging"
          ],
          [
           "worth"
          ],
          [
           "intervene"
          ],
          [
           "overlooked"
          ],
          [
           "incline"
          ],
          [
           "covers"
          ],
          [
           "relied"
          ],
          [
           "determination"
          ],
          [
           "resolved"
          ],
          [
           "herein"
          ],
          [
           "gather"
          ],
          [
           "nearly"
          ],
          [
           "inquiry"
          ],
          [
           "eminent"
          ],
          [
           "comprehensive"
          ],
          [
           "vote"
          ],
          [
           "withhold"
          ],
          [
           "greatest"
          ],
          [
           "submit"
          ],
          [
           "existent"
          ],
          [
           "assignment"
          ],
          [
           "paramount"
          ],
          [
           "attributed"
          ],
          [
           "implication"
          ],
          [
           "maintainable"
          ],
          [
           "deeply"
          ],
          [
           "interested"
          ],
          [
           "colonization"
          ],
          [
           "waste"
          ],
          [
           "expecting"
          ],
          [
           "surely"
          ],
          [
           "future"
          ],
          [
           "invited"
          ],
          [
           "accept"
          ],
          [
           "guarantees"
          ],
          [
           "inducements"
          ],
          [
           "offered"
          ],
          [
           "forever"
          ],
          [
           "alter"
          ],
          [
           "native"
          ],
          [
           "excuse"
          ],
          [
           "going"
          ],
          [
           "suggest"
          ],
          [
           "execution"
          ],
          [
           "conventions"
          ],
          [
           "hesitate"
          ],
          [
           "thereon"
          ],
          [
           "categorically"
          ],
          [
           "statesmanlike"
          ],
          [
           "fashion"
          ],
          [
           "framing"
          ],
          [
           "qualifying"
          ],
          [
           "himself"
          ],
          [
           "shewing"
          ],
          [
           "fulfil"
          ],
          [
           "belongs"
          ],
          [
           "infer"
          ],
          [
           "certified"
          ],
          [
           "enjoying"
          ],
          [
           "conveyed"
          ],
          [
           "willingly"
          ],
          [
           "impute"
          ],
          [
           "violate"
          ],
          [
           "fellow"
          ],
          [
           "countrymen"
          ],
          [
           "promoted"
          ],
          [
           "interests"
          ],
          [
           "morality"
          ],
          [
           "strange"
          ],
          [
           "breach"
          ],
          [
           "faith"
          ],
          [
           "lies"
          ],
          [
           "root"
          ],
          [
           "bothering"
          ],
          [
           "relatively"
          ],
          [
           "few"
          ],
          [
           "cardinal"
          ],
          [
           "interpreting"
          ],
          [
           "documents"
          ],
          [
           "bowen"
          ],
          [
           "wandsworth"
          ],
          [
           "telephone"
          ],
          [
           "capable"
          ],
          [
           "constructions"
          ],
          [
           "wise"
          ],
          [
           "keating"
          ],
          [
           "boon"
          ],
          [
           "howard"
          ],
          [
           "1874"
          ],
          [
           "277"
          ],
          [
           "308"
          ],
          [
           "susceptible"
          ],
          [
           "unreasonable"
          ],
          [
           "hardcastle"
          ],
          [
           "174"
          ],
          [
           "et"
          ],
          [
           "seq"
          ],
          [
           "looked"
          ],
          [
           "constrained"
          ],
          [
           "deference"
          ],
          [
           "forward"
          ],
          [
           "reservation"
          ],
          [
           "usually"
          ],
          [
           "dissent"
          ],
          [
           "twenty"
          ],
          [
           "nine"
          ],
          [
           "forth"
          ],
          [
           "efficacy"
          ],
          [
           "infringed"
          ],
          [
           "restricted"
          ],
          [
           "possibility"
          ],
          [
           "asserts"
          ],
          [
           "therewith"
          ],
          [
           "priority"
          ],
          [
           "superiority"
          ],
          [
           "thoroughly"
          ],
          [
           "comprehended"
          ],
          [
           "sure"
          ],
          [
           "confusion"
          ],
          [
           "invites"
          ],
          [
           "induces"
          ],
          [
           "residual"
          ],
          [
           "maintenance"
          ],
          [
           "warehouse"
          ],
          [
           "receipts"
          ],
          [
           "banks"
          ],
          [
           "bank"
          ],
          [
           "resting"
          ],
          [
           "tennant"
          ],
          [
           "illustrates"
          ],
          [
           "unfounded"
          ],
          [
           "grand"
          ],
          [
           "trunk"
          ],
          [
           "1907"
          ],
          [
           "65"
          ],
          [
           "illustration"
          ],
          [
           "till"
          ],
          [
           "bend"
          ],
          [
           "assertion"
          ],
          [
           "intervened"
          ],
          [
           "reaching"
          ],
          [
           "presumed"
          ],
          [
           "ignore"
          ],
          [
           "need"
          ],
          [
           "assert"
          ],
          [
           "doubtful"
          ],
          [
           "attempt"
          ],
          [
           "classify"
          ],
          [
           "ambiguous"
          ],
          [
           "implies"
          ],
          [
           "bid"
          ],
          [
           "bye"
          ],
          [
           "assurances"
          ],
          [
           "instructed"
          ],
          [
           "exact"
          ],
          [
           "immaterial"
          ],
          [
           "conceive"
          ],
          [
           "rendering"
          ],
          [
           "leave"
          ],
          [
           "37"
          ],
          [
           "arises"
          ],
          [
           "code"
          ],
          [
           "mcnutt"
          ],
          [
           "47"
          ],
          [
           "259"
          ],
          [
           "834"
          ],
          [
           "cr"
          ],
          [
           "49"
          ],
          [
           "39"
          ],
          [
           "proceedings"
          ],
          [
           "punishment"
          ],
          [
           "exercising"
          ],
          [
           "unrestricted"
          ],
          [
           "classified"
          ],
          [
           "261"
          ],
          [
           "267"
          ],
          [
           "286"
          ],
          [
           "interpret"
          ],
          [
           "prohibitions"
          ],
          [
           "incompetent"
          ],
          [
           "gave"
          ],
          [
           "phrases"
          ],
          [
           "charge"
          ],
          [
           "narrow"
          ],
          [
           "indicated"
          ],
          [
           "keeper"
          ],
          [
           "moose"
          ],
          [
           "jaw"
          ],
          [
           "january"
          ],
          [
           "striking"
          ],
          [
           "italicized"
          ],
          [
           "thereby"
          ],
          [
           "substantial"
          ],
          [
           "assuming"
          ],
          [
           "plausibly"
          ],
          [
           "contended"
          ],
          [
           "undertakings"
          ],
          [
           "descriptive"
          ],
          [
           "unquestionably"
          ],
          [
           "influenced"
          ],
          [
           "minds"
          ],
          [
           "holders"
          ],
          [
           "association"
          ],
          [
           "1902"
          ],
          [
           "73"
          ],
          [
           "lead"
          ],
          [
           "ought"
          ],
          [
           "domain"
          ],
          [
           "precisely"
          ],
          [
           "footing"
          ],
          [
           "sustained"
          ],
          [
           "prescribing"
          ],
          [
           "observance"
          ],
          [
           "substantive"
          ],
          [
           "1896"
          ],
          [
           "348"
          ],
          [
           "established"
          ],
          [
           "suppress"
          ],
          [
           "simpliciter"
          ],
          [
           "maintaining"
          ],
          [
           "affording"
          ],
          [
           "favourable"
          ],
          [
           "milieu"
          ],
          [
           "disputed"
          ],
          [
           "truly"
          ],
          [
           "decisive"
          ],
          [
           "races"
          ],
          [
           "understanding"
          ],
          [
           "embrace"
          ],
          [
           "practical"
          ],
          [
           "figures"
          ],
          [
           "census"
          ],
          [
           "1911"
          ],
          [
           "western"
          ],
          [
           "700"
          ],
          [
           "classed"
          ],
          [
           "considerable"
          ],
          [
           "embraced"
          ],
          [
           "territorial"
          ],
          [
           "usual"
          ],
          [
           "suggesting"
          ],
          [
           "consistently"
          ],
          [
           "excluded"
          ],
          [
           "attack"
          ],
          [
           "orientals"
          ],
          [
           "affirm"
          ],
          [
           "establishes"
          ],
          [
           "comparable"
          ],
          [
           "lordship"
          ],
          [
           "warranted"
          ],
          [
           "establishment"
          ],
          [
           "created"
          ],
          [
           "convince"
          ],
          [
           "condition"
          ],
          [
           "establishments"
          ],
          [
           "designed"
          ],
          [
           "answering"
          ],
          [
           "singapore"
          ],
          [
           "vancouver"
          ],
          [
           "characteristics"
          ],
          [
           "1906"
          ],
          [
           "95"
          ],
          [
           "martin"
          ],
          [
           "428"
          ],
          [
           "illustrations"
          ],
          [
           "presence"
          ],
          [
           "sufficiently"
          ],
          [
           "indicate"
          ],
          [
           "lights"
          ],
          [
           "situation"
          ],
          [
           "sparsely"
          ],
          [
           "inhabited"
          ],
          [
           "comparatively"
          ],
          [
           "infrequently"
          ],
          [
           "raises"
          ],
          [
           "discussion"
          ],
          [
           "sometimes"
          ],
          [
           "acute"
          ],
          [
           "thickly"
          ],
          [
           "populated"
          ],
          [
           "excite"
          ],
          [
           "figure"
          ],
          [
           "touching"
          ],
          [
           "immigrant"
          ],
          [
           "european"
          ],
          [
           "europeans"
          ],
          [
           "administration"
          ],
          [
           "observation"
          ],
          [
           "refer"
          ],
          [
           "ruled"
          ],
          [
           "authoritative"
          ],
          [
           "pronounced"
          ],
          [
           "related"
          ],
          [
           "starting"
          ],
          [
           "controversy"
          ],
          [
           "proceeded"
          ],
          [
           "expounded"
          ],
          [
           "halsbury"
          ],
          [
           "hardly"
          ],
          [
           "stood"
          ],
          [
           "inconsistent"
          ],
          [
           "contradictory"
          ],
          [
           "passages"
          ],
          [
           "completely"
          ],
          [
           "answered"
          ],
          [
           "subsequent"
          ],
          [
           "depended"
          ],
          [
           "forgotten"
          ],
          [
           "macnaghten"
          ],
          [
           "lindley"
          ],
          [
           "constituting"
          ],
          [
           "heard"
          ],
          [
           "six"
          ],
          [
           "blake"
          ],
          [
           "examines"
          ],
          [
           "sums"
          ],
          [
           "believed"
          ],
          [
           "rejected"
          ],
          [
           "noted"
          ],
          [
           "correlative"
          ],
          [
           "argue"
          ],
          [
           "invasion"
          ],
          [
           "deprives"
          ],
          [
           "retain"
          ],
          [
           "agreed"
          ],
          [
           "dismissed"
          ],
          [
           "refused"
          ],
          [
           "lansdowne"
          ],
          [
           "grace"
          ],
          [
           "god"
          ],
          [
           "kingdom"
          ],
          [
           "ireland"
          ],
          [
           "defender"
          ],
          [
           "presents"
          ],
          [
           "greeting"
          ],
          [
           "session"
          ],
          [
           "motion"
          ],
          [
           "incoming"
          ],
          [
           "withdrawn"
          ],
          [
           "promise"
          ],
          [
           "honorable"
          ],
          [
           "premier"
          ],
          [
           "behalf"
          ],
          [
           "deem"
          ],
          [
           "connected"
          ],
          [
           "ye"
          ],
          [
           "advice"
          ],
          [
           "nominate"
          ],
          [
           "appoint"
          ],
          [
           "joseph"
          ],
          [
           "adolphe"
          ],
          [
           "chapleau"
          ],
          [
           "john"
          ],
          [
           "hamilton"
          ],
          [
           "commissioners"
          ],
          [
           "concerning"
          ],
          [
           "social"
          ],
          [
           "influx"
          ],
          [
           "thirty"
          ],
          [
           "reign"
          ],
          [
           "chaptered"
          ],
          [
           "eight"
          ],
          [
           "inquiries"
          ],
          [
           "summoning"
          ],
          [
           "witnesses"
          ],
          [
           "requiring"
          ],
          [
           "oath"
          ],
          [
           "orally"
          ],
          [
           "writing"
          ],
          [
           "solemn"
          ],
          [
           "affirmation"
          ],
          [
           "requisite"
          ],
          [
           "investigation"
          ],
          [
           "testimony"
          ],
          [
           "whereof"
          ],
          [
           "letters"
          ],
          [
           "patent"
          ],
          [
           "hereunto"
          ],
          [
           "trusty"
          ],
          [
           "beloved"
          ],
          [
           "cousin"
          ],
          [
           "henry"
          ],
          [
           "keith"
          ],
          [
           "petty"
          ],
          [
           "fitzmaurice"
          ],
          [
           "marquis"
          ],
          [
           "county"
          ],
          [
           "somerset"
          ],
          [
           "earl"
          ],
          [
           "wycombe"
          ],
          [
           "chipping"
          ],
          [
           "bucks"
          ],
          [
           "viscount"
          ],
          [
           "calne"
          ],
          [
           "calnstone"
          ],
          [
           "wilts"
          ],
          [
           "baron"
          ],
          [
           "peerage"
          ],
          [
           "kerry"
          ],
          [
           "shelburne"
          ],
          [
           "clanmaurice"
          ],
          [
           "lixnaw"
          ],
          [
           "dunkerron"
          ],
          [
           "knight"
          ],
          [
           "cross"
          ],
          [
           "distinguished"
          ],
          [
           "michael"
          ],
          [
           "vice"
          ],
          [
           "admiral"
          ],
          [
           "fourth"
          ],
          [
           "hundred"
          ],
          [
           "eighty"
          ],
          [
           "forty"
          ],
          [
           "eighth"
          ],
          [
           "command"
          ],
          [
           "resume"
          ],
          [
           "labor"
          ],
          [
           "efficient"
          ],
          [
           "development"
          ],
          [
           "wealth"
          ],
          [
           "navvy"
          ],
          [
           "start"
          ],
          [
           "ahead"
          ],
          [
           "added"
          ],
          [
           "incalculably"
          ],
          [
           "material"
          ],
          [
           "prosperity"
          ],
          [
           "attended"
          ],
          [
           "advantages"
          ],
          [
           "excellent"
          ],
          [
           "effects"
          ],
          [
           "likely"
          ],
          [
           "utilization"
          ],
          [
           "assimilable"
          ],
          [
           "marked"
          ],
          [
           "color"
          ],
          [
           "national"
          ],
          [
           "unattended"
          ],
          [
           "foremost"
          ],
          [
           "irritation"
          ],
          [
           "discontent"
          ],
          [
           "resentment"
          ],
          [
           "inspire"
          ],
          [
           "laborers"
          ],
          [
           "discussing"
          ],
          [
           "reasonableness"
          ],
          [
           "antipathy"
          ],
          [
           "problem"
          ],
          [
           "wages"
          ],
          [
           "sentiment"
          ],
          [
           "leads"
          ],
          [
           "humiliation"
          ],
          [
           "contempt"
          ],
          [
           "largely"
          ],
          [
           "engross"
          ],
          [
           "domestic"
          ],
          [
           "service"
          ],
          [
           "faithful"
          ],
          [
           "church"
          ],
          [
           "accustomed"
          ],
          [
           "companionship"
          ],
          [
           "domestics"
          ],
          [
           "supply"
          ],
          [
           "cities"
          ],
          [
           "compete"
          ],
          [
           "nevertheless"
          ],
          [
           "worthy"
          ],
          [
           "statements"
          ],
          [
           "bad"
          ],
          [
           "grossly"
          ],
          [
           "exaggerated"
          ],
          [
           "custom"
          ],
          [
           "quarters"
          ],
          [
           "chinatowns"
          ],
          [
           "evils"
          ],
          [
           "depreciation"
          ],
          [
           "crowded"
          ],
          [
           "accumulating"
          ],
          [
           "filth"
          ],
          [
           "offensive"
          ],
          [
           "breed"
          ],
          [
           "charities"
          ],
          [
           "swell"
          ],
          [
           "crime"
          ],
          [
           "quasi"
          ],
          [
           "amongst"
          ],
          [
           "guilds"
          ],
          [
           "arbitration"
          ],
          [
           "companies"
          ],
          [
           "arose"
          ],
          [
           "early"
          ],
          [
           "associations"
          ],
          [
           "enable"
          ],
          [
           "compradors"
          ],
          [
           "behave"
          ],
          [
           "independence"
          ],
          [
           "tyranny"
          ],
          [
           "peculation"
          ],
          [
           "complete"
          ],
          [
           "ignorance"
          ],
          [
           "invariably"
          ],
          [
           "combine"
          ],
          [
           "educated"
          ],
          [
           "leans"
          ],
          [
           "dependent"
          ],
          [
           "laboring"
          ],
          [
           "unfavorable"
          ],
          [
           "anti"
          ],
          [
           "mine"
          ],
          [
           "manufacturers"
          ],
          [
           "housekeepers"
          ],
          [
           "shopkeepers"
          ],
          [
           "best"
          ],
          [
           "friends"
          ],
          [
           "overwhelming"
          ],
          [
           "polled"
          ],
          [
           "assimilated"
          ],
          [
           "pause"
          ],
          [
           "choice"
          ],
          [
           "supplied"
          ],
          [
           "weak"
          ],
          [
           "household"
          ],
          [
           "sink"
          ],
          [
           "beneath"
          ],
          [
           "dispensing"
          ],
          [
           "congress"
          ],
          [
           "demands"
          ],
          [
           "leaders"
          ],
          [
           "movement"
          ],
          [
           "doubts"
          ],
          [
           "unfair"
          ],
          [
           "complain"
          ],
          [
           "illogical"
          ],
          [
           "professedly"
          ],
          [
           "stay"
          ],
          [
           "shut"
          ],
          [
           "comers"
          ],
          [
           "suffered"
          ],
          [
           "wageearners"
          ],
          [
           "claim"
          ],
          [
           "reversion"
          ],
          [
           "meddle"
          ],
          [
           "politics"
          ],
          [
           "intend"
          ],
          [
           "density"
          ],
          [
           "apprehend"
          ],
          [
           "settlements"
          ],
          [
           "increase"
          ],
          [
           "necessity"
          ],
          [
           "remark"
          ],
          [
           "climate"
          ],
          [
           "northern"
          ],
          [
           "cold"
          ],
          [
           "immigrants"
          ],
          [
           "seek"
          ],
          [
           "continent"
          ],
          [
           "continue"
          ],
          [
           "semi"
          ],
          [
           "tropical"
          ],
          [
           "borders"
          ],
          [
           "inundation"
          ],
          [
           "ill"
          ],
          [
           "desires"
          ],
          [
           "prostitutes"
          ],
          [
           "welcome"
          ],
          [
           "usefulness"
          ],
          [
           "disadvantage"
          ],
          [
           "credit"
          ],
          [
           "welcomed"
          ],
          [
           "desirable"
          ],
          [
           "speculative"
          ],
          [
           "welcoming"
          ],
          [
           "securing"
          ],
          [
           "cheaper"
          ],
          [
           "conciliating"
          ],
          [
           "fixing"
          ],
          [
           "vast"
          ],
          [
           "resources"
          ],
          [
           "inchoate"
          ],
          [
           "veil"
          ],
          [
           "completion"
          ],
          [
           "features"
          ],
          [
           "needs"
          ],
          [
           "railways"
          ],
          [
           "fruitgrowing"
          ],
          [
           "enormous"
          ],
          [
           "timber"
          ],
          [
           "fisheries"
          ],
          [
           "counterbalanced"
          ],
          [
           "vigorous"
          ],
          [
           "worked"
          ],
          [
           "scale"
          ],
          [
           "riches"
          ],
          [
           "swelled"
          ],
          [
           "fruit"
          ],
          [
           "coast"
          ],
          [
           "fish"
          ],
          [
           "markets"
          ],
          [
           "eastern"
          ],
          [
           "central"
          ],
          [
           "insignificant"
          ],
          [
           "grasp"
          ],
          [
           "positively"
          ],
          [
           "ratio"
          ],
          [
           "short"
          ],
          [
           "mathematical"
          ],
          [
           "literally"
          ],
          [
           "shoot"
          ],
          [
           "activity"
          ],
          [
           "achieved"
          ],
          [
           "herself"
          ],
          [
           "gardeners"
          ],
          [
           "equalled"
          ],
          [
           "skill"
          ],
          [
           "maximum"
          ],
          [
           "clever"
          ],
          [
           "management"
          ],
          [
           "horses"
          ],
          [
           "play"
          ],
          [
           "subordinate"
          ],
          [
           "dispensed"
          ],
          [
           "asiatic"
          ],
          [
           "garb"
          ],
          [
           "arm"
          ],
          [
           "school"
          ],
          [
           "hostility"
          ],
          [
           "disappear"
          ],
          [
           "bright"
          ],
          [
           "boys"
          ],
          [
           "assimilation"
          ],
          [
           "statesmen"
          ],
          [
           "wears"
          ],
          [
           "clothes"
          ],
          [
           "toilet"
          ],
          [
           "portuguese"
          ],
          [
           "italian"
          ],
          [
           "needed"
          ],
          [
           "wins"
          ],
          [
           "sympathy"
          ],
          [
           "actively"
          ],
          [
           "encouraged"
          ],
          [
           "adapts"
          ],
          [
           "settles"
          ],
          [
           "capital"
          ],
          [
           "type"
          ],
          [
           "san"
          ],
          [
           "francisco"
          ],
          [
           "improves"
          ],
          [
           "stimulated"
          ],
          [
           "persist"
          ],
          [
           "retaining"
          ],
          [
           "strikingly"
          ],
          [
           "shock"
          ],
          [
           "enterprises"
          ],
          [
           "probability"
          ],
          [
           "carefully"
          ],
          [
           "opportune"
          ],
          [
           "history"
          ],
          [
           "whenever"
          ],
          [
           "takes"
          ],
          [
           "avoid"
          ],
          [
           "difficulties"
          ],
          [
           "litigation"
          ],
          [
           "expense"
          ],
          [
           "cvi"
          ],
          [
           "cix"
          ],
          [
           "1882"
          ],
          [
           "hon"
          ],
          [
           "submits"
          ],
          [
           "answers"
          ],
          [
           "emigrants"
          ],
          [
           "lowest"
          ],
          [
           "coolies"
          ],
          [
           "sprinkling"
          ],
          [
           "mechanics"
          ],
          [
           "artisans"
          ],
          [
           "cry"
          ],
          [
           "disproved"
          ],
          [
           "doctors"
          ],
          [
           "poor"
          ],
          [
           "relief"
          ],
          [
           "benevolent"
          ],
          [
           "societies"
          ],
          [
           "sickness"
          ],
          [
           "society"
          ],
          [
           "sick"
          ],
          [
           "sent"
          ],
          [
           "hospitals"
          ],
          [
           "became"
          ],
          [
           "chargeable"
          ],
          [
           "charity"
          ],
          [
           "hospital"
          ],
          [
           "cared"
          ],
          [
           "aware"
          ],
          [
           "kat"
          ],
          [
           "exocheen"
          ],
          [
           "industrious"
          ],
          [
           "sober"
          ],
          [
           "economical"
          ],
          [
           "pattern"
          ],
          [
           "qualities"
          ],
          [
           "jealous"
          ],
          [
           "lazy"
          ],
          [
           "drunken"
          ],
          [
           "extravagant"
          ],
          [
           "turbulent"
          ],
          [
           "fancied"
          ],
          [
           "frauds"
          ],
          [
           "middlemen"
          ],
          [
           "foremen"
          ],
          [
           "resisted"
          ],
          [
           "violent"
          ],
          [
           "assaults"
          ],
          [
           "severely"
          ],
          [
           "punished"
          ],
          [
           "substratum"
          ],
          [
           "recruited"
          ],
          [
           "refractory"
          ],
          [
           "trouble"
          ],
          [
           "neighboring"
          ],
          [
           "crimes"
          ],
          [
           "violence"
          ],
          [
           "occasional"
          ],
          [
           "murders"
          ],
          [
           "occurred"
          ],
          [
           "secrecy"
          ],
          [
           "defied"
          ],
          [
           "investigations"
          ],
          [
           "failure"
          ],
          [
           "anglo"
          ],
          [
           "dictionary"
          ],
          [
           "grammar"
          ],
          [
           "committed"
          ],
          [
           "undiscovered"
          ],
          [
           "victims"
          ],
          [
           "executed"
          ],
          [
           "decrees"
          ],
          [
           "secret"
          ],
          [
           "vehm"
          ],
          [
           "gericht"
          ],
          [
           "centre"
          ],
          [
           "discover"
          ],
          [
           "tended"
          ],
          [
           "corroborate"
          ],
          [
           "punctual"
          ],
          [
           "shilling"
          ],
          [
           "laborious"
          ],
          [
           "degrees"
          ],
          [
           "ready"
          ],
          [
           "speculations"
          ],
          [
           "punctuality"
          ],
          [
           "meeting"
          ],
          [
           "contracts"
          ],
          [
           "continuously"
          ],
          [
           "namely"
          ],
          [
           "bankruptcy"
          ],
          [
           "insolvent"
          ],
          [
           "hour"
          ],
          [
           "monetary"
          ],
          [
           "accounted"
          ],
          [
           "scrupulously"
          ],
          [
           "honest"
          ],
          [
           "admirable"
          ],
          [
           "wants"
          ],
          [
           "coin"
          ],
          [
           "economies"
          ],
          [
           "inculcate"
          ],
          [
           "habit"
          ],
          [
           "frugality"
          ],
          [
           "competition"
          ],
          [
           "offer"
          ],
          [
           "felt"
          ],
          [
           "intolerable"
          ],
          [
           "settlers"
          ],
          [
           "attend"
          ],
          [
           "search"
          ],
          [
           "gold"
          ],
          [
           "bosses"
          ],
          [
           "masters"
          ],
          [
           "superintendents"
          ],
          [
           "office"
          ],
          [
           "opened"
          ],
          [
           "prohibitive"
          ],
          [
           "adventurous"
          ],
          [
           "pluck"
          ],
          [
           "family"
          ],
          [
           "miles"
          ],
          [
           "wilderness"
          ],
          [
           "manufactured"
          ],
          [
           "clothing"
          ],
          [
           "tools"
          ],
          [
           "machinery"
          ],
          [
           "exceedingly"
          ],
          [
           "dear"
          ],
          [
           "churches"
          ],
          [
           "gaols"
          ],
          [
           "erect"
          ],
          [
           "roads"
          ],
          [
           "forest"
          ],
          [
           "swamp"
          ],
          [
           "build"
          ],
          [
           "directions"
          ],
          [
           "ab"
          ],
          [
           "initio"
          ],
          [
           "savings"
          ],
          [
           "borrow"
          ],
          [
           "assistance"
          ],
          [
           "contributed"
          ],
          [
           "launch"
          ],
          [
           "infant"
          ],
          [
           "offspring"
          ],
          [
           "birth"
          ],
          [
           "record"
          ],
          [
           "proximity"
          ],
          [
           "flourishing"
          ],
          [
           "neighbor"
          ],
          [
           "staple"
          ],
          [
           "broke"
          ],
          [
           "breadstuffs"
          ],
          [
           "groceries"
          ],
          [
           "supplies"
          ],
          [
           "kinds"
          ],
          [
           "oregon"
          ],
          [
           "failed"
          ],
          [
           "expected"
          ],
          [
           "border"
          ],
          [
           "imaginary"
          ],
          [
           "line"
          ],
          [
           "indians"
          ],
          [
           "threatening"
          ],
          [
           "afterwards"
          ],
          [
           "restless"
          ],
          [
           "nomadic"
          ],
          [
           "propensities"
          ],
          [
           "prevented"
          ],
          [
           "settling"
          ],
          [
           "avocations"
          ],
          [
           "servile"
          ],
          [
           "chop"
          ],
          [
           "wood"
          ],
          [
           "water"
          ],
          [
           "dishes"
          ],
          [
           "pots"
          ],
          [
           "pans"
          ],
          [
           "cook"
          ],
          [
           "bake"
          ],
          [
           "sew"
          ],
          [
           "rear"
          ],
          [
           "families"
          ],
          [
           "onerous"
          ],
          [
           "multifarious"
          ],
          [
           "menage"
          ],
          [
           "strait"
          ],
          [
           "chartered"
          ],
          [
           "ships"
          ],
          [
           "round"
          ],
          [
           "horn"
          ],
          [
           "£30"
          ],
          [
           "gradual"
          ],
          [
           "repayment"
          ],
          [
           "colonial"
          ],
          [
           "rates"
          ],
          [
           "exceptions"
          ],
          [
           "rarely"
          ],
          [
           "kanakas"
          ],
          [
           "sandwich"
          ],
          [
           "islands"
          ],
          [
           "exhaustion"
          ],
          [
           "resource"
          ],
          [
           "reluctantly"
          ],
          [
           "unnatural"
          ],
          [
           "imported"
          ],
          [
           "saw"
          ],
          [
           "killing"
          ],
          [
           "sheer"
          ],
          [
           "eminently"
          ],
          [
           "unsatisfactory"
          ],
          [
           "scarceness"
          ],
          [
           "price"
          ],
          [
           "arrangements"
          ],
          [
           "cariboo"
          ],
          [
           "yielding"
          ],
          [
           "600"
          ],
          [
           "ounces"
          ],
          [
           "success"
          ],
          [
           "engaged"
          ],
          [
           "privations"
          ],
          [
           "wearying"
          ],
          [
           "monotony"
          ],
          [
           "exodus"
          ],
          [
           "wives"
          ],
          [
           "month"
          ],
          [
           "inferior"
          ],
          [
           "remembered"
          ],
          [
           "continuous"
          ],
          [
           "singular"
          ],
          [
           "facility"
          ],
          [
           "adapting"
          ],
          [
           "knowledge"
          ],
          [
           "gladly"
          ],
          [
           "attracted"
          ],
          [
           "east"
          ],
          [
           "ways"
          ],
          [
           "overworked"
          ],
          [
           "households"
          ],
          [
           "sorely"
          ],
          [
           "feeling"
          ],
          [
           "fears"
          ],
          [
           "entertained"
          ],
          [
           "commencement"
          ],
          [
           "utilized"
          ],
          [
           "bringing"
          ],
          [
           "heads"
          ],
          [
           "soil"
          ],
          [
           "earnings"
          ],
          [
           "spent"
          ],
          [
           "began"
          ],
          [
           "!"
          ],
          [
           "hope"
          ],
          [
           "realized"
          ],
          [
           "continental"
          ],
          [
           "simultaneously"
          ],
          [
           "rival"
          ],
          [
           "bidders"
          ],
          [
           "quantity"
          ],
          [
           "unattainable"
          ],
          [
           "absence"
          ],
          [
           "progressing"
          ],
          [
           "indefinitely"
          ],
          [
           "prolonged"
          ],
          [
           "postponed"
          ],
          [
           "greek"
          ],
          [
           "kalends"
          ],
          [
           "rise"
          ],
          [
           "desirous"
          ],
          [
           "posing"
          ],
          [
           "sweet"
          ],
          [
           "votes"
          ],
          [
           "gain"
          ],
          [
           "ins"
          ],
          [
           "outs"
          ],
          [
           "press"
          ],
          [
           "orations"
          ],
          [
           "misrepresentation"
          ],
          [
           "exaggerate"
          ],
          [
           "heathen"
          ],
          [
           "midst"
          ],
          [
           "distorted"
          ],
          [
           "proscription"
          ],
          [
           "bait"
          ],
          [
           "tend"
          ],
          [
           "urge"
          ],
          [
           "collectively"
          ],
          [
           "clamor"
          ],
          [
           "agitation"
          ],
          [
           "overbear"
          ],
          [
           "solid"
          ],
          [
           "break"
          ],
          [
           "injustice"
          ],
          [
           "persecution"
          ],
          [
           "admission"
          ],
          [
           "procure"
          ],
          [
           "win"
          ],
          [
           "worst"
          ],
          [
           "monopolies"
          ],
          [
           "withering"
          ],
          [
           "blight"
          ],
          [
           "manufactures"
          ],
          [
           "arts"
          ],
          [
           "improvements"
          ],
          [
           "speedily"
          ],
          [
           "languish"
          ],
          [
           "die"
          ],
          [
           "undeniable"
          ],
          [
           "retarded"
          ],
          [
           "cui"
          ],
          [
           "bono"
          ],
          [
           "injurious"
          ],
          [
           "peace"
          ],
          [
           "swarming"
          ],
          [
           "congregate"
          ],
          [
           "cooped"
          ],
          [
           "disesteem"
          ],
          [
           "active"
          ],
          [
           "cling"
          ],
          [
           "overcrowding"
          ],
          [
           "attributable"
          ],
          [
           "extort"
          ],
          [
           "heavy"
          ],
          [
           "rents"
          ],
          [
           "scant"
          ],
          [
           "accentuate"
          ],
          [
           "profess"
          ],
          [
           "profound"
          ],
          [
           "dislike"
          ],
          [
           "immorality"
          ],
          [
           "prostitution"
          ],
          [
           "dens"
          ],
          [
           "gambling"
          ],
          [
           "accusations"
          ],
          [
           "low"
          ],
          [
           "readily"
          ],
          [
           "vicious"
          ],
          [
           "comparison"
          ],
          [
           "parade"
          ],
          [
           "vices"
          ],
          [
           "prominent"
          ],
          [
           "brass"
          ],
          [
           "plates"
          ],
          [
           "ply"
          ],
          [
           "publicity"
          ],
          [
           "open"
          ],
          [
           "carriages"
          ],
          [
           "flaunt"
          ],
          [
           "courses"
          ],
          [
           "assemblages"
          ],
          [
           "advertise"
          ],
          [
           "debts"
          ],
          [
           "due"
          ],
          [
           "medium"
          ],
          [
           "suppressed"
          ],
          [
           "whiskey"
          ],
          [
           "canoe"
          ],
          [
           "load"
          ],
          [
           "wholesale"
          ],
          [
           "determinedly"
          ],
          [
           "manifest"
          ],
          [
           "exaggeration"
          ],
          [
           "complaints"
          ],
          [
           "lessen"
          ],
          [
           "impartial"
          ],
          [
           "eyes"
          ],
          [
           "cleanly"
          ],
          [
           "worse"
          ],
          [
           "engineers"
          ],
          [
           "cuttings"
          ],
          [
           "abominations"
          ],
          [
           "abound"
          ],
          [
           "mainland"
          ],
          [
           "forget"
          ],
          [
           "disgusting"
          ],
          [
           "sights"
          ],
          [
           "met"
          ],
          [
           "furious"
          ],
          [
           "streets"
          ],
          [
           "corners"
          ],
          [
           "alike"
          ],
          [
           "fights"
          ],
          [
           "uproar"
          ],
          [
           "hideous"
          ],
          [
           "besotted"
          ],
          [
           "kicked"
          ],
          [
           "prostrate"
          ],
          [
           "morning"
          ],
          [
           "sleeping"
          ],
          [
           "debauch"
          ],
          [
           "stagger"
          ],
          [
           "engage"
          ],
          [
           "fain"
          ],
          [
           "pen"
          ],
          [
           "blushes"
          ],
          [
           "write"
          ],
          [
           "event"
          ],
          [
           "developed"
          ],
          [
           "progressed"
          ],
          [
           "procurable"
          ],
          [
           "suddenly"
          ],
          [
           "hence"
          ],
          [
           "compulsorily"
          ],
          [
           "peter"
          ],
          [
           "construct"
          ],
          [
           "canneries"
          ],
          [
           "instantly"
          ],
          [
           "stopped"
          ],
          [
           "shoe"
          ],
          [
           "manufactories"
          ],
          [
           "farmers"
          ],
          [
           "injuriously"
          ],
          [
           "sudden"
          ],
          [
           "misery"
          ],
          [
           "80"
          ],
          [
           "gone"
          ],
          [
           "inconceivable"
          ],
          [
           "perfectly"
          ],
          [
           "appalling"
          ],
          [
           "wail"
          ],
          [
           "housewife"
          ],
          [
           "sweep"
          ],
          [
           "husband"
          ],
          [
           "polls"
          ],
          [
           "flattering"
          ],
          [
           "laborer"
          ],
          [
           "unreality"
          ],
          [
           "strikes"
          ],
          [
           "advocates"
          ],
          [
           "fuss"
          ],
          [
           "tempted"
          ],
          [
           "opine"
          ],
          [
           "likelihood"
          ],
          [
           "strike"
          ],
          [
           "resisting"
          ],
          [
           "intentionally"
          ],
          [
           "fresh"
          ],
          [
           "recollection"
          ],
          [
           "voices"
          ],
          [
           "hotels"
          ],
          [
           "boarding"
          ],
          [
           "inadequate"
          ],
          [
           "grow"
          ],
          [
           "vegetables"
          ],
          [
           "extortionate"
          ],
          [
           "progress"
          ],
          [
           "check"
          ],
          [
           "suffering"
          ],
          [
           "recover"
          ],
          [
           "ruined"
          ],
          [
           "cheap"
          ],
          [
           "yes"
          ],
          [
           "manual"
          ],
          [
           "recognized"
          ],
          [
           "contented"
          ],
          [
           "infallibly"
          ],
          [
           "mistake"
          ],
          [
           "wishes"
          ],
          [
           "steady"
          ],
          [
           "exhibit"
          ],
          [
           "share"
          ],
          [
           "along"
          ],
          [
           "handicraftsmen"
          ],
          [
           "tolerable"
          ],
          [
           "imitate"
          ],
          [
           "quickly"
          ],
          [
           "voila"
          ],
          [
           "tout"
          ],
          [
           "assimilate"
          ],
          [
           "saxon"
          ],
          [
           "duration"
          ],
          [
           "amounting"
          ],
          [
           "lasts"
          ],
          [
           "estimate"
          ],
          [
           "send"
          ],
          [
           "bones"
          ],
          [
           "buried"
          ],
          [
           "impossibility"
          ],
          [
           "approximate"
          ],
          [
           "comfort"
          ],
          [
           "columbiah"
          ],
          [
           "columbians"
          ],
          [
           "obliged"
          ],
          [
           "skip"
          ],
          [
           "boundary"
          ],
          [
           "newly"
          ],
          [
           "volume"
          ],
          [
           "swift"
          ],
          [
           "quesnelle"
          ],
          [
           "thompson"
          ],
          [
           "lillctt"
          ],
          [
           "rivers"
          ],
          [
           "affluents"
          ],
          [
           "depth"
          ],
          [
           "fraser"
          ],
          [
           "took"
          ],
          [
           "gained"
          ],
          [
           "thrown"
          ],
          [
           "counting"
          ],
          [
           "average"
          ],
          [
           "consisting"
          ],
          [
           "cent"
          ],
          [
           "comforts"
          ],
          [
           "luxuries"
          ],
          [
           "wish"
          ],
          [
           "drew"
          ],
          [
           "hither"
          ],
          [
           "concluded"
          ],
          [
           "progressive"
          ],
          [
           "aspire"
          ],
          [
           "remote"
          ],
          [
           "miscegenation"
          ],
          [
           "patriotism"
          ],
          [
           "remarkable"
          ],
          [
           "economy"
          ],
          [
           "swear"
          ],
          [
           "blank"
          ],
          [
           "reverse"
          ],
          [
           "contradicting"
          ],
          [
           "allegation"
          ],
          [
           "conscience"
          ],
          [
           "prevents"
          ],
          [
           "sift"
          ],
          [
           "witnesess"
          ],
          [
           "opposite"
          ],
          [
           "combined"
          ],
          [
           "effort"
          ],
          [
           "desired"
          ],
          [
           "combination"
          ],
          [
           "unlimited"
          ],
          [
           "alongside"
          ],
          [
           "succeed"
          ],
          [
           "appreciable"
          ],
          [
           "furnished"
          ],
          [
           "effectual"
          ],
          [
           "boss"
          ],
          [
           "termed"
          ],
          [
           "choppers"
          ],
          [
           "lose"
          ],
          [
           "axe"
          ],
          [
           "handicraft"
          ],
          [
           "regular"
          ],
          [
           "blaster"
          ],
          [
           "art"
          ],
          [
           "rich"
          ],
          [
           "homestead"
          ],
          [
           "farmer"
          ],
          [
           "looking"
          ],
          [
           "plenty"
          ],
          [
           "wait"
          ],
          [
           "anywhere"
          ],
          [
           "sobriety"
          ],
          [
           "honesty"
          ],
          [
           "opportunities"
          ],
          [
           "unrivalled"
          ],
          [
           "succession"
          ],
          [
           "seasons"
          ],
          [
           "paradise"
          ],
          [
           "opening"
          ],
          [
           "presume"
          ],
          [
           "enquiries"
          ],
          [
           "survey"
          ],
          [
           "precede"
          ],
          [
           "overtake"
          ],
          [
           "intending"
          ],
          [
           "stride"
          ],
          [
           "preparation"
          ],
          [
           "prepared"
          ],
          [
           "erroneous"
          ],
          [
           "agricultural"
          ],
          [
           "capabilities"
          ],
          [
           "incapabilities"
          ],
          [
           "compared"
          ],
          [
           "level"
          ],
          [
           "arable"
          ],
          [
           "plains"
          ],
          [
           "interior"
          ],
          [
           "millions"
          ],
          [
           "persuaded"
          ],
          [
           "assisted"
          ],
          [
           "retired"
          ],
          [
           "incomes"
          ],
          [
           "indifferent"
          ],
          [
           "beneficial"
          ],
          [
           "heathens"
          ],
          [
           "christians"
          ],
          [
           "allied"
          ],
          [
           "immoral"
          ],
          [
           "intelligent"
          ],
          [
           "depravity"
          ],
          [
           "communicating"
          ],
          [
           "virus"
          ],
          [
           "wickedness"
          ],
          [
           "spread"
          ],
          [
           "various"
          ],
          [
           "alluring"
          ],
          [
           "forms"
          ],
          [
           "youths"
          ],
          [
           "inoculated"
          ],
          [
           "insidious"
          ],
          [
           "permanently"
          ],
          [
           "hears"
          ],
          [
           "illnesses"
          ],
          [
           "wasting"
          ],
          [
           "death"
          ],
          [
           "aspect"
          ],
          [
           "diplomatic"
          ],
          [
           "negotiation"
          ],
          [
           "pioneer"
          ],
          [
           "deprecate"
          ],
          [
           "step"
          ],
          [
           "disastrous"
          ],
          [
           "await"
          ],
          [
           "conceal"
          ],
          [
           "pellew"
          ],
          [
           "matthew"
          ],
          [
           "earn"
          ],
          [
           "larger"
          ],
          [
           "pick"
          ],
          [
           "shovel"
          ],
          [
           "road"
          ],
          [
           "bars"
          ],
          [
           "rockers"
          ],
          [
           "flumes"
          ],
          [
           "nanaimo"
          ],
          [
           "below"
          ],
          [
           "undertake"
          ],
          [
           "gardening"
          ],
          [
           "farms"
          ],
          [
           "scarcely"
          ],
          [
           "supplying"
          ],
          [
           "firms"
          ],
          [
           "respectable"
          ],
          [
           "businesses"
          ],
          [
           "splitting"
          ],
          [
           "washer"
          ],
          [
           "sawing"
          ],
          [
           "stovewood"
          ],
          [
           "engrossed"
          ],
          [
           "shoes"
          ],
          [
           "cigars"
          ],
          [
           "carpenters"
          ],
          [
           "mixers"
          ],
          [
           "mortar"
          ],
          [
           "hodmen"
          ],
          [
           "wheel"
          ],
          [
           "barrowmen"
          ],
          [
           "masons"
          ],
          [
           "brick"
          ],
          [
           "layers"
          ],
          [
           "anxious"
          ],
          [
           "sorry"
          ],
          [
           "asylum"
          ],
          [
           "becoming"
          ],
          [
           "indistinct"
          ],
          [
           "remembrance"
          ],
          [
           "cost"
          ],
          [
           "removing"
          ],
          [
           "disabled"
          ],
          [
           "rare"
          ],
          [
           "relieve"
          ],
          [
           "abidingness"
          ],
          [
           "exactly"
          ],
          [
           "adversaries"
          ],
          [
           "foes"
          ],
          [
           "unpopularity"
          ],
          [
           "drunk"
          ],
          [
           "formidable"
          ],
          [
           "competitors"
          ],
          [
           "liked"
          ],
          [
           "deserts"
          ],
          [
           "hated"
          ],
          [
           "hatred"
          ],
          [
           "nobody"
          ],
          [
           "sees"
          ],
          [
           "abdicate"
          ],
          [
           "stigmatized"
          ],
          [
           "conceived"
          ],
          [
           "insulted"
          ],
          [
           "sulking"
          ],
          [
           "ending"
          ],
          [
           "ceaseless"
          ],
          [
           "toil"
          ],
          [
           "ant"
          ],
          [
           "hill"
          ],
          [
           "recall"
          ],
          [
           "memory"
          ],
          [
           "inside"
          ],
          [
           "chicken"
          ],
          [
           "silk"
          ],
          [
           "jacket"
          ],
          [
           "debt"
          ],
          [
           "epithet"
          ],
          [
           "notion"
          ],
          [
           "provoked"
          ],
          [
           "resist"
          ],
          [
           "thefts"
          ],
          [
           "accompanied"
          ],
          [
           "threats"
          ],
          [
           "conjectured"
          ],
          [
           "steal"
          ],
          [
           "brotherhoods"
          ],
          [
           "impenetrably"
          ],
          [
           "unguarded"
          ],
          [
           "pilfering"
          ],
          [
           "inconsiderable"
          ],
          [
           "pilfered"
          ],
          [
           "stole"
          ],
          [
           "notoriously"
          ],
          [
           "tenants"
          ],
          [
           "rent"
          ],
          [
           "punctually"
          ],
          [
           "wealthy"
          ],
          [
           "busy"
          ],
          [
           "consignments"
          ],
          [
           "stayed"
          ],
          [
           "satisfactory"
          ],
          [
           "picks"
          ],
          [
           "shovels"
          ],
          [
           "recollect"
          ],
          [
           "unpopular"
          ],
          [
           "californian"
          ],
          [
           "prejudices"
          ],
          [
           "likings"
          ],
          [
           "dislikings"
          ],
          [
           "cassiar"
          ],
          [
           "districts"
          ],
          [
           "guaranteed"
          ],
          [
           "loom"
          ],
          [
           "weavers"
          ],
          [
           "looms"
          ],
          [
           "flail"
          ],
          [
           "wielders"
          ],
          [
           "threshing"
          ],
          [
           "machines"
          ],
          [
           "fifty"
          ],
          [
           "solway"
          ],
          [
           "fishermen"
          ],
          [
           "stake"
          ],
          [
           "nets"
          ],
          [
           "century"
          ],
          [
           "pennsylvania"
          ],
          [
           "machineborers"
          ],
          [
           "impulsive"
          ],
          [
           "brings"
          ],
          [
           "indo"
          ],
          [
           "caucasian"
          ],
          [
           "mongolians"
          ],
          [
           "lie"
          ],
          [
           "dormant"
          ],
          [
           "inert"
          ],
          [
           "mutual"
          ],
          [
           "manifested"
          ],
          [
           "extensively"
          ],
          [
           "stringently"
          ],
          [
           "impulse"
          ],
          [
           "canton"
          ],
          [
           "shanghai"
          ],
          [
           "safe"
          ],
          [
           "allotted"
          ],
          [
           "cantonments"
          ],
          [
           "williams"
          ],
          [
           "creek"
          ],
          [
           "religion"
          ],
          [
           "notions"
          ],
          [
           "honor"
          ],
          [
           "rank"
          ],
          [
           "dress"
          ],
          [
           "amusements"
          ],
          [
           "beauty"
          ],
          [
           "taste"
          ],
          [
           "incomprehensible"
          ],
          [
           "ridiculous"
          ],
          [
           "despise"
          ],
          [
           "attainments"
          ],
          [
           "beat"
          ],
          [
           "muscle"
          ],
          [
           "steadily"
          ],
          [
           "speaking"
          ],
          [
           "judenhetze"
          ],
          [
           "expresses"
          ],
          [
           "ancient"
          ],
          [
           "russia"
          ],
          [
           "germany"
          ],
          [
           "roumania"
          ],
          [
           "intuitive"
          ],
          [
           "mingled"
          ],
          [
           "roumanian"
          ],
          [
           "feelings"
          ],
          [
           "traditions"
          ],
          [
           "ties"
          ],
          [
           "fatherland"
          ],
          [
           "intermarry"
          ],
          [
           "kindred"
          ],
          [
           "unknown"
          ],
          [
           "unintelligible"
          ],
          [
           "historical"
          ],
          [
           "professor"
          ],
          [
           "von"
          ],
          [
           "treitschke"
          ],
          [
           "christian"
          ],
          [
           "preacher"
          ],
          [
           "stoeker"
          ],
          [
           "widespread"
          ],
          [
           "bidding"
          ],
          [
           "attempted"
          ],
          [
           "barbarous"
          ],
          [
           "brute"
          ],
          [
           "fire"
          ],
          [
           "bludgeons"
          ],
          [
           "organization"
          ],
          [
           "tranquil"
          ],
          [
           "methods"
          ],
          [
           "regrettable"
          ],
          [
           "pursued"
          ],
          [
           "ostensible"
          ],
          [
           "actuated"
          ],
          [
           "accessible"
          ],
          [
           "bribery"
          ],
          [
           "voter"
          ],
          [
           "aken"
          ],
          [
           "sworn"
          ],
          [
           "kootenay"
          ],
          [
           "voters"
          ],
          [
           "election"
          ],
          [
           "contradiction"
          ],
          [
           "disfranchisement"
          ],
          [
           "logically"
          ],
          [
           "constituencies"
          ],
          [
           "bound"
          ],
          [
           "constituents"
          ],
          [
           "existendi"
          ],
          [
           "ministry"
          ],
          [
           "path"
          ],
          [
           "managing"
          ],
          [
           "programmes"
          ],
          [
           "presidential"
          ],
          [
           "campaign"
          ],
          [
           "irish"
          ],
          [
           "republican"
          ],
          [
           "wooed"
          ],
          [
           "successfully"
          ],
          [
           "attacks"
          ],
          [
           "bloated"
          ],
          [
           "capitalist"
          ],
          [
           "treachery"
          ],
          [
           "unfortunate"
          ],
          [
           "mutato"
          ],
          [
           "nomine"
          ],
          [
           "names"
          ],
          [
           "human"
          ],
          [
           "remains"
          ],
          [
           "celt"
          ],
          [
           "slave"
          ],
          [
           "semite"
          ],
          [
           "extraordinarily"
          ],
          [
           "space"
          ],
          [
           "cluster"
          ],
          [
           "retire"
          ],
          [
           "platform"
          ],
          [
           "litter"
          ],
          [
           "puppies"
          ],
          [
           "hire"
          ],
          [
           "cubic"
          ],
          [
           "feet"
          ],
          [
           "inmate"
          ],
          [
           "sized"
          ],
          [
           "bunk"
          ],
          [
           "lodgers"
          ],
          [
           "heap"
          ],
          [
           "unfavorably"
          ],
          [
           "infested"
          ],
          [
           "pure"
          ],
          [
           "imagination"
          ],
          [
           "orator"
          ],
          [
           "talks"
          ],
          [
           "lepers"
          ],
          [
           "unmeaning"
          ],
          [
           "abuse"
          ],
          [
           "periodical"
          ],
          [
           "holds"
          ],
          [
           "indignation"
          ],
          [
           "red"
          ],
          [
           "devils"
          ],
          [
           "diabolism"
          ],
          [
           "leper"
          ],
          [
           "impress"
          ],
          [
           "audience"
          ],
          [
           "belief"
          ],
          [
           "keep"
          ],
          [
           "servant"
          ],
          [
           "glasses"
          ],
          [
           "plate"
          ],
          [
           "waits"
          ],
          [
           "table"
          ],
          [
           "kneads"
          ],
          [
           "pastry"
          ],
          [
           "eats"
          ],
          [
           "beds"
          ],
          [
           "sleep"
          ],
          [
           "skin"
          ],
          [
           "manifestations"
          ],
          [
           "seemed"
          ],
          [
           "shocking"
          ],
          [
           "shipped"
          ],
          [
           "remember"
          ],
          [
           "noticed"
          ],
          [
           "hereditary"
          ],
          [
           "taint"
          ],
          [
           "breeds"
          ],
          [
           "contracted"
          ],
          [
           "inordinately"
          ],
          [
           "eaten"
          ],
          [
           "smoked"
          ],
          [
           "disbelieve"
          ],
          [
           "tribes"
          ],
          [
           "savages"
          ],
          [
           "sedatives"
          ],
          [
           "narcotics"
          ],
          [
           "poppy"
          ],
          [
           "crop"
          ],
          [
           "exported"
          ],
          [
           "consumption"
          ],
          [
           "prolific"
          ],
          [
           "indefatigable"
          ],
          [
           "keenest"
          ],
          [
           "drug"
          ],
          [
           "indulgence"
          ],
          [
           "hide"
          ],
          [
           "escaped"
          ],
          [
           "persuades"
          ],
          [
           "ignorant"
          ],
          [
           "degraded"
          ],
          [
           "weaker"
          ],
          [
           "expulsion"
          ],
          [
           "demanded"
          ],
          [
           "harmless"
          ],
          [
           "tobacco"
          ],
          [
           "consume"
          ],
          [
           "insinuating"
          ],
          [
           "intoxication"
          ],
          [
           "lessens"
          ],
          [
           "criminality"
          ],
          [
           "deliberately"
          ],
          [
           "evince"
          ],
          [
           "deeper"
          ],
          [
           "hue"
          ],
          [
           "guilt"
          ],
          [
           "drunkenness"
          ],
          [
           "senses"
          ],
          [
           "injured"
          ],
          [
           "arising"
          ],
          [
           "damage"
          ],
          [
           "occasioned"
          ],
          [
           "mote"
          ],
          [
           "beam"
          ],
          [
           "aggregation"
          ],
          [
           "filthy"
          ],
          [
           "dirty"
          ],
          [
           "unanimously"
          ],
          [
           "virtual"
          ],
          [
           "cleanliness"
          ],
          [
           "cooking"
          ],
          [
           "admit"
          ],
          [
           "offers"
          ],
          [
           "dishonest"
          ],
          [
           "colombia"
          ],
          [
           "fourths"
          ],
          [
           "salmon"
          ],
          [
           "cannery"
          ],
          [
           "model"
          ],
          [
           "grown"
          ],
          [
           "indispensable"
          ],
          [
           "6th"
          ],
          [
           "manufactory"
          ],
          [
           "undertaking"
          ],
          [
           "elected"
          ],
          [
           "expelled"
          ],
          [
           "closed"
          ],
          [
           "repairs"
          ],
          [
           "suspended"
          ],
          [
           "remained"
          ],
          [
           "uncomfortable"
          ],
          [
           "uncertain"
          ],
          [
           "retained"
          ],
          [
           "banish"
          ],
          [
           "million"
          ],
          [
           "devour"
          ],
          [
           "subsistence"
          ],
          [
           "120"
          ],
          [
           "performed"
          ],
          [
           "vineyards"
          ],
          [
           "hop"
          ],
          [
           "weekly"
          ],
          [
           "bulletin"
          ],
          [
           "10th"
          ],
          [
           "ultimately"
          ],
          [
           "radius"
          ],
          [
           "gathering"
          ],
          [
           "yield"
          ],
          [
           "hops"
          ],
          [
           "interesting"
          ],
          [
           "sight"
          ],
          [
           "watch"
          ],
          [
           "picking"
          ],
          [
           "drying"
          ],
          [
           "acres"
          ],
          [
           "boxes"
          ],
          [
           "140"
          ],
          [
           "pounds"
          ],
          [
           "green"
          ],
          [
           "poles"
          ],
          [
           "pulled"
          ],
          [
           "mass"
          ],
          [
           "across"
          ],
          [
           "covered"
          ],
          [
           "apron"
          ],
          [
           "leaves"
          ],
          [
           "falling"
          ],
          [
           "rush"
          ],
          [
           "seeming"
          ],
          [
           "tire"
          ],
          [
           "filled"
          ],
          [
           "loud"
          ],
          [
           "yell"
          ],
          [
           "informs"
          ],
          [
           "foreman"
          ],
          [
           "sack"
          ],
          [
           "emptied"
          ],
          [
           "scarce"
          ],
          [
           "demand"
          ],
          [
           "grape"
          ],
          [
           "complied"
          ],
          [
           "involves"
          ],
          [
           "calculation"
          ],
          [
           "seeking"
          ],
          [
           "qualified"
          ],
          [
           "prophesy"
          ],
          [
           "cargo"
          ],
          [
           "capitalists"
          ],
          [
           "frighten"
          ],
          [
           "enjoy"
          ],
          [
           "plans"
          ],
          [
           "felicity"
          ],
          [
           "diminished"
          ],
          [
           "deter"
          ],
          [
           "importable"
          ],
          [
           "sterile"
          ],
          [
           "operated"
          ],
          [
           "visit"
          ],
          [
           "handiwork"
          ],
          [
           "marketably"
          ],
          [
           "buy"
          ],
          [
           "necessaries"
          ],
          [
           "augmented"
          ],
          [
           "accepts"
          ],
          [
           "second"
          ],
          [
           "funds"
          ],
          [
           "impassable"
          ],
          [
           "oscillates"
          ],
          [
           "mineral"
          ],
          [
           "notwithstanding"
          ],
          [
           "unequalled"
          ],
          [
           "accumulated"
          ],
          [
           "gains"
          ],
          [
           "lay"
          ],
          [
           "consistency"
          ],
          [
           "abused"
          ],
          [
           "everybody"
          ],
          [
           "employs"
          ],
          [
           "expensive"
          ],
          [
           "whim"
          ],
          [
           "indulged"
          ],
          [
           "seeing"
          ],
          [
           "hearing"
          ],
          [
           "arrivals"
          ],
          [
           "boycott"
          ],
          [
           "remaining"
          ],
          [
           "decree"
          ],
          [
           "suffice"
          ],
          [
           "induce"
          ],
          [
           "replace"
          ],
          [
           "boycotted"
          ],
          [
           "unskilled"
          ],
          [
           "barely"
          ],
          [
           "attract"
          ],
          [
           "doubted"
          ],
          [
           "voluntarily"
          ],
          [
           "unaided"
          ],
          [
           "adhere"
          ],
          [
           "tariff"
          ],
          [
           "reached"
          ],
          [
           "utmost"
          ],
          [
           "lest"
          ],
          [
           "minimum"
          ],
          [
           "improved"
          ],
          [
           "purse"
          ],
          [
           "drain"
          ],
          [
           "speculate"
          ],
          [
           "accruing"
          ],
          [
           "sell"
          ],
          [
           "willing"
          ],
          [
           "usefully"
          ],
          [
           "handicrafts"
          ],
          [
           "teaching"
          ],
          [
           "normal"
          ],
          [
           "shillings"
          ],
          [
           "penniless"
          ],
          [
           "hungry"
          ],
          [
           "blacksmiths"
          ],
          [
           "advertised"
          ],
          [
           "sixteen"
          ],
          [
           "workman"
          ],
          [
           "hewer"
          ],
          [
           "sinker"
          ],
          [
           "predecessors"
          ],
          [
           "current"
          ],
          [
           "respectably"
          ],
          [
           "sons"
          ],
          [
           "daughters"
          ],
          [
           "married"
          ],
          [
           "drank"
          ],
          [
           "gambled"
          ],
          [
           "wife"
          ],
          [
           "silks"
          ],
          [
           "satins"
          ],
          [
           "accident"
          ],
          [
           "length"
          ],
          [
           "worker"
          ],
          [
           "unable"
          ],
          [
           "beginning"
          ],
          [
           "souls"
          ],
          [
           "informed"
          ],
          [
           "located"
          ],
          [
           "south"
          ],
          [
           "river"
          ],
          [
           "enabled"
          ],
          [
           "fund"
          ],
          [
           "loose"
          ],
          [
           "reproductive"
          ],
          [
           "precluded"
          ],
          [
           "profit"
          ],
          [
           "docile"
          ],
          [
           "stumbling"
          ],
          [
           "block"
          ],
          [
           "certainty"
          ],
          [
           "message"
          ],
          [
           "feared"
          ],
          [
           "hew"
          ],
          [
           "stove"
          ],
          [
           "append"
          ],
          [
           "list"
          ],
          [
           "exertion"
          ],
          [
           "prejudice"
          ],
          [
           "indulge"
          ],
          [
           "corrupted"
          ],
          [
           "cowardly"
          ],
          [
           "assailants"
          ],
          [
           "pleaded"
          ],
          [
           "indecent"
          ],
          [
           "assault"
          ],
          [
           "eleven"
          ],
          [
           "thirteen"
          ],
          [
           "plea"
          ],
          [
           "depositions"
          ],
          [
           "abominably"
          ],
          [
           "tempter"
          ],
          [
           "don"
          ],
          [
           "t"
          ],
          [
           "childrens"
          ],
          [
           "communications"
          ],
          [
           "lamentably"
          ],
          [
           "depraved"
          ],
          [
           "beforehand"
          ],
          [
           "disposed"
          ],
          [
           "innocuous"
          ],
          [
           "unmistakable"
          ],
          [
           "quarter"
          ],
          [
           "gestures"
          ],
          [
           "holborn"
          ],
          [
           "strand"
          ],
          [
           "naples"
          ],
          [
           "brussels"
          ],
          [
           "displays"
          ],
          [
           "infinitely"
          ],
          [
           "openly"
          ],
          [
           "debauched"
          ],
          [
           "brothels"
          ],
          [
           "indian"
          ],
          [
           "breaches"
          ],
          [
           "proportionately"
          ],
          [
           "disturbances"
          ],
          [
           "constable"
          ],
          [
           "communicated"
          ],
          [
           "instant"
          ],
          [
           "slightest"
          ],
          [
           "foundation"
          ],
          [
           "insinuation"
          ],
          [
           "omitted"
          ],
          [
           "divided"
          ],
          [
           "clans"
          ],
          [
           "dialects"
          ],
          [
           "pronunciation"
          ],
          [
           "northumberland"
          ],
          [
           "farm"
          ],
          [
           "essex"
          ],
          [
           "dorsetshire"
          ],
          [
           "culprits"
          ],
          [
           "versus"
          ],
          [
           "interpreter"
          ],
          [
           "interpreted"
          ],
          [
           "explain"
          ],
          [
           "clients"
          ],
          [
           "unintelligibility"
          ],
          [
           "versa"
          ],
          [
           "separately"
          ],
          [
           "leaving"
          ],
          [
           "arrangement"
          ],
          [
           "unavoidable"
          ],
          [
           "mercy"
          ],
          [
           "merchant"
          ],
          [
           "drafts"
          ],
          [
           "retains"
          ],
          [
           "slaves"
          ],
          [
           "importer"
          ],
          [
           "marriage"
          ],
          [
           "divorce"
          ],
          [
           "widely"
          ],
          [
           "ours"
          ],
          [
           "purchased"
          ],
          [
           "circumlocution"
          ],
          [
           "veils"
          ],
          [
           "transactions"
          ],
          [
           "divorces"
          ],
          [
           "expressions"
          ],
          [
           "feels"
          ],
          [
           "shame"
          ],
          [
           "purchasing"
          ],
          [
           "scandalized"
          ],
          [
           "pays"
          ],
          [
           "disagree"
          ],
          [
           "disgust"
          ],
          [
           "sine"
          ],
          [
           "consenting"
          ],
          [
           "settle"
          ],
          [
           "infamous"
          ],
          [
           "purchases"
          ],
          [
           "consent"
          ],
          [
           "guardians"
          ],
          [
           "conclusively"
          ],
          [
           "sold"
          ],
          [
           "marry"
          ],
          [
           "suitor"
          ],
          [
           "turned"
          ],
          [
           "proposed"
          ],
          [
           "compensation"
          ],
          [
           "strongest"
          ],
          [
           "distaste"
          ],
          [
           "esteemed"
          ],
          [
           "imperfect"
          ],
          [
           "guess"
          ],
          [
           "dictated"
          ],
          [
           "percentage"
          ],
          [
           "unions"
          ],
          [
           "centres"
          ],
          [
           "subscriptions"
          ],
          [
           "subscription"
          ],
          [
           "compulsion"
          ],
          [
           "outside"
          ],
          [
           "messrs"
          ],
          [
           "broadhead"
          ],
          [
           "odger"
          ],
          [
           "arch"
          ],
          [
           "indignantly"
          ],
          [
           "supporters"
          ],
          [
           "dwell"
          ],
          [
           "differences"
          ],
          [
           "behests"
          ],
          [
           "pretence"
          ],
          [
           "disputes"
          ],
          [
           "arbitrators"
          ],
          [
           "chosen"
          ],
          [
           "practised"
          ],
          [
           "awards"
          ],
          [
           "demur"
          ],
          [
           "award"
          ],
          [
           "untrue"
          ],
          [
           "dispositions"
          ],
          [
           "confidence"
          ],
          [
           "officials"
          ],
          [
           "testify"
          ],
          [
           "submission"
          ],
          [
           "acquiescence"
          ],
          [
           "positive"
          ],
          [
           "motive"
          ],
          [
           "distrust"
          ],
          [
           "reluctance"
          ],
          [
           "fewer"
          ],
          [
           "appreciate"
          ],
          [
           "questioner"
          ],
          [
           "affectation"
          ],
          [
           "stupidity"
          ],
          [
           "intelligence"
          ],
          [
           "willingness"
          ],
          [
           "enquirer"
          ],
          [
           "balked"
          ],
          [
           "wilful"
          ],
          [
           "deceit"
          ],
          [
           "shrouded"
          ],
          [
           "behind"
          ],
          [
           "impenetrable"
          ],
          [
           "irresponsible"
          ],
          [
           "screen"
          ],
          [
           "18th"
          ],
          [
           "fast"
          ],
          [
           "governed"
          ],
          [
           "desecrate"
          ],
          [
           "removal"
          ],
          [
           "therefrom"
          ],
          [
           "dependencies"
          ],
          [
           "lieutenant"
          ],
          [
           "electoral"
          ],
          [
           "collections"
          ],
          [
           "forfeit"
          ],
          [
           "wilfully"
          ],
          [
           "disobeying"
          ],
          [
           "furnish"
          ],
          [
           "requested"
          ],
          [
           "correctness"
          ],
          [
           "fails"
          ],
          [
           "preceding"
          ],
          [
           "knowingly"
          ],
          [
           "falsely"
          ],
          [
           "complaint"
          ],
          [
           "wherein"
          ],
          [
           "lieu"
          ],
          [
           "distrained"
          ],
          [
           "toll"
          ],
          [
           "gate"
          ],
          [
           "allowing"
          ],
          [
           "proceed"
          ],
          [
           "precious"
          ],
          [
           "metals"
          ],
          [
           "subsequently"
          ],
          [
           "adding"
          ],
          [
           "cemetery"
          ],
          [
           "interred"
          ],
          [
           "exhume"
          ],
          [
           "medicinal"
          ],
          [
           "surgical"
          ],
          [
           "consumed"
          ],
          [
           "sued"
          ],
          [
           "suffer"
          ],
          [
           "hereinafter"
          ],
          [
           "nearest"
          ],
          [
           "convicting"
          ],
          [
           "conditioned"
          ],
          [
           "abide"
          ],
          [
           "appellate"
          ],
          [
           "deposited"
          ],
          [
           "option"
          ],
          [
           "defect"
          ],
          [
           "affirmed"
          ],
          [
           "treasurer"
          ],
          [
           "lend"
          ],
          [
           "utter"
          ],
          [
           "intent"
          ],
          [
           "dwelling"
          ],
          [
           "requirements"
          ],
          [
           "contains"
          ],
          [
           "384"
          ],
          [
           "occupying"
          ],
          [
           "window"
          ],
          [
           "square"
          ],
          [
           "lets"
          ],
          [
           "suffers"
          ],
          [
           "passes"
          ],
          [
           "annul"
          ],
          [
           "prisoners"
          ],
          [
           "herewith"
          ],
          [
           "proceeding"
          ],
          [
           "document"
          ],
          [
           "negative"
          ],
          [
           "hereof"
          ]
         ],
         "hovertemplate": "highlight=%{text}<br>x=%{x}<br>y=%{y}<br>word=%{customdata[0]}<extra></extra>",
         "legendgroup": "",
         "marker": {
          "color": "#636efa",
          "symbol": "circle"
         },
         "mode": "markers+text",
         "name": "",
         "showlegend": false,
         "text": [
          "",
          "",
          "",
          "",
          "",
          "",
          "",
          "",
          "",
          "",
          "",
          "",
          "",
          "",
          "",
          "",
          "",
          "",
          "",
          "",
          "",
          "",
          "",
          "",
          "",
          "",
          "",
          "",
          "",
          "",
          "",
          "",
          "",
          "",
          "",
          "",
          "",
          "",
          "",
          "",
          "",
          "",
          "",
          "",
          "",
          "",
          "",
          "",
          "",
          "",
          "",
          "",
          "",
          "",
          "",
          "",
          "",
          "",
          "",
          "",
          "",
          "",
          "",
          "",
          "",
          "",
          "",
          "",
          "",
          "",
          "",
          "",
          "",
          "",
          "",
          "",
          "",
          "",
          "",
          "",
          "",
          "",
          "",
          "",
          "",
          "",
          "",
          "",
          "",
          "",
          "",
          "",
          "",
          "",
          "",
          "",
          "",
          "",
          "",
          "",
          "",
          "",
          "",
          "",
          "",
          "",
          "",
          "",
          "",
          "",
          "",
          "",
          "",
          "",
          "",
          "",
          "",
          "",
          "",
          "",
          "",
          "",
          "",
          "",
          "",
          "",
          "",
          "",
          "",
          "",
          "",
          "",
          "",
          "",
          "",
          "",
          "",
          "",
          "",
          "",
          "",
          "",
          "",
          "",
          "",
          "",
          "",
          "",
          "",
          "",
          "",
          "",
          "",
          "",
          "",
          "",
          "",
          "",
          "",
          "",
          "",
          "",
          "",
          "",
          "",
          "",
          "",
          "",
          "",
          "",
          "",
          "",
          "",
          "",
          "",
          "",
          "",
          "",
          "",
          "",
          "",
          "",
          "",
          "",
          "",
          "",
          "",
          "",
          "",
          "",
          "",
          "",
          "",
          "",
          "",
          "",
          "",
          "",
          "",
          "",
          "",
          "",
          "",
          "",
          "",
          "",
          "",
          "",
          "",
          "",
          "",
          "",
          "",
          "",
          "",
          "",
          "",
          "",
          "",
          "",
          "",
          "",
          "",
          "",
          "",
          "",
          "",
          "",
          "",
          "",
          "",
          "",
          "",
          "",
          "",
          "",
          "",
          "",
          "",
          "",
          "",
          "",
          "",
          "",
          "",
          "",
          "",
          "",
          "",
          "",
          "",
          "",
          "",
          "",
          "",
          "",
          "",
          "",
          "",
          "",
          "",
          "",
          "",
          "",
          "",
          "",
          "",
          "",
          "",
          "",
          "",
          "",
          "",
          "",
          "",
          "",
          "",
          "",
          "",
          "",
          "",
          "",
          "",
          "",
          "",
          "",
          "",
          "",
          "",
          "",
          "",
          "",
          "",
          "",
          "",
          "",
          "",
          "",
          "",
          "",
          "",
          "",
          "",
          "",
          "",
          "",
          "",
          "",
          "",
          "",
          "",
          "",
          "",
          "",
          "",
          "",
          "",
          "",
          "",
          "",
          "",
          "",
          "",
          "",
          "",
          "",
          "",
          "",
          "",
          "",
          "",
          "",
          "",
          "",
          "",
          "",
          "",
          "",
          "",
          "",
          "",
          "",
          "",
          "",
          "",
          "",
          "",
          "",
          "",
          "",
          "",
          "",
          "",
          "",
          "",
          "",
          "",
          "",
          "",
          "",
          "",
          "",
          "",
          "",
          "",
          "",
          "",
          "",
          "",
          "",
          "",
          "",
          "",
          "",
          "",
          "",
          "",
          "",
          "",
          "",
          "",
          "",
          "",
          "",
          "",
          "",
          "",
          "",
          "",
          "",
          "",
          "",
          "",
          "",
          "",
          "",
          "",
          "",
          "",
          "",
          "",
          "",
          "",
          "",
          "",
          "",
          "",
          "",
          "",
          "",
          "",
          "",
          "",
          "",
          "",
          "",
          "",
          "",
          "",
          "",
          "",
          "",
          "",
          "",
          "",
          "",
          "",
          "",
          "",
          "",
          "",
          "",
          "",
          "",
          "",
          "",
          "",
          "",
          "",
          "",
          "",
          "",
          "",
          "",
          "",
          "",
          "",
          "",
          "",
          "",
          "",
          "",
          "",
          "",
          "",
          "",
          "",
          "",
          "",
          "",
          "",
          "",
          "",
          "",
          "",
          "",
          "",
          "",
          "",
          "",
          "",
          "",
          "",
          "",
          "",
          "",
          "",
          "",
          "",
          "",
          "",
          "",
          "",
          "",
          "",
          "",
          "",
          "",
          "",
          "",
          "",
          "",
          "",
          "",
          "",
          "",
          "",
          "",
          "",
          "",
          "",
          "",
          "",
          "",
          "",
          "",
          "",
          "",
          "",
          "",
          "",
          "",
          "",
          "",
          "",
          "",
          "",
          "",
          "",
          "",
          "",
          "",
          "",
          "",
          "",
          "",
          "",
          "",
          "",
          "",
          "",
          "",
          "",
          "",
          "",
          "",
          "",
          "",
          "",
          "",
          "",
          "",
          "",
          "",
          "",
          "",
          "",
          "",
          "",
          "",
          "",
          "",
          "",
          "",
          "",
          "",
          "",
          "",
          "",
          "",
          "",
          "",
          "",
          "",
          "",
          "",
          "",
          "",
          "",
          "",
          "",
          "",
          "",
          "",
          "",
          "",
          "",
          "",
          "",
          "",
          "",
          "",
          "",
          "",
          "",
          "",
          "",
          "",
          "",
          "",
          "",
          "",
          "",
          "",
          "",
          "",
          "",
          "",
          "",
          "",
          "",
          "",
          "",
          "",
          "",
          "",
          "",
          "",
          "",
          "",
          "",
          "",
          "",
          "",
          "",
          "",
          "",
          "",
          "",
          "",
          "",
          "",
          "",
          "",
          "",
          "",
          "",
          "",
          "",
          "",
          "",
          "",
          "",
          "",
          "",
          "",
          "",
          "",
          "",
          "",
          "",
          "",
          "",
          "",
          "",
          "",
          "",
          "",
          "",
          "",
          "",
          "",
          "",
          "",
          "",
          "",
          "",
          "",
          "",
          "",
          "",
          "",
          "",
          "",
          "",
          "",
          "",
          "",
          "",
          "",
          "",
          "",
          "",
          "",
          "",
          "",
          "",
          "",
          "",
          "",
          "",
          "",
          "",
          "",
          "",
          "",
          "",
          "",
          "",
          "",
          "",
          "",
          "",
          "",
          "",
          "",
          "",
          "",
          "",
          "",
          "",
          "",
          "",
          "",
          "",
          "",
          "",
          "",
          "",
          "",
          "",
          "",
          "",
          "",
          "",
          "",
          "",
          "",
          "",
          "",
          "",
          "",
          "",
          "",
          "",
          "",
          "",
          "",
          "",
          "",
          "",
          "",
          "",
          "",
          "",
          "",
          "",
          "",
          "",
          "",
          "",
          "",
          "",
          "",
          "",
          "",
          "",
          "",
          "",
          "",
          "",
          "",
          "",
          "",
          "",
          "",
          "",
          "",
          "",
          "",
          "",
          "",
          "",
          "",
          "",
          "",
          "",
          "",
          "",
          "",
          "",
          "",
          "",
          "",
          "",
          "",
          "",
          "",
          "",
          "",
          "",
          "",
          "",
          "",
          "",
          "",
          "",
          "",
          "",
          "",
          "",
          "",
          "",
          "",
          "",
          "",
          "",
          "",
          "",
          "",
          "",
          "",
          "",
          "",
          "",
          "",
          "",
          "",
          "",
          "",
          "",
          "",
          "",
          "",
          "",
          "",
          "",
          "",
          "",
          "",
          "",
          "",
          "",
          "",
          "",
          "",
          "",
          "",
          "",
          "",
          "",
          "",
          "",
          "",
          "",
          "",
          "",
          "",
          "",
          "",
          "",
          "",
          "",
          "",
          "",
          "",
          "",
          "",
          "",
          "",
          "",
          "",
          "",
          "",
          "",
          "",
          "",
          "",
          "",
          "",
          "",
          "",
          "",
          "",
          "",
          "",
          "",
          "",
          "",
          "",
          "",
          "",
          "",
          "",
          "",
          "",
          "",
          "",
          "",
          "",
          "",
          "",
          "",
          "",
          "",
          "",
          "",
          "",
          "",
          "",
          "",
          "",
          "",
          "",
          "",
          "",
          "",
          "",
          "",
          "",
          "",
          "",
          "",
          "",
          "",
          "",
          "",
          "",
          "",
          "",
          "",
          "",
          "",
          "",
          "",
          "",
          "",
          "",
          "",
          "",
          "",
          "",
          "",
          "",
          "",
          "",
          "",
          "",
          "",
          "",
          "",
          "",
          "",
          "",
          "",
          "",
          "",
          "",
          "",
          "",
          "",
          "",
          "",
          "",
          "",
          "",
          "",
          "",
          "",
          "",
          "",
          "",
          "",
          "",
          "",
          "",
          "",
          "",
          "",
          "",
          "",
          "",
          "",
          "",
          "",
          "",
          "",
          "",
          "",
          "",
          "",
          "",
          "",
          "",
          "",
          "",
          "",
          "",
          "",
          "",
          "",
          "",
          "",
          "",
          "",
          "",
          "",
          "",
          "",
          "",
          "",
          "",
          "",
          "",
          "",
          "",
          "",
          "",
          "",
          "",
          "",
          "",
          "",
          "",
          "",
          "",
          "",
          "",
          "",
          "",
          "",
          "",
          "",
          "",
          "",
          "",
          "",
          "",
          "",
          "",
          "",
          "",
          "",
          "",
          "",
          "",
          "",
          "",
          "",
          "",
          "",
          "",
          "",
          "",
          "",
          "",
          "",
          "",
          "",
          "",
          "",
          "",
          "",
          "",
          "",
          "",
          "",
          "",
          "",
          "",
          "",
          "",
          "",
          "",
          "",
          "",
          "",
          "",
          "",
          "",
          "",
          "",
          "",
          "",
          "",
          "",
          "",
          "",
          "",
          "",
          "",
          "",
          "",
          "",
          "",
          "",
          "",
          "",
          "",
          "",
          "",
          "",
          "",
          "",
          "",
          "",
          "",
          "",
          "",
          "",
          "",
          "",
          "",
          "",
          "",
          "",
          "",
          "",
          "",
          "",
          "",
          "",
          "",
          "",
          "",
          "",
          "",
          "",
          "",
          "",
          "",
          "",
          "",
          "",
          "",
          "",
          "",
          "",
          "",
          "",
          "",
          "",
          "",
          "",
          "",
          "",
          "",
          "",
          "",
          "",
          "",
          "",
          "",
          "",
          "",
          "",
          "",
          "",
          "",
          "",
          "",
          "",
          "",
          "",
          "",
          "",
          "",
          "",
          "",
          "",
          "",
          "",
          "",
          "",
          "",
          "",
          "",
          "",
          "",
          "",
          "",
          "",
          "",
          "",
          "",
          "",
          "",
          "",
          "",
          "",
          "",
          "",
          "",
          "",
          "",
          "",
          "",
          "",
          "",
          "",
          "",
          "",
          "",
          "",
          "",
          "",
          "",
          "",
          "",
          "",
          "",
          "",
          "",
          "",
          "",
          "",
          "",
          "",
          "",
          "",
          "",
          "",
          "",
          "",
          "",
          "",
          "",
          "",
          "",
          "",
          "",
          "",
          "",
          "",
          "",
          "",
          "",
          "",
          "",
          "",
          "",
          "",
          "",
          "",
          "",
          "",
          "",
          "",
          "",
          "",
          "",
          "",
          "",
          "",
          "",
          "",
          "",
          "",
          "",
          "",
          "",
          "",
          "",
          "",
          "",
          "",
          "",
          "",
          "",
          "",
          "",
          "",
          "",
          "",
          "",
          "",
          "",
          "",
          "",
          "",
          "",
          "",
          "",
          "",
          "",
          "",
          "",
          "",
          "",
          "",
          "",
          "",
          "",
          "",
          "",
          "",
          "",
          "",
          "",
          "",
          "",
          "",
          "",
          "",
          "",
          "",
          "",
          "",
          "",
          "",
          "",
          "",
          "",
          "",
          "",
          "",
          "",
          "",
          "",
          "",
          "",
          "",
          "",
          "",
          "",
          "",
          "",
          "",
          "",
          "",
          "",
          "",
          "",
          "",
          "",
          "",
          "",
          "",
          "",
          "",
          "",
          "",
          "",
          "",
          "",
          "",
          "",
          "",
          "",
          "",
          "",
          "",
          "",
          "",
          "",
          "",
          "",
          "",
          "",
          "",
          "",
          "",
          "",
          "",
          "",
          "",
          "",
          "",
          "",
          "",
          "",
          "",
          "",
          "",
          "",
          "",
          "",
          "",
          "",
          "",
          "",
          "",
          "",
          "",
          "",
          "",
          "",
          "",
          "",
          "",
          "",
          "",
          "",
          "",
          "",
          "",
          "",
          "",
          "",
          "",
          "",
          "",
          "",
          "",
          "",
          "",
          "",
          "",
          "",
          "",
          "",
          "",
          "",
          "",
          "",
          "",
          "",
          "",
          "",
          "",
          "",
          "",
          "",
          "",
          "",
          "",
          "",
          "",
          "",
          "",
          "",
          "",
          "",
          "",
          "",
          "",
          "",
          "",
          "",
          "",
          "",
          "",
          "",
          "",
          "",
          "",
          "",
          "",
          "",
          "",
          "",
          "",
          "",
          "",
          "",
          "",
          "",
          "",
          "",
          "",
          "",
          "",
          "",
          "",
          "",
          "",
          "",
          "",
          "",
          "",
          "",
          "",
          "",
          "",
          "",
          "",
          "",
          "",
          "",
          "",
          "",
          "",
          "",
          "",
          "",
          "",
          "",
          "",
          "",
          "",
          "",
          "",
          "",
          "",
          "",
          "",
          "",
          "",
          "",
          "",
          "",
          "",
          "",
          "",
          "",
          "",
          "",
          "",
          "",
          "",
          "",
          "",
          "",
          "",
          "",
          "",
          "",
          "",
          "",
          "",
          "",
          "",
          "",
          "",
          "",
          "",
          "",
          "",
          "",
          "",
          "",
          "",
          "",
          "",
          "",
          "",
          "",
          "",
          "",
          "",
          "",
          "",
          "",
          "",
          "",
          "",
          "",
          "",
          "",
          "",
          "",
          "",
          "",
          "",
          "",
          "",
          "",
          "",
          "",
          "",
          "",
          "",
          "",
          "",
          "",
          "",
          "",
          "",
          "",
          "",
          "",
          "",
          "",
          "",
          "",
          "",
          "",
          "",
          "",
          "",
          "",
          "",
          "",
          "",
          "",
          "",
          "",
          "",
          "",
          "",
          "",
          "",
          "",
          "",
          "",
          "",
          "",
          "",
          "",
          "",
          "",
          "",
          "",
          "",
          "",
          "",
          "",
          "",
          "",
          "",
          "",
          "",
          "",
          "",
          "",
          "",
          "",
          "",
          "",
          "",
          "",
          "",
          "",
          "",
          "",
          "",
          "",
          "",
          "",
          "",
          "",
          "",
          "",
          "",
          "",
          "",
          "",
          "",
          "",
          "",
          "",
          "",
          "",
          "",
          "",
          "",
          "",
          "",
          "",
          "",
          "",
          "",
          "",
          "",
          "",
          "",
          "",
          "",
          "",
          "",
          "",
          "",
          "",
          "",
          "",
          "",
          "",
          "",
          "",
          "",
          "",
          "",
          "",
          "",
          "",
          "",
          "",
          "",
          "",
          "",
          "",
          "",
          "",
          "",
          "",
          "",
          "",
          "",
          "",
          "",
          "",
          "",
          "",
          "",
          "",
          "",
          "",
          "",
          "",
          "",
          "",
          "",
          "",
          "",
          "",
          "",
          "",
          "",
          "",
          "",
          "",
          "",
          "",
          "",
          "",
          "",
          "",
          "",
          "",
          "",
          "",
          "",
          "",
          "",
          "",
          "",
          "",
          "",
          "",
          "",
          "",
          "",
          "",
          "",
          "",
          "",
          "",
          "",
          "",
          "",
          "",
          "",
          "",
          "",
          "",
          "",
          "",
          "",
          "",
          "",
          "",
          "",
          "",
          "",
          "",
          "",
          "",
          "",
          "",
          "",
          "",
          "",
          "",
          "",
          "",
          "",
          "",
          "",
          "",
          "",
          "",
          "",
          "",
          "",
          "",
          "",
          "",
          "",
          "",
          "",
          "",
          "",
          "",
          "",
          "",
          "",
          "",
          "",
          "",
          "",
          "",
          "",
          "",
          "",
          "",
          "",
          "",
          "",
          "",
          "",
          "",
          "",
          "",
          "",
          "",
          "",
          "",
          "",
          "",
          "",
          "",
          "",
          "",
          "",
          "",
          "",
          "",
          "",
          "",
          "",
          "",
          "",
          "",
          "",
          "",
          "",
          "",
          "",
          "",
          "",
          "",
          "",
          "",
          "",
          "",
          "",
          "",
          "",
          "",
          "",
          "",
          "",
          "",
          "",
          "",
          "",
          "",
          "",
          "",
          "",
          "",
          "",
          "",
          "",
          "",
          "",
          "",
          "",
          "",
          "",
          "",
          "",
          "",
          "",
          "",
          "",
          "",
          "",
          "",
          "",
          "",
          "",
          "",
          "",
          "",
          "",
          "",
          "",
          "",
          "",
          "",
          "",
          "",
          "",
          "",
          "",
          "",
          "",
          "",
          "",
          "",
          "",
          "",
          "",
          "",
          "",
          "",
          "",
          "",
          "",
          "",
          "",
          "",
          "",
          "",
          "",
          "",
          "",
          "",
          "",
          "",
          "",
          "",
          "",
          "",
          "",
          "",
          "",
          "",
          "",
          "",
          "",
          "",
          "",
          "",
          "",
          "",
          "",
          "",
          "",
          "",
          "",
          "",
          "",
          "",
          "",
          "",
          "",
          "",
          "",
          "",
          "",
          "",
          "",
          "",
          "",
          "",
          "",
          "",
          "",
          "",
          "",
          "",
          "",
          "",
          "",
          "",
          "",
          "",
          "",
          "",
          "",
          "",
          "",
          "",
          "",
          "",
          "",
          "",
          "",
          "",
          "",
          "",
          "",
          "",
          "",
          "",
          "",
          "",
          "",
          "",
          "",
          "",
          "",
          "",
          "",
          "",
          "",
          "",
          "",
          "",
          "",
          "",
          "",
          "",
          "",
          "",
          "",
          "",
          "",
          "",
          "",
          "",
          "",
          "",
          "",
          "",
          "",
          "",
          "",
          "",
          "",
          "",
          "",
          "",
          "",
          "",
          "",
          "",
          "",
          "",
          "",
          "",
          "",
          "",
          "",
          "",
          "",
          "",
          "",
          "",
          "",
          "",
          "",
          "",
          "",
          "",
          "",
          "",
          "",
          "",
          "",
          "",
          "",
          "",
          "",
          "",
          "",
          "",
          "",
          "",
          "",
          "",
          "",
          "",
          "",
          "",
          "",
          "",
          "",
          "",
          "",
          "",
          "",
          "",
          "",
          "",
          "",
          "",
          "",
          "",
          "",
          "",
          "",
          "",
          "",
          "",
          "",
          "",
          "",
          "",
          "",
          "",
          "",
          "",
          "",
          "",
          "",
          "",
          "",
          "",
          "",
          "",
          "",
          "",
          "",
          "",
          "",
          "",
          "",
          "",
          "",
          "",
          "",
          "",
          "",
          "",
          "",
          "",
          "",
          "",
          "",
          "",
          "",
          "",
          "",
          "",
          "",
          "",
          "",
          "",
          "",
          "",
          "",
          "",
          "",
          "",
          "",
          "",
          "",
          "",
          "",
          "",
          "",
          "",
          "",
          "",
          "",
          "",
          "",
          "",
          "",
          "",
          "",
          "",
          "",
          "",
          "",
          "",
          "",
          "",
          "",
          "",
          "",
          "",
          "",
          "",
          "",
          "",
          "",
          "",
          "",
          "",
          "",
          "",
          "",
          "",
          "",
          "",
          "",
          "",
          "",
          "",
          "",
          "",
          "",
          "",
          "",
          "",
          "",
          "",
          "",
          "",
          "",
          "",
          "",
          "",
          "",
          "",
          "",
          "",
          "",
          "",
          "",
          "",
          "",
          "",
          "",
          "",
          "",
          "",
          "",
          "",
          "",
          "",
          "",
          "",
          "",
          "",
          "",
          "",
          "",
          "",
          "",
          "",
          "",
          "",
          "",
          "",
          "",
          "",
          "",
          "",
          "",
          "",
          "",
          "",
          "",
          "",
          "",
          "",
          "",
          "",
          "",
          "",
          "",
          "",
          "",
          "",
          "",
          "",
          "",
          "",
          "",
          "",
          "",
          "",
          "",
          "",
          "",
          "",
          "",
          "",
          "",
          "",
          "",
          "",
          "",
          "",
          "",
          "",
          "",
          "",
          "",
          "",
          "",
          "",
          "",
          "",
          "",
          "",
          "",
          "",
          "",
          "",
          "",
          "",
          "",
          "",
          "",
          "",
          "",
          "",
          "",
          "",
          "",
          "",
          "",
          "",
          "",
          "",
          "",
          "",
          "",
          "",
          "",
          "",
          "",
          "",
          "",
          "",
          "",
          "",
          "",
          "",
          "",
          "",
          "",
          "",
          "",
          "",
          "",
          "",
          "",
          "",
          "",
          "",
          "",
          "",
          "",
          "",
          "",
          "",
          "",
          "",
          "",
          "",
          "",
          "",
          "",
          "",
          "",
          "",
          "",
          "",
          "",
          "",
          "",
          "",
          "",
          "",
          "",
          "",
          "",
          "",
          "",
          "",
          "",
          "",
          "",
          "",
          "",
          "",
          "",
          "",
          "",
          "",
          "",
          "",
          "",
          "",
          "",
          "",
          "",
          "",
          "",
          "",
          "",
          "",
          "",
          "",
          "",
          "",
          "",
          "",
          "",
          "",
          "",
          "",
          "",
          "",
          "",
          "",
          "",
          "",
          "",
          "",
          "",
          "",
          "",
          "",
          "",
          "",
          "",
          "",
          "",
          "",
          "",
          "",
          "",
          "",
          "",
          "",
          "",
          "",
          "",
          "",
          "",
          "",
          "",
          "",
          "",
          "",
          "",
          "",
          "",
          "",
          "",
          "",
          "",
          "",
          "",
          "",
          "",
          "",
          "",
          "",
          "",
          "",
          "",
          "",
          "",
          "",
          "",
          "",
          "",
          "",
          "",
          "",
          "",
          "",
          "",
          "",
          "",
          "",
          "",
          "",
          "",
          "",
          "",
          "",
          "",
          "",
          "",
          "",
          "",
          "",
          "",
          "",
          "",
          "",
          "",
          "",
          "",
          "",
          "",
          "",
          "",
          "",
          "",
          "",
          "",
          "",
          "",
          "",
          "",
          "",
          "",
          "",
          "",
          "",
          "",
          "",
          "",
          "",
          "",
          "",
          "",
          "",
          "",
          "",
          "",
          "",
          "",
          "",
          "",
          "",
          "",
          "",
          "",
          "",
          "",
          "",
          "",
          "",
          "",
          "",
          "",
          "",
          "",
          "",
          "",
          "",
          "",
          "",
          "",
          "",
          "",
          "",
          "",
          "",
          "",
          "",
          "",
          "",
          "",
          "",
          "",
          "",
          "",
          "",
          "",
          "",
          "",
          "",
          "",
          "",
          "",
          "",
          "",
          "",
          "",
          "",
          "",
          "",
          "",
          "",
          "",
          "",
          "",
          "",
          "",
          "",
          "",
          "",
          "",
          "",
          "",
          "",
          "",
          "",
          "",
          "",
          "",
          "",
          "",
          "",
          "",
          "",
          "",
          "",
          "",
          "",
          "",
          "",
          "",
          "",
          "",
          "",
          "",
          "",
          "",
          "",
          "",
          "",
          "",
          "",
          "",
          "",
          "",
          "",
          "",
          "",
          "",
          "",
          "",
          "",
          "",
          "",
          "",
          "",
          "",
          "",
          "",
          "",
          "",
          "",
          "",
          "",
          "",
          "",
          "",
          "",
          "",
          "",
          "",
          "",
          "",
          "",
          "",
          "",
          "",
          "",
          "",
          "",
          "",
          "",
          "",
          "",
          "",
          "",
          "",
          "",
          "",
          "",
          "",
          "",
          "",
          "",
          "",
          "",
          "",
          "",
          "",
          "",
          "",
          "",
          "",
          "",
          "",
          "",
          "",
          "",
          "",
          "",
          "",
          "",
          "",
          "",
          "",
          "",
          "",
          "",
          "",
          "",
          "",
          "",
          "",
          "",
          "",
          "",
          "",
          "",
          "",
          "",
          "",
          "",
          "",
          "",
          "",
          "",
          "",
          "",
          "",
          "",
          "",
          "",
          "",
          "",
          "",
          "",
          "",
          "",
          "",
          "",
          "",
          "",
          "",
          "",
          "",
          "",
          "",
          "",
          "",
          "",
          "",
          "",
          "",
          "",
          "",
          "",
          "",
          "",
          "",
          "",
          "",
          "",
          "",
          "",
          "",
          "",
          "",
          "",
          "",
          "",
          "",
          "",
          "",
          "",
          "",
          "",
          "",
          "",
          "",
          "",
          "",
          "",
          "",
          "",
          "",
          "",
          "",
          "",
          "",
          "",
          "",
          "",
          "",
          "",
          "",
          "",
          "",
          "",
          "",
          "",
          "",
          "",
          "",
          "",
          "",
          "",
          "",
          "",
          "",
          "",
          "",
          "",
          "",
          "",
          "",
          "",
          "",
          "",
          "",
          "",
          "",
          "",
          "",
          "",
          "",
          "",
          "",
          "",
          "",
          "",
          "",
          "",
          "",
          "",
          "",
          "",
          "",
          "",
          "",
          "",
          "",
          "",
          "",
          "",
          "",
          "",
          "",
          "",
          "",
          "",
          "",
          "",
          "",
          "",
          "",
          "",
          "",
          "",
          "",
          "",
          "",
          "",
          "",
          "",
          "",
          "",
          "",
          "",
          "",
          "",
          "",
          "",
          "",
          "",
          "",
          "",
          "",
          "",
          "",
          "",
          "",
          "",
          "",
          "",
          "",
          "",
          "",
          "",
          "",
          "",
          "",
          "",
          "",
          "",
          "",
          "",
          "",
          "",
          "",
          "",
          "",
          "",
          "",
          "",
          "",
          "",
          "",
          "",
          "",
          "",
          "",
          "",
          "",
          "",
          "",
          "",
          "",
          "",
          "",
          "",
          "",
          "",
          "",
          "",
          "",
          "",
          "",
          "",
          "",
          "",
          "",
          "",
          "",
          "",
          "",
          "",
          "",
          "",
          "",
          "",
          "",
          "",
          "",
          "",
          "",
          "",
          "",
          "",
          "",
          "",
          "",
          "",
          "",
          "",
          "",
          "",
          "",
          "",
          "",
          "",
          "",
          "",
          "",
          "",
          "",
          "",
          "",
          "",
          "",
          "",
          "",
          "",
          "",
          "",
          "",
          "",
          "",
          "",
          "",
          "",
          "",
          "",
          "",
          "",
          "",
          "",
          "",
          "",
          "",
          "",
          "",
          "",
          "",
          "",
          "",
          "",
          "",
          "",
          "",
          "",
          "",
          "",
          "",
          "",
          "",
          "",
          "",
          "",
          "",
          "",
          "",
          "",
          "",
          "",
          "",
          "",
          "",
          "",
          "",
          "",
          "",
          "",
          "",
          "",
          "",
          "",
          "",
          "",
          "",
          "",
          "",
          "",
          "",
          "",
          "",
          "",
          "",
          "",
          "",
          "",
          "",
          "",
          "",
          "",
          "",
          "",
          "",
          "",
          "",
          "",
          "",
          "",
          "",
          "",
          "",
          "",
          "",
          "",
          "",
          "",
          "",
          "",
          "",
          "",
          "",
          "",
          "",
          "",
          "",
          "",
          "",
          "",
          "",
          "",
          "",
          "",
          "",
          "",
          "",
          "",
          "",
          "",
          "",
          "",
          "",
          "",
          "",
          "",
          "",
          "",
          "",
          "",
          "",
          "",
          "",
          "",
          "",
          "",
          "",
          "",
          "",
          "",
          "",
          "",
          "",
          "",
          "",
          "",
          "",
          "",
          "",
          "",
          "",
          "",
          "",
          "",
          "",
          "",
          "",
          "",
          "",
          "",
          "",
          "",
          "",
          "",
          "",
          "",
          "",
          "",
          "",
          "",
          "",
          "",
          "",
          "",
          "",
          "",
          "",
          "",
          "",
          "",
          "",
          "",
          "",
          "",
          "",
          "",
          "",
          "",
          "",
          "",
          "",
          "",
          "",
          "",
          "",
          "",
          "",
          "",
          "",
          "",
          "",
          "",
          "",
          "",
          "",
          "",
          "",
          "",
          "",
          "",
          "",
          "",
          "",
          "",
          "",
          "",
          "",
          "",
          "",
          "",
          "",
          "",
          "",
          "",
          "",
          "",
          "",
          "",
          "",
          "",
          "",
          "",
          "",
          "",
          "",
          "",
          "",
          "",
          "",
          "",
          "",
          "",
          "",
          "",
          "",
          "",
          "",
          "",
          "",
          "",
          "",
          "",
          "",
          "",
          "",
          "",
          "",
          "",
          "",
          "",
          "",
          "",
          "",
          "",
          "",
          "",
          "",
          "",
          "",
          "",
          "",
          "",
          "",
          "",
          "",
          "",
          "",
          "",
          "",
          "",
          "",
          "",
          "",
          "",
          "",
          "",
          "",
          "",
          "",
          "",
          "",
          "",
          "",
          "",
          "",
          "",
          "",
          "",
          "",
          "",
          "",
          "",
          "",
          "",
          "",
          "",
          "",
          "",
          "",
          "",
          "",
          "",
          "",
          "",
          "",
          "",
          "",
          "",
          "",
          "",
          "",
          "",
          "",
          "",
          "",
          "",
          "",
          "",
          "",
          "",
          "",
          "",
          "",
          "",
          "",
          "",
          "",
          "",
          "",
          "",
          "",
          "",
          "",
          "",
          "",
          "",
          "",
          "",
          "",
          "",
          "",
          "",
          "",
          "",
          "",
          "",
          "",
          "",
          "",
          "",
          "",
          "",
          "",
          "",
          "",
          "",
          "",
          "",
          "",
          "",
          "",
          "",
          "",
          "",
          "",
          "",
          "",
          "",
          "",
          "",
          "",
          "",
          "",
          "",
          "",
          "",
          "",
          "",
          "",
          "",
          "",
          "",
          "",
          "",
          "",
          "",
          "",
          "",
          "",
          "",
          "",
          "",
          "",
          "",
          "",
          "",
          "",
          "",
          "",
          "",
          "",
          "",
          "",
          "",
          "",
          "",
          "",
          "",
          "",
          "",
          "",
          "",
          "",
          "",
          "",
          "",
          "",
          "",
          "",
          "",
          "",
          "",
          "",
          "",
          "",
          "",
          "",
          "",
          "",
          "",
          "",
          "",
          "",
          "",
          "",
          "",
          "",
          "",
          "",
          "",
          "",
          "",
          "",
          "",
          "",
          "",
          "",
          "",
          "",
          "",
          "",
          "",
          "",
          "",
          "",
          "",
          "",
          "",
          "",
          "",
          "",
          "",
          "",
          "",
          "",
          "",
          "",
          "",
          "",
          "",
          "",
          "",
          "",
          "",
          "",
          "",
          "",
          "",
          "",
          "",
          "",
          "",
          "",
          "",
          "",
          "",
          "",
          "",
          "",
          "",
          "",
          "",
          "",
          "",
          "",
          "",
          "",
          "",
          "",
          "",
          "",
          "",
          "",
          "",
          "",
          "",
          "",
          "",
          "",
          "",
          "",
          "",
          "",
          "",
          "",
          "",
          "",
          "",
          "",
          "",
          "",
          "",
          "",
          "",
          "",
          "",
          "",
          "",
          "",
          "",
          "",
          "",
          "",
          "",
          "",
          "",
          "",
          "",
          "",
          "",
          "",
          "",
          "",
          "",
          "",
          "",
          "",
          "",
          "",
          "",
          "",
          "",
          "",
          "",
          "",
          "",
          "",
          "",
          "",
          "",
          "",
          "",
          "",
          "",
          "",
          "",
          "",
          "",
          "",
          "",
          "",
          "",
          "",
          "",
          "",
          "",
          "",
          "",
          "",
          "",
          "",
          "",
          "",
          "",
          "",
          "",
          "",
          "",
          "",
          "",
          "",
          "",
          "",
          "",
          "",
          "",
          "",
          "",
          "",
          "",
          "",
          "",
          "",
          "",
          "",
          "",
          "",
          "",
          "",
          "",
          "",
          "",
          "",
          "",
          "",
          "",
          "",
          "",
          "",
          "",
          "",
          "",
          "",
          "",
          "",
          "",
          "",
          "",
          "",
          "",
          "",
          "",
          "",
          "",
          "",
          "",
          "",
          "",
          "",
          "",
          "",
          "",
          "",
          "",
          "",
          "",
          "",
          "",
          "",
          "",
          "",
          "",
          "",
          "",
          "",
          "",
          "",
          "",
          "",
          "",
          "",
          "",
          "",
          "",
          "",
          "",
          "",
          "",
          "",
          "",
          "",
          "",
          "",
          "",
          "",
          "",
          "",
          "",
          "",
          "",
          "",
          "",
          "",
          "",
          "",
          "",
          "",
          "",
          "",
          "",
          "",
          "",
          "",
          "",
          "",
          "",
          "",
          "",
          "",
          "",
          "",
          "",
          "",
          "",
          "",
          "",
          "",
          "",
          "",
          "",
          "",
          "",
          "",
          "",
          "",
          "",
          "",
          "",
          "",
          "",
          "",
          "",
          "",
          "",
          "",
          "",
          "",
          "",
          "",
          "",
          "",
          "",
          "",
          "",
          "",
          "",
          "",
          "",
          "",
          "",
          "",
          "",
          "",
          "",
          "",
          "",
          "",
          "",
          "",
          "",
          "",
          "",
          "",
          "",
          "",
          "",
          "",
          "",
          "",
          "",
          "",
          "",
          "",
          "",
          "",
          "",
          "",
          "",
          "",
          "",
          "",
          "",
          "",
          "",
          "",
          "",
          "",
          "",
          "",
          "",
          "",
          "",
          "",
          "",
          "",
          "",
          "",
          "",
          "",
          "",
          "",
          "",
          "",
          "",
          "",
          "",
          "",
          "",
          "",
          "",
          "",
          "",
          "",
          "",
          "",
          "",
          "",
          "",
          "",
          "",
          "",
          "",
          "",
          "",
          "",
          "",
          "",
          "",
          "",
          "",
          "",
          "",
          "",
          "",
          "",
          "",
          "",
          "",
          "",
          "",
          "",
          "",
          "",
          "",
          "",
          "",
          "",
          "",
          "",
          "",
          "",
          "",
          "",
          "",
          "",
          "",
          "",
          "",
          "",
          "",
          "",
          "",
          "",
          "",
          "",
          "",
          "",
          "",
          "",
          "",
          "",
          "",
          "",
          "",
          "",
          "",
          "",
          "",
          "",
          "",
          "",
          "",
          "",
          "",
          "",
          "",
          "",
          "",
          "",
          "",
          "",
          "",
          "",
          "",
          "",
          "",
          "",
          "",
          "",
          "",
          "",
          "",
          "",
          "",
          "",
          "",
          "",
          "",
          "",
          "",
          "",
          "",
          "",
          "",
          "",
          "",
          "",
          "",
          "",
          "",
          "",
          "",
          "",
          "",
          "",
          "",
          "",
          "",
          "",
          "",
          "",
          "",
          "",
          "",
          "",
          "",
          "",
          "",
          "",
          "",
          "",
          "",
          "",
          "",
          "",
          "",
          "",
          "",
          "",
          "",
          "",
          "",
          "",
          "",
          "",
          "",
          "",
          "",
          "",
          "",
          "",
          "",
          "",
          "",
          "",
          "",
          "",
          "",
          "",
          "",
          "",
          "",
          "",
          "",
          "",
          "",
          "",
          "",
          "",
          "",
          "",
          "",
          "",
          "",
          "",
          "",
          "",
          "",
          "",
          "",
          "",
          "",
          "",
          "",
          "",
          "",
          "",
          "",
          "",
          "",
          "",
          "",
          "",
          "",
          "",
          "",
          "",
          "",
          "",
          "",
          "",
          "",
          "",
          "",
          "",
          "",
          "",
          "",
          "",
          "",
          "",
          "",
          "",
          "",
          "",
          "",
          "",
          "",
          "",
          "",
          "",
          "",
          "",
          "",
          "",
          "",
          "",
          "",
          "",
          "",
          "",
          "",
          "",
          "",
          "",
          "",
          "",
          "",
          "",
          "",
          "",
          "",
          "",
          "",
          "",
          "",
          "",
          "",
          "",
          "",
          "",
          "",
          "",
          "",
          "",
          "",
          "",
          "",
          "",
          "",
          "",
          "",
          "",
          "",
          "",
          "",
          "",
          "",
          "",
          "",
          "",
          "",
          "",
          "",
          "",
          "",
          "",
          "",
          "",
          "",
          "",
          "",
          "",
          "",
          "",
          "",
          "",
          "",
          "",
          "",
          "",
          "",
          "",
          "",
          "",
          "",
          "",
          "",
          "",
          "",
          "",
          "",
          "",
          "",
          "",
          "",
          "",
          "",
          "",
          "",
          "",
          "",
          "",
          "",
          "",
          "",
          "",
          "",
          "",
          "",
          "",
          "",
          "",
          "",
          "",
          "",
          "",
          "",
          "",
          "",
          "",
          "",
          "",
          "",
          "",
          "",
          "",
          "",
          "",
          "",
          "",
          "",
          "",
          "",
          "",
          "",
          "",
          "",
          "",
          "",
          "",
          "",
          "",
          "",
          "",
          "",
          "",
          "",
          "",
          "",
          "",
          "",
          "",
          "",
          "",
          "",
          "",
          "",
          "",
          "",
          "",
          "",
          "",
          "",
          "",
          "",
          "",
          "",
          "",
          "",
          "",
          "",
          "",
          "",
          "",
          "",
          "",
          "",
          "",
          "",
          "",
          "",
          "",
          "",
          "",
          "",
          "",
          "",
          "",
          "",
          "",
          "",
          "",
          "",
          "",
          "",
          "",
          "",
          "",
          "",
          "",
          "",
          "",
          "",
          "",
          "",
          "",
          "",
          "",
          "",
          "",
          "",
          "",
          "",
          "",
          "",
          "",
          "",
          "",
          "",
          "",
          "",
          "",
          "",
          "",
          "",
          "",
          "",
          "",
          "",
          "",
          "",
          "",
          "",
          "",
          "",
          "",
          "",
          "",
          "",
          "",
          "",
          "",
          "",
          "",
          "",
          "",
          "",
          "",
          "",
          "",
          "",
          "",
          "",
          "",
          "",
          "",
          "",
          "",
          "",
          "",
          "",
          "",
          "",
          "",
          "",
          "",
          "",
          "",
          "",
          "",
          "",
          "",
          "",
          "",
          "",
          "",
          "",
          "",
          "",
          "",
          "",
          "",
          "",
          "",
          "",
          "",
          "",
          "",
          "",
          "",
          "",
          "",
          "",
          "",
          "",
          "",
          "",
          "",
          "",
          "",
          "",
          "",
          "",
          "",
          "",
          "",
          "",
          "",
          "",
          "",
          "",
          "",
          "",
          "",
          "",
          "",
          "",
          "",
          "",
          "",
          "",
          "",
          "",
          "",
          "",
          "",
          "",
          "",
          "",
          "",
          "",
          "",
          "",
          "",
          "",
          "",
          "",
          "",
          "",
          "",
          "",
          "",
          "",
          "",
          "",
          "",
          "",
          "",
          "",
          "",
          "",
          "",
          "",
          "",
          "",
          "",
          "",
          "",
          "",
          "",
          "",
          "",
          "",
          "",
          "",
          "",
          "",
          "",
          "",
          "",
          "",
          "",
          "",
          "",
          "",
          "",
          "",
          "",
          "",
          "",
          "",
          "",
          "",
          "",
          "",
          "",
          "",
          "",
          "",
          "",
          "",
          "",
          "",
          "",
          "",
          "",
          "",
          "",
          "",
          "",
          "",
          "",
          "",
          "",
          "",
          "",
          "",
          "",
          "",
          "",
          "",
          "",
          "",
          "",
          "",
          "",
          "",
          "",
          "",
          "",
          "",
          "",
          "",
          "",
          "",
          "",
          "",
          "",
          "",
          "",
          "",
          "",
          "",
          "",
          "",
          "",
          "",
          "",
          "",
          "",
          "",
          "",
          "",
          "",
          "",
          "",
          "",
          "",
          "",
          "",
          "",
          "",
          "",
          "",
          "",
          "",
          "",
          "",
          "",
          "",
          "",
          "",
          "",
          "",
          "",
          "",
          "",
          "",
          "",
          "",
          "",
          "",
          "",
          "",
          "",
          "",
          "",
          "",
          "",
          "",
          "",
          "",
          "",
          "",
          "",
          "",
          "",
          "",
          "",
          "",
          "",
          "",
          "",
          "",
          "",
          "",
          "",
          "",
          "",
          "",
          "",
          "",
          "",
          "",
          "",
          "",
          "",
          "",
          "",
          "",
          "",
          "",
          "",
          "",
          "",
          "",
          "",
          "",
          "",
          "",
          "",
          "",
          "",
          "",
          "",
          "",
          "",
          "",
          "",
          "",
          "",
          "",
          "",
          "",
          "",
          "",
          "",
          "",
          "",
          "",
          "",
          "",
          "",
          "",
          "",
          "",
          "",
          "",
          "",
          "",
          "",
          "",
          "",
          "",
          "",
          "",
          "",
          "",
          "",
          "",
          "",
          "",
          "",
          "",
          "",
          "",
          "",
          "",
          "",
          "",
          "",
          "",
          "",
          "",
          "",
          "",
          "",
          "",
          "",
          "",
          "",
          "",
          "",
          "",
          "",
          "",
          "",
          "",
          "",
          "",
          "",
          "",
          "",
          "",
          "",
          "",
          "",
          "",
          "",
          "",
          "",
          "",
          "",
          "",
          "",
          "",
          "",
          "",
          "",
          "",
          "",
          "",
          "",
          "",
          "",
          "",
          "",
          "",
          "",
          "",
          "",
          "",
          "",
          "",
          "",
          "",
          "",
          "",
          "",
          "",
          "",
          "",
          "",
          "",
          "",
          "",
          "",
          "",
          "",
          "",
          "",
          "",
          "",
          "",
          "",
          "",
          "",
          "",
          "",
          "",
          "",
          "",
          "",
          "",
          "",
          "",
          "",
          "",
          "",
          "",
          "",
          "",
          "",
          "",
          "",
          "",
          "",
          "",
          "",
          "",
          "",
          "",
          "",
          "",
          "",
          "",
          "",
          "",
          "",
          "",
          "",
          "",
          "",
          "",
          "",
          "",
          "",
          "",
          "",
          "",
          "",
          "",
          "",
          "",
          "",
          "",
          "",
          "",
          "",
          "",
          "",
          "",
          "",
          "",
          "",
          "",
          "",
          "",
          "",
          "",
          "",
          "",
          "",
          "",
          "",
          "",
          "",
          "",
          "",
          "",
          "",
          "",
          "",
          "",
          "",
          "",
          "",
          "",
          "",
          "",
          "",
          "",
          "",
          "",
          "",
          "",
          "",
          "",
          "",
          "",
          "",
          "",
          "",
          "",
          "",
          "",
          "",
          "",
          "",
          "",
          "",
          "",
          "",
          "",
          "",
          "",
          "",
          "",
          "",
          "",
          "",
          "",
          "",
          "",
          "",
          "",
          "",
          "",
          "",
          "",
          "",
          "",
          "",
          "",
          "",
          "",
          "",
          "",
          "",
          "",
          "",
          "",
          "",
          "",
          "",
          "",
          "",
          "",
          "",
          "",
          "",
          "",
          "",
          "",
          "",
          "",
          "",
          "",
          "",
          "",
          "",
          "",
          "",
          "",
          "",
          "",
          "",
          "",
          "",
          "",
          "",
          "",
          "",
          "",
          "",
          "",
          "",
          "",
          "",
          "",
          "",
          "",
          "",
          "",
          "",
          "",
          "",
          "",
          "",
          "",
          "",
          "",
          "",
          "",
          "",
          ""
         ],
         "type": "scattergl",
         "x": {
          "bdata": "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",
          "dtype": "f4"
         },
         "xaxis": "x",
         "y": {
          "bdata": "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",
          "dtype": "f4"
         },
         "yaxis": "y"
        },
        {
         "customdata": [
          [
           "chinese"
          ]
         ],
         "hovertemplate": "highlight=%{text}<br>x=%{x}<br>y=%{y}<br>word=%{customdata[0]}<extra></extra>",
         "legendgroup": "chinese",
         "marker": {
          "color": "#EF553B",
          "symbol": "circle"
         },
         "mode": "markers+text",
         "name": "chinese",
         "showlegend": true,
         "text": [
          "chinese"
         ],
         "type": "scattergl",
         "x": {
          "bdata": "tyYVQg==",
          "dtype": "f4"
         },
         "xaxis": "x",
         "y": {
          "bdata": "osVdwQ==",
          "dtype": "f4"
         },
         "yaxis": "y"
        },
        {
         "customdata": [
          [
           "china"
          ]
         ],
         "hovertemplate": "highlight=%{text}<br>x=%{x}<br>y=%{y}<br>word=%{customdata[0]}<extra></extra>",
         "legendgroup": "china",
         "marker": {
          "color": "#00cc96",
          "symbol": "circle"
         },
         "mode": "markers+text",
         "name": "china",
         "showlegend": true,
         "text": [
          "china"
         ],
         "type": "scattergl",
         "x": {
          "bdata": "GYAUQg==",
          "dtype": "f4"
         },
         "xaxis": "x",
         "y": {
          "bdata": "u4FfwQ==",
          "dtype": "f4"
         },
         "yaxis": "y"
        },
        {
         "customdata": [
          [
           "chinaman"
          ]
         ],
         "hovertemplate": "highlight=%{text}<br>x=%{x}<br>y=%{y}<br>word=%{customdata[0]}<extra></extra>",
         "legendgroup": "chinaman",
         "marker": {
          "color": "#ab63fa",
          "symbol": "circle"
         },
         "mode": "markers+text",
         "name": "chinaman",
         "showlegend": true,
         "text": [
          "chinaman"
         ],
         "type": "scattergl",
         "x": {
          "bdata": "gGoVQg==",
          "dtype": "f4"
         },
         "xaxis": "x",
         "y": {
          "bdata": "UhpxwQ==",
          "dtype": "f4"
         },
         "yaxis": "y"
        },
        {
         "customdata": [
          [
           "chinamen"
          ]
         ],
         "hovertemplate": "highlight=%{text}<br>x=%{x}<br>y=%{y}<br>word=%{customdata[0]}<extra></extra>",
         "legendgroup": "chinamen",
         "marker": {
          "color": "#FFA15A",
          "symbol": "circle"
         },
         "mode": "markers+text",
         "name": "chinamen",
         "showlegend": true,
         "text": [
          "chinamen"
         ],
         "type": "scattergl",
         "x": {
          "bdata": "6ngTQg==",
          "dtype": "f4"
         },
         "xaxis": "x",
         "y": {
          "bdata": "C9pqwQ==",
          "dtype": "f4"
         },
         "yaxis": "y"
        }
       ],
       "layout": {
        "height": 600,
        "legend": {
         "title": {
          "text": "highlight"
         },
         "tracegroupgap": 0
        },
        "template": {
         "data": {
          "bar": [
           {
            "error_x": {
             "color": "#2a3f5f"
            },
            "error_y": {
             "color": "#2a3f5f"
            },
            "marker": {
             "line": {
              "color": "#E5ECF6",
              "width": 0.5
             },
             "pattern": {
              "fillmode": "overlay",
              "size": 10,
              "solidity": 0.2
             }
            },
            "type": "bar"
           }
          ],
          "barpolar": [
           {
            "marker": {
             "line": {
              "color": "#E5ECF6",
              "width": 0.5
             },
             "pattern": {
              "fillmode": "overlay",
              "size": 10,
              "solidity": 0.2
             }
            },
            "type": "barpolar"
           }
          ],
          "carpet": [
           {
            "aaxis": {
             "endlinecolor": "#2a3f5f",
             "gridcolor": "white",
             "linecolor": "white",
             "minorgridcolor": "white",
             "startlinecolor": "#2a3f5f"
            },
            "baxis": {
             "endlinecolor": "#2a3f5f",
             "gridcolor": "white",
             "linecolor": "white",
             "minorgridcolor": "white",
             "startlinecolor": "#2a3f5f"
            },
            "type": "carpet"
           }
          ],
          "choropleth": [
           {
            "colorbar": {
             "outlinewidth": 0,
             "ticks": ""
            },
            "type": "choropleth"
           }
          ],
          "contour": [
           {
            "colorbar": {
             "outlinewidth": 0,
             "ticks": ""
            },
            "colorscale": [
             [
              0,
              "#0d0887"
             ],
             [
              0.1111111111111111,
              "#46039f"
             ],
             [
              0.2222222222222222,
              "#7201a8"
             ],
             [
              0.3333333333333333,
              "#9c179e"
             ],
             [
              0.4444444444444444,
              "#bd3786"
             ],
             [
              0.5555555555555556,
              "#d8576b"
             ],
             [
              0.6666666666666666,
              "#ed7953"
             ],
             [
              0.7777777777777778,
              "#fb9f3a"
             ],
             [
              0.8888888888888888,
              "#fdca26"
             ],
             [
              1,
              "#f0f921"
             ]
            ],
            "type": "contour"
           }
          ],
          "contourcarpet": [
           {
            "colorbar": {
             "outlinewidth": 0,
             "ticks": ""
            },
            "type": "contourcarpet"
           }
          ],
          "heatmap": [
           {
            "colorbar": {
             "outlinewidth": 0,
             "ticks": ""
            },
            "colorscale": [
             [
              0,
              "#0d0887"
             ],
             [
              0.1111111111111111,
              "#46039f"
             ],
             [
              0.2222222222222222,
              "#7201a8"
             ],
             [
              0.3333333333333333,
              "#9c179e"
             ],
             [
              0.4444444444444444,
              "#bd3786"
             ],
             [
              0.5555555555555556,
              "#d8576b"
             ],
             [
              0.6666666666666666,
              "#ed7953"
             ],
             [
              0.7777777777777778,
              "#fb9f3a"
             ],
             [
              0.8888888888888888,
              "#fdca26"
             ],
             [
              1,
              "#f0f921"
             ]
            ],
            "type": "heatmap"
           }
          ],
          "histogram": [
           {
            "marker": {
             "pattern": {
              "fillmode": "overlay",
              "size": 10,
              "solidity": 0.2
             }
            },
            "type": "histogram"
           }
          ],
          "histogram2d": [
           {
            "colorbar": {
             "outlinewidth": 0,
             "ticks": ""
            },
            "colorscale": [
             [
              0,
              "#0d0887"
             ],
             [
              0.1111111111111111,
              "#46039f"
             ],
             [
              0.2222222222222222,
              "#7201a8"
             ],
             [
              0.3333333333333333,
              "#9c179e"
             ],
             [
              0.4444444444444444,
              "#bd3786"
             ],
             [
              0.5555555555555556,
              "#d8576b"
             ],
             [
              0.6666666666666666,
              "#ed7953"
             ],
             [
              0.7777777777777778,
              "#fb9f3a"
             ],
             [
              0.8888888888888888,
              "#fdca26"
             ],
             [
              1,
              "#f0f921"
             ]
            ],
            "type": "histogram2d"
           }
          ],
          "histogram2dcontour": [
           {
            "colorbar": {
             "outlinewidth": 0,
             "ticks": ""
            },
            "colorscale": [
             [
              0,
              "#0d0887"
             ],
             [
              0.1111111111111111,
              "#46039f"
             ],
             [
              0.2222222222222222,
              "#7201a8"
             ],
             [
              0.3333333333333333,
              "#9c179e"
             ],
             [
              0.4444444444444444,
              "#bd3786"
             ],
             [
              0.5555555555555556,
              "#d8576b"
             ],
             [
              0.6666666666666666,
              "#ed7953"
             ],
             [
              0.7777777777777778,
              "#fb9f3a"
             ],
             [
              0.8888888888888888,
              "#fdca26"
             ],
             [
              1,
              "#f0f921"
             ]
            ],
            "type": "histogram2dcontour"
           }
          ],
          "mesh3d": [
           {
            "colorbar": {
             "outlinewidth": 0,
             "ticks": ""
            },
            "type": "mesh3d"
           }
          ],
          "parcoords": [
           {
            "line": {
             "colorbar": {
              "outlinewidth": 0,
              "ticks": ""
             }
            },
            "type": "parcoords"
           }
          ],
          "pie": [
           {
            "automargin": true,
            "type": "pie"
           }
          ],
          "scatter": [
           {
            "fillpattern": {
             "fillmode": "overlay",
             "size": 10,
             "solidity": 0.2
            },
            "type": "scatter"
           }
          ],
          "scatter3d": [
           {
            "line": {
             "colorbar": {
              "outlinewidth": 0,
              "ticks": ""
             }
            },
            "marker": {
             "colorbar": {
              "outlinewidth": 0,
              "ticks": ""
             }
            },
            "type": "scatter3d"
           }
          ],
          "scattercarpet": [
           {
            "marker": {
             "colorbar": {
              "outlinewidth": 0,
              "ticks": ""
             }
            },
            "type": "scattercarpet"
           }
          ],
          "scattergeo": [
           {
            "marker": {
             "colorbar": {
              "outlinewidth": 0,
              "ticks": ""
             }
            },
            "type": "scattergeo"
           }
          ],
          "scattergl": [
           {
            "marker": {
             "colorbar": {
              "outlinewidth": 0,
              "ticks": ""
             }
            },
            "type": "scattergl"
           }
          ],
          "scattermap": [
           {
            "marker": {
             "colorbar": {
              "outlinewidth": 0,
              "ticks": ""
             }
            },
            "type": "scattermap"
           }
          ],
          "scattermapbox": [
           {
            "marker": {
             "colorbar": {
              "outlinewidth": 0,
              "ticks": ""
             }
            },
            "type": "scattermapbox"
           }
          ],
          "scatterpolar": [
           {
            "marker": {
             "colorbar": {
              "outlinewidth": 0,
              "ticks": ""
             }
            },
            "type": "scatterpolar"
           }
          ],
          "scatterpolargl": [
           {
            "marker": {
             "colorbar": {
              "outlinewidth": 0,
              "ticks": ""
             }
            },
            "type": "scatterpolargl"
           }
          ],
          "scatterternary": [
           {
            "marker": {
             "colorbar": {
              "outlinewidth": 0,
              "ticks": ""
             }
            },
            "type": "scatterternary"
           }
          ],
          "surface": [
           {
            "colorbar": {
             "outlinewidth": 0,
             "ticks": ""
            },
            "colorscale": [
             [
              0,
              "#0d0887"
             ],
             [
              0.1111111111111111,
              "#46039f"
             ],
             [
              0.2222222222222222,
              "#7201a8"
             ],
             [
              0.3333333333333333,
              "#9c179e"
             ],
             [
              0.4444444444444444,
              "#bd3786"
             ],
             [
              0.5555555555555556,
              "#d8576b"
             ],
             [
              0.6666666666666666,
              "#ed7953"
             ],
             [
              0.7777777777777778,
              "#fb9f3a"
             ],
             [
              0.8888888888888888,
              "#fdca26"
             ],
             [
              1,
              "#f0f921"
             ]
            ],
            "type": "surface"
           }
          ],
          "table": [
           {
            "cells": {
             "fill": {
              "color": "#EBF0F8"
             },
             "line": {
              "color": "white"
             }
            },
            "header": {
             "fill": {
              "color": "#C8D4E3"
             },
             "line": {
              "color": "white"
             }
            },
            "type": "table"
           }
          ]
         },
         "layout": {
          "annotationdefaults": {
           "arrowcolor": "#2a3f5f",
           "arrowhead": 0,
           "arrowwidth": 1
          },
          "autotypenumbers": "strict",
          "coloraxis": {
           "colorbar": {
            "outlinewidth": 0,
            "ticks": ""
           }
          },
          "colorscale": {
           "diverging": [
            [
             0,
             "#8e0152"
            ],
            [
             0.1,
             "#c51b7d"
            ],
            [
             0.2,
             "#de77ae"
            ],
            [
             0.3,
             "#f1b6da"
            ],
            [
             0.4,
             "#fde0ef"
            ],
            [
             0.5,
             "#f7f7f7"
            ],
            [
             0.6,
             "#e6f5d0"
            ],
            [
             0.7,
             "#b8e186"
            ],
            [
             0.8,
             "#7fbc41"
            ],
            [
             0.9,
             "#4d9221"
            ],
            [
             1,
             "#276419"
            ]
           ],
           "sequential": [
            [
             0,
             "#0d0887"
            ],
            [
             0.1111111111111111,
             "#46039f"
            ],
            [
             0.2222222222222222,
             "#7201a8"
            ],
            [
             0.3333333333333333,
             "#9c179e"
            ],
            [
             0.4444444444444444,
             "#bd3786"
            ],
            [
             0.5555555555555556,
             "#d8576b"
            ],
            [
             0.6666666666666666,
             "#ed7953"
            ],
            [
             0.7777777777777778,
             "#fb9f3a"
            ],
            [
             0.8888888888888888,
             "#fdca26"
            ],
            [
             1,
             "#f0f921"
            ]
           ],
           "sequentialminus": [
            [
             0,
             "#0d0887"
            ],
            [
             0.1111111111111111,
             "#46039f"
            ],
            [
             0.2222222222222222,
             "#7201a8"
            ],
            [
             0.3333333333333333,
             "#9c179e"
            ],
            [
             0.4444444444444444,
             "#bd3786"
            ],
            [
             0.5555555555555556,
             "#d8576b"
            ],
            [
             0.6666666666666666,
             "#ed7953"
            ],
            [
             0.7777777777777778,
             "#fb9f3a"
            ],
            [
             0.8888888888888888,
             "#fdca26"
            ],
            [
             1,
             "#f0f921"
            ]
           ]
          },
          "colorway": [
           "#636efa",
           "#EF553B",
           "#00cc96",
           "#ab63fa",
           "#FFA15A",
           "#19d3f3",
           "#FF6692",
           "#B6E880",
           "#FF97FF",
           "#FECB52"
          ],
          "font": {
           "color": "#2a3f5f"
          },
          "geo": {
           "bgcolor": "white",
           "lakecolor": "white",
           "landcolor": "#E5ECF6",
           "showlakes": true,
           "showland": true,
           "subunitcolor": "white"
          },
          "hoverlabel": {
           "align": "left"
          },
          "hovermode": "closest",
          "mapbox": {
           "style": "light"
          },
          "paper_bgcolor": "white",
          "plot_bgcolor": "#E5ECF6",
          "polar": {
           "angularaxis": {
            "gridcolor": "white",
            "linecolor": "white",
            "ticks": ""
           },
           "bgcolor": "#E5ECF6",
           "radialaxis": {
            "gridcolor": "white",
            "linecolor": "white",
            "ticks": ""
           }
          },
          "scene": {
           "xaxis": {
            "backgroundcolor": "#E5ECF6",
            "gridcolor": "white",
            "gridwidth": 2,
            "linecolor": "white",
            "showbackground": true,
            "ticks": "",
            "zerolinecolor": "white"
           },
           "yaxis": {
            "backgroundcolor": "#E5ECF6",
            "gridcolor": "white",
            "gridwidth": 2,
            "linecolor": "white",
            "showbackground": true,
            "ticks": "",
            "zerolinecolor": "white"
           },
           "zaxis": {
            "backgroundcolor": "#E5ECF6",
            "gridcolor": "white",
            "gridwidth": 2,
            "linecolor": "white",
            "showbackground": true,
            "ticks": "",
            "zerolinecolor": "white"
           }
          },
          "shapedefaults": {
           "line": {
            "color": "#2a3f5f"
           }
          },
          "ternary": {
           "aaxis": {
            "gridcolor": "white",
            "linecolor": "white",
            "ticks": ""
           },
           "baxis": {
            "gridcolor": "white",
            "linecolor": "white",
            "ticks": ""
           },
           "bgcolor": "#E5ECF6",
           "caxis": {
            "gridcolor": "white",
            "linecolor": "white",
            "ticks": ""
           }
          },
          "title": {
           "x": 0.05
          },
          "xaxis": {
           "automargin": true,
           "gridcolor": "white",
           "linecolor": "white",
           "ticks": "",
           "title": {
            "standoff": 15
           },
           "zerolinecolor": "white",
           "zerolinewidth": 2
          },
          "yaxis": {
           "automargin": true,
           "gridcolor": "white",
           "linecolor": "white",
           "ticks": "",
           "title": {
            "standoff": 15
           },
           "zerolinecolor": "white",
           "zerolinewidth": 2
          }
         }
        },
        "title": {
         "text": "t-SNE Visualization of legal-BERT Word Embeddings"
        },
        "width": 800,
        "xaxis": {
         "anchor": "y",
         "domain": [
          0,
          1
         ],
         "title": {
          "text": "x"
         }
        },
        "yaxis": {
         "anchor": "x",
         "domain": [
          0,
          1
         ],
         "title": {
          "text": "y"
         }
        }
       }
      }
     },
     "metadata": {},
     "output_type": "display_data"
    }
   ],
   "source": [
    "# Create a DataFrame for visualization\n",
    "import plotly.express as px\n",
    "\n",
    "df_tsne = pd.DataFrame(tsne_results, columns=['x', 'y'])\n",
    "df_tsne['word'] = list(word_embeddings.keys())\n",
    "# Highlight the word 'chinese' in the plot\n",
    "keywords = [\"chinese\", \"china\", \"chinaman\", \"chinamen\"]\n",
    "df_tsne['highlight'] = df_tsne['word'].apply(lambda x: x if x in keywords else '')\n",
    "\n",
    "fig = px.scatter(\n",
    "    df_tsne,\n",
    "    x='x',\n",
    "    y='y',\n",
    "    title='t-SNE Visualization of legal-BERT Word Embeddings',\n",
    "    color='highlight',                        \n",
    "    hover_data=['word'], \n",
    "    text= 'highlight',\n",
    "    height=600,\n",
    "    width=800\n",
    ")\n",
    "\n",
    "fig.show()"
   ]
  },
  {
   "cell_type": "markdown",
   "id": "ba3d1cc5",
   "metadata": {},
   "source": [
    "> **Discussion:**\n",
    ">\n",
    "> - Based on your reading of the original text documents, do you think the word embeddings generated by LEGAL-BERT accurately capture the meaning and context of the words in the corpus? \n",
    "> - Are there any specific words or phrases that you think should be included in the embeddings to better represent the legal language and concepts in the text?"
   ]
  },
  {
   "cell_type": "markdown",
   "id": "92c339eb",
   "metadata": {},
   "source": [
    "### Text Embedding and Analysis of Crease and Begbie Corpus Including Their Reports at the Royal Commission on Chinese Immigrants"
   ]
  },
  {
   "cell_type": "markdown",
   "id": "c4a9d2c1",
   "metadata": {},
   "source": [
    "The first comparison that we really want to make is between Justice Crease and Justice Begbie, as they are both significant figures in the history of BC law. We want to see how they are similar or different in their stances towards Chinese immigrants, and how their language reflects their attitudes. \n",
    "\n",
    "For this comparison, we will use the corpora including both their legal cases involving Chinese immigrants and their reports at the Royal Commission on Chinese immigrants. "
   ]
  },
  {
   "cell_type": "code",
   "execution_count": 14,
   "id": "619d441b",
   "metadata": {},
   "outputs": [],
   "source": [
    "# Compile the Crease texts into a single text list\n",
    "crease_texts = df[df['author'] == 'Crease']['text'].tolist()\n",
    "\n",
    "# Compile the Begbie texts into a single text list\n",
    "begbie_texts = df[df['author'] == 'Begbie']['text'].tolist()\n",
    "\n",
    "# Combine both lists in a dictionary\n",
    "judge_dict = {\n",
    "    'Crease': crease_texts,\n",
    "    'Begbie': begbie_texts\n",
    "}"
   ]
  },
  {
   "cell_type": "markdown",
   "id": "a1406c72",
   "metadata": {},
   "source": [
    "Since we are more interested in the stance contained in sentences, here we will use **sentence embeddings** instead of word embeddings. Sentence embeddings are a way to represent entire sentences as vectors in a high-dimensional space, capturing the semantic meaning of the sentence as a whole. This is particularly useful for comparing the overall meaning and sentiment of different sentences, rather than just individual words.\n",
    "\n",
    "We will use the same LEGAL-BERT model to generate sentence embeddings, with a customized approach to handle the text data. What I will do is to create a function that takes a list of sentences as input, focusing on the selected \"keywords\" that we want to analyze and the \"window\" around it to detect the context of the keywords. The function will then generate embeddings for each sentence in the list. \n",
    "\n",
    "With this approach, we can effectively capture the context and meaning of the sentences in relation to the keywords, which is crucial for understanding the stances of Justice Crease and Justice Begbie. "
   ]
  },
  {
   "cell_type": "code",
   "execution_count": 15,
   "id": "82fe1fd0",
   "metadata": {},
   "outputs": [],
   "source": [
    "# Define a function to embed text using the model\n",
    "from typing import Union, List\n",
    "\n",
    "def embed_text(\n",
    "    text,\n",
    "    focus_token= None,\n",
    "    window = 10,\n",
    "    pooling = \"mean\",  # \"mean\" (default), \"max\", or \"min\"\n",
    "    tokenizer=tokenizer,\n",
    "    model=model):\n",
    "\n",
    "    # Run the model once\n",
    "    inputs = tokenizer(text, return_tensors=\"pt\", truncation=True)\n",
    "    with torch.no_grad():\n",
    "        outputs = model(**inputs)\n",
    "    hidden = outputs.last_hidden_state.squeeze(0) \n",
    "\n",
    "    if focus_token is None:\n",
    "        return hidden[0].cpu().numpy()\n",
    "    \n",
    "    # Normalize to list\n",
    "    keywords = (\n",
    "        [focus_token] if isinstance(focus_token, str)\n",
    "        else focus_token\n",
    "    )\n",
    "\n",
    "    # Pre-tokenize each keyword to its subtoken ids\n",
    "    kw_token_ids = {\n",
    "        kw: tokenizer.convert_tokens_to_ids(tokenizer.tokenize(kw))\n",
    "        for kw in keywords\n",
    "    }\n",
    "\n",
    "    input_ids = inputs[\"input_ids\"].squeeze(0).tolist()\n",
    "    spans = []  # list of (start, end) index pairs\n",
    "\n",
    "    # find every match of every keyword\n",
    "    for kw, sub_ids in kw_token_ids.items():\n",
    "        L = len(sub_ids)\n",
    "        for i in range(len(input_ids) - L + 1):\n",
    "            if input_ids[i:i+L] == sub_ids:\n",
    "                spans.append((i, i+L))\n",
    "\n",
    "    if not spans:\n",
    "        # fallback on CLS vector\n",
    "        return hidden[0].cpu().numpy()\n",
    "\n",
    "    # For each span, grab the window around it\n",
    "    vecs = []\n",
    "    for (start, end) in spans:\n",
    "        lo = max(1, start - window)\n",
    "        hi = min(hidden.size(0), end + window)\n",
    "        # mean‑pool over all tokens in this extended window\n",
    "        span_vec = hidden[lo:hi]\n",
    "        \n",
    "        if pooling == \"mean\":\n",
    "            pooled = span_vec.mean(dim=0)\n",
    "        elif pooling == \"max\":\n",
    "            pooled = span_vec.max(dim=0).values\n",
    "        elif pooling == \"min\":\n",
    "            pooled = span_vec.min(dim=0).values\n",
    "        else:\n",
    "            raise ValueError(f\"Unknown pooling method: {pooling}\")\n",
    "        \n",
    "        vecs.append(pooled.cpu().numpy())\n",
    "\n",
    "    # Average across all spans\n",
    "    return np.mean(np.stack(vecs, axis=0), axis=0)"
   ]
  },
  {
   "cell_type": "markdown",
   "id": "639d8758",
   "metadata": {},
   "source": [
    "We then define a list of keywords that we want to focus on in our analysis. These keywords are either the direct mentions of \"Chinese\" and \"Chinaman\" or related terms such as \"immigrant\" and \"alien\". We will use these keywords to filter the sentences that we want to analyze, ensuring that we capture the relevant context and meaning of the sentences in relation to the keywords.\n",
    "\n",
    "Then we create a dictionary to hold the filtered sentences for each author and construct a snippets of sentences that contain the keywords. This allows us to focus on the specific sentences that are relevant to our analysis, rather than analyzing the entire text of each document."
   ]
  },
  {
   "cell_type": "code",
   "execution_count": 16,
   "id": "99007dfd",
   "metadata": {},
   "outputs": [],
   "source": [
    "from nltk import sent_tokenize \n",
    "# Create a dictionary to hold the mentionings of \"Chinese\" by author\n",
    "judge_snippets = {}\n",
    "\n",
    "keywords = [\"Chinese\", \"China\", \"Chinaman\", \"Chinamen\", \"immigrant\", \"immigrants\", \"immigration\", \"alien\", \"aliens\"]\n",
    "for auth, texts in judge_dict.items():\n",
    "    snippets = []\n",
    "    for txt in texts:\n",
    "        sentence = sent_tokenize(txt)\n",
    "        for sent in sentence:\n",
    "            if any(keyword in sent for keyword in keywords):\n",
    "                snippets.append(sent)\n",
    "    judge_snippets[auth] = snippets"
   ]
  },
  {
   "cell_type": "code",
   "execution_count": 17,
   "id": "af029422",
   "metadata": {},
   "outputs": [
    {
     "name": "stdout",
     "output_type": "stream",
     "text": [
      "Snippet size by author:\n",
      "Crease: 151\n",
      "Begbie: 109\n"
     ]
    }
   ],
   "source": [
    "# Investigate the length of the snippets\n",
    "n_snippet = {auth: len(snippets) for auth, snippets in judge_snippets.items()}\n",
    "\n",
    "print(\"Snippet size by author:\")\n",
    "for auth, num in n_snippet.items():\n",
    "    print(f\"{auth}: {num}\")\n",
    "    "
   ]
  },
  {
   "cell_type": "markdown",
   "id": "d79bb1c8",
   "metadata": {},
   "source": [
    "We also create a list to hold the names of other ethnicities that we want to use as a reference. We embed this list of ethnicities using the same embedding function and average the embeddings to create an \"ethnicity anchor\". This anchor will be used to compare how much the ethnicity factors are contributing to the stance of the judges."
   ]
  },
  {
   "cell_type": "code",
   "execution_count": 18,
   "id": "60a21e43",
   "metadata": {},
   "outputs": [
    {
     "name": "stderr",
     "output_type": "stream",
     "text": [
      "c:\\Users\\Kaiyan Zhang\\AppData\\Local\\Programs\\Python\\Python312\\Lib\\site-packages\\torch\\nn\\modules\\module.py:1762: FutureWarning:\n",
      "\n",
      "`encoder_attention_mask` is deprecated and will be removed in version 4.55.0 for `BertSdpaSelfAttention.forward`.\n",
      "\n"
     ]
    }
   ],
   "source": [
    "# Define an ethnicity anchor, not including \"chinese\"\n",
    "ethnicities = [\n",
    "    \"Japanese\",   \"Korean\",    \"Vietnamese\",\n",
    "    \"Filipino\",    \"Thai\",       \"Malay\",     \"Indian\",\n",
    "    \"Pakistani\",   \"Bangladeshi\",\"Nepalese\",  \"Tibetan\",\n",
    "    \"Arab\",        \"Persian\",    \"Turkish\",   \"Slavic\",\n",
    "    \"Germanic\",    \"Celtic\",     \"Slavic\",    \"Romani\",\n",
    "    \"Jewish\",      \"Zulu\",       \"Xhosa\",     \"Maori\",\n",
    "    \"Sami\",        \"Berber\",     \"Tamil\",     \"Punjabi\",\n",
    "    \"Bengali\",     \"Kazakh\",     \"Uyghur\"\n",
    "]\n",
    "\n",
    "# Create embeddings\n",
    "eth_vecs = []\n",
    "for e in ethnicities:\n",
    "    eth_vecs.append(embed_text(e))\n",
    "    \n",
    "eth_anchor = np.mean(eth_vecs, axis=0)"
   ]
  },
  {
   "cell_type": "markdown",
   "id": "4b36129c",
   "metadata": {},
   "source": [
    "Then, it is time to create the embeddings for the snippets of sentences that we have filtered. We apply the same embedding function to the snippets of each judge, respectively. We store the embeddings in a dictionary, where the keys are the authors and the values are lists of embeddings for each snippet."
   ]
  },
  {
   "cell_type": "code",
   "execution_count": 19,
   "id": "ac0a99b4",
   "metadata": {},
   "outputs": [],
   "source": [
    "# Create embeddings\n",
    "embeddings_dict = {'Crease': [], 'Begbie': []}\n",
    "\n",
    "for auth, snippets in judge_snippets.items():\n",
    "    for snip in snippets:\n",
    "        v = embed_text(snip, focus_token=keywords, window=15)\n",
    "        embeddings_dict[auth].append(v)\n"
   ]
  },
  {
   "cell_type": "markdown",
   "id": "7738f846",
   "metadata": {},
   "source": [
    "We also create a dictionary to hold the embeddings of both judges subtracting the ethnicity anchor. This allows us to compare the stances of the judges controlling for the ethnicity factor."
   ]
  },
  {
   "cell_type": "code",
   "execution_count": 20,
   "id": "e389a993",
   "metadata": {},
   "outputs": [],
   "source": [
    "# Create embeddings that subtract the ethnicity anchor\n",
    "subtracted_embeddings_dict = {'Crease': [], 'Begbie': []}\n",
    "\n",
    "for auth, embeddings in embeddings_dict.items():\n",
    "    for emb in embeddings:\n",
    "        v = emb - eth_anchor\n",
    "        subtracted_embeddings_dict[auth].append(v)"
   ]
  },
  {
   "cell_type": "markdown",
   "id": "956f3ad6",
   "metadata": {},
   "source": [
    "Our way of comparing the cosine similarity between the embeddings of the snippets is to take the mean of the embeddings for each judge and then calculate the cosine similarity between the mean embeddings. This gives us a measure of how similar the stances of the judges are on average."
   ]
  },
  {
   "cell_type": "code",
   "execution_count": 21,
   "id": "765bed0c",
   "metadata": {},
   "outputs": [
    {
     "name": "stdout",
     "output_type": "stream",
     "text": [
      "Cosine similarity between mean Crease and mean Begbie: 0.9947\n"
     ]
    }
   ],
   "source": [
    "from sklearn.metrics.pairwise import cosine_similarity\n",
    "\n",
    "# Compute per author mean and cosine similarity\n",
    "mean_crease = np.mean(embeddings_dict[\"Crease\"], axis=0, keepdims=True)  \n",
    "mean_begbie = np.mean(embeddings_dict[\"Begbie\"], axis=0, keepdims=True)\n",
    "\n",
    "# Compute the pairwise cosine similarity\n",
    "sim_crease_begbie = cosine_similarity(mean_crease, mean_begbie)[0, 0] \n",
    "\n",
    "print(f\"Cosine similarity between mean Crease and mean Begbie: {sim_crease_begbie:.4f}\")"
   ]
  },
  {
   "cell_type": "markdown",
   "id": "4f57e6a9",
   "metadata": {},
   "source": [
    "We can also compare the cosine similarities between the two mean embeddings with ethnicity anchor removed. This allows us to see if the ethnicity factor is contributing positively or negatively to the stances of the judges."
   ]
  },
  {
   "cell_type": "code",
   "execution_count": 22,
   "id": "fabad212",
   "metadata": {},
   "outputs": [
    {
     "name": "stdout",
     "output_type": "stream",
     "text": [
      "Cosine similarity between mean Crease and mean Begbie with ethical axis removed: 0.9970\n"
     ]
    }
   ],
   "source": [
    "# Compute per author mean and cosine similarity\n",
    "subtracted_mean_crease = np.mean(subtracted_embeddings_dict[\"Crease\"], axis=0, keepdims=True)  \n",
    "subtracted_mean_begbie = np.mean(subtracted_embeddings_dict[\"Begbie\"], axis=0, keepdims=True)\n",
    "\n",
    "# Compute the pairwise cosine similarity\n",
    "sim_crease_begbie_sub = cosine_similarity(subtracted_mean_crease, subtracted_mean_begbie)[0, 0] \n",
    "\n",
    "print(f\"Cosine similarity between mean Crease and mean Begbie with ethical axis removed: {sim_crease_begbie_sub:.4f}\")"
   ]
  },
  {
   "cell_type": "markdown",
   "id": "9073be67",
   "metadata": {},
   "source": [
    "We can also calculate the cosine similarity between the max embeddings of the snippets for each judge. This gives us a measure of how similar the most extreme stances of the judges are. Similarly, the cosine similarity between the min embeddings of the snippets for each judge can be calculated to see how similar the least extreme stances of the judges are."
   ]
  },
  {
   "cell_type": "code",
   "execution_count": 23,
   "id": "7a5ac342",
   "metadata": {},
   "outputs": [
    {
     "name": "stdout",
     "output_type": "stream",
     "text": [
      "Cosine similarity between max Crease and max Begbie: 0.9782\n",
      "Cosine similarity between min Crease and min Begbie: 0.9832\n"
     ]
    }
   ],
   "source": [
    "# We check the cosine similarity of max and min embeddings\n",
    "max_crease = np.max(embeddings_dict[\"Crease\"], axis=0, keepdims=True)\n",
    "min_crease = np.min(embeddings_dict[\"Crease\"], axis=0, keepdims=True)\n",
    "max_begbie = np.max(embeddings_dict[\"Begbie\"], axis=0, keepdims=True)\n",
    "min_begbie = np.min(embeddings_dict[\"Begbie\"], axis=0, keepdims=True)\n",
    "\n",
    "sim_crease_begbie_max = cosine_similarity(max_crease, max_begbie)[0, 0]\n",
    "sim_crease_begbie_min = cosine_similarity(min_crease, min_begbie)[0, 0]\n",
    "\n",
    "print(f\"Cosine similarity between max Crease and max Begbie: {sim_crease_begbie_max:.4f}\")\n",
    "print(f\"Cosine similarity between min Crease and min Begbie: {sim_crease_begbie_min:.4f}\")"
   ]
  },
  {
   "cell_type": "markdown",
   "id": "767f6735",
   "metadata": {},
   "source": [
    "Finally, we calculate the the cosine similarities between all the embeddings of the snippets for Crease and Begbie, and take the mean of the cosine similarities to get a measure of how similar the stances of the two judges are across all snippets. This gives us a more comprehensive understanding of the overall similarity between the two judges' stances towards Chinese."
   ]
  },
  {
   "cell_type": "code",
   "execution_count": 24,
   "id": "ba3aa5b3",
   "metadata": {},
   "outputs": [
    {
     "name": "stdout",
     "output_type": "stream",
     "text": [
      "Mean cosine similarity between Crease and Begbie embeddings: 0.8660\n"
     ]
    }
   ],
   "source": [
    "# Extract embeddings for Crease and Begbie\n",
    "crease_embeddings = embeddings_dict[\"Crease\"]\n",
    "begbie_embeddings = embeddings_dict[\"Begbie\"]\n",
    "\n",
    "# Calculate cosine similarity for all pairs of embeddings\n",
    "similarities = []\n",
    "for emb1 in crease_embeddings:\n",
    "    for emb2 in begbie_embeddings:\n",
    "        similarity = 1 - cosine(emb1, emb2) \n",
    "        similarities.append(similarity)\n",
    "\n",
    "# Calculate the mean of all similarities\n",
    "mean_similarity = sum(similarities) / len(similarities)\n",
    "\n",
    "print(f\"Mean cosine similarity between Crease and Begbie embeddings: {mean_similarity:.4f}\")"
   ]
  },
  {
   "cell_type": "markdown",
   "id": "549599cb",
   "metadata": {},
   "source": [
    "We can also resample with replacement to get a **confidence interval** for the cosine similarity. This allows us to see how robust the similarity measure is and how much it varies across different samples of the data."
   ]
  },
  {
   "cell_type": "code",
   "execution_count": 25,
   "id": "5fe9fcb4",
   "metadata": {},
   "outputs": [
    {
     "data": {
      "image/png": "[encoded data removed]",
      "text/plain": [
       "<Figure size 800x400 with 1 Axes>"
      ]
     },
     "metadata": {},
     "output_type": "display_data"
    },
    {
     "name": "stdout",
     "output_type": "stream",
     "text": [
      "Bootstrap mean cosine similarity between Crease and Begbie: 0.8683\n",
      "95% Confidence Interval: [0.8640, 0.8726]\n"
     ]
    }
   ],
   "source": [
    "import matplotlib.pyplot as plt\n",
    "# We can bootstrap the similarity score to get a confidence interval\n",
    "crease_embeddings = np.array(crease_embeddings)\n",
    "begbie_embeddings = np.array(crease_embeddings)\n",
    "\n",
    "# Convert to arrays\n",
    "crease_embeddings = np.vstack(crease_embeddings)\n",
    "begbie_embeddings = np.vstack(begbie_embeddings)\n",
    "\n",
    "n_boot = 1000 \n",
    "cosine_scores = []\n",
    "\n",
    "for _ in range(n_boot):\n",
    "    # Sample with replacement\n",
    "    crease_sample = crease_embeddings[np.random.choice(len(crease_embeddings), size=len(crease_embeddings), replace=True)]\n",
    "    begbie_sample = begbie_embeddings[np.random.choice(len(begbie_embeddings), size=len(begbie_embeddings), replace=True)]\n",
    "    \n",
    "    # Compute cosine similarity for all pairs of sampled embeddings\n",
    "    similarities = []\n",
    "    for emb1 in crease_sample:\n",
    "        for emb2 in begbie_sample:\n",
    "            similarity = 1 - cosine(emb1, emb2) \n",
    "            similarities.append(similarity)\n",
    "    \n",
    "    # Compute mean similarity\n",
    "    cos_sim = np.mean(similarities)\n",
    "    cosine_scores.append(cos_sim)\n",
    "\n",
    "# Convert to numpy array\n",
    "cosine_scores = np.array(cosine_scores)\n",
    "\n",
    "# Compute 95% confidence interval\n",
    "lower = np.percentile(cosine_scores, 2.5)\n",
    "upper = np.percentile(cosine_scores, 97.5)\n",
    "mean_sim = np.mean(cosine_scores)\n",
    "\n",
    "# Plot the bootstrap distribution\n",
    "plt.figure(figsize=(8, 4))\n",
    "plt.hist(cosine_scores, bins=30, color='skyblue', edgecolor='black', alpha=0.7)\n",
    "\n",
    "# Add lines for mean and confidence interval\n",
    "plt.axvline(mean_sim, color='black', linestyle='-', linewidth=2, label=f'Mean: {mean_sim:.4f}')\n",
    "plt.axvline(lower, color='red', linestyle='--', linewidth=2, label=f'2.5%: {lower:.4f}')\n",
    "plt.axvline(upper, color='green', linestyle='--', linewidth=2, label=f'97.5%: {upper:.4f}')\n",
    "\n",
    "plt.title('Bootstrap Distribution of Cosine Similarity Between Crease and Begbie')\n",
    "plt.xlabel('Cosine Similarity')\n",
    "plt.ylabel('Frequency')\n",
    "plt.legend()\n",
    "plt.tight_layout()\n",
    "plt.show()\n",
    "\n",
    "# Print the results\n",
    "print(f\"Bootstrap mean cosine similarity between Crease and Begbie: {mean_sim:.4f}\")\n",
    "print(f\"95% Confidence Interval: [{lower:.4f}, {upper:.4f}]\")"
   ]
  },
  {
   "cell_type": "code",
   "execution_count": 26,
   "id": "a6a51433",
   "metadata": {},
   "outputs": [
    {
     "data": {
      "image/png": "[encoded data removed]",
      "text/plain": [
       "<Figure size 800x400 with 1 Axes>"
      ]
     },
     "metadata": {},
     "output_type": "display_data"
    },
    {
     "name": "stdout",
     "output_type": "stream",
     "text": [
      "Bootstrap mean cosine similarity between Crease and Begbie with ethnical axis removed: 0.9195\n",
      "95% Confidence Interval: [0.9167, 0.9221]\n"
     ]
    }
   ],
   "source": [
    "# Similarly, bootstrap the similarity score to get a confidence interval\n",
    "crease_embeddings = np.array(subtracted_embeddings_dict[\"Crease\"])\n",
    "begbie_embeddings = np.array(subtracted_embeddings_dict[\"Begbie\"])\n",
    "\n",
    "# Convert to arrays\n",
    "crease_embeddings = np.vstack(crease_embeddings)\n",
    "begbie_embeddings = np.vstack(begbie_embeddings)\n",
    "\n",
    "n_boot = 1000 \n",
    "subtracted_cosine_scores = []\n",
    "\n",
    "for _ in range(n_boot):\n",
    "    # Sample with replacement\n",
    "    crease_sample = crease_embeddings[np.random.choice(len(crease_embeddings), size=len(crease_embeddings), replace=True)]\n",
    "    begbie_sample = begbie_embeddings[np.random.choice(len(begbie_embeddings), size=len(begbie_embeddings), replace=True)]\n",
    "    \n",
    "    # Compute cosine similarity for all pairs of sampled embeddings\n",
    "    similarities = []\n",
    "    for emb1 in crease_sample:\n",
    "        for emb2 in begbie_sample:\n",
    "            similarity = 1 - cosine(emb1, emb2) \n",
    "            similarities.append(similarity)\n",
    "    \n",
    "    # Compute mean similarity\n",
    "    cos_sim = np.mean(similarities)\n",
    "    subtracted_cosine_scores.append(cos_sim)\n",
    "\n",
    "\n",
    "# Convert to numpy array\n",
    "subtracted_cosine_scores = np.array(subtracted_cosine_scores)\n",
    "\n",
    "# Compute 95% confidence interval\n",
    "lower = np.percentile(subtracted_cosine_scores, 2.5)\n",
    "upper = np.percentile(subtracted_cosine_scores, 97.5)\n",
    "mean_sim = np.mean(subtracted_cosine_scores)\n",
    "\n",
    "# Plot the bootstrap distribution\n",
    "plt.figure(figsize=(8, 4))\n",
    "plt.hist(subtracted_cosine_scores, bins=30, color='skyblue', edgecolor='black', alpha=0.7)\n",
    "\n",
    "# Add lines for mean and confidence interval\n",
    "plt.axvline(mean_sim, color='black', linestyle='-', linewidth=2, label=f'Mean: {mean_sim:.4f}')\n",
    "plt.axvline(lower, color='red', linestyle='--', linewidth=2, label=f'2.5%: {lower:.4f}')\n",
    "plt.axvline(upper, color='green', linestyle='--', linewidth=2, label=f'97.5%: {upper:.4f}')\n",
    "\n",
    "plt.title('Bootstrap Distribution of Cosine Similarity Between Crease and Begbie (with Ethnical Axis Removed)')\n",
    "plt.xlabel('Cosine Similarity')\n",
    "plt.ylabel('Frequency')\n",
    "plt.legend()\n",
    "plt.tight_layout()\n",
    "plt.show()\n",
    "\n",
    "# Print the results\n",
    "print(f\"Bootstrap mean cosine similarity between Crease and Begbie with ethnical axis removed: {mean_sim:.4f}\")\n",
    "print(f\"95% Confidence Interval: [{lower:.4f}, {upper:.4f}]\")"
   ]
  },
  {
   "cell_type": "markdown",
   "id": "fdaaa68e",
   "metadata": {},
   "source": [
    "We use a **t-test** to see if the ethnicity factor is contributing significantly to the stances of the judges. The t-test compares the means of the mean cosine similarities with and without the ethnicity anchor removed. If the p-value is less than 0.05, we can conclude that the difference is statistically significant, indicating that the stance of the judges is significantly influenced by their underlying ethnic biases."
   ]
  },
  {
   "cell_type": "code",
   "execution_count": 27,
   "id": "a1126d12",
   "metadata": {},
   "outputs": [
    {
     "name": "stdout",
     "output_type": "stream",
     "text": [
      "t-statistic: 618.4550\n",
      "p-value: 0.0000\n",
      "The difference in mean cosine similarity is statistically significant.\n"
     ]
    }
   ],
   "source": [
    "# Testing if the ethnical axis removal has a significant effect on the similarity score\n",
    "# We can use a bootstrapped t-test to compare the means of the two distributions\n",
    "from scipy.stats import ttest_ind\n",
    "\n",
    "# Perform bootstrapped t-test\n",
    "t_stat, p_value = ttest_ind(subtracted_cosine_scores, cosine_scores, equal_var=False)\n",
    "\n",
    "# Print the results\n",
    "print(f\"t-statistic: {t_stat:.4f}\")\n",
    "print(f\"p-value: {p_value:.4f}\")\n",
    "\n",
    "if p_value < 0.05:\n",
    "    print(\"The difference in mean cosine similarity is statistically significant.\")\n",
    "else:\n",
    "    print(\"The difference in mean cosine similarity is not statistically significant.\")"
   ]
  },
  {
   "cell_type": "markdown",
   "id": "1abd9959",
   "metadata": {},
   "source": [
    "With the above test on embeddings with or without the ethnical axis, we confirmed that the difference between cosine similarities of Crease and Begbie are statistically significantly biased by the ethnicity factors. However, how significant is the difference in reality? This is up to you to decide based on your reading of the original text documents.\n",
    "\n",
    ">**Discussion:**\n",
    ">\n",
    "> - Based on your understanding of the original text documents, do you think the ethnicity factor is biasing the stances of the two judges? \n",
    "> - Which comparison above do you think is a good measure of similarity between the stances of the judges? \n",
    "> - Are there any other factors that you think should be considered in this analysis?"
   ]
  },
  {
   "cell_type": "markdown",
   "id": "1d5e8110",
   "metadata": {},
   "source": [
    "Just as we used t-SNE to visualize the word embeddings, we can also visualize the sentence embeddings using similar techniques. Here, we use **UMAP** to reduce the dimensionality of the sentence embeddings and visualize them in a 2D space, and visualize an interactive plot of the embeddings of the snippets for both judges with sentences hovering over the points. Play with the plot to see what interesting patterns you can find."
   ]
  },
  {
   "cell_type": "code",
   "execution_count": 28,
   "id": "92a4a97d",
   "metadata": {},
   "outputs": [],
   "source": [
    "# Create UMAP projection for visualization\n",
    "import umap \n",
    "\n",
    "all_vecs = np.vstack(embeddings_dict[\"Crease\"] + embeddings_dict[\"Begbie\"])\n",
    "labels  = ([\"Crease\"] * len(embeddings_dict[\"Crease\"])) + ([\"Begbie\"] * len(embeddings_dict[\"Begbie\"]))\n",
    "\n",
    "reducer = umap.UMAP(n_neighbors=15, min_dist=0.1)\n",
    "proj = reducer.fit_transform(all_vecs) "
   ]
  },
  {
   "cell_type": "code",
   "execution_count": 29,
   "id": "2fffceb5",
   "metadata": {},
   "outputs": [
    {
     "data": {
      "application/vnd.plotly.v1+json": {
       "config": {
        "plotlyServerURL": "https://plot.ly"
       },
       "data": [
        {
         "customdata": [
          [
           "14th & 15th July, Certiorari—“Chinese Regulation<br>Act, 1884,” s. 5—Constitutionality—B.N.A."
          ],
          [
           "Held, that the “Chinese Regulation Act, 1884,” is<br>ultra vires of the Provincial Legislature, on the<br>following grounds:  1."
          ],
          [
           "It is an infraction of the existing treaties<br>between the Imperial Government and China."
          ],
          [
           "14th & 15th July—On the return of a writ of<br>certiorari directed to Edwin Johnson, Esquire,<br>Police Magistrate for the City of Victoria, to<br>return into this Court a certain conviction made<br>by him under which one Wing Chong was fined $20<br>for not having in his possession a license issued<br>under the “Chinese Regulation Act, 1884.”  The<br>Attorney-General in support of the conviction said<br>there were five points raised on the rule for the<br>certiorari against the validity of the $10<br>tax.—1st."
          ],
          [
           "Act, aliens, and naturalization; 2nd."
          ],
          [
           "As to the first point aliens were as much subject<br>to taxation as citizens."
          ],
          [
           "The law did not deal with the conditions under<br>which aliens might acquire rights or become<br>subjects of Her Majesty."
          ],
          [
           "Its object, though not apparent on the face of the<br>Act, was to prevent Chinese coming into the<br>Province and drive out those who had already come."
          ],
          [
           "He reviewed the legislation against Chinese since<br>confederation, contending it was levelled against<br>a particular race of aliens and, therefore, beyond<br>provincial control, per *Gwynne*, J., in *Citizens<br>Insurance Co. v. Parsons*, 4 S. C. R., at p. 346."
          ],
          [
           "If its object were successful and Chinese driven<br>from the country, the customs dues received from<br>the Chinese would be lost and the benefits of<br>trade relations enjoyed by the merchants would be<br>destroyed."
          ],
          [
           "Counsel cited statistics from the Chinese<br>Commission showing the extreme importance, from a<br>fiscal and commercial point of view, of the large<br>number of Chinese in the Province."
          ],
          [
           "Act had alone the right of performing in Canada<br>the obligations of Canada as part of the British<br>Empire in respect of treaties, and although Canada<br>might pass laws prohibiting immigration, or having<br>that tendency, the Province could not do so, nor<br>could it pass laws in derogation of treaties."
          ],
          [
           "334) had decided a special tax could not be<br>imposed on Chinese, a most celebrated Judge, Mr.<br>Justice Field (since elevated to the Federal<br>bench), dissented, and had pointed out that<br>according to federal decisions the State might<br>impose special taxation on alien residents,<br>provided the impost was not levied against<br>foreigners landing in the country."
          ],
          [
           "The tax was not to exclude the Chinese — another<br>statute with that object had been disallowed."
          ],
          [
           "Opponents to the Act might as well contend the<br>exclusion of the Chinese from the franchise, and<br>barring them from acquiring lands, was illegal."
          ],
          [
           "Section 3—with which we are immediately<br>concerned—says:—\"From and after the passage of<br>this Act there shall be payable and \"paid by every<br>Chinese in British Columbia, above the age of<br>fourteen years, unto and for the use of Her<br>Majesty, her heirs and successors, the sum of ten<br>dollars, and thereafter on the 1st day of June in<br>\"each and every year there shall be likewise<br>payable and paid by such \"Chinese person a further<br>sum of ten dollars.\""
          ],
          [
           "4 provides for the appointment and payment of<br>special collectors, \"to be called Chinese<br>collectors, to collect and receive such \"payments<br>from Chinese; and such collector or collectors,<br>immediately upon such payment, shall issue and<br>deliver to the person paying \"the same a licence<br>in the form contained in the schedule hereto.\""
          ],
          [
           "By Sec.”   Section 9.”  Section 10 gives the<br>collector power to “levy the amount of the license<br>from any Chinese not being in lawful possession of<br>a license, “with costs, by distress of his goods<br>and chattels, or of any goods and “chattels which<br>may be in the possession of the delinquent, or<br>which “may be upon or in any premises (whether the<br>goods of the delin- “quent or not) for the time<br>being in the possession or occupation of “such<br>delinquent Chinese,” and declares that “for the<br>purposes of this “section premises shall be deemed<br>to be in the possession or occupa- “tion of any<br>Chinese when it can be shown to the satisfaction<br>of the “tribunal having cognizance of the matter<br>(a) that such Chinese “habitually frequents such<br>premises with the assent of the owner ; “(b) that<br>he is the owner or one of the owners of the<br>premises, or has “control, either alone or<br>jointly, with another or others, of such pre-<br>“mises or some part thereof; (c) that he has<br>passed the night or slept “upon such premises at<br>any time within a week of the levy, it shall “be<br>sufficient authority for the collector to levy as<br>aforesaid on the “non-production of the license."
          ],
          [
           "By section 12 tax collectors are not to allow<br>Chinese to pass unless a license is produced."
          ],
          [
           "Section 13 imposes a penalty of $50 on any person<br>guilty of employing any Chinese not having a<br>license."
          ],
          [
           "14 Fee for free miner’s certificate to a Chinese<br>to be $15, instead of the white man's $5."
          ],
          [
           "Penalty not exceeding $30 for every Chinaman<br>mining without a license.”   Sections 17 and 18<br>prevent the exhumation of dead bodies without<br>permission, and prohibit the use of opium except<br>for medical purposes."
          ],
          [
           "Section 22 enacts that the tribunal applied to may<br>decide \"on its own view and judgment\" whether any<br>person is a Chinese or 14 years old."
          ],
          [
           "Sections 23, 24 and 25 contain sanitary provisions<br>affecting buildings let to Chinese."
          ],
          [
           "Section 27 places in the hand of the local<br>executive the construction from time to time of<br>further rules and regulations to enforce the Act,<br>and a fitting summary to such a premiss in section<br>28 reverses all the old law of England and one of<br>the most cherished and priceless safeguards of the<br>freedom from oppression won for us by our<br>forefathers—that no one shall be deemed guilty<br>until he has been proved so—throws on the<br>defendant, white or yellow, the burden of proving<br>that he is exempt from the operation of its<br>arbitrary provisions—and in a tax Act which is in<br>restraint of personal liberty, and opposed to the<br>common law rights of the citizen—for if applicable<br>to aliens it is a fortiori to the temporary<br>inhabitants of the Province—abrogates the hitherto<br>invariable rule in criminal matters and makes it<br>unnecessary in any information, summons or<br>conviction to “state or negotiate any “exception<br>in or exemption under this Act, or in<br>contemplation of “law.” Taught by experience of<br>former efforts in the same direction, section 29<br>gives one year’s notice of the coming into<br>operation of the Act—a time which has now<br>expired.”   The only schedule is the form of<br>license, which runs as follows:—  The question now<br>raised on the construction of this Act affects not<br>only British Columbia, but, as she occupies the<br>only Pacific seaboard of the Dominion, indirectly<br>more or less the very many other Provinces under<br>the flag of confederation."
          ],
          [
           "Act over aliens and naturalization."
          ],
          [
           "Sub-section 2 of section 91 gives to the Dominion<br>Parliament exclusively the regulation of “trade<br>and commerce,” and by sub-section 25 that of<br>“naturalization and aliens,” and everything<br>relating to those subjects as affecting the whole<br>Dominion is within the Dominion powers, and no<br>local Legislature can make any statute interfering<br>with either of those subjects."
          ],
          [
           "Now, applying this test to the statute before us,<br>let us see whether and how far its provisions<br>affect, as is alleged, aliens, or trade, or<br>commerce."
          ],
          [
           "The aliens in this case being Chinese, the first<br>enquiry must be, what is the object of the Act?"
          ],
          [
           "The provisions of the Act I have given somewhat in<br>extenso bear out that view, and the concurrent and<br>previous local legislation bear out the same<br>impression, for on the same day as this Act was<br>passed, another Act was passed, the very object of<br>which was plainly stated to be \"to prevent the<br>immigration\" of Chinese.\""
          ],
          [
           "It interfered with aliens as well as trade and<br>commerce, which cannot subsist among nations<br>without personal intercourse, which such an Act<br>(as far as China was concerned) would have a<br>tendency to prohibit."
          ],
          [
           "Another statute (of 1878), \"An Act to provide for<br>the better collection of taxes from Chinese,\"<br>which contained several of the stringent<br>provisions which I have described in this Act,<br>such as a special tax specially recoverable by<br>summary and unusual remedies from the Chinese<br>alone, in British Columbia, and enforced by fine<br>and imprisonment and other penal clauses, came<br>before this Court, and in a most conscientious and<br>exhaustive judgment of Mr. Justice Gray, of 23rd<br>September, 1878, in the case of Tai Sing v.<br>Maguire, was declared unconstitutional and ultra<br>vires the Local Legislature, as interfering with<br>aliens and trade and commerce—matters reserved<br>exclusively under the 81st section of the B. N. A."
          ],
          [
           "The basis, then, of our enquiry must be: Is this<br>Chinese Regulation Act of 1884—rather the parts of<br>it objected to—within the limit of subjects and<br>area of section 92, or does it exceed those limits<br>in which it is supreme, and interfere with aliens,<br>trade and commerce in such a manner as to encroach<br>on section 91 or any of its sub-sections?"
          ],
          [
           "The power asserted in the Act in question (the<br>California Act) is the right of the State to<br>prescribe the terms upon which the Chinese shall<br>be permitted to reside in it, and be so used as to<br>cut off all intercourse between them and the<br>people of the State, and defeat the commercial<br>policy of the nation."
          ],
          [
           "That the Chinese might be taxed as other<br>residents, but could not be set apart as special<br>objects of the taxation, and be compelled to<br>contribute to the revenue of the State in the<br>character of foreigners."
          ],
          [
           "The reports of the higher California courts are of<br>great authority for us on all Chinese questions,<br>for there have been efforts for years past to<br>restrict Chinese immigration in California, and<br>the matter has been constantly before the superior<br>courts there, and the judges there (if we may take<br>the reports as correct) are more than ordinarily<br>skilled in laying down the law correctly in<br>constitutional points of that nature."
          ],
          [
           "Still both Federal Governments have reserved to<br>themselves the regulation of trade and commerce<br>and naturalization and aliens; so the analogy is<br>so close as to become almost a direct authority."
          ],
          [
           "And again, \"A tax imposed by the law on these<br>persons for the mere right to reside here, is an<br>appropriate and effective means to discourage the<br>immigration of the Chinese into the State.\""
          ],
          [
           "In another California case, *In re Tiburcio<br>Parrott*, it is laid down that if the apparent<br>object of a statute is under a pretense of the<br>exercise of constitutional powers to drive Chinese<br>away, the end sought to be obtained being<br>unlawful, the statute is void."
          ],
          [
           "Legislation as to aliens is reserved to the<br>Dominion."
          ],
          [
           "And as to trade and commerce, if the Chinese be<br>driven out an annual loss to the revenue, it<br>appears by the tables in the Chinese Commission<br>Report, of $110,000 will take place; and more than<br>$1,500,000 of property and business be lost to us,<br>besides an injury to trade to an incalculable<br>extent."
          ],
          [
           "The amount of business transacted by Chinamen in<br>British Columbia, as revealed by the tables in<br>that Chinese Report, is something which a casual<br>observer would have no idea of."
          ],
          [
           "The treaties between Great Britain and China,<br>which bind us, have been quoted."
          ],
          [
           "6, ratified 26th June, 1843, p. 221, and Lord<br>Elgin's treaty of October, 1860, authenticated<br>copies of which were produced in Court, secure to<br>Chinese coming into British dominions the same<br>\"full security for persons and property as<br>subjects of Her Majesty.\""
          ],
          [
           "The treaties I have quoted between Great Britain<br>and China, binding on the Dominion and on us in<br>British Columbia, secure to the Chinese, just as<br>the treaties between Great Britain and other<br>foreign countries secure to other foreigners, the<br>same rights in regard to the equality of taxation<br>which I have described as being enjoyed by<br>citizens of this country."
          ],
          [
           "In the case of the Chinese treaties, they were<br>forced at the point of the bayonet on China, to<br>obtain a right for us to enter China, and in<br>return for a similar permission to us, full<br>permission was given for the Chinese to trade and<br>reside in British dominions everywhere."
          ],
          [
           "In the treaties of 1858 and 1860, made at the<br>solicitation of Great Britain, the Emperor of<br>China was induced to give permission to his<br>subjects to go and trade and reside \"in British<br>Colonies,\" and to enter into \"engagements with<br>British subjects for that purpose.\""
          ],
          [
           "The same provisions that apply to Chinese may be<br>made to apply also to Americans, Frenchmen,<br>Germans, or any other foreigners."
          ],
          [
           "The Act is found associated with another Act now<br>disallowed, the express object of which is to<br>prevent the Chinese altogether from coming to this<br>country, and the principle \"noscitur a sociis\" is<br>kept up by the preamble of the present Act, which<br>describes the Chinese in terms which, I venture to<br>think, have never before in any other country<br>found a place in an Act of Parliament."
          ],
          [
           "Every person of Chinese origin, whether<br>naturalized in Hong Kong or America, or any other<br>State with which we are at amity, so long as they<br>are of Chinese origin, 14 years of age—every one<br>without distinction—must take out a license."
          ],
          [
           "However difficult or impossible for any Chinese to<br>find a district collector, if such Chinese is<br>\"found without a license he is liable to a fine of<br>$40.\""
          ],
          [
           "It is impossible but that such an imposition so<br>enforced, in addition to all the general taxes to<br>which he is subject, should make this country too<br>hot for him to live in; and just in proportion as<br>he is so persecuted out of the country, in that<br>degree does this enactment interfere with trade<br>and commerce and that control over aliens<br>exclusively given to the Dominion."
          ],
          [
           "Every employé of Chinese labour, whether English,<br>American, or what not, is made liable to severe<br>and incessant liability of a penal kind, for what?"
          ],
          [
           "No; an act or default of a stranger, a man whose<br>language he knows not, and for every infraction of<br>the Act by the Chinese under his employ."
          ],
          [
           "The palpable object of such a provision, or set of<br>provisions, is to render the employment of Chinese<br>so distasteful and annoying to the employer that<br>he must cease to employ them."
          ],
          [
           "What is that but interfering with aliens, trade,<br>and commerce?"
          ],
          [
           "If a man employ a Chinaman who should happen to be<br>delinquent in his tax, and he happens to occupy a<br>cottage or room of his employer, with his master's<br>goods in it, under section 10 they are liable to<br>seizure and sale."
          ],
          [
           "In other words, every Chinese is guilty until<br>proved innocent—a provision which fills one<br>conversant with subjects with alarm; for if such a<br>law can be tolerated as against Chinese, the<br>precedent is set, and in time of any popular<br>outcry can easily be acted on for putting any<br>other foreigners or even special classes among<br>ourselves, as coloured people, or French,<br>Italians, Americans, or Germans, under equally the<br>same law."
          ],
          [
           "That certainly is interfering with aliens."
          ],
          [
           "The whole Act teems with special provisions which<br>affect not only Chinese, but their employers, with<br>obligations and liabilities as to the conduct of<br>the Chinese in their employ, that no reasonable<br>man would encounter, and run the risk of the penal<br>consequences which the Act hangs over him."
          ],
          [
           "It is enough to add that \"any person,\" no matter<br>whether white or Chinese, imprisoned in respect of<br>any infraction of the provisions of the Act, may<br>be at the will of the executive, subjected even to<br>hard labour."
          ],
          [
           "The Act is so full of provisions that interfere<br>directly with aliens, with trade, and with<br>commerce, that I have no hesitation in pronouncing<br>all such provisions, and among them those under<br>which the appellant in this case has been<br>convicted, to be ultra vires the local<br>legislature, and consequently illegal and void."
          ],
          [
           "So far, I have dealt with the Act on its own<br>merits; but if we consider it in juxtaposition to<br>the Dominion Act recently passed restricting the<br>Chinese throughout all Canada, its illegality<br>becomes transparent; for in passing that Act<br>against the Chinese the Dominion has spoken by the<br>highest authority which it possesses—its own<br>Parliament."
          ],
          [
           "By the Constitutional Act the subject of aliens,<br>we have seen, is specially reserved to the<br>Dominion, and it is now an axiom, in the<br>interpretation of that Act, that when that<br>authority deals with a subject expressly included<br>in its jurisdiction by the 91st section, it has<br>possession of that subject exclusively, and the<br>Province has to give way."
          ],
          [
           "It is a great assumption of power on the part of a<br>Province to pass laws, the effect of which must be<br>practically to expel a particular class of aliens<br>from that Province, to say in effect that it will<br>by its legislation impede or prevent that class<br>from being employed in another Province—say the<br>North-west Territory or Manitoba—where railway<br>works may be languishing for want of that very<br>class of labourers, British Columbia being the<br>only sea-board of Canada on the Pacific through<br>which (in face of the restrictive laws of the<br>United States) that class of labourers can enter<br>and pass through; that is, in fact, legislating on<br>all inter-provincial immigration; in other words,<br>such legislation is ultra vires, and so I<br>pronounce it; and adjudge accordingly, and quash<br>the conviction, with costs."
          ],
          [
           "Action of trespass against the Medical Health<br>Officer of the City of Victoria for causing the<br>plaintiff, one of a number of Chinamen, who landed<br>at Victoria in a steamer last from Hong Kong in<br>China, to be removed to the \"Suspect Station\" and<br>there detained and subjected to cleansing process<br>under colour of Sec."
          ],
          [
           "The only evidence of Hong Kong being a place<br>infected, etc., was that of a medical man resident<br>in Victoria, who said \"That in China small pox was<br>endemic, because there inoculation was the<br>universal practice."
          ],
          [
           "That there was danger of infection from white<br>passengers, but not the same danger as from<br>Chinamen.\""
          ],
          [
           "CREASE, J.: This was a test action to try whether<br>Chinamen have the same rights as other foreigners<br>in landing here on their advent from China."
          ],
          [
           "The occasion was the arrival of the Empress of<br>China at the Outer Wharf, which is within the city<br>limits of Victoria, on the 1st day of May, 1894,<br>from China and Hongkong."
          ],
          [
           "The action is one nominally rather than really,<br>for damages against Dr. George Duncan, the Health<br>Officer of the City of Victoria, on account of an<br>alleged excess of duty in despatching en masse,<br>without examination or enquiry, a number of<br>Chinamen out to the suspect station at Ross Bay,<br>there to be disinfected and scrubbed."
          ],
          [
           "The Chinamen had already been examined on board<br>the ship by the Dominion Quarantine Officers and<br>Provincial officers and passed."
          ],
          [
           "Disregarding the white men, who had come at the<br>same time from the same place and in the same ship<br>and presumably subject to some of the same<br>unsanitary influences, though not to the same<br>extent as the Chinese, without any reason for<br>special suspicion, without inspecting or<br>attempting to inspect a single man, (that had<br>already been done individually by the Dominion<br>Quarantine Officers) he orders them into the<br>custody of his constables to be taken out to the<br>suspect station at Ross Bay, there to be washed<br>and disinfected and scrubbed."
          ],
          [
           "The plaintiff and other Chinamen similarly<br>situated obtained a writ of Habeas Corpus, upon<br>which they were discharged from this custody."
          ],
          [
           "Thereupon the present action was brought to test<br>if and how far Chinamen are to be treated, when<br>they land on our shores, differently from other<br>foreigners."
          ],
          [
           "The grounds alleged by the Health Officer for this<br>arbitrary treatment is “that China is an infected<br>locality,” and all persons coming from China and<br>especially in this instance Hongkong, and<br>especially also the natives of China, come from an<br>infected locality, and that he has that authority<br>under the Health By-Law, 1893, which was passed at<br>the time of the small pox panic in Victoria, and,<br>in all he did, was simply doing his duty."
          ],
          [
           "The case was tried before a jury upon the issue<br>whether Hongkong, the last port the steamer left<br>in China, was or not “an infected locality.” To<br>prove that Hongkong was such, Dr. Davie was placed<br>in the witness box as an expert."
          ],
          [
           "He considered “China the home of small pox,” and<br>that it was “an infected place”; that, in China,<br>small pox was “endemic,” i.e., always there;<br>because there “inoculation” was the universal<br>practice and was a constant source of danger; that<br>in England and Europe and America, generally,<br>vaccination, of late years, has been the rule."
          ],
          [
           "He thought that too close a scrutiny could not be<br>made of Chinese passengers."
          ],
          [
           "That small pox must have been in China on the 19th<br>April last, the date when the Empress left<br>Hongkong, as it was always there."
          ],
          [
           "He had no opinion to express as to the British<br>possession of Hongkong; but it was a portion of<br>China, where small pox was always, in a sense,<br>\"endemic.\""
          ],
          [
           "There was danger of infection from white<br>passengers, but not the same danger as from<br>Chinamen."
          ],
          [
           "It was his opinion that every one should be<br>examined who comes from China or from any<br>\"infected port.\""
          ],
          [
           "When asked the question, \"Would you allow Chinamen<br>to land and go into the city?\""
          ],
          [
           "The Chinese are chiefly dressed in woollen<br>materials and these harbour infection for weeks<br>and months."
          ],
          [
           "There were several other diseases to be guarded<br>against from China, e.g., cholera, leprosy, etc."
          ],
          [
           "(Here I observe that from first to last no mention<br>was made of the black plague, which has carried<br>off so many thousands of Chinese in Hongkong; and<br>it appeared that during the passage from China to<br>Victoria, which presumably lasted over the<br>ordinary period of inoculation, no case of small<br>pox appeared on board the Empress, and that she<br>showed a clean bill of health.)"
          ],
          [
           "Now this assumes, as Dr. Davie assumed, that<br>Hongkong, although a British port and subject to<br>quarantine regulations, was (which includes the<br>time of the steamer's departure) and is a cradle<br>of small pox, and that every ship coming thence to<br>Victoria, especially with Chinese on board, should<br>be subject to the most searching examination, and<br>the drastic treatment I have described."
          ],
          [
           "He does not include Japanese in the same category<br>as Chinese."
          ],
          [
           "His duty was, if he considered the Empress of<br>China came from \"an infected locality,\" at once to<br>go on board the suspected vessel and make his<br>examination and inspection on board the vessel (as<br>Section 32 says), \"before any luggage, freight or<br>other thing is landed or allowed to be landed.\""
          ],
          [
           "It goes further and shews that the only person to<br>be \"dealt with in such manner as the Medical<br>Health City Officer shall direct\" is \"any infected<br>or exposed person from on board,\" under none of<br>which categories do the plaintiff or other<br>Chinamen, seized and carted off on this occasion,<br>happen to come."
          ],
          [
           "It is shewn that he did not personally examine a<br>single Chinaman or inquire if he was “an infected<br>or exposed person.” In a matter affecting the<br>public health, it is quite natural, and everyone<br>would expect that officers who are armed with<br>extensive sanitary powers, should confer together<br>and assist one another in carrying out the law,<br>and work well together for the public good and<br>safety."
          ],
          [
           "But it should be understood that these exceptional<br>powers are a great trust placed in the hands of<br>the Health Officer to meet such cases as I have<br>described, and at all times to be administered<br>with firmness, judgment and discretion—not under<br>any fear of infection unwarranted by the facts of<br>the case which may enter into the mind of the<br>Health Officer, or to be carried out by carting<br>off en masse to the suspect station all who hail<br>from China or Hongkong without examination or<br>enquiry."
          ],
          [
           "The classes of persons who come here as emigrants<br>from China are almost entirely the lowest class of<br>laborers or coolies, with a sprinkling of<br>merchants ; no mechanics or artisans, no skilled<br>laborers."
          ],
          [
           "On these the Chinese do not come."
          ],
          [
           "I have never seen in all these years (twenty-five)<br>a drunken Chinaman."
          ],
          [
           "Among themselves (the Chinese) crimes of violence,<br>even occasional murders have occurred, which from<br>the secrecy of their mode of life, or our<br>ignorance of it, have defied the investigations of<br>the police."
          ],
          [
           "But this failure very likely arises from the<br>almost universal ignorance in British Columbia of<br>the Chinese language."
          ],
          [
           "There is not a single Anglo-Chinese dictionary or<br>grammar to be obtained either here or at San<br>Francisco."
          ],
          [
           "It has generally been supposed from the secrecy<br>with which some murders were committed (they are<br>confined to two or three Chinese murders<br>altogether in many years), which have occurred in<br>British Columbia undiscovered, that the victims<br>were executed by the decrees of some secret<br>Chinese tribunal, like the Vehm-Gericht, having<br>its centre in San Francisco, but I have not been<br>able to discover a single fact which tended to<br>corroborate that suspicion."
          ],
          [
           "In all these years that I have been continuously<br>in British Columbia (namely, twenty-five), I do<br>not know of a single case of a Chinaman who has<br>been in the bankruptcy or insolvent court."
          ],
          [
           "This is not because they have not credit, for<br>Chinese merchants, punctual to the day and hour in<br>monetary engagements, can obtain what credit they<br>please, (money is of no nationality), but this<br>fact is accounted for because they are practically<br>scrupulously honest."
          ],
          [
           "In coming to British Columbia, and while here, the<br>Chinese have no idea of interfering with the<br>property of the white population in any way beyond<br>the ordinary competition which they offer in the<br>labor market."
          ],
          [
           "When the Chinese first came to this place they<br>supplied a felt want, one which had become almost<br>intolerable in the way of labor and domestic<br>service."
          ],
          [
           "That proving a complete failure, Kanakas from the<br>Sandwich Islands were tried and also failed ; so,<br>by the mere process of exhaustion no resource was<br>left but Chinese labor, which was accordingly<br>employed, at first, very reluctantly."
          ],
          [
           "Every one had a great and not unnatural objection<br>to try them ; but necessity has no law, it was<br>Chinese labor or none at all."
          ],
          [
           "It is not too much to say that without Chinese<br>servants the privations in family life, extreme<br>and of wearying monotony, would have become<br>intolerable, and a general exodus of families<br>would have been the result."
          ],
          [
           "The high prices the Chinese obtained from the<br>first, as wages, up to the present day, are a very<br>fair test of the necessity for their employment."
          ],
          [
           "It is a singular fact that Chinese servants are<br>the only class of people that are positively paid<br>to learn their duty."
          ],
          [
           "The relief given by Chinese aid to overworked<br>households when sorely needed created a good<br>feeling towards them."
          ],
          [
           "And then began the cry, “No Chinese need apply !\""
          ],
          [
           "White labor in quantity and quality sufficient was<br>unattainable, and nothing is more certain than<br>that in the absence of Chinese labor the enormous<br>railway works, which are now progressing to<br>completion, would have been indefinitely<br>prolonged, if not postponed to the Greek Kalends<br>from sheer want of hands."
          ],
          [
           "The outcry against the Chinese takes its rise in a<br>great measure in the efforts of persons, who, for<br>political motives, are desirous of posing<br>themselves as the friends of the working classes,<br>through their sweet votes to gain political power<br>and influence."
          ],
          [
           "All political parties tend to this, and urge<br>collectively the passing of laws which they do not<br>hesitate, as individuals, to class as<br>unconstitutional, in the hope that by constant<br>clamor and agitation, in one direction, to<br>overbear all the solid considerations on the other<br>side, to break through all treaties which place<br>Chinese on an equal footing with other nations, to<br>impose illegal taxes and discriminating<br>restrictions so that that may be obtained by<br>injustice and persecution which could never be<br>expected from justice and right."
          ],
          [
           "The object of course being to restrict the<br>admission or, if possible, procure the total<br>exclusion of Chinese labor and to win the sweet<br>votes of the working man."
          ],
          [
           "The practical result of which, if successful,<br>would necessarily be to create the worst of all<br>monopolies, next to that of capital : the tyranny<br>of labor under whose withering blight mines,<br>fisheries, manufactures, arts, and improvements of<br>all kinds would speedily languish or die, and the<br>development of the country, to which it is<br>undeniable the labor of the Chinese has so largely<br>contributed, would be indefinitely retarded and<br>cui bono ?"
          ],
          [
           "Coming from a swarming population in China, and,<br>as I have stated, of the lower order of coolies,<br>they have undoubtedly a tendency to congregate ;<br>at all events to submit to being cooped in large<br>numbers within a small area."
          ],
          [
           "For the Chinese do not parade their vices ; their<br>prostitutes do not set up large houses in the most<br>prominent places, with brass plates on the door,<br>or ply their trade with an air of semi-publicity,<br>nor drive about in open carriages, or flaunt<br>themselves on public race courses and assemblages,<br>or advertise for the payment of debts due to them<br>through the medium of the public press."
          ],
          [
           "I do not say that all these evils whether white or<br>Chinese should not be determinedly suppressed, but<br>there is such a manifest spirit of exaggeration in<br>the complaints that are made, for the purpose I<br>have described, as very materially to lessen in<br>impartial eyes the accusations levelled against<br>the Chinese."
          ],
          [
           "If enquiry were made of the railway servants and<br>the engineers on the permanent railway cuttings,<br>what an account they can give of white, as well as<br>Chinese abominations that abound there."
          ],
          [
           "But without the Chinese in any event the province<br>could never have been developed as far as it has<br>at present progressed."
          ],
          [
           "Their presence is not only necessary but in many<br>respects desirable for the simple reason that the<br>work must be done, and can only be done-in a<br>province and by people, still very poor-through<br>the agency of the Chinese or some similar labor."
          ],
          [
           "Improvements now only possible by Chinese labor<br>would come to a sudden end, and the misery-<br>domestic misery to 80 out of every 100 families<br>here-would, to those who have not gone through it<br>for so many years as we have, be inconceivable."
          ],
          [
           "There is an unreality about this outcry against<br>the Chinese that strikes one directly he takes pen<br>in hand to write about the cry."
          ],
          [
           "The strike of the Chinese in Victoria when<br>resisting an intentionally discriminating and<br>illegal tax of $30 a head on all Chinese-although<br>it occurred a few years ago-is too fresh in the<br>recollection to be forgotten."
          ],
          [
           "All for a political cry : \"We are ruined by<br>Chinese cheap labor !\""
          ],
          [
           "The real fact is, and the more completely it is<br>recognized the better, that we cannot do without a<br>certain number of Chinese for manual labor and for<br>domestic servants, and that throughout all British<br>Columbia."
          ],
          [
           "For any great works, too, which have to be carried<br>out, such for instance as railways, Chinese manual<br>labor cannot at present be dispensed with."
          ],
          [
           "Good white labor is so far superior to Chinese,<br>that it will of itself, when it can be contented<br>with reasonable prices as in the East, infallibly<br>work Chinese manual labor out of the field."
          ],
          [
           "But what is as necessary for the white man as the<br>Chinaman is, that he should be sober, honest and<br>steady at his work, and exhibit a fair share of<br>all those qualities which go to constitute good<br>labor."
          ],
          [
           "At present all told, including the Chinese on<br>railway works, and along the whole line, about<br>13,000."
          ],
          [
           "They do not regard British Columbia as their home<br>and when they die send their bones home to he<br>buried in China."
          ],
          [
           "It is very difficult, almost an impossibility, to<br>fix any definite limit or even approximate of the<br>proportion which Chinese immigration should bear<br>to white immigration, if the best interests of the<br>colony and the comfort of the people are to be<br>regarded ; and if only for this reason that no<br>matter how many white people come to British<br>Columbiah, they all come expecting certain rates,<br>rates which British Columbians have not got the<br>money to pay."
          ],
          [
           "If restriction of the Chinese took place, those<br>who are here already would at once raise their<br>price, and thus the very object of the anti-<br>Chinese would be indirectly gained, and we should<br>once more be without domestic help, once more<br>thrown back twenty years upon our own resources."
          ],
          [
           "If one could venture on an estimate it would be at<br>the rate of one Chinaman to each family, counting<br>as in Europe each average family as consisting of<br>four persons."
          ],
          [
           "of the population were Chinese, we might get on<br>fairly well."
          ],
          [
           "I do not think at present any restriction on<br>Chinese immigration is necessary or expedient."
          ],
          [
           "Though possessed of all the qualities I have<br>described, Chinamen do not make good settlers in<br>the sense of raising up citizens of a free."
          ],
          [
           "As to a combined effort of the people and the<br>legislature to encourage white immigration, I do<br>not believe, though most of all to be desired and<br>encouraged, that such a combination, with the<br>unlimited United States alongside, would succeed<br>to any appreciable extent."
          ],
          [
           "The moment an immigrant \" laborer \" touches<br>British Columbia he becomes in his own mind a boss<br>(as it is termed) and will do as little manual<br>labor as he can help."
          ],
          [
           "He can get rich land and a homestead for a mere<br>nothing and become a farmer, and in a short time<br>an employer of labor himself, looking out very<br>likely for \" the first Chinaman that comes along \"<br>whom he may \" boss.'"
          ],
          [
           "The railway and the opening of the railway lands<br>has already had a marked effect upon the<br>immigration of settlers to this province."
          ],
          [
           "But these things prepared, a great increase of<br>immigration can well be provided for in British<br>Columbia."
          ],
          [
           "Instead of being retarded by Chinese immigration,<br>I am fully persuaded that white immigration has<br>been assisted by it."
          ],
          [
           "I know of retired officers and persons of settled<br>incomes who would not have thought of coming here<br>if they had not known that Chinese servants could<br>he had here, though very indifferent compared with<br>those one can obtain in China itself."
          ],
          [
           "I do not think the effect produced by the Chinese<br>on the morals of the whites has been a beneficial<br>one, for the simple fact that they are heathens,<br>and some quantity, I believe, of the whites are<br>Christians."
          ],
          [
           "But where there are white people of allied habits<br>to the immoral among the Chinese they are more<br>likely to be injurious to their fellow whites than<br>any Chinese, not only from intelligent depravity,<br>but because they have from their language greater<br>facility in communicating the moral virus and ill<br>example to both old and young."
          ],
          [
           "The proportion of immoral people among the Chinese<br>here is not more than among white people similarly<br>situated, where there are no immoral persons<br>Chinese."
          ],
          [
           "I have no personal knowledge whatever of the<br>presence of leprosy among the Chinese."
          ],
          [
           "I have not spoken of the legal aspect of the<br>Chinese question, restrict or exclude as that is<br>not before me ; nor have I alluded to the<br>treaties, as these subjects will naturally come in<br>their order before the Commission, and are, after<br>all, matter of diplomatic negotiation."
          ],
          [
           "But I do as a citizen and a very old, early<br>pioneer of British Columbia, deprecate any active<br>step whatever being taken, since my opinion has<br>been asked-certainly for the present either to<br>restrict or exclude Chinese immigration into<br>British Columbia."
          ]
         ],
         "hovertemplate": "Author=Crease<br>UMAP 1=%{x}<br>UMAP 2=%{y}<br>Text=%{customdata[0]}<extra></extra>",
         "legendgroup": "Crease",
         "marker": {
          "color": "#636efa",
          "size": 5,
          "symbol": "circle"
         },
         "mode": "markers",
         "name": "Crease",
         "orientation": "v",
         "showlegend": true,
         "type": "scatter",
         "x": {
          "bdata": "fbF8QcgOfUEba35BZ5h8QTRYd0EptmFBrr1tQUolakEyZHBBJE5nQUR1MkF7UHhBmd9nQXSOaEGaLW5B3sV+QS1OfkEjQn5BCJlyQV6bc0FImmpBzJh2QWXuYEHSu2ZB60V1QSZUdEEHJHpBYrJ6QfX/cUFG+XRB/axyQYrfekE7nnpBa8l3QeGQbkGw6mtBE39vQRF5b0ERDH1BOHpxQT5zdUFbFDJB61mAQSKQfEH0vn5BnA54QcRZekGDKGBBsiBtQQ8aZUH46XVBr1Z2QYFHZEEwB2VBtKJaQWg9eEGE/mpBD9BhQa2ndUGQe2xB/75qQYnHeUFLgHNBHC56Qdc3eUEoOGpBmipdQapxVEGfH2JBt5JoQbRta0FaCGtB2dpjQezda0HCkWhBVW1lQb19YkEzE11Bo0U3QR3nYkE/YV5BBZpSQddRXUFaSVRBsag0QaXLU0Hhm2NB/EZmQWcDNkEIk2ZBZgxqQYeiVkFVdWhBY2w/QdIvM0HxuktBI55ZQeXTMEEy4jRBaSheQZvvS0E58EdBWyxzQeTKUUEQ+VhBzvdWQawNUEHC+FBBjRpAQS2jREHpOlBBd1VbQYzmTEGwhWRB24dgQUZLXEHP/0RBFgxIQXN3VEGsiVRBhHRcQfwHR0GAbFJBWxxNQb8HWUFcHVJBI6FCQXbjWEHfZ0tBBoxLQTm6M0EF81pBjMJcQVBlWUFp2k1Bf9c0QaNCO0Gs+EJBtKdVQcy7Q0HhjkhB+xJxQWPORUESI0dBuTZCQWQYREGKFD9BouM8QZqGPUGv8GFBZqRoQQ==",
          "dtype": "f4"
         },
         "xaxis": "x",
         "y": {
          "bdata": "ugWqQf0JqkEd7aRBb5egQflXq0E3P55BoYOpQbPno0FbqKlBFZemQbnhnUH8PKhBbB+qQWeho0EejKFBUFafQVL7nkFdQJ9BwbGYQXEqmEHGWZlBOUyZQcSSl0EAwqdBuGSkQdnxrUH+X6RBes6qQW6qpUF0baVBD+uoQc2fokHMTalBilGiQSn2oEGUaKZBxpOrQSViokFzEahBzb2sQSJQo0FIe51BFDmjQVd6okHlbKNBPf2eQQbcn0EKJKBBNlGmQWYjmUHT4JdBnLKpQab0m0EByp5Bie+hQZwSrUFW5JRB0ZKgQbL1rkFtD59B3wWdQfJDqEEWGalBe7KkQSREqEGbd41BrReNQSRKjEHJDJhByeaOQUSpi0Gx94xBiQeMQWZymUGiA5lBjsyTQXwNj0EQkY1BlqSYQccDj0FS74xB6pOMQe2BkEFtRZRBrWSjQXgWjEEmCo5BzmyLQcuAmEGnSpBBSf2LQdkrkUFzTotB6fmjQT5ulUG0ApRB2NucQb/HnEEALqFBCPiYQUHekkHMp6tBtG+fQUkJqUFQbqtB2hKkQaUNpEHSW6xBvEufQaO0p0F5/Z9By3+sQW8fo0FwwKNB78inQbQQrEH1EqNBMRChQTQXokHPp59Bq9urQdLoqkEUpKdBsqmgQXASpUFbXaBBm+SqQc0orUH+falBYiSpQdsVqUHqt5dB+BioQaKcqEEuhalB1LaWQayQlkHtAqBBvS6oQW1EoUHLO6RBRC6gQazDqUEuBpVBSrudQdZ8kkG3y55B616cQfwUlEE3UqZBa2OsQQ==",
          "dtype": "f4"
         },
         "yaxis": "y"
        },
        {
         "customdata": [
          [
           "(5) If it appears that a tax is not bona fide<br>within the purpose provided for, but is imposed<br>with the real purpose of discriminating against a<br>class, it is not within the justification of the<br>enabling statute, and, on the facts, the tax in<br>question was intended not for the purpose of<br>raising a revenue, but as a restriction on the<br>Chinese."
          ],
          [
           "Indeed if no restriction whatever be placed on the<br>word \" other\" in that section; if the Provincial<br>Legislature can insist upon imposing licenses upon<br>everything and upon every act of life, and tax<br>each licensee at any moment they please, there<br>would be a very simple way of excluding every<br>Chinaman from the Province, by imposing a<br>universal tax, not limited to any nationality, of<br>one or two thousand dollars per annum for a<br>license to Judgment."
          ],
          [
           "No Chinaman will shave the back of his head; no<br>true moujik will shave his chin."
          ],
          [
           "I rather think that the auctioneers would<br>repudiate this alleged similarity of their<br>occupation to that of a Chinese washerman."
          ],
          [
           "assing Chinamen, supposed to be the only persons<br>carrying on this industry."
          ],
          [
           "If the object of the Provincial Statute be as<br>alleged, viz., Feb. 3.  to subject Chinamen to<br>exceptional disadvantages it is clearly<br>unconstitutional."
          ],
          [
           "G. to the report of the recent Chinese Conmission,<br>p. 379, and by Mr. Justice CREASE in Wing Chong's<br>case, 1 B.C.R."
          ],
          [
           "Justices FIELD, HOFFMAN, SAWYER and DEADY and<br>other Judges whom they cite, all confirm this,<br>that a State, or Provincial law imposing special<br>disabilities or unequal burdens on Chinamen is<br>unconstitutional and void."
          ],
          [
           "Statutes were by their title and preamble<br>expressly aimed at Chinamen by name; that this<br>distinction also renders inapplicable all the<br>United States' cases cited; that this enactment is<br>quite general extending to all laundries without<br>exception and we must not look beyond the words of<br>the enactment to enquire what its object was; that<br>there is in fact one laundry in Victoria not<br>conducted by Chinamen on which the tax will fall<br>with equal force so that it is impossible to say<br>that Chinamen are hereby exclusively selected for<br>taxation; the circumstance that they are chiefly<br>affected being a mere coincidence; that the bylaw<br>only imposes $100.00 per annum, keeping far within<br>the limit of $150.00 permitted by the Statute;<br>that the tax clearly is calculated to procuring<br>additional Municipal revenue and that no other<br>object is hinted at."
          ],
          [
           "I, for my part, cannot arrive at any other<br>conclusion than that it is specially directed<br>against Chinamen because they are Chinamen and for<br>no other Judgment."
          ],
          [
           "The appellants' contention that the clause is<br>merely intended to hamper or expel Chinamen is<br>much strengthened by considering the amount of the<br>tax sanctioned, which is $150.00 per annum,<br>whereas the limit sanctioned by the Legislature in<br>the case of any retail shop, however extensive or<br>lucrative its business, is only $10.00 per annum."
          ],
          [
           "The test is whether on the whole statute the<br>Legislature can fairly be held to have said : \"Let<br>us impose a tax in order to raise a revenue,<br>though perhaps it may fall on Chinamen,\" or \" let<br>us impose this tax in order to fall on Chinamen,<br>though perhaps it will raise no revenue.\""
          ],
          [
           "When we find (1st) no other description of labour<br>taxed at all ; (2nd) this description of labour<br>practically quite abandoned to Chinamen alone ;<br>(3rd) this description of labour taxed at fifteen<br>times the rate permitted to be levied on any<br>retail shop ; (4th) that a preliminary Provincial<br>Act has declared Chinamen incapable of the<br>franchise which they formerly exercised."
          ],
          [
           "I cannot doubt but that the tax is directed<br>against Chinamen, as such."
          ],
          [
           "It is not competent to the Provincial Legislature,<br>or to a municipality, to deprive, generally,<br>particular nationalities or individuals of the<br>capacity to take out municipal trade licenses ; e.<br>g., a Chinaman has a right to apply for a<br>pawnbroker's license."
          ],
          [
           "Application for a mandamus to the Corporation of<br>the City of Victoria to compel the renewal to the<br>prosecutors (Chinamen) of a pawnbroker's license."
          ],
          [
           "It is alleged by the prosecution, and not denied,<br>that the Council have in fact ordered the<br>Collector to issue no pawnbroking license to any<br>Chinaman."
          ],
          [
           "In the French colony of Cayenne, the Town Council<br>recently handicapped the superior capacities of<br>the Chinaman by imposing on merchants of that<br>empire an extra tax of $300 per annum, deeming it<br>also expedient to handicap English and German<br>traders by a surtax of $200 on them."
          ],
          [
           "Chinamen in British Columbia appear to follow any<br>description of industry which may appear useful,<br>i.e., in which they can obtain employment or earn<br>their livelihood."
          ],
          [
           "The menial businesses of washing and of splitting<br>and Chinese washer sawing stovewood are almost<br>entirely engrossed by Chinamen."
          ],
          [
           "Every Chinaman in British Columbia has the air of<br>having worked, and of being ready to work, with<br>his hands, except a few who practice as medical<br>men and the leading commercial men."
          ],
          [
           "Chinamen do not much trouble the hospitals."
          ],
          [
           "I never heard of Chinamen becoming a burden on the<br>private charity of the whites."
          ],
          [
           "I have an indistinct remembrance of having been<br>once asked to contribute to the cost of removing a<br>disabled Chinaman; I am not sure."
          ],
          [
           "Industry, economy, sobriety, and law-abidingness<br>are exactly the four prominent qualities of<br>Chinamen as asserted both by their advocates and<br>their adversaries."
          ],
          [
           "Lazy, drunken, extravagant, and turbulent: this<br>is, by the voices of their friends and foes,<br>exactly what a Chinaman is not."
          ],
          [
           "If Chinamen would only be less industrious and<br>economical, if they would but occasionally get<br>drunk, they would no longer be the formidable<br>competitors with the white man which they prove to<br>be in the labor market; there would be no longer a<br>cry for their suppression."
          ],
          [
           "But these qualities meet with no competition here;<br>and the Chinaman sees no person to take his place<br>were he to abdicate it."
          ],
          [
           "I have heard an individual Chinaman stigmatized as<br>\"lazy ;\" but the fact was he conceived himself<br>insulted, and was sulking."
          ],
          [
           "I cannot recall to memory that I ever saw or heard<br>of a Chinaman being drunk."
          ],
          [
           "There is scarcely an epithet so removed from the<br>notion of a Chinaman as \"turbulent,\" though of<br>course they may be provoked to resist violence."
          ],
          [
           "employment as domestics, their large brotherhoods,<br>necessarily impenetrably secret to the whites, and<br>the unguarded condition of our houses, the<br>pilfering by Chinamen servants is really quite<br>inconsiderable."
          ],
          [
           "I believe that two of the white servants I have<br>had have pilfered more from me  than any twenty<br>Chinamen in Victoria ever stole from their<br>employers..  5."
          ],
          [
           "I do not think that the feeling of the whites<br>against Chinamen has much changed; but I do not<br>recollect anything that can be called \"agitation \"<br>against them until Confederation."
          ],
          [
           "This dislike, which otherwise might lie dormant or<br>inert, is certainly mutual; it is manifested in<br>China, we are- told, more extensively and<br>stringently than here, and without any impulse<br>there from direct competition for bread."
          ],
          [
           "Europeans at Canton or Shanghai are not safe<br>beyond their allotted cantonments, any more than a<br>Chinaman would have been on Williams Creek twenty<br>years ago."
          ],
          [
           "The Chinaman is in every respect the reverse of an<br>European, except that he is a man."
          ],
          [
           "The Roumanian finds himself in company with a<br>large number of people of alien race, of feelings,<br>traditions and religion quite different from his-<br>people who do not own the same ties of fatherland<br>as he, who do not intermarry with him or his<br>kindred, and whose domestic institutions are<br>unknown and perhaps unintelligible to him."
          ],
          [
           "Accordingly, before the close of the First<br>Parliament after Confederation, Chinamen were<br>deprived of the right of franchise, which they had<br>previously enjoyed."
          ],
          [
           "This was on the ostensible ground that all<br>Chinamen were actuated merely by direct money<br>considerations."
          ],
          [
           "The same distinguished writer whom I have already<br>quoted on the Judenhetze, observes, in speaking of<br>the rival programmes in the existing presidential<br>campaign in the United States: \"The Irish vote or<br>the republican working man cannot be wooed<br>successfully without attacks on the bloated<br>capitalist, on English tyranny or treachery, or on<br>the unfortunate immigrants from China.” Mutato<br>nomine."
          ],
          [
           "There are several matters alleged against<br>Chinamen: One is the extraordinarily small space<br>into which a cluster of them will retire for rest."
          ],
          [
           "But I have seen in a good-sized house, where there<br>was plenty of cubic space, and where each person<br>might have had a separate bunk, five or six<br>Chinamen, not lodgers but owners, sleeping in a<br>heap as above described."
          ],
          [
           "It is common to attribute to Chinamen generally,<br>that they are infested with disgusting diseases --<br>e. g., leprosy."
          ],
          [
           "When an orator talks of Chinese lepers, it is<br>exactly the same unmeaning abuse as when a Canton<br>periodical holds out to popular indignation the<br>foreign \"red devils.\""
          ],
          [
           "There is no leprosy or diabolism in the case;<br>though of course a Chinaman, like any other man,<br>may be a leper."
          ],
          [
           "The orator merely wishes to impress his audience<br>with the belief that 'he strongly objects to<br>Chinamen."
          ],
          [
           "A Chinaman was once pointed out to me who was<br>alleged to be a leper."
          ],
          [
           "That was the only case of skin disease I remember<br>to have noticed or heard of among Chinamen."
          ],
          [
           "These certainly were not contracted from Chinamen."
          ],
          [
           "The Chinese, and I believe other Asiatic nations,<br>use opium extensively."
          ],
          [
           "The enormous consumption which this implies does<br>not appear to prevent Chinamen from being the most<br>prolific race, the most indefatigable laborers,<br>and the keenest traders in the world."
          ],
          [
           "If any Chinamen here abuse the drug by over-<br>indulgence, they must hide themselves, or at all<br>events they have entirely escaped my observation."
          ],
          [
           "If their example persuades any white people to<br>similar over-indulgence, of which I am equally<br>ignorant, these must be a very degraded class-<br>weaker and more degraded than the Chinaman whose<br>expulsion is demanded."
          ],
          [
           "Opium, as generally used here, is probably as<br>harmless as tobacco, which is also extensively<br>used in British Columbia by Chinamen."
          ],
          [
           "All the evils arising from opium in British<br>Columbia in a year do not, probably, equal the<br>damage, trouble and expense occasioned to<br>individuals and to the state by whiskey in a<br>single month, or perhaps in some single night, As<br>already observed, I do not remember ever to have<br>seen a drunken Chinaman; and the argument against<br>Chinamen founded on opium appears to be analogous<br>to the comparison of the mote and the beam."
          ],
          [
           "It is alleged that not only the aggregation of<br>Chinamen in their dwellings is a source of danger<br>to the public health, but that their habits are<br>filthy."
          ],
          [
           "There are of course dirty Chinamen."
          ],
          [
           "Any family in British Columbia will, at once,<br>without any enquiry as to his cleanliness, admit<br>the first Chinaman who offers as a cook-where a<br>cook is wanted; and really it may be said that no<br>washing is given out to people of any other<br>nation."
          ],
          [
           "Whether the presence of Chinamen is any longer<br>desirable in British Colombia, is to a certain<br>extent a matter of opinion."
          ],
          [
           "That Chinamen are very large till within a year,<br>mainly, employed in all the laborious parts of our<br>coal mines ; 2nd."
          ],
          [
           "I do not see how people would get on here at all<br>without Chinamen."
          ],
          [
           "If Chinamen were expelled, employers of labor<br>would probably have to leave the province; and<br>when they were gone, where would the employed be?"
          ],
          [
           "There are supposed to be in California more than<br>120,000 Chinamen."
          ],
          [
           "It is probable that in that state, as in British<br>Columbia, a good deal more than half the manual<br>labor is performed by Chinamen."
          ],
          [
           "Within a radius of two miles there are at this<br>time no less than 500 Chinamen engaged in<br>gathering the hop crop."
          ],
          [
           "For a field of twenty-five or thirty acres about<br>100 Chinamen are employed."
          ],
          [
           "The Chinamen work by contract, and they rush from<br>morning till night, seeming never to tire."
          ],
          [
           "As soon as a box is filled a loud yell informs the<br>foreman, who brings a sack, into which the box is<br>emptied, and the Chinamen are given a check."
          ],
          [
           "Two Chinamen can pick from two to three boxes in a<br>day, and as they receive $1.50 per box it will be<br>seen that they are earning white men's wages."
          ],
          [
           "Last year they only received $1.25, but help at<br>this time is scarce and the China bosses had only<br>to demand the raise and get it."
          ],
          [
           "Now the only paying industries here are the<br>canneries and shoe factories, in both of which the<br>labor is almost exclusively Chinese."
          ],
          [
           "Owing to a very great superiority in the mineral,<br>the coal mines have paid largely, notwithstanding<br>the rates of white miners wages, unequalled<br>elsewhere; but the coal mines have hitherto<br>largely employed Chinamen also."
          ],
          [
           "After all that I have said about Chinamen, I can<br>lay no more claim to consistency than anybody else<br>in British Columbia."
          ],
          [
           "I have always asserted their good qualities; but I<br>have never in twenty-six years had a Chinaman in<br>my house, an expensive whim that nobody else has<br>indulged in."
          ],
          [
           "Still, I have had my opportunities of seeing and<br>hearing, for in all that time, I do not think I<br>ever knew a family that did not employ at least<br>one Chinaman."
          ],
          [
           "The combination which it is intended to suggest<br>would be, I suppose, that the legislature should<br>forbid such arrivals of Chinamen, and that the<br>white population should \" boycott \" those<br>remaining here; or else that the legislature<br>should decree their expulsion."
          ],
          [
           "The normal rates of wages are five shillings for<br>Chinamen, and in Victoria eight shillings for<br>white men."
          ],
          [
           "I cannot believe that it has; on the contrary, as<br>the presence of Chinamen has enabled some small<br>capital to be accumulated, they must have<br>augmented the wages fund in the province: i. e.,<br>the loose capital seeking to increase itself by<br>the employment of reproductive labor."
          ],
          [
           "I do not believe that any single European in the<br>province would employ a Chinaman about any<br>undertaking if he could procure an European,<br>irrespective of wages, unless, of course, the<br>European demanded wages which precluded all profit<br>on the undertaking."
          ],
          [
           "Chinamen are employed not so much because their<br>normal money tariff is lower than the whites and<br>yet not much lower; many Chinamen get $30, and<br>some even $35 and $40, per month-as because they<br>are, as a rule, more sober, steady, docile and<br>industrious."
          ],
          [
           "With very few exceptions, indeed, I never met a<br>Chinaman whom I could understand, beyond the<br>commonest wants, or by whom I could feel any<br>certainty that I was understood, even for an<br>ordinary message."
          ],
          [
           "Yet I have often feared that I should be compelled<br>to fall into the universal practice and take<br>Chinese servants into my house-which I have never<br>yet done."
          ],
          [
           "I have never personally observed any effect by the<br>Chinese upon the morals of the white people."
          ],
          [
           "The latter have occasionally been induced by race-<br>prejudice to indulge in acts of violence ; but it<br>would be too much to say from thence that the<br>Chinaman had corrupted his cowardly assailants."
          ],
          [
           "One Chinaman, last year, pleaded guilty to an<br>indictment for indecent assault on two girls of<br>ten or eleven and twelve or thirteen years."
          ],
          [
           "However that is the only case I remember in which<br>it could be alleged that a Chinaman had had any<br>evil effect upon the morals of the whites, a<br>matter upon which they can have but very little<br>influence, either for good or evil."
          ],
          [
           "Whites who have evil communications with Chinese<br>must themselves be lamentably depraved beforehand;<br>and so, I should be disposed to say, immoral<br>Chinese are not only not more injurious, but they<br>are quite innocuous to the morals of the whites,<br>in comparison with white people of similar or<br>allied habits."
          ],
          [
           "I have seen unmistakable prostitutes in the<br>Chinese quarter of Victoria."
          ],
          [
           "Drunken whites, I am sorry to say, are often to be<br>seen in Victoria, by night or by day; but I do not<br>remember ever to have seen a Chinaman under the<br>influence of liquor."
          ],
          [
           "Debauched whites sometimes frequent, I believe,<br>Chinese brothels, as they do Indian brothels."
          ],
          [
           "I don't think serious breaches of the peace are<br>proportionately more frequent in Chinese brothels<br>than in those kept by white women."
          ],
          [
           "Indian brothels breed the most disturbances; and<br>they are close to the Chinese quarter."
          ],
          [
           "I have omitted to state that Chinamen here are<br>generally divided into two tribes, or clans-there<br>may be more, but I have often had my attention<br>drawn to these two-viz ."
          ],
          [
           "When a breach of the peace occurs among Chinamen,<br>the culprits are generally Canton versus Hong<br>Kong; and when these come into court, either in<br>criminal or civil cases, it is common to allow<br>each side to have an interpreter; as well to watch<br>that the evidence is truly interpreted as also to<br>explain it to their respective clients."
          ],
          [
           "Owing partly to this, and partly also to their<br>unintelligibility to whites, and vice versa, it is<br>usual when twenty or thirty hands are engaged, e.<br>g., at a cannery, not to make the contract with<br>each workman separately, but with some one<br>Chinaman who has learned some English, leaving him<br>to sub-contract with the men; and he being the<br>sole medium of communication between them and the<br>owner of the cannery, this arrangement, though<br>unavoidable, necessarily leaves the men a good<br>deal at the mercy of this foreman."
          ],
          [
           "Sometimes this takes place on a much larger scale,<br>and a Chinese merchant here will contract for a<br>whole cargo of Chinamen, fresh from China, whom he<br>engages to provide with employment, and then<br>drafts them out to different employers here, for<br>roads, canneries, etc."
          ],
          [
           "A miner who feels no shame in purchasing the<br>possession of a female for a single night for $20,<br>is scandalized when a Chinaman pays $500 for the<br>possession of a female for six months, or until<br>they disagree."
          ],
          [
           "No disgust is felt by Europeans when parents make<br>it a sine qua non on consenting to their<br>daughters' marriage that the husband shall settle<br>ten or twenty thousand dollars upon her; but it is<br>infamous if a Chinaman purchases the consent of<br>parents or guardians for one thousand dollars."
          ],
          [
           "The woman is a slave sold into prostitution, but<br>the Chinese themselves look upon it in a different<br>light."
          ],
          [
           "There was a case not long ago in court, before<br>myself, on habeas corpus: A Chinese girl was<br>contracted to marry a man who had offered the<br>guardians five hundred dollars."
          ],
          [
           "I apprehend much of what is said about Chinese<br>slavery and prostitution proceeds from imperfect<br>consideration of the difference between Christian<br>and non-Christian marriage; but I only guess this,<br>I know scarcely anything about it."
          ],
          [
           "Another ground on which I have heard it asserted<br>that slavery is general among Chinamen here, is<br>rather, I suspect, a proof of their freedom, or<br>would be so accepted among whites."
          ],
          [
           "I have no doubt but that compulsion is put on all<br>Chinamen, so that it is very difficult for them to<br>obtain work, if they remain outside this<br>organization."
          ],
          [
           "It is yet further urged against the Chinese, as<br>showing their unfitness to dwell in the land, that<br>they show no respect to our laws, nor to our<br>appointed courts, but refer their differences to<br>private tribunals of their own, whose behests are<br>carried out, irrespective of their conformity with<br>our laws and are never disputed in our courts."
          ],
          [
           "The Chinese, like most other nations with any<br>pretence to civilization, have some methods for<br>referring private disputes to arbitrators chosen<br>by the parties themselves."
          ],
          [
           "That the awards of Chinese arbitrators are always<br>accepted without demur (if the fact be as alleged)<br>would surely be a strong evidence of the equity of<br>the award, and the good sense of the parties in<br>difference; for it is utterly untrue that Chinamen<br>ignore our courts, or treat them with any want of<br>respect."
          ],
          [
           "Any questions as to their labor associations,<br>their clans, their marriage laws, their<br>immigration contracts, would, I fear, be in<br>general met with suspicion and answered with<br>reluctance."
          ],
          [
           "the nature and results of trades-unions at home,<br>after every enquiry possible; how much more<br>difficult would it be to arrive at facts here,<br>where they must necessarily be shrouded behind the<br>impenetrable and irresponsible screen of a Chinese<br>interpreter?"
          ]
         ],
         "hovertemplate": "Author=Begbie<br>UMAP 1=%{x}<br>UMAP 2=%{y}<br>Text=%{customdata[0]}<extra></extra>",
         "legendgroup": "Begbie",
         "marker": {
          "color": "#EF553B",
          "size": 5,
          "symbol": "circle"
         },
         "mode": "markers",
         "name": "Begbie",
         "orientation": "v",
         "showlegend": true,
         "type": "scatter",
         "x": {
          "bdata": "RbJvQezLb0EouVBB0dM6QTsFPUGv33xBYDRtQS8LfkF2j3JB6LNnQesOb0EL4WRBvQ9nQc7EZEEW63BBfsZxQbJ9cUHwX2RBi1Q6QctQMUGWTEVBwjYxQTi3QkEvJ1BBVLxGQTsuSkGyhj1BUP1JQXebT0F2DUtB78hRQQhYTUFB501BqKxGQWaRWkFmHklB7SFYQVNYQEE3+2hBR/xWQQgVVkEAEUBB1tREQXgORUHbLFBBsv9RQQtRTUEzmk9BjAFKQRclMUEJmjpBntlBQRiXXkEy4EBBHmAuQWKPVkF4aXBB5QEyQd5JSUFqKDlBRwM6QYqPQEEaRWRBAKEzQQdkL0HmHjJBQYsxQQW6REGoSUFBNMo8QU3QQEFCNS9BR+g9QXWMREE05ktBmalMQav2ZUEZGjhBLQVWQY6BSkECMTtBWc9OQa5xTUFdmkBBC5pUQWe0W0HqgkZBGQpLQe4ZPkGkaExBPIg7QdyHOkEIsDZBY5VKQYjXXkHFskpB2tFHQdMuXEFFj15ByeNTQZ6LYEGSO05B8LZSQRJxREHDanBBh5liQSyJYUHmTVpBtppSQQ==",
          "dtype": "f4"
         },
         "xaxis": "x",
         "y": {
          "bdata": "JQmlQd5zpEEIL5dBdoqgQVVPpUHPp6lBLgSqQdHhqUG49aJBfJSfQay2pUH/f6NBsmyqQeZCnkGHWJVBPk2VQbiDlUHPMalB8YOhQVMmo0G+LKZBjhyUQaWwlEGV9JRBEkSeQdWqm0HGkKdBAyakQSMrl0FZiZFBqo+dQTkNpkE1npRBcLCZQew1pkFu+pZBm+qaQSPen0EkC6lBIkegQVNLo0GnwqZBRV2uQd5BnkGSQp5BwNyaQYxbnEHcoZRBDiSPQWh4lEFmrpdBKmKlQQjvokF5AqBB9byeQVlimEGIwpxBzV2UQXDmrUFiZaBB6E+qQTWdmEHMG6VB+gSoQcrHn0H7fKhBp6GoQb9BrEHCUK5BmwOtQYRvmUF9x6FBcICpQYIzlkGHvZdBrsOTQZkHpUEioapBPoSqQbqUqEE83KlBxraRQewFmkHPgpJB9i2gQX5Nl0GYyZFBylOeQUMVk0Hof5BBgruWQbKvmUGtlphBq3mcQRNXmUG0dq9BJJOuQWEMoEFY5Z5BoWabQXDImEFh5J1BhcWaQUPDmUE/26FBGjqZQfuvoEEyj5xBRA2kQQ==",
          "dtype": "f4"
         },
         "yaxis": "y"
        }
       ],
       "layout": {
        "height": 500,
        "legend": {
         "title": {
          "text": "Author"
         },
         "tracegroupgap": 0
        },
        "margin": {
         "t": 60
        },
        "template": {
         "data": {
          "bar": [
           {
            "error_x": {
             "color": "#2a3f5f"
            },
            "error_y": {
             "color": "#2a3f5f"
            },
            "marker": {
             "line": {
              "color": "#E5ECF6",
              "width": 0.5
             },
             "pattern": {
              "fillmode": "overlay",
              "size": 10,
              "solidity": 0.2
             }
            },
            "type": "bar"
           }
          ],
          "barpolar": [
           {
            "marker": {
             "line": {
              "color": "#E5ECF6",
              "width": 0.5
             },
             "pattern": {
              "fillmode": "overlay",
              "size": 10,
              "solidity": 0.2
             }
            },
            "type": "barpolar"
           }
          ],
          "carpet": [
           {
            "aaxis": {
             "endlinecolor": "#2a3f5f",
             "gridcolor": "white",
             "linecolor": "white",
             "minorgridcolor": "white",
             "startlinecolor": "#2a3f5f"
            },
            "baxis": {
             "endlinecolor": "#2a3f5f",
             "gridcolor": "white",
             "linecolor": "white",
             "minorgridcolor": "white",
             "startlinecolor": "#2a3f5f"
            },
            "type": "carpet"
           }
          ],
          "choropleth": [
           {
            "colorbar": {
             "outlinewidth": 0,
             "ticks": ""
            },
            "type": "choropleth"
           }
          ],
          "contour": [
           {
            "colorbar": {
             "outlinewidth": 0,
             "ticks": ""
            },
            "colorscale": [
             [
              0,
              "#0d0887"
             ],
             [
              0.1111111111111111,
              "#46039f"
             ],
             [
              0.2222222222222222,
              "#7201a8"
             ],
             [
              0.3333333333333333,
              "#9c179e"
             ],
             [
              0.4444444444444444,
              "#bd3786"
             ],
             [
              0.5555555555555556,
              "#d8576b"
             ],
             [
              0.6666666666666666,
              "#ed7953"
             ],
             [
              0.7777777777777778,
              "#fb9f3a"
             ],
             [
              0.8888888888888888,
              "#fdca26"
             ],
             [
              1,
              "#f0f921"
             ]
            ],
            "type": "contour"
           }
          ],
          "contourcarpet": [
           {
            "colorbar": {
             "outlinewidth": 0,
             "ticks": ""
            },
            "type": "contourcarpet"
           }
          ],
          "heatmap": [
           {
            "colorbar": {
             "outlinewidth": 0,
             "ticks": ""
            },
            "colorscale": [
             [
              0,
              "#0d0887"
             ],
             [
              0.1111111111111111,
              "#46039f"
             ],
             [
              0.2222222222222222,
              "#7201a8"
             ],
             [
              0.3333333333333333,
              "#9c179e"
             ],
             [
              0.4444444444444444,
              "#bd3786"
             ],
             [
              0.5555555555555556,
              "#d8576b"
             ],
             [
              0.6666666666666666,
              "#ed7953"
             ],
             [
              0.7777777777777778,
              "#fb9f3a"
             ],
             [
              0.8888888888888888,
              "#fdca26"
             ],
             [
              1,
              "#f0f921"
             ]
            ],
            "type": "heatmap"
           }
          ],
          "histogram": [
           {
            "marker": {
             "pattern": {
              "fillmode": "overlay",
              "size": 10,
              "solidity": 0.2
             }
            },
            "type": "histogram"
           }
          ],
          "histogram2d": [
           {
            "colorbar": {
             "outlinewidth": 0,
             "ticks": ""
            },
            "colorscale": [
             [
              0,
              "#0d0887"
             ],
             [
              0.1111111111111111,
              "#46039f"
             ],
             [
              0.2222222222222222,
              "#7201a8"
             ],
             [
              0.3333333333333333,
              "#9c179e"
             ],
             [
              0.4444444444444444,
              "#bd3786"
             ],
             [
              0.5555555555555556,
              "#d8576b"
             ],
             [
              0.6666666666666666,
              "#ed7953"
             ],
             [
              0.7777777777777778,
              "#fb9f3a"
             ],
             [
              0.8888888888888888,
              "#fdca26"
             ],
             [
              1,
              "#f0f921"
             ]
            ],
            "type": "histogram2d"
           }
          ],
          "histogram2dcontour": [
           {
            "colorbar": {
             "outlinewidth": 0,
             "ticks": ""
            },
            "colorscale": [
             [
              0,
              "#0d0887"
             ],
             [
              0.1111111111111111,
              "#46039f"
             ],
             [
              0.2222222222222222,
              "#7201a8"
             ],
             [
              0.3333333333333333,
              "#9c179e"
             ],
             [
              0.4444444444444444,
              "#bd3786"
             ],
             [
              0.5555555555555556,
              "#d8576b"
             ],
             [
              0.6666666666666666,
              "#ed7953"
             ],
             [
              0.7777777777777778,
              "#fb9f3a"
             ],
             [
              0.8888888888888888,
              "#fdca26"
             ],
             [
              1,
              "#f0f921"
             ]
            ],
            "type": "histogram2dcontour"
           }
          ],
          "mesh3d": [
           {
            "colorbar": {
             "outlinewidth": 0,
             "ticks": ""
            },
            "type": "mesh3d"
           }
          ],
          "parcoords": [
           {
            "line": {
             "colorbar": {
              "outlinewidth": 0,
              "ticks": ""
             }
            },
            "type": "parcoords"
           }
          ],
          "pie": [
           {
            "automargin": true,
            "type": "pie"
           }
          ],
          "scatter": [
           {
            "fillpattern": {
             "fillmode": "overlay",
             "size": 10,
             "solidity": 0.2
            },
            "type": "scatter"
           }
          ],
          "scatter3d": [
           {
            "line": {
             "colorbar": {
              "outlinewidth": 0,
              "ticks": ""
             }
            },
            "marker": {
             "colorbar": {
              "outlinewidth": 0,
              "ticks": ""
             }
            },
            "type": "scatter3d"
           }
          ],
          "scattercarpet": [
           {
            "marker": {
             "colorbar": {
              "outlinewidth": 0,
              "ticks": ""
             }
            },
            "type": "scattercarpet"
           }
          ],
          "scattergeo": [
           {
            "marker": {
             "colorbar": {
              "outlinewidth": 0,
              "ticks": ""
             }
            },
            "type": "scattergeo"
           }
          ],
          "scattergl": [
           {
            "marker": {
             "colorbar": {
              "outlinewidth": 0,
              "ticks": ""
             }
            },
            "type": "scattergl"
           }
          ],
          "scattermap": [
           {
            "marker": {
             "colorbar": {
              "outlinewidth": 0,
              "ticks": ""
             }
            },
            "type": "scattermap"
           }
          ],
          "scattermapbox": [
           {
            "marker": {
             "colorbar": {
              "outlinewidth": 0,
              "ticks": ""
             }
            },
            "type": "scattermapbox"
           }
          ],
          "scatterpolar": [
           {
            "marker": {
             "colorbar": {
              "outlinewidth": 0,
              "ticks": ""
             }
            },
            "type": "scatterpolar"
           }
          ],
          "scatterpolargl": [
           {
            "marker": {
             "colorbar": {
              "outlinewidth": 0,
              "ticks": ""
             }
            },
            "type": "scatterpolargl"
           }
          ],
          "scatterternary": [
           {
            "marker": {
             "colorbar": {
              "outlinewidth": 0,
              "ticks": ""
             }
            },
            "type": "scatterternary"
           }
          ],
          "surface": [
           {
            "colorbar": {
             "outlinewidth": 0,
             "ticks": ""
            },
            "colorscale": [
             [
              0,
              "#0d0887"
             ],
             [
              0.1111111111111111,
              "#46039f"
             ],
             [
              0.2222222222222222,
              "#7201a8"
             ],
             [
              0.3333333333333333,
              "#9c179e"
             ],
             [
              0.4444444444444444,
              "#bd3786"
             ],
             [
              0.5555555555555556,
              "#d8576b"
             ],
             [
              0.6666666666666666,
              "#ed7953"
             ],
             [
              0.7777777777777778,
              "#fb9f3a"
             ],
             [
              0.8888888888888888,
              "#fdca26"
             ],
             [
              1,
              "#f0f921"
             ]
            ],
            "type": "surface"
           }
          ],
          "table": [
           {
            "cells": {
             "fill": {
              "color": "#EBF0F8"
             },
             "line": {
              "color": "white"
             }
            },
            "header": {
             "fill": {
              "color": "#C8D4E3"
             },
             "line": {
              "color": "white"
             }
            },
            "type": "table"
           }
          ]
         },
         "layout": {
          "annotationdefaults": {
           "arrowcolor": "#2a3f5f",
           "arrowhead": 0,
           "arrowwidth": 1
          },
          "autotypenumbers": "strict",
          "coloraxis": {
           "colorbar": {
            "outlinewidth": 0,
            "ticks": ""
           }
          },
          "colorscale": {
           "diverging": [
            [
             0,
             "#8e0152"
            ],
            [
             0.1,
             "#c51b7d"
            ],
            [
             0.2,
             "#de77ae"
            ],
            [
             0.3,
             "#f1b6da"
            ],
            [
             0.4,
             "#fde0ef"
            ],
            [
             0.5,
             "#f7f7f7"
            ],
            [
             0.6,
             "#e6f5d0"
            ],
            [
             0.7,
             "#b8e186"
            ],
            [
             0.8,
             "#7fbc41"
            ],
            [
             0.9,
             "#4d9221"
            ],
            [
             1,
             "#276419"
            ]
           ],
           "sequential": [
            [
             0,
             "#0d0887"
            ],
            [
             0.1111111111111111,
             "#46039f"
            ],
            [
             0.2222222222222222,
             "#7201a8"
            ],
            [
             0.3333333333333333,
             "#9c179e"
            ],
            [
             0.4444444444444444,
             "#bd3786"
            ],
            [
             0.5555555555555556,
             "#d8576b"
            ],
            [
             0.6666666666666666,
             "#ed7953"
            ],
            [
             0.7777777777777778,
             "#fb9f3a"
            ],
            [
             0.8888888888888888,
             "#fdca26"
            ],
            [
             1,
             "#f0f921"
            ]
           ],
           "sequentialminus": [
            [
             0,
             "#0d0887"
            ],
            [
             0.1111111111111111,
             "#46039f"
            ],
            [
             0.2222222222222222,
             "#7201a8"
            ],
            [
             0.3333333333333333,
             "#9c179e"
            ],
            [
             0.4444444444444444,
             "#bd3786"
            ],
            [
             0.5555555555555556,
             "#d8576b"
            ],
            [
             0.6666666666666666,
             "#ed7953"
            ],
            [
             0.7777777777777778,
             "#fb9f3a"
            ],
            [
             0.8888888888888888,
             "#fdca26"
            ],
            [
             1,
             "#f0f921"
            ]
           ]
          },
          "colorway": [
           "#636efa",
           "#EF553B",
           "#00cc96",
           "#ab63fa",
           "#FFA15A",
           "#19d3f3",
           "#FF6692",
           "#B6E880",
           "#FF97FF",
           "#FECB52"
          ],
          "font": {
           "color": "#2a3f5f"
          },
          "geo": {
           "bgcolor": "white",
           "lakecolor": "white",
           "landcolor": "#E5ECF6",
           "showlakes": true,
           "showland": true,
           "subunitcolor": "white"
          },
          "hoverlabel": {
           "align": "left"
          },
          "hovermode": "closest",
          "mapbox": {
           "style": "light"
          },
          "paper_bgcolor": "white",
          "plot_bgcolor": "#E5ECF6",
          "polar": {
           "angularaxis": {
            "gridcolor": "white",
            "linecolor": "white",
            "ticks": ""
           },
           "bgcolor": "#E5ECF6",
           "radialaxis": {
            "gridcolor": "white",
            "linecolor": "white",
            "ticks": ""
           }
          },
          "scene": {
           "xaxis": {
            "backgroundcolor": "#E5ECF6",
            "gridcolor": "white",
            "gridwidth": 2,
            "linecolor": "white",
            "showbackground": true,
            "ticks": "",
            "zerolinecolor": "white"
           },
           "yaxis": {
            "backgroundcolor": "#E5ECF6",
            "gridcolor": "white",
            "gridwidth": 2,
            "linecolor": "white",
            "showbackground": true,
            "ticks": "",
            "zerolinecolor": "white"
           },
           "zaxis": {
            "backgroundcolor": "#E5ECF6",
            "gridcolor": "white",
            "gridwidth": 2,
            "linecolor": "white",
            "showbackground": true,
            "ticks": "",
            "zerolinecolor": "white"
           }
          },
          "shapedefaults": {
           "line": {
            "color": "#2a3f5f"
           }
          },
          "ternary": {
           "aaxis": {
            "gridcolor": "white",
            "linecolor": "white",
            "ticks": ""
           },
           "baxis": {
            "gridcolor": "white",
            "linecolor": "white",
            "ticks": ""
           },
           "bgcolor": "#E5ECF6",
           "caxis": {
            "gridcolor": "white",
            "linecolor": "white",
            "ticks": ""
           }
          },
          "title": {
           "x": 0.05
          },
          "xaxis": {
           "automargin": true,
           "gridcolor": "white",
           "linecolor": "white",
           "ticks": "",
           "title": {
            "standoff": 15
           },
           "zerolinecolor": "white",
           "zerolinewidth": 2
          },
          "yaxis": {
           "automargin": true,
           "gridcolor": "white",
           "linecolor": "white",
           "ticks": "",
           "title": {
            "standoff": 15
           },
           "zerolinecolor": "white",
           "zerolinewidth": 2
          }
         }
        },
        "title": {
         "text": "UMAP Projection of Word Embeddings by Author"
        },
        "width": 800,
        "xaxis": {
         "anchor": "y",
         "domain": [
          0,
          1
         ],
         "title": {
          "text": "UMAP 1"
         }
        },
        "yaxis": {
         "anchor": "x",
         "domain": [
          0,
          1
         ],
         "title": {
          "text": "UMAP 2"
         }
        }
       }
      }
     },
     "metadata": {},
     "output_type": "display_data"
    }
   ],
   "source": [
    "# plot using plotly to further explore\n",
    "import plotly.express as px\n",
    "import textwrap\n",
    "\n",
    "def wrap_text(text, width=60):\n",
    "    return '<br>'.join(textwrap.wrap(text, width=width))\n",
    "\n",
    "umap_df = pd.DataFrame(proj, columns=['UMAP 1', 'UMAP 2'])\n",
    "umap_df['Author'] = labels\n",
    "umap_df['Text'] = [snip for auth in judge_snippets for snip in judge_snippets[auth]]\n",
    "umap_df['Text'] = umap_df['Text'].apply(lambda t: wrap_text(t, width=50))\n",
    "\n",
    "fig = px.scatter(umap_df, x='UMAP 1', y='UMAP 2', \n",
    "                 color='Author', hover_data=['Text'], \n",
    "                 width=800, height=500 )\n",
    "fig.update_traces(marker=dict(size=5))\n",
    "fig.update_layout(title='UMAP Projection of Word Embeddings by Author')\n",
    "fig.show()\n",
    "\n",
    "fig.write_html(\"umap_projection.html\")"
   ]
  },
  {
   "cell_type": "markdown",
   "id": "a1bc999f",
   "metadata": {},
   "source": [
    "> **Discussion:**\n",
    ">\n",
    "> - How much overlap do you see between the embeddings of the two judges?\n",
    "> - Do you see any clusters of patterns that indicate different stances or attitudes towards Chinese immigrants in the plot?"
   ]
  },
  {
   "cell_type": "markdown",
   "id": "016cec6c",
   "metadata": {},
   "source": [
    "Below we print out the sentences that are most similar to the mean embeddings of the snippets for each judge. This allows us to see what specific sentences are driving the on average similarity between the two judges' stances."
   ]
  },
  {
   "cell_type": "code",
   "execution_count": 30,
   "id": "418e8d2a",
   "metadata": {},
   "outputs": [
    {
     "name": "stdout",
     "output_type": "stream",
     "text": [
      "Top 10 most similar sentences to Crease's mean embedding:\n",
      "\n",
      "Author: Crease\n",
      "Sentence: In coming to British Columbia, and while here, the Chinese have no idea of interfering with the\n",
      "property of the white population in any way beyond the ordinary competition which they offer in the\n",
      "labor market.\n",
      "Similarity Score: 0.9639\n",
      "\n",
      "Author: Crease\n",
      "Sentence: The Act is found associated with another Act now disallowed, the express object of which is to\n",
      "prevent the Chinese altogether from coming to this country, and the principle \"noscitur a sociis\" is\n",
      "kept up by the preamble of the present Act, which describes the Chinese in terms which, I venture to\n",
      "think, have never before in any other country found a place in an Act of Parliament.\n",
      "Similarity Score: 0.9634\n",
      "\n",
      "Author: Crease\n",
      "Sentence: The strike of the Chinese in Victoria when resisting an intentionally discriminating and illegal tax\n",
      "of $30 a head on all Chinese-although it occurred a few years ago-is too fresh in the recollection\n",
      "to be forgotten.\n",
      "Similarity Score: 0.9629\n",
      "\n",
      "Author: Begbie\n",
      "Sentence: Statutes were by their title and preamble  expressly aimed at Chinamen by name; that this\n",
      "distinction also renders inapplicable all the United States' cases cited; that this enactment is\n",
      "quite general extending to all laundries without exception and we must not look beyond the words of\n",
      "the enactment to enquire what its object was; that there is in fact one laundry in Victoria not\n",
      "conducted by Chinamen on which the tax will fall with equal force so that it is impossible to say\n",
      "that Chinamen are hereby exclusively selected for taxation; the circumstance that they are chiefly\n",
      "affected being a mere coincidence; that the bylaw only imposes $100.00 per annum, keeping far within\n",
      "the limit of $150.00 permitted by the Statute; that the tax clearly is calculated to procuring\n",
      "additional Municipal revenue and that no other object is hinted at.\n",
      "Similarity Score: 0.9617\n",
      "\n",
      "Author: Crease\n",
      "Sentence: In the case of the Chinese treaties, they were forced at the point of the bayonet on China, to\n",
      "obtain a right for us to enter China, and in return for a similar permission to us, full permission\n",
      "was given for the Chinese to trade and reside in British dominions everywhere.\n",
      "Similarity Score: 0.9613\n",
      "\n",
      "Author: Crease\n",
      "Sentence: Though possessed of all the qualities I have described, Chinamen do not make good settlers in the\n",
      "sense of raising up citizens of a free.\n",
      "Similarity Score: 0.9610\n",
      "\n",
      "Author: Crease\n",
      "Sentence: Still both Federal Governments have reserved to themselves the regulation of trade and commerce and\n",
      "naturalization and aliens; so the analogy is so close as to become almost a direct authority.\n",
      "Similarity Score: 0.9593\n",
      "\n",
      "Author: Crease\n",
      "Sentence: It has generally been supposed from the secrecy with which some murders were committed (they are\n",
      "confined to two or three Chinese murders altogether in many years), which have occurred in British\n",
      "Columbia undiscovered, that the victims were executed by the decrees of some secret Chinese\n",
      "tribunal, like the Vehm-Gericht, having its centre in San Francisco, but I have not been able to\n",
      "discover a single fact which tended to corroborate that suspicion.\n",
      "Similarity Score: 0.9593\n",
      "\n",
      "Author: Crease\n",
      "Sentence: I do not say that all these evils whether white or Chinese should not be determinedly suppressed,\n",
      "but there is such a manifest spirit of exaggeration in the complaints that are made, for the purpose\n",
      "I have described, as very materially to lessen in impartial eyes the accusations levelled against\n",
      "the Chinese.\n",
      "Similarity Score: 0.9593\n",
      "\n",
      "Author: Begbie\n",
      "Sentence: When we find (1st) no other description of labour taxed at all ; (2nd) this description of labour\n",
      "practically quite abandoned to Chinamen alone ; (3rd) this description of labour taxed at fifteen\n",
      "times the rate permitted to be levied on any retail shop ; (4th) that a preliminary Provincial Act\n",
      "has declared Chinamen incapable of the franchise which they formerly exercised.\n",
      "Similarity Score: 0.9591\n",
      "\n"
     ]
    }
   ],
   "source": [
    "# Print out the 10 most similar embedding sentences to Crease's mean embedding\n",
    "from sklearn.metrics.pairwise import cosine_similarity\n",
    "\n",
    "crease_similarity_df = pd.DataFrame(columns=['Author', 'Text', 'Similarity Score'])\n",
    "\n",
    "# Iterate through the embeddings and their corresponding sentences\n",
    "for auth, snippets in judge_snippets.items():\n",
    "    for snippet, emb in zip(snippets, embeddings_dict[auth]):\n",
    "        similarity = cosine_similarity(emb.reshape(1, -1), mean_crease)[0][0]\n",
    "        crease_similarity_df.loc[len(crease_similarity_df)] = [auth, snippet, similarity]\n",
    "\n",
    "# Sort by similarity score\n",
    "crease_sorted_similarity = crease_similarity_df.sort_values(by='Similarity Score', ascending=False)\n",
    "\n",
    "print(\"Top 10 most similar sentences to Crease's mean embedding:\\n\")\n",
    "\n",
    "for _, row in crease_sorted_similarity.head(10).iterrows():\n",
    "    wrapped_para = textwrap.fill(row['Text'], width=100)\n",
    "    print(f\"Author: {row['Author']}\\nSentence: {wrapped_para}\\nSimilarity Score: {row['Similarity Score']:.4f}\\n\")"
   ]
  },
  {
   "cell_type": "code",
   "execution_count": 31,
   "id": "623b6e3f",
   "metadata": {},
   "outputs": [
    {
     "name": "stdout",
     "output_type": "stream",
     "text": [
      "Top 10 most similar sentences to Begbie's mean embedding:\n",
      "\n",
      "Author: Crease\n",
      "Sentence: Though possessed of all the qualities I have described, Chinamen do not make good settlers in the\n",
      "sense of raising up citizens of a free.\n",
      "Similarity Score: 0.9646\n",
      "\n",
      "Author: Begbie\n",
      "Sentence: Whites who have evil communications with Chinese must themselves be lamentably depraved beforehand;\n",
      "and so, I should be disposed to say, immoral Chinese are not only not more injurious, but they are\n",
      "quite innocuous to the morals of the whites, in comparison with white people of similar or allied\n",
      "habits.\n",
      "Similarity Score: 0.9622\n",
      "\n",
      "Author: Crease\n",
      "Sentence: The strike of the Chinese in Victoria when resisting an intentionally discriminating and illegal tax\n",
      "of $30 a head on all Chinese-although it occurred a few years ago-is too fresh in the recollection\n",
      "to be forgotten.\n",
      "Similarity Score: 0.9610\n",
      "\n",
      "Author: Crease\n",
      "Sentence: I do not say that all these evils whether white or Chinese should not be determinedly suppressed,\n",
      "but there is such a manifest spirit of exaggeration in the complaints that are made, for the purpose\n",
      "I have described, as very materially to lessen in impartial eyes the accusations levelled against\n",
      "the Chinese.\n",
      "Similarity Score: 0.9595\n",
      "\n",
      "Author: Crease\n",
      "Sentence: I know of retired officers and persons of settled incomes who would not have thought of coming here\n",
      "if they had not known that Chinese servants could he had here, though very indifferent compared with\n",
      "those one can obtain in China itself.\n",
      "Similarity Score: 0.9590\n",
      "\n",
      "Author: Begbie\n",
      "Sentence: All the evils arising from opium in British Columbia in a year do not, probably, equal the damage,\n",
      "trouble and expense occasioned to individuals and to the state by whiskey in a single month, or\n",
      "perhaps in some single night, As already observed, I do not remember ever to have seen a drunken\n",
      "Chinaman; and the argument against Chinamen founded on opium appears to be analogous to the\n",
      "comparison of the mote and the beam.\n",
      "Similarity Score: 0.9586\n",
      "\n",
      "Author: Crease\n",
      "Sentence: Good white labor is so far superior to Chinese, that it will of itself, when it can be contented\n",
      "with reasonable prices as in the East, infallibly work Chinese manual labor out of the field.\n",
      "Similarity Score: 0.9577\n",
      "\n",
      "Author: Begbie\n",
      "Sentence: When we find (1st) no other description of labour taxed at all ; (2nd) this description of labour\n",
      "practically quite abandoned to Chinamen alone ; (3rd) this description of labour taxed at fifteen\n",
      "times the rate permitted to be levied on any retail shop ; (4th) that a preliminary Provincial Act\n",
      "has declared Chinamen incapable of the franchise which they formerly exercised.\n",
      "Similarity Score: 0.9574\n",
      "\n",
      "Author: Begbie\n",
      "Sentence: The enormous consumption which this implies does not appear to prevent Chinamen from being the most\n",
      "prolific race, the most indefatigable laborers, and the keenest traders in the world.\n",
      "Similarity Score: 0.9572\n",
      "\n",
      "Author: Crease\n",
      "Sentence: In coming to British Columbia, and while here, the Chinese have no idea of interfering with the\n",
      "property of the white population in any way beyond the ordinary competition which they offer in the\n",
      "labor market.\n",
      "Similarity Score: 0.9565\n",
      "\n"
     ]
    }
   ],
   "source": [
    "# Print out the 10 most similar embedding sentences to Begbie's mean embedding\n",
    "begbie_similarity_df = pd.DataFrame(columns=['Author', 'Text', 'Similarity Score'])\n",
    "\n",
    "# Iterate through the embeddings and their corresponding sentences\n",
    "for auth, snippets in judge_snippets.items():\n",
    "    for snippet, emb in zip(snippets, embeddings_dict[auth]):\n",
    "        similarity = cosine_similarity(emb.reshape(1, -1), mean_begbie)[0][0]\n",
    "        begbie_similarity_df.loc[len(begbie_similarity_df)] = [auth, snippet, similarity]\n",
    "\n",
    "# Sort by similarity score\n",
    "begbie_sorted_similarity = begbie_similarity_df.sort_values(by='Similarity Score', ascending=False)\n",
    "\n",
    "print(\"Top 10 most similar sentences to Begbie's mean embedding:\\n\")\n",
    "\n",
    "for _, row in begbie_sorted_similarity.head(10).iterrows():\n",
    "    \n",
    "    wrapped_para = textwrap.fill(row['Text'], width=100)\n",
    "    \n",
    "    print(f\"Author: {row['Author']}\\nSentence: {wrapped_para}\\nSimilarity Score: {row['Similarity Score']:.4f}\\n\")"
   ]
  },
  {
   "cell_type": "markdown",
   "id": "0ce8c336",
   "metadata": {},
   "source": [
    "> **Discussion:**\n",
    "> \n",
    "> - Read the sentences displayed above, how would you conclude the mean stance of the two judges towards Chinese immigrants based on the sentences?\n",
    "> - We notice that there is a mixture occurrence of the two judges in the most similar sentences to the mean embeddings of the two, how would you interpret this phenomenon?"
   ]
  },
  {
   "cell_type": "markdown",
   "id": "c597ae8e",
   "metadata": {},
   "source": [
    "### Text Embedding Analysis of Crease's and Begbie's Rulings and the Chinese Regulation Act of 1884"
   ]
  },
  {
   "cell_type": "markdown",
   "id": "47287714",
   "metadata": {},
   "source": [
    "In this section, we will focus on the comparison of Crease's and Begbie's rulings and the Chinese Regulation Act of 1884. The analysis of the results will be based on the understanding that the Chinese Regulation Act of 1884 was a significant piece of legislation that discriminated against Chinese immigrants in British Columbia. \n",
    "\n",
    "Similar to the previous section, we will use the LEGAL-BERT model to generate sentence embeddings for the rulings of Crease and Begbie, as well as the text of the Chinese Regulation Act of 1884."
   ]
  },
  {
   "cell_type": "code",
   "execution_count": 32,
   "id": "aeb356f1",
   "metadata": {},
   "outputs": [],
   "source": [
    "crease_cases = df[(df['author'] == 'Crease') & (df['type'] == 'case')]['text'].tolist()\n",
    "begbie_cases = df[(df['author'] == 'Begbie') & (df['type'] == 'case')]['text'].tolist()\n",
    "act_1884 = df[df['type'] == 'act']['text'].tolist()\n",
    "\n",
    "act_dict = {\n",
    "    'Crease': crease_cases,\n",
    "    'Begbie': begbie_cases,\n",
    "    'Act 1884': act_1884}"
   ]
  },
  {
   "cell_type": "code",
   "execution_count": 33,
   "id": "1cc235f3",
   "metadata": {},
   "outputs": [],
   "source": [
    "act_snippets = {}\n",
    "\n",
    "keywords = [\"Chinese\", \"China\", \"Chinaman\", \"Chinamen\"]\n",
    "for auth, texts in act_dict.items():\n",
    "    snippets = []\n",
    "    for txt in texts:\n",
    "        sentence = sent_tokenize(txt)\n",
    "        for sent in sentence:\n",
    "            if any(keyword in sent for keyword in keywords):\n",
    "                snippets.append(sent)\n",
    "    act_snippets[auth] = snippets"
   ]
  },
  {
   "cell_type": "code",
   "execution_count": 34,
   "id": "c02eb0c1",
   "metadata": {},
   "outputs": [
    {
     "name": "stdout",
     "output_type": "stream",
     "text": [
      "Snippet size by author:\n",
      "Crease: 77\n",
      "Begbie: 18\n",
      "Act 1884: 24\n"
     ]
    }
   ],
   "source": [
    "# Investigate the length of the snippets\n",
    "n_snippet = {auth: len(snippets) for auth, snippets in act_snippets.items()}\n",
    "\n",
    "print(\"Snippet size by author:\")\n",
    "for auth, num in n_snippet.items():\n",
    "    print(f\"{auth}: {num}\")"
   ]
  },
  {
   "cell_type": "markdown",
   "id": "c56a1d7e",
   "metadata": {},
   "source": [
    "We also create two dictionaries to store the embeddings and the embeddings with the ethnicity anchor removed for the snippets related to the two judges and the Chinese Regulation Act of 1884."
   ]
  },
  {
   "cell_type": "code",
   "execution_count": 35,
   "id": "edd5dec0",
   "metadata": {},
   "outputs": [
    {
     "name": "stderr",
     "output_type": "stream",
     "text": [
      "c:\\Users\\Kaiyan Zhang\\AppData\\Local\\Programs\\Python\\Python312\\Lib\\site-packages\\torch\\nn\\modules\\module.py:1762: FutureWarning:\n",
      "\n",
      "`encoder_attention_mask` is deprecated and will be removed in version 4.55.0 for `BertSdpaSelfAttention.forward`.\n",
      "\n"
     ]
    }
   ],
   "source": [
    "# Create embeddings\n",
    "embeddings_dict = {'Crease': [], 'Begbie': [], 'Act 1884': []}\n",
    "\n",
    "for auth, snippets in act_snippets.items():\n",
    "    for snip in snippets:\n",
    "        v = embed_text(snip, focus_token=keywords, window=15)\n",
    "        embeddings_dict[auth].append(v) "
   ]
  },
  {
   "cell_type": "markdown",
   "id": "e90f2ab1",
   "metadata": {},
   "source": [
    "Since now the comparison is not just between the two judges, we will calculate the pairwise cosine similarity between the embeddings of the snippets for Crease, Begbie and the Chinese Regulation Act of 1884 using mean, max, and min embeddings. This allows us to make pairwise comparisons between all three entities."
   ]
  },
  {
   "cell_type": "code",
   "execution_count": 36,
   "id": "271f1811",
   "metadata": {},
   "outputs": [],
   "source": [
    "# Create embeddings that subtract the ethnicity anchor\n",
    "subtracted_embeddings_dict = {'Crease': [], 'Begbie': [], 'Act 1884': []}\n",
    "\n",
    "for auth, embeddings in embeddings_dict.items():\n",
    "    for emb in embeddings:\n",
    "        v = emb - eth_anchor\n",
    "        subtracted_embeddings_dict[auth].append(v)"
   ]
  },
  {
   "cell_type": "code",
   "execution_count": 37,
   "id": "77f6c027",
   "metadata": {},
   "outputs": [
    {
     "name": "stdout",
     "output_type": "stream",
     "text": [
      "Cosine similarity between mean Crease and mean Begbie: 0.9899\n",
      "Cosine similarity between mean Crease and mean Act 1884: 0.9718\n",
      "Cosine similarity between mean Begbie and mean Act 1884: 0.9611\n"
     ]
    }
   ],
   "source": [
    "# Compute the pairwise cosine similarity\n",
    "mean_crease = np.mean(embeddings_dict[\"Crease\"], axis=0, keepdims=True)\n",
    "mean_begbie = np.mean(embeddings_dict[\"Begbie\"], axis=0, keepdims=True)\n",
    "mean_act_1884 = np.mean(embeddings_dict[\"Act 1884\"], axis=0, keepdims=True)\n",
    "\n",
    "sim_crease_begbie = cosine_similarity(mean_crease, mean_begbie)[0, 0]\n",
    "sim_crease_act_1884 = cosine_similarity(mean_crease, mean_act_1884)[0, 0]\n",
    "sim_begbie_act_1884 = cosine_similarity(mean_begbie, mean_act_1884)[0, 0]\n",
    "\n",
    "print(f\"Cosine similarity between mean Crease and mean Begbie: {sim_crease_begbie:.4f}\")\n",
    "print(f\"Cosine similarity between mean Crease and mean Act 1884: {sim_crease_act_1884:.4f}\")\n",
    "print(f\"Cosine similarity between mean Begbie and mean Act 1884: {sim_begbie_act_1884:.4f}\")"
   ]
  },
  {
   "cell_type": "code",
   "execution_count": 38,
   "id": "a5641e4c",
   "metadata": {},
   "outputs": [
    {
     "name": "stdout",
     "output_type": "stream",
     "text": [
      "Cosine similarity between max Crease and max Begbie: 0.9552\n",
      "Cosine similarity between min Crease and min Begbie: 0.9653\n",
      "Cosine similarity between max Crease and max Act 1884: 0.9548\n",
      "Cosine similarity between min Crease and min Act 1884: 0.9659\n",
      "Cosine similarity between max Begbie and max Act 1884: 0.9397\n",
      "Cosine similarity between min Begbie and min Act 1884: 0.9589\n"
     ]
    }
   ],
   "source": [
    "# Compute the pairwise cosine similarity by max and min poolings\n",
    "max_crease = np.max(embeddings_dict[\"Crease\"], axis=0, keepdims=True)\n",
    "min_crease = np.min(embeddings_dict[\"Crease\"], axis=0, keepdims=True)\n",
    "max_begbie = np.max(embeddings_dict[\"Begbie\"], axis=0, keepdims=True)\n",
    "min_begbie = np.min(embeddings_dict[\"Begbie\"], axis=0, keepdims=True)\n",
    "max_act_1884 = np.max(embeddings_dict[\"Act 1884\"], axis=0, keepdims=True)\n",
    "min_act_1884 = np.min(embeddings_dict[\"Act 1884\"], axis=0, keepdims=True)\n",
    "\n",
    "# Compute the pairwise cosine similarity\n",
    "sim_crease_begbie_max = cosine_similarity(max_crease, max_begbie)[0, 0]\n",
    "sim_crease_begbie_min = cosine_similarity(min_crease, min_begbie)[0, 0]\n",
    "sim_crease_act_1884_max = cosine_similarity(max_crease, max_act_1884)[0, 0]\n",
    "sim_crease_act_1884_min = cosine_similarity(min_crease, min_act_1884)[0, 0]\n",
    "sim_begbie_act_1884_max = cosine_similarity(max_begbie, max_act_1884)[0, 0]\n",
    "sim_begbie_act_1884_min = cosine_similarity(min_begbie, min_act_1884)[0, 0]\n",
    "\n",
    "# Print the results\n",
    "print(f\"Cosine similarity between max Crease and max Begbie: {sim_crease_begbie_max:.4f}\")\n",
    "print(f\"Cosine similarity between min Crease and min Begbie: {sim_crease_begbie_min:.4f}\")\n",
    "print(f\"Cosine similarity between max Crease and max Act 1884: {sim_crease_act_1884_max:.4f}\")\n",
    "print(f\"Cosine similarity between min Crease and min Act 1884: {sim_crease_act_1884_min:.4f}\")\n",
    "print(f\"Cosine similarity between max Begbie and max Act 1884: {sim_begbie_act_1884_max:.4f}\")\n",
    "print(f\"Cosine similarity between min Begbie and min Act 1884: {sim_begbie_act_1884_min:.4f}\")"
   ]
  },
  {
   "cell_type": "code",
   "execution_count": 39,
   "id": "b28ee59f",
   "metadata": {},
   "outputs": [
    {
     "name": "stdout",
     "output_type": "stream",
     "text": [
      "Cosine similarity between mean Crease and mean Begbie with ethnical axis removed: 0.9943\n",
      "Cosine similarity between mean Crease and mean Act 1884 with ethnical axis removed: 0.9843\n",
      "Cosine similarity between mean Begbie and mean Act 1884 with ethnical axis removed: 0.9783\n"
     ]
    }
   ],
   "source": [
    "# Compute the pairwise cosine similarity with subtracted embeddings\n",
    "subtracted_mean_crease = np.mean(subtracted_embeddings_dict[\"Crease\"], axis=0, keepdims=True)\n",
    "subtracted_mean_begbie = np.mean(subtracted_embeddings_dict[\"Begbie\"], axis=0, keepdims=True)\n",
    "subtracted_mean_act_1884 = np.mean(subtracted_embeddings_dict[\"Act 1884\"], axis=0, keepdims=True)\n",
    "\n",
    "sim_crease_begbie_sub = cosine_similarity(subtracted_mean_crease, subtracted_mean_begbie)[0, 0]\n",
    "sim_crease_act_1884_sub = cosine_similarity(subtracted_mean_crease, subtracted_mean_act_1884)[0, 0]\n",
    "sim_begbie_act_1884_sub = cosine_similarity(subtracted_mean_begbie, subtracted_mean_act_1884)[0, 0]\n",
    "\n",
    "print(f\"Cosine similarity between mean Crease and mean Begbie with ethnical axis removed: {sim_crease_begbie_sub:.4f}\")\n",
    "print(f\"Cosine similarity between mean Crease and mean Act 1884 with ethnical axis removed: {sim_crease_act_1884_sub:.4f}\")\n",
    "print(f\"Cosine similarity between mean Begbie and mean Act 1884 with ethnical axis removed: {sim_begbie_act_1884_sub:.4f}\")"
   ]
  },
  {
   "cell_type": "markdown",
   "id": "19a1c1cd",
   "metadata": {},
   "source": [
    "We can also compare all embeddings of the snippets for Crease, Begbie and the Chinese Regulation Act of 1884 using the same approach as before. Still, this gives us a more comprehensive measurement of similarity between the three entities, as it takes into account all the snippets rather than just the mean, max, or min embeddings."
   ]
  },
  {
   "cell_type": "code",
   "execution_count": 40,
   "id": "3058d781",
   "metadata": {},
   "outputs": [
    {
     "name": "stdout",
     "output_type": "stream",
     "text": [
      "Mean cosine similarity between Crease and Begbie embeddings: 0.8669\n",
      "Mean cosine similarity between Crease and Act 1884 embeddings: 0.8451\n",
      "Mean cosine similarity between Begbie and Act 1884 embeddings: 0.8397\n"
     ]
    }
   ],
   "source": [
    "# Extract embeddings for Crease, Begbie and the Act 1884\n",
    "crease_embeddings = embeddings_dict[\"Crease\"]\n",
    "begbie_embeddings = embeddings_dict[\"Begbie\"]\n",
    "act_1884_embeddings = embeddings_dict[\"Act 1884\"]\n",
    "\n",
    "# Define a function to compute mean cosine similarity\n",
    "def mean_cosine_similarity(embeddings1, embeddings2):\n",
    "    similarities = [\n",
    "        1 - cosine(e1, e2)\n",
    "        for e1 in embeddings1\n",
    "        for e2 in embeddings2\n",
    "    ]\n",
    "    return sum(similarities) / len(similarities)\n",
    "\n",
    "# Extract embeddings\n",
    "crease_emb = embeddings_dict[\"Crease\"]\n",
    "begbie_emb = embeddings_dict[\"Begbie\"]\n",
    "act_1884_emb = embeddings_dict[\"Act 1884\"]\n",
    "\n",
    "# Compute mean similarities\n",
    "crease_begbie_sim = mean_cosine_similarity(crease_emb, begbie_emb)\n",
    "crease_act_sim = mean_cosine_similarity(crease_emb, act_1884_emb)\n",
    "begbie_act_sim = mean_cosine_similarity(begbie_emb, act_1884_emb)\n",
    "\n",
    "# Output\n",
    "print(f\"Mean cosine similarity between Crease and Begbie embeddings: {crease_begbie_sim:.4f}\")\n",
    "print(f\"Mean cosine similarity between Crease and Act 1884 embeddings: {crease_act_sim:.4f}\")\n",
    "print(f\"Mean cosine similarity between Begbie and Act 1884 embeddings: {begbie_act_sim:.4f}\")"
   ]
  },
  {
   "cell_type": "markdown",
   "id": "f95bb13e",
   "metadata": {},
   "source": [
    "> **Discussion:**\n",
    ">\n",
    "> - What difference do you see between the cosine similarities of the embeddings for Crease and Begbie, after excluding their Commission reports from the corpus?\n",
    ">- What pattern do you notice in comparing the pairwise cosine similarities between the three entities, Crease, Begbie and the Chinese Regulation Act of 1884? What do you think this may indicate about the stance of Crease?"
   ]
  },
  {
   "cell_type": "markdown",
   "id": "66802198",
   "metadata": {},
   "source": [
    "We also create an interactive UMAP visualization of the embeddings of the snippets for Crease, Begbie and the Chinese Regulation Act of 1884 with sentences hovering over the points. Play with the plot to see what interesting patterns you can find."
   ]
  },
  {
   "cell_type": "code",
   "execution_count": 41,
   "id": "b612df9d",
   "metadata": {},
   "outputs": [],
   "source": [
    "# Create UMAP projection for visualization\n",
    "import umap \n",
    "\n",
    "all_vecs = np.vstack(embeddings_dict[\"Crease\"] + embeddings_dict[\"Begbie\"] + embeddings_dict[\"Act 1884\"])\n",
    "labels  = ([\"Crease\"] * len(embeddings_dict[\"Crease\"])) + ([\"Begbie\"] * len(embeddings_dict[\"Begbie\"])) + (['Act 1884'] * len(embeddings_dict[\"Act 1884\"]))\n",
    "\n",
    "reducer = umap.UMAP(n_neighbors=15, min_dist=0.1)\n",
    "proj = reducer.fit_transform(all_vecs) "
   ]
  },
  {
   "cell_type": "code",
   "execution_count": 42,
   "id": "8d191b3f",
   "metadata": {},
   "outputs": [
    {
     "data": {
      "application/vnd.plotly.v1+json": {
       "config": {
        "plotlyServerURL": "https://plot.ly"
       },
       "data": [
        {
         "customdata": [
          [
           "14th & 15th July, Certiorari—“Chinese Regulation Act, 1884,”<br>s. 5—Constitutionality—B.N.A."
          ],
          [
           "Held, that the “Chinese Regulation Act, 1884,” is ultra<br>vires of the Provincial Legislature, on the following<br>grounds:  1."
          ],
          [
           "It is an infraction of the existing treaties between the<br>Imperial Government and China."
          ],
          [
           "14th & 15th July—On the return of a writ of certiorari<br>directed to Edwin Johnson, Esquire, Police Magistrate for<br>the City of Victoria, to return into this Court a certain<br>conviction made by him under which one Wing Chong was fined<br>$20 for not having in his possession a license issued under<br>the “Chinese Regulation Act, 1884.”  The Attorney-General in<br>support of the conviction said there were five points raised<br>on the rule for the certiorari against the validity of the<br>$10 tax.—1st."
          ],
          [
           "Its object, though not apparent on the face of the Act, was<br>to prevent Chinese coming into the Province and drive out<br>those who had already come."
          ],
          [
           "He reviewed the legislation against Chinese since<br>confederation, contending it was levelled against a<br>particular race of aliens and, therefore, beyond provincial<br>control, per *Gwynne*, J., in *Citizens Insurance Co. v.<br>Parsons*, 4 S. C. R., at p. 346."
          ],
          [
           "If its object were successful and Chinese driven from the<br>country, the customs dues received from the Chinese would be<br>lost and the benefits of trade relations enjoyed by the<br>merchants would be destroyed."
          ],
          [
           "Counsel cited statistics from the Chinese Commission showing<br>the extreme importance, from a fiscal and commercial point<br>of view, of the large number of Chinese in the Province."
          ],
          [
           "334) had decided a special tax could not be imposed on<br>Chinese, a most celebrated Judge, Mr. Justice Field (since<br>elevated to the Federal bench), dissented, and had pointed<br>out that according to federal decisions the State might<br>impose special taxation on alien residents, provided the<br>impost was not levied against foreigners landing in the<br>country."
          ],
          [
           "The tax was not to exclude the Chinese — another statute<br>with that object had been disallowed."
          ],
          [
           "Opponents to the Act might as well contend the exclusion of<br>the Chinese from the franchise, and barring them from<br>acquiring lands, was illegal."
          ],
          [
           "Section 3—with which we are immediately<br>concerned—says:—\"From and after the passage of this Act<br>there shall be payable and \"paid by every Chinese in British<br>Columbia, above the age of fourteen years, unto and for the<br>use of Her Majesty, her heirs and successors, the sum of ten<br>dollars, and thereafter on the 1st day of June in \"each and<br>every year there shall be likewise payable and paid by such<br>\"Chinese person a further sum of ten dollars.\""
          ],
          [
           "4 provides for the appointment and payment of special<br>collectors, \"to be called Chinese collectors, to collect and<br>receive such \"payments from Chinese; and such collector or<br>collectors, immediately upon such payment, shall issue and<br>deliver to the person paying \"the same a licence in the form<br>contained in the schedule hereto.\""
          ],
          [
           "By Sec.”   Section 9.”  Section 10 gives the collector power<br>to “levy the amount of the license from any Chinese not<br>being in lawful possession of a license, “with costs, by<br>distress of his goods and chattels, or of any goods and<br>“chattels which may be in the possession of the delinquent,<br>or which “may be upon or in any premises (whether the goods<br>of the delin- “quent or not) for the time being in the<br>possession or occupation of “such delinquent Chinese,” and<br>declares that “for the purposes of this “section premises<br>shall be deemed to be in the possession or occupa- “tion of<br>any Chinese when it can be shown to the satisfaction of the<br>“tribunal having cognizance of the matter (a) that such<br>Chinese “habitually frequents such premises with the assent<br>of the owner ; “(b) that he is the owner or one of the<br>owners of the premises, or has “control, either alone or<br>jointly, with another or others, of such pre- “mises or some<br>part thereof; (c) that he has passed the night or slept<br>“upon such premises at any time within a week of the levy,<br>it shall “be sufficient authority for the collector to levy<br>as aforesaid on the “non-production of the license."
          ],
          [
           "By section 12 tax collectors are not to allow Chinese to<br>pass unless a license is produced."
          ],
          [
           "Section 13 imposes a penalty of $50 on any person guilty of<br>employing any Chinese not having a license."
          ],
          [
           "14 Fee for free miner’s certificate to a Chinese to be $15,<br>instead of the white man's $5."
          ],
          [
           "Penalty not exceeding $30 for every Chinaman mining without<br>a license.”   Sections 17 and 18 prevent the exhumation of<br>dead bodies without permission, and prohibit the use of<br>opium except for medical purposes."
          ],
          [
           "Section 22 enacts that the tribunal applied to may decide<br>\"on its own view and judgment\" whether any person is a<br>Chinese or 14 years old."
          ],
          [
           "Sections 23, 24 and 25 contain sanitary provisions affecting<br>buildings let to Chinese."
          ],
          [
           "The aliens in this case being Chinese, the first enquiry<br>must be, what is the object of the Act?"
          ],
          [
           "The provisions of the Act I have given somewhat in extenso<br>bear out that view, and the concurrent and previous local<br>legislation bear out the same impression, for on the same<br>day as this Act was passed, another Act was passed, the very<br>object of which was plainly stated to be \"to prevent the<br>immigration\" of Chinese.\""
          ],
          [
           "It interfered with aliens as well as trade and commerce,<br>which cannot subsist among nations without personal<br>intercourse, which such an Act (as far as China was<br>concerned) would have a tendency to prohibit."
          ],
          [
           "Another statute (of 1878), \"An Act to provide for the better<br>collection of taxes from Chinese,\" which contained several<br>of the stringent provisions which I have described in this<br>Act, such as a special tax specially recoverable by summary<br>and unusual remedies from the Chinese alone, in British<br>Columbia, and enforced by fine and imprisonment and other<br>penal clauses, came before this Court, and in a most<br>conscientious and exhaustive judgment of Mr. Justice Gray,<br>of 23rd September, 1878, in the case of Tai Sing v. Maguire,<br>was declared unconstitutional and ultra vires the Local<br>Legislature, as interfering with aliens and trade and<br>commerce—matters reserved exclusively under the 81st section<br>of the B. N. A."
          ],
          [
           "The basis, then, of our enquiry must be: Is this Chinese<br>Regulation Act of 1884—rather the parts of it objected<br>to—within the limit of subjects and area of section 92, or<br>does it exceed those limits in which it is supreme, and<br>interfere with aliens, trade and commerce in such a manner<br>as to encroach on section 91 or any of its sub-sections?"
          ],
          [
           "The power asserted in the Act in question (the California<br>Act) is the right of the State to prescribe the terms upon<br>which the Chinese shall be permitted to reside in it, and be<br>so used as to cut off all intercourse between them and the<br>people of the State, and defeat the commercial policy of the<br>nation."
          ],
          [
           "That the Chinese might be taxed as other residents, but<br>could not be set apart as special objects of the taxation,<br>and be compelled to contribute to the revenue of the State<br>in the character of foreigners."
          ],
          [
           "The reports of the higher California courts are of great<br>authority for us on all Chinese questions, for there have<br>been efforts for years past to restrict Chinese immigration<br>in California, and the matter has been constantly before the<br>superior courts there, and the judges there (if we may take<br>the reports as correct) are more than ordinarily skilled in<br>laying down the law correctly in constitutional points of<br>that nature."
          ],
          [
           "And again, \"A tax imposed by the law on these persons for<br>the mere right to reside here, is an appropriate and<br>effective means to discourage the immigration of the Chinese<br>into the State.\""
          ],
          [
           "In another California case, *In re Tiburcio Parrott*, it is<br>laid down that if the apparent object of a statute is under<br>a pretense of the exercise of constitutional powers to drive<br>Chinese away, the end sought to be obtained being unlawful,<br>the statute is void."
          ],
          [
           "And as to trade and commerce, if the Chinese be driven out<br>an annual loss to the revenue, it appears by the tables in<br>the Chinese Commission Report, of $110,000 will take place;<br>and more than $1,500,000 of property and business be lost to<br>us, besides an injury to trade to an incalculable extent."
          ],
          [
           "The amount of business transacted by Chinamen in British<br>Columbia, as revealed by the tables in that Chinese Report,<br>is something which a casual observer would have no idea of."
          ],
          [
           "The treaties between Great Britain and China, which bind us,<br>have been quoted."
          ],
          [
           "6, ratified 26th June, 1843, p. 221, and Lord Elgin's treaty<br>of October, 1860, authenticated copies of which were<br>produced in Court, secure to Chinese coming into British<br>dominions the same \"full security for persons and property<br>as subjects of Her Majesty.\""
          ],
          [
           "The treaties I have quoted between Great Britain and China,<br>binding on the Dominion and on us in British Columbia,<br>secure to the Chinese, just as the treaties between Great<br>Britain and other foreign countries secure to other<br>foreigners, the same rights in regard to the equality of<br>taxation which I have described as being enjoyed by citizens<br>of this country."
          ],
          [
           "In the case of the Chinese treaties, they were forced at the<br>point of the bayonet on China, to obtain a right for us to<br>enter China, and in return for a similar permission to us,<br>full permission was given for the Chinese to trade and<br>reside in British dominions everywhere."
          ],
          [
           "In the treaties of 1858 and 1860, made at the solicitation<br>of Great Britain, the Emperor of China was induced to give<br>permission to his subjects to go and trade and reside \"in<br>British Colonies,\" and to enter into \"engagements with<br>British subjects for that purpose.\""
          ],
          [
           "The same provisions that apply to Chinese may be made to<br>apply also to Americans, Frenchmen, Germans, or any other<br>foreigners."
          ],
          [
           "The Act is found associated with another Act now disallowed,<br>the express object of which is to prevent the Chinese<br>altogether from coming to this country, and the principle<br>\"noscitur a sociis\" is kept up by the preamble of the<br>present Act, which describes the Chinese in terms which, I<br>venture to think, have never before in any other country<br>found a place in an Act of Parliament."
          ],
          [
           "Every person of Chinese origin, whether naturalized in Hong<br>Kong or America, or any other State with which we are at<br>amity, so long as they are of Chinese origin, 14 years of<br>age—every one without distinction—must take out a license."
          ],
          [
           "However difficult or impossible for any Chinese to find a<br>district collector, if such Chinese is \"found without a<br>license he is liable to a fine of $40.\""
          ],
          [
           "Every employé of Chinese labour, whether English, American,<br>or what not, is made liable to severe and incessant<br>liability of a penal kind, for what?"
          ],
          [
           "No; an act or default of a stranger, a man whose language he<br>knows not, and for every infraction of the Act by the<br>Chinese under his employ."
          ],
          [
           "The palpable object of such a provision, or set of<br>provisions, is to render the employment of Chinese so<br>distasteful and annoying to the employer that he must cease<br>to employ them."
          ],
          [
           "If a man employ a Chinaman who should happen to be<br>delinquent in his tax, and he happens to occupy a cottage or<br>room of his employer, with his master's goods in it, under<br>section 10 they are liable to seizure and sale."
          ],
          [
           "In other words, every Chinese is guilty until proved<br>innocent—a provision which fills one conversant with<br>subjects with alarm; for if such a law can be tolerated as<br>against Chinese, the precedent is set, and in time of any<br>popular outcry can easily be acted on for putting any other<br>foreigners or even special classes among ourselves, as<br>coloured people, or French, Italians, Americans, or Germans,<br>under equally the same law."
          ],
          [
           "The whole Act teems with special provisions which affect not<br>only Chinese, but their employers, with obligations and<br>liabilities as to the conduct of the Chinese in their<br>employ, that no reasonable man would encounter, and run the<br>risk of the penal consequences which the Act hangs over him."
          ],
          [
           "It is enough to add that \"any person,\" no matter whether<br>white or Chinese, imprisoned in respect of any infraction of<br>the provisions of the Act, may be at the will of the<br>executive, subjected even to hard labour."
          ],
          [
           "So far, I have dealt with the Act on its own merits; but if<br>we consider it in juxtaposition to the Dominion Act recently<br>passed restricting the Chinese throughout all Canada, its<br>illegality becomes transparent; for in passing that Act<br>against the Chinese the Dominion has spoken by the highest<br>authority which it possesses—its own Parliament."
          ],
          [
           "Action of trespass against the Medical Health Officer of the<br>City of Victoria for causing the plaintiff, one of a number<br>of Chinamen, who landed at Victoria in a steamer last from<br>Hong Kong in China, to be removed to the \"Suspect Station\"<br>and there detained and subjected to cleansing process under<br>colour of Sec."
          ],
          [
           "The only evidence of Hong Kong being a place infected, etc.,<br>was that of a medical man resident in Victoria, who said<br>\"That in China small pox was endemic, because there<br>inoculation was the universal practice."
          ],
          [
           "That there was danger of infection from white passengers,<br>but not the same danger as from Chinamen.\""
          ],
          [
           "CREASE, J.: This was a test action to try whether Chinamen<br>have the same rights as other foreigners in landing here on<br>their advent from China."
          ],
          [
           "The occasion was the arrival of the Empress of China at the<br>Outer Wharf, which is within the city limits of Victoria, on<br>the 1st day of May, 1894, from China and Hongkong."
          ],
          [
           "The action is one nominally rather than really, for damages<br>against Dr. George Duncan, the Health Officer of the City of<br>Victoria, on account of an alleged excess of duty in<br>despatching en masse, without examination or enquiry, a<br>number of Chinamen out to the suspect station at Ross Bay,<br>there to be disinfected and scrubbed."
          ],
          [
           "The Chinamen had already been examined on board the ship by<br>the Dominion Quarantine Officers and Provincial officers and<br>passed."
          ],
          [
           "Disregarding the white men, who had come at the same time<br>from the same place and in the same ship and presumably<br>subject to some of the same unsanitary influences, though<br>not to the same extent as the Chinese, without any reason<br>for special suspicion, without inspecting or attempting to<br>inspect a single man, (that had already been done<br>individually by the Dominion Quarantine Officers) he orders<br>them into the custody of his constables to be taken out to<br>the suspect station at Ross Bay, there to be washed and<br>disinfected and scrubbed."
          ],
          [
           "The plaintiff and other Chinamen similarly situated obtained<br>a writ of Habeas Corpus, upon which they were discharged<br>from this custody."
          ],
          [
           "Thereupon the present action was brought to test if and how<br>far Chinamen are to be treated, when they land on our<br>shores, differently from other foreigners."
          ],
          [
           "The grounds alleged by the Health Officer for this arbitrary<br>treatment is “that China is an infected locality,” and all<br>persons coming from China and especially in this instance<br>Hongkong, and especially also the natives of China, come<br>from an infected locality, and that he has that authority<br>under the Health By-Law, 1893, which was passed at the time<br>of the small pox panic in Victoria, and, in all he did, was<br>simply doing his duty."
          ],
          [
           "The case was tried before a jury upon the issue whether<br>Hongkong, the last port the steamer left in China, was or<br>not “an infected locality.” To prove that Hongkong was such,<br>Dr. Davie was placed in the witness box as an expert."
          ],
          [
           "He considered “China the home of small pox,” and that it was<br>“an infected place”; that, in China, small pox was<br>“endemic,” i.e., always there; because there “inoculation”<br>was the universal practice and was a constant source of<br>danger; that in England and Europe and America, generally,<br>vaccination, of late years, has been the rule."
          ],
          [
           "He thought that too close a scrutiny could not be made of<br>Chinese passengers."
          ],
          [
           "That small pox must have been in China on the 19th April<br>last, the date when the Empress left Hongkong, as it was<br>always there."
          ],
          [
           "He had no opinion to express as to the British possession of<br>Hongkong; but it was a portion of China, where small pox was<br>always, in a sense, \"endemic.\""
          ],
          [
           "There was danger of infection from white passengers, but not<br>the same danger as from Chinamen."
          ],
          [
           "It was his opinion that every one should be examined who<br>comes from China or from any \"infected port.\""
          ],
          [
           "When asked the question, \"Would you allow Chinamen to land<br>and go into the city?\""
          ],
          [
           "The Chinese are chiefly dressed in woollen materials and<br>these harbour infection for weeks and months."
          ],
          [
           "There were several other diseases to be guarded against from<br>China, e.g., cholera, leprosy, etc."
          ],
          [
           "(Here I observe that from first to last no mention was made<br>of the black plague, which has carried off so many thousands<br>of Chinese in Hongkong; and it appeared that during the<br>passage from China to Victoria, which presumably lasted over<br>the ordinary period of inoculation, no case of small pox<br>appeared on board the Empress, and that she showed a clean<br>bill of health.)"
          ],
          [
           "Now this assumes, as Dr. Davie assumed, that Hongkong,<br>although a British port and subject to quarantine<br>regulations, was (which includes the time of the steamer's<br>departure) and is a cradle of small pox, and that every ship<br>coming thence to Victoria, especially with Chinese on board,<br>should be subject to the most searching examination, and the<br>drastic treatment I have described."
          ],
          [
           "He does not include Japanese in the same category as<br>Chinese."
          ],
          [
           "His duty was, if he considered the Empress of China came<br>from \"an infected locality,\" at once to go on board the<br>suspected vessel and make his examination and inspection on<br>board the vessel (as Section 32 says), \"before any luggage,<br>freight or other thing is landed or allowed to be landed.\""
          ],
          [
           "It goes further and shews that the only person to be \"dealt<br>with in such manner as the Medical Health City Officer shall<br>direct\" is \"any infected or exposed person from on board,\"<br>under none of which categories do the plaintiff or other<br>Chinamen, seized and carted off on this occasion, happen to<br>come."
          ],
          [
           "It is shewn that he did not personally examine a single<br>Chinaman or inquire if he was “an infected or exposed<br>person.” In a matter affecting the public health, it is<br>quite natural, and everyone would expect that officers who<br>are armed with extensive sanitary powers, should confer<br>together and assist one another in carrying out the law, and<br>work well together for the public good and safety."
          ],
          [
           "But it should be understood that these exceptional powers<br>are a great trust placed in the hands of the Health Officer<br>to meet such cases as I have described, and at all times to<br>be administered with firmness, judgment and discretion—not<br>under any fear of infection unwarranted by the facts of the<br>case which may enter into the mind of the Health Officer, or<br>to be carried out by carting off en masse to the suspect<br>station all who hail from China or Hongkong without<br>examination or enquiry."
          ]
         ],
         "hovertemplate": "Author=Crease<br>UMAP 1=%{x}<br>UMAP 2=%{y}<br>Text=%{customdata[0]}<extra></extra>",
         "legendgroup": "Crease",
         "marker": {
          "color": "#636efa",
          "size": 5,
          "symbol": "circle"
         },
         "mode": "markers",
         "name": "Crease",
         "orientation": "v",
         "showlegend": true,
         "type": "scatter",
         "x": {
          "bdata": "33KlQO6yq0DSSYBAmujdQG5YmUDsWZ5AIQOIQK36g0Bpr5BA3uicQHank0DdzgBBndUFQXAO90AXRr5ALgfKQBMUxUBwYtdAa1m/QG72mECS7KVAMAm3QMMumkC/y81ANHCoQG2dwUAdkKtAilmSQKbPp0CGtatA7SGKQAiFf0CafXlA0fpnQB5LeUBJa2hAs9deQCganEAqTKpAzPatQIR14EBPfLxALA28QNpZtUBOBelATZi/QDs7vEB7cMxANSCNQEBNJUBot0lA8WpXQEnmlkD+Q0VAGj0TQJl8LUBgNB9ASGGVQJq/kEDXhm5AEttQQEunTUCQK35AFvJCQPnTT0ALOGdAPxdvQFnxkkDcTUVAZLBaQLpBPkBuXCpAN7eHQP7SWUBleBFAsrcxQLEOFkA=",
          "dtype": "f4"
         },
         "xaxis": "x",
         "y": {
          "bdata": "0NNsQXQnbEFIjVpBf8VJQa7VU0FArGNBoaxTQeXhREHNnWhB/XVPQS6yUEHjPkRB+I9BQbQkQEFscDNBBnkxQXGYL0HQxDRBOeA8Qb5JQEHB1l5BkGxbQSihV0Fxn1JB6+5kQYQlWkER1k5B+gxdQfLLV0Fq0V5B9f9dQWzYQ0EQEFtBK8dfQdx+YEGph1lBb1pZQev+PUFzslJBIAdBQeBhN0E0dUhB01xPQRz1VEEnmTxBXVtTQVvFUkGFp0lBr9BjQUr1RkGJRjxBgts3QWp9O0GKOktBekhIQVvuSEE9RD9BhwNIQUR/SUFJ60lBDS1DQdo2PUGHnDZBH6NGQQUMQEGSkzVBZYs9Qe7VPkEWCFVB0FQ2QX0IREHH8UdBeEw2QcK6REEwO0ZBqkQ9Qaz/R0E=",
          "dtype": "f4"
         },
         "yaxis": "y"
        },
        {
         "customdata": [
          [
           "(5) If it appears that a tax is not bona fide within the<br>purpose provided for, but is imposed with the real purpose<br>of discriminating against a class, it is not within the<br>justification of the enabling statute, and, on the facts,<br>the tax in question was intended not for the purpose of<br>raising a revenue, but as a restriction on the Chinese."
          ],
          [
           "Indeed if no restriction whatever be placed on the word \"<br>other\" in that section; if the Provincial Legislature can<br>insist upon imposing licenses upon everything and upon every<br>act of life, and tax each licensee at any moment they<br>please, there would be a very simple way of excluding every<br>Chinaman from the Province, by imposing a universal tax, not<br>limited to any nationality, of one or two thousand dollars<br>per annum for a license to Judgment."
          ],
          [
           "No Chinaman will shave the back of his head; no true moujik<br>will shave his chin."
          ],
          [
           "I rather think that the auctioneers would repudiate this<br>alleged similarity of their occupation to that of a Chinese<br>washerman."
          ],
          [
           "assing Chinamen, supposed to be the only persons carrying on<br>this industry."
          ],
          [
           "If the object of the Provincial Statute be as alleged, viz.,<br>Feb. 3.  to subject Chinamen to exceptional disadvantages it<br>is clearly unconstitutional."
          ],
          [
           "G. to the report of the recent Chinese Conmission, p. 379,<br>and by Mr. Justice CREASE in Wing Chong's case, 1 B.C.R."
          ],
          [
           "Justices FIELD, HOFFMAN, SAWYER and DEADY and other Judges<br>whom they cite, all confirm this, that a State, or<br>Provincial law imposing special disabilities or unequal<br>burdens on Chinamen is unconstitutional and void."
          ],
          [
           "Statutes were by their title and preamble  expressly aimed<br>at Chinamen by name; that this distinction also renders<br>inapplicable all the United States' cases cited; that this<br>enactment is quite general extending to all laundries<br>without exception and we must not look beyond the words of<br>the enactment to enquire what its object was; that there is<br>in fact one laundry in Victoria not conducted by Chinamen on<br>which the tax will fall with equal force so that it is<br>impossible to say that Chinamen are hereby exclusively<br>selected for taxation; the circumstance that they are<br>chiefly affected being a mere coincidence; that the bylaw<br>only imposes $100.00 per annum, keeping far within the limit<br>of $150.00 permitted by the Statute; that the tax clearly is<br>calculated to procuring additional Municipal revenue and<br>that no other object is hinted at."
          ],
          [
           "I, for my part, cannot arrive at any other conclusion than<br>that it is specially directed against Chinamen because they<br>are Chinamen and for no other Judgment."
          ],
          [
           "The appellants' contention that the clause is merely<br>intended to hamper or expel Chinamen is much strengthened by<br>considering the amount of the tax sanctioned, which is<br>$150.00 per annum, whereas the limit sanctioned by the<br>Legislature in the case of any retail shop, however<br>extensive or lucrative its business, is only $10.00 per<br>annum."
          ],
          [
           "The test is whether on the whole statute the Legislature can<br>fairly be held to have said : \"Let us impose a tax in order<br>to raise a revenue, though perhaps it may fall on Chinamen,\"<br>or \" let us impose this tax in order to fall on Chinamen,<br>though perhaps it will raise no revenue.\""
          ],
          [
           "When we find (1st) no other description of labour taxed at<br>all ; (2nd) this description of labour practically quite<br>abandoned to Chinamen alone ; (3rd) this description of<br>labour taxed at fifteen times the rate permitted to be<br>levied on any retail shop ; (4th) that a preliminary<br>Provincial Act has declared Chinamen incapable of the<br>franchise which they formerly exercised."
          ],
          [
           "I cannot doubt but that the tax is directed against<br>Chinamen, as such."
          ],
          [
           "It is not competent to the Provincial Legislature, or to a<br>municipality, to deprive, generally, particular<br>nationalities or individuals of the capacity to take out<br>municipal trade licenses ; e. g., a Chinaman has a right to<br>apply for a pawnbroker's license."
          ],
          [
           "Application for a mandamus to the Corporation of the City of<br>Victoria to compel the renewal to the prosecutors (Chinamen)<br>of a pawnbroker's license."
          ],
          [
           "It is alleged by the prosecution, and not denied, that the<br>Council have in fact ordered the Collector to issue no<br>pawnbroking license to any Chinaman."
          ],
          [
           "In the French colony of Cayenne, the Town Council recently<br>handicapped the superior capacities of the Chinaman by<br>imposing on merchants of that empire an extra tax of $300<br>per annum, deeming it also expedient to handicap English and<br>German traders by a surtax of $200 on them."
          ]
         ],
         "hovertemplate": "Author=Begbie<br>UMAP 1=%{x}<br>UMAP 2=%{y}<br>Text=%{customdata[0]}<extra></extra>",
         "legendgroup": "Begbie",
         "marker": {
          "color": "#EF553B",
          "size": 5,
          "symbol": "circle"
         },
         "mode": "markers",
         "name": "Begbie",
         "orientation": "v",
         "showlegend": true,
         "type": "scatter",
         "x": {
          "bdata": "u/q1QA2XwEDNqLBA9u2WQAGFjkCX6alAZjuPQMjxpEDyKKFA2KqhQAeim0AD0K9AB7STQJNGpUAvgKxAAsCiQHlIqUCdRYdA",
          "dtype": "f4"
         },
         "xaxis": "x",
         "y": {
          "bdata": "RT9gQeN2W0FWkD1BvrkzQWekNkFVDGlBzoBqQZcMaUFGI1xB2IhKQa//ZEGu6VpBcZJgQdEWSkGqGy1Bm9MvQZLFLUE9AGZB",
          "dtype": "f4"
         },
         "yaxis": "y"
        },
        {
         "customdata": [
          [
           "An Act to regulate the Chinese population of British<br>Columbia."
          ],
          [
           "WHEREAS the incoming of Chinese to British Columbia largely<br>exceeds that of any other class of immigrant, and the<br>population so introduced are fast becoming superior in<br>number to our own race; are not disposed to be governed by<br>our laws; are dissimilar in habits and occupation from our<br>people; evade the payment of taxes justly due to the<br>Government; are governed by pestilential habits; are useless<br>in instances of emergency; habitually desecrate grave yards<br>by the removal of bodies therefrom; and generally the laws<br>governing the whites are found to be inapplicable to<br>Chinese, and such Chinese are inclined to habits subversive<br>of the comfort and well-being of the community:  And whereas<br>it is expedient to pass special laws for the Government of<br>Chinese:  Therefore, Her Majesty, by and with the advice and<br>consent of the Legislative Assembly of the Province of<br>British Columbia, enacts as follows:—  1."
          ],
          [
           "This Act shall be cited as the \"Chinese Regulation Act,<br>1884.\""
          ],
          [
           "The term \"Chinese\" wherever used in this Act shall mean any<br>native of the Chinese Empire or its dependencies not born of<br>British parents, and shall include any person of the Chinese<br>race."
          ],
          [
           "From and after the passage of this Act there shall be<br>payable and paid by every Chinese in British Columbia, above<br>the age of fourteen years, unto and for the use of Her<br>Majesty, Her heirs and successors, the sum of ten dollars,<br>and thereafter on the 1st day of June in each and every year<br>there shall be likewise payable and paid by such Chinese<br>person a further sum of ten dollars."
          ],
          [
           "The Lieutenant-Governor in Council shall immediately upon<br>the passage of this Act, and from time to time thereafter as<br>occasion may require, appoint in each electoral district,<br>one or more person or persons to be called Chinese<br>Collectors, to collect and receive such payments from<br>Chinese, and such Collector or Collectors immediately upon<br>such payment shall issue and deliver to the person paying<br>the same a licence in the form contained in the Schedule<br>hereto, and the Lieutenant-Governor in Council may require<br>from the Collectors so to be appointed such security as he<br>may see fit and may allow them such percentage upon the<br>amount of collections as may seem reasonable and just, and<br>the Lieutenant-Governor in Council may further allow such<br>additional sum by way of expenses as may be necessary and<br>reasonable for the purpose of carrying out the provisions of<br>this Act."
          ],
          [
           "Any Chinese who shall be found within the Province not<br>having in his possession a licence issued under the<br>provisions of this Act, lawfully issued to him, shall on<br>conviction thereof forfeit and pay a sum not exceeding forty<br>dollars."
          ],
          [
           "Every Collector shall collect the tax from each Chinese, and<br>shall as soon afterwards as may be pay over the amount to<br>the Officer in charge of the Treasury, or to such other<br>person as the Lieutenant-Governor in Council may from time<br>to time direct."
          ],
          [
           "Every employer of Chinese shall furnish to the Collector,<br>when requested by him so to do, from time to time, a list of<br>all Chinese in his employ, or indirectly employed by him;<br>but no such statement shall bind the Collector, nor shall<br>excuse him from making due enquiry to ascertain its<br>correctness."
          ],
          [
           "In case any employer of Chinese fails to deliver to the<br>Collector the list mentioned in the preceding section, when<br>required so to do, or knowingly states anything falsely<br>therein, such employer shall, on complaint of the Collector<br>and upon conviction before a Justice of the Peace having<br>jurisdiction within the district wherein such employer<br>carries on his business, forfeit and pay a fine not<br>exceeding one hundred dollars for every Chinese in his<br>employ, to be recovered by distress of the goods and<br>chattels of such employer failing to pay the same, or in<br>lieu thereof shall be liable to imprisonment for a period<br>not less than one month and not exceeding two calendar<br>months."
          ],
          [
           "The Collector may, by himself or his agent, levy the amount<br>of the licence from any Chinese not being in lawful<br>possession of a licence, with costs, by distress of his<br>goods and chattels, or of any goods and chattels which may<br>be in the possession of the delinquent, or which may be upon<br>or in any premises (whether the goods of the delinquent or<br>not) for the time being in the possession or occupation of<br>such delinquent Chinese, and for the purposes of this<br>section premises shall be deemed to be in the possession or<br>occupation of any Chinese when it can be shewn to the<br>satisfaction of the tribunal having cognizance of the<br>matter—  (a.)"
          ],
          [
           "That such Chinese habitually frequents such premises with<br>the assent of the owner."
          ],
          [
           "Every employer of Chinese shall demand from every such<br>Licence to be demanded by employer and retained during the<br>service."
          ],
          [
           "Chinese in his employ his licence, and shall retain the same<br>in his possession during the time such Chinese is in his<br>employ, and shall return the same to him when he leaves his<br>service; and every employer as aforesaid shall produce to<br>the Collector, whenever required so to do, such licence for<br>his inspection."
          ],
          [
           "The Toll Collector at any and every toll gate which may<br>exist in the Province from time to time, shall, before<br>allowing any Chinese to pass through any toll gate, demand<br>from such Chinese the production of his licence, and, until<br>the same is produced, such Chinese shall not be allowed to<br>proceed through the toll gate."
          ],
          [
           "It shall be unlawful for any person to employ any Chinese<br>who has not in his possession the licence required by this<br>Act, and any person guilty of an infraction of the<br>provisions of this section shall forfeit and pay a fine not<br>exceeding fifty dollars for every Chinese so employed."
          ],
          [
           "The sum payable by a Chinese for a free miner’s certificate<br>shall be fifteen dollars for each year during which the same<br>is to be in force instead of five dollars, as by the present<br>mining laws provided, and no free miner’s certificate shall<br>hereafter be issued to any Chinese except upon payment of<br>the said sum of fifteen dollars."
          ],
          [
           "Any Chinese who shall be found mining for gold and precious<br>metals, or following the ordinary occupation of a free<br>miner, whether on his own account or for others, without<br>having in his possession a free miner’s certificate,<br>lawfully issued to him subsequently to the passage of this<br>Act, and any person who shall employ any Chinese in and<br>about gold mining who has not in his possession such a<br>certificate, shall forfeit and pay a sum not exceeding<br>thirty dollars."
          ],
          [
           "of the Schedule A to the “Licences Ordinance, 1867,” is<br>hereby amended by adding thereto the following words: “but<br>no licence shall be issued to any Chinese.”  17."
          ],
          [
           "Without the permission in writing of the Provincial<br>Secretary or Government Agent of the district or place where<br>the permission is sought it shall be unlawful to remove the<br>remains of any dead Chinese from any cemetery or place where<br>such dead Chinese may have been interred, or to exhume the<br>bodies or remains of any dead Chinese, and any person guilty<br>of an infraction of this section shall forfeit and pay a sum<br>not exceeding one hundred dollars."
          ],
          [
           "No conviction for any offence shall be quashed for want of<br>form, and no conviction shall be removed into any of Her<br>Majesty’s Courts by certiorari or reviewed in any manner,<br>except by appeal in manner hereinafter stated, that is to<br>say: Any Chinese convicted of an offence against the<br>provisions of this Act may appeal to the County Court<br>nearest to the place of conviction, provided he shall,<br>within four days after such conviction, have given notice in<br>writing to the convicting Magistrate of his intention to<br>appeal, and shall have furnished security in the sum of one<br>hundred dollars, conditioned to abide by the decision of the<br>appellate Court, and shall have also deposited with the<br>convicting Magistrate a sum of money sufficient in the<br>opinion of such Magistrate to pay the costs and expenses of<br>a jury to try such appeal, and such appeal shall be heard<br>and tried before the County Court, with or without a jury of<br>five, at the option of the parties, and notwithstanding any<br>defect in the proceedings, the appeal shall be heard and<br>decided on the merits, and if the conviction be affirmed the<br>appellant shall be punished according to the conviction, and<br>shall pay the costs of the appeal, and if the appeal be<br>allowed, it shall be lawful for the Lieutenant-Governor in<br>Council to issue his warrant to the Treasurer for the<br>repayment to the appellant of the money paid by him for jury<br>process."
          ],
          [
           "Any Chinese who shall lend his licence or free miner’s<br>certificate to another Chinese, and any Chinese who shall<br>utter or pass off upon any Collector or other person any<br>licence or free miner’s certificate other than his own, with<br>intent himself to avoid payment of the licence fee payable<br>under this Act, (and the onus of proving that such was not<br>his intent, shall rest upon the person charged), shall<br>forfeit and pay a penalty of not less than twenty dollars<br>nor more than one hundred dollars."
          ],
          [
           "The tribunal having cognizance of any matter under the<br>provisions of this Act may decide, upon its own view and<br>judgment, whether any person is a Chinese, and whether any<br>person found by the Court to be a Chinese be of the age of<br>fourteen years."
          ],
          [
           "This Act may be cited as the \"Chinese Regulation Act, 1884.\""
          ]
         ],
         "hovertemplate": "Author=Act 1884<br>UMAP 1=%{x}<br>UMAP 2=%{y}<br>Text=%{customdata[0]}<extra></extra>",
         "legendgroup": "Act 1884",
         "marker": {
          "color": "#00cc96",
          "size": 5,
          "symbol": "circle"
         },
         "mode": "markers",
         "name": "Act 1884",
         "orientation": "v",
         "showlegend": true,
         "type": "scatter",
         "x": {
          "bdata": "/B2CQHDNr0CgL9dApkG2QLu2AUH/VQdBwxj7QMYSCUGs+AZBrFIFQUGR/kDd6KJAya7oQJY6AUGCoAZBksP+QIDXAkGmzPlAqwDNQLP8AUHEAfdAwEr/QOSnzEAxqNZA",
          "dtype": "f4"
         },
         "xaxis": "x",
         "y": {
          "bdata": "MMFLQdbFVEER8VdBcIlEQacvREEcpzxBzsY1QY/xPUF9ijZBWCs4QcHxO0FrszVB/QIyQSjGMEEcPzdB4/Y0QRnkPEF3izlBVfEzQZqFMkHnuENBMZ83QU1+PUHH01hB",
          "dtype": "f4"
         },
         "yaxis": "y"
        }
       ],
       "layout": {
        "height": 500,
        "legend": {
         "title": {
          "text": "Author"
         },
         "tracegroupgap": 0
        },
        "margin": {
         "t": 60
        },
        "template": {
         "data": {
          "bar": [
           {
            "error_x": {
             "color": "#2a3f5f"
            },
            "error_y": {
             "color": "#2a3f5f"
            },
            "marker": {
             "line": {
              "color": "#E5ECF6",
              "width": 0.5
             },
             "pattern": {
              "fillmode": "overlay",
              "size": 10,
              "solidity": 0.2
             }
            },
            "type": "bar"
           }
          ],
          "barpolar": [
           {
            "marker": {
             "line": {
              "color": "#E5ECF6",
              "width": 0.5
             },
             "pattern": {
              "fillmode": "overlay",
              "size": 10,
              "solidity": 0.2
             }
            },
            "type": "barpolar"
           }
          ],
          "carpet": [
           {
            "aaxis": {
             "endlinecolor": "#2a3f5f",
             "gridcolor": "white",
             "linecolor": "white",
             "minorgridcolor": "white",
             "startlinecolor": "#2a3f5f"
            },
            "baxis": {
             "endlinecolor": "#2a3f5f",
             "gridcolor": "white",
             "linecolor": "white",
             "minorgridcolor": "white",
             "startlinecolor": "#2a3f5f"
            },
            "type": "carpet"
           }
          ],
          "choropleth": [
           {
            "colorbar": {
             "outlinewidth": 0,
             "ticks": ""
            },
            "type": "choropleth"
           }
          ],
          "contour": [
           {
            "colorbar": {
             "outlinewidth": 0,
             "ticks": ""
            },
            "colorscale": [
             [
              0,
              "#0d0887"
             ],
             [
              0.1111111111111111,
              "#46039f"
             ],
             [
              0.2222222222222222,
              "#7201a8"
             ],
             [
              0.3333333333333333,
              "#9c179e"
             ],
             [
              0.4444444444444444,
              "#bd3786"
             ],
             [
              0.5555555555555556,
              "#d8576b"
             ],
             [
              0.6666666666666666,
              "#ed7953"
             ],
             [
              0.7777777777777778,
              "#fb9f3a"
             ],
             [
              0.8888888888888888,
              "#fdca26"
             ],
             [
              1,
              "#f0f921"
             ]
            ],
            "type": "contour"
           }
          ],
          "contourcarpet": [
           {
            "colorbar": {
             "outlinewidth": 0,
             "ticks": ""
            },
            "type": "contourcarpet"
           }
          ],
          "heatmap": [
           {
            "colorbar": {
             "outlinewidth": 0,
             "ticks": ""
            },
            "colorscale": [
             [
              0,
              "#0d0887"
             ],
             [
              0.1111111111111111,
              "#46039f"
             ],
             [
              0.2222222222222222,
              "#7201a8"
             ],
             [
              0.3333333333333333,
              "#9c179e"
             ],
             [
              0.4444444444444444,
              "#bd3786"
             ],
             [
              0.5555555555555556,
              "#d8576b"
             ],
             [
              0.6666666666666666,
              "#ed7953"
             ],
             [
              0.7777777777777778,
              "#fb9f3a"
             ],
             [
              0.8888888888888888,
              "#fdca26"
             ],
             [
              1,
              "#f0f921"
             ]
            ],
            "type": "heatmap"
           }
          ],
          "histogram": [
           {
            "marker": {
             "pattern": {
              "fillmode": "overlay",
              "size": 10,
              "solidity": 0.2
             }
            },
            "type": "histogram"
           }
          ],
          "histogram2d": [
           {
            "colorbar": {
             "outlinewidth": 0,
             "ticks": ""
            },
            "colorscale": [
             [
              0,
              "#0d0887"
             ],
             [
              0.1111111111111111,
              "#46039f"
             ],
             [
              0.2222222222222222,
              "#7201a8"
             ],
             [
              0.3333333333333333,
              "#9c179e"
             ],
             [
              0.4444444444444444,
              "#bd3786"
             ],
             [
              0.5555555555555556,
              "#d8576b"
             ],
             [
              0.6666666666666666,
              "#ed7953"
             ],
             [
              0.7777777777777778,
              "#fb9f3a"
             ],
             [
              0.8888888888888888,
              "#fdca26"
             ],
             [
              1,
              "#f0f921"
             ]
            ],
            "type": "histogram2d"
           }
          ],
          "histogram2dcontour": [
           {
            "colorbar": {
             "outlinewidth": 0,
             "ticks": ""
            },
            "colorscale": [
             [
              0,
              "#0d0887"
             ],
             [
              0.1111111111111111,
              "#46039f"
             ],
             [
              0.2222222222222222,
              "#7201a8"
             ],
             [
              0.3333333333333333,
              "#9c179e"
             ],
             [
              0.4444444444444444,
              "#bd3786"
             ],
             [
              0.5555555555555556,
              "#d8576b"
             ],
             [
              0.6666666666666666,
              "#ed7953"
             ],
             [
              0.7777777777777778,
              "#fb9f3a"
             ],
             [
              0.8888888888888888,
              "#fdca26"
             ],
             [
              1,
              "#f0f921"
             ]
            ],
            "type": "histogram2dcontour"
           }
          ],
          "mesh3d": [
           {
            "colorbar": {
             "outlinewidth": 0,
             "ticks": ""
            },
            "type": "mesh3d"
           }
          ],
          "parcoords": [
           {
            "line": {
             "colorbar": {
              "outlinewidth": 0,
              "ticks": ""
             }
            },
            "type": "parcoords"
           }
          ],
          "pie": [
           {
            "automargin": true,
            "type": "pie"
           }
          ],
          "scatter": [
           {
            "fillpattern": {
             "fillmode": "overlay",
             "size": 10,
             "solidity": 0.2
            },
            "type": "scatter"
           }
          ],
          "scatter3d": [
           {
            "line": {
             "colorbar": {
              "outlinewidth": 0,
              "ticks": ""
             }
            },
            "marker": {
             "colorbar": {
              "outlinewidth": 0,
              "ticks": ""
             }
            },
            "type": "scatter3d"
           }
          ],
          "scattercarpet": [
           {
            "marker": {
             "colorbar": {
              "outlinewidth": 0,
              "ticks": ""
             }
            },
            "type": "scattercarpet"
           }
          ],
          "scattergeo": [
           {
            "marker": {
             "colorbar": {
              "outlinewidth": 0,
              "ticks": ""
             }
            },
            "type": "scattergeo"
           }
          ],
          "scattergl": [
           {
            "marker": {
             "colorbar": {
              "outlinewidth": 0,
              "ticks": ""
             }
            },
            "type": "scattergl"
           }
          ],
          "scattermap": [
           {
            "marker": {
             "colorbar": {
              "outlinewidth": 0,
              "ticks": ""
             }
            },
            "type": "scattermap"
           }
          ],
          "scattermapbox": [
           {
            "marker": {
             "colorbar": {
              "outlinewidth": 0,
              "ticks": ""
             }
            },
            "type": "scattermapbox"
           }
          ],
          "scatterpolar": [
           {
            "marker": {
             "colorbar": {
              "outlinewidth": 0,
              "ticks": ""
             }
            },
            "type": "scatterpolar"
           }
          ],
          "scatterpolargl": [
           {
            "marker": {
             "colorbar": {
              "outlinewidth": 0,
              "ticks": ""
             }
            },
            "type": "scatterpolargl"
           }
          ],
          "scatterternary": [
           {
            "marker": {
             "colorbar": {
              "outlinewidth": 0,
              "ticks": ""
             }
            },
            "type": "scatterternary"
           }
          ],
          "surface": [
           {
            "colorbar": {
             "outlinewidth": 0,
             "ticks": ""
            },
            "colorscale": [
             [
              0,
              "#0d0887"
             ],
             [
              0.1111111111111111,
              "#46039f"
             ],
             [
              0.2222222222222222,
              "#7201a8"
             ],
             [
              0.3333333333333333,
              "#9c179e"
             ],
             [
              0.4444444444444444,
              "#bd3786"
             ],
             [
              0.5555555555555556,
              "#d8576b"
             ],
             [
              0.6666666666666666,
              "#ed7953"
             ],
             [
              0.7777777777777778,
              "#fb9f3a"
             ],
             [
              0.8888888888888888,
              "#fdca26"
             ],
             [
              1,
              "#f0f921"
             ]
            ],
            "type": "surface"
           }
          ],
          "table": [
           {
            "cells": {
             "fill": {
              "color": "#EBF0F8"
             },
             "line": {
              "color": "white"
             }
            },
            "header": {
             "fill": {
              "color": "#C8D4E3"
             },
             "line": {
              "color": "white"
             }
            },
            "type": "table"
           }
          ]
         },
         "layout": {
          "annotationdefaults": {
           "arrowcolor": "#2a3f5f",
           "arrowhead": 0,
           "arrowwidth": 1
          },
          "autotypenumbers": "strict",
          "coloraxis": {
           "colorbar": {
            "outlinewidth": 0,
            "ticks": ""
           }
          },
          "colorscale": {
           "diverging": [
            [
             0,
             "#8e0152"
            ],
            [
             0.1,
             "#c51b7d"
            ],
            [
             0.2,
             "#de77ae"
            ],
            [
             0.3,
             "#f1b6da"
            ],
            [
             0.4,
             "#fde0ef"
            ],
            [
             0.5,
             "#f7f7f7"
            ],
            [
             0.6,
             "#e6f5d0"
            ],
            [
             0.7,
             "#b8e186"
            ],
            [
             0.8,
             "#7fbc41"
            ],
            [
             0.9,
             "#4d9221"
            ],
            [
             1,
             "#276419"
            ]
           ],
           "sequential": [
            [
             0,
             "#0d0887"
            ],
            [
             0.1111111111111111,
             "#46039f"
            ],
            [
             0.2222222222222222,
             "#7201a8"
            ],
            [
             0.3333333333333333,
             "#9c179e"
            ],
            [
             0.4444444444444444,
             "#bd3786"
            ],
            [
             0.5555555555555556,
             "#d8576b"
            ],
            [
             0.6666666666666666,
             "#ed7953"
            ],
            [
             0.7777777777777778,
             "#fb9f3a"
            ],
            [
             0.8888888888888888,
             "#fdca26"
            ],
            [
             1,
             "#f0f921"
            ]
           ],
           "sequentialminus": [
            [
             0,
             "#0d0887"
            ],
            [
             0.1111111111111111,
             "#46039f"
            ],
            [
             0.2222222222222222,
             "#7201a8"
            ],
            [
             0.3333333333333333,
             "#9c179e"
            ],
            [
             0.4444444444444444,
             "#bd3786"
            ],
            [
             0.5555555555555556,
             "#d8576b"
            ],
            [
             0.6666666666666666,
             "#ed7953"
            ],
            [
             0.7777777777777778,
             "#fb9f3a"
            ],
            [
             0.8888888888888888,
             "#fdca26"
            ],
            [
             1,
             "#f0f921"
            ]
           ]
          },
          "colorway": [
           "#636efa",
           "#EF553B",
           "#00cc96",
           "#ab63fa",
           "#FFA15A",
           "#19d3f3",
           "#FF6692",
           "#B6E880",
           "#FF97FF",
           "#FECB52"
          ],
          "font": {
           "color": "#2a3f5f"
          },
          "geo": {
           "bgcolor": "white",
           "lakecolor": "white",
           "landcolor": "#E5ECF6",
           "showlakes": true,
           "showland": true,
           "subunitcolor": "white"
          },
          "hoverlabel": {
           "align": "left"
          },
          "hovermode": "closest",
          "mapbox": {
           "style": "light"
          },
          "paper_bgcolor": "white",
          "plot_bgcolor": "#E5ECF6",
          "polar": {
           "angularaxis": {
            "gridcolor": "white",
            "linecolor": "white",
            "ticks": ""
           },
           "bgcolor": "#E5ECF6",
           "radialaxis": {
            "gridcolor": "white",
            "linecolor": "white",
            "ticks": ""
           }
          },
          "scene": {
           "xaxis": {
            "backgroundcolor": "#E5ECF6",
            "gridcolor": "white",
            "gridwidth": 2,
            "linecolor": "white",
            "showbackground": true,
            "ticks": "",
            "zerolinecolor": "white"
           },
           "yaxis": {
            "backgroundcolor": "#E5ECF6",
            "gridcolor": "white",
            "gridwidth": 2,
            "linecolor": "white",
            "showbackground": true,
            "ticks": "",
            "zerolinecolor": "white"
           },
           "zaxis": {
            "backgroundcolor": "#E5ECF6",
            "gridcolor": "white",
            "gridwidth": 2,
            "linecolor": "white",
            "showbackground": true,
            "ticks": "",
            "zerolinecolor": "white"
           }
          },
          "shapedefaults": {
           "line": {
            "color": "#2a3f5f"
           }
          },
          "ternary": {
           "aaxis": {
            "gridcolor": "white",
            "linecolor": "white",
            "ticks": ""
           },
           "baxis": {
            "gridcolor": "white",
            "linecolor": "white",
            "ticks": ""
           },
           "bgcolor": "#E5ECF6",
           "caxis": {
            "gridcolor": "white",
            "linecolor": "white",
            "ticks": ""
           }
          },
          "title": {
           "x": 0.05
          },
          "xaxis": {
           "automargin": true,
           "gridcolor": "white",
           "linecolor": "white",
           "ticks": "",
           "title": {
            "standoff": 15
           },
           "zerolinecolor": "white",
           "zerolinewidth": 2
          },
          "yaxis": {
           "automargin": true,
           "gridcolor": "white",
           "linecolor": "white",
           "ticks": "",
           "title": {
            "standoff": 15
           },
           "zerolinecolor": "white",
           "zerolinewidth": 2
          }
         }
        },
        "title": {
         "text": "UMAP Projection of Word Embeddings by Author"
        },
        "width": 800,
        "xaxis": {
         "anchor": "y",
         "domain": [
          0,
          1
         ],
         "title": {
          "text": "UMAP 1"
         }
        },
        "yaxis": {
         "anchor": "x",
         "domain": [
          0,
          1
         ],
         "title": {
          "text": "UMAP 2"
         }
        }
       }
      }
     },
     "metadata": {},
     "output_type": "display_data"
    }
   ],
   "source": [
    "umap_df = pd.DataFrame(proj, columns=['UMAP 1', 'UMAP 2'])\n",
    "umap_df['Author'] = labels\n",
    "umap_df['Text'] = [snip for auth in act_snippets for snip in act_snippets[auth]]\n",
    "umap_df['Text'] = umap_df['Text'].apply(lambda t: wrap_text(t, width=60))\n",
    "\n",
    "fig = px.scatter(umap_df, x='UMAP 1', y='UMAP 2', \n",
    "                 color='Author', hover_data=['Text'], \n",
    "                 width=800, height=500 )\n",
    "fig.update_traces(marker=dict(size=5))\n",
    "fig.update_layout(title='UMAP Projection of Word Embeddings by Author')\n",
    "fig.show()"
   ]
  },
  {
   "cell_type": "markdown",
   "id": "e622e104",
   "metadata": {},
   "source": [
    "> **Discussion:**\n",
    ">\n",
    "> - How much overlap do you see between the embeddings of the two judges and the Chinese Regulation Act of 1884?\n",
    "> - Do you see any clusters of patterns that could indicate different stances or attitudes among the two judges and the Chinese Regulation Act of 1884 in the plot?\n",
    "> - How do you interpret the overlaps based on the hovered sentences in the plot?"
   ]
  },
  {
   "cell_type": "markdown",
   "id": "f21c7788",
   "metadata": {},
   "source": [
    "We also print out the sentences that are most similar to the mean embeddings of the snippets for each entity. "
   ]
  },
  {
   "cell_type": "code",
   "execution_count": 43,
   "id": "16964286",
   "metadata": {},
   "outputs": [
    {
     "name": "stdout",
     "output_type": "stream",
     "text": [
      "Top 10 most similar sentences to Crease's mean embedding:\n",
      "\n",
      "Author: Crease\n",
      "Sentence: The Act is found associated with another Act now disallowed, the express object of which is to\n",
      "prevent the Chinese altogether from coming to this country, and the principle \"noscitur a sociis\" is\n",
      "kept up by the preamble of the present Act, which describes the Chinese in terms which, I venture to\n",
      "think, have never before in any other country found a place in an Act of Parliament.\n",
      "Similarity Score: 0.9641\n",
      "\n",
      "Author: Crease\n",
      "Sentence: In the case of the Chinese treaties, they were forced at the point of the bayonet on China, to\n",
      "obtain a right for us to enter China, and in return for a similar permission to us, full permission\n",
      "was given for the Chinese to trade and reside in British dominions everywhere.\n",
      "Similarity Score: 0.9632\n",
      "\n",
      "Author: Begbie\n",
      "Sentence: Statutes were by their title and preamble  expressly aimed at Chinamen by name; that this\n",
      "distinction also renders inapplicable all the United States' cases cited; that this enactment is\n",
      "quite general extending to all laundries without exception and we must not look beyond the words of\n",
      "the enactment to enquire what its object was; that there is in fact one laundry in Victoria not\n",
      "conducted by Chinamen on which the tax will fall with equal force so that it is impossible to say\n",
      "that Chinamen are hereby exclusively selected for taxation; the circumstance that they are chiefly\n",
      "affected being a mere coincidence; that the bylaw only imposes $100.00 per annum, keeping far within\n",
      "the limit of $150.00 permitted by the Statute; that the tax clearly is calculated to procuring\n",
      "additional Municipal revenue and that no other object is hinted at.\n",
      "Similarity Score: 0.9614\n",
      "\n",
      "Author: Crease\n",
      "Sentence: The grounds alleged by the Health Officer for this arbitrary treatment is “that China is an infected\n",
      "locality,” and all persons coming from China and especially in this instance Hongkong, and\n",
      "especially also the natives of China, come from an infected locality, and that he has that authority\n",
      "under the Health By-Law, 1893, which was passed at the time of the small pox panic in Victoria, and,\n",
      "in all he did, was simply doing his duty.\n",
      "Similarity Score: 0.9614\n",
      "\n",
      "Author: Crease\n",
      "Sentence: CREASE, J.: This was a test action to try whether Chinamen have the same rights as other foreigners\n",
      "in landing here on their advent from China.\n",
      "Similarity Score: 0.9563\n",
      "\n",
      "Author: Begbie\n",
      "Sentence: When we find (1st) no other description of labour taxed at all ; (2nd) this description of labour\n",
      "practically quite abandoned to Chinamen alone ; (3rd) this description of labour taxed at fifteen\n",
      "times the rate permitted to be levied on any retail shop ; (4th) that a preliminary Provincial Act\n",
      "has declared Chinamen incapable of the franchise which they formerly exercised.\n",
      "Similarity Score: 0.9561\n",
      "\n",
      "Author: Crease\n",
      "Sentence: So far, I have dealt with the Act on its own merits; but if we consider it in juxtaposition to the\n",
      "Dominion Act recently passed restricting the Chinese throughout all Canada, its illegality becomes\n",
      "transparent; for in passing that Act against the Chinese the Dominion has spoken by the highest\n",
      "authority which it possesses—its own Parliament.\n",
      "Similarity Score: 0.9556\n",
      "\n",
      "Author: Crease\n",
      "Sentence: Opponents to the Act might as well contend the exclusion of the Chinese from the franchise, and\n",
      "barring them from acquiring lands, was illegal.\n",
      "Similarity Score: 0.9554\n",
      "\n",
      "Author: Crease\n",
      "Sentence: If its object were successful and Chinese driven from the country, the customs dues received from\n",
      "the Chinese would be lost and the benefits of trade relations enjoyed by the merchants would be\n",
      "destroyed.\n",
      "Similarity Score: 0.9552\n",
      "\n",
      "Author: Crease\n",
      "Sentence: The whole Act teems with special provisions which affect not only Chinese, but their employers, with\n",
      "obligations and liabilities as to the conduct of the Chinese in their employ, that no reasonable man\n",
      "would encounter, and run the risk of the penal consequences which the Act hangs over him.\n",
      "Similarity Score: 0.9552\n",
      "\n"
     ]
    }
   ],
   "source": [
    "# Print out the 10 most similar embedding sentences to Crease's mean embedding\n",
    "crease_similarity_df = pd.DataFrame(columns=['Author', 'Text', 'Similarity Score'])\n",
    "\n",
    "# Iterate through the embeddings and their corresponding sentences\n",
    "for auth, snippets in act_snippets.items():\n",
    "    for snippet, emb in zip(snippets, embeddings_dict[auth]):\n",
    "        similarity = cosine_similarity(emb.reshape(1, -1), mean_crease)[0][0]\n",
    "        crease_similarity_df.loc[len(crease_similarity_df)] = [auth, snippet, similarity]\n",
    "        \n",
    "# Sort by similarity score\n",
    "crease_sorted_similarity = crease_similarity_df.sort_values(by='Similarity Score', ascending=False)\n",
    "\n",
    "print(\"Top 10 most similar sentences to Crease's mean embedding:\\n\")\n",
    "for _, row in crease_sorted_similarity.head(10).iterrows():\n",
    "    wrapped_para = textwrap.fill(row['Text'], width=100)\n",
    "    print(f\"Author: {row['Author']}\\nSentence: {wrapped_para}\\nSimilarity Score: {row['Similarity Score']:.4f}\\n\")"
   ]
  },
  {
   "cell_type": "code",
   "execution_count": 44,
   "id": "57b0e831",
   "metadata": {},
   "outputs": [
    {
     "name": "stdout",
     "output_type": "stream",
     "text": [
      "Top 10 most similar sentences to Begbie's mean embedding:\n",
      "\n",
      "Author: Begbie\n",
      "Sentence: Statutes were by their title and preamble  expressly aimed at Chinamen by name; that this\n",
      "distinction also renders inapplicable all the United States' cases cited; that this enactment is\n",
      "quite general extending to all laundries without exception and we must not look beyond the words of\n",
      "the enactment to enquire what its object was; that there is in fact one laundry in Victoria not\n",
      "conducted by Chinamen on which the tax will fall with equal force so that it is impossible to say\n",
      "that Chinamen are hereby exclusively selected for taxation; the circumstance that they are chiefly\n",
      "affected being a mere coincidence; that the bylaw only imposes $100.00 per annum, keeping far within\n",
      "the limit of $150.00 permitted by the Statute; that the tax clearly is calculated to procuring\n",
      "additional Municipal revenue and that no other object is hinted at.\n",
      "Similarity Score: 0.9653\n",
      "\n",
      "Author: Begbie\n",
      "Sentence: When we find (1st) no other description of labour taxed at all ; (2nd) this description of labour\n",
      "practically quite abandoned to Chinamen alone ; (3rd) this description of labour taxed at fifteen\n",
      "times the rate permitted to be levied on any retail shop ; (4th) that a preliminary Provincial Act\n",
      "has declared Chinamen incapable of the franchise which they formerly exercised.\n",
      "Similarity Score: 0.9642\n",
      "\n",
      "Author: Begbie\n",
      "Sentence: In the French colony of Cayenne, the Town Council recently handicapped the superior capacities of\n",
      "the Chinaman by imposing on merchants of that empire an extra tax of $300 per annum, deeming it also\n",
      "expedient to handicap English and German traders by a surtax of $200 on them.\n",
      "Similarity Score: 0.9578\n",
      "\n",
      "Author: Crease\n",
      "Sentence: The Act is found associated with another Act now disallowed, the express object of which is to\n",
      "prevent the Chinese altogether from coming to this country, and the principle \"noscitur a sociis\" is\n",
      "kept up by the preamble of the present Act, which describes the Chinese in terms which, I venture to\n",
      "think, have never before in any other country found a place in an Act of Parliament.\n",
      "Similarity Score: 0.9564\n",
      "\n",
      "Author: Begbie\n",
      "Sentence: The appellants' contention that the clause is merely intended to hamper or expel Chinamen is much\n",
      "strengthened by considering the amount of the tax sanctioned, which is $150.00 per annum, whereas\n",
      "the limit sanctioned by the Legislature in the case of any retail shop, however extensive or\n",
      "lucrative its business, is only $10.00 per annum.\n",
      "Similarity Score: 0.9549\n",
      "\n",
      "Author: Crease\n",
      "Sentence: So far, I have dealt with the Act on its own merits; but if we consider it in juxtaposition to the\n",
      "Dominion Act recently passed restricting the Chinese throughout all Canada, its illegality becomes\n",
      "transparent; for in passing that Act against the Chinese the Dominion has spoken by the highest\n",
      "authority which it possesses—its own Parliament.\n",
      "Similarity Score: 0.9539\n",
      "\n",
      "Author: Begbie\n",
      "Sentence: Indeed if no restriction whatever be placed on the word \" other\" in that section; if the Provincial\n",
      "Legislature can insist upon imposing licenses upon everything and upon every act of life, and tax\n",
      "each licensee at any moment they please, there would be a very simple way of excluding every\n",
      "Chinaman from the Province, by imposing a universal tax, not limited to any nationality, of one or\n",
      "two thousand dollars per annum for a license to Judgment.\n",
      "Similarity Score: 0.9537\n",
      "\n",
      "Author: Crease\n",
      "Sentence: CREASE, J.: This was a test action to try whether Chinamen have the same rights as other foreigners\n",
      "in landing here on their advent from China.\n",
      "Similarity Score: 0.9497\n",
      "\n",
      "Author: Begbie\n",
      "Sentence: If the object of the Provincial Statute be as alleged, viz., Feb. 3.  to subject Chinamen to\n",
      "exceptional disadvantages it is clearly unconstitutional.\n",
      "Similarity Score: 0.9497\n",
      "\n",
      "Author: Crease\n",
      "Sentence: However difficult or impossible for any Chinese to find a district collector, if such Chinese is\n",
      "\"found without a license he is liable to a fine of $40.\"\n",
      "Similarity Score: 0.9491\n",
      "\n"
     ]
    }
   ],
   "source": [
    "# Print out the 10 most similar embedding sentences to Begbie's mean embedding\n",
    "\n",
    "begbie_similarity_df = pd.DataFrame(columns=['Author', 'Text', 'Similarity Score'])\n",
    "\n",
    "# Iterate through the embeddings and their corresponding sentences\n",
    "for auth, snippets in act_snippets.items():\n",
    "    for snippet, emb in zip(snippets, embeddings_dict[auth]):\n",
    "        similarity = cosine_similarity(emb.reshape(1, -1), mean_begbie)[0][0]\n",
    "        begbie_similarity_df.loc[len(begbie_similarity_df)] = [auth, snippet, similarity]\n",
    "        \n",
    "# Sort by similarity score\n",
    "begbie_sorted_similarity = begbie_similarity_df.sort_values(by='Similarity Score', ascending=False)\n",
    "\n",
    "print(\"Top 10 most similar sentences to Begbie's mean embedding:\\n\")\n",
    "for _, row in begbie_sorted_similarity.head(10).iterrows():\n",
    "    wrapped_para = textwrap.fill(row['Text'], width=100)\n",
    "    print(f\"Author: {row['Author']}\\nSentence: {wrapped_para}\\nSimilarity Score: {row['Similarity Score']:.4f}\\n\")"
   ]
  },
  {
   "cell_type": "code",
   "execution_count": 45,
   "id": "3c773236",
   "metadata": {},
   "outputs": [
    {
     "name": "stdout",
     "output_type": "stream",
     "text": [
      "Top 10 most similar sentences to the Regulation Act's mean embedding:\n",
      "\n",
      "Author: Act 1884\n",
      "Sentence: In case any employer of Chinese fails to deliver to the Collector the list mentioned in the\n",
      "preceding section, when required so to do, or knowingly states anything falsely therein, such\n",
      "employer shall, on complaint of the Collector and upon conviction before a Justice of the Peace\n",
      "having jurisdiction within the district wherein such employer carries on his business, forfeit and\n",
      "pay a fine not exceeding one hundred dollars for every Chinese in his employ, to be recovered by\n",
      "distress of the goods and chattels of such employer failing to pay the same, or in lieu thereof\n",
      "shall be liable to imprisonment for a period not less than one month and not exceeding two calendar\n",
      "months.\n",
      "Similarity Score: 0.9663\n",
      "\n",
      "Author: Act 1884\n",
      "Sentence: The Toll Collector at any and every toll gate which may exist in the Province from time to time,\n",
      "shall, before allowing any Chinese to pass through any toll gate, demand from such Chinese the\n",
      "production of his licence, and, until the same is produced, such Chinese shall not be allowed to\n",
      "proceed through the toll gate.\n",
      "Similarity Score: 0.9622\n",
      "\n",
      "Author: Act 1884\n",
      "Sentence: It shall be unlawful for any person to employ any Chinese who has not in his possession the licence\n",
      "required by this Act, and any person guilty of an infraction of the provisions of this section shall\n",
      "forfeit and pay a fine not exceeding fifty dollars for every Chinese so employed.\n",
      "Similarity Score: 0.9619\n",
      "\n",
      "Author: Act 1884\n",
      "Sentence: Any Chinese who shall be found mining for gold and precious metals, or following the ordinary\n",
      "occupation of a free miner, whether on his own account or for others, without having in his\n",
      "possession a free miner’s certificate, lawfully issued to him subsequently to the passage of this\n",
      "Act, and any person who shall employ any Chinese in and about gold mining who has not in his\n",
      "possession such a certificate, shall forfeit and pay a sum not exceeding thirty dollars.\n",
      "Similarity Score: 0.9602\n",
      "\n",
      "Author: Act 1884\n",
      "Sentence: The sum payable by a Chinese for a free miner’s certificate shall be fifteen dollars for each year\n",
      "during which the same is to be in force instead of five dollars, as by the present mining laws\n",
      "provided, and no free miner’s certificate shall hereafter be issued to any Chinese except upon\n",
      "payment of the said sum of fifteen dollars.\n",
      "Similarity Score: 0.9558\n",
      "\n",
      "Author: Crease\n",
      "Sentence: By Sec.”   Section 9.”  Section 10 gives the collector power to “levy the amount of the license from\n",
      "any Chinese not being in lawful possession of a license, “with costs, by distress of his goods and\n",
      "chattels, or of any goods and “chattels which may be in the possession of the delinquent, or which\n",
      "“may be upon or in any premises (whether the goods of the delin- “quent or not) for the time being\n",
      "in the possession or occupation of “such delinquent Chinese,” and declares that “for the purposes of\n",
      "this “section premises shall be deemed to be in the possession or occupa- “tion of any Chinese when\n",
      "it can be shown to the satisfaction of the “tribunal having cognizance of the matter (a) that such\n",
      "Chinese “habitually frequents such premises with the assent of the owner ; “(b) that he is the owner\n",
      "or one of the owners of the premises, or has “control, either alone or jointly, with another or\n",
      "others, of such pre- “mises or some part thereof; (c) that he has passed the night or slept “upon\n",
      "such premises at any time within a week of the levy, it shall “be sufficient authority for the\n",
      "collector to levy as aforesaid on the “non-production of the license.\n",
      "Similarity Score: 0.9558\n",
      "\n",
      "Author: Crease\n",
      "Sentence: However difficult or impossible for any Chinese to find a district collector, if such Chinese is\n",
      "\"found without a license he is liable to a fine of $40.\"\n",
      "Similarity Score: 0.9537\n",
      "\n",
      "Author: Act 1884\n",
      "Sentence: Any Chinese who shall be found within the Province not having in his possession a licence issued\n",
      "under the provisions of this Act, lawfully issued to him, shall on conviction thereof forfeit and\n",
      "pay a sum not exceeding forty dollars.\n",
      "Similarity Score: 0.9505\n",
      "\n",
      "Author: Crease\n",
      "Sentence: 4 provides for the appointment and payment of special collectors, \"to be called Chinese collectors,\n",
      "to collect and receive such \"payments from Chinese; and such collector or collectors, immediately\n",
      "upon such payment, shall issue and deliver to the person paying \"the same a licence in the form\n",
      "contained in the schedule hereto.\"\n",
      "Similarity Score: 0.9489\n",
      "\n",
      "Author: Act 1884\n",
      "Sentence: The Lieutenant-Governor in Council shall immediately upon the passage of this Act, and from time to\n",
      "time thereafter as occasion may require, appoint in each electoral district, one or more person or\n",
      "persons to be called Chinese Collectors, to collect and receive such payments from Chinese, and such\n",
      "Collector or Collectors immediately upon such payment shall issue and deliver to the person paying\n",
      "the same a licence in the form contained in the Schedule hereto, and the Lieutenant-Governor in\n",
      "Council may require from the Collectors so to be appointed such security as he may see fit and may\n",
      "allow them such percentage upon the amount of collections as may seem reasonable and just, and the\n",
      "Lieutenant-Governor in Council may further allow such additional sum by way of expenses as may be\n",
      "necessary and reasonable for the purpose of carrying out the provisions of this Act.\n",
      "Similarity Score: 0.9488\n",
      "\n"
     ]
    }
   ],
   "source": [
    "# Print out the 10 most similar embedding sentences to the Regulation Act's mean embedding\n",
    "\n",
    "regulation_similarity_df = pd.DataFrame(columns=['Author', 'Text', 'Similarity Score'])\n",
    "\n",
    "# Iterate through the embeddings and their corresponding sentences\n",
    "for auth, snippets in act_snippets.items():\n",
    "    for snippet, emb in zip(snippets, embeddings_dict[auth]):\n",
    "        similarity = cosine_similarity(emb.reshape(1, -1), mean_act_1884)[0][0]\n",
    "        regulation_similarity_df.loc[len(regulation_similarity_df)] = [auth, snippet, similarity]\n",
    "        \n",
    "# Sort by similarity score\n",
    "regulation_sorted_similarity = regulation_similarity_df.sort_values(by='Similarity Score', ascending=False)\n",
    "\n",
    "print(\"Top 10 most similar sentences to the Regulation Act's mean embedding:\\n\")\n",
    "for _, row in regulation_sorted_similarity.head(10).iterrows():\n",
    "    wrapped_para = textwrap.fill(row['Text'], width=100)\n",
    "    print(f\"Author: {row['Author']}\\nSentence: {wrapped_para}\\nSimilarity Score: {row['Similarity Score']:.4f}\\n\")"
   ]
  },
  {
   "cell_type": "markdown",
   "id": "2fa5ec10",
   "metadata": {},
   "source": [
    "> **Discussion:**\n",
    ">\n",
    "> - Based on the sentences displayed above, how would you conclude the mean stance of Crease and Begbie towards the Chinese Regulation Act of 1884?\n",
    "> - When reading the sentences that are most similar to the mean embedding of the Chinese Regulation Act of 1884, we notice there are some sentences from Crease's ruling. How do you interpret this phenomenon? Do you find it problematic?"
   ]
  },
  {
   "cell_type": "markdown",
   "id": "f2bb3318",
   "metadata": {},
   "source": [
    "### Topic Modeling and Topic Alignment Analysis Using BERTopic"
   ]
  },
  {
   "cell_type": "code",
   "execution_count": 48,
   "id": "ff3203e1",
   "metadata": {},
   "outputs": [
    {
     "name": "stderr",
     "output_type": "stream",
     "text": [
      "No sentence-transformers model found with name nlpaueb/legal-bert-base-uncased. Creating a new one with mean pooling.\n"
     ]
    }
   ],
   "source": [
    "from bertopic import BERTopic\n",
    "from sentence_transformers import SentenceTransformer\n",
    "from bertopic.vectorizers import ClassTfidfTransformer\n",
    "from sklearn.feature_extraction.text import CountVectorizer\n",
    "from umap import UMAP\n",
    "\n",
    "embedding_model = SentenceTransformer(\"nlpaueb/legal-bert-base-uncased\")\n",
    "\n",
    "# Use UMAP for dimensionality reduction within BERTopic\n",
    "umap_model = UMAP(n_neighbors=15, n_components=5, metric='cosine', random_state=0)\n",
    "ctfidf_model = ClassTfidfTransformer(reduce_frequent_words=True)\n",
    "vectorizer = CountVectorizer(stop_words=\"english\", ngram_range=(1, 2), max_df=1, min_df=1)\n",
    "\n",
    "topic_model = BERTopic(umap_model=umap_model,\n",
    "                       vectorizer_model=vectorizer,\n",
    "                       embedding_model=embedding_model,\n",
    "                       ctfidf_model=ctfidf_model)\n",
    "\n",
    "full_docs = df['text'].tolist()\n",
    "\n",
    "# split the documents into paragraphs\n",
    "paragraphs = []\n",
    "for doc in full_docs:\n",
    "    # Split the document into paragraphs\n",
    "    para_list = doc.split('\\n\\n')  # Assuming paragraphs are separated by double newlines\n",
    "    paragraphs.extend(para_list)\n",
    "\n",
    "topics, probs = topic_model.fit_transform(sentences)\n",
    "\n",
    "# Get topic embeddings (centroids in embedding space)\n",
    "bt_topic_info = topic_model.get_topic_info()"
   ]
  },
  {
   "cell_type": "code",
   "execution_count": 49,
   "id": "94cb4c07",
   "metadata": {},
   "outputs": [
    {
     "name": "stdout",
     "output_type": "stream",
     "text": [
      "Top topics identified by BERTopic:\n",
      "Topic -1: 25 documents, Top words: -1_16 92_21 judgment_16 pp_15 408\n",
      "Topic 0: 1374 documents, Top words: 0_chinese_british_shall_case\n",
      "Topic 1: 45 documents, Top words: 1_10 11_14 15_11 12_13 14\n",
      "Topic 2: 32 documents, Top words: 2_ii 92_judgment ii__\n",
      "Topic 3: 29 documents, Top words: 3_21 22_20 21_26 27_25 26\n",
      "Topic 4: 20 documents, Top words: 4_113 hon_112 113_112_108 app\n",
      "Topic 5: 20 documents, Top words: 5_834 21_2nd feb_1st 2nd_834\n",
      "Topic 6: 17 documents, Top words: 6_95_95 sec_act sec_sec 95\n",
      "Topic 7: 16 documents, Top words: 7_pt_pt pt__\n",
      "Topic 8: 11 documents, Top words: 8_cas cas___\n"
     ]
    }
   ],
   "source": [
    "# Display the topics\n",
    "print(\"Top topics identified by BERTopic:\")\n",
    "for i, row in bt_topic_info.iterrows():\n",
    "    print(f\"Topic {row['Topic']}: {row['Count']} documents, Top words: {', '.join(row['Name'].split(',')[:5])}\")"
   ]
  },
  {
   "cell_type": "markdown",
   "id": "34c41802",
   "metadata": {},
   "source": [
    "### Zero-shot Stance Classification with bart-Large-mnli"
   ]
  },
  {
   "cell_type": "markdown",
   "id": "5e4912d3",
   "metadata": {},
   "source": [
    "We can also use the approach of **zero-shot classification** to classify the stance of Crease towards Chinese immigrants.\n",
    "\n",
    "**Zero-shot classification** is a technique that allows us to classify text into predefined categories without the need for labeled training data. It uses a pre-trained model to generate embeddings for the text and then compares the embeddings to the predefined categories to determine the most likely category for each text. We typically have two strategies for zero-shot classification: First, tokenize by sentences and then classify each sentence individually, or second, chunk the text into overlapping windows and classify each window.\n",
    "\n",
    "In this section, instead of using the LEGAL-BERT model, we will use the **[BART model](https://huggingface.co/facebook/bart-large-mnli)**, which is a pre-trained model that has been fine-tuned for zero-shot classification tasks. We begin by creating a dictionary to hold the full text of each author."
   ]
  },
  {
   "cell_type": "code",
   "execution_count": 47,
   "id": "ca333b38",
   "metadata": {},
   "outputs": [],
   "source": [
    "# Create the full snippets dictionary\n",
    "act_1884_full = \" \".join(act_1884)\n",
    "crease_cases_full = \" \".join(crease_cases)\n",
    "begbie_cases_full = \" \".join(begbie_cases)\n",
    "\n",
    "full_cases = {\"Crease\": crease_cases_full, \"Begbie\": begbie_cases_full, \"Act 1884\": act_1884_full}"
   ]
  },
  {
   "cell_type": "markdown",
   "id": "cfa9ebf3",
   "metadata": {},
   "source": [
    "The first strategy we will use is to tokenize the text by sentences and then classify each sentence individually. We will use the `nltk` library to tokenize the text into sentences, and then use the BART model to classify each sentence into one of the predefined categories. Notice that we filtered out the sentences that are too short, as they may unlikely to contain meaningful stances."
   ]
  },
  {
   "cell_type": "code",
   "execution_count": 48,
   "id": "5bc8fa0c",
   "metadata": {},
   "outputs": [],
   "source": [
    "\n",
    "full_snippets = {}\n",
    "for author, text in full_cases.items():\n",
    "    sentence = sent_tokenize(text)\n",
    "    snippets = []\n",
    "    for sent in sentence:\n",
    "        if len(sent) > 30:  # Filter out short and meaningless sentences created by tokenization\n",
    "            snippets.append(sent)\n",
    "            \n",
    "    full_snippets[author] = snippets"
   ]
  },
  {
   "cell_type": "code",
   "execution_count": 49,
   "id": "953f22e0",
   "metadata": {},
   "outputs": [
    {
     "name": "stdout",
     "output_type": "stream",
     "text": [
      "Snippet size by author:\n",
      "\n",
      "Crease: 287\n",
      "Begbie: 202\n",
      "Act 1884: 40\n"
     ]
    }
   ],
   "source": [
    "print(\"Snippet size by author:\\n\")\n",
    "for auth, snippets in full_snippets.items():\n",
    "    print(f\"{auth}: {len(snippets)}\")"
   ]
  },
  {
   "cell_type": "markdown",
   "id": "eb91063f",
   "metadata": {},
   "source": [
    "Here, we load the model and create a **pipeline** for zero-shot classification. The pipeline consists of the method, the model, the tokenizer and a hypothesis template that will take the text and the candidate labels as input and return the predicted labels and their corresponding scores. We also define the candidate labels that we want to use for classification, those can also be considered as \"prompts\" for the model to classify the text. \n",
    "\n",
    "The label I created are:\n",
    "- \"advocates for equal legal treatment of Chinese immigrants compared to white or European settlers, opposing racial discrimination\"\n",
    "- \"describes the status or treatment of Chinese immigrants without expressing support or opposition to racial inequality\",\n",
    "- \"justifies or reinforces unequal legal treatment of Chinese immigrants relative to white or European settlers, supporting racially discriminatory policies\"\n",
    "\n",
    "Note that the risk of using zero-shot classification is that the model may be very sensitive to the wording of the labels, so it is important to carefully design the labels to capture the intended meaning."
   ]
  },
  {
   "cell_type": "code",
   "execution_count": 50,
   "id": "0cc160c7",
   "metadata": {},
   "outputs": [
    {
     "name": "stdout",
     "output_type": "stream",
     "text": [
      "WARNING:tensorflow:From c:\\Users\\Kaiyan Zhang\\AppData\\Local\\Programs\\Python\\Python312\\Lib\\site-packages\\tf_keras\\src\\losses.py:2976: The name tf.losses.sparse_softmax_cross_entropy is deprecated. Please use tf.compat.v1.losses.sparse_softmax_cross_entropy instead.\n",
      "\n"
     ]
    },
    {
     "name": "stderr",
     "output_type": "stream",
     "text": [
      "Device set to use cpu\n"
     ]
    }
   ],
   "source": [
    "# Create pipeline for zero-shot classification\n",
    "from transformers import pipeline\n",
    "\n",
    "zero_shot = pipeline(\n",
    "    \"zero-shot-classification\",\n",
    "    model=\"facebook/bart-large-mnli\",\n",
    "    tokenizer=\"facebook/bart-large-mnli\",\n",
    "    hypothesis_template=\"This legal text {}.\"\n",
    ")\n",
    "\n",
    "labels = [\n",
    "    \"advocates for equal legal treatment of Chinese immigrants compared to white or European settlers, opposing racial discrimination\",\n",
    "    \"describes the status or treatment of Chinese immigrants without expressing support or opposition to racial inequality\",\n",
    "    \"justifies or reinforces unequal legal treatment of Chinese immigrants relative to white or European settlers, supporting racially discriminatory policies\"\n",
    "]\n",
    "\n",
    "def get_scores(snippet):\n",
    "    out = zero_shot(snippet, candidate_labels=labels)\n",
    "    return dict(zip(out[\"labels\"], out[\"scores\"]))"
   ]
  },
  {
   "cell_type": "markdown",
   "id": "283b25bd",
   "metadata": {},
   "source": [
    "We run the zero-shot classification pipeline on the tokenized sentences of the full text of each author. The pipeline will return the predicted labels and their corresponding scores for each sentence, indicating the model's confidence in each classification. We store the results in a pandas DataFrame for further analysis. "
   ]
  },
  {
   "cell_type": "code",
   "execution_count": 51,
   "id": "0f3fc9f4",
   "metadata": {},
   "outputs": [
    {
     "name": "stdout",
     "output_type": "stream",
     "text": [
      "   Author                                               Text       Pro  \\\n",
      "0  Crease  14th & 15th July, Certiorari—“Chinese Regulati...  0.117588   \n",
      "1  Crease     91, 92—“Aliens”—“Trade and Commerce”—Taxation.  0.216018   \n",
      "2  Crease             On the return to a writ of certiorari.  0.421116   \n",
      "3  Crease  Held, that the “Chinese Regulation Act, 1884,”...  0.094343   \n",
      "4  Crease   It is an interference with the rights of Aliens.  0.176685   \n",
      "\n",
      "    Neutral      Cons  \n",
      "0  0.153374  0.729037  \n",
      "1  0.428755  0.355227  \n",
      "2  0.234079  0.344805  \n",
      "3  0.313360  0.592297  \n",
      "4  0.391968  0.431347  \n"
     ]
    }
   ],
   "source": [
    "# Run zero-shot classification on the snippets from the Chinese Regulation Act 1884\n",
    "act_scores = {}\n",
    "\n",
    "for auth, snippets in full_snippets.items():\n",
    "    scores = []\n",
    "    for snip in snippets:\n",
    "        score = get_scores(snip)\n",
    "        scores.append(score)\n",
    "    act_scores[auth] = scores\n",
    "\n",
    "rows = []\n",
    "\n",
    "for auth, snippets in full_snippets.items():\n",
    "    for snip, score_dict in zip(snippets, act_scores[auth]):\n",
    "        row = {\n",
    "            \"Author\": auth,\n",
    "            \"Text\": snip,\n",
    "            \"Pro\": score_dict[labels[0]],\n",
    "            \"Neutral\": score_dict[labels[1]],\n",
    "            \"Cons\": score_dict[labels[2]]\n",
    "        }\n",
    "        rows.append(row)\n",
    "\n",
    "# Create DataFrame to store the scores\n",
    "df_scores = pd.DataFrame(rows)\n",
    "\n",
    "print(df_scores.head())"
   ]
  },
  {
   "cell_type": "markdown",
   "id": "61a0be40",
   "metadata": {},
   "source": [
    "We print out the top 10 sentences with the highest scores for each label, which indicates the sentences that are most likely to belong to that category."
   ]
  },
  {
   "cell_type": "code",
   "execution_count": 52,
   "id": "cc0554a4",
   "metadata": {},
   "outputs": [
    {
     "name": "stdout",
     "output_type": "stream",
     "text": [
      "\n",
      "Top 10 sentences with the highest 'Pro' scores:\n",
      "Author: Begbie\n",
      "Sentence: Justices FIELD, HOFFMAN, SAWYER and DEADY and other Judges whom they cite, all confirm this, that a\n",
      "State, or Provincial law imposing special disabilities or unequal burdens on Chinamen is\n",
      "unconstitutional and void.\n",
      "Pro Score: 0.9632\n",
      "\n",
      "Author: Crease\n",
      "Sentence: 6, ratified 26th June, 1843, p. 221, and Lord Elgin's treaty of October, 1860, authenticated copies\n",
      "of which were produced in Court, secure to Chinese coming into British dominions the same \"full\n",
      "security for persons and property as subjects of Her Majesty.\"\n",
      "Pro Score: 0.9309\n",
      "\n",
      "Author: Crease\n",
      "Sentence: The treaties I have quoted between Great Britain and China, binding on the Dominion and on us in\n",
      "British Columbia, secure to the Chinese, just as the treaties between Great Britain and other\n",
      "foreign countries secure to other foreigners, the same rights in regard to the equality of taxation\n",
      "which I have described as being enjoyed by citizens of this country.\n",
      "Pro Score: 0.9065\n",
      "\n",
      "Author: Crease\n",
      "Sentence: Inherent in and incidental to the taxing power was the characteristic of equality.\n",
      "Pro Score: 0.7826\n",
      "\n",
      "Author: Begbie\n",
      "Sentence: It is not competent to the Provincial Legislature, or to a municipality, to deprive, generally,\n",
      "particular nationalities or individuals of the capacity to take out municipal trade licenses ; e.\n",
      "g., a Chinaman has a right to apply for a pawnbroker's license.\n",
      "Pro Score: 0.7718\n",
      "\n",
      "Author: Crease\n",
      "Sentence: ), 2nd Vol., 388, it is insisted—\"That every person is entitled to be protected in the enjoyment of\n",
      "his property, not only from invasions of it by individuals, but from all unequal and undue\n",
      "assessments on the part of the Government.\n",
      "Pro Score: 0.7367\n",
      "\n",
      "Author: Begbie\n",
      "Sentence: Prima facie, every person living under the protection of British law has a right at once to exercise\n",
      "his industry and ability in any trade or calling he may select.\n",
      "Pro Score: 0.7146\n",
      "\n",
      "Author: Begbie\n",
      "Sentence: Now can anybody in the Province, on or off the Bench, conscientiously say that this ordinance does\n",
      "not come within the principle thus enunciated ?\n",
      "Pro Score: 0.6915\n",
      "\n",
      "Author: Crease\n",
      "Sentence: *Drake*, Q. C., on the same side, argued that the imposition of the $10 tax was invalid because of\n",
      "inequality.\n",
      "Pro Score: 0.6700\n",
      "\n",
      "Author: Crease\n",
      "Sentence: The reports of the higher California courts are of great authority for us on all Chinese questions,\n",
      "for there have been efforts for years past to restrict Chinese immigration in California, and the\n",
      "matter has been constantly before the superior courts there, and the judges there (if we may take\n",
      "the reports as correct) are more than ordinarily skilled in laying down the law correctly in\n",
      "constitutional points of that nature.\n",
      "Pro Score: 0.6638\n",
      "\n"
     ]
    }
   ],
   "source": [
    "# Print out the top 10 sentences with the highest \"Pro\" scores\n",
    "top_pro_sentences = df_scores.nlargest(10, 'Pro')\n",
    "\n",
    "print(\"\\nTop 10 sentences with the highest 'Pro' scores:\")\n",
    "\n",
    "for _, row in top_pro_sentences.iterrows():\n",
    "    wrapped_para = textwrap.fill(row['Text'], width=100)\n",
    "    print(f\"Author: {row['Author']}\\nSentence: {wrapped_para}\\nPro Score: {row['Pro']:.4f}\\n\")"
   ]
  },
  {
   "cell_type": "code",
   "execution_count": 53,
   "id": "62f47ecc",
   "metadata": {},
   "outputs": [
    {
     "name": "stdout",
     "output_type": "stream",
     "text": [
      "\n",
      "Top 10 sentences with the highest 'Cons' scores:\n",
      "Author: Crease\n",
      "Sentence: And again, \"A tax imposed by the law on these persons for the mere right to reside here, is an\n",
      "appropriate and effective means to discourage the immigration of the Chinese into the State.\"\n",
      "Cons Score: 0.9659\n",
      "\n",
      "Author: Crease\n",
      "Sentence: He reviewed the legislation against Chinese since confederation, contending it was levelled against\n",
      "a particular race of aliens and, therefore, beyond provincial control, per *Gwynne*, J., in\n",
      "*Citizens Insurance Co. v. Parsons*, 4 S. C. R., at p. 346.\n",
      "Cons Score: 0.9637\n",
      "\n",
      "Author: Crease\n",
      "Sentence: The power asserted in the Act in question (the California Act) is the right of the State to\n",
      "prescribe the terms upon which the Chinese shall be permitted to reside in it, and be so used as to\n",
      "cut off all intercourse between them and the people of the State, and defeat the commercial policy\n",
      "of the nation.\n",
      "Cons Score: 0.9594\n",
      "\n",
      "Author: Crease\n",
      "Sentence: The provisions of the Act I have given somewhat in extenso bear out that view, and the concurrent\n",
      "and previous local legislation bear out the same impression, for on the same day as this Act was\n",
      "passed, another Act was passed, the very object of which was plainly stated to be \"to prevent the\n",
      "immigration\" of Chinese.\"\n",
      "Cons Score: 0.9560\n",
      "\n",
      "Author: Crease\n",
      "Sentence: In other words, every Chinese is guilty until proved innocent—a provision which fills one conversant\n",
      "with subjects with alarm; for if such a law can be tolerated as against Chinese, the precedent is\n",
      "set, and in time of any popular outcry can easily be acted on for putting any other foreigners or\n",
      "even special classes among ourselves, as coloured people, or French, Italians, Americans, or\n",
      "Germans, under equally the same law.\n",
      "Cons Score: 0.9444\n",
      "\n",
      "Author: Crease\n",
      "Sentence: The Act is found associated with another Act now disallowed, the express object of which is to\n",
      "prevent the Chinese altogether from coming to this country, and the principle \"noscitur a sociis\" is\n",
      "kept up by the preamble of the present Act, which describes the Chinese in terms which, I venture to\n",
      "think, have never before in any other country found a place in an Act of Parliament.\n",
      "Cons Score: 0.9297\n",
      "\n",
      "Author: Begbie\n",
      "Sentence: And in determining the quality of any  clauses, the same Mr. Justice FIELD remarks : \" When we take\n",
      "our seats on the Bench, we are not struck with blindness and forbidden to know as Judges what we see\n",
      "as men ; and when an ordinance, though general in its terms, only operates upon a special race, sect\n",
      "or class, it being universally understood that it is to be enforced only against that race, sect or\n",
      "class, we may justly conclude that it was the intention of the body adopting it that it should only\n",
      "have such operation, and treat it accordingly.\"\n",
      "Cons Score: 0.9263\n",
      "\n",
      "Author: Crease\n",
      "Sentence: So far, I have dealt with the Act on its own merits; but if we consider it in juxtaposition to the\n",
      "Dominion Act recently passed restricting the Chinese throughout all Canada, its illegality becomes\n",
      "transparent; for in passing that Act against the Chinese the Dominion has spoken by the highest\n",
      "authority which it possesses—its own Parliament.\n",
      "Cons Score: 0.9230\n",
      "\n",
      "Author: Begbie\n",
      "Sentence: The appellants' contention that the clause is merely intended to hamper or expel Chinamen is much\n",
      "strengthened by considering the amount of the tax sanctioned, which is $150.00 per annum, whereas\n",
      "the limit sanctioned by the Legislature in the case of any retail shop, however extensive or\n",
      "lucrative its business, is only $10.00 per annum.\n",
      "Cons Score: 0.9202\n",
      "\n",
      "Author: Begbie\n",
      "Sentence: In the French colony of Cayenne, the Town Council recently handicapped the superior capacities of\n",
      "the Chinaman by imposing on merchants of that empire an extra tax of $300 per annum, deeming it also\n",
      "expedient to handicap English and German traders by a surtax of $200 on them.\n",
      "Cons Score: 0.9028\n",
      "\n"
     ]
    }
   ],
   "source": [
    "# Print out the top 10 sentences with the highest \"Cons\" scores\n",
    "top_cons_sentences = df_scores.nlargest(10, 'Cons')\n",
    "\n",
    "print(\"\\nTop 10 sentences with the highest 'Cons' scores:\")\n",
    "\n",
    "for _, row in top_cons_sentences.iterrows():\n",
    "    wrapped_para = textwrap.fill(row['Text'], width=100)\n",
    "    print(f\"Author: {row['Author']}\\nSentence: {wrapped_para}\\nCons Score: {row['Cons']:.4f}\\n\")"
   ]
  },
  {
   "cell_type": "markdown",
   "id": "2ba58bba",
   "metadata": {},
   "source": [
    "We can also calculate the mean scores and median scores for each label across all sentences, which gives us an overall measure of the stance of each author towards Chinese immigrants."
   ]
  },
  {
   "cell_type": "code",
   "execution_count": 54,
   "id": "4b5b5f2e",
   "metadata": {},
   "outputs": [
    {
     "name": "stdout",
     "output_type": "stream",
     "text": [
      "Mean scores by author:\n",
      "               Pro   Neutral      Cons\n",
      "Author                                \n",
      "Act 1884  0.295769  0.175459  0.528772\n",
      "Begbie    0.288473  0.302961  0.408566\n",
      "Crease    0.256670  0.282683  0.460647\n",
      "\n",
      "Median scores by author:\n",
      "               Pro   Neutral      Cons\n",
      "Author                                \n",
      "Act 1884  0.302220  0.160079  0.514868\n",
      "Begbie    0.285279  0.277356  0.394753\n",
      "Crease    0.250158  0.244683  0.440180\n"
     ]
    }
   ],
   "source": [
    "# Group by author and calculate mean scores\n",
    "mean_scores = df_scores.groupby(\"Author\")[[\"Pro\", \"Neutral\", \"Cons\"]].mean()\n",
    "median_scores = df_scores.groupby(\"Author\")[[\"Pro\", \"Neutral\", \"Cons\"]].median()\n",
    "\n",
    "print(\"Mean scores by author:\")\n",
    "print(mean_scores)\n",
    "\n",
    "print(\"\\nMedian scores by author:\")\n",
    "print(median_scores)\n"
   ]
  },
  {
   "cell_type": "markdown",
   "id": "b4c32114",
   "metadata": {},
   "source": [
    "We visualize the distribution of the Pro scores and Cons scores for each author using interactive scatter plots and histograms below to see how the scores are distributed across the sentences. This allows us to see if there are any patterns or trends in the stances of the authors"
   ]
  },
  {
   "cell_type": "code",
   "execution_count": 55,
   "id": "1c78adcf",
   "metadata": {},
   "outputs": [
    {
     "data": {
      "application/vnd.plotly.v1+json": {
       "config": {
        "plotlyServerURL": "https://plot.ly"
       },
       "data": [
        {
         "customdata": [
          [
           "14th & 15th July, Certiorari—“Chinese Regulation<br>Act, 1884,” s. 5—Constitutionality—B.N.A."
          ],
          [
           "91, 92—“Aliens”—“Trade and Commerce”—Taxation."
          ],
          [
           "On the return to a writ of certiorari."
          ],
          [
           "Held, that the “Chinese Regulation Act, 1884,” is<br>ultra vires of the Provincial Legislature, on the<br>following grounds:  1."
          ],
          [
           "It is an interference with the rights of Aliens."
          ],
          [
           "It is an interference with Trade and Commerce."
          ],
          [
           "It is an infraction of the existing treaties<br>between the Imperial Government and China."
          ],
          [
           "14th & 15th July—On the return of a writ of<br>certiorari directed to Edwin Johnson, Esquire,<br>Police Magistrate for the City of Victoria, to<br>return into this Court a certain conviction made<br>by him under which one Wing Chong was fined $20<br>for not having in his possession a license issued<br>under the “Chinese Regulation Act, 1884.”  The<br>Attorney-General in support of the conviction said<br>there were five points raised on the rule for the<br>certiorari against the validity of the $10<br>tax.—1st."
          ],
          [
           "That it interfered with the Dominion powers under<br>the B. N. A."
          ],
          [
           "Act, aliens, and naturalization; 2nd."
          ],
          [
           "That the tax was unequal, and 5th."
          ],
          [
           "As to the first point aliens were as much subject<br>to taxation as citizens."
          ],
          [
           "Protection and taxation were reciprocal (Cooley on<br>Taxation, p. 14)."
          ],
          [
           "The law did not deal with the conditions under<br>which aliens might acquire rights or become<br>subjects of Her Majesty."
          ],
          [
           "Secondly—Trade and commerce were not interfered<br>with."
          ],
          [
           "The object of the Act was two-fold, the police and<br>sanitary regulation of a numerous foreign element,<br>and the raising of revenue necessary to meet that<br>regulation (Hodge v. The Queen, L. R. 9, App."
          ],
          [
           "If incidentally trade and commerce were touched,<br>the provincial power of direct taxation was not<br>impaired (Citizens Insurance Co. v. Parsons, L. R.<br>7 App."
          ],
          [
           "The preamble and scope of the Act showed its<br>objects were purely matters of the police and<br>raising of revenue to meet the necessary<br>expenditure, and within “Direct Taxation.”<br>Thirdly—The treaty obligations of England did not<br>affect the question."
          ],
          [
           "The last communication from the Secretary of State<br>for the Colonies to the Governor-General, dated<br>16th May, 1884, stated, in effect, that the<br>Colonies with responsible government could pass<br>restrictive laws irrespective of treaties (B. C.<br>Sessional Papers, 1885, p. 464), and instanced the<br>legislation of the Australian Colonies and of the<br>Dominion."
          ],
          [
           "Fourthly—As to unequal taxation, the power of the<br>Province within its jurisdiction was supreme and<br>as plenary as that of the Imperial Parliament (R.<br>v. Burah, L.R."
          ],
          [
           "904; R. v. Hodge, L. R. 9, App."
          ],
          [
           "117; and Powell v. Apollo Candle Co., L.R."
          ],
          [
           "Cas., p. 290; and *In re Goodhue*, 19 Gr."
          ],
          [
           "366); *Cooley* on Taxation, pp."
          ],
          [
           "3, 82, 126-128, and *Cooley's Constitutional<br>Limitations* (5th Ed.)"
          ],
          [
           "), p. 501; *Potter's Dwarris* 418, 421, 425; *Dow<br>v. Black*, L. R. 6 P. C. 272, were cited as<br>showing the power of taxation, unless abridged by<br>the written constitution, might be exercised so as<br>to discriminate."
          ],
          [
           "The Supreme Court of Canada, in the case of *Jonas<br>v. Gilbert*, 5 S. C. R., 356, had practically<br>decided the same point."
          ],
          [
           "Fifthly—Whether called a licence or not, the<br>imposition was a direct poll tax, and as such came<br>within the power of the Province to raise money by<br>direct taxation for Provincial purposes."
          ],
          [
           "*Cooley* on Taxation, 386; *Wharton's Law<br>Lexicon*; *Reed v. Mousseau*, 8 S. C. R., 408."
          ],
          [
           "It was not a license to carry on business, or a<br>method whereby indirectly money was raised from<br>the consumer, as, for instance, customs or stamp<br>laws."
          ],
          [
           "*Richards*, Q. C., for Wing Chong—The object of<br>the Act was not for police purposes or to raise<br>revenue."
          ],
          [
           "Its object, though not apparent on the face of the<br>Act, was to prevent Chinese coming into the<br>Province and drive out those who had already come."
          ],
          [
           "He reviewed the legislation against Chinese since<br>confederation, contending it was levelled against<br>a particular race of aliens and, therefore, beyond<br>provincial control, per *Gwynne*, J., in *Citizens<br>Insurance Co. v. Parsons*, 4 S. C. R., at p. 346."
          ],
          [
           "The law was a direct interference with trade and<br>commerce (*R. v. Severn*, 2 Can."
          ],
          [
           "If its object were successful and Chinese driven<br>from the country, the customs dues received from<br>the Chinese would be lost and the benefits of<br>trade relations enjoyed by the merchants would be<br>destroyed."
          ],
          [
           "Counsel cited statistics from the Chinese<br>Commission showing the extreme importance, from a<br>fiscal and commercial point of view, of the large<br>number of Chinese in the Province."
          ],
          [
           "The Dominion under the B. N. A."
          ],
          [
           "Act had alone the right of performing in Canada<br>the obligations of Canada as part of the British<br>Empire in respect of treaties, and although Canada<br>might pass laws prohibiting immigration, or having<br>that tendency, the Province could not do so, nor<br>could it pass laws in derogation of treaties."
          ],
          [
           "He cited the British treaty (25th August, 1842,<br>from *Hertslet*, Vol."
          ],
          [
           "6, and Lord *Elgin's* treaty, 1860), comparing it<br>with the *Burlingame* treaty of the United States,<br>and quoted California decisions (*Lin Sing v.<br>Washburn*, 20 Cal."
          ],
          [
           "334), and the decision of *Gray*, J., in *Tai Sing<br>v. Maguire*, deciding that similar legislation was<br>held void as contravening the treaty and the<br>sovereign power to regulate trade and commerce<br>with foreign countries."
          ],
          [
           "*Drake*, Q. C., on the same side, argued that the<br>imposition of the $10 tax was invalid because of<br>inequality."
          ],
          [
           "Inherent in and incidental to the taxing power was<br>the characteristic of equality."
          ],
          [
           "*Cooley* stated that irrespective of<br>constitutional limitation a particular class of<br>citizens could not be burdened for the advantage<br>of others—*Cooley's Constitutional Limitations*,<br>p. 635."
          ],
          [
           "This was a principle underlying the power to tax<br>and governing that right even though the CREASE,<br>J."
          ],
          [
           "written constitution made no mention of it—Cooley<br>on Taxation, p. 18, and City of Lexington v.<br>McQuillan, 35 Am."
          ],
          [
           "The imposition was in derogation of treaty rights<br>with which Canada alone had the power to deal."
          ],
          [
           "The Australian legislation did not help the<br>contention of the Attorney-General."
          ],
          [
           "The Australian Colonies were autonomous, and<br>occupied the same position as that of Canada."
          ],
          [
           "The Provinces were not autonomous."
          ],
          [
           "He did not contend that the whole of the Act was<br>invalid."
          ],
          [
           "Much of it was within the scope of the Province,<br>notably the provisions affecting the size of<br>dwellings, the forbidding the use of opium, and<br>the desecration of grave-yards."
          ],
          [
           "He insisted that imposing excessive taxation on<br>one class of citizens was unconstitutional."
          ],
          [
           "The remarks of Chief Justice Ritchie, in the case<br>of Jonas v. Gilbert before the Supreme Court of<br>Canada, were obiter dicta, as the decision was<br>upon another point, and intimated, but did not<br>decide the right of the Provinces to discriminate,<br>nor in what things and to what extent<br>discrimination in taxation was legitimate."
          ],
          [
           "Lastly, the Act was for indirect taxation, which<br>was a power given only to the Dominion Parliament."
          ],
          [
           "It was a license fee, the power to impose which<br>had, in Severn v. The Queen, been decided against<br>the Provinces on the score of such legislation<br>being against trade and commerce."
          ],
          [
           "The Attorney-General in reply—The ten dollar<br>impost was a tax whether designated by the name of<br>a licence or otherwise."
          ],
          [
           "The distinction between direct and indirect<br>taxation was well drawn in the case of Reed v.<br>Mousseau before the Supreme Court of Canada, in<br>which Mr. Justice Strong mentioned the Privy<br>Council had decided the Provincial legislatures<br>had exclusive power to impose direct taxation, and<br>that it did not follow they might not have power<br>even to impose indirect taxation."
          ],
          [
           "The tax did not sanction the carrying on of any<br>business out of the product of which the consumer<br>would, indirectly, contribute towards payment of<br>the tax."
          ],
          [
           "Then as to inequality, the one dictum of Cooley<br>was but an expression of opinion that political<br>wisdom required uniform taxation; for the same<br>author cited numerous authorities, including that<br>of the Supreme Court of the United States<br>establishing the right to discriminate unless<br>fettered by the express language of the<br>Constitution."
          ],
          [
           "Todd on Parliamentary Government in the Colonies,<br>supported the view that the Provinces within their<br>jurisdiction were as omnipotent as the Imperial<br>Parliament."
          ],
          [
           "The California cases (see The People v. Naglee, 1<br>Cal."
          ],
          [
           "232) decided a differential tax might be imposed<br>on foreign miners; and though a later case (Lin<br>Sing v. Washburn, 20 Cal."
          ],
          [
           "334) had decided a special tax could not be<br>imposed on Chinese, a most celebrated Judge, Mr.<br>Justice Field (since elevated to the Federal<br>bench), dissented, and had pointed out that<br>according to federal decisions the State might<br>impose special taxation on alien residents,<br>provided the impost was not levied against<br>foreigners landing in the country."
          ],
          [
           "The tax was not to exclude the Chinese — another<br>statute with that object had been disallowed."
          ],
          [
           "It was imposed to meet the extraordinary expenses<br>incident to enforcing the police and sanitary<br>regulations prescribed by the Act."
          ],
          [
           "The question of treaties had nothing to do with<br>the subject, for to responsible governments the<br>Imperial Authorities conceded the right to pass<br>laws within their jurisdiction."
          ],
          [
           "So the Canadian Parliament to-day was passing a<br>restriction Act."
          ],
          [
           "Opponents to the Act might as well contend the<br>exclusion of the Chinese from the franchise, and<br>barring them from acquiring lands, was illegal."
          ],
          [
           "As to autonomy, neither the Australian Colonies<br>nor the Dominion were absolutely possessed, but<br>the Province equally with Australia and the<br>Dominion were autonomous within the bounds of<br>their respective jurisdictions."
          ],
          [
           "21st August, 1885—CREASE, J.— In order to deal<br>satisfactorily with the questions raised by this<br>appeal, it is necessary to see what is the scope<br>and purport of the Act.\""
          ],
          [
           "It starts with a recital, in itself a petio<br>principii—not apparently the result of any public<br>enquiry—which charges them with being not law-<br>abiding, dissimilar in habits and occupation to<br>the whites—useless in emergencies, habitual<br>desecrators of grave-yards, unsuited to our laws,<br>and of habits subversive of the community."
          ],
          [
           "From that premises concluding that special laws<br>are required for their government, it proceeds to<br>enact:—   1."
          ],
          [
           "Section 3—with which we are immediately<br>concerned—says:—\"From and after the passage of<br>this Act there shall be payable and \"paid by every<br>Chinese in British Columbia, above the age of<br>fourteen years, unto and for the use of Her<br>Majesty, her heirs and successors, the sum of ten<br>dollars, and thereafter on the 1st day of June in<br>\"each and every year there shall be likewise<br>payable and paid by such \"Chinese person a further<br>sum of ten dollars.\""
          ],
          [
           "4 provides for the appointment and payment of<br>special collectors, \"to be called Chinese<br>collectors, to collect and receive such \"payments<br>from Chinese; and such collector or collectors,<br>immediately upon such payment, shall issue and<br>deliver to the person paying \"the same a licence<br>in the form contained in the schedule hereto.\""
          ],
          [
           "By Sec.”   Section 9.”  Section 10 gives the<br>collector power to “levy the amount of the license<br>from any Chinese not being in lawful possession of<br>a license, “with costs, by distress of his goods<br>and chattels, or of any goods and “chattels which<br>may be in the possession of the delinquent, or<br>which “may be upon or in any premises (whether the<br>goods of the delin- “quent or not) for the time<br>being in the possession or occupation of “such<br>delinquent Chinese,” and declares that “for the<br>purposes of this “section premises shall be deemed<br>to be in the possession or occupa- “tion of any<br>Chinese when it can be shown to the satisfaction<br>of the “tribunal having cognizance of the matter<br>(a) that such Chinese “habitually frequents such<br>premises with the assent of the owner ; “(b) that<br>he is the owner or one of the owners of the<br>premises, or has “control, either alone or<br>jointly, with another or others, of such pre-<br>“mises or some part thereof; (c) that he has<br>passed the night or slept “upon such premises at<br>any time within a week of the levy, it shall “be<br>sufficient authority for the collector to levy as<br>aforesaid on the “non-production of the license."
          ],
          [
           "By section 12 tax collectors are not to allow<br>Chinese to pass unless a license is produced."
          ],
          [
           "Section 13 imposes a penalty of $50 on any person<br>guilty of employing any Chinese not having a<br>license."
          ],
          [
           "14 Fee for free miner’s certificate to a Chinese<br>to be $15, instead of the white man's $5."
          ],
          [
           "Penalty not exceeding $30 for every Chinaman<br>mining without a license.”   Sections 17 and 18<br>prevent the exhumation of dead bodies without<br>permission, and prohibit the use of opium except<br>for medical purposes."
          ],
          [
           "Section 19 provides for the recovery of any<br>pecuniary penalty thereunder in a summary manner<br>before a J. P., and in default of immediate<br>payment sanctions a distress, and failing that,<br>imprisonment for not exceeding three months."
          ],
          [
           "Section 20 (amended by Act of 1885) declares that<br>\"convictions are not to be quashed for want of<br>form.\""
          ],
          [
           "Section 22 enacts that the tribunal applied to may<br>decide \"on its own view and judgment\" whether any<br>person is a Chinese or 14 years old."
          ],
          [
           "Sections 23, 24 and 25 contain sanitary provisions<br>affecting buildings let to Chinese."
          ],
          [
           "Section 26 provides a means whereby persons<br>imprisoned for an infraction of the Act may be put<br>to hard labour by an Order in Council, and the<br>same executive authority is empowered to make<br>rules and regulations for carrying out the Act."
          ],
          [
           "Section 27 places in the hand of the local<br>executive the construction from time to time of<br>further rules and regulations to enforce the Act,<br>and a fitting summary to such a premiss in section<br>28 reverses all the old law of England and one of<br>the most cherished and priceless safeguards of the<br>freedom from oppression won for us by our<br>forefathers—that no one shall be deemed guilty<br>until he has been proved so—throws on the<br>defendant, white or yellow, the burden of proving<br>that he is exempt from the operation of its<br>arbitrary provisions—and in a tax Act which is in<br>restraint of personal liberty, and opposed to the<br>common law rights of the citizen—for if applicable<br>to aliens it is a fortiori to the temporary<br>inhabitants of the Province—abrogates the hitherto<br>invariable rule in criminal matters and makes it<br>unnecessary in any information, summons or<br>conviction to “state or negotiate any “exception<br>in or exemption under this Act, or in<br>contemplation of “law.” Taught by experience of<br>former efforts in the same direction, section 29<br>gives one year’s notice of the coming into<br>operation of the Act—a time which has now<br>expired.”   The only schedule is the form of<br>license, which runs as follows:—  The question now<br>raised on the construction of this Act affects not<br>only British Columbia, but, as she occupies the<br>only Pacific seaboard of the Dominion, indirectly<br>more or less the very many other Provinces under<br>the flag of confederation."
          ],
          [
           "Taking for convenience the five points of<br>objection to the conviction in the order in which<br>they are made—  1."
          ],
          [
           "That it interfered with the Dominion powers under<br>the B. N. A."
          ],
          [
           "Act over aliens and naturalization."
          ],
          [
           "That it was indirect taxation and therefore<br>illegal, and should be quashed."
          ],
          [
           "On the first point, I would observe that it is now<br>well settled law that British Columbia, as a part<br>of the Dominion, possesses all, but possesses<br>only, the powers which are strictly defined by the<br>B. N. A."
          ],
          [
           "Act of 1867, which is, indeed, the constitution of<br>Canada."
          ],
          [
           "Neither she nor any other of the Provinces possess<br>any other powers of legislation than are conferred<br>by that Act."
          ],
          [
           "If British Columbia, or any other Province, in its<br>legislation, goes beyond that Act and in excess of<br>its provisions, that moment, and to the extent of<br>such transgression, it ceases to be law."
          ],
          [
           "Therefore, in dealing with this question, our<br>constitutional Act must be kept in view<br>throughout, as the measure by which we must<br>continually gauge the legality or illegality of<br>the provisions of the local statute under<br>consideration."
          ],
          [
           "The Act of Federation was passed in order to be an<br>irrefragable, permanent standard by which to<br>preserve and regulate all the relative rights of<br>the Provinces, as among themselves and as regards<br>the Dominion."
          ],
          [
           "The exclusive powers of that Act given to the<br>Dominion over particular subjects are contained in<br>the 91st section."
          ],
          [
           "The exclusive powers of the Province are<br>particularized in section 92."
          ],
          [
           "It is natural that in the working out of such a<br>constitution in a new and growing country,<br>questions should be continually cropping up, and<br>call upon the Courts to define gradually and with<br>greater exactness, as time progresses and<br>population expands, the relative powers given by<br>the Act to the Dominion and Provinces<br>respectively."
          ],
          [
           "Sub-section 2 of section 91 gives to the Dominion<br>Parliament exclusively the regulation of “trade<br>and commerce,” and by sub-section 25 that of<br>“naturalization and aliens,” and everything<br>relating to those subjects as affecting the whole<br>Dominion is within the Dominion powers, and no<br>local Legislature can make any statute interfering<br>with either of those subjects."
          ],
          [
           "If it does, so far as such interference extends it<br>is illegal and void, and when brought before the<br>Court it is the duty of that tribunal so to<br>adjudge it."
          ],
          [
           "And the converse of this is true when applied to<br>Dominion legislation as affecting the subjects<br>exclusively given by the constitution to the<br>Province."
          ],
          [
           "Now, applying this test to the statute before us,<br>let us see whether and how far its provisions<br>affect, as is alleged, aliens, or trade, or<br>commerce."
          ],
          [
           "The aliens in this case being Chinese, the first<br>enquiry must be, what is the object of the Act?"
          ],
          [
           "On applying to the preamble, we find that it looks<br>like a bill of indictment as against a race not<br>suited to live among a civilized nation, and<br>certainly does not prepare one for legislation<br>which would encourage or tolerate their settlement<br>in the country."
          ],
          [
           "Indeed, the first lines of the preamble sound an<br>alarm at the multitude of people coming in, who<br>are of the repulsive habits described in the last<br>part of the preamble, and prepares one for<br>measures which should have a tendency to abate<br>that alarm by deterrent influences and enactments<br>which should have the effect of materially<br>lessening the number of such undesirable visitors."
          ],
          [
           "The provisions of the Act I have given somewhat in<br>extenso bear out that view, and the concurrent and<br>previous local legislation bear out the same<br>impression, for on the same day as this Act was<br>passed, another Act was passed, the very object of<br>which was plainly stated to be \"to prevent the<br>immigration\" of Chinese.\""
          ],
          [
           "It interfered with aliens as well as trade and<br>commerce, which cannot subsist among nations<br>without personal intercourse, which such an Act<br>(as far as China was concerned) would have a<br>tendency to prohibit."
          ],
          [
           "Another statute (of 1878), \"An Act to provide for<br>the better collection of taxes from Chinese,\"<br>which contained several of the stringent<br>provisions which I have described in this Act,<br>such as a special tax specially recoverable by<br>summary and unusual remedies from the Chinese<br>alone, in British Columbia, and enforced by fine<br>and imprisonment and other penal clauses, came<br>before this Court, and in a most conscientious and<br>exhaustive judgment of Mr. Justice Gray, of 23rd<br>September, 1878, in the case of Tai Sing v.<br>Maguire, was declared unconstitutional and ultra<br>vires the Local Legislature, as interfering with<br>aliens and trade and commerce—matters reserved<br>exclusively under the 81st section of the B. N. A."
          ],
          [
           "That decision was never appealed from, and was at<br>once acted on by the government as conclusive."
          ],
          [
           "The position and legislative powers of British<br>Columbia have been in no respect altered in its<br>relations to the legislative powers of the<br>Dominion on the same subjects since that time,<br>though Russell v. The Queen (7 App."
          ],
          [
           "829) and Hodge v. The Queen (9 App."
          ],
          [
           "117) have more fully defined the extent of the<br>powers of the Provincial Legislatures than has<br>hitherto been done; and in the latter case<br>especially."
          ],
          [
           "That decision, however, was not before Mr. Gray<br>when he rendered the judgment in Tai Sing v.<br>Maguire."
          ],
          [
           "Until reversed or varied, the decision in the<br>Hodge case is law here, and binding on this Court."
          ],
          [
           "Their lordships say (page 132), with reference to<br>the objection of the appellants there (delegatus<br>non potest delegare):— \"It appears to their<br>lordships, however, that the objection thus raised<br>by the appellants is founded on an entire<br>misconception of the true character and position<br>of the Provincial Legislatures."
          ],
          [
           "They are in no sense delegates of or acting under<br>any mandate from the Imperial Parliament."
          ],
          [
           "When the British North America Act enacted that<br>there should be a Legislature for Ontario\" (for<br>this case we may for \"Ontario\" read \"British<br>Columbia\"), \"and that its Legislative Assembly<br>should have exclusive authority to make laws for<br>the Province and for provincial purposes in<br>relation to the matters enumerated in section 92,<br>it conferred powers not in any sense to be<br>exercised by delegation from or as agents of the<br>Imperial Parliament, but authority as plenary and<br>as ample within the limits prescribed by section<br>92 as the Imperial Parliament in the plenitude of<br>its power possessed and could bestow."
          ],
          [
           "Within these limits of subjects and area the Local<br>Legislature is supreme.\""
          ],
          [
           "[So far this decision confirms the words of Lord<br>Selborne in R. v. Burah; what follows goes beyond<br>it.]"
          ],
          [
           "\"And has the same authority as the Imperial<br>Parliament or the Parliament of the Dominion would<br>have had under like circumstances to confide to a<br>municipal institution or body of its own creation<br>authority to make by-laws or resolutions as to<br>subjects specified in the enactment, and with the<br>object of carrying the enactment into operation<br>and effect.\""
          ],
          [
           "That decision, although in some respects an obiter<br>dictum, as regards this case, makes it clear that<br>within the limits of subjects and the area<br>prescribed by the B. N. A."
          ],
          [
           "Act, by section 92, the Legislature of British<br>Columbia is supreme."
          ],
          [
           "The basis, then, of our enquiry must be: Is this<br>Chinese Regulation Act of 1884—rather the parts of<br>it objected to—within the limit of subjects and<br>area of section 92, or does it exceed those limits<br>in which it is supreme, and interfere with aliens,<br>trade and commerce in such a manner as to encroach<br>on section 91 or any of its sub-sections?"
          ],
          [
           "If so, so far as it does so, it is<br>unconstitutional and ultra vires, and therefore<br>void."
          ],
          [
           "Now it does not follow because a local Act touches<br>on these three subjects it therefore interferes<br>with them so as to render it unconstitutional."
          ],
          [
           "Aliens may be taxed, may be subjected to the same<br>rules and municipal and other by-laws as other<br>inhabitants of British Columbia, and such<br>discrimination in so doing as are allowed in local<br>legislatures between and among different persons<br>and occupations among the whites are quite as<br>applicable to them."
          ],
          [
           "These are the only discriminations which the law<br>allows, and these are the permissible<br>discriminations spoken of by Cooley in the<br>portions cited before the Court."
          ],
          [
           "During the argument the case of *Lin Sing v.<br>Washburn*, 20 California Reports, 534, was quoted<br>as bearing on this case."
          ],
          [
           "There, an Act of the California Legislature passed<br>an Act imposing a capitation tax “on ‘each person,<br>male and female, of the Mongolian race of the age<br>of 18 years and upwards residing in the State,’<br>accompanying a license almost a *fac simile* of<br>our own, and enforced in much the same way as in<br>the case before us, that, after long and elaborate<br>argument in which the Attorney-General appeared<br>for the State, was determined to be<br>unconstitutional, as it was an interference with<br>trade and commerce, which could be regulated alone<br>by the general government."
          ],
          [
           "It was in vain advanced that at least the State<br>had concurrent jurisdiction in matters of taxation<br>relative to its own internal affairs, of which<br>this was one (the same proposition as was advanced<br>by the Attorney-General in this case) in which it<br>had a supreme and autonomous right to legislate."
          ],
          [
           "And the grounds of this decision were that the<br>federal constitution had vested in the general<br>government the power to regulate commerce in all<br>its branches (as with us in the Dominion); and<br>this power extends to every species of commercial<br>intercourse, and may be exercised upon persons as<br>well as property (Mr. Justice Field, whose<br>arguments have been reproduced by the Attorney-<br>General before me in this case, dissenting)."
          ],
          [
           "That commerce cannot be carried on without the<br>agency of persons, and the tax, the effect of<br>which is to diminish personal intercourse, is a<br>tax on commerce."
          ],
          [
           "If the power to impose such a tax is acknowledged,<br>it being a sovereign power, no limitation can be<br>affixed to its exercise, and it may be so used as<br>not only to diminish but destroy commerce."
          ],
          [
           "The power asserted in the Act in question (the<br>California Act) is the right of the State to<br>prescribe the terms upon which the Chinese shall<br>be permitted to reside in it, and be so used as to<br>cut off all intercourse between them and the<br>people of the State, and defeat the commercial<br>policy of the nation."
          ],
          [
           "That the Act could not be maintained as a police<br>regulation; that a branch of the police power had<br>been surrendered to the Federal Government as a<br>part of the power to regulate commerce, and its<br>exercise by a State was incompatible with the<br>authority of the Government."
          ],
          [
           "That the Chinese might be taxed as other<br>residents, but could not be set apart as special<br>objects of the taxation, and be compelled to<br>contribute to the revenue of the State in the<br>character of foreigners."
          ],
          [
           "The reports of the higher California courts are of<br>great authority for us on all Chinese questions,<br>for there have been efforts for years past to<br>restrict Chinese immigration in California, and<br>the matter has been constantly before the superior<br>courts there, and the judges there (if we may take<br>the reports as correct) are more than ordinarily<br>skilled in laying down the law correctly in<br>constitutional points of that nature."
          ],
          [
           "Indeed, there is no other country which has such<br>experience generally in constitutional law as<br>applicable to a federation of states."
          ],
          [
           "Of course, in all the observations I make I<br>recognize the now well-known distinction between<br>the relations of a State of the Union to the<br>Federal Government, and our relation as a Province<br>to the Dominion."
          ],
          [
           "Still both Federal Governments have reserved to<br>themselves the regulation of trade and commerce<br>and naturalization and aliens; so the analogy is<br>so close as to become almost a direct authority."
          ],
          [
           "In the *Lin Sin* judgment, p. 579, the learned<br>judge says of the power of taxing foreigners, as<br>in the present *qua* foreigners: “If the power<br>exist it may be exercised upon all foreigners<br>residing in the State, and may be so exercised as<br>to bar the door of foreign commerce as effectually<br>as the Government could do by issuing its<br>man-“date and closing its ports.\""
          ],
          [
           "And again \"to determine whether there is a<br>conflict or not, i.e., of jurisdictions, the power<br>must be considered with reference to its<br>consequences, for its effect when carried out is<br>the only criterion by which a judgment can be<br>formed.\""
          ],
          [
           "In another place he says:—\"It would be an empty<br>sound to say that the several States cannot pass<br>any law to prevent foreigners from coming here if<br>they may pass laws which will compel such<br>foreigners to depart as soon as they arrive.\""
          ],
          [
           "And again, \"A tax imposed by the law on these<br>persons for the mere right to reside here, is an<br>appropriate and effective means to discourage the<br>immigration of the Chinese into the State.\""
          ],
          [
           "During the argument on the case before me, the<br>Attorney-General claims that this was direct<br>taxation, and a direct tax within the Province, to<br>raise revenue for Provincial purposes, and,<br>therefore *intra vires*; but the question is not<br>one of name but of fact."
          ],
          [
           "Does it interfere with trade or commerce?"
          ],
          [
           "Can it be legally imposed on foreigners as<br>foreigners, for even a legal tax in other respects<br>becomes illegal when it goes beyond its proper<br>limits, and interferes with powers exclusively<br>given to the Dominion for the benefit of all?"
          ],
          [
           "In another California case, *In re Tiburcio<br>Parrott*, it is laid down that if the apparent<br>object of a statute is under a pretense of the<br>exercise of constitutional powers to drive Chinese<br>away, the end sought to be obtained being<br>unlawful, the statute is void."
          ],
          [
           "* it is decided that the true nature and character<br>of legislation must be determined in order to<br>ascertain its legality."
          ],
          [
           "In *Citizens Insurance Co. v. Parsons*, we have to<br>look at the legislation for the same purpose."
          ],
          [
           "If the legislation here be to drive people from<br>the country, have the local legislature the power?"
          ],
          [
           "Legislation as to aliens is reserved to the<br>Dominion."
          ],
          [
           "And as to trade and commerce, if the Chinese be<br>driven out an annual loss to the revenue, it<br>appears by the tables in the Chinese Commission<br>Report, of $110,000 will take place; and more than<br>$1,500,000 of property and business be lost to us,<br>besides an injury to trade to an incalculable<br>extent."
          ],
          [
           "The amount of business transacted by Chinamen in<br>British Columbia, as revealed by the tables in<br>that Chinese Report, is something which a casual<br>observer would have no idea of."
          ],
          [
           "The treaties between Great Britain and China,<br>which bind us, have been quoted."
          ],
          [
           "The treaty of 25th August, 1842, *Hertslet*, Vol."
          ],
          [
           "6, ratified 26th June, 1843, p. 221, and Lord<br>Elgin's treaty of October, 1860, authenticated<br>copies of which were produced in Court, secure to<br>Chinese coming into British dominions the same<br>\"full security for persons and property as<br>subjects of Her Majesty.\""
          ],
          [
           "8, referring to our obligations to foreigners,<br>observes:— \"As soon as the lord of the territory<br>admits strangers into it he engages \"to protect<br>them as his own subjects, and to afford them<br>perfect security as far as depends on him.\""
          ],
          [
           "v. Russell* are important authorities in guiding<br>our enquiry as to the nature and effect of local<br>legislation in determining whether and how far the<br>Act under review exceeds the limits within which<br>the local legislature is supreme."
          ],
          [
           "And as to the equality of taxation, besides<br>*Cooley*, who has been quoted freely on both<br>sides, in *Kent's Commentaries* (8th Ed."
          ],
          [
           "), 2nd Vol., 388, it is insisted—\"That every<br>person is entitled to be protected in the<br>enjoyment of his property, not only from invasions<br>of it by individuals, but from all unequal and<br>undue assessments on the part of the Government."
          ],
          [
           "It is not sufficient that no tax or imposition can<br>be imposed upon the citizens, but by their<br>representatives in the legislature the citizens<br>are entitled to require that the legislature<br>itself shall cause all public taxation to be fair<br>and equal in proportion to the value of 'property\"<br>(and that is what *Cooley* means by apportionment<br>of taxation), \"so that no class of individuals,<br>and no species of property shall be unduly<br>assessed.\""
          ],
          [
           "The treaties I have quoted between Great Britain<br>and China, binding on the Dominion and on us in<br>British Columbia, secure to the Chinese, just as<br>the treaties between Great Britain and other<br>foreign countries secure to other foreigners, the<br>same rights in regard to the equality of taxation<br>which I have described as being enjoyed by<br>citizens of this country."
          ],
          [
           "These treaties have the force of international<br>law, and are continued most strongly against the<br>party for whose benefit they are introduced."
          ],
          [
           "In the case of the Chinese treaties, they were<br>forced at the point of the bayonet on China, to<br>obtain a right for us to enter China, and in<br>return for a similar permission to us, full<br>permission was given for the Chinese to trade and<br>reside in British dominions everywhere."
          ],
          [
           "In the treaties of 1858 and 1860, made at the<br>solicitation of Great Britain, the Emperor of<br>China was induced to give permission to his<br>subjects to go and trade and reside \"in British<br>Colonies,\" and to enter into \"engagements with<br>British subjects for that purpose.\""
          ],
          [
           "These obligations are binding here and in other<br>parts of the Dominion under section 132 of the<br>British North America Act, and no Province, or the<br>Dominion itself, can lawfully pass laws<br>interfering with that right without a previous<br>revision of the treaties by the high contracting<br>parties to them for that purpose."
          ],
          [
           "Treaties with foreign nations are above all<br>ordinary municipal law, for obvious international<br>reasons, for without such a provision there can be<br>no permanent security, which is the life of all<br>commercial intercourse."
          ],
          [
           "The same provisions that apply to Chinese may be<br>made to apply also to Americans, Frenchmen,<br>Germans, or any other foreigners."
          ],
          [
           "Such treaties are the especial care of the<br>Dominion, and where local legislation clashes with<br>that especial province of the Dominion, the<br>legislation of the Province must give way, as laid<br>down in Leprohon v. the City of Ottawa, 40 Q.B.,<br>Ont., 478; Reg."
          ],
          [
           "v. Chandler, Hannay's New Brunswick Reports, 548;<br>Dow v. Black, L.R."
          ],
          [
           "272; L'Union St. Jacques v. Belisle, L.R."
          ],
          [
           "31, and numerous other Canadian authorities,<br>besides the British North America Act itself."
          ],
          [
           "Now applying the principles and tests I have<br>described to the Act before us, what do we find?"
          ],
          [
           "The Act is found associated with another Act now<br>disallowed, the express object of which is to<br>prevent the Chinese altogether from coming to this<br>country, and the principle \"noscitur a sociis\" is<br>kept up by the preamble of the present Act, which<br>describes the Chinese in terms which, I venture to<br>think, have never before in any other country<br>found a place in an Act of Parliament."
          ],
          [
           "In the definition of the persons affected by the<br>Act no distinction is made of ambassadors,<br>merchants, consuls, artists, professors or<br>travellers, or sex, whether under disability or<br>not, or at such a distance from a collector as to<br>make it difficult or impossible to obtain a<br>license."
          ],
          [
           "Every person of Chinese origin, whether<br>naturalized in Hong Kong or America, or any other<br>State with which we are at amity, so long as they<br>are of Chinese origin, 14 years of age—every one<br>without distinction—must take out a license."
          ],
          [
           "For the purpose of argument I have treated the<br>license fee as a tax; but it is in fact a<br>license—a license to remain in British Columbia<br>unmolested for a year."
          ],
          [
           "When the legislature wanted to create a tax, they<br>knew what words to use for the purpose, for in the<br>sister Act passed on the same day, which was<br>disallowed, they called the impost there enacted a<br>\"tax,\" not a license."
          ],
          [
           "However difficult or impossible for any Chinese to<br>find a district collector, if such Chinese is<br>\"found without a license he is liable to a fine of<br>$40.\""
          ],
          [
           "At every turn he is confronted with an exceptional<br>duty, and an exceptional penalty, and the loss of<br>his goods and chattels, and of personal liberty."
          ],
          [
           "It is impossible but that such an imposition so<br>enforced, in addition to all the general taxes to<br>which he is subject, should make this country too<br>hot for him to live in; and just in proportion as<br>he is so persecuted out of the country, in that<br>degree does this enactment interfere with trade<br>and commerce and that control over aliens<br>exclusively given to the Dominion."
          ],
          [
           "And not only is he thus attacked, but unheard of<br>provisions are introduced."
          ],
          [
           "Every employé of Chinese labour, whether English,<br>American, or what not, is made liable to severe<br>and incessant liability of a penal kind, for what?"
          ],
          [
           "Some act, a default of his own?"
          ],
          [
           "No; an act or default of a stranger, a man whose<br>language he knows not, and for every infraction of<br>the Act by the Chinese under his employ."
          ],
          [
           "The palpable object of such a provision, or set of<br>provisions, is to render the employment of Chinese<br>so distasteful and annoying to the employer that<br>he must cease to employ them."
          ],
          [
           "Now, to pass a law providing that employment shall<br>not be given to a special class of men, except it<br>be productive of so much danger, annoyance, and<br>loss to the employer, is just another way of<br>saying that no intercourse shall be had with that<br>class."
          ],
          [
           "With penalties and prosecutions always before you,<br>far in excess of any advantage to be derived from<br>that intercourse or trade, what is that but<br>equivalent to saying that such intercourse or<br>trade or labour must cease altogether."
          ],
          [
           "What is that but interfering with aliens, trade,<br>and commerce?"
          ],
          [
           "If a man employ a Chinaman who should happen to be<br>delinquent in his tax, and he happens to occupy a<br>cottage or room of his employer, with his master's<br>goods in it, under section 10 they are liable to<br>seizure and sale."
          ],
          [
           "In every prosecution under the Act the legal<br>presumption of innocence until conviction is<br>reversed; in every case the onus probandi, though<br>in a Statute highly penal, is shifted from the<br>informant on to the shoulders of the accused, and<br>he a foreigner not knowing one word of the law, or<br>even the language of the accuser."
          ],
          [
           "In other words, every Chinese is guilty until<br>proved innocent—a provision which fills one<br>conversant with subjects with alarm; for if such a<br>law can be tolerated as against Chinese, the<br>precedent is set, and in time of any popular<br>outcry can easily be acted on for putting any<br>other foreigners or even special classes among<br>ourselves, as coloured people, or French,<br>Italians, Americans, or Germans, under equally the<br>same law."
          ],
          [
           "That certainly is interfering with aliens."
          ],
          [
           "The proposition that it is a Provincial tax for<br>revenue purposes, supposing it to be so intended<br>under the provisions of the Act, is so manifestly<br>calculated to defeat that object, by diminishing<br>the numbers of the members of the persons to be<br>affected by it, that it is difficult to regard it<br>in that light, or in any other light than an<br>indirect mode of getting rid of persons whom it<br>affects out of the country."
          ],
          [
           "The whole Act teems with special provisions which<br>affect not only Chinese, but their employers, with<br>obligations and liabilities as to the conduct of<br>the Chinese in their employ, that no reasonable<br>man would encounter, and run the risk of the penal<br>consequences which the Act hangs over him."
          ],
          [
           "For instance, by section 19 any pecuniary penalty<br>imposed may be summarily recovered (and applies to<br>employers), and in default of immediate payment<br>the same may be recovered by distress of the goods<br>and chattels of the offender, and in default of<br>sufficient distress by a liability to imprisonment<br>for three calendar months, and the employers would<br>necessarily be white men."
          ],
          [
           "In fact, the Act so bristles with these arbitrary,<br>exceptional and penal consequences, that it is<br>invidious to single out particular ones for<br>comment."
          ],
          [
           "It is enough to add that \"any person,\" no matter<br>whether white or Chinese, imprisoned in respect of<br>any infraction of the provisions of the Act, may<br>be at the will of the executive, subjected even to<br>hard labour."
          ],
          [
           "The Act is so full of provisions that interfere<br>directly with aliens, with trade, and with<br>commerce, that I have no hesitation in pronouncing<br>all such provisions, and among them those under<br>which the appellant in this case has been<br>convicted, to be ultra vires the local<br>legislature, and consequently illegal and void."
          ],
          [
           "So far, I have dealt with the Act on its own<br>merits; but if we consider it in juxtaposition to<br>the Dominion Act recently passed restricting the<br>Chinese throughout all Canada, its illegality<br>becomes transparent; for in passing that Act<br>against the Chinese the Dominion has spoken by the<br>highest authority which it possesses—its own<br>Parliament."
          ],
          [
           "By the Constitutional Act the subject of aliens,<br>we have seen, is specially reserved to the<br>Dominion, and it is now an axiom, in the<br>interpretation of that Act, that when that<br>authority deals with a subject expressly included<br>in its jurisdiction by the 91st section, it has<br>possession of that subject exclusively, and the<br>Province has to give way."
          ],
          [
           "It is a great assumption of power on the part of a<br>Province to pass laws, the effect of which must be<br>practically to expel a particular class of aliens<br>from that Province, to say in effect that it will<br>by its legislation impede or prevent that class<br>from being employed in another Province—say the<br>North-west Territory or Manitoba—where railway<br>works may be languishing for want of that very<br>class of labourers, British Columbia being the<br>only sea-board of Canada on the Pacific through<br>which (in face of the restrictive laws of the<br>United States) that class of labourers can enter<br>and pass through; that is, in fact, legislating on<br>all inter-provincial immigration; in other words,<br>such legislation is ultra vires, and so I<br>pronounce it; and adjudge accordingly, and quash<br>the conviction, with costs."
          ],
          [
           "CREASE, J.  WONG HOY WOON v. DUNCAN."
          ],
          [
           "Health regulations—Victoria Health By-Law, 1893,<br>Secs."
          ],
          [
           "32, 35—\"Infected locality\"—Proof of—\"Exposed to<br>infection.\""
          ],
          [
           "Action of trespass against the Medical Health<br>Officer of the City of Victoria for causing the<br>plaintiff, one of a number of Chinamen, who landed<br>at Victoria in a steamer last from Hong Kong in<br>China, to be removed to the \"Suspect Station\" and<br>there detained and subjected to cleansing process<br>under colour of Sec."
          ],
          [
           "35 of the Municipal Health By-Law, 1893, giving<br>him, as Medical Health Officer, power \"To stop,<br>detain and examine every person or persons,<br>freight, cargoes, railway and tramway cars coming<br>from a place infected with a malignant or<br>infectious disease,\" in order to prevent the<br>introduction of such into Victoria."
          ],
          [
           "The plaintiff had been passed by the Dominion<br>Government Quarantine Officer as entitled to land<br>at Victoria."
          ],
          [
           "The white passengers from Hong Kong on the same<br>steamer were not interfered with."
          ],
          [
           "The only evidence of Hong Kong being a place<br>infected, etc., was that of a medical man resident<br>in Victoria, who said \"That in China small pox was<br>endemic, because there inoculation was the<br>universal practice."
          ],
          [
           "That there was danger of infection from white<br>passengers, but not the same danger as from<br>Chinamen.\""
          ],
          [
           "There was no direct evidence of the existence of<br>small pox to a dangerous extent in Hong Kong at<br>the time of the departure thence of the steamer,<br>or that it was \"a place infected,\" etc., or that<br>the plaintiff had been \"exposed to infection.\""
          ],
          [
           "Held, That the facts were insufficient to justify<br>the action of the Health Officer under the by-law."
          ],
          [
           "Remarks on the duties of Health Officers."
          ],
          [
           "Statement ACTION, claiming damages, for trespass."
          ],
          [
           "The facts fully appear from the head note and from<br>the judgment."
          ],
          [
           "H. Dallas Helmcken, for the plaintiff."
          ],
          [
           "W. J. Taylor, for the defendant."
          ],
          [
           "CREASE, J.: This was a test action to try whether<br>Chinamen have the same rights as other foreigners<br>in landing here on their advent from China."
          ],
          [
           "The occasion was the arrival of the Empress of<br>China at the Outer Wharf, which is within the city<br>limits of Victoria, on the 1st day of May, 1894,<br>from China and Hongkong."
          ],
          [
           "The action is one nominally rather than really,<br>for damages against Dr. George Duncan, the Health<br>Officer of the City of Victoria, on account of an<br>alleged excess of duty in despatching en masse,<br>without examination or enquiry, a number of<br>Chinamen out to the suspect station at Ross Bay,<br>there to be disinfected and scrubbed."
          ],
          [
           "No white passenger from the same port (Hongkong,<br>the last port touched at) having been treated in a<br>similar manner or apparently even questioned or<br>detained."
          ],
          [
           "The Chinamen had already been examined on board<br>the ship by the Dominion Quarantine Officers and<br>Provincial officers and passed."
          ],
          [
           "Hoy Woon had also paid the $50 required by the<br>Government as his entry fee into British Columbia,<br>and was in possession of the proper receipt."
          ],
          [
           "Dr. Duncan then appears on the scene, and finds<br>these men already passed and landed clear of ship,<br>Dominion Judgment customs and entrance."
          ],
          [
           "Disregarding the white men, who had come at the<br>same time from the same place and in the same ship<br>and presumably subject to some of the same<br>unsanitary influences, though not to the same<br>extent as the Chinese, without any reason for<br>special suspicion, without inspecting or<br>attempting to inspect a single man, (that had<br>already been done individually by the Dominion<br>Quarantine Officers) he orders them into the<br>custody of his constables to be taken out to the<br>suspect station at Ross Bay, there to be washed<br>and disinfected and scrubbed."
          ],
          [
           "They, with their goods and chattels, were bundled<br>into a common truck like so many cattle."
          ],
          [
           "The plaintiff and other Chinamen similarly<br>situated obtained a writ of Habeas Corpus, upon<br>which they were discharged from this custody."
          ],
          [
           "Thereupon the present action was brought to test<br>if and how far Chinamen are to be treated, when<br>they land on our shores, differently from other<br>foreigners."
          ],
          [
           "The grounds alleged by the Health Officer for this<br>arbitrary treatment is “that China is an infected<br>locality,” and all persons coming from China and<br>especially in this instance Hongkong, and<br>especially also the natives of China, come from an<br>infected locality, and that he has that authority<br>under the Health By-Law, 1893, which was passed at<br>the time of the small pox panic in Victoria, and,<br>in all he did, was simply doing his duty."
          ],
          [
           "Section 32 of that by-law (published in the B.C."
          ],
          [
           "Gazette of April 20, 1893) directs a strict<br>examination to be made of any vessel and persons<br>coming from “an infected locality,” before any<br>person, luggage or freight or other thing is<br>allowed to be landed from it."
          ],
          [
           "Section 35 of the Health By-Law of 1893 gives the<br>Medical Health Officer power to stop, detain and<br>examine every person or persons, freight, cargoes,<br>railway and tramway cars coming from a place<br>“infected with a malignant Judgment."
          ],
          [
           "pestilential or infectious disease,” in order to<br>prevent the introduction of the same into<br>Victoria."
          ],
          [
           "The case was tried before a jury upon the issue<br>whether Hongkong, the last port the steamer left<br>in China, was or not “an infected locality.” To<br>prove that Hongkong was such, Dr. Davie was placed<br>in the witness box as an expert."
          ],
          [
           "He considered “China the home of small pox,” and<br>that it was “an infected place”; that, in China,<br>small pox was “endemic,” i.e., always there;<br>because there “inoculation” was the universal<br>practice and was a constant source of danger; that<br>in England and Europe and America, generally,<br>vaccination, of late years, has been the rule."
          ],
          [
           "That was a preventative, and persons from such<br>places were naturally not so much the object of<br>suspicion or inspection to a health officer."
          ],
          [
           "He thought that too close a scrutiny could not be<br>made of Chinese passengers."
          ],
          [
           "That small pox must have been in China on the 19th<br>April last, the date when the Empress left<br>Hongkong, as it was always there."
          ],
          [
           "He had no opinion to express as to the British<br>possession of Hongkong; but it was a portion of<br>China, where small pox was always, in a sense,<br>\"endemic.\""
          ],
          [
           "There was danger of infection from white<br>passengers, but not the same danger as from<br>Chinamen."
          ],
          [
           "It was his opinion that every one should be<br>examined who comes from China or from any<br>\"infected port.\""
          ],
          [
           "They should be examined on the ship."
          ],
          [
           "When asked the question, \"Would you allow Chinamen<br>to land and go into the city?\""
          ],
          [
           "the Doctor replied, \"The whole of the baggage<br>should be disinfected, on the steamer if<br>possible—if not, on the Outer Wharf."
          ],
          [
           "If I could not do anything else I would take them<br>out to the suspect station."
          ],
          [
           "I would, if I could,\" he continued, \"examine every<br>passenger from there at the Outer Wharf."
          ],
          [
           "To do this it requires certain facilities which<br>are wanting at the Outer Wharf.\""
          ],
          [
           "The duty of the Health Officer, as Dr. Davie<br>understood it, was to interview the ship's<br>officers and ascertain the sanitary state of the<br>ship during the voyage; to inspect the whole of<br>the men, inspect every individual, before he left<br>the vessel."
          ],
          [
           "He was of Judgment opinion that the whole of those<br>landed should be disinfected."
          ],
          [
           "The Chinese are chiefly dressed in woollen<br>materials and these harbour infection for weeks<br>and months."
          ],
          [
           "The period of incubation of small pox was from<br>twelve to fifteen days."
          ],
          [
           "Cases of small pox were found in all large seaport<br>towns, as for instance Liverpool; but these were<br>not \"endemic.\""
          ],
          [
           "If the vessel left Honkong, it was quite possible<br>some cases might develop during the passage."
          ],
          [
           "If they were not examined on the steamer there<br>were no facilities for doing so on the wharf."
          ],
          [
           "There were several other diseases to be guarded<br>against from China, e.g., cholera, leprosy, etc."
          ],
          [
           "(Here I observe that from first to last no mention<br>was made of the black plague, which has carried<br>off so many thousands of Chinese in Hongkong; and<br>it appeared that during the passage from China to<br>Victoria, which presumably lasted over the<br>ordinary period of inoculation, no case of small<br>pox appeared on board the Empress, and that she<br>showed a clean bill of health.)"
          ],
          [
           "Upon the question whether or not Hongkong, at the<br>time the steamer left on April 19, 1894, was or<br>not \"an infected port,\" in the sense of Sec."
          ],
          [
           "35, a place \"infected by a malignant, pestilential<br>or infectious disease,\" and they were so charged."
          ],
          [
           "The jury returned the following verdict:—<br>\"According to the evidence we find that on 1st<br>May, 1894, Hongkong was an infected port."
          ],
          [
           "We speak according to the evidence of Dr. Davie,<br>that the port of Hongkong was and is an infected<br>port.\""
          ],
          [
           "Now this assumes, as Dr. Davie assumed, that<br>Hongkong, although a British port and subject to<br>quarantine regulations, was (which includes the<br>time of the steamer's departure) and is a cradle<br>of small pox, and that every ship coming thence to<br>Victoria, especially with Chinese on board, should<br>be subject to the most searching examination, and<br>the drastic treatment I have described."
          ],
          [
           "He does not include Japanese in the same category<br>as Chinese."
          ],
          [
           "It was apparent throughout the Judgment."
          ],
          [
           "Doctor's evidence that he regarded the whole<br>subject exclusively from a medical point of view,<br>which is by no means identical with the legal<br>construction which must prevail."
          ],
          [
           "The law, while it imposes on the Medical Health<br>Officer the duty and arms him with abundant<br>authority to deal imperatively almost in every<br>case, at the same time insists that he shall<br>discharge that duty with judgment and discretion,<br>and not overrun the mark."
          ],
          [
           "In this case, to say the least, he has not<br>discharged his duty discreetly, but, on the<br>contrary, has exceeded it."
          ],
          [
           "The whole gist of the by-law is to guard the case<br>of persons \"infected or exposed to infection,\"<br>words which have a definite legal meaning, which<br>applies to persons who have been brought into<br>actual contact with or within the baleful<br>influence of an infectious or contagious disease,<br>as travelling in the same carriage or boat with<br>anyone affected by the disease, and not securely<br>isolated from accidental or other contact, or has<br>recently come from a locality where from an<br>accumulation of cases or other reason the disease<br>has got into the air and become epidemic."
          ],
          [
           "This construction applies to Sections 12, 13, 15,<br>16 and 29 of the by-law by the wording of which<br>this meaning is distinctly brought out."
          ],
          [
           "His duty was, if he considered the Empress of<br>China came from \"an infected locality,\" at once to<br>go on board the suspected vessel and make his<br>examination and inspection on board the vessel (as<br>Section 32 says), \"before any luggage, freight or<br>other thing is landed or allowed to be landed.\""
          ],
          [
           "It goes further and shews that the only person to<br>be \"dealt with in such manner as the Medical<br>Health City Officer shall direct\" is \"any infected<br>or exposed person from on board,\" under none of<br>which categories do the plaintiff or other<br>Chinamen, seized and carted off on this occasion,<br>happen to come."
          ],
          [
           "There was not an atom of actual proof before the<br>jury of Judgment."
          ],
          [
           "the actual existence of a single case of small pox<br>in Hong-kong in April or May or since, beyond a<br>medical opinion that there might be."
          ],
          [
           "Now a medical opinion, however valuable as an<br>opinion, is not the legal proof of a fact."
          ],
          [
           "It would be a painful surprise to the people of<br>Hongkong and its business men, living under<br>British rule, to learn that, on the strength only<br>of the opinion of a learned expert, their place is<br>given out to the world as an infected place, which<br>the by-law interprets to mean a place \"infected<br>with a malignant, pestilential or infectious<br>disease,\" without any actual proof of the fact."
          ],
          [
           "In this case the plaintiff had been already duly<br>and personally examined by Dr. McNaughton Jones,<br>the able and experienced Health Officer, on his<br>arrival, and passed."
          ],
          [
           "He had also been examined and passed by the<br>Customs House officers as a man who had paid all<br>his customs dues and had a certificate to shew the<br>fact, which left him free to come and go as he<br>pleased."
          ],
          [
           "It is not shewn that Dr.Duncan went on board, or<br>that he conferred with the Dominion Health<br>Officers as to whether any further examination of<br>the plaintiff was necessary, or, in the public<br>interest, advisable."
          ],
          [
           "It is shewn that he did not personally examine a<br>single Chinaman or inquire if he was “an infected<br>or exposed person.” In a matter affecting the<br>public health, it is quite natural, and everyone<br>would expect that officers who are armed with<br>extensive sanitary powers, should confer together<br>and assist one another in carrying out the law,<br>and work well together for the public good and<br>safety."
          ],
          [
           "Where that is not done the public are quick to<br>note and comment on the fact."
          ],
          [
           "The by-law is very properly arbitrary in its<br>provisions and the powers it confers in cases of<br>emergency, or even actual suspicion, on the Health<br>Officer and his subordinates and these should be<br>supported wherever practicable and the occasion<br>warrants their employment."
          ],
          [
           "But it should be understood that these exceptional<br>powers are a great trust placed in the hands of<br>the Health Officer to meet such cases as I have<br>described, and at all times to be administered<br>with firmness, judgment and discretion—not under<br>any fear of infection unwarranted by the facts of<br>the case which may enter into the mind of the<br>Health Officer, or to be carried out by carting<br>off en masse to the suspect station all who hail<br>from China or Hongkong without examination or<br>enquiry."
          ],
          [
           "The evidence shews there was nothing like<br>emergency in the present case or anything to<br>warrant the treatment they received."
          ],
          [
           "On a review of the facts I am of opinion that the<br>defendant exceeded his authority and caused the<br>plaintiff great unnecessary loss and annoyance."
          ],
          [
           "I therefore give judgment for plaintiff against<br>the defendant, but, as it is a test case, with<br>only $5 damages and costs to be taxed."
          ]
         ],
         "hovertemplate": "Author=Crease<br>Pro=%{x}<br>Cons=%{y}<br>Text=%{customdata[0]}<extra></extra>",
         "legendgroup": "Crease",
         "marker": {
          "color": "#636efa",
          "size": 5,
          "symbol": "circle"
         },
         "mode": "markers",
         "name": "Crease",
         "orientation": "v",
         "showlegend": true,
         "type": "scatter",
         "x": {
          "bdata": "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",
          "dtype": "f8"
         },
         "xaxis": "x",
         "y": {
          "bdata": "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",
          "dtype": "f8"
         },
         "yaxis": "y"
        },
        {
         "customdata": [
          [
           "92, s.s. 9-Taration-Municipal license fees-Direct<br>or indirect tax-Construction of statute-Words<br>ejusdem generis."
          ],
          [
           "10, extended the powers of municipalities so as to<br>include \" licensing and regulating wash-houses and<br>laundries,\" and Sec."
          ],
          [
           "11 enacts that Municipalities may \" hereafter levy<br>and collect from every person who keeps or carries<br>on a public washhouse or laundry, such sum as<br>shall be fixed on by by-law, not exceeding $75.00<br>for every 6 months.\""
          ],
          [
           "On appeal from a conviction for carrying on a<br>public laundry without a license."
          ],
          [
           "Held, (1) Taxation by means of license fees, and<br>the tax in question, is indirect and not direct<br>taxation."
          ],
          [
           "(2) All indirect taxation, except that authorized<br>by Sec."
          ],
          [
           "Act, providing \"in each province the legislature<br>may exclusively make laws in relation to (9) shop,<br>tavern, saloon, auctioneer and other licenses in<br>order to the raising of a revenue for provincial,<br>local or municipal purposes \" is ultra vires of<br>the Provincial Legislature."
          ],
          [
           "(3) The words \"and other licenses\" only included<br>industries ejusdem generis with those specified,<br>and do not include a wash-house."
          ],
          [
           "(4) The most reasonable rule to adopt to ascertain<br>whether a certain matter or thing is within the<br>meaning of a statute as being ejusdem generis with<br>things specified therein \"and others,\" is to look<br>to the object or mischief aimed at by the statute."
          ],
          [
           "All similar things that come within that object,<br>though not in the abstract ejusdem generis are so<br>for the purposes of the statute."
          ],
          [
           "(5) If it appears that a tax is not bona fide<br>within the purpose provided for, but is imposed<br>with the real purpose of discriminating against a<br>class, it is not within the justification of the<br>enabling statute, and, on the facts, the tax in<br>question was intended not for the purpose of<br>raising a revenue, but as a restriction on the<br>Chinese."
          ],
          [
           "APPEAL from a conviction for carrying on a public<br>laundry without a license and payment of the<br>license fee under a by-law of the Corporation of<br>the City of Victoria based on Sec."
          ],
          [
           "11 of Municipal Amendment Act, 1885."
          ],
          [
           "The facts and arguments of counsel fully appear<br>from the judgment."
          ],
          [
           "A. N. Richards, Q.C., for the appeal."
          ],
          [
           ": This is an appeal from a conviction for carrying<br>on a public laundry without a license and payment<br>of the license fee under a recent by-law."
          ],
          [
           "It was not denied by the appellant that the by-law<br>is authorized by the recent Provincial Act, the<br>only question is whether that Provincial Act, viz<br>."
          ],
          [
           ": clause 11 of the Municipal Amendment Act, 1885,<br>is constitutional within the meaning of the<br>British North America Act."
          ],
          [
           "Section 10 of the Provincial Act extends the<br>powers of the Corporation so as expressly to<br>include \"licensing and regulating wash-houses and<br>laundries,\" and Section 11, referring to the<br>existing expressed powers of Corporations to issue<br>other licenses and collect fees or taxes in<br>respect thereof, expressly adds this, that they<br>may hereafter levy and collect \" from every person<br>who keeps or carries on a public wash-house or<br>laundry such sum as shall be fixed by by-law not<br>exceeding $75.00 for every 6 months.\""
          ],
          [
           "Act upon which alone this Section of the<br>Provincial Act is based is Section 92. \""
          ],
          [
           "In each province the Legislature may exclusively<br>make laws in relation to * * * (sub-section 9)<br>shop, saloon, tavern, auctioneer and other<br>licenses in order to the raising of a revenue for<br>Provincial, local or Municipal purposes."
          ],
          [
           "\"Generally all matters of a merely local or<br>private nature in the Province \" does not, I<br>think, apply to taxation."
          ],
          [
           "The only other sub-section which confers on the<br>Provincial Legislature any power to tax is sub-<br>section 2 which deals with direct taxation within<br>the Province in order \" to the raising of a<br>revenue for Provincial purposes.\""
          ],
          [
           "But neither can this sub-section have any<br>application here."
          ],
          [
           "It deals only with direct taxes and this taxation<br>by means of license fee is indirect, not direct<br>taxation."
          ],
          [
           "It deals only with taxation within, i.e."
          ],
          [
           "generally, throughout the ProvBEGBIE, C.J."
          ],
          [
           "ince, and these laundry license fees are only to<br>be levied  within Municipalities, and may vary in<br>different parts of 1886."
          ],
          [
           "It only authorizes taxes for Provincial revenue<br>and these license fees are to fall into the<br>MuniciREGINA 0."
          ],
          [
           "The consideration of sub-section 2, therefore,<br>merely emphasizes the proposition (according to<br>the Attorney-General of Quebec v. The Queen<br>Assurance Company, 3 L.R."
          ],
          [
           "1090) that all indirect taxation for Municipal<br>purposes except what is authorized by sub-section<br>9 is illegal."
          ],
          [
           "The first objection taken by Mr. Richards (viz.)"
          ],
          [
           "that the clause is unconstitutional merely and<br>broadly because it imposes an indirect tax seems<br>to be too general."
          ],
          [
           "Such taxation will be valid enough, if the<br>enactment comes fairly within the meaning of sub-<br>section 9, nor can the next objection be fatal<br>(viz.)"
          ],
          [
           "the objection merely and broadly that it is in<br>restraint of trade."
          ],
          [
           "Whether washing be a trade or a mere industry will<br>presently be considered."
          ],
          [
           "tionably all taxation on buying and selling, all<br>interference with labour, may and perhaps must to<br>some extent restrain trade, yet some instances of<br>taxation of trades, and some regulations of<br>labour, are undoubtedly within the power of the<br>Provincial Legislature."
          ],
          [
           "consequent by-law, do not absolutely restrain,<br>i.e."
          ],
          [
           "The laundryman may remove beyond the city limits<br>and quite evade the tax."
          ],
          [
           "Setting aside therefore these broad objections to<br>the tax, as too general, the questions are two,<br>(viz.)"
          ],
          [
           "Does this license come within the words \"shop,<br>saloon, tavern, auctioneer and other license?\""
          ],
          [
           "Is the tax imposed in order to raise a Municipal<br>revenue, or is it imposed for any other purpose ?"
          ],
          [
           "for restriction or suppression, total or partial."
          ],
          [
           "The answer to the first question depends on the<br>force of the words \"other licenses.\""
          ],
          [
           "Whether that means other licenses on matters of<br>the same kind as the four enumerated, according to<br>the general rule of construction, or whether it<br>means licenses for the doing or permitting any<br>other thing whatever."
          ],
          [
           "It is said by a learned text writer, Sir P.<br>Maxwell on Statutes, p. 303, that the rule<br>restraining the generality of the word \" other \"<br>to matters ejusdem generis only applies where the<br>things actually named are themselves all of the<br>same nature; but that where the things named are<br>of different natures then the phrase \" other<br>things or articles\" will extend to all objects,<br>though quite different from those named."
          ],
          [
           "Citing for this among other cases Regina v. Payne<br>1 C.C.R."
          ],
          [
           "There a statute made it penal to convey to a<br>prisoner, in order to facilitate his escape, \" any<br>mask, disguise, letter or other article or thing;\"<br>and it was held that a crowbar was within the Act."
          ],
          [
           "So in Young v. Grattridge, 4 L.R.Q.B."
          ],
          [
           "166, a Health Act empowered a medical officer to<br>enter and inspect \" any slaughter-house, shop,<br>building, market or other place \" and it was held<br>that a butcher's yard which contained slaughtered<br>cattle was within the Statute, Regina v.<br>Edmundson, 2 E. & E. 77, is to a similar effect."
          ],
          [
           "But these decisions do not for their support<br>apparently require the principle enunciated by<br>Maxwell, nor was any such principle alluded to in<br>any of them."
          ],
          [
           "And though his statement deserves great respect<br>being cited approvingly by a very learned Judge in<br>Severn's case, yet it was not followed by the<br>other four Judges, nor does it appear to be<br>founded on any other judicial dictum."
          ],
          [
           "And indeed it is submitted that such a<br>construction of the doctrine of ejusdem generis is<br>in some sense self-destructive."
          ],
          [
           "If the two or more things actually named are<br>identical as \" air, atmosphere, or other gas;\" \"<br>dagger, poniard or other weapon,\" then the word \"<br>other \" is to be confined to other gases strictly<br>of the same nature, it does not extend the phrase<br>at all and if the two things named are not<br>identical as \" oil, vinegar or other fluids,\" the<br>word \" other \" would extend to all other fluids<br>whatever."
          ],
          [
           "The doctrine of ejusdem generis which has occupied<br>many Courts and many BEGBIE, C.J."
          ],
          [
           "judgments and which therefore does really exist,<br>would run  the risk of being annihilated."
          ],
          [
           "REGINA MEE WAH would seem to be to look at the<br>object or the mischief aimed at by the Statute or<br>other instrument; all matters that come within<br>that are ejusdem generis so far as the Statute is<br>concerned."
          ],
          [
           "Thus in Gayne's case, a crow bar and a letter and<br>a mask are no doubt extremely different in<br>texture, weight and appearance."
          ],
          [
           "No painter or chemist would call them ejusdem<br>generis; but they are all strictly ejusdem generis<br>so far as that they are instruments calculated to<br>facilitate a prisoner's escape."
          ],
          [
           "So in Young's case, a butcher's yard is strictly<br>ejusdem generis with his shop and his slaughter<br>house so far as regards the mischief of preparing<br>unwholesome food."
          ],
          [
           "But a watchmaker's or a tailor's shop would not be<br>ejusdem generis with a butcher's shop, though all<br>are called shops; and meat in a tailor's shop<br>would probably not have been liable to be seized<br>under Statute in that instance."
          ],
          [
           "If there were no matters or occupations having any<br>analogy or attribute (except taxability) common to<br>these four named instances in sub-section 9, the<br>inference would be very strong that \" other<br>licenses \" extended to every possible matter."
          ],
          [
           "But as was pointed out by Mr. Justice WILSON in<br>Regina v. Taylor, 36 U.C.Q.B."
          ],
          [
           "183, cited and approved in Severn v. Reginam,<br>there are many analogous matters."
          ],
          [
           "Restaurants and lodging houses bear no distant<br>resemblance to taverns; coffee shops to saloons<br>(though these again are utterly distinct from a<br>teetotaler's point of view) and there are coupled<br>together in the Insolvency Act, Canada, 1875, Sec."
          ],
          [
           "1, brokers and commission agents to auctioneers,<br>etc."
          ],
          [
           "There are two classes of Statutes in which words<br>are always strictly construed in favour of the<br>party charged, even at the suit of the Crown;<br>Statutes which create offences and Statutes which<br>impose taxation."
          ],
          [
           "The present Municipal Amendment Act, 1885,<br>partakes of both natures, and the ordinary rule<br>must I think be observed, viz., the subjects of<br>the \"other licenses \" mentioned in sub-section 9<br>must have at least somewhat besides taxability<br>(from which quality no Act or thing is exempt) in<br>common with \"shops, taverns, saloons or<br>auctioneers.\""
          ],
          [
           "Again suppose some other licenses, well known<br>elsewhere, taxes as in England on man-servants, on<br>hair powder, on armourial bearings-would these be<br>authorized by subsection 9?"
          ],
          [
           "Indeed if no restriction whatever be placed on the<br>word \" other\" in that section; if the Provincial<br>Legislature can insist upon imposing licenses upon<br>everything and upon every act of life, and tax<br>each licensee at any moment they please, there<br>would be a very simple way of excluding every<br>Chinaman from the Province, by imposing a<br>universal tax, not limited to any nationality, of<br>one or two thousand dollars per annum for a<br>license to Judgment."
          ],
          [
           "wear long hair on the back of the head: or to<br>exclude Russians by a license to wear a beard, or<br>Jews by a license to eat unleavened bread."
          ],
          [
           "No Chinaman will shave the back of his head; no<br>true moujik will shave his chin."
          ],
          [
           "There might be a tax on a license to register<br>lands above a certain value; and we might have a<br>graduated property tax."
          ],
          [
           "The opinion, therefore, of the majority of the<br>Judges in Severn's case, seems more probable."
          ],
          [
           "There must I think be some limitation placed on<br>the licensing power by the word \" other.\""
          ],
          [
           "Mr. Yates argued from even that point of view<br>these laundries were taxable, for that the laundry<br>men though they were very certainly not keeping<br>shops, were very analogus to auctioneers."
          ],
          [
           "I rather think that the auctioneers would<br>repudiate this alleged similarity of their<br>occupation to that of a Chinese washerman."
          ],
          [
           "An auctioneer has very extensive authority and<br>important duties; he prepares advertisements and<br>surveys, disposes property in lots, advises as to<br>prices, and generally is the agent of both parties<br>to the contract of sale."
          ],
          [
           "There is nothing of all BEGBIE."
          ],
          [
           "this in a laundry; and I feel strongly inclined to<br>think that  laundries are not taxable under this<br>sub-section at all, bearing no analogy to either<br>\"shops, saloons, taverns or auctioneers.\""
          ],
          [
           "But without deciding on this ground there is a<br>still more serious obstacle against supporting<br>this clause 11 of the Provincial Act of 1885, as<br>being within Section 92, subseetion 9."
          ],
          [
           "The taxation by way of license authorized by that<br>sub-section 9 is to be \"in order to the raising a<br>revenue for Provincial, local or Municipal<br>purposes.\""
          ],
          [
           "Now, licences may have for their object the<br>raising of a revenue, or the regulation of a trade<br>or occupation, or they may be imposed for the<br>purpose of repression or suppression."
          ],
          [
           "And whatever power the Provincial Legislature may<br>possess for regulation or repression; taxation for<br>these two latter purposes is not authorized by the<br>B.N.A."
          ],
          [
           "Act, but only taxation for the purpose of revenue."
          ],
          [
           "And it is roundly alleged by the appellant that<br>this tax is imposed, not with the object of<br>raising a revenue for the City, but with the<br>object of harJudgment."
          ],
          [
           "assing Chinamen, supposed to be the only persons<br>carrying on this industry."
          ],
          [
           "In considering this objection, we must distinguish<br>between the real objects and the actual results of<br>legislation."
          ],
          [
           "It is true the real object is very often, perhaps<br>in most cases, shown by the result."
          ],
          [
           "But an Act which has bona fide only one object,<br>may indirectly work out an entirely collateral<br>result."
          ],
          [
           "An Act intended purely for a revenue, or<br>regulation may greatly harass some particular<br>individuals or classes of individuals; e.g."
          ],
          [
           "But the harassing of brewers is not the object of<br>the Excise Acts."
          ],
          [
           "So on the other hand an Act intended purely for<br>harassing of some one or more individuals may<br>incidentally bring money into the City treasury."
          ],
          [
           "That incidental result will not validate the<br>Statute, if the real object be unlawful."
          ],
          [
           "The objection to apply at all, must depend on the<br>object, declared or dissembled, and not merely on<br>the result or one  of the results of the<br>provisions of the Act."
          ],
          [
           "If the object of the Provincial Statute be as<br>alleged, viz., Feb. 3.  to subject Chinamen to<br>exceptional disadvantages it is clearly<br>unconstitutional."
          ],
          [
           "That point has been so held in this Court by Mr.<br>Justice GRAY in Tai Lung's case, reported appx."
          ],
          [
           "G. to the report of the recent Chinese Conmission,<br>p. 379, and by Mr. Justice CREASE in Wing Chong's<br>case, 1 B.C.R."
          ],
          [
           "II, 150, both these learned Judges fortifying<br>their opinions by numerous decisions and arguments<br>of Judges in the United States' Courts."
          ],
          [
           "Those decisions are not binding on us here; and<br>indeed are partly founded on the Constitution of<br>the United States and its relation to the several<br>States, which in many respects differ from the<br>Constitution and the relation between the Dominion<br>and the Provinces."
          ],
          [
           "But the Judges in those foreign Courts have had a<br>much longer and more varied experience on these<br>topics than ourselves; their institutions are<br>closely analogous in many Judgment."
          ],
          [
           "respects, though, it is true, contrasted in others<br>to our own."
          ],
          [
           "And their opinions and reasonings being also<br>founded on international law, and, I take the<br>liberty of saying, on natural equity and common<br>sense, they are entitled to great weight beyond<br>the limits of their own jurisdiction."
          ],
          [
           "I shall only mention Lee Sing v. Washburn, 20 Cal."
          ],
          [
           "Rep. 354; Baker v. Portland, 5 Law 750; Teburcio<br>Parrott's case, coram SAWYER and HOFFMAN, J.J.,<br>1880, and the Quene ordinance case, coram FIELD<br>and SAWYER, J.J., 1879; the two latter cases<br>published in a separate pamphlet form, in which<br>the opinions of Mr."
          ],
          [
           "Justices FIELD, HOFFMAN, SAWYER and DEADY and<br>other Judges whom they cite, all confirm this,<br>that a State, or Provincial law imposing special<br>disabilities or unequal burdens on Chinamen is<br>unconstitutional and void."
          ],
          [
           "In British Columbia such a law if it impose a tax<br>labours under the additional infirmity that a<br>licence tax for any other purpose with any other<br>object, than merely raising a revenue, is beyond<br>the power of the Provincial Legislature to impose."
          ],
          [
           "Mr. Yates, for the Corporation, urged that this<br>Statute is  very different from the Statutes<br>condemned by Mr. Justice 1886."
          ],
          [
           "CREASE in Wing Chong's case and by Mr. GRAY in Tai<br>Lung's case; those."
          ],
          [
           "Statutes were by their title and preamble<br>expressly aimed at Chinamen by name; that this<br>distinction also renders inapplicable all the<br>United States' cases cited; that this enactment is<br>quite general extending to all laundries without<br>exception and we must not look beyond the words of<br>the enactment to enquire what its object was; that<br>there is in fact one laundry in Victoria not<br>conducted by Chinamen on which the tax will fall<br>with equal force so that it is impossible to say<br>that Chinamen are hereby exclusively selected for<br>taxation; the circumstance that they are chiefly<br>affected being a mere coincidence; that the bylaw<br>only imposes $100.00 per annum, keeping far within<br>the limit of $150.00 permitted by the Statute;<br>that the tax clearly is calculated to procuring<br>additional Municipal revenue and that no other<br>object is hinted at."
          ],
          [
           "Now it is true that this Statute does not, like<br>those dealt with by Mr. Justice GRAY and Mr.<br>Justice."
          ],
          [
           "very title bind illegality upon its forehead; nor<br>is there here any preamble like that in Wing<br>Chong's case which Mr. Justice CREASE treats as \"<br>without example,\" but which may well deserve the<br>stern reproof uttered by Mr. Justice FIELD upon a<br>somewhat similar enactment in California. \""
          ],
          [
           "It is not creditable to the humanity and<br>civilization of our people, much less to their<br>Christianity, that an ordinance of this character<br>was possible.\""
          ],
          [
           "The recent statute has nothing of that sort."
          ],
          [
           "But it is very justly insisted upon by every Judge<br>that the object of a statute is after all to be<br>determined by the effect of its operative part."
          ],
          [
           "The title and preamble may be very objectionable,<br>but if the operative sections are within the power<br>of the Legislature they shall stand."
          ],
          [
           "On the other hand, the preamble may breathe the<br>spirit of the purest and most  universal<br>philanthropy, and the most submissive legality ;<br>1886. but that will not save any clauses which are<br>otherwise Feb. 3. unconstitutional."
          ],
          [
           "And in determining the quality of any  clauses,<br>the same Mr. Justice FIELD remarks : \" When we<br>take our seats on the Bench, we are not struck<br>with blindness and forbidden to know as Judges<br>what we see as men ; and when an ordinance, though<br>general in its terms, only operates upon a special<br>race, sect or class, it being universally<br>understood that it is to be enforced only against<br>that race, sect or class, we may justly conclude<br>that it was the intention of the body adopting it<br>that it should only have such operation, and treat<br>it accordingly.\""
          ],
          [
           "Now can anybody in the Province, on or off the<br>Bench, conscientiously say that this ordinance<br>does not come within the principle thus enunciated<br>?"
          ],
          [
           "I, for my part, cannot arrive at any other<br>conclusion than that it is specially directed<br>against Chinamen because they are Chinamen and for<br>no other Judgment."
          ],
          [
           "reason ; to compel them to remove certain<br>industries from the city or themselves from the<br>Province."
          ],
          [
           "But the authorities already cited show that this<br>effect cannot be attained directly, and what<br>cannot be done directly will not be permitted to<br>be done by a side wind."
          ],
          [
           "1634; Cummings v. Missouri, 4 Wall 325. \""
          ],
          [
           "If we hold otherwise,\" said the learned Judge, in<br>that case \"no kind of oppression can be named<br>against which the framers of (the B.N.A."
          ],
          [
           "Act) intended to guard which may not be effected.\""
          ],
          [
           "The appellants' contention that the clause is<br>merely intended to hamper or expel Chinamen is<br>much strengthened by considering the amount of the<br>tax sanctioned, which is $150.00 per annum,<br>whereas the limit sanctioned by the Legislature in<br>the case of any retail shop, however extensive or<br>lucrative its business, is only $10.00 per annum."
          ],
          [
           "In other words, this menial and poorly paid<br>occupation may be taxed fifteen times the annual<br>amount which the statute permits to be imposed on<br>the most extensive grocery or dry goods store."
          ],
          [
           "It is impossible for me to believe that the<br>BEGBIE, C.J, sole object or the main object of<br>such an imposition is to aid the revenue of the<br>Corporation."
          ],
          [
           "The test is whether on the whole statute the<br>Legislature can fairly be held to have said : \"Let<br>us impose a tax in order to raise a revenue,<br>though perhaps it may fall on Chinamen,\" or \" let<br>us impose this tax in order to fall on Chinamen,<br>though perhaps it will raise no revenue.\""
          ],
          [
           "When we find (1st) no other description of labour<br>taxed at all ; (2nd) this description of labour<br>practically quite abandoned to Chinamen alone ;<br>(3rd) this description of labour taxed at fifteen<br>times the rate permitted to be levied on any<br>retail shop ; (4th) that a preliminary Provincial<br>Act has declared Chinamen incapable of the<br>franchise which they formerly exercised."
          ],
          [
           "I cannot doubt but that the tax is directed<br>against Chinamen, as such."
          ],
          [
           "But the enormously disproportioned rate of<br>taxation has another consequence."
          ],
          [
           "It shows that revenue was not the sole object of<br>the tax ; probably not the object at all."
          ],
          [
           "If the promoters of this clause had been really<br>casting about for Judgment."
          ],
          [
           "additional revenue, they must have seen that shops<br>are a great deal more numerous than laundries and<br>generally more remunerative."
          ],
          [
           "It requires very little financial ability to<br>perceive that a a small addition of $5.00 or<br>$10.00 on shops would enrich the city far more<br>than $150.00 per annum on every laundry, even if<br>this last amount could be collected."
          ],
          [
           "But here the magnitude of the tax would entirely<br>defeat the professed object and support the view<br>that the concealed object was the true one."
          ],
          [
           "The occupation of a washerman is very poorly paid<br>; probably at a lower rate than any other trade or<br>occupation, since in former years men of all<br>nationalities busied themselves with this, which<br>they have wholly abandoned, presumably for more<br>lucrative employment ; whereas the number of<br>shops, &c., has very much increased."
          ],
          [
           "It must have been apparent on the commonest<br>reflection that this, the most poorly paid<br>occupation, cannot endure fifteen times the tax<br>imposed on the most lucrative; that such a 1886.<br>tax would probably extinguish every laundry in<br>Victoria ; Feb. 3. and so that no additional<br>revenue would be produced at all."
          ],
          [
           "I cannot imagine that any person reading the<br>clause would be blind to this; and I am compelled<br>to think that restriction and not revenue was the<br>very object of the tax."
          ],
          [
           "But it is clear that the Provincial Legistature<br>has under the B.N.A."
          ],
          [
           "Act no power to impose or authorize a tax for the<br>purpose of driving any industry out of the city or<br>the Province."
          ],
          [
           "Clanse 11 in the Act of 1883 seems, therefore,<br>quite ultra vires and unconstitutional; and the<br>by-law, which I have taken to be admitted as<br>otherwise accurate, stands upon that clause alone<br>and must fall with it."
          ],
          [
           "In fact, if the bylaw only imposes a moderate and<br>reasonable amount, say $5.00 or $10.00 per annum,<br>it would probably be equally a nullity."
          ],
          [
           "Even a reasonable and useful by-law cannot stand<br>Judgment."
          ],
          [
           "if authorized only by an unconstitutional statute."
          ],
          [
           "The general conclusions arrived at are these: (1.)"
          ],
          [
           "It seems probable that laundries are not taxable<br>within Subsection 9 of Section 92 B.N.A."
          ],
          [
           "Any clause in a Provincial Statute or Municipal<br>By-Law, which, though general in its terms,<br>operates, or is intended to operate only upon one<br>sect, race or class, is liable to be declared<br>unconstitutional and void."
          ],
          [
           "The object of a statute is to be ascertained not<br>only from its title or preamble, but mainly from<br>its enactments."
          ],
          [
           "That a by-law, even if founded upon a valid<br>statute must be reasonable, i.e., not necessarily<br>equal but proportionate, and not such as to defeat<br>the object of the law."
          ],
          [
           "This is all in conformity with the previous<br>decisions of Mr. Justice CREASE in Wing Chong's<br>Case and Mr. Justice GRAY in Tai Lung's Case,<br>which are approved and followed."
          ],
          [
           "In this case I am moreover of opinion (5th) that<br>the Provincial Legislature has no power to impose<br>or authorize any  license tax except for the bona<br>fide object of raising revenue by the produce of<br>the tax ; and that this Clause 11 was not enacted<br>bona fide for that sole purpose or even mainly for<br>1886. that purpose, and is therefore<br>unconstitutional and void."
          ],
          [
           "The conviction will, therefore, be set aside with<br>costs."
          ],
          [
           "REGINA r, CORPORATION OF VICTORIA,  AT THE<br>PROSECUTION OF MOCK FEE AND ANOTHER."
          ],
          [
           "Trade licenses Porrer of Legislature or<br>Municipality to deny to certain nationalities or<br>individual-Right of Chance to apply for<br>parabroker's license."
          ],
          [
           "It is not competent to the Provincial Legislature,<br>or to a municipality, to deprive, generally,<br>particular nationalities or individuals of the<br>capacity to take out municipal trade licenses ; e.<br>g., a Chinaman has a right to apply for a<br>pawnbroker's license."
          ],
          [
           "Application for a mandamus to the Corporation of<br>the City of Victoria to compel the renewal to the<br>prosecutors (Chinamen) of a pawnbroker's license."
          ],
          [
           "Fell for the application ; Taylor for the<br>Corporation."
          ],
          [
           "SIR M. B. BEGBIE, C. J. :-  This is an application<br>for a mandamus to the Corporation of the City of<br>Victoria, ordering them to issue a renewal of a<br>pawnbroker's license to the prosecutors."
          ],
          [
           "The reason alleged by the Corporation for their<br>refusal is that they have passed a resolution<br>stating that in their opinion the prosecutors are<br>not fit persons to be the recipients of such a<br>license."
          ],
          [
           "It is alleged by the prosecution, and not denied,<br>that the Council have in fact ordered the<br>Collector to issue no pawnbroking license to any<br>Chinaman."
          ],
          [
           "And the proposition was broadly advanced before me<br>that the Provincial Legislature have the right to<br>eliminate nationalities or individuals from the<br>capacity to receive these trade licenses : and<br>that they have, in conformity with Regina v.<br>Hodge, delegated to the Council authority to<br>exercise that right."
          ],
          [
           "The first of these contentions has already been<br>before this Court, and has, I think, been entirely<br>denied by several Judges now on the bench."
          ],
          [
           "In the first place by Mr. Justice Gray, in Tai<br>Sing v. Macguire (1 B.C.R."
          ],
          [
           "101, 1878): by Mr. Justice Crease in Wing Fong's<br>case (1 B.C.R."
          ],
          [
           "150, 1885); and by myself in Mee Wall's case (not<br>reported)."
          ],
          [
           "These decisions have never been appealed, and I do<br>not feel at liberty to disregard them."
          ],
          [
           "I must, therefore, assume that no such authority<br>exists in the Provincial Legislature, and<br>therefore it is impossible that they could have<br>delegated it, or conferred it on the Council."
          ],
          [
           "Evidently, if such a power existed, then, since no<br>man may in any municipality pursue any avocation<br>without such license, the Local Legislature might<br>exclude large classes of men from gaining a<br>livelihood, or indeed existing in the Province-a<br>very wide interference with \"trade and commerce,\"<br>which is totally removed from their control by the<br>B. N. A."
          ],
          [
           "It may be useful, however, to examine briefly the<br>grounds on which the Council have been advised<br>that they have a discretion in the matter."
          ],
          [
           "This was, in the argument before me, entirely<br>based on the permissive form adopted in the<br>Statute (\"Municipal Act, 1887,\" c. 16, s. 104). \""
          ],
          [
           "The municipality shall have power to issue<br>licenses \" for the trades and professions<br>enumerated, including pawnbrokers (sub-s. 10),<br>\"and to levy and collect by means of such licenses<br>the amounts\" therein specified."
          ],
          [
           "And stress was laid on the word \" license,\" as<br>intimating a permission ; without which antecedent<br>license or permission the proposing trader could<br>not lawfully commence business (ss."
          ],
          [
           "But these words do not imply any discretion, i.<br>e., authority to grant or refuse."
          ],
          [
           "Prima facie, every person living under the<br>protection of British law has a right at once to<br>exercise his industry and ability in any trade or<br>calling he may select."
          ],
          [
           "The only instances in which some antecedent<br>certificate of fitness or qualification is<br>required are, I think, liquor dealers, medical<br>men, and barristers and solicitors."
          ],
          [
           "These also have to take out annual licenses under<br>the Municipality Act."
          ],
          [
           "But special tribunals are appointed to judge<br>antecedently of their fitness."
          ],
          [
           "And, I think, it is quite unheard of that the<br>Council should arbitrarily assume to refuse a<br>license to any of these classes, or to volunteer<br>any statement of their opinion of the fitness or<br>unfitness of a doctor or solicitor."
          ],
          [
           "If the Council is to have an absolute discretion<br>to refuse a license to any person applying, on the<br>ground of what they choose to allege as unfitness,<br>then half a dozen tradesmen may secure themselves<br>an entire monopoly of their respective trades<br>throughout the municipality, by simply voting that<br>in their opinion each proposing competitor is an<br>unfit person."
          ],
          [
           "But if the least attention be bestowed on the<br>Statute, it will be seen that the Legislature has<br>given no discretion to the Council."
          ],
          [
           "The Statute does not even say they may \"grant \"<br>licenses ; but only that they may issue them."
          ],
          [
           "The industrial classes are told, \" You may not<br>carry on your trade in the municipality without a<br>license; if you ask where to get a license, we<br>have authorized the municipality to issue it on<br>payment to them of the annual amount fixed by by-<br>law.\""
          ],
          [
           "Now, enabling words are always compulsory when<br>they are words to effectuate a legal right (Julius<br>v. Bp."
          ],
          [
           "And it is of course unnecessary to prove-I should,<br>but for this class of cases, have supposed that it<br>was unnecessary even to state-the undoubted right,<br>which is the boast of English law, that every<br>person living under it has a right to his<br>industry, and to the fruits of it."
          ],
          [
           "And when we look to the form of the license in the<br>schedule to the Act we see that it is not issued<br>by the corporation at all (which could only be<br>done under seal), and that it amounts to nothing<br>more than the collector's receipt for the license<br>money, and a certificate that so far as that is<br>concerned (and that is all that concerns the<br>corporation) the holder may exercise the calling<br>therein specified."
          ],
          [
           "It was alleged that the occupation of a pawnbroker<br>affords peculiar facilities for the concealment of<br>stolen goods and the escape of criminals, and that<br>it is particularly essential that care should be<br>exercised  in the selection of persons to carry it<br>on."
          ],
          [
           "It is, however, for the Legislature to speak on<br>such a subject, and it has spoken."
          ],
          [
           "There are special laws relating to pawnbrokers."
          ],
          [
           "The business, it is true, is not, to most persons,<br>attractive."
          ],
          [
           "A pawnbroker deals always with the needy,<br>occasionally with the criminal classes: he must<br>generally be hard, and always usurious."
          ],
          [
           "But he has always been considered a necessary<br>evil."
          ],
          [
           "There has never, so far as I know, been placed any<br>limit on their number, any more than on the number<br>of bakers or butchers."
          ],
          [
           "It has been deemed sufficient to make special laws<br>in respect to them and their books, and the<br>supervision of the police."
          ],
          [
           "But so, also, are there many special laws for the<br>inspection of butchers' shops under the Health<br>Acts, and of grocers, and bakers, and milk<br>dealers, and in fact of all traders, under the<br>Weights and Measures Acts and the Adulteration<br>Acts; and a reference to the London Police Courts<br>will show that many classes of tradesmen far<br>surpass the pawnbrokers in the number and<br>importance of the charges against them before the<br>stipendiary magistrates."
          ],
          [
           "In fact, the pawnbroker assists the detection of<br>criminals perhaps as often as he defeats it, and<br>is a most useful ally of the police."
          ],
          [
           "It is not uninteresting to note the uniformity<br>with which the same events result from the same<br>principles, although in very different parts of<br>the world."
          ],
          [
           "Victoria does not possess a monopoly of race<br>jealousy."
          ],
          [
           "In the French colony of Cayenne, the Town Council<br>recently handicapped the superior capacities of<br>the Chinaman by imposing on merchants of that<br>empire an extra tax of $300 per annum, deeming it<br>also expedient to handicap English and German<br>traders by a surtax of $200 on them."
          ],
          [
           "But on an appeal to the Courts at Paris, all these<br>impositions were declared null on the very same<br>principles as those on which the Courts here<br>insisted when they decided the cases above<br>referred to, viz., as being infringements at once<br>of personal liberty, and of the equality of all<br>men before the law, and also negation of<br>international rights."
          ],
          [
           "The prosecutors are entitled to their writ, and as<br>the law on the subject has been quite clearly laid<br>down ten years ago by Mr. Justice Gray, and again<br>and again by other Judges, the defendants must pay<br>all costs."
          ]
         ],
         "hovertemplate": "Author=Begbie<br>Pro=%{x}<br>Cons=%{y}<br>Text=%{customdata[0]}<extra></extra>",
         "legendgroup": "Begbie",
         "marker": {
          "color": "#EF553B",
          "size": 5,
          "symbol": "circle"
         },
         "mode": "markers",
         "name": "Begbie",
         "orientation": "v",
         "showlegend": true,
         "type": "scatter",
         "x": {
          "bdata": "AAAAQP1w3j8AAADgj9jLPwAAAAAsTLY/AAAAgPvm0T8AAADAVJPcPwAAAADsmNk/AAAA4IBXxj8AAADASDvSPwAAAABLvN0/AAAA4NBL1D8AAACAAp6xPwAAAOAbttg/AAAAYN3y1j8AAABg6+ndPwAAAMCECt4/AAAAIOGE1D8AAADg9fbRPwAAAOB7G9k/AAAAoCQwyj8AAAAABlbaPwAAAOCCotE/AAAAwBuc2T8AAAAgfl/PPwAAAEBAb9E/AAAAABri1D8AAAAAPEfTPwAAAMDbXNY/AAAAgKrEzz8AAAAAfDfYPwAAACAi3dQ/AAAAgMTz0T8AAADgHprSPwAAAKCCNdQ/AAAA4Dbm3T8AAAAAl4bFPwAAAADKGM8/AAAAwHl/1T8AAACgifrRPwAAAEDfecQ/AAAAwPjl0T8AAACgxRvLPwAAAMBPMds/AAAAYD/8rz8AAACAmrS/PwAAAKBnaMg/AAAA4J591T8AAADA2oHXPwAAAKAdi8w/AAAAwK3+0j8AAADggLvTPwAAAEDqa8I/AAAA4D9Z0T8AAAAgBq3PPwAAAEAeoNg/AAAA4FvI3D8AAAAAPP7SPwAAAMDJrss/AAAAYPA30T8AAAAAX6zSPwAAAIC7+8w/AAAAwJqN0z8AAADgPbHJPwAAACAkUtg/AAAAIO3X2z8AAABgJvnaPwAAAIA4/NA/AAAAgCK51T8AAADA/9nTPwAAAGCI/8s/AAAAQHevgz8AAAAAfeWpPwAAAED23cQ/AAAAwO+R0z8AAADAg1zaPwAAACBTmcs/AAAAQFlhwz8AAACANhmzPwAAACDBptE/AAAAoPiqzD8AAACg+lfNPwAAAMCMKc4/AAAAQOec0T8AAAAgoGK7PwAAAOBuo9Q/AAAAoAG20T8AAADgUQjXPwAAAICsXbo/AAAAgFfy0z8AAABAKZjYPwAAAGCfkdE/AAAAIFjlsz8AAABghMXSPwAAAAA/xc8/AAAA4ECz1D8AAADAqYzhPwAAAADqttk/AAAAwAFv4j8AAABgupTRPwAAAEAu88U/AAAAYF0X3T8AAACAdkTWPwAAAOCrH98/AAAAwGhg5D8AAAAgLCjOPwAAAOAW+so/AAAAQITS7j8AAACgSK/UPwAAACD3hNU/AAAAwAzgwz8AAABAS7vLPwAAAAALbc0/AAAAoGHuoT8AAAAgwkTKPwAAACA/Jbw/AAAAgM2P3T8AAABgZDXRPwAAAOBCwNE/AAAAwFxekj8AAACgASHmPwAAAOCELHE/AAAAYO8SuT8AAABgoZbcPwAAAAC1gtc/AAAAAFzp3T8AAABA9I7aPwAAACAz9o4/AAAAIDY7oj8AAABAVO/MPwAAAMAGKaY/AAAAwDn7mT8AAADguRR7PwAAAKCrWNM/AAAAwGUI1j8AAADA9YXTPwAAAAC6SNI/AAAAoOIb1j8AAAAgvPHFPwAAAIDeLdM/AAAA4AQe1D8AAACActe0PwAAAKA/RNQ/AAAAYF1z1D8AAAAgN6HIPwAAAAAGFNc/AAAAgH3z0z8AAADAC0jCPwAAAKBD/9s/AAAAQNot0D8AAACg1dTXPwAAACCyJt8/AAAAYMDp3T8AAABAhwHXPwAAAAD5Pt4/AAAAIKKQ2D8AAADAX6vLPwAAAADgDrg/AAAA4Nyy6D8AAABAr13LPwAAAKBhedQ/AAAAYPeg0z8AAABAcrnTPwAAACA6ZKk/AAAAADzatT8AAAAAncbQPwAAAABgANU/AAAAAHuqzT8AAACA1ujKPwAAACBPxtI/AAAAQI+41z8AAADAk3q3PwAAAGCB7tQ/AAAAgLh6xT8AAABAQ+zMPwAAAECn8ts/AAAAgJgm0T8AAACA7N3mPwAAAAAfV9I/AAAAQJTSyz8AAADArY3SPwAAACAdjuI/AAAAoGegxT8AAACAWePHPwAAAECp3cE/AAAAwPYJvD8AAAAgDEvdPwAAAIDkr+M/AAAA4KIR2j8AAAAg32nRPwAAACDuKNg/AAAAQGyD1j8AAABgRIXQPwAAAODdHMo/AAAA4DkFuz8AAAAgLdXIPwAAAAD/cco/AAAAQDVvzz8AAACgEKrTPwAAAOBjZ9I/AAAAYEzSyT8AAABgFhpnPwAAAACufuI/AAAA4FEP3D8=",
          "dtype": "f8"
         },
         "xaxis": "x",
         "y": {
          "bdata": "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",
          "dtype": "f8"
         },
         "yaxis": "y"
        },
        {
         "customdata": [
          [
           "An Act to regulate the Chinese population of<br>British Columbia."
          ],
          [
           "WHEREAS the incoming of Chinese to British<br>Columbia largely exceeds that of any other class<br>of immigrant, and the population so introduced are<br>fast becoming superior in number to our own race;<br>are not disposed to be governed by our laws; are<br>dissimilar in habits and occupation from our<br>people; evade the payment of taxes justly due to<br>the Government; are governed by pestilential<br>habits; are useless in instances of emergency;<br>habitually desecrate grave yards by the removal of<br>bodies therefrom; and generally the laws governing<br>the whites are found to be inapplicable to<br>Chinese, and such Chinese are inclined to habits<br>subversive of the comfort and well-being of the<br>community:  And whereas it is expedient to pass<br>special laws for the Government of Chinese:<br>Therefore, Her Majesty, by and with the advice and<br>consent of the Legislative Assembly of the<br>Province of British Columbia, enacts as follows:—<br>1."
          ],
          [
           "This Act shall be cited as the \"Chinese Regulation<br>Act, 1884.\""
          ],
          [
           "The term \"Chinese\" wherever used in this Act shall<br>mean any native of the Chinese Empire or its<br>dependencies not born of British parents, and<br>shall include any person of the Chinese race."
          ],
          [
           "From and after the passage of this Act there shall<br>be payable and paid by every Chinese in British<br>Columbia, above the age of fourteen years, unto<br>and for the use of Her Majesty, Her heirs and<br>successors, the sum of ten dollars, and thereafter<br>on the 1st day of June in each and every year<br>there shall be likewise payable and paid by such<br>Chinese person a further sum of ten dollars."
          ],
          [
           "The Lieutenant-Governor in Council shall<br>immediately upon the passage of this Act, and from<br>time to time thereafter as occasion may require,<br>appoint in each electoral district, one or more<br>person or persons to be called Chinese Collectors,<br>to collect and receive such payments from Chinese,<br>and such Collector or Collectors immediately upon<br>such payment shall issue and deliver to the person<br>paying the same a licence in the form contained in<br>the Schedule hereto, and the Lieutenant-Governor<br>in Council may require from the Collectors so to<br>be appointed such security as he may see fit and<br>may allow them such percentage upon the amount of<br>collections as may seem reasonable and just, and<br>the Lieutenant-Governor in Council may further<br>allow such additional sum by way of expenses as<br>may be necessary and reasonable for the purpose of<br>carrying out the provisions of this Act."
          ],
          [
           "Any Chinese who shall be found within the Province<br>not having in his possession a licence issued<br>under the provisions of this Act, lawfully issued<br>to him, shall on conviction thereof forfeit and<br>pay a sum not exceeding forty dollars."
          ],
          [
           "Any Collector or Government servant wilfully<br>disobeying any of the provisions of this Act shall<br>forfeit and pay a sum not exceeding one hundred<br>dollars."
          ],
          [
           "Every Collector shall collect the tax from each<br>Chinese, and shall as soon afterwards as may be<br>pay over the amount to the Officer in charge of<br>the Treasury, or to such other person as the<br>Lieutenant-Governor in Council may from time to<br>time direct."
          ],
          [
           "Every employer of Chinese shall furnish to the<br>Collector, when requested by him so to do, from<br>time to time, a list of all Chinese in his employ,<br>or indirectly employed by him; but no such<br>statement shall bind the Collector, nor shall<br>excuse him from making due enquiry to ascertain<br>its correctness."
          ],
          [
           "In case any employer of Chinese fails to deliver<br>to the Collector the list mentioned in the<br>preceding section, when required so to do, or<br>knowingly states anything falsely therein, such<br>employer shall, on complaint of the Collector and<br>upon conviction before a Justice of the Peace<br>having jurisdiction within the district wherein<br>such employer carries on his business, forfeit and<br>pay a fine not exceeding one hundred dollars for<br>every Chinese in his employ, to be recovered by<br>distress of the goods and chattels of such<br>employer failing to pay the same, or in lieu<br>thereof shall be liable to imprisonment for a<br>period not less than one month and not exceeding<br>two calendar months."
          ],
          [
           "The Collector may, by himself or his agent, levy<br>the amount of the licence from any Chinese not<br>being in lawful possession of a licence, with<br>costs, by distress of his goods and chattels, or<br>of any goods and chattels which may be in the<br>possession of the delinquent, or which may be upon<br>or in any premises (whether the goods of the<br>delinquent or not) for the time being in the<br>possession or occupation of such delinquent<br>Chinese, and for the purposes of this section<br>premises shall be deemed to be in the possession<br>or occupation of any Chinese when it can be shewn<br>to the satisfaction of the tribunal having<br>cognizance of the matter—  (a.)"
          ],
          [
           "That such Chinese habitually frequents such<br>premises with the assent of the owner."
          ],
          [
           "That he is the owner or one of the owners of the<br>premises, or has control either alone or jointly<br>with another or others of such premises or some<br>part thereof."
          ],
          [
           "(c.) That he has passed the night or slept upon<br>such premises at any time within a week of the<br>levy."
          ],
          [
           "It shall be sufficient authority for the Collector<br>to levy as aforesaid on the non-production of the<br>licence."
          ],
          [
           "Proof of the lawful possession of such receipt<br>shall lie on the person whose goods are<br>distrained."
          ],
          [
           "Every employer of Chinese shall demand from every<br>such Licence to be demanded by employer and<br>retained during the service."
          ],
          [
           "Chinese in his employ his licence, and shall<br>retain the same in his possession during the time<br>such Chinese is in his employ, and shall return<br>the same to him when he leaves his service; and<br>every employer as aforesaid shall produce to the<br>Collector, whenever required so to do, such<br>licence for his inspection."
          ],
          [
           "The Toll Collector at any and every toll gate<br>which may exist in the Province from time to time,<br>shall, before allowing any Chinese to pass through<br>any toll gate, demand from such Chinese the<br>production of his licence, and, until the same is<br>produced, such Chinese shall not be allowed to<br>proceed through the toll gate."
          ],
          [
           "It shall be unlawful for any person to employ any<br>Chinese who has not in his possession the licence<br>required by this Act, and any person guilty of an<br>infraction of the provisions of this section shall<br>forfeit and pay a fine not exceeding fifty dollars<br>for every Chinese so employed."
          ],
          [
           "The sum payable by a Chinese for a free miner’s<br>certificate shall be fifteen dollars for each year<br>during which the same is to be in force instead of<br>five dollars, as by the present mining laws<br>provided, and no free miner’s certificate shall<br>hereafter be issued to any Chinese except upon<br>payment of the said sum of fifteen dollars."
          ],
          [
           "Any Chinese who shall be found mining for gold and<br>precious metals, or following the ordinary<br>occupation of a free miner, whether on his own<br>account or for others, without having in his<br>possession a free miner’s certificate, lawfully<br>issued to him subsequently to the passage of this<br>Act, and any person who shall employ any Chinese<br>in and about gold mining who has not in his<br>possession such a certificate, shall forfeit and<br>pay a sum not exceeding thirty dollars."
          ],
          [
           "of the Schedule A to the “Licences Ordinance,<br>1867,” is hereby amended by adding thereto the<br>following words: “but no licence shall be issued<br>to any Chinese.”  17."
          ],
          [
           "Without the permission in writing of the<br>Provincial Secretary or Government Agent of the<br>district or place where the permission is sought<br>it shall be unlawful to remove the remains of any<br>dead Chinese from any cemetery or place where such<br>dead Chinese may have been interred, or to exhume<br>the bodies or remains of any dead Chinese, and any<br>person guilty of an infraction of this section<br>shall forfeit and pay a sum not exceeding one<br>hundred dollars."
          ],
          [
           "The use of opium (except for medicinal or surgical<br>purposes) is hereby prohibited, and any person who<br>shall use or consume, or have in his possession<br>any opium, except for the purposes aforesaid,<br>shall forfeit and pay a penalty not exceeding one<br>hundred dollars, and the onus of proof shall lie<br>upon the party charged of showing that such opium<br>was used, or consumed, or in his possession for<br>medicinal or surgical purposes."
          ],
          [
           "Any pecuniary penalty by this Act imposed may be<br>sued for and recovered in a summary way before any<br>Justice of the Peace having jurisdiction in the<br>locality where the charge is made, and in default<br>of immediate payment of any such penalty the same<br>may be recovered by distress and sale of the goods<br>of the offender, and failing sufficient distress,<br>the offender shall suffer a term of imprisonment<br>not exceeding three calendar months."
          ],
          [
           "No conviction for any offence shall be quashed for<br>want of form, and no conviction shall be removed<br>into any of Her Majesty’s Courts by certiorari or<br>reviewed in any manner, except by appeal in manner<br>hereinafter stated, that is to say: Any Chinese<br>convicted of an offence against the provisions of<br>this Act may appeal to the County Court nearest to<br>the place of conviction, provided he shall, within<br>four days after such conviction, have given notice<br>in writing to the convicting Magistrate of his<br>intention to appeal, and shall have furnished<br>security in the sum of one hundred dollars,<br>conditioned to abide by the decision of the<br>appellate Court, and shall have also deposited<br>with the convicting Magistrate a sum of money<br>sufficient in the opinion of such Magistrate to<br>pay the costs and expenses of a jury to try such<br>appeal, and such appeal shall be heard and tried<br>before the County Court, with or without a jury of<br>five, at the option of the parties, and<br>notwithstanding any defect in the proceedings, the<br>appeal shall be heard and decided on the merits,<br>and if the conviction be affirmed the appellant<br>shall be punished according to the conviction, and<br>shall pay the costs of the appeal, and if the<br>appeal be allowed, it shall be lawful for the<br>Lieutenant-Governor in Council to issue his<br>warrant to the Treasurer for the repayment to the<br>appellant of the money paid by him for jury<br>process."
          ],
          [
           "Any Chinese who shall lend his licence or free<br>miner’s certificate to another Chinese, and any<br>Chinese who shall utter or pass off upon any<br>Collector or other person any licence or free<br>miner’s certificate other than his own, with<br>intent himself to avoid payment of the licence fee<br>payable under this Act, (and the onus of proving<br>that such was not his intent, shall rest upon the<br>person charged), shall forfeit and pay a penalty<br>of not less than twenty dollars nor more than one<br>hundred dollars."
          ],
          [
           "The tribunal having cognizance of any matter under<br>the provisions of this Act may decide, upon its<br>own view and judgment, whether any person is a<br>Chinese, and whether any person found by the Court<br>to be a Chinese be of the age of fourteen years."
          ],
          [
           "It shall not be lawful to let or occupy, or suffer<br>to be occupied as a dwelling, any room unless the<br>following requirements are complied with, that is<br>to say:—  (a.)"
          ],
          [
           "Unless such room contains at all times at least<br>384 cubic feet of space for each person occupying<br>the same:  (b.)"
          ],
          [
           "Unless such room has a window, made to open, at<br>least two feet square."
          ],
          [
           "Any person who lets, occupies, or knowingly<br>suffers to be occupied, any room contrary to the<br>provisions of section 23, shall be liable for<br>every offence to a penalty not exceeding fifty<br>dollars."
          ],
          [
           "Any room in which any person passes the night<br>shall be deemed to be occupied as a dwelling<br>within the meaning of this Act."
          ],
          [
           "The Lieutenant-Governor in Council may, by any<br>general regulation, direct that any persons<br>imprisoned in respect of any infraction against<br>the provisions of this Act shall be worked and<br>employed at such places and on such public works,<br>or local works for the public benefit or<br>convenience, and may make such rules and<br>regulations, and may alter or annul the same, for<br>the safe custody, control, and general management<br>of such prisoners, as the said Lieutenant-Governor<br>may from time to time deem advisable."
          ],
          [
           "The Lieutenant-Governor in Council may also make<br>such rules and regulations, not inconsistent<br>herewith, as may from time to time appear<br>necessary for carrying out the true intent and<br>meaning of this Act."
          ],
          [
           "For the purpose of any proceeding taken under the<br>provisions of this Act, the burden shall lie on<br>the defendant of proving that he is exempt from<br>the operation of any of its provisions, and it<br>shall not be necessary in any information,<br>summons, or conviction, or other document, to<br>state or negative any exception in or exemption<br>under this Act or in contemplation of law."
          ],
          [
           "This Act shall not come into operation until one<br>year from the passage hereof."
          ],
          [
           "This Act may be cited as the \"Chinese Regulation<br>Act, 1884.\""
          ]
         ],
         "hovertemplate": "Author=Act 1884<br>Pro=%{x}<br>Cons=%{y}<br>Text=%{customdata[0]}<extra></extra>",
         "legendgroup": "Act 1884",
         "marker": {
          "color": "#00cc96",
          "size": 5,
          "symbol": "circle"
         },
         "mode": "markers",
         "name": "Act 1884",
         "orientation": "v",
         "showlegend": true,
         "type": "scatter",
         "x": {
          "bdata": "AAAAIM2rxD8AAAAg+Yq0PwAAAEBP1NI/AAAA4FHB0j8AAAAguMTUPwAAAIAjTNc/AAAAwAZCyT8AAADAFY/dPwAAAACp+MQ/AAAAIKjK1T8AAADAhy3GPwAAACBF9sk/AAAAoL5RwT8AAACAH+7XPwAAAIAfa9U/AAAAwE7H0T8AAADAC73YPwAAACD5rNc/AAAAQNIZ2D8AAACANMXRPwAAAMBwuc4/AAAAIEdH0D8AAAAgcZPTPwAAACAx38E/AAAAwN9F0j8AAAAg3XXQPwAAAABKAtY/AAAA4Mn02D8AAADAwefVPwAAAECZndQ/AAAAgGNi1z8AAADAoPrYPwAAACCEsdI/AAAAQMtR0z8AAACgohDXPwAAAMD5/s8/AAAAQGP33D8AAADgWV3TPwAAAEC38Nk/AAAAwJe3zj8=",
          "dtype": "f8"
         },
         "xaxis": "x",
         "y": {
          "bdata": "AAAAQEjU5T8AAADAptbqPwAAAEByzeM/AAAAIFz72D8AAADAv1jjPwAAAKAkl+E/AAAAQHKF5j8AAAAAXT3VPwAAAGDovOc/AAAAIHEs3D8AAAAAt+3nPwAAAOCoUec/AAAAgORY3D8AAACAvEjUPwAAAIBfXdU/AAAA4JZl4T8AAAAA68XaPwAAAIBprN8/AAAAYMsU4D8AAAAgpTnkPwAAAMC/GuY/AAAAYFcy5T8AAAAASgPjPwAAAGCyx+Q/AAAAAItL4j8AAADgHlbfPwAAAIC83No/AAAAIHZG3z8AAADAzN7gPwAAAGBDVeE/AAAAYAXx2D8AAAAgM7HRPwAAAOBfxts/AAAAIKzs2z8AAABAEIHcPwAAAEBJwuI/AAAAoBHV0z8AAABgczzfPwAAAOApPto/AAAAIP2g5T8=",
          "dtype": "f8"
         },
         "yaxis": "y"
        }
       ],
       "layout": {
        "height": 600,
        "legend": {
         "title": {
          "text": "Author"
         },
         "tracegroupgap": 0
        },
        "template": {
         "data": {
          "bar": [
           {
            "error_x": {
             "color": "#2a3f5f"
            },
            "error_y": {
             "color": "#2a3f5f"
            },
            "marker": {
             "line": {
              "color": "#E5ECF6",
              "width": 0.5
             },
             "pattern": {
              "fillmode": "overlay",
              "size": 10,
              "solidity": 0.2
             }
            },
            "type": "bar"
           }
          ],
          "barpolar": [
           {
            "marker": {
             "line": {
              "color": "#E5ECF6",
              "width": 0.5
             },
             "pattern": {
              "fillmode": "overlay",
              "size": 10,
              "solidity": 0.2
             }
            },
            "type": "barpolar"
           }
          ],
          "carpet": [
           {
            "aaxis": {
             "endlinecolor": "#2a3f5f",
             "gridcolor": "white",
             "linecolor": "white",
             "minorgridcolor": "white",
             "startlinecolor": "#2a3f5f"
            },
            "baxis": {
             "endlinecolor": "#2a3f5f",
             "gridcolor": "white",
             "linecolor": "white",
             "minorgridcolor": "white",
             "startlinecolor": "#2a3f5f"
            },
            "type": "carpet"
           }
          ],
          "choropleth": [
           {
            "colorbar": {
             "outlinewidth": 0,
             "ticks": ""
            },
            "type": "choropleth"
           }
          ],
          "contour": [
           {
            "colorbar": {
             "outlinewidth": 0,
             "ticks": ""
            },
            "colorscale": [
             [
              0,
              "#0d0887"
             ],
             [
              0.1111111111111111,
              "#46039f"
             ],
             [
              0.2222222222222222,
              "#7201a8"
             ],
             [
              0.3333333333333333,
              "#9c179e"
             ],
             [
              0.4444444444444444,
              "#bd3786"
             ],
             [
              0.5555555555555556,
              "#d8576b"
             ],
             [
              0.6666666666666666,
              "#ed7953"
             ],
             [
              0.7777777777777778,
              "#fb9f3a"
             ],
             [
              0.8888888888888888,
              "#fdca26"
             ],
             [
              1,
              "#f0f921"
             ]
            ],
            "type": "contour"
           }
          ],
          "contourcarpet": [
           {
            "colorbar": {
             "outlinewidth": 0,
             "ticks": ""
            },
            "type": "contourcarpet"
           }
          ],
          "heatmap": [
           {
            "colorbar": {
             "outlinewidth": 0,
             "ticks": ""
            },
            "colorscale": [
             [
              0,
              "#0d0887"
             ],
             [
              0.1111111111111111,
              "#46039f"
             ],
             [
              0.2222222222222222,
              "#7201a8"
             ],
             [
              0.3333333333333333,
              "#9c179e"
             ],
             [
              0.4444444444444444,
              "#bd3786"
             ],
             [
              0.5555555555555556,
              "#d8576b"
             ],
             [
              0.6666666666666666,
              "#ed7953"
             ],
             [
              0.7777777777777778,
              "#fb9f3a"
             ],
             [
              0.8888888888888888,
              "#fdca26"
             ],
             [
              1,
              "#f0f921"
             ]
            ],
            "type": "heatmap"
           }
          ],
          "histogram": [
           {
            "marker": {
             "pattern": {
              "fillmode": "overlay",
              "size": 10,
              "solidity": 0.2
             }
            },
            "type": "histogram"
           }
          ],
          "histogram2d": [
           {
            "colorbar": {
             "outlinewidth": 0,
             "ticks": ""
            },
            "colorscale": [
             [
              0,
              "#0d0887"
             ],
             [
              0.1111111111111111,
              "#46039f"
             ],
             [
              0.2222222222222222,
              "#7201a8"
             ],
             [
              0.3333333333333333,
              "#9c179e"
             ],
             [
              0.4444444444444444,
              "#bd3786"
             ],
             [
              0.5555555555555556,
              "#d8576b"
             ],
             [
              0.6666666666666666,
              "#ed7953"
             ],
             [
              0.7777777777777778,
              "#fb9f3a"
             ],
             [
              0.8888888888888888,
              "#fdca26"
             ],
             [
              1,
              "#f0f921"
             ]
            ],
            "type": "histogram2d"
           }
          ],
          "histogram2dcontour": [
           {
            "colorbar": {
             "outlinewidth": 0,
             "ticks": ""
            },
            "colorscale": [
             [
              0,
              "#0d0887"
             ],
             [
              0.1111111111111111,
              "#46039f"
             ],
             [
              0.2222222222222222,
              "#7201a8"
             ],
             [
              0.3333333333333333,
              "#9c179e"
             ],
             [
              0.4444444444444444,
              "#bd3786"
             ],
             [
              0.5555555555555556,
              "#d8576b"
             ],
             [
              0.6666666666666666,
              "#ed7953"
             ],
             [
              0.7777777777777778,
              "#fb9f3a"
             ],
             [
              0.8888888888888888,
              "#fdca26"
             ],
             [
              1,
              "#f0f921"
             ]
            ],
            "type": "histogram2dcontour"
           }
          ],
          "mesh3d": [
           {
            "colorbar": {
             "outlinewidth": 0,
             "ticks": ""
            },
            "type": "mesh3d"
           }
          ],
          "parcoords": [
           {
            "line": {
             "colorbar": {
              "outlinewidth": 0,
              "ticks": ""
             }
            },
            "type": "parcoords"
           }
          ],
          "pie": [
           {
            "automargin": true,
            "type": "pie"
           }
          ],
          "scatter": [
           {
            "fillpattern": {
             "fillmode": "overlay",
             "size": 10,
             "solidity": 0.2
            },
            "type": "scatter"
           }
          ],
          "scatter3d": [
           {
            "line": {
             "colorbar": {
              "outlinewidth": 0,
              "ticks": ""
             }
            },
            "marker": {
             "colorbar": {
              "outlinewidth": 0,
              "ticks": ""
             }
            },
            "type": "scatter3d"
           }
          ],
          "scattercarpet": [
           {
            "marker": {
             "colorbar": {
              "outlinewidth": 0,
              "ticks": ""
             }
            },
            "type": "scattercarpet"
           }
          ],
          "scattergeo": [
           {
            "marker": {
             "colorbar": {
              "outlinewidth": 0,
              "ticks": ""
             }
            },
            "type": "scattergeo"
           }
          ],
          "scattergl": [
           {
            "marker": {
             "colorbar": {
              "outlinewidth": 0,
              "ticks": ""
             }
            },
            "type": "scattergl"
           }
          ],
          "scattermap": [
           {
            "marker": {
             "colorbar": {
              "outlinewidth": 0,
              "ticks": ""
             }
            },
            "type": "scattermap"
           }
          ],
          "scattermapbox": [
           {
            "marker": {
             "colorbar": {
              "outlinewidth": 0,
              "ticks": ""
             }
            },
            "type": "scattermapbox"
           }
          ],
          "scatterpolar": [
           {
            "marker": {
             "colorbar": {
              "outlinewidth": 0,
              "ticks": ""
             }
            },
            "type": "scatterpolar"
           }
          ],
          "scatterpolargl": [
           {
            "marker": {
             "colorbar": {
              "outlinewidth": 0,
              "ticks": ""
             }
            },
            "type": "scatterpolargl"
           }
          ],
          "scatterternary": [
           {
            "marker": {
             "colorbar": {
              "outlinewidth": 0,
              "ticks": ""
             }
            },
            "type": "scatterternary"
           }
          ],
          "surface": [
           {
            "colorbar": {
             "outlinewidth": 0,
             "ticks": ""
            },
            "colorscale": [
             [
              0,
              "#0d0887"
             ],
             [
              0.1111111111111111,
              "#46039f"
             ],
             [
              0.2222222222222222,
              "#7201a8"
             ],
             [
              0.3333333333333333,
              "#9c179e"
             ],
             [
              0.4444444444444444,
              "#bd3786"
             ],
             [
              0.5555555555555556,
              "#d8576b"
             ],
             [
              0.6666666666666666,
              "#ed7953"
             ],
             [
              0.7777777777777778,
              "#fb9f3a"
             ],
             [
              0.8888888888888888,
              "#fdca26"
             ],
             [
              1,
              "#f0f921"
             ]
            ],
            "type": "surface"
           }
          ],
          "table": [
           {
            "cells": {
             "fill": {
              "color": "#EBF0F8"
             },
             "line": {
              "color": "white"
             }
            },
            "header": {
             "fill": {
              "color": "#C8D4E3"
             },
             "line": {
              "color": "white"
             }
            },
            "type": "table"
           }
          ]
         },
         "layout": {
          "annotationdefaults": {
           "arrowcolor": "#2a3f5f",
           "arrowhead": 0,
           "arrowwidth": 1
          },
          "autotypenumbers": "strict",
          "coloraxis": {
           "colorbar": {
            "outlinewidth": 0,
            "ticks": ""
           }
          },
          "colorscale": {
           "diverging": [
            [
             0,
             "#8e0152"
            ],
            [
             0.1,
             "#c51b7d"
            ],
            [
             0.2,
             "#de77ae"
            ],
            [
             0.3,
             "#f1b6da"
            ],
            [
             0.4,
             "#fde0ef"
            ],
            [
             0.5,
             "#f7f7f7"
            ],
            [
             0.6,
             "#e6f5d0"
            ],
            [
             0.7,
             "#b8e186"
            ],
            [
             0.8,
             "#7fbc41"
            ],
            [
             0.9,
             "#4d9221"
            ],
            [
             1,
             "#276419"
            ]
           ],
           "sequential": [
            [
             0,
             "#0d0887"
            ],
            [
             0.1111111111111111,
             "#46039f"
            ],
            [
             0.2222222222222222,
             "#7201a8"
            ],
            [
             0.3333333333333333,
             "#9c179e"
            ],
            [
             0.4444444444444444,
             "#bd3786"
            ],
            [
             0.5555555555555556,
             "#d8576b"
            ],
            [
             0.6666666666666666,
             "#ed7953"
            ],
            [
             0.7777777777777778,
             "#fb9f3a"
            ],
            [
             0.8888888888888888,
             "#fdca26"
            ],
            [
             1,
             "#f0f921"
            ]
           ],
           "sequentialminus": [
            [
             0,
             "#0d0887"
            ],
            [
             0.1111111111111111,
             "#46039f"
            ],
            [
             0.2222222222222222,
             "#7201a8"
            ],
            [
             0.3333333333333333,
             "#9c179e"
            ],
            [
             0.4444444444444444,
             "#bd3786"
            ],
            [
             0.5555555555555556,
             "#d8576b"
            ],
            [
             0.6666666666666666,
             "#ed7953"
            ],
            [
             0.7777777777777778,
             "#fb9f3a"
            ],
            [
             0.8888888888888888,
             "#fdca26"
            ],
            [
             1,
             "#f0f921"
            ]
           ]
          },
          "colorway": [
           "#636efa",
           "#EF553B",
           "#00cc96",
           "#ab63fa",
           "#FFA15A",
           "#19d3f3",
           "#FF6692",
           "#B6E880",
           "#FF97FF",
           "#FECB52"
          ],
          "font": {
           "color": "#2a3f5f"
          },
          "geo": {
           "bgcolor": "white",
           "lakecolor": "white",
           "landcolor": "#E5ECF6",
           "showlakes": true,
           "showland": true,
           "subunitcolor": "white"
          },
          "hoverlabel": {
           "align": "left"
          },
          "hovermode": "closest",
          "mapbox": {
           "style": "light"
          },
          "paper_bgcolor": "white",
          "plot_bgcolor": "#E5ECF6",
          "polar": {
           "angularaxis": {
            "gridcolor": "white",
            "linecolor": "white",
            "ticks": ""
           },
           "bgcolor": "#E5ECF6",
           "radialaxis": {
            "gridcolor": "white",
            "linecolor": "white",
            "ticks": ""
           }
          },
          "scene": {
           "xaxis": {
            "backgroundcolor": "#E5ECF6",
            "gridcolor": "white",
            "gridwidth": 2,
            "linecolor": "white",
            "showbackground": true,
            "ticks": "",
            "zerolinecolor": "white"
           },
           "yaxis": {
            "backgroundcolor": "#E5ECF6",
            "gridcolor": "white",
            "gridwidth": 2,
            "linecolor": "white",
            "showbackground": true,
            "ticks": "",
            "zerolinecolor": "white"
           },
           "zaxis": {
            "backgroundcolor": "#E5ECF6",
            "gridcolor": "white",
            "gridwidth": 2,
            "linecolor": "white",
            "showbackground": true,
            "ticks": "",
            "zerolinecolor": "white"
           }
          },
          "shapedefaults": {
           "line": {
            "color": "#2a3f5f"
           }
          },
          "ternary": {
           "aaxis": {
            "gridcolor": "white",
            "linecolor": "white",
            "ticks": ""
           },
           "baxis": {
            "gridcolor": "white",
            "linecolor": "white",
            "ticks": ""
           },
           "bgcolor": "#E5ECF6",
           "caxis": {
            "gridcolor": "white",
            "linecolor": "white",
            "ticks": ""
           }
          },
          "title": {
           "x": 0.05
          },
          "xaxis": {
           "automargin": true,
           "gridcolor": "white",
           "linecolor": "white",
           "ticks": "",
           "title": {
            "standoff": 15
           },
           "zerolinecolor": "white",
           "zerolinewidth": 2
          },
          "yaxis": {
           "automargin": true,
           "gridcolor": "white",
           "linecolor": "white",
           "ticks": "",
           "title": {
            "standoff": 15
           },
           "zerolinecolor": "white",
           "zerolinewidth": 2
          }
         }
        },
        "title": {
         "text": "Pros vs Cons Scores by Author"
        },
        "width": 800,
        "xaxis": {
         "anchor": "y",
         "domain": [
          0,
          1
         ],
         "title": {
          "text": "Pro"
         }
        },
        "yaxis": {
         "anchor": "x",
         "domain": [
          0,
          1
         ],
         "title": {
          "text": "Cons"
         }
        }
       }
      }
     },
     "metadata": {},
     "output_type": "display_data"
    }
   ],
   "source": [
    "df_scores['Text'] = df_scores['Text'].apply(lambda t: wrap_text(t, width = 50))\n",
    "\n",
    "fig = px.scatter(\n",
    "    df_scores,\n",
    "    x=\"Pro\",\n",
    "    y=\"Cons\",\n",
    "    color=\"Author\",\n",
    "    hover_data=[\"Text\"],\n",
    "    title=\"Pros vs Cons Scores by Author\",\n",
    "    width=800,\n",
    "    height=600\n",
    ")\n",
    "\n",
    "fig.update_traces(marker=dict(size=5))\n",
    "fig.show()"
   ]
  },
  {
   "cell_type": "code",
   "execution_count": 56,
   "id": "ce7c22ea",
   "metadata": {},
   "outputs": [
    {
     "data": {
      "application/vnd.plotly.v1+json": {
       "config": {
        "plotlyServerURL": "https://plot.ly"
       },
       "data": [
        {
         "bingroup": "x",
         "histnorm": "probability",
         "hovertemplate": "Author=Crease<br>Pro Score=%{x}<br>probability=%{y}<extra></extra>",
         "legendgroup": "Crease",
         "marker": {
          "color": "#636efa",
          "opacity": 0.7,
          "pattern": {
           "shape": ""
          }
         },
         "name": "Crease",
         "nbinsx": 30,
         "orientation": "v",
         "showlegend": true,
         "type": "histogram",
         "x": {
          "bdata": "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",
          "dtype": "f8"
         },
         "xaxis": "x",
         "yaxis": "y"
        },
        {
         "bingroup": "x",
         "histnorm": "probability",
         "hovertemplate": "Author=Begbie<br>Pro Score=%{x}<br>probability=%{y}<extra></extra>",
         "legendgroup": "Begbie",
         "marker": {
          "color": "#EF553B",
          "opacity": 0.7,
          "pattern": {
           "shape": ""
          }
         },
         "name": "Begbie",
         "nbinsx": 30,
         "orientation": "v",
         "showlegend": true,
         "type": "histogram",
         "x": {
          "bdata": "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",
          "dtype": "f8"
         },
         "xaxis": "x",
         "yaxis": "y"
        },
        {
         "bingroup": "x",
         "histnorm": "probability",
         "hovertemplate": "Author=Act 1884<br>Pro Score=%{x}<br>probability=%{y}<extra></extra>",
         "legendgroup": "Act 1884",
         "marker": {
          "color": "#00cc96",
          "opacity": 0.7,
          "pattern": {
           "shape": ""
          }
         },
         "name": "Act 1884",
         "nbinsx": 30,
         "orientation": "v",
         "showlegend": true,
         "type": "histogram",
         "x": {
          "bdata": "AAAAIM2rxD8AAAAg+Yq0PwAAAEBP1NI/AAAA4FHB0j8AAAAguMTUPwAAAIAjTNc/AAAAwAZCyT8AAADAFY/dPwAAAACp+MQ/AAAAIKjK1T8AAADAhy3GPwAAACBF9sk/AAAAoL5RwT8AAACAH+7XPwAAAIAfa9U/AAAAwE7H0T8AAADAC73YPwAAACD5rNc/AAAAQNIZ2D8AAACANMXRPwAAAMBwuc4/AAAAIEdH0D8AAAAgcZPTPwAAACAx38E/AAAAwN9F0j8AAAAg3XXQPwAAAABKAtY/AAAA4Mn02D8AAADAwefVPwAAAECZndQ/AAAAgGNi1z8AAADAoPrYPwAAACCEsdI/AAAAQMtR0z8AAACgohDXPwAAAMD5/s8/AAAAQGP33D8AAADgWV3TPwAAAEC38Nk/AAAAwJe3zj8=",
          "dtype": "f8"
         },
         "xaxis": "x",
         "yaxis": "y"
        }
       ],
       "layout": {
        "barmode": "relative",
        "height": 500,
        "legend": {
         "title": {
          "text": "Author"
         },
         "tracegroupgap": 0
        },
        "template": {
         "data": {
          "bar": [
           {
            "error_x": {
             "color": "#2a3f5f"
            },
            "error_y": {
             "color": "#2a3f5f"
            },
            "marker": {
             "line": {
              "color": "#E5ECF6",
              "width": 0.5
             },
             "pattern": {
              "fillmode": "overlay",
              "size": 10,
              "solidity": 0.2
             }
            },
            "type": "bar"
           }
          ],
          "barpolar": [
           {
            "marker": {
             "line": {
              "color": "#E5ECF6",
              "width": 0.5
             },
             "pattern": {
              "fillmode": "overlay",
              "size": 10,
              "solidity": 0.2
             }
            },
            "type": "barpolar"
           }
          ],
          "carpet": [
           {
            "aaxis": {
             "endlinecolor": "#2a3f5f",
             "gridcolor": "white",
             "linecolor": "white",
             "minorgridcolor": "white",
             "startlinecolor": "#2a3f5f"
            },
            "baxis": {
             "endlinecolor": "#2a3f5f",
             "gridcolor": "white",
             "linecolor": "white",
             "minorgridcolor": "white",
             "startlinecolor": "#2a3f5f"
            },
            "type": "carpet"
           }
          ],
          "choropleth": [
           {
            "colorbar": {
             "outlinewidth": 0,
             "ticks": ""
            },
            "type": "choropleth"
           }
          ],
          "contour": [
           {
            "colorbar": {
             "outlinewidth": 0,
             "ticks": ""
            },
            "colorscale": [
             [
              0,
              "#0d0887"
             ],
             [
              0.1111111111111111,
              "#46039f"
             ],
             [
              0.2222222222222222,
              "#7201a8"
             ],
             [
              0.3333333333333333,
              "#9c179e"
             ],
             [
              0.4444444444444444,
              "#bd3786"
             ],
             [
              0.5555555555555556,
              "#d8576b"
             ],
             [
              0.6666666666666666,
              "#ed7953"
             ],
             [
              0.7777777777777778,
              "#fb9f3a"
             ],
             [
              0.8888888888888888,
              "#fdca26"
             ],
             [
              1,
              "#f0f921"
             ]
            ],
            "type": "contour"
           }
          ],
          "contourcarpet": [
           {
            "colorbar": {
             "outlinewidth": 0,
             "ticks": ""
            },
            "type": "contourcarpet"
           }
          ],
          "heatmap": [
           {
            "colorbar": {
             "outlinewidth": 0,
             "ticks": ""
            },
            "colorscale": [
             [
              0,
              "#0d0887"
             ],
             [
              0.1111111111111111,
              "#46039f"
             ],
             [
              0.2222222222222222,
              "#7201a8"
             ],
             [
              0.3333333333333333,
              "#9c179e"
             ],
             [
              0.4444444444444444,
              "#bd3786"
             ],
             [
              0.5555555555555556,
              "#d8576b"
             ],
             [
              0.6666666666666666,
              "#ed7953"
             ],
             [
              0.7777777777777778,
              "#fb9f3a"
             ],
             [
              0.8888888888888888,
              "#fdca26"
             ],
             [
              1,
              "#f0f921"
             ]
            ],
            "type": "heatmap"
           }
          ],
          "histogram": [
           {
            "marker": {
             "pattern": {
              "fillmode": "overlay",
              "size": 10,
              "solidity": 0.2
             }
            },
            "type": "histogram"
           }
          ],
          "histogram2d": [
           {
            "colorbar": {
             "outlinewidth": 0,
             "ticks": ""
            },
            "colorscale": [
             [
              0,
              "#0d0887"
             ],
             [
              0.1111111111111111,
              "#46039f"
             ],
             [
              0.2222222222222222,
              "#7201a8"
             ],
             [
              0.3333333333333333,
              "#9c179e"
             ],
             [
              0.4444444444444444,
              "#bd3786"
             ],
             [
              0.5555555555555556,
              "#d8576b"
             ],
             [
              0.6666666666666666,
              "#ed7953"
             ],
             [
              0.7777777777777778,
              "#fb9f3a"
             ],
             [
              0.8888888888888888,
              "#fdca26"
             ],
             [
              1,
              "#f0f921"
             ]
            ],
            "type": "histogram2d"
           }
          ],
          "histogram2dcontour": [
           {
            "colorbar": {
             "outlinewidth": 0,
             "ticks": ""
            },
            "colorscale": [
             [
              0,
              "#0d0887"
             ],
             [
              0.1111111111111111,
              "#46039f"
             ],
             [
              0.2222222222222222,
              "#7201a8"
             ],
             [
              0.3333333333333333,
              "#9c179e"
             ],
             [
              0.4444444444444444,
              "#bd3786"
             ],
             [
              0.5555555555555556,
              "#d8576b"
             ],
             [
              0.6666666666666666,
              "#ed7953"
             ],
             [
              0.7777777777777778,
              "#fb9f3a"
             ],
             [
              0.8888888888888888,
              "#fdca26"
             ],
             [
              1,
              "#f0f921"
             ]
            ],
            "type": "histogram2dcontour"
           }
          ],
          "mesh3d": [
           {
            "colorbar": {
             "outlinewidth": 0,
             "ticks": ""
            },
            "type": "mesh3d"
           }
          ],
          "parcoords": [
           {
            "line": {
             "colorbar": {
              "outlinewidth": 0,
              "ticks": ""
             }
            },
            "type": "parcoords"
           }
          ],
          "pie": [
           {
            "automargin": true,
            "type": "pie"
           }
          ],
          "scatter": [
           {
            "fillpattern": {
             "fillmode": "overlay",
             "size": 10,
             "solidity": 0.2
            },
            "type": "scatter"
           }
          ],
          "scatter3d": [
           {
            "line": {
             "colorbar": {
              "outlinewidth": 0,
              "ticks": ""
             }
            },
            "marker": {
             "colorbar": {
              "outlinewidth": 0,
              "ticks": ""
             }
            },
            "type": "scatter3d"
           }
          ],
          "scattercarpet": [
           {
            "marker": {
             "colorbar": {
              "outlinewidth": 0,
              "ticks": ""
             }
            },
            "type": "scattercarpet"
           }
          ],
          "scattergeo": [
           {
            "marker": {
             "colorbar": {
              "outlinewidth": 0,
              "ticks": ""
             }
            },
            "type": "scattergeo"
           }
          ],
          "scattergl": [
           {
            "marker": {
             "colorbar": {
              "outlinewidth": 0,
              "ticks": ""
             }
            },
            "type": "scattergl"
           }
          ],
          "scattermap": [
           {
            "marker": {
             "colorbar": {
              "outlinewidth": 0,
              "ticks": ""
             }
            },
            "type": "scattermap"
           }
          ],
          "scattermapbox": [
           {
            "marker": {
             "colorbar": {
              "outlinewidth": 0,
              "ticks": ""
             }
            },
            "type": "scattermapbox"
           }
          ],
          "scatterpolar": [
           {
            "marker": {
             "colorbar": {
              "outlinewidth": 0,
              "ticks": ""
             }
            },
            "type": "scatterpolar"
           }
          ],
          "scatterpolargl": [
           {
            "marker": {
             "colorbar": {
              "outlinewidth": 0,
              "ticks": ""
             }
            },
            "type": "scatterpolargl"
           }
          ],
          "scatterternary": [
           {
            "marker": {
             "colorbar": {
              "outlinewidth": 0,
              "ticks": ""
             }
            },
            "type": "scatterternary"
           }
          ],
          "surface": [
           {
            "colorbar": {
             "outlinewidth": 0,
             "ticks": ""
            },
            "colorscale": [
             [
              0,
              "#0d0887"
             ],
             [
              0.1111111111111111,
              "#46039f"
             ],
             [
              0.2222222222222222,
              "#7201a8"
             ],
             [
              0.3333333333333333,
              "#9c179e"
             ],
             [
              0.4444444444444444,
              "#bd3786"
             ],
             [
              0.5555555555555556,
              "#d8576b"
             ],
             [
              0.6666666666666666,
              "#ed7953"
             ],
             [
              0.7777777777777778,
              "#fb9f3a"
             ],
             [
              0.8888888888888888,
              "#fdca26"
             ],
             [
              1,
              "#f0f921"
             ]
            ],
            "type": "surface"
           }
          ],
          "table": [
           {
            "cells": {
             "fill": {
              "color": "#EBF0F8"
             },
             "line": {
              "color": "white"
             }
            },
            "header": {
             "fill": {
              "color": "#C8D4E3"
             },
             "line": {
              "color": "white"
             }
            },
            "type": "table"
           }
          ]
         },
         "layout": {
          "annotationdefaults": {
           "arrowcolor": "#2a3f5f",
           "arrowhead": 0,
           "arrowwidth": 1
          },
          "autotypenumbers": "strict",
          "coloraxis": {
           "colorbar": {
            "outlinewidth": 0,
            "ticks": ""
           }
          },
          "colorscale": {
           "diverging": [
            [
             0,
             "#8e0152"
            ],
            [
             0.1,
             "#c51b7d"
            ],
            [
             0.2,
             "#de77ae"
            ],
            [
             0.3,
             "#f1b6da"
            ],
            [
             0.4,
             "#fde0ef"
            ],
            [
             0.5,
             "#f7f7f7"
            ],
            [
             0.6,
             "#e6f5d0"
            ],
            [
             0.7,
             "#b8e186"
            ],
            [
             0.8,
             "#7fbc41"
            ],
            [
             0.9,
             "#4d9221"
            ],
            [
             1,
             "#276419"
            ]
           ],
           "sequential": [
            [
             0,
             "#0d0887"
            ],
            [
             0.1111111111111111,
             "#46039f"
            ],
            [
             0.2222222222222222,
             "#7201a8"
            ],
            [
             0.3333333333333333,
             "#9c179e"
            ],
            [
             0.4444444444444444,
             "#bd3786"
            ],
            [
             0.5555555555555556,
             "#d8576b"
            ],
            [
             0.6666666666666666,
             "#ed7953"
            ],
            [
             0.7777777777777778,
             "#fb9f3a"
            ],
            [
             0.8888888888888888,
             "#fdca26"
            ],
            [
             1,
             "#f0f921"
            ]
           ],
           "sequentialminus": [
            [
             0,
             "#0d0887"
            ],
            [
             0.1111111111111111,
             "#46039f"
            ],
            [
             0.2222222222222222,
             "#7201a8"
            ],
            [
             0.3333333333333333,
             "#9c179e"
            ],
            [
             0.4444444444444444,
             "#bd3786"
            ],
            [
             0.5555555555555556,
             "#d8576b"
            ],
            [
             0.6666666666666666,
             "#ed7953"
            ],
            [
             0.7777777777777778,
             "#fb9f3a"
            ],
            [
             0.8888888888888888,
             "#fdca26"
            ],
            [
             1,
             "#f0f921"
            ]
           ]
          },
          "colorway": [
           "#636efa",
           "#EF553B",
           "#00cc96",
           "#ab63fa",
           "#FFA15A",
           "#19d3f3",
           "#FF6692",
           "#B6E880",
           "#FF97FF",
           "#FECB52"
          ],
          "font": {
           "color": "#2a3f5f"
          },
          "geo": {
           "bgcolor": "white",
           "lakecolor": "white",
           "landcolor": "#E5ECF6",
           "showlakes": true,
           "showland": true,
           "subunitcolor": "white"
          },
          "hoverlabel": {
           "align": "left"
          },
          "hovermode": "closest",
          "mapbox": {
           "style": "light"
          },
          "paper_bgcolor": "white",
          "plot_bgcolor": "#E5ECF6",
          "polar": {
           "angularaxis": {
            "gridcolor": "white",
            "linecolor": "white",
            "ticks": ""
           },
           "bgcolor": "#E5ECF6",
           "radialaxis": {
            "gridcolor": "white",
            "linecolor": "white",
            "ticks": ""
           }
          },
          "scene": {
           "xaxis": {
            "backgroundcolor": "#E5ECF6",
            "gridcolor": "white",
            "gridwidth": 2,
            "linecolor": "white",
            "showbackground": true,
            "ticks": "",
            "zerolinecolor": "white"
           },
           "yaxis": {
            "backgroundcolor": "#E5ECF6",
            "gridcolor": "white",
            "gridwidth": 2,
            "linecolor": "white",
            "showbackground": true,
            "ticks": "",
            "zerolinecolor": "white"
           },
           "zaxis": {
            "backgroundcolor": "#E5ECF6",
            "gridcolor": "white",
            "gridwidth": 2,
            "linecolor": "white",
            "showbackground": true,
            "ticks": "",
            "zerolinecolor": "white"
           }
          },
          "shapedefaults": {
           "line": {
            "color": "#2a3f5f"
           }
          },
          "ternary": {
           "aaxis": {
            "gridcolor": "white",
            "linecolor": "white",
            "ticks": ""
           },
           "baxis": {
            "gridcolor": "white",
            "linecolor": "white",
            "ticks": ""
           },
           "bgcolor": "#E5ECF6",
           "caxis": {
            "gridcolor": "white",
            "linecolor": "white",
            "ticks": ""
           }
          },
          "title": {
           "x": 0.05
          },
          "xaxis": {
           "automargin": true,
           "gridcolor": "white",
           "linecolor": "white",
           "ticks": "",
           "title": {
            "standoff": 15
           },
           "zerolinecolor": "white",
           "zerolinewidth": 2
          },
          "yaxis": {
           "automargin": true,
           "gridcolor": "white",
           "linecolor": "white",
           "ticks": "",
           "title": {
            "standoff": 15
           },
           "zerolinecolor": "white",
           "zerolinewidth": 2
          }
         }
        },
        "title": {
         "text": "Distribution of Proportion of Pro Scores by Author "
        },
        "width": 800,
        "xaxis": {
         "anchor": "y",
         "domain": [
          0,
          1
         ],
         "title": {
          "text": "Pro Score"
         }
        },
        "yaxis": {
         "anchor": "x",
         "domain": [
          0,
          1
         ],
         "title": {
          "text": "Proportion"
         }
        }
       }
      }
     },
     "metadata": {},
     "output_type": "display_data"
    }
   ],
   "source": [
    "# Plot histogram for Pro scores (proportion)\n",
    "fig_pro = px.histogram(\n",
    "    df_scores,\n",
    "    x=\"Pro\",\n",
    "    color=\"Author\",\n",
    "    title=\"Distribution of Proportion of Pro Scores by Author \",\n",
    "    nbins=30,\n",
    "    opacity=0.7,\n",
    "    labels={\"Pro\": \"Pro Score\"},\n",
    "    histnorm=\"probability\" \n",
    ")\n",
    "fig_pro.update_layout(\n",
    "    xaxis_title=\"Pro Score\",\n",
    "    yaxis_title=\"Proportion\",\n",
    "    width=800,\n",
    "    height=500\n",
    ")\n",
    "fig_pro.show()"
   ]
  },
  {
   "cell_type": "code",
   "execution_count": 57,
   "id": "4b643bd1",
   "metadata": {},
   "outputs": [
    {
     "data": {
      "application/vnd.plotly.v1+json": {
       "config": {
        "plotlyServerURL": "https://plot.ly"
       },
       "data": [
        {
         "bingroup": "x",
         "histnorm": "probability",
         "hovertemplate": "Author=Crease<br>Cons Score=%{x}<br>probability=%{y}<extra></extra>",
         "legendgroup": "Crease",
         "marker": {
          "color": "#636efa",
          "opacity": 0.7,
          "pattern": {
           "shape": ""
          }
         },
         "name": "Crease",
         "nbinsx": 30,
         "orientation": "v",
         "showlegend": true,
         "type": "histogram",
         "x": {
          "bdata": "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",
          "dtype": "f8"
         },
         "xaxis": "x",
         "yaxis": "y"
        },
        {
         "bingroup": "x",
         "histnorm": "probability",
         "hovertemplate": "Author=Begbie<br>Cons Score=%{x}<br>probability=%{y}<extra></extra>",
         "legendgroup": "Begbie",
         "marker": {
          "color": "#EF553B",
          "opacity": 0.7,
          "pattern": {
           "shape": ""
          }
         },
         "name": "Begbie",
         "nbinsx": 30,
         "orientation": "v",
         "showlegend": true,
         "type": "histogram",
         "x": {
          "bdata": "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",
          "dtype": "f8"
         },
         "xaxis": "x",
         "yaxis": "y"
        },
        {
         "bingroup": "x",
         "histnorm": "probability",
         "hovertemplate": "Author=Act 1884<br>Cons Score=%{x}<br>probability=%{y}<extra></extra>",
         "legendgroup": "Act 1884",
         "marker": {
          "color": "#00cc96",
          "opacity": 0.7,
          "pattern": {
           "shape": ""
          }
         },
         "name": "Act 1884",
         "nbinsx": 30,
         "orientation": "v",
         "showlegend": true,
         "type": "histogram",
         "x": {
          "bdata": "AAAAQEjU5T8AAADAptbqPwAAAEByzeM/AAAAIFz72D8AAADAv1jjPwAAAKAkl+E/AAAAQHKF5j8AAAAAXT3VPwAAAGDovOc/AAAAIHEs3D8AAAAAt+3nPwAAAOCoUec/AAAAgORY3D8AAACAvEjUPwAAAIBfXdU/AAAA4JZl4T8AAAAA68XaPwAAAIBprN8/AAAAYMsU4D8AAAAgpTnkPwAAAMC/GuY/AAAAYFcy5T8AAAAASgPjPwAAAGCyx+Q/AAAAAItL4j8AAADgHlbfPwAAAIC83No/AAAAIHZG3z8AAADAzN7gPwAAAGBDVeE/AAAAYAXx2D8AAAAgM7HRPwAAAOBfxts/AAAAIKzs2z8AAABAEIHcPwAAAEBJwuI/AAAAoBHV0z8AAABgczzfPwAAAOApPto/AAAAIP2g5T8=",
          "dtype": "f8"
         },
         "xaxis": "x",
         "yaxis": "y"
        }
       ],
       "layout": {
        "barmode": "relative",
        "height": 500,
        "legend": {
         "title": {
          "text": "Author"
         },
         "tracegroupgap": 0
        },
        "template": {
         "data": {
          "bar": [
           {
            "error_x": {
             "color": "#2a3f5f"
            },
            "error_y": {
             "color": "#2a3f5f"
            },
            "marker": {
             "line": {
              "color": "#E5ECF6",
              "width": 0.5
             },
             "pattern": {
              "fillmode": "overlay",
              "size": 10,
              "solidity": 0.2
             }
            },
            "type": "bar"
           }
          ],
          "barpolar": [
           {
            "marker": {
             "line": {
              "color": "#E5ECF6",
              "width": 0.5
             },
             "pattern": {
              "fillmode": "overlay",
              "size": 10,
              "solidity": 0.2
             }
            },
            "type": "barpolar"
           }
          ],
          "carpet": [
           {
            "aaxis": {
             "endlinecolor": "#2a3f5f",
             "gridcolor": "white",
             "linecolor": "white",
             "minorgridcolor": "white",
             "startlinecolor": "#2a3f5f"
            },
            "baxis": {
             "endlinecolor": "#2a3f5f",
             "gridcolor": "white",
             "linecolor": "white",
             "minorgridcolor": "white",
             "startlinecolor": "#2a3f5f"
            },
            "type": "carpet"
           }
          ],
          "choropleth": [
           {
            "colorbar": {
             "outlinewidth": 0,
             "ticks": ""
            },
            "type": "choropleth"
           }
          ],
          "contour": [
           {
            "colorbar": {
             "outlinewidth": 0,
             "ticks": ""
            },
            "colorscale": [
             [
              0,
              "#0d0887"
             ],
             [
              0.1111111111111111,
              "#46039f"
             ],
             [
              0.2222222222222222,
              "#7201a8"
             ],
             [
              0.3333333333333333,
              "#9c179e"
             ],
             [
              0.4444444444444444,
              "#bd3786"
             ],
             [
              0.5555555555555556,
              "#d8576b"
             ],
             [
              0.6666666666666666,
              "#ed7953"
             ],
             [
              0.7777777777777778,
              "#fb9f3a"
             ],
             [
              0.8888888888888888,
              "#fdca26"
             ],
             [
              1,
              "#f0f921"
             ]
            ],
            "type": "contour"
           }
          ],
          "contourcarpet": [
           {
            "colorbar": {
             "outlinewidth": 0,
             "ticks": ""
            },
            "type": "contourcarpet"
           }
          ],
          "heatmap": [
           {
            "colorbar": {
             "outlinewidth": 0,
             "ticks": ""
            },
            "colorscale": [
             [
              0,
              "#0d0887"
             ],
             [
              0.1111111111111111,
              "#46039f"
             ],
             [
              0.2222222222222222,
              "#7201a8"
             ],
             [
              0.3333333333333333,
              "#9c179e"
             ],
             [
              0.4444444444444444,
              "#bd3786"
             ],
             [
              0.5555555555555556,
              "#d8576b"
             ],
             [
              0.6666666666666666,
              "#ed7953"
             ],
             [
              0.7777777777777778,
              "#fb9f3a"
             ],
             [
              0.8888888888888888,
              "#fdca26"
             ],
             [
              1,
              "#f0f921"
             ]
            ],
            "type": "heatmap"
           }
          ],
          "histogram": [
           {
            "marker": {
             "pattern": {
              "fillmode": "overlay",
              "size": 10,
              "solidity": 0.2
             }
            },
            "type": "histogram"
           }
          ],
          "histogram2d": [
           {
            "colorbar": {
             "outlinewidth": 0,
             "ticks": ""
            },
            "colorscale": [
             [
              0,
              "#0d0887"
             ],
             [
              0.1111111111111111,
              "#46039f"
             ],
             [
              0.2222222222222222,
              "#7201a8"
             ],
             [
              0.3333333333333333,
              "#9c179e"
             ],
             [
              0.4444444444444444,
              "#bd3786"
             ],
             [
              0.5555555555555556,
              "#d8576b"
             ],
             [
              0.6666666666666666,
              "#ed7953"
             ],
             [
              0.7777777777777778,
              "#fb9f3a"
             ],
             [
              0.8888888888888888,
              "#fdca26"
             ],
             [
              1,
              "#f0f921"
             ]
            ],
            "type": "histogram2d"
           }
          ],
          "histogram2dcontour": [
           {
            "colorbar": {
             "outlinewidth": 0,
             "ticks": ""
            },
            "colorscale": [
             [
              0,
              "#0d0887"
             ],
             [
              0.1111111111111111,
              "#46039f"
             ],
             [
              0.2222222222222222,
              "#7201a8"
             ],
             [
              0.3333333333333333,
              "#9c179e"
             ],
             [
              0.4444444444444444,
              "#bd3786"
             ],
             [
              0.5555555555555556,
              "#d8576b"
             ],
             [
              0.6666666666666666,
              "#ed7953"
             ],
             [
              0.7777777777777778,
              "#fb9f3a"
             ],
             [
              0.8888888888888888,
              "#fdca26"
             ],
             [
              1,
              "#f0f921"
             ]
            ],
            "type": "histogram2dcontour"
           }
          ],
          "mesh3d": [
           {
            "colorbar": {
             "outlinewidth": 0,
             "ticks": ""
            },
            "type": "mesh3d"
           }
          ],
          "parcoords": [
           {
            "line": {
             "colorbar": {
              "outlinewidth": 0,
              "ticks": ""
             }
            },
            "type": "parcoords"
           }
          ],
          "pie": [
           {
            "automargin": true,
            "type": "pie"
           }
          ],
          "scatter": [
           {
            "fillpattern": {
             "fillmode": "overlay",
             "size": 10,
             "solidity": 0.2
            },
            "type": "scatter"
           }
          ],
          "scatter3d": [
           {
            "line": {
             "colorbar": {
              "outlinewidth": 0,
              "ticks": ""
             }
            },
            "marker": {
             "colorbar": {
              "outlinewidth": 0,
              "ticks": ""
             }
            },
            "type": "scatter3d"
           }
          ],
          "scattercarpet": [
           {
            "marker": {
             "colorbar": {
              "outlinewidth": 0,
              "ticks": ""
             }
            },
            "type": "scattercarpet"
           }
          ],
          "scattergeo": [
           {
            "marker": {
             "colorbar": {
              "outlinewidth": 0,
              "ticks": ""
             }
            },
            "type": "scattergeo"
           }
          ],
          "scattergl": [
           {
            "marker": {
             "colorbar": {
              "outlinewidth": 0,
              "ticks": ""
             }
            },
            "type": "scattergl"
           }
          ],
          "scattermap": [
           {
            "marker": {
             "colorbar": {
              "outlinewidth": 0,
              "ticks": ""
             }
            },
            "type": "scattermap"
           }
          ],
          "scattermapbox": [
           {
            "marker": {
             "colorbar": {
              "outlinewidth": 0,
              "ticks": ""
             }
            },
            "type": "scattermapbox"
           }
          ],
          "scatterpolar": [
           {
            "marker": {
             "colorbar": {
              "outlinewidth": 0,
              "ticks": ""
             }
            },
            "type": "scatterpolar"
           }
          ],
          "scatterpolargl": [
           {
            "marker": {
             "colorbar": {
              "outlinewidth": 0,
              "ticks": ""
             }
            },
            "type": "scatterpolargl"
           }
          ],
          "scatterternary": [
           {
            "marker": {
             "colorbar": {
              "outlinewidth": 0,
              "ticks": ""
             }
            },
            "type": "scatterternary"
           }
          ],
          "surface": [
           {
            "colorbar": {
             "outlinewidth": 0,
             "ticks": ""
            },
            "colorscale": [
             [
              0,
              "#0d0887"
             ],
             [
              0.1111111111111111,
              "#46039f"
             ],
             [
              0.2222222222222222,
              "#7201a8"
             ],
             [
              0.3333333333333333,
              "#9c179e"
             ],
             [
              0.4444444444444444,
              "#bd3786"
             ],
             [
              0.5555555555555556,
              "#d8576b"
             ],
             [
              0.6666666666666666,
              "#ed7953"
             ],
             [
              0.7777777777777778,
              "#fb9f3a"
             ],
             [
              0.8888888888888888,
              "#fdca26"
             ],
             [
              1,
              "#f0f921"
             ]
            ],
            "type": "surface"
           }
          ],
          "table": [
           {
            "cells": {
             "fill": {
              "color": "#EBF0F8"
             },
             "line": {
              "color": "white"
             }
            },
            "header": {
             "fill": {
              "color": "#C8D4E3"
             },
             "line": {
              "color": "white"
             }
            },
            "type": "table"
           }
          ]
         },
         "layout": {
          "annotationdefaults": {
           "arrowcolor": "#2a3f5f",
           "arrowhead": 0,
           "arrowwidth": 1
          },
          "autotypenumbers": "strict",
          "coloraxis": {
           "colorbar": {
            "outlinewidth": 0,
            "ticks": ""
           }
          },
          "colorscale": {
           "diverging": [
            [
             0,
             "#8e0152"
            ],
            [
             0.1,
             "#c51b7d"
            ],
            [
             0.2,
             "#de77ae"
            ],
            [
             0.3,
             "#f1b6da"
            ],
            [
             0.4,
             "#fde0ef"
            ],
            [
             0.5,
             "#f7f7f7"
            ],
            [
             0.6,
             "#e6f5d0"
            ],
            [
             0.7,
             "#b8e186"
            ],
            [
             0.8,
             "#7fbc41"
            ],
            [
             0.9,
             "#4d9221"
            ],
            [
             1,
             "#276419"
            ]
           ],
           "sequential": [
            [
             0,
             "#0d0887"
            ],
            [
             0.1111111111111111,
             "#46039f"
            ],
            [
             0.2222222222222222,
             "#7201a8"
            ],
            [
             0.3333333333333333,
             "#9c179e"
            ],
            [
             0.4444444444444444,
             "#bd3786"
            ],
            [
             0.5555555555555556,
             "#d8576b"
            ],
            [
             0.6666666666666666,
             "#ed7953"
            ],
            [
             0.7777777777777778,
             "#fb9f3a"
            ],
            [
             0.8888888888888888,
             "#fdca26"
            ],
            [
             1,
             "#f0f921"
            ]
           ],
           "sequentialminus": [
            [
             0,
             "#0d0887"
            ],
            [
             0.1111111111111111,
             "#46039f"
            ],
            [
             0.2222222222222222,
             "#7201a8"
            ],
            [
             0.3333333333333333,
             "#9c179e"
            ],
            [
             0.4444444444444444,
             "#bd3786"
            ],
            [
             0.5555555555555556,
             "#d8576b"
            ],
            [
             0.6666666666666666,
             "#ed7953"
            ],
            [
             0.7777777777777778,
             "#fb9f3a"
            ],
            [
             0.8888888888888888,
             "#fdca26"
            ],
            [
             1,
             "#f0f921"
            ]
           ]
          },
          "colorway": [
           "#636efa",
           "#EF553B",
           "#00cc96",
           "#ab63fa",
           "#FFA15A",
           "#19d3f3",
           "#FF6692",
           "#B6E880",
           "#FF97FF",
           "#FECB52"
          ],
          "font": {
           "color": "#2a3f5f"
          },
          "geo": {
           "bgcolor": "white",
           "lakecolor": "white",
           "landcolor": "#E5ECF6",
           "showlakes": true,
           "showland": true,
           "subunitcolor": "white"
          },
          "hoverlabel": {
           "align": "left"
          },
          "hovermode": "closest",
          "mapbox": {
           "style": "light"
          },
          "paper_bgcolor": "white",
          "plot_bgcolor": "#E5ECF6",
          "polar": {
           "angularaxis": {
            "gridcolor": "white",
            "linecolor": "white",
            "ticks": ""
           },
           "bgcolor": "#E5ECF6",
           "radialaxis": {
            "gridcolor": "white",
            "linecolor": "white",
            "ticks": ""
           }
          },
          "scene": {
           "xaxis": {
            "backgroundcolor": "#E5ECF6",
            "gridcolor": "white",
            "gridwidth": 2,
            "linecolor": "white",
            "showbackground": true,
            "ticks": "",
            "zerolinecolor": "white"
           },
           "yaxis": {
            "backgroundcolor": "#E5ECF6",
            "gridcolor": "white",
            "gridwidth": 2,
            "linecolor": "white",
            "showbackground": true,
            "ticks": "",
            "zerolinecolor": "white"
           },
           "zaxis": {
            "backgroundcolor": "#E5ECF6",
            "gridcolor": "white",
            "gridwidth": 2,
            "linecolor": "white",
            "showbackground": true,
            "ticks": "",
            "zerolinecolor": "white"
           }
          },
          "shapedefaults": {
           "line": {
            "color": "#2a3f5f"
           }
          },
          "ternary": {
           "aaxis": {
            "gridcolor": "white",
            "linecolor": "white",
            "ticks": ""
           },
           "baxis": {
            "gridcolor": "white",
            "linecolor": "white",
            "ticks": ""
           },
           "bgcolor": "#E5ECF6",
           "caxis": {
            "gridcolor": "white",
            "linecolor": "white",
            "ticks": ""
           }
          },
          "title": {
           "x": 0.05
          },
          "xaxis": {
           "automargin": true,
           "gridcolor": "white",
           "linecolor": "white",
           "ticks": "",
           "title": {
            "standoff": 15
           },
           "zerolinecolor": "white",
           "zerolinewidth": 2
          },
          "yaxis": {
           "automargin": true,
           "gridcolor": "white",
           "linecolor": "white",
           "ticks": "",
           "title": {
            "standoff": 15
           },
           "zerolinecolor": "white",
           "zerolinewidth": 2
          }
         }
        },
        "title": {
         "text": "Distribution of Proportion of Cons Scores by Author"
        },
        "width": 800,
        "xaxis": {
         "anchor": "y",
         "domain": [
          0,
          1
         ],
         "title": {
          "text": "Cons Score"
         }
        },
        "yaxis": {
         "anchor": "x",
         "domain": [
          0,
          1
         ],
         "title": {
          "text": "Proportion"
         }
        }
       }
      }
     },
     "metadata": {},
     "output_type": "display_data"
    }
   ],
   "source": [
    "\n",
    "# Plot histogram for Cons scores (proportion)\n",
    "fig_cons = px.histogram(\n",
    "    df_scores,\n",
    "    x=\"Cons\",\n",
    "    color=\"Author\",\n",
    "    title=\"Distribution of Proportion of Cons Scores by Author\",\n",
    "    nbins=30,\n",
    "    opacity=0.7,\n",
    "    labels={\"Cons\": \"Cons Score\"},\n",
    "    histnorm=\"probability\"  \n",
    ")\n",
    "fig_cons.update_layout(\n",
    "    xaxis_title=\"Cons Score\",\n",
    "    yaxis_title=\"Proportion\",\n",
    "    width=800,\n",
    "    height=500\n",
    ")\n",
    "fig_cons.show()"
   ]
  },
  {
   "cell_type": "markdown",
   "id": "eed1fcd1",
   "metadata": {},
   "source": [
    "We can also send in the full text of each author by chunking the text into overlapping windows and classify each window. Below we define the function `chunk_into_windows()` for this task. The function takes the full text, the maximum number of tokens for each window and the stride (the number of tokens to overlap between consecutive windows) as input, and returns a list of windows. "
   ]
  },
  {
   "cell_type": "code",
   "execution_count": 58,
   "id": "5bc4a723",
   "metadata": {},
   "outputs": [],
   "source": [
    "# Define a function to chunk text into overlapping windows\n",
    "def chunk_into_windows(text, max_tokens=512, stride=128):\n",
    "    \n",
    "    # Break into sentences first for cleaner boundaries\n",
    "    sents = sent_tokenize(text)\n",
    "    windows = []\n",
    "    current = \"\"\n",
    "    for sent in sents:\n",
    "        # Tentative window if we add this sentence\n",
    "        cand = current + \" \" + sent if current else sent\n",
    "        # Count tokens\n",
    "        n_tokens = len(tokenizer.encode(cand, add_special_tokens=False))\n",
    "        if n_tokens <= max_tokens:\n",
    "            current = cand\n",
    "        else:\n",
    "            # finalize current window, then start new from overlapping tail\n",
    "            windows.append(current)\n",
    "            # keep the stride tokens from the end of the current window\n",
    "            tail_ids = tokenizer.encode(current, add_special_tokens=False)[-stride:]\n",
    "            tail_text = tokenizer.decode(tail_ids)\n",
    "            current = tail_text + \" \" + sent\n",
    "    if current:\n",
    "        windows.append(current)\n",
    "    return windows"
   ]
  },
  {
   "cell_type": "markdown",
   "id": "5b325e5c",
   "metadata": {},
   "source": [
    "We chunk the full text of each author into overlapping windows and classify each window using the zero-shot classification pipeline. We also store the results in a pandas DataFrame for further analysis."
   ]
  },
  {
   "cell_type": "code",
   "execution_count": 59,
   "id": "270da50f",
   "metadata": {},
   "outputs": [],
   "source": [
    "# Run classification per author\n",
    "rows = []\n",
    "for author, text in full_cases.items():\n",
    "    \n",
    "    windows = chunk_into_windows(text, max_tokens=256, stride=64)\n",
    "    \n",
    "    # classify each window\n",
    "    for win in windows:\n",
    "        out = zero_shot(win, candidate_labels=labels, truncation=True, max_length=256)\n",
    "        # Extract scores and labels\n",
    "        score_dict = dict(zip(out[\"labels\"], out[\"scores\"]))\n",
    "        rows.append({\n",
    "            \"Author\": author,\n",
    "            \"Text\": win,\n",
    "            \"Pro\": score_dict[labels[0]],\n",
    "            \"Neutral\": score_dict[labels[1]],\n",
    "            \"Cons\": score_dict[labels[2]]\n",
    "        })\n",
    "\n",
    "all_scores = pd.DataFrame(rows)"
   ]
  },
  {
   "cell_type": "markdown",
   "id": "6e88bff3",
   "metadata": {},
   "source": [
    "Here, we print out the top 5 windows with the highest \"Pro\" scores and the top 5 windows with the highest \"Cons\" scores."
   ]
  },
  {
   "cell_type": "code",
   "execution_count": 60,
   "id": "c89ef203",
   "metadata": {},
   "outputs": [
    {
     "name": "stdout",
     "output_type": "stream",
     "text": [
      "\n",
      "Top 5 windows with the highest 'Pro' scores:\n",
      "Author: Begbie\n",
      "Window: from the constitution and the relation between the dominion and the provinces. but the judges in\n",
      "those foreign courts have had a much longer and more varied experience on these topics than\n",
      "ourselves ; their institutions are closely analogous in many judgment. respects, though, it is true,\n",
      "contrasted in others to our own. And their opinions and reasonings being also founded on\n",
      "international law, and, I take the liberty of saying, on natural equity and common sense, they are\n",
      "entitled to great weight beyond the limits of their own jurisdiction. I shall only mention Lee Sing\n",
      "v. Washburn, 20 Cal. Rep. 354; Baker v. Portland, 5 Law 750; Teburcio Parrott's case, coram SAWYER\n",
      "and HOFFMAN, J.J., 1880, and the Quene ordinance case, coram FIELD and SAWYER, J.J., 1879; the two\n",
      "latter cases published in a separate pamphlet form, in which the opinions of Mr. Justices FIELD,\n",
      "HOFFMAN, SAWYER and DEADY and other Judges whom they cite, all confirm this, that a State, or\n",
      "Provincial law imposing special disabilities or unequal burdens on Chinamen is unconstitutional and\n",
      "void.\n",
      "Pro Score: 0.9380\n",
      "\n",
      "Author: Crease\n",
      "Window: part of the power to regulate commerce, and its exercise by a state was incompatible with the\n",
      "authority of the government. that the chinese might be taxed as other residents, but could not be\n",
      "set apart as special objects of the taxation, and be compelled to contribute to the revenue of the\n",
      "state in the character of foreigners. The reports of the higher California courts are of great\n",
      "authority for us on all Chinese questions, for there have been efforts for years past to restrict\n",
      "Chinese immigration in California, and the matter has been constantly before the superior courts\n",
      "there, and the judges there (if we may take the reports as correct) are more than ordinarily skilled\n",
      "in laying down the law correctly in constitutional points of that nature. Indeed, there is no other\n",
      "country which has such experience generally in constitutional law as applicable to a federation of\n",
      "states. Of course, in all the observations I make I recognize the now well-known distinction between\n",
      "the relations of a State of the Union to the Federal Government, and our relation as a Province to\n",
      "the Dominion. Still both Federal Governments have reserved to themselves the regulation of trade and\n",
      "commerce and naturalization and aliens; so the analogy is so close as to become almost a direct\n",
      "authority.\n",
      "Pro Score: 0.7593\n",
      "\n",
      "Author: Crease\n",
      "Window: lin sing v. washburn *, 20 cal. 334 ), and the decision of * gray *, j., in * tai sing v. maguire *,\n",
      "deciding that similar legislation was held void as contravening the treaty and the sovereign power\n",
      "to regulate trade and commerce with foreign countries. *Drake*, Q. C., on the same side, argued that\n",
      "the imposition of the $10 tax was invalid because of inequality. Inherent in and incidental to the\n",
      "taxing power was the characteristic of equality. *Cooley* stated that irrespective of constitutional\n",
      "limitation a particular class of citizens could not be burdened for the advantage of\n",
      "others—*Cooley's Constitutional Limitations*, p. 635. This was a principle underlying the power to\n",
      "tax and governing that right even though the CREASE, J. 1885. REGINA v. WING CHONG. written\n",
      "constitution made no mention of it—Cooley on Taxation, p. 18, and City of Lexington v. McQuillan, 35\n",
      "Am. Dec. 159. The imposition was in derogation of treaty rights with which Canada alone had the\n",
      "power to deal. The Australian legislation did not help the contention of the Attorney-General.\n",
      "Pro Score: 0.7309\n",
      "\n",
      "Author: Crease\n",
      "Window: the citizens are entitled to require that the legislature itself shall cause all public taxation to\n",
      "be fair and equal in proportion to the value of'property \" ( and that is what * cooley * means by\n",
      "apportionment of taxation ), \" so that no class of individuals, and no species of property shall be\n",
      "unduly assessed. \" The treaties I have quoted between Great Britain and China, binding on the\n",
      "Dominion and on us in British Columbia, secure to the Chinese, just as the treaties between Great\n",
      "Britain and other foreign countries secure to other foreigners, the same rights in regard to the\n",
      "equality of taxation which I have described as being enjoyed by citizens of this country. These\n",
      "treaties have the force of international law, and are continued most strongly against the party for\n",
      "whose benefit they are introduced. In the case of the Chinese treaties, they were forced at the\n",
      "point of the bayonet on China, to obtain a right for us to enter China, and in return for a similar\n",
      "permission to us, full permission was given for the Chinese to trade and reside in British dominions\n",
      "everywhere.\n",
      "Pro Score: 0.7238\n",
      "\n",
      "Author: Crease\n",
      "Window: in british columbia, as revealed by the tables in that chinese report, is something which a casual\n",
      "observer would have no idea of. the treaties between great britain and china, which bind us, have\n",
      "been quoted. the treaty of 25th august, 1842, * hertslet *, vol. 6, ratified 26th June, 1843, p.\n",
      "221, and Lord Elgin's treaty of October, 1860, authenticated copies of which were produced in Court,\n",
      "secure to Chinese coming into British dominions the same \"full security for persons and property as\n",
      "subjects of Her Majesty.\" *Vattell*, cap. 8, referring to our obligations to foreigners, observes:—\n",
      "\"As soon as the lord of the territory admits strangers into it he engages \"to protect them as his\n",
      "own subjects, and to afford them perfect security as far as depends on him.\" *Reg. v. Severn* and\n",
      "*Reg. v. Russell* are important authorities in guiding our enquiry as to the nature and effect of\n",
      "local legislation in determining whether and how far the Act under review exceeds the limits within\n",
      "which the local legislature is supreme.\n",
      "Pro Score: 0.6814\n",
      "\n"
     ]
    }
   ],
   "source": [
    "# Print out the top 5 windows with the highest \"Pro\" scores\n",
    "top_pro_windows = all_scores.nlargest(5, 'Pro')\n",
    "\n",
    "print(\"\\nTop 5 windows with the highest 'Pro' scores:\")\n",
    "for _, row in top_pro_windows.iterrows():\n",
    "    wrapped_para = textwrap.fill(row['Text'], width=100)\n",
    "    print(f\"Author: {row['Author']}\\nWindow: {wrapped_para}\\nPro Score: {row['Pro']:.4f}\\n\")"
   ]
  },
  {
   "cell_type": "code",
   "execution_count": 61,
   "id": "d733d260",
   "metadata": {},
   "outputs": [
    {
     "name": "stdout",
     "output_type": "stream",
     "text": [
      "\n",
      "Top 5 windows with the highest 'Cons' scores:\n",
      "Author: Crease\n",
      "Window: act the legal presumption of innocence until conviction is reversed ; in every case the onus\n",
      "probandi, though in a statute highly penal, is shifted from the informant on to the shoulders of the\n",
      "accused, and he a foreigner not knowing one word of the law, or even the language of the accuser. In\n",
      "other words, every Chinese is guilty until proved innocent—a provision which fills one conversant\n",
      "with subjects with alarm; for if such a law can be tolerated as against Chinese, the precedent is\n",
      "set, and in time of any popular outcry can easily be acted on for putting any other foreigners or\n",
      "even special classes among ourselves, as coloured people, or French, Italians, Americans, or\n",
      "Germans, under equally the same law. That certainly is interfering with aliens. The proposition that\n",
      "it is a Provincial tax for revenue purposes, supposing it to be so intended under the provisions of\n",
      "the Act, is so manifestly calculated to defeat that object, by diminishing the numbers of the\n",
      "members of the persons to be affected by it, that it is difficult to regard it in that light, or in\n",
      "any other light than an indirect mode of getting rid of persons whom it affects out of the country.\n",
      "Cons Score: 0.9577\n",
      "\n",
      "Author: Crease\n",
      "Window: goods and chattels of the offender, and in default of sufficient distress by a liability to\n",
      "imprisonment for three calendar months, and the employers would necessarily be white men. in fact,\n",
      "the act so bristles with these arbitrary, exceptional and penal consequences, that it is invidious\n",
      "to single out particular ones for comment. It is enough to add that \"any person,\" no matter whether\n",
      "white or Chinese, imprisoned in respect of any infraction of the provisions of the Act, may be at\n",
      "the will of the executive, subjected even to hard labour. The Act is so full of provisions that\n",
      "interfere directly with aliens, with trade, and with commerce, that I have no hesitation in\n",
      "pronouncing all such provisions, and among them those under which the appellant in this case has\n",
      "been convicted, to be ultra vires the local legislature, and consequently illegal and void. So far,\n",
      "I have dealt with the Act on its own merits; but if we consider it in juxtaposition to the Dominion\n",
      "Act recently passed restricting the Chinese throughout all Canada, its illegality becomes\n",
      "transparent; for in passing that Act against the Chinese the Dominion has spoken by the highest\n",
      "authority which it possesses—its own Parliament.\n",
      "Cons Score: 0.9384\n",
      "\n",
      "Author: Crease\n",
      "Window: c. 272 ; l'union st. jacques v. belisle, l. r. 6 p. c. 31, and numerous other canadian authorities,\n",
      "besides the british north america act itself. now applying the principles and tests i have described\n",
      "to the act before us, what do we find? The Act is found associated with another Act now disallowed,\n",
      "the express object of which is to prevent the Chinese altogether from coming to this country, and\n",
      "the principle \"noscitur a sociis\" is kept up by the preamble of the present Act, which describes the\n",
      "Chinese in terms which, I venture to think, have never before in any other country found a place in\n",
      "an Act of Parliament. In the definition of the persons affected by the Act no distinction is made of\n",
      "ambassadors, merchants, consuls, artists, professors or travellers, or sex, whether under disability\n",
      "or not, or at such a distance from a collector as to make it difficult or impossible to obtain a\n",
      "license.\n",
      "Cons Score: 0.9298\n",
      "\n",
      "Author: Begbie\n",
      "Window: terms, only operates upon a special race, sect or class, it being universally understood that it is\n",
      "to be enforced only against that race, sect or class, we may justly conclude that it was the\n",
      "intention of the body adopting it that it should only have such operation, and treat it accordingly.\n",
      "\" Now can anybody in the Province, on or off the Bench, conscientiously say that this ordinance does\n",
      "not come within the principle thus enunciated ? I, for my part, cannot arrive at any other\n",
      "conclusion than that it is specially directed against Chinamen because they are Chinamen and for no\n",
      "other Judgment. reason ; to compel them to remove certain industries from the city or themselves\n",
      "from the Province. But the authorities already cited show that this effect cannot be attained\n",
      "directly, and what cannot be done directly will not be permitted to be done by a side wind. Tiburcio\n",
      "Parrott's Case, pp. 1634; Cummings v. Missouri, 4 Wall 325. \" If we hold otherwise,\" said the\n",
      "learned Judge, in that case \"no kind of oppression can be named against which the framers of (the\n",
      "B.N.A.\n",
      "Cons Score: 0.9271\n",
      "\n",
      "Author: Crease\n",
      "Window: . these are the only discriminations which the law allows, and these are the permissible\n",
      "discriminations spoken of by cooley in the portions cited before the court. during the argument the\n",
      "case of * lin sing v. washburn *, 20 california reports, 534, was quoted as bearing on this case.\n",
      "There, an Act of the California Legislature passed an Act imposing a capitation tax “on ‘each\n",
      "person, male and female, of the Mongolian race of the age of 18 years and upwards residing in the\n",
      "State,’ accompanying a license almost a *fac simile* of our own, and enforced in much the same way\n",
      "as in the case before us, that, after long and elaborate argument in which the Attorney-General\n",
      "appeared for the State, was determined to be unconstitutional, as it was an interference with trade\n",
      "and commerce, which could be regulated alone by the general government. It was in vain advanced that\n",
      "at least the State had concurrent jurisdiction in matters of taxation relative to its own internal\n",
      "affairs, of which this was one (the same proposition as was advanced by the Attorney-General in this\n",
      "case) in which it had a supreme and autonomous right to legislate.\n",
      "Cons Score: 0.9068\n",
      "\n"
     ]
    }
   ],
   "source": [
    "# Print out the top 5 windows with the highest \"Cons\" scores\n",
    "top_cons_windows = all_scores.nlargest(5, 'Cons')\n",
    "\n",
    "print(\"\\nTop 5 windows with the highest 'Cons' scores:\")\n",
    "for _, row in top_cons_windows.iterrows():\n",
    "    wrapped_para = textwrap.fill(row['Text'], width=100)\n",
    "    print(f\"Author: {row['Author']}\\nWindow: {wrapped_para}\\nCons Score: {row['Cons']:.4f}\\n\")"
   ]
  },
  {
   "cell_type": "markdown",
   "id": "1c71f5a7",
   "metadata": {},
   "source": [
    "We can also calculate the mean and median scores for each author based on the results of the zero-shot classification. This gives us an overall measure of the stance of each author towards Chinese immigrants. "
   ]
  },
  {
   "cell_type": "code",
   "execution_count": 62,
   "id": "173174b8",
   "metadata": {},
   "outputs": [
    {
     "name": "stdout",
     "output_type": "stream",
     "text": [
      "Mean scores by author:\n",
      "               Pro   Neutral      Cons\n",
      "Author                                \n",
      "Act 1884  0.290397  0.124065  0.585539\n",
      "Begbie    0.329687  0.289715  0.380598\n",
      "Crease    0.265144  0.203330  0.531526\n",
      "\n",
      "Median scores by author:\n",
      "               Pro   Neutral      Cons\n",
      "Author                                \n",
      "Act 1884  0.318103  0.112110  0.586557\n",
      "Begbie    0.341644  0.301877  0.314771\n",
      "Crease    0.217157  0.178534  0.552229\n"
     ]
    }
   ],
   "source": [
    "# Calculate the mean scores and median scores for each author\n",
    "mean_scores = all_scores.groupby(\"Author\")[[\"Pro\", \"Neutral\", \"Cons\"]].mean()\n",
    "median_scores = all_scores.groupby(\"Author\")[[\"Pro\", \"Neutral\", \"Cons\"]].median()\n",
    "\n",
    "print(\"Mean scores by author:\")\n",
    "print(mean_scores)\n",
    "\n",
    "print(\"\\nMedian scores by author:\")\n",
    "print(median_scores)"
   ]
  },
  {
   "cell_type": "markdown",
   "id": "69a045f0",
   "metadata": {},
   "source": [
    "> **Discussion:**\n",
    ">\n",
    "> - Between the two strategies of zero-shot classification, which one do you think is more effective in capturing the stance of each author?\n",
    "> - In reading the results of the zero-shot classification, do you think the model accurately captures the stance of each entity towards Chinese immigrants? \n",
    "> - What are the limitations of using zero-shot classification for this task? How can we improve the results?"
   ]
  },
  {
   "cell_type": "markdown",
   "id": "956a8147",
   "metadata": {},
   "source": [
    "### Conclusion"
   ]
  },
  {
   "cell_type": "markdown",
   "id": "86d1de85",
   "metadata": {},
   "source": [
    "### Key Takeaways"
   ]
  },
  {
   "cell_type": "markdown",
   "id": "f431cad4",
   "metadata": {},
   "source": [
    "### Glossary"
   ]
  },
  {
   "cell_type": "markdown",
   "id": "3a740687",
   "metadata": {},
   "source": [
    "### References\n",
    "\n",
    "1. *Regina v. Wing Chong*, 1 B.C.R. Pt. II 150 (1885). \n",
    "2. *Wong Hoy Woon v. Duncan*, 3 B.C.R. 318 (1894). \n",
    "3. *Regina v. Mee Wah*, 3 B.C.R. 403 (1886).\n",
    "4. *Regina v. Corporation of Victoria*, 1 B.C.R. Pt. II 331 (1888). \n",
    "5. *Quong Wing v. The King*, 49 S.C.R. 440 (1914). \n",
    "6. Law Society of British Columbia. (1896). *The British Columbia Reports: Being reports of cases determined in the Supreme and County Courts and in Admiralty and on appeal in the Full Court and Divisional Court* (Vol. 3). Victoria, BC: The Province Publishing Company.\n",
    "7. Canada. Royal Commission on Chinese Immigration. (1885). *Report of the Royal Commission on Chinese Immigration: report and evidence*. Ottawa: Printed by order of the Commission. \n",
    "8. Thomas, P. (2012, June 12–14). Courts of last resort: The judicialization of Asian Canadian politics 1878 to 1913. Paper presented at the Annual Conference of the Canadian Political Science Association, University of Alberta, Edmonton, Canada. Retrieved from <https://cpsa-acsp.ca/papers-2012/Thomas-Paul.pdf> \n",
    "9. McLaren, J. P. S. (1991). The Early British Columbia Supreme Court and the \"Chinese Question\": Echoes of the rule of law. Manitoba Law Journal, 20(1), 107–147. Retrieved from <https://www.canlii.org/w/canlii/1991CanLIIDocs168.pdf> \n",
    "10. Chalkidis, I., Fergadiotis, M., Malakasiotis, P., Aletras, N., & Androutsopoulos, I. (2020). LEGAL-BERT: The Muppets straight out of Law School (arXiv:2010.02559). arXiv. <https://doi.org/10.48550/arXiv.2010.02559>\n"
   ]
  }
 ],
 "metadata": {
  "kernelspec": {
   "display_name": "Python 3",
   "language": "python",
   "name": "python3"
  },
  "language_info": {
   "codemirror_mode": {
    "name": "ipython",
    "version": 3
   },
   "file_extension": ".py",
   "mimetype": "text/x-python",
   "name": "python",
   "nbconvert_exporter": "python",
   "pygments_lexer": "ipython3",
   "version": "3.12.5"
  }
 },
 "nbformat": 4,
 "nbformat_minor": 5
}
