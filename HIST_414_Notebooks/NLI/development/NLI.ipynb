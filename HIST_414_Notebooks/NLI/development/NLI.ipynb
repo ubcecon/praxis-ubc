{
 "cells": [
  {
   "cell_type": "markdown",
   "id": "293b6f23",
   "metadata": {},
   "source": [
    "## Text Embeddings for Regina V Wing Chong (1885)"
   ]
  },
  {
   "cell_type": "code",
   "execution_count": 1,
   "id": "ba4f0aa1",
   "metadata": {},
   "outputs": [],
   "source": [
    "# Data Wrangling\n",
    "import os\n",
    "import numpy as np\n",
    "import pandas\n",
    "from nltk.tokenize import word_tokenize"
   ]
  },
  {
   "cell_type": "code",
   "execution_count": 2,
   "id": "808d6815",
   "metadata": {},
   "outputs": [
    {
     "name": "stdout",
     "output_type": "stream",
     "text": [
      "CREASE, J. 1885. REGINA v. WING CHONG. \n",
      "\n",
      "14th & 15th July, Certiorari—“Chinese Regulation Act, 1884,” s. 5—Constitutionality—B.N.A. Act, 1867, ss. 91, 92—“Aliens”—“Trade and Commerce”—Taxation. \n",
      "On the return to a writ of certiorari. Held, that the “Chinese Regulation Act, 1884,” is ultra vires of the Provincial Legislature, on the following grounds: \n",
      "1. It is an interference with the rights of Aliens. \n",
      "2. It is an interference with Trade and Commerce. \n",
      "3. It is an infraction of the existing treaties between the Imperial Government and China. \n",
      "4. It imposes unequal taxation. \n",
      "\n",
      "14th & 15th July—On the return of a writ of certiorari directed to Edwin Johnson, Esquire, Police Magistrate for the City of Victoria, to return into this Court a certain conviction made by him under which one Wing Chong was fined $20 for not having in his possession a license issued under the “Chinese Regulation Act, 1884.”\n",
      "\n",
      "The Attorney-General in support of the conviction said there were five points raised on the rule for the certiorari against the validity of the $10 tax.—1st. That it interfered with the Dominion powers under the B. N. A. Act, aliens, and naturalization; 2nd. Trade and commerce; 3rd. Treaty obligations; 4th. That the tax was unequal, and 5th. It was indirect taxation. As to the first point aliens were as much subject to taxation as citizens. Protection and taxation were reciprocal (Cooley on Taxation, p. 14). The law did not deal with the conditions under which aliens might acquire rights or become subjects of Her Majesty. Secondly—Trade and commerce were not interfered with. The object of the Act was two-fold, the police and sanitary regulation of a numerous foreign element, and the raising of revenue necessary to meet that regulation (Hodge v. The Queen, L. R. 9, App. Cas. 117). If incidentally trade and commerce were touched, the provincial power of direct taxation was not impaired (Citizens Insurance Co. v. Parsons, L. R. 7 App. Cas. 108). The preamble and scope of the Act showed its objects were purely matters of the police and raising of revenue to meet the necessary expenditure, and within “Direct Taxation.” Thirdly—The treaty obligations of England did not affect the question. The last communication from the Secretary of State for the Colonies to the Governor-General, dated 16th May, 1884, stated, in effect, that the Colonies with responsible government could pass restrictive laws irrespective of treaties (B. C. Sessional Papers, 1885, p. 464), and instanced the legislation of the Australian Colonies and of the Dominion. Fourthly—As to unequal taxation, the power of the Province within its jurisdiction was supreme and as plenary as that of the Imperial Parliament (R. v. Burah, L.R. 3 App. Cas. 904; R. v. Hodge, L. R. 9, App. Cas. 117; and Powell v. Apollo Candle Co., L.R. 10 App. Cas., p. 290; and *In re Goodhue*, 19 Gr. 366); *Cooley* on Taxation, pp. 3, 82, 126-128, and *Cooley's Constitutional Limitations* (5th Ed.) 626-7; *Sedgwick* on Stat. (2nd Ed.), p. 501; *Potter's Dwarris* 418, 421, 425; *Dow v. Black*, L. R. 6 P. C. 272, were cited as showing the power of taxation, unless abridged by the written constitution, might be exercised so as to discriminate. The Supreme Court of Canada, in the case of *Jonas v. Gilbert*, 5 S. C. R., 356, had practically decided the same point. Fifthly—Whether called a licence or not, the imposition was a direct poll tax, and as such came within the power of the Province to raise money by direct taxation for Provincial purposes. *Cooley* on Taxation, 386; *Wharton's Law Lexicon*; *Reed v. Mousseau*, 8 S. C. R., 408. It was not a license to carry on business, or a method whereby indirectly money was raised from the consumer, as, for instance, customs or stamp laws.\n",
      "\n",
      "*Richards*, Q. C., for Wing Chong—The object of the Act was not for police purposes or to raise revenue. Its object, though not apparent on the face of the Act, was to prevent Chinese coming into the Province and drive out those who had already come. He reviewed the legislation against Chinese since confederation, contending it was levelled against a particular race of aliens and, therefore, beyond provincial control, per *Gwynne*, J., in *Citizens Insurance Co. v. Parsons*, 4 S. C. R., at p. 346. The law was a direct interference with trade and commerce (*R. v. Severn*, 2 Can. S. C. R., 70). If its object were successful and Chinese driven from the country, the customs dues received from the Chinese would be lost and the benefits of trade relations enjoyed by the merchants would be destroyed. Counsel cited statistics from the Chinese Commission showing the extreme importance, from a fiscal and commercial point of view, of the large number of Chinese in the Province. The Dominion under the B. N. A. Act had alone the right of performing in Canada the obligations of Canada as part of the British Empire in respect of treaties, and although Canada might pass laws prohibiting immigration, or having that tendency, the Province could not do so, nor could it pass laws in derogation of treaties. He cited the British treaty (25th August, 1842, from *Hertslet*, Vol. 6, and Lord *Elgin's* treaty, 1860), comparing it with the *Burlingame* treaty of the United States, and quoted California decisions (*Lin Sing v. Washburn*, 20 Cal. 334), and the decision of *Gray*, J., in *Tai Sing v. Maguire*, deciding that similar legislation was held void as contravening the treaty and the sovereign power to regulate trade and commerce with foreign countries. \n",
      "\n",
      "*Drake*, Q. C., on the same side, argued that the imposition of the $10 tax was invalid because of inequality. Inherent in and incidental to the taxing power was the characteristic of equality. *Cooley* stated that irrespective of constitutional limitation a particular class of citizens could not be burdened for the advantage of others—*Cooley's Constitutional Limitations*, p. 635. This was a principle underlying the power to tax and governing that right even though the CREASE, J. 1885. REGINA v. WING CHONG. written constitution made no mention of it—Cooley on Taxation, p. 18, and City of Lexington v. McQuillan, 35 Am. Dec. 159. The imposition was in derogation of treaty rights with which Canada alone had the power to deal. The Australian legislation did not help the contention of the Attorney-General. The Australian Colonies were autonomous, and occupied the same position as that of Canada. The Provinces were not autonomous. He did not contend that the whole of the Act was invalid. Much of it was within the scope of the Province, notably the provisions affecting the size of dwellings, the forbidding the use of opium, and the desecration of grave-yards. He insisted that imposing excessive taxation on one class of citizens was unconstitutional. The remarks of Chief Justice Ritchie, in the case of Jonas v. Gilbert before the Supreme Court of Canada, were obiter dicta, as the decision was upon another point, and intimated, but did not decide the right of the Provinces to discriminate, nor in what things and to what extent discrimination in taxation was legitimate. Lastly, the Act was for indirect taxation, which was a power given only to the Dominion Parliament. It was a license fee, the power to impose which had, in Severn v. The Queen, been decided against the Provinces on the score of such legislation being against trade and commerce. \n",
      "\n",
      "The Attorney-General in reply—The ten dollar impost was a tax whether designated by the name of a licence or otherwise. The distinction between direct and indirect taxation was well drawn in the case of Reed v. Mousseau before the Supreme Court of Canada, in which Mr. Justice Strong mentioned the Privy Council had decided the Provincial legislatures had exclusive power to impose direct taxation, and that it did not follow they might not have power even to impose indirect taxation. The tax did not sanction the carrying on of any business out of the product of which the consumer would, indirectly, contribute towards payment of the tax. Then as to inequality, the one dictum of Cooley was but an expression of opinion that political wisdom required uniform taxation; for the same author cited numerous authorities, including that of the Supreme Court of the United States establishing the right to discriminate unless fettered by the express language of the Constitution. Todd on Parliamentary Government in the Colonies, supported the view that the Provinces within their jurisdiction were as omnipotent as the Imperial Parliament. The California cases (see The People v. Naglee, 1 Cal. 232) decided a differential tax might be imposed on foreign miners; and though a later case (Lin Sing v. Washburn, 20 Cal. 334) had decided a special tax could not be imposed on Chinese, a most celebrated Judge, Mr. Justice Field (since elevated to the Federal bench), dissented, and had pointed out that according to federal decisions the State might impose special taxation on alien residents, provided the impost was not levied against foreigners landing in the country. The tax was not to exclude the Chinese — another statute with that object had been disallowed. It was imposed to meet the extraordinary expenses incident to enforcing the police and sanitary regulations prescribed by the Act. The question of treaties had nothing to do with the subject, for to responsible governments the Imperial Authorities conceded the right to pass laws within their jurisdiction. So the Canadian Parliament to-day was passing a restriction Act. Opponents to the Act might as well contend the exclusion of the Chinese from the franchise, and barring them from acquiring lands, was illegal. As to autonomy, neither the Australian Colonies nor the Dominion were absolutely possessed, but the Province equally with Australia and the Dominion were autonomous within the bounds of their respective jurisdictions. \n",
      "\n",
      "21st August, 1885—CREASE, J.— In order to deal satisfactorily with the questions raised by this appeal, it is necessary to see what is the scope and purport of the Act. It is called \"An Act to regulate the Chinese population of British Columbia.\" It starts with a recital, in itself a petio principii—not apparently the result of any public enquiry—which charges them with being not law-abiding, dissimilar in habits and occupation to the whites—useless in emergencies, habitual desecrators of grave-yards, unsuited to our laws, and of habits subversive of the community. From that premises concluding that special laws are required for their government, it proceeds to enact:— \n",
      "\n",
      "1. The title.\n",
      "\n",
      "2. Defines Chinese to mean \"any native of the Chinese empire or \"its dependencies not born of British parents, and shall include any \"person of the Chinese race.\" \n",
      "\n",
      "Section 3—with which we are immediately concerned—says:—\"From and after the passage of this Act there shall be payable and \"paid by every Chinese in British Columbia, above the age of fourteen years, unto and for the use of Her Majesty, her heirs and successors, the sum of ten dollars, and thereafter on the 1st day of June in \"each and every year there shall be likewise payable and paid by such \"Chinese person a further sum of ten dollars.\" \n",
      "\n",
      "Sec. 4 provides for the appointment and payment of special collectors, \"to be called Chinese collectors, to collect and receive such \"payments from Chinese; and such collector or collectors, immediately upon such payment, shall issue and deliver to the person paying \"the same a licence in the form contained in the schedule hereto.\" \n",
      "\n",
      "By Sec. 5 \"Any Chinese who shall be found within the Province \"not having in his possession a licence issued under the provisions of \"this Act, lawfully issued to him, shall, on conviction thereof, forfeit \"and pay a sum not exceeding forty dollars.\" \n",
      "\n",
      "By Sec. 6 \"Any collector or Government servant wilfully disobeying \"any of the provisions of this Act shall forfeit and pay a sum not \"exceeding one hundred dollars.\" \n",
      "\n",
      "By Sec. 7 \"Every collector shall collect the tax from each Chinese, \"and shall as soon afterwards as may be pay over the amount to the \"officer in charge of the Treasury, or to such other person as the \"Lieutenant-Governor in Council may from time to time direct.\"  \n",
      "\n",
      "By Sec. 8 “Every employer of Chinese shall furnish to the collector “when requested by him so to do, from time to time, a list of all “Chinese in his employ, or indirectly employed by him; but no such “statement shall bind the collector, nor shall excuse him from “making due enquiry to ascertain its correctness.” \n",
      "\n",
      "Section 9. “In case any employer of Chinese fails to deliver to the “collector the list mentioned in the preceding section, when required “so to do, or knowingly states anything falsely therein, such “employer shall, on complaint of the collector and upon conviction “before a Justice of the Peace having jurisdiction within the “district wherein such employer carries on his business, forfeit “and pay a fine not exceeding one hundred dollars for every Chinese “in his employ, to be recovered by distress of the goods and chattels “of such employer failing to pay the same, or in lieu thereof shall be “liable to imprisonment for a period not less than one month and not “exceeding two calendar months.”\n",
      "\n",
      "Section 10 gives the collector power to “levy the amount of the license from any Chinese not being in lawful possession of a license, “with costs, by distress of his goods and chattels, or of any goods and “chattels which may be in the possession of the delinquent, or which “may be upon or in any premises (whether the goods of the delin- “quent or not) for the time being in the possession or occupation of “such delinquent Chinese,” and declares that “for the purposes of this “section premises shall be deemed to be in the possession or occupa- “tion of any Chinese when it can be shown to the satisfaction of the “tribunal having cognizance of the matter (a) that such Chinese “habitually frequents such premises with the assent of the owner ; “(b) that he is the owner or one of the owners of the premises, or has “control, either alone or jointly, with another or others, of such pre- “mises or some part thereof; (c) that he has passed the night or slept “upon such premises at any time within a week of the levy, it shall “be sufficient authority for the collector to levy as aforesaid on the “non-production of the license. Proof of the lawful possession of “such receipt shall lie on the person whose goods are restrained.” \n",
      "\n",
      "By section 11 every license must be demanded by the employer and retained during the Chinaman’s service. \n",
      "\n",
      "By section 12 tax collectors are not to allow Chinese to pass unless a license is produced. \n",
      "\n",
      "Section 13 imposes a penalty of $50 on any person guilty of employing any Chinese not having a license. \n",
      "\n",
      "Sec. 14 Fee for free miner’s certificate to a Chinese to be $15, instead of the white man's $5. \n",
      "\n",
      "Sec. 15. Penalty not exceeding $30 for every Chinaman mining without a license. \n",
      "\n",
      "Section 16 amends the License Ordinance of 1867, whereby the pursuit of various callings is sanctioned by the ominous words, “but no license shall be issued to any Chinese.” \n",
      "\n",
      "Sections 17 and 18 prevent the exhumation of dead bodies without permission, and prohibit the use of opium except for medical purposes. \n",
      "\n",
      "Section 19 provides for the recovery of any pecuniary penalty thereunder in a summary manner before a J. P., and in default of immediate payment sanctions a distress, and failing that, imprisonment for not exceeding three months. \n",
      "\n",
      "Section 20 (amended by Act of 1885) declares that \"convictions are not to be quashed for want of form.\" \n",
      "\n",
      "Section 21. “Any Chinese who shall lend his license or free miner's \"certificate to another Chinese, and any Chinese who shall utter or \"pass off upon any collector or other person any license or free miner's \"certificate other than his own, with intent himself to avoid payment\" of the license fee payable under this Act (and the onus of proving “that such was not his intent shall rest upon the person charged), shall \"forfeit and pay a penalty of not less than twenty dollars nor more \"than one hundred dollars.\" \n",
      "\n",
      "Section 22 enacts that the tribunal applied to may decide \"on its own view and judgment\" whether any person is a Chinese or 14 years old. \n",
      "\n",
      "Sections 23, 24 and 25 contain sanitary provisions affecting buildings let to Chinese. \n",
      "\n",
      "Section 26 provides a means whereby persons imprisoned for an infraction of the Act may be put to hard labour by an Order in Council, and the same executive authority is empowered to make rules and regulations for carrying out the Act. \n",
      "\n",
      "Section 27 places in the hand of the local executive the construction from time to time of further rules and regulations to enforce the Act, and a fitting summary to such a premiss in section 28 reverses all the old law of England and one of the most cherished and priceless safeguards of the freedom from oppression won for us by our forefathers—that no one shall be deemed guilty until he has been proved so—throws on the defendant, white or yellow, the burden of proving that he is exempt from the operation of its arbitrary provisions—and in a tax Act which is in restraint of personal liberty, and opposed to the common law rights of the citizen—for if applicable to aliens it is a fortiori to the temporary inhabitants of the Province—abrogates the hitherto invariable rule in criminal matters and makes it unnecessary in any information, summons or conviction to “state or negotiate any “exception in or exemption under this Act, or in contemplation of “law.” Taught by experience of former efforts in the same direction, section 29 gives one year’s notice of the coming into operation of the Act—a time which has now expired. And section 30 terms it merely “The Chinese Regulation Act, 1884.” \n",
      "\n",
      "The only schedule is the form of license, which runs as follows:—\n",
      "\n",
      "The question now raised on the construction of this Act affects not only British Columbia, but, as she occupies the only Pacific seaboard of the Dominion, indirectly more or less the very many other Provinces under the flag of confederation. \n",
      "Taking for convenience the five points of objection to the conviction in the order in which they are made— \n",
      "1. That it interfered with the Dominion powers under the B. N. A. Act over aliens and naturalization. \n",
      "2. Trade and commerce. \n",
      "3. Treaty obligations. \n",
      "4. That the tax was unequal. \n",
      "5. That it was indirect taxation and therefore illegal, and should be quashed. \n",
      "\n",
      "On the first point, I would observe that it is now well settled law that British Columbia, as a part of the Dominion, possesses all, but possesses only, the powers which are strictly defined by the B. N. A. Act of 1867, which is, indeed, the constitution of Canada.\n",
      "\n",
      "Neither she nor any other of the Provinces possess any other powers of legislation than are conferred by that Act. If British Columbia, or any other Province, in its legislation, goes beyond that Act and in excess of its provisions, that moment, and to the extent of such transgression, it ceases to be law. Therefore, in dealing with this question, our constitutional Act must be kept in view throughout, as the measure by which we must continually gauge the legality or illegality of the provisions of the local statute under consideration. \n",
      "\n",
      "The Act of Federation was passed in order to be an irrefragable, permanent standard by which to preserve and regulate all the relative rights of the Provinces, as among themselves and as regards the Dominion. \n",
      "\n",
      "The exclusive powers of that Act given to the Dominion over particular subjects are contained in the 91st section. The exclusive powers of the Province are particularized in section 92. It is natural that in the working out of such a constitution in a new and growing country, questions should be continually cropping up, and call upon the Courts to define gradually and with greater exactness, as time progresses and population expands, the relative powers given by the Act to the Dominion and Provinces respectively. Sub-section 2 of section 91 gives to the Dominion Parliament exclusively the regulation of “trade and commerce,” and by sub-section 25 that of “naturalization and aliens,” and everything relating to those subjects as affecting the whole Dominion is within the Dominion powers, and no local Legislature can make any statute interfering with either of those subjects. If it does, so far as such interference extends it is illegal and void, and when brought before the Court it is the duty of that tribunal so to adjudge it.\n",
      "\n",
      "And the converse of this is true when applied to Dominion legislation as affecting the subjects exclusively given by the constitution to the Province. \n",
      "\n",
      "Now, applying this test to the statute before us, let us see whether and how far its provisions affect, as is alleged, aliens, or trade, or commerce. \n",
      "\n",
      "The aliens in this case being Chinese, the first enquiry must be, what is the object of the Act? On applying to the preamble, we find that it looks like a bill of indictment as against a race not suited to live among a civilized nation, and certainly does not prepare one for legislation which would encourage or tolerate their settlement in the country. Indeed, the first lines of the preamble sound an alarm at the multitude of people coming in, who are of the repulsive habits described in the last part of the preamble, and prepares one for measures which should have a tendency to abate that alarm by deterrent influences and enactments which should have the effect of materially lessening the number of such undesirable visitors. The provisions of the Act I have given somewhat in extenso bear out that view, and the concurrent and previous local legislation bear out the same impression, for on the same day as this Act was passed, another Act was passed, the very object of which was plainly stated to be \"to prevent the immigration\" of Chinese.\" \n",
      "\n",
      "That Act was disallowed. It interfered with aliens as well as trade and commerce, which cannot subsist among nations without personal intercourse, which such an Act (as far as China was concerned) would have a tendency to prohibit. \n",
      "\n",
      "Another statute (of 1878), \"An Act to provide for the better collection of taxes from Chinese,\" which contained several of the stringent provisions which I have described in this Act, such as a special tax specially recoverable by summary and unusual remedies from the Chinese alone, in British Columbia, and enforced by fine and imprisonment and other penal clauses, came before this Court, and in a most conscientious and exhaustive judgment of Mr. Justice Gray, of 23rd September, 1878, in the case of Tai Sing v. Maguire, was declared unconstitutional and ultra vires the Local Legislature, as interfering with aliens and trade and commerce—matters reserved exclusively under the 81st section of the B. N. A. Act to the Dominion. That decision was never appealed from, and was at once acted on by the government as conclusive. \n",
      "\n",
      "The position and legislative powers of British Columbia have been in no respect altered in its relations to the legislative powers of the Dominion on the same subjects since that time, though Russell v. The Queen (7 App. Cas. 829) and Hodge v. The Queen (9 App. Cas. 117) have more fully defined the extent of the powers of the Provincial Legislatures than has hitherto been done; and in the latter case especially. That decision, however, was not before Mr. Gray when he rendered the judgment in Tai Sing v. Maguire. Until reversed or varied, the decision in the Hodge case is law here, and binding on this Court. \n",
      "\n",
      "Their lordships say (page 132), with reference to the objection of the appellants there (delegatus non potest delegare):—\n",
      "\"It appears to their lordships, however, that the objection thus raised by the appellants is founded on an entire misconception of the true character and position of the Provincial Legislatures. They are in no sense delegates of or acting under any mandate from the Imperial Parliament. When the British North America Act enacted that there should be a Legislature for Ontario\" (for this case we may for \"Ontario\" read \"British Columbia\"), \"and that its Legislative Assembly should have exclusive authority to make laws for the Province and for provincial purposes in relation to the matters enumerated in section 92, it conferred powers not in any sense to be exercised by delegation from or as agents of the Imperial Parliament, but authority as plenary and as ample within the limits prescribed by section 92 as the Imperial Parliament in the plenitude of its power possessed and could bestow. Within these limits of subjects and area the Local Legislature is supreme.\" \n",
      "\n",
      "[So far this decision confirms the words of Lord Selborne in R. v. Burah; what follows goes beyond it.] \"And has the same authority as the Imperial Parliament or the Parliament of the Dominion would have had under like circumstances to confide to a municipal institution or body of its own creation authority to make by-laws or resolutions as to subjects specified in the enactment, and with the object of carrying the enactment into operation and effect.\" \n",
      "\n",
      "That decision, although in some respects an obiter dictum, as regards this case, makes it clear that within the limits of subjects and the area prescribed by the B. N. A. Act, by section 92, the Legislature of British Columbia is supreme. The basis, then, of our enquiry must be: Is this Chinese Regulation Act of 1884—rather the parts of it objected to—within the limit of subjects and area of section 92, or does it exceed those limits in which it is supreme, and interfere with aliens, trade and commerce in such a manner as to encroach on section 91 or any of its sub-sections? If so, so far as it does so, it is unconstitutional and ultra vires, and therefore void. Now it does not follow because a local Act touches on these three subjects it therefore interferes with them so as to render it unconstitutional. \n",
      "\n",
      "Aliens may be taxed, may be subjected to the same rules and municipal and other by-laws as other inhabitants of British Columbia, and such discrimination in so doing as are allowed in local legislatures between and among different persons and occupations among the whites are quite as applicable to them. These are the only discriminations which the law allows, and these are the permissible discriminations spoken of by Cooley in the portions cited before the Court. During the argument the case of *Lin Sing v. Washburn*, 20 California Reports, 534, was quoted as bearing on this case. There, an Act of the California Legislature passed an Act imposing a capitation tax “on ‘each person, male and female, of the Mongolian race of the age of 18 years and upwards residing in the State,’ accompanying a license almost a *fac simile* of our own, and enforced in much the same way as in the case before us, that, after long and elaborate argument in which the Attorney-General appeared for the State, was determined to be unconstitutional, as it was an interference with trade and commerce, which could be regulated alone by the general government. It was in vain advanced that at least the State had concurrent jurisdiction in matters of taxation relative to its own internal affairs, of which this was one (the same proposition as was advanced by the Attorney-General in this case) in which it had a supreme and autonomous right to legislate. And the grounds of this decision were that the federal constitution had vested in the general government the power to regulate commerce in all its branches (as with us in the Dominion); and this power extends to every species of commercial intercourse, and may be exercised upon persons as well as property (Mr. Justice Field, whose arguments have been reproduced by the Attorney-General before me in this case, dissenting). \n",
      "\n",
      "That commerce cannot be carried on without the agency of persons, and the tax, the effect of which is to diminish personal intercourse, is a tax on commerce. If the power to impose such a tax is acknowledged, it being a sovereign power, no limitation can be affixed to its exercise, and it may be so used as not only to diminish but destroy commerce. \n",
      "\n",
      "The power asserted in the Act in question (the California Act) is the right of the State to prescribe the terms upon which the Chinese shall be permitted to reside in it, and be so used as to cut off all intercourse between them and the people of the State, and defeat the commercial policy of the nation. \n",
      "\n",
      "That the Act could not be maintained as a police regulation; that a branch of the police power had been surrendered to the Federal Government as a part of the power to regulate commerce, and its exercise by a State was incompatible with the authority of the Government. \n",
      "\n",
      "That the Chinese might be taxed as other residents, but could not be set apart as special objects of the taxation, and be compelled to contribute to the revenue of the State in the character of foreigners. \n",
      "\n",
      "The reports of the higher California courts are of great authority for us on all Chinese questions, for there have been efforts for years past to restrict Chinese immigration in California, and the matter has been constantly before the superior courts there, and the judges there (if we may take the reports as correct) are more than ordinarily skilled in laying down the law correctly in constitutional points of that nature. Indeed, there is no other country which has such experience generally in constitutional law as applicable to a federation of states. \n",
      "\n",
      "Of course, in all the observations I make I recognize the now well-known distinction between the relations of a State of the Union to the Federal Government, and our relation as a Province to the Dominion. Still both Federal Governments have reserved to themselves the regulation of trade and commerce and naturalization and aliens; so the analogy is so close as to become almost a direct authority. \n",
      "\n",
      "In the *Lin Sin* judgment, p. 579, the learned judge says of the power of taxing foreigners, as in the present *qua* foreigners: “If the power exist it may be exercised upon all foreigners residing in the State, and may be so exercised as to bar the door of foreign commerce as effectually as the Government could do by issuing its man-“date and closing its ports.\" \n",
      "\n",
      "And again \"to determine whether there is a conflict or not, i.e., of jurisdictions, the power must be considered with reference to its consequences, for its effect when carried out is the only criterion by which a judgment can be formed.\"\n",
      "\n",
      "In another place he says:—\"It would be an empty sound to say that the several States cannot pass any law to prevent foreigners from coming here if they may pass laws which will compel such foreigners to depart as soon as they arrive.\" \n",
      "\n",
      "And again, \"A tax imposed by the law on these persons for the mere right to reside here, is an appropriate and effective means to discourage the immigration of the Chinese into the State.\"\n",
      "\n",
      "During the argument on the case before me, the Attorney-General claims that this was direct taxation, and a direct tax within the Province, to raise revenue for Provincial purposes, and, therefore *intra vires*; but the question is not one of name but of fact. Does it interfere with trade or commerce? Can it be legally imposed on foreigners as foreigners, for even a legal tax in other respects becomes illegal when it goes beyond its proper limits, and interferes with powers exclusively given to the Dominion for the benefit of all? \n",
      "\n",
      "In another California case, *In re Tiburcio Parrott*, it is laid down that if the apparent object of a statute is under a pretense of the exercise of constitutional powers to drive Chinese away, the end sought to be obtained being unlawful, the statute is void. \n",
      "\n",
      "In *Russell v. Reg.* it is decided that the true nature and character of legislation must be determined in order to ascertain its legality. \n",
      "\n",
      "In *Citizens Insurance Co. v. Parsons*, we have to look at the legislation for the same purpose. \n",
      "\n",
      "If the legislation here be to drive people from the country, have the local legislature the power? Legislation as to aliens is reserved to the Dominion. And as to trade and commerce, if the Chinese be driven out an annual loss to the revenue, it appears by the tables in the Chinese Commission Report, of $110,000 will take place; and more than $1,500,000 of property and business be lost to us, besides an injury to trade to an incalculable extent. The amount of business transacted by Chinamen in British Columbia, as revealed by the tables in that Chinese Report, is something which a casual observer would have no idea of. \n",
      "\n",
      "The treaties between Great Britain and China, which bind us, have been quoted. The treaty of 25th August, 1842, *Hertslet*, Vol. 6, ratified 26th June, 1843, p. 221, and Lord Elgin's treaty of October, 1860, authenticated copies of which were produced in Court, secure to Chinese coming into British dominions the same \"full security for persons and property as subjects of Her Majesty.\" \n",
      "\n",
      "*Vattell*, cap. 8, referring to our obligations to foreigners, observes:— \"As soon as the lord of the territory admits strangers into it he engages \"to protect them as his own subjects, and to afford them perfect security as far as depends on him.\"\n",
      "\n",
      "*Reg. v. Severn* and *Reg. v. Russell* are important authorities in guiding our enquiry as to the nature and effect of local legislation in determining whether and how far the Act under review exceeds the limits within which the local legislature is supreme. And as to the equality of taxation, besides *Cooley*, who has been quoted freely on both sides, in *Kent's Commentaries* (8th Ed.), 2nd Vol., 388, it is insisted—\"That every person is entitled to be protected in the enjoyment of his property, not only from invasions of it by individuals, but from all unequal and undue assessments on the part of the Government. It is not sufficient that no tax or imposition can be imposed upon the citizens, but by their representatives in the legislature the citizens are entitled to require that the legislature itself shall cause all public taxation to be fair and equal in proportion to the value of 'property\" (and that is what *Cooley* means by apportionment of taxation), \"so that no class of individuals, and no species of property shall be unduly assessed.\" The treaties I have quoted between Great Britain and China, binding on the Dominion and on us in British Columbia, secure to the Chinese, just as the treaties between Great Britain and other foreign countries secure to other foreigners, the same rights in regard to the equality of taxation which I have described as being enjoyed by citizens of this country. \n",
      "\n",
      "These treaties have the force of international law, and are continued most strongly against the party for whose benefit they are introduced. \n",
      "\n",
      "In the case of the Chinese treaties, they were forced at the point of the bayonet on China, to obtain a right for us to enter China, and in return for a similar permission to us, full permission was given for the Chinese to trade and reside in British dominions everywhere. \n",
      "\n",
      "In the treaties of 1858 and 1860, made at the solicitation of Great Britain, the Emperor of China was induced to give permission to his subjects to go and trade and reside \"in British Colonies,\" and to enter into \"engagements with British subjects for that purpose.\" \n",
      "\n",
      "These obligations are binding here and in other parts of the Dominion under section 132 of the British North America Act, and no Province, or the Dominion itself, can lawfully pass laws interfering with that right without a previous revision of the treaties by the high contracting parties to them for that purpose. Treaties with foreign nations are above all ordinary municipal law, for obvious international reasons, for without such a provision there can be no permanent security, which is the life of all commercial intercourse. The same provisions that apply to Chinese may be made to apply also to Americans, Frenchmen, Germans, or any other foreigners. Such treaties are the especial care of the Dominion, and where local legislation clashes with that especial province of the Dominion, the legislation of the Province must give way, as laid down in Leprohon v. the City of Ottawa, 40 Q.B., Ont., 478; Reg. v. Chandler, Hannay's New Brunswick Reports, 548; Dow v. Black, L.R. 6 P.C. 272; L'Union St. Jacques v. Belisle, L.R. 6 P.C. 31, and numerous other Canadian authorities, besides the British North America Act itself. Now applying the principles and tests I have described to the Act before us, what do we find? The Act is found associated with another Act now disallowed, the express object of which is to prevent the Chinese altogether from coming to this country, and the principle \"noscitur a sociis\" is kept up by the preamble of the present Act, which describes the Chinese in terms which, I venture to think, have never before in any other country found a place in an Act of Parliament. \n",
      "\n",
      "In the definition of the persons affected by the Act no distinction is made of ambassadors, merchants, consuls, artists, professors or travellers, or sex, whether under disability or not, or at such a distance from a collector as to make it difficult or impossible to obtain a license. Every person of Chinese origin, whether naturalized in Hong Kong or America, or any other State with which we are at amity, so long as they are of Chinese origin, 14 years of age—every one without distinction—must take out a license. For the purpose of argument I have treated the license fee as a tax; but it is in fact a license—a license to remain in British Columbia unmolested for a year. When the legislature wanted to create a tax, they knew what words to use for the purpose, for in the sister Act passed on the same day, which was disallowed, they called the impost there enacted a \"tax,\" not a license. However difficult or impossible for any Chinese to find a district collector, if such Chinese is \"found without a license he is liable to a fine of $40.\" At every turn he is confronted with an exceptional duty, and an exceptional penalty, and the loss of his goods and chattels, and of personal liberty. \n",
      "\n",
      "It is impossible but that such an imposition so enforced, in addition to all the general taxes to which he is subject, should make this country too hot for him to live in; and just in proportion as he is so persecuted out of the country, in that degree does this enactment interfere with trade and commerce and that control over aliens exclusively given to the Dominion. And not only is he thus attacked, but unheard of provisions are introduced. Every employé of Chinese labour, whether English, American, or what not, is made liable to severe and incessant liability of a penal kind, for what? Some act, a default of his own? No; an act or default of a stranger, a man whose language he knows not, and for every infraction of the Act by the Chinese under his employ. The palpable object of such a provision, or set of provisions, is to render the employment of Chinese so distasteful and annoying to the employer that he must cease to employ them. Now, to pass a law providing that employment shall not be given to a special class of men, except it be productive of so much danger, annoyance, and loss to the employer, is just another way of saying that no intercourse shall be had with that class. With penalties and prosecutions always before you, far in excess of any advantage to be derived from that intercourse or trade, what is that but equivalent to saying that such intercourse or trade or labour must cease altogether. What is that but interfering with aliens, trade, and commerce? \n",
      "\n",
      "If a man employ a Chinaman who should happen to be delinquent in his tax, and he happens to occupy a cottage or room of his employer, with his master's goods in it, under section 10 they are liable to seizure and sale. In every prosecution under the Act the legal presumption of innocence until conviction is reversed; in every case the onus probandi, though in a Statute highly penal, is shifted from the informant on to the shoulders of the accused, and he a foreigner not knowing one word of the law, or even the language of the accuser. In other words, every Chinese is guilty until proved innocent—a provision which fills one conversant with subjects with alarm; for if such a law can be tolerated as against Chinese, the precedent is set, and in time of any popular outcry can easily be acted on for putting any other foreigners or even special classes among ourselves, as coloured people, or French, Italians, Americans, or Germans, under equally the same law. That certainly is interfering with aliens. \n",
      "\n",
      "The proposition that it is a Provincial tax for revenue purposes, supposing it to be so intended under the provisions of the Act, is so manifestly calculated to defeat that object, by diminishing the numbers of the members of the persons to be affected by it, that it is difficult to regard it in that light, or in any other light than an indirect mode of getting rid of persons whom it affects out of the country. The whole Act teems with special provisions which affect not only Chinese, but their employers, with obligations and liabilities as to the conduct of the Chinese in their employ, that no reasonable man would encounter, and run the risk of the penal consequences which the Act hangs over him. \n",
      "\n",
      "For instance, by section 19 any pecuniary penalty imposed may be summarily recovered (and applies to employers), and in default of immediate payment the same may be recovered by distress of the goods and chattels of the offender, and in default of sufficient distress by a liability to imprisonment for three calendar months, and the employers would necessarily be white men. \n",
      "\n",
      "In fact, the Act so bristles with these arbitrary, exceptional and penal consequences, that it is invidious to single out particular ones for comment. It is enough to add that \"any person,\" no matter whether white or Chinese, imprisoned in respect of any infraction of the provisions of the Act, may be at the will of the executive, subjected even to hard labour. \n",
      "\n",
      "The Act is so full of provisions that interfere directly with aliens, with trade, and with commerce, that I have no hesitation in pronouncing all such provisions, and among them those under which the appellant in this case has been convicted, to be ultra vires the local legislature, and consequently illegal and void. \n",
      "\n",
      "So far, I have dealt with the Act on its own merits; but if we consider it in juxtaposition to the Dominion Act recently passed restricting the Chinese throughout all Canada, its illegality becomes transparent; for in passing that Act against the Chinese the Dominion has spoken by the highest authority which it possesses—its own Parliament. By the Constitutional Act the subject of aliens, we have seen, is specially reserved to the Dominion, and it is now an axiom, in the interpretation of that Act, that when that authority deals with a subject expressly included in its jurisdiction by the 91st section, it has possession of that subject exclusively, and the Province has to give way. It is a great assumption of power on the part of a Province to pass laws, the effect of which must be practically to expel a particular class of aliens from that Province, to say in effect that it will by its legislation impede or prevent that class from being employed in another Province—say the North-west Territory or Manitoba—where railway works may be languishing for want of that very class of labourers, British Columbia being the only sea-board of Canada on the Pacific through which (in face of the restrictive laws of the United States) that class of labourers can enter and pass through; that is, in fact, legislating on all inter-provincial immigration; in other words, such legislation is ultra vires, and so I pronounce it; and adjudge accordingly, and quash the conviction, with costs. \n",
      "\n",
      "\n",
      "\n"
     ]
    }
   ],
   "source": [
    "with open('data/Regina_V_Wing_Chong.txt', encoding='utf-8') as f:\n",
    "    full_text = f.read()\n",
    "print(full_text)"
   ]
  },
  {
   "cell_type": "markdown",
   "id": "2f86428c",
   "metadata": {},
   "source": [
    "### BERT Word Embeddings"
   ]
  },
  {
   "cell_type": "code",
   "execution_count": 3,
   "id": "710c6d1f",
   "metadata": {},
   "outputs": [
    {
     "name": "stdout",
     "output_type": "stream",
     "text": [
      "crease j 1885 regina v wing chong \n",
      "\n",
      "14th  15th july certiorarichinese regulation act 1884 s 5constitutionalitybna act 1867 ss 91 92alienstrade and commercetaxation \n",
      "on the return to a writ of certiorari held that the chinese regulation act 1884 is ultra vires of the provincial legislature on the following grounds \n",
      "1 it is an interference with the rights of aliens \n",
      "2 it is an interference with trade and commerce \n",
      "3 it is an infraction of the existing treaties between the imperial government and c\n"
     ]
    }
   ],
   "source": [
    "import re\n",
    "\n",
    "def clean_text(text):\n",
    "    \n",
    "    text = text.lower()\n",
    "    text = re.sub(r'[^\\w\\s]', '', text)  # Remove punctuation\n",
    "    \n",
    "    return text.strip()\n",
    "\n",
    "text_cleaned = clean_text(full_text)\n",
    "print(text_cleaned[:500])  # Print the first 500 characters of the cleaned text"
   ]
  },
  {
   "cell_type": "code",
   "execution_count": 4,
   "id": "3e2dea35",
   "metadata": {},
   "outputs": [],
   "source": [
    "# Load pre-trained BERT tokenizer and model\n",
    "from transformers import BertTokenizer, BertModel\n",
    "import torch\n",
    "\n",
    "tokenizer = BertTokenizer.from_pretrained('nlpaueb/legal-bert-base-uncased')\n",
    "bert_model = BertModel.from_pretrained('nlpaueb/legal-bert-base-uncased')"
   ]
  },
  {
   "cell_type": "code",
   "execution_count": null,
   "id": "ac2e797a",
   "metadata": {},
   "outputs": [],
   "source": [
    "# Create the word embeddings\n",
    "# Tokenize the cleaned text into words\n",
    "tokens = word_tokenize(text_cleaned)\n",
    "\n",
    "token_frequencies = {}\n",
    "\n",
    "for token in tokens:\n",
    "    token_frequencies[token] = token_frequencies.get(token, 0) + 1"
   ]
  },
  {
   "cell_type": "code",
   "execution_count": 6,
   "id": "80f3b9e3",
   "metadata": {},
   "outputs": [
    {
     "name": "stdout",
     "output_type": "stream",
     "text": [
      "Most frequent tokens:\n",
      "the: 629\n",
      "of: 360\n",
      "and: 254\n",
      "to: 234\n",
      "in: 181\n",
      "a: 133\n",
      "that: 109\n",
      "as: 100\n",
      "is: 87\n",
      "it: 83\n",
      "be: 82\n",
      "act: 80\n",
      "or: 78\n",
      "chinese: 74\n",
      "for: 74\n",
      "by: 70\n",
      "not: 62\n",
      "with: 60\n",
      "on: 58\n",
      "was: 58\n"
     ]
    }
   ],
   "source": [
    "sorted_tokens = sorted(token_frequencies.items(), key=lambda x: x[1], reverse=True)\n",
    "\n",
    "# Example: print top 10 most frequent tokens\n",
    "print(\"Most frequent tokens:\")\n",
    "for token, freq in sorted_tokens[:20]:\n",
    "    print(f\"{token}: {freq}\")"
   ]
  },
  {
   "cell_type": "code",
   "execution_count": 7,
   "id": "3851600d",
   "metadata": {},
   "outputs": [],
   "source": [
    "import re\n",
    "# Build ethnicity vocabulary\n",
    "ethnicities = [\n",
    "    \"chinese\", \"japanese\", \"black\", \"white\", \"yellow\", \"chinamans\", \"hong kong\",\n",
    "    \"canada\", \"american\", \"americans\", \"european\", \"china\", \"chinaman\", \"britain\",\n",
    "    \"canadian\", \"latino\", \"mongolian\", \"asian\", \"indian\", \"india\", \"english\",\n",
    "    \"british\", \"america\", \"columbia\", \"ontario\", \"australia\", \"australian\",\n",
    "    \"germans\", \"german\", \"chinamen\", \"italian\", \"italy\", \"french\", \"france\"\n",
    "]\n",
    "\n",
    "pattern = re.compile(r\"\\b(\" + \"|\".join(map(re.escape, ethnicities)) + r\")\\b\", flags=re.IGNORECASE)\n",
    "\n",
    "# Mask in any string\n",
    "def mask_ethnicity(tokens):\n",
    "    masked = []\n",
    "    for tok in tokens:\n",
    "        masked.append(pattern.sub(\"[MASK]\", tok))\n",
    "        \n",
    "    return masked"
   ]
  },
  {
   "cell_type": "code",
   "execution_count": 8,
   "id": "59e873f9",
   "metadata": {},
   "outputs": [
    {
     "data": {
      "text/plain": [
       "['[MASK]', '[MASK] women']"
      ]
     },
     "execution_count": 8,
     "metadata": {},
     "output_type": "execute_result"
    }
   ],
   "source": [
    "example_word = [\"chinaman\", \"chinese women\"]\n",
    "\n",
    "mask_ethnicity(example_word)"
   ]
  },
  {
   "cell_type": "code",
   "execution_count": 9,
   "id": "08fe0727",
   "metadata": {},
   "outputs": [
    {
     "name": "stdout",
     "output_type": "stream",
     "text": [
      "There are 1578 unique tokens in this corpus.\n"
     ]
    }
   ],
   "source": [
    "tokens = mask_ethnicity(tokens)\n",
    "\n",
    "# Get unique words to avoid redundant computation\n",
    "unique_tokens = list(set(tokens))\n",
    "\n",
    "\n",
    "# Include the word \"chinese\" as our target\n",
    "unique_tokens.append(\"chinese\")\n",
    "\n",
    "# Print the shape of unique tokens\n",
    "print(f'There are {len(unique_tokens)} unique tokens in this corpus.')"
   ]
  },
  {
   "cell_type": "code",
   "execution_count": 10,
   "id": "c9396466",
   "metadata": {},
   "outputs": [],
   "source": [
    "# Prepare a dictionary to store word embeddings\n",
    "bert_word_embeddings = {}\n",
    "\n",
    "# For each word, get its BERT embedding by feeding it as a single-token input\n",
    "for word in unique_tokens:\n",
    "    word_inputs = tokenizer(word, return_tensors='pt', truncation=True, max_length=10)\n",
    "    with torch.no_grad():\n",
    "        word_outputs = bert_model(**word_inputs)\n",
    "        # Use the [CLS] token embedding as the word embedding\n",
    "        word_embedding = word_outputs.last_hidden_state[:, 0, :].squeeze().numpy()\n",
    "        bert_word_embeddings[word] = word_embedding\n",
    "    "
   ]
  },
  {
   "cell_type": "code",
   "execution_count": 11,
   "id": "0637c078",
   "metadata": {},
   "outputs": [
    {
     "name": "stdout",
     "output_type": "stream",
     "text": [
      "BERT embedding for 'chinese':\n",
      "[-6.20929539e-01 -1.41670823e-01  6.38972700e-01  5.66699132e-02\n",
      "  2.49502540e-01  3.55757505e-01 -9.64455083e-02  3.54799002e-01\n",
      " -2.72700071e-01 -6.37607515e-01  1.72131464e-01  5.87601185e-01\n",
      "  5.80037721e-02 -1.98575929e-01 -6.22221410e-01  6.23443425e-01\n",
      " -2.84136593e-01 -2.01131850e-01 -1.16010755e-01  3.39487463e-01\n",
      " -1.49680659e-01  4.16029960e-01  4.64205593e-01 -4.62918848e-01\n",
      "  3.87409419e-01  6.31607294e-01  6.86673880e-01  2.19446510e-01\n",
      " -3.76841813e-01  1.29365414e-01 -2.28451476e-01 -2.85087526e-01\n",
      "  3.50298733e-01  4.33137774e-01 -4.69815671e-01  2.95415729e-01\n",
      "  5.21581918e-02 -2.85912603e-02  4.41664994e-01  2.89366961e-01\n",
      "  3.54161382e-01 -7.48492539e-01  7.74241015e-02 -1.15738958e-01\n",
      " -1.74300909e-01  1.22695386e-01 -2.15352607e+00 -3.29316437e-01\n",
      "  1.01312399e-02 -3.54919508e-02 -1.23483628e-01  6.59714639e-01\n",
      " -8.31658393e-03  6.29764616e-01  6.69252157e-01 -4.71154869e-01\n",
      "  7.91465193e-02 -6.24100566e-01 -4.18076426e-01 -6.55551255e-02\n",
      " -2.87119329e-01 -7.29586422e-01 -1.68598443e-01  1.50031522e-01\n",
      "  5.73544860e-01 -3.64863962e-01 -1.75638735e-01 -1.08312464e+00\n",
      " -8.72774601e-01  5.20283222e-01 -4.19046521e-01 -1.03995062e-01\n",
      " -4.50686485e-01  3.96263123e-01  4.59026933e-01  1.49248451e-01\n",
      " -9.73935723e-01  2.40059093e-01  5.98382726e-02  2.12373272e-01\n",
      " -5.36927223e-01 -2.63255000e-01 -1.00201085e-01 -2.81152964e-01\n",
      " -8.00028026e-01 -2.07509041e-01  1.99834973e-01  4.22091454e-01\n",
      " -4.92548257e-01  4.73333746e-01  2.41994262e-01  2.99992353e-01\n",
      " -6.62101805e-02  4.97653842e-01  6.22859836e-01 -1.12075001e-01\n",
      "  2.90468335e-01 -7.17193186e-02  1.00460958e+00 -4.98113304e-01\n",
      " -1.79656357e-01  1.90939844e-01 -2.20561445e-01 -1.83571711e-01\n",
      "  3.41635823e-01  3.36763442e-01  3.71978670e-01  2.52287127e-02\n",
      " -2.27320194e-01 -9.94906500e-02 -3.79479051e-01  1.15087166e-01\n",
      " -5.67150004e-02 -1.43992513e-01  2.93665946e-01 -2.44779125e-01\n",
      " -1.55896649e-01  3.21049765e-02  1.62580296e-01 -2.96470821e-01\n",
      "  3.47170413e-01  2.43933260e-01  3.24786425e-01  5.33174098e-01\n",
      "  7.26382434e-01 -2.29868144e-01 -3.03070366e-01 -2.68375546e-01\n",
      " -6.95386052e-01 -4.25721258e-01  4.37335163e-01  6.57992512e-02\n",
      "  3.43118166e-03  3.50312263e-01 -6.52863681e-01  8.04584563e-01\n",
      " -7.14762986e-01 -3.13351125e-01 -4.31783706e-01 -1.15973532e-01\n",
      "  5.64823672e-02  3.03973377e-01  9.12813395e-02  4.21349108e-01\n",
      "  1.21128604e-01  1.19176239e-01 -1.22158721e-01  8.35701287e-01\n",
      " -4.48834240e-01  2.71129757e-01  3.85459326e-02  9.48289514e-01\n",
      "  2.80741662e-01  5.03642201e-01  2.05555215e-01  2.82689214e-01\n",
      "  3.95920396e-01  2.34585971e-01 -4.72097874e-01  4.53244969e-02\n",
      "  8.21068510e-02  3.81632894e-01  2.54405349e-01  2.08593398e-01\n",
      "  2.25971892e-01 -1.33064404e-01 -4.37186360e-01  2.77443707e-01\n",
      "  3.75222445e-01  8.46719816e-02  6.87628984e-02 -6.03797495e-01\n",
      "  4.42021012e-01  1.27283841e-01 -1.15678959e-01  2.35864520e-01\n",
      " -1.95469126e-01  2.60744423e-01  2.57576495e-01 -9.72829759e-04\n",
      " -7.11947680e-03  2.02469863e-02 -3.01855773e-01 -3.68264377e-01\n",
      " -5.51047802e-01 -3.21637809e-01  6.82744265e-01  3.11159343e-01\n",
      "  6.41474605e-01  4.92581837e-02  3.97575974e-01  1.49251729e-01\n",
      " -6.21113598e-01  1.83909848e-01  9.18094739e-02 -3.95073593e-01\n",
      "  4.48574964e-03 -4.84976411e-01 -5.95896184e-01  4.45794612e-02\n",
      " -1.56988561e-01 -3.84185985e-02  5.43416560e-01 -8.11478794e-01\n",
      " -6.62251294e-01  3.90997380e-01  6.33022934e-02  5.95391631e-01\n",
      "  5.37818447e-02 -1.34045124e-01  7.78977424e-02  5.71762145e-01\n",
      "  7.11518005e-02 -5.18558145e-01 -6.77703917e-02 -1.98607668e-01\n",
      "  3.19246240e-02 -1.81519926e-01  7.71615505e-01  4.34639990e-01\n",
      " -3.50787699e-01 -6.15721583e-01  7.47689962e-01  1.04828857e-01\n",
      " -3.23299766e-01  4.18364704e-01 -4.87017900e-01  3.74182940e-01\n",
      "  1.56448364e-01 -5.77500090e-02  5.83279908e-01 -5.13220906e-01\n",
      " -2.18874216e-03 -2.09312156e-01  3.91385704e-01  3.79638374e-01\n",
      "  9.49216962e-01 -1.29740939e-01  5.69061816e-01 -4.44787562e-01\n",
      " -3.64395320e-01 -2.67693162e-01  1.04195148e-01  5.82310379e-01\n",
      " -1.04579926e-01 -3.69362235e-01 -2.09110126e-01 -4.69664782e-01\n",
      "  3.93471122e-02  1.20268032e-01 -4.09655273e-01  3.17582726e-01\n",
      " -4.20122415e-01 -1.83061346e-01 -1.00396290e-01  2.06324831e-01\n",
      " -1.38006791e-01 -4.76041734e-01  4.09802496e-01  3.76810193e-01\n",
      "  3.11998695e-01 -8.93612981e-01 -4.87619847e-01 -3.83996964e-01\n",
      "  1.66278467e-01 -4.89072680e-01  1.85235411e-01 -2.76644647e-01\n",
      "  2.62035608e-01  1.78464368e-01  3.37471485e-01  2.73906350e-01\n",
      " -2.62219787e-01 -3.90418172e-01 -4.20719773e-01  2.96515375e-02\n",
      " -6.88903809e-01  9.03952420e-02  4.92249399e-01 -1.56697378e-01\n",
      " -2.83632368e-01  3.26630175e-02 -6.74627423e-02  8.64047334e-02\n",
      "  9.33766961e-02  2.47450620e-01  1.16174176e-01 -4.40932244e-01\n",
      " -3.54222298e-01  4.36043650e-01 -4.43125248e-01 -1.34402305e-01\n",
      " -2.39203602e-01 -3.71706128e-01  4.45058011e-02 -1.50167793e-01\n",
      "  2.20737219e-01  8.04608688e-02 -4.51401055e-01 -3.34844559e-01\n",
      " -1.17285185e-01  9.54925954e-01  1.49068207e-01 -1.64131656e-01\n",
      "  2.71165758e-01  5.29197864e-02 -2.54569232e-01  5.92229307e-01\n",
      " -8.31328964e+00 -1.58774897e-01  2.74163961e-01  4.40409809e-01\n",
      "  3.51174653e-01 -1.75799906e-01 -4.99350987e-02 -3.76174927e-01\n",
      "  3.19187969e-01 -7.06142724e-01  8.99769485e-01  2.41790637e-01\n",
      "  4.14057255e-01  2.70290017e-01 -8.15676674e-02 -3.30293149e-01\n",
      " -1.47520244e-01 -6.20587647e-01 -4.30307716e-01 -9.92816910e-02\n",
      "  1.35646492e-01 -3.30279380e-01  8.25153664e-04 -3.72950062e-02\n",
      " -8.20026457e-01 -1.79836959e-01  2.61671335e-01  5.46908081e-01\n",
      "  2.47777283e-01 -9.14677918e-01  4.57374811e-01 -7.14826941e-01\n",
      "  2.61447221e-01  3.62211466e-02 -2.40433559e-01 -1.51182324e-01\n",
      "  5.14290072e-02  2.96001911e-01 -3.33737843e-02  7.91547120e-01\n",
      " -2.90190667e-01 -2.67833233e-01  1.55358672e-01 -3.04542989e-01\n",
      " -6.62124902e-03  5.82447529e-01 -8.84478763e-02 -2.95755088e-01\n",
      " -2.36822724e-01  2.25740343e-01  1.06620967e-01  4.18182239e-02\n",
      "  2.94192225e-01 -4.99745190e-01  6.70127273e-01 -4.35429662e-02\n",
      "  7.06656396e-01  7.02271819e-01 -1.19627438e-01 -7.91099191e-01\n",
      " -6.75488830e-01 -1.07149817e-01 -7.84962654e-01  4.35174704e-01\n",
      " -3.13440487e-02  2.44784519e-01 -8.73122692e-01  3.50021236e-02\n",
      "  2.09036484e-01 -1.19712092e-01 -1.83357477e-01  6.73410594e-01\n",
      "  6.20656133e-01 -4.46413159e-01 -4.69995216e-02 -2.27658331e-01\n",
      " -1.87434420e-01 -5.16895175e-01 -6.93055391e-01 -6.81383312e-01\n",
      " -7.97632217e-01 -5.03173709e-01  3.59279335e-01 -9.57268253e-02\n",
      " -4.03277948e-02 -4.18359607e-01  1.79501653e-01 -2.03034595e-01\n",
      "  4.86599743e-01  4.59470391e-01  8.80890846e-01 -8.17530334e-01\n",
      " -1.26834318e-01 -4.91106033e-01 -2.95128912e-01 -4.75886345e-01\n",
      " -5.21892868e-02  2.00933948e-01  3.80768031e-01  1.80221930e-01\n",
      "  4.48104143e-01 -3.33190709e-02 -4.20341015e-01 -7.12261915e-01\n",
      " -3.03022802e-01  1.31230503e-01 -6.22783661e-01  3.06485772e-01\n",
      " -6.40359297e-02 -3.02131534e-01  8.56920779e-01  1.15723774e-01\n",
      "  3.39410990e-01  5.69929600e-01  1.52577490e-01 -5.94416857e-01\n",
      " -1.86862513e-01 -5.08795142e-01  2.31843963e-02 -3.78883481e-01\n",
      " -1.16497651e-01  5.03729403e-01 -6.11288965e-01  4.04663295e-01\n",
      " -1.57215342e-01  2.46463493e-01 -8.03818583e-01  2.13739611e-02\n",
      "  1.84446827e-01  1.37955278e-01  4.44983006e-01  3.24013323e-01\n",
      "  5.92168510e-01  4.99685884e-01 -2.96121895e-01 -1.36218816e-01\n",
      "  3.44957858e-01  3.80566530e-02  2.13077158e-01 -1.07692957e-01\n",
      " -2.26499304e-01  4.00368720e-01  4.69331920e-01  4.01729256e-01\n",
      "  1.76135182e-01 -5.67294002e-01  9.60936621e-02  6.66243434e-01\n",
      "  5.86347282e-01 -1.36371270e-01  3.98507297e-01 -6.31230533e-01\n",
      "  1.67881951e-01  3.80159765e-01 -1.42216980e-02 -6.25230372e-03\n",
      "  8.95538554e-02 -3.62141460e-01  1.87744290e-01  4.58196044e-01\n",
      " -7.12240934e-01 -1.88387305e-01 -1.19761169e+00 -3.01312894e-01\n",
      "  1.09179214e-01  7.96129942e-01 -5.37162870e-02  1.74532849e-02\n",
      "  3.53716373e-01  1.95554763e-01  7.30575144e-01 -5.38032949e-01\n",
      "  4.53044862e-01  1.16197832e-01  1.04142524e-01  1.75453834e-02\n",
      " -1.89646214e-01 -4.50465307e-02 -2.96386361e-01  8.41702521e-01\n",
      "  1.34699687e-01  2.22342491e-01  3.41144800e-01  3.16154718e-01\n",
      " -1.96809262e-01 -1.29944146e-01  1.70183375e-01 -2.71233886e-01\n",
      "  3.57917070e-01  6.67843744e-02 -4.23610285e-02 -4.82595384e-01\n",
      "  1.66769058e-01  4.94925857e-01  4.79743302e-01  3.16114545e-01\n",
      "  2.30504751e-01  3.55792865e-02 -5.56550145e-01  3.27261806e-01\n",
      "  7.53091052e-02  4.10911292e-02  4.74415384e-02 -7.82813281e-02\n",
      " -3.72776210e-01  1.69891611e-01  7.65118361e-01 -2.97236353e-01\n",
      "  9.89347696e-02 -1.80657685e-01 -3.42060089e-01  2.08854303e-02\n",
      " -4.04215872e-01  2.49378815e-01  3.97761106e-01  6.12111866e-01\n",
      "  2.35218480e-01  5.57211101e-01 -2.22380966e-01  8.74015391e-02\n",
      " -1.54908866e-01  2.01314420e-01  5.51346302e-01  4.11242962e-01\n",
      "  1.35007724e-01 -7.33750165e-01  1.75053373e-01  9.85419899e-02\n",
      " -2.71402240e-01 -4.27075252e-02 -7.39640892e-02 -8.95789489e-02\n",
      " -6.73124850e-01  3.34329158e-03  4.13881570e-01 -8.63709271e-01\n",
      " -7.17986166e-01  4.02059555e-01 -5.30316681e-03 -4.63855602e-02\n",
      " -9.58981216e-01 -5.41762769e-01 -2.94650584e-01 -1.40149742e-01\n",
      " -5.82655407e-02 -3.00250500e-01  4.91782784e-01 -7.32116103e-01\n",
      "  7.90900514e-02  6.98811412e-01 -1.66677907e-01  2.70790160e-01\n",
      " -3.74784708e-01  5.75984046e-02  2.90283144e-01  2.36415058e-01\n",
      " -7.49480724e-01 -5.69793522e-01 -1.31443173e-01  6.77230358e-02\n",
      "  5.24155274e-02 -2.42647693e-01 -3.51806581e-01 -2.79659212e-01\n",
      "  2.92793393e-01  2.59537920e-02  1.31971031e-01 -1.84148356e-01\n",
      " -3.91100138e-01  3.43212038e-02  3.82385962e-02  3.72998789e-02\n",
      " -2.93728858e-01  5.79028964e-01  5.89166641e-01  2.75528759e-01\n",
      "  5.50185889e-03  2.74640024e-01 -1.79951876e-01  2.87219770e-02\n",
      " -1.35055348e-01 -4.60491180e-01 -8.06817770e-01  3.41826290e-01\n",
      " -4.05552983e-01  2.48563156e-01  2.85962969e-01 -8.20873156e-02\n",
      " -1.83620140e-01 -4.03567106e-01  4.51679707e-01  6.78313255e-01\n",
      " -2.61588097e-01 -6.08417273e-01 -7.37744629e-01  5.62528193e-01\n",
      "  2.67416239e-01  3.26011807e-01 -3.88303250e-01  1.19362779e-01\n",
      "  1.32867679e-01 -2.45446056e-01  2.76358634e-01  4.10816014e-01\n",
      " -1.66601464e-01 -4.75261897e-01  4.95791845e-02 -4.01174128e-01\n",
      "  4.47854921e-02  2.52735823e-01  4.99049753e-01 -2.71843046e-01\n",
      " -2.30236411e-01 -4.19544280e-01 -6.44783556e-01 -2.02414989e-02\n",
      "  1.57231078e-01  5.70323765e-01 -4.36491072e-01 -5.75617850e-01\n",
      " -3.09314817e-01  7.87956715e-01  1.20357640e-01  1.53236747e-01\n",
      " -3.91703174e-02 -6.28402650e-01 -5.95002890e-01  2.11277694e-01\n",
      " -1.00957870e-01 -6.25989676e-01 -1.93992242e-01  2.68233865e-01\n",
      "  6.01908207e-01 -1.00547671e-01 -7.74197653e-02 -6.57559261e-02\n",
      "  1.52519286e-01  2.57916171e-02  2.68106237e-02 -1.81481376e-01\n",
      "  9.75872129e-02 -3.44187319e-01 -4.13155481e-02  2.30506435e-01\n",
      "  4.41175222e-01 -4.94554788e-01 -5.63982069e-01 -3.73879731e-01\n",
      " -1.57980785e-01 -1.60827577e-01  6.00513756e-01  1.28833856e-02\n",
      " -1.66597068e-01  2.62471884e-01 -4.88434851e-01  1.59598663e-01\n",
      "  8.19031894e-01  3.17419499e-01  2.73415864e-01 -2.63671190e-01\n",
      "  4.64785963e-01 -6.24573119e-02  4.31150943e-01 -3.60428877e-02\n",
      " -2.06645608e-01  4.98502016e-01 -2.39020318e-01  2.77612031e-01\n",
      " -2.38968998e-01  2.57991761e-01 -4.60960239e-01 -6.56905234e-01\n",
      " -5.68882287e-01  3.67467493e-01  1.33221209e-01  6.14785314e-01\n",
      " -6.97935462e-01  1.25864193e-01 -7.44486332e-01  7.49794900e-01\n",
      "  1.52957410e-01 -6.04381680e-01 -5.13625778e-02 -1.60398539e-02\n",
      " -2.52287060e-01  2.35126406e-01  2.17649341e-01 -1.34040505e-01\n",
      " -3.57571721e-01  2.62210399e-01  8.41796398e-02  3.69733691e-01\n",
      " -1.52155653e-01 -1.49425447e-01  2.26674959e-01 -1.80153787e-01\n",
      "  3.90131921e-01 -1.35754630e-01  3.67596596e-01 -1.23756118e-01\n",
      " -5.05584121e-01 -1.76664650e-01  4.05613959e-01  2.53210068e-01\n",
      " -6.05254114e-01 -4.27263469e-01  1.87021360e-01 -7.18620896e-01\n",
      " -3.03843021e-01 -9.55149978e-02  5.01943886e-01  8.24583530e-01\n",
      "  2.96676129e-01 -5.18147469e-01  3.41292381e-01 -4.17494208e-01\n",
      " -5.55485666e-01  4.51619059e-01  2.32938439e-01  2.70074010e-01\n",
      "  2.09833056e-01 -5.74076593e-01  1.88415185e-01  5.79992175e-01\n",
      " -3.45205247e-01  6.84881806e-02 -1.38211638e-01  4.09524798e-01\n",
      "  6.40894115e-01  5.76395929e-01 -4.55714136e-01 -4.62624103e-01\n",
      " -2.42347062e-01  6.17268801e-01  2.84022957e-01  2.09178030e-03\n",
      " -3.66120398e-01  4.20001775e-01 -3.87325972e-01 -3.73405486e-01\n",
      "  2.78266855e-02  2.48539090e-01 -7.01753139e-01 -1.90862164e-01\n",
      " -4.03232187e-01  4.49352920e-01  1.93640649e-01  1.57222405e-01\n",
      "  5.84111512e-02 -2.18473673e-02 -7.76935741e-02  5.18222265e-02\n",
      "  2.96477109e-01 -5.23954570e-01  1.57790273e-01 -1.08947106e-01\n",
      "  5.36393642e-01 -1.97960827e-02  3.74067843e-01 -3.51411998e-01]\n"
     ]
    }
   ],
   "source": [
    "# Print embedding for the word of interest 'chinese'\n",
    "\n",
    "print(f\"BERT embedding for 'chinese':\\n{bert_word_embeddings.get('chinese')}\")"
   ]
  },
  {
   "cell_type": "code",
   "execution_count": 12,
   "id": "9b7d2402",
   "metadata": {},
   "outputs": [
    {
     "name": "stdout",
     "output_type": "stream",
     "text": [
      "Top 10 most similar words to 'chinese':\n",
      "chong: 0.8652\n",
      "alien: 0.8581\n",
      "fourteen: 0.8564\n",
      "hong: 0.8516\n",
      "aliens: 0.8370\n",
      "fortiori: 0.8365\n",
      "stranger: 0.8306\n",
      "mode: 0.8299\n",
      "multitude: 0.8282\n",
      "425: 0.8276\n"
     ]
    }
   ],
   "source": [
    "# Compute cosine similarity between all words with Chinese in the model\n",
    "from scipy.spatial.distance import cosine\n",
    "\n",
    "similarity_scores = {}\n",
    "\n",
    "for other_word in bert_word_embeddings.keys():\n",
    "    if other_word != \"chinese\":\n",
    "        similarity = 1 - cosine(bert_word_embeddings[\"chinese\"], bert_word_embeddings[other_word])\n",
    "        similarity_scores[other_word] = similarity\n",
    "\n",
    "# Sort by cosine similarity\n",
    "sorted_similarity = sorted(similarity_scores.items(), key=lambda x: x[1], reverse=True)\n",
    "\n",
    "# Print the top 10 most similar words\n",
    "print(\"Top 10 most similar words to 'chinese':\")\n",
    "for word, score in sorted_similarity[:10]:\n",
    "    print(f\"{word}: {score:.4f}\")"
   ]
  },
  {
   "cell_type": "code",
   "execution_count": 13,
   "id": "ffba8300",
   "metadata": {},
   "outputs": [
    {
     "name": "stdout",
     "output_type": "stream",
     "text": [
      "Top 10 most similar words to 'commerce':\n",
      "agency: 0.8791\n",
      "arbitrary: 0.8773\n",
      "productive: 0.8733\n",
      "operation: 0.8618\n",
      "informant: 0.8595\n",
      "chong: 0.8587\n",
      "injury: 0.8578\n",
      "relations: 0.8570\n",
      "inhabitants: 0.8541\n",
      "levied: 0.8539\n"
     ]
    }
   ],
   "source": [
    "similarity_scores = {}\n",
    "\n",
    "for other_word in bert_word_embeddings.keys():\n",
    "    if other_word != \"commerce\":\n",
    "        similarity = 1 - cosine(bert_word_embeddings[\"commerce\"], bert_word_embeddings[other_word])\n",
    "        similarity_scores[other_word] = similarity\n",
    "\n",
    "# Sort by cosine similarity\n",
    "sorted_similarity = sorted(similarity_scores.items(), key=lambda x: x[1], reverse=True)\n",
    "\n",
    "# Print the top 10 most similar words\n",
    "print(\"Top 10 most similar words to 'commerce':\")\n",
    "for word, score in sorted_similarity[:10]:\n",
    "    print(f\"{word}: {score:.4f}\")"
   ]
  },
  {
   "cell_type": "code",
   "execution_count": 14,
   "id": "2aeeb70b",
   "metadata": {},
   "outputs": [
    {
     "name": "stdout",
     "output_type": "stream",
     "text": [
      "Top 10 most similar words to 'chinese - alien':\n",
      "chinese: 0.2665\n",
      "party: 0.1287\n",
      "enquirywhich: 0.1114\n",
      "follow: 0.1109\n",
      "were: 0.1084\n",
      "exceeding: 0.1078\n",
      "besides: 0.1065\n",
      "aforesaid: 0.1061\n",
      "wellknown: 0.1050\n",
      "origin: 0.1020\n"
     ]
    }
   ],
   "source": [
    "emd = np.array(bert_word_embeddings.get('chinese')) - np.array(bert_word_embeddings.get('alien'))\n",
    "\n",
    "similarity_scores = {}\n",
    "\n",
    "for other_word in bert_word_embeddings.keys():\n",
    "    similarity = 1 - cosine(emd, bert_word_embeddings[other_word])\n",
    "    similarity_scores[other_word] = similarity\n",
    "\n",
    "# Sort by cosine similarity\n",
    "sorted_similarity = sorted(similarity_scores.items(), key=lambda x: x[1], reverse=True)\n",
    "\n",
    "# Print the top 10 most similar words\n",
    "print(\"Top 10 most similar words to 'chinese - alien':\")\n",
    "for word, score in sorted_similarity[:10]:\n",
    "    print(f\"{word}: {score:.4f}\")"
   ]
  },
  {
   "cell_type": "code",
   "execution_count": 15,
   "id": "be727da8",
   "metadata": {},
   "outputs": [],
   "source": [
    "# Generate a 2D PCA for visualiaztion\n",
    "from sklearn.decomposition import PCA\n",
    "pca = PCA(n_components=2)\n",
    "\n",
    "word_embeddings = np.array(list(bert_word_embeddings.values()))\n",
    "pca_results = pca.fit_transform(word_embeddings)"
   ]
  },
  {
   "cell_type": "code",
   "execution_count": 16,
   "id": "93cde9ff",
   "metadata": {},
   "outputs": [
    {
     "name": "stderr",
     "output_type": "stream",
     "text": [
      "c:\\Users\\Kaiyan Zhang\\AppData\\Local\\Programs\\Python\\Python312\\Lib\\site-packages\\plotly\\express\\_core.py:1983: FutureWarning: When grouping with a length-1 list-like, you will need to pass a length-1 tuple to get_group in a future version of pandas. Pass `(name,)` instead of `name` to silence this warning.\n",
      "  sf: grouped.get_group(s if len(s) > 1 else s[0])\n"
     ]
    },
    {
     "data": {
      "application/vnd.plotly.v1+json": {
       "config": {
        "plotlyServerURL": "https://plot.ly"
       },
       "data": [
        {
         "customdata": [
          [
           "sanctioned"
          ],
          [
           "certain"
          ],
          [
           "conduct"
          ],
          [
           "every"
          ],
          [
           "past"
          ],
          [
           "raised"
          ],
          [
           "product"
          ],
          [
           "by"
          ],
          [
           "appealed"
          ],
          [
           "objection"
          ],
          [
           "accordingly"
          ],
          [
           "mean"
          ],
          [
           "class"
          ],
          [
           "heirs"
          ],
          [
           "intended"
          ],
          [
           "attacked"
          ],
          [
           "sum"
          ],
          [
           "towards"
          ],
          [
           "supported"
          ],
          [
           "naturalized"
          ],
          [
           "restrained"
          ],
          [
           "respect"
          ],
          [
           "five"
          ],
          [
           "applicable"
          ],
          [
           "conflict"
          ],
          [
           "danger"
          ],
          [
           "terms"
          ],
          [
           "says"
          ],
          [
           "included"
          ],
          [
           "constitutional"
          ],
          [
           "tribunal"
          ],
          [
           "sound"
          ],
          [
           "st"
          ],
          [
           "because"
          ],
          [
           "alarm"
          ],
          [
           "habits"
          ],
          [
           "purport"
          ],
          [
           "money"
          ],
          [
           "greater"
          ],
          [
           "come"
          ],
          [
           "occupied"
          ],
          [
           "masters"
          ],
          [
           "previous"
          ],
          [
           "judgment"
          ],
          [
           "turn"
          ],
          [
           "drawn"
          ],
          [
           "28"
          ],
          [
           "wisdom"
          ],
          [
           "objected"
          ],
          [
           "page"
          ],
          [
           "defeat"
          ],
          [
           "exemption"
          ],
          [
           "dollars"
          ],
          [
           "421"
          ],
          [
           "cases"
          ],
          [
           "strangers"
          ],
          [
           "civilized"
          ],
          [
           "observations"
          ],
          [
           "encourage"
          ],
          [
           "8th"
          ],
          [
           "licensea"
          ],
          [
           "native"
          ],
          [
           "foreign"
          ],
          [
           "lord"
          ],
          [
           "autonomy"
          ],
          [
           "gives"
          ],
          [
           "possessed"
          ],
          [
           "mere"
          ],
          [
           "possess"
          ],
          [
           "issue"
          ],
          [
           "interferes"
          ],
          [
           "sex"
          ],
          [
           "encroach"
          ],
          [
           "naturalization"
          ],
          [
           "117"
          ],
          [
           "undue"
          ],
          [
           "mousseau"
          ],
          [
           "form"
          ],
          [
           "entire"
          ],
          [
           "render"
          ],
          [
           "premiss"
          ],
          [
           "empty"
          ],
          [
           "unduly"
          ],
          [
           "nothing"
          ],
          [
           "bounds"
          ],
          [
           "makes"
          ],
          [
           "amount"
          ],
          [
           "owners"
          ],
          [
           "pre"
          ],
          [
           "interfered"
          ],
          [
           "foreigners"
          ],
          [
           "persons"
          ],
          [
           "lordships"
          ],
          [
           "4th"
          ],
          [
           "race"
          ],
          [
           "cited"
          ],
          [
           "higher"
          ],
          [
           "but"
          ],
          [
           "478"
          ],
          [
           "preamble"
          ],
          [
           "sessional"
          ],
          [
           "receive"
          ],
          [
           "inherent"
          ],
          [
           "enact"
          ],
          [
           "trade"
          ],
          [
           "opponents"
          ],
          [
           "affected"
          ],
          [
           "unconstitutional"
          ],
          [
           "incidentally"
          ],
          [
           "receipt"
          ],
          [
           "ample"
          ],
          [
           "sides"
          ],
          [
           "frequents"
          ],
          [
           "popular"
          ],
          [
           "julyon"
          ],
          [
           "v"
          ],
          [
           "secure"
          ],
          [
           "pretense"
          ],
          [
           "return"
          ],
          [
           "bylaws"
          ],
          [
           "31"
          ],
          [
           "contend"
          ],
          [
           "employing"
          ],
          [
           "either"
          ],
          [
           "court"
          ],
          [
           "forty"
          ],
          [
           "affects"
          ],
          [
           "starts"
          ],
          [
           "appointment"
          ],
          [
           "exhaustive"
          ],
          [
           "impossible"
          ],
          [
           "enacted"
          ],
          [
           "otherwise"
          ],
          [
           "levy"
          ],
          [
           "kong"
          ],
          [
           "goes"
          ],
          [
           "366"
          ],
          [
           "dictum"
          ],
          [
           "82"
          ],
          [
           "b"
          ],
          [
           "born"
          ],
          [
           "legislation"
          ],
          [
           "calculated"
          ],
          [
           "result"
          ],
          [
           "live"
          ],
          [
           "afterwards"
          ],
          [
           "exempt"
          ],
          [
           "negotiate"
          ],
          [
           "teems"
          ],
          [
           "citizens"
          ],
          [
           "been"
          ],
          [
           "successful"
          ],
          [
           "view"
          ],
          [
           "female"
          ],
          [
           "grounds"
          ],
          [
           "subject"
          ],
          [
           "their"
          ],
          [
           "intra"
          ],
          [
           "commercematters"
          ],
          [
           "certiorari"
          ],
          [
           "since"
          ],
          [
           "14"
          ],
          [
           "close"
          ],
          [
           "incidental"
          ],
          [
           "enter"
          ],
          [
           "6"
          ],
          [
           "thereafter"
          ],
          [
           "freedom"
          ],
          [
           "strong"
          ],
          [
           "held"
          ],
          [
           "unlawful"
          ],
          [
           "tion"
          ],
          [
           "interference"
          ],
          [
           "incalculable"
          ],
          [
           "notably"
          ],
          [
           "remarks"
          ],
          [
           "man"
          ],
          [
           "lawabiding"
          ],
          [
           "chong"
          ],
          [
           "comment"
          ],
          [
           "concurrent"
          ],
          [
           "re"
          ],
          [
           "bestow"
          ],
          [
           "p"
          ],
          [
           "hard"
          ],
          [
           "enquiry"
          ],
          [
           "servant"
          ],
          [
           "multitude"
          ],
          [
           "observes"
          ],
          [
           "will"
          ],
          [
           "burlingame"
          ],
          [
           "just"
          ],
          [
           "element"
          ],
          [
           "indictment"
          ],
          [
           "imposes"
          ],
          [
           "lieutenantgovernor"
          ],
          [
           "liability"
          ],
          [
           "restrict"
          ],
          [
           "affect"
          ],
          [
           "surrendered"
          ],
          [
           "were"
          ],
          [
           "knowingly"
          ],
          [
           "provided"
          ],
          [
           "should"
          ],
          [
           "otherscooleys"
          ],
          [
           "ont"
          ],
          [
           "esquire"
          ],
          [
           "far"
          ],
          [
           "call"
          ],
          [
           "construction"
          ],
          [
           "shown"
          ],
          [
           "quent"
          ],
          [
           "prescribed"
          ],
          [
           "taxing"
          ],
          [
           "commerce"
          ],
          [
           "convictions"
          ],
          [
           "dissimilar"
          ],
          [
           "concernedsaysfrom"
          ],
          [
           "reg"
          ],
          [
           "desecrators"
          ],
          [
           "all"
          ],
          [
           "more"
          ],
          [
           "declared"
          ],
          [
           "1884rather"
          ],
          [
           "18"
          ],
          [
           "emergencies"
          ],
          [
           "pronouncing"
          ],
          [
           "providing"
          ],
          [
           "knowing"
          ],
          [
           "june"
          ],
          [
           "touched"
          ],
          [
           "decide"
          ],
          [
           "although"
          ],
          [
           "dwarris"
          ],
          [
           "employé"
          ],
          [
           "equally"
          ],
          [
           "illegal"
          ],
          [
           "10"
          ],
          [
           "bind"
          ],
          [
           "though"
          ],
          [
           "contained"
          ],
          [
           "exhumation"
          ],
          [
           "authority"
          ],
          [
           "habitual"
          ],
          [
           "disability"
          ],
          [
           "insisted"
          ],
          [
           "probandi"
          ],
          [
           "whites"
          ],
          [
           "cropping"
          ],
          [
           "did"
          ],
          [
           "opinion"
          ],
          [
           "cooleys"
          ],
          [
           "gr"
          ],
          [
           "proper"
          ],
          [
           "vain"
          ],
          [
           "replythe"
          ],
          [
           "undesirable"
          ],
          [
           "see"
          ],
          [
           "guilty"
          ],
          [
           "gauge"
          ],
          [
           "encounter"
          ],
          [
           "empowered"
          ],
          [
           "nations"
          ],
          [
           "548"
          ],
          [
           "charge"
          ],
          [
           "shifted"
          ],
          [
           "due"
          ],
          [
           "prevent"
          ],
          [
           "closing"
          ],
          [
           "brought"
          ],
          [
           "under"
          ],
          [
           "and"
          ],
          [
           "towithin"
          ],
          [
           "lr"
          ],
          [
           "size"
          ],
          [
           "bar"
          ],
          [
           "liberty"
          ],
          [
           "exactness"
          ],
          [
           "excessive"
          ],
          [
           "political"
          ],
          [
           "elaborate"
          ],
          [
           "dependencies"
          ],
          [
           "635"
          ],
          [
           "as"
          ],
          [
           "uniform"
          ],
          [
           "very"
          ],
          [
           "injury"
          ],
          [
           "deals"
          ],
          [
           "829"
          ],
          [
           "employed"
          ],
          [
           "purposes"
          ],
          [
           "question"
          ],
          [
           "kents"
          ],
          [
           "at"
          ],
          [
           "officer"
          ],
          [
           "country"
          ],
          [
           "palpable"
          ],
          [
           "binding"
          ],
          [
           "received"
          ],
          [
           "help"
          ],
          [
           "further"
          ],
          [
           "no"
          ],
          [
           "least"
          ],
          [
           "everywhere"
          ],
          [
           "thirdlythe"
          ],
          [
           "occupation"
          ],
          [
           "establishing"
          ],
          [
           "loss"
          ],
          [
           "hereto"
          ],
          [
           "bill"
          ],
          [
           "revealed"
          ],
          [
           "knew"
          ],
          [
           "certificate"
          ],
          [
           "proposition"
          ],
          [
           "prohibiting"
          ],
          [
           "treated"
          ],
          [
           "ed"
          ],
          [
           "inequality"
          ],
          [
           "ratified"
          ],
          [
           "taxed"
          ],
          [
           "abridged"
          ],
          [
           "how"
          ],
          [
           "beyond"
          ],
          [
           "especial"
          ],
          [
           "they"
          ],
          [
           "whose"
          ],
          [
           "still"
          ],
          [
           "persecuted"
          ],
          [
           "provisionsand"
          ],
          [
           "tolerated"
          ],
          [
           "charges"
          ],
          [
           "with"
          ],
          [
           "instance"
          ],
          [
           "sister"
          ],
          [
           "confederation"
          ],
          [
           "was"
          ],
          [
           "professors"
          ],
          [
           "citizenfor"
          ],
          [
           "specially"
          ],
          [
           "wherein"
          ],
          [
           "particular"
          ],
          [
           "taking"
          ],
          [
           "put"
          ],
          [
           "laid"
          ],
          [
           "avoid"
          ],
          [
           "invalid"
          ],
          [
           "parrott"
          ],
          [
           "progresses"
          ],
          [
           "confirms"
          ],
          [
           "consequently"
          ],
          [
           "large"
          ],
          [
           "queen"
          ],
          [
           "425"
          ],
          [
           "won"
          ],
          [
           "invariable"
          ],
          [
           "prosecutions"
          ],
          [
           "same"
          ],
          [
           "owner"
          ],
          [
           "mans"
          ],
          [
           "purely"
          ],
          [
           "reproduced"
          ],
          [
           "effectually"
          ],
          [
           "perfect"
          ],
          [
           "came"
          ],
          [
           "precedent"
          ],
          [
           "reciprocal"
          ],
          [
           "federal"
          ],
          [
           "collect"
          ],
          [
           "jonas"
          ],
          [
           "always"
          ],
          [
           "labour"
          ],
          [
           "point"
          ],
          [
           "tests"
          ],
          [
           "knows"
          ],
          [
           "concerned"
          ],
          [
           "north"
          ],
          [
           "value"
          ],
          [
           "reasons"
          ],
          [
           "invasions"
          ],
          [
           "had"
          ],
          [
           "s"
          ],
          [
           "agents"
          ],
          [
           "venture"
          ],
          [
           "happens"
          ],
          [
           "present"
          ],
          [
           "powell"
          ],
          [
           "commission"
          ],
          [
           "again"
          ],
          [
           "make"
          ],
          [
           "each"
          ],
          [
           "enacts"
          ],
          [
           "irrefragable"
          ],
          [
           "fined"
          ],
          [
           "over"
          ],
          [
           "lexicon"
          ],
          [
           "j"
          ],
          [
           "affairs"
          ],
          [
           "amended"
          ],
          [
           "imprisoned"
          ],
          [
           "away"
          ],
          [
           "referring"
          ],
          [
           "regards"
          ],
          [
           "27"
          ],
          [
           "incessant"
          ],
          [
           "burah"
          ],
          [
           "anything"
          ],
          [
           "numerous"
          ],
          [
           "three"
          ],
          [
           "exclusion"
          ],
          [
           "would"
          ],
          [
           "things"
          ],
          [
           "throughout"
          ],
          [
           "august"
          ],
          [
           "languishing"
          ],
          [
           "argument"
          ],
          [
           "sale"
          ],
          [
           "alien"
          ],
          [
           "jacques"
          ],
          [
           "governments"
          ],
          [
           "easily"
          ],
          [
           "such"
          ],
          [
           "revenue"
          ],
          [
           "his"
          ],
          [
           "fourteen"
          ],
          [
           "ourselves"
          ],
          [
           "ordinance"
          ],
          [
           "operation"
          ],
          [
           "informant"
          ],
          [
           "expired"
          ],
          [
           "vattell"
          ],
          [
           "recognize"
          ],
          [
           "pp"
          ],
          [
           "assessments"
          ],
          [
           "penalty"
          ],
          [
           "payment"
          ],
          [
           "rule"
          ],
          [
           "bayonet"
          ],
          [
           "successors"
          ],
          [
           "reviewed"
          ],
          [
           "sections"
          ],
          [
           "not"
          ],
          [
           "relative"
          ],
          [
           "add"
          ],
          [
           "long"
          ],
          [
           "lost"
          ],
          [
           "quash"
          ],
          [
           "england"
          ],
          [
           "without"
          ],
          [
           "manitobawhere"
          ],
          [
           "plenitude"
          ],
          [
           "elgins"
          ],
          [
           "sociis"
          ],
          [
           "temporary"
          ],
          [
           "obligations"
          ],
          [
           "proceeds"
          ],
          [
           "own"
          ],
          [
           "portions"
          ],
          [
           "assessed"
          ],
          [
           "selborne"
          ],
          [
           "dead"
          ],
          [
           "law"
          ],
          [
           "dues"
          ],
          [
           "said"
          ],
          [
           "5"
          ],
          [
           "counsel"
          ],
          [
           "accuser"
          ],
          [
           "into"
          ],
          [
           "oppression"
          ],
          [
           "1500000"
          ],
          [
           "applies"
          ],
          [
           "given"
          ],
          [
           "word"
          ],
          [
           "exception"
          ],
          [
           "difficult"
          ],
          [
           "impost"
          ],
          [
           "noscitur"
          ],
          [
           "comparing"
          ],
          [
           "imposition"
          ],
          [
           "exceed"
          ],
          [
           "ss"
          ],
          [
           "extent"
          ],
          [
           "summons"
          ],
          [
           "132"
          ],
          [
           "limitation"
          ],
          [
           "possession"
          ],
          [
           "poll"
          ],
          [
           "intercourse"
          ],
          [
           "dominions"
          ],
          [
           "upwards"
          ],
          [
           "questions"
          ],
          [
           "bear"
          ],
          [
           "enactment"
          ],
          [
           "something"
          ],
          [
           "artists"
          ],
          [
           "qua"
          ],
          [
           "whitesuseless"
          ],
          [
           "states"
          ],
          [
           "party"
          ],
          [
           "less"
          ],
          [
           "here"
          ],
          [
           "statistics"
          ],
          [
           "brunswick"
          ],
          [
           "degree"
          ],
          [
           "indeed"
          ],
          [
           "legislating"
          ],
          [
           "contribute"
          ],
          [
           "johnson"
          ],
          [
           "whereby"
          ],
          [
           "imperial"
          ],
          [
           "slept"
          ],
          [
           "acted"
          ],
          [
           "justice"
          ],
          [
           "innocenta"
          ],
          [
           "better"
          ],
          [
           "branches"
          ],
          [
           "92"
          ],
          [
           "tolerate"
          ],
          [
           "these"
          ],
          [
           "possesses"
          ],
          [
           "contravening"
          ],
          [
           "retained"
          ],
          [
           "ceases"
          ],
          [
           "221"
          ],
          [
           "904"
          ],
          [
           "exclusive"
          ],
          [
           "showing"
          ],
          [
           "travellers"
          ],
          [
           "assembly"
          ],
          [
           "22"
          ],
          [
           "impression"
          ],
          [
           "accused"
          ],
          [
           "dated"
          ],
          [
           "include"
          ],
          [
           "depart"
          ],
          [
           "acta"
          ],
          [
           "well"
          ],
          [
           "allow"
          ],
          [
           "institution"
          ],
          [
           "enactments"
          ],
          [
           "practically"
          ],
          [
           "somewhat"
          ],
          [
           "the"
          ],
          [
           "3with"
          ],
          [
           "reports"
          ],
          [
           "emperor"
          ],
          [
           "constantly"
          ],
          [
           "impaired"
          ],
          [
           "for"
          ],
          [
           "reference"
          ],
          [
           "ottawa"
          ],
          [
           "allowed"
          ],
          [
           "1842"
          ],
          [
           "quashed"
          ],
          [
           "origin"
          ],
          [
           "immediate"
          ],
          [
           "potest"
          ],
          [
           "am"
          ],
          [
           "108"
          ],
          [
           "applying"
          ],
          [
           "victoria"
          ],
          [
           "meet"
          ],
          [
           "apportionment"
          ],
          [
           "forefathersthat"
          ],
          [
           "obtain"
          ],
          [
           "pecuniary"
          ],
          [
           "reasonable"
          ],
          [
           "local"
          ],
          [
           "him"
          ],
          [
           "business"
          ],
          [
           "used"
          ],
          [
           "recently"
          ],
          [
           "differential"
          ],
          [
           "person"
          ],
          [
           "pursuit"
          ],
          [
           "seaboard"
          ],
          [
           "italians"
          ],
          [
           "legitimate"
          ],
          [
           "prosecution"
          ],
          [
           "done"
          ],
          [
           "intimated"
          ],
          [
           "male"
          ],
          [
           "others"
          ],
          [
           "diminishing"
          ],
          [
           "provinces"
          ],
          [
           "appears"
          ],
          [
           "influences"
          ],
          [
           "9"
          ],
          [
           "members"
          ],
          [
           "necessarily"
          ],
          [
           "confronted"
          ],
          [
           "some"
          ],
          [
           "require"
          ],
          [
           "directly"
          ],
          [
           "hand"
          ],
          [
           "subjected"
          ],
          [
           "satisfaction"
          ],
          [
           "tables"
          ],
          [
           "judge"
          ],
          [
           "merits"
          ],
          [
           "418"
          ],
          [
           "arguments"
          ],
          [
           "permitted"
          ],
          [
           "insurance"
          ],
          [
           "frenchmen"
          ],
          [
           "bench"
          ],
          [
           "landing"
          ],
          [
           "distance"
          ],
          [
           "respectively"
          ],
          [
           "2"
          ],
          [
           "writ"
          ],
          [
           "prepares"
          ],
          [
           "flag"
          ],
          [
           "strongly"
          ],
          [
           "can"
          ],
          [
           "seizure"
          ],
          [
           "sufficient"
          ],
          [
           "likewise"
          ],
          [
           "25th"
          ],
          [
           "california"
          ],
          [
           "simile"
          ],
          [
           "sense"
          ],
          [
           "matter"
          ],
          [
           "called"
          ],
          [
           "wellknown"
          ],
          [
           "several"
          ],
          [
           "mises"
          ],
          [
           "admits"
          ],
          [
           "sanction"
          ],
          [
           "lie"
          ],
          [
           "preceding"
          ],
          [
           "become"
          ],
          [
           "liable"
          ],
          [
           "ones"
          ],
          [
           "soon"
          ],
          [
           "communication"
          ],
          [
           "unequal"
          ],
          [
           "axiom"
          ],
          [
           "method"
          ],
          [
           "delegare"
          ],
          [
           "remain"
          ],
          [
           "annual"
          ],
          [
           "stringent"
          ],
          [
           "associated"
          ],
          [
           "equal"
          ],
          [
           "lastly"
          ],
          [
           "premises"
          ],
          [
           "discriminations"
          ],
          [
           "direction"
          ],
          [
           "29"
          ],
          [
           "former"
          ],
          [
           "residents"
          ],
          [
           "northwest"
          ],
          [
           "necessary"
          ],
          [
           "issued"
          ],
          [
           "summary"
          ],
          [
           "working"
          ],
          [
           "stamp"
          ],
          [
           "14th"
          ],
          [
           "per"
          ],
          [
           "highly"
          ],
          [
           "depends"
          ],
          [
           "employ"
          ],
          [
           "81st"
          ],
          [
           "between"
          ],
          [
           "lieu"
          ],
          [
           "equality"
          ],
          [
           "limits"
          ],
          [
           "destroyed"
          ],
          [
           "has"
          ],
          [
           "regard"
          ],
          [
           "irrespective"
          ],
          [
           "alone"
          ],
          [
           "restrictive"
          ],
          [
           "enjoyed"
          ],
          [
           "a"
          ],
          [
           "written"
          ],
          [
           "learned"
          ],
          [
           "lin"
          ],
          [
           "special"
          ],
          [
           "continued"
          ],
          [
           "obiter"
          ],
          [
           "app"
          ],
          [
           "discriminate"
          ],
          [
           "score"
          ],
          [
           "list"
          ],
          [
           "drake"
          ],
          [
           "period"
          ],
          [
           "both"
          ],
          [
           "expands"
          ],
          [
           "area"
          ],
          [
           "drive"
          ],
          [
           "effective"
          ],
          [
           "being"
          ],
          [
           "part"
          ],
          [
           "ordinary"
          ],
          [
           "misconception"
          ],
          [
           "enforce"
          ],
          [
           "wanted"
          ],
          [
           "belisle"
          ],
          [
           "bodies"
          ],
          [
           "treaties"
          ],
          [
           "our"
          ],
          [
           "burden"
          ],
          [
           "enquirywhich"
          ],
          [
           "its"
          ],
          [
           "ten"
          ],
          [
           "community"
          ],
          [
           "interpretation"
          ],
          [
           "countries"
          ],
          [
           "many"
          ],
          [
           "limitations"
          ],
          [
           "have"
          ],
          [
           "default"
          ],
          [
           "6267"
          ],
          [
           "deemed"
          ],
          [
           "non"
          ],
          [
           "deal"
          ],
          [
           "wing"
          ],
          [
           "altogether"
          ],
          [
           "policy"
          ],
          [
           "290"
          ],
          [
           "imprisonment"
          ],
          [
           "appropriate"
          ],
          [
           "last"
          ],
          [
           "ascertain"
          ],
          [
           "12"
          ],
          [
           "quite"
          ],
          [
           "room"
          ],
          [
           "534"
          ],
          [
           "apparently"
          ],
          [
           "police"
          ],
          [
           "insistedthat"
          ],
          [
           "whom"
          ],
          [
           "159"
          ],
          [
           "innocence"
          ],
          [
           "maguire"
          ],
          [
           "government"
          ],
          [
           "5constitutionalitybna"
          ],
          [
           "principles"
          ],
          [
           "within"
          ],
          [
           "fact"
          ],
          [
           "dollar"
          ],
          [
           "lawfully"
          ],
          [
           "extends"
          ],
          [
           "unusual"
          ],
          [
           "1st"
          ],
          [
           "risk"
          ],
          [
           "thereof"
          ],
          [
           "engagements"
          ],
          [
           "1867"
          ],
          [
           "payments"
          ],
          [
           "merchants"
          ],
          [
           "is"
          ],
          [
           "disobeying"
          ],
          [
           "define"
          ],
          [
           "severe"
          ],
          [
           "dec"
          ],
          [
           "described"
          ],
          [
           "derogation"
          ],
          [
           "7"
          ],
          [
           "delegates"
          ],
          [
           "visitors"
          ],
          [
           "dealt"
          ],
          [
           "17"
          ],
          [
           "incompatible"
          ],
          [
           "circumstances"
          ],
          [
           "district"
          ],
          [
           "describes"
          ],
          [
           "concluding"
          ],
          [
           "arbitrary"
          ],
          [
           "1860"
          ],
          [
           "extenso"
          ],
          [
           "elevated"
          ],
          [
           "correct"
          ],
          [
           "diminish"
          ],
          [
           "provincial"
          ],
          [
           "province"
          ],
          [
           "privy"
          ],
          [
           "twofold"
          ],
          [
           "delegation"
          ],
          [
           "collectors"
          ],
          [
           "casual"
          ],
          [
           "read"
          ],
          [
           "deciding"
          ],
          [
           "settlement"
          ],
          [
           "underlying"
          ],
          [
           "induced"
          ],
          [
           "therein"
          ],
          [
           "follow"
          ],
          [
           "after"
          ],
          [
           "enough"
          ],
          [
           "extraordinary"
          ],
          [
           "we"
          ],
          [
           "pacific"
          ],
          [
           "272"
          ],
          [
           "qb"
          ],
          [
           "defined"
          ],
          [
           "expenditure"
          ],
          [
           "now"
          ],
          [
           "set"
          ],
          [
           "us"
          ],
          [
           "upon"
          ],
          [
           "fully"
          ],
          [
           "cas"
          ],
          [
           "field"
          ],
          [
           "stat"
          ],
          [
           "strictly"
          ],
          [
           "subsection"
          ],
          [
           "an"
          ],
          [
           "expenses"
          ],
          [
           "conversant"
          ],
          [
           "it"
          ],
          [
           "penal"
          ],
          [
           "regulated"
          ],
          [
           "annoyance"
          ],
          [
           "course"
          ],
          [
           "232"
          ],
          [
           "therefore"
          ],
          [
           "permission"
          ],
          [
           "mandate"
          ],
          [
           "prescribe"
          ],
          [
           "itcooley"
          ],
          [
           "opposed"
          ],
          [
           "laying"
          ],
          [
           "expel"
          ],
          [
           "legality"
          ],
          [
           "highest"
          ],
          [
           "especially"
          ],
          [
           "founded"
          ],
          [
           "during"
          ],
          [
           "manifestly"
          ],
          [
           "parents"
          ],
          [
           "rendered"
          ],
          [
           "fills"
          ],
          [
           "579"
          ],
          [
           "does"
          ],
          [
           "16"
          ],
          [
           "provides"
          ],
          [
           "representatives"
          ],
          [
           "say"
          ],
          [
           "remedies"
          ],
          [
           "sought"
          ],
          [
           "including"
          ],
          [
           "residing"
          ],
          [
           "recovery"
          ],
          [
           "affecting"
          ],
          [
           "themselves"
          ],
          [
           "other"
          ],
          [
           "lunion"
          ],
          [
           "numbers"
          ],
          [
           "91st"
          ],
          [
           "me"
          ],
          [
           "above"
          ],
          [
           "apply"
          ],
          [
           "instead"
          ],
          [
           "service"
          ],
          [
           "autonomous"
          ],
          [
           "washburn"
          ],
          [
           "position"
          ],
          [
           "according"
          ],
          [
           "hundred"
          ],
          [
           "must"
          ],
          [
           "deterrent"
          ],
          [
           "24"
          ],
          [
           "subversive"
          ],
          [
           "different"
          ],
          [
           "dissented"
          ],
          [
           "sanitary"
          ],
          [
           "forfeit"
          ],
          [
           "natural"
          ],
          [
           "criterion"
          ],
          [
           "unless"
          ],
          [
           "two"
          ],
          [
           "even"
          ],
          [
           "points"
          ],
          [
           "334"
          ],
          [
           "relating"
          ],
          [
           "l"
          ],
          [
           "utter"
          ],
          [
           "except"
          ],
          [
           "becomes"
          ],
          [
           "quoted"
          ],
          [
           "confide"
          ],
          [
           "onus"
          ],
          [
           "driven"
          ],
          [
           "secondlytrade"
          ],
          [
           "colonies"
          ],
          [
           "cooley"
          ],
          [
           "prohibit"
          ],
          [
           "2nd"
          ],
          [
           "chief"
          ],
          [
           "leprohon"
          ],
          [
           "people"
          ],
          [
           "latter"
          ],
          [
           "ie"
          ],
          [
           "richards"
          ],
          [
           "whole"
          ],
          [
           "number"
          ],
          [
           "amity"
          ],
          [
           "void"
          ],
          [
           "failing"
          ],
          [
           "formed"
          ],
          [
           "having"
          ],
          [
           "entitled"
          ],
          [
           "interprovincial"
          ],
          [
           "payable"
          ],
          [
           "carrying"
          ],
          [
           "exceptional"
          ],
          [
           "amends"
          ],
          [
           "restraint"
          ],
          [
           "there"
          ],
          [
           "correctly"
          ],
          [
           "cottage"
          ],
          [
           "distinction"
          ],
          [
           "lessening"
          ],
          [
           "reverses"
          ],
          [
           "21"
          ],
          [
           "rights"
          ],
          [
           "too"
          ],
          [
           "hong"
          ],
          [
           "allows"
          ],
          [
           "public"
          ],
          [
           "fair"
          ],
          [
           "celebrated"
          ],
          [
           "alleged"
          ],
          [
           "protection"
          ],
          [
           "vested"
          ],
          [
           "dealing"
          ],
          [
           "power"
          ],
          [
           "she"
          ],
          [
           "revision"
          ],
          [
           "year"
          ],
          [
           "subsist"
          ],
          [
           "time"
          ],
          [
           "however"
          ],
          [
           "fac"
          ],
          [
           "species"
          ],
          [
           "interfere"
          ],
          [
           "permissible"
          ],
          [
           "report"
          ],
          [
           "certainly"
          ],
          [
           "parsons"
          ],
          [
           "observe"
          ],
          [
           "section"
          ],
          [
           "juxtaposition"
          ],
          [
           "severn"
          ],
          [
           "week"
          ],
          [
           "raising"
          ],
          [
           "respects"
          ],
          [
           "issuing"
          ],
          [
           "apart"
          ],
          [
           "infraction"
          ],
          [
           "calendar"
          ],
          [
           "n"
          ],
          [
           "afford"
          ],
          [
           "mentioned"
          ],
          [
           "346"
          ],
          [
           "decided"
          ],
          [
           "chongthe"
          ],
          [
           "gwynne"
          ],
          [
           "chandler"
          ],
          [
           "powers"
          ],
          [
           "great"
          ],
          [
           "forced"
          ],
          [
           "indirectly"
          ],
          [
           "words"
          ],
          [
           "much"
          ],
          [
           "among"
          ],
          [
           "legislatures"
          ],
          [
           "be"
          ],
          [
           "determined"
          ],
          [
           "required"
          ],
          [
           "edwin"
          ],
          [
           "wilfully"
          ],
          [
           "growing"
          ],
          [
           "discourage"
          ],
          [
           "instanced"
          ],
          [
           "object"
          ],
          [
           "limit"
          ],
          [
           "distress"
          ],
          [
           "outcry"
          ],
          [
           "suited"
          ],
          [
           "fails"
          ],
          [
           "501"
          ],
          [
           "appellant"
          ],
          [
           "notice"
          ],
          [
           "8"
          ],
          [
           "advantage"
          ],
          [
           "statute"
          ],
          [
           "exclude"
          ],
          [
           "old"
          ],
          [
           "rid"
          ],
          [
           "1858"
          ],
          [
           "performing"
          ],
          [
           "incident"
          ],
          [
           "think"
          ],
          [
           "contention"
          ],
          [
           "capitation"
          ],
          [
           "requested"
          ],
          [
           "schedule"
          ],
          [
           "19"
          ],
          [
           "making"
          ],
          [
           "imposing"
          ],
          [
           "candle"
          ],
          [
           "cherished"
          ],
          [
           "objects"
          ],
          [
           "lawful"
          ],
          [
           "permanent"
          ],
          [
           "population"
          ],
          [
           "almost"
          ],
          [
           "protect"
          ],
          [
           "unmolested"
          ],
          [
           "measure"
          ],
          [
           "body"
          ],
          [
           "40"
          ],
          [
           "follows"
          ],
          [
           "386"
          ],
          [
           "unto"
          ],
          [
           "moment"
          ],
          [
           "hertslet"
          ],
          [
           "means"
          ],
          [
           "russell"
          ],
          [
           "interfering"
          ],
          [
           "treasury"
          ],
          [
           "solicitation"
          ],
          [
           "appeal"
          ],
          [
           "enumerated"
          ],
          [
           "up"
          ],
          [
           "occupa"
          ],
          [
           "exercise"
          ],
          [
           "parliamentary"
          ],
          [
           "70"
          ],
          [
           "fee"
          ],
          [
           "classes"
          ],
          [
           "unheard"
          ],
          [
           "110000"
          ],
          [
           "excuse"
          ],
          [
           "following"
          ],
          [
           "presumption"
          ],
          [
           "taught"
          ],
          [
           "supposing"
          ],
          [
           "taxation"
          ],
          [
           "doing"
          ],
          [
           "them"
          ],
          [
           "right"
          ],
          [
           "recital"
          ],
          [
           "callings"
          ],
          [
           "exist"
          ],
          [
           "cal"
          ],
          [
           "off"
          ],
          [
           "imposed"
          ],
          [
           "convenience"
          ],
          [
           "exceeds"
          ],
          [
           "run"
          ],
          [
           "governing"
          ],
          [
           "tax1st"
          ],
          [
           "union"
          ],
          [
           "create"
          ],
          [
           "go"
          ],
          [
           "jurisdictions"
          ],
          [
           "neither"
          ],
          [
           "existing"
          ],
          [
           "ultra"
          ],
          [
           "himself"
          ],
          [
           "any"
          ],
          [
           "unsuited"
          ],
          [
           "take"
          ],
          [
           "you"
          ],
          [
           "information"
          ],
          [
           "enjoyment"
          ],
          [
           "464"
          ],
          [
           "408"
          ],
          [
           "support"
          ],
          [
           "consuls"
          ],
          [
           "petio"
          ],
          [
           "92alienstrade"
          ],
          [
           "side"
          ],
          [
           "provide"
          ],
          [
           "clear"
          ],
          [
           "definition"
          ],
          [
           "91"
          ],
          [
           "assent"
          ],
          [
           "purpose"
          ],
          [
           "acquiring"
          ],
          [
           "converse"
          ],
          [
           "consider"
          ],
          [
           "conviction"
          ],
          [
           "individuals"
          ],
          [
           "jurisdiction"
          ],
          [
           "manner"
          ],
          [
           "ordinarily"
          ],
          [
           "dominion"
          ],
          [
           "lines"
          ],
          [
           "commentaries"
          ],
          [
           "levelled"
          ],
          [
           "opium"
          ],
          [
           "restriction"
          ],
          [
           "varied"
          ],
          [
           "character"
          ],
          [
           "legislate"
          ],
          [
           "test"
          ],
          [
           "possessesits"
          ],
          [
           "made"
          ],
          [
           "this"
          ],
          [
           "seen"
          ],
          [
           "regulate"
          ],
          [
           "life"
          ],
          [
           "determine"
          ],
          [
           "claims"
          ],
          [
           "addition"
          ],
          [
           "kind"
          ],
          [
           "indirect"
          ],
          [
           "whartons"
          ],
          [
           "putting"
          ],
          [
           "governorgeneral"
          ],
          [
           "clashes"
          ],
          [
           "conditions"
          ],
          [
           "twenty"
          ],
          [
           "buildings"
          ],
          [
           "sing"
          ],
          [
           "crease"
          ],
          [
           "general"
          ],
          [
           "merely"
          ],
          [
           "apollo"
          ],
          [
           "various"
          ],
          [
           "compelled"
          ],
          [
           "passage"
          ],
          [
           "cause"
          ],
          [
           "pronounce"
          ],
          [
           "fourthlyas"
          ],
          [
           "goods"
          ],
          [
           "expression"
          ],
          [
           "creation"
          ],
          [
           "tax"
          ],
          [
           "21st"
          ],
          [
           "contemplation"
          ],
          [
           "apparent"
          ],
          [
           "inhabitants"
          ],
          [
           "unnecessary"
          ],
          [
           "delin"
          ],
          [
           "determining"
          ],
          [
           "nation"
          ],
          [
           "pass"
          ],
          [
           "never"
          ],
          [
           "her"
          ],
          [
           "secretary"
          ],
          [
           "recoverable"
          ],
          [
           "engages"
          ],
          [
           "let"
          ],
          [
           "distasteful"
          ],
          [
           "matters"
          ],
          [
           "declares"
          ],
          [
           "nor"
          ],
          [
           "before"
          ],
          [
           "courts"
          ],
          [
           "1885"
          ],
          [
           "control"
          ],
          [
           "offender"
          ],
          [
           "validity"
          ],
          [
           "transparent"
          ],
          [
           "similar"
          ],
          [
           "give"
          ],
          [
           "supreme"
          ],
          [
           "c"
          ],
          [
           "23"
          ],
          [
           "passed"
          ],
          [
           "naglee"
          ],
          [
           "works"
          ],
          [
           "lands"
          ],
          [
           "tendency"
          ],
          [
           "standard"
          ],
          [
           "miners"
          ],
          [
           "who"
          ],
          [
           "what"
          ],
          [
           "language"
          ],
          [
           "mode"
          ],
          [
           "adjudge"
          ],
          [
           "transacted"
          ],
          [
           "recovered"
          ],
          [
           "bristles"
          ],
          [
           "designated"
          ],
          [
           "directed"
          ],
          [
           "consumer"
          ],
          [
           "furnish"
          ],
          [
           "applied"
          ],
          [
           "accompanying"
          ],
          [
           "use"
          ],
          [
           "council"
          ],
          [
           "1884"
          ],
          [
           "first"
          ],
          [
           "impose"
          ],
          [
           "subjects"
          ],
          [
           "productive"
          ],
          [
           "1"
          ],
          [
           "26th"
          ],
          [
           "paying"
          ],
          [
           "levied"
          ],
          [
           "1878"
          ],
          [
           "4"
          ],
          [
           "falsely"
          ],
          [
           "license"
          ],
          [
           "efforts"
          ],
          [
           "branch"
          ],
          [
           "passing"
          ],
          [
           "shoulders"
          ],
          [
           "protected"
          ],
          [
           "asserted"
          ],
          [
           "municipal"
          ],
          [
           "through"
          ],
          [
           "habitually"
          ],
          [
           "stranger"
          ],
          [
           "satisfactorily"
          ],
          [
           "true"
          ],
          [
           "chattels"
          ],
          [
           "personal"
          ],
          [
           "do"
          ],
          [
           "once"
          ],
          [
           "contain"
          ],
          [
           "liabilities"
          ],
          [
           "direct"
          ],
          [
           "benefit"
          ],
          [
           "26"
          ],
          [
           "cap"
          ],
          [
           "relations"
          ],
          [
           "barring"
          ],
          [
           "new"
          ],
          [
           "mining"
          ],
          [
           "peace"
          ],
          [
           "touches"
          ],
          [
           "legally"
          ],
          [
           "act"
          ],
          [
           "defendant"
          ],
          [
           "vires"
          ],
          [
           "sin"
          ],
          [
           "single"
          ],
          [
           "franchise"
          ],
          [
           "forbidding"
          ],
          [
           "when"
          ],
          [
           "arrive"
          ],
          [
           "agency"
          ],
          [
           "acting"
          ],
          [
           "ports"
          ],
          [
           "light"
          ],
          [
           "cut"
          ],
          [
           "50"
          ],
          [
           "hodge"
          ],
          [
           "free"
          ],
          [
           "fortiori"
          ],
          [
           "paid"
          ],
          [
           "security"
          ],
          [
           "impede"
          ],
          [
           "places"
          ],
          [
           "conferred"
          ],
          [
           "employers"
          ],
          [
           "distinctionmust"
          ],
          [
           "mention"
          ],
          [
           "against"
          ],
          [
           "down"
          ],
          [
           "conscientious"
          ],
          [
           "order"
          ],
          [
           "showed"
          ],
          [
           "looks"
          ],
          [
           "co"
          ],
          [
           "discrimination"
          ],
          [
           "proportion"
          ],
          [
           "nature"
          ],
          [
           "15th"
          ],
          [
           "common"
          ],
          [
           "way"
          ],
          [
           "invidious"
          ],
          [
           "look"
          ],
          [
           "mcquillan"
          ],
          [
           "benefits"
          ],
          [
           "advanced"
          ],
          [
           "q"
          ],
          [
           "certiorarichinese"
          ],
          [
           "abate"
          ],
          [
           "from"
          ],
          [
           "gray"
          ],
          [
           "name"
          ],
          [
           "territory"
          ],
          [
           "demanded"
          ],
          [
           "destroy"
          ],
          [
           "that"
          ],
          [
           "face"
          ],
          [
           "immigration"
          ],
          [
           "16th"
          ],
          [
           "conceded"
          ],
          [
           "kept"
          ],
          [
           "superior"
          ],
          [
           "decisions"
          ],
          [
           "settled"
          ],
          [
           "omnipotent"
          ],
          [
           "are"
          ],
          [
           "observer"
          ],
          [
           "exclusively"
          ],
          [
           "desecration"
          ],
          [
           "correctness"
          ],
          [
           "pointed"
          ],
          [
           "defines"
          ],
          [
           "later"
          ],
          [
           "customs"
          ],
          [
           "graveyards"
          ],
          [
           "penalties"
          ],
          [
           "another"
          ],
          [
           "place"
          ],
          [
           "want"
          ],
          [
           "attorneygeneral"
          ],
          [
           "occupations"
          ],
          [
           "years"
          ],
          [
           "priceless"
          ],
          [
           "plenary"
          ],
          [
           "consequences"
          ],
          [
           "specified"
          ],
          [
           "duty"
          ],
          [
           "aforesaid"
          ],
          [
           "legal"
          ],
          [
           "coloured"
          ],
          [
           "scope"
          ],
          [
           "potters"
          ],
          [
           "exceeding"
          ],
          [
           "compel"
          ],
          [
           "laws"
          ],
          [
           "force"
          ],
          [
           "prepare"
          ],
          [
           "20"
          ],
          [
           "thereunder"
          ],
          [
           "argued"
          ],
          [
           "measures"
          ],
          [
           "pc"
          ],
          [
           "authorities"
          ],
          [
           "parliament"
          ],
          [
           "356"
          ],
          [
           "complaint"
          ],
          [
           "so"
          ],
          [
           "30"
          ],
          [
           "particularized"
          ],
          [
           "foreigner"
          ],
          [
           "executive"
          ],
          [
           "railway"
          ],
          [
           "high"
          ],
          [
           "shall"
          ],
          [
           "federation"
          ],
          [
           "hangs"
          ],
          [
           "he"
          ],
          [
           "obtained"
          ],
          [
           "which"
          ],
          [
           "found"
          ],
          [
           "copies"
          ],
          [
           "lend"
          ],
          [
           "disallowed"
          ],
          [
           "3rd"
          ],
          [
           "appeared"
          ],
          [
           "besides"
          ],
          [
           "most"
          ],
          [
           "legislative"
          ],
          [
           "maintained"
          ],
          [
           "i"
          ],
          [
           "effect"
          ],
          [
           "35"
          ],
          [
           "statement"
          ],
          [
           "principiinot"
          ],
          [
           "taxes"
          ],
          [
           "sedgwick"
          ],
          [
           "clauses"
          ],
          [
           "until"
          ],
          [
           "jointly"
          ],
          [
           "reserved"
          ],
          [
           "getting"
          ],
          [
           "employment"
          ],
          [
           "guiding"
          ],
          [
           "decision"
          ],
          [
           "proof"
          ],
          [
           "enforced"
          ],
          [
           "tai"
          ],
          [
           "sanctions"
          ],
          [
           "provinceabrogates"
          ],
          [
           "sothrows"
          ],
          [
           "magistrate"
          ],
          [
           "could"
          ],
          [
           "r"
          ],
          [
           "coming"
          ],
          [
           "23rd"
          ],
          [
           "costs"
          ],
          [
           "might"
          ],
          [
           "care"
          ],
          [
           "then"
          ],
          [
           "25"
          ],
          [
           "labourers"
          ],
          [
           "provincesay"
          ],
          [
           "international"
          ],
          [
           "ritchie"
          ],
          [
           "13"
          ],
          [
           "saysit"
          ],
          [
           "rest"
          ],
          [
           "safeguards"
          ],
          [
           "thus"
          ],
          [
           "introduced"
          ],
          [
           "where"
          ],
          [
           "absolutely"
          ],
          [
           "126128"
          ],
          [
           "everything"
          ],
          [
           "also"
          ],
          [
           "like"
          ],
          [
           "those"
          ],
          [
           "gilbert"
          ],
          [
           "aliens"
          ],
          [
           "happen"
          ],
          [
           "internal"
          ],
          [
           "authenticated"
          ],
          [
           "todd"
          ],
          [
           "analogy"
          ],
          [
           "considered"
          ],
          [
           "388"
          ],
          [
           "tiburcio"
          ],
          [
           "october"
          ],
          [
           "today"
          ],
          [
           "obvious"
          ],
          [
           "out"
          ],
          [
           "full"
          ],
          [
           "consideration"
          ],
          [
           "hesitation"
          ],
          [
           "review"
          ],
          [
           "cease"
          ],
          [
           "regulation"
          ],
          [
           "if"
          ],
          [
           "repulsive"
          ],
          [
           "than"
          ],
          [
           "itself"
          ],
          [
           "criminal"
          ],
          [
           "employer"
          ],
          [
           "skilled"
          ],
          [
           "night"
          ],
          [
           "occupies"
          ],
          [
           "delinquent"
          ],
          [
           "constitution"
          ],
          [
           "papers"
          ],
          [
           "raise"
          ],
          [
           "altered"
          ],
          [
           "acknowledged"
          ],
          [
           "in"
          ],
          [
           "excess"
          ],
          [
           "carries"
          ],
          [
           "idea"
          ],
          [
           "expressly"
          ],
          [
           "immediately"
          ],
          [
           "characteristic"
          ],
          [
           "convicted"
          ],
          [
           "already"
          ],
          [
           "contracting"
          ],
          [
           "proved"
          ],
          [
           "door"
          ],
          [
           "men"
          ],
          [
           "restricting"
          ],
          [
           "united"
          ],
          [
           "freely"
          ],
          [
           "enforcing"
          ],
          [
           "bearing"
          ],
          [
           "affixed"
          ],
          [
           "[MASK]"
          ],
          [
           "collection"
          ],
          [
           "regulations"
          ],
          [
           "nonproduction"
          ],
          [
           "preserve"
          ],
          [
           "relation"
          ],
          [
           "importance"
          ],
          [
           "collector"
          ],
          [
           "assumption"
          ],
          [
           "regina"
          ],
          [
           "basis"
          ],
          [
           "summarily"
          ],
          [
           "3"
          ],
          [
           "vol"
          ],
          [
           "commercial"
          ],
          [
           "medical"
          ],
          [
           "fettered"
          ],
          [
           "transgression"
          ],
          [
           "licence"
          ],
          [
           "equivalent"
          ],
          [
           "extreme"
          ],
          [
           "proving"
          ],
          [
           "reside"
          ],
          [
           "day"
          ],
          [
           "parts"
          ],
          [
           "legislature"
          ],
          [
           "acquire"
          ],
          [
           "dissenting"
          ],
          [
           "derived"
          ],
          [
           "burdened"
          ],
          [
           "mr"
          ],
          [
           "express"
          ],
          [
           "empire"
          ],
          [
           "fine"
          ],
          [
           "intent"
          ],
          [
           "months"
          ],
          [
           "hitherto"
          ],
          [
           "of"
          ],
          [
           "resolutions"
          ],
          [
           "lexington"
          ],
          [
           "provision"
          ],
          [
           "stated"
          ],
          [
           "carry"
          ],
          [
           "plainly"
          ],
          [
           "one"
          ],
          [
           "majesty"
          ],
          [
           "age"
          ],
          [
           "fitting"
          ],
          [
           "reed"
          ],
          [
           "to"
          ],
          [
           "principle"
          ],
          [
           "1843"
          ],
          [
           "city"
          ],
          [
           "continually"
          ],
          [
           "property"
          ],
          [
           "month"
          ],
          [
           "september"
          ],
          [
           "spoken"
          ],
          [
           "treaty"
          ],
          [
           "ageevery"
          ],
          [
           "title"
          ],
          [
           "15"
          ],
          [
           "on"
          ],
          [
           "saying"
          ],
          [
           "parties"
          ],
          [
           "dow"
          ],
          [
           "runs"
          ],
          [
           "materially"
          ],
          [
           "find"
          ],
          [
           "delegatus"
          ],
          [
           "charged"
          ],
          [
           "cognizance"
          ],
          [
           "generally"
          ],
          [
           "dwellings"
          ],
          [
           "goodhue"
          ],
          [
           "fifthlywhether"
          ],
          [
           "judges"
          ],
          [
           "provisions"
          ],
          [
           "commercetaxation"
          ],
          [
           "gradually"
          ],
          [
           "appellants"
          ],
          [
           "case"
          ],
          [
           "carried"
          ],
          [
           "ominous"
          ],
          [
           "pay"
          ],
          [
           "important"
          ],
          [
           "sovereign"
          ],
          [
           "11"
          ],
          [
           "illegality"
          ],
          [
           "end"
          ],
          [
           "may"
          ],
          [
           "5th"
          ],
          [
           "respective"
          ],
          [
           "annoying"
          ],
          [
           "deliver"
          ],
          [
           "ambassadors"
          ],
          [
           "experience"
          ],
          [
           "contending"
          ],
          [
           "occupy"
          ],
          [
           "only"
          ],
          [
           "reversed"
          ],
          [
           "whether"
          ],
          [
           "subsections"
          ],
          [
           "state"
          ],
          [
           "july"
          ],
          [
           "hot"
          ],
          [
           "rules"
          ],
          [
           "dicta"
          ],
          [
           "produced"
          ],
          [
           "1885crease"
          ],
          [
           "conclusive"
          ],
          [
           "fiscal"
          ],
          [
           "hannays"
          ],
          [
           "sec"
          ],
          [
           "or"
          ],
          [
           "responsible"
          ],
          [
           "exercised"
          ],
          [
           "author"
          ]
         ],
         "hovertemplate": "highlight=%{text}<br>x=%{x}<br>y=%{y}<br>word=%{customdata[0]}<extra></extra>",
         "legendgroup": "",
         "marker": {
          "color": "#636efa",
          "symbol": "circle"
         },
         "mode": "markers+text",
         "name": "",
         "showlegend": false,
         "text": [
          "",
          "",
          "",
          "",
          "",
          "",
          "",
          "",
          "",
          "",
          "",
          "",
          "",
          "",
          "",
          "",
          "",
          "",
          "",
          "",
          "",
          "",
          "",
          "",
          "",
          "",
          "",
          "",
          "",
          "",
          "",
          "",
          "",
          "",
          "",
          "",
          "",
          "",
          "",
          "",
          "",
          "",
          "",
          "",
          "",
          "",
          "",
          "",
          "",
          "",
          "",
          "",
          "",
          "",
          "",
          "",
          "",
          "",
          "",
          "",
          "",
          "",
          "",
          "",
          "",
          "",
          "",
          "",
          "",
          "",
          "",
          "",
          "",
          "",
          "",
          "",
          "",
          "",
          "",
          "",
          "",
          "",
          "",
          "",
          "",
          "",
          "",
          "",
          "",
          "",
          "",
          "",
          "",
          "",
          "",
          "",
          "",
          "",
          "",
          "",
          "",
          "",
          "",
          "",
          "",
          "",
          "",
          "",
          "",
          "",
          "",
          "",
          "",
          "",
          "",
          "",
          "",
          "",
          "",
          "",
          "",
          "",
          "",
          "",
          "",
          "",
          "",
          "",
          "",
          "",
          "",
          "",
          "",
          "",
          "",
          "",
          "",
          "",
          "",
          "",
          "",
          "",
          "",
          "",
          "",
          "",
          "",
          "",
          "",
          "",
          "",
          "",
          "",
          "",
          "",
          "",
          "",
          "",
          "",
          "",
          "",
          "",
          "",
          "",
          "",
          "",
          "",
          "",
          "",
          "",
          "",
          "",
          "",
          "",
          "",
          "",
          "",
          "",
          "",
          "",
          "",
          "",
          "",
          "",
          "",
          "",
          "",
          "",
          "",
          "",
          "",
          "",
          "",
          "",
          "",
          "",
          "",
          "",
          "",
          "",
          "",
          "",
          "",
          "",
          "",
          "",
          "",
          "",
          "",
          "",
          "",
          "",
          "",
          "",
          "",
          "",
          "",
          "",
          "",
          "",
          "",
          "",
          "",
          "",
          "",
          "",
          "",
          "",
          "",
          "",
          "",
          "",
          "",
          "",
          "",
          "",
          "",
          "",
          "",
          "",
          "",
          "",
          "",
          "",
          "",
          "",
          "",
          "",
          "",
          "",
          "",
          "",
          "",
          "",
          "",
          "",
          "",
          "",
          "",
          "",
          "",
          "",
          "",
          "",
          "",
          "",
          "",
          "",
          "",
          "",
          "",
          "",
          "",
          "",
          "",
          "",
          "",
          "",
          "",
          "",
          "",
          "",
          "",
          "",
          "",
          "",
          "",
          "",
          "",
          "",
          "",
          "",
          "",
          "",
          "",
          "",
          "",
          "",
          "",
          "",
          "",
          "",
          "",
          "",
          "",
          "",
          "",
          "",
          "",
          "",
          "",
          "",
          "",
          "",
          "",
          "",
          "",
          "",
          "",
          "",
          "",
          "",
          "",
          "",
          "",
          "",
          "",
          "",
          "",
          "",
          "",
          "",
          "",
          "",
          "",
          "",
          "",
          "",
          "",
          "",
          "",
          "",
          "",
          "",
          "",
          "",
          "",
          "",
          "",
          "",
          "",
          "",
          "",
          "",
          "",
          "",
          "",
          "",
          "",
          "",
          "",
          "",
          "",
          "",
          "",
          "",
          "",
          "",
          "",
          "",
          "",
          "",
          "",
          "",
          "",
          "",
          "",
          "",
          "",
          "",
          "",
          "",
          "",
          "",
          "",
          "",
          "",
          "",
          "",
          "",
          "",
          "",
          "",
          "",
          "",
          "",
          "",
          "",
          "",
          "",
          "",
          "",
          "",
          "",
          "",
          "",
          "",
          "",
          "",
          "",
          "",
          "",
          "",
          "",
          "",
          "",
          "",
          "",
          "",
          "",
          "",
          "",
          "",
          "",
          "",
          "",
          "",
          "",
          "",
          "",
          "",
          "",
          "",
          "",
          "",
          "",
          "",
          "",
          "",
          "",
          "",
          "",
          "",
          "",
          "",
          "",
          "",
          "",
          "",
          "",
          "",
          "",
          "",
          "",
          "",
          "",
          "",
          "",
          "",
          "",
          "",
          "",
          "",
          "",
          "",
          "",
          "",
          "",
          "",
          "",
          "",
          "",
          "",
          "",
          "",
          "",
          "",
          "",
          "",
          "",
          "",
          "",
          "",
          "",
          "",
          "",
          "",
          "",
          "",
          "",
          "",
          "",
          "",
          "",
          "",
          "",
          "",
          "",
          "",
          "",
          "",
          "",
          "",
          "",
          "",
          "",
          "",
          "",
          "",
          "",
          "",
          "",
          "",
          "",
          "",
          "",
          "",
          "",
          "",
          "",
          "",
          "",
          "",
          "",
          "",
          "",
          "",
          "",
          "",
          "",
          "",
          "",
          "",
          "",
          "",
          "",
          "",
          "",
          "",
          "",
          "",
          "",
          "",
          "",
          "",
          "",
          "",
          "",
          "",
          "",
          "",
          "",
          "",
          "",
          "",
          "",
          "",
          "",
          "",
          "",
          "",
          "",
          "",
          "",
          "",
          "",
          "",
          "",
          "",
          "",
          "",
          "",
          "",
          "",
          "",
          "",
          "",
          "",
          "",
          "",
          "",
          "",
          "",
          "",
          "",
          "",
          "",
          "",
          "",
          "",
          "",
          "",
          "",
          "",
          "",
          "",
          "",
          "",
          "",
          "",
          "",
          "",
          "",
          "",
          "",
          "",
          "",
          "",
          "",
          "",
          "",
          "",
          "",
          "",
          "",
          "",
          "",
          "",
          "",
          "",
          "",
          "",
          "",
          "",
          "",
          "",
          "",
          "",
          "",
          "",
          "",
          "",
          "",
          "",
          "",
          "",
          "",
          "",
          "",
          "",
          "",
          "",
          "",
          "",
          "",
          "",
          "",
          "",
          "",
          "",
          "",
          "",
          "",
          "",
          "",
          "",
          "",
          "",
          "",
          "",
          "",
          "",
          "",
          "",
          "",
          "",
          "",
          "",
          "",
          "",
          "",
          "",
          "",
          "",
          "",
          "",
          "",
          "",
          "",
          "",
          "",
          "",
          "",
          "",
          "",
          "",
          "",
          "",
          "",
          "",
          "",
          "",
          "",
          "",
          "",
          "",
          "",
          "",
          "",
          "",
          "",
          "",
          "",
          "",
          "",
          "",
          "",
          "",
          "",
          "",
          "",
          "",
          "",
          "",
          "",
          "",
          "",
          "",
          "",
          "",
          "",
          "",
          "",
          "",
          "",
          "",
          "",
          "",
          "",
          "",
          "",
          "",
          "",
          "",
          "",
          "",
          "",
          "",
          "",
          "",
          "",
          "",
          "",
          "",
          "",
          "",
          "",
          "",
          "",
          "",
          "",
          "",
          "",
          "",
          "",
          "",
          "",
          "",
          "",
          "",
          "",
          "",
          "",
          "",
          "",
          "",
          "",
          "",
          "",
          "",
          "",
          "",
          "",
          "",
          "",
          "",
          "",
          "",
          "",
          "",
          "",
          "",
          "",
          "",
          "",
          "",
          "",
          "",
          "",
          "",
          "",
          "",
          "",
          "",
          "",
          "",
          "",
          "",
          "",
          "",
          "",
          "",
          "",
          "",
          "",
          "",
          "",
          "",
          "",
          "",
          "",
          "",
          "",
          "",
          "",
          "",
          "",
          "",
          "",
          "",
          "",
          "",
          "",
          "",
          "",
          "",
          "",
          "",
          "",
          "",
          "",
          "",
          "",
          "",
          "",
          "",
          "",
          "",
          "",
          "",
          "",
          "",
          "",
          "",
          "",
          "",
          "",
          "",
          "",
          "",
          "",
          "",
          "",
          "",
          "",
          "",
          "",
          "",
          "",
          "",
          "",
          "",
          "",
          "",
          "",
          "",
          "",
          "",
          "",
          "",
          "",
          "",
          "",
          "",
          "",
          "",
          "",
          "",
          "",
          "",
          "",
          "",
          "",
          "",
          "",
          "",
          "",
          "",
          "",
          "",
          "",
          "",
          "",
          "",
          "",
          "",
          "",
          "",
          "",
          "",
          "",
          "",
          "",
          "",
          "",
          "",
          "",
          "",
          "",
          "",
          "",
          "",
          "",
          "",
          "",
          "",
          "",
          "",
          "",
          "",
          "",
          "",
          "",
          "",
          "",
          "",
          "",
          "",
          "",
          "",
          "",
          "",
          "",
          "",
          "",
          "",
          "",
          "",
          "",
          "",
          "",
          "",
          "",
          "",
          "",
          "",
          "",
          "",
          "",
          "",
          "",
          "",
          "",
          "",
          "",
          "",
          "",
          "",
          "",
          "",
          "",
          "",
          "",
          "",
          "",
          "",
          "",
          "",
          "",
          "",
          "",
          "",
          "",
          "",
          "",
          "",
          "",
          "",
          "",
          "",
          "",
          "",
          "",
          "",
          "",
          "",
          "",
          "",
          "",
          "",
          "",
          "",
          "",
          "",
          "",
          "",
          "",
          "",
          "",
          "",
          "",
          "",
          "",
          "",
          "",
          "",
          "",
          "",
          "",
          "",
          "",
          "",
          "",
          "",
          "",
          "",
          "",
          "",
          "",
          "",
          "",
          "",
          "",
          "",
          "",
          "",
          "",
          "",
          "",
          "",
          "",
          "",
          "",
          "",
          "",
          "",
          "",
          "",
          "",
          "",
          "",
          "",
          "",
          "",
          "",
          "",
          "",
          "",
          "",
          "",
          "",
          "",
          "",
          "",
          "",
          "",
          "",
          "",
          "",
          "",
          "",
          "",
          "",
          "",
          "",
          "",
          "",
          "",
          "",
          "",
          "",
          "",
          "",
          "",
          "",
          "",
          "",
          "",
          "",
          "",
          "",
          "",
          "",
          "",
          "",
          "",
          "",
          "",
          "",
          "",
          "",
          "",
          "",
          "",
          "",
          "",
          "",
          "",
          "",
          "",
          "",
          "",
          "",
          "",
          "",
          "",
          "",
          "",
          "",
          "",
          "",
          "",
          "",
          "",
          "",
          "",
          "",
          "",
          "",
          "",
          "",
          "",
          "",
          "",
          "",
          "",
          "",
          "",
          "",
          "",
          "",
          "",
          "",
          "",
          "",
          "",
          "",
          "",
          "",
          "",
          "",
          "",
          "",
          "",
          "",
          "",
          "",
          "",
          "",
          "",
          "",
          "",
          "",
          "",
          "",
          "",
          "",
          "",
          "",
          "",
          "",
          "",
          "",
          "",
          "",
          "",
          "",
          "",
          "",
          "",
          "",
          "",
          "",
          "",
          "",
          "",
          "",
          "",
          "",
          "",
          "",
          "",
          "",
          "",
          "",
          "",
          "",
          "",
          "",
          "",
          "",
          "",
          "",
          "",
          "",
          "",
          "",
          "",
          "",
          "",
          "",
          "",
          "",
          "",
          "",
          "",
          "",
          "",
          "",
          "",
          "",
          "",
          "",
          "",
          "",
          "",
          "",
          "",
          "",
          "",
          "",
          "",
          "",
          "",
          "",
          "",
          "",
          "",
          "",
          "",
          "",
          "",
          "",
          "",
          "",
          "",
          "",
          "",
          "",
          "",
          "",
          "",
          "",
          "",
          "",
          "",
          "",
          "",
          "",
          "",
          "",
          "",
          "",
          "",
          "",
          "",
          "",
          "",
          "",
          "",
          "",
          "",
          "",
          "",
          "",
          "",
          "",
          "",
          "",
          "",
          "",
          "",
          "",
          "",
          "",
          "",
          "",
          "",
          "",
          "",
          "",
          "",
          "",
          "",
          "",
          "",
          "",
          "",
          "",
          "",
          "",
          "",
          "",
          "",
          "",
          "",
          "",
          "",
          "",
          "",
          "",
          "",
          "",
          "",
          "",
          "",
          "",
          "",
          "",
          "",
          "",
          "",
          "",
          "",
          "",
          "",
          "",
          "",
          "",
          "",
          "",
          "",
          "",
          "",
          "",
          "",
          "",
          "",
          "",
          "",
          "",
          "",
          "",
          "",
          "",
          "",
          "",
          "",
          "",
          "",
          "",
          "",
          "",
          "",
          "",
          "",
          "",
          "",
          "",
          "",
          "",
          "",
          "",
          "",
          "",
          "",
          "",
          "",
          "",
          "",
          "",
          "",
          "",
          "",
          "",
          "",
          "",
          "",
          "",
          "",
          "",
          "",
          "",
          "",
          "",
          "",
          "",
          "",
          "",
          "",
          "",
          "",
          "",
          "",
          "",
          "",
          "",
          "",
          "",
          "",
          "",
          "",
          "",
          "",
          "",
          "",
          "",
          "",
          "",
          "",
          "",
          "",
          "",
          "",
          "",
          "",
          "",
          "",
          "",
          "",
          "",
          "",
          "",
          "",
          "",
          "",
          "",
          "",
          "",
          "",
          "",
          "",
          "",
          "",
          "",
          "",
          "",
          "",
          "",
          "",
          "",
          "",
          "",
          "",
          "",
          "",
          "",
          "",
          "",
          "",
          "",
          "",
          "",
          "",
          "",
          "",
          "",
          "",
          "",
          "",
          "",
          "",
          "",
          "",
          "",
          "",
          "",
          "",
          "",
          "",
          "",
          "",
          "",
          "",
          "",
          "",
          "",
          "",
          "",
          "",
          "",
          "",
          "",
          "",
          "",
          "",
          "",
          "",
          "",
          "",
          "",
          "",
          "",
          "",
          "",
          "",
          "",
          "",
          "",
          "",
          "",
          "",
          "",
          "",
          "",
          "",
          "",
          "",
          "",
          "",
          "",
          "",
          "",
          "",
          "",
          "",
          "",
          "",
          "",
          "",
          "",
          "",
          "",
          "",
          "",
          "",
          "",
          "",
          "",
          "",
          "",
          "",
          "",
          "",
          "",
          "",
          "",
          "",
          "",
          "",
          "",
          "",
          "",
          "",
          "",
          "",
          "",
          "",
          "",
          "",
          "",
          "",
          "",
          "",
          "",
          "",
          "",
          "",
          "",
          "",
          "",
          "",
          "",
          "",
          "",
          "",
          "",
          "",
          "",
          "",
          "",
          "",
          "",
          "",
          "",
          "",
          "",
          "",
          "",
          "",
          "",
          "",
          "",
          "",
          "",
          "",
          ""
         ],
         "type": "scattergl",
         "x": [
          -5.0009675,
          13.996129,
          15.290312,
          3.1436727,
          -5.2222743,
          15.240259,
          -5.2263346,
          -3.3844087,
          -1.6983726,
          -5.0489554,
          14.989492,
          -3.2091382,
          -5.4057713,
          -4.8093643,
          -5.6388416,
          14.389466,
          14.384017,
          -4.8323245,
          -1.614424,
          15.108767,
          15.317415,
          13.983942,
          -4.1604805,
          -4.400845,
          -5.305409,
          -5.355749,
          -5.5446763,
          -4.044935,
          -4.2045074,
          14.807705,
          -4.2302785,
          -3.5218275,
          -4.1440563,
          -5.4236703,
          -5.1233974,
          -5.63857,
          15.1827755,
          -4.73004,
          15.367803,
          -4.637382,
          -5.479996,
          -5.4354343,
          -4.7714005,
          -4.8028617,
          15.093779,
          -3.775204,
          -4.765397,
          14.759694,
          14.867168,
          -4.771493,
          14.863926,
          -5.198666,
          14.649025,
          -5.0288234,
          -4.7043085,
          -4.314452,
          -4.2807546,
          -4.417629,
          -4.1351285,
          14.960939,
          -4.909591,
          -3.7197912,
          -5.2529445,
          -2.2389448,
          -4.957609,
          -5.450998,
          13.35656,
          -2.630134,
          -5.3465757,
          15.160812,
          14.897277,
          -5.121454,
          -5.2445383,
          -4.532753,
          -5.6631546,
          15.291324,
          6.6824565,
          15.253662,
          -5.2237644,
          -4.83927,
          -3.6600516,
          -4.201019,
          -4.6372933,
          15.210573,
          14.656918,
          -3.5217881,
          8.737203,
          -4.699886,
          -5.326504,
          14.87692,
          -4.7144823,
          -5.5551157,
          -5.166968,
          15.413192,
          -5.524645,
          -3.168287,
          -2.3062677,
          13.62069,
          -5.157408,
          1.1770504,
          -5.4918656,
          -4.0281615,
          -3.421032,
          -4.5043135,
          -4.764,
          -5.360488,
          15.00313,
          14.408064,
          15.355334,
          -5.5215855,
          -4.0600705,
          13.221538,
          -5.315576,
          8.418892,
          14.552795,
          -4.9373884,
          -4.914156,
          -5.2697005,
          -4.923808,
          -5.002875,
          -2.0428922,
          14.06369,
          -4.8847265,
          13.822957,
          -5.3763056,
          -5.27196,
          13.959334,
          -4.003425,
          -2.5857272,
          -3.072554,
          -5.804567,
          14.698822,
          -4.6354613,
          -4.3064947,
          -4.554946,
          13.480011,
          -3.381397,
          12.705878,
          -5.471149,
          -5.291698,
          -4.7396708,
          -5.5207977,
          -4.914943,
          -4.8527613,
          -5.5254383,
          -5.0503964,
          -4.892909,
          -3.855622,
          -4.951838,
          -4.6762357,
          -4.9071956,
          -5.1019506,
          -5.371405,
          -4.493488,
          -4.6245475,
          -3.5608602,
          15.357953,
          -5.417612,
          -5.4453297,
          14.818264,
          -5.0191574,
          15.248262,
          -5.032457,
          -5.4308767,
          -4.4379907,
          -4.6946697,
          14.867019,
          -4.708906,
          -4.636258,
          -5.206336,
          -5.013539,
          15.182456,
          13.185274,
          -3.8708537,
          14.489514,
          -3.8801336,
          11.854636,
          -5.2429075,
          -4.7692676,
          -4.699353,
          -4.709404,
          -4.6547375,
          -4.5901384,
          -5.177733,
          -4.1939044,
          -5.225869,
          -5.049503,
          -5.215414,
          -5.4588585,
          -5.426456,
          14.65536,
          -5.663381,
          -5.539813,
          14.8148155,
          -4.4594007,
          -5.226407,
          3.5315552,
          -5.9560122,
          -4.822073,
          -4.413185,
          -5.0742416,
          14.448429,
          15.240276,
          -3.8002453,
          -3.8861883,
          -5.2783628,
          -5.4024243,
          -3.441197,
          -5.1965013,
          -4.9771132,
          -5.020058,
          13.439328,
          -5.401284,
          13.692997,
          -4.4515643,
          14.703297,
          -5.748983,
          -4.7665253,
          -4.591581,
          12.7874775,
          11.7726345,
          -3.92959,
          -4.7055564,
          -5.3328676,
          15.158521,
          -5.324648,
          15.190769,
          -3.8183832,
          -4.7278767,
          -4.2155466,
          7.683463,
          -4.8892584,
          -5.1925387,
          -4.5060077,
          -4.791885,
          -4.981278,
          -5.5544176,
          -1.5532058,
          -4.7195907,
          -4.863779,
          -5.012613,
          15.068382,
          -5.0771728,
          -4.151615,
          -4.725519,
          -5.4525075,
          15.051428,
          -4.700075,
          -5.0291257,
          15.24585,
          2.3242314,
          -5.0563827,
          -5.1290107,
          -4.7501206,
          -5.4918456,
          15.045721,
          -3.918883,
          -5.178122,
          7.3199553,
          -5.4428186,
          -4.6883235,
          11.663478,
          -4.391128,
          -4.948643,
          -5.4856396,
          -4.4173613,
          -4.1598716,
          -2.3651524,
          15.248343,
          -3.8797565,
          -5.367537,
          14.798255,
          13.446207,
          -5.063661,
          -5.31727,
          -5.386138,
          -3.809896,
          15.123458,
          -4.474441,
          -4.5720963,
          14.827917,
          -5.3994756,
          -5.4937954,
          -5.320474,
          -4.365158,
          -4.182486,
          -4.717672,
          -5.4271884,
          -5.5721674,
          -5.228674,
          -4.5304346,
          15.306493,
          -5.527301,
          -5.0414243,
          14.38961,
          -4.7422843,
          13.520662,
          -2.7480662,
          10.173006,
          -5.2338142,
          -2.3882363,
          15.0852995,
          -5.336415,
          12.801838,
          14.806516,
          -4.887214,
          -5.331574,
          -4.468634,
          14.297948,
          -4.0786443,
          -5.2371345,
          13.539212,
          -5.3282127,
          -5.596553,
          -3.6704545,
          -5.1141653,
          14.395394,
          15.320673,
          15.245782,
          -5.1926684,
          15.348879,
          -5.3360925,
          -1.156245,
          -4.198389,
          15.377439,
          -5.2554274,
          -5.3522563,
          -5.131175,
          14.95046,
          15.319427,
          -5.268695,
          -5.3174825,
          -5.055628,
          15.263883,
          -4.6813335,
          -4.932382,
          -4.5704417,
          12.57886,
          -5.1370325,
          -5.0465417,
          -5.5292134,
          -5.392178,
          15.183833,
          -3.4093454,
          -5.270238,
          -4.000113,
          -4.6019955,
          -4.1575084,
          -4.3959813,
          -5.392066,
          -3.8366852,
          -4.516377,
          -5.671846,
          -5.5426826,
          10.89426,
          14.994615,
          -4.1969647,
          -3.1091192,
          -3.4132855,
          -4.4160724,
          14.951516,
          -4.949076,
          -3.9895055,
          -4.653707,
          -5.592103,
          -3.9771693,
          -5.0884805,
          -4.4839935,
          14.914832,
          -5.0264144,
          -4.9297647,
          -5.2050996,
          15.167034,
          -4.385373,
          -4.8245425,
          -4.905034,
          -5.249087,
          -0.63887686,
          -4.2936807,
          14.679922,
          13.291303,
          -4.646681,
          -4.545696,
          -5.463358,
          15.251109,
          -5.6663227,
          15.235163,
          15.255472,
          -2.7855432,
          13.905596,
          14.515321,
          -4.9455886,
          -5.352406,
          -5.415631,
          -5.1465974,
          -4.295766,
          -4.9495153,
          13.93804,
          -4.433088,
          15.235765,
          -5.834072,
          -5.6443977,
          14.763514,
          -4.6328015,
          13.685861,
          15.245103,
          -4.702916,
          -3.6570947,
          -4.96952,
          -3.1519191,
          -5.2716684,
          -4.4180875,
          15.0977955,
          14.427137,
          15.269771,
          -4.931229,
          -5.004848,
          13.397513,
          14.1683,
          -4.9780707,
          15.190331,
          -4.6979613,
          14.665842,
          -5.323455,
          14.083189,
          -4.5279317,
          -4.8805323,
          -4.590928,
          -5.3761916,
          14.504904,
          -4.496083,
          -5.1066165,
          14.742162,
          -5.661084,
          15.18334,
          -5.707722,
          -5.411564,
          -5.008524,
          -4.1301775,
          -2.9365113,
          -5.547727,
          -5.137517,
          -4.3324423,
          -4.0213375,
          -4.254553,
          -3.6729255,
          -4.9666705,
          -5.2313004,
          13.216771,
          14.655321,
          13.124823,
          13.971635,
          -5.251931,
          -5.23515,
          -5.19599,
          -4.9703307,
          14.631722,
          -4.765831,
          2.4441109,
          -5.8589525,
          -5.519413,
          12.688973,
          15.331306,
          -5.0202155,
          15.038415,
          15.3214445,
          -5.385643,
          15.233616,
          -4.47848,
          -5.21911,
          -3.0669372,
          -5.0389867,
          -5.6231647,
          -4.0386066,
          -4.917518,
          13.30485,
          14.771928,
          15.329655,
          -4.926634,
          -5.541103,
          14.814874,
          -5.1331205,
          15.312097,
          -5.335415,
          -5.6129317,
          -5.6127367,
          -5.259813,
          -4.9698215,
          -4.296934,
          -3.9624724,
          14.954319,
          -4.9701123,
          15.275584,
          -5.661514,
          14.760126,
          -5.2361774,
          -5.208657,
          -5.4102635,
          -5.3689117,
          15.006735,
          14.441611,
          -3.4708436,
          -5.4598403,
          10.564308,
          -3.4666648,
          -4.770662,
          -4.8608246,
          -4.982823,
          -4.8155656,
          -4.9485483,
          -5.38651,
          -4.7597666,
          -5.2199855,
          -5.5611825,
          -5.108421,
          14.354707,
          -5.591311,
          -4.1794806,
          -4.8465986,
          14.66693,
          -4.326609,
          -5.3353043,
          -4.538203,
          -5.471033,
          -5.3872714,
          -4.5071564,
          -4.516647,
          15.326486,
          -5.596378,
          4.847758,
          15.290113,
          15.252072,
          -3.858965,
          -4.2460737,
          -3.7391853,
          -4.1116133,
          -4.5517445,
          -5.707515,
          14.648789,
          12.723469,
          -4.974869,
          15.344228,
          13.595104,
          -5.269327,
          -4.2303405,
          14.419795,
          -4.9440017,
          -3.8083856,
          -5.6975408,
          13.534147,
          -4.2923493,
          -4.872404,
          14.115102,
          -4.921608,
          -3.4374888,
          -4.868173,
          -4.8218412,
          -5.365279,
          -4.3271646,
          15.050154,
          -5.2215624,
          -4.7838135,
          -3.7471042,
          -5.600271,
          -5.002393,
          -1.573989,
          15.221438,
          15.16121,
          -5.2373643,
          -5.3199587,
          -0.3837641,
          -4.329383,
          15.307131,
          -5.0724163,
          -5.309247,
          14.971135,
          -3.678042,
          15.371853,
          14.632913,
          -4.960736,
          -4.6316447,
          -4.643236,
          -4.6935644,
          -5.3280654,
          -5.523129,
          -5.230952,
          -5.679756,
          -4.9205,
          15.121083,
          -4.694183,
          10.147292,
          -4.746483,
          -5.132055,
          7.352005,
          13.245285,
          -4.92584,
          14.943644,
          -4.9085617,
          12.143777,
          -4.668455,
          -5.3427143,
          -5.6536636,
          -5.405726,
          12.09331,
          -4.2520685,
          -4.075602,
          -5.5094457,
          -5.3866735,
          15.154361,
          -4.4636908,
          13.465638,
          -4.8505535,
          14.985143,
          13.559463,
          -4.7525787,
          -4.9236007,
          15.075188,
          15.373046,
          -4.4538975,
          -3.7694268,
          -5.3443565,
          15.272325,
          -4.7123413,
          -4.8660097,
          -4.503908,
          -5.577199,
          -5.07605,
          3.708068,
          15.312074,
          -5.040001,
          -3.7906556,
          14.835324,
          -4.3587937,
          -4.570413,
          -5.561135,
          14.868515,
          14.003289,
          -5.415451,
          -4.493877,
          -4.9641523,
          -5.039824,
          -5.3663344,
          -3.8441303,
          -4.287686,
          -4.761135,
          11.928011,
          14.5913925,
          -4.1889815,
          -4.0440035,
          -1.9289112,
          -5.2749867,
          -5.3057494,
          -4.6529326,
          -5.4088,
          -4.961892,
          -5.5760527,
          -5.513195,
          14.611425,
          -4.668446,
          -4.513341,
          -5.799689,
          -4.707092,
          14.361591,
          -5.13724,
          -4.0651026,
          -4.4752517,
          -4.4375114,
          14.6643715,
          -4.97588,
          -4.6692944,
          -4.9328074,
          -4.1614957,
          -5.4990044,
          -4.570775,
          15.276097,
          -3.7952607,
          -4.689556,
          -4.1158557,
          -4.7489014,
          -2.488328,
          -5.410516,
          -4.6221757,
          -3.884955,
          -5.4653363,
          -4.9733806,
          -1.35651,
          -5.18769,
          -2.0826998,
          -4.639574,
          -4.646268,
          -4.891964,
          -4.8870378,
          13.590296,
          -5.554381,
          -5.4739666,
          -5.1427464,
          -5.0917716,
          -5.2907143,
          -5.1649294,
          -5.519651,
          15.256018,
          -4.7565556,
          -5.4590616,
          -3.451264,
          -4.6509056,
          -4.357258,
          -4.544811,
          -5.54766,
          -5.4052086,
          15.00007,
          -4.350115,
          15.341002,
          12.58364,
          15.393927,
          -4.8921127,
          -5.620243,
          -5.493049,
          -4.5849347,
          -5.35275,
          -5.1109166,
          -5.3042393,
          -4.3915977,
          -5.395352,
          -3.9639294,
          -5.1755104,
          -4.9257736,
          -3.9437387,
          -4.4414444,
          -4.6798997,
          14.682891,
          14.849939,
          -5.2962036,
          15.069445,
          15.334567,
          -1.8291378,
          -5.141891,
          -3.922499,
          -1.887943,
          -5.124627,
          -4.5599933,
          15.083023,
          11.067249,
          -5.167517,
          -2.826285,
          -5.4630513,
          -4.0022135,
          -5.2247167,
          15.385861,
          -4.7015104,
          -4.6790795,
          -5.3355637,
          -4.4223995,
          -5.365603,
          -5.0433125,
          -4.243464,
          -4.8202634,
          -4.276571,
          -4.8340144,
          -3.4503505,
          -3.6504414,
          -4.5116124,
          -5.3164625,
          -5.58905,
          -4.993302,
          -4.590667,
          14.374132,
          -3.7618153,
          14.786372,
          -5.6389866,
          -4.944145,
          -4.9392285,
          -5.394368,
          -5.7932096,
          -5.378424,
          -5.1933603,
          -4.417886,
          -4.6707788,
          15.122103,
          -5.0509157,
          -4.9431734,
          -5.0348063,
          -4.646205,
          -4.922799,
          -5.20109,
          -4.872346,
          -5.6053905,
          -5.2622094,
          -4.6849318,
          -5.131476,
          -4.33262,
          15.336113,
          -3.15732,
          15.128943,
          -5.2437706,
          -5.05682,
          -5.1853375,
          -5.330416,
          -4.3866878,
          15.246313,
          -2.267679,
          15.394278,
          -4.407038,
          -5.204737,
          -5.4565015,
          -4.5574083,
          -4.1725426,
          -5.5127006,
          11.049958,
          -0.69093376,
          -5.173216,
          -4.7250037,
          15.328852,
          -3.8187246,
          -4.6191425,
          -4.949432,
          -4.3224034,
          -5.2147684,
          -5.472332,
          -5.484535,
          -4.7657714,
          -5.42614,
          12.762513,
          -4.7043014,
          -4.8816166,
          -4.0089383,
          -4.416762,
          0.31855223,
          -5.2142735,
          9.278213,
          -5.0776973,
          15.3247,
          -5.313176,
          -5.319141,
          -5.0419106,
          -5.480924,
          -4.597886,
          14.971545,
          -4.8986955,
          15.284795,
          -4.8753676,
          -5.3490214,
          -4.976206,
          -4.651468,
          -5.3516946,
          -4.643561,
          -4.8151546,
          15.23858,
          -5.009806,
          15.124763,
          -5.5188866,
          -4.0274353,
          15.243474,
          -3.2786198,
          -5.023122,
          14.912973,
          -5.437446,
          -5.392198,
          -3.054015,
          -4.573427,
          -5.3731365,
          -5.544999,
          -5.1853094,
          -4.28585,
          -5.440039,
          -5.1773643,
          -5.4770255,
          15.038191,
          -4.747014,
          -4.391537,
          -2.7583914,
          -5.30163,
          -5.268452,
          -1.7397268,
          -3.5575552,
          -4.744272,
          -5.1881614,
          -4.735535,
          -5.0896177,
          9.878612,
          -5.034212,
          -4.7623677,
          15.2833395,
          -5.3280425,
          12.9072,
          -4.848346,
          2.9926317,
          -5.2699594,
          -5.955949,
          -5.6110854,
          -4.7366343,
          -4.9326086,
          12.402346,
          -5.3692126,
          14.436289,
          14.772898,
          -5.3916693,
          -3.0691566,
          -5.6003056,
          -4.9765778,
          -2.4598536,
          10.479982,
          -4.990127,
          13.598828,
          -4.796212,
          -5.270448,
          -4.5871615,
          -4.987238,
          -4.2297826,
          -4.771252,
          -4.765968,
          15.3693075,
          -4.988176,
          -5.066508,
          -4.5665755,
          -4.462015,
          -4.8897734,
          -5.1865277,
          -5.607659,
          14.1987705,
          -4.8454723,
          -3.8450599,
          -4.896797,
          -4.8335667,
          14.280097,
          15.062477,
          -3.710971,
          -4.660949,
          -5.1696835,
          -5.41,
          15.083527,
          -4.7158213,
          15.293516,
          -5.0891795,
          9.187316,
          -4.6164246,
          -5.7534375,
          -5.317,
          -4.472311,
          -5.313273,
          12.057262,
          15.363968,
          -4.6542506,
          -4.9519887,
          -4.2791185,
          -4.667941,
          14.845488,
          -4.9767537,
          -3.9651175,
          -4.6142488,
          -5.342866,
          -4.6336365,
          -4.6446733,
          -5.374474,
          -4.5831194,
          -5.4516354,
          -3.1979065,
          -5.6824317,
          -4.6073413,
          15.094695,
          12.960567,
          -4.998044,
          -5.1670203,
          -3.1998756,
          -4.816113,
          -5.107565,
          -5.4823937,
          -4.80672,
          -5.4564776,
          14.289662,
          15.155935,
          -4.97606,
          -5.289452,
          -5.269149,
          15.341696,
          -5.155204,
          -3.662709,
          15.42662,
          13.580263,
          -5.5004687,
          -4.8533087,
          14.661955,
          -3.589776,
          -5.329901,
          -4.4115915,
          15.052985,
          1.6006424,
          15.33934,
          -4.273745,
          -4.5758157,
          -3.2569137,
          -5.238842,
          -4.9168324,
          -4.6240644,
          -3.957964,
          -4.347134,
          15.126684,
          -5.0108376,
          -4.469685,
          15.263423,
          -4.7941947,
          -4.899091,
          15.248098,
          -4.340848,
          -3.644982,
          14.499293,
          -5.500076,
          -4.7826333,
          15.18823,
          -4.055912,
          -4.920736,
          -4.639635,
          14.862735,
          -5.03302,
          -5.368461,
          -4.989905,
          -3.5760233,
          -5.229694,
          15.350378,
          -5.298175,
          -4.5204825,
          -4.178767,
          -5.3790565,
          -3.2214034,
          -5.3164845,
          7.752804,
          15.322057,
          -5.201352,
          0.87135285,
          13.872839,
          -5.097075,
          -2.8988898,
          -5.6501436,
          -3.995785,
          -4.890103,
          -4.7864833,
          -5.0212765,
          -4.7949786,
          -4.9526997,
          -3.217003,
          -4.983604,
          15.411632,
          -5.017607,
          13.086066,
          14.924818,
          -5.3078947,
          15.126838,
          -4.8085103,
          -5.2206163,
          -4.473875,
          14.81815,
          -4.2677193,
          -5.177566,
          -5.30369,
          -4.11319,
          -5.6115966,
          -4.9746127,
          -5.1686935,
          -3.2616687,
          -4.9740887,
          -3.7632756,
          -5.862386,
          5.7177033,
          -5.3991413,
          15.058637,
          14.9787855,
          -3.2666166,
          15.360864,
          14.87303,
          15.297133,
          -5.022042,
          -4.566755,
          -5.161585,
          -5.228113,
          -4.562031,
          14.830311,
          -4.742892,
          -4.9818325,
          -4.563574,
          -5.5008454,
          14.528648,
          -3.9134808,
          12.401623,
          8.553208,
          -5.2386727,
          14.378381,
          -4.9177876,
          14.975655,
          15.00943,
          10.307113,
          -4.3569565,
          -4.9739127,
          -5.703742,
          -5.7593317,
          -4.6096783,
          14.892608,
          -3.8881354,
          -5.650059,
          10.855991,
          14.580836,
          -4.4701657,
          15.334971,
          -4.9073625,
          14.311458,
          -0.1009801,
          -5.4118347,
          -4.2950864,
          -4.9382453,
          -4.7558722,
          -5.6437035,
          -3.5291512,
          14.949574,
          -5.2696986,
          -5.1207724,
          -4.6657863,
          -3.9643924,
          -4.956066,
          -5.701633,
          -4.1084905,
          15.276696,
          -3.8339996,
          15.200847,
          -4.516843,
          -4.379522,
          -4.858743,
          -5.208795,
          -5.353044,
          -5.022953,
          -2.7876284,
          -5.0655966,
          14.340108,
          -5.29746,
          -4.7597747,
          -4.981481,
          -4.3615685,
          -5.1093855,
          -4.524966,
          -2.0752382,
          -4.69226,
          -5.5197024,
          15.30261,
          -4.7573733,
          -4.776645,
          -5.652201,
          15.134382,
          12.969413,
          -5.228629,
          -3.8023171,
          -3.3724327,
          -3.4351215,
          13.503599,
          14.027212,
          -4.52711,
          15.021599,
          -4.4261246,
          -5.744658,
          -4.4791374,
          -5.399239,
          15.108328,
          -4.8007936,
          -5.617788,
          -3.7790656,
          -5.3622518,
          -5.4802923,
          -5.692384,
          14.676562,
          -4.955434,
          15.335303,
          -5.4081707,
          -5.0505934,
          -5.217998,
          -5.4998116,
          -4.13086,
          15.247384,
          -4.6910706,
          -5.1778355,
          -5.42383,
          -5.380993,
          -4.546604,
          -5.5112805,
          -4.990408,
          -5.1544504,
          -4.6356215,
          -5.7688236,
          -4.5345807,
          -4.6328726,
          14.248518,
          -5.4344783,
          12.426607,
          -4.3899913,
          -4.5031447,
          -2.488348,
          -3.1401896,
          -4.6178865,
          15.208284,
          15.379993,
          -4.1595345,
          -4.5887485,
          -4.5550895,
          -5.02298,
          15.241225,
          -5.1544623,
          13.511435,
          -4.6652083,
          -5.5571704,
          14.536555,
          -3.449419,
          15.164157,
          -5.4964166,
          -4.8410654,
          15.162457,
          -4.8564053,
          -5.2371006,
          -5.383415,
          15.250863,
          -3.30245,
          15.29272,
          15.002142,
          -4.250117,
          14.969685,
          -4.4884977,
          -5.708447,
          14.96023,
          -5.0987988,
          -4.960596,
          -3.7919464,
          -4.6297555,
          -5.022528,
          9.394515,
          -4.82969,
          -5.2549634,
          -5.065487,
          -5.362039,
          14.697359,
          -4.142752,
          -2.6968548,
          -4.8066607,
          15.293266,
          -5.1769066,
          -3.742923,
          -4.890866,
          -4.956163,
          -4.8592267,
          -5.262466,
          -4.763375,
          -5.056112,
          -5.030648,
          -4.7962823,
          -5.390307,
          -4.8837748,
          -4.250326,
          15.38167,
          -5.48451,
          -3.9634123,
          -4.2168093,
          -5.164085,
          -5.139672,
          -4.27053,
          -4.1958914,
          -4.0598154,
          15.014839,
          -5.2689753,
          -5.095751,
          -5.30542,
          -5.0967345,
          -4.820209,
          -3.934419,
          13.735845,
          -5.2983327,
          -5.6403537,
          -5.360882,
          14.522557,
          -4.953795,
          -5.4621806,
          -4.9435177,
          -5.268628,
          -4.1122293,
          -5.2705517,
          -5.0137253,
          11.889197,
          -4.601966,
          -4.9597363,
          14.476866,
          14.726771,
          15.368228,
          -5.2982635,
          -4.9836445,
          -5.2684245,
          -4.7320914,
          -5.114572,
          -5.349754,
          -4.9842734,
          -5.104879,
          -4.6763334,
          -5.434052,
          15.368896,
          -4.7956123,
          12.879906,
          -5.3883348,
          -3.2384832,
          -5.122606,
          15.310918,
          -2.8692033,
          -5.273746,
          -5.0223956,
          14.399609,
          -4.7643723,
          -4.693114,
          -3.560638,
          -5.276667,
          15.284981,
          -5.15113,
          -5.1623607,
          14.873647,
          4.7070847,
          -5.1122813,
          -3.7888808,
          -4.0187674,
          -5.208903,
          -4.4353223,
          14.748555,
          -2.504741,
          -5.1884665,
          -4.305026,
          -4.568636,
          14.103167,
          14.361372,
          -5.628982,
          -3.8944945,
          -5.0397863,
          15.103121,
          8.697446,
          15.018669,
          -5.425259,
          -5.218509,
          14.334397,
          11.474723,
          -4.324026,
          -0.74392813,
          15.285058,
          -5.179424,
          -2.4041326,
          -4.758676,
          -5.4792547,
          -3.7362459,
          15.098447,
          -5.061797,
          15.214893,
          -4.749921,
          13.811999,
          -3.4084225,
          15.260645,
          13.976457,
          -4.703896,
          -5.1219206,
          -5.097589,
          -4.0439515,
          -4.501221,
          15.27309,
          15.042123,
          -4.9186683,
          -4.512491,
          -5.1900916,
          -4.861398,
          13.260964,
          -4.9904127,
          -3.7490554,
          -4.9844584,
          -4.9974184,
          -4.4761114,
          -5.4465423,
          -4.332055,
          -5.2180653,
          -5.3499722,
          -4.753509,
          15.158628,
          15.030373,
          -5.1154156,
          -4.64558,
          -4.331396,
          11.544,
          11.449706,
          -4.3108735,
          -5.10505,
          -2.5553727,
          13.887334,
          -5.2602625,
          13.874218,
          -5.539696,
          -4.5729175,
          -5.125025,
          -5.683508,
          14.5824795,
          -4.009328,
          15.246341,
          -5.5440426,
          -5.1044035,
          -5.6397943,
          -5.100421,
          -5.2174187,
          15.326711,
          -5.0188265,
          13.767872,
          -5.2225904,
          -4.490511,
          15.119177,
          -4.619377,
          -5.05,
          11.914099,
          -4.9536133,
          15.325516,
          -3.3574517,
          -5.430692,
          13.262264,
          -5.372335,
          14.469502,
          -4.7251573,
          15.33891,
          -5.6072,
          14.135886,
          -5.04972,
          -4.8668814,
          15.202004,
          -4.9795938,
          -4.272779,
          -5.0823507,
          15.340499,
          -5.0560055,
          -5.564368,
          -4.7190547,
          -4.4672675,
          -5.0323744,
          -4.9614997,
          15.359456,
          -5.303189,
          -5.295503,
          15.159154,
          15.192326,
          -5.2086215,
          -5.497258,
          -4.9635725,
          -5.0548735,
          7.9384484,
          -4.8287387,
          -5.2010765,
          15.189216,
          14.281121,
          -5.2066655,
          15.211117,
          -4.963704,
          -4.783612,
          -4.2297363,
          -5.5891056,
          -5.238581,
          13.870014,
          -4.9985394,
          -5.0020576,
          -5.1047683,
          -5.063591,
          -5.3079605,
          -4.7820387,
          -4.861009,
          2.1522012,
          -4.8433466,
          -4.6091104,
          -4.894776,
          -4.7132607,
          -5.4542413,
          -4.936624,
          -4.5298934,
          -5.341263,
          15.185264,
          14.018519,
          -5.5925784,
          -5.4230566,
          -5.3526273,
          -4.992481,
          -4.639177,
          -4.875455,
          -4.712357,
          -5.505798,
          -4.133923,
          -5.2215614,
          -4.8212676,
          -5.14981,
          -5.492796,
          -5.103259,
          -4.2272396,
          -5.436196,
          14.627469,
          15.345143,
          -4.655128,
          -5.032081,
          -3.9919996,
          -5.7499456,
          -4.209457,
          14.169926,
          15.153219,
          -3.6850646,
          -5.544512,
          -5.4332914,
          -3.4958677,
          -5.1624928,
          13.607049,
          -4.280774,
          14.207706,
          -3.8905933,
          3.1683817,
          -3.7254384,
          -5.524448,
          -4.7269945,
          1.6976393,
          -5.5271106,
          13.638281,
          -4.8521113,
          -5.0691214,
          -4.295599,
          -5.211763,
          -4.3119483,
          -4.591267,
          -4.9559917,
          10.103254,
          -4.991214,
          14.275087,
          -4.7971,
          -4.7289515,
          -4.5013547,
          14.442041,
          -5.166573,
          -4.9029884,
          -5.261232,
          -5.3438425,
          -4.855482,
          -5.0608816,
          -5.201697,
          -4.7002945,
          -4.9963803,
          -5.7594724,
          -4.4976516,
          14.325171,
          -5.0089107,
          -5.4810743,
          -4.54616,
          13.563295,
          -5.0427513,
          -4.438762,
          -4.8788867,
          -5.3738246,
          14.281048,
          -5.025694,
          12.571993,
          15.352913,
          -4.0930867,
          -5.418213,
          13.94848,
          -4.044994,
          11.2155905,
          15.157704,
          -4.399661,
          -4.831776,
          -4.6207676,
          -5.6852436,
          15.058916,
          -5.386999,
          15.219658,
          -5.334223,
          -4.2915726,
          1.2176971,
          -3.5572834,
          -4.141739,
          -3.5667799,
          -4.853318,
          -3.9687724,
          -5.1097393,
          -5.3193665,
          -5.3591347,
          -4.746381,
          -5.2714214
         ],
         "xaxis": "x",
         "y": [
          -4.430742,
          0.26232955,
          -0.23308885,
          -0.2954678,
          -4.610633,
          -0.29689088,
          -4.8955946,
          7.7539444,
          8.2368965,
          -4.513093,
          -0.46224338,
          8.195328,
          -1.4619861,
          -4.8372774,
          -1.0073519,
          -0.4309295,
          0.20506532,
          -3.8887327,
          -2.5925672,
          -0.21102951,
          -0.124049895,
          -0.29986405,
          6.9942665,
          -2.675597,
          1.1859039,
          -4.1834846,
          2.7430143,
          -4.393996,
          -1.8076347,
          -0.32603604,
          5.88008,
          -4.2568207,
          -4.6392007,
          2.973405,
          -2.0353765,
          0.05506295,
          -0.10758854,
          -5.1957493,
          -0.15851274,
          4.2016687,
          3.4766412,
          0.26991653,
          -1.9081068,
          -5.6557813,
          -0.11817819,
          5.278866,
          -4.1228733,
          -0.45765364,
          -0.10574859,
          5.2483916,
          0.21366785,
          0.6542139,
          -0.73144394,
          -4.8856063,
          -6.387027,
          -6.0044007,
          -5.6853395,
          -4.781353,
          5.520163,
          -0.017862167,
          -5.038818,
          -4.0255976,
          -4.0382304,
          8.514263,
          -5.1762824,
          1.733003,
          -0.2782973,
          6.833803,
          -3.0601194,
          -0.06784047,
          -0.35444215,
          4.964214,
          3.4927504,
          -5.328286,
          -2.5145407,
          -0.46900517,
          0.42197484,
          -0.087735705,
          -2.165535,
          -2.9881387,
          7.0367584,
          6.054334,
          -4.173975,
          -0.30863947,
          -0.12077897,
          6.1740074,
          0.18758719,
          4.6899943,
          3.6455708,
          -0.21443573,
          -5.1116548,
          0.57838184,
          3.537959,
          -0.1620153,
          -1.4927386,
          7.240998,
          9.056182,
          -0.16357702,
          -5.7629514,
          2.7909806,
          3.196696,
          -4.6399994,
          7.507194,
          4.6609263,
          -5.070925,
          3.5277803,
          -0.4795145,
          -0.25977507,
          -0.40555435,
          -3.2190619,
          -4.555172,
          -0.12713788,
          3.007205,
          1.4663739,
          -0.03311703,
          -5.02779,
          0.68560606,
          -2.4446986,
          -5.0906143,
          -1.3660666,
          9.804872,
          0.15194453,
          -0.34951535,
          0.34103087,
          4.1015773,
          4.016106,
          0.17642163,
          -6.0222483,
          -1.5448257,
          8.546169,
          -0.5143495,
          0.042391613,
          6.2241826,
          4.708817,
          -3.0923617,
          -0.20838772,
          7.422493,
          -0.2619916,
          2.4362087,
          1.4072281,
          -2.7968614,
          -0.6875714,
          -3.190014,
          5.6439033,
          2.7226398,
          -0.6036925,
          -0.56758285,
          -5.4326825,
          4.8439426,
          -4.6089764,
          4.4869065,
          -5.1267276,
          -2.1551654,
          -5.0527916,
          5.3783417,
          7.562734,
          -0.19194506,
          1.6083897,
          0.43728063,
          0.096053675,
          -3.9304013,
          -0.09043699,
          4.2256203,
          0.96531326,
          -4.0834427,
          5.27226,
          -0.099819675,
          -5.704421,
          -4.229682,
          2.7668145,
          3.7754345,
          -0.14276642,
          -0.39444092,
          -5.979464,
          0.3947426,
          -2.1888034,
          0.8123979,
          3.943696,
          -2.881134,
          -4.8368173,
          -2.795464,
          5.3172364,
          -2.815227,
          4.2244015,
          6.325639,
          0.81893235,
          -4.476226,
          -0.9627629,
          1.850858,
          0.23444948,
          -0.42798814,
          1.5049231,
          -1.7776841,
          -0.07794162,
          -4.6669674,
          3.085312,
          0.46178797,
          0.5146468,
          -0.12984829,
          -5.6868944,
          1.1782141,
          -0.35040238,
          -0.11590191,
          2.462845,
          5.8073745,
          2.1925652,
          0.60434145,
          6.6695943,
          -4.339421,
          -4.8583026,
          -4.6134577,
          -0.40247053,
          -2.3171778,
          0.49237016,
          -4.735735,
          0.11731278,
          -0.21279186,
          3.9038322,
          -3.3880765,
          -0.87978786,
          -0.066371776,
          7.7102075,
          1.9196774,
          1.7514278,
          -0.13754009,
          -3.827252,
          0.021462467,
          2.6747243,
          4.355067,
          5.3673882,
          0.015470556,
          -5.4090447,
          -4.0265946,
          -4.6294103,
          -3.7456174,
          -5.1050434,
          -0.6478445,
          4.697643,
          -4.373489,
          -4.3044086,
          5.0308204,
          0.041191615,
          3.9324532,
          -6.3519454,
          -5.5202427,
          -1.1440752,
          -0.2492704,
          5.8563595,
          -2.0476058,
          -0.28400588,
          1.1825799,
          5.81221,
          -3.0678794,
          -5.222339,
          0.83366567,
          -0.4302257,
          7.307954,
          4.153533,
          -1.9083958,
          1.9355398,
          -3.30211,
          0.19024572,
          -4.8884354,
          5.3926454,
          0.88345593,
          -5.427392,
          -4.9913516,
          6.925957,
          -0.19130313,
          4.436752,
          3.8382843,
          -0.70351017,
          -0.22214644,
          -3.2449868,
          2.1072798,
          -3.7687478,
          6.76448,
          -0.07304279,
          -3.08511,
          -5.0893807,
          0.08527141,
          -2.4582963,
          2.826281,
          2.1560864,
          -5.3687406,
          6.3841033,
          -5.4715624,
          -4.7430506,
          -3.3115878,
          -2.7210717,
          5.182244,
          -0.116416626,
          3.6409104,
          5.1078033,
          0.07602539,
          -4.651013,
          -0.34656614,
          8.615822,
          -1.179715,
          -3.6866167,
          9.449895,
          -0.03512435,
          1.4071554,
          -0.7192753,
          -0.1832535,
          5.843092,
          0.34255216,
          -3.8341007,
          -0.20349993,
          -4.641274,
          0.91655725,
          -0.120413706,
          -0.39406052,
          1.0526713,
          -3.781975,
          -5.403044,
          0.020594,
          -0.19951303,
          -0.10844162,
          -2.824519,
          -0.20493083,
          -1.5730171,
          -1.7817204,
          -5.2596793,
          -0.17046177,
          -1.5928038,
          -3.8645148,
          -3.7291694,
          -0.169983,
          -0.2524078,
          -3.8105361,
          3.5645356,
          -0.594881,
          -0.3296944,
          -4.5151134,
          -4.9423223,
          -5.147569,
          -0.33260292,
          0.8542299,
          3.5285838,
          -0.740318,
          -0.017880203,
          -0.00074549846,
          7.262526,
          -4.9254427,
          6.324935,
          6.9974103,
          5.5326166,
          -4.2614546,
          1.6948397,
          6.9153614,
          -4.5794907,
          -1.5919856,
          2.882536,
          0.51039135,
          0.07977517,
          6.175673,
          7.160353,
          7.6380906,
          -4.192073,
          -0.080262266,
          3.091623,
          -5.989314,
          5.680278,
          3.5980515,
          -4.910084,
          -4.624479,
          -1.9283018,
          0.31141207,
          4.0489097,
          -5.9129405,
          2.0520077,
          -0.094950795,
          -0.10320841,
          -4.492097,
          -5.4546685,
          2.4544013,
          7.714,
          2.0143623,
          -0.07523797,
          0.42013997,
          -5.9200315,
          -4.0641017,
          -0.94819427,
          -0.17453192,
          -2.4294436,
          -0.14677674,
          -0.019191528,
          7.233683,
          0.12395568,
          -0.09860783,
          2.515725,
          3.2871642,
          4.892946,
          -0.32676688,
          -5.1467123,
          -4.795875,
          0.34570885,
          -4.8557324,
          -0.11884418,
          0.3591863,
          0.0128275,
          0.27878574,
          -3.8248816,
          -0.408147,
          -0.1094555,
          5.2882266,
          7.9893165,
          5.231786,
          -2.2199636,
          3.1927016,
          -3.5187695,
          -0.22641276,
          -0.27573752,
          0.035375793,
          -4.4769473,
          -1.8551102,
          -0.27548745,
          -0.31140262,
          4.031724,
          0.066679254,
          -4.1971045,
          0.013848156,
          -1.0794432,
          -0.14533275,
          -3.6285822,
          -4.6338468,
          -4.951635,
          -3.089039,
          -0.3558332,
          -4.757745,
          -2.087203,
          -0.22649719,
          1.4666574,
          -0.26022062,
          0.2370886,
          -1.5628067,
          -0.17226677,
          -6.1703467,
          7.6300883,
          2.5596287,
          4.586127,
          6.62345,
          6.88795,
          -2.8276088,
          5.426786,
          -4.4174995,
          1.2966743,
          -0.5155466,
          -0.34934837,
          -0.37550518,
          -0.5067875,
          -0.5922173,
          -4.7350473,
          -4.5119467,
          -2.3130016,
          -0.34197283,
          -5.9165616,
          1.7980287,
          0.030215751,
          0.12433091,
          0.008271039,
          -0.076767154,
          5.4706798,
          0.02478005,
          -0.1825382,
          4.2216325,
          -0.04228091,
          -5.2071185,
          -5.4870286,
          8.122837,
          -4.5187187,
          -0.629147,
          -4.2277164,
          -2.2173724,
          -0.2424442,
          -0.017884118,
          -0.18677376,
          2.8432446,
          3.2394502,
          0.06053563,
          -3.5186481,
          -0.18776207,
          3.78542,
          1.1150771,
          -2.2256813,
          0.66109663,
          2.5402024,
          -3.613723,
          6.05225,
          -0.23373082,
          -2.6848173,
          -0.33746663,
          1.3042353,
          -0.69249743,
          4.885528,
          4.474018,
          -2.3554966,
          1.6914788,
          -0.2625422,
          -0.31250143,
          7.6254597,
          1.2552623,
          1.23034,
          -3.6666522,
          -5.018492,
          5.540461,
          -2.8160405,
          -3.6292143,
          -2.633239,
          1.0700577,
          -5.0600085,
          -1.1275564,
          -0.35015243,
          -3.1497242,
          0.2465156,
          -0.9074311,
          6.5507007,
          -4.291009,
          0.18987267,
          -5.989188,
          -4.0263767,
          -4.942773,
          -0.032559644,
          2.0102968,
          -4.572215,
          6.291835,
          -0.27558324,
          2.0056067,
          2.6550655,
          -0.08102473,
          -0.100118734,
          -4.1797185,
          -3.601652,
          6.3096185,
          7.74678,
          6.0883737,
          -1.8663446,
          -0.2246852,
          -0.3252531,
          -0.21416987,
          -0.17235845,
          -0.44046485,
          3.2464669,
          -7.620406,
          -0.40354124,
          -4.753639,
          6.804037,
          -0.2312802,
          -0.21764983,
          6.384369,
          -2.8484855,
          0.2943179,
          4.2490716,
          7.674454,
          -3.6678386,
          -5.4162793,
          -3.5356936,
          5.6357245,
          -0.227218,
          -4.073567,
          -3.4039795,
          -4.3689046,
          -1.0640794,
          -2.4025128,
          8.574871,
          -0.09717167,
          -0.56876045,
          -3.4177258,
          0.75933343,
          1.9614825,
          -4.6997395,
          -0.27394667,
          -4.51265,
          2.213975,
          -0.39065203,
          -0.3716615,
          -0.12524283,
          0.15465803,
          -3.0986798,
          -5.1933246,
          6.7938585,
          -2.8576632,
          3.2430506,
          1.7368487,
          2.3279297,
          -0.8836944,
          -5.00767,
          -0.3180231,
          -3.9925225,
          0.5127605,
          4.8683195,
          1.5633931,
          1.6214861,
          -0.46517894,
          -5.7294536,
          -0.35711667,
          4.3456383,
          -0.9926347,
          -2.7643266,
          -2.7495894,
          0.34516296,
          -0.9328664,
          -0.5823386,
          -5.0839305,
          7.2493634,
          2.4048455,
          -3.7776842,
          0.046012823,
          3.9929132,
          -0.06842521,
          4.156534,
          -0.23276782,
          0.015700385,
          -4.2631087,
          -1.0622338,
          -0.2595066,
          -0.18428317,
          -2.3488216,
          7.0138254,
          3.395973,
          -0.30223003,
          3.2564175,
          4.023834,
          5.9124637,
          2.242723,
          4.342572,
          -2.3231819,
          -0.13218082,
          0.0817381,
          -5.226634,
          -0.4961861,
          6.2104807,
          5.126021,
          0.22153132,
          -0.4416009,
          -0.6109645,
          -4.0869546,
          -5.622249,
          -1.7782251,
          2.9243326,
          0.06495072,
          6.2606645,
          -2.9519699,
          4.0855203,
          -0.9473137,
          -0.3326223,
          0.26127562,
          -2.932333,
          -2.3370397,
          -2.9241207,
          3.4499605,
          4.0011616,
          0.6592161,
          -4.799777,
          3.0774982,
          0.73900217,
          0.0777879,
          5.2702613,
          -5.5313497,
          -1.3832229,
          -5.1523776,
          -0.07794349,
          -3.9819705,
          -5.3741837,
          -5.8350387,
          -3.057871,
          0.00038668868,
          -2.3925824,
          5.656722,
          2.4827342,
          5.1286516,
          3.2726693,
          -5.01549,
          -0.11760628,
          7.594534,
          -0.63580894,
          6.197033,
          5.2949085,
          -2.9212208,
          3.60763,
          -4.6027946,
          -5.5550675,
          -1.7503641,
          -4.934828,
          8.705095,
          3.42746,
          9.062017,
          5.977782,
          -2.8589308,
          3.8259785,
          -5.4058213,
          0.08073709,
          2.4441402,
          0.3733024,
          0.38602278,
          -4.6487403,
          -3.6823084,
          3.63741,
          -0.68848115,
          -0.20347819,
          -2.3576055,
          0.7915965,
          5.5448914,
          5.3037667,
          6.2881417,
          -0.8922813,
          -0.575909,
          -2.6223104,
          -0.075654484,
          -1.4255922,
          -0.25399673,
          -1.0186524,
          -0.37937856,
          -2.2677498,
          -3.5949328,
          -3.3834171,
          -4.3837233,
          -1.1930851,
          -5.168813,
          -1.8638256,
          -4.35708,
          0.3722126,
          6.2992954,
          -4.342581,
          5.832529,
          6.2282953,
          -3.8766415,
          -5.0604644,
          0.3050174,
          -0.08761785,
          -0.9631586,
          -0.31866577,
          -0.30633983,
          -4.976629,
          4.8313704,
          -5.232042,
          10.134351,
          -5.2722263,
          5.668147,
          -0.17807733,
          -1.1410899,
          -2.6084244,
          9.401648,
          1.9231901,
          7.1255307,
          4.5243874,
          -0.19074637,
          -2.5386088,
          -4.2085924,
          -4.4009695,
          6.9353566,
          -2.8233707,
          -3.4749784,
          -5.149385,
          4.5828185,
          -4.36077,
          -1.2020961,
          0.29282787,
          6.2581334,
          -4.716631,
          4.120464,
          -2.0031245,
          -4.825764,
          -2.099933,
          0.04343602,
          7.54597,
          -0.16758877,
          0.70088303,
          -3.920331,
          -2.139006,
          2.677587,
          0.8127078,
          4.191694,
          -2.440308,
          -5.6043167,
          -4.4283752,
          -0.064528935,
          2.0718117,
          -2.492811,
          4.153715,
          -4.72101,
          -2.6462944,
          -4.5848966,
          -5.8301926,
          2.4676046,
          -2.8014705,
          4.44901,
          1.6016774,
          -2.295824,
          -0.28605887,
          7.3189864,
          -0.022931905,
          -3.2375126,
          -2.6632323,
          0.17036568,
          -1.6782005,
          -5.053042,
          0.037342902,
          8.585628,
          -0.40429345,
          6.2377143,
          -2.800331,
          1.2618284,
          -3.5980792,
          5.003503,
          0.84326893,
          0.0003282713,
          2.9490921,
          -2.28766,
          6.3846493,
          -0.13091053,
          6.891476,
          -5.1257753,
          -1.0468699,
          -4.812871,
          -4.6138253,
          -1.1458597,
          2.5225308,
          -5.925977,
          -0.3876385,
          -0.7052081,
          5.315735,
          -3.3567119,
          6.361808,
          7.1442194,
          -2.8762333,
          -3.812469,
          0.86577153,
          -3.2417614,
          0.024627365,
          -1.3066323,
          0.0407021,
          5.5425887,
          -5.039152,
          5.0014353,
          -0.17258798,
          -2.1553454,
          -0.1645473,
          0.06713598,
          -6.019012,
          -5.027851,
          3.9932463,
          0.50297034,
          -4.7224236,
          0.9837802,
          -0.1360655,
          6.4791365,
          -0.00032136717,
          0.5451853,
          7.072865,
          -0.6613763,
          7.8696685,
          -5.762926,
          -0.40375596,
          -3.4796586,
          2.513901,
          0.3063246,
          -1.9364946,
          -1.2552154,
          -0.48490041,
          3.0978694,
          -4.7625556,
          -1.1121117,
          4.755749,
          3.8138971,
          -0.08581999,
          3.198783,
          -5.372708,
          8.509036,
          0.075045034,
          -0.93186593,
          9.627507,
          1.9441711,
          3.9062023,
          4.1486983,
          4.304624,
          -1.2033285,
          0.7254824,
          -4.567988,
          -5.9490128,
          -0.26453805,
          2.5553625,
          -0.6089342,
          -4.5727506,
          0.68008906,
          -3.0455222,
          0.23279409,
          -0.73435,
          0.46633962,
          5.4432273,
          -0.983121,
          -1.4191936,
          -0.31148824,
          -0.41285416,
          -2.0211635,
          -1.2213382,
          0.64478,
          5.8997064,
          -0.41006184,
          0.1897994,
          0.39814085,
          0.08625123,
          3.8611095,
          -0.4426978,
          -2.211364,
          -5.037138,
          -4.2766194,
          5.4246783,
          -6.212965,
          -0.19062737,
          -5.577848,
          -3.1615016,
          -2.175308,
          6.8099165,
          5.2494555,
          -3.152202,
          0.18782224,
          -0.37818632,
          -2.1363678,
          8.185396,
          5.0402493,
          -3.5120814,
          0.36636218,
          0.19999935,
          7.609989,
          -5.3784733,
          -5.398769,
          -0.8911815,
          -0.28750816,
          5.107607,
          -0.2893516,
          -3.4220123,
          0.69424766,
          3.021087,
          0.38820723,
          -4.03525,
          -4.8627024,
          -2.2901437,
          -0.090223566,
          -0.18538794,
          -4.6898537,
          -5.0633364,
          6.0991006,
          -2.537328,
          -0.5571884,
          -4.402088,
          -0.44434208,
          -2.786571,
          0.17950977,
          -5.0326076,
          -4.3580623,
          -4.0623903,
          -3.8669279,
          0.55655444,
          8.147384,
          0.5904268,
          5.082597,
          -0.19150236,
          -0.7342077,
          -4.7627144,
          2.9585094,
          7.6536884,
          4.4239197,
          3.4334784,
          1.9106305,
          -5.593071,
          -0.46680546,
          -0.1728831,
          -0.2377644,
          4.5911717,
          -0.74124295,
          -0.5762019,
          -0.16845767,
          4.1444592,
          6.8294606,
          -0.3774909,
          0.040164076,
          1.4919727,
          -5.206071,
          -0.14520884,
          -4.999411,
          -3.2415788,
          -0.64992386,
          0.010540405,
          1.306441,
          -0.21390027,
          -5.4605083,
          -4.611648,
          7.69774,
          -3.4410217,
          -3.6738935,
          -2.5299332,
          -5.7481713,
          -3.1878788,
          0.06787424,
          -4.5387287,
          -5.2019224,
          0.035911616,
          -4.864899,
          -4.8424053,
          -0.13571496,
          1.1147821,
          7.2853084,
          -0.20766114,
          -1.2720175,
          -2.3056414,
          -0.25692376,
          -3.4219954,
          3.4542243,
          5.805448,
          -0.315103,
          -3.873002,
          0.8536624,
          4.4649563,
          7.5787234,
          -4.0454936,
          -0.3364604,
          1.3812227,
          -1.5651625,
          5.0944743,
          0.55796593,
          -4.094151,
          1.6305833,
          -1.2856055,
          0.16306518,
          4.4199286,
          2.3082998,
          -0.6790696,
          -3.7915833,
          -1.4014896,
          -1.1872953,
          -3.330407,
          -5.0778847,
          -5.0572915,
          -1.0721884,
          -4.506656,
          3.2834034,
          -5.182593,
          3.3409824,
          -0.044496965,
          0.51721895,
          -0.40897253,
          -0.43655425,
          1.6976051,
          -0.077956185,
          -0.35294732,
          -0.22374402,
          4.771425,
          -0.40407938,
          5.4174447,
          -4.0104613,
          2.0481503,
          6.738479,
          2.2674222,
          1.1137438,
          1.60348,
          7.239127,
          -4.054639,
          7.8386984,
          -1.3234149,
          -0.52685404,
          1.7089986,
          -0.21110317,
          -0.1379256,
          -5.575662,
          -0.11111527,
          -0.4381153,
          -0.14480628,
          -3.4694526,
          5.3753037,
          -0.14916644,
          -4.3877735,
          -5.1532507,
          -0.21911909,
          -0.5787948,
          -4.326846,
          -3.2856684,
          -0.15474497,
          -0.0070597464,
          5.7186475,
          0.21013178,
          1.2702595,
          -0.7076747,
          -0.27898586,
          -5.131004,
          0.14957885,
          -0.343868,
          -0.7607166,
          7.187673,
          -0.96492183,
          1.559946,
          0.54988366,
          6.445478,
          -0.012209649,
          -3.811108,
          0.058844633,
          -1.0304166,
          -0.17275828,
          -4.798507,
          -0.20654216,
          -3.1665657,
          0.054561585,
          4.2242746,
          -1.7767472,
          -6.4733152,
          -3.8246682,
          -6.3216114,
          -2.175868,
          7.54661,
          -0.049142927,
          0.8464145,
          1.8529415,
          4.22472,
          -5.0613003,
          -5.1119432,
          0.81271964,
          7.243201,
          -0.29495615,
          7.293897,
          -0.13594906,
          6.1174536,
          5.0503564,
          -4.8661275,
          -4.5660415,
          -0.95225966,
          -3.422826,
          8.238319,
          -3.2227101,
          -0.3052732,
          -3.561023,
          -5.381846,
          4.6027246,
          4.952581,
          3.8382666,
          5.6851463,
          2.6137638,
          -5.302384,
          2.6279123,
          -0.099570304,
          -5.725787,
          4.9419346,
          -1.703343,
          -0.24727894,
          -0.42166975,
          2.8364513,
          -5.4152436,
          -4.418168,
          7.131834,
          0.01881717,
          0.052488435,
          -4.4962273,
          0.07776532,
          5.0507507,
          0.58497053,
          -4.416287,
          -2.8323617,
          0.010333533,
          -4.4907045,
          -1.3213261,
          8.064386,
          -2.9223828,
          1.387182,
          1.1370915,
          -0.042570252,
          -5.4770226,
          -0.2653368,
          -0.9311429,
          -3.409841,
          -3.4280846,
          2.1681645,
          7.3065596,
          -0.08359107,
          -5.0681286,
          3.4616318,
          -2.5558853,
          -4.495299,
          -5.909564,
          -1.7412324,
          4.7364573,
          -4.68225,
          5.816274,
          -0.92396724,
          -6.580925,
          -5.685795,
          0.19509603,
          1.5633976,
          0.27556577,
          -4.8691764,
          2.620305,
          7.1642747,
          7.2992663,
          -4.7823615,
          -0.06665597,
          -0.10275659,
          -3.4748437,
          -5.3604536,
          -3.5328157,
          3.7652204,
          -0.12053708,
          -2.9543126,
          0.20055757,
          -4.662224,
          -2.2803688,
          -0.29850176,
          -2.7958264,
          -0.1799231,
          -1.6720855,
          5.8957872,
          -0.037548676,
          -3.1378808,
          -2.1160126,
          2.667001,
          -0.22025025,
          -5.1746106,
          -0.189416,
          -0.46704352,
          6.7442403,
          -0.3066628,
          5.3333106,
          0.8506391,
          0.22089228,
          -3.2186909,
          -5.2308784,
          7.970736,
          6.7023826,
          -4.968776,
          -1.0936972,
          5.6884317,
          4.6542478,
          -2.891673,
          1.1278648,
          -0.5902721,
          6.7016706,
          5.23301,
          -3.7389832,
          -0.1274611,
          -4.351649,
          6.6588073,
          -4.7356687,
          5.120652,
          -0.7405353,
          -3.1211183,
          4.367613,
          4.4499316,
          -3.994533,
          -5.0522776,
          -1.6209645,
          2.9397871,
          5.8762274,
          -0.120046966,
          2.103802,
          7.3846045,
          7.280301,
          4.819592,
          -0.13451402,
          7.113861,
          6.5954285,
          6.3738017,
          -0.47963512,
          -1.6371659,
          -3.29259,
          -4.617868,
          -4.9863706,
          -5.00422,
          7.275812,
          0.15455078,
          4.009045,
          -0.37623614,
          2.2634327,
          -0.11842052,
          5.3756695,
          0.77569985,
          -2.6345584,
          -2.9678526,
          -4.974706,
          -3.3047428,
          -5.067056,
          0.41086712,
          5.894988,
          -5.3314238,
          -0.17427239,
          0.21972927,
          -0.26470053,
          -2.633464,
          -3.0584378,
          2.0932045,
          -4.7643547,
          -1.0851127,
          -3.5505738,
          -4.4115987,
          -4.883441,
          3.207337,
          2.6548285,
          -0.17830674,
          0.80673224,
          -0.8934328,
          3.426058,
          6.820329,
          -4.378792,
          -0.29143173,
          6.508967,
          2.5807621,
          5.9533,
          0.14947018,
          -5.416211,
          5.2307386,
          -7.343481,
          3.8395202,
          -0.25702348,
          4.831257,
          4.404492,
          -0.04485193,
          0.78037363,
          -3.6836495,
          7.017821,
          7.311431,
          2.6479115,
          5.848129,
          -0.2591553,
          7.165351,
          -4.6191936,
          -4.9840465,
          -5.4258866,
          -0.23915726,
          0.050881267,
          1.3985454,
          7.038783,
          -4.3344946,
          -0.13937452,
          0.85181177,
          -0.1808503,
          -3.7488277,
          -4.9196672,
          0.25992605,
          0.22421871,
          -5.1767926,
          1.9560536,
          -0.2244561,
          -0.94242585,
          8.922145,
          4.2839856,
          -2.5938394,
          6.9035797,
          -0.21045692,
          -4.6966996,
          -0.13709149,
          5.2395077,
          0.118923984,
          6.440971,
          -0.20015757,
          -0.21494506,
          5.5971794,
          -1.7076428,
          -1.933569,
          6.653628,
          4.0028863,
          -0.23699707,
          -0.14765105,
          6.5742974,
          -5.4406834,
          4.1646543,
          2.4531252,
          -0.40002126,
          -3.4647493,
          1.2680527,
          -4.9766254,
          -4.9960084,
          -3.3795009,
          0.5456736,
          6.476583,
          -1.4863667,
          0.5426745,
          -5.049384,
          -0.2351685,
          -0.48046255,
          2.4596827,
          5.651171,
          -4.6550307,
          -0.34222433,
          0.8103006,
          6.125404,
          4.7610283,
          8.407869,
          -0.18408374,
          -3.958637,
          -0.03991043,
          -0.7436991,
          3.3772142,
          1.0871612,
          -0.843094,
          -0.40175506,
          7.691853,
          -0.20641539,
          -0.16929103,
          1.4702563,
          1.702561,
          2.063221,
          0.15244181,
          -0.23506467,
          -2.8222322,
          -0.44242606,
          3.952995,
          6.654982,
          0.060852308,
          -3.9140909,
          -0.96978724,
          0.29419655,
          -4.8093996,
          -0.27506623,
          8.269974,
          0.51737267,
          0.1510621,
          -3.713992,
          -0.3508418,
          -4.3513203,
          -0.16280083,
          -0.108749986,
          0.06991039,
          4.282036,
          -4.281741,
          -0.2271932,
          3.5704827,
          -2.3447664,
          -2.5486054,
          -0.20087367,
          -3.2809045,
          0.31202918,
          -4.5486946,
          4.887932,
          3.154227,
          -5.7469287,
          -0.3145677,
          0.3556092,
          -5.3485126,
          -0.18509592,
          -0.17958595,
          2.1488535,
          1.5567409,
          -2.9523072,
          3.9319842,
          0.88044256,
          -4.9278464,
          -4.2687845,
          -0.03889234,
          -0.090581946,
          4.133183,
          -0.083327465,
          -3.550495,
          -4.485774,
          4.882937,
          1.6325295,
          4.453631,
          -0.020185428,
          -4.5319777,
          3.5805888,
          -3.0880632,
          -4.2964582,
          0.34343004,
          -6.361246,
          0.33850756,
          1.3733594,
          -4.3486333,
          -3.9740195,
          -4.9843884,
          -4.5840807,
          2.159768,
          5.252769,
          4.956988,
          2.2403908,
          -0.41840714,
          0.24199054,
          1.6483203,
          3.4690616,
          1.7146332,
          -3.3848546,
          -4.034286,
          -4.2595353,
          -4.088281,
          2.8876805,
          2.515582,
          -2.2471712,
          4.522838,
          4.138456,
          -1.0686135,
          -0.33425435,
          -4.279168,
          0.4759753,
          -0.3034015,
          -0.011013906,
          4.5800524,
          -2.212071,
          -0.54149836,
          0.81215787,
          -5.9960504,
          -0.47678176,
          -0.09787823,
          -4.490816,
          2.1279018,
          1.8179454,
          6.8393755,
          -3.5674381,
          -0.107978016,
          6.4613624,
          -0.18776914,
          7.427297,
          -2.736627,
          7.447867,
          2.8576477,
          -1.608551,
          -3.3154905,
          -0.17169255,
          -0.48515454,
          -5.2002416,
          -2.4968462,
          -2.047142,
          2.8067522,
          -5.0488586,
          -4.2325363,
          5.497878,
          0.44352812,
          4.031636,
          0.29408827,
          6.0440397,
          -3.4965549,
          5.8027315,
          -0.14961495,
          2.4065003,
          -4.27591,
          2.6459858,
          3.4567206,
          2.9577947,
          3.5200036,
          3.3145485,
          -2.4549284,
          -5.6965976,
          -0.15691784,
          -4.1042237,
          -0.22122605,
          -4.857148,
          -2.3066664,
          -5.227824,
          -0.36450598,
          -4.3193555,
          -3.0827274,
          -3.6838458,
          0.46939072,
          -0.1823501,
          -3.3720212,
          0.40617165,
          -0.11497029,
          7.2501135,
          1.1357833,
          0.10236257,
          -6.4453354,
          0.007709228,
          0.22491096,
          -4.3116913,
          4.669874,
          -4.542976,
          0.3684517,
          -0.15989497,
          -1.4981598,
          -0.0054630246,
          -4.5191402,
          -5.248622,
          1.6697003,
          6.326819,
          -5.319432,
          6.729775,
          -5.3559914,
          -4.9852395,
          -3.6073723,
          2.7681537,
          2.201772,
          -5.543914,
          3.249632
         ],
         "yaxis": "y"
        },
        {
         "customdata": [
          [
           "chinese"
          ]
         ],
         "hovertemplate": "highlight=%{text}<br>x=%{x}<br>y=%{y}<br>word=%{customdata[0]}<extra></extra>",
         "legendgroup": "chinese",
         "marker": {
          "color": "#EF553B",
          "symbol": "circle"
         },
         "mode": "markers+text",
         "name": "chinese",
         "showlegend": true,
         "text": [
          "chinese"
         ],
         "type": "scattergl",
         "x": [
          -4.9310617
         ],
         "xaxis": "x",
         "y": [
          -1.0310621
         ],
         "yaxis": "y"
        }
       ],
       "layout": {
        "legend": {
         "title": {
          "text": "highlight"
         },
         "tracegroupgap": 0
        },
        "template": {
         "data": {
          "bar": [
           {
            "error_x": {
             "color": "#2a3f5f"
            },
            "error_y": {
             "color": "#2a3f5f"
            },
            "marker": {
             "line": {
              "color": "#E5ECF6",
              "width": 0.5
             },
             "pattern": {
              "fillmode": "overlay",
              "size": 10,
              "solidity": 0.2
             }
            },
            "type": "bar"
           }
          ],
          "barpolar": [
           {
            "marker": {
             "line": {
              "color": "#E5ECF6",
              "width": 0.5
             },
             "pattern": {
              "fillmode": "overlay",
              "size": 10,
              "solidity": 0.2
             }
            },
            "type": "barpolar"
           }
          ],
          "carpet": [
           {
            "aaxis": {
             "endlinecolor": "#2a3f5f",
             "gridcolor": "white",
             "linecolor": "white",
             "minorgridcolor": "white",
             "startlinecolor": "#2a3f5f"
            },
            "baxis": {
             "endlinecolor": "#2a3f5f",
             "gridcolor": "white",
             "linecolor": "white",
             "minorgridcolor": "white",
             "startlinecolor": "#2a3f5f"
            },
            "type": "carpet"
           }
          ],
          "choropleth": [
           {
            "colorbar": {
             "outlinewidth": 0,
             "ticks": ""
            },
            "type": "choropleth"
           }
          ],
          "contour": [
           {
            "colorbar": {
             "outlinewidth": 0,
             "ticks": ""
            },
            "colorscale": [
             [
              0,
              "#0d0887"
             ],
             [
              0.1111111111111111,
              "#46039f"
             ],
             [
              0.2222222222222222,
              "#7201a8"
             ],
             [
              0.3333333333333333,
              "#9c179e"
             ],
             [
              0.4444444444444444,
              "#bd3786"
             ],
             [
              0.5555555555555556,
              "#d8576b"
             ],
             [
              0.6666666666666666,
              "#ed7953"
             ],
             [
              0.7777777777777778,
              "#fb9f3a"
             ],
             [
              0.8888888888888888,
              "#fdca26"
             ],
             [
              1,
              "#f0f921"
             ]
            ],
            "type": "contour"
           }
          ],
          "contourcarpet": [
           {
            "colorbar": {
             "outlinewidth": 0,
             "ticks": ""
            },
            "type": "contourcarpet"
           }
          ],
          "heatmap": [
           {
            "colorbar": {
             "outlinewidth": 0,
             "ticks": ""
            },
            "colorscale": [
             [
              0,
              "#0d0887"
             ],
             [
              0.1111111111111111,
              "#46039f"
             ],
             [
              0.2222222222222222,
              "#7201a8"
             ],
             [
              0.3333333333333333,
              "#9c179e"
             ],
             [
              0.4444444444444444,
              "#bd3786"
             ],
             [
              0.5555555555555556,
              "#d8576b"
             ],
             [
              0.6666666666666666,
              "#ed7953"
             ],
             [
              0.7777777777777778,
              "#fb9f3a"
             ],
             [
              0.8888888888888888,
              "#fdca26"
             ],
             [
              1,
              "#f0f921"
             ]
            ],
            "type": "heatmap"
           }
          ],
          "heatmapgl": [
           {
            "colorbar": {
             "outlinewidth": 0,
             "ticks": ""
            },
            "colorscale": [
             [
              0,
              "#0d0887"
             ],
             [
              0.1111111111111111,
              "#46039f"
             ],
             [
              0.2222222222222222,
              "#7201a8"
             ],
             [
              0.3333333333333333,
              "#9c179e"
             ],
             [
              0.4444444444444444,
              "#bd3786"
             ],
             [
              0.5555555555555556,
              "#d8576b"
             ],
             [
              0.6666666666666666,
              "#ed7953"
             ],
             [
              0.7777777777777778,
              "#fb9f3a"
             ],
             [
              0.8888888888888888,
              "#fdca26"
             ],
             [
              1,
              "#f0f921"
             ]
            ],
            "type": "heatmapgl"
           }
          ],
          "histogram": [
           {
            "marker": {
             "pattern": {
              "fillmode": "overlay",
              "size": 10,
              "solidity": 0.2
             }
            },
            "type": "histogram"
           }
          ],
          "histogram2d": [
           {
            "colorbar": {
             "outlinewidth": 0,
             "ticks": ""
            },
            "colorscale": [
             [
              0,
              "#0d0887"
             ],
             [
              0.1111111111111111,
              "#46039f"
             ],
             [
              0.2222222222222222,
              "#7201a8"
             ],
             [
              0.3333333333333333,
              "#9c179e"
             ],
             [
              0.4444444444444444,
              "#bd3786"
             ],
             [
              0.5555555555555556,
              "#d8576b"
             ],
             [
              0.6666666666666666,
              "#ed7953"
             ],
             [
              0.7777777777777778,
              "#fb9f3a"
             ],
             [
              0.8888888888888888,
              "#fdca26"
             ],
             [
              1,
              "#f0f921"
             ]
            ],
            "type": "histogram2d"
           }
          ],
          "histogram2dcontour": [
           {
            "colorbar": {
             "outlinewidth": 0,
             "ticks": ""
            },
            "colorscale": [
             [
              0,
              "#0d0887"
             ],
             [
              0.1111111111111111,
              "#46039f"
             ],
             [
              0.2222222222222222,
              "#7201a8"
             ],
             [
              0.3333333333333333,
              "#9c179e"
             ],
             [
              0.4444444444444444,
              "#bd3786"
             ],
             [
              0.5555555555555556,
              "#d8576b"
             ],
             [
              0.6666666666666666,
              "#ed7953"
             ],
             [
              0.7777777777777778,
              "#fb9f3a"
             ],
             [
              0.8888888888888888,
              "#fdca26"
             ],
             [
              1,
              "#f0f921"
             ]
            ],
            "type": "histogram2dcontour"
           }
          ],
          "mesh3d": [
           {
            "colorbar": {
             "outlinewidth": 0,
             "ticks": ""
            },
            "type": "mesh3d"
           }
          ],
          "parcoords": [
           {
            "line": {
             "colorbar": {
              "outlinewidth": 0,
              "ticks": ""
             }
            },
            "type": "parcoords"
           }
          ],
          "pie": [
           {
            "automargin": true,
            "type": "pie"
           }
          ],
          "scatter": [
           {
            "fillpattern": {
             "fillmode": "overlay",
             "size": 10,
             "solidity": 0.2
            },
            "type": "scatter"
           }
          ],
          "scatter3d": [
           {
            "line": {
             "colorbar": {
              "outlinewidth": 0,
              "ticks": ""
             }
            },
            "marker": {
             "colorbar": {
              "outlinewidth": 0,
              "ticks": ""
             }
            },
            "type": "scatter3d"
           }
          ],
          "scattercarpet": [
           {
            "marker": {
             "colorbar": {
              "outlinewidth": 0,
              "ticks": ""
             }
            },
            "type": "scattercarpet"
           }
          ],
          "scattergeo": [
           {
            "marker": {
             "colorbar": {
              "outlinewidth": 0,
              "ticks": ""
             }
            },
            "type": "scattergeo"
           }
          ],
          "scattergl": [
           {
            "marker": {
             "colorbar": {
              "outlinewidth": 0,
              "ticks": ""
             }
            },
            "type": "scattergl"
           }
          ],
          "scattermapbox": [
           {
            "marker": {
             "colorbar": {
              "outlinewidth": 0,
              "ticks": ""
             }
            },
            "type": "scattermapbox"
           }
          ],
          "scatterpolar": [
           {
            "marker": {
             "colorbar": {
              "outlinewidth": 0,
              "ticks": ""
             }
            },
            "type": "scatterpolar"
           }
          ],
          "scatterpolargl": [
           {
            "marker": {
             "colorbar": {
              "outlinewidth": 0,
              "ticks": ""
             }
            },
            "type": "scatterpolargl"
           }
          ],
          "scatterternary": [
           {
            "marker": {
             "colorbar": {
              "outlinewidth": 0,
              "ticks": ""
             }
            },
            "type": "scatterternary"
           }
          ],
          "surface": [
           {
            "colorbar": {
             "outlinewidth": 0,
             "ticks": ""
            },
            "colorscale": [
             [
              0,
              "#0d0887"
             ],
             [
              0.1111111111111111,
              "#46039f"
             ],
             [
              0.2222222222222222,
              "#7201a8"
             ],
             [
              0.3333333333333333,
              "#9c179e"
             ],
             [
              0.4444444444444444,
              "#bd3786"
             ],
             [
              0.5555555555555556,
              "#d8576b"
             ],
             [
              0.6666666666666666,
              "#ed7953"
             ],
             [
              0.7777777777777778,
              "#fb9f3a"
             ],
             [
              0.8888888888888888,
              "#fdca26"
             ],
             [
              1,
              "#f0f921"
             ]
            ],
            "type": "surface"
           }
          ],
          "table": [
           {
            "cells": {
             "fill": {
              "color": "#EBF0F8"
             },
             "line": {
              "color": "white"
             }
            },
            "header": {
             "fill": {
              "color": "#C8D4E3"
             },
             "line": {
              "color": "white"
             }
            },
            "type": "table"
           }
          ]
         },
         "layout": {
          "annotationdefaults": {
           "arrowcolor": "#2a3f5f",
           "arrowhead": 0,
           "arrowwidth": 1
          },
          "autotypenumbers": "strict",
          "coloraxis": {
           "colorbar": {
            "outlinewidth": 0,
            "ticks": ""
           }
          },
          "colorscale": {
           "diverging": [
            [
             0,
             "#8e0152"
            ],
            [
             0.1,
             "#c51b7d"
            ],
            [
             0.2,
             "#de77ae"
            ],
            [
             0.3,
             "#f1b6da"
            ],
            [
             0.4,
             "#fde0ef"
            ],
            [
             0.5,
             "#f7f7f7"
            ],
            [
             0.6,
             "#e6f5d0"
            ],
            [
             0.7,
             "#b8e186"
            ],
            [
             0.8,
             "#7fbc41"
            ],
            [
             0.9,
             "#4d9221"
            ],
            [
             1,
             "#276419"
            ]
           ],
           "sequential": [
            [
             0,
             "#0d0887"
            ],
            [
             0.1111111111111111,
             "#46039f"
            ],
            [
             0.2222222222222222,
             "#7201a8"
            ],
            [
             0.3333333333333333,
             "#9c179e"
            ],
            [
             0.4444444444444444,
             "#bd3786"
            ],
            [
             0.5555555555555556,
             "#d8576b"
            ],
            [
             0.6666666666666666,
             "#ed7953"
            ],
            [
             0.7777777777777778,
             "#fb9f3a"
            ],
            [
             0.8888888888888888,
             "#fdca26"
            ],
            [
             1,
             "#f0f921"
            ]
           ],
           "sequentialminus": [
            [
             0,
             "#0d0887"
            ],
            [
             0.1111111111111111,
             "#46039f"
            ],
            [
             0.2222222222222222,
             "#7201a8"
            ],
            [
             0.3333333333333333,
             "#9c179e"
            ],
            [
             0.4444444444444444,
             "#bd3786"
            ],
            [
             0.5555555555555556,
             "#d8576b"
            ],
            [
             0.6666666666666666,
             "#ed7953"
            ],
            [
             0.7777777777777778,
             "#fb9f3a"
            ],
            [
             0.8888888888888888,
             "#fdca26"
            ],
            [
             1,
             "#f0f921"
            ]
           ]
          },
          "colorway": [
           "#636efa",
           "#EF553B",
           "#00cc96",
           "#ab63fa",
           "#FFA15A",
           "#19d3f3",
           "#FF6692",
           "#B6E880",
           "#FF97FF",
           "#FECB52"
          ],
          "font": {
           "color": "#2a3f5f"
          },
          "geo": {
           "bgcolor": "white",
           "lakecolor": "white",
           "landcolor": "#E5ECF6",
           "showlakes": true,
           "showland": true,
           "subunitcolor": "white"
          },
          "hoverlabel": {
           "align": "left"
          },
          "hovermode": "closest",
          "mapbox": {
           "style": "light"
          },
          "paper_bgcolor": "white",
          "plot_bgcolor": "#E5ECF6",
          "polar": {
           "angularaxis": {
            "gridcolor": "white",
            "linecolor": "white",
            "ticks": ""
           },
           "bgcolor": "#E5ECF6",
           "radialaxis": {
            "gridcolor": "white",
            "linecolor": "white",
            "ticks": ""
           }
          },
          "scene": {
           "xaxis": {
            "backgroundcolor": "#E5ECF6",
            "gridcolor": "white",
            "gridwidth": 2,
            "linecolor": "white",
            "showbackground": true,
            "ticks": "",
            "zerolinecolor": "white"
           },
           "yaxis": {
            "backgroundcolor": "#E5ECF6",
            "gridcolor": "white",
            "gridwidth": 2,
            "linecolor": "white",
            "showbackground": true,
            "ticks": "",
            "zerolinecolor": "white"
           },
           "zaxis": {
            "backgroundcolor": "#E5ECF6",
            "gridcolor": "white",
            "gridwidth": 2,
            "linecolor": "white",
            "showbackground": true,
            "ticks": "",
            "zerolinecolor": "white"
           }
          },
          "shapedefaults": {
           "line": {
            "color": "#2a3f5f"
           }
          },
          "ternary": {
           "aaxis": {
            "gridcolor": "white",
            "linecolor": "white",
            "ticks": ""
           },
           "baxis": {
            "gridcolor": "white",
            "linecolor": "white",
            "ticks": ""
           },
           "bgcolor": "#E5ECF6",
           "caxis": {
            "gridcolor": "white",
            "linecolor": "white",
            "ticks": ""
           }
          },
          "title": {
           "x": 0.05
          },
          "xaxis": {
           "automargin": true,
           "gridcolor": "white",
           "linecolor": "white",
           "ticks": "",
           "title": {
            "standoff": 15
           },
           "zerolinecolor": "white",
           "zerolinewidth": 2
          },
          "yaxis": {
           "automargin": true,
           "gridcolor": "white",
           "linecolor": "white",
           "ticks": "",
           "title": {
            "standoff": 15
           },
           "zerolinecolor": "white",
           "zerolinewidth": 2
          }
         }
        },
        "title": {
         "text": " Visualization of 2D PCA of the legal-BERT Word Embeddings"
        },
        "xaxis": {
         "anchor": "y",
         "domain": [
          0,
          1
         ],
         "title": {
          "text": "x"
         }
        },
        "yaxis": {
         "anchor": "x",
         "domain": [
          0,
          1
         ],
         "title": {
          "text": "y"
         }
        }
       }
      }
     },
     "metadata": {},
     "output_type": "display_data"
    }
   ],
   "source": [
    "import plotly.express as px\n",
    "df_pca = pandas.DataFrame(pca_results, columns = ['x', 'y'])\n",
    "df_pca['word'] = list(bert_word_embeddings.keys())\n",
    "# Highlight the word 'chinese' in the plot\n",
    "df_pca['highlight'] = df_pca['word'].apply(lambda x: 'chinese' if x == 'chinese' else '')\n",
    "\n",
    "fig = px.scatter(\n",
    "    df_pca,\n",
    "    x='x',\n",
    "    y='y',\n",
    "    title=' Visualization of 2D PCA of the legal-BERT Word Embeddings',\n",
    "    color='highlight',                        \n",
    "    hover_data=['word'], \n",
    "    text= 'highlight'\n",
    ")\n",
    "\n",
    "fig.show()"
   ]
  },
  {
   "cell_type": "code",
   "execution_count": 17,
   "id": "194ef04f",
   "metadata": {},
   "outputs": [],
   "source": [
    "# Generate a t-SNE plot for visualization\n",
    "from sklearn.manifold import TSNE\n",
    "tsne = TSNE(n_components=2, random_state=42)\n",
    "\n",
    "tsne_results = tsne.fit_transform(word_embeddings)"
   ]
  },
  {
   "cell_type": "code",
   "execution_count": 18,
   "id": "f996fd92",
   "metadata": {},
   "outputs": [
    {
     "name": "stderr",
     "output_type": "stream",
     "text": [
      "c:\\Users\\Kaiyan Zhang\\AppData\\Local\\Programs\\Python\\Python312\\Lib\\site-packages\\plotly\\express\\_core.py:1983: FutureWarning:\n",
      "\n",
      "When grouping with a length-1 list-like, you will need to pass a length-1 tuple to get_group in a future version of pandas. Pass `(name,)` instead of `name` to silence this warning.\n",
      "\n"
     ]
    },
    {
     "data": {
      "application/vnd.plotly.v1+json": {
       "config": {
        "plotlyServerURL": "https://plot.ly"
       },
       "data": [
        {
         "customdata": [
          [
           "sanctioned"
          ],
          [
           "certain"
          ],
          [
           "conduct"
          ],
          [
           "every"
          ],
          [
           "past"
          ],
          [
           "raised"
          ],
          [
           "product"
          ],
          [
           "by"
          ],
          [
           "appealed"
          ],
          [
           "objection"
          ],
          [
           "accordingly"
          ],
          [
           "mean"
          ],
          [
           "class"
          ],
          [
           "heirs"
          ],
          [
           "intended"
          ],
          [
           "attacked"
          ],
          [
           "sum"
          ],
          [
           "towards"
          ],
          [
           "supported"
          ],
          [
           "naturalized"
          ],
          [
           "restrained"
          ],
          [
           "respect"
          ],
          [
           "five"
          ],
          [
           "applicable"
          ],
          [
           "conflict"
          ],
          [
           "danger"
          ],
          [
           "terms"
          ],
          [
           "says"
          ],
          [
           "included"
          ],
          [
           "constitutional"
          ],
          [
           "tribunal"
          ],
          [
           "sound"
          ],
          [
           "st"
          ],
          [
           "because"
          ],
          [
           "alarm"
          ],
          [
           "habits"
          ],
          [
           "purport"
          ],
          [
           "money"
          ],
          [
           "greater"
          ],
          [
           "come"
          ],
          [
           "occupied"
          ],
          [
           "masters"
          ],
          [
           "previous"
          ],
          [
           "judgment"
          ],
          [
           "turn"
          ],
          [
           "drawn"
          ],
          [
           "28"
          ],
          [
           "wisdom"
          ],
          [
           "objected"
          ],
          [
           "page"
          ],
          [
           "defeat"
          ],
          [
           "exemption"
          ],
          [
           "dollars"
          ],
          [
           "421"
          ],
          [
           "cases"
          ],
          [
           "strangers"
          ],
          [
           "civilized"
          ],
          [
           "observations"
          ],
          [
           "encourage"
          ],
          [
           "8th"
          ],
          [
           "licensea"
          ],
          [
           "native"
          ],
          [
           "foreign"
          ],
          [
           "lord"
          ],
          [
           "autonomy"
          ],
          [
           "gives"
          ],
          [
           "possessed"
          ],
          [
           "mere"
          ],
          [
           "possess"
          ],
          [
           "issue"
          ],
          [
           "interferes"
          ],
          [
           "sex"
          ],
          [
           "encroach"
          ],
          [
           "naturalization"
          ],
          [
           "117"
          ],
          [
           "undue"
          ],
          [
           "mousseau"
          ],
          [
           "form"
          ],
          [
           "entire"
          ],
          [
           "render"
          ],
          [
           "premiss"
          ],
          [
           "empty"
          ],
          [
           "unduly"
          ],
          [
           "nothing"
          ],
          [
           "bounds"
          ],
          [
           "makes"
          ],
          [
           "amount"
          ],
          [
           "owners"
          ],
          [
           "pre"
          ],
          [
           "interfered"
          ],
          [
           "foreigners"
          ],
          [
           "persons"
          ],
          [
           "lordships"
          ],
          [
           "4th"
          ],
          [
           "race"
          ],
          [
           "cited"
          ],
          [
           "higher"
          ],
          [
           "but"
          ],
          [
           "478"
          ],
          [
           "preamble"
          ],
          [
           "sessional"
          ],
          [
           "receive"
          ],
          [
           "inherent"
          ],
          [
           "enact"
          ],
          [
           "trade"
          ],
          [
           "opponents"
          ],
          [
           "affected"
          ],
          [
           "unconstitutional"
          ],
          [
           "incidentally"
          ],
          [
           "receipt"
          ],
          [
           "ample"
          ],
          [
           "sides"
          ],
          [
           "frequents"
          ],
          [
           "popular"
          ],
          [
           "julyon"
          ],
          [
           "v"
          ],
          [
           "secure"
          ],
          [
           "pretense"
          ],
          [
           "return"
          ],
          [
           "bylaws"
          ],
          [
           "31"
          ],
          [
           "contend"
          ],
          [
           "employing"
          ],
          [
           "either"
          ],
          [
           "court"
          ],
          [
           "forty"
          ],
          [
           "affects"
          ],
          [
           "starts"
          ],
          [
           "appointment"
          ],
          [
           "exhaustive"
          ],
          [
           "impossible"
          ],
          [
           "enacted"
          ],
          [
           "otherwise"
          ],
          [
           "levy"
          ],
          [
           "kong"
          ],
          [
           "goes"
          ],
          [
           "366"
          ],
          [
           "dictum"
          ],
          [
           "82"
          ],
          [
           "b"
          ],
          [
           "born"
          ],
          [
           "legislation"
          ],
          [
           "calculated"
          ],
          [
           "result"
          ],
          [
           "live"
          ],
          [
           "afterwards"
          ],
          [
           "exempt"
          ],
          [
           "negotiate"
          ],
          [
           "teems"
          ],
          [
           "citizens"
          ],
          [
           "been"
          ],
          [
           "successful"
          ],
          [
           "view"
          ],
          [
           "female"
          ],
          [
           "grounds"
          ],
          [
           "subject"
          ],
          [
           "their"
          ],
          [
           "intra"
          ],
          [
           "commercematters"
          ],
          [
           "certiorari"
          ],
          [
           "since"
          ],
          [
           "14"
          ],
          [
           "close"
          ],
          [
           "incidental"
          ],
          [
           "enter"
          ],
          [
           "6"
          ],
          [
           "thereafter"
          ],
          [
           "freedom"
          ],
          [
           "strong"
          ],
          [
           "held"
          ],
          [
           "unlawful"
          ],
          [
           "tion"
          ],
          [
           "interference"
          ],
          [
           "incalculable"
          ],
          [
           "notably"
          ],
          [
           "remarks"
          ],
          [
           "man"
          ],
          [
           "lawabiding"
          ],
          [
           "chong"
          ],
          [
           "comment"
          ],
          [
           "concurrent"
          ],
          [
           "re"
          ],
          [
           "bestow"
          ],
          [
           "p"
          ],
          [
           "hard"
          ],
          [
           "enquiry"
          ],
          [
           "servant"
          ],
          [
           "multitude"
          ],
          [
           "observes"
          ],
          [
           "will"
          ],
          [
           "burlingame"
          ],
          [
           "just"
          ],
          [
           "element"
          ],
          [
           "indictment"
          ],
          [
           "imposes"
          ],
          [
           "lieutenantgovernor"
          ],
          [
           "liability"
          ],
          [
           "restrict"
          ],
          [
           "affect"
          ],
          [
           "surrendered"
          ],
          [
           "were"
          ],
          [
           "knowingly"
          ],
          [
           "provided"
          ],
          [
           "should"
          ],
          [
           "otherscooleys"
          ],
          [
           "ont"
          ],
          [
           "esquire"
          ],
          [
           "far"
          ],
          [
           "call"
          ],
          [
           "construction"
          ],
          [
           "shown"
          ],
          [
           "quent"
          ],
          [
           "prescribed"
          ],
          [
           "taxing"
          ],
          [
           "commerce"
          ],
          [
           "convictions"
          ],
          [
           "dissimilar"
          ],
          [
           "concernedsaysfrom"
          ],
          [
           "reg"
          ],
          [
           "desecrators"
          ],
          [
           "all"
          ],
          [
           "more"
          ],
          [
           "declared"
          ],
          [
           "1884rather"
          ],
          [
           "18"
          ],
          [
           "emergencies"
          ],
          [
           "pronouncing"
          ],
          [
           "providing"
          ],
          [
           "knowing"
          ],
          [
           "june"
          ],
          [
           "touched"
          ],
          [
           "decide"
          ],
          [
           "although"
          ],
          [
           "dwarris"
          ],
          [
           "employé"
          ],
          [
           "equally"
          ],
          [
           "illegal"
          ],
          [
           "10"
          ],
          [
           "bind"
          ],
          [
           "though"
          ],
          [
           "contained"
          ],
          [
           "exhumation"
          ],
          [
           "authority"
          ],
          [
           "habitual"
          ],
          [
           "disability"
          ],
          [
           "insisted"
          ],
          [
           "probandi"
          ],
          [
           "whites"
          ],
          [
           "cropping"
          ],
          [
           "did"
          ],
          [
           "opinion"
          ],
          [
           "cooleys"
          ],
          [
           "gr"
          ],
          [
           "proper"
          ],
          [
           "vain"
          ],
          [
           "replythe"
          ],
          [
           "undesirable"
          ],
          [
           "see"
          ],
          [
           "guilty"
          ],
          [
           "gauge"
          ],
          [
           "encounter"
          ],
          [
           "empowered"
          ],
          [
           "nations"
          ],
          [
           "548"
          ],
          [
           "charge"
          ],
          [
           "shifted"
          ],
          [
           "due"
          ],
          [
           "prevent"
          ],
          [
           "closing"
          ],
          [
           "brought"
          ],
          [
           "under"
          ],
          [
           "and"
          ],
          [
           "towithin"
          ],
          [
           "lr"
          ],
          [
           "size"
          ],
          [
           "bar"
          ],
          [
           "liberty"
          ],
          [
           "exactness"
          ],
          [
           "excessive"
          ],
          [
           "political"
          ],
          [
           "elaborate"
          ],
          [
           "dependencies"
          ],
          [
           "635"
          ],
          [
           "as"
          ],
          [
           "uniform"
          ],
          [
           "very"
          ],
          [
           "injury"
          ],
          [
           "deals"
          ],
          [
           "829"
          ],
          [
           "employed"
          ],
          [
           "purposes"
          ],
          [
           "question"
          ],
          [
           "kents"
          ],
          [
           "at"
          ],
          [
           "officer"
          ],
          [
           "country"
          ],
          [
           "palpable"
          ],
          [
           "binding"
          ],
          [
           "received"
          ],
          [
           "help"
          ],
          [
           "further"
          ],
          [
           "no"
          ],
          [
           "least"
          ],
          [
           "everywhere"
          ],
          [
           "thirdlythe"
          ],
          [
           "occupation"
          ],
          [
           "establishing"
          ],
          [
           "loss"
          ],
          [
           "hereto"
          ],
          [
           "bill"
          ],
          [
           "revealed"
          ],
          [
           "knew"
          ],
          [
           "certificate"
          ],
          [
           "proposition"
          ],
          [
           "prohibiting"
          ],
          [
           "treated"
          ],
          [
           "ed"
          ],
          [
           "inequality"
          ],
          [
           "ratified"
          ],
          [
           "taxed"
          ],
          [
           "abridged"
          ],
          [
           "how"
          ],
          [
           "beyond"
          ],
          [
           "especial"
          ],
          [
           "they"
          ],
          [
           "whose"
          ],
          [
           "still"
          ],
          [
           "persecuted"
          ],
          [
           "provisionsand"
          ],
          [
           "tolerated"
          ],
          [
           "charges"
          ],
          [
           "with"
          ],
          [
           "instance"
          ],
          [
           "sister"
          ],
          [
           "confederation"
          ],
          [
           "was"
          ],
          [
           "professors"
          ],
          [
           "citizenfor"
          ],
          [
           "specially"
          ],
          [
           "wherein"
          ],
          [
           "particular"
          ],
          [
           "taking"
          ],
          [
           "put"
          ],
          [
           "laid"
          ],
          [
           "avoid"
          ],
          [
           "invalid"
          ],
          [
           "parrott"
          ],
          [
           "progresses"
          ],
          [
           "confirms"
          ],
          [
           "consequently"
          ],
          [
           "large"
          ],
          [
           "queen"
          ],
          [
           "425"
          ],
          [
           "won"
          ],
          [
           "invariable"
          ],
          [
           "prosecutions"
          ],
          [
           "same"
          ],
          [
           "owner"
          ],
          [
           "mans"
          ],
          [
           "purely"
          ],
          [
           "reproduced"
          ],
          [
           "effectually"
          ],
          [
           "perfect"
          ],
          [
           "came"
          ],
          [
           "precedent"
          ],
          [
           "reciprocal"
          ],
          [
           "federal"
          ],
          [
           "collect"
          ],
          [
           "jonas"
          ],
          [
           "always"
          ],
          [
           "labour"
          ],
          [
           "point"
          ],
          [
           "tests"
          ],
          [
           "knows"
          ],
          [
           "concerned"
          ],
          [
           "north"
          ],
          [
           "value"
          ],
          [
           "reasons"
          ],
          [
           "invasions"
          ],
          [
           "had"
          ],
          [
           "s"
          ],
          [
           "agents"
          ],
          [
           "venture"
          ],
          [
           "happens"
          ],
          [
           "present"
          ],
          [
           "powell"
          ],
          [
           "commission"
          ],
          [
           "again"
          ],
          [
           "make"
          ],
          [
           "each"
          ],
          [
           "enacts"
          ],
          [
           "irrefragable"
          ],
          [
           "fined"
          ],
          [
           "over"
          ],
          [
           "lexicon"
          ],
          [
           "j"
          ],
          [
           "affairs"
          ],
          [
           "amended"
          ],
          [
           "imprisoned"
          ],
          [
           "away"
          ],
          [
           "referring"
          ],
          [
           "regards"
          ],
          [
           "27"
          ],
          [
           "incessant"
          ],
          [
           "burah"
          ],
          [
           "anything"
          ],
          [
           "numerous"
          ],
          [
           "three"
          ],
          [
           "exclusion"
          ],
          [
           "would"
          ],
          [
           "things"
          ],
          [
           "throughout"
          ],
          [
           "august"
          ],
          [
           "languishing"
          ],
          [
           "argument"
          ],
          [
           "sale"
          ],
          [
           "alien"
          ],
          [
           "jacques"
          ],
          [
           "governments"
          ],
          [
           "easily"
          ],
          [
           "such"
          ],
          [
           "revenue"
          ],
          [
           "his"
          ],
          [
           "fourteen"
          ],
          [
           "ourselves"
          ],
          [
           "ordinance"
          ],
          [
           "operation"
          ],
          [
           "informant"
          ],
          [
           "expired"
          ],
          [
           "vattell"
          ],
          [
           "recognize"
          ],
          [
           "pp"
          ],
          [
           "assessments"
          ],
          [
           "penalty"
          ],
          [
           "payment"
          ],
          [
           "rule"
          ],
          [
           "bayonet"
          ],
          [
           "successors"
          ],
          [
           "reviewed"
          ],
          [
           "sections"
          ],
          [
           "not"
          ],
          [
           "relative"
          ],
          [
           "add"
          ],
          [
           "long"
          ],
          [
           "lost"
          ],
          [
           "quash"
          ],
          [
           "england"
          ],
          [
           "without"
          ],
          [
           "manitobawhere"
          ],
          [
           "plenitude"
          ],
          [
           "elgins"
          ],
          [
           "sociis"
          ],
          [
           "temporary"
          ],
          [
           "obligations"
          ],
          [
           "proceeds"
          ],
          [
           "own"
          ],
          [
           "portions"
          ],
          [
           "assessed"
          ],
          [
           "selborne"
          ],
          [
           "dead"
          ],
          [
           "law"
          ],
          [
           "dues"
          ],
          [
           "said"
          ],
          [
           "5"
          ],
          [
           "counsel"
          ],
          [
           "accuser"
          ],
          [
           "into"
          ],
          [
           "oppression"
          ],
          [
           "1500000"
          ],
          [
           "applies"
          ],
          [
           "given"
          ],
          [
           "word"
          ],
          [
           "exception"
          ],
          [
           "difficult"
          ],
          [
           "impost"
          ],
          [
           "noscitur"
          ],
          [
           "comparing"
          ],
          [
           "imposition"
          ],
          [
           "exceed"
          ],
          [
           "ss"
          ],
          [
           "extent"
          ],
          [
           "summons"
          ],
          [
           "132"
          ],
          [
           "limitation"
          ],
          [
           "possession"
          ],
          [
           "poll"
          ],
          [
           "intercourse"
          ],
          [
           "dominions"
          ],
          [
           "upwards"
          ],
          [
           "questions"
          ],
          [
           "bear"
          ],
          [
           "enactment"
          ],
          [
           "something"
          ],
          [
           "artists"
          ],
          [
           "qua"
          ],
          [
           "whitesuseless"
          ],
          [
           "states"
          ],
          [
           "party"
          ],
          [
           "less"
          ],
          [
           "here"
          ],
          [
           "statistics"
          ],
          [
           "brunswick"
          ],
          [
           "degree"
          ],
          [
           "indeed"
          ],
          [
           "legislating"
          ],
          [
           "contribute"
          ],
          [
           "johnson"
          ],
          [
           "whereby"
          ],
          [
           "imperial"
          ],
          [
           "slept"
          ],
          [
           "acted"
          ],
          [
           "justice"
          ],
          [
           "innocenta"
          ],
          [
           "better"
          ],
          [
           "branches"
          ],
          [
           "92"
          ],
          [
           "tolerate"
          ],
          [
           "these"
          ],
          [
           "possesses"
          ],
          [
           "contravening"
          ],
          [
           "retained"
          ],
          [
           "ceases"
          ],
          [
           "221"
          ],
          [
           "904"
          ],
          [
           "exclusive"
          ],
          [
           "showing"
          ],
          [
           "travellers"
          ],
          [
           "assembly"
          ],
          [
           "22"
          ],
          [
           "impression"
          ],
          [
           "accused"
          ],
          [
           "dated"
          ],
          [
           "include"
          ],
          [
           "depart"
          ],
          [
           "acta"
          ],
          [
           "well"
          ],
          [
           "allow"
          ],
          [
           "institution"
          ],
          [
           "enactments"
          ],
          [
           "practically"
          ],
          [
           "somewhat"
          ],
          [
           "the"
          ],
          [
           "3with"
          ],
          [
           "reports"
          ],
          [
           "emperor"
          ],
          [
           "constantly"
          ],
          [
           "impaired"
          ],
          [
           "for"
          ],
          [
           "reference"
          ],
          [
           "ottawa"
          ],
          [
           "allowed"
          ],
          [
           "1842"
          ],
          [
           "quashed"
          ],
          [
           "origin"
          ],
          [
           "immediate"
          ],
          [
           "potest"
          ],
          [
           "am"
          ],
          [
           "108"
          ],
          [
           "applying"
          ],
          [
           "victoria"
          ],
          [
           "meet"
          ],
          [
           "apportionment"
          ],
          [
           "forefathersthat"
          ],
          [
           "obtain"
          ],
          [
           "pecuniary"
          ],
          [
           "reasonable"
          ],
          [
           "local"
          ],
          [
           "him"
          ],
          [
           "business"
          ],
          [
           "used"
          ],
          [
           "recently"
          ],
          [
           "differential"
          ],
          [
           "person"
          ],
          [
           "pursuit"
          ],
          [
           "seaboard"
          ],
          [
           "italians"
          ],
          [
           "legitimate"
          ],
          [
           "prosecution"
          ],
          [
           "done"
          ],
          [
           "intimated"
          ],
          [
           "male"
          ],
          [
           "others"
          ],
          [
           "diminishing"
          ],
          [
           "provinces"
          ],
          [
           "appears"
          ],
          [
           "influences"
          ],
          [
           "9"
          ],
          [
           "members"
          ],
          [
           "necessarily"
          ],
          [
           "confronted"
          ],
          [
           "some"
          ],
          [
           "require"
          ],
          [
           "directly"
          ],
          [
           "hand"
          ],
          [
           "subjected"
          ],
          [
           "satisfaction"
          ],
          [
           "tables"
          ],
          [
           "judge"
          ],
          [
           "merits"
          ],
          [
           "418"
          ],
          [
           "arguments"
          ],
          [
           "permitted"
          ],
          [
           "insurance"
          ],
          [
           "frenchmen"
          ],
          [
           "bench"
          ],
          [
           "landing"
          ],
          [
           "distance"
          ],
          [
           "respectively"
          ],
          [
           "2"
          ],
          [
           "writ"
          ],
          [
           "prepares"
          ],
          [
           "flag"
          ],
          [
           "strongly"
          ],
          [
           "can"
          ],
          [
           "seizure"
          ],
          [
           "sufficient"
          ],
          [
           "likewise"
          ],
          [
           "25th"
          ],
          [
           "california"
          ],
          [
           "simile"
          ],
          [
           "sense"
          ],
          [
           "matter"
          ],
          [
           "called"
          ],
          [
           "wellknown"
          ],
          [
           "several"
          ],
          [
           "mises"
          ],
          [
           "admits"
          ],
          [
           "sanction"
          ],
          [
           "lie"
          ],
          [
           "preceding"
          ],
          [
           "become"
          ],
          [
           "liable"
          ],
          [
           "ones"
          ],
          [
           "soon"
          ],
          [
           "communication"
          ],
          [
           "unequal"
          ],
          [
           "axiom"
          ],
          [
           "method"
          ],
          [
           "delegare"
          ],
          [
           "remain"
          ],
          [
           "annual"
          ],
          [
           "stringent"
          ],
          [
           "associated"
          ],
          [
           "equal"
          ],
          [
           "lastly"
          ],
          [
           "premises"
          ],
          [
           "discriminations"
          ],
          [
           "direction"
          ],
          [
           "29"
          ],
          [
           "former"
          ],
          [
           "residents"
          ],
          [
           "northwest"
          ],
          [
           "necessary"
          ],
          [
           "issued"
          ],
          [
           "summary"
          ],
          [
           "working"
          ],
          [
           "stamp"
          ],
          [
           "14th"
          ],
          [
           "per"
          ],
          [
           "highly"
          ],
          [
           "depends"
          ],
          [
           "employ"
          ],
          [
           "81st"
          ],
          [
           "between"
          ],
          [
           "lieu"
          ],
          [
           "equality"
          ],
          [
           "limits"
          ],
          [
           "destroyed"
          ],
          [
           "has"
          ],
          [
           "regard"
          ],
          [
           "irrespective"
          ],
          [
           "alone"
          ],
          [
           "restrictive"
          ],
          [
           "enjoyed"
          ],
          [
           "a"
          ],
          [
           "written"
          ],
          [
           "learned"
          ],
          [
           "lin"
          ],
          [
           "special"
          ],
          [
           "continued"
          ],
          [
           "obiter"
          ],
          [
           "app"
          ],
          [
           "discriminate"
          ],
          [
           "score"
          ],
          [
           "list"
          ],
          [
           "drake"
          ],
          [
           "period"
          ],
          [
           "both"
          ],
          [
           "expands"
          ],
          [
           "area"
          ],
          [
           "drive"
          ],
          [
           "effective"
          ],
          [
           "being"
          ],
          [
           "part"
          ],
          [
           "ordinary"
          ],
          [
           "misconception"
          ],
          [
           "enforce"
          ],
          [
           "wanted"
          ],
          [
           "belisle"
          ],
          [
           "bodies"
          ],
          [
           "treaties"
          ],
          [
           "our"
          ],
          [
           "burden"
          ],
          [
           "enquirywhich"
          ],
          [
           "its"
          ],
          [
           "ten"
          ],
          [
           "community"
          ],
          [
           "interpretation"
          ],
          [
           "countries"
          ],
          [
           "many"
          ],
          [
           "limitations"
          ],
          [
           "have"
          ],
          [
           "default"
          ],
          [
           "6267"
          ],
          [
           "deemed"
          ],
          [
           "non"
          ],
          [
           "deal"
          ],
          [
           "wing"
          ],
          [
           "altogether"
          ],
          [
           "policy"
          ],
          [
           "290"
          ],
          [
           "imprisonment"
          ],
          [
           "appropriate"
          ],
          [
           "last"
          ],
          [
           "ascertain"
          ],
          [
           "12"
          ],
          [
           "quite"
          ],
          [
           "room"
          ],
          [
           "534"
          ],
          [
           "apparently"
          ],
          [
           "police"
          ],
          [
           "insistedthat"
          ],
          [
           "whom"
          ],
          [
           "159"
          ],
          [
           "innocence"
          ],
          [
           "maguire"
          ],
          [
           "government"
          ],
          [
           "5constitutionalitybna"
          ],
          [
           "principles"
          ],
          [
           "within"
          ],
          [
           "fact"
          ],
          [
           "dollar"
          ],
          [
           "lawfully"
          ],
          [
           "extends"
          ],
          [
           "unusual"
          ],
          [
           "1st"
          ],
          [
           "risk"
          ],
          [
           "thereof"
          ],
          [
           "engagements"
          ],
          [
           "1867"
          ],
          [
           "payments"
          ],
          [
           "merchants"
          ],
          [
           "is"
          ],
          [
           "disobeying"
          ],
          [
           "define"
          ],
          [
           "severe"
          ],
          [
           "dec"
          ],
          [
           "described"
          ],
          [
           "derogation"
          ],
          [
           "7"
          ],
          [
           "delegates"
          ],
          [
           "visitors"
          ],
          [
           "dealt"
          ],
          [
           "17"
          ],
          [
           "incompatible"
          ],
          [
           "circumstances"
          ],
          [
           "district"
          ],
          [
           "describes"
          ],
          [
           "concluding"
          ],
          [
           "arbitrary"
          ],
          [
           "1860"
          ],
          [
           "extenso"
          ],
          [
           "elevated"
          ],
          [
           "correct"
          ],
          [
           "diminish"
          ],
          [
           "provincial"
          ],
          [
           "province"
          ],
          [
           "privy"
          ],
          [
           "twofold"
          ],
          [
           "delegation"
          ],
          [
           "collectors"
          ],
          [
           "casual"
          ],
          [
           "read"
          ],
          [
           "deciding"
          ],
          [
           "settlement"
          ],
          [
           "underlying"
          ],
          [
           "induced"
          ],
          [
           "therein"
          ],
          [
           "follow"
          ],
          [
           "after"
          ],
          [
           "enough"
          ],
          [
           "extraordinary"
          ],
          [
           "we"
          ],
          [
           "pacific"
          ],
          [
           "272"
          ],
          [
           "qb"
          ],
          [
           "defined"
          ],
          [
           "expenditure"
          ],
          [
           "now"
          ],
          [
           "set"
          ],
          [
           "us"
          ],
          [
           "upon"
          ],
          [
           "fully"
          ],
          [
           "cas"
          ],
          [
           "field"
          ],
          [
           "stat"
          ],
          [
           "strictly"
          ],
          [
           "subsection"
          ],
          [
           "an"
          ],
          [
           "expenses"
          ],
          [
           "conversant"
          ],
          [
           "it"
          ],
          [
           "penal"
          ],
          [
           "regulated"
          ],
          [
           "annoyance"
          ],
          [
           "course"
          ],
          [
           "232"
          ],
          [
           "therefore"
          ],
          [
           "permission"
          ],
          [
           "mandate"
          ],
          [
           "prescribe"
          ],
          [
           "itcooley"
          ],
          [
           "opposed"
          ],
          [
           "laying"
          ],
          [
           "expel"
          ],
          [
           "legality"
          ],
          [
           "highest"
          ],
          [
           "especially"
          ],
          [
           "founded"
          ],
          [
           "during"
          ],
          [
           "manifestly"
          ],
          [
           "parents"
          ],
          [
           "rendered"
          ],
          [
           "fills"
          ],
          [
           "579"
          ],
          [
           "does"
          ],
          [
           "16"
          ],
          [
           "provides"
          ],
          [
           "representatives"
          ],
          [
           "say"
          ],
          [
           "remedies"
          ],
          [
           "sought"
          ],
          [
           "including"
          ],
          [
           "residing"
          ],
          [
           "recovery"
          ],
          [
           "affecting"
          ],
          [
           "themselves"
          ],
          [
           "other"
          ],
          [
           "lunion"
          ],
          [
           "numbers"
          ],
          [
           "91st"
          ],
          [
           "me"
          ],
          [
           "above"
          ],
          [
           "apply"
          ],
          [
           "instead"
          ],
          [
           "service"
          ],
          [
           "autonomous"
          ],
          [
           "washburn"
          ],
          [
           "position"
          ],
          [
           "according"
          ],
          [
           "hundred"
          ],
          [
           "must"
          ],
          [
           "deterrent"
          ],
          [
           "24"
          ],
          [
           "subversive"
          ],
          [
           "different"
          ],
          [
           "dissented"
          ],
          [
           "sanitary"
          ],
          [
           "forfeit"
          ],
          [
           "natural"
          ],
          [
           "criterion"
          ],
          [
           "unless"
          ],
          [
           "two"
          ],
          [
           "even"
          ],
          [
           "points"
          ],
          [
           "334"
          ],
          [
           "relating"
          ],
          [
           "l"
          ],
          [
           "utter"
          ],
          [
           "except"
          ],
          [
           "becomes"
          ],
          [
           "quoted"
          ],
          [
           "confide"
          ],
          [
           "onus"
          ],
          [
           "driven"
          ],
          [
           "secondlytrade"
          ],
          [
           "colonies"
          ],
          [
           "cooley"
          ],
          [
           "prohibit"
          ],
          [
           "2nd"
          ],
          [
           "chief"
          ],
          [
           "leprohon"
          ],
          [
           "people"
          ],
          [
           "latter"
          ],
          [
           "ie"
          ],
          [
           "richards"
          ],
          [
           "whole"
          ],
          [
           "number"
          ],
          [
           "amity"
          ],
          [
           "void"
          ],
          [
           "failing"
          ],
          [
           "formed"
          ],
          [
           "having"
          ],
          [
           "entitled"
          ],
          [
           "interprovincial"
          ],
          [
           "payable"
          ],
          [
           "carrying"
          ],
          [
           "exceptional"
          ],
          [
           "amends"
          ],
          [
           "restraint"
          ],
          [
           "there"
          ],
          [
           "correctly"
          ],
          [
           "cottage"
          ],
          [
           "distinction"
          ],
          [
           "lessening"
          ],
          [
           "reverses"
          ],
          [
           "21"
          ],
          [
           "rights"
          ],
          [
           "too"
          ],
          [
           "hong"
          ],
          [
           "allows"
          ],
          [
           "public"
          ],
          [
           "fair"
          ],
          [
           "celebrated"
          ],
          [
           "alleged"
          ],
          [
           "protection"
          ],
          [
           "vested"
          ],
          [
           "dealing"
          ],
          [
           "power"
          ],
          [
           "she"
          ],
          [
           "revision"
          ],
          [
           "year"
          ],
          [
           "subsist"
          ],
          [
           "time"
          ],
          [
           "however"
          ],
          [
           "fac"
          ],
          [
           "species"
          ],
          [
           "interfere"
          ],
          [
           "permissible"
          ],
          [
           "report"
          ],
          [
           "certainly"
          ],
          [
           "parsons"
          ],
          [
           "observe"
          ],
          [
           "section"
          ],
          [
           "juxtaposition"
          ],
          [
           "severn"
          ],
          [
           "week"
          ],
          [
           "raising"
          ],
          [
           "respects"
          ],
          [
           "issuing"
          ],
          [
           "apart"
          ],
          [
           "infraction"
          ],
          [
           "calendar"
          ],
          [
           "n"
          ],
          [
           "afford"
          ],
          [
           "mentioned"
          ],
          [
           "346"
          ],
          [
           "decided"
          ],
          [
           "chongthe"
          ],
          [
           "gwynne"
          ],
          [
           "chandler"
          ],
          [
           "powers"
          ],
          [
           "great"
          ],
          [
           "forced"
          ],
          [
           "indirectly"
          ],
          [
           "words"
          ],
          [
           "much"
          ],
          [
           "among"
          ],
          [
           "legislatures"
          ],
          [
           "be"
          ],
          [
           "determined"
          ],
          [
           "required"
          ],
          [
           "edwin"
          ],
          [
           "wilfully"
          ],
          [
           "growing"
          ],
          [
           "discourage"
          ],
          [
           "instanced"
          ],
          [
           "object"
          ],
          [
           "limit"
          ],
          [
           "distress"
          ],
          [
           "outcry"
          ],
          [
           "suited"
          ],
          [
           "fails"
          ],
          [
           "501"
          ],
          [
           "appellant"
          ],
          [
           "notice"
          ],
          [
           "8"
          ],
          [
           "advantage"
          ],
          [
           "statute"
          ],
          [
           "exclude"
          ],
          [
           "old"
          ],
          [
           "rid"
          ],
          [
           "1858"
          ],
          [
           "performing"
          ],
          [
           "incident"
          ],
          [
           "think"
          ],
          [
           "contention"
          ],
          [
           "capitation"
          ],
          [
           "requested"
          ],
          [
           "schedule"
          ],
          [
           "19"
          ],
          [
           "making"
          ],
          [
           "imposing"
          ],
          [
           "candle"
          ],
          [
           "cherished"
          ],
          [
           "objects"
          ],
          [
           "lawful"
          ],
          [
           "permanent"
          ],
          [
           "population"
          ],
          [
           "almost"
          ],
          [
           "protect"
          ],
          [
           "unmolested"
          ],
          [
           "measure"
          ],
          [
           "body"
          ],
          [
           "40"
          ],
          [
           "follows"
          ],
          [
           "386"
          ],
          [
           "unto"
          ],
          [
           "moment"
          ],
          [
           "hertslet"
          ],
          [
           "means"
          ],
          [
           "russell"
          ],
          [
           "interfering"
          ],
          [
           "treasury"
          ],
          [
           "solicitation"
          ],
          [
           "appeal"
          ],
          [
           "enumerated"
          ],
          [
           "up"
          ],
          [
           "occupa"
          ],
          [
           "exercise"
          ],
          [
           "parliamentary"
          ],
          [
           "70"
          ],
          [
           "fee"
          ],
          [
           "classes"
          ],
          [
           "unheard"
          ],
          [
           "110000"
          ],
          [
           "excuse"
          ],
          [
           "following"
          ],
          [
           "presumption"
          ],
          [
           "taught"
          ],
          [
           "supposing"
          ],
          [
           "taxation"
          ],
          [
           "doing"
          ],
          [
           "them"
          ],
          [
           "right"
          ],
          [
           "recital"
          ],
          [
           "callings"
          ],
          [
           "exist"
          ],
          [
           "cal"
          ],
          [
           "off"
          ],
          [
           "imposed"
          ],
          [
           "convenience"
          ],
          [
           "exceeds"
          ],
          [
           "run"
          ],
          [
           "governing"
          ],
          [
           "tax1st"
          ],
          [
           "union"
          ],
          [
           "create"
          ],
          [
           "go"
          ],
          [
           "jurisdictions"
          ],
          [
           "neither"
          ],
          [
           "existing"
          ],
          [
           "ultra"
          ],
          [
           "himself"
          ],
          [
           "any"
          ],
          [
           "unsuited"
          ],
          [
           "take"
          ],
          [
           "you"
          ],
          [
           "information"
          ],
          [
           "enjoyment"
          ],
          [
           "464"
          ],
          [
           "408"
          ],
          [
           "support"
          ],
          [
           "consuls"
          ],
          [
           "petio"
          ],
          [
           "92alienstrade"
          ],
          [
           "side"
          ],
          [
           "provide"
          ],
          [
           "clear"
          ],
          [
           "definition"
          ],
          [
           "91"
          ],
          [
           "assent"
          ],
          [
           "purpose"
          ],
          [
           "acquiring"
          ],
          [
           "converse"
          ],
          [
           "consider"
          ],
          [
           "conviction"
          ],
          [
           "individuals"
          ],
          [
           "jurisdiction"
          ],
          [
           "manner"
          ],
          [
           "ordinarily"
          ],
          [
           "dominion"
          ],
          [
           "lines"
          ],
          [
           "commentaries"
          ],
          [
           "levelled"
          ],
          [
           "opium"
          ],
          [
           "restriction"
          ],
          [
           "varied"
          ],
          [
           "character"
          ],
          [
           "legislate"
          ],
          [
           "test"
          ],
          [
           "possessesits"
          ],
          [
           "made"
          ],
          [
           "this"
          ],
          [
           "seen"
          ],
          [
           "regulate"
          ],
          [
           "life"
          ],
          [
           "determine"
          ],
          [
           "claims"
          ],
          [
           "addition"
          ],
          [
           "kind"
          ],
          [
           "indirect"
          ],
          [
           "whartons"
          ],
          [
           "putting"
          ],
          [
           "governorgeneral"
          ],
          [
           "clashes"
          ],
          [
           "conditions"
          ],
          [
           "twenty"
          ],
          [
           "buildings"
          ],
          [
           "sing"
          ],
          [
           "crease"
          ],
          [
           "general"
          ],
          [
           "merely"
          ],
          [
           "apollo"
          ],
          [
           "various"
          ],
          [
           "compelled"
          ],
          [
           "passage"
          ],
          [
           "cause"
          ],
          [
           "pronounce"
          ],
          [
           "fourthlyas"
          ],
          [
           "goods"
          ],
          [
           "expression"
          ],
          [
           "creation"
          ],
          [
           "tax"
          ],
          [
           "21st"
          ],
          [
           "contemplation"
          ],
          [
           "apparent"
          ],
          [
           "inhabitants"
          ],
          [
           "unnecessary"
          ],
          [
           "delin"
          ],
          [
           "determining"
          ],
          [
           "nation"
          ],
          [
           "pass"
          ],
          [
           "never"
          ],
          [
           "her"
          ],
          [
           "secretary"
          ],
          [
           "recoverable"
          ],
          [
           "engages"
          ],
          [
           "let"
          ],
          [
           "distasteful"
          ],
          [
           "matters"
          ],
          [
           "declares"
          ],
          [
           "nor"
          ],
          [
           "before"
          ],
          [
           "courts"
          ],
          [
           "1885"
          ],
          [
           "control"
          ],
          [
           "offender"
          ],
          [
           "validity"
          ],
          [
           "transparent"
          ],
          [
           "similar"
          ],
          [
           "give"
          ],
          [
           "supreme"
          ],
          [
           "c"
          ],
          [
           "23"
          ],
          [
           "passed"
          ],
          [
           "naglee"
          ],
          [
           "works"
          ],
          [
           "lands"
          ],
          [
           "tendency"
          ],
          [
           "standard"
          ],
          [
           "miners"
          ],
          [
           "who"
          ],
          [
           "what"
          ],
          [
           "language"
          ],
          [
           "mode"
          ],
          [
           "adjudge"
          ],
          [
           "transacted"
          ],
          [
           "recovered"
          ],
          [
           "bristles"
          ],
          [
           "designated"
          ],
          [
           "directed"
          ],
          [
           "consumer"
          ],
          [
           "furnish"
          ],
          [
           "applied"
          ],
          [
           "accompanying"
          ],
          [
           "use"
          ],
          [
           "council"
          ],
          [
           "1884"
          ],
          [
           "first"
          ],
          [
           "impose"
          ],
          [
           "subjects"
          ],
          [
           "productive"
          ],
          [
           "1"
          ],
          [
           "26th"
          ],
          [
           "paying"
          ],
          [
           "levied"
          ],
          [
           "1878"
          ],
          [
           "4"
          ],
          [
           "falsely"
          ],
          [
           "license"
          ],
          [
           "efforts"
          ],
          [
           "branch"
          ],
          [
           "passing"
          ],
          [
           "shoulders"
          ],
          [
           "protected"
          ],
          [
           "asserted"
          ],
          [
           "municipal"
          ],
          [
           "through"
          ],
          [
           "habitually"
          ],
          [
           "stranger"
          ],
          [
           "satisfactorily"
          ],
          [
           "true"
          ],
          [
           "chattels"
          ],
          [
           "personal"
          ],
          [
           "do"
          ],
          [
           "once"
          ],
          [
           "contain"
          ],
          [
           "liabilities"
          ],
          [
           "direct"
          ],
          [
           "benefit"
          ],
          [
           "26"
          ],
          [
           "cap"
          ],
          [
           "relations"
          ],
          [
           "barring"
          ],
          [
           "new"
          ],
          [
           "mining"
          ],
          [
           "peace"
          ],
          [
           "touches"
          ],
          [
           "legally"
          ],
          [
           "act"
          ],
          [
           "defendant"
          ],
          [
           "vires"
          ],
          [
           "sin"
          ],
          [
           "single"
          ],
          [
           "franchise"
          ],
          [
           "forbidding"
          ],
          [
           "when"
          ],
          [
           "arrive"
          ],
          [
           "agency"
          ],
          [
           "acting"
          ],
          [
           "ports"
          ],
          [
           "light"
          ],
          [
           "cut"
          ],
          [
           "50"
          ],
          [
           "hodge"
          ],
          [
           "free"
          ],
          [
           "fortiori"
          ],
          [
           "paid"
          ],
          [
           "security"
          ],
          [
           "impede"
          ],
          [
           "places"
          ],
          [
           "conferred"
          ],
          [
           "employers"
          ],
          [
           "distinctionmust"
          ],
          [
           "mention"
          ],
          [
           "against"
          ],
          [
           "down"
          ],
          [
           "conscientious"
          ],
          [
           "order"
          ],
          [
           "showed"
          ],
          [
           "looks"
          ],
          [
           "co"
          ],
          [
           "discrimination"
          ],
          [
           "proportion"
          ],
          [
           "nature"
          ],
          [
           "15th"
          ],
          [
           "common"
          ],
          [
           "way"
          ],
          [
           "invidious"
          ],
          [
           "look"
          ],
          [
           "mcquillan"
          ],
          [
           "benefits"
          ],
          [
           "advanced"
          ],
          [
           "q"
          ],
          [
           "certiorarichinese"
          ],
          [
           "abate"
          ],
          [
           "from"
          ],
          [
           "gray"
          ],
          [
           "name"
          ],
          [
           "territory"
          ],
          [
           "demanded"
          ],
          [
           "destroy"
          ],
          [
           "that"
          ],
          [
           "face"
          ],
          [
           "immigration"
          ],
          [
           "16th"
          ],
          [
           "conceded"
          ],
          [
           "kept"
          ],
          [
           "superior"
          ],
          [
           "decisions"
          ],
          [
           "settled"
          ],
          [
           "omnipotent"
          ],
          [
           "are"
          ],
          [
           "observer"
          ],
          [
           "exclusively"
          ],
          [
           "desecration"
          ],
          [
           "correctness"
          ],
          [
           "pointed"
          ],
          [
           "defines"
          ],
          [
           "later"
          ],
          [
           "customs"
          ],
          [
           "graveyards"
          ],
          [
           "penalties"
          ],
          [
           "another"
          ],
          [
           "place"
          ],
          [
           "want"
          ],
          [
           "attorneygeneral"
          ],
          [
           "occupations"
          ],
          [
           "years"
          ],
          [
           "priceless"
          ],
          [
           "plenary"
          ],
          [
           "consequences"
          ],
          [
           "specified"
          ],
          [
           "duty"
          ],
          [
           "aforesaid"
          ],
          [
           "legal"
          ],
          [
           "coloured"
          ],
          [
           "scope"
          ],
          [
           "potters"
          ],
          [
           "exceeding"
          ],
          [
           "compel"
          ],
          [
           "laws"
          ],
          [
           "force"
          ],
          [
           "prepare"
          ],
          [
           "20"
          ],
          [
           "thereunder"
          ],
          [
           "argued"
          ],
          [
           "measures"
          ],
          [
           "pc"
          ],
          [
           "authorities"
          ],
          [
           "parliament"
          ],
          [
           "356"
          ],
          [
           "complaint"
          ],
          [
           "so"
          ],
          [
           "30"
          ],
          [
           "particularized"
          ],
          [
           "foreigner"
          ],
          [
           "executive"
          ],
          [
           "railway"
          ],
          [
           "high"
          ],
          [
           "shall"
          ],
          [
           "federation"
          ],
          [
           "hangs"
          ],
          [
           "he"
          ],
          [
           "obtained"
          ],
          [
           "which"
          ],
          [
           "found"
          ],
          [
           "copies"
          ],
          [
           "lend"
          ],
          [
           "disallowed"
          ],
          [
           "3rd"
          ],
          [
           "appeared"
          ],
          [
           "besides"
          ],
          [
           "most"
          ],
          [
           "legislative"
          ],
          [
           "maintained"
          ],
          [
           "i"
          ],
          [
           "effect"
          ],
          [
           "35"
          ],
          [
           "statement"
          ],
          [
           "principiinot"
          ],
          [
           "taxes"
          ],
          [
           "sedgwick"
          ],
          [
           "clauses"
          ],
          [
           "until"
          ],
          [
           "jointly"
          ],
          [
           "reserved"
          ],
          [
           "getting"
          ],
          [
           "employment"
          ],
          [
           "guiding"
          ],
          [
           "decision"
          ],
          [
           "proof"
          ],
          [
           "enforced"
          ],
          [
           "tai"
          ],
          [
           "sanctions"
          ],
          [
           "provinceabrogates"
          ],
          [
           "sothrows"
          ],
          [
           "magistrate"
          ],
          [
           "could"
          ],
          [
           "r"
          ],
          [
           "coming"
          ],
          [
           "23rd"
          ],
          [
           "costs"
          ],
          [
           "might"
          ],
          [
           "care"
          ],
          [
           "then"
          ],
          [
           "25"
          ],
          [
           "labourers"
          ],
          [
           "provincesay"
          ],
          [
           "international"
          ],
          [
           "ritchie"
          ],
          [
           "13"
          ],
          [
           "saysit"
          ],
          [
           "rest"
          ],
          [
           "safeguards"
          ],
          [
           "thus"
          ],
          [
           "introduced"
          ],
          [
           "where"
          ],
          [
           "absolutely"
          ],
          [
           "126128"
          ],
          [
           "everything"
          ],
          [
           "also"
          ],
          [
           "like"
          ],
          [
           "those"
          ],
          [
           "gilbert"
          ],
          [
           "aliens"
          ],
          [
           "happen"
          ],
          [
           "internal"
          ],
          [
           "authenticated"
          ],
          [
           "todd"
          ],
          [
           "analogy"
          ],
          [
           "considered"
          ],
          [
           "388"
          ],
          [
           "tiburcio"
          ],
          [
           "october"
          ],
          [
           "today"
          ],
          [
           "obvious"
          ],
          [
           "out"
          ],
          [
           "full"
          ],
          [
           "consideration"
          ],
          [
           "hesitation"
          ],
          [
           "review"
          ],
          [
           "cease"
          ],
          [
           "regulation"
          ],
          [
           "if"
          ],
          [
           "repulsive"
          ],
          [
           "than"
          ],
          [
           "itself"
          ],
          [
           "criminal"
          ],
          [
           "employer"
          ],
          [
           "skilled"
          ],
          [
           "night"
          ],
          [
           "occupies"
          ],
          [
           "delinquent"
          ],
          [
           "constitution"
          ],
          [
           "papers"
          ],
          [
           "raise"
          ],
          [
           "altered"
          ],
          [
           "acknowledged"
          ],
          [
           "in"
          ],
          [
           "excess"
          ],
          [
           "carries"
          ],
          [
           "idea"
          ],
          [
           "expressly"
          ],
          [
           "immediately"
          ],
          [
           "characteristic"
          ],
          [
           "convicted"
          ],
          [
           "already"
          ],
          [
           "contracting"
          ],
          [
           "proved"
          ],
          [
           "door"
          ],
          [
           "men"
          ],
          [
           "restricting"
          ],
          [
           "united"
          ],
          [
           "freely"
          ],
          [
           "enforcing"
          ],
          [
           "bearing"
          ],
          [
           "affixed"
          ],
          [
           "[MASK]"
          ],
          [
           "collection"
          ],
          [
           "regulations"
          ],
          [
           "nonproduction"
          ],
          [
           "preserve"
          ],
          [
           "relation"
          ],
          [
           "importance"
          ],
          [
           "collector"
          ],
          [
           "assumption"
          ],
          [
           "regina"
          ],
          [
           "basis"
          ],
          [
           "summarily"
          ],
          [
           "3"
          ],
          [
           "vol"
          ],
          [
           "commercial"
          ],
          [
           "medical"
          ],
          [
           "fettered"
          ],
          [
           "transgression"
          ],
          [
           "licence"
          ],
          [
           "equivalent"
          ],
          [
           "extreme"
          ],
          [
           "proving"
          ],
          [
           "reside"
          ],
          [
           "day"
          ],
          [
           "parts"
          ],
          [
           "legislature"
          ],
          [
           "acquire"
          ],
          [
           "dissenting"
          ],
          [
           "derived"
          ],
          [
           "burdened"
          ],
          [
           "mr"
          ],
          [
           "express"
          ],
          [
           "empire"
          ],
          [
           "fine"
          ],
          [
           "intent"
          ],
          [
           "months"
          ],
          [
           "hitherto"
          ],
          [
           "of"
          ],
          [
           "resolutions"
          ],
          [
           "lexington"
          ],
          [
           "provision"
          ],
          [
           "stated"
          ],
          [
           "carry"
          ],
          [
           "plainly"
          ],
          [
           "one"
          ],
          [
           "majesty"
          ],
          [
           "age"
          ],
          [
           "fitting"
          ],
          [
           "reed"
          ],
          [
           "to"
          ],
          [
           "principle"
          ],
          [
           "1843"
          ],
          [
           "city"
          ],
          [
           "continually"
          ],
          [
           "property"
          ],
          [
           "month"
          ],
          [
           "september"
          ],
          [
           "spoken"
          ],
          [
           "treaty"
          ],
          [
           "ageevery"
          ],
          [
           "title"
          ],
          [
           "15"
          ],
          [
           "on"
          ],
          [
           "saying"
          ],
          [
           "parties"
          ],
          [
           "dow"
          ],
          [
           "runs"
          ],
          [
           "materially"
          ],
          [
           "find"
          ],
          [
           "delegatus"
          ],
          [
           "charged"
          ],
          [
           "cognizance"
          ],
          [
           "generally"
          ],
          [
           "dwellings"
          ],
          [
           "goodhue"
          ],
          [
           "fifthlywhether"
          ],
          [
           "judges"
          ],
          [
           "provisions"
          ],
          [
           "commercetaxation"
          ],
          [
           "gradually"
          ],
          [
           "appellants"
          ],
          [
           "case"
          ],
          [
           "carried"
          ],
          [
           "ominous"
          ],
          [
           "pay"
          ],
          [
           "important"
          ],
          [
           "sovereign"
          ],
          [
           "11"
          ],
          [
           "illegality"
          ],
          [
           "end"
          ],
          [
           "may"
          ],
          [
           "5th"
          ],
          [
           "respective"
          ],
          [
           "annoying"
          ],
          [
           "deliver"
          ],
          [
           "ambassadors"
          ],
          [
           "experience"
          ],
          [
           "contending"
          ],
          [
           "occupy"
          ],
          [
           "only"
          ],
          [
           "reversed"
          ],
          [
           "whether"
          ],
          [
           "subsections"
          ],
          [
           "state"
          ],
          [
           "july"
          ],
          [
           "hot"
          ],
          [
           "rules"
          ],
          [
           "dicta"
          ],
          [
           "produced"
          ],
          [
           "1885crease"
          ],
          [
           "conclusive"
          ],
          [
           "fiscal"
          ],
          [
           "hannays"
          ],
          [
           "sec"
          ],
          [
           "or"
          ],
          [
           "responsible"
          ],
          [
           "exercised"
          ],
          [
           "author"
          ]
         ],
         "hovertemplate": "highlight=%{text}<br>x=%{x}<br>y=%{y}<br>word=%{customdata[0]}<extra></extra>",
         "legendgroup": "",
         "marker": {
          "color": "#636efa",
          "symbol": "circle"
         },
         "mode": "markers+text",
         "name": "",
         "showlegend": false,
         "text": [
          "",
          "",
          "",
          "",
          "",
          "",
          "",
          "",
          "",
          "",
          "",
          "",
          "",
          "",
          "",
          "",
          "",
          "",
          "",
          "",
          "",
          "",
          "",
          "",
          "",
          "",
          "",
          "",
          "",
          "",
          "",
          "",
          "",
          "",
          "",
          "",
          "",
          "",
          "",
          "",
          "",
          "",
          "",
          "",
          "",
          "",
          "",
          "",
          "",
          "",
          "",
          "",
          "",
          "",
          "",
          "",
          "",
          "",
          "",
          "",
          "",
          "",
          "",
          "",
          "",
          "",
          "",
          "",
          "",
          "",
          "",
          "",
          "",
          "",
          "",
          "",
          "",
          "",
          "",
          "",
          "",
          "",
          "",
          "",
          "",
          "",
          "",
          "",
          "",
          "",
          "",
          "",
          "",
          "",
          "",
          "",
          "",
          "",
          "",
          "",
          "",
          "",
          "",
          "",
          "",
          "",
          "",
          "",
          "",
          "",
          "",
          "",
          "",
          "",
          "",
          "",
          "",
          "",
          "",
          "",
          "",
          "",
          "",
          "",
          "",
          "",
          "",
          "",
          "",
          "",
          "",
          "",
          "",
          "",
          "",
          "",
          "",
          "",
          "",
          "",
          "",
          "",
          "",
          "",
          "",
          "",
          "",
          "",
          "",
          "",
          "",
          "",
          "",
          "",
          "",
          "",
          "",
          "",
          "",
          "",
          "",
          "",
          "",
          "",
          "",
          "",
          "",
          "",
          "",
          "",
          "",
          "",
          "",
          "",
          "",
          "",
          "",
          "",
          "",
          "",
          "",
          "",
          "",
          "",
          "",
          "",
          "",
          "",
          "",
          "",
          "",
          "",
          "",
          "",
          "",
          "",
          "",
          "",
          "",
          "",
          "",
          "",
          "",
          "",
          "",
          "",
          "",
          "",
          "",
          "",
          "",
          "",
          "",
          "",
          "",
          "",
          "",
          "",
          "",
          "",
          "",
          "",
          "",
          "",
          "",
          "",
          "",
          "",
          "",
          "",
          "",
          "",
          "",
          "",
          "",
          "",
          "",
          "",
          "",
          "",
          "",
          "",
          "",
          "",
          "",
          "",
          "",
          "",
          "",
          "",
          "",
          "",
          "",
          "",
          "",
          "",
          "",
          "",
          "",
          "",
          "",
          "",
          "",
          "",
          "",
          "",
          "",
          "",
          "",
          "",
          "",
          "",
          "",
          "",
          "",
          "",
          "",
          "",
          "",
          "",
          "",
          "",
          "",
          "",
          "",
          "",
          "",
          "",
          "",
          "",
          "",
          "",
          "",
          "",
          "",
          "",
          "",
          "",
          "",
          "",
          "",
          "",
          "",
          "",
          "",
          "",
          "",
          "",
          "",
          "",
          "",
          "",
          "",
          "",
          "",
          "",
          "",
          "",
          "",
          "",
          "",
          "",
          "",
          "",
          "",
          "",
          "",
          "",
          "",
          "",
          "",
          "",
          "",
          "",
          "",
          "",
          "",
          "",
          "",
          "",
          "",
          "",
          "",
          "",
          "",
          "",
          "",
          "",
          "",
          "",
          "",
          "",
          "",
          "",
          "",
          "",
          "",
          "",
          "",
          "",
          "",
          "",
          "",
          "",
          "",
          "",
          "",
          "",
          "",
          "",
          "",
          "",
          "",
          "",
          "",
          "",
          "",
          "",
          "",
          "",
          "",
          "",
          "",
          "",
          "",
          "",
          "",
          "",
          "",
          "",
          "",
          "",
          "",
          "",
          "",
          "",
          "",
          "",
          "",
          "",
          "",
          "",
          "",
          "",
          "",
          "",
          "",
          "",
          "",
          "",
          "",
          "",
          "",
          "",
          "",
          "",
          "",
          "",
          "",
          "",
          "",
          "",
          "",
          "",
          "",
          "",
          "",
          "",
          "",
          "",
          "",
          "",
          "",
          "",
          "",
          "",
          "",
          "",
          "",
          "",
          "",
          "",
          "",
          "",
          "",
          "",
          "",
          "",
          "",
          "",
          "",
          "",
          "",
          "",
          "",
          "",
          "",
          "",
          "",
          "",
          "",
          "",
          "",
          "",
          "",
          "",
          "",
          "",
          "",
          "",
          "",
          "",
          "",
          "",
          "",
          "",
          "",
          "",
          "",
          "",
          "",
          "",
          "",
          "",
          "",
          "",
          "",
          "",
          "",
          "",
          "",
          "",
          "",
          "",
          "",
          "",
          "",
          "",
          "",
          "",
          "",
          "",
          "",
          "",
          "",
          "",
          "",
          "",
          "",
          "",
          "",
          "",
          "",
          "",
          "",
          "",
          "",
          "",
          "",
          "",
          "",
          "",
          "",
          "",
          "",
          "",
          "",
          "",
          "",
          "",
          "",
          "",
          "",
          "",
          "",
          "",
          "",
          "",
          "",
          "",
          "",
          "",
          "",
          "",
          "",
          "",
          "",
          "",
          "",
          "",
          "",
          "",
          "",
          "",
          "",
          "",
          "",
          "",
          "",
          "",
          "",
          "",
          "",
          "",
          "",
          "",
          "",
          "",
          "",
          "",
          "",
          "",
          "",
          "",
          "",
          "",
          "",
          "",
          "",
          "",
          "",
          "",
          "",
          "",
          "",
          "",
          "",
          "",
          "",
          "",
          "",
          "",
          "",
          "",
          "",
          "",
          "",
          "",
          "",
          "",
          "",
          "",
          "",
          "",
          "",
          "",
          "",
          "",
          "",
          "",
          "",
          "",
          "",
          "",
          "",
          "",
          "",
          "",
          "",
          "",
          "",
          "",
          "",
          "",
          "",
          "",
          "",
          "",
          "",
          "",
          "",
          "",
          "",
          "",
          "",
          "",
          "",
          "",
          "",
          "",
          "",
          "",
          "",
          "",
          "",
          "",
          "",
          "",
          "",
          "",
          "",
          "",
          "",
          "",
          "",
          "",
          "",
          "",
          "",
          "",
          "",
          "",
          "",
          "",
          "",
          "",
          "",
          "",
          "",
          "",
          "",
          "",
          "",
          "",
          "",
          "",
          "",
          "",
          "",
          "",
          "",
          "",
          "",
          "",
          "",
          "",
          "",
          "",
          "",
          "",
          "",
          "",
          "",
          "",
          "",
          "",
          "",
          "",
          "",
          "",
          "",
          "",
          "",
          "",
          "",
          "",
          "",
          "",
          "",
          "",
          "",
          "",
          "",
          "",
          "",
          "",
          "",
          "",
          "",
          "",
          "",
          "",
          "",
          "",
          "",
          "",
          "",
          "",
          "",
          "",
          "",
          "",
          "",
          "",
          "",
          "",
          "",
          "",
          "",
          "",
          "",
          "",
          "",
          "",
          "",
          "",
          "",
          "",
          "",
          "",
          "",
          "",
          "",
          "",
          "",
          "",
          "",
          "",
          "",
          "",
          "",
          "",
          "",
          "",
          "",
          "",
          "",
          "",
          "",
          "",
          "",
          "",
          "",
          "",
          "",
          "",
          "",
          "",
          "",
          "",
          "",
          "",
          "",
          "",
          "",
          "",
          "",
          "",
          "",
          "",
          "",
          "",
          "",
          "",
          "",
          "",
          "",
          "",
          "",
          "",
          "",
          "",
          "",
          "",
          "",
          "",
          "",
          "",
          "",
          "",
          "",
          "",
          "",
          "",
          "",
          "",
          "",
          "",
          "",
          "",
          "",
          "",
          "",
          "",
          "",
          "",
          "",
          "",
          "",
          "",
          "",
          "",
          "",
          "",
          "",
          "",
          "",
          "",
          "",
          "",
          "",
          "",
          "",
          "",
          "",
          "",
          "",
          "",
          "",
          "",
          "",
          "",
          "",
          "",
          "",
          "",
          "",
          "",
          "",
          "",
          "",
          "",
          "",
          "",
          "",
          "",
          "",
          "",
          "",
          "",
          "",
          "",
          "",
          "",
          "",
          "",
          "",
          "",
          "",
          "",
          "",
          "",
          "",
          "",
          "",
          "",
          "",
          "",
          "",
          "",
          "",
          "",
          "",
          "",
          "",
          "",
          "",
          "",
          "",
          "",
          "",
          "",
          "",
          "",
          "",
          "",
          "",
          "",
          "",
          "",
          "",
          "",
          "",
          "",
          "",
          "",
          "",
          "",
          "",
          "",
          "",
          "",
          "",
          "",
          "",
          "",
          "",
          "",
          "",
          "",
          "",
          "",
          "",
          "",
          "",
          "",
          "",
          "",
          "",
          "",
          "",
          "",
          "",
          "",
          "",
          "",
          "",
          "",
          "",
          "",
          "",
          "",
          "",
          "",
          "",
          "",
          "",
          "",
          "",
          "",
          "",
          "",
          "",
          "",
          "",
          "",
          "",
          "",
          "",
          "",
          "",
          "",
          "",
          "",
          "",
          "",
          "",
          "",
          "",
          "",
          "",
          "",
          "",
          "",
          "",
          "",
          "",
          "",
          "",
          "",
          "",
          "",
          "",
          "",
          "",
          "",
          "",
          "",
          "",
          "",
          "",
          "",
          "",
          "",
          "",
          "",
          "",
          "",
          "",
          "",
          "",
          "",
          "",
          "",
          "",
          "",
          "",
          "",
          "",
          "",
          "",
          "",
          "",
          "",
          "",
          "",
          "",
          "",
          "",
          "",
          "",
          "",
          "",
          "",
          "",
          "",
          "",
          "",
          "",
          "",
          "",
          "",
          "",
          "",
          "",
          "",
          "",
          "",
          "",
          "",
          "",
          "",
          "",
          "",
          "",
          "",
          "",
          "",
          "",
          "",
          "",
          "",
          "",
          "",
          "",
          "",
          "",
          "",
          "",
          "",
          "",
          "",
          "",
          "",
          "",
          "",
          "",
          "",
          "",
          "",
          "",
          "",
          "",
          "",
          "",
          "",
          "",
          "",
          "",
          "",
          "",
          "",
          "",
          "",
          "",
          "",
          "",
          "",
          "",
          "",
          "",
          "",
          "",
          "",
          "",
          "",
          "",
          "",
          "",
          "",
          "",
          "",
          "",
          "",
          "",
          "",
          "",
          "",
          "",
          "",
          "",
          "",
          "",
          "",
          "",
          "",
          "",
          "",
          "",
          "",
          "",
          "",
          "",
          "",
          "",
          "",
          "",
          "",
          "",
          "",
          "",
          "",
          "",
          "",
          "",
          "",
          "",
          "",
          "",
          "",
          "",
          "",
          "",
          "",
          "",
          "",
          "",
          "",
          "",
          "",
          "",
          "",
          "",
          "",
          "",
          "",
          "",
          "",
          "",
          "",
          "",
          "",
          "",
          "",
          "",
          "",
          "",
          "",
          "",
          "",
          "",
          "",
          "",
          "",
          "",
          "",
          "",
          "",
          "",
          "",
          "",
          "",
          "",
          "",
          "",
          "",
          "",
          "",
          "",
          "",
          "",
          "",
          "",
          "",
          "",
          "",
          "",
          "",
          "",
          "",
          "",
          "",
          "",
          "",
          "",
          "",
          "",
          "",
          "",
          "",
          "",
          "",
          "",
          "",
          "",
          "",
          "",
          "",
          "",
          "",
          "",
          "",
          "",
          "",
          "",
          "",
          "",
          "",
          "",
          "",
          "",
          "",
          "",
          "",
          "",
          "",
          "",
          "",
          "",
          "",
          "",
          "",
          "",
          "",
          "",
          "",
          "",
          "",
          "",
          "",
          "",
          "",
          "",
          "",
          "",
          "",
          "",
          "",
          "",
          "",
          "",
          "",
          "",
          "",
          "",
          "",
          "",
          "",
          "",
          "",
          "",
          "",
          "",
          "",
          "",
          "",
          "",
          "",
          "",
          "",
          "",
          "",
          "",
          "",
          "",
          "",
          "",
          "",
          "",
          "",
          "",
          "",
          "",
          "",
          "",
          "",
          "",
          "",
          "",
          "",
          "",
          "",
          "",
          "",
          "",
          "",
          "",
          "",
          "",
          "",
          "",
          "",
          "",
          "",
          "",
          "",
          "",
          "",
          "",
          "",
          "",
          "",
          "",
          "",
          "",
          "",
          "",
          "",
          "",
          "",
          "",
          "",
          "",
          "",
          "",
          "",
          "",
          "",
          "",
          "",
          "",
          "",
          "",
          "",
          "",
          "",
          "",
          "",
          "",
          "",
          "",
          "",
          "",
          "",
          "",
          "",
          "",
          "",
          "",
          "",
          "",
          "",
          "",
          "",
          "",
          "",
          "",
          "",
          "",
          "",
          "",
          "",
          "",
          "",
          "",
          "",
          "",
          "",
          "",
          "",
          "",
          "",
          "",
          "",
          "",
          "",
          "",
          "",
          "",
          "",
          "",
          "",
          "",
          "",
          "",
          "",
          "",
          "",
          "",
          "",
          "",
          "",
          "",
          "",
          "",
          "",
          "",
          "",
          "",
          "",
          "",
          "",
          "",
          "",
          "",
          "",
          "",
          "",
          "",
          "",
          "",
          "",
          "",
          "",
          "",
          "",
          "",
          "",
          "",
          "",
          "",
          "",
          "",
          "",
          "",
          "",
          "",
          "",
          "",
          "",
          "",
          "",
          "",
          "",
          "",
          "",
          "",
          "",
          "",
          "",
          "",
          "",
          "",
          "",
          "",
          "",
          "",
          "",
          "",
          "",
          "",
          "",
          "",
          "",
          "",
          "",
          "",
          "",
          "",
          "",
          "",
          "",
          "",
          "",
          "",
          "",
          "",
          "",
          "",
          "",
          "",
          "",
          "",
          "",
          "",
          "",
          "",
          "",
          "",
          "",
          "",
          "",
          "",
          "",
          "",
          "",
          "",
          "",
          "",
          "",
          "",
          "",
          "",
          "",
          "",
          "",
          "",
          "",
          "",
          "",
          "",
          "",
          "",
          "",
          "",
          "",
          "",
          "",
          "",
          "",
          "",
          "",
          "",
          "",
          "",
          "",
          "",
          "",
          "",
          "",
          "",
          "",
          "",
          "",
          "",
          "",
          "",
          "",
          "",
          "",
          "",
          "",
          "",
          "",
          "",
          "",
          "",
          "",
          "",
          "",
          "",
          "",
          "",
          "",
          "",
          "",
          "",
          "",
          "",
          "",
          "",
          "",
          "",
          "",
          "",
          "",
          ""
         ],
         "type": "scattergl",
         "x": [
          -4.9379516,
          30.355484,
          46.94978,
          19.819115,
          4.695512,
          47.991016,
          6.5683827,
          -16.596285,
          -17.376316,
          4.6840253,
          51.448044,
          -20.467503,
          3.540985,
          -5.216933,
          -7.799488,
          44.704113,
          32.434937,
          4.130279,
          -23.18256,
          35.62737,
          47.117935,
          42.72377,
          -14.9143505,
          -10.8110485,
          -17.413458,
          3.492908,
          -5.2151017,
          9.515368,
          -15.957486,
          45.430218,
          -13.076116,
          5.937954,
          -6.0283203,
          -10.630881,
          -8.830296,
          -11.373716,
          37.70657,
          -4.1810284,
          45.474728,
          -21.017084,
          -11.121222,
          -11.59869,
          -20.630362,
          8.294684,
          36.4914,
          -14.920584,
          -2.498214,
          40.252785,
          34.11935,
          -15.31973,
          37.676037,
          -6.0914617,
          40.60157,
          -4.0612984,
          9.908193,
          11.814082,
          -0.6528986,
          9.05096,
          -20.44921,
          38.037853,
          -0.6752547,
          5.9535346,
          1.362581,
          -18.136988,
          -4.050104,
          -11.711467,
          42.46139,
          -20.220621,
          -9.735114,
          40.248764,
          40.3964,
          -9.282331,
          -14.966742,
          2.0304768,
          -15.106407,
          45.61338,
          21.663595,
          40.89217,
          -11.976842,
          3.6280415,
          -15.18401,
          -12.181937,
          10.656948,
          41.089657,
          35.0611,
          -22.3585,
          22.487728,
          -8.955454,
          -6.4403496,
          45.156284,
          4.216243,
          -6.893324,
          -22.484934,
          41.939404,
          -5.3472137,
          -14.406461,
          -17.387459,
          30.003284,
          10.2921505,
          17.196825,
          -23.641024,
          7.876931,
          -17.760885,
          -16.515207,
          -0.07447056,
          -23.452162,
          51.423702,
          35.14459,
          44.6016,
          -0.31803572,
          3.4843462,
          28.36524,
          -22.09502,
          22.404333,
          34.134983,
          6.128356,
          -14.375297,
          -3.8599212,
          3.3975697,
          -8.775113,
          -19.56376,
          29.664896,
          -15.156569,
          29.714857,
          -12.964721,
          -18.98842,
          31.917517,
          7.545543,
          -19.196157,
          -17.451479,
          -8.068382,
          36.53506,
          -19.452538,
          -8.579288,
          -4.108025,
          31.713272,
          -17.584105,
          27.329603,
          -7.8418107,
          -4.0431266,
          -8.759531,
          -9.837071,
          2.2238927,
          -15.191995,
          -13.453807,
          -10.092676,
          0.20807019,
          7.9302144,
          -22.897278,
          -4.3372874,
          -11.310907,
          5.7957993,
          -11.801536,
          -2.2566156,
          -13.19128,
          -17.8815,
          45.116184,
          -10.060551,
          -5.7066293,
          34.571762,
          -0.23559804,
          39.102043,
          -5.73138,
          -11.804436,
          3.801237,
          -15.601054,
          45.265778,
          0.9594842,
          2.8399897,
          -5.277259,
          -23.286516,
          38.967075,
          42.691372,
          -0.59430355,
          32.320553,
          -14.50647,
          24.409975,
          -17.41821,
          -8.7662325,
          5.569376,
          -11.136262,
          -20.86104,
          -5.934479,
          -10.803406,
          -15.766928,
          -12.017548,
          -5.138344,
          -11.090072,
          -4.9377713,
          -11.529618,
          37.323364,
          -10.641767,
          -3.4429033,
          33.66346,
          10.665583,
          -23.862545,
          19.195383,
          -11.257994,
          -15.727801,
          -2.1466134,
          -18.098179,
          42.281216,
          42.614075,
          -20.477991,
          -10.296149,
          -19.901371,
          -2.1634922,
          -14.182599,
          3.782313,
          4.3118796,
          2.6016161,
          31.336857,
          -0.77403,
          29.572569,
          -3.539668,
          41.058815,
          -12.148107,
          -26.08517,
          -5.14604,
          29.114922,
          26.622295,
          -16.96226,
          -5.3590913,
          -7.6638675,
          47.716377,
          3.1805012,
          39.16066,
          -17.315304,
          -15.264249,
          -11.052908,
          21.153551,
          7.292645,
          5.960377,
          -3.4011014,
          -9.389598,
          -0.046417207,
          -3.3461714,
          16.511656,
          -3.9599051,
          4.4978538,
          -13.25045,
          41.33575,
          -13.862654,
          0.6831814,
          7.859358,
          -11.833264,
          41.38663,
          -22.032843,
          -7.021158,
          42.34429,
          20.651892,
          -24.133715,
          -8.415635,
          4.5069265,
          -9.120802,
          34.098873,
          -19.15196,
          -9.44193,
          23.543005,
          -9.884066,
          -7.518679,
          25.114767,
          4.32674,
          -13.34485,
          -0.9324289,
          -2.8210235,
          4.9433284,
          -21.088356,
          48.343662,
          -22.115356,
          -11.521911,
          51.70268,
          30.405056,
          -2.2481484,
          -12.219838,
          -9.429562,
          -19.339602,
          36.107376,
          1.6502036,
          6.0385175,
          34.529243,
          -7.2172008,
          -9.266369,
          -6.680969,
          -4.0280943,
          -16.744038,
          5.205298,
          6.167945,
          -3.2071826,
          -7.9499125,
          -9.067641,
          45.950813,
          -23.24417,
          -11.258207,
          31.227417,
          -0.77209216,
          33.648384,
          -18.482653,
          24.245537,
          12.415803,
          -19.04336,
          38.112255,
          -7.1721606,
          29.16394,
          36.665127,
          -18.51642,
          -14.15753,
          -1.5570093,
          33.91514,
          -3.6157935,
          -2.05103,
          40.047108,
          -12.321574,
          -9.391587,
          -15.356193,
          6.562059,
          32.796314,
          44.08853,
          40.069855,
          -0.0034539036,
          43.111706,
          3.7805288,
          -23.253134,
          2.3419492,
          44.02559,
          -14.233004,
          1.2179525,
          -9.2800455,
          37.08085,
          39.804974,
          2.6370614,
          -12.077112,
          -13.906718,
          47.532303,
          -6.4796906,
          2.0725095,
          -6.0376563,
          26.542734,
          -2.9476707,
          -16.57082,
          -1.8280399,
          -12.551161,
          40.6758,
          -18.833408,
          6.840747,
          -13.137917,
          -10.894585,
          -22.309387,
          -3.2271864,
          -8.407584,
          -17.075119,
          -4.6449404,
          -14.054865,
          -8.948869,
          24.027292,
          34.382206,
          -8.761944,
          -15.919102,
          -12.0457535,
          2.2052312,
          35.82555,
          -24.07642,
          -1.5502142,
          -21.02588,
          -13.16465,
          4.6668324,
          1.6514863,
          4.5437574,
          34.851917,
          -8.692812,
          9.602095,
          -6.360174,
          40.19748,
          -15.585558,
          5.258255,
          6.5967703,
          -14.662651,
          -19.827036,
          -18.274307,
          31.73022,
          28.945717,
          8.1145525,
          -2.9359818,
          -8.434123,
          47.55985,
          -3.2521958,
          41.738594,
          39.13392,
          -22.369827,
          31.062656,
          34.677357,
          -12.68868,
          -6.9702477,
          -15.0518265,
          -7.2464147,
          1.9263933,
          4.2417326,
          29.300196,
          -9.895984,
          39.65133,
          -9.13159,
          -3.954995,
          36.839046,
          -3.701373,
          32.679226,
          39.636295,
          -15.844148,
          -15.807192,
          -14.827222,
          -20.446173,
          -14.987356,
          -21.127853,
          43.114037,
          35.961754,
          42.547794,
          4.059635,
          -10.007078,
          31.697992,
          33.31551,
          -15.378493,
          37.89193,
          -0.3938974,
          33.438297,
          -10.93909,
          32.508404,
          -5.4712796,
          -4.733744,
          -4.6934295,
          -0.79656535,
          37.911842,
          3.0269387,
          -3.1215048,
          35.372253,
          -1.8546548,
          35.80928,
          -12.553104,
          -4.711831,
          -15.34343,
          5.1678376,
          -16.892107,
          -9.198155,
          -15.936443,
          -14.68758,
          -17.417461,
          -1.6954262,
          -22.127573,
          7.442891,
          -9.893898,
          29.5653,
          40.831238,
          31.588383,
          32.764168,
          -10.924698,
          -2.727163,
          4.9036546,
          -1.3815287,
          34.59531,
          10.927886,
          18.234066,
          -4.070416,
          -6.5470543,
          27.09749,
          44.456406,
          -15.823847,
          36.54646,
          42.873444,
          -12.686245,
          45.327328,
          5.058547,
          8.706022,
          -16.895687,
          -9.080087,
          -6.0887012,
          -13.974762,
          -11.35428,
          29.830576,
          37.581955,
          47.51185,
          -1.7600065,
          -11.1581545,
          34.731796,
          3.7259917,
          43.554855,
          -9.122098,
          -7.391446,
          3.698755,
          -1.7677816,
          -23.316366,
          -1.2471176,
          -6.309081,
          35.264267,
          -12.251021,
          47.727142,
          -8.6713,
          51.117798,
          -24.87156,
          -20.870125,
          -9.474337,
          -9.147269,
          33.813274,
          34.872444,
          -17.045925,
          -8.734251,
          23.411863,
          5.7812705,
          5.6414437,
          -13.490987,
          -20.697418,
          -5.917511,
          -7.4150743,
          -3.9116566,
          1.6172235,
          1.1506665,
          -9.909721,
          -15.32552,
          30.582783,
          -8.895567,
          -16.482313,
          -5.1151223,
          36.77503,
          -2.3954089,
          7.342408,
          -11.092515,
          -0.28248885,
          -15.599808,
          1.725107,
          -11.287254,
          45.305637,
          -7.873047,
          20.886848,
          46.15191,
          40.191402,
          -20.643457,
          1.7876527,
          -7.531792,
          -16.245195,
          -14.067342,
          -6.067677,
          34.93278,
          29.383219,
          -16.830568,
          43.149864,
          30.412401,
          -13.383854,
          10.897751,
          37.50886,
          -1.109376,
          -16.452404,
          -10.352355,
          31.568602,
          -13.802165,
          -7.947396,
          39.387093,
          -19.493122,
          -12.635078,
          1.9343932,
          4.421137,
          -14.783366,
          -23.18418,
          39.278957,
          4.3929896,
          -6.5291038,
          5.2478485,
          -5.6693087,
          -11.027945,
          -19.863441,
          40.995396,
          41.9287,
          3.182322,
          -8.020128,
          16.593805,
          -2.0865555,
          46.953354,
          -3.2913473,
          -11.01208,
          36.922424,
          -21.356585,
          46.433445,
          33.453312,
          -5.1715655,
          -8.949537,
          -15.956682,
          -7.6306734,
          1.1569468,
          -4.839412,
          -17.355755,
          -1.7359142,
          6.630241,
          42.476166,
          9.09381,
          23.25774,
          -9.480172,
          -9.820664,
          22.316978,
          43.44238,
          8.384486,
          35.146175,
          -13.194527,
          24.754723,
          -3.024605,
          -1.5352122,
          -11.763887,
          -6.2938786,
          26.789463,
          6.762618,
          -13.131639,
          -11.78003,
          7.2600517,
          37.920723,
          -10.503131,
          31.013481,
          -14.983497,
          39.70066,
          29.275553,
          -5.865048,
          -12.057257,
          43.465645,
          42.114227,
          -3.349382,
          -12.364484,
          -8.868865,
          47.48234,
          -4.6491756,
          -25.065773,
          -15.815828,
          -8.010189,
          -22.367079,
          20.238707,
          46.88998,
          -13.155253,
          5.566341,
          51.559532,
          -10.966799,
          -10.344911,
          -6.538063,
          43.677483,
          34.123535,
          2.7628675,
          -4.489898,
          -12.836774,
          -16.855036,
          -9.346358,
          -17.719248,
          -21.379307,
          -19.823599,
          24.648893,
          35.149426,
          -17.321667,
          -21.214844,
          -23.184835,
          -11.130469,
          -12.298946,
          -16.346306,
          -4.645184,
          10.151383,
          -10.314862,
          -1.7921743,
          32.717857,
          -17.483849,
          2.7954588,
          -13.391643,
          3.3993504,
          33.22566,
          3.5585694,
          1.0139499,
          5.451093,
          -20.692871,
          32.30461,
          -1.6829951,
          -14.702994,
          -16.120941,
          -5.748031,
          -14.552811,
          0.7329978,
          42.787388,
          -17.66892,
          -10.719921,
          -10.939505,
          -13.208654,
          -22.769331,
          -20.379938,
          -4.2913775,
          4.9898148,
          -2.9228535,
          4.1972733,
          -18.403791,
          -12.244226,
          -19.449413,
          -21.956358,
          -12.292219,
          -8.310601,
          6.1571407,
          29.139145,
          -10.150474,
          0.28064886,
          -6.42442,
          -2.648835,
          -4.773743,
          -20.827192,
          -6.95092,
          44.18637,
          -14.135328,
          -15.861068,
          -12.729274,
          -14.870034,
          -14.500505,
          -12.841312,
          -3.3280764,
          -6.8865504,
          35.115044,
          -0.49494195,
          41.551956,
          24.73168,
          46.075993,
          5.3442435,
          2.480759,
          5.6581554,
          -5.080728,
          -2.8764987,
          3.9121974,
          -3.345403,
          -9.95648,
          -10.4901705,
          -18.323566,
          3.4187453,
          -16.802597,
          -16.39541,
          -6.0845094,
          -7.1446524,
          31.985676,
          33.036438,
          -4.7240443,
          41.28305,
          46.691765,
          7.2628474,
          -24.61869,
          8.345099,
          -20.124485,
          5.9098473,
          -14.480159,
          35.666977,
          28.157684,
          -5.1170464,
          -19.456573,
          -10.975359,
          -20.579836,
          -14.957046,
          43.792816,
          -15.06715,
          3.9488132,
          6.6734557,
          -11.964792,
          -1.5515332,
          -4.7961793,
          -13.789015,
          -11.395262,
          7.041787,
          -9.976218,
          -16.052317,
          -6.739733,
          -7.82336,
          -22.791775,
          0.3420969,
          -7.8513627,
          -13.197151,
          31.784819,
          -16.404694,
          34.97847,
          -14.193325,
          -3.6168988,
          -12.002271,
          -9.807031,
          -5.1448417,
          -13.813063,
          -7.7701554,
          -5.937231,
          -5.857526,
          39.05224,
          -7.309933,
          -8.800752,
          -10.377405,
          -2.7455006,
          0.86122364,
          7.420806,
          8.651043,
          -16.273693,
          -4.149273,
          -6.372677,
          -12.1713505,
          -15.400839,
          44.016415,
          -15.841501,
          39.320034,
          -1.5761359,
          -13.97514,
          -6.1364202,
          -4.4285855,
          12.291918,
          39.665688,
          -18.814749,
          46.076946,
          -16.499481,
          -1.249357,
          -9.391031,
          -1.2077696,
          -20.065083,
          -8.437243,
          24.405281,
          16.63253,
          2.2713013,
          -23.524893,
          40.199436,
          -17.90582,
          -2.5244155,
          1.8044667,
          2.729274,
          -10.703362,
          -2.187487,
          -15.01587,
          7.9422216,
          -0.90427166,
          30.262463,
          -12.577111,
          -7.2316966,
          -14.99427,
          -18.051058,
          -23.496794,
          0.63521945,
          22.684908,
          -13.737551,
          40.078815,
          1.6321507,
          3.5271382,
          -22.64714,
          10.636789,
          -6.697429,
          45.060356,
          -14.487446,
          43.207047,
          -12.052189,
          9.80663,
          10.051142,
          -12.295862,
          -5.399984,
          -2.9057827,
          -17.597137,
          36.554382,
          -16.29868,
          36.845833,
          -11.451273,
          -20.58244,
          44.273327,
          -16.837168,
          8.493867,
          51.528698,
          1.2078815,
          -4.6991377,
          -22.424715,
          -9.210751,
          -4.964817,
          -11.518068,
          -11.211985,
          0.33738053,
          -0.45175064,
          -25.042078,
          -13.836012,
          40.381165,
          -24.453018,
          -2.5323575,
          -17.595497,
          -10.353213,
          -14.587726,
          -19.14901,
          -20.621986,
          -6.412313,
          -15.507024,
          -17.238182,
          -10.414855,
          23.2005,
          5.7052054,
          10.113405,
          39.863045,
          -13.957175,
          28.741549,
          -2.5437686,
          18.576042,
          -7.078838,
          -2.3431013,
          -11.0030985,
          -7.0421476,
          -10.866065,
          31.394466,
          -5.4507337,
          51.56611,
          38.792572,
          -11.292409,
          -22.531446,
          -11.808702,
          -24.531206,
          15.788584,
          23.81754,
          -4.319398,
          29.424894,
          -11.699677,
          -4.5913534,
          -12.45737,
          9.755357,
          -15.254711,
          -11.487242,
          8.591199,
          43.367603,
          7.262138,
          -2.6812973,
          -20.634995,
          -23.792704,
          -21.767828,
          -8.91005,
          -14.19819,
          34.277126,
          -4.244296,
          -18.658825,
          -12.32857,
          1.6670158,
          29.94024,
          38.58298,
          -17.034174,
          -3.1967185,
          6.0925617,
          -7.2815447,
          39.652504,
          -19.867645,
          44.516422,
          0.7878239,
          22.46361,
          -20.601923,
          -3.192596,
          2.4826515,
          3.1820526,
          -10.411351,
          25.360308,
          45.299683,
          8.541734,
          -4.9611073,
          -15.864298,
          -6.3451834,
          37.654022,
          4.234276,
          -21.880466,
          -20.183167,
          -4.6473308,
          1.287273,
          -4.743964,
          3.6825066,
          1.2485039,
          -18.639988,
          -17.099655,
          -0.51024586,
          -12.593267,
          42.393234,
          29.873034,
          -7.23323,
          -13.856276,
          -16.871113,
          -11.509377,
          -13.128337,
          -8.225015,
          5.7514586,
          -11.342774,
          34.031322,
          36.69509,
          -12.3113985,
          -12.27317,
          -4.163116,
          44.73522,
          -9.024844,
          -21.021204,
          45.94553,
          29.798836,
          -11.618668,
          7.011615,
          36.514744,
          2.6905665,
          9.525396,
          -20.739878,
          37.060116,
          18.221943,
          44.996555,
          3.8712409,
          -4.0310497,
          -19.956987,
          1.4878098,
          -5.5758214,
          -8.103417,
          6.4353905,
          -12.630831,
          38.161587,
          2.312149,
          -20.153862,
          42.445774,
          5.3917723,
          -7.860795,
          46.92756,
          -14.390529,
          -15.129187,
          34.308113,
          -7.38151,
          -21.13983,
          46.52087,
          6.723101,
          -12.161885,
          -18.3881,
          38.42457,
          -6.0946393,
          -8.878422,
          -10.479607,
          -16.632904,
          -12.172036,
          46.61197,
          -13.277808,
          -8.8239155,
          -21.014357,
          -8.679017,
          8.5109415,
          -12.158326,
          21.45768,
          42.53126,
          -15.727696,
          16.503883,
          33.250626,
          -3.0122986,
          -17.468021,
          -0.6030207,
          -14.024776,
          3.1568859,
          8.1233425,
          0.5263039,
          3.7302608,
          -10.122279,
          8.108418,
          -15.0057745,
          38.698578,
          -16.415386,
          42.575745,
          41.765694,
          -14.229997,
          45.923325,
          -8.407789,
          -2.383235,
          -21.476248,
          44.837746,
          -22.94055,
          3.116106,
          -1.7511091,
          -13.254791,
          -14.305944,
          -5.0169554,
          -15.6276655,
          -20.092651,
          0.21338771,
          -16.781233,
          -1.2877975,
          20.447462,
          -8.549106,
          36.37161,
          34.073036,
          2.4636319,
          44.61059,
          41.130913,
          44.7286,
          0.93865633,
          -12.351326,
          -14.093065,
          1.724485,
          13.334181,
          35.86126,
          -6.0631595,
          3.340631,
          -1.867156,
          -2.3820517,
          31.195576,
          -15.056898,
          25.799715,
          22.165075,
          -10.38876,
          44.217617,
          2.2616553,
          41.031715,
          45.421654,
          24.240368,
          -17.61199,
          -13.401358,
          -6.7905416,
          -9.524992,
          -18.574602,
          35.71597,
          -21.520815,
          -10.54295,
          28.150242,
          31.909714,
          3.1805184,
          45.84646,
          -7.8384724,
          31.293303,
          16.566465,
          -1.7114352,
          5.355017,
          2.0229595,
          7.5626736,
          -0.36869702,
          -15.207939,
          35.284817,
          -13.14222,
          -21.802673,
          -9.457811,
          -7.323526,
          4.216416,
          -5.742252,
          -14.754945,
          45.102757,
          -10.849323,
          38.009056,
          -13.536682,
          -10.063437,
          -7.761701,
          7.7199054,
          -9.335692,
          -3.0599406,
          -15.153137,
          -9.909521,
          36.364056,
          1.8508883,
          4.257242,
          -16.021801,
          -10.997923,
          -20.387806,
          -14.378099,
          16.39242,
          -0.69545573,
          -14.442103,
          38.48893,
          7.664254,
          -9.340273,
          -1.2865587,
          35.04356,
          28.912455,
          -12.524671,
          -2.1118958,
          7.690256,
          -12.547948,
          27.726812,
          29.09321,
          -1.5509168,
          33.846706,
          -12.827509,
          -6.7780795,
          -6.0586195,
          1.768305,
          37.570084,
          -5.438007,
          -9.482546,
          -17.28323,
          5.377402,
          -3.7149327,
          -7.104251,
          36.52708,
          -2.605671,
          43.616314,
          -7.0683184,
          -1.1689694,
          3.027215,
          -3.3294845,
          -12.293754,
          38.786606,
          5.283871,
          -10.362762,
          -11.072197,
          7.8550673,
          0.6997414,
          0.03528102,
          -23.157185,
          0.6381369,
          -14.660423,
          -4.07549,
          5.716872,
          8.054207,
          32.762177,
          -8.219566,
          26.004362,
          4.3209147,
          -6.109584,
          -22.586422,
          -9.579202,
          -2.7691417,
          38.180096,
          41.9942,
          -0.3730674,
          1.1306417,
          -7.606285,
          -6.6302147,
          40.626617,
          -5.496729,
          28.787554,
          -15.330236,
          -1.6113808,
          34.766705,
          -22.298214,
          47.989082,
          -7.53159,
          -14.818252,
          46.880657,
          -9.678923,
          -9.092808,
          -11.967012,
          38.026543,
          -21.748268,
          40.952,
          51.420418,
          -18.778492,
          35.022846,
          -7.014162,
          -2.7616644,
          37.004417,
          -12.192553,
          4.9865503,
          -16.657824,
          -15.045873,
          4.185138,
          23.921278,
          -22.88175,
          -16.116806,
          3.472995,
          -3.226419,
          40.733566,
          -11.161722,
          -21.845158,
          -7.289935,
          39.08442,
          4.009708,
          -16.010557,
          3.47652,
          -10.030687,
          -11.532146,
          3.2139306,
          -8.549232,
          -10.558108,
          -7.364265,
          4.018447,
          -10.440181,
          -8.251298,
          -11.692775,
          45.826595,
          -12.967342,
          -18.456213,
          -12.127424,
          -21.005196,
          -13.184874,
          -16.621977,
          -19.317772,
          -21.124695,
          51.336327,
          -5.1538587,
          -4.315754,
          3.7231672,
          5.694698,
          5.3886943,
          -18.517157,
          31.482471,
          -7.82439,
          -4.737643,
          -10.998026,
          30.78896,
          -24.659197,
          -2.7895093,
          -3.001168,
          -13.002541,
          -4.146503,
          4.110311,
          6.9325643,
          25.744219,
          -19.22103,
          6.472924,
          36.488636,
          32.35342,
          45.54822,
          -1.4620903,
          -5.8168755,
          -19.976742,
          -6.5466166,
          -3.4799883,
          2.031445,
          4.2023706,
          6.7468333,
          -17.475689,
          -11.785888,
          45.829895,
          -13.4669485,
          29.350079,
          -16.230352,
          -15.414422,
          3.3096201,
          47.067684,
          -16.673185,
          -23.607147,
          -17.655287,
          30.690521,
          6.8663163,
          -16.883442,
          11.351791,
          -22.26259,
          45.401352,
          -24.250652,
          -13.19333,
          45.605087,
          20.085676,
          2.0513027,
          -14.002499,
          -15.93183,
          -4.1123185,
          -19.647966,
          34.974945,
          -18.853691,
          4.762668,
          2.716245,
          9.53778,
          39.423565,
          31.024782,
          -12.872555,
          -18.47059,
          2.2376587,
          39.27028,
          22.142624,
          43.795315,
          -11.572564,
          6.94997,
          31.261549,
          24.452978,
          -0.47609934,
          16.556122,
          41.378292,
          -7.0598183,
          -18.571457,
          -16.674076,
          -7.4353356,
          -11.454308,
          39.915474,
          2.0155659,
          37.98076,
          -13.280334,
          29.343008,
          -14.654824,
          40.12626,
          32.92278,
          -13.791834,
          -12.50298,
          -13.715465,
          -19.863573,
          -16.842564,
          40.41192,
          36.137123,
          -15.72215,
          3.7979596,
          -21.366789,
          -19.433382,
          32.059856,
          1.343814,
          -15.501848,
          4.6811934,
          7.4084196,
          1.5965271,
          -7.011722,
          -16.8662,
          -3.8060524,
          -3.271556,
          -2.7026122,
          37.210396,
          51.392044,
          -24.235117,
          -22.851166,
          4.4204254,
          42.420982,
          24.308878,
          -20.896648,
          -20.603565,
          -18.432568,
          42.795155,
          0.5828153,
          31.573278,
          -0.27144146,
          -4.318836,
          1.1647053,
          -10.732203,
          37.150665,
          -16.892252,
          43.93874,
          -13.204701,
          -16.046005,
          -8.332241,
          -4.9341593,
          -14.731049,
          40.657936,
          -0.11579465,
          42.67105,
          -9.500278,
          -17.646133,
          37.08619,
          -7.1823215,
          -9.963538,
          25.191498,
          -1.4484752,
          45.091675,
          -16.026863,
          -6.2894773,
          28.109516,
          -12.2185,
          37.975636,
          5.960553,
          39.454834,
          -8.737471,
          30.972008,
          -9.918905,
          0.36786246,
          46.782608,
          -12.149876,
          -12.282936,
          -0.28681317,
          41.866627,
          -4.9091477,
          -1.8304247,
          6.694371,
          -12.359963,
          -4.9998374,
          -2.4406872,
          46.88929,
          -22.23258,
          6.373729,
          46.09679,
          36.6705,
          -9.4276085,
          -10.881567,
          -10.748674,
          -10.8866005,
          21.953627,
          9.500733,
          -5.069669,
          37.82526,
          30.92838,
          -15.98041,
          47.697704,
          0.6357622,
          -4.314003,
          -17.761515,
          -13.8799095,
          -9.140438,
          36.65548,
          1.7919854,
          -15.767865,
          -7.507007,
          2.1131485,
          -5.462261,
          7.5525603,
          4.5331187,
          18.337458,
          -1.7856294,
          -8.012984,
          7.5008535,
          -0.6205171,
          -2.562607,
          -11.311874,
          -13.392672,
          -15.217505,
          42.856422,
          29.791843,
          -8.31381,
          -15.604523,
          -12.634995,
          -6.0106544,
          -1.9151914,
          -5.634788,
          0.5010056,
          -13.982006,
          -17.958994,
          -11.250314,
          -13.886231,
          -9.163048,
          -6.750674,
          -7.5260196,
          3.257509,
          -8.036445,
          37.513058,
          44.708557,
          -6.501341,
          -10.01971,
          -17.324688,
          -1.4572973,
          9.199384,
          31.601057,
          38.025414,
          5.7422943,
          -8.7962675,
          -16.336596,
          -13.901219,
          9.595288,
          28.194527,
          -16.412579,
          33.723484,
          -16.219477,
          21.615902,
          -12.273382,
          -11.613153,
          -13.846519,
          19.293766,
          -8.3531275,
          30.030508,
          -2.3756692,
          -4.6805887,
          -13.511853,
          -4.9635615,
          0.36748654,
          -5.006546,
          -10.934606,
          23.171492,
          -10.904803,
          29.731419,
          -16.982225,
          -9.492954,
          -10.342982,
          38.88165,
          -13.823787,
          -7.4634423,
          -2.497231,
          -17.44312,
          -16.45928,
          -8.230423,
          -21.062658,
          3.0606933,
          8.93462,
          -7.0486283,
          0.28660184,
          37.50531,
          -7.69451,
          0.2544206,
          9.785883,
          32.033108,
          9.923661,
          -21.401321,
          -4.11629,
          -3.1211483,
          33.372314,
          -12.1835985,
          26.930456,
          41.79942,
          -17.184107,
          -10.868684,
          29.11157,
          13.328508,
          24.170502,
          38.55404,
          -5.9798045,
          -6.732054,
          -6.7812233,
          -4.644189,
          35.286068,
          -5.8000507,
          41.838097,
          2.5305555,
          9.559945,
          17.395277,
          -15.251677,
          6.188429,
          -21.527424,
          -0.16541722,
          3.9608006,
          -4.480232,
          -7.084491,
          -10.829537,
          -2.6109931,
          -8.1280155
         ],
         "xaxis": "x",
         "y": [
          -13.586462,
          13.125421,
          -1.2079737,
          20.049448,
          -18.959843,
          3.516559,
          -21.578983,
          27.113094,
          31.474987,
          -13.1239,
          1.8406528,
          26.741014,
          -8.597475,
          -21.188757,
          -2.7877326,
          11.036648,
          9.666855,
          -18.282637,
          -19.247889,
          3.249655,
          3.9018803,
          13.528212,
          24.48867,
          -14.918083,
          -4.097989,
          -21.886984,
          8.915571,
          -25.661322,
          -27.728767,
          10.048002,
          23.414225,
          -28.505323,
          -22.173048,
          10.730777,
          -8.315414,
          -1.5430657,
          3.6031747,
          -29.03478,
          -2.995651,
          15.9504385,
          6.660075,
          -10.527547,
          -18.139969,
          -14.054283,
          3.8641086,
          31.967087,
          -34.80763,
          11.7158375,
          7.27081,
          16.187252,
          7.5381613,
          -2.5763626,
          12.538444,
          -24.275599,
          -22.551682,
          -18.35936,
          -27.477331,
          -25.310795,
          20.435741,
          6.532538,
          -18.01295,
          -30.602518,
          -17.78073,
          30.019064,
          -22.735268,
          8.284419,
          14.679193,
          25.17705,
          -26.035751,
          -1.0271306,
          11.195527,
          15.073156,
          7.840634,
          -32.661236,
          -30.909172,
          5.224925,
          21.913645,
          -0.17407553,
          -7.366404,
          -3.2893364,
          26.229887,
          20.826017,
          -24.146122,
          -1.7382755,
          12.663203,
          25.461605,
          19.93558,
          22.2822,
          14.011909,
          10.019003,
          -30.416794,
          -0.886245,
          8.814199,
          2.614757,
          -5.756526,
          25.276062,
          31.093006,
          16.062977,
          -21.646736,
          21.584496,
          9.377322,
          -29.18309,
          28.879337,
          11.792906,
          -29.846228,
          9.209165,
          1.753301,
          15.054437,
          2.273091,
          -16.203424,
          -27.920284,
          13.644841,
          9.579754,
          21.513441,
          13.129582,
          -13.105505,
          0.25199035,
          -11.560183,
          -14.678963,
          -6.54869,
          28.235197,
          12.2649,
          -1.696734,
          12.607277,
          12.806868,
          12.243919,
          16.210712,
          -19.851559,
          -17.382074,
          28.57526,
          -1.9857942,
          9.889403,
          19.026825,
          17.537487,
          -34.488277,
          18.30244,
          26.284023,
          17.224804,
          5.2487445,
          6.7845387,
          -31.537317,
          -2.3257647,
          -15.15053,
          15.418826,
          4.930033,
          -30.904305,
          3.3282576,
          -28.637457,
          12.134863,
          -33.15166,
          12.684843,
          -15.32684,
          -11.868497,
          -25.580908,
          21.127619,
          23.691803,
          -2.4898658,
          1.9892803,
          1.6435539,
          10.400736,
          -13.536968,
          -0.50208205,
          14.198133,
          1.2854764,
          -26.729336,
          16.51884,
          9.756753,
          -33.12891,
          -27.610788,
          6.4798217,
          15.90445,
          4.4057236,
          14.110935,
          -27.47413,
          10.940605,
          -12.911477,
          21.259672,
          5.989883,
          -28.44156,
          -11.511762,
          -26.840294,
          16.927492,
          -16.39499,
          12.015069,
          22.944689,
          5.252136,
          -20.440462,
          -29.435411,
          8.616825,
          -10.328543,
          13.219639,
          3.136015,
          -5.754448,
          6.2329073,
          -12.487291,
          7.454022,
          20.673344,
          -3.7761297,
          -5.4295135,
          -28.158226,
          0.37067154,
          12.849687,
          -1.9992734,
          -8.554085,
          25.640923,
          10.746775,
          1.5852206,
          30.798248,
          -22.952133,
          -17.6802,
          -14.917462,
          18.248802,
          -10.690433,
          13.999709,
          -25.21487,
          4.8765893,
          -6.166004,
          10.05929,
          -32.132362,
          19.804178,
          19.064764,
          23.725983,
          7.3357134,
          8.835593,
          3.5461555,
          -21.853344,
          2.522916,
          9.217355,
          10.785436,
          20.838814,
          20.13149,
          -22.929428,
          -12.249073,
          -12.993214,
          -30.154692,
          -22.187912,
          -5.5902443,
          21.485365,
          -20.580423,
          -20.533579,
          16.22522,
          11.0443535,
          7.2209735,
          -27.80158,
          -21.09688,
          -30.916012,
          10.865405,
          13.217563,
          -10.416828,
          0.14187083,
          18.031176,
          11.669114,
          -18.104853,
          -19.807358,
          6.232308,
          2.3639195,
          22.52626,
          11.80762,
          16.512094,
          3.4491441,
          -27.397825,
          19.499172,
          -30.645966,
          19.147736,
          4.0069904,
          -28.670534,
          -24.551884,
          22.376247,
          -1.2710071,
          18.26623,
          10.215614,
          2.6200686,
          18.004278,
          -14.706123,
          2.9303367,
          -23.471619,
          21.926794,
          1.5882387,
          -26.885382,
          -28.036829,
          6.341135,
          -17.412178,
          8.580191,
          6.807487,
          -30.804026,
          22.595005,
          -19.797363,
          -14.492161,
          -17.023712,
          -15.719168,
          17.86464,
          -0.9272416,
          9.760733,
          14.05771,
          10.067839,
          -24.904612,
          18.047892,
          28.171392,
          16.038683,
          -15.701618,
          28.492453,
          2.204207,
          6.6966248,
          20.783045,
          14.326765,
          15.679032,
          -1.6795306,
          -32.229107,
          9.325631,
          -30.722275,
          5.938999,
          16.331173,
          -2.80407,
          0.7670752,
          -13.437421,
          -14.658464,
          11.821532,
          0.07028956,
          -3.8089802,
          -8.34964,
          -3.7182374,
          -7.3738217,
          -19.136122,
          -28.568695,
          -1.574239,
          -8.403561,
          -21.928375,
          -26.285069,
          11.586792,
          -3.3051887,
          -12.078653,
          12.074956,
          -32.414185,
          2.3215497,
          -19.829184,
          -18.716824,
          -20.86887,
          19.645395,
          11.166222,
          9.437322,
          -5.783167,
          -5.4045897,
          -1.1845589,
          24.954304,
          -20.309336,
          21.32455,
          22.374727,
          13.783557,
          -15.687525,
          3.9168968,
          22.579947,
          -21.310177,
          -31.305464,
          6.4353933,
          20.090538,
          5.818957,
          19.36607,
          29.802017,
          26.748747,
          -27.923103,
          3.9996243,
          9.268431,
          -29.189419,
          15.8220005,
          9.074142,
          -27.897894,
          -18.828402,
          -0.25784555,
          5.88586,
          12.02067,
          -17.50814,
          12.552772,
          3.949556,
          -12.427938,
          -14.519441,
          -16.944931,
          4.2849216,
          30.899275,
          5.9383125,
          8.619586,
          14.812164,
          -14.914278,
          -24.359589,
          -3.4924927,
          -2.9600313,
          -9.87774,
          0.9975479,
          0.5862545,
          25.52116,
          14.750933,
          13.531824,
          6.212223,
          13.467804,
          17.380974,
          0.9376063,
          -33.12976,
          -22.123161,
          12.152193,
          -21.428429,
          -1.4787079,
          -1.2833518,
          -3.571166,
          5.503734,
          -12.872664,
          18.19975,
          -0.20147105,
          19.979788,
          25.294115,
          12.982767,
          -8.598384,
          6.3025074,
          -19.50459,
          7.110116,
          12.461678,
          -0.61537194,
          -13.933536,
          -33.032345,
          19.11379,
          15.14615,
          10.735909,
          2.454613,
          -19.509975,
          9.223286,
          -30.32429,
          14.792607,
          -29.21968,
          -25.211536,
          -27.990868,
          -11.129592,
          14.090618,
          -25.21371,
          -8.829646,
          13.190923,
          3.835202,
          2.76041,
          -10.1940365,
          -5.706308,
          -3.6865191,
          -18.498373,
          30.188938,
          8.230534,
          14.32777,
          28.98384,
          23.019115,
          -32.245872,
          21.988575,
          -12.9130335,
          2.1063302,
          20.173084,
          12.513618,
          19.15389,
          17.959871,
          -5.44188,
          -20.131302,
          -16.344791,
          -5.9748826,
          12.809535,
          -20.32292,
          21.857618,
          -0.66500145,
          -0.544858,
          18.926687,
          -1.9121033,
          16.433958,
          4.0384707,
          3.4400067,
          10.294004,
          7.542052,
          -16.990623,
          -16.225187,
          27.002245,
          -22.130577,
          -3.022938,
          -14.474881,
          -27.561575,
          18.877266,
          8.976583,
          -1.9522402,
          13.333294,
          9.415582,
          8.101655,
          -12.398872,
          -1.0129303,
          13.857506,
          3.510568,
          -8.896037,
          8.508043,
          5.0878406,
          -23.026901,
          19.187366,
          1.4191533,
          -13.080382,
          2.4933088,
          1.4744825,
          0.82382756,
          10.112898,
          14.117676,
          -10.601873,
          3.4741924,
          3.6837337,
          13.661567,
          29.86304,
          1.2719895,
          21.173178,
          -32.437813,
          -17.561611,
          17.292725,
          -19.312008,
          -21.861814,
          -34.75222,
          5.860113,
          -33.039635,
          -4.008265,
          -4.8982396,
          -24.666029,
          10.4328165,
          -4.5270133,
          21.493061,
          -21.27708,
          16.936028,
          -29.519009,
          -19.837627,
          -23.327719,
          -0.010393286,
          3.0922112,
          -24.740292,
          24.531502,
          0.59734076,
          5.0069394,
          21.167095,
          -1.2971271,
          0.08933184,
          -21.851595,
          -30.995916,
          19.944675,
          25.46455,
          22.096342,
          -5.2595754,
          13.000239,
          20.660213,
          -6.995529,
          -1.3011392,
          17.861166,
          5.753999,
          -16.954477,
          15.76929,
          -26.15062,
          26.930246,
          -2.1105402,
          18.441116,
          22.09457,
          -31.066385,
          16.285093,
          14.365961,
          29.57681,
          -8.132516,
          -15.990335,
          -31.003578,
          27.831818,
          9.049235,
          -10.677267,
          -28.587887,
          -30.843172,
          -9.017006,
          -9.501887,
          30.118984,
          1.0927895,
          6.2916,
          -12.946363,
          0.4993711,
          20.61302,
          -24.485956,
          -1.9603416,
          -26.870699,
          4.768204,
          12.7816515,
          -15.88697,
          -1.0249895,
          9.382643,
          -16.567698,
          -22.543344,
          23.259563,
          -34.203506,
          9.967304,
          5.8339314,
          7.2441406,
          -2.1108692,
          -24.003254,
          8.098669,
          -26.465763,
          20.80326,
          16.158865,
          2.5518305,
          21.921886,
          12.879439,
          -23.998114,
          11.467591,
          14.780758,
          15.452143,
          -34.836266,
          -17.08651,
          -4.6690207,
          -6.914514,
          20.136816,
          -24.572456,
          24.967499,
          2.578725,
          -11.45938,
          4.709071,
          17.364697,
          16.78871,
          12.121313,
          7.911546,
          15.001842,
          -27.508484,
          -7.3786087,
          7.8521037,
          2.8562658,
          -34.87349,
          26.324076,
          4.7882237,
          -2.576478,
          13.12268,
          9.627768,
          20.235382,
          2.4554098,
          10.338348,
          19.472189,
          -2.4232233,
          -4.808354,
          -10.094871,
          2.4851294,
          25.609058,
          15.844144,
          -2.3757973,
          7.979147,
          16.802107,
          -16.150162,
          -22.576258,
          -30.533455,
          3.3032215,
          -3.7114418,
          21.897497,
          -19.313848,
          8.650725,
          15.611174,
          13.342858,
          -10.676738,
          -19.097643,
          -19.26681,
          -33.40447,
          12.232805,
          13.0916195,
          -1.87885,
          -24.325565,
          7.498681,
          4.001772,
          13.817772,
          14.781739,
          -27.870752,
          -29.060303,
          -17.724869,
          15.76794,
          -21.605824,
          -29.419474,
          -23.430069,
          -19.489922,
          6.9942575,
          -15.022045,
          21.028578,
          6.20797,
          19.028591,
          4.948865,
          -25.09084,
          -1.2320967,
          28.119003,
          -29.713776,
          27.224747,
          20.310795,
          -19.226746,
          7.055867,
          -19.13013,
          -26.437992,
          -8.456801,
          -15.069782,
          31.119709,
          9.563723,
          29.366682,
          13.485681,
          -14.132416,
          14.779306,
          -18.216272,
          14.578251,
          5.6732,
          3.0071673,
          1.3256557,
          -18.42087,
          -13.701625,
          7.7077136,
          -5.2283707,
          0.63295794,
          -11.932623,
          -3.1437502,
          23.348581,
          21.380117,
          23.48577,
          -11.781606,
          -3.7239618,
          -18.333035,
          5.307877,
          5.5655403,
          -0.4062637,
          15.496003,
          3.570003,
          -9.968334,
          -21.566456,
          -14.18489,
          -23.4029,
          -6.5793443,
          -15.300205,
          -4.6217947,
          -21.371908,
          -4.931144,
          16.511484,
          -16.081661,
          17.078623,
          22.82869,
          -29.68326,
          -23.978264,
          10.097031,
          5.5222783,
          2.345867,
          7.019284,
          1.888296,
          -25.538208,
          12.991106,
          -24.404142,
          28.361288,
          -22.448507,
          19.653105,
          3.838568,
          22.048546,
          -16.772179,
          27.708075,
          1.3799182,
          11.991561,
          11.951186,
          -1.8195037,
          -25.426847,
          -24.021637,
          -9.679891,
          25.320372,
          -15.059983,
          -12.22039,
          -14.386366,
          16.66595,
          -8.303806,
          -6.653154,
          -12.573641,
          19.366325,
          -29.311293,
          9.789753,
          -7.116437,
          -23.742691,
          -6.719482,
          8.2341385,
          28.494778,
          11.830868,
          -3.4611225,
          -24.09256,
          -28.001152,
          4.436175,
          2.1361263,
          11.4255705,
          -34.20011,
          -23.42279,
          -23.471071,
          8.552203,
          8.655161,
          -28.2957,
          18.467602,
          -25.949894,
          -9.649304,
          -17.374796,
          -23.805159,
          4.988065,
          -11.88418,
          17.911608,
          8.088412,
          -12.809514,
          -2.7929235,
          31.08526,
          5.6708384,
          -11.506621,
          -31.082674,
          3.06359,
          -8.730999,
          -13.7247095,
          0.2167451,
          30.701906,
          2.6529787,
          20.859512,
          -14.3928385,
          1.8754109,
          -21.157326,
          19.475607,
          -2.4212792,
          20.05062,
          21.093939,
          -11.404343,
          13.187857,
          1.4386256,
          22.37808,
          -27.48754,
          -5.528321,
          -18.044886,
          -23.11323,
          -3.8154826,
          5.6779695,
          -14.61753,
          -9.767971,
          19.36705,
          16.941872,
          -10.621463,
          26.957756,
          18.861502,
          -19.273077,
          -22.944666,
          21.266994,
          -10.839836,
          1.6286767,
          -5.8858013,
          -3.2359889,
          10.956191,
          -14.067818,
          18.93624,
          8.45508,
          -11.263306,
          -0.065639414,
          -31.313238,
          -20.333357,
          -19.05877,
          14.890935,
          1.1585163,
          -29.572786,
          -4.2103605,
          0.0331927,
          19.540049,
          1.6033441,
          -2.2665648,
          11.967566,
          5.6799073,
          28.927471,
          -16.07917,
          2.2418346,
          -14.433785,
          7.411603,
          -18.855104,
          -27.89351,
          -7.153359,
          -6.5633116,
          8.525926,
          -26.613539,
          -1.3821627,
          10.302055,
          11.321914,
          10.044186,
          19.858114,
          -30.778698,
          30.487106,
          -0.5338911,
          -10.575712,
          29.63774,
          4.0364137,
          13.103188,
          9.760941,
          10.29905,
          -7.6537495,
          20.196615,
          -22.027048,
          -23.078276,
          -3.5839844,
          9.638272,
          20.054186,
          -24.7954,
          21.888767,
          -17.607548,
          1.5756018,
          -3.897307,
          2.11276,
          15.416914,
          19.677553,
          -4.7868876,
          3.2575128,
          11.458495,
          -30.880774,
          -18.842505,
          -2.5173085,
          14.242409,
          20.588844,
          19.971714,
          -1.7259614,
          15.764537,
          10.946782,
          1.0001372,
          -13.114619,
          -12.940913,
          -14.667991,
          20.068356,
          -21.550549,
          -2.4056215,
          -15.094787,
          -23.411758,
          -18.245813,
          17.536793,
          12.691261,
          -20.04917,
          2.2403166,
          16.51513,
          -34.36786,
          26.249655,
          13.671839,
          -26.675987,
          11.25707,
          1.940211,
          24.948639,
          -28.316803,
          -15.139678,
          -5.6538715,
          5.6572843,
          15.059007,
          -0.40940952,
          -24.290268,
          20.142128,
          4.0762258,
          4.47596,
          -16.741777,
          -26.228683,
          -18.076849,
          19.617098,
          5.3541155,
          -18.406126,
          -24.694334,
          18.409433,
          -10.866037,
          12.883858,
          -12.238765,
          -18.42598,
          -19.410324,
          -1.9840552,
          -16.812937,
          -28.166887,
          -13.133374,
          -19.156994,
          -1.6812106,
          28.181095,
          -0.4550957,
          16.112282,
          8.297776,
          20.234396,
          -25.067099,
          6.104984,
          29.775074,
          17.20212,
          7.9390593,
          3.7366998,
          -20.716312,
          -10.301745,
          14.26072,
          3.335813,
          15.919055,
          -5.806562,
          0.53442633,
          2.2344122,
          13.744208,
          21.710371,
          4.4754567,
          15.508047,
          2.3772695,
          -9.257553,
          13.754894,
          -28.836754,
          -10.218826,
          -17.984787,
          6.402795,
          20.956268,
          -1.5462836,
          -19.653461,
          -30.59097,
          26.551636,
          -10.194156,
          -19.15875,
          -31.516588,
          -26.426739,
          -15.150317,
          2.9377143,
          -23.802382,
          -20.216465,
          -1.8243797,
          -13.481084,
          -23.691257,
          -2.9142234,
          -5.1422205,
          24.344852,
          11.798557,
          -6.7040462,
          -15.624541,
          7.7525434,
          -30.862213,
          11.129578,
          19.831707,
          12.704383,
          -27.384974,
          -0.017878316,
          12.979767,
          27.05762,
          -24.192575,
          0.7401064,
          3.5202246,
          -17.106453,
          26.632097,
          6.158516,
          -29.86974,
          5.4571276,
          19.633205,
          -0.013853866,
          11.522645,
          20.062181,
          17.681158,
          -21.72093,
          -10.643549,
          -3.0014133,
          -13.949742,
          -16.889603,
          -17.682972,
          -0.8397523,
          -19.245775,
          9.89041,
          -27.076641,
          9.3475485,
          -2.492925,
          1.1947755,
          17.035763,
          6.538802,
          2.441113,
          8.482585,
          -7.1762877,
          -0.68029565,
          18.915657,
          10.173078,
          28.199406,
          -19.523548,
          13.322656,
          19.386545,
          -3.1692393,
          3.0891593,
          -1.3694059,
          24.961582,
          -34.040676,
          25.663176,
          -4.544479,
          20.326504,
          2.955958,
          0.14549136,
          7.8862104,
          -29.497606,
          -3.505943,
          6.7689624,
          -0.6908114,
          -25.094687,
          22.081472,
          -31.586857,
          -12.439146,
          -18.829632,
          11.630427,
          0.9125052,
          -13.855418,
          -13.310107,
          -1.1585108,
          9.77646,
          21.98631,
          18.6546,
          20.963205,
          -30.255325,
          11.733239,
          -20.071602,
          4.8268123,
          9.018198,
          16.21357,
          18.01077,
          -28.73315,
          4.2431726,
          0.3688593,
          20.937103,
          8.365083,
          -19.95874,
          -0.69309556,
          21.61207,
          7.7488327,
          -26.536749,
          -1.3370826,
          -21.356504,
          11.204974,
          21.673079,
          -7.893038,
          -25.622286,
          -10.151991,
          -22.152166,
          -5.094184,
          29.224112,
          3.9070005,
          1.2791454,
          9.342815,
          12.906167,
          -26.189882,
          -17.267023,
          -2.1205454,
          23.352219,
          -0.7135204,
          26.928375,
          -0.652149,
          20.220419,
          20.119682,
          -22.165459,
          -10.791751,
          -4.5700836,
          -23.132198,
          29.880405,
          -29.499847,
          14.7911415,
          -13.301616,
          -15.439547,
          10.137461,
          18.460533,
          10.768949,
          20.472216,
          20.909506,
          -24.964457,
          8.529042,
          -1.3447272,
          -22.563257,
          21.946705,
          -10.707773,
          3.6440096,
          16.22472,
          5.9588065,
          -30.663494,
          -29.4515,
          29.57664,
          14.332283,
          12.385669,
          -15.517132,
          4.722056,
          20.47556,
          -4.04642,
          -30.400724,
          -12.419923,
          5.171738,
          -26.154715,
          -5.3263845,
          24.088661,
          -8.355969,
          7.715725,
          4.834585,
          6.4693217,
          -27.531502,
          -0.767382,
          -7.9910493,
          -21.024584,
          -22.50239,
          9.531035,
          25.319122,
          1.6235477,
          -20.617107,
          13.914495,
          -27.816168,
          -17.551556,
          -20.810768,
          -6.64938,
          10.419921,
          -15.5291605,
          18.64462,
          -4.061734,
          -20.91272,
          -15.643639,
          12.761933,
          1.2719673,
          18.889215,
          -30.472971,
          7.8126593,
          28.50538,
          27.26251,
          -25.728601,
          4.564529,
          2.7506344,
          -23.735905,
          -20.532497,
          -31.30739,
          10.74107,
          -0.2900653,
          -31.983534,
          13.372808,
          -24.581873,
          -10.515475,
          12.459719,
          -19.186619,
          0.13954988,
          -6.552074,
          19.271679,
          7.1718345,
          -30.23442,
          -9.07313,
          4.088796,
          0.18912797,
          -20.888458,
          -0.4331366,
          1.7363335,
          21.974436,
          4.2654333,
          16.077354,
          2.6586654,
          5.3784947,
          -21.399307,
          -21.574049,
          25.439455,
          20.040648,
          -17.585773,
          16.346527,
          12.188113,
          7.298082,
          -11.931615,
          7.770848,
          12.469866,
          26.776173,
          20.142641,
          -27.839235,
          -2.8379402,
          -10.293495,
          28.435495,
          -15.71935,
          15.207062,
          -29.210238,
          -11.040925,
          13.639793,
          12.813179,
          -25.13666,
          -21.800892,
          -29.015633,
          11.029669,
          23.911118,
          -2.1356921,
          4.098709,
          24.117554,
          25.186644,
          10.917402,
          -27.610535,
          22.027073,
          17.483925,
          23.857708,
          1.4663769,
          -10.160908,
          -16.12372,
          -16.460348,
          -16.30537,
          -19.728113,
          23.324093,
          15.404054,
          12.723411,
          -3.490787,
          2.1678405,
          8.252106,
          11.719336,
          2.6923745,
          -11.348782,
          -20.305038,
          -18.514927,
          -9.658615,
          -15.505023,
          19.495747,
          15.56997,
          -22.805288,
          10.178296,
          7.058431,
          -2.4796326,
          -8.174392,
          -32.53496,
          10.1867695,
          -29.599337,
          -2.2365859,
          -8.332246,
          -14.437856,
          -14.550757,
          3.4543903,
          8.91327,
          -1.6355442,
          -27.193758,
          20.058743,
          7.0023794,
          27.613024,
          -20.924738,
          -2.0434246,
          30.630484,
          8.487048,
          20.804794,
          11.223847,
          -22.934807,
          15.672715,
          -17.212484,
          7.8170357,
          -0.7294519,
          11.200657,
          13.05872,
          9.141769,
          20.5924,
          -13.409486,
          24.191944,
          21.698694,
          12.141673,
          19.26368,
          11.9198475,
          32.02249,
          -15.302683,
          -33.479774,
          -23.023474,
          16.475786,
          10.724559,
          -1.167397,
          24.260551,
          -17.127312,
          4.851833,
          20.709715,
          8.598147,
          -24.09775,
          -18.760618,
          10.300864,
          20.115078,
          -27.342855,
          20.60433,
          0.66957366,
          -8.227701,
          30.568115,
          13.24579,
          -14.085372,
          26.845608,
          5.8505273,
          -15.801089,
          1.5561941,
          16.73496,
          13.254557,
          28.406116,
          -3.9575696,
          16.198717,
          16.879349,
          -27.327911,
          -8.111515,
          23.732752,
          10.813378,
          2.8995998,
          3.3797143,
          18.213764,
          -15.694426,
          10.452993,
          1.8279895,
          18.63625,
          -22.76473,
          -12.633891,
          -22.290678,
          -7.617968,
          -25.598969,
          -0.779441,
          21.829155,
          -7.084479,
          -2.6870353,
          -18.395555,
          -1.2538164,
          1.6445827,
          8.111576,
          12.534913,
          -29.423294,
          17.142075,
          20.96617,
          16.336855,
          10.569693,
          26.92463,
          13.853533,
          -14.234509,
          16.842163,
          -0.9835007,
          16.30688,
          9.949225,
          -10.000924,
          13.444512,
          17.384336,
          6.1922174,
          -29.140848,
          -2.532194,
          3.8252819,
          5.8549685,
          -8.21622,
          -0.51636606,
          -3.188849,
          16.975956,
          11.9256115,
          16.637909,
          2.8721778,
          -25.605095,
          -33.11995,
          20.555677,
          -18.91897,
          1.1972889,
          29.415758,
          5.26023,
          12.848137,
          -24.156406,
          14.274767,
          -11.953126,
          0.4294302,
          -3.5016537,
          13.693252,
          11.396036,
          -29.185884,
          3.1001756,
          15.701529,
          -14.138021,
          -12.715184,
          -1.2980325,
          -11.5966015,
          -3.4913518,
          -12.028896,
          18.835705,
          9.681981,
          -25.884563,
          1.9127177,
          7.06924,
          -15.99766,
          8.277974,
          1.9801744,
          9.729858,
          1.1384983,
          -19.799133,
          11.455785,
          20.418163,
          -12.377392,
          -27.314281,
          0.55978537,
          12.20046,
          10.728133,
          -0.35496894,
          -23.00283,
          -25.815449,
          11.832007,
          3.4627042,
          15.200341,
          17.317314,
          -18.888351,
          7.1063166,
          -18.925028,
          -14.217754,
          1.7045773,
          -21.849316,
          -0.21805917,
          20.816778,
          -21.992695,
          -30.679682,
          -13.152625,
          -25.971952,
          8.443022,
          18.66702,
          18.09673,
          4.7852488,
          4.8178325,
          12.266616,
          2.2146614,
          6.1511717,
          0.08303342,
          -15.748564,
          -23.408651,
          -31.641674,
          -11.396125,
          4.817823,
          11.613569,
          -33.515114,
          15.510582,
          14.460515,
          -6.0753937,
          -5.3325524,
          -32.45282,
          0.038206957,
          8.325094,
          -2.51957,
          14.239023,
          -30.111689,
          -10.677756,
          5.719612,
          -21.84186,
          14.4075575,
          2.1706815,
          -32.279175,
          7.436923,
          1.3153167,
          26.760191,
          -12.414607,
          13.957111,
          16.579355,
          15.713144,
          24.210135,
          17.473722,
          26.960735,
          9.188929,
          -12.694673,
          19.457716,
          -6.524242,
          21.085485,
          -20.39372,
          -33.83105,
          -12.667958,
          11.546158,
          -32.82078,
          -17.118046,
          15.384632,
          21.36055,
          12.01132,
          9.976809,
          19.89703,
          -24.86132,
          23.911171,
          16.285776,
          14.218458,
          -21.221004,
          8.479303,
          7.3356166,
          8.670314,
          15.468856,
          8.7079115,
          -6.2465773,
          -19.984108,
          -4.3035703,
          -17.355701,
          15.784937,
          -21.851334,
          -12.413339,
          -12.817331,
          18.19103,
          -15.42208,
          -19.175928,
          -21.01636,
          6.068242,
          14.852728,
          -21.408228,
          18.609247,
          2.7086139,
          19.707312,
          0.58484477,
          11.07925,
          -18.82131,
          19.719183,
          5.87373,
          -25.052269,
          18.632124,
          -29.571508,
          4.9425106,
          11.084622,
          -7.4311733,
          -2.7036085,
          -14.854289,
          -24.99277,
          20.983511,
          31.673004,
          -19.34123,
          24.011309,
          -19.612951,
          -31.407877,
          -19.05676,
          7.1669087,
          6.342336,
          -27.785824,
          9.218341
         ],
         "yaxis": "y"
        },
        {
         "customdata": [
          [
           "chinese"
          ]
         ],
         "hovertemplate": "highlight=%{text}<br>x=%{x}<br>y=%{y}<br>word=%{customdata[0]}<extra></extra>",
         "legendgroup": "chinese",
         "marker": {
          "color": "#EF553B",
          "symbol": "circle"
         },
         "mode": "markers+text",
         "name": "chinese",
         "showlegend": true,
         "text": [
          "chinese"
         ],
         "type": "scattergl",
         "x": [
          -10.155805
         ],
         "xaxis": "x",
         "y": [
          -32.363827
         ],
         "yaxis": "y"
        }
       ],
       "layout": {
        "legend": {
         "title": {
          "text": "highlight"
         },
         "tracegroupgap": 0
        },
        "template": {
         "data": {
          "bar": [
           {
            "error_x": {
             "color": "#2a3f5f"
            },
            "error_y": {
             "color": "#2a3f5f"
            },
            "marker": {
             "line": {
              "color": "#E5ECF6",
              "width": 0.5
             },
             "pattern": {
              "fillmode": "overlay",
              "size": 10,
              "solidity": 0.2
             }
            },
            "type": "bar"
           }
          ],
          "barpolar": [
           {
            "marker": {
             "line": {
              "color": "#E5ECF6",
              "width": 0.5
             },
             "pattern": {
              "fillmode": "overlay",
              "size": 10,
              "solidity": 0.2
             }
            },
            "type": "barpolar"
           }
          ],
          "carpet": [
           {
            "aaxis": {
             "endlinecolor": "#2a3f5f",
             "gridcolor": "white",
             "linecolor": "white",
             "minorgridcolor": "white",
             "startlinecolor": "#2a3f5f"
            },
            "baxis": {
             "endlinecolor": "#2a3f5f",
             "gridcolor": "white",
             "linecolor": "white",
             "minorgridcolor": "white",
             "startlinecolor": "#2a3f5f"
            },
            "type": "carpet"
           }
          ],
          "choropleth": [
           {
            "colorbar": {
             "outlinewidth": 0,
             "ticks": ""
            },
            "type": "choropleth"
           }
          ],
          "contour": [
           {
            "colorbar": {
             "outlinewidth": 0,
             "ticks": ""
            },
            "colorscale": [
             [
              0,
              "#0d0887"
             ],
             [
              0.1111111111111111,
              "#46039f"
             ],
             [
              0.2222222222222222,
              "#7201a8"
             ],
             [
              0.3333333333333333,
              "#9c179e"
             ],
             [
              0.4444444444444444,
              "#bd3786"
             ],
             [
              0.5555555555555556,
              "#d8576b"
             ],
             [
              0.6666666666666666,
              "#ed7953"
             ],
             [
              0.7777777777777778,
              "#fb9f3a"
             ],
             [
              0.8888888888888888,
              "#fdca26"
             ],
             [
              1,
              "#f0f921"
             ]
            ],
            "type": "contour"
           }
          ],
          "contourcarpet": [
           {
            "colorbar": {
             "outlinewidth": 0,
             "ticks": ""
            },
            "type": "contourcarpet"
           }
          ],
          "heatmap": [
           {
            "colorbar": {
             "outlinewidth": 0,
             "ticks": ""
            },
            "colorscale": [
             [
              0,
              "#0d0887"
             ],
             [
              0.1111111111111111,
              "#46039f"
             ],
             [
              0.2222222222222222,
              "#7201a8"
             ],
             [
              0.3333333333333333,
              "#9c179e"
             ],
             [
              0.4444444444444444,
              "#bd3786"
             ],
             [
              0.5555555555555556,
              "#d8576b"
             ],
             [
              0.6666666666666666,
              "#ed7953"
             ],
             [
              0.7777777777777778,
              "#fb9f3a"
             ],
             [
              0.8888888888888888,
              "#fdca26"
             ],
             [
              1,
              "#f0f921"
             ]
            ],
            "type": "heatmap"
           }
          ],
          "heatmapgl": [
           {
            "colorbar": {
             "outlinewidth": 0,
             "ticks": ""
            },
            "colorscale": [
             [
              0,
              "#0d0887"
             ],
             [
              0.1111111111111111,
              "#46039f"
             ],
             [
              0.2222222222222222,
              "#7201a8"
             ],
             [
              0.3333333333333333,
              "#9c179e"
             ],
             [
              0.4444444444444444,
              "#bd3786"
             ],
             [
              0.5555555555555556,
              "#d8576b"
             ],
             [
              0.6666666666666666,
              "#ed7953"
             ],
             [
              0.7777777777777778,
              "#fb9f3a"
             ],
             [
              0.8888888888888888,
              "#fdca26"
             ],
             [
              1,
              "#f0f921"
             ]
            ],
            "type": "heatmapgl"
           }
          ],
          "histogram": [
           {
            "marker": {
             "pattern": {
              "fillmode": "overlay",
              "size": 10,
              "solidity": 0.2
             }
            },
            "type": "histogram"
           }
          ],
          "histogram2d": [
           {
            "colorbar": {
             "outlinewidth": 0,
             "ticks": ""
            },
            "colorscale": [
             [
              0,
              "#0d0887"
             ],
             [
              0.1111111111111111,
              "#46039f"
             ],
             [
              0.2222222222222222,
              "#7201a8"
             ],
             [
              0.3333333333333333,
              "#9c179e"
             ],
             [
              0.4444444444444444,
              "#bd3786"
             ],
             [
              0.5555555555555556,
              "#d8576b"
             ],
             [
              0.6666666666666666,
              "#ed7953"
             ],
             [
              0.7777777777777778,
              "#fb9f3a"
             ],
             [
              0.8888888888888888,
              "#fdca26"
             ],
             [
              1,
              "#f0f921"
             ]
            ],
            "type": "histogram2d"
           }
          ],
          "histogram2dcontour": [
           {
            "colorbar": {
             "outlinewidth": 0,
             "ticks": ""
            },
            "colorscale": [
             [
              0,
              "#0d0887"
             ],
             [
              0.1111111111111111,
              "#46039f"
             ],
             [
              0.2222222222222222,
              "#7201a8"
             ],
             [
              0.3333333333333333,
              "#9c179e"
             ],
             [
              0.4444444444444444,
              "#bd3786"
             ],
             [
              0.5555555555555556,
              "#d8576b"
             ],
             [
              0.6666666666666666,
              "#ed7953"
             ],
             [
              0.7777777777777778,
              "#fb9f3a"
             ],
             [
              0.8888888888888888,
              "#fdca26"
             ],
             [
              1,
              "#f0f921"
             ]
            ],
            "type": "histogram2dcontour"
           }
          ],
          "mesh3d": [
           {
            "colorbar": {
             "outlinewidth": 0,
             "ticks": ""
            },
            "type": "mesh3d"
           }
          ],
          "parcoords": [
           {
            "line": {
             "colorbar": {
              "outlinewidth": 0,
              "ticks": ""
             }
            },
            "type": "parcoords"
           }
          ],
          "pie": [
           {
            "automargin": true,
            "type": "pie"
           }
          ],
          "scatter": [
           {
            "fillpattern": {
             "fillmode": "overlay",
             "size": 10,
             "solidity": 0.2
            },
            "type": "scatter"
           }
          ],
          "scatter3d": [
           {
            "line": {
             "colorbar": {
              "outlinewidth": 0,
              "ticks": ""
             }
            },
            "marker": {
             "colorbar": {
              "outlinewidth": 0,
              "ticks": ""
             }
            },
            "type": "scatter3d"
           }
          ],
          "scattercarpet": [
           {
            "marker": {
             "colorbar": {
              "outlinewidth": 0,
              "ticks": ""
             }
            },
            "type": "scattercarpet"
           }
          ],
          "scattergeo": [
           {
            "marker": {
             "colorbar": {
              "outlinewidth": 0,
              "ticks": ""
             }
            },
            "type": "scattergeo"
           }
          ],
          "scattergl": [
           {
            "marker": {
             "colorbar": {
              "outlinewidth": 0,
              "ticks": ""
             }
            },
            "type": "scattergl"
           }
          ],
          "scattermapbox": [
           {
            "marker": {
             "colorbar": {
              "outlinewidth": 0,
              "ticks": ""
             }
            },
            "type": "scattermapbox"
           }
          ],
          "scatterpolar": [
           {
            "marker": {
             "colorbar": {
              "outlinewidth": 0,
              "ticks": ""
             }
            },
            "type": "scatterpolar"
           }
          ],
          "scatterpolargl": [
           {
            "marker": {
             "colorbar": {
              "outlinewidth": 0,
              "ticks": ""
             }
            },
            "type": "scatterpolargl"
           }
          ],
          "scatterternary": [
           {
            "marker": {
             "colorbar": {
              "outlinewidth": 0,
              "ticks": ""
             }
            },
            "type": "scatterternary"
           }
          ],
          "surface": [
           {
            "colorbar": {
             "outlinewidth": 0,
             "ticks": ""
            },
            "colorscale": [
             [
              0,
              "#0d0887"
             ],
             [
              0.1111111111111111,
              "#46039f"
             ],
             [
              0.2222222222222222,
              "#7201a8"
             ],
             [
              0.3333333333333333,
              "#9c179e"
             ],
             [
              0.4444444444444444,
              "#bd3786"
             ],
             [
              0.5555555555555556,
              "#d8576b"
             ],
             [
              0.6666666666666666,
              "#ed7953"
             ],
             [
              0.7777777777777778,
              "#fb9f3a"
             ],
             [
              0.8888888888888888,
              "#fdca26"
             ],
             [
              1,
              "#f0f921"
             ]
            ],
            "type": "surface"
           }
          ],
          "table": [
           {
            "cells": {
             "fill": {
              "color": "#EBF0F8"
             },
             "line": {
              "color": "white"
             }
            },
            "header": {
             "fill": {
              "color": "#C8D4E3"
             },
             "line": {
              "color": "white"
             }
            },
            "type": "table"
           }
          ]
         },
         "layout": {
          "annotationdefaults": {
           "arrowcolor": "#2a3f5f",
           "arrowhead": 0,
           "arrowwidth": 1
          },
          "autotypenumbers": "strict",
          "coloraxis": {
           "colorbar": {
            "outlinewidth": 0,
            "ticks": ""
           }
          },
          "colorscale": {
           "diverging": [
            [
             0,
             "#8e0152"
            ],
            [
             0.1,
             "#c51b7d"
            ],
            [
             0.2,
             "#de77ae"
            ],
            [
             0.3,
             "#f1b6da"
            ],
            [
             0.4,
             "#fde0ef"
            ],
            [
             0.5,
             "#f7f7f7"
            ],
            [
             0.6,
             "#e6f5d0"
            ],
            [
             0.7,
             "#b8e186"
            ],
            [
             0.8,
             "#7fbc41"
            ],
            [
             0.9,
             "#4d9221"
            ],
            [
             1,
             "#276419"
            ]
           ],
           "sequential": [
            [
             0,
             "#0d0887"
            ],
            [
             0.1111111111111111,
             "#46039f"
            ],
            [
             0.2222222222222222,
             "#7201a8"
            ],
            [
             0.3333333333333333,
             "#9c179e"
            ],
            [
             0.4444444444444444,
             "#bd3786"
            ],
            [
             0.5555555555555556,
             "#d8576b"
            ],
            [
             0.6666666666666666,
             "#ed7953"
            ],
            [
             0.7777777777777778,
             "#fb9f3a"
            ],
            [
             0.8888888888888888,
             "#fdca26"
            ],
            [
             1,
             "#f0f921"
            ]
           ],
           "sequentialminus": [
            [
             0,
             "#0d0887"
            ],
            [
             0.1111111111111111,
             "#46039f"
            ],
            [
             0.2222222222222222,
             "#7201a8"
            ],
            [
             0.3333333333333333,
             "#9c179e"
            ],
            [
             0.4444444444444444,
             "#bd3786"
            ],
            [
             0.5555555555555556,
             "#d8576b"
            ],
            [
             0.6666666666666666,
             "#ed7953"
            ],
            [
             0.7777777777777778,
             "#fb9f3a"
            ],
            [
             0.8888888888888888,
             "#fdca26"
            ],
            [
             1,
             "#f0f921"
            ]
           ]
          },
          "colorway": [
           "#636efa",
           "#EF553B",
           "#00cc96",
           "#ab63fa",
           "#FFA15A",
           "#19d3f3",
           "#FF6692",
           "#B6E880",
           "#FF97FF",
           "#FECB52"
          ],
          "font": {
           "color": "#2a3f5f"
          },
          "geo": {
           "bgcolor": "white",
           "lakecolor": "white",
           "landcolor": "#E5ECF6",
           "showlakes": true,
           "showland": true,
           "subunitcolor": "white"
          },
          "hoverlabel": {
           "align": "left"
          },
          "hovermode": "closest",
          "mapbox": {
           "style": "light"
          },
          "paper_bgcolor": "white",
          "plot_bgcolor": "#E5ECF6",
          "polar": {
           "angularaxis": {
            "gridcolor": "white",
            "linecolor": "white",
            "ticks": ""
           },
           "bgcolor": "#E5ECF6",
           "radialaxis": {
            "gridcolor": "white",
            "linecolor": "white",
            "ticks": ""
           }
          },
          "scene": {
           "xaxis": {
            "backgroundcolor": "#E5ECF6",
            "gridcolor": "white",
            "gridwidth": 2,
            "linecolor": "white",
            "showbackground": true,
            "ticks": "",
            "zerolinecolor": "white"
           },
           "yaxis": {
            "backgroundcolor": "#E5ECF6",
            "gridcolor": "white",
            "gridwidth": 2,
            "linecolor": "white",
            "showbackground": true,
            "ticks": "",
            "zerolinecolor": "white"
           },
           "zaxis": {
            "backgroundcolor": "#E5ECF6",
            "gridcolor": "white",
            "gridwidth": 2,
            "linecolor": "white",
            "showbackground": true,
            "ticks": "",
            "zerolinecolor": "white"
           }
          },
          "shapedefaults": {
           "line": {
            "color": "#2a3f5f"
           }
          },
          "ternary": {
           "aaxis": {
            "gridcolor": "white",
            "linecolor": "white",
            "ticks": ""
           },
           "baxis": {
            "gridcolor": "white",
            "linecolor": "white",
            "ticks": ""
           },
           "bgcolor": "#E5ECF6",
           "caxis": {
            "gridcolor": "white",
            "linecolor": "white",
            "ticks": ""
           }
          },
          "title": {
           "x": 0.05
          },
          "xaxis": {
           "automargin": true,
           "gridcolor": "white",
           "linecolor": "white",
           "ticks": "",
           "title": {
            "standoff": 15
           },
           "zerolinecolor": "white",
           "zerolinewidth": 2
          },
          "yaxis": {
           "automargin": true,
           "gridcolor": "white",
           "linecolor": "white",
           "ticks": "",
           "title": {
            "standoff": 15
           },
           "zerolinecolor": "white",
           "zerolinewidth": 2
          }
         }
        },
        "title": {
         "text": "t-SNE Visualization of legal-BERT Word Embeddings"
        },
        "xaxis": {
         "anchor": "y",
         "domain": [
          0,
          1
         ],
         "title": {
          "text": "x"
         }
        },
        "yaxis": {
         "anchor": "x",
         "domain": [
          0,
          1
         ],
         "title": {
          "text": "y"
         }
        }
       }
      }
     },
     "metadata": {},
     "output_type": "display_data"
    }
   ],
   "source": [
    "# Create a DataFrame for visualization\n",
    "df_tsne = pandas.DataFrame(tsne_results, columns=['x', 'y'])\n",
    "df_tsne['word'] = list(bert_word_embeddings.keys())\n",
    "# Highlight the word 'chinese' in the plot\n",
    "df_tsne['highlight'] = df_tsne['word'].apply(lambda x: 'chinese' if x == 'chinese' else '')\n",
    "\n",
    "fig = px.scatter(\n",
    "    df_tsne,\n",
    "    x='x',\n",
    "    y='y',\n",
    "    title='t-SNE Visualization of legal-BERT Word Embeddings',\n",
    "    color='highlight',                        \n",
    "    hover_data=['word'], \n",
    "    text= 'highlight'\n",
    ")\n",
    "\n",
    "fig.show()\n"
   ]
  },
  {
   "cell_type": "markdown",
   "id": "a3c7a4b9",
   "metadata": {},
   "source": [
    "### Sentence Embeddings"
   ]
  },
  {
   "cell_type": "code",
   "execution_count": 19,
   "id": "042d4963",
   "metadata": {},
   "outputs": [
    {
     "name": "stdout",
     "output_type": "stream",
     "text": [
      "Line 91: The aliens in this case being Chinese, the first enquiry must be, what is the object of the Act? On applying to the preamble, we find that it looks like a bill of indictment as against a race not suited to live among a civilized nation, and certainly does not prepare one for legislation which would encourage or tolerate their settlement in the country. Indeed, the first lines of the preamble sound an alarm at the multitude of people coming in, who are of the repulsive habits described in the last part of the preamble, and prepares one for measures which should have a tendency to abate that alarm by deterrent influences and enactments which should have the effect of materially lessening the number of such undesirable visitors. The provisions of the Act I have given somewhat in extenso bear out that view, and the concurrent and previous local legislation bear out the same impression, for on the same day as this Act was passed, another Act was passed, the very object of which was plainly stated to be \"to prevent the immigration\" of Chinese.\" \n"
     ]
    }
   ],
   "source": [
    "from pathlib import Path\n",
    "\n",
    "# Read the txt file as lines\n",
    "lines = Path(\"data/Regina_V_Wing_Chong.txt\").read_text(encoding=\"utf-8\").splitlines()\n",
    "\n",
    "# Extract line 67 as the target\n",
    "target = lines[91]\n",
    "print(\"Line 91:\", target)\n"
   ]
  },
  {
   "cell_type": "code",
   "execution_count": 20,
   "id": "5d8393ae",
   "metadata": {},
   "outputs": [
    {
     "name": "stdout",
     "output_type": "stream",
     "text": [
      "CREASE, J. 1885. REGINA v. WING CHONG.\n",
      "14th & 15th July, Certiorari—“Chinese Regulation Act, 1884,” s. 5—Constitutionality—B.N.A. Act, 1867, ss. 91, 92—“Aliens”—“Trade and Commerce”—Taxation. \n",
      "On the return to a writ of certiorari. Held, that the “Chinese Regulation Act, 1884,” is ultra vires of the Provincial Legislature, on the following grounds: \n",
      "1. It is an interference with the rights of Aliens. \n",
      "2. It is an interference with Trade and Commerce. \n",
      "3. It is an infraction of the existing treaties between the Imperial Government and China. \n",
      "4. It imposes unequal taxation.\n",
      "14th & 15th July—On the return of a writ of certiorari directed to Edwin Johnson, Esquire, Police Magistrate for the City of Victoria, to return into this Court a certain conviction made by him under which one Wing Chong was fined $20 for not having in his possession a license issued under the “Chinese Regulation Act, 1884.”\n",
      "The Attorney-General in support of the conviction said there were five points raised on the rule for the certiorari against the validity of the $10 tax.—1st. That it interfered with the Dominion powers under the B. N. A. Act, aliens, and naturalization; 2nd. Trade and commerce; 3rd. Treaty obligations; 4th. That the tax was unequal, and 5th. It was indirect taxation. As to the first point aliens were as much subject to taxation as citizens. Protection and taxation were reciprocal (Cooley on Taxation, p. 14). The law did not deal with the conditions under which aliens might acquire rights or become subjects of Her Majesty. Secondly—Trade and commerce were not interfered with. The object of the Act was two-fold, the police and sanitary regulation of a numerous foreign element, and the raising of revenue necessary to meet that regulation (Hodge v. The Queen, L. R. 9, App. Cas. 117). If incidentally trade and commerce were touched, the provincial power of direct taxation was not impaired (Citizens Insurance Co. v. Parsons, L. R. 7 App. Cas. 108). The preamble and scope of the Act showed its objects were purely matters of the police and raising of revenue to meet the necessary expenditure, and within “Direct Taxation.” Thirdly—The treaty obligations of England did not affect the question. The last communication from the Secretary of State for the Colonies to the Governor-General, dated 16th May, 1884, stated, in effect, that the Colonies with responsible government could pass restrictive laws irrespective of treaties (B. C. Sessional Papers, 1885, p. 464), and instanced the legislation of the Australian Colonies and of the Dominion. Fourthly—As to unequal taxation, the power of the Province within its jurisdiction was supreme and as plenary as that of the Imperial Parliament (R. v. Burah, L.R. 3 App. Cas. 904; R. v. Hodge, L. R. 9, App. Cas. 117; and Powell v. Apollo Candle Co., L.R. 10 App. Cas., p. 290; and *In re Goodhue*, 19 Gr. 366); *Cooley* on Taxation, pp. 3, 82, 126-128, and *Cooley's Constitutional Limitations* (5th Ed.) 626-7; *Sedgwick* on Stat. (2nd Ed.), p. 501; *Potter's Dwarris* 418, 421, 425; *Dow v. Black*, L. R. 6 P. C. 272, were cited as showing the power of taxation, unless abridged by the written constitution, might be exercised so as to discriminate. The Supreme Court of Canada, in the case of *Jonas v. Gilbert*, 5 S. C. R., 356, had practically decided the same point. Fifthly—Whether called a licence or not, the imposition was a direct poll tax, and as such came within the power of the Province to raise money by direct taxation for Provincial purposes. *Cooley* on Taxation, 386; *Wharton's Law Lexicon*; *Reed v. Mousseau*, 8 S. C. R., 408. It was not a license to carry on business, or a method whereby indirectly money was raised from the consumer, as, for instance, customs or stamp laws.\n",
      "*Richards*, Q. C., for Wing Chong—The object of the Act was not for police purposes or to raise revenue. Its object, though not apparent on the face of the Act, was to prevent Chinese coming into the Province and drive out those who had already come. He reviewed the legislation against Chinese since confederation, contending it was levelled against a particular race of aliens and, therefore, beyond provincial control, per *Gwynne*, J., in *Citizens Insurance Co. v. Parsons*, 4 S. C. R., at p. 346. The law was a direct interference with trade and commerce (*R. v. Severn*, 2 Can. S. C. R., 70). If its object were successful and Chinese driven from the country, the customs dues received from the Chinese would be lost and the benefits of trade relations enjoyed by the merchants would be destroyed. Counsel cited statistics from the Chinese Commission showing the extreme importance, from a fiscal and commercial point of view, of the large number of Chinese in the Province. The Dominion under the B. N. A. Act had alone the right of performing in Canada the obligations of Canada as part of the British Empire in respect of treaties, and although Canada might pass laws prohibiting immigration, or having that tendency, the Province could not do so, nor could it pass laws in derogation of treaties. He cited the British treaty (25th August, 1842, from *Hertslet*, Vol. 6, and Lord *Elgin's* treaty, 1860), comparing it with the *Burlingame* treaty of the United States, and quoted California decisions (*Lin Sing v. Washburn*, 20 Cal. 334), and the decision of *Gray*, J., in *Tai Sing v. Maguire*, deciding that similar legislation was held void as contravening the treaty and the sovereign power to regulate trade and commerce with foreign countries.\n"
     ]
    }
   ],
   "source": [
    "paragraphs = [p.strip() for p in full_text.split(\"\\n\\n\") if p.strip()]\n",
    "\n",
    "for paragraph in paragraphs[:5]:\n",
    "    print(paragraph)"
   ]
  },
  {
   "cell_type": "code",
   "execution_count": 21,
   "id": "4a7e5fd9",
   "metadata": {},
   "outputs": [
    {
     "name": "stdout",
     "output_type": "stream",
     "text": [
      "WARNING:tensorflow:From c:\\Users\\Kaiyan Zhang\\AppData\\Local\\Programs\\Python\\Python312\\Lib\\site-packages\\tf_keras\\src\\losses.py:2976: The name tf.losses.sparse_softmax_cross_entropy is deprecated. Please use tf.compat.v1.losses.sparse_softmax_cross_entropy instead.\n",
      "\n",
      "torch.Size([78, 384])\n"
     ]
    }
   ],
   "source": [
    "from sentence_transformers import SentenceTransformer\n",
    "\n",
    "# Import the sentence transformer model\n",
    "model = SentenceTransformer(\"all-MiniLM-L6-v2\")\n",
    "\n",
    "# Calculate embeddings by calling model.encode()\n",
    "paragraph_embeddings = model.encode(paragraphs, convert_to_tensor=True)\n",
    "print(paragraph_embeddings.shape)"
   ]
  },
  {
   "cell_type": "code",
   "execution_count": 22,
   "id": "01102fcc",
   "metadata": {},
   "outputs": [],
   "source": [
    "# We also want to encode the target separately\n",
    "target_embedding = model.encode(target, convert_to_tensor=True)"
   ]
  },
  {
   "cell_type": "code",
   "execution_count": 23,
   "id": "e0c50fdc",
   "metadata": {},
   "outputs": [
    {
     "name": "stdout",
     "output_type": "stream",
     "text": [
      "1.0000\tThe aliens in this case being Chinese, the first enquiry must be, what is the object of the Act? On applying to the preamble, we find that it looks like a bill of indictment as against a race not suited to live among a civilized nation, and certainly does not prepare one for legislation which would encourage or tolerate their settlement in the country. Indeed, the first lines of the preamble sound an alarm at the multitude of people coming in, who are of the repulsive habits described in the last part of the preamble, and prepares one for measures which should have a tendency to abate that alarm by deterrent influences and enactments which should have the effect of materially lessening the number of such undesirable visitors. The provisions of the Act I have given somewhat in extenso bear out that view, and the concurrent and previous local legislation bear out the same impression, for on the same day as this Act was passed, another Act was passed, the very object of which was plainly stated to be \"to prevent the immigration\" of Chinese.\"\n",
      "0.6602\tAnd again, \"A tax imposed by the law on these persons for the mere right to reside here, is an appropriate and effective means to discourage the immigration of the Chinese into the State.\"\n",
      "0.6157\tIf a man employ a Chinaman who should happen to be delinquent in his tax, and he happens to occupy a cottage or room of his employer, with his master's goods in it, under section 10 they are liable to seizure and sale. In every prosecution under the Act the legal presumption of innocence until conviction is reversed; in every case the onus probandi, though in a Statute highly penal, is shifted from the informant on to the shoulders of the accused, and he a foreigner not knowing one word of the law, or even the language of the accuser. In other words, every Chinese is guilty until proved innocent—a provision which fills one conversant with subjects with alarm; for if such a law can be tolerated as against Chinese, the precedent is set, and in time of any popular outcry can easily be acted on for putting any other foreigners or even special classes among ourselves, as coloured people, or French, Italians, Americans, or Germans, under equally the same law. That certainly is interfering with aliens.\n",
      "0.6025\tThe power asserted in the Act in question (the California Act) is the right of the State to prescribe the terms upon which the Chinese shall be permitted to reside in it, and be so used as to cut off all intercourse between them and the people of the State, and defeat the commercial policy of the nation.\n",
      "0.5887\tIt is impossible but that such an imposition so enforced, in addition to all the general taxes to which he is subject, should make this country too hot for him to live in; and just in proportion as he is so persecuted out of the country, in that degree does this enactment interfere with trade and commerce and that control over aliens exclusively given to the Dominion. And not only is he thus attacked, but unheard of provisions are introduced. Every employé of Chinese labour, whether English, American, or what not, is made liable to severe and incessant liability of a penal kind, for what? Some act, a default of his own? No; an act or default of a stranger, a man whose language he knows not, and for every infraction of the Act by the Chinese under his employ. The palpable object of such a provision, or set of provisions, is to render the employment of Chinese so distasteful and annoying to the employer that he must cease to employ them. Now, to pass a law providing that employment shall not be given to a special class of men, except it be productive of so much danger, annoyance, and loss to the employer, is just another way of saying that no intercourse shall be had with that class. With penalties and prosecutions always before you, far in excess of any advantage to be derived from that intercourse or trade, what is that but equivalent to saying that such intercourse or trade or labour must cease altogether. What is that but interfering with aliens, trade, and commerce?\n",
      "0.5838\t*Richards*, Q. C., for Wing Chong—The object of the Act was not for police purposes or to raise revenue. Its object, though not apparent on the face of the Act, was to prevent Chinese coming into the Province and drive out those who had already come. He reviewed the legislation against Chinese since confederation, contending it was levelled against a particular race of aliens and, therefore, beyond provincial control, per *Gwynne*, J., in *Citizens Insurance Co. v. Parsons*, 4 S. C. R., at p. 346. The law was a direct interference with trade and commerce (*R. v. Severn*, 2 Can. S. C. R., 70). If its object were successful and Chinese driven from the country, the customs dues received from the Chinese would be lost and the benefits of trade relations enjoyed by the merchants would be destroyed. Counsel cited statistics from the Chinese Commission showing the extreme importance, from a fiscal and commercial point of view, of the large number of Chinese in the Province. The Dominion under the B. N. A. Act had alone the right of performing in Canada the obligations of Canada as part of the British Empire in respect of treaties, and although Canada might pass laws prohibiting immigration, or having that tendency, the Province could not do so, nor could it pass laws in derogation of treaties. He cited the British treaty (25th August, 1842, from *Hertslet*, Vol. 6, and Lord *Elgin's* treaty, 1860), comparing it with the *Burlingame* treaty of the United States, and quoted California decisions (*Lin Sing v. Washburn*, 20 Cal. 334), and the decision of *Gray*, J., in *Tai Sing v. Maguire*, deciding that similar legislation was held void as contravening the treaty and the sovereign power to regulate trade and commerce with foreign countries.\n",
      "0.5793\tThat the Chinese might be taxed as other residents, but could not be set apart as special objects of the taxation, and be compelled to contribute to the revenue of the State in the character of foreigners.\n",
      "0.5780\t21st August, 1885—CREASE, J.— In order to deal satisfactorily with the questions raised by this appeal, it is necessary to see what is the scope and purport of the Act. It is called \"An Act to regulate the Chinese population of British Columbia.\" It starts with a recital, in itself a petio principii—not apparently the result of any public enquiry—which charges them with being not law-abiding, dissimilar in habits and occupation to the whites—useless in emergencies, habitual desecrators of grave-yards, unsuited to our laws, and of habits subversive of the community. From that premises concluding that special laws are required for their government, it proceeds to enact:—\n",
      "0.5716\tSection 27 places in the hand of the local executive the construction from time to time of further rules and regulations to enforce the Act, and a fitting summary to such a premiss in section 28 reverses all the old law of England and one of the most cherished and priceless safeguards of the freedom from oppression won for us by our forefathers—that no one shall be deemed guilty until he has been proved so—throws on the defendant, white or yellow, the burden of proving that he is exempt from the operation of its arbitrary provisions—and in a tax Act which is in restraint of personal liberty, and opposed to the common law rights of the citizen—for if applicable to aliens it is a fortiori to the temporary inhabitants of the Province—abrogates the hitherto invariable rule in criminal matters and makes it unnecessary in any information, summons or conviction to “state or negotiate any “exception in or exemption under this Act, or in contemplation of “law.” Taught by experience of former efforts in the same direction, section 29 gives one year’s notice of the coming into operation of the Act—a time which has now expired. And section 30 terms it merely “The Chinese Regulation Act, 1884.”\n"
     ]
    }
   ],
   "source": [
    "import torch\n",
    "from torch.nn.functional import cosine_similarity\n",
    "\n",
    "# Calculate the cosine similarity\n",
    "sims = cosine_similarity(target_embedding.unsqueeze(0), paragraph_embeddings)\n",
    "\n",
    "k = min(10, sims.shape[0])\n",
    "\n",
    "topk = torch.topk(sims, k=k-1)\n",
    "\n",
    "top_paragraphs = []\n",
    "\n",
    "for score, idx in zip(topk.values, topk.indices):\n",
    "    top_paragraphs.append(paragraphs[idx])\n",
    "    print(f\"{score:.4f}\\t{paragraphs[idx]}\")"
   ]
  },
  {
   "cell_type": "code",
   "execution_count": 24,
   "id": "c0a63e8b",
   "metadata": {},
   "outputs": [
    {
     "name": "stdout",
     "output_type": "stream",
     "text": [
      "['CREASE, J. 1885.', 'REGINA v. WING CHONG.', '14th & 15th July, Certiorari—“Chinese Regulation Act, 1884,” s. 5—Constitutionality—B.N.A. Act, 1867, ss.', '91, 92—“Aliens”—“Trade and Commerce”—Taxation.', 'On the return to a writ of certiorari.', 'Held, that the “Chinese Regulation Act, 1884,” is ultra vires of the Provincial Legislature, on the following grounds: \\n1.', 'It is an interference with the rights of Aliens.', '2.', 'It is an interference with Trade and Commerce.', '3.', 'It is an infraction of the existing treaties between the Imperial Government and China.', '4.', 'It imposes unequal taxation.', '14th & 15th July—On the return of a writ of certiorari directed to Edwin Johnson, Esquire, Police Magistrate for the City of Victoria, to return into this Court a certain conviction made by him under which one Wing Chong was fined $20 for not having in his possession a license issued under the “Chinese Regulation Act, 1884.”', 'The Attorney-General in support of the conviction said there were five points raised on the rule for the certiorari against the validity of the $10 tax.—1st.', 'That it interfered with the Dominion powers under the B. N. A. Act, aliens, and naturalization; 2nd.', 'Trade and commerce; 3rd.', 'Treaty obligations; 4th.', 'That the tax was unequal, and 5th.', 'It was indirect taxation.', 'As to the first point aliens were as much subject to taxation as citizens.', 'Protection and taxation were reciprocal (Cooley on Taxation, p. 14).', 'The law did not deal with the conditions under which aliens might acquire rights or become subjects of Her Majesty.', 'Secondly—Trade and commerce were not interfered with.', 'The object of the Act was two-fold, the police and sanitary regulation of a numerous foreign element, and the raising of revenue necessary to meet that regulation (Hodge v. The Queen, L. R. 9, App.', 'Cas. 117).', 'If incidentally trade and commerce were touched, the provincial power of direct taxation was not impaired (Citizens Insurance Co. v. Parsons, L. R. 7 App.', 'Cas. 108).', 'The preamble and scope of the Act showed its objects were purely matters of the police and raising of revenue to meet the necessary expenditure, and within “Direct Taxation.”', 'Thirdly—The treaty obligations of England did not affect the question.', 'The last communication from the Secretary of State for the Colonies to the Governor-General, dated 16th May, 1884, stated, in effect, that the Colonies with responsible government could pass restrictive laws irrespective of treaties (B. C. Sessional Papers, 1885, p. 464), and instanced the legislation of the Australian Colonies and of the Dominion.', 'Fourthly—As to unequal taxation, the power of the Province within its jurisdiction was supreme and as plenary as that of the Imperial Parliament (R. v. Burah, L.R. 3 App.', 'Cas. 904; R. v. Hodge, L. R. 9, App.', 'Cas. 117; and Powell v. Apollo Candle Co., L.R. 10 App.', \"Cas., p. 290; and *In re Goodhue*, 19 Gr. 366); *Cooley* on Taxation, pp. 3, 82, 126-128, and *Cooley's Constitutional Limitations* (5th Ed.)\", '626-7; *Sedgwick* on Stat.', \"(2nd Ed.), p. 501; *Potter's Dwarris* 418, 421, 425; *Dow v. Black*, L. R. 6 P. C. 272, were cited as showing the power of taxation, unless abridged by the written constitution, might be exercised so as to discriminate.\", 'The Supreme Court of Canada, in the case of *Jonas v. Gilbert*, 5 S. C. R., 356, had practically decided the same point.', 'Fifthly—Whether called a licence or not, the imposition was a direct poll tax, and as such came within the power of the Province to raise money by direct taxation for Provincial purposes.', \"*Cooley* on Taxation, 386; *Wharton's Law Lexicon*; *Reed v. Mousseau*, 8 S. C. R., 408.\", 'It was not a license to carry on business, or a method whereby indirectly money was raised from the consumer, as, for instance, customs or stamp laws.', '*Richards*, Q. C., for Wing Chong—The object of the Act was not for police purposes or to raise revenue.', 'Its object, though not apparent on the face of the Act, was to prevent Chinese coming into the Province and drive out those who had already come.', 'He reviewed the legislation against Chinese since confederation, contending it was levelled against a particular race of aliens and, therefore, beyond provincial control, per *Gwynne*, J., in *Citizens Insurance Co. v. Parsons*, 4 S. C. R., at p. 346.', 'The law was a direct interference with trade and commerce (*R. v. Severn*, 2 Can.', 'S. C. R., 70).', 'If its object were successful and Chinese driven from the country, the customs dues received from the Chinese would be lost and the benefits of trade relations enjoyed by the merchants would be destroyed.', 'Counsel cited statistics from the Chinese Commission showing the extreme importance, from a fiscal and commercial point of view, of the large number of Chinese in the Province.', 'The Dominion under the B. N. A. Act had alone the right of performing in Canada the obligations of Canada as part of the British Empire in respect of treaties, and although Canada might pass laws prohibiting immigration, or having that tendency, the Province could not do so, nor could it pass laws in derogation of treaties.', \"He cited the British treaty (25th August, 1842, from *Hertslet*, Vol. 6, and Lord *Elgin's* treaty, 1860), comparing it with the *Burlingame* treaty of the United States, and quoted California decisions (*Lin Sing v. Washburn*, 20 Cal. 334), and the decision of *Gray*, J., in *Tai Sing v. Maguire*, deciding that similar legislation was held void as contravening the treaty and the sovereign power to regulate trade and commerce with foreign countries.\", '*Drake*, Q. C., on the same side, argued that the imposition of the $10 tax was invalid because of inequality.', 'Inherent in and incidental to the taxing power was the characteristic of equality.', \"*Cooley* stated that irrespective of constitutional limitation a particular class of citizens could not be burdened for the advantage of others—*Cooley's Constitutional Limitations*, p. 635.\", 'This was a principle underlying the power to tax and governing that right even though the CREASE, J. 1885.', 'REGINA v. WING CHONG.', 'written constitution made no mention of it—Cooley on Taxation, p. 18, and City of Lexington v. McQuillan, 35 Am.', 'Dec. 159.', 'The imposition was in derogation of treaty rights with which Canada alone had the power to deal.', 'The Australian legislation did not help the contention of the Attorney-General.', 'The Australian Colonies were autonomous, and occupied the same position as that of Canada.', 'The Provinces were not autonomous.', 'He did not contend that the whole of the Act was invalid.', 'Much of it was within the scope of the Province, notably the provisions affecting the size of dwellings, the forbidding the use of opium, and the desecration of grave-yards.', 'He insisted that imposing excessive taxation on one class of citizens was unconstitutional.', 'The remarks of Chief Justice Ritchie, in the case of Jonas v. Gilbert before the Supreme Court of Canada, were obiter dicta, as the decision was upon another point, and intimated, but did not decide the right of the Provinces to discriminate, nor in what things and to what extent discrimination in taxation was legitimate.', 'Lastly, the Act was for indirect taxation, which was a power given only to the Dominion Parliament.', 'It was a license fee, the power to impose which had, in Severn v. The Queen, been decided against the Provinces on the score of such legislation being against trade and commerce.', 'The Attorney-General in reply—The ten dollar impost was a tax whether designated by the name of a licence or otherwise.', 'The distinction between direct and indirect taxation was well drawn in the case of Reed v. Mousseau before the Supreme Court of Canada, in which Mr. Justice Strong mentioned the Privy Council had decided the Provincial legislatures had exclusive power to impose direct taxation, and that it did not follow they might not have power even to impose indirect taxation.', 'The tax did not sanction the carrying on of any business out of the product of which the consumer would, indirectly, contribute towards payment of the tax.', 'Then as to inequality, the one dictum of Cooley was but an expression of opinion that political wisdom required uniform taxation; for the same author cited numerous authorities, including that of the Supreme Court of the United States establishing the right to discriminate unless fettered by the express language of the Constitution.', 'Todd on Parliamentary Government in the Colonies, supported the view that the Provinces within their jurisdiction were as omnipotent as the Imperial Parliament.', 'The California cases (see The People v. Naglee, 1 Cal. 232) decided a differential tax might be imposed on foreign miners; and though a later case (Lin Sing v. Washburn, 20 Cal. 334) had decided a special tax could not be imposed on Chinese, a most celebrated Judge, Mr. Justice Field (since elevated to the Federal bench), dissented, and had pointed out that according to federal decisions the State might impose special taxation on alien residents, provided the impost was not levied against foreigners landing in the country.', 'The tax was not to exclude the Chinese — another statute with that object had been disallowed.', 'It was imposed to meet the extraordinary expenses incident to enforcing the police and sanitary regulations prescribed by the Act.', 'The question of treaties had nothing to do with the subject, for to responsible governments the Imperial Authorities conceded the right to pass laws within their jurisdiction.', 'So the Canadian Parliament to-day was passing a restriction Act.', 'Opponents to the Act might as well contend the exclusion of the Chinese from the franchise, and barring them from acquiring lands, was illegal.', 'As to autonomy, neither the Australian Colonies nor the Dominion were absolutely possessed, but the Province equally with Australia and the Dominion were autonomous within the bounds of their respective jurisdictions.', '21st August, 1885—CREASE, J.— In order to deal satisfactorily with the questions raised by this appeal, it is necessary to see what is the scope and purport of the Act.', 'It is called \"An Act to regulate the Chinese population of British Columbia.\"', 'It starts with a recital, in itself a petio principii—not apparently the result of any public enquiry—which charges them with being not law-abiding, dissimilar in habits and occupation to the whites—useless in emergencies, habitual desecrators of grave-yards, unsuited to our laws, and of habits subversive of the community.', 'From that premises concluding that special laws are required for their government, it proceeds to enact:— \\n\\n1.', 'The title.\\n\\n2. Defines Chinese to mean \"any native of the Chinese empire or \"its dependencies not born of British parents, and shall include any \"person of the Chinese race.\"', 'Section 3—with which we are immediately concerned—says:—\"From and after the passage of this Act there shall be payable and \"paid by every Chinese in British Columbia, above the age of fourteen years, unto and for the use of Her Majesty, her heirs and successors, the sum of ten dollars, and thereafter on the 1st day of June in \"each and every year there shall be likewise payable and paid by such \"Chinese person a further sum of ten dollars.\"', 'Sec. 4 provides for the appointment and payment of special collectors, \"to be called Chinese collectors, to collect and receive such \"payments from Chinese; and such collector or collectors, immediately upon such payment, shall issue and deliver to the person paying \"the same a licence in the form contained in the schedule hereto.\"', 'By Sec. 5 \"Any Chinese who shall be found within the Province \"not having in his possession a licence issued under the provisions of \"this Act, lawfully issued to him, shall, on conviction thereof, forfeit \"and pay a sum not exceeding forty dollars.\"', 'By Sec. 6', '\"Any collector or Government servant wilfully disobeying \"any of the provisions of this Act shall forfeit and pay a sum not \"exceeding one hundred dollars.\"', 'By Sec. 7', '\"Every collector shall collect the tax from each Chinese, \"and shall as soon afterwards as may be pay over the amount to the \"officer in charge of the Treasury, or to such other person as the \"Lieutenant-Governor in Council may from time to time direct.\"', 'By Sec. 8', '“Every employer of Chinese shall furnish to the collector “when requested by him so to do, from time to time, a list of all “Chinese in his employ, or indirectly employed by him; but no such “statement shall bind the collector, nor shall excuse him from “making due enquiry to ascertain its correctness.”', 'Section 9.', '“In case any employer of Chinese fails to deliver to the “collector the list mentioned in the preceding section, when required “so to do, or knowingly states anything falsely therein, such “employer shall, on complaint of the collector and upon conviction “before a Justice of the Peace having jurisdiction within the “district wherein such employer carries on his business, forfeit “and pay a fine not exceeding one hundred dollars for every Chinese “in his employ, to be recovered by distress of the goods and chattels “of such employer failing to pay the same, or in lieu thereof shall be “liable to imprisonment for a period not less than one month and not “exceeding two calendar months.”', 'Section 10 gives the collector power to “levy the amount of the license from any Chinese not being in lawful possession of a license, “with costs, by distress of his goods and chattels, or of any goods and “chattels which may be in the possession of the delinquent, or which “may be upon or in any premises (whether the goods of the delin-', '“quent or not) for the time being in the possession or occupation of “such delinquent Chinese,” and declares that “for the purposes of this “section premises shall be deemed to be in the possession or occupa- “tion of any Chinese when it can be shown to the satisfaction of the “tribunal having cognizance of the matter (a) that such Chinese “habitually frequents such premises with the assent of the owner ; “(b) that he is the owner or one of the owners of the premises, or has “control, either alone or jointly, with another or others, of such pre- “mises or some part thereof; (c) that he has passed the night or slept “upon such premises at any time within a week of the levy, it shall “be sufficient authority for the collector to levy as aforesaid on the “non-production of the license.', 'Proof of the lawful possession of “such receipt shall lie on the person whose goods are restrained.”', 'By section 11 every license must be demanded by the employer and retained during the Chinaman’s service.', 'By section 12 tax collectors are not to allow Chinese to pass unless a license is produced.', 'Section 13 imposes a penalty of $50 on any person guilty of employing any Chinese not having a license.', 'Sec. 14', \"Fee for free miner’s certificate to a Chinese to be $15, instead of the white man's $5.\", 'Sec. 15.', 'Penalty not exceeding $30 for every Chinaman mining without a license.', 'Section 16 amends the License Ordinance of 1867, whereby the pursuit of various callings is sanctioned by the ominous words, “but no license shall be issued to any Chinese.”', 'Sections 17 and 18 prevent the exhumation of dead bodies without permission, and prohibit the use of opium except for medical purposes.', 'Section 19 provides for the recovery of any pecuniary penalty thereunder in a summary manner before a J. P., and in default of immediate payment sanctions a distress, and failing that, imprisonment for not exceeding three months.', 'Section 20 (amended by Act of 1885) declares that \"convictions are not to be quashed for want of form.\"', 'Section 21.', '“Any Chinese who shall lend his license or free miner\\'s \"certificate to another Chinese, and any Chinese who shall utter or \"pass off upon any collector or other person any license or free miner\\'s \"certificate other than his own, with intent himself to avoid payment\" of the license fee payable under this Act (and the onus of proving “that such was not his intent shall rest upon the person charged), shall \"forfeit and pay a penalty of not less than twenty dollars nor more \"than one hundred dollars.\"', 'Section 22 enacts that the tribunal applied to may decide \"on its own view and judgment\" whether any person is a Chinese or 14 years old.', 'Sections 23, 24 and 25 contain sanitary provisions affecting buildings let to Chinese.', 'Section 26 provides a means whereby persons imprisoned for an infraction of the Act may be put to hard labour by an Order in Council, and the same executive authority is empowered to make rules and regulations for carrying out the Act.', 'Section 27 places in the hand of the local executive the construction from time to time of further rules and regulations to enforce the Act, and a fitting summary to such a premiss in section 28 reverses all the old law of England and one of the most cherished and priceless safeguards of the freedom from oppression won for us by our forefathers—that no one shall be deemed guilty until he has been proved so—throws on the defendant, white or yellow, the burden of proving that he is exempt from the operation of its arbitrary provisions—and in a tax Act which is in restraint of personal liberty, and opposed to the common law rights of the citizen—for if applicable to aliens it is a fortiori to the temporary inhabitants of the Province—abrogates the hitherto invariable rule in criminal matters and makes it unnecessary in any information, summons or conviction to “state or negotiate any “exception in or exemption under this Act, or in contemplation of “law.”', 'Taught by experience of former efforts in the same direction, section 29 gives one year’s notice of the coming into operation of the Act—a time which has now expired.', 'And section 30 terms it merely “The Chinese Regulation Act, 1884.”', 'The only schedule is the form of license, which runs as follows:—\\n\\nThe question now raised on the construction of this Act affects not only British Columbia, but, as she occupies the only Pacific seaboard of the Dominion, indirectly more or less the very many other Provinces under the flag of confederation.', 'Taking for convenience the five points of objection to the conviction in the order in which they are made— \\n1.', 'That it interfered with the Dominion powers under the B. N. A. Act over aliens and naturalization.', '2. Trade and commerce.', '3. Treaty obligations.', '4.', 'That the tax was unequal.', '5.', 'That it was indirect taxation and therefore illegal, and should be quashed.', 'On the first point, I would observe that it is now well settled law that British Columbia, as a part of the Dominion, possesses all, but possesses only, the powers which are strictly defined by the B. N. A. Act of 1867, which is, indeed, the constitution of Canada.', 'Neither she nor any other of the Provinces possess any other powers of legislation than are conferred by that Act.', 'If British Columbia, or any other Province, in its legislation, goes beyond that Act and in excess of its provisions, that moment, and to the extent of such transgression, it ceases to be law.', 'Therefore, in dealing with this question, our constitutional Act must be kept in view throughout, as the measure by which we must continually gauge the legality or illegality of the provisions of the local statute under consideration.', 'The Act of Federation was passed in order to be an irrefragable, permanent standard by which to preserve and regulate all the relative rights of the Provinces, as among themselves and as regards the Dominion.', 'The exclusive powers of that Act given to the Dominion over particular subjects are contained in the 91st section.', 'The exclusive powers of the Province are particularized in section 92.', 'It is natural that in the working out of such a constitution in a new and growing country, questions should be continually cropping up, and call upon the Courts to define gradually and with greater exactness, as time progresses and population expands, the relative powers given by the Act to the Dominion and Provinces respectively.', 'Sub-section 2 of section 91 gives to the Dominion Parliament exclusively the regulation of “trade and commerce,” and by sub-section 25 that of “naturalization and aliens,” and everything relating to those subjects as affecting the whole Dominion is within the Dominion powers, and no local Legislature can make any statute interfering with either of those subjects.', 'If it does, so far as such interference extends it is illegal and void, and when brought before the Court it is the duty of that tribunal so to adjudge it.', 'And the converse of this is true when applied to Dominion legislation as affecting the subjects exclusively given by the constitution to the Province.', 'Now, applying this test to the statute before us, let us see whether and how far its provisions affect, as is alleged, aliens, or trade, or commerce.', 'The aliens in this case being Chinese, the first enquiry must be, what is the object of the Act?', 'On applying to the preamble, we find that it looks like a bill of indictment as against a race not suited to live among a civilized nation, and certainly does not prepare one for legislation which would encourage or tolerate their settlement in the country.', 'Indeed, the first lines of the preamble sound an alarm at the multitude of people coming in, who are of the repulsive habits described in the last part of the preamble, and prepares one for measures which should have a tendency to abate that alarm by deterrent influences and enactments which should have the effect of materially lessening the number of such undesirable visitors.', 'The provisions of the Act I have given somewhat in extenso bear out that view, and the concurrent and previous local legislation bear out the same impression, for on the same day as this Act was passed, another Act was passed, the very object of which was plainly stated to be \"to prevent the immigration\" of Chinese.\"', 'That Act was disallowed.', 'It interfered with aliens as well as trade and commerce, which cannot subsist among nations without personal intercourse, which such an Act (as far as China was concerned) would have a tendency to prohibit.', 'Another statute (of 1878), \"An Act to provide for the better collection of taxes from Chinese,\" which contained several of the stringent provisions which I have described in this Act, such as a special tax specially recoverable by summary and unusual remedies from the Chinese alone, in British Columbia, and enforced by fine and imprisonment and other penal clauses, came before this Court, and in a most conscientious and exhaustive judgment of Mr. Justice Gray, of 23rd September, 1878, in the case of Tai Sing v. Maguire, was declared unconstitutional and ultra vires the Local Legislature, as interfering with aliens and trade and commerce—matters reserved exclusively under the 81st section of the B. N. A. Act to the Dominion.', 'That decision was never appealed from, and was at once acted on by the government as conclusive.', 'The position and legislative powers of British Columbia have been in no respect altered in its relations to the legislative powers of the Dominion on the same subjects since that time, though Russell v. The Queen (7 App.', 'Cas. 829) and Hodge v. The Queen (9 App.', 'Cas. 117) have more fully defined the extent of the powers of the Provincial Legislatures than has hitherto been done; and in the latter case especially.', 'That decision, however, was not before Mr. Gray when he rendered the judgment in Tai Sing v. Maguire.', 'Until reversed or varied, the decision in the Hodge case is law here, and binding on this Court.', 'Their lordships say (page 132), with reference to the objection of the appellants there (delegatus non potest delegare):—\\n\"It appears to their lordships, however, that the objection thus raised by the appellants is founded on an entire misconception of the true character and position of the Provincial Legislatures.', 'They are in no sense delegates of or acting under any mandate from the Imperial Parliament.', 'When the British North America Act enacted that there should be a Legislature for Ontario\" (for this case we may for \"Ontario\" read \"British Columbia\"), \"and that its Legislative Assembly should have exclusive authority to make laws for the Province and for provincial purposes in relation to the matters enumerated in section 92, it conferred powers not in any sense to be exercised by delegation from or as agents of the Imperial Parliament, but authority as plenary and as ample within the limits prescribed by section 92 as the Imperial Parliament in the plenitude of its power possessed and could bestow.', 'Within these limits of subjects and area the Local Legislature is supreme.\"', '[So far this decision confirms the words of Lord Selborne in R. v. Burah; what follows goes beyond it.]', '\"And has the same authority as the Imperial Parliament or the Parliament of the Dominion would have had under like circumstances to confide to a municipal institution or body of its own creation authority to make by-laws or resolutions as to subjects specified in the enactment, and with the object of carrying the enactment into operation and effect.\"', 'That decision, although in some respects an obiter dictum, as regards this case, makes it clear that within the limits of subjects and the area prescribed by the B. N. A. Act, by section 92, the Legislature of British Columbia is supreme.', 'The basis, then, of our enquiry must be: Is this Chinese Regulation Act of 1884—rather the parts of it objected to—within the limit of subjects and area of section 92, or does it exceed those limits in which it is supreme, and interfere with aliens, trade and commerce in such a manner as to encroach on section 91 or any of its sub-sections?', 'If so, so far as it does so, it is unconstitutional and ultra vires, and therefore void.', 'Now it does not follow because a local Act touches on these three subjects it therefore interferes with them so as to render it unconstitutional.', 'Aliens may be taxed, may be subjected to the same rules and municipal and other by-laws as other inhabitants of British Columbia, and such discrimination in so doing as are allowed in local legislatures between and among different persons and occupations among the whites are quite as applicable to them.', 'These are the only discriminations which the law allows, and these are the permissible discriminations spoken of by Cooley in the portions cited before the Court.', 'During the argument the case of *Lin Sing v. Washburn*, 20 California Reports, 534, was quoted as bearing on this case.', 'There, an Act of the California Legislature passed an Act imposing a capitation tax “on ‘each person, male and female, of the Mongolian race of the age of 18 years and upwards residing in the State,’ accompanying a license almost a *fac simile* of our own, and enforced in much the same way as in the case before us, that, after long and elaborate argument in which the Attorney-General appeared for the State, was determined to be unconstitutional, as it was an interference with trade and commerce, which could be regulated alone by the general government.', 'It was in vain advanced that at least the State had concurrent jurisdiction in matters of taxation relative to its own internal affairs, of which this was one (the same proposition as was advanced by the Attorney-General in this case) in which it had a supreme and autonomous right to legislate.', 'And the grounds of this decision were that the federal constitution had vested in the general government the power to regulate commerce in all its branches (as with us in the Dominion); and this power extends to every species of commercial intercourse, and may be exercised upon persons as well as property (Mr. Justice Field, whose arguments have been reproduced by the Attorney-General before me in this case, dissenting).', 'That commerce cannot be carried on without the agency of persons, and the tax, the effect of which is to diminish personal intercourse, is a tax on commerce.', 'If the power to impose such a tax is acknowledged, it being a sovereign power, no limitation can be affixed to its exercise, and it may be so used as not only to diminish but destroy commerce.', 'The power asserted in the Act in question (the California Act) is the right of the State to prescribe the terms upon which the Chinese shall be permitted to reside in it, and be so used as to cut off all intercourse between them and the people of the State, and defeat the commercial policy of the nation.', 'That the Act could not be maintained as a police regulation; that a branch of the police power had been surrendered to the Federal Government as a part of the power to regulate commerce, and its exercise by a State was incompatible with the authority of the Government.', 'That the Chinese might be taxed as other residents, but could not be set apart as special objects of the taxation, and be compelled to contribute to the revenue of the State in the character of foreigners.', 'The reports of the higher California courts are of great authority for us on all Chinese questions, for there have been efforts for years past to restrict Chinese immigration in California, and the matter has been constantly before the superior courts there, and the judges there (if we may take the reports as correct) are more than ordinarily skilled in laying down the law correctly in constitutional points of that nature.', 'Indeed, there is no other country which has such experience generally in constitutional law as applicable to a federation of states.', 'Of course, in all the observations I make I recognize the now well-known distinction between the relations of a State of the Union to the Federal Government, and our relation as a Province to the Dominion.', 'Still both Federal Governments have reserved to themselves the regulation of trade and commerce and naturalization and aliens; so the analogy is so close as to become almost a direct authority.', 'In the *Lin Sin* judgment, p. 579, the learned judge says of the power of taxing foreigners, as in the present *qua* foreigners: “If the power exist it may be exercised upon all foreigners residing in the State, and may be so exercised as to bar the door of foreign commerce as effectually as the Government could do by issuing its man-“date and closing its ports.\"', 'And again \"to determine whether there is a conflict or not, i.e., of jurisdictions, the power must be considered with reference to its consequences, for its effect when carried out is the only criterion by which a judgment can be formed.', '\"\\n\\nIn another place he says:—\"It would be an empty sound to say that the several States cannot pass any law to prevent foreigners from coming here if they may pass laws which will compel such foreigners to depart as soon as they arrive.\"', 'And again, \"A tax imposed by the law on these persons for the mere right to reside here, is an appropriate and effective means to discourage the immigration of the Chinese into the State.', '\"\\n\\nDuring the argument on the case before me, the Attorney-General claims that this was direct taxation, and a direct tax within the Province, to raise revenue for Provincial purposes, and, therefore *intra vires*; but the question is not one of name but of fact.', 'Does it interfere with trade or commerce?', 'Can it be legally imposed on foreigners as foreigners, for even a legal tax in other respects becomes illegal when it goes beyond its proper limits, and interferes with powers exclusively given to the Dominion for the benefit of all?', 'In another California case, *In re Tiburcio Parrott*, it is laid down that if the apparent object of a statute is under a pretense of the exercise of constitutional powers to drive Chinese away, the end sought to be obtained being unlawful, the statute is void.', 'In *Russell v. Reg.', '* it is decided that the true nature and character of legislation must be determined in order to ascertain its legality.', 'In *Citizens Insurance Co. v. Parsons*, we have to look at the legislation for the same purpose.', 'If the legislation here be to drive people from the country, have the local legislature the power?', 'Legislation as to aliens is reserved to the Dominion.', 'And as to trade and commerce, if the Chinese be driven out an annual loss to the revenue, it appears by the tables in the Chinese Commission Report, of $110,000 will take place; and more than $1,500,000 of property and business be lost to us, besides an injury to trade to an incalculable extent.', 'The amount of business transacted by Chinamen in British Columbia, as revealed by the tables in that Chinese Report, is something which a casual observer would have no idea of.', 'The treaties between Great Britain and China, which bind us, have been quoted.', 'The treaty of 25th August, 1842, *Hertslet*, Vol. 6, ratified 26th June, 1843, p. 221, and Lord Elgin\\'s treaty of October, 1860, authenticated copies of which were produced in Court, secure to Chinese coming into British dominions the same \"full security for persons and property as subjects of Her Majesty.\"', '*Vattell*, cap. 8, referring to our obligations to foreigners, observes:— \"As soon as the lord of the territory admits strangers into it he engages \"to protect them as his own subjects, and to afford them perfect security as far as depends on him.', '\"\\n\\n*Reg.', 'v. Severn* and *Reg.', 'v. Russell* are important authorities in guiding our enquiry as to the nature and effect of local legislation in determining whether and how far the Act under review exceeds the limits within which the local legislature is supreme.', 'And as to the equality of taxation, besides *Cooley*, who has been quoted freely on both sides, in *Kent\\'s Commentaries* (8th Ed.), 2nd Vol., 388, it is insisted—\"That every person is entitled to be protected in the enjoyment of his property, not only from invasions of it by individuals, but from all unequal and undue assessments on the part of the Government.', 'It is not sufficient that no tax or imposition can be imposed upon the citizens, but by their representatives in the legislature the citizens are entitled to require that the legislature itself shall cause all public taxation to be fair and equal in proportion to the value of \\'property\" (and that is what *Cooley* means by apportionment of taxation), \"so that no class of individuals, and no species of property shall be unduly assessed.\"', 'The treaties I have quoted between Great Britain and China, binding on the Dominion and on us in British Columbia, secure to the Chinese, just as the treaties between Great Britain and other foreign countries secure to other foreigners, the same rights in regard to the equality of taxation which I have described as being enjoyed by citizens of this country.', 'These treaties have the force of international law, and are continued most strongly against the party for whose benefit they are introduced.', 'In the case of the Chinese treaties, they were forced at the point of the bayonet on China, to obtain a right for us to enter China, and in return for a similar permission to us, full permission was given for the Chinese to trade and reside in British dominions everywhere.', 'In the treaties of 1858 and 1860, made at the solicitation of Great Britain, the Emperor of China was induced to give permission to his subjects to go and trade and reside \"in British Colonies,\" and to enter into \"engagements with British subjects for that purpose.\"', 'These obligations are binding here and in other parts of the Dominion under section 132 of the British North America Act, and no Province, or the Dominion itself, can lawfully pass laws interfering with that right without a previous revision of the treaties by the high contracting parties to them for that purpose.', 'Treaties with foreign nations are above all ordinary municipal law, for obvious international reasons, for without such a provision there can be no permanent security, which is the life of all commercial intercourse.', 'The same provisions that apply to Chinese may be made to apply also to Americans, Frenchmen, Germans, or any other foreigners.', 'Such treaties are the especial care of the Dominion, and where local legislation clashes with that especial province of the Dominion, the legislation of the Province must give way, as laid down in Leprohon v. the City of Ottawa, 40 Q.B., Ont., 478; Reg.', \"v. Chandler, Hannay's New Brunswick Reports, 548; Dow v. Black, L.R. 6 P.C. 272; L'Union St. Jacques v. Belisle, L.R. 6 P.C. 31, and numerous other Canadian authorities, besides the British North America Act itself.\", 'Now applying the principles and tests I have described to the Act before us, what do we find?', 'The Act is found associated with another Act now disallowed, the express object of which is to prevent the Chinese altogether from coming to this country, and the principle \"noscitur a sociis\" is kept up by the preamble of the present Act, which describes the Chinese in terms which, I venture to think, have never before in any other country found a place in an Act of Parliament.', 'In the definition of the persons affected by the Act no distinction is made of ambassadors, merchants, consuls, artists, professors or travellers, or sex, whether under disability or not, or at such a distance from a collector as to make it difficult or impossible to obtain a license.', 'Every person of Chinese origin, whether naturalized in Hong Kong or America, or any other State with which we are at amity, so long as they are of Chinese origin, 14 years of age—every one without distinction—must take out a license.', 'For the purpose of argument I have treated the license fee as a tax; but it is in fact a license—a license to remain in British Columbia unmolested for a year.', 'When the legislature wanted to create a tax, they knew what words to use for the purpose, for in the sister Act passed on the same day, which was disallowed, they called the impost there enacted a \"tax,\" not a license.', 'However difficult or impossible for any Chinese to find a district collector, if such Chinese is \"found without a license he is liable to a fine of $40.\"', 'At every turn he is confronted with an exceptional duty, and an exceptional penalty, and the loss of his goods and chattels, and of personal liberty.', 'It is impossible but that such an imposition so enforced, in addition to all the general taxes to which he is subject, should make this country too hot for him to live in; and just in proportion as he is so persecuted out of the country, in that degree does this enactment interfere with trade and commerce and that control over aliens exclusively given to the Dominion.', 'And not only is he thus attacked, but unheard of provisions are introduced.', 'Every employé of Chinese labour, whether English, American, or what not, is made liable to severe and incessant liability of a penal kind, for what?', 'Some act, a default of his own?', 'No; an act or default of a stranger, a man whose language he knows not, and for every infraction of the Act by the Chinese under his employ.', 'The palpable object of such a provision, or set of provisions, is to render the employment of Chinese so distasteful and annoying to the employer that he must cease to employ them.', 'Now, to pass a law providing that employment shall not be given to a special class of men, except it be productive of so much danger, annoyance, and loss to the employer, is just another way of saying that no intercourse shall be had with that class.', 'With penalties and prosecutions always before you, far in excess of any advantage to be derived from that intercourse or trade, what is that but equivalent to saying that such intercourse or trade or labour must cease altogether.', 'What is that but interfering with aliens, trade, and commerce?', \"If a man employ a Chinaman who should happen to be delinquent in his tax, and he happens to occupy a cottage or room of his employer, with his master's goods in it, under section 10 they are liable to seizure and sale.\", 'In every prosecution under the Act the legal presumption of innocence until conviction is reversed; in every case the onus probandi, though in a Statute highly penal, is shifted from the informant on to the shoulders of the accused, and he a foreigner not knowing one word of the law, or even the language of the accuser.', 'In other words, every Chinese is guilty until proved innocent—a provision which fills one conversant with subjects with alarm; for if such a law can be tolerated as against Chinese, the precedent is set, and in time of any popular outcry can easily be acted on for putting any other foreigners or even special classes among ourselves, as coloured people, or French, Italians, Americans, or Germans, under equally the same law.', 'That certainly is interfering with aliens.', 'The proposition that it is a Provincial tax for revenue purposes, supposing it to be so intended under the provisions of the Act, is so manifestly calculated to defeat that object, by diminishing the numbers of the members of the persons to be affected by it, that it is difficult to regard it in that light, or in any other light than an indirect mode of getting rid of persons whom it affects out of the country.', 'The whole Act teems with special provisions which affect not only Chinese, but their employers, with obligations and liabilities as to the conduct of the Chinese in their employ, that no reasonable man would encounter, and run the risk of the penal consequences which the Act hangs over him.', 'For instance, by section 19 any pecuniary penalty imposed may be summarily recovered (and applies to employers), and in default of immediate payment the same may be recovered by distress of the goods and chattels of the offender, and in default of sufficient distress by a liability to imprisonment for three calendar months, and the employers would necessarily be white men.', 'In fact, the Act so bristles with these arbitrary, exceptional and penal consequences, that it is invidious to single out particular ones for comment.', 'It is enough to add that \"any person,\" no matter whether white or Chinese, imprisoned in respect of any infraction of the provisions of the Act, may be at the will of the executive, subjected even to hard labour.', 'The Act is so full of provisions that interfere directly with aliens, with trade, and with commerce, that I have no hesitation in pronouncing all such provisions, and among them those under which the appellant in this case has been convicted, to be ultra vires the local legislature, and consequently illegal and void.', 'So far, I have dealt with the Act on its own merits; but if we consider it in juxtaposition to the Dominion Act recently passed restricting the Chinese throughout all Canada, its illegality becomes transparent; for in passing that Act against the Chinese the Dominion has spoken by the highest authority which it possesses—its own Parliament.', 'By the Constitutional Act the subject of aliens, we have seen, is specially reserved to the Dominion, and it is now an axiom, in the interpretation of that Act, that when that authority deals with a subject expressly included in its jurisdiction by the 91st section, it has possession of that subject exclusively, and the Province has to give way.', 'It is a great assumption of power on the part of a Province to pass laws, the effect of which must be practically to expel a particular class of aliens from that Province, to say in effect that it will by its legislation impede or prevent that class from being employed in another Province—say the North-west Territory or Manitoba—where railway works may be languishing for want of that very class of labourers, British Columbia being the only sea-board of Canada on the Pacific through which (in face of the restrictive laws of the United States) that class of labourers can enter and pass through; that is, in fact, legislating on all inter-provincial immigration; in other words, such legislation is ultra vires, and so I pronounce it; and adjudge accordingly, and quash the conviction, with costs.']\n"
     ]
    }
   ],
   "source": [
    "import spacy\n",
    "\n",
    "# Tokenize the text into sentences\n",
    "nlp = spacy.load(\"en_core_web_sm\")\n",
    "doc = nlp(full_text)\n",
    "sentences = [sent.text.strip() for sent in doc.sents]\n",
    "\n",
    "print(sentences)"
   ]
  },
  {
   "cell_type": "code",
   "execution_count": 25,
   "id": "5001eb4b",
   "metadata": {},
   "outputs": [
    {
     "name": "stdout",
     "output_type": "stream",
     "text": [
      "torch.Size([238, 384])\n"
     ]
    }
   ],
   "source": [
    "sentence_embeddings = model.encode(sentences, convert_to_tensor=True)\n",
    "print(sentence_embeddings.shape)"
   ]
  },
  {
   "cell_type": "code",
   "execution_count": 26,
   "id": "4b7be706",
   "metadata": {},
   "outputs": [
    {
     "name": "stdout",
     "output_type": "stream",
     "text": [
      "0.7384\tThe provisions of the Act I have given somewhat in extenso bear out that view, and the concurrent and previous local legislation bear out the same impression, for on the same day as this Act was passed, another Act was passed, the very object of which was plainly stated to be \"to prevent the immigration\" of Chinese.\"\n",
      "0.6861\tThe aliens in this case being Chinese, the first enquiry must be, what is the object of the Act?\n",
      "0.6467\tAnd again, \"A tax imposed by the law on these persons for the mere right to reside here, is an appropriate and effective means to discourage the immigration of the Chinese into the State.\n",
      "0.6201\tIts object, though not apparent on the face of the Act, was to prevent Chinese coming into the Province and drive out those who had already come.\n",
      "0.6025\tThe power asserted in the Act in question (the California Act) is the right of the State to prescribe the terms upon which the Chinese shall be permitted to reside in it, and be so used as to cut off all intercourse between them and the people of the State, and defeat the commercial policy of the nation.\n",
      "0.5960\tThe Act is found associated with another Act now disallowed, the express object of which is to prevent the Chinese altogether from coming to this country, and the principle \"noscitur a sociis\" is kept up by the preamble of the present Act, which describes the Chinese in terms which, I venture to think, have never before in any other country found a place in an Act of Parliament.\n",
      "0.5878\tIn other words, every Chinese is guilty until proved innocent—a provision which fills one conversant with subjects with alarm; for if such a law can be tolerated as against Chinese, the precedent is set, and in time of any popular outcry can easily be acted on for putting any other foreigners or even special classes among ourselves, as coloured people, or French, Italians, Americans, or Germans, under equally the same law.\n",
      "0.5830\tThe basis, then, of our enquiry must be: Is this Chinese Regulation Act of 1884—rather the parts of it objected to—within the limit of subjects and area of section 92, or does it exceed those limits in which it is supreme, and interfere with aliens, trade and commerce in such a manner as to encroach on section 91 or any of its sub-sections?\n",
      "0.5802\tThe whole Act teems with special provisions which affect not only Chinese, but their employers, with obligations and liabilities as to the conduct of the Chinese in their employ, that no reasonable man would encounter, and run the risk of the penal consequences which the Act hangs over him.\n"
     ]
    }
   ],
   "source": [
    "# Calculate the cosine similarity\n",
    "sims = cosine_similarity(target_embedding.unsqueeze(0), sentence_embeddings)\n",
    "\n",
    "k = min(10, sims.shape[0])\n",
    "\n",
    "topk = torch.topk(sims, k=k-1)\n",
    "\n",
    "for score, idx in zip(topk.values, topk.indices):\n",
    "    print(f\"{score:.4f}\\t{sentences[idx]}\")"
   ]
  },
  {
   "cell_type": "markdown",
   "id": "b36d0a77",
   "metadata": {},
   "source": [
    "We apply a trained model to mask key words related to ethnicity and nationality identities."
   ]
  },
  {
   "cell_type": "code",
   "execution_count": 27,
   "id": "04f429da",
   "metadata": {},
   "outputs": [
    {
     "name": "stderr",
     "output_type": "stream",
     "text": [
      "Some weights of the model checkpoint at dbmdz/bert-large-cased-finetuned-conll03-english were not used when initializing BertForTokenClassification: ['bert.pooler.dense.bias', 'bert.pooler.dense.weight']\n",
      "- This IS expected if you are initializing BertForTokenClassification from the checkpoint of a model trained on another task or with another architecture (e.g. initializing a BertForSequenceClassification model from a BertForPreTraining model).\n",
      "- This IS NOT expected if you are initializing BertForTokenClassification from the checkpoint of a model that you expect to be exactly identical (initializing a BertForSequenceClassification model from a BertForSequenceClassification model).\n",
      "Device set to use cpu\n",
      "c:\\Users\\Kaiyan Zhang\\AppData\\Local\\Programs\\Python\\Python312\\Lib\\site-packages\\transformers\\pipelines\\token_classification.py:181: UserWarning:\n",
      "\n",
      "`grouped_entities` is deprecated and will be removed in version v5.0.0, defaulted to `aggregation_strategy=\"AggregationStrategy.SIMPLE\"` instead.\n",
      "\n"
     ]
    }
   ],
   "source": [
    "from transformers import pipeline\n",
    "import numpy\n",
    "\n",
    "ner = pipeline(\"ner\", model=\"dbmdz/bert-large-cased-finetuned-conll03-english\", grouped_entities=True)\n",
    "\n",
    "def mask_ethnicity_hf(text):\n",
    "    entities = ner(text)\n",
    "    spans_to_mask = [e for e in entities if e[\"entity_group\"] == \"MISC\" or e[\"entity_group\"] == \"ORG\" or e[\"entity_group\"] == \"PER\" or e[\"entity_group\"] == \"LOC\" or e[\"entity_group\"] == \"NORP\"]\n",
    "    # typically nationality is in MISC or NORP depending on the model\n",
    "    masked = text\n",
    "    for ent in sorted(spans_to_mask, key=lambda e: e[\"start\"], reverse=True):\n",
    "        masked = masked[:ent[\"start\"]] + \"[MASK]\" + masked[ent[\"end\"]:]\n",
    "    return masked"
   ]
  },
  {
   "cell_type": "code",
   "execution_count": 28,
   "id": "666bbb38",
   "metadata": {},
   "outputs": [],
   "source": [
    "def mask_ethnicity(texts):\n",
    "    masked_list = []\n",
    "    for sent in texts:\n",
    "        sent = mask_ethnicity_hf(sent)\n",
    "        masked_list.append(sent)\n",
    "        \n",
    "    return masked_list"
   ]
  },
  {
   "cell_type": "code",
   "execution_count": 29,
   "id": "d0daa4c8",
   "metadata": {},
   "outputs": [
    {
     "name": "stdout",
     "output_type": "stream",
     "text": [
      "And when this happens, and when we allow freedom ring, when we let it ring from every village and every hamlet, \n",
      "from every state and every city, we will be able to speed up that day when all of [MASK]'s children, [MASK] men and white men, \n",
      "[MASK] and [MASK]s, [MASK] and [MASK], will be able to join hands and sing in the words of the old [MASK] spiritual: Free at last. \n",
      "Free at last. Thank [MASK] almighty, we are free at last.\n"
     ]
    }
   ],
   "source": [
    "# Example output applying this pre-trained model\n",
    "example_text = \"\"\"And when this happens, and when we allow freedom ring, when we let it ring from every village and every hamlet, \n",
    "from every state and every city, we will be able to speed up that day when all of God's children, Black men and white men, \n",
    "Jews and Gentiles, Protestants and Catholics, will be able to join hands and sing in the words of the old Negro spiritual: Free at last. \n",
    "Free at last. Thank God almighty, we are free at last.\"\"\"\n",
    "\n",
    "masked_example = mask_ethnicity_hf(example_text)\n",
    "\n",
    "print(masked_example)"
   ]
  },
  {
   "cell_type": "code",
   "execution_count": 30,
   "id": "39bfe16a",
   "metadata": {},
   "outputs": [
    {
     "data": {
      "text/plain": [
       "'The aliens in this case being [MASK], the first enquiry must be, what is the object of the [MASK]? On applying to the preamble, we find that it looks like a bill of indictment as against a race not suited to live among a civilized nation, and certainly does not prepare one for legislation which would encourage or tolerate their settlement in the country. Indeed, the first lines of the preamble sound an alarm at the multitude of people coming in, who are of the repulsive habits described in the last part of the preamble, and prepares one for measures which should have a tendency to abate that alarm by deterrent influences and enactments which should have the effect of materially lessening the number of such undesirable visitors. The provisions of the [MASK] I have given somewhat in extenso bear out that view, and the concurrent and previous local legislation bear out the same impression, for on the same day as this [MASK] was passed, another [MASK] was passed, the very object of which was plainly stated to be \"to prevent the immigration\" of [MASK].\"'"
      ]
     },
     "execution_count": 30,
     "metadata": {},
     "output_type": "execute_result"
    }
   ],
   "source": [
    "masked_paragraphs = mask_ethnicity(paragraphs)\n",
    "\n",
    "masked_paragraphs[40]"
   ]
  },
  {
   "cell_type": "code",
   "execution_count": 31,
   "id": "f699ddee",
   "metadata": {},
   "outputs": [
    {
     "name": "stdout",
     "output_type": "stream",
     "text": [
      "torch.Size([78, 384])\n"
     ]
    }
   ],
   "source": [
    "# Calculate embeddings by calling model.encode()\n",
    "masked_paragraph_embeddings = model.encode(masked_paragraphs, convert_to_tensor=True)\n",
    "print(masked_paragraph_embeddings.shape)"
   ]
  },
  {
   "cell_type": "code",
   "execution_count": 32,
   "id": "d7a360ad",
   "metadata": {},
   "outputs": [
    {
     "name": "stdout",
     "output_type": "stream",
     "text": [
      "0.4159\tAnd again, \"A tax imposed by the law on these persons for the mere right to reside here, is an appropriate and effective means to discourage the immigration of the [MASK] into the State.\"\n",
      "0.3908\tThe aliens in this case being [MASK], the first enquiry must be, what is the object of the [MASK]? On applying to the preamble, we find that it looks like a bill of indictment as against a race not suited to live among a civilized nation, and certainly does not prepare one for legislation which would encourage or tolerate their settlement in the country. Indeed, the first lines of the preamble sound an alarm at the multitude of people coming in, who are of the repulsive habits described in the last part of the preamble, and prepares one for measures which should have a tendency to abate that alarm by deterrent influences and enactments which should have the effect of materially lessening the number of such undesirable visitors. The provisions of the [MASK] I have given somewhat in extenso bear out that view, and the concurrent and previous local legislation bear out the same impression, for on the same day as this [MASK] was passed, another [MASK] was passed, the very object of which was plainly stated to be \"to prevent the immigration\" of [MASK].\"\n",
      "0.3775\tNow, applying this test to the statute before us, let us see whether and how far its provisions affect, as is alleged, aliens, or trade, or commerce.\n",
      "0.3510\t*[MASK]*, cap. 8, referring to our obligations to foreigners, observes:— \"As soon as the lord of the territory admits strangers into it he engages \"to protect them as his own subjects, and to afford them perfect security as far as depends on him.\"\n",
      "0.3247\tThese treaties have the force of international law, and are continued most strongly against the party for whose benefit they are introduced.\n",
      "0.3211\tIn the *[MASK] [MASK]* judgment, p. 579, the learned judge says of the power of taxing foreigners, as in the present *qua* foreigners: “If the power exist it may be exercised upon all foreigners residing in the State, and may be so exercised as to bar the door of foreign commerce as effectually as the Government could do by issuing its man-“date and closing its ports.\"\n",
      "0.2655\tIn another place he says:—\"It would be an empty sound to say that the several [MASK] cannot pass any law to prevent foreigners from coming here if they may pass laws which will compel such foreigners to depart as soon as they arrive.\"\n",
      "0.2485\tAnd again \"to determine whether there is a conflict or not, i.e., of jurisdictions, the power must be considered with reference to its consequences, for its effect when carried out is the only criterion by which a judgment can be formed.\"\n",
      "0.2467\tDuring the argument on the case before me, the Attorney-General claims that this was direct taxation, and a direct tax within the Province, to raise revenue for [MASK] purposes, and, therefore *intra vires*; but the question is not one of name but of fact. Does it interfere with trade or commerce? Can it be legally imposed on foreigners as foreigners, for even a legal tax in other respects becomes illegal when it goes beyond its proper limits, and interferes with powers exclusively given to the Dominion for the benefit of all?\n"
     ]
    }
   ],
   "source": [
    "# Calculate the cosine similarity\n",
    "sims = cosine_similarity(target_embedding.unsqueeze(0), masked_paragraph_embeddings)\n",
    "\n",
    "k = min(10, sims.shape[0])\n",
    "\n",
    "topk = torch.topk(sims, k=k-1)\n",
    "\n",
    "top_masked_paragraphs = []\n",
    "\n",
    "for score, idx in zip(topk.values, topk.indices):\n",
    "    top_masked_paragraphs.append(masked_paragraphs[idx])\n",
    "    print(f\"{score:.4f}\\t{masked_paragraphs[idx]}\")"
   ]
  },
  {
   "cell_type": "markdown",
   "id": "bca8a2c8",
   "metadata": {},
   "source": [
    "### Natural Language Inference"
   ]
  },
  {
   "cell_type": "code",
   "execution_count": 33,
   "id": "a039befe",
   "metadata": {},
   "outputs": [
    {
     "name": "stderr",
     "output_type": "stream",
     "text": [
      "Some weights of RobertaForSequenceClassification were not initialized from the model checkpoint at lexlms/legal-roberta-base and are newly initialized: ['classifier.dense.bias', 'classifier.dense.weight', 'classifier.out_proj.bias', 'classifier.out_proj.weight']\n",
      "You should probably TRAIN this model on a down-stream task to be able to use it for predictions and inference.\n",
      "Device set to use cpu\n",
      "c:\\Users\\Kaiyan Zhang\\AppData\\Local\\Programs\\Python\\Python312\\Lib\\site-packages\\transformers\\pipelines\\text_classification.py:106: UserWarning:\n",
      "\n",
      "`return_all_scores` is now deprecated,  if want a similar functionality use `top_k=None` instead of `return_all_scores=True` or `top_k=1` instead of `return_all_scores=False`.\n",
      "\n"
     ]
    },
    {
     "name": "stdout",
     "output_type": "stream",
     "text": [
      "     neutral  0.51  ->  And again, \"A tax imposed by the law on these persons for the mere right to reside here, is an appropriate and effective means to discourage the immigration of the [MASK] into the State.\"\n",
      "     neutral  0.53  ->  The aliens in this case being [MASK], the first enquiry must be, what is the object of the [MASK]? On applying to the preamble, we find that it looks like a bill of indictment as against a race not suited to live among a civilized nation, and certainly does not prepare one for legislation which would encourage or tolerate their settlement in the country. Indeed, the first lines of the preamble sound an alarm at the multitude of people coming in, who are of the repulsive habits described in the last part of the preamble, and prepares one for measures which should have a tendency to abate that alarm by deterrent influences and enactments which should have the effect of materially lessening the number of such undesirable visitors. The provisions of the [MASK] I have given somewhat in extenso bear out that view, and the concurrent and previous local legislation bear out the same impression, for on the same day as this [MASK] was passed, another [MASK] was passed, the very object of which was plainly stated to be \"to prevent the immigration\" of [MASK].\"\n",
      "     neutral  0.52  ->  Now, applying this test to the statute before us, let us see whether and how far its provisions affect, as is alleged, aliens, or trade, or commerce.\n",
      "     neutral  0.52  ->  *[MASK]*, cap. 8, referring to our obligations to foreigners, observes:— \"As soon as the lord of the territory admits strangers into it he engages \"to protect them as his own subjects, and to afford them perfect security as far as depends on him.\"\n",
      "     neutral  0.52  ->  These treaties have the force of international law, and are continued most strongly against the party for whose benefit they are introduced.\n",
      "     neutral  0.53  ->  In the *[MASK] [MASK]* judgment, p. 579, the learned judge says of the power of taxing foreigners, as in the present *qua* foreigners: “If the power exist it may be exercised upon all foreigners residing in the State, and may be so exercised as to bar the door of foreign commerce as effectually as the Government could do by issuing its man-“date and closing its ports.\"\n",
      "     neutral  0.51  ->  In another place he says:—\"It would be an empty sound to say that the several [MASK] cannot pass any law to prevent foreigners from coming here if they may pass laws which will compel such foreigners to depart as soon as they arrive.\"\n",
      "     neutral  0.52  ->  And again \"to determine whether there is a conflict or not, i.e., of jurisdictions, the power must be considered with reference to its consequences, for its effect when carried out is the only criterion by which a judgment can be formed.\"\n",
      "     neutral  0.53  ->  During the argument on the case before me, the Attorney-General claims that this was direct taxation, and a direct tax within the Province, to raise revenue for [MASK] purposes, and, therefore *intra vires*; but the question is not one of name but of fact. Does it interfere with trade or commerce? Can it be legally imposed on foreigners as foreigners, for even a legal tax in other respects becomes illegal when it goes beyond its proper limits, and interferes with powers exclusively given to the Dominion for the benefit of all?\n"
     ]
    }
   ],
   "source": [
    "from transformers import AutoTokenizer, AutoModelForSequenceClassification, pipeline\n",
    "\n",
    "# Choose a strong NLI model\n",
    "model_name = \"lexlms/legal-roberta-base\"\n",
    "\n",
    "tokenizer = AutoTokenizer.from_pretrained(model_name)\n",
    "model     = AutoModelForSequenceClassification.from_pretrained(model_name)\n",
    "\n",
    "# Create an NLI pipeline\n",
    "nli = pipeline(\n",
    "    \"text-classification\",\n",
    "    model=model,\n",
    "    tokenizer=tokenizer,\n",
    "    device=-1,                   \n",
    "    return_all_scores=True        \n",
    ")\n",
    "\n",
    "# Define the premise\n",
    "premise = \"Chinese immigrants should enjoy equal rights and legal protections.\"\n",
    "\n",
    "results = []\n",
    "for sent in top_masked_paragraphs:\n",
    "    inputs = tokenizer.encode_plus(premise, sent, return_tensors=\"pt\", truncation=True)\n",
    "    out = model(**inputs).logits.softmax(dim=-1).tolist()[0]\n",
    "    label_idx = out.index(max(out))\n",
    "    label = [\"FAVOR\", \"NEUTRAL\", \"AGAINST\"][label_idx]\n",
    "    results.append((sent, label, dict(zip([\"favor\",\"neutral\",\"against\"], out))))\n",
    "\n",
    "# Print stance results\n",
    "for sent, label, probs in results:\n",
    "    print(f\"{label.lower():>12}  {probs[label.lower()]:.2f}  ->  {sent}\")"
   ]
  },
  {
   "cell_type": "code",
   "execution_count": 34,
   "id": "0bef693c",
   "metadata": {},
   "outputs": [
    {
     "name": "stderr",
     "output_type": "stream",
     "text": [
      "Device set to use cpu\n"
     ]
    },
    {
     "name": "stdout",
     "output_type": "stream",
     "text": [
      "                                           paragraph  entailment   neutral  \\\n",
      "0             CREASE, J. 1885. REGINA v. WING CHONG.    0.485249  0.398294   \n",
      "1  14th & 15th July, Certiorari—“Chinese Regulati...    0.354459  0.321517   \n",
      "2  14th & 15th July—On the return of a writ of ce...    0.443300  0.300308   \n",
      "3  The Attorney-General in support of the convict...    0.291023  0.360960   \n",
      "4  *Richards*, Q. C., for Wing Chong—The object o...    0.232745  0.329130   \n",
      "\n",
      "   contradiction      predicted  \n",
      "0       0.116457     entailment  \n",
      "1       0.324025     entailment  \n",
      "2       0.256391     entailment  \n",
      "3       0.348017        neutral  \n",
      "4       0.438125  contradiction  \n"
     ]
    }
   ],
   "source": [
    "from transformers import pipeline\n",
    "import pandas as pd\n",
    "\n",
    "# Load the MNLI‑based zero‑shot classifier\n",
    "classifier = pipeline(\n",
    "    \"zero-shot-classification\",\n",
    "    model=\"facebook/bart-large-mnli\",\n",
    "    device=-1\n",
    ")\n",
    "\n",
    "# Use the NLI labels as your “candidate labels”\n",
    "candidate_labels = [\"entailment\", \"neutral\", \"contradiction\"]\n",
    "\n",
    "records = []\n",
    "for para in paragraphs:\n",
    "    out = classifier(\n",
    "        sequences=para,\n",
    "        candidate_labels=candidate_labels,\n",
    "        hypothesis_template=\"Given the context that the texts for classification are from a legal ruling in 1885, this paragraph is {} of the premise 'Chinese immigrants should enjoy equal rights and legal protections'.\"\n",
    "    )\n",
    "    # out['labels'] is sorted by score descending\n",
    "    scores = dict(zip(out[\"labels\"], out[\"scores\"]))\n",
    "    pred = out[\"labels\"][0]\n",
    "\n",
    "    records.append({\n",
    "        \"paragraph\": para,\n",
    "        \"entailment\":   scores.get(\"entailment\", 0.0),\n",
    "        \"neutral\":      scores.get(\"neutral\",    0.0),\n",
    "        \"contradiction\":scores.get(\"contradiction\", 0.0),\n",
    "        \"predicted\":    pred\n",
    "    })\n",
    "\n",
    "#  Build a DataFrame\n",
    "df_nli = pd.DataFrame(records)\n",
    "\n",
    "# Inspect the first few rows\n",
    "print(df_nli.head())"
   ]
  },
  {
   "cell_type": "code",
   "execution_count": 35,
   "id": "f5441aa0",
   "metadata": {},
   "outputs": [
    {
     "data": {
      "text/plain": [
       "(78, 5)"
      ]
     },
     "execution_count": 35,
     "metadata": {},
     "output_type": "execute_result"
    }
   ],
   "source": [
    "df_nli.shape"
   ]
  },
  {
   "cell_type": "code",
   "execution_count": 36,
   "id": "b7ab6f96",
   "metadata": {},
   "outputs": [
    {
     "name": "stdout",
     "output_type": "stream",
     "text": [
      "               count  proportion\n",
      "predicted                       \n",
      "neutral           36    0.461538\n",
      "contradiction     22    0.282051\n",
      "entailment        20    0.256410\n"
     ]
    }
   ],
   "source": [
    "counts = df_nli['predicted'].value_counts()\n",
    "\n",
    "proportions = df_nli['predicted'].value_counts(normalize=True)\n",
    "\n",
    "result = pd.DataFrame({\n",
    "    'count': counts,\n",
    "    'proportion': proportions\n",
    "})\n",
    "\n",
    "print(result)"
   ]
  },
  {
   "cell_type": "markdown",
   "id": "a7cac29e",
   "metadata": {},
   "source": [
    "### Topic Modelling Through BERTopic"
   ]
  },
  {
   "cell_type": "code",
   "execution_count": 37,
   "id": "4388f7f2",
   "metadata": {},
   "outputs": [
    {
     "name": "stdout",
     "output_type": "stream",
     "text": [
      "   Topic  Count                                   Name  \\\n",
      "0     -1     18     -1_china_subjects_default_distress   \n",
      "1      0     42  0_dominion_taxation_province_commerce   \n",
      "2      1     18      1_license_shall_possession_person   \n",
      "\n",
      "                                      Representation  \\\n",
      "0  [china, subjects, default, distress, void, tra...   \n",
      "1  [dominion, taxation, province, commerce, alien...   \n",
      "2  [license, shall, possession, person, exceeding...   \n",
      "\n",
      "                                 Representative_Docs  \n",
      "0  [If the legislation here be to drive people fr...  \n",
      "1  [The Attorney-General in reply—The ten dollar ...  \n",
      "2  [Section 9. “In case any employer of Chinese f...  \n"
     ]
    }
   ],
   "source": [
    "from bertopic import BERTopic\n",
    "from bertopic.vectorizers import ClassTfidfTransformer\n",
    "from sklearn.feature_extraction.text import CountVectorizer\n",
    "\n",
    "\n",
    "ctfidf_model = ClassTfidfTransformer(reduce_frequent_words=True)\n",
    "vectorizer = CountVectorizer(stop_words=\"english\", ngram_range=(1,2), max_df=0.85, min_df=2)\n",
    "\n",
    "topic_model = BERTopic(\n",
    "    vectorizer_model=vectorizer, \n",
    "    ctfidf_model= ctfidf_model\n",
    ")\n",
    "\n",
    "topics, probs = topic_model.fit_transform(paragraphs)\n",
    "\n",
    "df_topic = topic_model.get_topic_info()\n",
    "print(df_topic)"
   ]
  },
  {
   "cell_type": "code",
   "execution_count": 38,
   "id": "eb2bacfb",
   "metadata": {},
   "outputs": [
    {
     "name": "stdout",
     "output_type": "stream",
     "text": [
      "The Attorney-General in reply—The ten dollar impost was a tax whether designated by the name of a licence or otherwise. The distinction between direct and indirect taxation was well drawn in the case of Reed v. Mousseau before the Supreme Court of Canada, in which Mr. Justice Strong mentioned the Privy Council had decided the Provincial legislatures had exclusive power to impose direct taxation, and that it did not follow they might not have power even to impose indirect taxation. The tax did not sanction the carrying on of any business out of the product of which the consumer would, indirectly, contribute towards payment of the tax. Then as to inequality, the one dictum of Cooley was but an expression of opinion that political wisdom required uniform taxation; for the same author cited numerous authorities, including that of the Supreme Court of the United States establishing the right to discriminate unless fettered by the express language of the Constitution. Todd on Parliamentary Government in the Colonies, supported the view that the Provinces within their jurisdiction were as omnipotent as the Imperial Parliament. The California cases (see The People v. Naglee, 1 Cal. 232) decided a differential tax might be imposed on foreign miners; and though a later case (Lin Sing v. Washburn, 20 Cal. 334) had decided a special tax could not be imposed on Chinese, a most celebrated Judge, Mr. Justice Field (since elevated to the Federal bench), dissented, and had pointed out that according to federal decisions the State might impose special taxation on alien residents, provided the impost was not levied against foreigners landing in the country. The tax was not to exclude the Chinese — another statute with that object had been disallowed. It was imposed to meet the extraordinary expenses incident to enforcing the police and sanitary regulations prescribed by the Act. The question of treaties had nothing to do with the subject, for to responsible governments the Imperial Authorities conceded the right to pass laws within their jurisdiction. So the Canadian Parliament to-day was passing a restriction Act. Opponents to the Act might as well contend the exclusion of the Chinese from the franchise, and barring them from acquiring lands, was illegal. As to autonomy, neither the Australian Colonies nor the Dominion were absolutely possessed, but the Province equally with Australia and the Dominion were autonomous within the bounds of their respective jurisdictions.\n",
      "*Richards*, Q. C., for Wing Chong—The object of the Act was not for police purposes or to raise revenue. Its object, though not apparent on the face of the Act, was to prevent Chinese coming into the Province and drive out those who had already come. He reviewed the legislation against Chinese since confederation, contending it was levelled against a particular race of aliens and, therefore, beyond provincial control, per *Gwynne*, J., in *Citizens Insurance Co. v. Parsons*, 4 S. C. R., at p. 346. The law was a direct interference with trade and commerce (*R. v. Severn*, 2 Can. S. C. R., 70). If its object were successful and Chinese driven from the country, the customs dues received from the Chinese would be lost and the benefits of trade relations enjoyed by the merchants would be destroyed. Counsel cited statistics from the Chinese Commission showing the extreme importance, from a fiscal and commercial point of view, of the large number of Chinese in the Province. The Dominion under the B. N. A. Act had alone the right of performing in Canada the obligations of Canada as part of the British Empire in respect of treaties, and although Canada might pass laws prohibiting immigration, or having that tendency, the Province could not do so, nor could it pass laws in derogation of treaties. He cited the British treaty (25th August, 1842, from *Hertslet*, Vol. 6, and Lord *Elgin's* treaty, 1860), comparing it with the *Burlingame* treaty of the United States, and quoted California decisions (*Lin Sing v. Washburn*, 20 Cal. 334), and the decision of *Gray*, J., in *Tai Sing v. Maguire*, deciding that similar legislation was held void as contravening the treaty and the sovereign power to regulate trade and commerce with foreign countries.\n",
      "The Attorney-General in support of the conviction said there were five points raised on the rule for the certiorari against the validity of the $10 tax.—1st. That it interfered with the Dominion powers under the B. N. A. Act, aliens, and naturalization; 2nd. Trade and commerce; 3rd. Treaty obligations; 4th. That the tax was unequal, and 5th. It was indirect taxation. As to the first point aliens were as much subject to taxation as citizens. Protection and taxation were reciprocal (Cooley on Taxation, p. 14). The law did not deal with the conditions under which aliens might acquire rights or become subjects of Her Majesty. Secondly—Trade and commerce were not interfered with. The object of the Act was two-fold, the police and sanitary regulation of a numerous foreign element, and the raising of revenue necessary to meet that regulation (Hodge v. The Queen, L. R. 9, App. Cas. 117). If incidentally trade and commerce were touched, the provincial power of direct taxation was not impaired (Citizens Insurance Co. v. Parsons, L. R. 7 App. Cas. 108). The preamble and scope of the Act showed its objects were purely matters of the police and raising of revenue to meet the necessary expenditure, and within “Direct Taxation.” Thirdly—The treaty obligations of England did not affect the question. The last communication from the Secretary of State for the Colonies to the Governor-General, dated 16th May, 1884, stated, in effect, that the Colonies with responsible government could pass restrictive laws irrespective of treaties (B. C. Sessional Papers, 1885, p. 464), and instanced the legislation of the Australian Colonies and of the Dominion. Fourthly—As to unequal taxation, the power of the Province within its jurisdiction was supreme and as plenary as that of the Imperial Parliament (R. v. Burah, L.R. 3 App. Cas. 904; R. v. Hodge, L. R. 9, App. Cas. 117; and Powell v. Apollo Candle Co., L.R. 10 App. Cas., p. 290; and *In re Goodhue*, 19 Gr. 366); *Cooley* on Taxation, pp. 3, 82, 126-128, and *Cooley's Constitutional Limitations* (5th Ed.) 626-7; *Sedgwick* on Stat. (2nd Ed.), p. 501; *Potter's Dwarris* 418, 421, 425; *Dow v. Black*, L. R. 6 P. C. 272, were cited as showing the power of taxation, unless abridged by the written constitution, might be exercised so as to discriminate. The Supreme Court of Canada, in the case of *Jonas v. Gilbert*, 5 S. C. R., 356, had practically decided the same point. Fifthly—Whether called a licence or not, the imposition was a direct poll tax, and as such came within the power of the Province to raise money by direct taxation for Provincial purposes. *Cooley* on Taxation, 386; *Wharton's Law Lexicon*; *Reed v. Mousseau*, 8 S. C. R., 408. It was not a license to carry on business, or a method whereby indirectly money was raised from the consumer, as, for instance, customs or stamp laws.\n"
     ]
    }
   ],
   "source": [
    "for para in df_topic[\"Representative_Docs\"][1]:\n",
    "    print(para)"
   ]
  },
  {
   "cell_type": "code",
   "execution_count": 39,
   "id": "ee9b6ebe",
   "metadata": {},
   "outputs": [
    {
     "name": "stdout",
     "output_type": "stream",
     "text": [
      "['china', 'subjects', 'default', 'distress', 'void', 'trade', 'aliens trade', 'does', 'revenue', 'character', 'dominion', 'taxation', 'province', 'commerce', 'aliens', 'powers', 'trade', 'legislation', 'foreigners', 'government', 'license', 'shall', 'possession', 'person', 'exceeding', 'chinese shall', 'having', 'premises', 'employer', 'goods chattels']\n"
     ]
    }
   ],
   "source": [
    "rep_list = []\n",
    "\n",
    "for list in df_topic[\"Representation\"]:\n",
    "    rep_list.extend(list)\n",
    "    \n",
    "print(rep_list)"
   ]
  },
  {
   "cell_type": "code",
   "execution_count": 40,
   "id": "296c49cf",
   "metadata": {},
   "outputs": [
    {
     "name": "stdout",
     "output_type": "stream",
     "text": [
      "['china', 'subjects', 'default', 'dominion', 'taxation', 'province', 'license', 'shall', 'possession']\n"
     ]
    }
   ],
   "source": [
    "topic_labels = topic_model.generate_topic_labels(\n",
    "    nr_words=3,       \n",
    "    separator=\" \",     \n",
    "    topic_prefix=False \n",
    ")\n",
    "\n",
    "topic_list = []\n",
    "\n",
    "for label in topic_labels:\n",
    "    phrases = label.split(\" \")\n",
    "    topic_list.extend(phrases)\n",
    "    \n",
    "print(topic_list)"
   ]
  },
  {
   "cell_type": "code",
   "execution_count": 41,
   "id": "6438c36b",
   "metadata": {},
   "outputs": [
    {
     "data": {
      "application/vnd.plotly.v1+json": {
       "config": {
        "plotlyServerURL": "https://plot.ly"
       },
       "data": [
        {
         "hovertemplate": "x=%{x}<br>y=%{y}<br>topic=%{text}<extra></extra>",
         "legendgroup": "",
         "marker": {
          "color": "#636efa",
          "symbol": "circle"
         },
         "mode": "markers+text",
         "name": "",
         "orientation": "v",
         "showlegend": false,
         "text": [
          -1,
          0,
          1
         ],
         "type": "scatter",
         "x": [
          46.00291,
          45.399647,
          44.691036
         ],
         "xaxis": "x",
         "y": [
          -44.6011,
          -45.41154,
          -44.7853
         ],
         "yaxis": "y"
        }
       ],
       "layout": {
        "legend": {
         "tracegroupgap": 0
        },
        "template": {
         "data": {
          "bar": [
           {
            "error_x": {
             "color": "#2a3f5f"
            },
            "error_y": {
             "color": "#2a3f5f"
            },
            "marker": {
             "line": {
              "color": "#E5ECF6",
              "width": 0.5
             },
             "pattern": {
              "fillmode": "overlay",
              "size": 10,
              "solidity": 0.2
             }
            },
            "type": "bar"
           }
          ],
          "barpolar": [
           {
            "marker": {
             "line": {
              "color": "#E5ECF6",
              "width": 0.5
             },
             "pattern": {
              "fillmode": "overlay",
              "size": 10,
              "solidity": 0.2
             }
            },
            "type": "barpolar"
           }
          ],
          "carpet": [
           {
            "aaxis": {
             "endlinecolor": "#2a3f5f",
             "gridcolor": "white",
             "linecolor": "white",
             "minorgridcolor": "white",
             "startlinecolor": "#2a3f5f"
            },
            "baxis": {
             "endlinecolor": "#2a3f5f",
             "gridcolor": "white",
             "linecolor": "white",
             "minorgridcolor": "white",
             "startlinecolor": "#2a3f5f"
            },
            "type": "carpet"
           }
          ],
          "choropleth": [
           {
            "colorbar": {
             "outlinewidth": 0,
             "ticks": ""
            },
            "type": "choropleth"
           }
          ],
          "contour": [
           {
            "colorbar": {
             "outlinewidth": 0,
             "ticks": ""
            },
            "colorscale": [
             [
              0,
              "#0d0887"
             ],
             [
              0.1111111111111111,
              "#46039f"
             ],
             [
              0.2222222222222222,
              "#7201a8"
             ],
             [
              0.3333333333333333,
              "#9c179e"
             ],
             [
              0.4444444444444444,
              "#bd3786"
             ],
             [
              0.5555555555555556,
              "#d8576b"
             ],
             [
              0.6666666666666666,
              "#ed7953"
             ],
             [
              0.7777777777777778,
              "#fb9f3a"
             ],
             [
              0.8888888888888888,
              "#fdca26"
             ],
             [
              1,
              "#f0f921"
             ]
            ],
            "type": "contour"
           }
          ],
          "contourcarpet": [
           {
            "colorbar": {
             "outlinewidth": 0,
             "ticks": ""
            },
            "type": "contourcarpet"
           }
          ],
          "heatmap": [
           {
            "colorbar": {
             "outlinewidth": 0,
             "ticks": ""
            },
            "colorscale": [
             [
              0,
              "#0d0887"
             ],
             [
              0.1111111111111111,
              "#46039f"
             ],
             [
              0.2222222222222222,
              "#7201a8"
             ],
             [
              0.3333333333333333,
              "#9c179e"
             ],
             [
              0.4444444444444444,
              "#bd3786"
             ],
             [
              0.5555555555555556,
              "#d8576b"
             ],
             [
              0.6666666666666666,
              "#ed7953"
             ],
             [
              0.7777777777777778,
              "#fb9f3a"
             ],
             [
              0.8888888888888888,
              "#fdca26"
             ],
             [
              1,
              "#f0f921"
             ]
            ],
            "type": "heatmap"
           }
          ],
          "heatmapgl": [
           {
            "colorbar": {
             "outlinewidth": 0,
             "ticks": ""
            },
            "colorscale": [
             [
              0,
              "#0d0887"
             ],
             [
              0.1111111111111111,
              "#46039f"
             ],
             [
              0.2222222222222222,
              "#7201a8"
             ],
             [
              0.3333333333333333,
              "#9c179e"
             ],
             [
              0.4444444444444444,
              "#bd3786"
             ],
             [
              0.5555555555555556,
              "#d8576b"
             ],
             [
              0.6666666666666666,
              "#ed7953"
             ],
             [
              0.7777777777777778,
              "#fb9f3a"
             ],
             [
              0.8888888888888888,
              "#fdca26"
             ],
             [
              1,
              "#f0f921"
             ]
            ],
            "type": "heatmapgl"
           }
          ],
          "histogram": [
           {
            "marker": {
             "pattern": {
              "fillmode": "overlay",
              "size": 10,
              "solidity": 0.2
             }
            },
            "type": "histogram"
           }
          ],
          "histogram2d": [
           {
            "colorbar": {
             "outlinewidth": 0,
             "ticks": ""
            },
            "colorscale": [
             [
              0,
              "#0d0887"
             ],
             [
              0.1111111111111111,
              "#46039f"
             ],
             [
              0.2222222222222222,
              "#7201a8"
             ],
             [
              0.3333333333333333,
              "#9c179e"
             ],
             [
              0.4444444444444444,
              "#bd3786"
             ],
             [
              0.5555555555555556,
              "#d8576b"
             ],
             [
              0.6666666666666666,
              "#ed7953"
             ],
             [
              0.7777777777777778,
              "#fb9f3a"
             ],
             [
              0.8888888888888888,
              "#fdca26"
             ],
             [
              1,
              "#f0f921"
             ]
            ],
            "type": "histogram2d"
           }
          ],
          "histogram2dcontour": [
           {
            "colorbar": {
             "outlinewidth": 0,
             "ticks": ""
            },
            "colorscale": [
             [
              0,
              "#0d0887"
             ],
             [
              0.1111111111111111,
              "#46039f"
             ],
             [
              0.2222222222222222,
              "#7201a8"
             ],
             [
              0.3333333333333333,
              "#9c179e"
             ],
             [
              0.4444444444444444,
              "#bd3786"
             ],
             [
              0.5555555555555556,
              "#d8576b"
             ],
             [
              0.6666666666666666,
              "#ed7953"
             ],
             [
              0.7777777777777778,
              "#fb9f3a"
             ],
             [
              0.8888888888888888,
              "#fdca26"
             ],
             [
              1,
              "#f0f921"
             ]
            ],
            "type": "histogram2dcontour"
           }
          ],
          "mesh3d": [
           {
            "colorbar": {
             "outlinewidth": 0,
             "ticks": ""
            },
            "type": "mesh3d"
           }
          ],
          "parcoords": [
           {
            "line": {
             "colorbar": {
              "outlinewidth": 0,
              "ticks": ""
             }
            },
            "type": "parcoords"
           }
          ],
          "pie": [
           {
            "automargin": true,
            "type": "pie"
           }
          ],
          "scatter": [
           {
            "fillpattern": {
             "fillmode": "overlay",
             "size": 10,
             "solidity": 0.2
            },
            "type": "scatter"
           }
          ],
          "scatter3d": [
           {
            "line": {
             "colorbar": {
              "outlinewidth": 0,
              "ticks": ""
             }
            },
            "marker": {
             "colorbar": {
              "outlinewidth": 0,
              "ticks": ""
             }
            },
            "type": "scatter3d"
           }
          ],
          "scattercarpet": [
           {
            "marker": {
             "colorbar": {
              "outlinewidth": 0,
              "ticks": ""
             }
            },
            "type": "scattercarpet"
           }
          ],
          "scattergeo": [
           {
            "marker": {
             "colorbar": {
              "outlinewidth": 0,
              "ticks": ""
             }
            },
            "type": "scattergeo"
           }
          ],
          "scattergl": [
           {
            "marker": {
             "colorbar": {
              "outlinewidth": 0,
              "ticks": ""
             }
            },
            "type": "scattergl"
           }
          ],
          "scattermapbox": [
           {
            "marker": {
             "colorbar": {
              "outlinewidth": 0,
              "ticks": ""
             }
            },
            "type": "scattermapbox"
           }
          ],
          "scatterpolar": [
           {
            "marker": {
             "colorbar": {
              "outlinewidth": 0,
              "ticks": ""
             }
            },
            "type": "scatterpolar"
           }
          ],
          "scatterpolargl": [
           {
            "marker": {
             "colorbar": {
              "outlinewidth": 0,
              "ticks": ""
             }
            },
            "type": "scatterpolargl"
           }
          ],
          "scatterternary": [
           {
            "marker": {
             "colorbar": {
              "outlinewidth": 0,
              "ticks": ""
             }
            },
            "type": "scatterternary"
           }
          ],
          "surface": [
           {
            "colorbar": {
             "outlinewidth": 0,
             "ticks": ""
            },
            "colorscale": [
             [
              0,
              "#0d0887"
             ],
             [
              0.1111111111111111,
              "#46039f"
             ],
             [
              0.2222222222222222,
              "#7201a8"
             ],
             [
              0.3333333333333333,
              "#9c179e"
             ],
             [
              0.4444444444444444,
              "#bd3786"
             ],
             [
              0.5555555555555556,
              "#d8576b"
             ],
             [
              0.6666666666666666,
              "#ed7953"
             ],
             [
              0.7777777777777778,
              "#fb9f3a"
             ],
             [
              0.8888888888888888,
              "#fdca26"
             ],
             [
              1,
              "#f0f921"
             ]
            ],
            "type": "surface"
           }
          ],
          "table": [
           {
            "cells": {
             "fill": {
              "color": "#EBF0F8"
             },
             "line": {
              "color": "white"
             }
            },
            "header": {
             "fill": {
              "color": "#C8D4E3"
             },
             "line": {
              "color": "white"
             }
            },
            "type": "table"
           }
          ]
         },
         "layout": {
          "annotationdefaults": {
           "arrowcolor": "#2a3f5f",
           "arrowhead": 0,
           "arrowwidth": 1
          },
          "autotypenumbers": "strict",
          "coloraxis": {
           "colorbar": {
            "outlinewidth": 0,
            "ticks": ""
           }
          },
          "colorscale": {
           "diverging": [
            [
             0,
             "#8e0152"
            ],
            [
             0.1,
             "#c51b7d"
            ],
            [
             0.2,
             "#de77ae"
            ],
            [
             0.3,
             "#f1b6da"
            ],
            [
             0.4,
             "#fde0ef"
            ],
            [
             0.5,
             "#f7f7f7"
            ],
            [
             0.6,
             "#e6f5d0"
            ],
            [
             0.7,
             "#b8e186"
            ],
            [
             0.8,
             "#7fbc41"
            ],
            [
             0.9,
             "#4d9221"
            ],
            [
             1,
             "#276419"
            ]
           ],
           "sequential": [
            [
             0,
             "#0d0887"
            ],
            [
             0.1111111111111111,
             "#46039f"
            ],
            [
             0.2222222222222222,
             "#7201a8"
            ],
            [
             0.3333333333333333,
             "#9c179e"
            ],
            [
             0.4444444444444444,
             "#bd3786"
            ],
            [
             0.5555555555555556,
             "#d8576b"
            ],
            [
             0.6666666666666666,
             "#ed7953"
            ],
            [
             0.7777777777777778,
             "#fb9f3a"
            ],
            [
             0.8888888888888888,
             "#fdca26"
            ],
            [
             1,
             "#f0f921"
            ]
           ],
           "sequentialminus": [
            [
             0,
             "#0d0887"
            ],
            [
             0.1111111111111111,
             "#46039f"
            ],
            [
             0.2222222222222222,
             "#7201a8"
            ],
            [
             0.3333333333333333,
             "#9c179e"
            ],
            [
             0.4444444444444444,
             "#bd3786"
            ],
            [
             0.5555555555555556,
             "#d8576b"
            ],
            [
             0.6666666666666666,
             "#ed7953"
            ],
            [
             0.7777777777777778,
             "#fb9f3a"
            ],
            [
             0.8888888888888888,
             "#fdca26"
            ],
            [
             1,
             "#f0f921"
            ]
           ]
          },
          "colorway": [
           "#636efa",
           "#EF553B",
           "#00cc96",
           "#ab63fa",
           "#FFA15A",
           "#19d3f3",
           "#FF6692",
           "#B6E880",
           "#FF97FF",
           "#FECB52"
          ],
          "font": {
           "color": "#2a3f5f"
          },
          "geo": {
           "bgcolor": "white",
           "lakecolor": "white",
           "landcolor": "#E5ECF6",
           "showlakes": true,
           "showland": true,
           "subunitcolor": "white"
          },
          "hoverlabel": {
           "align": "left"
          },
          "hovermode": "closest",
          "mapbox": {
           "style": "light"
          },
          "paper_bgcolor": "white",
          "plot_bgcolor": "#E5ECF6",
          "polar": {
           "angularaxis": {
            "gridcolor": "white",
            "linecolor": "white",
            "ticks": ""
           },
           "bgcolor": "#E5ECF6",
           "radialaxis": {
            "gridcolor": "white",
            "linecolor": "white",
            "ticks": ""
           }
          },
          "scene": {
           "xaxis": {
            "backgroundcolor": "#E5ECF6",
            "gridcolor": "white",
            "gridwidth": 2,
            "linecolor": "white",
            "showbackground": true,
            "ticks": "",
            "zerolinecolor": "white"
           },
           "yaxis": {
            "backgroundcolor": "#E5ECF6",
            "gridcolor": "white",
            "gridwidth": 2,
            "linecolor": "white",
            "showbackground": true,
            "ticks": "",
            "zerolinecolor": "white"
           },
           "zaxis": {
            "backgroundcolor": "#E5ECF6",
            "gridcolor": "white",
            "gridwidth": 2,
            "linecolor": "white",
            "showbackground": true,
            "ticks": "",
            "zerolinecolor": "white"
           }
          },
          "shapedefaults": {
           "line": {
            "color": "#2a3f5f"
           }
          },
          "ternary": {
           "aaxis": {
            "gridcolor": "white",
            "linecolor": "white",
            "ticks": ""
           },
           "baxis": {
            "gridcolor": "white",
            "linecolor": "white",
            "ticks": ""
           },
           "bgcolor": "#E5ECF6",
           "caxis": {
            "gridcolor": "white",
            "linecolor": "white",
            "ticks": ""
           }
          },
          "title": {
           "x": 0.05
          },
          "xaxis": {
           "automargin": true,
           "gridcolor": "white",
           "linecolor": "white",
           "ticks": "",
           "title": {
            "standoff": 15
           },
           "zerolinecolor": "white",
           "zerolinewidth": 2
          },
          "yaxis": {
           "automargin": true,
           "gridcolor": "white",
           "linecolor": "white",
           "ticks": "",
           "title": {
            "standoff": 15
           },
           "zerolinecolor": "white",
           "zerolinewidth": 2
          }
         }
        },
        "title": {
         "text": "Topic visualization"
        },
        "xaxis": {
         "anchor": "y",
         "domain": [
          0,
          1
         ],
         "title": {
          "text": "x"
         }
        },
        "yaxis": {
         "anchor": "x",
         "domain": [
          0,
          1
         ],
         "title": {
          "text": "y"
         }
        }
       }
      }
     },
     "metadata": {},
     "output_type": "display_data"
    }
   ],
   "source": [
    "from umap import UMAP\n",
    "import pandas as pd\n",
    "import plotly.express as px\n",
    "\n",
    "# Get your topic-term embeddings\n",
    "embeddings = topic_model.c_tf_idf_.toarray()\n",
    "\n",
    "# 1) Build a UMAP reducer with random init\n",
    "umap_model = UMAP(\n",
    "    n_neighbors=15,\n",
    "    n_components=2,\n",
    "    metric=\"cosine\",\n",
    "    init=\"random\",\n",
    "    random_state=42\n",
    ")\n",
    "reduced_embeddings = umap_model.fit_transform(embeddings)\n",
    "\n",
    "# 2) Build a DataFrame and scatter\n",
    "df = pd.DataFrame(reduced_embeddings, columns=[\"x\", \"y\"])\n",
    "df[\"topic\"] = topic_model.get_topic_info()[\"Topic\"].values\n",
    "\n",
    "fig = px.scatter(\n",
    "    df,\n",
    "    x=\"x\",\n",
    "    y=\"y\",\n",
    "    text=\"topic\",\n",
    "    title=\"Topic visualization\"\n",
    ")\n",
    "fig.show()\n"
   ]
  },
  {
   "cell_type": "code",
   "execution_count": 42,
   "id": "e1aa3690",
   "metadata": {},
   "outputs": [
    {
     "name": "stderr",
     "output_type": "stream",
     "text": [
      "No sentence-transformers model found with name nlpaueb/legal-bert-base-uncased. Creating a new one with mean pooling.\n"
     ]
    }
   ],
   "source": [
    "from sentence_transformers import SentenceTransformer\n",
    "\n",
    "embedding_model = SentenceTransformer(\"nlpaueb/legal-bert-base-uncased\")\n",
    "\n"
   ]
  },
  {
   "cell_type": "code",
   "execution_count": 43,
   "id": "94427fcd",
   "metadata": {},
   "outputs": [
    {
     "name": "stdout",
     "output_type": "stream",
     "text": [
      "   Topic  Count                                    Name  \\\n",
      "0     -1     32  -1_collector_mask shall_possession_sec   \n",
      "1      0     36         0_mask mask_taxation_case_trade   \n",
      "2      1     10                     1_sections_14_15_25   \n",
      "\n",
      "                                      Representation  \\\n",
      "0  [collector, mask shall, possession, sec, goods...   \n",
      "1  [mask mask, taxation, case, trade, aliens, leg...   \n",
      "2  [sections, 14, 15, 25, certificate mask, appli...   \n",
      "\n",
      "                                 Representative_Docs  \n",
      "0  [Section 9. “In case any employer of [MASK] fa...  \n",
      "1  [Aliens may be taxed, may be subjected to the ...  \n",
      "2  [Sections 17 and 18 prevent the exhumation of ...  \n"
     ]
    }
   ],
   "source": [
    "from bertopic import BERTopic\n",
    "from bertopic.vectorizers import ClassTfidfTransformer\n",
    "\n",
    "topic_model = BERTopic(embedding_model=embedding_model,\n",
    "                       vectorizer_model= vectorizer,\n",
    "                       ctfidf_model= ctfidf_model)\n",
    "\n",
    "topics, probs = topic_model.fit_transform(masked_paragraphs)\n",
    "\n",
    "df_topic = topic_model.get_topic_info()\n",
    "print(df_topic)"
   ]
  },
  {
   "cell_type": "code",
   "execution_count": 44,
   "id": "17cb8767",
   "metadata": {},
   "outputs": [
    {
     "name": "stdout",
     "output_type": "stream",
     "text": [
      "['Section 9. “In case any employer of [MASK] fails to deliver to the “collector the list mentioned in the preceding section, when required “so to do, or knowingly states anything falsely therein, such “employer shall, on complaint of the collector and upon conviction “before a Justice of the Peace having jurisdiction within the “district wherein such employer carries on his business, forfeit “and pay a fine not exceeding one hundred dollars for every [MASK] “in his employ, to be recovered by distress of the goods and chattels “of such employer failing to pay the same, or in lieu thereof shall be “liable to imprisonment for a period not less than one month and not “exceeding two calendar months.”', 'During the argument on the case before me, the Attorney-General claims that this was direct taxation, and a direct tax within the Province, to raise revenue for [MASK] purposes, and, therefore *intra vires*; but the question is not one of name but of fact. Does it interfere with trade or commerce? Can it be legally imposed on foreigners as foreigners, for even a legal tax in other respects becomes illegal when it goes beyond its proper limits, and interferes with powers exclusively given to the Dominion for the benefit of all?', 'Section 10 gives the collector power to “levy the amount of the license from any [MASK] not being in lawful possession of a license, “with costs, by distress of his goods and chattels, or of any goods and “chattels which may be in the possession of the delinquent, or which “may be upon or in any premises (whether the goods of the delin- “quent or not) for the time being in the possession or occupation of “such delinquent [MASK],” and declares that “for the purposes of this “section premises shall be deemed to be in the possession or occupa- “tion of any [MASK] when it can be shown to the satisfaction of the “tribunal having cognizance of the matter (a) that such [MASK] “habitually frequents such premises with the assent of the owner ; “(b) that he is the owner or one of the owners of the premises, or has “control, either alone or jointly, with another or others, of such pre- “mises or some part thereof; (c) that he has passed the night or slept “upon such premises at any time within a week of the levy, it shall “be sufficient authority for the collector to levy as aforesaid on the “non-production of the license. Proof of the lawful possession of “such receipt shall lie on the person whose goods are restrained.”']\n",
      "['Aliens may be taxed, may be subjected to the same rules and municipal and other by-laws as other inhabitants of [MASK], and such discrimination in so doing as are allowed in local legislatures between and among different persons and occupations among the whites are quite as applicable to them. These are the only discriminations which the law allows, and these are the permissible discriminations spoken of by [MASK] in the portions cited before the Court. During the argument the case of *[MASK] [MASK] v. [MASK][MASK][MASK]*, 20 [MASK], 534, was quoted as bearing on this case. There, an [MASK] of the [MASK] [MASK] passed an [MASK] imposing a capitation tax “on ‘each person, male and female, of the [MASK] race of the age of 18 years and upwards residing in the State,’ accompanying a license almost a *fac simile* of our own, and enforced in much the same way as in the case before us, that, after long and elaborate argument in which the Attorney-General appeared for the State, was determined to be unconstitutional, as it was an interference with trade and commerce, which could be regulated alone by the general government. It was in vain advanced that at least the State had concurrent jurisdiction in matters of taxation relative to its own internal affairs, of which this was one (the same proposition as was advanced by the Attorney-General in this case) in which it had a supreme and autonomous right to legislate. And the grounds of this decision were that the federal constitution had vested in the general government the power to regulate commerce in all its branches (as with us in the [MASK]); and this power extends to every species of commercial intercourse, and may be exercised upon persons as well as property (Mr. [MASK], whose arguments have been reproduced by the Attorney-General before me in this case, dissenting).', 'The Attorney-General in reply—The ten dollar impost was a tax whether designated by the name of a licence or otherwise. The distinction between direct and indirect taxation was well drawn in the case of [MASK] v. [MASK] before the [MASK], in which Mr. Justice [MASK] mentioned the [MASK] had decided the [MASK] legislatures had exclusive power to impose direct taxation, and that it did not follow they might not have power even to impose indirect taxation. The tax did not sanction the carrying on of any business out of the product of which the consumer would, indirectly, contribute towards payment of the tax. Then as to inequality, the one dictum of [MASK] was but an expression of opinion that political wisdom required uniform taxation; for the same author cited numerous authorities, including that of the [MASK] of the [MASK] establishing the right to discriminate unless fettered by the express language of the [MASK]. [MASK] on Parliamentary Government in the [MASK], supported the view that the [MASK] within their jurisdiction were as omnipotent as the [MASK] [MASK]. The [MASK] cases (see [MASK] v. [MASK], 1 [MASK]. 232) decided a differential tax might be imposed on foreign miners; and though a later case ([MASK] [MASK] v. [MASK], 20 [MASK]. 334) had decided a special tax could not be imposed on [MASK], a most celebrated Judge, Mr. [MASK] (since elevated to the [MASK] bench), dissented, and had pointed out that according to federal decisions the State might impose special taxation on alien residents, provided the impost was not levied against foreigners landing in the country. The tax was not to exclude the [MASK] — another statute with that object had been disallowed. It was imposed to meet the extraordinary expenses incident to enforcing the police and sanitary regulations prescribed by the [MASK]. The question of treaties had nothing to do with the subject, for to responsible governments the [MASK] Authorities conceded the right to pass laws within their jurisdiction. So the [MASK] Parliament to-day was passing a restriction [MASK]. Opponents to the [MASK] might as well contend the exclusion of the [MASK] from the franchise, and barring them from acquiring lands, was illegal. As to autonomy, neither the [MASK]onies nor the [MASK] were absolutely possessed, but the [MASK] equally with [MASK] and the [MASK] were autonomous within the bounds of their respective jurisdictions.', \"The Attorney-General in support of the conviction said there were five points raised on the rule for the certiorari against the validity of the $10 tax.—1st. That it interfered with the [MASK] powers under the [MASK]. [MASK]. [MASK][MASK], aliens, and naturalization; 2nd. Trade and commerce; 3rd. [MASK] obligations; 4th. That the tax was unequal, and 5th. It was indirect taxation. As to the first point aliens were as much subject to taxation as citizens. Protection and taxation were reciprocal ([MASK] on Taxation, p. 14). The law did not deal with the conditions under which aliens might acquire rights or become subjects of Her Majesty. Secondly—Trade and commerce were not interfered with. The object of the [MASK] was two-fold, the police and sanitary regulation of a numerous foreign element, and the raising of revenue necessary to meet that regulation ([MASK] v. The Queen, [MASK]. R. 9, App. Cas. 117). If incidentally trade and commerce were touched, the provincial power of direct taxation was not impaired ([MASK] v. [MASK], [MASK]. R. 7 App. Cas. 108). The preamble and scope of the [MASK] showed its objects were purely matters of the police and raising of revenue to meet the necessary expenditure, and within “Direct Taxation.” Thirdly—The treaty obligations of [MASK] did not affect the question. The last communication from the Secretary of State for the [MASK] to the Governor-General, dated 16th May, 1884, stated, in effect, that the [MASK] with responsible government could pass restrictive laws irrespective of treaties ([MASK]. [MASK]al [MASK], 1885, p. 464), and instanced the legislation of the [MASK] [MASK] and of the [MASK]. Fourthly—As to une[MASK]l taxation, the power of the [MASK] within its jurisdiction was supreme and as plena[MASK] as that of the [MASK] ([MASK]. v. [MASK]urah, [MASK].[MASK]. 3 [MASK]pp. [MASK]as. 904; [MASK]. v. [MASK], [MASK]. [MASK]. 9, [MASK]pp. [MASK]as. 117; and [MASK] v. [MASK]dle [MASK]., [MASK].[MASK]. 10 [MASK]pp. [MASK]as., p. 290; and *In re [MASK]*, 19 [MASK]r. 366); *[MASK]* on Taxation, pp. 3, 82, 126-128, and *Cooley's Constitutional Limitations* (5th Ed.) 626-7; *Sedgwick* on Stat. (2nd Ed.), p. 501; *Potter's Dwarris* 418, 421, 425; *Dow v. Black*, L. R. 6 P. C. 272, were cited as showing the power of taxation, unless abridged by the written constitution, might be exercised so as to discriminate. The Supreme Court of Canada, in the case of *Jonas v. Gilbert*, 5 S. C. R., 356, had practically decided the same point. Fifthly—Whether called a licence or not, the imposition was a direct poll tax, and as such came within the power of the Province to raise money by direct taxation for Provincial purposes. *Cooley* on Taxation, 386; *Wharton's Law Lexicon*; *Reed v. Mousseau*, 8 S. C. R., 408. It was not a license to carry on business, or a method whereby indirectly money was raised from the consumer, as, for instance, customs or stamp laws.\"]\n",
      "['Sections 17 and 18 prevent the exhumation of dead bodies without permission, and prohibit the use of opium except for medical purposes.', 'Section 22 enacts that the tribunal applied to may decide \"on its own view and judgment\" whether any person is a [MASK] or 14 years old.', \"Sec. 14 Fee for free miner’s certificate to a [MASK] to be $15, instead of the white man's $5.\"]\n"
     ]
    }
   ],
   "source": [
    "for para in df_topic['Representative_Docs']:\n",
    "    print(para)"
   ]
  },
  {
   "cell_type": "code",
   "execution_count": 45,
   "id": "666a02a2",
   "metadata": {},
   "outputs": [
    {
     "data": {
      "text/plain": [
       "['collector mask shall possession sec goods',\n",
       " 'mask mask taxation case trade aliens',\n",
       " 'sections 14 15 25 certificate mask']"
      ]
     },
     "execution_count": 45,
     "metadata": {},
     "output_type": "execute_result"
    }
   ],
   "source": [
    "topic_labels = topic_model.generate_topic_labels(\n",
    "    nr_words=5,       \n",
    "    separator=\" \",     \n",
    "    topic_prefix=False \n",
    ")\n",
    "\n",
    "topic_labels"
   ]
  },
  {
   "cell_type": "code",
   "execution_count": 46,
   "id": "584fa004",
   "metadata": {},
   "outputs": [
    {
     "data": {
      "application/vnd.plotly.v1+json": {
       "config": {
        "plotlyServerURL": "https://plot.ly"
       },
       "data": [
        {
         "hovertemplate": "x=%{x}<br>y=%{y}<br>topic=%{text}<extra></extra>",
         "legendgroup": "",
         "marker": {
          "color": "#636efa",
          "symbol": "circle"
         },
         "mode": "markers+text",
         "name": "",
         "orientation": "v",
         "showlegend": false,
         "text": [
          -1,
          0,
          1
         ],
         "type": "scatter",
         "x": [
          46.00291,
          45.399647,
          44.691036
         ],
         "xaxis": "x",
         "y": [
          -44.6011,
          -45.41154,
          -44.7853
         ],
         "yaxis": "y"
        }
       ],
       "layout": {
        "legend": {
         "tracegroupgap": 0
        },
        "template": {
         "data": {
          "bar": [
           {
            "error_x": {
             "color": "#2a3f5f"
            },
            "error_y": {
             "color": "#2a3f5f"
            },
            "marker": {
             "line": {
              "color": "#E5ECF6",
              "width": 0.5
             },
             "pattern": {
              "fillmode": "overlay",
              "size": 10,
              "solidity": 0.2
             }
            },
            "type": "bar"
           }
          ],
          "barpolar": [
           {
            "marker": {
             "line": {
              "color": "#E5ECF6",
              "width": 0.5
             },
             "pattern": {
              "fillmode": "overlay",
              "size": 10,
              "solidity": 0.2
             }
            },
            "type": "barpolar"
           }
          ],
          "carpet": [
           {
            "aaxis": {
             "endlinecolor": "#2a3f5f",
             "gridcolor": "white",
             "linecolor": "white",
             "minorgridcolor": "white",
             "startlinecolor": "#2a3f5f"
            },
            "baxis": {
             "endlinecolor": "#2a3f5f",
             "gridcolor": "white",
             "linecolor": "white",
             "minorgridcolor": "white",
             "startlinecolor": "#2a3f5f"
            },
            "type": "carpet"
           }
          ],
          "choropleth": [
           {
            "colorbar": {
             "outlinewidth": 0,
             "ticks": ""
            },
            "type": "choropleth"
           }
          ],
          "contour": [
           {
            "colorbar": {
             "outlinewidth": 0,
             "ticks": ""
            },
            "colorscale": [
             [
              0,
              "#0d0887"
             ],
             [
              0.1111111111111111,
              "#46039f"
             ],
             [
              0.2222222222222222,
              "#7201a8"
             ],
             [
              0.3333333333333333,
              "#9c179e"
             ],
             [
              0.4444444444444444,
              "#bd3786"
             ],
             [
              0.5555555555555556,
              "#d8576b"
             ],
             [
              0.6666666666666666,
              "#ed7953"
             ],
             [
              0.7777777777777778,
              "#fb9f3a"
             ],
             [
              0.8888888888888888,
              "#fdca26"
             ],
             [
              1,
              "#f0f921"
             ]
            ],
            "type": "contour"
           }
          ],
          "contourcarpet": [
           {
            "colorbar": {
             "outlinewidth": 0,
             "ticks": ""
            },
            "type": "contourcarpet"
           }
          ],
          "heatmap": [
           {
            "colorbar": {
             "outlinewidth": 0,
             "ticks": ""
            },
            "colorscale": [
             [
              0,
              "#0d0887"
             ],
             [
              0.1111111111111111,
              "#46039f"
             ],
             [
              0.2222222222222222,
              "#7201a8"
             ],
             [
              0.3333333333333333,
              "#9c179e"
             ],
             [
              0.4444444444444444,
              "#bd3786"
             ],
             [
              0.5555555555555556,
              "#d8576b"
             ],
             [
              0.6666666666666666,
              "#ed7953"
             ],
             [
              0.7777777777777778,
              "#fb9f3a"
             ],
             [
              0.8888888888888888,
              "#fdca26"
             ],
             [
              1,
              "#f0f921"
             ]
            ],
            "type": "heatmap"
           }
          ],
          "heatmapgl": [
           {
            "colorbar": {
             "outlinewidth": 0,
             "ticks": ""
            },
            "colorscale": [
             [
              0,
              "#0d0887"
             ],
             [
              0.1111111111111111,
              "#46039f"
             ],
             [
              0.2222222222222222,
              "#7201a8"
             ],
             [
              0.3333333333333333,
              "#9c179e"
             ],
             [
              0.4444444444444444,
              "#bd3786"
             ],
             [
              0.5555555555555556,
              "#d8576b"
             ],
             [
              0.6666666666666666,
              "#ed7953"
             ],
             [
              0.7777777777777778,
              "#fb9f3a"
             ],
             [
              0.8888888888888888,
              "#fdca26"
             ],
             [
              1,
              "#f0f921"
             ]
            ],
            "type": "heatmapgl"
           }
          ],
          "histogram": [
           {
            "marker": {
             "pattern": {
              "fillmode": "overlay",
              "size": 10,
              "solidity": 0.2
             }
            },
            "type": "histogram"
           }
          ],
          "histogram2d": [
           {
            "colorbar": {
             "outlinewidth": 0,
             "ticks": ""
            },
            "colorscale": [
             [
              0,
              "#0d0887"
             ],
             [
              0.1111111111111111,
              "#46039f"
             ],
             [
              0.2222222222222222,
              "#7201a8"
             ],
             [
              0.3333333333333333,
              "#9c179e"
             ],
             [
              0.4444444444444444,
              "#bd3786"
             ],
             [
              0.5555555555555556,
              "#d8576b"
             ],
             [
              0.6666666666666666,
              "#ed7953"
             ],
             [
              0.7777777777777778,
              "#fb9f3a"
             ],
             [
              0.8888888888888888,
              "#fdca26"
             ],
             [
              1,
              "#f0f921"
             ]
            ],
            "type": "histogram2d"
           }
          ],
          "histogram2dcontour": [
           {
            "colorbar": {
             "outlinewidth": 0,
             "ticks": ""
            },
            "colorscale": [
             [
              0,
              "#0d0887"
             ],
             [
              0.1111111111111111,
              "#46039f"
             ],
             [
              0.2222222222222222,
              "#7201a8"
             ],
             [
              0.3333333333333333,
              "#9c179e"
             ],
             [
              0.4444444444444444,
              "#bd3786"
             ],
             [
              0.5555555555555556,
              "#d8576b"
             ],
             [
              0.6666666666666666,
              "#ed7953"
             ],
             [
              0.7777777777777778,
              "#fb9f3a"
             ],
             [
              0.8888888888888888,
              "#fdca26"
             ],
             [
              1,
              "#f0f921"
             ]
            ],
            "type": "histogram2dcontour"
           }
          ],
          "mesh3d": [
           {
            "colorbar": {
             "outlinewidth": 0,
             "ticks": ""
            },
            "type": "mesh3d"
           }
          ],
          "parcoords": [
           {
            "line": {
             "colorbar": {
              "outlinewidth": 0,
              "ticks": ""
             }
            },
            "type": "parcoords"
           }
          ],
          "pie": [
           {
            "automargin": true,
            "type": "pie"
           }
          ],
          "scatter": [
           {
            "fillpattern": {
             "fillmode": "overlay",
             "size": 10,
             "solidity": 0.2
            },
            "type": "scatter"
           }
          ],
          "scatter3d": [
           {
            "line": {
             "colorbar": {
              "outlinewidth": 0,
              "ticks": ""
             }
            },
            "marker": {
             "colorbar": {
              "outlinewidth": 0,
              "ticks": ""
             }
            },
            "type": "scatter3d"
           }
          ],
          "scattercarpet": [
           {
            "marker": {
             "colorbar": {
              "outlinewidth": 0,
              "ticks": ""
             }
            },
            "type": "scattercarpet"
           }
          ],
          "scattergeo": [
           {
            "marker": {
             "colorbar": {
              "outlinewidth": 0,
              "ticks": ""
             }
            },
            "type": "scattergeo"
           }
          ],
          "scattergl": [
           {
            "marker": {
             "colorbar": {
              "outlinewidth": 0,
              "ticks": ""
             }
            },
            "type": "scattergl"
           }
          ],
          "scattermapbox": [
           {
            "marker": {
             "colorbar": {
              "outlinewidth": 0,
              "ticks": ""
             }
            },
            "type": "scattermapbox"
           }
          ],
          "scatterpolar": [
           {
            "marker": {
             "colorbar": {
              "outlinewidth": 0,
              "ticks": ""
             }
            },
            "type": "scatterpolar"
           }
          ],
          "scatterpolargl": [
           {
            "marker": {
             "colorbar": {
              "outlinewidth": 0,
              "ticks": ""
             }
            },
            "type": "scatterpolargl"
           }
          ],
          "scatterternary": [
           {
            "marker": {
             "colorbar": {
              "outlinewidth": 0,
              "ticks": ""
             }
            },
            "type": "scatterternary"
           }
          ],
          "surface": [
           {
            "colorbar": {
             "outlinewidth": 0,
             "ticks": ""
            },
            "colorscale": [
             [
              0,
              "#0d0887"
             ],
             [
              0.1111111111111111,
              "#46039f"
             ],
             [
              0.2222222222222222,
              "#7201a8"
             ],
             [
              0.3333333333333333,
              "#9c179e"
             ],
             [
              0.4444444444444444,
              "#bd3786"
             ],
             [
              0.5555555555555556,
              "#d8576b"
             ],
             [
              0.6666666666666666,
              "#ed7953"
             ],
             [
              0.7777777777777778,
              "#fb9f3a"
             ],
             [
              0.8888888888888888,
              "#fdca26"
             ],
             [
              1,
              "#f0f921"
             ]
            ],
            "type": "surface"
           }
          ],
          "table": [
           {
            "cells": {
             "fill": {
              "color": "#EBF0F8"
             },
             "line": {
              "color": "white"
             }
            },
            "header": {
             "fill": {
              "color": "#C8D4E3"
             },
             "line": {
              "color": "white"
             }
            },
            "type": "table"
           }
          ]
         },
         "layout": {
          "annotationdefaults": {
           "arrowcolor": "#2a3f5f",
           "arrowhead": 0,
           "arrowwidth": 1
          },
          "autotypenumbers": "strict",
          "coloraxis": {
           "colorbar": {
            "outlinewidth": 0,
            "ticks": ""
           }
          },
          "colorscale": {
           "diverging": [
            [
             0,
             "#8e0152"
            ],
            [
             0.1,
             "#c51b7d"
            ],
            [
             0.2,
             "#de77ae"
            ],
            [
             0.3,
             "#f1b6da"
            ],
            [
             0.4,
             "#fde0ef"
            ],
            [
             0.5,
             "#f7f7f7"
            ],
            [
             0.6,
             "#e6f5d0"
            ],
            [
             0.7,
             "#b8e186"
            ],
            [
             0.8,
             "#7fbc41"
            ],
            [
             0.9,
             "#4d9221"
            ],
            [
             1,
             "#276419"
            ]
           ],
           "sequential": [
            [
             0,
             "#0d0887"
            ],
            [
             0.1111111111111111,
             "#46039f"
            ],
            [
             0.2222222222222222,
             "#7201a8"
            ],
            [
             0.3333333333333333,
             "#9c179e"
            ],
            [
             0.4444444444444444,
             "#bd3786"
            ],
            [
             0.5555555555555556,
             "#d8576b"
            ],
            [
             0.6666666666666666,
             "#ed7953"
            ],
            [
             0.7777777777777778,
             "#fb9f3a"
            ],
            [
             0.8888888888888888,
             "#fdca26"
            ],
            [
             1,
             "#f0f921"
            ]
           ],
           "sequentialminus": [
            [
             0,
             "#0d0887"
            ],
            [
             0.1111111111111111,
             "#46039f"
            ],
            [
             0.2222222222222222,
             "#7201a8"
            ],
            [
             0.3333333333333333,
             "#9c179e"
            ],
            [
             0.4444444444444444,
             "#bd3786"
            ],
            [
             0.5555555555555556,
             "#d8576b"
            ],
            [
             0.6666666666666666,
             "#ed7953"
            ],
            [
             0.7777777777777778,
             "#fb9f3a"
            ],
            [
             0.8888888888888888,
             "#fdca26"
            ],
            [
             1,
             "#f0f921"
            ]
           ]
          },
          "colorway": [
           "#636efa",
           "#EF553B",
           "#00cc96",
           "#ab63fa",
           "#FFA15A",
           "#19d3f3",
           "#FF6692",
           "#B6E880",
           "#FF97FF",
           "#FECB52"
          ],
          "font": {
           "color": "#2a3f5f"
          },
          "geo": {
           "bgcolor": "white",
           "lakecolor": "white",
           "landcolor": "#E5ECF6",
           "showlakes": true,
           "showland": true,
           "subunitcolor": "white"
          },
          "hoverlabel": {
           "align": "left"
          },
          "hovermode": "closest",
          "mapbox": {
           "style": "light"
          },
          "paper_bgcolor": "white",
          "plot_bgcolor": "#E5ECF6",
          "polar": {
           "angularaxis": {
            "gridcolor": "white",
            "linecolor": "white",
            "ticks": ""
           },
           "bgcolor": "#E5ECF6",
           "radialaxis": {
            "gridcolor": "white",
            "linecolor": "white",
            "ticks": ""
           }
          },
          "scene": {
           "xaxis": {
            "backgroundcolor": "#E5ECF6",
            "gridcolor": "white",
            "gridwidth": 2,
            "linecolor": "white",
            "showbackground": true,
            "ticks": "",
            "zerolinecolor": "white"
           },
           "yaxis": {
            "backgroundcolor": "#E5ECF6",
            "gridcolor": "white",
            "gridwidth": 2,
            "linecolor": "white",
            "showbackground": true,
            "ticks": "",
            "zerolinecolor": "white"
           },
           "zaxis": {
            "backgroundcolor": "#E5ECF6",
            "gridcolor": "white",
            "gridwidth": 2,
            "linecolor": "white",
            "showbackground": true,
            "ticks": "",
            "zerolinecolor": "white"
           }
          },
          "shapedefaults": {
           "line": {
            "color": "#2a3f5f"
           }
          },
          "ternary": {
           "aaxis": {
            "gridcolor": "white",
            "linecolor": "white",
            "ticks": ""
           },
           "baxis": {
            "gridcolor": "white",
            "linecolor": "white",
            "ticks": ""
           },
           "bgcolor": "#E5ECF6",
           "caxis": {
            "gridcolor": "white",
            "linecolor": "white",
            "ticks": ""
           }
          },
          "title": {
           "x": 0.05
          },
          "xaxis": {
           "automargin": true,
           "gridcolor": "white",
           "linecolor": "white",
           "ticks": "",
           "title": {
            "standoff": 15
           },
           "zerolinecolor": "white",
           "zerolinewidth": 2
          },
          "yaxis": {
           "automargin": true,
           "gridcolor": "white",
           "linecolor": "white",
           "ticks": "",
           "title": {
            "standoff": 15
           },
           "zerolinecolor": "white",
           "zerolinewidth": 2
          }
         }
        },
        "title": {
         "text": "Topic visualization"
        },
        "xaxis": {
         "anchor": "y",
         "domain": [
          0,
          1
         ],
         "title": {
          "text": "x"
         }
        },
        "yaxis": {
         "anchor": "x",
         "domain": [
          0,
          1
         ],
         "title": {
          "text": "y"
         }
        }
       }
      }
     },
     "metadata": {},
     "output_type": "display_data"
    }
   ],
   "source": [
    "from umap import UMAP\n",
    "import pandas as pd\n",
    "import plotly.express as px\n",
    "\n",
    "# Get your topic-term embeddings\n",
    "embeddings = topic_model.c_tf_idf_.toarray()\n",
    "\n",
    "# 1) Build a UMAP reducer with random init\n",
    "umap_model = UMAP(\n",
    "    n_neighbors=15,\n",
    "    n_components=2,\n",
    "    metric=\"cosine\",\n",
    "    init=\"random\",\n",
    "    random_state=42\n",
    ")\n",
    "reduced_embeddings = umap_model.fit_transform(embeddings)\n",
    "\n",
    "# 2) Build a DataFrame and scatter\n",
    "df = pd.DataFrame(reduced_embeddings, columns=[\"x\", \"y\"])\n",
    "df[\"topic\"] = topic_model.get_topic_info()[\"Topic\"].values\n",
    "\n",
    "fig = px.scatter(\n",
    "    df,\n",
    "    x=\"x\",\n",
    "    y=\"y\",\n",
    "    text=\"topic\",\n",
    "    title=\"Topic visualization\"\n",
    ")\n",
    "fig.show()"
   ]
  },
  {
   "cell_type": "code",
   "execution_count": null,
   "id": "183b4627",
   "metadata": {},
   "outputs": [],
   "source": []
  }
 ],
 "metadata": {
  "kernelspec": {
   "display_name": "Python 3",
   "language": "python",
   "name": "python3"
  },
  "language_info": {
   "codemirror_mode": {
    "name": "ipython",
    "version": 3
   },
   "file_extension": ".py",
   "mimetype": "text/x-python",
   "name": "python",
   "nbconvert_exporter": "python",
   "pygments_lexer": "ipython3",
   "version": "3.12.5"
  }
 },
 "nbformat": 4,
 "nbformat_minor": 5
}
