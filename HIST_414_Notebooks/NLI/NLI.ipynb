{
 "cells": [
  {
   "cell_type": "markdown",
   "id": "293b6f23",
   "metadata": {},
   "source": [
    "## Text Embeddings for Regina V Wing Chong (1885)"
   ]
  },
  {
   "cell_type": "code",
   "execution_count": 1,
   "id": "ba4f0aa1",
   "metadata": {},
   "outputs": [
    {
     "name": "stderr",
     "output_type": "stream",
     "text": [
      "c:\\Users\\Kaiyan Zhang\\AppData\\Local\\Programs\\Python\\Python312\\Lib\\site-packages\\nltk\\metrics\\association.py:26: UserWarning: A NumPy version >=1.22.4 and <2.3.0 is required for this version of SciPy (detected version 2.3.1)\n",
      "  from scipy.stats import fisher_exact\n"
     ]
    }
   ],
   "source": [
    "# Data Wrangling\n",
    "import os\n",
    "import numpy as np\n",
    "import pandas\n",
    "from nltk.tokenize import word_tokenize"
   ]
  },
  {
   "cell_type": "code",
   "execution_count": 2,
   "id": "808d6815",
   "metadata": {},
   "outputs": [
    {
     "name": "stdout",
     "output_type": "stream",
     "text": [
      "CREASE, J. 1885. REGINA v. WING CHONG. \n",
      "\n",
      "14th & 15th July, Certiorari—“Chinese Regulation Act, 1884,” s. 5—Constitutionality—B.N.A. Act, 1867, ss. 91, 92—“Aliens”—“Trade and Commerce”—Taxation. \n",
      "On the return to a writ of certiorari. Held, that the “Chinese Regulation Act, 1884,” is ultra vires of the Provincial Legislature, on the following grounds: \n",
      "1. It is an interference with the rights of Aliens. \n",
      "2. It is an interference with Trade and Commerce. \n",
      "3. It is an infraction of the existing treaties between the Imperial Government and China. \n",
      "4. It imposes unequal taxation. \n",
      "\n",
      "14th & 15th July—On the return of a writ of certiorari directed to Edwin Johnson, Esquire, Police Magistrate for the City of Victoria, to return into this Court a certain conviction made by him under which one Wing Chong was fined $20 for not having in his possession a license issued under the “Chinese Regulation Act, 1884.”\n",
      "\n",
      "The Attorney-General in support of the conviction said there were five points raised on the rule for the certiorari against the validity of the $10 tax.—1st. That it interfered with the Dominion powers under the B. N. A. Act, aliens, and naturalization; 2nd. Trade and commerce; 3rd. Treaty obligations; 4th. That the tax was unequal, and 5th. It was indirect taxation. As to the first point aliens were as much subject to taxation as citizens. Protection and taxation were reciprocal (Cooley on Taxation, p. 14). The law did not deal with the conditions under which aliens might acquire rights or become subjects of Her Majesty. Secondly—Trade and commerce were not interfered with. The object of the Act was two-fold, the police and sanitary regulation of a numerous foreign element, and the raising of revenue necessary to meet that regulation (Hodge v. The Queen, L. R. 9, App. Cas. 117). If incidentally trade and commerce were touched, the provincial power of direct taxation was not impaired (Citizens Insurance Co. v. Parsons, L. R. 7 App. Cas. 108). The preamble and scope of the Act showed its objects were purely matters of the police and raising of revenue to meet the necessary expenditure, and within “Direct Taxation.” Thirdly—The treaty obligations of England did not affect the question. The last communication from the Secretary of State for the Colonies to the Governor-General, dated 16th May, 1884, stated, in effect, that the Colonies with responsible government could pass restrictive laws irrespective of treaties (B. C. Sessional Papers, 1885, p. 464), and instanced the legislation of the Australian Colonies and of the Dominion. Fourthly—As to unequal taxation, the power of the Province within its jurisdiction was supreme and as plenary as that of the Imperial Parliament (R. v. Burah, L.R. 3 App. Cas. 904; R. v. Hodge, L. R. 9, App. Cas. 117; and Powell v. Apollo Candle Co., L.R. 10 App. Cas., p. 290; and *In re Goodhue*, 19 Gr. 366); *Cooley* on Taxation, pp. 3, 82, 126-128, and *Cooley's Constitutional Limitations* (5th Ed.) 626-7; *Sedgwick* on Stat. (2nd Ed.), p. 501; *Potter's Dwarris* 418, 421, 425; *Dow v. Black*, L. R. 6 P. C. 272, were cited as showing the power of taxation, unless abridged by the written constitution, might be exercised so as to discriminate. The Supreme Court of Canada, in the case of *Jonas v. Gilbert*, 5 S. C. R., 356, had practically decided the same point. Fifthly—Whether called a licence or not, the imposition was a direct poll tax, and as such came within the power of the Province to raise money by direct taxation for Provincial purposes. *Cooley* on Taxation, 386; *Wharton's Law Lexicon*; *Reed v. Mousseau*, 8 S. C. R., 408. It was not a license to carry on business, or a method whereby indirectly money was raised from the consumer, as, for instance, customs or stamp laws.\n",
      "\n",
      "*Richards*, Q. C., for Wing Chong—The object of the Act was not for police purposes or to raise revenue. Its object, though not apparent on the face of the Act, was to prevent Chinese coming into the Province and drive out those who had already come. He reviewed the legislation against Chinese since confederation, contending it was levelled against a particular race of aliens and, therefore, beyond provincial control, per *Gwynne*, J., in *Citizens Insurance Co. v. Parsons*, 4 S. C. R., at p. 346. The law was a direct interference with trade and commerce (*R. v. Severn*, 2 Can. S. C. R., 70). If its object were successful and Chinese driven from the country, the customs dues received from the Chinese would be lost and the benefits of trade relations enjoyed by the merchants would be destroyed. Counsel cited statistics from the Chinese Commission showing the extreme importance, from a fiscal and commercial point of view, of the large number of Chinese in the Province. The Dominion under the B. N. A. Act had alone the right of performing in Canada the obligations of Canada as part of the British Empire in respect of treaties, and although Canada might pass laws prohibiting immigration, or having that tendency, the Province could not do so, nor could it pass laws in derogation of treaties. He cited the British treaty (25th August, 1842, from *Hertslet*, Vol. 6, and Lord *Elgin's* treaty, 1860), comparing it with the *Burlingame* treaty of the United States, and quoted California decisions (*Lin Sing v. Washburn*, 20 Cal. 334), and the decision of *Gray*, J., in *Tai Sing v. Maguire*, deciding that similar legislation was held void as contravening the treaty and the sovereign power to regulate trade and commerce with foreign countries. \n",
      "\n",
      "*Drake*, Q. C., on the same side, argued that the imposition of the $10 tax was invalid because of inequality. Inherent in and incidental to the taxing power was the characteristic of equality. *Cooley* stated that irrespective of constitutional limitation a particular class of citizens could not be burdened for the advantage of others—*Cooley's Constitutional Limitations*, p. 635. This was a principle underlying the power to tax and governing that right even though the CREASE, J. 1885. REGINA v. WING CHONG. written constitution made no mention of it—Cooley on Taxation, p. 18, and City of Lexington v. McQuillan, 35 Am. Dec. 159. The imposition was in derogation of treaty rights with which Canada alone had the power to deal. The Australian legislation did not help the contention of the Attorney-General. The Australian Colonies were autonomous, and occupied the same position as that of Canada. The Provinces were not autonomous. He did not contend that the whole of the Act was invalid. Much of it was within the scope of the Province, notably the provisions affecting the size of dwellings, the forbidding the use of opium, and the desecration of grave-yards. He insisted that imposing excessive taxation on one class of citizens was unconstitutional. The remarks of Chief Justice Ritchie, in the case of Jonas v. Gilbert before the Supreme Court of Canada, were obiter dicta, as the decision was upon another point, and intimated, but did not decide the right of the Provinces to discriminate, nor in what things and to what extent discrimination in taxation was legitimate. Lastly, the Act was for indirect taxation, which was a power given only to the Dominion Parliament. It was a license fee, the power to impose which had, in Severn v. The Queen, been decided against the Provinces on the score of such legislation being against trade and commerce. \n",
      "\n",
      "The Attorney-General in reply—The ten dollar impost was a tax whether designated by the name of a licence or otherwise. The distinction between direct and indirect taxation was well drawn in the case of Reed v. Mousseau before the Supreme Court of Canada, in which Mr. Justice Strong mentioned the Privy Council had decided the Provincial legislatures had exclusive power to impose direct taxation, and that it did not follow they might not have power even to impose indirect taxation. The tax did not sanction the carrying on of any business out of the product of which the consumer would, indirectly, contribute towards payment of the tax. Then as to inequality, the one dictum of Cooley was but an expression of opinion that political wisdom required uniform taxation; for the same author cited numerous authorities, including that of the Supreme Court of the United States establishing the right to discriminate unless fettered by the express language of the Constitution. Todd on Parliamentary Government in the Colonies, supported the view that the Provinces within their jurisdiction were as omnipotent as the Imperial Parliament. The California cases (see The People v. Naglee, 1 Cal. 232) decided a differential tax might be imposed on foreign miners; and though a later case (Lin Sing v. Washburn, 20 Cal. 334) had decided a special tax could not be imposed on Chinese, a most celebrated Judge, Mr. Justice Field (since elevated to the Federal bench), dissented, and had pointed out that according to federal decisions the State might impose special taxation on alien residents, provided the impost was not levied against foreigners landing in the country. The tax was not to exclude the Chinese — another statute with that object had been disallowed. It was imposed to meet the extraordinary expenses incident to enforcing the police and sanitary regulations prescribed by the Act. The question of treaties had nothing to do with the subject, for to responsible governments the Imperial Authorities conceded the right to pass laws within their jurisdiction. So the Canadian Parliament to-day was passing a restriction Act. Opponents to the Act might as well contend the exclusion of the Chinese from the franchise, and barring them from acquiring lands, was illegal. As to autonomy, neither the Australian Colonies nor the Dominion were absolutely possessed, but the Province equally with Australia and the Dominion were autonomous within the bounds of their respective jurisdictions. \n",
      "\n",
      "21st August, 1885—CREASE, J.— In order to deal satisfactorily with the questions raised by this appeal, it is necessary to see what is the scope and purport of the Act. It is called \"An Act to regulate the Chinese population of British Columbia.\" It starts with a recital, in itself a petio principii—not apparently the result of any public enquiry—which charges them with being not law-abiding, dissimilar in habits and occupation to the whites—useless in emergencies, habitual desecrators of grave-yards, unsuited to our laws, and of habits subversive of the community. From that premises concluding that special laws are required for their government, it proceeds to enact:— \n",
      "\n",
      "1. The title.\n",
      "\n",
      "2. Defines Chinese to mean \"any native of the Chinese empire or \"its dependencies not born of British parents, and shall include any \"person of the Chinese race.\" \n",
      "\n",
      "Section 3—with which we are immediately concerned—says:—\"From and after the passage of this Act there shall be payable and \"paid by every Chinese in British Columbia, above the age of fourteen years, unto and for the use of Her Majesty, her heirs and successors, the sum of ten dollars, and thereafter on the 1st day of June in \"each and every year there shall be likewise payable and paid by such \"Chinese person a further sum of ten dollars.\" \n",
      "\n",
      "Sec. 4 provides for the appointment and payment of special collectors, \"to be called Chinese collectors, to collect and receive such \"payments from Chinese; and such collector or collectors, immediately upon such payment, shall issue and deliver to the person paying \"the same a licence in the form contained in the schedule hereto.\" \n",
      "\n",
      "By Sec. 5 \"Any Chinese who shall be found within the Province \"not having in his possession a licence issued under the provisions of \"this Act, lawfully issued to him, shall, on conviction thereof, forfeit \"and pay a sum not exceeding forty dollars.\" \n",
      "\n",
      "By Sec. 6 \"Any collector or Government servant wilfully disobeying \"any of the provisions of this Act shall forfeit and pay a sum not \"exceeding one hundred dollars.\" \n",
      "\n",
      "By Sec. 7 \"Every collector shall collect the tax from each Chinese, \"and shall as soon afterwards as may be pay over the amount to the \"officer in charge of the Treasury, or to such other person as the \"Lieutenant-Governor in Council may from time to time direct.\"  \n",
      "\n",
      "By Sec. 8 “Every employer of Chinese shall furnish to the collector “when requested by him so to do, from time to time, a list of all “Chinese in his employ, or indirectly employed by him; but no such “statement shall bind the collector, nor shall excuse him from “making due enquiry to ascertain its correctness.” \n",
      "\n",
      "Section 9. “In case any employer of Chinese fails to deliver to the “collector the list mentioned in the preceding section, when required “so to do, or knowingly states anything falsely therein, such “employer shall, on complaint of the collector and upon conviction “before a Justice of the Peace having jurisdiction within the “district wherein such employer carries on his business, forfeit “and pay a fine not exceeding one hundred dollars for every Chinese “in his employ, to be recovered by distress of the goods and chattels “of such employer failing to pay the same, or in lieu thereof shall be “liable to imprisonment for a period not less than one month and not “exceeding two calendar months.”\n",
      "\n",
      "Section 10 gives the collector power to “levy the amount of the license from any Chinese not being in lawful possession of a license, “with costs, by distress of his goods and chattels, or of any goods and “chattels which may be in the possession of the delinquent, or which “may be upon or in any premises (whether the goods of the delin- “quent or not) for the time being in the possession or occupation of “such delinquent Chinese,” and declares that “for the purposes of this “section premises shall be deemed to be in the possession or occupa- “tion of any Chinese when it can be shown to the satisfaction of the “tribunal having cognizance of the matter (a) that such Chinese “habitually frequents such premises with the assent of the owner ; “(b) that he is the owner or one of the owners of the premises, or has “control, either alone or jointly, with another or others, of such pre- “mises or some part thereof; (c) that he has passed the night or slept “upon such premises at any time within a week of the levy, it shall “be sufficient authority for the collector to levy as aforesaid on the “non-production of the license. Proof of the lawful possession of “such receipt shall lie on the person whose goods are restrained.” \n",
      "\n",
      "By section 11 every license must be demanded by the employer and retained during the Chinaman’s service. \n",
      "\n",
      "By section 12 tax collectors are not to allow Chinese to pass unless a license is produced. \n",
      "\n",
      "Section 13 imposes a penalty of $50 on any person guilty of employing any Chinese not having a license. \n",
      "\n",
      "Sec. 14 Fee for free miner’s certificate to a Chinese to be $15, instead of the white man's $5. \n",
      "\n",
      "Sec. 15. Penalty not exceeding $30 for every Chinaman mining without a license. \n",
      "\n",
      "Section 16 amends the License Ordinance of 1867, whereby the pursuit of various callings is sanctioned by the ominous words, “but no license shall be issued to any Chinese.” \n",
      "\n",
      "Sections 17 and 18 prevent the exhumation of dead bodies without permission, and prohibit the use of opium except for medical purposes. \n",
      "\n",
      "Section 19 provides for the recovery of any pecuniary penalty thereunder in a summary manner before a J. P., and in default of immediate payment sanctions a distress, and failing that, imprisonment for not exceeding three months. \n",
      "\n",
      "Section 20 (amended by Act of 1885) declares that \"convictions are not to be quashed for want of form.\" \n",
      "\n",
      "Section 21. “Any Chinese who shall lend his license or free miner's \"certificate to another Chinese, and any Chinese who shall utter or \"pass off upon any collector or other person any license or free miner's \"certificate other than his own, with intent himself to avoid payment\" of the license fee payable under this Act (and the onus of proving “that such was not his intent shall rest upon the person charged), shall \"forfeit and pay a penalty of not less than twenty dollars nor more \"than one hundred dollars.\" \n",
      "\n",
      "Section 22 enacts that the tribunal applied to may decide \"on its own view and judgment\" whether any person is a Chinese or 14 years old. \n",
      "\n",
      "Sections 23, 24 and 25 contain sanitary provisions affecting buildings let to Chinese. \n",
      "\n",
      "Section 26 provides a means whereby persons imprisoned for an infraction of the Act may be put to hard labour by an Order in Council, and the same executive authority is empowered to make rules and regulations for carrying out the Act. \n",
      "\n",
      "Section 27 places in the hand of the local executive the construction from time to time of further rules and regulations to enforce the Act, and a fitting summary to such a premiss in section 28 reverses all the old law of England and one of the most cherished and priceless safeguards of the freedom from oppression won for us by our forefathers—that no one shall be deemed guilty until he has been proved so—throws on the defendant, white or yellow, the burden of proving that he is exempt from the operation of its arbitrary provisions—and in a tax Act which is in restraint of personal liberty, and opposed to the common law rights of the citizen—for if applicable to aliens it is a fortiori to the temporary inhabitants of the Province—abrogates the hitherto invariable rule in criminal matters and makes it unnecessary in any information, summons or conviction to “state or negotiate any “exception in or exemption under this Act, or in contemplation of “law.” Taught by experience of former efforts in the same direction, section 29 gives one year’s notice of the coming into operation of the Act—a time which has now expired. And section 30 terms it merely “The Chinese Regulation Act, 1884.” \n",
      "\n",
      "The only schedule is the form of license, which runs as follows:—\n",
      "\n",
      "The question now raised on the construction of this Act affects not only British Columbia, but, as she occupies the only Pacific seaboard of the Dominion, indirectly more or less the very many other Provinces under the flag of confederation. \n",
      "Taking for convenience the five points of objection to the conviction in the order in which they are made— \n",
      "1. That it interfered with the Dominion powers under the B. N. A. Act over aliens and naturalization. \n",
      "2. Trade and commerce. \n",
      "3. Treaty obligations. \n",
      "4. That the tax was unequal. \n",
      "5. That it was indirect taxation and therefore illegal, and should be quashed. \n",
      "\n",
      "On the first point, I would observe that it is now well settled law that British Columbia, as a part of the Dominion, possesses all, but possesses only, the powers which are strictly defined by the B. N. A. Act of 1867, which is, indeed, the constitution of Canada.\n",
      "\n",
      "Neither she nor any other of the Provinces possess any other powers of legislation than are conferred by that Act. If British Columbia, or any other Province, in its legislation, goes beyond that Act and in excess of its provisions, that moment, and to the extent of such transgression, it ceases to be law. Therefore, in dealing with this question, our constitutional Act must be kept in view throughout, as the measure by which we must continually gauge the legality or illegality of the provisions of the local statute under consideration. \n",
      "\n",
      "The Act of Federation was passed in order to be an irrefragable, permanent standard by which to preserve and regulate all the relative rights of the Provinces, as among themselves and as regards the Dominion. \n",
      "\n",
      "The exclusive powers of that Act given to the Dominion over particular subjects are contained in the 91st section. The exclusive powers of the Province are particularized in section 92. It is natural that in the working out of such a constitution in a new and growing country, questions should be continually cropping up, and call upon the Courts to define gradually and with greater exactness, as time progresses and population expands, the relative powers given by the Act to the Dominion and Provinces respectively. Sub-section 2 of section 91 gives to the Dominion Parliament exclusively the regulation of “trade and commerce,” and by sub-section 25 that of “naturalization and aliens,” and everything relating to those subjects as affecting the whole Dominion is within the Dominion powers, and no local Legislature can make any statute interfering with either of those subjects. If it does, so far as such interference extends it is illegal and void, and when brought before the Court it is the duty of that tribunal so to adjudge it.\n",
      "\n",
      "And the converse of this is true when applied to Dominion legislation as affecting the subjects exclusively given by the constitution to the Province. \n",
      "\n",
      "Now, applying this test to the statute before us, let us see whether and how far its provisions affect, as is alleged, aliens, or trade, or commerce. \n",
      "\n",
      "The aliens in this case being Chinese, the first enquiry must be, what is the object of the Act? On applying to the preamble, we find that it looks like a bill of indictment as against a race not suited to live among a civilized nation, and certainly does not prepare one for legislation which would encourage or tolerate their settlement in the country. Indeed, the first lines of the preamble sound an alarm at the multitude of people coming in, who are of the repulsive habits described in the last part of the preamble, and prepares one for measures which should have a tendency to abate that alarm by deterrent influences and enactments which should have the effect of materially lessening the number of such undesirable visitors. The provisions of the Act I have given somewhat in extenso bear out that view, and the concurrent and previous local legislation bear out the same impression, for on the same day as this Act was passed, another Act was passed, the very object of which was plainly stated to be \"to prevent the immigration\" of Chinese.\" \n",
      "\n",
      "That Act was disallowed. It interfered with aliens as well as trade and commerce, which cannot subsist among nations without personal intercourse, which such an Act (as far as China was concerned) would have a tendency to prohibit. \n",
      "\n",
      "Another statute (of 1878), \"An Act to provide for the better collection of taxes from Chinese,\" which contained several of the stringent provisions which I have described in this Act, such as a special tax specially recoverable by summary and unusual remedies from the Chinese alone, in British Columbia, and enforced by fine and imprisonment and other penal clauses, came before this Court, and in a most conscientious and exhaustive judgment of Mr. Justice Gray, of 23rd September, 1878, in the case of Tai Sing v. Maguire, was declared unconstitutional and ultra vires the Local Legislature, as interfering with aliens and trade and commerce—matters reserved exclusively under the 81st section of the B. N. A. Act to the Dominion. That decision was never appealed from, and was at once acted on by the government as conclusive. \n",
      "\n",
      "The position and legislative powers of British Columbia have been in no respect altered in its relations to the legislative powers of the Dominion on the same subjects since that time, though Russell v. The Queen (7 App. Cas. 829) and Hodge v. The Queen (9 App. Cas. 117) have more fully defined the extent of the powers of the Provincial Legislatures than has hitherto been done; and in the latter case especially. That decision, however, was not before Mr. Gray when he rendered the judgment in Tai Sing v. Maguire. Until reversed or varied, the decision in the Hodge case is law here, and binding on this Court. \n",
      "\n",
      "Their lordships say (page 132), with reference to the objection of the appellants there (delegatus non potest delegare):—\n",
      "\"It appears to their lordships, however, that the objection thus raised by the appellants is founded on an entire misconception of the true character and position of the Provincial Legislatures. They are in no sense delegates of or acting under any mandate from the Imperial Parliament. When the British North America Act enacted that there should be a Legislature for Ontario\" (for this case we may for \"Ontario\" read \"British Columbia\"), \"and that its Legislative Assembly should have exclusive authority to make laws for the Province and for provincial purposes in relation to the matters enumerated in section 92, it conferred powers not in any sense to be exercised by delegation from or as agents of the Imperial Parliament, but authority as plenary and as ample within the limits prescribed by section 92 as the Imperial Parliament in the plenitude of its power possessed and could bestow. Within these limits of subjects and area the Local Legislature is supreme.\" \n",
      "\n",
      "[So far this decision confirms the words of Lord Selborne in R. v. Burah; what follows goes beyond it.] \"And has the same authority as the Imperial Parliament or the Parliament of the Dominion would have had under like circumstances to confide to a municipal institution or body of its own creation authority to make by-laws or resolutions as to subjects specified in the enactment, and with the object of carrying the enactment into operation and effect.\" \n",
      "\n",
      "That decision, although in some respects an obiter dictum, as regards this case, makes it clear that within the limits of subjects and the area prescribed by the B. N. A. Act, by section 92, the Legislature of British Columbia is supreme. The basis, then, of our enquiry must be: Is this Chinese Regulation Act of 1884—rather the parts of it objected to—within the limit of subjects and area of section 92, or does it exceed those limits in which it is supreme, and interfere with aliens, trade and commerce in such a manner as to encroach on section 91 or any of its sub-sections? If so, so far as it does so, it is unconstitutional and ultra vires, and therefore void. Now it does not follow because a local Act touches on these three subjects it therefore interferes with them so as to render it unconstitutional. \n",
      "\n",
      "Aliens may be taxed, may be subjected to the same rules and municipal and other by-laws as other inhabitants of British Columbia, and such discrimination in so doing as are allowed in local legislatures between and among different persons and occupations among the whites are quite as applicable to them. These are the only discriminations which the law allows, and these are the permissible discriminations spoken of by Cooley in the portions cited before the Court. During the argument the case of *Lin Sing v. Washburn*, 20 California Reports, 534, was quoted as bearing on this case. There, an Act of the California Legislature passed an Act imposing a capitation tax “on ‘each person, male and female, of the Mongolian race of the age of 18 years and upwards residing in the State,’ accompanying a license almost a *fac simile* of our own, and enforced in much the same way as in the case before us, that, after long and elaborate argument in which the Attorney-General appeared for the State, was determined to be unconstitutional, as it was an interference with trade and commerce, which could be regulated alone by the general government. It was in vain advanced that at least the State had concurrent jurisdiction in matters of taxation relative to its own internal affairs, of which this was one (the same proposition as was advanced by the Attorney-General in this case) in which it had a supreme and autonomous right to legislate. And the grounds of this decision were that the federal constitution had vested in the general government the power to regulate commerce in all its branches (as with us in the Dominion); and this power extends to every species of commercial intercourse, and may be exercised upon persons as well as property (Mr. Justice Field, whose arguments have been reproduced by the Attorney-General before me in this case, dissenting). \n",
      "\n",
      "That commerce cannot be carried on without the agency of persons, and the tax, the effect of which is to diminish personal intercourse, is a tax on commerce. If the power to impose such a tax is acknowledged, it being a sovereign power, no limitation can be affixed to its exercise, and it may be so used as not only to diminish but destroy commerce. \n",
      "\n",
      "The power asserted in the Act in question (the California Act) is the right of the State to prescribe the terms upon which the Chinese shall be permitted to reside in it, and be so used as to cut off all intercourse between them and the people of the State, and defeat the commercial policy of the nation. \n",
      "\n",
      "That the Act could not be maintained as a police regulation; that a branch of the police power had been surrendered to the Federal Government as a part of the power to regulate commerce, and its exercise by a State was incompatible with the authority of the Government. \n",
      "\n",
      "That the Chinese might be taxed as other residents, but could not be set apart as special objects of the taxation, and be compelled to contribute to the revenue of the State in the character of foreigners. \n",
      "\n",
      "The reports of the higher California courts are of great authority for us on all Chinese questions, for there have been efforts for years past to restrict Chinese immigration in California, and the matter has been constantly before the superior courts there, and the judges there (if we may take the reports as correct) are more than ordinarily skilled in laying down the law correctly in constitutional points of that nature. Indeed, there is no other country which has such experience generally in constitutional law as applicable to a federation of states. \n",
      "\n",
      "Of course, in all the observations I make I recognize the now well-known distinction between the relations of a State of the Union to the Federal Government, and our relation as a Province to the Dominion. Still both Federal Governments have reserved to themselves the regulation of trade and commerce and naturalization and aliens; so the analogy is so close as to become almost a direct authority. \n",
      "\n",
      "In the *Lin Sin* judgment, p. 579, the learned judge says of the power of taxing foreigners, as in the present *qua* foreigners: “If the power exist it may be exercised upon all foreigners residing in the State, and may be so exercised as to bar the door of foreign commerce as effectually as the Government could do by issuing its man-“date and closing its ports.\" \n",
      "\n",
      "And again \"to determine whether there is a conflict or not, i.e., of jurisdictions, the power must be considered with reference to its consequences, for its effect when carried out is the only criterion by which a judgment can be formed.\"\n",
      "\n",
      "In another place he says:—\"It would be an empty sound to say that the several States cannot pass any law to prevent foreigners from coming here if they may pass laws which will compel such foreigners to depart as soon as they arrive.\" \n",
      "\n",
      "And again, \"A tax imposed by the law on these persons for the mere right to reside here, is an appropriate and effective means to discourage the immigration of the Chinese into the State.\"\n",
      "\n",
      "During the argument on the case before me, the Attorney-General claims that this was direct taxation, and a direct tax within the Province, to raise revenue for Provincial purposes, and, therefore *intra vires*; but the question is not one of name but of fact. Does it interfere with trade or commerce? Can it be legally imposed on foreigners as foreigners, for even a legal tax in other respects becomes illegal when it goes beyond its proper limits, and interferes with powers exclusively given to the Dominion for the benefit of all? \n",
      "\n",
      "In another California case, *In re Tiburcio Parrott*, it is laid down that if the apparent object of a statute is under a pretense of the exercise of constitutional powers to drive Chinese away, the end sought to be obtained being unlawful, the statute is void. \n",
      "\n",
      "In *Russell v. Reg.* it is decided that the true nature and character of legislation must be determined in order to ascertain its legality. \n",
      "\n",
      "In *Citizens Insurance Co. v. Parsons*, we have to look at the legislation for the same purpose. \n",
      "\n",
      "If the legislation here be to drive people from the country, have the local legislature the power? Legislation as to aliens is reserved to the Dominion. And as to trade and commerce, if the Chinese be driven out an annual loss to the revenue, it appears by the tables in the Chinese Commission Report, of $110,000 will take place; and more than $1,500,000 of property and business be lost to us, besides an injury to trade to an incalculable extent. The amount of business transacted by Chinamen in British Columbia, as revealed by the tables in that Chinese Report, is something which a casual observer would have no idea of. \n",
      "\n",
      "The treaties between Great Britain and China, which bind us, have been quoted. The treaty of 25th August, 1842, *Hertslet*, Vol. 6, ratified 26th June, 1843, p. 221, and Lord Elgin's treaty of October, 1860, authenticated copies of which were produced in Court, secure to Chinese coming into British dominions the same \"full security for persons and property as subjects of Her Majesty.\" \n",
      "\n",
      "*Vattell*, cap. 8, referring to our obligations to foreigners, observes:— \"As soon as the lord of the territory admits strangers into it he engages \"to protect them as his own subjects, and to afford them perfect security as far as depends on him.\"\n",
      "\n",
      "*Reg. v. Severn* and *Reg. v. Russell* are important authorities in guiding our enquiry as to the nature and effect of local legislation in determining whether and how far the Act under review exceeds the limits within which the local legislature is supreme. And as to the equality of taxation, besides *Cooley*, who has been quoted freely on both sides, in *Kent's Commentaries* (8th Ed.), 2nd Vol., 388, it is insisted—\"That every person is entitled to be protected in the enjoyment of his property, not only from invasions of it by individuals, but from all unequal and undue assessments on the part of the Government. It is not sufficient that no tax or imposition can be imposed upon the citizens, but by their representatives in the legislature the citizens are entitled to require that the legislature itself shall cause all public taxation to be fair and equal in proportion to the value of 'property\" (and that is what *Cooley* means by apportionment of taxation), \"so that no class of individuals, and no species of property shall be unduly assessed.\" The treaties I have quoted between Great Britain and China, binding on the Dominion and on us in British Columbia, secure to the Chinese, just as the treaties between Great Britain and other foreign countries secure to other foreigners, the same rights in regard to the equality of taxation which I have described as being enjoyed by citizens of this country. \n",
      "\n",
      "These treaties have the force of international law, and are continued most strongly against the party for whose benefit they are introduced. \n",
      "\n",
      "In the case of the Chinese treaties, they were forced at the point of the bayonet on China, to obtain a right for us to enter China, and in return for a similar permission to us, full permission was given for the Chinese to trade and reside in British dominions everywhere. \n",
      "\n",
      "In the treaties of 1858 and 1860, made at the solicitation of Great Britain, the Emperor of China was induced to give permission to his subjects to go and trade and reside \"in British Colonies,\" and to enter into \"engagements with British subjects for that purpose.\" \n",
      "\n",
      "These obligations are binding here and in other parts of the Dominion under section 132 of the British North America Act, and no Province, or the Dominion itself, can lawfully pass laws interfering with that right without a previous revision of the treaties by the high contracting parties to them for that purpose. Treaties with foreign nations are above all ordinary municipal law, for obvious international reasons, for without such a provision there can be no permanent security, which is the life of all commercial intercourse. The same provisions that apply to Chinese may be made to apply also to Americans, Frenchmen, Germans, or any other foreigners. Such treaties are the especial care of the Dominion, and where local legislation clashes with that especial province of the Dominion, the legislation of the Province must give way, as laid down in Leprohon v. the City of Ottawa, 40 Q.B., Ont., 478; Reg. v. Chandler, Hannay's New Brunswick Reports, 548; Dow v. Black, L.R. 6 P.C. 272; L'Union St. Jacques v. Belisle, L.R. 6 P.C. 31, and numerous other Canadian authorities, besides the British North America Act itself. Now applying the principles and tests I have described to the Act before us, what do we find? The Act is found associated with another Act now disallowed, the express object of which is to prevent the Chinese altogether from coming to this country, and the principle \"noscitur a sociis\" is kept up by the preamble of the present Act, which describes the Chinese in terms which, I venture to think, have never before in any other country found a place in an Act of Parliament. \n",
      "\n",
      "In the definition of the persons affected by the Act no distinction is made of ambassadors, merchants, consuls, artists, professors or travellers, or sex, whether under disability or not, or at such a distance from a collector as to make it difficult or impossible to obtain a license. Every person of Chinese origin, whether naturalized in Hong Kong or America, or any other State with which we are at amity, so long as they are of Chinese origin, 14 years of age—every one without distinction—must take out a license. For the purpose of argument I have treated the license fee as a tax; but it is in fact a license—a license to remain in British Columbia unmolested for a year. When the legislature wanted to create a tax, they knew what words to use for the purpose, for in the sister Act passed on the same day, which was disallowed, they called the impost there enacted a \"tax,\" not a license. However difficult or impossible for any Chinese to find a district collector, if such Chinese is \"found without a license he is liable to a fine of $40.\" At every turn he is confronted with an exceptional duty, and an exceptional penalty, and the loss of his goods and chattels, and of personal liberty. \n",
      "\n",
      "It is impossible but that such an imposition so enforced, in addition to all the general taxes to which he is subject, should make this country too hot for him to live in; and just in proportion as he is so persecuted out of the country, in that degree does this enactment interfere with trade and commerce and that control over aliens exclusively given to the Dominion. And not only is he thus attacked, but unheard of provisions are introduced. Every employé of Chinese labour, whether English, American, or what not, is made liable to severe and incessant liability of a penal kind, for what? Some act, a default of his own? No; an act or default of a stranger, a man whose language he knows not, and for every infraction of the Act by the Chinese under his employ. The palpable object of such a provision, or set of provisions, is to render the employment of Chinese so distasteful and annoying to the employer that he must cease to employ them. Now, to pass a law providing that employment shall not be given to a special class of men, except it be productive of so much danger, annoyance, and loss to the employer, is just another way of saying that no intercourse shall be had with that class. With penalties and prosecutions always before you, far in excess of any advantage to be derived from that intercourse or trade, what is that but equivalent to saying that such intercourse or trade or labour must cease altogether. What is that but interfering with aliens, trade, and commerce? \n",
      "\n",
      "If a man employ a Chinaman who should happen to be delinquent in his tax, and he happens to occupy a cottage or room of his employer, with his master's goods in it, under section 10 they are liable to seizure and sale. In every prosecution under the Act the legal presumption of innocence until conviction is reversed; in every case the onus probandi, though in a Statute highly penal, is shifted from the informant on to the shoulders of the accused, and he a foreigner not knowing one word of the law, or even the language of the accuser. In other words, every Chinese is guilty until proved innocent—a provision which fills one conversant with subjects with alarm; for if such a law can be tolerated as against Chinese, the precedent is set, and in time of any popular outcry can easily be acted on for putting any other foreigners or even special classes among ourselves, as coloured people, or French, Italians, Americans, or Germans, under equally the same law. That certainly is interfering with aliens. \n",
      "\n",
      "The proposition that it is a Provincial tax for revenue purposes, supposing it to be so intended under the provisions of the Act, is so manifestly calculated to defeat that object, by diminishing the numbers of the members of the persons to be affected by it, that it is difficult to regard it in that light, or in any other light than an indirect mode of getting rid of persons whom it affects out of the country. The whole Act teems with special provisions which affect not only Chinese, but their employers, with obligations and liabilities as to the conduct of the Chinese in their employ, that no reasonable man would encounter, and run the risk of the penal consequences which the Act hangs over him. \n",
      "\n",
      "For instance, by section 19 any pecuniary penalty imposed may be summarily recovered (and applies to employers), and in default of immediate payment the same may be recovered by distress of the goods and chattels of the offender, and in default of sufficient distress by a liability to imprisonment for three calendar months, and the employers would necessarily be white men. \n",
      "\n",
      "In fact, the Act so bristles with these arbitrary, exceptional and penal consequences, that it is invidious to single out particular ones for comment. It is enough to add that \"any person,\" no matter whether white or Chinese, imprisoned in respect of any infraction of the provisions of the Act, may be at the will of the executive, subjected even to hard labour. \n",
      "\n",
      "The Act is so full of provisions that interfere directly with aliens, with trade, and with commerce, that I have no hesitation in pronouncing all such provisions, and among them those under which the appellant in this case has been convicted, to be ultra vires the local legislature, and consequently illegal and void. \n",
      "\n",
      "So far, I have dealt with the Act on its own merits; but if we consider it in juxtaposition to the Dominion Act recently passed restricting the Chinese throughout all Canada, its illegality becomes transparent; for in passing that Act against the Chinese the Dominion has spoken by the highest authority which it possesses—its own Parliament. By the Constitutional Act the subject of aliens, we have seen, is specially reserved to the Dominion, and it is now an axiom, in the interpretation of that Act, that when that authority deals with a subject expressly included in its jurisdiction by the 91st section, it has possession of that subject exclusively, and the Province has to give way. It is a great assumption of power on the part of a Province to pass laws, the effect of which must be practically to expel a particular class of aliens from that Province, to say in effect that it will by its legislation impede or prevent that class from being employed in another Province—say the North-west Territory or Manitoba—where railway works may be languishing for want of that very class of labourers, British Columbia being the only sea-board of Canada on the Pacific through which (in face of the restrictive laws of the United States) that class of labourers can enter and pass through; that is, in fact, legislating on all inter-provincial immigration; in other words, such legislation is ultra vires, and so I pronounce it; and adjudge accordingly, and quash the conviction, with costs. \n",
      "\n",
      "\n",
      "\n"
     ]
    }
   ],
   "source": [
    "with open('data/Regina_V_Wing_Chong.txt', encoding='utf-8') as f:\n",
    "    full_text = f.read()\n",
    "print(full_text)"
   ]
  },
  {
   "cell_type": "markdown",
   "id": "2f86428c",
   "metadata": {},
   "source": [
    "### BERT Word Embeddings"
   ]
  },
  {
   "cell_type": "code",
   "execution_count": 3,
   "id": "710c6d1f",
   "metadata": {},
   "outputs": [
    {
     "name": "stdout",
     "output_type": "stream",
     "text": [
      "crease j 1885 regina v wing chong \n",
      "\n",
      "14th  15th july certiorarichinese regulation act 1884 s 5constitutionalitybna act 1867 ss 91 92alienstrade and commercetaxation \n",
      "on the return to a writ of certiorari held that the chinese regulation act 1884 is ultra vires of the provincial legislature on the following grounds \n",
      "1 it is an interference with the rights of aliens \n",
      "2 it is an interference with trade and commerce \n",
      "3 it is an infraction of the existing treaties between the imperial government and c\n"
     ]
    }
   ],
   "source": [
    "import re\n",
    "\n",
    "def clean_text(text):\n",
    "    \n",
    "    text = text.lower()\n",
    "    text = re.sub(r'[^\\w\\s]', '', text)  # Remove punctuation\n",
    "    \n",
    "    return text.strip()\n",
    "\n",
    "text_cleaned = clean_text(full_text)\n",
    "print(text_cleaned[:500])  # Print the first 500 characters of the cleaned text"
   ]
  },
  {
   "cell_type": "code",
   "execution_count": 4,
   "id": "3e2dea35",
   "metadata": {},
   "outputs": [],
   "source": [
    "# Load pre-trained BERT tokenizer and model\n",
    "from transformers import BertTokenizer, BertModel\n",
    "import torch\n",
    "\n",
    "tokenizer = BertTokenizer.from_pretrained('bert-base-uncased')\n",
    "bert_model = BertModel.from_pretrained('bert-base-uncased')"
   ]
  },
  {
   "cell_type": "code",
   "execution_count": 5,
   "id": "ac2e797a",
   "metadata": {},
   "outputs": [],
   "source": [
    "\n",
    "# Create the word embeddings\n",
    "# Tokenize the cleaned text into words\n",
    "tokens = word_tokenize(text_cleaned)\n",
    "\n",
    "token_frequencies = {}\n",
    "\n",
    "for token in tokens:\n",
    "    token_frequencies[token] = token_frequencies.get(token, 0) + 1"
   ]
  },
  {
   "cell_type": "code",
   "execution_count": 6,
   "id": "80f3b9e3",
   "metadata": {},
   "outputs": [
    {
     "name": "stdout",
     "output_type": "stream",
     "text": [
      "Most frequent tokens:\n",
      "the: 629\n",
      "of: 360\n",
      "and: 254\n",
      "to: 234\n",
      "in: 181\n",
      "a: 133\n",
      "that: 109\n",
      "as: 100\n",
      "is: 87\n",
      "it: 83\n",
      "be: 82\n",
      "act: 80\n",
      "or: 78\n",
      "chinese: 74\n",
      "for: 74\n",
      "by: 70\n",
      "not: 62\n",
      "with: 60\n",
      "on: 58\n",
      "was: 58\n"
     ]
    }
   ],
   "source": [
    "sorted_tokens = sorted(token_frequencies.items(), key=lambda x: x[1], reverse=True)\n",
    "\n",
    "# Example: print top 10 most frequent tokens\n",
    "print(\"Most frequent tokens:\")\n",
    "for token, freq in sorted_tokens[:20]:\n",
    "    print(f\"{token}: {freq}\")"
   ]
  },
  {
   "cell_type": "code",
   "execution_count": 7,
   "id": "3851600d",
   "metadata": {},
   "outputs": [],
   "source": [
    "import re\n",
    "# Build ethnicity vocabulary\n",
    "ethnicities = [\n",
    "    \"chinese\", \"japanese\", \"black\", \"white\", \"yellow\", \"chinamans\",\n",
    "    \"canada\", \"american\", \"european\", \"china\", \"chinaman\", \"britain\",\n",
    "    \"canadian\", \"latino\", \"mongolian\", \"asian\", \"indian\", \"india\", \"english\",\n",
    "    \"british\", \"america\", \"columbia\", \"ontario\", \"australia\", \"australian\",\n",
    "    \"germans\", \"german\", \"chinamen\", \"italian\", \"italy\", \"french\", \"france\"\n",
    "]\n",
    "\n",
    "pattern = re.compile(r\"\\b(\" + \"|\".join(map(re.escape, ethnicities)) + r\")\\b\", flags=re.IGNORECASE)\n",
    "\n",
    "# Mask in any string\n",
    "def mask_ethnicity(tokens):\n",
    "    masked = []\n",
    "    for tok in tokens:\n",
    "        masked.append(pattern.sub(\"[MASK]\", tok))\n",
    "        \n",
    "    return masked"
   ]
  },
  {
   "cell_type": "code",
   "execution_count": 8,
   "id": "59e873f9",
   "metadata": {},
   "outputs": [
    {
     "data": {
      "text/plain": [
       "['[MASK]', '[MASK] women']"
      ]
     },
     "execution_count": 8,
     "metadata": {},
     "output_type": "execute_result"
    }
   ],
   "source": [
    "example_word = [\"chinaman\", \"chinese women\"]\n",
    "\n",
    "mask_ethnicity(example_word)"
   ]
  },
  {
   "cell_type": "code",
   "execution_count": 9,
   "id": "08fe0727",
   "metadata": {},
   "outputs": [
    {
     "name": "stdout",
     "output_type": "stream",
     "text": [
      "There are 1600 unique tokens in this corpus.\n"
     ]
    }
   ],
   "source": [
    "\n",
    "# Get unique words to avoid redundant computation\n",
    "unique_tokens = list(set(tokens))\n",
    "\n",
    "unique_tokens = mask_ethnicity(unique_tokens)\n",
    "\n",
    "# Include the word \"chinese\" as our target\n",
    "unique_tokens.append(\"chinese\")\n",
    "\n",
    "# Print the shape of unique tokens\n",
    "print(f'There are {len(unique_tokens)} unique tokens in this corpus.')"
   ]
  },
  {
   "cell_type": "code",
   "execution_count": 10,
   "id": "c9396466",
   "metadata": {},
   "outputs": [],
   "source": [
    "# Prepare a dictionary to store word embeddings\n",
    "bert_word_embeddings = {}\n",
    "\n",
    "# For each word, get its BERT embedding by feeding it as a single-token input\n",
    "for word in unique_tokens:\n",
    "    word_inputs = tokenizer(word, return_tensors='pt', truncation=True, max_length=10)\n",
    "    with torch.no_grad():\n",
    "        word_outputs = bert_model(**word_inputs)\n",
    "        # Use the [CLS] token embedding as the word embedding\n",
    "        word_embedding = word_outputs.last_hidden_state[:, 0, :].squeeze().numpy()\n",
    "        bert_word_embeddings[word] = word_embedding\n",
    "    "
   ]
  },
  {
   "cell_type": "code",
   "execution_count": 11,
   "id": "0637c078",
   "metadata": {},
   "outputs": [
    {
     "name": "stdout",
     "output_type": "stream",
     "text": [
      "BERT embedding for 'chinese':\n",
      "[-1.73933744e-01  2.28281140e-01 -4.60987777e-01 -3.10309321e-01\n",
      "  6.09321818e-02 -1.18675649e-01  5.69706410e-02  5.09568810e-01\n",
      " -1.16129011e-01 -2.93345749e-01 -2.01437280e-01 -1.02072828e-01\n",
      "  3.72352898e-02  4.77217045e-03 -1.51318666e-02 -1.24202862e-01\n",
      " -2.10853815e-01  4.64721173e-01  3.23807836e-01 -4.53069210e-02\n",
      " -4.75586876e-02 -2.62311012e-01 -4.20340359e-01 -2.10749120e-01\n",
      " -1.17265537e-01 -2.15970218e-01  1.14206724e-01 -1.76633611e-01\n",
      "  8.67219642e-02 -2.59426124e-02 -1.39534533e-01  3.87654811e-01\n",
      " -1.36946052e-01  4.76951659e-01  3.38810384e-02  1.88151821e-01\n",
      " -2.12915927e-01 -1.21353865e-01  7.67081231e-02  1.45254448e-01\n",
      " -2.10498676e-01 -1.03174210e-01  2.61935860e-01 -3.14799324e-02\n",
      "  2.80385673e-01 -3.71496201e-01 -1.69398880e+00 -1.00097865e-01\n",
      " -4.19999659e-01 -2.02351600e-01  2.84618661e-02  6.71245903e-02\n",
      "  2.95703322e-01  2.80955940e-01 -2.57328600e-02  4.13093179e-01\n",
      " -3.49687040e-01  3.93703401e-01  1.61472648e-01  2.30470523e-02\n",
      "  1.97254479e-01  4.50064987e-02 -2.03618512e-01  1.55046538e-01\n",
      "  1.89824015e-01  1.86740056e-01  1.41553611e-01  5.14428079e-01\n",
      " -2.05113277e-01  1.82778016e-01 -2.70943791e-01  7.51340538e-02\n",
      "  1.55279845e-01 -7.65141472e-03 -2.54684210e-01  6.69070929e-02\n",
      " -1.63202688e-01 -1.57696679e-02 -1.98541760e-01 -2.04719275e-01\n",
      "  4.72427681e-02  1.39977664e-01  2.74512529e-01  5.21576889e-02\n",
      "  2.87150353e-01  8.25486556e-02 -3.98040295e-01 -2.02614099e-01\n",
      "  3.37105572e-01  5.55473864e-01 -9.90204886e-02  3.23230833e-01\n",
      "  1.28294826e-01  2.51568794e-01  9.94672179e-02 -7.97909498e-03\n",
      "  2.18181685e-02  1.41852051e-01  1.11001164e-01  2.69239470e-02\n",
      "  3.85030210e-02  2.17649132e-01  3.63028586e-01  9.32560861e-02\n",
      " -8.58992040e-02 -1.25750646e-01 -3.15932661e-01  1.97919026e-01\n",
      " -1.96736827e-01 -3.13520932e+00  1.24054775e-01  1.59158140e-01\n",
      " -3.72346371e-01 -1.52338326e-01 -9.93058532e-02  4.85125661e-01\n",
      "  2.35913664e-01 -1.76800311e-01  7.84751028e-02  3.72735746e-02\n",
      " -4.01071399e-01  5.07244825e-01 -2.35258430e-01 -1.84145346e-01\n",
      "  2.81651467e-01  4.19726014e-01  2.14405507e-01 -1.52546778e-01\n",
      "  3.29003453e-01  6.14168346e-02 -3.98472212e-02  4.85015899e-01\n",
      " -9.46275964e-02 -2.53522992e-01 -9.11551043e-02 -1.30175322e-01\n",
      "  3.05815071e-01  2.12242097e-01 -6.35685027e-02 -1.33880094e-01\n",
      " -3.03874105e-01 -1.02007285e-01 -3.40595007e+00 -7.91069306e-03\n",
      "  2.40592852e-01  1.54656023e-01 -2.05288649e-01 -1.89940944e-01\n",
      "  3.15063834e-01  7.14926049e-04  1.53388232e-01 -1.23067081e-01\n",
      " -2.03432888e-02  1.77571565e-01 -2.51115292e-01 -5.14591485e-03\n",
      "  2.49084681e-01 -1.74366161e-01  2.15957791e-01  2.20702797e-01\n",
      " -1.00969367e-01 -2.12009937e-01 -2.85110883e-02 -4.46329117e-01\n",
      " -1.76413506e-01 -5.57217933e-02  3.09482425e-01  4.77845639e-01\n",
      "  2.02405572e-01 -4.68237773e-02 -4.20821100e-01 -3.28391463e-01\n",
      "  2.35756963e-01  1.11341961e-01  1.94083676e-01 -1.25248253e-01\n",
      " -2.57044882e-01  3.22642088e-01  3.51105392e-01  1.05821021e-01\n",
      "  2.97495350e-02  6.80639684e-01  1.28509775e-01  2.31943280e-01\n",
      "  1.14188679e-01 -2.63812169e-02  1.50993571e-01 -2.27755114e-01\n",
      "  2.24115565e-01  3.44346493e-01  3.97547409e-02 -1.11982375e-02\n",
      "  2.03688055e-01  1.13570131e-02  4.10673283e-02  8.62949789e-02\n",
      "  1.19722940e-01 -3.55387330e-01  5.06652057e-01  3.28557491e-01\n",
      " -1.30348936e-01 -2.04374447e-01 -2.34071776e-01  1.61944747e-01\n",
      "  5.37663326e-02  3.68927932e+00  2.55733430e-01 -4.61181551e-02\n",
      "  4.40688193e-01  3.39693241e-02  1.09012969e-01  1.70853630e-01\n",
      "  2.12234676e-01 -1.00809813e-01  3.22451413e-01 -2.68524941e-02\n",
      "  1.98628247e-01 -6.52646571e-02 -7.59821236e-02 -8.93566292e-03\n",
      "  2.26305857e-01  1.15188777e-01 -6.50660247e-02  2.22503766e-01\n",
      " -5.85972592e-02  3.61057520e-01 -2.01939382e-02  3.92473131e-01\n",
      " -6.55727088e-02 -6.74450040e-01  5.71900979e-03  1.19469613e-01\n",
      " -3.25847894e-01  3.63206655e-01 -3.79786432e-01 -1.10911652e-01\n",
      " -1.47218749e-01 -2.19864681e-01  1.45486012e-01  2.46320337e-01\n",
      "  2.39611372e-01  6.95865080e-02 -2.61361778e-01 -1.40122950e-01\n",
      " -3.01685363e-01 -4.97228019e-02  6.04145303e-02 -7.28413314e-02\n",
      "  4.67574030e-01 -1.14430413e-01  5.66961765e-01 -1.61004364e-01\n",
      "  3.28500941e-02 -1.67489469e-01 -1.81087852e-01 -2.61270106e-01\n",
      " -2.09499151e-04 -2.17035085e-01 -8.58916193e-02 -1.67942852e-01\n",
      " -2.72842526e-01 -8.63283873e-02  3.01358074e-01 -5.15446216e-02\n",
      " -3.95183831e-01 -2.72533923e-01  2.45068416e-01 -1.69427603e-01\n",
      "  2.65995562e-01 -2.21386820e-01 -2.19692901e-01 -1.30041596e-02\n",
      " -3.53298634e-01 -5.00629473e+00  2.39233047e-01  2.31551290e-01\n",
      "  7.42688030e-02  1.23760611e-01 -3.38314950e-01  1.38354838e-01\n",
      "  1.98636040e-01  2.43478924e-01 -2.18299925e-01  3.01754713e-01\n",
      " -4.38087508e-02 -2.85283297e-01  7.96821639e-02 -4.56544995e-01\n",
      "  2.11111039e-01 -1.81800127e-02 -7.98097700e-02 -2.63704658e-01\n",
      " -5.39796278e-02  3.43961656e-01  3.23470205e-01 -2.97990590e-01\n",
      " -4.92524579e-02  1.80908084e-01  1.87810764e-01 -3.15704226e-01\n",
      "  8.18104371e-02  2.85903424e-01 -2.04122603e-01 -6.60430938e-02\n",
      " -4.89068240e-01  7.76369646e-02 -2.05034077e-01 -2.90459860e-02\n",
      " -1.50859928e+00  1.73500478e-02 -2.51022279e-01 -1.52403235e-01\n",
      "  1.04269654e-01 -2.31489405e-01  2.32286051e-01 -3.73269379e-01\n",
      " -2.23978996e-01  3.77756387e-01  1.21283978e-01 -9.57973301e-02\n",
      " -3.08397204e-01  6.28974289e-02  1.64117351e-01  1.56740502e-01\n",
      "  2.02200532e-01  2.47411489e-01  3.57618891e-02  1.98830351e-01\n",
      "  1.45891443e-01  2.96253562e-01 -9.73171964e-02  1.30302817e-01\n",
      " -8.87823403e-02  4.22267258e-01 -4.92461771e-02  3.16892378e-02\n",
      " -3.67948920e-01  1.13461569e-01 -1.24796480e-01 -1.02042921e-01\n",
      " -2.22362839e-02  9.22890007e-02 -1.63477287e-01 -5.34230806e-02\n",
      "  2.12912291e-01  3.78843278e-01  6.03136539e-01  2.28614196e-01\n",
      " -2.93239594e-01  4.86264259e-01  2.27891207e-01  2.84550011e-01\n",
      "  2.66998619e-01  5.03064469e-02  1.02207087e-01 -3.47843498e-01\n",
      " -7.00318366e-02  1.23539716e-02 -3.76698673e-01  1.16790906e-01\n",
      "  9.38620687e-01 -2.34986573e-01  3.91405702e-01  1.46129169e-02\n",
      "  4.24840629e-01  1.20724794e-02  2.15592444e-01  4.20700833e-02\n",
      "  6.31056428e-01  1.37440801e-01  1.43592045e-01 -8.31040218e-02\n",
      " -2.47523412e-02 -3.74290407e-01 -1.44282773e-01 -5.21217585e-01\n",
      " -2.15299308e-01  8.48514959e-03 -3.69426072e-01  5.95633611e-02\n",
      "  1.55400068e-01 -3.39698017e-01  4.10355926e-02 -5.57390973e-02\n",
      " -2.47406840e-01  4.62631285e-01  1.33125201e-01 -2.38294564e-02\n",
      " -5.28412350e-02  2.22436130e-01  1.09785832e-01  2.79088140e-01\n",
      " -7.69621506e-02  1.07559271e-01 -2.01061130e-01  8.88202861e-02\n",
      " -2.43286327e-01 -4.66274694e-02 -2.33554393e-02  2.46486366e-01\n",
      " -3.38438600e-02  4.80387434e-02  9.98134911e-02  1.83699220e-01\n",
      "  4.65185255e-01 -8.07592690e-01 -5.13983592e-02 -2.87323952e-01\n",
      " -2.22840905e-03 -5.45344651e-01 -3.78750086e-01 -3.02269887e-02\n",
      "  7.81617872e-03 -3.53643954e-01  8.15192237e-03  2.09381804e-01\n",
      "  6.64374605e-02  1.07527517e-01  1.15952604e-01  4.18908447e-01\n",
      "  3.13927159e-02  1.86147198e-01  8.65930259e-01  1.88352525e-01\n",
      " -1.86982393e-01  7.24914819e-02  2.72233840e-02  4.22426879e-01\n",
      "  2.15778589e-01  2.02522948e-01  9.31480378e-02 -1.98837355e-01\n",
      " -1.07492507e-02  1.31165609e-01 -4.73575890e-02 -2.33311951e-01\n",
      " -3.96233022e-01 -2.77819127e-01  1.58382118e-01 -3.76355559e-01\n",
      " -1.89871565e-02 -4.61283088e-01 -1.31131977e-01 -2.07490817e-01\n",
      " -3.31514567e-01  2.96010852e-01  6.10865057e-02 -2.45275125e-01\n",
      "  3.60643119e-01 -7.55668432e-02 -4.52773459e-02  2.75369167e-01\n",
      "  2.15749756e-01  3.60136688e-01  1.96261793e-01 -2.18970865e-01\n",
      " -5.45474291e-02  3.29101384e-01  1.57646745e-01 -4.77644503e-01\n",
      "  1.23334616e-01 -1.98160186e-02 -1.37784287e-01  1.12354718e-01\n",
      "  8.05635452e-02 -7.23017901e-02 -4.93193045e-02  3.32524210e-01\n",
      "  4.93273288e-02 -1.19292587e-02 -9.79458272e-01  3.62942904e-01\n",
      "  1.21793963e-01 -4.61212128e-01  4.95034307e-01  2.68287241e-01\n",
      " -3.62305522e-01  4.51641262e-01  6.95197135e-02  4.07848656e-02\n",
      " -2.72412244e-02 -4.65531237e-02  5.56709208e-02  3.45139764e-02\n",
      "  9.09316763e-02  1.66407391e-01 -2.12189779e-02  1.27426416e-01\n",
      " -1.67221695e-01 -1.62978292e-01 -2.76960135e-01  4.66060013e-01\n",
      " -1.51225209e-01 -7.04062060e-02 -4.35935222e-02 -3.02680939e-01\n",
      " -2.05943763e-01  2.69074410e-01 -6.44345582e-02  1.00028172e-01\n",
      "  4.10279870e-01 -2.21248731e-01 -4.89409655e-01  2.06382185e-01\n",
      "  7.18685091e-02  1.74654275e-02 -1.66658983e-01 -2.03838319e-01\n",
      "  3.87090445e-01  3.04215521e-01  1.12863928e-02  2.35561818e-01\n",
      "  1.38045609e-01 -3.24169010e-01  5.07557571e-01  1.71206787e-01\n",
      " -3.01551163e-01  2.17989534e-02 -2.01038606e-02 -4.24468905e-01\n",
      " -2.76488900e-01 -2.35795513e-01 -1.66037619e-01 -5.70551865e-02\n",
      "  2.37105399e-01  2.97841996e-01 -7.84841478e-02 -5.14870957e-02\n",
      " -1.33413643e-01 -3.73556800e-02  3.00536275e-01 -1.62903711e-01\n",
      " -2.25263555e-02  3.51798803e-01 -2.99741834e-01 -3.24476540e-01\n",
      " -2.44181067e-01 -2.31979579e-01 -3.13058913e-01  2.71573782e-01\n",
      "  4.40441281e-01 -6.19420260e-02  9.43817943e-02  1.75749362e-02\n",
      " -5.24088144e-01  1.71084747e-01 -1.31588988e-02  1.33108646e-02\n",
      "  2.88755208e-01 -2.24956311e-05 -7.95354843e-02 -2.79484361e-01\n",
      " -1.33231550e-01 -9.84390303e-02  1.94281086e-01  6.60928488e-02\n",
      " -1.13312297e-01 -2.97500864e-02 -3.11745942e-01 -2.00660586e-01\n",
      " -5.55191338e-01 -3.78888905e-01  2.34000072e-01  4.97765839e-04\n",
      "  3.49175185e-01  1.41734481e-01  2.11838752e-01 -2.99863499e-02\n",
      " -9.23047662e-02 -7.36138076e-02  6.87922835e-02  3.10474992e-01\n",
      "  6.90128356e-02  5.32653555e-02  2.62486488e-02  3.36286247e-01\n",
      "  3.40541422e-01  1.21320501e-01 -3.99521708e-01 -2.49643594e-01\n",
      " -2.75344141e-02  3.21345955e-01 -1.51651353e-01 -2.44955868e-01\n",
      "  1.85231656e-01 -8.58018473e-02 -1.78656191e-01 -1.26721159e-01\n",
      "  2.64310193e+00  5.28632581e-01  1.09815501e-01  1.10062063e-01\n",
      "  3.53614628e-01  4.91851643e-02  8.16152766e-02 -4.10010815e-02\n",
      " -3.55643719e-01  2.75680512e-01  7.70824403e-02  2.67276149e-02\n",
      " -1.15609467e-01 -4.07233089e-02  2.89623797e-01 -3.21105346e-02\n",
      " -3.86839986e-01 -2.29756892e-01 -2.75729895e-01  1.00630540e-02\n",
      " -4.06972677e-01  3.41309011e-01  1.56641789e-02 -1.59073293e-01\n",
      "  2.04364866e-01  1.71998978e-01 -1.11634701e-01 -2.39097327e-01\n",
      "  9.38592851e-02 -4.43765409e-02 -3.38731706e-03  5.23269437e-02\n",
      "  4.46914919e-02  2.49730349e-01  4.44431484e-01  2.23721191e-01\n",
      "  6.80038482e-02 -2.92129338e-01 -1.19149797e-01  3.07373255e-01\n",
      " -1.25189975e-01 -1.64784491e-01  4.53380287e-01  9.47191268e-02\n",
      "  4.54619601e-02  2.75714725e-01 -1.35487974e-01 -2.95016885e-01\n",
      "  2.86716729e-01 -1.72373772e-01 -1.62749112e-01 -1.32551014e-01\n",
      " -2.05252230e-01 -2.68765360e-01 -1.86381400e-01 -1.30688787e-01\n",
      "  4.19203378e-03  6.88262582e-02 -2.24682838e-01  9.04477313e-02\n",
      "  4.46561724e-03 -3.27981487e-02  1.48335442e-01 -2.28129834e-01\n",
      "  6.61648586e-02  1.22682117e-02 -3.56373638e-01  2.41824538e-01\n",
      "  5.93122132e-02 -4.23975676e-01  3.95680040e-01  6.00508712e-02\n",
      "  2.15003580e-01  7.15879500e-02  7.38157704e-02 -2.81839371e-01\n",
      "  5.20088077e-02  1.26198366e-01  4.60992828e-02 -3.82527113e+00\n",
      "  1.16415456e-01  1.31605223e-01 -1.11786082e-01  5.08839190e-01\n",
      "  3.22617024e-01  1.55748889e-01 -1.80157516e-02  4.76462729e-02\n",
      " -2.46629879e-01  2.77269423e-01  2.36632749e-01  1.00058079e-01\n",
      "  4.29770559e-01 -2.78683692e-01  3.39881599e-01 -3.38253453e-02\n",
      " -2.86424816e-01 -5.79679608e-02 -8.16223696e-02  1.16285235e-02\n",
      " -9.41157341e-04 -3.52554768e-02  1.05247512e-01 -3.56075078e-01\n",
      "  3.81813914e-01  1.05970487e-01 -3.07355046e-01  2.15124041e-01\n",
      "  3.82509649e-01 -8.09808224e-02  1.80684835e-01  1.93608880e-01\n",
      "  4.66800034e-01 -3.13395113e-01 -2.14684337e-01 -3.89595330e-02\n",
      " -1.85189217e-01  3.55461061e-01  1.66590903e-02  5.57616502e-02\n",
      "  3.72784287e-01  9.71153527e-02 -2.11990774e-02 -3.20721529e-02\n",
      "  2.28288919e-01  1.48732781e-01 -3.79879802e-01  4.32913005e-01\n",
      " -3.03871125e-01 -3.86938959e-01  8.83706138e-02 -2.34808743e-01\n",
      " -1.94269866e-02  2.13848323e-01 -1.25482291e-01  7.77168572e-02\n",
      " -1.64217040e-01 -6.47669286e-03 -6.10214621e-02  1.20034672e-01\n",
      " -8.55845809e-02  2.28781357e-01  1.13052487e-01  7.87762552e-02\n",
      " -3.04909378e-01  8.88096839e-02 -1.30044043e-01  1.43494569e-02\n",
      " -7.98762068e-02 -6.79654479e-02 -3.59700844e-02  3.80869806e-01\n",
      "  1.99839100e-03 -6.32139221e-02  3.54727030e-01  3.79038453e-01\n",
      "  3.31213593e-01  1.79120228e-01  1.75763406e-02  4.31688190e-01\n",
      " -1.66469157e-01 -1.95170954e-01  9.86017287e-02  7.18509331e-02\n",
      " -9.20322418e+00 -3.14929783e-01 -3.61798376e-01 -4.37513217e-02\n",
      "  1.66921526e-01 -4.75565866e-02  1.77088022e-01  2.03223117e-02\n",
      " -2.36337855e-02  1.40782222e-01 -1.63059905e-02 -1.37062281e-01\n",
      " -1.89387441e-01 -1.42138258e-01  1.79446116e-01  3.42381746e-01]\n"
     ]
    }
   ],
   "source": [
    "# Print embedding for the word of interest 'chinese'\n",
    "\n",
    "print(f\"BERT embedding for 'chinese':\\n{bert_word_embeddings.get('chinese')}\")"
   ]
  },
  {
   "cell_type": "code",
   "execution_count": 12,
   "id": "9b7d2402",
   "metadata": {},
   "outputs": [
    {
     "name": "stdout",
     "output_type": "stream",
     "text": [
      "Top 10 most similar words to 'chinese':\n",
      "incompatible: 0.9546\n",
      "introduced: 0.9533\n",
      "internal: 0.9530\n",
      "peace: 0.9526\n",
      "employers: 0.9518\n",
      "lin: 0.9513\n",
      "statistics: 0.9510\n",
      "assessed: 0.9504\n",
      "natural: 0.9502\n",
      "treated: 0.9502\n"
     ]
    }
   ],
   "source": [
    "# Compute cosine similarity between all words with Chinese in the model\n",
    "from scipy.spatial.distance import cosine\n",
    "\n",
    "similarity_scores = {}\n",
    "\n",
    "for other_word in bert_word_embeddings.keys():\n",
    "    if other_word != \"chinese\":\n",
    "        similarity = 1 - cosine(bert_word_embeddings[\"chinese\"], bert_word_embeddings[other_word])\n",
    "        similarity_scores[other_word] = similarity\n",
    "\n",
    "# Sort by cosine similarity\n",
    "sorted_similarity = sorted(similarity_scores.items(), key=lambda x: x[1], reverse=True)\n",
    "\n",
    "# Print the top 10 most similar words\n",
    "print(\"Top 10 most similar words to 'chinese':\")\n",
    "for word, score in sorted_similarity[:10]:\n",
    "    print(f\"{word}: {score:.4f}\")"
   ]
  },
  {
   "cell_type": "code",
   "execution_count": 13,
   "id": "194ef04f",
   "metadata": {},
   "outputs": [],
   "source": [
    "# Generate a t-SNE plot for visualization\n",
    "from sklearn.manifold import TSNE\n",
    "tsne = TSNE(n_components=2, random_state=42)\n",
    "\n",
    "word_embeddings = np.array(list(bert_word_embeddings.values()))\n",
    "tsne_results = tsne.fit_transform(word_embeddings)"
   ]
  },
  {
   "cell_type": "code",
   "execution_count": 14,
   "id": "f996fd92",
   "metadata": {},
   "outputs": [
    {
     "name": "stderr",
     "output_type": "stream",
     "text": [
      "c:\\Users\\Kaiyan Zhang\\AppData\\Local\\Programs\\Python\\Python312\\Lib\\site-packages\\plotly\\express\\_core.py:1983: FutureWarning: When grouping with a length-1 list-like, you will need to pass a length-1 tuple to get_group in a future version of pandas. Pass `(name,)` instead of `name` to silence this warning.\n",
      "  sf: grouped.get_group(s if len(s) > 1 else s[0])\n"
     ]
    },
    {
     "data": {
      "application/vnd.plotly.v1+json": {
       "config": {
        "plotlyServerURL": "https://plot.ly"
       },
       "data": [
        {
         "customdata": [
          [
           "impose"
          ],
          [
           "less"
          ],
          [
           "distress"
          ],
          [
           "severn"
          ],
          [
           "jurisdictions"
          ],
          [
           "doing"
          ],
          [
           "soon"
          ],
          [
           "strong"
          ],
          [
           "intra"
          ],
          [
           "objection"
          ],
          [
           "enough"
          ],
          [
           "bounds"
          ],
          [
           "11"
          ],
          [
           "provisionsand"
          ],
          [
           "collection"
          ],
          [
           "s"
          ],
          [
           "information"
          ],
          [
           "merely"
          ],
          [
           "skilled"
          ],
          [
           "three"
          ],
          [
           "[MASK]"
          ],
          [
           "true"
          ],
          [
           "benefits"
          ],
          [
           "28"
          ],
          [
           "ports"
          ],
          [
           "tolerate"
          ],
          [
           "conclusive"
          ],
          [
           "1860"
          ],
          [
           "necessary"
          ],
          [
           "some"
          ],
          [
           "languishing"
          ],
          [
           "lawfully"
          ],
          [
           "collect"
          ],
          [
           "except"
          ],
          [
           "showed"
          ],
          [
           "j"
          ],
          [
           "designated"
          ],
          [
           "face"
          ],
          [
           "sum"
          ],
          [
           "been"
          ],
          [
           "included"
          ],
          [
           "lexington"
          ],
          [
           "our"
          ],
          [
           "subsist"
          ],
          [
           "issued"
          ],
          [
           "read"
          ],
          [
           "become"
          ],
          [
           "todd"
          ],
          [
           "schedule"
          ],
          [
           "dated"
          ],
          [
           "night"
          ],
          [
           "existing"
          ],
          [
           "works"
          ],
          [
           "since"
          ],
          [
           "delegates"
          ],
          [
           "foreigners"
          ],
          [
           "were"
          ],
          [
           "prosecution"
          ],
          [
           "permanent"
          ],
          [
           "associated"
          ],
          [
           "liberty"
          ],
          [
           "passing"
          ],
          [
           "kept"
          ],
          [
           "towithin"
          ],
          [
           "she"
          ],
          [
           "q"
          ],
          [
           "members"
          ],
          [
           "diminish"
          ],
          [
           "gr"
          ],
          [
           "higher"
          ],
          [
           "strongly"
          ],
          [
           "ominous"
          ],
          [
           "enacted"
          ],
          [
           "provinceabrogates"
          ],
          [
           "effect"
          ],
          [
           "district"
          ],
          [
           "element"
          ],
          [
           "foreign"
          ],
          [
           "new"
          ],
          [
           "obligations"
          ],
          [
           "parties"
          ],
          [
           "poll"
          ],
          [
           "proving"
          ],
          [
           "selborne"
          ],
          [
           "vol"
          ],
          [
           "impede"
          ],
          [
           "brunswick"
          ],
          [
           "bodies"
          ],
          [
           "19"
          ],
          [
           "imposition"
          ],
          [
           "1842"
          ],
          [
           "underlying"
          ],
          [
           "408"
          ],
          [
           "falsely"
          ],
          [
           "bar"
          ],
          [
           "upwards"
          ],
          [
           "teems"
          ],
          [
           "tai"
          ],
          [
           "parliament"
          ],
          [
           "greater"
          ],
          [
           "strangers"
          ],
          [
           "whose"
          ],
          [
           "premises"
          ],
          [
           "control"
          ],
          [
           "learned"
          ],
          [
           "legally"
          ],
          [
           "8"
          ],
          [
           "said"
          ],
          [
           "offender"
          ],
          [
           "leprohon"
          ],
          [
           "hitherto"
          ],
          [
           "say"
          ],
          [
           "washburn"
          ],
          [
           "lastly"
          ],
          [
           "severe"
          ],
          [
           "encounter"
          ],
          [
           "sanction"
          ],
          [
           "rid"
          ],
          [
           "flag"
          ],
          [
           "railway"
          ],
          [
           "touched"
          ],
          [
           "prosecutions"
          ],
          [
           "large"
          ],
          [
           "pc"
          ],
          [
           "numbers"
          ],
          [
           "enjoyment"
          ],
          [
           "exceeding"
          ],
          [
           "15th"
          ],
          [
           "perfect"
          ],
          [
           "lessening"
          ],
          [
           "ordinance"
          ],
          [
           "venture"
          ],
          [
           "nations"
          ],
          [
           "efforts"
          ],
          [
           "establishing"
          ],
          [
           "act"
          ],
          [
           "page"
          ],
          [
           "immediate"
          ],
          [
           "judges"
          ],
          [
           "held"
          ],
          [
           "appointment"
          ],
          [
           "issue"
          ],
          [
           "northwest"
          ],
          [
           "agency"
          ],
          [
           "delegation"
          ],
          [
           "chief"
          ],
          [
           "fourteen"
          ],
          [
           "appropriate"
          ],
          [
           "product"
          ],
          [
           "prescribed"
          ],
          [
           "decided"
          ],
          [
           "each"
          ],
          [
           "mr"
          ],
          [
           "other"
          ],
          [
           "consider"
          ],
          [
           "juxtaposition"
          ],
          [
           "sing"
          ],
          [
           "hundred"
          ],
          [
           "means"
          ],
          [
           "complaint"
          ],
          [
           "especially"
          ],
          [
           "until"
          ],
          [
           "numerous"
          ],
          [
           "regard"
          ],
          [
           "enactments"
          ],
          [
           "laws"
          ],
          [
           "review"
          ],
          [
           "qua"
          ],
          [
           "110000"
          ],
          [
           "concerned"
          ],
          [
           "transgression"
          ],
          [
           "hangs"
          ],
          [
           "14th"
          ],
          [
           "dollars"
          ],
          [
           "light"
          ],
          [
           "difficult"
          ],
          [
           "bylaws"
          ],
          [
           "introduced"
          ],
          [
           "communication"
          ],
          [
           "pecuniary"
          ],
          [
           "employ"
          ],
          [
           "validity"
          ],
          [
           "unconstitutional"
          ],
          [
           "permission"
          ],
          [
           "dominions"
          ],
          [
           "likewise"
          ],
          [
           "there"
          ],
          [
           "acta"
          ],
          [
           "1884"
          ],
          [
           "justice"
          ],
          [
           "proper"
          ],
          [
           "1843"
          ],
          [
           "gwynne"
          ],
          [
           "incidental"
          ],
          [
           "24"
          ],
          [
           "occupations"
          ],
          [
           "give"
          ],
          [
           "passage"
          ],
          [
           "list"
          ],
          [
           "applies"
          ],
          [
           "upon"
          ],
          [
           "take"
          ],
          [
           "whartons"
          ],
          [
           "race"
          ],
          [
           "exhaustive"
          ],
          [
           "deal"
          ],
          [
           "local"
          ],
          [
           "generally"
          ],
          [
           "particular"
          ],
          [
           "legislate"
          ],
          [
           "21st"
          ],
          [
           "secure"
          ],
          [
           "expired"
          ],
          [
           "vested"
          ],
          [
           "through"
          ],
          [
           "professors"
          ],
          [
           "conferred"
          ],
          [
           "courts"
          ],
          [
           "negotiate"
          ],
          [
           "repulsive"
          ],
          [
           "421"
          ],
          [
           "wanted"
          ],
          [
           "fourthlyas"
          ],
          [
           "expression"
          ],
          [
           "working"
          ],
          [
           "vain"
          ],
          [
           "346"
          ],
          [
           "won"
          ],
          [
           "important"
          ],
          [
           "lines"
          ],
          [
           "carried"
          ],
          [
           "sought"
          ],
          [
           "satisfactorily"
          ],
          [
           "employing"
          ],
          [
           "delegatus"
          ],
          [
           "1"
          ],
          [
           "five"
          ],
          [
           "if"
          ],
          [
           "18"
          ],
          [
           "taxation"
          ],
          [
           "might"
          ],
          [
           "omnipotent"
          ],
          [
           "will"
          ],
          [
           "celebrated"
          ],
          [
           "between"
          ],
          [
           "progresses"
          ],
          [
           "says"
          ],
          [
           "drive"
          ],
          [
           "solicitation"
          ],
          [
           "naturalization"
          ],
          [
           "acquire"
          ],
          [
           "fair"
          ],
          [
           "quite"
          ],
          [
           "gray"
          ],
          [
           "29"
          ],
          [
           "want"
          ],
          [
           "deemed"
          ],
          [
           "exemption"
          ],
          [
           "reproduced"
          ],
          [
           "amount"
          ],
          [
           "interprovincial"
          ],
          [
           "indirectly"
          ],
          [
           "can"
          ],
          [
           "almost"
          ],
          [
           "lord"
          ],
          [
           "enumerated"
          ],
          [
           "fills"
          ],
          [
           "purely"
          ],
          [
           "present"
          ],
          [
           "incalculable"
          ],
          [
           "maguire"
          ],
          [
           "sanctioned"
          ],
          [
           "license"
          ],
          [
           "illegality"
          ],
          [
           "12"
          ],
          [
           "fined"
          ],
          [
           "day"
          ],
          [
           "now"
          ],
          [
           "right"
          ],
          [
           "executive"
          ],
          [
           "those"
          ],
          [
           "recognize"
          ],
          [
           "case"
          ],
          [
           "132"
          ],
          [
           "he"
          ],
          [
           "common"
          ],
          [
           "come"
          ],
          [
           "payment"
          ],
          [
           "always"
          ],
          [
           "aliens"
          ],
          [
           "receive"
          ],
          [
           "directly"
          ],
          [
           "words"
          ],
          [
           "observes"
          ],
          [
           "goods"
          ],
          [
           "collector"
          ],
          [
           "too"
          ],
          [
           "no"
          ],
          [
           "hereto"
          ],
          [
           "tax"
          ],
          [
           "strictly"
          ],
          [
           "frenchmen"
          ],
          [
           "enacts"
          ],
          [
           "thereafter"
          ],
          [
           "82"
          ],
          [
           "extraordinary"
          ],
          [
           "getting"
          ],
          [
           "municipal"
          ],
          [
           "governments"
          ],
          [
           "pacific"
          ],
          [
           "remedies"
          ],
          [
           "correctness"
          ],
          [
           "incessant"
          ],
          [
           "manitobawhere"
          ],
          [
           "apportionment"
          ],
          [
           "carrying"
          ],
          [
           "especial"
          ],
          [
           "altogether"
          ],
          [
           "on"
          ],
          [
           "confirms"
          ],
          [
           "pretense"
          ],
          [
           "mans"
          ],
          [
           "derived"
          ],
          [
           "1884rather"
          ],
          [
           "contain"
          ],
          [
           "purpose"
          ],
          [
           "notably"
          ],
          [
           "1885"
          ],
          [
           "informant"
          ],
          [
           "appears"
          ],
          [
           "to"
          ],
          [
           "applied"
          ],
          [
           "paid"
          ],
          [
           "called"
          ],
          [
           "institution"
          ],
          [
           "drake"
          ],
          [
           "tolerated"
          ],
          [
           "effectually"
          ],
          [
           "amity"
          ],
          [
           "manifestly"
          ],
          [
           "stamp"
          ],
          [
           "method"
          ],
          [
           "into"
          ],
          [
           "464"
          ],
          [
           "passed"
          ],
          [
           "hand"
          ],
          [
           "conceded"
          ],
          [
           "being"
          ],
          [
           "clear"
          ],
          [
           "allow"
          ],
          [
           "labour"
          ],
          [
           "very"
          ],
          [
           "extreme"
          ],
          [
           "retained"
          ],
          [
           "somewhat"
          ],
          [
           "constitution"
          ],
          [
           "specially"
          ],
          [
           "20"
          ],
          [
           "special"
          ],
          [
           "incident"
          ],
          [
           "permissible"
          ],
          [
           "agents"
          ],
          [
           "regulation"
          ],
          [
           "further"
          ],
          [
           "referring"
          ],
          [
           "respects"
          ],
          [
           "occupied"
          ],
          [
           "objected"
          ],
          [
           "unheard"
          ],
          [
           "exceed"
          ],
          [
           "co"
          ],
          [
           "native"
          ],
          [
           "preceding"
          ],
          [
           "taxes"
          ],
          [
           "first"
          ],
          [
           "area"
          ],
          [
           "italians"
          ],
          [
           "invasions"
          ],
          [
           "5th"
          ],
          [
           "previous"
          ],
          [
           "entitled"
          ],
          [
           "penalties"
          ],
          [
           "freedom"
          ],
          [
           "reserved"
          ],
          [
           "disability"
          ],
          [
           "prepares"
          ],
          [
           "commercematters"
          ],
          [
           "entire"
          ],
          [
           "obtain"
          ],
          [
           "remain"
          ],
          [
           "certain"
          ],
          [
           "certiorari"
          ],
          [
           "829"
          ],
          [
           "hodge"
          ],
          [
           "past"
          ],
          [
           "more"
          ],
          [
           "showing"
          ],
          [
           "accuser"
          ],
          [
           "inherent"
          ],
          [
           "foreigner"
          ],
          [
           "hard"
          ],
          [
           "goes"
          ],
          [
           "varied"
          ],
          [
           "characteristic"
          ],
          [
           "argument"
          ],
          [
           "its"
          ],
          [
           "size"
          ],
          [
           "assent"
          ],
          [
           "dealt"
          ],
          [
           "at"
          ],
          [
           "does"
          ],
          [
           "every"
          ],
          [
           "conviction"
          ],
          [
           "subjected"
          ],
          [
           "use"
          ],
          [
           "powers"
          ],
          [
           "citizens"
          ],
          [
           "wing"
          ],
          [
           "encourage"
          ],
          [
           "furnish"
          ],
          [
           "thereunder"
          ],
          [
           "conflict"
          ],
          [
           "appealed"
          ],
          [
           "operation"
          ],
          [
           "easily"
          ],
          [
           "statistics"
          ],
          [
           "branches"
          ],
          [
           "name"
          ],
          [
           "legislation"
          ],
          [
           "protect"
          ],
          [
           "alleged"
          ],
          [
           "imposing"
          ],
          [
           "not"
          ],
          [
           "engages"
          ],
          [
           "collectors"
          ],
          [
           "mises"
          ],
          [
           "equal"
          ],
          [
           "reviewed"
          ],
          [
           "defendant"
          ],
          [
           "annoying"
          ],
          [
           "former"
          ],
          [
           "declared"
          ],
          [
           "calendar"
          ],
          [
           "subsection"
          ],
          [
           "precedent"
          ],
          [
           "plenary"
          ],
          [
           "branch"
          ],
          [
           "liabilities"
          ],
          [
           "pre"
          ],
          [
           "man"
          ],
          [
           "ie"
          ],
          [
           "ambassadors"
          ],
          [
           "bayonet"
          ],
          [
           "14"
          ],
          [
           "candle"
          ],
          [
           "affect"
          ],
          [
           "fact"
          ],
          [
           "uniform"
          ],
          [
           "therein"
          ],
          [
           "callings"
          ],
          [
           "hot"
          ],
          [
           "which"
          ],
          [
           "adjudge"
          ],
          [
           "merits"
          ],
          [
           "jurisdiction"
          ],
          [
           "fitting"
          ],
          [
           "quash"
          ],
          [
           "imperial"
          ],
          [
           "fortiori"
          ],
          [
           "rest"
          ],
          [
           "her"
          ],
          [
           "runs"
          ],
          [
           "with"
          ],
          [
           "16"
          ],
          [
           "parliamentary"
          ],
          [
           "legitimate"
          ],
          [
           "accordingly"
          ],
          [
           "presumption"
          ],
          [
           "cease"
          ],
          [
           "such"
          ],
          [
           "limitations"
          ],
          [
           "degree"
          ],
          [
           "elaborate"
          ],
          [
           "92alienstrade"
          ],
          [
           "possessesits"
          ],
          [
           "lexicon"
          ],
          [
           "instead"
          ],
          [
           "did"
          ],
          [
           "impost"
          ],
          [
           "them"
          ],
          [
           "bill"
          ],
          [
           "restriction"
          ],
          [
           "wellknown"
          ],
          [
           "his"
          ],
          [
           "born"
          ],
          [
           "unto"
          ],
          [
           "burlingame"
          ],
          [
           "forty"
          ],
          [
           "appellants"
          ],
          [
           "persons"
          ],
          [
           "multitude"
          ],
          [
           "customs"
          ],
          [
           "public"
          ],
          [
           "things"
          ],
          [
           "whites"
          ],
          [
           "pursuit"
          ],
          [
           "particularized"
          ],
          [
           "notice"
          ],
          [
           "oppression"
          ],
          [
           "imprisoned"
          ],
          [
           "stated"
          ],
          [
           "chattels"
          ],
          [
           "cherished"
          ],
          [
           "intercourse"
          ],
          [
           "intimated"
          ],
          [
           "lr"
          ],
          [
           "having"
          ],
          [
           "obtained"
          ],
          [
           "artists"
          ],
          [
           "534"
          ],
          [
           "consumer"
          ],
          [
           "intent"
          ],
          [
           "occupation"
          ],
          [
           "everywhere"
          ],
          [
           "title"
          ],
          [
           "still"
          ],
          [
           "all"
          ],
          [
           "dow"
          ],
          [
           "party"
          ],
          [
           "avoid"
          ],
          [
           "again"
          ],
          [
           "334"
          ],
          [
           "correct"
          ],
          [
           "definition"
          ],
          [
           "province"
          ],
          [
           "brought"
          ],
          [
           "providing"
          ],
          [
           "governing"
          ],
          [
           "outcry"
          ],
          [
           "restraint"
          ],
          [
           "run"
          ],
          [
           "cal"
          ],
          [
           "sessional"
          ],
          [
           "requested"
          ],
          [
           "under"
          ],
          [
           "certiorarichinese"
          ],
          [
           "hannays"
          ],
          [
           "respective"
          ],
          [
           "what"
          ],
          [
           "authorities"
          ],
          [
           "protected"
          ],
          [
           "trade"
          ],
          [
           "old"
          ],
          [
           "exclusively"
          ],
          [
           "dwarris"
          ],
          [
           "subject"
          ],
          [
           "declares"
          ],
          [
           "deciding"
          ],
          [
           "delin"
          ],
          [
           "stringent"
          ],
          [
           "mode"
          ],
          [
           "appeared"
          ],
          [
           "immediately"
          ],
          [
           "male"
          ],
          [
           "relations"
          ],
          [
           "spoken"
          ],
          [
           "contravening"
          ],
          [
           "was"
          ],
          [
           "fee"
          ],
          [
           "union"
          ],
          [
           "us"
          ],
          [
           "engagements"
          ],
          [
           "court"
          ],
          [
           "suited"
          ],
          [
           "only"
          ],
          [
           "both"
          ],
          [
           "bench"
          ],
          [
           "parts"
          ],
          [
           "decide"
          ],
          [
           "persecuted"
          ],
          [
           "2nd"
          ],
          [
           "cropping"
          ],
          [
           "once"
          ],
          [
           "forbidding"
          ],
          [
           "fully"
          ],
          [
           "fails"
          ],
          [
           "natural"
          ],
          [
           "month"
          ],
          [
           "penalty"
          ],
          [
           "miners"
          ],
          [
           "taking"
          ],
          [
           "opponents"
          ],
          [
           "must"
          ],
          [
           "determining"
          ],
          [
           "consequently"
          ],
          [
           "sufficient"
          ],
          [
           "386"
          ],
          [
           "in"
          ],
          [
           "abridged"
          ],
          [
           "female"
          ],
          [
           "labourers"
          ],
          [
           "provincial"
          ],
          [
           "support"
          ],
          [
           "time"
          ],
          [
           "saying"
          ],
          [
           "gives"
          ],
          [
           "counsel"
          ],
          [
           "stat"
          ],
          [
           "70"
          ],
          [
           "regards"
          ],
          [
           "expenses"
          ],
          [
           "simile"
          ],
          [
           "loss"
          ],
          [
           "cottage"
          ],
          [
           "ample"
          ],
          [
           "ed"
          ],
          [
           "excessive"
          ],
          [
           "obiter"
          ],
          [
           "dependencies"
          ],
          [
           "therefore"
          ],
          [
           "lordships"
          ],
          [
           "place"
          ],
          [
           "c"
          ],
          [
           "wisdom"
          ],
          [
           "visitors"
          ],
          [
           "benefit"
          ],
          [
           "correctly"
          ],
          [
           "22"
          ],
          [
           "sovereign"
          ],
          [
           "room"
          ],
          [
           "legal"
          ],
          [
           "extends"
          ],
          [
           "purport"
          ],
          [
           "vattell"
          ],
          [
           "founded"
          ],
          [
           "something"
          ],
          [
           "disobeying"
          ],
          [
           "could"
          ],
          [
           "practically"
          ],
          [
           "conscientious"
          ],
          [
           "habitual"
          ],
          [
           "city"
          ],
          [
           "bearing"
          ],
          [
           "assessed"
          ],
          [
           "mcquillan"
          ],
          [
           "makes"
          ],
          [
           "came"
          ],
          [
           "question"
          ],
          [
           "people"
          ],
          [
           "described"
          ],
          [
           "per"
          ],
          [
           "5"
          ],
          [
           "make"
          ],
          [
           "maintained"
          ],
          [
           "summons"
          ],
          [
           "october"
          ],
          [
           "powell"
          ],
          [
           "thirdlythe"
          ],
          [
           "so"
          ],
          [
           "duty"
          ],
          [
           "expressly"
          ],
          [
           "advantage"
          ],
          [
           "americans"
          ],
          [
           "insurance"
          ],
          [
           "distance"
          ],
          [
           "legislative"
          ],
          [
           "respect"
          ],
          [
           "25"
          ],
          [
           "jacques"
          ],
          [
           "federation"
          ],
          [
           "4th"
          ],
          [
           "proof"
          ],
          [
           "united"
          ],
          [
           "coloured"
          ],
          [
           "security"
          ],
          [
           "starts"
          ],
          [
           "principiinot"
          ],
          [
           "p"
          ],
          [
           "observe"
          ],
          [
           "him"
          ],
          [
           "prohibit"
          ],
          [
           "secondlytrade"
          ],
          [
           "absolutely"
          ],
          [
           "analogy"
          ],
          [
           "proved"
          ],
          [
           "where"
          ],
          [
           "1885crease"
          ],
          [
           "last"
          ],
          [
           "paying"
          ],
          [
           "include"
          ],
          [
           "amended"
          ],
          [
           "confederation"
          ],
          [
           "habits"
          ],
          [
           "acquiring"
          ],
          [
           "issuing"
          ],
          [
           "commentaries"
          ],
          [
           "country"
          ],
          [
           "affixed"
          ],
          [
           "21"
          ],
          [
           "sanitary"
          ],
          [
           "direct"
          ],
          [
           "extent"
          ],
          [
           "excess"
          ],
          [
           "during"
          ],
          [
           "distinction"
          ],
          [
           "driven"
          ],
          [
           "insisted"
          ],
          [
           "afterwards"
          ],
          [
           "st"
          ],
          [
           "interferes"
          ],
          [
           "potters"
          ],
          [
           "put"
          ],
          [
           "enter"
          ],
          [
           "unduly"
          ],
          [
           "like"
          ],
          [
           "shoulders"
          ],
          [
           "deterrent"
          ],
          [
           "seaboard"
          ],
          [
           "indeed"
          ],
          [
           "power"
          ],
          [
           "return"
          ],
          [
           "exclusion"
          ],
          [
           "made"
          ],
          [
           "receipt"
          ],
          [
           "lawabiding"
          ],
          [
           "delinquent"
          ],
          [
           "thus"
          ],
          [
           "has"
          ],
          [
           "acted"
          ],
          [
           "found"
          ],
          [
           "delegare"
          ],
          [
           "sister"
          ],
          [
           "several"
          ],
          [
           "enforcing"
          ],
          [
           "instance"
          ],
          [
           "exercise"
          ],
          [
           "kents"
          ],
          [
           "arrive"
          ],
          [
           "idea"
          ],
          [
           "failing"
          ],
          [
           "july"
          ],
          [
           "affecting"
          ],
          [
           "indirect"
          ],
          [
           "904"
          ],
          [
           "another"
          ],
          [
           "injury"
          ],
          [
           "differential"
          ],
          [
           "touches"
          ],
          [
           "great"
          ],
          [
           "sale"
          ],
          [
           "though"
          ],
          [
           "alone"
          ],
          [
           "reports"
          ],
          [
           "immigration"
          ],
          [
           "payments"
          ],
          [
           "summarily"
          ],
          [
           "destroyed"
          ],
          [
           "dwellings"
          ],
          [
           "men"
          ],
          [
           "employer"
          ],
          [
           "within"
          ],
          [
           "mining"
          ],
          [
           "do"
          ],
          [
           "8th"
          ],
          [
           "apart"
          ],
          [
           "conversant"
          ],
          [
           "ultra"
          ],
          [
           "26th"
          ],
          [
           "magistrate"
          ],
          [
           "transparent"
          ],
          [
           "548"
          ],
          [
           "landing"
          ],
          [
           "compelled"
          ],
          [
           "summary"
          ],
          [
           "against"
          ],
          [
           "may"
          ],
          [
           "let"
          ],
          [
           "moment"
          ],
          [
           "plenitude"
          ],
          [
           "enquirywhich"
          ],
          [
           "constitutional"
          ],
          [
           "restrictive"
          ],
          [
           "n"
          ],
          [
           "revealed"
          ],
          [
           "assembly"
          ],
          [
           "person"
          ],
          [
           "acknowledged"
          ],
          [
           "form"
          ],
          [
           "reasons"
          ],
          [
           "payable"
          ],
          [
           "possession"
          ],
          [
           "raise"
          ],
          [
           "fifthlywhether"
          ],
          [
           "restricting"
          ],
          [
           "slept"
          ],
          [
           "levy"
          ],
          [
           "enforced"
          ],
          [
           "far"
          ],
          [
           "june"
          ],
          [
           "wilfully"
          ],
          [
           "acting"
          ],
          [
           "decision"
          ],
          [
           "because"
          ],
          [
           "tion"
          ],
          [
           "raising"
          ],
          [
           "knew"
          ],
          [
           "shown"
          ],
          [
           "travellers"
          ],
          [
           "commission"
          ],
          [
           "determined"
          ],
          [
           "occupy"
          ],
          [
           "priceless"
          ],
          [
           "exception"
          ],
          [
           "arguments"
          ],
          [
           "annual"
          ],
          [
           "deliver"
          ],
          [
           "importance"
          ],
          [
           "occupies"
          ],
          [
           "life"
          ],
          [
           "close"
          ],
          [
           "recovered"
          ],
          [
           "language"
          ],
          [
           "superior"
          ],
          [
           "extenso"
          ],
          [
           "contracting"
          ],
          [
           "by"
          ],
          [
           "chongthe"
          ],
          [
           "judge"
          ],
          [
           "themselves"
          ],
          [
           "others"
          ],
          [
           "citizenfor"
          ],
          [
           "exhumation"
          ],
          [
           "lunion"
          ],
          [
           "destroy"
          ],
          [
           "you"
          ],
          [
           "13"
          ],
          [
           "consequences"
          ],
          [
           "licence"
          ],
          [
           "abate"
          ],
          [
           "field"
          ],
          [
           "nothing"
          ],
          [
           "interpretation"
          ],
          [
           "exclusive"
          ],
          [
           "already"
          ],
          [
           "cognizance"
          ],
          [
           "appellant"
          ],
          [
           "itcooley"
          ],
          [
           "i"
          ],
          [
           "go"
          ],
          [
           "tables"
          ],
          [
           "concurrent"
          ],
          [
           "expenditure"
          ],
          [
           "pay"
          ],
          [
           "freely"
          ],
          [
           "service"
          ],
          [
           "over"
          ],
          [
           "internal"
          ],
          [
           "regulations"
          ],
          [
           "drawn"
          ],
          [
           "preserve"
          ],
          [
           "gilbert"
          ],
          [
           "reverses"
          ],
          [
           "cas"
          ],
          [
           "gradually"
          ],
          [
           "inhabitants"
          ],
          [
           "cited"
          ],
          [
           "illegal"
          ],
          [
           "measure"
          ],
          [
           "grounds"
          ],
          [
           "guiding"
          ],
          [
           "sedgwick"
          ],
          [
           "50"
          ],
          [
           "purposes"
          ],
          [
           "set"
          ],
          [
           "species"
          ],
          [
           "create"
          ],
          [
           "reference"
          ],
          [
           "looks"
          ],
          [
           "popular"
          ],
          [
           "induced"
          ],
          [
           "formed"
          ],
          [
           "render"
          ],
          [
           "that"
          ],
          [
           "apparent"
          ],
          [
           "from"
          ],
          [
           "cause"
          ],
          [
           "probandi"
          ],
          [
           "addition"
          ],
          [
           "opinion"
          ],
          [
           "apparently"
          ],
          [
           "neither"
          ],
          [
           "convicted"
          ],
          [
           "federal"
          ],
          [
           "legislature"
          ],
          [
           "this"
          ],
          [
           "366"
          ],
          [
           "costs"
          ],
          [
           "temporary"
          ],
          [
           "constantly"
          ],
          [
           "rules"
          ],
          [
           "states"
          ],
          [
           "after"
          ],
          [
           "wherein"
          ],
          [
           "effective"
          ],
          [
           "various"
          ],
          [
           "russell"
          ],
          [
           "successors"
          ],
          [
           "continued"
          ],
          [
           "object"
          ],
          [
           "help"
          ],
          [
           "how"
          ],
          [
           "1878"
          ],
          [
           "replythe"
          ],
          [
           "carry"
          ],
          [
           "palpable"
          ],
          [
           "of"
          ],
          [
           "knowing"
          ],
          [
           "free"
          ],
          [
           "discrimination"
          ],
          [
           "thereof"
          ],
          [
           "necessarily"
          ],
          [
           "recently"
          ],
          [
           "enquiry"
          ],
          [
           "require"
          ],
          [
           "bestow"
          ],
          [
           "tendency"
          ],
          [
           "reciprocal"
          ],
          [
           "countries"
          ],
          [
           "secretary"
          ],
          [
           "relative"
          ],
          [
           "questions"
          ],
          [
           "certificate"
          ],
          [
           "3rd"
          ],
          [
           "side"
          ],
          [
           "inequality"
          ],
          [
           "clauses"
          ],
          [
           "years"
          ],
          [
           "gauge"
          ],
          [
           "preamble"
          ],
          [
           "sound"
          ],
          [
           "servant"
          ],
          [
           "full"
          ],
          [
           "burden"
          ],
          [
           "whom"
          ],
          [
           "encroach"
          ],
          [
           "buildings"
          ],
          [
           "contribute"
          ],
          [
           "knowingly"
          ],
          [
           "burdened"
          ],
          [
           "sin"
          ],
          [
           "circumstances"
          ],
          [
           "following"
          ],
          [
           "hong"
          ],
          [
           "continually"
          ],
          [
           "manner"
          ],
          [
           "point"
          ],
          [
           "distinctionmust"
          ],
          [
           "potest"
          ],
          [
           "dealing"
          ],
          [
           "directed"
          ],
          [
           "authority"
          ],
          [
           "excuse"
          ],
          [
           "value"
          ],
          [
           "nature"
          ],
          [
           "an"
          ],
          [
           "interfered"
          ],
          [
           "pronouncing"
          ],
          [
           "successful"
          ],
          [
           "limits"
          ],
          [
           "danger"
          ],
          [
           "1st"
          ],
          [
           "find"
          ],
          [
           "35"
          ],
          [
           "allowed"
          ],
          [
           "look"
          ],
          [
           "contention"
          ],
          [
           "cooley"
          ],
          [
           "exercised"
          ],
          [
           "enforce"
          ],
          [
           "protection"
          ],
          [
           "plainly"
          ],
          [
           "1858"
          ],
          [
           "provide"
          ],
          [
           "here"
          ],
          [
           "writ"
          ],
          [
           "prevent"
          ],
          [
           "licensea"
          ],
          [
           "quent"
          ],
          [
           "body"
          ],
          [
           "equality"
          ],
          [
           "discriminate"
          ],
          [
           "388"
          ],
          [
           "clashes"
          ],
          [
           "employé"
          ],
          [
           "17"
          ],
          [
           "towards"
          ],
          [
           "august"
          ],
          [
           "empty"
          ],
          [
           "argued"
          ],
          [
           "shall"
          ],
          [
           "decisions"
          ],
          [
           "lin"
          ],
          [
           "advanced"
          ],
          [
           "apply"
          ],
          [
           "non"
          ],
          [
           "v"
          ],
          [
           "126128"
          ],
          [
           "depart"
          ],
          [
           "shifted"
          ],
          [
           "undesirable"
          ],
          [
           "forfeit"
          ],
          [
           "construction"
          ],
          [
           "council"
          ],
          [
           "instanced"
          ],
          [
           "officer"
          ],
          [
           "dicta"
          ],
          [
           "franchise"
          ],
          [
           "provision"
          ],
          [
           "carries"
          ],
          [
           "dictum"
          ],
          [
           "admits"
          ],
          [
           "undue"
          ],
          [
           "rule"
          ],
          [
           "consideration"
          ],
          [
           "rendered"
          ],
          [
           "any"
          ],
          [
           "reasonable"
          ],
          [
           "b"
          ],
          [
           "default"
          ],
          [
           "required"
          ],
          [
           "chandler"
          ],
          [
           "contend"
          ],
          [
           "growing"
          ],
          [
           "tribunal"
          ],
          [
           "copies"
          ],
          [
           "used"
          ],
          [
           "belisle"
          ],
          [
           "seizure"
          ],
          [
           "dead"
          ],
          [
           "arbitrary"
          ],
          [
           "employed"
          ],
          [
           "just"
          ],
          [
           "convictions"
          ],
          [
           "papers"
          ],
          [
           "commerce"
          ],
          [
           "provisions"
          ],
          [
           "privy"
          ],
          [
           "origin"
          ],
          [
           "2"
          ],
          [
           "lieu"
          ],
          [
           "graveyards"
          ],
          [
           "impossible"
          ],
          [
           "merchants"
          ],
          [
           "forefathersthat"
          ],
          [
           "risk"
          ],
          [
           "tests"
          ],
          [
           "follow"
          ],
          [
           "23rd"
          ],
          [
           "discriminations"
          ],
          [
           "word"
          ],
          [
           "today"
          ],
          [
           "a"
          ],
          [
           "remarks"
          ],
          [
           "desecrators"
          ],
          [
           "goodhue"
          ],
          [
           "proposition"
          ],
          [
           "reed"
          ],
          [
           "indictment"
          ],
          [
           "6267"
          ],
          [
           "their"
          ],
          [
           "defined"
          ],
          [
           "turn"
          ],
          [
           "dec"
          ],
          [
           "own"
          ],
          [
           "scope"
          ],
          [
           "julyon"
          ],
          [
           "convenience"
          ],
          [
           "otherwise"
          ],
          [
           "qb"
          ],
          [
           "coming"
          ],
          [
           "exceeds"
          ],
          [
           "one"
          ],
          [
           "sex"
          ],
          [
           "territory"
          ],
          [
           "axiom"
          ],
          [
           "pass"
          ],
          [
           "closing"
          ],
          [
           "intended"
          ],
          [
           "hesitation"
          ],
          [
           "dollar"
          ],
          [
           "political"
          ],
          [
           "business"
          ],
          [
           "221"
          ],
          [
           "charge"
          ],
          [
           "governorgeneral"
          ],
          [
           "equivalent"
          ],
          [
           "lawful"
          ],
          [
           "imprisonment"
          ],
          [
           "limitation"
          ],
          [
           "basis"
          ],
          [
           "9"
          ],
          [
           "impression"
          ],
          [
           "empowered"
          ],
          [
           "579"
          ],
          [
           "unmolested"
          ],
          [
           "compel"
          ],
          [
           "even"
          ],
          [
           "kind"
          ],
          [
           "interfering"
          ],
          [
           "for"
          ],
          [
           "confronted"
          ],
          [
           "owner"
          ],
          [
           "amends"
          ],
          [
           "according"
          ],
          [
           "unlawful"
          ],
          [
           "due"
          ],
          [
           "live"
          ],
          [
           "proportion"
          ],
          [
           "parents"
          ],
          [
           "add"
          ],
          [
           "lost"
          ],
          [
           "quoted"
          ],
          [
           "performing"
          ],
          [
           "25th"
          ],
          [
           "experience"
          ],
          [
           "down"
          ],
          [
           "well"
          ],
          [
           "law"
          ],
          [
           "applicable"
          ],
          [
           "treaty"
          ],
          [
           "emergencies"
          ],
          [
           "community"
          ],
          [
           "mousseau"
          ],
          [
           "regulate"
          ],
          [
           "north"
          ],
          [
           "revision"
          ],
          [
           "given"
          ],
          [
           "supreme"
          ],
          [
           "when"
          ],
          [
           "provincesay"
          ],
          [
           "although"
          ],
          [
           "diminishing"
          ],
          [
           "comparing"
          ],
          [
           "innocence"
          ],
          [
           "unless"
          ],
          [
           "restrained"
          ],
          [
           "allows"
          ],
          [
           "prohibiting"
          ],
          [
           "81st"
          ],
          [
           "edwin"
          ],
          [
           "appeal"
          ],
          [
           "medical"
          ],
          [
           "relating"
          ],
          [
           "naturalized"
          ],
          [
           "express"
          ],
          [
           "esquire"
          ],
          [
           "dues"
          ],
          [
           "end"
          ],
          [
           "is"
          ],
          [
           "exist"
          ],
          [
           "enjoyed"
          ],
          [
           "statement"
          ],
          [
           "91st"
          ],
          [
           "itself"
          ],
          [
           "police"
          ],
          [
           "whereby"
          ],
          [
           "putting"
          ],
          [
           "sothrows"
          ],
          [
           "principles"
          ],
          [
           "calculated"
          ],
          [
           "state"
          ],
          [
           "vires"
          ],
          [
           "apollo"
          ],
          [
           "beyond"
          ],
          [
           "seen"
          ],
          [
           "ont"
          ],
          [
           "conditions"
          ],
          [
           "period"
          ],
          [
           "imposed"
          ],
          [
           "victoria"
          ],
          [
           "majesty"
          ],
          [
           "otherscooleys"
          ],
          [
           "assessments"
          ],
          [
           "statute"
          ],
          [
           "reg"
          ],
          [
           "interference"
          ],
          [
           "had"
          ],
          [
           "age"
          ],
          [
           "least"
          ],
          [
           "chong"
          ],
          [
           "ascertain"
          ],
          [
           "part"
          ],
          [
           "september"
          ],
          [
           "empire"
          ],
          [
           "elevated"
          ],
          [
           "up"
          ],
          [
           "long"
          ],
          [
           "pronounce"
          ],
          [
           "parsons"
          ],
          [
           "unusual"
          ],
          [
           "mean"
          ],
          [
           "cooleys"
          ],
          [
           "discourage"
          ],
          [
           "latter"
          ],
          [
           "cap"
          ],
          [
           "15"
          ],
          [
           "expel"
          ],
          [
           "government"
          ],
          [
           "void"
          ],
          [
           "colonies"
          ],
          [
           "course"
          ],
          [
           "meet"
          ],
          [
           "possess"
          ],
          [
           "4"
          ],
          [
           "incompatible"
          ],
          [
           "considered"
          ],
          [
           "defines"
          ],
          [
           "becomes"
          ],
          [
           "commercetaxation"
          ],
          [
           "off"
          ],
          [
           "surrendered"
          ],
          [
           "treaties"
          ],
          [
           "ritchie"
          ],
          [
           "kong"
          ],
          [
           "money"
          ],
          [
           "england"
          ],
          [
           "same"
          ],
          [
           "creation"
          ],
          [
           "it"
          ],
          [
           "california"
          ],
          [
           "have"
          ],
          [
           "regina"
          ],
          [
           "the"
          ],
          [
           "cut"
          ],
          [
           "478"
          ],
          [
           "most"
          ],
          [
           "mention"
          ],
          [
           "attacked"
          ],
          [
           "40"
          ],
          [
           "159"
          ],
          [
           "regulated"
          ],
          [
           "burah"
          ],
          [
           "determine"
          ],
          [
           "guilty"
          ],
          [
           "raised"
          ],
          [
           "reversed"
          ],
          [
           "insistedthat"
          ],
          [
           "respectively"
          ],
          [
           "measures"
          ],
          [
           "premiss"
          ],
          [
           "ratified"
          ],
          [
           "consuls"
          ],
          [
           "92"
          ],
          [
           "done"
          ],
          [
           "invalid"
          ],
          [
           "transacted"
          ],
          [
           "be"
          ],
          [
           "claims"
          ],
          [
           "different"
          ],
          [
           "permitted"
          ],
          [
           "31"
          ],
          [
           "judgment"
          ],
          [
           "also"
          ],
          [
           "safeguards"
          ],
          [
           "nonproduction"
          ],
          [
           "observations"
          ],
          [
           "productive"
          ],
          [
           "order"
          ],
          [
           "recital"
          ],
          [
           "points"
          ],
          [
           "personal"
          ],
          [
           "individuals"
          ],
          [
           "affairs"
          ],
          [
           "ten"
          ],
          [
           "annoyance"
          ],
          [
           "27"
          ],
          [
           "fac"
          ],
          [
           "places"
          ],
          [
           "taxed"
          ],
          [
           "infraction"
          ],
          [
           "exempt"
          ],
          [
           "two"
          ],
          [
           "resolutions"
          ],
          [
           "prepare"
          ],
          [
           "disallowed"
          ],
          [
           "legislating"
          ],
          [
           "residents"
          ],
          [
           "deals"
          ],
          [
           "we"
          ],
          [
           "queen"
          ],
          [
           "call"
          ],
          [
           "bristles"
          ],
          [
           "108"
          ],
          [
           "twenty"
          ],
          [
           "autonomous"
          ],
          [
           "international"
          ],
          [
           "see"
          ],
          [
           "lend"
          ],
          [
           "taxing"
          ],
          [
           "expands"
          ],
          [
           "better"
          ],
          [
           "as"
          ],
          [
           "equally"
          ],
          [
           "impaired"
          ],
          [
           "months"
          ],
          [
           "parrott"
          ],
          [
           "l"
          ],
          [
           "and"
          ],
          [
           "contending"
          ],
          [
           "before"
          ],
          [
           "author"
          ],
          [
           "levelled"
          ],
          [
           "masters"
          ],
          [
           "taught"
          ],
          [
           "settlement"
          ],
          [
           "character"
          ],
          [
           "crease"
          ],
          [
           "objects"
          ],
          [
           "certainly"
          ],
          [
           "91"
          ],
          [
           "dissenting"
          ],
          [
           "treasury"
          ],
          [
           "23"
          ],
          [
           "population"
          ],
          [
           "unnecessary"
          ],
          [
           "alarm"
          ],
          [
           "terms"
          ],
          [
           "5constitutionalitybna"
          ],
          [
           "6"
          ],
          [
           "tiburcio"
          ],
          [
           "elgins"
          ],
          [
           "authenticated"
          ],
          [
           "desecration"
          ],
          [
           "lands"
          ],
          [
           "alien"
          ],
          [
           "dissimilar"
          ],
          [
           "similar"
          ],
          [
           "section"
          ],
          [
           "casual"
          ],
          [
           "applying"
          ],
          [
           "supported"
          ],
          [
           "mere"
          ],
          [
           "later"
          ],
          [
           "mentioned"
          ],
          [
           "these"
          ],
          [
           "think"
          ],
          [
           "confide"
          ],
          [
           "imposes"
          ],
          [
           "away"
          ],
          [
           "defeat"
          ],
          [
           "ss"
          ],
          [
           "invariable"
          ],
          [
           "irrespective"
          ],
          [
           "settled"
          ],
          [
           "quashed"
          ],
          [
           "pp"
          ],
          [
           "10"
          ],
          [
           "than"
          ],
          [
           "legality"
          ],
          [
           "satisfaction"
          ],
          [
           "subversive"
          ],
          [
           "sense"
          ],
          [
           "3"
          ],
          [
           "who"
          ],
          [
           "number"
          ],
          [
           "invidious"
          ],
          [
           "hertslet"
          ],
          [
           "enact"
          ],
          [
           "concluding"
          ],
          [
           "30"
          ],
          [
           "356"
          ],
          [
           "accused"
          ],
          [
           "dominion"
          ],
          [
           "unsuited"
          ],
          [
           "232"
          ],
          [
           "sociis"
          ],
          [
           "interfere"
          ],
          [
           "418"
          ],
          [
           "ottawa"
          ],
          [
           "residing"
          ],
          [
           "besides"
          ],
          [
           "lieutenantgovernor"
          ],
          [
           "policy"
          ],
          [
           "matter"
          ],
          [
           "highest"
          ],
          [
           "peace"
          ],
          [
           "follows"
          ],
          [
           "bind"
          ],
          [
           "frequents"
          ],
          [
           "provided"
          ],
          [
           "fiscal"
          ],
          [
           "received"
          ],
          [
           "habitually"
          ],
          [
           "irrefragable"
          ],
          [
           "general"
          ],
          [
           "class"
          ],
          [
           "way"
          ],
          [
           "reside"
          ],
          [
           "or"
          ],
          [
           "272"
          ],
          [
           "classes"
          ],
          [
           "501"
          ],
          [
           "whitesuseless"
          ],
          [
           "employment"
          ],
          [
           "3with"
          ],
          [
           "saysit"
          ],
          [
           "throughout"
          ],
          [
           "incidentally"
          ],
          [
           "observer"
          ],
          [
           "forced"
          ],
          [
           "supposing"
          ],
          [
           "1500000"
          ],
          [
           "aforesaid"
          ],
          [
           "produced"
          ],
          [
           "ordinarily"
          ],
          [
           "year"
          ],
          [
           "ordinary"
          ],
          [
           "dissented"
          ],
          [
           "exactness"
          ],
          [
           "asserted"
          ],
          [
           "jointly"
          ],
          [
           "bear"
          ],
          [
           "liable"
          ],
          [
           "levied"
          ],
          [
           "week"
          ],
          [
           "7"
          ],
          [
           "civilized"
          ],
          [
           "capitation"
          ],
          [
           "barring"
          ],
          [
           "report"
          ],
          [
           "high"
          ],
          [
           "laid"
          ],
          [
           "above"
          ],
          [
           "possesses"
          ],
          [
           "altered"
          ],
          [
           "petio"
          ],
          [
           "nor"
          ],
          [
           "single"
          ],
          [
           "attorneygeneral"
          ],
          [
           "am"
          ],
          [
           "ones"
          ],
          [
           "ageevery"
          ],
          [
           "heirs"
          ],
          [
           "portions"
          ],
          [
           "exclude"
          ],
          [
           "limit"
          ],
          [
           "subsections"
          ],
          [
           "treated"
          ],
          [
           "re"
          ],
          [
           "recovery"
          ],
          [
           "anything"
          ],
          [
           "door"
          ],
          [
           "himself"
          ],
          [
           "autonomy"
          ],
          [
           "property"
          ],
          [
           "obvious"
          ],
          [
           "rights"
          ],
          [
           "would"
          ],
          [
           "principle"
          ],
          [
           "including"
          ],
          [
           "knows"
          ],
          [
           "distasteful"
          ],
          [
           "whole"
          ],
          [
           "charged"
          ],
          [
           "everything"
          ],
          [
           "employers"
          ],
          [
           "happens"
          ],
          [
           "commercial"
          ],
          [
           "naglee"
          ],
          [
           "either"
          ],
          [
           "care"
          ],
          [
           "should"
          ],
          [
           "prescribe"
          ],
          [
           "onus"
          ],
          [
           "much"
          ],
          [
           "charges"
          ],
          [
           "emperor"
          ],
          [
           "position"
          ],
          [
           "sections"
          ],
          [
           "ourselves"
          ],
          [
           "owners"
          ],
          [
           "1867"
          ],
          [
           "view"
          ],
          [
           "criminal"
          ],
          [
           "tax1st"
          ],
          [
           "liability"
          ],
          [
           "demanded"
          ],
          [
           "ceases"
          ],
          [
           "matters"
          ],
          [
           "recoverable"
          ],
          [
           "out"
          ],
          [
           "opium"
          ],
          [
           "opposed"
          ],
          [
           "influences"
          ],
          [
           "subjects"
          ],
          [
           "290"
          ],
          [
           "lie"
          ],
          [
           "innocenta"
          ],
          [
           "26"
          ],
          [
           "proceeds"
          ],
          [
           "cases"
          ],
          [
           "mandate"
          ],
          [
           "converse"
          ],
          [
           "whether"
          ],
          [
           "sec"
          ],
          [
           "score"
          ],
          [
           "criterion"
          ],
          [
           "stranger"
          ],
          [
           "test"
          ],
          [
           "afford"
          ],
          [
           "then"
          ],
          [
           "provides"
          ],
          [
           "r"
          ],
          [
           "direction"
          ],
          [
           "concernedsaysfrom"
          ],
          [
           "making"
          ],
          [
           "utter"
          ],
          [
           "misconception"
          ],
          [
           "binding"
          ],
          [
           "however"
          ],
          [
           "affected"
          ],
          [
           "highly"
          ],
          [
           "derogation"
          ],
          [
           "me"
          ],
          [
           "happen"
          ],
          [
           "materially"
          ],
          [
           "comment"
          ],
          [
           "penal"
          ],
          [
           "app"
          ],
          [
           "richards"
          ],
          [
           "fettered"
          ],
          [
           "pointed"
          ],
          [
           "fine"
          ],
          [
           "johnson"
          ],
          [
           "possessed"
          ],
          [
           "affects"
          ],
          [
           "depends"
          ],
          [
           "define"
          ],
          [
           "enactment"
          ],
          [
           "635"
          ],
          [
           "contained"
          ],
          [
           "laying"
          ],
          [
           "revenue"
          ],
          [
           "nation"
          ],
          [
           "force"
          ],
          [
           "many"
          ],
          [
           "standard"
          ],
          [
           "unequal"
          ],
          [
           "written"
          ],
          [
           "assumption"
          ],
          [
           "result"
          ],
          [
           "provinces"
          ],
          [
           "occupa"
          ],
          [
           "sides"
          ],
          [
           "are"
          ],
          [
           "twofold"
          ],
          [
           "jonas"
          ],
          [
           "exceptional"
          ],
          [
           "noscitur"
          ],
          [
           "117"
          ],
          [
           "responsible"
          ],
          [
           "without"
          ],
          [
           "relation"
          ],
          [
           "16th"
          ],
          [
           "among"
          ],
          [
           "sanctions"
          ],
          [
           "conduct"
          ],
          [
           "they"
          ],
          [
           "describes"
          ],
          [
           "accompanying"
          ],
          [
           "contemplation"
          ],
          [
           "425"
          ],
          [
           "specified"
          ],
          [
           "never"
          ],
          [
           "legislatures"
          ],
          [
           "but"
          ],
          [
           "restrict"
          ],
          [
           "representatives"
          ]
         ],
         "hovertemplate": "highlight=%{text}<br>x=%{x}<br>y=%{y}<br>word=%{customdata[0]}<extra></extra>",
         "legendgroup": "",
         "marker": {
          "color": "#636efa",
          "symbol": "circle"
         },
         "mode": "markers+text",
         "name": "",
         "showlegend": false,
         "text": [
          "",
          "",
          "",
          "",
          "",
          "",
          "",
          "",
          "",
          "",
          "",
          "",
          "",
          "",
          "",
          "",
          "",
          "",
          "",
          "",
          "",
          "",
          "",
          "",
          "",
          "",
          "",
          "",
          "",
          "",
          "",
          "",
          "",
          "",
          "",
          "",
          "",
          "",
          "",
          "",
          "",
          "",
          "",
          "",
          "",
          "",
          "",
          "",
          "",
          "",
          "",
          "",
          "",
          "",
          "",
          "",
          "",
          "",
          "",
          "",
          "",
          "",
          "",
          "",
          "",
          "",
          "",
          "",
          "",
          "",
          "",
          "",
          "",
          "",
          "",
          "",
          "",
          "",
          "",
          "",
          "",
          "",
          "",
          "",
          "",
          "",
          "",
          "",
          "",
          "",
          "",
          "",
          "",
          "",
          "",
          "",
          "",
          "",
          "",
          "",
          "",
          "",
          "",
          "",
          "",
          "",
          "",
          "",
          "",
          "",
          "",
          "",
          "",
          "",
          "",
          "",
          "",
          "",
          "",
          "",
          "",
          "",
          "",
          "",
          "",
          "",
          "",
          "",
          "",
          "",
          "",
          "",
          "",
          "",
          "",
          "",
          "",
          "",
          "",
          "",
          "",
          "",
          "",
          "",
          "",
          "",
          "",
          "",
          "",
          "",
          "",
          "",
          "",
          "",
          "",
          "",
          "",
          "",
          "",
          "",
          "",
          "",
          "",
          "",
          "",
          "",
          "",
          "",
          "",
          "",
          "",
          "",
          "",
          "",
          "",
          "",
          "",
          "",
          "",
          "",
          "",
          "",
          "",
          "",
          "",
          "",
          "",
          "",
          "",
          "",
          "",
          "",
          "",
          "",
          "",
          "",
          "",
          "",
          "",
          "",
          "",
          "",
          "",
          "",
          "",
          "",
          "",
          "",
          "",
          "",
          "",
          "",
          "",
          "",
          "",
          "",
          "",
          "",
          "",
          "",
          "",
          "",
          "",
          "",
          "",
          "",
          "",
          "",
          "",
          "",
          "",
          "",
          "",
          "",
          "",
          "",
          "",
          "",
          "",
          "",
          "",
          "",
          "",
          "",
          "",
          "",
          "",
          "",
          "",
          "",
          "",
          "",
          "",
          "",
          "",
          "",
          "",
          "",
          "",
          "",
          "",
          "",
          "",
          "",
          "",
          "",
          "",
          "",
          "",
          "",
          "",
          "",
          "",
          "",
          "",
          "",
          "",
          "",
          "",
          "",
          "",
          "",
          "",
          "",
          "",
          "",
          "",
          "",
          "",
          "",
          "",
          "",
          "",
          "",
          "",
          "",
          "",
          "",
          "",
          "",
          "",
          "",
          "",
          "",
          "",
          "",
          "",
          "",
          "",
          "",
          "",
          "",
          "",
          "",
          "",
          "",
          "",
          "",
          "",
          "",
          "",
          "",
          "",
          "",
          "",
          "",
          "",
          "",
          "",
          "",
          "",
          "",
          "",
          "",
          "",
          "",
          "",
          "",
          "",
          "",
          "",
          "",
          "",
          "",
          "",
          "",
          "",
          "",
          "",
          "",
          "",
          "",
          "",
          "",
          "",
          "",
          "",
          "",
          "",
          "",
          "",
          "",
          "",
          "",
          "",
          "",
          "",
          "",
          "",
          "",
          "",
          "",
          "",
          "",
          "",
          "",
          "",
          "",
          "",
          "",
          "",
          "",
          "",
          "",
          "",
          "",
          "",
          "",
          "",
          "",
          "",
          "",
          "",
          "",
          "",
          "",
          "",
          "",
          "",
          "",
          "",
          "",
          "",
          "",
          "",
          "",
          "",
          "",
          "",
          "",
          "",
          "",
          "",
          "",
          "",
          "",
          "",
          "",
          "",
          "",
          "",
          "",
          "",
          "",
          "",
          "",
          "",
          "",
          "",
          "",
          "",
          "",
          "",
          "",
          "",
          "",
          "",
          "",
          "",
          "",
          "",
          "",
          "",
          "",
          "",
          "",
          "",
          "",
          "",
          "",
          "",
          "",
          "",
          "",
          "",
          "",
          "",
          "",
          "",
          "",
          "",
          "",
          "",
          "",
          "",
          "",
          "",
          "",
          "",
          "",
          "",
          "",
          "",
          "",
          "",
          "",
          "",
          "",
          "",
          "",
          "",
          "",
          "",
          "",
          "",
          "",
          "",
          "",
          "",
          "",
          "",
          "",
          "",
          "",
          "",
          "",
          "",
          "",
          "",
          "",
          "",
          "",
          "",
          "",
          "",
          "",
          "",
          "",
          "",
          "",
          "",
          "",
          "",
          "",
          "",
          "",
          "",
          "",
          "",
          "",
          "",
          "",
          "",
          "",
          "",
          "",
          "",
          "",
          "",
          "",
          "",
          "",
          "",
          "",
          "",
          "",
          "",
          "",
          "",
          "",
          "",
          "",
          "",
          "",
          "",
          "",
          "",
          "",
          "",
          "",
          "",
          "",
          "",
          "",
          "",
          "",
          "",
          "",
          "",
          "",
          "",
          "",
          "",
          "",
          "",
          "",
          "",
          "",
          "",
          "",
          "",
          "",
          "",
          "",
          "",
          "",
          "",
          "",
          "",
          "",
          "",
          "",
          "",
          "",
          "",
          "",
          "",
          "",
          "",
          "",
          "",
          "",
          "",
          "",
          "",
          "",
          "",
          "",
          "",
          "",
          "",
          "",
          "",
          "",
          "",
          "",
          "",
          "",
          "",
          "",
          "",
          "",
          "",
          "",
          "",
          "",
          "",
          "",
          "",
          "",
          "",
          "",
          "",
          "",
          "",
          "",
          "",
          "",
          "",
          "",
          "",
          "",
          "",
          "",
          "",
          "",
          "",
          "",
          "",
          "",
          "",
          "",
          "",
          "",
          "",
          "",
          "",
          "",
          "",
          "",
          "",
          "",
          "",
          "",
          "",
          "",
          "",
          "",
          "",
          "",
          "",
          "",
          "",
          "",
          "",
          "",
          "",
          "",
          "",
          "",
          "",
          "",
          "",
          "",
          "",
          "",
          "",
          "",
          "",
          "",
          "",
          "",
          "",
          "",
          "",
          "",
          "",
          "",
          "",
          "",
          "",
          "",
          "",
          "",
          "",
          "",
          "",
          "",
          "",
          "",
          "",
          "",
          "",
          "",
          "",
          "",
          "",
          "",
          "",
          "",
          "",
          "",
          "",
          "",
          "",
          "",
          "",
          "",
          "",
          "",
          "",
          "",
          "",
          "",
          "",
          "",
          "",
          "",
          "",
          "",
          "",
          "",
          "",
          "",
          "",
          "",
          "",
          "",
          "",
          "",
          "",
          "",
          "",
          "",
          "",
          "",
          "",
          "",
          "",
          "",
          "",
          "",
          "",
          "",
          "",
          "",
          "",
          "",
          "",
          "",
          "",
          "",
          "",
          "",
          "",
          "",
          "",
          "",
          "",
          "",
          "",
          "",
          "",
          "",
          "",
          "",
          "",
          "",
          "",
          "",
          "",
          "",
          "",
          "",
          "",
          "",
          "",
          "",
          "",
          "",
          "",
          "",
          "",
          "",
          "",
          "",
          "",
          "",
          "",
          "",
          "",
          "",
          "",
          "",
          "",
          "",
          "",
          "",
          "",
          "",
          "",
          "",
          "",
          "",
          "",
          "",
          "",
          "",
          "",
          "",
          "",
          "",
          "",
          "",
          "",
          "",
          "",
          "",
          "",
          "",
          "",
          "",
          "",
          "",
          "",
          "",
          "",
          "",
          "",
          "",
          "",
          "",
          "",
          "",
          "",
          "",
          "",
          "",
          "",
          "",
          "",
          "",
          "",
          "",
          "",
          "",
          "",
          "",
          "",
          "",
          "",
          "",
          "",
          "",
          "",
          "",
          "",
          "",
          "",
          "",
          "",
          "",
          "",
          "",
          "",
          "",
          "",
          "",
          "",
          "",
          "",
          "",
          "",
          "",
          "",
          "",
          "",
          "",
          "",
          "",
          "",
          "",
          "",
          "",
          "",
          "",
          "",
          "",
          "",
          "",
          "",
          "",
          "",
          "",
          "",
          "",
          "",
          "",
          "",
          "",
          "",
          "",
          "",
          "",
          "",
          "",
          "",
          "",
          "",
          "",
          "",
          "",
          "",
          "",
          "",
          "",
          "",
          "",
          "",
          "",
          "",
          "",
          "",
          "",
          "",
          "",
          "",
          "",
          "",
          "",
          "",
          "",
          "",
          "",
          "",
          "",
          "",
          "",
          "",
          "",
          "",
          "",
          "",
          "",
          "",
          "",
          "",
          "",
          "",
          "",
          "",
          "",
          "",
          "",
          "",
          "",
          "",
          "",
          "",
          "",
          "",
          "",
          "",
          "",
          "",
          "",
          "",
          "",
          "",
          "",
          "",
          "",
          "",
          "",
          "",
          "",
          "",
          "",
          "",
          "",
          "",
          "",
          "",
          "",
          "",
          "",
          "",
          "",
          "",
          "",
          "",
          "",
          "",
          "",
          "",
          "",
          "",
          "",
          "",
          "",
          "",
          "",
          "",
          "",
          "",
          "",
          "",
          "",
          "",
          "",
          "",
          "",
          "",
          "",
          "",
          "",
          "",
          "",
          "",
          "",
          "",
          "",
          "",
          "",
          "",
          "",
          "",
          "",
          "",
          "",
          "",
          "",
          "",
          "",
          "",
          "",
          "",
          "",
          "",
          "",
          "",
          "",
          "",
          "",
          "",
          "",
          "",
          "",
          "",
          "",
          "",
          "",
          "",
          "",
          "",
          "",
          "",
          "",
          "",
          "",
          "",
          "",
          "",
          "",
          "",
          "",
          "",
          "",
          "",
          "",
          "",
          "",
          "",
          "",
          "",
          "",
          "",
          "",
          "",
          "",
          "",
          "",
          "",
          "",
          "",
          "",
          "",
          "",
          "",
          "",
          "",
          "",
          "",
          "",
          "",
          "",
          "",
          "",
          "",
          "",
          "",
          "",
          "",
          "",
          "",
          "",
          "",
          "",
          "",
          "",
          "",
          "",
          "",
          "",
          "",
          "",
          "",
          "",
          "",
          "",
          "",
          "",
          "",
          "",
          "",
          "",
          "",
          "",
          "",
          "",
          "",
          "",
          "",
          "",
          "",
          "",
          "",
          "",
          "",
          "",
          "",
          "",
          "",
          "",
          "",
          "",
          "",
          "",
          "",
          "",
          "",
          "",
          "",
          "",
          "",
          "",
          "",
          "",
          "",
          "",
          "",
          "",
          "",
          "",
          "",
          "",
          "",
          "",
          "",
          "",
          "",
          "",
          "",
          "",
          "",
          "",
          "",
          "",
          "",
          "",
          "",
          "",
          "",
          "",
          "",
          "",
          "",
          "",
          "",
          "",
          "",
          "",
          "",
          "",
          "",
          "",
          "",
          "",
          "",
          "",
          "",
          "",
          "",
          "",
          "",
          "",
          "",
          "",
          "",
          "",
          "",
          "",
          "",
          "",
          "",
          "",
          "",
          "",
          "",
          "",
          "",
          "",
          "",
          "",
          "",
          "",
          "",
          "",
          "",
          "",
          "",
          "",
          "",
          "",
          "",
          "",
          "",
          "",
          "",
          "",
          "",
          "",
          "",
          "",
          "",
          "",
          "",
          "",
          "",
          "",
          "",
          "",
          "",
          "",
          "",
          "",
          "",
          "",
          "",
          "",
          "",
          "",
          "",
          "",
          "",
          "",
          "",
          "",
          "",
          "",
          "",
          "",
          "",
          "",
          "",
          "",
          "",
          "",
          "",
          "",
          "",
          "",
          "",
          "",
          "",
          "",
          "",
          "",
          "",
          "",
          "",
          "",
          "",
          "",
          "",
          "",
          "",
          "",
          "",
          "",
          "",
          "",
          "",
          "",
          "",
          "",
          "",
          "",
          "",
          "",
          "",
          "",
          "",
          "",
          "",
          "",
          "",
          "",
          "",
          "",
          "",
          "",
          "",
          "",
          "",
          "",
          "",
          "",
          "",
          "",
          "",
          "",
          "",
          "",
          "",
          "",
          "",
          "",
          "",
          "",
          "",
          "",
          "",
          "",
          "",
          "",
          "",
          "",
          "",
          "",
          "",
          "",
          "",
          "",
          "",
          "",
          "",
          "",
          "",
          "",
          "",
          "",
          "",
          "",
          "",
          "",
          "",
          "",
          "",
          "",
          "",
          "",
          "",
          "",
          "",
          "",
          "",
          "",
          "",
          "",
          "",
          "",
          "",
          "",
          "",
          "",
          "",
          "",
          "",
          "",
          "",
          "",
          "",
          "",
          "",
          "",
          "",
          "",
          "",
          "",
          "",
          "",
          "",
          "",
          "",
          "",
          "",
          "",
          "",
          "",
          "",
          "",
          "",
          "",
          "",
          "",
          "",
          "",
          "",
          "",
          "",
          "",
          "",
          "",
          "",
          "",
          "",
          "",
          "",
          "",
          "",
          "",
          "",
          "",
          "",
          "",
          "",
          "",
          "",
          "",
          "",
          "",
          "",
          "",
          "",
          "",
          "",
          "",
          "",
          "",
          "",
          "",
          "",
          "",
          "",
          "",
          "",
          "",
          "",
          "",
          "",
          "",
          "",
          "",
          "",
          "",
          "",
          "",
          "",
          "",
          "",
          "",
          "",
          "",
          "",
          "",
          "",
          "",
          "",
          "",
          "",
          "",
          "",
          "",
          "",
          "",
          "",
          "",
          "",
          "",
          "",
          "",
          "",
          "",
          "",
          "",
          "",
          "",
          "",
          "",
          "",
          "",
          "",
          "",
          "",
          "",
          "",
          "",
          "",
          "",
          "",
          "",
          "",
          "",
          "",
          "",
          "",
          "",
          "",
          "",
          "",
          "",
          "",
          "",
          "",
          "",
          "",
          "",
          "",
          "",
          "",
          "",
          "",
          "",
          "",
          "",
          "",
          "",
          "",
          "",
          "",
          "",
          "",
          "",
          "",
          "",
          "",
          "",
          "",
          "",
          "",
          "",
          "",
          "",
          "",
          "",
          "",
          "",
          "",
          "",
          "",
          "",
          "",
          "",
          "",
          "",
          "",
          ""
         ],
         "type": "scattergl",
         "x": [
          11.38019,
          14.77447,
          -4.182128,
          5.935045,
          11.972967,
          -10.73367,
          -4.655321,
          -13.334136,
          17.154598,
          1.7800031,
          -1.8600601,
          14.9018345,
          43.068954,
          -5.1068697,
          -7.3964114,
          29.143686,
          -16.011095,
          -1.2102752,
          -4.6303935,
          0.5695133,
          24.757559,
          -3.3504195,
          -10.688317,
          44.770298,
          -23.236708,
          -0.98223656,
          5.894848,
          34.597267,
          5.794348,
          8.335457,
          -41.003994,
          -9.678115,
          10.5110035,
          1.602454,
          16.654678,
          28.906006,
          6.4441338,
          -11.369331,
          24.022224,
          -29.592398,
          8.97266,
          16.777552,
          3.5855846,
          -35.196583,
          8.163167,
          -25.69162,
          -6.309363,
          2.4343014,
          9.059663,
          1.2383261,
          -3.187645,
          7.1258426,
          -12.167488,
          11.117592,
          -19.935242,
          -21.938301,
          -18.927958,
          10.255925,
          -1.9310908,
          6.54145,
          9.694021,
          8.142194,
          5.278328,
          15.670111,
          2.5402358,
          31.676722,
          -19.63177,
          -35.642292,
          27.760576,
          25.073725,
          10.9681,
          22.981894,
          19.926702,
          -30.756403,
          0.19690445,
          -8.002935,
          -8.994216,
          -23.930777,
          6.725992,
          -6.618547,
          -19.73719,
          -9.427367,
          6.760313,
          17.603382,
          24.815277,
          -34.193733,
          7.0332437,
          -14.134433,
          47.482212,
          -41.530777,
          33.313553,
          17.463352,
          49.200962,
          13.120071,
          -12.19583,
          18.470205,
          -18.855207,
          21.021442,
          -18.419418,
          18.964945,
          -13.766595,
          -14.696032,
          -4.2951627,
          -2.019389,
          -7.2416544,
          11.030827,
          42.05265,
          -6.0390863,
          -2.0555012,
          -16.224157,
          -0.38055792,
          -26.70036,
          16.30208,
          10.197532,
          0.7308475,
          8.543072,
          2.3748262,
          0.4390871,
          9.878452,
          -16.173645,
          0.2625059,
          -32.83324,
          15.049808,
          -13.150736,
          24.731827,
          -4.5355935,
          21.308374,
          37.681793,
          -5.2367196,
          -1.3499453,
          -3.0935352,
          15.875635,
          10.19144,
          2.952604,
          1.3242525,
          11.328738,
          -6.786899,
          -4.226296,
          7.5428615,
          11.445894,
          2.304006,
          -7.020643,
          20.326815,
          -4.229192,
          -19.070995,
          -16.349672,
          3.2489932,
          1.0567498,
          -11.999151,
          5.129907,
          4.5386147,
          30.211527,
          3.345844,
          9.314808,
          -29.61883,
          -41.889187,
          -30.717642,
          16.641409,
          25.2836,
          7.7795377,
          0.5161608,
          -2.4217873,
          9.708373,
          11.967716,
          -33.618458,
          -6.3563395,
          0.025103977,
          -10.594015,
          49.79746,
          -2.8293622,
          -40.537567,
          12.283266,
          37.959946,
          17.098972,
          -7.380587,
          9.34918,
          -32.517952,
          6.8653665,
          -25.321735,
          -36.8469,
          22.39001,
          14.005694,
          3.0241747,
          -6.1538863,
          -30.921814,
          9.204792,
          -31.354574,
          -17.485912,
          32.06564,
          -9.673501,
          0.6760377,
          33.3308,
          -18.502714,
          5.7391963,
          44.4758,
          12.038866,
          -26.9141,
          5.845717,
          -7.8197417,
          10.180382,
          16.17015,
          -27.754766,
          -29.329298,
          11.368758,
          -34.11809,
          -5.646438,
          -13.830163,
          6.5300927,
          12.285059,
          -38.14512,
          36.657272,
          -25.797731,
          20.62359,
          11.503043,
          -6.2841163,
          -20.755573,
          7.48769,
          -13.553362,
          -34.837452,
          -38.812775,
          48.671093,
          -16.333458,
          -19.614096,
          -11.335973,
          -4.43629,
          7.66121,
          50.307686,
          7.4700017,
          -5.037649,
          -10.708398,
          6.756609,
          21.28804,
          -36.445934,
          22.355804,
          -15.949516,
          40.35016,
          1.9406803,
          -16.941877,
          46.739017,
          -26.16332,
          -16.963682,
          -40.97256,
          -16.281004,
          7.515881,
          5.4786596,
          15.931853,
          -6.0953608,
          -24.87483,
          -37.92324,
          -40.184757,
          18.948698,
          -8.49994,
          -0.44756526,
          2.2571905,
          45.499058,
          -16.328268,
          14.662449,
          -2.3863602,
          -2.641634,
          22.832132,
          -16.0419,
          -3.2948234,
          29.322618,
          -2.0685573,
          3.0054615,
          -28.980164,
          6.1160183,
          -0.7285973,
          7.4538155,
          -38.143185,
          18.814524,
          17.411383,
          -0.8906485,
          -39.53396,
          42.936043,
          -6.535909,
          -3.2058356,
          -4.108247,
          -2.0391562,
          -13.679041,
          -0.25712934,
          0.4985494,
          5.657832,
          46.85068,
          2.705628,
          -17.684494,
          -27.895897,
          -7.1332674,
          -7.962787,
          -14.654095,
          8.604879,
          -2.901341,
          -6.4129786,
          21.772966,
          -24.527048,
          -6.5231543,
          -1.144286,
          -31.423676,
          -32.17222,
          -24.95423,
          10.832862,
          -24.078167,
          -32.882744,
          12.596439,
          45.181705,
          -6.5123687,
          7.2470865,
          -14.187238,
          -21.031385,
          -10.887383,
          -34.62869,
          -37.690624,
          -34.679073,
          -12.838664,
          -28.365726,
          6.814848,
          -7.071534,
          4.534704,
          9.540519,
          -1.2741225,
          -41.40386,
          8.9641075,
          5.3244634,
          28.660719,
          14.155166,
          -10.56832,
          7.1743593,
          32.076305,
          2.6797318,
          -6.9651036,
          23.134436,
          9.644,
          13.372739,
          -18.60788,
          19.826027,
          2.2143385,
          17.065233,
          -22.317327,
          -19.012384,
          -39.152966,
          -2.4310524,
          -4.0341153,
          -5.801008,
          50.633533,
          11.964984,
          -11.314145,
          18.618273,
          10.280233,
          -3.3084097,
          4.31744,
          4.589641,
          -1.2537661,
          9.35353,
          3.9041176,
          12.6801605,
          -20.101608,
          11.887579,
          46.14535,
          13.131999,
          3.4295845,
          -0.17749168,
          -8.722748,
          -3.7425747,
          9.646546,
          11.234476,
          9.40999,
          1.8441404,
          8.576076,
          -8.959069,
          8.775424,
          28.636736,
          11.414709,
          12.155809,
          -25.124418,
          14.068968,
          -15.056943,
          -23.47951,
          11.364102,
          36.342636,
          12.401715,
          8.718907,
          3.8818512,
          -0.26084495,
          0.589947,
          -1.2841326,
          -6.6124744,
          -19.964117,
          4.117289,
          -3.962827,
          4.0663943,
          -1.9799079,
          -36.18432,
          49.43494,
          4.1067033,
          -7.426156,
          -10.198679,
          16.977057,
          -1.3789159,
          16.88089,
          -16.30313,
          -14.052114,
          28.02362,
          -2.9385073,
          14.761676,
          5.546577,
          -26.630932,
          14.551397,
          14.263459,
          1.4427744,
          8.627941,
          -19.731726,
          -8.281671,
          27.384398,
          19.21209,
          3.904076,
          6.4456434,
          -19.596697,
          -9.808099,
          -0.21603759,
          -36.127045,
          -31.705978,
          -26.020788,
          -1.4502046,
          -4.358311,
          -0.873292,
          -15.700185,
          -13.491564,
          -11.394426,
          -22.045847,
          -27.70666,
          7.9706116,
          4.304404,
          -9.075027,
          19.9855,
          6.1894236,
          -16.304441,
          2.1246586,
          0.0819423,
          8.74548,
          -2.784464,
          13.766526,
          6.2161145,
          -9.104857,
          -6.5152593,
          -3.983355,
          -19.181482,
          -5.809762,
          -29.915531,
          23.188366,
          5.049223,
          23.52678,
          -18.293837,
          0.097832516,
          44.475708,
          -1.6376605,
          -0.13378976,
          5.427629,
          -2.0191278,
          -31.944485,
          -31.682375,
          -13.912025,
          5.593971,
          -38.25434,
          15.961186,
          -4.086703,
          21.590557,
          0.8192461,
          20.68763,
          -14.44387,
          14.391028,
          -0.17521627,
          -10.026123,
          8.386088,
          45.815998,
          -13.309601,
          14.090381,
          9.525882,
          -42.55982,
          -1.2679563,
          -8.372096,
          13.37378,
          0.81092364,
          -5.43915,
          27.479788,
          -4.1889863,
          -28.566473,
          7.317985,
          -19.339706,
          -42.321625,
          1.1982819,
          12.823471,
          6.443879,
          -35.930824,
          -0.23385197,
          8.669023,
          25.58831,
          18.703451,
          3.3201122,
          -36.26568,
          -26.505922,
          25.34839,
          -24.291359,
          -13.686879,
          -11.749085,
          -23.206081,
          7.2938843,
          -0.9857433,
          1.9519389,
          7.7875867,
          -4.870926,
          8.7995,
          -32.529392,
          -18.949284,
          5.0096946,
          -12.240404,
          29.88186,
          9.636715,
          6.4146333,
          -19.493483,
          50.724102,
          -12.329858,
          -6.2641287,
          -4.221974,
          -10.121614,
          11.489579,
          -2.6491485,
          -8.318259,
          19.47091,
          -19.083296,
          3.6248174,
          -5.426168,
          44.20618,
          10.905795,
          -6.662511,
          -17.189142,
          2.7533624,
          3.1394749,
          18.67551,
          -30.483261,
          -9.083205,
          -29.563816,
          1.8930119,
          -11.4303665,
          8.006297,
          12.195553,
          -15.461037,
          -28.832026,
          13.325874,
          -16.486084,
          -19.75222,
          -0.062330622,
          -23.58743,
          6.2905655,
          6.0340905,
          -19.572445,
          -6.3013206,
          -7.4433126,
          4.390243,
          -11.536569,
          -35.927998,
          -0.16757149,
          -7.140844,
          -2.4100235,
          -6.0567226,
          -23.113657,
          -8.437478,
          -40.059887,
          -18.306206,
          17.025301,
          -3.4891672,
          1.8903413,
          11.344865,
          -14.035687,
          20.323977,
          1.5642719,
          4.7729926,
          4.558315,
          -9.163608,
          -30.213457,
          19.027576,
          36.436733,
          -37.410885,
          30.202005,
          -40.32562,
          -0.5237435,
          1.7058344,
          -11.456554,
          20.253582,
          3.8559582,
          -22.511698,
          9.156628,
          7.9715767,
          -17.968487,
          4.5985336,
          8.159512,
          13.724383,
          50.83811,
          9.440538,
          -27.409456,
          -6.071679,
          22.68013,
          -16.284782,
          -0.40826812,
          -4.763003,
          8.6532955,
          15.304301,
          -16.449902,
          22.684555,
          46.816666,
          12.205815,
          -26.118523,
          -9.151825,
          5.1014147,
          -1.6226091,
          13.329107,
          21.0613,
          9.331067,
          -15.236726,
          -8.006501,
          8.384736,
          -31.791466,
          0.9214427,
          30.831148,
          -8.192431,
          -20.692854,
          -10.841751,
          10.423669,
          45.98021,
          19.460842,
          26.462128,
          -23.554132,
          -5.7456746,
          -29.70429,
          19.104824,
          -5.746275,
          -11.6535845,
          -40.0056,
          -17.442736,
          -0.20474258,
          -39.74657,
          -19.824083,
          -15.530209,
          21.977371,
          8.059078,
          17.161293,
          -20.821423,
          -22.516853,
          0.19942102,
          -20.121092,
          10.005041,
          1.4771262,
          41.39402,
          -22.351812,
          -3.5998874,
          23.523827,
          30.087593,
          16.575737,
          -1.6843084,
          -2.7699723,
          -10.40352,
          -38.801514,
          -1.1102583,
          -23.086832,
          -24.876947,
          -7.900008,
          -13.205027,
          -26.29955,
          46.721878,
          3.4145365,
          -16.242615,
          36.234436,
          -5.820456,
          -12.802726,
          5.741875,
          -25.023285,
          8.417296,
          -16.13173,
          43.685158,
          3.1385362,
          1.3617479,
          0.5831589,
          -19.698042,
          -4.4232087,
          -7.4734154,
          6.0788627,
          -13.914856,
          28.755537,
          14.019432,
          -6.5534315,
          2.8018842,
          7.976204,
          -16.367825,
          1.313308,
          18.894356,
          9.355779,
          -30.206131,
          9.494532,
          -26.087147,
          46.279064,
          1.093942,
          -4.4124846,
          0.88575596,
          8.12659,
          7.5677614,
          0.36511067,
          15.535197,
          -4.6869454,
          12.971121,
          13.318165,
          -32.7603,
          -31.62544,
          -25.151094,
          9.916562,
          -36.489143,
          -1.8543061,
          -40.242004,
          -33.953175,
          -31.344318,
          -0.1450621,
          -8.205425,
          -0.3864824,
          4.2039146,
          -20.73488,
          7.061629,
          -21.011477,
          -42.279488,
          8.27373,
          18.732546,
          11.192566,
          10.021202,
          -15.21105,
          12.702656,
          7.829098,
          21.546339,
          22.293516,
          -8.11027,
          -28.864838,
          11.936546,
          6.4952164,
          10.054169,
          29.723885,
          19.510809,
          -3.983861,
          50.609764,
          7.3544717,
          3.158182,
          4.6701713,
          -0.09021201,
          -6.5325294,
          -2.598994,
          3.240566,
          -35.017796,
          -9.870323,
          -26.922167,
          15.384593,
          -36.499435,
          -3.6587832,
          -23.744864,
          8.501693,
          -21.015615,
          7.103391,
          -23.569437,
          -19.43658,
          36.488777,
          -0.85795534,
          -40.01437,
          15.030571,
          36.286972,
          -17.461132,
          -2.6341858,
          49.83129,
          3.4345806,
          15.779002,
          9.9317875,
          6.8808556,
          29.600407,
          -21.385084,
          6.4280834,
          -14.780562,
          -29.689741,
          -20.368147,
          20.122295,
          29.962027,
          7.5626345,
          -18.88488,
          -15.884934,
          7.879687,
          -7.546245,
          -8.9596405,
          -26.137814,
          -10.329809,
          4.1970525,
          -1.8481904,
          20.054325,
          -16.993414,
          21.642965,
          24.312025,
          -4.0323086,
          29.72893,
          -36.762848,
          8.184537,
          2.61781,
          1.8249898,
          -17.894165,
          4.3632874,
          -35.633064,
          7.557556,
          -20.70614,
          -4.5046077,
          5.3665376,
          17.82976,
          -18.811892,
          -3.497121,
          -3.4829593,
          -2.6626258,
          7.825499,
          -5.061396,
          21.038624,
          -14.074931,
          -6.166723,
          8.1600895,
          -11.658732,
          13.576334,
          -12.916528,
          19.133915,
          11.254067,
          -18.303703,
          -14.62604,
          -25.653599,
          9.23384,
          -21.025167,
          -37.312176,
          -17.525715,
          -28.199446,
          1.2440269,
          44.46229,
          -7.201038,
          -0.72440845,
          -13.671002,
          9.242244,
          -10.820088,
          -7.836977,
          13.154501,
          -3.170235,
          -16.696598,
          -36.299374,
          -17.074066,
          3.4603386,
          -28.632078,
          -14.275176,
          -8.997905,
          -26.975842,
          -27.14396,
          11.109793,
          -4.688063,
          -6.2335267,
          -12.648019,
          6.4029727,
          1.7587848,
          16.833614,
          17.822382,
          5.1470985,
          6.5667777,
          -6.44288,
          -17.376024,
          11.226626,
          -8.364725,
          -5.3484936,
          7.7940617,
          5.2868733,
          16.470354,
          46.88016,
          -5.7902455,
          -7.013261,
          -7.8791003,
          -30.428751,
          -8.754404,
          -16.928762,
          -17.444643,
          16.49498,
          -5.7706914,
          -36.096657,
          -34.815556,
          20.838871,
          10.175481,
          17.98158,
          -14.73134,
          4.1606154,
          2.7511058,
          0.4455159,
          4.0955853,
          -5.9647546,
          -15.688932,
          -17.810041,
          -1.7166804,
          50.86833,
          -9.82693,
          -1.51232,
          -7.49815,
          -6.192195,
          -16.823814,
          10.9855995,
          17.27381,
          -2.0664344,
          9.802182,
          16.927216,
          22.069336,
          5.1653547,
          -8.913465,
          -26.260906,
          -12.993278,
          32.828064,
          -24.22433,
          7.7750154,
          -38.174522,
          15.321771,
          -10.1926,
          -2.917813,
          -40.046246,
          21.593206,
          15.408264,
          11.912815,
          -29.67767,
          8.543371,
          -28.079302,
          15.243729,
          18.348768,
          -17.342861,
          -20.480051,
          14.180683,
          -9.623539,
          -0.032002795,
          36.005386,
          -9.3306675,
          -5.218031,
          16.222374,
          -25.95515,
          -0.7481127,
          -33.928486,
          -4.7292495,
          -16.73577,
          14.331685,
          6.0922217,
          -15.216122,
          -34.184242,
          -23.393719,
          -1.2069778,
          -39.393482,
          -36.05739,
          -7.7256336,
          -3.8294272,
          11.268046,
          21.797037,
          22.605482,
          -20.620152,
          11.848452,
          -11.498432,
          -13.119117,
          -5.1512055,
          -6.834719,
          -4.122505,
          -3.8831406,
          -5.982108,
          -13.642632,
          29.2123,
          3.039037,
          -39.33781,
          -17.338417,
          -0.88330793,
          -28.796915,
          36.586323,
          -29.119446,
          45.981243,
          5.238622,
          -17.00635,
          -0.3899638,
          16.20421,
          -11.321623,
          11.654895,
          -8.491724,
          1.265442,
          34.34028,
          -1.1857134,
          -31.25058,
          1.0786352,
          -0.6786506,
          -2.6245923,
          -23.961744,
          -13.71752,
          -4.54428,
          -36.207912,
          49.824203,
          -26.683344,
          -20.221363,
          47.037262,
          13.001898,
          29.591946,
          -33.564533,
          4.8001714,
          -17.891151,
          -8.158862,
          20.91856,
          10.028966,
          10.153153,
          24.811213,
          29.055382,
          50.37287,
          16.588724,
          2.316924,
          -42.532227,
          1.6937227,
          -24.726273,
          -17.637693,
          -7.571244,
          -16.351295,
          -14.906946,
          11.576116,
          -4.2238455,
          7.9988437,
          -14.758576,
          -7.1199503,
          -40.390438,
          4.561417,
          3.1199045,
          -3.9661539,
          -12.69044,
          -12.167071,
          28.81685,
          -1.1042713,
          3.714189,
          15.62763,
          5.4621325,
          7.1391573,
          -11.831191,
          -2.0586143,
          4.052258,
          -16.026842,
          20.278042,
          -4.365093,
          -5.804897,
          -10.941958,
          -0.6631009,
          27.39163,
          -11.717248,
          -23.23684,
          -4.5995836,
          20.716133,
          -5.5542154,
          39.968212,
          21.587727,
          -32.701073,
          -8.879809,
          -13.792143,
          -20.937273,
          -1.5232195,
          -8.094417,
          -22.95369,
          37.291466,
          -38.58615,
          -5.3400555,
          -4.2753468,
          29.35891,
          8.445306,
          -36.041695,
          19.905416,
          23.789015,
          18.90776,
          23.575274,
          50.436577,
          -0.12232917,
          -4.4179063,
          -26.20189,
          34.581203,
          16.493225,
          17.86509,
          -16.186481,
          0.38844243,
          10.320794,
          5.44886,
          -22.525537,
          24.556353,
          0.8000997,
          -10.561285,
          -15.865186,
          -6.0375443,
          2.484909,
          -1.6139343,
          6.7121763,
          -8.53936,
          17.24062,
          -22.599295,
          -11.511986,
          47.066708,
          8.764667,
          -24.233624,
          1.0176792,
          13.406768,
          3.545591,
          13.423088,
          -4.9560227,
          42.806988,
          17.88606,
          11.497579,
          49.92503,
          -36.828907,
          -25.604168,
          0.74386823,
          21.94174,
          9.252091,
          13.145054,
          8.73611,
          -23.196,
          -33.670536,
          6.729132,
          -8.573033,
          5.9632454,
          -10.294512,
          22.830685,
          1.3009847,
          -24.352499,
          4.236358,
          11.163541,
          -10.425054,
          36.403564,
          -29.972374,
          24.848782,
          -5.165758,
          -23.054974,
          6.8982573,
          -2.9890096,
          -3.8520932,
          -15.298222,
          -17.318134,
          17.450607,
          20.260214,
          2.274303,
          14.050379,
          14.038281,
          0.47922006,
          -21.235998,
          3.8183594,
          -35.862423,
          7.2130947,
          -15.3056965,
          -2.3869421,
          16.573105,
          4.805564,
          23.503704,
          43.264946,
          15.079437,
          -1.4239322,
          -13.427226,
          18.895697,
          19.452387,
          16.015532,
          -16.952057,
          -28.976818,
          14.649103,
          28.513756,
          -3.7964141,
          -0.36475483,
          5.3541574,
          43.267845,
          -26.05775,
          -19.281393,
          23.112669,
          6.782009,
          -29.667059,
          -5.731697,
          6.562352,
          -16.275568,
          -14.508636,
          4.5256276,
          -5.1481814,
          -8.268358,
          24.7209,
          -8.68002,
          -7.389495,
          23.809938,
          2.4189355,
          3.1328712,
          -13.432728,
          2.8098314,
          -21.279108,
          22.790144,
          -8.803459,
          -18.137299,
          -1.1404178,
          0.750645,
          22.066355,
          -34.590073,
          26.681217,
          30.069473,
          -8.37105,
          17.33266,
          24.785757,
          3.3911693,
          -31.343386,
          19.235435,
          -3.3046298,
          24.73941,
          -29.119356,
          16.140749,
          9.681905,
          1.5729585,
          45.093216,
          -32.771523,
          -18.982632,
          3.468696,
          0.7171709,
          1.3241423,
          0.36520988,
          -3.7036622,
          40.8637,
          2.9939237,
          8.469519,
          -4.629086,
          -6.268219,
          -19.964073,
          10.123448,
          -3.8551016,
          -6.906259,
          19.497614,
          21.004448,
          -6.7892346,
          -0.34133586,
          -12.985472,
          -29.803827,
          1.2840241,
          15.950994,
          16.172644,
          18.182846,
          6.366114,
          13.392209,
          49.43423,
          6.9125953,
          1.8417706,
          10.252487,
          45.25982,
          47.53683,
          -0.7022659,
          -18.109283,
          4.045304,
          3.3775895,
          4.019233,
          4.548155,
          -3.432574,
          13.708713,
          -7.10432,
          -15.819979,
          17.191454,
          -33.512436,
          46.30372,
          -10.957857,
          2.8446739,
          -31.90618,
          -29.596432,
          7.037926,
          -12.90841,
          5.1360674,
          44.36941,
          -9.133452,
          9.637222,
          -33.656605,
          -40.161858,
          -11.434161,
          14.834763,
          -4.166604,
          18.123627,
          12.104738,
          -12.109478,
          -26.49895,
          -24.994537,
          2.8360622,
          -3.6547103,
          45.78831,
          -13.811809,
          -13.984116,
          -27.492626,
          0.7873658,
          -1.8505576,
          0.43323177,
          20.179445,
          -27.330116,
          1.5821382,
          -35.2559,
          -20.340761,
          -6.3207808,
          3.6063092,
          11.32705,
          -18.758614,
          -40.138374,
          46.789005,
          3.2032058,
          -17.56202,
          -0.21898971,
          9.774938,
          -0.18873349,
          -10.896391,
          13.457567,
          -8.564259,
          8.621461,
          3.5060236,
          4.48424,
          -25.94858,
          20.010864,
          29.004948,
          22.831799,
          -10.695567,
          -3.284536,
          -18.060997,
          -32.00695,
          34.808773,
          8.692039,
          -15.657962,
          -15.603294,
          -40.152893,
          -26.729166,
          0.48622838,
          46.537556,
          -34.544346,
          -2.7187114,
          47.073483,
          -16.927452,
          5.8335257,
          -4.6609592,
          -2.1273777,
          -11.322711,
          41.757645,
          -15.149723,
          -28.566956,
          -26.584852,
          -37.00582,
          -23.404331,
          -15.268341,
          -20.375944,
          5.2191353,
          -6.2826242,
          -13.492809,
          10.562187,
          -0.94520813,
          7.262787,
          12.487064,
          9.077898,
          -0.4863075,
          -29.486826,
          -29.722311,
          -33.521614,
          -25.025288,
          6.916028,
          14.949203,
          -42.282887,
          -35.76757,
          0.5781028,
          -32.07532,
          43.694866,
          42.9812,
          8.180418,
          -37.61275,
          -9.520465,
          -41.820644,
          27.569548,
          40.531845,
          -16.41656,
          24.736359,
          7.3212676,
          -19.929388,
          0.26062247,
          9.187789,
          45.00779,
          48.166428,
          8.245214,
          3.441579,
          -37.80952,
          47.321274,
          -18.051746,
          9.22669,
          49.704136,
          16.377874,
          10.226839,
          0.90634763,
          -17.225538,
          -23.01476,
          7.657843,
          1.0274993,
          -8.440242,
          11.092477,
          14.258727,
          -20.931702,
          3.3392994,
          -14.944367,
          7.8992844,
          -19.773283,
          -36.90576,
          -15.06441,
          -6.13319,
          -0.77748406,
          17.933369,
          -11.415038,
          46.918037,
          -8.238113,
          46.6444,
          -17.864435,
          -21.271488,
          -2.9971764,
          -29.397247,
          7.020866,
          5.687368,
          10.805165,
          2.0575967,
          1.486294,
          49.803974,
          1.2755625,
          -6.843031,
          -0.026702937,
          19.696293,
          -3.8098624,
          -34.497993,
          -37.85769,
          19.631746,
          10.344457,
          5.2315226,
          3.508062,
          -31.746494,
          20.335756,
          42.181553,
          -13.544976,
          -27.961918,
          1.4888959,
          -9.939343,
          25.100147,
          5.3490167,
          -5.2140875,
          12.735013,
          5.3665137,
          -14.955135,
          -10.059197,
          12.546257,
          -24.223425,
          27.426426,
          4.9189816,
          -20.94644,
          11.18971,
          -8.910492,
          3.4295151,
          -0.5330742,
          -30.82712,
          5.979626,
          30.400959,
          -2.5465972,
          -12.057988,
          -1.2461892,
          -25.463707,
          -20.164787,
          -22.893217,
          -2.5530927,
          -5.1291833,
          -17.206333,
          -4.935303,
          8.426536,
          -35.75744,
          -39.678364,
          4.2598767,
          9.254565,
          -10.77519,
          -20.949648,
          2.2222462,
          -12.589223,
          -18.31308,
          -12.054714,
          -6.6488113,
          -17.67073,
          -34.144432,
          -15.527642,
          -10.246078,
          6.7176366,
          20.919817,
          0.53671265,
          -9.480291,
          -25.636522,
          -22.475618,
          34.95759,
          -7.726823,
          -24.19888,
          -27.509295,
          9.786613,
          -5.0931163,
          -31.91363,
          -9.7202425,
          -26.22915,
          4.0082417,
          -10.847336,
          1.5197423,
          -9.343874,
          -6.5303326,
          44.297935,
          -26.672358,
          -15.39678,
          45.05006,
          -11.295522,
          5.949321,
          -3.403758,
          4.3566284,
          3.3243597,
          23.40765,
          13.8072,
          -1.2854102,
          -13.630169,
          -8.022215,
          20.996548,
          -4.075611,
          -1.7696011,
          31.896143,
          -7.230177,
          -20.979856,
          8.715219,
          4.30603,
          -40.218678,
          2.7430563,
          4.1976585,
          4.396547,
          10.809931,
          -39.793083,
          1.8642198,
          2.19183,
          -39.270054,
          -4.795979,
          14.75266,
          27.456394,
          18.747015,
          -2.8628929,
          1.3074617,
          -6.103263,
          16.877115,
          2.9328997,
          18.380201,
          -0.5713714,
          -4.1116104,
          20.089394,
          50.881622,
          9.117246,
          5.426522,
          -26.99787,
          9.909697,
          1.5083894,
          7.7512984,
          -1.7002271,
          -42.257168,
          9.451746,
          -3.4786944,
          10.710621,
          -17.652918,
          -18.353142,
          12.302837,
          28.416183,
          -0.11986525,
          3.3144693,
          -6.5064216,
          -15.490232,
          46.26118,
          12.3127,
          3.1115856,
          -6.739821,
          37.662823,
          7.3377542,
          8.823255,
          -34.902664,
          1.2770267,
          13.322025,
          11.939719,
          -39.245083,
          47.67696,
          5.179908,
          -9.243069,
          20.35785,
          2.4644365,
          7.284484,
          -20.037235
         ],
         "xaxis": "x",
         "y": [
          1.3295883,
          7.792239,
          -16.263905,
          -0.29879317,
          5.300595,
          -21.11626,
          -30.71576,
          -19.360346,
          3.7233095,
          31.905514,
          -29.267254,
          1.1586473,
          -19.898119,
          11.154071,
          -0.7285024,
          8.474238,
          7.0447307,
          -26.813444,
          -11.909865,
          -42.33062,
          9.585676,
          -28.430649,
          0.32571238,
          -17.727001,
          9.242618,
          -7.164349,
          24.140339,
          -9.705388,
          25.949028,
          -28.410295,
          -1.628865,
          32.70275,
          -0.28681645,
          -27.8183,
          19.205564,
          5.932933,
          19.292154,
          -6.9517503,
          18.261316,
          -13.551402,
          -23.03822,
          -18.378668,
          -23.42831,
          5.4345484,
          16.751492,
          -9.460316,
          21.215107,
          -20.831444,
          34.770275,
          -8.959985,
          -20.816105,
          28.563026,
          2.684844,
          -25.02947,
          11.720321,
          1.528095,
          -34.76216,
          -1.9972514,
          16.033499,
          14.21999,
          -9.712023,
          -4.1765347,
          -9.010091,
          -23.62558,
          -14.787206,
          8.569191,
          2.650242,
          3.8449614,
          5.5378733,
          -14.677126,
          -6.024482,
          6.2634807,
          16.6219,
          17.608435,
          -3.5814486,
          1.7620388,
          18.26246,
          14.041426,
          27.301945,
          10.21634,
          8.483827,
          3.8074832,
          -1.7011856,
          -17.823471,
          -0.8340263,
          4.2491593,
          -3.0428948,
          -7.6453834,
          -20.274672,
          13.926933,
          -8.828817,
          7.88311,
          -12.733118,
          10.927132,
          5.3127823,
          1.1891049,
          22.709032,
          -13.764282,
          7.288158,
          6.7298813,
          -15.286268,
          -26.143084,
          5.8123,
          -6.7527876,
          26.188782,
          9.12143,
          -20.10639,
          -37.851612,
          35.921867,
          21.292664,
          -31.96239,
          -9.617793,
          -21.982643,
          -32.378624,
          16.428944,
          2.1960285,
          32.684803,
          -20.832409,
          36.50391,
          5.708548,
          -10.833115,
          20.101519,
          -11.292728,
          13.853663,
          21.62098,
          -15.363949,
          6.015901,
          -0.65275675,
          -26.223646,
          -3.599576,
          11.340908,
          -0.5609147,
          38.20588,
          2.815846,
          19.254782,
          22.289618,
          -1.7604445,
          -6.648461,
          32.549427,
          16.609516,
          -4.818815,
          -0.6228516,
          20.841747,
          1.2795873,
          12.602475,
          -1.1783423,
          -41.002235,
          11.351454,
          12.166317,
          16.355213,
          -2.822817,
          16.683805,
          -15.639514,
          -30.106789,
          -7.2373815,
          13.699258,
          -10.018394,
          -13.151415,
          13.554934,
          6.700065,
          -27.577381,
          -25.585775,
          -27.494373,
          -0.43556237,
          19.879103,
          8.552453,
          2.4205668,
          28.71607,
          -6.242943,
          -3.0792966,
          16.364618,
          15.022037,
          -0.45726216,
          -12.521285,
          -15.64935,
          -4.4737706,
          20.107132,
          17.243534,
          12.301898,
          13.556241,
          13.098462,
          0.11912694,
          19.92832,
          -15.782501,
          18.439905,
          -32.999165,
          -16.830486,
          27.969816,
          -10.106421,
          -12.533964,
          11.394711,
          -8.739479,
          23.288994,
          34.410965,
          -18.4141,
          5.9175057,
          -8.550623,
          -21.153015,
          -1.7636746,
          28.034828,
          -8.219733,
          -8.74395,
          14.409609,
          34.524395,
          1.0211922,
          -19.051859,
          4.7769084,
          -22.923351,
          -5.667934,
          7.6033783,
          -1.5964385,
          -2.2704833,
          4.086646,
          11.385011,
          -24.077164,
          1.6322284,
          11.609892,
          1.235501,
          6.7201853,
          -2.7055247,
          -14.265008,
          -22.458296,
          22.030613,
          -6.973928,
          -19.043655,
          -8.314961,
          -12.497344,
          22.027143,
          -3.4187737,
          8.531504,
          -10.850271,
          11.953939,
          0.3281531,
          12.755163,
          30.937128,
          -19.757189,
          -41.20926,
          -30.17418,
          -20.659779,
          18.175245,
          -30.73298,
          8.952995,
          -32.730877,
          13.148617,
          -13.430207,
          2.7357152,
          -37.900246,
          -10.635977,
          13.45541,
          17.6513,
          12.445952,
          -20.235134,
          -28.487715,
          -21.477295,
          -17.696293,
          -22.489906,
          10.5087,
          11.056982,
          33.342365,
          17.262735,
          12.105844,
          -4.8865137,
          14.4868145,
          -27.386007,
          -20.174318,
          24.121624,
          -11.468291,
          -25.91743,
          27.767138,
          -3.4151425,
          -21.059345,
          2.9243586,
          5.558409,
          14.379416,
          -19.37126,
          32.48817,
          -20.832092,
          -31.413435,
          -14.263724,
          9.166157,
          -17.769487,
          -7.254598,
          7.0791073,
          -13.6516,
          -14.755791,
          -7.326846,
          -10.829835,
          -14.005608,
          -28.840712,
          -13.779768,
          22.76185,
          -4.5297184,
          -9.44767,
          9.376165,
          9.394941,
          -4.3722773,
          -28.906595,
          -3.0095868,
          -18.59808,
          20.510517,
          -4.95352,
          1.9123831,
          9.170158,
          -32.166634,
          -14.860801,
          -7.15465,
          -12.532312,
          5.9726267,
          8.732146,
          -2.06471,
          19.42501,
          11.721458,
          1.260843,
          17.273169,
          23.091211,
          -11.124228,
          -18.081081,
          -31.998207,
          -18.930876,
          -23.415804,
          15.686872,
          -8.388698,
          15.111414,
          -11.400385,
          1.8118356,
          -10.356246,
          -22.420147,
          -10.119174,
          14.689481,
          28.928692,
          9.62609,
          28.919281,
          16.632519,
          -20.670568,
          -1.1634139,
          -20.649185,
          11.752542,
          26.39968,
          19.998138,
          4.538909,
          5.759238,
          7.6594257,
          -23.806574,
          -13.711665,
          16.338573,
          -7.836293,
          14.860124,
          -12.226401,
          -9.592511,
          9.599007,
          39.197296,
          -28.335491,
          -6.332428,
          38.135017,
          -11.993697,
          15.466471,
          -5.1089444,
          -19.246075,
          -15.491781,
          32.093792,
          11.35981,
          -8.372278,
          4.3377314,
          -33.12162,
          -3.629806,
          -2.5616727,
          26.313915,
          6.040352,
          27.896633,
          -0.89190733,
          4.904578,
          -8.527727,
          -24.127983,
          20.722818,
          -28.79649,
          3.4510777,
          1.2356827,
          7.047246,
          2.0285652,
          -24.865648,
          -21.761171,
          33.676277,
          27.118067,
          27.976404,
          27.451485,
          24.052952,
          -13.174807,
          -35.955208,
          22.507624,
          8.5720625,
          -10.790901,
          17.656824,
          -11.773563,
          -17.004324,
          -24.743088,
          -24.161077,
          19.330803,
          35.760384,
          7.6488824,
          -13.185306,
          -20.073246,
          15.664028,
          -11.983537,
          3.928401,
          5.9195895,
          -16.533812,
          -11.883868,
          9.553364,
          -9.992169,
          -19.613243,
          -33.778576,
          -30.164082,
          26.559214,
          3.7926579,
          11.817391,
          -19.708355,
          2.7025433,
          2.34547,
          20.170515,
          7.9577737,
          -17.445074,
          12.030828,
          29.929146,
          -0.356317,
          -24.564173,
          6.8747225,
          -9.265881,
          -5.654211,
          16.447365,
          -4.9229493,
          9.682029,
          -7.077412,
          -32.91811,
          13.603626,
          -19.522688,
          22.74023,
          12.865303,
          2.45165,
          8.256812,
          -15.579369,
          35.675148,
          20.114971,
          3.009222,
          0.795545,
          4.3563027,
          14.438271,
          1.2011377,
          21.517221,
          1.1315174,
          -5.5552316,
          2.8758097,
          2.1134238,
          36.168827,
          -20.40705,
          -19.74366,
          -4.1417007,
          4.7357616,
          3.789125,
          -18.110718,
          14.919112,
          -20.300434,
          -3.678249,
          6.628154,
          9.899931,
          2.0499187,
          8.743605,
          -20.42611,
          -6.3405285,
          21.838081,
          27.294725,
          -16.371944,
          10.109042,
          -20.51414,
          -20.564398,
          7.2400203,
          13.485993,
          -34.10441,
          15.947328,
          18.566761,
          -22.820919,
          6.353849,
          4.297586,
          -17.216413,
          -9.440065,
          20.227543,
          12.908133,
          -32.73028,
          -33.959084,
          11.753475,
          -16.977188,
          -21.319607,
          0.23611,
          -6.3486166,
          -16.168352,
          20.755962,
          8.411691,
          -18.508331,
          -40.99683,
          25.449276,
          7.090459,
          9.987656,
          19.765461,
          6.4430246,
          -27.554153,
          2.8772492,
          1.2457865,
          -3.8849494,
          -24.82945,
          3.981748,
          32.16418,
          17.775764,
          15.343352,
          -24.143389,
          -21.88738,
          24.526634,
          5.6390095,
          -12.940747,
          22.513123,
          1.3343917,
          -13.61928,
          11.600341,
          -17.3762,
          30.341017,
          -27.33668,
          34.99704,
          -30.768923,
          -28.662302,
          2.6964233,
          7.9456935,
          9.22888,
          -32.048843,
          -14.772567,
          30.904911,
          14.766174,
          12.873758,
          -10.778086,
          17.771736,
          5.987374,
          -2.5171156,
          -17.843834,
          -10.1134205,
          -20.882275,
          15.951316,
          17.329935,
          -2.861996,
          31.234613,
          15.057982,
          -6.2500997,
          -27.693523,
          5.571184,
          27.092152,
          11.121545,
          -27.301409,
          -22.707066,
          22.207073,
          3.6111245,
          23.50197,
          22.14986,
          -13.658863,
          11.95313,
          0.45510262,
          28.743252,
          -23.7508,
          39.820145,
          14.363679,
          27.552984,
          13.371336,
          -33.695328,
          22.81891,
          0.6960185,
          -17.813814,
          6.5755267,
          0.42071542,
          7.250178,
          -28.590405,
          -29.40881,
          1.8003607,
          8.095823,
          -7.473668,
          3.677548,
          2.4827466,
          19.162292,
          11.828398,
          -1.4462479,
          -24.839432,
          23.954008,
          -3.0039344,
          26.993479,
          32.437687,
          3.4669235,
          -14.97989,
          34.2123,
          -31.374481,
          22.394001,
          -33.1712,
          8.129574,
          -12.628031,
          -19.381191,
          28.047068,
          39.81925,
          11.809102,
          11.237936,
          9.480667,
          -20.813997,
          -13.749386,
          18.882435,
          0.5815191,
          -1.9411545,
          -15.722886,
          -0.8628933,
          21.226446,
          15.267528,
          30.484331,
          -19.612438,
          7.7158327,
          0.12661402,
          -6.190446,
          28.070526,
          10.164378,
          -34.067303,
          14.845906,
          -1.3877741,
          9.291929,
          -16.055027,
          -0.87368333,
          0.18082379,
          -4.538025,
          -18.913145,
          -5.391382,
          18.326004,
          17.346048,
          22.950512,
          6.834608,
          33.457516,
          27.238733,
          -30.004166,
          13.027863,
          -33.09967,
          -25.35516,
          8.375574,
          32.966934,
          4.7716694,
          4.880996,
          14.637122,
          -22.690996,
          -9.905319,
          -21.943121,
          -5.3677263,
          1.8908349,
          14.790126,
          0.8401246,
          -20.28372,
          -9.817498,
          25.14948,
          5.5155797,
          -28.393663,
          -21.08998,
          -36.15119,
          -32.351162,
          -11.094693,
          5.257048,
          -0.30938226,
          1.6110531,
          18.959492,
          -12.245286,
          7.602176,
          -4.8498406,
          -18.275982,
          -19.14643,
          14.863369,
          2.2712555,
          13.870204,
          -11.600231,
          12.480521,
          -1.4826527,
          -3.164958,
          29.946856,
          -4.7365255,
          9.614867,
          -16.936272,
          18.050516,
          -14.293869,
          -26.830229,
          14.748597,
          -1.9255043,
          -26.058136,
          -11.471632,
          -28.747278,
          -13.951358,
          -2.3472755,
          25.09481,
          14.749177,
          -23.374935,
          11.794893,
          -14.076111,
          19.35394,
          38.17659,
          29.407158,
          -19.214085,
          16.933092,
          -5.766373,
          14.796487,
          -6.6959677,
          -21.565947,
          5.28089,
          14.841462,
          -36.696598,
          -32.973675,
          -9.305893,
          8.617283,
          13.880279,
          -9.374962,
          32.378128,
          -6.562829,
          -14.932376,
          -5.677418,
          17.757524,
          17.163057,
          -30.381794,
          -15.548706,
          22.729286,
          30.269522,
          -9.904099,
          -5.2901044,
          22.76131,
          9.54081,
          -34.41779,
          -9.453721,
          22.23813,
          14.597957,
          20.969286,
          -9.379062,
          -28.52742,
          9.841347,
          14.194038,
          4.7230325,
          15.293254,
          2.8975027,
          4.7179074,
          1.8110535,
          -27.64421,
          7.9630933,
          -5.188036,
          -13.856395,
          -29.527937,
          31.691801,
          31.554356,
          -10.922547,
          -26.825928,
          -1.1178331,
          -27.06779,
          -3.1207802,
          5.4560914,
          18.267899,
          0.3078008,
          0.51376575,
          32.706394,
          6.5480757,
          35.774895,
          4.3435946,
          -21.75175,
          11.068419,
          -32.71859,
          1.5699855,
          -12.473429,
          9.119488,
          -4.912611,
          -1.5481714,
          0.10867386,
          -10.406198,
          -12.23846,
          -5.961871,
          14.441659,
          34.725563,
          2.4478054,
          -27.39526,
          -6.5229177,
          -17.46076,
          28.862566,
          2.8821657,
          16.430943,
          8.102698,
          8.274185,
          18.36124,
          14.287937,
          -3.5463157,
          12.27118,
          17.469606,
          -4.054438,
          26.713156,
          -15.717742,
          -11.964844,
          -36.054817,
          8.656531,
          -20.676086,
          -20.558144,
          11.785364,
          -22.954582,
          -27.640974,
          -6.8552957,
          31.452438,
          5.9907627,
          -26.960985,
          24.596256,
          -11.970397,
          -14.225656,
          19.357967,
          -0.9612981,
          3.038973,
          22.587223,
          -2.0035715,
          -24.32135,
          14.11382,
          8.0732355,
          16.08319,
          -0.75246704,
          -3.0500414,
          5.2219543,
          -6.0402117,
          -11.54261,
          13.911113,
          -5.182741,
          -2.5616064,
          20.315153,
          11.061004,
          -16.918951,
          23.991037,
          -0.02472406,
          -17.824364,
          -29.92393,
          -15.593861,
          18.215971,
          20.521446,
          -5.044414,
          -15.638439,
          -19.979836,
          10.9792595,
          5.344455,
          20.600462,
          29.743086,
          -28.182745,
          13.090153,
          -15.492394,
          -30.487623,
          19.296377,
          25.461864,
          25.114897,
          -14.132684,
          -9.920418,
          -8.739128,
          19.786556,
          21.39455,
          -8.131834,
          8.95843,
          0.38551056,
          -21.98232,
          5.4934707,
          31.616867,
          27.039509,
          5.7467837,
          -20.799774,
          35.99224,
          -5.856403,
          -30.369562,
          4.062977,
          19.106731,
          32.307373,
          16.17111,
          -2.0996034,
          0.7293192,
          -25.75779,
          -16.496166,
          5.930034,
          17.513258,
          -2.8670604,
          -8.765646,
          -1.7453821,
          -17.296604,
          -6.5961986,
          14.26136,
          27.195553,
          8.168056,
          -14.479284,
          5.908343,
          -19.977423,
          8.818482,
          21.38967,
          5.4406033,
          6.0418215,
          -27.432154,
          -29.093157,
          32.354183,
          10.370301,
          13.459265,
          -17.21604,
          -12.530146,
          0.14846438,
          16.209295,
          -29.738625,
          6.9041204,
          9.72601,
          -24.216509,
          -7.9135528,
          -9.484978,
          -27.441175,
          -20.78249,
          11.037387,
          -8.654701,
          18.25748,
          -8.2347145,
          -25.566189,
          -9.803786,
          -12.446171,
          -10.726602,
          -3.5608761,
          -8.630792,
          -17.092278,
          -8.100436,
          16.450945,
          6.5043774,
          6.8704205,
          -28.02692,
          2.9191108,
          -0.3290362,
          -6.6186733,
          6.1592507,
          5.2629433,
          9.38362,
          12.885749,
          4.9821243,
          10.425658,
          4.978266,
          2.628741,
          -6.5461707,
          14.0673,
          10.218393,
          -29.078594,
          13.526723,
          23.220047,
          -8.969652,
          -2.1840115,
          -12.526148,
          -7.262236,
          -26.37666,
          3.6477213,
          7.295793,
          21.63652,
          3.5681968,
          -2.786326,
          -17.09813,
          -17.494415,
          -23.645197,
          -13.073115,
          9.4986105,
          28.280622,
          32.084778,
          16.329824,
          25.320154,
          -18.740246,
          35.95365,
          1.6299129,
          -14.043251,
          17.715849,
          11.237901,
          11.938278,
          37.38029,
          12.593728,
          -6.3996587,
          -5.446361,
          -3.302775,
          2.410686,
          -9.339888,
          -16.812216,
          18.152151,
          -17.273312,
          -0.6851399,
          -20.12385,
          36.275776,
          1.2442386,
          -14.04127,
          -30.406973,
          -9.622621,
          22.15769,
          -16.573416,
          -12.464683,
          18.917639,
          12.864745,
          -4.736565,
          -6.515618,
          14.565555,
          6.392307,
          -12.953064,
          11.502745,
          28.297554,
          -20.739964,
          -4.4822903,
          -27.404463,
          -2.6126182,
          -2.5510483,
          -31.89816,
          9.273304,
          -13.906689,
          32.586372,
          28.1748,
          15.323081,
          8.897656,
          -9.881086,
          -2.6964254,
          -11.737074,
          8.862478,
          35.71221,
          -1.1463032,
          6.777564,
          19.156898,
          -1.302518,
          24.931477,
          -8.454592,
          10.970642,
          -10.697084,
          25.077656,
          23.782429,
          -0.0724618,
          -0.9696179,
          4.423929,
          26.742138,
          -31.212168,
          -18.867743,
          10.053184,
          25.10472,
          15.969698,
          -19.631918,
          3.107368,
          -12.622126,
          7.307532,
          6.353895,
          12.147649,
          21.46803,
          5.1486382,
          32.59954,
          18.29665,
          36.255196,
          -27.205223,
          26.563217,
          2.9171574,
          12.505455,
          10.892933,
          3.4630048,
          4.9567823,
          -20.29809,
          3.056648,
          15.618408,
          -26.289692,
          -13.267329,
          -17.705826,
          19.653168,
          5.7773547,
          -7.615799,
          -1.1748215,
          15.209265,
          -8.93447,
          -30.916067,
          11.749229,
          -24.691309,
          18.307726,
          -19.09862,
          15.26962,
          -19.892675,
          8.038336,
          -9.961488,
          -15.459184,
          24.255373,
          -11.4219,
          -2.3707697,
          -6.5932636,
          10.364613,
          24.7471,
          -22.298578,
          24.788319,
          36.356216,
          -21.948965,
          8.706575,
          -41.019978,
          -17.801357,
          9.385272,
          13.6636095,
          8.513122,
          -21.652288,
          15.503251,
          -17.937069,
          -12.344117,
          13.398774,
          11.985581,
          -12.132662,
          -0.03996902,
          24.156721,
          12.76328,
          13.045578,
          0.19258313,
          5.919407,
          6.4047446,
          -20.498568,
          -0.7345898,
          12.071005,
          -11.601069,
          -2.6799872,
          -7.066106,
          -28.584658,
          7.653957,
          4.1644006,
          8.761741,
          2.062486,
          4.890375,
          21.19998,
          -24.506697,
          32.38626,
          -24.314468,
          25.102892,
          17.850946,
          -19.652452,
          -9.194999,
          38.46263,
          19.06016,
          24.586576,
          -1.5395774,
          -5.952868,
          -17.955303,
          -27.544325,
          15.866547,
          29.70776,
          2.7491803,
          -16.9311,
          3.0413904,
          22.056534,
          6.345164,
          20.806528,
          2.539966,
          18.474714,
          -3.140345,
          -24.463219,
          9.301073,
          -26.776028,
          3.6516867,
          -15.312426,
          -11.419123,
          -25.619595,
          12.682125,
          9.749101,
          11.196228,
          -9.2995205,
          -20.162855,
          29.98078,
          8.543135,
          10.012965,
          -2.983101,
          -4.7274466,
          -12.971176,
          21.966713,
          26.95781,
          14.744087,
          19.620611,
          -9.130101,
          5.301249,
          -9.303856,
          -17.38814,
          5.1270537,
          11.156559,
          -14.435392,
          -20.552067,
          7.9166512,
          23.317856,
          10.061565,
          28.07728,
          -18.10936,
          -23.428493,
          27.505787,
          2.588911,
          0.33864632,
          2.5492964,
          12.377877,
          -19.533813,
          -18.775328,
          23.307129,
          3.206443,
          17.27926,
          -2.120328,
          -14.549635,
          -34.058807,
          -1.8109504,
          -27.094759,
          -12.861842,
          6.728671,
          -1.9015034,
          -28.347082,
          -10.412531,
          2.0251362,
          -17.927229,
          -35.979393,
          -7.464581,
          -19.691366,
          -11.455906,
          12.858812,
          14.935999,
          4.642322,
          10.916296,
          0.39477953,
          -20.474592,
          4.0979104,
          6.59001,
          29.553457,
          -22.723494,
          -24.999294,
          -7.645001,
          19.817432,
          -20.163,
          -0.254596,
          14.804823,
          23.971085,
          21.40736,
          -13.650297,
          -18.161943,
          30.54979,
          9.058656,
          -21.644684,
          -13.766322,
          -19.715034,
          32.468758,
          -22.80148,
          8.1751995,
          -14.298208,
          -17.284763,
          -7.855496,
          -16.880526,
          -14.700176,
          28.138187,
          -12.361983,
          -27.657566,
          -6.207906,
          2.6145186,
          -16.779438,
          -14.059366,
          13.780881,
          24.566456,
          23.457525,
          34.202293,
          -11.947624,
          13.789373,
          -36.059757,
          -6.8707743,
          7.785954,
          30.3061,
          16.337898,
          14.005554,
          -14.66867,
          -21.14648,
          29.466167,
          7.341383,
          -11.822475,
          6.9832263,
          -22.586885,
          18.406315,
          -16.975538,
          -13.262127,
          -31.569756,
          18.090445,
          18.379633,
          3.7649045,
          4.563527,
          -1.5055828,
          -3.096138,
          32.219105,
          -3.1841898,
          7.018867,
          15.916362,
          -41.079636,
          -16.500944,
          -18.374609,
          15.304651,
          -2.7266414,
          25.696629,
          35.016,
          11.984233,
          -42.379898,
          -0.13837978,
          -6.05916,
          35.74662,
          10.352081,
          3.070629,
          -19.538795,
          -23.430052,
          -9.994338,
          -20.256216,
          -6.668789,
          -13.881098,
          -41.01976,
          16.689934,
          7.937228,
          -20.940845,
          -21.901814,
          -13.7960205,
          3.139818,
          -20.82114,
          -18.195797,
          -32.00849,
          28.295736,
          -29.079401,
          -21.973196,
          5.813913,
          -8.948464,
          23.294561,
          -24.629684,
          -3.8776436,
          -0.79507935,
          4.2069955,
          16.048294,
          2.633433,
          -3.9319742,
          -7.0514336,
          8.636514,
          -30.242155,
          -14.629445,
          25.615992,
          1.5556122,
          -19.115894,
          4.323212,
          26.720049,
          -16.37424,
          8.376231,
          16.788084,
          -19.518517,
          19.93593,
          15.947344,
          28.396587,
          18.256344,
          8.774623,
          -13.435413,
          33.838356,
          -25.319185,
          1.1868892,
          -17.39195,
          3.313228,
          25.285467,
          -8.981226,
          -31.970884,
          18.8257,
          -17.98484,
          -8.218629,
          -3.8803256,
          8.5044365,
          -23.044304,
          1.9029229,
          -2.8748446,
          7.2778463,
          -0.8893659,
          -9.601659,
          -0.86964333,
          -4.74922,
          -19.704641,
          -17.569818,
          11.970302,
          -16.517265,
          10.4446125,
          12.066146,
          -19.911005,
          -27.632416,
          21.565025,
          -7.1849704,
          24.377552,
          18.111023,
          -2.900778,
          -17.120058,
          -11.578743,
          9.481392,
          -4.0532823,
          -1.87037,
          -12.854945,
          28.278252,
          4.1141825,
          -12.665786,
          -25.685774,
          -2.4619496,
          -25.836199,
          -0.87065804,
          14.464531,
          4.4732656,
          6.7086906,
          -11.227451,
          -23.008976,
          21.590136,
          32.030018,
          17.792841,
          7.5333543,
          21.788174,
          32.94836,
          -2.6405153,
          -0.72208714,
          2.6439018,
          -14.101153,
          -2.3341224,
          -33.198677,
          -12.239913,
          6.6489596,
          -10.908628,
          -9.406044,
          5.2347727,
          -18.36935,
          -20.726181,
          -21.728767,
          34.316612,
          -7.7433605,
          -9.911682,
          21.203968,
          -6.2750964,
          10.563895,
          35.94953,
          -31.34034,
          27.622923,
          -10.896528,
          25.620329,
          11.372459,
          14.3134985,
          10.100509,
          -5.907983,
          19.920164,
          -0.2660395,
          26.907574,
          -20.83868,
          -17.114388,
          22.876421,
          20.700802,
          5.312953,
          -14.722994,
          -9.941518,
          -23.113262,
          1.5180473,
          13.451658,
          19.863428,
          -33.17572,
          -18.542456,
          24.156599,
          13.738263,
          -15.351458,
          -17.70079,
          5.2857966,
          8.3635645,
          24.93376,
          -0.17872995,
          18.727007,
          15.959461,
          14.42192,
          -0.86154014,
          -30.182348,
          -19.815557,
          -17.83789,
          16.654467,
          7.470467,
          -15.25075,
          8.845855,
          -33.09044,
          7.1532397,
          -22.853386,
          -14.175449,
          -2.4817495,
          -35.954617,
          0.41170314,
          -27.7197,
          4.1232095,
          -7.5386996,
          10.187165,
          20.599905,
          -33.378006,
          -17.044077,
          -32.58835,
          5.863404,
          27.417118,
          -24.166546,
          7.9234357,
          -6.67764,
          -0.9672514,
          7.413137,
          -18.557205,
          3.7746725,
          -9.843993,
          -5.681068,
          17.45202,
          25.358332,
          6.531131,
          -36.92599,
          9.004346,
          12.596653,
          26.842272,
          -10.088625,
          -15.135708,
          24.512556,
          -3.8253882,
          4.0221815,
          -14.666554,
          -9.714608,
          23.404291,
          -17.968208,
          -0.21327363,
          7.6058755,
          10.04066,
          -19.732239,
          22.065062,
          -1.2983562,
          29.8135,
          1.2194679,
          -15.430582,
          5.4582357,
          10.691464,
          -32.410004,
          22.598423,
          8.014929,
          -12.041876,
          -15.690263,
          -13.688051,
          -7.3160734,
          15.9332,
          -6.0912333,
          -27.21744,
          27.924084,
          -5.729331,
          14.418895,
          -17.004261,
          -7.4546337,
          4.5536776,
          -13.930236,
          11.620279,
          2.53871,
          -20.411024,
          -12.673773,
          -10.944142,
          -26.86894,
          -20.946747,
          -9.754462,
          8.425827,
          -24.074001,
          22.953394,
          15.860937,
          -11.524248,
          13.614401,
          -9.998343,
          20.960167,
          38.006912,
          -3.375805,
          -28.191849,
          3.5630434,
          8.122658,
          16.436285,
          8.037623,
          34.637486,
          11.281974,
          32.936203,
          4.5831757,
          14.720434,
          -40.56945,
          -21.120308,
          -7.1797667,
          27.278437,
          -13.409944,
          12.897482,
          -9.014353,
          15.482122,
          -0.63925564,
          -23.122578,
          7.639567,
          6.8853536,
          -14.654876,
          2.6542354,
          -19.326286,
          10.323971,
          -10.745808,
          16.842268,
          -32.866276,
          0.119376265,
          -28.259243,
          0.047379017,
          11.620848
         ],
         "yaxis": "y"
        },
        {
         "customdata": [
          [
           "chinese"
          ]
         ],
         "hovertemplate": "highlight=%{text}<br>x=%{x}<br>y=%{y}<br>word=%{customdata[0]}<extra></extra>",
         "legendgroup": "chinese",
         "marker": {
          "color": "#EF553B",
          "symbol": "circle"
         },
         "mode": "markers+text",
         "name": "chinese",
         "showlegend": true,
         "text": [
          "chinese"
         ],
         "type": "scattergl",
         "x": [
          -20.24707
         ],
         "xaxis": "x",
         "y": [
          -3.3742318
         ],
         "yaxis": "y"
        }
       ],
       "layout": {
        "legend": {
         "title": {
          "text": "highlight"
         },
         "tracegroupgap": 0
        },
        "template": {
         "data": {
          "bar": [
           {
            "error_x": {
             "color": "#2a3f5f"
            },
            "error_y": {
             "color": "#2a3f5f"
            },
            "marker": {
             "line": {
              "color": "#E5ECF6",
              "width": 0.5
             },
             "pattern": {
              "fillmode": "overlay",
              "size": 10,
              "solidity": 0.2
             }
            },
            "type": "bar"
           }
          ],
          "barpolar": [
           {
            "marker": {
             "line": {
              "color": "#E5ECF6",
              "width": 0.5
             },
             "pattern": {
              "fillmode": "overlay",
              "size": 10,
              "solidity": 0.2
             }
            },
            "type": "barpolar"
           }
          ],
          "carpet": [
           {
            "aaxis": {
             "endlinecolor": "#2a3f5f",
             "gridcolor": "white",
             "linecolor": "white",
             "minorgridcolor": "white",
             "startlinecolor": "#2a3f5f"
            },
            "baxis": {
             "endlinecolor": "#2a3f5f",
             "gridcolor": "white",
             "linecolor": "white",
             "minorgridcolor": "white",
             "startlinecolor": "#2a3f5f"
            },
            "type": "carpet"
           }
          ],
          "choropleth": [
           {
            "colorbar": {
             "outlinewidth": 0,
             "ticks": ""
            },
            "type": "choropleth"
           }
          ],
          "contour": [
           {
            "colorbar": {
             "outlinewidth": 0,
             "ticks": ""
            },
            "colorscale": [
             [
              0,
              "#0d0887"
             ],
             [
              0.1111111111111111,
              "#46039f"
             ],
             [
              0.2222222222222222,
              "#7201a8"
             ],
             [
              0.3333333333333333,
              "#9c179e"
             ],
             [
              0.4444444444444444,
              "#bd3786"
             ],
             [
              0.5555555555555556,
              "#d8576b"
             ],
             [
              0.6666666666666666,
              "#ed7953"
             ],
             [
              0.7777777777777778,
              "#fb9f3a"
             ],
             [
              0.8888888888888888,
              "#fdca26"
             ],
             [
              1,
              "#f0f921"
             ]
            ],
            "type": "contour"
           }
          ],
          "contourcarpet": [
           {
            "colorbar": {
             "outlinewidth": 0,
             "ticks": ""
            },
            "type": "contourcarpet"
           }
          ],
          "heatmap": [
           {
            "colorbar": {
             "outlinewidth": 0,
             "ticks": ""
            },
            "colorscale": [
             [
              0,
              "#0d0887"
             ],
             [
              0.1111111111111111,
              "#46039f"
             ],
             [
              0.2222222222222222,
              "#7201a8"
             ],
             [
              0.3333333333333333,
              "#9c179e"
             ],
             [
              0.4444444444444444,
              "#bd3786"
             ],
             [
              0.5555555555555556,
              "#d8576b"
             ],
             [
              0.6666666666666666,
              "#ed7953"
             ],
             [
              0.7777777777777778,
              "#fb9f3a"
             ],
             [
              0.8888888888888888,
              "#fdca26"
             ],
             [
              1,
              "#f0f921"
             ]
            ],
            "type": "heatmap"
           }
          ],
          "heatmapgl": [
           {
            "colorbar": {
             "outlinewidth": 0,
             "ticks": ""
            },
            "colorscale": [
             [
              0,
              "#0d0887"
             ],
             [
              0.1111111111111111,
              "#46039f"
             ],
             [
              0.2222222222222222,
              "#7201a8"
             ],
             [
              0.3333333333333333,
              "#9c179e"
             ],
             [
              0.4444444444444444,
              "#bd3786"
             ],
             [
              0.5555555555555556,
              "#d8576b"
             ],
             [
              0.6666666666666666,
              "#ed7953"
             ],
             [
              0.7777777777777778,
              "#fb9f3a"
             ],
             [
              0.8888888888888888,
              "#fdca26"
             ],
             [
              1,
              "#f0f921"
             ]
            ],
            "type": "heatmapgl"
           }
          ],
          "histogram": [
           {
            "marker": {
             "pattern": {
              "fillmode": "overlay",
              "size": 10,
              "solidity": 0.2
             }
            },
            "type": "histogram"
           }
          ],
          "histogram2d": [
           {
            "colorbar": {
             "outlinewidth": 0,
             "ticks": ""
            },
            "colorscale": [
             [
              0,
              "#0d0887"
             ],
             [
              0.1111111111111111,
              "#46039f"
             ],
             [
              0.2222222222222222,
              "#7201a8"
             ],
             [
              0.3333333333333333,
              "#9c179e"
             ],
             [
              0.4444444444444444,
              "#bd3786"
             ],
             [
              0.5555555555555556,
              "#d8576b"
             ],
             [
              0.6666666666666666,
              "#ed7953"
             ],
             [
              0.7777777777777778,
              "#fb9f3a"
             ],
             [
              0.8888888888888888,
              "#fdca26"
             ],
             [
              1,
              "#f0f921"
             ]
            ],
            "type": "histogram2d"
           }
          ],
          "histogram2dcontour": [
           {
            "colorbar": {
             "outlinewidth": 0,
             "ticks": ""
            },
            "colorscale": [
             [
              0,
              "#0d0887"
             ],
             [
              0.1111111111111111,
              "#46039f"
             ],
             [
              0.2222222222222222,
              "#7201a8"
             ],
             [
              0.3333333333333333,
              "#9c179e"
             ],
             [
              0.4444444444444444,
              "#bd3786"
             ],
             [
              0.5555555555555556,
              "#d8576b"
             ],
             [
              0.6666666666666666,
              "#ed7953"
             ],
             [
              0.7777777777777778,
              "#fb9f3a"
             ],
             [
              0.8888888888888888,
              "#fdca26"
             ],
             [
              1,
              "#f0f921"
             ]
            ],
            "type": "histogram2dcontour"
           }
          ],
          "mesh3d": [
           {
            "colorbar": {
             "outlinewidth": 0,
             "ticks": ""
            },
            "type": "mesh3d"
           }
          ],
          "parcoords": [
           {
            "line": {
             "colorbar": {
              "outlinewidth": 0,
              "ticks": ""
             }
            },
            "type": "parcoords"
           }
          ],
          "pie": [
           {
            "automargin": true,
            "type": "pie"
           }
          ],
          "scatter": [
           {
            "fillpattern": {
             "fillmode": "overlay",
             "size": 10,
             "solidity": 0.2
            },
            "type": "scatter"
           }
          ],
          "scatter3d": [
           {
            "line": {
             "colorbar": {
              "outlinewidth": 0,
              "ticks": ""
             }
            },
            "marker": {
             "colorbar": {
              "outlinewidth": 0,
              "ticks": ""
             }
            },
            "type": "scatter3d"
           }
          ],
          "scattercarpet": [
           {
            "marker": {
             "colorbar": {
              "outlinewidth": 0,
              "ticks": ""
             }
            },
            "type": "scattercarpet"
           }
          ],
          "scattergeo": [
           {
            "marker": {
             "colorbar": {
              "outlinewidth": 0,
              "ticks": ""
             }
            },
            "type": "scattergeo"
           }
          ],
          "scattergl": [
           {
            "marker": {
             "colorbar": {
              "outlinewidth": 0,
              "ticks": ""
             }
            },
            "type": "scattergl"
           }
          ],
          "scattermapbox": [
           {
            "marker": {
             "colorbar": {
              "outlinewidth": 0,
              "ticks": ""
             }
            },
            "type": "scattermapbox"
           }
          ],
          "scatterpolar": [
           {
            "marker": {
             "colorbar": {
              "outlinewidth": 0,
              "ticks": ""
             }
            },
            "type": "scatterpolar"
           }
          ],
          "scatterpolargl": [
           {
            "marker": {
             "colorbar": {
              "outlinewidth": 0,
              "ticks": ""
             }
            },
            "type": "scatterpolargl"
           }
          ],
          "scatterternary": [
           {
            "marker": {
             "colorbar": {
              "outlinewidth": 0,
              "ticks": ""
             }
            },
            "type": "scatterternary"
           }
          ],
          "surface": [
           {
            "colorbar": {
             "outlinewidth": 0,
             "ticks": ""
            },
            "colorscale": [
             [
              0,
              "#0d0887"
             ],
             [
              0.1111111111111111,
              "#46039f"
             ],
             [
              0.2222222222222222,
              "#7201a8"
             ],
             [
              0.3333333333333333,
              "#9c179e"
             ],
             [
              0.4444444444444444,
              "#bd3786"
             ],
             [
              0.5555555555555556,
              "#d8576b"
             ],
             [
              0.6666666666666666,
              "#ed7953"
             ],
             [
              0.7777777777777778,
              "#fb9f3a"
             ],
             [
              0.8888888888888888,
              "#fdca26"
             ],
             [
              1,
              "#f0f921"
             ]
            ],
            "type": "surface"
           }
          ],
          "table": [
           {
            "cells": {
             "fill": {
              "color": "#EBF0F8"
             },
             "line": {
              "color": "white"
             }
            },
            "header": {
             "fill": {
              "color": "#C8D4E3"
             },
             "line": {
              "color": "white"
             }
            },
            "type": "table"
           }
          ]
         },
         "layout": {
          "annotationdefaults": {
           "arrowcolor": "#2a3f5f",
           "arrowhead": 0,
           "arrowwidth": 1
          },
          "autotypenumbers": "strict",
          "coloraxis": {
           "colorbar": {
            "outlinewidth": 0,
            "ticks": ""
           }
          },
          "colorscale": {
           "diverging": [
            [
             0,
             "#8e0152"
            ],
            [
             0.1,
             "#c51b7d"
            ],
            [
             0.2,
             "#de77ae"
            ],
            [
             0.3,
             "#f1b6da"
            ],
            [
             0.4,
             "#fde0ef"
            ],
            [
             0.5,
             "#f7f7f7"
            ],
            [
             0.6,
             "#e6f5d0"
            ],
            [
             0.7,
             "#b8e186"
            ],
            [
             0.8,
             "#7fbc41"
            ],
            [
             0.9,
             "#4d9221"
            ],
            [
             1,
             "#276419"
            ]
           ],
           "sequential": [
            [
             0,
             "#0d0887"
            ],
            [
             0.1111111111111111,
             "#46039f"
            ],
            [
             0.2222222222222222,
             "#7201a8"
            ],
            [
             0.3333333333333333,
             "#9c179e"
            ],
            [
             0.4444444444444444,
             "#bd3786"
            ],
            [
             0.5555555555555556,
             "#d8576b"
            ],
            [
             0.6666666666666666,
             "#ed7953"
            ],
            [
             0.7777777777777778,
             "#fb9f3a"
            ],
            [
             0.8888888888888888,
             "#fdca26"
            ],
            [
             1,
             "#f0f921"
            ]
           ],
           "sequentialminus": [
            [
             0,
             "#0d0887"
            ],
            [
             0.1111111111111111,
             "#46039f"
            ],
            [
             0.2222222222222222,
             "#7201a8"
            ],
            [
             0.3333333333333333,
             "#9c179e"
            ],
            [
             0.4444444444444444,
             "#bd3786"
            ],
            [
             0.5555555555555556,
             "#d8576b"
            ],
            [
             0.6666666666666666,
             "#ed7953"
            ],
            [
             0.7777777777777778,
             "#fb9f3a"
            ],
            [
             0.8888888888888888,
             "#fdca26"
            ],
            [
             1,
             "#f0f921"
            ]
           ]
          },
          "colorway": [
           "#636efa",
           "#EF553B",
           "#00cc96",
           "#ab63fa",
           "#FFA15A",
           "#19d3f3",
           "#FF6692",
           "#B6E880",
           "#FF97FF",
           "#FECB52"
          ],
          "font": {
           "color": "#2a3f5f"
          },
          "geo": {
           "bgcolor": "white",
           "lakecolor": "white",
           "landcolor": "#E5ECF6",
           "showlakes": true,
           "showland": true,
           "subunitcolor": "white"
          },
          "hoverlabel": {
           "align": "left"
          },
          "hovermode": "closest",
          "mapbox": {
           "style": "light"
          },
          "paper_bgcolor": "white",
          "plot_bgcolor": "#E5ECF6",
          "polar": {
           "angularaxis": {
            "gridcolor": "white",
            "linecolor": "white",
            "ticks": ""
           },
           "bgcolor": "#E5ECF6",
           "radialaxis": {
            "gridcolor": "white",
            "linecolor": "white",
            "ticks": ""
           }
          },
          "scene": {
           "xaxis": {
            "backgroundcolor": "#E5ECF6",
            "gridcolor": "white",
            "gridwidth": 2,
            "linecolor": "white",
            "showbackground": true,
            "ticks": "",
            "zerolinecolor": "white"
           },
           "yaxis": {
            "backgroundcolor": "#E5ECF6",
            "gridcolor": "white",
            "gridwidth": 2,
            "linecolor": "white",
            "showbackground": true,
            "ticks": "",
            "zerolinecolor": "white"
           },
           "zaxis": {
            "backgroundcolor": "#E5ECF6",
            "gridcolor": "white",
            "gridwidth": 2,
            "linecolor": "white",
            "showbackground": true,
            "ticks": "",
            "zerolinecolor": "white"
           }
          },
          "shapedefaults": {
           "line": {
            "color": "#2a3f5f"
           }
          },
          "ternary": {
           "aaxis": {
            "gridcolor": "white",
            "linecolor": "white",
            "ticks": ""
           },
           "baxis": {
            "gridcolor": "white",
            "linecolor": "white",
            "ticks": ""
           },
           "bgcolor": "#E5ECF6",
           "caxis": {
            "gridcolor": "white",
            "linecolor": "white",
            "ticks": ""
           }
          },
          "title": {
           "x": 0.05
          },
          "xaxis": {
           "automargin": true,
           "gridcolor": "white",
           "linecolor": "white",
           "ticks": "",
           "title": {
            "standoff": 15
           },
           "zerolinecolor": "white",
           "zerolinewidth": 2
          },
          "yaxis": {
           "automargin": true,
           "gridcolor": "white",
           "linecolor": "white",
           "ticks": "",
           "title": {
            "standoff": 15
           },
           "zerolinecolor": "white",
           "zerolinewidth": 2
          }
         }
        },
        "title": {
         "text": "t-SNE Visualization of BERT Word Embeddings"
        },
        "xaxis": {
         "anchor": "y",
         "domain": [
          0,
          1
         ],
         "title": {
          "text": "x"
         }
        },
        "yaxis": {
         "anchor": "x",
         "domain": [
          0,
          1
         ],
         "title": {
          "text": "y"
         }
        }
       }
      }
     },
     "metadata": {},
     "output_type": "display_data"
    }
   ],
   "source": [
    "import plotly.express as px\n",
    "# Create a DataFrame for visualization\n",
    "df_tsne = pandas.DataFrame(tsne_results, columns=['x', 'y'])\n",
    "df_tsne['word'] = list(bert_word_embeddings.keys())\n",
    "# Highlight the word 'chinese' in the plot\n",
    "df_tsne['highlight'] = df_tsne['word'].apply(lambda x: 'chinese' if x == 'chinese' else '')\n",
    "\n",
    "fig = px.scatter(\n",
    "    df_tsne,\n",
    "    x='x',\n",
    "    y='y',\n",
    "    title='t-SNE Visualization of BERT Word Embeddings',\n",
    "    color='highlight',                        \n",
    "    hover_data=['word'], \n",
    "    text= 'highlight'\n",
    ")\n",
    "\n",
    "fig.show()\n"
   ]
  },
  {
   "cell_type": "markdown",
   "id": "a3c7a4b9",
   "metadata": {},
   "source": [
    "### Sentence Embeddings"
   ]
  },
  {
   "cell_type": "code",
   "execution_count": 15,
   "id": "042d4963",
   "metadata": {},
   "outputs": [
    {
     "name": "stdout",
     "output_type": "stream",
     "text": [
      "Line 91: The aliens in this case being Chinese, the first enquiry must be, what is the object of the Act? On applying to the preamble, we find that it looks like a bill of indictment as against a race not suited to live among a civilized nation, and certainly does not prepare one for legislation which would encourage or tolerate their settlement in the country. Indeed, the first lines of the preamble sound an alarm at the multitude of people coming in, who are of the repulsive habits described in the last part of the preamble, and prepares one for measures which should have a tendency to abate that alarm by deterrent influences and enactments which should have the effect of materially lessening the number of such undesirable visitors. The provisions of the Act I have given somewhat in extenso bear out that view, and the concurrent and previous local legislation bear out the same impression, for on the same day as this Act was passed, another Act was passed, the very object of which was plainly stated to be \"to prevent the immigration\" of Chinese.\" \n"
     ]
    }
   ],
   "source": [
    "from pathlib import Path\n",
    "\n",
    "# Read the txt file as lines\n",
    "lines = Path(\"data/Regina_V_Wing_Chong.txt\").read_text(encoding=\"utf-8\").splitlines()\n",
    "\n",
    "# Extract line 67 as the target\n",
    "target = lines[91]\n",
    "print(\"Line 91:\", target)\n"
   ]
  },
  {
   "cell_type": "code",
   "execution_count": 16,
   "id": "5d8393ae",
   "metadata": {},
   "outputs": [
    {
     "name": "stdout",
     "output_type": "stream",
     "text": [
      "CREASE, J. 1885. REGINA v. WING CHONG.\n",
      "14th & 15th July, Certiorari—“Chinese Regulation Act, 1884,” s. 5—Constitutionality—B.N.A. Act, 1867, ss. 91, 92—“Aliens”—“Trade and Commerce”—Taxation. \n",
      "On the return to a writ of certiorari. Held, that the “Chinese Regulation Act, 1884,” is ultra vires of the Provincial Legislature, on the following grounds: \n",
      "1. It is an interference with the rights of Aliens. \n",
      "2. It is an interference with Trade and Commerce. \n",
      "3. It is an infraction of the existing treaties between the Imperial Government and China. \n",
      "4. It imposes unequal taxation.\n",
      "14th & 15th July—On the return of a writ of certiorari directed to Edwin Johnson, Esquire, Police Magistrate for the City of Victoria, to return into this Court a certain conviction made by him under which one Wing Chong was fined $20 for not having in his possession a license issued under the “Chinese Regulation Act, 1884.”\n",
      "The Attorney-General in support of the conviction said there were five points raised on the rule for the certiorari against the validity of the $10 tax.—1st. That it interfered with the Dominion powers under the B. N. A. Act, aliens, and naturalization; 2nd. Trade and commerce; 3rd. Treaty obligations; 4th. That the tax was unequal, and 5th. It was indirect taxation. As to the first point aliens were as much subject to taxation as citizens. Protection and taxation were reciprocal (Cooley on Taxation, p. 14). The law did not deal with the conditions under which aliens might acquire rights or become subjects of Her Majesty. Secondly—Trade and commerce were not interfered with. The object of the Act was two-fold, the police and sanitary regulation of a numerous foreign element, and the raising of revenue necessary to meet that regulation (Hodge v. The Queen, L. R. 9, App. Cas. 117). If incidentally trade and commerce were touched, the provincial power of direct taxation was not impaired (Citizens Insurance Co. v. Parsons, L. R. 7 App. Cas. 108). The preamble and scope of the Act showed its objects were purely matters of the police and raising of revenue to meet the necessary expenditure, and within “Direct Taxation.” Thirdly—The treaty obligations of England did not affect the question. The last communication from the Secretary of State for the Colonies to the Governor-General, dated 16th May, 1884, stated, in effect, that the Colonies with responsible government could pass restrictive laws irrespective of treaties (B. C. Sessional Papers, 1885, p. 464), and instanced the legislation of the Australian Colonies and of the Dominion. Fourthly—As to unequal taxation, the power of the Province within its jurisdiction was supreme and as plenary as that of the Imperial Parliament (R. v. Burah, L.R. 3 App. Cas. 904; R. v. Hodge, L. R. 9, App. Cas. 117; and Powell v. Apollo Candle Co., L.R. 10 App. Cas., p. 290; and *In re Goodhue*, 19 Gr. 366); *Cooley* on Taxation, pp. 3, 82, 126-128, and *Cooley's Constitutional Limitations* (5th Ed.) 626-7; *Sedgwick* on Stat. (2nd Ed.), p. 501; *Potter's Dwarris* 418, 421, 425; *Dow v. Black*, L. R. 6 P. C. 272, were cited as showing the power of taxation, unless abridged by the written constitution, might be exercised so as to discriminate. The Supreme Court of Canada, in the case of *Jonas v. Gilbert*, 5 S. C. R., 356, had practically decided the same point. Fifthly—Whether called a licence or not, the imposition was a direct poll tax, and as such came within the power of the Province to raise money by direct taxation for Provincial purposes. *Cooley* on Taxation, 386; *Wharton's Law Lexicon*; *Reed v. Mousseau*, 8 S. C. R., 408. It was not a license to carry on business, or a method whereby indirectly money was raised from the consumer, as, for instance, customs or stamp laws.\n",
      "*Richards*, Q. C., for Wing Chong—The object of the Act was not for police purposes or to raise revenue. Its object, though not apparent on the face of the Act, was to prevent Chinese coming into the Province and drive out those who had already come. He reviewed the legislation against Chinese since confederation, contending it was levelled against a particular race of aliens and, therefore, beyond provincial control, per *Gwynne*, J., in *Citizens Insurance Co. v. Parsons*, 4 S. C. R., at p. 346. The law was a direct interference with trade and commerce (*R. v. Severn*, 2 Can. S. C. R., 70). If its object were successful and Chinese driven from the country, the customs dues received from the Chinese would be lost and the benefits of trade relations enjoyed by the merchants would be destroyed. Counsel cited statistics from the Chinese Commission showing the extreme importance, from a fiscal and commercial point of view, of the large number of Chinese in the Province. The Dominion under the B. N. A. Act had alone the right of performing in Canada the obligations of Canada as part of the British Empire in respect of treaties, and although Canada might pass laws prohibiting immigration, or having that tendency, the Province could not do so, nor could it pass laws in derogation of treaties. He cited the British treaty (25th August, 1842, from *Hertslet*, Vol. 6, and Lord *Elgin's* treaty, 1860), comparing it with the *Burlingame* treaty of the United States, and quoted California decisions (*Lin Sing v. Washburn*, 20 Cal. 334), and the decision of *Gray*, J., in *Tai Sing v. Maguire*, deciding that similar legislation was held void as contravening the treaty and the sovereign power to regulate trade and commerce with foreign countries.\n"
     ]
    }
   ],
   "source": [
    "paragraphs = [p.strip() for p in full_text.split(\"\\n\\n\") if p.strip()]\n",
    "\n",
    "for paragraph in paragraphs[:5]:\n",
    "    print(paragraph)"
   ]
  },
  {
   "cell_type": "code",
   "execution_count": 17,
   "id": "4a7e5fd9",
   "metadata": {},
   "outputs": [
    {
     "name": "stdout",
     "output_type": "stream",
     "text": [
      "WARNING:tensorflow:From c:\\Users\\Kaiyan Zhang\\AppData\\Local\\Programs\\Python\\Python312\\Lib\\site-packages\\tf_keras\\src\\losses.py:2976: The name tf.losses.sparse_softmax_cross_entropy is deprecated. Please use tf.compat.v1.losses.sparse_softmax_cross_entropy instead.\n",
      "\n",
      "torch.Size([78, 384])\n"
     ]
    }
   ],
   "source": [
    "from sentence_transformers import SentenceTransformer\n",
    "\n",
    "# Import the sentence transformer model\n",
    "model = SentenceTransformer(\"all-MiniLM-L6-v2\")\n",
    "\n",
    "# Calculate embeddings by calling model.encode()\n",
    "paragraph_embeddings = model.encode(paragraphs, convert_to_tensor=True)\n",
    "print(paragraph_embeddings.shape)"
   ]
  },
  {
   "cell_type": "code",
   "execution_count": 18,
   "id": "01102fcc",
   "metadata": {},
   "outputs": [],
   "source": [
    "# We also want to encode the target separately\n",
    "target_embedding = model.encode(target, convert_to_tensor=True)"
   ]
  },
  {
   "cell_type": "code",
   "execution_count": 40,
   "id": "e0c50fdc",
   "metadata": {},
   "outputs": [
    {
     "name": "stdout",
     "output_type": "stream",
     "text": [
      "1.0000\tThe aliens in this case being Chinese, the first enquiry must be, what is the object of the Act? On applying to the preamble, we find that it looks like a bill of indictment as against a race not suited to live among a civilized nation, and certainly does not prepare one for legislation which would encourage or tolerate their settlement in the country. Indeed, the first lines of the preamble sound an alarm at the multitude of people coming in, who are of the repulsive habits described in the last part of the preamble, and prepares one for measures which should have a tendency to abate that alarm by deterrent influences and enactments which should have the effect of materially lessening the number of such undesirable visitors. The provisions of the Act I have given somewhat in extenso bear out that view, and the concurrent and previous local legislation bear out the same impression, for on the same day as this Act was passed, another Act was passed, the very object of which was plainly stated to be \"to prevent the immigration\" of Chinese.\"\n",
      "0.6602\tAnd again, \"A tax imposed by the law on these persons for the mere right to reside here, is an appropriate and effective means to discourage the immigration of the Chinese into the State.\"\n",
      "0.6157\tIf a man employ a Chinaman who should happen to be delinquent in his tax, and he happens to occupy a cottage or room of his employer, with his master's goods in it, under section 10 they are liable to seizure and sale. In every prosecution under the Act the legal presumption of innocence until conviction is reversed; in every case the onus probandi, though in a Statute highly penal, is shifted from the informant on to the shoulders of the accused, and he a foreigner not knowing one word of the law, or even the language of the accuser. In other words, every Chinese is guilty until proved innocent—a provision which fills one conversant with subjects with alarm; for if such a law can be tolerated as against Chinese, the precedent is set, and in time of any popular outcry can easily be acted on for putting any other foreigners or even special classes among ourselves, as coloured people, or French, Italians, Americans, or Germans, under equally the same law. That certainly is interfering with aliens.\n",
      "0.6025\tThe power asserted in the Act in question (the California Act) is the right of the State to prescribe the terms upon which the Chinese shall be permitted to reside in it, and be so used as to cut off all intercourse between them and the people of the State, and defeat the commercial policy of the nation.\n",
      "0.5887\tIt is impossible but that such an imposition so enforced, in addition to all the general taxes to which he is subject, should make this country too hot for him to live in; and just in proportion as he is so persecuted out of the country, in that degree does this enactment interfere with trade and commerce and that control over aliens exclusively given to the Dominion. And not only is he thus attacked, but unheard of provisions are introduced. Every employé of Chinese labour, whether English, American, or what not, is made liable to severe and incessant liability of a penal kind, for what? Some act, a default of his own? No; an act or default of a stranger, a man whose language he knows not, and for every infraction of the Act by the Chinese under his employ. The palpable object of such a provision, or set of provisions, is to render the employment of Chinese so distasteful and annoying to the employer that he must cease to employ them. Now, to pass a law providing that employment shall not be given to a special class of men, except it be productive of so much danger, annoyance, and loss to the employer, is just another way of saying that no intercourse shall be had with that class. With penalties and prosecutions always before you, far in excess of any advantage to be derived from that intercourse or trade, what is that but equivalent to saying that such intercourse or trade or labour must cease altogether. What is that but interfering with aliens, trade, and commerce?\n",
      "0.5838\t*Richards*, Q. C., for Wing Chong—The object of the Act was not for police purposes or to raise revenue. Its object, though not apparent on the face of the Act, was to prevent Chinese coming into the Province and drive out those who had already come. He reviewed the legislation against Chinese since confederation, contending it was levelled against a particular race of aliens and, therefore, beyond provincial control, per *Gwynne*, J., in *Citizens Insurance Co. v. Parsons*, 4 S. C. R., at p. 346. The law was a direct interference with trade and commerce (*R. v. Severn*, 2 Can. S. C. R., 70). If its object were successful and Chinese driven from the country, the customs dues received from the Chinese would be lost and the benefits of trade relations enjoyed by the merchants would be destroyed. Counsel cited statistics from the Chinese Commission showing the extreme importance, from a fiscal and commercial point of view, of the large number of Chinese in the Province. The Dominion under the B. N. A. Act had alone the right of performing in Canada the obligations of Canada as part of the British Empire in respect of treaties, and although Canada might pass laws prohibiting immigration, or having that tendency, the Province could not do so, nor could it pass laws in derogation of treaties. He cited the British treaty (25th August, 1842, from *Hertslet*, Vol. 6, and Lord *Elgin's* treaty, 1860), comparing it with the *Burlingame* treaty of the United States, and quoted California decisions (*Lin Sing v. Washburn*, 20 Cal. 334), and the decision of *Gray*, J., in *Tai Sing v. Maguire*, deciding that similar legislation was held void as contravening the treaty and the sovereign power to regulate trade and commerce with foreign countries.\n",
      "0.5793\tThat the Chinese might be taxed as other residents, but could not be set apart as special objects of the taxation, and be compelled to contribute to the revenue of the State in the character of foreigners.\n",
      "0.5780\t21st August, 1885—CREASE, J.— In order to deal satisfactorily with the questions raised by this appeal, it is necessary to see what is the scope and purport of the Act. It is called \"An Act to regulate the Chinese population of British Columbia.\" It starts with a recital, in itself a petio principii—not apparently the result of any public enquiry—which charges them with being not law-abiding, dissimilar in habits and occupation to the whites—useless in emergencies, habitual desecrators of grave-yards, unsuited to our laws, and of habits subversive of the community. From that premises concluding that special laws are required for their government, it proceeds to enact:—\n",
      "0.5716\tSection 27 places in the hand of the local executive the construction from time to time of further rules and regulations to enforce the Act, and a fitting summary to such a premiss in section 28 reverses all the old law of England and one of the most cherished and priceless safeguards of the freedom from oppression won for us by our forefathers—that no one shall be deemed guilty until he has been proved so—throws on the defendant, white or yellow, the burden of proving that he is exempt from the operation of its arbitrary provisions—and in a tax Act which is in restraint of personal liberty, and opposed to the common law rights of the citizen—for if applicable to aliens it is a fortiori to the temporary inhabitants of the Province—abrogates the hitherto invariable rule in criminal matters and makes it unnecessary in any information, summons or conviction to “state or negotiate any “exception in or exemption under this Act, or in contemplation of “law.” Taught by experience of former efforts in the same direction, section 29 gives one year’s notice of the coming into operation of the Act—a time which has now expired. And section 30 terms it merely “The Chinese Regulation Act, 1884.”\n"
     ]
    }
   ],
   "source": [
    "import torch\n",
    "from torch.nn.functional import cosine_similarity\n",
    "\n",
    "# Calculate the cosine similarity\n",
    "sims = cosine_similarity(target_embedding.unsqueeze(0), paragraph_embeddings)\n",
    "\n",
    "k = min(10, sims.shape[0])\n",
    "\n",
    "topk = torch.topk(sims, k=k-1)\n",
    "\n",
    "top_paragraphs = []\n",
    "\n",
    "for score, idx in zip(topk.values, topk.indices):\n",
    "    top_paragraphs.append(paragraphs[idx])\n",
    "    print(f\"{score:.4f}\\t{paragraphs[idx]}\")"
   ]
  },
  {
   "cell_type": "code",
   "execution_count": 20,
   "id": "c0a63e8b",
   "metadata": {},
   "outputs": [
    {
     "name": "stdout",
     "output_type": "stream",
     "text": [
      "['CREASE, J. 1885.', 'REGINA v. WING CHONG.', '14th & 15th July, Certiorari—“Chinese Regulation Act, 1884,” s. 5—Constitutionality—B.N.A. Act, 1867, ss.', '91, 92—“Aliens”—“Trade and Commerce”—Taxation.', 'On the return to a writ of certiorari.', 'Held, that the “Chinese Regulation Act, 1884,” is ultra vires of the Provincial Legislature, on the following grounds: \\n1.', 'It is an interference with the rights of Aliens.', '2.', 'It is an interference with Trade and Commerce.', '3.', 'It is an infraction of the existing treaties between the Imperial Government and China.', '4.', 'It imposes unequal taxation.', '14th & 15th July—On the return of a writ of certiorari directed to Edwin Johnson, Esquire, Police Magistrate for the City of Victoria, to return into this Court a certain conviction made by him under which one Wing Chong was fined $20 for not having in his possession a license issued under the “Chinese Regulation Act, 1884.”', 'The Attorney-General in support of the conviction said there were five points raised on the rule for the certiorari against the validity of the $10 tax.—1st.', 'That it interfered with the Dominion powers under the B. N. A. Act, aliens, and naturalization; 2nd.', 'Trade and commerce; 3rd.', 'Treaty obligations; 4th.', 'That the tax was unequal, and 5th.', 'It was indirect taxation.', 'As to the first point aliens were as much subject to taxation as citizens.', 'Protection and taxation were reciprocal (Cooley on Taxation, p. 14).', 'The law did not deal with the conditions under which aliens might acquire rights or become subjects of Her Majesty.', 'Secondly—Trade and commerce were not interfered with.', 'The object of the Act was two-fold, the police and sanitary regulation of a numerous foreign element, and the raising of revenue necessary to meet that regulation (Hodge v. The Queen, L. R. 9, App.', 'Cas. 117).', 'If incidentally trade and commerce were touched, the provincial power of direct taxation was not impaired (Citizens Insurance Co. v. Parsons, L. R. 7 App.', 'Cas. 108).', 'The preamble and scope of the Act showed its objects were purely matters of the police and raising of revenue to meet the necessary expenditure, and within “Direct Taxation.”', 'Thirdly—The treaty obligations of England did not affect the question.', 'The last communication from the Secretary of State for the Colonies to the Governor-General, dated 16th May, 1884, stated, in effect, that the Colonies with responsible government could pass restrictive laws irrespective of treaties (B. C. Sessional Papers, 1885, p. 464), and instanced the legislation of the Australian Colonies and of the Dominion.', 'Fourthly—As to unequal taxation, the power of the Province within its jurisdiction was supreme and as plenary as that of the Imperial Parliament (R. v. Burah, L.R. 3 App.', 'Cas. 904; R. v. Hodge, L. R. 9, App.', 'Cas. 117; and Powell v. Apollo Candle Co., L.R. 10 App.', \"Cas., p. 290; and *In re Goodhue*, 19 Gr. 366); *Cooley* on Taxation, pp. 3, 82, 126-128, and *Cooley's Constitutional Limitations* (5th Ed.)\", '626-7; *Sedgwick* on Stat.', \"(2nd Ed.), p. 501; *Potter's Dwarris* 418, 421, 425; *Dow v. Black*, L. R. 6 P. C. 272, were cited as showing the power of taxation, unless abridged by the written constitution, might be exercised so as to discriminate.\", 'The Supreme Court of Canada, in the case of *Jonas v. Gilbert*, 5 S. C. R., 356, had practically decided the same point.', 'Fifthly—Whether called a licence or not, the imposition was a direct poll tax, and as such came within the power of the Province to raise money by direct taxation for Provincial purposes.', \"*Cooley* on Taxation, 386; *Wharton's Law Lexicon*; *Reed v. Mousseau*, 8 S. C. R., 408.\", 'It was not a license to carry on business, or a method whereby indirectly money was raised from the consumer, as, for instance, customs or stamp laws.', '*Richards*, Q. C., for Wing Chong—The object of the Act was not for police purposes or to raise revenue.', 'Its object, though not apparent on the face of the Act, was to prevent Chinese coming into the Province and drive out those who had already come.', 'He reviewed the legislation against Chinese since confederation, contending it was levelled against a particular race of aliens and, therefore, beyond provincial control, per *Gwynne*, J., in *Citizens Insurance Co. v. Parsons*, 4 S. C. R., at p. 346.', 'The law was a direct interference with trade and commerce (*R. v. Severn*, 2 Can.', 'S. C. R., 70).', 'If its object were successful and Chinese driven from the country, the customs dues received from the Chinese would be lost and the benefits of trade relations enjoyed by the merchants would be destroyed.', 'Counsel cited statistics from the Chinese Commission showing the extreme importance, from a fiscal and commercial point of view, of the large number of Chinese in the Province.', 'The Dominion under the B. N. A. Act had alone the right of performing in Canada the obligations of Canada as part of the British Empire in respect of treaties, and although Canada might pass laws prohibiting immigration, or having that tendency, the Province could not do so, nor could it pass laws in derogation of treaties.', \"He cited the British treaty (25th August, 1842, from *Hertslet*, Vol. 6, and Lord *Elgin's* treaty, 1860), comparing it with the *Burlingame* treaty of the United States, and quoted California decisions (*Lin Sing v. Washburn*, 20 Cal. 334), and the decision of *Gray*, J., in *Tai Sing v. Maguire*, deciding that similar legislation was held void as contravening the treaty and the sovereign power to regulate trade and commerce with foreign countries.\", '*Drake*, Q. C., on the same side, argued that the imposition of the $10 tax was invalid because of inequality.', 'Inherent in and incidental to the taxing power was the characteristic of equality.', \"*Cooley* stated that irrespective of constitutional limitation a particular class of citizens could not be burdened for the advantage of others—*Cooley's Constitutional Limitations*, p. 635.\", 'This was a principle underlying the power to tax and governing that right even though the CREASE, J. 1885.', 'REGINA v. WING CHONG.', 'written constitution made no mention of it—Cooley on Taxation, p. 18, and City of Lexington v. McQuillan, 35 Am.', 'Dec. 159.', 'The imposition was in derogation of treaty rights with which Canada alone had the power to deal.', 'The Australian legislation did not help the contention of the Attorney-General.', 'The Australian Colonies were autonomous, and occupied the same position as that of Canada.', 'The Provinces were not autonomous.', 'He did not contend that the whole of the Act was invalid.', 'Much of it was within the scope of the Province, notably the provisions affecting the size of dwellings, the forbidding the use of opium, and the desecration of grave-yards.', 'He insisted that imposing excessive taxation on one class of citizens was unconstitutional.', 'The remarks of Chief Justice Ritchie, in the case of Jonas v. Gilbert before the Supreme Court of Canada, were obiter dicta, as the decision was upon another point, and intimated, but did not decide the right of the Provinces to discriminate, nor in what things and to what extent discrimination in taxation was legitimate.', 'Lastly, the Act was for indirect taxation, which was a power given only to the Dominion Parliament.', 'It was a license fee, the power to impose which had, in Severn v. The Queen, been decided against the Provinces on the score of such legislation being against trade and commerce.', 'The Attorney-General in reply—The ten dollar impost was a tax whether designated by the name of a licence or otherwise.', 'The distinction between direct and indirect taxation was well drawn in the case of Reed v. Mousseau before the Supreme Court of Canada, in which Mr. Justice Strong mentioned the Privy Council had decided the Provincial legislatures had exclusive power to impose direct taxation, and that it did not follow they might not have power even to impose indirect taxation.', 'The tax did not sanction the carrying on of any business out of the product of which the consumer would, indirectly, contribute towards payment of the tax.', 'Then as to inequality, the one dictum of Cooley was but an expression of opinion that political wisdom required uniform taxation; for the same author cited numerous authorities, including that of the Supreme Court of the United States establishing the right to discriminate unless fettered by the express language of the Constitution.', 'Todd on Parliamentary Government in the Colonies, supported the view that the Provinces within their jurisdiction were as omnipotent as the Imperial Parliament.', 'The California cases (see The People v. Naglee, 1 Cal. 232) decided a differential tax might be imposed on foreign miners; and though a later case (Lin Sing v. Washburn, 20 Cal. 334) had decided a special tax could not be imposed on Chinese, a most celebrated Judge, Mr. Justice Field (since elevated to the Federal bench), dissented, and had pointed out that according to federal decisions the State might impose special taxation on alien residents, provided the impost was not levied against foreigners landing in the country.', 'The tax was not to exclude the Chinese — another statute with that object had been disallowed.', 'It was imposed to meet the extraordinary expenses incident to enforcing the police and sanitary regulations prescribed by the Act.', 'The question of treaties had nothing to do with the subject, for to responsible governments the Imperial Authorities conceded the right to pass laws within their jurisdiction.', 'So the Canadian Parliament to-day was passing a restriction Act.', 'Opponents to the Act might as well contend the exclusion of the Chinese from the franchise, and barring them from acquiring lands, was illegal.', 'As to autonomy, neither the Australian Colonies nor the Dominion were absolutely possessed, but the Province equally with Australia and the Dominion were autonomous within the bounds of their respective jurisdictions.', '21st August, 1885—CREASE, J.— In order to deal satisfactorily with the questions raised by this appeal, it is necessary to see what is the scope and purport of the Act.', 'It is called \"An Act to regulate the Chinese population of British Columbia.\"', 'It starts with a recital, in itself a petio principii—not apparently the result of any public enquiry—which charges them with being not law-abiding, dissimilar in habits and occupation to the whites—useless in emergencies, habitual desecrators of grave-yards, unsuited to our laws, and of habits subversive of the community.', 'From that premises concluding that special laws are required for their government, it proceeds to enact:— \\n\\n1.', 'The title.\\n\\n2. Defines Chinese to mean \"any native of the Chinese empire or \"its dependencies not born of British parents, and shall include any \"person of the Chinese race.\"', 'Section 3—with which we are immediately concerned—says:—\"From and after the passage of this Act there shall be payable and \"paid by every Chinese in British Columbia, above the age of fourteen years, unto and for the use of Her Majesty, her heirs and successors, the sum of ten dollars, and thereafter on the 1st day of June in \"each and every year there shall be likewise payable and paid by such \"Chinese person a further sum of ten dollars.\"', 'Sec. 4 provides for the appointment and payment of special collectors, \"to be called Chinese collectors, to collect and receive such \"payments from Chinese; and such collector or collectors, immediately upon such payment, shall issue and deliver to the person paying \"the same a licence in the form contained in the schedule hereto.\"', 'By Sec. 5 \"Any Chinese who shall be found within the Province \"not having in his possession a licence issued under the provisions of \"this Act, lawfully issued to him, shall, on conviction thereof, forfeit \"and pay a sum not exceeding forty dollars.\"', 'By Sec. 6', '\"Any collector or Government servant wilfully disobeying \"any of the provisions of this Act shall forfeit and pay a sum not \"exceeding one hundred dollars.\"', 'By Sec. 7', '\"Every collector shall collect the tax from each Chinese, \"and shall as soon afterwards as may be pay over the amount to the \"officer in charge of the Treasury, or to such other person as the \"Lieutenant-Governor in Council may from time to time direct.\"', 'By Sec. 8', '“Every employer of Chinese shall furnish to the collector “when requested by him so to do, from time to time, a list of all “Chinese in his employ, or indirectly employed by him; but no such “statement shall bind the collector, nor shall excuse him from “making due enquiry to ascertain its correctness.”', 'Section 9.', '“In case any employer of Chinese fails to deliver to the “collector the list mentioned in the preceding section, when required “so to do, or knowingly states anything falsely therein, such “employer shall, on complaint of the collector and upon conviction “before a Justice of the Peace having jurisdiction within the “district wherein such employer carries on his business, forfeit “and pay a fine not exceeding one hundred dollars for every Chinese “in his employ, to be recovered by distress of the goods and chattels “of such employer failing to pay the same, or in lieu thereof shall be “liable to imprisonment for a period not less than one month and not “exceeding two calendar months.”', 'Section 10 gives the collector power to “levy the amount of the license from any Chinese not being in lawful possession of a license, “with costs, by distress of his goods and chattels, or of any goods and “chattels which may be in the possession of the delinquent, or which “may be upon or in any premises (whether the goods of the delin-', '“quent or not) for the time being in the possession or occupation of “such delinquent Chinese,” and declares that “for the purposes of this “section premises shall be deemed to be in the possession or occupa- “tion of any Chinese when it can be shown to the satisfaction of the “tribunal having cognizance of the matter (a) that such Chinese “habitually frequents such premises with the assent of the owner ; “(b) that he is the owner or one of the owners of the premises, or has “control, either alone or jointly, with another or others, of such pre- “mises or some part thereof; (c) that he has passed the night or slept “upon such premises at any time within a week of the levy, it shall “be sufficient authority for the collector to levy as aforesaid on the “non-production of the license.', 'Proof of the lawful possession of “such receipt shall lie on the person whose goods are restrained.”', 'By section 11 every license must be demanded by the employer and retained during the Chinaman’s service.', 'By section 12 tax collectors are not to allow Chinese to pass unless a license is produced.', 'Section 13 imposes a penalty of $50 on any person guilty of employing any Chinese not having a license.', 'Sec. 14', \"Fee for free miner’s certificate to a Chinese to be $15, instead of the white man's $5.\", 'Sec. 15.', 'Penalty not exceeding $30 for every Chinaman mining without a license.', 'Section 16 amends the License Ordinance of 1867, whereby the pursuit of various callings is sanctioned by the ominous words, “but no license shall be issued to any Chinese.”', 'Sections 17 and 18 prevent the exhumation of dead bodies without permission, and prohibit the use of opium except for medical purposes.', 'Section 19 provides for the recovery of any pecuniary penalty thereunder in a summary manner before a J. P., and in default of immediate payment sanctions a distress, and failing that, imprisonment for not exceeding three months.', 'Section 20 (amended by Act of 1885) declares that \"convictions are not to be quashed for want of form.\"', 'Section 21.', '“Any Chinese who shall lend his license or free miner\\'s \"certificate to another Chinese, and any Chinese who shall utter or \"pass off upon any collector or other person any license or free miner\\'s \"certificate other than his own, with intent himself to avoid payment\" of the license fee payable under this Act (and the onus of proving “that such was not his intent shall rest upon the person charged), shall \"forfeit and pay a penalty of not less than twenty dollars nor more \"than one hundred dollars.\"', 'Section 22 enacts that the tribunal applied to may decide \"on its own view and judgment\" whether any person is a Chinese or 14 years old.', 'Sections 23, 24 and 25 contain sanitary provisions affecting buildings let to Chinese.', 'Section 26 provides a means whereby persons imprisoned for an infraction of the Act may be put to hard labour by an Order in Council, and the same executive authority is empowered to make rules and regulations for carrying out the Act.', 'Section 27 places in the hand of the local executive the construction from time to time of further rules and regulations to enforce the Act, and a fitting summary to such a premiss in section 28 reverses all the old law of England and one of the most cherished and priceless safeguards of the freedom from oppression won for us by our forefathers—that no one shall be deemed guilty until he has been proved so—throws on the defendant, white or yellow, the burden of proving that he is exempt from the operation of its arbitrary provisions—and in a tax Act which is in restraint of personal liberty, and opposed to the common law rights of the citizen—for if applicable to aliens it is a fortiori to the temporary inhabitants of the Province—abrogates the hitherto invariable rule in criminal matters and makes it unnecessary in any information, summons or conviction to “state or negotiate any “exception in or exemption under this Act, or in contemplation of “law.”', 'Taught by experience of former efforts in the same direction, section 29 gives one year’s notice of the coming into operation of the Act—a time which has now expired.', 'And section 30 terms it merely “The Chinese Regulation Act, 1884.”', 'The only schedule is the form of license, which runs as follows:—\\n\\nThe question now raised on the construction of this Act affects not only British Columbia, but, as she occupies the only Pacific seaboard of the Dominion, indirectly more or less the very many other Provinces under the flag of confederation.', 'Taking for convenience the five points of objection to the conviction in the order in which they are made— \\n1.', 'That it interfered with the Dominion powers under the B. N. A. Act over aliens and naturalization.', '2. Trade and commerce.', '3. Treaty obligations.', '4.', 'That the tax was unequal.', '5.', 'That it was indirect taxation and therefore illegal, and should be quashed.', 'On the first point, I would observe that it is now well settled law that British Columbia, as a part of the Dominion, possesses all, but possesses only, the powers which are strictly defined by the B. N. A. Act of 1867, which is, indeed, the constitution of Canada.', 'Neither she nor any other of the Provinces possess any other powers of legislation than are conferred by that Act.', 'If British Columbia, or any other Province, in its legislation, goes beyond that Act and in excess of its provisions, that moment, and to the extent of such transgression, it ceases to be law.', 'Therefore, in dealing with this question, our constitutional Act must be kept in view throughout, as the measure by which we must continually gauge the legality or illegality of the provisions of the local statute under consideration.', 'The Act of Federation was passed in order to be an irrefragable, permanent standard by which to preserve and regulate all the relative rights of the Provinces, as among themselves and as regards the Dominion.', 'The exclusive powers of that Act given to the Dominion over particular subjects are contained in the 91st section.', 'The exclusive powers of the Province are particularized in section 92.', 'It is natural that in the working out of such a constitution in a new and growing country, questions should be continually cropping up, and call upon the Courts to define gradually and with greater exactness, as time progresses and population expands, the relative powers given by the Act to the Dominion and Provinces respectively.', 'Sub-section 2 of section 91 gives to the Dominion Parliament exclusively the regulation of “trade and commerce,” and by sub-section 25 that of “naturalization and aliens,” and everything relating to those subjects as affecting the whole Dominion is within the Dominion powers, and no local Legislature can make any statute interfering with either of those subjects.', 'If it does, so far as such interference extends it is illegal and void, and when brought before the Court it is the duty of that tribunal so to adjudge it.', 'And the converse of this is true when applied to Dominion legislation as affecting the subjects exclusively given by the constitution to the Province.', 'Now, applying this test to the statute before us, let us see whether and how far its provisions affect, as is alleged, aliens, or trade, or commerce.', 'The aliens in this case being Chinese, the first enquiry must be, what is the object of the Act?', 'On applying to the preamble, we find that it looks like a bill of indictment as against a race not suited to live among a civilized nation, and certainly does not prepare one for legislation which would encourage or tolerate their settlement in the country.', 'Indeed, the first lines of the preamble sound an alarm at the multitude of people coming in, who are of the repulsive habits described in the last part of the preamble, and prepares one for measures which should have a tendency to abate that alarm by deterrent influences and enactments which should have the effect of materially lessening the number of such undesirable visitors.', 'The provisions of the Act I have given somewhat in extenso bear out that view, and the concurrent and previous local legislation bear out the same impression, for on the same day as this Act was passed, another Act was passed, the very object of which was plainly stated to be \"to prevent the immigration\" of Chinese.\"', 'That Act was disallowed.', 'It interfered with aliens as well as trade and commerce, which cannot subsist among nations without personal intercourse, which such an Act (as far as China was concerned) would have a tendency to prohibit.', 'Another statute (of 1878), \"An Act to provide for the better collection of taxes from Chinese,\" which contained several of the stringent provisions which I have described in this Act, such as a special tax specially recoverable by summary and unusual remedies from the Chinese alone, in British Columbia, and enforced by fine and imprisonment and other penal clauses, came before this Court, and in a most conscientious and exhaustive judgment of Mr. Justice Gray, of 23rd September, 1878, in the case of Tai Sing v. Maguire, was declared unconstitutional and ultra vires the Local Legislature, as interfering with aliens and trade and commerce—matters reserved exclusively under the 81st section of the B. N. A. Act to the Dominion.', 'That decision was never appealed from, and was at once acted on by the government as conclusive.', 'The position and legislative powers of British Columbia have been in no respect altered in its relations to the legislative powers of the Dominion on the same subjects since that time, though Russell v. The Queen (7 App.', 'Cas. 829) and Hodge v. The Queen (9 App.', 'Cas. 117) have more fully defined the extent of the powers of the Provincial Legislatures than has hitherto been done; and in the latter case especially.', 'That decision, however, was not before Mr. Gray when he rendered the judgment in Tai Sing v. Maguire.', 'Until reversed or varied, the decision in the Hodge case is law here, and binding on this Court.', 'Their lordships say (page 132), with reference to the objection of the appellants there (delegatus non potest delegare):—\\n\"It appears to their lordships, however, that the objection thus raised by the appellants is founded on an entire misconception of the true character and position of the Provincial Legislatures.', 'They are in no sense delegates of or acting under any mandate from the Imperial Parliament.', 'When the British North America Act enacted that there should be a Legislature for Ontario\" (for this case we may for \"Ontario\" read \"British Columbia\"), \"and that its Legislative Assembly should have exclusive authority to make laws for the Province and for provincial purposes in relation to the matters enumerated in section 92, it conferred powers not in any sense to be exercised by delegation from or as agents of the Imperial Parliament, but authority as plenary and as ample within the limits prescribed by section 92 as the Imperial Parliament in the plenitude of its power possessed and could bestow.', 'Within these limits of subjects and area the Local Legislature is supreme.\"', '[So far this decision confirms the words of Lord Selborne in R. v. Burah; what follows goes beyond it.]', '\"And has the same authority as the Imperial Parliament or the Parliament of the Dominion would have had under like circumstances to confide to a municipal institution or body of its own creation authority to make by-laws or resolutions as to subjects specified in the enactment, and with the object of carrying the enactment into operation and effect.\"', 'That decision, although in some respects an obiter dictum, as regards this case, makes it clear that within the limits of subjects and the area prescribed by the B. N. A. Act, by section 92, the Legislature of British Columbia is supreme.', 'The basis, then, of our enquiry must be: Is this Chinese Regulation Act of 1884—rather the parts of it objected to—within the limit of subjects and area of section 92, or does it exceed those limits in which it is supreme, and interfere with aliens, trade and commerce in such a manner as to encroach on section 91 or any of its sub-sections?', 'If so, so far as it does so, it is unconstitutional and ultra vires, and therefore void.', 'Now it does not follow because a local Act touches on these three subjects it therefore interferes with them so as to render it unconstitutional.', 'Aliens may be taxed, may be subjected to the same rules and municipal and other by-laws as other inhabitants of British Columbia, and such discrimination in so doing as are allowed in local legislatures between and among different persons and occupations among the whites are quite as applicable to them.', 'These are the only discriminations which the law allows, and these are the permissible discriminations spoken of by Cooley in the portions cited before the Court.', 'During the argument the case of *Lin Sing v. Washburn*, 20 California Reports, 534, was quoted as bearing on this case.', 'There, an Act of the California Legislature passed an Act imposing a capitation tax “on ‘each person, male and female, of the Mongolian race of the age of 18 years and upwards residing in the State,’ accompanying a license almost a *fac simile* of our own, and enforced in much the same way as in the case before us, that, after long and elaborate argument in which the Attorney-General appeared for the State, was determined to be unconstitutional, as it was an interference with trade and commerce, which could be regulated alone by the general government.', 'It was in vain advanced that at least the State had concurrent jurisdiction in matters of taxation relative to its own internal affairs, of which this was one (the same proposition as was advanced by the Attorney-General in this case) in which it had a supreme and autonomous right to legislate.', 'And the grounds of this decision were that the federal constitution had vested in the general government the power to regulate commerce in all its branches (as with us in the Dominion); and this power extends to every species of commercial intercourse, and may be exercised upon persons as well as property (Mr. Justice Field, whose arguments have been reproduced by the Attorney-General before me in this case, dissenting).', 'That commerce cannot be carried on without the agency of persons, and the tax, the effect of which is to diminish personal intercourse, is a tax on commerce.', 'If the power to impose such a tax is acknowledged, it being a sovereign power, no limitation can be affixed to its exercise, and it may be so used as not only to diminish but destroy commerce.', 'The power asserted in the Act in question (the California Act) is the right of the State to prescribe the terms upon which the Chinese shall be permitted to reside in it, and be so used as to cut off all intercourse between them and the people of the State, and defeat the commercial policy of the nation.', 'That the Act could not be maintained as a police regulation; that a branch of the police power had been surrendered to the Federal Government as a part of the power to regulate commerce, and its exercise by a State was incompatible with the authority of the Government.', 'That the Chinese might be taxed as other residents, but could not be set apart as special objects of the taxation, and be compelled to contribute to the revenue of the State in the character of foreigners.', 'The reports of the higher California courts are of great authority for us on all Chinese questions, for there have been efforts for years past to restrict Chinese immigration in California, and the matter has been constantly before the superior courts there, and the judges there (if we may take the reports as correct) are more than ordinarily skilled in laying down the law correctly in constitutional points of that nature.', 'Indeed, there is no other country which has such experience generally in constitutional law as applicable to a federation of states.', 'Of course, in all the observations I make I recognize the now well-known distinction between the relations of a State of the Union to the Federal Government, and our relation as a Province to the Dominion.', 'Still both Federal Governments have reserved to themselves the regulation of trade and commerce and naturalization and aliens; so the analogy is so close as to become almost a direct authority.', 'In the *Lin Sin* judgment, p. 579, the learned judge says of the power of taxing foreigners, as in the present *qua* foreigners: “If the power exist it may be exercised upon all foreigners residing in the State, and may be so exercised as to bar the door of foreign commerce as effectually as the Government could do by issuing its man-“date and closing its ports.\"', 'And again \"to determine whether there is a conflict or not, i.e., of jurisdictions, the power must be considered with reference to its consequences, for its effect when carried out is the only criterion by which a judgment can be formed.', '\"\\n\\nIn another place he says:—\"It would be an empty sound to say that the several States cannot pass any law to prevent foreigners from coming here if they may pass laws which will compel such foreigners to depart as soon as they arrive.\"', 'And again, \"A tax imposed by the law on these persons for the mere right to reside here, is an appropriate and effective means to discourage the immigration of the Chinese into the State.', '\"\\n\\nDuring the argument on the case before me, the Attorney-General claims that this was direct taxation, and a direct tax within the Province, to raise revenue for Provincial purposes, and, therefore *intra vires*; but the question is not one of name but of fact.', 'Does it interfere with trade or commerce?', 'Can it be legally imposed on foreigners as foreigners, for even a legal tax in other respects becomes illegal when it goes beyond its proper limits, and interferes with powers exclusively given to the Dominion for the benefit of all?', 'In another California case, *In re Tiburcio Parrott*, it is laid down that if the apparent object of a statute is under a pretense of the exercise of constitutional powers to drive Chinese away, the end sought to be obtained being unlawful, the statute is void.', 'In *Russell v. Reg.', '* it is decided that the true nature and character of legislation must be determined in order to ascertain its legality.', 'In *Citizens Insurance Co. v. Parsons*, we have to look at the legislation for the same purpose.', 'If the legislation here be to drive people from the country, have the local legislature the power?', 'Legislation as to aliens is reserved to the Dominion.', 'And as to trade and commerce, if the Chinese be driven out an annual loss to the revenue, it appears by the tables in the Chinese Commission Report, of $110,000 will take place; and more than $1,500,000 of property and business be lost to us, besides an injury to trade to an incalculable extent.', 'The amount of business transacted by Chinamen in British Columbia, as revealed by the tables in that Chinese Report, is something which a casual observer would have no idea of.', 'The treaties between Great Britain and China, which bind us, have been quoted.', 'The treaty of 25th August, 1842, *Hertslet*, Vol. 6, ratified 26th June, 1843, p. 221, and Lord Elgin\\'s treaty of October, 1860, authenticated copies of which were produced in Court, secure to Chinese coming into British dominions the same \"full security for persons and property as subjects of Her Majesty.\"', '*Vattell*, cap. 8, referring to our obligations to foreigners, observes:— \"As soon as the lord of the territory admits strangers into it he engages \"to protect them as his own subjects, and to afford them perfect security as far as depends on him.', '\"\\n\\n*Reg.', 'v. Severn* and *Reg.', 'v. Russell* are important authorities in guiding our enquiry as to the nature and effect of local legislation in determining whether and how far the Act under review exceeds the limits within which the local legislature is supreme.', 'And as to the equality of taxation, besides *Cooley*, who has been quoted freely on both sides, in *Kent\\'s Commentaries* (8th Ed.), 2nd Vol., 388, it is insisted—\"That every person is entitled to be protected in the enjoyment of his property, not only from invasions of it by individuals, but from all unequal and undue assessments on the part of the Government.', 'It is not sufficient that no tax or imposition can be imposed upon the citizens, but by their representatives in the legislature the citizens are entitled to require that the legislature itself shall cause all public taxation to be fair and equal in proportion to the value of \\'property\" (and that is what *Cooley* means by apportionment of taxation), \"so that no class of individuals, and no species of property shall be unduly assessed.\"', 'The treaties I have quoted between Great Britain and China, binding on the Dominion and on us in British Columbia, secure to the Chinese, just as the treaties between Great Britain and other foreign countries secure to other foreigners, the same rights in regard to the equality of taxation which I have described as being enjoyed by citizens of this country.', 'These treaties have the force of international law, and are continued most strongly against the party for whose benefit they are introduced.', 'In the case of the Chinese treaties, they were forced at the point of the bayonet on China, to obtain a right for us to enter China, and in return for a similar permission to us, full permission was given for the Chinese to trade and reside in British dominions everywhere.', 'In the treaties of 1858 and 1860, made at the solicitation of Great Britain, the Emperor of China was induced to give permission to his subjects to go and trade and reside \"in British Colonies,\" and to enter into \"engagements with British subjects for that purpose.\"', 'These obligations are binding here and in other parts of the Dominion under section 132 of the British North America Act, and no Province, or the Dominion itself, can lawfully pass laws interfering with that right without a previous revision of the treaties by the high contracting parties to them for that purpose.', 'Treaties with foreign nations are above all ordinary municipal law, for obvious international reasons, for without such a provision there can be no permanent security, which is the life of all commercial intercourse.', 'The same provisions that apply to Chinese may be made to apply also to Americans, Frenchmen, Germans, or any other foreigners.', 'Such treaties are the especial care of the Dominion, and where local legislation clashes with that especial province of the Dominion, the legislation of the Province must give way, as laid down in Leprohon v. the City of Ottawa, 40 Q.B., Ont., 478; Reg.', \"v. Chandler, Hannay's New Brunswick Reports, 548; Dow v. Black, L.R. 6 P.C. 272; L'Union St. Jacques v. Belisle, L.R. 6 P.C. 31, and numerous other Canadian authorities, besides the British North America Act itself.\", 'Now applying the principles and tests I have described to the Act before us, what do we find?', 'The Act is found associated with another Act now disallowed, the express object of which is to prevent the Chinese altogether from coming to this country, and the principle \"noscitur a sociis\" is kept up by the preamble of the present Act, which describes the Chinese in terms which, I venture to think, have never before in any other country found a place in an Act of Parliament.', 'In the definition of the persons affected by the Act no distinction is made of ambassadors, merchants, consuls, artists, professors or travellers, or sex, whether under disability or not, or at such a distance from a collector as to make it difficult or impossible to obtain a license.', 'Every person of Chinese origin, whether naturalized in Hong Kong or America, or any other State with which we are at amity, so long as they are of Chinese origin, 14 years of age—every one without distinction—must take out a license.', 'For the purpose of argument I have treated the license fee as a tax; but it is in fact a license—a license to remain in British Columbia unmolested for a year.', 'When the legislature wanted to create a tax, they knew what words to use for the purpose, for in the sister Act passed on the same day, which was disallowed, they called the impost there enacted a \"tax,\" not a license.', 'However difficult or impossible for any Chinese to find a district collector, if such Chinese is \"found without a license he is liable to a fine of $40.\"', 'At every turn he is confronted with an exceptional duty, and an exceptional penalty, and the loss of his goods and chattels, and of personal liberty.', 'It is impossible but that such an imposition so enforced, in addition to all the general taxes to which he is subject, should make this country too hot for him to live in; and just in proportion as he is so persecuted out of the country, in that degree does this enactment interfere with trade and commerce and that control over aliens exclusively given to the Dominion.', 'And not only is he thus attacked, but unheard of provisions are introduced.', 'Every employé of Chinese labour, whether English, American, or what not, is made liable to severe and incessant liability of a penal kind, for what?', 'Some act, a default of his own?', 'No; an act or default of a stranger, a man whose language he knows not, and for every infraction of the Act by the Chinese under his employ.', 'The palpable object of such a provision, or set of provisions, is to render the employment of Chinese so distasteful and annoying to the employer that he must cease to employ them.', 'Now, to pass a law providing that employment shall not be given to a special class of men, except it be productive of so much danger, annoyance, and loss to the employer, is just another way of saying that no intercourse shall be had with that class.', 'With penalties and prosecutions always before you, far in excess of any advantage to be derived from that intercourse or trade, what is that but equivalent to saying that such intercourse or trade or labour must cease altogether.', 'What is that but interfering with aliens, trade, and commerce?', \"If a man employ a Chinaman who should happen to be delinquent in his tax, and he happens to occupy a cottage or room of his employer, with his master's goods in it, under section 10 they are liable to seizure and sale.\", 'In every prosecution under the Act the legal presumption of innocence until conviction is reversed; in every case the onus probandi, though in a Statute highly penal, is shifted from the informant on to the shoulders of the accused, and he a foreigner not knowing one word of the law, or even the language of the accuser.', 'In other words, every Chinese is guilty until proved innocent—a provision which fills one conversant with subjects with alarm; for if such a law can be tolerated as against Chinese, the precedent is set, and in time of any popular outcry can easily be acted on for putting any other foreigners or even special classes among ourselves, as coloured people, or French, Italians, Americans, or Germans, under equally the same law.', 'That certainly is interfering with aliens.', 'The proposition that it is a Provincial tax for revenue purposes, supposing it to be so intended under the provisions of the Act, is so manifestly calculated to defeat that object, by diminishing the numbers of the members of the persons to be affected by it, that it is difficult to regard it in that light, or in any other light than an indirect mode of getting rid of persons whom it affects out of the country.', 'The whole Act teems with special provisions which affect not only Chinese, but their employers, with obligations and liabilities as to the conduct of the Chinese in their employ, that no reasonable man would encounter, and run the risk of the penal consequences which the Act hangs over him.', 'For instance, by section 19 any pecuniary penalty imposed may be summarily recovered (and applies to employers), and in default of immediate payment the same may be recovered by distress of the goods and chattels of the offender, and in default of sufficient distress by a liability to imprisonment for three calendar months, and the employers would necessarily be white men.', 'In fact, the Act so bristles with these arbitrary, exceptional and penal consequences, that it is invidious to single out particular ones for comment.', 'It is enough to add that \"any person,\" no matter whether white or Chinese, imprisoned in respect of any infraction of the provisions of the Act, may be at the will of the executive, subjected even to hard labour.', 'The Act is so full of provisions that interfere directly with aliens, with trade, and with commerce, that I have no hesitation in pronouncing all such provisions, and among them those under which the appellant in this case has been convicted, to be ultra vires the local legislature, and consequently illegal and void.', 'So far, I have dealt with the Act on its own merits; but if we consider it in juxtaposition to the Dominion Act recently passed restricting the Chinese throughout all Canada, its illegality becomes transparent; for in passing that Act against the Chinese the Dominion has spoken by the highest authority which it possesses—its own Parliament.', 'By the Constitutional Act the subject of aliens, we have seen, is specially reserved to the Dominion, and it is now an axiom, in the interpretation of that Act, that when that authority deals with a subject expressly included in its jurisdiction by the 91st section, it has possession of that subject exclusively, and the Province has to give way.', 'It is a great assumption of power on the part of a Province to pass laws, the effect of which must be practically to expel a particular class of aliens from that Province, to say in effect that it will by its legislation impede or prevent that class from being employed in another Province—say the North-west Territory or Manitoba—where railway works may be languishing for want of that very class of labourers, British Columbia being the only sea-board of Canada on the Pacific through which (in face of the restrictive laws of the United States) that class of labourers can enter and pass through; that is, in fact, legislating on all inter-provincial immigration; in other words, such legislation is ultra vires, and so I pronounce it; and adjudge accordingly, and quash the conviction, with costs.']\n"
     ]
    }
   ],
   "source": [
    "import spacy\n",
    "\n",
    "# Tokenize the text into sentences\n",
    "nlp = spacy.load(\"en_core_web_sm\")\n",
    "doc = nlp(full_text)\n",
    "sentences = [sent.text.strip() for sent in doc.sents]\n",
    "\n",
    "print(sentences)"
   ]
  },
  {
   "cell_type": "code",
   "execution_count": 21,
   "id": "5001eb4b",
   "metadata": {},
   "outputs": [
    {
     "name": "stdout",
     "output_type": "stream",
     "text": [
      "torch.Size([238, 384])\n"
     ]
    }
   ],
   "source": [
    "sentence_embeddings = model.encode(sentences, convert_to_tensor=True)\n",
    "print(sentence_embeddings.shape)"
   ]
  },
  {
   "cell_type": "code",
   "execution_count": null,
   "id": "4b7be706",
   "metadata": {},
   "outputs": [
    {
     "name": "stdout",
     "output_type": "stream",
     "text": [
      "0.7384\tThe provisions of the Act I have given somewhat in extenso bear out that view, and the concurrent and previous local legislation bear out the same impression, for on the same day as this Act was passed, another Act was passed, the very object of which was plainly stated to be \"to prevent the immigration\" of Chinese.\"\n",
      "0.6861\tThe aliens in this case being Chinese, the first enquiry must be, what is the object of the Act?\n",
      "0.6467\tAnd again, \"A tax imposed by the law on these persons for the mere right to reside here, is an appropriate and effective means to discourage the immigration of the Chinese into the State.\n",
      "0.6201\tIts object, though not apparent on the face of the Act, was to prevent Chinese coming into the Province and drive out those who had already come.\n",
      "0.6025\tThe power asserted in the Act in question (the California Act) is the right of the State to prescribe the terms upon which the Chinese shall be permitted to reside in it, and be so used as to cut off all intercourse between them and the people of the State, and defeat the commercial policy of the nation.\n",
      "0.5960\tThe Act is found associated with another Act now disallowed, the express object of which is to prevent the Chinese altogether from coming to this country, and the principle \"noscitur a sociis\" is kept up by the preamble of the present Act, which describes the Chinese in terms which, I venture to think, have never before in any other country found a place in an Act of Parliament.\n",
      "0.5878\tIn other words, every Chinese is guilty until proved innocent—a provision which fills one conversant with subjects with alarm; for if such a law can be tolerated as against Chinese, the precedent is set, and in time of any popular outcry can easily be acted on for putting any other foreigners or even special classes among ourselves, as coloured people, or French, Italians, Americans, or Germans, under equally the same law.\n",
      "0.5830\tThe basis, then, of our enquiry must be: Is this Chinese Regulation Act of 1884—rather the parts of it objected to—within the limit of subjects and area of section 92, or does it exceed those limits in which it is supreme, and interfere with aliens, trade and commerce in such a manner as to encroach on section 91 or any of its sub-sections?\n",
      "0.5802\tThe whole Act teems with special provisions which affect not only Chinese, but their employers, with obligations and liabilities as to the conduct of the Chinese in their employ, that no reasonable man would encounter, and run the risk of the penal consequences which the Act hangs over him.\n"
     ]
    }
   ],
   "source": [
    "# Calculate the cosine similarity\n",
    "sims = cosine_similarity(target_embedding.unsqueeze(0), sentence_embeddings)\n",
    "\n",
    "k = min(10, sims.shape[0])\n",
    "\n",
    "topk = torch.topk(sims, k=k-1)\n",
    "\n",
    "for score, idx in zip(topk.values, topk.indices):\n",
    "    print(f\"{score:.4f}\\t{sentences[idx]}\")"
   ]
  },
  {
   "cell_type": "markdown",
   "id": "b36d0a77",
   "metadata": {},
   "source": [
    "We apply a trained model to mask key words related to ethnicity and nationality identities."
   ]
  },
  {
   "cell_type": "code",
   "execution_count": 23,
   "id": "04f429da",
   "metadata": {},
   "outputs": [
    {
     "name": "stderr",
     "output_type": "stream",
     "text": [
      "Some weights of the model checkpoint at dbmdz/bert-large-cased-finetuned-conll03-english were not used when initializing BertForTokenClassification: ['bert.pooler.dense.bias', 'bert.pooler.dense.weight']\n",
      "- This IS expected if you are initializing BertForTokenClassification from the checkpoint of a model trained on another task or with another architecture (e.g. initializing a BertForSequenceClassification model from a BertForPreTraining model).\n",
      "- This IS NOT expected if you are initializing BertForTokenClassification from the checkpoint of a model that you expect to be exactly identical (initializing a BertForSequenceClassification model from a BertForSequenceClassification model).\n",
      "Device set to use cpu\n",
      "c:\\Users\\Kaiyan Zhang\\AppData\\Local\\Programs\\Python\\Python312\\Lib\\site-packages\\transformers\\pipelines\\token_classification.py:181: UserWarning:\n",
      "\n",
      "`grouped_entities` is deprecated and will be removed in version v5.0.0, defaulted to `aggregation_strategy=\"AggregationStrategy.SIMPLE\"` instead.\n",
      "\n"
     ]
    }
   ],
   "source": [
    "from transformers import pipeline\n",
    "import numpy\n",
    "\n",
    "ner = pipeline(\"ner\", model=\"dbmdz/bert-large-cased-finetuned-conll03-english\", grouped_entities=True)\n",
    "\n",
    "def mask_ethnicity_hf(text):\n",
    "    entities = ner(text)\n",
    "    spans_to_mask = [e for e in entities if e[\"entity_group\"] == \"MISC\" or e[\"entity_group\"] == \"ORG\" or e[\"entity_group\"] == \"PER\" or e[\"entity_group\"] == \"LOC\" or e[\"entity_group\"] == \"NORP\"]\n",
    "    # typically nationality is in MISC or NORP depending on the model\n",
    "    masked = text\n",
    "    for ent in sorted(spans_to_mask, key=lambda e: e[\"start\"], reverse=True):\n",
    "        masked = masked[:ent[\"start\"]] + \"[MASK]\" + masked[ent[\"end\"]:]\n",
    "    return masked"
   ]
  },
  {
   "cell_type": "code",
   "execution_count": 24,
   "id": "666bbb38",
   "metadata": {},
   "outputs": [],
   "source": [
    "def mask_ethnicity(texts):\n",
    "    masked_list = []\n",
    "    for sent in texts:\n",
    "        sent = mask_ethnicity_hf(sent)\n",
    "        masked_list.append(sent)\n",
    "        \n",
    "    return masked_list"
   ]
  },
  {
   "cell_type": "code",
   "execution_count": 25,
   "id": "d0daa4c8",
   "metadata": {},
   "outputs": [
    {
     "name": "stdout",
     "output_type": "stream",
     "text": [
      "And when this happens, and when we allow freedom ring, when we let it ring from every village and every hamlet, \n",
      "from every state and every city, we will be able to speed up that day when all of [MASK]'s children, [MASK] men and white men, \n",
      "[MASK] and [MASK]s, [MASK] and [MASK], will be able to join hands and sing in the words of the old [MASK] spiritual: Free at last. \n",
      "Free at last. Thank [MASK] almighty, we are free at last.\n"
     ]
    }
   ],
   "source": [
    "# Example output applying this pre-trained model\n",
    "example_text = \"\"\"And when this happens, and when we allow freedom ring, when we let it ring from every village and every hamlet, \n",
    "from every state and every city, we will be able to speed up that day when all of God's children, Black men and white men, \n",
    "Jews and Gentiles, Protestants and Catholics, will be able to join hands and sing in the words of the old Negro spiritual: Free at last. \n",
    "Free at last. Thank God almighty, we are free at last.\"\"\"\n",
    "\n",
    "masked_example = mask_ethnicity_hf(example_text)\n",
    "\n",
    "print(masked_example)"
   ]
  },
  {
   "cell_type": "code",
   "execution_count": 26,
   "id": "39bfe16a",
   "metadata": {},
   "outputs": [
    {
     "data": {
      "text/plain": [
       "'The aliens in this case being [MASK], the first enquiry must be, what is the object of the [MASK]? On applying to the preamble, we find that it looks like a bill of indictment as against a race not suited to live among a civilized nation, and certainly does not prepare one for legislation which would encourage or tolerate their settlement in the country. Indeed, the first lines of the preamble sound an alarm at the multitude of people coming in, who are of the repulsive habits described in the last part of the preamble, and prepares one for measures which should have a tendency to abate that alarm by deterrent influences and enactments which should have the effect of materially lessening the number of such undesirable visitors. The provisions of the [MASK] I have given somewhat in extenso bear out that view, and the concurrent and previous local legislation bear out the same impression, for on the same day as this [MASK] was passed, another [MASK] was passed, the very object of which was plainly stated to be \"to prevent the immigration\" of [MASK].\"'"
      ]
     },
     "execution_count": 26,
     "metadata": {},
     "output_type": "execute_result"
    }
   ],
   "source": [
    "masked_paragraphs = mask_ethnicity(paragraphs)\n",
    "\n",
    "masked_paragraphs[40]"
   ]
  },
  {
   "cell_type": "code",
   "execution_count": 28,
   "id": "f699ddee",
   "metadata": {},
   "outputs": [
    {
     "name": "stdout",
     "output_type": "stream",
     "text": [
      "torch.Size([78, 384])\n"
     ]
    }
   ],
   "source": [
    "# Calculate embeddings by calling model.encode()\n",
    "masked_paragraph_embeddings = model.encode(masked_paragraphs, convert_to_tensor=True)\n",
    "print(masked_paragraph_embeddings.shape)"
   ]
  },
  {
   "cell_type": "code",
   "execution_count": 35,
   "id": "d7a360ad",
   "metadata": {},
   "outputs": [
    {
     "name": "stdout",
     "output_type": "stream",
     "text": [
      "0.4159\tAnd again, \"A tax imposed by the law on these persons for the mere right to reside here, is an appropriate and effective means to discourage the immigration of the [MASK] into the State.\"\n",
      "0.3908\tThe aliens in this case being [MASK], the first enquiry must be, what is the object of the [MASK]? On applying to the preamble, we find that it looks like a bill of indictment as against a race not suited to live among a civilized nation, and certainly does not prepare one for legislation which would encourage or tolerate their settlement in the country. Indeed, the first lines of the preamble sound an alarm at the multitude of people coming in, who are of the repulsive habits described in the last part of the preamble, and prepares one for measures which should have a tendency to abate that alarm by deterrent influences and enactments which should have the effect of materially lessening the number of such undesirable visitors. The provisions of the [MASK] I have given somewhat in extenso bear out that view, and the concurrent and previous local legislation bear out the same impression, for on the same day as this [MASK] was passed, another [MASK] was passed, the very object of which was plainly stated to be \"to prevent the immigration\" of [MASK].\"\n",
      "0.3775\tNow, applying this test to the statute before us, let us see whether and how far its provisions affect, as is alleged, aliens, or trade, or commerce.\n",
      "0.3510\t*[MASK]*, cap. 8, referring to our obligations to foreigners, observes:— \"As soon as the lord of the territory admits strangers into it he engages \"to protect them as his own subjects, and to afford them perfect security as far as depends on him.\"\n",
      "0.3247\tThese treaties have the force of international law, and are continued most strongly against the party for whose benefit they are introduced.\n",
      "0.3211\tIn the *[MASK] [MASK]* judgment, p. 579, the learned judge says of the power of taxing foreigners, as in the present *qua* foreigners: “If the power exist it may be exercised upon all foreigners residing in the State, and may be so exercised as to bar the door of foreign commerce as effectually as the Government could do by issuing its man-“date and closing its ports.\"\n",
      "0.2655\tIn another place he says:—\"It would be an empty sound to say that the several [MASK] cannot pass any law to prevent foreigners from coming here if they may pass laws which will compel such foreigners to depart as soon as they arrive.\"\n",
      "0.2485\tAnd again \"to determine whether there is a conflict or not, i.e., of jurisdictions, the power must be considered with reference to its consequences, for its effect when carried out is the only criterion by which a judgment can be formed.\"\n",
      "0.2467\tDuring the argument on the case before me, the Attorney-General claims that this was direct taxation, and a direct tax within the Province, to raise revenue for [MASK] purposes, and, therefore *intra vires*; but the question is not one of name but of fact. Does it interfere with trade or commerce? Can it be legally imposed on foreigners as foreigners, for even a legal tax in other respects becomes illegal when it goes beyond its proper limits, and interferes with powers exclusively given to the Dominion for the benefit of all?\n"
     ]
    }
   ],
   "source": [
    "# Calculate the cosine similarity\n",
    "sims = cosine_similarity(target_embedding.unsqueeze(0), masked_paragraph_embeddings)\n",
    "\n",
    "k = min(10, sims.shape[0])\n",
    "\n",
    "topk = torch.topk(sims, k=k-1)\n",
    "\n",
    "top_masked_paragraphs = []\n",
    "\n",
    "for score, idx in zip(topk.values, topk.indices):\n",
    "    top_masked_paragraphs.append(masked_paragraphs[idx])\n",
    "    print(f\"{score:.4f}\\t{masked_paragraphs[idx]}\")"
   ]
  },
  {
   "cell_type": "markdown",
   "id": "bca8a2c8",
   "metadata": {},
   "source": [
    "### Stance Detection"
   ]
  },
  {
   "cell_type": "code",
   "execution_count": null,
   "id": "a039befe",
   "metadata": {},
   "outputs": [
    {
     "name": "stderr",
     "output_type": "stream",
     "text": [
      "Some weights of the model checkpoint at roberta-large-mnli were not used when initializing RobertaForSequenceClassification: ['roberta.pooler.dense.bias', 'roberta.pooler.dense.weight']\n",
      "- This IS expected if you are initializing RobertaForSequenceClassification from the checkpoint of a model trained on another task or with another architecture (e.g. initializing a BertForSequenceClassification model from a BertForPreTraining model).\n",
      "- This IS NOT expected if you are initializing RobertaForSequenceClassification from the checkpoint of a model that you expect to be exactly identical (initializing a BertForSequenceClassification model from a BertForSequenceClassification model).\n",
      "Device set to use cpu\n",
      "c:\\Users\\Kaiyan Zhang\\AppData\\Local\\Programs\\Python\\Python312\\Lib\\site-packages\\transformers\\pipelines\\text_classification.py:106: UserWarning:\n",
      "\n",
      "`return_all_scores` is now deprecated,  if want a similar functionality use `top_k=None` instead of `return_all_scores=True` or `top_k=1` instead of `return_all_scores=False`.\n",
      "\n"
     ]
    },
    {
     "name": "stdout",
     "output_type": "stream",
     "text": [
      "     neutral  0.55  ->  The aliens in this case being Chinese, the first enquiry must be, what is the object of the Act? On applying to the preamble, we find that it looks like a bill of indictment as against a race not suited to live among a civilized nation, and certainly does not prepare one for legislation which would encourage or tolerate their settlement in the country. Indeed, the first lines of the preamble sound an alarm at the multitude of people coming in, who are of the repulsive habits described in the last part of the preamble, and prepares one for measures which should have a tendency to abate that alarm by deterrent influences and enactments which should have the effect of materially lessening the number of such undesirable visitors. The provisions of the Act I have given somewhat in extenso bear out that view, and the concurrent and previous local legislation bear out the same impression, for on the same day as this Act was passed, another Act was passed, the very object of which was plainly stated to be \"to prevent the immigration\" of Chinese.\"\n",
      "     neutral  0.56  ->  And again, \"A tax imposed by the law on these persons for the mere right to reside here, is an appropriate and effective means to discourage the immigration of the Chinese into the State.\"\n",
      "     neutral  0.58  ->  If a man employ a Chinaman who should happen to be delinquent in his tax, and he happens to occupy a cottage or room of his employer, with his master's goods in it, under section 10 they are liable to seizure and sale. In every prosecution under the Act the legal presumption of innocence until conviction is reversed; in every case the onus probandi, though in a Statute highly penal, is shifted from the informant on to the shoulders of the accused, and he a foreigner not knowing one word of the law, or even the language of the accuser. In other words, every Chinese is guilty until proved innocent—a provision which fills one conversant with subjects with alarm; for if such a law can be tolerated as against Chinese, the precedent is set, and in time of any popular outcry can easily be acted on for putting any other foreigners or even special classes among ourselves, as coloured people, or French, Italians, Americans, or Germans, under equally the same law. That certainly is interfering with aliens.\n",
      "     neutral  0.61  ->  The power asserted in the Act in question (the California Act) is the right of the State to prescribe the terms upon which the Chinese shall be permitted to reside in it, and be so used as to cut off all intercourse between them and the people of the State, and defeat the commercial policy of the nation.\n",
      "     neutral  0.66  ->  It is impossible but that such an imposition so enforced, in addition to all the general taxes to which he is subject, should make this country too hot for him to live in; and just in proportion as he is so persecuted out of the country, in that degree does this enactment interfere with trade and commerce and that control over aliens exclusively given to the Dominion. And not only is he thus attacked, but unheard of provisions are introduced. Every employé of Chinese labour, whether English, American, or what not, is made liable to severe and incessant liability of a penal kind, for what? Some act, a default of his own? No; an act or default of a stranger, a man whose language he knows not, and for every infraction of the Act by the Chinese under his employ. The palpable object of such a provision, or set of provisions, is to render the employment of Chinese so distasteful and annoying to the employer that he must cease to employ them. Now, to pass a law providing that employment shall not be given to a special class of men, except it be productive of so much danger, annoyance, and loss to the employer, is just another way of saying that no intercourse shall be had with that class. With penalties and prosecutions always before you, far in excess of any advantage to be derived from that intercourse or trade, what is that but equivalent to saying that such intercourse or trade or labour must cease altogether. What is that but interfering with aliens, trade, and commerce?\n",
      "     neutral  0.75  ->  *Richards*, Q. C., for Wing Chong—The object of the Act was not for police purposes or to raise revenue. Its object, though not apparent on the face of the Act, was to prevent Chinese coming into the Province and drive out those who had already come. He reviewed the legislation against Chinese since confederation, contending it was levelled against a particular race of aliens and, therefore, beyond provincial control, per *Gwynne*, J., in *Citizens Insurance Co. v. Parsons*, 4 S. C. R., at p. 346. The law was a direct interference with trade and commerce (*R. v. Severn*, 2 Can. S. C. R., 70). If its object were successful and Chinese driven from the country, the customs dues received from the Chinese would be lost and the benefits of trade relations enjoyed by the merchants would be destroyed. Counsel cited statistics from the Chinese Commission showing the extreme importance, from a fiscal and commercial point of view, of the large number of Chinese in the Province. The Dominion under the B. N. A. Act had alone the right of performing in Canada the obligations of Canada as part of the British Empire in respect of treaties, and although Canada might pass laws prohibiting immigration, or having that tendency, the Province could not do so, nor could it pass laws in derogation of treaties. He cited the British treaty (25th August, 1842, from *Hertslet*, Vol. 6, and Lord *Elgin's* treaty, 1860), comparing it with the *Burlingame* treaty of the United States, and quoted California decisions (*Lin Sing v. Washburn*, 20 Cal. 334), and the decision of *Gray*, J., in *Tai Sing v. Maguire*, deciding that similar legislation was held void as contravening the treaty and the sovereign power to regulate trade and commerce with foreign countries.\n",
      "     neutral  0.52  ->  That the Chinese might be taxed as other residents, but could not be set apart as special objects of the taxation, and be compelled to contribute to the revenue of the State in the character of foreigners.\n",
      "     neutral  0.78  ->  21st August, 1885—CREASE, J.— In order to deal satisfactorily with the questions raised by this appeal, it is necessary to see what is the scope and purport of the Act. It is called \"An Act to regulate the Chinese population of British Columbia.\" It starts with a recital, in itself a petio principii—not apparently the result of any public enquiry—which charges them with being not law-abiding, dissimilar in habits and occupation to the whites—useless in emergencies, habitual desecrators of grave-yards, unsuited to our laws, and of habits subversive of the community. From that premises concluding that special laws are required for their government, it proceeds to enact:—\n",
      "     neutral  0.96  ->  Section 27 places in the hand of the local executive the construction from time to time of further rules and regulations to enforce the Act, and a fitting summary to such a premiss in section 28 reverses all the old law of England and one of the most cherished and priceless safeguards of the freedom from oppression won for us by our forefathers—that no one shall be deemed guilty until he has been proved so—throws on the defendant, white or yellow, the burden of proving that he is exempt from the operation of its arbitrary provisions—and in a tax Act which is in restraint of personal liberty, and opposed to the common law rights of the citizen—for if applicable to aliens it is a fortiori to the temporary inhabitants of the Province—abrogates the hitherto invariable rule in criminal matters and makes it unnecessary in any information, summons or conviction to “state or negotiate any “exception in or exemption under this Act, or in contemplation of “law.” Taught by experience of former efforts in the same direction, section 29 gives one year’s notice of the coming into operation of the Act—a time which has now expired. And section 30 terms it merely “The Chinese Regulation Act, 1884.”\n"
     ]
    }
   ],
   "source": [
    "from transformers import AutoTokenizer, AutoModelForSequenceClassification, pipeline\n",
    "\n",
    "# Choose a strong NLI model\n",
    "model_name = \"roberta-large-mnli\"\n",
    "\n",
    "tokenizer = AutoTokenizer.from_pretrained(model_name)\n",
    "model     = AutoModelForSequenceClassification.from_pretrained(model_name)\n",
    "\n",
    "# Create an NLI pipeline\n",
    "nli = pipeline(\n",
    "    \"text-classification\",\n",
    "    model=model,\n",
    "    tokenizer=tokenizer,\n",
    "    device=-1,                   \n",
    "    return_all_scores=True        \n",
    ")\n",
    "\n",
    "# Define the premise\n",
    "premise = \"Chinese rights\"\n",
    "\n",
    "results = []\n",
    "for sent in top_paragraphs:\n",
    "    inputs = tokenizer.encode_plus(premise, sent, return_tensors=\"pt\", truncation=True)\n",
    "    out = model(**inputs).logits.softmax(dim=-1).tolist()[0]\n",
    "    label_idx = out.index(max(out))\n",
    "    label = [\"FAVOR\", \"NEUTRAL\", \"AGAINST\"][label_idx]\n",
    "    results.append((sent, label, dict(zip([\"favor\",\"neutral\",\"against\"], out))))\n",
    "\n",
    "# Print stance results\n",
    "for sent, label, probs in results:\n",
    "    print(f\"{label.lower():>12}  {probs[label.lower()]:.2f}  ->  {sent}\")"
   ]
  },
  {
   "cell_type": "code",
   "execution_count": null,
   "id": "9d9a03f4",
   "metadata": {},
   "outputs": [],
   "source": []
  }
 ],
 "metadata": {
  "kernelspec": {
   "display_name": "Python 3",
   "language": "python",
   "name": "python3"
  },
  "language_info": {
   "codemirror_mode": {
    "name": "ipython",
    "version": 3
   },
   "file_extension": ".py",
   "mimetype": "text/x-python",
   "name": "python",
   "nbconvert_exporter": "python",
   "pygments_lexer": "ipython3",
   "version": "3.12.5"
  }
 },
 "nbformat": 4,
 "nbformat_minor": 5
}
