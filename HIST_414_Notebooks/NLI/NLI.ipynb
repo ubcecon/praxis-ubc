{
 "cells": [
  {
   "cell_type": "markdown",
   "id": "293b6f23",
   "metadata": {},
   "source": [
    "## Text Embeddings for Regina V Wing Chong (1885)"
   ]
  },
  {
   "cell_type": "code",
   "execution_count": 1,
   "id": "ba4f0aa1",
   "metadata": {},
   "outputs": [],
   "source": [
    "# Data Wrangling\n",
    "import os\n",
    "import numpy as np\n",
    "import pandas\n",
    "from nltk.tokenize import word_tokenize"
   ]
  },
  {
   "cell_type": "code",
   "execution_count": 2,
   "id": "808d6815",
   "metadata": {},
   "outputs": [
    {
     "name": "stdout",
     "output_type": "stream",
     "text": [
      "CREASE, J. 1885. REGINA v. WING CHONG. \n",
      "\n",
      "14th & 15th July, Certiorari—“Chinese Regulation Act, 1884,” s. 5—Constitutionality—B.N.A. Act, 1867, ss. 91, 92—“Aliens”—“Trade and Commerce”—Taxation. \n",
      "On the return to a writ of certiorari. Held, that the “Chinese Regulation Act, 1884,” is ultra vires of the Provincial Legislature, on the following grounds: \n",
      "1. It is an interference with the rights of Aliens. \n",
      "2. It is an interference with Trade and Commerce. \n",
      "3. It is an infraction of the existing treaties between the Imperial Government and China. \n",
      "4. It imposes unequal taxation. \n",
      "\n",
      "14th & 15th July—On the return of a writ of certiorari directed to Edwin Johnson, Esquire, Police Magistrate for the City of Victoria, to return into this Court a certain conviction made by him under which one Wing Chong was fined $20 for not having in his possession a license issued under the “Chinese Regulation Act, 1884.”\n",
      "\n",
      "The Attorney-General in support of the conviction said there were five points raised on the rule for the certiorari against the validity of the $10 tax.—1st. That it interfered with the Dominion powers under the B. N. A. Act, aliens, and naturalization; 2nd. Trade and commerce; 3rd. Treaty obligations; 4th. That the tax was unequal, and 5th. It was indirect taxation. As to the first point aliens were as much subject to taxation as citizens. Protection and taxation were reciprocal (Cooley on Taxation, p. 14). The law did not deal with the conditions under which aliens might acquire rights or become subjects of Her Majesty. Secondly—Trade and commerce were not interfered with. The object of the Act was two-fold, the police and sanitary regulation of a numerous foreign element, and the raising of revenue necessary to meet that regulation (Hodge v. The Queen, L. R. 9, App. Cas. 117). If incidentally trade and commerce were touched, the provincial power of direct taxation was not impaired (Citizens Insurance Co. v. Parsons, L. R. 7 App. Cas. 108). The preamble and scope of the Act showed its objects were purely matters of the police and raising of revenue to meet the necessary expenditure, and within “Direct Taxation.” Thirdly—The treaty obligations of England did not affect the question. The last communication from the Secretary of State for the Colonies to the Governor-General, dated 16th May, 1884, stated, in effect, that the Colonies with responsible government could pass restrictive laws irrespective of treaties (B. C. Sessional Papers, 1885, p. 464), and instanced the legislation of the Australian Colonies and of the Dominion. Fourthly—As to unequal taxation, the power of the Province within its jurisdiction was supreme and as plenary as that of the Imperial Parliament (R. v. Burah, L.R. 3 App. Cas. 904; R. v. Hodge, L. R. 9, App. Cas. 117; and Powell v. Apollo Candle Co., L.R. 10 App. Cas., p. 290; and *In re Goodhue*, 19 Gr. 366); *Cooley* on Taxation, pp. 3, 82, 126-128, and *Cooley's Constitutional Limitations* (5th Ed.) 626-7; *Sedgwick* on Stat. (2nd Ed.), p. 501; *Potter's Dwarris* 418, 421, 425; *Dow v. Black*, L. R. 6 P. C. 272, were cited as showing the power of taxation, unless abridged by the written constitution, might be exercised so as to discriminate. The Supreme Court of Canada, in the case of *Jonas v. Gilbert*, 5 S. C. R., 356, had practically decided the same point. Fifthly—Whether called a licence or not, the imposition was a direct poll tax, and as such came within the power of the Province to raise money by direct taxation for Provincial purposes. *Cooley* on Taxation, 386; *Wharton's Law Lexicon*; *Reed v. Mousseau*, 8 S. C. R., 408. It was not a license to carry on business, or a method whereby indirectly money was raised from the consumer, as, for instance, customs or stamp laws.\n",
      "\n",
      "*Richards*, Q. C., for Wing Chong—The object of the Act was not for police purposes or to raise revenue. Its object, though not apparent on the face of the Act, was to prevent Chinese coming into the Province and drive out those who had already come. He reviewed the legislation against Chinese since confederation, contending it was levelled against a particular race of aliens and, therefore, beyond provincial control, per *Gwynne*, J., in *Citizens Insurance Co. v. Parsons*, 4 S. C. R., at p. 346. The law was a direct interference with trade and commerce (*R. v. Severn*, 2 Can. S. C. R., 70). If its object were successful and Chinese driven from the country, the customs dues received from the Chinese would be lost and the benefits of trade relations enjoyed by the merchants would be destroyed. Counsel cited statistics from the Chinese Commission showing the extreme importance, from a fiscal and commercial point of view, of the large number of Chinese in the Province. The Dominion under the B. N. A. Act had alone the right of performing in Canada the obligations of Canada as part of the British Empire in respect of treaties, and although Canada might pass laws prohibiting immigration, or having that tendency, the Province could not do so, nor could it pass laws in derogation of treaties. He cited the British treaty (25th August, 1842, from *Hertslet*, Vol. 6, and Lord *Elgin's* treaty, 1860), comparing it with the *Burlingame* treaty of the United States, and quoted California decisions (*Lin Sing v. Washburn*, 20 Cal. 334), and the decision of *Gray*, J., in *Tai Sing v. Maguire*, deciding that similar legislation was held void as contravening the treaty and the sovereign power to regulate trade and commerce with foreign countries. \n",
      "\n",
      "*Drake*, Q. C., on the same side, argued that the imposition of the $10 tax was invalid because of inequality. Inherent in and incidental to the taxing power was the characteristic of equality. *Cooley* stated that irrespective of constitutional limitation a particular class of citizens could not be burdened for the advantage of others—*Cooley's Constitutional Limitations*, p. 635. This was a principle underlying the power to tax and governing that right even though the CREASE, J. 1885. REGINA v. WING CHONG. written constitution made no mention of it—Cooley on Taxation, p. 18, and City of Lexington v. McQuillan, 35 Am. Dec. 159. The imposition was in derogation of treaty rights with which Canada alone had the power to deal. The Australian legislation did not help the contention of the Attorney-General. The Australian Colonies were autonomous, and occupied the same position as that of Canada. The Provinces were not autonomous. He did not contend that the whole of the Act was invalid. Much of it was within the scope of the Province, notably the provisions affecting the size of dwellings, the forbidding the use of opium, and the desecration of grave-yards. He insisted that imposing excessive taxation on one class of citizens was unconstitutional. The remarks of Chief Justice Ritchie, in the case of Jonas v. Gilbert before the Supreme Court of Canada, were obiter dicta, as the decision was upon another point, and intimated, but did not decide the right of the Provinces to discriminate, nor in what things and to what extent discrimination in taxation was legitimate. Lastly, the Act was for indirect taxation, which was a power given only to the Dominion Parliament. It was a license fee, the power to impose which had, in Severn v. The Queen, been decided against the Provinces on the score of such legislation being against trade and commerce. \n",
      "\n",
      "The Attorney-General in reply—The ten dollar impost was a tax whether designated by the name of a licence or otherwise. The distinction between direct and indirect taxation was well drawn in the case of Reed v. Mousseau before the Supreme Court of Canada, in which Mr. Justice Strong mentioned the Privy Council had decided the Provincial legislatures had exclusive power to impose direct taxation, and that it did not follow they might not have power even to impose indirect taxation. The tax did not sanction the carrying on of any business out of the product of which the consumer would, indirectly, contribute towards payment of the tax. Then as to inequality, the one dictum of Cooley was but an expression of opinion that political wisdom required uniform taxation; for the same author cited numerous authorities, including that of the Supreme Court of the United States establishing the right to discriminate unless fettered by the express language of the Constitution. Todd on Parliamentary Government in the Colonies, supported the view that the Provinces within their jurisdiction were as omnipotent as the Imperial Parliament. The California cases (see The People v. Naglee, 1 Cal. 232) decided a differential tax might be imposed on foreign miners; and though a later case (Lin Sing v. Washburn, 20 Cal. 334) had decided a special tax could not be imposed on Chinese, a most celebrated Judge, Mr. Justice Field (since elevated to the Federal bench), dissented, and had pointed out that according to federal decisions the State might impose special taxation on alien residents, provided the impost was not levied against foreigners landing in the country. The tax was not to exclude the Chinese — another statute with that object had been disallowed. It was imposed to meet the extraordinary expenses incident to enforcing the police and sanitary regulations prescribed by the Act. The question of treaties had nothing to do with the subject, for to responsible governments the Imperial Authorities conceded the right to pass laws within their jurisdiction. So the Canadian Parliament to-day was passing a restriction Act. Opponents to the Act might as well contend the exclusion of the Chinese from the franchise, and barring them from acquiring lands, was illegal. As to autonomy, neither the Australian Colonies nor the Dominion were absolutely possessed, but the Province equally with Australia and the Dominion were autonomous within the bounds of their respective jurisdictions. \n",
      "\n",
      "21st August, 1885—CREASE, J.— In order to deal satisfactorily with the questions raised by this appeal, it is necessary to see what is the scope and purport of the Act. It is called \"An Act to regulate the Chinese population of British Columbia.\" It starts with a recital, in itself a petio principii—not apparently the result of any public enquiry—which charges them with being not law-abiding, dissimilar in habits and occupation to the whites—useless in emergencies, habitual desecrators of grave-yards, unsuited to our laws, and of habits subversive of the community. From that premises concluding that special laws are required for their government, it proceeds to enact:— \n",
      "\n",
      "1. The title.\n",
      "\n",
      "2. Defines Chinese to mean \"any native of the Chinese empire or \"its dependencies not born of British parents, and shall include any \"person of the Chinese race.\" \n",
      "\n",
      "Section 3—with which we are immediately concerned—says:—\"From and after the passage of this Act there shall be payable and \"paid by every Chinese in British Columbia, above the age of fourteen years, unto and for the use of Her Majesty, her heirs and successors, the sum of ten dollars, and thereafter on the 1st day of June in \"each and every year there shall be likewise payable and paid by such \"Chinese person a further sum of ten dollars.\" \n",
      "\n",
      "Sec. 4 provides for the appointment and payment of special collectors, \"to be called Chinese collectors, to collect and receive such \"payments from Chinese; and such collector or collectors, immediately upon such payment, shall issue and deliver to the person paying \"the same a licence in the form contained in the schedule hereto.\" \n",
      "\n",
      "By Sec. 5 \"Any Chinese who shall be found within the Province \"not having in his possession a licence issued under the provisions of \"this Act, lawfully issued to him, shall, on conviction thereof, forfeit \"and pay a sum not exceeding forty dollars.\" \n",
      "\n",
      "By Sec. 6 \"Any collector or Government servant wilfully disobeying \"any of the provisions of this Act shall forfeit and pay a sum not \"exceeding one hundred dollars.\" \n",
      "\n",
      "By Sec. 7 \"Every collector shall collect the tax from each Chinese, \"and shall as soon afterwards as may be pay over the amount to the \"officer in charge of the Treasury, or to such other person as the \"Lieutenant-Governor in Council may from time to time direct.\"  \n",
      "\n",
      "By Sec. 8 “Every employer of Chinese shall furnish to the collector “when requested by him so to do, from time to time, a list of all “Chinese in his employ, or indirectly employed by him; but no such “statement shall bind the collector, nor shall excuse him from “making due enquiry to ascertain its correctness.” \n",
      "\n",
      "Section 9. “In case any employer of Chinese fails to deliver to the “collector the list mentioned in the preceding section, when required “so to do, or knowingly states anything falsely therein, such “employer shall, on complaint of the collector and upon conviction “before a Justice of the Peace having jurisdiction within the “district wherein such employer carries on his business, forfeit “and pay a fine not exceeding one hundred dollars for every Chinese “in his employ, to be recovered by distress of the goods and chattels “of such employer failing to pay the same, or in lieu thereof shall be “liable to imprisonment for a period not less than one month and not “exceeding two calendar months.”\n",
      "\n",
      "Section 10 gives the collector power to “levy the amount of the license from any Chinese not being in lawful possession of a license, “with costs, by distress of his goods and chattels, or of any goods and “chattels which may be in the possession of the delinquent, or which “may be upon or in any premises (whether the goods of the delin- “quent or not) for the time being in the possession or occupation of “such delinquent Chinese,” and declares that “for the purposes of this “section premises shall be deemed to be in the possession or occupa- “tion of any Chinese when it can be shown to the satisfaction of the “tribunal having cognizance of the matter (a) that such Chinese “habitually frequents such premises with the assent of the owner ; “(b) that he is the owner or one of the owners of the premises, or has “control, either alone or jointly, with another or others, of such pre- “mises or some part thereof; (c) that he has passed the night or slept “upon such premises at any time within a week of the levy, it shall “be sufficient authority for the collector to levy as aforesaid on the “non-production of the license. Proof of the lawful possession of “such receipt shall lie on the person whose goods are restrained.” \n",
      "\n",
      "By section 11 every license must be demanded by the employer and retained during the Chinaman’s service. \n",
      "\n",
      "By section 12 tax collectors are not to allow Chinese to pass unless a license is produced. \n",
      "\n",
      "Section 13 imposes a penalty of $50 on any person guilty of employing any Chinese not having a license. \n",
      "\n",
      "Sec. 14 Fee for free miner’s certificate to a Chinese to be $15, instead of the white man's $5. \n",
      "\n",
      "Sec. 15. Penalty not exceeding $30 for every Chinaman mining without a license. \n",
      "\n",
      "Section 16 amends the License Ordinance of 1867, whereby the pursuit of various callings is sanctioned by the ominous words, “but no license shall be issued to any Chinese.” \n",
      "\n",
      "Sections 17 and 18 prevent the exhumation of dead bodies without permission, and prohibit the use of opium except for medical purposes. \n",
      "\n",
      "Section 19 provides for the recovery of any pecuniary penalty thereunder in a summary manner before a J. P., and in default of immediate payment sanctions a distress, and failing that, imprisonment for not exceeding three months. \n",
      "\n",
      "Section 20 (amended by Act of 1885) declares that \"convictions are not to be quashed for want of form.\" \n",
      "\n",
      "Section 21. “Any Chinese who shall lend his license or free miner's \"certificate to another Chinese, and any Chinese who shall utter or \"pass off upon any collector or other person any license or free miner's \"certificate other than his own, with intent himself to avoid payment\" of the license fee payable under this Act (and the onus of proving “that such was not his intent shall rest upon the person charged), shall \"forfeit and pay a penalty of not less than twenty dollars nor more \"than one hundred dollars.\" \n",
      "\n",
      "Section 22 enacts that the tribunal applied to may decide \"on its own view and judgment\" whether any person is a Chinese or 14 years old. \n",
      "\n",
      "Sections 23, 24 and 25 contain sanitary provisions affecting buildings let to Chinese. \n",
      "\n",
      "Section 26 provides a means whereby persons imprisoned for an infraction of the Act may be put to hard labour by an Order in Council, and the same executive authority is empowered to make rules and regulations for carrying out the Act. \n",
      "\n",
      "Section 27 places in the hand of the local executive the construction from time to time of further rules and regulations to enforce the Act, and a fitting summary to such a premiss in section 28 reverses all the old law of England and one of the most cherished and priceless safeguards of the freedom from oppression won for us by our forefathers—that no one shall be deemed guilty until he has been proved so—throws on the defendant, white or yellow, the burden of proving that he is exempt from the operation of its arbitrary provisions—and in a tax Act which is in restraint of personal liberty, and opposed to the common law rights of the citizen—for if applicable to aliens it is a fortiori to the temporary inhabitants of the Province—abrogates the hitherto invariable rule in criminal matters and makes it unnecessary in any information, summons or conviction to “state or negotiate any “exception in or exemption under this Act, or in contemplation of “law.” Taught by experience of former efforts in the same direction, section 29 gives one year’s notice of the coming into operation of the Act—a time which has now expired. And section 30 terms it merely “The Chinese Regulation Act, 1884.” \n",
      "\n",
      "The only schedule is the form of license, which runs as follows:—\n",
      "\n",
      "The question now raised on the construction of this Act affects not only British Columbia, but, as she occupies the only Pacific seaboard of the Dominion, indirectly more or less the very many other Provinces under the flag of confederation. \n",
      "Taking for convenience the five points of objection to the conviction in the order in which they are made— \n",
      "1. That it interfered with the Dominion powers under the B. N. A. Act over aliens and naturalization. \n",
      "2. Trade and commerce. \n",
      "3. Treaty obligations. \n",
      "4. That the tax was unequal. \n",
      "5. That it was indirect taxation and therefore illegal, and should be quashed. \n",
      "\n",
      "On the first point, I would observe that it is now well settled law that British Columbia, as a part of the Dominion, possesses all, but possesses only, the powers which are strictly defined by the B. N. A. Act of 1867, which is, indeed, the constitution of Canada.\n",
      "\n",
      "Neither she nor any other of the Provinces possess any other powers of legislation than are conferred by that Act. If British Columbia, or any other Province, in its legislation, goes beyond that Act and in excess of its provisions, that moment, and to the extent of such transgression, it ceases to be law. Therefore, in dealing with this question, our constitutional Act must be kept in view throughout, as the measure by which we must continually gauge the legality or illegality of the provisions of the local statute under consideration. \n",
      "\n",
      "The Act of Federation was passed in order to be an irrefragable, permanent standard by which to preserve and regulate all the relative rights of the Provinces, as among themselves and as regards the Dominion. \n",
      "\n",
      "The exclusive powers of that Act given to the Dominion over particular subjects are contained in the 91st section. The exclusive powers of the Province are particularized in section 92. It is natural that in the working out of such a constitution in a new and growing country, questions should be continually cropping up, and call upon the Courts to define gradually and with greater exactness, as time progresses and population expands, the relative powers given by the Act to the Dominion and Provinces respectively. Sub-section 2 of section 91 gives to the Dominion Parliament exclusively the regulation of “trade and commerce,” and by sub-section 25 that of “naturalization and aliens,” and everything relating to those subjects as affecting the whole Dominion is within the Dominion powers, and no local Legislature can make any statute interfering with either of those subjects. If it does, so far as such interference extends it is illegal and void, and when brought before the Court it is the duty of that tribunal so to adjudge it.\n",
      "\n",
      "And the converse of this is true when applied to Dominion legislation as affecting the subjects exclusively given by the constitution to the Province. \n",
      "\n",
      "Now, applying this test to the statute before us, let us see whether and how far its provisions affect, as is alleged, aliens, or trade, or commerce. \n",
      "\n",
      "The aliens in this case being Chinese, the first enquiry must be, what is the object of the Act? On applying to the preamble, we find that it looks like a bill of indictment as against a race not suited to live among a civilized nation, and certainly does not prepare one for legislation which would encourage or tolerate their settlement in the country. Indeed, the first lines of the preamble sound an alarm at the multitude of people coming in, who are of the repulsive habits described in the last part of the preamble, and prepares one for measures which should have a tendency to abate that alarm by deterrent influences and enactments which should have the effect of materially lessening the number of such undesirable visitors. The provisions of the Act I have given somewhat in extenso bear out that view, and the concurrent and previous local legislation bear out the same impression, for on the same day as this Act was passed, another Act was passed, the very object of which was plainly stated to be \"to prevent the immigration\" of Chinese.\" \n",
      "\n",
      "That Act was disallowed. It interfered with aliens as well as trade and commerce, which cannot subsist among nations without personal intercourse, which such an Act (as far as China was concerned) would have a tendency to prohibit. \n",
      "\n",
      "Another statute (of 1878), \"An Act to provide for the better collection of taxes from Chinese,\" which contained several of the stringent provisions which I have described in this Act, such as a special tax specially recoverable by summary and unusual remedies from the Chinese alone, in British Columbia, and enforced by fine and imprisonment and other penal clauses, came before this Court, and in a most conscientious and exhaustive judgment of Mr. Justice Gray, of 23rd September, 1878, in the case of Tai Sing v. Maguire, was declared unconstitutional and ultra vires the Local Legislature, as interfering with aliens and trade and commerce—matters reserved exclusively under the 81st section of the B. N. A. Act to the Dominion. That decision was never appealed from, and was at once acted on by the government as conclusive. \n",
      "\n",
      "The position and legislative powers of British Columbia have been in no respect altered in its relations to the legislative powers of the Dominion on the same subjects since that time, though Russell v. The Queen (7 App. Cas. 829) and Hodge v. The Queen (9 App. Cas. 117) have more fully defined the extent of the powers of the Provincial Legislatures than has hitherto been done; and in the latter case especially. That decision, however, was not before Mr. Gray when he rendered the judgment in Tai Sing v. Maguire. Until reversed or varied, the decision in the Hodge case is law here, and binding on this Court. \n",
      "\n",
      "Their lordships say (page 132), with reference to the objection of the appellants there (delegatus non potest delegare):—\n",
      "\"It appears to their lordships, however, that the objection thus raised by the appellants is founded on an entire misconception of the true character and position of the Provincial Legislatures. They are in no sense delegates of or acting under any mandate from the Imperial Parliament. When the British North America Act enacted that there should be a Legislature for Ontario\" (for this case we may for \"Ontario\" read \"British Columbia\"), \"and that its Legislative Assembly should have exclusive authority to make laws for the Province and for provincial purposes in relation to the matters enumerated in section 92, it conferred powers not in any sense to be exercised by delegation from or as agents of the Imperial Parliament, but authority as plenary and as ample within the limits prescribed by section 92 as the Imperial Parliament in the plenitude of its power possessed and could bestow. Within these limits of subjects and area the Local Legislature is supreme.\" \n",
      "\n",
      "[So far this decision confirms the words of Lord Selborne in R. v. Burah; what follows goes beyond it.] \"And has the same authority as the Imperial Parliament or the Parliament of the Dominion would have had under like circumstances to confide to a municipal institution or body of its own creation authority to make by-laws or resolutions as to subjects specified in the enactment, and with the object of carrying the enactment into operation and effect.\" \n",
      "\n",
      "That decision, although in some respects an obiter dictum, as regards this case, makes it clear that within the limits of subjects and the area prescribed by the B. N. A. Act, by section 92, the Legislature of British Columbia is supreme. The basis, then, of our enquiry must be: Is this Chinese Regulation Act of 1884—rather the parts of it objected to—within the limit of subjects and area of section 92, or does it exceed those limits in which it is supreme, and interfere with aliens, trade and commerce in such a manner as to encroach on section 91 or any of its sub-sections? If so, so far as it does so, it is unconstitutional and ultra vires, and therefore void. Now it does not follow because a local Act touches on these three subjects it therefore interferes with them so as to render it unconstitutional. \n",
      "\n",
      "Aliens may be taxed, may be subjected to the same rules and municipal and other by-laws as other inhabitants of British Columbia, and such discrimination in so doing as are allowed in local legislatures between and among different persons and occupations among the whites are quite as applicable to them. These are the only discriminations which the law allows, and these are the permissible discriminations spoken of by Cooley in the portions cited before the Court. During the argument the case of *Lin Sing v. Washburn*, 20 California Reports, 534, was quoted as bearing on this case. There, an Act of the California Legislature passed an Act imposing a capitation tax “on ‘each person, male and female, of the Mongolian race of the age of 18 years and upwards residing in the State,’ accompanying a license almost a *fac simile* of our own, and enforced in much the same way as in the case before us, that, after long and elaborate argument in which the Attorney-General appeared for the State, was determined to be unconstitutional, as it was an interference with trade and commerce, which could be regulated alone by the general government. It was in vain advanced that at least the State had concurrent jurisdiction in matters of taxation relative to its own internal affairs, of which this was one (the same proposition as was advanced by the Attorney-General in this case) in which it had a supreme and autonomous right to legislate. And the grounds of this decision were that the federal constitution had vested in the general government the power to regulate commerce in all its branches (as with us in the Dominion); and this power extends to every species of commercial intercourse, and may be exercised upon persons as well as property (Mr. Justice Field, whose arguments have been reproduced by the Attorney-General before me in this case, dissenting). \n",
      "\n",
      "That commerce cannot be carried on without the agency of persons, and the tax, the effect of which is to diminish personal intercourse, is a tax on commerce. If the power to impose such a tax is acknowledged, it being a sovereign power, no limitation can be affixed to its exercise, and it may be so used as not only to diminish but destroy commerce. \n",
      "\n",
      "The power asserted in the Act in question (the California Act) is the right of the State to prescribe the terms upon which the Chinese shall be permitted to reside in it, and be so used as to cut off all intercourse between them and the people of the State, and defeat the commercial policy of the nation. \n",
      "\n",
      "That the Act could not be maintained as a police regulation; that a branch of the police power had been surrendered to the Federal Government as a part of the power to regulate commerce, and its exercise by a State was incompatible with the authority of the Government. \n",
      "\n",
      "That the Chinese might be taxed as other residents, but could not be set apart as special objects of the taxation, and be compelled to contribute to the revenue of the State in the character of foreigners. \n",
      "\n",
      "The reports of the higher California courts are of great authority for us on all Chinese questions, for there have been efforts for years past to restrict Chinese immigration in California, and the matter has been constantly before the superior courts there, and the judges there (if we may take the reports as correct) are more than ordinarily skilled in laying down the law correctly in constitutional points of that nature. Indeed, there is no other country which has such experience generally in constitutional law as applicable to a federation of states. \n",
      "\n",
      "Of course, in all the observations I make I recognize the now well-known distinction between the relations of a State of the Union to the Federal Government, and our relation as a Province to the Dominion. Still both Federal Governments have reserved to themselves the regulation of trade and commerce and naturalization and aliens; so the analogy is so close as to become almost a direct authority. \n",
      "\n",
      "In the *Lin Sin* judgment, p. 579, the learned judge says of the power of taxing foreigners, as in the present *qua* foreigners: “If the power exist it may be exercised upon all foreigners residing in the State, and may be so exercised as to bar the door of foreign commerce as effectually as the Government could do by issuing its man-“date and closing its ports.\" \n",
      "\n",
      "And again \"to determine whether there is a conflict or not, i.e., of jurisdictions, the power must be considered with reference to its consequences, for its effect when carried out is the only criterion by which a judgment can be formed.\"\n",
      "\n",
      "In another place he says:—\"It would be an empty sound to say that the several States cannot pass any law to prevent foreigners from coming here if they may pass laws which will compel such foreigners to depart as soon as they arrive.\" \n",
      "\n",
      "And again, \"A tax imposed by the law on these persons for the mere right to reside here, is an appropriate and effective means to discourage the immigration of the Chinese into the State.\"\n",
      "\n",
      "During the argument on the case before me, the Attorney-General claims that this was direct taxation, and a direct tax within the Province, to raise revenue for Provincial purposes, and, therefore *intra vires*; but the question is not one of name but of fact. Does it interfere with trade or commerce? Can it be legally imposed on foreigners as foreigners, for even a legal tax in other respects becomes illegal when it goes beyond its proper limits, and interferes with powers exclusively given to the Dominion for the benefit of all? \n",
      "\n",
      "In another California case, *In re Tiburcio Parrott*, it is laid down that if the apparent object of a statute is under a pretense of the exercise of constitutional powers to drive Chinese away, the end sought to be obtained being unlawful, the statute is void. \n",
      "\n",
      "In *Russell v. Reg.* it is decided that the true nature and character of legislation must be determined in order to ascertain its legality. \n",
      "\n",
      "In *Citizens Insurance Co. v. Parsons*, we have to look at the legislation for the same purpose. \n",
      "\n",
      "If the legislation here be to drive people from the country, have the local legislature the power? Legislation as to aliens is reserved to the Dominion. And as to trade and commerce, if the Chinese be driven out an annual loss to the revenue, it appears by the tables in the Chinese Commission Report, of $110,000 will take place; and more than $1,500,000 of property and business be lost to us, besides an injury to trade to an incalculable extent. The amount of business transacted by Chinamen in British Columbia, as revealed by the tables in that Chinese Report, is something which a casual observer would have no idea of. \n",
      "\n",
      "The treaties between Great Britain and China, which bind us, have been quoted. The treaty of 25th August, 1842, *Hertslet*, Vol. 6, ratified 26th June, 1843, p. 221, and Lord Elgin's treaty of October, 1860, authenticated copies of which were produced in Court, secure to Chinese coming into British dominions the same \"full security for persons and property as subjects of Her Majesty.\" \n",
      "\n",
      "*Vattell*, cap. 8, referring to our obligations to foreigners, observes:— \"As soon as the lord of the territory admits strangers into it he engages \"to protect them as his own subjects, and to afford them perfect security as far as depends on him.\"\n",
      "\n",
      "*Reg. v. Severn* and *Reg. v. Russell* are important authorities in guiding our enquiry as to the nature and effect of local legislation in determining whether and how far the Act under review exceeds the limits within which the local legislature is supreme. And as to the equality of taxation, besides *Cooley*, who has been quoted freely on both sides, in *Kent's Commentaries* (8th Ed.), 2nd Vol., 388, it is insisted—\"That every person is entitled to be protected in the enjoyment of his property, not only from invasions of it by individuals, but from all unequal and undue assessments on the part of the Government. It is not sufficient that no tax or imposition can be imposed upon the citizens, but by their representatives in the legislature the citizens are entitled to require that the legislature itself shall cause all public taxation to be fair and equal in proportion to the value of 'property\" (and that is what *Cooley* means by apportionment of taxation), \"so that no class of individuals, and no species of property shall be unduly assessed.\" The treaties I have quoted between Great Britain and China, binding on the Dominion and on us in British Columbia, secure to the Chinese, just as the treaties between Great Britain and other foreign countries secure to other foreigners, the same rights in regard to the equality of taxation which I have described as being enjoyed by citizens of this country. \n",
      "\n",
      "These treaties have the force of international law, and are continued most strongly against the party for whose benefit they are introduced. \n",
      "\n",
      "In the case of the Chinese treaties, they were forced at the point of the bayonet on China, to obtain a right for us to enter China, and in return for a similar permission to us, full permission was given for the Chinese to trade and reside in British dominions everywhere. \n",
      "\n",
      "In the treaties of 1858 and 1860, made at the solicitation of Great Britain, the Emperor of China was induced to give permission to his subjects to go and trade and reside \"in British Colonies,\" and to enter into \"engagements with British subjects for that purpose.\" \n",
      "\n",
      "These obligations are binding here and in other parts of the Dominion under section 132 of the British North America Act, and no Province, or the Dominion itself, can lawfully pass laws interfering with that right without a previous revision of the treaties by the high contracting parties to them for that purpose. Treaties with foreign nations are above all ordinary municipal law, for obvious international reasons, for without such a provision there can be no permanent security, which is the life of all commercial intercourse. The same provisions that apply to Chinese may be made to apply also to Americans, Frenchmen, Germans, or any other foreigners. Such treaties are the especial care of the Dominion, and where local legislation clashes with that especial province of the Dominion, the legislation of the Province must give way, as laid down in Leprohon v. the City of Ottawa, 40 Q.B., Ont., 478; Reg. v. Chandler, Hannay's New Brunswick Reports, 548; Dow v. Black, L.R. 6 P.C. 272; L'Union St. Jacques v. Belisle, L.R. 6 P.C. 31, and numerous other Canadian authorities, besides the British North America Act itself. Now applying the principles and tests I have described to the Act before us, what do we find? The Act is found associated with another Act now disallowed, the express object of which is to prevent the Chinese altogether from coming to this country, and the principle \"noscitur a sociis\" is kept up by the preamble of the present Act, which describes the Chinese in terms which, I venture to think, have never before in any other country found a place in an Act of Parliament. \n",
      "\n",
      "In the definition of the persons affected by the Act no distinction is made of ambassadors, merchants, consuls, artists, professors or travellers, or sex, whether under disability or not, or at such a distance from a collector as to make it difficult or impossible to obtain a license. Every person of Chinese origin, whether naturalized in Hong Kong or America, or any other State with which we are at amity, so long as they are of Chinese origin, 14 years of age—every one without distinction—must take out a license. For the purpose of argument I have treated the license fee as a tax; but it is in fact a license—a license to remain in British Columbia unmolested for a year. When the legislature wanted to create a tax, they knew what words to use for the purpose, for in the sister Act passed on the same day, which was disallowed, they called the impost there enacted a \"tax,\" not a license. However difficult or impossible for any Chinese to find a district collector, if such Chinese is \"found without a license he is liable to a fine of $40.\" At every turn he is confronted with an exceptional duty, and an exceptional penalty, and the loss of his goods and chattels, and of personal liberty. \n",
      "\n",
      "It is impossible but that such an imposition so enforced, in addition to all the general taxes to which he is subject, should make this country too hot for him to live in; and just in proportion as he is so persecuted out of the country, in that degree does this enactment interfere with trade and commerce and that control over aliens exclusively given to the Dominion. And not only is he thus attacked, but unheard of provisions are introduced. Every employé of Chinese labour, whether English, American, or what not, is made liable to severe and incessant liability of a penal kind, for what? Some act, a default of his own? No; an act or default of a stranger, a man whose language he knows not, and for every infraction of the Act by the Chinese under his employ. The palpable object of such a provision, or set of provisions, is to render the employment of Chinese so distasteful and annoying to the employer that he must cease to employ them. Now, to pass a law providing that employment shall not be given to a special class of men, except it be productive of so much danger, annoyance, and loss to the employer, is just another way of saying that no intercourse shall be had with that class. With penalties and prosecutions always before you, far in excess of any advantage to be derived from that intercourse or trade, what is that but equivalent to saying that such intercourse or trade or labour must cease altogether. What is that but interfering with aliens, trade, and commerce? \n",
      "\n",
      "If a man employ a Chinaman who should happen to be delinquent in his tax, and he happens to occupy a cottage or room of his employer, with his master's goods in it, under section 10 they are liable to seizure and sale. In every prosecution under the Act the legal presumption of innocence until conviction is reversed; in every case the onus probandi, though in a Statute highly penal, is shifted from the informant on to the shoulders of the accused, and he a foreigner not knowing one word of the law, or even the language of the accuser. In other words, every Chinese is guilty until proved innocent—a provision which fills one conversant with subjects with alarm; for if such a law can be tolerated as against Chinese, the precedent is set, and in time of any popular outcry can easily be acted on for putting any other foreigners or even special classes among ourselves, as coloured people, or French, Italians, Americans, or Germans, under equally the same law. That certainly is interfering with aliens. \n",
      "\n",
      "The proposition that it is a Provincial tax for revenue purposes, supposing it to be so intended under the provisions of the Act, is so manifestly calculated to defeat that object, by diminishing the numbers of the members of the persons to be affected by it, that it is difficult to regard it in that light, or in any other light than an indirect mode of getting rid of persons whom it affects out of the country. The whole Act teems with special provisions which affect not only Chinese, but their employers, with obligations and liabilities as to the conduct of the Chinese in their employ, that no reasonable man would encounter, and run the risk of the penal consequences which the Act hangs over him. \n",
      "\n",
      "For instance, by section 19 any pecuniary penalty imposed may be summarily recovered (and applies to employers), and in default of immediate payment the same may be recovered by distress of the goods and chattels of the offender, and in default of sufficient distress by a liability to imprisonment for three calendar months, and the employers would necessarily be white men. \n",
      "\n",
      "In fact, the Act so bristles with these arbitrary, exceptional and penal consequences, that it is invidious to single out particular ones for comment. It is enough to add that \"any person,\" no matter whether white or Chinese, imprisoned in respect of any infraction of the provisions of the Act, may be at the will of the executive, subjected even to hard labour. \n",
      "\n",
      "The Act is so full of provisions that interfere directly with aliens, with trade, and with commerce, that I have no hesitation in pronouncing all such provisions, and among them those under which the appellant in this case has been convicted, to be ultra vires the local legislature, and consequently illegal and void. \n",
      "\n",
      "So far, I have dealt with the Act on its own merits; but if we consider it in juxtaposition to the Dominion Act recently passed restricting the Chinese throughout all Canada, its illegality becomes transparent; for in passing that Act against the Chinese the Dominion has spoken by the highest authority which it possesses—its own Parliament. By the Constitutional Act the subject of aliens, we have seen, is specially reserved to the Dominion, and it is now an axiom, in the interpretation of that Act, that when that authority deals with a subject expressly included in its jurisdiction by the 91st section, it has possession of that subject exclusively, and the Province has to give way. It is a great assumption of power on the part of a Province to pass laws, the effect of which must be practically to expel a particular class of aliens from that Province, to say in effect that it will by its legislation impede or prevent that class from being employed in another Province—say the North-west Territory or Manitoba—where railway works may be languishing for want of that very class of labourers, British Columbia being the only sea-board of Canada on the Pacific through which (in face of the restrictive laws of the United States) that class of labourers can enter and pass through; that is, in fact, legislating on all inter-provincial immigration; in other words, such legislation is ultra vires, and so I pronounce it; and adjudge accordingly, and quash the conviction, with costs. \n",
      "\n",
      "\n",
      "\n"
     ]
    }
   ],
   "source": [
    "with open('data/Regina_V_Wing_Chong.txt', encoding='utf-8') as f:\n",
    "    full_text = f.read()\n",
    "print(full_text)"
   ]
  },
  {
   "cell_type": "markdown",
   "id": "2f86428c",
   "metadata": {},
   "source": [
    "### BERT Word Embeddings"
   ]
  },
  {
   "cell_type": "code",
   "execution_count": 3,
   "id": "710c6d1f",
   "metadata": {},
   "outputs": [
    {
     "name": "stdout",
     "output_type": "stream",
     "text": [
      "crease j 1885 regina v wing chong \n",
      "\n",
      "14th  15th july certiorarichinese regulation act 1884 s 5constitutionalitybna act 1867 ss 91 92alienstrade and commercetaxation \n",
      "on the return to a writ of certiorari held that the chinese regulation act 1884 is ultra vires of the provincial legislature on the following grounds \n",
      "1 it is an interference with the rights of aliens \n",
      "2 it is an interference with trade and commerce \n",
      "3 it is an infraction of the existing treaties between the imperial government and c\n"
     ]
    }
   ],
   "source": [
    "import re\n",
    "\n",
    "def clean_text(text):\n",
    "    \n",
    "    text = text.lower()\n",
    "    text = re.sub(r'[^\\w\\s]', '', text)  # Remove punctuation\n",
    "    \n",
    "    return text.strip()\n",
    "\n",
    "text_cleaned = clean_text(full_text)\n",
    "print(text_cleaned[:500])  # Print the first 500 characters of the cleaned text"
   ]
  },
  {
   "cell_type": "code",
   "execution_count": 4,
   "id": "3e2dea35",
   "metadata": {},
   "outputs": [],
   "source": [
    "# Load pre-trained BERT tokenizer and model\n",
    "from transformers import BertTokenizer, BertModel\n",
    "import torch\n",
    "\n",
    "tokenizer = BertTokenizer.from_pretrained('nlpaueb/legal-bert-base-uncased')\n",
    "bert_model = BertModel.from_pretrained('nlpaueb/legal-bert-base-uncased')"
   ]
  },
  {
   "cell_type": "code",
   "execution_count": 5,
   "id": "ac2e797a",
   "metadata": {},
   "outputs": [],
   "source": [
    "\n",
    "# Create the word embeddings\n",
    "# Tokenize the cleaned text into words\n",
    "tokens = word_tokenize(text_cleaned)\n",
    "\n",
    "token_frequencies = {}\n",
    "\n",
    "for token in tokens:\n",
    "    token_frequencies[token] = token_frequencies.get(token, 0) + 1"
   ]
  },
  {
   "cell_type": "code",
   "execution_count": 6,
   "id": "80f3b9e3",
   "metadata": {},
   "outputs": [
    {
     "name": "stdout",
     "output_type": "stream",
     "text": [
      "Most frequent tokens:\n",
      "the: 629\n",
      "of: 360\n",
      "and: 254\n",
      "to: 234\n",
      "in: 181\n",
      "a: 133\n",
      "that: 109\n",
      "as: 100\n",
      "is: 87\n",
      "it: 83\n",
      "be: 82\n",
      "act: 80\n",
      "or: 78\n",
      "chinese: 74\n",
      "for: 74\n",
      "by: 70\n",
      "not: 62\n",
      "with: 60\n",
      "on: 58\n",
      "was: 58\n"
     ]
    }
   ],
   "source": [
    "sorted_tokens = sorted(token_frequencies.items(), key=lambda x: x[1], reverse=True)\n",
    "\n",
    "# Example: print top 10 most frequent tokens\n",
    "print(\"Most frequent tokens:\")\n",
    "for token, freq in sorted_tokens[:20]:\n",
    "    print(f\"{token}: {freq}\")"
   ]
  },
  {
   "cell_type": "code",
   "execution_count": 7,
   "id": "3851600d",
   "metadata": {},
   "outputs": [],
   "source": [
    "import re\n",
    "# Build ethnicity vocabulary\n",
    "ethnicities = [\n",
    "    \"chinese\", \"japanese\", \"black\", \"white\", \"yellow\", \"chinamans\", \"hong kong\",\n",
    "    \"canada\", \"american\", \"americans\", \"european\", \"china\", \"chinaman\", \"britain\",\n",
    "    \"canadian\", \"latino\", \"mongolian\", \"asian\", \"indian\", \"india\", \"english\",\n",
    "    \"british\", \"america\", \"columbia\", \"ontario\", \"australia\", \"australian\",\n",
    "    \"germans\", \"german\", \"chinamen\", \"italian\", \"italy\", \"french\", \"france\"\n",
    "]\n",
    "\n",
    "pattern = re.compile(r\"\\b(\" + \"|\".join(map(re.escape, ethnicities)) + r\")\\b\", flags=re.IGNORECASE)\n",
    "\n",
    "# Mask in any string\n",
    "def mask_ethnicity(tokens):\n",
    "    masked = []\n",
    "    for tok in tokens:\n",
    "        masked.append(pattern.sub(\"[MASK]\", tok))\n",
    "        \n",
    "    return masked"
   ]
  },
  {
   "cell_type": "code",
   "execution_count": 8,
   "id": "59e873f9",
   "metadata": {},
   "outputs": [
    {
     "data": {
      "text/plain": [
       "['[MASK]', '[MASK] women']"
      ]
     },
     "execution_count": 8,
     "metadata": {},
     "output_type": "execute_result"
    }
   ],
   "source": [
    "example_word = [\"chinaman\", \"chinese women\"]\n",
    "\n",
    "mask_ethnicity(example_word)"
   ]
  },
  {
   "cell_type": "code",
   "execution_count": 9,
   "id": "08fe0727",
   "metadata": {},
   "outputs": [
    {
     "name": "stdout",
     "output_type": "stream",
     "text": [
      "There are 1578 unique tokens in this corpus.\n"
     ]
    }
   ],
   "source": [
    "tokens = mask_ethnicity(tokens)\n",
    "\n",
    "# Get unique words to avoid redundant computation\n",
    "unique_tokens = list(set(tokens))\n",
    "\n",
    "\n",
    "# Include the word \"chinese\" as our target\n",
    "unique_tokens.append(\"chinese\")\n",
    "\n",
    "# Print the shape of unique tokens\n",
    "print(f'There are {len(unique_tokens)} unique tokens in this corpus.')"
   ]
  },
  {
   "cell_type": "code",
   "execution_count": 10,
   "id": "c9396466",
   "metadata": {},
   "outputs": [],
   "source": [
    "# Prepare a dictionary to store word embeddings\n",
    "bert_word_embeddings = {}\n",
    "\n",
    "# For each word, get its BERT embedding by feeding it as a single-token input\n",
    "for word in unique_tokens:\n",
    "    word_inputs = tokenizer(word, return_tensors='pt', truncation=True, max_length=10)\n",
    "    with torch.no_grad():\n",
    "        word_outputs = bert_model(**word_inputs)\n",
    "        # Use the [CLS] token embedding as the word embedding\n",
    "        word_embedding = word_outputs.last_hidden_state[:, 0, :].squeeze().numpy()\n",
    "        bert_word_embeddings[word] = word_embedding\n",
    "    "
   ]
  },
  {
   "cell_type": "code",
   "execution_count": 11,
   "id": "0637c078",
   "metadata": {},
   "outputs": [
    {
     "name": "stdout",
     "output_type": "stream",
     "text": [
      "BERT embedding for 'chinese':\n",
      "[-6.20929539e-01 -1.41670823e-01  6.38972700e-01  5.66699132e-02\n",
      "  2.49502540e-01  3.55757505e-01 -9.64455083e-02  3.54799002e-01\n",
      " -2.72700071e-01 -6.37607515e-01  1.72131464e-01  5.87601185e-01\n",
      "  5.80037721e-02 -1.98575929e-01 -6.22221410e-01  6.23443425e-01\n",
      " -2.84136593e-01 -2.01131850e-01 -1.16010755e-01  3.39487463e-01\n",
      " -1.49680659e-01  4.16029960e-01  4.64205593e-01 -4.62918848e-01\n",
      "  3.87409419e-01  6.31607294e-01  6.86673880e-01  2.19446510e-01\n",
      " -3.76841813e-01  1.29365414e-01 -2.28451476e-01 -2.85087526e-01\n",
      "  3.50298733e-01  4.33137774e-01 -4.69815671e-01  2.95415729e-01\n",
      "  5.21581918e-02 -2.85912603e-02  4.41664994e-01  2.89366961e-01\n",
      "  3.54161382e-01 -7.48492539e-01  7.74241015e-02 -1.15738958e-01\n",
      " -1.74300909e-01  1.22695386e-01 -2.15352607e+00 -3.29316437e-01\n",
      "  1.01312399e-02 -3.54919508e-02 -1.23483628e-01  6.59714639e-01\n",
      " -8.31658393e-03  6.29764616e-01  6.69252157e-01 -4.71154869e-01\n",
      "  7.91465193e-02 -6.24100566e-01 -4.18076426e-01 -6.55551255e-02\n",
      " -2.87119329e-01 -7.29586422e-01 -1.68598443e-01  1.50031522e-01\n",
      "  5.73544860e-01 -3.64863962e-01 -1.75638735e-01 -1.08312464e+00\n",
      " -8.72774601e-01  5.20283222e-01 -4.19046521e-01 -1.03995062e-01\n",
      " -4.50686485e-01  3.96263123e-01  4.59026933e-01  1.49248451e-01\n",
      " -9.73935723e-01  2.40059093e-01  5.98382726e-02  2.12373272e-01\n",
      " -5.36927223e-01 -2.63255000e-01 -1.00201085e-01 -2.81152964e-01\n",
      " -8.00028026e-01 -2.07509041e-01  1.99834973e-01  4.22091454e-01\n",
      " -4.92548257e-01  4.73333746e-01  2.41994262e-01  2.99992353e-01\n",
      " -6.62101805e-02  4.97653842e-01  6.22859836e-01 -1.12075001e-01\n",
      "  2.90468335e-01 -7.17193186e-02  1.00460958e+00 -4.98113304e-01\n",
      " -1.79656357e-01  1.90939844e-01 -2.20561445e-01 -1.83571711e-01\n",
      "  3.41635823e-01  3.36763442e-01  3.71978670e-01  2.52287127e-02\n",
      " -2.27320194e-01 -9.94906500e-02 -3.79479051e-01  1.15087166e-01\n",
      " -5.67150004e-02 -1.43992513e-01  2.93665946e-01 -2.44779125e-01\n",
      " -1.55896649e-01  3.21049765e-02  1.62580296e-01 -2.96470821e-01\n",
      "  3.47170413e-01  2.43933260e-01  3.24786425e-01  5.33174098e-01\n",
      "  7.26382434e-01 -2.29868144e-01 -3.03070366e-01 -2.68375546e-01\n",
      " -6.95386052e-01 -4.25721258e-01  4.37335163e-01  6.57992512e-02\n",
      "  3.43118166e-03  3.50312263e-01 -6.52863681e-01  8.04584563e-01\n",
      " -7.14762986e-01 -3.13351125e-01 -4.31783706e-01 -1.15973532e-01\n",
      "  5.64823672e-02  3.03973377e-01  9.12813395e-02  4.21349108e-01\n",
      "  1.21128604e-01  1.19176239e-01 -1.22158721e-01  8.35701287e-01\n",
      " -4.48834240e-01  2.71129757e-01  3.85459326e-02  9.48289514e-01\n",
      "  2.80741662e-01  5.03642201e-01  2.05555215e-01  2.82689214e-01\n",
      "  3.95920396e-01  2.34585971e-01 -4.72097874e-01  4.53244969e-02\n",
      "  8.21068510e-02  3.81632894e-01  2.54405349e-01  2.08593398e-01\n",
      "  2.25971892e-01 -1.33064404e-01 -4.37186360e-01  2.77443707e-01\n",
      "  3.75222445e-01  8.46719816e-02  6.87628984e-02 -6.03797495e-01\n",
      "  4.42021012e-01  1.27283841e-01 -1.15678959e-01  2.35864520e-01\n",
      " -1.95469126e-01  2.60744423e-01  2.57576495e-01 -9.72829759e-04\n",
      " -7.11947680e-03  2.02469863e-02 -3.01855773e-01 -3.68264377e-01\n",
      " -5.51047802e-01 -3.21637809e-01  6.82744265e-01  3.11159343e-01\n",
      "  6.41474605e-01  4.92581837e-02  3.97575974e-01  1.49251729e-01\n",
      " -6.21113598e-01  1.83909848e-01  9.18094739e-02 -3.95073593e-01\n",
      "  4.48574964e-03 -4.84976411e-01 -5.95896184e-01  4.45794612e-02\n",
      " -1.56988561e-01 -3.84185985e-02  5.43416560e-01 -8.11478794e-01\n",
      " -6.62251294e-01  3.90997380e-01  6.33022934e-02  5.95391631e-01\n",
      "  5.37818447e-02 -1.34045124e-01  7.78977424e-02  5.71762145e-01\n",
      "  7.11518005e-02 -5.18558145e-01 -6.77703917e-02 -1.98607668e-01\n",
      "  3.19246240e-02 -1.81519926e-01  7.71615505e-01  4.34639990e-01\n",
      " -3.50787699e-01 -6.15721583e-01  7.47689962e-01  1.04828857e-01\n",
      " -3.23299766e-01  4.18364704e-01 -4.87017900e-01  3.74182940e-01\n",
      "  1.56448364e-01 -5.77500090e-02  5.83279908e-01 -5.13220906e-01\n",
      " -2.18874216e-03 -2.09312156e-01  3.91385704e-01  3.79638374e-01\n",
      "  9.49216962e-01 -1.29740939e-01  5.69061816e-01 -4.44787562e-01\n",
      " -3.64395320e-01 -2.67693162e-01  1.04195148e-01  5.82310379e-01\n",
      " -1.04579926e-01 -3.69362235e-01 -2.09110126e-01 -4.69664782e-01\n",
      "  3.93471122e-02  1.20268032e-01 -4.09655273e-01  3.17582726e-01\n",
      " -4.20122415e-01 -1.83061346e-01 -1.00396290e-01  2.06324831e-01\n",
      " -1.38006791e-01 -4.76041734e-01  4.09802496e-01  3.76810193e-01\n",
      "  3.11998695e-01 -8.93612981e-01 -4.87619847e-01 -3.83996964e-01\n",
      "  1.66278467e-01 -4.89072680e-01  1.85235411e-01 -2.76644647e-01\n",
      "  2.62035608e-01  1.78464368e-01  3.37471485e-01  2.73906350e-01\n",
      " -2.62219787e-01 -3.90418172e-01 -4.20719773e-01  2.96515375e-02\n",
      " -6.88903809e-01  9.03952420e-02  4.92249399e-01 -1.56697378e-01\n",
      " -2.83632368e-01  3.26630175e-02 -6.74627423e-02  8.64047334e-02\n",
      "  9.33766961e-02  2.47450620e-01  1.16174176e-01 -4.40932244e-01\n",
      " -3.54222298e-01  4.36043650e-01 -4.43125248e-01 -1.34402305e-01\n",
      " -2.39203602e-01 -3.71706128e-01  4.45058011e-02 -1.50167793e-01\n",
      "  2.20737219e-01  8.04608688e-02 -4.51401055e-01 -3.34844559e-01\n",
      " -1.17285185e-01  9.54925954e-01  1.49068207e-01 -1.64131656e-01\n",
      "  2.71165758e-01  5.29197864e-02 -2.54569232e-01  5.92229307e-01\n",
      " -8.31328964e+00 -1.58774897e-01  2.74163961e-01  4.40409809e-01\n",
      "  3.51174653e-01 -1.75799906e-01 -4.99350987e-02 -3.76174927e-01\n",
      "  3.19187969e-01 -7.06142724e-01  8.99769485e-01  2.41790637e-01\n",
      "  4.14057255e-01  2.70290017e-01 -8.15676674e-02 -3.30293149e-01\n",
      " -1.47520244e-01 -6.20587647e-01 -4.30307716e-01 -9.92816910e-02\n",
      "  1.35646492e-01 -3.30279380e-01  8.25153664e-04 -3.72950062e-02\n",
      " -8.20026457e-01 -1.79836959e-01  2.61671335e-01  5.46908081e-01\n",
      "  2.47777283e-01 -9.14677918e-01  4.57374811e-01 -7.14826941e-01\n",
      "  2.61447221e-01  3.62211466e-02 -2.40433559e-01 -1.51182324e-01\n",
      "  5.14290072e-02  2.96001911e-01 -3.33737843e-02  7.91547120e-01\n",
      " -2.90190667e-01 -2.67833233e-01  1.55358672e-01 -3.04542989e-01\n",
      " -6.62124902e-03  5.82447529e-01 -8.84478763e-02 -2.95755088e-01\n",
      " -2.36822724e-01  2.25740343e-01  1.06620967e-01  4.18182239e-02\n",
      "  2.94192225e-01 -4.99745190e-01  6.70127273e-01 -4.35429662e-02\n",
      "  7.06656396e-01  7.02271819e-01 -1.19627438e-01 -7.91099191e-01\n",
      " -6.75488830e-01 -1.07149817e-01 -7.84962654e-01  4.35174704e-01\n",
      " -3.13440487e-02  2.44784519e-01 -8.73122692e-01  3.50021236e-02\n",
      "  2.09036484e-01 -1.19712092e-01 -1.83357477e-01  6.73410594e-01\n",
      "  6.20656133e-01 -4.46413159e-01 -4.69995216e-02 -2.27658331e-01\n",
      " -1.87434420e-01 -5.16895175e-01 -6.93055391e-01 -6.81383312e-01\n",
      " -7.97632217e-01 -5.03173709e-01  3.59279335e-01 -9.57268253e-02\n",
      " -4.03277948e-02 -4.18359607e-01  1.79501653e-01 -2.03034595e-01\n",
      "  4.86599743e-01  4.59470391e-01  8.80890846e-01 -8.17530334e-01\n",
      " -1.26834318e-01 -4.91106033e-01 -2.95128912e-01 -4.75886345e-01\n",
      " -5.21892868e-02  2.00933948e-01  3.80768031e-01  1.80221930e-01\n",
      "  4.48104143e-01 -3.33190709e-02 -4.20341015e-01 -7.12261915e-01\n",
      " -3.03022802e-01  1.31230503e-01 -6.22783661e-01  3.06485772e-01\n",
      " -6.40359297e-02 -3.02131534e-01  8.56920779e-01  1.15723774e-01\n",
      "  3.39410990e-01  5.69929600e-01  1.52577490e-01 -5.94416857e-01\n",
      " -1.86862513e-01 -5.08795142e-01  2.31843963e-02 -3.78883481e-01\n",
      " -1.16497651e-01  5.03729403e-01 -6.11288965e-01  4.04663295e-01\n",
      " -1.57215342e-01  2.46463493e-01 -8.03818583e-01  2.13739611e-02\n",
      "  1.84446827e-01  1.37955278e-01  4.44983006e-01  3.24013323e-01\n",
      "  5.92168510e-01  4.99685884e-01 -2.96121895e-01 -1.36218816e-01\n",
      "  3.44957858e-01  3.80566530e-02  2.13077158e-01 -1.07692957e-01\n",
      " -2.26499304e-01  4.00368720e-01  4.69331920e-01  4.01729256e-01\n",
      "  1.76135182e-01 -5.67294002e-01  9.60936621e-02  6.66243434e-01\n",
      "  5.86347282e-01 -1.36371270e-01  3.98507297e-01 -6.31230533e-01\n",
      "  1.67881951e-01  3.80159765e-01 -1.42216980e-02 -6.25230372e-03\n",
      "  8.95538554e-02 -3.62141460e-01  1.87744290e-01  4.58196044e-01\n",
      " -7.12240934e-01 -1.88387305e-01 -1.19761169e+00 -3.01312894e-01\n",
      "  1.09179214e-01  7.96129942e-01 -5.37162870e-02  1.74532849e-02\n",
      "  3.53716373e-01  1.95554763e-01  7.30575144e-01 -5.38032949e-01\n",
      "  4.53044862e-01  1.16197832e-01  1.04142524e-01  1.75453834e-02\n",
      " -1.89646214e-01 -4.50465307e-02 -2.96386361e-01  8.41702521e-01\n",
      "  1.34699687e-01  2.22342491e-01  3.41144800e-01  3.16154718e-01\n",
      " -1.96809262e-01 -1.29944146e-01  1.70183375e-01 -2.71233886e-01\n",
      "  3.57917070e-01  6.67843744e-02 -4.23610285e-02 -4.82595384e-01\n",
      "  1.66769058e-01  4.94925857e-01  4.79743302e-01  3.16114545e-01\n",
      "  2.30504751e-01  3.55792865e-02 -5.56550145e-01  3.27261806e-01\n",
      "  7.53091052e-02  4.10911292e-02  4.74415384e-02 -7.82813281e-02\n",
      " -3.72776210e-01  1.69891611e-01  7.65118361e-01 -2.97236353e-01\n",
      "  9.89347696e-02 -1.80657685e-01 -3.42060089e-01  2.08854303e-02\n",
      " -4.04215872e-01  2.49378815e-01  3.97761106e-01  6.12111866e-01\n",
      "  2.35218480e-01  5.57211101e-01 -2.22380966e-01  8.74015391e-02\n",
      " -1.54908866e-01  2.01314420e-01  5.51346302e-01  4.11242962e-01\n",
      "  1.35007724e-01 -7.33750165e-01  1.75053373e-01  9.85419899e-02\n",
      " -2.71402240e-01 -4.27075252e-02 -7.39640892e-02 -8.95789489e-02\n",
      " -6.73124850e-01  3.34329158e-03  4.13881570e-01 -8.63709271e-01\n",
      " -7.17986166e-01  4.02059555e-01 -5.30316681e-03 -4.63855602e-02\n",
      " -9.58981216e-01 -5.41762769e-01 -2.94650584e-01 -1.40149742e-01\n",
      " -5.82655407e-02 -3.00250500e-01  4.91782784e-01 -7.32116103e-01\n",
      "  7.90900514e-02  6.98811412e-01 -1.66677907e-01  2.70790160e-01\n",
      " -3.74784708e-01  5.75984046e-02  2.90283144e-01  2.36415058e-01\n",
      " -7.49480724e-01 -5.69793522e-01 -1.31443173e-01  6.77230358e-02\n",
      "  5.24155274e-02 -2.42647693e-01 -3.51806581e-01 -2.79659212e-01\n",
      "  2.92793393e-01  2.59537920e-02  1.31971031e-01 -1.84148356e-01\n",
      " -3.91100138e-01  3.43212038e-02  3.82385962e-02  3.72998789e-02\n",
      " -2.93728858e-01  5.79028964e-01  5.89166641e-01  2.75528759e-01\n",
      "  5.50185889e-03  2.74640024e-01 -1.79951876e-01  2.87219770e-02\n",
      " -1.35055348e-01 -4.60491180e-01 -8.06817770e-01  3.41826290e-01\n",
      " -4.05552983e-01  2.48563156e-01  2.85962969e-01 -8.20873156e-02\n",
      " -1.83620140e-01 -4.03567106e-01  4.51679707e-01  6.78313255e-01\n",
      " -2.61588097e-01 -6.08417273e-01 -7.37744629e-01  5.62528193e-01\n",
      "  2.67416239e-01  3.26011807e-01 -3.88303250e-01  1.19362779e-01\n",
      "  1.32867679e-01 -2.45446056e-01  2.76358634e-01  4.10816014e-01\n",
      " -1.66601464e-01 -4.75261897e-01  4.95791845e-02 -4.01174128e-01\n",
      "  4.47854921e-02  2.52735823e-01  4.99049753e-01 -2.71843046e-01\n",
      " -2.30236411e-01 -4.19544280e-01 -6.44783556e-01 -2.02414989e-02\n",
      "  1.57231078e-01  5.70323765e-01 -4.36491072e-01 -5.75617850e-01\n",
      " -3.09314817e-01  7.87956715e-01  1.20357640e-01  1.53236747e-01\n",
      " -3.91703174e-02 -6.28402650e-01 -5.95002890e-01  2.11277694e-01\n",
      " -1.00957870e-01 -6.25989676e-01 -1.93992242e-01  2.68233865e-01\n",
      "  6.01908207e-01 -1.00547671e-01 -7.74197653e-02 -6.57559261e-02\n",
      "  1.52519286e-01  2.57916171e-02  2.68106237e-02 -1.81481376e-01\n",
      "  9.75872129e-02 -3.44187319e-01 -4.13155481e-02  2.30506435e-01\n",
      "  4.41175222e-01 -4.94554788e-01 -5.63982069e-01 -3.73879731e-01\n",
      " -1.57980785e-01 -1.60827577e-01  6.00513756e-01  1.28833856e-02\n",
      " -1.66597068e-01  2.62471884e-01 -4.88434851e-01  1.59598663e-01\n",
      "  8.19031894e-01  3.17419499e-01  2.73415864e-01 -2.63671190e-01\n",
      "  4.64785963e-01 -6.24573119e-02  4.31150943e-01 -3.60428877e-02\n",
      " -2.06645608e-01  4.98502016e-01 -2.39020318e-01  2.77612031e-01\n",
      " -2.38968998e-01  2.57991761e-01 -4.60960239e-01 -6.56905234e-01\n",
      " -5.68882287e-01  3.67467493e-01  1.33221209e-01  6.14785314e-01\n",
      " -6.97935462e-01  1.25864193e-01 -7.44486332e-01  7.49794900e-01\n",
      "  1.52957410e-01 -6.04381680e-01 -5.13625778e-02 -1.60398539e-02\n",
      " -2.52287060e-01  2.35126406e-01  2.17649341e-01 -1.34040505e-01\n",
      " -3.57571721e-01  2.62210399e-01  8.41796398e-02  3.69733691e-01\n",
      " -1.52155653e-01 -1.49425447e-01  2.26674959e-01 -1.80153787e-01\n",
      "  3.90131921e-01 -1.35754630e-01  3.67596596e-01 -1.23756118e-01\n",
      " -5.05584121e-01 -1.76664650e-01  4.05613959e-01  2.53210068e-01\n",
      " -6.05254114e-01 -4.27263469e-01  1.87021360e-01 -7.18620896e-01\n",
      " -3.03843021e-01 -9.55149978e-02  5.01943886e-01  8.24583530e-01\n",
      "  2.96676129e-01 -5.18147469e-01  3.41292381e-01 -4.17494208e-01\n",
      " -5.55485666e-01  4.51619059e-01  2.32938439e-01  2.70074010e-01\n",
      "  2.09833056e-01 -5.74076593e-01  1.88415185e-01  5.79992175e-01\n",
      " -3.45205247e-01  6.84881806e-02 -1.38211638e-01  4.09524798e-01\n",
      "  6.40894115e-01  5.76395929e-01 -4.55714136e-01 -4.62624103e-01\n",
      " -2.42347062e-01  6.17268801e-01  2.84022957e-01  2.09178030e-03\n",
      " -3.66120398e-01  4.20001775e-01 -3.87325972e-01 -3.73405486e-01\n",
      "  2.78266855e-02  2.48539090e-01 -7.01753139e-01 -1.90862164e-01\n",
      " -4.03232187e-01  4.49352920e-01  1.93640649e-01  1.57222405e-01\n",
      "  5.84111512e-02 -2.18473673e-02 -7.76935741e-02  5.18222265e-02\n",
      "  2.96477109e-01 -5.23954570e-01  1.57790273e-01 -1.08947106e-01\n",
      "  5.36393642e-01 -1.97960827e-02  3.74067843e-01 -3.51411998e-01]\n"
     ]
    }
   ],
   "source": [
    "# Print embedding for the word of interest 'chinese'\n",
    "\n",
    "print(f\"BERT embedding for 'chinese':\\n{bert_word_embeddings.get('chinese')}\")"
   ]
  },
  {
   "cell_type": "code",
   "execution_count": 12,
   "id": "9b7d2402",
   "metadata": {},
   "outputs": [
    {
     "name": "stdout",
     "output_type": "stream",
     "text": [
      "Top 10 most similar words to 'chinese':\n",
      "chong: 0.8652\n",
      "alien: 0.8581\n",
      "fourteen: 0.8564\n",
      "hong: 0.8516\n",
      "aliens: 0.8370\n",
      "fortiori: 0.8365\n",
      "stranger: 0.8306\n",
      "mode: 0.8299\n",
      "multitude: 0.8282\n",
      "425: 0.8276\n"
     ]
    }
   ],
   "source": [
    "# Compute cosine similarity between all words with Chinese in the model\n",
    "from scipy.spatial.distance import cosine\n",
    "\n",
    "similarity_scores = {}\n",
    "\n",
    "for other_word in bert_word_embeddings.keys():\n",
    "    if other_word != \"chinese\":\n",
    "        similarity = 1 - cosine(bert_word_embeddings[\"chinese\"], bert_word_embeddings[other_word])\n",
    "        similarity_scores[other_word] = similarity\n",
    "\n",
    "# Sort by cosine similarity\n",
    "sorted_similarity = sorted(similarity_scores.items(), key=lambda x: x[1], reverse=True)\n",
    "\n",
    "# Print the top 10 most similar words\n",
    "print(\"Top 10 most similar words to 'chinese':\")\n",
    "for word, score in sorted_similarity[:10]:\n",
    "    print(f\"{word}: {score:.4f}\")"
   ]
  },
  {
   "cell_type": "code",
   "execution_count": 13,
   "id": "ffba8300",
   "metadata": {},
   "outputs": [
    {
     "name": "stdout",
     "output_type": "stream",
     "text": [
      "Top 10 most similar words to 'commerce':\n",
      "agency: 0.8791\n",
      "arbitrary: 0.8773\n",
      "productive: 0.8733\n",
      "operation: 0.8618\n",
      "informant: 0.8595\n",
      "chong: 0.8587\n",
      "injury: 0.8578\n",
      "relations: 0.8570\n",
      "inhabitants: 0.8541\n",
      "levied: 0.8539\n"
     ]
    }
   ],
   "source": [
    "similarity_scores = {}\n",
    "\n",
    "for other_word in bert_word_embeddings.keys():\n",
    "    if other_word != \"commerce\":\n",
    "        similarity = 1 - cosine(bert_word_embeddings[\"commerce\"], bert_word_embeddings[other_word])\n",
    "        similarity_scores[other_word] = similarity\n",
    "\n",
    "# Sort by cosine similarity\n",
    "sorted_similarity = sorted(similarity_scores.items(), key=lambda x: x[1], reverse=True)\n",
    "\n",
    "# Print the top 10 most similar words\n",
    "print(\"Top 10 most similar words to 'commerce':\")\n",
    "for word, score in sorted_similarity[:10]:\n",
    "    print(f\"{word}: {score:.4f}\")"
   ]
  },
  {
   "cell_type": "code",
   "execution_count": 14,
   "id": "2aeeb70b",
   "metadata": {},
   "outputs": [
    {
     "name": "stdout",
     "output_type": "stream",
     "text": [
      "Top 10 most similar words to 'chinese - alien':\n",
      "chinese: 0.2665\n",
      "party: 0.1287\n",
      "enquirywhich: 0.1114\n",
      "follow: 0.1109\n",
      "were: 0.1084\n",
      "exceeding: 0.1078\n",
      "besides: 0.1065\n",
      "aforesaid: 0.1061\n",
      "wellknown: 0.1050\n",
      "origin: 0.1020\n"
     ]
    }
   ],
   "source": [
    "emd = np.array(bert_word_embeddings.get('chinese')) - np.array(bert_word_embeddings.get('alien'))\n",
    "\n",
    "similarity_scores = {}\n",
    "\n",
    "for other_word in bert_word_embeddings.keys():\n",
    "    similarity = 1 - cosine(emd, bert_word_embeddings[other_word])\n",
    "    similarity_scores[other_word] = similarity\n",
    "\n",
    "# Sort by cosine similarity\n",
    "sorted_similarity = sorted(similarity_scores.items(), key=lambda x: x[1], reverse=True)\n",
    "\n",
    "# Print the top 10 most similar words\n",
    "print(\"Top 10 most similar words to 'chinese - alien':\")\n",
    "for word, score in sorted_similarity[:10]:\n",
    "    print(f\"{word}: {score:.4f}\")"
   ]
  },
  {
   "cell_type": "code",
   "execution_count": 15,
   "id": "be727da8",
   "metadata": {},
   "outputs": [],
   "source": [
    "# Generate a 2D PCA for visualiaztion\n",
    "from sklearn.decomposition import PCA\n",
    "pca = PCA(n_components=2)\n",
    "\n",
    "word_embeddings = np.array(list(bert_word_embeddings.values()))\n",
    "pca_results = pca.fit_transform(word_embeddings)"
   ]
  },
  {
   "cell_type": "code",
   "execution_count": 16,
   "id": "93cde9ff",
   "metadata": {},
   "outputs": [
    {
     "name": "stderr",
     "output_type": "stream",
     "text": [
      "c:\\Users\\Kaiyan Zhang\\AppData\\Local\\Programs\\Python\\Python312\\Lib\\site-packages\\plotly\\express\\_core.py:1983: FutureWarning: When grouping with a length-1 list-like, you will need to pass a length-1 tuple to get_group in a future version of pandas. Pass `(name,)` instead of `name` to silence this warning.\n",
      "  sf: grouped.get_group(s if len(s) > 1 else s[0])\n"
     ]
    },
    {
     "data": {
      "application/vnd.plotly.v1+json": {
       "config": {
        "plotlyServerURL": "https://plot.ly"
       },
       "data": [
        {
         "customdata": [
          [
           "destroy"
          ],
          [
           "entire"
          ],
          [
           "exhumation"
          ],
          [
           "object"
          ],
          [
           "7"
          ],
          [
           "recovery"
          ],
          [
           "soon"
          ],
          [
           "up"
          ],
          [
           "commission"
          ],
          [
           "13"
          ],
          [
           "many"
          ],
          [
           "50"
          ],
          [
           "right"
          ],
          [
           "imperial"
          ],
          [
           "incompatible"
          ],
          [
           "light"
          ],
          [
           "done"
          ],
          [
           "strong"
          ],
          [
           "washburn"
          ],
          [
           "element"
          ],
          [
           "instanced"
          ],
          [
           "disallowed"
          ],
          [
           "p"
          ],
          [
           "method"
          ],
          [
           "its"
          ],
          [
           "bearing"
          ],
          [
           "appeared"
          ],
          [
           "liable"
          ],
          [
           "licensea"
          ],
          [
           "then"
          ],
          [
           "case"
          ],
          [
           "accused"
          ],
          [
           "alien"
          ],
          [
           "starts"
          ],
          [
           "legislation"
          ],
          [
           "preceding"
          ],
          [
           "impost"
          ],
          [
           "obligations"
          ],
          [
           "cognizance"
          ],
          [
           "lord"
          ],
          [
           "considered"
          ],
          [
           "invalid"
          ],
          [
           "delin"
          ],
          [
           "beyond"
          ],
          [
           "permissible"
          ],
          [
           "occupations"
          ],
          [
           "exclusive"
          ],
          [
           "presumption"
          ],
          [
           "decided"
          ],
          [
           "forfeit"
          ],
          [
           "over"
          ],
          [
           "establishing"
          ],
          [
           "nonproduction"
          ],
          [
           "sanitary"
          ],
          [
           "applying"
          ],
          [
           "after"
          ],
          [
           "may"
          ],
          [
           "579"
          ],
          [
           "parliament"
          ],
          [
           "lawfully"
          ],
          [
           "aforesaid"
          ],
          [
           "so"
          ],
          [
           "retained"
          ],
          [
           "languishing"
          ],
          [
           "expenditure"
          ],
          [
           "gives"
          ],
          [
           "imposing"
          ],
          [
           "whole"
          ],
          [
           "16th"
          ],
          [
           "june"
          ],
          [
           "amended"
          ],
          [
           "queen"
          ],
          [
           "laid"
          ],
          [
           "himself"
          ],
          [
           "25"
          ],
          [
           "act"
          ],
          [
           "care"
          ],
          [
           "rule"
          ],
          [
           "of"
          ],
          [
           "premiss"
          ],
          [
           "drawn"
          ],
          [
           "artists"
          ],
          [
           "insisted"
          ],
          [
           "invidious"
          ],
          [
           "otherscooleys"
          ],
          [
           "guiding"
          ],
          [
           "principles"
          ],
          [
           "every"
          ],
          [
           "collectors"
          ],
          [
           "everything"
          ],
          [
           "risk"
          ],
          [
           "poll"
          ],
          [
           "132"
          ],
          [
           "foreigners"
          ],
          [
           "exemption"
          ],
          [
           "secure"
          ],
          [
           "richards"
          ],
          [
           "itself"
          ],
          [
           "indeed"
          ],
          [
           "rights"
          ],
          [
           "precedent"
          ],
          [
           "bristles"
          ],
          [
           "order"
          ],
          [
           "service"
          ],
          [
           "julyon"
          ],
          [
           "qb"
          ],
          [
           "exclusively"
          ],
          [
           "priceless"
          ],
          [
           "co"
          ],
          [
           "necessarily"
          ],
          [
           "selborne"
          ],
          [
           "dominion"
          ],
          [
           "knew"
          ],
          [
           "encroach"
          ],
          [
           "alleged"
          ],
          [
           "bestow"
          ],
          [
           "b"
          ],
          [
           "colonies"
          ],
          [
           "referring"
          ],
          [
           "present"
          ],
          [
           "15th"
          ],
          [
           "gwynne"
          ],
          [
           "particularized"
          ],
          [
           "consideration"
          ],
          [
           "somewhat"
          ],
          [
           "hundred"
          ],
          [
           "name"
          ],
          [
           "showing"
          ],
          [
           "find"
          ],
          [
           "strangers"
          ],
          [
           "concurrent"
          ],
          [
           "part"
          ],
          [
           "gradually"
          ],
          [
           "possession"
          ],
          [
           "free"
          ],
          [
           "and"
          ],
          [
           "exceed"
          ],
          [
           "becomes"
          ],
          [
           "labour"
          ],
          [
           "imprisoned"
          ],
          [
           "dominions"
          ],
          [
           "whom"
          ],
          [
           "discriminations"
          ],
          [
           "extraordinary"
          ],
          [
           "forefathersthat"
          ],
          [
           "criminal"
          ],
          [
           "1884"
          ],
          [
           "test"
          ],
          [
           "coloured"
          ],
          [
           "amends"
          ],
          [
           "binding"
          ],
          [
           "allow"
          ],
          [
           "secretary"
          ],
          [
           "goes"
          ],
          [
           "towithin"
          ],
          [
           "admits"
          ],
          [
           "respectively"
          ],
          [
           "delegatus"
          ],
          [
           "issued"
          ],
          [
           "pronouncing"
          ],
          [
           "ports"
          ],
          [
           "july"
          ],
          [
           "today"
          ],
          [
           "afford"
          ],
          [
           "had"
          ],
          [
           "utter"
          ],
          [
           "strongly"
          ],
          [
           "things"
          ],
          [
           "sum"
          ],
          [
           "burden"
          ],
          [
           "were"
          ],
          [
           "described"
          ],
          [
           "run"
          ],
          [
           "summarily"
          ],
          [
           "away"
          ],
          [
           "especial"
          ],
          [
           "northwest"
          ],
          [
           "appointment"
          ],
          [
           "opponents"
          ],
          [
           "affect"
          ],
          [
           "justice"
          ],
          [
           "might"
          ],
          [
           "in"
          ],
          [
           "view"
          ],
          [
           "naturalization"
          ],
          [
           "report"
          ],
          [
           "word"
          ],
          [
           "particular"
          ],
          [
           "render"
          ],
          [
           "let"
          ],
          [
           "thereafter"
          ],
          [
           "wanted"
          ],
          [
           "but"
          ],
          [
           "coming"
          ],
          [
           "policy"
          ],
          [
           "sessional"
          ],
          [
           "provinces"
          ],
          [
           "elaborate"
          ],
          [
           "candle"
          ],
          [
           "92alienstrade"
          ],
          [
           "review"
          ],
          [
           "irrespective"
          ],
          [
           "already"
          ],
          [
           "definition"
          ],
          [
           "provision"
          ],
          [
           "judge"
          ],
          [
           "naturalized"
          ],
          [
           "5"
          ],
          [
           "q"
          ],
          [
           "otherwise"
          ],
          [
           "privy"
          ],
          [
           "city"
          ],
          [
           "included"
          ],
          [
           "observer"
          ],
          [
           "information"
          ],
          [
           "position"
          ],
          [
           "disobeying"
          ],
          [
           "man"
          ],
          [
           "successful"
          ],
          [
           "fully"
          ],
          [
           "lin"
          ],
          [
           "settlement"
          ],
          [
           "conclusive"
          ],
          [
           "always"
          ],
          [
           "exceeding"
          ],
          [
           "happens"
          ],
          [
           "cases"
          ],
          [
           "once"
          ],
          [
           "was"
          ],
          [
           "decision"
          ],
          [
           "illegality"
          ],
          [
           "parents"
          ],
          [
           "assumption"
          ],
          [
           "call"
          ],
          [
           "convicted"
          ],
          [
           "severn"
          ],
          [
           "business"
          ],
          [
           "confronted"
          ],
          [
           "raise"
          ],
          [
           "expel"
          ],
          [
           "mousseau"
          ],
          [
           "be"
          ],
          [
           "license"
          ],
          [
           "impede"
          ],
          [
           "principiinot"
          ],
          [
           "been"
          ],
          [
           "tai"
          ],
          [
           "therein"
          ],
          [
           "limit"
          ],
          [
           "validity"
          ],
          [
           "bylaws"
          ],
          [
           "us"
          ],
          [
           "room"
          ],
          [
           "frenchmen"
          ],
          [
           "branch"
          ],
          [
           "members"
          ],
          [
           "recovered"
          ],
          [
           "convenience"
          ],
          [
           "body"
          ],
          [
           "reserved"
          ],
          [
           "reside"
          ],
          [
           "restrained"
          ],
          [
           "without"
          ],
          [
           "635"
          ],
          [
           "opium"
          ],
          [
           "look"
          ],
          [
           "dissenting"
          ],
          [
           "temporary"
          ],
          [
           "some"
          ],
          [
           "representatives"
          ],
          [
           "does"
          ],
          [
           "these"
          ],
          [
           "tax"
          ],
          [
           "40"
          ],
          [
           "papers"
          ],
          [
           "said"
          ],
          [
           "money"
          ],
          [
           "tax1st"
          ],
          [
           "still"
          ],
          [
           "reverses"
          ],
          [
           "356"
          ],
          [
           "municipal"
          ],
          [
           "appears"
          ],
          [
           "acknowledged"
          ],
          [
           "governments"
          ],
          [
           "practically"
          ],
          [
           "place"
          ],
          [
           "inequality"
          ],
          [
           "hangs"
          ],
          [
           "potters"
          ],
          [
           "1"
          ],
          [
           "cherished"
          ],
          [
           "dollar"
          ],
          [
           "union"
          ],
          [
           "with"
          ],
          [
           "nature"
          ],
          [
           "saysit"
          ],
          [
           "ones"
          ],
          [
           "ss"
          ],
          [
           "dissented"
          ],
          [
           "seizure"
          ],
          [
           "equivalent"
          ],
          [
           "nor"
          ],
          [
           "throughout"
          ],
          [
           "treaty"
          ],
          [
           "purposes"
          ],
          [
           "dues"
          ],
          [
           "hot"
          ],
          [
           "occupy"
          ],
          [
           "dollars"
          ],
          [
           "judgment"
          ],
          [
           "1842"
          ],
          [
           "new"
          ],
          [
           "kept"
          ],
          [
           "limits"
          ],
          [
           "am"
          ],
          [
           "working"
          ],
          [
           "entitled"
          ],
          [
           "comparing"
          ],
          [
           "called"
          ],
          [
           "assessments"
          ],
          [
           "revenue"
          ],
          [
           "21"
          ],
          [
           "kents"
          ],
          [
           "hesitation"
          ],
          [
           "satisfactorily"
          ],
          [
           "legislative"
          ],
          [
           "apparently"
          ],
          [
           "persecuted"
          ],
          [
           "states"
          ],
          [
           "for"
          ],
          [
           "are"
          ],
          [
           "neither"
          ],
          [
           "dealing"
          ],
          [
           "specially"
          ],
          [
           "pecuniary"
          ],
          [
           "past"
          ],
          [
           "autonomy"
          ],
          [
           "cooley"
          ],
          [
           "buildings"
          ],
          [
           "272"
          ],
          [
           "wilfully"
          ],
          [
           "issue"
          ],
          [
           "deterrent"
          ],
          [
           "24"
          ],
          [
           "legislating"
          ],
          [
           "protection"
          ],
          [
           "danger"
          ],
          [
           "fettered"
          ],
          [
           "freely"
          ],
          [
           "annual"
          ],
          [
           "duty"
          ],
          [
           "tables"
          ],
          [
           "conferred"
          ],
          [
           "92"
          ],
          [
           "take"
          ],
          [
           "his"
          ],
          [
           "numbers"
          ],
          [
           "demanded"
          ],
          [
           "contending"
          ],
          [
           "vain"
          ],
          [
           "quashed"
          ],
          [
           "conflict"
          ],
          [
           "italians"
          ],
          [
           "first"
          ],
          [
           "carrying"
          ],
          [
           "81st"
          ],
          [
           "interfering"
          ],
          [
           "residents"
          ],
          [
           "ritchie"
          ],
          [
           "officer"
          ],
          [
           "relating"
          ],
          [
           "further"
          ],
          [
           "conscientious"
          ],
          [
           "regina"
          ],
          [
           "31"
          ],
          [
           "parsons"
          ],
          [
           "employé"
          ],
          [
           "as"
          ],
          [
           "ottawa"
          ],
          [
           "progresses"
          ],
          [
           "creation"
          ],
          [
           "subjected"
          ],
          [
           "relations"
          ],
          [
           "received"
          ],
          [
           "anything"
          ],
          [
           "skilled"
          ],
          [
           "stringent"
          ],
          [
           "legality"
          ],
          [
           "equality"
          ],
          [
           "provincesay"
          ],
          [
           "found"
          ],
          [
           "proportion"
          ],
          [
           "legislatures"
          ],
          [
           "omnipotent"
          ],
          [
           "field"
          ],
          [
           "22"
          ],
          [
           "liability"
          ],
          [
           "contain"
          ],
          [
           "notably"
          ],
          [
           "directed"
          ],
          [
           "subversive"
          ],
          [
           "goods"
          ],
          [
           "own"
          ],
          [
           "held"
          ],
          [
           "customs"
          ],
          [
           "unmolested"
          ],
          [
           "remarks"
          ],
          [
           "ordinance"
          ],
          [
           "bayonet"
          ],
          [
           "court"
          ],
          [
           "defendant"
          ],
          [
           "enumerated"
          ],
          [
           "certain"
          ],
          [
           "executive"
          ],
          [
           "acted"
          ],
          [
           "enter"
          ],
          [
           "provisions"
          ],
          [
           "influences"
          ],
          [
           "protected"
          ],
          [
           "2"
          ],
          [
           "legislate"
          ],
          [
           "support"
          ],
          [
           "9"
          ],
          [
           "their"
          ],
          [
           "residing"
          ],
          [
           "contribute"
          ],
          [
           "6267"
          ],
          [
           "schedule"
          ],
          [
           "well"
          ],
          [
           "authority"
          ],
          [
           "purpose"
          ],
          [
           "power"
          ],
          [
           "subjects"
          ],
          [
           "dependencies"
          ],
          [
           "confide"
          ],
          [
           "title"
          ],
          [
           "cause"
          ],
          [
           "lessening"
          ],
          [
           "quent"
          ],
          [
           "manitobawhere"
          ],
          [
           "landing"
          ],
          [
           "empire"
          ],
          [
           "drive"
          ],
          [
           "8"
          ],
          [
           "bounds"
          ],
          [
           "various"
          ],
          [
           "between"
          ],
          [
           "carry"
          ],
          [
           "n"
          ],
          [
           "statement"
          ],
          [
           "bind"
          ],
          [
           "421"
          ],
          [
           "91st"
          ],
          [
           "6"
          ],
          [
           "maintained"
          ],
          [
           "5th"
          ],
          [
           "consequently"
          ],
          [
           "sister"
          ],
          [
           "chattels"
          ],
          [
           "carries"
          ],
          [
           "dwellings"
          ],
          [
           "autonomous"
          ],
          [
           "although"
          ],
          [
           "last"
          ],
          [
           "1885crease"
          ],
          [
           "chongthe"
          ],
          [
           "cas"
          ],
          [
           "all"
          ],
          [
           "later"
          ],
          [
           "1885"
          ],
          [
           "terms"
          ],
          [
           "materially"
          ],
          [
           "expression"
          ],
          [
           "should"
          ],
          [
           "which"
          ],
          [
           "encourage"
          ],
          [
           "sound"
          ],
          [
           "size"
          ],
          [
           "greater"
          ],
          [
           "at"
          ],
          [
           "20"
          ],
          [
           "undue"
          ],
          [
           "proceeds"
          ],
          [
           "payments"
          ],
          [
           "reasonable"
          ],
          [
           "restrict"
          ],
          [
           "declares"
          ],
          [
           "state"
          ],
          [
           "14th"
          ],
          [
           "4th"
          ],
          [
           "by"
          ],
          [
           "chong"
          ],
          [
           "constitutional"
          ],
          [
           "2nd"
          ],
          [
           "itcooley"
          ],
          [
           "time"
          ],
          [
           "passed"
          ],
          [
           "upon"
          ],
          [
           "consider"
          ],
          [
           "responsible"
          ],
          [
           "hertslet"
          ],
          [
           "deals"
          ],
          [
           "tribunal"
          ],
          [
           "burah"
          ],
          [
           "heirs"
          ],
          [
           "founded"
          ],
          [
           "provinceabrogates"
          ],
          [
           "multitude"
          ],
          [
           "discourage"
          ],
          [
           "costs"
          ],
          [
           "lieutenantgovernor"
          ],
          [
           "abate"
          ],
          [
           "down"
          ],
          [
           "tiburcio"
          ],
          [
           "suited"
          ],
          [
           "jonas"
          ],
          [
           "severe"
          ],
          [
           "penal"
          ],
          [
           "12"
          ],
          [
           "supposing"
          ],
          [
           "payment"
          ],
          [
           "hard"
          ],
          [
           "elgins"
          ],
          [
           "enforcing"
          ],
          [
           "product"
          ],
          [
           "dead"
          ],
          [
           "whartons"
          ],
          [
           "converse"
          ],
          [
           "desecrators"
          ],
          [
           "closing"
          ],
          [
           "employed"
          ],
          [
           "attorneygeneral"
          ],
          [
           "language"
          ],
          [
           "importance"
          ],
          [
           "charges"
          ],
          [
           "point"
          ],
          [
           "born"
          ],
          [
           "346"
          ],
          [
           "fifthlywhether"
          ],
          [
           "lend"
          ],
          [
           "tolerate"
          ],
          [
           "when"
          ],
          [
           "contention"
          ],
          [
           "dec"
          ],
          [
           "prescribe"
          ],
          [
           "paid"
          ],
          [
           "pursuit"
          ],
          [
           "put"
          ],
          [
           "delegation"
          ],
          [
           "opposed"
          ],
          [
           "illegal"
          ],
          [
           "fourthlyas"
          ],
          [
           "area"
          ],
          [
           "revision"
          ],
          [
           "cooleys"
          ],
          [
           "cropping"
          ],
          [
           "depart"
          ],
          [
           "mises"
          ],
          [
           "respect"
          ],
          [
           "immediate"
          ],
          [
           "gray"
          ],
          [
           "conviction"
          ],
          [
           "chandler"
          ],
          [
           "per"
          ],
          [
           "17"
          ],
          [
           "issuing"
          ],
          [
           "depends"
          ],
          [
           "apart"
          ],
          [
           "following"
          ],
          [
           "because"
          ],
          [
           "kong"
          ],
          [
           "former"
          ],
          [
           "describes"
          ],
          [
           "within"
          ],
          [
           "create"
          ],
          [
           "jointly"
          ],
          [
           "misconception"
          ],
          [
           "territory"
          ],
          [
           "native"
          ],
          [
           "result"
          ],
          [
           "has"
          ],
          [
           "than"
          ],
          [
           "not"
          ],
          [
           "gauge"
          ],
          [
           "extenso"
          ],
          [
           "sanction"
          ],
          [
           "observe"
          ],
          [
           "intent"
          ],
          [
           "clashes"
          ],
          [
           "control"
          ],
          [
           "appeal"
          ],
          [
           "direct"
          ],
          [
           "derived"
          ],
          [
           "copies"
          ],
          [
           "enforce"
          ],
          [
           "intra"
          ],
          [
           "russell"
          ],
          [
           "only"
          ],
          [
           "october"
          ],
          [
           "raising"
          ],
          [
           "above"
          ],
          [
           "28"
          ],
          [
           "emergencies"
          ],
          [
           "lunion"
          ],
          [
           "distance"
          ],
          [
           "council"
          ],
          [
           "licence"
          ],
          [
           "regulations"
          ],
          [
           "lands"
          ],
          [
           "twenty"
          ],
          [
           "question"
          ],
          [
           "miners"
          ],
          [
           "moment"
          ],
          [
           "70"
          ],
          [
           "special"
          ],
          [
           "governorgeneral"
          ],
          [
           "also"
          ],
          [
           "possessesits"
          ],
          [
           "5constitutionalitybna"
          ],
          [
           "pay"
          ],
          [
           "correctly"
          ],
          [
           "according"
          ],
          [
           "do"
          ],
          [
           "imposition"
          ],
          [
           "applicable"
          ],
          [
           "enjoyed"
          ],
          [
           "preserve"
          ],
          [
           "obiter"
          ],
          [
           "sale"
          ],
          [
           "limitation"
          ],
          [
           "829"
          ],
          [
           "outcry"
          ],
          [
           "default"
          ],
          [
           "hereto"
          ],
          [
           "legislature"
          ],
          [
           "interfered"
          ],
          [
           "restricting"
          ],
          [
           "did"
          ],
          [
           "incidental"
          ],
          [
           "altered"
          ],
          [
           "thus"
          ],
          [
           "irrefragable"
          ],
          [
           "juxtaposition"
          ],
          [
           "come"
          ],
          [
           "we"
          ],
          [
           "makes"
          ],
          [
           "reference"
          ],
          [
           "specified"
          ],
          [
           "circumstances"
          ],
          [
           "except"
          ],
          [
           "very"
          ],
          [
           "4"
          ],
          [
           "travellers"
          ],
          [
           "occupation"
          ],
          [
           "three"
          ],
          [
           "1858"
          ],
          [
           "large"
          ],
          [
           "party"
          ],
          [
           "magistrate"
          ],
          [
           "vattell"
          ],
          [
           "unequal"
          ],
          [
           "objection"
          ],
          [
           "occupied"
          ],
          [
           "shown"
          ],
          [
           "loss"
          ],
          [
           "scope"
          ],
          [
           "they"
          ],
          [
           "incessant"
          ],
          [
           "employer"
          ],
          [
           "rest"
          ],
          [
           "common"
          ],
          [
           "incidentally"
          ],
          [
           "21st"
          ],
          [
           "persons"
          ],
          [
           "defined"
          ],
          [
           "september"
          ],
          [
           "two"
          ],
          [
           "diminish"
          ],
          [
           "designated"
          ],
          [
           "lines"
          ],
          [
           "aliens"
          ],
          [
           "366"
          ],
          [
           "accompanying"
          ],
          [
           "male"
          ],
          [
           "clear"
          ],
          [
           "guilty"
          ],
          [
           "associated"
          ],
          [
           "principle"
          ],
          [
           "employ"
          ],
          [
           "possessed"
          ],
          [
           "pre"
          ],
          [
           "mandate"
          ],
          [
           "allowed"
          ],
          [
           "everywhere"
          ],
          [
           "brunswick"
          ],
          [
           "means"
          ],
          [
           "fair"
          ],
          [
           "callings"
          ],
          [
           "91"
          ],
          [
           "1500000"
          ],
          [
           "cal"
          ],
          [
           "authenticated"
          ],
          [
           "respects"
          ],
          [
           "age"
          ],
          [
           "proving"
          ],
          [
           "provisionsand"
          ],
          [
           "478"
          ],
          [
           "acquire"
          ],
          [
           "construction"
          ],
          [
           "failing"
          ],
          [
           "knowing"
          ],
          [
           "occupies"
          ],
          [
           "fiscal"
          ],
          [
           "or"
          ],
          [
           "rid"
          ],
          [
           "advantage"
          ],
          [
           "pass"
          ],
          [
           "sanctioned"
          ],
          [
           "define"
          ],
          [
           "how"
          ],
          [
           "delegare"
          ],
          [
           "dow"
          ],
          [
           "fourteen"
          ],
          [
           "instance"
          ],
          [
           "end"
          ],
          [
           "conduct"
          ],
          [
           "gilbert"
          ],
          [
           "3"
          ],
          [
           "among"
          ],
          [
           "most"
          ],
          [
           "will"
          ],
          [
           "follows"
          ],
          [
           "unsuited"
          ],
          [
           "ie"
          ],
          [
           "ourselves"
          ],
          [
           "determine"
          ],
          [
           "matters"
          ],
          [
           "consequences"
          ],
          [
           "countries"
          ],
          [
           "acting"
          ],
          [
           "vested"
          ],
          [
           "summons"
          ],
          [
           "community"
          ],
          [
           "cease"
          ],
          [
           "safeguards"
          ],
          [
           "159"
          ],
          [
           "other"
          ],
          [
           "must"
          ],
          [
           "a"
          ],
          [
           "fitting"
          ],
          [
           "taking"
          ],
          [
           "out"
          ],
          [
           "extreme"
          ],
          [
           "origin"
          ],
          [
           "interpretation"
          ],
          [
           "restraint"
          ],
          [
           "conditions"
          ],
          [
           "dated"
          ],
          [
           "charge"
          ],
          [
           "railway"
          ],
          [
           "months"
          ],
          [
           "on"
          ],
          [
           "lieu"
          ],
          [
           "st"
          ],
          [
           "help"
          ],
          [
           "parties"
          ],
          [
           "it"
          ],
          [
           "ont"
          ],
          [
           "provincial"
          ],
          [
           "several"
          ],
          [
           "recital"
          ],
          [
           "england"
          ],
          [
           "runs"
          ],
          [
           "belisle"
          ],
          [
           "recently"
          ],
          [
           "informant"
          ],
          [
           "proposition"
          ],
          [
           "differential"
          ],
          [
           "treasury"
          ],
          [
           "ceases"
          ],
          [
           "basis"
          ],
          [
           "purely"
          ],
          [
           "employment"
          ],
          [
           "decide"
          ],
          [
           "distress"
          ],
          [
           "payable"
          ],
          [
           "parts"
          ],
          [
           "who"
          ],
          [
           "whose"
          ],
          [
           "invasions"
          ],
          [
           "taught"
          ],
          [
           "such"
          ],
          [
           "334"
          ],
          [
           "todd"
          ],
          [
           "emperor"
          ],
          [
           "29"
          ],
          [
           "exhaustive"
          ],
          [
           "commercematters"
          ],
          [
           "sides"
          ],
          [
           "forty"
          ],
          [
           "plenitude"
          ],
          [
           "person"
          ],
          [
           "especially"
          ],
          [
           "something"
          ],
          [
           "wellknown"
          ],
          [
           "stat"
          ],
          [
           "sovereign"
          ],
          [
           "questions"
          ],
          [
           "criterion"
          ],
          [
           "23rd"
          ],
          [
           "tests"
          ],
          [
           "correctness"
          ],
          [
           "taxed"
          ],
          [
           "recognize"
          ],
          [
           "v"
          ],
          [
           "merchants"
          ],
          [
           "productive"
          ],
          [
           "232"
          ],
          [
           "penalties"
          ],
          [
           "government"
          ],
          [
           "opinion"
          ],
          [
           "property"
          ],
          [
           "enquiry"
          ],
          [
           "apply"
          ],
          [
           "limitations"
          ],
          [
           "required"
          ],
          [
           "directly"
          ],
          [
           "peace"
          ],
          [
           "adjudge"
          ],
          [
           "can"
          ],
          [
           "burlingame"
          ],
          [
           "388"
          ],
          [
           "interference"
          ],
          [
           "freedom"
          ],
          [
           "30"
          ],
          [
           "whereby"
          ],
          [
           "where"
          ],
          [
           "mention"
          ],
          [
           "hand"
          ],
          [
           "civilized"
          ],
          [
           "owners"
          ],
          [
           "lie"
          ],
          [
           "seen"
          ],
          [
           "country"
          ],
          [
           "showed"
          ],
          [
           "enjoyment"
          ],
          [
           "forbidding"
          ],
          [
           "august"
          ],
          [
           "province"
          ],
          [
           "asserted"
          ],
          [
           "collect"
          ],
          [
           "applied"
          ],
          [
           "strictly"
          ],
          [
           "parrott"
          ],
          [
           "owner"
          ],
          [
           "tolerated"
          ],
          [
           "exception"
          ],
          [
           "legally"
          ],
          [
           "simile"
          ],
          [
           "vires"
          ],
          [
           "another"
          ],
          [
           "just"
          ],
          [
           "similar"
          ],
          [
           "indirectly"
          ],
          [
           "having"
          ],
          [
           "reversed"
          ],
          [
           "give"
          ],
          [
           "learned"
          ],
          [
           "different"
          ],
          [
           "stranger"
          ],
          [
           "political"
          ],
          [
           "bodies"
          ],
          [
           "exist"
          ],
          [
           "trade"
          ],
          [
           "liberty"
          ],
          [
           "statistics"
          ],
          [
           "much"
          ],
          [
           "experience"
          ],
          [
           "operation"
          ],
          [
           "reciprocal"
          ],
          [
           "including"
          ],
          [
           "casual"
          ],
          [
           "supreme"
          ],
          [
           "author"
          ],
          [
           "unconstitutional"
          ],
          [
           "think"
          ],
          [
           "taxation"
          ],
          [
           "like"
          ],
          [
           "lexicon"
          ],
          [
           "internal"
          ],
          [
           "too"
          ],
          [
           "ten"
          ],
          [
           "generally"
          ],
          [
           "agency"
          ],
          [
           "besides"
          ],
          [
           "recoverable"
          ],
          [
           "capitation"
          ],
          [
           "doing"
          ],
          [
           "provides"
          ],
          [
           "page"
          ],
          [
           "quite"
          ],
          [
           "see"
          ],
          [
           "easily"
          ],
          [
           "number"
          ],
          [
           "summary"
          ],
          [
           "dissimilar"
          ],
          [
           "venture"
          ],
          [
           "getting"
          ],
          [
           "assent"
          ],
          [
           "19"
          ],
          [
           "dicta"
          ],
          [
           "thereof"
          ],
          [
           "plenary"
          ],
          [
           "excess"
          ],
          [
           "chief"
          ],
          [
           "surrendered"
          ],
          [
           "side"
          ],
          [
           "bill"
          ],
          [
           "enacts"
          ],
          [
           "efforts"
          ],
          [
           "habitually"
          ],
          [
           "allows"
          ],
          [
           "derogation"
          ],
          [
           "oppression"
          ],
          [
           "north"
          ],
          [
           "904"
          ],
          [
           "lost"
          ],
          [
           "501"
          ],
          [
           "foreign"
          ],
          [
           "insistedthat"
          ],
          [
           "excuse"
          ],
          [
           "more"
          ],
          [
           "highly"
          ],
          [
           "conceded"
          ],
          [
           "force"
          ],
          [
           "permitted"
          ],
          [
           "equally"
          ],
          [
           "almost"
          ],
          [
           "apollo"
          ],
          [
           "mode"
          ],
          [
           "habits"
          ],
          [
           "interfere"
          ],
          [
           "1878"
          ],
          [
           "shall"
          ],
          [
           "follow"
          ],
          [
           "apparent"
          ],
          [
           "courts"
          ],
          [
           "exactness"
          ],
          [
           "j"
          ],
          [
           "transparent"
          ],
          [
           "stamp"
          ],
          [
           "great"
          ],
          [
           "pc"
          ],
          [
           "appealed"
          ],
          [
           "confederation"
          ],
          [
           "upwards"
          ],
          [
           "prohibiting"
          ],
          [
           "expenses"
          ],
          [
           "premises"
          ],
          [
           "nation"
          ],
          [
           "annoyance"
          ],
          [
           "five"
          ],
          [
           "again"
          ],
          [
           "furnish"
          ],
          [
           "abridged"
          ],
          [
           "our"
          ],
          [
           "restrictive"
          ],
          [
           "species"
          ],
          [
           "ed"
          ],
          [
           "vol"
          ],
          [
           "until"
          ],
          [
           "l"
          ],
          [
           "words"
          ],
          [
           "annoying"
          ],
          [
           "either"
          ],
          [
           "character"
          ],
          [
           "drake"
          ],
          [
           "federal"
          ],
          [
           "affecting"
          ],
          [
           "ominous"
          ],
          [
           "she"
          ],
          [
           "unduly"
          ],
          [
           "certiorari"
          ],
          [
           "meet"
          ],
          [
           "shifted"
          ],
          [
           "if"
          ],
          [
           "hodge"
          ],
          [
           "there"
          ],
          [
           "altogether"
          ],
          [
           "contained"
          ],
          [
           "those"
          ],
          [
           "bar"
          ],
          [
           "reasons"
          ],
          [
           "idea"
          ],
          [
           "obtained"
          ],
          [
           "equal"
          ],
          [
           "month"
          ],
          [
           "graveyards"
          ],
          [
           "burdened"
          ],
          [
           "express"
          ],
          [
           "incident"
          ],
          [
           "requested"
          ],
          [
           "revealed"
          ],
          [
           "previous"
          ],
          [
           "argument"
          ],
          [
           "live"
          ],
          [
           "protect"
          ],
          [
           "cap"
          ],
          [
           "distasteful"
          ],
          [
           "argued"
          ],
          [
           "merits"
          ],
          [
           "formed"
          ],
          [
           "settled"
          ],
          [
           "amity"
          ],
          [
           "penalty"
          ],
          [
           "effective"
          ],
          [
           "s"
          ],
          [
           "15"
          ],
          [
           "intimated"
          ],
          [
           "diminishing"
          ],
          [
           "effectually"
          ],
          [
           "enactment"
          ],
          [
           "both"
          ],
          [
           "applies"
          ],
          [
           "lexington"
          ],
          [
           "seaboard"
          ],
          [
           "confirms"
          ],
          [
           "better"
          ],
          [
           "commentaries"
          ],
          [
           "personal"
          ],
          [
           "enforced"
          ],
          [
           "legitimate"
          ],
          [
           "dwarris"
          ],
          [
           "certificate"
          ],
          [
           "read"
          ],
          [
           "consuls"
          ],
          [
           "enact"
          ],
          [
           "law"
          ],
          [
           "arrive"
          ],
          [
           "proper"
          ],
          [
           "82"
          ],
          [
           "exceeds"
          ],
          [
           "difficult"
          ],
          [
           "through"
          ],
          [
           "sense"
          ],
          [
           "during"
          ],
          [
           "latter"
          ],
          [
           "enquirywhich"
          ],
          [
           "excessive"
          ],
          [
           "laying"
          ],
          [
           "impression"
          ],
          [
           "unusual"
          ],
          [
           "whether"
          ],
          [
           "pronounce"
          ],
          [
           "reviewed"
          ],
          [
           "app"
          ],
          [
           "natural"
          ],
          [
           "though"
          ],
          [
           "unnecessary"
          ],
          [
           "concernedsaysfrom"
          ],
          [
           "dealt"
          ],
          [
           "290"
          ],
          [
           "encounter"
          ],
          [
           "given"
          ],
          [
           "nations"
          ],
          [
           "ascertain"
          ],
          [
           "exempt"
          ],
          [
           "into"
          ],
          [
           "ordinary"
          ],
          [
           "18"
          ],
          [
           "appellant"
          ],
          [
           "way"
          ],
          [
           "pp"
          ],
          [
           "want"
          ],
          [
           "3rd"
          ],
          [
           "certiorarichinese"
          ],
          [
           "mans"
          ],
          [
           "injury"
          ],
          [
           "fined"
          ],
          [
           "contemplation"
          ],
          [
           "prohibit"
          ],
          [
           "grounds"
          ],
          [
           "communication"
          ],
          [
           "preamble"
          ],
          [
           "make"
          ],
          [
           "regulate"
          ],
          [
           "hong"
          ],
          [
           "points"
          ],
          [
           "interferes"
          ],
          [
           "standard"
          ],
          [
           "face"
          ],
          [
           "stated"
          ],
          [
           "dictum"
          ],
          [
           "extent"
          ],
          [
           "11"
          ],
          [
           "affairs"
          ],
          [
           "become"
          ],
          [
           "undesirable"
          ],
          [
           "engages"
          ],
          [
           "manner"
          ],
          [
           "local"
          ],
          [
           "claims"
          ],
          [
           "relative"
          ],
          [
           "day"
          ],
          [
           "introduced"
          ],
          [
           "534"
          ],
          [
           "door"
          ],
          [
           "the"
          ],
          [
           "never"
          ],
          [
           "add"
          ],
          [
           "old"
          ],
          [
           "week"
          ],
          [
           "mr"
          ],
          [
           "you"
          ],
          [
           "distinctionmust"
          ],
          [
           "invariable"
          ],
          [
           "bench"
          ],
          [
           "obtain"
          ],
          [
           "value"
          ],
          [
           "thereunder"
          ],
          [
           "jurisdiction"
          ],
          [
           "palpable"
          ],
          [
           "statute"
          ],
          [
           "making"
          ],
          [
           "incalculable"
          ],
          [
           "parliamentary"
          ],
          [
           "arbitrary"
          ],
          [
           "inhabitants"
          ],
          [
           "whites"
          ],
          [
           "course"
          ],
          [
           "enactments"
          ],
          [
           "delinquent"
          ],
          [
           "men"
          ],
          [
           "respective"
          ],
          [
           "mcquillan"
          ],
          [
           "indictment"
          ],
          [
           "to"
          ],
          [
           "declared"
          ],
          [
           "servant"
          ],
          [
           "sin"
          ],
          [
           "exclusion"
          ],
          [
           "institution"
          ],
          [
           "lordships"
          ],
          [
           "receive"
          ],
          [
           "r"
          ],
          [
           "collection"
          ],
          [
           "addition"
          ],
          [
           "passing"
          ],
          [
           "10"
          ],
          [
           "35"
          ],
          [
           "obvious"
          ],
          [
           "observes"
          ],
          [
           "score"
          ],
          [
           "infraction"
          ],
          [
           "before"
          ],
          [
           "regards"
          ],
          [
           "constantly"
          ],
          [
           "levelled"
          ],
          [
           "period"
          ],
          [
           "them"
          ],
          [
           "employers"
          ],
          [
           "objected"
          ],
          [
           "jurisdictions"
          ],
          [
           "418"
          ],
          [
           "due"
          ],
          [
           "rules"
          ],
          [
           "collector"
          ],
          [
           "insurance"
          ],
          [
           "prepares"
          ],
          [
           "population"
          ],
          [
           "medical"
          ],
          [
           "attacked"
          ],
          [
           "reed"
          ],
          [
           "notice"
          ],
          [
           "affects"
          ],
          [
           "shoulders"
          ],
          [
           "raised"
          ],
          [
           "pacific"
          ],
          [
           "citizenfor"
          ],
          [
           "occupa"
          ],
          [
           "use"
          ],
          [
           "void"
          ],
          [
           "levied"
          ],
          [
           "c"
          ],
          [
           "1867"
          ],
          [
           "386"
          ],
          [
           "district"
          ],
          [
           "26th"
          ],
          [
           "necessary"
          ],
          [
           "14"
          ],
          [
           "exercised"
          ],
          [
           "enacted"
          ],
          [
           "1884rather"
          ],
          [
           "supported"
          ],
          [
           "true"
          ],
          [
           "alarm"
          ],
          [
           "list"
          ],
          [
           "accuser"
          ],
          [
           "ageevery"
          ],
          [
           "each"
          ],
          [
           "labourers"
          ],
          [
           "empty"
          ],
          [
           "maguire"
          ],
          [
           "higher"
          ],
          [
           "determining"
          ],
          [
           "highest"
          ],
          [
           "long"
          ],
          [
           "contend"
          ],
          [
           "now"
          ],
          [
           "saying"
          ],
          [
           "sec"
          ],
          [
           "16"
          ],
          [
           "knows"
          ],
          [
           "imposed"
          ],
          [
           "117"
          ],
          [
           "fee"
          ],
          [
           "mining"
          ],
          [
           "crease"
          ],
          [
           "hannays"
          ],
          [
           "accordingly"
          ],
          [
           "subsection"
          ],
          [
           "manifestly"
          ],
          [
           "uniform"
          ],
          [
           "won"
          ],
          [
           "permanent"
          ],
          [
           "her"
          ],
          [
           "lastly"
          ],
          [
           "110000"
          ],
          [
           "subject"
          ],
          [
           "towards"
          ],
          [
           "produced"
          ],
          [
           "non"
          ],
          [
           "fortiori"
          ],
          [
           "rendered"
          ],
          [
           "commerce"
          ],
          [
           "used"
          ],
          [
           "forced"
          ],
          [
           "consumer"
          ],
          [
           "providing"
          ],
          [
           "arguments"
          ],
          [
           "leprohon"
          ],
          [
           "naglee"
          ],
          [
           "regard"
          ],
          [
           "authorities"
          ],
          [
           "possess"
          ],
          [
           "individuals"
          ],
          [
           "extends"
          ],
          [
           "have"
          ],
          [
           "international"
          ],
          [
           "avoid"
          ],
          [
           "jacques"
          ],
          [
           "intercourse"
          ],
          [
           "exclude"
          ],
          [
           "engagements"
          ],
          [
           "varied"
          ],
          [
           "full"
          ],
          [
           "bear"
          ],
          [
           "discriminate"
          ],
          [
           "happen"
          ],
          [
           "goodhue"
          ],
          [
           "23"
          ],
          [
           "powell"
          ],
          [
           "race"
          ],
          [
           "425"
          ],
          [
           "existing"
          ],
          [
           "cited"
          ],
          [
           "apportionment"
          ],
          [
           "[MASK]"
          ],
          [
           "works"
          ],
          [
           "regulation"
          ],
          [
           "sex"
          ],
          [
           "advanced"
          ],
          [
           "intended"
          ],
          [
           "secondlytrade"
          ],
          [
           "foreigner"
          ],
          [
           "destroyed"
          ],
          [
           "conversant"
          ],
          [
           "provided"
          ],
          [
           "deciding"
          ],
          [
           "would"
          ],
          [
           "measure"
          ],
          [
           "therefore"
          ],
          [
           "axiom"
          ],
          [
           "proof"
          ],
          [
           "looks"
          ],
          [
           "remedies"
          ],
          [
           "fine"
          ],
          [
           "made"
          ],
          [
           "unless"
          ],
          [
           "whitesuseless"
          ],
          [
           "transacted"
          ],
          [
           "mean"
          ],
          [
           "fac"
          ],
          [
           "immediately"
          ],
          [
           "prescribed"
          ],
          [
           "hitherto"
          ],
          [
           "ultra"
          ],
          [
           "levy"
          ],
          [
           "important"
          ],
          [
           "indirect"
          ],
          [
           "likewise"
          ],
          [
           "unto"
          ],
          [
           "reports"
          ],
          [
           "remain"
          ],
          [
           "classes"
          ],
          [
           "replythe"
          ],
          [
           "treaties"
          ],
          [
           "contracting"
          ],
          [
           "frequents"
          ],
          [
           "clauses"
          ],
          [
           "expressly"
          ],
          [
           "determined"
          ],
          [
           "being"
          ],
          [
           "places"
          ],
          [
           "police"
          ],
          [
           "permission"
          ],
          [
           "deal"
          ],
          [
           "1st"
          ],
          [
           "prevent"
          ],
          [
           "disability"
          ],
          [
           "expands"
          ],
          [
           "potest"
          ],
          [
           "fills"
          ],
          [
           "acquiring"
          ],
          [
           "negotiate"
          ],
          [
           "visitors"
          ],
          [
           "plainly"
          ],
          [
           "against"
          ],
          [
           "less"
          ],
          [
           "say"
          ],
          [
           "least"
          ],
          [
           "united"
          ],
          [
           "delegates"
          ],
          [
           "calculated"
          ],
          [
           "resolutions"
          ],
          [
           "408"
          ],
          [
           "knowingly"
          ],
          [
           "form"
          ],
          [
           "single"
          ],
          [
           "same"
          ],
          [
           "affected"
          ],
          [
           "cottage"
          ],
          [
           "repulsive"
          ],
          [
           "branches"
          ],
          [
           "twofold"
          ],
          [
           "powers"
          ],
          [
           "edwin"
          ],
          [
           "enough"
          ],
          [
           "regulated"
          ],
          [
           "however"
          ],
          [
           "re"
          ],
          [
           "defines"
          ],
          [
           "falsely"
          ],
          [
           "night"
          ],
          [
           "touches"
          ],
          [
           "probandi"
          ],
          [
           "performing"
          ],
          [
           "commercetaxation"
          ],
          [
           "instead"
          ],
          [
           "class"
          ],
          [
           "paying"
          ],
          [
           "thirdlythe"
          ],
          [
           "direction"
          ],
          [
           "analogy"
          ],
          [
           "sufficient"
          ],
          [
           "came"
          ],
          [
           "governing"
          ],
          [
           "measures"
          ],
          [
           "contravening"
          ],
          [
           "concluding"
          ],
          [
           "franchise"
          ],
          [
           "compel"
          ],
          [
           "since"
          ],
          [
           "esquire"
          ],
          [
           "elevated"
          ],
          [
           "lawful"
          ],
          [
           "barring"
          ],
          [
           "expired"
          ],
          [
           "from"
          ],
          [
           "sing"
          ],
          [
           "charged"
          ],
          [
           "subsist"
          ],
          [
           "petio"
          ],
          [
           "appellants"
          ],
          [
           "writ"
          ],
          [
           "tendency"
          ],
          [
           "ample"
          ],
          [
           "inherent"
          ],
          [
           "benefit"
          ],
          [
           "assembly"
          ],
          [
           "observations"
          ],
          [
           "onus"
          ],
          [
           "restriction"
          ],
          [
           "general"
          ],
          [
           "years"
          ],
          [
           "ambassadors"
          ],
          [
           "passage"
          ],
          [
           "innocence"
          ],
          [
           "taxes"
          ],
          [
           "me"
          ],
          [
           "security"
          ],
          [
           "underlying"
          ],
          [
           "themselves"
          ],
          [
           "sedgwick"
          ],
          [
           "mere"
          ],
          [
           "exercise"
          ],
          [
           "celebrated"
          ],
          [
           "this"
          ],
          [
           "professors"
          ],
          [
           "taxing"
          ],
          [
           "interprovincial"
          ],
          [
           "citizens"
          ],
          [
           "qua"
          ],
          [
           "effect"
          ],
          [
           "impose"
          ],
          [
           "far"
          ],
          [
           "absolutely"
          ],
          [
           "what"
          ],
          [
           "provide"
          ],
          [
           "successors"
          ],
          [
           "habitual"
          ],
          [
           "matter"
          ],
          [
           "imposes"
          ],
          [
           "popular"
          ],
          [
           "distinction"
          ],
          [
           "discrimination"
          ],
          [
           "masters"
          ],
          [
           "wisdom"
          ],
          [
           "purport"
          ],
          [
           "relation"
          ],
          [
           "126128"
          ],
          [
           "employing"
          ],
          [
           "sections"
          ],
          [
           "cut"
          ],
          [
           "judges"
          ],
          [
           "possesses"
          ],
          [
           "desecration"
          ],
          [
           "victoria"
          ],
          [
           "reproduced"
          ],
          [
           "people"
          ],
          [
           "any"
          ],
          [
           "nothing"
          ],
          [
           "female"
          ],
          [
           "mentioned"
          ],
          [
           "one"
          ],
          [
           "set"
          ],
          [
           "464"
          ],
          [
           "reg"
          ],
          [
           "exceptional"
          ],
          [
           "unheard"
          ],
          [
           "spoken"
          ],
          [
           "calendar"
          ],
          [
           "carried"
          ],
          [
           "quash"
          ],
          [
           "year"
          ],
          [
           "wing"
          ],
          [
           "counsel"
          ],
          [
           "sociis"
          ],
          [
           "johnson"
          ],
          [
           "return"
          ],
          [
           "portions"
          ],
          [
           "could"
          ],
          [
           "25th"
          ],
          [
           "imprisonment"
          ],
          [
           "receipt"
          ],
          [
           "deemed"
          ],
          [
           "ratified"
          ],
          [
           "merely"
          ],
          [
           "immigration"
          ],
          [
           "impossible"
          ],
          [
           "lawabiding"
          ],
          [
           "superior"
          ],
          [
           "offender"
          ],
          [
           "certainly"
          ],
          [
           "quoted"
          ],
          [
           "off"
          ],
          [
           "induced"
          ],
          [
           "noscitur"
          ],
          [
           "section"
          ],
          [
           "close"
          ],
          [
           "even"
          ],
          [
           "26"
          ],
          [
           "flag"
          ],
          [
           "fact"
          ],
          [
           "unlawful"
          ],
          [
           "prosecution"
          ],
          [
           "require"
          ],
          [
           "concerned"
          ],
          [
           "defeat"
          ],
          [
           "continued"
          ],
          [
           "pointed"
          ],
          [
           "1843"
          ],
          [
           "8th"
          ],
          [
           "subsections"
          ],
          [
           "brought"
          ],
          [
           "growing"
          ],
          [
           "constitution"
          ],
          [
           "says"
          ],
          [
           "commercial"
          ],
          [
           "satisfaction"
          ],
          [
           "written"
          ],
          [
           "high"
          ],
          [
           "548"
          ],
          [
           "life"
          ],
          [
           "teems"
          ],
          [
           "no"
          ],
          [
           "alone"
          ],
          [
           "others"
          ],
          [
           "legal"
          ],
          [
           "objects"
          ],
          [
           "he"
          ],
          [
           "acta"
          ],
          [
           "pretense"
          ],
          [
           "continually"
          ],
          [
           "majesty"
          ],
          [
           "characteristic"
          ],
          [
           "prepare"
          ],
          [
           "tion"
          ],
          [
           "ordinarily"
          ],
          [
           "him"
          ],
          [
           "is"
          ],
          [
           "correct"
          ],
          [
           "comment"
          ],
          [
           "putting"
          ],
          [
           "empowered"
          ],
          [
           "liabilities"
          ],
          [
           "appropriate"
          ],
          [
           "laws"
          ],
          [
           "innocenta"
          ],
          [
           "27"
          ],
          [
           "turn"
          ],
          [
           "108"
          ],
          [
           "that"
          ],
          [
           "i"
          ],
          [
           "include"
          ],
          [
           "deliver"
          ],
          [
           "treated"
          ],
          [
           "numerous"
          ],
          [
           "affixed"
          ],
          [
           "agents"
          ],
          [
           "fails"
          ],
          [
           "sanctions"
          ],
          [
           "an"
          ],
          [
           "transgression"
          ],
          [
           "kind"
          ],
          [
           "prosecutions"
          ],
          [
           "3with"
          ],
          [
           "gr"
          ],
          [
           "benefits"
          ],
          [
           "1860"
          ],
          [
           "assessed"
          ],
          [
           "afterwards"
          ],
          [
           "perfect"
          ],
          [
           "proved"
          ],
          [
           "decisions"
          ],
          [
           "convictions"
          ],
          [
           "lr"
          ],
          [
           "221"
          ],
          [
           "driven"
          ],
          [
           "slept"
          ],
          [
           "sought"
          ],
          [
           "california"
          ],
          [
           "wherein"
          ],
          [
           "public"
          ],
          [
           "amount"
          ],
          [
           "federation"
          ],
          [
           "under"
          ],
          [
           "compelled"
          ],
          [
           "impaired"
          ],
          [
           "degree"
          ],
          [
           "here"
          ],
          [
           "complaint"
          ],
          [
           "touched"
          ],
          [
           "solicitation"
          ],
          [
           "sothrows"
          ],
          [
           "go"
          ]
         ],
         "hovertemplate": "highlight=%{text}<br>x=%{x}<br>y=%{y}<br>word=%{customdata[0]}<extra></extra>",
         "legendgroup": "",
         "marker": {
          "color": "#636efa",
          "symbol": "circle"
         },
         "mode": "markers+text",
         "name": "",
         "showlegend": false,
         "text": [
          "",
          "",
          "",
          "",
          "",
          "",
          "",
          "",
          "",
          "",
          "",
          "",
          "",
          "",
          "",
          "",
          "",
          "",
          "",
          "",
          "",
          "",
          "",
          "",
          "",
          "",
          "",
          "",
          "",
          "",
          "",
          "",
          "",
          "",
          "",
          "",
          "",
          "",
          "",
          "",
          "",
          "",
          "",
          "",
          "",
          "",
          "",
          "",
          "",
          "",
          "",
          "",
          "",
          "",
          "",
          "",
          "",
          "",
          "",
          "",
          "",
          "",
          "",
          "",
          "",
          "",
          "",
          "",
          "",
          "",
          "",
          "",
          "",
          "",
          "",
          "",
          "",
          "",
          "",
          "",
          "",
          "",
          "",
          "",
          "",
          "",
          "",
          "",
          "",
          "",
          "",
          "",
          "",
          "",
          "",
          "",
          "",
          "",
          "",
          "",
          "",
          "",
          "",
          "",
          "",
          "",
          "",
          "",
          "",
          "",
          "",
          "",
          "",
          "",
          "",
          "",
          "",
          "",
          "",
          "",
          "",
          "",
          "",
          "",
          "",
          "",
          "",
          "",
          "",
          "",
          "",
          "",
          "",
          "",
          "",
          "",
          "",
          "",
          "",
          "",
          "",
          "",
          "",
          "",
          "",
          "",
          "",
          "",
          "",
          "",
          "",
          "",
          "",
          "",
          "",
          "",
          "",
          "",
          "",
          "",
          "",
          "",
          "",
          "",
          "",
          "",
          "",
          "",
          "",
          "",
          "",
          "",
          "",
          "",
          "",
          "",
          "",
          "",
          "",
          "",
          "",
          "",
          "",
          "",
          "",
          "",
          "",
          "",
          "",
          "",
          "",
          "",
          "",
          "",
          "",
          "",
          "",
          "",
          "",
          "",
          "",
          "",
          "",
          "",
          "",
          "",
          "",
          "",
          "",
          "",
          "",
          "",
          "",
          "",
          "",
          "",
          "",
          "",
          "",
          "",
          "",
          "",
          "",
          "",
          "",
          "",
          "",
          "",
          "",
          "",
          "",
          "",
          "",
          "",
          "",
          "",
          "",
          "",
          "",
          "",
          "",
          "",
          "",
          "",
          "",
          "",
          "",
          "",
          "",
          "",
          "",
          "",
          "",
          "",
          "",
          "",
          "",
          "",
          "",
          "",
          "",
          "",
          "",
          "",
          "",
          "",
          "",
          "",
          "",
          "",
          "",
          "",
          "",
          "",
          "",
          "",
          "",
          "",
          "",
          "",
          "",
          "",
          "",
          "",
          "",
          "",
          "",
          "",
          "",
          "",
          "",
          "",
          "",
          "",
          "",
          "",
          "",
          "",
          "",
          "",
          "",
          "",
          "",
          "",
          "",
          "",
          "",
          "",
          "",
          "",
          "",
          "",
          "",
          "",
          "",
          "",
          "",
          "",
          "",
          "",
          "",
          "",
          "",
          "",
          "",
          "",
          "",
          "",
          "",
          "",
          "",
          "",
          "",
          "",
          "",
          "",
          "",
          "",
          "",
          "",
          "",
          "",
          "",
          "",
          "",
          "",
          "",
          "",
          "",
          "",
          "",
          "",
          "",
          "",
          "",
          "",
          "",
          "",
          "",
          "",
          "",
          "",
          "",
          "",
          "",
          "",
          "",
          "",
          "",
          "",
          "",
          "",
          "",
          "",
          "",
          "",
          "",
          "",
          "",
          "",
          "",
          "",
          "",
          "",
          "",
          "",
          "",
          "",
          "",
          "",
          "",
          "",
          "",
          "",
          "",
          "",
          "",
          "",
          "",
          "",
          "",
          "",
          "",
          "",
          "",
          "",
          "",
          "",
          "",
          "",
          "",
          "",
          "",
          "",
          "",
          "",
          "",
          "",
          "",
          "",
          "",
          "",
          "",
          "",
          "",
          "",
          "",
          "",
          "",
          "",
          "",
          "",
          "",
          "",
          "",
          "",
          "",
          "",
          "",
          "",
          "",
          "",
          "",
          "",
          "",
          "",
          "",
          "",
          "",
          "",
          "",
          "",
          "",
          "",
          "",
          "",
          "",
          "",
          "",
          "",
          "",
          "",
          "",
          "",
          "",
          "",
          "",
          "",
          "",
          "",
          "",
          "",
          "",
          "",
          "",
          "",
          "",
          "",
          "",
          "",
          "",
          "",
          "",
          "",
          "",
          "",
          "",
          "",
          "",
          "",
          "",
          "",
          "",
          "",
          "",
          "",
          "",
          "",
          "",
          "",
          "",
          "",
          "",
          "",
          "",
          "",
          "",
          "",
          "",
          "",
          "",
          "",
          "",
          "",
          "",
          "",
          "",
          "",
          "",
          "",
          "",
          "",
          "",
          "",
          "",
          "",
          "",
          "",
          "",
          "",
          "",
          "",
          "",
          "",
          "",
          "",
          "",
          "",
          "",
          "",
          "",
          "",
          "",
          "",
          "",
          "",
          "",
          "",
          "",
          "",
          "",
          "",
          "",
          "",
          "",
          "",
          "",
          "",
          "",
          "",
          "",
          "",
          "",
          "",
          "",
          "",
          "",
          "",
          "",
          "",
          "",
          "",
          "",
          "",
          "",
          "",
          "",
          "",
          "",
          "",
          "",
          "",
          "",
          "",
          "",
          "",
          "",
          "",
          "",
          "",
          "",
          "",
          "",
          "",
          "",
          "",
          "",
          "",
          "",
          "",
          "",
          "",
          "",
          "",
          "",
          "",
          "",
          "",
          "",
          "",
          "",
          "",
          "",
          "",
          "",
          "",
          "",
          "",
          "",
          "",
          "",
          "",
          "",
          "",
          "",
          "",
          "",
          "",
          "",
          "",
          "",
          "",
          "",
          "",
          "",
          "",
          "",
          "",
          "",
          "",
          "",
          "",
          "",
          "",
          "",
          "",
          "",
          "",
          "",
          "",
          "",
          "",
          "",
          "",
          "",
          "",
          "",
          "",
          "",
          "",
          "",
          "",
          "",
          "",
          "",
          "",
          "",
          "",
          "",
          "",
          "",
          "",
          "",
          "",
          "",
          "",
          "",
          "",
          "",
          "",
          "",
          "",
          "",
          "",
          "",
          "",
          "",
          "",
          "",
          "",
          "",
          "",
          "",
          "",
          "",
          "",
          "",
          "",
          "",
          "",
          "",
          "",
          "",
          "",
          "",
          "",
          "",
          "",
          "",
          "",
          "",
          "",
          "",
          "",
          "",
          "",
          "",
          "",
          "",
          "",
          "",
          "",
          "",
          "",
          "",
          "",
          "",
          "",
          "",
          "",
          "",
          "",
          "",
          "",
          "",
          "",
          "",
          "",
          "",
          "",
          "",
          "",
          "",
          "",
          "",
          "",
          "",
          "",
          "",
          "",
          "",
          "",
          "",
          "",
          "",
          "",
          "",
          "",
          "",
          "",
          "",
          "",
          "",
          "",
          "",
          "",
          "",
          "",
          "",
          "",
          "",
          "",
          "",
          "",
          "",
          "",
          "",
          "",
          "",
          "",
          "",
          "",
          "",
          "",
          "",
          "",
          "",
          "",
          "",
          "",
          "",
          "",
          "",
          "",
          "",
          "",
          "",
          "",
          "",
          "",
          "",
          "",
          "",
          "",
          "",
          "",
          "",
          "",
          "",
          "",
          "",
          "",
          "",
          "",
          "",
          "",
          "",
          "",
          "",
          "",
          "",
          "",
          "",
          "",
          "",
          "",
          "",
          "",
          "",
          "",
          "",
          "",
          "",
          "",
          "",
          "",
          "",
          "",
          "",
          "",
          "",
          "",
          "",
          "",
          "",
          "",
          "",
          "",
          "",
          "",
          "",
          "",
          "",
          "",
          "",
          "",
          "",
          "",
          "",
          "",
          "",
          "",
          "",
          "",
          "",
          "",
          "",
          "",
          "",
          "",
          "",
          "",
          "",
          "",
          "",
          "",
          "",
          "",
          "",
          "",
          "",
          "",
          "",
          "",
          "",
          "",
          "",
          "",
          "",
          "",
          "",
          "",
          "",
          "",
          "",
          "",
          "",
          "",
          "",
          "",
          "",
          "",
          "",
          "",
          "",
          "",
          "",
          "",
          "",
          "",
          "",
          "",
          "",
          "",
          "",
          "",
          "",
          "",
          "",
          "",
          "",
          "",
          "",
          "",
          "",
          "",
          "",
          "",
          "",
          "",
          "",
          "",
          "",
          "",
          "",
          "",
          "",
          "",
          "",
          "",
          "",
          "",
          "",
          "",
          "",
          "",
          "",
          "",
          "",
          "",
          "",
          "",
          "",
          "",
          "",
          "",
          "",
          "",
          "",
          "",
          "",
          "",
          "",
          "",
          "",
          "",
          "",
          "",
          "",
          "",
          "",
          "",
          "",
          "",
          "",
          "",
          "",
          "",
          "",
          "",
          "",
          "",
          "",
          "",
          "",
          "",
          "",
          "",
          "",
          "",
          "",
          "",
          "",
          "",
          "",
          "",
          "",
          "",
          "",
          "",
          "",
          "",
          "",
          "",
          "",
          "",
          "",
          "",
          "",
          "",
          "",
          "",
          "",
          "",
          "",
          "",
          "",
          "",
          "",
          "",
          "",
          "",
          "",
          "",
          "",
          "",
          "",
          "",
          "",
          "",
          "",
          "",
          "",
          "",
          "",
          "",
          "",
          "",
          "",
          "",
          "",
          "",
          "",
          "",
          "",
          "",
          "",
          "",
          "",
          "",
          "",
          "",
          "",
          "",
          "",
          "",
          "",
          "",
          "",
          "",
          "",
          "",
          "",
          "",
          "",
          "",
          "",
          "",
          "",
          "",
          "",
          "",
          "",
          "",
          "",
          "",
          "",
          "",
          "",
          "",
          "",
          "",
          "",
          "",
          "",
          "",
          "",
          "",
          "",
          "",
          "",
          "",
          "",
          "",
          "",
          "",
          "",
          "",
          "",
          "",
          "",
          "",
          "",
          "",
          "",
          "",
          "",
          "",
          "",
          "",
          "",
          "",
          "",
          "",
          "",
          "",
          "",
          "",
          "",
          "",
          "",
          "",
          "",
          "",
          "",
          "",
          "",
          "",
          "",
          "",
          "",
          "",
          "",
          "",
          "",
          "",
          "",
          "",
          "",
          "",
          "",
          "",
          "",
          "",
          "",
          "",
          "",
          "",
          "",
          "",
          "",
          "",
          "",
          "",
          "",
          "",
          "",
          "",
          "",
          "",
          "",
          "",
          "",
          "",
          "",
          "",
          "",
          "",
          "",
          "",
          "",
          "",
          "",
          "",
          "",
          "",
          "",
          "",
          "",
          "",
          "",
          "",
          "",
          "",
          "",
          "",
          "",
          "",
          "",
          "",
          "",
          "",
          "",
          "",
          "",
          "",
          "",
          "",
          "",
          "",
          "",
          "",
          "",
          "",
          "",
          "",
          "",
          "",
          "",
          "",
          "",
          "",
          "",
          "",
          "",
          "",
          "",
          "",
          "",
          "",
          "",
          "",
          "",
          "",
          "",
          "",
          "",
          "",
          "",
          "",
          "",
          "",
          "",
          "",
          "",
          "",
          "",
          "",
          "",
          "",
          "",
          "",
          "",
          "",
          "",
          "",
          "",
          "",
          "",
          "",
          "",
          "",
          "",
          "",
          "",
          "",
          "",
          "",
          "",
          "",
          "",
          "",
          "",
          "",
          "",
          "",
          "",
          "",
          "",
          "",
          "",
          "",
          "",
          "",
          "",
          "",
          "",
          "",
          "",
          "",
          "",
          "",
          "",
          "",
          "",
          "",
          "",
          "",
          "",
          "",
          "",
          "",
          "",
          "",
          "",
          "",
          "",
          "",
          "",
          "",
          "",
          "",
          "",
          "",
          "",
          "",
          "",
          "",
          "",
          "",
          "",
          "",
          "",
          "",
          "",
          "",
          "",
          "",
          "",
          "",
          "",
          "",
          "",
          "",
          "",
          "",
          "",
          "",
          "",
          "",
          "",
          "",
          "",
          "",
          "",
          "",
          "",
          "",
          "",
          "",
          "",
          "",
          "",
          "",
          "",
          "",
          "",
          "",
          "",
          "",
          "",
          "",
          "",
          "",
          "",
          "",
          "",
          "",
          "",
          "",
          "",
          "",
          "",
          "",
          "",
          "",
          "",
          "",
          "",
          "",
          "",
          "",
          "",
          "",
          "",
          "",
          "",
          "",
          "",
          "",
          "",
          "",
          "",
          "",
          "",
          "",
          "",
          "",
          "",
          "",
          "",
          "",
          "",
          "",
          "",
          "",
          "",
          "",
          "",
          "",
          "",
          "",
          "",
          "",
          "",
          "",
          "",
          "",
          "",
          "",
          "",
          "",
          "",
          "",
          "",
          "",
          "",
          "",
          "",
          "",
          "",
          "",
          "",
          "",
          "",
          "",
          "",
          "",
          "",
          "",
          "",
          "",
          "",
          "",
          "",
          "",
          "",
          "",
          "",
          "",
          "",
          "",
          "",
          "",
          "",
          "",
          "",
          "",
          "",
          "",
          "",
          "",
          "",
          "",
          "",
          "",
          "",
          "",
          "",
          "",
          "",
          "",
          "",
          "",
          "",
          "",
          "",
          "",
          "",
          "",
          "",
          "",
          "",
          "",
          "",
          "",
          "",
          "",
          "",
          "",
          "",
          "",
          "",
          "",
          "",
          "",
          "",
          "",
          "",
          "",
          "",
          "",
          "",
          "",
          "",
          "",
          "",
          "",
          "",
          "",
          "",
          "",
          "",
          "",
          "",
          "",
          "",
          "",
          "",
          "",
          "",
          "",
          "",
          "",
          "",
          "",
          "",
          "",
          "",
          "",
          "",
          "",
          "",
          "",
          "",
          "",
          "",
          "",
          "",
          "",
          "",
          "",
          "",
          "",
          "",
          "",
          "",
          "",
          "",
          "",
          "",
          "",
          "",
          "",
          "",
          "",
          "",
          "",
          "",
          "",
          "",
          "",
          "",
          "",
          "",
          "",
          "",
          "",
          "",
          "",
          "",
          "",
          "",
          "",
          "",
          "",
          "",
          "",
          "",
          "",
          "",
          "",
          "",
          "",
          "",
          "",
          ""
         ],
         "type": "scattergl",
         "x": [
          14.726788,
          -5.223761,
          15.068384,
          13.580266,
          -3.65044,
          -4.6435566,
          -4.5704093,
          0.8713552,
          15.235165,
          -4.009324,
          15.000077,
          -5.056107,
          -5.3078904,
          -4.8155622,
          -4.5906653,
          -5.2624626,
          14.632912,
          -4.6362543,
          -3.0540116,
          -5.539811,
          15.4266205,
          15.26065,
          -5.1777306,
          -5.4154468,
          -4.650903,
          -5.063589,
          -4.7038927,
          14.835325,
          -4.90959,
          13.874218,
          -5.48107,
          15.290118,
          -5.004845,
          -4.0034237,
          -5.520796,
          -5.0399957,
          -4.9175134,
          -5.2351465,
          -5.34384,
          -2.2389421,
          13.262268,
          -4.000109,
          15.302613,
          -1.1562438,
          -5.3132706,
          -5.2766633,
          -5.387265,
          -3.2170002,
          -4.607338,
          -4.3915343,
          -5.415629,
          -5.3315725,
          -4.843343,
          -4.7470107,
          -4.327161,
          -4.332618,
          12.571993,
          -5.4809227,
          15.018675,
          -5.167514,
          -3.7888768,
          14.334397,
          -4.326608,
          14.427135,
          -4.386683,
          -5.450995,
          -4.3408446,
          -3.0691547,
          -5.268421,
          -4.215544,
          13.938039,
          -4.5163736,
          -3.4093437,
          15.058638,
          -5.539692,
          -5.0654836,
          -5.2602596,
          -5.70772,
          15.153217,
          -3.6600478,
          -3.7752025,
          -5.661509,
          -5.4525065,
          -5.3608794,
          -3.8861854,
          -4.332051,
          -5.124624,
          3.1436741,
          -5.034803,
          13.767877,
          -5.224714,
          -5.612732,
          15.312101,
          -4.714479,
          -5.198663,
          -4.9141517,
          -5.391665,
          -4.7190504,
          10.564312,
          -5.607655,
          -5.592098,
          -4.990404,
          15.014835,
          -5.437444,
          14.552797,
          -5.1853347,
          -4.7956104,
          -5.151127,
          -5.3054175,
          15.121076,
          2.444112,
          -5.7037373,
          13.539208,
          -5.244535,
          15.062483,
          -4.5901365,
          -5.2916923,
          -5.2699547,
          -5.8340693,
          15.251107,
          13.735843,
          12.960571,
          -4.324023,
          -4.8668785,
          -4.974867,
          -5.544995,
          -4.6019645,
          -4.5071535,
          -5.1665683,
          -4.3144503,
          -4.7093997,
          -5.5543795,
          14.3251705,
          -5.612928,
          -4.7962794,
          14.798256,
          -4.926629,
          -4.7623634,
          -4.929761,
          -4.433086,
          -4.969819,
          15.069449,
          14.591395,
          -3.1573174,
          -3.747101,
          -4.467262,
          -4.389988,
          15.334974,
          -5.208901,
          -4.7712483,
          -2.7480633,
          -4.5517416,
          -5.2286267,
          13.480011,
          13.446209,
          -5.076046,
          -5.3866696,
          -4.9029865,
          -5.408796,
          15.190769,
          -4.859224,
          15.219654,
          15.338908,
          -5.4516306,
          14.679921,
          9.8786125,
          14.985143,
          -5.2716656,
          14.384017,
          -5.459059,
          -5.074238,
          -4.834011,
          -4.1131873,
          15.185265,
          15.235763,
          -4.1983857,
          -5.305747,
          -2.5857234,
          -5.360482,
          -4.8220706,
          -4.7597647,
          13.88733,
          -5.0548706,
          -5.3714013,
          -4.53275,
          12.057261,
          -5.0389843,
          -5.529209,
          -4.8392677,
          -3.4351182,
          14.86702,
          -5.290712,
          13.62069,
          -4.3108706,
          -5.1109147,
          -5.4918623,
          -5.328061,
          14.827921,
          -3.6449804,
          -4.7428885,
          -4.9795914,
          -4.9328055,
          -4.963701,
          14.528649,
          -5.4332905,
          -4.908559,
          15.108769,
          -5.020211,
          -5.268626,
          -4.6354556,
          15.122103,
          -5.5271077,
          -4.204505,
          15.368896,
          15.29713,
          -4.573424,
          -5.0433097,
          11.854635,
          -5.101946,
          -5.2047343,
          -4.115854,
          -4.872344,
          -3.566776,
          -5.0264106,
          -2.5047383,
          -5.4633527,
          -4.704306,
          15.002148,
          -4.9323792,
          -5.218061,
          14.281046,
          -5.313172,
          -4.936622,
          -5.1964984,
          15.21112,
          14.845487,
          -5.2373614,
          -4.694179,
          -5.208614,
          -4.0089335,
          6.6824574,
          15.155933,
          -5.1544576,
          15.381671,
          -5.1900864,
          -4.9071927,
          15.158628,
          -4.6849303,
          -5.5004673,
          -4.80079,
          -5.002872,
          15.39428,
          -4.4414434,
          12.093306,
          -4.665206,
          -4.9204984,
          -5.511279,
          -5.177564,
          -5.3684573,
          -4.997415,
          -5.2215576,
          15.317419,
          -5.2312965,
          -5.4937925,
          -3.888133,
          14.522556,
          -4.2272353,
          -5.251928,
          10.147292,
          15.284792,
          -4.597885,
          -4.1794786,
          -4.3615656,
          -4.989901,
          15.192326,
          15.331308,
          -4.7300386,
          -4.9746094,
          -5.352253,
          -4.889769,
          -5.4252567,
          -5.4964147,
          -5.523126,
          -4.9635696,
          14.168308,
          12.723465,
          -4.7643714,
          15.320671,
          -3.7362428,
          14.748552,
          15.208283,
          14.499293,
          11.067253,
          -5.168691,
          -5.3174815,
          -3.9344156,
          15.24634,
          -4.358791,
          -5.5411005,
          15.038187,
          -4.752575,
          -4.7123537,
          15.0216055,
          -4.4180856,
          -4.3119454,
          -4.5304294,
          12.688971,
          -5.33422,
          -4.399658,
          14.649025,
          -4.802859,
          -4.872402,
          -4.6297503,
          -5.11457,
          -4.4375076,
          -4.821841,
          -5.5760508,
          -4.7962103,
          14.771928,
          -4.712338,
          14.742167,
          -4.697959,
          -5.186526,
          -5.5272994,
          15.202,
          -5.2370954,
          -4.0439525,
          14.682884,
          -5.1311707,
          -5.208653,
          -3.8083827,
          -5.4340496,
          -5.862384,
          -5.1696806,
          -5.137028,
          -5.002389,
          -5.2222724,
          -4.9576044,
          -5.955947,
          15.276697,
          -5.056816,
          15.341692,
          15.16082,
          -4.285847,
          -5.4400387,
          -3.4666624,
          -3.7109673,
          -5.3557453,
          -4.99248,
          -5.002054,
          -5.0398192,
          -5.1122785,
          14.943644,
          -3.9634087,
          14.354703,
          15.3608675,
          14.665848,
          -5.518883,
          14.476866,
          15.157705,
          -5.4918427,
          14.115101,
          -5.305405,
          14.971133,
          -4.503142,
          -4.987233,
          14.361596,
          -3.221401,
          -5.2749853,
          14.58248,
          14.389611,
          -4.735532,
          -2.3882344,
          -4.0598145,
          -4.5298905,
          -2.0428896,
          -4.6542487,
          -4.7918806,
          -5.3204713,
          13.53415,
          -4.1575036,
          -4.981478,
          13.24528,
          -4.9605923,
          10.173005,
          15.245103,
          -4.9614944,
          -5.3663316,
          -4.416757,
          -4.475249,
          -5.125022,
          -4.7499185,
          -4.8202057,
          14.289666,
          -4.676331,
          -4.557405,
          -5.596375,
          3.5315554,
          -4.250111,
          14.489514,
          -4.6356163,
          -5.17736,
          -5.2974553,
          -4.9703283,
          -5.206332,
          -2.8692,
          14.862732,
          -3.8801308,
          -4.5279293,
          -5.41156,
          -5.3763037,
          -5.3620353,
          -5.201348,
          13.996129,
          15.285057,
          -5.386506,
          -4.4379883,
          -5.7594705,
          -5.230949,
          -3.4494166,
          15.154358,
          -4.470163,
          -5.2281084,
          -5.6797533,
          15.357955,
          -5.35169,
          -4.770659,
          15.393929,
          -4.7941923,
          -4.11161,
          -5.077168,
          8.553211,
          -5.4099956,
          -3.1401858,
          -5.39947,
          -5.3280377,
          -4.9559903,
          -2.7876265,
          -4.4620123,
          13.439324,
          13.216774,
          -4.075599,
          -5.032079,
          -4.891962,
          15.33934,
          14.656924,
          -5.208791,
          -5.137235,
          -5.1624885,
          -4.5831146,
          -4.5124874,
          -4.719587,
          -5.028823,
          -4.0274324,
          -4.694666,
          -4.501219,
          15.352907,
          -5.392064,
          15.263888,
          15.250867,
          -4.8287387,
          -5.0608788,
          -5.3921957,
          -5.192535,
          -3.963926,
          -4.141735,
          15.094689,
          -5.4565005,
          11.7726345,
          15.310917,
          -4.4791355,
          -5.5446734,
          14.442046,
          -4.7597723,
          -3.8002422,
          15.214892,
          -4.1351256,
          -3.521825,
          -5.317269,
          15.3678055,
          -5.041419,
          14.361368,
          15.291321,
          -5.1959863,
          -5.3355618,
          -1.5739862,
          -5.956008,
          -4.527107,
          -5.3869967,
          14.611421,
          15.413188,
          -3.384406,
          -4.7692666,
          14.807709,
          -4.7366285,
          12.762515,
          9.187319,
          -4.9554305,
          -4.4070354,
          -4.9177847,
          -5.359131,
          -4.52048,
          -5.427186,
          -4.230275,
          13.685861,
          -4.809362,
          9.278218,
          -5.1154127,
          -5.2154126,
          -3.6627064,
          -2.55537,
          -5.2264023,
          -5.2705493,
          -4.1958876,
          14.469502,
          -3.589773,
          14.914832,
          -4.82026,
          -3.818723,
          -4.92577,
          15.411632,
          15.183332,
          -4.1939025,
          13.124819,
          -5.104764,
          -5.2263317,
          -5.8589487,
          -5.120766,
          14.378378,
          12.787475,
          15.248342,
          -5.228671,
          -3.560638,
          -5.1778316,
          -4.7132597,
          -5.2686896,
          -5.205097,
          -4.7396684,
          -5.682429,
          -4.700291,
          -3.4084198,
          -5.5913095,
          -5.1769032,
          -5.0108337,
          -4.2765684,
          -5.426139,
          -4.8837705,
          -5.0724144,
          15.18383,
          -4.943171,
          -4.7042985,
          -5.5544147,
          14.34011,
          -4.646265,
          -4.7158184,
          -5.0563803,
          -5.029121,
          -4.24607,
          -5.5771947,
          13.983941,
          -3.4374845,
          11.889198,
          14.975664,
          -4.9980397,
          -4.668444,
          -4.9932985,
          -5.342863,
          -5.799687,
          -4.6336327,
          -4.952696,
          -5.4236646,
          -4.554943,
          -1.9289093,
          14.786373,
          -4.5599904,
          -3.261666,
          -4.9844556,
          -5.1427436,
          -4.959733,
          -3.7197895,
          -4.852757,
          -4.9758773,
          -5.5643625,
          -5.5477247,
          -5.442815,
          -5.394365,
          3.7080696,
          -4.9519863,
          -5.7499456,
          -4.9560623,
          -5.399236,
          15.322056,
          -4.488495,
          -5.436193,
          13.811999,
          -5.0917683,
          -5.4176097,
          -5.3790565,
          -4.8317733,
          -4.7251534,
          -3.9651148,
          -3.2786162,
          -4.7653956,
          -5.324646,
          15.124761,
          -5.509441,
          12.426606,
          -4.8754506,
          2.152202,
          -5.050591,
          -4.108488,
          15.306491,
          -4.130857,
          -5.2981715,
          -5.650142,
          -4.748896,
          -3.9643898,
          -5.2225866,
          -4.90736,
          -1.8879398,
          -5.042749,
          -4.9881725,
          -5.373131,
          15.292721,
          15.329656,
          -4.4008427,
          -4.5707703,
          -4.6091094,
          -5.4105115,
          -4.9312263,
          -5.335414,
          -5.572165,
          14.661952,
          12.583641,
          14.297953,
          -5.492794,
          14.876927,
          13.870022,
          15.245852,
          -5.430874,
          -5.497254,
          -5.6397934,
          -4.9455876,
          -4.6679387,
          -4.637381,
          15.1289425,
          -3.5217855,
          -5.6975403,
          4.707084,
          14.374134,
          -5.0342093,
          -4.1824827,
          -5.0229764,
          -4.5166445,
          -4.8872113,
          -3.6570911,
          -4.6240635,
          -3.836679,
          -5.410261,
          -4.3313913,
          14.504905,
          14.868519,
          -5.048951,
          -5.479992,
          -5.020052,
          -4.468631,
          -4.435319,
          15.377439,
          -4.6328,
          -5.0323725,
          -5.5440392,
          -5.2983274,
          15.355335,
          -5.1093826,
          -5.5551143,
          -5.330413,
          -4.2955966,
          -1.739724,
          -5.193359,
          -5.1544466,
          -5.7593255,
          -5.049996,
          -3.3813937,
          14.248517,
          -4.631642,
          -5.500842,
          7.3199573,
          -3.844128,
          -4.7269917,
          -4.7070904,
          13.356558,
          -5.3264995,
          -4.7657666,
          -4.2923455,
          12.801838,
          -3.4708402,
          -4.178765,
          -4.833564,
          -4.8085065,
          -3.9134767,
          -4.4784765,
          -4.4738717,
          15.325512,
          -4.614247,
          -3.890589,
          -4.1339183,
          14.95046,
          -5.1574073,
          -5.103256,
          -4.977111,
          10.479982,
          -4.7278714,
          -5.303186,
          -4.8533154,
          -5.319362,
          -4.916828,
          -4.2737427,
          -5.652199,
          -5.0009694,
          -4.24346,
          -5.3360896,
          -4.493873,
          -4.728949,
          -5.3234525,
          -5.0556245,
          -5.025689,
          15.290313,
          -4.619375,
          14.018521,
          -5.456476,
          -5.0975876,
          -5.426454,
          -3.5760205,
          -3.266614,
          14.772896,
          14.08319,
          -4.7558703,
          14.027212,
          14.873647,
          -5.405205,
          -4.9561605,
          -4.6609464,
          -5.133117,
          -4.544807,
          -4.2727747,
          -5.1043987,
          15.334573,
          -5.009804,
          -5.185305,
          15.276098,
          3.168385,
          -5.392176,
          14.135885,
          -5.5057936,
          -4.921603,
          -5.5476575,
          -4.765965,
          -5.7016287,
          15.252064,
          -5.485638,
          -5.179421,
          -4.209454,
          -4.991211,
          -4.0650997,
          -4.1440535,
          -5.2338114,
          -4.797096,
          15.328853,
          -5.278358,
          -4.4178824,
          -4.5039062,
          15.126841,
          -4.966667,
          -4.501351,
          -5.164926,
          -0.3837615,
          -4.5909233,
          -5.596549,
          -4.3293786,
          -5.3164816,
          -5.3353004,
          -5.341262,
          -4.416069,
          -5.4465384,
          -4.8892546,
          -4.8533044,
          -4.5871606,
          -5.1498065,
          15.247389,
          -5.255425,
          -4.2936788,
          -4.9836025,
          15.190336,
          -5.188158,
          -3.3574479,
          -4.230338,
          -4.044,
          -3.0725503,
          -5.445327,
          13.221534,
          -5.271958,
          14.655314,
          15.30713,
          -5.2142677,
          15.275579,
          -4.866005,
          -4.1725397,
          -4.8788857,
          -3.9624696,
          -5.3016257,
          -5.105049,
          15.167024,
          -5.388332,
          -5.1926656,
          -4.49608,
          -4.9373846,
          -4.4223976,
          -4.6178827,
          -5.2147655,
          -5.0223904,
          -3.922497,
          2.3242328,
          -4.8521085,
          -5.225867,
          -5.0231175,
          -4.3501163,
          -5.2894487,
          -5.1320505,
          9.394516,
          -5.3809905,
          13.559461,
          14.655356,
          -5.372333,
          13.185279,
          -4.708904,
          11.474725,
          -4.982819,
          -5.217416,
          -5.139671,
          7.352006,
          -4.2807517,
          -4.6998816,
          15.31207,
          -5.4118333,
          -4.7422805,
          -5.268973,
          -5.0220394,
          15.2932625,
          15.097797,
          -4.670775,
          15.164149,
          -4.4839907,
          -4.632869,
          -5.5126987,
          -4.601993,
          -3.1091175,
          15.319428,
          -5.6231604,
          -5.2549615,
          -3.7694263,
          14.697359,
          14.399612,
          -5.6633787,
          -3.7790606,
          -5.1075625,
          13.5988245,
          -4.620766,
          -5.362247,
          -4.689553,
          -5.4770236,
          -4.856401,
          -4.572094,
          -5.519648,
          -5.220612,
          -4.7639976,
          -3.8098924,
          14.441611,
          -4.806716,
          11.215594,
          -4.88053,
          -3.9771664,
          -4.651464,
          -4.646203,
          -5.4802876,
          -5.2714186,
          14.408064,
          15.12668,
          -5.0176044,
          -4.490508,
          -5.146594,
          -4.953611,
          14.1987705,
          -4.357254,
          -4.8554792,
          -4.8908634,
          -5.121917,
          -3.8023152,
          -4.469681,
          13.086067,
          -4.898694,
          -4.7714915,
          -3.9437358,
          -5.1781187,
          -4.978068,
          -5.6003013,
          -4.9618893,
          -5.74898,
          -4.545694,
          -4.4761076,
          12.401627,
          -4.8990865,
          1.217698,
          15.385869,
          -5.162357,
          7.938448,
          -4.9326043,
          -4.4131804,
          -4.981831,
          -4.0786414,
          14.515317,
          13.511434,
          15.162454,
          -3.8450584,
          -3.4503477,
          15.233615,
          -4.905031,
          -5.4710283,
          -4.2545533,
          -4.411587,
          -5.252942,
          -5.2962,
          -4.794975,
          -3.9295852,
          -4.513336,
          -4.7320895,
          -4.5686336,
          -5.6536613,
          -4.9812746,
          -4.9207325,
          -4.8587394,
          -5.423826,
          -5.638567,
          -4.4723086,
          -4.555086,
          -4.7586746,
          -5.1314726,
          -2.0752358,
          -5.7446547,
          15.12346,
          -4.2957625,
          -5.617783,
          -5.5131946,
          -3.199874,
          15.103125,
          -1.6983699,
          -4.681331,
          -4.2969317,
          -3.6704519,
          -5.1732097,
          11.928012,
          -4.776641,
          -4.9494305,
          -4.1604767,
          15.255473,
          -4.534579,
          15.348873,
          -4.7565513,
          -5.499002,
          -5.316995,
          14.395394,
          -5.5925746,
          -3.7490523,
          -5.089616,
          -5.482391,
          -5.4182105,
          13.822953,
          14.580837,
          -1.3565075,
          -5.0884776,
          -4.8151555,
          13.563298,
          15.083525,
          -4.6372914,
          14.818266,
          -5.22156,
          -4.417361,
          15.340498,
          -5.0306463,
          15.369309,
          -5.3527474,
          -5.0126114,
          15.119179,
          -5.386133,
          -0.63887554,
          -5.2010736,
          -5.0617933,
          -4.2876844,
          -5.0691185,
          -5.2737427,
          14.627467,
          -4.655124,
          -4.3471327,
          15.263423,
          -5.2371335,
          -4.771398,
          15.26977,
          -5.525433,
          -4.6396303,
          -5.098794,
          13.503598,
          -3.894491,
          12.143775,
          -4.990122,
          -5.1048737,
          -4.976574,
          -5.6610804,
          -4.8870354,
          13.291306,
          10.103254,
          -4.9607334,
          -4.6935616,
          -4.949072,
          -4.970112,
          -2.0826972,
          -5.2191067,
          -5.544507,
          -5.3092422,
          -4.395979,
          -5.5611796,
          -4.609674,
          -3.3024468,
          -4.7535048,
          -3.6780365,
          -4.5060062,
          -5.328208,
          -4.922795,
          -4.562029,
          -4.5043097,
          -5.519409,
          -3.7429197,
          -4.7501183,
          -5.471145,
          -5.303689,
          -4.0386043,
          -4.8410616,
          -5.344353,
          -5.0776973,
          14.436294,
          -3.4512608,
          -4.474438,
          -4.8816147,
          4.8477583,
          -5.463048,
          -5.6852393,
          -5.065595,
          -4.130175,
          -4.6221733,
          -2.758389,
          -4.8637757,
          -5.5197,
          -4.766521,
          -5.589047,
          -5.304235,
          -4.688321,
          -3.0669336,
          -4.3911242,
          -5.175506,
          -4.892905,
          -5.385639,
          -5.473966,
          15.158517,
          15.052989,
          -5.6403503,
          -5.106615,
          -4.6931114,
          13.976456,
          -4.1122255,
          -3.4132822,
          -4.717669,
          -5.352402,
          -4.524963,
          -5.611082,
          -4.624544,
          -5.5611315,
          1.177052,
          -2.7855399,
          -4.2950826,
          -4.8454685,
          -4.7442684,
          14.897276,
          -5.4998083,
          -5.298262,
          -3.495864,
          12.705875,
          14.814869,
          -5.3738203,
          -4.94951,
          -3.790653,
          -3.918882,
          -3.3724308,
          -4.3569527,
          15.22144,
          -5.6437006,
          -5.137516,
          -4.821261,
          -5.100417,
          -4.679896,
          -5.5891013,
          15.34423,
          15.134383,
          -4.3324394,
          -5.238839,
          -4.976751,
          15.34514,
          14.873029,
          -5.1640797,
          10.894263,
          -4.2520666,
          -5.6002684,
          -5.249084,
          -5.6289797,
          10.307116,
          13.520665,
          -4.5758133,
          15.248094,
          -3.8708518,
          -2.898888,
          -4.9441447,
          -4.6922565,
          -4.7000723,
          -4.3224034,
          14.64879,
          -5.295501,
          -5.2385793,
          -4.093083,
          -4.953791,
          14.814808,
          -5.5244446,
          -4.7055545,
          -5.049502,
          -4.142751,
          -4.9695163,
          -5.7075124,
          -5.1669655,
          -4.028158,
          11.449704,
          -4.8610053,
          -3.5291467,
          -5.5571656,
          -1.5532031,
          -4.9186645,
          -5.6071987,
          -5.4588537,
          -5.465331,
          -4.64467,
          -4.426121,
          -5.6443973,
          14.419796,
          14.8926115,
          -5.1876855,
          14.92481,
          -4.2168045,
          14.8671665,
          -3.7632735,
          -4.6684513,
          -4.159868,
          -4.2915688,
          -5.454238,
          -5.4057245,
          13.465639,
          -4.055912,
          -5.352624,
          14.389463,
          -3.7254364,
          1.6006439,
          13.959334,
          14.536557,
          15.240261,
          -5.243767,
          12.578857,
          13.872846,
          -5.434476,
          -2.459852,
          -4.5887456,
          -5.692381,
          -4.679076,
          -5.22969,
          -3.7618139,
          15.37999,
          -4.65293,
          15.248262,
          -4.7463784,
          14.698819,
          -5.3328643,
          -1.6144229,
          -5.3834124,
          -5.123395,
          -4.9733787,
          15.321446,
          -4.5912657,
          13.905595,
          -4.572915,
          -4.2010145,
          -5.14189,
          -2.306265,
          -4.7573705,
          0.31855285,
          -4.021336,
          14.063686,
          15.246315,
          14.275091,
          -5.1097364,
          14.971548,
          -4.3853703,
          -4.267714,
          -5.663152,
          -3.995782,
          -5.022525,
          15.200848,
          -3.9687686,
          14.989492,
          11.049959,
          15.3247,
          -4.3651547,
          -5.5426807,
          15.188222,
          12.9694195,
          -4.761132,
          -5.0212727,
          -3.5608585,
          -4.832323,
          -3.5572798,
          -5.620243,
          -5.3903074,
          -5.3191366,
          -4.4515586,
          -5.3199563,
          -4.816112,
          -5.768821,
          -3.8183806,
          -5.3427095,
          12.402346,
          15.335303,
          -4.66929,
          8.697444,
          -5.3465724,
          15.009432,
          -2.826283,
          15.340999,
          -5.6835027,
          -5.270235,
          13.3975115,
          -5.259809,
          -3.2569113,
          -4.7015085,
          10.855992,
          -5.049718,
          14.954321,
          -3.8849525,
          11.914099,
          -5.201693,
          14.6765585,
          -5.6663184,
          -5.5246425,
          -5.671843,
          5.7177057,
          -3.168284,
          -4.7838097,
          -4.782035,
          -5.4081683,
          -5.082347,
          -5.121452,
          -4.9435167,
          -5.638838,
          2.9926336,
          -0.74392617,
          14.6643715,
          -4.725003,
          15.240278,
          -5.2010865,
          -3.151917,
          -5.0330167,
          -5.4723277,
          14.00329,
          -5.349971,
          -5.095748,
          -5.3490167,
          -3.9919946,
          14.311462,
          -5.2684484,
          -5.236171,
          -4.5466003,
          -3.2091343,
          -5.7534337,
          14.28112,
          -5.401281,
          14.169916,
          -5.399138,
          -4.3064904,
          -4.43876,
          -5.2696958,
          15.075187,
          15.350379,
          -5.2693195,
          -4.9641485,
          -4.8901005,
          15.045722,
          15.2560215,
          -4.783609,
          -5.315572,
          -4.9904084,
          15.189217,
          -4.976056,
          13.590293,
          -5.484506,
          14.849944,
          -5.4845314,
          -5.4930468,
          -4.002211,
          -2.365151,
          -4.725515,
          -4.639569,
          -4.8681707,
          -5.0419073,
          -5.238669,
          -3.8556192,
          -5.3164597,
          13.607051,
          -4.2705274,
          -5.3689084,
          -4.875365,
          -5.336412,
          -4.998537,
          -4.51161,
          -4.9149413,
          -3.6850617,
          -5.1615815,
          14.448429,
          15.253663,
          -2.696852,
          -4.19696,
          15.00313,
          -5.066502,
          -5.0560026,
          -5.1084175,
          -5.0509133,
          -5.1670156,
          -5.269145,
          15.3361025,
          -4.6191406,
          -4.6164207,
          -4.6547337,
          -5.122602,
          15.241226,
          15.359457,
          -4.8296857,
          15.051428,
          -3.957962,
          -4.497649,
          14.91297,
          -5.40577,
          -4.159532,
          14.806513,
          -4.18898,
          -5.4306912,
          -4.9235973,
          -4.653705,
          -5.611595,
          -5.0397825,
          14.666926,
          -5.6389823,
          -4.8066587,
          -5.188465,
          -5.019155,
          -5.402421,
          -5.7932057,
          -4.7826295,
          -3.7919438,
          -5.376188,
          -5.0137224,
          -3.8339977,
          -5.2612295,
          -5.08918,
          14.830312,
          -5.0089087,
          -4.463688,
          -5.2179933,
          -4.060068,
          -3.4210274,
          -5.708445,
          15.326482,
          -4.417627,
          12.907195,
          -5.6500564,
          -4.516838,
          15.284983,
          -4.0449915,
          -5.0229483,
          -1.8291342,
          -4.8613944,
          15.243472,
          -4.2503233,
          -5.605388,
          15.238572,
          13.2609625,
          -2.6301322,
          -5.097072,
          14.280094,
          -0.100978434,
          -4.5704393,
          13.692994,
          -5.270444,
          -4.6762342,
          14.76012,
          15.042115,
          -2.488345,
          -3.4411967,
          15.32672,
          -4.691068,
          -4.56357,
          -5.0085225,
          -4.151611,
          15.272327,
          -4.4593983,
          8.418896,
          -4.5665727,
          -5.096734,
          -5.435434,
          14.759695,
          15.182777,
          -4.894771,
          -5.0188246,
          -4.8847237,
          -2.9365098,
          -4.763371,
          -4.9963784,
          -4.846596,
          12.879903,
          15.050157,
          14.951518,
          -5.369208,
          14.978784,
          15.210573,
          -4.4934864,
          -3.1979022,
          -4.280774,
          -2.2676764,
          -4.566753,
          -4.5915756,
          -4.2297807,
          -4.7864823,
          -5.211758,
          -5.3744717,
          -4.546157,
          -3.6729238,
          15.293519,
          -4.584931,
          15.03841,
          13.971637,
          -4.860821,
          -4.9238067,
          14.631724,
          11.544,
          15.37305,
          -4.391593,
          -5.521583,
          -4.8921123,
          15.245782,
          -4.379519,
          -4.9836407,
          -5.8045626,
          -5.2429047,
          -5.34975,
          15.108333,
          15.363965,
          15.283341,
          14.818155,
          -5.262208,
          13.304851,
          -4.2791142,
          -5.032453,
          -3.5575528,
          14.960236,
          -4.8505507,
          15.083018,
          -5.0135336,
          15.37185,
          -4.746478,
          -4.824539,
          14.863929,
          -2.488327,
          -3.23848,
          1.6976409,
          14.960937,
          15.058921,
          -3.879756,
          -5.1552024,
          15.159147,
          -4.044931,
          -5.423054,
          -4.9258366,
          -3.7952578,
          -2.4041305,
          -4.9486365,
          -4.9382424,
          -4.9518347,
          15.085303,
          -4.161493,
          -4.6432333,
          -4.018764,
          -5.5000734,
          15.098441,
          -3.7391827,
          -5.2696977,
          13.638278,
          14.207706,
          -5.2066627,
          14.103169,
          15.182457,
          -4.9739103,
          15.161208,
          -5.365601,
          -5.3784223,
          -4.6993523,
          -4.665785,
          11.663479,
          14.969684,
          -5.3953495,
          -4.3050222,
          -5.2199817,
          14.7635145,
          15.0937805,
          -5.365277,
          15.368226,
          15.273091,
          -3.858963,
          13.94848,
          -5.114162,
          -4.7029133,
          -5.307956,
          -4.646677,
          -5.3298993,
          15.030377,
          -0.69093215,
          -4.639176,
          14.949571,
          14.994613,
          13.595104,
          -5.1290064,
          -5.462178,
          -4.939224,
          -4.7658277,
          -5.0503936,
          -3.9895024,
          -4.229731,
          -4.98427,
          14.70329,
          -5.063658,
          -4.5382013,
          -4.848344,
          -4.9485455,
          -4.9762025,
          -4.453894,
          -5.046538,
          -4.8967934,
          8.737204,
          -5.4792504,
          -5.3675323,
          -5.3530397,
          -4.9439974,
          -5.4598355,
          15.006728,
          -5.218504,
          7.683466,
          7.7528076,
          -4.645576,
          -4.9740863
         ],
         "xaxis": "x",
         "y": [
          0.21973099,
          -2.1655414,
          0.04119045,
          0.040161796,
          6.258129,
          -4.722421,
          5.1260195,
          2.3082998,
          -0.14677589,
          7.691857,
          -0.07564902,
          4.4499297,
          1.6976056,
          -3.6292138,
          -2.099932,
          -3.1211176,
          0.15465859,
          -4.2296805,
          0.30632722,
          -1.7776843,
          -0.3774885,
          -0.2001523,
          4.2244024,
          -4.086954,
          5.303766,
          -4.296458,
          5.5971828,
          -0.49618545,
          -5.0388174,
          -0.03991144,
          -2.3066652,
          -0.08101976,
          -1.8551097,
          -6.022245,
          -0.68757033,
          0.08174028,
          -2.217371,
          -4.735045,
          3.4567227,
          8.51426,
          0.15106371,
          6.324936,
          -0.0995698,
          -1.7817185,
          -2.2901428,
          3.8395221,
          2.010297,
          -5.1825914,
          5.082598,
          -5.372706,
          4.8929453,
          0.34255296,
          -4.348631,
          3.1987822,
          5.635727,
          -2.295823,
          0.40617058,
          -5.039153,
          -0.18084478,
          -2.6084235,
          7.017823,
          0.25992516,
          -5.9891863,
          -0.27573934,
          -5.0530386,
          1.7330047,
          1.114784,
          -1.2213371,
          2.0932062,
          5.3673897,
          0.34570786,
          -4.5794907,
          7.262528,
          -0.21109942,
          -0.7436975,
          -2.8916721,
          -3.9586372,
          0.23709193,
          -0.097878054,
          7.036757,
          5.2788644,
          1.3042362,
          -1.1440759,
          2.2634344,
          5.807376,
          6.4765806,
          -5.2722263,
          -0.29546753,
          4.153719,
          -0.44242302,
          4.524387,
          -2.225681,
          -0.18775965,
          -5.1116543,
          0.6542153,
          0.68560606,
          -2.0211627,
          -4.548693,
          1.2303426,
          0.18782465,
          3.5980515,
          4.736459,
          -0.47963315,
          -3.4796584,
          -0.033110652,
          0.17036512,
          0.8067327,
          4.831258,
          -4.6178675,
          -0.31802553,
          1.7980276,
          1.5599487,
          -0.12041411,
          3.4927523,
          0.20000023,
          -2.8152258,
          1.407229,
          -3.0455205,
          0.3591872,
          -0.17453404,
          0.15455288,
          -0.73420507,
          -5.176791,
          -4.28174,
          -0.214169,
          -0.48489836,
          5.894986,
          -4.5722117,
          2.4065,
          -6.0044003,
          -2.7954621,
          2.4441426,
          -0.22122443,
          1.1150783,
          -5.052276,
          -0.7035042,
          2.8432474,
          -5.9490104,
          -5.912938,
          -4.855733,
          2.5402064,
          -0.3186638,
          -0.3326222,
          7.31899,
          -4.3689027,
          4.8879323,
          -4.869175,
          -0.2065417,
          2.6479106,
          5.4246817,
          8.615828,
          6.0883737,
          2.8364499,
          -0.20838694,
          -0.22214547,
          4.342569,
          -3.7776825,
          -4.275909,
          0.6592188,
          0.021465104,
          -0.7405336,
          -0.005465943,
          -0.16280001,
          0.55655533,
          -0.07523685,
          0.7254816,
          -0.2327661,
          3.1927016,
          0.20506321,
          0.7915983,
          1.178216,
          -1.2020941,
          6.7384806,
          -0.41840646,
          -0.118844606,
          -5.259677,
          3.4499621,
          -1.5448246,
          3.5277798,
          -0.1298471,
          -5.060007,
          -0.18408462,
          3.931982,
          -2.155164,
          -5.3282857,
          -0.09022366,
          -4.518719,
          -0.74031645,
          -2.9881384,
          7.131832,
          -0.09982035,
          -3.6823058,
          -0.16358031,
          6.1254053,
          -5.1688123,
          3.1966982,
          3.2430508,
          0.08527296,
          7.2853074,
          -0.57879335,
          3.5704818,
          2.4827354,
          -3.5504932,
          -0.007060714,
          1.8179452,
          4.345641,
          -0.21102853,
          5.4706807,
          -2.9678526,
          6.2241836,
          -0.06452824,
          -0.17169021,
          -1.8076329,
          -0.17830831,
          -0.14480938,
          -1.9364929,
          -3.474977,
          0.8123997,
          -5.126727,
          -2.8003304,
          6.197031,
          -5.830191,
          6.729773,
          4.048908,
          7.165352,
          -0.948193,
          -6.3870244,
          -0.46703917,
          -4.942321,
          -1.4863658,
          -0.1823516,
          -1.3066318,
          5.252767,
          -4.3394203,
          -0.08332527,
          -0.55718935,
          -3.4177256,
          -3.9925232,
          2.1488535,
          6.361804,
          0.42197442,
          -0.23776372,
          -2.9543114,
          -0.120039515,
          4.164657,
          4.486906,
          -0.23516908,
          4.4490085,
          1.4919729,
          -4.4907026,
          -1.3660656,
          -0.4042927,
          -3.8766418,
          -0.5823396,
          -4.662223,
          -5.0076694,
          -1.7412323,
          -4.010461,
          0.8536644,
          -4.996009,
          -2.2471697,
          -0.124048375,
          1.2966756,
          2.826282,
          -3.811105,
          -0.11842205,
          -4.2791667,
          -0.59221655,
          0.51276046,
          -0.16454542,
          5.0014358,
          6.5507026,
          4.952583,
          4.4649553,
          -0.1795844,
          -0.07676833,
          -5.195748,
          1.1137438,
          -3.8645134,
          5.2494574,
          -3.7488275,
          -1.6720855,
          1.7368485,
          -2.9523065,
          -0.3113994,
          -0.32525417,
          -5.4162116,
          -0.19951212,
          6.9035788,
          -0.25915727,
          -0.0666539,
          -0.20765994,
          -1.141087,
          1.603483,
          3.5645382,
          7.275809,
          -0.20641689,
          6.2104807,
          3.2394512,
          -0.08581884,
          -4.2631073,
          -4.0882792,
          0.07777125,
          -3.5187674,
          -5.048858,
          5.182249,
          0.008269787,
          -4.51914,
          -4.3116894,
          -0.7314447,
          -5.65578,
          -2.848484,
          6.702388,
          -1.0851125,
          -3.0578694,
          -5.4162793,
          3.0774963,
          3.861106,
          -0.01788504,
          3.2564197,
          -0.22649437,
          -4.1971035,
          -3.152202,
          3.6409085,
          -0.22719285,
          -2.1160107,
          6.6536326,
          0.3050153,
          -3.7291682,
          4.47402,
          6.804039,
          2.65483,
          -1.323415,
          -5.3987665,
          0.8542316,
          -2.4025111,
          -4.610633,
          -5.176279,
          0.23279358,
          -0.2949546,
          -2.663231,
          -0.16845407,
          -0.06783574,
          -4.7625527,
          -1.112112,
          -3.6666505,
          7.609987,
          -4.1834817,
          -3.384854,
          3.5805905,
          2.924338,
          -3.6836493,
          -0.35711676,
          7.3845997,
          0.24651393,
          -0.1111132,
          0.013852048,
          0.54518694,
          -0.17427312,
          0.22491296,
          0.8336678,
          0.2943167,
          1.1859072,
          -0.39065188,
          2.6203053,
          -5.037135,
          -0.07794148,
          -4.094149,
          -2.9241207,
          -0.4017537,
          0.07602457,
          4.304625,
          9.449892,
          6.3738017,
          4.9569864,
          9.804872,
          -4.689852,
          -3.745615,
          2.1560872,
          -0.21765068,
          5.532618,
          4.6027255,
          -0.4651805,
          -5.230878,
          -1.1797149,
          -0.10945327,
          -5.746926,
          0.06495123,
          7.1442184,
          -5.835039,
          1.0871619,
          5.2395105,
          -5.0042186,
          -0.17288086,
          3.2073395,
          -3.5980785,
          2.0056071,
          0.46178728,
          6.7442446,
          0.3947427,
          5.8162737,
          4.755749,
          -3.5610213,
          -2.3130004,
          2.766815,
          6.5089693,
          -0.31510347,
          -2.1888027,
          -3.62858,
          -1.5628059,
          4.10158,
          1.1278659,
          4.419932,
          0.2623231,
          -0.22445548,
          1.0700576,
          -4.0834417,
          -0.1569166,
          2.3279297,
          -2.795824,
          0.046013422,
          -4.7985063,
          -4.387771,
          -0.88369334,
          -0.191943,
          0.50297195,
          -5.018491,
          -0.37937889,
          -4.8648987,
          7.7467737,
          3.9324536,
          1.2702596,
          -0.891181,
          7.2992644,
          -2.4582946,
          2.5553627,
          5.4978786,
          8.238317,
          6.8099165,
          -0.4024681,
          -0.5155449,
          7.24936,
          -2.2120702,
          3.8259764,
          -0.21389684,
          -0.120777085,
          -4.566039,
          -3.9819694,
          -3.5674374,
          -3.8669248,
          -5.440684,
          -4.373486,
          -4.8856063,
          7.072868,
          5.2722645,
          4.002887,
          -0.114970334,
          1.694838,
          -0.32969168,
          -0.22024886,
          -4.927846,
          3.5200028,
          2.5138986,
          -4.026594,
          6.2992983,
          -5.319431,
          -0.19150144,
          1.2618276,
          -0.06637293,
          -0.2914332,
          -4.416288,
          2.7430103,
          -0.14961223,
          -5.381844,
          2.4628453,
          -0.13709308,
          5.520164,
          -4.2568192,
          2.1072786,
          -0.15850797,
          5.107801,
          0.050880227,
          -0.4690054,
          -4.511946,
          -4.400972,
          8.574874,
          0.51464766,
          -4.496226,
          -1.4981592,
          0.07778775,
          -0.16201562,
          7.753942,
          -2.8811343,
          -0.32603562,
          0.4663411,
          -0.70520353,
          0.6942474,
          -5.477022,
          6.2377105,
          -5.1310034,
          2.2017722,
          -1.5651623,
          -4.7430515,
          5.8800783,
          -0.408146,
          -4.837276,
          0.86577326,
          2.4596815,
          -0.962762,
          6.8294606,
          8.407865,
          3.0853105,
          -3.304742,
          6.5954275,
          -0.35084364,
          -4.9994073,
          0.3114106,
          4.5828223,
          6.8914785,
          5.8325324,
          -0.0444953,
          -0.26022255,
          6.3256364,
          -0.37550634,
          -3.0880613,
          -4.8955936,
          0.030217001,
          1.8529431,
          -0.27898866,
          -0.879792,
          -0.19130369,
          -2.7210715,
          -7.3434806,
          3.4616349,
          -4.58408,
          -3.8105352,
          2.0520067,
          -2.7968602,
          0.5904275,
          -2.454928,
          6.440969,
          -0.9074311,
          -4.351647,
          -4.5387278,
          -4.36077,
          -0.38763884,
          2.9397871,
          -4.512649,
          -0.0007415183,
          -2.49281,
          5.3157377,
          -0.64784336,
          -0.3052749,
          -2.8589299,
          5.1076097,
          5.81221,
          -2.047604,
          -3.60165,
          2.2427244,
          -0.2998632,
          7.6744533,
          0.41086695,
          0.14958411,
          -4.762713,
          5.270261,
          -4.8257623,
          0.17951037,
          -1.3832225,
          -5.0326066,
          3.283406,
          2.9734044,
          -3.0923595,
          -2.3370376,
          -0.16758762,
          5.668148,
          7.239133,
          -4.9766254,
          0.38602468,
          -5.3314233,
          -4.025597,
          5.6439066,
          -2.3925807,
          0.31202975,
          2.559629,
          1.9355408,
          2.67759,
          -2.3231823,
          -5.063336,
          0.81215656,
          -5.111944,
          -2.832361,
          0.16306397,
          5.3333125,
          0.47597572,
          0.11892737,
          -4.648738,
          1.6083889,
          0.55796534,
          4.669872,
          -4.3513184,
          -0.44434032,
          7.869667,
          -4.1228714,
          -3.8272517,
          -0.00032221587,
          2.4048483,
          0.2755604,
          -4.2595344,
          1.3733584,
          -3.40984,
          7.243202,
          -0.11641687,
          7.306559,
          1.381224,
          -1.187295,
          5.2949066,
          -5.0613003,
          3.9529967,
          -3.1665645,
          10.134356,
          -4.3193545,
          -5.5778475,
          -1.2552136,
          -0.18941511,
          -0.18677251,
          -2.6755955,
          -5.0154867,
          -3.9740193,
          3.6076329,
          -4.476948,
          3.785419,
          -3.3115861,
          -0.14520721,
          -1.0186528,
          -0.20349842,
          -1.0686125,
          -0.21443242,
          -0.020184824,
          -0.28400698,
          0.9653146,
          1.5567408,
          1.702561,
          2.5157225,
          -2.537327,
          4.201669,
          -0.022929696,
          6.174013,
          -0.23127995,
          0.7803718,
          0.043434896,
          -4.5679874,
          6.3841047,
          3.7652197,
          6.291832,
          5.843094,
          7.9893174,
          -2.5299325,
          6.9153624,
          -2.3554962,
          -4.6550274,
          -0.35583434,
          -0.44159758,
          -4.5130916,
          3.476641,
          -4.6134562,
          -3.8340974,
          5.848131,
          -0.17046137,
          -3.8248813,
          3.1542277,
          -0.16928983,
          4.0090504,
          -0.40555158,
          3.838269,
          0.5783818,
          -1.6782002,
          -2.0471413,
          9.627512,
          -2.4403071,
          -4.682249,
          0.5498869,
          -0.96978563,
          7.422496,
          0.19509669,
          -5.1933255,
          -0.15474439,
          -1.9083933,
          6.260664,
          -1.6085501,
          -5.152379,
          -0.27829692,
          3.6455681,
          -5.925974,
          6.3843727,
          -0.71927327,
          7.625457,
          5.0944734,
          -3.5120804,
          -0.35294634,
          5.7186503,
          -5.207116,
          4.771423,
          -0.27506575,
          -2.7865698,
          7.4273005,
          2.515584,
          -0.1699831,
          -5.7629514,
          -0.3342539,
          -4.8583016,
          0.18979733,
          4.3550677,
          0.3556094,
          -5.3559933,
          2.7681534,
          -3.6738918,
          -5.460509,
          -1.7033424,
          -4.430785,
          -5.149384,
          -1.5730168,
          -5.622245,
          -3.496554,
          -1.0794433,
          -0.5948805,
          -3.3720207,
          -0.23308353,
          -3.91409,
          0.24199003,
          -0.4668046,
          -1.9335679,
          0.23444982,
          7.578719,
          -5.575662,
          -0.4128559,
          -0.14533283,
          -6.321612,
          0.05248717,
          -0.04485122,
          -2.6223094,
          5.1206512,
          -5.378471,
          -3.5186474,
          -0.89228,
          -2.3447657,
          1.4702573,
          -0.30634177,
          6.479137,
          3.0978663,
          -0.11760509,
          -2.7366242,
          -0.017877685,
          0.0699144,
          2.8876817,
          4.2490726,
          -0.57590806,
          -6.212965,
          0.81272125,
          -0.100118816,
          0.8834545,
          -0.94242465,
          -5.996049,
          4.031638,
          -5.3741794,
          -4.6392007,
          -3.6866143,
          6.044038,
          -0.1309101,
          2.192566,
          -5.604314,
          5.9124613,
          -0.07795451,
          -4.4174976,
          5.802731,
          3.6374078,
          1.9614813,
          -4.951633,
          1.0526705,
          -4.6997356,
          1.6305817,
          -4.026375,
          2.240389,
          -4.192071,
          0.545674,
          -5.4090443,
          -5.20607,
          -2.2113628,
          4.1384544,
          -0.08358756,
          -1.5928024,
          2.0143638,
          3.3409822,
          0.066680625,
          4.1487026,
          8.269975,
          -7.620408,
          -2.9323316,
          8.546172,
          0.43728048,
          -0.12713781,
          4.016103,
          -0.34934977,
          -0.2739438,
          -3.812467,
          -0.33746842,
          4.0238333,
          5.003501,
          -3.6838453,
          6.0522485,
          0.075046405,
          4.7610254,
          -0.09495245,
          3.4260564,
          -2.8245192,
          -4.7577415,
          -5.02779,
          6.935356,
          -4.782359,
          -4.6138234,
          5.9532957,
          -5.23204,
          1.1825799,
          -5.2002387,
          0.81893355,
          -5.7629256,
          -1.4255936,
          -0.7412409,
          1.5633951,
          -1.0936979,
          -4.4952984,
          0.015700495,
          -0.4279879,
          -3.7139916,
          -0.39443886,
          -5.704421,
          0.2242185,
          -2.8160384,
          0.15244369,
          -0.13451426,
          1.6214854,
          -5.6853395,
          4.689993,
          -0.13217795,
          -1.7767467,
          -4.651012,
          -1.6371645,
          -3.4694517,
          -0.12746134,
          -0.226409,
          -4.428374,
          -0.1799239,
          -1.9283006,
          -5.6857944,
          0.8432682,
          6.9974103,
          7.1603527,
          -0.25240317,
          -0.6291458,
          4.654246,
          7.0138235,
          -0.5902718,
          0.14947495,
          1.5049213,
          8.064388,
          3.4334795,
          0.08624716,
          -4.5429754,
          -2.922382,
          -0.6358075,
          3.8139002,
          -3.137879,
          -5.089379,
          -0.68848073,
          -0.22374283,
          -5.0709248,
          6.764483,
          -0.31250122,
          -5.59307,
          0.0077123498,
          -4.6338453,
          -4.910082,
          3.993246,
          -4.721009,
          1.3871844,
          3.249634,
          -0.2597777,
          0.067873575,
          0.5172207,
          6.6549816,
          -0.32676563,
          -4.8093996,
          -0.37818813,
          6.288142,
          2.957794,
          -4.7356687,
          -1.7076404,
          -5.4152417,
          -5.201922,
          -0.40897176,
          -2.1553442,
          5.2483907,
          6.228297,
          4.153533,
          4.031725,
          0.6447814,
          -4.7997766,
          -0.21279004,
          -4.0641,
          -3.3794992,
          0.21013336,
          -4.842405,
          1.6696992,
          -0.1907439,
          4.404492,
          0.8804415,
          5.4432354,
          -5.686892,
          -4.326844,
          -4.6412716,
          -0.09860738,
          0.20055634,
          -0.037549432,
          8.185394,
          0.29282922,
          -0.04228286,
          -5.454668,
          -0.03255816,
          -2.8276088,
          -0.64992154,
          -4.03823,
          -0.96315783,
          -4.506653,
          7.710208,
          -5.5313478,
          -4.7643547,
          -5.425886,
          0.34516358,
          -5.105042,
          3.4542267,
          -4.8661265,
          -2.555884,
          0.055063814,
          -4.862701,
          -3.5328147,
          4.283986,
          1.6016771,
          2.6137645,
          0.58497,
          -0.073047206,
          -5.146712,
          -1.3213251,
          0.73900235,
          7.653687,
          -0.1393688,
          8.236899,
          -4.5151134,
          -3.6137228,
          -3.7819731,
          -2.287658,
          -0.947315,
          4.9419355,
          -1.0468701,
          6.9942718,
          -0.019191055,
          -6.580926,
          -0.20493236,
          -2.3576033,
          3.2726715,
          -4.0352483,
          0.020595321,
          1.6483212,
          1.2680552,
          -1.2033277,
          1.9106319,
          1.1357846,
          0.34102955,
          -0.17276019,
          8.705095,
          -4.624478,
          0.9837807,
          -0.36450213,
          -0.2875098,
          -4.1739726,
          0.09605578,
          -4.073568,
          -5.42739,
          -0.20087153,
          -3.9945319,
          -0.19062407,
          -1.1930856,
          5.030815,
          0.06085547,
          -3.7687457,
          7.714003,
          -4.2687826,
          -4.696698,
          -2.9519682,
          -2.4968462,
          2.5807655,
          -0.30340186,
          4.580049,
          -3.187877,
          0.03591296,
          0.9165551,
          -1.9081054,
          0.035375185,
          2.722642,
          5.80545,
          -3.2186885,
          0.018817458,
          7.0387864,
          -0.99263215,
          0.39814377,
          -4.883438,
          5.899709,
          1.4666569,
          -5.4058213,
          0.42014053,
          0.44352758,
          -3.0986793,
          -2.857662,
          3.0916245,
          -2.6848173,
          9.062019,
          -5.4870276,
          2.1279027,
          2.2139773,
          -4.261454,
          -0.3501506,
          6.4454784,
          -5.1746073,
          -5.0493827,
          -0.37165886,
          -4.6294084,
          -0.39405853,
          -2.6462932,
          -5.1532483,
          4.660928,
          0.12433164,
          6.658813,
          -5.2223372,
          2.4362087,
          2.0481496,
          -4.2277174,
          5.8957887,
          3.3959708,
          -3.2417607,
          -0.3114863,
          5.5448923,
          -3.0851078,
          -3.3567104,
          2.655065,
          1.9231919,
          0.3684524,
          -3.22271,
          -6.1703453,
          -4.602793,
          8.509037,
          -4.304406,
          2.6279135,
          3.9038346,
          -2.0031242,
          -1.8638246,
          -3.3021085,
          8.122839,
          -4.8884325,
          -4.3425803,
          -0.5675831,
          4.221631,
          0.3733009,
          -0.13754009,
          0.010541887,
          -0.3762343,
          -2.0872037,
          5.230738,
          -0.21494727,
          -4.974702,
          7.6380906,
          -5.471561,
          3.2871635,
          5.685146,
          -0.7343486,
          5.378348,
          0.22153251,
          2.7909808,
          7.2336836,
          -6.4733143,
          -2.1363666,
          3.9062023,
          -0.35444075,
          2.168165,
          -2.6334648,
          6.8393764,
          -0.26199186,
          0.060533725,
          0.4693917,
          -4.7958727,
          -5.226633,
          7.3079534,
          -4.418166,
          7.187676,
          -0.09716867,
          -2.1758678,
          4.586127,
          4.5228376,
          2.0632224,
          -5.060463,
          1.6325325,
          -0.17235696,
          -0.24727616,
          6.62345,
          -3.441021,
          -4.4020863,
          -0.011010017,
          -0.43811893,
          4.819589,
          0.5103925,
          -5.0839286,
          -1.064078,
          2.4544,
          1.398547,
          -0.76071644,
          -0.34656355,
          -4.6116467,
          -0.13571733,
          -5.979462,
          -1.4014884,
          -3.9203303,
          -5.3023806,
          5.8563614,
          -4.8128705,
          -0.22468531,
          -5.348512,
          4.4536276,
          7.250112,
          5.37567,
          -0.07794744,
          2.8576493,
          1.9196786,
          -4.476225,
          6.7016697,
          5.231789,
          -1.8663445,
          3.53796,
          -4.639995,
          0.81029963,
          0.33850816,
          7.546611,
          -2.2803671,
          4.697644,
          6.574297,
          -0.10874893,
          1.8508581,
          -1.750362,
          -4.3580627,
          5.0507507,
          0.012827178,
          -0.4035438,
          -0.012205804,
          3.4274607,
          -0.4365603,
          7.2802978,
          -0.105748646,
          7.838698,
          -2.7643251,
          -4.9913487,
          -5.248621,
          2.159767,
          -0.93286604,
          -0.06842579,
          -3.4219956,
          1.7146333,
          -0.430927,
          7.447868,
          1.3064404,
          0.1764209,
          -0.29850087,
          -0.2968891,
          -3.2375124,
          -0.33260134,
          -0.679067,
          1.563396,
          -0.4100628,
          -5.3604536,
          1.1370915,
          -4.2085915,
          -4.045492,
          7.5459704,
          -0.102755554,
          4.001163,
          -0.090433896,
          -5.543912,
          0.042389534,
          1.751429,
          -2.5925653,
          2.6670024,
          -2.0353756,
          -4.9348264,
          -0.18253493,
          -4.232534,
          0.12395702,
          3.3772135,
          6.054335,
          4.8313646,
          9.056184,
          -5.725786,
          -2.8762321,
          6.8879504,
          0.15194428,
          0.03734447,
          0.2940894,
          -3.607371,
          -0.17258486,
          -0.10320763,
          5.417442,
          -2.5145392,
          -3.3304062,
          -4.9687734,
          -0.1359492,
          -4.9852376,
          -0.46224377,
          0.00033050534,
          0.024630895,
          -5.368737,
          2.8825362,
          -0.256926,
          -0.42166358,
          4.0855184,
          -1.0721864,
          7.5627337,
          -3.888732,
          6.3268194,
          -3.5949328,
          -1.6209645,
          0.04070518,
          -4.735733,
          0.75933415,
          4.423918,
          -0.92396724,
          2.6747265,
          -2.7495868,
          -0.9831187,
          -0.26533276,
          5.656722,
          0.85181034,
          -3.0601187,
          -0.34386864,
          9.401655,
          -0.2539987,
          -0.84309304,
          -4.9254417,
          -0.2754903,
          0.66109776,
          7.69774,
          -2.5386083,
          -1.0304137,
          4.2820373,
          -0.23373199,
          -5.5550647,
          0.29419708,
          3.3145497,
          -0.042573903,
          -2.429443,
          -1.4927377,
          -1.5919849,
          -0.526854,
          7.2410007,
          -3.403978,
          -6.361244,
          -0.93114156,
          -2.5486045,
          4.964213,
          -2.6345584,
          -1.0073513,
          0.68008876,
          1.9560522,
          0.0003906026,
          6.3846474,
          -0.11590247,
          -4.584895,
          -2.2199628,
          -3.873,
          -1.1458588,
          -0.61096334,
          0.5426752,
          -3.2925885,
          -6.0190077,
          -0.54149675,
          0.05456208,
          -0.9318646,
          4.88553,
          -5.9095654,
          8.195326,
          0.38820744,
          -0.090578735,
          -2.3171768,
          -0.4767869,
          1.7090018,
          4.7088175,
          -3.0827265,
          0.8464159,
          -0.2595058,
          -0.33645502,
          3.2464716,
          -1.7782235,
          -5.0778823,
          -0.4302233,
          -0.20347436,
          -4.485773,
          3.007205,
          -3.464747,
          -0.038893007,
          4.591173,
          0.080737375,
          2.1038003,
          -0.08761494,
          2.5225296,
          -3.3834157,
          7.1255326,
          6.925955,
          -5.5202413,
          5.9777875,
          -3.6678383,
          5.542588,
          -0.70767343,
          -5.432682,
          4.120465,
          -0.10797506,
          7.1138577,
          1.691481,
          0.06713645,
          1.4071549,
          -4.5319757,
          -4.716629,
          -3.190014,
          -4.490814,
          -0.14916539,
          -0.35040152,
          -0.08773488,
          5.233013,
          6.1756763,
          -0.47950998,
          -3.1615002,
          -3.2809029,
          -3.149722,
          2.0718124,
          2.9585128,
          -0.57620114,
          -0.28605977,
          -5.125774,
          3.0210872,
          5.317236,
          -4.3787904,
          -0.12053357,
          -0.31456417,
          5.688433,
          -0.24927363,
          -5.7481694,
          -4.104222,
          -0.40375653,
          -1.4619869,
          -3.4748425,
          -0.18325725,
          0.26127636,
          0.5173745,
          -1.0622325,
          5.680275,
          2.2674222,
          -4.3344946,
          0.1898709,
          0.70088273,
          -3.7389827,
          -4.6191936,
          -3.9304008,
          0.60434246,
          0.812707,
          -2.3056395,
          7.970736,
          -3.0890398,
          -5.0670533,
          7.2938986,
          2.6459866,
          -3.4220126,
          -0.21911912,
          -4.857148,
          3.9929132,
          -3.4280822,
          -4.5551705,
          7.5071964,
          0.85063744,
          -0.27558148,
          -4.7813516,
          -0.6089356,
          0.05884607,
          6.1174583,
          -0.25701928,
          -6.445333,
          -3.422825,
          -4.976624,
          2.4531255,
          -0.6613754,
          5.876226,
          2.4676058,
          -0.13606715,
          -0.40002057,
          6.833802,
          -3.791582,
          0.36636078,
          4.2242765,
          -5.1475673,
          0.492369,
          -0.44269755,
          -4.608978,
          -0.6924975,
          -0.14765169,
          7.1642776,
          6.6695914,
          -0.2350572,
          -5.0681243,
          -3.2856667,
          -0.17226556,
          -6.351943,
          -0.3022297,
          -4.666967,
          1.4663744,
          -2.175306,
          -4.9863696,
          0.26991752,
          -0.45764932,
          -0.10758682,
          -4.9843845,
          -2.8222313,
          -0.34951356,
          7.6300917,
          4.367615,
          -5.6965966,
          -4.2910085,
          -0.8934383,
          -0.22721457,
          -0.0802622,
          -1.419192,
          -0.13792317,
          -0.3086372,
          -5.052789,
          8.147385,
          6.4613576,
          8.585631,
          5.3753014,
          -3.3880746,
          -4.276616,
          -5.057292,
          2.8067498,
          -4.06239,
          -5.2278223,
          5.4267893,
          -0.2893523,
          -4.3837223,
          0.024777858,
          -0.5067887,
          5.540464,
          -5.0906143,
          -0.34197462,
          -0.3422242,
          -0.18427925,
          -4.3570795,
          -3.2190611,
          -2.26775,
          -0.10844185,
          5.0503554,
          -3.0584366,
          -0.5143476,
          3.9436934,
          -3.5505729,
          0.01033537,
          -0.18539128,
          -0.2645368,
          -0.40407723,
          -2.8014705,
          -0.24244437,
          6.0991015,
          4.2256227,
          1.9441719,
          0.22089402,
          4.156536,
          -0.17807767,
          3.7754335,
          -0.12524214,
          4.8683186,
          -4.4920955,
          0.2136649,
          -2.9212182,
          6.820332,
          -3.3154922,
          -0.017860569,
          -0.15989241,
          4.4367485,
          4.144457,
          -0.18509819,
          -4.3939943,
          3.4690645,
          -5.7294545,
          7.5945354,
          8.922146,
          5.392646,
          -3.8246677,
          4.843941,
          -0.035124514,
          5.12865,
          6.7938595,
          7.311432,
          -1.2720168,
          -0.21045855,
          6.3096175,
          -2.4446979,
          -0.48515767,
          -0.18777248,
          4.133184,
          -0.23915835,
          -0.14276339,
          -0.9649209,
          -0.56876457,
          -2.8233707,
          4.191692,
          -4.8368177,
          4.224719,
          0.19024558,
          -0.30666316,
          0.37221426,
          -4.9840436,
          -1.1275556,
          0.27878496,
          -0.11817549,
          -3.5356925,
          -0.26470077,
          -0.23699346,
          -4.1797166,
          0.102361314,
          -5.4030414,
          5.288226,
          0.34343034,
          -5.920028,
          -3.2415783,
          -0.48046196,
          2.949092,
          -4.034286,
          -0.04914221,
          0.07977412,
          -0.44046304,
          -3.0678785,
          0.7757001,
          -2.1390042,
          -5.9165587,
          -0.6036923,
          -5.989314,
          4.882937,
          -4.4115987,
          0.117312,
          -3.2449865,
          -4.9427743,
          -4.572749,
          -2.6332376,
          -5.027849,
          -2.3488202,
          3.5285845,
          5.0402517,
          0.18758783,
          -2.5938377,
          3.8382864,
          -0.95225763,
          -4.753638,
          1.2552627,
          -0.26254207,
          -4.919666,
          0.015470937,
          -1.2856025,
          5.651172,
          -4.054638
         ],
         "yaxis": "y"
        },
        {
         "customdata": [
          [
           "chinese"
          ]
         ],
         "hovertemplate": "highlight=%{text}<br>x=%{x}<br>y=%{y}<br>word=%{customdata[0]}<extra></extra>",
         "legendgroup": "chinese",
         "marker": {
          "color": "#EF553B",
          "symbol": "circle"
         },
         "mode": "markers+text",
         "name": "chinese",
         "showlegend": true,
         "text": [
          "chinese"
         ],
         "type": "scattergl",
         "x": [
          -4.931058
         ],
         "xaxis": "x",
         "y": [
          -1.031061
         ],
         "yaxis": "y"
        }
       ],
       "layout": {
        "legend": {
         "title": {
          "text": "highlight"
         },
         "tracegroupgap": 0
        },
        "template": {
         "data": {
          "bar": [
           {
            "error_x": {
             "color": "#2a3f5f"
            },
            "error_y": {
             "color": "#2a3f5f"
            },
            "marker": {
             "line": {
              "color": "#E5ECF6",
              "width": 0.5
             },
             "pattern": {
              "fillmode": "overlay",
              "size": 10,
              "solidity": 0.2
             }
            },
            "type": "bar"
           }
          ],
          "barpolar": [
           {
            "marker": {
             "line": {
              "color": "#E5ECF6",
              "width": 0.5
             },
             "pattern": {
              "fillmode": "overlay",
              "size": 10,
              "solidity": 0.2
             }
            },
            "type": "barpolar"
           }
          ],
          "carpet": [
           {
            "aaxis": {
             "endlinecolor": "#2a3f5f",
             "gridcolor": "white",
             "linecolor": "white",
             "minorgridcolor": "white",
             "startlinecolor": "#2a3f5f"
            },
            "baxis": {
             "endlinecolor": "#2a3f5f",
             "gridcolor": "white",
             "linecolor": "white",
             "minorgridcolor": "white",
             "startlinecolor": "#2a3f5f"
            },
            "type": "carpet"
           }
          ],
          "choropleth": [
           {
            "colorbar": {
             "outlinewidth": 0,
             "ticks": ""
            },
            "type": "choropleth"
           }
          ],
          "contour": [
           {
            "colorbar": {
             "outlinewidth": 0,
             "ticks": ""
            },
            "colorscale": [
             [
              0,
              "#0d0887"
             ],
             [
              0.1111111111111111,
              "#46039f"
             ],
             [
              0.2222222222222222,
              "#7201a8"
             ],
             [
              0.3333333333333333,
              "#9c179e"
             ],
             [
              0.4444444444444444,
              "#bd3786"
             ],
             [
              0.5555555555555556,
              "#d8576b"
             ],
             [
              0.6666666666666666,
              "#ed7953"
             ],
             [
              0.7777777777777778,
              "#fb9f3a"
             ],
             [
              0.8888888888888888,
              "#fdca26"
             ],
             [
              1,
              "#f0f921"
             ]
            ],
            "type": "contour"
           }
          ],
          "contourcarpet": [
           {
            "colorbar": {
             "outlinewidth": 0,
             "ticks": ""
            },
            "type": "contourcarpet"
           }
          ],
          "heatmap": [
           {
            "colorbar": {
             "outlinewidth": 0,
             "ticks": ""
            },
            "colorscale": [
             [
              0,
              "#0d0887"
             ],
             [
              0.1111111111111111,
              "#46039f"
             ],
             [
              0.2222222222222222,
              "#7201a8"
             ],
             [
              0.3333333333333333,
              "#9c179e"
             ],
             [
              0.4444444444444444,
              "#bd3786"
             ],
             [
              0.5555555555555556,
              "#d8576b"
             ],
             [
              0.6666666666666666,
              "#ed7953"
             ],
             [
              0.7777777777777778,
              "#fb9f3a"
             ],
             [
              0.8888888888888888,
              "#fdca26"
             ],
             [
              1,
              "#f0f921"
             ]
            ],
            "type": "heatmap"
           }
          ],
          "heatmapgl": [
           {
            "colorbar": {
             "outlinewidth": 0,
             "ticks": ""
            },
            "colorscale": [
             [
              0,
              "#0d0887"
             ],
             [
              0.1111111111111111,
              "#46039f"
             ],
             [
              0.2222222222222222,
              "#7201a8"
             ],
             [
              0.3333333333333333,
              "#9c179e"
             ],
             [
              0.4444444444444444,
              "#bd3786"
             ],
             [
              0.5555555555555556,
              "#d8576b"
             ],
             [
              0.6666666666666666,
              "#ed7953"
             ],
             [
              0.7777777777777778,
              "#fb9f3a"
             ],
             [
              0.8888888888888888,
              "#fdca26"
             ],
             [
              1,
              "#f0f921"
             ]
            ],
            "type": "heatmapgl"
           }
          ],
          "histogram": [
           {
            "marker": {
             "pattern": {
              "fillmode": "overlay",
              "size": 10,
              "solidity": 0.2
             }
            },
            "type": "histogram"
           }
          ],
          "histogram2d": [
           {
            "colorbar": {
             "outlinewidth": 0,
             "ticks": ""
            },
            "colorscale": [
             [
              0,
              "#0d0887"
             ],
             [
              0.1111111111111111,
              "#46039f"
             ],
             [
              0.2222222222222222,
              "#7201a8"
             ],
             [
              0.3333333333333333,
              "#9c179e"
             ],
             [
              0.4444444444444444,
              "#bd3786"
             ],
             [
              0.5555555555555556,
              "#d8576b"
             ],
             [
              0.6666666666666666,
              "#ed7953"
             ],
             [
              0.7777777777777778,
              "#fb9f3a"
             ],
             [
              0.8888888888888888,
              "#fdca26"
             ],
             [
              1,
              "#f0f921"
             ]
            ],
            "type": "histogram2d"
           }
          ],
          "histogram2dcontour": [
           {
            "colorbar": {
             "outlinewidth": 0,
             "ticks": ""
            },
            "colorscale": [
             [
              0,
              "#0d0887"
             ],
             [
              0.1111111111111111,
              "#46039f"
             ],
             [
              0.2222222222222222,
              "#7201a8"
             ],
             [
              0.3333333333333333,
              "#9c179e"
             ],
             [
              0.4444444444444444,
              "#bd3786"
             ],
             [
              0.5555555555555556,
              "#d8576b"
             ],
             [
              0.6666666666666666,
              "#ed7953"
             ],
             [
              0.7777777777777778,
              "#fb9f3a"
             ],
             [
              0.8888888888888888,
              "#fdca26"
             ],
             [
              1,
              "#f0f921"
             ]
            ],
            "type": "histogram2dcontour"
           }
          ],
          "mesh3d": [
           {
            "colorbar": {
             "outlinewidth": 0,
             "ticks": ""
            },
            "type": "mesh3d"
           }
          ],
          "parcoords": [
           {
            "line": {
             "colorbar": {
              "outlinewidth": 0,
              "ticks": ""
             }
            },
            "type": "parcoords"
           }
          ],
          "pie": [
           {
            "automargin": true,
            "type": "pie"
           }
          ],
          "scatter": [
           {
            "fillpattern": {
             "fillmode": "overlay",
             "size": 10,
             "solidity": 0.2
            },
            "type": "scatter"
           }
          ],
          "scatter3d": [
           {
            "line": {
             "colorbar": {
              "outlinewidth": 0,
              "ticks": ""
             }
            },
            "marker": {
             "colorbar": {
              "outlinewidth": 0,
              "ticks": ""
             }
            },
            "type": "scatter3d"
           }
          ],
          "scattercarpet": [
           {
            "marker": {
             "colorbar": {
              "outlinewidth": 0,
              "ticks": ""
             }
            },
            "type": "scattercarpet"
           }
          ],
          "scattergeo": [
           {
            "marker": {
             "colorbar": {
              "outlinewidth": 0,
              "ticks": ""
             }
            },
            "type": "scattergeo"
           }
          ],
          "scattergl": [
           {
            "marker": {
             "colorbar": {
              "outlinewidth": 0,
              "ticks": ""
             }
            },
            "type": "scattergl"
           }
          ],
          "scattermapbox": [
           {
            "marker": {
             "colorbar": {
              "outlinewidth": 0,
              "ticks": ""
             }
            },
            "type": "scattermapbox"
           }
          ],
          "scatterpolar": [
           {
            "marker": {
             "colorbar": {
              "outlinewidth": 0,
              "ticks": ""
             }
            },
            "type": "scatterpolar"
           }
          ],
          "scatterpolargl": [
           {
            "marker": {
             "colorbar": {
              "outlinewidth": 0,
              "ticks": ""
             }
            },
            "type": "scatterpolargl"
           }
          ],
          "scatterternary": [
           {
            "marker": {
             "colorbar": {
              "outlinewidth": 0,
              "ticks": ""
             }
            },
            "type": "scatterternary"
           }
          ],
          "surface": [
           {
            "colorbar": {
             "outlinewidth": 0,
             "ticks": ""
            },
            "colorscale": [
             [
              0,
              "#0d0887"
             ],
             [
              0.1111111111111111,
              "#46039f"
             ],
             [
              0.2222222222222222,
              "#7201a8"
             ],
             [
              0.3333333333333333,
              "#9c179e"
             ],
             [
              0.4444444444444444,
              "#bd3786"
             ],
             [
              0.5555555555555556,
              "#d8576b"
             ],
             [
              0.6666666666666666,
              "#ed7953"
             ],
             [
              0.7777777777777778,
              "#fb9f3a"
             ],
             [
              0.8888888888888888,
              "#fdca26"
             ],
             [
              1,
              "#f0f921"
             ]
            ],
            "type": "surface"
           }
          ],
          "table": [
           {
            "cells": {
             "fill": {
              "color": "#EBF0F8"
             },
             "line": {
              "color": "white"
             }
            },
            "header": {
             "fill": {
              "color": "#C8D4E3"
             },
             "line": {
              "color": "white"
             }
            },
            "type": "table"
           }
          ]
         },
         "layout": {
          "annotationdefaults": {
           "arrowcolor": "#2a3f5f",
           "arrowhead": 0,
           "arrowwidth": 1
          },
          "autotypenumbers": "strict",
          "coloraxis": {
           "colorbar": {
            "outlinewidth": 0,
            "ticks": ""
           }
          },
          "colorscale": {
           "diverging": [
            [
             0,
             "#8e0152"
            ],
            [
             0.1,
             "#c51b7d"
            ],
            [
             0.2,
             "#de77ae"
            ],
            [
             0.3,
             "#f1b6da"
            ],
            [
             0.4,
             "#fde0ef"
            ],
            [
             0.5,
             "#f7f7f7"
            ],
            [
             0.6,
             "#e6f5d0"
            ],
            [
             0.7,
             "#b8e186"
            ],
            [
             0.8,
             "#7fbc41"
            ],
            [
             0.9,
             "#4d9221"
            ],
            [
             1,
             "#276419"
            ]
           ],
           "sequential": [
            [
             0,
             "#0d0887"
            ],
            [
             0.1111111111111111,
             "#46039f"
            ],
            [
             0.2222222222222222,
             "#7201a8"
            ],
            [
             0.3333333333333333,
             "#9c179e"
            ],
            [
             0.4444444444444444,
             "#bd3786"
            ],
            [
             0.5555555555555556,
             "#d8576b"
            ],
            [
             0.6666666666666666,
             "#ed7953"
            ],
            [
             0.7777777777777778,
             "#fb9f3a"
            ],
            [
             0.8888888888888888,
             "#fdca26"
            ],
            [
             1,
             "#f0f921"
            ]
           ],
           "sequentialminus": [
            [
             0,
             "#0d0887"
            ],
            [
             0.1111111111111111,
             "#46039f"
            ],
            [
             0.2222222222222222,
             "#7201a8"
            ],
            [
             0.3333333333333333,
             "#9c179e"
            ],
            [
             0.4444444444444444,
             "#bd3786"
            ],
            [
             0.5555555555555556,
             "#d8576b"
            ],
            [
             0.6666666666666666,
             "#ed7953"
            ],
            [
             0.7777777777777778,
             "#fb9f3a"
            ],
            [
             0.8888888888888888,
             "#fdca26"
            ],
            [
             1,
             "#f0f921"
            ]
           ]
          },
          "colorway": [
           "#636efa",
           "#EF553B",
           "#00cc96",
           "#ab63fa",
           "#FFA15A",
           "#19d3f3",
           "#FF6692",
           "#B6E880",
           "#FF97FF",
           "#FECB52"
          ],
          "font": {
           "color": "#2a3f5f"
          },
          "geo": {
           "bgcolor": "white",
           "lakecolor": "white",
           "landcolor": "#E5ECF6",
           "showlakes": true,
           "showland": true,
           "subunitcolor": "white"
          },
          "hoverlabel": {
           "align": "left"
          },
          "hovermode": "closest",
          "mapbox": {
           "style": "light"
          },
          "paper_bgcolor": "white",
          "plot_bgcolor": "#E5ECF6",
          "polar": {
           "angularaxis": {
            "gridcolor": "white",
            "linecolor": "white",
            "ticks": ""
           },
           "bgcolor": "#E5ECF6",
           "radialaxis": {
            "gridcolor": "white",
            "linecolor": "white",
            "ticks": ""
           }
          },
          "scene": {
           "xaxis": {
            "backgroundcolor": "#E5ECF6",
            "gridcolor": "white",
            "gridwidth": 2,
            "linecolor": "white",
            "showbackground": true,
            "ticks": "",
            "zerolinecolor": "white"
           },
           "yaxis": {
            "backgroundcolor": "#E5ECF6",
            "gridcolor": "white",
            "gridwidth": 2,
            "linecolor": "white",
            "showbackground": true,
            "ticks": "",
            "zerolinecolor": "white"
           },
           "zaxis": {
            "backgroundcolor": "#E5ECF6",
            "gridcolor": "white",
            "gridwidth": 2,
            "linecolor": "white",
            "showbackground": true,
            "ticks": "",
            "zerolinecolor": "white"
           }
          },
          "shapedefaults": {
           "line": {
            "color": "#2a3f5f"
           }
          },
          "ternary": {
           "aaxis": {
            "gridcolor": "white",
            "linecolor": "white",
            "ticks": ""
           },
           "baxis": {
            "gridcolor": "white",
            "linecolor": "white",
            "ticks": ""
           },
           "bgcolor": "#E5ECF6",
           "caxis": {
            "gridcolor": "white",
            "linecolor": "white",
            "ticks": ""
           }
          },
          "title": {
           "x": 0.05
          },
          "xaxis": {
           "automargin": true,
           "gridcolor": "white",
           "linecolor": "white",
           "ticks": "",
           "title": {
            "standoff": 15
           },
           "zerolinecolor": "white",
           "zerolinewidth": 2
          },
          "yaxis": {
           "automargin": true,
           "gridcolor": "white",
           "linecolor": "white",
           "ticks": "",
           "title": {
            "standoff": 15
           },
           "zerolinecolor": "white",
           "zerolinewidth": 2
          }
         }
        },
        "title": {
         "text": " Visualization of 2D PCA of the legal-BERT Word Embeddings"
        },
        "xaxis": {
         "anchor": "y",
         "domain": [
          0,
          1
         ],
         "title": {
          "text": "x"
         }
        },
        "yaxis": {
         "anchor": "x",
         "domain": [
          0,
          1
         ],
         "title": {
          "text": "y"
         }
        }
       }
      }
     },
     "metadata": {},
     "output_type": "display_data"
    }
   ],
   "source": [
    "import plotly.express as px\n",
    "df_pca = pandas.DataFrame(pca_results, columns = ['x', 'y'])\n",
    "df_pca['word'] = list(bert_word_embeddings.keys())\n",
    "# Highlight the word 'chinese' in the plot\n",
    "df_pca['highlight'] = df_pca['word'].apply(lambda x: 'chinese' if x == 'chinese' else '')\n",
    "\n",
    "fig = px.scatter(\n",
    "    df_pca,\n",
    "    x='x',\n",
    "    y='y',\n",
    "    title=' Visualization of 2D PCA of the legal-BERT Word Embeddings',\n",
    "    color='highlight',                        \n",
    "    hover_data=['word'], \n",
    "    text= 'highlight'\n",
    ")\n",
    "\n",
    "fig.show()"
   ]
  },
  {
   "cell_type": "code",
   "execution_count": 17,
   "id": "194ef04f",
   "metadata": {},
   "outputs": [],
   "source": [
    "# Generate a t-SNE plot for visualization\n",
    "from sklearn.manifold import TSNE\n",
    "tsne = TSNE(n_components=2, random_state=42)\n",
    "\n",
    "tsne_results = tsne.fit_transform(word_embeddings)"
   ]
  },
  {
   "cell_type": "code",
   "execution_count": 18,
   "id": "f996fd92",
   "metadata": {},
   "outputs": [
    {
     "name": "stderr",
     "output_type": "stream",
     "text": [
      "c:\\Users\\Kaiyan Zhang\\AppData\\Local\\Programs\\Python\\Python312\\Lib\\site-packages\\plotly\\express\\_core.py:1983: FutureWarning:\n",
      "\n",
      "When grouping with a length-1 list-like, you will need to pass a length-1 tuple to get_group in a future version of pandas. Pass `(name,)` instead of `name` to silence this warning.\n",
      "\n"
     ]
    },
    {
     "data": {
      "application/vnd.plotly.v1+json": {
       "config": {
        "plotlyServerURL": "https://plot.ly"
       },
       "data": [
        {
         "customdata": [
          [
           "destroy"
          ],
          [
           "entire"
          ],
          [
           "exhumation"
          ],
          [
           "object"
          ],
          [
           "7"
          ],
          [
           "recovery"
          ],
          [
           "soon"
          ],
          [
           "up"
          ],
          [
           "commission"
          ],
          [
           "13"
          ],
          [
           "many"
          ],
          [
           "50"
          ],
          [
           "right"
          ],
          [
           "imperial"
          ],
          [
           "incompatible"
          ],
          [
           "light"
          ],
          [
           "done"
          ],
          [
           "strong"
          ],
          [
           "washburn"
          ],
          [
           "element"
          ],
          [
           "instanced"
          ],
          [
           "disallowed"
          ],
          [
           "p"
          ],
          [
           "method"
          ],
          [
           "its"
          ],
          [
           "bearing"
          ],
          [
           "appeared"
          ],
          [
           "liable"
          ],
          [
           "licensea"
          ],
          [
           "then"
          ],
          [
           "case"
          ],
          [
           "accused"
          ],
          [
           "alien"
          ],
          [
           "starts"
          ],
          [
           "legislation"
          ],
          [
           "preceding"
          ],
          [
           "impost"
          ],
          [
           "obligations"
          ],
          [
           "cognizance"
          ],
          [
           "lord"
          ],
          [
           "considered"
          ],
          [
           "invalid"
          ],
          [
           "delin"
          ],
          [
           "beyond"
          ],
          [
           "permissible"
          ],
          [
           "occupations"
          ],
          [
           "exclusive"
          ],
          [
           "presumption"
          ],
          [
           "decided"
          ],
          [
           "forfeit"
          ],
          [
           "over"
          ],
          [
           "establishing"
          ],
          [
           "nonproduction"
          ],
          [
           "sanitary"
          ],
          [
           "applying"
          ],
          [
           "after"
          ],
          [
           "may"
          ],
          [
           "579"
          ],
          [
           "parliament"
          ],
          [
           "lawfully"
          ],
          [
           "aforesaid"
          ],
          [
           "so"
          ],
          [
           "retained"
          ],
          [
           "languishing"
          ],
          [
           "expenditure"
          ],
          [
           "gives"
          ],
          [
           "imposing"
          ],
          [
           "whole"
          ],
          [
           "16th"
          ],
          [
           "june"
          ],
          [
           "amended"
          ],
          [
           "queen"
          ],
          [
           "laid"
          ],
          [
           "himself"
          ],
          [
           "25"
          ],
          [
           "act"
          ],
          [
           "care"
          ],
          [
           "rule"
          ],
          [
           "of"
          ],
          [
           "premiss"
          ],
          [
           "drawn"
          ],
          [
           "artists"
          ],
          [
           "insisted"
          ],
          [
           "invidious"
          ],
          [
           "otherscooleys"
          ],
          [
           "guiding"
          ],
          [
           "principles"
          ],
          [
           "every"
          ],
          [
           "collectors"
          ],
          [
           "everything"
          ],
          [
           "risk"
          ],
          [
           "poll"
          ],
          [
           "132"
          ],
          [
           "foreigners"
          ],
          [
           "exemption"
          ],
          [
           "secure"
          ],
          [
           "richards"
          ],
          [
           "itself"
          ],
          [
           "indeed"
          ],
          [
           "rights"
          ],
          [
           "precedent"
          ],
          [
           "bristles"
          ],
          [
           "order"
          ],
          [
           "service"
          ],
          [
           "julyon"
          ],
          [
           "qb"
          ],
          [
           "exclusively"
          ],
          [
           "priceless"
          ],
          [
           "co"
          ],
          [
           "necessarily"
          ],
          [
           "selborne"
          ],
          [
           "dominion"
          ],
          [
           "knew"
          ],
          [
           "encroach"
          ],
          [
           "alleged"
          ],
          [
           "bestow"
          ],
          [
           "b"
          ],
          [
           "colonies"
          ],
          [
           "referring"
          ],
          [
           "present"
          ],
          [
           "15th"
          ],
          [
           "gwynne"
          ],
          [
           "particularized"
          ],
          [
           "consideration"
          ],
          [
           "somewhat"
          ],
          [
           "hundred"
          ],
          [
           "name"
          ],
          [
           "showing"
          ],
          [
           "find"
          ],
          [
           "strangers"
          ],
          [
           "concurrent"
          ],
          [
           "part"
          ],
          [
           "gradually"
          ],
          [
           "possession"
          ],
          [
           "free"
          ],
          [
           "and"
          ],
          [
           "exceed"
          ],
          [
           "becomes"
          ],
          [
           "labour"
          ],
          [
           "imprisoned"
          ],
          [
           "dominions"
          ],
          [
           "whom"
          ],
          [
           "discriminations"
          ],
          [
           "extraordinary"
          ],
          [
           "forefathersthat"
          ],
          [
           "criminal"
          ],
          [
           "1884"
          ],
          [
           "test"
          ],
          [
           "coloured"
          ],
          [
           "amends"
          ],
          [
           "binding"
          ],
          [
           "allow"
          ],
          [
           "secretary"
          ],
          [
           "goes"
          ],
          [
           "towithin"
          ],
          [
           "admits"
          ],
          [
           "respectively"
          ],
          [
           "delegatus"
          ],
          [
           "issued"
          ],
          [
           "pronouncing"
          ],
          [
           "ports"
          ],
          [
           "july"
          ],
          [
           "today"
          ],
          [
           "afford"
          ],
          [
           "had"
          ],
          [
           "utter"
          ],
          [
           "strongly"
          ],
          [
           "things"
          ],
          [
           "sum"
          ],
          [
           "burden"
          ],
          [
           "were"
          ],
          [
           "described"
          ],
          [
           "run"
          ],
          [
           "summarily"
          ],
          [
           "away"
          ],
          [
           "especial"
          ],
          [
           "northwest"
          ],
          [
           "appointment"
          ],
          [
           "opponents"
          ],
          [
           "affect"
          ],
          [
           "justice"
          ],
          [
           "might"
          ],
          [
           "in"
          ],
          [
           "view"
          ],
          [
           "naturalization"
          ],
          [
           "report"
          ],
          [
           "word"
          ],
          [
           "particular"
          ],
          [
           "render"
          ],
          [
           "let"
          ],
          [
           "thereafter"
          ],
          [
           "wanted"
          ],
          [
           "but"
          ],
          [
           "coming"
          ],
          [
           "policy"
          ],
          [
           "sessional"
          ],
          [
           "provinces"
          ],
          [
           "elaborate"
          ],
          [
           "candle"
          ],
          [
           "92alienstrade"
          ],
          [
           "review"
          ],
          [
           "irrespective"
          ],
          [
           "already"
          ],
          [
           "definition"
          ],
          [
           "provision"
          ],
          [
           "judge"
          ],
          [
           "naturalized"
          ],
          [
           "5"
          ],
          [
           "q"
          ],
          [
           "otherwise"
          ],
          [
           "privy"
          ],
          [
           "city"
          ],
          [
           "included"
          ],
          [
           "observer"
          ],
          [
           "information"
          ],
          [
           "position"
          ],
          [
           "disobeying"
          ],
          [
           "man"
          ],
          [
           "successful"
          ],
          [
           "fully"
          ],
          [
           "lin"
          ],
          [
           "settlement"
          ],
          [
           "conclusive"
          ],
          [
           "always"
          ],
          [
           "exceeding"
          ],
          [
           "happens"
          ],
          [
           "cases"
          ],
          [
           "once"
          ],
          [
           "was"
          ],
          [
           "decision"
          ],
          [
           "illegality"
          ],
          [
           "parents"
          ],
          [
           "assumption"
          ],
          [
           "call"
          ],
          [
           "convicted"
          ],
          [
           "severn"
          ],
          [
           "business"
          ],
          [
           "confronted"
          ],
          [
           "raise"
          ],
          [
           "expel"
          ],
          [
           "mousseau"
          ],
          [
           "be"
          ],
          [
           "license"
          ],
          [
           "impede"
          ],
          [
           "principiinot"
          ],
          [
           "been"
          ],
          [
           "tai"
          ],
          [
           "therein"
          ],
          [
           "limit"
          ],
          [
           "validity"
          ],
          [
           "bylaws"
          ],
          [
           "us"
          ],
          [
           "room"
          ],
          [
           "frenchmen"
          ],
          [
           "branch"
          ],
          [
           "members"
          ],
          [
           "recovered"
          ],
          [
           "convenience"
          ],
          [
           "body"
          ],
          [
           "reserved"
          ],
          [
           "reside"
          ],
          [
           "restrained"
          ],
          [
           "without"
          ],
          [
           "635"
          ],
          [
           "opium"
          ],
          [
           "look"
          ],
          [
           "dissenting"
          ],
          [
           "temporary"
          ],
          [
           "some"
          ],
          [
           "representatives"
          ],
          [
           "does"
          ],
          [
           "these"
          ],
          [
           "tax"
          ],
          [
           "40"
          ],
          [
           "papers"
          ],
          [
           "said"
          ],
          [
           "money"
          ],
          [
           "tax1st"
          ],
          [
           "still"
          ],
          [
           "reverses"
          ],
          [
           "356"
          ],
          [
           "municipal"
          ],
          [
           "appears"
          ],
          [
           "acknowledged"
          ],
          [
           "governments"
          ],
          [
           "practically"
          ],
          [
           "place"
          ],
          [
           "inequality"
          ],
          [
           "hangs"
          ],
          [
           "potters"
          ],
          [
           "1"
          ],
          [
           "cherished"
          ],
          [
           "dollar"
          ],
          [
           "union"
          ],
          [
           "with"
          ],
          [
           "nature"
          ],
          [
           "saysit"
          ],
          [
           "ones"
          ],
          [
           "ss"
          ],
          [
           "dissented"
          ],
          [
           "seizure"
          ],
          [
           "equivalent"
          ],
          [
           "nor"
          ],
          [
           "throughout"
          ],
          [
           "treaty"
          ],
          [
           "purposes"
          ],
          [
           "dues"
          ],
          [
           "hot"
          ],
          [
           "occupy"
          ],
          [
           "dollars"
          ],
          [
           "judgment"
          ],
          [
           "1842"
          ],
          [
           "new"
          ],
          [
           "kept"
          ],
          [
           "limits"
          ],
          [
           "am"
          ],
          [
           "working"
          ],
          [
           "entitled"
          ],
          [
           "comparing"
          ],
          [
           "called"
          ],
          [
           "assessments"
          ],
          [
           "revenue"
          ],
          [
           "21"
          ],
          [
           "kents"
          ],
          [
           "hesitation"
          ],
          [
           "satisfactorily"
          ],
          [
           "legislative"
          ],
          [
           "apparently"
          ],
          [
           "persecuted"
          ],
          [
           "states"
          ],
          [
           "for"
          ],
          [
           "are"
          ],
          [
           "neither"
          ],
          [
           "dealing"
          ],
          [
           "specially"
          ],
          [
           "pecuniary"
          ],
          [
           "past"
          ],
          [
           "autonomy"
          ],
          [
           "cooley"
          ],
          [
           "buildings"
          ],
          [
           "272"
          ],
          [
           "wilfully"
          ],
          [
           "issue"
          ],
          [
           "deterrent"
          ],
          [
           "24"
          ],
          [
           "legislating"
          ],
          [
           "protection"
          ],
          [
           "danger"
          ],
          [
           "fettered"
          ],
          [
           "freely"
          ],
          [
           "annual"
          ],
          [
           "duty"
          ],
          [
           "tables"
          ],
          [
           "conferred"
          ],
          [
           "92"
          ],
          [
           "take"
          ],
          [
           "his"
          ],
          [
           "numbers"
          ],
          [
           "demanded"
          ],
          [
           "contending"
          ],
          [
           "vain"
          ],
          [
           "quashed"
          ],
          [
           "conflict"
          ],
          [
           "italians"
          ],
          [
           "first"
          ],
          [
           "carrying"
          ],
          [
           "81st"
          ],
          [
           "interfering"
          ],
          [
           "residents"
          ],
          [
           "ritchie"
          ],
          [
           "officer"
          ],
          [
           "relating"
          ],
          [
           "further"
          ],
          [
           "conscientious"
          ],
          [
           "regina"
          ],
          [
           "31"
          ],
          [
           "parsons"
          ],
          [
           "employé"
          ],
          [
           "as"
          ],
          [
           "ottawa"
          ],
          [
           "progresses"
          ],
          [
           "creation"
          ],
          [
           "subjected"
          ],
          [
           "relations"
          ],
          [
           "received"
          ],
          [
           "anything"
          ],
          [
           "skilled"
          ],
          [
           "stringent"
          ],
          [
           "legality"
          ],
          [
           "equality"
          ],
          [
           "provincesay"
          ],
          [
           "found"
          ],
          [
           "proportion"
          ],
          [
           "legislatures"
          ],
          [
           "omnipotent"
          ],
          [
           "field"
          ],
          [
           "22"
          ],
          [
           "liability"
          ],
          [
           "contain"
          ],
          [
           "notably"
          ],
          [
           "directed"
          ],
          [
           "subversive"
          ],
          [
           "goods"
          ],
          [
           "own"
          ],
          [
           "held"
          ],
          [
           "customs"
          ],
          [
           "unmolested"
          ],
          [
           "remarks"
          ],
          [
           "ordinance"
          ],
          [
           "bayonet"
          ],
          [
           "court"
          ],
          [
           "defendant"
          ],
          [
           "enumerated"
          ],
          [
           "certain"
          ],
          [
           "executive"
          ],
          [
           "acted"
          ],
          [
           "enter"
          ],
          [
           "provisions"
          ],
          [
           "influences"
          ],
          [
           "protected"
          ],
          [
           "2"
          ],
          [
           "legislate"
          ],
          [
           "support"
          ],
          [
           "9"
          ],
          [
           "their"
          ],
          [
           "residing"
          ],
          [
           "contribute"
          ],
          [
           "6267"
          ],
          [
           "schedule"
          ],
          [
           "well"
          ],
          [
           "authority"
          ],
          [
           "purpose"
          ],
          [
           "power"
          ],
          [
           "subjects"
          ],
          [
           "dependencies"
          ],
          [
           "confide"
          ],
          [
           "title"
          ],
          [
           "cause"
          ],
          [
           "lessening"
          ],
          [
           "quent"
          ],
          [
           "manitobawhere"
          ],
          [
           "landing"
          ],
          [
           "empire"
          ],
          [
           "drive"
          ],
          [
           "8"
          ],
          [
           "bounds"
          ],
          [
           "various"
          ],
          [
           "between"
          ],
          [
           "carry"
          ],
          [
           "n"
          ],
          [
           "statement"
          ],
          [
           "bind"
          ],
          [
           "421"
          ],
          [
           "91st"
          ],
          [
           "6"
          ],
          [
           "maintained"
          ],
          [
           "5th"
          ],
          [
           "consequently"
          ],
          [
           "sister"
          ],
          [
           "chattels"
          ],
          [
           "carries"
          ],
          [
           "dwellings"
          ],
          [
           "autonomous"
          ],
          [
           "although"
          ],
          [
           "last"
          ],
          [
           "1885crease"
          ],
          [
           "chongthe"
          ],
          [
           "cas"
          ],
          [
           "all"
          ],
          [
           "later"
          ],
          [
           "1885"
          ],
          [
           "terms"
          ],
          [
           "materially"
          ],
          [
           "expression"
          ],
          [
           "should"
          ],
          [
           "which"
          ],
          [
           "encourage"
          ],
          [
           "sound"
          ],
          [
           "size"
          ],
          [
           "greater"
          ],
          [
           "at"
          ],
          [
           "20"
          ],
          [
           "undue"
          ],
          [
           "proceeds"
          ],
          [
           "payments"
          ],
          [
           "reasonable"
          ],
          [
           "restrict"
          ],
          [
           "declares"
          ],
          [
           "state"
          ],
          [
           "14th"
          ],
          [
           "4th"
          ],
          [
           "by"
          ],
          [
           "chong"
          ],
          [
           "constitutional"
          ],
          [
           "2nd"
          ],
          [
           "itcooley"
          ],
          [
           "time"
          ],
          [
           "passed"
          ],
          [
           "upon"
          ],
          [
           "consider"
          ],
          [
           "responsible"
          ],
          [
           "hertslet"
          ],
          [
           "deals"
          ],
          [
           "tribunal"
          ],
          [
           "burah"
          ],
          [
           "heirs"
          ],
          [
           "founded"
          ],
          [
           "provinceabrogates"
          ],
          [
           "multitude"
          ],
          [
           "discourage"
          ],
          [
           "costs"
          ],
          [
           "lieutenantgovernor"
          ],
          [
           "abate"
          ],
          [
           "down"
          ],
          [
           "tiburcio"
          ],
          [
           "suited"
          ],
          [
           "jonas"
          ],
          [
           "severe"
          ],
          [
           "penal"
          ],
          [
           "12"
          ],
          [
           "supposing"
          ],
          [
           "payment"
          ],
          [
           "hard"
          ],
          [
           "elgins"
          ],
          [
           "enforcing"
          ],
          [
           "product"
          ],
          [
           "dead"
          ],
          [
           "whartons"
          ],
          [
           "converse"
          ],
          [
           "desecrators"
          ],
          [
           "closing"
          ],
          [
           "employed"
          ],
          [
           "attorneygeneral"
          ],
          [
           "language"
          ],
          [
           "importance"
          ],
          [
           "charges"
          ],
          [
           "point"
          ],
          [
           "born"
          ],
          [
           "346"
          ],
          [
           "fifthlywhether"
          ],
          [
           "lend"
          ],
          [
           "tolerate"
          ],
          [
           "when"
          ],
          [
           "contention"
          ],
          [
           "dec"
          ],
          [
           "prescribe"
          ],
          [
           "paid"
          ],
          [
           "pursuit"
          ],
          [
           "put"
          ],
          [
           "delegation"
          ],
          [
           "opposed"
          ],
          [
           "illegal"
          ],
          [
           "fourthlyas"
          ],
          [
           "area"
          ],
          [
           "revision"
          ],
          [
           "cooleys"
          ],
          [
           "cropping"
          ],
          [
           "depart"
          ],
          [
           "mises"
          ],
          [
           "respect"
          ],
          [
           "immediate"
          ],
          [
           "gray"
          ],
          [
           "conviction"
          ],
          [
           "chandler"
          ],
          [
           "per"
          ],
          [
           "17"
          ],
          [
           "issuing"
          ],
          [
           "depends"
          ],
          [
           "apart"
          ],
          [
           "following"
          ],
          [
           "because"
          ],
          [
           "kong"
          ],
          [
           "former"
          ],
          [
           "describes"
          ],
          [
           "within"
          ],
          [
           "create"
          ],
          [
           "jointly"
          ],
          [
           "misconception"
          ],
          [
           "territory"
          ],
          [
           "native"
          ],
          [
           "result"
          ],
          [
           "has"
          ],
          [
           "than"
          ],
          [
           "not"
          ],
          [
           "gauge"
          ],
          [
           "extenso"
          ],
          [
           "sanction"
          ],
          [
           "observe"
          ],
          [
           "intent"
          ],
          [
           "clashes"
          ],
          [
           "control"
          ],
          [
           "appeal"
          ],
          [
           "direct"
          ],
          [
           "derived"
          ],
          [
           "copies"
          ],
          [
           "enforce"
          ],
          [
           "intra"
          ],
          [
           "russell"
          ],
          [
           "only"
          ],
          [
           "october"
          ],
          [
           "raising"
          ],
          [
           "above"
          ],
          [
           "28"
          ],
          [
           "emergencies"
          ],
          [
           "lunion"
          ],
          [
           "distance"
          ],
          [
           "council"
          ],
          [
           "licence"
          ],
          [
           "regulations"
          ],
          [
           "lands"
          ],
          [
           "twenty"
          ],
          [
           "question"
          ],
          [
           "miners"
          ],
          [
           "moment"
          ],
          [
           "70"
          ],
          [
           "special"
          ],
          [
           "governorgeneral"
          ],
          [
           "also"
          ],
          [
           "possessesits"
          ],
          [
           "5constitutionalitybna"
          ],
          [
           "pay"
          ],
          [
           "correctly"
          ],
          [
           "according"
          ],
          [
           "do"
          ],
          [
           "imposition"
          ],
          [
           "applicable"
          ],
          [
           "enjoyed"
          ],
          [
           "preserve"
          ],
          [
           "obiter"
          ],
          [
           "sale"
          ],
          [
           "limitation"
          ],
          [
           "829"
          ],
          [
           "outcry"
          ],
          [
           "default"
          ],
          [
           "hereto"
          ],
          [
           "legislature"
          ],
          [
           "interfered"
          ],
          [
           "restricting"
          ],
          [
           "did"
          ],
          [
           "incidental"
          ],
          [
           "altered"
          ],
          [
           "thus"
          ],
          [
           "irrefragable"
          ],
          [
           "juxtaposition"
          ],
          [
           "come"
          ],
          [
           "we"
          ],
          [
           "makes"
          ],
          [
           "reference"
          ],
          [
           "specified"
          ],
          [
           "circumstances"
          ],
          [
           "except"
          ],
          [
           "very"
          ],
          [
           "4"
          ],
          [
           "travellers"
          ],
          [
           "occupation"
          ],
          [
           "three"
          ],
          [
           "1858"
          ],
          [
           "large"
          ],
          [
           "party"
          ],
          [
           "magistrate"
          ],
          [
           "vattell"
          ],
          [
           "unequal"
          ],
          [
           "objection"
          ],
          [
           "occupied"
          ],
          [
           "shown"
          ],
          [
           "loss"
          ],
          [
           "scope"
          ],
          [
           "they"
          ],
          [
           "incessant"
          ],
          [
           "employer"
          ],
          [
           "rest"
          ],
          [
           "common"
          ],
          [
           "incidentally"
          ],
          [
           "21st"
          ],
          [
           "persons"
          ],
          [
           "defined"
          ],
          [
           "september"
          ],
          [
           "two"
          ],
          [
           "diminish"
          ],
          [
           "designated"
          ],
          [
           "lines"
          ],
          [
           "aliens"
          ],
          [
           "366"
          ],
          [
           "accompanying"
          ],
          [
           "male"
          ],
          [
           "clear"
          ],
          [
           "guilty"
          ],
          [
           "associated"
          ],
          [
           "principle"
          ],
          [
           "employ"
          ],
          [
           "possessed"
          ],
          [
           "pre"
          ],
          [
           "mandate"
          ],
          [
           "allowed"
          ],
          [
           "everywhere"
          ],
          [
           "brunswick"
          ],
          [
           "means"
          ],
          [
           "fair"
          ],
          [
           "callings"
          ],
          [
           "91"
          ],
          [
           "1500000"
          ],
          [
           "cal"
          ],
          [
           "authenticated"
          ],
          [
           "respects"
          ],
          [
           "age"
          ],
          [
           "proving"
          ],
          [
           "provisionsand"
          ],
          [
           "478"
          ],
          [
           "acquire"
          ],
          [
           "construction"
          ],
          [
           "failing"
          ],
          [
           "knowing"
          ],
          [
           "occupies"
          ],
          [
           "fiscal"
          ],
          [
           "or"
          ],
          [
           "rid"
          ],
          [
           "advantage"
          ],
          [
           "pass"
          ],
          [
           "sanctioned"
          ],
          [
           "define"
          ],
          [
           "how"
          ],
          [
           "delegare"
          ],
          [
           "dow"
          ],
          [
           "fourteen"
          ],
          [
           "instance"
          ],
          [
           "end"
          ],
          [
           "conduct"
          ],
          [
           "gilbert"
          ],
          [
           "3"
          ],
          [
           "among"
          ],
          [
           "most"
          ],
          [
           "will"
          ],
          [
           "follows"
          ],
          [
           "unsuited"
          ],
          [
           "ie"
          ],
          [
           "ourselves"
          ],
          [
           "determine"
          ],
          [
           "matters"
          ],
          [
           "consequences"
          ],
          [
           "countries"
          ],
          [
           "acting"
          ],
          [
           "vested"
          ],
          [
           "summons"
          ],
          [
           "community"
          ],
          [
           "cease"
          ],
          [
           "safeguards"
          ],
          [
           "159"
          ],
          [
           "other"
          ],
          [
           "must"
          ],
          [
           "a"
          ],
          [
           "fitting"
          ],
          [
           "taking"
          ],
          [
           "out"
          ],
          [
           "extreme"
          ],
          [
           "origin"
          ],
          [
           "interpretation"
          ],
          [
           "restraint"
          ],
          [
           "conditions"
          ],
          [
           "dated"
          ],
          [
           "charge"
          ],
          [
           "railway"
          ],
          [
           "months"
          ],
          [
           "on"
          ],
          [
           "lieu"
          ],
          [
           "st"
          ],
          [
           "help"
          ],
          [
           "parties"
          ],
          [
           "it"
          ],
          [
           "ont"
          ],
          [
           "provincial"
          ],
          [
           "several"
          ],
          [
           "recital"
          ],
          [
           "england"
          ],
          [
           "runs"
          ],
          [
           "belisle"
          ],
          [
           "recently"
          ],
          [
           "informant"
          ],
          [
           "proposition"
          ],
          [
           "differential"
          ],
          [
           "treasury"
          ],
          [
           "ceases"
          ],
          [
           "basis"
          ],
          [
           "purely"
          ],
          [
           "employment"
          ],
          [
           "decide"
          ],
          [
           "distress"
          ],
          [
           "payable"
          ],
          [
           "parts"
          ],
          [
           "who"
          ],
          [
           "whose"
          ],
          [
           "invasions"
          ],
          [
           "taught"
          ],
          [
           "such"
          ],
          [
           "334"
          ],
          [
           "todd"
          ],
          [
           "emperor"
          ],
          [
           "29"
          ],
          [
           "exhaustive"
          ],
          [
           "commercematters"
          ],
          [
           "sides"
          ],
          [
           "forty"
          ],
          [
           "plenitude"
          ],
          [
           "person"
          ],
          [
           "especially"
          ],
          [
           "something"
          ],
          [
           "wellknown"
          ],
          [
           "stat"
          ],
          [
           "sovereign"
          ],
          [
           "questions"
          ],
          [
           "criterion"
          ],
          [
           "23rd"
          ],
          [
           "tests"
          ],
          [
           "correctness"
          ],
          [
           "taxed"
          ],
          [
           "recognize"
          ],
          [
           "v"
          ],
          [
           "merchants"
          ],
          [
           "productive"
          ],
          [
           "232"
          ],
          [
           "penalties"
          ],
          [
           "government"
          ],
          [
           "opinion"
          ],
          [
           "property"
          ],
          [
           "enquiry"
          ],
          [
           "apply"
          ],
          [
           "limitations"
          ],
          [
           "required"
          ],
          [
           "directly"
          ],
          [
           "peace"
          ],
          [
           "adjudge"
          ],
          [
           "can"
          ],
          [
           "burlingame"
          ],
          [
           "388"
          ],
          [
           "interference"
          ],
          [
           "freedom"
          ],
          [
           "30"
          ],
          [
           "whereby"
          ],
          [
           "where"
          ],
          [
           "mention"
          ],
          [
           "hand"
          ],
          [
           "civilized"
          ],
          [
           "owners"
          ],
          [
           "lie"
          ],
          [
           "seen"
          ],
          [
           "country"
          ],
          [
           "showed"
          ],
          [
           "enjoyment"
          ],
          [
           "forbidding"
          ],
          [
           "august"
          ],
          [
           "province"
          ],
          [
           "asserted"
          ],
          [
           "collect"
          ],
          [
           "applied"
          ],
          [
           "strictly"
          ],
          [
           "parrott"
          ],
          [
           "owner"
          ],
          [
           "tolerated"
          ],
          [
           "exception"
          ],
          [
           "legally"
          ],
          [
           "simile"
          ],
          [
           "vires"
          ],
          [
           "another"
          ],
          [
           "just"
          ],
          [
           "similar"
          ],
          [
           "indirectly"
          ],
          [
           "having"
          ],
          [
           "reversed"
          ],
          [
           "give"
          ],
          [
           "learned"
          ],
          [
           "different"
          ],
          [
           "stranger"
          ],
          [
           "political"
          ],
          [
           "bodies"
          ],
          [
           "exist"
          ],
          [
           "trade"
          ],
          [
           "liberty"
          ],
          [
           "statistics"
          ],
          [
           "much"
          ],
          [
           "experience"
          ],
          [
           "operation"
          ],
          [
           "reciprocal"
          ],
          [
           "including"
          ],
          [
           "casual"
          ],
          [
           "supreme"
          ],
          [
           "author"
          ],
          [
           "unconstitutional"
          ],
          [
           "think"
          ],
          [
           "taxation"
          ],
          [
           "like"
          ],
          [
           "lexicon"
          ],
          [
           "internal"
          ],
          [
           "too"
          ],
          [
           "ten"
          ],
          [
           "generally"
          ],
          [
           "agency"
          ],
          [
           "besides"
          ],
          [
           "recoverable"
          ],
          [
           "capitation"
          ],
          [
           "doing"
          ],
          [
           "provides"
          ],
          [
           "page"
          ],
          [
           "quite"
          ],
          [
           "see"
          ],
          [
           "easily"
          ],
          [
           "number"
          ],
          [
           "summary"
          ],
          [
           "dissimilar"
          ],
          [
           "venture"
          ],
          [
           "getting"
          ],
          [
           "assent"
          ],
          [
           "19"
          ],
          [
           "dicta"
          ],
          [
           "thereof"
          ],
          [
           "plenary"
          ],
          [
           "excess"
          ],
          [
           "chief"
          ],
          [
           "surrendered"
          ],
          [
           "side"
          ],
          [
           "bill"
          ],
          [
           "enacts"
          ],
          [
           "efforts"
          ],
          [
           "habitually"
          ],
          [
           "allows"
          ],
          [
           "derogation"
          ],
          [
           "oppression"
          ],
          [
           "north"
          ],
          [
           "904"
          ],
          [
           "lost"
          ],
          [
           "501"
          ],
          [
           "foreign"
          ],
          [
           "insistedthat"
          ],
          [
           "excuse"
          ],
          [
           "more"
          ],
          [
           "highly"
          ],
          [
           "conceded"
          ],
          [
           "force"
          ],
          [
           "permitted"
          ],
          [
           "equally"
          ],
          [
           "almost"
          ],
          [
           "apollo"
          ],
          [
           "mode"
          ],
          [
           "habits"
          ],
          [
           "interfere"
          ],
          [
           "1878"
          ],
          [
           "shall"
          ],
          [
           "follow"
          ],
          [
           "apparent"
          ],
          [
           "courts"
          ],
          [
           "exactness"
          ],
          [
           "j"
          ],
          [
           "transparent"
          ],
          [
           "stamp"
          ],
          [
           "great"
          ],
          [
           "pc"
          ],
          [
           "appealed"
          ],
          [
           "confederation"
          ],
          [
           "upwards"
          ],
          [
           "prohibiting"
          ],
          [
           "expenses"
          ],
          [
           "premises"
          ],
          [
           "nation"
          ],
          [
           "annoyance"
          ],
          [
           "five"
          ],
          [
           "again"
          ],
          [
           "furnish"
          ],
          [
           "abridged"
          ],
          [
           "our"
          ],
          [
           "restrictive"
          ],
          [
           "species"
          ],
          [
           "ed"
          ],
          [
           "vol"
          ],
          [
           "until"
          ],
          [
           "l"
          ],
          [
           "words"
          ],
          [
           "annoying"
          ],
          [
           "either"
          ],
          [
           "character"
          ],
          [
           "drake"
          ],
          [
           "federal"
          ],
          [
           "affecting"
          ],
          [
           "ominous"
          ],
          [
           "she"
          ],
          [
           "unduly"
          ],
          [
           "certiorari"
          ],
          [
           "meet"
          ],
          [
           "shifted"
          ],
          [
           "if"
          ],
          [
           "hodge"
          ],
          [
           "there"
          ],
          [
           "altogether"
          ],
          [
           "contained"
          ],
          [
           "those"
          ],
          [
           "bar"
          ],
          [
           "reasons"
          ],
          [
           "idea"
          ],
          [
           "obtained"
          ],
          [
           "equal"
          ],
          [
           "month"
          ],
          [
           "graveyards"
          ],
          [
           "burdened"
          ],
          [
           "express"
          ],
          [
           "incident"
          ],
          [
           "requested"
          ],
          [
           "revealed"
          ],
          [
           "previous"
          ],
          [
           "argument"
          ],
          [
           "live"
          ],
          [
           "protect"
          ],
          [
           "cap"
          ],
          [
           "distasteful"
          ],
          [
           "argued"
          ],
          [
           "merits"
          ],
          [
           "formed"
          ],
          [
           "settled"
          ],
          [
           "amity"
          ],
          [
           "penalty"
          ],
          [
           "effective"
          ],
          [
           "s"
          ],
          [
           "15"
          ],
          [
           "intimated"
          ],
          [
           "diminishing"
          ],
          [
           "effectually"
          ],
          [
           "enactment"
          ],
          [
           "both"
          ],
          [
           "applies"
          ],
          [
           "lexington"
          ],
          [
           "seaboard"
          ],
          [
           "confirms"
          ],
          [
           "better"
          ],
          [
           "commentaries"
          ],
          [
           "personal"
          ],
          [
           "enforced"
          ],
          [
           "legitimate"
          ],
          [
           "dwarris"
          ],
          [
           "certificate"
          ],
          [
           "read"
          ],
          [
           "consuls"
          ],
          [
           "enact"
          ],
          [
           "law"
          ],
          [
           "arrive"
          ],
          [
           "proper"
          ],
          [
           "82"
          ],
          [
           "exceeds"
          ],
          [
           "difficult"
          ],
          [
           "through"
          ],
          [
           "sense"
          ],
          [
           "during"
          ],
          [
           "latter"
          ],
          [
           "enquirywhich"
          ],
          [
           "excessive"
          ],
          [
           "laying"
          ],
          [
           "impression"
          ],
          [
           "unusual"
          ],
          [
           "whether"
          ],
          [
           "pronounce"
          ],
          [
           "reviewed"
          ],
          [
           "app"
          ],
          [
           "natural"
          ],
          [
           "though"
          ],
          [
           "unnecessary"
          ],
          [
           "concernedsaysfrom"
          ],
          [
           "dealt"
          ],
          [
           "290"
          ],
          [
           "encounter"
          ],
          [
           "given"
          ],
          [
           "nations"
          ],
          [
           "ascertain"
          ],
          [
           "exempt"
          ],
          [
           "into"
          ],
          [
           "ordinary"
          ],
          [
           "18"
          ],
          [
           "appellant"
          ],
          [
           "way"
          ],
          [
           "pp"
          ],
          [
           "want"
          ],
          [
           "3rd"
          ],
          [
           "certiorarichinese"
          ],
          [
           "mans"
          ],
          [
           "injury"
          ],
          [
           "fined"
          ],
          [
           "contemplation"
          ],
          [
           "prohibit"
          ],
          [
           "grounds"
          ],
          [
           "communication"
          ],
          [
           "preamble"
          ],
          [
           "make"
          ],
          [
           "regulate"
          ],
          [
           "hong"
          ],
          [
           "points"
          ],
          [
           "interferes"
          ],
          [
           "standard"
          ],
          [
           "face"
          ],
          [
           "stated"
          ],
          [
           "dictum"
          ],
          [
           "extent"
          ],
          [
           "11"
          ],
          [
           "affairs"
          ],
          [
           "become"
          ],
          [
           "undesirable"
          ],
          [
           "engages"
          ],
          [
           "manner"
          ],
          [
           "local"
          ],
          [
           "claims"
          ],
          [
           "relative"
          ],
          [
           "day"
          ],
          [
           "introduced"
          ],
          [
           "534"
          ],
          [
           "door"
          ],
          [
           "the"
          ],
          [
           "never"
          ],
          [
           "add"
          ],
          [
           "old"
          ],
          [
           "week"
          ],
          [
           "mr"
          ],
          [
           "you"
          ],
          [
           "distinctionmust"
          ],
          [
           "invariable"
          ],
          [
           "bench"
          ],
          [
           "obtain"
          ],
          [
           "value"
          ],
          [
           "thereunder"
          ],
          [
           "jurisdiction"
          ],
          [
           "palpable"
          ],
          [
           "statute"
          ],
          [
           "making"
          ],
          [
           "incalculable"
          ],
          [
           "parliamentary"
          ],
          [
           "arbitrary"
          ],
          [
           "inhabitants"
          ],
          [
           "whites"
          ],
          [
           "course"
          ],
          [
           "enactments"
          ],
          [
           "delinquent"
          ],
          [
           "men"
          ],
          [
           "respective"
          ],
          [
           "mcquillan"
          ],
          [
           "indictment"
          ],
          [
           "to"
          ],
          [
           "declared"
          ],
          [
           "servant"
          ],
          [
           "sin"
          ],
          [
           "exclusion"
          ],
          [
           "institution"
          ],
          [
           "lordships"
          ],
          [
           "receive"
          ],
          [
           "r"
          ],
          [
           "collection"
          ],
          [
           "addition"
          ],
          [
           "passing"
          ],
          [
           "10"
          ],
          [
           "35"
          ],
          [
           "obvious"
          ],
          [
           "observes"
          ],
          [
           "score"
          ],
          [
           "infraction"
          ],
          [
           "before"
          ],
          [
           "regards"
          ],
          [
           "constantly"
          ],
          [
           "levelled"
          ],
          [
           "period"
          ],
          [
           "them"
          ],
          [
           "employers"
          ],
          [
           "objected"
          ],
          [
           "jurisdictions"
          ],
          [
           "418"
          ],
          [
           "due"
          ],
          [
           "rules"
          ],
          [
           "collector"
          ],
          [
           "insurance"
          ],
          [
           "prepares"
          ],
          [
           "population"
          ],
          [
           "medical"
          ],
          [
           "attacked"
          ],
          [
           "reed"
          ],
          [
           "notice"
          ],
          [
           "affects"
          ],
          [
           "shoulders"
          ],
          [
           "raised"
          ],
          [
           "pacific"
          ],
          [
           "citizenfor"
          ],
          [
           "occupa"
          ],
          [
           "use"
          ],
          [
           "void"
          ],
          [
           "levied"
          ],
          [
           "c"
          ],
          [
           "1867"
          ],
          [
           "386"
          ],
          [
           "district"
          ],
          [
           "26th"
          ],
          [
           "necessary"
          ],
          [
           "14"
          ],
          [
           "exercised"
          ],
          [
           "enacted"
          ],
          [
           "1884rather"
          ],
          [
           "supported"
          ],
          [
           "true"
          ],
          [
           "alarm"
          ],
          [
           "list"
          ],
          [
           "accuser"
          ],
          [
           "ageevery"
          ],
          [
           "each"
          ],
          [
           "labourers"
          ],
          [
           "empty"
          ],
          [
           "maguire"
          ],
          [
           "higher"
          ],
          [
           "determining"
          ],
          [
           "highest"
          ],
          [
           "long"
          ],
          [
           "contend"
          ],
          [
           "now"
          ],
          [
           "saying"
          ],
          [
           "sec"
          ],
          [
           "16"
          ],
          [
           "knows"
          ],
          [
           "imposed"
          ],
          [
           "117"
          ],
          [
           "fee"
          ],
          [
           "mining"
          ],
          [
           "crease"
          ],
          [
           "hannays"
          ],
          [
           "accordingly"
          ],
          [
           "subsection"
          ],
          [
           "manifestly"
          ],
          [
           "uniform"
          ],
          [
           "won"
          ],
          [
           "permanent"
          ],
          [
           "her"
          ],
          [
           "lastly"
          ],
          [
           "110000"
          ],
          [
           "subject"
          ],
          [
           "towards"
          ],
          [
           "produced"
          ],
          [
           "non"
          ],
          [
           "fortiori"
          ],
          [
           "rendered"
          ],
          [
           "commerce"
          ],
          [
           "used"
          ],
          [
           "forced"
          ],
          [
           "consumer"
          ],
          [
           "providing"
          ],
          [
           "arguments"
          ],
          [
           "leprohon"
          ],
          [
           "naglee"
          ],
          [
           "regard"
          ],
          [
           "authorities"
          ],
          [
           "possess"
          ],
          [
           "individuals"
          ],
          [
           "extends"
          ],
          [
           "have"
          ],
          [
           "international"
          ],
          [
           "avoid"
          ],
          [
           "jacques"
          ],
          [
           "intercourse"
          ],
          [
           "exclude"
          ],
          [
           "engagements"
          ],
          [
           "varied"
          ],
          [
           "full"
          ],
          [
           "bear"
          ],
          [
           "discriminate"
          ],
          [
           "happen"
          ],
          [
           "goodhue"
          ],
          [
           "23"
          ],
          [
           "powell"
          ],
          [
           "race"
          ],
          [
           "425"
          ],
          [
           "existing"
          ],
          [
           "cited"
          ],
          [
           "apportionment"
          ],
          [
           "[MASK]"
          ],
          [
           "works"
          ],
          [
           "regulation"
          ],
          [
           "sex"
          ],
          [
           "advanced"
          ],
          [
           "intended"
          ],
          [
           "secondlytrade"
          ],
          [
           "foreigner"
          ],
          [
           "destroyed"
          ],
          [
           "conversant"
          ],
          [
           "provided"
          ],
          [
           "deciding"
          ],
          [
           "would"
          ],
          [
           "measure"
          ],
          [
           "therefore"
          ],
          [
           "axiom"
          ],
          [
           "proof"
          ],
          [
           "looks"
          ],
          [
           "remedies"
          ],
          [
           "fine"
          ],
          [
           "made"
          ],
          [
           "unless"
          ],
          [
           "whitesuseless"
          ],
          [
           "transacted"
          ],
          [
           "mean"
          ],
          [
           "fac"
          ],
          [
           "immediately"
          ],
          [
           "prescribed"
          ],
          [
           "hitherto"
          ],
          [
           "ultra"
          ],
          [
           "levy"
          ],
          [
           "important"
          ],
          [
           "indirect"
          ],
          [
           "likewise"
          ],
          [
           "unto"
          ],
          [
           "reports"
          ],
          [
           "remain"
          ],
          [
           "classes"
          ],
          [
           "replythe"
          ],
          [
           "treaties"
          ],
          [
           "contracting"
          ],
          [
           "frequents"
          ],
          [
           "clauses"
          ],
          [
           "expressly"
          ],
          [
           "determined"
          ],
          [
           "being"
          ],
          [
           "places"
          ],
          [
           "police"
          ],
          [
           "permission"
          ],
          [
           "deal"
          ],
          [
           "1st"
          ],
          [
           "prevent"
          ],
          [
           "disability"
          ],
          [
           "expands"
          ],
          [
           "potest"
          ],
          [
           "fills"
          ],
          [
           "acquiring"
          ],
          [
           "negotiate"
          ],
          [
           "visitors"
          ],
          [
           "plainly"
          ],
          [
           "against"
          ],
          [
           "less"
          ],
          [
           "say"
          ],
          [
           "least"
          ],
          [
           "united"
          ],
          [
           "delegates"
          ],
          [
           "calculated"
          ],
          [
           "resolutions"
          ],
          [
           "408"
          ],
          [
           "knowingly"
          ],
          [
           "form"
          ],
          [
           "single"
          ],
          [
           "same"
          ],
          [
           "affected"
          ],
          [
           "cottage"
          ],
          [
           "repulsive"
          ],
          [
           "branches"
          ],
          [
           "twofold"
          ],
          [
           "powers"
          ],
          [
           "edwin"
          ],
          [
           "enough"
          ],
          [
           "regulated"
          ],
          [
           "however"
          ],
          [
           "re"
          ],
          [
           "defines"
          ],
          [
           "falsely"
          ],
          [
           "night"
          ],
          [
           "touches"
          ],
          [
           "probandi"
          ],
          [
           "performing"
          ],
          [
           "commercetaxation"
          ],
          [
           "instead"
          ],
          [
           "class"
          ],
          [
           "paying"
          ],
          [
           "thirdlythe"
          ],
          [
           "direction"
          ],
          [
           "analogy"
          ],
          [
           "sufficient"
          ],
          [
           "came"
          ],
          [
           "governing"
          ],
          [
           "measures"
          ],
          [
           "contravening"
          ],
          [
           "concluding"
          ],
          [
           "franchise"
          ],
          [
           "compel"
          ],
          [
           "since"
          ],
          [
           "esquire"
          ],
          [
           "elevated"
          ],
          [
           "lawful"
          ],
          [
           "barring"
          ],
          [
           "expired"
          ],
          [
           "from"
          ],
          [
           "sing"
          ],
          [
           "charged"
          ],
          [
           "subsist"
          ],
          [
           "petio"
          ],
          [
           "appellants"
          ],
          [
           "writ"
          ],
          [
           "tendency"
          ],
          [
           "ample"
          ],
          [
           "inherent"
          ],
          [
           "benefit"
          ],
          [
           "assembly"
          ],
          [
           "observations"
          ],
          [
           "onus"
          ],
          [
           "restriction"
          ],
          [
           "general"
          ],
          [
           "years"
          ],
          [
           "ambassadors"
          ],
          [
           "passage"
          ],
          [
           "innocence"
          ],
          [
           "taxes"
          ],
          [
           "me"
          ],
          [
           "security"
          ],
          [
           "underlying"
          ],
          [
           "themselves"
          ],
          [
           "sedgwick"
          ],
          [
           "mere"
          ],
          [
           "exercise"
          ],
          [
           "celebrated"
          ],
          [
           "this"
          ],
          [
           "professors"
          ],
          [
           "taxing"
          ],
          [
           "interprovincial"
          ],
          [
           "citizens"
          ],
          [
           "qua"
          ],
          [
           "effect"
          ],
          [
           "impose"
          ],
          [
           "far"
          ],
          [
           "absolutely"
          ],
          [
           "what"
          ],
          [
           "provide"
          ],
          [
           "successors"
          ],
          [
           "habitual"
          ],
          [
           "matter"
          ],
          [
           "imposes"
          ],
          [
           "popular"
          ],
          [
           "distinction"
          ],
          [
           "discrimination"
          ],
          [
           "masters"
          ],
          [
           "wisdom"
          ],
          [
           "purport"
          ],
          [
           "relation"
          ],
          [
           "126128"
          ],
          [
           "employing"
          ],
          [
           "sections"
          ],
          [
           "cut"
          ],
          [
           "judges"
          ],
          [
           "possesses"
          ],
          [
           "desecration"
          ],
          [
           "victoria"
          ],
          [
           "reproduced"
          ],
          [
           "people"
          ],
          [
           "any"
          ],
          [
           "nothing"
          ],
          [
           "female"
          ],
          [
           "mentioned"
          ],
          [
           "one"
          ],
          [
           "set"
          ],
          [
           "464"
          ],
          [
           "reg"
          ],
          [
           "exceptional"
          ],
          [
           "unheard"
          ],
          [
           "spoken"
          ],
          [
           "calendar"
          ],
          [
           "carried"
          ],
          [
           "quash"
          ],
          [
           "year"
          ],
          [
           "wing"
          ],
          [
           "counsel"
          ],
          [
           "sociis"
          ],
          [
           "johnson"
          ],
          [
           "return"
          ],
          [
           "portions"
          ],
          [
           "could"
          ],
          [
           "25th"
          ],
          [
           "imprisonment"
          ],
          [
           "receipt"
          ],
          [
           "deemed"
          ],
          [
           "ratified"
          ],
          [
           "merely"
          ],
          [
           "immigration"
          ],
          [
           "impossible"
          ],
          [
           "lawabiding"
          ],
          [
           "superior"
          ],
          [
           "offender"
          ],
          [
           "certainly"
          ],
          [
           "quoted"
          ],
          [
           "off"
          ],
          [
           "induced"
          ],
          [
           "noscitur"
          ],
          [
           "section"
          ],
          [
           "close"
          ],
          [
           "even"
          ],
          [
           "26"
          ],
          [
           "flag"
          ],
          [
           "fact"
          ],
          [
           "unlawful"
          ],
          [
           "prosecution"
          ],
          [
           "require"
          ],
          [
           "concerned"
          ],
          [
           "defeat"
          ],
          [
           "continued"
          ],
          [
           "pointed"
          ],
          [
           "1843"
          ],
          [
           "8th"
          ],
          [
           "subsections"
          ],
          [
           "brought"
          ],
          [
           "growing"
          ],
          [
           "constitution"
          ],
          [
           "says"
          ],
          [
           "commercial"
          ],
          [
           "satisfaction"
          ],
          [
           "written"
          ],
          [
           "high"
          ],
          [
           "548"
          ],
          [
           "life"
          ],
          [
           "teems"
          ],
          [
           "no"
          ],
          [
           "alone"
          ],
          [
           "others"
          ],
          [
           "legal"
          ],
          [
           "objects"
          ],
          [
           "he"
          ],
          [
           "acta"
          ],
          [
           "pretense"
          ],
          [
           "continually"
          ],
          [
           "majesty"
          ],
          [
           "characteristic"
          ],
          [
           "prepare"
          ],
          [
           "tion"
          ],
          [
           "ordinarily"
          ],
          [
           "him"
          ],
          [
           "is"
          ],
          [
           "correct"
          ],
          [
           "comment"
          ],
          [
           "putting"
          ],
          [
           "empowered"
          ],
          [
           "liabilities"
          ],
          [
           "appropriate"
          ],
          [
           "laws"
          ],
          [
           "innocenta"
          ],
          [
           "27"
          ],
          [
           "turn"
          ],
          [
           "108"
          ],
          [
           "that"
          ],
          [
           "i"
          ],
          [
           "include"
          ],
          [
           "deliver"
          ],
          [
           "treated"
          ],
          [
           "numerous"
          ],
          [
           "affixed"
          ],
          [
           "agents"
          ],
          [
           "fails"
          ],
          [
           "sanctions"
          ],
          [
           "an"
          ],
          [
           "transgression"
          ],
          [
           "kind"
          ],
          [
           "prosecutions"
          ],
          [
           "3with"
          ],
          [
           "gr"
          ],
          [
           "benefits"
          ],
          [
           "1860"
          ],
          [
           "assessed"
          ],
          [
           "afterwards"
          ],
          [
           "perfect"
          ],
          [
           "proved"
          ],
          [
           "decisions"
          ],
          [
           "convictions"
          ],
          [
           "lr"
          ],
          [
           "221"
          ],
          [
           "driven"
          ],
          [
           "slept"
          ],
          [
           "sought"
          ],
          [
           "california"
          ],
          [
           "wherein"
          ],
          [
           "public"
          ],
          [
           "amount"
          ],
          [
           "federation"
          ],
          [
           "under"
          ],
          [
           "compelled"
          ],
          [
           "impaired"
          ],
          [
           "degree"
          ],
          [
           "here"
          ],
          [
           "complaint"
          ],
          [
           "touched"
          ],
          [
           "solicitation"
          ],
          [
           "sothrows"
          ],
          [
           "go"
          ]
         ],
         "hovertemplate": "highlight=%{text}<br>x=%{x}<br>y=%{y}<br>word=%{customdata[0]}<extra></extra>",
         "legendgroup": "",
         "marker": {
          "color": "#636efa",
          "symbol": "circle"
         },
         "mode": "markers+text",
         "name": "",
         "showlegend": false,
         "text": [
          "",
          "",
          "",
          "",
          "",
          "",
          "",
          "",
          "",
          "",
          "",
          "",
          "",
          "",
          "",
          "",
          "",
          "",
          "",
          "",
          "",
          "",
          "",
          "",
          "",
          "",
          "",
          "",
          "",
          "",
          "",
          "",
          "",
          "",
          "",
          "",
          "",
          "",
          "",
          "",
          "",
          "",
          "",
          "",
          "",
          "",
          "",
          "",
          "",
          "",
          "",
          "",
          "",
          "",
          "",
          "",
          "",
          "",
          "",
          "",
          "",
          "",
          "",
          "",
          "",
          "",
          "",
          "",
          "",
          "",
          "",
          "",
          "",
          "",
          "",
          "",
          "",
          "",
          "",
          "",
          "",
          "",
          "",
          "",
          "",
          "",
          "",
          "",
          "",
          "",
          "",
          "",
          "",
          "",
          "",
          "",
          "",
          "",
          "",
          "",
          "",
          "",
          "",
          "",
          "",
          "",
          "",
          "",
          "",
          "",
          "",
          "",
          "",
          "",
          "",
          "",
          "",
          "",
          "",
          "",
          "",
          "",
          "",
          "",
          "",
          "",
          "",
          "",
          "",
          "",
          "",
          "",
          "",
          "",
          "",
          "",
          "",
          "",
          "",
          "",
          "",
          "",
          "",
          "",
          "",
          "",
          "",
          "",
          "",
          "",
          "",
          "",
          "",
          "",
          "",
          "",
          "",
          "",
          "",
          "",
          "",
          "",
          "",
          "",
          "",
          "",
          "",
          "",
          "",
          "",
          "",
          "",
          "",
          "",
          "",
          "",
          "",
          "",
          "",
          "",
          "",
          "",
          "",
          "",
          "",
          "",
          "",
          "",
          "",
          "",
          "",
          "",
          "",
          "",
          "",
          "",
          "",
          "",
          "",
          "",
          "",
          "",
          "",
          "",
          "",
          "",
          "",
          "",
          "",
          "",
          "",
          "",
          "",
          "",
          "",
          "",
          "",
          "",
          "",
          "",
          "",
          "",
          "",
          "",
          "",
          "",
          "",
          "",
          "",
          "",
          "",
          "",
          "",
          "",
          "",
          "",
          "",
          "",
          "",
          "",
          "",
          "",
          "",
          "",
          "",
          "",
          "",
          "",
          "",
          "",
          "",
          "",
          "",
          "",
          "",
          "",
          "",
          "",
          "",
          "",
          "",
          "",
          "",
          "",
          "",
          "",
          "",
          "",
          "",
          "",
          "",
          "",
          "",
          "",
          "",
          "",
          "",
          "",
          "",
          "",
          "",
          "",
          "",
          "",
          "",
          "",
          "",
          "",
          "",
          "",
          "",
          "",
          "",
          "",
          "",
          "",
          "",
          "",
          "",
          "",
          "",
          "",
          "",
          "",
          "",
          "",
          "",
          "",
          "",
          "",
          "",
          "",
          "",
          "",
          "",
          "",
          "",
          "",
          "",
          "",
          "",
          "",
          "",
          "",
          "",
          "",
          "",
          "",
          "",
          "",
          "",
          "",
          "",
          "",
          "",
          "",
          "",
          "",
          "",
          "",
          "",
          "",
          "",
          "",
          "",
          "",
          "",
          "",
          "",
          "",
          "",
          "",
          "",
          "",
          "",
          "",
          "",
          "",
          "",
          "",
          "",
          "",
          "",
          "",
          "",
          "",
          "",
          "",
          "",
          "",
          "",
          "",
          "",
          "",
          "",
          "",
          "",
          "",
          "",
          "",
          "",
          "",
          "",
          "",
          "",
          "",
          "",
          "",
          "",
          "",
          "",
          "",
          "",
          "",
          "",
          "",
          "",
          "",
          "",
          "",
          "",
          "",
          "",
          "",
          "",
          "",
          "",
          "",
          "",
          "",
          "",
          "",
          "",
          "",
          "",
          "",
          "",
          "",
          "",
          "",
          "",
          "",
          "",
          "",
          "",
          "",
          "",
          "",
          "",
          "",
          "",
          "",
          "",
          "",
          "",
          "",
          "",
          "",
          "",
          "",
          "",
          "",
          "",
          "",
          "",
          "",
          "",
          "",
          "",
          "",
          "",
          "",
          "",
          "",
          "",
          "",
          "",
          "",
          "",
          "",
          "",
          "",
          "",
          "",
          "",
          "",
          "",
          "",
          "",
          "",
          "",
          "",
          "",
          "",
          "",
          "",
          "",
          "",
          "",
          "",
          "",
          "",
          "",
          "",
          "",
          "",
          "",
          "",
          "",
          "",
          "",
          "",
          "",
          "",
          "",
          "",
          "",
          "",
          "",
          "",
          "",
          "",
          "",
          "",
          "",
          "",
          "",
          "",
          "",
          "",
          "",
          "",
          "",
          "",
          "",
          "",
          "",
          "",
          "",
          "",
          "",
          "",
          "",
          "",
          "",
          "",
          "",
          "",
          "",
          "",
          "",
          "",
          "",
          "",
          "",
          "",
          "",
          "",
          "",
          "",
          "",
          "",
          "",
          "",
          "",
          "",
          "",
          "",
          "",
          "",
          "",
          "",
          "",
          "",
          "",
          "",
          "",
          "",
          "",
          "",
          "",
          "",
          "",
          "",
          "",
          "",
          "",
          "",
          "",
          "",
          "",
          "",
          "",
          "",
          "",
          "",
          "",
          "",
          "",
          "",
          "",
          "",
          "",
          "",
          "",
          "",
          "",
          "",
          "",
          "",
          "",
          "",
          "",
          "",
          "",
          "",
          "",
          "",
          "",
          "",
          "",
          "",
          "",
          "",
          "",
          "",
          "",
          "",
          "",
          "",
          "",
          "",
          "",
          "",
          "",
          "",
          "",
          "",
          "",
          "",
          "",
          "",
          "",
          "",
          "",
          "",
          "",
          "",
          "",
          "",
          "",
          "",
          "",
          "",
          "",
          "",
          "",
          "",
          "",
          "",
          "",
          "",
          "",
          "",
          "",
          "",
          "",
          "",
          "",
          "",
          "",
          "",
          "",
          "",
          "",
          "",
          "",
          "",
          "",
          "",
          "",
          "",
          "",
          "",
          "",
          "",
          "",
          "",
          "",
          "",
          "",
          "",
          "",
          "",
          "",
          "",
          "",
          "",
          "",
          "",
          "",
          "",
          "",
          "",
          "",
          "",
          "",
          "",
          "",
          "",
          "",
          "",
          "",
          "",
          "",
          "",
          "",
          "",
          "",
          "",
          "",
          "",
          "",
          "",
          "",
          "",
          "",
          "",
          "",
          "",
          "",
          "",
          "",
          "",
          "",
          "",
          "",
          "",
          "",
          "",
          "",
          "",
          "",
          "",
          "",
          "",
          "",
          "",
          "",
          "",
          "",
          "",
          "",
          "",
          "",
          "",
          "",
          "",
          "",
          "",
          "",
          "",
          "",
          "",
          "",
          "",
          "",
          "",
          "",
          "",
          "",
          "",
          "",
          "",
          "",
          "",
          "",
          "",
          "",
          "",
          "",
          "",
          "",
          "",
          "",
          "",
          "",
          "",
          "",
          "",
          "",
          "",
          "",
          "",
          "",
          "",
          "",
          "",
          "",
          "",
          "",
          "",
          "",
          "",
          "",
          "",
          "",
          "",
          "",
          "",
          "",
          "",
          "",
          "",
          "",
          "",
          "",
          "",
          "",
          "",
          "",
          "",
          "",
          "",
          "",
          "",
          "",
          "",
          "",
          "",
          "",
          "",
          "",
          "",
          "",
          "",
          "",
          "",
          "",
          "",
          "",
          "",
          "",
          "",
          "",
          "",
          "",
          "",
          "",
          "",
          "",
          "",
          "",
          "",
          "",
          "",
          "",
          "",
          "",
          "",
          "",
          "",
          "",
          "",
          "",
          "",
          "",
          "",
          "",
          "",
          "",
          "",
          "",
          "",
          "",
          "",
          "",
          "",
          "",
          "",
          "",
          "",
          "",
          "",
          "",
          "",
          "",
          "",
          "",
          "",
          "",
          "",
          "",
          "",
          "",
          "",
          "",
          "",
          "",
          "",
          "",
          "",
          "",
          "",
          "",
          "",
          "",
          "",
          "",
          "",
          "",
          "",
          "",
          "",
          "",
          "",
          "",
          "",
          "",
          "",
          "",
          "",
          "",
          "",
          "",
          "",
          "",
          "",
          "",
          "",
          "",
          "",
          "",
          "",
          "",
          "",
          "",
          "",
          "",
          "",
          "",
          "",
          "",
          "",
          "",
          "",
          "",
          "",
          "",
          "",
          "",
          "",
          "",
          "",
          "",
          "",
          "",
          "",
          "",
          "",
          "",
          "",
          "",
          "",
          "",
          "",
          "",
          "",
          "",
          "",
          "",
          "",
          "",
          "",
          "",
          "",
          "",
          "",
          "",
          "",
          "",
          "",
          "",
          "",
          "",
          "",
          "",
          "",
          "",
          "",
          "",
          "",
          "",
          "",
          "",
          "",
          "",
          "",
          "",
          "",
          "",
          "",
          "",
          "",
          "",
          "",
          "",
          "",
          "",
          "",
          "",
          "",
          "",
          "",
          "",
          "",
          "",
          "",
          "",
          "",
          "",
          "",
          "",
          "",
          "",
          "",
          "",
          "",
          "",
          "",
          "",
          "",
          "",
          "",
          "",
          "",
          "",
          "",
          "",
          "",
          "",
          "",
          "",
          "",
          "",
          "",
          "",
          "",
          "",
          "",
          "",
          "",
          "",
          "",
          "",
          "",
          "",
          "",
          "",
          "",
          "",
          "",
          "",
          "",
          "",
          "",
          "",
          "",
          "",
          "",
          "",
          "",
          "",
          "",
          "",
          "",
          "",
          "",
          "",
          "",
          "",
          "",
          "",
          "",
          "",
          "",
          "",
          "",
          "",
          "",
          "",
          "",
          "",
          "",
          "",
          "",
          "",
          "",
          "",
          "",
          "",
          "",
          "",
          "",
          "",
          "",
          "",
          "",
          "",
          "",
          "",
          "",
          "",
          "",
          "",
          "",
          "",
          "",
          "",
          "",
          "",
          "",
          "",
          "",
          "",
          "",
          "",
          "",
          "",
          "",
          "",
          "",
          "",
          "",
          "",
          "",
          "",
          "",
          "",
          "",
          "",
          "",
          "",
          "",
          "",
          "",
          "",
          "",
          "",
          "",
          "",
          "",
          "",
          "",
          "",
          "",
          "",
          "",
          "",
          "",
          "",
          "",
          "",
          "",
          "",
          "",
          "",
          "",
          "",
          "",
          "",
          "",
          "",
          "",
          "",
          "",
          "",
          "",
          "",
          "",
          "",
          "",
          "",
          "",
          "",
          "",
          "",
          "",
          "",
          "",
          "",
          "",
          "",
          "",
          "",
          "",
          "",
          "",
          "",
          "",
          "",
          "",
          "",
          "",
          "",
          "",
          "",
          "",
          "",
          "",
          "",
          "",
          "",
          "",
          "",
          "",
          "",
          "",
          "",
          "",
          "",
          "",
          "",
          "",
          "",
          "",
          "",
          "",
          "",
          "",
          "",
          "",
          "",
          "",
          "",
          "",
          "",
          "",
          "",
          "",
          "",
          "",
          "",
          "",
          "",
          "",
          "",
          "",
          "",
          "",
          "",
          "",
          "",
          "",
          "",
          "",
          "",
          "",
          "",
          "",
          "",
          "",
          "",
          "",
          "",
          "",
          "",
          "",
          "",
          "",
          "",
          "",
          "",
          "",
          "",
          "",
          "",
          "",
          "",
          "",
          "",
          "",
          "",
          "",
          "",
          "",
          "",
          "",
          "",
          "",
          "",
          "",
          "",
          "",
          "",
          "",
          "",
          "",
          "",
          "",
          "",
          "",
          "",
          "",
          "",
          "",
          "",
          "",
          "",
          "",
          "",
          "",
          "",
          "",
          "",
          "",
          "",
          "",
          "",
          "",
          "",
          "",
          "",
          "",
          "",
          "",
          "",
          "",
          "",
          "",
          "",
          "",
          "",
          "",
          "",
          "",
          "",
          "",
          "",
          "",
          "",
          "",
          "",
          "",
          "",
          "",
          "",
          "",
          "",
          "",
          "",
          "",
          "",
          "",
          "",
          "",
          "",
          "",
          "",
          "",
          "",
          "",
          "",
          "",
          "",
          "",
          "",
          "",
          "",
          "",
          "",
          "",
          "",
          "",
          "",
          "",
          "",
          "",
          "",
          "",
          "",
          "",
          "",
          "",
          "",
          "",
          "",
          "",
          "",
          "",
          "",
          "",
          "",
          "",
          "",
          "",
          "",
          "",
          "",
          "",
          "",
          "",
          "",
          "",
          "",
          "",
          "",
          "",
          "",
          "",
          "",
          "",
          "",
          "",
          "",
          "",
          "",
          "",
          "",
          "",
          "",
          "",
          "",
          "",
          "",
          "",
          "",
          "",
          "",
          "",
          "",
          "",
          "",
          "",
          "",
          "",
          "",
          "",
          "",
          "",
          "",
          "",
          "",
          "",
          "",
          "",
          "",
          "",
          "",
          "",
          "",
          "",
          "",
          "",
          "",
          "",
          "",
          "",
          "",
          "",
          "",
          "",
          "",
          "",
          "",
          "",
          "",
          "",
          "",
          "",
          "",
          "",
          "",
          "",
          "",
          "",
          "",
          "",
          "",
          "",
          "",
          "",
          "",
          "",
          "",
          "",
          "",
          "",
          "",
          "",
          "",
          "",
          "",
          "",
          "",
          "",
          "",
          "",
          "",
          "",
          "",
          "",
          "",
          "",
          "",
          "",
          "",
          "",
          "",
          "",
          "",
          "",
          "",
          "",
          "",
          "",
          "",
          "",
          "",
          "",
          "",
          "",
          "",
          "",
          "",
          "",
          "",
          "",
          "",
          "",
          "",
          "",
          "",
          "",
          "",
          "",
          "",
          "",
          "",
          "",
          "",
          "",
          "",
          "",
          "",
          "",
          "",
          "",
          "",
          "",
          "",
          "",
          "",
          "",
          "",
          "",
          "",
          "",
          "",
          "",
          "",
          "",
          "",
          "",
          "",
          "",
          "",
          "",
          "",
          "",
          "",
          "",
          "",
          "",
          "",
          "",
          "",
          "",
          "",
          "",
          "",
          "",
          "",
          "",
          "",
          "",
          "",
          "",
          "",
          "",
          "",
          "",
          "",
          "",
          "",
          "",
          ""
         ],
         "type": "scattergl",
         "x": [
          31.94624,
          -9.508369,
          40.78031,
          29.042301,
          -8.470884,
          -1.108197,
          -11.737802,
          15.721696,
          41.676937,
          -18.406662,
          34.859936,
          -11.944135,
          -14.3879385,
          -4.8524165,
          -9.387216,
          4.0138555,
          32.968376,
          4.3119764,
          -21.076986,
          -2.927119,
          45.610268,
          40.235443,
          -11.919742,
          3.6810808,
          -16.563293,
          2.9956956,
          -15.392399,
          51.33881,
          -2.8716466,
          30.785643,
          0.61631787,
          46.181515,
          -8.2715,
          8.674707,
          -9.769767,
          -12.1588125,
          -9.716107,
          -1.8866432,
          -17.85256,
          -19.937267,
          27.454348,
          -14.853434,
          38.539555,
          -21.855862,
          -10.279238,
          -24.186253,
          -15.827281,
          9.940474,
          -14.484577,
          -0.87378526,
          -16.669857,
          -13.735592,
          -0.7155176,
          -26.30689,
          -25.01929,
          -16.566242,
          26.124039,
          11.510732,
          43.289658,
          -5.488555,
          -15.781934,
          30.731863,
          -0.55284077,
          35.364304,
          11.39808,
          -12.67716,
          -17.269808,
          -21.185812,
          -21.200382,
          -12.804459,
          28.682133,
          -3.9908254,
          -20.5936,
          36.416916,
          -0.1637601,
          4.0389824,
          1.3359855,
          -14.683655,
          37.88954,
          -16.99113,
          -16.71768,
          -8.766974,
          -9.677742,
          -11.133336,
          -12.083921,
          -18.617111,
          8.619573,
          19.033823,
          -12.076379,
          41.8341,
          -16.26944,
          4.181888,
          43.55898,
          6.473137,
          -5.8079715,
          -14.4152565,
          -9.255618,
          6.587305,
          22.61325,
          -14.341395,
          -10.947366,
          -24.401209,
          51.13032,
          1.8418908,
          33.493847,
          -6.2995944,
          -11.519403,
          -25.384277,
          5.0907965,
          41.93731,
          17.427795,
          -6.936441,
          39.252396,
          -15.502036,
          38.432007,
          -6.4405603,
          -4.3496556,
          -6.4485154,
          -9.107724,
          47.656097,
          30.823292,
          29.036102,
          1.1127286,
          2.6352043,
          -13.091851,
          -10.113898,
          -21.01118,
          -1.3764179,
          -15.476023,
          6.7918534,
          -9.181971,
          -10.492145,
          36.774773,
          -7.616457,
          5.096515,
          51.488827,
          -2.8324277,
          11.359159,
          11.077403,
          -9.001395,
          -23.433552,
          40.872795,
          34.50796,
          -17.64515,
          7.6047916,
          -14.077689,
          6.754583,
          45.869106,
          -5.077803,
          -13.242325,
          -20.316217,
          -15.79057,
          -12.9015255,
          30.891676,
          29.5813,
          -23.620056,
          6.9590316,
          -6.791943,
          -4.4192348,
          39.00268,
          -9.497432,
          41.922375,
          39.407124,
          -18.819124,
          31.274324,
          22.406816,
          39.367218,
          -15.171276,
          31.929972,
          -16.139492,
          -18.558966,
          -9.405079,
          -14.992866,
          42.10239,
          39.721077,
          4.505083,
          -13.526453,
          -18.015532,
          -24.888676,
          -14.541045,
          4.2663884,
          42.015835,
          -12.017516,
          -13.417302,
          4.5992875,
          24.56613,
          -8.054546,
          -1.4230641,
          3.9013183,
          -14.305379,
          44.703724,
          -4.1662393,
          29.230167,
          -21.161589,
          5.0369678,
          -25.12048,
          0.1609448,
          34.209175,
          -16.942549,
          -6.177544,
          -14.581532,
          -16.564821,
          1.2644012,
          30.69718,
          -16.475412,
          -15.463932,
          35.446312,
          -17.187847,
          -11.90763,
          -21.269743,
          38.65547,
          -7.96559,
          -15.276864,
          45.86722,
          44.729637,
          -7.3987575,
          -4.1270747,
          23.634329,
          6.532623,
          -1.4333922,
          -12.60127,
          9.981745,
          -23.175966,
          -10.245698,
          -20.69229,
          -8.288837,
          10.897967,
          51.206013,
          2.6467974,
          -3.4068208,
          32.665577,
          1.9932568,
          -12.923542,
          5.0120363,
          47.651375,
          37.003162,
          3.7708042,
          10.902491,
          -10.550967,
          -16.799583,
          20.855862,
          36.523663,
          -6.503848,
          45.889004,
          -22.559092,
          -12.365197,
          37.256275,
          -7.988515,
          -11.757921,
          -3.9312718,
          -8.357181,
          45.861862,
          -4.1292872,
          25.996246,
          -15.137513,
          8.616161,
          0.41302055,
          3.8961942,
          -8.902025,
          7.733721,
          -9.6075735,
          46.826916,
          -10.027243,
          -9.899671,
          -19.982363,
          30.343697,
          5.655903,
          -10.133369,
          22.460043,
          43.17034,
          -8.389864,
          -18.224422,
          -12.77787,
          -11.949316,
          36.571846,
          44.477104,
          -2.370768,
          -5.1640472,
          2.1987374,
          -22.709717,
          -11.078563,
          -7.137557,
          -5.1479397,
          -9.602192,
          32.60294,
          28.535543,
          7.1989875,
          44.060543,
          -13.142094,
          34.37813,
          37.934464,
          33.70621,
          27.326046,
          -15.223016,
          -13.307252,
          -20.292818,
          43.46531,
          -12.755835,
          -12.378296,
          39.7979,
          -4.5950766,
          1.1605734,
          33.61011,
          -19.686455,
          2.913634,
          -10.759834,
          26.296867,
          3.527167,
          -4.6801724,
          39.963177,
          9.506681,
          -5.74813,
          -16.714636,
          -3.2167995,
          -19.25573,
          5.6164775,
          -10.883464,
          -12.935557,
          37.121555,
          -5.7236075,
          34.73744,
          0.6900533,
          -8.027814,
          -24.649364,
          46.546288,
          -7.8819137,
          -21.607187,
          31.470879,
          -8.540028,
          -21.441828,
          -18.240576,
          -12.910786,
          -0.98272353,
          7.061099,
          -3.8959098,
          -12.133554,
          5.3394732,
          -2.3361425,
          -2.9380915,
          45.107445,
          -11.35522,
          44.54146,
          40.273426,
          1.8206369,
          -0.31878754,
          8.109526,
          -18.873346,
          4.597071,
          -6.8237267,
          -16.301464,
          -17.173357,
          2.7831292,
          34.566753,
          -20.1946,
          30.048424,
          44.733868,
          32.957947,
          -11.340737,
          36.04398,
          38.35761,
          -9.485495,
          38.59366,
          -16.381687,
          36.29862,
          -6.5594244,
          10.231237,
          32.486843,
          10.779783,
          -9.489794,
          36.480427,
          30.712599,
          -18.360708,
          -20.873888,
          -22.77566,
          -15.22717,
          -21.405552,
          1.0859812,
          -7.317969,
          -7.0866885,
          30.752699,
          -23.181753,
          -16.703794,
          42.719334,
          5.874364,
          23.500368,
          39.610226,
          -1.067801,
          -9.143931,
          -19.74522,
          8.457547,
          0.17056933,
          -14.84082,
          5.3452067,
          33.371914,
          -17.803614,
          -0.5778251,
          -8.189133,
          18.419062,
          -20.33926,
          31.772535,
          -16.367743,
          -26.337519,
          2.6202192,
          -0.99180466,
          -5.52512,
          -18.487343,
          37.768955,
          -15.924304,
          -3.6628659,
          -4.1867104,
          -14.226294,
          -3.7987103,
          -16.058458,
          29.698627,
          41.310078,
          -4.2300887,
          5.0882874,
          -6.6960382,
          -17.931967,
          -20.894106,
          37.6735,
          4.386054,
          2.2692986,
          -1.5598679,
          45.188,
          -5.5313573,
          2.9571736,
          45.805893,
          6.1163487,
          -18.070992,
          -14.25354,
          21.370861,
          -6.967164,
          -11.175309,
          -6.6241746,
          -9.089627,
          -12.341076,
          -16.895506,
          -23.831503,
          30.51857,
          28.724926,
          -15.050477,
          -8.001869,
          -9.128338,
          45.017567,
          34.444794,
          7.2108035,
          4.644185,
          10.026754,
          2.035276,
          4.9038796,
          -3.2475684,
          -2.9503453,
          -21.462536,
          -16.99386,
          -17.987474,
          41.586113,
          -8.651122,
          47.3375,
          38.005188,
          9.911799,
          -9.52441,
          -5.1522546,
          5.8944893,
          -20.045263,
          6.676633,
          41.844906,
          -9.526197,
          25.824144,
          47.117565,
          -3.9252758,
          -5.518075,
          38.090405,
          5.3841586,
          -21.157679,
          37.871002,
          -22.47902,
          8.095384,
          -12.372603,
          45.55256,
          -12.472226,
          30.47633,
          45.230846,
          4.306231,
          7.0983405,
          -21.661543,
          -11.229174,
          -1.8684912,
          -5.5134315,
          32.048252,
          41.731495,
          -18.393099,
          -6.7579317,
          44.857693,
          -7.2031555,
          29.432636,
          21.686777,
          -0.7701832,
          -18.361967,
          2.7790265,
          -11.296555,
          -8.384776,
          7.2698936,
          -14.832329,
          31.868408,
          -5.1974106,
          21.881426,
          -25.833864,
          -9.056885,
          -23.143946,
          -20.305407,
          -25.723253,
          4.610137,
          -21.820011,
          37.332233,
          4.2916994,
          34.54412,
          -12.7934675,
          -19.627226,
          -18.328974,
          38.792038,
          35.633533,
          -17.44508,
          30.748707,
          -8.9317465,
          6.8799195,
          -4.094198,
          -23.220121,
          43.585346,
          28.276766,
          48.369545,
          -6.7187543,
          10.926656,
          -8.567409,
          0.5383759,
          3.3275287,
          -7.3233137,
          -6.6134586,
          -0.43363136,
          3.5159771,
          -16.473415,
          -8.6747,
          4.5780563,
          3.979792,
          7.39681,
          -0.35024872,
          -9.958713,
          -1.5520027,
          40.69895,
          -6.867742,
          -13.40973,
          -2.809795,
          35.655743,
          -16.050653,
          -21.410452,
          -25.235874,
          -6.5805545,
          3.75715,
          -8.156351,
          41.965454,
          -14.39247,
          24.95306,
          32.82704,
          -5.9390087,
          -18.77547,
          -6.487233,
          -4.414539,
          -11.863934,
          0.09122201,
          -11.321805,
          -11.767531,
          -0.959025,
          -21.764107,
          34.385326,
          -16.13743,
          -21.818142,
          5.7898808,
          -6.5534425,
          6.8657246,
          8.334032,
          -11.056671,
          -1.7593035,
          -1.5434048,
          -9.906779,
          -10.183924,
          -10.009032,
          19.463665,
          -3.554672,
          -1.8505397,
          4.86362,
          2.2725637,
          42.48334,
          -8.546541,
          -8.052347,
          28.677433,
          13.806097,
          -10.190494,
          -9.031322,
          -8.395488,
          5.8760295,
          -20.603199,
          -18.647562,
          0.682815,
          4.2712336,
          36.763725,
          -11.932472,
          25.211208,
          -5.9073057,
          17.558601,
          -0.5423735,
          -16.47199,
          45.973534,
          -14.080167,
          -13.465707,
          -0.36344957,
          -14.898215,
          -5.52564,
          -10.851271,
          -7.103568,
          -21.974867,
          9.490238,
          8.119204,
          -4.5663266,
          40.941105,
          47.5685,
          -13.57504,
          1.8521446,
          -5.8321543,
          -22.682756,
          4.8078003,
          -10.340568,
          -4.2651253,
          35.840565,
          23.995878,
          33.427982,
          -6.3886642,
          44.582714,
          35.87831,
          42.29558,
          -11.890208,
          -10.977748,
          -8.573164,
          -13.090725,
          -5.8685775,
          -21.37801,
          39.131763,
          -24.222902,
          -10.302204,
          19.296963,
          31.354301,
          7.026571,
          -18.360247,
          -6.56984,
          -13.021823,
          -20.44294,
          -17.619951,
          -5.8662934,
          -18.76767,
          -5.119903,
          5.982308,
          37.24142,
          43.17583,
          6.870811,
          -11.633166,
          3.4778826,
          0.6499731,
          -21.49221,
          44.045517,
          -3.020784,
          -5.127661,
          -11.726316,
          -9.042226,
          44.400494,
          -21.50232,
          -6.7919016,
          -3.8773732,
          -15.140917,
          -20.940062,
          -4.857217,
          1.3090336,
          -9.552176,
          -8.209028,
          -19.45026,
          32.149017,
          -7.9003496,
          -2.268514,
          22.796724,
          -19.312204,
          -15.679599,
          3.483276,
          41.635967,
          -7.5824966,
          8.9211,
          -15.526117,
          28.314213,
          -18.818485,
          -22.913176,
          2.9607427,
          -7.9450803,
          -16.79482,
          4.16486,
          -23.410467,
          45.00823,
          -18.754847,
          -18.01936,
          -19.695717,
          36.49812,
          10.940827,
          -7.236239,
          4.105056,
          23.007074,
          -16.878973,
          -24.35118,
          0.97445816,
          -7.5085144,
          -5.4890447,
          0.45684126,
          -0.77226126,
          -4.3091846,
          -14.611316,
          4.291857,
          -2.8185313,
          -7.9512067,
          -8.790097,
          -12.522449,
          -11.182919,
          46.952747,
          -5.801448,
          29.182718,
          -13.278333,
          -12.170953,
          -13.497451,
          -18.444597,
          4.1368785,
          38.23764,
          31.787117,
          8.061106,
          28.466286,
          45.099514,
          -6.147392,
          -11.347203,
          -1.2828584,
          4.3064427,
          -14.869268,
          -16.231394,
          -16.149141,
          46.522762,
          -17.930603,
          -12.370972,
          42.796947,
          20.884523,
          -11.285548,
          30.297743,
          -14.2255,
          -19.672276,
          -3.0240588,
          9.165734,
          -5.5008106,
          40.16686,
          -1.2402666,
          -6.7422676,
          9.757119,
          -11.9861555,
          6.511877,
          -5.0070643,
          12.5630665,
          -18.656254,
          40.080177,
          -21.002203,
          -4.4637218,
          -17.484976,
          45.42321,
          7.880214,
          -12.020963,
          -22.904625,
          15.811143,
          -2.8820999,
          -9.421058,
          -1.2711784,
          -12.506022,
          8.475137,
          -15.445965,
          3.676688,
          -6.9124675,
          7.6433816,
          7.4003143,
          -16.438898,
          -10.383002,
          38.676815,
          -12.867663,
          -18.091967,
          -15.89251,
          37.748516,
          -16.45165,
          -17.799702,
          10.43287,
          -19.83144,
          -19.276043,
          -5.835793,
          27.688938,
          -19.60184,
          40.19041,
          47.004044,
          1.1239998,
          47.522182,
          -26.502205,
          -21.978367,
          -3.3020527,
          -8.034912,
          -10.392963,
          -21.776434,
          39.892204,
          -16.767014,
          0.5064898,
          3.9242406,
          5.920411,
          -13.749036,
          -1.3754407,
          -9.903013,
          -19.550331,
          9.8236,
          19.903559,
          -1.607609,
          -12.345429,
          9.048983,
          -0.8899277,
          -10.969863,
          -9.967345,
          23.175587,
          1.957338,
          28.534561,
          36.656727,
          -11.757341,
          41.901154,
          3.6282372,
          23.652935,
          -19.289242,
          -13.33447,
          -11.044014,
          21.516993,
          0.93847066,
          -10.716569,
          46.966496,
          -1.210189,
          0.48349792,
          -5.038178,
          1.9553871,
          39.176342,
          42.5725,
          -4.4726305,
          47.91152,
          4.4512296,
          8.8065815,
          -8.275204,
          -12.623255,
          -17.690699,
          39.902843,
          -5.779304,
          -16.479992,
          -14.126747,
          40.10002,
          30.136011,
          -10.8084345,
          -19.062796,
          -14.33766,
          28.658478,
          -4.6833725,
          5.787391,
          -8.610287,
          -15.034675,
          -7.6485662,
          8.052344,
          -6.582226,
          -2.2925851,
          2.3655398,
          -20.77065,
          34.218052,
          5.892511,
          23.361927,
          -3.3184042,
          5.8801594,
          -14.297661,
          -1.368421,
          -4.3123727,
          -8.782565,
          34.42743,
          37.98753,
          -16.548494,
          -19.107962,
          -7.3612857,
          -1.3788639,
          33.540512,
          -16.260807,
          -17.558382,
          4.4960074,
          -10.85933,
          -0.5389884,
          -18.620934,
          41.736576,
          -13.967681,
          -16.702013,
          -17.892809,
          -10.810444,
          -16.51096,
          -11.677955,
          11.468448,
          -10.7913265,
          -0.84951574,
          2.6988146,
          25.00548,
          -6.5029125,
          16.612461,
          43.838634,
          -14.554961,
          21.175537,
          -12.239386,
          -0.24538931,
          5.2826347,
          -1.9674944,
          34.03151,
          28.118673,
          46.440685,
          -20.516468,
          -16.817822,
          44.83192,
          6.2026095,
          -0.2422185,
          0.51861894,
          -19.5083,
          1.6012813,
          -4.855323,
          0.7467779,
          -18.730042,
          4.3366513,
          -4.4888444,
          10.883597,
          -11.130277,
          0.4752012,
          -13.4899,
          -6.9426694,
          -9.213038,
          -11.360782,
          4.301719,
          -5.3229933,
          -18.032251,
          -13.260695,
          15.602531,
          -6.4786906,
          36.05575,
          4.559446,
          -9.175924,
          -2.1828706,
          -18.678732,
          39.07036,
          -19.186506,
          -3.252258,
          -0.2627903,
          -16.663982,
          3.0301774,
          23.9108,
          -11.103801,
          2.153162,
          -16.719994,
          39.05794,
          6.196756,
          43.213505,
          -14.041802,
          -14.80455,
          2.864605,
          32.202538,
          -8.463873,
          -16.58547,
          -11.016907,
          -8.452838,
          -10.889199,
          29.088696,
          31.492935,
          -20.221506,
          2.507741,
          -16.501549,
          31.22842,
          39.476707,
          11.961678,
          34.04299,
          8.592444,
          -0.9866934,
          41.89004,
          -6.103702,
          43.41731,
          -2.5126367,
          -13.638092,
          36.92411,
          -8.436688,
          -21.646326,
          -4.451164,
          3.1640706,
          -19.959423,
          -1.7636482,
          -25.145603,
          37.00414,
          -7.6527314,
          -15.536071,
          42.489914,
          -2.45112,
          -19.383932,
          42.5282,
          -13.737107,
          -20.090736,
          -11.177503,
          27.014688,
          -20.31915,
          24.019844,
          -4.075318,
          7.7987523,
          -25.274261,
          -2.034321,
          6.184224,
          28.187813,
          22.371233,
          -5.674839,
          -4.692749,
          -25.554668,
          -16.391832,
          -21.247477,
          9.189831,
          -9.4081545,
          -11.252813,
          -2.9688766,
          -9.685912,
          -20.713236,
          -20.009207,
          13.70416,
          -20.665638,
          -2.6087444,
          -12.1953745,
          1.3956391,
          14.586545,
          -17.913889,
          -6.472682,
          -17.800573,
          4.513566,
          -8.176777,
          -2.8217576,
          -14.6240015,
          -16.463858,
          -9.136367,
          -12.571274,
          51.33523,
          -14.524579,
          2.9823432,
          -6.818121,
          20.08193,
          -11.096369,
          -4.9383926,
          -7.890382,
          4.57724,
          -3.9811468,
          -19.3962,
          -0.77392536,
          -15.07164,
          -27.383492,
          0.68215746,
          -2.9237611,
          -3.1473606,
          -18.692186,
          6.620506,
          3.9383104,
          0.05492006,
          -13.44426,
          0.17412917,
          47.4438,
          36.720608,
          -4.446413,
          -2.6133754,
          -18.189482,
          32.17162,
          -3.535969,
          -13.736476,
          5.6519623,
          -8.075663,
          -16.051323,
          -11.002465,
          -14.8934765,
          -6.301615,
          16.403656,
          -24.235178,
          6.8113346,
          -1.1046938,
          -7.434679,
          39.81029,
          -7.8750873,
          -0.9534147,
          -15.725515,
          26.554367,
          34.303646,
          -3.4815629,
          5.3346987,
          5.7379427,
          -20.9482,
          9.77669,
          -19.127605,
          40.904716,
          -0.06355824,
          -17.378582,
          -14.258248,
          -5.303101,
          -5.8252215,
          -14.063515,
          43.157097,
          34.84894,
          -16.456602,
          2.066395,
          4.7225156,
          44.761765,
          40.748207,
          -22.105679,
          23.237488,
          8.849958,
          -5.2650623,
          -14.799144,
          -12.961309,
          23.494303,
          32.848766,
          -2.34781,
          47.003696,
          1.062058,
          -18.68882,
          -2.4275665,
          0.5864696,
          -22.916044,
          1.6696095,
          34.301605,
          7.028547,
          -10.321926,
          -18.84568,
          -25.739239,
          33.322124,
          -12.692817,
          -5.8038745,
          -4.221627,
          -12.846793,
          -16.235834,
          -5.660223,
          -24.025269,
          9.913972,
          23.51546,
          4.437846,
          -16.98374,
          -1.098857,
          15.7185545,
          -17.309208,
          -8.463873,
          -5.357659,
          -2.3810046,
          -2.809616,
          -14.553768,
          -3.6657436,
          36.779636,
          35.292053,
          -13.689813,
          41.31339,
          -13.913386,
          33.7435,
          -18.623375,
          0.19201347,
          5.73491,
          11.0515175,
          -3.3300922,
          -5.942567,
          30.234959,
          9.14161,
          -12.660532,
          44.09449,
          -13.966535,
          17.439333,
          31.137135,
          34.14725,
          47.71912,
          -1.0807332,
          25.743158,
          32.467926,
          -8.33656,
          15.00086,
          3.005683,
          -7.347558,
          7.2729774,
          -11.718452,
          -18.203316,
          41.776356,
          -17.737122,
          39.11453,
          -0.7647406,
          36.0596,
          -8.293069,
          -21.764967,
          -12.148979,
          -8.189552,
          5.1255417,
          42.639164,
          -5.4053793,
          30.313356,
          -5.714582,
          -13.91602,
          -25.533466,
          -19.203632,
          8.276083,
          -22.073515,
          -19.220215,
          29.051828,
          39.634228,
          29.216988,
          -3.979963,
          44.572628,
          -16.54307,
          -24.78834,
          -11.148397,
          -14.375988,
          4.278781,
          38.033268,
          6.3599377,
          51.231026,
          23.59683,
          39.970657,
          -2.3688848,
          -9.340203,
          46.055447,
          28.12687,
          -21.719282,
          0.6226172,
          -19.669403,
          3.8606896,
          -17.048887,
          3.551565,
          -8.704829,
          3.7985864,
          -2.2122343,
          -8.06448,
          -12.837168,
          -3.743603,
          -18.304213,
          -8.752759,
          30.544502,
          43.606586,
          -16.349407,
          21.35097,
          -8.110308,
          44.90023,
          -21.304249,
          41.530624,
          -5.9153075,
          8.163849,
          30.851936,
          -2.4053667,
          -21.856615,
          -14.305048,
          27.313675,
          -11.076445,
          35.285435,
          6.573451,
          24.39698,
          -22.875517,
          36.199417,
          -2.7375486,
          -4.855239,
          -11.589806,
          19.661154,
          -16.255703,
          -5.0448284,
          8.010474,
          -6.737444,
          0.008803565,
          -10.46204,
          -2.4700596,
          -7.610519,
          17.766344,
          15.770678,
          31.90085,
          -24.427124,
          42.65366,
          2.613314,
          -21.128504,
          -4.8721776,
          -1.8867176,
          33.387627,
          -3.0132895,
          -4.540683,
          10.324776,
          -18.470896,
          30.724215,
          -15.168062,
          -26.20797,
          2.8705845,
          -22.363499,
          -3.4825716,
          30.312016,
          -0.22195743,
          30.880255,
          -8.791849,
          -10.233332,
          -19.998335,
          -13.207323,
          42.972336,
          46.55205,
          -13.716663,
          -10.828562,
          3.3779895,
          34.09933,
          44.133827,
          -2.7512717,
          -23.493168,
          1.5716141,
          37.79607,
          -14.292841,
          28.404482,
          -13.194791,
          32.715836,
          -15.599446,
          7.05912,
          -21.456867,
          -23.71495,
          7.481399,
          -22.835577,
          2.4675279,
          -23.82939,
          -8.280429,
          9.834851,
          -24.167229,
          27.50153,
          -18.484383,
          -9.409389,
          -10.006927,
          -7.6160955,
          2.497084,
          -5.8811536,
          2.8290086,
          8.065531,
          -11.954629,
          41.55254,
          40.862232,
          -23.878748,
          -10.445103,
          51.20955,
          -1.6748966,
          -4.420728,
          -15.064364,
          -7.82698,
          -14.196599,
          -4.302122,
          44.078716,
          -0.67138255,
          -20.381008,
          -20.44768,
          4.3064065,
          40.606613,
          46.722836,
          -23.912706,
          40.84036,
          5.7099967,
          0.121193066,
          51.31034,
          4.0104723,
          1.9862846,
          35.971535,
          -18.446186,
          -6.789386,
          -9.638951,
          -21.588266,
          -14.69529,
          2.158784,
          36.011383,
          -14.529183,
          -3.3230624,
          5.8922596,
          0.0034052925,
          -2.933352,
          -5.2765737,
          -20.515093,
          -18.475836,
          -0.24936612,
          7.670958,
          -12.540101,
          -3.2570481,
          1.7375559,
          35.270092,
          -6.9236536,
          -13.514973,
          4.2227254,
          4.885825,
          -19.602278,
          -2.1467628,
          45.248005,
          10.608469,
          27.893665,
          -10.578144,
          -15.222414,
          45.406834,
          14.583082,
          -2.1710532,
          7.6620426,
          -20.043114,
          43.77059,
          -13.419903,
          -16.591244,
          36.60543,
          31.243736,
          -21.975111,
          -2.1552162,
          29.393326,
          15.772788,
          -5.1649585,
          28.861135,
          -4.733147,
          -2.0224192,
          50.936672,
          35.933464,
          -24.445833,
          -15.966156,
          40.65378,
          5.621479,
          -0.6208816,
          -15.681743,
          1.4334135,
          47.56118,
          11.11553,
          21.601854,
          -19.369576,
          6.59733,
          -13.598573,
          39.668106,
          37.521744,
          8.0773,
          0.12853757,
          -14.635089,
          -18.686014,
          -9.83643,
          9.0096855,
          -4.9316654,
          28.508276,
          38.874588,
          35.58332,
          -5.048711,
          33.663265,
          41.12739,
          -0.98001534,
          -18.914183,
          -17.808601,
          -20.618717,
          -14.103961,
          -6.7839336,
          -13.44843,
          1.9369203,
          -5.5876946,
          4.2081723,
          10.263057,
          -22.652994,
          44.503727,
          -3.721951,
          36.3266,
          31.965067,
          -14.833259,
          4.379763,
          33.955757,
          41.575638,
          41.89,
          -9.07033,
          0.09229703,
          5.5655465,
          40.17286,
          -11.881082,
          -6.4136715,
          -7.922207,
          -15.750034,
          2.5626624,
          37.26874,
          44.892014,
          39.962708,
          44.253624,
          -3.5883224,
          29.004469,
          -17.498978,
          -6.9480176,
          -20.40917,
          36.68851,
          -16.424389,
          35.450733,
          -17.272034,
          46.44422,
          -10.922252,
          7.6958184,
          37.15663,
          -21.359419,
          -17.272888,
          18.51822,
          37.778442,
          34.72646,
          -24.132341,
          -10.307689,
          45.60656,
          11.13836,
          -15.9534645,
          9.740603,
          -19.50477,
          -20.37671,
          -15.013231,
          2.6045356,
          -23.918432,
          37.967896,
          -7.4567156,
          -17.709312,
          -17.7228,
          -7.0561137,
          39.760357,
          -9.265694,
          -3.3235145,
          29.19175,
          32.986973,
          -16.954853,
          38.62434,
          38.717983,
          -11.575942,
          41.48055,
          -1.6019285,
          -15.020282,
          5.4909654,
          -11.138664,
          24.31561,
          34.77094,
          -10.191138,
          5.385594,
          1.5111599,
          36.53954,
          36.275284,
          -11.243578,
          45.61709,
          40.229984,
          -18.528294,
          28.584234,
          7.6633735,
          -17.504389,
          -5.590454,
          9.05201,
          8.604552,
          51.179962,
          15.8432255,
          -1.0690554,
          35.07971,
          34.051662,
          29.59224,
          -7.7626796,
          -2.0527508,
          -10.30445,
          9.917648,
          -8.020862,
          0.42207992,
          -19.610435,
          5.1115446,
          32.81025,
          -2.40345,
          -10.309717,
          -0.90509784,
          -4.3577375,
          11.288597,
          -0.1424161,
          -17.707525,
          -13.37495,
          21.708912,
          -5.4783854,
          -12.538892,
          -9.038863,
          0.19238481,
          -8.797219,
          33.599583,
          7.590643,
          20.372614,
          20.689081,
          -23.822063,
          3.1623905
         ],
         "xaxis": "x",
         "y": [
          8.049994,
          -9.564714,
          12.216225,
          16.46355,
          19.151302,
          -29.734732,
          15.490909,
          20.860376,
          2.3045292,
          16.530848,
          6.3886037,
          12.690474,
          1.7690729,
          -22.410458,
          -11.042934,
          -10.440511,
          10.421019,
          -26.833738,
          -21.422926,
          -5.4865384,
          5.9304976,
          -2.7513144,
          11.586933,
          -15.520495,
          20.718756,
          -13.497831,
          16.268011,
          3.9459991,
          -17.767523,
          17.811916,
          -11.815784,
          0.13735934,
          -33.9245,
          -18.52088,
          -2.6554341,
          -6.3603787,
          -28.584414,
          -20.677164,
          5.7844186,
          29.263515,
          13.670631,
          20.726725,
          -0.25869936,
          -21.85674,
          -18.072948,
          7.2856,
          2.3356233,
          -25.707642,
          15.892382,
          -30.825119,
          16.470299,
          -2.791207,
          -21.441235,
          17.809792,
          26.939472,
          -11.743074,
          19.51617,
          -13.586644,
          9.891784,
          -18.361988,
          23.606731,
          11.2442875,
          -29.664396,
          13.515628,
          -10.152178,
          8.092214,
          -4.017035,
          -21.431238,
          9.155921,
          20.355564,
          13.03708,
          -21.648182,
          24.182333,
          1.2080424,
          -0.5172601,
          -11.500028,
          -13.057602,
          -9.698476,
          3.316213,
          25.516203,
          31.243122,
          1.2916982,
          -31.710514,
          1.7896429,
          25.01711,
          21.182528,
          -21.92475,
          20.901592,
          17.781046,
          18.324295,
          10.843909,
          -8.381892,
          0.3600858,
          -29.347124,
          -2.5146885,
          -0.44185245,
          -31.671196,
          -11.563438,
          22.112741,
          1.5700592,
          8.298773,
          10.139246,
          2.918331,
          -13.435952,
          14.165575,
          3.0988688,
          -29.98288,
          11.057638,
          -16.257141,
          9.243262,
          22.703,
          4.204546,
          17.571844,
          7.3825903,
          3.0864396,
          -18.84932,
          6.9018946,
          -16.16844,
          -1.5535419,
          -1.4470378,
          16.363285,
          21.195004,
          -27.1919,
          -27.865217,
          -5.352756,
          -8.003199,
          15.67067,
          -16.958353,
          13.404054,
          -18.08376,
          -28.086487,
          5.4746923,
          16.88838,
          3.4468336,
          -20.997553,
          4.076778,
          14.104947,
          -21.414522,
          -17.180706,
          -22.25106,
          3.691072,
          7.921754,
          14.403417,
          30.363497,
          -29.741688,
          18.319891,
          -29.257402,
          0.086846285,
          12.646495,
          19.558107,
          27.426243,
          21.498144,
          5.496046,
          19.266268,
          18.949644,
          9.999294,
          -10.942457,
          -21.155142,
          -1.7642264,
          3.7126687,
          -30.148712,
          -1.4595295,
          1.6349641,
          -2.3805091,
          9.564817,
          21.14184,
          8.894652,
          5.4669104,
          10.663359,
          -3.2957964,
          -0.10339908,
          -7.1929502,
          18.737257,
          6.1248584,
          -0.2832733,
          -27.656792,
          11.775547,
          -19.537115,
          9.059661,
          -6.5160418,
          -32.220127,
          15.187592,
          11.043421,
          -11.455528,
          -31.706331,
          20.532988,
          -22.880053,
          -5.6340146,
          -2.6122286,
          28.922014,
          11.146126,
          -13.53904,
          17.016758,
          14.361461,
          -15.030615,
          9.22742,
          10.703338,
          7.4082074,
          23.588896,
          0.9922044,
          15.217153,
          5.272033,
          -22.591389,
          10.717641,
          0.47095165,
          14.45363,
          4.31989,
          15.312347,
          -20.538635,
          18.26985,
          9.45052,
          -6.412095,
          -27.002844,
          -0.21118864,
          0.68605334,
          -29.045944,
          -12.163064,
          22.188803,
          -14.6637745,
          -14.02237,
          26.632017,
          -22.458565,
          23.164503,
          12.284951,
          31.269588,
          -3.5561538,
          -20.967253,
          3.1912723,
          -18.498575,
          -6.900005,
          15.874326,
          -5.3513355,
          18.08474,
          -22.112421,
          1.1511998,
          14.030308,
          -12.556374,
          -25.115738,
          9.441262,
          26.246601,
          22.833347,
          4.4377017,
          -27.787066,
          -0.71548146,
          9.744488,
          11.962786,
          -0.24168105,
          17.715748,
          1.9967816,
          -26.27746,
          -6.4857883,
          4.1161404,
          -30.299877,
          21.061666,
          -30.386152,
          -23.878983,
          -6.178287,
          -18.933634,
          -0.26064348,
          -6.8926973,
          -34.340576,
          5.437645,
          1.810818,
          8.422346,
          -22.354446,
          9.135906,
          -32.41079,
          -6.0443144,
          21.733524,
          1.2850842,
          18.722317,
          20.812132,
          18.170946,
          12.856371,
          3.0995927,
          -0.5661335,
          -29.323414,
          3.1685438,
          -21.41359,
          11.932829,
          -25.108313,
          -6.3582635,
          5.859377,
          -20.35873,
          16.169466,
          21.613575,
          -21.338425,
          1.4538617,
          26.203722,
          12.975208,
          5.7262783,
          12.832365,
          23.009829,
          -2.1157043,
          11.605559,
          22.518038,
          7.4707913,
          25.003908,
          9.02466,
          11.226374,
          -28.48969,
          -10.88749,
          5.79968,
          -21.86852,
          -32.23833,
          17.687717,
          19.842339,
          -14.00341,
          -25.145483,
          13.741933,
          -14.326123,
          -32.01663,
          19.362865,
          -2.000475,
          -21.788525,
          -16.000698,
          7.095723,
          10.673953,
          10.14423,
          13.557693,
          14.257325,
          -20.313202,
          -20.258406,
          9.511195,
          4.60552,
          -9.3403845,
          22.903742,
          11.081174,
          -26.387896,
          13.022326,
          26.191763,
          8.474771,
          -4.2262664,
          -14.797419,
          11.853036,
          -10.128882,
          -17.89926,
          -22.513369,
          1.9549574,
          0.6812734,
          -27.444788,
          3.6113434,
          0.1905181,
          -26.63514,
          -0.92783093,
          -31.468988,
          24.222324,
          -20.971928,
          -18.612125,
          6.3235226,
          2.4290261,
          -12.679018,
          12.524865,
          23.327585,
          11.364793,
          -2.1468463,
          10.26955,
          -2.799211,
          11.314954,
          7.0941353,
          6.0612564,
          17.502012,
          -6.3398767,
          13.893985,
          7.8644094,
          -12.477424,
          16.787666,
          -28.344568,
          -34.233063,
          14.59296,
          11.010729,
          8.656829,
          27.75574,
          23.007341,
          17.372107,
          27.493969,
          -18.159908,
          -31.151247,
          6.756497,
          19.408436,
          13.126354,
          8.241272,
          14.228696,
          -20.527903,
          16.903702,
          1.0117214,
          -25.942978,
          -3.9388952,
          18.162462,
          -22.562798,
          10.685704,
          16.180098,
          -18.803991,
          15.29977,
          2.5084527,
          -19.745827,
          4.8584065,
          21.529331,
          21.136204,
          11.930057,
          17.919027,
          10.30951,
          -12.57729,
          -5.764639,
          6.50951,
          29.959564,
          13.84938,
          -12.205577,
          -29.658615,
          -5.4715543,
          12.290945,
          8.052395,
          9.81281,
          14.0502,
          1.9611247,
          5.934017,
          -25.704525,
          -4.283849,
          5.6708,
          -21.73334,
          5.8541756,
          -25.746115,
          -11.683966,
          -1.6970336,
          -1.0991678,
          1.2216692,
          -16.531023,
          5.04177,
          -13.484891,
          24.733158,
          6.6593094,
          21.878645,
          -5.5414243,
          26.301119,
          -15.962192,
          10.325917,
          14.90823,
          29.13711,
          15.603153,
          19.210289,
          21.128769,
          24.589098,
          -31.119583,
          14.423687,
          -0.16616634,
          13.717307,
          -10.2826805,
          -20.70114,
          -12.076042,
          -19.34713,
          -15.478674,
          -20.739151,
          -24.237522,
          11.012071,
          15.33688,
          9.23885,
          4.0758686,
          3.747523,
          3.8808374,
          1.2694694,
          -12.102615,
          15.173045,
          7.514517,
          -11.71575,
          16.496655,
          -18.822136,
          9.441351,
          1.6292895,
          19.975477,
          -0.56530863,
          -31.302404,
          8.960697,
          17.481655,
          -15.177651,
          -9.397973,
          2.6847825,
          19.595343,
          -26.824835,
          2.5257761,
          -1.5978098,
          13.791432,
          11.671291,
          6.64134,
          -14.985651,
          -8.961709,
          29.352196,
          -4.4063563,
          -15.369622,
          -7.044329,
          14.85249,
          3.987564,
          26.375673,
          -28.252186,
          11.448011,
          2.0208805,
          20.3216,
          21.054007,
          -27.728966,
          20.1557,
          -19.974897,
          6.0305476,
          -16.070728,
          -14.165455,
          22.881922,
          19.167633,
          -20.839893,
          22.191645,
          8.064843,
          -30.26543,
          20.872139,
          26.166582,
          7.2947774,
          -9.098896,
          16.607227,
          15.387985,
          -28.102285,
          6.958578,
          16.205046,
          21.653738,
          16.24941,
          -1.3557786,
          3.8211882,
          22.1614,
          20.113047,
          -18.327677,
          -20.379421,
          -0.48789412,
          8.866709,
          13.064928,
          20.750782,
          0.32127133,
          -14.321998,
          -15.597862,
          11.331966,
          -25.697092,
          -11.307477,
          12.457852,
          -32.524662,
          0.0018917641,
          -5.63138,
          27.664286,
          -4.6958547,
          -9.7813635,
          -23.4261,
          -7.608516,
          -9.42148,
          11.047198,
          -27.109795,
          0.06193442,
          -29.02732,
          15.436959,
          -5.319334,
          15.88387,
          -14.6721525,
          14.895648,
          11.469556,
          -10.832358,
          -30.164938,
          2.3539732,
          14.853244,
          28.921432,
          20.412062,
          1.8146387,
          -25.307302,
          13.9442425,
          -23.916916,
          -1.8740174,
          -31.82409,
          -18.62039,
          9.606029,
          10.354501,
          -34.602802,
          -21.979246,
          12.885279,
          18.99813,
          24.148516,
          -21.118736,
          1.3154103,
          -21.213415,
          -29.611942,
          16.34308,
          -15.03652,
          -3.1616294,
          8.092156,
          3.255784,
          4.2276297,
          20.333221,
          -25.09079,
          6.155871,
          -16.975927,
          -11.738448,
          1.3016412,
          16.037764,
          -0.15367198,
          14.147974,
          -14.557458,
          1.69277,
          6.0520577,
          18.41421,
          -11.436206,
          -20.905941,
          28.167534,
          -34.613632,
          -21.011593,
          2.726057,
          2.1938052,
          19.799822,
          -27.545746,
          21.653566,
          -19.720573,
          22.684805,
          0.5094648,
          24.742973,
          2.9507778,
          -2.5997043,
          19.68831,
          -26.322063,
          11.840553,
          -21.471727,
          27.620422,
          -9.409848,
          -15.22199,
          -6.8076515,
          0.81491816,
          -0.44496593,
          -16.227505,
          -24.596018,
          -31.661303,
          6.1488233,
          -13.313509,
          13.750984,
          -16.65167,
          14.858138,
          16.345392,
          10.391777,
          -5.707871,
          11.405291,
          18.399563,
          1.4563686,
          0.87399596,
          0.76827234,
          3.6618927,
          5.7682548,
          -11.099546,
          14.045792,
          6.730046,
          24.535698,
          -2.5325463,
          21.45864,
          9.216637,
          -22.362917,
          21.61893,
          10.439565,
          23.971647,
          15.890066,
          24.563705,
          -32.50463,
          21.729527,
          -7.8163443,
          -28.657587,
          15.225723,
          9.252728,
          -12.774641,
          6.3449697,
          -14.181954,
          -31.901852,
          18.483875,
          -0.20029587,
          -12.65758,
          9.730319,
          -31.849762,
          12.4751835,
          3.6382213,
          9.819735,
          -0.94439167,
          -8.797584,
          -12.483652,
          28.889841,
          -34.43895,
          -14.3525505,
          0.11204277,
          -34.04742,
          25.561287,
          13.775973,
          -23.17851,
          -0.7280852,
          17.39024,
          21.003933,
          -12.366099,
          -16.96352,
          15.999074,
          13.88036,
          -14.912895,
          21.504644,
          21.743946,
          29.093971,
          25.82664,
          -26.081974,
          -7.045671,
          21.236002,
          -16.287445,
          17.996067,
          2.6096468,
          -21.638197,
          23.482197,
          7.4428473,
          12.733004,
          -20.00876,
          -5.137658,
          -16.992538,
          20.886078,
          9.786281,
          6.53249,
          -20.363707,
          7.1157126,
          -19.746359,
          -16.027822,
          -10.330661,
          -13.486416,
          -14.09685,
          -6.833554,
          -22.506844,
          -25.286718,
          -31.199335,
          -27.90138,
          -21.825651,
          0.27086425,
          -25.8785,
          13.181468,
          -10.359794,
          -8.252722,
          -10.15054,
          26.303139,
          -28.76573,
          12.567887,
          15.792773,
          -20.796152,
          13.263109,
          10.558448,
          -16.584097,
          14.829488,
          -28.532887,
          -11.896793,
          -11.598257,
          -14.769856,
          -2.6663086,
          3.389635,
          18.879522,
          7.595266,
          0.084987566,
          18.339727,
          -6.5758405,
          14.639392,
          4.187494,
          12.610552,
          -3.493614,
          -20.892359,
          -2.0351431,
          1.32997,
          4.534675,
          -8.173689,
          -20.972794,
          11.533809,
          -26.332996,
          -22.69564,
          -16.750977,
          19.156494,
          2.7057784,
          9.731502,
          -23.823181,
          19.615522,
          9.893328,
          -12.201882,
          23.35022,
          6.8854885,
          21.412216,
          -28.314383,
          0.51535344,
          -24.7517,
          5.0149207,
          -18.478228,
          3.866222,
          -27.266592,
          -0.8423184,
          -21.433018,
          -8.568774,
          -13.69514,
          14.163119,
          2.783557,
          -8.178002,
          4.577009,
          8.328132,
          3.6043546,
          8.606346,
          28.736044,
          -15.594486,
          -21.46971,
          27.818258,
          1.7203836,
          14.49096,
          10.515028,
          13.724845,
          -0.48306102,
          -22.463646,
          4.0642166,
          9.583858,
          18.613585,
          -21.274752,
          19.00683,
          -0.90000963,
          9.65606,
          5.046404,
          6.049805,
          -7.9007335,
          -24.548042,
          -12.733756,
          24.725452,
          -25.77173,
          -24.002659,
          19.975883,
          -23.116055,
          18.854738,
          -20.549793,
          4.817868,
          -16.589998,
          6.0928764,
          -6.72154,
          2.26682,
          17.218336,
          -17.8664,
          15.937776,
          14.3712015,
          -24.4825,
          15.441674,
          -32.410713,
          21.036972,
          -21.612179,
          -7.8275595,
          -30.25968,
          22.847546,
          -27.314114,
          21.746653,
          -0.9560083,
          -7.630506,
          -24.41014,
          -9.946736,
          -24.663118,
          -1.6739115,
          8.369536,
          -23.81492,
          1.6580708,
          0.5413296,
          -15.958834,
          -2.517061,
          21.854565,
          29.151718,
          -2.1054802,
          -2.9531617,
          6.538134,
          25.780056,
          13.675681,
          12.180315,
          2.7416518,
          23.326412,
          7.784445,
          16.707106,
          -30.612305,
          -7.86647,
          -30.717009,
          10.558604,
          -31.230528,
          -26.249971,
          -5.11976,
          -0.25631982,
          -28.563868,
          21.078411,
          14.71878,
          -19.606085,
          20.638952,
          -25.514284,
          -27.038778,
          14.409632,
          -26.008179,
          7.8399496,
          8.973852,
          16.111576,
          4.0823617,
          0.3409894,
          15.785319,
          0.84192866,
          -18.355383,
          17.5485,
          22.804203,
          7.2938356,
          -15.376661,
          -29.377058,
          -30.780298,
          -22.426006,
          18.380299,
          -12.280529,
          15.449661,
          21.761229,
          11.799032,
          9.508106,
          -3.0667048,
          -22.785372,
          -7.230079,
          -24.008244,
          -24.876923,
          19.563465,
          -23.868048,
          21.794556,
          -0.42703104,
          12.352287,
          21.32177,
          14.976751,
          -28.356106,
          -13.7428255,
          -31.170578,
          14.586438,
          14.240145,
          8.611767,
          25.501713,
          -10.971958,
          8.915578,
          -16.67614,
          0.47553122,
          -31.942774,
          -20.306875,
          -16.797092,
          2.473091,
          -15.920962,
          22.986458,
          -27.093191,
          -30.465206,
          -21.454168,
          -5.5485773,
          -21.802868,
          10.486786,
          -22.33794,
          -28.600346,
          -2.0521512,
          -25.451445,
          -32.277863,
          11.618965,
          7.7969723,
          21.707357,
          -3.9146216,
          2.66944,
          -32.12856,
          -5.4657955,
          4.426076,
          29.02327,
          5.877285,
          30.710917,
          -21.88353,
          -22.848574,
          -12.4106865,
          -10.66004,
          16.4607,
          21.386019,
          -4.9799414,
          23.753635,
          1.7676824,
          -19.740767,
          -2.4089727,
          -12.598107,
          4.298459,
          -15.728918,
          12.842838,
          2.0648048,
          -11.505005,
          -8.346974,
          3.5645137,
          0.22646978,
          13.517041,
          8.722861,
          30.362183,
          -18.835867,
          -6.516756,
          19.171814,
          6.536091,
          -22.520065,
          11.449472,
          -10.685002,
          -28.860527,
          -0.037050944,
          -25.390572,
          -1.0605943,
          -6.3867655,
          15.034673,
          4.009547,
          -24.09753,
          30.128275,
          -27.39239,
          -14.831449,
          -21.71349,
          -34.25106,
          8.372124,
          9.492942,
          14.053588,
          -15.422929,
          -0.5526925,
          6.3193026,
          -20.450588,
          0.6969832,
          4.392732,
          19.05991,
          -21.811298,
          15.120213,
          23.454441,
          16.300362,
          -1.5655837,
          -14.385549,
          14.084765,
          4.158317,
          -17.51053,
          15.751633,
          22.303772,
          -17.863844,
          -34.386574,
          9.155334,
          -13.7789135,
          28.61944,
          -16.804445,
          7.3313117,
          4.5330005,
          -16.225657,
          -5.077416,
          20.04341,
          -23.352798,
          -14.561357,
          -18.465464,
          -12.821193,
          -3.4024956,
          -9.066194,
          -18.79308,
          10.160608,
          -0.5445428,
          27.73415,
          -18.91394,
          5.098374,
          14.094946,
          -14.128285,
          18.611109,
          4.601611,
          -12.442703,
          4.7225614,
          22.817326,
          -26.315247,
          -11.109666,
          22.063913,
          1.011042,
          4.99465,
          -30.520208,
          -18.03409,
          -19.709183,
          29.72513,
          -16.065228,
          8.693428,
          10.347234,
          -6.6213026,
          -4.3645988,
          -27.537203,
          26.254692,
          -29.553982,
          -15.665042,
          3.9550357,
          9.739948,
          3.635986,
          5.131058,
          7.50498,
          -3.4574149,
          -8.576429,
          14.731549,
          17.213387,
          -19.05818,
          26.129358,
          -18.83728,
          13.207555,
          19.806147,
          -4.4562216,
          20.536715,
          -2.4046066,
          22.402859,
          24.593805,
          -24.150814,
          -34.534447,
          12.997151,
          12.365159,
          10.8720045,
          -7.9275045,
          26.053228,
          18.145813,
          9.184371,
          6.357456,
          -21.128992,
          -9.633915,
          21.679823,
          -28.25463,
          17.26075,
          2.365524,
          -4.702098,
          12.911282,
          13.618827,
          5.818806,
          -24.169691,
          2.7979505,
          0.03497061,
          4.7309456,
          28.237492,
          -9.550953,
          -12.208981,
          -1.1638038,
          7.6555166,
          10.0812025,
          21.04166,
          -24.405106,
          -8.898318,
          3.5824876,
          -1.6440483,
          17.07944,
          19.079237,
          -30.927544,
          -1.4561595,
          -27.453104,
          -13.006753,
          -24.517025,
          -24.61114,
          12.527777,
          -16.278996,
          14.05088,
          -15.380066,
          14.886633,
          18.958,
          11.61405,
          7.2776947,
          8.787991,
          7.3373933,
          -21.379045,
          26.192541,
          11.886251,
          -4.999483,
          8.472402,
          -27.936522,
          21.892218,
          0.5797602,
          28.48672,
          -10.165661,
          22.28842,
          17.49114,
          -3.650408,
          8.7231455,
          -8.273377,
          -28.315304,
          19.866898,
          -3.42973,
          16.869642,
          9.431715,
          8.880976,
          7.4683375,
          24.603056,
          8.320766,
          24.936518,
          -34.748394,
          -23.034561,
          -23.5401,
          9.008723,
          -6.5155616,
          17.759443,
          -29.868683,
          -0.40755847,
          12.396877,
          26.357897,
          21.79349,
          17.20367,
          13.508381,
          5.1154714,
          -11.137965,
          20.56603,
          18.696516,
          1.0995631,
          21.382069,
          -22.602388,
          4.731194,
          -27.929296,
          -24.564499,
          27.782953,
          4.125882,
          11.377668,
          0.66990924,
          -27.98867,
          11.013711,
          8.571229,
          -21.95967,
          3.6864085,
          -8.44275,
          -14.679772,
          4.839699,
          -18.493382,
          15.731053,
          16.581879,
          20.279661,
          12.853096,
          30.334625,
          -21.431103,
          -22.0359,
          22.131456,
          13.168571,
          1.4292659,
          10.8794,
          -19.624428,
          9.852825,
          -11.230588,
          27.315481,
          -26.42873,
          -13.536458,
          -17.0325,
          0.40346092,
          -30.298973,
          3.2951276,
          20.96481,
          2.8844316,
          -31.269728,
          6.3249426,
          9.181067,
          17.15505,
          7.4912953,
          -0.33039844,
          22.903034,
          -17.714136,
          30.94929,
          -21.040249,
          -30.050625,
          -2.5657458,
          -25.201113,
          0.29979578,
          16.595022,
          -3.8959246,
          7.7227116,
          -13.548507,
          20.635992,
          0.6139818,
          20.37324,
          21.621534,
          -26.689096,
          10.414789,
          26.962492,
          0.8657807,
          -7.2006884,
          -18.913837,
          20.071,
          8.788948,
          25.791645,
          -30.604767,
          22.562263,
          11.129601,
          2.4866943,
          -25.133335,
          21.476494,
          7.929688,
          7.5509844,
          -9.700463,
          -5.5432644,
          -27.06199,
          21.1984,
          24.558765,
          -29.390123,
          -20.436123,
          -7.9012175,
          -12.20026,
          14.758468,
          -11.14176,
          -2.8296797,
          22.73186,
          21.404505,
          7.982504,
          12.865503,
          -0.7064081,
          -17.515322,
          -9.445518,
          -28.414164,
          -3.5326946,
          17.831223,
          -2.4538877,
          -17.884087,
          -19.375412,
          -12.775437,
          12.168498,
          -9.696021,
          10.072111,
          -23.10673,
          25.953651,
          4.5836244,
          13.174413,
          -10.280423,
          15.374692,
          2.7850652,
          17.363037,
          -21.572931,
          0.7295334,
          9.090513,
          2.2078354,
          5.199069,
          -32.830875,
          -15.915681,
          3.4971795,
          2.0133028,
          -26.249346,
          9.2689495,
          -21.96239,
          1.6633542,
          15.591867,
          15.51907,
          3.5779085,
          6.559614,
          4.717317,
          -13.836799,
          11.033535,
          21.594051,
          -19.769936,
          12.816989,
          -7.3670125,
          10.556584,
          -31.362104,
          -27.42084,
          9.509859,
          14.794338,
          22.190302,
          3.2536247,
          -32.022316,
          6.699292,
          -18.720762,
          -30.27388,
          -14.330377,
          -31.316702,
          -27.075481,
          14.134342,
          1.0830444,
          19.255384,
          19.084658,
          3.2074697,
          -23.696028,
          -11.580274,
          -30.41303,
          8.575323,
          5.4882846,
          0.65958333,
          -1.4664171,
          -27.636322,
          4.8579197,
          14.460334,
          -20.066813,
          0.9523859,
          3.426951,
          11.768197,
          12.039604,
          -24.038153,
          -17.28189,
          3.6999612,
          -8.080959,
          -29.854315,
          15.437283,
          -12.866743,
          5.520179,
          -9.45766,
          14.151439,
          -4.3237405,
          -15.324914,
          18.018572,
          -4.4451656,
          -28.082455,
          -15.092025,
          -12.994251,
          1.9792341,
          2.2272139,
          -18.164751,
          24.703323,
          -10.710317,
          -15.487924,
          26.361618,
          8.9721365,
          -23.804798,
          12.707469,
          -21.98194,
          17.163023,
          -21.693256,
          -26.921175,
          28.108686,
          2.7029805,
          2.027628,
          -23.912817,
          20.994534,
          -1.0642837,
          19.587334,
          0.67848164,
          -18.787804,
          -23.581799,
          -23.255695,
          1.511314,
          6.9595275,
          23.345812,
          4.0076847,
          1.1012044,
          19.616863,
          24.389666,
          -18.85056,
          12.193688,
          22.477486,
          -21.817448,
          14.9228945,
          1.1108315,
          -33.455093,
          2.2641134,
          4.4508247,
          27.63125,
          30.096462,
          0.72271115,
          -19.52067,
          -15.244985,
          -4.26701,
          -25.79773,
          -1.0740969,
          -12.165727,
          22.438105,
          -20.556744,
          -16.019802,
          -10.1146755,
          12.882858,
          4.745858,
          -12.510047,
          -2.753878,
          -2.8492396,
          29.435928,
          13.408005,
          -19.896418,
          -21.059387,
          21.009949,
          9.982711,
          5.056581,
          -4.666019,
          8.93864,
          -0.49621916,
          -25.585594,
          27.429152,
          15.80943,
          29.933712,
          21.525078,
          -27.345049,
          -13.481277,
          -18.131174,
          11.828915,
          -12.79247,
          -12.386789,
          21.217989,
          0.9573636,
          -23.169468,
          5.091707,
          18.955002,
          16.725853,
          -14.112229,
          13.851129,
          18.481037,
          4.2354813,
          -22.202948,
          -14.190242,
          -9.570883,
          -2.6009452,
          19.530312,
          -27.863985,
          -2.0452921,
          6.225096,
          -7.5477195,
          6.300347,
          6.760829,
          -2.3823168,
          11.539332,
          -11.81352,
          19.826931,
          17.671959,
          14.324299,
          4.814443,
          6.4888506,
          10.983978,
          4.9340553,
          14.169391,
          0.42186138,
          15.540142,
          -16.483473,
          8.696059,
          -21.86078,
          26.905771,
          20.30149,
          7.6454363,
          12.151763,
          17.481688,
          13.574391,
          9.690452,
          -24.212381,
          5.522346,
          -22.683634,
          27.358517,
          29.805988,
          18.553982,
          -9.453245,
          11.692291,
          3.3453493,
          18.8952,
          22.55056,
          20.811441,
          -6.4828553,
          6.7088056,
          19.716715,
          -11.434541,
          22.052084,
          16.748497,
          9.200233,
          17.692951,
          5.5160537,
          -31.423754,
          7.217765,
          -15.062415,
          10.659274,
          -10.962199,
          13.001787,
          20.410858,
          5.291833,
          -5.27918,
          -31.260008,
          -3.4584982,
          6.6131206,
          4.9443307,
          -26.691074,
          -1.0725363,
          4.149996,
          -24.154406,
          11.949284,
          -14.334028,
          19.35991,
          1.7795702,
          -15.196323,
          -13.348391,
          3.098662,
          21.897562,
          -22.92965,
          5.007156,
          6.8777647,
          18.80707,
          -16.72125,
          2.706583,
          -29.457138,
          -18.126396,
          -31.986921,
          -29.44353,
          7.8004966,
          -14.084561,
          1.8185401,
          -14.662589,
          -24.271818,
          -24.65147,
          -34.82058,
          -18.440092,
          -34.83134,
          8.079454,
          13.138229,
          20.852047,
          -15.451817,
          9.867928,
          -4.89011,
          -25.959162,
          1.0875076,
          4.777738,
          -17.566093,
          21.016975,
          20.516594,
          12.041591,
          -33.38402
         ],
         "yaxis": "y"
        },
        {
         "customdata": [
          [
           "chinese"
          ]
         ],
         "hovertemplate": "highlight=%{text}<br>x=%{x}<br>y=%{y}<br>word=%{customdata[0]}<extra></extra>",
         "legendgroup": "chinese",
         "marker": {
          "color": "#EF553B",
          "symbol": "circle"
         },
         "mode": "markers+text",
         "name": "chinese",
         "showlegend": true,
         "text": [
          "chinese"
         ],
         "type": "scattergl",
         "x": [
          -8.182077
         ],
         "xaxis": "x",
         "y": [
          -33.353676
         ],
         "yaxis": "y"
        }
       ],
       "layout": {
        "legend": {
         "title": {
          "text": "highlight"
         },
         "tracegroupgap": 0
        },
        "template": {
         "data": {
          "bar": [
           {
            "error_x": {
             "color": "#2a3f5f"
            },
            "error_y": {
             "color": "#2a3f5f"
            },
            "marker": {
             "line": {
              "color": "#E5ECF6",
              "width": 0.5
             },
             "pattern": {
              "fillmode": "overlay",
              "size": 10,
              "solidity": 0.2
             }
            },
            "type": "bar"
           }
          ],
          "barpolar": [
           {
            "marker": {
             "line": {
              "color": "#E5ECF6",
              "width": 0.5
             },
             "pattern": {
              "fillmode": "overlay",
              "size": 10,
              "solidity": 0.2
             }
            },
            "type": "barpolar"
           }
          ],
          "carpet": [
           {
            "aaxis": {
             "endlinecolor": "#2a3f5f",
             "gridcolor": "white",
             "linecolor": "white",
             "minorgridcolor": "white",
             "startlinecolor": "#2a3f5f"
            },
            "baxis": {
             "endlinecolor": "#2a3f5f",
             "gridcolor": "white",
             "linecolor": "white",
             "minorgridcolor": "white",
             "startlinecolor": "#2a3f5f"
            },
            "type": "carpet"
           }
          ],
          "choropleth": [
           {
            "colorbar": {
             "outlinewidth": 0,
             "ticks": ""
            },
            "type": "choropleth"
           }
          ],
          "contour": [
           {
            "colorbar": {
             "outlinewidth": 0,
             "ticks": ""
            },
            "colorscale": [
             [
              0,
              "#0d0887"
             ],
             [
              0.1111111111111111,
              "#46039f"
             ],
             [
              0.2222222222222222,
              "#7201a8"
             ],
             [
              0.3333333333333333,
              "#9c179e"
             ],
             [
              0.4444444444444444,
              "#bd3786"
             ],
             [
              0.5555555555555556,
              "#d8576b"
             ],
             [
              0.6666666666666666,
              "#ed7953"
             ],
             [
              0.7777777777777778,
              "#fb9f3a"
             ],
             [
              0.8888888888888888,
              "#fdca26"
             ],
             [
              1,
              "#f0f921"
             ]
            ],
            "type": "contour"
           }
          ],
          "contourcarpet": [
           {
            "colorbar": {
             "outlinewidth": 0,
             "ticks": ""
            },
            "type": "contourcarpet"
           }
          ],
          "heatmap": [
           {
            "colorbar": {
             "outlinewidth": 0,
             "ticks": ""
            },
            "colorscale": [
             [
              0,
              "#0d0887"
             ],
             [
              0.1111111111111111,
              "#46039f"
             ],
             [
              0.2222222222222222,
              "#7201a8"
             ],
             [
              0.3333333333333333,
              "#9c179e"
             ],
             [
              0.4444444444444444,
              "#bd3786"
             ],
             [
              0.5555555555555556,
              "#d8576b"
             ],
             [
              0.6666666666666666,
              "#ed7953"
             ],
             [
              0.7777777777777778,
              "#fb9f3a"
             ],
             [
              0.8888888888888888,
              "#fdca26"
             ],
             [
              1,
              "#f0f921"
             ]
            ],
            "type": "heatmap"
           }
          ],
          "heatmapgl": [
           {
            "colorbar": {
             "outlinewidth": 0,
             "ticks": ""
            },
            "colorscale": [
             [
              0,
              "#0d0887"
             ],
             [
              0.1111111111111111,
              "#46039f"
             ],
             [
              0.2222222222222222,
              "#7201a8"
             ],
             [
              0.3333333333333333,
              "#9c179e"
             ],
             [
              0.4444444444444444,
              "#bd3786"
             ],
             [
              0.5555555555555556,
              "#d8576b"
             ],
             [
              0.6666666666666666,
              "#ed7953"
             ],
             [
              0.7777777777777778,
              "#fb9f3a"
             ],
             [
              0.8888888888888888,
              "#fdca26"
             ],
             [
              1,
              "#f0f921"
             ]
            ],
            "type": "heatmapgl"
           }
          ],
          "histogram": [
           {
            "marker": {
             "pattern": {
              "fillmode": "overlay",
              "size": 10,
              "solidity": 0.2
             }
            },
            "type": "histogram"
           }
          ],
          "histogram2d": [
           {
            "colorbar": {
             "outlinewidth": 0,
             "ticks": ""
            },
            "colorscale": [
             [
              0,
              "#0d0887"
             ],
             [
              0.1111111111111111,
              "#46039f"
             ],
             [
              0.2222222222222222,
              "#7201a8"
             ],
             [
              0.3333333333333333,
              "#9c179e"
             ],
             [
              0.4444444444444444,
              "#bd3786"
             ],
             [
              0.5555555555555556,
              "#d8576b"
             ],
             [
              0.6666666666666666,
              "#ed7953"
             ],
             [
              0.7777777777777778,
              "#fb9f3a"
             ],
             [
              0.8888888888888888,
              "#fdca26"
             ],
             [
              1,
              "#f0f921"
             ]
            ],
            "type": "histogram2d"
           }
          ],
          "histogram2dcontour": [
           {
            "colorbar": {
             "outlinewidth": 0,
             "ticks": ""
            },
            "colorscale": [
             [
              0,
              "#0d0887"
             ],
             [
              0.1111111111111111,
              "#46039f"
             ],
             [
              0.2222222222222222,
              "#7201a8"
             ],
             [
              0.3333333333333333,
              "#9c179e"
             ],
             [
              0.4444444444444444,
              "#bd3786"
             ],
             [
              0.5555555555555556,
              "#d8576b"
             ],
             [
              0.6666666666666666,
              "#ed7953"
             ],
             [
              0.7777777777777778,
              "#fb9f3a"
             ],
             [
              0.8888888888888888,
              "#fdca26"
             ],
             [
              1,
              "#f0f921"
             ]
            ],
            "type": "histogram2dcontour"
           }
          ],
          "mesh3d": [
           {
            "colorbar": {
             "outlinewidth": 0,
             "ticks": ""
            },
            "type": "mesh3d"
           }
          ],
          "parcoords": [
           {
            "line": {
             "colorbar": {
              "outlinewidth": 0,
              "ticks": ""
             }
            },
            "type": "parcoords"
           }
          ],
          "pie": [
           {
            "automargin": true,
            "type": "pie"
           }
          ],
          "scatter": [
           {
            "fillpattern": {
             "fillmode": "overlay",
             "size": 10,
             "solidity": 0.2
            },
            "type": "scatter"
           }
          ],
          "scatter3d": [
           {
            "line": {
             "colorbar": {
              "outlinewidth": 0,
              "ticks": ""
             }
            },
            "marker": {
             "colorbar": {
              "outlinewidth": 0,
              "ticks": ""
             }
            },
            "type": "scatter3d"
           }
          ],
          "scattercarpet": [
           {
            "marker": {
             "colorbar": {
              "outlinewidth": 0,
              "ticks": ""
             }
            },
            "type": "scattercarpet"
           }
          ],
          "scattergeo": [
           {
            "marker": {
             "colorbar": {
              "outlinewidth": 0,
              "ticks": ""
             }
            },
            "type": "scattergeo"
           }
          ],
          "scattergl": [
           {
            "marker": {
             "colorbar": {
              "outlinewidth": 0,
              "ticks": ""
             }
            },
            "type": "scattergl"
           }
          ],
          "scattermapbox": [
           {
            "marker": {
             "colorbar": {
              "outlinewidth": 0,
              "ticks": ""
             }
            },
            "type": "scattermapbox"
           }
          ],
          "scatterpolar": [
           {
            "marker": {
             "colorbar": {
              "outlinewidth": 0,
              "ticks": ""
             }
            },
            "type": "scatterpolar"
           }
          ],
          "scatterpolargl": [
           {
            "marker": {
             "colorbar": {
              "outlinewidth": 0,
              "ticks": ""
             }
            },
            "type": "scatterpolargl"
           }
          ],
          "scatterternary": [
           {
            "marker": {
             "colorbar": {
              "outlinewidth": 0,
              "ticks": ""
             }
            },
            "type": "scatterternary"
           }
          ],
          "surface": [
           {
            "colorbar": {
             "outlinewidth": 0,
             "ticks": ""
            },
            "colorscale": [
             [
              0,
              "#0d0887"
             ],
             [
              0.1111111111111111,
              "#46039f"
             ],
             [
              0.2222222222222222,
              "#7201a8"
             ],
             [
              0.3333333333333333,
              "#9c179e"
             ],
             [
              0.4444444444444444,
              "#bd3786"
             ],
             [
              0.5555555555555556,
              "#d8576b"
             ],
             [
              0.6666666666666666,
              "#ed7953"
             ],
             [
              0.7777777777777778,
              "#fb9f3a"
             ],
             [
              0.8888888888888888,
              "#fdca26"
             ],
             [
              1,
              "#f0f921"
             ]
            ],
            "type": "surface"
           }
          ],
          "table": [
           {
            "cells": {
             "fill": {
              "color": "#EBF0F8"
             },
             "line": {
              "color": "white"
             }
            },
            "header": {
             "fill": {
              "color": "#C8D4E3"
             },
             "line": {
              "color": "white"
             }
            },
            "type": "table"
           }
          ]
         },
         "layout": {
          "annotationdefaults": {
           "arrowcolor": "#2a3f5f",
           "arrowhead": 0,
           "arrowwidth": 1
          },
          "autotypenumbers": "strict",
          "coloraxis": {
           "colorbar": {
            "outlinewidth": 0,
            "ticks": ""
           }
          },
          "colorscale": {
           "diverging": [
            [
             0,
             "#8e0152"
            ],
            [
             0.1,
             "#c51b7d"
            ],
            [
             0.2,
             "#de77ae"
            ],
            [
             0.3,
             "#f1b6da"
            ],
            [
             0.4,
             "#fde0ef"
            ],
            [
             0.5,
             "#f7f7f7"
            ],
            [
             0.6,
             "#e6f5d0"
            ],
            [
             0.7,
             "#b8e186"
            ],
            [
             0.8,
             "#7fbc41"
            ],
            [
             0.9,
             "#4d9221"
            ],
            [
             1,
             "#276419"
            ]
           ],
           "sequential": [
            [
             0,
             "#0d0887"
            ],
            [
             0.1111111111111111,
             "#46039f"
            ],
            [
             0.2222222222222222,
             "#7201a8"
            ],
            [
             0.3333333333333333,
             "#9c179e"
            ],
            [
             0.4444444444444444,
             "#bd3786"
            ],
            [
             0.5555555555555556,
             "#d8576b"
            ],
            [
             0.6666666666666666,
             "#ed7953"
            ],
            [
             0.7777777777777778,
             "#fb9f3a"
            ],
            [
             0.8888888888888888,
             "#fdca26"
            ],
            [
             1,
             "#f0f921"
            ]
           ],
           "sequentialminus": [
            [
             0,
             "#0d0887"
            ],
            [
             0.1111111111111111,
             "#46039f"
            ],
            [
             0.2222222222222222,
             "#7201a8"
            ],
            [
             0.3333333333333333,
             "#9c179e"
            ],
            [
             0.4444444444444444,
             "#bd3786"
            ],
            [
             0.5555555555555556,
             "#d8576b"
            ],
            [
             0.6666666666666666,
             "#ed7953"
            ],
            [
             0.7777777777777778,
             "#fb9f3a"
            ],
            [
             0.8888888888888888,
             "#fdca26"
            ],
            [
             1,
             "#f0f921"
            ]
           ]
          },
          "colorway": [
           "#636efa",
           "#EF553B",
           "#00cc96",
           "#ab63fa",
           "#FFA15A",
           "#19d3f3",
           "#FF6692",
           "#B6E880",
           "#FF97FF",
           "#FECB52"
          ],
          "font": {
           "color": "#2a3f5f"
          },
          "geo": {
           "bgcolor": "white",
           "lakecolor": "white",
           "landcolor": "#E5ECF6",
           "showlakes": true,
           "showland": true,
           "subunitcolor": "white"
          },
          "hoverlabel": {
           "align": "left"
          },
          "hovermode": "closest",
          "mapbox": {
           "style": "light"
          },
          "paper_bgcolor": "white",
          "plot_bgcolor": "#E5ECF6",
          "polar": {
           "angularaxis": {
            "gridcolor": "white",
            "linecolor": "white",
            "ticks": ""
           },
           "bgcolor": "#E5ECF6",
           "radialaxis": {
            "gridcolor": "white",
            "linecolor": "white",
            "ticks": ""
           }
          },
          "scene": {
           "xaxis": {
            "backgroundcolor": "#E5ECF6",
            "gridcolor": "white",
            "gridwidth": 2,
            "linecolor": "white",
            "showbackground": true,
            "ticks": "",
            "zerolinecolor": "white"
           },
           "yaxis": {
            "backgroundcolor": "#E5ECF6",
            "gridcolor": "white",
            "gridwidth": 2,
            "linecolor": "white",
            "showbackground": true,
            "ticks": "",
            "zerolinecolor": "white"
           },
           "zaxis": {
            "backgroundcolor": "#E5ECF6",
            "gridcolor": "white",
            "gridwidth": 2,
            "linecolor": "white",
            "showbackground": true,
            "ticks": "",
            "zerolinecolor": "white"
           }
          },
          "shapedefaults": {
           "line": {
            "color": "#2a3f5f"
           }
          },
          "ternary": {
           "aaxis": {
            "gridcolor": "white",
            "linecolor": "white",
            "ticks": ""
           },
           "baxis": {
            "gridcolor": "white",
            "linecolor": "white",
            "ticks": ""
           },
           "bgcolor": "#E5ECF6",
           "caxis": {
            "gridcolor": "white",
            "linecolor": "white",
            "ticks": ""
           }
          },
          "title": {
           "x": 0.05
          },
          "xaxis": {
           "automargin": true,
           "gridcolor": "white",
           "linecolor": "white",
           "ticks": "",
           "title": {
            "standoff": 15
           },
           "zerolinecolor": "white",
           "zerolinewidth": 2
          },
          "yaxis": {
           "automargin": true,
           "gridcolor": "white",
           "linecolor": "white",
           "ticks": "",
           "title": {
            "standoff": 15
           },
           "zerolinecolor": "white",
           "zerolinewidth": 2
          }
         }
        },
        "title": {
         "text": "t-SNE Visualization of legal-BERT Word Embeddings"
        },
        "xaxis": {
         "anchor": "y",
         "domain": [
          0,
          1
         ],
         "title": {
          "text": "x"
         }
        },
        "yaxis": {
         "anchor": "x",
         "domain": [
          0,
          1
         ],
         "title": {
          "text": "y"
         }
        }
       }
      }
     },
     "metadata": {},
     "output_type": "display_data"
    }
   ],
   "source": [
    "# Create a DataFrame for visualization\n",
    "df_tsne = pandas.DataFrame(tsne_results, columns=['x', 'y'])\n",
    "df_tsne['word'] = list(bert_word_embeddings.keys())\n",
    "# Highlight the word 'chinese' in the plot\n",
    "df_tsne['highlight'] = df_tsne['word'].apply(lambda x: 'chinese' if x == 'chinese' else '')\n",
    "\n",
    "fig = px.scatter(\n",
    "    df_tsne,\n",
    "    x='x',\n",
    "    y='y',\n",
    "    title='t-SNE Visualization of legal-BERT Word Embeddings',\n",
    "    color='highlight',                        \n",
    "    hover_data=['word'], \n",
    "    text= 'highlight'\n",
    ")\n",
    "\n",
    "fig.show()\n"
   ]
  },
  {
   "cell_type": "markdown",
   "id": "a3c7a4b9",
   "metadata": {},
   "source": [
    "### Sentence Embeddings"
   ]
  },
  {
   "cell_type": "code",
   "execution_count": 19,
   "id": "042d4963",
   "metadata": {},
   "outputs": [
    {
     "name": "stdout",
     "output_type": "stream",
     "text": [
      "Line 91: The aliens in this case being Chinese, the first enquiry must be, what is the object of the Act? On applying to the preamble, we find that it looks like a bill of indictment as against a race not suited to live among a civilized nation, and certainly does not prepare one for legislation which would encourage or tolerate their settlement in the country. Indeed, the first lines of the preamble sound an alarm at the multitude of people coming in, who are of the repulsive habits described in the last part of the preamble, and prepares one for measures which should have a tendency to abate that alarm by deterrent influences and enactments which should have the effect of materially lessening the number of such undesirable visitors. The provisions of the Act I have given somewhat in extenso bear out that view, and the concurrent and previous local legislation bear out the same impression, for on the same day as this Act was passed, another Act was passed, the very object of which was plainly stated to be \"to prevent the immigration\" of Chinese.\" \n"
     ]
    }
   ],
   "source": [
    "from pathlib import Path\n",
    "\n",
    "# Read the txt file as lines\n",
    "lines = Path(\"data/Regina_V_Wing_Chong.txt\").read_text(encoding=\"utf-8\").splitlines()\n",
    "\n",
    "# Extract line 67 as the target\n",
    "target = lines[91]\n",
    "print(\"Line 91:\", target)\n"
   ]
  },
  {
   "cell_type": "code",
   "execution_count": 20,
   "id": "5d8393ae",
   "metadata": {},
   "outputs": [
    {
     "name": "stdout",
     "output_type": "stream",
     "text": [
      "CREASE, J. 1885. REGINA v. WING CHONG.\n",
      "14th & 15th July, Certiorari—“Chinese Regulation Act, 1884,” s. 5—Constitutionality—B.N.A. Act, 1867, ss. 91, 92—“Aliens”—“Trade and Commerce”—Taxation. \n",
      "On the return to a writ of certiorari. Held, that the “Chinese Regulation Act, 1884,” is ultra vires of the Provincial Legislature, on the following grounds: \n",
      "1. It is an interference with the rights of Aliens. \n",
      "2. It is an interference with Trade and Commerce. \n",
      "3. It is an infraction of the existing treaties between the Imperial Government and China. \n",
      "4. It imposes unequal taxation.\n",
      "14th & 15th July—On the return of a writ of certiorari directed to Edwin Johnson, Esquire, Police Magistrate for the City of Victoria, to return into this Court a certain conviction made by him under which one Wing Chong was fined $20 for not having in his possession a license issued under the “Chinese Regulation Act, 1884.”\n",
      "The Attorney-General in support of the conviction said there were five points raised on the rule for the certiorari against the validity of the $10 tax.—1st. That it interfered with the Dominion powers under the B. N. A. Act, aliens, and naturalization; 2nd. Trade and commerce; 3rd. Treaty obligations; 4th. That the tax was unequal, and 5th. It was indirect taxation. As to the first point aliens were as much subject to taxation as citizens. Protection and taxation were reciprocal (Cooley on Taxation, p. 14). The law did not deal with the conditions under which aliens might acquire rights or become subjects of Her Majesty. Secondly—Trade and commerce were not interfered with. The object of the Act was two-fold, the police and sanitary regulation of a numerous foreign element, and the raising of revenue necessary to meet that regulation (Hodge v. The Queen, L. R. 9, App. Cas. 117). If incidentally trade and commerce were touched, the provincial power of direct taxation was not impaired (Citizens Insurance Co. v. Parsons, L. R. 7 App. Cas. 108). The preamble and scope of the Act showed its objects were purely matters of the police and raising of revenue to meet the necessary expenditure, and within “Direct Taxation.” Thirdly—The treaty obligations of England did not affect the question. The last communication from the Secretary of State for the Colonies to the Governor-General, dated 16th May, 1884, stated, in effect, that the Colonies with responsible government could pass restrictive laws irrespective of treaties (B. C. Sessional Papers, 1885, p. 464), and instanced the legislation of the Australian Colonies and of the Dominion. Fourthly—As to unequal taxation, the power of the Province within its jurisdiction was supreme and as plenary as that of the Imperial Parliament (R. v. Burah, L.R. 3 App. Cas. 904; R. v. Hodge, L. R. 9, App. Cas. 117; and Powell v. Apollo Candle Co., L.R. 10 App. Cas., p. 290; and *In re Goodhue*, 19 Gr. 366); *Cooley* on Taxation, pp. 3, 82, 126-128, and *Cooley's Constitutional Limitations* (5th Ed.) 626-7; *Sedgwick* on Stat. (2nd Ed.), p. 501; *Potter's Dwarris* 418, 421, 425; *Dow v. Black*, L. R. 6 P. C. 272, were cited as showing the power of taxation, unless abridged by the written constitution, might be exercised so as to discriminate. The Supreme Court of Canada, in the case of *Jonas v. Gilbert*, 5 S. C. R., 356, had practically decided the same point. Fifthly—Whether called a licence or not, the imposition was a direct poll tax, and as such came within the power of the Province to raise money by direct taxation for Provincial purposes. *Cooley* on Taxation, 386; *Wharton's Law Lexicon*; *Reed v. Mousseau*, 8 S. C. R., 408. It was not a license to carry on business, or a method whereby indirectly money was raised from the consumer, as, for instance, customs or stamp laws.\n",
      "*Richards*, Q. C., for Wing Chong—The object of the Act was not for police purposes or to raise revenue. Its object, though not apparent on the face of the Act, was to prevent Chinese coming into the Province and drive out those who had already come. He reviewed the legislation against Chinese since confederation, contending it was levelled against a particular race of aliens and, therefore, beyond provincial control, per *Gwynne*, J., in *Citizens Insurance Co. v. Parsons*, 4 S. C. R., at p. 346. The law was a direct interference with trade and commerce (*R. v. Severn*, 2 Can. S. C. R., 70). If its object were successful and Chinese driven from the country, the customs dues received from the Chinese would be lost and the benefits of trade relations enjoyed by the merchants would be destroyed. Counsel cited statistics from the Chinese Commission showing the extreme importance, from a fiscal and commercial point of view, of the large number of Chinese in the Province. The Dominion under the B. N. A. Act had alone the right of performing in Canada the obligations of Canada as part of the British Empire in respect of treaties, and although Canada might pass laws prohibiting immigration, or having that tendency, the Province could not do so, nor could it pass laws in derogation of treaties. He cited the British treaty (25th August, 1842, from *Hertslet*, Vol. 6, and Lord *Elgin's* treaty, 1860), comparing it with the *Burlingame* treaty of the United States, and quoted California decisions (*Lin Sing v. Washburn*, 20 Cal. 334), and the decision of *Gray*, J., in *Tai Sing v. Maguire*, deciding that similar legislation was held void as contravening the treaty and the sovereign power to regulate trade and commerce with foreign countries.\n"
     ]
    }
   ],
   "source": [
    "paragraphs = [p.strip() for p in full_text.split(\"\\n\\n\") if p.strip()]\n",
    "\n",
    "for paragraph in paragraphs[:5]:\n",
    "    print(paragraph)"
   ]
  },
  {
   "cell_type": "code",
   "execution_count": 21,
   "id": "4a7e5fd9",
   "metadata": {},
   "outputs": [
    {
     "name": "stdout",
     "output_type": "stream",
     "text": [
      "WARNING:tensorflow:From c:\\Users\\Kaiyan Zhang\\AppData\\Local\\Programs\\Python\\Python312\\Lib\\site-packages\\tf_keras\\src\\losses.py:2976: The name tf.losses.sparse_softmax_cross_entropy is deprecated. Please use tf.compat.v1.losses.sparse_softmax_cross_entropy instead.\n",
      "\n",
      "torch.Size([78, 384])\n"
     ]
    }
   ],
   "source": [
    "from sentence_transformers import SentenceTransformer\n",
    "\n",
    "# Import the sentence transformer model\n",
    "model = SentenceTransformer(\"all-MiniLM-L6-v2\")\n",
    "\n",
    "# Calculate embeddings by calling model.encode()\n",
    "paragraph_embeddings = model.encode(paragraphs, convert_to_tensor=True)\n",
    "print(paragraph_embeddings.shape)"
   ]
  },
  {
   "cell_type": "code",
   "execution_count": 22,
   "id": "01102fcc",
   "metadata": {},
   "outputs": [],
   "source": [
    "# We also want to encode the target separately\n",
    "target_embedding = model.encode(target, convert_to_tensor=True)"
   ]
  },
  {
   "cell_type": "code",
   "execution_count": 23,
   "id": "e0c50fdc",
   "metadata": {},
   "outputs": [
    {
     "name": "stdout",
     "output_type": "stream",
     "text": [
      "1.0000\tThe aliens in this case being Chinese, the first enquiry must be, what is the object of the Act? On applying to the preamble, we find that it looks like a bill of indictment as against a race not suited to live among a civilized nation, and certainly does not prepare one for legislation which would encourage or tolerate their settlement in the country. Indeed, the first lines of the preamble sound an alarm at the multitude of people coming in, who are of the repulsive habits described in the last part of the preamble, and prepares one for measures which should have a tendency to abate that alarm by deterrent influences and enactments which should have the effect of materially lessening the number of such undesirable visitors. The provisions of the Act I have given somewhat in extenso bear out that view, and the concurrent and previous local legislation bear out the same impression, for on the same day as this Act was passed, another Act was passed, the very object of which was plainly stated to be \"to prevent the immigration\" of Chinese.\"\n",
      "0.6602\tAnd again, \"A tax imposed by the law on these persons for the mere right to reside here, is an appropriate and effective means to discourage the immigration of the Chinese into the State.\"\n",
      "0.6157\tIf a man employ a Chinaman who should happen to be delinquent in his tax, and he happens to occupy a cottage or room of his employer, with his master's goods in it, under section 10 they are liable to seizure and sale. In every prosecution under the Act the legal presumption of innocence until conviction is reversed; in every case the onus probandi, though in a Statute highly penal, is shifted from the informant on to the shoulders of the accused, and he a foreigner not knowing one word of the law, or even the language of the accuser. In other words, every Chinese is guilty until proved innocent—a provision which fills one conversant with subjects with alarm; for if such a law can be tolerated as against Chinese, the precedent is set, and in time of any popular outcry can easily be acted on for putting any other foreigners or even special classes among ourselves, as coloured people, or French, Italians, Americans, or Germans, under equally the same law. That certainly is interfering with aliens.\n",
      "0.6025\tThe power asserted in the Act in question (the California Act) is the right of the State to prescribe the terms upon which the Chinese shall be permitted to reside in it, and be so used as to cut off all intercourse between them and the people of the State, and defeat the commercial policy of the nation.\n",
      "0.5887\tIt is impossible but that such an imposition so enforced, in addition to all the general taxes to which he is subject, should make this country too hot for him to live in; and just in proportion as he is so persecuted out of the country, in that degree does this enactment interfere with trade and commerce and that control over aliens exclusively given to the Dominion. And not only is he thus attacked, but unheard of provisions are introduced. Every employé of Chinese labour, whether English, American, or what not, is made liable to severe and incessant liability of a penal kind, for what? Some act, a default of his own? No; an act or default of a stranger, a man whose language he knows not, and for every infraction of the Act by the Chinese under his employ. The palpable object of such a provision, or set of provisions, is to render the employment of Chinese so distasteful and annoying to the employer that he must cease to employ them. Now, to pass a law providing that employment shall not be given to a special class of men, except it be productive of so much danger, annoyance, and loss to the employer, is just another way of saying that no intercourse shall be had with that class. With penalties and prosecutions always before you, far in excess of any advantage to be derived from that intercourse or trade, what is that but equivalent to saying that such intercourse or trade or labour must cease altogether. What is that but interfering with aliens, trade, and commerce?\n",
      "0.5838\t*Richards*, Q. C., for Wing Chong—The object of the Act was not for police purposes or to raise revenue. Its object, though not apparent on the face of the Act, was to prevent Chinese coming into the Province and drive out those who had already come. He reviewed the legislation against Chinese since confederation, contending it was levelled against a particular race of aliens and, therefore, beyond provincial control, per *Gwynne*, J., in *Citizens Insurance Co. v. Parsons*, 4 S. C. R., at p. 346. The law was a direct interference with trade and commerce (*R. v. Severn*, 2 Can. S. C. R., 70). If its object were successful and Chinese driven from the country, the customs dues received from the Chinese would be lost and the benefits of trade relations enjoyed by the merchants would be destroyed. Counsel cited statistics from the Chinese Commission showing the extreme importance, from a fiscal and commercial point of view, of the large number of Chinese in the Province. The Dominion under the B. N. A. Act had alone the right of performing in Canada the obligations of Canada as part of the British Empire in respect of treaties, and although Canada might pass laws prohibiting immigration, or having that tendency, the Province could not do so, nor could it pass laws in derogation of treaties. He cited the British treaty (25th August, 1842, from *Hertslet*, Vol. 6, and Lord *Elgin's* treaty, 1860), comparing it with the *Burlingame* treaty of the United States, and quoted California decisions (*Lin Sing v. Washburn*, 20 Cal. 334), and the decision of *Gray*, J., in *Tai Sing v. Maguire*, deciding that similar legislation was held void as contravening the treaty and the sovereign power to regulate trade and commerce with foreign countries.\n",
      "0.5793\tThat the Chinese might be taxed as other residents, but could not be set apart as special objects of the taxation, and be compelled to contribute to the revenue of the State in the character of foreigners.\n",
      "0.5780\t21st August, 1885—CREASE, J.— In order to deal satisfactorily with the questions raised by this appeal, it is necessary to see what is the scope and purport of the Act. It is called \"An Act to regulate the Chinese population of British Columbia.\" It starts with a recital, in itself a petio principii—not apparently the result of any public enquiry—which charges them with being not law-abiding, dissimilar in habits and occupation to the whites—useless in emergencies, habitual desecrators of grave-yards, unsuited to our laws, and of habits subversive of the community. From that premises concluding that special laws are required for their government, it proceeds to enact:—\n",
      "0.5716\tSection 27 places in the hand of the local executive the construction from time to time of further rules and regulations to enforce the Act, and a fitting summary to such a premiss in section 28 reverses all the old law of England and one of the most cherished and priceless safeguards of the freedom from oppression won for us by our forefathers—that no one shall be deemed guilty until he has been proved so—throws on the defendant, white or yellow, the burden of proving that he is exempt from the operation of its arbitrary provisions—and in a tax Act which is in restraint of personal liberty, and opposed to the common law rights of the citizen—for if applicable to aliens it is a fortiori to the temporary inhabitants of the Province—abrogates the hitherto invariable rule in criminal matters and makes it unnecessary in any information, summons or conviction to “state or negotiate any “exception in or exemption under this Act, or in contemplation of “law.” Taught by experience of former efforts in the same direction, section 29 gives one year’s notice of the coming into operation of the Act—a time which has now expired. And section 30 terms it merely “The Chinese Regulation Act, 1884.”\n"
     ]
    }
   ],
   "source": [
    "import torch\n",
    "from torch.nn.functional import cosine_similarity\n",
    "\n",
    "# Calculate the cosine similarity\n",
    "sims = cosine_similarity(target_embedding.unsqueeze(0), paragraph_embeddings)\n",
    "\n",
    "k = min(10, sims.shape[0])\n",
    "\n",
    "topk = torch.topk(sims, k=k-1)\n",
    "\n",
    "top_paragraphs = []\n",
    "\n",
    "for score, idx in zip(topk.values, topk.indices):\n",
    "    top_paragraphs.append(paragraphs[idx])\n",
    "    print(f\"{score:.4f}\\t{paragraphs[idx]}\")"
   ]
  },
  {
   "cell_type": "code",
   "execution_count": 24,
   "id": "c0a63e8b",
   "metadata": {},
   "outputs": [
    {
     "name": "stdout",
     "output_type": "stream",
     "text": [
      "['CREASE, J. 1885.', 'REGINA v. WING CHONG.', '14th & 15th July, Certiorari—“Chinese Regulation Act, 1884,” s. 5—Constitutionality—B.N.A. Act, 1867, ss.', '91, 92—“Aliens”—“Trade and Commerce”—Taxation.', 'On the return to a writ of certiorari.', 'Held, that the “Chinese Regulation Act, 1884,” is ultra vires of the Provincial Legislature, on the following grounds: \\n1.', 'It is an interference with the rights of Aliens.', '2.', 'It is an interference with Trade and Commerce.', '3.', 'It is an infraction of the existing treaties between the Imperial Government and China.', '4.', 'It imposes unequal taxation.', '14th & 15th July—On the return of a writ of certiorari directed to Edwin Johnson, Esquire, Police Magistrate for the City of Victoria, to return into this Court a certain conviction made by him under which one Wing Chong was fined $20 for not having in his possession a license issued under the “Chinese Regulation Act, 1884.”', 'The Attorney-General in support of the conviction said there were five points raised on the rule for the certiorari against the validity of the $10 tax.—1st.', 'That it interfered with the Dominion powers under the B. N. A. Act, aliens, and naturalization; 2nd.', 'Trade and commerce; 3rd.', 'Treaty obligations; 4th.', 'That the tax was unequal, and 5th.', 'It was indirect taxation.', 'As to the first point aliens were as much subject to taxation as citizens.', 'Protection and taxation were reciprocal (Cooley on Taxation, p. 14).', 'The law did not deal with the conditions under which aliens might acquire rights or become subjects of Her Majesty.', 'Secondly—Trade and commerce were not interfered with.', 'The object of the Act was two-fold, the police and sanitary regulation of a numerous foreign element, and the raising of revenue necessary to meet that regulation (Hodge v. The Queen, L. R. 9, App.', 'Cas. 117).', 'If incidentally trade and commerce were touched, the provincial power of direct taxation was not impaired (Citizens Insurance Co. v. Parsons, L. R. 7 App.', 'Cas. 108).', 'The preamble and scope of the Act showed its objects were purely matters of the police and raising of revenue to meet the necessary expenditure, and within “Direct Taxation.”', 'Thirdly—The treaty obligations of England did not affect the question.', 'The last communication from the Secretary of State for the Colonies to the Governor-General, dated 16th May, 1884, stated, in effect, that the Colonies with responsible government could pass restrictive laws irrespective of treaties (B. C. Sessional Papers, 1885, p. 464), and instanced the legislation of the Australian Colonies and of the Dominion.', 'Fourthly—As to unequal taxation, the power of the Province within its jurisdiction was supreme and as plenary as that of the Imperial Parliament (R. v. Burah, L.R. 3 App.', 'Cas. 904; R. v. Hodge, L. R. 9, App.', 'Cas. 117; and Powell v. Apollo Candle Co., L.R. 10 App.', \"Cas., p. 290; and *In re Goodhue*, 19 Gr. 366); *Cooley* on Taxation, pp. 3, 82, 126-128, and *Cooley's Constitutional Limitations* (5th Ed.)\", '626-7; *Sedgwick* on Stat.', \"(2nd Ed.), p. 501; *Potter's Dwarris* 418, 421, 425; *Dow v. Black*, L. R. 6 P. C. 272, were cited as showing the power of taxation, unless abridged by the written constitution, might be exercised so as to discriminate.\", 'The Supreme Court of Canada, in the case of *Jonas v. Gilbert*, 5 S. C. R., 356, had practically decided the same point.', 'Fifthly—Whether called a licence or not, the imposition was a direct poll tax, and as such came within the power of the Province to raise money by direct taxation for Provincial purposes.', \"*Cooley* on Taxation, 386; *Wharton's Law Lexicon*; *Reed v. Mousseau*, 8 S. C. R., 408.\", 'It was not a license to carry on business, or a method whereby indirectly money was raised from the consumer, as, for instance, customs or stamp laws.', '*Richards*, Q. C., for Wing Chong—The object of the Act was not for police purposes or to raise revenue.', 'Its object, though not apparent on the face of the Act, was to prevent Chinese coming into the Province and drive out those who had already come.', 'He reviewed the legislation against Chinese since confederation, contending it was levelled against a particular race of aliens and, therefore, beyond provincial control, per *Gwynne*, J., in *Citizens Insurance Co. v. Parsons*, 4 S. C. R., at p. 346.', 'The law was a direct interference with trade and commerce (*R. v. Severn*, 2 Can.', 'S. C. R., 70).', 'If its object were successful and Chinese driven from the country, the customs dues received from the Chinese would be lost and the benefits of trade relations enjoyed by the merchants would be destroyed.', 'Counsel cited statistics from the Chinese Commission showing the extreme importance, from a fiscal and commercial point of view, of the large number of Chinese in the Province.', 'The Dominion under the B. N. A. Act had alone the right of performing in Canada the obligations of Canada as part of the British Empire in respect of treaties, and although Canada might pass laws prohibiting immigration, or having that tendency, the Province could not do so, nor could it pass laws in derogation of treaties.', \"He cited the British treaty (25th August, 1842, from *Hertslet*, Vol. 6, and Lord *Elgin's* treaty, 1860), comparing it with the *Burlingame* treaty of the United States, and quoted California decisions (*Lin Sing v. Washburn*, 20 Cal. 334), and the decision of *Gray*, J., in *Tai Sing v. Maguire*, deciding that similar legislation was held void as contravening the treaty and the sovereign power to regulate trade and commerce with foreign countries.\", '*Drake*, Q. C., on the same side, argued that the imposition of the $10 tax was invalid because of inequality.', 'Inherent in and incidental to the taxing power was the characteristic of equality.', \"*Cooley* stated that irrespective of constitutional limitation a particular class of citizens could not be burdened for the advantage of others—*Cooley's Constitutional Limitations*, p. 635.\", 'This was a principle underlying the power to tax and governing that right even though the CREASE, J. 1885.', 'REGINA v. WING CHONG.', 'written constitution made no mention of it—Cooley on Taxation, p. 18, and City of Lexington v. McQuillan, 35 Am.', 'Dec. 159.', 'The imposition was in derogation of treaty rights with which Canada alone had the power to deal.', 'The Australian legislation did not help the contention of the Attorney-General.', 'The Australian Colonies were autonomous, and occupied the same position as that of Canada.', 'The Provinces were not autonomous.', 'He did not contend that the whole of the Act was invalid.', 'Much of it was within the scope of the Province, notably the provisions affecting the size of dwellings, the forbidding the use of opium, and the desecration of grave-yards.', 'He insisted that imposing excessive taxation on one class of citizens was unconstitutional.', 'The remarks of Chief Justice Ritchie, in the case of Jonas v. Gilbert before the Supreme Court of Canada, were obiter dicta, as the decision was upon another point, and intimated, but did not decide the right of the Provinces to discriminate, nor in what things and to what extent discrimination in taxation was legitimate.', 'Lastly, the Act was for indirect taxation, which was a power given only to the Dominion Parliament.', 'It was a license fee, the power to impose which had, in Severn v. The Queen, been decided against the Provinces on the score of such legislation being against trade and commerce.', 'The Attorney-General in reply—The ten dollar impost was a tax whether designated by the name of a licence or otherwise.', 'The distinction between direct and indirect taxation was well drawn in the case of Reed v. Mousseau before the Supreme Court of Canada, in which Mr. Justice Strong mentioned the Privy Council had decided the Provincial legislatures had exclusive power to impose direct taxation, and that it did not follow they might not have power even to impose indirect taxation.', 'The tax did not sanction the carrying on of any business out of the product of which the consumer would, indirectly, contribute towards payment of the tax.', 'Then as to inequality, the one dictum of Cooley was but an expression of opinion that political wisdom required uniform taxation; for the same author cited numerous authorities, including that of the Supreme Court of the United States establishing the right to discriminate unless fettered by the express language of the Constitution.', 'Todd on Parliamentary Government in the Colonies, supported the view that the Provinces within their jurisdiction were as omnipotent as the Imperial Parliament.', 'The California cases (see The People v. Naglee, 1 Cal. 232) decided a differential tax might be imposed on foreign miners; and though a later case (Lin Sing v. Washburn, 20 Cal. 334) had decided a special tax could not be imposed on Chinese, a most celebrated Judge, Mr. Justice Field (since elevated to the Federal bench), dissented, and had pointed out that according to federal decisions the State might impose special taxation on alien residents, provided the impost was not levied against foreigners landing in the country.', 'The tax was not to exclude the Chinese — another statute with that object had been disallowed.', 'It was imposed to meet the extraordinary expenses incident to enforcing the police and sanitary regulations prescribed by the Act.', 'The question of treaties had nothing to do with the subject, for to responsible governments the Imperial Authorities conceded the right to pass laws within their jurisdiction.', 'So the Canadian Parliament to-day was passing a restriction Act.', 'Opponents to the Act might as well contend the exclusion of the Chinese from the franchise, and barring them from acquiring lands, was illegal.', 'As to autonomy, neither the Australian Colonies nor the Dominion were absolutely possessed, but the Province equally with Australia and the Dominion were autonomous within the bounds of their respective jurisdictions.', '21st August, 1885—CREASE, J.— In order to deal satisfactorily with the questions raised by this appeal, it is necessary to see what is the scope and purport of the Act.', 'It is called \"An Act to regulate the Chinese population of British Columbia.\"', 'It starts with a recital, in itself a petio principii—not apparently the result of any public enquiry—which charges them with being not law-abiding, dissimilar in habits and occupation to the whites—useless in emergencies, habitual desecrators of grave-yards, unsuited to our laws, and of habits subversive of the community.', 'From that premises concluding that special laws are required for their government, it proceeds to enact:— \\n\\n1.', 'The title.\\n\\n2. Defines Chinese to mean \"any native of the Chinese empire or \"its dependencies not born of British parents, and shall include any \"person of the Chinese race.\"', 'Section 3—with which we are immediately concerned—says:—\"From and after the passage of this Act there shall be payable and \"paid by every Chinese in British Columbia, above the age of fourteen years, unto and for the use of Her Majesty, her heirs and successors, the sum of ten dollars, and thereafter on the 1st day of June in \"each and every year there shall be likewise payable and paid by such \"Chinese person a further sum of ten dollars.\"', 'Sec. 4 provides for the appointment and payment of special collectors, \"to be called Chinese collectors, to collect and receive such \"payments from Chinese; and such collector or collectors, immediately upon such payment, shall issue and deliver to the person paying \"the same a licence in the form contained in the schedule hereto.\"', 'By Sec. 5 \"Any Chinese who shall be found within the Province \"not having in his possession a licence issued under the provisions of \"this Act, lawfully issued to him, shall, on conviction thereof, forfeit \"and pay a sum not exceeding forty dollars.\"', 'By Sec. 6', '\"Any collector or Government servant wilfully disobeying \"any of the provisions of this Act shall forfeit and pay a sum not \"exceeding one hundred dollars.\"', 'By Sec. 7', '\"Every collector shall collect the tax from each Chinese, \"and shall as soon afterwards as may be pay over the amount to the \"officer in charge of the Treasury, or to such other person as the \"Lieutenant-Governor in Council may from time to time direct.\"', 'By Sec. 8', '“Every employer of Chinese shall furnish to the collector “when requested by him so to do, from time to time, a list of all “Chinese in his employ, or indirectly employed by him; but no such “statement shall bind the collector, nor shall excuse him from “making due enquiry to ascertain its correctness.”', 'Section 9.', '“In case any employer of Chinese fails to deliver to the “collector the list mentioned in the preceding section, when required “so to do, or knowingly states anything falsely therein, such “employer shall, on complaint of the collector and upon conviction “before a Justice of the Peace having jurisdiction within the “district wherein such employer carries on his business, forfeit “and pay a fine not exceeding one hundred dollars for every Chinese “in his employ, to be recovered by distress of the goods and chattels “of such employer failing to pay the same, or in lieu thereof shall be “liable to imprisonment for a period not less than one month and not “exceeding two calendar months.”', 'Section 10 gives the collector power to “levy the amount of the license from any Chinese not being in lawful possession of a license, “with costs, by distress of his goods and chattels, or of any goods and “chattels which may be in the possession of the delinquent, or which “may be upon or in any premises (whether the goods of the delin-', '“quent or not) for the time being in the possession or occupation of “such delinquent Chinese,” and declares that “for the purposes of this “section premises shall be deemed to be in the possession or occupa- “tion of any Chinese when it can be shown to the satisfaction of the “tribunal having cognizance of the matter (a) that such Chinese “habitually frequents such premises with the assent of the owner ; “(b) that he is the owner or one of the owners of the premises, or has “control, either alone or jointly, with another or others, of such pre- “mises or some part thereof; (c) that he has passed the night or slept “upon such premises at any time within a week of the levy, it shall “be sufficient authority for the collector to levy as aforesaid on the “non-production of the license.', 'Proof of the lawful possession of “such receipt shall lie on the person whose goods are restrained.”', 'By section 11 every license must be demanded by the employer and retained during the Chinaman’s service.', 'By section 12 tax collectors are not to allow Chinese to pass unless a license is produced.', 'Section 13 imposes a penalty of $50 on any person guilty of employing any Chinese not having a license.', 'Sec. 14', \"Fee for free miner’s certificate to a Chinese to be $15, instead of the white man's $5.\", 'Sec. 15.', 'Penalty not exceeding $30 for every Chinaman mining without a license.', 'Section 16 amends the License Ordinance of 1867, whereby the pursuit of various callings is sanctioned by the ominous words, “but no license shall be issued to any Chinese.”', 'Sections 17 and 18 prevent the exhumation of dead bodies without permission, and prohibit the use of opium except for medical purposes.', 'Section 19 provides for the recovery of any pecuniary penalty thereunder in a summary manner before a J. P., and in default of immediate payment sanctions a distress, and failing that, imprisonment for not exceeding three months.', 'Section 20 (amended by Act of 1885) declares that \"convictions are not to be quashed for want of form.\"', 'Section 21.', '“Any Chinese who shall lend his license or free miner\\'s \"certificate to another Chinese, and any Chinese who shall utter or \"pass off upon any collector or other person any license or free miner\\'s \"certificate other than his own, with intent himself to avoid payment\" of the license fee payable under this Act (and the onus of proving “that such was not his intent shall rest upon the person charged), shall \"forfeit and pay a penalty of not less than twenty dollars nor more \"than one hundred dollars.\"', 'Section 22 enacts that the tribunal applied to may decide \"on its own view and judgment\" whether any person is a Chinese or 14 years old.', 'Sections 23, 24 and 25 contain sanitary provisions affecting buildings let to Chinese.', 'Section 26 provides a means whereby persons imprisoned for an infraction of the Act may be put to hard labour by an Order in Council, and the same executive authority is empowered to make rules and regulations for carrying out the Act.', 'Section 27 places in the hand of the local executive the construction from time to time of further rules and regulations to enforce the Act, and a fitting summary to such a premiss in section 28 reverses all the old law of England and one of the most cherished and priceless safeguards of the freedom from oppression won for us by our forefathers—that no one shall be deemed guilty until he has been proved so—throws on the defendant, white or yellow, the burden of proving that he is exempt from the operation of its arbitrary provisions—and in a tax Act which is in restraint of personal liberty, and opposed to the common law rights of the citizen—for if applicable to aliens it is a fortiori to the temporary inhabitants of the Province—abrogates the hitherto invariable rule in criminal matters and makes it unnecessary in any information, summons or conviction to “state or negotiate any “exception in or exemption under this Act, or in contemplation of “law.”', 'Taught by experience of former efforts in the same direction, section 29 gives one year’s notice of the coming into operation of the Act—a time which has now expired.', 'And section 30 terms it merely “The Chinese Regulation Act, 1884.”', 'The only schedule is the form of license, which runs as follows:—\\n\\nThe question now raised on the construction of this Act affects not only British Columbia, but, as she occupies the only Pacific seaboard of the Dominion, indirectly more or less the very many other Provinces under the flag of confederation.', 'Taking for convenience the five points of objection to the conviction in the order in which they are made— \\n1.', 'That it interfered with the Dominion powers under the B. N. A. Act over aliens and naturalization.', '2. Trade and commerce.', '3. Treaty obligations.', '4.', 'That the tax was unequal.', '5.', 'That it was indirect taxation and therefore illegal, and should be quashed.', 'On the first point, I would observe that it is now well settled law that British Columbia, as a part of the Dominion, possesses all, but possesses only, the powers which are strictly defined by the B. N. A. Act of 1867, which is, indeed, the constitution of Canada.', 'Neither she nor any other of the Provinces possess any other powers of legislation than are conferred by that Act.', 'If British Columbia, or any other Province, in its legislation, goes beyond that Act and in excess of its provisions, that moment, and to the extent of such transgression, it ceases to be law.', 'Therefore, in dealing with this question, our constitutional Act must be kept in view throughout, as the measure by which we must continually gauge the legality or illegality of the provisions of the local statute under consideration.', 'The Act of Federation was passed in order to be an irrefragable, permanent standard by which to preserve and regulate all the relative rights of the Provinces, as among themselves and as regards the Dominion.', 'The exclusive powers of that Act given to the Dominion over particular subjects are contained in the 91st section.', 'The exclusive powers of the Province are particularized in section 92.', 'It is natural that in the working out of such a constitution in a new and growing country, questions should be continually cropping up, and call upon the Courts to define gradually and with greater exactness, as time progresses and population expands, the relative powers given by the Act to the Dominion and Provinces respectively.', 'Sub-section 2 of section 91 gives to the Dominion Parliament exclusively the regulation of “trade and commerce,” and by sub-section 25 that of “naturalization and aliens,” and everything relating to those subjects as affecting the whole Dominion is within the Dominion powers, and no local Legislature can make any statute interfering with either of those subjects.', 'If it does, so far as such interference extends it is illegal and void, and when brought before the Court it is the duty of that tribunal so to adjudge it.', 'And the converse of this is true when applied to Dominion legislation as affecting the subjects exclusively given by the constitution to the Province.', 'Now, applying this test to the statute before us, let us see whether and how far its provisions affect, as is alleged, aliens, or trade, or commerce.', 'The aliens in this case being Chinese, the first enquiry must be, what is the object of the Act?', 'On applying to the preamble, we find that it looks like a bill of indictment as against a race not suited to live among a civilized nation, and certainly does not prepare one for legislation which would encourage or tolerate their settlement in the country.', 'Indeed, the first lines of the preamble sound an alarm at the multitude of people coming in, who are of the repulsive habits described in the last part of the preamble, and prepares one for measures which should have a tendency to abate that alarm by deterrent influences and enactments which should have the effect of materially lessening the number of such undesirable visitors.', 'The provisions of the Act I have given somewhat in extenso bear out that view, and the concurrent and previous local legislation bear out the same impression, for on the same day as this Act was passed, another Act was passed, the very object of which was plainly stated to be \"to prevent the immigration\" of Chinese.\"', 'That Act was disallowed.', 'It interfered with aliens as well as trade and commerce, which cannot subsist among nations without personal intercourse, which such an Act (as far as China was concerned) would have a tendency to prohibit.', 'Another statute (of 1878), \"An Act to provide for the better collection of taxes from Chinese,\" which contained several of the stringent provisions which I have described in this Act, such as a special tax specially recoverable by summary and unusual remedies from the Chinese alone, in British Columbia, and enforced by fine and imprisonment and other penal clauses, came before this Court, and in a most conscientious and exhaustive judgment of Mr. Justice Gray, of 23rd September, 1878, in the case of Tai Sing v. Maguire, was declared unconstitutional and ultra vires the Local Legislature, as interfering with aliens and trade and commerce—matters reserved exclusively under the 81st section of the B. N. A. Act to the Dominion.', 'That decision was never appealed from, and was at once acted on by the government as conclusive.', 'The position and legislative powers of British Columbia have been in no respect altered in its relations to the legislative powers of the Dominion on the same subjects since that time, though Russell v. The Queen (7 App.', 'Cas. 829) and Hodge v. The Queen (9 App.', 'Cas. 117) have more fully defined the extent of the powers of the Provincial Legislatures than has hitherto been done; and in the latter case especially.', 'That decision, however, was not before Mr. Gray when he rendered the judgment in Tai Sing v. Maguire.', 'Until reversed or varied, the decision in the Hodge case is law here, and binding on this Court.', 'Their lordships say (page 132), with reference to the objection of the appellants there (delegatus non potest delegare):—\\n\"It appears to their lordships, however, that the objection thus raised by the appellants is founded on an entire misconception of the true character and position of the Provincial Legislatures.', 'They are in no sense delegates of or acting under any mandate from the Imperial Parliament.', 'When the British North America Act enacted that there should be a Legislature for Ontario\" (for this case we may for \"Ontario\" read \"British Columbia\"), \"and that its Legislative Assembly should have exclusive authority to make laws for the Province and for provincial purposes in relation to the matters enumerated in section 92, it conferred powers not in any sense to be exercised by delegation from or as agents of the Imperial Parliament, but authority as plenary and as ample within the limits prescribed by section 92 as the Imperial Parliament in the plenitude of its power possessed and could bestow.', 'Within these limits of subjects and area the Local Legislature is supreme.\"', '[So far this decision confirms the words of Lord Selborne in R. v. Burah; what follows goes beyond it.]', '\"And has the same authority as the Imperial Parliament or the Parliament of the Dominion would have had under like circumstances to confide to a municipal institution or body of its own creation authority to make by-laws or resolutions as to subjects specified in the enactment, and with the object of carrying the enactment into operation and effect.\"', 'That decision, although in some respects an obiter dictum, as regards this case, makes it clear that within the limits of subjects and the area prescribed by the B. N. A. Act, by section 92, the Legislature of British Columbia is supreme.', 'The basis, then, of our enquiry must be: Is this Chinese Regulation Act of 1884—rather the parts of it objected to—within the limit of subjects and area of section 92, or does it exceed those limits in which it is supreme, and interfere with aliens, trade and commerce in such a manner as to encroach on section 91 or any of its sub-sections?', 'If so, so far as it does so, it is unconstitutional and ultra vires, and therefore void.', 'Now it does not follow because a local Act touches on these three subjects it therefore interferes with them so as to render it unconstitutional.', 'Aliens may be taxed, may be subjected to the same rules and municipal and other by-laws as other inhabitants of British Columbia, and such discrimination in so doing as are allowed in local legislatures between and among different persons and occupations among the whites are quite as applicable to them.', 'These are the only discriminations which the law allows, and these are the permissible discriminations spoken of by Cooley in the portions cited before the Court.', 'During the argument the case of *Lin Sing v. Washburn*, 20 California Reports, 534, was quoted as bearing on this case.', 'There, an Act of the California Legislature passed an Act imposing a capitation tax “on ‘each person, male and female, of the Mongolian race of the age of 18 years and upwards residing in the State,’ accompanying a license almost a *fac simile* of our own, and enforced in much the same way as in the case before us, that, after long and elaborate argument in which the Attorney-General appeared for the State, was determined to be unconstitutional, as it was an interference with trade and commerce, which could be regulated alone by the general government.', 'It was in vain advanced that at least the State had concurrent jurisdiction in matters of taxation relative to its own internal affairs, of which this was one (the same proposition as was advanced by the Attorney-General in this case) in which it had a supreme and autonomous right to legislate.', 'And the grounds of this decision were that the federal constitution had vested in the general government the power to regulate commerce in all its branches (as with us in the Dominion); and this power extends to every species of commercial intercourse, and may be exercised upon persons as well as property (Mr. Justice Field, whose arguments have been reproduced by the Attorney-General before me in this case, dissenting).', 'That commerce cannot be carried on without the agency of persons, and the tax, the effect of which is to diminish personal intercourse, is a tax on commerce.', 'If the power to impose such a tax is acknowledged, it being a sovereign power, no limitation can be affixed to its exercise, and it may be so used as not only to diminish but destroy commerce.', 'The power asserted in the Act in question (the California Act) is the right of the State to prescribe the terms upon which the Chinese shall be permitted to reside in it, and be so used as to cut off all intercourse between them and the people of the State, and defeat the commercial policy of the nation.', 'That the Act could not be maintained as a police regulation; that a branch of the police power had been surrendered to the Federal Government as a part of the power to regulate commerce, and its exercise by a State was incompatible with the authority of the Government.', 'That the Chinese might be taxed as other residents, but could not be set apart as special objects of the taxation, and be compelled to contribute to the revenue of the State in the character of foreigners.', 'The reports of the higher California courts are of great authority for us on all Chinese questions, for there have been efforts for years past to restrict Chinese immigration in California, and the matter has been constantly before the superior courts there, and the judges there (if we may take the reports as correct) are more than ordinarily skilled in laying down the law correctly in constitutional points of that nature.', 'Indeed, there is no other country which has such experience generally in constitutional law as applicable to a federation of states.', 'Of course, in all the observations I make I recognize the now well-known distinction between the relations of a State of the Union to the Federal Government, and our relation as a Province to the Dominion.', 'Still both Federal Governments have reserved to themselves the regulation of trade and commerce and naturalization and aliens; so the analogy is so close as to become almost a direct authority.', 'In the *Lin Sin* judgment, p. 579, the learned judge says of the power of taxing foreigners, as in the present *qua* foreigners: “If the power exist it may be exercised upon all foreigners residing in the State, and may be so exercised as to bar the door of foreign commerce as effectually as the Government could do by issuing its man-“date and closing its ports.\"', 'And again \"to determine whether there is a conflict or not, i.e., of jurisdictions, the power must be considered with reference to its consequences, for its effect when carried out is the only criterion by which a judgment can be formed.', '\"\\n\\nIn another place he says:—\"It would be an empty sound to say that the several States cannot pass any law to prevent foreigners from coming here if they may pass laws which will compel such foreigners to depart as soon as they arrive.\"', 'And again, \"A tax imposed by the law on these persons for the mere right to reside here, is an appropriate and effective means to discourage the immigration of the Chinese into the State.', '\"\\n\\nDuring the argument on the case before me, the Attorney-General claims that this was direct taxation, and a direct tax within the Province, to raise revenue for Provincial purposes, and, therefore *intra vires*; but the question is not one of name but of fact.', 'Does it interfere with trade or commerce?', 'Can it be legally imposed on foreigners as foreigners, for even a legal tax in other respects becomes illegal when it goes beyond its proper limits, and interferes with powers exclusively given to the Dominion for the benefit of all?', 'In another California case, *In re Tiburcio Parrott*, it is laid down that if the apparent object of a statute is under a pretense of the exercise of constitutional powers to drive Chinese away, the end sought to be obtained being unlawful, the statute is void.', 'In *Russell v. Reg.', '* it is decided that the true nature and character of legislation must be determined in order to ascertain its legality.', 'In *Citizens Insurance Co. v. Parsons*, we have to look at the legislation for the same purpose.', 'If the legislation here be to drive people from the country, have the local legislature the power?', 'Legislation as to aliens is reserved to the Dominion.', 'And as to trade and commerce, if the Chinese be driven out an annual loss to the revenue, it appears by the tables in the Chinese Commission Report, of $110,000 will take place; and more than $1,500,000 of property and business be lost to us, besides an injury to trade to an incalculable extent.', 'The amount of business transacted by Chinamen in British Columbia, as revealed by the tables in that Chinese Report, is something which a casual observer would have no idea of.', 'The treaties between Great Britain and China, which bind us, have been quoted.', 'The treaty of 25th August, 1842, *Hertslet*, Vol. 6, ratified 26th June, 1843, p. 221, and Lord Elgin\\'s treaty of October, 1860, authenticated copies of which were produced in Court, secure to Chinese coming into British dominions the same \"full security for persons and property as subjects of Her Majesty.\"', '*Vattell*, cap. 8, referring to our obligations to foreigners, observes:— \"As soon as the lord of the territory admits strangers into it he engages \"to protect them as his own subjects, and to afford them perfect security as far as depends on him.', '\"\\n\\n*Reg.', 'v. Severn* and *Reg.', 'v. Russell* are important authorities in guiding our enquiry as to the nature and effect of local legislation in determining whether and how far the Act under review exceeds the limits within which the local legislature is supreme.', 'And as to the equality of taxation, besides *Cooley*, who has been quoted freely on both sides, in *Kent\\'s Commentaries* (8th Ed.), 2nd Vol., 388, it is insisted—\"That every person is entitled to be protected in the enjoyment of his property, not only from invasions of it by individuals, but from all unequal and undue assessments on the part of the Government.', 'It is not sufficient that no tax or imposition can be imposed upon the citizens, but by their representatives in the legislature the citizens are entitled to require that the legislature itself shall cause all public taxation to be fair and equal in proportion to the value of \\'property\" (and that is what *Cooley* means by apportionment of taxation), \"so that no class of individuals, and no species of property shall be unduly assessed.\"', 'The treaties I have quoted between Great Britain and China, binding on the Dominion and on us in British Columbia, secure to the Chinese, just as the treaties between Great Britain and other foreign countries secure to other foreigners, the same rights in regard to the equality of taxation which I have described as being enjoyed by citizens of this country.', 'These treaties have the force of international law, and are continued most strongly against the party for whose benefit they are introduced.', 'In the case of the Chinese treaties, they were forced at the point of the bayonet on China, to obtain a right for us to enter China, and in return for a similar permission to us, full permission was given for the Chinese to trade and reside in British dominions everywhere.', 'In the treaties of 1858 and 1860, made at the solicitation of Great Britain, the Emperor of China was induced to give permission to his subjects to go and trade and reside \"in British Colonies,\" and to enter into \"engagements with British subjects for that purpose.\"', 'These obligations are binding here and in other parts of the Dominion under section 132 of the British North America Act, and no Province, or the Dominion itself, can lawfully pass laws interfering with that right without a previous revision of the treaties by the high contracting parties to them for that purpose.', 'Treaties with foreign nations are above all ordinary municipal law, for obvious international reasons, for without such a provision there can be no permanent security, which is the life of all commercial intercourse.', 'The same provisions that apply to Chinese may be made to apply also to Americans, Frenchmen, Germans, or any other foreigners.', 'Such treaties are the especial care of the Dominion, and where local legislation clashes with that especial province of the Dominion, the legislation of the Province must give way, as laid down in Leprohon v. the City of Ottawa, 40 Q.B., Ont., 478; Reg.', \"v. Chandler, Hannay's New Brunswick Reports, 548; Dow v. Black, L.R. 6 P.C. 272; L'Union St. Jacques v. Belisle, L.R. 6 P.C. 31, and numerous other Canadian authorities, besides the British North America Act itself.\", 'Now applying the principles and tests I have described to the Act before us, what do we find?', 'The Act is found associated with another Act now disallowed, the express object of which is to prevent the Chinese altogether from coming to this country, and the principle \"noscitur a sociis\" is kept up by the preamble of the present Act, which describes the Chinese in terms which, I venture to think, have never before in any other country found a place in an Act of Parliament.', 'In the definition of the persons affected by the Act no distinction is made of ambassadors, merchants, consuls, artists, professors or travellers, or sex, whether under disability or not, or at such a distance from a collector as to make it difficult or impossible to obtain a license.', 'Every person of Chinese origin, whether naturalized in Hong Kong or America, or any other State with which we are at amity, so long as they are of Chinese origin, 14 years of age—every one without distinction—must take out a license.', 'For the purpose of argument I have treated the license fee as a tax; but it is in fact a license—a license to remain in British Columbia unmolested for a year.', 'When the legislature wanted to create a tax, they knew what words to use for the purpose, for in the sister Act passed on the same day, which was disallowed, they called the impost there enacted a \"tax,\" not a license.', 'However difficult or impossible for any Chinese to find a district collector, if such Chinese is \"found without a license he is liable to a fine of $40.\"', 'At every turn he is confronted with an exceptional duty, and an exceptional penalty, and the loss of his goods and chattels, and of personal liberty.', 'It is impossible but that such an imposition so enforced, in addition to all the general taxes to which he is subject, should make this country too hot for him to live in; and just in proportion as he is so persecuted out of the country, in that degree does this enactment interfere with trade and commerce and that control over aliens exclusively given to the Dominion.', 'And not only is he thus attacked, but unheard of provisions are introduced.', 'Every employé of Chinese labour, whether English, American, or what not, is made liable to severe and incessant liability of a penal kind, for what?', 'Some act, a default of his own?', 'No; an act or default of a stranger, a man whose language he knows not, and for every infraction of the Act by the Chinese under his employ.', 'The palpable object of such a provision, or set of provisions, is to render the employment of Chinese so distasteful and annoying to the employer that he must cease to employ them.', 'Now, to pass a law providing that employment shall not be given to a special class of men, except it be productive of so much danger, annoyance, and loss to the employer, is just another way of saying that no intercourse shall be had with that class.', 'With penalties and prosecutions always before you, far in excess of any advantage to be derived from that intercourse or trade, what is that but equivalent to saying that such intercourse or trade or labour must cease altogether.', 'What is that but interfering with aliens, trade, and commerce?', \"If a man employ a Chinaman who should happen to be delinquent in his tax, and he happens to occupy a cottage or room of his employer, with his master's goods in it, under section 10 they are liable to seizure and sale.\", 'In every prosecution under the Act the legal presumption of innocence until conviction is reversed; in every case the onus probandi, though in a Statute highly penal, is shifted from the informant on to the shoulders of the accused, and he a foreigner not knowing one word of the law, or even the language of the accuser.', 'In other words, every Chinese is guilty until proved innocent—a provision which fills one conversant with subjects with alarm; for if such a law can be tolerated as against Chinese, the precedent is set, and in time of any popular outcry can easily be acted on for putting any other foreigners or even special classes among ourselves, as coloured people, or French, Italians, Americans, or Germans, under equally the same law.', 'That certainly is interfering with aliens.', 'The proposition that it is a Provincial tax for revenue purposes, supposing it to be so intended under the provisions of the Act, is so manifestly calculated to defeat that object, by diminishing the numbers of the members of the persons to be affected by it, that it is difficult to regard it in that light, or in any other light than an indirect mode of getting rid of persons whom it affects out of the country.', 'The whole Act teems with special provisions which affect not only Chinese, but their employers, with obligations and liabilities as to the conduct of the Chinese in their employ, that no reasonable man would encounter, and run the risk of the penal consequences which the Act hangs over him.', 'For instance, by section 19 any pecuniary penalty imposed may be summarily recovered (and applies to employers), and in default of immediate payment the same may be recovered by distress of the goods and chattels of the offender, and in default of sufficient distress by a liability to imprisonment for three calendar months, and the employers would necessarily be white men.', 'In fact, the Act so bristles with these arbitrary, exceptional and penal consequences, that it is invidious to single out particular ones for comment.', 'It is enough to add that \"any person,\" no matter whether white or Chinese, imprisoned in respect of any infraction of the provisions of the Act, may be at the will of the executive, subjected even to hard labour.', 'The Act is so full of provisions that interfere directly with aliens, with trade, and with commerce, that I have no hesitation in pronouncing all such provisions, and among them those under which the appellant in this case has been convicted, to be ultra vires the local legislature, and consequently illegal and void.', 'So far, I have dealt with the Act on its own merits; but if we consider it in juxtaposition to the Dominion Act recently passed restricting the Chinese throughout all Canada, its illegality becomes transparent; for in passing that Act against the Chinese the Dominion has spoken by the highest authority which it possesses—its own Parliament.', 'By the Constitutional Act the subject of aliens, we have seen, is specially reserved to the Dominion, and it is now an axiom, in the interpretation of that Act, that when that authority deals with a subject expressly included in its jurisdiction by the 91st section, it has possession of that subject exclusively, and the Province has to give way.', 'It is a great assumption of power on the part of a Province to pass laws, the effect of which must be practically to expel a particular class of aliens from that Province, to say in effect that it will by its legislation impede or prevent that class from being employed in another Province—say the North-west Territory or Manitoba—where railway works may be languishing for want of that very class of labourers, British Columbia being the only sea-board of Canada on the Pacific through which (in face of the restrictive laws of the United States) that class of labourers can enter and pass through; that is, in fact, legislating on all inter-provincial immigration; in other words, such legislation is ultra vires, and so I pronounce it; and adjudge accordingly, and quash the conviction, with costs.']\n"
     ]
    }
   ],
   "source": [
    "import spacy\n",
    "\n",
    "# Tokenize the text into sentences\n",
    "nlp = spacy.load(\"en_core_web_sm\")\n",
    "doc = nlp(full_text)\n",
    "sentences = [sent.text.strip() for sent in doc.sents]\n",
    "\n",
    "print(sentences)"
   ]
  },
  {
   "cell_type": "code",
   "execution_count": 25,
   "id": "5001eb4b",
   "metadata": {},
   "outputs": [
    {
     "name": "stdout",
     "output_type": "stream",
     "text": [
      "torch.Size([238, 384])\n"
     ]
    }
   ],
   "source": [
    "sentence_embeddings = model.encode(sentences, convert_to_tensor=True)\n",
    "print(sentence_embeddings.shape)"
   ]
  },
  {
   "cell_type": "code",
   "execution_count": 26,
   "id": "4b7be706",
   "metadata": {},
   "outputs": [
    {
     "name": "stdout",
     "output_type": "stream",
     "text": [
      "0.7384\tThe provisions of the Act I have given somewhat in extenso bear out that view, and the concurrent and previous local legislation bear out the same impression, for on the same day as this Act was passed, another Act was passed, the very object of which was plainly stated to be \"to prevent the immigration\" of Chinese.\"\n",
      "0.6861\tThe aliens in this case being Chinese, the first enquiry must be, what is the object of the Act?\n",
      "0.6467\tAnd again, \"A tax imposed by the law on these persons for the mere right to reside here, is an appropriate and effective means to discourage the immigration of the Chinese into the State.\n",
      "0.6201\tIts object, though not apparent on the face of the Act, was to prevent Chinese coming into the Province and drive out those who had already come.\n",
      "0.6025\tThe power asserted in the Act in question (the California Act) is the right of the State to prescribe the terms upon which the Chinese shall be permitted to reside in it, and be so used as to cut off all intercourse between them and the people of the State, and defeat the commercial policy of the nation.\n",
      "0.5960\tThe Act is found associated with another Act now disallowed, the express object of which is to prevent the Chinese altogether from coming to this country, and the principle \"noscitur a sociis\" is kept up by the preamble of the present Act, which describes the Chinese in terms which, I venture to think, have never before in any other country found a place in an Act of Parliament.\n",
      "0.5878\tIn other words, every Chinese is guilty until proved innocent—a provision which fills one conversant with subjects with alarm; for if such a law can be tolerated as against Chinese, the precedent is set, and in time of any popular outcry can easily be acted on for putting any other foreigners or even special classes among ourselves, as coloured people, or French, Italians, Americans, or Germans, under equally the same law.\n",
      "0.5830\tThe basis, then, of our enquiry must be: Is this Chinese Regulation Act of 1884—rather the parts of it objected to—within the limit of subjects and area of section 92, or does it exceed those limits in which it is supreme, and interfere with aliens, trade and commerce in such a manner as to encroach on section 91 or any of its sub-sections?\n",
      "0.5802\tThe whole Act teems with special provisions which affect not only Chinese, but their employers, with obligations and liabilities as to the conduct of the Chinese in their employ, that no reasonable man would encounter, and run the risk of the penal consequences which the Act hangs over him.\n"
     ]
    }
   ],
   "source": [
    "# Calculate the cosine similarity\n",
    "sims = cosine_similarity(target_embedding.unsqueeze(0), sentence_embeddings)\n",
    "\n",
    "k = min(10, sims.shape[0])\n",
    "\n",
    "topk = torch.topk(sims, k=k-1)\n",
    "\n",
    "for score, idx in zip(topk.values, topk.indices):\n",
    "    print(f\"{score:.4f}\\t{sentences[idx]}\")"
   ]
  },
  {
   "cell_type": "markdown",
   "id": "b36d0a77",
   "metadata": {},
   "source": [
    "We apply a trained model to mask key words related to ethnicity and nationality identities."
   ]
  },
  {
   "cell_type": "code",
   "execution_count": 27,
   "id": "04f429da",
   "metadata": {},
   "outputs": [
    {
     "name": "stderr",
     "output_type": "stream",
     "text": [
      "Some weights of the model checkpoint at dbmdz/bert-large-cased-finetuned-conll03-english were not used when initializing BertForTokenClassification: ['bert.pooler.dense.bias', 'bert.pooler.dense.weight']\n",
      "- This IS expected if you are initializing BertForTokenClassification from the checkpoint of a model trained on another task or with another architecture (e.g. initializing a BertForSequenceClassification model from a BertForPreTraining model).\n",
      "- This IS NOT expected if you are initializing BertForTokenClassification from the checkpoint of a model that you expect to be exactly identical (initializing a BertForSequenceClassification model from a BertForSequenceClassification model).\n",
      "Device set to use cpu\n",
      "c:\\Users\\Kaiyan Zhang\\AppData\\Local\\Programs\\Python\\Python312\\Lib\\site-packages\\transformers\\pipelines\\token_classification.py:181: UserWarning:\n",
      "\n",
      "`grouped_entities` is deprecated and will be removed in version v5.0.0, defaulted to `aggregation_strategy=\"AggregationStrategy.SIMPLE\"` instead.\n",
      "\n"
     ]
    }
   ],
   "source": [
    "from transformers import pipeline\n",
    "import numpy\n",
    "\n",
    "ner = pipeline(\"ner\", model=\"dbmdz/bert-large-cased-finetuned-conll03-english\", grouped_entities=True)\n",
    "\n",
    "def mask_ethnicity_hf(text):\n",
    "    entities = ner(text)\n",
    "    spans_to_mask = [e for e in entities if e[\"entity_group\"] == \"MISC\" or e[\"entity_group\"] == \"ORG\" or e[\"entity_group\"] == \"PER\" or e[\"entity_group\"] == \"LOC\" or e[\"entity_group\"] == \"NORP\"]\n",
    "    # typically nationality is in MISC or NORP depending on the model\n",
    "    masked = text\n",
    "    for ent in sorted(spans_to_mask, key=lambda e: e[\"start\"], reverse=True):\n",
    "        masked = masked[:ent[\"start\"]] + \"[MASK]\" + masked[ent[\"end\"]:]\n",
    "    return masked"
   ]
  },
  {
   "cell_type": "code",
   "execution_count": 28,
   "id": "666bbb38",
   "metadata": {},
   "outputs": [],
   "source": [
    "def mask_ethnicity(texts):\n",
    "    masked_list = []\n",
    "    for sent in texts:\n",
    "        sent = mask_ethnicity_hf(sent)\n",
    "        masked_list.append(sent)\n",
    "        \n",
    "    return masked_list"
   ]
  },
  {
   "cell_type": "code",
   "execution_count": 29,
   "id": "d0daa4c8",
   "metadata": {},
   "outputs": [
    {
     "name": "stdout",
     "output_type": "stream",
     "text": [
      "And when this happens, and when we allow freedom ring, when we let it ring from every village and every hamlet, \n",
      "from every state and every city, we will be able to speed up that day when all of [MASK]'s children, [MASK] men and white men, \n",
      "[MASK] and [MASK]s, [MASK] and [MASK], will be able to join hands and sing in the words of the old [MASK] spiritual: Free at last. \n",
      "Free at last. Thank [MASK] almighty, we are free at last.\n"
     ]
    }
   ],
   "source": [
    "# Example output applying this pre-trained model\n",
    "example_text = \"\"\"And when this happens, and when we allow freedom ring, when we let it ring from every village and every hamlet, \n",
    "from every state and every city, we will be able to speed up that day when all of God's children, Black men and white men, \n",
    "Jews and Gentiles, Protestants and Catholics, will be able to join hands and sing in the words of the old Negro spiritual: Free at last. \n",
    "Free at last. Thank God almighty, we are free at last.\"\"\"\n",
    "\n",
    "masked_example = mask_ethnicity_hf(example_text)\n",
    "\n",
    "print(masked_example)"
   ]
  },
  {
   "cell_type": "code",
   "execution_count": 30,
   "id": "39bfe16a",
   "metadata": {},
   "outputs": [
    {
     "data": {
      "text/plain": [
       "'The aliens in this case being [MASK], the first enquiry must be, what is the object of the [MASK]? On applying to the preamble, we find that it looks like a bill of indictment as against a race not suited to live among a civilized nation, and certainly does not prepare one for legislation which would encourage or tolerate their settlement in the country. Indeed, the first lines of the preamble sound an alarm at the multitude of people coming in, who are of the repulsive habits described in the last part of the preamble, and prepares one for measures which should have a tendency to abate that alarm by deterrent influences and enactments which should have the effect of materially lessening the number of such undesirable visitors. The provisions of the [MASK] I have given somewhat in extenso bear out that view, and the concurrent and previous local legislation bear out the same impression, for on the same day as this [MASK] was passed, another [MASK] was passed, the very object of which was plainly stated to be \"to prevent the immigration\" of [MASK].\"'"
      ]
     },
     "execution_count": 30,
     "metadata": {},
     "output_type": "execute_result"
    }
   ],
   "source": [
    "masked_paragraphs = mask_ethnicity(paragraphs)\n",
    "\n",
    "masked_paragraphs[40]"
   ]
  },
  {
   "cell_type": "code",
   "execution_count": 31,
   "id": "f699ddee",
   "metadata": {},
   "outputs": [
    {
     "name": "stdout",
     "output_type": "stream",
     "text": [
      "torch.Size([78, 384])\n"
     ]
    }
   ],
   "source": [
    "# Calculate embeddings by calling model.encode()\n",
    "masked_paragraph_embeddings = model.encode(masked_paragraphs, convert_to_tensor=True)\n",
    "print(masked_paragraph_embeddings.shape)"
   ]
  },
  {
   "cell_type": "code",
   "execution_count": 32,
   "id": "d7a360ad",
   "metadata": {},
   "outputs": [
    {
     "name": "stdout",
     "output_type": "stream",
     "text": [
      "0.4159\tAnd again, \"A tax imposed by the law on these persons for the mere right to reside here, is an appropriate and effective means to discourage the immigration of the [MASK] into the State.\"\n",
      "0.3908\tThe aliens in this case being [MASK], the first enquiry must be, what is the object of the [MASK]? On applying to the preamble, we find that it looks like a bill of indictment as against a race not suited to live among a civilized nation, and certainly does not prepare one for legislation which would encourage or tolerate their settlement in the country. Indeed, the first lines of the preamble sound an alarm at the multitude of people coming in, who are of the repulsive habits described in the last part of the preamble, and prepares one for measures which should have a tendency to abate that alarm by deterrent influences and enactments which should have the effect of materially lessening the number of such undesirable visitors. The provisions of the [MASK] I have given somewhat in extenso bear out that view, and the concurrent and previous local legislation bear out the same impression, for on the same day as this [MASK] was passed, another [MASK] was passed, the very object of which was plainly stated to be \"to prevent the immigration\" of [MASK].\"\n",
      "0.3775\tNow, applying this test to the statute before us, let us see whether and how far its provisions affect, as is alleged, aliens, or trade, or commerce.\n",
      "0.3510\t*[MASK]*, cap. 8, referring to our obligations to foreigners, observes:— \"As soon as the lord of the territory admits strangers into it he engages \"to protect them as his own subjects, and to afford them perfect security as far as depends on him.\"\n",
      "0.3247\tThese treaties have the force of international law, and are continued most strongly against the party for whose benefit they are introduced.\n",
      "0.3211\tIn the *[MASK] [MASK]* judgment, p. 579, the learned judge says of the power of taxing foreigners, as in the present *qua* foreigners: “If the power exist it may be exercised upon all foreigners residing in the State, and may be so exercised as to bar the door of foreign commerce as effectually as the Government could do by issuing its man-“date and closing its ports.\"\n",
      "0.2655\tIn another place he says:—\"It would be an empty sound to say that the several [MASK] cannot pass any law to prevent foreigners from coming here if they may pass laws which will compel such foreigners to depart as soon as they arrive.\"\n",
      "0.2485\tAnd again \"to determine whether there is a conflict or not, i.e., of jurisdictions, the power must be considered with reference to its consequences, for its effect when carried out is the only criterion by which a judgment can be formed.\"\n",
      "0.2467\tDuring the argument on the case before me, the Attorney-General claims that this was direct taxation, and a direct tax within the Province, to raise revenue for [MASK] purposes, and, therefore *intra vires*; but the question is not one of name but of fact. Does it interfere with trade or commerce? Can it be legally imposed on foreigners as foreigners, for even a legal tax in other respects becomes illegal when it goes beyond its proper limits, and interferes with powers exclusively given to the Dominion for the benefit of all?\n"
     ]
    }
   ],
   "source": [
    "# Calculate the cosine similarity\n",
    "sims = cosine_similarity(target_embedding.unsqueeze(0), masked_paragraph_embeddings)\n",
    "\n",
    "k = min(10, sims.shape[0])\n",
    "\n",
    "topk = torch.topk(sims, k=k-1)\n",
    "\n",
    "top_masked_paragraphs = []\n",
    "\n",
    "for score, idx in zip(topk.values, topk.indices):\n",
    "    top_masked_paragraphs.append(masked_paragraphs[idx])\n",
    "    print(f\"{score:.4f}\\t{masked_paragraphs[idx]}\")"
   ]
  },
  {
   "cell_type": "markdown",
   "id": "bca8a2c8",
   "metadata": {},
   "source": [
    "### Natural Language Inference"
   ]
  },
  {
   "cell_type": "code",
   "execution_count": 33,
   "id": "a039befe",
   "metadata": {},
   "outputs": [
    {
     "name": "stderr",
     "output_type": "stream",
     "text": [
      "Some weights of RobertaForSequenceClassification were not initialized from the model checkpoint at lexlms/legal-roberta-base and are newly initialized: ['classifier.dense.bias', 'classifier.dense.weight', 'classifier.out_proj.bias', 'classifier.out_proj.weight']\n",
      "You should probably TRAIN this model on a down-stream task to be able to use it for predictions and inference.\n",
      "Device set to use cpu\n",
      "c:\\Users\\Kaiyan Zhang\\AppData\\Local\\Programs\\Python\\Python312\\Lib\\site-packages\\transformers\\pipelines\\text_classification.py:106: UserWarning:\n",
      "\n",
      "`return_all_scores` is now deprecated,  if want a similar functionality use `top_k=None` instead of `return_all_scores=True` or `top_k=1` instead of `return_all_scores=False`.\n",
      "\n"
     ]
    },
    {
     "name": "stdout",
     "output_type": "stream",
     "text": [
      "       favor  0.50  ->  And again, \"A tax imposed by the law on these persons for the mere right to reside here, is an appropriate and effective means to discourage the immigration of the [MASK] into the State.\"\n",
      "       favor  0.51  ->  The aliens in this case being [MASK], the first enquiry must be, what is the object of the [MASK]? On applying to the preamble, we find that it looks like a bill of indictment as against a race not suited to live among a civilized nation, and certainly does not prepare one for legislation which would encourage or tolerate their settlement in the country. Indeed, the first lines of the preamble sound an alarm at the multitude of people coming in, who are of the repulsive habits described in the last part of the preamble, and prepares one for measures which should have a tendency to abate that alarm by deterrent influences and enactments which should have the effect of materially lessening the number of such undesirable visitors. The provisions of the [MASK] I have given somewhat in extenso bear out that view, and the concurrent and previous local legislation bear out the same impression, for on the same day as this [MASK] was passed, another [MASK] was passed, the very object of which was plainly stated to be \"to prevent the immigration\" of [MASK].\"\n",
      "       favor  0.51  ->  Now, applying this test to the statute before us, let us see whether and how far its provisions affect, as is alleged, aliens, or trade, or commerce.\n",
      "       favor  0.52  ->  *[MASK]*, cap. 8, referring to our obligations to foreigners, observes:— \"As soon as the lord of the territory admits strangers into it he engages \"to protect them as his own subjects, and to afford them perfect security as far as depends on him.\"\n",
      "       favor  0.50  ->  These treaties have the force of international law, and are continued most strongly against the party for whose benefit they are introduced.\n",
      "       favor  0.52  ->  In the *[MASK] [MASK]* judgment, p. 579, the learned judge says of the power of taxing foreigners, as in the present *qua* foreigners: “If the power exist it may be exercised upon all foreigners residing in the State, and may be so exercised as to bar the door of foreign commerce as effectually as the Government could do by issuing its man-“date and closing its ports.\"\n",
      "       favor  0.51  ->  In another place he says:—\"It would be an empty sound to say that the several [MASK] cannot pass any law to prevent foreigners from coming here if they may pass laws which will compel such foreigners to depart as soon as they arrive.\"\n",
      "     neutral  0.51  ->  And again \"to determine whether there is a conflict or not, i.e., of jurisdictions, the power must be considered with reference to its consequences, for its effect when carried out is the only criterion by which a judgment can be formed.\"\n",
      "       favor  0.52  ->  During the argument on the case before me, the Attorney-General claims that this was direct taxation, and a direct tax within the Province, to raise revenue for [MASK] purposes, and, therefore *intra vires*; but the question is not one of name but of fact. Does it interfere with trade or commerce? Can it be legally imposed on foreigners as foreigners, for even a legal tax in other respects becomes illegal when it goes beyond its proper limits, and interferes with powers exclusively given to the Dominion for the benefit of all?\n"
     ]
    }
   ],
   "source": [
    "from transformers import AutoTokenizer, AutoModelForSequenceClassification, pipeline\n",
    "\n",
    "# Choose a strong NLI model\n",
    "model_name = \"lexlms/legal-roberta-base\"\n",
    "\n",
    "tokenizer = AutoTokenizer.from_pretrained(model_name)\n",
    "model     = AutoModelForSequenceClassification.from_pretrained(model_name)\n",
    "\n",
    "# Create an NLI pipeline\n",
    "nli = pipeline(\n",
    "    \"text-classification\",\n",
    "    model=model,\n",
    "    tokenizer=tokenizer,\n",
    "    device=-1,                   \n",
    "    return_all_scores=True        \n",
    ")\n",
    "\n",
    "# Define the premise\n",
    "premise = \"Chinese immigrants should enjoy equal rights and legal protections.\"\n",
    "\n",
    "results = []\n",
    "for sent in top_masked_paragraphs:\n",
    "    inputs = tokenizer.encode_plus(premise, sent, return_tensors=\"pt\", truncation=True)\n",
    "    out = model(**inputs).logits.softmax(dim=-1).tolist()[0]\n",
    "    label_idx = out.index(max(out))\n",
    "    label = [\"FAVOR\", \"NEUTRAL\", \"AGAINST\"][label_idx]\n",
    "    results.append((sent, label, dict(zip([\"favor\",\"neutral\",\"against\"], out))))\n",
    "\n",
    "# Print stance results\n",
    "for sent, label, probs in results:\n",
    "    print(f\"{label.lower():>12}  {probs[label.lower()]:.2f}  ->  {sent}\")"
   ]
  },
  {
   "cell_type": "code",
   "execution_count": 34,
   "id": "0bef693c",
   "metadata": {},
   "outputs": [
    {
     "name": "stderr",
     "output_type": "stream",
     "text": [
      "Device set to use cpu\n"
     ]
    },
    {
     "name": "stdout",
     "output_type": "stream",
     "text": [
      "                                           paragraph  entailment   neutral  \\\n",
      "0             CREASE, J. 1885. REGINA v. WING CHONG.    0.485249  0.398294   \n",
      "1  14th & 15th July, Certiorari—“Chinese Regulati...    0.354459  0.321517   \n",
      "2  14th & 15th July—On the return of a writ of ce...    0.443300  0.300308   \n",
      "3  The Attorney-General in support of the convict...    0.291023  0.360960   \n",
      "4  *Richards*, Q. C., for Wing Chong—The object o...    0.232745  0.329130   \n",
      "\n",
      "   contradiction      predicted  \n",
      "0       0.116457     entailment  \n",
      "1       0.324025     entailment  \n",
      "2       0.256391     entailment  \n",
      "3       0.348017        neutral  \n",
      "4       0.438125  contradiction  \n"
     ]
    }
   ],
   "source": [
    "from transformers import pipeline\n",
    "import pandas as pd\n",
    "\n",
    "# Load the MNLI‑based zero‑shot classifier\n",
    "classifier = pipeline(\n",
    "    \"zero-shot-classification\",\n",
    "    model=\"facebook/bart-large-mnli\",\n",
    "    device=-1\n",
    ")\n",
    "\n",
    "# Use the NLI labels as your “candidate labels”\n",
    "candidate_labels = [\"entailment\", \"neutral\", \"contradiction\"]\n",
    "\n",
    "records = []\n",
    "for para in paragraphs:\n",
    "    out = classifier(\n",
    "        sequences=para,\n",
    "        candidate_labels=candidate_labels,\n",
    "        hypothesis_template=\"Given the context that the texts for classification are from a legal ruling in 1885, this paragraph is {} of the premise 'Chinese immigrants should enjoy equal rights and legal protections'.\"\n",
    "    )\n",
    "    # out['labels'] is sorted by score descending\n",
    "    scores = dict(zip(out[\"labels\"], out[\"scores\"]))\n",
    "    pred = out[\"labels\"][0]\n",
    "\n",
    "    records.append({\n",
    "        \"paragraph\": para,\n",
    "        \"entailment\":   scores.get(\"entailment\", 0.0),\n",
    "        \"neutral\":      scores.get(\"neutral\",    0.0),\n",
    "        \"contradiction\":scores.get(\"contradiction\", 0.0),\n",
    "        \"predicted\":    pred\n",
    "    })\n",
    "\n",
    "#  Build a DataFrame\n",
    "df_nli = pd.DataFrame(records)\n",
    "\n",
    "# Inspect the first few rows\n",
    "print(df_nli.head())"
   ]
  },
  {
   "cell_type": "code",
   "execution_count": 35,
   "id": "f5441aa0",
   "metadata": {},
   "outputs": [
    {
     "data": {
      "text/plain": [
       "(78, 5)"
      ]
     },
     "execution_count": 35,
     "metadata": {},
     "output_type": "execute_result"
    }
   ],
   "source": [
    "df_nli.shape"
   ]
  },
  {
   "cell_type": "code",
   "execution_count": 36,
   "id": "b7ab6f96",
   "metadata": {},
   "outputs": [
    {
     "name": "stdout",
     "output_type": "stream",
     "text": [
      "               count  proportion\n",
      "predicted                       \n",
      "neutral           36    0.461538\n",
      "contradiction     22    0.282051\n",
      "entailment        20    0.256410\n"
     ]
    }
   ],
   "source": [
    "counts = df_nli['predicted'].value_counts()\n",
    "\n",
    "proportions = df_nli['predicted'].value_counts(normalize=True)\n",
    "\n",
    "result = pd.DataFrame({\n",
    "    'count': counts,\n",
    "    'proportion': proportions\n",
    "})\n",
    "\n",
    "print(result)"
   ]
  },
  {
   "cell_type": "markdown",
   "id": "a7cac29e",
   "metadata": {},
   "source": [
    "### Topic Modelling Through BERTopic"
   ]
  },
  {
   "cell_type": "code",
   "execution_count": 37,
   "id": "4388f7f2",
   "metadata": {},
   "outputs": [
    {
     "name": "stdout",
     "output_type": "stream",
     "text": [
      "   Topic  Count                                  Name  \\\n",
      "0     -1      9  -1_china_permission_default_distress   \n",
      "1      0     50            0_act_taxation_power_trade   \n",
      "2      1     19     1_license_shall_possession_person   \n",
      "\n",
      "                                      Representation  \\\n",
      "0  [china, permission, default, distress, 1860, m...   \n",
      "1  [act, taxation, power, trade, province, legisl...   \n",
      "2  [license, shall, possession, person, chinese s...   \n",
      "\n",
      "                                 Representative_Docs  \n",
      "0  [In the treaties of 1858 and 1860, made at the...  \n",
      "1  [The Attorney-General in reply—The ten dollar ...  \n",
      "2  [Section 9. “In case any employer of Chinese f...  \n"
     ]
    }
   ],
   "source": [
    "from bertopic import BERTopic\n",
    "from bertopic.vectorizers import ClassTfidfTransformer\n",
    "from sklearn.feature_extraction.text import CountVectorizer\n",
    "\n",
    "\n",
    "ctfidf_model = ClassTfidfTransformer(reduce_frequent_words=True)\n",
    "vectorizer = CountVectorizer(stop_words=\"english\", ngram_range=(1,2), max_df=0.85, min_df=2)\n",
    "\n",
    "topic_model = BERTopic(\n",
    "    vectorizer_model=vectorizer, \n",
    "    ctfidf_model= ctfidf_model\n",
    ")\n",
    "\n",
    "topics, probs = topic_model.fit_transform(paragraphs)\n",
    "\n",
    "df_topic = topic_model.get_topic_info()\n",
    "print(df_topic)"
   ]
  },
  {
   "cell_type": "code",
   "execution_count": 38,
   "id": "eb2bacfb",
   "metadata": {},
   "outputs": [
    {
     "name": "stdout",
     "output_type": "stream",
     "text": [
      "The Attorney-General in reply—The ten dollar impost was a tax whether designated by the name of a licence or otherwise. The distinction between direct and indirect taxation was well drawn in the case of Reed v. Mousseau before the Supreme Court of Canada, in which Mr. Justice Strong mentioned the Privy Council had decided the Provincial legislatures had exclusive power to impose direct taxation, and that it did not follow they might not have power even to impose indirect taxation. The tax did not sanction the carrying on of any business out of the product of which the consumer would, indirectly, contribute towards payment of the tax. Then as to inequality, the one dictum of Cooley was but an expression of opinion that political wisdom required uniform taxation; for the same author cited numerous authorities, including that of the Supreme Court of the United States establishing the right to discriminate unless fettered by the express language of the Constitution. Todd on Parliamentary Government in the Colonies, supported the view that the Provinces within their jurisdiction were as omnipotent as the Imperial Parliament. The California cases (see The People v. Naglee, 1 Cal. 232) decided a differential tax might be imposed on foreign miners; and though a later case (Lin Sing v. Washburn, 20 Cal. 334) had decided a special tax could not be imposed on Chinese, a most celebrated Judge, Mr. Justice Field (since elevated to the Federal bench), dissented, and had pointed out that according to federal decisions the State might impose special taxation on alien residents, provided the impost was not levied against foreigners landing in the country. The tax was not to exclude the Chinese — another statute with that object had been disallowed. It was imposed to meet the extraordinary expenses incident to enforcing the police and sanitary regulations prescribed by the Act. The question of treaties had nothing to do with the subject, for to responsible governments the Imperial Authorities conceded the right to pass laws within their jurisdiction. So the Canadian Parliament to-day was passing a restriction Act. Opponents to the Act might as well contend the exclusion of the Chinese from the franchise, and barring them from acquiring lands, was illegal. As to autonomy, neither the Australian Colonies nor the Dominion were absolutely possessed, but the Province equally with Australia and the Dominion were autonomous within the bounds of their respective jurisdictions.\n",
      "*Richards*, Q. C., for Wing Chong—The object of the Act was not for police purposes or to raise revenue. Its object, though not apparent on the face of the Act, was to prevent Chinese coming into the Province and drive out those who had already come. He reviewed the legislation against Chinese since confederation, contending it was levelled against a particular race of aliens and, therefore, beyond provincial control, per *Gwynne*, J., in *Citizens Insurance Co. v. Parsons*, 4 S. C. R., at p. 346. The law was a direct interference with trade and commerce (*R. v. Severn*, 2 Can. S. C. R., 70). If its object were successful and Chinese driven from the country, the customs dues received from the Chinese would be lost and the benefits of trade relations enjoyed by the merchants would be destroyed. Counsel cited statistics from the Chinese Commission showing the extreme importance, from a fiscal and commercial point of view, of the large number of Chinese in the Province. The Dominion under the B. N. A. Act had alone the right of performing in Canada the obligations of Canada as part of the British Empire in respect of treaties, and although Canada might pass laws prohibiting immigration, or having that tendency, the Province could not do so, nor could it pass laws in derogation of treaties. He cited the British treaty (25th August, 1842, from *Hertslet*, Vol. 6, and Lord *Elgin's* treaty, 1860), comparing it with the *Burlingame* treaty of the United States, and quoted California decisions (*Lin Sing v. Washburn*, 20 Cal. 334), and the decision of *Gray*, J., in *Tai Sing v. Maguire*, deciding that similar legislation was held void as contravening the treaty and the sovereign power to regulate trade and commerce with foreign countries.\n",
      "The Attorney-General in support of the conviction said there were five points raised on the rule for the certiorari against the validity of the $10 tax.—1st. That it interfered with the Dominion powers under the B. N. A. Act, aliens, and naturalization; 2nd. Trade and commerce; 3rd. Treaty obligations; 4th. That the tax was unequal, and 5th. It was indirect taxation. As to the first point aliens were as much subject to taxation as citizens. Protection and taxation were reciprocal (Cooley on Taxation, p. 14). The law did not deal with the conditions under which aliens might acquire rights or become subjects of Her Majesty. Secondly—Trade and commerce were not interfered with. The object of the Act was two-fold, the police and sanitary regulation of a numerous foreign element, and the raising of revenue necessary to meet that regulation (Hodge v. The Queen, L. R. 9, App. Cas. 117). If incidentally trade and commerce were touched, the provincial power of direct taxation was not impaired (Citizens Insurance Co. v. Parsons, L. R. 7 App. Cas. 108). The preamble and scope of the Act showed its objects were purely matters of the police and raising of revenue to meet the necessary expenditure, and within “Direct Taxation.” Thirdly—The treaty obligations of England did not affect the question. The last communication from the Secretary of State for the Colonies to the Governor-General, dated 16th May, 1884, stated, in effect, that the Colonies with responsible government could pass restrictive laws irrespective of treaties (B. C. Sessional Papers, 1885, p. 464), and instanced the legislation of the Australian Colonies and of the Dominion. Fourthly—As to unequal taxation, the power of the Province within its jurisdiction was supreme and as plenary as that of the Imperial Parliament (R. v. Burah, L.R. 3 App. Cas. 904; R. v. Hodge, L. R. 9, App. Cas. 117; and Powell v. Apollo Candle Co., L.R. 10 App. Cas., p. 290; and *In re Goodhue*, 19 Gr. 366); *Cooley* on Taxation, pp. 3, 82, 126-128, and *Cooley's Constitutional Limitations* (5th Ed.) 626-7; *Sedgwick* on Stat. (2nd Ed.), p. 501; *Potter's Dwarris* 418, 421, 425; *Dow v. Black*, L. R. 6 P. C. 272, were cited as showing the power of taxation, unless abridged by the written constitution, might be exercised so as to discriminate. The Supreme Court of Canada, in the case of *Jonas v. Gilbert*, 5 S. C. R., 356, had practically decided the same point. Fifthly—Whether called a licence or not, the imposition was a direct poll tax, and as such came within the power of the Province to raise money by direct taxation for Provincial purposes. *Cooley* on Taxation, 386; *Wharton's Law Lexicon*; *Reed v. Mousseau*, 8 S. C. R., 408. It was not a license to carry on business, or a method whereby indirectly money was raised from the consumer, as, for instance, customs or stamp laws.\n"
     ]
    }
   ],
   "source": [
    "for para in df_topic[\"Representative_Docs\"][1]:\n",
    "    print(para)"
   ]
  },
  {
   "cell_type": "code",
   "execution_count": 39,
   "id": "ee9b6ebe",
   "metadata": {},
   "outputs": [
    {
     "name": "stdout",
     "output_type": "stream",
     "text": [
      "['china', 'permission', 'default', 'distress', '1860', 'months', 'employers', 'recovered', 'enter', '19', 'act', 'taxation', 'power', 'trade', 'province', 'legislation', 'tax', 'provisions', 'government', 'foreigners', 'license', 'shall', 'possession', 'person', 'chinese shall', 'premises', 'exceeding', 'having', 'employer', 'chattels']\n"
     ]
    }
   ],
   "source": [
    "rep_list = []\n",
    "\n",
    "for list in df_topic[\"Representation\"]:\n",
    "    rep_list.extend(list)\n",
    "    \n",
    "print(rep_list)"
   ]
  },
  {
   "cell_type": "code",
   "execution_count": 40,
   "id": "7145eadf",
   "metadata": {},
   "outputs": [
    {
     "ename": "NameError",
     "evalue": "name 'topic_labels' is not defined",
     "output_type": "error",
     "traceback": [
      "\u001b[1;31m---------------------------------------------------------------------------\u001b[0m",
      "\u001b[1;31mNameError\u001b[0m                                 Traceback (most recent call last)",
      "Cell \u001b[1;32mIn[40], line 1\u001b[0m\n\u001b[1;32m----> 1\u001b[0m \u001b[43mtopic_labels\u001b[49m\n",
      "\u001b[1;31mNameError\u001b[0m: name 'topic_labels' is not defined"
     ]
    }
   ],
   "source": [
    "topic_labels"
   ]
  },
  {
   "cell_type": "code",
   "execution_count": null,
   "id": "296c49cf",
   "metadata": {},
   "outputs": [
    {
     "name": "stdout",
     "output_type": "stream",
     "text": [
      "['trade', 'commerce', 'subjects', 'dominion', 'taxation', 'province', 'license', 'possession', 'person']\n"
     ]
    }
   ],
   "source": [
    "topic_labels = topic_model.generate_topic_labels(\n",
    "    nr_words=3,       \n",
    "    separator=\" \",     \n",
    "    topic_prefix=False \n",
    ")\n",
    "\n",
    "topic_list = []\n",
    "\n",
    "for label in topic_labels:\n",
    "    phrases = label.split(\" \")\n",
    "    topic_list.extend(phrases)\n",
    "    \n",
    "print(topic_list)"
   ]
  },
  {
   "cell_type": "code",
   "execution_count": null,
   "id": "6438c36b",
   "metadata": {},
   "outputs": [
    {
     "data": {
      "application/vnd.plotly.v1+json": {
       "config": {
        "plotlyServerURL": "https://plot.ly"
       },
       "data": [
        {
         "hovertemplate": "x=%{x}<br>y=%{y}<br>topic=%{text}<extra></extra>",
         "legendgroup": "",
         "marker": {
          "color": "#636efa",
          "symbol": "circle"
         },
         "mode": "markers+text",
         "name": "",
         "orientation": "v",
         "showlegend": false,
         "text": [
          -1,
          0,
          1
         ],
         "type": "scatter",
         "x": [
          46.00291,
          45.399647,
          44.691036
         ],
         "xaxis": "x",
         "y": [
          -44.6011,
          -45.41154,
          -44.7853
         ],
         "yaxis": "y"
        }
       ],
       "layout": {
        "legend": {
         "tracegroupgap": 0
        },
        "template": {
         "data": {
          "bar": [
           {
            "error_x": {
             "color": "#2a3f5f"
            },
            "error_y": {
             "color": "#2a3f5f"
            },
            "marker": {
             "line": {
              "color": "#E5ECF6",
              "width": 0.5
             },
             "pattern": {
              "fillmode": "overlay",
              "size": 10,
              "solidity": 0.2
             }
            },
            "type": "bar"
           }
          ],
          "barpolar": [
           {
            "marker": {
             "line": {
              "color": "#E5ECF6",
              "width": 0.5
             },
             "pattern": {
              "fillmode": "overlay",
              "size": 10,
              "solidity": 0.2
             }
            },
            "type": "barpolar"
           }
          ],
          "carpet": [
           {
            "aaxis": {
             "endlinecolor": "#2a3f5f",
             "gridcolor": "white",
             "linecolor": "white",
             "minorgridcolor": "white",
             "startlinecolor": "#2a3f5f"
            },
            "baxis": {
             "endlinecolor": "#2a3f5f",
             "gridcolor": "white",
             "linecolor": "white",
             "minorgridcolor": "white",
             "startlinecolor": "#2a3f5f"
            },
            "type": "carpet"
           }
          ],
          "choropleth": [
           {
            "colorbar": {
             "outlinewidth": 0,
             "ticks": ""
            },
            "type": "choropleth"
           }
          ],
          "contour": [
           {
            "colorbar": {
             "outlinewidth": 0,
             "ticks": ""
            },
            "colorscale": [
             [
              0,
              "#0d0887"
             ],
             [
              0.1111111111111111,
              "#46039f"
             ],
             [
              0.2222222222222222,
              "#7201a8"
             ],
             [
              0.3333333333333333,
              "#9c179e"
             ],
             [
              0.4444444444444444,
              "#bd3786"
             ],
             [
              0.5555555555555556,
              "#d8576b"
             ],
             [
              0.6666666666666666,
              "#ed7953"
             ],
             [
              0.7777777777777778,
              "#fb9f3a"
             ],
             [
              0.8888888888888888,
              "#fdca26"
             ],
             [
              1,
              "#f0f921"
             ]
            ],
            "type": "contour"
           }
          ],
          "contourcarpet": [
           {
            "colorbar": {
             "outlinewidth": 0,
             "ticks": ""
            },
            "type": "contourcarpet"
           }
          ],
          "heatmap": [
           {
            "colorbar": {
             "outlinewidth": 0,
             "ticks": ""
            },
            "colorscale": [
             [
              0,
              "#0d0887"
             ],
             [
              0.1111111111111111,
              "#46039f"
             ],
             [
              0.2222222222222222,
              "#7201a8"
             ],
             [
              0.3333333333333333,
              "#9c179e"
             ],
             [
              0.4444444444444444,
              "#bd3786"
             ],
             [
              0.5555555555555556,
              "#d8576b"
             ],
             [
              0.6666666666666666,
              "#ed7953"
             ],
             [
              0.7777777777777778,
              "#fb9f3a"
             ],
             [
              0.8888888888888888,
              "#fdca26"
             ],
             [
              1,
              "#f0f921"
             ]
            ],
            "type": "heatmap"
           }
          ],
          "heatmapgl": [
           {
            "colorbar": {
             "outlinewidth": 0,
             "ticks": ""
            },
            "colorscale": [
             [
              0,
              "#0d0887"
             ],
             [
              0.1111111111111111,
              "#46039f"
             ],
             [
              0.2222222222222222,
              "#7201a8"
             ],
             [
              0.3333333333333333,
              "#9c179e"
             ],
             [
              0.4444444444444444,
              "#bd3786"
             ],
             [
              0.5555555555555556,
              "#d8576b"
             ],
             [
              0.6666666666666666,
              "#ed7953"
             ],
             [
              0.7777777777777778,
              "#fb9f3a"
             ],
             [
              0.8888888888888888,
              "#fdca26"
             ],
             [
              1,
              "#f0f921"
             ]
            ],
            "type": "heatmapgl"
           }
          ],
          "histogram": [
           {
            "marker": {
             "pattern": {
              "fillmode": "overlay",
              "size": 10,
              "solidity": 0.2
             }
            },
            "type": "histogram"
           }
          ],
          "histogram2d": [
           {
            "colorbar": {
             "outlinewidth": 0,
             "ticks": ""
            },
            "colorscale": [
             [
              0,
              "#0d0887"
             ],
             [
              0.1111111111111111,
              "#46039f"
             ],
             [
              0.2222222222222222,
              "#7201a8"
             ],
             [
              0.3333333333333333,
              "#9c179e"
             ],
             [
              0.4444444444444444,
              "#bd3786"
             ],
             [
              0.5555555555555556,
              "#d8576b"
             ],
             [
              0.6666666666666666,
              "#ed7953"
             ],
             [
              0.7777777777777778,
              "#fb9f3a"
             ],
             [
              0.8888888888888888,
              "#fdca26"
             ],
             [
              1,
              "#f0f921"
             ]
            ],
            "type": "histogram2d"
           }
          ],
          "histogram2dcontour": [
           {
            "colorbar": {
             "outlinewidth": 0,
             "ticks": ""
            },
            "colorscale": [
             [
              0,
              "#0d0887"
             ],
             [
              0.1111111111111111,
              "#46039f"
             ],
             [
              0.2222222222222222,
              "#7201a8"
             ],
             [
              0.3333333333333333,
              "#9c179e"
             ],
             [
              0.4444444444444444,
              "#bd3786"
             ],
             [
              0.5555555555555556,
              "#d8576b"
             ],
             [
              0.6666666666666666,
              "#ed7953"
             ],
             [
              0.7777777777777778,
              "#fb9f3a"
             ],
             [
              0.8888888888888888,
              "#fdca26"
             ],
             [
              1,
              "#f0f921"
             ]
            ],
            "type": "histogram2dcontour"
           }
          ],
          "mesh3d": [
           {
            "colorbar": {
             "outlinewidth": 0,
             "ticks": ""
            },
            "type": "mesh3d"
           }
          ],
          "parcoords": [
           {
            "line": {
             "colorbar": {
              "outlinewidth": 0,
              "ticks": ""
             }
            },
            "type": "parcoords"
           }
          ],
          "pie": [
           {
            "automargin": true,
            "type": "pie"
           }
          ],
          "scatter": [
           {
            "fillpattern": {
             "fillmode": "overlay",
             "size": 10,
             "solidity": 0.2
            },
            "type": "scatter"
           }
          ],
          "scatter3d": [
           {
            "line": {
             "colorbar": {
              "outlinewidth": 0,
              "ticks": ""
             }
            },
            "marker": {
             "colorbar": {
              "outlinewidth": 0,
              "ticks": ""
             }
            },
            "type": "scatter3d"
           }
          ],
          "scattercarpet": [
           {
            "marker": {
             "colorbar": {
              "outlinewidth": 0,
              "ticks": ""
             }
            },
            "type": "scattercarpet"
           }
          ],
          "scattergeo": [
           {
            "marker": {
             "colorbar": {
              "outlinewidth": 0,
              "ticks": ""
             }
            },
            "type": "scattergeo"
           }
          ],
          "scattergl": [
           {
            "marker": {
             "colorbar": {
              "outlinewidth": 0,
              "ticks": ""
             }
            },
            "type": "scattergl"
           }
          ],
          "scattermapbox": [
           {
            "marker": {
             "colorbar": {
              "outlinewidth": 0,
              "ticks": ""
             }
            },
            "type": "scattermapbox"
           }
          ],
          "scatterpolar": [
           {
            "marker": {
             "colorbar": {
              "outlinewidth": 0,
              "ticks": ""
             }
            },
            "type": "scatterpolar"
           }
          ],
          "scatterpolargl": [
           {
            "marker": {
             "colorbar": {
              "outlinewidth": 0,
              "ticks": ""
             }
            },
            "type": "scatterpolargl"
           }
          ],
          "scatterternary": [
           {
            "marker": {
             "colorbar": {
              "outlinewidth": 0,
              "ticks": ""
             }
            },
            "type": "scatterternary"
           }
          ],
          "surface": [
           {
            "colorbar": {
             "outlinewidth": 0,
             "ticks": ""
            },
            "colorscale": [
             [
              0,
              "#0d0887"
             ],
             [
              0.1111111111111111,
              "#46039f"
             ],
             [
              0.2222222222222222,
              "#7201a8"
             ],
             [
              0.3333333333333333,
              "#9c179e"
             ],
             [
              0.4444444444444444,
              "#bd3786"
             ],
             [
              0.5555555555555556,
              "#d8576b"
             ],
             [
              0.6666666666666666,
              "#ed7953"
             ],
             [
              0.7777777777777778,
              "#fb9f3a"
             ],
             [
              0.8888888888888888,
              "#fdca26"
             ],
             [
              1,
              "#f0f921"
             ]
            ],
            "type": "surface"
           }
          ],
          "table": [
           {
            "cells": {
             "fill": {
              "color": "#EBF0F8"
             },
             "line": {
              "color": "white"
             }
            },
            "header": {
             "fill": {
              "color": "#C8D4E3"
             },
             "line": {
              "color": "white"
             }
            },
            "type": "table"
           }
          ]
         },
         "layout": {
          "annotationdefaults": {
           "arrowcolor": "#2a3f5f",
           "arrowhead": 0,
           "arrowwidth": 1
          },
          "autotypenumbers": "strict",
          "coloraxis": {
           "colorbar": {
            "outlinewidth": 0,
            "ticks": ""
           }
          },
          "colorscale": {
           "diverging": [
            [
             0,
             "#8e0152"
            ],
            [
             0.1,
             "#c51b7d"
            ],
            [
             0.2,
             "#de77ae"
            ],
            [
             0.3,
             "#f1b6da"
            ],
            [
             0.4,
             "#fde0ef"
            ],
            [
             0.5,
             "#f7f7f7"
            ],
            [
             0.6,
             "#e6f5d0"
            ],
            [
             0.7,
             "#b8e186"
            ],
            [
             0.8,
             "#7fbc41"
            ],
            [
             0.9,
             "#4d9221"
            ],
            [
             1,
             "#276419"
            ]
           ],
           "sequential": [
            [
             0,
             "#0d0887"
            ],
            [
             0.1111111111111111,
             "#46039f"
            ],
            [
             0.2222222222222222,
             "#7201a8"
            ],
            [
             0.3333333333333333,
             "#9c179e"
            ],
            [
             0.4444444444444444,
             "#bd3786"
            ],
            [
             0.5555555555555556,
             "#d8576b"
            ],
            [
             0.6666666666666666,
             "#ed7953"
            ],
            [
             0.7777777777777778,
             "#fb9f3a"
            ],
            [
             0.8888888888888888,
             "#fdca26"
            ],
            [
             1,
             "#f0f921"
            ]
           ],
           "sequentialminus": [
            [
             0,
             "#0d0887"
            ],
            [
             0.1111111111111111,
             "#46039f"
            ],
            [
             0.2222222222222222,
             "#7201a8"
            ],
            [
             0.3333333333333333,
             "#9c179e"
            ],
            [
             0.4444444444444444,
             "#bd3786"
            ],
            [
             0.5555555555555556,
             "#d8576b"
            ],
            [
             0.6666666666666666,
             "#ed7953"
            ],
            [
             0.7777777777777778,
             "#fb9f3a"
            ],
            [
             0.8888888888888888,
             "#fdca26"
            ],
            [
             1,
             "#f0f921"
            ]
           ]
          },
          "colorway": [
           "#636efa",
           "#EF553B",
           "#00cc96",
           "#ab63fa",
           "#FFA15A",
           "#19d3f3",
           "#FF6692",
           "#B6E880",
           "#FF97FF",
           "#FECB52"
          ],
          "font": {
           "color": "#2a3f5f"
          },
          "geo": {
           "bgcolor": "white",
           "lakecolor": "white",
           "landcolor": "#E5ECF6",
           "showlakes": true,
           "showland": true,
           "subunitcolor": "white"
          },
          "hoverlabel": {
           "align": "left"
          },
          "hovermode": "closest",
          "mapbox": {
           "style": "light"
          },
          "paper_bgcolor": "white",
          "plot_bgcolor": "#E5ECF6",
          "polar": {
           "angularaxis": {
            "gridcolor": "white",
            "linecolor": "white",
            "ticks": ""
           },
           "bgcolor": "#E5ECF6",
           "radialaxis": {
            "gridcolor": "white",
            "linecolor": "white",
            "ticks": ""
           }
          },
          "scene": {
           "xaxis": {
            "backgroundcolor": "#E5ECF6",
            "gridcolor": "white",
            "gridwidth": 2,
            "linecolor": "white",
            "showbackground": true,
            "ticks": "",
            "zerolinecolor": "white"
           },
           "yaxis": {
            "backgroundcolor": "#E5ECF6",
            "gridcolor": "white",
            "gridwidth": 2,
            "linecolor": "white",
            "showbackground": true,
            "ticks": "",
            "zerolinecolor": "white"
           },
           "zaxis": {
            "backgroundcolor": "#E5ECF6",
            "gridcolor": "white",
            "gridwidth": 2,
            "linecolor": "white",
            "showbackground": true,
            "ticks": "",
            "zerolinecolor": "white"
           }
          },
          "shapedefaults": {
           "line": {
            "color": "#2a3f5f"
           }
          },
          "ternary": {
           "aaxis": {
            "gridcolor": "white",
            "linecolor": "white",
            "ticks": ""
           },
           "baxis": {
            "gridcolor": "white",
            "linecolor": "white",
            "ticks": ""
           },
           "bgcolor": "#E5ECF6",
           "caxis": {
            "gridcolor": "white",
            "linecolor": "white",
            "ticks": ""
           }
          },
          "title": {
           "x": 0.05
          },
          "xaxis": {
           "automargin": true,
           "gridcolor": "white",
           "linecolor": "white",
           "ticks": "",
           "title": {
            "standoff": 15
           },
           "zerolinecolor": "white",
           "zerolinewidth": 2
          },
          "yaxis": {
           "automargin": true,
           "gridcolor": "white",
           "linecolor": "white",
           "ticks": "",
           "title": {
            "standoff": 15
           },
           "zerolinecolor": "white",
           "zerolinewidth": 2
          }
         }
        },
        "title": {
         "text": "Topic visualization"
        },
        "xaxis": {
         "anchor": "y",
         "domain": [
          0,
          1
         ],
         "title": {
          "text": "x"
         }
        },
        "yaxis": {
         "anchor": "x",
         "domain": [
          0,
          1
         ],
         "title": {
          "text": "y"
         }
        }
       }
      }
     },
     "metadata": {},
     "output_type": "display_data"
    }
   ],
   "source": [
    "from umap import UMAP\n",
    "import pandas as pd\n",
    "import plotly.express as px\n",
    "\n",
    "# Get your topic-term embeddings\n",
    "embeddings = topic_model.c_tf_idf_.toarray()\n",
    "\n",
    "# 1) Build a UMAP reducer with random init\n",
    "umap_model = UMAP(\n",
    "    n_neighbors=15,\n",
    "    n_components=2,\n",
    "    metric=\"cosine\",\n",
    "    init=\"random\",\n",
    "    random_state=42\n",
    ")\n",
    "reduced_embeddings = umap_model.fit_transform(embeddings)\n",
    "\n",
    "# 2) Build a DataFrame and scatter\n",
    "df = pd.DataFrame(reduced_embeddings, columns=[\"x\", \"y\"])\n",
    "df[\"topic\"] = topic_model.get_topic_info()[\"Topic\"].values\n",
    "\n",
    "fig = px.scatter(\n",
    "    df,\n",
    "    x=\"x\",\n",
    "    y=\"y\",\n",
    "    text=\"topic\",\n",
    "    title=\"Topic visualization\"\n",
    ")\n",
    "fig.show()\n"
   ]
  },
  {
   "cell_type": "code",
   "execution_count": null,
   "id": "e1aa3690",
   "metadata": {},
   "outputs": [
    {
     "name": "stderr",
     "output_type": "stream",
     "text": [
      "No sentence-transformers model found with name nlpaueb/legal-bert-base-uncased. Creating a new one with mean pooling.\n"
     ]
    }
   ],
   "source": [
    "from sentence_transformers import SentenceTransformer\n",
    "\n",
    "embedding_model = SentenceTransformer(\"nlpaueb/legal-bert-base-uncased\")\n",
    "\n"
   ]
  },
  {
   "cell_type": "code",
   "execution_count": null,
   "id": "94427fcd",
   "metadata": {},
   "outputs": [
    {
     "name": "stdout",
     "output_type": "stream",
     "text": [
      "   Topic  Count                                      Name  \\\n",
      "0     -1     54  -1_foreigners_legislation_trade_commerce   \n",
      "1      0     14           0_taxation_power_general_powers   \n",
      "2      1     10   1_person mask_sections_operation_habits   \n",
      "\n",
      "                                      Representation  \\\n",
      "0  [foreigners, legislation, trade, commerce, emp...   \n",
      "1  [taxation, power, general, powers, case, attor...   \n",
      "2  [person mask, sections, operation, habits, 14 ...   \n",
      "\n",
      "                                 Representative_Docs  \n",
      "0  [These obligations are binding here and in oth...  \n",
      "1  [*[MASK]*, Q. [MASK]., on the same side, argue...  \n",
      "2  [Sections 17 and 18 prevent the exhumation of ...  \n"
     ]
    }
   ],
   "source": [
    "from bertopic import BERTopic\n",
    "from bertopic.vectorizers import ClassTfidfTransformer\n",
    "\n",
    "topic_model = BERTopic(embedding_model=embedding_model,\n",
    "                       vectorizer_model= vectorizer,\n",
    "                       ctfidf_model= ctfidf_model)\n",
    "\n",
    "topics, probs = topic_model.fit_transform(masked_paragraphs)\n",
    "\n",
    "df_topic = topic_model.get_topic_info()\n",
    "print(df_topic)"
   ]
  },
  {
   "cell_type": "code",
   "execution_count": null,
   "id": "17cb8767",
   "metadata": {},
   "outputs": [
    {
     "name": "stdout",
     "output_type": "stream",
     "text": [
      "['These obligations are binding here and in other parts of the [MASK] under section 132 of the [MASK], and no [MASK], or the [MASK] itself, can lawfully pass laws interfering with that right without a previous revision of the treaties by the high contracting parties to them for that purpose. Treaties with foreign nations are above all ordinary municipal law, for obvious international reasons, for without such a provision there can be no permanent security, which is the life of all commercial intercourse. The same provisions that apply to [MASK] may be made to apply also to [MASK], [MASK]men, [MASK], or any other foreigners. Such treaties are the especial care of the [MASK], and where local legislation clashes with that especial province of the [MASK], the legislation of the [MASK] must give way, as laid down in [MASK] v. the [MASK] of [MASK], 40 Q.B., [MASK]., 478; [MASK]. v. [MASK], [MASK][MASK], 548; [MASK] v. [MASK], [MASK].R. 6 [MASK].C. 272; [MASK] v. [MASK][MASK], [MASK].R. 6 [MASK].C. 31, and numerous other [MASK] authorities, besides the [MASK] itself. Now applying the principles and tests I have described to the [MASK] before us, what do we find? The [MASK] is found associated with another [MASK] now disallowed, the express object of which is to prevent the [MASK] altogether from coming to this country, and the principle \"noscitur a sociis\" is kept up by the preamble of the present [MASK], which describes the [MASK] in terms which, I venture to think, have never before in any other country found a place in an [MASK] [MASK].', 'So far, I have dealt with the [MASK] on its own merits; but if we consider it in juxtaposition to the [MASK] recently passed restricting the [MASK] throughout all [MASK], its illegality becomes transparent; for in passing that [MASK] against the [MASK] the [MASK] has spoken by the highest authority which it possesses—its own Parliament. By the [MASK] the subject of aliens, we have seen, is specially reserved to the [MASK], and it is now an axiom, in the interpretation of that [MASK], that when that authority deals with a subject expressly included in its jurisdiction by the 91st section, it has possession of that subject exclusively, and the [MASK] has to give way. It is a great assumption of power on the part of a [MASK] to pass laws, the effect of which must be practically to expel a particular class of aliens from that [MASK], to say in effect that it will by its legislation impede or prevent that class from being employed in another [MASK]—say the [MASK]-[MASK] or [MASK]—where railway works may be languishing for want of that very class of labourers, [MASK] being the only sea-board of [MASK] on the [MASK] through which (in face of the restrictive laws of the [MASK]) that class of labourers can enter and pass through; that is, in fact, legislating on all inter-provincial immigration; in other words, such legislation is ultra vires, and so I pronounce it; and adjudge accordingly, and quash the conviction, with costs.', 'It is impossible but that such an imposition so enforced, in addition to all the general taxes to which he is subject, should make this country too hot for him to live in; and just in proportion as he is so persecuted out of the country, in that degree does this enactment interfere with trade and commerce and that control over aliens exclusively given to the [MASK]. And not only is he thus attacked, but unheard of provisions are introduced. Every employé of [MASK] labour, whether [MASK], [MASK], or what not, is made liable to severe and incessant liability of a penal kind, for what? Some act, a default of his own? No; an act or default of a stranger, a man whose language he knows not, and for every infraction of the [MASK] by the [MASK] under his employ. The palpable object of such a provision, or set of provisions, is to render the employment of [MASK] so distasteful and annoying to the employer that he must cease to employ them. Now, to pass a law providing that employment shall not be given to a special class of men, except it be productive of so much danger, annoyance, and loss to the employer, is just another way of saying that no intercourse shall be had with that class. With penalties and prosecutions always before you, far in excess of any advantage to be derived from that intercourse or trade, what is that but equivalent to saying that such intercourse or trade or labour must cease altogether. What is that but interfering with aliens, trade, and commerce?']\n",
      "[\"*[MASK]*, Q. [MASK]., on the same side, argued that the imposition of the $10 tax was invalid because of inequality. Inherent in and incidental to the taxing power was the characteristic of equality. *[MASK]* stated that irrespective of constitutional limitation a particular class of citizens could not be burdened for the advantage of others—*[MASK]'s Constitutional Limitations*, p. 635. This was a principle underlying the power to tax and governing that right even though the CREASE, J. 1885. [MASK] v. [MASK]. written constitution made no mention of it—[MASK][MASK] on Taxation, p. 18, and [MASK] v. [MASK], 35 [MASK]. Dec. 159. The imposition was in derogation of treaty rights with which [MASK] alone had the power to deal. The [MASK] legislation did not help the contention of the Attorney-General. The [MASK] [MASK] were autonomous, and occupied the same position as that of [MASK]. The [MASK] were not autonomous. He did not contend that the whole of the [MASK] was invalid. Much of it was within the scope of the [MASK], notably the provisions affecting the size of dwellings, the forbidding the use of opium, and the desecration of grave-yards. He insisted that imposing excessive taxation on one class of citizens was unconstitutional. The remarks of Chief Justice [MASK], in the case of [MASK] v. [MASK] before the [MASK], were obiter dicta, as the decision was upon another point, and intimated, but did not decide the right of the [MASK] to discriminate, nor in what things and to what extent discrimination in taxation was legitimate. Lastly, the [MASK] was for indirect taxation, which was a power given only to the [MASK]. It was a license fee, the power to impose which had, in [MASK] v. The Queen, been decided against the [MASK] on the score of such legislation being against trade and commerce.\", 'The Attorney-General in reply—The ten dollar impost was a tax whether designated by the name of a licence or otherwise. The distinction between direct and indirect taxation was well drawn in the case of [MASK] v. [MASK] before the [MASK], in which Mr. Justice [MASK] mentioned the [MASK] had decided the [MASK] legislatures had exclusive power to impose direct taxation, and that it did not follow they might not have power even to impose indirect taxation. The tax did not sanction the carrying on of any business out of the product of which the consumer would, indirectly, contribute towards payment of the tax. Then as to inequality, the one dictum of [MASK] was but an expression of opinion that political wisdom required uniform taxation; for the same author cited numerous authorities, including that of the [MASK] of the [MASK] establishing the right to discriminate unless fettered by the express language of the [MASK]. [MASK] on Parliamentary Government in the [MASK], supported the view that the [MASK] within their jurisdiction were as omnipotent as the [MASK] [MASK]. The [MASK] cases (see [MASK] v. [MASK], 1 [MASK]. 232) decided a differential tax might be imposed on foreign miners; and though a later case ([MASK] [MASK] v. [MASK], 20 [MASK]. 334) had decided a special tax could not be imposed on [MASK], a most celebrated Judge, Mr. [MASK] (since elevated to the [MASK] bench), dissented, and had pointed out that according to federal decisions the State might impose special taxation on alien residents, provided the impost was not levied against foreigners landing in the country. The tax was not to exclude the [MASK] — another statute with that object had been disallowed. It was imposed to meet the extraordinary expenses incident to enforcing the police and sanitary regulations prescribed by the [MASK]. The question of treaties had nothing to do with the subject, for to responsible governments the [MASK] Authorities conceded the right to pass laws within their jurisdiction. So the [MASK] Parliament to-day was passing a restriction [MASK]. Opponents to the [MASK] might as well contend the exclusion of the [MASK] from the franchise, and barring them from acquiring lands, was illegal. As to autonomy, neither the [MASK]onies nor the [MASK] were absolutely possessed, but the [MASK] equally with [MASK] and the [MASK] were autonomous within the bounds of their respective jurisdictions.', \"The Attorney-General in support of the conviction said there were five points raised on the rule for the certiorari against the validity of the $10 tax.—1st. That it interfered with the [MASK] powers under the [MASK]. [MASK]. [MASK][MASK], aliens, and naturalization; 2nd. Trade and commerce; 3rd. [MASK] obligations; 4th. That the tax was unequal, and 5th. It was indirect taxation. As to the first point aliens were as much subject to taxation as citizens. Protection and taxation were reciprocal ([MASK] on Taxation, p. 14). The law did not deal with the conditions under which aliens might acquire rights or become subjects of Her Majesty. Secondly—Trade and commerce were not interfered with. The object of the [MASK] was two-fold, the police and sanitary regulation of a numerous foreign element, and the raising of revenue necessary to meet that regulation ([MASK] v. The Queen, [MASK]. R. 9, App. Cas. 117). If incidentally trade and commerce were touched, the provincial power of direct taxation was not impaired ([MASK] v. [MASK], [MASK]. R. 7 App. Cas. 108). The preamble and scope of the [MASK] showed its objects were purely matters of the police and raising of revenue to meet the necessary expenditure, and within “Direct Taxation.” Thirdly—The treaty obligations of [MASK] did not affect the question. The last communication from the Secretary of State for the [MASK] to the Governor-General, dated 16th May, 1884, stated, in effect, that the [MASK] with responsible government could pass restrictive laws irrespective of treaties ([MASK]. [MASK]al [MASK], 1885, p. 464), and instanced the legislation of the [MASK] [MASK] and of the [MASK]. Fourthly—As to une[MASK]l taxation, the power of the [MASK] within its jurisdiction was supreme and as plena[MASK] as that of the [MASK] ([MASK]. v. [MASK]urah, [MASK].[MASK]. 3 [MASK]pp. [MASK]as. 904; [MASK]. v. [MASK], [MASK]. [MASK]. 9, [MASK]pp. [MASK]as. 117; and [MASK] v. [MASK]dle [MASK]., [MASK].[MASK]. 10 [MASK]pp. [MASK]as., p. 290; and *In re [MASK]*, 19 [MASK]r. 366); *[MASK]* on Taxation, pp. 3, 82, 126-128, and *Cooley's Constitutional Limitations* (5th Ed.) 626-7; *Sedgwick* on Stat. (2nd Ed.), p. 501; *Potter's Dwarris* 418, 421, 425; *Dow v. Black*, L. R. 6 P. C. 272, were cited as showing the power of taxation, unless abridged by the written constitution, might be exercised so as to discriminate. The Supreme Court of Canada, in the case of *Jonas v. Gilbert*, 5 S. C. R., 356, had practically decided the same point. Fifthly—Whether called a licence or not, the imposition was a direct poll tax, and as such came within the power of the Province to raise money by direct taxation for Provincial purposes. *Cooley* on Taxation, 386; *Wharton's Law Lexicon*; *Reed v. Mousseau*, 8 S. C. R., 408. It was not a license to carry on business, or a method whereby indirectly money was raised from the consumer, as, for instance, customs or stamp laws.\"]\n",
      "['Sections 17 and 18 prevent the exhumation of dead bodies without permission, and prohibit the use of opium except for medical purposes.', '21st August, 1885—[MASK], [MASK].— In order to deal satisfactorily with the questions raised by this appeal, it is necessary to see what is the scope and purport of the [MASK]. It is called \"An [MASK] to regulate the [MASK] population of [MASK].\" It starts with a recital, in itself a petio principii—not apparently the result of any public enquiry—which charges them with being not law-abiding, dissimilar in habits and occupation to the whites—useless in emergencies, habitual desecrators of grave-yards, unsuited to our laws, and of habits subversive of the community. From that premises concluding that special laws are required for their government, it proceeds to enact:—', 'Section 27 places in the hand of the local executive the construction from time to time of further rules and regulations to enforce the [MASK], and a fitting summary to such a premiss in section 28 reverses all the old law of [MASK] and one of the most cherished and priceless safeguards of the freedom from oppression won for us by our forefathers—that no one shall be deemed guilty until he has been proved so—throws on the defendant, white or yellow, the burden of proving that he is exempt from the operation of its arbitrary provisions—and in a tax [MASK] which is in restraint of personal liberty, and opposed to the common law rights of the citizen—for if applicable to aliens it is a fortiori to the temporary inhabitants of the [MASK]—abrogates the hitherto invariable rule in criminal matters and makes it unnecessary in any information, summons or conviction to “state or negotiate any “exception in or exemption under this [MASK], or in contemplation of “law.” Taught by experience of former efforts in the same direction, section 29 gives one year’s notice of the coming into operation of the [MASK]—a time which has now expired. And section 30 terms it merely “[MASK].”']\n"
     ]
    }
   ],
   "source": [
    "for para in df_topic['Representative_Docs']:\n",
    "    print(para)"
   ]
  },
  {
   "cell_type": "code",
   "execution_count": null,
   "id": "666a02a2",
   "metadata": {},
   "outputs": [
    {
     "data": {
      "text/plain": [
       "['foreigners legislation trade commerce employer',\n",
       " 'taxation power general powers case',\n",
       " 'person mask sections operation habits 14 years']"
      ]
     },
     "execution_count": 109,
     "metadata": {},
     "output_type": "execute_result"
    }
   ],
   "source": [
    "topic_labels = topic_model.generate_topic_labels(\n",
    "    nr_words=5,       \n",
    "    separator=\" \",     \n",
    "    topic_prefix=False \n",
    ")\n",
    "\n",
    "topic_labels"
   ]
  },
  {
   "cell_type": "code",
   "execution_count": null,
   "id": "584fa004",
   "metadata": {},
   "outputs": [
    {
     "data": {
      "application/vnd.plotly.v1+json": {
       "config": {
        "plotlyServerURL": "https://plot.ly"
       },
       "data": [
        {
         "hovertemplate": "x=%{x}<br>y=%{y}<br>topic=%{text}<extra></extra>",
         "legendgroup": "",
         "marker": {
          "color": "#636efa",
          "symbol": "circle"
         },
         "mode": "markers+text",
         "name": "",
         "orientation": "v",
         "showlegend": false,
         "text": [
          -1,
          0,
          1
         ],
         "type": "scatter",
         "x": [
          7.6312604,
          8.30277,
          6.954186
         ],
         "xaxis": "x",
         "y": [
          18.315273,
          19.10295,
          18.897137
         ],
         "yaxis": "y"
        }
       ],
       "layout": {
        "legend": {
         "tracegroupgap": 0
        },
        "template": {
         "data": {
          "bar": [
           {
            "error_x": {
             "color": "#2a3f5f"
            },
            "error_y": {
             "color": "#2a3f5f"
            },
            "marker": {
             "line": {
              "color": "#E5ECF6",
              "width": 0.5
             },
             "pattern": {
              "fillmode": "overlay",
              "size": 10,
              "solidity": 0.2
             }
            },
            "type": "bar"
           }
          ],
          "barpolar": [
           {
            "marker": {
             "line": {
              "color": "#E5ECF6",
              "width": 0.5
             },
             "pattern": {
              "fillmode": "overlay",
              "size": 10,
              "solidity": 0.2
             }
            },
            "type": "barpolar"
           }
          ],
          "carpet": [
           {
            "aaxis": {
             "endlinecolor": "#2a3f5f",
             "gridcolor": "white",
             "linecolor": "white",
             "minorgridcolor": "white",
             "startlinecolor": "#2a3f5f"
            },
            "baxis": {
             "endlinecolor": "#2a3f5f",
             "gridcolor": "white",
             "linecolor": "white",
             "minorgridcolor": "white",
             "startlinecolor": "#2a3f5f"
            },
            "type": "carpet"
           }
          ],
          "choropleth": [
           {
            "colorbar": {
             "outlinewidth": 0,
             "ticks": ""
            },
            "type": "choropleth"
           }
          ],
          "contour": [
           {
            "colorbar": {
             "outlinewidth": 0,
             "ticks": ""
            },
            "colorscale": [
             [
              0,
              "#0d0887"
             ],
             [
              0.1111111111111111,
              "#46039f"
             ],
             [
              0.2222222222222222,
              "#7201a8"
             ],
             [
              0.3333333333333333,
              "#9c179e"
             ],
             [
              0.4444444444444444,
              "#bd3786"
             ],
             [
              0.5555555555555556,
              "#d8576b"
             ],
             [
              0.6666666666666666,
              "#ed7953"
             ],
             [
              0.7777777777777778,
              "#fb9f3a"
             ],
             [
              0.8888888888888888,
              "#fdca26"
             ],
             [
              1,
              "#f0f921"
             ]
            ],
            "type": "contour"
           }
          ],
          "contourcarpet": [
           {
            "colorbar": {
             "outlinewidth": 0,
             "ticks": ""
            },
            "type": "contourcarpet"
           }
          ],
          "heatmap": [
           {
            "colorbar": {
             "outlinewidth": 0,
             "ticks": ""
            },
            "colorscale": [
             [
              0,
              "#0d0887"
             ],
             [
              0.1111111111111111,
              "#46039f"
             ],
             [
              0.2222222222222222,
              "#7201a8"
             ],
             [
              0.3333333333333333,
              "#9c179e"
             ],
             [
              0.4444444444444444,
              "#bd3786"
             ],
             [
              0.5555555555555556,
              "#d8576b"
             ],
             [
              0.6666666666666666,
              "#ed7953"
             ],
             [
              0.7777777777777778,
              "#fb9f3a"
             ],
             [
              0.8888888888888888,
              "#fdca26"
             ],
             [
              1,
              "#f0f921"
             ]
            ],
            "type": "heatmap"
           }
          ],
          "heatmapgl": [
           {
            "colorbar": {
             "outlinewidth": 0,
             "ticks": ""
            },
            "colorscale": [
             [
              0,
              "#0d0887"
             ],
             [
              0.1111111111111111,
              "#46039f"
             ],
             [
              0.2222222222222222,
              "#7201a8"
             ],
             [
              0.3333333333333333,
              "#9c179e"
             ],
             [
              0.4444444444444444,
              "#bd3786"
             ],
             [
              0.5555555555555556,
              "#d8576b"
             ],
             [
              0.6666666666666666,
              "#ed7953"
             ],
             [
              0.7777777777777778,
              "#fb9f3a"
             ],
             [
              0.8888888888888888,
              "#fdca26"
             ],
             [
              1,
              "#f0f921"
             ]
            ],
            "type": "heatmapgl"
           }
          ],
          "histogram": [
           {
            "marker": {
             "pattern": {
              "fillmode": "overlay",
              "size": 10,
              "solidity": 0.2
             }
            },
            "type": "histogram"
           }
          ],
          "histogram2d": [
           {
            "colorbar": {
             "outlinewidth": 0,
             "ticks": ""
            },
            "colorscale": [
             [
              0,
              "#0d0887"
             ],
             [
              0.1111111111111111,
              "#46039f"
             ],
             [
              0.2222222222222222,
              "#7201a8"
             ],
             [
              0.3333333333333333,
              "#9c179e"
             ],
             [
              0.4444444444444444,
              "#bd3786"
             ],
             [
              0.5555555555555556,
              "#d8576b"
             ],
             [
              0.6666666666666666,
              "#ed7953"
             ],
             [
              0.7777777777777778,
              "#fb9f3a"
             ],
             [
              0.8888888888888888,
              "#fdca26"
             ],
             [
              1,
              "#f0f921"
             ]
            ],
            "type": "histogram2d"
           }
          ],
          "histogram2dcontour": [
           {
            "colorbar": {
             "outlinewidth": 0,
             "ticks": ""
            },
            "colorscale": [
             [
              0,
              "#0d0887"
             ],
             [
              0.1111111111111111,
              "#46039f"
             ],
             [
              0.2222222222222222,
              "#7201a8"
             ],
             [
              0.3333333333333333,
              "#9c179e"
             ],
             [
              0.4444444444444444,
              "#bd3786"
             ],
             [
              0.5555555555555556,
              "#d8576b"
             ],
             [
              0.6666666666666666,
              "#ed7953"
             ],
             [
              0.7777777777777778,
              "#fb9f3a"
             ],
             [
              0.8888888888888888,
              "#fdca26"
             ],
             [
              1,
              "#f0f921"
             ]
            ],
            "type": "histogram2dcontour"
           }
          ],
          "mesh3d": [
           {
            "colorbar": {
             "outlinewidth": 0,
             "ticks": ""
            },
            "type": "mesh3d"
           }
          ],
          "parcoords": [
           {
            "line": {
             "colorbar": {
              "outlinewidth": 0,
              "ticks": ""
             }
            },
            "type": "parcoords"
           }
          ],
          "pie": [
           {
            "automargin": true,
            "type": "pie"
           }
          ],
          "scatter": [
           {
            "fillpattern": {
             "fillmode": "overlay",
             "size": 10,
             "solidity": 0.2
            },
            "type": "scatter"
           }
          ],
          "scatter3d": [
           {
            "line": {
             "colorbar": {
              "outlinewidth": 0,
              "ticks": ""
             }
            },
            "marker": {
             "colorbar": {
              "outlinewidth": 0,
              "ticks": ""
             }
            },
            "type": "scatter3d"
           }
          ],
          "scattercarpet": [
           {
            "marker": {
             "colorbar": {
              "outlinewidth": 0,
              "ticks": ""
             }
            },
            "type": "scattercarpet"
           }
          ],
          "scattergeo": [
           {
            "marker": {
             "colorbar": {
              "outlinewidth": 0,
              "ticks": ""
             }
            },
            "type": "scattergeo"
           }
          ],
          "scattergl": [
           {
            "marker": {
             "colorbar": {
              "outlinewidth": 0,
              "ticks": ""
             }
            },
            "type": "scattergl"
           }
          ],
          "scattermapbox": [
           {
            "marker": {
             "colorbar": {
              "outlinewidth": 0,
              "ticks": ""
             }
            },
            "type": "scattermapbox"
           }
          ],
          "scatterpolar": [
           {
            "marker": {
             "colorbar": {
              "outlinewidth": 0,
              "ticks": ""
             }
            },
            "type": "scatterpolar"
           }
          ],
          "scatterpolargl": [
           {
            "marker": {
             "colorbar": {
              "outlinewidth": 0,
              "ticks": ""
             }
            },
            "type": "scatterpolargl"
           }
          ],
          "scatterternary": [
           {
            "marker": {
             "colorbar": {
              "outlinewidth": 0,
              "ticks": ""
             }
            },
            "type": "scatterternary"
           }
          ],
          "surface": [
           {
            "colorbar": {
             "outlinewidth": 0,
             "ticks": ""
            },
            "colorscale": [
             [
              0,
              "#0d0887"
             ],
             [
              0.1111111111111111,
              "#46039f"
             ],
             [
              0.2222222222222222,
              "#7201a8"
             ],
             [
              0.3333333333333333,
              "#9c179e"
             ],
             [
              0.4444444444444444,
              "#bd3786"
             ],
             [
              0.5555555555555556,
              "#d8576b"
             ],
             [
              0.6666666666666666,
              "#ed7953"
             ],
             [
              0.7777777777777778,
              "#fb9f3a"
             ],
             [
              0.8888888888888888,
              "#fdca26"
             ],
             [
              1,
              "#f0f921"
             ]
            ],
            "type": "surface"
           }
          ],
          "table": [
           {
            "cells": {
             "fill": {
              "color": "#EBF0F8"
             },
             "line": {
              "color": "white"
             }
            },
            "header": {
             "fill": {
              "color": "#C8D4E3"
             },
             "line": {
              "color": "white"
             }
            },
            "type": "table"
           }
          ]
         },
         "layout": {
          "annotationdefaults": {
           "arrowcolor": "#2a3f5f",
           "arrowhead": 0,
           "arrowwidth": 1
          },
          "autotypenumbers": "strict",
          "coloraxis": {
           "colorbar": {
            "outlinewidth": 0,
            "ticks": ""
           }
          },
          "colorscale": {
           "diverging": [
            [
             0,
             "#8e0152"
            ],
            [
             0.1,
             "#c51b7d"
            ],
            [
             0.2,
             "#de77ae"
            ],
            [
             0.3,
             "#f1b6da"
            ],
            [
             0.4,
             "#fde0ef"
            ],
            [
             0.5,
             "#f7f7f7"
            ],
            [
             0.6,
             "#e6f5d0"
            ],
            [
             0.7,
             "#b8e186"
            ],
            [
             0.8,
             "#7fbc41"
            ],
            [
             0.9,
             "#4d9221"
            ],
            [
             1,
             "#276419"
            ]
           ],
           "sequential": [
            [
             0,
             "#0d0887"
            ],
            [
             0.1111111111111111,
             "#46039f"
            ],
            [
             0.2222222222222222,
             "#7201a8"
            ],
            [
             0.3333333333333333,
             "#9c179e"
            ],
            [
             0.4444444444444444,
             "#bd3786"
            ],
            [
             0.5555555555555556,
             "#d8576b"
            ],
            [
             0.6666666666666666,
             "#ed7953"
            ],
            [
             0.7777777777777778,
             "#fb9f3a"
            ],
            [
             0.8888888888888888,
             "#fdca26"
            ],
            [
             1,
             "#f0f921"
            ]
           ],
           "sequentialminus": [
            [
             0,
             "#0d0887"
            ],
            [
             0.1111111111111111,
             "#46039f"
            ],
            [
             0.2222222222222222,
             "#7201a8"
            ],
            [
             0.3333333333333333,
             "#9c179e"
            ],
            [
             0.4444444444444444,
             "#bd3786"
            ],
            [
             0.5555555555555556,
             "#d8576b"
            ],
            [
             0.6666666666666666,
             "#ed7953"
            ],
            [
             0.7777777777777778,
             "#fb9f3a"
            ],
            [
             0.8888888888888888,
             "#fdca26"
            ],
            [
             1,
             "#f0f921"
            ]
           ]
          },
          "colorway": [
           "#636efa",
           "#EF553B",
           "#00cc96",
           "#ab63fa",
           "#FFA15A",
           "#19d3f3",
           "#FF6692",
           "#B6E880",
           "#FF97FF",
           "#FECB52"
          ],
          "font": {
           "color": "#2a3f5f"
          },
          "geo": {
           "bgcolor": "white",
           "lakecolor": "white",
           "landcolor": "#E5ECF6",
           "showlakes": true,
           "showland": true,
           "subunitcolor": "white"
          },
          "hoverlabel": {
           "align": "left"
          },
          "hovermode": "closest",
          "mapbox": {
           "style": "light"
          },
          "paper_bgcolor": "white",
          "plot_bgcolor": "#E5ECF6",
          "polar": {
           "angularaxis": {
            "gridcolor": "white",
            "linecolor": "white",
            "ticks": ""
           },
           "bgcolor": "#E5ECF6",
           "radialaxis": {
            "gridcolor": "white",
            "linecolor": "white",
            "ticks": ""
           }
          },
          "scene": {
           "xaxis": {
            "backgroundcolor": "#E5ECF6",
            "gridcolor": "white",
            "gridwidth": 2,
            "linecolor": "white",
            "showbackground": true,
            "ticks": "",
            "zerolinecolor": "white"
           },
           "yaxis": {
            "backgroundcolor": "#E5ECF6",
            "gridcolor": "white",
            "gridwidth": 2,
            "linecolor": "white",
            "showbackground": true,
            "ticks": "",
            "zerolinecolor": "white"
           },
           "zaxis": {
            "backgroundcolor": "#E5ECF6",
            "gridcolor": "white",
            "gridwidth": 2,
            "linecolor": "white",
            "showbackground": true,
            "ticks": "",
            "zerolinecolor": "white"
           }
          },
          "shapedefaults": {
           "line": {
            "color": "#2a3f5f"
           }
          },
          "ternary": {
           "aaxis": {
            "gridcolor": "white",
            "linecolor": "white",
            "ticks": ""
           },
           "baxis": {
            "gridcolor": "white",
            "linecolor": "white",
            "ticks": ""
           },
           "bgcolor": "#E5ECF6",
           "caxis": {
            "gridcolor": "white",
            "linecolor": "white",
            "ticks": ""
           }
          },
          "title": {
           "x": 0.05
          },
          "xaxis": {
           "automargin": true,
           "gridcolor": "white",
           "linecolor": "white",
           "ticks": "",
           "title": {
            "standoff": 15
           },
           "zerolinecolor": "white",
           "zerolinewidth": 2
          },
          "yaxis": {
           "automargin": true,
           "gridcolor": "white",
           "linecolor": "white",
           "ticks": "",
           "title": {
            "standoff": 15
           },
           "zerolinecolor": "white",
           "zerolinewidth": 2
          }
         }
        },
        "title": {
         "text": "Topic visualization"
        },
        "xaxis": {
         "anchor": "y",
         "domain": [
          0,
          1
         ],
         "title": {
          "text": "x"
         }
        },
        "yaxis": {
         "anchor": "x",
         "domain": [
          0,
          1
         ],
         "title": {
          "text": "y"
         }
        }
       }
      }
     },
     "metadata": {},
     "output_type": "display_data"
    }
   ],
   "source": [
    "from umap import UMAP\n",
    "import pandas as pd\n",
    "import plotly.express as px\n",
    "\n",
    "# Get your topic-term embeddings\n",
    "embeddings = topic_model.c_tf_idf_.toarray()\n",
    "\n",
    "# 1) Build a UMAP reducer with random init\n",
    "umap_model = UMAP(\n",
    "    n_neighbors=15,\n",
    "    n_components=2,\n",
    "    metric=\"cosine\",\n",
    "    init=\"random\",\n",
    "    random_state=42\n",
    ")\n",
    "reduced_embeddings = umap_model.fit_transform(embeddings)\n",
    "\n",
    "# 2) Build a DataFrame and scatter\n",
    "df = pd.DataFrame(reduced_embeddings, columns=[\"x\", \"y\"])\n",
    "df[\"topic\"] = topic_model.get_topic_info()[\"Topic\"].values\n",
    "\n",
    "fig = px.scatter(\n",
    "    df,\n",
    "    x=\"x\",\n",
    "    y=\"y\",\n",
    "    text=\"topic\",\n",
    "    title=\"Topic visualization\"\n",
    ")\n",
    "fig.show()"
   ]
  },
  {
   "cell_type": "code",
   "execution_count": null,
   "id": "183b4627",
   "metadata": {},
   "outputs": [],
   "source": []
  }
 ],
 "metadata": {
  "kernelspec": {
   "display_name": "Python 3",
   "language": "python",
   "name": "python3"
  },
  "language_info": {
   "codemirror_mode": {
    "name": "ipython",
    "version": 3
   },
   "file_extension": ".py",
   "mimetype": "text/x-python",
   "name": "python",
   "nbconvert_exporter": "python",
   "pygments_lexer": "ipython3",
   "version": "3.12.5"
  }
 },
 "nbformat": 4,
 "nbformat_minor": 5
}
