{
  "cells": [
    {
      "cell_type": "markdown",
      "metadata": {},
      "source": [
        "# HIST 414 Notebook 1\n",
        "\n",
        "## THIS IS BASED ON COMET FOR NOW TO SEE THE RENDER\n",
        "\n",
        "*Python Version*\n",
        "\n",
        "<img src=\"media/word_embedding_cover_art.png\" width=\"1000\"/>\n",
        "\n",
        "*This notebook was prepared by Laura Nelson in collaboration with [UBC\n",
        "COMET](https://comet.arts.ubc.ca/) team members: Jonathan Graves, Angela\n",
        "Chen and Anneke Dresselhuis*\n",
        "\n",
        "## Prerequisites\n",
        "\n",
        "1.  Some familiarity programming in R\n",
        "2.  Some familarity with natural language processing\n",
        "3.  No computational text experience necessary!\n",
        "\n",
        "## Learning outcomes\n",
        "\n",
        "In the notebook you will\n",
        "\n",
        "1.  Familiarize yourself with concepts such as word embeddings (WE)\n",
        "    vector-space model of language, natural language processing (NLP)\n",
        "    and how they relate to small and large language models (LMs)\n",
        "2.  Import and pre-process a textual dataset for use in word embedding\n",
        "3.  Use word2vec to build a simple language model for examining patterns\n",
        "    and biases textual datasets\n",
        "4.  Identify and select methods for saving and loading models\n",
        "5.  Use critical and reflexive thinking to gain a deeper understanding\n",
        "    of how the inherent social and cultural biases of language are\n",
        "    reproduced and mapped into language computation models\n",
        "\n",
        "## Outline\n",
        "\n",
        "The goal of this notebook is to demystify some of the technical aspects\n",
        "of language models and to invite learners to start thinking about how\n",
        "these important tools function in society.\n",
        "\n",
        "In particular, this lesson is designed to explore features of word\n",
        "embeddings produced through the word2vec model. The questions we ask in\n",
        "this lesson are guided by Ben Schmidt’s blog post, [Rejecting the Gender\n",
        "Binary](%22http://bookworm.benschmidt.org/posts/2015-10-30-rejecting-the-gender-binary.html).\n",
        "\n",
        "The primary corpus we will use consists of the\n",
        "<a href=\"http://txtlab.org/?p=601\">150 English-language novels</a> made\n",
        "available by the <em>.txtLab</em> at McGill University. We also look at\n",
        "a <a href=\"http://ryanheuser.org/word-vectors-1/\">word2Vec model trained\n",
        "on the ECCO-TCP corpus</a> of 2,350 eighteenth-century literary texts\n",
        "made available by Ryan Heuser. (Note that the number of terms in the\n",
        "model has been shortened by half in order to conserve memory.)\n",
        "\n",
        "## Key Terms\n",
        "\n",
        "Before we dive in, feel free to familiarize yourself with the following\n",
        "key terms and how they relate to each other."
      ],
      "id": "b2b957d4-7296-451e-b8fd-5e2021fec871"
    },
    {
      "cell_type": "raw",
      "metadata": {
        "raw_mimetype": "text/html"
      },
      "source": [
        "<table>"
      ],
      "id": "7dcda1f2-7498-437d-a828-455695fa657b"
    },
    {
      "cell_type": "raw",
      "metadata": {
        "raw_mimetype": "text/html"
      },
      "source": [
        "<tr>"
      ],
      "id": "b79f7d0b-030d-442f-ac33-55764e233fde"
    },
    {
      "cell_type": "raw",
      "metadata": {
        "raw_mimetype": "text/html"
      },
      "source": [
        "<td>"
      ],
      "id": "5835fc2d-1c85-47b3-a2dc-4c4f3a2b0f08"
    },
    {
      "cell_type": "markdown",
      "metadata": {},
      "source": [
        "<img src=\"media/ai_key_terms.png\" width=\"500\" style=\"max-width: 950px;\">"
      ],
      "id": "ccce2b6c-3674-47e3-933c-a62bc2a70e23"
    },
    {
      "cell_type": "raw",
      "metadata": {
        "raw_mimetype": "text/html"
      },
      "source": [
        "</td>"
      ],
      "id": "51d3dd75-a883-4d96-b7cf-c3bcafc616f7"
    },
    {
      "cell_type": "raw",
      "metadata": {
        "raw_mimetype": "text/html"
      },
      "source": [
        "<td style=\"padding-left: 20px; vertical-align: top;\">"
      ],
      "id": "075bdc74-fe36-4f20-9ba5-8eba6ce04343"
    },
    {
      "cell_type": "raw",
      "metadata": {
        "raw_mimetype": "text/html"
      },
      "source": [
        "<p>"
      ],
      "id": "7763f97b-11ed-49b0-8fdf-2abfed24e1cd"
    },
    {
      "cell_type": "markdown",
      "metadata": {},
      "source": [
        "<b>Artificial Intelligence (AI):</b> This term is a broad category that\n",
        "includes the study and development of computer systems that can mimic\n",
        "intelligent human behavior (adapted from\n",
        "<a href=\"https://www.oxfordlearnersdictionaries.com/definition/english/ai#:~:text=%2F%CB%8Ce%C9%AA%20%CB%88a%C9%AA%2F-,%2F%CB%8Ce%C9%AA%20%CB%88a%C9%AA%2F,way%20a%20human%20brain%20does\" target=\"_blank\"><i>Oxford\n",
        "Learners Dictionary</i></a>)."
      ],
      "id": "928db6ee-0520-4a42-aa1f-54c430ef78bb"
    },
    {
      "cell_type": "raw",
      "metadata": {
        "raw_mimetype": "text/html"
      },
      "source": [
        "</p>"
      ],
      "id": "090b7991-50f8-437d-82c6-098b43aaac46"
    },
    {
      "cell_type": "raw",
      "metadata": {
        "raw_mimetype": "text/html"
      },
      "source": [
        "<p>"
      ],
      "id": "5d94595b-9fbb-4ed1-a5ec-af03a7feebb8"
    },
    {
      "cell_type": "markdown",
      "metadata": {},
      "source": [
        "<b>Machine Learning (ML):</b> This is a branch of AI that uses\n",
        "statistical methods to imitate the way that humans learn (adapted from\n",
        "<a href=\"https://www.ibm.com/topics/machine-learning\" target=\"_blank\"><i>IBM</i></a>)."
      ],
      "id": "6f2f8097-0eac-48bf-8d93-7d8444939487"
    },
    {
      "cell_type": "raw",
      "metadata": {
        "raw_mimetype": "text/html"
      },
      "source": [
        "</p>"
      ],
      "id": "c0c7786c-ecc3-4582-8741-0ed981ab4aa6"
    },
    {
      "cell_type": "raw",
      "metadata": {
        "raw_mimetype": "text/html"
      },
      "source": [
        "<p>"
      ],
      "id": "04baa333-2013-4e18-97db-4cb53e30dba5"
    },
    {
      "cell_type": "markdown",
      "metadata": {},
      "source": [
        "<b>Natural Language Processing (NLP):</b> This is a branch of AI that\n",
        "focuses on training computers to interpret human text and spoken words\n",
        "(adapted from\n",
        "<a href=\"https://www.ibm.com/topics/natural-language-processing#:~:text=the%20next%20step-,What%20is%20natural%20language%20processing%3F,same%20way%20human%20beings%20can\" target=\"_blank\"><i>IBM</i></a>)."
      ],
      "id": "5a766e02-fc75-412f-ae94-1a4313d2aba5"
    },
    {
      "cell_type": "raw",
      "metadata": {
        "raw_mimetype": "text/html"
      },
      "source": [
        "</p>"
      ],
      "id": "ac3ac009-70da-4a3e-aa79-034ec1a338a0"
    },
    {
      "cell_type": "raw",
      "metadata": {
        "raw_mimetype": "text/html"
      },
      "source": [
        "</td>"
      ],
      "id": "55d3a292-78b5-4dbc-ba48-4d0771f4c8ed"
    },
    {
      "cell_type": "raw",
      "metadata": {
        "raw_mimetype": "text/html"
      },
      "source": [
        "</tr>"
      ],
      "id": "40bf1352-1f88-4c6f-8828-0d80d0358959"
    },
    {
      "cell_type": "raw",
      "metadata": {
        "raw_mimetype": "text/html"
      },
      "source": [
        "</table>"
      ],
      "id": "c8b02108-bdd6-47a2-be04-935c6a2414a4"
    },
    {
      "cell_type": "markdown",
      "metadata": {},
      "source": [
        "We note that NLP is a subset of ML in general: Machine Learning is a\n",
        "broader field focused on developing algorithms that allow computers to\n",
        "learn from data and make decisions or predictions without being\n",
        "explicitly programmed for each specific task. Natural Language\n",
        "Processing is a subfield of ML that specifically deals with enabling\n",
        "computers to understand, interpret, and generate human language.\n",
        "\n",
        "**Word Embeddings (WE):** this is an NLP process through which human\n",
        "words are converted into numerical representations (usually **vectors**)\n",
        "in order for computers to be able to understand them (adapted from\n",
        "[*Turing*](https://www.turing.com/kb/guide-on-word-embeddings-in-nlp))\n",
        "This topic is the focus of this notebook.\n",
        "\n",
        "**word2vec:** this is an NLP technique that is commonly used to generate\n",
        "word embeddings. It learns vector representations of words by training\n",
        "on various texts, mapping words with similar contexts to similar vectors\n",
        "in a high-dimensional vector space. It uses either the **Continuous Bag\n",
        "of Words** (CBOW) or **Skip-gram**\n",
        "[architecture](https://towardsdatascience.com/nlp-101-word2vec-skip-gram-and-cbow-93512ee24314)\n",
        "to predict words based on their neighbors capturing semantic\n",
        "relationships between words (don’t worry about these words yet, we will\n",
        "learn them later!).\n",
        "\n",
        "## What are Word Embeddings?\n",
        "\n",
        "Building off of the definition above, word embeddings are one way that\n",
        "humans can represent language in a way that is legible to a machine.\n",
        "More specifically, they are an NLP approach that use vectors to store\n",
        "textual data in multiple dimensions; by existing in the\n",
        "multi-dimensional space of vectors, word embeddings are able to include\n",
        "important semantic information within a given numeric representation.\n",
        "\n",
        "For example, if we are trying to answer a research question about how\n",
        "popular a term is on the web at a given time, we might use a simple word\n",
        "frequency analysis to count how many times the word “candidate” shows up\n",
        "in tweets during a defined electoral period. However, if we wanted to\n",
        "gain a more nuanced understanding of what kind of language, biases or\n",
        "attitudes contextualize the term, “candidate” in discourse, we would\n",
        "need to use a method like word embedding to encode meaning into our\n",
        "understanding of how people have talked about candidates over time.\n",
        "Instead of describing our text as a series of word counts, we would\n",
        "treat our text like coordinates in space, where similar words and\n",
        "concepts are closer to each other, and words that are different from\n",
        "each other are further away."
      ],
      "id": "d5dfecc2-1b66-4084-ae6c-d3750aeda8f5"
    },
    {
      "cell_type": "raw",
      "metadata": {
        "raw_mimetype": "text/html"
      },
      "source": [
        "<p align=\"center\">"
      ],
      "id": "dcd38b38-9a0d-45c0-9b7b-be397f5a8c94"
    },
    {
      "cell_type": "markdown",
      "metadata": {},
      "source": [
        "<img src=\"media/word_frequency_vs_word_embeddings.png\" alt=\"Comparing word frequency count and word embedding methods\" style=\"max-width: 950px;\">"
      ],
      "id": "cb383be7-cc34-4ea3-b779-2e6e78c7bf15"
    },
    {
      "cell_type": "raw",
      "metadata": {
        "raw_mimetype": "text/html"
      },
      "source": [
        "</p>"
      ],
      "id": "a88bc3b9-bbc4-49fb-8346-8286079469cd"
    },
    {
      "cell_type": "markdown",
      "metadata": {},
      "source": [
        "For example, in the visualization above, a word frequency count returns\n",
        "the number of times the word “candidate” or “candidates” is used in a\n",
        "sample text corpus. When a word embedding is made from the same text\n",
        "corpus, we are able to map related concepts and phrases that are closely\n",
        "related to “candidate” as neighbours, while other words and phrases such\n",
        "as “experimental study” (which refers to the research paper in question,\n",
        "and not to candidates specifically) are further away.\n",
        "\n",
        "Here is another example of how different, but related words might be\n",
        "represented in a word embedding:"
      ],
      "id": "4fed9cf6-0034-4ee0-b07e-29f78ddff9d1"
    },
    {
      "cell_type": "raw",
      "metadata": {
        "raw_mimetype": "text/html"
      },
      "source": [
        "<p align=\"center\">"
      ],
      "id": "9c0c1f49-33bf-4dc5-ae07-3a5f1fc2b684"
    },
    {
      "cell_type": "markdown",
      "metadata": {},
      "source": [
        "<img src=\"media/w2v-Analogies.png\"  style=\"max-width: 60%;\"/>"
      ],
      "id": "9f70e9d5-440f-4a12-963b-972ce33fb5ef"
    },
    {
      "cell_type": "raw",
      "metadata": {
        "raw_mimetype": "text/html"
      },
      "source": [
        "</p>"
      ],
      "id": "49868b4c-8801-4b3c-848d-cc6d52026c70"
    },
    {
      "cell_type": "markdown",
      "metadata": {},
      "source": [
        "> **Word embeddings in action: Kaveh-Yazdy & Zarifzadeh (2021)**\n",
        ">\n",
        "> In their 2021 paper “Measuring Economic Policy Uncertainty Using an\n",
        "> Unsupervised Word Embedding-based Method”, Fatemeh Kaveh-Yazdy and\n",
        "> Sajjad Zarifzadeh introduce a novel approach to measure Economic\n",
        "> Policy Uncertainty (EPU), a measure of the level of economic\n",
        "> uncertainty caused by new economic policies made by governments. By\n",
        "> analyzing news data with a word embedding-based method and a dataset\n",
        "> of 10 million Persian news articles, the authors constructed a Persian\n",
        "> EPU index. The authors found a significant alignment between this EPU\n",
        "> index and significant economic and political events in Iran at the\n",
        "> time, matching trends in the global World Uncertainty Index (WUI).\n",
        "> Additionally, the proposed method showed a strong correlation between\n",
        "> suicide rates and EPU, particulary noting a higher correlation\n",
        "> relative to other traditional EPU indices, supporting its reliability\n",
        "> in reflecting societal impacts of economic uncertainty (Kaveh-Yazdy &\n",
        "> Zarifzadeh, 2021).\n",
        ">\n",
        "> <p align=\"center\">\n",
        ">\n",
        "> <img src=\"media/research_paper_graph.png\" alt=\"Kaveh-Yazdy &amp; Zarifzadeh's results showing a strong overlap between word-embedding EPU and traditional EPU\" style=\"max-width: 60%;\">\n",
        "> <br> <span style=\"font-style: italic; font-size: 0.9em;\">A graph from\n",
        "> Kaveh-Yazdy & Zarifzadeh (2021) showcasing their word embedding-based\n",
        "> EPU calculation compared to traditional EPU</span>\n",
        ">\n",
        "> </p>\n",
        "\n",
        "## A Brief Review of Vectors"
      ],
      "id": "35ff6a1a-94c9-40c0-a263-f4d6a18c3fc9"
    },
    {
      "cell_type": "raw",
      "metadata": {
        "raw_mimetype": "text/html"
      },
      "source": [
        "<p align=\"center\">"
      ],
      "id": "f439bb42-5a55-485b-b5fc-2a908a4b9996"
    },
    {
      "cell_type": "markdown",
      "metadata": {},
      "source": [
        "<img src=\"media/clp3_vectors.png\" alt=\"Vectors in 2d and 3d\" style=\"max-width: 60%;\">\n",
        "<br> <span style=\"font-style: italic; font-size: 0.9em;\">Vectors in\n",
        "$\\mathbb{R}^2$ and $\\mathbb{R}^3$, courtesy of\n",
        "<a href=\"https://personal.math.ubc.ca/~CLP/CLP3/clp_3_mc_text.pdf\">CLP3</a></em></span>"
      ],
      "id": "30b4aeeb-d905-4c86-b0e4-a62a9e4f04a0"
    },
    {
      "cell_type": "raw",
      "metadata": {
        "raw_mimetype": "text/html"
      },
      "source": [
        "</p>"
      ],
      "id": "8040a6cd-7728-4f0f-bf47-713657511b1c"
    },
    {
      "cell_type": "markdown",
      "metadata": {},
      "source": [
        "A **vector** is a mathematical object that has both a magnitude and a\n",
        "direction. You can think of it as an arrow pointing from one location to\n",
        "another in space. This arrow represents both a size (how long it is) and\n",
        "a direction (the way it’s pointing).\n",
        "\n",
        "The vectors used in this notebook, for the purposes of learning, are two\n",
        "dimensional: they exist in \\$ ^2\\$. However, real embeddings are always\n",
        "multidimensional (we will get back to why this is the case later): they\n",
        "exist in $\\mathbb{R}^n$, where $n$ is some verly large number.\n",
        "\n",
        "## Making a Word Embedding\n",
        "\n",
        "So, how do word embeddings work? To make a word embedding, an input word\n",
        "gets compressed into a dense vector."
      ],
      "id": "f91fb737-2c18-4119-ae15-5575db7cb9a6"
    },
    {
      "cell_type": "raw",
      "metadata": {
        "raw_mimetype": "text/html"
      },
      "source": [
        "<p align=\"center\">"
      ],
      "id": "79acafbf-54f8-4acc-8596-81be77f4b387"
    },
    {
      "cell_type": "markdown",
      "metadata": {},
      "source": [
        "<img src=\"media/creating_a_word_embedding.png\" alt=\"Creating a word embedding vector\" style=\"max-width: 60%;\">\n",
        "<br>"
      ],
      "id": "68c74430-c844-4deb-a50b-41b9631c2c8f"
    },
    {
      "cell_type": "raw",
      "metadata": {
        "raw_mimetype": "text/html"
      },
      "source": [
        "</p>"
      ],
      "id": "a9bc50fa-10f3-4e7e-95cd-e731d7d203b9"
    },
    {
      "cell_type": "markdown",
      "metadata": {},
      "source": [
        "The magic and mystery of the word embedding process is that often the\n",
        "vectors produced during the model embed qualities of a word or phrase\n",
        "that are not interpretable by humans. However, for our purposes, having\n",
        "the text in vector format is all we need. With this format, we can\n",
        "perform tests like **cosine similarity** (which we will discuss later)\n",
        "and other kinds of operations. Such operations can reveal many different\n",
        "kinds of relationships between words, as we’ll examine a bit later.\n",
        "\n",
        "## Word2vec and vector encoding\n",
        "\n",
        "The simplest form of vector-word encoding is called **one-hot\n",
        "encoding**. One-hot encoding is very similar to the creation of dummy\n",
        "varibles for categorical data in linear regressions: each word in the\n",
        "english language is assigned a binary value in a vector in\n",
        "$\\mathbb{R}^k$, where $k$ is the number of words in the english\n",
        "language. For example, consider a language with only three words in it:\n",
        "*“cat”, “dog”*, and *horse*. Hence, our vector encodings are:\n",
        "\n",
        "$$\\text{Cat} \\to <1,0,0>$$ $$\\text{Dog} \\to <0,1,0>$$\n",
        "$$\\text{Horse} \\to <0,0,1>$$\n",
        "\n",
        "Naturally, this becomes unfeasable with real languages: The english\n",
        "language contains roughly 1 million words, meaning each vector would be\n",
        "1-million-dimensional, and each vector would require 4MB of storage on\n",
        "your computer. Good luck working with that!\n",
        "\n",
        "This is where Word2Vec comes in: Word2Vec is a ML model designed to\n",
        "represent words as vectors that capture semantic relationships. It\n",
        "generates **low-dimensional word embeddings** by learning from word\n",
        "contexts in a large corpus, allowing words with similar meanings to have\n",
        "vectors close together. More precisely, word2vec is an algorithmic\n",
        "learning tool rather than a specific neural net that is already trained.\n",
        "The example we will be working through today has been made using this\n",
        "tool. - Unlike one-hot encodings, where words are represented in a\n",
        "high-dimensional space equal to the size of the vocabulary (potentially\n",
        "tens of thousands of dimensions) embeddings have values in every\n",
        "dimension, allowing them to be compact and memory-efficient, meaning\n",
        "that word embeddings usually have only 100-300 dimensions. This\n",
        "reduction captures essential semantic information without excessive\n",
        "dimensionality.\n",
        "\n",
        "The series of algorithms inside of the word2vec model try to describe\n",
        "and acquire parameters for a given word in terms of the text that appear\n",
        "immediately to the right and left in actual sentences. Essentially, it\n",
        "learns how to predict text.\n",
        "\n",
        "Without going too deep into the algorithm, suffice it to say that it\n",
        "involves a two-step process:\n",
        "\n",
        "1.  First, the input word gets compressed into a dense vector, as seen\n",
        "    in the simplified diagram, “Creating a Word Embedding,” above.\n",
        "2.  Second, the vector gets decoded into the set of context words.\n",
        "    Keywords that appear within similar contexts will have similar\n",
        "    vector representations in between steps.\n",
        "\n",
        "Imagine that each word in a novel has its meaning determined by the ones\n",
        "that surround it in a limited window. For example, in Moby Dick’s first\n",
        "sentence, “me” is paired on either side by “Call” and “Ishmael.” After\n",
        "observing the windows around every word in the novel (or many novels),\n",
        "the computer will notice a pattern in which “me” falls between similar\n",
        "pairs of words to “her,” “him,” or “them.” Of course, the computer had\n",
        "gone through a similar process over the words “Call” and “Ishmael,” for\n",
        "which “me” is reciprocally part of their contexts. This chaining of\n",
        "signifiers to one another mirrors some of humanists’ most sophisticated\n",
        "interpretative frameworks of language.\n",
        "\n",
        "The two main model architectures of word2vec are **Continuous Bag of\n",
        "Words (CBOW)** and **Skip-Gram**, which can be distinguished partly by\n",
        "their input and output during training.\n",
        "\n",
        "**CBOW** takes the context words (for example, “Call”,“Ishmael”) as a\n",
        "single input and tries to predict the word of interest (“me”).\n",
        "\n",
        "<img src=\"media/CBOW.gif\" width=\"500\"/>\n",
        "\n",
        "**Skip-Gram** does the opposite, taking a word of interest as its input\n",
        "(for example, “me”) and tries to learn how to predict its context words\n",
        "(“Call”,“Ishmael”).\n",
        "\n",
        "<img src=\"media/SG.gif\" width=\"500\"/>\n",
        "\n",
        "In general, CBOW is is faster and does well with frequent words, while\n",
        "Skip-Gram potentially represents rare words better.\n",
        "\n",
        "Since the word embedding is a vector, we are able perform tests like\n",
        "cosine similarity (which we’ll learn more about in a bit!) and other\n",
        "kinds of operations. Those operations can reveal many different kinds of\n",
        "relationships between words, as we shall see.\n",
        "\n",
        "## Bias and Language Models\n",
        "\n",
        "You might already be piecing together that the encoding of meaning in\n",
        "word embeddings is entirely shaped by the patterns of language use\n",
        "captured in the training data. That is, what is included in a word\n",
        "embedding directly reflects the complex social and cultural biases of\n",
        "everyday human language - in fact, exploring how these biases function\n",
        "and change over time (as we will do later) is one of the most\n",
        "interesting ways to use word embeddings in social research.\n",
        "\n",
        "#### It is simply impossible to have a bias-free language model (LM).\n",
        "\n",
        "In LMs, bias is not a bug or a glitch, rather, it is an essential\n",
        "feature that is baked into the fundamental structure. For example, LMs\n",
        "are not outside of learning and absorbing the pejorative dimensions of\n",
        "language which in turn, can result in reproducing harmful correlations\n",
        "of meaning for words about race, class or gender (among others). When\n",
        "unchecked, these harms can be “amplified in downstream applications of\n",
        "word embeddings” ([Arseniev-Koehler & Foster, 2020,\n",
        "p. 1](https://osf.io/preprints/socarxiv/b8kud/)).\n",
        "\n",
        "Just like any other computational model, it is important to critically\n",
        "engage with the source and context of the training data. One way that\n",
        "[Schiffers, Kern and Hienert](https://arxiv.org/abs/2302.06174v1)\n",
        "suggest doing this is by using domain specific models (2023). Working\n",
        "with models that understand the nuances of your particular topic or\n",
        "field can better account for “specialized vocabulary and semantic\n",
        "relationships” that can help make applications of WE more effective.\n",
        "\n",
        "## Preparing for our Analysis\n",
        "\n",
        "#### Word2vec Features\n",
        "\n",
        "**Here are a few features of the word2vec tool that we can use to\n",
        "customize our analysis:**\n",
        "\n",
        "-   `size`: Number of dimensions for word embedding model\n",
        "    </li>\n",
        "-   `window`: Number of context words to observe in each direction\n",
        "    </li>\n",
        "-   `min_count`: Minimum frequency for words included in model\n",
        "    </li>\n",
        "-   `sg` (Skip-Gram): ‘0’ indicates CBOW model; ‘1’ indicates Skip-Gram\n",
        "    </li>\n",
        "-   `alpha`: Learning rate (initial); prevents model from\n",
        "    over-correcting, enables finer tuning\n",
        "    </li>\n",
        "-   `iterations`: Number of passes through dataset\n",
        "    </li>\n",
        "-   `batch size`: Number of words to sample from data during each pass\n",
        "    </li>\n",
        "\n",
        "Note: the script uses default value for each argument.\n",
        "\n",
        "**Some limitations of the word2vec Model**\n",
        "\n",
        "-   Within word2vec, common articles or conjunctions, called **stop\n",
        "    words** such as “the” and “and,” may not provide very rich\n",
        "    contextual information for a given word, and may need additional\n",
        "    subsampling or to be combined into a word phrase (Anwla, 2019).\n",
        "-   word2vec isn’t always the best at handling out-of-vocabulary words\n",
        "    well (Chandran, 2021).\n",
        "\n",
        "Let’s begin our analysis!\n",
        "\n",
        "## Excercise #1: Eggs, Sausages and Bacon"
      ],
      "id": "460b8c6d-7d88-449b-b50b-c4b39502058e"
    },
    {
      "cell_type": "raw",
      "metadata": {
        "raw_mimetype": "text/html"
      },
      "source": [
        "<div>"
      ],
      "id": "b45261ee-ee2c-4525-8445-2b72a50b2fc2"
    },
    {
      "cell_type": "markdown",
      "metadata": {},
      "source": [
        "<img src=\"media/eggs_bacon_sausages.png\" width=\"750\"/>"
      ],
      "id": "d9192e63-8c9c-4e99-8f49-7d373c0cfc64"
    },
    {
      "cell_type": "raw",
      "metadata": {
        "raw_mimetype": "text/html"
      },
      "source": [
        "<div>\n"
      ],
      "id": "8f383886-c743-4e90-8ed4-e93461529e2c"
    },
    {
      "cell_type": "markdown",
      "metadata": {},
      "source": [
        "To begin, we are going to load a few packages that are necessary for our\n",
        "analysis. Please run the code cells below."
      ],
      "id": "b423cd73-1693-4dca-9773-f8743db1acec"
    },
    {
      "cell_type": "code",
      "execution_count": 1,
      "metadata": {
        "tags": []
      },
      "outputs": [],
      "source": [
        "# !pip install matplotlib\n",
        "# !pip install pandas\n",
        "\n",
        "%pylab inline\n",
        "matplotlib.style.use('ggplot')"
      ],
      "id": "03ad0126"
    },
    {
      "cell_type": "markdown",
      "metadata": {},
      "source": [
        "#### Create a Document-Term Matrix (DTM) with a Few Pseudo-Texts\n",
        "\n",
        "To start off, we’re going to create a mini dataframe called a\n",
        "**Document-Term Matrix (DTM)**. A DTM is a matrix (or in our case, a\n",
        "tidyverse dataframe) that represents the frequency of terms (words)\n",
        "appearing in a collection of documents. Our DTM is based on the use of\n",
        "the words “eggs,” “sausages” and “bacon” found in three different\n",
        "novels: A, B and C."
      ],
      "id": "fc35c050-39dd-48d6-b492-62a9c29f6eee"
    },
    {
      "cell_type": "code",
      "execution_count": 2,
      "metadata": {
        "tags": []
      },
      "outputs": [],
      "source": [
        "# dataframes!\n",
        "import pandas\n",
        "\n",
        "# Construct dataframe with three novels each containing three words\n",
        "columns = ['eggs','sausage','bacon']\n",
        "indices = ['Novel A', 'Novel B', 'Novel C']\n",
        "dtm = [[50,60,60],[90,10,10], [20,70,70]]\n",
        "dtm_df = pandas.DataFrame(dtm, columns = columns, index = indices)\n",
        "\n",
        "# Show dataframe\n",
        "dtm_df"
      ],
      "id": "6f1f303f"
    },
    {
      "cell_type": "markdown",
      "metadata": {},
      "source": [
        "### Visualize\n",
        "\n",
        "We’ll start by graphing all three axes using the plotly library:"
      ],
      "id": "e9b593c9-3ec5-4d4b-a1a7-540b1300619d"
    },
    {
      "cell_type": "code",
      "execution_count": 3,
      "metadata": {},
      "outputs": [],
      "source": [
        "import matplotlib.pyplot as plt\n",
        "from mpl_toolkits.mplot3d import Axes3D\n",
        "\n",
        "fig = plt.figure()\n",
        "ax = fig.add_subplot(111, projection='3d')\n",
        "ax.scatter(dtm_df['sausage'], dtm_df['bacon'], dtm_df['eggs'], color='blue', s=50)\n",
        "\n",
        "ax.set_xlabel('Sausage')\n",
        "ax.set_ylabel('Bacon')\n",
        "ax.set_zlabel('Eggs')\n",
        "\n",
        "for novel, row in dtm_df.iterrows():\n",
        "    ax.text(row['sausage'], row['bacon'], row['eggs'], novel, fontsize=9, ha='right')\n",
        "\n",
        "plt.show()"
      ],
      "id": "88158a5c"
    },
    {
      "cell_type": "markdown",
      "metadata": {},
      "source": [
        "Now, let’s take a look at just two axes, `eggs` and `sausage`."
      ],
      "id": "12d286be-d9e1-416d-a7b7-f9d5ab52906a"
    },
    {
      "cell_type": "code",
      "execution_count": 4,
      "metadata": {
        "tags": []
      },
      "outputs": [],
      "source": [
        "# Plot our points\n",
        "scatter(dtm_df['eggs'], dtm_df['sausage'])\n",
        "\n",
        "# Make the graph look good\n",
        "xlim([0,100]), ylim([0,100])\n",
        "xlabel('eggs'), ylabel('sausage')"
      ],
      "id": "12d03e3e"
    },
    {
      "cell_type": "markdown",
      "metadata": {},
      "source": [
        "### Vectors\n",
        "\n",
        "At a glance, a couple of points are lying closer to one another. We used\n",
        "the word frequencies of just two of the three words (eggs and sausages)\n",
        "in order to plot our texts in a two-dimensional plane. The term\n",
        "frequency “summaries” of <i>Novel A</i> & <i>Novel C</i> are pretty\n",
        "similar to one another: they both share a major concern with “sausage”,\n",
        "whereas <i>Novel B</i> seems to focus primarily on “eggs.”\n",
        "\n",
        "This raises a question: how can we operationalize our intuition that the\n",
        "spatial distance presented here expresses topical similarity?\n",
        "\n",
        "## Cosine Similarity\n",
        "\n",
        "The most common measurement of distance between points is their [Cosine\n",
        "Similarity](https://en.wikipedia.org/wiki/Cosine_similarity). Cosine\n",
        "similarity can operate on textual data that contain word vectors and\n",
        "allows us to identify how similar documents are to each other, for\n",
        "example. Cosine Similarity thus helps us understand how much content\n",
        "overlap a set of documents have with one another. For example, imagine\n",
        "that we were to draw an arrow from the origin of the graph - point\n",
        "(0,0) - to the dot representing each text. This arrow is called a\n",
        "*vector*.\n",
        "\n",
        "Mathematically, this can be represented as:"
      ],
      "id": "4fe293f2-a100-422b-8f9f-48af59ff360b"
    },
    {
      "cell_type": "raw",
      "metadata": {
        "raw_mimetype": "text/html"
      },
      "source": [
        "<div>"
      ],
      "id": "2f1e0130-fb00-4e93-8953-c03543f77c57"
    },
    {
      "cell_type": "markdown",
      "metadata": {},
      "source": [
        "<img src='media/Dot-Product.png' >\n",
        "\n",
        "Using our example above, we can see that the angle from (0,0) between\n",
        "Novel C and Novel A (orange triangle) is smaller than between Novel A\n",
        "and Novel B (navy triangle) or between Novel C and Novel B (both\n",
        "triangles together)."
      ],
      "id": "5c4b3377-1f03-4d2c-9b1b-048ad655e521"
    },
    {
      "cell_type": "raw",
      "metadata": {
        "raw_mimetype": "text/html"
      },
      "source": [
        "<div>"
      ],
      "id": "b5e02009-b7c9-4e39-8c88-212641fb2e16"
    },
    {
      "cell_type": "markdown",
      "metadata": {},
      "source": [
        "<img src=\"media/annotated_scatterplot.png\" width=\"400\"/>"
      ],
      "id": "328951c8-0619-42b7-b491-0f145a290507"
    },
    {
      "cell_type": "raw",
      "metadata": {
        "raw_mimetype": "text/html"
      },
      "source": [
        "<div>\n"
      ],
      "id": "ae6358af-abbb-4513-8bd1-1780f46439b8"
    },
    {
      "cell_type": "markdown",
      "metadata": {},
      "source": [
        "Because this similarity measurement uses the cosine of the angle between\n",
        "vectors, the magnitude is not a matter of concern (this feature is\n",
        "really helpful for text vectors that can often be really long!).\n",
        "Instead, the output of cosine similarity yields a value between 0 and 1\n",
        "(we don’t have to work with something confusing like 18º!) that can be\n",
        "easily interpreted and compared - and thus we can also avoid the\n",
        "troubles associated with other dimensional distance measures such as\n",
        "[Euclidean Distance](https://en.wikipedia.org/wiki/Euclidean_distance).\n",
        "\n",
        "> **Kaveh-Yazdy & Zarifzadeh (2021)**\n",
        ">\n",
        "> In their paper, Kaveh-Yazdy & Zarifzadeh measure EPU by embedding\n",
        "> various persian news articles into a tri-axis, two dimensional\n",
        "> representation system:\n",
        ">\n",
        "> <img src=\"media/research_paper_system.png\" width=\"400\"/>\n",
        ">\n",
        "> This Tri-axial Representation System is a non-standard coordinate\n",
        "> system used to map the similarity values of news articles with respect\n",
        "> two three categories: Economy, Policy, and Uncertainty- within a 2D\n",
        "> plane. Introducing a tri-asix system in 2d space instead of a\n",
        "> cartesian system in 3d space allows the authors to focus in documents\n",
        "> that cover all three categories of EPU at a general level instead of\n",
        "> narrowing in on documents that focused on one facet of EPU at a\n",
        "> maximal level.\n",
        ">\n",
        "> The authors assign weights to each document using cosine similarity,\n",
        "> measuring the cosing similairy of the words in each document and the\n",
        "> three seed words (Economy, Policy, and Uncertainty). However, to avoid\n",
        "> overclouding the data with words that don’t matter much, the authors\n",
        "> introduce an additional *similarity theshold*, where words under said\n",
        "> similarity threshold are assigned a similarity value of 0 (Kaveh-Yazdy\n",
        "> & Zarifzadeh, 2021).\n",
        "\n",
        "### Calculating Cosine Distance"
      ],
      "id": "cea4e5eb-4a2d-4841-a1b4-0ced020c0bc9"
    },
    {
      "cell_type": "code",
      "execution_count": 5,
      "metadata": {
        "tags": []
      },
      "outputs": [],
      "source": [
        "# Although we want the Cosine Distance, it is mathematically simpler to calculate its opposite: Cosine Similarity\n",
        "\n",
        "from sklearn.metrics.pairwise import cosine_similarity"
      ],
      "id": "b8b00754"
    },
    {
      "cell_type": "code",
      "execution_count": 6,
      "metadata": {
        "tags": []
      },
      "outputs": [],
      "source": [
        "# So we will subtract the similarities from 1\n",
        "\n",
        "cos_sim = cosine_similarity(dtm_df)"
      ],
      "id": "40109f34"
    },
    {
      "cell_type": "code",
      "execution_count": 7,
      "metadata": {
        "tags": []
      },
      "outputs": [],
      "source": [
        "# Make it a little easier to read by rounding the values\n",
        "\n",
        "np.round(cos_sim, 2)\n",
        "\n",
        "# Label the dataframe rows and columns with eggs, sausage and bacon\n",
        "\n",
        "frame_2 = np.round(cos_sim, 2)\n",
        "frame_2 = pandas.DataFrame(frame_2, columns = indices, index = indices)\n",
        "frame_2"
      ],
      "id": "d83da9f5"
    },
    {
      "cell_type": "markdown",
      "metadata": {},
      "source": [
        "*From this output table, which novels appear to be more similar to each\n",
        "other?*\n",
        "\n",
        "## Excercise #2: Working with 18th Century Literature"
      ],
      "id": "0f1c19ed-1492-43f3-9d3c-c5d6c550e21b"
    },
    {
      "cell_type": "raw",
      "metadata": {
        "raw_mimetype": "text/html"
      },
      "source": [
        "<div>"
      ],
      "id": "b6fed831-3b28-4ce0-9aed-e145b136cf3e"
    },
    {
      "cell_type": "markdown",
      "metadata": {},
      "source": [
        "<img src=\"media/18th_cent_literature.png\" width=\"750\"/>"
      ],
      "id": "547ba006-91f3-4bf5-876b-d9dfa304d909"
    },
    {
      "cell_type": "raw",
      "metadata": {
        "raw_mimetype": "text/html"
      },
      "source": [
        "<div>\n",
        "\n"
      ],
      "id": "567533be-a730-43ed-8b53-ce15647a4ae0"
    },
    {
      "cell_type": "markdown",
      "metadata": {},
      "source": [
        "Now that we’ve taken a look at word embeddings using fake data, let’s\n",
        "test out our knowledge on actual literature. We’ll be using a collection\n",
        "of texts from famous authors Jane Austen, Nathaniel Hawthorne, and F.\n",
        "Scott Fitzgerald. These books have already been translated for us into\n",
        "`.txt` form to make analysis easier. All three authors have uniquely\n",
        "distinct literary styles: Fitzgerald have very lyrical writing, focusing\n",
        "on the american dream, wealth, and desire. Hawthorne’s writings are very\n",
        "symbolic and allegorical, focusing on sin, guilt, morality, and the\n",
        "supernatural. On the other hand, Austen’s prose is elegant and clear,\n",
        "and her writings focus on social class, marriage, and the role of women\n",
        "in society.\n",
        "\n",
        "We hope that some of these differences will come through in our\n",
        "analysis."
      ],
      "id": "10cca336-cefe-4831-8d2b-573a1114969b"
    },
    {
      "cell_type": "code",
      "execution_count": 8,
      "metadata": {
        "tags": []
      },
      "outputs": [],
      "source": [
        "# Compare the distance between novels\n",
        "\n",
        "filelist = ['txtlab_Novel450_English/EN_1850_Hawthorne,Nathaniel_TheScarletLetter_Novel.txt',\n",
        "            'txtlab_Novel450_English/EN_1851_Hawthorne,Nathaniel_TheHouseoftheSevenGables_Novel.txt',\n",
        "            'txtlab_Novel450_English/EN_1920_Fitzgerald,FScott_ThisSideofParadise_Novel.txt',\n",
        "            'txtlab_Novel450_English/EN_1922_Fitzgerald,FScott_TheBeautifulandtheDamned_Novel.txt',\n",
        "            'txtlab_Novel450_English/EN_1811_Austen,Jane_SenseandSensibility_Novel.txt',\n",
        "            'txtlab_Novel450_English/EN_1813_Austen,Jane_PrideandPrejudice_Novel.txt']\n",
        "\n",
        "novel_names = ['Hawthorne: Scarlet Letter',\n",
        "           'Hawthorne: Seven Gables',\n",
        "           'Fitzgerald: This Side of Paradise',\n",
        "           'Fitzgerald: Beautiful and the Damned',\n",
        "           'Austen: Sense and Sensibility',\n",
        "           'Austen: Pride and Prejudice']\n",
        "\n",
        "text_list = []\n",
        "\n",
        "for file in filelist:\n",
        "    with open(file, 'r', encoding = 'utf-8') as myfile:\n",
        "        text_list.append(myfile.read()) \n",
        "\n",
        "# Import the function CountVectorizer\n",
        "from sklearn.feature_extraction.text import CountVectorizer\n",
        "\n",
        "cv = CountVectorizer(stop_words = 'english', min_df = 3, binary=True)\n",
        "\n",
        "novel_dtm = cv.fit_transform(text_list).toarray()\n",
        "feature_list = cv.get_feature_names_out()\n",
        "dtm_df_novel = pandas.DataFrame(novel_dtm, columns = feature_list, index = novel_names)\n",
        "dtm_df_novel"
      ],
      "id": "4cce1064"
    },
    {
      "cell_type": "code",
      "execution_count": 9,
      "metadata": {
        "tags": []
      },
      "outputs": [],
      "source": [
        "cos_sim_novel = cosine_similarity(dtm_df_novel)\n",
        "cos_sim_novel = np.round(cos_sim_novel, 2)"
      ],
      "id": "c66a8d7e"
    },
    {
      "cell_type": "code",
      "execution_count": 10,
      "metadata": {
        "tags": []
      },
      "outputs": [],
      "source": [
        "cos_df = pandas.DataFrame(cos_sim_novel, columns = novel_names, index = novel_names)\n",
        "cos_df"
      ],
      "id": "eb58d46e"
    },
    {
      "cell_type": "code",
      "execution_count": 11,
      "metadata": {
        "tags": []
      },
      "outputs": [],
      "source": [
        "# Visualizing differences\n",
        "\n",
        "from sklearn.manifold import MDS\n",
        "\n",
        "# Two components as we're plotting points in a two-dimensional plane\n",
        "# \"Precomputed\" because we provide a distance matrix\n",
        "# We will also specify `random_state` so that the plot is reproducible.\n",
        "\n",
        "# Transform cosine similarity to cosine distance\n",
        "cos_dist = 1 - cosine_similarity(dtm_df_novel)\n",
        "\n",
        "mds = MDS(n_components=2, dissimilarity=\"precomputed\", random_state=1, normalized_stress=\"auto\")\n",
        "\n",
        "pos = mds.fit_transform(cos_dist)  # shape (n_components, n_samples)\n",
        "xs, ys = pos[:, 0], pos[:, 1]\n",
        "\n",
        "for x, y, name in zip(xs, ys, novel_names):\n",
        "    plt.scatter(x, y)\n",
        "    plt.text(x, y, name)\n",
        "\n",
        "plt.show()"
      ],
      "id": "9ed8acfa"
    },
    {
      "cell_type": "markdown",
      "metadata": {},
      "source": [
        "The above method has a broad range of applications, such as unsupervised\n",
        "clustering. Common techniques include\n",
        "<a href = \"https://en.wikipedia.org/wiki/K-means_clustering\">K-Means\n",
        "Clustering</a> and\n",
        "<a href=\"https://en.wikipedia.org/wiki/Hierarchical_clustering\">Hierarchical\n",
        "Dendrograms</a>. These attempt to identify groups of texts with shared\n",
        "content, based on these kinds of distance measures.\n",
        "\n",
        "Here’s an example of a dendrogram based on these six novels:"
      ],
      "id": "216eb2f8-2f87-4eb1-bc3f-15afe86c8b91"
    },
    {
      "cell_type": "code",
      "execution_count": 12,
      "metadata": {
        "tags": []
      },
      "outputs": [],
      "source": [
        "from scipy.cluster.hierarchy import ward, dendrogram\n",
        "linkage_matrix = ward(cos_dist)\n",
        "\n",
        "dendrogram(linkage_matrix, orientation=\"right\", labels=novel_names)\n",
        "\n",
        "plt.tight_layout()  # fixes margins\n",
        "\n",
        "plt.show()"
      ],
      "id": "04224626"
    },
    {
      "cell_type": "markdown",
      "metadata": {},
      "source": [
        "#### Vector Semantics\n",
        "\n",
        "We can also turn this logic on its head. Rather than produce vectors\n",
        "representing texts based on their words, we will produce vectors for the\n",
        "words based on their contexts."
      ],
      "id": "5397efd5-9508-4966-95a4-ae8d2873207f"
    },
    {
      "cell_type": "code",
      "execution_count": 13,
      "metadata": {
        "tags": []
      },
      "outputs": [],
      "source": [
        "# Turn our DTM sideways\n",
        "\n",
        "dtm_df_novel.T.head()"
      ],
      "id": "f2593fdb"
    },
    {
      "cell_type": "code",
      "execution_count": 14,
      "metadata": {
        "tags": []
      },
      "outputs": [],
      "source": [
        "# Find the Cosine Distances between pairs of word-vectors\n",
        "\n",
        "cos_sim_words = cosine_similarity(dtm_df_novel.T)"
      ],
      "id": "2012eb06"
    },
    {
      "cell_type": "code",
      "execution_count": 15,
      "metadata": {
        "tags": []
      },
      "outputs": [],
      "source": [
        "# In readable format\n",
        "\n",
        "np.round(cos_sim_words, 2)"
      ],
      "id": "b3d3f06e"
    },
    {
      "cell_type": "markdown",
      "metadata": {},
      "source": [
        "Theoretically you could visualize and cluster these as well - but this\n",
        "takes a lot of computational power!\n",
        "\n",
        "We’ll thus turn to the machine learning version: word embeddings"
      ],
      "id": "80e05c88-3e4b-42bf-bdf4-63cde16b6471"
    },
    {
      "cell_type": "code",
      "execution_count": 16,
      "metadata": {
        "tags": []
      },
      "outputs": [],
      "source": [
        "# Clean-up memory\n",
        "import sys\n",
        "\n",
        "# These are the usual ipython objects, including this one you are creating\n",
        "ipython_vars = ['In', 'Out', 'exit', 'quit', 'get_ipython', 'ipython_vars']\n",
        "\n",
        "# Get a sorted list of the objects and their sizes\n",
        "sorted([(x, sys.getsizeof(globals().get(x))) for x in dir() if not x.startswith('_') and x not in sys.modules and x not in ipython_vars], key=lambda x: x[1], reverse=True)\n",
        "\n",
        " \n",
        "del cos_sim_words \n",
        "del dtm_df_novel \n",
        "del novel_dtm \n",
        "del feature_list"
      ],
      "id": "b7d3a954"
    },
    {
      "cell_type": "markdown",
      "metadata": {},
      "source": [
        "<font color = \"blue\" size=5>At this point you should restart your kernel\n",
        "if \\< 4 gb memory available</font>\n",
        "\n",
        "-   Do this by clicking on the “Kernel” menu and hitting “restart”\n",
        "\n",
        "## Exercise #3: Using word2vec with 150 English Novels\n",
        "\n",
        "In this exercise, we’ll use an English-language subset from a dataset\n",
        "about novels created by [Andrew\n",
        "Piper](https://www.mcgill.ca/langlitcultures/andrew-piper). Specifically\n",
        "we’ll look at 150 novels by British and American authors spanning the\n",
        "years 1771-1930. These texts reside on disk, each in a separate\n",
        "plaintext file. Metadata is contained in a spreadsheet distributed with\n",
        "the novel files.\n",
        "\n",
        "#### Metadata Columns"
      ],
      "id": "5b895c96-db57-4efb-8845-cf2636f5a6cb"
    },
    {
      "cell_type": "raw",
      "metadata": {
        "raw_mimetype": "text/html"
      },
      "source": [
        "<ol>"
      ],
      "id": "a7c98fc3-2431-4ea1-a7b9-5eb7f1ca58da"
    },
    {
      "cell_type": "raw",
      "metadata": {
        "raw_mimetype": "text/html"
      },
      "source": [
        "<li>"
      ],
      "id": "d2adba87-d4a1-4869-8505-c3e8d1392a76"
    },
    {
      "cell_type": "markdown",
      "metadata": {},
      "source": [
        "Filename: Name of file on disk"
      ],
      "id": "7ed5928e-9446-4687-85f4-3fa0b79cb20c"
    },
    {
      "cell_type": "raw",
      "metadata": {
        "raw_mimetype": "text/html"
      },
      "source": [
        "</li>"
      ],
      "id": "9d8124c1-fd5a-4570-a0bc-13fc3a471733"
    },
    {
      "cell_type": "raw",
      "metadata": {
        "raw_mimetype": "text/html"
      },
      "source": [
        "<li>"
      ],
      "id": "03f753f8-29fa-4dcf-a66c-14f8b98e1d83"
    },
    {
      "cell_type": "markdown",
      "metadata": {},
      "source": [
        "ID: Unique ID in Piper corpus"
      ],
      "id": "876dfe43-7aef-433c-96df-7aa650c38ce7"
    },
    {
      "cell_type": "raw",
      "metadata": {
        "raw_mimetype": "text/html"
      },
      "source": [
        "</li>"
      ],
      "id": "46acff5d-b8bc-4117-8db8-2b3e50de6772"
    },
    {
      "cell_type": "raw",
      "metadata": {
        "raw_mimetype": "text/html"
      },
      "source": [
        "<li>"
      ],
      "id": "4e18be9c-4f85-48d0-9d3f-aef729de8016"
    },
    {
      "cell_type": "markdown",
      "metadata": {},
      "source": [
        "Language: Language of novel"
      ],
      "id": "90fcebb8-4574-4f86-8dd7-1d8f2bc88e38"
    },
    {
      "cell_type": "raw",
      "metadata": {
        "raw_mimetype": "text/html"
      },
      "source": [
        "</li>"
      ],
      "id": "63b797f3-adc1-4521-8a2e-406f1fc33918"
    },
    {
      "cell_type": "raw",
      "metadata": {
        "raw_mimetype": "text/html"
      },
      "source": [
        "<li>"
      ],
      "id": "538577b1-1307-42fb-80f0-6feac91473fb"
    },
    {
      "cell_type": "markdown",
      "metadata": {},
      "source": [
        "Date: Initial publication date"
      ],
      "id": "6b02b3ef-04c2-4a41-9fa2-5f459be451f7"
    },
    {
      "cell_type": "raw",
      "metadata": {
        "raw_mimetype": "text/html"
      },
      "source": [
        "</li>"
      ],
      "id": "22fcd2ae-098c-4307-be3b-6a688111fae0"
    },
    {
      "cell_type": "raw",
      "metadata": {
        "raw_mimetype": "text/html"
      },
      "source": [
        "<li>"
      ],
      "id": "5e321a13-8bd9-4f52-a301-f62fcd566830"
    },
    {
      "cell_type": "markdown",
      "metadata": {},
      "source": [
        "Title: Title of novel"
      ],
      "id": "5049407d-f183-4346-a893-9054168da6e9"
    },
    {
      "cell_type": "raw",
      "metadata": {
        "raw_mimetype": "text/html"
      },
      "source": [
        "</li>"
      ],
      "id": "9e35e700-4d00-4f08-9abc-eea5f696064b"
    },
    {
      "cell_type": "raw",
      "metadata": {
        "raw_mimetype": "text/html"
      },
      "source": [
        "<li>"
      ],
      "id": "f6bc5b53-3586-4939-9cac-fa23c889b0e4"
    },
    {
      "cell_type": "markdown",
      "metadata": {},
      "source": [
        "Gender: Authorial gender"
      ],
      "id": "55ce0679-6d1c-4ffa-9c71-2db583eba1ea"
    },
    {
      "cell_type": "raw",
      "metadata": {
        "raw_mimetype": "text/html"
      },
      "source": [
        "</li>"
      ],
      "id": "df9a00dd-3f2a-428d-80b0-4920918f3061"
    },
    {
      "cell_type": "raw",
      "metadata": {
        "raw_mimetype": "text/html"
      },
      "source": [
        "<li>"
      ],
      "id": "0a76c4ba-eb75-430e-b12c-de64f6d96725"
    },
    {
      "cell_type": "markdown",
      "metadata": {},
      "source": [
        "Person: Textual perspective"
      ],
      "id": "3cb87812-65ca-47b6-af2d-46eb3809c7f7"
    },
    {
      "cell_type": "raw",
      "metadata": {
        "raw_mimetype": "text/html"
      },
      "source": [
        "</li>"
      ],
      "id": "ec3b4a50-174b-4177-8ae3-9d8a9e7835ef"
    },
    {
      "cell_type": "raw",
      "metadata": {
        "raw_mimetype": "text/html"
      },
      "source": [
        "<li>"
      ],
      "id": "1c1af7f5-9fd8-4b90-b848-6b00bc417c1e"
    },
    {
      "cell_type": "markdown",
      "metadata": {},
      "source": [
        "Length: Number of tokens in novel"
      ],
      "id": "0efe748f-71e1-42fd-b8b9-eb63fded4811"
    },
    {
      "cell_type": "raw",
      "metadata": {
        "raw_mimetype": "text/html"
      },
      "source": [
        "</li>"
      ],
      "id": "7767b5d9-4e49-42d5-97ad-ea620ab7a506"
    },
    {
      "cell_type": "raw",
      "metadata": {
        "raw_mimetype": "text/html"
      },
      "source": [
        "</ol>"
      ],
      "id": "0e66165a-80ae-41ff-89b9-d5e19ef0c3d3"
    },
    {
      "cell_type": "code",
      "execution_count": 17,
      "metadata": {
        "tags": []
      },
      "outputs": [],
      "source": [
        "# Data Wrangling\n",
        "\n",
        "import os\n",
        "import numpy as np\n",
        "import pandas\n",
        "from scipy.spatial.distance import cosine\n",
        "from sklearn.metrics import pairwise\n",
        "from sklearn.manifold import MDS, TSNE"
      ],
      "id": "f484fb39"
    },
    {
      "cell_type": "code",
      "execution_count": 18,
      "metadata": {
        "tags": []
      },
      "outputs": [],
      "source": [
        "# Natural Language Processing\n",
        "\n",
        "import nltk\n",
        "nltk.download('punkt')\n",
        "from nltk.tokenize import word_tokenize, sent_tokenize"
      ],
      "id": "73f6837d"
    },
    {
      "cell_type": "code",
      "execution_count": 19,
      "metadata": {
        "tags": []
      },
      "outputs": [],
      "source": [
        "# New libarary (not in Anaconda: gensim)\n",
        "import gensim"
      ],
      "id": "174ac0d5"
    },
    {
      "cell_type": "markdown",
      "metadata": {},
      "source": [
        "#### Import Corpus"
      ],
      "id": "2ec43896-25a7-48ca-939d-f66b77a679f9"
    },
    {
      "cell_type": "code",
      "execution_count": 20,
      "metadata": {
        "tags": []
      },
      "outputs": [],
      "source": [
        "# Custom Tokenizer for Classroom Use\n",
        "\n",
        "def fast_tokenize(text):\n",
        "    \n",
        "    # Get a list of punctuation marks\n",
        "    from string import punctuation\n",
        "    \n",
        "    lower_case = text.lower()\n",
        "    \n",
        "    # Iterate through text removing punctuation characters\n",
        "    no_punct = \"\".join([char for char in lower_case if char not in punctuation])\n",
        "    \n",
        "    # Split text over whitespace into list of words\n",
        "    tokens = no_punct.split()\n",
        "    \n",
        "    return tokens"
      ],
      "id": "113346ff"
    },
    {
      "cell_type": "markdown",
      "metadata": {},
      "source": [
        "#### Import Metadata"
      ],
      "id": "e13aa023-4671-48ce-b55a-8e6dea76863c"
    },
    {
      "cell_type": "code",
      "execution_count": 21,
      "metadata": {
        "tags": []
      },
      "outputs": [],
      "source": [
        "# Import Metadata into Pandas Dataframe\n",
        "\n",
        "meta_df = pandas.read_csv('resources/txtlab_Novel450_English.csv', encoding = 'utf-8')"
      ],
      "id": "84e3e373"
    },
    {
      "cell_type": "code",
      "execution_count": 22,
      "metadata": {
        "tags": []
      },
      "outputs": [],
      "source": [
        "# Check Metadata\n",
        "\n",
        "meta_df.head()"
      ],
      "id": "2d568056"
    },
    {
      "cell_type": "code",
      "execution_count": 23,
      "metadata": {
        "tags": []
      },
      "outputs": [],
      "source": [
        "# Set location of corpus folder\n",
        "\n",
        "fiction_folder = 'txtlab_Novel450_English/'"
      ],
      "id": "757471d2"
    },
    {
      "cell_type": "code",
      "execution_count": 24,
      "metadata": {
        "tags": []
      },
      "outputs": [],
      "source": [
        "import os\n",
        "\n",
        "# Create an empty list to store the text of each novel\n",
        "novel_list = []\n",
        "\n",
        "# Iterate through filenames in 'fiction_folder'\n",
        "for filename in os.listdir(fiction_folder):\n",
        "    file_path = os.path.join(fiction_folder, filename)\n",
        "    \n",
        "    try:\n",
        "        # Attempt to read the novel text as a string using utf-8 encoding\n",
        "        with open(file_path, 'r', encoding='utf-8') as file_in:\n",
        "            this_novel = file_in.read()\n",
        "        \n",
        "        # Add novel text as a single string to the master list\n",
        "        novel_list.append(this_novel)\n",
        "    \n",
        "    except UnicodeDecodeError as e:\n",
        "        # Handle encoding errors by skipping the problematic file\n",
        "        print(f\"UnicodeDecodeError: Unable to read '{filename}' - Skipping this file.\")\n",
        "        continue\n",
        "\n",
        "# Now 'novel_list' contains the text of all readable novels."
      ],
      "id": "57166a8e"
    },
    {
      "cell_type": "code",
      "execution_count": 25,
      "metadata": {
        "tags": []
      },
      "outputs": [],
      "source": [
        "# Inspect first item in novel_list\n",
        "\n",
        "novel_list[0][:500]"
      ],
      "id": "8cbea526"
    },
    {
      "cell_type": "markdown",
      "metadata": {},
      "source": [
        "#### Pre-Processing\n",
        "\n",
        "word2Vec learns about the relationships among words by observing them in\n",
        "context. This means that we want to split our texts into word-units.\n",
        "However, we want to maintain sentence boundaries as well, since the last\n",
        "word of the previous sentence might skew the meaning of the next\n",
        "sentence.\n",
        "\n",
        "Since novels were imported as single strings, we’ll first need to divide\n",
        "them into sentences, and second, we’ll split each sentence into its own\n",
        "list of words."
      ],
      "id": "36a5b6e5-7abe-420c-854b-262c1fb4dabb"
    },
    {
      "cell_type": "code",
      "execution_count": 26,
      "metadata": {
        "tags": []
      },
      "outputs": [],
      "source": [
        "# Split each novel into sentences\n",
        "\n",
        "sentences = [sentence for novel in novel_list for sentence in sent_tokenize(novel)]\n",
        "\n",
        "del novel_list"
      ],
      "id": "6a7abfa9"
    },
    {
      "cell_type": "code",
      "execution_count": 27,
      "metadata": {
        "tags": []
      },
      "outputs": [],
      "source": [
        "# Inspect first sentence\n",
        "\n",
        "sentences[0]"
      ],
      "id": "6b60f895"
    },
    {
      "cell_type": "code",
      "execution_count": 28,
      "metadata": {
        "tags": []
      },
      "outputs": [],
      "source": [
        "# Split each sentence into tokens\n",
        "\n",
        "sentences = [fast_tokenize(sentence) for sentence in sentences]"
      ],
      "id": "844e2027"
    },
    {
      "cell_type": "code",
      "execution_count": 29,
      "metadata": {
        "tags": []
      },
      "outputs": [],
      "source": [
        "# Remove any sentences that contain zero tokens\n",
        "\n",
        "sentences = [sentence for sentence in sentences if sentence != []]"
      ],
      "id": "13a56eb6"
    },
    {
      "cell_type": "code",
      "execution_count": 30,
      "metadata": {
        "tags": []
      },
      "outputs": [],
      "source": [
        "# Inspect first sentence\n",
        "\n",
        "sentences[0]"
      ],
      "id": "db37552c"
    },
    {
      "cell_type": "markdown",
      "metadata": {},
      "source": [
        "#### Training\n",
        "\n",
        "To train the model, we would run:\n",
        "\n",
        "    # Train word2vec model from txtLab corpus\n",
        "\n",
        "    model = gensim.models.Word2Vec(sentences, vector_size=100, window=5, \\\n",
        "                                   min_count=25, sg=1, alpha=0.025, epochs=5, batch_words=10000)\n",
        "\n",
        "However, this is both slow and memory intensive, so instead we will load\n",
        "pre-trained data."
      ],
      "id": "dd07a708-5c95-45bf-ba30-9962055b72ac"
    },
    {
      "cell_type": "code",
      "execution_count": 31,
      "metadata": {
        "tags": []
      },
      "outputs": [],
      "source": [
        "#unload moster dataframe\n",
        "del sentences\n",
        "\n",
        "# Load pre-trained model from harddisk\n",
        "model = gensim.models.KeyedVectors.load_word2vec_format('resources/word2vec.txtlab_Novel150_English.txt')"
      ],
      "id": "b90f6e81"
    },
    {
      "cell_type": "markdown",
      "metadata": {},
      "source": [
        "## Embeddings"
      ],
      "id": "4c242aee-6537-4840-b455-c35b10f57301"
    },
    {
      "cell_type": "code",
      "execution_count": 32,
      "metadata": {
        "tags": []
      },
      "outputs": [],
      "source": [
        "# Return dense word vector\n",
        "\n",
        "model.get_vector('whale')"
      ],
      "id": "ba2aae81"
    },
    {
      "cell_type": "markdown",
      "metadata": {},
      "source": [
        "## Vector-Space Operations\n",
        "\n",
        "### Similarity\n",
        "\n",
        "Since words are represented as dense vectors, we can ask how similiar\n",
        "words’ meanings are based on their cosine similarity (essentially how\n",
        "much they overlap). <em>gensim</em> has a few out-of-the-box functions\n",
        "that enable different kinds of comparisons."
      ],
      "id": "f4aaa6a7-7daf-4d6c-a59e-6a51d53287f6"
    },
    {
      "cell_type": "code",
      "execution_count": 33,
      "metadata": {
        "tags": []
      },
      "outputs": [],
      "source": [
        "# Find cosine distance between two given word vectors\n",
        "\n",
        "model.similarity('pride','prejudice')"
      ],
      "id": "63fa7368"
    },
    {
      "cell_type": "code",
      "execution_count": 34,
      "metadata": {
        "tags": []
      },
      "outputs": [],
      "source": [
        "# Find nearest word vectors by cosine distance\n",
        "\n",
        "model.most_similar('pride')"
      ],
      "id": "673ecd6f"
    },
    {
      "cell_type": "code",
      "execution_count": 35,
      "metadata": {
        "tags": []
      },
      "outputs": [],
      "source": [
        "# Given a list of words, we can ask which doesn't belong\n",
        "\n",
        "# Finds mean vector of words in list\n",
        "# and identifies the word further from that mean\n",
        "\n",
        "model.doesnt_match(['pride','prejudice', 'whale'])"
      ],
      "id": "03880a57"
    },
    {
      "cell_type": "markdown",
      "metadata": {},
      "source": [
        "### Multiple Valences\n",
        "\n",
        "A word embedding may encode both primary and secondary meanings that are\n",
        "both present at the same time. In order to identify secondary meanings\n",
        "in a word, we can subtract the vectors of primary (or simply unwanted)\n",
        "meanings. For example, we may wish to remove the sense of <em>river\n",
        "bank</em> from the word <em>bank</em>. This would be written\n",
        "mathetmatically as <em>RIVER - BANK</em>, which in <em>gensim</em>’s\n",
        "interface lists <em>RIVER</em> as a positive meaning and <em>BANK</em>\n",
        "as a negative one."
      ],
      "id": "0963e5fa-666b-4d55-aab3-7f08d33990ed"
    },
    {
      "cell_type": "code",
      "execution_count": 36,
      "metadata": {
        "tags": []
      },
      "outputs": [],
      "source": [
        "# Get most similar words to BANK, in order to get a sense for its primary meaning\n",
        "\n",
        "model.most_similar('bank')"
      ],
      "id": "12bf9a5f"
    },
    {
      "cell_type": "code",
      "execution_count": 37,
      "metadata": {
        "tags": []
      },
      "outputs": [],
      "source": [
        "# Remove the sense of \"river bank\" from \"bank\" and see what is left\n",
        "\n",
        "model.most_similar(positive=['bank'], negative=['river'])"
      ],
      "id": "a4dc4e59"
    },
    {
      "cell_type": "markdown",
      "metadata": {},
      "source": [
        "### Analogy\n",
        "\n",
        "Analogies are rendered as simple mathematical operations in vector\n",
        "space. For example, the canonic word2vec analogy <em>MAN is to KING as\n",
        "WOMAN is to ??</em> is rendered as <em>KING - MAN + WOMAN</em>. In the\n",
        "gensim interface, we designate <em>KING</em> and <em>WOMAN</em> as\n",
        "positive terms and <em>MAN</em> as a negative term, since it is\n",
        "subtracted from those."
      ],
      "id": "a4b9a0cf-b010-496a-9053-32899321e057"
    },
    {
      "cell_type": "code",
      "execution_count": 38,
      "metadata": {
        "tags": []
      },
      "outputs": [],
      "source": [
        "# Get most similar words to KING, in order\n",
        "# to get a sense for its primary meaning\n",
        "\n",
        "model.most_similar('king')"
      ],
      "id": "4e0b23ab"
    },
    {
      "cell_type": "code",
      "execution_count": 39,
      "metadata": {
        "tags": []
      },
      "outputs": [],
      "source": [
        "# The canonic word2vec analogy: King - Man + Woman -> Queen\n",
        "\n",
        "model.most_similar(positive=['woman', 'king'], negative=['man'])"
      ],
      "id": "48a238a3"
    },
    {
      "cell_type": "markdown",
      "metadata": {},
      "source": [
        "### Gendered Vectors\n",
        "\n",
        "Note that this method uses vector projection, whereas Schmidt had used\n",
        "rejection."
      ],
      "id": "b5f30758-0131-4553-94cc-4b61e78de8c3"
    },
    {
      "cell_type": "code",
      "execution_count": 40,
      "metadata": {
        "tags": []
      },
      "outputs": [],
      "source": [
        "# Feminine Vector\n",
        "\n",
        "model.most_similar(positive=['she','her','hers','herself'], negative=['he','him','his','himself'])"
      ],
      "id": "183b2fbf"
    },
    {
      "cell_type": "code",
      "execution_count": 41,
      "metadata": {
        "tags": []
      },
      "outputs": [],
      "source": [
        "# Masculine Vector\n",
        "\n",
        "model.most_similar(positive=['he','him','his','himself'], negative=['she','her','hers','herself'])"
      ],
      "id": "ba464d5c"
    },
    {
      "cell_type": "markdown",
      "metadata": {},
      "source": [
        "## Visualization"
      ],
      "id": "b4776fba-c30c-425b-aeed-d287062529e4"
    },
    {
      "cell_type": "code",
      "execution_count": 42,
      "metadata": {
        "tags": []
      },
      "outputs": [],
      "source": [
        "# Dictionary of words in model\n",
        "\n",
        "model.key_to_index"
      ],
      "id": "ebdb92ab"
    },
    {
      "cell_type": "code",
      "execution_count": 43,
      "metadata": {
        "tags": []
      },
      "outputs": [],
      "source": [
        "# Visualizing the whole vocabulary would make it hard to read\n",
        "\n",
        "len(model.key_to_index)"
      ],
      "id": "e4a299ed"
    },
    {
      "cell_type": "code",
      "execution_count": 44,
      "metadata": {
        "tags": []
      },
      "outputs": [],
      "source": [
        "# For interpretability, we'll select words that already have a semantic relation\n",
        "\n",
        "her_tokens = [token for token,weight in model.most_similar(positive=['she','her','hers','herself'], \\\n",
        "                                                       negative=['he','him','his','himself'], topn=50)]"
      ],
      "id": "f4c9c0d9"
    },
    {
      "cell_type": "code",
      "execution_count": 45,
      "metadata": {
        "tags": []
      },
      "outputs": [],
      "source": [
        "# Inspect list\n",
        "\n",
        "her_tokens[:15]"
      ],
      "id": "7c88ee97"
    },
    {
      "cell_type": "code",
      "execution_count": 46,
      "metadata": {
        "tags": []
      },
      "outputs": [],
      "source": [
        "# Get the vector for each sampled word\n",
        "\n",
        "vectors = [model.get_vector(word) for word in her_tokens] "
      ],
      "id": "5d614588"
    },
    {
      "cell_type": "code",
      "execution_count": 47,
      "metadata": {
        "tags": []
      },
      "outputs": [],
      "source": [
        "# Calculate distances among texts in vector space\n",
        "\n",
        "dist_matrix = pairwise.pairwise_distances(vectors, metric='cosine')\n",
        "dist_matrix"
      ],
      "id": "32daab13"
    },
    {
      "cell_type": "code",
      "execution_count": 48,
      "metadata": {
        "tags": []
      },
      "outputs": [],
      "source": [
        "# Multi-Dimensional Scaling (Project vectors into 2-D)\n",
        "\n",
        "mds = MDS(n_components = 2, dissimilarity='precomputed')\n",
        "embeddings = mds.fit_transform(dist_matrix)"
      ],
      "id": "38a6132e"
    },
    {
      "cell_type": "code",
      "execution_count": 49,
      "metadata": {
        "tags": []
      },
      "outputs": [],
      "source": [
        "# Make a pretty graph\n",
        "%pylab inline\n",
        "matplotlib.style.use('ggplot')\n",
        "\n",
        "_, ax = subplots(figsize=(10,10))\n",
        "ax.scatter(embeddings[:,0], embeddings[:,1], alpha=0)\n",
        "for i in range(len(vectors)):\n",
        "    ax.annotate(her_tokens[i], ((embeddings[i,0], embeddings[i,1])))"
      ],
      "id": "394108e2"
    },
    {
      "cell_type": "code",
      "execution_count": 50,
      "metadata": {
        "tags": []
      },
      "outputs": [],
      "source": [
        "# For comparison, here is the same graph using a masculine-pronoun vector\n",
        "\n",
        "his_tokens = [token for token,weight in model.most_similar(positive=['he','him','his','himself'], \\\n",
        "                                                       negative=['she','her','hers','herself'], topn=50)]\n",
        "vectors = [model.get_vector(word) for word in his_tokens]\n",
        "dist_matrix = pairwise.pairwise_distances(vectors, metric='cosine')\n",
        "mds = MDS(n_components = 2, dissimilarity='precomputed')\n",
        "embeddings = mds.fit_transform(dist_matrix)\n",
        "_, ax = plt.subplots(figsize=(10,10))\n",
        "ax.scatter(embeddings[:,0], embeddings[:,1], alpha=0)\n",
        "for i in range(len(vectors)):\n",
        "    ax.annotate(his_tokens[i], ((embeddings[i,0], embeddings[i,1])))"
      ],
      "id": "31615d6b"
    },
    {
      "cell_type": "markdown",
      "metadata": {},
      "source": [
        "> <span style=\"color:#CC7A00\" > What kinds of semantic relationships\n",
        "> exist in the diagram above?\n",
        ">\n",
        "> </p>\n",
        ">\n",
        "> <span style=\"color:#CC7A00\"> Are there any words that seem out of\n",
        "> place? </span>\n",
        "\n",
        "## Saving & Loading Models"
      ],
      "id": "bdf9bbf3-065d-48d2-bca4-e2a4938d427f"
    },
    {
      "cell_type": "code",
      "execution_count": 51,
      "metadata": {
        "tags": []
      },
      "outputs": [],
      "source": [
        "# Save current model for later use\n",
        "\n",
        "model.save_word2vec_format('resources/word2vec.txtlab_Novel150_English.txt')\n",
        "#model.save_word2vec_format('resources/word2vec.txtlab_Novel150_English.txt') # deprecated"
      ],
      "id": "2f53ac65"
    },
    {
      "cell_type": "code",
      "execution_count": 52,
      "metadata": {
        "tags": []
      },
      "outputs": [],
      "source": [
        "# Load up models from disk\n",
        "\n",
        "# Model trained on Eighteenth Century Collections Online corpus (~2500 texts)\n",
        "# Made available by Ryan Heuser: http://ryanheuser.org/word-vectors-1/\n",
        "\n",
        "ecco_model = gensim.models.KeyedVectors.load_word2vec_format('resources/word2vec.ECCO-TCP.txt')\n",
        "#ecco_model = gensim.models.Word2Vec.load_word2vec_format('resources/word2vec.ECCO-TCP.txt') # deprecated"
      ],
      "id": "d14d2e08"
    },
    {
      "cell_type": "code",
      "execution_count": 53,
      "metadata": {
        "tags": []
      },
      "outputs": [],
      "source": [
        "# What are similar words to BANK?\n",
        "\n",
        "ecco_model.most_similar('bank')"
      ],
      "id": "36ce78b0"
    },
    {
      "cell_type": "code",
      "execution_count": 54,
      "metadata": {
        "tags": []
      },
      "outputs": [],
      "source": [
        "# What if we remove the sense of \"river bank\"?\n",
        "\n",
        "ecco_model.most_similar(positive=['bank'], negative=['river'])"
      ],
      "id": "480ec8a5"
    },
    {
      "cell_type": "markdown",
      "metadata": {},
      "source": [
        "## Exercises!\n",
        "\n",
        "See if you can attempt the following exercises on your own!"
      ],
      "id": "f0ac75e8-95d3-4024-95ba-9003a608f1c2"
    },
    {
      "cell_type": "code",
      "execution_count": 55,
      "metadata": {
        "tags": []
      },
      "outputs": [],
      "source": [
        "## EX. Use the most_similar method to find the tokens nearest to 'car' in either model.\n",
        "##     Do the same for 'motorcar'.\n",
        "\n",
        "## Q.  What characterizes these two words inthe corpus? Does this make sense?\n",
        "\n",
        "model.most_similar('car')"
      ],
      "id": "0a1a47d8"
    },
    {
      "cell_type": "code",
      "execution_count": 56,
      "metadata": {
        "tags": []
      },
      "outputs": [],
      "source": [
        "model.most_similar('motorcar')"
      ],
      "id": "f5484100"
    },
    {
      "cell_type": "code",
      "execution_count": 57,
      "metadata": {
        "tags": []
      },
      "outputs": [],
      "source": [
        "## EX. How does our model answer the analogy: MADRID is to SPAIN as PARIS is to __________\n",
        "\n",
        "## Q.  What has our model learned about nation-states?\n",
        "\n",
        "\n",
        "model.most_similar(positive=['paris', 'spain'], negative = ['madrid'])"
      ],
      "id": "64467516"
    },
    {
      "cell_type": "code",
      "execution_count": 58,
      "metadata": {
        "tags": []
      },
      "outputs": [],
      "source": [
        "## EX. Perform the canonic Word2Vec addition again but leave out a term:\n",
        "##     Try 'king' - 'man', 'woman' - 'man', 'woman' + 'king'\n",
        "\n",
        "## Q.  What do these indicate semantically?\n",
        "\n",
        "model.most_similar(positive= ['woman'], negative=['man'])"
      ],
      "id": "fcf3bccd"
    },
    {
      "cell_type": "code",
      "execution_count": 59,
      "metadata": {
        "tags": []
      },
      "outputs": [],
      "source": [
        "## EX. Heuser's blog post explores an analogy in eighteenth-century thought that\n",
        "##     RICHES are to VIRTUE what LEARNING is to GENIUS. How true is this in\n",
        "##     the ECCO-trained Word2Vec model? Is it true in the one we trained?\n",
        "\n",
        "##  Q. How might we compare word2vec models more generally?"
      ],
      "id": "ff355139"
    },
    {
      "cell_type": "code",
      "execution_count": 60,
      "metadata": {
        "tags": []
      },
      "outputs": [],
      "source": [
        "# ECCO model: RICHES are to VIRTUE what LEARNING is to ??\n",
        "\n",
        "ecco_model.most_similar(positive=['learning', 'virtue'], negative=['riches'])"
      ],
      "id": "0f8ee9e1"
    },
    {
      "cell_type": "code",
      "execution_count": 61,
      "metadata": {
        "tags": []
      },
      "outputs": [],
      "source": [
        "# txtLab model: RICHES are to VIRTUE what LEARNING is to ??\n",
        "model.most_similar(positive=['learning', 'virtue'], negative=['riches'])"
      ],
      "id": "a377b16b"
    },
    {
      "cell_type": "markdown",
      "metadata": {},
      "source": [
        "## Concluding Remarks and Resources\n",
        "\n",
        "Throughout this notebook we have seen how a number of mathematical\n",
        "operations can be used to explore word2vec’s word embeddings. Hopefully\n",
        "this notebook has allowed you to see how the inherent biases of language\n",
        "become coded into word embeddings and systems that use word embeddings\n",
        "cannot be treated as search engines.\n",
        "\n",
        "While getting inside the technics of these computational processes can\n",
        "enable us to answer a set of new, interesting questions dealing with\n",
        "semantics, there are many other questions that remain unanswered.\n",
        "\n",
        "For example: \\* Many language models are built using text from large,\n",
        "online corpora (such as Wikipedia, which is known to have a contributor\n",
        "basis that is majority white, college-educated men) - what kind of\n",
        "impact might this have on a language model? \\* What barriers to the\n",
        "healthy functioning of democracy are created by the widespread use of\n",
        "these tools and technologies in society? \\* How might language models\n",
        "challenge or renegotiate ideas around copyright, intellectual property\n",
        "and conceptions of authorship more broadly? \\* What might guardrails\n",
        "look like for the safe and equitable management and deployment of\n",
        "language models?\n",
        "\n",
        "## Other Resources for Further Learning\n",
        "\n",
        "-   [UBC Library Generative AI Research\n",
        "    Guide](https://guides.library.ubc.ca/GenAI/home)\n",
        "-   [What Is ChatGPT Doing … and Why Does It\n",
        "    Work?](https://writings.stephenwolfram.com/2023/02/what-is-chatgpt-doing-and-why-does-it-work/)\n",
        "    by Stephen Wolfram\n",
        "-   [TensorFlow Word Embeddings\n",
        "    tutorial](https://www.tensorflow.org/text/guide/word_embeddings)\n",
        "\n",
        "## References\n",
        "\n",
        "This notebook has been built using the following materials: -\n",
        "Arseniev-Koehler, A., & Foster, J. G. (2020). Sociolinguistic Properties\n",
        "of Word Embeddings \\[Preprint\\]. SocArXiv.\n",
        "https://doi.org/10.31235/osf.io/b8kud - Schiffers, R., Kern, D., &\n",
        "Hienert, D. (2023). Evaluation of Word Embeddings for the Social\n",
        "Sciences (arXiv:2302.06174). arXiv. http://arxiv.org/abs/2302.06174\n",
        "\n",
        "-   Anwla, P. K. (2019, October 22). Challenges in word2vec Model.\n",
        "    TowardsMachineLearning.\n",
        "    https://towardsmachinelearning.org/performance-problems-in-word2vec-model/\n",
        "\n",
        "-   Chandran, S. (2021, November 16). Introduction to Text\n",
        "    Representations for Language Processing—Part 2. Medium.\n",
        "    https://towardsdatascience.com/introduction-to-text-representations-for-language-processing-part-2-54fe6907868\n",
        "\n",
        "-   Kaveh-Yazdy, F., & Zarifzadeh, S. (2021). Measuring Economic Policy\n",
        "    Uncertainty Using an Unsupervised Word Embedding-based Method. SSRN\n",
        "    Electronic Journal. https://doi.org/10.2139/ssrn.3845847"
      ],
      "id": "45568805-22e3-4d38-bca3-0f2b258b3654"
    }
  ],
  "nbformat": 4,
  "nbformat_minor": 5,
  "metadata": {
    "kernelspec": {
      "name": "python3",
      "display_name": "Python 3 (ipykernel)",
      "language": "python"
    },
    "language_info": {
      "name": "python",
      "codemirror_mode": {
        "name": "ipython",
        "version": "3"
      },
      "file_extension": ".py",
      "mimetype": "text/x-python",
      "nbconvert_exporter": "python",
      "pygments_lexer": "ipython3",
      "version": "3.10.12"
    }
  }
}