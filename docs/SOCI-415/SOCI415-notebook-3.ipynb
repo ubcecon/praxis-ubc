{
  "cells": [
    {
      "cell_type": "markdown",
      "metadata": {},
      "source": [
        "# SOCI 415 Network Analysis - CBDB Dataset\n",
        "\n",
        "The China Biographical Database Abstract: The China Biographical\n",
        "Database is a freely accessible relational database with biographical\n",
        "information about approximately 641,568 individuals as of August 2024,\n",
        "currently mainly from the 7th through 19th centuries. With both online\n",
        "and offline versions, the data is meant to be useful for statistical,\n",
        "social network, and spatial analysis as well as serving as a kind of\n",
        "biographical reference. The image below shows the spatial distribution\n",
        "of a cross dynastic subset of 190,000 people in CBDB by basic\n",
        "affiliations\n",
        "\n",
        "Display values within the dataset"
      ],
      "id": "c86936ff-c9ee-4fe2-b3d8-5409f8335bf4"
    },
    {
      "cell_type": "code",
      "execution_count": 1,
      "metadata": {},
      "outputs": [],
      "source": [
        "import sqlite3\n",
        "import pandas as pd\n",
        "\n",
        "db_path = r'C:\\Users\\alexr\\OneDrive\\Desktop\\WORK\\Summer2025\\latest.db'\n",
        "conn = sqlite3.connect(db_path)\n",
        "cursor = conn.cursor()\n",
        "\n",
        "# List all tables\n",
        "cursor.execute(\"SELECT name FROM sqlite_master WHERE type='table';\")\n",
        "tables = cursor.fetchall()\n",
        "\n",
        "print(\"Tables in database:\", tables)\n",
        "\n",
        "conn.close()"
      ],
      "id": "215746c0"
    },
    {
      "cell_type": "markdown",
      "metadata": {},
      "source": [
        "Load the one we want"
      ],
      "id": "855fa817-a1a9-4060-83ea-9bbb6a9a150b"
    },
    {
      "cell_type": "code",
      "execution_count": 2,
      "metadata": {},
      "outputs": [],
      "source": [
        "db_path = r'C:\\Users\\alexr\\OneDrive\\Desktop\\WORK\\Summer2025\\latest.db'\n",
        "\n",
        "# Connect to the database\n",
        "conn = sqlite3.connect(db_path)\n",
        "\n",
        "# Replace 'person' with the actual table name you want to load\n",
        "df = pd.read_sql_query(\"SELECT * FROM KIN_DATA\", conn)\n",
        "\n",
        "# Show the first few rows\n",
        "print(df.head())\n",
        "\n",
        "conn.close()"
      ],
      "id": "fcc2647b"
    },
    {
      "cell_type": "markdown",
      "metadata": {},
      "source": [
        "Build the NetworkX Graph"
      ],
      "id": "8c41170a-fa22-4143-a628-b9d242c22593"
    },
    {
      "cell_type": "code",
      "execution_count": 3,
      "metadata": {},
      "outputs": [],
      "source": [
        "import networkx as nx\n",
        "import matplotlib.pyplot as plt\n",
        "\n",
        "# Create an empty graph\n",
        "G = nx.Graph()\n",
        "\n",
        "# Add edges with kinship type as edge attribute\n",
        "for _, row in df.iterrows():\n",
        "    person = row['c_personid']\n",
        "    kin = row['c_kin_id']\n",
        "    kin_type = row['c_kin_code']\n",
        "    G.add_edge(person, kin, kinship=kin_type)\n",
        "\n",
        "print(f\"Number of nodes: {G.number_of_nodes()}\")\n",
        "print(f\"Number of edges: {G.number_of_edges()}\")"
      ],
      "id": "d4c815ea"
    },
    {
      "cell_type": "markdown",
      "metadata": {},
      "source": [
        "Visualize the network"
      ],
      "id": "8f26c417-ce80-4fca-8a4b-51465101e8da"
    },
    {
      "cell_type": "code",
      "execution_count": 4,
      "metadata": {},
      "outputs": [],
      "source": [
        "plt.figure(figsize=(12, 12))\n",
        "pos = nx.spring_layout(G, k=0.15)  # Layout for better spacing\n",
        "\n",
        "# Draw nodes and edges\n",
        "nx.draw_networkx_nodes(G, pos, node_size=50, node_color='skyblue')\n",
        "nx.draw_networkx_edges(G, pos, alpha=0.5)\n",
        "\n",
        "plt.title(\"Kinship Network from CBDB KIN_DATA\")\n",
        "plt.axis('off')\n",
        "plt.show()"
      ],
      "id": "98d02374"
    }
  ],
  "nbformat": 4,
  "nbformat_minor": 5,
  "metadata": {
    "kernelspec": {
      "name": "python3",
      "display_name": "Python 3 (ipykernel)",
      "language": "python"
    },
    "language_info": {
      "name": "python",
      "codemirror_mode": {
        "name": "ipython",
        "version": "3"
      },
      "file_extension": ".py",
      "mimetype": "text/x-python",
      "nbconvert_exporter": "python",
      "pygments_lexer": "ipython3",
      "version": "3.10.12"
    }
  }
}