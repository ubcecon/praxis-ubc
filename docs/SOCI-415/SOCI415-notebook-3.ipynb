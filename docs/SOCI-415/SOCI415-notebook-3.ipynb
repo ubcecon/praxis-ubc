{
  "cells": [
    {
      "cell_type": "markdown",
      "metadata": {},
      "source": [
        "# SOCI 415 Network Analysis - CBDB Dataset\n",
        "\n",
        "The China Biographical Database Abstract: The China Biographical\n",
        "Database is a freely accessible relational database with biographical\n",
        "information about approximately 641,568 individuals as of August 2024,\n",
        "currently mainly from the 7th through 19th centuries. With both online\n",
        "and offline versions, the data is meant to be useful for statistical,\n",
        "social network, and spatial analysis as well as serving as a kind of\n",
        "biographical reference. The image below shows the spatial distribution\n",
        "of a cross dynastic subset of 190,000 people in CBDB by basic\n",
        "affiliations\n",
        "\n",
        "Display values within the dataset"
      ],
      "id": "3abdb327-d455-40df-85e2-27160fd3dad7"
    },
    {
      "cell_type": "code",
      "execution_count": 1,
      "metadata": {},
      "outputs": [],
      "source": [
        "import sqlite3\n",
        "import pandas as pd\n",
        "\n",
        "db_path = r'C:\\Users\\alexr\\OneDrive\\Desktop\\WORK\\Summer2025\\latest.db'\n",
        "conn = sqlite3.connect(db_path)\n",
        "cursor = conn.cursor()\n",
        "\n",
        "# List all tables\n",
        "cursor.execute(\"SELECT name FROM sqlite_master WHERE type='table';\")\n",
        "tables = cursor.fetchall()\n",
        "\n",
        "print(\"Tables in database:\", tables)\n",
        "\n",
        "conn.close()"
      ],
      "id": "cdade1ed"
    },
    {
      "cell_type": "markdown",
      "metadata": {},
      "source": [
        "Load the one we want"
      ],
      "id": "7d07250f-061b-4eb3-beeb-135b0e6d9bd7"
    },
    {
      "cell_type": "code",
      "execution_count": 2,
      "metadata": {},
      "outputs": [],
      "source": [
        "db_path = r'C:\\Users\\alexr\\OneDrive\\Desktop\\WORK\\Summer2025\\latest.db'\n",
        "\n",
        "# Connect to the database\n",
        "conn = sqlite3.connect(db_path)\n",
        "\n",
        "# Replace 'person' with the actual table name you want to load\n",
        "df = pd.read_sql_query(\"SELECT * FROM KIN_DATA\", conn)\n",
        "\n",
        "# Show the first few rows\n",
        "print(df.head())\n",
        "\n",
        "conn.close()"
      ],
      "id": "de3344e3"
    },
    {
      "cell_type": "markdown",
      "metadata": {},
      "source": [
        "Build the NetworkX Graph"
      ],
      "id": "4b5fe638-b099-4a23-9d2c-b05b57862d1c"
    },
    {
      "cell_type": "code",
      "execution_count": 3,
      "metadata": {},
      "outputs": [],
      "source": [
        "import networkx as nx\n",
        "import matplotlib.pyplot as plt\n",
        "\n",
        "# Create an empty graph\n",
        "G = nx.Graph()\n",
        "\n",
        "# Add edges with kinship type as edge attribute\n",
        "for _, row in df.iterrows():\n",
        "    person = row['c_personid']\n",
        "    kin = row['c_kin_id']\n",
        "    kin_type = row['c_kin_code']\n",
        "    G.add_edge(person, kin, kinship=kin_type)\n",
        "\n",
        "print(f\"Number of nodes: {G.number_of_nodes()}\")\n",
        "print(f\"Number of edges: {G.number_of_edges()}\")"
      ],
      "id": "75f98129"
    },
    {
      "cell_type": "markdown",
      "metadata": {},
      "source": [
        "Visualize the network"
      ],
      "id": "d3d754c8-a27c-45ab-85a0-ea8a6421af37"
    },
    {
      "cell_type": "code",
      "execution_count": 4,
      "metadata": {},
      "outputs": [],
      "source": [
        "plt.figure(figsize=(12, 12))\n",
        "pos = nx.spring_layout(G, k=0.15)  # Layout for better spacing\n",
        "\n",
        "# Draw nodes and edges\n",
        "nx.draw_networkx_nodes(G, pos, node_size=50, node_color='skyblue')\n",
        "nx.draw_networkx_edges(G, pos, alpha=0.5)\n",
        "\n",
        "plt.title(\"Kinship Network from CBDB KIN_DATA\")\n",
        "plt.axis('off')\n",
        "plt.show()"
      ],
      "id": "288b2563"
    }
  ],
  "nbformat": 4,
  "nbformat_minor": 5,
  "metadata": {
    "kernelspec": {
      "name": "python3",
      "display_name": "Python 3 (ipykernel)",
      "language": "python"
    },
    "language_info": {
      "name": "python",
      "codemirror_mode": {
        "name": "ipython",
        "version": "3"
      },
      "file_extension": ".py",
      "mimetype": "text/x-python",
      "nbconvert_exporter": "python",
      "pygments_lexer": "ipython3",
      "version": "3.10.12"
    }
  }
}