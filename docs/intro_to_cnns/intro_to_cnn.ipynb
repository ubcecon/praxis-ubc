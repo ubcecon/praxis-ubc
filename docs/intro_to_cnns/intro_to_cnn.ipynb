{
  "cells": [
    {
      "cell_type": "markdown",
      "metadata": {},
      "source": [
        "---\n",
        "title: 'Mostly Harmless Convolutional Neural Networks (CNNs)'\n",
        "author: _Kaiyan Zhang,  prAxIs UBC Team_\n",
        "date: 2025-07-24\n",
        "categories:\n",
        "  - Python\n",
        "  - convolutional neural networks\n",
        "  - machine learning\n",
        "  - convolutions\n",
        "format:\n",
        "  html: \n",
        "    code-fold: true\n",
        "    code-summary: \"Show the code\"\n",
        "\n",
        "  ipynb:\n",
        "    jupyter:\n",
        "      kernelspec:\n",
        "        display_name: Python\n",
        "        language: python3\n",
        "        name: python3\n",
        "        \n",
        "---\n",
        "\n",
        "**Before you begin: Install the dependencies that you don't have by running the code cell below.**"
      ]
    },
    {
      "cell_type": "code",
      "metadata": {},
      "source": [
        "# !pip install opencv-python\n",
        "# !pip install numpy\n",
        "# !pip install matplotlib\n",
        "# !pip install pandas\n",
        "# !pip install scikit-learn\n",
        "# !pip install seaborn\n",
        "# !pip install datasets\n",
        "# !pip install torch\n",
        "# !pip install tqdm"
      ],
      "execution_count": null,
      "outputs": []
    },
    {
      "cell_type": "markdown",
      "metadata": {},
      "source": [
        "<img src=\"media/CNN_example.jpg\" alt=\"A visual explanation of CNN\" width=\"800\"/>\n",
        "\n",
        "### What are Neural Networks?\n",
        "\n",
        "What is the first thing that comes to your mind when you hear the word \"**neural network**\"? If you are thinking about the human brain and neurons, you are not wrong. In fact, the term \"neural network\" is inspired by the way how human brain and nervous systems work, where neurons are connected to each other and communicate with each other to process information. \n",
        "\n",
        "In the context of **machine learning**, a neural network, or more precisely, an **artificial neural network (ANN)** is defined as \"a program, or model, that makes decisions in a manner similar to the human brain, by using processes that mimic the way biological neurons work together to identify phenomena, weigh options and arrive at conclusions\".\n",
        "\n",
        "The definition seems way too formal and scientific, but we can easily translate it into daily language. Think of taking a closed-book multiple choice exam (Oops, gross). Your brain calls on a team of \"experts\", one for course facts, another for what you remember about the professor's hints in class, another for gut instincts, etc. When you read a question, each expert gives you a confidence score. You weight each score by how much you trust that expert, then add them up. The answer with the highest total \"trust $\\times$ confidence\" wins. After the exam, you see which answers were wrong and adjust those trust weights (trust the right experts more, the wrong ones less), and prepare for the next exam based on this experience. This exactly how a neural network makes decisions and learns via its **feedback loop**. Neural networks are following a similar thought and learning process as you and me, and this is why they are flexible and powerful, being able to handle complex, abstract tasks and evolve on their own, **like an intelligent creature**. \n",
        "\n",
        "While the core idea is not complex, you may want to master some bluffing terms to translate the professional discussions. In the example above, the \"experts\" you consulted in your mind are called **neurons**; the key clues you noticed when reading question are called **features**; your understanding of exam question is called the **input layer**; your thought process rounds are called **hidden layers**; your chosen answer is reflected as the **output layer**; the mind map that connects all the \"experts\" and input features is **architecture**; and each exam attempt with the review of feedback is called a **training epoch**. See, they are really not that deep! You now can also talk about it as an expert.\n",
        "\n",
        "### An Intuitive Understanding of Convolutional Neural Networks (CNNs)\n",
        "\n",
        "Now that we understood what is an artificial neural network, let's dive into the real topic here: What's unique about **convolutional neural networks (CNNs)** and why they are revolutionary to computer vision and image processing? \n",
        "\n",
        "Let's start by discussing the unique point of CNNs. Imagine you are reading a bird guide and trying to learn the characteristics of a night heron and a grey heron so that you can easily distinguish between the two in the field, what would you do? I believe you would naturally try to observe the birds piece by piece: first comparing the features of the juveniles and adults, then noting how they look both in flight and on land. Gradually, your brain forms a complete comparison: the night heron has a shorter beak, a shorter neck, striking red eyes, and dark blue plumage as an adult; while the grey heron has a longer beak, a longer neck, yellow eyes, and wears grey color plumage. \n",
        "\n",
        "<p align=\"center\">\n",
        "  <figure style=\"display:inline-block; margin:10px;\">\n",
        "    <img src=\"media/night_heron.jpg\" alt=\"A night heron\" width=\"300\"/>\n",
        "    <figcaption style=\"text-align:center;\">Night heron in a bird guide</figcaption>\n",
        "  </figure>\n",
        "\n",
        "  <figure style=\"display:inline-block; margin:10px;\">\n",
        "    <img src=\"media/grey_heron.jpg\" alt=\"A grey herom\" width=\"370\"/>\n",
        "    <figcaption style=\"text-align:center;\">Grey heron in a bird guide</figcaption>\n",
        "  </figure>\n",
        "</p>\n",
        "\n",
        "A convolutional neural network would read things in the same way, as it doesn't look at things in a big picture directly (which is usually costly and slow), but would see an image as multiple small **patches** to study the unique features and construct a detailed field guide of its own. The way how a CNN sees things this way is through **convolution**: it has a **convolutional layer** on top of the input layer to learn features piece by piece in its architecture, such that it can process information from an image in a cleverer way. Moreover, CNNs work quite well even when training images are not as tidy and organized as those in a field guide, which makes it efficient in solving real-life problems. \n",
        "\n",
        "Let's recall some basic concepts of convolution and see how they are applied in the CNNs, typically within the convolutional layer. Here, the **inputs** are images, and they are interpreted by a computer as grids of numbers. The **kernels** (also called filters) are still the \"brushes\" you apply on the input image to extract certain features, but in a CNN, there are usually multiple distinct kernels applied at the same time to extract and map different features. After different features are extracted, they will be pooled together with another kernel and produce a summarized output to be passed into the **fully-connected layer** for classification or other tasks.\n",
        "\n",
        "While the principles behind the architectures are complicated, many python libraries now offer easy ways to implement these architectures. In a word, with a labeled image dataset, you can also train a CNN classifier yourself. Let's try out an example together.\n",
        "\n",
        "### (Optional) Build Our Own CNN Classifier: An Example Using CIFAR-10 Dataset\n",
        "\n",
        "Classifying is central in the application of CNNs, so let's try building a classifier using CNN and see how it works with an example. Let's say, we want to train a model (the \"expert\") that identify and distinguish between some daily objects, such as cars, planes, cat, dogs, etc. We first need to find a dataset that contains images of these objects with labels. **This is usually hard as we wouldn't always have clean, labelled datasets of a specific topic**. But luckily, we have many datasets for daily objects.\n",
        "\n",
        "The dataset we are using here is [CIFAR-10](https://www.cs.toronto.edu/~kriz/cifar.html), it is a widely used practice dataset for beginners to image processing that consists of 60000 32 $\\times$ 32 colour images in 10 classes, with 6000 images per class. There are 50000 training images and 10000 test images. Let's first load the dataset and see what it's like.\n",
        "\n",
        "#### Step 1: Data Preprocessing"
      ]
    },
    {
      "cell_type": "code",
      "metadata": {},
      "source": [
        "# import CIFAR-10 dataset from HuggingFace\n",
        "from datasets import load_dataset\n",
        "\n",
        "dataset_train = load_dataset(\n",
        "    'cifar10',\n",
        "    split='train'# training dataset\n",
        ")\n",
        "\n",
        "dataset_train"
      ],
      "execution_count": null,
      "outputs": []
    },
    {
      "cell_type": "code",
      "metadata": {},
      "source": [
        "# check how many labels/number of classes\n",
        "num_classes = len(set(dataset_train['label']))\n",
        "num_classes"
      ],
      "execution_count": null,
      "outputs": []
    },
    {
      "cell_type": "markdown",
      "metadata": {},
      "source": [
        "We can also display one of the images to see what it's like."
      ]
    },
    {
      "cell_type": "code",
      "metadata": {},
      "source": [
        "# let's view the image (it's very small)\n",
        "import matplotlib.pyplot as plt\n",
        "sample = dataset_train[0]['img']\n",
        "\n",
        "plt.imshow(sample)\n",
        "plt.axis('off')\n",
        "plt.show()"
      ],
      "execution_count": null,
      "outputs": []
    },
    {
      "cell_type": "markdown",
      "metadata": {},
      "source": [
        "Can you see what the image is about? Can you imagine how computers understands it?\n",
        "\n",
        "As most CNNs can only accept images of a fixed size, we will reshape all images to 32 $\\times$ 32 pixels using `torchvision.transforms`; a **pipeline** built for image preprocessing. You can think of a pipeline as a series of small programs that together handles a specific task in a sequential order, which in here is resizing the images in the training set."
      ]
    },
    {
      "cell_type": "code",
      "metadata": {},
      "source": [
        "import torchvision.transforms as transforms\n",
        "from tqdm.auto import tqdm\n",
        "\n",
        "# image size\n",
        "img_size = 32\n",
        "\n",
        "# preprocess variable, to be used ahead\n",
        "preprocess = transforms.Compose([\n",
        "    transforms.Resize((img_size,img_size)),\n",
        "    transforms.ToTensor()\n",
        "])\n",
        "\n",
        "inputs_train = []\n",
        "\n",
        "for record in tqdm(dataset_train):\n",
        "    image = record['img']\n",
        "    label = record['label']\n",
        "\n",
        "    # convert from grayscale to RGB\n",
        "    if image.mode == 'L':\n",
        "        image = image.convert(\"RGB\")\n",
        "        \n",
        "    # prepocessing\n",
        "    input_tensor = preprocess(image)\n",
        "    \n",
        "    # append to batch list\n",
        "    inputs_train.append([input_tensor, label]) "
      ],
      "execution_count": null,
      "outputs": []
    },
    {
      "cell_type": "markdown",
      "metadata": {},
      "source": [
        "Other than normalizing the general size of the images, we should also normalize the pixel values in the dataset."
      ]
    },
    {
      "cell_type": "code",
      "metadata": {},
      "source": [
        "mean = [0.4670, 0.4735, 0.4662]\n",
        "std = [0.2496, 0.2489, 0.2521]\n",
        "\n",
        "preprocess = transforms.Compose([\n",
        "    transforms.Normalize(mean=mean, std=std)\n",
        "])\n",
        "\n",
        "for i in tqdm(range(len(inputs_train))):\n",
        "    # prepocessing\n",
        "    input_tensor = preprocess(inputs_train[i][0])\n",
        "    # replace with normalized tensor\n",
        "    inputs_train[i][0] = input_tensor"
      ],
      "execution_count": null,
      "outputs": []
    },
    {
      "cell_type": "markdown",
      "metadata": {},
      "source": [
        "Here, we load and process the training set that we are using to validate the model quality."
      ]
    },
    {
      "cell_type": "code",
      "metadata": {},
      "source": [
        "# Loading the dataset\n",
        "dataset_val = load_dataset(\n",
        "    'cifar10',\n",
        "    split='test'  # test set (used as validation set)\n",
        ")\n",
        "\n",
        "# Integrate the preprocessing steps\n",
        "preprocess = transforms.Compose([\n",
        "    transforms.Resize((img_size,img_size)),\n",
        "    transforms.ToTensor(),\n",
        "    transforms.Normalize(mean=mean, std=std)\n",
        "])\n",
        "\n",
        "inputs_val = []\n",
        "i = 0\n",
        "for record in tqdm(dataset_val):\n",
        "    image = record['img']\n",
        "    label = record['label']\n",
        "\n",
        "    # convert from grayscale to RBG\n",
        "    if image.mode == 'L':\n",
        "        image = image.convert(\"RGB\")\n",
        "        \n",
        "    # prepocessing\n",
        "    input_tensor = preprocess(image)\n",
        "    inputs_val.append((input_tensor, label)) # append to batch list"
      ],
      "execution_count": null,
      "outputs": []
    },
    {
      "cell_type": "markdown",
      "metadata": {},
      "source": [
        "We noticed that the testing and training data are gigantic in size, which would lag our trainings. To avoid the long training time and huge training cost, we often need to split our data into multiple small **batches**. \n",
        "\n",
        "In CNN training, choosing a batch size of, say, 32 or 64 gives you the best of both worlds: you \"study\" small, manageable mini-quizzes, get regular feedback to adjust your filter-weights, and keep your compute requirements reasonable, all while learning robustly across the entire image dataset."
      ]
    },
    {
      "cell_type": "code",
      "metadata": {},
      "source": [
        "import torch\n",
        "\n",
        "# Given the amount of data, we set the batch size as 64 to improve the efficiency when running our model\n",
        "batch_size = 64\n",
        "\n",
        "# We use DataLoader to split both the training and validation dataset into shuffled batches. \n",
        "# Shuffle helps prevent model overfitting by ensuring that batches are more representative of the entire dataset.\n",
        "dloader_train = torch.utils.data.DataLoader(\n",
        "    inputs_train, batch_size=batch_size, shuffle=True\n",
        ")\n",
        "\n",
        "dloader_val = torch.utils.data.DataLoader(\n",
        "    inputs_val, batch_size=batch_size, shuffle=False\n",
        ")"
      ],
      "execution_count": null,
      "outputs": []
    },
    {
      "cell_type": "markdown",
      "metadata": {},
      "source": [
        "#### Step 2: Training the CNN Classifier\n",
        "\n",
        "After carefully processing both the training and the test data, we finally came to a stage where we can train our own CNN classifier. The first thing we need to do is to decide which **architecture** we want to use for the model.\n",
        "\n",
        "Architecture determines the way how a CNN integrate and learn from the features it extracted, and thus largely determines the performance of a model. Throughout the years, there have been several hugely successful CNN architectures, which we won't be able to discuss in detail. Here, I will only demonstrate the architecture of **LeNet-5**: It reads images in a sequence that starts with a partial and combines the partials into a comprehensive one. Intuitively, the learning process of this architecture can be thought as learning to write a new character: You learn to write each stroke first, and then follow the structure of the character to put those strokes together into a complete character.\n",
        "\n",
        "<img src=\"media/lenet5.png\" alt=\"A visual comparison of two neural networks\" width=\"700\"/>"
      ]
    },
    {
      "cell_type": "code",
      "metadata": {},
      "source": [
        "import torch.nn as nn\n",
        "\n",
        "# creating a CNN class\n",
        "class ConvNeuralNet(nn.Module):\n",
        "\t#  determine what layers and their order in CNN object \n",
        "    def __init__(self, num_classes):\n",
        "        super(ConvNeuralNet, self).__init__()\n",
        "        self.conv_layer1 = nn.Conv2d(in_channels=3, out_channels=64, kernel_size=4, padding=1)\n",
        "        self.relu1 = nn.ReLU()\n",
        "        self.max_pool1 = nn.MaxPool2d(kernel_size=3, stride=2)\n",
        "\n",
        "        self.conv_layer2 = nn.Conv2d(in_channels=64, out_channels=192, kernel_size=4, padding=1)\n",
        "        self.relu2 = nn.ReLU()\n",
        "        self.max_pool2 = nn.MaxPool2d(kernel_size=3, stride=2)\n",
        "\n",
        "        self.conv_layer3 = nn.Conv2d(in_channels=192, out_channels=384, kernel_size=3, padding=1)\n",
        "        self.relu3 = nn.ReLU()\n",
        "        \n",
        "        self.conv_layer4 = nn.Conv2d(in_channels=384, out_channels=256, kernel_size=3, padding=1)\n",
        "        self.relu4 = nn.ReLU()\n",
        "\n",
        "        self.conv_layer5 = nn.Conv2d(in_channels=256, out_channels=256, kernel_size=3, padding=1)\n",
        "        self.relu5 = nn.ReLU()\n",
        "        self.max_pool5 = nn.MaxPool2d(kernel_size=3, stride=2)\n",
        "        \n",
        "        self.dropout6 = nn.Dropout(p=0.5)\n",
        "        self.fc6 = nn.Linear(1024, 512)\n",
        "        self.relu6 = nn.ReLU()\n",
        "        self.dropout7 = nn.Dropout(p=0.5)\n",
        "        self.fc7 = nn.Linear(512, 256)\n",
        "        self.relu7 = nn.ReLU()\n",
        "        self.fc8 = nn.Linear(256, num_classes)\n",
        "    \n",
        "    # progresses data across layers    \n",
        "    def forward(self, x):\n",
        "        out = self.conv_layer1(x)\n",
        "        out = self.relu1(out)\n",
        "        out = self.max_pool1(out)\n",
        "        \n",
        "        out = self.conv_layer2(out)\n",
        "        out = self.relu2(out)\n",
        "        out = self.max_pool2(out)\n",
        "\n",
        "        out = self.conv_layer3(out)\n",
        "        out = self.relu3(out)\n",
        "\n",
        "        out = self.conv_layer4(out)\n",
        "        out = self.relu4(out)\n",
        "\n",
        "        out = self.conv_layer5(out)\n",
        "        out = self.relu5(out)\n",
        "        out = self.max_pool5(out)\n",
        "        \n",
        "        out = out.reshape(out.size(0), -1)\n",
        "        \n",
        "        out = self.dropout6(out)\n",
        "        out = self.fc6(out)\n",
        "        out = self.relu6(out)\n",
        "\n",
        "        out = self.dropout7(out)\n",
        "        out = self.fc7(out)\n",
        "        out = self.relu7(out)\n",
        "\n",
        "        out = self.fc8(out)  # final logits\n",
        "        return out"
      ],
      "execution_count": null,
      "outputs": []
    },
    {
      "cell_type": "markdown",
      "metadata": {},
      "source": [
        "After designing the network architecture, we initialize it. And if we have access to hardware acceleration (through CUDA or MPS), we move the model to that device to speed up the training. "
      ]
    },
    {
      "cell_type": "code",
      "metadata": {},
      "source": [
        "import torch\n",
        "\n",
        "device = \"cuda\" if torch.cuda.is_available() else \"cpu\"\n",
        "# set the model to device\n",
        "model = ConvNeuralNet(num_classes).to(device)"
      ],
      "execution_count": null,
      "outputs": []
    },
    {
      "cell_type": "markdown",
      "metadata": {},
      "source": [
        "Next, we will set the loss and optimizer function used during the training. These are the factors that determine how much your network learn from the mistakes and adjust the distribution of weights how it trust the \"experts\". \n",
        "\n",
        "The **loss function** is a metric that measures the classification performance. Here the Cross-Entropy Loss function is one of them that is commonly used in neural networks. The **optimizer function drives** the model to reflect and adjust its weights after each validation, and its parameter **learning rate** decides how much the model absorb from the lessons. While it seems that a higher learning rate is beneficial, it is actually not as a high learning rate could lead to severe overshooting. That's why we set the learning rate `lr = 0.01` here to prevent overly progressive learning."
      ]
    },
    {
      "cell_type": "code",
      "metadata": {},
      "source": [
        "# set loss function\n",
        "loss_func = nn.CrossEntropyLoss()\n",
        "# set learning rate \n",
        "lr = 0.01\n",
        "# set optimizer as SGD\n",
        "optimizer = torch.optim.SGD(\n",
        "    model.parameters(), lr=lr\n",
        ") "
      ],
      "execution_count": null,
      "outputs": []
    },
    {
      "cell_type": "markdown",
      "metadata": {},
      "source": [
        "We will train the model for 25 epochs. To ensure we’re not overfitting to the training set, we pass the validation set through the model for inference only at the end of each epoch. If we see validation set performance suddenly degrade while train set performance improves, we are likely overfitting.\n",
        "\n",
        "You can run the training and fitting loop as follows, but **be cautious: This cell will take a long time to run**. Alternatively, you can skip 3 cells and load the model we pre-trained directly."
      ]
    },
    {
      "cell_type": "code",
      "metadata": {},
      "source": [
        "train_losses = []\n",
        "val_losses = []\n",
        "val_accuracies = []\n",
        "\n",
        "num_epochs = 25\n",
        "for epoch in range(num_epochs):\n",
        "    model.train()\n",
        "    running_loss = 0.0\n",
        "    \n",
        "    for i, (images, labels) in enumerate(dloader_train):  \n",
        "        images = images.to(device)\n",
        "        labels = labels.to(device)\n",
        "        \n",
        "        outputs = model(images)\n",
        "        loss = loss_func(outputs, labels)\n",
        "        \n",
        "        optimizer.zero_grad()\n",
        "        loss.backward()\n",
        "        optimizer.step()\n",
        "        \n",
        "        running_loss += loss.item()\n",
        "        \n",
        "    avg_train_loss = running_loss / len(dloader_train)\n",
        "    train_losses.append(avg_train_loss)\n",
        "    \n",
        "    with torch.no_grad():\n",
        "        model.eval()\n",
        "        correct = 0\n",
        "        total = 0\n",
        "        all_val_loss = []\n",
        "        for images, labels in dloader_val:\n",
        "            images = images.to(device)\n",
        "            labels = labels.to(device)\n",
        "            outputs = model(images)\n",
        "            total += labels.size(0)\n",
        "            predicted = torch.argmax(outputs, dim=1)\n",
        "            correct += (predicted == labels).sum().item()\n",
        "            all_val_loss.append(loss_func(outputs, labels).item())\n",
        "            \n",
        "        mean_val_loss = sum(all_val_loss) / len(all_val_loss)\n",
        "        mean_val_acc = 100 * (correct / total)\n",
        "        \n",
        "        val_losses.append(mean_val_loss)\n",
        "        val_accuracies.append(mean_val_acc)\n",
        "        \n",
        "    print(f'Epoch [{epoch+1}/{num_epochs}], Train Loss: {avg_train_loss:.4f}, Val Loss: {mean_val_loss:.4f}, Val Acc: {mean_val_acc:.2f}%')"
      ],
      "execution_count": null,
      "outputs": []
    },
    {
      "cell_type": "markdown",
      "metadata": {},
      "source": [
        "We can visualize how training loss, validation loss and validation accuracy evolve over time."
      ]
    },
    {
      "cell_type": "code",
      "metadata": {},
      "source": [
        "plt.figure(figsize=(12,5))\n",
        "\n",
        "# Plot Loss\n",
        "plt.subplot(1,2,1)\n",
        "plt.plot(train_losses, label='Training Loss')\n",
        "plt.plot(val_losses, label='Validation Loss')\n",
        "plt.xlabel('Epoch')\n",
        "plt.ylabel('Loss')\n",
        "plt.title('Loss Curve')\n",
        "plt.legend()\n",
        "\n",
        "# Plot Accuracy\n",
        "plt.subplot(1,2,2)\n",
        "plt.plot(val_accuracies, label='Validation Accuracy', color='green')\n",
        "plt.xlabel('Epoch')\n",
        "plt.ylabel('Accuracy (%)')\n",
        "plt.title('Validation Accuracy Curve')\n",
        "plt.legend()\n",
        "\n",
        "plt.tight_layout()\n",
        "plt.show()"
      ],
      "execution_count": null,
      "outputs": []
    },
    {
      "cell_type": "markdown",
      "metadata": {},
      "source": [
        "The loss curve and validation accuracy curve show that the training loss and validation loss goes down while the validation accuracy of the model goes up as the training epochs increase. If we add more epochs (costly!), the validation accuracy of the model will be higher, but the model will also be more at risk of overfitting. To prevent which, we often need to regularize the model.\n",
        "\n",
        "After training for 25 epochs, we see our validation accuracy has passed 70%, we can save the model to file and load it again with the following codes:"
      ]
    },
    {
      "cell_type": "code",
      "metadata": {},
      "source": [
        "# save to file\n",
        "torch.save(model, 'data/cnn.pt')"
      ],
      "execution_count": null,
      "outputs": []
    },
    {
      "cell_type": "code",
      "metadata": {},
      "source": [
        "# load from file and switch to inference mode\n",
        "model = torch.load('data/cnn.pt', weights_only=False)\n",
        "model.eval()"
      ],
      "execution_count": null,
      "outputs": []
    },
    {
      "cell_type": "markdown",
      "metadata": {},
      "source": [
        "#### Step 3: Inference the Classifier\n",
        "\n",
        "Now, we can use the trained classifier to predict the labels of the new input. But here, we are just using the test set for validation (which is not recommended)."
      ]
    },
    {
      "cell_type": "code",
      "metadata": {},
      "source": [
        "input_tensors = []\n",
        "\n",
        "for image in dataset_val['img'][:10]:\n",
        "    tensor = preprocess(image)\n",
        "    input_tensors.append(tensor.to(device))\n",
        "\n",
        "# stack into a single tensor\n",
        "input_tensors = torch.stack(input_tensors)\n",
        "input_tensors.shape"
      ],
      "execution_count": null,
      "outputs": []
    },
    {
      "cell_type": "code",
      "metadata": {},
      "source": [
        "# process through model to get output logits\n",
        "outputs = model(input_tensors)\n",
        "# calculate predictions\n",
        "predicted = torch.argmax(outputs, dim=1)\n",
        "predicted\n",
        "\n",
        "# here are the class names\n",
        "dataset_val.features['label'].names"
      ],
      "execution_count": null,
      "outputs": []
    },
    {
      "cell_type": "code",
      "metadata": {},
      "source": [
        "# Print out the output label and the true label\n",
        "for i in range(10):\n",
        "    example = dataset_val[i]           # get the i-th example as a dict\n",
        "    image   = example['img']\n",
        "    true_id = example['label']\n",
        "    pred_id = predicted[i]\n",
        "    \n",
        "    true_label = dataset_val.features['label'].names[true_id]\n",
        "    pred_label = dataset_val.features['label'].names[pred_id]\n",
        "    \n",
        "    plt.figure(figsize=(4,4))\n",
        "    plt.imshow(image)\n",
        "    plt.title(f\"True: {true_label}   |   Pred: {pred_label}\")\n",
        "    plt.axis('off')\n",
        "    plt.show()"
      ],
      "execution_count": null,
      "outputs": []
    },
    {
      "cell_type": "markdown",
      "metadata": {},
      "source": [
        "We can visualize the feature maps at different layers to see how the CNN see images."
      ]
    },
    {
      "cell_type": "code",
      "metadata": {},
      "source": [
        "# Visualization of features at different layers\n",
        "import torchvision.transforms as T\n",
        "\n",
        "to_tensor = T.ToTensor()\n",
        "\n",
        "pil_img, _ = dataset_val[0]['img'], dataset_val[0]['label']\n",
        "\n",
        "input_tensor = to_tensor(pil_img).unsqueeze(0).to(device)\n",
        "\n",
        "activations = {}\n",
        "def get_activation(name):\n",
        "    def hook(model, input, output):\n",
        "        activations[name] = output.detach().cpu()\n",
        "    return hook\n",
        "\n",
        "for layer_name in ['conv_layer1','conv_layer2','conv_layer3','conv_layer4','conv_layer5']:\n",
        "    getattr(model, layer_name).register_forward_hook(get_activation(layer_name))\n",
        "\n",
        "model.eval()\n",
        "with torch.no_grad():\n",
        "    _ = model(input_tensor)\n",
        "\n",
        "# Plot the feature map\n",
        "for name, fmap in activations.items():\n",
        "    num_filters = fmap.shape[1]\n",
        "    cols = 6\n",
        "    rows = min((num_filters + cols - 1) // cols, 4)\n",
        "    fig, axes = plt.subplots(rows, cols, figsize=(cols*2, rows*2))\n",
        "    fig.suptitle(f'Feature maps from {name}', fontsize=16)\n",
        "    for i in range(rows * cols):\n",
        "        r, c = divmod(i, cols)\n",
        "        ax = axes[r, c] if rows > 1 else axes[c]\n",
        "        if i < num_filters:\n",
        "            ax.imshow(fmap[0, i], cmap='viridis')\n",
        "            ax.set_title(f'#{i}')\n",
        "        ax.axis('off')\n",
        "    plt.tight_layout()\n",
        "    plt.show()"
      ],
      "execution_count": null,
      "outputs": []
    },
    {
      "cell_type": "markdown",
      "metadata": {},
      "source": [
        "We can see that the model made mostly correct predictions, despite the image quality was low that even human may have difficulty to correctly classify. This somewhat shows the advantage of CNNs over humans when confronted with complex, blurry images, but CNNs have more applications than that. They power a host of real-world applications, from enabling your smartphone’s camera to automatically recognize faces and apply portrait effects, to guiding autonomous vehicles by detecting pedestrians, road signs, and lane markings in real time. In healthcare, CNNs help radiologists spot tumors in MRI and CT scans, and dermatologists classify skin lesions from photos. They underpin optical character recognition for digitizing handwritten forms, fuel quality-control systems that spot manufacturing defects on assembly lines, and even drive wildlife monitoring by identifying animals in camera-trap images.\n",
        "\n",
        "This technology is also reshaping some humanities and social science research. For example, in archaeology, CNNs are being used to categorize, complete, and translate broken clay tablets and cuneiform texts; in art history, CNNs are being used to study the pigments and materials used in paintings, as well as the expressions and gestures of the figures in them; and in anthropology, CNNs are being used to distinguish between human races and complex kinships. It is for this reason that we are here to introduce it to you! I hope you enjoyed the class and got something different out of it!\n",
        "\n",
        "### Key takeaways from this part:\n",
        "\n",
        "1. **Artificial Neural Networks (ANNs)** are programs or models that make decisions in a similar manner to the thought process of a human brain. \n",
        "2. **Convolutional Neural Networks (CNNs)** differ from other neural networks in the **convolutional layer** that allows them to understand features from image input in a more efficient way.\n",
        "3. **Architectures** are central in neural networks as they determine the ways how a model learn from the input features and thereby determine the model performance.\n",
        "4. Machine Learning and CNNs are fun and practical in the field of humanities and social sciences!\n",
        "\n",
        "### Additional Resources\n",
        "- [MLU-EXPLAIN: Neural Networks](https://mlu-explain.github.io/neural-networks/): A website with straightforward explanation and interactive visualizations of neural networks (with some math and technical terms), including more professional terminologies and advanced concepts that we won't cover in this notebook. But if you find this notebook to be too light and really hope to learn more, this is a good place to go!\n",
        "- [CNN Explainer](https://poloclub.github.io/cnn-explainer/): An interesting interactive tutorial that explains how CNN work in a more visual way (but you may also find the explanation a little too technical). Try it out! You can also upload your own images of interest to see how the neural network processes them and classify them. Do you get the same results as you expected? What can you say about it?\n",
        "\n",
        "### References\n",
        "\n",
        "- Pinecone. Embedding Methods for Image Search. <https://www.pinecone.io/learn/series/image-search>\n",
        "- IBM. What is a neural network? <https://www.ibm.com/think/topics/neural-networks>\n",
        "- IBM. What are convolutional neural networks? <https://www.ibm.com/think/topics/convolutional-neural-networks>\n",
        "- Convolutional Neural Network From Scratch. <https://medium.com/latinxinai/convolutional-neural-network-from-scratch-6b1c856e1c07>\n"
      ]
    }
  ],
  "metadata": {
    "kernelspec": {
      "display_name": "Python 3",
      "language": "python",
      "name": "python3"
    }
  },
  "nbformat": 4,
  "nbformat_minor": 4
}