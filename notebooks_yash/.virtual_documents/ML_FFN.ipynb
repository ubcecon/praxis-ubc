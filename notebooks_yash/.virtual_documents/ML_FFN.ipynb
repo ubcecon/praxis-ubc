import numpy as np
import matplotlib.pyplot as plt
from graphviz import Digraph
from IPython.display import display
from ipywidgets import interact, FloatSlider
np.random.seed(19_750)











# Generate 20 random x values
x = np.linspace(-3, 3, 20)

# Compute y values with some noise
y = x**2 + np.random.normal(0, 1, x.shape)

# Plot the points using seaborn with slightly bigger points
plt.figure(figsize=(8, 5))
plt.scatter(x=x, y=y, s=100, alpha=0.6, label='Data')
plt.title('Some Data')
plt.xlabel('X')
plt.ylabel('Y')
plt.show()





degree = 2
# Fit a polynomial of given degree to the data using numpy
coeffs = np.polyfit(x, y, degree)

# Compute predicted y values
y_pred_2 = np.polyval(coeffs, x)

# Plot the original data and the fitted polynomial
plt.figure(figsize=(8, 5))
plt.scatter(x=x, y=y, s=100, alpha=0.6, label='Data')
plt.plot(x, y_pred_2, color='red', label=f'Degree {degree} Fit')
plt.title('A Good Fit?')
plt.xlabel('X')
plt.ylabel('Y')
plt.legend()
plt.show()





degree = 16

# Fit a polynomial of given degree to the data using numpy
coeffs = np.polyfit(x, y, degree)
# Compute predicted y values
y_pred_15 = np.polyval(coeffs, x)

# Plot the original data and the fitted polynomial
plt.figure(figsize=(8, 5))
plt.scatter(x=x, y=y, s=100, alpha=0.6, label='Data')
plt.plot(x, y_pred_15, color='orange', label=f'Degree {degree} Fit')
plt.title('A Better Fit?')
plt.xlabel('X')
plt.ylabel('Y')
plt.legend()
plt.show()





plt.figure(figsize=(8, 5))
plt.scatter(x=x, y=y, s=100, alpha=0.6, label='Data')
plt.plot(x, y_pred_15, color='orange', label=f'Degree {15} Fit')
plt.plot(x, y_pred_2, color='red', label=f'Degree {2} Fit')
plt.title('Both Together')
plt.xlabel('X')
plt.ylabel('Y')
plt.legend()
plt.show()








x = np.linspace(1, 100, 200)
# Generate y values for -log(x) with noise
y_neg_log = -np.log(x) + np.random.normal(scale=0.2, size=x.shape)

# Create the scatter plot
plt.figure(figsize=(8, 5))
plt.scatter(x, y_neg_log, label='Data', color='red', s=75, alpha=0.6)
plt.title('Some Data')
plt.xlabel('X')
plt.ylabel('Y')
plt.grid(True)
plt.legend()
plt.tight_layout()
plt.show()






x_transformed = np.sqrt(x)

# Generate y values for -log(x) with noise
y_neg_log = -np.log(x) + np.random.normal(scale=0.2, size=x.shape)

# Create the scatter plot
plt.figure(figsize=(8, 5))
plt.scatter(x_transformed, y_neg_log, label='Stretched Data', color='blue', s=75, alpha=0.6)
plt.title('Some Data')
plt.xlabel('X')
plt.ylabel('Y')
plt.grid(True)
plt.legend()
plt.tight_layout()
plt.show()






# Data
y_neg_log = -np.log(x) + np.random.normal(scale=0.2, size=x.shape)

# Fit a line
coeffs = np.polyfit(x_transformed, y_neg_log, 1)
y_fit = np.polyval(coeffs, x_transformed)

# Plot
plt.figure(figsize=(8, 5))
plt.scatter(x_transformed, y_neg_log, label='Stretched Data', color='blue', s=75, alpha=0.6)
plt.plot(x_transformed, y_fit, label='Fitted Line', color='red', linewidth=2)
plt.title('Some Data with Fitted Line')
plt.xlabel('X')
plt.ylabel('Y')
plt.grid(True)
plt.legend()
plt.tight_layout()
plt.show()





n = 500
theta = 2 * np.pi * np.random.rand(n)
r1, r2 = 5, 2
x = np.concatenate([r1 * np.cos(theta) + np.random.randn(n)*0.3, r2 * np.cos(theta) + np.random.randn(n)*0.3])
y = np.concatenate([r1 * np.sin(theta) + np.random.randn(n)*0.3, r2 * np.sin(theta) + np.random.randn(n)*0.3])
c = np.concatenate([np.zeros(n), np.ones(n)])
plt.scatter(x, y, c=c, cmap='plasma', edgecolor='k', alpha=0.7); plt.title("Ring Data")
plt.axis('equal'); plt.show()






dot = Digraph(format='png', graph_attr={'rankdir':'LR', 'size':'8,5'})

for i, layer_size, color, prefix in [(0, 2, 'lightblue', 'I'), (1, 3, 'lightgreen', 'H'), (2, 1, 'salmon', 'O')]:
    with dot.subgraph(name=f'cluster_{prefix}') as c:
        c.attr(color='white')
        for n in range(layer_size):
            c.node(f'{prefix}{n+1}', f'{prefix}{n+1}', shape='circle', style='filled', color=color)

for i, j in [(i,j) for i in range(2) for j in range(3)]:
    dot.edge(f'I{i+1}', f'H{j+1}')
for i in range(3):
    dot.edge(f'H{i+1}', 'O1')  # only one output node now

display(dot)






n=500; t=2*np.pi*np.random.rand(n)
x=np.concatenate([5*np.cos(t)+np.random.randn(n)*0.3, 2*np.cos(t)+np.random.randn(n)*0.3])
y=np.concatenate([5*np.sin(t)+np.random.randn(n)*0.3, 2*np.sin(t)+np.random.randn(n)*0.3])
z=np.concatenate([np.zeros(n), np.full(n,3)]); c=np.concatenate([np.zeros(n), np.ones(n)])
fig=plt.figure(); ax=fig.add_subplot(projection='3d')
ax.scatter(x,y,z,c=c,cmap='plasma',edgecolor='k',alpha=0.7);plt.title("Like this (maybe)");plt.show()





n=500; t=2*np.pi*np.random.rand(n)
x=np.concatenate([5*np.cos(t)+np.random.randn(n)*0.3, 2*np.cos(t)+np.random.randn(n)*0.3])
y=np.concatenate([5*np.sin(t)+np.random.randn(n)*0.3, 2*np.sin(t)+np.random.randn(n)*0.3])
z=np.concatenate([np.zeros(n), np.full(n,3)])
c=np.concatenate([np.zeros(n), np.ones(n)])

fig=plt.figure(); ax=fig.add_subplot(projection='3d')
ax.scatter(x,y,z,c=c,cmap='plasma',edgecolor='k',alpha=0.7)
xx,yy=np.meshgrid(np.linspace(-6,6,10),np.linspace(-6,6,10))
ax.plot_surface(xx,yy,np.ones_like(xx)*1.5,color='gray',alpha=0.5)
plt.title("Like this");plt.show()





dot = Digraph(format='png', graph_attr={'rankdir':'LR', 'size':'8,5'})

for layer, nodes, color in [('I', 2, 'lightblue'), ('H', 2, 'lightgreen'), ('O', 1, 'salmon')]:
    with dot.subgraph(name=f'cluster_{layer}') as c:
        c.attr(color='white')
        for n in range(nodes):
            c.node(f'{layer}{n+1}', f'{layer}{n+1}', shape='circle', style='filled', color=color, width='0.6', fixedsize='true')
        if layer == 'H':
            c.node('Hdots', '...', shape='plaintext', fontsize='20')
            c.node('Hn', 'H...n', shape='circle', style='filled', color=color, width='0.6', fixedsize='true')

for i in range(2):
    for h in [1, 2]:
        dot.edge(f'I{i+1}', f'H{h}')
    dot.edge(f'I{i+1}', 'Hdots', style='dashed')
    dot.edge(f'I{i+1}', 'Hn', style='dashed')

for h in [1, 2]:
    dot.edge(f'H{h}', 'O1')
dot.edge('Hdots', 'O1', style='dashed')
dot.edge('Hn', 'O1', style='dashed')

display(dot)






dot = Digraph(format='png', graph_attr={'rankdir':'LR', 'size':'8,5'})

layers = [
    (2, 'lightblue', 'I'),
    (4, 'lightgreen', 'H1'),
    (3, 'lightgreen', 'H2'),
    (3, 'lightgreen', 'H3'),
    (4, 'lightgreen', 'H4'),
    (1, 'salmon', 'O')
]

for size, color, prefix in layers:
    with dot.subgraph(name=f'cluster_{prefix}') as c:
        c.attr(color='white')
        for n in range(size):
            c.node(f'{prefix}{n+1}', f'{prefix}{n+1}', shape='circle', style='filled', color=color)

# connect layers in sequence
for (prev_size, _, prev_prefix), (next_size, _, next_prefix) in zip(layers, layers[1:]):
    for i in range(prev_size):
        for j in range(next_size):
            dot.edge(f'{prev_prefix}{i+1}', f'{next_prefix}{j+1}')

display(dot)






import numpy as np
import matplotlib.pyplot as plt
from ipywidgets import interact, FloatSlider

x = np.linspace(-5, 5, 50)
y = 2 * x + 1 + np.random.normal(0, 2, 50)
slopes = np.linspace(-4, 6, 100)
mse = lambda s, i=1.0: np.mean((y - (s * x + i)) ** 2)
mse_vals = [mse(s) for s in slopes]

contour_slopes = np.linspace(-10, 12, 100)
contour_intercepts = np.linspace(-8, 10, 100)
S, I = np.meshgrid(contour_slopes, contour_intercepts)
Z = np.array([[mse(S[i, j], I[i, j]) for j in range(len(contour_slopes))] for i in range(len(contour_intercepts))])

def plot(s):
    i, m = 1.0, mse(s)
    fig, ax = plt.subplots(1, 3, figsize=(15, 4))
    ax[0].plot(slopes, mse_vals)
    ax[0].scatter(s, m, color='r')
    ax[0].set(title="Loss Landscape", xlabel="Parameter", ylabel="Error")
    yp = s * x + i
    ax[1].scatter(x, y)
    ax[1].plot(x, yp, 'orange')
    ax[1].set(title="Linear Model")
    cp = ax[2].contour(S, I, Z, 20)
    ax[2].scatter(s, i, color='r', marker='x', s=100)
    ax[2].set(title="Landscape Contour Plot", xlabel="Slope", ylabel="Intercept")
    fig.colorbar(cp, ax=ax[2], label="MSE")
    plt.tight_layout()
    plt.show()

interact(plot, s=FloatSlider(value=2, min=-4, max=6, step=0.1))



