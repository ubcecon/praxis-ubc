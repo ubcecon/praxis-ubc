{
 "cells": [
  {
   "attachments": {
    "41598_2022_13983_Fig1_HTML.webp": {
     "image/webp": "[encoded data removed]"
    }
   },
   "cell_type": "markdown",
   "id": "61d34548",
   "metadata": {},
   "source": [
    "# Notebook 2: Using Regressions to Predict Age-of-Death of Skeletal Remains\n",
    "\n",
    "In archaeology, a regression is a type predictive model in which we use **measured attributes from known examples** to predict **outcomes for new finds**. \n",
    "\n",
    "- **Dependent Variable:** The single numerical value we want our model to estimate for each new observation, also called an outcome variable. Typically denoted using $Y_i$. \n",
    "\n",
    "- **Independent Variables**: The measurements or attributes we use to explain or predict our dependent variable, usually denoted using $X_{ij}$. \n",
    "\n",
    "Our dependent variable might be something like an individual’s age at death, estimated from osteometric measurements, or the approximate date of an artifact, inferred from its dimensional and compositional features. For instance, we could use a suite of cranial measurements collected from skeletal remains to predict a individual's age, or leverage sherd thickness, fabric inclusions, and decoration motifs to estimate an artifact’s production century.\n",
    "\n",
    "![41598_2022_13983_Fig1_HTML.webp](attachment:41598_2022_13983_Fig1_HTML.webp)\n",
    "\n",
    "Much arecheological research goes into reconstructing information about skeletal remains. This often poses a significant challenge-- remains are often poorly preseved, for instane, taphonomic damage such as weathering and soil activity can erode features archeologists use for identification, and many skeletal remains are incomplete, lacking bones that exibit diagnostic traits for ancestry/sex/age/stature identification such as the pelvis and pubic symphysis. Additionally, the osteoloical standards used for grouping remains were primarily developed on 19th and 20th century European collections, making applying them to prehistroic or non-european populations innacurate. \n",
    "\n",
    "<div class=\"alert alert-block alert-warning\">\n",
    "<b>Emphasizing ancestry over race:</b> \n",
    "\n",
    "Early physical anthropologists attempted to divide humans into a few “continental races” based on cranial measurements and other morphological traits. Not only were these typological methods arbitrary and varied wildly between scholars, but where deeply rooted in colonialism, eugenics, and scientific racism. The concept of a distinct set of races rooted in biology was widely used to justify discrimination and colonial domination: measurements of morphological traits were used to legitimize chattel slavery in the United States, and were used to justify seperate schooling and differential legal codes for Algerian rersidents well after World War II. Modern archeologists now frame bone-based classifications of skeletal remains in terms of clinical variation (gradual changes across geography) amd genomic population structure rather than discrete race boxes. The American Association of Physical Anthropologists writes: “Race does not provide an accurate representation of human biological variation. It was never accurate in the past, and it remains inaccurate when referencing contemporary human populations. Humans are not divided biologically into distinct continental types or racial genetic clusters…”. \n",
    "\n",
    "In short, archeologists must be very careful in how they frame their analyses of skeletal morphology, and not use race as a biological descriptor, rather framing analyses in terms of ancestry, population affinity, and clinical variation. \n",
    "</div>\n",
    "\n",
    "Here is where predictive models step in: while each individual measurement such as head diameter and orbital breadth might correlate only weakly with age/sex/ancestry/stature on it's own, a multivariate model aggregates dozens of these small signals into a sharper, more reliable prediction. Predictive models can \"fill the gaps\" where information is missing for a given observation, by learning how the measurements we *do have* co-vary with our attribute(s) of interest. We build a sort of mathematical \"recipe\" from a set of speciments for which we know both the measurements *and the true outcomes*, then apply that recipe onto the observations for which our attriburtes of interest aren't known.\n",
    "\n",
    "![amne_notebooks\\regression_demo_1.png](amne_notebooksregression_demo_1.png)\n",
    "\n",
    "\n",
    "Among the many regression techniques available, the K-nearest neighbors (KNN) algorithm is particularly intuitive and flexible. In short, to apply KNN, we first assemble a reference dataset of specimens whose ages or dates are reliably known—perhaps through radiocarbon dating or historical documentation. Each new specimen is then compared to its K most similar neighbors (e.g., measurements of bone lengths, cortical thickness, strontium ratios, decoration counts), and its predicted age or date is calculated to be the average value of those neighbors.\n",
    "\n",
    "## 1.2 Exploring the dataset\n",
    "\n",
    "The **Goldman Osteometric Dataset** is a collection of 1538 osteometric measurements taken from a sample of human skeletons belonging to various periods of the Holocene. The dataset contains measurements for the femur, tibia, radius, pelvis, and humerus. Some interesting/relevant metadata includes:\n",
    "\n",
    "- IDNST: Institute from which the given sample was provided from.\n",
    "\n",
    "- Sex: Is the sample male or female? Determined using the os coaxae and occasionally with cranial statistics.\n",
    "\n",
    "- Age: Age range at death, based on public symphysis and auricular surface. \n",
    "\n",
    "- Note: The site of origin location.\n",
    "\n",
    "The measurements we will be focusing on are the **maximal length of the humerus**, the **Radius maximum length**, the **femur maximum length**, and the **tibia maximum length**. "
   ]
  },
  {
   "cell_type": "code",
   "execution_count": 195,
   "id": "81f7704f",
   "metadata": {},
   "outputs": [],
   "source": [
    "# A whole lot of packages...\n",
    "\n",
    "import altair as alt\n",
    "import numpy as np\n",
    "import pandas as pd\n",
    "from sklearn.model_selection import GridSearchCV, train_test_split\n",
    "from sklearn.compose import make_column_transformer\n",
    "from sklearn.pipeline import make_pipeline\n",
    "from sklearn.preprocessing import StandardScaler\n",
    "from sklearn import set_config\n",
    "from pytimetk import glimpse\n",
    "import matplotlib.pyplot as plt\n",
    "import pandas as pd\n",
    "import plotly.express as px\n",
    "from ipywidgets import interact, IntSlider, Dropdown, Checkbox\n",
    "from IPython.display import display\n",
    "import geopandas as gpd\n",
    "from shapely.geometry import Point\n",
    "from shapely.ops import unary_union\n",
    "import geoplot as gplt\n",
    "import matplotlib.pyplot as plt\n",
    "import contextily as ctx\n",
    "from geopy.geocoders import Nominatim\n",
    "from folium import Map, CircleMarker\n",
    "from folium.plugins import HeatMap\n",
    "import branca.colormap as cm\n",
    "import numpy as np\n",
    "import plotly.graph_objects as go\n",
    "from sklearn.neighbors import KNeighborsRegressor\n",
    "from ipywidgets import interact, IntSlider\n",
    "import re\n"
   ]
  },
  {
   "cell_type": "markdown",
   "id": "ac850dca",
   "metadata": {},
   "source": [
    "Move the slider to the left/right to scroll through the dataset:"
   ]
  },
  {
   "cell_type": "code",
   "execution_count": 207,
   "id": "419e8dcb",
   "metadata": {},
   "outputs": [
    {
     "data": {
      "application/vnd.jupyter.widget-view+json": {
       "model_id": "2265eee6844642cb8b38a57755e87623",
       "version_major": 2,
       "version_minor": 0
      },
      "text/plain": [
       "interactive(children=(IntSlider(value=10, description='Rows', max=50, min=5, step=5), Output()), _dom_classes=…"
      ]
     },
     "metadata": {},
     "output_type": "display_data"
    }
   ],
   "source": [
    "set_config(transform_output=\"pandas\")\n",
    "\n",
    "np.random.seed(10)\n",
    "\n",
    "goldman_skeletons = pd.read_csv('Goldman.csv', encoding=\"utf-8\")\n",
    "\n",
    "@interact(n=IntSlider(min=5, max=50, step=5, value=10, description=\"Rows\"))\n",
    "def view_head(n):\n",
    "    display(goldman_skeletons.head(n))"
   ]
  },
  {
   "cell_type": "markdown",
   "id": "2576c925",
   "metadata": {},
   "source": [
    "Next, we'll do some quick pre-processing. We'll remove unnecessary columns, keeping only those we went for our analysis. "
   ]
  },
  {
   "cell_type": "code",
   "execution_count": 208,
   "id": "a006773c",
   "metadata": {},
   "outputs": [
    {
     "name": "stdout",
     "output_type": "stream",
     "text": [
      "Rows remaining: 896\n",
      "    RFML   RHML   RRML   RTML   RIBL   Age\n",
      "3  400.0  298.0  227.0  320.5  145.0  25.0\n",
      "4  396.0  302.0  205.0  305.0  155.0  50.0\n",
      "7  437.0  322.0  238.0  364.0  156.0  30.0\n",
      "8  407.0  307.0  235.0  338.0  161.0  30.0\n",
      "9  386.0  292.5  214.0  315.0  160.0  50.0\n"
     ]
    }
   ],
   "source": [
    "goldman_skeletons = goldman_skeletons[['Sex','Age','NOTE','RFML','RHML','RRML','RTML','RIBL']]\n",
    "\n",
    "cols = ['RFML','RHML','RRML','RTML','RIBL','Age']\n",
    "goldman_skeletons = goldman_skeletons[cols].copy()\n",
    "\n",
    "for m in ['RFML','RHML','RRML','RTML','RIBL']:\n",
    "    goldman_skeletons[m] = pd.to_numeric(goldman_skeletons[m], errors='coerce')\n",
    "\n",
    "def age_to_first_number(a):\n",
    "    if pd.isna(a):\n",
    "        return np.nan\n",
    "    s = str(a)\n",
    "    match = re.search(r'\\d+', s)\n",
    "    return float(match.group(0)) if match else np.nan\n",
    "\n",
    "goldman_skeletons['Age'] = goldman_skeletons['Age'].apply(age_to_first_number)\n",
    "\n",
    "goldman_skeletons_clean = goldman_skeletons.dropna(subset=['RFML','RHML','RRML','RTML','RIBL','Age'])\n",
    "\n",
    "print(\"Rows remaining:\", len(goldman_skeletons_clean))\n",
    "print(goldman_skeletons_clean.head())"
   ]
  },
  {
   "cell_type": "code",
   "execution_count": 200,
   "id": "36defd49",
   "metadata": {},
   "outputs": [
    {
     "name": "stdout",
     "output_type": "stream",
     "text": [
      "Numeric columns: ['RFML', 'RHML', 'RRML', 'RTML', 'RIBL']\n"
     ]
    },
    {
     "data": {
      "application/vnd.jupyter.widget-view+json": {
       "model_id": "79774fa60dd74cebb9e6b307749723ad",
       "version_major": 2,
       "version_minor": 0
      },
      "text/plain": [
       "interactive(children=(Dropdown(description='X', options=('RFML', 'RHML', 'RRML', 'RTML', 'RIBL'), value='RFML'…"
      ]
     },
     "metadata": {},
     "output_type": "display_data"
    }
   ],
   "source": [
    "num_cols = goldman_skeletons.select_dtypes(include=['number']).columns.tolist()\n",
    "print(\"Numeric columns:\", num_cols)\n",
    "@interact(\n",
    "    x=Dropdown(options=num_cols, description=\"X\"),\n",
    "    y=Dropdown(options=num_cols, description=\"Y\"),\n",
    "    color=Dropdown(options=['Age','Sex'] + num_cols, description=\"Color by\")\n",
    ")\n",
    "def scatter(x, y, color):\n",
    "    fig = px.scatter(\n",
    "        goldman_skeletons,\n",
    "        x=x,\n",
    "        y=y,\n",
    "        color=color,\n",
    "        title=f\"{y} vs {x}\" + (f\" colored by {color}\" if color else \"\")\n",
    "    )\n",
    "    fig.show()"
   ]
  },
  {
   "cell_type": "markdown",
   "id": "e250752b",
   "metadata": {},
   "source": [
    "We'll also clean up the notes column, by converting the strings corresponding to locations to numeric longitude/latitude coordinates. "
   ]
  },
  {
   "cell_type": "code",
   "execution_count": 180,
   "id": "c1fa75ce",
   "metadata": {},
   "outputs": [
    {
     "name": "stdout",
     "output_type": "stream",
     "text": [
      "Total unique sites to geocode: 1538\n"
     ]
    },
    {
     "ename": "KeyboardInterrupt",
     "evalue": "",
     "output_type": "error",
     "traceback": [
      "\u001b[31m---------------------------------------------------------------------------\u001b[39m",
      "\u001b[31mKeyboardInterrupt\u001b[39m                         Traceback (most recent call last)",
      "\u001b[36mCell\u001b[39m\u001b[36m \u001b[39m\u001b[32mIn[180]\u001b[39m\u001b[32m, line 9\u001b[39m\n\u001b[32m      7\u001b[39m \u001b[38;5;28;01mfor\u001b[39;00m site \u001b[38;5;129;01min\u001b[39;00m sites:\n\u001b[32m      8\u001b[39m     \u001b[38;5;28;01mtry\u001b[39;00m:\n\u001b[32m----> \u001b[39m\u001b[32m9\u001b[39m         loc = \u001b[43mgeolocator\u001b[49m\u001b[43m.\u001b[49m\u001b[43mgeocode\u001b[49m\u001b[43m(\u001b[49m\u001b[33;43mf\u001b[39;49m\u001b[33;43m\"\u001b[39;49m\u001b[38;5;132;43;01m{\u001b[39;49;00m\u001b[43msite\u001b[49m\u001b[38;5;132;43;01m}\u001b[39;49;00m\u001b[33;43m, USA\u001b[39;49m\u001b[33;43m\"\u001b[39;49m\u001b[43m)\u001b[49m\n\u001b[32m     10\u001b[39m         \u001b[38;5;28;01mif\u001b[39;00m loc:\n\u001b[32m     11\u001b[39m             coords[site] = (loc.longitude, loc.latitude)\n",
      "\u001b[36mFile \u001b[39m\u001b[32mc:\\Users\\Irene\\miniconda3\\envs\\tlef-ai-312\\Lib\\site-packages\\geopy\\geocoders\\nominatim.py:297\u001b[39m, in \u001b[36mNominatim.geocode\u001b[39m\u001b[34m(self, query, exactly_one, timeout, limit, addressdetails, language, geometry, extratags, country_codes, viewbox, bounded, featuretype, namedetails)\u001b[39m\n\u001b[32m    295\u001b[39m logger.debug(\u001b[33m\"\u001b[39m\u001b[38;5;132;01m%s\u001b[39;00m\u001b[33m.geocode: \u001b[39m\u001b[38;5;132;01m%s\u001b[39;00m\u001b[33m\"\u001b[39m, \u001b[38;5;28mself\u001b[39m.\u001b[34m__class__\u001b[39m.\u001b[34m__name__\u001b[39m, url)\n\u001b[32m    296\u001b[39m callback = partial(\u001b[38;5;28mself\u001b[39m._parse_json, exactly_one=exactly_one)\n\u001b[32m--> \u001b[39m\u001b[32m297\u001b[39m \u001b[38;5;28;01mreturn\u001b[39;00m \u001b[38;5;28;43mself\u001b[39;49m\u001b[43m.\u001b[49m\u001b[43m_call_geocoder\u001b[49m\u001b[43m(\u001b[49m\u001b[43murl\u001b[49m\u001b[43m,\u001b[49m\u001b[43m \u001b[49m\u001b[43mcallback\u001b[49m\u001b[43m,\u001b[49m\u001b[43m \u001b[49m\u001b[43mtimeout\u001b[49m\u001b[43m=\u001b[49m\u001b[43mtimeout\u001b[49m\u001b[43m)\u001b[49m\n",
      "\u001b[36mFile \u001b[39m\u001b[32mc:\\Users\\Irene\\miniconda3\\envs\\tlef-ai-312\\Lib\\site-packages\\geopy\\geocoders\\base.py:368\u001b[39m, in \u001b[36mGeocoder._call_geocoder\u001b[39m\u001b[34m(self, url, callback, timeout, is_json, headers)\u001b[39m\n\u001b[32m    366\u001b[39m \u001b[38;5;28;01mtry\u001b[39;00m:\n\u001b[32m    367\u001b[39m     \u001b[38;5;28;01mif\u001b[39;00m is_json:\n\u001b[32m--> \u001b[39m\u001b[32m368\u001b[39m         result = \u001b[38;5;28;43mself\u001b[39;49m\u001b[43m.\u001b[49m\u001b[43madapter\u001b[49m\u001b[43m.\u001b[49m\u001b[43mget_json\u001b[49m\u001b[43m(\u001b[49m\u001b[43murl\u001b[49m\u001b[43m,\u001b[49m\u001b[43m \u001b[49m\u001b[43mtimeout\u001b[49m\u001b[43m=\u001b[49m\u001b[43mtimeout\u001b[49m\u001b[43m,\u001b[49m\u001b[43m \u001b[49m\u001b[43mheaders\u001b[49m\u001b[43m=\u001b[49m\u001b[43mreq_headers\u001b[49m\u001b[43m)\u001b[49m\n\u001b[32m    369\u001b[39m     \u001b[38;5;28;01melse\u001b[39;00m:\n\u001b[32m    370\u001b[39m         result = \u001b[38;5;28mself\u001b[39m.adapter.get_text(url, timeout=timeout, headers=req_headers)\n",
      "\u001b[36mFile \u001b[39m\u001b[32mc:\\Users\\Irene\\miniconda3\\envs\\tlef-ai-312\\Lib\\site-packages\\geopy\\adapters.py:472\u001b[39m, in \u001b[36mRequestsAdapter.get_json\u001b[39m\u001b[34m(self, url, timeout, headers)\u001b[39m\n\u001b[32m    471\u001b[39m \u001b[38;5;28;01mdef\u001b[39;00m\u001b[38;5;250m \u001b[39m\u001b[34mget_json\u001b[39m(\u001b[38;5;28mself\u001b[39m, url, *, timeout, headers):\n\u001b[32m--> \u001b[39m\u001b[32m472\u001b[39m     resp = \u001b[38;5;28;43mself\u001b[39;49m\u001b[43m.\u001b[49m\u001b[43m_request\u001b[49m\u001b[43m(\u001b[49m\u001b[43murl\u001b[49m\u001b[43m,\u001b[49m\u001b[43m \u001b[49m\u001b[43mtimeout\u001b[49m\u001b[43m=\u001b[49m\u001b[43mtimeout\u001b[49m\u001b[43m,\u001b[49m\u001b[43m \u001b[49m\u001b[43mheaders\u001b[49m\u001b[43m=\u001b[49m\u001b[43mheaders\u001b[49m\u001b[43m)\u001b[49m\n\u001b[32m    473\u001b[39m     \u001b[38;5;28;01mtry\u001b[39;00m:\n\u001b[32m    474\u001b[39m         \u001b[38;5;28;01mreturn\u001b[39;00m resp.json()\n",
      "\u001b[36mFile \u001b[39m\u001b[32mc:\\Users\\Irene\\miniconda3\\envs\\tlef-ai-312\\Lib\\site-packages\\geopy\\adapters.py:482\u001b[39m, in \u001b[36mRequestsAdapter._request\u001b[39m\u001b[34m(self, url, timeout, headers)\u001b[39m\n\u001b[32m    480\u001b[39m \u001b[38;5;28;01mdef\u001b[39;00m\u001b[38;5;250m \u001b[39m\u001b[34m_request\u001b[39m(\u001b[38;5;28mself\u001b[39m, url, *, timeout, headers):\n\u001b[32m    481\u001b[39m     \u001b[38;5;28;01mtry\u001b[39;00m:\n\u001b[32m--> \u001b[39m\u001b[32m482\u001b[39m         resp = \u001b[38;5;28;43mself\u001b[39;49m\u001b[43m.\u001b[49m\u001b[43msession\u001b[49m\u001b[43m.\u001b[49m\u001b[43mget\u001b[49m\u001b[43m(\u001b[49m\u001b[43murl\u001b[49m\u001b[43m,\u001b[49m\u001b[43m \u001b[49m\u001b[43mtimeout\u001b[49m\u001b[43m=\u001b[49m\u001b[43mtimeout\u001b[49m\u001b[43m,\u001b[49m\u001b[43m \u001b[49m\u001b[43mheaders\u001b[49m\u001b[43m=\u001b[49m\u001b[43mheaders\u001b[49m\u001b[43m)\u001b[49m\n\u001b[32m    483\u001b[39m     \u001b[38;5;28;01mexcept\u001b[39;00m \u001b[38;5;167;01mException\u001b[39;00m \u001b[38;5;28;01mas\u001b[39;00m error:\n\u001b[32m    484\u001b[39m         message = \u001b[38;5;28mstr\u001b[39m(error)\n",
      "\u001b[36mFile \u001b[39m\u001b[32mc:\\Users\\Irene\\miniconda3\\envs\\tlef-ai-312\\Lib\\site-packages\\requests\\sessions.py:602\u001b[39m, in \u001b[36mSession.get\u001b[39m\u001b[34m(self, url, **kwargs)\u001b[39m\n\u001b[32m    594\u001b[39m \u001b[38;5;250m\u001b[39m\u001b[33mr\u001b[39m\u001b[33;03m\"\"\"Sends a GET request. Returns :class:`Response` object.\u001b[39;00m\n\u001b[32m    595\u001b[39m \n\u001b[32m    596\u001b[39m \u001b[33;03m:param url: URL for the new :class:`Request` object.\u001b[39;00m\n\u001b[32m    597\u001b[39m \u001b[33;03m:param \\*\\*kwargs: Optional arguments that ``request`` takes.\u001b[39;00m\n\u001b[32m    598\u001b[39m \u001b[33;03m:rtype: requests.Response\u001b[39;00m\n\u001b[32m    599\u001b[39m \u001b[33;03m\"\"\"\u001b[39;00m\n\u001b[32m    601\u001b[39m kwargs.setdefault(\u001b[33m\"\u001b[39m\u001b[33mallow_redirects\u001b[39m\u001b[33m\"\u001b[39m, \u001b[38;5;28;01mTrue\u001b[39;00m)\n\u001b[32m--> \u001b[39m\u001b[32m602\u001b[39m \u001b[38;5;28;01mreturn\u001b[39;00m \u001b[38;5;28;43mself\u001b[39;49m\u001b[43m.\u001b[49m\u001b[43mrequest\u001b[49m\u001b[43m(\u001b[49m\u001b[33;43m\"\u001b[39;49m\u001b[33;43mGET\u001b[39;49m\u001b[33;43m\"\u001b[39;49m\u001b[43m,\u001b[49m\u001b[43m \u001b[49m\u001b[43murl\u001b[49m\u001b[43m,\u001b[49m\u001b[43m \u001b[49m\u001b[43m*\u001b[49m\u001b[43m*\u001b[49m\u001b[43mkwargs\u001b[49m\u001b[43m)\u001b[49m\n",
      "\u001b[36mFile \u001b[39m\u001b[32mc:\\Users\\Irene\\miniconda3\\envs\\tlef-ai-312\\Lib\\site-packages\\requests\\sessions.py:589\u001b[39m, in \u001b[36mSession.request\u001b[39m\u001b[34m(self, method, url, params, data, headers, cookies, files, auth, timeout, allow_redirects, proxies, hooks, stream, verify, cert, json)\u001b[39m\n\u001b[32m    584\u001b[39m send_kwargs = {\n\u001b[32m    585\u001b[39m     \u001b[33m\"\u001b[39m\u001b[33mtimeout\u001b[39m\u001b[33m\"\u001b[39m: timeout,\n\u001b[32m    586\u001b[39m     \u001b[33m\"\u001b[39m\u001b[33mallow_redirects\u001b[39m\u001b[33m\"\u001b[39m: allow_redirects,\n\u001b[32m    587\u001b[39m }\n\u001b[32m    588\u001b[39m send_kwargs.update(settings)\n\u001b[32m--> \u001b[39m\u001b[32m589\u001b[39m resp = \u001b[38;5;28;43mself\u001b[39;49m\u001b[43m.\u001b[49m\u001b[43msend\u001b[49m\u001b[43m(\u001b[49m\u001b[43mprep\u001b[49m\u001b[43m,\u001b[49m\u001b[43m \u001b[49m\u001b[43m*\u001b[49m\u001b[43m*\u001b[49m\u001b[43msend_kwargs\u001b[49m\u001b[43m)\u001b[49m\n\u001b[32m    591\u001b[39m \u001b[38;5;28;01mreturn\u001b[39;00m resp\n",
      "\u001b[36mFile \u001b[39m\u001b[32mc:\\Users\\Irene\\miniconda3\\envs\\tlef-ai-312\\Lib\\site-packages\\requests\\sessions.py:703\u001b[39m, in \u001b[36mSession.send\u001b[39m\u001b[34m(self, request, **kwargs)\u001b[39m\n\u001b[32m    700\u001b[39m start = preferred_clock()\n\u001b[32m    702\u001b[39m \u001b[38;5;66;03m# Send the request\u001b[39;00m\n\u001b[32m--> \u001b[39m\u001b[32m703\u001b[39m r = \u001b[43madapter\u001b[49m\u001b[43m.\u001b[49m\u001b[43msend\u001b[49m\u001b[43m(\u001b[49m\u001b[43mrequest\u001b[49m\u001b[43m,\u001b[49m\u001b[43m \u001b[49m\u001b[43m*\u001b[49m\u001b[43m*\u001b[49m\u001b[43mkwargs\u001b[49m\u001b[43m)\u001b[49m\n\u001b[32m    705\u001b[39m \u001b[38;5;66;03m# Total elapsed time of the request (approximately)\u001b[39;00m\n\u001b[32m    706\u001b[39m elapsed = preferred_clock() - start\n",
      "\u001b[36mFile \u001b[39m\u001b[32mc:\\Users\\Irene\\miniconda3\\envs\\tlef-ai-312\\Lib\\site-packages\\requests\\adapters.py:667\u001b[39m, in \u001b[36mHTTPAdapter.send\u001b[39m\u001b[34m(self, request, stream, timeout, verify, cert, proxies)\u001b[39m\n\u001b[32m    664\u001b[39m     timeout = TimeoutSauce(connect=timeout, read=timeout)\n\u001b[32m    666\u001b[39m \u001b[38;5;28;01mtry\u001b[39;00m:\n\u001b[32m--> \u001b[39m\u001b[32m667\u001b[39m     resp = \u001b[43mconn\u001b[49m\u001b[43m.\u001b[49m\u001b[43murlopen\u001b[49m\u001b[43m(\u001b[49m\n\u001b[32m    668\u001b[39m \u001b[43m        \u001b[49m\u001b[43mmethod\u001b[49m\u001b[43m=\u001b[49m\u001b[43mrequest\u001b[49m\u001b[43m.\u001b[49m\u001b[43mmethod\u001b[49m\u001b[43m,\u001b[49m\n\u001b[32m    669\u001b[39m \u001b[43m        \u001b[49m\u001b[43murl\u001b[49m\u001b[43m=\u001b[49m\u001b[43murl\u001b[49m\u001b[43m,\u001b[49m\n\u001b[32m    670\u001b[39m \u001b[43m        \u001b[49m\u001b[43mbody\u001b[49m\u001b[43m=\u001b[49m\u001b[43mrequest\u001b[49m\u001b[43m.\u001b[49m\u001b[43mbody\u001b[49m\u001b[43m,\u001b[49m\n\u001b[32m    671\u001b[39m \u001b[43m        \u001b[49m\u001b[43mheaders\u001b[49m\u001b[43m=\u001b[49m\u001b[43mrequest\u001b[49m\u001b[43m.\u001b[49m\u001b[43mheaders\u001b[49m\u001b[43m,\u001b[49m\n\u001b[32m    672\u001b[39m \u001b[43m        \u001b[49m\u001b[43mredirect\u001b[49m\u001b[43m=\u001b[49m\u001b[38;5;28;43;01mFalse\u001b[39;49;00m\u001b[43m,\u001b[49m\n\u001b[32m    673\u001b[39m \u001b[43m        \u001b[49m\u001b[43massert_same_host\u001b[49m\u001b[43m=\u001b[49m\u001b[38;5;28;43;01mFalse\u001b[39;49;00m\u001b[43m,\u001b[49m\n\u001b[32m    674\u001b[39m \u001b[43m        \u001b[49m\u001b[43mpreload_content\u001b[49m\u001b[43m=\u001b[49m\u001b[38;5;28;43;01mFalse\u001b[39;49;00m\u001b[43m,\u001b[49m\n\u001b[32m    675\u001b[39m \u001b[43m        \u001b[49m\u001b[43mdecode_content\u001b[49m\u001b[43m=\u001b[49m\u001b[38;5;28;43;01mFalse\u001b[39;49;00m\u001b[43m,\u001b[49m\n\u001b[32m    676\u001b[39m \u001b[43m        \u001b[49m\u001b[43mretries\u001b[49m\u001b[43m=\u001b[49m\u001b[38;5;28;43mself\u001b[39;49m\u001b[43m.\u001b[49m\u001b[43mmax_retries\u001b[49m\u001b[43m,\u001b[49m\n\u001b[32m    677\u001b[39m \u001b[43m        \u001b[49m\u001b[43mtimeout\u001b[49m\u001b[43m=\u001b[49m\u001b[43mtimeout\u001b[49m\u001b[43m,\u001b[49m\n\u001b[32m    678\u001b[39m \u001b[43m        \u001b[49m\u001b[43mchunked\u001b[49m\u001b[43m=\u001b[49m\u001b[43mchunked\u001b[49m\u001b[43m,\u001b[49m\n\u001b[32m    679\u001b[39m \u001b[43m    \u001b[49m\u001b[43m)\u001b[49m\n\u001b[32m    681\u001b[39m \u001b[38;5;28;01mexcept\u001b[39;00m (ProtocolError, \u001b[38;5;167;01mOSError\u001b[39;00m) \u001b[38;5;28;01mas\u001b[39;00m err:\n\u001b[32m    682\u001b[39m     \u001b[38;5;28;01mraise\u001b[39;00m \u001b[38;5;167;01mConnectionError\u001b[39;00m(err, request=request)\n",
      "\u001b[36mFile \u001b[39m\u001b[32mc:\\Users\\Irene\\miniconda3\\envs\\tlef-ai-312\\Lib\\site-packages\\urllib3\\connectionpool.py:871\u001b[39m, in \u001b[36mHTTPConnectionPool.urlopen\u001b[39m\u001b[34m(self, method, url, body, headers, retries, redirect, assert_same_host, timeout, pool_timeout, release_conn, chunked, body_pos, preload_content, decode_content, **response_kw)\u001b[39m\n\u001b[32m    866\u001b[39m \u001b[38;5;28;01mif\u001b[39;00m \u001b[38;5;129;01mnot\u001b[39;00m conn:\n\u001b[32m    867\u001b[39m     \u001b[38;5;66;03m# Try again\u001b[39;00m\n\u001b[32m    868\u001b[39m     log.warning(\n\u001b[32m    869\u001b[39m         \u001b[33m\"\u001b[39m\u001b[33mRetrying (\u001b[39m\u001b[38;5;132;01m%r\u001b[39;00m\u001b[33m) after connection broken by \u001b[39m\u001b[33m'\u001b[39m\u001b[38;5;132;01m%r\u001b[39;00m\u001b[33m'\u001b[39m\u001b[33m: \u001b[39m\u001b[38;5;132;01m%s\u001b[39;00m\u001b[33m\"\u001b[39m, retries, err, url\n\u001b[32m    870\u001b[39m     )\n\u001b[32m--> \u001b[39m\u001b[32m871\u001b[39m     \u001b[38;5;28;01mreturn\u001b[39;00m \u001b[38;5;28;43mself\u001b[39;49m\u001b[43m.\u001b[49m\u001b[43murlopen\u001b[49m\u001b[43m(\u001b[49m\n\u001b[32m    872\u001b[39m \u001b[43m        \u001b[49m\u001b[43mmethod\u001b[49m\u001b[43m,\u001b[49m\n\u001b[32m    873\u001b[39m \u001b[43m        \u001b[49m\u001b[43murl\u001b[49m\u001b[43m,\u001b[49m\n\u001b[32m    874\u001b[39m \u001b[43m        \u001b[49m\u001b[43mbody\u001b[49m\u001b[43m,\u001b[49m\n\u001b[32m    875\u001b[39m \u001b[43m        \u001b[49m\u001b[43mheaders\u001b[49m\u001b[43m,\u001b[49m\n\u001b[32m    876\u001b[39m \u001b[43m        \u001b[49m\u001b[43mretries\u001b[49m\u001b[43m,\u001b[49m\n\u001b[32m    877\u001b[39m \u001b[43m        \u001b[49m\u001b[43mredirect\u001b[49m\u001b[43m,\u001b[49m\n\u001b[32m    878\u001b[39m \u001b[43m        \u001b[49m\u001b[43massert_same_host\u001b[49m\u001b[43m,\u001b[49m\n\u001b[32m    879\u001b[39m \u001b[43m        \u001b[49m\u001b[43mtimeout\u001b[49m\u001b[43m=\u001b[49m\u001b[43mtimeout\u001b[49m\u001b[43m,\u001b[49m\n\u001b[32m    880\u001b[39m \u001b[43m        \u001b[49m\u001b[43mpool_timeout\u001b[49m\u001b[43m=\u001b[49m\u001b[43mpool_timeout\u001b[49m\u001b[43m,\u001b[49m\n\u001b[32m    881\u001b[39m \u001b[43m        \u001b[49m\u001b[43mrelease_conn\u001b[49m\u001b[43m=\u001b[49m\u001b[43mrelease_conn\u001b[49m\u001b[43m,\u001b[49m\n\u001b[32m    882\u001b[39m \u001b[43m        \u001b[49m\u001b[43mchunked\u001b[49m\u001b[43m=\u001b[49m\u001b[43mchunked\u001b[49m\u001b[43m,\u001b[49m\n\u001b[32m    883\u001b[39m \u001b[43m        \u001b[49m\u001b[43mbody_pos\u001b[49m\u001b[43m=\u001b[49m\u001b[43mbody_pos\u001b[49m\u001b[43m,\u001b[49m\n\u001b[32m    884\u001b[39m \u001b[43m        \u001b[49m\u001b[43mpreload_content\u001b[49m\u001b[43m=\u001b[49m\u001b[43mpreload_content\u001b[49m\u001b[43m,\u001b[49m\n\u001b[32m    885\u001b[39m \u001b[43m        \u001b[49m\u001b[43mdecode_content\u001b[49m\u001b[43m=\u001b[49m\u001b[43mdecode_content\u001b[49m\u001b[43m,\u001b[49m\n\u001b[32m    886\u001b[39m \u001b[43m        \u001b[49m\u001b[43m*\u001b[49m\u001b[43m*\u001b[49m\u001b[43mresponse_kw\u001b[49m\u001b[43m,\u001b[49m\n\u001b[32m    887\u001b[39m \u001b[43m    \u001b[49m\u001b[43m)\u001b[49m\n\u001b[32m    889\u001b[39m \u001b[38;5;66;03m# Handle redirect?\u001b[39;00m\n\u001b[32m    890\u001b[39m redirect_location = redirect \u001b[38;5;129;01mand\u001b[39;00m response.get_redirect_location()\n",
      "\u001b[36mFile \u001b[39m\u001b[32mc:\\Users\\Irene\\miniconda3\\envs\\tlef-ai-312\\Lib\\site-packages\\urllib3\\connectionpool.py:787\u001b[39m, in \u001b[36mHTTPConnectionPool.urlopen\u001b[39m\u001b[34m(self, method, url, body, headers, retries, redirect, assert_same_host, timeout, pool_timeout, release_conn, chunked, body_pos, preload_content, decode_content, **response_kw)\u001b[39m\n\u001b[32m    784\u001b[39m response_conn = conn \u001b[38;5;28;01mif\u001b[39;00m \u001b[38;5;129;01mnot\u001b[39;00m release_conn \u001b[38;5;28;01melse\u001b[39;00m \u001b[38;5;28;01mNone\u001b[39;00m\n\u001b[32m    786\u001b[39m \u001b[38;5;66;03m# Make the request on the HTTPConnection object\u001b[39;00m\n\u001b[32m--> \u001b[39m\u001b[32m787\u001b[39m response = \u001b[38;5;28;43mself\u001b[39;49m\u001b[43m.\u001b[49m\u001b[43m_make_request\u001b[49m\u001b[43m(\u001b[49m\n\u001b[32m    788\u001b[39m \u001b[43m    \u001b[49m\u001b[43mconn\u001b[49m\u001b[43m,\u001b[49m\n\u001b[32m    789\u001b[39m \u001b[43m    \u001b[49m\u001b[43mmethod\u001b[49m\u001b[43m,\u001b[49m\n\u001b[32m    790\u001b[39m \u001b[43m    \u001b[49m\u001b[43murl\u001b[49m\u001b[43m,\u001b[49m\n\u001b[32m    791\u001b[39m \u001b[43m    \u001b[49m\u001b[43mtimeout\u001b[49m\u001b[43m=\u001b[49m\u001b[43mtimeout_obj\u001b[49m\u001b[43m,\u001b[49m\n\u001b[32m    792\u001b[39m \u001b[43m    \u001b[49m\u001b[43mbody\u001b[49m\u001b[43m=\u001b[49m\u001b[43mbody\u001b[49m\u001b[43m,\u001b[49m\n\u001b[32m    793\u001b[39m \u001b[43m    \u001b[49m\u001b[43mheaders\u001b[49m\u001b[43m=\u001b[49m\u001b[43mheaders\u001b[49m\u001b[43m,\u001b[49m\n\u001b[32m    794\u001b[39m \u001b[43m    \u001b[49m\u001b[43mchunked\u001b[49m\u001b[43m=\u001b[49m\u001b[43mchunked\u001b[49m\u001b[43m,\u001b[49m\n\u001b[32m    795\u001b[39m \u001b[43m    \u001b[49m\u001b[43mretries\u001b[49m\u001b[43m=\u001b[49m\u001b[43mretries\u001b[49m\u001b[43m,\u001b[49m\n\u001b[32m    796\u001b[39m \u001b[43m    \u001b[49m\u001b[43mresponse_conn\u001b[49m\u001b[43m=\u001b[49m\u001b[43mresponse_conn\u001b[49m\u001b[43m,\u001b[49m\n\u001b[32m    797\u001b[39m \u001b[43m    \u001b[49m\u001b[43mpreload_content\u001b[49m\u001b[43m=\u001b[49m\u001b[43mpreload_content\u001b[49m\u001b[43m,\u001b[49m\n\u001b[32m    798\u001b[39m \u001b[43m    \u001b[49m\u001b[43mdecode_content\u001b[49m\u001b[43m=\u001b[49m\u001b[43mdecode_content\u001b[49m\u001b[43m,\u001b[49m\n\u001b[32m    799\u001b[39m \u001b[43m    \u001b[49m\u001b[43m*\u001b[49m\u001b[43m*\u001b[49m\u001b[43mresponse_kw\u001b[49m\u001b[43m,\u001b[49m\n\u001b[32m    800\u001b[39m \u001b[43m\u001b[49m\u001b[43m)\u001b[49m\n\u001b[32m    802\u001b[39m \u001b[38;5;66;03m# Everything went great!\u001b[39;00m\n\u001b[32m    803\u001b[39m clean_exit = \u001b[38;5;28;01mTrue\u001b[39;00m\n",
      "\u001b[36mFile \u001b[39m\u001b[32mc:\\Users\\Irene\\miniconda3\\envs\\tlef-ai-312\\Lib\\site-packages\\urllib3\\connectionpool.py:534\u001b[39m, in \u001b[36mHTTPConnectionPool._make_request\u001b[39m\u001b[34m(self, conn, method, url, body, headers, retries, timeout, chunked, response_conn, preload_content, decode_content, enforce_content_length)\u001b[39m\n\u001b[32m    532\u001b[39m \u001b[38;5;66;03m# Receive the response from the server\u001b[39;00m\n\u001b[32m    533\u001b[39m \u001b[38;5;28;01mtry\u001b[39;00m:\n\u001b[32m--> \u001b[39m\u001b[32m534\u001b[39m     response = \u001b[43mconn\u001b[49m\u001b[43m.\u001b[49m\u001b[43mgetresponse\u001b[49m\u001b[43m(\u001b[49m\u001b[43m)\u001b[49m\n\u001b[32m    535\u001b[39m \u001b[38;5;28;01mexcept\u001b[39;00m (BaseSSLError, \u001b[38;5;167;01mOSError\u001b[39;00m) \u001b[38;5;28;01mas\u001b[39;00m e:\n\u001b[32m    536\u001b[39m     \u001b[38;5;28mself\u001b[39m._raise_timeout(err=e, url=url, timeout_value=read_timeout)\n",
      "\u001b[36mFile \u001b[39m\u001b[32mc:\\Users\\Irene\\miniconda3\\envs\\tlef-ai-312\\Lib\\site-packages\\urllib3\\connection.py:516\u001b[39m, in \u001b[36mHTTPConnection.getresponse\u001b[39m\u001b[34m(self)\u001b[39m\n\u001b[32m    513\u001b[39m _shutdown = \u001b[38;5;28mgetattr\u001b[39m(\u001b[38;5;28mself\u001b[39m.sock, \u001b[33m\"\u001b[39m\u001b[33mshutdown\u001b[39m\u001b[33m\"\u001b[39m, \u001b[38;5;28;01mNone\u001b[39;00m)\n\u001b[32m    515\u001b[39m \u001b[38;5;66;03m# Get the response from http.client.HTTPConnection\u001b[39;00m\n\u001b[32m--> \u001b[39m\u001b[32m516\u001b[39m httplib_response = \u001b[38;5;28;43msuper\u001b[39;49m\u001b[43m(\u001b[49m\u001b[43m)\u001b[49m\u001b[43m.\u001b[49m\u001b[43mgetresponse\u001b[49m\u001b[43m(\u001b[49m\u001b[43m)\u001b[49m\n\u001b[32m    518\u001b[39m \u001b[38;5;28;01mtry\u001b[39;00m:\n\u001b[32m    519\u001b[39m     assert_header_parsing(httplib_response.msg)\n",
      "\u001b[36mFile \u001b[39m\u001b[32mc:\\Users\\Irene\\miniconda3\\envs\\tlef-ai-312\\Lib\\http\\client.py:1428\u001b[39m, in \u001b[36mHTTPConnection.getresponse\u001b[39m\u001b[34m(self)\u001b[39m\n\u001b[32m   1426\u001b[39m \u001b[38;5;28;01mtry\u001b[39;00m:\n\u001b[32m   1427\u001b[39m     \u001b[38;5;28;01mtry\u001b[39;00m:\n\u001b[32m-> \u001b[39m\u001b[32m1428\u001b[39m         \u001b[43mresponse\u001b[49m\u001b[43m.\u001b[49m\u001b[43mbegin\u001b[49m\u001b[43m(\u001b[49m\u001b[43m)\u001b[49m\n\u001b[32m   1429\u001b[39m     \u001b[38;5;28;01mexcept\u001b[39;00m \u001b[38;5;167;01mConnectionError\u001b[39;00m:\n\u001b[32m   1430\u001b[39m         \u001b[38;5;28mself\u001b[39m.close()\n",
      "\u001b[36mFile \u001b[39m\u001b[32mc:\\Users\\Irene\\miniconda3\\envs\\tlef-ai-312\\Lib\\http\\client.py:331\u001b[39m, in \u001b[36mHTTPResponse.begin\u001b[39m\u001b[34m(self)\u001b[39m\n\u001b[32m    329\u001b[39m \u001b[38;5;66;03m# read until we get a non-100 response\u001b[39;00m\n\u001b[32m    330\u001b[39m \u001b[38;5;28;01mwhile\u001b[39;00m \u001b[38;5;28;01mTrue\u001b[39;00m:\n\u001b[32m--> \u001b[39m\u001b[32m331\u001b[39m     version, status, reason = \u001b[38;5;28;43mself\u001b[39;49m\u001b[43m.\u001b[49m\u001b[43m_read_status\u001b[49m\u001b[43m(\u001b[49m\u001b[43m)\u001b[49m\n\u001b[32m    332\u001b[39m     \u001b[38;5;28;01mif\u001b[39;00m status != CONTINUE:\n\u001b[32m    333\u001b[39m         \u001b[38;5;28;01mbreak\u001b[39;00m\n",
      "\u001b[36mFile \u001b[39m\u001b[32mc:\\Users\\Irene\\miniconda3\\envs\\tlef-ai-312\\Lib\\http\\client.py:292\u001b[39m, in \u001b[36mHTTPResponse._read_status\u001b[39m\u001b[34m(self)\u001b[39m\n\u001b[32m    291\u001b[39m \u001b[38;5;28;01mdef\u001b[39;00m\u001b[38;5;250m \u001b[39m\u001b[34m_read_status\u001b[39m(\u001b[38;5;28mself\u001b[39m):\n\u001b[32m--> \u001b[39m\u001b[32m292\u001b[39m     line = \u001b[38;5;28mstr\u001b[39m(\u001b[38;5;28;43mself\u001b[39;49m\u001b[43m.\u001b[49m\u001b[43mfp\u001b[49m\u001b[43m.\u001b[49m\u001b[43mreadline\u001b[49m\u001b[43m(\u001b[49m\u001b[43m_MAXLINE\u001b[49m\u001b[43m \u001b[49m\u001b[43m+\u001b[49m\u001b[43m \u001b[49m\u001b[32;43m1\u001b[39;49m\u001b[43m)\u001b[49m, \u001b[33m\"\u001b[39m\u001b[33miso-8859-1\u001b[39m\u001b[33m\"\u001b[39m)\n\u001b[32m    293\u001b[39m     \u001b[38;5;28;01mif\u001b[39;00m \u001b[38;5;28mlen\u001b[39m(line) > _MAXLINE:\n\u001b[32m    294\u001b[39m         \u001b[38;5;28;01mraise\u001b[39;00m LineTooLong(\u001b[33m\"\u001b[39m\u001b[33mstatus line\u001b[39m\u001b[33m\"\u001b[39m)\n",
      "\u001b[36mFile \u001b[39m\u001b[32mc:\\Users\\Irene\\miniconda3\\envs\\tlef-ai-312\\Lib\\socket.py:720\u001b[39m, in \u001b[36mSocketIO.readinto\u001b[39m\u001b[34m(self, b)\u001b[39m\n\u001b[32m    718\u001b[39m \u001b[38;5;28;01mwhile\u001b[39;00m \u001b[38;5;28;01mTrue\u001b[39;00m:\n\u001b[32m    719\u001b[39m     \u001b[38;5;28;01mtry\u001b[39;00m:\n\u001b[32m--> \u001b[39m\u001b[32m720\u001b[39m         \u001b[38;5;28;01mreturn\u001b[39;00m \u001b[38;5;28;43mself\u001b[39;49m\u001b[43m.\u001b[49m\u001b[43m_sock\u001b[49m\u001b[43m.\u001b[49m\u001b[43mrecv_into\u001b[49m\u001b[43m(\u001b[49m\u001b[43mb\u001b[49m\u001b[43m)\u001b[49m\n\u001b[32m    721\u001b[39m     \u001b[38;5;28;01mexcept\u001b[39;00m timeout:\n\u001b[32m    722\u001b[39m         \u001b[38;5;28mself\u001b[39m._timeout_occurred = \u001b[38;5;28;01mTrue\u001b[39;00m\n",
      "\u001b[36mFile \u001b[39m\u001b[32mc:\\Users\\Irene\\miniconda3\\envs\\tlef-ai-312\\Lib\\ssl.py:1251\u001b[39m, in \u001b[36mSSLSocket.recv_into\u001b[39m\u001b[34m(self, buffer, nbytes, flags)\u001b[39m\n\u001b[32m   1247\u001b[39m     \u001b[38;5;28;01mif\u001b[39;00m flags != \u001b[32m0\u001b[39m:\n\u001b[32m   1248\u001b[39m         \u001b[38;5;28;01mraise\u001b[39;00m \u001b[38;5;167;01mValueError\u001b[39;00m(\n\u001b[32m   1249\u001b[39m           \u001b[33m\"\u001b[39m\u001b[33mnon-zero flags not allowed in calls to recv_into() on \u001b[39m\u001b[38;5;132;01m%s\u001b[39;00m\u001b[33m\"\u001b[39m %\n\u001b[32m   1250\u001b[39m           \u001b[38;5;28mself\u001b[39m.\u001b[34m__class__\u001b[39m)\n\u001b[32m-> \u001b[39m\u001b[32m1251\u001b[39m     \u001b[38;5;28;01mreturn\u001b[39;00m \u001b[38;5;28;43mself\u001b[39;49m\u001b[43m.\u001b[49m\u001b[43mread\u001b[49m\u001b[43m(\u001b[49m\u001b[43mnbytes\u001b[49m\u001b[43m,\u001b[49m\u001b[43m \u001b[49m\u001b[43mbuffer\u001b[49m\u001b[43m)\u001b[49m\n\u001b[32m   1252\u001b[39m \u001b[38;5;28;01melse\u001b[39;00m:\n\u001b[32m   1253\u001b[39m     \u001b[38;5;28;01mreturn\u001b[39;00m \u001b[38;5;28msuper\u001b[39m().recv_into(buffer, nbytes, flags)\n",
      "\u001b[36mFile \u001b[39m\u001b[32mc:\\Users\\Irene\\miniconda3\\envs\\tlef-ai-312\\Lib\\ssl.py:1103\u001b[39m, in \u001b[36mSSLSocket.read\u001b[39m\u001b[34m(self, len, buffer)\u001b[39m\n\u001b[32m   1101\u001b[39m \u001b[38;5;28;01mtry\u001b[39;00m:\n\u001b[32m   1102\u001b[39m     \u001b[38;5;28;01mif\u001b[39;00m buffer \u001b[38;5;129;01mis\u001b[39;00m \u001b[38;5;129;01mnot\u001b[39;00m \u001b[38;5;28;01mNone\u001b[39;00m:\n\u001b[32m-> \u001b[39m\u001b[32m1103\u001b[39m         \u001b[38;5;28;01mreturn\u001b[39;00m \u001b[38;5;28;43mself\u001b[39;49m\u001b[43m.\u001b[49m\u001b[43m_sslobj\u001b[49m\u001b[43m.\u001b[49m\u001b[43mread\u001b[49m\u001b[43m(\u001b[49m\u001b[38;5;28;43mlen\u001b[39;49m\u001b[43m,\u001b[49m\u001b[43m \u001b[49m\u001b[43mbuffer\u001b[49m\u001b[43m)\u001b[49m\n\u001b[32m   1104\u001b[39m     \u001b[38;5;28;01melse\u001b[39;00m:\n\u001b[32m   1105\u001b[39m         \u001b[38;5;28;01mreturn\u001b[39;00m \u001b[38;5;28mself\u001b[39m._sslobj.read(\u001b[38;5;28mlen\u001b[39m)\n",
      "\u001b[31mKeyboardInterrupt\u001b[39m: "
     ]
    }
   ],
   "source": [
    "sites = goldman_skeletons['NOTE']\n",
    "print(f\"Total unique sites to geocode: {len(sites)}\")\n",
    "\n",
    "\n",
    "geolocator = Nominatim(user_agent=\"archaeo_mapper\")\n",
    "coords = {}\n",
    "for site in sites:\n",
    "    try:\n",
    "        loc = geolocator.geocode(f\"{site}, USA\")\n",
    "        if loc:\n",
    "            coords[site] = (loc.longitude, loc.latitude)\n",
    "    except Exception:\n",
    "        pass\n",
    "\n",
    "print(f\"Number of sites successfully geocoded: {len(coords)}\")\n",
    "\n"
   ]
  },
  {
   "cell_type": "code",
   "execution_count": null,
   "id": "8fe8c7f1",
   "metadata": {},
   "outputs": [
    {
     "ename": "KeyError",
     "evalue": "['lon', 'lat']",
     "output_type": "error",
     "traceback": [
      "\u001b[31m---------------------------------------------------------------------------\u001b[39m",
      "\u001b[31mKeyError\u001b[39m                                  Traceback (most recent call last)",
      "\u001b[32m~\\AppData\\Local\\Temp\\ipykernel_16452\\4246037925.py\u001b[39m in \u001b[36m?\u001b[39m\u001b[34m()\u001b[39m\n\u001b[32m----> \u001b[39m\u001b[32m1\u001b[39m goldman_skeletons_folium = goldman_skeletons.dropna(subset=[\u001b[33m'lon'\u001b[39m,\u001b[33m'lat'\u001b[39m]).copy()\n\u001b[32m      2\u001b[39m center = [goldman_skeletons_folium[\u001b[33m'lat'\u001b[39m].mean(), goldman_skeletons_folium[\u001b[33m'lon'\u001b[39m].mean()]\n\u001b[32m      3\u001b[39m m = Map(location=center, zoom_start=\u001b[32m4\u001b[39m, tiles=\u001b[33m'CartoDB positron'\u001b[39m)\n\u001b[32m      4\u001b[39m \n",
      "\u001b[32mc:\\Users\\Irene\\miniconda3\\envs\\tlef-ai-312\\Lib\\site-packages\\pandas\\core\\frame.py\u001b[39m in \u001b[36m?\u001b[39m\u001b[34m(self, axis, how, thresh, subset, inplace, ignore_index)\u001b[39m\n\u001b[32m   6673\u001b[39m             ax = self._get_axis(agg_axis)\n\u001b[32m   6674\u001b[39m             indices = ax.get_indexer_for(subset)\n\u001b[32m   6675\u001b[39m             check = indices == -\u001b[32m1\u001b[39m\n\u001b[32m   6676\u001b[39m             \u001b[38;5;28;01mif\u001b[39;00m check.any():\n\u001b[32m-> \u001b[39m\u001b[32m6677\u001b[39m                 \u001b[38;5;28;01mraise\u001b[39;00m KeyError(np.array(subset)[check].tolist())\n\u001b[32m   6678\u001b[39m             agg_obj = self.take(indices, axis=agg_axis)\n\u001b[32m   6679\u001b[39m \n\u001b[32m   6680\u001b[39m         \u001b[38;5;28;01mif\u001b[39;00m thresh \u001b[38;5;28;01mis\u001b[39;00m \u001b[38;5;28;01mnot\u001b[39;00m lib.no_default:\n",
      "\u001b[31mKeyError\u001b[39m: ['lon', 'lat']"
     ]
    }
   ],
   "source": [
    "\n",
    "goldman_skeletons_folium = goldman_skeletons.dropna(subset=['lon','lat']).copy()\n",
    "center = [goldman_skeletons_folium['lat'].mean(), goldman_skeletons_folium['lon'].mean()]\n",
    "m = Map(location=center, zoom_start=4, tiles='CartoDB positron')\n",
    "\n",
    "heat_data = [\n",
    "    [row['lat'], row['lon'], 1.0]\n",
    "    for idx, row in goldman_skeletons_folium.iterrows()\n",
    "]\n",
    "\n",
    "m.add_child(HeatMap(\n",
    "    heat_data,\n",
    "    min_opacity=0.3,\n",
    "    max_zoom=10,\n",
    "    radius=50,\n",
    "    blur=30,\n",
    "    gradient={0.0: 'navy', 0.2: 'blue', 0.4: 'lime', 0.6: 'yellow', 0.8: 'orange', 1.0: 'red'},\n",
    "    name='Site Density'\n",
    "))\n",
    "\n",
    "for idx, row in goldman_skeletons_folium.iterrows():\n",
    "    CircleMarker(\n",
    "        location=(row['lat'], row['lon']),\n",
    "        radius=3,\n",
    "        color='black',\n",
    "        fill=True,\n",
    "        fill_opacity=0.6\n",
    "    ).add_to(m)\n",
    "\n",
    "colormap = cm.LinearColormap(\n",
    "    ['navy','blue','lime','yellow','orange','red'],\n",
    "    vmin=0, vmax=1\n",
    ")\n",
    "colormap.caption = 'Relative Site Density' \n",
    "colormap.add_to(m)\n",
    "\n",
    "m.save('archaeo_heatmap.html')\n",
    "\n"
   ]
  },
  {
   "cell_type": "markdown",
   "id": "01d5d38e",
   "metadata": {},
   "source": [
    "## 2. An overview of KNN regression\n",
    "\n",
    "So how exactly do we predict the age-of-death of a bone specimen? The first model we'll introduce is called a **KNN regression**. The basic ideas is quite simple:\n",
    "\n",
    "*\"Tell me about your neighbors, and I'll tell you your age.\"*\n",
    "\n",
    "Imagine each of our known skeletons is a point in a 2D space, where the X-axis is some predictor variable (such as femur length) and the Y-axis is the age of each sample. Realistically, each point would sit in a *multidimensional space*, with each dimension corresponding to one of our predictor variables. When we uncover a new skull, we locate it's position in that same space. Note that, crucially, we don't know the age of death of the skeleton- only it's femur length. We then ask,\n",
    "\n",
    "*\"Which $K$ known skeletons are closest to this skeleton?\"*\n",
    "\n",
    "The new skeleton's age is the average of those neighbors' ages.\n",
    "\n",
    "If we treat each possible value of $X$ as a red dot, we get a **KNN regression line**: each point on the line corresponds to the predicted age-of-death for a potention skeleton with that particular femur length. Try modifying the value of $k$ below, and see how the regression line changes."
   ]
  },
  {
   "cell_type": "code",
   "execution_count": 211,
   "id": "3aa3d88e",
   "metadata": {},
   "outputs": [
    {
     "data": {
      "application/vnd.jupyter.widget-view+json": {
       "model_id": "a02c2d0e014d48f5bb77b69c62740a64",
       "version_major": 2,
       "version_minor": 0
      },
      "text/plain": [
       "interactive(children=(IntSlider(value=5, description='Neighbors (k)', max=30, min=1), Output()), _dom_classes=…"
      ]
     },
     "metadata": {},
     "output_type": "display_data"
    }
   ],
   "source": [
    "\n",
    "@interact(\n",
    "    k=IntSlider(min=1, max=30, step=1, value=5, description=\"Neighbors (k)\")\n",
    ")\n",
    "def plot_knn_age_vs_rhml(k):\n",
    "\n",
    "    X_rhml = goldman_skeletons_clean['RFML'].values.reshape(-1, 1)\n",
    "    y_age  = goldman_skeletons_clean['Age'].values\n",
    "\n",
    "    knn = KNeighborsRegressor(n_neighbors=k)\n",
    "    knn.fit(X_rhml, y_age)\n",
    "    x_grid = np.linspace(X_rhml.min(), X_rhml.max(), 300).reshape(-1, 1)\n",
    "    y_pred = knn.predict(x_grid)\n",
    "\n",
    "    fig = go.Figure([\n",
    "        go.Scatter(\n",
    "            x=X_rhml.flatten(), y=y_age,\n",
    "            mode='markers', marker=dict(opacity=0.6),\n",
    "            name='Data points'\n",
    "        ),\n",
    "        go.Scatter(\n",
    "            x=x_grid.flatten(), y=y_pred,\n",
    "            mode='lines', line=dict(width=3),\n",
    "            name=f'KNN fit (k={k})'\n",
    "        )\n",
    "    ])\n",
    "    fig.update_layout(\n",
    "        title=f\"KNN Regression of Age vs RHML (k={k})\",\n",
    "        xaxis_title=\"RHML\",\n",
    "        yaxis_title=\"Age\"\n",
    "    )\n",
    "    fig.show()"
   ]
  },
  {
   "cell_type": "markdown",
   "id": "e0e3cfd3",
   "metadata": {},
   "source": [
    "The first thing we notice is that our regression line is relatively flat. No matter what RHML value our red dot takes on, it's age stays relatively the same. But how do we determine how many neighbors to use? Is there an optimal number? Yes! "
   ]
  },
  {
   "cell_type": "code",
   "execution_count": null,
   "id": "54d3a58b",
   "metadata": {},
   "outputs": [
    {
     "data": {
      "image/png": "[encoded data removed]",
      "text/plain": [
       "<Figure size 640x480 with 1 Axes>"
      ]
     },
     "metadata": {},
     "output_type": "display_data"
    }
   ],
   "source": [
    "import numpy as np\n",
    "import matplotlib.pyplot as plt\n",
    "from sklearn.neighbors import KNeighborsRegressor\n",
    "from sklearn.metrics import mean_squared_error\n",
    "from sklearn.model_selection import train_test_split\n",
    "\n",
    "\n",
    "X = df_clean[['RHML']].values  \n",
    "y = df_clean['Age'].values\n",
    "\n",
    "X_train, X_test, y_train, y_test = train_test_split(\n",
    "    X, y, test_size=0.2, random_state=42\n",
    ")\n",
    "\n",
    "ks = range(1, 31)\n",
    "rmse_vals = []\n",
    "\n",
    "for k in ks:\n",
    "    knn = KNeighborsRegressor(n_neighbors=k)\n",
    "    knn.fit(X_train, y_train)\n",
    "    y_pred = knn.predict(X_test)\n",
    "    rmse = np.sqrt(mean_squared_error(y_test, y_pred))\n",
    "    rmse_vals.append(rmse)\n",
    "\n",
    "plt.figure()\n",
    "plt.plot(ks, rmse_vals, marker='o')\n",
    "plt.xlabel('Number of Neighbors (k)')\n",
    "plt.ylabel('RMSE on Test Set')\n",
    "plt.title('KNN Regression: RMSE vs k')\n",
    "plt.xticks(ks)\n",
    "plt.tight_layout()\n",
    "plt.show()\n"
   ]
  },
  {
   "cell_type": "code",
   "execution_count": 214,
   "id": "394b243c",
   "metadata": {},
   "outputs": [
    {
     "name": "stdout",
     "output_type": "stream",
     "text": [
      "True min MSE at k=30 with RMSE=9.80\n",
      "One‐SE rule selects k=7\n"
     ]
    }
   ],
   "source": [
    "import numpy as np\n",
    "from sklearn.neighbors import KNeighborsRegressor\n",
    "from sklearn.model_selection import GridSearchCV\n",
    "\n",
    "grid = GridSearchCV(\n",
    "    KNeighborsRegressor(),\n",
    "    {'n_neighbors': list(range(1,31))},\n",
    "    cv=5,\n",
    "    scoring='neg_mean_squared_error',\n",
    "    return_train_score=True,\n",
    "    n_jobs=-1\n",
    ")\n",
    "grid.fit(X_train, y_train)\n",
    "\n",
    "means = -grid.cv_results_['mean_test_score']\n",
    "stds  =  grid.cv_results_['std_test_score']\n",
    "\n",
    "min_idx    = np.argmin(means)\n",
    "min_mse    = means[min_idx]\n",
    "one_se     = stds[min_idx]\n",
    "threshold  = min_mse + one_se\n",
    "\n",
    "ks         = grid.cv_results_['param_n_neighbors'].data\n",
    "candidate_ks = [k for k, m in zip(ks, means) if m <= threshold]\n",
    "k_one_se   = min(candidate_ks)\n",
    "\n",
    "print(f\"True min MSE at k={ks[min_idx]} with RMSE={np.sqrt(min_mse):.2f}\")\n",
    "print(f\"One‐SE rule selects k={k_one_se}\")\n"
   ]
  },
  {
   "cell_type": "code",
   "execution_count": null,
   "id": "18a5cd2c",
   "metadata": {},
   "outputs": [
    {
     "data": {
      "application/vnd.jupyter.widget-view+json": {
       "model_id": "5f6ee95f35524a258bb91c1a8a348f52",
       "version_major": 2,
       "version_minor": 0
      },
      "text/plain": [
       "interactive(children=(Dropdown(description='feature', options=('LHML', 'LHHD', 'LFML', 'LFHD', 'LFMLD', 'LTML'…"
      ]
     },
     "metadata": {},
     "output_type": "display_data"
    }
   ],
   "source": [
    "@interact(feature=features)\n",
    "def plot_feature_distribution(feature):\n",
    "    fig = px.box(goldman_skeletons_final, x='Age', y=feature, color='Age', \n",
    "                 title=f\"Distribution of {feature} by Age-at-Death Category\",\n",
    "                 labels={feature: f\"{feature} (mm)\"})\n",
    "    fig.update_layout(xaxis_title=\"Age-at-Death Category\", yaxis_title=f\"{feature} (mm)\", showlegend=False)\n",
    "    fig.show()"
   ]
  }
 ],
 "metadata": {
  "kernelspec": {
   "display_name": "tlef-ai-312",
   "language": "python",
   "name": "python3"
  },
  "language_info": {
   "codemirror_mode": {
    "name": "ipython",
    "version": 3
   },
   "file_extension": ".py",
   "mimetype": "text/x-python",
   "name": "python",
   "nbconvert_exporter": "python",
   "pygments_lexer": "ipython3",
   "version": "3.12.7"
  }
 },
 "nbformat": 4,
 "nbformat_minor": 5
}
