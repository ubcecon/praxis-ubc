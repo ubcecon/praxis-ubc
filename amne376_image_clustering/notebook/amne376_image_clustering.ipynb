{
 "cells": [
  {
   "cell_type": "markdown",
   "id": "49429eeb",
   "metadata": {},
   "source": [
    "## AMNE 376: A Study of Richter's Kouroi Through Image Clustering\n",
    "\n",
    "Author: *Kaiyan Zhang, Yash Mali, prAxIs UBC Team*"
   ]
  },
  {
   "cell_type": "markdown",
   "id": "286f0e23",
   "metadata": {},
   "source": [
    "### 1. Introduction: How Computers See Visual Art?\n",
    "\n"
   ]
  },
  {
   "cell_type": "code",
   "execution_count": null,
   "id": "08803744",
   "metadata": {},
   "outputs": [],
   "source": []
  },
  {
   "cell_type": "markdown",
   "id": "a723ed41",
   "metadata": {},
   "source": [
    "### 2. Data Exploration"
   ]
  },
  {
   "cell_type": "code",
   "execution_count": null,
   "id": "059ef401",
   "metadata": {},
   "outputs": [],
   "source": []
  },
  {
   "cell_type": "markdown",
   "id": "c0577203",
   "metadata": {},
   "source": [
    "### 3. Image Embedding Using Dino V2"
   ]
  },
  {
   "cell_type": "code",
   "execution_count": null,
   "id": "81272531",
   "metadata": {},
   "outputs": [],
   "source": []
  },
  {
   "cell_type": "markdown",
   "id": "be513999",
   "metadata": {},
   "source": [
    "### 4. Image Clustering and Component Analysis"
   ]
  },
  {
   "cell_type": "code",
   "execution_count": null,
   "id": "53fde083",
   "metadata": {},
   "outputs": [],
   "source": []
  },
  {
   "cell_type": "markdown",
   "id": "70c1405b",
   "metadata": {},
   "source": [
    "### 5. Conclusion"
   ]
  },
  {
   "cell_type": "code",
   "execution_count": null,
   "id": "fc37e966",
   "metadata": {},
   "outputs": [],
   "source": []
  },
  {
   "cell_type": "markdown",
   "id": "f5857296",
   "metadata": {},
   "source": [
    "### Reference\n",
    "1. Richter, G. M. A. (1970). *Kouroi: Archaic Greek youths: A study of the development of the Kouros type in Greek sculpture.* Phaidon. Accessed through Internet Archive <https://archive.org/details/kouroiarchaicgre0000rich>."
   ]
  }
 ],
 "metadata": {
  "kernelspec": {
   "display_name": "Python 3",
   "language": "python",
   "name": "python3"
  },
  "language_info": {
   "name": "python",
   "version": "3.12.5"
  }
 },
 "nbformat": 4,
 "nbformat_minor": 5
}
