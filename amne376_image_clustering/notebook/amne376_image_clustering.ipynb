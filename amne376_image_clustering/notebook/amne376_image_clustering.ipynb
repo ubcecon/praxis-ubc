{
 "cells": [
  {
   "cell_type": "markdown",
   "id": "49429eeb",
   "metadata": {},
   "source": [
    "## AMNE 376: A Study of Richter's Kouroi Through Image Clustering\n",
    "\n",
    "Author: *Kaiyan Zhang, Yash Mali, prAxIs UBC Team*"
   ]
  },
  {
   "cell_type": "markdown",
   "id": "286f0e23",
   "metadata": {},
   "source": [
    "### 1. Introduction: How Computers See Visual Art?\n",
    "\n",
    "\n"
   ]
  },
  {
   "cell_type": "code",
   "execution_count": null,
   "id": "08803744",
   "metadata": {},
   "outputs": [],
   "source": [
    "# Loading necessary libraries\n",
    "import os\n",
    "import pandas as pd\n",
    "from PIL import Image\n",
    "import torch\n",
    "from torch.utils.data import Dataset, DataLoader\n",
    "import torchvision.transforms as T\n",
    "import timm\n",
    "from sklearn.cluster import KMeans\n",
    "from sklearn.decomposition import PCA\n",
    "import umap\n",
    "import matplotlib.pyplot as plt"
   ]
  },
  {
   "cell_type": "markdown",
   "id": "a723ed41",
   "metadata": {},
   "source": [
    "### 2. Data Exploration"
   ]
  },
  {
   "cell_type": "code",
   "execution_count": null,
   "id": "059ef401",
   "metadata": {},
   "outputs": [],
   "source": [
    "# Defining the dataclass for the dataset\n",
    "class SculptureDataset(Dataset):\n",
    "    def __init__(self, csv_path, img_dir, transform=None):\n",
    "        self.meta = pd.read_csv(csv_path)\n",
    "        self.img_dir = img_dir\n",
    "        self.transform = transform or T.Compose([\n",
    "            T.Resize((224,224)),\n",
    "            T.ToTensor(),\n",
    "            T.Normalize(mean=[0.485,0.456,0.406], std=[0.229,0.224,0.225])\n",
    "        ])\n",
    "\n",
    "    def __len__(self):\n",
    "        return len(self.meta)\n",
    "\n",
    "    def __getitem__(self, idx):\n",
    "        row = self.meta.iloc[idx]\n",
    "        img_path = os.path.join(self.img_dir, row['filename'])\n",
    "        img = Image.open(img_path).convert('RGB')\n",
    "        x = self.transform(img)\n",
    "        # optional: return labels for evaluation\n",
    "        y = row[['group', 'era']].values\n",
    "        return x, y"
   ]
  },
  {
   "cell_type": "markdown",
   "id": "c0577203",
   "metadata": {},
   "source": [
    "### 3. Image Embedding Using Dino V2"
   ]
  },
  {
   "cell_type": "code",
   "execution_count": null,
   "id": "81272531",
   "metadata": {},
   "outputs": [],
   "source": []
  },
  {
   "cell_type": "markdown",
   "id": "be513999",
   "metadata": {},
   "source": [
    "### 4. Image Clustering and Component Analysis"
   ]
  },
  {
   "cell_type": "code",
   "execution_count": null,
   "id": "53fde083",
   "metadata": {},
   "outputs": [],
   "source": []
  },
  {
   "cell_type": "markdown",
   "id": "70c1405b",
   "metadata": {},
   "source": [
    "### 5. Conclusion"
   ]
  },
  {
   "cell_type": "code",
   "execution_count": null,
   "id": "fc37e966",
   "metadata": {},
   "outputs": [],
   "source": []
  },
  {
   "cell_type": "markdown",
   "id": "f5857296",
   "metadata": {},
   "source": [
    "### Reference\n",
    "1. Richter, G. M. A. (1970). *Kouroi: Archaic Greek youths: A study of the development of the Kouros type in Greek sculpture.* Phaidon. Accessed through Internet Archive <https://archive.org/details/kouroiarchaicgre0000rich>."
   ]
  }
 ],
 "metadata": {
  "kernelspec": {
   "display_name": "Python 3",
   "language": "python",
   "name": "python3"
  },
  "language_info": {
   "name": "python",
   "version": "3.12.5"
  }
 },
 "nbformat": 4,
 "nbformat_minor": 5
}
