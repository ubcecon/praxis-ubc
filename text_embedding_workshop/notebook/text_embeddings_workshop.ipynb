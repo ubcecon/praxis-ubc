{
 "cells": [
  {
   "cell_type": "markdown",
   "id": "e5fb635f",
   "metadata": {},
   "source": [
    "## Embedding Driven Text Analysis of Crease's Stance Towards Chinese Immigrants\n",
    "\n",
    "prAxIs UBC Team <br> _Kaiyan Zhang, Irene Berezin, Alex Ronczewski_\n",
    "\n",
    "2025-8-14"
   ]
  },
  {
   "cell_type": "markdown",
   "id": "5db36359",
   "metadata": {},
   "source": [
    "### Library Loading"
   ]
  },
  {
   "cell_type": "code",
   "execution_count": 1,
   "id": "60275069",
   "metadata": {},
   "outputs": [],
   "source": [
    "# This cell loads the necessary libraries for executing the notebook.\n",
    "import pandas as pd\n",
    "import numpy as np\n",
    "import re\n",
    "import umap\n",
    "import textwrap\n",
    "import matplotlib.pyplot as plt\n",
    "import seaborn as sns\n",
    "import plotly.express as px\n",
    "import plotly.graph_objects as go\n",
    "from nltk import sent_tokenize, word_tokenize\n",
    "from nltk.corpus import stopwords\n",
    "from sklearn.feature_extraction.text import TfidfVectorizer\n",
    "from sklearn.metrics.pairwise import cosine_similarity\n",
    "from scipy.spatial.distance import cosine\n",
    "from transformers import AutoTokenizer, AutoModel\n",
    "import torch\n",
    "import warnings\n",
    "from collections import defaultdict, Counter\n",
    "from typing import Dict, Any, Union\n"
   ]
  },
  {
   "cell_type": "markdown",
   "id": "39493bf1",
   "metadata": {},
   "source": [
    "### Introduction\n",
    "\n",
    "#### Overview of Historical Background\n",
    "\n",
    "***The 1884 Chinese Regulation Act*** in British Columbia is widely regarded as one of the most notorious discriminatory provincial laws targeting Chinese immigration, it was challenged and ultimately declared unconstitutional in the 1885 case of ***R v. Wing Chong*** by the judge Henry Pering Pellew Crease. The Justice Crease found the legislation to be unconstitutional on economic grounds; infringing on federal authority over immigration, trade, commerce, treaty-making, and taxation. \n",
    "\n",
    "The central figure in the ruling, *Henry Pering Pellew Crease*, came from a wealthy English military family, and possessed a prestigious law background. \n",
    "\n",
    "* His social identity was above-all English, and this was made clear in his politics. \n",
    "* He viewed Canada not as a new society to be built, but as an extension of the british empire. \n",
    "* He displayed mistrust towards Canadians, referring to them as \"North American Chinamen\", afraid that they would \"rule the country and job its offices\" (Tina Loo).\n",
    "\n",
    "In previous years, students expressed interest Crease's opinion on the 1884 Chinese regulation act, given that the regulation act was strongly condemned and ultimately struck down by Crease. However, this seems at odds with Crease's position on Chinese immigrants.\n",
    "\n",
    "This raises an interesting question: **Did Judge Crease strike down the act because of genuine anti-racism concerns, or because he saw the Chinese immigrant labor force as a valuable asset for growing the Canadian economy?**\n",
    "\n",
    "#### Objective\n",
    "\n",
    "* We aim to explore this question by analyzing the language used by Justice Crease in his legal opinions and writings related to Chinese immigrants through **Natural Language Processing (NLP)** approaches. By examining the text, we hope to uncover insights into his stance.\n",
    "\n",
    "* The workshop is also to demonstrate how historians can use computational tools to *help* them answer such a research question, by showing each step in the research process."
   ]
  },
  {
   "cell_type": "markdown",
   "id": "31f176c2",
   "metadata": {},
   "source": [
    "#### The Problem: Legal Text Analysis\n",
    "\n",
    "Legal text analysis is itself a complex task, as legal documents are often lengthy, dense, formal, and filled with specialized terminology. They are also often written in neutral or passive voice, making it difficult to discern the author's personal opinions or biases, it poses unique challenges for historians and legal scholars alike, which also challenged the usual methods of natural language processing (NLP).\n",
    "\n",
    "Mining insights from such texts requires sophisticated techniques to extract meaningful information and identify patterns. We need the technique to be able to:\n",
    "* **Understand legal vocabulary**: Legal texts often contain specialized terminology and complex sentence structures, the technique should be able to handle legal jargon and formal language.\n",
    "* **Identify contextual semantics**: Legal texts often involve nuanced meanings and interpretations, so the technique should be able to capture the context and semantics of legal language.\n",
    "* **Handle ambiguity**: Legal texts can be ambiguous, with multiple interpretations possible, the technique should be able to handle ambiguity and provide insights into different interpretations.\n",
    "* **Extract relevant topics**: Legal texts often cover multiple topics and issues, the technique should be able to extract relevant topics and themes from the text.\n",
    "* **Analyze sentiment**: Legal texts can convey different sentiments, such as positive, negative, or neutral, the technique should be able to analyze sentiment and provide insights into the author's tone and attitude.\n",
    "\n",
    "#### Research Approach\n",
    "\n",
    "In this workshop, we will explore how to address these challenges using a comparison approach, that is, while we focus on the text of Justice Crease, we will compare it with other legal texts from the same period to gain a better understanding of the language used in legal documents at that time.\n",
    "\n",
    "The first subject we will use for comparison is the **1884 Chinese Regulation Act**, which was the law that Crease struck down. The second subject we will use for comparison is **Justice Matthew Baillie Begbie**, who testified alongside Crease in the 1884 Royal Commission on Chinese Immigration.\n",
    "\n",
    "* Unlike Crease, historical accounts describe Begbie as protective of marginalized peoples, particularly Indigenous communities and Chinese immigrants.\n",
    "* Similar to what Crease did to the Chinese Regulation Act, Begbie struck down discriminatory municipal by-laws in Victoria that targeted Chinese-owned businesses in the 1888 case of ***R v. Victoria***.\n",
    "\n",
    "We use machine learning techniques, specifically text embeddings, to do the following:\n",
    "\n",
    "1. Compile **a corpus of legal cases and commission reports** authored by contemporary judges concerning Chinese immigrants.\n",
    "2. Apply **Optical Character Recognition (OCR)** to the reports in order to convert them to a machine-readable format. \n",
    "3. Examine **keywords** in the texts, to compare the positions of different justices and regulations.\n",
    "4. Use **machine learning** to assess the relative emphasis on economic versus social justice concerns.\n",
    "5. Use **sentiment analysis** to evaluate the tone of the documents, focusing on whether they reflect positive, negative, or neutral sentiments, and compare the sentiments of writings by different authors to identify patterns.\n",
    "6. Use **zero-shot classification** to evaluate whether the documents reflect pro-discrimination, neutral, or anti-discrimination positions.\n",
    "\n",
    "This approach demonstrates different techniques historians can use to identify patterns in documents for analysis."
   ]
  },
  {
   "cell_type": "markdown",
   "id": "d957c236",
   "metadata": {},
   "source": [
    "#### Data Collection and Preprocessing\n",
    "\n",
    "We plan to use 10 digitalized texts, they are:\n",
    "\n",
    "- Legal Documents that address Chinese immigration in BC during the period: \n",
    "    - *R v. Wing Chong* \n",
    "    - *Wong Hoy Woon v. Duncan* \n",
    "    - *R v. Mee Wah, R v. Victoria* \n",
    "    - *Chinese Regulation Act, 1884*\n",
    "- Reports authored by Crease and Begbie for the Royal Commission that show the judges' personal perspectives. \n",
    "- The remaining documents enrich our corpus for analysis and supplement our study.\n",
    "\n",
    "A big issue with working with historical texts is the format they're stored in: usually scans of varying quality from physical books, articles, etc. However, these are not machine-readable file formats (e.g., text files), so our first step will be using **Optical Character Recognition (OCR)** to convert the scanned images into machine-readable text. We chose this approach because: 1. It is a common technique for digitizing printed texts that is already widely used in legal case archives such as the CanLii database, and 2. There are many OCR tools available that vary in cost, effectiveness, and ease of use. Below is a brief overview of early and modern OCR techniques:\n",
    "\n",
    "\n",
    "- **Early OCR (Pattern Matching):**\n",
    "\n",
    "    - Compared each character image to a library of fonts and shapes.\n",
    "    - Worked well for clean, printed text.\n",
    "    - Struggled with handwriting, unusual fonts, or degraded scans.\n",
    "\n",
    "- **Modern OCR (Intelligent Recognition):**\n",
    "\n",
    "    - Uses AI to \"read\" text more like a human.\n",
    "    - Analyzes shapes, context, and layout.\n",
    "    - Handles messy, handwritten, or complex documents much better.\n",
    "\n",
    "After testing several tools, we found that modern, AI-based OCR methods produced the most accurate results for our historical documents."
   ]
  },
  {
   "cell_type": "markdown",
   "id": "3cdc6bca",
   "metadata": {},
   "source": [
    "#### Data Overview"
   ]
  },
  {
   "cell_type": "markdown",
   "id": "b5cb7613",
   "metadata": {},
   "source": [
    "After OCR, we obtained a `.csv` file containing the text and metadata of the documents. Note that we removed the direct quotes of the *1884 Chinese Regulation Act* in Crease's ruling, as they don't reflect his own language. The structure of the data is as follows:\n",
    "| Column Name                   | Description                                              |\n",
    "| ----------------------------- | -------------------------------------------------------- |\n",
    "| filename                    | Name of the file containing the document text.           |\n",
    "| author                      | Author of the document (e.g., \"Crease\", \"Begbie\").       |\n",
    "| type                        | Document type (e.g., \"case\", \"report\").                  |\n",
    "| text                        | Full text of the document, which may include OCR errors. |\n",
    "| act_quote_sentences_removed | Number of quoted sentences removed from the full text.   |\n",
    "\n",
    "Here, we read the `.csv` file into a pandas DataFrame and display."
   ]
  },
  {
   "cell_type": "code",
   "execution_count": 2,
   "id": "ba80c94d",
   "metadata": {},
   "outputs": [
    {
     "data": {
      "text/html": [
       "<div>\n",
       "<style scoped>\n",
       "    .dataframe tbody tr th:only-of-type {\n",
       "        vertical-align: middle;\n",
       "    }\n",
       "\n",
       "    .dataframe tbody tr th {\n",
       "        vertical-align: top;\n",
       "    }\n",
       "\n",
       "    .dataframe thead th {\n",
       "        text-align: right;\n",
       "    }\n",
       "</style>\n",
       "<table border=\"1\" class=\"dataframe\">\n",
       "  <thead>\n",
       "    <tr style=\"text-align: right;\">\n",
       "      <th></th>\n",
       "      <th>filename</th>\n",
       "      <th>author</th>\n",
       "      <th>type</th>\n",
       "      <th>text</th>\n",
       "      <th>act_quote_sentences_removed</th>\n",
       "    </tr>\n",
       "  </thead>\n",
       "  <tbody>\n",
       "    <tr>\n",
       "      <th>0</th>\n",
       "      <td>regina_v_wing_chong.txt</td>\n",
       "      <td>Crease</td>\n",
       "      <td>case</td>\n",
       "      <td>CREASE, J. 1885. REGINA v. WING CHONG. \\r\\n\\r\\...</td>\n",
       "      <td>12</td>\n",
       "    </tr>\n",
       "    <tr>\n",
       "      <th>1</th>\n",
       "      <td>wong_hoy_woon_v_duncan.txt</td>\n",
       "      <td>Crease</td>\n",
       "      <td>case</td>\n",
       "      <td>CREASE, J.\\r\\n\\r\\nWONG HOY WOON v. DUNCAN.\\r\\n...</td>\n",
       "      <td>0</td>\n",
       "    </tr>\n",
       "    <tr>\n",
       "      <th>2</th>\n",
       "      <td>regina_v_mee_wah.txt</td>\n",
       "      <td>Begbie</td>\n",
       "      <td>case</td>\n",
       "      <td>BRITISH COLUMBIA REPORTS.\\r\\n\\r\\nREGINA v. MEE...</td>\n",
       "      <td>0</td>\n",
       "    </tr>\n",
       "    <tr>\n",
       "      <th>3</th>\n",
       "      <td>regina_v_victoria.txt</td>\n",
       "      <td>Begbie</td>\n",
       "      <td>case</td>\n",
       "      <td>OF BRITISH COLUMBIA.\\r\\n\\r\\nREGINA r, CORPORAT...</td>\n",
       "      <td>0</td>\n",
       "    </tr>\n",
       "    <tr>\n",
       "      <th>4</th>\n",
       "      <td>quong_wing_v_the_king.txt</td>\n",
       "      <td>Fitzpatrick</td>\n",
       "      <td>case</td>\n",
       "      <td>QUONG WING v. THE KING. CAN.  \\r\\n\\r\\nSupreme ...</td>\n",
       "      <td>0</td>\n",
       "    </tr>\n",
       "    <tr>\n",
       "      <th>5</th>\n",
       "      <td>commission_on_chinese_imigration.txt</td>\n",
       "      <td>Powell</td>\n",
       "      <td>report</td>\n",
       "      <td>On the 4th of July, 1884, the following Commis...</td>\n",
       "      <td>0</td>\n",
       "    </tr>\n",
       "    <tr>\n",
       "      <th>6</th>\n",
       "      <td>chapleau_report_resume.txt</td>\n",
       "      <td>Chapleau</td>\n",
       "      <td>report</td>\n",
       "      <td>RESUMÉ.\\r\\n\\r\\n1. That Chinese labor is a most...</td>\n",
       "      <td>0</td>\n",
       "    </tr>\n",
       "    <tr>\n",
       "      <th>7</th>\n",
       "      <td>crease_commission.txt</td>\n",
       "      <td>Crease</td>\n",
       "      <td>report</td>\n",
       "      <td>The Hon. Mr. Justice CREASE, Judge of the Supr...</td>\n",
       "      <td>0</td>\n",
       "    </tr>\n",
       "    <tr>\n",
       "      <th>8</th>\n",
       "      <td>begbie_commission.txt</td>\n",
       "      <td>Begbie</td>\n",
       "      <td>report</td>\n",
       "      <td>Sir MATTHEW BEGBIE, Chief Justice of British C...</td>\n",
       "      <td>0</td>\n",
       "    </tr>\n",
       "    <tr>\n",
       "      <th>9</th>\n",
       "      <td>chinese_regulation_act_1884.txt</td>\n",
       "      <td>Others</td>\n",
       "      <td>act</td>\n",
       "      <td>An Act to regulate the Chinese population of B...</td>\n",
       "      <td>0</td>\n",
       "    </tr>\n",
       "  </tbody>\n",
       "</table>\n",
       "</div>"
      ],
      "text/plain": [
       "                               filename       author    type  \\\n",
       "0               regina_v_wing_chong.txt       Crease    case   \n",
       "1            wong_hoy_woon_v_duncan.txt       Crease    case   \n",
       "2                  regina_v_mee_wah.txt       Begbie    case   \n",
       "3                 regina_v_victoria.txt       Begbie    case   \n",
       "4             quong_wing_v_the_king.txt  Fitzpatrick    case   \n",
       "5  commission_on_chinese_imigration.txt       Powell  report   \n",
       "6            chapleau_report_resume.txt     Chapleau  report   \n",
       "7                 crease_commission.txt       Crease  report   \n",
       "8                 begbie_commission.txt       Begbie  report   \n",
       "9       chinese_regulation_act_1884.txt       Others     act   \n",
       "\n",
       "                                                text  \\\n",
       "0  CREASE, J. 1885. REGINA v. WING CHONG. \\r\\n\\r\\...   \n",
       "1  CREASE, J.\\r\\n\\r\\nWONG HOY WOON v. DUNCAN.\\r\\n...   \n",
       "2  BRITISH COLUMBIA REPORTS.\\r\\n\\r\\nREGINA v. MEE...   \n",
       "3  OF BRITISH COLUMBIA.\\r\\n\\r\\nREGINA r, CORPORAT...   \n",
       "4  QUONG WING v. THE KING. CAN.  \\r\\n\\r\\nSupreme ...   \n",
       "5  On the 4th of July, 1884, the following Commis...   \n",
       "6  RESUMÉ.\\r\\n\\r\\n1. That Chinese labor is a most...   \n",
       "7  The Hon. Mr. Justice CREASE, Judge of the Supr...   \n",
       "8  Sir MATTHEW BEGBIE, Chief Justice of British C...   \n",
       "9  An Act to regulate the Chinese population of B...   \n",
       "\n",
       "   act_quote_sentences_removed  \n",
       "0                           12  \n",
       "1                            0  \n",
       "2                            0  \n",
       "3                            0  \n",
       "4                            0  \n",
       "5                            0  \n",
       "6                            0  \n",
       "7                            0  \n",
       "8                            0  \n",
       "9                            0  "
      ]
     },
     "execution_count": 2,
     "metadata": {},
     "output_type": "execute_result"
    }
   ],
   "source": [
    "# Load the dataset\n",
    "df = pd.read_csv(\"../data/metadata_cleaned.csv\")\n",
    "\n",
    "df"
   ]
  },
  {
   "cell_type": "markdown",
   "id": "0ce5996b",
   "metadata": {},
   "source": [
    "We are also interested in the length of each document, as it can provide insights into the depth and complexity of the text. Therefore, we create a summary below quantifying the number of characters in each document.\n",
    "\n"
   ]
  },
  {
   "cell_type": "code",
   "execution_count": 3,
   "id": "2d8e4e6f",
   "metadata": {},
   "outputs": [
    {
     "name": "stdout",
     "output_type": "stream",
     "text": [
      "                               Document  Length\n",
      "0               regina_v_wing_chong.txt   36819\n",
      "1            wong_hoy_woon_v_duncan.txt   13912\n",
      "2                  regina_v_mee_wah.txt   25104\n",
      "3                 regina_v_victoria.txt    8252\n",
      "4             quong_wing_v_the_king.txt   46982\n",
      "5  commission_on_chinese_imigration.txt    3402\n",
      "6            chapleau_report_resume.txt   10906\n",
      "7                 crease_commission.txt   30768\n",
      "8                 begbie_commission.txt   41270\n",
      "9       chinese_regulation_act_1884.txt   12908\n"
     ]
    }
   ],
   "source": [
    "# Summary the distribution of document lengths\n",
    "# Create a DataFrame to store the document lengths\n",
    "doc_lengths = []\n",
    "\n",
    "for row in df.iterrows():\n",
    "    text_length = len(row[1]['text'])\n",
    "    doc_lengths.append({'Document': row[1]['filename'], 'Length': text_length})\n",
    "\n",
    "# Convert to DataFrame and display\n",
    "doc_lengths_df = pd.DataFrame(doc_lengths)\n",
    "print(doc_lengths_df)"
   ]
  },
  {
   "cell_type": "markdown",
   "id": "21f1288c",
   "metadata": {},
   "source": [
    "### How Computers Interpret Text?"
   ]
  },
  {
   "cell_type": "markdown",
   "id": "d979976f",
   "metadata": {},
   "source": [
    "#### Count Approach: TF-IDF\n",
    "\n",
    "The **Term Frequency-Inverse Document Frequency (TF-IDF)** is a statistical measure that evaluates the importance of a word in a document relative to a collection of documents (corpus). It is one of the earliest and most widely used methods for text analysis. It is essentially a count-based approach that quantifies the importance of words in a document based on their frequency and distribution across multiple documents. TF-IDF works by calculating two components:\n",
    "1. **Term Frequency (TF)**: Measures how frequently a term appears in a document.\n",
    "2. **Inverse Document Frequency (IDF)**: Measures how important a term is across the entire corpus, by considering how many documents contain the term.\n",
    "\n",
    "For our purpose, we can use TF-IDF to identify the most important words in each document, which can help us understand the key themes and topics discussed in the text. More details on what we are going to do:\n",
    "\n",
    "1. Regroup the text data into 4 groups:\n",
    "    - Crease's writings\n",
    "    - Begbie's writings\n",
    "    - Chinese Regulation Act\n",
    "    - Other documents\n",
    "2. For each group, we will: \n",
    "    - Create a TF-IDF vectorizer to convert the text into numerical vectors.\n",
    "    - Remove common filler words (\"the\", \"and\", etc.).\n",
    "    - Calculate the TF-IDF scores for each word in the documents.\n",
    "    - Identify the most important words based on their TF-IDF scores.\n",
    "3. The most frequent remaining words can reveal the main topics of each case."
   ]
  },
  {
   "cell_type": "code",
   "execution_count": 4,
   "id": "f724c9b1",
   "metadata": {},
   "outputs": [],
   "source": [
    "# Define the function to preprocess text in a DataFrame column\n",
    "def preprocess_text(text_string):\n",
    "    \"\"\"\n",
    "    Cleans and preprocesses text by:\n",
    "    1. Converting to lowercase\n",
    "    2. Removing punctuation and numbers\n",
    "    3. Tokenizing\n",
    "    4. Removing English stop words \n",
    "    5. Removing words with 4 or fewer characters\n",
    "    \"\"\"\n",
    "    # Start with the standard English stop words\n",
    "    stop_words = set(stopwords.words('english'))\n",
    "    \n",
    "    # Add custom domain-specific stop words if needed\n",
    "    custom_additions = {'would', 'may', 'act', 'mr', 'sir', 'also', 'upon', 'shall'}\n",
    "    stop_words.update(custom_additions)\n",
    "    \n",
    "    # Lowercase and remove non-alphabetic characters\n",
    "    processed_text = text_string.lower()\n",
    "    processed_text = re.sub(r'[^a-z\\s]', '', processed_text)\n",
    "    \n",
    "    # Tokenize\n",
    "    tokens = processed_text.split()\n",
    "    \n",
    "    # Filter out stop words AND short words in a single step\n",
    "    filtered_tokens = [\n",
    "        word for word in tokens \n",
    "        if word not in stop_words and len(word) > 4\n",
    "    ]\n",
    "    # Re-join the words into a single string\n",
    "    return \" \".join(filtered_tokens)"
   ]
  },
  {
   "cell_type": "code",
   "execution_count": 5,
   "id": "09603011",
   "metadata": {},
   "outputs": [
    {
     "data": {
      "text/plain": [
       "0    crease regina chong certiorarichinese regulati...\n",
       "1    crease duncan health regulationsvictoria healt...\n",
       "2    british columbia reports regina begbie constit...\n",
       "3    british columbia regina corporation victoria p...\n",
       "4    quong supreme court canada charles fitzpatrick...\n",
       "Name: processed_text, dtype: object"
      ]
     },
     "execution_count": 5,
     "metadata": {},
     "output_type": "execute_result"
    }
   ],
   "source": [
    "# Apply the function to create the 'processed_text' column\n",
    "df['processed_text'] = df['text'].apply(preprocess_text)\n",
    "\n",
    "# Display the first few rows of the processed text\n",
    "df['processed_text'].head(5)"
   ]
  },
  {
   "cell_type": "code",
   "execution_count": 6,
   "id": "dc62f26e",
   "metadata": {},
   "outputs": [
    {
     "data": {
      "text/html": [
       "<div>\n",
       "<style scoped>\n",
       "    .dataframe tbody tr th:only-of-type {\n",
       "        vertical-align: middle;\n",
       "    }\n",
       "\n",
       "    .dataframe tbody tr th {\n",
       "        vertical-align: top;\n",
       "    }\n",
       "\n",
       "    .dataframe thead th {\n",
       "        text-align: right;\n",
       "    }\n",
       "</style>\n",
       "<table border=\"1\" class=\"dataframe\">\n",
       "  <thead>\n",
       "    <tr style=\"text-align: right;\">\n",
       "      <th></th>\n",
       "      <th>Crease</th>\n",
       "      <th>Crease_score</th>\n",
       "      <th>Begbie</th>\n",
       "      <th>Begbie_score</th>\n",
       "      <th>Regulation Act</th>\n",
       "      <th>Regulation Act_score</th>\n",
       "      <th>Other</th>\n",
       "      <th>Other_score</th>\n",
       "    </tr>\n",
       "  </thead>\n",
       "  <tbody>\n",
       "    <tr>\n",
       "      <th>0</th>\n",
       "      <td>chinese</td>\n",
       "      <td>0.200601</td>\n",
       "      <td>license</td>\n",
       "      <td>0.227563</td>\n",
       "      <td>chinese</td>\n",
       "      <td>0.443315</td>\n",
       "      <td>canada</td>\n",
       "      <td>0.221373</td>\n",
       "    </tr>\n",
       "    <tr>\n",
       "      <th>1</th>\n",
       "      <td>labor</td>\n",
       "      <td>0.168550</td>\n",
       "      <td>chinamen</td>\n",
       "      <td>0.149219</td>\n",
       "      <td>dollars</td>\n",
       "      <td>0.283191</td>\n",
       "      <td>chinese</td>\n",
       "      <td>0.194695</td>\n",
       "    </tr>\n",
       "    <tr>\n",
       "      <th>2</th>\n",
       "      <td>infected</td>\n",
       "      <td>0.134599</td>\n",
       "      <td>licenses</td>\n",
       "      <td>0.132835</td>\n",
       "      <td>licence</td>\n",
       "      <td>0.247792</td>\n",
       "      <td>legislation</td>\n",
       "      <td>0.137609</td>\n",
       "    </tr>\n",
       "    <tr>\n",
       "      <th>3</th>\n",
       "      <td>white</td>\n",
       "      <td>0.126402</td>\n",
       "      <td>municipality</td>\n",
       "      <td>0.113449</td>\n",
       "      <td>collector</td>\n",
       "      <td>0.212393</td>\n",
       "      <td>country</td>\n",
       "      <td>0.114030</td>\n",
       "    </tr>\n",
       "    <tr>\n",
       "      <th>4</th>\n",
       "      <td>taxation</td>\n",
       "      <td>0.103640</td>\n",
       "      <td>statute</td>\n",
       "      <td>0.103499</td>\n",
       "      <td>forfeit</td>\n",
       "      <td>0.190386</td>\n",
       "      <td>wycombe</td>\n",
       "      <td>0.110548</td>\n",
       "    </tr>\n",
       "    <tr>\n",
       "      <th>5</th>\n",
       "      <td>british</td>\n",
       "      <td>0.096680</td>\n",
       "      <td>legislature</td>\n",
       "      <td>0.098062</td>\n",
       "      <td>lieutenantgovernor</td>\n",
       "      <td>0.190386</td>\n",
       "      <td>naturalized</td>\n",
       "      <td>0.107645</td>\n",
       "    </tr>\n",
       "    <tr>\n",
       "      <th>6</th>\n",
       "      <td>hongkong</td>\n",
       "      <td>0.096142</td>\n",
       "      <td>revenue</td>\n",
       "      <td>0.096895</td>\n",
       "      <td>person</td>\n",
       "      <td>0.190158</td>\n",
       "      <td>great</td>\n",
       "      <td>0.101984</td>\n",
       "    </tr>\n",
       "    <tr>\n",
       "      <th>7</th>\n",
       "      <td>dominion</td>\n",
       "      <td>0.092252</td>\n",
       "      <td>corporation</td>\n",
       "      <td>0.093189</td>\n",
       "      <td>possession</td>\n",
       "      <td>0.188833</td>\n",
       "      <td>parliament</td>\n",
       "      <td>0.097260</td>\n",
       "    </tr>\n",
       "    <tr>\n",
       "      <th>8</th>\n",
       "      <td>health officer</td>\n",
       "      <td>0.089733</td>\n",
       "      <td>pawnbrokers</td>\n",
       "      <td>0.085087</td>\n",
       "      <td>exceeding</td>\n",
       "      <td>0.176994</td>\n",
       "      <td>county</td>\n",
       "      <td>0.093976</td>\n",
       "    </tr>\n",
       "    <tr>\n",
       "      <th>9</th>\n",
       "      <td>china</td>\n",
       "      <td>0.089049</td>\n",
       "      <td>provincial</td>\n",
       "      <td>0.084027</td>\n",
       "      <td>lieutenantgovernor council</td>\n",
       "      <td>0.166587</td>\n",
       "      <td>honorable</td>\n",
       "      <td>0.092710</td>\n",
       "    </tr>\n",
       "  </tbody>\n",
       "</table>\n",
       "</div>"
      ],
      "text/plain": [
       "           Crease  Crease_score        Begbie  Begbie_score  \\\n",
       "0         chinese      0.200601       license      0.227563   \n",
       "1           labor      0.168550      chinamen      0.149219   \n",
       "2        infected      0.134599      licenses      0.132835   \n",
       "3           white      0.126402  municipality      0.113449   \n",
       "4        taxation      0.103640       statute      0.103499   \n",
       "5         british      0.096680   legislature      0.098062   \n",
       "6        hongkong      0.096142       revenue      0.096895   \n",
       "7        dominion      0.092252   corporation      0.093189   \n",
       "8  health officer      0.089733   pawnbrokers      0.085087   \n",
       "9           china      0.089049    provincial      0.084027   \n",
       "\n",
       "               Regulation Act  Regulation Act_score        Other  Other_score  \n",
       "0                     chinese              0.443315       canada     0.221373  \n",
       "1                     dollars              0.283191      chinese     0.194695  \n",
       "2                     licence              0.247792  legislation     0.137609  \n",
       "3                   collector              0.212393      country     0.114030  \n",
       "4                     forfeit              0.190386      wycombe     0.110548  \n",
       "5          lieutenantgovernor              0.190386  naturalized     0.107645  \n",
       "6                      person              0.190158        great     0.101984  \n",
       "7                  possession              0.188833   parliament     0.097260  \n",
       "8                   exceeding              0.176994       county     0.093976  \n",
       "9  lieutenantgovernor council              0.166587    honorable     0.092710  "
      ]
     },
     "execution_count": 6,
     "metadata": {},
     "output_type": "execute_result"
    }
   ],
   "source": [
    "# Perform TF-IDF vectorization on the processed text\n",
    "\n",
    "# Regrouping the DataFrame for better representation\n",
    "df['group'] = 'Other'\n",
    "df.loc[df['author'] == 'Crease', 'group'] = 'Crease'\n",
    "df.loc[df['author'] == 'Begbie', 'group'] = 'Begbie'\n",
    "df.loc[df['author'] == 'Others', 'group'] = 'Regulation Act'\n",
    "\n",
    "# Load the vectorizer and transform the processed text\n",
    "# This calculates IDF based on word rarity across ALL individual texts.\n",
    "vectorizer = TfidfVectorizer(max_features=1000, ngram_range=(1, 3))\n",
    "tfidf_matrix = vectorizer.fit_transform(df['processed_text'])\n",
    "\n",
    "# Create a new DataFrame with the TF-IDF scores\n",
    "feature_names = vectorizer.get_feature_names_out()\n",
    "tfidf_df = pd.DataFrame(tfidf_matrix.toarray(), columns=feature_names)\n",
    "\n",
    "# Add the 'group' column to this TF-IDF DataFrame for aggregation\n",
    "tfidf_df['group'] = df['group'].values\n",
    "\n",
    "# Group by author and calculate the MEAN TF-IDF score for each word\n",
    "mean_tfidf_by_group = tfidf_df.groupby('group').mean()\n",
    "\n",
    "# Collect top words and arrange them into a side-by-side DataFrame\n",
    "list_of_author_dfs = []\n",
    "for group_name in ['Crease', 'Begbie', 'Regulation Act', 'Other']:\n",
    "    # Get the top 10 terms and scores for the current author\n",
    "    top_words = mean_tfidf_by_group.loc[group_name].sort_values(ascending=False).head(10)\n",
    "    \n",
    "    # Convert the Series to a DataFrame\n",
    "    top_words_df = top_words.reset_index()\n",
    "    top_words_df.columns = [group_name, f'{group_name}_score']\n",
    "    \n",
    "    list_of_author_dfs.append(top_words_df)\n",
    "\n",
    "# Concatenate the list of DataFrames horizontally\n",
    "final_wide_df = pd.concat(list_of_author_dfs, axis=1)\n",
    "\n",
    "# Display the final combined DataFrame\n",
    "final_wide_df"
   ]
  },
  {
   "cell_type": "markdown",
   "id": "2ccefc6b",
   "metadata": {},
   "source": [
    "Undoubtedly, the TF-IDF practice on our corpus has identified some interesting patterns, such as the emphasis on \"Chinese\" in all groups, the emphasis on \"labor\" in Crease's writings, the emphasis on \"license\" in Begbie's writings, and the emphasis on \"dollar\" in the Chinese Regulation Act. \n",
    "\n",
    "However, this approach has limitations, as it does not capture the semantic meaning of words or their relationships to each other. For example, it cannot distinguish between \"Chinese\" as a noun and \"Chinese\" as an adjective, or between \"labor\" as a noun and \"labor\" as a verb. It also does not consider the context in which words are used, which can lead to misinterpretation of their meaning."
   ]
  },
  {
   "cell_type": "markdown",
   "id": "bc24f314",
   "metadata": {},
   "source": [
    "#### Embedding Approach\n",
    "\n",
    "With the advancement of machine learning, **text embeddings** emerged as a more powerful technique for text analysis. It represents words or phrases as dense vectors in a high-dimensional space, capturing semantic relationships between them. This allows for more nuanced understanding of text, enabling tasks like similarity measurement, clustering, and classification.\n",
    "\n",
    "There are several popular text embedding models, including:\n",
    "- **Word2Vec**: A neural network-based model that learns word embeddings by predicting context words given a target word (or vice versa).\n",
    "- **GloVe**: A global vector representation model that learns word embeddings by factorizing the word co-occurrence matrix.\n",
    "- **FastText**: An extension of Word2Vec that represents words as bags of character n-grams, allowing it to handle out-of-vocabulary words and capture subword information.\n",
    "- **BERT**: A transformer-based model that generates contextualized embeddings by considering the entire sentence context, allowing it to capture word meanings based on their surrounding words.\n",
    "\n",
    "In this workshop, we will use a BERT-based model to generate text embeddings for our corpus. [nlpaueb/legal-bert-base-uncased](https://huggingface.co/nlpaueb/legal-bert-base-uncased) is a BERT model pre-trained on English legal texts, including legislation, law cases, and contracts. It is designed to capture the legal language and semantics, making it suitable for our analysis. \n",
    "\n",
    "However, we must note that the model is not perfect and may still have limitations in understanding the nuances of legal language, especially in historical texts. "
   ]
  },
  {
   "cell_type": "markdown",
   "id": "5964e89b",
   "metadata": {},
   "source": [
    "### Word Embeddings\n",
    "#### Creating Word Embeddings\n",
    "\n",
    "While the model itself has the ability to generate word embeddings that capture the semantic meaning of words, we still need to design our own strategy to extract these meanings from our corpus. \n",
    "\n",
    "- Load LEGAL-BERT model and tokenizer.\n",
    "- Tokenize sentences into smaller subword units using a tokenizer.\n",
    "- Process each tokenized sentence through the model to extract hidden layer representations.\n",
    "- Combine subword embeddings to form a single vector for each word by averaging the embeddings of its subword components.\n",
    "- Aggregate embeddings for repeated words across sentences by averaging their vectors.\n",
    "- Return a dictionary mapping each word to its mean embedding, capturing its semantic meaning in the context of the text.\n",
    "\n",
    "In this way, we are not only able to generate word embeddings with contextual meanings over the whole corpus, but also be able to aggregate our corpus into different groups, and generate contextualized word embeddings for each group."
   ]
  },
  {
   "cell_type": "code",
   "execution_count": 7,
   "id": "0c17b9f9",
   "metadata": {},
   "outputs": [],
   "source": [
    "# We will use the Legal-BERT model for this task\n",
    "tokenizer = AutoTokenizer.from_pretrained('nlpaueb/legal-bert-base-uncased')\n",
    "model = AutoModel.from_pretrained('nlpaueb/legal-bert-base-uncased').eval() # set the model to evaluation mode\n",
    "\n",
    "# Define a function to embed words using the tokenizer and model\n",
    "def embed_words(sentences, tokenizer=tokenizer, model=model, target_words=None,\n",
    "                device=None, max_length=512):\n",
    "    \"\"\"\n",
    "    Returns a dictionary {word: mean_embedding}.\n",
    "    Only the mean embedding (float32 numpy array) per word is kept.\n",
    "    \"\"\"\n",
    "    if device is None:\n",
    "        try:\n",
    "            device = next(model.parameters()).device\n",
    "        except Exception:\n",
    "            device = torch.device(\"cpu\")\n",
    "    device = torch.device(device)\n",
    "    model.to(device).eval()\n",
    "\n",
    "    target_set = None if target_words is None else set(target_words)\n",
    "\n",
    "    sums = {}   # word -> torch.Tensor sum of embeddings\n",
    "    counts = {} # word -> occurrence count\n",
    "\n",
    "    with torch.no_grad():\n",
    "        for sent in sentences:\n",
    "            enc = tokenizer(\n",
    "                sent,\n",
    "                return_tensors=\"pt\",\n",
    "                truncation=True,\n",
    "                max_length=max_length\n",
    "            )\n",
    "            enc = {k: v.to(device) for k, v in enc.items()}\n",
    "            outputs = model(**enc)\n",
    "            hidden = outputs.last_hidden_state.squeeze(0)  # (seq_len, hidden)\n",
    "            tokens = tokenizer.convert_ids_to_tokens(enc[\"input_ids\"][0])\n",
    "\n",
    "            i = 0\n",
    "            while i < len(tokens):\n",
    "                tok = tokens[i]\n",
    "                if tok in (\"[CLS]\", \"[SEP]\", \"[PAD]\"):\n",
    "                    i += 1\n",
    "                    continue\n",
    "\n",
    "                # Gather wordpieces\n",
    "                j = i + 1\n",
    "                piece_embs = [hidden[i]]\n",
    "                word = tok[2:] if tok.startswith(\"##\") else tok\n",
    "                while j < len(tokens) and tokens[j].startswith(\"##\"):\n",
    "                    piece_embs.append(hidden[j])\n",
    "                    word += tokens[j][2:]\n",
    "                    j += 1\n",
    "\n",
    "                if target_set is not None and word not in target_set:\n",
    "                    i = j\n",
    "                    continue\n",
    "\n",
    "                word_emb = torch.stack(piece_embs, dim=0).mean(dim=0)\n",
    "                if word in sums:\n",
    "                    sums[word] += word_emb\n",
    "                    counts[word] += 1\n",
    "                else:\n",
    "                    sums[word] = word_emb.clone()\n",
    "                    counts[word] = 1\n",
    "                i = j\n",
    "\n",
    "    return {w: (sums[w] / counts[w]).cpu().numpy() for w in sums}\n"
   ]
  },
  {
   "cell_type": "code",
   "execution_count": 8,
   "id": "c38fd8dd",
   "metadata": {},
   "outputs": [],
   "source": [
    "# Define a function to clean and preprocess text\n",
    "def clean_text(text):\n",
    "    \n",
    "    text = text.lower()\n",
    "    text = re.sub(r'[^\\w\\s]', '', text)  # Remove punctuation\n",
    "    \n",
    "    return text.strip()"
   ]
  },
  {
   "cell_type": "code",
   "execution_count": 9,
   "id": "60bd6550",
   "metadata": {},
   "outputs": [],
   "source": [
    "warnings.filterwarnings(\"ignore\")\n",
    "\n",
    "# Group texts to form a single text per group\n",
    "grouped_texts = df.groupby('group')['text'].apply(lambda x: ' '.join(x)).reset_index()\n",
    "# Use pd.concat instead of the deprecated DataFrame.append\n",
    "grouped_texts = pd.concat(\n",
    "    [grouped_texts, pd.DataFrame([{'group': 'All', 'text': ' '.join(df['text'])}])],\n",
    "    ignore_index=True\n",
    ")\n",
    "\n",
    "# Create new columns for word and sentence tokens\n",
    "grouped_texts['word_tokens'] = grouped_texts['text'].apply(lambda x: word_tokenize(clean_text(x)))\n",
    "grouped_texts['sentence_tokens'] = grouped_texts['text'].apply(lambda x: sent_tokenize(x))\n",
    "\n",
    "# Apply clean_text to the sentence tokens\n",
    "grouped_texts['sentence_tokens'] = grouped_texts['sentence_tokens'].apply(\n",
    "    lambda x: [clean_text(sent) for sent in x]\n",
    ")"
   ]
  },
  {
   "cell_type": "code",
   "execution_count": 10,
   "id": "2c56f361",
   "metadata": {},
   "outputs": [
    {
     "data": {
      "text/html": [
       "<div>\n",
       "<style scoped>\n",
       "    .dataframe tbody tr th:only-of-type {\n",
       "        vertical-align: middle;\n",
       "    }\n",
       "\n",
       "    .dataframe tbody tr th {\n",
       "        vertical-align: top;\n",
       "    }\n",
       "\n",
       "    .dataframe thead th {\n",
       "        text-align: right;\n",
       "    }\n",
       "</style>\n",
       "<table border=\"1\" class=\"dataframe\">\n",
       "  <thead>\n",
       "    <tr style=\"text-align: right;\">\n",
       "      <th></th>\n",
       "      <th>group</th>\n",
       "      <th>text</th>\n",
       "      <th>word_tokens</th>\n",
       "      <th>sentence_tokens</th>\n",
       "      <th>word_embeddings</th>\n",
       "      <th>num_unique_words</th>\n",
       "    </tr>\n",
       "  </thead>\n",
       "  <tbody>\n",
       "    <tr>\n",
       "      <th>0</th>\n",
       "      <td>Begbie</td>\n",
       "      <td>BRITISH COLUMBIA REPORTS.\\r\\n\\r\\nREGINA v. MEE...</td>\n",
       "      <td>[british, columbia, reports, regina, v, mee, w...</td>\n",
       "      <td>[british columbia reports, regina v mee wah, b...</td>\n",
       "      <td>{'british': [0.20316587, 0.13844684, 0.0951799...</td>\n",
       "      <td>2622</td>\n",
       "    </tr>\n",
       "    <tr>\n",
       "      <th>1</th>\n",
       "      <td>Crease</td>\n",
       "      <td>CREASE, J. 1885. REGINA v. WING CHONG. \\r\\n\\r\\...</td>\n",
       "      <td>[crease, j, 1885, regina, v, wing, chong, 14th...</td>\n",
       "      <td>[crease j, 1885, regina v wing chong, 14th  15...</td>\n",
       "      <td>{'crease': [0.4121399, 0.32047123, 0.53407174,...</td>\n",
       "      <td>2654</td>\n",
       "    </tr>\n",
       "    <tr>\n",
       "      <th>2</th>\n",
       "      <td>Other</td>\n",
       "      <td>QUONG WING v. THE KING. CAN.  \\r\\n\\r\\nSupreme ...</td>\n",
       "      <td>[quong, wing, v, the, king, can, supreme, cour...</td>\n",
       "      <td>[quong wing v the king, can, supreme court of ...</td>\n",
       "      <td>{'quong': [-0.0015669838, 0.3608557, 0.3371874...</td>\n",
       "      <td>1906</td>\n",
       "    </tr>\n",
       "    <tr>\n",
       "      <th>3</th>\n",
       "      <td>Regulation Act</td>\n",
       "      <td>An Act to regulate the Chinese population of B...</td>\n",
       "      <td>[an, act, to, regulate, the, chinese, populati...</td>\n",
       "      <td>[an act to regulate the chinese population of ...</td>\n",
       "      <td>{'an': [-0.19061895, -0.11869411, -0.18200988,...</td>\n",
       "      <td>576</td>\n",
       "    </tr>\n",
       "    <tr>\n",
       "      <th>4</th>\n",
       "      <td>All</td>\n",
       "      <td>CREASE, J. 1885. REGINA v. WING CHONG. \\r\\n\\r\\...</td>\n",
       "      <td>[crease, j, 1885, regina, v, wing, chong, 14th...</td>\n",
       "      <td>[crease j, 1885, regina v wing chong, 14th  15...</td>\n",
       "      <td>{'crease': [0.31894925, 0.42798737, 0.46770898...</td>\n",
       "      <td>4849</td>\n",
       "    </tr>\n",
       "  </tbody>\n",
       "</table>\n",
       "</div>"
      ],
      "text/plain": [
       "            group                                               text  \\\n",
       "0          Begbie  BRITISH COLUMBIA REPORTS.\\r\\n\\r\\nREGINA v. MEE...   \n",
       "1          Crease  CREASE, J. 1885. REGINA v. WING CHONG. \\r\\n\\r\\...   \n",
       "2           Other  QUONG WING v. THE KING. CAN.  \\r\\n\\r\\nSupreme ...   \n",
       "3  Regulation Act  An Act to regulate the Chinese population of B...   \n",
       "4             All  CREASE, J. 1885. REGINA v. WING CHONG. \\r\\n\\r\\...   \n",
       "\n",
       "                                         word_tokens  \\\n",
       "0  [british, columbia, reports, regina, v, mee, w...   \n",
       "1  [crease, j, 1885, regina, v, wing, chong, 14th...   \n",
       "2  [quong, wing, v, the, king, can, supreme, cour...   \n",
       "3  [an, act, to, regulate, the, chinese, populati...   \n",
       "4  [crease, j, 1885, regina, v, wing, chong, 14th...   \n",
       "\n",
       "                                     sentence_tokens  \\\n",
       "0  [british columbia reports, regina v mee wah, b...   \n",
       "1  [crease j, 1885, regina v wing chong, 14th  15...   \n",
       "2  [quong wing v the king, can, supreme court of ...   \n",
       "3  [an act to regulate the chinese population of ...   \n",
       "4  [crease j, 1885, regina v wing chong, 14th  15...   \n",
       "\n",
       "                                     word_embeddings  num_unique_words  \n",
       "0  {'british': [0.20316587, 0.13844684, 0.0951799...              2622  \n",
       "1  {'crease': [0.4121399, 0.32047123, 0.53407174,...              2654  \n",
       "2  {'quong': [-0.0015669838, 0.3608557, 0.3371874...              1906  \n",
       "3  {'an': [-0.19061895, -0.11869411, -0.18200988,...               576  \n",
       "4  {'crease': [0.31894925, 0.42798737, 0.46770898...              4849  "
      ]
     },
     "execution_count": 10,
     "metadata": {},
     "output_type": "execute_result"
    }
   ],
   "source": [
    "# Embed the words in each group\n",
    "grouped_texts['word_embeddings'] = grouped_texts['sentence_tokens'].apply(\n",
    "    lambda x: embed_words(x)\n",
    "    )\n",
    "\n",
    "# Compute the number of unique words in each group\n",
    "grouped_texts['num_unique_words'] = grouped_texts['word_tokens'].apply(lambda x: len(set(x)))\n",
    "\n",
    "grouped_texts.head()"
   ]
  },
  {
   "cell_type": "markdown",
   "id": "1ce47c06",
   "metadata": {},
   "source": [
    "We created word embeddings of all tokens in each group, respectively. The word embeddings are stored in a dictionary format, where each key is a word and the value is its corresponding embedding vector.\n",
    "\n",
    "It is clear that the word embeddings of the same word in different groups are different, which reflects the contextualized meaning of the word in each group. \n",
    "- For example, the word \"Chinese\" has a different embedding in Crease's writings compared to Begbie's writings, indicating that the two authors used the word in different contexts and with different connotations.\n",
    "- However, since they were embedded using the same model, the word embeddings of the same word in different groups are still similar, which reflects the shared meaning of the word across different contexts.\n",
    "- The dimensionality of all word embeddings is 768, which is the size of the hidden layer in the LEGAL-BERT model we used."
   ]
  },
  {
   "cell_type": "code",
   "execution_count": null,
   "id": "59aa71df",
   "metadata": {},
   "outputs": [
    {
     "name": "stdout",
     "output_type": "stream",
     "text": [
      "First 20 Dimensions of Word Embedding for 'Chinese' in the Full Corpus:\n",
      " [ 1.2322300e-01  2.6763847e-01  7.2645694e-02  3.9198916e-02\n",
      "  3.2321563e-01  1.2995906e-01  1.2225201e-01  2.5251046e-01\n",
      " -2.4391446e-01 -9.4088748e-02  6.4341635e-02  4.6708676e-01\n",
      "  1.5845809e-04 -7.6655887e-02 -4.1823617e-01  2.5841817e-01\n",
      "  1.2294206e-01 -1.2723301e-01 -6.0239416e-01  4.2815152e-01]\n",
      "\n",
      "Total Dimensions of Word Embedding for 'Chinese': 768\n",
      "\n"
     ]
    }
   ],
   "source": [
    "# Display the word embedding of Chinese for the whole corpus\n",
    "chinese_embedding = grouped_texts[grouped_texts['group'] == 'All']['word_embeddings'].values[0].get('chinese')\n",
    "\n",
    "# Display first 20 dimensions for brevity\n",
    "print(f\"First 20 Dimensions of Word Embedding for 'Chinese' in the Full Corpus:\\n {chinese_embedding[:20]}\\n\")\n",
    "print(f\"Total Dimensions of Word Embedding for 'Chinese': {len(chinese_embedding)}\\n\")"
   ]
  },
  {
   "cell_type": "code",
   "execution_count": 12,
   "id": "8097aa7e",
   "metadata": {},
   "outputs": [
    {
     "name": "stdout",
     "output_type": "stream",
     "text": [
      "First 20 Dimensions of Word Embeddings for 'Chinese' in Crease's Text:\n",
      "[ 0.12104391  0.31581154  0.04769319  0.0805686   0.3044722   0.09346943\n",
      "  0.14147684  0.2550373  -0.22372353 -0.09209424  0.0625285   0.49330303\n",
      "  0.00912888 -0.07314441 -0.439856    0.3086382   0.09130041 -0.1273665\n",
      " -0.5595881   0.41660848]\n",
      "\n",
      "Total Dimensions of Word Embeddings for 'Chinese' in Crease's Text: 768\n",
      "\n"
     ]
    }
   ],
   "source": [
    "# Display the word embedding of Chinese in Crease's text\n",
    "crease_embeddings = grouped_texts[grouped_texts['group'] == 'Crease']['word_embeddings'].values[0]\n",
    "# Display first 20 dimensions for brevity\n",
    "print(f\"First 20 Dimensions of Word Embeddings for 'Chinese' in Crease's Text:\\n{crease_embeddings.get('chinese')[:20]}\\n\") \n",
    "print(f\"Total Dimensions of Word Embeddings for 'Chinese' in Crease's Text: {len(crease_embeddings.get('chinese'))}\\n\")"
   ]
  },
  {
   "cell_type": "code",
   "execution_count": 13,
   "id": "1074dc17",
   "metadata": {},
   "outputs": [
    {
     "name": "stdout",
     "output_type": "stream",
     "text": [
      "First 20 Dimensions of Word Embeddings for 'Chinese' in Begbie's Text:\n",
      "[ 0.12386303  0.27892804  0.02562958 -0.02250974  0.30389023  0.16883047\n",
      "  0.00716521  0.309511   -0.28151745  0.00930497  0.05432036  0.43589708\n",
      " -0.04397878 -0.05242987 -0.52100396  0.3696377   0.16586976 -0.14758825\n",
      " -0.60179514  0.38511708]\n",
      "\n",
      "Total Dimensions of Word Embeddings for 'Chinese' in Begbie's Text: 768\n",
      "\n"
     ]
    }
   ],
   "source": [
    "begbie_embeddings = grouped_texts[grouped_texts['group'] == 'Begbie']['word_embeddings'].values[0]\n",
    "# Display first 20 dimensions for brevity\n",
    "print(f\"First 20 Dimensions of Word Embeddings for 'Chinese' in Begbie's Text:\\n{begbie_embeddings.get('chinese')[:20]}\\n\")\n",
    "print(f\"Total Dimensions of Word Embeddings for 'Chinese' in Begbie's Text: {len(begbie_embeddings.get('chinese'))}\\n\")"
   ]
  },
  {
   "cell_type": "markdown",
   "id": "efb2fcff",
   "metadata": {},
   "source": [
    "#### Measurement of Similarity"
   ]
  },
  {
   "cell_type": "markdown",
   "id": "e0b444a3",
   "metadata": {},
   "source": [
    "Another important aspect of word embeddings is the ability to measure the similarity between words based on their embeddings. This can be done using cosine similarity, which calculates the cosine of the angle between two vectors in the embedding space. The cosine similarity ranges from 0 to 1, where:\n",
    "\n",
    "- 0 indicates no similarity (orthogonal vectors)\n",
    "- 1 indicates perfect similarity (identical vectors)\n",
    "- The closer the cosine similarity is to 1, the more similar the words are in meaning.\n",
    "\n",
    "This allows us to identify related words and concepts based on their embeddings, enabling us to explore the semantic relationships between words in our corpus. And more importantly, it doesn't only allows us to measure the similarity between words, but also allows us to measure the similarity between sentences, paragraphs, and even entire documents, as long as they are represented as vectors in the same embedding space.\n",
    "\n",
    "The math behind cosine similarity is as follows:\n",
    "$$\n",
    "\\text{cosine\\_similarity}(a, b) = \\frac{a \\cdot b}{||a|| \\cdot ||b||}\n",
    "$$\n",
    "Where $a$ and $b$ are the embedding vectors of the two words, and $||a||$ and $||b||$ are their Pythagorean norms (lengths).\n",
    "\n",
    "Focusing on the word \"Chinese\", we can calculate its cosine similarity with other words in the same group to identify related terms. This can help us understand how the word is used in different contexts and how it relates to other concepts. Here, we will list out the top 10 most similar words to \"Chinese\" in each group, along with their cosine similarity scores.\n",
    "\n",
    "**Note**: All words are put into lowercase."
   ]
  },
  {
   "cell_type": "code",
   "execution_count": 14,
   "id": "4b9562e4",
   "metadata": {},
   "outputs": [
    {
     "data": {
      "text/html": [
       "<div>\n",
       "<style scoped>\n",
       "    .dataframe tbody tr th:only-of-type {\n",
       "        vertical-align: middle;\n",
       "    }\n",
       "\n",
       "    .dataframe tbody tr th {\n",
       "        vertical-align: top;\n",
       "    }\n",
       "\n",
       "    .dataframe thead tr th {\n",
       "        text-align: left;\n",
       "    }\n",
       "\n",
       "    .dataframe thead tr:last-of-type th {\n",
       "        text-align: right;\n",
       "    }\n",
       "</style>\n",
       "<table border=\"1\" class=\"dataframe\">\n",
       "  <thead>\n",
       "    <tr>\n",
       "      <th>group</th>\n",
       "      <th colspan=\"2\" halign=\"left\">All</th>\n",
       "      <th colspan=\"2\" halign=\"left\">Begbie</th>\n",
       "      <th colspan=\"2\" halign=\"left\">Crease</th>\n",
       "      <th colspan=\"2\" halign=\"left\">Other</th>\n",
       "      <th colspan=\"2\" halign=\"left\">Regulation Act</th>\n",
       "    </tr>\n",
       "    <tr>\n",
       "      <th></th>\n",
       "      <th>similarity</th>\n",
       "      <th>word</th>\n",
       "      <th>similarity</th>\n",
       "      <th>word</th>\n",
       "      <th>similarity</th>\n",
       "      <th>word</th>\n",
       "      <th>similarity</th>\n",
       "      <th>word</th>\n",
       "      <th>similarity</th>\n",
       "      <th>word</th>\n",
       "    </tr>\n",
       "    <tr>\n",
       "      <th>rank</th>\n",
       "      <th></th>\n",
       "      <th></th>\n",
       "      <th></th>\n",
       "      <th></th>\n",
       "      <th></th>\n",
       "      <th></th>\n",
       "      <th></th>\n",
       "      <th></th>\n",
       "      <th></th>\n",
       "      <th></th>\n",
       "    </tr>\n",
       "  </thead>\n",
       "  <tbody>\n",
       "    <tr>\n",
       "      <th>1</th>\n",
       "      <td>0.882102</td>\n",
       "      <td>chinamen</td>\n",
       "      <td>0.885641</td>\n",
       "      <td>china</td>\n",
       "      <td>0.884988</td>\n",
       "      <td>chinamen</td>\n",
       "      <td>0.878179</td>\n",
       "      <td>china</td>\n",
       "      <td>0.762290</td>\n",
       "      <td>immigrant</td>\n",
       "    </tr>\n",
       "    <tr>\n",
       "      <th>2</th>\n",
       "      <td>0.879779</td>\n",
       "      <td>china</td>\n",
       "      <td>0.866699</td>\n",
       "      <td>chinamen</td>\n",
       "      <td>0.875142</td>\n",
       "      <td>chinaman</td>\n",
       "      <td>0.874599</td>\n",
       "      <td>chinamen</td>\n",
       "      <td>0.750000</td>\n",
       "      <td>whites</td>\n",
       "    </tr>\n",
       "    <tr>\n",
       "      <th>3</th>\n",
       "      <td>0.878989</td>\n",
       "      <td>chinaman</td>\n",
       "      <td>0.863639</td>\n",
       "      <td>chinaman</td>\n",
       "      <td>0.867620</td>\n",
       "      <td>china</td>\n",
       "      <td>0.869380</td>\n",
       "      <td>chinaman</td>\n",
       "      <td>0.744102</td>\n",
       "      <td>employer</td>\n",
       "    </tr>\n",
       "    <tr>\n",
       "      <th>4</th>\n",
       "      <td>0.833691</td>\n",
       "      <td>japanese</td>\n",
       "      <td>0.813474</td>\n",
       "      <td>whites</td>\n",
       "      <td>0.857302</td>\n",
       "      <td>white</td>\n",
       "      <td>0.816787</td>\n",
       "      <td>orientals</td>\n",
       "      <td>0.739430</td>\n",
       "      <td>native</td>\n",
       "    </tr>\n",
       "    <tr>\n",
       "      <th>5</th>\n",
       "      <td>0.832887</td>\n",
       "      <td>immigrant</td>\n",
       "      <td>0.810684</td>\n",
       "      <td>white</td>\n",
       "      <td>0.843365</td>\n",
       "      <td>aliens</td>\n",
       "      <td>0.809490</td>\n",
       "      <td>alien</td>\n",
       "      <td>0.736644</td>\n",
       "      <td>yards</td>\n",
       "    </tr>\n",
       "    <tr>\n",
       "      <th>6</th>\n",
       "      <td>0.832593</td>\n",
       "      <td>white</td>\n",
       "      <td>0.800130</td>\n",
       "      <td>universal</td>\n",
       "      <td>0.817652</td>\n",
       "      <td>confederation</td>\n",
       "      <td>0.807922</td>\n",
       "      <td>immigrants</td>\n",
       "      <td>0.732831</td>\n",
       "      <td>person</td>\n",
       "    </tr>\n",
       "    <tr>\n",
       "      <th>7</th>\n",
       "      <td>0.831415</td>\n",
       "      <td>immigrants</td>\n",
       "      <td>0.796812</td>\n",
       "      <td>english</td>\n",
       "      <td>0.817285</td>\n",
       "      <td>coolies</td>\n",
       "      <td>0.807445</td>\n",
       "      <td>provincial</td>\n",
       "      <td>0.710163</td>\n",
       "      <td>race</td>\n",
       "    </tr>\n",
       "    <tr>\n",
       "      <th>8</th>\n",
       "      <td>0.829720</td>\n",
       "      <td>whites</td>\n",
       "      <td>0.794389</td>\n",
       "      <td>europeans</td>\n",
       "      <td>0.816437</td>\n",
       "      <td>immigrants</td>\n",
       "      <td>0.807062</td>\n",
       "      <td>oriental</td>\n",
       "      <td>0.709648</td>\n",
       "      <td>found</td>\n",
       "    </tr>\n",
       "    <tr>\n",
       "      <th>9</th>\n",
       "      <td>0.820621</td>\n",
       "      <td>orientals</td>\n",
       "      <td>0.790069</td>\n",
       "      <td>provincial</td>\n",
       "      <td>0.815707</td>\n",
       "      <td>sweet</td>\n",
       "      <td>0.806823</td>\n",
       "      <td>aliens</td>\n",
       "      <td>0.708453</td>\n",
       "      <td>emergency</td>\n",
       "    </tr>\n",
       "    <tr>\n",
       "      <th>10</th>\n",
       "      <td>0.818171</td>\n",
       "      <td>aliens</td>\n",
       "      <td>0.787839</td>\n",
       "      <td>canton</td>\n",
       "      <td>0.814447</td>\n",
       "      <td>japanese</td>\n",
       "      <td>0.802767</td>\n",
       "      <td>asiatic</td>\n",
       "      <td>0.707480</td>\n",
       "      <td>useless</td>\n",
       "    </tr>\n",
       "  </tbody>\n",
       "</table>\n",
       "</div>"
      ],
      "text/plain": [
       "group        All                 Begbie                 Crease                 \\\n",
       "      similarity        word similarity        word similarity           word   \n",
       "rank                                                                            \n",
       "1       0.882102    chinamen   0.885641       china   0.884988       chinamen   \n",
       "2       0.879779       china   0.866699    chinamen   0.875142       chinaman   \n",
       "3       0.878989    chinaman   0.863639    chinaman   0.867620          china   \n",
       "4       0.833691    japanese   0.813474      whites   0.857302          white   \n",
       "5       0.832887   immigrant   0.810684       white   0.843365         aliens   \n",
       "6       0.832593       white   0.800130   universal   0.817652  confederation   \n",
       "7       0.831415  immigrants   0.796812     english   0.817285        coolies   \n",
       "8       0.829720      whites   0.794389   europeans   0.816437     immigrants   \n",
       "9       0.820621   orientals   0.790069  provincial   0.815707          sweet   \n",
       "10      0.818171      aliens   0.787839      canton   0.814447       japanese   \n",
       "\n",
       "group      Other             Regulation Act             \n",
       "      similarity        word     similarity       word  \n",
       "rank                                                    \n",
       "1       0.878179       china       0.762290  immigrant  \n",
       "2       0.874599    chinamen       0.750000     whites  \n",
       "3       0.869380    chinaman       0.744102   employer  \n",
       "4       0.816787   orientals       0.739430     native  \n",
       "5       0.809490       alien       0.736644      yards  \n",
       "6       0.807922  immigrants       0.732831     person  \n",
       "7       0.807445  provincial       0.710163       race  \n",
       "8       0.807062    oriental       0.709648      found  \n",
       "9       0.806823      aliens       0.708453  emergency  \n",
       "10      0.802767     asiatic       0.707480    useless  "
      ]
     },
     "execution_count": 14,
     "metadata": {},
     "output_type": "execute_result"
    }
   ],
   "source": [
    "# Compute top-10 most similar words to target for EVERY group (including \"All\")\n",
    "target = \"chinese\"\n",
    "top_n = 10\n",
    "all_results = []\n",
    "# Iterate through each group and compute similarities\n",
    "for _, grp_row in grouped_texts.iterrows():\n",
    "    group = grp_row['group']\n",
    "    emb_dict = grp_row['word_embeddings']\n",
    "    if target not in emb_dict:\n",
    "        continue\n",
    "    target_vec = emb_dict[target]\n",
    "    sims = []\n",
    "    for w, vec in emb_dict.items():\n",
    "        if w == target:\n",
    "            continue\n",
    "        try:\n",
    "            sim = 1 - cosine(target_vec, vec)\n",
    "        except Exception:\n",
    "            continue\n",
    "        sims.append((w, sim))\n",
    "    sims_sorted = sorted(sims, key=lambda x: x[1], reverse=True)[:top_n]\n",
    "    for rank, (w, sim) in enumerate(sims_sorted, 1):\n",
    "        all_results.append({'group': group, 'rank': rank, 'word': w, 'similarity': sim})  # Use :4f for better readability\n",
    "\n",
    "similar_words_df = pd.DataFrame(all_results)\n",
    "\n",
    "# Display the first few rows of the DataFrame with similar words\n",
    "sims_wide = similar_words_df.pivot(index='rank', columns='group', values='similarity')\n",
    "words_wide = similar_words_df.pivot(index='rank', columns='group', values='word')\n",
    "\n",
    "# Combine with a tidy multi-level column index: \n",
    "wide_combined = pd.concat({'word': words_wide, 'similarity': sims_wide}, axis=1)\n",
    "wide_combined = (\n",
    "    wide_combined.swaplevel(0,1, axis=1)\n",
    "                 .sort_index(axis=1, level=0)\n",
    ")\n",
    "\n",
    "wide_combined  # Display\n"
   ]
  },
  {
   "cell_type": "markdown",
   "id": "74410ad9",
   "metadata": {},
   "source": [
    "### Embedding Driven Text Analysis\n",
    "#### Creating Keyword-Focused Stance Embeddings"
   ]
  },
  {
   "cell_type": "markdown",
   "id": "53d50da5",
   "metadata": {},
   "source": [
    "In comparison to generating word embeddings, modeling stance of each text is more challenging, as it requires us to capture the author's position on a specific issue or topic. Oftentimes, the stance is not explicitly stated in the text, but rather implied through the language used. \n",
    "\n",
    "There is not a universal optimum for stance modeling, as it depends on the specific context and the author's perspective. However, we can use a combination of techniques to create focused embeddings that capture the stance of each text. The strategy we used is as follows:\n",
    "\n",
    "- Tokenize the text into smaller units and identify the positions of specific keywords or phrases that are relevant to the stance being analyzed.\n",
    "- For each occurrence of the keywords, extract a surrounding \"window\" of text to capture the context in which the keywords are used.\n",
    "- Represent the text in the window as numerical vectors using a pre-trained language model, which encodes the meaning of the words and their relationships.\n",
    "- Combine the vectors within each window using a pooling method (e.g., averaging or selecting the maximum value) to create a single representation for the context around the keyword.\n",
    "- If multiple occurrences of the keywords are found, average their representations to create a unified vector that captures the overall stance in the text.\n",
    "- If no keywords are found, use a fallback representation based on the overall text.\n",
    "\n",
    "This approach thus allows us to create focused embeddings that capture the stance of each text focusing on specific keywords or phrases. The sentence is used as the basic unit of analysis here, but larger chunks of text can also be used if needed. \n",
    "\n",
    "In the end, we will store the lists of embeddings in a dictionary format, where each key is the author and the value is a list of embeddings for each text authored by that author."
   ]
  },
  {
   "cell_type": "code",
   "execution_count": 15,
   "id": "c77f85c3",
   "metadata": {},
   "outputs": [],
   "source": [
    "def embed_text(\n",
    "    text,\n",
    "    focus_token= None,\n",
    "    window = 10,\n",
    "    pooling = \"mean\",  # \"mean\" (default), \"max\", or \"min\"\n",
    "    tokenizer=tokenizer,\n",
    "    model=model):\n",
    "\n",
    "    # Run the model once\n",
    "    inputs = tokenizer(text, return_tensors=\"pt\", truncation=True)\n",
    "    with torch.no_grad():\n",
    "        outputs = model(**inputs)\n",
    "    hidden = outputs.last_hidden_state.squeeze(0) \n",
    "\n",
    "    if focus_token is None:\n",
    "        return hidden[0].cpu().numpy()\n",
    "    \n",
    "    # Normalize to list\n",
    "    keywords = (\n",
    "        [focus_token] if isinstance(focus_token, str)\n",
    "        else focus_token\n",
    "    )\n",
    "\n",
    "    # Pre-tokenize each keyword to its subtoken ids\n",
    "    kw_token_ids = {\n",
    "        kw: tokenizer.convert_tokens_to_ids(tokenizer.tokenize(kw))\n",
    "        for kw in keywords\n",
    "    }\n",
    "\n",
    "    input_ids = inputs[\"input_ids\"].squeeze(0).tolist()\n",
    "    spans = []  # list of (start, end) index pairs\n",
    "\n",
    "    # find every match of every keyword\n",
    "    for kw, sub_ids in kw_token_ids.items():\n",
    "        L = len(sub_ids)\n",
    "        for i in range(len(input_ids) - L + 1):\n",
    "            if input_ids[i:i+L] == sub_ids:\n",
    "                spans.append((i, i+L))\n",
    "\n",
    "    if not spans:\n",
    "        # fallback on CLS vector\n",
    "        return hidden[0].cpu().numpy()\n",
    "\n",
    "    # For each span, grab the window around it\n",
    "    vecs = []\n",
    "    for (start, end) in spans:\n",
    "        lo = max(1, start - window)\n",
    "        hi = min(hidden.size(0), end + window)\n",
    "        # mean‑pool over all tokens in this extended window\n",
    "        span_vec = hidden[lo:hi]\n",
    "        \n",
    "        if pooling == \"mean\":\n",
    "            pooled = span_vec.mean(dim=0)\n",
    "        elif pooling == \"max\":\n",
    "            pooled = span_vec.max(dim=0).values\n",
    "        elif pooling == \"min\":\n",
    "            pooled = span_vec.min(dim=0).values\n",
    "        else:\n",
    "            raise ValueError(f\"Unknown pooling method: {pooling}\")\n",
    "        \n",
    "        vecs.append(pooled.cpu().numpy())\n",
    "\n",
    "    # Average across all spans\n",
    "    return np.mean(np.stack(vecs, axis=0), axis=0)"
   ]
  },
  {
   "cell_type": "code",
   "execution_count": 16,
   "id": "6c3b63f7",
   "metadata": {},
   "outputs": [],
   "source": [
    "crease_cases = df[(df['author'] == 'Crease') & (df['type'] == 'case')]['text'].tolist()\n",
    "begbie_cases = df[(df['author'] == 'Begbie') & (df['type'] == 'case')]['text'].tolist()\n",
    "act_1884 = df[df['type'] == 'act']['text'].tolist()\n",
    "\n",
    "act_dict = {\n",
    "    'Crease': crease_cases,\n",
    "    'Begbie': begbie_cases,\n",
    "    'Act 1884': act_1884}"
   ]
  },
  {
   "cell_type": "code",
   "execution_count": 17,
   "id": "570cddf6",
   "metadata": {},
   "outputs": [],
   "source": [
    "act_snippets = {}\n",
    "\n",
    "keywords = [\"Chinese\", \"China\", \"Chinaman\", \"Chinamen\", \n",
    "            \"immigrant\", \"immigrants\", \"alien\", \"aliens\", \n",
    "            \"immigration\"]\n",
    "\n",
    "for auth, texts in act_dict.items():\n",
    "    snippets = []\n",
    "    for txt in texts:\n",
    "        sentence = sent_tokenize(txt)\n",
    "        for sent in sentence:\n",
    "            if any(keyword in sent for keyword in keywords):\n",
    "                snippets.append(sent)\n",
    "    act_snippets[auth] = snippets"
   ]
  },
  {
   "cell_type": "code",
   "execution_count": 18,
   "id": "43142f1c",
   "metadata": {},
   "outputs": [
    {
     "name": "stdout",
     "output_type": "stream",
     "text": [
      "Snippet size by author:\n",
      "Crease: 83\n",
      "Begbie: 18\n",
      "Act 1884: 24\n"
     ]
    }
   ],
   "source": [
    "# Investigate the length of the snippets\n",
    "n_snippet = {auth: len(snippets) for auth, snippets in act_snippets.items()}\n",
    "\n",
    "print(\"Snippet size by author:\")\n",
    "for auth, num in n_snippet.items():\n",
    "    print(f\"{auth}: {num}\")"
   ]
  },
  {
   "cell_type": "code",
   "execution_count": 19,
   "id": "b4926195",
   "metadata": {},
   "outputs": [],
   "source": [
    "# Create embeddings\n",
    "embeddings_dict = {'Crease': [], 'Begbie': [], 'Act 1884': []}\n",
    "\n",
    "for auth, snippets in act_snippets.items():\n",
    "    for snip in snippets:\n",
    "        v = embed_text(snip, focus_token=keywords, window=15)\n",
    "        embeddings_dict[auth].append(v) "
   ]
  },
  {
   "cell_type": "markdown",
   "id": "d1909069",
   "metadata": {},
   "source": [
    "#### Measuring Stance Similarity"
   ]
  },
  {
   "cell_type": "markdown",
   "id": "3b1ee37f",
   "metadata": {},
   "source": [
    "Just like word embeddings, cosine similarity can also be used to measure the stance similarity between texts. The interpretation of cosine similarity in this context is similar to that of word embeddings, where a higher cosine similarity indicates a stronger alignment in stance between two texts.\n",
    "\n",
    "With sentence being the basic unit of analysis, we can calculate the overall cosine similarity between each pair of authors' texts in various ways, but here we will focus on two of them:\n",
    "1. **Mean Embeddings**: We calculate the mean embedding for each author's texts and then compute the cosine similarity between these mean embeddings. This gives us a single similarity score for each pair of authors, reflecting their overall stance alignment.\n",
    "2. **Pairwise Embeddings**: We calculate the cosine similarity between each pair of texts authored by different authors, then average the scores to get a more comprehensive view of stance alignment across all texts.\n",
    "\n",
    "Note that similarity scores are not deterministic, as they depend on the specific texts and the context in which the keywords are used. However, they can provide valuable insights into the stance of each author and how it relates to other authors' positions. This reinforces the idea that **stance is not a fixed attribute**, but rather a dynamic and context-dependent aspect of language."
   ]
  },
  {
   "cell_type": "code",
   "execution_count": 20,
   "id": "bd518f23",
   "metadata": {},
   "outputs": [
    {
     "name": "stdout",
     "output_type": "stream",
     "text": [
      "Cosine similarity between mean Crease and mean Begbie: 0.9886\n",
      "Cosine similarity between mean Crease and mean Act 1884: 0.9663\n",
      "Cosine similarity between mean Begbie and mean Act 1884: 0.9624\n"
     ]
    }
   ],
   "source": [
    "# Compute the pairwise cosine similarity\n",
    "mean_crease = np.mean(embeddings_dict[\"Crease\"], axis=0, keepdims=True)\n",
    "mean_begbie = np.mean(embeddings_dict[\"Begbie\"], axis=0, keepdims=True)\n",
    "mean_act_1884 = np.mean(embeddings_dict[\"Act 1884\"], axis=0, keepdims=True)\n",
    "\n",
    "sim_crease_begbie = cosine_similarity(mean_crease, mean_begbie)[0, 0]\n",
    "sim_crease_act_1884 = cosine_similarity(mean_crease, mean_act_1884)[0, 0]\n",
    "sim_begbie_act_1884 = cosine_similarity(mean_begbie, mean_act_1884)[0, 0]\n",
    "\n",
    "print(f\"Cosine similarity between mean Crease and mean Begbie: {sim_crease_begbie:.4f}\")\n",
    "print(f\"Cosine similarity between mean Crease and mean Act 1884: {sim_crease_act_1884:.4f}\")\n",
    "print(f\"Cosine similarity between mean Begbie and mean Act 1884: {sim_begbie_act_1884:.4f}\")"
   ]
  },
  {
   "cell_type": "code",
   "execution_count": 21,
   "id": "c53f0be0",
   "metadata": {},
   "outputs": [
    {
     "name": "stdout",
     "output_type": "stream",
     "text": [
      "Mean cosine similarity between Crease and Begbie embeddings: 0.8661\n",
      "Mean cosine similarity between Crease and Act 1884 embeddings: 0.8391\n",
      "Mean cosine similarity between Begbie and Act 1884 embeddings: 0.8424\n"
     ]
    }
   ],
   "source": [
    "# Extract embeddings for Crease, Begbie and the Act 1884\n",
    "crease_embeddings = embeddings_dict[\"Crease\"]\n",
    "begbie_embeddings = embeddings_dict[\"Begbie\"]\n",
    "act_1884_embeddings = embeddings_dict[\"Act 1884\"]\n",
    "\n",
    "# Define a function to compute mean cosine similarity\n",
    "def mean_cosine_similarity(embeddings1, embeddings2):\n",
    "    similarities = [\n",
    "        1 - cosine(e1, e2)\n",
    "        for e1 in embeddings1\n",
    "        for e2 in embeddings2\n",
    "    ]\n",
    "    return sum(similarities) / len(similarities)\n",
    "\n",
    "# Extract embeddings\n",
    "crease_emb = embeddings_dict[\"Crease\"]\n",
    "begbie_emb = embeddings_dict[\"Begbie\"]\n",
    "act_1884_emb = embeddings_dict[\"Act 1884\"]\n",
    "\n",
    "# Compute mean similarities\n",
    "crease_begbie_sim = mean_cosine_similarity(crease_emb, begbie_emb)\n",
    "crease_act_sim = mean_cosine_similarity(crease_emb, act_1884_emb)\n",
    "begbie_act_sim = mean_cosine_similarity(begbie_emb, act_1884_emb)\n",
    "\n",
    "# Output\n",
    "print(f\"Mean cosine similarity between Crease and Begbie embeddings: {crease_begbie_sim:.4f}\")\n",
    "print(f\"Mean cosine similarity between Crease and Act 1884 embeddings: {crease_act_sim:.4f}\")\n",
    "print(f\"Mean cosine similarity between Begbie and Act 1884 embeddings: {begbie_act_sim:.4f}\")"
   ]
  },
  {
   "cell_type": "markdown",
   "id": "22d8f9b5",
   "metadata": {},
   "source": [
    "#### Visualizing Text Embeddings"
   ]
  },
  {
   "cell_type": "markdown",
   "id": "c8aec23c",
   "metadata": {},
   "source": [
    "While the embeddings themselves are high-dimensional vectors (in our case, 768-dimensional), we can visualize them in a lower-dimensional space (e.g., 2D or 3D) using **dimensionality reduction** techniques such as **UMAP** (Uniform Manifold Approximation and Projection). \n",
    "\n",
    "**UMAP** is a dimensionality reduction technique that projects high-dimensional embeddings into a 2D space while preserving local structure, making it ideal for visualizing our embeddings. \n",
    "\n",
    "Using **Plotly Express**, we create an interactive scatter plot where each point represents a text snippet, colored by author, with hover functionality to display the corresponding sentence. This visualization highlights clusters and relationships between snippets, offering insights into semantic similarities across authors.\n"
   ]
  },
  {
   "cell_type": "code",
   "execution_count": 22,
   "id": "08a8c409",
   "metadata": {},
   "outputs": [],
   "source": [
    "all_vecs = np.vstack(embeddings_dict[\"Crease\"] + embeddings_dict[\"Begbie\"] + embeddings_dict[\"Act 1884\"])\n",
    "labels  = ([\"Crease\"] * len(embeddings_dict[\"Crease\"])) + ([\"Begbie\"] * len(embeddings_dict[\"Begbie\"])) + (['Act 1884'] * len(embeddings_dict[\"Act 1884\"]))\n",
    "\n",
    "reducer = umap.UMAP(n_neighbors=15, min_dist=0.1)\n",
    "proj = reducer.fit_transform(all_vecs) \n",
    "\n",
    "def wrap_text(text, width=60):\n",
    "    return '<br>'.join(textwrap.wrap(text, width=width))"
   ]
  },
  {
   "cell_type": "code",
   "execution_count": 23,
   "id": "35574698",
   "metadata": {},
   "outputs": [
    {
     "data": {
      "application/vnd.plotly.v1+json": {
       "config": {
        "plotlyServerURL": "https://plot.ly"
       },
       "data": [
        {
         "customdata": [
          [
           "14th & 15th July, Certiorari—“Chinese Regulation Act, 1884,”<br>s. 5—Constitutionality—B.N.A."
          ],
          [
           "Held, that the “Chinese Regulation Act, 1884,” is ultra<br>vires of the Provincial Legislature, on the following<br>grounds:   1."
          ],
          [
           "It is an infraction of the existing treaties between the<br>Imperial Government and China."
          ],
          [
           "14th & 15th July—On the return of a writ of certiorari<br>directed to Edwin Johnson, Esquire, Police Magistrate for<br>the City of Victoria, to return into this Court a certain<br>conviction made by him under which one Wing Chong was fined<br>$20 for not having in his possession a license issued under<br>the “Chinese Regulation Act, 1884.”    The Attorney-General<br>in support of the conviction said there were five points<br>raised on the rule for the certiorari against the validity<br>of the $10 tax.—1st."
          ],
          [
           "Act, aliens, and naturalization; 2nd."
          ],
          [
           "As to the first point aliens were as much subject to<br>taxation as citizens."
          ],
          [
           "The law did not deal with the conditions under which aliens<br>might acquire rights or become subjects of Her Majesty."
          ],
          [
           "Its object, though not apparent on the face of the Act, was<br>to prevent Chinese coming into the Province and drive out<br>those who had already come."
          ],
          [
           "He reviewed the legislation against Chinese since<br>confederation, contending it was levelled against a<br>particular race of aliens and, therefore, beyond provincial<br>control, per *Gwynne*, J., in *Citizens Insurance Co. v.<br>Parsons*, 4 S. C. R., at p. 346."
          ],
          [
           "If its object were successful and Chinese driven from the<br>country, the customs dues received from the Chinese would be<br>lost and the benefits of trade relations enjoyed by the<br>merchants would be destroyed."
          ],
          [
           "Counsel cited statistics from the Chinese Commission showing<br>the extreme importance, from a fiscal and commercial point<br>of view, of the large number of Chinese in the Province."
          ],
          [
           "Act had alone the right of performing in Canada the<br>obligations of Canada as part of the British Empire in<br>respect of treaties, and although Canada might pass laws<br>prohibiting immigration, or having that tendency, the<br>Province could not do so, nor could it pass laws in<br>derogation of treaties."
          ],
          [
           "334) had decided a special tax could not be imposed on<br>Chinese, a most celebrated Judge, Mr. Justice Field (since<br>elevated to the Federal bench), dissented, and had pointed<br>out that according to federal decisions the State might<br>impose special taxation on alien residents, provided the<br>impost was not levied against foreigners landing in the<br>country."
          ],
          [
           "The tax was not to exclude the Chinese — another statute<br>with that object had been disallowed."
          ],
          [
           "Opponents to the Act might as well contend the exclusion of<br>the Chinese from the franchise, and barring them from<br>acquiring lands, was illegal."
          ],
          [
           "Act over aliens and naturalization."
          ],
          [
           "Sub-section 2 of section 91 gives to the Dominion Parliament<br>exclusively the regulation of “trade and commerce,” and by<br>sub-section 25 that of “naturalization and aliens,” and<br>everything relating to those subjects as affecting the whole<br>Dominion is within the Dominion powers, and no local<br>Legislature can make any statute interfering with either of<br>those subjects."
          ],
          [
           "Now, applying this test to the statute before us, let us see<br>whether and how far its provisions affect, as is alleged,<br>aliens, or trade, or commerce."
          ],
          [
           "The aliens in this case being Chinese, the first enquiry<br>must be, what is the object of the Act?"
          ],
          [
           "The provisions of the Act I have given somewhat in extenso<br>bear out that view, and the concurrent and previous local<br>legislation bear out the same impression, for on the same<br>day as this Act was passed, another Act was passed, the very<br>object of which was plainly stated to be \"to prevent the<br>immigration\" of Chinese.\""
          ],
          [
           "It interfered with aliens as well as trade and commerce,<br>which cannot subsist among nations without personal<br>intercourse, which such an Act (as far as China was<br>concerned) would have a tendency to prohibit."
          ],
          [
           "Another statute (of 1878), \"An Act to provide for the better<br>collection of taxes from Chinese,\" which contained several<br>of the stringent provisions which I have described in this<br>Act, such as a special tax specially recoverable by summary<br>and unusual remedies from the Chinese alone, in British<br>Columbia, and enforced by fine and imprisonment and other<br>penal clauses, came before this Court, and in a most<br>conscientious and exhaustive judgment of Mr. Justice Gray,<br>of 23rd September, 1878, in the case of Tai Sing v. Maguire,<br>was declared unconstitutional and ultra vires the Local<br>Legislature, as interfering with aliens and trade and<br>commerce—matters reserved exclusively under the 81st section<br>of the B. N. A."
          ],
          [
           "The basis, then, of our enquiry must be: Is this Chinese<br>Regulation Act of 1884—rather the parts of it objected<br>to—within the limit of subjects and area of section 92, or<br>does it exceed those limits in which it is supreme, and<br>interfere with aliens, trade and commerce in such a manner<br>as to encroach on section 91 or any of its sub-sections?"
          ],
          [
           "The power asserted in the Act in question (the California<br>Act) is the right of the State to prescribe the terms upon<br>which the Chinese shall be permitted to reside in it, and be<br>so used as to cut off all intercourse between them and the<br>people of the State, and defeat the commercial policy of the<br>nation."
          ],
          [
           "That the Chinese might be taxed as other residents, but<br>could not be set apart as special objects of the taxation,<br>and be compelled to contribute to the revenue of the State<br>in the character of foreigners."
          ],
          [
           "The reports of the higher California courts are of great<br>authority for us on all Chinese questions, for there have<br>been efforts for years past to restrict Chinese immigration<br>in California, and the matter has been constantly before the<br>superior courts there, and the judges there (if we may take<br>the reports as correct) are more than ordinarily skilled in<br>laying down the law correctly in constitutional points of<br>that nature."
          ],
          [
           "Still both Federal Governments have reserved to themselves<br>the regulation of trade and commerce and naturalization and<br>aliens; so the analogy is so close as to become almost a<br>direct authority."
          ],
          [
           "And again, \"A tax imposed by the law on these persons for<br>the mere right to reside here, is an appropriate and<br>effective means to discourage the immigration of the Chinese<br>into the State.\""
          ],
          [
           "In another California case, *In re Tiburcio Parrott*, it is<br>laid down that if the apparent object of a statute is under<br>a pretense of the exercise of constitutional powers to drive<br>Chinese away, the end sought to be obtained being unlawful,<br>the statute is void."
          ],
          [
           "Legislation as to aliens is reserved to the Dominion."
          ],
          [
           "And as to trade and commerce, if the Chinese be driven out<br>an annual loss to the revenue, it appears by the tables in<br>the Chinese Commission Report, of $110,000 will take place;<br>and more than $1,500,000 of property and business be lost to<br>us, besides an injury to trade to an incalculable extent."
          ],
          [
           "The amount of business transacted by Chinamen in British<br>Columbia, as revealed by the tables in that Chinese Report,<br>is something which a casual observer would have no idea of."
          ],
          [
           "The treaties between Great Britain and China, which bind us,<br>have been quoted."
          ],
          [
           "6, ratified 26th June, 1843, p. 221, and Lord Elgin's treaty<br>of October, 1860, authenticated copies of which were<br>produced in Court, secure to Chinese coming into British<br>dominions the same \"full security for persons and property<br>as subjects of Her Majesty.\""
          ],
          [
           "The treaties I have quoted between Great Britain and China,<br>binding on the Dominion and on us in British Columbia,<br>secure to the Chinese, just as the treaties between Great<br>Britain and other foreign countries secure to other<br>foreigners, the same rights in regard to the equality of<br>taxation which I have described as being enjoyed by citizens<br>of this country."
          ],
          [
           "In the case of the Chinese treaties, they were forced at the<br>point of the bayonet on China, to obtain a right for us to<br>enter China, and in return for a similar permission to us,<br>full permission was given for the Chinese to trade and<br>reside in British dominions everywhere."
          ],
          [
           "In the treaties of 1858 and 1860, made at the solicitation<br>of Great Britain, the Emperor of China was induced to give<br>permission to his subjects to go and trade and reside \"in<br>British Colonies,\" and to enter into \"engagements with<br>British subjects for that purpose.\""
          ],
          [
           "The same provisions that apply to Chinese may be made to<br>apply also to Americans, Frenchmen, Germans, or any other<br>foreigners."
          ],
          [
           "The Act is found associated with another Act now disallowed,<br>the express object of which is to prevent the Chinese<br>altogether from coming to this country, and the principle<br>\"noscitur a sociis\" is kept up by the preamble of the<br>present Act, which describes the Chinese in terms which, I<br>venture to think, have never before in any other country<br>found a place in an Act of Parliament."
          ],
          [
           "Every person of Chinese origin, whether naturalized in Hong<br>Kong or America, or any other State with which we are at<br>amity, so long as they are of Chinese origin, 14 years of<br>age—every one without distinction—must take out a license."
          ],
          [
           "However difficult or impossible for any Chinese to find a<br>district collector, if such Chinese is \"found without a<br>license he is liable to a fine of $40.\""
          ],
          [
           "It is impossible but that such an imposition so enforced, in<br>addition to all the general taxes to which he is subject,<br>should make this country too hot for him to live in; and<br>just in proportion as he is so persecuted out of the<br>country, in that degree does this enactment interfere with<br>trade and commerce and that control over aliens exclusively<br>given to the Dominion."
          ],
          [
           "Every employé of Chinese labour, whether English, American,<br>or what not, is made liable to severe and incessant<br>liability of a penal kind, for what?"
          ],
          [
           "No; an act or default of a stranger, a man whose language he<br>knows not, and for every infraction of the Act by the<br>Chinese under his employ."
          ],
          [
           "The palpable object of such a provision, or set of<br>provisions, is to render the employment of Chinese so<br>distasteful and annoying to the employer that he must cease<br>to employ them."
          ],
          [
           "What is that but interfering with aliens, trade, and<br>commerce?"
          ],
          [
           "If a man employ a Chinaman who should happen to be<br>delinquent in his tax, and he happens to occupy a cottage or<br>room of his employer, with his master's goods in it, under<br>section 10 they are liable to seizure and sale."
          ],
          [
           "In other words, every Chinese is guilty until proved<br>innocent—a provision which fills one conversant with<br>subjects with alarm; for if such a law can be tolerated as<br>against Chinese, the precedent is set, and in time of any<br>popular outcry can easily be acted on for putting any other<br>foreigners or even special classes among ourselves, as<br>coloured people, or French, Italians, Americans, or Germans,<br>under equally the same law."
          ],
          [
           "That certainly is interfering with aliens."
          ],
          [
           "The whole Act teems with special provisions which affect not<br>only Chinese, but their employers, with obligations and<br>liabilities as to the conduct of the Chinese in their<br>employ, that no reasonable man would encounter, and run the<br>risk of the penal consequences which the Act hangs over him."
          ],
          [
           "It is enough to add that \"any person,\" no matter whether<br>white or Chinese, imprisoned in respect of any infraction of<br>the provisions of the Act, may be at the will of the<br>executive, subjected even to hard labour."
          ],
          [
           "The Act is so full of provisions that interfere directly<br>with aliens, with trade, and with commerce, that I have no<br>hesitation in pronouncing all such provisions, and among<br>them those under which the appellant in this case has been<br>convicted, to be ultra vires the local legislature, and<br>consequently illegal and void."
          ],
          [
           "So far, I have dealt with the Act on its own merits; but if<br>we consider it in juxtaposition to the Dominion Act recently<br>passed restricting the Chinese throughout all Canada, its<br>illegality becomes transparent; for in passing that Act<br>against the Chinese the Dominion has spoken by the highest<br>authority which it possesses—its own Parliament."
          ],
          [
           "By the Constitutional Act the subject of aliens, we have<br>seen, is specially reserved to the Dominion, and it is now<br>an axiom, in the interpretation of that Act, that when that<br>authority deals with a subject expressly included in its<br>jurisdiction by the 91st section, it has possession of that<br>subject exclusively, and the Province has to give way."
          ],
          [
           "It is a great assumption of power on the part of a Province<br>to pass laws, the effect of which must be practically to<br>expel a particular class of aliens from that Province, to<br>say in effect that it will by its legislation impede or<br>prevent that class from being employed in another<br>Province—say the North-west Territory or Manitoba—where<br>railway works may be languishing for want of that very class<br>of labourers, British Columbia being the only sea-board of<br>Canada on the Pacific through which (in face of the<br>restrictive laws of the United States) that class of<br>labourers can enter and pass through; that is, in fact,<br>legislating on all inter-provincial immigration; in other<br>words, such legislation is ultra vires, and so I pronounce<br>it; and adjudge accordingly, and quash the conviction, with<br>costs."
          ],
          [
           "Action of trespass against the Medical Health Officer of the<br>City of Victoria for causing the plaintiff, one of a number<br>of Chinamen, who landed at Victoria in a steamer last from<br>Hong Kong in China, to be removed to the \"Suspect Station\"<br>and there detained and subjected to cleansing process under<br>colour of Sec."
          ],
          [
           "The only evidence of Hong Kong being a place infected, etc.,<br>was that of a medical man resident in Victoria, who said<br>\"That in China small pox was endemic, because there<br>inoculation was the universal practice."
          ],
          [
           "That there was danger of infection from white passengers,<br>but not the same danger as from Chinamen.\""
          ],
          [
           "CREASE, J.: This was a test action to try whether Chinamen<br>have the same rights as other foreigners in landing here on<br>their advent from China."
          ],
          [
           "The occasion was the arrival of the Empress of China at the<br>Outer Wharf, which is within the city limits of Victoria, on<br>the 1st day of May, 1894, from China and Hongkong."
          ],
          [
           "The action is one nominally rather than really, for damages<br>against Dr. George Duncan, the Health Officer of the City of<br>Victoria, on account of an alleged excess of duty in<br>despatching en masse, without examination or enquiry, a<br>number of Chinamen out to the suspect station at Ross Bay,<br>there to be disinfected and scrubbed."
          ],
          [
           "The Chinamen had already been examined on board the ship by<br>the Dominion Quarantine Officers and Provincial officers and<br>passed."
          ],
          [
           "Disregarding the white men, who had come at the same time<br>from the same place and in the same ship and presumably<br>subject to some of the same unsanitary influences, though<br>not to the same extent as the Chinese, without any reason<br>for special suspicion, without inspecting or attempting to<br>inspect a single man, (that had already been done<br>individually by the Dominion Quarantine Officers) he orders<br>them into the custody of his constables to be taken out to<br>the suspect station at Ross Bay, there to be washed and<br>disinfected and scrubbed."
          ],
          [
           "The plaintiff and other Chinamen similarly situated obtained<br>a writ of Habeas Corpus, upon which they were discharged<br>from this custody."
          ],
          [
           "Thereupon the present action was brought to test if and how<br>far Chinamen are to be treated, when they land on our<br>shores, differently from other foreigners."
          ],
          [
           "The grounds alleged by the Health Officer for this arbitrary<br>treatment is “that China is an infected locality,” and all<br>persons coming from China and especially in this instance<br>Hongkong, and especially also the natives of China, come<br>from an infected locality, and that he has that authority<br>under the Health By-Law, 1893, which was passed at the time<br>of the small pox panic in Victoria, and, in all he did, was<br>simply doing his duty."
          ],
          [
           "The case was tried before a jury upon the issue whether<br>Hongkong, the last port the steamer left in China, was or<br>not “an infected locality.” To prove that Hongkong was such,<br>Dr. Davie was placed in the witness box as an expert."
          ],
          [
           "He considered “China the home of small pox,” and that it was<br>“an infected place”; that, in China, small pox was<br>“endemic,” i.e., always there; because there “inoculation”<br>was the universal practice and was a constant source of<br>danger; that in England and Europe and America, generally,<br>vaccination, of late years, has been the rule."
          ],
          [
           "He thought that too close a scrutiny could not be made of<br>Chinese passengers."
          ],
          [
           "That small pox must have been in China on the 19th April<br>last, the date when the Empress left Hongkong, as it was<br>always there."
          ],
          [
           "He had no opinion to express as to the British possession of<br>Hongkong; but it was a portion of China, where small pox was<br>always, in a sense, \"endemic.\""
          ],
          [
           "There was danger of infection from white passengers, but not<br>the same danger as from Chinamen."
          ],
          [
           "It was his opinion that every one should be examined who<br>comes from China or from any \"infected port.\""
          ],
          [
           "When asked the question, \"Would you allow Chinamen to land<br>and go into the city?\""
          ],
          [
           "The Chinese are chiefly dressed in woollen materials and<br>these harbour infection for weeks and months."
          ],
          [
           "There were several other diseases to be guarded against from<br>China, e.g., cholera, leprosy, etc."
          ],
          [
           "(Here I observe that from first to last no mention was made<br>of the black plague, which has carried off so many thousands<br>of Chinese in Hongkong; and it appeared that during the<br>passage from China to Victoria, which presumably lasted over<br>the ordinary period of inoculation, no case of small pox<br>appeared on board the Empress, and that she showed a clean<br>bill of health.)"
          ],
          [
           "Now this assumes, as Dr. Davie assumed, that Hongkong,<br>although a British port and subject to quarantine<br>regulations, was (which includes the time of the steamer's<br>departure) and is a cradle of small pox, and that every ship<br>coming thence to Victoria, especially with Chinese on board,<br>should be subject to the most searching examination, and the<br>drastic treatment I have described."
          ],
          [
           "He does not include Japanese in the same category as<br>Chinese."
          ],
          [
           "His duty was, if he considered the Empress of China came<br>from \"an infected locality,\" at once to go on board the<br>suspected vessel and make his examination and inspection on<br>board the vessel (as Section 32 says), \"before any luggage,<br>freight or other thing is landed or allowed to be landed.\""
          ],
          [
           "It goes further and shews that the only person to be \"dealt<br>with in such manner as the Medical Health City Officer shall<br>direct\" is \"any infected or exposed person from on board,\"<br>under none of which categories do the plaintiff or other<br>Chinamen, seized and carted off on this occasion, happen to<br>come."
          ],
          [
           "It is shewn that he did not personally examine a single<br>Chinaman or inquire if he was “an infected or exposed<br>person.” In a matter affecting the public health, it is<br>quite natural, and everyone would expect that officers who<br>are armed with extensive sanitary powers, should confer<br>together and assist one another in carrying out the law, and<br>work well together for the public good and safety."
          ],
          [
           "But it should be understood that these exceptional powers<br>are a great trust placed in the hands of the Health Officer<br>to meet such cases as I have described, and at all times to<br>be administered with firmness, judgment and discretion—not<br>under any fear of infection unwarranted by the facts of the<br>case which may enter into the mind of the Health Officer, or<br>to be carried out by carting off en masse to the suspect<br>station all who hail from China or Hongkong without<br>examination or enquiry."
          ]
         ],
         "hovertemplate": "Author=Crease<br>UMAP 1=%{x}<br>UMAP 2=%{y}<br>Text=%{customdata[0]}<extra></extra>",
         "legendgroup": "Crease",
         "marker": {
          "color": "#636efa",
          "size": 5,
          "symbol": "circle"
         },
         "mode": "markers",
         "name": "Crease",
         "orientation": "v",
         "showlegend": true,
         "type": "scatter",
         "x": {
          "bdata": "gxe7Qcfiu0EC5K9BSaOtQfhqukFs2aZBIZyuQSH3rkGmT7FB1Q+pQQOFpEHuBrFB/VCrQdqsqUHZNK1B6L+0QeuxsUE6trdBRgGxQQtAs0Fg1rJBPEGxQQLWtkHIULBBoFurQfkirUEPq7RBghWxQd9NtkFQ7rFBbrKrQQm5n0GClK5BBRerQd0tr0Ef3KhBwaGoQeW1qUG0ibRBtcOgQUu1pUHZ3bVBzjCmQaHqqUFkw65Bkqu3QeMmp0HflapBo5m1QR36q0EhCqhBEa+1QXnLskE74LRBuga1QTc9lkHKYJlBSviXQX0wo0HCPZlBelKUQU+SlkEtj5NB5YmkQe0Ro0GYsp9BEB6ZQQXsmEFbZJ5B2rmaQadwmEEfnJpBv0SbQXQXo0FOgqJBBnGYQTCXlkHETJRBrtajQZXbmkHtI5JB3IyWQbJpkkE=",
          "dtype": "f4"
         },
         "xaxis": "x",
         "y": {
          "bdata": "MxchQdZWG0G6EylBJgL7QHgnJkFdLjZBYpouQaHVIEGQ4C9BNPIdQd1RMkEeJShBnX81QXX3NEEa1ilBU3AyQRULC0GhQytBL9sbQZKKDkFwyCtBnhkHQcbWIEH6cAtBzYkpQWnnHEFgoCtBuaAaQc8nHUFECDJB7BQSQWAiL0GL3yRBLD0aQW3GI0FNHBdBYI8XQeieLUEnOw9BlRoMQX3940CqLCdB/jcJQfVHB0HwvRBBGvkuQVj53kBB4QZBMTEzQWweDEGMogFB+vUfQXbEIkHWuBRBmVUZQYP0GUEBeCxByB0xQYwDI0F7Px5BWgMaQcK9GkHjUiBBX54VQZNmGEHKIxJB+/8hQWoLKkFaJTRBlFYcQTArKEGgHzRB4O8lQVfkHUHhKiBBR8QwQU/NI0GgOh1B53Y3QdTyG0GHmhtBehgkQWCnG0E=",
          "dtype": "f4"
         },
         "yaxis": "y"
        },
        {
         "customdata": [
          [
           "(5) If it appears that a tax is not bona fide within the<br>purpose provided for, but is imposed with the real purpose<br>of discriminating against a class, it is not within the<br>justification of the enabling statute, and, on the facts,<br>the tax in question was intended not for the purpose of<br>raising a revenue, but as a restriction on the Chinese."
          ],
          [
           "Indeed if no restriction whatever be placed on the word \"<br>other\" in that section; if the Provincial Legislature can<br>insist upon imposing licenses upon everything and upon every<br>act of life, and tax each licensee at any moment they<br>please, there would be a very simple way of excluding every<br>Chinaman from the Province, by imposing a universal tax, not<br>limited to any nationality, of one or two thousand dollars<br>per annum for a license to Judgment."
          ],
          [
           "No Chinaman will shave the back of his head; no true moujik<br>will shave his chin."
          ],
          [
           "I rather think that the auctioneers would repudiate this<br>alleged similarity of their occupation to that of a Chinese<br>washerman."
          ],
          [
           "And it is roundly alleged by the appellant that this tax is<br>imposed, not with the object of raising a revenue for the<br>City, but with the object of harassing Chinamen, supposed to<br>be the only persons carrying on this industry."
          ],
          [
           "If the object of the Provincial Statute be as alleged, viz.,<br>Feb. 3.  to subject Chinamen to exceptional disadvantages it<br>is clearly unconstitutional."
          ],
          [
           "G. to the report of the recent Chinese Conmission, p. 379,<br>and by Mr. Justice CREASE in Wing Chong's case, 1 B.C.R."
          ],
          [
           "Justices FIELD, HOFFMAN, SAWYER and DEADY and other Judges<br>whom they cite, all confirm this, that a State, or<br>Provincial law imposing special disabilities or unequal<br>burdens on Chinamen is unconstitutional and void."
          ],
          [
           "Statutes were by their title and preamble  expressly aimed<br>at Chinamen by name; that this distinction also renders<br>inapplicable all the United States' cases cited; that this<br>enactment is quite general extending to all laundries<br>without exception and we must not look beyond the words of<br>the enactment to enquire what its object was; that there is<br>in fact one laundry in Victoria not conducted by Chinamen on<br>which the tax will fall with equal force so that it is<br>impossible to say that Chinamen are hereby exclusively<br>selected for taxation; the circumstance that they are<br>chiefly affected being a mere coincidence; that the bylaw<br>only imposes $100.00 per annum, keeping far within the limit<br>of $150.00 permitted by the Statute; that the tax clearly is<br>calculated to procuring additional Municipal revenue and<br>that no other object is hinted at."
          ],
          [
           "I, for my part, cannot arrive at any other conclusion than<br>that it is specially directed against Chinamen because they<br>are Chinamen and for no other Judgment."
          ],
          [
           "The appellants' contention that the clause is merely<br>intended to hamper or expel Chinamen is much strengthened by<br>considering the amount of the tax sanctioned, which is<br>$150.00 per annum, whereas the limit sanctioned by the<br>Legislature in the case of any retail shop, however<br>extensive or lucrative its business, is only $10.00 per<br>annum."
          ],
          [
           "The test is whether on the whole statute the Legislature can<br>fairly be held to have said : \"Let us impose a tax in order<br>to raise a revenue, though perhaps it may fall on Chinamen,\"<br>or \" let us impose this tax in order to fall on Chinamen,<br>though perhaps it will raise no revenue.\""
          ],
          [
           "When we find (1st) no other description of labour taxed at<br>all ; (2nd) this description of labour practically quite<br>abandoned to Chinamen alone ; (3rd) this description of<br>labour taxed at fifteen times the rate permitted to be<br>levied on any retail shop ; (4th) that a preliminary<br>Provincial Act has declared Chinamen incapable of the<br>franchise which they formerly exercised."
          ],
          [
           "I cannot doubt but that the tax is directed against<br>Chinamen, as such."
          ],
          [
           "It is not competent to the Provincial Legislature, or to a<br>municipality, to deprive, generally, particular<br>nationalities or individuals of the capacity to take out<br>municipal trade licenses ; e. g., a Chinaman has a right to<br>apply for a pawnbroker's license."
          ],
          [
           "Application for a mandamus to the Corporation of the City of<br>Victoria to compel the renewal to the prosecutors (Chinamen)<br>of a pawnbroker's license."
          ],
          [
           "It is alleged by the prosecution, and not denied, that the<br>Council have in fact ordered the Collector to issue no<br>pawnbroking license to any Chinaman."
          ],
          [
           "In the French colony of Cayenne, the Town Council recently<br>handicapped the superior capacities of the Chinaman by<br>imposing on merchants of that empire an extra tax of $300<br>per annum, deeming it also expedient to handicap English and<br>German traders by a surtax of $200 on them."
          ]
         ],
         "hovertemplate": "Author=Begbie<br>UMAP 1=%{x}<br>UMAP 2=%{y}<br>Text=%{customdata[0]}<extra></extra>",
         "legendgroup": "Begbie",
         "marker": {
          "color": "#EF553B",
          "size": 5,
          "symbol": "circle"
         },
         "mode": "markers",
         "name": "Begbie",
         "orientation": "v",
         "showlegend": true,
         "type": "scatter",
         "x": {
          "bdata": "Qs60QdjprUEkcJ1B31OiQR0YsUHd0LpB85mtQapkukGDmaxBN3+oQWeGs0FMdq9BJfmoQcOup0GUU6RBucyjQSnnokHlGqdB",
          "dtype": "f4"
         },
         "xaxis": "x",
         "y": {
          "bdata": "xRMTQaLhCEEJehVBng4rQWUSFEFwNRlBzcw1Qc/SG0G3EBZBUQUkQZ1qFUF9uBVBLiUfQVCvMUHBuSpBlaIpQVtKK0FTqiRB",
          "dtype": "f4"
         },
         "yaxis": "y"
        },
        {
         "customdata": [
          [
           "An Act to regulate the Chinese population of British<br>Columbia."
          ],
          [
           "WHEREAS the incoming of Chinese to British Columbia largely<br>exceeds that of any other class of immigrant, and the<br>population so introduced are fast becoming superior in<br>number to our own race; are not disposed to be governed by<br>our laws; are dissimilar in habits and occupation from our<br>people; evade the payment of taxes justly due to the<br>Government; are governed by pestilential habits; are useless<br>in instances of emergency; habitually desecrate grave yards<br>by the removal of bodies therefrom; and generally the laws<br>governing the whites are found to be inapplicable to<br>Chinese, and such Chinese are inclined to habits subversive<br>of the comfort and well-being of the community:    And<br>whereas it is expedient to pass special laws for the<br>Government of Chinese:    Therefore, Her Majesty, by and<br>with the advice and consent of the Legislative Assembly of<br>the Province of British Columbia, enacts as follows:—    1."
          ],
          [
           "This Act shall be cited as the \"Chinese Regulation Act,<br>1884.\""
          ],
          [
           "The term \"Chinese\" wherever used in this Act shall mean any<br>native of the Chinese Empire or its dependencies not born of<br>British parents, and shall include any person of the Chinese<br>race."
          ],
          [
           "From and after the passage of this Act there shall be<br>payable and paid by every Chinese in British Columbia, above<br>the age of fourteen years, unto and for the use of Her<br>Majesty, Her heirs and successors, the sum of ten dollars,<br>and thereafter on the 1st day of June in each and every year<br>there shall be likewise payable and paid by such Chinese<br>person a further sum of ten dollars."
          ],
          [
           "The Lieutenant-Governor in Council shall immediately upon<br>the passage of this Act, and from time to time thereafter as<br>occasion may require, appoint in each electoral district,<br>one or more person or persons to be called Chinese<br>Collectors, to collect and receive such payments from<br>Chinese, and such Collector or Collectors immediately upon<br>such payment shall issue and deliver to the person paying<br>the same a licence in the form contained in the Schedule<br>hereto, and the Lieutenant-Governor in Council may require<br>from the Collectors so to be appointed such security as he<br>may see fit and may allow them such percentage upon the<br>amount of collections as may seem reasonable and just, and<br>the Lieutenant-Governor in Council may further allow such<br>additional sum by way of expenses as may be necessary and<br>reasonable for the purpose of carrying out the provisions of<br>this Act."
          ],
          [
           "Any Chinese who shall be found within the Province not<br>having in his possession a licence issued under the<br>provisions of this Act, lawfully issued to him, shall on<br>conviction thereof forfeit and pay a sum not exceeding forty<br>dollars."
          ],
          [
           "Every Collector shall collect the tax from each Chinese, and<br>shall as soon afterwards as may be pay over the amount to<br>the Officer in charge of the Treasury, or to such other<br>person as the Lieutenant-Governor in Council may from time<br>to time direct."
          ],
          [
           "Every employer of Chinese shall furnish to the Collector,<br>when requested by him so to do, from time to time, a list of<br>all Chinese in his employ, or indirectly employed by him;<br>but no such statement shall bind the Collector, nor shall<br>excuse him from making due enquiry to ascertain its<br>correctness."
          ],
          [
           "In case any employer of Chinese fails to deliver to the<br>Collector the list mentioned in the preceding section, when<br>required so to do, or knowingly states anything falsely<br>therein, such employer shall, on complaint of the Collector<br>and upon conviction before a Justice of the Peace having<br>jurisdiction within the district wherein such employer<br>carries on his business, forfeit and pay a fine not<br>exceeding one hundred dollars for every Chinese in his<br>employ, to be recovered by distress of the goods and<br>chattels of such employer failing to pay the same, or in<br>lieu thereof shall be liable to imprisonment for a period<br>not less than one month and not exceeding two calendar<br>months."
          ],
          [
           "The Collector may, by himself or his agent, levy the amount<br>of the licence from any Chinese not being in lawful<br>possession of a licence, with costs, by distress of his<br>goods and chattels, or of any goods and chattels which may<br>be in the possession of the delinquent, or which may be upon<br>or in any premises (whether the goods of the delinquent or<br>not) for the time being in the possession or occupation of<br>such delinquent Chinese, and for the purposes of this<br>section premises shall be deemed to be in the possession or<br>occupation of any Chinese when it can be shewn to the<br>satisfaction of the tribunal having cognizance of the<br>matter—    (a.)"
          ],
          [
           "That such Chinese habitually frequents such premises with<br>the assent of the owner."
          ],
          [
           "Every employer of Chinese shall demand from every such<br>Licence to be demanded by employer and retained during the<br>service."
          ],
          [
           "Chinese in his employ his licence, and shall retain the same<br>in his possession during the time such Chinese is in his<br>employ, and shall return the same to him when he leaves his<br>service; and every employer as aforesaid shall produce to<br>the Collector, whenever required so to do, such licence for<br>his inspection."
          ],
          [
           "The Toll Collector at any and every toll gate which may<br>exist in the Province from time to time, shall, before<br>allowing any Chinese to pass through any toll gate, demand<br>from such Chinese the production of his licence, and, until<br>the same is produced, such Chinese shall not be allowed to<br>proceed through the toll gate."
          ],
          [
           "It shall be unlawful for any person to employ any Chinese<br>who has not in his possession the licence required by this<br>Act, and any person guilty of an infraction of the<br>provisions of this section shall forfeit and pay a fine not<br>exceeding fifty dollars for every Chinese so employed."
          ],
          [
           "The sum payable by a Chinese for a free miner’s certificate<br>shall be fifteen dollars for each year during which the same<br>is to be in force instead of five dollars, as by the present<br>mining laws provided, and no free miner’s certificate shall<br>hereafter be issued to any Chinese except upon payment of<br>the said sum of fifteen dollars."
          ],
          [
           "Any Chinese who shall be found mining for gold and precious<br>metals, or following the ordinary occupation of a free<br>miner, whether on his own account or for others, without<br>having in his possession a free miner’s certificate,<br>lawfully issued to him subsequently to the passage of this<br>Act, and any person who shall employ any Chinese in and<br>about gold mining who has not in his possession such a<br>certificate, shall forfeit and pay a sum not exceeding<br>thirty dollars."
          ],
          [
           "of the Schedule A to the “Licences Ordinance, 1867,” is<br>hereby amended by adding thereto the following words: “but<br>no licence shall be issued to any Chinese.”    17."
          ],
          [
           "Without the permission in writing of the Provincial<br>Secretary or Government Agent of the district or place where<br>the permission is sought it shall be unlawful to remove the<br>remains of any dead Chinese from any cemetery or place where<br>such dead Chinese may have been interred, or to exhume the<br>bodies or remains of any dead Chinese, and any person guilty<br>of an infraction of this section shall forfeit and pay a sum<br>not exceeding one hundred dollars."
          ],
          [
           "No conviction for any offence shall be quashed for want of<br>form, and no conviction shall be removed into any of Her<br>Majesty’s Courts by certiorari or reviewed in any manner,<br>except by appeal in manner hereinafter stated, that is to<br>say: Any Chinese convicted of an offence against the<br>provisions of this Act may appeal to the County Court<br>nearest to the place of conviction, provided he shall,<br>within four days after such conviction, have given notice in<br>writing to the convicting Magistrate of his intention to<br>appeal, and shall have furnished security in the sum of one<br>hundred dollars, conditioned to abide by the decision of the<br>appellate Court, and shall have also deposited with the<br>convicting Magistrate a sum of money sufficient in the<br>opinion of such Magistrate to pay the costs and expenses of<br>a jury to try such appeal, and such appeal shall be heard<br>and tried before the County Court, with or without a jury of<br>five, at the option of the parties, and notwithstanding any<br>defect in the proceedings, the appeal shall be heard and<br>decided on the merits, and if the conviction be affirmed the<br>appellant shall be punished according to the conviction, and<br>shall pay the costs of the appeal, and if the appeal be<br>allowed, it shall be lawful for the Lieutenant-Governor in<br>Council to issue his warrant to the Treasurer for the<br>repayment to the appellant of the money paid by him for jury<br>process."
          ],
          [
           "Any Chinese who shall lend his licence or free miner’s<br>certificate to another Chinese, and any Chinese who shall<br>utter or pass off upon any Collector or other person any<br>licence or free miner’s certificate other than his own, with<br>intent himself to avoid payment of the licence fee payable<br>under this Act, (and the onus of proving that such was not<br>his intent, shall rest upon the person charged), shall<br>forfeit and pay a penalty of not less than twenty dollars<br>nor more than one hundred dollars."
          ],
          [
           "The tribunal having cognizance of any matter under the<br>provisions of this Act may decide, upon its own view and<br>judgment, whether any person is a Chinese, and whether any<br>person found by the Court to be a Chinese be of the age of<br>fourteen years."
          ],
          [
           "This Act may be cited as the \"Chinese Regulation Act, 1884.\""
          ]
         ],
         "hovertemplate": "Author=Act 1884<br>UMAP 1=%{x}<br>UMAP 2=%{y}<br>Text=%{customdata[0]}<extra></extra>",
         "legendgroup": "Act 1884",
         "marker": {
          "color": "#00cc96",
          "size": 5,
          "symbol": "circle"
         },
         "mode": "markers",
         "name": "Act 1884",
         "orientation": "v",
         "showlegend": true,
         "type": "scatter",
         "x": {
          "bdata": "VmiwQadqpkF5TrdBX+KiQcqMpkF4RqVBYcOoQeYcpEFGQKRBy+aoQeEOqkHxBqJB2GmiQQR/pEEOK6ZBwbSlQXX0pUHSPqdBi8qjQT7wp0Elw6tBN1SoQSLyo0GuHLdB",
          "dtype": "f4"
         },
         "xaxis": "x",
         "y": {
          "bdata": "L3wzQd5PEUEcNwZB5n4JQX0FzkD5T8FAFvbFQNa3w0DOe8JAWcfJQEVCz0CEOClB5HDSQMmjvkAxzbtABfbPQOKO00BIH85ASBnoQPLPvkCUGtdA2WzHQGWPAUF96wZB",
          "dtype": "f4"
         },
         "yaxis": "y"
        }
       ],
       "layout": {
        "height": 500,
        "legend": {
         "title": {
          "text": "Author"
         },
         "tracegroupgap": 0
        },
        "margin": {
         "t": 60
        },
        "template": {
         "data": {
          "bar": [
           {
            "error_x": {
             "color": "#2a3f5f"
            },
            "error_y": {
             "color": "#2a3f5f"
            },
            "marker": {
             "line": {
              "color": "#E5ECF6",
              "width": 0.5
             },
             "pattern": {
              "fillmode": "overlay",
              "size": 10,
              "solidity": 0.2
             }
            },
            "type": "bar"
           }
          ],
          "barpolar": [
           {
            "marker": {
             "line": {
              "color": "#E5ECF6",
              "width": 0.5
             },
             "pattern": {
              "fillmode": "overlay",
              "size": 10,
              "solidity": 0.2
             }
            },
            "type": "barpolar"
           }
          ],
          "carpet": [
           {
            "aaxis": {
             "endlinecolor": "#2a3f5f",
             "gridcolor": "white",
             "linecolor": "white",
             "minorgridcolor": "white",
             "startlinecolor": "#2a3f5f"
            },
            "baxis": {
             "endlinecolor": "#2a3f5f",
             "gridcolor": "white",
             "linecolor": "white",
             "minorgridcolor": "white",
             "startlinecolor": "#2a3f5f"
            },
            "type": "carpet"
           }
          ],
          "choropleth": [
           {
            "colorbar": {
             "outlinewidth": 0,
             "ticks": ""
            },
            "type": "choropleth"
           }
          ],
          "contour": [
           {
            "colorbar": {
             "outlinewidth": 0,
             "ticks": ""
            },
            "colorscale": [
             [
              0,
              "#0d0887"
             ],
             [
              0.1111111111111111,
              "#46039f"
             ],
             [
              0.2222222222222222,
              "#7201a8"
             ],
             [
              0.3333333333333333,
              "#9c179e"
             ],
             [
              0.4444444444444444,
              "#bd3786"
             ],
             [
              0.5555555555555556,
              "#d8576b"
             ],
             [
              0.6666666666666666,
              "#ed7953"
             ],
             [
              0.7777777777777778,
              "#fb9f3a"
             ],
             [
              0.8888888888888888,
              "#fdca26"
             ],
             [
              1,
              "#f0f921"
             ]
            ],
            "type": "contour"
           }
          ],
          "contourcarpet": [
           {
            "colorbar": {
             "outlinewidth": 0,
             "ticks": ""
            },
            "type": "contourcarpet"
           }
          ],
          "heatmap": [
           {
            "colorbar": {
             "outlinewidth": 0,
             "ticks": ""
            },
            "colorscale": [
             [
              0,
              "#0d0887"
             ],
             [
              0.1111111111111111,
              "#46039f"
             ],
             [
              0.2222222222222222,
              "#7201a8"
             ],
             [
              0.3333333333333333,
              "#9c179e"
             ],
             [
              0.4444444444444444,
              "#bd3786"
             ],
             [
              0.5555555555555556,
              "#d8576b"
             ],
             [
              0.6666666666666666,
              "#ed7953"
             ],
             [
              0.7777777777777778,
              "#fb9f3a"
             ],
             [
              0.8888888888888888,
              "#fdca26"
             ],
             [
              1,
              "#f0f921"
             ]
            ],
            "type": "heatmap"
           }
          ],
          "histogram": [
           {
            "marker": {
             "pattern": {
              "fillmode": "overlay",
              "size": 10,
              "solidity": 0.2
             }
            },
            "type": "histogram"
           }
          ],
          "histogram2d": [
           {
            "colorbar": {
             "outlinewidth": 0,
             "ticks": ""
            },
            "colorscale": [
             [
              0,
              "#0d0887"
             ],
             [
              0.1111111111111111,
              "#46039f"
             ],
             [
              0.2222222222222222,
              "#7201a8"
             ],
             [
              0.3333333333333333,
              "#9c179e"
             ],
             [
              0.4444444444444444,
              "#bd3786"
             ],
             [
              0.5555555555555556,
              "#d8576b"
             ],
             [
              0.6666666666666666,
              "#ed7953"
             ],
             [
              0.7777777777777778,
              "#fb9f3a"
             ],
             [
              0.8888888888888888,
              "#fdca26"
             ],
             [
              1,
              "#f0f921"
             ]
            ],
            "type": "histogram2d"
           }
          ],
          "histogram2dcontour": [
           {
            "colorbar": {
             "outlinewidth": 0,
             "ticks": ""
            },
            "colorscale": [
             [
              0,
              "#0d0887"
             ],
             [
              0.1111111111111111,
              "#46039f"
             ],
             [
              0.2222222222222222,
              "#7201a8"
             ],
             [
              0.3333333333333333,
              "#9c179e"
             ],
             [
              0.4444444444444444,
              "#bd3786"
             ],
             [
              0.5555555555555556,
              "#d8576b"
             ],
             [
              0.6666666666666666,
              "#ed7953"
             ],
             [
              0.7777777777777778,
              "#fb9f3a"
             ],
             [
              0.8888888888888888,
              "#fdca26"
             ],
             [
              1,
              "#f0f921"
             ]
            ],
            "type": "histogram2dcontour"
           }
          ],
          "mesh3d": [
           {
            "colorbar": {
             "outlinewidth": 0,
             "ticks": ""
            },
            "type": "mesh3d"
           }
          ],
          "parcoords": [
           {
            "line": {
             "colorbar": {
              "outlinewidth": 0,
              "ticks": ""
             }
            },
            "type": "parcoords"
           }
          ],
          "pie": [
           {
            "automargin": true,
            "type": "pie"
           }
          ],
          "scatter": [
           {
            "fillpattern": {
             "fillmode": "overlay",
             "size": 10,
             "solidity": 0.2
            },
            "type": "scatter"
           }
          ],
          "scatter3d": [
           {
            "line": {
             "colorbar": {
              "outlinewidth": 0,
              "ticks": ""
             }
            },
            "marker": {
             "colorbar": {
              "outlinewidth": 0,
              "ticks": ""
             }
            },
            "type": "scatter3d"
           }
          ],
          "scattercarpet": [
           {
            "marker": {
             "colorbar": {
              "outlinewidth": 0,
              "ticks": ""
             }
            },
            "type": "scattercarpet"
           }
          ],
          "scattergeo": [
           {
            "marker": {
             "colorbar": {
              "outlinewidth": 0,
              "ticks": ""
             }
            },
            "type": "scattergeo"
           }
          ],
          "scattergl": [
           {
            "marker": {
             "colorbar": {
              "outlinewidth": 0,
              "ticks": ""
             }
            },
            "type": "scattergl"
           }
          ],
          "scattermap": [
           {
            "marker": {
             "colorbar": {
              "outlinewidth": 0,
              "ticks": ""
             }
            },
            "type": "scattermap"
           }
          ],
          "scattermapbox": [
           {
            "marker": {
             "colorbar": {
              "outlinewidth": 0,
              "ticks": ""
             }
            },
            "type": "scattermapbox"
           }
          ],
          "scatterpolar": [
           {
            "marker": {
             "colorbar": {
              "outlinewidth": 0,
              "ticks": ""
             }
            },
            "type": "scatterpolar"
           }
          ],
          "scatterpolargl": [
           {
            "marker": {
             "colorbar": {
              "outlinewidth": 0,
              "ticks": ""
             }
            },
            "type": "scatterpolargl"
           }
          ],
          "scatterternary": [
           {
            "marker": {
             "colorbar": {
              "outlinewidth": 0,
              "ticks": ""
             }
            },
            "type": "scatterternary"
           }
          ],
          "surface": [
           {
            "colorbar": {
             "outlinewidth": 0,
             "ticks": ""
            },
            "colorscale": [
             [
              0,
              "#0d0887"
             ],
             [
              0.1111111111111111,
              "#46039f"
             ],
             [
              0.2222222222222222,
              "#7201a8"
             ],
             [
              0.3333333333333333,
              "#9c179e"
             ],
             [
              0.4444444444444444,
              "#bd3786"
             ],
             [
              0.5555555555555556,
              "#d8576b"
             ],
             [
              0.6666666666666666,
              "#ed7953"
             ],
             [
              0.7777777777777778,
              "#fb9f3a"
             ],
             [
              0.8888888888888888,
              "#fdca26"
             ],
             [
              1,
              "#f0f921"
             ]
            ],
            "type": "surface"
           }
          ],
          "table": [
           {
            "cells": {
             "fill": {
              "color": "#EBF0F8"
             },
             "line": {
              "color": "white"
             }
            },
            "header": {
             "fill": {
              "color": "#C8D4E3"
             },
             "line": {
              "color": "white"
             }
            },
            "type": "table"
           }
          ]
         },
         "layout": {
          "annotationdefaults": {
           "arrowcolor": "#2a3f5f",
           "arrowhead": 0,
           "arrowwidth": 1
          },
          "autotypenumbers": "strict",
          "coloraxis": {
           "colorbar": {
            "outlinewidth": 0,
            "ticks": ""
           }
          },
          "colorscale": {
           "diverging": [
            [
             0,
             "#8e0152"
            ],
            [
             0.1,
             "#c51b7d"
            ],
            [
             0.2,
             "#de77ae"
            ],
            [
             0.3,
             "#f1b6da"
            ],
            [
             0.4,
             "#fde0ef"
            ],
            [
             0.5,
             "#f7f7f7"
            ],
            [
             0.6,
             "#e6f5d0"
            ],
            [
             0.7,
             "#b8e186"
            ],
            [
             0.8,
             "#7fbc41"
            ],
            [
             0.9,
             "#4d9221"
            ],
            [
             1,
             "#276419"
            ]
           ],
           "sequential": [
            [
             0,
             "#0d0887"
            ],
            [
             0.1111111111111111,
             "#46039f"
            ],
            [
             0.2222222222222222,
             "#7201a8"
            ],
            [
             0.3333333333333333,
             "#9c179e"
            ],
            [
             0.4444444444444444,
             "#bd3786"
            ],
            [
             0.5555555555555556,
             "#d8576b"
            ],
            [
             0.6666666666666666,
             "#ed7953"
            ],
            [
             0.7777777777777778,
             "#fb9f3a"
            ],
            [
             0.8888888888888888,
             "#fdca26"
            ],
            [
             1,
             "#f0f921"
            ]
           ],
           "sequentialminus": [
            [
             0,
             "#0d0887"
            ],
            [
             0.1111111111111111,
             "#46039f"
            ],
            [
             0.2222222222222222,
             "#7201a8"
            ],
            [
             0.3333333333333333,
             "#9c179e"
            ],
            [
             0.4444444444444444,
             "#bd3786"
            ],
            [
             0.5555555555555556,
             "#d8576b"
            ],
            [
             0.6666666666666666,
             "#ed7953"
            ],
            [
             0.7777777777777778,
             "#fb9f3a"
            ],
            [
             0.8888888888888888,
             "#fdca26"
            ],
            [
             1,
             "#f0f921"
            ]
           ]
          },
          "colorway": [
           "#636efa",
           "#EF553B",
           "#00cc96",
           "#ab63fa",
           "#FFA15A",
           "#19d3f3",
           "#FF6692",
           "#B6E880",
           "#FF97FF",
           "#FECB52"
          ],
          "font": {
           "color": "#2a3f5f"
          },
          "geo": {
           "bgcolor": "white",
           "lakecolor": "white",
           "landcolor": "#E5ECF6",
           "showlakes": true,
           "showland": true,
           "subunitcolor": "white"
          },
          "hoverlabel": {
           "align": "left"
          },
          "hovermode": "closest",
          "mapbox": {
           "style": "light"
          },
          "paper_bgcolor": "white",
          "plot_bgcolor": "#E5ECF6",
          "polar": {
           "angularaxis": {
            "gridcolor": "white",
            "linecolor": "white",
            "ticks": ""
           },
           "bgcolor": "#E5ECF6",
           "radialaxis": {
            "gridcolor": "white",
            "linecolor": "white",
            "ticks": ""
           }
          },
          "scene": {
           "xaxis": {
            "backgroundcolor": "#E5ECF6",
            "gridcolor": "white",
            "gridwidth": 2,
            "linecolor": "white",
            "showbackground": true,
            "ticks": "",
            "zerolinecolor": "white"
           },
           "yaxis": {
            "backgroundcolor": "#E5ECF6",
            "gridcolor": "white",
            "gridwidth": 2,
            "linecolor": "white",
            "showbackground": true,
            "ticks": "",
            "zerolinecolor": "white"
           },
           "zaxis": {
            "backgroundcolor": "#E5ECF6",
            "gridcolor": "white",
            "gridwidth": 2,
            "linecolor": "white",
            "showbackground": true,
            "ticks": "",
            "zerolinecolor": "white"
           }
          },
          "shapedefaults": {
           "line": {
            "color": "#2a3f5f"
           }
          },
          "ternary": {
           "aaxis": {
            "gridcolor": "white",
            "linecolor": "white",
            "ticks": ""
           },
           "baxis": {
            "gridcolor": "white",
            "linecolor": "white",
            "ticks": ""
           },
           "bgcolor": "#E5ECF6",
           "caxis": {
            "gridcolor": "white",
            "linecolor": "white",
            "ticks": ""
           }
          },
          "title": {
           "x": 0.05
          },
          "xaxis": {
           "automargin": true,
           "gridcolor": "white",
           "linecolor": "white",
           "ticks": "",
           "title": {
            "standoff": 15
           },
           "zerolinecolor": "white",
           "zerolinewidth": 2
          },
          "yaxis": {
           "automargin": true,
           "gridcolor": "white",
           "linecolor": "white",
           "ticks": "",
           "title": {
            "standoff": 15
           },
           "zerolinecolor": "white",
           "zerolinewidth": 2
          }
         }
        },
        "title": {
         "text": "UMAP Projection of Word Embeddings by Author"
        },
        "width": 800,
        "xaxis": {
         "anchor": "y",
         "domain": [
          0,
          1
         ],
         "title": {
          "text": "UMAP 1"
         }
        },
        "yaxis": {
         "anchor": "x",
         "domain": [
          0,
          1
         ],
         "title": {
          "text": "UMAP 2"
         }
        }
       }
      }
     },
     "metadata": {},
     "output_type": "display_data"
    }
   ],
   "source": [
    "umap_df = pd.DataFrame(proj, columns=['UMAP 1', 'UMAP 2'])\n",
    "umap_df['Author'] = labels\n",
    "umap_df['Text'] = [snip for auth in act_snippets for snip in act_snippets[auth]]\n",
    "umap_df['Text'] = umap_df['Text'].apply(lambda t: wrap_text(t, width=60))\n",
    "\n",
    "fig = px.scatter(umap_df, x='UMAP 1', y='UMAP 2', \n",
    "                 color='Author', hover_data=['Text'], \n",
    "                 width=800, height=500 )\n",
    "fig.update_traces(marker=dict(size=5))\n",
    "fig.update_layout(title='UMAP Projection of Word Embeddings by Author')\n",
    "fig.show()"
   ]
  },
  {
   "cell_type": "markdown",
   "id": "e618c514",
   "metadata": {},
   "source": [
    "#### Investigating Texts\n",
    "\n",
    "The stance embeddings ultimately serve as analytical tools to support our text analysis objectives. \n",
    "\n",
    "- By calculating the \"conceptual mean stance\" for each author, we gain a quantitative basis for comparing the positions of different authors. \n",
    "- However, embeddings alone cannot fully capture the nuances of language or the complexity of an author's stance. To truly understand the perspectives reflected in the texts, it is essential to investigate the sentences that are most similar to the conceptual average position of each author.\n",
    "\n",
    "Here, we will examine the top 10 sentences with the highest stance similarity to the mean stance of each author. \n",
    "\n",
    "This approach allows us to delve deeper into the texts, uncovering how the language used aligns with the calculated average stance and providing richer insights into the authors' positions on the issue of Chinese immigrants."
   ]
  },
  {
   "cell_type": "code",
   "execution_count": 24,
   "id": "517841da",
   "metadata": {},
   "outputs": [
    {
     "name": "stdout",
     "output_type": "stream",
     "text": [
      "Top 10 most similar sentences to Crease's mean embedding:\n",
      "\n",
      "Author: Crease\n",
      "Sentence: The Act is found associated with another Act now disallowed, the express object of which is to\n",
      "prevent the Chinese altogether from coming to this country, and the principle \"noscitur a sociis\" is\n",
      "kept up by the preamble of the present Act, which describes the Chinese in terms which, I venture to\n",
      "think, have never before in any other country found a place in an Act of Parliament.\n",
      "Similarity Score: 0.9652\n",
      "\n",
      "Author: Crease\n",
      "Sentence: In the case of the Chinese treaties, they were forced at the point of the bayonet on China, to\n",
      "obtain a right for us to enter China, and in return for a similar permission to us, full permission\n",
      "was given for the Chinese to trade and reside in British dominions everywhere.\n",
      "Similarity Score: 0.9625\n",
      "\n",
      "Author: Begbie\n",
      "Sentence: Statutes were by their title and preamble  expressly aimed at Chinamen by name; that this\n",
      "distinction also renders inapplicable all the United States' cases cited; that this enactment is\n",
      "quite general extending to all laundries without exception and we must not look beyond the words of\n",
      "the enactment to enquire what its object was; that there is in fact one laundry in Victoria not\n",
      "conducted by Chinamen on which the tax will fall with equal force so that it is impossible to say\n",
      "that Chinamen are hereby exclusively selected for taxation; the circumstance that they are chiefly\n",
      "affected being a mere coincidence; that the bylaw only imposes $100.00 per annum, keeping far within\n",
      "the limit of $150.00 permitted by the Statute; that the tax clearly is calculated to procuring\n",
      "additional Municipal revenue and that no other object is hinted at.\n",
      "Similarity Score: 0.9614\n",
      "\n",
      "Author: Crease\n",
      "Sentence: Another statute (of 1878), \"An Act to provide for the better collection of taxes from Chinese,\"\n",
      "which contained several of the stringent provisions which I have described in this Act, such as a\n",
      "special tax specially recoverable by summary and unusual remedies from the Chinese alone, in British\n",
      "Columbia, and enforced by fine and imprisonment and other penal clauses, came before this Court, and\n",
      "in a most conscientious and exhaustive judgment of Mr. Justice Gray, of 23rd September, 1878, in the\n",
      "case of Tai Sing v. Maguire, was declared unconstitutional and ultra vires the Local Legislature, as\n",
      "interfering with aliens and trade and commerce—matters reserved exclusively under the 81st section\n",
      "of the B. N. A.\n",
      "Similarity Score: 0.9610\n",
      "\n",
      "Author: Crease\n",
      "Sentence: The grounds alleged by the Health Officer for this arbitrary treatment is “that China is an infected\n",
      "locality,” and all persons coming from China and especially in this instance Hongkong, and\n",
      "especially also the natives of China, come from an infected locality, and that he has that authority\n",
      "under the Health By-Law, 1893, which was passed at the time of the small pox panic in Victoria, and,\n",
      "in all he did, was simply doing his duty.\n",
      "Similarity Score: 0.9610\n",
      "\n",
      "Author: Crease\n",
      "Sentence: So far, I have dealt with the Act on its own merits; but if we consider it in juxtaposition to the\n",
      "Dominion Act recently passed restricting the Chinese throughout all Canada, its illegality becomes\n",
      "transparent; for in passing that Act against the Chinese the Dominion has spoken by the highest\n",
      "authority which it possesses—its own Parliament.\n",
      "Similarity Score: 0.9597\n",
      "\n",
      "Author: Crease\n",
      "Sentence: Still both Federal Governments have reserved to themselves the regulation of trade and commerce and\n",
      "naturalization and aliens; so the analogy is so close as to become almost a direct authority.\n",
      "Similarity Score: 0.9580\n",
      "\n",
      "Author: Crease\n",
      "Sentence: Opponents to the Act might as well contend the exclusion of the Chinese from the franchise, and\n",
      "barring them from acquiring lands, was illegal.\n",
      "Similarity Score: 0.9574\n",
      "\n",
      "Author: Begbie\n",
      "Sentence: When we find (1st) no other description of labour taxed at all ; (2nd) this description of labour\n",
      "practically quite abandoned to Chinamen alone ; (3rd) this description of labour taxed at fifteen\n",
      "times the rate permitted to be levied on any retail shop ; (4th) that a preliminary Provincial Act\n",
      "has declared Chinamen incapable of the franchise which they formerly exercised.\n",
      "Similarity Score: 0.9566\n",
      "\n",
      "Author: Crease\n",
      "Sentence: CREASE, J.: This was a test action to try whether Chinamen have the same rights as other foreigners\n",
      "in landing here on their advent from China.\n",
      "Similarity Score: 0.9557\n",
      "\n"
     ]
    }
   ],
   "source": [
    "# Print out the 10 most similar embedding sentences to Crease's mean embedding\n",
    "\n",
    "crease_similarity_df = pd.DataFrame(columns=['Author', 'Text', 'Similarity Score'])\n",
    "\n",
    "# Iterate through the embeddings and their corresponding sentences\n",
    "for auth, snippets in act_snippets.items():\n",
    "    for snippet, emb in zip(snippets, embeddings_dict[auth]):\n",
    "        similarity = cosine_similarity(emb.reshape(1, -1), mean_crease)[0][0]\n",
    "        crease_similarity_df.loc[len(crease_similarity_df)] = [auth, snippet, similarity]\n",
    "        \n",
    "# Sort by similarity score\n",
    "crease_sorted_similarity = crease_similarity_df.sort_values(by='Similarity Score', ascending=False)\n",
    "\n",
    "print(\"Top 10 most similar sentences to Crease's mean embedding:\\n\")\n",
    "for _, row in crease_sorted_similarity.head(10).iterrows():\n",
    "    wrapped_para = textwrap.fill(row['Text'], width=100)\n",
    "    print(f\"Author: {row['Author']}\\nSentence: {wrapped_para}\\nSimilarity Score: {row['Similarity Score']:.4f}\\n\")"
   ]
  },
  {
   "cell_type": "code",
   "execution_count": 25,
   "id": "2a157afa",
   "metadata": {},
   "outputs": [
    {
     "name": "stdout",
     "output_type": "stream",
     "text": [
      "Top 10 most similar sentences to Begbie's mean embedding:\n",
      "\n",
      "Author: Begbie\n",
      "Sentence: Statutes were by their title and preamble  expressly aimed at Chinamen by name; that this\n",
      "distinction also renders inapplicable all the United States' cases cited; that this enactment is\n",
      "quite general extending to all laundries without exception and we must not look beyond the words of\n",
      "the enactment to enquire what its object was; that there is in fact one laundry in Victoria not\n",
      "conducted by Chinamen on which the tax will fall with equal force so that it is impossible to say\n",
      "that Chinamen are hereby exclusively selected for taxation; the circumstance that they are chiefly\n",
      "affected being a mere coincidence; that the bylaw only imposes $100.00 per annum, keeping far within\n",
      "the limit of $150.00 permitted by the Statute; that the tax clearly is calculated to procuring\n",
      "additional Municipal revenue and that no other object is hinted at.\n",
      "Similarity Score: 0.9666\n",
      "\n",
      "Author: Begbie\n",
      "Sentence: When we find (1st) no other description of labour taxed at all ; (2nd) this description of labour\n",
      "practically quite abandoned to Chinamen alone ; (3rd) this description of labour taxed at fifteen\n",
      "times the rate permitted to be levied on any retail shop ; (4th) that a preliminary Provincial Act\n",
      "has declared Chinamen incapable of the franchise which they formerly exercised.\n",
      "Similarity Score: 0.9636\n",
      "\n",
      "Author: Begbie\n",
      "Sentence: In the French colony of Cayenne, the Town Council recently handicapped the superior capacities of\n",
      "the Chinaman by imposing on merchants of that empire an extra tax of $300 per annum, deeming it also\n",
      "expedient to handicap English and German traders by a surtax of $200 on them.\n",
      "Similarity Score: 0.9579\n",
      "\n",
      "Author: Crease\n",
      "Sentence: The Act is found associated with another Act now disallowed, the express object of which is to\n",
      "prevent the Chinese altogether from coming to this country, and the principle \"noscitur a sociis\" is\n",
      "kept up by the preamble of the present Act, which describes the Chinese in terms which, I venture to\n",
      "think, have never before in any other country found a place in an Act of Parliament.\n",
      "Similarity Score: 0.9574\n",
      "\n",
      "Author: Begbie\n",
      "Sentence: The appellants' contention that the clause is merely intended to hamper or expel Chinamen is much\n",
      "strengthened by considering the amount of the tax sanctioned, which is $150.00 per annum, whereas\n",
      "the limit sanctioned by the Legislature in the case of any retail shop, however extensive or\n",
      "lucrative its business, is only $10.00 per annum.\n",
      "Similarity Score: 0.9568\n",
      "\n",
      "Author: Begbie\n",
      "Sentence: Indeed if no restriction whatever be placed on the word \" other\" in that section; if the Provincial\n",
      "Legislature can insist upon imposing licenses upon everything and upon every act of life, and tax\n",
      "each licensee at any moment they please, there would be a very simple way of excluding every\n",
      "Chinaman from the Province, by imposing a universal tax, not limited to any nationality, of one or\n",
      "two thousand dollars per annum for a license to Judgment.\n",
      "Similarity Score: 0.9555\n",
      "\n",
      "Author: Crease\n",
      "Sentence: So far, I have dealt with the Act on its own merits; but if we consider it in juxtaposition to the\n",
      "Dominion Act recently passed restricting the Chinese throughout all Canada, its illegality becomes\n",
      "transparent; for in passing that Act against the Chinese the Dominion has spoken by the highest\n",
      "authority which it possesses—its own Parliament.\n",
      "Similarity Score: 0.9542\n",
      "\n",
      "Author: Crease\n",
      "Sentence: Another statute (of 1878), \"An Act to provide for the better collection of taxes from Chinese,\"\n",
      "which contained several of the stringent provisions which I have described in this Act, such as a\n",
      "special tax specially recoverable by summary and unusual remedies from the Chinese alone, in British\n",
      "Columbia, and enforced by fine and imprisonment and other penal clauses, came before this Court, and\n",
      "in a most conscientious and exhaustive judgment of Mr. Justice Gray, of 23rd September, 1878, in the\n",
      "case of Tai Sing v. Maguire, was declared unconstitutional and ultra vires the Local Legislature, as\n",
      "interfering with aliens and trade and commerce—matters reserved exclusively under the 81st section\n",
      "of the B. N. A.\n",
      "Similarity Score: 0.9525\n",
      "\n",
      "Author: Crease\n",
      "Sentence: 334) had decided a special tax could not be imposed on Chinese, a most celebrated Judge, Mr. Justice\n",
      "Field (since elevated to the Federal bench), dissented, and had pointed out that according to\n",
      "federal decisions the State might impose special taxation on alien residents, provided the impost\n",
      "was not levied against foreigners landing in the country.\n",
      "Similarity Score: 0.9524\n",
      "\n",
      "Author: Begbie\n",
      "Sentence: If the object of the Provincial Statute be as alleged, viz., Feb. 3.  to subject Chinamen to\n",
      "exceptional disadvantages it is clearly unconstitutional.\n",
      "Similarity Score: 0.9503\n",
      "\n"
     ]
    }
   ],
   "source": [
    "# Print out the 10 most similar embedding sentences to Begbie's mean embedding\n",
    "\n",
    "begbie_similarity_df = pd.DataFrame(columns=['Author', 'Text', 'Similarity Score'])\n",
    "\n",
    "# Iterate through the embeddings and their corresponding sentences\n",
    "for auth, snippets in act_snippets.items():\n",
    "    for snippet, emb in zip(snippets, embeddings_dict[auth]):\n",
    "        similarity = cosine_similarity(emb.reshape(1, -1), mean_begbie)[0][0]\n",
    "        begbie_similarity_df.loc[len(begbie_similarity_df)] = [auth, snippet, similarity]\n",
    "        \n",
    "# Sort by similarity score\n",
    "begbie_sorted_similarity = begbie_similarity_df.sort_values(by='Similarity Score', ascending=False)\n",
    "\n",
    "print(\"Top 10 most similar sentences to Begbie's mean embedding:\\n\")\n",
    "for _, row in begbie_sorted_similarity.head(10).iterrows():\n",
    "    wrapped_para = textwrap.fill(row['Text'], width=100)\n",
    "    print(f\"Author: {row['Author']}\\nSentence: {wrapped_para}\\nSimilarity Score: {row['Similarity Score']:.4f}\\n\")"
   ]
  },
  {
   "cell_type": "code",
   "execution_count": 26,
   "id": "d0496301",
   "metadata": {},
   "outputs": [
    {
     "name": "stdout",
     "output_type": "stream",
     "text": [
      "Top 10 most similar sentences to the Regulation Act's mean embedding:\n",
      "\n",
      "Author: Act 1884\n",
      "Sentence: In case any employer of Chinese fails to deliver to the Collector the list mentioned in the\n",
      "preceding section, when required so to do, or knowingly states anything falsely therein, such\n",
      "employer shall, on complaint of the Collector and upon conviction before a Justice of the Peace\n",
      "having jurisdiction within the district wherein such employer carries on his business, forfeit and\n",
      "pay a fine not exceeding one hundred dollars for every Chinese in his employ, to be recovered by\n",
      "distress of the goods and chattels of such employer failing to pay the same, or in lieu thereof\n",
      "shall be liable to imprisonment for a period not less than one month and not exceeding two calendar\n",
      "months.\n",
      "Similarity Score: 0.9662\n",
      "\n",
      "Author: Act 1884\n",
      "Sentence: The Toll Collector at any and every toll gate which may exist in the Province from time to time,\n",
      "shall, before allowing any Chinese to pass through any toll gate, demand from such Chinese the\n",
      "production of his licence, and, until the same is produced, such Chinese shall not be allowed to\n",
      "proceed through the toll gate.\n",
      "Similarity Score: 0.9622\n",
      "\n",
      "Author: Act 1884\n",
      "Sentence: It shall be unlawful for any person to employ any Chinese who has not in his possession the licence\n",
      "required by this Act, and any person guilty of an infraction of the provisions of this section shall\n",
      "forfeit and pay a fine not exceeding fifty dollars for every Chinese so employed.\n",
      "Similarity Score: 0.9620\n",
      "\n",
      "Author: Act 1884\n",
      "Sentence: Any Chinese who shall be found mining for gold and precious metals, or following the ordinary\n",
      "occupation of a free miner, whether on his own account or for others, without having in his\n",
      "possession a free miner’s certificate, lawfully issued to him subsequently to the passage of this\n",
      "Act, and any person who shall employ any Chinese in and about gold mining who has not in his\n",
      "possession such a certificate, shall forfeit and pay a sum not exceeding thirty dollars.\n",
      "Similarity Score: 0.9602\n",
      "\n",
      "Author: Act 1884\n",
      "Sentence: The sum payable by a Chinese for a free miner’s certificate shall be fifteen dollars for each year\n",
      "during which the same is to be in force instead of five dollars, as by the present mining laws\n",
      "provided, and no free miner’s certificate shall hereafter be issued to any Chinese except upon\n",
      "payment of the said sum of fifteen dollars.\n",
      "Similarity Score: 0.9558\n",
      "\n",
      "Author: Crease\n",
      "Sentence: However difficult or impossible for any Chinese to find a district collector, if such Chinese is\n",
      "\"found without a license he is liable to a fine of $40.\"\n",
      "Similarity Score: 0.9538\n",
      "\n",
      "Author: Act 1884\n",
      "Sentence: Any Chinese who shall be found within the Province not having in his possession a licence issued\n",
      "under the provisions of this Act, lawfully issued to him, shall on conviction thereof forfeit and\n",
      "pay a sum not exceeding forty dollars.\n",
      "Similarity Score: 0.9506\n",
      "\n",
      "Author: Act 1884\n",
      "Sentence: The Lieutenant-Governor in Council shall immediately upon the passage of this Act, and from time to\n",
      "time thereafter as occasion may require, appoint in each electoral district, one or more person or\n",
      "persons to be called Chinese Collectors, to collect and receive such payments from Chinese, and such\n",
      "Collector or Collectors immediately upon such payment shall issue and deliver to the person paying\n",
      "the same a licence in the form contained in the Schedule hereto, and the Lieutenant-Governor in\n",
      "Council may require from the Collectors so to be appointed such security as he may see fit and may\n",
      "allow them such percentage upon the amount of collections as may seem reasonable and just, and the\n",
      "Lieutenant-Governor in Council may further allow such additional sum by way of expenses as may be\n",
      "necessary and reasonable for the purpose of carrying out the provisions of this Act.\n",
      "Similarity Score: 0.9488\n",
      "\n",
      "Author: Act 1884\n",
      "Sentence: The Collector may, by himself or his agent, levy the amount of the licence from any Chinese not\n",
      "being in lawful possession of a licence, with costs, by distress of his goods and chattels, or of\n",
      "any goods and chattels which may be in the possession of the delinquent, or which may be upon or in\n",
      "any premises (whether the goods of the delinquent or not) for the time being in the possession or\n",
      "occupation of such delinquent Chinese, and for the purposes of this section premises shall be deemed\n",
      "to be in the possession or occupation of any Chinese when it can be shewn to the satisfaction of the\n",
      "tribunal having cognizance of the matter—    (a.)\n",
      "Similarity Score: 0.9486\n",
      "\n",
      "Author: Crease\n",
      "Sentence: Another statute (of 1878), \"An Act to provide for the better collection of taxes from Chinese,\"\n",
      "which contained several of the stringent provisions which I have described in this Act, such as a\n",
      "special tax specially recoverable by summary and unusual remedies from the Chinese alone, in British\n",
      "Columbia, and enforced by fine and imprisonment and other penal clauses, came before this Court, and\n",
      "in a most conscientious and exhaustive judgment of Mr. Justice Gray, of 23rd September, 1878, in the\n",
      "case of Tai Sing v. Maguire, was declared unconstitutional and ultra vires the Local Legislature, as\n",
      "interfering with aliens and trade and commerce—matters reserved exclusively under the 81st section\n",
      "of the B. N. A.\n",
      "Similarity Score: 0.9472\n",
      "\n"
     ]
    }
   ],
   "source": [
    "# Print out the 10 most similar embedding sentences to the Regulation Act's mean embedding\n",
    "\n",
    "regulation_similarity_df = pd.DataFrame(columns=['Author', 'Text', 'Similarity Score'])\n",
    "\n",
    "# Iterate through the embeddings and their corresponding sentences\n",
    "for auth, snippets in act_snippets.items():\n",
    "    for snippet, emb in zip(snippets, embeddings_dict[auth]):\n",
    "        similarity = cosine_similarity(emb.reshape(1, -1), mean_act_1884)[0][0]\n",
    "        regulation_similarity_df.loc[len(regulation_similarity_df)] = [auth, snippet, similarity]\n",
    "        \n",
    "# Sort by similarity score\n",
    "regulation_sorted_similarity = regulation_similarity_df.sort_values(by='Similarity Score', ascending=False)\n",
    "\n",
    "print(\"Top 10 most similar sentences to the Regulation Act's mean embedding:\\n\")\n",
    "for _, row in regulation_sorted_similarity.head(10).iterrows():\n",
    "    wrapped_para = textwrap.fill(row['Text'], width=100)\n",
    "    print(f\"Author: {row['Author']}\\nSentence: {wrapped_para}\\nSimilarity Score: {row['Similarity Score']:.4f}\\n\")"
   ]
  },
  {
   "cell_type": "markdown",
   "id": "5d15c320",
   "metadata": {},
   "source": [
    "### Topic Mining and Alignment Analysis"
   ]
  },
  {
   "cell_type": "markdown",
   "id": "6513c8f4",
   "metadata": {},
   "source": [
    "### Sentiment Analysis"
   ]
  },
  {
   "cell_type": "markdown",
   "id": "cab14dac",
   "metadata": {},
   "source": [
    "### LLM and Zero-Shot Classification "
   ]
  },
  {
   "cell_type": "code",
   "execution_count": 27,
   "id": "2e752e10",
   "metadata": {},
   "outputs": [],
   "source": [
    "# Create the full snippets dictionary\n",
    "act_1884_full = \" \".join(act_1884)\n",
    "crease_cases_full = \" \".join(crease_cases)\n",
    "begbie_cases_full = \" \".join(begbie_cases)\n",
    "\n",
    "full_cases = {\"Crease\": crease_cases_full, \"Begbie\": begbie_cases_full, \"Act 1884\": act_1884_full}"
   ]
  },
  {
   "cell_type": "code",
   "execution_count": 28,
   "id": "0f3ba179",
   "metadata": {},
   "outputs": [],
   "source": [
    "# We create a dictionary to hold the full snippets for each author\n",
    "full_snippets = {}\n",
    "for author, text in full_cases.items():\n",
    "    sentence = sent_tokenize(text)\n",
    "    snippets = []\n",
    "    for sent in sentence:\n",
    "        if len(sent) > 30:  # Filter out short and meaningless sentences created by tokenization\n",
    "            snippets.append(sent)\n",
    "            \n",
    "    full_snippets[author] = snippets"
   ]
  },
  {
   "cell_type": "code",
   "execution_count": 29,
   "id": "74c44036",
   "metadata": {},
   "outputs": [
    {
     "name": "stdout",
     "output_type": "stream",
     "text": [
      "     Author  Snippet Count\n",
      "0    Crease            274\n",
      "1    Begbie            201\n",
      "2  Act 1884             40\n"
     ]
    }
   ],
   "source": [
    "# Create a DataFrame to display snippet size by author\n",
    "snippet_sizes = [{'Author': auth, 'Snippet Count': len(snippets)} for auth, snippets in full_snippets.items()]\n",
    "snippet_sizes_df = pd.DataFrame(snippet_sizes)\n",
    "\n",
    "# Display the DataFrame\n",
    "print(snippet_sizes_df)"
   ]
  },
  {
   "cell_type": "code",
   "execution_count": 30,
   "id": "0b8acdea",
   "metadata": {},
   "outputs": [
    {
     "name": "stdout",
     "output_type": "stream",
     "text": [
      "WARNING:tensorflow:From c:\\Users\\Kaiyan Zhang\\AppData\\Local\\Programs\\Python\\Python312\\Lib\\site-packages\\tf_keras\\src\\losses.py:2976: The name tf.losses.sparse_softmax_cross_entropy is deprecated. Please use tf.compat.v1.losses.sparse_softmax_cross_entropy instead.\n",
      "\n"
     ]
    },
    {
     "name": "stderr",
     "output_type": "stream",
     "text": [
      "Device set to use cpu\n"
     ]
    }
   ],
   "source": [
    "# Create pipeline for zero-shot classification\n",
    "from transformers import pipeline\n",
    "\n",
    "zero_shot = pipeline(\n",
    "    \"zero-shot-classification\",\n",
    "    model=\"facebook/bart-large-mnli\",\n",
    "    tokenizer=\"facebook/bart-large-mnli\",\n",
    "    hypothesis_template=\"This legal text {}.\"\n",
    ")\n",
    "\n",
    "labels = [\n",
    "    \"advocates for equal legal treatment of Chinese immigrants compared to white or European settlers, opposing racial discrimination\",\n",
    "    \"describes the status or treatment of Chinese immigrants without expressing support or opposition to racial inequality\",\n",
    "    \"justifies or reinforces unequal legal treatment of Chinese immigrants relative to white or European settlers, supporting racially discriminatory policies\"\n",
    "]\n",
    "\n",
    "def get_scores(snippet):\n",
    "    out = zero_shot(snippet, candidate_labels=labels)\n",
    "    return dict(zip(out[\"labels\"], out[\"scores\"]))"
   ]
  },
  {
   "cell_type": "code",
   "execution_count": 31,
   "id": "61e9baf2",
   "metadata": {},
   "outputs": [],
   "source": [
    "# Run zero-shot classification on the snippets from the Chinese Regulation Act 1884\n",
    "act_scores = {}\n",
    "\n",
    "for auth, snippets in full_snippets.items():\n",
    "    scores = []\n",
    "    for snip in snippets:\n",
    "        score = get_scores(snip)\n",
    "        scores.append(score)\n",
    "    act_scores[auth] = scores\n",
    "\n",
    "rows = []\n",
    "\n",
    "for auth, snippets in full_snippets.items():\n",
    "    for snip, score_dict in zip(snippets, act_scores[auth]):\n",
    "        row = {\n",
    "            \"Author\": auth,\n",
    "            \"Text\": snip,\n",
    "            \"Pro\": score_dict[labels[0]],\n",
    "            \"Neutral\": score_dict[labels[1]],\n",
    "            \"Cons\": score_dict[labels[2]]\n",
    "        }\n",
    "        rows.append(row)\n",
    "\n",
    "# Create DataFrame to store the scores\n",
    "df_scores = pd.DataFrame(rows)"
   ]
  },
  {
   "cell_type": "code",
   "execution_count": 32,
   "id": "17f3cfb5",
   "metadata": {},
   "outputs": [
    {
     "name": "stdout",
     "output_type": "stream",
     "text": [
      "\n",
      "Top 10 sentences with the highest 'Pro' scores:\n",
      "\n",
      "Author: Begbie\n",
      "Sentence: Justices FIELD, HOFFMAN, SAWYER and DEADY and other Judges whom they cite, all confirm this, that a\n",
      "State, or Provincial law imposing special disabilities or unequal burdens on Chinamen is\n",
      "unconstitutional and void.\n",
      "Pro Score: 0.9632\n",
      "\n",
      "Author: Crease\n",
      "Sentence: 6, ratified 26th June, 1843, p. 221, and Lord Elgin's treaty of October, 1860, authenticated copies\n",
      "of which were produced in Court, secure to Chinese coming into British dominions the same \"full\n",
      "security for persons and property as subjects of Her Majesty.\"\n",
      "Pro Score: 0.9309\n",
      "\n",
      "Author: Crease\n",
      "Sentence: The treaties I have quoted between Great Britain and China, binding on the Dominion and on us in\n",
      "British Columbia, secure to the Chinese, just as the treaties between Great Britain and other\n",
      "foreign countries secure to other foreigners, the same rights in regard to the equality of taxation\n",
      "which I have described as being enjoyed by citizens of this country.\n",
      "Pro Score: 0.9065\n",
      "\n",
      "Author: Crease\n",
      "Sentence: Inherent in and incidental to the taxing power was the characteristic of equality.\n",
      "Pro Score: 0.7826\n",
      "\n",
      "Author: Begbie\n",
      "Sentence: It is not competent to the Provincial Legislature, or to a municipality, to deprive, generally,\n",
      "particular nationalities or individuals of the capacity to take out municipal trade licenses ; e.\n",
      "g., a Chinaman has a right to apply for a pawnbroker's license.\n",
      "Pro Score: 0.7718\n",
      "\n",
      "Author: Crease\n",
      "Sentence: ), 2nd Vol., 388, it is insisted—\"That every person is entitled to be protected in the enjoyment of\n",
      "his property, not only from invasions of it by individuals, but from all unequal and undue\n",
      "assessments on the part of the Government.\n",
      "Pro Score: 0.7367\n",
      "\n",
      "Author: Begbie\n",
      "Sentence: Prima facie, every person living under the protection of British law has a right at once to exercise\n",
      "his industry and ability in any trade or calling he may select.\n",
      "Pro Score: 0.7146\n",
      "\n",
      "Author: Begbie\n",
      "Sentence: Now can anybody in the Province, on or off the Bench, conscientiously say that this ordinance does\n",
      "not come within the principle thus enunciated ?\n",
      "Pro Score: 0.6915\n",
      "\n",
      "Author: Crease\n",
      "Sentence: *Drake*, Q. C., on the same side, argued that the imposition of the $10 tax was invalid because of\n",
      "inequality.\n",
      "Pro Score: 0.6700\n",
      "\n",
      "Author: Crease\n",
      "Sentence: The reports of the higher California courts are of great authority for us on all Chinese questions,\n",
      "for there have been efforts for years past to restrict Chinese immigration in California, and the\n",
      "matter has been constantly before the superior courts there, and the judges there (if we may take\n",
      "the reports as correct) are more than ordinarily skilled in laying down the law correctly in\n",
      "constitutional points of that nature.\n",
      "Pro Score: 0.6638\n",
      "\n"
     ]
    }
   ],
   "source": [
    "# Print out the top 10 sentences with the highest \"Pro\" scores\n",
    "top_pro_sentences = df_scores.nlargest(10, 'Pro')\n",
    "\n",
    "print(\"\\nTop 10 sentences with the highest 'Pro' scores:\\n\")\n",
    "\n",
    "for _, row in top_pro_sentences.iterrows():\n",
    "    wrapped_para = textwrap.fill(row['Text'], width=100)\n",
    "    print(f\"Author: {row['Author']}\\nSentence: {wrapped_para}\\nPro Score: {row['Pro']:.4f}\\n\")"
   ]
  },
  {
   "cell_type": "code",
   "execution_count": 33,
   "id": "0fdc399a",
   "metadata": {},
   "outputs": [
    {
     "name": "stdout",
     "output_type": "stream",
     "text": [
      "\n",
      "Top 10 sentences with the highest 'Cons' scores:\n",
      "\n",
      "Author: Crease\n",
      "Sentence: And again, \"A tax imposed by the law on these persons for the mere right to reside here, is an\n",
      "appropriate and effective means to discourage the immigration of the Chinese into the State.\"\n",
      "Cons Score: 0.9659\n",
      "\n",
      "Author: Crease\n",
      "Sentence: He reviewed the legislation against Chinese since confederation, contending it was levelled against\n",
      "a particular race of aliens and, therefore, beyond provincial control, per *Gwynne*, J., in\n",
      "*Citizens Insurance Co. v. Parsons*, 4 S. C. R., at p. 346.\n",
      "Cons Score: 0.9637\n",
      "\n",
      "Author: Crease\n",
      "Sentence: The power asserted in the Act in question (the California Act) is the right of the State to\n",
      "prescribe the terms upon which the Chinese shall be permitted to reside in it, and be so used as to\n",
      "cut off all intercourse between them and the people of the State, and defeat the commercial policy\n",
      "of the nation.\n",
      "Cons Score: 0.9594\n",
      "\n",
      "Author: Crease\n",
      "Sentence: The provisions of the Act I have given somewhat in extenso bear out that view, and the concurrent\n",
      "and previous local legislation bear out the same impression, for on the same day as this Act was\n",
      "passed, another Act was passed, the very object of which was plainly stated to be \"to prevent the\n",
      "immigration\" of Chinese.\"\n",
      "Cons Score: 0.9560\n",
      "\n",
      "Author: Crease\n",
      "Sentence: In other words, every Chinese is guilty until proved innocent—a provision which fills one conversant\n",
      "with subjects with alarm; for if such a law can be tolerated as against Chinese, the precedent is\n",
      "set, and in time of any popular outcry can easily be acted on for putting any other foreigners or\n",
      "even special classes among ourselves, as coloured people, or French, Italians, Americans, or\n",
      "Germans, under equally the same law.\n",
      "Cons Score: 0.9444\n",
      "\n",
      "Author: Crease\n",
      "Sentence: The Act is found associated with another Act now disallowed, the express object of which is to\n",
      "prevent the Chinese altogether from coming to this country, and the principle \"noscitur a sociis\" is\n",
      "kept up by the preamble of the present Act, which describes the Chinese in terms which, I venture to\n",
      "think, have never before in any other country found a place in an Act of Parliament.\n",
      "Cons Score: 0.9297\n",
      "\n",
      "Author: Begbie\n",
      "Sentence: And in determining the quality of any  clauses, the same Mr. Justice FIELD remarks : \" When we take\n",
      "our seats on the Bench, we are not struck with blindness and forbidden to know as Judges what we see\n",
      "as men ; and when an ordinance, though general in its terms, only operates upon a special race, sect\n",
      "or class, it being universally understood that it is to be enforced only against that race, sect or\n",
      "class, we may justly conclude that it was the intention of the body adopting it that it should only\n",
      "have such operation, and treat it accordingly.\"\n",
      "Cons Score: 0.9263\n",
      "\n",
      "Author: Crease\n",
      "Sentence: So far, I have dealt with the Act on its own merits; but if we consider it in juxtaposition to the\n",
      "Dominion Act recently passed restricting the Chinese throughout all Canada, its illegality becomes\n",
      "transparent; for in passing that Act against the Chinese the Dominion has spoken by the highest\n",
      "authority which it possesses—its own Parliament.\n",
      "Cons Score: 0.9230\n",
      "\n",
      "Author: Begbie\n",
      "Sentence: The appellants' contention that the clause is merely intended to hamper or expel Chinamen is much\n",
      "strengthened by considering the amount of the tax sanctioned, which is $150.00 per annum, whereas\n",
      "the limit sanctioned by the Legislature in the case of any retail shop, however extensive or\n",
      "lucrative its business, is only $10.00 per annum.\n",
      "Cons Score: 0.9202\n",
      "\n",
      "Author: Begbie\n",
      "Sentence: In the French colony of Cayenne, the Town Council recently handicapped the superior capacities of\n",
      "the Chinaman by imposing on merchants of that empire an extra tax of $300 per annum, deeming it also\n",
      "expedient to handicap English and German traders by a surtax of $200 on them.\n",
      "Cons Score: 0.9028\n",
      "\n"
     ]
    }
   ],
   "source": [
    "# Print out the top 10 sentences with the highest \"Cons\" scores\n",
    "top_cons_sentences = df_scores.nlargest(10, 'Cons')\n",
    "\n",
    "print(\"\\nTop 10 sentences with the highest 'Cons' scores:\\n\")\n",
    "\n",
    "for _, row in top_cons_sentences.iterrows():\n",
    "    wrapped_para = textwrap.fill(row['Text'], width=100)\n",
    "    print(f\"Author: {row['Author']}\\nSentence: {wrapped_para}\\nCons Score: {row['Cons']:.4f}\\n\")"
   ]
  },
  {
   "cell_type": "code",
   "execution_count": 34,
   "id": "65685d58",
   "metadata": {},
   "outputs": [
    {
     "name": "stdout",
     "output_type": "stream",
     "text": [
      "Mean scores by author:\n",
      "               Pro   Neutral      Cons\n",
      "Author                                \n",
      "Act 1884  0.291177  0.181931  0.526892\n",
      "Begbie    0.287563  0.301680  0.410758\n",
      "Crease    0.259287  0.289256  0.451457\n",
      "\n",
      "Median scores by author:\n",
      "               Pro   Neutral      Cons\n",
      "Author                                \n",
      "Act 1884  0.298038  0.160079  0.514868\n",
      "Begbie    0.285689  0.276666  0.395044\n",
      "Crease    0.259358  0.254776  0.430397\n"
     ]
    }
   ],
   "source": [
    "# Group by author and calculate mean scores\n",
    "mean_scores = df_scores.groupby(\"Author\")[[\"Pro\", \"Neutral\", \"Cons\"]].mean()\n",
    "median_scores = df_scores.groupby(\"Author\")[[\"Pro\", \"Neutral\", \"Cons\"]].median()\n",
    "\n",
    "print(\"Mean scores by author:\")\n",
    "print(mean_scores)\n",
    "\n",
    "print(\"\\nMedian scores by author:\")\n",
    "print(median_scores)\n"
   ]
  },
  {
   "cell_type": "code",
   "execution_count": 35,
   "id": "2215827d",
   "metadata": {},
   "outputs": [
    {
     "data": {
      "application/vnd.plotly.v1+json": {
       "config": {
        "plotlyServerURL": "https://plot.ly"
       },
       "data": [
        {
         "customdata": [
          [
           "14th & 15th July, Certiorari—“Chinese Regulation<br>Act, 1884,” s. 5—Constitutionality—B.N.A."
          ],
          [
           "91, 92—“Aliens”—“Trade and Commerce”—Taxation."
          ],
          [
           "On the return to a writ of certiorari."
          ],
          [
           "Held, that the “Chinese Regulation Act, 1884,” is<br>ultra vires of the Provincial Legislature, on the<br>following grounds:   1."
          ],
          [
           "It is an interference with the rights of Aliens."
          ],
          [
           "It is an interference with Trade and Commerce."
          ],
          [
           "It is an infraction of the existing treaties<br>between the Imperial Government and China."
          ],
          [
           "14th & 15th July—On the return of a writ of<br>certiorari directed to Edwin Johnson, Esquire,<br>Police Magistrate for the City of Victoria, to<br>return into this Court a certain conviction made<br>by him under which one Wing Chong was fined $20<br>for not having in his possession a license issued<br>under the “Chinese Regulation Act, 1884.”    The<br>Attorney-General in support of the conviction said<br>there were five points raised on the rule for the<br>certiorari against the validity of the $10<br>tax.—1st."
          ],
          [
           "That it interfered with the Dominion powers under<br>the B. N. A."
          ],
          [
           "Act, aliens, and naturalization; 2nd."
          ],
          [
           "That the tax was unequal, and 5th."
          ],
          [
           "As to the first point aliens were as much subject<br>to taxation as citizens."
          ],
          [
           "Protection and taxation were reciprocal (Cooley on<br>Taxation, p. 14)."
          ],
          [
           "The law did not deal with the conditions under<br>which aliens might acquire rights or become<br>subjects of Her Majesty."
          ],
          [
           "Secondly—Trade and commerce were not interfered<br>with."
          ],
          [
           "The object of the Act was two-fold, the police and<br>sanitary regulation of a numerous foreign element,<br>and the raising of revenue necessary to meet that<br>regulation (Hodge v. The Queen, L. R. 9, App."
          ],
          [
           "If incidentally trade and commerce were touched,<br>the provincial power of direct taxation was not<br>impaired (Citizens Insurance Co. v. Parsons, L. R.<br>7 App."
          ],
          [
           "The preamble and scope of the Act showed its<br>objects were purely matters of the police and<br>raising of revenue to meet the necessary<br>expenditure, and within “Direct Taxation.”<br>Thirdly—The treaty obligations of England did not<br>affect the question."
          ],
          [
           "The last communication from the Secretary of State<br>for the Colonies to the Governor-General, dated<br>16th May, 1884, stated, in effect, that the<br>Colonies with responsible government could pass<br>restrictive laws irrespective of treaties (B. C.<br>Sessional Papers, 1885, p. 464), and instanced the<br>legislation of the Australian Colonies and of the<br>Dominion."
          ],
          [
           "Fourthly—As to unequal taxation, the power of the<br>Province within its jurisdiction was supreme and<br>as plenary as that of the Imperial Parliament (R.<br>v. Burah, L.R."
          ],
          [
           "904; R. v. Hodge, L. R. 9, App."
          ],
          [
           "117; and Powell v. Apollo Candle Co., L.R."
          ],
          [
           "Cas., p. 290; and *In re Goodhue*, 19 Gr."
          ],
          [
           "366); *Cooley* on Taxation, pp."
          ],
          [
           "3, 82, 126-128, and *Cooley's Constitutional<br>Limitations* (5th Ed.)"
          ],
          [
           "), p. 501; *Potter's Dwarris* 418, 421, 425; *Dow<br>v. Black*, L. R. 6 P. C. 272, were cited as<br>showing the power of taxation, unless abridged by<br>the written constitution, might be exercised so as<br>to discriminate."
          ],
          [
           "The Supreme Court of Canada, in the case of *Jonas<br>v. Gilbert*, 5 S. C. R., 356, had practically<br>decided the same point."
          ],
          [
           "Fifthly—Whether called a licence or not, the<br>imposition was a direct poll tax, and as such came<br>within the power of the Province to raise money by<br>direct taxation for Provincial purposes."
          ],
          [
           "*Cooley* on Taxation, 386; *Wharton's Law<br>Lexicon*; *Reed v. Mousseau*, 8 S. C. R., 408."
          ],
          [
           "It was not a license to carry on business, or a<br>method whereby indirectly money was raised from<br>the consumer, as, for instance, customs or stamp<br>laws."
          ],
          [
           "*Richards*, Q. C., for Wing Chong—The object of<br>the Act was not for police purposes or to raise<br>revenue."
          ],
          [
           "Its object, though not apparent on the face of the<br>Act, was to prevent Chinese coming into the<br>Province and drive out those who had already come."
          ],
          [
           "He reviewed the legislation against Chinese since<br>confederation, contending it was levelled against<br>a particular race of aliens and, therefore, beyond<br>provincial control, per *Gwynne*, J., in *Citizens<br>Insurance Co. v. Parsons*, 4 S. C. R., at p. 346."
          ],
          [
           "The law was a direct interference with trade and<br>commerce (*R. v. Severn*, 2 Can."
          ],
          [
           "If its object were successful and Chinese driven<br>from the country, the customs dues received from<br>the Chinese would be lost and the benefits of<br>trade relations enjoyed by the merchants would be<br>destroyed."
          ],
          [
           "Counsel cited statistics from the Chinese<br>Commission showing the extreme importance, from a<br>fiscal and commercial point of view, of the large<br>number of Chinese in the Province."
          ],
          [
           "The Dominion under the B. N. A."
          ],
          [
           "Act had alone the right of performing in Canada<br>the obligations of Canada as part of the British<br>Empire in respect of treaties, and although Canada<br>might pass laws prohibiting immigration, or having<br>that tendency, the Province could not do so, nor<br>could it pass laws in derogation of treaties."
          ],
          [
           "He cited the British treaty (25th August, 1842,<br>from *Hertslet*, Vol."
          ],
          [
           "6, and Lord *Elgin's* treaty, 1860), comparing it<br>with the *Burlingame* treaty of the United States,<br>and quoted California decisions (*Lin Sing v.<br>Washburn*, 20 Cal."
          ],
          [
           "334), and the decision of *Gray*, J., in *Tai Sing<br>v. Maguire*, deciding that similar legislation was<br>held void as contravening the treaty and the<br>sovereign power to regulate trade and commerce<br>with foreign countries."
          ],
          [
           "*Drake*, Q. C., on the same side, argued that the<br>imposition of the $10 tax was invalid because of<br>inequality."
          ],
          [
           "Inherent in and incidental to the taxing power was<br>the characteristic of equality."
          ],
          [
           "*Cooley* stated that irrespective of<br>constitutional limitation a particular class of<br>citizens could not be burdened for the advantage<br>of others—*Cooley's Constitutional Limitations*,<br>p. 635."
          ],
          [
           "This was a principle underlying the power to tax<br>and governing that right even though the CREASE,<br>J."
          ],
          [
           "written constitution made no mention of it—Cooley<br>on Taxation, p. 18, and City of Lexington v.<br>McQuillan, 35 Am."
          ],
          [
           "The imposition was in derogation of treaty rights<br>with which Canada alone had the power to deal."
          ],
          [
           "The Australian legislation did not help the<br>contention of the Attorney-General."
          ],
          [
           "The Australian Colonies were autonomous, and<br>occupied the same position as that of Canada."
          ],
          [
           "The Provinces were not autonomous."
          ],
          [
           "He did not contend that the whole of the Act was<br>invalid."
          ],
          [
           "Much of it was within the scope of the Province,<br>notably the provisions affecting the size of<br>dwellings, the forbidding the use of opium, and<br>the desecration of grave-yards."
          ],
          [
           "He insisted that imposing excessive taxation on<br>one class of citizens was unconstitutional."
          ],
          [
           "The remarks of Chief Justice Ritchie, in the case<br>of Jonas v. Gilbert before the Supreme Court of<br>Canada, were obiter dicta, as the decision was<br>upon another point, and intimated, but did not<br>decide the right of the Provinces to discriminate,<br>nor in what things and to what extent<br>discrimination in taxation was legitimate."
          ],
          [
           "Lastly, the Act was for indirect taxation, which<br>was a power given only to the Dominion Parliament."
          ],
          [
           "It was a license fee, the power to impose which<br>had, in Severn v. The Queen, been decided against<br>the Provinces on the score of such legislation<br>being against trade and commerce."
          ],
          [
           "The Attorney-General in reply—The ten dollar<br>impost was a tax whether designated by the name of<br>a licence or otherwise."
          ],
          [
           "The distinction between direct and indirect<br>taxation was well drawn in the case of Reed v.<br>Mousseau before the Supreme Court of Canada, in<br>which Mr. Justice Strong mentioned the Privy<br>Council had decided the Provincial legislatures<br>had exclusive power to impose direct taxation, and<br>that it did not follow they might not have power<br>even to impose indirect taxation."
          ],
          [
           "The tax did not sanction the carrying on of any<br>business out of the product of which the consumer<br>would, indirectly, contribute towards payment of<br>the tax."
          ],
          [
           "Then as to inequality, the one dictum of Cooley<br>was but an expression of opinion that political<br>wisdom required uniform taxation; for the same<br>author cited numerous authorities, including that<br>of the Supreme Court of the United States<br>establishing the right to discriminate unless<br>fettered by the express language of the<br>Constitution."
          ],
          [
           "Todd on Parliamentary Government in the Colonies,<br>supported the view that the Provinces within their<br>jurisdiction were as omnipotent as the Imperial<br>Parliament."
          ],
          [
           "The California cases (see The People v. Naglee, 1<br>Cal."
          ],
          [
           "232) decided a differential tax might be imposed<br>on foreign miners; and though a later case (Lin<br>Sing v. Washburn, 20 Cal."
          ],
          [
           "334) had decided a special tax could not be<br>imposed on Chinese, a most celebrated Judge, Mr.<br>Justice Field (since elevated to the Federal<br>bench), dissented, and had pointed out that<br>according to federal decisions the State might<br>impose special taxation on alien residents,<br>provided the impost was not levied against<br>foreigners landing in the country."
          ],
          [
           "The tax was not to exclude the Chinese — another<br>statute with that object had been disallowed."
          ],
          [
           "It was imposed to meet the extraordinary expenses<br>incident to enforcing the police and sanitary<br>regulations prescribed by the Act."
          ],
          [
           "The question of treaties had nothing to do with<br>the subject, for to responsible governments the<br>Imperial Authorities conceded the right to pass<br>laws within their jurisdiction."
          ],
          [
           "So the Canadian Parliament to-day was passing a<br>restriction Act."
          ],
          [
           "Opponents to the Act might as well contend the<br>exclusion of the Chinese from the franchise, and<br>barring them from acquiring lands, was illegal."
          ],
          [
           "As to autonomy, neither the Australian Colonies<br>nor the Dominion were absolutely possessed, but<br>the Province equally with Australia and the<br>Dominion were autonomous within the bounds of<br>their respective jurisdictions."
          ],
          [
           "21st August, 1885—CREASE, J.— In order to deal<br>satisfactorily with the questions raised by this<br>appeal, it is necessary to see what is the scope<br>and purport of the Act.\""
          ],
          [
           "It starts with a recital, in itself a petio<br>principii—not apparently the result of any public<br>enquiry—which charges them with being not law-<br>abiding, dissimilar in habits and occupation to<br>the whites—useless in emergencies, habitual<br>desecrators of grave-yards, unsuited to our laws,<br>and of habits subversive of the community."
          ],
          [
           "From that premises concluding that special laws<br>are required for their government, it proceeds to<br>enact:—     The only schedule is the form of<br>license, which runs as follows:—    The question<br>now raised on the construction of this Act affects<br>not only British Columbia, but, as she occupies<br>the only Pacific seaboard of the Dominion,<br>indirectly more or less the very many other<br>Provinces under the flag of confederation."
          ],
          [
           "Taking for convenience the five points of<br>objection to the conviction in the order in which<br>they are made—   1."
          ],
          [
           "That it interfered with the Dominion powers under<br>the B. N. A."
          ],
          [
           "Act over aliens and naturalization."
          ],
          [
           "That it was indirect taxation and therefore<br>illegal, and should be quashed."
          ],
          [
           "On the first point, I would observe that it is now<br>well settled law that British Columbia, as a part<br>of the Dominion, possesses all, but possesses<br>only, the powers which are strictly defined by the<br>B. N. A."
          ],
          [
           "Act of 1867, which is, indeed, the constitution of<br>Canada."
          ],
          [
           "Neither she nor any other of the Provinces possess<br>any other powers of legislation than are conferred<br>by that Act."
          ],
          [
           "If British Columbia, or any other Province, in its<br>legislation, goes beyond that Act and in excess of<br>its provisions, that moment, and to the extent of<br>such transgression, it ceases to be law."
          ],
          [
           "Therefore, in dealing with this question, our<br>constitutional Act must be kept in view<br>throughout, as the measure by which we must<br>continually gauge the legality or illegality of<br>the provisions of the local statute under<br>consideration."
          ],
          [
           "The Act of Federation was passed in order to be an<br>irrefragable, permanent standard by which to<br>preserve and regulate all the relative rights of<br>the Provinces, as among themselves and as regards<br>the Dominion."
          ],
          [
           "The exclusive powers of that Act given to the<br>Dominion over particular subjects are contained in<br>the 91st section."
          ],
          [
           "The exclusive powers of the Province are<br>particularized in section 92."
          ],
          [
           "It is natural that in the working out of such a<br>constitution in a new and growing country,<br>questions should be continually cropping up, and<br>call upon the Courts to define gradually and with<br>greater exactness, as time progresses and<br>population expands, the relative powers given by<br>the Act to the Dominion and Provinces<br>respectively."
          ],
          [
           "Sub-section 2 of section 91 gives to the Dominion<br>Parliament exclusively the regulation of “trade<br>and commerce,” and by sub-section 25 that of<br>“naturalization and aliens,” and everything<br>relating to those subjects as affecting the whole<br>Dominion is within the Dominion powers, and no<br>local Legislature can make any statute interfering<br>with either of those subjects."
          ],
          [
           "If it does, so far as such interference extends it<br>is illegal and void, and when brought before the<br>Court it is the duty of that tribunal so to<br>adjudge it."
          ],
          [
           "And the converse of this is true when applied to<br>Dominion legislation as affecting the subjects<br>exclusively given by the constitution to the<br>Province."
          ],
          [
           "Now, applying this test to the statute before us,<br>let us see whether and how far its provisions<br>affect, as is alleged, aliens, or trade, or<br>commerce."
          ],
          [
           "The aliens in this case being Chinese, the first<br>enquiry must be, what is the object of the Act?"
          ],
          [
           "On applying to the preamble, we find that it looks<br>like a bill of indictment as against a race not<br>suited to live among a civilized nation, and<br>certainly does not prepare one for legislation<br>which would encourage or tolerate their settlement<br>in the country."
          ],
          [
           "Indeed, the first lines of the preamble sound an<br>alarm at the multitude of people coming in, who<br>are of the repulsive habits described in the last<br>part of the preamble, and prepares one for<br>measures which should have a tendency to abate<br>that alarm by deterrent influences and enactments<br>which should have the effect of materially<br>lessening the number of such undesirable visitors."
          ],
          [
           "The provisions of the Act I have given somewhat in<br>extenso bear out that view, and the concurrent and<br>previous local legislation bear out the same<br>impression, for on the same day as this Act was<br>passed, another Act was passed, the very object of<br>which was plainly stated to be \"to prevent the<br>immigration\" of Chinese.\""
          ],
          [
           "It interfered with aliens as well as trade and<br>commerce, which cannot subsist among nations<br>without personal intercourse, which such an Act<br>(as far as China was concerned) would have a<br>tendency to prohibit."
          ],
          [
           "Another statute (of 1878), \"An Act to provide for<br>the better collection of taxes from Chinese,\"<br>which contained several of the stringent<br>provisions which I have described in this Act,<br>such as a special tax specially recoverable by<br>summary and unusual remedies from the Chinese<br>alone, in British Columbia, and enforced by fine<br>and imprisonment and other penal clauses, came<br>before this Court, and in a most conscientious and<br>exhaustive judgment of Mr. Justice Gray, of 23rd<br>September, 1878, in the case of Tai Sing v.<br>Maguire, was declared unconstitutional and ultra<br>vires the Local Legislature, as interfering with<br>aliens and trade and commerce—matters reserved<br>exclusively under the 81st section of the B. N. A."
          ],
          [
           "That decision was never appealed from, and was at<br>once acted on by the government as conclusive."
          ],
          [
           "The position and legislative powers of British<br>Columbia have been in no respect altered in its<br>relations to the legislative powers of the<br>Dominion on the same subjects since that time,<br>though Russell v. The Queen (7 App."
          ],
          [
           "829) and Hodge v. The Queen (9 App."
          ],
          [
           "117) have more fully defined the extent of the<br>powers of the Provincial Legislatures than has<br>hitherto been done; and in the latter case<br>especially."
          ],
          [
           "That decision, however, was not before Mr. Gray<br>when he rendered the judgment in Tai Sing v.<br>Maguire."
          ],
          [
           "Until reversed or varied, the decision in the<br>Hodge case is law here, and binding on this Court."
          ],
          [
           "Their lordships say (page 132), with reference to<br>the objection of the appellants there (delegatus<br>non potest delegare):—  \"It appears to their<br>lordships, however, that the objection thus raised<br>by the appellants is founded on an entire<br>misconception of the true character and position<br>of the Provincial Legislatures."
          ],
          [
           "They are in no sense delegates of or acting under<br>any mandate from the Imperial Parliament."
          ],
          [
           "When the British North America Act enacted that<br>there should be a Legislature for Ontario\" (for<br>this case we may for \"Ontario\" read \"British<br>Columbia\"), \"and that its Legislative Assembly<br>should have exclusive authority to make laws for<br>the Province and for provincial purposes in<br>relation to the matters enumerated in section 92,<br>it conferred powers not in any sense to be<br>exercised by delegation from or as agents of the<br>Imperial Parliament, but authority as plenary and<br>as ample within the limits prescribed by section<br>92 as the Imperial Parliament in the plenitude of<br>its power possessed and could bestow."
          ],
          [
           "Within these limits of subjects and area the Local<br>Legislature is supreme.\""
          ],
          [
           "[So far this decision confirms the words of Lord<br>Selborne in R. v. Burah; what follows goes beyond<br>it.]"
          ],
          [
           "\"And has the same authority as the Imperial<br>Parliament or the Parliament of the Dominion would<br>have had under like circumstances to confide to a<br>municipal institution or body of its own creation<br>authority to make by-laws or resolutions as to<br>subjects specified in the enactment, and with the<br>object of carrying the enactment into operation<br>and effect.\""
          ],
          [
           "That decision, although in some respects an obiter<br>dictum, as regards this case, makes it clear that<br>within the limits of subjects and the area<br>prescribed by the B. N. A."
          ],
          [
           "Act, by section 92, the Legislature of British<br>Columbia is supreme."
          ],
          [
           "The basis, then, of our enquiry must be: Is this<br>Chinese Regulation Act of 1884—rather the parts of<br>it objected to—within the limit of subjects and<br>area of section 92, or does it exceed those limits<br>in which it is supreme, and interfere with aliens,<br>trade and commerce in such a manner as to encroach<br>on section 91 or any of its sub-sections?"
          ],
          [
           "If so, so far as it does so, it is<br>unconstitutional and ultra vires, and therefore<br>void."
          ],
          [
           "Now it does not follow because a local Act touches<br>on these three subjects it therefore interferes<br>with them so as to render it unconstitutional."
          ],
          [
           "Aliens may be taxed, may be subjected to the same<br>rules and municipal and other by-laws as other<br>inhabitants of British Columbia, and such<br>discrimination in so doing as are allowed in local<br>legislatures between and among different persons<br>and occupations among the whites are quite as<br>applicable to them."
          ],
          [
           "These are the only discriminations which the law<br>allows, and these are the permissible<br>discriminations spoken of by Cooley in the<br>portions cited before the Court."
          ],
          [
           "During the argument the case of *Lin Sing v.<br>Washburn*, 20 California Reports, 534, was quoted<br>as bearing on this case."
          ],
          [
           "There, an Act of the California Legislature passed<br>an Act imposing a capitation tax “on ‘each person,<br>male and female, of the Mongolian race of the age<br>of 18 years and upwards residing in the State,’<br>accompanying a license almost a *fac simile* of<br>our own, and enforced in much the same way as in<br>the case before us, that, after long and elaborate<br>argument in which the Attorney-General appeared<br>for the State, was determined to be<br>unconstitutional, as it was an interference with<br>trade and commerce, which could be regulated alone<br>by the general government."
          ],
          [
           "It was in vain advanced that at least the State<br>had concurrent jurisdiction in matters of taxation<br>relative to its own internal affairs, of which<br>this was one (the same proposition as was advanced<br>by the Attorney-General in this case) in which it<br>had a supreme and autonomous right to legislate."
          ],
          [
           "And the grounds of this decision were that the<br>federal constitution had vested in the general<br>government the power to regulate commerce in all<br>its branches (as with us in the Dominion); and<br>this power extends to every species of commercial<br>intercourse, and may be exercised upon persons as<br>well as property (Mr. Justice Field, whose<br>arguments have been reproduced by the Attorney-<br>General before me in this case, dissenting)."
          ],
          [
           "That commerce cannot be carried on without the<br>agency of persons, and the tax, the effect of<br>which is to diminish personal intercourse, is a<br>tax on commerce."
          ],
          [
           "If the power to impose such a tax is acknowledged,<br>it being a sovereign power, no limitation can be<br>affixed to its exercise, and it may be so used as<br>not only to diminish but destroy commerce."
          ],
          [
           "The power asserted in the Act in question (the<br>California Act) is the right of the State to<br>prescribe the terms upon which the Chinese shall<br>be permitted to reside in it, and be so used as to<br>cut off all intercourse between them and the<br>people of the State, and defeat the commercial<br>policy of the nation."
          ],
          [
           "That the Act could not be maintained as a police<br>regulation; that a branch of the police power had<br>been surrendered to the Federal Government as a<br>part of the power to regulate commerce, and its<br>exercise by a State was incompatible with the<br>authority of the Government."
          ],
          [
           "That the Chinese might be taxed as other<br>residents, but could not be set apart as special<br>objects of the taxation, and be compelled to<br>contribute to the revenue of the State in the<br>character of foreigners."
          ],
          [
           "The reports of the higher California courts are of<br>great authority for us on all Chinese questions,<br>for there have been efforts for years past to<br>restrict Chinese immigration in California, and<br>the matter has been constantly before the superior<br>courts there, and the judges there (if we may take<br>the reports as correct) are more than ordinarily<br>skilled in laying down the law correctly in<br>constitutional points of that nature."
          ],
          [
           "Indeed, there is no other country which has such<br>experience generally in constitutional law as<br>applicable to a federation of states."
          ],
          [
           "Of course, in all the observations I make I<br>recognize the now well-known distinction between<br>the relations of a State of the Union to the<br>Federal Government, and our relation as a Province<br>to the Dominion."
          ],
          [
           "Still both Federal Governments have reserved to<br>themselves the regulation of trade and commerce<br>and naturalization and aliens; so the analogy is<br>so close as to become almost a direct authority."
          ],
          [
           "In the *Lin Sin* judgment, p. 579, the learned<br>judge says of the power of taxing foreigners, as<br>in the present *qua* foreigners: “If the power<br>exist it may be exercised upon all foreigners<br>residing in the State, and may be so exercised as<br>to bar the door of foreign commerce as effectually<br>as the Government could do by issuing its<br>man-“date and closing its ports.\""
          ],
          [
           "And again \"to determine whether there is a<br>conflict or not, i.e., of jurisdictions, the power<br>must be considered with reference to its<br>consequences, for its effect when carried out is<br>the only criterion by which a judgment can be<br>formed.\""
          ],
          [
           "In another place he says:—\"It would be an empty<br>sound to say that the several States cannot pass<br>any law to prevent foreigners from coming here if<br>they may pass laws which will compel such<br>foreigners to depart as soon as they arrive.\""
          ],
          [
           "And again, \"A tax imposed by the law on these<br>persons for the mere right to reside here, is an<br>appropriate and effective means to discourage the<br>immigration of the Chinese into the State.\""
          ],
          [
           "During the argument on the case before me, the<br>Attorney-General claims that this was direct<br>taxation, and a direct tax within the Province, to<br>raise revenue for Provincial purposes, and,<br>therefore *intra vires*; but the question is not<br>one of name but of fact."
          ],
          [
           "Does it interfere with trade or commerce?"
          ],
          [
           "Can it be legally imposed on foreigners as<br>foreigners, for even a legal tax in other respects<br>becomes illegal when it goes beyond its proper<br>limits, and interferes with powers exclusively<br>given to the Dominion for the benefit of all?"
          ],
          [
           "In another California case, *In re Tiburcio<br>Parrott*, it is laid down that if the apparent<br>object of a statute is under a pretense of the<br>exercise of constitutional powers to drive Chinese<br>away, the end sought to be obtained being<br>unlawful, the statute is void."
          ],
          [
           "* it is decided that the true nature and character<br>of legislation must be determined in order to<br>ascertain its legality."
          ],
          [
           "In *Citizens Insurance Co. v. Parsons*, we have to<br>look at the legislation for the same purpose."
          ],
          [
           "If the legislation here be to drive people from<br>the country, have the local legislature the power?"
          ],
          [
           "Legislation as to aliens is reserved to the<br>Dominion."
          ],
          [
           "And as to trade and commerce, if the Chinese be<br>driven out an annual loss to the revenue, it<br>appears by the tables in the Chinese Commission<br>Report, of $110,000 will take place; and more than<br>$1,500,000 of property and business be lost to us,<br>besides an injury to trade to an incalculable<br>extent."
          ],
          [
           "The amount of business transacted by Chinamen in<br>British Columbia, as revealed by the tables in<br>that Chinese Report, is something which a casual<br>observer would have no idea of."
          ],
          [
           "The treaties between Great Britain and China,<br>which bind us, have been quoted."
          ],
          [
           "The treaty of 25th August, 1842, *Hertslet*, Vol."
          ],
          [
           "6, ratified 26th June, 1843, p. 221, and Lord<br>Elgin's treaty of October, 1860, authenticated<br>copies of which were produced in Court, secure to<br>Chinese coming into British dominions the same<br>\"full security for persons and property as<br>subjects of Her Majesty.\""
          ],
          [
           "8, referring to our obligations to foreigners,<br>observes:— \"As soon as the lord of the territory<br>admits strangers into it he engages \"to protect<br>them as his own subjects, and to afford them<br>perfect security as far as depends on him.\""
          ],
          [
           "v. Russell* are important authorities in guiding<br>our enquiry as to the nature and effect of local<br>legislation in determining whether and how far the<br>Act under review exceeds the limits within which<br>the local legislature is supreme."
          ],
          [
           "And as to the equality of taxation, besides<br>*Cooley*, who has been quoted freely on both<br>sides, in *Kent's Commentaries* (8th Ed."
          ],
          [
           "), 2nd Vol., 388, it is insisted—\"That every<br>person is entitled to be protected in the<br>enjoyment of his property, not only from invasions<br>of it by individuals, but from all unequal and<br>undue assessments on the part of the Government."
          ],
          [
           "It is not sufficient that no tax or imposition can<br>be imposed upon the citizens, but by their<br>representatives in the legislature the citizens<br>are entitled to require that the legislature<br>itself shall cause all public taxation to be fair<br>and equal in proportion to the value of 'property\"<br>(and that is what *Cooley* means by apportionment<br>of taxation), \"so that no class of individuals,<br>and no species of property shall be unduly<br>assessed.\""
          ],
          [
           "The treaties I have quoted between Great Britain<br>and China, binding on the Dominion and on us in<br>British Columbia, secure to the Chinese, just as<br>the treaties between Great Britain and other<br>foreign countries secure to other foreigners, the<br>same rights in regard to the equality of taxation<br>which I have described as being enjoyed by<br>citizens of this country."
          ],
          [
           "These treaties have the force of international<br>law, and are continued most strongly against the<br>party for whose benefit they are introduced."
          ],
          [
           "In the case of the Chinese treaties, they were<br>forced at the point of the bayonet on China, to<br>obtain a right for us to enter China, and in<br>return for a similar permission to us, full<br>permission was given for the Chinese to trade and<br>reside in British dominions everywhere."
          ],
          [
           "In the treaties of 1858 and 1860, made at the<br>solicitation of Great Britain, the Emperor of<br>China was induced to give permission to his<br>subjects to go and trade and reside \"in British<br>Colonies,\" and to enter into \"engagements with<br>British subjects for that purpose.\""
          ],
          [
           "These obligations are binding here and in other<br>parts of the Dominion under section 132 of the<br>British North America Act, and no Province, or the<br>Dominion itself, can lawfully pass laws<br>interfering with that right without a previous<br>revision of the treaties by the high contracting<br>parties to them for that purpose."
          ],
          [
           "Treaties with foreign nations are above all<br>ordinary municipal law, for obvious international<br>reasons, for without such a provision there can be<br>no permanent security, which is the life of all<br>commercial intercourse."
          ],
          [
           "The same provisions that apply to Chinese may be<br>made to apply also to Americans, Frenchmen,<br>Germans, or any other foreigners."
          ],
          [
           "Such treaties are the especial care of the<br>Dominion, and where local legislation clashes with<br>that especial province of the Dominion, the<br>legislation of the Province must give way, as laid<br>down in Leprohon v. the City of Ottawa, 40 Q.B.,<br>Ont., 478; Reg."
          ],
          [
           "v. Chandler, Hannay's New Brunswick Reports, 548;<br>Dow v. Black, L.R."
          ],
          [
           "272; L'Union St. Jacques v. Belisle, L.R."
          ],
          [
           "31, and numerous other Canadian authorities,<br>besides the British North America Act itself."
          ],
          [
           "Now applying the principles and tests I have<br>described to the Act before us, what do we find?"
          ],
          [
           "The Act is found associated with another Act now<br>disallowed, the express object of which is to<br>prevent the Chinese altogether from coming to this<br>country, and the principle \"noscitur a sociis\" is<br>kept up by the preamble of the present Act, which<br>describes the Chinese in terms which, I venture to<br>think, have never before in any other country<br>found a place in an Act of Parliament."
          ],
          [
           "In the definition of the persons affected by the<br>Act no distinction is made of ambassadors,<br>merchants, consuls, artists, professors or<br>travellers, or sex, whether under disability or<br>not, or at such a distance from a collector as to<br>make it difficult or impossible to obtain a<br>license."
          ],
          [
           "Every person of Chinese origin, whether<br>naturalized in Hong Kong or America, or any other<br>State with which we are at amity, so long as they<br>are of Chinese origin, 14 years of age—every one<br>without distinction—must take out a license."
          ],
          [
           "For the purpose of argument I have treated the<br>license fee as a tax; but it is in fact a<br>license—a license to remain in British Columbia<br>unmolested for a year."
          ],
          [
           "When the legislature wanted to create a tax, they<br>knew what words to use for the purpose, for in the<br>sister Act passed on the same day, which was<br>disallowed, they called the impost there enacted a<br>\"tax,\" not a license."
          ],
          [
           "However difficult or impossible for any Chinese to<br>find a district collector, if such Chinese is<br>\"found without a license he is liable to a fine of<br>$40.\""
          ],
          [
           "At every turn he is confronted with an exceptional<br>duty, and an exceptional penalty, and the loss of<br>his goods and chattels, and of personal liberty."
          ],
          [
           "It is impossible but that such an imposition so<br>enforced, in addition to all the general taxes to<br>which he is subject, should make this country too<br>hot for him to live in; and just in proportion as<br>he is so persecuted out of the country, in that<br>degree does this enactment interfere with trade<br>and commerce and that control over aliens<br>exclusively given to the Dominion."
          ],
          [
           "And not only is he thus attacked, but unheard of<br>provisions are introduced."
          ],
          [
           "Every employé of Chinese labour, whether English,<br>American, or what not, is made liable to severe<br>and incessant liability of a penal kind, for what?"
          ],
          [
           "Some act, a default of his own?"
          ],
          [
           "No; an act or default of a stranger, a man whose<br>language he knows not, and for every infraction of<br>the Act by the Chinese under his employ."
          ],
          [
           "The palpable object of such a provision, or set of<br>provisions, is to render the employment of Chinese<br>so distasteful and annoying to the employer that<br>he must cease to employ them."
          ],
          [
           "Now, to pass a law providing that employment shall<br>not be given to a special class of men, except it<br>be productive of so much danger, annoyance, and<br>loss to the employer, is just another way of<br>saying that no intercourse shall be had with that<br>class."
          ],
          [
           "With penalties and prosecutions always before you,<br>far in excess of any advantage to be derived from<br>that intercourse or trade, what is that but<br>equivalent to saying that such intercourse or<br>trade or labour must cease altogether."
          ],
          [
           "What is that but interfering with aliens, trade,<br>and commerce?"
          ],
          [
           "If a man employ a Chinaman who should happen to be<br>delinquent in his tax, and he happens to occupy a<br>cottage or room of his employer, with his master's<br>goods in it, under section 10 they are liable to<br>seizure and sale."
          ],
          [
           "In every prosecution under the Act the legal<br>presumption of innocence until conviction is<br>reversed; in every case the onus probandi, though<br>in a Statute highly penal, is shifted from the<br>informant on to the shoulders of the accused, and<br>he a foreigner not knowing one word of the law, or<br>even the language of the accuser."
          ],
          [
           "In other words, every Chinese is guilty until<br>proved innocent—a provision which fills one<br>conversant with subjects with alarm; for if such a<br>law can be tolerated as against Chinese, the<br>precedent is set, and in time of any popular<br>outcry can easily be acted on for putting any<br>other foreigners or even special classes among<br>ourselves, as coloured people, or French,<br>Italians, Americans, or Germans, under equally the<br>same law."
          ],
          [
           "That certainly is interfering with aliens."
          ],
          [
           "The proposition that it is a Provincial tax for<br>revenue purposes, supposing it to be so intended<br>under the provisions of the Act, is so manifestly<br>calculated to defeat that object, by diminishing<br>the numbers of the members of the persons to be<br>affected by it, that it is difficult to regard it<br>in that light, or in any other light than an<br>indirect mode of getting rid of persons whom it<br>affects out of the country."
          ],
          [
           "The whole Act teems with special provisions which<br>affect not only Chinese, but their employers, with<br>obligations and liabilities as to the conduct of<br>the Chinese in their employ, that no reasonable<br>man would encounter, and run the risk of the penal<br>consequences which the Act hangs over him."
          ],
          [
           "For instance, by section 19 any pecuniary penalty<br>imposed may be summarily recovered (and applies to<br>employers), and in default of immediate payment<br>the same may be recovered by distress of the goods<br>and chattels of the offender, and in default of<br>sufficient distress by a liability to imprisonment<br>for three calendar months, and the employers would<br>necessarily be white men."
          ],
          [
           "In fact, the Act so bristles with these arbitrary,<br>exceptional and penal consequences, that it is<br>invidious to single out particular ones for<br>comment."
          ],
          [
           "It is enough to add that \"any person,\" no matter<br>whether white or Chinese, imprisoned in respect of<br>any infraction of the provisions of the Act, may<br>be at the will of the executive, subjected even to<br>hard labour."
          ],
          [
           "The Act is so full of provisions that interfere<br>directly with aliens, with trade, and with<br>commerce, that I have no hesitation in pronouncing<br>all such provisions, and among them those under<br>which the appellant in this case has been<br>convicted, to be ultra vires the local<br>legislature, and consequently illegal and void."
          ],
          [
           "So far, I have dealt with the Act on its own<br>merits; but if we consider it in juxtaposition to<br>the Dominion Act recently passed restricting the<br>Chinese throughout all Canada, its illegality<br>becomes transparent; for in passing that Act<br>against the Chinese the Dominion has spoken by the<br>highest authority which it possesses—its own<br>Parliament."
          ],
          [
           "By the Constitutional Act the subject of aliens,<br>we have seen, is specially reserved to the<br>Dominion, and it is now an axiom, in the<br>interpretation of that Act, that when that<br>authority deals with a subject expressly included<br>in its jurisdiction by the 91st section, it has<br>possession of that subject exclusively, and the<br>Province has to give way."
          ],
          [
           "It is a great assumption of power on the part of a<br>Province to pass laws, the effect of which must be<br>practically to expel a particular class of aliens<br>from that Province, to say in effect that it will<br>by its legislation impede or prevent that class<br>from being employed in another Province—say the<br>North-west Territory or Manitoba—where railway<br>works may be languishing for want of that very<br>class of labourers, British Columbia being the<br>only sea-board of Canada on the Pacific through<br>which (in face of the restrictive laws of the<br>United States) that class of labourers can enter<br>and pass through; that is, in fact, legislating on<br>all inter-provincial immigration; in other words,<br>such legislation is ultra vires, and so I<br>pronounce it; and adjudge accordingly, and quash<br>the conviction, with costs."
          ],
          [
           "CREASE, J.    WONG HOY WOON v. DUNCAN."
          ],
          [
           "Health regulations—Victoria Health By-Law, 1893,<br>Secs."
          ],
          [
           "32, 35—\"Infected locality\"—Proof of—\"Exposed to<br>infection.\""
          ],
          [
           "Action of trespass against the Medical Health<br>Officer of the City of Victoria for causing the<br>plaintiff, one of a number of Chinamen, who landed<br>at Victoria in a steamer last from Hong Kong in<br>China, to be removed to the \"Suspect Station\" and<br>there detained and subjected to cleansing process<br>under colour of Sec."
          ],
          [
           "35 of the Municipal Health By-Law, 1893, giving<br>him, as Medical Health Officer, power \"To stop,<br>detain and examine every person or persons,<br>freight, cargoes, railway and tramway cars coming<br>from a place infected with a malignant or<br>infectious disease,\" in order to prevent the<br>introduction of such into Victoria."
          ],
          [
           "The plaintiff had been passed by the Dominion<br>Government Quarantine Officer as entitled to land<br>at Victoria."
          ],
          [
           "The white passengers from Hong Kong on the same<br>steamer were not interfered with."
          ],
          [
           "The only evidence of Hong Kong being a place<br>infected, etc., was that of a medical man resident<br>in Victoria, who said \"That in China small pox was<br>endemic, because there inoculation was the<br>universal practice."
          ],
          [
           "That there was danger of infection from white<br>passengers, but not the same danger as from<br>Chinamen.\""
          ],
          [
           "There was no direct evidence of the existence of<br>small pox to a dangerous extent in Hong Kong at<br>the time of the departure thence of the steamer,<br>or that it was \"a place infected,\" etc., or that<br>the plaintiff had been \"exposed to infection.\""
          ],
          [
           "Held, That the facts were insufficient to justify<br>the action of the Health Officer under the by-law."
          ],
          [
           "Remarks on the duties of Health Officers."
          ],
          [
           "Statement ACTION, claiming damages, for trespass."
          ],
          [
           "The facts fully appear from the head note and from<br>the judgment."
          ],
          [
           "H. Dallas Helmcken, for the plaintiff."
          ],
          [
           "W. J. Taylor, for the defendant."
          ],
          [
           "CREASE, J.: This was a test action to try whether<br>Chinamen have the same rights as other foreigners<br>in landing here on their advent from China."
          ],
          [
           "The occasion was the arrival of the Empress of<br>China at the Outer Wharf, which is within the city<br>limits of Victoria, on the 1st day of May, 1894,<br>from China and Hongkong."
          ],
          [
           "The action is one nominally rather than really,<br>for damages against Dr. George Duncan, the Health<br>Officer of the City of Victoria, on account of an<br>alleged excess of duty in despatching en masse,<br>without examination or enquiry, a number of<br>Chinamen out to the suspect station at Ross Bay,<br>there to be disinfected and scrubbed."
          ],
          [
           "No white passenger from the same port (Hongkong,<br>the last port touched at) having been treated in a<br>similar manner or apparently even questioned or<br>detained."
          ],
          [
           "The Chinamen had already been examined on board<br>the ship by the Dominion Quarantine Officers and<br>Provincial officers and passed."
          ],
          [
           "Hoy Woon had also paid the $50 required by the<br>Government as his entry fee into British Columbia,<br>and was in possession of the proper receipt."
          ],
          [
           "Dr. Duncan then appears on the scene, and finds<br>these men already passed and landed clear of ship,<br>Dominion Judgment customs and entrance."
          ],
          [
           "Disregarding the white men, who had come at the<br>same time from the same place and in the same ship<br>and presumably subject to some of the same<br>unsanitary influences, though not to the same<br>extent as the Chinese, without any reason for<br>special suspicion, without inspecting or<br>attempting to inspect a single man, (that had<br>already been done individually by the Dominion<br>Quarantine Officers) he orders them into the<br>custody of his constables to be taken out to the<br>suspect station at Ross Bay, there to be washed<br>and disinfected and scrubbed."
          ],
          [
           "They, with their goods and chattels, were bundled<br>into a common truck like so many cattle."
          ],
          [
           "The plaintiff and other Chinamen similarly<br>situated obtained a writ of Habeas Corpus, upon<br>which they were discharged from this custody."
          ],
          [
           "Thereupon the present action was brought to test<br>if and how far Chinamen are to be treated, when<br>they land on our shores, differently from other<br>foreigners."
          ],
          [
           "The grounds alleged by the Health Officer for this<br>arbitrary treatment is “that China is an infected<br>locality,” and all persons coming from China and<br>especially in this instance Hongkong, and<br>especially also the natives of China, come from an<br>infected locality, and that he has that authority<br>under the Health By-Law, 1893, which was passed at<br>the time of the small pox panic in Victoria, and,<br>in all he did, was simply doing his duty."
          ],
          [
           "Section 32 of that by-law (published in the B.C."
          ],
          [
           "Gazette of April 20, 1893) directs a strict<br>examination to be made of any vessel and persons<br>coming from “an infected locality,” before any<br>person, luggage or freight or other thing is<br>allowed to be landed from it."
          ],
          [
           "Section 35 of the Health By-Law of 1893 gives the<br>Medical Health Officer power to stop, detain and<br>examine every person or persons, freight, cargoes,<br>railway and tramway cars coming from a place<br>“infected with a malignant Judgment."
          ],
          [
           "pestilential or infectious disease,” in order to<br>prevent the introduction of the same into<br>Victoria."
          ],
          [
           "The case was tried before a jury upon the issue<br>whether Hongkong, the last port the steamer left<br>in China, was or not “an infected locality.” To<br>prove that Hongkong was such, Dr. Davie was placed<br>in the witness box as an expert."
          ],
          [
           "He considered “China the home of small pox,” and<br>that it was “an infected place”; that, in China,<br>small pox was “endemic,” i.e., always there;<br>because there “inoculation” was the universal<br>practice and was a constant source of danger; that<br>in England and Europe and America, generally,<br>vaccination, of late years, has been the rule."
          ],
          [
           "That was a preventative, and persons from such<br>places were naturally not so much the object of<br>suspicion or inspection to a health officer."
          ],
          [
           "He thought that too close a scrutiny could not be<br>made of Chinese passengers."
          ],
          [
           "That small pox must have been in China on the 19th<br>April last, the date when the Empress left<br>Hongkong, as it was always there."
          ],
          [
           "He had no opinion to express as to the British<br>possession of Hongkong; but it was a portion of<br>China, where small pox was always, in a sense,<br>\"endemic.\""
          ],
          [
           "There was danger of infection from white<br>passengers, but not the same danger as from<br>Chinamen."
          ],
          [
           "It was his opinion that every one should be<br>examined who comes from China or from any<br>\"infected port.\""
          ],
          [
           "They should be examined on the ship."
          ],
          [
           "When asked the question, \"Would you allow Chinamen<br>to land and go into the city?\""
          ],
          [
           "the Doctor replied, \"The whole of the baggage<br>should be disinfected, on the steamer if<br>possible—if not, on the Outer Wharf."
          ],
          [
           "If I could not do anything else I would take them<br>out to the suspect station."
          ],
          [
           "I would, if I could,\" he continued, \"examine every<br>passenger from there at the Outer Wharf."
          ],
          [
           "To do this it requires certain facilities which<br>are wanting at the Outer Wharf.\""
          ],
          [
           "The duty of the Health Officer, as Dr. Davie<br>understood it, was to interview the ship's<br>officers and ascertain the sanitary state of the<br>ship during the voyage; to inspect the whole of<br>the men, inspect every individual, before he left<br>the vessel."
          ],
          [
           "He was of Judgment opinion that the whole of those<br>landed should be disinfected."
          ],
          [
           "The Chinese are chiefly dressed in woollen<br>materials and these harbour infection for weeks<br>and months."
          ],
          [
           "The period of incubation of small pox was from<br>twelve to fifteen days."
          ],
          [
           "Cases of small pox were found in all large seaport<br>towns, as for instance Liverpool; but these were<br>not \"endemic.\""
          ],
          [
           "If the vessel left Honkong, it was quite possible<br>some cases might develop during the passage."
          ],
          [
           "If they were not examined on the steamer there<br>were no facilities for doing so on the wharf."
          ],
          [
           "There were several other diseases to be guarded<br>against from China, e.g., cholera, leprosy, etc."
          ],
          [
           "(Here I observe that from first to last no mention<br>was made of the black plague, which has carried<br>off so many thousands of Chinese in Hongkong; and<br>it appeared that during the passage from China to<br>Victoria, which presumably lasted over the<br>ordinary period of inoculation, no case of small<br>pox appeared on board the Empress, and that she<br>showed a clean bill of health.)"
          ],
          [
           "Upon the question whether or not Hongkong, at the<br>time the steamer left on April 19, 1894, was or<br>not \"an infected port,\" in the sense of Sec."
          ],
          [
           "35, a place \"infected by a malignant, pestilential<br>or infectious disease,\" and they were so charged."
          ],
          [
           "The jury returned the following verdict:—<br>\"According to the evidence we find that on 1st<br>May, 1894, Hongkong was an infected port."
          ],
          [
           "We speak according to the evidence of Dr. Davie,<br>that the port of Hongkong was and is an infected<br>port.\""
          ],
          [
           "Now this assumes, as Dr. Davie assumed, that<br>Hongkong, although a British port and subject to<br>quarantine regulations, was (which includes the<br>time of the steamer's departure) and is a cradle<br>of small pox, and that every ship coming thence to<br>Victoria, especially with Chinese on board, should<br>be subject to the most searching examination, and<br>the drastic treatment I have described."
          ],
          [
           "He does not include Japanese in the same category<br>as Chinese."
          ],
          [
           "It was apparent throughout the Judgment."
          ],
          [
           "Doctor's evidence that he regarded the whole<br>subject exclusively from a medical point of view,<br>which is by no means identical with the legal<br>construction which must prevail."
          ],
          [
           "The law, while it imposes on the Medical Health<br>Officer the duty and arms him with abundant<br>authority to deal imperatively almost in every<br>case, at the same time insists that he shall<br>discharge that duty with judgment and discretion,<br>and not overrun the mark."
          ],
          [
           "In this case, to say the least, he has not<br>discharged his duty discreetly, but, on the<br>contrary, has exceeded it."
          ],
          [
           "The whole gist of the by-law is to guard the case<br>of persons \"infected or exposed to infection,\"<br>words which have a definite legal meaning, which<br>applies to persons who have been brought into<br>actual contact with or within the baleful<br>influence of an infectious or contagious disease,<br>as travelling in the same carriage or boat with<br>anyone affected by the disease, and not securely<br>isolated from accidental or other contact, or has<br>recently come from a locality where from an<br>accumulation of cases or other reason the disease<br>has got into the air and become epidemic."
          ],
          [
           "This construction applies to Sections 12, 13, 15,<br>16 and 29 of the by-law by the wording of which<br>this meaning is distinctly brought out."
          ],
          [
           "His duty was, if he considered the Empress of<br>China came from \"an infected locality,\" at once to<br>go on board the suspected vessel and make his<br>examination and inspection on board the vessel (as<br>Section 32 says), \"before any luggage, freight or<br>other thing is landed or allowed to be landed.\""
          ],
          [
           "It goes further and shews that the only person to<br>be \"dealt with in such manner as the Medical<br>Health City Officer shall direct\" is \"any infected<br>or exposed person from on board,\" under none of<br>which categories do the plaintiff or other<br>Chinamen, seized and carted off on this occasion,<br>happen to come."
          ],
          [
           "There was not an atom of actual proof before the<br>jury of Judgment."
          ],
          [
           "the actual existence of a single case of small pox<br>in Hong-kong in April or May or since, beyond a<br>medical opinion that there might be."
          ],
          [
           "Now a medical opinion, however valuable as an<br>opinion, is not the legal proof of a fact."
          ],
          [
           "It would be a painful surprise to the people of<br>Hongkong and its business men, living under<br>British rule, to learn that, on the strength only<br>of the opinion of a learned expert, their place is<br>given out to the world as an infected place, which<br>the by-law interprets to mean a place \"infected<br>with a malignant, pestilential or infectious<br>disease,\" without any actual proof of the fact."
          ],
          [
           "In this case the plaintiff had been already duly<br>and personally examined by Dr. McNaughton Jones,<br>the able and experienced Health Officer, on his<br>arrival, and passed."
          ],
          [
           "He had also been examined and passed by the<br>Customs House officers as a man who had paid all<br>his customs dues and had a certificate to shew the<br>fact, which left him free to come and go as he<br>pleased."
          ],
          [
           "It is not shewn that Dr.Duncan went on board, or<br>that he conferred with the Dominion Health<br>Officers as to whether any further examination of<br>the plaintiff was necessary, or, in the public<br>interest, advisable."
          ],
          [
           "It is shewn that he did not personally examine a<br>single Chinaman or inquire if he was “an infected<br>or exposed person.” In a matter affecting the<br>public health, it is quite natural, and everyone<br>would expect that officers who are armed with<br>extensive sanitary powers, should confer together<br>and assist one another in carrying out the law,<br>and work well together for the public good and<br>safety."
          ],
          [
           "Where that is not done the public are quick to<br>note and comment on the fact."
          ],
          [
           "The by-law is very properly arbitrary in its<br>provisions and the powers it confers in cases of<br>emergency, or even actual suspicion, on the Health<br>Officer and his subordinates and these should be<br>supported wherever practicable and the occasion<br>warrants their employment."
          ],
          [
           "But it should be understood that these exceptional<br>powers are a great trust placed in the hands of<br>the Health Officer to meet such cases as I have<br>described, and at all times to be administered<br>with firmness, judgment and discretion—not under<br>any fear of infection unwarranted by the facts of<br>the case which may enter into the mind of the<br>Health Officer, or to be carried out by carting<br>off en masse to the suspect station all who hail<br>from China or Hongkong without examination or<br>enquiry."
          ],
          [
           "The evidence shews there was nothing like<br>emergency in the present case or anything to<br>warrant the treatment they received."
          ],
          [
           "On a review of the facts I am of opinion that the<br>defendant exceeded his authority and caused the<br>plaintiff great unnecessary loss and annoyance."
          ],
          [
           "I therefore give judgment for plaintiff against<br>the defendant, but, as it is a test case, with<br>only $5 damages and costs to be taxed."
          ]
         ],
         "hovertemplate": "Author=Crease<br>Pro=%{x}<br>Cons=%{y}<br>Text=%{customdata[0]}<extra></extra>",
         "legendgroup": "Crease",
         "marker": {
          "color": "#636efa",
          "size": 5,
          "symbol": "circle"
         },
         "mode": "markers",
         "name": "Crease",
         "orientation": "v",
         "showlegend": true,
         "type": "scatter",
         "x": {
          "bdata": "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",
          "dtype": "f8"
         },
         "xaxis": "x",
         "y": {
          "bdata": "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",
          "dtype": "f8"
         },
         "yaxis": "y"
        },
        {
         "customdata": [
          [
           "92, s.s. 9-Taration-Municipal license fees-Direct<br>or indirect tax-Construction of statute-Words<br>ejusdem generis."
          ],
          [
           "10, extended the powers of municipalities so as to<br>include \" licensing and regulating wash-houses and<br>laundries,\" and Sec."
          ],
          [
           "11 enacts that Municipalities may \" hereafter levy<br>and collect from every person who keeps or carries<br>on a public washhouse or laundry, such sum as<br>shall be fixed on by by-law, not exceeding $75.00<br>for every 6 months.\""
          ],
          [
           "On appeal from a conviction for carrying on a<br>public laundry without a license."
          ],
          [
           "Held, (1) Taxation by means of license fees, and<br>the tax in question, is indirect and not direct<br>taxation."
          ],
          [
           "(2) All indirect taxation, except that authorized<br>by Sec."
          ],
          [
           "Act, providing \"in each province the legislature<br>may exclusively make laws in relation to (9) shop,<br>tavern, saloon, auctioneer and other licenses in<br>order to the raising of a revenue for provincial,<br>local or municipal purposes \" is ultra vires of<br>the Provincial Legislature."
          ],
          [
           "(3) The words \"and other licenses\" only included<br>industries ejusdem generis with those specified,<br>and do not include a wash-house."
          ],
          [
           "(4) The most reasonable rule to adopt to ascertain<br>whether a certain matter or thing is within the<br>meaning of a statute as being ejusdem generis with<br>things specified therein \"and others,\" is to look<br>to the object or mischief aimed at by the statute."
          ],
          [
           "All similar things that come within that object,<br>though not in the abstract ejusdem generis are so<br>for the purposes of the statute."
          ],
          [
           "(5) If it appears that a tax is not bona fide<br>within the purpose provided for, but is imposed<br>with the real purpose of discriminating against a<br>class, it is not within the justification of the<br>enabling statute, and, on the facts, the tax in<br>question was intended not for the purpose of<br>raising a revenue, but as a restriction on the<br>Chinese."
          ],
          [
           "APPEAL from a conviction for carrying on a public<br>laundry without a license and payment of the<br>license fee under a by-law of the Corporation of<br>the City of Victoria based on Sec."
          ],
          [
           "11 of Municipal Amendment Act, 1885."
          ],
          [
           "The facts and arguments of counsel fully appear<br>from the judgment."
          ],
          [
           "A. N. Richards, Q.C., for the appeal."
          ],
          [
           ": This is an appeal from a conviction for carrying<br>on a public laundry without a license and payment<br>of the license fee under a recent by-law."
          ],
          [
           "It was not denied by the appellant that the by-law<br>is authorized by the recent Provincial Act, the<br>only question is whether that Provincial Act, viz<br>."
          ],
          [
           ": clause 11 of the Municipal Amendment Act, 1885,<br>is constitutional within the meaning of the<br>British North America Act."
          ],
          [
           "Section 10 of the Provincial Act extends the<br>powers of the Corporation so as expressly to<br>include \"licensing and regulating wash-houses and<br>laundries,\" and Section 11, referring to the<br>existing expressed powers of Corporations to issue<br>other licenses and collect fees or taxes in<br>respect thereof, expressly adds this, that they<br>may hereafter levy and collect \" from every person<br>who keeps or carries on a public wash-house or<br>laundry such sum as shall be fixed by by-law not<br>exceeding $75.00 for every 6 months.\""
          ],
          [
           "Act upon which alone this Section of the<br>Provincial Act is based is Section 92. \""
          ],
          [
           "In each province the Legislature may exclusively<br>make laws in relation to * * * (sub-section 9)<br>shop, saloon, tavern, auctioneer and other<br>licenses in order to the raising of a revenue for<br>Provincial, local or Municipal purposes."
          ],
          [
           "\"Generally all matters of a merely local or<br>private nature in the Province \" does not, I<br>think, apply to taxation."
          ],
          [
           "The only other sub-section which confers on the<br>Provincial Legislature any power to tax is sub-<br>section 2 which deals with direct taxation within<br>the Province in order \" to the raising of a<br>revenue for Provincial purposes.\""
          ],
          [
           "But neither can this sub-section have any<br>application here."
          ],
          [
           "It deals only with direct taxes and this taxation<br>by means of license fee is indirect, not direct<br>taxation."
          ],
          [
           "It deals only with taxation within, i.e."
          ],
          [
           "generally, throughout the ProvBEGBIE, C.J."
          ],
          [
           "ince, and these laundry license fees are only to<br>be levied  within Municipalities, and may vary in<br>different parts of 1886."
          ],
          [
           "It only authorizes taxes for Provincial revenue<br>and these license fees are to fall into the<br>MuniciREGINA 0."
          ],
          [
           "The consideration of sub-section 2, therefore,<br>merely emphasizes the proposition (according to<br>the Attorney-General of Quebec v. The Queen<br>Assurance Company, 3 L.R."
          ],
          [
           "1090) that all indirect taxation for Municipal<br>purposes except what is authorized by sub-section<br>9 is illegal."
          ],
          [
           "The first objection taken by Mr. Richards (viz.)"
          ],
          [
           "that the clause is unconstitutional merely and<br>broadly because it imposes an indirect tax seems<br>to be too general."
          ],
          [
           "Such taxation will be valid enough, if the<br>enactment comes fairly within the meaning of sub-<br>section 9, nor can the next objection be fatal<br>(viz.)"
          ],
          [
           "the objection merely and broadly that it is in<br>restraint of trade."
          ],
          [
           "Whether washing be a trade or a mere industry will<br>presently be considered."
          ],
          [
           "tionably all taxation on buying and selling, all<br>interference with labour, may and perhaps must to<br>some extent restrain trade, yet some instances of<br>taxation of trades, and some regulations of<br>labour, are undoubtedly within the power of the<br>Provincial Legislature."
          ],
          [
           "consequent by-law, do not absolutely restrain,<br>i.e."
          ],
          [
           "The laundryman may remove beyond the city limits<br>and quite evade the tax."
          ],
          [
           "Setting aside therefore these broad objections to<br>the tax, as too general, the questions are two,<br>(viz.)"
          ],
          [
           "Does this license come within the words \"shop,<br>saloon, tavern, auctioneer and other license?\""
          ],
          [
           "Is the tax imposed in order to raise a Municipal<br>revenue, or is it imposed for any other purpose ?"
          ],
          [
           "for restriction or suppression, total or partial."
          ],
          [
           "The answer to the first question depends on the<br>force of the words \"other licenses.\""
          ],
          [
           "Whether that means other licenses on matters of<br>the same kind as the four enumerated, according to<br>the general rule of construction, or whether it<br>means licenses for the doing or permitting any<br>other thing whatever."
          ],
          [
           "It is said by a learned text writer, Sir P.<br>Maxwell on Statutes, p. 303, that the rule<br>restraining the generality of the word \" other \"<br>to matters ejusdem generis only applies where the<br>things actually named are themselves all of the<br>same nature; but that where the things named are<br>of different natures then the phrase \" other<br>things or articles\" will extend to all objects,<br>though quite different from those named."
          ],
          [
           "Citing for this among other cases Regina v. Payne<br>1 C.C.R."
          ],
          [
           "There a statute made it penal to convey to a<br>prisoner, in order to facilitate his escape, \" any<br>mask, disguise, letter or other article or thing;\"<br>and it was held that a crowbar was within the Act."
          ],
          [
           "So in Young v. Grattridge, 4 L.R.Q.B."
          ],
          [
           "166, a Health Act empowered a medical officer to<br>enter and inspect \" any slaughter-house, shop,<br>building, market or other place \" and it was held<br>that a butcher's yard which contained slaughtered<br>cattle was within the Statute, Regina v.<br>Edmundson, 2 E. & E. 77, is to a similar effect."
          ],
          [
           "But these decisions do not for their support<br>apparently require the principle enunciated by<br>Maxwell, nor was any such principle alluded to in<br>any of them."
          ],
          [
           "And though his statement deserves great respect<br>being cited approvingly by a very learned Judge in<br>Severn's case, yet it was not followed by the<br>other four Judges, nor does it appear to be<br>founded on any other judicial dictum."
          ],
          [
           "And indeed it is submitted that such a<br>construction of the doctrine of ejusdem generis is<br>in some sense self-destructive."
          ],
          [
           "If the two or more things actually named are<br>identical as \" air, atmosphere, or other gas;\" \"<br>dagger, poniard or other weapon,\" then the word \"<br>other \" is to be confined to other gases strictly<br>of the same nature, it does not extend the phrase<br>at all and if the two things named are not<br>identical as \" oil, vinegar or other fluids,\" the<br>word \" other \" would extend to all other fluids<br>whatever."
          ],
          [
           "The doctrine of ejusdem generis which has occupied<br>many Courts and many BEGBIE, C.J."
          ],
          [
           "judgments and which therefore does really exist,<br>would run  the risk of being annihilated."
          ],
          [
           "REGINA MEE WAH would seem to be to look at the<br>object or the mischief aimed at by the Statute or<br>other instrument; all matters that come within<br>that are ejusdem generis so far as the Statute is<br>concerned."
          ],
          [
           "Thus in Gayne's case, a crow bar and a letter and<br>a mask are no doubt extremely different in<br>texture, weight and appearance."
          ],
          [
           "No painter or chemist would call them ejusdem<br>generis; but they are all strictly ejusdem generis<br>so far as that they are instruments calculated to<br>facilitate a prisoner's escape."
          ],
          [
           "So in Young's case, a butcher's yard is strictly<br>ejusdem generis with his shop and his slaughter<br>house so far as regards the mischief of preparing<br>unwholesome food."
          ],
          [
           "But a watchmaker's or a tailor's shop would not be<br>ejusdem generis with a butcher's shop, though all<br>are called shops; and meat in a tailor's shop<br>would probably not have been liable to be seized<br>under Statute in that instance."
          ],
          [
           "If there were no matters or occupations having any<br>analogy or attribute (except taxability) common to<br>these four named instances in sub-section 9, the<br>inference would be very strong that \" other<br>licenses \" extended to every possible matter."
          ],
          [
           "But as was pointed out by Mr. Justice WILSON in<br>Regina v. Taylor, 36 U.C.Q.B."
          ],
          [
           "183, cited and approved in Severn v. Reginam,<br>there are many analogous matters."
          ],
          [
           "Restaurants and lodging houses bear no distant<br>resemblance to taverns; coffee shops to saloons<br>(though these again are utterly distinct from a<br>teetotaler's point of view) and there are coupled<br>together in the Insolvency Act, Canada, 1875, Sec."
          ],
          [
           "1, brokers and commission agents to auctioneers,<br>etc."
          ],
          [
           "There are two classes of Statutes in which words<br>are always strictly construed in favour of the<br>party charged, even at the suit of the Crown;<br>Statutes which create offences and Statutes which<br>impose taxation."
          ],
          [
           "The present Municipal Amendment Act, 1885,<br>partakes of both natures, and the ordinary rule<br>must I think be observed, viz., the subjects of<br>the \"other licenses \" mentioned in sub-section 9<br>must have at least somewhat besides taxability<br>(from which quality no Act or thing is exempt) in<br>common with \"shops, taverns, saloons or<br>auctioneers.\""
          ],
          [
           "Again suppose some other licenses, well known<br>elsewhere, taxes as in England on man-servants, on<br>hair powder, on armourial bearings-would these be<br>authorized by subsection 9?"
          ],
          [
           "Indeed if no restriction whatever be placed on the<br>word \" other\" in that section; if the Provincial<br>Legislature can insist upon imposing licenses upon<br>everything and upon every act of life, and tax<br>each licensee at any moment they please, there<br>would be a very simple way of excluding every<br>Chinaman from the Province, by imposing a<br>universal tax, not limited to any nationality, of<br>one or two thousand dollars per annum for a<br>license to Judgment."
          ],
          [
           "wear long hair on the back of the head: or to<br>exclude Russians by a license to wear a beard, or<br>Jews by a license to eat unleavened bread."
          ],
          [
           "No Chinaman will shave the back of his head; no<br>true moujik will shave his chin."
          ],
          [
           "There might be a tax on a license to register<br>lands above a certain value; and we might have a<br>graduated property tax."
          ],
          [
           "The opinion, therefore, of the majority of the<br>Judges in Severn's case, seems more probable."
          ],
          [
           "There must I think be some limitation placed on<br>the licensing power by the word \" other.\""
          ],
          [
           "Mr. Yates argued from even that point of view<br>these laundries were taxable, for that the laundry<br>men though they were very certainly not keeping<br>shops, were very analogus to auctioneers."
          ],
          [
           "I rather think that the auctioneers would<br>repudiate this alleged similarity of their<br>occupation to that of a Chinese washerman."
          ],
          [
           "An auctioneer has very extensive authority and<br>important duties; he prepares advertisements and<br>surveys, disposes property in lots, advises as to<br>prices, and generally is the agent of both parties<br>to the contract of sale."
          ],
          [
           "There is nothing of all BEGBIE."
          ],
          [
           "this in a laundry; and I feel strongly inclined to<br>think that  laundries are not taxable under this<br>sub-section at all, bearing no analogy to either<br>\"shops, saloons, taverns or auctioneers.\""
          ],
          [
           "But without deciding on this ground there is a<br>still more serious obstacle against supporting<br>this clause 11 of the Provincial Act of 1885, as<br>being within Section 92, subseetion 9."
          ],
          [
           "The taxation by way of license authorized by that<br>sub-section 9 is to be \"in order to the raising a<br>revenue for Provincial, local or Municipal<br>purposes.\""
          ],
          [
           "Now, licences may have for their object the<br>raising of a revenue, or the regulation of a trade<br>or occupation, or they may be imposed for the<br>purpose of repression or suppression."
          ],
          [
           "And whatever power the Provincial Legislature may<br>possess for regulation or repression; taxation for<br>these two latter purposes is not authorized by the<br>B.N.A."
          ],
          [
           "Act, but only taxation for the purpose of revenue."
          ],
          [
           "And it is roundly alleged by the appellant that<br>this tax is imposed, not with the object of<br>raising a revenue for the City, but with the<br>object of harassing Chinamen, supposed to be the<br>only persons carrying on this industry."
          ],
          [
           "In considering this objection, we must distinguish<br>between the real objects and the actual results of<br>legislation."
          ],
          [
           "It is true the real object is very often, perhaps<br>in most cases, shown by the result."
          ],
          [
           "But an Act which has bona fide only one object,<br>may indirectly work out an entirely collateral<br>result."
          ],
          [
           "An Act intended purely for a revenue, or<br>regulation may greatly harass some particular<br>individuals or classes of individuals; e.g."
          ],
          [
           "But the harassing of brewers is not the object of<br>the Excise Acts."
          ],
          [
           "So on the other hand an Act intended purely for<br>harassing of some one or more individuals may<br>incidentally bring money into the City treasury."
          ],
          [
           "That incidental result will not validate the<br>Statute, if the real object be unlawful."
          ],
          [
           "The objection to apply at all, must depend on the<br>object, declared or dissembled, and not merely on<br>the result or one  of the results of the<br>provisions of the Act."
          ],
          [
           "If the object of the Provincial Statute be as<br>alleged, viz., Feb. 3.  to subject Chinamen to<br>exceptional disadvantages it is clearly<br>unconstitutional."
          ],
          [
           "That point has been so held in this Court by Mr.<br>Justice GRAY in Tai Lung's case, reported appx."
          ],
          [
           "G. to the report of the recent Chinese Conmission,<br>p. 379, and by Mr. Justice CREASE in Wing Chong's<br>case, 1 B.C.R."
          ],
          [
           "II, 150, both these learned Judges fortifying<br>their opinions by numerous decisions and arguments<br>of Judges in the United States' Courts."
          ],
          [
           "Those decisions are not binding on us here; and<br>indeed are partly founded on the Constitution of<br>the United States and its relation to the several<br>States, which in many respects differ from the<br>Constitution and the relation between the Dominion<br>and the Provinces."
          ],
          [
           "But the Judges in those foreign Courts have had a<br>much longer and more varied experience on these<br>topics than ourselves; their institutions are<br>closely analogous in many Judgment."
          ],
          [
           "respects, though, it is true, contrasted in others<br>to our own."
          ],
          [
           "And their opinions and reasonings being also<br>founded on international law, and, I take the<br>liberty of saying, on natural equity and common<br>sense, they are entitled to great weight beyond<br>the limits of their own jurisdiction."
          ],
          [
           "I shall only mention Lee Sing v. Washburn, 20 Cal."
          ],
          [
           "Rep. 354; Baker v. Portland, 5 Law 750; Teburcio<br>Parrott's case, coram SAWYER and HOFFMAN, J.J.,<br>1880, and the Quene ordinance case, coram FIELD<br>and SAWYER, J.J., 1879; the two latter cases<br>published in a separate pamphlet form, in which<br>the opinions of Mr."
          ],
          [
           "Justices FIELD, HOFFMAN, SAWYER and DEADY and<br>other Judges whom they cite, all confirm this,<br>that a State, or Provincial law imposing special<br>disabilities or unequal burdens on Chinamen is<br>unconstitutional and void."
          ],
          [
           "In British Columbia such a law if it impose a tax<br>labours under the additional infirmity that a<br>licence tax for any other purpose with any other<br>object, than merely raising a revenue, is beyond<br>the power of the Provincial Legislature to impose."
          ],
          [
           "Mr. Yates, for the Corporation, urged that this<br>Statute is  very different from the Statutes<br>condemned by Mr. Justice 1886."
          ],
          [
           "CREASE in Wing Chong's case and by Mr. GRAY in Tai<br>Lung's case; those."
          ],
          [
           "Statutes were by their title and preamble<br>expressly aimed at Chinamen by name; that this<br>distinction also renders inapplicable all the<br>United States' cases cited; that this enactment is<br>quite general extending to all laundries without<br>exception and we must not look beyond the words of<br>the enactment to enquire what its object was; that<br>there is in fact one laundry in Victoria not<br>conducted by Chinamen on which the tax will fall<br>with equal force so that it is impossible to say<br>that Chinamen are hereby exclusively selected for<br>taxation; the circumstance that they are chiefly<br>affected being a mere coincidence; that the bylaw<br>only imposes $100.00 per annum, keeping far within<br>the limit of $150.00 permitted by the Statute;<br>that the tax clearly is calculated to procuring<br>additional Municipal revenue and that no other<br>object is hinted at."
          ],
          [
           "Now it is true that this Statute does not, like<br>those dealt with by Mr. Justice GRAY and Mr.<br>Justice."
          ],
          [
           "very title bind illegality upon its forehead; nor<br>is there here any preamble like that in Wing<br>Chong's case which Mr. Justice CREASE treats as \"<br>without example,\" but which may well deserve the<br>stern reproof uttered by Mr. Justice FIELD upon a<br>somewhat similar enactment in California. \""
          ],
          [
           "It is not creditable to the humanity and<br>civilization of our people, much less to their<br>Christianity, that an ordinance of this character<br>was possible.\""
          ],
          [
           "The recent statute has nothing of that sort."
          ],
          [
           "But it is very justly insisted upon by every Judge<br>that the object of a statute is after all to be<br>determined by the effect of its operative part."
          ],
          [
           "The title and preamble may be very objectionable,<br>but if the operative sections are within the power<br>of the Legislature they shall stand."
          ],
          [
           "On the other hand, the preamble may breathe the<br>spirit of the purest and most  universal<br>philanthropy, and the most submissive legality ;<br>1886. but that will not save any clauses which are<br>otherwise Feb. 3. unconstitutional."
          ],
          [
           "And in determining the quality of any  clauses,<br>the same Mr. Justice FIELD remarks : \" When we<br>take our seats on the Bench, we are not struck<br>with blindness and forbidden to know as Judges<br>what we see as men ; and when an ordinance, though<br>general in its terms, only operates upon a special<br>race, sect or class, it being universally<br>understood that it is to be enforced only against<br>that race, sect or class, we may justly conclude<br>that it was the intention of the body adopting it<br>that it should only have such operation, and treat<br>it accordingly.\""
          ],
          [
           "Now can anybody in the Province, on or off the<br>Bench, conscientiously say that this ordinance<br>does not come within the principle thus enunciated<br>?"
          ],
          [
           "I, for my part, cannot arrive at any other<br>conclusion than that it is specially directed<br>against Chinamen because they are Chinamen and for<br>no other Judgment."
          ],
          [
           "reason ; to compel them to remove certain<br>industries from the city or themselves from the<br>Province."
          ],
          [
           "But the authorities already cited show that this<br>effect cannot be attained directly, and what<br>cannot be done directly will not be permitted to<br>be done by a side wind."
          ],
          [
           "1634; Cummings v. Missouri, 4 Wall 325. \""
          ],
          [
           "If we hold otherwise,\" said the learned Judge, in<br>that case \"no kind of oppression can be named<br>against which the framers of (the B.N.A."
          ],
          [
           "Act) intended to guard which may not be effected.\""
          ],
          [
           "The appellants' contention that the clause is<br>merely intended to hamper or expel Chinamen is<br>much strengthened by considering the amount of the<br>tax sanctioned, which is $150.00 per annum,<br>whereas the limit sanctioned by the Legislature in<br>the case of any retail shop, however extensive or<br>lucrative its business, is only $10.00 per annum."
          ],
          [
           "In other words, this menial and poorly paid<br>occupation may be taxed fifteen times the annual<br>amount which the statute permits to be imposed on<br>the most extensive grocery or dry goods store."
          ],
          [
           "It is impossible for me to believe that the<br>BEGBIE, C.J, sole object or the main object of<br>such an imposition is to aid the revenue of the<br>Corporation."
          ],
          [
           "The test is whether on the whole statute the<br>Legislature can fairly be held to have said : \"Let<br>us impose a tax in order to raise a revenue,<br>though perhaps it may fall on Chinamen,\" or \" let<br>us impose this tax in order to fall on Chinamen,<br>though perhaps it will raise no revenue.\""
          ],
          [
           "When we find (1st) no other description of labour<br>taxed at all ; (2nd) this description of labour<br>practically quite abandoned to Chinamen alone ;<br>(3rd) this description of labour taxed at fifteen<br>times the rate permitted to be levied on any<br>retail shop ; (4th) that a preliminary Provincial<br>Act has declared Chinamen incapable of the<br>franchise which they formerly exercised."
          ],
          [
           "I cannot doubt but that the tax is directed<br>against Chinamen, as such."
          ],
          [
           "But the enormously disproportioned rate of<br>taxation has another consequence."
          ],
          [
           "It shows that revenue was not the sole object of<br>the tax ; probably not the object at all."
          ],
          [
           "If the promoters of this clause had been really<br>casting about for Judgment."
          ],
          [
           "additional revenue, they must have seen that shops<br>are a great deal more numerous than laundries and<br>generally more remunerative."
          ],
          [
           "It requires very little financial ability to<br>perceive that a a small addition of $5.00 or<br>$10.00 on shops would enrich the city far more<br>than $150.00 per annum on every laundry, even if<br>this last amount could be collected."
          ],
          [
           "But here the magnitude of the tax would entirely<br>defeat the professed object and support the view<br>that the concealed object was the true one."
          ],
          [
           "The occupation of a washerman is very poorly paid<br>; probably at a lower rate than any other trade or<br>occupation, since in former years men of all<br>nationalities busied themselves with this, which<br>they have wholly abandoned, presumably for more<br>lucrative employment ; whereas the number of<br>shops, &c., has very much increased."
          ],
          [
           "It must have been apparent on the commonest<br>reflection that this, the most poorly paid<br>occupation, cannot endure fifteen times the tax<br>imposed on the most lucrative; that such a 1886.<br>tax would probably extinguish every laundry in<br>Victoria ; Feb. 3. and so that no additional<br>revenue would be produced at all."
          ],
          [
           "I cannot imagine that any person reading the<br>clause would be blind to this; and I am compelled<br>to think that restriction and not revenue was the<br>very object of the tax."
          ],
          [
           "But it is clear that the Provincial Legistature<br>has under the B.N.A."
          ],
          [
           "Act no power to impose or authorize a tax for the<br>purpose of driving any industry out of the city or<br>the Province."
          ],
          [
           "Clanse 11 in the Act of 1883 seems, therefore,<br>quite ultra vires and unconstitutional; and the<br>by-law, which I have taken to be admitted as<br>otherwise accurate, stands upon that clause alone<br>and must fall with it."
          ],
          [
           "In fact, if the bylaw only imposes a moderate and<br>reasonable amount, say $5.00 or $10.00 per annum,<br>it would probably be equally a nullity."
          ],
          [
           "Even a reasonable and useful by-law cannot stand<br>Judgment."
          ],
          [
           "if authorized only by an unconstitutional statute."
          ],
          [
           "The general conclusions arrived at are these: (1.)"
          ],
          [
           "It seems probable that laundries are not taxable<br>within Subsection 9 of Section 92 B.N.A."
          ],
          [
           "Any clause in a Provincial Statute or Municipal<br>By-Law, which, though general in its terms,<br>operates, or is intended to operate only upon one<br>sect, race or class, is liable to be declared<br>unconstitutional and void."
          ],
          [
           "The object of a statute is to be ascertained not<br>only from its title or preamble, but mainly from<br>its enactments."
          ],
          [
           "That a by-law, even if founded upon a valid<br>statute must be reasonable, i.e., not necessarily<br>equal but proportionate, and not such as to defeat<br>the object of the law."
          ],
          [
           "This is all in conformity with the previous<br>decisions of Mr. Justice CREASE in Wing Chong's<br>Case and Mr. Justice GRAY in Tai Lung's Case,<br>which are approved and followed."
          ],
          [
           "In this case I am moreover of opinion (5th) that<br>the Provincial Legislature has no power to impose<br>or authorize any    license tax except for the<br>bona fide object of raising revenue by the produce<br>of the tax ; and that this Clause 11 was not<br>enacted bona fide for that sole purpose or even<br>mainly for 1886. that purpose, and is therefore<br>unconstitutional and void."
          ],
          [
           "The conviction will, therefore, be set aside with<br>costs."
          ],
          [
           "REGINA r, CORPORATION OF VICTORIA,    AT THE<br>PROSECUTION OF MOCK FEE AND ANOTHER."
          ],
          [
           "Trade licenses Porrer of Legislature or<br>Municipality to deny to certain nationalities or<br>individual-Right of Chance to apply for<br>parabroker's license."
          ],
          [
           "It is not competent to the Provincial Legislature,<br>or to a municipality, to deprive, generally,<br>particular nationalities or individuals of the<br>capacity to take out municipal trade licenses ; e.<br>g., a Chinaman has a right to apply for a<br>pawnbroker's license."
          ],
          [
           "Application for a mandamus to the Corporation of<br>the City of Victoria to compel the renewal to the<br>prosecutors (Chinamen) of a pawnbroker's license."
          ],
          [
           "Fell for the application ; Taylor for the<br>Corporation."
          ],
          [
           "SIR M. B. BEGBIE, C. J. :-    This is an<br>application for a mandamus to the Corporation of<br>the City of Victoria, ordering them to issue a<br>renewal of a pawnbroker's license to the<br>prosecutors."
          ],
          [
           "The reason alleged by the Corporation for their<br>refusal is that they have passed a resolution<br>stating that in their opinion the prosecutors are<br>not fit persons to be the recipients of such a<br>license."
          ],
          [
           "It is alleged by the prosecution, and not denied,<br>that the Council have in fact ordered the<br>Collector to issue no pawnbroking license to any<br>Chinaman."
          ],
          [
           "And the proposition was broadly advanced before me<br>that the Provincial Legislature have the right to<br>eliminate nationalities or individuals from the<br>capacity to receive these trade licenses : and<br>that they have, in conformity with Regina v.<br>Hodge, delegated to the Council authority to<br>exercise that right."
          ],
          [
           "The first of these contentions has already been<br>before this Court, and has, I think, been entirely<br>denied by several Judges now on the bench."
          ],
          [
           "In the first place by Mr. Justice Gray, in Tai<br>Sing v. Macguire (1 B.C.R."
          ],
          [
           "101, 1878): by Mr. Justice Crease in Wing Fong's<br>case (1 B.C.R."
          ],
          [
           "150, 1885); and by myself in Mee Wall's case (not<br>reported)."
          ],
          [
           "These decisions have never been appealed, and I do<br>not feel at liberty to disregard them."
          ],
          [
           "I must, therefore, assume that no such authority<br>exists in the Provincial Legislature, and<br>therefore it is impossible that they could have<br>delegated it, or conferred it on the Council."
          ],
          [
           "Evidently, if such a power existed, then, since no<br>man may in any municipality pursue any avocation<br>without such license, the Local Legislature might<br>exclude large classes of men from gaining a<br>livelihood, or indeed existing in the Province-a<br>very wide interference with \"trade and commerce,\"<br>which is totally removed from their control by the<br>B. N. A."
          ],
          [
           "It may be useful, however, to examine briefly the<br>grounds on which the Council have been advised<br>that they have a discretion in the matter."
          ],
          [
           "This was, in the argument before me, entirely<br>based on the permissive form adopted in the<br>Statute (\"Municipal Act, 1887,\" c. 16, s. 104). \""
          ],
          [
           "The municipality shall have power to issue<br>licenses \" for the trades and professions<br>enumerated, including pawnbrokers (sub-s. 10),<br>\"and to levy and collect by means of such licenses<br>the amounts\" therein specified."
          ],
          [
           "And stress was laid on the word \" license,\" as<br>intimating a permission ; without which antecedent<br>license or permission the proposing trader could<br>not lawfully commence business (ss."
          ],
          [
           "But these words do not imply any discretion, i.<br>e., authority to grant or refuse."
          ],
          [
           "Prima facie, every person living under the<br>protection of British law has a right at once to<br>exercise his industry and ability in any trade or<br>calling he may select."
          ],
          [
           "The only instances in which some antecedent<br>certificate of fitness or qualification is<br>required are, I think, liquor dealers, medical<br>men, and barristers and solicitors."
          ],
          [
           "These also have to take out annual licenses under<br>the Municipality Act."
          ],
          [
           "But special tribunals are appointed to judge<br>antecedently of their fitness."
          ],
          [
           "And, I think, it is quite unheard of that the<br>Council should arbitrarily assume to refuse a<br>license to any of these classes, or to volunteer<br>any statement of their opinion of the fitness or<br>unfitness of a doctor or solicitor."
          ],
          [
           "If the Council is to have an absolute discretion<br>to refuse a license to any person applying, on the<br>ground of what they choose to allege as unfitness,<br>then half a dozen tradesmen may secure themselves<br>an entire monopoly of their respective trades<br>throughout the municipality, by simply voting that<br>in their opinion each proposing competitor is an<br>unfit person."
          ],
          [
           "But if the least attention be bestowed on the<br>Statute, it will be seen that the Legislature has<br>given no discretion to the Council."
          ],
          [
           "The Statute does not even say they may \"grant \"<br>licenses ; but only that they may issue them."
          ],
          [
           "The industrial classes are told, \" You may not<br>carry on your trade in the municipality without a<br>license; if you ask where to get a license, we<br>have authorized the municipality to issue it on<br>payment to them of the annual amount fixed by by-<br>law.\""
          ],
          [
           "Now, enabling words are always compulsory when<br>they are words to effectuate a legal right (Julius<br>v. Bp."
          ],
          [
           "And it is of course unnecessary to prove-I should,<br>but for this class of cases, have supposed that it<br>was unnecessary even to state-the undoubted right,<br>which is the boast of English law, that every<br>person living under it has a right to his<br>industry, and to the fruits of it."
          ],
          [
           "And when we look to the form of the license in the<br>schedule to the Act we see that it is not issued<br>by the corporation at all (which could only be<br>done under seal), and that it amounts to nothing<br>more than the collector's receipt for the license<br>money, and a certificate that so far as that is<br>concerned (and that is all that concerns the<br>corporation) the holder may exercise the calling<br>therein specified."
          ],
          [
           "It was alleged that the occupation of a pawnbroker<br>affords peculiar facilities for the concealment of<br>stolen goods and the escape of criminals, and that<br>it is particularly essential that care should be<br>exercised    in the selection of persons to carry<br>it on."
          ],
          [
           "It is, however, for the Legislature to speak on<br>such a subject, and it has spoken."
          ],
          [
           "There are special laws relating to pawnbrokers."
          ],
          [
           "The business, it is true, is not, to most persons,<br>attractive."
          ],
          [
           "A pawnbroker deals always with the needy,<br>occasionally with the criminal classes: he must<br>generally be hard, and always usurious."
          ],
          [
           "But he has always been considered a necessary<br>evil."
          ],
          [
           "There has never, so far as I know, been placed any<br>limit on their number, any more than on the number<br>of bakers or butchers."
          ],
          [
           "It has been deemed sufficient to make special laws<br>in respect to them and their books, and the<br>supervision of the police."
          ],
          [
           "But so, also, are there many special laws for the<br>inspection of butchers' shops under the Health<br>Acts, and of grocers, and bakers, and milk<br>dealers, and in fact of all traders, under the<br>Weights and Measures Acts and the Adulteration<br>Acts; and a reference to the London Police Courts<br>will show that many classes of tradesmen far<br>surpass the pawnbrokers in the number and<br>importance of the charges against them before the<br>stipendiary magistrates."
          ],
          [
           "In fact, the pawnbroker assists the detection of<br>criminals perhaps as often as he defeats it, and<br>is a most useful ally of the police."
          ],
          [
           "It is not uninteresting to note the uniformity<br>with which the same events result from the same<br>principles, although in very different parts of<br>the world."
          ],
          [
           "Victoria does not possess a monopoly of race<br>jealousy."
          ],
          [
           "In the French colony of Cayenne, the Town Council<br>recently handicapped the superior capacities of<br>the Chinaman by imposing on merchants of that<br>empire an extra tax of $300 per annum, deeming it<br>also expedient to handicap English and German<br>traders by a surtax of $200 on them."
          ],
          [
           "But on an appeal to the Courts at Paris, all these<br>impositions were declared null on the very same<br>principles as those on which the Courts here<br>insisted when they decided the cases above<br>referred to, viz., as being infringements at once<br>of personal liberty, and of the equality of all<br>men before the law, and also negation of<br>international rights."
          ],
          [
           "The prosecutors are entitled to their writ, and as<br>the law on the subject has been quite clearly laid<br>down ten years ago by Mr. Justice Gray, and again<br>and again by other Judges, the defendants must pay<br>all costs."
          ]
         ],
         "hovertemplate": "Author=Begbie<br>Pro=%{x}<br>Cons=%{y}<br>Text=%{customdata[0]}<extra></extra>",
         "legendgroup": "Begbie",
         "marker": {
          "color": "#EF553B",
          "size": 5,
          "symbol": "circle"
         },
         "mode": "markers",
         "name": "Begbie",
         "orientation": "v",
         "showlegend": true,
         "type": "scatter",
         "x": {
          "bdata": "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",
          "dtype": "f8"
         },
         "xaxis": "x",
         "y": {
          "bdata": "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",
          "dtype": "f8"
         },
         "yaxis": "y"
        },
        {
         "customdata": [
          [
           "An Act to regulate the Chinese population of<br>British Columbia."
          ],
          [
           "WHEREAS the incoming of Chinese to British<br>Columbia largely exceeds that of any other class<br>of immigrant, and the population so introduced are<br>fast becoming superior in number to our own race;<br>are not disposed to be governed by our laws; are<br>dissimilar in habits and occupation from our<br>people; evade the payment of taxes justly due to<br>the Government; are governed by pestilential<br>habits; are useless in instances of emergency;<br>habitually desecrate grave yards by the removal of<br>bodies therefrom; and generally the laws governing<br>the whites are found to be inapplicable to<br>Chinese, and such Chinese are inclined to habits<br>subversive of the comfort and well-being of the<br>community:    And whereas it is expedient to pass<br>special laws for the Government of Chinese:<br>Therefore, Her Majesty, by and with the advice and<br>consent of the Legislative Assembly of the<br>Province of British Columbia, enacts as follows:—<br>1."
          ],
          [
           "This Act shall be cited as the \"Chinese Regulation<br>Act, 1884.\""
          ],
          [
           "The term \"Chinese\" wherever used in this Act shall<br>mean any native of the Chinese Empire or its<br>dependencies not born of British parents, and<br>shall include any person of the Chinese race."
          ],
          [
           "From and after the passage of this Act there shall<br>be payable and paid by every Chinese in British<br>Columbia, above the age of fourteen years, unto<br>and for the use of Her Majesty, Her heirs and<br>successors, the sum of ten dollars, and thereafter<br>on the 1st day of June in each and every year<br>there shall be likewise payable and paid by such<br>Chinese person a further sum of ten dollars."
          ],
          [
           "The Lieutenant-Governor in Council shall<br>immediately upon the passage of this Act, and from<br>time to time thereafter as occasion may require,<br>appoint in each electoral district, one or more<br>person or persons to be called Chinese Collectors,<br>to collect and receive such payments from Chinese,<br>and such Collector or Collectors immediately upon<br>such payment shall issue and deliver to the person<br>paying the same a licence in the form contained in<br>the Schedule hereto, and the Lieutenant-Governor<br>in Council may require from the Collectors so to<br>be appointed such security as he may see fit and<br>may allow them such percentage upon the amount of<br>collections as may seem reasonable and just, and<br>the Lieutenant-Governor in Council may further<br>allow such additional sum by way of expenses as<br>may be necessary and reasonable for the purpose of<br>carrying out the provisions of this Act."
          ],
          [
           "Any Chinese who shall be found within the Province<br>not having in his possession a licence issued<br>under the provisions of this Act, lawfully issued<br>to him, shall on conviction thereof forfeit and<br>pay a sum not exceeding forty dollars."
          ],
          [
           "Any Collector or Government servant wilfully<br>disobeying any of the provisions of this Act shall<br>forfeit and pay a sum not exceeding one hundred<br>dollars."
          ],
          [
           "Every Collector shall collect the tax from each<br>Chinese, and shall as soon afterwards as may be<br>pay over the amount to the Officer in charge of<br>the Treasury, or to such other person as the<br>Lieutenant-Governor in Council may from time to<br>time direct."
          ],
          [
           "Every employer of Chinese shall furnish to the<br>Collector, when requested by him so to do, from<br>time to time, a list of all Chinese in his employ,<br>or indirectly employed by him; but no such<br>statement shall bind the Collector, nor shall<br>excuse him from making due enquiry to ascertain<br>its correctness."
          ],
          [
           "In case any employer of Chinese fails to deliver<br>to the Collector the list mentioned in the<br>preceding section, when required so to do, or<br>knowingly states anything falsely therein, such<br>employer shall, on complaint of the Collector and<br>upon conviction before a Justice of the Peace<br>having jurisdiction within the district wherein<br>such employer carries on his business, forfeit and<br>pay a fine not exceeding one hundred dollars for<br>every Chinese in his employ, to be recovered by<br>distress of the goods and chattels of such<br>employer failing to pay the same, or in lieu<br>thereof shall be liable to imprisonment for a<br>period not less than one month and not exceeding<br>two calendar months."
          ],
          [
           "The Collector may, by himself or his agent, levy<br>the amount of the licence from any Chinese not<br>being in lawful possession of a licence, with<br>costs, by distress of his goods and chattels, or<br>of any goods and chattels which may be in the<br>possession of the delinquent, or which may be upon<br>or in any premises (whether the goods of the<br>delinquent or not) for the time being in the<br>possession or occupation of such delinquent<br>Chinese, and for the purposes of this section<br>premises shall be deemed to be in the possession<br>or occupation of any Chinese when it can be shewn<br>to the satisfaction of the tribunal having<br>cognizance of the matter—    (a.)"
          ],
          [
           "That such Chinese habitually frequents such<br>premises with the assent of the owner."
          ],
          [
           "That he is the owner or one of the owners of the<br>premises, or has control either alone or jointly<br>with another or others of such premises or some<br>part thereof."
          ],
          [
           "(c.) That he has passed the night or slept upon<br>such premises at any time within a week of the<br>levy."
          ],
          [
           "It shall be sufficient authority for the Collector<br>to levy as aforesaid on the non-production of the<br>licence."
          ],
          [
           "Proof of the lawful possession of such receipt<br>shall lie on the person whose goods are<br>distrained."
          ],
          [
           "Every employer of Chinese shall demand from every<br>such Licence to be demanded by employer and<br>retained during the service."
          ],
          [
           "Chinese in his employ his licence, and shall<br>retain the same in his possession during the time<br>such Chinese is in his employ, and shall return<br>the same to him when he leaves his service; and<br>every employer as aforesaid shall produce to the<br>Collector, whenever required so to do, such<br>licence for his inspection."
          ],
          [
           "The Toll Collector at any and every toll gate<br>which may exist in the Province from time to time,<br>shall, before allowing any Chinese to pass through<br>any toll gate, demand from such Chinese the<br>production of his licence, and, until the same is<br>produced, such Chinese shall not be allowed to<br>proceed through the toll gate."
          ],
          [
           "It shall be unlawful for any person to employ any<br>Chinese who has not in his possession the licence<br>required by this Act, and any person guilty of an<br>infraction of the provisions of this section shall<br>forfeit and pay a fine not exceeding fifty dollars<br>for every Chinese so employed."
          ],
          [
           "The sum payable by a Chinese for a free miner’s<br>certificate shall be fifteen dollars for each year<br>during which the same is to be in force instead of<br>five dollars, as by the present mining laws<br>provided, and no free miner’s certificate shall<br>hereafter be issued to any Chinese except upon<br>payment of the said sum of fifteen dollars."
          ],
          [
           "Any Chinese who shall be found mining for gold and<br>precious metals, or following the ordinary<br>occupation of a free miner, whether on his own<br>account or for others, without having in his<br>possession a free miner’s certificate, lawfully<br>issued to him subsequently to the passage of this<br>Act, and any person who shall employ any Chinese<br>in and about gold mining who has not in his<br>possession such a certificate, shall forfeit and<br>pay a sum not exceeding thirty dollars."
          ],
          [
           "of the Schedule A to the “Licences Ordinance,<br>1867,” is hereby amended by adding thereto the<br>following words: “but no licence shall be issued<br>to any Chinese.”    17."
          ],
          [
           "Without the permission in writing of the<br>Provincial Secretary or Government Agent of the<br>district or place where the permission is sought<br>it shall be unlawful to remove the remains of any<br>dead Chinese from any cemetery or place where such<br>dead Chinese may have been interred, or to exhume<br>the bodies or remains of any dead Chinese, and any<br>person guilty of an infraction of this section<br>shall forfeit and pay a sum not exceeding one<br>hundred dollars."
          ],
          [
           "The use of opium (except for medicinal or surgical<br>purposes) is hereby prohibited, and any person who<br>shall use or consume, or have in his possession<br>any opium, except for the purposes aforesaid,<br>shall forfeit and pay a penalty not exceeding one<br>hundred dollars, and the onus of proof shall lie<br>upon the party charged of showing that such opium<br>was used, or consumed, or in his possession for<br>medicinal or surgical purposes."
          ],
          [
           "Any pecuniary penalty by this Act imposed may be<br>sued for and recovered in a summary way before any<br>Justice of the Peace having jurisdiction in the<br>locality where the charge is made, and in default<br>of immediate payment of any such penalty the same<br>may be recovered by distress and sale of the goods<br>of the offender, and failing sufficient distress,<br>the offender shall suffer a term of imprisonment<br>not exceeding three calendar months."
          ],
          [
           "No conviction for any offence shall be quashed for<br>want of form, and no conviction shall be removed<br>into any of Her Majesty’s Courts by certiorari or<br>reviewed in any manner, except by appeal in manner<br>hereinafter stated, that is to say: Any Chinese<br>convicted of an offence against the provisions of<br>this Act may appeal to the County Court nearest to<br>the place of conviction, provided he shall, within<br>four days after such conviction, have given notice<br>in writing to the convicting Magistrate of his<br>intention to appeal, and shall have furnished<br>security in the sum of one hundred dollars,<br>conditioned to abide by the decision of the<br>appellate Court, and shall have also deposited<br>with the convicting Magistrate a sum of money<br>sufficient in the opinion of such Magistrate to<br>pay the costs and expenses of a jury to try such<br>appeal, and such appeal shall be heard and tried<br>before the County Court, with or without a jury of<br>five, at the option of the parties, and<br>notwithstanding any defect in the proceedings, the<br>appeal shall be heard and decided on the merits,<br>and if the conviction be affirmed the appellant<br>shall be punished according to the conviction, and<br>shall pay the costs of the appeal, and if the<br>appeal be allowed, it shall be lawful for the<br>Lieutenant-Governor in Council to issue his<br>warrant to the Treasurer for the repayment to the<br>appellant of the money paid by him for jury<br>process."
          ],
          [
           "Any Chinese who shall lend his licence or free<br>miner’s certificate to another Chinese, and any<br>Chinese who shall utter or pass off upon any<br>Collector or other person any licence or free<br>miner’s certificate other than his own, with<br>intent himself to avoid payment of the licence fee<br>payable under this Act, (and the onus of proving<br>that such was not his intent, shall rest upon the<br>person charged), shall forfeit and pay a penalty<br>of not less than twenty dollars nor more than one<br>hundred dollars."
          ],
          [
           "The tribunal having cognizance of any matter under<br>the provisions of this Act may decide, upon its<br>own view and judgment, whether any person is a<br>Chinese, and whether any person found by the Court<br>to be a Chinese be of the age of fourteen years."
          ],
          [
           "It shall not be lawful to let or occupy, or suffer<br>to be occupied as a dwelling, any room unless the<br>following requirements are complied with, that is<br>to say:—    (a.)"
          ],
          [
           "Unless such room contains at all times at least<br>384 cubic feet of space for each person occupying<br>the same:    (b.)"
          ],
          [
           "Unless such room has a window, made to open, at<br>least two feet square."
          ],
          [
           "Any person who lets, occupies, or knowingly<br>suffers to be occupied, any room contrary to the<br>provisions of section 23, shall be liable for<br>every offence to a penalty not exceeding fifty<br>dollars."
          ],
          [
           "Any room in which any person passes the night<br>shall be deemed to be occupied as a dwelling<br>within the meaning of this Act."
          ],
          [
           "The Lieutenant-Governor in Council may, by any<br>general regulation, direct that any persons<br>imprisoned in respect of any infraction against<br>the provisions of this Act shall be worked and<br>employed at such places and on such public works,<br>or local works for the public benefit or<br>convenience, and may make such rules and<br>regulations, and may alter or annul the same, for<br>the safe custody, control, and general management<br>of such prisoners, as the said Lieutenant-Governor<br>may from time to time deem advisable."
          ],
          [
           "The Lieutenant-Governor in Council may also make<br>such rules and regulations, not inconsistent<br>herewith, as may from time to time appear<br>necessary for carrying out the true intent and<br>meaning of this Act."
          ],
          [
           "For the purpose of any proceeding taken under the<br>provisions of this Act, the burden shall lie on<br>the defendant of proving that he is exempt from<br>the operation of any of its provisions, and it<br>shall not be necessary in any information,<br>summons, or conviction, or other document, to<br>state or negative any exception in or exemption<br>under this Act or in contemplation of law."
          ],
          [
           "This Act shall not come into operation until one<br>year from the passage hereof."
          ],
          [
           "This Act may be cited as the \"Chinese Regulation<br>Act, 1884.\""
          ]
         ],
         "hovertemplate": "Author=Act 1884<br>Pro=%{x}<br>Cons=%{y}<br>Text=%{customdata[0]}<extra></extra>",
         "legendgroup": "Act 1884",
         "marker": {
          "color": "#00cc96",
          "size": 5,
          "symbol": "circle"
         },
         "mode": "markers",
         "name": "Act 1884",
         "orientation": "v",
         "showlegend": true,
         "type": "scatter",
         "x": {
          "bdata": "AAAAIM2rxD8AAACgi622PwAAAEBP1NI/AAAA4FHB0j8AAAAguMTUPwAAAIAjTNc/AAAAwAZCyT8AAADAFY/dPwAAAACp+MQ/AAAAIKjK1T8AAADAhy3GPwAAAGAQ0co/AAAAoL5RwT8AAACAH+7XPwAAAIAfa9U/AAAAwE7H0T8AAADAC73YPwAAACD5rNc/AAAAQNIZ2D8AAACANMXRPwAAAMBwuc4/AAAAIEdH0D8AAAAgcZPTPwAAAMDEd7k/AAAAwN9F0j8AAAAg3XXQPwAAAABKAtY/AAAA4Mn02D8AAADAwefVPwAAAECZndQ/AAAAwAjN0z8AAACg2mnSPwAAACCEsdI/AAAAQMtR0z8AAACgohDXPwAAAMD5/s8/AAAAQGP33D8AAADgWV3TPwAAAEC38Nk/AAAAwJe3zj8=",
          "dtype": "f8"
         },
         "xaxis": "x",
         "y": {
          "bdata": "AAAAQEjU5T8AAAAgpBLqPwAAAEByzeM/AAAAIFz72D8AAADAv1jjPwAAAKAkl+E/AAAAQHKF5j8AAAAAXT3VPwAAAGDovOc/AAAAIHEs3D8AAAAAt+3nPwAAAABiwuU/AAAAgORY3D8AAACAvEjUPwAAAIBfXdU/AAAA4JZl4T8AAAAA68XaPwAAAIBprN8/AAAAYMsU4D8AAAAgpTnkPwAAAMC/GuY/AAAAYFcy5T8AAAAASgPjPwAAAGBzuOU/AAAAAItL4j8AAADgHlbfPwAAAIC83No/AAAAIHZG3z8AAADAzN7gPwAAAGBDVeE/AAAA4K1q2T8AAAAAWVnOPwAAAOBfxts/AAAAIKzs2z8AAABAEIHcPwAAAEBJwuI/AAAAoBHV0z8AAABgczzfPwAAAOApPto/AAAAIP2g5T8=",
          "dtype": "f8"
         },
         "yaxis": "y"
        }
       ],
       "layout": {
        "height": 600,
        "legend": {
         "title": {
          "text": "Author"
         },
         "tracegroupgap": 0
        },
        "template": {
         "data": {
          "bar": [
           {
            "error_x": {
             "color": "#2a3f5f"
            },
            "error_y": {
             "color": "#2a3f5f"
            },
            "marker": {
             "line": {
              "color": "#E5ECF6",
              "width": 0.5
             },
             "pattern": {
              "fillmode": "overlay",
              "size": 10,
              "solidity": 0.2
             }
            },
            "type": "bar"
           }
          ],
          "barpolar": [
           {
            "marker": {
             "line": {
              "color": "#E5ECF6",
              "width": 0.5
             },
             "pattern": {
              "fillmode": "overlay",
              "size": 10,
              "solidity": 0.2
             }
            },
            "type": "barpolar"
           }
          ],
          "carpet": [
           {
            "aaxis": {
             "endlinecolor": "#2a3f5f",
             "gridcolor": "white",
             "linecolor": "white",
             "minorgridcolor": "white",
             "startlinecolor": "#2a3f5f"
            },
            "baxis": {
             "endlinecolor": "#2a3f5f",
             "gridcolor": "white",
             "linecolor": "white",
             "minorgridcolor": "white",
             "startlinecolor": "#2a3f5f"
            },
            "type": "carpet"
           }
          ],
          "choropleth": [
           {
            "colorbar": {
             "outlinewidth": 0,
             "ticks": ""
            },
            "type": "choropleth"
           }
          ],
          "contour": [
           {
            "colorbar": {
             "outlinewidth": 0,
             "ticks": ""
            },
            "colorscale": [
             [
              0,
              "#0d0887"
             ],
             [
              0.1111111111111111,
              "#46039f"
             ],
             [
              0.2222222222222222,
              "#7201a8"
             ],
             [
              0.3333333333333333,
              "#9c179e"
             ],
             [
              0.4444444444444444,
              "#bd3786"
             ],
             [
              0.5555555555555556,
              "#d8576b"
             ],
             [
              0.6666666666666666,
              "#ed7953"
             ],
             [
              0.7777777777777778,
              "#fb9f3a"
             ],
             [
              0.8888888888888888,
              "#fdca26"
             ],
             [
              1,
              "#f0f921"
             ]
            ],
            "type": "contour"
           }
          ],
          "contourcarpet": [
           {
            "colorbar": {
             "outlinewidth": 0,
             "ticks": ""
            },
            "type": "contourcarpet"
           }
          ],
          "heatmap": [
           {
            "colorbar": {
             "outlinewidth": 0,
             "ticks": ""
            },
            "colorscale": [
             [
              0,
              "#0d0887"
             ],
             [
              0.1111111111111111,
              "#46039f"
             ],
             [
              0.2222222222222222,
              "#7201a8"
             ],
             [
              0.3333333333333333,
              "#9c179e"
             ],
             [
              0.4444444444444444,
              "#bd3786"
             ],
             [
              0.5555555555555556,
              "#d8576b"
             ],
             [
              0.6666666666666666,
              "#ed7953"
             ],
             [
              0.7777777777777778,
              "#fb9f3a"
             ],
             [
              0.8888888888888888,
              "#fdca26"
             ],
             [
              1,
              "#f0f921"
             ]
            ],
            "type": "heatmap"
           }
          ],
          "histogram": [
           {
            "marker": {
             "pattern": {
              "fillmode": "overlay",
              "size": 10,
              "solidity": 0.2
             }
            },
            "type": "histogram"
           }
          ],
          "histogram2d": [
           {
            "colorbar": {
             "outlinewidth": 0,
             "ticks": ""
            },
            "colorscale": [
             [
              0,
              "#0d0887"
             ],
             [
              0.1111111111111111,
              "#46039f"
             ],
             [
              0.2222222222222222,
              "#7201a8"
             ],
             [
              0.3333333333333333,
              "#9c179e"
             ],
             [
              0.4444444444444444,
              "#bd3786"
             ],
             [
              0.5555555555555556,
              "#d8576b"
             ],
             [
              0.6666666666666666,
              "#ed7953"
             ],
             [
              0.7777777777777778,
              "#fb9f3a"
             ],
             [
              0.8888888888888888,
              "#fdca26"
             ],
             [
              1,
              "#f0f921"
             ]
            ],
            "type": "histogram2d"
           }
          ],
          "histogram2dcontour": [
           {
            "colorbar": {
             "outlinewidth": 0,
             "ticks": ""
            },
            "colorscale": [
             [
              0,
              "#0d0887"
             ],
             [
              0.1111111111111111,
              "#46039f"
             ],
             [
              0.2222222222222222,
              "#7201a8"
             ],
             [
              0.3333333333333333,
              "#9c179e"
             ],
             [
              0.4444444444444444,
              "#bd3786"
             ],
             [
              0.5555555555555556,
              "#d8576b"
             ],
             [
              0.6666666666666666,
              "#ed7953"
             ],
             [
              0.7777777777777778,
              "#fb9f3a"
             ],
             [
              0.8888888888888888,
              "#fdca26"
             ],
             [
              1,
              "#f0f921"
             ]
            ],
            "type": "histogram2dcontour"
           }
          ],
          "mesh3d": [
           {
            "colorbar": {
             "outlinewidth": 0,
             "ticks": ""
            },
            "type": "mesh3d"
           }
          ],
          "parcoords": [
           {
            "line": {
             "colorbar": {
              "outlinewidth": 0,
              "ticks": ""
             }
            },
            "type": "parcoords"
           }
          ],
          "pie": [
           {
            "automargin": true,
            "type": "pie"
           }
          ],
          "scatter": [
           {
            "fillpattern": {
             "fillmode": "overlay",
             "size": 10,
             "solidity": 0.2
            },
            "type": "scatter"
           }
          ],
          "scatter3d": [
           {
            "line": {
             "colorbar": {
              "outlinewidth": 0,
              "ticks": ""
             }
            },
            "marker": {
             "colorbar": {
              "outlinewidth": 0,
              "ticks": ""
             }
            },
            "type": "scatter3d"
           }
          ],
          "scattercarpet": [
           {
            "marker": {
             "colorbar": {
              "outlinewidth": 0,
              "ticks": ""
             }
            },
            "type": "scattercarpet"
           }
          ],
          "scattergeo": [
           {
            "marker": {
             "colorbar": {
              "outlinewidth": 0,
              "ticks": ""
             }
            },
            "type": "scattergeo"
           }
          ],
          "scattergl": [
           {
            "marker": {
             "colorbar": {
              "outlinewidth": 0,
              "ticks": ""
             }
            },
            "type": "scattergl"
           }
          ],
          "scattermap": [
           {
            "marker": {
             "colorbar": {
              "outlinewidth": 0,
              "ticks": ""
             }
            },
            "type": "scattermap"
           }
          ],
          "scattermapbox": [
           {
            "marker": {
             "colorbar": {
              "outlinewidth": 0,
              "ticks": ""
             }
            },
            "type": "scattermapbox"
           }
          ],
          "scatterpolar": [
           {
            "marker": {
             "colorbar": {
              "outlinewidth": 0,
              "ticks": ""
             }
            },
            "type": "scatterpolar"
           }
          ],
          "scatterpolargl": [
           {
            "marker": {
             "colorbar": {
              "outlinewidth": 0,
              "ticks": ""
             }
            },
            "type": "scatterpolargl"
           }
          ],
          "scatterternary": [
           {
            "marker": {
             "colorbar": {
              "outlinewidth": 0,
              "ticks": ""
             }
            },
            "type": "scatterternary"
           }
          ],
          "surface": [
           {
            "colorbar": {
             "outlinewidth": 0,
             "ticks": ""
            },
            "colorscale": [
             [
              0,
              "#0d0887"
             ],
             [
              0.1111111111111111,
              "#46039f"
             ],
             [
              0.2222222222222222,
              "#7201a8"
             ],
             [
              0.3333333333333333,
              "#9c179e"
             ],
             [
              0.4444444444444444,
              "#bd3786"
             ],
             [
              0.5555555555555556,
              "#d8576b"
             ],
             [
              0.6666666666666666,
              "#ed7953"
             ],
             [
              0.7777777777777778,
              "#fb9f3a"
             ],
             [
              0.8888888888888888,
              "#fdca26"
             ],
             [
              1,
              "#f0f921"
             ]
            ],
            "type": "surface"
           }
          ],
          "table": [
           {
            "cells": {
             "fill": {
              "color": "#EBF0F8"
             },
             "line": {
              "color": "white"
             }
            },
            "header": {
             "fill": {
              "color": "#C8D4E3"
             },
             "line": {
              "color": "white"
             }
            },
            "type": "table"
           }
          ]
         },
         "layout": {
          "annotationdefaults": {
           "arrowcolor": "#2a3f5f",
           "arrowhead": 0,
           "arrowwidth": 1
          },
          "autotypenumbers": "strict",
          "coloraxis": {
           "colorbar": {
            "outlinewidth": 0,
            "ticks": ""
           }
          },
          "colorscale": {
           "diverging": [
            [
             0,
             "#8e0152"
            ],
            [
             0.1,
             "#c51b7d"
            ],
            [
             0.2,
             "#de77ae"
            ],
            [
             0.3,
             "#f1b6da"
            ],
            [
             0.4,
             "#fde0ef"
            ],
            [
             0.5,
             "#f7f7f7"
            ],
            [
             0.6,
             "#e6f5d0"
            ],
            [
             0.7,
             "#b8e186"
            ],
            [
             0.8,
             "#7fbc41"
            ],
            [
             0.9,
             "#4d9221"
            ],
            [
             1,
             "#276419"
            ]
           ],
           "sequential": [
            [
             0,
             "#0d0887"
            ],
            [
             0.1111111111111111,
             "#46039f"
            ],
            [
             0.2222222222222222,
             "#7201a8"
            ],
            [
             0.3333333333333333,
             "#9c179e"
            ],
            [
             0.4444444444444444,
             "#bd3786"
            ],
            [
             0.5555555555555556,
             "#d8576b"
            ],
            [
             0.6666666666666666,
             "#ed7953"
            ],
            [
             0.7777777777777778,
             "#fb9f3a"
            ],
            [
             0.8888888888888888,
             "#fdca26"
            ],
            [
             1,
             "#f0f921"
            ]
           ],
           "sequentialminus": [
            [
             0,
             "#0d0887"
            ],
            [
             0.1111111111111111,
             "#46039f"
            ],
            [
             0.2222222222222222,
             "#7201a8"
            ],
            [
             0.3333333333333333,
             "#9c179e"
            ],
            [
             0.4444444444444444,
             "#bd3786"
            ],
            [
             0.5555555555555556,
             "#d8576b"
            ],
            [
             0.6666666666666666,
             "#ed7953"
            ],
            [
             0.7777777777777778,
             "#fb9f3a"
            ],
            [
             0.8888888888888888,
             "#fdca26"
            ],
            [
             1,
             "#f0f921"
            ]
           ]
          },
          "colorway": [
           "#636efa",
           "#EF553B",
           "#00cc96",
           "#ab63fa",
           "#FFA15A",
           "#19d3f3",
           "#FF6692",
           "#B6E880",
           "#FF97FF",
           "#FECB52"
          ],
          "font": {
           "color": "#2a3f5f"
          },
          "geo": {
           "bgcolor": "white",
           "lakecolor": "white",
           "landcolor": "#E5ECF6",
           "showlakes": true,
           "showland": true,
           "subunitcolor": "white"
          },
          "hoverlabel": {
           "align": "left"
          },
          "hovermode": "closest",
          "mapbox": {
           "style": "light"
          },
          "paper_bgcolor": "white",
          "plot_bgcolor": "#E5ECF6",
          "polar": {
           "angularaxis": {
            "gridcolor": "white",
            "linecolor": "white",
            "ticks": ""
           },
           "bgcolor": "#E5ECF6",
           "radialaxis": {
            "gridcolor": "white",
            "linecolor": "white",
            "ticks": ""
           }
          },
          "scene": {
           "xaxis": {
            "backgroundcolor": "#E5ECF6",
            "gridcolor": "white",
            "gridwidth": 2,
            "linecolor": "white",
            "showbackground": true,
            "ticks": "",
            "zerolinecolor": "white"
           },
           "yaxis": {
            "backgroundcolor": "#E5ECF6",
            "gridcolor": "white",
            "gridwidth": 2,
            "linecolor": "white",
            "showbackground": true,
            "ticks": "",
            "zerolinecolor": "white"
           },
           "zaxis": {
            "backgroundcolor": "#E5ECF6",
            "gridcolor": "white",
            "gridwidth": 2,
            "linecolor": "white",
            "showbackground": true,
            "ticks": "",
            "zerolinecolor": "white"
           }
          },
          "shapedefaults": {
           "line": {
            "color": "#2a3f5f"
           }
          },
          "ternary": {
           "aaxis": {
            "gridcolor": "white",
            "linecolor": "white",
            "ticks": ""
           },
           "baxis": {
            "gridcolor": "white",
            "linecolor": "white",
            "ticks": ""
           },
           "bgcolor": "#E5ECF6",
           "caxis": {
            "gridcolor": "white",
            "linecolor": "white",
            "ticks": ""
           }
          },
          "title": {
           "x": 0.05
          },
          "xaxis": {
           "automargin": true,
           "gridcolor": "white",
           "linecolor": "white",
           "ticks": "",
           "title": {
            "standoff": 15
           },
           "zerolinecolor": "white",
           "zerolinewidth": 2
          },
          "yaxis": {
           "automargin": true,
           "gridcolor": "white",
           "linecolor": "white",
           "ticks": "",
           "title": {
            "standoff": 15
           },
           "zerolinecolor": "white",
           "zerolinewidth": 2
          }
         }
        },
        "title": {
         "text": "Pros vs Cons Scores by Author"
        },
        "width": 800,
        "xaxis": {
         "anchor": "y",
         "domain": [
          0,
          1
         ],
         "title": {
          "text": "Pro"
         }
        },
        "yaxis": {
         "anchor": "x",
         "domain": [
          0,
          1
         ],
         "title": {
          "text": "Cons"
         }
        }
       }
      }
     },
     "metadata": {},
     "output_type": "display_data"
    }
   ],
   "source": [
    "df_scores['Text'] = df_scores['Text'].apply(lambda t: wrap_text(t, width = 50))\n",
    "\n",
    "fig = px.scatter(\n",
    "    df_scores,\n",
    "    x=\"Pro\",\n",
    "    y=\"Cons\",\n",
    "    color=\"Author\",\n",
    "    hover_data=[\"Text\"],\n",
    "    title=\"Pros vs Cons Scores by Author\",\n",
    "    width=800,\n",
    "    height=600\n",
    ")\n",
    "\n",
    "fig.update_traces(marker=dict(size=5))\n",
    "fig.show()"
   ]
  },
  {
   "cell_type": "code",
   "execution_count": 36,
   "id": "f2fdd1b4",
   "metadata": {},
   "outputs": [],
   "source": [
    "# Define a function to chunk text into overlapping windows\n",
    "def chunk_into_windows(text, max_tokens=512, stride=128):\n",
    "    \n",
    "    # Break into sentences first for cleaner boundaries\n",
    "    sents = sent_tokenize(text)\n",
    "    windows = []\n",
    "    current = \"\"\n",
    "    for sent in sents:\n",
    "        # Tentative window if we add this sentence\n",
    "        cand = current + \" \" + sent if current else sent\n",
    "        # Count tokens\n",
    "        n_tokens = len(tokenizer.encode(cand, add_special_tokens=False))\n",
    "        if n_tokens <= max_tokens:\n",
    "            current = cand\n",
    "        else:\n",
    "            # finalize current window, then start new from overlapping tail\n",
    "            windows.append(current)\n",
    "            # keep the stride tokens from the end of the current window\n",
    "            tail_ids = tokenizer.encode(current, add_special_tokens=False)[-stride:]\n",
    "            tail_text = tokenizer.decode(tail_ids)\n",
    "            current = tail_text + \" \" + sent\n",
    "    if current:\n",
    "        windows.append(current)\n",
    "    return windows"
   ]
  },
  {
   "cell_type": "code",
   "execution_count": 37,
   "id": "a84fae53",
   "metadata": {},
   "outputs": [],
   "source": [
    "# Run classification per author\n",
    "rows = []\n",
    "for author, text in full_cases.items():\n",
    "    \n",
    "    windows = chunk_into_windows(text, max_tokens=256, stride=64)\n",
    "    \n",
    "    # classify each window\n",
    "    for win in windows:\n",
    "        out = zero_shot(win, candidate_labels=labels, truncation=True, max_length=256)\n",
    "        # Extract scores and labels\n",
    "        score_dict = dict(zip(out[\"labels\"], out[\"scores\"]))\n",
    "        rows.append({\n",
    "            \"Author\": author,\n",
    "            \"Text\": win,\n",
    "            \"Pro\": score_dict[labels[0]],\n",
    "            \"Neutral\": score_dict[labels[1]],\n",
    "            \"Cons\": score_dict[labels[2]]\n",
    "        })\n",
    "\n",
    "all_scores = pd.DataFrame(rows)"
   ]
  },
  {
   "cell_type": "code",
   "execution_count": 38,
   "id": "417f3822",
   "metadata": {},
   "outputs": [
    {
     "name": "stdout",
     "output_type": "stream",
     "text": [
      "\n",
      "Top 5 windows with the highest 'Pro' scores:\n",
      "\n",
      "Author: Begbie\n",
      "Window: from the constitution and the relation between the dominion and the provinces. but the judges in\n",
      "those foreign courts have had a much longer and more varied experience on these topics than\n",
      "ourselves ; their institutions are closely analogous in many judgment. respects, though, it is true,\n",
      "contrasted in others to our own. And their opinions and reasonings being also founded on\n",
      "international law, and, I take the liberty of saying, on natural equity and common sense, they are\n",
      "entitled to great weight beyond the limits of their own jurisdiction. I shall only mention Lee Sing\n",
      "v. Washburn, 20 Cal. Rep. 354; Baker v. Portland, 5 Law 750; Teburcio Parrott's case, coram SAWYER\n",
      "and HOFFMAN, J.J., 1880, and the Quene ordinance case, coram FIELD and SAWYER, J.J., 1879; the two\n",
      "latter cases published in a separate pamphlet form, in which the opinions of Mr. Justices FIELD,\n",
      "HOFFMAN, SAWYER and DEADY and other Judges whom they cite, all confirm this, that a State, or\n",
      "Provincial law imposing special disabilities or unequal burdens on Chinamen is unconstitutional and\n",
      "void.\n",
      "Pro Score: 0.9380\n",
      "\n",
      "Author: Crease\n",
      "Window: part of the power to regulate commerce, and its exercise by a state was incompatible with the\n",
      "authority of the government. that the chinese might be taxed as other residents, but could not be\n",
      "set apart as special objects of the taxation, and be compelled to contribute to the revenue of the\n",
      "state in the character of foreigners. The reports of the higher California courts are of great\n",
      "authority for us on all Chinese questions, for there have been efforts for years past to restrict\n",
      "Chinese immigration in California, and the matter has been constantly before the superior courts\n",
      "there, and the judges there (if we may take the reports as correct) are more than ordinarily skilled\n",
      "in laying down the law correctly in constitutional points of that nature. Indeed, there is no other\n",
      "country which has such experience generally in constitutional law as applicable to a federation of\n",
      "states. Of course, in all the observations I make I recognize the now well-known distinction between\n",
      "the relations of a State of the Union to the Federal Government, and our relation as a Province to\n",
      "the Dominion. Still both Federal Governments have reserved to themselves the regulation of trade and\n",
      "commerce and naturalization and aliens; so the analogy is so close as to become almost a direct\n",
      "authority.\n",
      "Pro Score: 0.7593\n",
      "\n",
      "Author: Crease\n",
      "Window: lin sing v. washburn *, 20 cal. 334 ), and the decision of * gray *, j., in * tai sing v. maguire *,\n",
      "deciding that similar legislation was held void as contravening the treaty and the sovereign power\n",
      "to regulate trade and commerce with foreign countries. *Drake*, Q. C., on the same side, argued that\n",
      "the imposition of the $10 tax was invalid because of inequality. Inherent in and incidental to the\n",
      "taxing power was the characteristic of equality. *Cooley* stated that irrespective of constitutional\n",
      "limitation a particular class of citizens could not be burdened for the advantage of\n",
      "others—*Cooley's Constitutional Limitations*, p. 635. This was a principle underlying the power to\n",
      "tax and governing that right even though the CREASE, J. 1885. REGINA v. WING CHONG. written\n",
      "constitution made no mention of it—Cooley on Taxation, p. 18, and City of Lexington v. McQuillan, 35\n",
      "Am. Dec. 159. The imposition was in derogation of treaty rights with which Canada alone had the\n",
      "power to deal. The Australian legislation did not help the contention of the Attorney-General.\n",
      "Pro Score: 0.7309\n",
      "\n",
      "Author: Crease\n",
      "Window: the citizens are entitled to require that the legislature itself shall cause all public taxation to\n",
      "be fair and equal in proportion to the value of'property \" ( and that is what * cooley * means by\n",
      "apportionment of taxation ), \" so that no class of individuals, and no species of property shall be\n",
      "unduly assessed. \" The treaties I have quoted between Great Britain and China, binding on the\n",
      "Dominion and on us in British Columbia, secure to the Chinese, just as the treaties between Great\n",
      "Britain and other foreign countries secure to other foreigners, the same rights in regard to the\n",
      "equality of taxation which I have described as being enjoyed by citizens of this country. These\n",
      "treaties have the force of international law, and are continued most strongly against the party for\n",
      "whose benefit they are introduced. In the case of the Chinese treaties, they were forced at the\n",
      "point of the bayonet on China, to obtain a right for us to enter China, and in return for a similar\n",
      "permission to us, full permission was given for the Chinese to trade and reside in British dominions\n",
      "everywhere.\n",
      "Pro Score: 0.7238\n",
      "\n",
      "Author: Crease\n",
      "Window: in british columbia, as revealed by the tables in that chinese report, is something which a casual\n",
      "observer would have no idea of. the treaties between great britain and china, which bind us, have\n",
      "been quoted. the treaty of 25th august, 1842, * hertslet *, vol. 6, ratified 26th June, 1843, p.\n",
      "221, and Lord Elgin's treaty of October, 1860, authenticated copies of which were produced in Court,\n",
      "secure to Chinese coming into British dominions the same \"full security for persons and property as\n",
      "subjects of Her Majesty.\" *Vattell*, cap. 8, referring to our obligations to foreigners, observes:—\n",
      "\"As soon as the lord of the territory admits strangers into it he engages \"to protect them as his\n",
      "own subjects, and to afford them perfect security as far as depends on him.\" *Reg. v. Severn* and\n",
      "*Reg. v. Russell* are important authorities in guiding our enquiry as to the nature and effect of\n",
      "local legislation in determining whether and how far the Act under review exceeds the limits within\n",
      "which the local legislature is supreme.\n",
      "Pro Score: 0.6814\n",
      "\n"
     ]
    }
   ],
   "source": [
    "# Print out the top 5 windows with the highest \"Pro\" scores\n",
    "top_pro_windows = all_scores.nlargest(5, 'Pro')\n",
    "\n",
    "print(\"\\nTop 5 windows with the highest 'Pro' scores:\\n\")\n",
    "for _, row in top_pro_windows.iterrows():\n",
    "    wrapped_para = textwrap.fill(row['Text'], width=100)\n",
    "    print(f\"Author: {row['Author']}\\nWindow: {wrapped_para}\\nPro Score: {row['Pro']:.4f}\\n\")"
   ]
  },
  {
   "cell_type": "code",
   "execution_count": 39,
   "id": "a1ecd0e3",
   "metadata": {},
   "outputs": [
    {
     "name": "stdout",
     "output_type": "stream",
     "text": [
      "\n",
      "Top 5 windows with the highest 'Cons' scores:\n",
      "\n",
      "Author: Crease\n",
      "Window: act the legal presumption of innocence until conviction is reversed ; in every case the onus\n",
      "probandi, though in a statute highly penal, is shifted from the informant on to the shoulders of the\n",
      "accused, and he a foreigner not knowing one word of the law, or even the language of the accuser. In\n",
      "other words, every Chinese is guilty until proved innocent—a provision which fills one conversant\n",
      "with subjects with alarm; for if such a law can be tolerated as against Chinese, the precedent is\n",
      "set, and in time of any popular outcry can easily be acted on for putting any other foreigners or\n",
      "even special classes among ourselves, as coloured people, or French, Italians, Americans, or\n",
      "Germans, under equally the same law. That certainly is interfering with aliens. The proposition that\n",
      "it is a Provincial tax for revenue purposes, supposing it to be so intended under the provisions of\n",
      "the Act, is so manifestly calculated to defeat that object, by diminishing the numbers of the\n",
      "members of the persons to be affected by it, that it is difficult to regard it in that light, or in\n",
      "any other light than an indirect mode of getting rid of persons whom it affects out of the country.\n",
      "Cons Score: 0.9577\n",
      "\n",
      "Author: Crease\n",
      "Window: goods and chattels of the offender, and in default of sufficient distress by a liability to\n",
      "imprisonment for three calendar months, and the employers would necessarily be white men. in fact,\n",
      "the act so bristles with these arbitrary, exceptional and penal consequences, that it is invidious\n",
      "to single out particular ones for comment. It is enough to add that \"any person,\" no matter whether\n",
      "white or Chinese, imprisoned in respect of any infraction of the provisions of the Act, may be at\n",
      "the will of the executive, subjected even to hard labour. The Act is so full of provisions that\n",
      "interfere directly with aliens, with trade, and with commerce, that I have no hesitation in\n",
      "pronouncing all such provisions, and among them those under which the appellant in this case has\n",
      "been convicted, to be ultra vires the local legislature, and consequently illegal and void. So far,\n",
      "I have dealt with the Act on its own merits; but if we consider it in juxtaposition to the Dominion\n",
      "Act recently passed restricting the Chinese throughout all Canada, its illegality becomes\n",
      "transparent; for in passing that Act against the Chinese the Dominion has spoken by the highest\n",
      "authority which it possesses—its own Parliament.\n",
      "Cons Score: 0.9384\n",
      "\n",
      "Author: Crease\n",
      "Window: c. 272 ; l'union st. jacques v. belisle, l. r. 6 p. c. 31, and numerous other canadian authorities,\n",
      "besides the british north america act itself. now applying the principles and tests i have described\n",
      "to the act before us, what do we find? The Act is found associated with another Act now disallowed,\n",
      "the express object of which is to prevent the Chinese altogether from coming to this country, and\n",
      "the principle \"noscitur a sociis\" is kept up by the preamble of the present Act, which describes the\n",
      "Chinese in terms which, I venture to think, have never before in any other country found a place in\n",
      "an Act of Parliament. In the definition of the persons affected by the Act no distinction is made of\n",
      "ambassadors, merchants, consuls, artists, professors or travellers, or sex, whether under disability\n",
      "or not, or at such a distance from a collector as to make it difficult or impossible to obtain a\n",
      "license.\n",
      "Cons Score: 0.9298\n",
      "\n",
      "Author: Begbie\n",
      "Window: terms, only operates upon a special race, sect or class, it being universally understood that it is\n",
      "to be enforced only against that race, sect or class, we may justly conclude that it was the\n",
      "intention of the body adopting it that it should only have such operation, and treat it accordingly.\n",
      "\" Now can anybody in the Province, on or off the Bench, conscientiously say that this ordinance does\n",
      "not come within the principle thus enunciated ? I, for my part, cannot arrive at any other\n",
      "conclusion than that it is specially directed against Chinamen because they are Chinamen and for no\n",
      "other Judgment. reason ; to compel them to remove certain industries from the city or themselves\n",
      "from the Province. But the authorities already cited show that this effect cannot be attained\n",
      "directly, and what cannot be done directly will not be permitted to be done by a side wind. Tiburcio\n",
      "Parrott's Case, pp. 1634; Cummings v. Missouri, 4 Wall 325. \" If we hold otherwise,\" said the\n",
      "learned Judge, in that case \"no kind of oppression can be named against which the framers of (the\n",
      "B.N.A.\n",
      "Cons Score: 0.9271\n",
      "\n",
      "Author: Crease\n",
      "Window: . these are the only discriminations which the law allows, and these are the permissible\n",
      "discriminations spoken of by cooley in the portions cited before the court. during the argument the\n",
      "case of * lin sing v. washburn *, 20 california reports, 534, was quoted as bearing on this case.\n",
      "There, an Act of the California Legislature passed an Act imposing a capitation tax “on ‘each\n",
      "person, male and female, of the Mongolian race of the age of 18 years and upwards residing in the\n",
      "State,’ accompanying a license almost a *fac simile* of our own, and enforced in much the same way\n",
      "as in the case before us, that, after long and elaborate argument in which the Attorney-General\n",
      "appeared for the State, was determined to be unconstitutional, as it was an interference with trade\n",
      "and commerce, which could be regulated alone by the general government. It was in vain advanced that\n",
      "at least the State had concurrent jurisdiction in matters of taxation relative to its own internal\n",
      "affairs, of which this was one (the same proposition as was advanced by the Attorney-General in this\n",
      "case) in which it had a supreme and autonomous right to legislate.\n",
      "Cons Score: 0.9068\n",
      "\n"
     ]
    }
   ],
   "source": [
    "# Print out the top 5 windows with the highest \"Cons\" scores\n",
    "top_cons_windows = all_scores.nlargest(5, 'Cons')\n",
    "\n",
    "print(\"\\nTop 5 windows with the highest 'Cons' scores:\\n\")\n",
    "for _, row in top_cons_windows.iterrows():\n",
    "    wrapped_para = textwrap.fill(row['Text'], width=100)\n",
    "    print(f\"Author: {row['Author']}\\nWindow: {wrapped_para}\\nCons Score: {row['Cons']:.4f}\\n\")"
   ]
  },
  {
   "cell_type": "code",
   "execution_count": 40,
   "id": "0819c58a",
   "metadata": {},
   "outputs": [
    {
     "name": "stdout",
     "output_type": "stream",
     "text": [
      "Mean scores by author:\n",
      "               Pro   Neutral      Cons\n",
      "Author                                \n",
      "Act 1884  0.289885  0.127291  0.582824\n",
      "Begbie    0.325492  0.288779  0.385729\n",
      "Crease    0.263973  0.216049  0.519978\n",
      "\n",
      "Median scores by author:\n",
      "               Pro   Neutral      Cons\n",
      "Author                                \n",
      "Act 1884  0.316400  0.121227  0.581850\n",
      "Begbie    0.327127  0.301877  0.314771\n",
      "Crease    0.217157  0.196228  0.520265\n"
     ]
    }
   ],
   "source": [
    "# Calculate the mean scores and median scores for each author\n",
    "mean_scores = all_scores.groupby(\"Author\")[[\"Pro\", \"Neutral\", \"Cons\"]].mean()\n",
    "median_scores = all_scores.groupby(\"Author\")[[\"Pro\", \"Neutral\", \"Cons\"]].median()\n",
    "\n",
    "print(\"Mean scores by author:\")\n",
    "print(mean_scores)\n",
    "\n",
    "print(\"\\nMedian scores by author:\")\n",
    "print(median_scores)"
   ]
  },
  {
   "cell_type": "markdown",
   "id": "6976cefb",
   "metadata": {},
   "source": [
    "### Conclusion"
   ]
  },
  {
   "cell_type": "markdown",
   "id": "81d6cf1c",
   "metadata": {},
   "source": [
    "### References\n",
    "\n",
    "1. *Regina v. Wing Chong*, 1 B.C.R. Pt. II 150 (1885). \n",
    "2. *Wong Hoy Woon v. Duncan*, 3 B.C.R. 318 (1894). \n",
    "3. *Regina v. Mee Wah*, 3 B.C.R. 403 (1886).\n",
    "4. *Regina v. Corporation of Victoria*, 1 B.C.R. Pt. II 331 (1888). \n",
    "5. *Quong Wing v. The King*, 49 S.C.R. 440 (1914). \n",
    "6. Law Society of British Columbia. (1896). *The British Columbia Reports: Being reports of cases determined in the Supreme and County Courts and in Admiralty and on appeal in the Full Court and Divisional Court* (Vol. 3). Victoria, BC: The Province Publishing Company.\n",
    "7. Canada. Royal Commission on Chinese Immigration. (1885). *Report of the Royal Commission on Chinese Immigration: report and evidence*. Ottawa: Printed by order of the Commission. \n",
    "8. Thomas, P. (2012, June 12–14). Courts of last resort: The judicialization of Asian Canadian politics 1878 to 1913. Paper presented at the Annual Conference of the Canadian Political Science Association, University of Alberta, Edmonton, Canada. Retrieved from <https://cpsa-acsp.ca/papers-2012/Thomas-Paul.pdf> \n",
    "9. McLaren, J. P. S. (1991). The Early British Columbia Supreme Court and the \"Chinese Question\": Echoes of the rule of law. Manitoba Law Journal, 20(1), 107–147. Retrieved from <https://www.canlii.org/w/canlii/1991CanLIIDocs168.pdf> \n",
    "10. Chalkidis, I., Fergadiotis, M., Malakasiotis, P., Aletras, N., & Androutsopoulos, I. (2020). LEGAL-BERT: The Muppets straight out of Law School (arXiv:2010.02559). arXiv. <https://doi.org/10.48550/arXiv.2010.02559>\n",
    "11. Loo, T. (1994). Crease, Sir Henry Pering Pellew. In Dictionary of Canadian Biography (Vol. 13). University of Toronto/Université Laval. Retrieved August 8, 2025, from <https://www.biographi.ca/en/bio/crease_henry_pering_pellew_13E.html> \n",
    "12. Williams, D. R. (1990). Begbie, Sir Matthew Baillie. In Dictionary of Canadian Biography (Vol. 12). University of Toronto/Université Laval. Retrieved August 8, 2025, from <https://www.biographi.ca/en/bio/begbie_matthew_baillie_12E.html> \n",
    "13. Ariai, F., Mackenzie, J., & De Martini, G. (2025). *Natural Language Processing for the legal domain: A survey of tasks, datasets, models and challenges*. arXiv preprint arXiv:2410.21306."
   ]
  }
 ],
 "metadata": {
  "kernelspec": {
   "display_name": "Python 3",
   "language": "python",
   "name": "python3"
  },
  "language_info": {
   "codemirror_mode": {
    "name": "ipython",
    "version": 3
   },
   "file_extension": ".py",
   "mimetype": "text/x-python",
   "name": "python",
   "nbconvert_exporter": "python",
   "pygments_lexer": "ipython3",
   "version": "3.12.5"
  }
 },
 "nbformat": 4,
 "nbformat_minor": 5
}
