{
 "cells": [
  {
   "cell_type": "markdown",
   "id": "e5fb635f",
   "metadata": {},
   "source": [
    "## Embedding Driven Text Analysis of Crease's Stance Towards Chinese Immigrants\n",
    "\n",
    "prAxIs UBC Team <br> _Kaiyan Zhang, Irene Berezin, Alex Ronczewski_\n",
    "\n",
    "2025-8-14"
   ]
  },
  {
   "cell_type": "markdown",
   "id": "5db36359",
   "metadata": {},
   "source": [
    "### Library Loading"
   ]
  },
  {
   "cell_type": "code",
   "execution_count": 1,
   "id": "60275069",
   "metadata": {},
   "outputs": [],
   "source": [
    "# This cell loads the necessary libraries for executing the notebook.\n",
    "import pandas as pd\n",
    "import numpy as np\n",
    "import re\n",
    "import umap\n",
    "import textwrap\n",
    "import matplotlib.pyplot as plt\n",
    "import seaborn as sns\n",
    "import plotly.express as px\n",
    "import plotly.graph_objects as go\n",
    "from nltk import sent_tokenize, word_tokenize\n",
    "from nltk.corpus import stopwords\n",
    "from sklearn.feature_extraction.text import TfidfVectorizer\n",
    "from sklearn.metrics.pairwise import cosine_similarity\n",
    "from scipy.spatial.distance import cosine\n",
    "from transformers import AutoTokenizer, AutoModel\n",
    "import torch\n",
    "import warnings\n",
    "from typing import defaultdict, Dict, Any, Union\n"
   ]
  },
  {
   "cell_type": "markdown",
   "id": "39493bf1",
   "metadata": {},
   "source": [
    "### Introduction\n",
    "\n",
    "#### Overview of Historical Background\n",
    "\n",
    "***The 1884 Chinese Regulation Act*** in British Columbia is widely regarded as one of the most notorious discriminatory provincial laws targeting Chinese immigration, it was challenged and ultimately declared unconstitutional in the 1885 case of ***R v. Wing Chong*** by the judge Henry Pering Pellew Crease. The Justice Crease found the legislation to be unconstitutional on economic grounds; infringing on federal authority over immigration, trade, commerce, treaty-making, and taxation. \n",
    "\n",
    "The central figure in the ruling, *Henry Pering Pellew Crease*, came from a wealthy English military family, and possessed a prestigious law background. \n",
    "\n",
    "* His social identity was above-all English, and this was made clear in his politics. \n",
    "* He viewed Canada not as a new society to be built, but as an extension of the british empire. \n",
    "* He displayed mistrust towards Canadians, referring to them as \"North American Chinamen\", afraid that they would \"rule the country and job its offices\" (Tina Loo).\n",
    "\n",
    "In previous years, students expressed interest Crease's opinion on the 1884 Chinese regulation act, given that the regulation act was strongly condemned and ultimately struck down by Crease. However, this seems at odds with Crease's position on Chinese immigrants.\n",
    "\n",
    "This raises an interesting question: **Did Judge Crease strike down the act because of genuine anti-racism concerns, or because he saw the Chinese immigrant labor force as a valuable asset for growing the Canadian economy?**\n",
    "\n",
    "#### Objective\n",
    "\n",
    "* We aim to explore this question by analyzing the language used by Justice Crease in his legal opinions and writings related to Chinese immigrants through **Natural Language Processing (NLP)** approaches. By examining the text, we hope to uncover insights into his stance.\n",
    "\n",
    "* The workshop is also to demonstrate how historians can use computational tools to *help* them answer such a research question, by showing each step in the research process."
   ]
  },
  {
   "cell_type": "markdown",
   "id": "31f176c2",
   "metadata": {},
   "source": [
    "#### The Problem: Legal Text Analysis\n",
    "\n",
    "Legal text analysis is itself a complex task, as legal documents are often lengthy, dense, formal, and filled with specialized terminology. They are also often written in neutral or passive voice, making it difficult to discern the author's personal opinions or biases, it poses unique challenges for historians and legal scholars alike, which also challenged the usual methods of natural language processing (NLP).\n",
    "\n",
    "Mining insights from such texts requires sophisticated techniques to extract meaningful information and identify patterns. We need the technique to be able to:\n",
    "* **Understand legal vocabulary**: Legal texts often contain specialized terminology and complex sentence structures, the technique should be able to handle legal jargon and formal language.\n",
    "* **Identify contextual semantics**: Legal texts often involve nuanced meanings and interpretations, so the technique should be able to capture the context and semantics of legal language.\n",
    "* **Handle ambiguity**: Legal texts can be ambiguous, with multiple interpretations possible, the technique should be able to handle ambiguity and provide insights into different interpretations.\n",
    "* **Extract relevant topics**: Legal texts often cover multiple topics and issues, the technique should be able to extract relevant topics and themes from the text.\n",
    "* **Analyze sentiment**: Legal texts can convey different sentiments, such as positive, negative, or neutral, the technique should be able to analyze sentiment and provide insights into the author's tone and attitude.\n",
    "\n",
    "#### Research Approach\n",
    "\n",
    "In this workshop, we will explore how to address these challenges using a comparison approach, that is, while we focus on the text of Justice Crease, we will compare it with other legal texts from the same period to gain a better understanding of the language used in legal documents at that time.\n",
    "\n",
    "The first subject we will use for comparison is the **1884 Chinese Regulation Act**, which was the law that Crease struck down. The second subject we will use for comparison is **Justice Matthew Baillie Begbie**, who testified alongside Crease in the 1884 Royal Commission on Chinese Immigration.\n",
    "\n",
    "* Unlike Crease, historical accounts describe Begbie as protective of marginalized peoples, particularly Indigenous communities and Chinese immigrants.\n",
    "* Similar to what Crease did to the Chinese Regulation Act, Begbie struck down discriminatory municipal by-laws in Victoria that targeted Chinese-owned businesses in the 1888 case of ***R v. Victoria***.\n",
    "\n",
    "We use machine learning techniques, specifically text embeddings, to do the following:\n",
    "\n",
    "1. Compile **a corpus of legal cases and commission reports** authored by contemporary judges concerning Chinese immigrants.\n",
    "2. Apply **Optical Character Recognition (OCR)** to the reports in order to convert them to a machine-readable format. \n",
    "3. Examine **keywords** in the texts, to compare the positions of different justices and regulations.\n",
    "4. Use **machine learning** to assess the relative emphasis on economic versus social justice concerns.\n",
    "5. Use **sentiment analysis** to evaluate the tone of the documents, focusing on whether they reflect positive, negative, or neutral sentiments, and compare the sentiments of writings by different authors to identify patterns.\n",
    "6. Use **zero-shot classification** to evaluate whether the documents reflect pro-discrimination, neutral, or anti-discrimination positions.\n",
    "\n",
    "This approach demonstrates different techniques historians can use to identify patterns in documents for analysis."
   ]
  },
  {
   "cell_type": "markdown",
   "id": "d957c236",
   "metadata": {},
   "source": [
    "#### Data Collection and Preprocessing\n",
    "\n",
    "We plan to use 10 digitalized texts, they are:\n",
    "\n",
    "- Legal Documents that address Chinese immigration in BC during the period: \n",
    "    - *R v. Wing Chong* \n",
    "    - *Wong Hoy Woon v. Duncan* \n",
    "    - *R v. Mee Wah, R v. Victoria* \n",
    "    - *Chinese Regulation Act, 1884*\n",
    "- Reports authored by Crease and Begbie for the Royal Commission that show the judges' personal perspectives. \n",
    "- The remaining documents enrich our corpus for analysis and supplement our study.\n",
    "\n",
    "A big issue with working with historical texts is the format they're stored in: usually scans of varying quality from physical books, articles, etc. However, these are not machine-readable file formats (e.g., text files), so our first step will be using **Optical Character Recognition (OCR)** to convert the scanned images into machine-readable text. We chose this approach because: 1. It is a common technique for digitizing printed texts that is already widely used in legal case archives such as the CanLii database, and 2. There are many OCR tools available that vary in cost, effectiveness, and ease of use. Below is a brief overview of early and modern OCR techniques:\n",
    "\n",
    "\n",
    "- **Early OCR (Pattern Matching):**\n",
    "\n",
    "    - Compared each character image to a library of fonts and shapes.\n",
    "    - Worked well for clean, printed text.\n",
    "    - Struggled with handwriting, unusual fonts, or degraded scans.\n",
    "\n",
    "- **Modern OCR (Intelligent Recognition):**\n",
    "\n",
    "    - Uses AI to \"read\" text more like a human.\n",
    "    - Analyzes shapes, context, and layout.\n",
    "    - Handles messy, handwritten, or complex documents much better.\n",
    "\n",
    "After testing several tools, we found that modern, AI-based OCR methods produced the most accurate results for our historical documents."
   ]
  },
  {
   "cell_type": "markdown",
   "id": "3cdc6bca",
   "metadata": {},
   "source": [
    "#### Data Overview"
   ]
  },
  {
   "cell_type": "markdown",
   "id": "b5cb7613",
   "metadata": {},
   "source": [
    "After OCR, we obtained a `.csv` file containing the text and metadata of the documents. Note that we removed the direct quotes of the *1884 Chinese Regulation Act* in Crease's ruling, as they don't reflect his own language. The structure of the data is as follows:\n",
    "| Column Name                   | Description                                              |\n",
    "| ----------------------------- | -------------------------------------------------------- |\n",
    "| filename                    | Name of the file containing the document text.           |\n",
    "| author                      | Author of the document (e.g., \"Crease\", \"Begbie\").       |\n",
    "| type                        | Document type (e.g., \"case\", \"report\").                  |\n",
    "| text                        | Full text of the document, which may include OCR errors. |\n",
    "| act_quote_sentences_removed | Number of quoted sentences removed from the full text.   |\n",
    "\n",
    "Here, we read the `.csv` file into a pandas DataFrame and display."
   ]
  },
  {
   "cell_type": "code",
   "execution_count": 2,
   "id": "ba80c94d",
   "metadata": {},
   "outputs": [
    {
     "data": {
      "text/html": [
       "<div>\n",
       "<style scoped>\n",
       "    .dataframe tbody tr th:only-of-type {\n",
       "        vertical-align: middle;\n",
       "    }\n",
       "\n",
       "    .dataframe tbody tr th {\n",
       "        vertical-align: top;\n",
       "    }\n",
       "\n",
       "    .dataframe thead th {\n",
       "        text-align: right;\n",
       "    }\n",
       "</style>\n",
       "<table border=\"1\" class=\"dataframe\">\n",
       "  <thead>\n",
       "    <tr style=\"text-align: right;\">\n",
       "      <th></th>\n",
       "      <th>filename</th>\n",
       "      <th>author</th>\n",
       "      <th>type</th>\n",
       "      <th>text</th>\n",
       "      <th>act_quote_sentences_removed</th>\n",
       "    </tr>\n",
       "  </thead>\n",
       "  <tbody>\n",
       "    <tr>\n",
       "      <th>0</th>\n",
       "      <td>regina_v_wing_chong.txt</td>\n",
       "      <td>Crease</td>\n",
       "      <td>case</td>\n",
       "      <td>CREASE, J. 1885. REGINA v. WING CHONG. \\r\\n\\r\\...</td>\n",
       "      <td>12</td>\n",
       "    </tr>\n",
       "    <tr>\n",
       "      <th>1</th>\n",
       "      <td>wong_hoy_woon_v_duncan.txt</td>\n",
       "      <td>Crease</td>\n",
       "      <td>case</td>\n",
       "      <td>CREASE, J.\\r\\n\\r\\nWONG HOY WOON v. DUNCAN.\\r\\n...</td>\n",
       "      <td>0</td>\n",
       "    </tr>\n",
       "    <tr>\n",
       "      <th>2</th>\n",
       "      <td>regina_v_mee_wah.txt</td>\n",
       "      <td>Begbie</td>\n",
       "      <td>case</td>\n",
       "      <td>BRITISH COLUMBIA REPORTS.\\r\\n\\r\\nREGINA v. MEE...</td>\n",
       "      <td>0</td>\n",
       "    </tr>\n",
       "    <tr>\n",
       "      <th>3</th>\n",
       "      <td>regina_v_victoria.txt</td>\n",
       "      <td>Begbie</td>\n",
       "      <td>case</td>\n",
       "      <td>OF BRITISH COLUMBIA.\\r\\n\\r\\nREGINA r, CORPORAT...</td>\n",
       "      <td>0</td>\n",
       "    </tr>\n",
       "    <tr>\n",
       "      <th>4</th>\n",
       "      <td>quong_wing_v_the_king.txt</td>\n",
       "      <td>Fitzpatrick</td>\n",
       "      <td>case</td>\n",
       "      <td>QUONG WING v. THE KING. CAN.  \\r\\n\\r\\nSupreme ...</td>\n",
       "      <td>0</td>\n",
       "    </tr>\n",
       "    <tr>\n",
       "      <th>5</th>\n",
       "      <td>commission_on_chinese_imigration.txt</td>\n",
       "      <td>Powell</td>\n",
       "      <td>report</td>\n",
       "      <td>On the 4th of July, 1884, the following Commis...</td>\n",
       "      <td>0</td>\n",
       "    </tr>\n",
       "    <tr>\n",
       "      <th>6</th>\n",
       "      <td>chapleau_report_resume.txt</td>\n",
       "      <td>Chapleau</td>\n",
       "      <td>report</td>\n",
       "      <td>RESUMÉ.\\r\\n\\r\\n1. That Chinese labor is a most...</td>\n",
       "      <td>0</td>\n",
       "    </tr>\n",
       "    <tr>\n",
       "      <th>7</th>\n",
       "      <td>crease_commission.txt</td>\n",
       "      <td>Crease</td>\n",
       "      <td>report</td>\n",
       "      <td>The Hon. Mr. Justice CREASE, Judge of the Supr...</td>\n",
       "      <td>0</td>\n",
       "    </tr>\n",
       "    <tr>\n",
       "      <th>8</th>\n",
       "      <td>begbie_commission.txt</td>\n",
       "      <td>Begbie</td>\n",
       "      <td>report</td>\n",
       "      <td>Sir MATTHEW BEGBIE, Chief Justice of British C...</td>\n",
       "      <td>0</td>\n",
       "    </tr>\n",
       "    <tr>\n",
       "      <th>9</th>\n",
       "      <td>chinese_regulation_act_1884.txt</td>\n",
       "      <td>Others</td>\n",
       "      <td>act</td>\n",
       "      <td>An Act to regulate the Chinese population of B...</td>\n",
       "      <td>0</td>\n",
       "    </tr>\n",
       "  </tbody>\n",
       "</table>\n",
       "</div>"
      ],
      "text/plain": [
       "                               filename       author    type  \\\n",
       "0               regina_v_wing_chong.txt       Crease    case   \n",
       "1            wong_hoy_woon_v_duncan.txt       Crease    case   \n",
       "2                  regina_v_mee_wah.txt       Begbie    case   \n",
       "3                 regina_v_victoria.txt       Begbie    case   \n",
       "4             quong_wing_v_the_king.txt  Fitzpatrick    case   \n",
       "5  commission_on_chinese_imigration.txt       Powell  report   \n",
       "6            chapleau_report_resume.txt     Chapleau  report   \n",
       "7                 crease_commission.txt       Crease  report   \n",
       "8                 begbie_commission.txt       Begbie  report   \n",
       "9       chinese_regulation_act_1884.txt       Others     act   \n",
       "\n",
       "                                                text  \\\n",
       "0  CREASE, J. 1885. REGINA v. WING CHONG. \\r\\n\\r\\...   \n",
       "1  CREASE, J.\\r\\n\\r\\nWONG HOY WOON v. DUNCAN.\\r\\n...   \n",
       "2  BRITISH COLUMBIA REPORTS.\\r\\n\\r\\nREGINA v. MEE...   \n",
       "3  OF BRITISH COLUMBIA.\\r\\n\\r\\nREGINA r, CORPORAT...   \n",
       "4  QUONG WING v. THE KING. CAN.  \\r\\n\\r\\nSupreme ...   \n",
       "5  On the 4th of July, 1884, the following Commis...   \n",
       "6  RESUMÉ.\\r\\n\\r\\n1. That Chinese labor is a most...   \n",
       "7  The Hon. Mr. Justice CREASE, Judge of the Supr...   \n",
       "8  Sir MATTHEW BEGBIE, Chief Justice of British C...   \n",
       "9  An Act to regulate the Chinese population of B...   \n",
       "\n",
       "   act_quote_sentences_removed  \n",
       "0                           12  \n",
       "1                            0  \n",
       "2                            0  \n",
       "3                            0  \n",
       "4                            0  \n",
       "5                            0  \n",
       "6                            0  \n",
       "7                            0  \n",
       "8                            0  \n",
       "9                            0  "
      ]
     },
     "execution_count": 2,
     "metadata": {},
     "output_type": "execute_result"
    }
   ],
   "source": [
    "# Load the dataset\n",
    "df = pd.read_csv(\"../data/metadata_cleaned.csv\")\n",
    "\n",
    "df"
   ]
  },
  {
   "cell_type": "markdown",
   "id": "0ce5996b",
   "metadata": {},
   "source": [
    "We are also interested in the length of each document, as it can provide insights into the depth and complexity of the text. Therefore, we create a summary below quantifying the number of characters in each document.\n",
    "\n"
   ]
  },
  {
   "cell_type": "code",
   "execution_count": 3,
   "id": "2d8e4e6f",
   "metadata": {},
   "outputs": [
    {
     "name": "stdout",
     "output_type": "stream",
     "text": [
      "                               Document  Length\n",
      "0               regina_v_wing_chong.txt   41337\n",
      "1            wong_hoy_woon_v_duncan.txt   13912\n",
      "2                  regina_v_mee_wah.txt   25114\n",
      "3                 regina_v_victoria.txt    8252\n",
      "4             quong_wing_v_the_king.txt   46982\n",
      "5  commission_on_chinese_imigration.txt    3402\n",
      "6            chapleau_report_resume.txt   10906\n",
      "7                 crease_commission.txt   30768\n",
      "8                 begbie_commission.txt   41270\n",
      "9       chinese_regulation_act_1884.txt   12908\n"
     ]
    }
   ],
   "source": [
    "# Summary the distribution of document lengths\n",
    "# Create a DataFrame to store the document lengths\n",
    "doc_lengths = []\n",
    "\n",
    "for row in df.iterrows():\n",
    "    text_length = len(row[1]['text'])\n",
    "    doc_lengths.append({'Document': row[1]['filename'], 'Length': text_length})\n",
    "\n",
    "# Convert to DataFrame and display\n",
    "doc_lengths_df = pd.DataFrame(doc_lengths)\n",
    "print(doc_lengths_df)"
   ]
  },
  {
   "cell_type": "markdown",
   "id": "21f1288c",
   "metadata": {},
   "source": [
    "### How Computers Interpret Text?"
   ]
  },
  {
   "cell_type": "markdown",
   "id": "d979976f",
   "metadata": {},
   "source": [
    "#### Count Approach: TF-IDF\n",
    "\n",
    "The **Term Frequency-Inverse Document Frequency (TF-IDF)** is a statistical measure that evaluates the importance of a word in a document relative to a collection of documents (corpus). It is one of the earliest and most widely used methods for text analysis. It is essentially a count-based approach that quantifies the importance of words in a document based on their frequency and distribution across multiple documents. TF-IDF works by calculating two components:\n",
    "1. **Term Frequency (TF)**: Measures how frequently a term appears in a document.\n",
    "2. **Inverse Document Frequency (IDF)**: Measures how important a term is across the entire corpus, by considering how many documents contain the term.\n",
    "\n",
    "For our purpose, we can use TF-IDF to identify the most important words in each document, which can help us understand the key themes and topics discussed in the text. More details on what we are going to do:\n",
    "\n",
    "1. Regroup the text data into 4 groups:\n",
    "    - Crease's writings\n",
    "    - Begbie's writings\n",
    "    - Chinese Regulation Act\n",
    "    - Other documents\n",
    "2. For each group, we will: \n",
    "    - Create a TF-IDF vectorizer to convert the text into numerical vectors.\n",
    "    - Remove common filler words (\"the\", \"and\", etc.).\n",
    "    - Calculate the TF-IDF scores for each word in the documents.\n",
    "    - Identify the most important words based on their TF-IDF scores.\n",
    "3. The most frequent remaining words can reveal the main topics of each case."
   ]
  },
  {
   "cell_type": "code",
   "execution_count": 4,
   "id": "f724c9b1",
   "metadata": {},
   "outputs": [],
   "source": [
    "# Define the function to preprocess text in a DataFrame column\n",
    "def preprocess_text(text_string):\n",
    "    \"\"\"\n",
    "    Cleans and preprocesses text by:\n",
    "    1. Converting to lowercase\n",
    "    2. Removing punctuation and numbers\n",
    "    3. Tokenizing\n",
    "    4. Removing English stop words \n",
    "    5. Removing words with 4 or fewer characters\n",
    "    \"\"\"\n",
    "    # Start with the standard English stop words\n",
    "    stop_words = set(stopwords.words('english'))\n",
    "    \n",
    "    # Add custom domain-specific stop words if needed\n",
    "    custom_additions = {'would', 'may', 'act', 'mr', 'sir', 'also', 'upon', 'shall'}\n",
    "    stop_words.update(custom_additions)\n",
    "    \n",
    "    # Lowercase and remove non-alphabetic characters\n",
    "    processed_text = text_string.lower()\n",
    "    processed_text = re.sub(r'[^a-z\\s]', '', processed_text)\n",
    "    \n",
    "    # Tokenize\n",
    "    tokens = processed_text.split()\n",
    "    \n",
    "    # Filter out stop words AND short words in a single step\n",
    "    filtered_tokens = [\n",
    "        word for word in tokens \n",
    "        if word not in stop_words and len(word) > 4\n",
    "    ]\n",
    "    # Re-join the words into a single string\n",
    "    return \" \".join(filtered_tokens)"
   ]
  },
  {
   "cell_type": "code",
   "execution_count": 5,
   "id": "09603011",
   "metadata": {},
   "outputs": [
    {
     "data": {
      "text/plain": [
       "0    crease regina chong certiorarichinese regulati...\n",
       "1    crease duncan health regulationsvictoria healt...\n",
       "2    british columbia reports regina begbie constit...\n",
       "3    british columbia regina corporation victoria p...\n",
       "4    quong supreme court canada charles fitzpatrick...\n",
       "Name: processed_text, dtype: object"
      ]
     },
     "execution_count": 5,
     "metadata": {},
     "output_type": "execute_result"
    }
   ],
   "source": [
    "# Apply the function to create the 'processed_text' column\n",
    "df['processed_text'] = df['text'].apply(preprocess_text)\n",
    "\n",
    "# Display the first few rows of the processed text\n",
    "df['processed_text'].head(5)"
   ]
  },
  {
   "cell_type": "code",
   "execution_count": 6,
   "id": "dc62f26e",
   "metadata": {},
   "outputs": [
    {
     "data": {
      "text/html": [
       "<div>\n",
       "<style scoped>\n",
       "    .dataframe tbody tr th:only-of-type {\n",
       "        vertical-align: middle;\n",
       "    }\n",
       "\n",
       "    .dataframe tbody tr th {\n",
       "        vertical-align: top;\n",
       "    }\n",
       "\n",
       "    .dataframe thead th {\n",
       "        text-align: right;\n",
       "    }\n",
       "</style>\n",
       "<table border=\"1\" class=\"dataframe\">\n",
       "  <thead>\n",
       "    <tr style=\"text-align: right;\">\n",
       "      <th></th>\n",
       "      <th>Crease</th>\n",
       "      <th>Crease_score</th>\n",
       "      <th>Begbie</th>\n",
       "      <th>Begbie_score</th>\n",
       "      <th>Regulation Act</th>\n",
       "      <th>Regulation Act_score</th>\n",
       "      <th>Other</th>\n",
       "      <th>Other_score</th>\n",
       "    </tr>\n",
       "  </thead>\n",
       "  <tbody>\n",
       "    <tr>\n",
       "      <th>0</th>\n",
       "      <td>chinese</td>\n",
       "      <td>0.216102</td>\n",
       "      <td>license</td>\n",
       "      <td>0.229046</td>\n",
       "      <td>chinese</td>\n",
       "      <td>0.449144</td>\n",
       "      <td>canada</td>\n",
       "      <td>0.212016</td>\n",
       "    </tr>\n",
       "    <tr>\n",
       "      <th>1</th>\n",
       "      <td>labor</td>\n",
       "      <td>0.168267</td>\n",
       "      <td>chinamen</td>\n",
       "      <td>0.149548</td>\n",
       "      <td>dollars</td>\n",
       "      <td>0.255087</td>\n",
       "      <td>chinese</td>\n",
       "      <td>0.193253</td>\n",
       "    </tr>\n",
       "    <tr>\n",
       "      <th>2</th>\n",
       "      <td>infected</td>\n",
       "      <td>0.134046</td>\n",
       "      <td>licenses</td>\n",
       "      <td>0.133677</td>\n",
       "      <td>licence</td>\n",
       "      <td>0.251050</td>\n",
       "      <td>legislation</td>\n",
       "      <td>0.138354</td>\n",
       "    </tr>\n",
       "    <tr>\n",
       "      <th>3</th>\n",
       "      <td>white</td>\n",
       "      <td>0.130095</td>\n",
       "      <td>municipality</td>\n",
       "      <td>0.114290</td>\n",
       "      <td>collector</td>\n",
       "      <td>0.215186</td>\n",
       "      <td>country</td>\n",
       "      <td>0.114744</td>\n",
       "    </tr>\n",
       "    <tr>\n",
       "      <th>4</th>\n",
       "      <td>taxation</td>\n",
       "      <td>0.097049</td>\n",
       "      <td>statute</td>\n",
       "      <td>0.104045</td>\n",
       "      <td>forfeit</td>\n",
       "      <td>0.192889</td>\n",
       "      <td>naturalized</td>\n",
       "      <td>0.108138</td>\n",
       "    </tr>\n",
       "    <tr>\n",
       "      <th>5</th>\n",
       "      <td>british</td>\n",
       "      <td>0.095929</td>\n",
       "      <td>legislature</td>\n",
       "      <td>0.098620</td>\n",
       "      <td>lieutenantgovernor</td>\n",
       "      <td>0.192889</td>\n",
       "      <td>wycombe</td>\n",
       "      <td>0.104694</td>\n",
       "    </tr>\n",
       "    <tr>\n",
       "      <th>6</th>\n",
       "      <td>hongkong</td>\n",
       "      <td>0.095747</td>\n",
       "      <td>revenue</td>\n",
       "      <td>0.097329</td>\n",
       "      <td>person</td>\n",
       "      <td>0.192658</td>\n",
       "      <td>commissioners</td>\n",
       "      <td>0.104694</td>\n",
       "    </tr>\n",
       "    <tr>\n",
       "      <th>7</th>\n",
       "      <td>health officer</td>\n",
       "      <td>0.089364</td>\n",
       "      <td>corporation</td>\n",
       "      <td>0.093810</td>\n",
       "      <td>possession</td>\n",
       "      <td>0.191316</td>\n",
       "      <td>great</td>\n",
       "      <td>0.100444</td>\n",
       "    </tr>\n",
       "    <tr>\n",
       "      <th>8</th>\n",
       "      <td>china</td>\n",
       "      <td>0.087771</td>\n",
       "      <td>pawnbrokers</td>\n",
       "      <td>0.085717</td>\n",
       "      <td>lieutenantgovernor council</td>\n",
       "      <td>0.168778</td>\n",
       "      <td>parliament</td>\n",
       "      <td>0.095862</td>\n",
       "    </tr>\n",
       "    <tr>\n",
       "      <th>9</th>\n",
       "      <td>dominion</td>\n",
       "      <td>0.087583</td>\n",
       "      <td>provincial</td>\n",
       "      <td>0.084471</td>\n",
       "      <td>exceeding</td>\n",
       "      <td>0.159430</td>\n",
       "      <td>immigration</td>\n",
       "      <td>0.090623</td>\n",
       "    </tr>\n",
       "  </tbody>\n",
       "</table>\n",
       "</div>"
      ],
      "text/plain": [
       "           Crease  Crease_score        Begbie  Begbie_score  \\\n",
       "0         chinese      0.216102       license      0.229046   \n",
       "1           labor      0.168267      chinamen      0.149548   \n",
       "2        infected      0.134046      licenses      0.133677   \n",
       "3           white      0.130095  municipality      0.114290   \n",
       "4        taxation      0.097049       statute      0.104045   \n",
       "5         british      0.095929   legislature      0.098620   \n",
       "6        hongkong      0.095747       revenue      0.097329   \n",
       "7  health officer      0.089364   corporation      0.093810   \n",
       "8           china      0.087771   pawnbrokers      0.085717   \n",
       "9        dominion      0.087583    provincial      0.084471   \n",
       "\n",
       "               Regulation Act  Regulation Act_score          Other  \\\n",
       "0                     chinese              0.449144         canada   \n",
       "1                     dollars              0.255087        chinese   \n",
       "2                     licence              0.251050    legislation   \n",
       "3                   collector              0.215186        country   \n",
       "4                     forfeit              0.192889    naturalized   \n",
       "5          lieutenantgovernor              0.192889        wycombe   \n",
       "6                      person              0.192658  commissioners   \n",
       "7                  possession              0.191316          great   \n",
       "8  lieutenantgovernor council              0.168778     parliament   \n",
       "9                   exceeding              0.159430    immigration   \n",
       "\n",
       "   Other_score  \n",
       "0     0.212016  \n",
       "1     0.193253  \n",
       "2     0.138354  \n",
       "3     0.114744  \n",
       "4     0.108138  \n",
       "5     0.104694  \n",
       "6     0.104694  \n",
       "7     0.100444  \n",
       "8     0.095862  \n",
       "9     0.090623  "
      ]
     },
     "execution_count": 6,
     "metadata": {},
     "output_type": "execute_result"
    }
   ],
   "source": [
    "# Perform TF-IDF vectorization on the processed text\n",
    "\n",
    "# Regrouping the DataFrame for better representation\n",
    "df['group'] = 'Other'\n",
    "df.loc[df['author'] == 'Crease', 'group'] = 'Crease'\n",
    "df.loc[df['author'] == 'Begbie', 'group'] = 'Begbie'\n",
    "df.loc[df['author'] == 'Others', 'group'] = 'Regulation Act'\n",
    "\n",
    "# Load the vectorizer and transform the processed text\n",
    "# This calculates IDF based on word rarity across ALL individual texts.\n",
    "vectorizer = TfidfVectorizer(max_features=1000, ngram_range=(1, 3))\n",
    "tfidf_matrix = vectorizer.fit_transform(df['processed_text'])\n",
    "\n",
    "# Create a new DataFrame with the TF-IDF scores\n",
    "feature_names = vectorizer.get_feature_names_out()\n",
    "tfidf_df = pd.DataFrame(tfidf_matrix.toarray(), columns=feature_names)\n",
    "\n",
    "# Add the 'group' column to this TF-IDF DataFrame for aggregation\n",
    "tfidf_df['group'] = df['group'].values\n",
    "\n",
    "# Group by author and calculate the MEAN TF-IDF score for each word\n",
    "mean_tfidf_by_group = tfidf_df.groupby('group').mean()\n",
    "\n",
    "# Collect top words and arrange them into a side-by-side DataFrame\n",
    "list_of_author_dfs = []\n",
    "for group_name in ['Crease', 'Begbie', 'Regulation Act', 'Other']:\n",
    "    # Get the top 10 terms and scores for the current author\n",
    "    top_words = mean_tfidf_by_group.loc[group_name].sort_values(ascending=False).head(10)\n",
    "    \n",
    "    # Convert the Series to a DataFrame\n",
    "    top_words_df = top_words.reset_index()\n",
    "    top_words_df.columns = [group_name, f'{group_name}_score']\n",
    "    \n",
    "    list_of_author_dfs.append(top_words_df)\n",
    "\n",
    "# Concatenate the list of DataFrames horizontally\n",
    "final_wide_df = pd.concat(list_of_author_dfs, axis=1)\n",
    "\n",
    "# Display the final combined DataFrame\n",
    "final_wide_df"
   ]
  },
  {
   "cell_type": "markdown",
   "id": "2ccefc6b",
   "metadata": {},
   "source": [
    "Undoubtedly, the TF-IDF practice on our corpus has identified some interesting patterns, such as the emphasis on \"Chinese\" in all groups, the emphasis on \"labor\" in Crease's writings, the emphasis on \"license\" in Begbie's writings, and the emphasis on \"dollar\" in the Chinese Regulation Act. \n",
    "\n",
    "However, this approach has limitations, as it does not capture the semantic meaning of words or their relationships to each other. For example, it cannot distinguish between \"Chinese\" as a noun and \"Chinese\" as an adjective, or between \"labor\" as a noun and \"labor\" as a verb. It also does not consider the context in which words are used, which can lead to misinterpretation of their meaning."
   ]
  },
  {
   "cell_type": "markdown",
   "id": "bc24f314",
   "metadata": {},
   "source": [
    "#### Embedding Approach\n",
    "\n",
    "With the advancement of machine learning, **text embeddings** emerged as a more powerful technique for text analysis. It represents words or phrases as dense vectors in a high-dimensional space, capturing semantic relationships between them. This allows for more nuanced understanding of text, enabling tasks like similarity measurement, clustering, and classification."
   ]
  },
  {
   "cell_type": "markdown",
   "id": "5964e89b",
   "metadata": {},
   "source": [
    "### Word Embeddings\n",
    "#### Crating Word Embeddings"
   ]
  },
  {
   "cell_type": "code",
   "execution_count": 7,
   "id": "0c17b9f9",
   "metadata": {},
   "outputs": [],
   "source": [
    "# We will use the Legal-BERT model for this task\n",
    "tokenizer = AutoTokenizer.from_pretrained('nlpaueb/legal-bert-base-uncased')\n",
    "model = AutoModel.from_pretrained('nlpaueb/legal-bert-base-uncased').eval() # set the model to evaluation mode\n",
    "\n",
    "# Define a function to embed words using the tokenizer and model\n",
    "def embed_words(sentences, tokenizer=tokenizer, model=model, target_words=None,\n",
    "                device=None, max_length=512):\n",
    "    \"\"\"\n",
    "    Returns a dictionary {word: mean_embedding}.\n",
    "    Only the mean embedding (float32 numpy array) per word is kept.\n",
    "    \"\"\"\n",
    "    if device is None:\n",
    "        try:\n",
    "            device = next(model.parameters()).device\n",
    "        except Exception:\n",
    "            device = torch.device(\"cpu\")\n",
    "    device = torch.device(device)\n",
    "    model.to(device).eval()\n",
    "\n",
    "    target_set = None if target_words is None else set(target_words)\n",
    "\n",
    "    sums = {}   # word -> torch.Tensor sum of embeddings\n",
    "    counts = {} # word -> occurrence count\n",
    "\n",
    "    with torch.no_grad():\n",
    "        for sent in sentences:\n",
    "            enc = tokenizer(\n",
    "                sent,\n",
    "                return_tensors=\"pt\",\n",
    "                truncation=True,\n",
    "                max_length=max_length\n",
    "            )\n",
    "            enc = {k: v.to(device) for k, v in enc.items()}\n",
    "            outputs = model(**enc)\n",
    "            hidden = outputs.last_hidden_state.squeeze(0)  # (seq_len, hidden)\n",
    "            tokens = tokenizer.convert_ids_to_tokens(enc[\"input_ids\"][0])\n",
    "\n",
    "            i = 0\n",
    "            while i < len(tokens):\n",
    "                tok = tokens[i]\n",
    "                if tok in (\"[CLS]\", \"[SEP]\", \"[PAD]\"):\n",
    "                    i += 1\n",
    "                    continue\n",
    "\n",
    "                # Gather wordpieces\n",
    "                j = i + 1\n",
    "                piece_embs = [hidden[i]]\n",
    "                word = tok[2:] if tok.startswith(\"##\") else tok\n",
    "                while j < len(tokens) and tokens[j].startswith(\"##\"):\n",
    "                    piece_embs.append(hidden[j])\n",
    "                    word += tokens[j][2:]\n",
    "                    j += 1\n",
    "\n",
    "                if target_set is not None and word not in target_set:\n",
    "                    i = j\n",
    "                    continue\n",
    "\n",
    "                word_emb = torch.stack(piece_embs, dim=0).mean(dim=0)\n",
    "                if word in sums:\n",
    "                    sums[word] += word_emb\n",
    "                    counts[word] += 1\n",
    "                else:\n",
    "                    sums[word] = word_emb.clone()\n",
    "                    counts[word] = 1\n",
    "                i = j\n",
    "\n",
    "    return {w: (sums[w] / counts[w]).cpu().numpy() for w in sums}\n"
   ]
  },
  {
   "cell_type": "code",
   "execution_count": 8,
   "id": "c38fd8dd",
   "metadata": {},
   "outputs": [],
   "source": [
    "# Define a function to clean and preprocess text\n",
    "def clean_text(text):\n",
    "    \n",
    "    text = text.lower()\n",
    "    text = re.sub(r'[^\\w\\s]', '', text)  # Remove punctuation\n",
    "    \n",
    "    return text.strip()"
   ]
  },
  {
   "cell_type": "code",
   "execution_count": 9,
   "id": "60bd6550",
   "metadata": {},
   "outputs": [],
   "source": [
    "warnings.filterwarnings(\"ignore\")\n",
    "\n",
    "# Group texts to form a single text per group\n",
    "grouped_texts = df.groupby('group')['text'].apply(lambda x: ' '.join(x)).reset_index()\n",
    "# Use pd.concat instead of the deprecated DataFrame.append\n",
    "grouped_texts = pd.concat(\n",
    "    [grouped_texts, pd.DataFrame([{'group': 'All', 'text': ' '.join(df['text'])}])],\n",
    "    ignore_index=True\n",
    ")\n",
    "\n",
    "# Create new columns for word and sentence tokens\n",
    "grouped_texts['word_tokens'] = grouped_texts['text'].apply(lambda x: word_tokenize(clean_text(x)))\n",
    "grouped_texts['sentence_tokens'] = grouped_texts['text'].apply(lambda x: sent_tokenize(x))\n",
    "\n",
    "# Apply clean_text to the sentence tokens\n",
    "grouped_texts['sentence_tokens'] = grouped_texts['sentence_tokens'].apply(\n",
    "    lambda x: [clean_text(sent) for sent in x]\n",
    ")"
   ]
  },
  {
   "cell_type": "code",
   "execution_count": 10,
   "id": "2c56f361",
   "metadata": {},
   "outputs": [
    {
     "data": {
      "text/html": [
       "<div>\n",
       "<style scoped>\n",
       "    .dataframe tbody tr th:only-of-type {\n",
       "        vertical-align: middle;\n",
       "    }\n",
       "\n",
       "    .dataframe tbody tr th {\n",
       "        vertical-align: top;\n",
       "    }\n",
       "\n",
       "    .dataframe thead th {\n",
       "        text-align: right;\n",
       "    }\n",
       "</style>\n",
       "<table border=\"1\" class=\"dataframe\">\n",
       "  <thead>\n",
       "    <tr style=\"text-align: right;\">\n",
       "      <th></th>\n",
       "      <th>group</th>\n",
       "      <th>num_unique_words</th>\n",
       "    </tr>\n",
       "  </thead>\n",
       "  <tbody>\n",
       "    <tr>\n",
       "      <th>0</th>\n",
       "      <td>Begbie</td>\n",
       "      <td>2624</td>\n",
       "    </tr>\n",
       "    <tr>\n",
       "      <th>1</th>\n",
       "      <td>Crease</td>\n",
       "      <td>2747</td>\n",
       "    </tr>\n",
       "    <tr>\n",
       "      <th>2</th>\n",
       "      <td>Other</td>\n",
       "      <td>1906</td>\n",
       "    </tr>\n",
       "    <tr>\n",
       "      <th>3</th>\n",
       "      <td>Regulation Act</td>\n",
       "      <td>576</td>\n",
       "    </tr>\n",
       "    <tr>\n",
       "      <th>4</th>\n",
       "      <td>All</td>\n",
       "      <td>4888</td>\n",
       "    </tr>\n",
       "  </tbody>\n",
       "</table>\n",
       "</div>"
      ],
      "text/plain": [
       "            group  num_unique_words\n",
       "0          Begbie              2624\n",
       "1          Crease              2747\n",
       "2           Other              1906\n",
       "3  Regulation Act               576\n",
       "4             All              4888"
      ]
     },
     "execution_count": 10,
     "metadata": {},
     "output_type": "execute_result"
    }
   ],
   "source": [
    "# Embed the words in each group\n",
    "grouped_texts['word_embeddings'] = grouped_texts['sentence_tokens'].apply(\n",
    "    lambda x: embed_words(x)\n",
    "    )\n",
    "\n",
    "# Compute the number of unique words in each group\n",
    "grouped_texts['num_unique_words'] = grouped_texts['word_tokens'].apply(lambda x: len(set(x)))\n",
    "\n",
    "grouped_texts[['group', 'num_unique_words']]"
   ]
  },
  {
   "cell_type": "code",
   "execution_count": 11,
   "id": "8097aa7e",
   "metadata": {},
   "outputs": [
    {
     "name": "stdout",
     "output_type": "stream",
     "text": [
      "First 20 Dimensions of Word Embeddings for 'Chinese' in Crease's Text:\n",
      "[ 0.12750098  0.29792342  0.09023377  0.08841087  0.29863632  0.08794044\n",
      "  0.13261947  0.25097013 -0.21195269 -0.09664311  0.0714336   0.48756313\n",
      "  0.03093779 -0.06901182 -0.43618774  0.28000754  0.08647166 -0.1321233\n",
      " -0.5509693   0.40780342]\n",
      "\n",
      "Total Dimensions of Word Embeddings for 'Chinese' in Crease's Text: 768\n",
      "\n"
     ]
    }
   ],
   "source": [
    "# Display the word embedding of Chinese in Crease's text\n",
    "crease_embeddings = grouped_texts[grouped_texts['group'] == 'Crease']['word_embeddings'].values[0]\n",
    "# Display first 20 dimensions for brevity\n",
    "print(f\"First 20 Dimensions of Word Embeddings for 'Chinese' in Crease's Text:\\n{crease_embeddings.get('chinese')[:20]}\\n\") \n",
    "print(f\"Total Dimensions of Word Embeddings for 'Chinese' in Crease's Text: {len(crease_embeddings.get('chinese'))}\\n\")"
   ]
  },
  {
   "cell_type": "code",
   "execution_count": 12,
   "id": "1074dc17",
   "metadata": {},
   "outputs": [
    {
     "name": "stdout",
     "output_type": "stream",
     "text": [
      "First 20 Dimensions of Word Embeddings for 'Chinese' in Begbie's Text:\n",
      "[ 0.12386303  0.27892804  0.02562958 -0.02250974  0.30389023  0.16883047\n",
      "  0.00716521  0.309511   -0.28151745  0.00930497  0.05432036  0.43589708\n",
      " -0.04397878 -0.05242987 -0.52100396  0.3696377   0.16586976 -0.14758825\n",
      " -0.60179514  0.38511708]\n",
      "\n",
      "Total Dimensions of Word Embeddings for 'Chinese' in Begbie's Text: 768\n",
      "\n"
     ]
    }
   ],
   "source": [
    "begbie_embeddings = grouped_texts[grouped_texts['group'] == 'Begbie']['word_embeddings'].values[0]\n",
    "# Display first 20 dimensions for brevity\n",
    "print(f\"First 20 Dimensions of Word Embeddings for 'Chinese' in Begbie's Text:\\n{begbie_embeddings.get('chinese')[:20]}\\n\")\n",
    "print(f\"Total Dimensions of Word Embeddings for 'Chinese' in Begbie's Text: {len(begbie_embeddings.get('chinese'))}\\n\")"
   ]
  },
  {
   "cell_type": "markdown",
   "id": "efb2fcff",
   "metadata": {},
   "source": [
    "#### Measurement of Similarity"
   ]
  },
  {
   "cell_type": "code",
   "execution_count": 13,
   "id": "4b9562e4",
   "metadata": {},
   "outputs": [
    {
     "data": {
      "text/html": [
       "<div>\n",
       "<style scoped>\n",
       "    .dataframe tbody tr th:only-of-type {\n",
       "        vertical-align: middle;\n",
       "    }\n",
       "\n",
       "    .dataframe tbody tr th {\n",
       "        vertical-align: top;\n",
       "    }\n",
       "\n",
       "    .dataframe thead tr th {\n",
       "        text-align: left;\n",
       "    }\n",
       "\n",
       "    .dataframe thead tr:last-of-type th {\n",
       "        text-align: right;\n",
       "    }\n",
       "</style>\n",
       "<table border=\"1\" class=\"dataframe\">\n",
       "  <thead>\n",
       "    <tr>\n",
       "      <th>group</th>\n",
       "      <th colspan=\"2\" halign=\"left\">All</th>\n",
       "      <th colspan=\"2\" halign=\"left\">Begbie</th>\n",
       "      <th colspan=\"2\" halign=\"left\">Crease</th>\n",
       "      <th colspan=\"2\" halign=\"left\">Other</th>\n",
       "      <th colspan=\"2\" halign=\"left\">Regulation Act</th>\n",
       "    </tr>\n",
       "    <tr>\n",
       "      <th></th>\n",
       "      <th>similarity</th>\n",
       "      <th>word</th>\n",
       "      <th>similarity</th>\n",
       "      <th>word</th>\n",
       "      <th>similarity</th>\n",
       "      <th>word</th>\n",
       "      <th>similarity</th>\n",
       "      <th>word</th>\n",
       "      <th>similarity</th>\n",
       "      <th>word</th>\n",
       "    </tr>\n",
       "    <tr>\n",
       "      <th>rank</th>\n",
       "      <th></th>\n",
       "      <th></th>\n",
       "      <th></th>\n",
       "      <th></th>\n",
       "      <th></th>\n",
       "      <th></th>\n",
       "      <th></th>\n",
       "      <th></th>\n",
       "      <th></th>\n",
       "      <th></th>\n",
       "    </tr>\n",
       "  </thead>\n",
       "  <tbody>\n",
       "    <tr>\n",
       "      <th>1</th>\n",
       "      <td>0.880804</td>\n",
       "      <td>chinamen</td>\n",
       "      <td>0.885641</td>\n",
       "      <td>china</td>\n",
       "      <td>0.883995</td>\n",
       "      <td>chinamen</td>\n",
       "      <td>0.878179</td>\n",
       "      <td>china</td>\n",
       "      <td>0.762290</td>\n",
       "      <td>immigrant</td>\n",
       "    </tr>\n",
       "    <tr>\n",
       "      <th>2</th>\n",
       "      <td>0.879057</td>\n",
       "      <td>chinaman</td>\n",
       "      <td>0.866712</td>\n",
       "      <td>chinamen</td>\n",
       "      <td>0.878122</td>\n",
       "      <td>chinaman</td>\n",
       "      <td>0.874599</td>\n",
       "      <td>chinamen</td>\n",
       "      <td>0.750000</td>\n",
       "      <td>whites</td>\n",
       "    </tr>\n",
       "    <tr>\n",
       "      <th>3</th>\n",
       "      <td>0.878724</td>\n",
       "      <td>china</td>\n",
       "      <td>0.863639</td>\n",
       "      <td>chinaman</td>\n",
       "      <td>0.867973</td>\n",
       "      <td>china</td>\n",
       "      <td>0.869380</td>\n",
       "      <td>chinaman</td>\n",
       "      <td>0.744102</td>\n",
       "      <td>employer</td>\n",
       "    </tr>\n",
       "    <tr>\n",
       "      <th>4</th>\n",
       "      <td>0.833679</td>\n",
       "      <td>white</td>\n",
       "      <td>0.813474</td>\n",
       "      <td>whites</td>\n",
       "      <td>0.858650</td>\n",
       "      <td>white</td>\n",
       "      <td>0.816787</td>\n",
       "      <td>orientals</td>\n",
       "      <td>0.739430</td>\n",
       "      <td>native</td>\n",
       "    </tr>\n",
       "    <tr>\n",
       "      <th>5</th>\n",
       "      <td>0.833053</td>\n",
       "      <td>japanese</td>\n",
       "      <td>0.810684</td>\n",
       "      <td>white</td>\n",
       "      <td>0.837195</td>\n",
       "      <td>aliens</td>\n",
       "      <td>0.809490</td>\n",
       "      <td>alien</td>\n",
       "      <td>0.736644</td>\n",
       "      <td>yards</td>\n",
       "    </tr>\n",
       "    <tr>\n",
       "      <th>6</th>\n",
       "      <td>0.831957</td>\n",
       "      <td>immigrant</td>\n",
       "      <td>0.800130</td>\n",
       "      <td>universal</td>\n",
       "      <td>0.813921</td>\n",
       "      <td>coolies</td>\n",
       "      <td>0.807922</td>\n",
       "      <td>immigrants</td>\n",
       "      <td>0.732831</td>\n",
       "      <td>person</td>\n",
       "    </tr>\n",
       "    <tr>\n",
       "      <th>7</th>\n",
       "      <td>0.829623</td>\n",
       "      <td>immigrants</td>\n",
       "      <td>0.796812</td>\n",
       "      <td>english</td>\n",
       "      <td>0.813425</td>\n",
       "      <td>immigrants</td>\n",
       "      <td>0.807445</td>\n",
       "      <td>provincial</td>\n",
       "      <td>0.710163</td>\n",
       "      <td>race</td>\n",
       "    </tr>\n",
       "    <tr>\n",
       "      <th>8</th>\n",
       "      <td>0.829568</td>\n",
       "      <td>whites</td>\n",
       "      <td>0.794389</td>\n",
       "      <td>europeans</td>\n",
       "      <td>0.809977</td>\n",
       "      <td>sweet</td>\n",
       "      <td>0.807062</td>\n",
       "      <td>oriental</td>\n",
       "      <td>0.709648</td>\n",
       "      <td>found</td>\n",
       "    </tr>\n",
       "    <tr>\n",
       "      <th>9</th>\n",
       "      <td>0.819993</td>\n",
       "      <td>orientals</td>\n",
       "      <td>0.790069</td>\n",
       "      <td>provincial</td>\n",
       "      <td>0.809933</td>\n",
       "      <td>whitesuseless</td>\n",
       "      <td>0.806823</td>\n",
       "      <td>aliens</td>\n",
       "      <td>0.708453</td>\n",
       "      <td>emergency</td>\n",
       "    </tr>\n",
       "    <tr>\n",
       "      <th>10</th>\n",
       "      <td>0.816121</td>\n",
       "      <td>alien</td>\n",
       "      <td>0.787839</td>\n",
       "      <td>canton</td>\n",
       "      <td>0.809792</td>\n",
       "      <td>japanese</td>\n",
       "      <td>0.802767</td>\n",
       "      <td>asiatic</td>\n",
       "      <td>0.707480</td>\n",
       "      <td>useless</td>\n",
       "    </tr>\n",
       "  </tbody>\n",
       "</table>\n",
       "</div>"
      ],
      "text/plain": [
       "group        All                 Begbie                 Crease                 \\\n",
       "      similarity        word similarity        word similarity           word   \n",
       "rank                                                                            \n",
       "1       0.880804    chinamen   0.885641       china   0.883995       chinamen   \n",
       "2       0.879057    chinaman   0.866712    chinamen   0.878122       chinaman   \n",
       "3       0.878724       china   0.863639    chinaman   0.867973          china   \n",
       "4       0.833679       white   0.813474      whites   0.858650          white   \n",
       "5       0.833053    japanese   0.810684       white   0.837195         aliens   \n",
       "6       0.831957   immigrant   0.800130   universal   0.813921        coolies   \n",
       "7       0.829623  immigrants   0.796812     english   0.813425     immigrants   \n",
       "8       0.829568      whites   0.794389   europeans   0.809977          sweet   \n",
       "9       0.819993   orientals   0.790069  provincial   0.809933  whitesuseless   \n",
       "10      0.816121       alien   0.787839      canton   0.809792       japanese   \n",
       "\n",
       "group      Other             Regulation Act             \n",
       "      similarity        word     similarity       word  \n",
       "rank                                                    \n",
       "1       0.878179       china       0.762290  immigrant  \n",
       "2       0.874599    chinamen       0.750000     whites  \n",
       "3       0.869380    chinaman       0.744102   employer  \n",
       "4       0.816787   orientals       0.739430     native  \n",
       "5       0.809490       alien       0.736644      yards  \n",
       "6       0.807922  immigrants       0.732831     person  \n",
       "7       0.807445  provincial       0.710163       race  \n",
       "8       0.807062    oriental       0.709648      found  \n",
       "9       0.806823      aliens       0.708453  emergency  \n",
       "10      0.802767     asiatic       0.707480    useless  "
      ]
     },
     "execution_count": 13,
     "metadata": {},
     "output_type": "execute_result"
    }
   ],
   "source": [
    "# Compute top-10 most similar words to target for EVERY group (including \"All\")\n",
    "target = \"chinese\"\n",
    "top_n = 10\n",
    "all_results = []\n",
    "# Iterate through each group and compute similarities\n",
    "for _, grp_row in grouped_texts.iterrows():\n",
    "    group = grp_row['group']\n",
    "    emb_dict = grp_row['word_embeddings']\n",
    "    if target not in emb_dict:\n",
    "        continue\n",
    "    target_vec = emb_dict[target]\n",
    "    sims = []\n",
    "    for w, vec in emb_dict.items():\n",
    "        if w == target:\n",
    "            continue\n",
    "        try:\n",
    "            sim = 1 - cosine(target_vec, vec)\n",
    "        except Exception:\n",
    "            continue\n",
    "        sims.append((w, sim))\n",
    "    sims_sorted = sorted(sims, key=lambda x: x[1], reverse=True)[:top_n]\n",
    "    for rank, (w, sim) in enumerate(sims_sorted, 1):\n",
    "        all_results.append({'group': group, 'rank': rank, 'word': w, 'similarity': sim})  # Use :4f for better readability\n",
    "\n",
    "similar_words_df = pd.DataFrame(all_results)\n",
    "\n",
    "# Display the first few rows of the DataFrame with similar words\n",
    "sims_wide = similar_words_df.pivot(index='rank', columns='group', values='similarity')\n",
    "words_wide = similar_words_df.pivot(index='rank', columns='group', values='word')\n",
    "\n",
    "# Combine with a tidy multi-level column index: \n",
    "wide_combined = pd.concat({'word': words_wide, 'similarity': sims_wide}, axis=1)\n",
    "wide_combined = (\n",
    "    wide_combined.swaplevel(0,1, axis=1)\n",
    "                 .sort_index(axis=1, level=0)\n",
    ")\n",
    "\n",
    "wide_combined  # Display\n"
   ]
  },
  {
   "cell_type": "markdown",
   "id": "74410ad9",
   "metadata": {},
   "source": [
    "### Text Embeddings\n",
    "#### Creating Text Embeddings"
   ]
  },
  {
   "cell_type": "code",
   "execution_count": 14,
   "id": "c77f85c3",
   "metadata": {},
   "outputs": [],
   "source": [
    "def embed_text(\n",
    "    text,\n",
    "    focus_token= None,\n",
    "    window = 10,\n",
    "    pooling = \"mean\",  # \"mean\" (default), \"max\", or \"min\"\n",
    "    tokenizer=tokenizer,\n",
    "    model=model):\n",
    "\n",
    "    # Run the model once\n",
    "    inputs = tokenizer(text, return_tensors=\"pt\", truncation=True)\n",
    "    with torch.no_grad():\n",
    "        outputs = model(**inputs)\n",
    "    hidden = outputs.last_hidden_state.squeeze(0) \n",
    "\n",
    "    if focus_token is None:\n",
    "        return hidden[0].cpu().numpy()\n",
    "    \n",
    "    # Normalize to list\n",
    "    keywords = (\n",
    "        [focus_token] if isinstance(focus_token, str)\n",
    "        else focus_token\n",
    "    )\n",
    "\n",
    "    # Pre-tokenize each keyword to its subtoken ids\n",
    "    kw_token_ids = {\n",
    "        kw: tokenizer.convert_tokens_to_ids(tokenizer.tokenize(kw))\n",
    "        for kw in keywords\n",
    "    }\n",
    "\n",
    "    input_ids = inputs[\"input_ids\"].squeeze(0).tolist()\n",
    "    spans = []  # list of (start, end) index pairs\n",
    "\n",
    "    # find every match of every keyword\n",
    "    for kw, sub_ids in kw_token_ids.items():\n",
    "        L = len(sub_ids)\n",
    "        for i in range(len(input_ids) - L + 1):\n",
    "            if input_ids[i:i+L] == sub_ids:\n",
    "                spans.append((i, i+L))\n",
    "\n",
    "    if not spans:\n",
    "        # fallback on CLS vector\n",
    "        return hidden[0].cpu().numpy()\n",
    "\n",
    "    # For each span, grab the window around it\n",
    "    vecs = []\n",
    "    for (start, end) in spans:\n",
    "        lo = max(1, start - window)\n",
    "        hi = min(hidden.size(0), end + window)\n",
    "        # mean‑pool over all tokens in this extended window\n",
    "        span_vec = hidden[lo:hi]\n",
    "        \n",
    "        if pooling == \"mean\":\n",
    "            pooled = span_vec.mean(dim=0)\n",
    "        elif pooling == \"max\":\n",
    "            pooled = span_vec.max(dim=0).values\n",
    "        elif pooling == \"min\":\n",
    "            pooled = span_vec.min(dim=0).values\n",
    "        else:\n",
    "            raise ValueError(f\"Unknown pooling method: {pooling}\")\n",
    "        \n",
    "        vecs.append(pooled.cpu().numpy())\n",
    "\n",
    "    # Average across all spans\n",
    "    return np.mean(np.stack(vecs, axis=0), axis=0)"
   ]
  },
  {
   "cell_type": "code",
   "execution_count": 15,
   "id": "6c3b63f7",
   "metadata": {},
   "outputs": [],
   "source": [
    "crease_cases = df[(df['author'] == 'Crease') & (df['type'] == 'case')]['text'].tolist()\n",
    "begbie_cases = df[(df['author'] == 'Begbie') & (df['type'] == 'case')]['text'].tolist()\n",
    "act_1884 = df[df['type'] == 'act']['text'].tolist()\n",
    "\n",
    "act_dict = {\n",
    "    'Crease': crease_cases,\n",
    "    'Begbie': begbie_cases,\n",
    "    'Act 1884': act_1884}"
   ]
  },
  {
   "cell_type": "code",
   "execution_count": 16,
   "id": "570cddf6",
   "metadata": {},
   "outputs": [],
   "source": [
    "act_snippets = {}\n",
    "\n",
    "keywords = [\"Chinese\", \"China\", \"Chinaman\", \"Chinamen\", \n",
    "            \"immigrant\", \"immigrants\", \"alien\", \"aliens\", \n",
    "            \"immigration\"]\n",
    "\n",
    "for auth, texts in act_dict.items():\n",
    "    snippets = []\n",
    "    for txt in texts:\n",
    "        sentence = sent_tokenize(txt)\n",
    "        for sent in sentence:\n",
    "            if any(keyword in sent for keyword in keywords):\n",
    "                snippets.append(sent)\n",
    "    act_snippets[auth] = snippets"
   ]
  },
  {
   "cell_type": "code",
   "execution_count": 17,
   "id": "43142f1c",
   "metadata": {},
   "outputs": [
    {
     "name": "stdout",
     "output_type": "stream",
     "text": [
      "Snippet size by author:\n",
      "Crease: 93\n",
      "Begbie: 18\n",
      "Act 1884: 24\n"
     ]
    }
   ],
   "source": [
    "# Investigate the length of the snippets\n",
    "n_snippet = {auth: len(snippets) for auth, snippets in act_snippets.items()}\n",
    "\n",
    "print(\"Snippet size by author:\")\n",
    "for auth, num in n_snippet.items():\n",
    "    print(f\"{auth}: {num}\")"
   ]
  },
  {
   "cell_type": "code",
   "execution_count": 18,
   "id": "b4926195",
   "metadata": {},
   "outputs": [],
   "source": [
    "# Create embeddings\n",
    "embeddings_dict = {'Crease': [], 'Begbie': [], 'Act 1884': []}\n",
    "\n",
    "for auth, snippets in act_snippets.items():\n",
    "    for snip in snippets:\n",
    "        v = embed_text(snip, focus_token=keywords, window=15)\n",
    "        embeddings_dict[auth].append(v) "
   ]
  },
  {
   "cell_type": "code",
   "execution_count": 19,
   "id": "bd518f23",
   "metadata": {},
   "outputs": [
    {
     "name": "stdout",
     "output_type": "stream",
     "text": [
      "Cosine similarity between mean Crease and mean Begbie: 0.9897\n",
      "Cosine similarity between mean Crease and mean Act 1884: 0.9696\n",
      "Cosine similarity between mean Begbie and mean Act 1884: 0.9611\n"
     ]
    }
   ],
   "source": [
    "# Compute the pairwise cosine similarity\n",
    "mean_crease = np.mean(embeddings_dict[\"Crease\"], axis=0, keepdims=True)\n",
    "mean_begbie = np.mean(embeddings_dict[\"Begbie\"], axis=0, keepdims=True)\n",
    "mean_act_1884 = np.mean(embeddings_dict[\"Act 1884\"], axis=0, keepdims=True)\n",
    "\n",
    "sim_crease_begbie = cosine_similarity(mean_crease, mean_begbie)[0, 0]\n",
    "sim_crease_act_1884 = cosine_similarity(mean_crease, mean_act_1884)[0, 0]\n",
    "sim_begbie_act_1884 = cosine_similarity(mean_begbie, mean_act_1884)[0, 0]\n",
    "\n",
    "print(f\"Cosine similarity between mean Crease and mean Begbie: {sim_crease_begbie:.4f}\")\n",
    "print(f\"Cosine similarity between mean Crease and mean Act 1884: {sim_crease_act_1884:.4f}\")\n",
    "print(f\"Cosine similarity between mean Begbie and mean Act 1884: {sim_begbie_act_1884:.4f}\")"
   ]
  },
  {
   "cell_type": "code",
   "execution_count": 20,
   "id": "c53f0be0",
   "metadata": {},
   "outputs": [
    {
     "name": "stdout",
     "output_type": "stream",
     "text": [
      "Mean cosine similarity between Crease and Begbie embeddings: 0.8643\n",
      "Mean cosine similarity between Crease and Act 1884 embeddings: 0.8408\n",
      "Mean cosine similarity between Begbie and Act 1884 embeddings: 0.8398\n"
     ]
    }
   ],
   "source": [
    "# Extract embeddings for Crease, Begbie and the Act 1884\n",
    "crease_embeddings = embeddings_dict[\"Crease\"]\n",
    "begbie_embeddings = embeddings_dict[\"Begbie\"]\n",
    "act_1884_embeddings = embeddings_dict[\"Act 1884\"]\n",
    "\n",
    "# Define a function to compute mean cosine similarity\n",
    "def mean_cosine_similarity(embeddings1, embeddings2):\n",
    "    similarities = [\n",
    "        1 - cosine(e1, e2)\n",
    "        for e1 in embeddings1\n",
    "        for e2 in embeddings2\n",
    "    ]\n",
    "    return sum(similarities) / len(similarities)\n",
    "\n",
    "# Extract embeddings\n",
    "crease_emb = embeddings_dict[\"Crease\"]\n",
    "begbie_emb = embeddings_dict[\"Begbie\"]\n",
    "act_1884_emb = embeddings_dict[\"Act 1884\"]\n",
    "\n",
    "# Compute mean similarities\n",
    "crease_begbie_sim = mean_cosine_similarity(crease_emb, begbie_emb)\n",
    "crease_act_sim = mean_cosine_similarity(crease_emb, act_1884_emb)\n",
    "begbie_act_sim = mean_cosine_similarity(begbie_emb, act_1884_emb)\n",
    "\n",
    "# Output\n",
    "print(f\"Mean cosine similarity between Crease and Begbie embeddings: {crease_begbie_sim:.4f}\")\n",
    "print(f\"Mean cosine similarity between Crease and Act 1884 embeddings: {crease_act_sim:.4f}\")\n",
    "print(f\"Mean cosine similarity between Begbie and Act 1884 embeddings: {begbie_act_sim:.4f}\")"
   ]
  },
  {
   "cell_type": "markdown",
   "id": "22d8f9b5",
   "metadata": {},
   "source": [
    "#### Visualizing Text Embeddings"
   ]
  },
  {
   "cell_type": "code",
   "execution_count": 21,
   "id": "08a8c409",
   "metadata": {},
   "outputs": [],
   "source": [
    "all_vecs = np.vstack(embeddings_dict[\"Crease\"] + embeddings_dict[\"Begbie\"] + embeddings_dict[\"Act 1884\"])\n",
    "labels  = ([\"Crease\"] * len(embeddings_dict[\"Crease\"])) + ([\"Begbie\"] * len(embeddings_dict[\"Begbie\"])) + (['Act 1884'] * len(embeddings_dict[\"Act 1884\"]))\n",
    "\n",
    "reducer = umap.UMAP(n_neighbors=15, min_dist=0.1)\n",
    "proj = reducer.fit_transform(all_vecs) \n",
    "\n",
    "def wrap_text(text, width=60):\n",
    "    return '<br>'.join(textwrap.wrap(text, width=width))"
   ]
  },
  {
   "cell_type": "code",
   "execution_count": 22,
   "id": "35574698",
   "metadata": {},
   "outputs": [
    {
     "data": {
      "application/vnd.plotly.v1+json": {
       "config": {
        "plotlyServerURL": "https://plot.ly"
       },
       "data": [
        {
         "customdata": [
          [
           "14th & 15th July, Certiorari—“Chinese Regulation Act, 1884,”<br>s. 5—Constitutionality—B.N.A."
          ],
          [
           "Held, that the “Chinese Regulation Act, 1884,” is ultra<br>vires of the Provincial Legislature, on the following<br>grounds:   1."
          ],
          [
           "It is an infraction of the existing treaties between the<br>Imperial Government and China."
          ],
          [
           "14th & 15th July—On the return of a writ of certiorari<br>directed to Edwin Johnson, Esquire, Police Magistrate for<br>the City of Victoria, to return into this Court a certain<br>conviction made by him under which one Wing Chong was fined<br>$20 for not having in his possession a license issued under<br>the “Chinese Regulation Act, 1884.”    The Attorney-General<br>in support of the conviction said there were five points<br>raised on the rule for the certiorari against the validity<br>of the $10 tax.—1st."
          ],
          [
           "Act, aliens, and naturalization; 2nd."
          ],
          [
           "As to the first point aliens were as much subject to<br>taxation as citizens."
          ],
          [
           "The law did not deal with the conditions under which aliens<br>might acquire rights or become subjects of Her Majesty."
          ],
          [
           "Its object, though not apparent on the face of the Act, was<br>to prevent Chinese coming into the Province and drive out<br>those who had already come."
          ],
          [
           "He reviewed the legislation against Chinese since<br>confederation, contending it was levelled against a<br>particular race of aliens and, therefore, beyond provincial<br>control, per *Gwynne*, J., in *Citizens Insurance Co. v.<br>Parsons*, 4 S. C. R., at p. 346."
          ],
          [
           "If its object were successful and Chinese driven from the<br>country, the customs dues received from the Chinese would be<br>lost and the benefits of trade relations enjoyed by the<br>merchants would be destroyed."
          ],
          [
           "Counsel cited statistics from the Chinese Commission showing<br>the extreme importance, from a fiscal and commercial point<br>of view, of the large number of Chinese in the Province."
          ],
          [
           "Act had alone the right of performing in Canada the<br>obligations of Canada as part of the British Empire in<br>respect of treaties, and although Canada might pass laws<br>prohibiting immigration, or having that tendency, the<br>Province could not do so, nor could it pass laws in<br>derogation of treaties."
          ],
          [
           "334) had decided a special tax could not be imposed on<br>Chinese, a most celebrated Judge, Mr. Justice Field (since<br>elevated to the Federal bench), dissented, and had pointed<br>out that according to federal decisions the State might<br>impose special taxation on alien residents, provided the<br>impost was not levied against foreigners landing in the<br>country."
          ],
          [
           "The tax was not to exclude the Chinese — another statute<br>with that object had been disallowed."
          ],
          [
           "Opponents to the Act might as well contend the exclusion of<br>the Chinese from the franchise, and barring them from<br>acquiring lands, was illegal."
          ],
          [
           "Section 3—with which we are immediately<br>concerned—says:—\"From and after the passage of this Act<br>there shall be payable and \"paid by every Chinese in British<br>Columbia, above the age of fourteen years, unto and for the<br>use of Her Majesty, her heirs and successors, the sum of ten<br>dollars, and thereafter on the 1st day of June in \"each and<br>every year there shall be likewise payable and paid by such<br>\"Chinese person a further sum of ten dollars.\""
          ],
          [
           "4 provides for the appointment and payment of special<br>collectors, \"to be called Chinese collectors, to collect and<br>receive such \"payments from Chinese; and such collector or<br>collectors, immediately upon such payment, shall issue and<br>deliver to the person paying \"the same a licence in the form<br>contained in the schedule hereto.\""
          ],
          [
           "By Sec.”     Section 9.”    Section 10 gives the collector<br>power to “levy the amount of the license from any Chinese<br>not being in lawful possession of a license, “with costs, by<br>distress of his goods and chattels, or of any goods and<br>“chattels which may be in the possession of the delinquent,<br>or which “may be upon or in any premises (whether the goods<br>of the delin- “quent or not) for the time being in the<br>possession or occupation of “such delinquent Chinese,” and<br>declares that “for the purposes of this “section premises<br>shall be deemed to be in the possession or occupa- “tion of<br>any Chinese when it can be shown to the satisfaction of the<br>“tribunal having cognizance of the matter (a) that such<br>Chinese “habitually frequents such premises with the assent<br>of the owner ; “(b) that he is the owner or one of the<br>owners of the premises, or has “control, either alone or<br>jointly, with another or others, of such pre- “mises or some<br>part thereof; (c) that he has passed the night or slept<br>“upon such premises at any time within a week of the levy,<br>it shall “be sufficient authority for the collector to levy<br>as aforesaid on the “non-production of the license."
          ],
          [
           "By section 12 tax collectors are not to allow Chinese to<br>pass unless a license is produced."
          ],
          [
           "Section 13 imposes a penalty of $50 on any person guilty of<br>employing any Chinese not having a license."
          ],
          [
           "14 Fee for free miner’s certificate to a Chinese to be $15,<br>instead of the white man's $5."
          ],
          [
           "Penalty not exceeding $30 for every Chinaman mining without<br>a license.”     Sections 17 and 18 prevent the exhumation of<br>dead bodies without permission, and prohibit the use of<br>opium except for medical purposes."
          ],
          [
           "Section 22 enacts that the tribunal applied to may decide<br>\"on its own view and judgment\" whether any person is a<br>Chinese or 14 years old."
          ],
          [
           "Sections 23, 24 and 25 contain sanitary provisions affecting<br>buildings let to Chinese."
          ],
          [
           "Section 27 places in the hand of the local executive the<br>construction from time to time of further rules and<br>regulations to enforce the Act, and a fitting summary to<br>such a premiss in section 28 reverses all the old law of<br>England and one of the most cherished and priceless<br>safeguards of the freedom from oppression won for us by our<br>forefathers—that no one shall be deemed guilty until he has<br>been proved so—throws on the defendant, white or yellow, the<br>burden of proving that he is exempt from the operation of<br>its arbitrary provisions—and in a tax Act which is in<br>restraint of personal liberty, and opposed to the common law<br>rights of the citizen—for if applicable to aliens it is a<br>fortiori to the temporary inhabitants of the<br>Province—abrogates the hitherto invariable rule in criminal<br>matters and makes it unnecessary in any information, summons<br>or conviction to “state or negotiate any “exception in or<br>exemption under this Act, or in contemplation of “law.”<br>Taught by experience of former efforts in the same<br>direction, section 29 gives one year’s notice of the coming<br>into operation of the Act—a time which has now expired.”<br>The only schedule is the form of license, which runs as<br>follows:—    The question now raised on the construction of<br>this Act affects not only British Columbia, but, as she<br>occupies the only Pacific seaboard of the Dominion,<br>indirectly more or less the very many other Provinces under<br>the flag of confederation."
          ],
          [
           "Act over aliens and naturalization."
          ],
          [
           "Sub-section 2 of section 91 gives to the Dominion Parliament<br>exclusively the regulation of “trade and commerce,” and by<br>sub-section 25 that of “naturalization and aliens,” and<br>everything relating to those subjects as affecting the whole<br>Dominion is within the Dominion powers, and no local<br>Legislature can make any statute interfering with either of<br>those subjects."
          ],
          [
           "Now, applying this test to the statute before us, let us see<br>whether and how far its provisions affect, as is alleged,<br>aliens, or trade, or commerce."
          ],
          [
           "The aliens in this case being Chinese, the first enquiry<br>must be, what is the object of the Act?"
          ],
          [
           "The provisions of the Act I have given somewhat in extenso<br>bear out that view, and the concurrent and previous local<br>legislation bear out the same impression, for on the same<br>day as this Act was passed, another Act was passed, the very<br>object of which was plainly stated to be \"to prevent the<br>immigration\" of Chinese.\""
          ],
          [
           "It interfered with aliens as well as trade and commerce,<br>which cannot subsist among nations without personal<br>intercourse, which such an Act (as far as China was<br>concerned) would have a tendency to prohibit."
          ],
          [
           "Another statute (of 1878), \"An Act to provide for the better<br>collection of taxes from Chinese,\" which contained several<br>of the stringent provisions which I have described in this<br>Act, such as a special tax specially recoverable by summary<br>and unusual remedies from the Chinese alone, in British<br>Columbia, and enforced by fine and imprisonment and other<br>penal clauses, came before this Court, and in a most<br>conscientious and exhaustive judgment of Mr. Justice Gray,<br>of 23rd September, 1878, in the case of Tai Sing v. Maguire,<br>was declared unconstitutional and ultra vires the Local<br>Legislature, as interfering with aliens and trade and<br>commerce—matters reserved exclusively under the 81st section<br>of the B. N. A."
          ],
          [
           "The basis, then, of our enquiry must be: Is this Chinese<br>Regulation Act of 1884—rather the parts of it objected<br>to—within the limit of subjects and area of section 92, or<br>does it exceed those limits in which it is supreme, and<br>interfere with aliens, trade and commerce in such a manner<br>as to encroach on section 91 or any of its sub-sections?"
          ],
          [
           "The power asserted in the Act in question (the California<br>Act) is the right of the State to prescribe the terms upon<br>which the Chinese shall be permitted to reside in it, and be<br>so used as to cut off all intercourse between them and the<br>people of the State, and defeat the commercial policy of the<br>nation."
          ],
          [
           "That the Chinese might be taxed as other residents, but<br>could not be set apart as special objects of the taxation,<br>and be compelled to contribute to the revenue of the State<br>in the character of foreigners."
          ],
          [
           "The reports of the higher California courts are of great<br>authority for us on all Chinese questions, for there have<br>been efforts for years past to restrict Chinese immigration<br>in California, and the matter has been constantly before the<br>superior courts there, and the judges there (if we may take<br>the reports as correct) are more than ordinarily skilled in<br>laying down the law correctly in constitutional points of<br>that nature."
          ],
          [
           "Still both Federal Governments have reserved to themselves<br>the regulation of trade and commerce and naturalization and<br>aliens; so the analogy is so close as to become almost a<br>direct authority."
          ],
          [
           "And again, \"A tax imposed by the law on these persons for<br>the mere right to reside here, is an appropriate and<br>effective means to discourage the immigration of the Chinese<br>into the State.\""
          ],
          [
           "In another California case, *In re Tiburcio Parrott*, it is<br>laid down that if the apparent object of a statute is under<br>a pretense of the exercise of constitutional powers to drive<br>Chinese away, the end sought to be obtained being unlawful,<br>the statute is void."
          ],
          [
           "Legislation as to aliens is reserved to the Dominion."
          ],
          [
           "And as to trade and commerce, if the Chinese be driven out<br>an annual loss to the revenue, it appears by the tables in<br>the Chinese Commission Report, of $110,000 will take place;<br>and more than $1,500,000 of property and business be lost to<br>us, besides an injury to trade to an incalculable extent."
          ],
          [
           "The amount of business transacted by Chinamen in British<br>Columbia, as revealed by the tables in that Chinese Report,<br>is something which a casual observer would have no idea of."
          ],
          [
           "The treaties between Great Britain and China, which bind us,<br>have been quoted."
          ],
          [
           "6, ratified 26th June, 1843, p. 221, and Lord Elgin's treaty<br>of October, 1860, authenticated copies of which were<br>produced in Court, secure to Chinese coming into British<br>dominions the same \"full security for persons and property<br>as subjects of Her Majesty.\""
          ],
          [
           "The treaties I have quoted between Great Britain and China,<br>binding on the Dominion and on us in British Columbia,<br>secure to the Chinese, just as the treaties between Great<br>Britain and other foreign countries secure to other<br>foreigners, the same rights in regard to the equality of<br>taxation which I have described as being enjoyed by citizens<br>of this country."
          ],
          [
           "In the case of the Chinese treaties, they were forced at the<br>point of the bayonet on China, to obtain a right for us to<br>enter China, and in return for a similar permission to us,<br>full permission was given for the Chinese to trade and<br>reside in British dominions everywhere."
          ],
          [
           "In the treaties of 1858 and 1860, made at the solicitation<br>of Great Britain, the Emperor of China was induced to give<br>permission to his subjects to go and trade and reside \"in<br>British Colonies,\" and to enter into \"engagements with<br>British subjects for that purpose.\""
          ],
          [
           "The same provisions that apply to Chinese may be made to<br>apply also to Americans, Frenchmen, Germans, or any other<br>foreigners."
          ],
          [
           "The Act is found associated with another Act now disallowed,<br>the express object of which is to prevent the Chinese<br>altogether from coming to this country, and the principle<br>\"noscitur a sociis\" is kept up by the preamble of the<br>present Act, which describes the Chinese in terms which, I<br>venture to think, have never before in any other country<br>found a place in an Act of Parliament."
          ],
          [
           "Every person of Chinese origin, whether naturalized in Hong<br>Kong or America, or any other State with which we are at<br>amity, so long as they are of Chinese origin, 14 years of<br>age—every one without distinction—must take out a license."
          ],
          [
           "However difficult or impossible for any Chinese to find a<br>district collector, if such Chinese is \"found without a<br>license he is liable to a fine of $40.\""
          ],
          [
           "It is impossible but that such an imposition so enforced, in<br>addition to all the general taxes to which he is subject,<br>should make this country too hot for him to live in; and<br>just in proportion as he is so persecuted out of the<br>country, in that degree does this enactment interfere with<br>trade and commerce and that control over aliens exclusively<br>given to the Dominion."
          ],
          [
           "Every employé of Chinese labour, whether English, American,<br>or what not, is made liable to severe and incessant<br>liability of a penal kind, for what?"
          ],
          [
           "No; an act or default of a stranger, a man whose language he<br>knows not, and for every infraction of the Act by the<br>Chinese under his employ."
          ],
          [
           "The palpable object of such a provision, or set of<br>provisions, is to render the employment of Chinese so<br>distasteful and annoying to the employer that he must cease<br>to employ them."
          ],
          [
           "What is that but interfering with aliens, trade, and<br>commerce?"
          ],
          [
           "If a man employ a Chinaman who should happen to be<br>delinquent in his tax, and he happens to occupy a cottage or<br>room of his employer, with his master's goods in it, under<br>section 10 they are liable to seizure and sale."
          ],
          [
           "In other words, every Chinese is guilty until proved<br>innocent—a provision which fills one conversant with<br>subjects with alarm; for if such a law can be tolerated as<br>against Chinese, the precedent is set, and in time of any<br>popular outcry can easily be acted on for putting any other<br>foreigners or even special classes among ourselves, as<br>coloured people, or French, Italians, Americans, or Germans,<br>under equally the same law."
          ],
          [
           "That certainly is interfering with aliens."
          ],
          [
           "The whole Act teems with special provisions which affect not<br>only Chinese, but their employers, with obligations and<br>liabilities as to the conduct of the Chinese in their<br>employ, that no reasonable man would encounter, and run the<br>risk of the penal consequences which the Act hangs over him."
          ],
          [
           "It is enough to add that \"any person,\" no matter whether<br>white or Chinese, imprisoned in respect of any infraction of<br>the provisions of the Act, may be at the will of the<br>executive, subjected even to hard labour."
          ],
          [
           "The Act is so full of provisions that interfere directly<br>with aliens, with trade, and with commerce, that I have no<br>hesitation in pronouncing all such provisions, and among<br>them those under which the appellant in this case has been<br>convicted, to be ultra vires the local legislature, and<br>consequently illegal and void."
          ],
          [
           "So far, I have dealt with the Act on its own merits; but if<br>we consider it in juxtaposition to the Dominion Act recently<br>passed restricting the Chinese throughout all Canada, its<br>illegality becomes transparent; for in passing that Act<br>against the Chinese the Dominion has spoken by the highest<br>authority which it possesses—its own Parliament."
          ],
          [
           "By the Constitutional Act the subject of aliens, we have<br>seen, is specially reserved to the Dominion, and it is now<br>an axiom, in the interpretation of that Act, that when that<br>authority deals with a subject expressly included in its<br>jurisdiction by the 91st section, it has possession of that<br>subject exclusively, and the Province has to give way."
          ],
          [
           "It is a great assumption of power on the part of a Province<br>to pass laws, the effect of which must be practically to<br>expel a particular class of aliens from that Province, to<br>say in effect that it will by its legislation impede or<br>prevent that class from being employed in another<br>Province—say the North-west Territory or Manitoba—where<br>railway works may be languishing for want of that very class<br>of labourers, British Columbia being the only sea-board of<br>Canada on the Pacific through which (in face of the<br>restrictive laws of the United States) that class of<br>labourers can enter and pass through; that is, in fact,<br>legislating on all inter-provincial immigration; in other<br>words, such legislation is ultra vires, and so I pronounce<br>it; and adjudge accordingly, and quash the conviction, with<br>costs."
          ],
          [
           "Action of trespass against the Medical Health Officer of the<br>City of Victoria for causing the plaintiff, one of a number<br>of Chinamen, who landed at Victoria in a steamer last from<br>Hong Kong in China, to be removed to the \"Suspect Station\"<br>and there detained and subjected to cleansing process under<br>colour of Sec."
          ],
          [
           "The only evidence of Hong Kong being a place infected, etc.,<br>was that of a medical man resident in Victoria, who said<br>\"That in China small pox was endemic, because there<br>inoculation was the universal practice."
          ],
          [
           "That there was danger of infection from white passengers,<br>but not the same danger as from Chinamen.\""
          ],
          [
           "CREASE, J.: This was a test action to try whether Chinamen<br>have the same rights as other foreigners in landing here on<br>their advent from China."
          ],
          [
           "The occasion was the arrival of the Empress of China at the<br>Outer Wharf, which is within the city limits of Victoria, on<br>the 1st day of May, 1894, from China and Hongkong."
          ],
          [
           "The action is one nominally rather than really, for damages<br>against Dr. George Duncan, the Health Officer of the City of<br>Victoria, on account of an alleged excess of duty in<br>despatching en masse, without examination or enquiry, a<br>number of Chinamen out to the suspect station at Ross Bay,<br>there to be disinfected and scrubbed."
          ],
          [
           "The Chinamen had already been examined on board the ship by<br>the Dominion Quarantine Officers and Provincial officers and<br>passed."
          ],
          [
           "Disregarding the white men, who had come at the same time<br>from the same place and in the same ship and presumably<br>subject to some of the same unsanitary influences, though<br>not to the same extent as the Chinese, without any reason<br>for special suspicion, without inspecting or attempting to<br>inspect a single man, (that had already been done<br>individually by the Dominion Quarantine Officers) he orders<br>them into the custody of his constables to be taken out to<br>the suspect station at Ross Bay, there to be washed and<br>disinfected and scrubbed."
          ],
          [
           "The plaintiff and other Chinamen similarly situated obtained<br>a writ of Habeas Corpus, upon which they were discharged<br>from this custody."
          ],
          [
           "Thereupon the present action was brought to test if and how<br>far Chinamen are to be treated, when they land on our<br>shores, differently from other foreigners."
          ],
          [
           "The grounds alleged by the Health Officer for this arbitrary<br>treatment is “that China is an infected locality,” and all<br>persons coming from China and especially in this instance<br>Hongkong, and especially also the natives of China, come<br>from an infected locality, and that he has that authority<br>under the Health By-Law, 1893, which was passed at the time<br>of the small pox panic in Victoria, and, in all he did, was<br>simply doing his duty."
          ],
          [
           "The case was tried before a jury upon the issue whether<br>Hongkong, the last port the steamer left in China, was or<br>not “an infected locality.” To prove that Hongkong was such,<br>Dr. Davie was placed in the witness box as an expert."
          ],
          [
           "He considered “China the home of small pox,” and that it was<br>“an infected place”; that, in China, small pox was<br>“endemic,” i.e., always there; because there “inoculation”<br>was the universal practice and was a constant source of<br>danger; that in England and Europe and America, generally,<br>vaccination, of late years, has been the rule."
          ],
          [
           "He thought that too close a scrutiny could not be made of<br>Chinese passengers."
          ],
          [
           "That small pox must have been in China on the 19th April<br>last, the date when the Empress left Hongkong, as it was<br>always there."
          ],
          [
           "He had no opinion to express as to the British possession of<br>Hongkong; but it was a portion of China, where small pox was<br>always, in a sense, \"endemic.\""
          ],
          [
           "There was danger of infection from white passengers, but not<br>the same danger as from Chinamen."
          ],
          [
           "It was his opinion that every one should be examined who<br>comes from China or from any \"infected port.\""
          ],
          [
           "When asked the question, \"Would you allow Chinamen to land<br>and go into the city?\""
          ],
          [
           "The Chinese are chiefly dressed in woollen materials and<br>these harbour infection for weeks and months."
          ],
          [
           "There were several other diseases to be guarded against from<br>China, e.g., cholera, leprosy, etc."
          ],
          [
           "(Here I observe that from first to last no mention was made<br>of the black plague, which has carried off so many thousands<br>of Chinese in Hongkong; and it appeared that during the<br>passage from China to Victoria, which presumably lasted over<br>the ordinary period of inoculation, no case of small pox<br>appeared on board the Empress, and that she showed a clean<br>bill of health.)"
          ],
          [
           "Now this assumes, as Dr. Davie assumed, that Hongkong,<br>although a British port and subject to quarantine<br>regulations, was (which includes the time of the steamer's<br>departure) and is a cradle of small pox, and that every ship<br>coming thence to Victoria, especially with Chinese on board,<br>should be subject to the most searching examination, and the<br>drastic treatment I have described."
          ],
          [
           "He does not include Japanese in the same category as<br>Chinese."
          ],
          [
           "His duty was, if he considered the Empress of China came<br>from \"an infected locality,\" at once to go on board the<br>suspected vessel and make his examination and inspection on<br>board the vessel (as Section 32 says), \"before any luggage,<br>freight or other thing is landed or allowed to be landed.\""
          ],
          [
           "It goes further and shews that the only person to be \"dealt<br>with in such manner as the Medical Health City Officer shall<br>direct\" is \"any infected or exposed person from on board,\"<br>under none of which categories do the plaintiff or other<br>Chinamen, seized and carted off on this occasion, happen to<br>come."
          ],
          [
           "It is shewn that he did not personally examine a single<br>Chinaman or inquire if he was “an infected or exposed<br>person.” In a matter affecting the public health, it is<br>quite natural, and everyone would expect that officers who<br>are armed with extensive sanitary powers, should confer<br>together and assist one another in carrying out the law, and<br>work well together for the public good and safety."
          ],
          [
           "But it should be understood that these exceptional powers<br>are a great trust placed in the hands of the Health Officer<br>to meet such cases as I have described, and at all times to<br>be administered with firmness, judgment and discretion—not<br>under any fear of infection unwarranted by the facts of the<br>case which may enter into the mind of the Health Officer, or<br>to be carried out by carting off en masse to the suspect<br>station all who hail from China or Hongkong without<br>examination or enquiry."
          ]
         ],
         "hovertemplate": "Author=Crease<br>UMAP 1=%{x}<br>UMAP 2=%{y}<br>Text=%{customdata[0]}<extra></extra>",
         "legendgroup": "Crease",
         "marker": {
          "color": "#636efa",
          "size": 5,
          "symbol": "circle"
         },
         "mode": "markers",
         "name": "Crease",
         "orientation": "v",
         "showlegend": true,
         "type": "scatter",
         "x": {
          "bdata": "GiasQR+eq0FgIKFBBTeSQWk2qUHD3pZBQuecQbH6n0FADKBBFIKaQXTtlkGduaFBO+KYQXyjmUEJEJ9BtcmPQTh4j0Gu9pBBBQqOQd6VjEFk04tBg7KMQfKxlEFihphBtjajQaqXpkGJ1qdBud6lQTqOo0FJKaVBGSujQbOppEGUp6ZBwbilQdhZnEETlqBBXvSkQb+hoEHKeKZBVn6jQR0bn0E+hpRB7hGgQSeYnkGCD59BQ++aQbdunEHYQJZB5BihQSH7k0E+kYtBuV2mQUhDmUHUdJxBikOgQcADpkEkoYlBYg6dQXhmpUHtfJ5B96mZQRoLpkGrVaNBm4aoQZTYpUGrXZNBCluNQfc4i0FLT5NBrCCVQeypkUHYF5NB6tiOQWIGm0EpNptBQjyRQdjlj0GjBoxBE+CNQbXekkH7Z49B/DyMQfAbjUEEf5RBLuaXQZbyjEHgapFBQ8aQQXkvlEEAqY5BUKqQQSFhjEHP7JBB",
          "dtype": "f4"
         },
         "xaxis": "x",
         "y": {
          "bdata": "c8k8QVubP0HOeSxBpydiQRjOMkHjUkBBilw1QUwQOUEgMzxBTzMwQVA5NUEArTVB2jw6QbvKP0Fo6zFBkMBxQbxjeUHv1W9B90pSQTmlVkGRhVZBNZFcQdoHUEE99DpB7mNUQbQeMEG0P0tBgrQ/QU2ARkEhSkpBCfY5QVk5V0FzVkVBifxSQQ8pPUF8lD9BceY4QdqiQ0E8Z0xB8JcxQSIkR0Hu6DBBOl4qQRQuJ0HGHyhBty4pQZoAJ0HKZz1B2UhDQX6gS0Gk92FBF5g+QfaLVUGI+FVBdz5WQY5LOkEWG2VBm+1UQUhIMkEgSFlBexpbQT4CRUFMxz5BZeU9QTdMTkGzpB5BWxMrQU8dLEGOFEFBzTMjQXW5GkElWR9Bt+obQWaGSUF4xEZBEGwxQS1WJ0H39SZBM6g1QeEpJ0Gw6ylBTTwwQS7lMUEjsURB6JAtQfM+L0FMXCNBqRweQRfIO0H4QyRBoLIZQfssJEEALxtB",
          "dtype": "f4"
         },
         "yaxis": "y"
        },
        {
         "customdata": [
          [
           "(5) If it appears that a tax is not bona fide within the<br>purpose provided for, but is imposed with the real purpose<br>of discriminating against a class, it is not within the<br>justification of the enabling statute, and, on the facts,<br>the tax in question was intended not for the purpose of<br>raising a revenue, but as a restriction on the Chinese."
          ],
          [
           "Indeed if no restriction whatever be placed on the word \"<br>other\" in that section; if the Provincial Legislature can<br>insist upon imposing licenses upon everything and upon every<br>act of life, and tax each licensee at any moment they<br>please, there would be a very simple way of excluding every<br>Chinaman from the Province, by imposing a universal tax, not<br>limited to any nationality, of one or two thousand dollars<br>per annum for a license to Judgment."
          ],
          [
           "No Chinaman will shave the back of his head; no true moujik<br>will shave his chin."
          ],
          [
           "I rather think that the auctioneers would repudiate this<br>alleged similarity of their occupation to that of a Chinese<br>washerman."
          ],
          [
           "assing Chinamen, supposed to be the only persons carrying on<br>this industry."
          ],
          [
           "If the object of the Provincial Statute be as alleged, viz.,<br>Feb. 3.  to subject Chinamen to exceptional disadvantages it<br>is clearly unconstitutional."
          ],
          [
           "G. to the report of the recent Chinese Conmission, p. 379,<br>and by Mr. Justice CREASE in Wing Chong's case, 1 B.C.R."
          ],
          [
           "Justices FIELD, HOFFMAN, SAWYER and DEADY and other Judges<br>whom they cite, all confirm this, that a State, or<br>Provincial law imposing special disabilities or unequal<br>burdens on Chinamen is unconstitutional and void."
          ],
          [
           "Statutes were by their title and preamble  expressly aimed<br>at Chinamen by name; that this distinction also renders<br>inapplicable all the United States' cases cited; that this<br>enactment is quite general extending to all laundries<br>without exception and we must not look beyond the words of<br>the enactment to enquire what its object was; that there is<br>in fact one laundry in Victoria not conducted by Chinamen on<br>which the tax will fall with equal force so that it is<br>impossible to say that Chinamen are hereby exclusively<br>selected for taxation; the circumstance that they are<br>chiefly affected being a mere coincidence; that the bylaw<br>only imposes $100.00 per annum, keeping far within the limit<br>of $150.00 permitted by the Statute; that the tax clearly is<br>calculated to procuring additional Municipal revenue and<br>that no other object is hinted at."
          ],
          [
           "I, for my part, cannot arrive at any other conclusion than<br>that it is specially directed against Chinamen because they<br>are Chinamen and for no other Judgment."
          ],
          [
           "The appellants' contention that the clause is merely<br>intended to hamper or expel Chinamen is much strengthened by<br>considering the amount of the tax sanctioned, which is<br>$150.00 per annum, whereas the limit sanctioned by the<br>Legislature in the case of any retail shop, however<br>extensive or lucrative its business, is only $10.00 per<br>annum."
          ],
          [
           "The test is whether on the whole statute the Legislature can<br>fairly be held to have said : \"Let us impose a tax in order<br>to raise a revenue, though perhaps it may fall on Chinamen,\"<br>or \" let us impose this tax in order to fall on Chinamen,<br>though perhaps it will raise no revenue.\""
          ],
          [
           "When we find (1st) no other description of labour taxed at<br>all ; (2nd) this description of labour practically quite<br>abandoned to Chinamen alone ; (3rd) this description of<br>labour taxed at fifteen times the rate permitted to be<br>levied on any retail shop ; (4th) that a preliminary<br>Provincial Act has declared Chinamen incapable of the<br>franchise which they formerly exercised."
          ],
          [
           "I cannot doubt but that the tax is directed against<br>Chinamen, as such."
          ],
          [
           "It is not competent to the Provincial Legislature, or to a<br>municipality, to deprive, generally, particular<br>nationalities or individuals of the capacity to take out<br>municipal trade licenses ; e. g., a Chinaman has a right to<br>apply for a pawnbroker's license."
          ],
          [
           "Application for a mandamus to the Corporation of the City of<br>Victoria to compel the renewal to the prosecutors (Chinamen)<br>of a pawnbroker's license."
          ],
          [
           "It is alleged by the prosecution, and not denied, that the<br>Council have in fact ordered the Collector to issue no<br>pawnbroking license to any Chinaman."
          ],
          [
           "In the French colony of Cayenne, the Town Council recently<br>handicapped the superior capacities of the Chinaman by<br>imposing on merchants of that empire an extra tax of $300<br>per annum, deeming it also expedient to handicap English and<br>German traders by a surtax of $200 on them."
          ]
         ],
         "hovertemplate": "Author=Begbie<br>UMAP 1=%{x}<br>UMAP 2=%{y}<br>Text=%{customdata[0]}<extra></extra>",
         "legendgroup": "Begbie",
         "marker": {
          "color": "#EF553B",
          "size": 5,
          "symbol": "circle"
         },
         "mode": "markers",
         "name": "Begbie",
         "orientation": "v",
         "showlegend": true,
         "type": "scatter",
         "x": {
          "bdata": "QVajQcOAoUF3WpFBzlSRQeSZkUFcaqtBIbieQTbUqUFGjZ1BSjCZQRS/n0ElcaBBq1ecQUSYmEHFDoxBMHaMQdjQjEFnjJpB",
          "dtype": "f4"
         },
         "xaxis": "x",
         "y": {
          "bdata": "sGBMQdQjTkHKhk1BHjs9Qa24OkE96ENBa5w6QQ+HR0GtzExBUBxLQVyMSkHFqk5B2wNAQSYaSEFJXUhBSetFQeKjRkHIeztB",
          "dtype": "f4"
         },
         "yaxis": "y"
        },
        {
         "customdata": [
          [
           "An Act to regulate the Chinese population of British<br>Columbia."
          ],
          [
           "WHEREAS the incoming of Chinese to British Columbia largely<br>exceeds that of any other class of immigrant, and the<br>population so introduced are fast becoming superior in<br>number to our own race; are not disposed to be governed by<br>our laws; are dissimilar in habits and occupation from our<br>people; evade the payment of taxes justly due to the<br>Government; are governed by pestilential habits; are useless<br>in instances of emergency; habitually desecrate grave yards<br>by the removal of bodies therefrom; and generally the laws<br>governing the whites are found to be inapplicable to<br>Chinese, and such Chinese are inclined to habits subversive<br>of the comfort and well-being of the community:    And<br>whereas it is expedient to pass special laws for the<br>Government of Chinese:    Therefore, Her Majesty, by and<br>with the advice and consent of the Legislative Assembly of<br>the Province of British Columbia, enacts as follows:—    1."
          ],
          [
           "This Act shall be cited as the \"Chinese Regulation Act,<br>1884.\""
          ],
          [
           "The term \"Chinese\" wherever used in this Act shall mean any<br>native of the Chinese Empire or its dependencies not born of<br>British parents, and shall include any person of the Chinese<br>race."
          ],
          [
           "From and after the passage of this Act there shall be<br>payable and paid by every Chinese in British Columbia, above<br>the age of fourteen years, unto and for the use of Her<br>Majesty, Her heirs and successors, the sum of ten dollars,<br>and thereafter on the 1st day of June in each and every year<br>there shall be likewise payable and paid by such Chinese<br>person a further sum of ten dollars."
          ],
          [
           "The Lieutenant-Governor in Council shall immediately upon<br>the passage of this Act, and from time to time thereafter as<br>occasion may require, appoint in each electoral district,<br>one or more person or persons to be called Chinese<br>Collectors, to collect and receive such payments from<br>Chinese, and such Collector or Collectors immediately upon<br>such payment shall issue and deliver to the person paying<br>the same a licence in the form contained in the Schedule<br>hereto, and the Lieutenant-Governor in Council may require<br>from the Collectors so to be appointed such security as he<br>may see fit and may allow them such percentage upon the<br>amount of collections as may seem reasonable and just, and<br>the Lieutenant-Governor in Council may further allow such<br>additional sum by way of expenses as may be necessary and<br>reasonable for the purpose of carrying out the provisions of<br>this Act."
          ],
          [
           "Any Chinese who shall be found within the Province not<br>having in his possession a licence issued under the<br>provisions of this Act, lawfully issued to him, shall on<br>conviction thereof forfeit and pay a sum not exceeding forty<br>dollars."
          ],
          [
           "Every Collector shall collect the tax from each Chinese, and<br>shall as soon afterwards as may be pay over the amount to<br>the Officer in charge of the Treasury, or to such other<br>person as the Lieutenant-Governor in Council may from time<br>to time direct."
          ],
          [
           "Every employer of Chinese shall furnish to the Collector,<br>when requested by him so to do, from time to time, a list of<br>all Chinese in his employ, or indirectly employed by him;<br>but no such statement shall bind the Collector, nor shall<br>excuse him from making due enquiry to ascertain its<br>correctness."
          ],
          [
           "In case any employer of Chinese fails to deliver to the<br>Collector the list mentioned in the preceding section, when<br>required so to do, or knowingly states anything falsely<br>therein, such employer shall, on complaint of the Collector<br>and upon conviction before a Justice of the Peace having<br>jurisdiction within the district wherein such employer<br>carries on his business, forfeit and pay a fine not<br>exceeding one hundred dollars for every Chinese in his<br>employ, to be recovered by distress of the goods and<br>chattels of such employer failing to pay the same, or in<br>lieu thereof shall be liable to imprisonment for a period<br>not less than one month and not exceeding two calendar<br>months."
          ],
          [
           "The Collector may, by himself or his agent, levy the amount<br>of the licence from any Chinese not being in lawful<br>possession of a licence, with costs, by distress of his<br>goods and chattels, or of any goods and chattels which may<br>be in the possession of the delinquent, or which may be upon<br>or in any premises (whether the goods of the delinquent or<br>not) for the time being in the possession or occupation of<br>such delinquent Chinese, and for the purposes of this<br>section premises shall be deemed to be in the possession or<br>occupation of any Chinese when it can be shewn to the<br>satisfaction of the tribunal having cognizance of the<br>matter—    (a.)"
          ],
          [
           "That such Chinese habitually frequents such premises with<br>the assent of the owner."
          ],
          [
           "Every employer of Chinese shall demand from every such<br>Licence to be demanded by employer and retained during the<br>service."
          ],
          [
           "Chinese in his employ his licence, and shall retain the same<br>in his possession during the time such Chinese is in his<br>employ, and shall return the same to him when he leaves his<br>service; and every employer as aforesaid shall produce to<br>the Collector, whenever required so to do, such licence for<br>his inspection."
          ],
          [
           "The Toll Collector at any and every toll gate which may<br>exist in the Province from time to time, shall, before<br>allowing any Chinese to pass through any toll gate, demand<br>from such Chinese the production of his licence, and, until<br>the same is produced, such Chinese shall not be allowed to<br>proceed through the toll gate."
          ],
          [
           "It shall be unlawful for any person to employ any Chinese<br>who has not in his possession the licence required by this<br>Act, and any person guilty of an infraction of the<br>provisions of this section shall forfeit and pay a fine not<br>exceeding fifty dollars for every Chinese so employed."
          ],
          [
           "The sum payable by a Chinese for a free miner’s certificate<br>shall be fifteen dollars for each year during which the same<br>is to be in force instead of five dollars, as by the present<br>mining laws provided, and no free miner’s certificate shall<br>hereafter be issued to any Chinese except upon payment of<br>the said sum of fifteen dollars."
          ],
          [
           "Any Chinese who shall be found mining for gold and precious<br>metals, or following the ordinary occupation of a free<br>miner, whether on his own account or for others, without<br>having in his possession a free miner’s certificate,<br>lawfully issued to him subsequently to the passage of this<br>Act, and any person who shall employ any Chinese in and<br>about gold mining who has not in his possession such a<br>certificate, shall forfeit and pay a sum not exceeding<br>thirty dollars."
          ],
          [
           "of the Schedule A to the “Licences Ordinance, 1867,” is<br>hereby amended by adding thereto the following words: “but<br>no licence shall be issued to any Chinese.”    17."
          ],
          [
           "Without the permission in writing of the Provincial<br>Secretary or Government Agent of the district or place where<br>the permission is sought it shall be unlawful to remove the<br>remains of any dead Chinese from any cemetery or place where<br>such dead Chinese may have been interred, or to exhume the<br>bodies or remains of any dead Chinese, and any person guilty<br>of an infraction of this section shall forfeit and pay a sum<br>not exceeding one hundred dollars."
          ],
          [
           "No conviction for any offence shall be quashed for want of<br>form, and no conviction shall be removed into any of Her<br>Majesty’s Courts by certiorari or reviewed in any manner,<br>except by appeal in manner hereinafter stated, that is to<br>say: Any Chinese convicted of an offence against the<br>provisions of this Act may appeal to the County Court<br>nearest to the place of conviction, provided he shall,<br>within four days after such conviction, have given notice in<br>writing to the convicting Magistrate of his intention to<br>appeal, and shall have furnished security in the sum of one<br>hundred dollars, conditioned to abide by the decision of the<br>appellate Court, and shall have also deposited with the<br>convicting Magistrate a sum of money sufficient in the<br>opinion of such Magistrate to pay the costs and expenses of<br>a jury to try such appeal, and such appeal shall be heard<br>and tried before the County Court, with or without a jury of<br>five, at the option of the parties, and notwithstanding any<br>defect in the proceedings, the appeal shall be heard and<br>decided on the merits, and if the conviction be affirmed the<br>appellant shall be punished according to the conviction, and<br>shall pay the costs of the appeal, and if the appeal be<br>allowed, it shall be lawful for the Lieutenant-Governor in<br>Council to issue his warrant to the Treasurer for the<br>repayment to the appellant of the money paid by him for jury<br>process."
          ],
          [
           "Any Chinese who shall lend his licence or free miner’s<br>certificate to another Chinese, and any Chinese who shall<br>utter or pass off upon any Collector or other person any<br>licence or free miner’s certificate other than his own, with<br>intent himself to avoid payment of the licence fee payable<br>under this Act, (and the onus of proving that such was not<br>his intent, shall rest upon the person charged), shall<br>forfeit and pay a penalty of not less than twenty dollars<br>nor more than one hundred dollars."
          ],
          [
           "The tribunal having cognizance of any matter under the<br>provisions of this Act may decide, upon its own view and<br>judgment, whether any person is a Chinese, and whether any<br>person found by the Court to be a Chinese be of the age of<br>fourteen years."
          ],
          [
           "This Act may be cited as the \"Chinese Regulation Act, 1884.\""
          ]
         ],
         "hovertemplate": "Author=Act 1884<br>UMAP 1=%{x}<br>UMAP 2=%{y}<br>Text=%{customdata[0]}<extra></extra>",
         "legendgroup": "Act 1884",
         "marker": {
          "color": "#00cc96",
          "size": 5,
          "symbol": "circle"
         },
         "mode": "markers",
         "name": "Act 1884",
         "orientation": "v",
         "showlegend": true,
         "type": "scatter",
         "x": {
          "bdata": "cRqkQX6GnkGFKKxBE5GWQfwbj0E0jo9BYFOJQYB/jkG00Y1BsymMQRs9kUFFeI5B202NQUEJjUF2wItB1/6LQXp8jUFqrYlBrkCOQcn7iUGslZJBzM6JQQldlEE6kKxB",
          "dtype": "f4"
         },
         "xaxis": "x",
         "y": {
          "bdata": "tMMsQWksVUGYzjJB6C5PQZiodEEPpndBc85rQYKXeEHgAXdBtYNzQVqnckGy0EFB+CFkQaBnbkHHxHBBmSBsQcUAbUEuVnBBvONXQYU+cUFDmm9BoXJtQRjhV0GIajNB",
          "dtype": "f4"
         },
         "yaxis": "y"
        }
       ],
       "layout": {
        "height": 500,
        "legend": {
         "title": {
          "text": "Author"
         },
         "tracegroupgap": 0
        },
        "margin": {
         "t": 60
        },
        "template": {
         "data": {
          "bar": [
           {
            "error_x": {
             "color": "#2a3f5f"
            },
            "error_y": {
             "color": "#2a3f5f"
            },
            "marker": {
             "line": {
              "color": "#E5ECF6",
              "width": 0.5
             },
             "pattern": {
              "fillmode": "overlay",
              "size": 10,
              "solidity": 0.2
             }
            },
            "type": "bar"
           }
          ],
          "barpolar": [
           {
            "marker": {
             "line": {
              "color": "#E5ECF6",
              "width": 0.5
             },
             "pattern": {
              "fillmode": "overlay",
              "size": 10,
              "solidity": 0.2
             }
            },
            "type": "barpolar"
           }
          ],
          "carpet": [
           {
            "aaxis": {
             "endlinecolor": "#2a3f5f",
             "gridcolor": "white",
             "linecolor": "white",
             "minorgridcolor": "white",
             "startlinecolor": "#2a3f5f"
            },
            "baxis": {
             "endlinecolor": "#2a3f5f",
             "gridcolor": "white",
             "linecolor": "white",
             "minorgridcolor": "white",
             "startlinecolor": "#2a3f5f"
            },
            "type": "carpet"
           }
          ],
          "choropleth": [
           {
            "colorbar": {
             "outlinewidth": 0,
             "ticks": ""
            },
            "type": "choropleth"
           }
          ],
          "contour": [
           {
            "colorbar": {
             "outlinewidth": 0,
             "ticks": ""
            },
            "colorscale": [
             [
              0,
              "#0d0887"
             ],
             [
              0.1111111111111111,
              "#46039f"
             ],
             [
              0.2222222222222222,
              "#7201a8"
             ],
             [
              0.3333333333333333,
              "#9c179e"
             ],
             [
              0.4444444444444444,
              "#bd3786"
             ],
             [
              0.5555555555555556,
              "#d8576b"
             ],
             [
              0.6666666666666666,
              "#ed7953"
             ],
             [
              0.7777777777777778,
              "#fb9f3a"
             ],
             [
              0.8888888888888888,
              "#fdca26"
             ],
             [
              1,
              "#f0f921"
             ]
            ],
            "type": "contour"
           }
          ],
          "contourcarpet": [
           {
            "colorbar": {
             "outlinewidth": 0,
             "ticks": ""
            },
            "type": "contourcarpet"
           }
          ],
          "heatmap": [
           {
            "colorbar": {
             "outlinewidth": 0,
             "ticks": ""
            },
            "colorscale": [
             [
              0,
              "#0d0887"
             ],
             [
              0.1111111111111111,
              "#46039f"
             ],
             [
              0.2222222222222222,
              "#7201a8"
             ],
             [
              0.3333333333333333,
              "#9c179e"
             ],
             [
              0.4444444444444444,
              "#bd3786"
             ],
             [
              0.5555555555555556,
              "#d8576b"
             ],
             [
              0.6666666666666666,
              "#ed7953"
             ],
             [
              0.7777777777777778,
              "#fb9f3a"
             ],
             [
              0.8888888888888888,
              "#fdca26"
             ],
             [
              1,
              "#f0f921"
             ]
            ],
            "type": "heatmap"
           }
          ],
          "histogram": [
           {
            "marker": {
             "pattern": {
              "fillmode": "overlay",
              "size": 10,
              "solidity": 0.2
             }
            },
            "type": "histogram"
           }
          ],
          "histogram2d": [
           {
            "colorbar": {
             "outlinewidth": 0,
             "ticks": ""
            },
            "colorscale": [
             [
              0,
              "#0d0887"
             ],
             [
              0.1111111111111111,
              "#46039f"
             ],
             [
              0.2222222222222222,
              "#7201a8"
             ],
             [
              0.3333333333333333,
              "#9c179e"
             ],
             [
              0.4444444444444444,
              "#bd3786"
             ],
             [
              0.5555555555555556,
              "#d8576b"
             ],
             [
              0.6666666666666666,
              "#ed7953"
             ],
             [
              0.7777777777777778,
              "#fb9f3a"
             ],
             [
              0.8888888888888888,
              "#fdca26"
             ],
             [
              1,
              "#f0f921"
             ]
            ],
            "type": "histogram2d"
           }
          ],
          "histogram2dcontour": [
           {
            "colorbar": {
             "outlinewidth": 0,
             "ticks": ""
            },
            "colorscale": [
             [
              0,
              "#0d0887"
             ],
             [
              0.1111111111111111,
              "#46039f"
             ],
             [
              0.2222222222222222,
              "#7201a8"
             ],
             [
              0.3333333333333333,
              "#9c179e"
             ],
             [
              0.4444444444444444,
              "#bd3786"
             ],
             [
              0.5555555555555556,
              "#d8576b"
             ],
             [
              0.6666666666666666,
              "#ed7953"
             ],
             [
              0.7777777777777778,
              "#fb9f3a"
             ],
             [
              0.8888888888888888,
              "#fdca26"
             ],
             [
              1,
              "#f0f921"
             ]
            ],
            "type": "histogram2dcontour"
           }
          ],
          "mesh3d": [
           {
            "colorbar": {
             "outlinewidth": 0,
             "ticks": ""
            },
            "type": "mesh3d"
           }
          ],
          "parcoords": [
           {
            "line": {
             "colorbar": {
              "outlinewidth": 0,
              "ticks": ""
             }
            },
            "type": "parcoords"
           }
          ],
          "pie": [
           {
            "automargin": true,
            "type": "pie"
           }
          ],
          "scatter": [
           {
            "fillpattern": {
             "fillmode": "overlay",
             "size": 10,
             "solidity": 0.2
            },
            "type": "scatter"
           }
          ],
          "scatter3d": [
           {
            "line": {
             "colorbar": {
              "outlinewidth": 0,
              "ticks": ""
             }
            },
            "marker": {
             "colorbar": {
              "outlinewidth": 0,
              "ticks": ""
             }
            },
            "type": "scatter3d"
           }
          ],
          "scattercarpet": [
           {
            "marker": {
             "colorbar": {
              "outlinewidth": 0,
              "ticks": ""
             }
            },
            "type": "scattercarpet"
           }
          ],
          "scattergeo": [
           {
            "marker": {
             "colorbar": {
              "outlinewidth": 0,
              "ticks": ""
             }
            },
            "type": "scattergeo"
           }
          ],
          "scattergl": [
           {
            "marker": {
             "colorbar": {
              "outlinewidth": 0,
              "ticks": ""
             }
            },
            "type": "scattergl"
           }
          ],
          "scattermap": [
           {
            "marker": {
             "colorbar": {
              "outlinewidth": 0,
              "ticks": ""
             }
            },
            "type": "scattermap"
           }
          ],
          "scattermapbox": [
           {
            "marker": {
             "colorbar": {
              "outlinewidth": 0,
              "ticks": ""
             }
            },
            "type": "scattermapbox"
           }
          ],
          "scatterpolar": [
           {
            "marker": {
             "colorbar": {
              "outlinewidth": 0,
              "ticks": ""
             }
            },
            "type": "scatterpolar"
           }
          ],
          "scatterpolargl": [
           {
            "marker": {
             "colorbar": {
              "outlinewidth": 0,
              "ticks": ""
             }
            },
            "type": "scatterpolargl"
           }
          ],
          "scatterternary": [
           {
            "marker": {
             "colorbar": {
              "outlinewidth": 0,
              "ticks": ""
             }
            },
            "type": "scatterternary"
           }
          ],
          "surface": [
           {
            "colorbar": {
             "outlinewidth": 0,
             "ticks": ""
            },
            "colorscale": [
             [
              0,
              "#0d0887"
             ],
             [
              0.1111111111111111,
              "#46039f"
             ],
             [
              0.2222222222222222,
              "#7201a8"
             ],
             [
              0.3333333333333333,
              "#9c179e"
             ],
             [
              0.4444444444444444,
              "#bd3786"
             ],
             [
              0.5555555555555556,
              "#d8576b"
             ],
             [
              0.6666666666666666,
              "#ed7953"
             ],
             [
              0.7777777777777778,
              "#fb9f3a"
             ],
             [
              0.8888888888888888,
              "#fdca26"
             ],
             [
              1,
              "#f0f921"
             ]
            ],
            "type": "surface"
           }
          ],
          "table": [
           {
            "cells": {
             "fill": {
              "color": "#EBF0F8"
             },
             "line": {
              "color": "white"
             }
            },
            "header": {
             "fill": {
              "color": "#C8D4E3"
             },
             "line": {
              "color": "white"
             }
            },
            "type": "table"
           }
          ]
         },
         "layout": {
          "annotationdefaults": {
           "arrowcolor": "#2a3f5f",
           "arrowhead": 0,
           "arrowwidth": 1
          },
          "autotypenumbers": "strict",
          "coloraxis": {
           "colorbar": {
            "outlinewidth": 0,
            "ticks": ""
           }
          },
          "colorscale": {
           "diverging": [
            [
             0,
             "#8e0152"
            ],
            [
             0.1,
             "#c51b7d"
            ],
            [
             0.2,
             "#de77ae"
            ],
            [
             0.3,
             "#f1b6da"
            ],
            [
             0.4,
             "#fde0ef"
            ],
            [
             0.5,
             "#f7f7f7"
            ],
            [
             0.6,
             "#e6f5d0"
            ],
            [
             0.7,
             "#b8e186"
            ],
            [
             0.8,
             "#7fbc41"
            ],
            [
             0.9,
             "#4d9221"
            ],
            [
             1,
             "#276419"
            ]
           ],
           "sequential": [
            [
             0,
             "#0d0887"
            ],
            [
             0.1111111111111111,
             "#46039f"
            ],
            [
             0.2222222222222222,
             "#7201a8"
            ],
            [
             0.3333333333333333,
             "#9c179e"
            ],
            [
             0.4444444444444444,
             "#bd3786"
            ],
            [
             0.5555555555555556,
             "#d8576b"
            ],
            [
             0.6666666666666666,
             "#ed7953"
            ],
            [
             0.7777777777777778,
             "#fb9f3a"
            ],
            [
             0.8888888888888888,
             "#fdca26"
            ],
            [
             1,
             "#f0f921"
            ]
           ],
           "sequentialminus": [
            [
             0,
             "#0d0887"
            ],
            [
             0.1111111111111111,
             "#46039f"
            ],
            [
             0.2222222222222222,
             "#7201a8"
            ],
            [
             0.3333333333333333,
             "#9c179e"
            ],
            [
             0.4444444444444444,
             "#bd3786"
            ],
            [
             0.5555555555555556,
             "#d8576b"
            ],
            [
             0.6666666666666666,
             "#ed7953"
            ],
            [
             0.7777777777777778,
             "#fb9f3a"
            ],
            [
             0.8888888888888888,
             "#fdca26"
            ],
            [
             1,
             "#f0f921"
            ]
           ]
          },
          "colorway": [
           "#636efa",
           "#EF553B",
           "#00cc96",
           "#ab63fa",
           "#FFA15A",
           "#19d3f3",
           "#FF6692",
           "#B6E880",
           "#FF97FF",
           "#FECB52"
          ],
          "font": {
           "color": "#2a3f5f"
          },
          "geo": {
           "bgcolor": "white",
           "lakecolor": "white",
           "landcolor": "#E5ECF6",
           "showlakes": true,
           "showland": true,
           "subunitcolor": "white"
          },
          "hoverlabel": {
           "align": "left"
          },
          "hovermode": "closest",
          "mapbox": {
           "style": "light"
          },
          "paper_bgcolor": "white",
          "plot_bgcolor": "#E5ECF6",
          "polar": {
           "angularaxis": {
            "gridcolor": "white",
            "linecolor": "white",
            "ticks": ""
           },
           "bgcolor": "#E5ECF6",
           "radialaxis": {
            "gridcolor": "white",
            "linecolor": "white",
            "ticks": ""
           }
          },
          "scene": {
           "xaxis": {
            "backgroundcolor": "#E5ECF6",
            "gridcolor": "white",
            "gridwidth": 2,
            "linecolor": "white",
            "showbackground": true,
            "ticks": "",
            "zerolinecolor": "white"
           },
           "yaxis": {
            "backgroundcolor": "#E5ECF6",
            "gridcolor": "white",
            "gridwidth": 2,
            "linecolor": "white",
            "showbackground": true,
            "ticks": "",
            "zerolinecolor": "white"
           },
           "zaxis": {
            "backgroundcolor": "#E5ECF6",
            "gridcolor": "white",
            "gridwidth": 2,
            "linecolor": "white",
            "showbackground": true,
            "ticks": "",
            "zerolinecolor": "white"
           }
          },
          "shapedefaults": {
           "line": {
            "color": "#2a3f5f"
           }
          },
          "ternary": {
           "aaxis": {
            "gridcolor": "white",
            "linecolor": "white",
            "ticks": ""
           },
           "baxis": {
            "gridcolor": "white",
            "linecolor": "white",
            "ticks": ""
           },
           "bgcolor": "#E5ECF6",
           "caxis": {
            "gridcolor": "white",
            "linecolor": "white",
            "ticks": ""
           }
          },
          "title": {
           "x": 0.05
          },
          "xaxis": {
           "automargin": true,
           "gridcolor": "white",
           "linecolor": "white",
           "ticks": "",
           "title": {
            "standoff": 15
           },
           "zerolinecolor": "white",
           "zerolinewidth": 2
          },
          "yaxis": {
           "automargin": true,
           "gridcolor": "white",
           "linecolor": "white",
           "ticks": "",
           "title": {
            "standoff": 15
           },
           "zerolinecolor": "white",
           "zerolinewidth": 2
          }
         }
        },
        "title": {
         "text": "UMAP Projection of Word Embeddings by Author"
        },
        "width": 800,
        "xaxis": {
         "anchor": "y",
         "domain": [
          0,
          1
         ],
         "title": {
          "text": "UMAP 1"
         }
        },
        "yaxis": {
         "anchor": "x",
         "domain": [
          0,
          1
         ],
         "title": {
          "text": "UMAP 2"
         }
        }
       }
      }
     },
     "metadata": {},
     "output_type": "display_data"
    }
   ],
   "source": [
    "umap_df = pd.DataFrame(proj, columns=['UMAP 1', 'UMAP 2'])\n",
    "umap_df['Author'] = labels\n",
    "umap_df['Text'] = [snip for auth in act_snippets for snip in act_snippets[auth]]\n",
    "umap_df['Text'] = umap_df['Text'].apply(lambda t: wrap_text(t, width=60))\n",
    "\n",
    "fig = px.scatter(umap_df, x='UMAP 1', y='UMAP 2', \n",
    "                 color='Author', hover_data=['Text'], \n",
    "                 width=800, height=500 )\n",
    "fig.update_traces(marker=dict(size=5))\n",
    "fig.update_layout(title='UMAP Projection of Word Embeddings by Author')\n",
    "fig.show()"
   ]
  },
  {
   "cell_type": "markdown",
   "id": "e618c514",
   "metadata": {},
   "source": [
    "#### Investigating Texts"
   ]
  },
  {
   "cell_type": "code",
   "execution_count": 23,
   "id": "517841da",
   "metadata": {},
   "outputs": [
    {
     "name": "stdout",
     "output_type": "stream",
     "text": [
      "Top 10 most similar sentences to Crease's mean embedding:\n",
      "\n",
      "Author: Crease\n",
      "Sentence: The Act is found associated with another Act now disallowed, the express object of which is to\n",
      "prevent the Chinese altogether from coming to this country, and the principle \"noscitur a sociis\" is\n",
      "kept up by the preamble of the present Act, which describes the Chinese in terms which, I venture to\n",
      "think, have never before in any other country found a place in an Act of Parliament.\n",
      "Similarity Score: 0.9643\n",
      "\n",
      "Author: Crease\n",
      "Sentence: In the case of the Chinese treaties, they were forced at the point of the bayonet on China, to\n",
      "obtain a right for us to enter China, and in return for a similar permission to us, full permission\n",
      "was given for the Chinese to trade and reside in British dominions everywhere.\n",
      "Similarity Score: 0.9622\n",
      "\n",
      "Author: Crease\n",
      "Sentence: Another statute (of 1878), \"An Act to provide for the better collection of taxes from Chinese,\"\n",
      "which contained several of the stringent provisions which I have described in this Act, such as a\n",
      "special tax specially recoverable by summary and unusual remedies from the Chinese alone, in British\n",
      "Columbia, and enforced by fine and imprisonment and other penal clauses, came before this Court, and\n",
      "in a most conscientious and exhaustive judgment of Mr. Justice Gray, of 23rd September, 1878, in the\n",
      "case of Tai Sing v. Maguire, was declared unconstitutional and ultra vires the Local Legislature, as\n",
      "interfering with aliens and trade and commerce—matters reserved exclusively under the 81st section\n",
      "of the B. N. A.\n",
      "Similarity Score: 0.9621\n",
      "\n",
      "Author: Begbie\n",
      "Sentence: Statutes were by their title and preamble  expressly aimed at Chinamen by name; that this\n",
      "distinction also renders inapplicable all the United States' cases cited; that this enactment is\n",
      "quite general extending to all laundries without exception and we must not look beyond the words of\n",
      "the enactment to enquire what its object was; that there is in fact one laundry in Victoria not\n",
      "conducted by Chinamen on which the tax will fall with equal force so that it is impossible to say\n",
      "that Chinamen are hereby exclusively selected for taxation; the circumstance that they are chiefly\n",
      "affected being a mere coincidence; that the bylaw only imposes $100.00 per annum, keeping far within\n",
      "the limit of $150.00 permitted by the Statute; that the tax clearly is calculated to procuring\n",
      "additional Municipal revenue and that no other object is hinted at.\n",
      "Similarity Score: 0.9618\n",
      "\n",
      "Author: Crease\n",
      "Sentence: The grounds alleged by the Health Officer for this arbitrary treatment is “that China is an infected\n",
      "locality,” and all persons coming from China and especially in this instance Hongkong, and\n",
      "especially also the natives of China, come from an infected locality, and that he has that authority\n",
      "under the Health By-Law, 1893, which was passed at the time of the small pox panic in Victoria, and,\n",
      "in all he did, was simply doing his duty.\n",
      "Similarity Score: 0.9605\n",
      "\n",
      "Author: Crease\n",
      "Sentence: So far, I have dealt with the Act on its own merits; but if we consider it in juxtaposition to the\n",
      "Dominion Act recently passed restricting the Chinese throughout all Canada, its illegality becomes\n",
      "transparent; for in passing that Act against the Chinese the Dominion has spoken by the highest\n",
      "authority which it possesses—its own Parliament.\n",
      "Similarity Score: 0.9590\n",
      "\n",
      "Author: Crease\n",
      "Sentence: Opponents to the Act might as well contend the exclusion of the Chinese from the franchise, and\n",
      "barring them from acquiring lands, was illegal.\n",
      "Similarity Score: 0.9572\n",
      "\n",
      "Author: Begbie\n",
      "Sentence: When we find (1st) no other description of labour taxed at all ; (2nd) this description of labour\n",
      "practically quite abandoned to Chinamen alone ; (3rd) this description of labour taxed at fifteen\n",
      "times the rate permitted to be levied on any retail shop ; (4th) that a preliminary Provincial Act\n",
      "has declared Chinamen incapable of the franchise which they formerly exercised.\n",
      "Similarity Score: 0.9571\n",
      "\n",
      "Author: Crease\n",
      "Sentence: Still both Federal Governments have reserved to themselves the regulation of trade and commerce and\n",
      "naturalization and aliens; so the analogy is so close as to become almost a direct authority.\n",
      "Similarity Score: 0.9568\n",
      "\n",
      "Author: Crease\n",
      "Sentence: The whole Act teems with special provisions which affect not only Chinese, but their employers, with\n",
      "obligations and liabilities as to the conduct of the Chinese in their employ, that no reasonable man\n",
      "would encounter, and run the risk of the penal consequences which the Act hangs over him.\n",
      "Similarity Score: 0.9565\n",
      "\n"
     ]
    }
   ],
   "source": [
    "# Print out the 10 most similar embedding sentences to Crease's mean embedding\n",
    "\n",
    "crease_similarity_df = pd.DataFrame(columns=['Author', 'Text', 'Similarity Score'])\n",
    "\n",
    "# Iterate through the embeddings and their corresponding sentences\n",
    "for auth, snippets in act_snippets.items():\n",
    "    for snippet, emb in zip(snippets, embeddings_dict[auth]):\n",
    "        similarity = cosine_similarity(emb.reshape(1, -1), mean_crease)[0][0]\n",
    "        crease_similarity_df.loc[len(crease_similarity_df)] = [auth, snippet, similarity]\n",
    "        \n",
    "# Sort by similarity score\n",
    "crease_sorted_similarity = crease_similarity_df.sort_values(by='Similarity Score', ascending=False)\n",
    "\n",
    "print(\"Top 10 most similar sentences to Crease's mean embedding:\\n\")\n",
    "for _, row in crease_sorted_similarity.head(10).iterrows():\n",
    "    wrapped_para = textwrap.fill(row['Text'], width=100)\n",
    "    print(f\"Author: {row['Author']}\\nSentence: {wrapped_para}\\nSimilarity Score: {row['Similarity Score']:.4f}\\n\")"
   ]
  },
  {
   "cell_type": "code",
   "execution_count": 24,
   "id": "2a157afa",
   "metadata": {},
   "outputs": [
    {
     "name": "stdout",
     "output_type": "stream",
     "text": [
      "Top 10 most similar sentences to Begbie's mean embedding:\n",
      "\n",
      "Author: Begbie\n",
      "Sentence: Statutes were by their title and preamble  expressly aimed at Chinamen by name; that this\n",
      "distinction also renders inapplicable all the United States' cases cited; that this enactment is\n",
      "quite general extending to all laundries without exception and we must not look beyond the words of\n",
      "the enactment to enquire what its object was; that there is in fact one laundry in Victoria not\n",
      "conducted by Chinamen on which the tax will fall with equal force so that it is impossible to say\n",
      "that Chinamen are hereby exclusively selected for taxation; the circumstance that they are chiefly\n",
      "affected being a mere coincidence; that the bylaw only imposes $100.00 per annum, keeping far within\n",
      "the limit of $150.00 permitted by the Statute; that the tax clearly is calculated to procuring\n",
      "additional Municipal revenue and that no other object is hinted at.\n",
      "Similarity Score: 0.9653\n",
      "\n",
      "Author: Begbie\n",
      "Sentence: When we find (1st) no other description of labour taxed at all ; (2nd) this description of labour\n",
      "practically quite abandoned to Chinamen alone ; (3rd) this description of labour taxed at fifteen\n",
      "times the rate permitted to be levied on any retail shop ; (4th) that a preliminary Provincial Act\n",
      "has declared Chinamen incapable of the franchise which they formerly exercised.\n",
      "Similarity Score: 0.9642\n",
      "\n",
      "Author: Begbie\n",
      "Sentence: In the French colony of Cayenne, the Town Council recently handicapped the superior capacities of\n",
      "the Chinaman by imposing on merchants of that empire an extra tax of $300 per annum, deeming it also\n",
      "expedient to handicap English and German traders by a surtax of $200 on them.\n",
      "Similarity Score: 0.9578\n",
      "\n",
      "Author: Crease\n",
      "Sentence: The Act is found associated with another Act now disallowed, the express object of which is to\n",
      "prevent the Chinese altogether from coming to this country, and the principle \"noscitur a sociis\" is\n",
      "kept up by the preamble of the present Act, which describes the Chinese in terms which, I venture to\n",
      "think, have never before in any other country found a place in an Act of Parliament.\n",
      "Similarity Score: 0.9564\n",
      "\n",
      "Author: Begbie\n",
      "Sentence: The appellants' contention that the clause is merely intended to hamper or expel Chinamen is much\n",
      "strengthened by considering the amount of the tax sanctioned, which is $150.00 per annum, whereas\n",
      "the limit sanctioned by the Legislature in the case of any retail shop, however extensive or\n",
      "lucrative its business, is only $10.00 per annum.\n",
      "Similarity Score: 0.9549\n",
      "\n",
      "Author: Crease\n",
      "Sentence: So far, I have dealt with the Act on its own merits; but if we consider it in juxtaposition to the\n",
      "Dominion Act recently passed restricting the Chinese throughout all Canada, its illegality becomes\n",
      "transparent; for in passing that Act against the Chinese the Dominion has spoken by the highest\n",
      "authority which it possesses—its own Parliament.\n",
      "Similarity Score: 0.9539\n",
      "\n",
      "Author: Begbie\n",
      "Sentence: Indeed if no restriction whatever be placed on the word \" other\" in that section; if the Provincial\n",
      "Legislature can insist upon imposing licenses upon everything and upon every act of life, and tax\n",
      "each licensee at any moment they please, there would be a very simple way of excluding every\n",
      "Chinaman from the Province, by imposing a universal tax, not limited to any nationality, of one or\n",
      "two thousand dollars per annum for a license to Judgment.\n",
      "Similarity Score: 0.9537\n",
      "\n",
      "Author: Crease\n",
      "Sentence: 334) had decided a special tax could not be imposed on Chinese, a most celebrated Judge, Mr. Justice\n",
      "Field (since elevated to the Federal bench), dissented, and had pointed out that according to\n",
      "federal decisions the State might impose special taxation on alien residents, provided the impost\n",
      "was not levied against foreigners landing in the country.\n",
      "Similarity Score: 0.9533\n",
      "\n",
      "Author: Crease\n",
      "Sentence: Another statute (of 1878), \"An Act to provide for the better collection of taxes from Chinese,\"\n",
      "which contained several of the stringent provisions which I have described in this Act, such as a\n",
      "special tax specially recoverable by summary and unusual remedies from the Chinese alone, in British\n",
      "Columbia, and enforced by fine and imprisonment and other penal clauses, came before this Court, and\n",
      "in a most conscientious and exhaustive judgment of Mr. Justice Gray, of 23rd September, 1878, in the\n",
      "case of Tai Sing v. Maguire, was declared unconstitutional and ultra vires the Local Legislature, as\n",
      "interfering with aliens and trade and commerce—matters reserved exclusively under the 81st section\n",
      "of the B. N. A.\n",
      "Similarity Score: 0.9510\n",
      "\n",
      "Author: Crease\n",
      "Sentence: CREASE, J.: This was a test action to try whether Chinamen have the same rights as other foreigners\n",
      "in landing here on their advent from China.\n",
      "Similarity Score: 0.9497\n",
      "\n"
     ]
    }
   ],
   "source": [
    "# Print out the 10 most similar embedding sentences to Begbie's mean embedding\n",
    "\n",
    "begbie_similarity_df = pd.DataFrame(columns=['Author', 'Text', 'Similarity Score'])\n",
    "\n",
    "# Iterate through the embeddings and their corresponding sentences\n",
    "for auth, snippets in act_snippets.items():\n",
    "    for snippet, emb in zip(snippets, embeddings_dict[auth]):\n",
    "        similarity = cosine_similarity(emb.reshape(1, -1), mean_begbie)[0][0]\n",
    "        begbie_similarity_df.loc[len(begbie_similarity_df)] = [auth, snippet, similarity]\n",
    "        \n",
    "# Sort by similarity score\n",
    "begbie_sorted_similarity = begbie_similarity_df.sort_values(by='Similarity Score', ascending=False)\n",
    "\n",
    "print(\"Top 10 most similar sentences to Begbie's mean embedding:\\n\")\n",
    "for _, row in begbie_sorted_similarity.head(10).iterrows():\n",
    "    wrapped_para = textwrap.fill(row['Text'], width=100)\n",
    "    print(f\"Author: {row['Author']}\\nSentence: {wrapped_para}\\nSimilarity Score: {row['Similarity Score']:.4f}\\n\")"
   ]
  },
  {
   "cell_type": "code",
   "execution_count": 25,
   "id": "d0496301",
   "metadata": {},
   "outputs": [
    {
     "name": "stdout",
     "output_type": "stream",
     "text": [
      "Top 10 most similar sentences to the Regulation Act's mean embedding:\n",
      "\n",
      "Author: Act 1884\n",
      "Sentence: In case any employer of Chinese fails to deliver to the Collector the list mentioned in the\n",
      "preceding section, when required so to do, or knowingly states anything falsely therein, such\n",
      "employer shall, on complaint of the Collector and upon conviction before a Justice of the Peace\n",
      "having jurisdiction within the district wherein such employer carries on his business, forfeit and\n",
      "pay a fine not exceeding one hundred dollars for every Chinese in his employ, to be recovered by\n",
      "distress of the goods and chattels of such employer failing to pay the same, or in lieu thereof\n",
      "shall be liable to imprisonment for a period not less than one month and not exceeding two calendar\n",
      "months.\n",
      "Similarity Score: 0.9662\n",
      "\n",
      "Author: Act 1884\n",
      "Sentence: The Toll Collector at any and every toll gate which may exist in the Province from time to time,\n",
      "shall, before allowing any Chinese to pass through any toll gate, demand from such Chinese the\n",
      "production of his licence, and, until the same is produced, such Chinese shall not be allowed to\n",
      "proceed through the toll gate.\n",
      "Similarity Score: 0.9622\n",
      "\n",
      "Author: Act 1884\n",
      "Sentence: It shall be unlawful for any person to employ any Chinese who has not in his possession the licence\n",
      "required by this Act, and any person guilty of an infraction of the provisions of this section shall\n",
      "forfeit and pay a fine not exceeding fifty dollars for every Chinese so employed.\n",
      "Similarity Score: 0.9620\n",
      "\n",
      "Author: Act 1884\n",
      "Sentence: Any Chinese who shall be found mining for gold and precious metals, or following the ordinary\n",
      "occupation of a free miner, whether on his own account or for others, without having in his\n",
      "possession a free miner’s certificate, lawfully issued to him subsequently to the passage of this\n",
      "Act, and any person who shall employ any Chinese in and about gold mining who has not in his\n",
      "possession such a certificate, shall forfeit and pay a sum not exceeding thirty dollars.\n",
      "Similarity Score: 0.9602\n",
      "\n",
      "Author: Act 1884\n",
      "Sentence: The sum payable by a Chinese for a free miner’s certificate shall be fifteen dollars for each year\n",
      "during which the same is to be in force instead of five dollars, as by the present mining laws\n",
      "provided, and no free miner’s certificate shall hereafter be issued to any Chinese except upon\n",
      "payment of the said sum of fifteen dollars.\n",
      "Similarity Score: 0.9558\n",
      "\n",
      "Author: Crease\n",
      "Sentence: By Sec.”     Section 9.”    Section 10 gives the collector power to “levy the amount of the license\n",
      "from any Chinese not being in lawful possession of a license, “with costs, by distress of his goods\n",
      "and chattels, or of any goods and “chattels which may be in the possession of the delinquent, or\n",
      "which “may be upon or in any premises (whether the goods of the delin- “quent or not) for the time\n",
      "being in the possession or occupation of “such delinquent Chinese,” and declares that “for the\n",
      "purposes of this “section premises shall be deemed to be in the possession or occupa- “tion of any\n",
      "Chinese when it can be shown to the satisfaction of the “tribunal having cognizance of the matter\n",
      "(a) that such Chinese “habitually frequents such premises with the assent of the owner ; “(b) that\n",
      "he is the owner or one of the owners of the premises, or has “control, either alone or jointly, with\n",
      "another or others, of such pre- “mises or some part thereof; (c) that he has passed the night or\n",
      "slept “upon such premises at any time within a week of the levy, it shall “be sufficient authority\n",
      "for the collector to levy as aforesaid on the “non-production of the license.\n",
      "Similarity Score: 0.9557\n",
      "\n",
      "Author: Crease\n",
      "Sentence: However difficult or impossible for any Chinese to find a district collector, if such Chinese is\n",
      "\"found without a license he is liable to a fine of $40.\"\n",
      "Similarity Score: 0.9538\n",
      "\n",
      "Author: Act 1884\n",
      "Sentence: Any Chinese who shall be found within the Province not having in his possession a licence issued\n",
      "under the provisions of this Act, lawfully issued to him, shall on conviction thereof forfeit and\n",
      "pay a sum not exceeding forty dollars.\n",
      "Similarity Score: 0.9506\n",
      "\n",
      "Author: Act 1884\n",
      "Sentence: The Lieutenant-Governor in Council shall immediately upon the passage of this Act, and from time to\n",
      "time thereafter as occasion may require, appoint in each electoral district, one or more person or\n",
      "persons to be called Chinese Collectors, to collect and receive such payments from Chinese, and such\n",
      "Collector or Collectors immediately upon such payment shall issue and deliver to the person paying\n",
      "the same a licence in the form contained in the Schedule hereto, and the Lieutenant-Governor in\n",
      "Council may require from the Collectors so to be appointed such security as he may see fit and may\n",
      "allow them such percentage upon the amount of collections as may seem reasonable and just, and the\n",
      "Lieutenant-Governor in Council may further allow such additional sum by way of expenses as may be\n",
      "necessary and reasonable for the purpose of carrying out the provisions of this Act.\n",
      "Similarity Score: 0.9488\n",
      "\n",
      "Author: Crease\n",
      "Sentence: 4 provides for the appointment and payment of special collectors, \"to be called Chinese collectors,\n",
      "to collect and receive such \"payments from Chinese; and such collector or collectors, immediately\n",
      "upon such payment, shall issue and deliver to the person paying \"the same a licence in the form\n",
      "contained in the schedule hereto.\"\n",
      "Similarity Score: 0.9488\n",
      "\n"
     ]
    }
   ],
   "source": [
    "# Print out the 10 most similar embedding sentences to the Regulation Act's mean embedding\n",
    "\n",
    "regulation_similarity_df = pd.DataFrame(columns=['Author', 'Text', 'Similarity Score'])\n",
    "\n",
    "# Iterate through the embeddings and their corresponding sentences\n",
    "for auth, snippets in act_snippets.items():\n",
    "    for snippet, emb in zip(snippets, embeddings_dict[auth]):\n",
    "        similarity = cosine_similarity(emb.reshape(1, -1), mean_act_1884)[0][0]\n",
    "        regulation_similarity_df.loc[len(regulation_similarity_df)] = [auth, snippet, similarity]\n",
    "        \n",
    "# Sort by similarity score\n",
    "regulation_sorted_similarity = regulation_similarity_df.sort_values(by='Similarity Score', ascending=False)\n",
    "\n",
    "print(\"Top 10 most similar sentences to the Regulation Act's mean embedding:\\n\")\n",
    "for _, row in regulation_sorted_similarity.head(10).iterrows():\n",
    "    wrapped_para = textwrap.fill(row['Text'], width=100)\n",
    "    print(f\"Author: {row['Author']}\\nSentence: {wrapped_para}\\nSimilarity Score: {row['Similarity Score']:.4f}\\n\")"
   ]
  },
  {
   "cell_type": "markdown",
   "id": "5d15c320",
   "metadata": {},
   "source": [
    "### Topic Mining and Alignment Analysis"
   ]
  },
  {
   "cell_type": "markdown",
   "id": "cab14dac",
   "metadata": {},
   "source": [
    "### LLM and Zero-Shot Classification "
   ]
  },
  {
   "cell_type": "markdown",
   "id": "6976cefb",
   "metadata": {},
   "source": [
    "### Conclusion"
   ]
  },
  {
   "cell_type": "markdown",
   "id": "81d6cf1c",
   "metadata": {},
   "source": [
    "### References\n",
    "\n",
    "1. *Regina v. Wing Chong*, 1 B.C.R. Pt. II 150 (1885). \n",
    "2. *Wong Hoy Woon v. Duncan*, 3 B.C.R. 318 (1894). \n",
    "3. *Regina v. Mee Wah*, 3 B.C.R. 403 (1886).\n",
    "4. *Regina v. Corporation of Victoria*, 1 B.C.R. Pt. II 331 (1888). \n",
    "5. *Quong Wing v. The King*, 49 S.C.R. 440 (1914). \n",
    "6. Law Society of British Columbia. (1896). *The British Columbia Reports: Being reports of cases determined in the Supreme and County Courts and in Admiralty and on appeal in the Full Court and Divisional Court* (Vol. 3). Victoria, BC: The Province Publishing Company.\n",
    "7. Canada. Royal Commission on Chinese Immigration. (1885). *Report of the Royal Commission on Chinese Immigration: report and evidence*. Ottawa: Printed by order of the Commission. \n",
    "8. Thomas, P. (2012, June 12–14). Courts of last resort: The judicialization of Asian Canadian politics 1878 to 1913. Paper presented at the Annual Conference of the Canadian Political Science Association, University of Alberta, Edmonton, Canada. Retrieved from <https://cpsa-acsp.ca/papers-2012/Thomas-Paul.pdf> \n",
    "9. McLaren, J. P. S. (1991). The Early British Columbia Supreme Court and the \"Chinese Question\": Echoes of the rule of law. Manitoba Law Journal, 20(1), 107–147. Retrieved from <https://www.canlii.org/w/canlii/1991CanLIIDocs168.pdf> \n",
    "10. Chalkidis, I., Fergadiotis, M., Malakasiotis, P., Aletras, N., & Androutsopoulos, I. (2020). LEGAL-BERT: The Muppets straight out of Law School (arXiv:2010.02559). arXiv. <https://doi.org/10.48550/arXiv.2010.02559>\n",
    "11. Loo, T. (1994). Crease, Sir Henry Pering Pellew. In Dictionary of Canadian Biography (Vol. 13). University of Toronto/Université Laval. Retrieved August 8, 2025, from <https://www.biographi.ca/en/bio/crease_henry_pering_pellew_13E.html> \n",
    "12. Williams, D. R. (1990). Begbie, Sir Matthew Baillie. In Dictionary of Canadian Biography (Vol. 12). University of Toronto/Université Laval. Retrieved August 8, 2025, from <https://www.biographi.ca/en/bio/begbie_matthew_baillie_12E.html> \n",
    "13. Ariai, F., Mackenzie, J., & De Martini, G. (2025). *Natural Language Processing for the legal domain: A survey of tasks, datasets, models and challenges*. arXiv preprint arXiv:2410.21306."
   ]
  }
 ],
 "metadata": {
  "kernelspec": {
   "display_name": "Python 3",
   "language": "python",
   "name": "python3"
  },
  "language_info": {
   "codemirror_mode": {
    "name": "ipython",
    "version": 3
   },
   "file_extension": ".py",
   "mimetype": "text/x-python",
   "name": "python",
   "nbconvert_exporter": "python",
   "pygments_lexer": "ipython3",
   "version": "3.12.5"
  }
 },
 "nbformat": 4,
 "nbformat_minor": 5
}
