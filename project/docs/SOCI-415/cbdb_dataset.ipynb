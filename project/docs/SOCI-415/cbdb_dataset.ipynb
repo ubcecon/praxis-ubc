{
 "cells": [
  {
   "cell_type": "markdown",
   "metadata": {},
   "source": [
    "---\n",
    "title: SOCI 415 Network Analysis - CBDB Dataset\n",
    "date: '2025-06-12'\n",
    "description: This notebook is an introduction to basic network analysis in Python.\n",
    "categories:\n",
    "  - Python\n",
    "  - network analysis\n",
    "format:\n",
    "  html: default\n",
    "  ipynb:\n",
    "    jupyter:\n",
    "      kernelspec:\n",
    "        display_name: Python\n",
    "        language: python3\n",
    "        name: python3\n",
    "---\n",
    "\n",
    "The China Biographical Database Abstract:  The China Biographical Database is a freely accessible relational database with biographical information about approximately 641,568 individuals as of August 2024, currently mainly from the 7th through 19th centuries. With both online and offline versions, the data is meant to be useful for statistical, social network, and spatial analysis as well as serving as a kind of biographical reference. The image below shows the spatial distribution of a cross dynastic subset of 190,000 people in CBDB by basic affiliations\n",
    "\n",
    "\n",
    "Display values within the dataset"
   ]
  },
  {
   "cell_type": "code",
   "execution_count": 1,
   "metadata": {},
   "outputs": [
    {
     "name": "stdout",
     "output_type": "stream",
     "text": [
      "Tables in database: [('ADDR_BELONGS_DATA',), ('ADDR_CODES',), ('ADDR_PLACE_DATA',), ('ADDR_XY',), ('ADDRESSES',), ('ALTNAME_CODES',), ('ALTNAME_DATA',), ('APPOINTMENT_CODE_TYPE_REL',), ('APPOINTMENT_CODES',), ('APPOINTMENT_TYPES',), ('ASSOC_CODE_TYPE_REL',), ('ASSOC_CODES',), ('ASSOC_DATA',), ('ASSOC_TYPES',), ('ASSUME_OFFICE_CODES',), ('BIOG_ADDR_CODES',), ('BIOG_ADDR_DATA',), ('BIOG_INST_CODES',), ('BIOG_INST_DATA',), ('BIOG_MAIN',), ('BIOG_SOURCE_DATA',), ('BIOG_TEXT_DATA',), ('CHORONYM_CODES',), ('Copy Of CopyTables',), ('CopyMissingTables',), ('CopyTables',), ('CopyTablesDefault',), ('COUNTRY_CODES',), ('DATABASE_LINK_CODES',), ('DATABASE_LINK_DATA',), ('DYNASTIES',), ('ENTRY_CODE_TYPE_REL',), ('ENTRY_CODES',), ('ENTRY_DATA',), ('ENTRY_TYPES',), ('ETHNICITY_TRIBE_CODES',), ('EVENT_CODES',), ('EVENTS_ADDR',), ('EVENTS_DATA',), ('EXTANT_CODES',), ('ForeignKeys',), ('FormLabels',), ('GANZHI_CODES',), ('HOUSEHOLD_STATUS_CODES',), ('INDEXYEAR_TYPE_CODES',), ('KIN_DATA',), ('KIN_Mourning',), ('KIN_MOURNING_STEPS',), ('KINSHIP_CODES',), ('LITERARYGENRE_CODES',), ('MEASURE_CODES',), ('NIAN_HAO',), ('OCCASION_CODES',), ('OFFICE_CATEGORIES',), ('OFFICE_CODE_TYPE_REL',), ('OFFICE_CODES',), ('OFFICE_CODES_CONVERSION',), ('OFFICE_TYPE_TREE',), ('OFFICE_TYPE_TREE_backup',), ('PARENTAL_STATUS_CODES',), ('PLACE_CODES',), ('POSSESSION_ACT_CODES',), ('POSSESSION_ADDR',), ('POSSESSION_DATA',), ('POSTED_TO_ADDR_DATA',), ('POSTED_TO_OFFICE_DATA',), ('POSTING_DATA',), ('SCHOLARLYTOPIC_CODES',), ('SOCIAL_INSTITUTION_ADDR',), ('SOCIAL_INSTITUTION_ADDR_TYPES',), ('SOCIAL_INSTITUTION_ALTNAME_CODES',), ('SOCIAL_INSTITUTION_ALTNAME_DATA',), ('SOCIAL_INSTITUTION_CODES',), ('SOCIAL_INSTITUTION_CODES_CONVERSION',), ('SOCIAL_INSTITUTION_NAME_CODES',), ('SOCIAL_INSTITUTION_TYPES',), ('STATUS_CODE_TYPE_REL',), ('STATUS_CODES',), ('STATUS_DATA',), ('STATUS_TYPES',), ('TablesFields',), ('TablesFieldsChanges',), ('TEXT_BIBLCAT_CODE_TYPE_REL',), ('TEXT_BIBLCAT_CODES',), ('TEXT_BIBLCAT_TYPES',), ('TEXT_CODES',), ('TEXT_INSTANCE_DATA',), ('TEXT_ROLE_CODES',), ('TEXT_TYPE',), ('TMP_INDEX_YEAR',), ('YEAR_RANGE_CODES',)]\n"
     ]
    }
   ],
   "source": [
    "import sqlite3\n",
    "import pandas as pd\n",
    "\n",
    "db_path = r'/arc/project/st-lknelson-1/alexr951/git/data/latest.db'\n",
    "conn = sqlite3.connect(db_path)\n",
    "cursor = conn.cursor()\n",
    "\n",
    "# List all tables\n",
    "cursor.execute(\"SELECT name FROM sqlite_master WHERE type='table';\")\n",
    "tables = cursor.fetchall()\n",
    "\n",
    "print(\"Tables in database:\", tables)\n",
    "\n",
    "conn.close()"
   ]
  },
  {
   "cell_type": "markdown",
   "metadata": {},
   "source": [
    "Load the one we want"
   ]
  },
  {
   "cell_type": "code",
   "execution_count": 2,
   "metadata": {},
   "outputs": [
    {
     "name": "stdout",
     "output_type": "stream",
     "text": [
      "   c_personid  c_kin_id  c_kin_code  c_source        c_pages  \\\n",
      "0           0    689344         337   64847.0  088  周真夫人黃氏墓誌   \n",
      "1           1         2         180       0.0           None   \n",
      "2           1     13310         210    7596.0           3047   \n",
      "3           1     13311         180       0.0           None   \n",
      "4           1    119997         182    2229.0           None   \n",
      "\n",
      "                  c_notes c_autogen_notes c_created_by c_created_date  \\\n",
      "0                    None            None   Qi Xinghai       20250329   \n",
      "1  [待考。《宋史·安惇傳》云，惇二子郊、邦。]            None          TTS       20070312   \n",
      "2                    None            None          TTS       20070312   \n",
      "3                    None            None          TTS       20070312   \n",
      "4      據宋史列傳CBDB宋史分傳#2159            None         load       20121116   \n",
      "\n",
      "  c_modified_by c_modified_date  \n",
      "0    Qi Xinghai        20250329  \n",
      "1          None            None  \n",
      "2          None            None  \n",
      "3          None            None  \n",
      "4          None            None  \n"
     ]
    }
   ],
   "source": [
    "db_path = r'/arc/project/st-lknelson-1/alexr951/git/data/latest.db'\n",
    "\n",
    "# Connect to the database\n",
    "conn = sqlite3.connect(db_path)\n",
    "\n",
    "# Replace 'person' with the actual table name you want to load\n",
    "df = pd.read_sql_query(\"SELECT * FROM KIN_DATA\", conn)\n",
    "\n",
    "# Show the first few rows\n",
    "print(df.head())\n",
    "\n",
    "conn.close()"
   ]
  },
  {
   "cell_type": "markdown",
   "metadata": {},
   "source": [
    "Build the NetworkX Graph"
   ]
  },
  {
   "cell_type": "code",
   "execution_count": 3,
   "metadata": {},
   "outputs": [
    {
     "name": "stdout",
     "output_type": "stream",
     "text": [
      "Number of nodes: 278262\n",
      "Number of edges: 272717\n"
     ]
    }
   ],
   "source": [
    "import networkx as nx\n",
    "import matplotlib.pyplot as plt\n",
    "\n",
    "# Create an empty graph\n",
    "G = nx.Graph()\n",
    "\n",
    "# Add edges with kinship type as edge attribute\n",
    "for _, row in df.iterrows():\n",
    "    person = row['c_personid']\n",
    "    kin = row['c_kin_id']\n",
    "    kin_type = row['c_kin_code']\n",
    "    G.add_edge(person, kin, kinship=kin_type)\n",
    "\n",
    "print(f\"Number of nodes: {G.number_of_nodes()}\")\n",
    "print(f\"Number of edges: {G.number_of_edges()}\")"
   ]
  },
  {
   "cell_type": "markdown",
   "metadata": {},
   "source": [
    "Visualize the network"
   ]
  },
  {
   "cell_type": "code",
   "execution_count": 5,
   "metadata": {},
   "outputs": [
    {
     "name": "stdout",
     "output_type": "stream",
     "text": [
      "Rows: 543809\n",
      "=== BASIC COLUMN SUMMARY ===\n",
      "c_personid           int64\n",
      "c_kin_id             int64\n",
      "c_kin_code           int64\n",
      "c_source           float64\n",
      "c_pages             object\n",
      "c_notes             object\n",
      "c_autogen_notes     object\n",
      "c_created_by        object\n",
      "c_created_date      object\n",
      "c_modified_by       object\n",
      "c_modified_date     object\n",
      "dtype: object\n",
      "\n",
      "Null counts:\n",
      "c_personid              0\n",
      "c_kin_id                0\n",
      "c_kin_code              0\n",
      "c_source               14\n",
      "c_pages            139587\n",
      "c_notes            417131\n",
      "c_autogen_notes    510431\n",
      "c_created_by            1\n",
      "c_created_date          2\n",
      "c_modified_by      517420\n",
      "c_modified_date    517420\n",
      "dtype: int64\n",
      "\n",
      "Unique counts:\n",
      "  c_personid: 277,411\n",
      "  c_kin_id: 277,976\n",
      "  c_kin_code: 426\n",
      "  c_source: 454\n",
      "  c_pages: 24,017\n",
      "  c_notes: 37,534\n",
      "  c_autogen_notes: 13,960\n",
      "  c_created_by: 168\n",
      "  c_created_date: 1,990\n",
      "  c_modified_by: 150\n",
      "  c_modified_date: 1,154\n"
     ]
    }
   ],
   "source": [
    "import sqlite3\n",
    "import pandas as pd\n",
    "\n",
    "# -------- Update this only once for all cells ------- #\n",
    "DB_PATH = r'/arc/project/st-lknelson-1/alexr951/git/data/latest.db'\n",
    "# --------------------------------------------------- #\n",
    "\n",
    "def load_kin_data(db_path=DB_PATH):\n",
    "    \"\"\"Return a DataFrame with all rows from KIN_DATA.\"\"\"\n",
    "    with sqlite3.connect(db_path) as conn:\n",
    "        df = pd.read_sql_query(\"SELECT * FROM KIN_DATA\", conn)\n",
    "    # Drop obvious self-loops\n",
    "    df = df[df[\"c_personid\"] != df[\"c_kin_id\"]]\n",
    "    return df\n",
    "\n",
    "kin_df = load_kin_data()\n",
    "print(\"Rows:\", len(kin_df))\n",
    "kin_df.head()\n",
    "\n",
    "\n",
    "def basic_overview(df):\n",
    "    print(\"=== BASIC COLUMN SUMMARY ===\")\n",
    "    print(df.dtypes)                 # data types\n",
    "    print(\"\\nNull counts:\")\n",
    "    print(df.isna().sum())\n",
    "    print(\"\\nUnique counts:\")\n",
    "    for col in df.columns:\n",
    "        print(f\"  {col}: {df[col].nunique():,}\")\n",
    "\n",
    "basic_overview(kin_df)\n"
   ]
  },
  {
   "cell_type": "code",
   "execution_count": 6,
   "metadata": {},
   "outputs": [
    {
     "name": "stdout",
     "output_type": "stream",
     "text": [
      "=== RELATIONSHIP & PEOPLE STATS ===\n",
      "Total relationships  : 543,809\n",
      "Unique individuals   : 278,257\n",
      "\n",
      "Top 10 kinship codes:\n",
      "  180          88,917  ( 16.4%)\n",
      "  75           88,636  ( 16.3%)\n",
      "  126          56,512  ( 10.4%)\n",
      "  125          56,487  ( 10.4%)\n",
      "  134          28,301  (  5.2%)\n",
      "  62           28,101  (  5.2%)\n",
      "  243          27,533  (  5.1%)\n",
      "  135          24,464  (  4.5%)\n",
      "  48           19,910  (  3.7%)\n",
      "  255          19,468  (  3.6%)\n"
     ]
    }
   ],
   "source": [
    "from collections import Counter\n",
    "\n",
    "def relationship_and_people_stats(df):\n",
    "    total_rels = len(df)\n",
    "    unique_people = set(df[\"c_personid\"]) | set(df[\"c_kin_id\"])\n",
    "    kin_type_counts = Counter(df[\"c_kin_code\"])\n",
    "\n",
    "    print(\"=== RELATIONSHIP & PEOPLE STATS ===\")\n",
    "    print(f\"Total relationships  : {total_rels:,}\")\n",
    "    print(f\"Unique individuals   : {len(unique_people):,}\")\n",
    "    print(\"\\nTop 10 kinship codes:\")\n",
    "    for kin, cnt in kin_type_counts.most_common(10):\n",
    "        share = cnt / total_rels * 100\n",
    "        print(f\"  {kin:<10} {cnt:>8,}  ({share:5.1f}%)\")\n",
    "\n",
    "relationship_and_people_stats(kin_df)\n"
   ]
  },
  {
   "cell_type": "code",
   "execution_count": 8,
   "metadata": {},
   "outputs": [
    {
     "name": "stdout",
     "output_type": "stream",
     "text": [
      "=== NETWORK SNAPSHOT ===\n",
      "Nodes                 : 278,257\n",
      "Edges                 : 272,691\n",
      "Density               : 0.00000704\n",
      "Connected components  : 30,357\n",
      "Largest component     : 52,992 nodes\n",
      "\n",
      "Degree distribution:\n",
      "  mean   1.96\n",
      "  median 1.00\n",
      "  max    147\n",
      "  std    2.57\n"
     ]
    }
   ],
   "source": [
    "import networkx as nx\n",
    "import numpy as np\n",
    "\n",
    "def quick_network_snapshot(df):\n",
    "    G = nx.from_pandas_edgelist(\n",
    "        df,\n",
    "        source=\"c_personid\",\n",
    "        target=\"c_kin_id\",\n",
    "        edge_attr=\"c_kin_code\",\n",
    "        create_using=nx.Graph(),\n",
    "    )\n",
    "\n",
    "    degrees = [d for _, d in G.degree()]\n",
    "    comps   = [len(c) for c in nx.connected_components(G)]\n",
    "\n",
    "    print(\"=== NETWORK SNAPSHOT ===\")\n",
    "    print(f\"Nodes                 : {G.number_of_nodes():,}\")\n",
    "    print(f\"Edges                 : {G.number_of_edges():,}\")\n",
    "    print(f\"Density               : {nx.density(G):.8f}\")\n",
    "    print(f\"Connected components  : {len(comps):,}\")\n",
    "    print(f\"Largest component     : {max(comps):,} nodes\")\n",
    "    print(\"\\nDegree distribution:\")\n",
    "    print(f\"  mean   {np.mean(degrees):.2f}\")\n",
    "    print(f\"  median {np.median(degrees):.2f}\")\n",
    "    print(f\"  max    {np.max(degrees)}\")\n",
    "    print(f\"  std    {np.std(degrees):.2f}\")\n",
    "\n",
    "quick_network_snapshot(kin_df)\n"
   ]
  },
  {
   "cell_type": "code",
   "execution_count": 9,
   "metadata": {},
   "outputs": [
    {
     "name": "stdout",
     "output_type": "stream",
     "text": [
      "=== RELATIONSHIP TYPES IN YOUR DATA ===\n",
      "Total kinship records: 543,809\n",
      "\n",
      "Top 15 relationship types (by frequency):\n",
      "  Code 180: 88,917 (16.4%)\n",
      "  Code 75: 88,636 (16.3%)\n",
      "  Code 126: 56,512 (10.4%)\n",
      "  Code 125: 56,487 (10.4%)\n",
      "  Code 134: 28,301 (5.2%)\n",
      "  Code 62: 28,101 (5.2%)\n",
      "  Code 243: 27,533 (5.1%)\n",
      "  Code 135: 24,464 (4.5%)\n",
      "  Code 48: 19,910 (3.7%)\n",
      "  Code 255: 19,468 (3.6%)\n",
      "  Code 111: 18,410 (3.4%)\n",
      "  Code 76: 7,826 (1.4%)\n",
      "  Code 181: 7,076 (1.3%)\n",
      "  Code 176: 4,986 (0.9%)\n",
      "  Code 182: 4,638 (0.9%)\n",
      "\n",
      "Kinship lookup table structure:\n",
      "['c_kincode', 'c_kin_pair1', 'c_kin_pair2', 'c_kin_pair_notes', 'c_kinrel_chn', 'c_kinrel', 'c_kinrel_alt', 'c_pick_sorting', 'c_upstep', 'c_dwnstep', 'c_marstep', 'c_colstep', 'c_kinrel_simplified']\n",
      "Lookup table has 479 relationship definitions\n"
     ]
    }
   ],
   "source": [
    "import sqlite3\n",
    "import pandas as pd\n",
    "\n",
    "#DB_PATH = r'/arc/project/st-lknelson-1/alexr951/git/data/latest.db'\n",
    "\n",
    "def decode_kinship_relationships():\n",
    "    \"\"\"Get the actual meaning of your kinship codes\"\"\"\n",
    "    with sqlite3.connect(DB_PATH) as conn:\n",
    "        # Load kinship codes lookup table\n",
    "        kinship_lookup = pd.read_sql_query(\"SELECT * FROM KINSHIP_CODES\", conn)\n",
    "        \n",
    "        # Load your KIN_DATA\n",
    "        kin_data = pd.read_sql_query(\"SELECT * FROM KIN_DATA\", conn)\n",
    "        kin_data = kin_data[kin_data['c_personid'] != kin_data['c_kin_id']]\n",
    "        \n",
    "    print(f\"=== RELATIONSHIP TYPES IN YOUR DATA ===\")\n",
    "    print(f\"Total kinship records: {len(kin_data):,}\")\n",
    "    \n",
    "    # Get the actual relationship meanings\n",
    "    relationships = kin_data['c_kin_code'].value_counts().head(15)\n",
    "    print(f\"\\nTop 15 relationship types (by frequency):\")\n",
    "    for code, count in relationships.items():\n",
    "        pct = count/len(kin_data)*100\n",
    "        print(f\"  Code {code}: {count:,} ({pct:.1f}%)\")\n",
    "    \n",
    "    print(f\"\\nKinship lookup table structure:\")\n",
    "    print(kinship_lookup.columns.tolist())\n",
    "    print(f\"Lookup table has {len(kinship_lookup)} relationship definitions\")\n",
    "    \n",
    "    return kin_data, kinship_lookup\n",
    "\n",
    "kin_df, lookup_df = decode_kinship_relationships()\n"
   ]
  },
  {
   "cell_type": "code",
   "execution_count": 10,
   "metadata": {},
   "outputs": [
    {
     "name": "stdout",
     "output_type": "stream",
     "text": [
      "=== NETWORK STRUCTURE & FAMILY PATTERNS ===\n",
      "Network size: 278,257 people, 272,691 relationships\n",
      "Network density: 0.00000704\n",
      "\n",
      "=== FAMILY CLUSTER ANALYSIS ===\n",
      "Total family groups: 30,357\n",
      "Largest family: 52,992 people\n",
      "Top 10 family sizes: [52992, 357, 331, 294, 267, 236, 188, 160, 152, 130]\n",
      "Families with 100+ people: 16\n",
      "Single-person 'families': 0\n",
      "\n",
      "=== INDIVIDUAL CONNECTIVITY ===\n",
      "Average relationships per person: 1.96\n",
      "Most connected person has: 147 relationships\n",
      "People with only 1 relationship: 205,427\n",
      "People with 10+ relationships: 7,755\n"
     ]
    }
   ],
   "source": [
    "import networkx as nx\n",
    "import numpy as np\n",
    "\n",
    "def analyze_family_network_structure(df):\n",
    "    \"\"\"Understand the shape and clustering of your kinship network\"\"\"\n",
    "    \n",
    "    print(\"=== NETWORK STRUCTURE & FAMILY PATTERNS ===\")\n",
    "    \n",
    "    # Build the network\n",
    "    G = nx.from_pandas_edgelist(df, source='c_personid', target='c_kin_id', \n",
    "                               create_using=nx.Graph())\n",
    "    \n",
    "    print(f\"Network size: {G.number_of_nodes():,} people, {G.number_of_edges():,} relationships\")\n",
    "    print(f\"Network density: {nx.density(G):.8f}\")\n",
    "    \n",
    "    # Family cluster analysis (connected components = family groups)\n",
    "    components = list(nx.connected_components(G))\n",
    "    family_sizes = sorted([len(comp) for comp in components], reverse=True)\n",
    "    \n",
    "    print(f\"\\n=== FAMILY CLUSTER ANALYSIS ===\")\n",
    "    print(f\"Total family groups: {len(components):,}\")\n",
    "    print(f\"Largest family: {family_sizes[0]:,} people\")\n",
    "    print(f\"Top 10 family sizes: {family_sizes[:10]}\")\n",
    "    print(f\"Families with 100+ people: {sum(1 for size in family_sizes if size >= 100)}\")\n",
    "    print(f\"Single-person 'families': {sum(1 for size in family_sizes if size == 1)}\")\n",
    "    \n",
    "    # Individual connectivity patterns  \n",
    "    degrees = dict(G.degree())\n",
    "    degree_values = list(degrees.values())\n",
    "    \n",
    "    print(f\"\\n=== INDIVIDUAL CONNECTIVITY ===\")\n",
    "    print(f\"Average relationships per person: {np.mean(degree_values):.2f}\")\n",
    "    print(f\"Most connected person has: {max(degree_values)} relationships\")\n",
    "    print(f\"People with only 1 relationship: {sum(1 for d in degree_values if d == 1):,}\")\n",
    "    print(f\"People with 10+ relationships: {sum(1 for d in degree_values if d >= 10):,}\")\n",
    "    \n",
    "    return G, components, degrees\n",
    "\n",
    "G, families, connectivity = analyze_family_network_structure(kin_df)\n"
   ]
  },
  {
   "cell_type": "markdown",
   "metadata": {},
   "source": [
    "## Posibilities of what we can do ## \n",
    "\n",
    "Louvain (ML)\n",
    "- Can be applied to sub divide the 30,357 connected components (families)\n",
    "Family Tree Hierarchical Structure:\n",
    "- Look at how over time families evolved \n",
    "Degree centrality for important family members (Some have 147 edges from them)\n",
    "Betweenness Centrality for Bridges/Connectors between large families (Maybe a women who was married off etc)  \n",
    "- Look at how networks change across generations and time periods\n",
    "Spatial Network Analysis\n",
    "- Look at how people and networks change over time \n",
    "Cross-Dynasty Comparisons\n",
    "- compare family structures across different Chinese dynasties (depending on how far back the data goes)\n"
   ]
  }
 ],
 "metadata": {
  "kernelspec": {
   "display_name": "Python 3 (ipykernel)",
   "language": "python",
   "name": "python3"
  },
  "language_info": {
   "codemirror_mode": {
    "name": "ipython",
    "version": 3
   },
   "file_extension": ".py",
   "mimetype": "text/x-python",
   "name": "python",
   "nbconvert_exporter": "python",
   "pygments_lexer": "ipython3",
   "version": "3.12.11"
  }
 },
 "nbformat": 4,
 "nbformat_minor": 4
}
