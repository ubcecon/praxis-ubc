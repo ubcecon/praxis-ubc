{
 "cells": [
  {
   "cell_type": "code",
   "execution_count": 2,
   "id": "292f588b",
   "metadata": {},
   "outputs": [],
   "source": [
    "import pandas as pd\n",
    "import numpy as np\n",
    "import torch\n",
    "from sklearn.model_selection import train_test_split\n",
    "from sklearn.metrics import accuracy_score, precision_recall_fscore_support\n",
    "from transformers import (\n",
    "    AutoTokenizer,\n",
    "    AutoModelForSequenceClassification,\n",
    "    Trainer,\n",
    "    TrainingArguments,\n",
    "    DataCollatorWithPadding,\n",
    ")\n",
    "\n",
    "from datasets import Dataset"
   ]
  },
  {
   "cell_type": "code",
   "execution_count": null,
   "id": "520900e6",
   "metadata": {},
   "outputs": [],
   "source": [
    "import glob\n",
    "import os\n",
    "import pandas as pd\n",
    "path = \"14189072\"  \n",
    "pattern = os.path.join(path, \"Russia_2_part_*.gzip.parquet\")\n",
    "\n",
    "files = glob.glob(pattern)\n",
    "\n",
    "dfs = [pd.read_parquet(f, engine=\"pyarrow\") for f in files]\n",
    "df = pd.concat(dfs, ignore_index=True)"
   ]
  },
  {
   "cell_type": "code",
   "execution_count": null,
   "id": "55025fb3",
   "metadata": {},
   "outputs": [],
   "source": [
    "df.to_csv(\"russian_disinformation_tweets.csv\")"
   ]
  },
  {
   "cell_type": "code",
   "execution_count": 3,
   "id": "b0c2403f",
   "metadata": {},
   "outputs": [
    {
     "name": "stdout",
     "output_type": "stream",
     "text": [
      "920761\n",
      "90291\n"
     ]
    }
   ],
   "source": [
    "tweets = pd.read_csv(\"soci_270/russian_disinformation_tweets.csv\")\n",
    "\n",
    "\n",
    "print(len(tweets[tweets[\"is_control\"] == False]))\n",
    "print(len(tweets[tweets[\"is_control\"] == True]))\n",
    "tweets = tweets[[\"post_text\", \"is_control\"]].dropna()\n",
    "tweets = tweets.rename(columns={\"post_text\": \"text\", \"is_control\": \"label\"})"
   ]
  },
  {
   "cell_type": "code",
   "execution_count": 4,
   "id": "51449011",
   "metadata": {},
   "outputs": [],
   "source": [
    "train_tweets , eval_tweets  = train_test_split(tweets , test_size=0.1, stratify=tweets[\"label\"], random_state=42)"
   ]
  },
  {
   "cell_type": "code",
   "execution_count": 8,
   "id": "131606af",
   "metadata": {},
   "outputs": [
    {
     "name": "stderr",
     "output_type": "stream",
     "text": [
      "Some weights of BertForSequenceClassification were not initialized from the model checkpoint at ../bert-base-uncased and are newly initialized: ['classifier.bias', 'classifier.weight']\n",
      "You should probably TRAIN this model on a down-stream task to be able to use it for predictions and inference.\n"
     ]
    }
   ],
   "source": [
    "from transformers import AutoTokenizer, AutoModelForSequenceClassification\n",
    "local_path = \"../bert-base-uncased\"\n",
    "\n",
    "# Load the tokenizer entirely from the local directory\n",
    "tokenizer = AutoTokenizer.from_pretrained(\n",
    "    local_path,\n",
    "    local_files_only=True\n",
    ")\n",
    "\n",
    "# Load the model entirely from the local directory\n",
    "model = AutoModelForSequenceClassification.from_pretrained(\n",
    "    local_path,\n",
    "    local_files_only=True,\n",
    "    num_labels=2\n",
    ")"
   ]
  },
  {
   "cell_type": "code",
   "execution_count": 10,
   "id": "6739f6de",
   "metadata": {},
   "outputs": [],
   "source": [
    "def tokenize_batch(batch):\n",
    "    return tokenizer(batch[\"text\"], truncation=True, max_length=256)"
   ]
  },
  {
   "cell_type": "code",
   "execution_count": 11,
   "id": "6d2ce01e",
   "metadata": {},
   "outputs": [
    {
     "name": "stderr",
     "output_type": "stream",
     "text": [
      "Map: 100%|██████████| 909946/909946 [03:56<00:00, 3846.07 examples/s]\n",
      "Map: 100%|██████████| 101106/101106 [00:25<00:00, 3918.39 examples/s]\n"
     ]
    }
   ],
   "source": [
    "train_tweets[\"label\"] = train_tweets[\"label\"].astype(int)\n",
    "eval_tweets[\"label\"]  = eval_tweets[\"label\"].astype(int)\n",
    "\n",
    "train_ds = Dataset.from_pandas(train_tweets).map(tokenize_batch, batched=True)\n",
    "eval_ds  = Dataset.from_pandas(eval_tweets).map(tokenize_batch, batched=True)\n",
    "data_collator = DataCollatorWithPadding(tokenizer=tokenizer)"
   ]
  },
  {
   "cell_type": "code",
   "execution_count": null,
   "id": "cd70aad7",
   "metadata": {},
   "outputs": [],
   "source": [
    "def compute_metrics(pred):\n",
    "    labels = pred.label_ids\n",
    "    preds = np.argmax(pred.predictions, axis=1)\n",
    "    acc = accuracy_score(labels, preds)\n",
    "    p, r, f1, _ = precision_recall_fscore_support(labels, preds, average=\"binary\")\n",
    "    return {\"accuracy\": acc, \"precision\": p, \"recall\": r, \"f1\": f1}\n"
   ]
  },
  {
   "cell_type": "code",
   "execution_count": null,
   "id": "69644f65",
   "metadata": {},
   "outputs": [],
   "source": [
    "training_args = TrainingArguments(\n",
    "    output_dir=\"./propaganda-bert-finetuned\",\n",
    "    eval_strategy=\"epoch\",\n",
    "    logging_strategy=\"steps\",\n",
    "    logging_steps=100,\n",
    "    save_strategy=\"epoch\",\n",
    "    per_device_train_batch_size=16,\n",
    "    per_device_eval_batch_size=32,\n",
    "    learning_rate=2e-5,\n",
    "    num_train_epochs=3,\n",
    "    weight_decay=0.01,\n",
    "    load_best_model_at_end=True,\n",
    "    metric_for_best_model=\"f1\",\n",
    ")"
   ]
  },
  {
   "cell_type": "code",
   "execution_count": null,
   "id": "e101640a",
   "metadata": {},
   "outputs": [],
   "source": [
    "trainer = Trainer(\n",
    "    model=model,\n",
    "    args=training_args,\n",
    "    train_dataset=train_ds,\n",
    "    eval_dataset=eval_ds,\n",
    "    tokenizer=tokenizer,\n",
    "    data_collator=data_collator,\n",
    "    compute_metrics=compute_metrics,\n",
    ")"
   ]
  },
  {
   "cell_type": "code",
   "execution_count": null,
   "id": "2db21cd5",
   "metadata": {},
   "outputs": [],
   "source": [
    "trainer.train()\n",
    "\n",
    "metrics = trainer.evaluate(eval_ds)\n",
    "print(\"Evaluation results:\", metrics)\n",
    "\n",
    "from sklearn.metrics import classification_report\n",
    "preds_output = trainer.predict(eval_ds)\n",
    "y_true = preds_output.label_ids\n",
    "y_pred = np.argmax(preds_output.predictions, axis=1)\n",
    "print(classification_report(y_true, y_pred, digits=4))"
   ]
  },
  {
   "cell_type": "code",
   "execution_count": null,
   "id": "ab44da29",
   "metadata": {},
   "outputs": [],
   "source": [
    "from huggingface_hub import snapshot_download\n"
   ]
  }
 ],
 "metadata": {
  "kernelspec": {
   "display_name": "tlef_ai_311",
   "language": "python",
   "name": "tlef_ai_311"
  },
  "language_info": {
   "codemirror_mode": {
    "name": "ipython",
    "version": 3
   },
   "file_extension": ".py",
   "mimetype": "text/x-python",
   "name": "python",
   "nbconvert_exporter": "python",
   "pygments_lexer": "ipython3",
   "version": "3.11.13"
  }
 },
 "nbformat": 4,
 "nbformat_minor": 5
}
