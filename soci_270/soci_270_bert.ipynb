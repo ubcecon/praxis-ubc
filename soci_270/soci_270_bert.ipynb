{
 "cells": [
  {
   "cell_type": "markdown",
   "id": "681f480a",
   "metadata": {},
   "source": [
    "# Introduction to Sentiment Analysis: Identifying and Mapping Disinformation Campaigns using NLP\n",
    "\n",
    "*Module adapted from UBC COMET, prepared originally by Anneke Dresselhuis and Irene Berezin, by Irene Berezin, Anna Kovtunenko, Jalen Faddick and the prAxIs UBC team.*"
   ]
  },
  {
   "cell_type": "markdown",
   "id": "782c5d36",
   "metadata": {},
   "source": [
    "## Loading and Installing Packages\n",
    "\n",
    "Before continuing, run the code cell below to install the necessary packages."
   ]
  },
  {
   "cell_type": "code",
   "execution_count": 1,
   "id": "292f588b",
   "metadata": {},
   "outputs": [],
   "source": [
    "\n",
    "import pandas as pd\n",
    "import numpy as np\n",
    "import torch\n",
    "from sklearn.model_selection import train_test_split\n",
    "from sklearn.metrics import accuracy_score, precision_recall_fscore_support\n",
    "\n",
    "\n",
    "import os\n",
    "from pathlib import Path\n",
    "\n",
    "from transformers import (\n",
    "    AutoTokenizer,\n",
    "    AutoModel,\n",
    "    Trainer,\n",
    "    TrainingArguments,\n",
    "    DataCollatorWithPadding,\n",
    ")\n",
    "from datasets import Dataset\n",
    "from sklearn.metrics import accuracy_score, precision_recall_fscore_support\n",
    "import matplotlib.pyplot as plt\n",
    "import seaborn as sns\n"
   ]
  },
  {
   "cell_type": "markdown",
   "id": "6a01cabe",
   "metadata": {},
   "source": [
    "## Disinformation in the Information Age\n",
    "\n",
    "Disinformation is not new, but with the rise of digital platforms and generative AI, its scale, speed, and sophistication have grown exponentially. From elections and pandemics to social justice movements and international conflicts, false or misleading content is being spread online to manipulate emotions and polarize public opinion.\n",
    "\n",
    "The challenge today is not just the volume of disinformation, but how convincing and targeted it has become. Former U.S. Director of National Intelligence Avril Haines describes how state-sponsored campaigns, like Russia’s Kremlin, now operate using “a vast multimedia influence apparatus,” including bots, cyber-actors, fake news websites, and social media trolls. **Large language models (LLMs)** can now generate human-like tweets, comments, and articles at scale. Combined with deepfakes, doppelgänger sites, and AI-generated personas, these tools allow bad actors to craft propaganda that appears authentic, emotionally resonant, and difficult to detect.\n",
    "\n",
    "In this notebook, we’ll use machine learning — specifically, pretrained large language models — to study the language of disinformation in a real dataset of English and Russian-language tweets. These tweets include both propagandist and non-propagandist content.\n",
    "\n",
    "## Learning Outcomes\n",
    "By the end of this module, you will be able to better understand disinformation and propaganda techniques using the following computational tools:\n",
    "\n",
    "- **Sentiment analysis** to detect emotional tone (positive, negative, neutral)\n",
    "- **Toxicity analysis** to identify harmful or aggressive language (e.g., insults, threats)\n",
    "- **Statistical testing** to compare patterns between tweet types and languages (e.g., English vs. Russian)\n",
    "\n",
    "You'll learn how to work with pretrained LLMs, interpret model predictions, and use basic statistical methods to answer questions like:\n",
    "\n",
    "- Are propagandist tweets more emotionally charged or toxic than others?\n",
    "- Do they use different rhetorical strategies in different languages?\n",
    "- Can we identify signals that indicate a tweet is part of a disinformation campaign?\n",
    "\n",
    "Through this analysis, we’ll explore various dimmensions of AI applications, critically examining how it can be used to better understand and detect the patterns of disinformation when working with large amounts of social data.\n",
    "\n",
    "## Key Terms and Concepts\n",
    "\n",
    "**Disinformation:** Disinformation is generally understood as the *intentional* spreading of false, misleading, or incorrect information, in order to influence the public or create an outcome, usually political.\n",
    "\n",
    "**Propaganda:** Propaganda is similar to disinformation in it's intent to spread a cause or doctrine, but can differ in how systematically or overtly it is speread. The two concepts are both forms of misinformation, with propaganda generally being employed to promote a cause.\n",
    "\n",
    "**Large Language Model (LLM):** A Large Language Model is a langauge model trained on a very large set of text data, accessing the features of the text by converting units of text into quanitative representations that can be used for various tasks, such as chatbotting, or in the case of this notebook, Natural Language Processing.\n",
    "\n",
    "**Natural Language Processing (NLP):** Natural Langauge Processing encompasses a wide variety of techniques and practices wtih the goal of enabling computers to understand, interpret, and produce human language. The key NLP techniques in this notebook are *sentiment analysis*, a technique that analayzes the relative positivity or negativity of langauge, and *toxitcity analyis* which analyzes the relative aggressiveness of language.\n",
    "\n",
    "**BERT:** to enable these analyses we will be using two BERT models. BERT is an open-source framework for machine learning, whcih is used for NLP. BERT is well-suited to understanding langauge, rather than generating it, which is what this notebook is concerned with. The specific BERT models we are using are a multi-lingual [model](https://huggingface.co/sentence-transformers/paraphrase-multilingual-MiniLM-L12-v2), which can analyze tweets in different languages, and a [model](https://huggingface.co/cardiffnlp/twitter-roberta-base-sentiment) trained for analyzing tweet sentiments.\n",
    "\n",
    "**Fine Tuning:** The multi-lingual model is fine-tuned, or trained specifically on the Russian Disinformation tweet dataset. This is done by inputting a training subset of the data, where the tweets are labeled as Disinformation, into the BERT model to create a model familiar with our data, and well-suited to producing analyses.\n",
    "\n"
   ]
  },
  {
   "cell_type": "markdown",
   "id": "98677752",
   "metadata": {},
   "source": [
    "# 0. Preliminary data analysis \n",
    "\n",
    "In order to get started using machine learning to map disinformation campaigns, we need to set our machines up to be able to:\n",
    "\n",
    "1. Open and interpret the dataset.\n",
    "2. Visualize key aspects of the data.\n",
    "3. Access a pre-trained machine learning model that can be used on our data.\n",
    "\n",
    "To do this, we are using the `import` statement which allows us to access the functions and capabilities of each module. The modules we are using allow us to complete differenet tasks. We are using a coding language called Python to do communicate which capabilities we want to use and we will continue writing in Python to use these capabilities. It is what we are using to communicate what libraries or capabilities we want to use. We will learn more about what each module is doing as we continue to use them."
   ]
  },
  {
   "cell_type": "markdown",
   "id": "78f00cc4",
   "metadata": {},
   "source": [
    "Now that we have successfully accessed all of the functions we need to carry out our disinformation investigation, we can start to look into the data we are working with. We are going to be using the `pandas` library, which is a popular tool to read and handle data. The block of code below will first load in the dataset named `russian_disinformation_tweets.csv` and then, based on the information contained in the file, it will `print` the specified information. In this case we are looking at three different features of our data:\n",
    "\n",
    "1. The names of the columns in our dataset\n",
    "2. The number of tweets not labeled as control i.e. russian disinformation\n",
    "3. The number of tweets labeled as control i.e. *not* russian disinformation\n",
    "\n",
    "The code below also does a little bit of housekeeping, by using the function `tweets.rename` to change the column names from `post text` and `is_control` to `text` and `labels` respectively.\n",
    "\n",
    "Now, take a look a the output of this block and identify the number of disinformation tweets found in the data. How many non-disinformation tweets are in the data? \n",
    "\n",
    "💡 **Hint:** Python outputs the results of the code in the order it is written!"
   ]
  },
  {
   "cell_type": "code",
   "execution_count": 2,
   "id": "b0c2403f",
   "metadata": {},
   "outputs": [
    {
     "name": "stdout",
     "output_type": "stream",
     "text": [
      "Index(['Unnamed: 0', 'postid', 'post_text', 'application_name',\n",
      "       'post_language', 'in_reply_to_postid', 'in_reply_to_accountid',\n",
      "       'post_time', 'accountid', 'account_profile_description',\n",
      "       'follower_count', 'following_count', 'account_creation_date',\n",
      "       'is_repost', 'reposted_accountid', 'reposted_postid', 'hashtags',\n",
      "       'urls', 'account_mentions', 'is_control'],\n",
      "      dtype='object')\n",
      "920761\n",
      "90291\n"
     ]
    }
   ],
   "source": [
    "tweets = pd.read_csv(\"soci_270/russian_disinformation_tweets.csv\")\n",
    "\n",
    "print(tweets.columns)\n",
    "print(len(tweets[tweets[\"is_control\"] == False]))\n",
    "print(len(tweets[tweets[\"is_control\"] == True]))\n",
    "tweets = tweets.rename(columns={\"post_text\": \"text\", \"is_control\": \"labels\"})"
   ]
  },
  {
   "cell_type": "markdown",
   "id": "c809a59c",
   "metadata": {},
   "source": [
    "To continue exploring the data, we are going to take a look at tweets that are labeled as control tweets, meaning they are not Russian disinformation. These tweets just come from regular users posts. These posts are not necessarily apolitical, or without an attempt to persuade, however, they do not meet the dataset criteria of disinformation. \n",
    "\n",
    "Take a look at a few of the characteristics of the tweets below, looking at both the text of the tweets and the data associated with each post. Some of the tweets look very similar to each other. Look through the tweet metadata and examine if any of the other characteristics of the posts are similar. \n",
    "\n",
    "Think about what you might be able to infer from each user based on their posts, and the metadata avaialable to us in this dataset. Consider what is missing from this picture as well. What data might be unavailable to us, and how does it limit our picture of these users. While you are building a picture of the twitter user (their beliefs, intent, history, posting time, etc...) come up with a few reasons why these users were not labeled as disinformation. "
   ]
  },
  {
   "cell_type": "code",
   "execution_count": null,
   "id": "f803df3c",
   "metadata": {},
   "outputs": [
    {
     "name": "stdout",
     "output_type": "stream",
     "text": [
      "         Unnamed: 0                                      postid                                                                                                                                                                 text                            application_name post_language in_reply_to_postid in_reply_to_accountid            post_time                                   accountid                                                                                                                                                 account_profile_description  follower_count  following_count account_creation_date  is_repost reposted_accountid reposted_postid                           hashtags                                                    urls                                                                               account_mentions  labels\n",
      "36               36  40e914fba1a0ff1ddb95ec7b9f341b674867e6d966                                                                                                                                     Is there any #TT's owt there ???  e2f11704f681592822c58d01c1f071fe794030bca3            en                NaN                   NaN  2011-05-29 18:48:15  e2eb3e216298be1e56dc7ae40ae6342681d0480224                                                                                                                                                                         NaN            8071             2635            2010-03-08      False                NaN             NaN                             ['TT']                                                      []                                                                                             []    True\n",
      "37               37  6c4c24c32517adff14be196530caee065ddf6bd648                     @0a70d7a84c104c202cfaab50ab10d3c518dc548e15: RT @b4b33e49d2accce12ab2ebe0707a0a1f85c734111d Why do men act like they haven't seen females before  e2f11704f681592822c58d01c1f071fe794030bca3            en                NaN                   NaN  2011-05-29 18:48:41  e2eb3e216298be1e56dc7ae40ae6342681d0480224                                                                                                                                                                         NaN            8071             2635            2010-03-08      False                NaN             NaN                                 []                                                      []  ['0a70d7a84c104c202cfaab50ab10d3c518dc548e15'\\n 'b4b33e49d2accce12ab2ebe0707a0a1f85c734111d']    True\n",
      "38               38  ee1f19fcb24b60e3da91d769f77b41e42ab4a28f48                                                                                                         When does [CHEATING] get old to the Male Race? #TheShitIsOld  e2f11704f681592822c58d01c1f071fe794030bca3            en                NaN                   NaN  2011-05-29 18:49:08  e2eb3e216298be1e56dc7ae40ae6342681d0480224                                                                                                                                                                         NaN            8071             2635            2010-03-08      False                NaN             NaN                   ['TheShitIsOld']                                                      []                                                                                             []    True\n",
      "39               39  851bc955e4bdc93f53b449b69cbf30c7c74e4b7808                                                                                              I swear my next relationship will be my last relationship #ImGoingAllIn  e2f11704f681592822c58d01c1f071fe794030bca3            en                NaN                   NaN  2011-05-29 18:49:30  e2eb3e216298be1e56dc7ae40ae6342681d0480224                                                                                                                                                                         NaN            8071             2635            2010-03-08      False                NaN             NaN                   ['ImGoingAllIn']                                                      []                                                                                             []    True\n",
      "40               40  4648fca3629a67e8ad48ed51a0a199a28644dbf6dc                                                                                                                                My Love is 1 of a Kind .. #IMJUSSAYIN  e2f11704f681592822c58d01c1f071fe794030bca3            en                NaN                   NaN  2011-05-29 18:49:46  e2eb3e216298be1e56dc7ae40ae6342681d0480224                                                                                                                                                                         NaN            8071             2635            2010-03-08      False                NaN             NaN                     ['IMJUSSAYIN']                                                      []                                                                                             []    True\n",
      "...             ...                                         ...                                                                                                                                                                  ...                                         ...           ...                ...                   ...                  ...                                         ...                                                                                                                                                                         ...             ...              ...                   ...        ...                ...             ...                                ...                                                     ...                                                                                            ...     ...\n",
      "1001655     1001655  9db67572a57871d3388a9934960702d34c245589b4  #Capitalism Politics Danielle Smith: Green washing Crony Capitalism: Have you ever heard of ... https://94abba5814ae108beb90a08fe01e93d70c0554adc6 #UniteBlue #Tcot  b9052708258f305d40d00a13826c6cb32520a2d48c            en                NaN                   NaN  2016-09-20 23:59:57  0b98dddd3a835f273453e487379a183e9853e5cdf1  #Women #News Worldwide #Feminism #LikeAGirl #LGBT #Islamophobia #DomesticViolence #UniteBlue #AnimalRights #Gunsense Powered by 8ed7345229191fb4a045e4ac77b61f96f6a0d542f1            6873             7559            2015-07-02      False                NaN             NaN  ['Capitalism' 'UniteBlue' 'Tcot']  ['https://94abba5814ae108beb90a08fe01e93d70c0554adc6']                                                                                             []    True\n",
      "1001656     1001656  8c9d7dd73652693d61a93019b3d41d359cc95f06e2  #Capitalism Politics Fighting Against Capitalism: The Worker's World Party: The main concept... https://b6e0a9ec03240271d530314f369086e3394e77c0ff #UniteBlue #Tcot  b9052708258f305d40d00a13826c6cb32520a2d48c            en                NaN                   NaN  2016-09-20 23:59:57  0b98dddd3a835f273453e487379a183e9853e5cdf1  #Women #News Worldwide #Feminism #LikeAGirl #LGBT #Islamophobia #DomesticViolence #UniteBlue #AnimalRights #Gunsense Powered by 8ed7345229191fb4a045e4ac77b61f96f6a0d542f1            6873             7559            2015-07-02      False                NaN             NaN  ['Capitalism' 'UniteBlue' 'Tcot']  ['https://b6e0a9ec03240271d530314f369086e3394e77c0ff']                                                                                             []    True\n",
      "1001657     1001657  124e335840443095f27089f3bb7d90d162bae48664  #Capitalism Politics Connections Brings 21st Century Learning to Conn: As an example, one sh... https://0e15bbb9dc32bd78e6ec40c853dd1c91854f4e8196 #UniteBlue #Tcot  b9052708258f305d40d00a13826c6cb32520a2d48c            en                NaN                   NaN  2016-09-20 23:59:57  0b98dddd3a835f273453e487379a183e9853e5cdf1  #Women #News Worldwide #Feminism #LikeAGirl #LGBT #Islamophobia #DomesticViolence #UniteBlue #AnimalRights #Gunsense Powered by 8ed7345229191fb4a045e4ac77b61f96f6a0d542f1            6873             7559            2015-07-02      False                NaN             NaN  ['Capitalism' 'UniteBlue' 'Tcot']  ['https://0e15bbb9dc32bd78e6ec40c853dd1c91854f4e8196']                                                                                             []    True\n",
      "1001658     1001658  8261e81729d1870392f1d73d018e999ba127ec15c7  #Capitalism Politics Why Today's Neoliberal Global Order Is Incompatible With Democracy: In ... https://a24f8ce30ed3f43fcac0554bd9930f24e833c847e6 #UniteBlue #Tcot  b9052708258f305d40d00a13826c6cb32520a2d48c            en                NaN                   NaN  2016-09-20 23:59:58  0b98dddd3a835f273453e487379a183e9853e5cdf1  #Women #News Worldwide #Feminism #LikeAGirl #LGBT #Islamophobia #DomesticViolence #UniteBlue #AnimalRights #Gunsense Powered by 8ed7345229191fb4a045e4ac77b61f96f6a0d542f1            6873             7559            2015-07-02      False                NaN             NaN  ['Capitalism' 'UniteBlue' 'Tcot']  ['https://a24f8ce30ed3f43fcac0554bd9930f24e833c847e6']                                                                                             []    True\n",
      "1001659     1001659  2bc9e15bffbf700bbf3b40cb32b0de4a65244301b8  #Capitalism Politics Poverty, violence and globalised indifference: And it is capitalism tha... https://cf2d7a77f202eba8af6f2001922572a1b3429f0409 #UniteBlue #Tcot  b9052708258f305d40d00a13826c6cb32520a2d48c            en                NaN                   NaN  2016-09-20 23:59:58  0b98dddd3a835f273453e487379a183e9853e5cdf1  #Women #News Worldwide #Feminism #LikeAGirl #LGBT #Islamophobia #DomesticViolence #UniteBlue #AnimalRights #Gunsense Powered by 8ed7345229191fb4a045e4ac77b61f96f6a0d542f1            6873             7559            2015-07-02      False                NaN             NaN  ['Capitalism' 'UniteBlue' 'Tcot']  ['https://cf2d7a77f202eba8af6f2001922572a1b3429f0409']                                                                                             []    True\n",
      "\n",
      "[90291 rows x 20 columns]\n"
     ]
    }
   ],
   "source": [
    "print(tweets[tweets[\"labels\"] == True])"
   ]
  },
  {
   "cell_type": "code",
   "execution_count": null,
   "id": "6b428426",
   "metadata": {},
   "outputs": [],
   "source": []
  },
  {
   "cell_type": "markdown",
   "id": "73db3766",
   "metadata": {},
   "source": [
    "Now that we know a little bit about the data and our users, we are going to continue doing some housekeeping by converting the post time and date from characters to into dates that are able to be interpreted by the computer and used for analysis. Additionally, we'll create a follower/following ratio to add another dimension to our data. \n",
    "\n",
    "We can then use this information to visualize the posting activity of the disinformation bots and the control tweets. In our visualization, the label `True` corresponds to tweets that are part of the control group and the label `False` corresponds to tweets containing disinformation. \n",
    "\n",
    "There are meany ways the posting activity could be represented visually. In this graph we are representing the posting activity by the week over the course of a decade. It is important to select a scale which is appropriate for the amount of data we are working with, especially if that data spans a wide range. Here we are using a log scale on the y-axis (the number of posts) \n",
    "\n",
    "> A Log (or logarithmic) scale is a way to represent data which spans large numerical ranges, and makes it easier to visualize and interpret data that changes dramatically. \n",
    "\n",
    "As you look at the graph pay close attention to the following:\n",
    "\n",
    "1. General trends in activity. Does either type of tweet increase over time? Is there any stagnation? Which years had the most weekly overall activity?\n",
    "\n",
    "2. Which years stick out as being exceptionally different. Consider some key events from those years. If nothing comes to mind immediately, do a quick search for top news topics of those years in your browser."
   ]
  },
  {
   "cell_type": "code",
   "execution_count": null,
   "id": "bb75534a",
   "metadata": {},
   "outputs": [],
   "source": [
    "tweets['post_time'] = pd.to_datetime(tweets['post_time'], errors='coerce')\n",
    "tweets['post_date'] = tweets['post_time'].dt.date\n",
    "tweets['post_hour'] = tweets['post_time'].dt.hour  \n",
    "tweets['week'] = tweets['post_time'].dt.to_period('W').apply(lambda r: r.start_time) \n",
    "tweets['follow_ratio'] = tweets['follower_count'] / (tweets['following_count'].replace(0, 1))   # follower/following ratio"
   ]
  },
  {
   "cell_type": "code",
   "execution_count": null,
   "id": "0fa394ac",
   "metadata": {},
   "outputs": [],
   "source": [
    "tweets['account_type'] = tweets['labels'].map({True: 'Control', False: 'IO'})"
   ]
  },
  {
   "cell_type": "code",
   "execution_count": null,
   "id": "691f171f",
   "metadata": {},
   "outputs": [
    {
     "data": {
      "image/png": "[encoded data removed]",
      "text/plain": [
       "<Figure size 1200x500 with 1 Axes>"
      ]
     },
     "metadata": {},
     "output_type": "display_data"
    }
   ],
   "source": [
    "\n",
    "weekly_counts = tweets.groupby(['week', 'labels']).size().reset_index(name='count')\n",
    "\n",
    "plt.figure(figsize=(12, 5))\n",
    "sns.lineplot(data=weekly_counts, x='week', y='count', hue='labels')\n",
    "\n",
    "plt.yscale('log')\n",
    "plt.title(\"Weekly Posting Activity (Disinformation vs Control)\")\n",
    "plt.xlabel(\"Week\")\n",
    "plt.ylabel(\"Number of Posts (log scale)\")\n",
    "plt.legend(title=\"Label\")\n",
    "plt.tight_layout()\n",
    "plt.show()"
   ]
  },
  {
   "cell_type": "markdown",
   "id": "9bbfffa8",
   "metadata": {},
   "source": [
    "Another dimmension we could look at with this data is the posting activity of Control vs. Disinformation tweets over the course of the day. Here we are going to define a function that will allow us to visualize the average number of posts across the course of a day, starting with Hour 0 until Hour 24. Take a look at the widgets below and play around with the dates to see how the tweet volume changes. \n",
    "\n",
    "\n",
    "🧠 **Key Questions:** \n",
    "\n",
    "- Consider why each account is posting at different times.\n",
    "- Is there a meaningingful difference in who posts when? Why might that be?\n",
    "- Is there anything surprising to you about the tweet volume at each hour? \n",
    "\n",
    "Think about some possible explanations for the trends in the data and consider whether it confirms or challenges your assumptions about how  and when disinformation is produced.\n"
   ]
  },
  {
   "cell_type": "code",
   "execution_count": null,
   "id": "14599915",
   "metadata": {},
   "outputs": [
    {
     "data": {
      "application/vnd.jupyter.widget-view+json": {
       "model_id": "0813b0ea2fe9474587d7a5584b218865",
       "version_major": 2,
       "version_minor": 0
      },
      "text/plain": [
       "HBox(children=(DatePicker(value=datetime.date(2010, 8, 3), description='Start Date', step=1), DatePicker(value…"
      ]
     },
     "metadata": {},
     "output_type": "display_data"
    },
    {
     "data": {
      "application/vnd.jupyter.widget-view+json": {
       "model_id": "77f23d493eb94f0683e60f1852e956e5",
       "version_major": 2,
       "version_minor": 0
      },
      "text/plain": [
       "Output()"
      ]
     },
     "metadata": {},
     "output_type": "display_data"
    }
   ],
   "source": [
    "\n",
    "import ipywidgets as widgets\n",
    "from IPython.display import display, clear_output\n",
    "\n",
    "start_date_widget = widgets.DatePicker(value=min(tweets['post_date']), description='Start Date')\n",
    "end_date_widget = widgets.DatePicker(value=max(tweets['post_date']), description='End Date')\n",
    "\n",
    "output = widgets.Output()\n",
    "\n",
    "def update_time_series(change=None):\n",
    "    with output:\n",
    "        clear_output(wait=True)\n",
    "        start = start_date_widget.value\n",
    "        end = end_date_widget.value\n",
    "        mask = (tweets['post_date'] >= start) & (tweets['post_date'] <= end)\n",
    "        data_range = tweets[mask].groupby(['post_date','account_type']).size().reset_index(name='post_count')\n",
    "        data_pivot = data_range.pivot(index='post_date', columns='account_type', values='post_count').fillna(0)\n",
    "        # Plot\n",
    "        plt.figure(figsize=(8,4))\n",
    "        for acct_type, col in [('IO','orange'), ('Control','blue')]:\n",
    "            if acct_type in data_pivot:\n",
    "                plt.plot(data_pivot.index, data_pivot[acct_type], label=acct_type, color=col)\n",
    "        plt.legend(); plt.xlabel('Date'); plt.ylabel('Posts')\n",
    "        plt.title(f'Post Volume ({start} to {end})')\n",
    "        plt.tight_layout()\n",
    "        plt.show()\n",
    "\n",
    "# Attach the update function to widget changes\n",
    "start_date_widget.observe(update_time_series, names='value')\n",
    "end_date_widget.observe(update_time_series, names='value')\n",
    "\n",
    "# Display widgets and initial plot\n",
    "display(widgets.HBox([start_date_widget, end_date_widget]))\n",
    "update_time_series()\n",
    "display(output)"
   ]
  },
  {
   "cell_type": "markdown",
   "id": "9f151c0b",
   "metadata": {},
   "source": [
    "The following graph represents the average posting activity over the course of a day by each type of account (Regular and Disinformation). \n",
    "\n",
    ">⏪ **Callback**\n",
    ">\n",
    ">Remember when we first examined the features of our data, the total number of disinformation posts was significantly higher than the number of control posts. That difference in volume is represented graphically below with the greater average number of posts from disinformation accounts. It is important to recognize that this is just a feature of our dataset, and is not necessarily representative of all the posts on Twitter at that time. Nevertheless, there are some important features of this visualization that we need to consider. \n",
    "\n",
    "As you look over the graph, try to answer the following questions:\n",
    "\n",
    "1. Why are disinformation accounts posting early in the morning and late at night? What might they be trying to acheive with such an aggressive posting schedule.\n",
    "2. Think about your own social media posting. When do you usually post? Is this reflected by the Control curve?\n",
    "3. Additionally, think about when you are on social media. What hours are you most frequently looking at content? \n",
    "\n",
    ">📱 **Activity**\n",
    ">\n",
    ">If you freuqently use social media, take a look at you screen activity in your devices settings and look at the hours you frequently use social media applications. If you don't have social media, find a partner who's comfortable sharing their data with you and compare the hours of usage to the posting activity of the Disinformation accounts and the Control accounts. \n",
    ">\n",
    "\n",
    "Does your usage align or differ from the activity of the accounts in our dataset?\n"
   ]
  },
  {
   "cell_type": "code",
   "execution_count": null,
   "id": "81cf17eb",
   "metadata": {},
   "outputs": [
    {
     "data": {
      "image/png": "[encoded data removed]",
      "text/plain": [
       "<Figure size 800x400 with 1 Axes>"
      ]
     },
     "metadata": {},
     "output_type": "display_data"
    }
   ],
   "source": [
    "\n",
    "posts_by_hour = tweets.groupby(['post_hour','account_type']).size().reset_index(name='count')\n",
    "hour_pivot = posts_by_hour.pivot(index='post_hour', columns='account_type', values='count').fillna(0)\n",
    "\n",
    "plt.figure(figsize=(8,4))\n",
    "sns.lineplot(x=hour_pivot.index, y=hour_pivot['IO'], label='IO', color='orange')\n",
    "sns.lineplot(x=hour_pivot.index, y=hour_pivot['Control'], label='Control', color='blue')\n",
    "plt.title('Average Posting Activity by Hour of Day')\n",
    "plt.xlabel('Hour of Day'); plt.ylabel('Average # of Posts')\n",
    "plt.xticks(range(0,24,3))\n",
    "plt.legend()\n",
    "plt.show()"
   ]
  },
  {
   "cell_type": "markdown",
   "id": "47f35880",
   "metadata": {},
   "source": [
    "Below, we examine the breakdown of tweets by account type and language by subsetting our data. We are going to view the top 10 languages in our dataset with the following code which groups the data into the two catagories language and account type."
   ]
  },
  {
   "cell_type": "code",
   "execution_count": null,
   "id": "f71cbdc3",
   "metadata": {},
   "outputs": [
    {
     "data": {
      "text/html": [
       "<div>\n",
       "<style scoped>\n",
       "    .dataframe tbody tr th:only-of-type {\n",
       "        vertical-align: middle;\n",
       "    }\n",
       "\n",
       "    .dataframe tbody tr th {\n",
       "        vertical-align: top;\n",
       "    }\n",
       "\n",
       "    .dataframe thead th {\n",
       "        text-align: right;\n",
       "    }\n",
       "</style>\n",
       "<table border=\"1\" class=\"dataframe\">\n",
       "  <thead>\n",
       "    <tr style=\"text-align: right;\">\n",
       "      <th>account_type</th>\n",
       "      <th>Control</th>\n",
       "      <th>IO</th>\n",
       "      <th>Total</th>\n",
       "    </tr>\n",
       "    <tr>\n",
       "      <th>post_language</th>\n",
       "      <th></th>\n",
       "      <th></th>\n",
       "      <th></th>\n",
       "    </tr>\n",
       "  </thead>\n",
       "  <tbody>\n",
       "    <tr>\n",
       "      <th>en</th>\n",
       "      <td>51603.0</td>\n",
       "      <td>741655.0</td>\n",
       "      <td>793258.0</td>\n",
       "    </tr>\n",
       "    <tr>\n",
       "      <th>und</th>\n",
       "      <td>4878.0</td>\n",
       "      <td>149295.0</td>\n",
       "      <td>154173.0</td>\n",
       "    </tr>\n",
       "    <tr>\n",
       "      <th>ru</th>\n",
       "      <td>15661.0</td>\n",
       "      <td>7171.0</td>\n",
       "      <td>22832.0</td>\n",
       "    </tr>\n",
       "    <tr>\n",
       "      <th>fr</th>\n",
       "      <td>5437.0</td>\n",
       "      <td>8722.0</td>\n",
       "      <td>14159.0</td>\n",
       "    </tr>\n",
       "    <tr>\n",
       "      <th>es</th>\n",
       "      <td>4602.0</td>\n",
       "      <td>1538.0</td>\n",
       "      <td>6140.0</td>\n",
       "    </tr>\n",
       "    <tr>\n",
       "      <th>ar</th>\n",
       "      <td>773.0</td>\n",
       "      <td>1955.0</td>\n",
       "      <td>2728.0</td>\n",
       "    </tr>\n",
       "    <tr>\n",
       "      <th>pt</th>\n",
       "      <td>1695.0</td>\n",
       "      <td>372.0</td>\n",
       "      <td>2067.0</td>\n",
       "    </tr>\n",
       "    <tr>\n",
       "      <th>in</th>\n",
       "      <td>455.0</td>\n",
       "      <td>1132.0</td>\n",
       "      <td>1587.0</td>\n",
       "    </tr>\n",
       "    <tr>\n",
       "      <th>tr</th>\n",
       "      <td>414.0</td>\n",
       "      <td>909.0</td>\n",
       "      <td>1323.0</td>\n",
       "    </tr>\n",
       "    <tr>\n",
       "      <th>it</th>\n",
       "      <td>744.0</td>\n",
       "      <td>399.0</td>\n",
       "      <td>1143.0</td>\n",
       "    </tr>\n",
       "  </tbody>\n",
       "</table>\n",
       "</div>"
      ],
      "text/plain": [
       "account_type   Control        IO     Total\n",
       "post_language                             \n",
       "en             51603.0  741655.0  793258.0\n",
       "und             4878.0  149295.0  154173.0\n",
       "ru             15661.0    7171.0   22832.0\n",
       "fr              5437.0    8722.0   14159.0\n",
       "es              4602.0    1538.0    6140.0\n",
       "ar               773.0    1955.0    2728.0\n",
       "pt              1695.0     372.0    2067.0\n",
       "in               455.0    1132.0    1587.0\n",
       "tr               414.0     909.0    1323.0\n",
       "it               744.0     399.0    1143.0"
      ]
     },
     "metadata": {},
     "output_type": "display_data"
    }
   ],
   "source": [
    "lang_counts = tweets.groupby(['post_language','account_type']).size().reset_index(name='count')\n",
    "lang_pivot = lang_counts.pivot(index='post_language', columns='account_type', values='count').fillna(0)\n",
    "lang_pivot['Total'] = lang_pivot.sum(axis=1)\n",
    "lang_pivot = lang_pivot.sort_values('Total', ascending=False)\n",
    "\n",
    "display(lang_pivot.head(10)) "
   ]
  },
  {
   "cell_type": "markdown",
   "id": "7cd22175",
   "metadata": {},
   "source": [
    "**First,** Lets identify the top 10 langauges in our data\n",
    "\n",
    "English, Undetermined, Russian, French, Spanish, Arabic, Portugese, UNKNOWN, Turksih, Italian\n",
    "\n",
    "\n",
    "**Second,** for each langauge, we'll determine which account is posting more frequently.\n",
    "\n",
    "\n",
    ">**English:** Disinforamtion\n",
    ">\n",
    ">**Undetermined:** Disinformation\n",
    ">\n",
    ">**Russian:** Control\n",
    ">\n",
    ">**Frech:** Disinformation\n",
    ">\n",
    ">**Spanish:** Control\n",
    ">\n",
    ">**Arabic:** Disinformation\n",
    ">\n",
    ">**Portugese:** Control\n",
    ">\n",
    ">**(UNKNOWN):** Disinformation\n",
    ">\n",
    ">**Turkish:** Disinformation\n",
    ">\n",
    ">**Italian:** Control\n",
    "\n",
    "From this list we can see there are only four langauges which have more Control posts than disinformation posts. As we know, there are more disinformation posts in the dataset, so this is not necessarily surprising. One thing we can do to make this data more meaningul is to examine the ratio of control to disinformation tweets. This will help us determine where disinformation efforts are being focused linguistically.\n",
    "\n",
    ">**English:** .07\n",
    ">\n",
    ">**Undetermined:** .03\n",
    ">\n",
    ">**Russian:** 2.18\n",
    ">\n",
    ">**Frech:** .62\n",
    ">\n",
    ">**Spanish:** 2.99\n",
    ">\n",
    ">**Arabic:** .40\n",
    ">\n",
    ">**Portugese:** 4.55\n",
    ">\n",
    ">**(UNKNOWN):** .40\n",
    ">\n",
    ">**Turkish:** .45\n",
    ">\n",
    ">**Italian:** 1.86\n",
    "\n",
    "From here we can see that excluding unknown languges the language with the lowest ratio (most disinformation) is very clearly English. As it appears rusian propagandists and disinformation agents are least concerned with Russia and Spain, and most aggressively target English information markets.\n"
   ]
  },
  {
   "cell_type": "markdown",
   "id": "0b38ff2b",
   "metadata": {},
   "source": [
    "## 0.1 Hashtag analysis"
   ]
  },
  {
   "cell_type": "markdown",
   "id": "61781255",
   "metadata": {},
   "source": [
    "The next step in our data analysis is going to explore the most frequent hashtags from each account type. The code below finds the 10 most frequent hashtags from the control accounts and the disinformation accounts and displays them with their frequency. As you look at the tables below, pay attention to the content and the language of the hashtags. \n",
    "\n",
    "From our langauge analysis we can reasonable predict disinformation is likely to be in the English language, but the components of langauge that are frequently being used can be found by looking at the hashtags coming from these accounts. \n",
    "\n",
    "🧠 **Key Questions**\n",
    "\n",
    "1. With reference to the timeline of tweets, and the hashtags below, describe some of the main targets of Russian disinformation. \n",
    "2. Given what you know about disinformation, what are the *intentions* of these accounts, and what *outcomes* are they attempting to create?\n",
    "3. What do the hashtags *not* tell us about the disinformation accounts? Where might our ability to conclude the intentions and outcomes of these accounts be limited by the data we have examined?\n",
    "4. What additional data could we collect to better understand this type of disinformation. \n"
   ]
  },
  {
   "cell_type": "code",
   "execution_count": null,
   "id": "d48245d6",
   "metadata": {},
   "outputs": [
    {
     "name": "stdout",
     "output_type": "stream",
     "text": [
      "Top 10 Hashtags - IO Accounts\n"
     ]
    },
    {
     "data": {
      "text/html": [
       "<div>\n",
       "<style scoped>\n",
       "    .dataframe tbody tr th:only-of-type {\n",
       "        vertical-align: middle;\n",
       "    }\n",
       "\n",
       "    .dataframe tbody tr th {\n",
       "        vertical-align: top;\n",
       "    }\n",
       "\n",
       "    .dataframe thead th {\n",
       "        text-align: right;\n",
       "    }\n",
       "</style>\n",
       "<table border=\"1\" class=\"dataframe\">\n",
       "  <thead>\n",
       "    <tr style=\"text-align: right;\">\n",
       "      <th></th>\n",
       "      <th>hashtag</th>\n",
       "      <th>count</th>\n",
       "    </tr>\n",
       "  </thead>\n",
       "  <tbody>\n",
       "    <tr>\n",
       "      <th>0</th>\n",
       "      <td>qanon</td>\n",
       "      <td>4814</td>\n",
       "    </tr>\n",
       "    <tr>\n",
       "      <th>1</th>\n",
       "      <td>maga</td>\n",
       "      <td>4468</td>\n",
       "    </tr>\n",
       "    <tr>\n",
       "      <th>2</th>\n",
       "      <td>авто</td>\n",
       "      <td>2693</td>\n",
       "    </tr>\n",
       "    <tr>\n",
       "      <th>3</th>\n",
       "      <td>releasethememoreleasethememoreleasethememorele...</td>\n",
       "      <td>2494</td>\n",
       "    </tr>\n",
       "    <tr>\n",
       "      <th>4</th>\n",
       "      <td>trump</td>\n",
       "      <td>1959</td>\n",
       "    </tr>\n",
       "    <tr>\n",
       "      <th>5</th>\n",
       "      <td>trump2016</td>\n",
       "      <td>1755</td>\n",
       "    </tr>\n",
       "    <tr>\n",
       "      <th>6</th>\n",
       "      <td>tcot</td>\n",
       "      <td>1635</td>\n",
       "    </tr>\n",
       "    <tr>\n",
       "      <th>7</th>\n",
       "      <td>gopdebate</td>\n",
       "      <td>1632</td>\n",
       "    </tr>\n",
       "    <tr>\n",
       "      <th>8</th>\n",
       "      <td>americafirstmakeamericagreatagainmaga</td>\n",
       "      <td>1627</td>\n",
       "    </tr>\n",
       "    <tr>\n",
       "      <th>9</th>\n",
       "      <td>schumershutdownschumerselloutschumersurrenderr...</td>\n",
       "      <td>1493</td>\n",
       "    </tr>\n",
       "  </tbody>\n",
       "</table>\n",
       "</div>"
      ],
      "text/plain": [
       "                                             hashtag  count\n",
       "0                                              qanon   4814\n",
       "1                                               maga   4468\n",
       "2                                               авто   2693\n",
       "3  releasethememoreleasethememoreleasethememorele...   2494\n",
       "4                                              trump   1959\n",
       "5                                          trump2016   1755\n",
       "6                                               tcot   1635\n",
       "7                                          gopdebate   1632\n",
       "8              americafirstmakeamericagreatagainmaga   1627\n",
       "9  schumershutdownschumerselloutschumersurrenderr...   1493"
      ]
     },
     "metadata": {},
     "output_type": "display_data"
    },
    {
     "name": "stdout",
     "output_type": "stream",
     "text": [
      "\n",
      "Top 10 Hashtags - Control Accounts\n"
     ]
    },
    {
     "data": {
      "text/html": [
       "<div>\n",
       "<style scoped>\n",
       "    .dataframe tbody tr th:only-of-type {\n",
       "        vertical-align: middle;\n",
       "    }\n",
       "\n",
       "    .dataframe tbody tr th {\n",
       "        vertical-align: top;\n",
       "    }\n",
       "\n",
       "    .dataframe thead th {\n",
       "        text-align: right;\n",
       "    }\n",
       "</style>\n",
       "<table border=\"1\" class=\"dataframe\">\n",
       "  <thead>\n",
       "    <tr style=\"text-align: right;\">\n",
       "      <th></th>\n",
       "      <th>hashtag</th>\n",
       "      <th>count</th>\n",
       "    </tr>\n",
       "  </thead>\n",
       "  <tbody>\n",
       "    <tr>\n",
       "      <th>0</th>\n",
       "      <td>авто</td>\n",
       "      <td>709</td>\n",
       "    </tr>\n",
       "    <tr>\n",
       "      <th>1</th>\n",
       "      <td>автоpeugeot</td>\n",
       "      <td>442</td>\n",
       "    </tr>\n",
       "    <tr>\n",
       "      <th>2</th>\n",
       "      <td>ferguson</td>\n",
       "      <td>428</td>\n",
       "    </tr>\n",
       "    <tr>\n",
       "      <th>3</th>\n",
       "      <td>tcot</td>\n",
       "      <td>421</td>\n",
       "    </tr>\n",
       "    <tr>\n",
       "      <th>4</th>\n",
       "      <td>audiавто</td>\n",
       "      <td>405</td>\n",
       "    </tr>\n",
       "    <tr>\n",
       "      <th>5</th>\n",
       "      <td>gaza</td>\n",
       "      <td>367</td>\n",
       "    </tr>\n",
       "    <tr>\n",
       "      <th>6</th>\n",
       "      <td>автозапчасти</td>\n",
       "      <td>348</td>\n",
       "    </tr>\n",
       "    <tr>\n",
       "      <th>7</th>\n",
       "      <td>автоновости</td>\n",
       "      <td>320</td>\n",
       "    </tr>\n",
       "    <tr>\n",
       "      <th>8</th>\n",
       "      <td>pjnet</td>\n",
       "      <td>316</td>\n",
       "    </tr>\n",
       "    <tr>\n",
       "      <th>9</th>\n",
       "      <td>moviemusicasslolvideo</td>\n",
       "      <td>290</td>\n",
       "    </tr>\n",
       "  </tbody>\n",
       "</table>\n",
       "</div>"
      ],
      "text/plain": [
       "                 hashtag  count\n",
       "0                   авто    709\n",
       "1            автоpeugeot    442\n",
       "2               ferguson    428\n",
       "3                   tcot    421\n",
       "4               audiавто    405\n",
       "5                   gaza    367\n",
       "6           автозапчасти    348\n",
       "7            автоновости    320\n",
       "8                  pjnet    316\n",
       "9  moviemusicasslolvideo    290"
      ]
     },
     "metadata": {},
     "output_type": "display_data"
    }
   ],
   "source": [
    "\n",
    "tweets_hs = tweets.explode('hashtags').rename(columns={'hashtags': 'hashtag'})\n",
    "\n",
    "tweets_hs = tweets_hs[tweets_hs['hashtag'].notna() & (tweets_hs['hashtag'] != '')]\n",
    "tweets_hs['hashtag'] = tweets_hs['hashtag'].str.lower()\n",
    "\n",
    "top_io = (\n",
    "    tweets_hs[tweets_hs['account_type'] == 'IO']\n",
    "    .groupby('hashtag').size()\n",
    "    .nlargest(10)\n",
    "    .reset_index(name='count')\n",
    ")\n",
    "\n",
    "top_control = (\n",
    "    tweets_hs[tweets_hs['account_type'] == 'Control']\n",
    "    .groupby('hashtag').size()\n",
    "    .nlargest(10)\n",
    "    .reset_index(name='count')\n",
    ")\n",
    "\n",
    "print(\"Top 10 Hashtags - IO Accounts\")\n",
    "display(top_io)\n",
    "\n",
    "print(\"\\nTop 10 Hashtags - Control Accounts\")\n",
    "display(top_control)"
   ]
  },
  {
   "cell_type": "markdown",
   "id": "1053c556",
   "metadata": {},
   "source": [
    "### 🛑 Stop and Reflect ###\n",
    "\n",
    "Now that we have gone through the dataset and examined a variety of its features, take a few minutes and disucss the following questions with a partner or small group. \n",
    "\n",
    "1. What are the conclusions we have come to regarding disinformation? How are they influenced or limited by the dataset? \n",
    "2. So far we have only looked at statistical aspects of the data without using machine learning techniques. Make some predictions on how the machine learning techniques we will use next might change our understanding of online disinformation. How might machine learning, specifically NLP be used to enrich our understanding of disinformation?\n",
    "3. Has your understanding of online disinformation changed after looking at this data? Write down a few questions you have about online disinformation, the dataset, or the computational methods we have been using."
   ]
  },
  {
   "cell_type": "markdown",
   "id": "c304502f",
   "metadata": {},
   "source": [
    "## 1. Can we tune models to detect online disinformation campaigns? Classifying current tweets with a model finetuned on the russian_disinformation_tweets dataset\n",
    "\n",
    "### Exploring Our Model\n",
    "\n",
    "Now that we have examined our data and looked at some of the key features in the Russian Disinformation Dataset, we can start thinking about ways to use machine learning to answer questions, classify features, and make predictions about our dataset. To do any of these tasks we first require a way to interpret the text data and assign numeric qualities to our tweets. \n",
    "\n",
    "The model we are using to do this is a multilingual model which maps sentences and paragraphs into multi-dimensional vector space. In other words, it takes the sentences and paragraphs of our tweets and assigns them a position associated with their meaning. This is done based on the context of the token (the unit of text, like a word or sentence). The model we are using is capable of interpreting multiple languages and is fine-tuned, or specifically trained, on the data we are examining. The code below is going to call upon a pre-built classifier which uses this fine-tuned model to predict whether a tweet is likely Russian propaganda. The two sample tweets are: \n",
    "\n",
    "1. “#qanon #trump Hunter Biden is a Ukranian Shill” \n",
    "\n",
    "2. “What great weather we have today” \n",
    "\n",
    "The model is going to take these text inputs, represent them in vector space, and then report whether their respective values are similar to those of disinformation tweets.  \n",
    "\n",
    "### Classification and It's Discontents ### \n",
    "\n",
    "Before we explore the possibilities of our model to classify, we should first consider some of the main concerns and limitations regarding classification. Classification is an essential element of how machine learning operates. At its core it is the method of finding features that are central to a class and assigning units to that class based on those features. As you may already see, this \"in-or-out\" framework necessarily flattens some of the richness of human life, in order to effectively create these incredibly useful classes.\n",
    "\n",
    "> **Example:** \n",
    ">\n",
    "> You might say a cat and a dog are really easy to classify. Most people know what a dog looks like and that it looks different than a cat. But if all I tell you is that there are two animals that commonly live with humans, that have a tail and paws, and make noise you might have a hard time classifying them, because they share common features.\n",
    ">\n",
    "> It is important to think deeply about how we are classifying, especially as many datasets are labeled by people, who carry their own understandings of what belongs to each class.\n",
    ">\n",
    "> Any class or classifier will be informed by the balance of abstraction to specificity, and we should always keep this in mind when we are classifying. It is important to be specific enough to ascertain the qualities we are interested in, but not so specific we end up with thousands of classes.\n",
    "\n",
    "Now that we have explored some of the trickiness of classification as a concept, we can look at how machine learning can help us work through some of these challenges. By using data that is labeled as disinformation our model can be trained to associated certain numerical feautres with disinformation, and when we give it text data that is similar to what it knows to be disinformation, it will classify it as such."
   ]
  },
  {
   "cell_type": "code",
   "execution_count": 5,
   "id": "6df33276",
   "metadata": {},
   "outputs": [
    {
     "ename": "ModuleNotFoundError",
     "evalue": "No module named 'inference_code'",
     "output_type": "error",
     "traceback": [
      "\u001b[31m---------------------------------------------------------------------------\u001b[39m",
      "\u001b[31mModuleNotFoundError\u001b[39m                       Traceback (most recent call last)",
      "\u001b[36mCell\u001b[39m\u001b[36m \u001b[39m\u001b[32mIn[5]\u001b[39m\u001b[32m, line 1\u001b[39m\n\u001b[32m----> \u001b[39m\u001b[32m1\u001b[39m \u001b[38;5;28;01mfrom\u001b[39;00m\u001b[38;5;250m \u001b[39m\u001b[34;01minference_code\u001b[39;00m\u001b[34;01m.\u001b[39;00m\u001b[34;01mpy\u001b[39;00m\u001b[38;5;250m \u001b[39m\u001b[38;5;28;01mimport\u001b[39;00m classify_texts\n\u001b[32m      3\u001b[39m texts = [\u001b[33m\"\u001b[39m\u001b[33m#qanon #trump Hunter Biden is a ukrainian shill\u001b[39m\u001b[33m\"\u001b[39m, \u001b[33m\"\u001b[39m\u001b[33mWhat great weather we have today\u001b[39m\u001b[33m\"\u001b[39m]\n\u001b[32m      4\u001b[39m \u001b[38;5;28;01mfor\u001b[39;00m text \u001b[38;5;129;01min\u001b[39;00m texts:\n",
      "\u001b[31mModuleNotFoundError\u001b[39m: No module named 'inference_code'"
     ]
    }
   ],
   "source": [
    "from inference_code.py import classify_texts\n",
    "\n",
    "texts = [\"#qanon #trump Hunter Biden is a ukrainian shill\", \"What great weather we have today\"]\n",
    "for text in texts:\n",
    "    preds, probs = classify_texts([text])\n",
    "\n",
    "    label_map = {0: \"Control\", 1: \"IO\"}  \n",
    "    pred_label = label_map[preds[0]]\n",
    "    pred_prob  = probs[0, preds[0]]\n",
    "\n",
    "    print(f\"Text: {text}\")\n",
    "    print(f\"Predicted class: {pred_label}  (confidence: {pred_prob:.2f})\")"
   ]
  },
  {
   "cell_type": "markdown",
   "id": "4ad51f7b",
   "metadata": {},
   "source": [
    "add more stuff related to model evaluation, ipywidget for entering text students found on twitter and running it against the model"
   ]
  },
  {
   "cell_type": "markdown",
   "id": "7fe92c25",
   "metadata": {},
   "source": [
    "## 1. What is Sentiment Analysis?\n",
    "> “Sentiment analysis is the practice of applying natural language processing and text analysis techniques to identify and extract subjective information from text” (Hussein, 2018). \n",
    "\n",
    "As this definition alludes, sentiment analysis is a part of **natural language processing (NLP)**, a field at the intersection of human language and computation. Because humans are complex, emotional beings, the language we use is often shaped by our affective (emotional) dispositions. Sentiment analysis, sometimes referred to as “opinion mining”, is one way researchers can methodologically understand the emotional intentions, typically positive, negative, or neutral sentiments, that lie in textual datasets."
   ]
  },
  {
   "cell_type": "markdown",
   "id": "708a12d4",
   "metadata": {},
   "source": [
    "> ### 🔎 Engage Critically\n",
    "> At the heart of sentiment analysis is the assumption that language reveals interior, affective states, and that these states can be codified and generalized to broader populations. AI scholar Kate Crawford, in her book [Atlas of AI](https://katecrawford.net/atlas), explores how many assumptions found in contemporary sentiment research (i.e., that there are 7 universal emotions) are largely unsubstantiated notions that emerged from mid-20th century research funded by the US Department of Defense. Rather than maintaining that emotions can be universally categorized, her work invites researchers to think about how emotional expression is highly contextualized by social and cultural factors and the distinct subject positions of content makers.\n",
    ">\n",
    ">> ❓ Consider the research question for your sentiment analysis. How might the text you are working with be shaped by the distinct groups that have generated it?\n",
    "> \n",
    ">> ❓ Are there steps you can take to educate yourself around the unique language uses of your dataset (for example, directly speaking with someone from that group or learning from a qualified expert on the subject)?\n",
    "> \n",
    "If you’re interested, you can learn more about data justice in community research in a [guide](https://orice.ubc.ca/wp-content/uploads/sites/43/2022/06/2022-Gender-Guide-1.pdf) created by UBC’s Office for Regional and International Community Engagement."
   ]
  },
  {
   "cell_type": "markdown",
   "id": "6e509d42",
   "metadata": {},
   "source": [
    "The rise of [web 2.0](https://en.wikipedia.org/wiki/Web_2.0) has produced prolific volumes of user-generated content (UGC) on the internet, particularly as people engage in a variety of social platforms and forums to share opinions, ideas and express themselves. Maybe you are interested in understanding how people feel about a particular political candidate by examining tweets around election time, or you wonder what people think about a particular bus route on reddit. UGC is often unstructured data, meaning that it isn’t organized in a recognizable way.\n",
    "\n",
    "Structured data for opinions about a political candidate might look like this:\n",
    "\n",
    "| Pro      | Con | Neutral    |\n",
    "| ----------- | ----------- | -----------\n",
    "| Supports climate action policies      | No plan for lowering the cost of living       | UBC Graduate\n",
    "| Expand mental health services   |        |\n",
    "\n",
    "While unstructured data might look like this:\n",
    "\n",
    "> love that she’s trying to increase mental health services  + actually cares abt the climate 👏 but what's up w rent n grocieries?? i dont wanna go broke out here 😭 a ubc alum too like i thought she'd understand\n",
    "\n",
    "In the structured data example above, the reviewer defines which parts of the feedback are positive, negative or neutral. In the unstructured example on the other hand, there are many typos and a given sentence might include a positive and a negative review as well as more nuanced contextual information (i.e. mentioning being a UBC alum when discussing cost of living). While messy, this contextual information often carries valuable insights that can be very useful for researchers.\n",
    "\n",
    "The task of sentiment analysis is to make sense of these kinds of nuanced textual data - often for the purpose of understanding people, predicting human behaviour, or even in some cases, manipulating human behaviour.\n",
    "\n",
    "Disinformation campaigns often aim to sway public opinion by influencing the emotional tone of online conversations. **Sentiment analysis** allows us to detect and understand these patterns by identifying whether large volumes of text express **positive**, **negative**, or **neutral** sentiment.\n",
    "\n",
    "Our model is pretrained, meaning it has already learnt from millions of labelled examples how to distinguish different sentiments. Specifically, because the model we’ll be using was trained on English tweets, it’s tuned to the language and syntax common on Twitter/X, and is limited to analyzing English-language text.\n",
    "\n",
    "**Language is complex and always changing.**\n",
    "\n",
    "In the English language, for example, the word “present” has multiple meanings which could have positive, negative or neutral connotations. Further, a contemporary sentiment lexicon might code the word “miss” as being associated with negative or sad emotional experiences such as longing; if such a lexicon were applied to a 19th century novel which uses the word “miss” to describe single women, then, it might incorrectly associate negative sentiment where it shouldn’t be. While sentiment analysis can be a useful tool, it demands ongoing criticality and reflexivity from a researcher (you!). Throughout your analysis, be sure to continually ask yourself whether a particular sentiment lexicon is appropriate for your project."
   ]
  },
  {
   "cell_type": "markdown",
   "id": "2e8b7e80",
   "metadata": {},
   "source": [
    "Now, we're ready to get back to our analysis. Below, we'll load in our model and tokenizer and start playing around with identifying the sentiment of different phrases. "
   ]
  },
  {
   "cell_type": "code",
   "execution_count": 10,
   "id": "1859b344",
   "metadata": {},
   "outputs": [
    {
     "name": "stderr",
     "output_type": "stream",
     "text": [
      "Some weights of the model checkpoint at ../twitter-roberta-base-sentiment-latest were not used when initializing RobertaForSequenceClassification: ['roberta.pooler.dense.bias', 'roberta.pooler.dense.weight']\n",
      "- This IS expected if you are initializing RobertaForSequenceClassification from the checkpoint of a model trained on another task or with another architecture (e.g. initializing a BertForSequenceClassification model from a BertForPreTraining model).\n",
      "- This IS NOT expected if you are initializing RobertaForSequenceClassification from the checkpoint of a model that you expect to be exactly identical (initializing a BertForSequenceClassification model from a BertForSequenceClassification model).\n",
      "Device set to use cuda:0\n"
     ]
    },
    {
     "name": "stdout",
     "output_type": "stream",
     "text": [
      "[{'label': 'negative', 'score': 0.9046770334243774}]\n"
     ]
    }
   ],
   "source": [
    "from transformers import pipeline\n",
    "\n",
    "local_dir = \"../twitter-roberta-base-sentiment-latest\"\n",
    "\n",
    "sentiment = pipeline(\n",
    "    \"sentiment-analysis\",\n",
    "    model=local_dir,\n",
    "    tokenizer=local_dir,\n",
    ")\n",
    "\n",
    "print(sentiment(\"I HATE JOE BIDEN\"))"
   ]
  },
  {
   "cell_type": "markdown",
   "id": "701f76d0",
   "metadata": {},
   "source": [
    "Let’s breakdown this output. There are two parts to what the model returns:\n",
    "\n",
    "1. **Label** → a classification labelling the text as either having positive, negative, or neutral sentiment \n",
    "2. **Score** → the model’s confidence in it’s classification"
   ]
  },
  {
   "cell_type": "markdown",
   "id": "3853ff16",
   "metadata": {},
   "source": [
    "> ### 🔎 Engage Critically\n",
    "> Try using the interactive tool below to explore how a machine learning model detects sentiment in short texts like tweets. The model classifies each input as positive, neutral, or negative, and assigns a probability score to each label. Type a sentence (like a tweet or short message) into the box below and click \"Analyze\" to see how the model interprets its emotional tone."
   ]
  },
  {
   "cell_type": "code",
   "execution_count": 12,
   "id": "58a1af07",
   "metadata": {},
   "outputs": [
    {
     "name": "stderr",
     "output_type": "stream",
     "text": [
      "Some weights of the model checkpoint at ../twitter-roberta-base-sentiment-latest were not used when initializing RobertaForSequenceClassification: ['roberta.pooler.dense.bias', 'roberta.pooler.dense.weight']\n",
      "- This IS expected if you are initializing RobertaForSequenceClassification from the checkpoint of a model trained on another task or with another architecture (e.g. initializing a BertForSequenceClassification model from a BertForPreTraining model).\n",
      "- This IS NOT expected if you are initializing RobertaForSequenceClassification from the checkpoint of a model that you expect to be exactly identical (initializing a BertForSequenceClassification model from a BertForSequenceClassification model).\n",
      "Device set to use cuda:0\n"
     ]
    },
    {
     "data": {
      "application/vnd.jupyter.widget-view+json": {
       "model_id": "1f68c1b3188c42378f1326b804e5c99d",
       "version_major": 2,
       "version_minor": 0
      },
      "text/plain": [
       "VBox(children=(Text(value='I HATE JOE BIDEN', description='Input:', layout=Layout(width='70%'), placeholder='T…"
      ]
     },
     "metadata": {},
     "output_type": "display_data"
    }
   ],
   "source": [
    "from transformers import pipeline\n",
    "sentiment = pipeline(\n",
    "    \"sentiment-analysis\",\n",
    "    model=\"../twitter-roberta-base-sentiment-latest\",\n",
    "    tokenizer=\"../twitter-roberta-base-sentiment-latest\",\n",
    "    return_all_scores=True  \n",
    ")\n",
    "\n",
    "import ipywidgets as widgets\n",
    "from IPython.display import display, clear_output\n",
    "import matplotlib.pyplot as plt\n",
    "\n",
    "#  widget components\n",
    "text_input = widgets.Text(\n",
    "    value=\"I HATE JOE BIDEN\",\n",
    "    placeholder=\"Type a sentence here\",\n",
    "    description=\"Input:\",\n",
    "    layout=widgets.Layout(width=\"70%\")\n",
    ")\n",
    "analyze_btn = widgets.Button(description=\"Analyze\", button_style=\"primary\")\n",
    "output_area = widgets.Output()\n",
    "\n",
    "# what happens on button click\n",
    "def on_analyze_clicked(b):\n",
    "    with output_area:\n",
    "        clear_output(wait=True)\n",
    "        scores = sentiment(text_input.value)[0]\n",
    "        labels = [item[\"label\"] for item in scores]\n",
    "        probs  = [item[\"score\"] for item in scores]\n",
    "        fig, ax = plt.subplots(figsize=(6,4))\n",
    "        bars = ax.bar(labels, probs)\n",
    "        ax.set_ylim(0, 1)\n",
    "        ax.set_ylabel(\"Probability\")\n",
    "        ax.set_title(\"Sentiment Probability Distribution\")\n",
    "        for bar, prob in zip(bars, probs):\n",
    "            height = bar.get_height()\n",
    "            ax.text(\n",
    "                bar.get_x() + bar.get_width() / 2,  \n",
    "                height + 0.02,                    \n",
    "                f\"{prob:.2f}\",                   \n",
    "                ha=\"center\", va=\"bottom\",\n",
    "                color=\"red\", fontsize=12\n",
    "            )\n",
    "        plt.show()\n",
    "\n",
    "analyze_btn.on_click(on_analyze_clicked)\n",
    "\n",
    "display(widgets.VBox([text_input, analyze_btn, output_area]))"
   ]
  },
  {
   "cell_type": "code",
   "execution_count": 1,
   "id": "6ea8e7f2",
   "metadata": {},
   "outputs": [
    {
     "ename": "NameError",
     "evalue": "name 'tweets' is not defined",
     "output_type": "error",
     "traceback": [
      "\u001b[0;31m---------------------------------------------------------------------------\u001b[0m",
      "\u001b[0;31mNameError\u001b[0m                                 Traceback (most recent call last)",
      "Cell \u001b[0;32mIn[1], line 1\u001b[0m\n\u001b[0;32m----> 1\u001b[0m tweets_small \u001b[38;5;241m=\u001b[39m \u001b[43mtweets\u001b[49m\u001b[38;5;241m.\u001b[39msample(n\u001b[38;5;241m=\u001b[39m\u001b[38;5;241m10000\u001b[39m, random_state\u001b[38;5;241m=\u001b[39m\u001b[38;5;241m42\u001b[39m)\u001b[38;5;241m.\u001b[39mreset_index(drop\u001b[38;5;241m=\u001b[39m\u001b[38;5;28;01mTrue\u001b[39;00m)\n\u001b[1;32m      2\u001b[0m tweets_small[\u001b[38;5;124m\"\u001b[39m\u001b[38;5;124msentiment\u001b[39m\u001b[38;5;124m\"\u001b[39m] \u001b[38;5;241m=\u001b[39m \u001b[38;5;124m\"\u001b[39m\u001b[38;5;124m\"\u001b[39m \n",
      "\u001b[0;31mNameError\u001b[0m: name 'tweets' is not defined"
     ]
    }
   ],
   "source": [
    "tweets_small = tweets.sample(n=10000, random_state=42).reset_index(drop=True)\n",
    "tweets_small[\"sentiment\"] = \"\" "
   ]
  },
  {
   "cell_type": "markdown",
   "id": "2319a2a4",
   "metadata": {},
   "source": [
    "### Batch Sentiment Analysis"
   ]
  },
  {
   "cell_type": "markdown",
   "id": "c5af63df",
   "metadata": {},
   "source": [
    "Now, let’s start running sentiment analysis on our dataset. The general steps to run our analysis include: \n",
    "\n",
    "1. Loading a pretrained model and tokenizer\n",
    "    \n",
    "    We load a RoBERTa model that has been fine-tuned for sentiment analysis on tweets, along with its corresponding tokenizer.\n",
    "    \n",
    "2. Creating sentiment analysis pipeline\n",
    "    \n",
    "    We set up a Hugging Face pipeline that handles finer steps in our sentiment analysis, such as **tokenization** (breaking up text into smaller units, called *tokens*), **batching** (processing multiple texts at once for efficiency), and **prediction** (predicting the overall sentiment). \n",
    "    \n",
    "3. Running batch sentiment analysis on the dataset\n",
    "    \n",
    "    To efficiently analyze large numbers of tweets, we split the dataset into batches of 1,000 tweets and process them one batch at a time. To store the predictions, we extract the predicted sentiment labels and save them in a column named `sentiment`.\n",
    "\n",
    "4. Previewing the results\n",
    "    "
   ]
  },
  {
   "cell_type": "code",
   "execution_count": null,
   "id": "43eb0a9b",
   "metadata": {},
   "outputs": [
    {
     "name": "stderr",
     "output_type": "stream",
     "text": [
      "Some weights of the model checkpoint at ../twitter-roberta-base-sentiment-latest were not used when initializing RobertaForSequenceClassification: ['roberta.pooler.dense.bias', 'roberta.pooler.dense.weight']\n",
      "- This IS expected if you are initializing RobertaForSequenceClassification from the checkpoint of a model trained on another task or with another architecture (e.g. initializing a BertForSequenceClassification model from a BertForPreTraining model).\n",
      "- This IS NOT expected if you are initializing RobertaForSequenceClassification from the checkpoint of a model that you expect to be exactly identical (initializing a BertForSequenceClassification model from a BertForSequenceClassification model).\n",
      "Device set to use cuda:0\n"
     ]
    },
    {
     "name": "stdout",
     "output_type": "stream",
     "text": [
      "                                                text sentiment\n",
      "0  @a20407d4508cfb4cccb0602f3266ef44c9c5b8bbfc @6...   neutral\n",
      "1  Freedom of speech is 1thing but, calling for j...  negative\n",
      "2  🚨🚨🚨🚨🚨🚨🚨🚨🚨🚨\\nHey @b9cc268271ebd71a94c64e2e10e2d...   neutral\n",
      "3  https://74722d423bb59f5cdf5c135dd92ad3cd67e0f6...   neutral\n",
      "4  U.S. taxpayer money squirreled away in foreign...  negative\n"
     ]
    }
   ],
   "source": [
    "from transformers import AutoTokenizer, AutoModelForSequenceClassification, pipeline\n",
    "\n",
    "# Step 1\n",
    "model_path = \"../twitter-roberta-base-sentiment-latest\"\n",
    "tokenizer = AutoTokenizer.from_pretrained(model_path)\n",
    "model = AutoModelForSequenceClassification.from_pretrained(model_path)\n",
    "\n",
    "tokenizer.model_max_length = tokenizer.model_max_length if tokenizer.model_max_length <= 512 else 512\n",
    "\n",
    "# Step 2\n",
    "sentiment_pipeline = pipeline(\n",
    "    \"sentiment-analysis\",\n",
    "    model=model,\n",
    "    tokenizer=tokenizer,\n",
    "    device=0,\n",
    "    truncation=True,\n",
    "    padding=True,\n",
    ")\n",
    "\n",
    "# Step 3\n",
    "batch_size = 1000\n",
    "for start in range(0, len(tweets_small), batch_size):\n",
    "    end = start + batch_size\n",
    "    batch_texts = tweets_small[\"text\"].iloc[start:end].tolist()\n",
    "    results = sentiment_pipeline(batch_texts)           \n",
    "    labels  = [res[\"label\"] for res in results]\n",
    "    tweets_small.loc[start:end-1, \"sentiment\"] = labels \n",
    "\n",
    "# Step 4\n",
    "print(tweets_small[[\"text\", \"sentiment\"]].head())"
   ]
  },
  {
   "cell_type": "markdown",
   "id": "922e79bd",
   "metadata": {},
   "source": [
    "We can see the first 5 tweets and their predicted sentiment above.\n",
    "\n",
    "Now that we know how to run sentiment analysis to identify the overarching sentiment of a tweet, we are now in good position to ask and investigate whether emotionally charged language is more common in propaganda. Let’s explore this by forming a hypothesis and testing it statistically. \n",
    "\n",
    "> ### 🔎 Engage Critically\n",
    "> **Hypothesis**: Propagandist tweets (`is_control == 1`) are more emotionally charged — that is, they are more likely to be classified as **Positive** or **Negative** (non-neutral) compared to non-propagandist tweets (`is_control == 0`).\n",
    ">\n",
    "> We will test whether the difference in sentiment category frequencies between the two groups is statistically significant.\n",
    "\n",
    "First, let’s examine the sentiment distribution for each group:"
   ]
  },
  {
   "cell_type": "code",
   "execution_count": 31,
   "id": "607ed239",
   "metadata": {},
   "outputs": [
    {
     "name": "stdout",
     "output_type": "stream",
     "text": [
      "           Non-propagandist  Propagandist\n",
      "sentiment                                \n",
      "negative          42.685195     18.815331\n",
      "neutral           43.823175     63.414634\n",
      "positive          13.491629     17.770035\n"
     ]
    }
   ],
   "source": [
    "dist = pd.crosstab(tweets_small['sentiment'], tweets_small['labels'], normalize='columns')\n",
    "dist.columns = ['Non-propagandist', 'Propagandist']\n",
    "print(dist * 100)"
   ]
  },
  {
   "cell_type": "markdown",
   "id": "83f9326b",
   "metadata": {},
   "source": [
    "Reading the table, we can see that the majority of non-propagandist tweets are either negative (~43%) or neutral (~44%), while the majority of propagandist tweets (~63%) express neutral sentiment. "
   ]
  },
  {
   "cell_type": "code",
   "execution_count": 34,
   "id": "58e81071",
   "metadata": {},
   "outputs": [
    {
     "name": "stdout",
     "output_type": "stream",
     "text": [
      "0        neutral\n",
      "1       negative\n",
      "2        neutral\n",
      "3        neutral\n",
      "4       negative\n",
      "          ...   \n",
      "9995    negative\n",
      "9996     neutral\n",
      "9997     neutral\n",
      "9998    negative\n",
      "9999    positive\n",
      "Name: sentiment, Length: 10000, dtype: object\n"
     ]
    }
   ],
   "source": [
    "print(tweets_small['sentiment'])"
   ]
  },
  {
   "cell_type": "code",
   "execution_count": null,
   "id": "0c24120c",
   "metadata": {},
   "outputs": [
    {
     "name": "stdout",
     "output_type": "stream",
     "text": [
      "Contingency table:\n",
      " charged     0     1\n",
      "labels             \n",
      "False    7906  1233\n",
      "True      708   153\n",
      "p-value = 6.222e-04\n"
     ]
    }
   ],
   "source": [
    "import numpy as np\n",
    "from scipy.stats import chi2_contingency\n",
    "\n",
    "# We define 'charged' sentiment as Positive or Negative\n",
    "tweets_small['charged'] = tweets_small['sentiment'].isin(['positive', 'pegative']).astype(int)\n",
    "\n",
    "# Constructing a  contingency table: rows = propagandist/non propagandist group, columnss = charged vs neutral\n",
    "contingency = pd.crosstab(tweets_small['labels'], tweets_small['charged'])\n",
    "print(\"Contingency table:\\n\", contingency)\n",
    "\n",
    "# Chi-squared test\n",
    "chi2, p, dof, expected = chi2_contingency(contingency)\n",
    "print(f\"p-value = {p:.3e}\")"
   ]
  },
  {
   "cell_type": "markdown",
   "id": "1f73ed3b",
   "metadata": {},
   "source": [
    "> ### 🔎 Engage Critically \n",
    "> Try interpreting the output. What are our results telling us? Based on the p-value, what can we conclude about our hypothesis?"
   ]
  },
  {
   "cell_type": "markdown",
   "id": "f21b7110",
   "metadata": {},
   "source": [
    "## 3. Multilingual Sentiment Analysis\n",
    "Our dataset of tweets (`russian_disinformation_tweets.csv`) isn’t entirely in English — many of the tweets are written in Russian. Could this be skewing our results? How is our model actually handling Russian-language tweets compared to English ones?\n",
    "\n",
    "> ### 🔎 Engage Critically \n",
    "> Recall our discussion on sentiment lexicons in Section 1:\n",
    ">\n",
    ">> While sentiment analysis can be a useful tool, it demands ongoing criticality and reflexivity from a researcher (you!). Throughout your analysis, be sure to continually ask yourself whether a particular sentiment lexicon is appropriate for your project.\n",
    "> \n",
    "> ❓ How might the use of a monolingual sentiment model introduce bias into our results? Are non-English tweets being misclassified as neutral, negative, or positive when they shouldn’t be?\n",
    "\n",
    "With this in mind, let’s explore below. We'll use the Unicode values of Cyrillic characters to identify Russian-language tweets, and run sentiment analysis seperately on Russiand and English tweets. "
   ]
  },
  {
   "cell_type": "code",
   "execution_count": 40,
   "id": "8792809a",
   "metadata": {},
   "outputs": [
    {
     "name": "stdout",
     "output_type": "stream",
     "text": [
      "English Tweets Sentiment (%):\n",
      "            Non-propagandist  Propagandist\n",
      "sentiment                                \n",
      "negative          43.272324     23.044097\n",
      "neutral           43.083749     55.476529\n",
      "positive          13.643927     21.479374 \n",
      "\n",
      "Russian Tweets Sentiment (%):\n",
      "            Non-propagandist  Propagandist\n",
      "sentiment                                \n",
      "neutral           97.580645     98.734177\n",
      "positive           2.419355      1.265823\n"
     ]
    }
   ],
   "source": [
    "\n",
    "import re\n",
    "tweets_lang = tweets_small.copy()\n",
    "\n",
    "# Identify Russian-language tweets\n",
    "tweets_lang['language'] = tweets_lang['text'].apply(\n",
    "     lambda txt: 'ru' if re.search('[\\u0400-\\u04FF]', str(txt)) else 'en'\n",
    ")\n",
    "\n",
    "# Filter English and Russian tweets\n",
    "eng_tweets = tweets_lang[tweets_lang['language'] == 'en']\n",
    "ru_tweets  = tweets_lang[tweets_lang['language'] == 'ru']\n",
    "\n",
    "# Sentiment distribution within each language group\n",
    "eng_dist = pd.crosstab(eng_tweets['sentiment'], eng_tweets['labels'], normalize='columns') * 100\n",
    "ru_dist  = pd.crosstab(ru_tweets['sentiment'],  ru_tweets['labels'],  normalize='columns') * 100\n",
    "eng_dist.columns = ['Non-propagandist', 'Propagandist']\n",
    "ru_dist.columns  = ['Non-propagandist', 'Propagandist']\n",
    "\n",
    "print(\"English Tweets Sentiment (%):\\n\", eng_dist, \"\\n\")\n",
    "print(\"Russian Tweets Sentiment (%):\\n\", ru_dist)"
   ]
  },
  {
   "cell_type": "markdown",
   "id": "30be8f6c",
   "metadata": {},
   "source": [
    "> ### 🔎 Engage Critically \n",
    "> Take a moment to interpret the results before continuing. What do they tell us about the performance of our model on Russian-language tweets? Why do you think that is?\n",
    "\n",
    "From the table above, we can see that our model is performing very poorly on Russian-language tweets, as nearly all of the Russian tweets are being marked as neutral regardless of if they are propagandist or not. This means that the pretrained model we were using before is not an appropriate choice based on the characteristics of our data, namely that a significant portion of the tweets are written in Russian, a language the model was not trained to make reliable predictions on. \n",
    "\n",
    "Let’s try re-running our sentiment analysis using a different model. This time, we’ll use a model trained on 198 million tweets that were not filtered by language. As a result, the training data reflects the most commonly used languages on the platform at the time of collection, with Russian conveniently ranking as the 11th most frequent.\n",
    "\n",
    "We'll follow the same steps for batch sentiment analysis that we did in Section 2:"
   ]
  },
  {
   "cell_type": "code",
   "execution_count": 12,
   "id": "faf9200e",
   "metadata": {},
   "outputs": [
    {
     "name": "stderr",
     "output_type": "stream",
     "text": [
      "Device set to use cuda:0\n"
     ]
    },
    {
     "name": "stdout",
     "output_type": "stream",
     "text": [
      "                                                text sentiment\n",
      "0  @a20407d4508cfb4cccb0602f3266ef44c9c5b8bbfc @6...   neutral\n",
      "1  Freedom of speech is 1thing but, calling for j...  negative\n",
      "2  🚨🚨🚨🚨🚨🚨🚨🚨🚨🚨\\nHey @b9cc268271ebd71a94c64e2e10e2d...   neutral\n",
      "3  https://74722d423bb59f5cdf5c135dd92ad3cd67e0f6...   neutral\n",
      "4  U.S. taxpayer money squirreled away in foreign...  negative\n"
     ]
    }
   ],
   "source": [
    "from transformers import AutoTokenizer, AutoModelForSequenceClassification, pipeline\n",
    "import tweetnlp\n",
    "\n",
    "# Step 1: Load the pretrained multilingual model and tokenizer\n",
    "model_path = \"../twitter-xlm-roberta-base-sentiment-multilingual\"\n",
    "tokenizer_multi = AutoTokenizer.from_pretrained(model_path)\n",
    "model_multi = AutoModelForSequenceClassification.from_pretrained(model_path)\n",
    "\n",
    "tokenizer_multi.model_max_length = min(tokenizer_multi.model_max_length, 512)\n",
    "\n",
    "# Step 2: Create the sentiment analysis pipeline\n",
    "sentiment_multi_pipeline = pipeline(\n",
    "    \"sentiment-analysis\",\n",
    "    model=model_multi,           \n",
    "    tokenizer=tokenizer_multi,   \n",
    "    device=0,\n",
    "    truncation=True,\n",
    "    padding=True,\n",
    ")\n",
    "\n",
    "# Step 3: Run batch sentiment analysis\n",
    "batch_size = 1000\n",
    "for start in range(0, len(tweets_small), batch_size):\n",
    "    end = start + batch_size\n",
    "    batch_texts = tweets_small[\"text\"].iloc[start:end].tolist()\n",
    "    results = sentiment_multi_pipeline(batch_texts)           \n",
    "    labels  = [res[\"label\"] for res in results]\n",
    "    tweets_small.loc[start:end-1, \"sentiment\"] = labels \n",
    "\n",
    "# Step 4: Preview results\n",
    "print(tweets_small[[\"text\", \"sentiment\"]].head())"
   ]
  },
  {
   "cell_type": "markdown",
   "id": "150bd823",
   "metadata": {},
   "source": [
    "To make the results easier to visualize, let's create a table that shows the percentage distribution of sentiment labels (positive, neutral, negative) within propagandist and non-propagandist tweets."
   ]
  },
  {
   "cell_type": "code",
   "execution_count": 15,
   "id": "340f9845",
   "metadata": {},
   "outputs": [
    {
     "name": "stdout",
     "output_type": "stream",
     "text": [
      "Multilingual Model Sentiment (%):\n",
      "            Non-propagandist  Propagandist\n",
      "sentiment                                \n",
      "negative          37.192216     37.389202\n",
      "neutral           50.198570     51.007252\n",
      "positive          12.609214     11.603546\n"
     ]
    }
   ],
   "source": [
    "multi_dist = pd.crosstab(tweets_small['sentiment'], tweets['labels'], normalize='columns') * 100\n",
    "multi_dist.columns = ['Non-propagandist', 'Propagandist']\n",
    "print(\"Multilingual Model Sentiment (%):\\n\", multi_dist)"
   ]
  },
  {
   "cell_type": "markdown",
   "id": "3e7981f6",
   "metadata": {},
   "source": [
    "The sentiment distribution between propagandist and non-propagandist tweets is quite similar when using the multilingual model. Both groups are predominantly neutral (around 50%), with roughly equal proportions of negative and positive sentiment. \n",
    "\n",
    "Now, let’s run a statistical test to see if there’s a meaningful difference in sentiment between propagandist and non-propagandist tweets. Specifically, we want to know: \n",
    "\n",
    "> *Are propagandist tweets more likely to be emotionally charged (positive or negative) than neutral, compared to non-propagandist tweets?*\n",
    "\n",
    "To answer this, we’ll use a **chi-squared test**, which helps us check whether the differences we see in the data are likely due to chance or if they’re statistically significant."
   ]
  },
  {
   "cell_type": "code",
   "execution_count": 17,
   "id": "a7001900",
   "metadata": {},
   "outputs": [
    {
     "name": "stdout",
     "output_type": "stream",
     "text": [
      "Chi-squared p-value with multilingual model: 3.727e-05\n"
     ]
    }
   ],
   "source": [
    "tweets_small['charged_multi'] = tweets_small['sentiment'].isin(['positive','negative']).astype(int)\n",
    "contingency_multi = pd.crosstab(tweets_small['labels'], tweets_small['charged_multi'])\n",
    "chi2_multi, p_multi, *_ = chi2_contingency(contingency_multi)\n",
    "print(f\"Chi-squared p-value with multilingual model: {p_multi:.3e}\")"
   ]
  },
  {
   "cell_type": "markdown",
   "id": "df793ddc",
   "metadata": {},
   "source": [
    "> ### 🔎 Engage Critically \n",
    "> Take a moment to interpret the results before continuing. What does our p-value tell us about our inital research question above?\n",
    "\n",
    "Our p-value (0.00003727) is much smaller than the common significance level of 0.05, indicating that the difference in how emotionally charged tweets are distributed between propagandist and non-propagandist groups is very unlikely to be due to random chance.\n",
    "\n",
    "This means there is strong evidence that propagandist tweets are more likely to be emotionally charged compared to non-propagandist tweets, according to the multilingual model’s sentiment analysis.\n"
   ]
  },
  {
   "cell_type": "markdown",
   "id": "887390ef",
   "metadata": {},
   "source": [
    "## 4. Introduction to Toxicity Analysis\n",
    "*Warning: this section contains examples of potentially offensive or profane text*"
   ]
  },
  {
   "cell_type": "markdown",
   "id": "09c3deb7",
   "metadata": {},
   "source": [
    "**Toxicity analysis** is another type of classification task that uses machine learning to detect whether a piece of text contains toxic speech. Jigsaw, a Google subsidary and leader in technological solutions for threats to civil society, uses the following definition for \"toxic speech\" proposed by Dixon et al. (2018):\n",
    "\n",
    "> ”[R]ude, disrespectful, or unreasonable language that\n",
    "is likely to make someone leave a discussion”\n",
    "\n",
    "> ### 🔎 Engage Critically \n",
    "> This definition is widely considered by the NLP community to be ill-defined and vague. Why do you think? What issues could potentially arise from this definition, and how could they impact (for example) a comment flagging tool that gives warnings to social media users whose comments meet this definition of toxic speech?\n",
    "\n",
    "A core issue defined by Berezin, Farahbakhsh, and Crespi (2023) is that the definition \"gives no quantitative measure of the toxicity and operates with highly subjective cultural terms\", yet still remains widely used by researchers and developers in the field. We'll explore some of the ways this definition is influencing toxicity analysis briefly below. \n",
    "\n",
    "### 4.1 Positive profanity\n",
    "\n",
    "![Fuck dude, nurses are the shit (Mauboussin, 2022)](/soci_270_bert_files/soci_270_images/toxicity_noscore_reddit_example.png \"Text: Fuck dude, nurses are the shit\")\n",
    "\n",
    "Consider the Reddit post above. Is the comment an example of toxic speech? Probably not, right? \n",
    "\n",
    "Now imagine you are Perspective API, Google's AI toxicity moderation tool, with your scope of \"toxic speech\" limited solely to the definition of ”rude, disrespectful, or unreasonable language that is likely to make someone leave a discussion”. Because of your architecture, you are limited in the way you can understand a message in context. You process the comment and immediately detect two profanities that meet your requirement for being rude language, and assign it a subsequent toxicity score:\n",
    "\n",
    "![Fuck dude, nurses are the shit with Toxicity Score (98.62%) (Mauboussin, 2022)](/soci_270_bert_files/soci_270_images/toxicity_reddit_example.png \"Fuck dude, nurses are the shit with Toxicity Score (98.62%)\")\n",
    "\n",
    "This is where, in the NLP community, there has been a growing discussion to ensure toxicity analysis tools, especially detectors used in online discussion and social media platforms, are more robust than simply being 'profanity detectors'. They must be able to interpret a word in context. \n",
    "\n",
    "### 4.2 In-group language\n",
    "\n",
    "Consider in-group words used by distinct communities. Many of these words, once used as derogatory slurs against a group of people (such as Black or LGBTQ+ folk), have now largely been reclaimed and are prevalent in the lexicons of individuals identifying within these communities, no longer considered offensive when used by the in-group. However, if human annotators label textual data that ML models then are trained on, biases can permeate the models and lead to the classification of non-toxic, in-group language as harmful or offensive. Notably, African-American Vernacular English (AAVE) has been found to be flagged as toxic due to linguistic bias. XX frames how the challenge impacts toxicity detectors well:\n",
    "\n",
    "> ### 🔎 Engage Critically \n",
    "> How do you think this challenge can impact toxicity detectors? Resende et al. (2024) underscore this tension, noting that:\n",
    ">\n",
    ">> ...[S]uch a fine line between causal speaking and offensive discourse is problematic from a human and computational perspective. In that case, these interpretations are confounding to automatic content moderation tools. In other words, toxicity/sentiment analysis tools are usually developed using manual rules or supervised ML techniques that employ human-labeled data to extract patterns. The disparate treatment embodied by machine learning\n",
    "models usually replicates discrimination patterns historically practiced by humans when interacting with processes in the real world. Due to biases in this process, a lack of context leads both rule-based and machine learning-based models to a concerning scenario where minorities do not receive equal treatment. \n",
    "> <br> *Resende et al., 2024, p. 2*\n",
    "\n",
    "Resende et al. (2024) also conducted a comparison analysis of toxicity models, including Google's Perspective API and Detoxify (the model we'll be using for our own analysis soon). \n",
    "\n",
    "![Comparing the Toxicity Scoring Models (Resende et al., 2024)](/soci_270_bert_files/soci_270_images/toxicity_aave_score_table.png \"Comparing the Toxicity Scoring Models\")\n",
    "\n",
    "This bias shown in this model's performance can come from many factors in its structure, from data provenance and annotation to model architecture and processing, to a combination of many. \n",
    "\n",
    "> ### 🔎 Engage Critically \n",
    "> If you could, what questions would you want to ask the people who build these models?\n",
    "\n",
    "--\n",
    "\n",
    "### Toxicity analysis using Detoxify\n",
    "\n",
    "The model we’ll be using is called **Detoxify** (you can read more about it [here](https://github.com/unitaryai/detoxify?tab=readme-ov-file)). It was trained on large datasets of online comments across seven languages, including English and Russian. Detoxify provides an overall **toxicity score** for each text and can also detect five specific subtypes of toxicity: `identity_attack`, `insult`, `obscene`, `sexual_explicit`, and `threat`.\n",
    "\n",
    "In the context of our dataset, propagandist tweets often aim to provoke strong emotions, spread hate, or stir conflict. Running toxicity analysis can help us investigate questions like:\n",
    "\n",
    "- *Are propagandist tweets more toxic than non-propagandist ones?*\n",
    "- *What types of toxic language are most common?*\n",
    "- *Are there patterns in how toxicity is used to influence or manipulate public discourse?*\n",
    "\n",
    "Toxicity analysis gives us another lens to understand how language and emotion are used in disinformation campaigns. Let’s begin by importing the necessary libraries and tools:"
   ]
  },
  {
   "cell_type": "code",
   "execution_count": 28,
   "id": "9569ab0c",
   "metadata": {},
   "outputs": [],
   "source": [
    "import pandas as pd\n",
    "import numpy as np\n",
    "from detoxify import Detoxify\n",
    "from scipy.stats import ttest_ind, chi2_contingency\n",
    "\n"
   ]
  },
  {
   "cell_type": "code",
   "execution_count": 29,
   "id": "cbba5a5f",
   "metadata": {},
   "outputs": [
    {
     "name": "stderr",
     "output_type": "stream",
     "text": [
      "Downloading: \"https://github.com/unitaryai/detoxify/releases/download/v0.1-alpha/toxic_original-c1212f89.ckpt\" to /scratch/st-lknelson-1/iberez01/my_jupyter/torch/hub/checkpoints/toxic_original-c1212f89.ckpt\n"
     ]
    },
    {
     "ename": "URLError",
     "evalue": "<urlopen error [Errno 113] No route to host>",
     "output_type": "error",
     "traceback": [
      "\u001b[31m---------------------------------------------------------------------------\u001b[39m",
      "\u001b[31mOSError\u001b[39m                                   Traceback (most recent call last)",
      "\u001b[36mFile \u001b[39m\u001b[32m/arc/project/st-lknelson-1/jupyter/praxis_ai_gpu/lib/python3.11/urllib/request.py:1348\u001b[39m, in \u001b[36mAbstractHTTPHandler.do_open\u001b[39m\u001b[34m(self, http_class, req, **http_conn_args)\u001b[39m\n\u001b[32m   1347\u001b[39m \u001b[38;5;28;01mtry\u001b[39;00m:\n\u001b[32m-> \u001b[39m\u001b[32m1348\u001b[39m     \u001b[43mh\u001b[49m\u001b[43m.\u001b[49m\u001b[43mrequest\u001b[49m\u001b[43m(\u001b[49m\u001b[43mreq\u001b[49m\u001b[43m.\u001b[49m\u001b[43mget_method\u001b[49m\u001b[43m(\u001b[49m\u001b[43m)\u001b[49m\u001b[43m,\u001b[49m\u001b[43m \u001b[49m\u001b[43mreq\u001b[49m\u001b[43m.\u001b[49m\u001b[43mselector\u001b[49m\u001b[43m,\u001b[49m\u001b[43m \u001b[49m\u001b[43mreq\u001b[49m\u001b[43m.\u001b[49m\u001b[43mdata\u001b[49m\u001b[43m,\u001b[49m\u001b[43m \u001b[49m\u001b[43mheaders\u001b[49m\u001b[43m,\u001b[49m\n\u001b[32m   1349\u001b[39m \u001b[43m              \u001b[49m\u001b[43mencode_chunked\u001b[49m\u001b[43m=\u001b[49m\u001b[43mreq\u001b[49m\u001b[43m.\u001b[49m\u001b[43mhas_header\u001b[49m\u001b[43m(\u001b[49m\u001b[33;43m'\u001b[39;49m\u001b[33;43mTransfer-encoding\u001b[39;49m\u001b[33;43m'\u001b[39;49m\u001b[43m)\u001b[49m\u001b[43m)\u001b[49m\n\u001b[32m   1350\u001b[39m \u001b[38;5;28;01mexcept\u001b[39;00m \u001b[38;5;167;01mOSError\u001b[39;00m \u001b[38;5;28;01mas\u001b[39;00m err: \u001b[38;5;66;03m# timeout error\u001b[39;00m\n",
      "\u001b[36mFile \u001b[39m\u001b[32m/arc/project/st-lknelson-1/jupyter/praxis_ai_gpu/lib/python3.11/http/client.py:1303\u001b[39m, in \u001b[36mHTTPConnection.request\u001b[39m\u001b[34m(self, method, url, body, headers, encode_chunked)\u001b[39m\n\u001b[32m   1302\u001b[39m \u001b[38;5;250m\u001b[39m\u001b[33;03m\"\"\"Send a complete request to the server.\"\"\"\u001b[39;00m\n\u001b[32m-> \u001b[39m\u001b[32m1303\u001b[39m \u001b[38;5;28;43mself\u001b[39;49m\u001b[43m.\u001b[49m\u001b[43m_send_request\u001b[49m\u001b[43m(\u001b[49m\u001b[43mmethod\u001b[49m\u001b[43m,\u001b[49m\u001b[43m \u001b[49m\u001b[43murl\u001b[49m\u001b[43m,\u001b[49m\u001b[43m \u001b[49m\u001b[43mbody\u001b[49m\u001b[43m,\u001b[49m\u001b[43m \u001b[49m\u001b[43mheaders\u001b[49m\u001b[43m,\u001b[49m\u001b[43m \u001b[49m\u001b[43mencode_chunked\u001b[49m\u001b[43m)\u001b[49m\n",
      "\u001b[36mFile \u001b[39m\u001b[32m/arc/project/st-lknelson-1/jupyter/praxis_ai_gpu/lib/python3.11/http/client.py:1349\u001b[39m, in \u001b[36mHTTPConnection._send_request\u001b[39m\u001b[34m(self, method, url, body, headers, encode_chunked)\u001b[39m\n\u001b[32m   1348\u001b[39m     body = _encode(body, \u001b[33m'\u001b[39m\u001b[33mbody\u001b[39m\u001b[33m'\u001b[39m)\n\u001b[32m-> \u001b[39m\u001b[32m1349\u001b[39m \u001b[38;5;28;43mself\u001b[39;49m\u001b[43m.\u001b[49m\u001b[43mendheaders\u001b[49m\u001b[43m(\u001b[49m\u001b[43mbody\u001b[49m\u001b[43m,\u001b[49m\u001b[43m \u001b[49m\u001b[43mencode_chunked\u001b[49m\u001b[43m=\u001b[49m\u001b[43mencode_chunked\u001b[49m\u001b[43m)\u001b[49m\n",
      "\u001b[36mFile \u001b[39m\u001b[32m/arc/project/st-lknelson-1/jupyter/praxis_ai_gpu/lib/python3.11/http/client.py:1298\u001b[39m, in \u001b[36mHTTPConnection.endheaders\u001b[39m\u001b[34m(self, message_body, encode_chunked)\u001b[39m\n\u001b[32m   1297\u001b[39m     \u001b[38;5;28;01mraise\u001b[39;00m CannotSendHeader()\n\u001b[32m-> \u001b[39m\u001b[32m1298\u001b[39m \u001b[38;5;28;43mself\u001b[39;49m\u001b[43m.\u001b[49m\u001b[43m_send_output\u001b[49m\u001b[43m(\u001b[49m\u001b[43mmessage_body\u001b[49m\u001b[43m,\u001b[49m\u001b[43m \u001b[49m\u001b[43mencode_chunked\u001b[49m\u001b[43m=\u001b[49m\u001b[43mencode_chunked\u001b[49m\u001b[43m)\u001b[49m\n",
      "\u001b[36mFile \u001b[39m\u001b[32m/arc/project/st-lknelson-1/jupyter/praxis_ai_gpu/lib/python3.11/http/client.py:1058\u001b[39m, in \u001b[36mHTTPConnection._send_output\u001b[39m\u001b[34m(self, message_body, encode_chunked)\u001b[39m\n\u001b[32m   1057\u001b[39m \u001b[38;5;28;01mdel\u001b[39;00m \u001b[38;5;28mself\u001b[39m._buffer[:]\n\u001b[32m-> \u001b[39m\u001b[32m1058\u001b[39m \u001b[38;5;28;43mself\u001b[39;49m\u001b[43m.\u001b[49m\u001b[43msend\u001b[49m\u001b[43m(\u001b[49m\u001b[43mmsg\u001b[49m\u001b[43m)\u001b[49m\n\u001b[32m   1060\u001b[39m \u001b[38;5;28;01mif\u001b[39;00m message_body \u001b[38;5;129;01mis\u001b[39;00m \u001b[38;5;129;01mnot\u001b[39;00m \u001b[38;5;28;01mNone\u001b[39;00m:\n\u001b[32m   1061\u001b[39m \n\u001b[32m   1062\u001b[39m     \u001b[38;5;66;03m# create a consistent interface to message_body\u001b[39;00m\n",
      "\u001b[36mFile \u001b[39m\u001b[32m/arc/project/st-lknelson-1/jupyter/praxis_ai_gpu/lib/python3.11/http/client.py:996\u001b[39m, in \u001b[36mHTTPConnection.send\u001b[39m\u001b[34m(self, data)\u001b[39m\n\u001b[32m    995\u001b[39m \u001b[38;5;28;01mif\u001b[39;00m \u001b[38;5;28mself\u001b[39m.auto_open:\n\u001b[32m--> \u001b[39m\u001b[32m996\u001b[39m     \u001b[38;5;28;43mself\u001b[39;49m\u001b[43m.\u001b[49m\u001b[43mconnect\u001b[49m\u001b[43m(\u001b[49m\u001b[43m)\u001b[49m\n\u001b[32m    997\u001b[39m \u001b[38;5;28;01melse\u001b[39;00m:\n",
      "\u001b[36mFile \u001b[39m\u001b[32m/arc/project/st-lknelson-1/jupyter/praxis_ai_gpu/lib/python3.11/http/client.py:1468\u001b[39m, in \u001b[36mHTTPSConnection.connect\u001b[39m\u001b[34m(self)\u001b[39m\n\u001b[32m   1466\u001b[39m \u001b[33m\"\u001b[39m\u001b[33mConnect to a host on a given (SSL) port.\u001b[39m\u001b[33m\"\u001b[39m\n\u001b[32m-> \u001b[39m\u001b[32m1468\u001b[39m \u001b[38;5;28;43msuper\u001b[39;49m\u001b[43m(\u001b[49m\u001b[43m)\u001b[49m\u001b[43m.\u001b[49m\u001b[43mconnect\u001b[49m\u001b[43m(\u001b[49m\u001b[43m)\u001b[49m\n\u001b[32m   1470\u001b[39m \u001b[38;5;28;01mif\u001b[39;00m \u001b[38;5;28mself\u001b[39m._tunnel_host:\n",
      "\u001b[36mFile \u001b[39m\u001b[32m/arc/project/st-lknelson-1/jupyter/praxis_ai_gpu/lib/python3.11/http/client.py:962\u001b[39m, in \u001b[36mHTTPConnection.connect\u001b[39m\u001b[34m(self)\u001b[39m\n\u001b[32m    961\u001b[39m sys.audit(\u001b[33m\"\u001b[39m\u001b[33mhttp.client.connect\u001b[39m\u001b[33m\"\u001b[39m, \u001b[38;5;28mself\u001b[39m, \u001b[38;5;28mself\u001b[39m.host, \u001b[38;5;28mself\u001b[39m.port)\n\u001b[32m--> \u001b[39m\u001b[32m962\u001b[39m \u001b[38;5;28mself\u001b[39m.sock = \u001b[38;5;28;43mself\u001b[39;49m\u001b[43m.\u001b[49m\u001b[43m_create_connection\u001b[49m\u001b[43m(\u001b[49m\n\u001b[32m    963\u001b[39m \u001b[43m    \u001b[49m\u001b[43m(\u001b[49m\u001b[38;5;28;43mself\u001b[39;49m\u001b[43m.\u001b[49m\u001b[43mhost\u001b[49m\u001b[43m,\u001b[49m\u001b[38;5;28;43mself\u001b[39;49m\u001b[43m.\u001b[49m\u001b[43mport\u001b[49m\u001b[43m)\u001b[49m\u001b[43m,\u001b[49m\u001b[43m \u001b[49m\u001b[38;5;28;43mself\u001b[39;49m\u001b[43m.\u001b[49m\u001b[43mtimeout\u001b[49m\u001b[43m,\u001b[49m\u001b[43m \u001b[49m\u001b[38;5;28;43mself\u001b[39;49m\u001b[43m.\u001b[49m\u001b[43msource_address\u001b[49m\u001b[43m)\u001b[49m\n\u001b[32m    964\u001b[39m \u001b[38;5;66;03m# Might fail in OSs that don't implement TCP_NODELAY\u001b[39;00m\n",
      "\u001b[36mFile \u001b[39m\u001b[32m/arc/project/st-lknelson-1/jupyter/praxis_ai_gpu/lib/python3.11/socket.py:863\u001b[39m, in \u001b[36mcreate_connection\u001b[39m\u001b[34m(address, timeout, source_address, all_errors)\u001b[39m\n\u001b[32m    862\u001b[39m \u001b[38;5;28;01mif\u001b[39;00m \u001b[38;5;129;01mnot\u001b[39;00m all_errors:\n\u001b[32m--> \u001b[39m\u001b[32m863\u001b[39m     \u001b[38;5;28;01mraise\u001b[39;00m exceptions[\u001b[32m0\u001b[39m]\n\u001b[32m    864\u001b[39m \u001b[38;5;28;01mraise\u001b[39;00m ExceptionGroup(\u001b[33m\"\u001b[39m\u001b[33mcreate_connection failed\u001b[39m\u001b[33m\"\u001b[39m, exceptions)\n",
      "\u001b[36mFile \u001b[39m\u001b[32m/arc/project/st-lknelson-1/jupyter/praxis_ai_gpu/lib/python3.11/socket.py:848\u001b[39m, in \u001b[36mcreate_connection\u001b[39m\u001b[34m(address, timeout, source_address, all_errors)\u001b[39m\n\u001b[32m    847\u001b[39m     sock.bind(source_address)\n\u001b[32m--> \u001b[39m\u001b[32m848\u001b[39m \u001b[43msock\u001b[49m\u001b[43m.\u001b[49m\u001b[43mconnect\u001b[49m\u001b[43m(\u001b[49m\u001b[43msa\u001b[49m\u001b[43m)\u001b[49m\n\u001b[32m    849\u001b[39m \u001b[38;5;66;03m# Break explicitly a reference cycle\u001b[39;00m\n",
      "\u001b[31mOSError\u001b[39m: [Errno 113] No route to host",
      "\nDuring handling of the above exception, another exception occurred:\n",
      "\u001b[31mURLError\u001b[39m                                  Traceback (most recent call last)",
      "\u001b[36mCell\u001b[39m\u001b[36m \u001b[39m\u001b[32mIn[29]\u001b[39m\u001b[32m, line 1\u001b[39m\n\u001b[32m----> \u001b[39m\u001b[32m1\u001b[39m detox = \u001b[43mDetoxify\u001b[49m\u001b[43m(\u001b[49m\u001b[33;43m\"\u001b[39;49m\u001b[33;43moriginal\u001b[39;49m\u001b[33;43m\"\u001b[39;49m\u001b[43m)\u001b[49m\n",
      "\u001b[36mFile \u001b[39m\u001b[32m/arc/project/st-lknelson-1/jupyter/praxis_ai_gpu/lib/python3.11/site-packages/detoxify/detoxify.py:104\u001b[39m, in \u001b[36mDetoxify.__init__\u001b[39m\u001b[34m(self, model_type, checkpoint, device, huggingface_config_path)\u001b[39m\n\u001b[32m    102\u001b[39m \u001b[38;5;28;01mdef\u001b[39;00m\u001b[38;5;250m \u001b[39m\u001b[34m__init__\u001b[39m(\u001b[38;5;28mself\u001b[39m, model_type=\u001b[33m\"\u001b[39m\u001b[33moriginal\u001b[39m\u001b[33m\"\u001b[39m, checkpoint=PRETRAINED_MODEL, device=\u001b[33m\"\u001b[39m\u001b[33mcpu\u001b[39m\u001b[33m\"\u001b[39m, huggingface_config_path=\u001b[38;5;28;01mNone\u001b[39;00m):\n\u001b[32m    103\u001b[39m     \u001b[38;5;28msuper\u001b[39m().\u001b[34m__init__\u001b[39m()\n\u001b[32m--> \u001b[39m\u001b[32m104\u001b[39m     \u001b[38;5;28mself\u001b[39m.model, \u001b[38;5;28mself\u001b[39m.tokenizer, \u001b[38;5;28mself\u001b[39m.class_names = \u001b[43mload_checkpoint\u001b[49m\u001b[43m(\u001b[49m\n\u001b[32m    105\u001b[39m \u001b[43m        \u001b[49m\u001b[43mmodel_type\u001b[49m\u001b[43m=\u001b[49m\u001b[43mmodel_type\u001b[49m\u001b[43m,\u001b[49m\n\u001b[32m    106\u001b[39m \u001b[43m        \u001b[49m\u001b[43mcheckpoint\u001b[49m\u001b[43m=\u001b[49m\u001b[43mcheckpoint\u001b[49m\u001b[43m,\u001b[49m\n\u001b[32m    107\u001b[39m \u001b[43m        \u001b[49m\u001b[43mdevice\u001b[49m\u001b[43m=\u001b[49m\u001b[43mdevice\u001b[49m\u001b[43m,\u001b[49m\n\u001b[32m    108\u001b[39m \u001b[43m        \u001b[49m\u001b[43mhuggingface_config_path\u001b[49m\u001b[43m=\u001b[49m\u001b[43mhuggingface_config_path\u001b[49m\u001b[43m,\u001b[49m\n\u001b[32m    109\u001b[39m \u001b[43m    \u001b[49m\u001b[43m)\u001b[49m\n\u001b[32m    110\u001b[39m     \u001b[38;5;28mself\u001b[39m.device = device\n\u001b[32m    111\u001b[39m     \u001b[38;5;28mself\u001b[39m.model.to(\u001b[38;5;28mself\u001b[39m.device)\n",
      "\u001b[36mFile \u001b[39m\u001b[32m/arc/project/st-lknelson-1/jupyter/praxis_ai_gpu/lib/python3.11/site-packages/detoxify/detoxify.py:41\u001b[39m, in \u001b[36mload_checkpoint\u001b[39m\u001b[34m(model_type, checkpoint, device, huggingface_config_path)\u001b[39m\n\u001b[32m     39\u001b[39m \u001b[38;5;28;01mif\u001b[39;00m checkpoint \u001b[38;5;129;01mis\u001b[39;00m \u001b[38;5;28;01mNone\u001b[39;00m:\n\u001b[32m     40\u001b[39m     checkpoint_path = MODEL_URLS[model_type]\n\u001b[32m---> \u001b[39m\u001b[32m41\u001b[39m     loaded = \u001b[43mtorch\u001b[49m\u001b[43m.\u001b[49m\u001b[43mhub\u001b[49m\u001b[43m.\u001b[49m\u001b[43mload_state_dict_from_url\u001b[49m\u001b[43m(\u001b[49m\u001b[43mcheckpoint_path\u001b[49m\u001b[43m,\u001b[49m\u001b[43m \u001b[49m\u001b[43mmap_location\u001b[49m\u001b[43m=\u001b[49m\u001b[43mdevice\u001b[49m\u001b[43m)\u001b[49m\n\u001b[32m     42\u001b[39m \u001b[38;5;28;01melse\u001b[39;00m:\n\u001b[32m     43\u001b[39m     loaded = torch.load(checkpoint, map_location=device)\n",
      "\u001b[36mFile \u001b[39m\u001b[32m/arc/project/st-lknelson-1/jupyter/praxis_ai_gpu/lib/python3.11/site-packages/torch/hub.py:867\u001b[39m, in \u001b[36mload_state_dict_from_url\u001b[39m\u001b[34m(url, model_dir, map_location, progress, check_hash, file_name, weights_only)\u001b[39m\n\u001b[32m    865\u001b[39m         r = HASH_REGEX.search(filename)  \u001b[38;5;66;03m# r is Optional[Match[str]]\u001b[39;00m\n\u001b[32m    866\u001b[39m         hash_prefix = r.group(\u001b[32m1\u001b[39m) \u001b[38;5;28;01mif\u001b[39;00m r \u001b[38;5;28;01melse\u001b[39;00m \u001b[38;5;28;01mNone\u001b[39;00m\n\u001b[32m--> \u001b[39m\u001b[32m867\u001b[39m     \u001b[43mdownload_url_to_file\u001b[49m\u001b[43m(\u001b[49m\u001b[43murl\u001b[49m\u001b[43m,\u001b[49m\u001b[43m \u001b[49m\u001b[43mcached_file\u001b[49m\u001b[43m,\u001b[49m\u001b[43m \u001b[49m\u001b[43mhash_prefix\u001b[49m\u001b[43m,\u001b[49m\u001b[43m \u001b[49m\u001b[43mprogress\u001b[49m\u001b[43m=\u001b[49m\u001b[43mprogress\u001b[49m\u001b[43m)\u001b[49m\n\u001b[32m    869\u001b[39m \u001b[38;5;28;01mif\u001b[39;00m _is_legacy_zip_format(cached_file):\n\u001b[32m    870\u001b[39m     \u001b[38;5;28;01mreturn\u001b[39;00m _legacy_zip_load(cached_file, model_dir, map_location, weights_only)\n",
      "\u001b[36mFile \u001b[39m\u001b[32m/arc/project/st-lknelson-1/jupyter/praxis_ai_gpu/lib/python3.11/site-packages/torch/hub.py:708\u001b[39m, in \u001b[36mdownload_url_to_file\u001b[39m\u001b[34m(url, dst, hash_prefix, progress)\u001b[39m\n\u001b[32m    706\u001b[39m file_size = \u001b[38;5;28;01mNone\u001b[39;00m\n\u001b[32m    707\u001b[39m req = Request(url, headers={\u001b[33m\"\u001b[39m\u001b[33mUser-Agent\u001b[39m\u001b[33m\"\u001b[39m: \u001b[33m\"\u001b[39m\u001b[33mtorch.hub\u001b[39m\u001b[33m\"\u001b[39m})\n\u001b[32m--> \u001b[39m\u001b[32m708\u001b[39m u = \u001b[43murlopen\u001b[49m\u001b[43m(\u001b[49m\u001b[43mreq\u001b[49m\u001b[43m)\u001b[49m\n\u001b[32m    709\u001b[39m meta = u.info()\n\u001b[32m    710\u001b[39m \u001b[38;5;28;01mif\u001b[39;00m \u001b[38;5;28mhasattr\u001b[39m(meta, \u001b[33m\"\u001b[39m\u001b[33mgetheaders\u001b[39m\u001b[33m\"\u001b[39m):\n",
      "\u001b[36mFile \u001b[39m\u001b[32m/arc/project/st-lknelson-1/jupyter/praxis_ai_gpu/lib/python3.11/urllib/request.py:216\u001b[39m, in \u001b[36murlopen\u001b[39m\u001b[34m(url, data, timeout, cafile, capath, cadefault, context)\u001b[39m\n\u001b[32m    214\u001b[39m \u001b[38;5;28;01melse\u001b[39;00m:\n\u001b[32m    215\u001b[39m     opener = _opener\n\u001b[32m--> \u001b[39m\u001b[32m216\u001b[39m \u001b[38;5;28;01mreturn\u001b[39;00m \u001b[43mopener\u001b[49m\u001b[43m.\u001b[49m\u001b[43mopen\u001b[49m\u001b[43m(\u001b[49m\u001b[43murl\u001b[49m\u001b[43m,\u001b[49m\u001b[43m \u001b[49m\u001b[43mdata\u001b[49m\u001b[43m,\u001b[49m\u001b[43m \u001b[49m\u001b[43mtimeout\u001b[49m\u001b[43m)\u001b[49m\n",
      "\u001b[36mFile \u001b[39m\u001b[32m/arc/project/st-lknelson-1/jupyter/praxis_ai_gpu/lib/python3.11/urllib/request.py:519\u001b[39m, in \u001b[36mOpenerDirector.open\u001b[39m\u001b[34m(self, fullurl, data, timeout)\u001b[39m\n\u001b[32m    516\u001b[39m     req = meth(req)\n\u001b[32m    518\u001b[39m sys.audit(\u001b[33m'\u001b[39m\u001b[33murllib.Request\u001b[39m\u001b[33m'\u001b[39m, req.full_url, req.data, req.headers, req.get_method())\n\u001b[32m--> \u001b[39m\u001b[32m519\u001b[39m response = \u001b[38;5;28;43mself\u001b[39;49m\u001b[43m.\u001b[49m\u001b[43m_open\u001b[49m\u001b[43m(\u001b[49m\u001b[43mreq\u001b[49m\u001b[43m,\u001b[49m\u001b[43m \u001b[49m\u001b[43mdata\u001b[49m\u001b[43m)\u001b[49m\n\u001b[32m    521\u001b[39m \u001b[38;5;66;03m# post-process response\u001b[39;00m\n\u001b[32m    522\u001b[39m meth_name = protocol+\u001b[33m\"\u001b[39m\u001b[33m_response\u001b[39m\u001b[33m\"\u001b[39m\n",
      "\u001b[36mFile \u001b[39m\u001b[32m/arc/project/st-lknelson-1/jupyter/praxis_ai_gpu/lib/python3.11/urllib/request.py:536\u001b[39m, in \u001b[36mOpenerDirector._open\u001b[39m\u001b[34m(self, req, data)\u001b[39m\n\u001b[32m    533\u001b[39m     \u001b[38;5;28;01mreturn\u001b[39;00m result\n\u001b[32m    535\u001b[39m protocol = req.type\n\u001b[32m--> \u001b[39m\u001b[32m536\u001b[39m result = \u001b[38;5;28;43mself\u001b[39;49m\u001b[43m.\u001b[49m\u001b[43m_call_chain\u001b[49m\u001b[43m(\u001b[49m\u001b[38;5;28;43mself\u001b[39;49m\u001b[43m.\u001b[49m\u001b[43mhandle_open\u001b[49m\u001b[43m,\u001b[49m\u001b[43m \u001b[49m\u001b[43mprotocol\u001b[49m\u001b[43m,\u001b[49m\u001b[43m \u001b[49m\u001b[43mprotocol\u001b[49m\u001b[43m \u001b[49m\u001b[43m+\u001b[49m\n\u001b[32m    537\u001b[39m \u001b[43m                          \u001b[49m\u001b[33;43m'\u001b[39;49m\u001b[33;43m_open\u001b[39;49m\u001b[33;43m'\u001b[39;49m\u001b[43m,\u001b[49m\u001b[43m \u001b[49m\u001b[43mreq\u001b[49m\u001b[43m)\u001b[49m\n\u001b[32m    538\u001b[39m \u001b[38;5;28;01mif\u001b[39;00m result:\n\u001b[32m    539\u001b[39m     \u001b[38;5;28;01mreturn\u001b[39;00m result\n",
      "\u001b[36mFile \u001b[39m\u001b[32m/arc/project/st-lknelson-1/jupyter/praxis_ai_gpu/lib/python3.11/urllib/request.py:496\u001b[39m, in \u001b[36mOpenerDirector._call_chain\u001b[39m\u001b[34m(self, chain, kind, meth_name, *args)\u001b[39m\n\u001b[32m    494\u001b[39m \u001b[38;5;28;01mfor\u001b[39;00m handler \u001b[38;5;129;01min\u001b[39;00m handlers:\n\u001b[32m    495\u001b[39m     func = \u001b[38;5;28mgetattr\u001b[39m(handler, meth_name)\n\u001b[32m--> \u001b[39m\u001b[32m496\u001b[39m     result = \u001b[43mfunc\u001b[49m\u001b[43m(\u001b[49m\u001b[43m*\u001b[49m\u001b[43margs\u001b[49m\u001b[43m)\u001b[49m\n\u001b[32m    497\u001b[39m     \u001b[38;5;28;01mif\u001b[39;00m result \u001b[38;5;129;01mis\u001b[39;00m \u001b[38;5;129;01mnot\u001b[39;00m \u001b[38;5;28;01mNone\u001b[39;00m:\n\u001b[32m    498\u001b[39m         \u001b[38;5;28;01mreturn\u001b[39;00m result\n",
      "\u001b[36mFile \u001b[39m\u001b[32m/arc/project/st-lknelson-1/jupyter/praxis_ai_gpu/lib/python3.11/urllib/request.py:1391\u001b[39m, in \u001b[36mHTTPSHandler.https_open\u001b[39m\u001b[34m(self, req)\u001b[39m\n\u001b[32m   1390\u001b[39m \u001b[38;5;28;01mdef\u001b[39;00m\u001b[38;5;250m \u001b[39m\u001b[34mhttps_open\u001b[39m(\u001b[38;5;28mself\u001b[39m, req):\n\u001b[32m-> \u001b[39m\u001b[32m1391\u001b[39m     \u001b[38;5;28;01mreturn\u001b[39;00m \u001b[38;5;28;43mself\u001b[39;49m\u001b[43m.\u001b[49m\u001b[43mdo_open\u001b[49m\u001b[43m(\u001b[49m\u001b[43mhttp\u001b[49m\u001b[43m.\u001b[49m\u001b[43mclient\u001b[49m\u001b[43m.\u001b[49m\u001b[43mHTTPSConnection\u001b[49m\u001b[43m,\u001b[49m\u001b[43m \u001b[49m\u001b[43mreq\u001b[49m\u001b[43m,\u001b[49m\n\u001b[32m   1392\u001b[39m \u001b[43m        \u001b[49m\u001b[43mcontext\u001b[49m\u001b[43m=\u001b[49m\u001b[38;5;28;43mself\u001b[39;49m\u001b[43m.\u001b[49m\u001b[43m_context\u001b[49m\u001b[43m,\u001b[49m\u001b[43m \u001b[49m\u001b[43mcheck_hostname\u001b[49m\u001b[43m=\u001b[49m\u001b[38;5;28;43mself\u001b[39;49m\u001b[43m.\u001b[49m\u001b[43m_check_hostname\u001b[49m\u001b[43m)\u001b[49m\n",
      "\u001b[36mFile \u001b[39m\u001b[32m/arc/project/st-lknelson-1/jupyter/praxis_ai_gpu/lib/python3.11/urllib/request.py:1351\u001b[39m, in \u001b[36mAbstractHTTPHandler.do_open\u001b[39m\u001b[34m(self, http_class, req, **http_conn_args)\u001b[39m\n\u001b[32m   1348\u001b[39m         h.request(req.get_method(), req.selector, req.data, headers,\n\u001b[32m   1349\u001b[39m                   encode_chunked=req.has_header(\u001b[33m'\u001b[39m\u001b[33mTransfer-encoding\u001b[39m\u001b[33m'\u001b[39m))\n\u001b[32m   1350\u001b[39m     \u001b[38;5;28;01mexcept\u001b[39;00m \u001b[38;5;167;01mOSError\u001b[39;00m \u001b[38;5;28;01mas\u001b[39;00m err: \u001b[38;5;66;03m# timeout error\u001b[39;00m\n\u001b[32m-> \u001b[39m\u001b[32m1351\u001b[39m         \u001b[38;5;28;01mraise\u001b[39;00m URLError(err)\n\u001b[32m   1352\u001b[39m     r = h.getresponse()\n\u001b[32m   1353\u001b[39m \u001b[38;5;28;01mexcept\u001b[39;00m:\n",
      "\u001b[31mURLError\u001b[39m: <urlopen error [Errno 113] No route to host>"
     ]
    }
   ],
   "source": [
    "detox = Detoxify(\"original\")"
   ]
  }
 ],
 "metadata": {
  "kernelspec": {
   "display_name": "Python (jupyter-env)",
   "language": "python",
   "name": "jupyter-env"
  },
  "language_info": {
   "codemirror_mode": {
    "name": "ipython",
    "version": 3
   },
   "file_extension": ".py",
   "mimetype": "text/x-python",
   "name": "python",
   "nbconvert_exporter": "python",
   "pygments_lexer": "ipython3",
   "version": "3.9.6"
  }
 },
 "nbformat": 4,
 "nbformat_minor": 5
}
